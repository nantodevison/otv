{
 "cells": [
  {
   "cell_type": "markdown",
   "metadata": {},
   "source": [
    "# ***IMPORT DES DONNEES DE COMPTAGES***\n",
    "> il y a un exemple de verification si doublons de point dans le 17, 47, 87"
   ]
  },
  {
   "cell_type": "code",
   "execution_count": 49,
   "metadata": {},
   "outputs": [
    {
     "name": "stdout",
     "output_type": "stream",
     "text": [
      "The autoreload extension is already loaded. To reload it, use:\n",
      "  %reload_ext autoreload\n"
     ]
    }
   ],
   "source": [
    "%load_ext autoreload\n",
    "%autoreload 2\n",
    "import sys\n",
    "sys.path.append(r'C:\\Users\\martin.schoreisz\\git\\otv\\otv\\Transfert_Donnees')\n",
    "sys.path.append(r'C:\\Users\\martin.schoreisz\\git\\Outils\\Outils\\Martin_Perso')\n",
    "import pandas as pd\n",
    "import geopandas as gp\n",
    "import numpy as np\n",
    "import csv, re, os, statistics, filecmp, unidecode\n",
    "import Connexion_Transfert as ct\n",
    "import Import_trafics as it\n",
    "import Outils\n",
    "from Decorateurs import concat_df\n",
    "from collections import Counter\n",
    "from shapely.geometry import Point,LineString, MultiLineString\n",
    "from shapely.ops import transform\n",
    "from geoalchemy2 import Geometry, WKTElement\n",
    "from Base_BdTopo import Import_outils as io\n",
    "\n",
    "from Base_BdTopo import Rond_points as rp\n",
    "from Base_BdTopo import Regroupement_correspondance as rc\n",
    "from sqlalchemy.schema import MetaData\n",
    "from sqlalchemy import inspect\n",
    "from statistics import mean\n",
    "from itertools import combinations\n",
    "\n",
    "from sklearn.cluster import DBSCAN\n",
    "import pyproj\n",
    "from shapely.ops import transform\n",
    "\n",
    "pd.set_option('display.max_columns', 100)\n",
    "pd.set_option('display.max_colwidth', 50)"
   ]
  },
  {
   "cell_type": "markdown",
   "metadata": {},
   "source": [
    "# ***CD 23***\n",
    "- Année 2019 : \n",
    "> ***attention : pour le point de comptage D941 6+152 à Aubusson, le pR est 32 et non 6. il faut donc corriger à la main le fihcier excel***\n",
    "<br> Pour le moment tous les points sont déjà dans  la base, dc pas de traitement de type insert prévus."
   ]
  },
  {
   "cell_type": "code",
   "execution_count": null,
   "metadata": {},
   "outputs": [],
   "source": [
    "#initiliser les données\n",
    "cd23=it.Comptage_cd23(r'Q:\\DAIT\\TI\\DREAL33\\2020\\OTV\\Doc_travail\\Donnees_source\\CD23\\2019-CD23_trafics.xls',2019)\n",
    "df_propre=cd23.ouvrirMiseEnForme()\n",
    "cd23.classer_comptage_update_insert('gti_otv_pg11', 'na_2010_2019_p')\n",
    "cd23.update_bdd_23('gti_otv_pg11','comptage', 'na_2010_2019_p')\n",
    "cd23.donneesMens()\n",
    "cd23.insert_bdd('gti_otv_pg11','comptage', 'na_2010_2019_mensuel',cd23.df_attr_mensuel)"
   ]
  },
  {
   "cell_type": "markdown",
   "metadata": {},
   "source": [
    "# ***CD 40***\n",
    "> 2019 : creation de la classe Comtage_cd40"
   ]
  },
  {
   "cell_type": "code",
   "execution_count": null,
   "metadata": {},
   "outputs": [],
   "source": [
    "#initialiser\n",
    "cd40=it.Comptage_cd40(r'D:\\temp\\otv\\2019\\Donnees_source\\CD40\\Observatoire des trafics')\n",
    "#mettre enf orme\n",
    "cd40.comptage_forme()\n",
    "cd40.classer_comptage_insert_update('local_otv_station_gti', 'na_2010_2019_p', 'comptage')\n",
    "#transfert donnees_agregees\n",
    "cd40.update_bdd_40('local_otv_station_gti', 'comptage', 'na_2010_2019_p')\n",
    "#donnees_mensuelles\n",
    "#cd40.insert_bdd('local_otv_station_gti', 'comptage', 'na_2010_2019_mensuel',cd40.df_attr_mens)"
   ]
  },
  {
   "cell_type": "markdown",
   "metadata": {},
   "source": [
    "# ***CD17***"
   ]
  },
  {
   "cell_type": "markdown",
   "metadata": {},
   "source": [
    "> ### Année 2015 : traitée dans le fichier Import_trafics.py"
   ]
  },
  {
   "cell_type": "markdown",
   "metadata": {},
   "source": [
    "> ### année 2016 données issue des borchures de comptage, uniquemnet pour ponctuels"
   ]
  },
  {
   "cell_type": "code",
   "execution_count": null,
   "metadata": {},
   "outputs": [],
   "source": [
    "#ouverture du fichier\n",
    "cpt17=it.Comptage_cd17(r'Q:\\DAIT\\TI\\DREAL33\\2019\\C19SA0035_OTR-NA\\Doc_travail\\Donnees_produites\\donnnees_travail\\Comptage\\17\\cpt_pctuel_but_2016.txt',\n",
    "                       'brochure',2016)\n",
    "\n",
    "#mettre à jour les id_comptage deja presents (attention, update Bdd à changé, il faut passer par creer_valeur_txt_update avant et certains paramètres ont changé)\n",
    "cpt17.mises_forme_bdd('gti_otv', 'comptage', 'na_2010_2017_p', '17','ponctuel') #creer les attributs selon les donnees presentes dans la base\n",
    "cpt17.update_bdd('gti_otv', 'comptage', 'na_2010_2017_p')#mise à jour\n",
    "\n",
    "#creer referentiel si besoin\n",
    "with ct.ConnexionBdd('gti_otv') as c:\n",
    "    ct.ogr2ogr_shp2pg(c.connstringOgr, r'Y:\\REF_GEO\\BD_Topo\\D17\\ED16\\SHP\\1_DONNEES_LIVRAISON\\N_TRONCON_ROUTE_BDT_017.SHP',\n",
    "                     schema='referentiel',table='troncon_route_bdt17_ed16_l',geotype='MULTILINESTRING', dims=2, encodageClient='LATIN1' )\n",
    "#creer graph\n",
    "rqt=\"\"\"\n",
    "alter table referentiel.troncon_route_bdt17_ed16_l add column source integer , add column target integer ;\n",
    "select pgr_createTopology ('referentiel.troncon_route_bdt17_ed16_l',1,'geom', 'ogc_fid') ;\n",
    "ALTER TABLE referentiel.troncon_route_bdt17_ed16_l  RENAME COLUMN id TO id_ign;\n",
    "ALTER TABLE referentiel.troncon_route_bdt17_ed16_l  RENAME COLUMN ogc_fid TO id;\n",
    "alter table referentiel.troncon_route_bdt17_ed16_l add column long_km numeric ;\n",
    "update referentiel.troncon_route_bdt17_ed16_l set long_km=(st_length(geom)/1000) ;\n",
    "\"\"\" #attention, il manque la ligne au dessus pour créer l'analyseGraph qui va renvoyer le nb de count\n",
    "with ct.ConnexionBdd('gti_otv') as c:\n",
    "    c.sqlAlchemyConn.execute(rqt)\n",
    "\n",
    "#inserer les nouveaux comptages\n",
    "with ct.ConnexionBdd('gti_otv') as c:\n",
    "    cpt17.df_attr_insert.to_sql('na_2010_2017_p',c.sqlAlchemyConn,schema='comptage',if_exists='append', index=False )\n",
    "\n",
    "#mettre à jour la geom \n",
    "rqt=\"\"\" update comptage.na_2010_2017_p\n",
    "  set geom=(select geom_out  from comptage.geoloc_pt_comptag(id_comptag))\n",
    "  where dep='17' and geom is null\n",
    "\"\"\"\n",
    "with ct.ConnexionBdd('gti_otv') as c:\n",
    "    c.sqlAlchemyConn.execute(rqt)"
   ]
  },
  {
   "cell_type": "markdown",
   "metadata": {},
   "source": [
    "> ### fichier compteurs permanents format csv annee 2017 ou 2018"
   ]
  },
  {
   "cell_type": "code",
   "execution_count": null,
   "metadata": {},
   "outputs": [],
   "source": [
    "cpt_perm=it.Comptage_cd17(r'Q:\\DAIT\\TI\\DREAL33\\2019\\C19SA0035_OTR-NA\\Doc_travail\\Donnees_source\\CD17\\2018_csv_permanents_CD17.csv',\n",
    "                         'permanent_csv',2018)\n",
    "\n",
    "cpt_perm.mises_forme_bdd('gti_otv', 'comptage', 'na_2010_2018_p', '17','permanent')\n",
    "\n",
    "#miettre à jour les données deja existantes\n",
    "cpt_perm.update_bdd('gti_otv', 'comptage', 'na_2010_2018_p')#mise à jour\n",
    "\n",
    "#inseérer les données nouvelles\n",
    "cpt_perm.insert_bdd('gti_otv', 'comptage', 'na_2010_2018_p')\n",
    "#mettre à jour la geom \n",
    "cpt_perm.maj_geom('gti_otv', 'comptage', 'na_2010_2018_p', '17')\n",
    "\n",
    "# pour les données mensuelles\n",
    "cpt_perm.insert_bdd_mens('gti_otv', 'comptage','na_2010_2018_mensuel')"
   ]
  },
  {
   "cell_type": "markdown",
   "metadata": {},
   "source": [
    "> ### annee 2018 ; fichier compteurs tournant format excel issu des donnees pour brochure"
   ]
  },
  {
   "cell_type": "code",
   "execution_count": null,
   "metadata": {},
   "outputs": [],
   "source": [
    "#initiliser la classe avec le fichier\n",
    "bdd='gti_otv_pg11'\n",
    "cpt_cd17=it.Comptage_cd17(r'Q:\\DAIT\\TI\\DREAL33\\2019\\C19SA0035_OTR-NA\\Doc_travail\\Donnees_source\\CD17\\Brochure 2018 CD17 DREAL\\10  5 1 B3 tournants recalculés.xls',\n",
    "                      'tournant_xls_bochure',2018)\n",
    "\n",
    "#mise en forme des données\n",
    "cpt_cd17.comptag_existant_bdd(bdd, 'na_2010_2018_p', dep='17')\n",
    "donnees=cpt_cd17.ouvrir_xls_tournant_brochure()\n",
    "cpt_cd17.conversion_id_comptg_existant_xls_brochure(bdd)\n",
    "cpt_cd17.carac_xls_brochure()\n",
    "\n",
    "#mise à jour des données\n",
    "val_txt=cpt_cd17.creer_valeur_txt_update(cpt_cd17.df_attr_update, ['id_comptag','tmja_2018','tmja_2017'])\n",
    "cpt_cd17.update_bdd(bdd, 'comptage', 'na_2010_2018_p', val_txt,{'tmja_2018':'tmja_2018','tmja_2017':'tmja_2017'})"
   ]
  },
  {
   "cell_type": "markdown",
   "metadata": {},
   "source": [
    "### annee 2017-2018 ; fichier ponctuel excel qui alimente des brochures"
   ]
  },
  {
   "cell_type": "code",
   "execution_count": null,
   "metadata": {},
   "outputs": [],
   "source": [
    "#ouvrir le fichier et initialisation\n",
    "cpt_pct2018_cd17=it.Comptage_cd17(r'Q:\\DAIT\\TI\\DREAL33\\2019\\C19SA0035_OTR-NA\\Doc_travail\\Donnees_source\\CD17\\Brochure 2018 CD17 DREAL\\spécifique Brochure V85_2018 .xls',\n",
    "                      'ponctuel_xls_bochure',2018)\n",
    "bdd='gti_otv_pg11'\n",
    "#mise en forme\n",
    "cpt_pct2018_cd17.comptag_existant_bdd(bdd, 'na_2010_2018_p', dep='17')\n",
    "cpt_pct2018_cd17.conversion_id_comptg_existant_xls_brochure(bdd)\n",
    "cpt_pct2018_cd17.filtrer_periode_ponctuels_xls_brochure()\n",
    "cpt_pct2018_cd17.carac_xls_brochure()\n",
    "\n",
    "#mise à jour des données\n",
    "val_txt=cpt_pct2018_cd17.creer_valeur_txt_update(cpt_pct2018_cd17.df_attr_update, ['id_comptag','tmja','pc_pl','obs'])\n",
    "cpt_pct2018_cd17.update_bdd(bdd, 'comptage', 'na_2010_2018_p', val_txt,{'tmja_2018':'tmja','pc_pl_2018':'pc_pl', 'obs_2018':'obs'})"
   ]
  },
  {
   "cell_type": "code",
   "execution_count": null,
   "metadata": {},
   "outputs": [],
   "source": [
    "#trouver les points de comptages a inserer situe sur le même troncon elementaires que d'autres points\n",
    "table_corresp=cpt_pct2018_cd17.correspondance_ancien_nouveau_comptage(bdd,'public','cd17_tournant_insert','lineaire.traf2016_bdt17_ed16_l',\n",
    "                                                    'public', 'traf2016_bdt17_ed16_l','traf2016_bdt17_ed16_l_vertices_pgr')\n",
    "\n",
    "#si le point fait partie de la table_corresp, on insère pas, sinon on insère\n",
    "pt_a_inserer=cpt_pct2018_cd17.df_attr_insert.loc[~cpt_pct2018_cd17.df_attr_insert.id_comptag.isin(table_corresp.id_comptag.tolist())].copy()\n",
    "#mise en form avant insertion\n",
    "pt_a_inserer['dep']='17'\n",
    "pt_a_inserer['route']=pt_a_inserer.id_comptag.apply(lambda x : x.split('-')[1])\n",
    "pt_a_inserer.rename(columns={'absc':'abs','tmja':'tmja_2018','pc_pl':'pc_pl_2018','obs':'obs_2018'},inplace=True)\n",
    "pt_a_inserer['reseau']='RD'\n",
    "pt_a_inserer['gestionnai']='CD17'\n",
    "pt_a_inserer['concession']='N'\n",
    "pt_a_inserer['type_poste']='ponctuel'\n",
    "pt_a_inserer=pt_a_inserer[['id_comptag','dep','route','pr','abs','reseau','gestionnai','concession','type_poste','tmja_2018','pc_pl_2018','obs_2018']].copy()\n",
    "#si plusieurs fois le mm point on garde la valeur max\n",
    "pt_a_inserer=pt_a_inserer.loc[pt_a_inserer.tmja_2018==pt_a_inserer.groupby('id_comptag').tmja_2018.transform(max)].copy()\n",
    "\n",
    "cpt_pct2018_cd17.insert_bdd(bdd, 'comptage', 'na_2010_2018_p', pt_a_inserer)\n",
    "cpt_pct2018_cd17.maj_geom(bdd, 'comptage', 'na_2010_2018_p', dep='17')"
   ]
  },
  {
   "cell_type": "markdown",
   "metadata": {},
   "source": [
    "# ***CD19***\n",
    "> 2019 : creation de la classe Comptage_cd19"
   ]
  },
  {
   "cell_type": "code",
   "execution_count": null,
   "metadata": {},
   "outputs": [],
   "source": [
    "cd19=it.Comptage_cd19(r'D:\\temp\\otv\\2019\\Donnees_source\\CD19\\2019_Recensement_trafic.xls',2019)\n",
    "cd19.comptage_forme()"
   ]
  },
  {
   "cell_type": "code",
   "execution_count": null,
   "metadata": {},
   "outputs": [],
   "source": [
    "#correspondance existant\n",
    "cd19.classer_comptage_update_insert('local_otv_station_gti','na_2010_2019_p','comptage',\n",
    "                                       'public','cd19_cpt','referentiel.troncon_route_bdt19_ed17_l',\n",
    "                                        'referentiel', 'troncon_route_bdt19_ed17_l','troncon_route_bdt19_ed17_l_vertices_pgr','id')"
   ]
  },
  {
   "cell_type": "code",
   "execution_count": null,
   "metadata": {},
   "outputs": [],
   "source": [
    "#maj existant\n",
    "cd19.update_bdd_19('local_otv_station_gti','comptage','na_2010_2019_p')"
   ]
  },
  {
   "cell_type": "markdown",
   "metadata": {},
   "source": [
    "# ***CD47***\n",
    "> Annee des trafics 2018, fichiers : Q:\\DAIT\\TI\\DREAL33\\2019\\C19SA0035_OTR-NA\\Doc_travail\\Donnees_source\\CD47\\comptages_CD47_2018\\COMPTAGES 2018\n",
    "les fichiers sont decomposes en permanents tournants temporaires, il faut recomposer les donnees"
   ]
  },
  {
   "cell_type": "code",
   "execution_count": null,
   "metadata": {},
   "outputs": [],
   "source": [
    "#initialiser un objet\n",
    "cpt47=it.Comptage_cd47(r'Q:\\DAIT\\TI\\DREAL33\\2019\\C19SA0035_OTR-NA\\Doc_travail\\Donnees_source\\CD47\\comptages_CD47_2018\\COMPTAGES 2018','TRAFICS PERMANENTS')\n",
    "#calculer les attributs de comptages : df_attr, df_attr_insert et df_attr_update, en prenant en compte les comptages existants\n",
    "cpt47.classer_comptage_update_insert('gti_otv_pg11')"
   ]
  },
  {
   "cell_type": "code",
   "execution_count": null,
   "metadata": {},
   "outputs": [],
   "source": [
    "#mise à jour des données déjà présentes dansla base\n",
    "val_txt=cpt47.creer_valeur_txt_update(cpt47.df_attr_update, ['id_comptag','tmja','pc_pl'])\n",
    "cpt47.update_bdd(bdd, 'comptage', 'na_2010_2018_p', val_txt,{'tmja_2018':'tmja','pc_pl_2018':'pc_pl'})"
   ]
  },
  {
   "cell_type": "code",
   "execution_count": null,
   "metadata": {},
   "outputs": [],
   "source": [
    "#traitement des données non présentes (df_attr_insert)\n",
    "#recherche de correspondance pour les permanents et tournants\n",
    "dico_corresp=cpt47.corresp_old_new_comptag('gti_otv_pg11', 'public','cpt47_temp','lineaire.traf2017_bdt47_ed17_l',\n",
    "                            'referentiel', 'troncon_route_bdt47_ed17_l','troncon_route_bdt47_ed17_l_vertices_pgr','id')"
   ]
  },
  {
   "cell_type": "code",
   "execution_count": null,
   "metadata": {},
   "outputs": [],
   "source": [
    "#filtre des données df_attr_insert selon l'id_comptag present dans le dico_corresp\n",
    "cpt47.df_attr_insert=cpt47.df_attr_insert.loc[~cpt47.df_attr_insert.id_comptag.isin(df_correspondance.id_comptag.to_list())].copy()\n",
    "# POUR INFO, l'id_comptag présent dan sle dico_corresp a été transférer à la main dans l table comptage.corresp_id_comptag\n",
    "#mettre en forme les attributs avant insert\n",
    "cpt47.mise_en_forme_insert('2018')\n",
    "#inserer les donnes dans la table\n",
    "cpt47.insert_bdd('gti_otv_pg11', 'comptage', 'na_2010_2018_p', cpt47.df_attr_insert)"
   ]
  },
  {
   "cell_type": "code",
   "execution_count": null,
   "metadata": {},
   "outputs": [],
   "source": [
    "#mettre à jour la géométrie\n",
    "cpt47.maj_geom('gti_otv_pg11', 'comptage', 'na_2010_2018_p', '47')"
   ]
  },
  {
   "cell_type": "markdown",
   "metadata": {},
   "source": [
    "> ## **2019**"
   ]
  },
  {
   "cell_type": "code",
   "execution_count": null,
   "metadata": {},
   "outputs": [],
   "source": [
    "cpt47=it.Comptage_cd47(r'D:\\temp\\otv\\2019\\Donnees_source\\CD47','TRAFICS PERIODIQUES',2019)\n",
    "#calculer les attributs de comptages : df_attr, df_attr_insert et df_attr_update, en prenant en compte les comptages existants, mais ans recherche des équivalences avec les anciens comptage snon recensées\n",
    "cpt47.classer_comptage_update_insert('local_otv_station_gti')"
   ]
  },
  {
   "cell_type": "code",
   "execution_count": null,
   "metadata": {},
   "outputs": [],
   "source": [
    "#qq points tournants non connus\n",
    "cpt47.df_attr_insert.loc[cpt47.df_attr_insert['type_poste'].isin(['permanent','tournant'])]\n",
    "#filtrer les 2 points bizarres\n",
    "cpt47.df_attr=cpt47.df_attr.loc[cpt47.df_attr.id_comptag.apply(lambda x : x[:4]=='47-D')].copy()\n",
    "cpt47.df_attr_insert=cpt47.df_attr_insert.loc[cpt47.df_attr_insert.id_comptag.apply(lambda x : x[:4]=='47-D')].copy()\n",
    "cpt47.df_attr_update=cpt47.df_attr_update.loc[cpt47.df_attr_update.id_comptag.apply(lambda x : x[:4]=='47-D')].copy()"
   ]
  },
  {
   "cell_type": "code",
   "execution_count": null,
   "metadata": {},
   "outputs": [],
   "source": [
    "#obtention dico de correspondance\n",
    "dico_corresp=cpt47.corresp_old_new_comptag('local_otv_station_gti', 'public','cpt47_temp','referentiel.troncon_route_bdt47_ed17_l',\n",
    "                            'referentiel', 'troncon_route_bdt47_ed17_l','troncon_route_bdt47_ed17_l_vertices_pgr','id')\n",
    "#insertion dans bdd\n",
    "cpt47.insert_bdd('local_otv_station_gti','comptage','corresp_id_comptag',dico_corresp[['id_comptag','id_comptag_lin']].rename(columns={'id_comptag':'id_gest','id_comptag_lin':'id_gti'}))\n",
    "#calcul nouveau id_comptag\n",
    "cpt47.comptag_existant_bdd('local_otv_station_gti',schema='comptage', table='na_2010_2019_p',dep='47', type_poste=False)\n",
    "cpt47.corresp_nom_id_comptag('local_otv_station_gti',cpt47.df_attr)\n",
    "cpt47.df_attr_update=cpt47.df_attr.loc[cpt47.df_attr.id_comptag.isin(cpt47.existant.id_comptag.tolist())].copy()\n",
    "cpt47.df_attr_insert=cpt47.df_attr.loc[~cpt47.df_attr.id_comptag.isin(cpt47.existant.id_comptag.tolist())].copy()"
   ]
  },
  {
   "cell_type": "code",
   "execution_count": null,
   "metadata": {},
   "outputs": [],
   "source": [
    "#mise a jour\n",
    "cpt47.update_bdd_47('local_otv_station_gti','comptage', 'na_2010_2019_p',cpt47.df_attr_update)"
   ]
  },
  {
   "cell_type": "code",
   "execution_count": null,
   "metadata": {},
   "outputs": [],
   "source": [
    "#donnees a inserer\n",
    "cpt47.mise_en_forme_insert()\n",
    "cpt47.insert_bdd('local_otv_station_gti','comptage', 'na_2010_2019_p', cpt47.df_attr_insert)\n",
    "cpt47.maj_geom('local_otv_station_gti','comptage', 'na_2010_2019_p', '47')\n",
    "cpt47.insert_bdd('local_otv_station_gti','comptage', 'na_2010_2019_mensuel', cpt47.df_attr_mens)\n",
    "cpt47.insert_bdd('local_otv_station_gti','comptage', 'na_2010_2019_horaire', cpt47.df_attr_horaire)"
   ]
  },
  {
   "cell_type": "markdown",
   "metadata": {},
   "source": [
    "# ***CD87***\n",
    "> Dans ce Departement les donnees sont fournies en fichiers .fim. il vaut recalculer les valeusr de comptages <br> Q:\\DAIT\\TI\\DREAL33\\2019\\C19SA0035_OTR-NA\\Doc_travail\\Donnees_source\\CD87\\Fichiers FIM 87 -2018"
   ]
  },
  {
   "cell_type": "markdown",
   "metadata": {},
   "source": [
    "### ***lister les voies, classer les types de commptages, lister les fichiers a regrouper***\n",
    "> le dossier contient un tres grand nombre de fihciers, parfois ils sont a regrouper, parfois la structure de nommage varie"
   ]
  },
  {
   "cell_type": "code",
   "execution_count": 2,
   "metadata": {},
   "outputs": [
    {
     "name": "stdout",
     "output_type": "stream",
     "text": [
      "OK : tous fichiers dans dico\n"
     ]
    }
   ],
   "source": [
    "d87=it.Comptage_cd87(r'Q:\\DAIT\\TI\\DREAL33\\2020\\OTV\\Doc_travail\\Donnees_source\\CD87\\CD87- Comptages 2019 Fichiers .fim') \n",
    "d87.dico_pt_cptg() #creer le dico de base"
   ]
  },
  {
   "cell_type": "code",
   "execution_count": null,
   "metadata": {},
   "outputs": [],
   "source": [
    "d87.dico_voie"
   ]
  },
  {
   "cell_type": "markdown",
   "metadata": {},
   "source": [
    "### ***Traiter les donnees***\n",
    "> Pour chaque route référencée dans le dico, on va calculer les TMJA %PL, date_debut, date_fin, type_poste de chaque fichiers puis\n",
    "faire les calculs si necessaires (moyenne si plsr fichiers).<br> ensuite on classe puis update et insert"
   ]
  },
  {
   "cell_type": "code",
   "execution_count": null,
   "metadata": {},
   "outputs": [],
   "source": [
    "#mettre à jour le dico et le transformer en dataframe sans les ponctuels pendant les grandes vacances\n",
    "d87.dataframe_dico_glob()"
   ]
  },
  {
   "cell_type": "code",
   "execution_count": null,
   "metadata": {},
   "outputs": [],
   "source": [
    "#preparer les données\n",
    "#attention cela comprend un script d'identification des points pas forcément nécéssaire\n",
    "d87.classer_comptage_update_insert('gti_otv_pg11','na_2010_2019_p','comptage',\n",
    "                                   'public','d87_cpt_temp','lineaire.traf2018_bdt87_ed18_l',\n",
    "                                  'ref', 'troncon_route_bdt87_ed18_l','troncon_route_bdt87_ed18_l_vertices_pgr','id','ref.pr_ed18_p')"
   ]
  },
  {
   "cell_type": "code",
   "execution_count": null,
   "metadata": {},
   "outputs": [],
   "source": [
    "#mettre à jour les données\n",
    "d87.update_bdd_d87('gti_otv_pg11','na_2010_2018_p','comptage')\n",
    "#insérer les données et mettre à jour les geom\n",
    "d87.insert_bdd_d87('gti_otv_pg11','na_2010_2018_p','comptage')"
   ]
  },
  {
   "cell_type": "code",
   "execution_count": null,
   "metadata": {},
   "outputs": [],
   "source": [
    "d87.update_bdd_d87('local_otv_station_gti','na_2010_2019_p','comptage')"
   ]
  },
  {
   "cell_type": "markdown",
   "metadata": {},
   "source": [
    "# ***CD 16***\n",
    "- Année 2018 : \n",
    "> à partir du fichier D:\\temp\\otv\\Donnees_source\\CD16\\B15_2018.xlsx on traite les permanents.<br> à partir des donnees sur PIGMA on traite les compteurs temporaires <br>***attention : il y a aussi des données de comptages temporaires en FIM qui permettront d'obtenir de la données horaires***"
   ]
  },
  {
   "cell_type": "code",
   "execution_count": null,
   "metadata": {},
   "outputs": [],
   "source": [
    "#2018\n",
    "cd16=it.Comptage_cd16(r'D:\\temp\\otv\\Donnees_source\\CD16\\B15_2018.xlsx',r'D:\\temp\\otv\\Donnees_source\\CD16\\pigma\\comptages_routiers_2019\\comptages_routiers.shp',\n",
    "                      r'D:\\temp\\otv\\Donnees_source\\CD16\\pigma\\position_compteurs_2019\\position_compteurs.shp',2018)\n",
    "cd16.comptage_forme()\n",
    "cd16.classer_comptage_update_insert('local_otv', 'na_2010_2018_p')\n",
    "\n",
    "cd16.classer_comptage_update_insert('local_otv', 'na_2010_2018_p')\n",
    "\n",
    "cd16.update_bdd_16('local_otv','comptage','na_2010_2018_p')"
   ]
  },
  {
   "cell_type": "code",
   "execution_count": null,
   "metadata": {},
   "outputs": [],
   "source": [
    "#2019\n",
    "cd16=it.Comptage_cd16(r'D:\\temp\\otv\\2019\\Donnees_source\\CD16\\B15_2019.xlsx',r'D:\\temp\\otv\\2019\\Donnees_source\\CD16\\SIG_Comptages_CD16\\Comptages_routiers.shp',\n",
    "                      r'D:\\temp\\otv\\2019\\Donnees_source\\CD16\\SIG_Comptages_CD16\\Position_compteurs.shp',2019)\n",
    "cpt_a_ignorer=('16-D731-27+45','16-D910-23+821', '16-D1000-16+35')\n",
    "cd16.comptage_forme(7,('16-D731-27+45','16-D910-23+821', '16-D1000-16+35'),r'D:\\temp\\otv\\2019\\Donnees_source\\CD16\\Comptages_secondaires_CD16_2019')\n",
    "cd16.classer_comptage_update_insert('local_otv_station_gti', 'na_2010_2019_p')\n",
    "#cd16.update_bdd_16('local_otv_station_gti','comptage', 'na_2010_2019_p')\n",
    "#cd16.insert_bdd('local_otv_station_gti','comptage','na_2010_2019_mensuel',cd16.df_attr_mens)\n",
    "#cd16.insert_bdd('local_otv_station_gti','comptage','na_2010_2019_horaire',cd16.df_attr_horaire)"
   ]
  },
  {
   "cell_type": "markdown",
   "metadata": {},
   "source": [
    "# ***CD 86***\n",
    "Attention , dans ce département parfois ce sont les données en PLOD et ASCD qui sont ok, parfois c'est le cumulD <br>\n",
    "Dans ce Dept, les Compmtages dites 'Secondaires' sont équivalent à 'tournants', et 'Tournants' equivalent à 'ponctuel'\n",
    "- Année 2018 : \n",
    "> à partir des fichier D:\\temp\\otv\\Donnees_source\\CD86\\comptages permanents 2018.xlsx et  D:\\temp\\otv\\Donnees_source\\CD86\\Postes secondaires 2018.xls on traite les permanents et secondaires <br> il y a un petit pb sur les compteurs permanents entre la donnees pr+abs chez nous et la leur dans le tableau, donc il faut la premiere fois tout passer dans la table de correspondance.<br> dans ce dept pas de nouveau points\n",
    "- Année 2019 : \n",
    "> un seul fichier avec les comptages sur 2feuilles : permanents et tournants.<br> la feuille permanent contient aussi des données 'Tournant' qui sont masquées, pour lesquelles les reference en abscisse sont tuojours à 0<br> 3 nouveaux points tournants ajoutés à  la main, le reste des ponctuels en auto"
   ]
  },
  {
   "cell_type": "code",
   "execution_count": null,
   "metadata": {
    "jupyter": {
     "source_hidden": true
    }
   },
   "outputs": [],
   "source": [
    "#2018\n",
    "cd86=it.Comptage_cd86(r'D:\\temp\\otv\\Donnees_source\\CD86\\comptages permanents 2018.xlsx',r'D:\\temp\\otv\\Donnees_source\\CD86\\Postes secondaires 2018.xls')\n",
    "\n",
    "#si besoin de dico corresp : \n",
    "corr=cd86.corresp_perm('local_otv', 'na_2010_2018_p')\n",
    "cd86.insert_bdd('local_otv', 'comptage','corresp_id_comptag',corr)\n",
    "\n",
    "#sinon\n",
    "cd86.comptage_forme()\n",
    "cd86.classer_comptage_update_insert('local_otv', 'na_2010_2018_p')\n",
    "cd86.update_bdd_86('local_otv','comptage','na_2010_2018_p')"
   ]
  },
  {
   "cell_type": "code",
   "execution_count": null,
   "metadata": {},
   "outputs": [],
   "source": [
    "#2019\n",
    "cd86=it.Comptage_cd86(r'D:\\temp\\otv\\2019\\Donnees_source\\CD86\\Comptages globaux 2019 tournants et permanents.xlsx',r'D:\\temp\\otv\\2019\\Donnees_source\\CD86\\Comptages globaux 2019 tournants et permanents.xlsx',2019,\n",
    "                     'permanents','secondaires')\n",
    "cd86.comptage_forme('local_otv_station_gti', 'na_2010_2019_p')\n",
    "cd86.classer_comptage_update_insert('local_otv_station_gti', 'na_2010_2019_p')\n",
    "cd86.update_bdd_86('local_otv_station_gti','comptage','na_2010_2019_p')"
   ]
  },
  {
   "cell_type": "code",
   "execution_count": null,
   "metadata": {},
   "outputs": [],
   "source": [
    "cd86.classer_comptage_update_insert('local_otv_station_gti', 'na_2010_2019_p')"
   ]
  },
  {
   "cell_type": "code",
   "execution_count": null,
   "metadata": {},
   "outputs": [],
   "source": [
    "cd86.df_attr_insert['dep']='86'\n",
    "cd86.df_attr_insert['reseau']='RD'\n",
    "cd86.df_attr_insert['gestionnai']='CD86'\n",
    "cd86.df_attr_insert['concession']='N'\n",
    "cd86.df_attr_insert['obs']=\"nouveau_point 2019, denomination CD86='tournant'\"\n",
    "cd86.df_attr_insert.rename(columns={'absc' : 'abs', 'tmja':'tmja_'+str(cd86.annee),'pc_pl':'pc_pl_'+str(cd86.annee),'obs':'obs_'+str(cd86.annee), 'src':'src_'+str(cd86.annee)},inplace=True)"
   ]
  },
  {
   "cell_type": "code",
   "execution_count": null,
   "metadata": {},
   "outputs": [],
   "source": [
    "cd86.insert_bdd_86('local_otv_station_gti', 'comptage','na_2010_2019_p')"
   ]
  },
  {
   "cell_type": "markdown",
   "metadata": {},
   "source": [
    "# ***CD 24***\n",
    "- Année 2018 : \n",
    "> à partir des fichier D:\\temp\\otv\\Donnees_source\\CD24\\2018_CD24_trafic.csv <br> il n'y a que les compteurs permanents.<br> **Données Mensuelles dispos**.<br> Pensez que des céhanges ont ue lieu pour récupérer tous les points de comptages (perm, tourn, ponct). <br> ***Gros pb de geooloc des PR ign***"
   ]
  },
  {
   "cell_type": "code",
   "execution_count": null,
   "metadata": {},
   "outputs": [],
   "source": [
    "cd24=it.Comptage_cd24(r'D:\\temp\\otv\\Donnees_source\\CD24\\2018_CD24_trafic.csv')\n",
    "cd24.comptage_forme()\n",
    "cd24.classer_comptage_update_insert('local_otv_station_gti', 'na_2010_2018_p')"
   ]
  },
  {
   "cell_type": "code",
   "execution_count": null,
   "metadata": {},
   "outputs": [],
   "source": [
    "cd24.update_bdd_24('local_otv_station_gti', 'comptage', 'na_2010_2018_p')"
   ]
  },
  {
   "cell_type": "code",
   "execution_count": null,
   "metadata": {},
   "outputs": [],
   "source": [
    "cd24.insert_bdd_24('local_otv_station_gti', 'comptage', 'na_2010_2018_p')"
   ]
  },
  {
   "cell_type": "markdown",
   "metadata": {},
   "source": [
    "Année 2019 : \n",
    ">à partir du fichier Q:\\DAIT\\TI\\DREAL33\\2020\\OTV\\Doc_travail\\Donnees_source\\CD24\n",
    "que les compteurs permanents\n",
    "des échanges avait eu lieu en 2018 pour tout récupérer, en direct entre Cerema et CD24. Relancer le CD24"
   ]
  },
  {
   "cell_type": "code",
   "execution_count": null,
   "metadata": {},
   "outputs": [],
   "source": [
    "cd24=it.Comptage_cd24(r'Q:\\DAIT\\TI\\DREAL33\\2020\\OTV\\Doc_travail\\Donnees_source\\CD24\\DONNEES COMPTAGES 2019 CD24.csv',2019)\n",
    "cd24.comptage_forme()\n",
    "cd24.classer_comptage_update_insert('gti_otv_pg11', 'na_2010_2019_p')\n",
    "cd24.update_bdd_24('gti_otv_pg11', 'comptage', 'na_2010_2019_p')\n",
    "cd24.insert_bdd('gti_otv_pg11', 'comptage', 'na_2010_2019_mensuel', cd24.df_attr_mens)"
   ]
  },
  {
   "cell_type": "markdown",
   "metadata": {},
   "source": [
    "# ***SCA***\n",
    "- Année 2018 : \n",
    "> Concerne COFIROUTE, VINCI, ALIENOR, ATLANDES.<br> Des données de correspondances id_comptages sont dans la table source de la base de données otv.<br> **Donnees TMJM dispos**"
   ]
  },
  {
   "cell_type": "markdown",
   "metadata": {},
   "source": [
    "- ### COFIROUTE \n",
    "> Que 5 points, faits à la main"
   ]
  },
  {
   "cell_type": "markdown",
   "metadata": {},
   "source": [
    "- ### VINCI \n",
    "> L'idée c'est d'importer le tableur et les données et de faire la jointure pour mise à jour.<br>**ATTENTION : rien de prévu si nouveau points** "
   ]
  },
  {
   "cell_type": "code",
   "execution_count": null,
   "metadata": {},
   "outputs": [],
   "source": [
    "#2018\n",
    "cpt=it.Comptage_vinci(r'D:\\temp\\otv\\Donnees_source\\VINCI\\2018_comptage_vitesse_moyenne_VINCI.xlsx')\n",
    "cpt.update_bdd_Vinci('local_otv_station_gti', 'comptage', 'na_2010_2018_p')"
   ]
  },
  {
   "cell_type": "code",
   "execution_count": null,
   "metadata": {},
   "outputs": [],
   "source": [
    "#2019\n",
    "cpt=it.Comptage_vinci(r'D:\\temp\\otv\\2019\\Donnees_source\\ASF\\bdd_point_comptage et vitesse moyenne 2019.xlsx', 2019)\n",
    "cpt.update_bdd_Vinci('local_otv_station_gti', 'comptage', 'na_2010_2019_p')\n",
    "#cpt.insert_bdd('local_otv_station_gti', 'comptage', 'na_2010_2019_mensuel',cpt.df_attr_mens)"
   ]
  },
  {
   "cell_type": "markdown",
   "metadata": {},
   "source": [
    "- ### ALIENOR / ATLANDES\n",
    "> Que 7 points chaucun, j'utilise surtout là pour les donees mensuelles"
   ]
  },
  {
   "cell_type": "code",
   "execution_count": null,
   "metadata": {},
   "outputs": [],
   "source": [
    "alienor=it.Comptage_alienor(r'D:\\temp\\otv\\2019\\Donnees_source\\ALIENOR\\ALIENOR_trafic_2019.xlsx',2019)\n",
    "alienor.ouvrir_et_separe_donnees()\n",
    "alienor.update_bdd_Alienor('local_otv_station_gti', 'comptage', 'na_2010_2019_p')\n",
    "alienor.insert_bdd('local_otv_station_gti', 'comptage', 'na_2010_2019_mensuel',alienor.df_attr_mens)"
   ]
  },
  {
   "cell_type": "code",
   "execution_count": null,
   "metadata": {},
   "outputs": [],
   "source": [
    "atlandes=it.Comptage_atlandes(r'D:\\temp\\otv\\2019\\Donnees_source\\ATLANDES\\2019_trafic_atlandes_7_boucles.xls',2019)\n",
    "atlandes.donnees_mens()\n",
    "alienor.insert_bdd('local_otv_station_gti', 'comptage', 'na_2010_2019_mensuel',atlandes.df_attr_mens)"
   ]
  },
  {
   "cell_type": "markdown",
   "metadata": {},
   "source": [
    "# ***Grand Poitiers***\n",
    "> on a deja un fichier dans la base de donnees : on va chercher a greffer les donnees et a cree un nouvel id_comptag"
   ]
  },
  {
   "cell_type": "code",
   "execution_count": null,
   "metadata": {},
   "outputs": [],
   "source": [
    "#ouvrir un fichier\n",
    "dossier=r'D:\\temp\\otv\\2019\\Donnees_source\\GP\\Automatiques 2019'\n",
    "cpt=it.Comptage_GrandPoitiers(r'D:\\temp\\otv\\2019\\Donnees_source\\GP\\Automatiques 2019',2019)\n",
    "cpt.comptage_forme('local_otv_station_gti')\n",
    "cpt.update_bdd_grdPoi('local_otv_station_gti', 'comptage', 'na_2010_2019_p')"
   ]
  },
  {
   "cell_type": "code",
   "execution_count": null,
   "metadata": {},
   "outputs": [],
   "source": [
    "cpt.insert_bdd('local_otv_station_gti', 'comptage', 'na_2010_2019_horaire', cpt.df_attr_horaire)"
   ]
  },
  {
   "cell_type": "markdown",
   "metadata": {},
   "source": [
    "# ***Ville Anglet***\n",
    "> Ci-dessous simplement un exemple d'ouverture de fcihier .mdb, de liste des tables et de lecture d'une table"
   ]
  },
  {
   "cell_type": "code",
   "execution_count": null,
   "metadata": {},
   "outputs": [],
   "source": [
    "with ct.ConnexionBdd('mdb', fichierMdb=r'Q:\\DAIT\\TI\\DREAL33\\2020\\OTV\\Doc_travail\\Donnees_source\\Anglet_Commune\\COMPTAGES ANGLET\\Comptages 2019\\donnees brutes\\1.Av .des Dauphins.mdb') as c:\n",
    "    tables = list(c.mdbCurs.tables())\n",
    "    query = \"SELECT * FROM A1\"\n",
    "    df = pd.read_sql(query, c.connexionMdb)"
   ]
  },
  {
   "cell_type": "code",
   "execution_count": null,
   "metadata": {},
   "outputs": [],
   "source": [
    "tables"
   ]
  },
  {
   "cell_type": "code",
   "execution_count": null,
   "metadata": {},
   "outputs": [],
   "source": [
    "df.head(1)"
   ]
  },
  {
   "cell_type": "markdown",
   "metadata": {},
   "source": [
    "# ***Ville Niort***\n",
    "> 2020 : une dizaine de ponts de comptage. l'enjeu est sur al localisation "
   ]
  },
  {
   "cell_type": "code",
   "execution_count": null,
   "metadata": {},
   "outputs": [],
   "source": [
    "#creation des donnees a transferer\n",
    "cpt_niort=it.Comptage_Niort(r'D:\\temp\\otv\\2019\\Donnees_source\\Niort\\NIORT_COMPTAGE_ROUTIER_2020\\2020',2020)\n",
    "dico_id_comptag={\n",
    "'Niort-rue_alsace_lorraine--0,4580;46,3287' : '01 2020 Alsace Lorraine',\n",
    "'Niort-boulevard_cassin--0,4523;46,3223' :'01 2020 Rue Terraudiere Bld Cassin_2',\n",
    "'Niort-rue_terraudiere--0,4524;46,3228' :'01 2020 Rue Terraudiere Bld Cassin_1',\n",
    "'Niort-rue_chateau_menu--0,4524;46,3592': '02 2020 Chateau Menu',\n",
    "'Niort-rue_de_souche--0,4345;46,3260':'02 2020 rue de Souché',\n",
    "'Niort-rue_du_24_fevrier--0,4628;46,3212':'03 2020 24 Février',\n",
    "'Niort-avenue_de_paris--0,4458;46,3285':'03 2020 Paris',\n",
    "'Niort-avenue_saint_jean_angely--0,4656;46,3203':'03 2020 St Jean',\n",
    "'Niort-rue_14_juillet--0,4560;46,3233':'01 2020 Limoges 14 Juillet_2',\n",
    "'Niort-rue_marechal_leclerc--0,4400;46,3527':'01 2020 Mal Leclerc',\n",
    "'Niort-avenue_de_limoges--0,4565;46,3221':'01 2020 Limoges 14 Juillet_1',\n",
    "'Niort-rue_de_la_la_gare--0,4578;46,3203':'01 2020 rue de la gare'}\n",
    "dico_fichiers_final=cpt_niort.creer_dico(dico_id_comptag)\n",
    "cpt_niort.horaire_tout_cpt(dico_fichiers_final)\n",
    "cpt_niort.agrege_tout_cpt(dico_fichiers_final)"
   ]
  },
  {
   "cell_type": "code",
   "execution_count": null,
   "metadata": {},
   "outputs": [],
   "source": [
    "cpt_niort.df_attr"
   ]
  },
  {
   "cell_type": "code",
   "execution_count": null,
   "metadata": {},
   "outputs": [],
   "source": [
    "val_txt=cpt_niort.creer_valeur_txt_update(cpt_niort.df_attr, ['id_comptag','tmja','pc_pl', 'src'])\n",
    "cpt_niort.update_bdd('local_otv_station_gti', 'comptage', 'na_2010_2019_p', val_txt,{f'tmja_{str(cpt_niort.annee)}':'tmja',f'pc_pl_{str(cpt_niort.annee)}':'pc_pl', f'src_{str(cpt_niort.annee)}':'src'})\n",
    "cpt_niort.insert_bdd('local_otv_station_gti', 'comptage', 'na_2010_2019_horaire', cpt_niort.df_attr_horaire)"
   ]
  },
  {
   "cell_type": "markdown",
   "metadata": {},
   "source": [
    "> ## 2016 a 2019 : \n",
    "on peut creer le dico_id_comptag a partir des donnees stockes dans la table (geom, id des fchiers, reference du dossier)"
   ]
  },
  {
   "cell_type": "code",
   "execution_count": 422,
   "metadata": {},
   "outputs": [],
   "source": [
    "dossier_src=r'Q:\\DAIT\\TI\\DREAL33\\2020\\OTV\\Doc_travail\\Donnees_source\\Niort\\comptages_2016_2019\\CEREMA'\n",
    "annees=['2016','2017','2018','2019']\n",
    "dico_dossier_src={annee:os.path.join(dossier_src, annee) for annee in annees}\n",
    "#obtenir le lien entre les fichiers et de compatg et l'id_comptag, precedemmnet entre dans la bdd via qgis\n",
    "with ct.ConnexionBdd('gti_otv_pg11') as c : \n",
    "    rqt=\"select id_comptag, id_cpt, fichier from comptage.na_2010_2019_p where id_comptag like 'Niort%%' and fichier IS NOT null\"\n",
    "    ids=pd.read_sql(rqt, c.sqlAlchemyConn)\n",
    "#formater pour pouvoir utiliser le code creer pour 2020\n",
    "dico_id_comptag={id_comptag:[os.path.join(d,f) for f in id_cpt.split(';')] for id_comptag,id_cpt,d in \n",
    "                 zip(ids.id_comptag.tolist(),ids.id_cpt.tolist(),ids.fichier.tolist()) }"
   ]
  },
  {
   "cell_type": "code",
   "execution_count": null,
   "metadata": {},
   "outputs": [],
   "source": [
    "#calculer les données et les insérer\n",
    "for a,val in dico_dossier_src.items():\n",
    "    dico_limite={k:v for k,v in dico_id_comptag.items() if all([val in e for e in v])}\n",
    "    cpt_niort=it.Comptage_Niort(val,a)\n",
    "    cpt_niort.agrege_tout_cpt(dico_limite)\n",
    "    cpt_niort.horaire_tout_cpt(dico_limite)\n",
    "    cpt_niort.df_attr=cpt_niort.df_attr.loc[~cpt_niort.df_attr.tmja.isna()].copy()\n",
    "    cpt_niort.df_attr_horaire=cpt_niort.df_attr_horaire.loc[cpt_niort.df_attr_horaire.id_comptag.isin(cpt_niort.df_attr.id_comptag.tolist())].copy()\n",
    "    cpt_niort.insert_bdd('gti_otv_pg11', 'comptage', 'na_2010_2019_horaire',cpt_niort.df_attr_horaire)"
   ]
  },
  {
   "cell_type": "markdown",
   "metadata": {},
   "source": [
    "# ***Grand Dax***\n",
    "> une 20aine de points de comptage. l'enjeu est sur la localisation : faite à la main pour aller plus vite"
   ]
  },
  {
   "cell_type": "code",
   "execution_count": null,
   "metadata": {},
   "outputs": [],
   "source": [
    "cptDax=it.Comptage_GrandDax(r'D:\\temp\\otv\\2019\\donnees_produite\\points_Dax_temp.shp')\n",
    "cptDax.creer_df_agrege()\n",
    "cptDax.df_horaire_final()"
   ]
  },
  {
   "cell_type": "code",
   "execution_count": null,
   "metadata": {},
   "outputs": [],
   "source": [
    "cptDax.insert_bdd('local_otv_station_gti', 'comptage', 'na_2010_2019_p', cptDax.df_attr)\n",
    "cptDax.insert_bdd('local_otv_station_gti', 'comptage', 'na_2010_2019_horaire',cptDax.df_attr_horaire)"
   ]
  },
  {
   "cell_type": "markdown",
   "metadata": {},
   "source": [
    "# ***Limoges Metropole***\n",
    "> un Webservice est dispo ici : https://siglm.agglo-limoges.fr/servernf/rest/services/_TRANSPORTS/transports_consult/featureServer\n",
    "on peut y acceder via Qgis, ce qui permet de creer un shape : Q:\\DAIT\\TI\\DREAL33\\2020\\OTV\\Doc_travail\\Donnees_source\\LIMOGES\\Limoge_Web_service.shp"
   ]
  },
  {
   "cell_type": "markdown",
   "metadata": {},
   "source": [
    "## isoler les points représentatifs du trafic total\n",
    "1. ajouter des attributs d'identification : de la représentativité, de groupement\n",
    "1. Checker la validité des attributs et déterminer sur lesquels s'appuyer\n",
    "1. Regrouper les points avec un identfiant\n",
    "1. Conserver les points avec 'type' == 'Double' ie 'representatif'=True"
   ]
  },
  {
   "cell_type": "code",
   "execution_count": null,
   "metadata": {},
   "outputs": [],
   "source": [
    "#POUR INFO\n",
    "#rechreche incohérence entre direction et type : direction 2 sens et type Simple\n",
    "limMet.loc[(limMet.apply(lambda x : any([a.lower() in x['direction'].lower() \n",
    "            for a in ('2 sens','2  sens', 'deux sens', 'double sens', 'cumul') if x['direction']]), axis=1)) & (limMet['type']=='Simple')].objectid.tolist()\n",
    "\"\"\"objectId in (40390.0, 40844.0, 41639.0, 42174.0, 42175.0, 42176.0, 42177.0, 42432.0, 42599.0, 43066.0, 43720.0, \n",
    "52077.0, 39017.0, 39274.0, 39586.0, 39959.0, 40014.0, 40015.0) prioriser 'type'=='Double', ne pas trop s'appuyer sur le type\"\"\"\n",
    "#rechreche incohérence entre direction et type : direction != 2 sens et type Double : là aussi, ça confirme de s'appuyer sur le type Double\n",
    "limMet.loc[(limMet.apply(lambda x : all([a.lower() not in x['direction'].lower() \n",
    "            for a in ('2 sens','2  sens', 'deux sens', 'double sens', 'cumul') if x['direction']]), axis=1)) & (limMet['type']=='Double')].objectid.tolist()"
   ]
  },
  {
   "cell_type": "code",
   "execution_count": null,
   "metadata": {},
   "outputs": [],
   "source": [
    "limMet=it.Comptage_Limoges_Metropole(r'Q:\\DAIT\\TI\\DREAL33\\2020\\OTV\\Doc_travail\\Donnees_source\\LIMOGES\\Limoge_Web_service.shp',\n",
    "                                    r'D:\\temp\\otv\\2019\\donnees_produite\\test_limoges\\zone_equi_cpt.shp')\n",
    "limMet.groupe_point()\n",
    "limMet.df_regroupee_complete(limMet.df_regroupee())\n",
    "limMet.insert_bdd('gti_otv_pg11', 'comptage', 'na_2010_2019_p', limMet.df_attr)"
   ]
  },
  {
   "cell_type": "markdown",
   "metadata": {},
   "source": [
    "# ***Agglo LaRochelle***\n",
    "> bcp de donnée éparpillées u peu n'importe comment ici : <br> Chaque commune à sa façon de bosser..."
   ]
  },
  {
   "cell_type": "markdown",
   "metadata": {},
   "source": [
    "> ## Exemple sainte-SOulle"
   ]
  },
  {
   "cell_type": "code",
   "execution_count": null,
   "metadata": {},
   "outputs": [],
   "source": [
    "dossier=r'Q:\\DAIT\\TI\\DREAL33\\2020\\OTV\\Doc_travail\\Donnees_source\\La_Rochelle\\donnees-la-rochelle\\Données La Rochelle\\7-Communes\\SteSoulle'\n",
    "toto=it.Comptage(os.path.join(dossier,'rue des Fortiness.txt'))\n",
    "SteSoulle=pd.read_csv(os.path.join(dossier,'rue des Fortines.txt'), sep=' ')\n",
    "SteSoulle.rename(columns={'Nombrevéhicules':'nbveh', 'Date':'heure'}, inplace=True)\n",
    "SteSoulle.reset_index(inplace=True)\n",
    "SteSoulle.rename(columns={'Nombrevéhicules':'nbveh', 'Date':'heure', 'index':'jour'}, inplace=True)\n",
    "SteSoulle.set_index(SteSoulle.apply(lambda x : pd.to_datetime(x['jour']+ ' ' + x.heure, dayfirst=True), axis=1), inplace=True)\n",
    "#les données sur le 4,10 et 11 février sont bizarres, on les exclus,du coup pour ne pas fausser le tmja avec trop de WE je ne garde que les jours ouvrés et je fais un tmjo\n",
    "#SteSoulle=SteSoulle.loc[(~SteSoulle.index.dayofyear.isin([pd.to_datetime(x).dayofyear for x in (('2016-03-28','2016-03-23','2016-04-02'))]))\n",
    "                       #& (~SteSoulle.index.dayofweek.isin((5,6)))][['nbveh', 'jour', 'heure']].copy()"
   ]
  },
  {
   "cell_type": "code",
   "execution_count": null,
   "metadata": {},
   "outputs": [],
   "source": [
    "#calcul tmja (basé sur calcul_indicateurs_agreges() de la classe FIM)\n",
    "df_jour=SteSoulle[['nbveh']].resample('1D').sum()\n",
    "df_jour=df_jour.loc[df_jour['nbveh']!=0].copy()\n",
    "if len(df_jour)<7 : \n",
    "    raise it.PasAssezMesureError(len(df_jour))\n",
    "elif len(df_jour) in (7,8) : \n",
    "    traf_list=df_jour.nbveh.tolist()\n",
    "    tmjo=int(statistics.mean([traf_list[0]+traf_list[-1]]+traf_list[1:-1]))\n",
    "else : \n",
    "    tmjo=int(df_jour.iloc[1:-1].nbveh.mean())*2"
   ]
  },
  {
   "cell_type": "code",
   "execution_count": null,
   "metadata": {},
   "outputs": [],
   "source": [
    "df_horaire=SteSoulle[['jour', 'heure', 'nbveh']].pivot(index='jour', columns='heure', values='nbveh').fillna(0)*2\n",
    "df_horaire.columns=[f'h{str(int(c.split(\":\")[0]))}_{str(int(c.split(\":\")[0])+1)}' for c in df_horaire.columns]\n",
    "df_horaire=df_horaire.reset_index().assign(type_veh='TV', id_comptag='LaRoche-r des fortines--1.0391;46.188')"
   ]
  },
  {
   "cell_type": "code",
   "execution_count": null,
   "metadata": {},
   "outputs": [],
   "source": [
    "toto.insert_bdd('gti_otv_pg11', 'comptage', 'na_2010_2019_horaire', df_horaire)"
   ]
  },
  {
   "cell_type": "markdown",
   "metadata": {},
   "source": [
    "> ## La Rochelle\n",
    "plusieurs dossier contenant desfichiers de comptages, : Q:\\DAIT\\TI\\DREAL33\\2020\\OTV\\Doc_travail\\Donnees_source\\La_Rochelle\\campagne-comptages-2015\\trafic_aggloLR_SMOB2015 ; Q:\\DAIT\\TI\\DREAL33\\2020\\OTV\\Doc_travail\\Donnees_source\\La_Rochelle\\comptages_delattre"
   ]
  },
  {
   "cell_type": "code",
   "execution_count": null,
   "metadata": {},
   "outputs": [],
   "source": [
    "Larochelle.update_bdd_LaRochelle('gti_otv_pg11', 'comptage', 'na_2010_2019_p')\n",
    "Larochelle.insert_bdd('gti_otv_pg11', 'comptage', 'na_2010_2019_horaire', Larochelle.df_attr_horaire)"
   ]
  },
  {
   "cell_type": "code",
   "execution_count": null,
   "metadata": {},
   "outputs": [],
   "source": [
    "#prepar donnees\n",
    "Larochelle=it.Comptage_LaRochelle(r'Q:\\DAIT\\TI\\DREAL33\\2020\\OTV\\Doc_travail\\Donnees_source\\La_Rochelle\\donnees-la-rochelle\\Données La Rochelle\\7-Communes\\LaRochelle_LaPalice')\n",
    "ids=Larochelle.listCptCreer()\n",
    "Larochelle.creer_dfs(ids)"
   ]
  },
  {
   "cell_type": "code",
   "execution_count": null,
   "metadata": {},
   "outputs": [],
   "source": [
    "with ct.ConnexionBdd('gti_otv_pg11') as c : \n",
    "            rqt=\"select id_comptag, id_cpt from comptage.na_2010_2019_p where id_comptag in ('LaRoch-r marcel deflandre--1.2128;46.1698','LaRoch-r de bethencourt--1.2028;46.1712','LaRoch-r de bethencourt--1.2014;46.172')\"\n",
    "            ids=pd.read_sql(rqt, c.sqlAlchemyConn)"
   ]
  },
  {
   "cell_type": "code",
   "execution_count": null,
   "metadata": {},
   "outputs": [],
   "source": [
    "fichier=r'Q:\\DAIT\\TI\\DREAL33\\2020\\OTV\\Doc_travail\\Donnees_source\\La_Rochelle\\donnees-la-rochelle\\Données La Rochelle\\7-Communes\\LaRochelle_LaPalice\\SEMAINE 2\\P1-RUE MARCEL DEFLANDRE SENS 2 SEMAINE 2.xls'"
   ]
  },
  {
   "cell_type": "code",
   "execution_count": null,
   "metadata": {},
   "outputs": [],
   "source": [
    "df=pd.read_excel(fichier)\n",
    "tmja=round(df.loc[38,'Unnamed: 6'])\n",
    "pl=round(df.loc[42,'Unnamed: 6'])\n",
    "periode=df.iloc[1,16]\n",
    "index_date=pd.date_range(start=pd.to_datetime(periode.split(' au ')[0][3:], dayfirst=True), end=pd.to_datetime(periode.split(' au ')[1], dayfirst=True))\n",
    "df_pl=df.iloc[17:24,2:26].copy()\n",
    "df_tv=df.iloc[27:34,2:26].copy()\n",
    "df_pl.columns=[f'h{str(i)}_{str(i+1)}' for i in range(24)]\n",
    "df_tv.columns=[f'h{str(i)}_{str(i+1)}' for i in range(24)]\n",
    "df_pl=df_pl.assign(jour=index_date, type_veh='PL')\n",
    "df_tv=df_tv.assign(jour=index_date, type_veh='TV')"
   ]
  },
  {
   "cell_type": "code",
   "execution_count": null,
   "metadata": {},
   "outputs": [],
   "source": [
    "df_tv"
   ]
  },
  {
   "cell_type": "code",
   "execution_count": null,
   "metadata": {},
   "outputs": [],
   "source": [
    "Larochelle.df_attr"
   ]
  },
  {
   "cell_type": "markdown",
   "metadata": {},
   "source": [
    "# ***TESTS***"
   ]
  },
  {
   "cell_type": "code",
   "execution_count": null,
   "metadata": {},
   "outputs": [],
   "source": [
    "## DETAILS OPERATIONS CD87\n",
    "\n",
    "#regrouper les différentes données issues de ficiers et les ajouter au dico\n",
    "for k, v in d87.dico_voie.items() : \n",
    "    for i,e in enumerate(v) : \n",
    "        if len(e['fichiers'])==1 : \n",
    "            print(e['fichiers'][0])\n",
    "            obj_fim=it.FIM(os.path.join(d87.dossier,e['fichiers'][0]))\n",
    "            try : \n",
    "                obj_fim.resume_indicateurs()\n",
    "            except obj_fim.fim_PasAssezMesureError : \n",
    "                continue\n",
    "            except Exception as ex : \n",
    "                print(f\"erreur : {ex} \\n dans fichier : {e['fichiers'][0]}\")\n",
    "            e['tmja'], e['pc_pl'], e['date_debut'], e['date_fin']=obj_fim.tmja, obj_fim.pc_pl, obj_fim.date_debut,obj_fim.date_fin\n",
    "        elif len(e['fichiers'])>1 :\n",
    "            list_tmja=[]\n",
    "            list_pc_pl=[]\n",
    "            for f in e['fichiers'] : \n",
    "                obj_fim=it.FIM(os.path.join(d87.dossier,f))\n",
    "                print(f)\n",
    "                try : \n",
    "                    obj_fim.resume_indicateurs()\n",
    "                except (obj_fim.fim_PasAssezMesureError,obj_fim.fimNbBlocDonneesError)  : \n",
    "                    continue\n",
    "                except Exception as ex : \n",
    "                    print(f\"erreur : {ex} \\n dans fichier : {f}\")\n",
    "                list_tmja.append(obj_fim.tmja)\n",
    "                list_pc_pl.append(obj_fim.pc_pl)\n",
    "            e['tmja'], e['pc_pl'], e['date_debut'], e['date_fin']=int(mean(list_tmja)), round(mean(list_pc_pl),2),np.NaN, np.NaN\n",
    "\n",
    "#renseigner le type de poste\n",
    "for k, v in d87.dico_voie.items() : \n",
    "    for e in v : \n",
    "        if len(e['fichiers']) > 4 :\n",
    "            e['type_poste']='permanent'\n",
    "        elif 1<len(e['fichiers'])<=4 : \n",
    "            e['type_poste']='tournant'\n",
    "        elif len(e['fichiers'])== 1 :\n",
    "            e['type_poste']='ponctuel'\n",
    "        else : \n",
    "            e['type_poste']='NC'\n",
    "\n",
    "#faire une df avec les points de comptage\n",
    "d87.df_attr=pd.DataFrame([[k, e['pr'], e['abs'], e['tmja'], e['pc_pl'], e['type_poste'],\n",
    "                      e['date_debut'],e['date_fin']] for k, v in d87.dico_voie.items() for e in v if 'tmja' in e.keys()], \n",
    "             columns=['route','pr','absc','tmja','pc_pl','type_poste','date_debut','date_fin'])\n",
    "d87.df_attr['id_comptag']=d87.df_attr.apply(lambda x :'87-'+x['route']+'-'+str(x['pr'])+'+'+str(x['absc']), axis=1)\n",
    "\n",
    "#filtre cpt ponctuel\n",
    "d87.df_attr=d87.df_attr.loc[d87.df_attr.apply(lambda x : x['date_debut'].month not in [7,8] and x['date_fin'].month not in [7,8], \n",
    "                                                         axis=1)].copy()\n",
    "\n",
    "#fare le tri avec les comptages existants : \n",
    "#recuperer les compmtages existants\n",
    "d87.comptag_existant_bdd('gti_otv_pg11', 'na_2010_2018_p', schema='comptage',dep='87', type_poste=False)\n",
    "d87.df_attr_update=d87.df_attr.loc[d87.df_attr.id_comptag.isin(d87.existant.id_comptag.tolist())].copy()\n",
    "d87.df_attr_insert=d87.df_attr.loc[~d87.df_attr.id_comptag.isin(d87.existant.id_comptag.tolist())].copy()\n",
    "#obtenir une cle de correspondace pour les comptages tournants et permanents\n",
    "df_correspondance=d87.corresp_old_new_comptag('gti_otv_pg11', 'public','d87_cpt_temp','lineaire.traf2017_bdt87_ed17_l',\n",
    "                                'referentiel', 'troncon_route_bdt87_ed17_l','troncon_route_bdt87_ed17_l_vertices_pgr','id')\n",
    "\n",
    "#verifier si cette clé n'existent pas deja dans la table de correspondance et passer les nouvelles dedans\n",
    "rqt_corresp_comptg='select * from comptage.corresp_id_comptag'\n",
    "with ct.ConnexionBdd('gti_otv_pg11') as c:\n",
    "    corresp_comptg=pd.read_sql(rqt_corresp_comptg, c.sqlAlchemyConn)\n",
    "df_correspondance=df_correspondance.loc[~df_correspondance['id_comptag'].isin(corresp_comptg.id_gest.tolist())]\n",
    "if not df_correspondance.empty():\n",
    "    d87.insert_bdd('gti_otv_pg11', 'comptage', 'corresp_id_comptag', \n",
    "               df_correspondance.rename(columns={'id_comptag_lin':'id_gti','id_comptag':'id_gest'})[['id_gest','id_gti']])\n",
    "\n",
    "#faire la correspondance entre les noms de comptage\n",
    "d87.corresp_nom_id_comptag('gti_otv_pg11',d87.df_attr)\n",
    "\n",
    "#recalculer les insert et update\n",
    "d87.df_attr_update=d87.df_attr.loc[d87.df_attr.id_comptag.isin(d87.existant.id_comptag.tolist())].copy()\n",
    "d87.df_attr_insert=d87.df_attr.loc[~d87.df_attr.id_comptag.isin(d87.existant.id_comptag.tolist())].copy()\n",
    "\n",
    "#mettre en forme pour update\n",
    "d87.df_attr_update['obs']=d87.df_attr_update.apply(lambda x : x['date_debut'].strftime('%d/%m/%Y')+'-'+ x['date_fin'].strftime('%d/%m/%Y') if not pd.isnull(x['date_debut']) else '', axis=1)\n",
    "d87.df_attr_update.loc[d87.df_attr_update.pc_pl.isna(),'obs']='pc_pl inconnu'\n",
    "d87.df_attr_update.loc[d87.df_attr_update.pc_pl.isna(),'pc_pl']=-99\n",
    "\n",
    "#preparer update\n",
    "valeurs_txt=d87.creer_valeur_txt_update(d87.df_attr_update, ['id_comptag','tmja','pc_pl','obs'])\n",
    "dico_attr={'tmja_2018':'tmja','pc_pl_2018':'pc_pl','obs_2018':'obs'}\n",
    "#update\n",
    "d87.update_bdd('gti_otv_pg11', 'comptage', 'na_2010_2018_p', valeurs_txt,dico_attr)\n",
    "\n",
    "#mettre en forme le insert\n",
    "dbl=d87.df_attr_insert.loc[d87.df_attr_insert.duplicated('id_comptag', False)].copy()\n",
    "ss_dbl=d87.df_attr_insert.loc[~d87.df_attr_insert.index.isin(dbl.index.tolist())].copy()\n",
    "dbl=dbl.dropna()\n",
    "dbl_traite=dbl.loc[dbl.tmja==dbl.groupby('id_comptag').tmja.transform(max)].drop_duplicates().copy()\n",
    "d87.df_attr_insert=pd.concat([dbl_traite,ss_dbl], axis=0, sort=False)\n",
    "d87.df_attr_insert.pc_pl.fillna(-99, inplace=True)\n",
    "annee='2018'\n",
    "d87.df_attr_insert['dep']='87'\n",
    "d87.df_attr_insert['reseau']='RD'\n",
    "d87.df_attr_insert['gestionnai']='CD87'\n",
    "d87.df_attr_insert['concession']='N'\n",
    "d87.df_attr_insert['obs']=d87.df_attr_insert.apply(lambda x : f\"\"\"nouveau_point,{x['date_debut'].strftime(\"%d/%m/%Y\")}-{x['date_fin'].strftime(\"%d/%m/%Y\")}\"\"\" if not (pd.isnull(x['date_debut']) and  pd.isnull(x['date_fin'])) else None,axis=1)\n",
    "d87.df_attr_insert.rename(columns={'absc' : 'abs', 'tmja':'tmja_'+annee,'pc_pl':'pc_pl_'+annee,'obs':'obs_'+annee},inplace=True)\n",
    "d87.df_attr_insert.drop(['date_debut','date_fin','route'],axis=1,inplace=True)\n",
    "\n",
    "#mettre à jour la geom\n",
    "d87.maj_geom('gti_otv_pg11', 'comptage', 'na_2010_2018_p', dep='87')"
   ]
  },
  {
   "cell_type": "code",
   "execution_count": null,
   "metadata": {},
   "outputs": [],
   "source": [
    "with ct.ConnexionBdd('local_otv_station_gti') as c : \n",
    "    ct.ogr2ogr_shp2pg(c.connstringOgr,r'D:\\temp\\otv\\2019\\donnees_produite\\na_2010_2019_p_dira\\na_2010_2019_p_dira.shp',schema='public', table='na_2010_2019_p_dira',SRID='2154',geotype='POINT', dims=2, creationMode='',encodageClient='UTF-8', requeteSql='')"
   ]
  },
  {
   "cell_type": "code",
   "execution_count": null,
   "metadata": {},
   "outputs": [],
   "source": [
    "d87.dico_voie['D20']"
   ]
  },
  {
   "cell_type": "code",
   "execution_count": null,
   "metadata": {},
   "outputs": [],
   "source": [
    "for k, v in d87.dico_voie.items() : \n",
    "    if k=='D20' : \n",
    "        for i,e in enumerate(v) : \n",
    "            if len(e['fichiers'])==1 : \n",
    "                print(e['fichiers'][0])\n",
    "                obj_fim=it.FIM(os.path.join(d87.dossier,e['fichiers'][0]))\n",
    "                try : \n",
    "                    obj_fim.resume_indicateurs()\n",
    "                except obj_fim.fim_PasAssezMesureError : \n",
    "                    continue\n",
    "                except Exception as ex : \n",
    "                    print(f\"erreur : {ex} \\n dans fichier : {e['fichiers'][0]}\")\n",
    "                e['tmja'], e['pc_pl'], e['date_debut'], e['date_fin']=obj_fim.tmja, obj_fim.pc_pl, obj_fim.date_debut,obj_fim.date_fin\n",
    "            elif len(e['fichiers'])>1 :\n",
    "                list_tmja=[]\n",
    "                list_pc_pl=[]\n",
    "                for f in e['fichiers'] : \n",
    "                    obj_fim=it.FIM(os.path.join(d87.dossier,f))\n",
    "                    print(f)\n",
    "                    try : \n",
    "                        obj_fim.resume_indicateurs()\n",
    "                    except (obj_fim.fim_PasAssezMesureError,obj_fim.fimNbBlocDonneesError)  : \n",
    "                        continue\n",
    "                    except Exception as ex : \n",
    "                        print(f\"erreur : {ex} \\n dans fichier : {f}\")\n",
    "                    list_tmja.append(obj_fim.tmja)\n",
    "                    list_pc_pl.append(obj_fim.pc_pl)\n",
    "                list_pc_pl=[p for p in list_pc_pl if p>0]\n",
    "                e['tmja'], e['date_debut'], e['date_fin']=int(mean(list_tmja)),np.NaN, np.NaN\n",
    "                e['pc_pl']=round(mean([p for p in list_pc_pl if p>0]),2) if list_pc_pl else np.NaN"
   ]
  },
  {
   "cell_type": "code",
   "execution_count": null,
   "metadata": {},
   "outputs": [],
   "source": [
    "d87.dico_voie['D20']"
   ]
  },
  {
   "cell_type": "code",
   "execution_count": 6,
   "metadata": {},
   "outputs": [],
   "source": [
    "d87.comptag_existant_bdd('gti_otv_pg11','na_2010_2019_p', 'comptage',dep='87', type_poste=False)\n",
    "d87.df_attr_update=d87.df_attr.loc[d87.df_attr.id_comptag.isin(d87.existant.id_comptag.tolist())].copy()\n",
    "d87.df_attr_insert=d87.df_attr.loc[~d87.df_attr.id_comptag.isin(d87.existant.id_comptag.tolist())].copy()"
   ]
  },
  {
   "cell_type": "code",
   "execution_count": null,
   "metadata": {},
   "outputs": [],
   "source": [
    "#obtenir une cle de correspondace pour les comptages tournants et permanents\n",
    "df_correspondance=d87.corresp_old_new_comptag('gti_otv_pg11', 'public','d87_cpt_temp','lineaire.traf2018_bdt87_ed18_l',\n",
    "                                'ref', 'troncon_route_bdt87_ed18_l','troncon_route_bdt87_ed18_l_vertices_pgr','id','ref.pr_ed18_p')"
   ]
  },
  {
   "cell_type": "code",
   "execution_count": 10,
   "metadata": {},
   "outputs": [
    {
     "data": {
      "text/html": [
       "<div>\n",
       "<style scoped>\n",
       "    .dataframe tbody tr th:only-of-type {\n",
       "        vertical-align: middle;\n",
       "    }\n",
       "\n",
       "    .dataframe tbody tr th {\n",
       "        vertical-align: top;\n",
       "    }\n",
       "\n",
       "    .dataframe thead th {\n",
       "        text-align: right;\n",
       "    }\n",
       "</style>\n",
       "<table border=\"1\" class=\"dataframe\">\n",
       "  <thead>\n",
       "    <tr style=\"text-align: right;\">\n",
       "      <th></th>\n",
       "      <th>id_comptag_lin</th>\n",
       "      <th>id_comptag</th>\n",
       "      <th>type_poste_new</th>\n",
       "    </tr>\n",
       "  </thead>\n",
       "  <tbody>\n",
       "    <tr>\n",
       "      <th>19</th>\n",
       "      <td>87-D992-2+860</td>\n",
       "      <td>87-D992-2+760</td>\n",
       "      <td>tournant</td>\n",
       "    </tr>\n",
       "    <tr>\n",
       "      <th>26</th>\n",
       "      <td>87-D15-29+550</td>\n",
       "      <td>87-D15-29+530</td>\n",
       "      <td>tournant</td>\n",
       "    </tr>\n",
       "  </tbody>\n",
       "</table>\n",
       "</div>"
      ],
      "text/plain": [
       "   id_comptag_lin     id_comptag type_poste_new\n",
       "19  87-D992-2+860  87-D992-2+760       tournant\n",
       "26  87-D15-29+550  87-D15-29+530       tournant"
      ]
     },
     "execution_count": 10,
     "metadata": {},
     "output_type": "execute_result"
    }
   ],
   "source": [
    "df_correspondance"
   ]
  },
  {
   "cell_type": "code",
   "execution_count": 18,
   "metadata": {},
   "outputs": [],
   "source": [
    "d87.corresp_nom_id_comptag('gti_otv_pg11',d87.df_attr)"
   ]
  },
  {
   "cell_type": "code",
   "execution_count": 19,
   "metadata": {},
   "outputs": [],
   "source": [
    "#recalculer les insert et update\n",
    "d87.df_attr_update=d87.df_attr.loc[d87.df_attr.id_comptag.isin(d87.existant.id_comptag.tolist())].copy()\n",
    "d87.df_attr_insert=d87.df_attr.loc[~d87.df_attr.id_comptag.isin(d87.existant.id_comptag.tolist())].copy()"
   ]
  },
  {
   "cell_type": "code",
   "execution_count": 23,
   "metadata": {},
   "outputs": [],
   "source": [
    "df_attr_geom=d87.localiser_comptage_a_inserer(d87.df_attr_insert, 'gti_otv_pg11', 'public','loc_pt_insertd87', 'ref.troncon_route_bdt87_ed18_l', 'ref.pr_ed18_p')"
   ]
  },
  {
   "cell_type": "code",
   "execution_count": 28,
   "metadata": {},
   "outputs": [],
   "source": [
    "df_attr_geom[['route', 'pr', 'absc', 'tmja', 'pc_pl', 'type_poste',\n",
    "       'id_comptag', 'geom']].to_file(r'D:\\temp\\otv\\2019\\donnees_produite\\cd87\\df_attr_geom.shp')"
   ]
  },
  {
   "cell_type": "code",
   "execution_count": 27,
   "metadata": {},
   "outputs": [
    {
     "data": {
      "text/plain": [
       "Index(['index', 'route', 'pr', 'absc', 'tmja', 'pc_pl', 'type_poste',\n",
       "       'date_debut', 'date_fin', 'id_comptag', 'geom'],\n",
       "      dtype='object')"
      ]
     },
     "execution_count": 27,
     "metadata": {},
     "output_type": "execute_result"
    }
   ],
   "source": [
    "df_attr_geom.columns"
   ]
  },
  {
   "cell_type": "code",
   "execution_count": 30,
   "metadata": {},
   "outputs": [
    {
     "name": "stderr",
     "output_type": "stream",
     "text": [
      "c:\\users\\martin.schoreisz\\appdata\\local\\programs\\python\\python37\\lib\\site-packages\\numpy\\lib\\function_base.py:2167: RuntimeWarning: invalid value encountered in ? (vectorized)\n",
      "  outputs = ufunc(*inputs)\n",
      "c:\\users\\martin.schoreisz\\appdata\\local\\programs\\python\\python37\\lib\\site-packages\\numpy\\lib\\function_base.py:2167: RuntimeWarning: invalid value encountered in ? (vectorized)\n",
      "  outputs = ufunc(*inputs)\n"
     ]
    }
   ],
   "source": [
    "ppv_final,points_a_inserer_geom=d87.plus_proche_voisin_comptage_a_inserer(d87.df_attr_insert,'gti_otv_pg11', 'public','d87_cpt_temp','lineaire.traf2018_bdt87_ed18_l',\n",
    "                                                                          'ref.pr_ed18_p')"
   ]
  },
  {
   "cell_type": "code",
   "execution_count": 31,
   "metadata": {},
   "outputs": [
    {
     "data": {
      "text/html": [
       "<div>\n",
       "<style scoped>\n",
       "    .dataframe tbody tr th:only-of-type {\n",
       "        vertical-align: middle;\n",
       "    }\n",
       "\n",
       "    .dataframe tbody tr th {\n",
       "        vertical-align: top;\n",
       "    }\n",
       "\n",
       "    .dataframe thead th {\n",
       "        text-align: right;\n",
       "    }\n",
       "</style>\n",
       "<table border=\"1\" class=\"dataframe\">\n",
       "  <thead>\n",
       "    <tr style=\"text-align: right;\">\n",
       "      <th></th>\n",
       "      <th>id_comptag_lin</th>\n",
       "      <th>id_ign_lin</th>\n",
       "      <th>id_comptag</th>\n",
       "      <th>id_ign_cpt_new</th>\n",
       "      <th>geom_cpt_lin</th>\n",
       "      <th>geometry</th>\n",
       "      <th>type_poste_new</th>\n",
       "    </tr>\n",
       "  </thead>\n",
       "  <tbody>\n",
       "    <tr>\n",
       "      <th>0</th>\n",
       "      <td>87-D675-14+780</td>\n",
       "      <td>TRONROUT0000000010762451</td>\n",
       "      <td>87-D675-8+800</td>\n",
       "      <td>TRONROUT0000000010759061</td>\n",
       "      <td>POINT (552650.759 6572470.949)</td>\n",
       "      <td>POINT (552650.759 6572470.949)</td>\n",
       "      <td>ponctuel</td>\n",
       "    </tr>\n",
       "    <tr>\n",
       "      <th>1</th>\n",
       "      <td>87-D699-2+255</td>\n",
       "      <td>TRONROUT0000000356553365</td>\n",
       "      <td>87-D699-11+0</td>\n",
       "      <td>TRONROUT0000000010842681</td>\n",
       "      <td>POINT (545554.455 6517997.427)</td>\n",
       "      <td>POINT (545554.455 6517997.427)</td>\n",
       "      <td>ponctuel</td>\n",
       "    </tr>\n",
       "    <tr>\n",
       "      <th>4</th>\n",
       "      <td>87-D699-2+255</td>\n",
       "      <td>TRONROUT0000000356553365</td>\n",
       "      <td>87-D699-10+700</td>\n",
       "      <td>TRONROUT0000000010842681</td>\n",
       "      <td>POINT (545554.455 6517997.427)</td>\n",
       "      <td>POINT (545554.455 6517997.427)</td>\n",
       "      <td>ponctuel</td>\n",
       "    </tr>\n",
       "    <tr>\n",
       "      <th>7</th>\n",
       "      <td>87-D699-2+255</td>\n",
       "      <td>TRONROUT0000000356553365</td>\n",
       "      <td>87-D699-9+670</td>\n",
       "      <td>TRONROUT0000000010842676</td>\n",
       "      <td>POINT (545554.455 6517997.427)</td>\n",
       "      <td>POINT (545554.455 6517997.427)</td>\n",
       "      <td>ponctuel</td>\n",
       "    </tr>\n",
       "    <tr>\n",
       "      <th>10</th>\n",
       "      <td>87-D5-33+500</td>\n",
       "      <td>TRONROUT0000000357008546</td>\n",
       "      <td>87-D5-33+0</td>\n",
       "      <td>TRONROUT0000000357008546</td>\n",
       "      <td>POINT (559372.182 6545994.822)</td>\n",
       "      <td>POINT (559372.182 6545994.822)</td>\n",
       "      <td>ponctuel</td>\n",
       "    </tr>\n",
       "    <tr>\n",
       "      <th>11</th>\n",
       "      <td>87-D5-47+0</td>\n",
       "      <td>TRONROUT0000000010785407</td>\n",
       "      <td>87-D5-46+190</td>\n",
       "      <td>TRONROUT0000000220129409</td>\n",
       "      <td>POINT (570123.809 6545017.192)</td>\n",
       "      <td>POINT (570123.809 6545017.192)</td>\n",
       "      <td>ponctuel</td>\n",
       "    </tr>\n",
       "    <tr>\n",
       "      <th>12</th>\n",
       "      <td>87-D5-74+485</td>\n",
       "      <td>TRONROUT0000000010796383</td>\n",
       "      <td>87-D5-74+850</td>\n",
       "      <td>TRONROUT0000000010796379</td>\n",
       "      <td>POINT (588701.787 6534403.840)</td>\n",
       "      <td>POINT (588701.787 6534403.840)</td>\n",
       "      <td>ponctuel</td>\n",
       "    </tr>\n",
       "    <tr>\n",
       "      <th>13</th>\n",
       "      <td>87-D940-7+90</td>\n",
       "      <td>TRONROUT0000000010843063</td>\n",
       "      <td>87-D940-5+0</td>\n",
       "      <td>TRONROUT0000000010845905</td>\n",
       "      <td>POINT (603307.580 6514565.580)</td>\n",
       "      <td>POINT (603307.580 6514565.580)</td>\n",
       "      <td>tournant</td>\n",
       "    </tr>\n",
       "    <tr>\n",
       "      <th>14</th>\n",
       "      <td>87-D11-5+380</td>\n",
       "      <td>TRONROUT0000000010828426</td>\n",
       "      <td>87-D11-5+315</td>\n",
       "      <td>TRONROUT0000000010828426</td>\n",
       "      <td>POINT (563976.904 6523193.988)</td>\n",
       "      <td>POINT (563976.904 6523193.988)</td>\n",
       "      <td>ponctuel</td>\n",
       "    </tr>\n",
       "    <tr>\n",
       "      <th>15</th>\n",
       "      <td>87-D20-22+70</td>\n",
       "      <td>TRONROUT0000000356982860</td>\n",
       "      <td>87-D20-22+190</td>\n",
       "      <td>TRONROUT0000000356982860</td>\n",
       "      <td>POINT (553659.610 6521302.054)</td>\n",
       "      <td>POINT (553659.610 6521302.054)</td>\n",
       "      <td>ponctuel</td>\n",
       "    </tr>\n",
       "    <tr>\n",
       "      <th>16</th>\n",
       "      <td>87-D98A-6+0</td>\n",
       "      <td>TRONROUT0000000010821077</td>\n",
       "      <td>87-D98A-6+190</td>\n",
       "      <td>TRONROUT0000000010821077</td>\n",
       "      <td>POINT (572669.368 6525765.210)</td>\n",
       "      <td>POINT (572669.368 6525765.210)</td>\n",
       "      <td>ponctuel</td>\n",
       "    </tr>\n",
       "    <tr>\n",
       "      <th>17</th>\n",
       "      <td>87-D15-44+0</td>\n",
       "      <td>TRONROUT0000000010850118</td>\n",
       "      <td>87-D15-44+60</td>\n",
       "      <td>TRONROUT0000000010850118</td>\n",
       "      <td>POINT (567428.589 6510685.104)</td>\n",
       "      <td>POINT (567428.589 6510685.104)</td>\n",
       "      <td>ponctuel</td>\n",
       "    </tr>\n",
       "    <tr>\n",
       "      <th>18</th>\n",
       "      <td>87-D914-32+0</td>\n",
       "      <td>TRONROUT0000000010794094</td>\n",
       "      <td>87-D914-32+190</td>\n",
       "      <td>TRONROUT0000000010795365</td>\n",
       "      <td>POINT (570521.270 6535795.920)</td>\n",
       "      <td>POINT (570521.270 6535795.920)</td>\n",
       "      <td>ponctuel</td>\n",
       "    </tr>\n",
       "    <tr>\n",
       "      <th>19</th>\n",
       "      <td>87-D711-24+0</td>\n",
       "      <td>TRONROUT0000000010782150</td>\n",
       "      <td>87-D711-23+825</td>\n",
       "      <td>TRONROUT0000000010782150</td>\n",
       "      <td>POINT (560707.067 6549332.138)</td>\n",
       "      <td>POINT (560707.067 6549332.138)</td>\n",
       "      <td>ponctuel</td>\n",
       "    </tr>\n",
       "    <tr>\n",
       "      <th>20</th>\n",
       "      <td>87-D7B-35+380</td>\n",
       "      <td>TRONROUT0000000010864113</td>\n",
       "      <td>87-D7B-35+0</td>\n",
       "      <td>TRONROUT0000000010864112</td>\n",
       "      <td>POINT (579757.255 6498214.384)</td>\n",
       "      <td>POINT (579757.255 6498214.384)</td>\n",
       "      <td>ponctuel</td>\n",
       "    </tr>\n",
       "    <tr>\n",
       "      <th>21</th>\n",
       "      <td>87-D19-41+680</td>\n",
       "      <td>TRONROUT0000000010805561</td>\n",
       "      <td>87-D19-41+700</td>\n",
       "      <td>TRONROUT0000000010805561</td>\n",
       "      <td>POINT (583683.769 6530620.837)</td>\n",
       "      <td>POINT (583683.769 6530620.837)</td>\n",
       "      <td>ponctuel</td>\n",
       "    </tr>\n",
       "    <tr>\n",
       "      <th>22</th>\n",
       "      <td>87-D56A-6+810</td>\n",
       "      <td>TRONROUT0000000010795111</td>\n",
       "      <td>87-D56A-6+850</td>\n",
       "      <td>TRONROUT0000000010795111</td>\n",
       "      <td>POINT (583265.871 6535025.453)</td>\n",
       "      <td>POINT (583265.871 6535025.453)</td>\n",
       "      <td>ponctuel</td>\n",
       "    </tr>\n",
       "  </tbody>\n",
       "</table>\n",
       "</div>"
      ],
      "text/plain": [
       "    id_comptag_lin                id_ign_lin      id_comptag  \\\n",
       "0   87-D675-14+780  TRONROUT0000000010762451   87-D675-8+800   \n",
       "1    87-D699-2+255  TRONROUT0000000356553365    87-D699-11+0   \n",
       "4    87-D699-2+255  TRONROUT0000000356553365  87-D699-10+700   \n",
       "7    87-D699-2+255  TRONROUT0000000356553365   87-D699-9+670   \n",
       "10    87-D5-33+500  TRONROUT0000000357008546      87-D5-33+0   \n",
       "11      87-D5-47+0  TRONROUT0000000010785407    87-D5-46+190   \n",
       "12    87-D5-74+485  TRONROUT0000000010796383    87-D5-74+850   \n",
       "13    87-D940-7+90  TRONROUT0000000010843063     87-D940-5+0   \n",
       "14    87-D11-5+380  TRONROUT0000000010828426    87-D11-5+315   \n",
       "15    87-D20-22+70  TRONROUT0000000356982860   87-D20-22+190   \n",
       "16     87-D98A-6+0  TRONROUT0000000010821077   87-D98A-6+190   \n",
       "17     87-D15-44+0  TRONROUT0000000010850118    87-D15-44+60   \n",
       "18    87-D914-32+0  TRONROUT0000000010794094  87-D914-32+190   \n",
       "19    87-D711-24+0  TRONROUT0000000010782150  87-D711-23+825   \n",
       "20   87-D7B-35+380  TRONROUT0000000010864113     87-D7B-35+0   \n",
       "21   87-D19-41+680  TRONROUT0000000010805561   87-D19-41+700   \n",
       "22   87-D56A-6+810  TRONROUT0000000010795111   87-D56A-6+850   \n",
       "\n",
       "              id_ign_cpt_new                    geom_cpt_lin  \\\n",
       "0   TRONROUT0000000010759061  POINT (552650.759 6572470.949)   \n",
       "1   TRONROUT0000000010842681  POINT (545554.455 6517997.427)   \n",
       "4   TRONROUT0000000010842681  POINT (545554.455 6517997.427)   \n",
       "7   TRONROUT0000000010842676  POINT (545554.455 6517997.427)   \n",
       "10  TRONROUT0000000357008546  POINT (559372.182 6545994.822)   \n",
       "11  TRONROUT0000000220129409  POINT (570123.809 6545017.192)   \n",
       "12  TRONROUT0000000010796379  POINT (588701.787 6534403.840)   \n",
       "13  TRONROUT0000000010845905  POINT (603307.580 6514565.580)   \n",
       "14  TRONROUT0000000010828426  POINT (563976.904 6523193.988)   \n",
       "15  TRONROUT0000000356982860  POINT (553659.610 6521302.054)   \n",
       "16  TRONROUT0000000010821077  POINT (572669.368 6525765.210)   \n",
       "17  TRONROUT0000000010850118  POINT (567428.589 6510685.104)   \n",
       "18  TRONROUT0000000010795365  POINT (570521.270 6535795.920)   \n",
       "19  TRONROUT0000000010782150  POINT (560707.067 6549332.138)   \n",
       "20  TRONROUT0000000010864112  POINT (579757.255 6498214.384)   \n",
       "21  TRONROUT0000000010805561  POINT (583683.769 6530620.837)   \n",
       "22  TRONROUT0000000010795111  POINT (583265.871 6535025.453)   \n",
       "\n",
       "                          geometry type_poste_new  \n",
       "0   POINT (552650.759 6572470.949)       ponctuel  \n",
       "1   POINT (545554.455 6517997.427)       ponctuel  \n",
       "4   POINT (545554.455 6517997.427)       ponctuel  \n",
       "7   POINT (545554.455 6517997.427)       ponctuel  \n",
       "10  POINT (559372.182 6545994.822)       ponctuel  \n",
       "11  POINT (570123.809 6545017.192)       ponctuel  \n",
       "12  POINT (588701.787 6534403.840)       ponctuel  \n",
       "13  POINT (603307.580 6514565.580)       tournant  \n",
       "14  POINT (563976.904 6523193.988)       ponctuel  \n",
       "15  POINT (553659.610 6521302.054)       ponctuel  \n",
       "16  POINT (572669.368 6525765.210)       ponctuel  \n",
       "17  POINT (567428.589 6510685.104)       ponctuel  \n",
       "18  POINT (570521.270 6535795.920)       ponctuel  \n",
       "19  POINT (560707.067 6549332.138)       ponctuel  \n",
       "20  POINT (579757.255 6498214.384)       ponctuel  \n",
       "21  POINT (583683.769 6530620.837)       ponctuel  \n",
       "22  POINT (583265.871 6535025.453)       ponctuel  "
      ]
     },
     "execution_count": 31,
     "metadata": {},
     "output_type": "execute_result"
    }
   ],
   "source": [
    "ppv_final"
   ]
  },
  {
   "cell_type": "code",
   "execution_count": 35,
   "metadata": {},
   "outputs": [],
   "source": [
    "def troncon_elementaires_params(bdd, schema, table_graph,table_vertex):\n",
    "    \"\"\"\n",
    "    construire les parametres de determination des troncons elementaires\n",
    "    \"\"\"    \n",
    "    df=io.import_donnes_base(bdd,schema, table_graph,table_vertex)\n",
    "    df2_chaussees=df.loc[df.nature.isin(['Autoroute', 'Quasi-autoroute', 'Route à 2 chaussées'])]\n",
    "    df_avec_rd_pt,carac_rd_pt,lign_entrant_rdpt=rp.identifier_rd_pt(df)\n",
    "    return df_avec_rd_pt, carac_rd_pt,df2_chaussees"
   ]
  },
  {
   "cell_type": "code",
   "execution_count": 37,
   "metadata": {},
   "outputs": [
    {
     "name": "stderr",
     "output_type": "stream",
     "text": [
      "c:\\users\\martin.schoreisz\\appdata\\local\\programs\\python\\python37\\lib\\site-packages\\numpy\\lib\\function_base.py:2167: RuntimeWarning: invalid value encountered in ? (vectorized)\n",
      "  outputs = ufunc(*inputs)\n",
      "c:\\users\\martin.schoreisz\\appdata\\local\\programs\\python\\python37\\lib\\site-packages\\numpy\\lib\\function_base.py:2167: RuntimeWarning: invalid value encountered in ? (vectorized)\n",
      "  outputs = ufunc(*inputs)\n",
      "c:\\users\\martin.schoreisz\\appdata\\local\\programs\\python\\python37\\lib\\site-packages\\numpy\\lib\\function_base.py:2167: RuntimeWarning: invalid value encountered in ? (vectorized)\n",
      "  outputs = ufunc(*inputs)\n",
      "c:\\users\\martin.schoreisz\\appdata\\local\\programs\\python\\python37\\lib\\site-packages\\numpy\\lib\\function_base.py:2167: RuntimeWarning: invalid value encountered in ? (vectorized)\n",
      "  outputs = ufunc(*inputs)\n"
     ]
    }
   ],
   "source": [
    "df_avec_rd_pt, carac_rd_pt,df2_chaussees=troncon_elementaires_params('gti_otv_pg11','ref', 'troncon_route_bdt87_ed18_l','troncon_route_bdt87_ed18_l_vertices_pgr')"
   ]
  },
  {
   "cell_type": "code",
   "execution_count": 38,
   "metadata": {},
   "outputs": [
    {
     "name": "stdout",
     "output_type": "stream",
     "text": [
      "0 2020-08-28 14:00:11.478497 nb lignes traitees : 0\n",
      "0 2020-08-28 14:00:12.650098 nb lignes traitees : 0\n",
      "0 2020-08-28 14:00:13.243707 nb lignes traitees : 0\n",
      "0 2020-08-28 14:00:14.571554 nb lignes traitees : 0\n",
      "0 2020-08-28 14:00:15.508804 nb lignes traitees : 0\n",
      "0 2020-08-28 14:00:16.305520 nb lignes traitees : 0\n",
      "0 2020-08-28 14:00:17.086558 nb lignes traitees : 0\n",
      "0 2020-08-28 14:00:18.867390 nb lignes traitees : 0\n",
      "0 2020-08-28 14:00:20.320214 nb lignes traitees : 0\n",
      "0 2020-08-28 14:00:20.835715 nb lignes traitees : 0\n",
      "0 2020-08-28 14:00:21.632387 nb lignes traitees : 0\n",
      "0 2020-08-28 14:00:22.819632 nb lignes traitees : 0\n",
      "0 2020-08-28 14:00:23.944327 nb lignes traitees : 0\n",
      "0 2020-08-28 14:00:25.053434 nb lignes traitees : 0\n",
      "0 2020-08-28 14:00:26.318763 nb lignes traitees : 0\n"
     ]
    }
   ],
   "source": [
    "dico_corresp={}\n",
    "for id_ign_lin in set(ppv_final.id_ign_lin.tolist()) :\n",
    "    try : \n",
    "        dico_corresp[id_ign_lin]=rc.regrouper_troncon([id_ign_lin], df_avec_rd_pt, carac_rd_pt,df2_chaussees,[])[0].id.tolist()\n",
    "    except rc.PasAffectationError : \n",
    "        continue"
   ]
  },
  {
   "cell_type": "code",
   "execution_count": 40,
   "metadata": {},
   "outputs": [],
   "source": [
    "dico_corresp['TRONROUT0000000010828426']"
   ]
  },
  {
   "cell_type": "code",
   "execution_count": 42,
   "metadata": {},
   "outputs": [],
   "source": [
    "def pt_corresp(id_ign_lin,id_ign_cpt_new,dico_corresp) : \n",
    "    if id_ign_cpt_new in dico_corresp[id_ign_lin] : \n",
    "        return True\n",
    "    else : return False"
   ]
  },
  {
   "cell_type": "code",
   "execution_count": 43,
   "metadata": {},
   "outputs": [],
   "source": [
    "ppv_final['correspondance']=ppv_final.apply(lambda x : pt_corresp(x['id_ign_lin'],x['id_ign_cpt_new'],dico_corresp),axis=1)"
   ]
  },
  {
   "cell_type": "code",
   "execution_count": 47,
   "metadata": {},
   "outputs": [
    {
     "data": {
      "text/html": [
       "<div>\n",
       "<style scoped>\n",
       "    .dataframe tbody tr th:only-of-type {\n",
       "        vertical-align: middle;\n",
       "    }\n",
       "\n",
       "    .dataframe tbody tr th {\n",
       "        vertical-align: top;\n",
       "    }\n",
       "\n",
       "    .dataframe thead th {\n",
       "        text-align: right;\n",
       "    }\n",
       "</style>\n",
       "<table border=\"1\" class=\"dataframe\">\n",
       "  <thead>\n",
       "    <tr style=\"text-align: right;\">\n",
       "      <th></th>\n",
       "      <th>id_comptag_lin</th>\n",
       "      <th>id_ign_lin</th>\n",
       "      <th>id_comptag</th>\n",
       "      <th>id_ign_cpt_new</th>\n",
       "      <th>geom_cpt_lin</th>\n",
       "      <th>geometry</th>\n",
       "      <th>type_poste_new</th>\n",
       "      <th>correspondance</th>\n",
       "    </tr>\n",
       "  </thead>\n",
       "  <tbody>\n",
       "    <tr>\n",
       "      <th>0</th>\n",
       "      <td>87-D675-14+780</td>\n",
       "      <td>TRONROUT0000000010762451</td>\n",
       "      <td>87-D675-8+800</td>\n",
       "      <td>TRONROUT0000000010759061</td>\n",
       "      <td>POINT (552650.759 6572470.949)</td>\n",
       "      <td>POINT (552650.759 6572470.949)</td>\n",
       "      <td>ponctuel</td>\n",
       "      <td>False</td>\n",
       "    </tr>\n",
       "    <tr>\n",
       "      <th>1</th>\n",
       "      <td>87-D699-2+255</td>\n",
       "      <td>TRONROUT0000000356553365</td>\n",
       "      <td>87-D699-11+0</td>\n",
       "      <td>TRONROUT0000000010842681</td>\n",
       "      <td>POINT (545554.455 6517997.427)</td>\n",
       "      <td>POINT (545554.455 6517997.427)</td>\n",
       "      <td>ponctuel</td>\n",
       "      <td>False</td>\n",
       "    </tr>\n",
       "    <tr>\n",
       "      <th>4</th>\n",
       "      <td>87-D699-2+255</td>\n",
       "      <td>TRONROUT0000000356553365</td>\n",
       "      <td>87-D699-10+700</td>\n",
       "      <td>TRONROUT0000000010842681</td>\n",
       "      <td>POINT (545554.455 6517997.427)</td>\n",
       "      <td>POINT (545554.455 6517997.427)</td>\n",
       "      <td>ponctuel</td>\n",
       "      <td>False</td>\n",
       "    </tr>\n",
       "    <tr>\n",
       "      <th>7</th>\n",
       "      <td>87-D699-2+255</td>\n",
       "      <td>TRONROUT0000000356553365</td>\n",
       "      <td>87-D699-9+670</td>\n",
       "      <td>TRONROUT0000000010842676</td>\n",
       "      <td>POINT (545554.455 6517997.427)</td>\n",
       "      <td>POINT (545554.455 6517997.427)</td>\n",
       "      <td>ponctuel</td>\n",
       "      <td>False</td>\n",
       "    </tr>\n",
       "    <tr>\n",
       "      <th>10</th>\n",
       "      <td>87-D5-33+500</td>\n",
       "      <td>TRONROUT0000000357008546</td>\n",
       "      <td>87-D5-33+0</td>\n",
       "      <td>TRONROUT0000000357008546</td>\n",
       "      <td>POINT (559372.182 6545994.822)</td>\n",
       "      <td>POINT (559372.182 6545994.822)</td>\n",
       "      <td>ponctuel</td>\n",
       "      <td>True</td>\n",
       "    </tr>\n",
       "    <tr>\n",
       "      <th>11</th>\n",
       "      <td>87-D5-47+0</td>\n",
       "      <td>TRONROUT0000000010785407</td>\n",
       "      <td>87-D5-46+190</td>\n",
       "      <td>TRONROUT0000000220129409</td>\n",
       "      <td>POINT (570123.809 6545017.192)</td>\n",
       "      <td>POINT (570123.809 6545017.192)</td>\n",
       "      <td>ponctuel</td>\n",
       "      <td>True</td>\n",
       "    </tr>\n",
       "    <tr>\n",
       "      <th>12</th>\n",
       "      <td>87-D5-74+485</td>\n",
       "      <td>TRONROUT0000000010796383</td>\n",
       "      <td>87-D5-74+850</td>\n",
       "      <td>TRONROUT0000000010796379</td>\n",
       "      <td>POINT (588701.787 6534403.840)</td>\n",
       "      <td>POINT (588701.787 6534403.840)</td>\n",
       "      <td>ponctuel</td>\n",
       "      <td>True</td>\n",
       "    </tr>\n",
       "    <tr>\n",
       "      <th>13</th>\n",
       "      <td>87-D940-7+90</td>\n",
       "      <td>TRONROUT0000000010843063</td>\n",
       "      <td>87-D940-5+0</td>\n",
       "      <td>TRONROUT0000000010845905</td>\n",
       "      <td>POINT (603307.580 6514565.580)</td>\n",
       "      <td>POINT (603307.580 6514565.580)</td>\n",
       "      <td>tournant</td>\n",
       "      <td>True</td>\n",
       "    </tr>\n",
       "    <tr>\n",
       "      <th>14</th>\n",
       "      <td>87-D11-5+380</td>\n",
       "      <td>TRONROUT0000000010828426</td>\n",
       "      <td>87-D11-5+315</td>\n",
       "      <td>TRONROUT0000000010828426</td>\n",
       "      <td>POINT (563976.904 6523193.988)</td>\n",
       "      <td>POINT (563976.904 6523193.988)</td>\n",
       "      <td>ponctuel</td>\n",
       "      <td>True</td>\n",
       "    </tr>\n",
       "    <tr>\n",
       "      <th>15</th>\n",
       "      <td>87-D20-22+70</td>\n",
       "      <td>TRONROUT0000000356982860</td>\n",
       "      <td>87-D20-22+190</td>\n",
       "      <td>TRONROUT0000000356982860</td>\n",
       "      <td>POINT (553659.610 6521302.054)</td>\n",
       "      <td>POINT (553659.610 6521302.054)</td>\n",
       "      <td>ponctuel</td>\n",
       "      <td>True</td>\n",
       "    </tr>\n",
       "    <tr>\n",
       "      <th>16</th>\n",
       "      <td>87-D98A-6+0</td>\n",
       "      <td>TRONROUT0000000010821077</td>\n",
       "      <td>87-D98A-6+190</td>\n",
       "      <td>TRONROUT0000000010821077</td>\n",
       "      <td>POINT (572669.368 6525765.210)</td>\n",
       "      <td>POINT (572669.368 6525765.210)</td>\n",
       "      <td>ponctuel</td>\n",
       "      <td>True</td>\n",
       "    </tr>\n",
       "    <tr>\n",
       "      <th>17</th>\n",
       "      <td>87-D15-44+0</td>\n",
       "      <td>TRONROUT0000000010850118</td>\n",
       "      <td>87-D15-44+60</td>\n",
       "      <td>TRONROUT0000000010850118</td>\n",
       "      <td>POINT (567428.589 6510685.104)</td>\n",
       "      <td>POINT (567428.589 6510685.104)</td>\n",
       "      <td>ponctuel</td>\n",
       "      <td>True</td>\n",
       "    </tr>\n",
       "    <tr>\n",
       "      <th>18</th>\n",
       "      <td>87-D914-32+0</td>\n",
       "      <td>TRONROUT0000000010794094</td>\n",
       "      <td>87-D914-32+190</td>\n",
       "      <td>TRONROUT0000000010795365</td>\n",
       "      <td>POINT (570521.270 6535795.920)</td>\n",
       "      <td>POINT (570521.270 6535795.920)</td>\n",
       "      <td>ponctuel</td>\n",
       "      <td>True</td>\n",
       "    </tr>\n",
       "    <tr>\n",
       "      <th>19</th>\n",
       "      <td>87-D711-24+0</td>\n",
       "      <td>TRONROUT0000000010782150</td>\n",
       "      <td>87-D711-23+825</td>\n",
       "      <td>TRONROUT0000000010782150</td>\n",
       "      <td>POINT (560707.067 6549332.138)</td>\n",
       "      <td>POINT (560707.067 6549332.138)</td>\n",
       "      <td>ponctuel</td>\n",
       "      <td>True</td>\n",
       "    </tr>\n",
       "    <tr>\n",
       "      <th>20</th>\n",
       "      <td>87-D7B-35+380</td>\n",
       "      <td>TRONROUT0000000010864113</td>\n",
       "      <td>87-D7B-35+0</td>\n",
       "      <td>TRONROUT0000000010864112</td>\n",
       "      <td>POINT (579757.255 6498214.384)</td>\n",
       "      <td>POINT (579757.255 6498214.384)</td>\n",
       "      <td>ponctuel</td>\n",
       "      <td>True</td>\n",
       "    </tr>\n",
       "    <tr>\n",
       "      <th>21</th>\n",
       "      <td>87-D19-41+680</td>\n",
       "      <td>TRONROUT0000000010805561</td>\n",
       "      <td>87-D19-41+700</td>\n",
       "      <td>TRONROUT0000000010805561</td>\n",
       "      <td>POINT (583683.769 6530620.837)</td>\n",
       "      <td>POINT (583683.769 6530620.837)</td>\n",
       "      <td>ponctuel</td>\n",
       "      <td>True</td>\n",
       "    </tr>\n",
       "    <tr>\n",
       "      <th>22</th>\n",
       "      <td>87-D56A-6+810</td>\n",
       "      <td>TRONROUT0000000010795111</td>\n",
       "      <td>87-D56A-6+850</td>\n",
       "      <td>TRONROUT0000000010795111</td>\n",
       "      <td>POINT (583265.871 6535025.453)</td>\n",
       "      <td>POINT (583265.871 6535025.453)</td>\n",
       "      <td>ponctuel</td>\n",
       "      <td>True</td>\n",
       "    </tr>\n",
       "  </tbody>\n",
       "</table>\n",
       "</div>"
      ],
      "text/plain": [
       "    id_comptag_lin                id_ign_lin      id_comptag  \\\n",
       "0   87-D675-14+780  TRONROUT0000000010762451   87-D675-8+800   \n",
       "1    87-D699-2+255  TRONROUT0000000356553365    87-D699-11+0   \n",
       "4    87-D699-2+255  TRONROUT0000000356553365  87-D699-10+700   \n",
       "7    87-D699-2+255  TRONROUT0000000356553365   87-D699-9+670   \n",
       "10    87-D5-33+500  TRONROUT0000000357008546      87-D5-33+0   \n",
       "11      87-D5-47+0  TRONROUT0000000010785407    87-D5-46+190   \n",
       "12    87-D5-74+485  TRONROUT0000000010796383    87-D5-74+850   \n",
       "13    87-D940-7+90  TRONROUT0000000010843063     87-D940-5+0   \n",
       "14    87-D11-5+380  TRONROUT0000000010828426    87-D11-5+315   \n",
       "15    87-D20-22+70  TRONROUT0000000356982860   87-D20-22+190   \n",
       "16     87-D98A-6+0  TRONROUT0000000010821077   87-D98A-6+190   \n",
       "17     87-D15-44+0  TRONROUT0000000010850118    87-D15-44+60   \n",
       "18    87-D914-32+0  TRONROUT0000000010794094  87-D914-32+190   \n",
       "19    87-D711-24+0  TRONROUT0000000010782150  87-D711-23+825   \n",
       "20   87-D7B-35+380  TRONROUT0000000010864113     87-D7B-35+0   \n",
       "21   87-D19-41+680  TRONROUT0000000010805561   87-D19-41+700   \n",
       "22   87-D56A-6+810  TRONROUT0000000010795111   87-D56A-6+850   \n",
       "\n",
       "              id_ign_cpt_new                    geom_cpt_lin  \\\n",
       "0   TRONROUT0000000010759061  POINT (552650.759 6572470.949)   \n",
       "1   TRONROUT0000000010842681  POINT (545554.455 6517997.427)   \n",
       "4   TRONROUT0000000010842681  POINT (545554.455 6517997.427)   \n",
       "7   TRONROUT0000000010842676  POINT (545554.455 6517997.427)   \n",
       "10  TRONROUT0000000357008546  POINT (559372.182 6545994.822)   \n",
       "11  TRONROUT0000000220129409  POINT (570123.809 6545017.192)   \n",
       "12  TRONROUT0000000010796379  POINT (588701.787 6534403.840)   \n",
       "13  TRONROUT0000000010845905  POINT (603307.580 6514565.580)   \n",
       "14  TRONROUT0000000010828426  POINT (563976.904 6523193.988)   \n",
       "15  TRONROUT0000000356982860  POINT (553659.610 6521302.054)   \n",
       "16  TRONROUT0000000010821077  POINT (572669.368 6525765.210)   \n",
       "17  TRONROUT0000000010850118  POINT (567428.589 6510685.104)   \n",
       "18  TRONROUT0000000010795365  POINT (570521.270 6535795.920)   \n",
       "19  TRONROUT0000000010782150  POINT (560707.067 6549332.138)   \n",
       "20  TRONROUT0000000010864112  POINT (579757.255 6498214.384)   \n",
       "21  TRONROUT0000000010805561  POINT (583683.769 6530620.837)   \n",
       "22  TRONROUT0000000010795111  POINT (583265.871 6535025.453)   \n",
       "\n",
       "                          geometry type_poste_new  correspondance  \n",
       "0   POINT (552650.759 6572470.949)       ponctuel           False  \n",
       "1   POINT (545554.455 6517997.427)       ponctuel           False  \n",
       "4   POINT (545554.455 6517997.427)       ponctuel           False  \n",
       "7   POINT (545554.455 6517997.427)       ponctuel           False  \n",
       "10  POINT (559372.182 6545994.822)       ponctuel            True  \n",
       "11  POINT (570123.809 6545017.192)       ponctuel            True  \n",
       "12  POINT (588701.787 6534403.840)       ponctuel            True  \n",
       "13  POINT (603307.580 6514565.580)       tournant            True  \n",
       "14  POINT (563976.904 6523193.988)       ponctuel            True  \n",
       "15  POINT (553659.610 6521302.054)       ponctuel            True  \n",
       "16  POINT (572669.368 6525765.210)       ponctuel            True  \n",
       "17  POINT (567428.589 6510685.104)       ponctuel            True  \n",
       "18  POINT (570521.270 6535795.920)       ponctuel            True  \n",
       "19  POINT (560707.067 6549332.138)       ponctuel            True  \n",
       "20  POINT (579757.255 6498214.384)       ponctuel            True  \n",
       "21  POINT (583683.769 6530620.837)       ponctuel            True  \n",
       "22  POINT (583265.871 6535025.453)       ponctuel            True  "
      ]
     },
     "execution_count": 47,
     "metadata": {},
     "output_type": "execute_result"
    }
   ],
   "source": [
    "ppv_final"
   ]
  },
  {
   "cell_type": "code",
   "execution_count": 51,
   "metadata": {},
   "outputs": [
    {
     "data": {
      "text/html": [
       "<div>\n",
       "<style scoped>\n",
       "    .dataframe tbody tr th:only-of-type {\n",
       "        vertical-align: middle;\n",
       "    }\n",
       "\n",
       "    .dataframe tbody tr th {\n",
       "        vertical-align: top;\n",
       "    }\n",
       "\n",
       "    .dataframe thead th {\n",
       "        text-align: right;\n",
       "    }\n",
       "</style>\n",
       "<table border=\"1\" class=\"dataframe\">\n",
       "  <thead>\n",
       "    <tr style=\"text-align: right;\">\n",
       "      <th></th>\n",
       "      <th>id_comptag_lin</th>\n",
       "      <th>id_ign_lin</th>\n",
       "      <th>id_comptag</th>\n",
       "      <th>id_ign_cpt_new</th>\n",
       "      <th>geom_cpt_lin</th>\n",
       "      <th>geometry</th>\n",
       "      <th>type_poste_new</th>\n",
       "      <th>correspondance</th>\n",
       "    </tr>\n",
       "  </thead>\n",
       "  <tbody>\n",
       "    <tr>\n",
       "      <th>10</th>\n",
       "      <td>87-D5-33+500</td>\n",
       "      <td>TRONROUT0000000357008546</td>\n",
       "      <td>87-D5-33+0</td>\n",
       "      <td>TRONROUT0000000357008546</td>\n",
       "      <td>POINT (559372.182 6545994.822)</td>\n",
       "      <td>POINT (559372.182 6545994.822)</td>\n",
       "      <td>ponctuel</td>\n",
       "      <td>True</td>\n",
       "    </tr>\n",
       "    <tr>\n",
       "      <th>11</th>\n",
       "      <td>87-D5-47+0</td>\n",
       "      <td>TRONROUT0000000010785407</td>\n",
       "      <td>87-D5-46+190</td>\n",
       "      <td>TRONROUT0000000220129409</td>\n",
       "      <td>POINT (570123.809 6545017.192)</td>\n",
       "      <td>POINT (570123.809 6545017.192)</td>\n",
       "      <td>ponctuel</td>\n",
       "      <td>True</td>\n",
       "    </tr>\n",
       "    <tr>\n",
       "      <th>14</th>\n",
       "      <td>87-D11-5+380</td>\n",
       "      <td>TRONROUT0000000010828426</td>\n",
       "      <td>87-D11-5+315</td>\n",
       "      <td>TRONROUT0000000010828426</td>\n",
       "      <td>POINT (563976.904 6523193.988)</td>\n",
       "      <td>POINT (563976.904 6523193.988)</td>\n",
       "      <td>ponctuel</td>\n",
       "      <td>True</td>\n",
       "    </tr>\n",
       "    <tr>\n",
       "      <th>15</th>\n",
       "      <td>87-D20-22+70</td>\n",
       "      <td>TRONROUT0000000356982860</td>\n",
       "      <td>87-D20-22+190</td>\n",
       "      <td>TRONROUT0000000356982860</td>\n",
       "      <td>POINT (553659.610 6521302.054)</td>\n",
       "      <td>POINT (553659.610 6521302.054)</td>\n",
       "      <td>ponctuel</td>\n",
       "      <td>True</td>\n",
       "    </tr>\n",
       "    <tr>\n",
       "      <th>16</th>\n",
       "      <td>87-D98A-6+0</td>\n",
       "      <td>TRONROUT0000000010821077</td>\n",
       "      <td>87-D98A-6+190</td>\n",
       "      <td>TRONROUT0000000010821077</td>\n",
       "      <td>POINT (572669.368 6525765.210)</td>\n",
       "      <td>POINT (572669.368 6525765.210)</td>\n",
       "      <td>ponctuel</td>\n",
       "      <td>True</td>\n",
       "    </tr>\n",
       "    <tr>\n",
       "      <th>17</th>\n",
       "      <td>87-D15-44+0</td>\n",
       "      <td>TRONROUT0000000010850118</td>\n",
       "      <td>87-D15-44+60</td>\n",
       "      <td>TRONROUT0000000010850118</td>\n",
       "      <td>POINT (567428.589 6510685.104)</td>\n",
       "      <td>POINT (567428.589 6510685.104)</td>\n",
       "      <td>ponctuel</td>\n",
       "      <td>True</td>\n",
       "    </tr>\n",
       "    <tr>\n",
       "      <th>18</th>\n",
       "      <td>87-D914-32+0</td>\n",
       "      <td>TRONROUT0000000010794094</td>\n",
       "      <td>87-D914-32+190</td>\n",
       "      <td>TRONROUT0000000010795365</td>\n",
       "      <td>POINT (570521.270 6535795.920)</td>\n",
       "      <td>POINT (570521.270 6535795.920)</td>\n",
       "      <td>ponctuel</td>\n",
       "      <td>True</td>\n",
       "    </tr>\n",
       "    <tr>\n",
       "      <th>19</th>\n",
       "      <td>87-D711-24+0</td>\n",
       "      <td>TRONROUT0000000010782150</td>\n",
       "      <td>87-D711-23+825</td>\n",
       "      <td>TRONROUT0000000010782150</td>\n",
       "      <td>POINT (560707.067 6549332.138)</td>\n",
       "      <td>POINT (560707.067 6549332.138)</td>\n",
       "      <td>ponctuel</td>\n",
       "      <td>True</td>\n",
       "    </tr>\n",
       "  </tbody>\n",
       "</table>\n",
       "</div>"
      ],
      "text/plain": [
       "   id_comptag_lin                id_ign_lin      id_comptag  \\\n",
       "10   87-D5-33+500  TRONROUT0000000357008546      87-D5-33+0   \n",
       "11     87-D5-47+0  TRONROUT0000000010785407    87-D5-46+190   \n",
       "14   87-D11-5+380  TRONROUT0000000010828426    87-D11-5+315   \n",
       "15   87-D20-22+70  TRONROUT0000000356982860   87-D20-22+190   \n",
       "16    87-D98A-6+0  TRONROUT0000000010821077   87-D98A-6+190   \n",
       "17    87-D15-44+0  TRONROUT0000000010850118    87-D15-44+60   \n",
       "18   87-D914-32+0  TRONROUT0000000010794094  87-D914-32+190   \n",
       "19   87-D711-24+0  TRONROUT0000000010782150  87-D711-23+825   \n",
       "\n",
       "              id_ign_cpt_new                    geom_cpt_lin  \\\n",
       "10  TRONROUT0000000357008546  POINT (559372.182 6545994.822)   \n",
       "11  TRONROUT0000000220129409  POINT (570123.809 6545017.192)   \n",
       "14  TRONROUT0000000010828426  POINT (563976.904 6523193.988)   \n",
       "15  TRONROUT0000000356982860  POINT (553659.610 6521302.054)   \n",
       "16  TRONROUT0000000010821077  POINT (572669.368 6525765.210)   \n",
       "17  TRONROUT0000000010850118  POINT (567428.589 6510685.104)   \n",
       "18  TRONROUT0000000010795365  POINT (570521.270 6535795.920)   \n",
       "19  TRONROUT0000000010782150  POINT (560707.067 6549332.138)   \n",
       "\n",
       "                          geometry type_poste_new  correspondance  \n",
       "10  POINT (559372.182 6545994.822)       ponctuel            True  \n",
       "11  POINT (570123.809 6545017.192)       ponctuel            True  \n",
       "14  POINT (563976.904 6523193.988)       ponctuel            True  \n",
       "15  POINT (553659.610 6521302.054)       ponctuel            True  \n",
       "16  POINT (572669.368 6525765.210)       ponctuel            True  \n",
       "17  POINT (567428.589 6510685.104)       ponctuel            True  \n",
       "18  POINT (570521.270 6535795.920)       ponctuel            True  \n",
       "19  POINT (560707.067 6549332.138)       ponctuel            True  "
      ]
     },
     "execution_count": 51,
     "metadata": {},
     "output_type": "execute_result"
    }
   ],
   "source": [
    "ppv_final.loc[(ppv_final['correspondance']) & \n",
    "              (~ppv_final['id_comptag_lin'].isin(d87.df_attr.id_comptag.tolist()))]"
   ]
  },
  {
   "cell_type": "code",
   "execution_count": 54,
   "metadata": {},
   "outputs": [
    {
     "data": {
      "text/plain": [
       "[{'pr': 7,\n",
       "  'abs': 810,\n",
       "  'fichiers': ['RD11PR7(810_1905291153_M3H_WA.FIM'],\n",
       "  'tmja': 2829,\n",
       "  'pc_pl': 4.2,\n",
       "  'date_debut': Timestamp('2019-05-21 15:00:00'),\n",
       "  'date_fin': Timestamp('2019-05-29 10:00:00'),\n",
       "  'type_poste': 'ponctuel'},\n",
       " {'pr': 5,\n",
       "  'abs': 315,\n",
       "  'fichiers': ['RD11PR5(315_1905291139_M3H_WA.FIM'],\n",
       "  'tmja': 6601,\n",
       "  'pc_pl': 5.3,\n",
       "  'date_debut': Timestamp('2019-05-21 15:00:00'),\n",
       "  'date_fin': Timestamp('2019-05-29 10:00:00'),\n",
       "  'type_poste': 'ponctuel'},\n",
       " {'pr': 14,\n",
       "  'abs': 55,\n",
       "  'fichiers': ['RD11PR14(055_1906031524_M3H_WA.FIM'],\n",
       "  'tmja': 1587,\n",
       "  'pc_pl': 1.6,\n",
       "  'date_debut': Timestamp('2019-05-23 11:00:00'),\n",
       "  'date_fin': Timestamp('2019-06-03 14:00:00'),\n",
       "  'type_poste': 'ponctuel'}]"
      ]
     },
     "execution_count": 54,
     "metadata": {},
     "output_type": "execute_result"
    }
   ],
   "source": [
    "d87.dico_voie['D11']"
   ]
  },
  {
   "cell_type": "code",
   "execution_count": null,
   "metadata": {},
   "outputs": [],
   "source": []
  }
 ],
 "metadata": {
  "kernelspec": {
   "display_name": "Python 3",
   "language": "python",
   "name": "python3"
  },
  "language_info": {
   "codemirror_mode": {
    "name": "ipython",
    "version": 3
   },
   "file_extension": ".py",
   "mimetype": "text/x-python",
   "name": "python",
   "nbconvert_exporter": "python",
   "pygments_lexer": "ipython3",
   "version": "3.7.0"
  }
 },
 "nbformat": 4,
 "nbformat_minor": 4
}
