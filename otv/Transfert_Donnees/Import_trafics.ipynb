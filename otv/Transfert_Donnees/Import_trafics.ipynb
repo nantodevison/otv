{
 "cells": [
  {
   "cell_type": "markdown",
   "metadata": {},
   "source": [
    "# ***Import des données de comptage***\n",
    "> il y a un exemple de verification si doublons de point dans le 17"
   ]
  },
  {
   "cell_type": "code",
   "execution_count": 1,
   "metadata": {},
   "outputs": [],
   "source": [
    "%load_ext autoreload\n",
    "%autoreload 2\n",
    "import sys\n",
    "sys.path.append(r'C:\\Users\\martin.schoreisz\\git\\otv\\otv\\Transfert_Donnees')\n",
    "sys.path.append(r'C:\\Users\\martin.schoreisz\\git\\Outils\\Outils\\Martin_Perso')\n",
    "import pandas as pd\n",
    "import geopandas as gp\n",
    "import numpy as np\n",
    "import csv, re, os, statistics, filecmp\n",
    "import Connexion_Transfert as ct\n",
    "import Import_trafics as it\n",
    "import Outils\n",
    "from collections import Counter\n",
    "from shapely.geometry import LineString, MultiLineString\n",
    "from geoalchemy2 import Geometry, WKTElement\n",
    "from Base_BdTopo import Import_outils as io\n",
    "from Base_BdTopo import Rond_points as rp\n",
    "from Base_BdTopo import Regroupement_correspondance as rc\n",
    "from sqlalchemy.schema import MetaData\n",
    "from statistics import mean\n",
    "pd.set_option('display.max_columns', 100)\n",
    "pd.set_option('display.max_colwidth', -1)"
   ]
  },
  {
   "cell_type": "markdown",
   "metadata": {},
   "source": [
    "## **CD 23**\n",
    "- Année 2018 : \n",
    "> à partir du fichier __Q:\\DAIT\\TI\\DREAL33\\2019\\C19SA0035_OTR-NA\\Doc_travail\\Donnees_source\\CD23\\2018_CD23_trafics.xls__<br>***attention : pour le point de comptage D941 6+152 à Aubusson, le pR est 32 et non 6. il faut donc corriger à la main le fihcier excel***\n",
    "<br> Pour le moment tous les points sont déjà dans  la base, dc pas de traitement de type insert prévus."
   ]
  },
  {
   "cell_type": "code",
   "execution_count": 11,
   "metadata": {},
   "outputs": [],
   "source": [
    "# ouvrir le classeur\n",
    "df_excel=pd.read_excel(r'Q:\\DAIT\\TI\\DREAL33\\2019\\C19SA0035_OTR-NA\\Doc_travail\\Donnees_source\\CD23\\2018_CD23_trafics.xls',skiprows=11)\n",
    "# renomer les champs\n",
    "df_excel_rennome=df_excel.rename(columns={'1er trimestre  du 01 janvier au 31 mars':'trim1_TV', 'Unnamed: 9':'trim1_pcpl',\n",
    "                         '2ème trimestre du 01 avril au 30 juin':'trim2_TV', 'Unnamed: 11':'trim2_pcpl',\n",
    "                         '3ème trimestre du 01 juillet au 30 septembre':'trim3_TV', 'Unnamed: 13':'trim3_pcpl',\n",
    "                         '4ème trimestre du 01 octobre au 31 décembre':'trim4_TV', 'Unnamed: 15':'trim4_pcpl',\n",
    "                         'Unnamed: 17':'pc_pl', 'TMJA 2018':'tmja'})\n",
    "#supprimer la 1ere ligne\n",
    "df_excel_filtre=df_excel_rennome.loc[1:,:].copy()\n",
    "#mise en forme attribut\n",
    "df_excel_filtre['Route']=df_excel_filtre.apply(lambda x : str(x['Route']).upper(), axis=1)\n",
    "annee_cpt='2018'\n",
    "#attribut id_comptag\n",
    "for i in ['DEP','PR','ABS'] : \n",
    "    df_excel_filtre[i]=df_excel_filtre.apply(lambda x : str(int(x[i])),axis=1)\n",
    "df_excel_filtre['id_comptag']=df_excel_filtre.apply(lambda x : '-'.join([x['DEP'],'D'+str(x['Route']),\n",
    "                                                                         x['PR']+'+'+x['ABS']]),axis=1)\n",
    "#donnees_mensuelles\n",
    "list_id_comptag=[val for val in df_excel_filtre.id_comptag.tolist() for _ in (0, 1)]\n",
    "donnees_type=['tmja','pc_pl']*len(df_excel_filtre.id_comptag.tolist())\n",
    "annee_df=['2018']*2*len(df_excel_filtre.id_comptag.tolist())\n",
    "janv, fev, mars,avril,mai,juin,juil,aout,sept,octo,nov,dec=[],[],[],[],[],[],[],[],[],[],[],[]\n",
    "for i in range(len(df_excel_filtre.id_comptag.tolist())) :\n",
    "    for j in (janv, fev, mars) :\n",
    "        j.extend([df_excel_filtre.trim1_TV.tolist()[i],df_excel_filtre.trim1_pcpl.tolist()[i]])\n",
    "    for k in (avril,mai,juin) :\n",
    "        k.extend([df_excel_filtre.trim2_TV.tolist()[i],df_excel_filtre.trim2_pcpl.tolist()[i]])\n",
    "    for l in (juil,aout,sept) :\n",
    "        l.extend([df_excel_filtre.trim3_TV.tolist()[i],df_excel_filtre.trim3_pcpl.tolist()[i]])\n",
    "    for m in (octo,nov,dec) :\n",
    "        m.extend([df_excel_filtre.trim4_TV.tolist()[i],df_excel_filtre.trim4_pcpl.tolist()[i]])\n",
    "donnees_mens=pd.DataFrame({'id_comptag':list_id_comptag,'donnees_type':donnees_type,'annee':annee_df,'janv':janv,'fevr':fev,'mars':mars,'avri':avril,\n",
    "              'mai':mai,'juin':juin,'juil':juil,'aout':aout,'sept':sept,'octo':octo,'nove':nov,'dece':dec})"
   ]
  },
  {
   "cell_type": "code",
   "execution_count": 12,
   "metadata": {
    "collapsed": true,
    "jupyter": {
     "outputs_hidden": true
    }
   },
   "outputs": [
    {
     "name": "stdout",
     "output_type": "stream",
     "text": [
      "23-D941-77+25 ok, MaJ\n",
      "23-D941-60+270 ok, MaJ\n",
      "23-D941-57+639 ok, MaJ\n",
      "23-D941-24+257 ok, MaJ\n",
      "23-D914-0+600 ok, MaJ\n",
      "23-D940-39+944 ok, MaJ\n",
      "23-D997-24+86 ok, MaJ\n",
      "23-D915-5+595 ok, MaJ\n",
      "23-D951-8+150 ok, MaJ\n",
      "23-D990-59+690 ok, MaJ\n",
      "23-D942-1+585 ok, MaJ\n",
      "23-D942-23+698 ok, MaJ\n",
      "23-D1-14+725 ok, MaJ\n",
      "23-D1-22+760 ok, MaJ\n",
      "23-D912-15+739 ok, MaJ\n",
      "23-D5-35+590 ok, MaJ\n",
      "23-D913-9+780 ok, MaJ\n",
      "23-D951-28+425 ok, MaJ\n",
      "23-D6-20+56 ok, MaJ\n",
      "23-D6-0+826 ok, MaJ\n",
      "23-D940-50+116 ok, MaJ\n",
      "23-D940-66+431 ok, MaJ\n",
      "23-D990-16+988 ok, MaJ\n",
      "23-D942-31+637 ok, MaJ\n",
      "23-D990-27+817 ok, MaJ\n",
      "23-D990-45+295 ok, MaJ\n",
      "23-D11-6+857 ok, MaJ\n",
      "23-D11-22+776 ok, MaJ\n",
      "23-D917-7+372 ok, MaJ\n",
      "23-D917-12+491 ok, MaJ\n",
      "23-D993-4+638 ok, MaJ\n",
      "23-D915-18+907 ok, MaJ\n",
      "23-D997-35+417 ok, MaJ\n",
      "23-D996-21+935 ok, MaJ\n",
      "23-D4-82+80 ok, MaJ\n",
      "23-D990-65+576 ok, MaJ\n",
      "23-D941A-4+172 ok, MaJ\n",
      "23-D982-1+210 ok, MaJ\n",
      "23-D997-13+862 ok, MaJ\n",
      "23-D982-17+780 ok, MaJ\n",
      "23-D982-36+433 ok, MaJ\n",
      "23-D8-33+506 ok, MaJ\n",
      "23-D912-42+22 ok, MaJ\n",
      "23-D4-19+290 ok, MaJ\n",
      "23-D4-35+917 ok, MaJ\n",
      "23-D940-34+578 ok, MaJ\n",
      "23-D940-20+284 ok, MaJ\n",
      "23-D941-6+152 ok, MaJ\n",
      "23-D912-4+875 ok, MaJ\n",
      "23-D990-34+578 ok, MaJ\n",
      "23-D55-20+284 ok, MaJ\n",
      "23-D941-32+152 ok, MaJ\n",
      "23-D982-4+875 ok, MaJ\n",
      "fini\n"
     ]
    }
   ],
   "source": [
    "#Mise à jour bdd\n",
    "with ct.ConnexionBdd('gti_otv') as c :\n",
    "    c.curs.execute(\"select distinct id_comptag from comptage.na_2010_2018_p where dep='23' order by id_comptag\")\n",
    "    listerecord=[record[0] for record in c.curs]\n",
    "    for id_comptag,tmja, pc_pl  in zip(df_excel_filtre.id_comptag.tolist(), df_excel_filtre.tmja.tolist(),df_excel_filtre.pc_pl.tolist()) : \n",
    "        if id_comptag in listerecord :\n",
    "            c.curs.execute(\"update comptage.na_2010_2018_p set tmja_2018=%s, pc_pl_2018=%s, ann_cpt=%s where id_comptag=%s\",(tmja, pc_pl,annee_cpt,id_comptag))\n",
    "        else : \n",
    "            print (f'{id_comptag} nouveau, à traiter')\n",
    "    print('fini')\n",
    "    c.connexionPsy.commit()\n",
    "    donnees_mens.to_sql('na_2010_2018_mensuel', c.sqlAlchemyConn,schema='comptage',if_exists='append',index=False)"
   ]
  },
  {
   "cell_type": "markdown",
   "metadata": {},
   "source": [
    "## **CD 40**\n",
    "> Année 2018 : contient des données mensuelless"
   ]
  },
  {
   "cell_type": "code",
   "execution_count": null,
   "metadata": {},
   "outputs": [],
   "source": [
    "it.cd40()"
   ]
  },
  {
   "cell_type": "markdown",
   "metadata": {},
   "source": [
    "## **CD17**"
   ]
  },
  {
   "cell_type": "markdown",
   "metadata": {},
   "source": [
    "> ### Année 2015 : traitée dans le fichier Import_trafics.py"
   ]
  },
  {
   "cell_type": "markdown",
   "metadata": {},
   "source": [
    "> ### année 2016 données issue des borchures de comptage, uniquemnet pour ponctuels"
   ]
  },
  {
   "cell_type": "code",
   "execution_count": 6,
   "metadata": {},
   "outputs": [],
   "source": [
    "#ouverture du fichier\n",
    "cpt17=it.Comptage_cd17(r'Q:\\DAIT\\TI\\DREAL33\\2019\\C19SA0035_OTR-NA\\Doc_travail\\Donnees_produites\\donnnees_travail\\Comptage\\17\\cpt_pctuel_but_2016.txt',\n",
    "                       'brochure',2016)\n",
    "\n",
    "#mettre à jour les id_comptage deja presents (attention, update Bdd à changé, il faut passer par creer_valeur_txt_update avant et certains paramètres ont changé)\n",
    "cpt17.mises_forme_bdd('gti_otv', 'comptage', 'na_2010_2017_p', '17','ponctuel') #creer les attributs selon les donnees presentes dans la base\n",
    "cpt17.update_bdd('gti_otv', 'comptage', 'na_2010_2017_p')#mise à jour\n",
    "\n",
    "#creer referentiel si besoin\n",
    "with ct.ConnexionBdd('gti_otv') as c:\n",
    "    ct.ogr2ogr_shp2pg(c.connstringOgr, r'Y:\\REF_GEO\\BD_Topo\\D17\\ED16\\SHP\\1_DONNEES_LIVRAISON\\N_TRONCON_ROUTE_BDT_017.SHP',\n",
    "                     schema='referentiel',table='troncon_route_bdt17_ed16_l',geotype='MULTILINESTRING', dims=2, encodageClient='LATIN1' )\n",
    "#creer graph\n",
    "rqt=\"\"\"\n",
    "alter table referentiel.troncon_route_bdt17_ed16_l add column source integer , add column target integer ;\n",
    "select pgr_createTopology ('referentiel.troncon_route_bdt17_ed16_l',1,'geom', 'ogc_fid') ;\n",
    "ALTER TABLE referentiel.troncon_route_bdt17_ed16_l  RENAME COLUMN id TO id_ign;\n",
    "ALTER TABLE referentiel.troncon_route_bdt17_ed16_l  RENAME COLUMN ogc_fid TO id;\n",
    "alter table referentiel.troncon_route_bdt17_ed16_l add column long_km numeric ;\n",
    "update referentiel.troncon_route_bdt17_ed16_l set long_km=(st_length(geom)/1000) ;\n",
    "\"\"\" #attention, il manque la ligne au dessus pour créer l'analyseGraph qui va renvoyer le nb de count\n",
    "with ct.ConnexionBdd('gti_otv') as c:\n",
    "    c.sqlAlchemyConn.execute(rqt)\n",
    "\n",
    "#inserer les nouveaux comptages\n",
    "with ct.ConnexionBdd('gti_otv') as c:\n",
    "    cpt17.df_attr_insert.to_sql('na_2010_2017_p',c.sqlAlchemyConn,schema='comptage',if_exists='append', index=False )\n",
    "\n",
    "#mettre à jour la geom \n",
    "rqt=\"\"\" update comptage.na_2010_2017_p\n",
    "  set geom=(select geom_out  from comptage.geoloc_pt_comptag(id_comptag))\n",
    "  where dep='17' and geom is null\n",
    "\"\"\"\n",
    "with ct.ConnexionBdd('gti_otv') as c:\n",
    "    c.sqlAlchemyConn.execute(rqt)"
   ]
  },
  {
   "cell_type": "markdown",
   "metadata": {},
   "source": [
    "> ### fichier compteurs permanents format csv annee 2017 ou 2018"
   ]
  },
  {
   "cell_type": "code",
   "execution_count": 201,
   "metadata": {
    "jupyter": {
     "source_hidden": true
    }
   },
   "outputs": [],
   "source": [
    "cpt_perm=it.Comptage_cd17(r'Q:\\DAIT\\TI\\DREAL33\\2019\\C19SA0035_OTR-NA\\Doc_travail\\Donnees_source\\CD17\\2018_csv_permanents_CD17.csv',\n",
    "                         'permanent_csv',2018)\n",
    "\n",
    "cpt_perm.mises_forme_bdd('gti_otv', 'comptage', 'na_2010_2018_p', '17','permanent')\n",
    "\n",
    "#miettre à jour les données deja existantes\n",
    "cpt_perm.update_bdd('gti_otv', 'comptage', 'na_2010_2018_p')#mise à jour\n",
    "\n",
    "#inseérer les données nouvelles\n",
    "cpt_perm.insert_bdd('gti_otv', 'comptage', 'na_2010_2018_p')\n",
    "#mettre à jour la geom \n",
    "cpt_perm.maj_geom('gti_otv', 'comptage', 'na_2010_2018_p', '17')\n",
    "\n",
    "# pour les données mensuelles\n",
    "cpt_perm.insert_bdd_mens('gti_otv', 'comptage','na_2010_2018_mensuel')"
   ]
  },
  {
   "cell_type": "markdown",
   "metadata": {},
   "source": [
    "> ### annee 2018 ; fichier compteurs tournant format excel issu des donnees pour brochure"
   ]
  },
  {
   "cell_type": "code",
   "execution_count": 290,
   "metadata": {
    "jupyter": {
     "source_hidden": true
    }
   },
   "outputs": [],
   "source": [
    "#initiliser la classe avec le fichier\n",
    "bdd='gti_otv_pg11'\n",
    "cpt_cd17=it.Comptage_cd17(r'Q:\\DAIT\\TI\\DREAL33\\2019\\C19SA0035_OTR-NA\\Doc_travail\\Donnees_source\\CD17\\Brochure 2018 CD17 DREAL\\10  5 1 B3 tournants recalculés.xls',\n",
    "                      'tournant_xls_bochure',2018)\n",
    "\n",
    "#mise en forme des données\n",
    "cpt_cd17.comptag_existant_bdd(bdd, 'na_2010_2018_p', dep='17')\n",
    "donnees=cpt_cd17.ouvrir_xls_tournant_brochure()\n",
    "cpt_cd17.conversion_id_comptg_existant_xls_brochure(bdd)\n",
    "cpt_cd17.carac_xls_brochure()\n",
    "\n",
    "#mise à jour des données\n",
    "val_txt=cpt_cd17.creer_valeur_txt_update(cpt_cd17.df_attr_update, ['id_comptag','tmja_2018','tmja_2017'])\n",
    "cpt_cd17.update_bdd(bdd, 'comptage', 'na_2010_2018_p', val_txt,{'tmja_2018':'tmja_2018','tmja_2017':'tmja_2017'})"
   ]
  },
  {
   "cell_type": "markdown",
   "metadata": {},
   "source": [
    "### annee 2017-2018 ; fichier ponctuel excel qui alimente des brochures"
   ]
  },
  {
   "cell_type": "code",
   "execution_count": 453,
   "metadata": {
    "jupyter": {
     "source_hidden": true
    }
   },
   "outputs": [],
   "source": [
    "#ouvrir le fichier et initialisation\n",
    "cpt_pct2018_cd17=it.Comptage_cd17(r'Q:\\DAIT\\TI\\DREAL33\\2019\\C19SA0035_OTR-NA\\Doc_travail\\Donnees_source\\CD17\\Brochure 2018 CD17 DREAL\\spécifique Brochure V85_2018 .xls',\n",
    "                      'ponctuel_xls_bochure',2018)\n",
    "bdd='gti_otv_pg11'\n",
    "#mise en forme\n",
    "cpt_pct2018_cd17.comptag_existant_bdd(bdd, 'na_2010_2018_p', dep='17')\n",
    "cpt_pct2018_cd17.conversion_id_comptg_existant_xls_brochure(bdd)\n",
    "cpt_pct2018_cd17.filtrer_periode_ponctuels_xls_brochure()\n",
    "cpt_pct2018_cd17.carac_xls_brochure()\n",
    "\n",
    "#mise à jour des données\n",
    "val_txt=cpt_pct2018_cd17.creer_valeur_txt_update(cpt_pct2018_cd17.df_attr_update, ['id_comptag','tmja','pc_pl','obs'])\n",
    "cpt_pct2018_cd17.update_bdd(bdd, 'comptage', 'na_2010_2018_p', val_txt,{'tmja_2018':'tmja','pc_pl_2018':'pc_pl', 'obs_2018':'obs'})"
   ]
  },
  {
   "cell_type": "code",
   "execution_count": 467,
   "metadata": {
    "jupyter": {
     "source_hidden": true
    }
   },
   "outputs": [],
   "source": [
    "#trouver les points de comptages a inserer situe sur le même troncon elementaires que d'autres points\n",
    "table_corresp=cpt_pct2018_cd17.correspondance_ancien_nouveau_comptage(bdd,'public','cd17_tournant_insert','lineaire.traf2016_bdt17_ed16_l',\n",
    "                                                    'public', 'traf2016_bdt17_ed16_l','traf2016_bdt17_ed16_l_vertices_pgr')\n",
    "\n",
    "#si le point fait partie de la table_corresp, on insère pas, sinon on insère\n",
    "pt_a_inserer=cpt_pct2018_cd17.df_attr_insert.loc[~cpt_pct2018_cd17.df_attr_insert.id_comptag.isin(table_corresp.id_comptag.tolist())].copy()\n",
    "#mise en form avant insertion\n",
    "pt_a_inserer['dep']='17'\n",
    "pt_a_inserer['route']=pt_a_inserer.id_comptag.apply(lambda x : x.split('-')[1])\n",
    "pt_a_inserer.rename(columns={'absc':'abs','tmja':'tmja_2018','pc_pl':'pc_pl_2018','obs':'obs_2018'},inplace=True)\n",
    "pt_a_inserer['reseau']='RD'\n",
    "pt_a_inserer['gestionnai']='CD17'\n",
    "pt_a_inserer['concession']='N'\n",
    "pt_a_inserer['type_poste']='ponctuel'\n",
    "pt_a_inserer=pt_a_inserer[['id_comptag','dep','route','pr','abs','reseau','gestionnai','concession','type_poste','tmja_2018','pc_pl_2018','obs_2018']].copy()\n",
    "#si plusieurs fois le mm point on garde la valeur max\n",
    "pt_a_inserer=pt_a_inserer.loc[pt_a_inserer.tmja_2018==pt_a_inserer.groupby('id_comptag').tmja_2018.transform(max)].copy()\n",
    "\n",
    "cpt_pct2018_cd17.insert_bdd(bdd, 'comptage', 'na_2010_2018_p', pt_a_inserer)\n",
    "cpt_pct2018_cd17.maj_geom(bdd, 'comptage', 'na_2010_2018_p', dep='17')"
   ]
  },
  {
   "cell_type": "markdown",
   "metadata": {},
   "source": [
    "## **CD19**\n",
    "> Annee des trafics 2018, fichier : Q:\\DAIT\\TI\\DREAL33\\2019\\C19SA0035_OTR-NA\\Doc_travail\\Donnees_source\\CD19\\2018_Recensement_trafic.xls"
   ]
  },
  {
   "cell_type": "code",
   "execution_count": 60,
   "metadata": {
    "jupyter": {
     "source_hidden": true
    }
   },
   "outputs": [],
   "source": [
    "#importer fichier\n",
    "fichier=r'Q:\\DAIT\\TI\\DREAL33\\2019\\C19SA0035_OTR-NA\\Doc_travail\\Donnees_source\\CD19\\2018_Recensement_trafic.xls'\n",
    "donnees_brutes=pd.read_excel(fichier, skiprows=6)\n",
    "donnees_filtrees=donnees_brutes.rename(columns={'N° R.D.':'route','P.R.':'pr',2018:'ann_2018'})[['route','pr','ann_2018']]\n",
    "donnees_filtrees=donnees_filtrees.loc[~donnees_filtrees.pr.isna()].copy()"
   ]
  },
  {
   "cell_type": "code",
   "execution_count": 61,
   "metadata": {
    "jupyter": {
     "source_hidden": true
    }
   },
   "outputs": [],
   "source": [
    "#mettre à jour les champs et pereparer les donnees\n",
    "def id_comptage(route,pr) : \n",
    "    route=str(route).strip()\n",
    "    pr=str(int(pr.split('+')[0]))+'+0' if int(pr.split('+')[1])==0 else str(int(pr.split('+')[0]))+'+'+str(int(pr.split('+')[1]))\n",
    "    return '19-D'+route+'-'+pr\n",
    "\n",
    "donnees_filtrees['idcomptag']=donnees_filtrees.apply(lambda x : id_comptage(x['route'],x['pr']), axis=1)\n",
    "donnees_filtrees['tmja']=donnees_filtrees.ann_2018.apply(lambda x : 0 if (pd.isna(x) or x=='x') else int(x.split('\\n')[0]))\n",
    "donnees_filtrees['pc_pl']=donnees_filtrees.ann_2018.apply(lambda x : 0 if (pd.isna(x) or x=='x') else float(x.split('\\n')[1].split('%')[0].replace(',','.')))\n",
    "donnees_transfert=donnees_filtrees.loc[donnees_filtrees['tmja']>0].copy()"
   ]
  },
  {
   "cell_type": "code",
   "execution_count": 68,
   "metadata": {
    "jupyter": {
     "source_hidden": true
    }
   },
   "outputs": [],
   "source": [
    "#pour interactions avec Bdd\n",
    "bdd='gti_otv_pg11'"
   ]
  },
  {
   "cell_type": "code",
   "execution_count": 62,
   "metadata": {
    "jupyter": {
     "source_hidden": true
    }
   },
   "outputs": [],
   "source": [
    "#prise en compte variation id_comptag\n",
    "rqt_corresp_comptg='select * from comptage.corresp_id_comptag'\n",
    "with ct.ConnexionBdd(bdd) as c:\n",
    "    corresp_comptg=pd.read_sql(rqt_corresp_comptg, c.sqlAlchemyConn)\n",
    "donnees_transfert['idcomptag']=donnees_transfert.apply(lambda x : corresp_comptg.loc[corresp_comptg['id_gest']==x['idcomptag']].id_gti.values[0] \n",
    "                                            if x['idcomptag'] in corresp_comptg.id_gest.tolist() else x['idcomptag'], axis=1)"
   ]
  },
  {
   "cell_type": "code",
   "execution_count": 64,
   "metadata": {
    "jupyter": {
     "source_hidden": true
    }
   },
   "outputs": [],
   "source": [
    "#Recherche des points existants\n",
    "comptage=it.Comptage(r'Q:\\DAIT\\TI\\DREAL33\\2019\\C19SA0035_OTR-NA\\Doc_travail\\Donnees_source\\CD19\\2018_Recensement_trafic.xls')\n",
    "cpt_existant=comptage.comptag_existant_bdd('gti_otv_pg11','na_2010_2018_p',dep='19')\n",
    "#identification des nouveaux points\n",
    "points_a_inserer=donnees_transfert.loc[~donnees_transfert['idcomptag'].isin(cpt_existant.id_comptag.tolist())].copy()\n",
    "#identification des points à mettre a jour\n",
    "points_a_mettre_a_jour=donnees_transfert.loc[donnees_transfert['idcomptag'].isin(cpt_existant.id_comptag.tolist())]"
   ]
  },
  {
   "cell_type": "code",
   "execution_count": 69,
   "metadata": {
    "jupyter": {
     "source_hidden": true
    }
   },
   "outputs": [],
   "source": [
    "#mettre a jour\n",
    "valeurs_txt=str(tuple([(elem[0],elem[1], elem[2]) for elem in zip(\n",
    "           points_a_mettre_a_jour.idcomptag.tolist(), points_a_mettre_a_jour.tmja.tolist(), \n",
    "            points_a_mettre_a_jour.pc_pl.tolist(), )]))[1:-1]\n",
    "rqt=f\"\"\"update comptage.na_2010_2018_p  as c \n",
    "                set tmja_2018=v.tmja,pc_pl_2018=v.pc_pl from (values {valeurs_txt}) as v(id_comptag,tmja,pc_pl)\n",
    "                where v.id_comptag=c.id_comptag\"\"\"\n",
    "with ct.ConnexionBdd(bdd) as c:\n",
    "    c.sqlAlchemyConn.execute(rqt)"
   ]
  },
  {
   "cell_type": "code",
   "execution_count": 70,
   "metadata": {
    "jupyter": {
     "source_hidden": true
    }
   },
   "outputs": [],
   "source": [
    "#inserer\n",
    "#mise en forme\n",
    "points_a_inserer.rename(columns={'idcomptag':'id_comptag','tmja':'tmja_2018','pc_pl':'pc_pl_2018'}, inplace=True)\n",
    "points_a_inserer.drop(['route','pr','ann_2018'], axis=1, inplace=True)\n",
    "points_a_inserer['type_poste']='tournant'\n",
    "points_a_inserer['dep']='19'\n",
    "points_a_inserer['reseau']='RD'\n",
    "points_a_inserer['gestionnai']='CD19'\n",
    "points_a_inserer['concession']='N'\n",
    "with ct.ConnexionBdd(bdd) as c:\n",
    "    points_a_inserer.to_sql('na_2010_2018_p',c.sqlAlchemyConn,schema='comptage',if_exists='append', index=False )"
   ]
  },
  {
   "cell_type": "code",
   "execution_count": null,
   "metadata": {
    "jupyter": {
     "source_hidden": true
    }
   },
   "outputs": [],
   "source": [
    "comptage.maj_geom(bdd,'comptage','na_2010_2018_p','19')"
   ]
  },
  {
   "cell_type": "markdown",
   "metadata": {},
   "source": [
    "## **CD47**\n",
    "> Annee des trafics 2018, fichiers : Q:\\DAIT\\TI\\DREAL33\\2019\\C19SA0035_OTR-NA\\Doc_travail\\Donnees_source\\CD47\\comptages_CD47_2018\\COMPTAGES 2018\n",
    "les fichiers sont decomposes en permanents tournants temporaires, il faut recomposer les donnees"
   ]
  },
  {
   "cell_type": "code",
   "execution_count": 195,
   "metadata": {
    "jupyter": {
     "source_hidden": true
    }
   },
   "outputs": [],
   "source": [
    "#initialiser un objet\n",
    "cpt47=it.Comptage_cd47(r'Q:\\DAIT\\TI\\DREAL33\\2019\\C19SA0035_OTR-NA\\Doc_travail\\Donnees_source\\CD47\\comptages_CD47_2018\\COMPTAGES 2018','TRAFICS PERMANENTS')\n",
    "#calculer les attributs de comptages : df_attr, df_attr_insert et df_attr_update, en prenant en compte les comptages existants\n",
    "cpt47.classer_comptage_update_insert('gti_otv_pg11')"
   ]
  },
  {
   "cell_type": "code",
   "execution_count": 177,
   "metadata": {
    "jupyter": {
     "source_hidden": true
    }
   },
   "outputs": [],
   "source": [
    "#mise à jour des données déjà présentes dansla base\n",
    "val_txt=cpt47.creer_valeur_txt_update(cpt47.df_attr_update, ['id_comptag','tmja','pc_pl'])\n",
    "cpt47.update_bdd(bdd, 'comptage', 'na_2010_2018_p', val_txt,{'tmja_2018':'tmja','pc_pl_2018':'pc_pl'})"
   ]
  },
  {
   "cell_type": "code",
   "execution_count": null,
   "metadata": {
    "jupyter": {
     "source_hidden": true
    }
   },
   "outputs": [],
   "source": [
    "#traitement des données non présentes (df_attr_insert)\n",
    "#recherche de correspondance pour les permanents et tournants\n",
    "dico_corresp=cpt47.corresp_old_new_comptag('gti_otv_pg11', 'public','cpt47_temp','lineaire.traf2017_bdt47_ed17_l',\n",
    "                            'referentiel', 'troncon_route_bdt47_ed17_l','troncon_route_bdt47_ed17_l_vertices_pgr','id',ppv_final.id_ign_lin.tolist())"
   ]
  },
  {
   "cell_type": "code",
   "execution_count": 222,
   "metadata": {
    "jupyter": {
     "source_hidden": true
    }
   },
   "outputs": [],
   "source": [
    "#filtre des données df_attr_insert selon l'id_comptag present dans le dico_corresp\n",
    "cpt47.df_attr_insert=cpt47.df_attr_insert.loc[~cpt47.df_attr_insert.id_comptag.isin(df_correspondance.id_comptag.to_list())].copy()\n",
    "# POUR INFO, l'id_comptag présent dan sle dico_corresp a été transférer à la main dans l table comptage.corresp_id_comptag\n",
    "#mettre en forme les attributs avant insert\n",
    "cpt47.mise_en_forme_insert('2018')\n",
    "#inserer les donnes dans la table\n",
    "cpt47.insert_bdd('gti_otv_pg11', 'comptage', 'na_2010_2018_p', cpt47.df_attr_insert)"
   ]
  },
  {
   "cell_type": "code",
   "execution_count": 227,
   "metadata": {
    "jupyter": {
     "source_hidden": true
    }
   },
   "outputs": [],
   "source": [
    "#mettre à jour la géométrie\n",
    "cpt47.maj_geom('gti_otv_pg11', 'comptage', 'na_2010_2018_p', '47')"
   ]
  },
  {
   "cell_type": "markdown",
   "metadata": {},
   "source": [
    "## **CD87**\n",
    "> Dans ce Departement les donnees sont fournies en fichiers .fim. il vaut recalculer les valeusr de comptages <br> Q:\\DAIT\\TI\\DREAL33\\2019\\C19SA0035_OTR-NA\\Doc_travail\\Donnees_source\\CD87\\Fichiers FIM 87 -2018"
   ]
  },
  {
   "cell_type": "markdown",
   "metadata": {},
   "source": [
    "### ***lister les voies, classer les types de commptages, lister les fichiers a regrouper***\n",
    "> le dossier contient un tres grand nombre de fihciers, parfois ils sont a regrouper, parfois la structure de nommage varie"
   ]
  },
  {
   "cell_type": "code",
   "execution_count": 2,
   "metadata": {},
   "outputs": [
    {
     "name": "stdout",
     "output_type": "stream",
     "text": [
      "OK : tous fichiers dans dico\n"
     ]
    }
   ],
   "source": [
    "d87=it.Comptage_cd87(r'Q:\\DAIT\\TI\\DREAL33\\2019\\C19SA0035_OTR-NA\\Doc_travail\\Donnees_source\\CD87\\Fichiers FIM 87 -2018') \n",
    "d87.dico_pt_cptg() #creer le dico de base"
   ]
  },
  {
   "cell_type": "code",
   "execution_count": null,
   "metadata": {},
   "outputs": [],
   "source": [
    "d87.dico_voie"
   ]
  },
  {
   "cell_type": "code",
   "execution_count": 3,
   "metadata": {},
   "outputs": [
    {
     "data": {
      "text/plain": [
       "[{'pr': 22,\n",
       "  'abs': 250,\n",
       "  'fichiers': ['RD2000PR22(250_1806051122_M4H_WA.FIM',\n",
       "   'RD2000PR22(250_1804061353_M4H_WA (2).FIM',\n",
       "   'RD2000PR22(250_1803051458_M4H_WA.FIM',\n",
       "   'RD2000PR22(250_1810021545_M4H_WA (2).FIM',\n",
       "   'RD2000PR22(250_1809041123_M4H_WA (2).FIM',\n",
       "   'RD2000PR22(250_1807061136_M4H_WA (2).FIM',\n",
       "   'RD2000PR22(250_1812041459_M4H_WA.FIM',\n",
       "   'RD2000PR22(250_1811061054_M4H_WA (2).FIM',\n",
       "   'RD2000PR22(250_1808011055_M4H_WA (2).FIM',\n",
       "   'RD2000PR22(250_1805071515_M4H_WA.FIM']},\n",
       " {'pr': 15,\n",
       "  'abs': 105,\n",
       "  'fichiers': ['RD2000PR15105_1802011049_M4H_WA (2).FIM',\n",
       "   'RD2000PR15105_1803051430_M4H_WA.FIM',\n",
       "   'RD2000PR15105_1806051058_M4H_WA.FIM']}]"
      ]
     },
     "execution_count": 3,
     "metadata": {},
     "output_type": "execute_result"
    }
   ],
   "source": [
    "d87.dico_voie['D2000']"
   ]
  },
  {
   "cell_type": "markdown",
   "metadata": {},
   "source": [
    "### ***Traiter les donnees***\n",
    "> Pour chaque route référencée dans le dico, on va calculer les TMJA %PL de chaque fichiers muis faire les moyennes si besoin"
   ]
  },
  {
   "cell_type": "code",
   "execution_count": null,
   "metadata": {},
   "outputs": [],
   "source": [
    "#regrouper les différentes données issues de ficiers et les ajouter au dico\n",
    "for k, v in d87.dico_voie.items() : \n",
    "    for i,e in enumerate(v) : \n",
    "        if len(e['fichiers'])==1 : \n",
    "            obj_fim=it.FIM(os.path.join(d87.dossier,e['fichiers'][0]))\n",
    "            try : \n",
    "                obj_fim.resume_indicateurs()\n",
    "            except obj_fim.fim_PasAssezMesureError : \n",
    "                continue\n",
    "            except Exception as ex : \n",
    "                print(f\"erreur : {ex} \\n dans fichier : {e['fichiers'][0]}\")\n",
    "            e['tmja'], e['pc_pl']=obj_fim.tmja, obj_fim.pc_pl\n",
    "        elif len(e['fichiers'])>1 :\n",
    "            list_tmja=[]\n",
    "            list_pc_pl=[]\n",
    "            for f in e['fichiers'] : \n",
    "                obj_fim=it.FIM(os.path.join(d87.dossier,f))\n",
    "                try : \n",
    "                    obj_fim.resume_indicateurs()\n",
    "                except (obj_fim.fim_PasAssezMesureError,obj_fim.fimNbBlocDonneesError)  : \n",
    "                    continue\n",
    "                except Exception as ex : \n",
    "                    print(f\"erreur : {ex} \\n dans fichier : {f}\")\n",
    "                list_tmja.append(obj_fim.tmja)\n",
    "                list_pc_pl.append(obj_fim.pc_pl)\n",
    "            e['tmja'], e['pc_pl']=int(mean(list_tmja)), round(mean(list_pc_pl),2) "
   ]
  },
  {
   "cell_type": "code",
   "execution_count": null,
   "metadata": {},
   "outputs": [],
   "source": [
    "#renseigner le type de poste\n",
    "for k, v in d87.dico_voie.items() : \n",
    "    for e in v : \n",
    "        if len(e['fichiers']) > 4 :\n",
    "            e['type_poste']='permanents'\n",
    "        elif 1<len(e['fichiers'])<=4 : \n",
    "            e['type_poste']='tournants'\n",
    "        elif len(e['fichiers'])== 1 :\n",
    "            e['type_poste']='ponctuel'\n",
    "        else : \n",
    "            e['type_poste']='NC'"
   ]
  },
  {
   "cell_type": "code",
   "execution_count": 291,
   "metadata": {},
   "outputs": [],
   "source": [
    "#faire une df avec les points de comptage\n",
    "df_attr=pd.DataFrame([[k, e['pr'], e['abs'], e['tmja'], e['pc_pl'], e['type_poste']]for k, v in d87.dico_voie.items() for e in v if 'tmja' in e.keys()], \n",
    "             columns=['route','pr','absc','tmja','pc_pl','type_poste'])"
   ]
  },
  {
   "cell_type": "code",
   "execution_count": 292,
   "metadata": {},
   "outputs": [
    {
     "data": {
      "text/html": [
       "<div>\n",
       "<style scoped>\n",
       "    .dataframe tbody tr th:only-of-type {\n",
       "        vertical-align: middle;\n",
       "    }\n",
       "\n",
       "    .dataframe tbody tr th {\n",
       "        vertical-align: top;\n",
       "    }\n",
       "\n",
       "    .dataframe thead th {\n",
       "        text-align: right;\n",
       "    }\n",
       "</style>\n",
       "<table border=\"1\" class=\"dataframe\">\n",
       "  <thead>\n",
       "    <tr style=\"text-align: right;\">\n",
       "      <th></th>\n",
       "      <th>route</th>\n",
       "      <th>pr</th>\n",
       "      <th>absc</th>\n",
       "      <th>tmja</th>\n",
       "      <th>pc_pl</th>\n",
       "      <th>type_poste</th>\n",
       "    </tr>\n",
       "  </thead>\n",
       "  <tbody>\n",
       "    <tr>\n",
       "      <th>0</th>\n",
       "      <td>D2000</td>\n",
       "      <td>22</td>\n",
       "      <td>250</td>\n",
       "      <td>5247</td>\n",
       "      <td>11.12</td>\n",
       "      <td>permanents</td>\n",
       "    </tr>\n",
       "    <tr>\n",
       "      <th>1</th>\n",
       "      <td>D2000</td>\n",
       "      <td>15</td>\n",
       "      <td>105</td>\n",
       "      <td>8130</td>\n",
       "      <td>8.07</td>\n",
       "      <td>tournants</td>\n",
       "    </tr>\n",
       "    <tr>\n",
       "      <th>2</th>\n",
       "      <td>D704</td>\n",
       "      <td>1</td>\n",
       "      <td>495</td>\n",
       "      <td>7329</td>\n",
       "      <td>5.58</td>\n",
       "      <td>permanents</td>\n",
       "    </tr>\n",
       "    <tr>\n",
       "      <th>3</th>\n",
       "      <td>D704</td>\n",
       "      <td>38</td>\n",
       "      <td>590</td>\n",
       "      <td>2895</td>\n",
       "      <td>4.40</td>\n",
       "      <td>ponctuel</td>\n",
       "    </tr>\n",
       "    <tr>\n",
       "      <th>4</th>\n",
       "      <td>D704</td>\n",
       "      <td>19</td>\n",
       "      <td>720</td>\n",
       "      <td>4883</td>\n",
       "      <td>4.15</td>\n",
       "      <td>permanents</td>\n",
       "    </tr>\n",
       "    <tr>\n",
       "      <th>5</th>\n",
       "      <td>D704</td>\n",
       "      <td>15</td>\n",
       "      <td>400</td>\n",
       "      <td>4594</td>\n",
       "      <td>8.70</td>\n",
       "      <td>ponctuel</td>\n",
       "    </tr>\n",
       "    <tr>\n",
       "      <th>6</th>\n",
       "      <td>D704</td>\n",
       "      <td>15</td>\n",
       "      <td>100</td>\n",
       "      <td>7288</td>\n",
       "      <td>4.10</td>\n",
       "      <td>ponctuel</td>\n",
       "    </tr>\n",
       "    <tr>\n",
       "      <th>7</th>\n",
       "      <td>D704</td>\n",
       "      <td>37</td>\n",
       "      <td>450</td>\n",
       "      <td>3806</td>\n",
       "      <td>6.10</td>\n",
       "      <td>ponctuel</td>\n",
       "    </tr>\n",
       "    <tr>\n",
       "      <th>8</th>\n",
       "      <td>D704</td>\n",
       "      <td>11</td>\n",
       "      <td>900</td>\n",
       "      <td>7911</td>\n",
       "      <td>3.40</td>\n",
       "      <td>ponctuel</td>\n",
       "    </tr>\n",
       "    <tr>\n",
       "      <th>9</th>\n",
       "      <td>D675</td>\n",
       "      <td>31</td>\n",
       "      <td>0</td>\n",
       "      <td>2064</td>\n",
       "      <td>6.90</td>\n",
       "      <td>permanents</td>\n",
       "    </tr>\n",
       "    <tr>\n",
       "      <th>10</th>\n",
       "      <td>D675</td>\n",
       "      <td>58</td>\n",
       "      <td>680</td>\n",
       "      <td>8766</td>\n",
       "      <td>NaN</td>\n",
       "      <td>permanents</td>\n",
       "    </tr>\n",
       "    <tr>\n",
       "      <th>11</th>\n",
       "      <td>D675</td>\n",
       "      <td>26</td>\n",
       "      <td>970</td>\n",
       "      <td>2531</td>\n",
       "      <td>6.73</td>\n",
       "      <td>permanents</td>\n",
       "    </tr>\n",
       "    <tr>\n",
       "      <th>12</th>\n",
       "      <td>D675</td>\n",
       "      <td>53</td>\n",
       "      <td>890</td>\n",
       "      <td>2717</td>\n",
       "      <td>4.70</td>\n",
       "      <td>tournants</td>\n",
       "    </tr>\n",
       "    <tr>\n",
       "      <th>13</th>\n",
       "      <td>D675</td>\n",
       "      <td>53</td>\n",
       "      <td>893</td>\n",
       "      <td>2882</td>\n",
       "      <td>3.10</td>\n",
       "      <td>ponctuel</td>\n",
       "    </tr>\n",
       "    <tr>\n",
       "      <th>14</th>\n",
       "      <td>D675</td>\n",
       "      <td>60</td>\n",
       "      <td>830</td>\n",
       "      <td>4948</td>\n",
       "      <td>3.30</td>\n",
       "      <td>ponctuel</td>\n",
       "    </tr>\n",
       "    <tr>\n",
       "      <th>15</th>\n",
       "      <td>D675</td>\n",
       "      <td>50</td>\n",
       "      <td>700</td>\n",
       "      <td>2617</td>\n",
       "      <td>7.50</td>\n",
       "      <td>ponctuel</td>\n",
       "    </tr>\n",
       "    <tr>\n",
       "      <th>16</th>\n",
       "      <td>D675</td>\n",
       "      <td>14</td>\n",
       "      <td>700</td>\n",
       "      <td>929</td>\n",
       "      <td>5.95</td>\n",
       "      <td>tournants</td>\n",
       "    </tr>\n",
       "    <tr>\n",
       "      <th>17</th>\n",
       "      <td>D140</td>\n",
       "      <td>2</td>\n",
       "      <td>665</td>\n",
       "      <td>2656</td>\n",
       "      <td>1.10</td>\n",
       "      <td>tournants</td>\n",
       "    </tr>\n",
       "    <tr>\n",
       "      <th>18</th>\n",
       "      <td>D979</td>\n",
       "      <td>3</td>\n",
       "      <td>130</td>\n",
       "      <td>16324</td>\n",
       "      <td>3.50</td>\n",
       "      <td>permanents</td>\n",
       "    </tr>\n",
       "    <tr>\n",
       "      <th>19</th>\n",
       "      <td>D979</td>\n",
       "      <td>28</td>\n",
       "      <td>530</td>\n",
       "      <td>3696</td>\n",
       "      <td>5.14</td>\n",
       "      <td>permanents</td>\n",
       "    </tr>\n",
       "    <tr>\n",
       "      <th>20</th>\n",
       "      <td>D979</td>\n",
       "      <td>13</td>\n",
       "      <td>720</td>\n",
       "      <td>4694</td>\n",
       "      <td>4.75</td>\n",
       "      <td>tournants</td>\n",
       "    </tr>\n",
       "    <tr>\n",
       "      <th>21</th>\n",
       "      <td>D979</td>\n",
       "      <td>38</td>\n",
       "      <td>900</td>\n",
       "      <td>1535</td>\n",
       "      <td>7.00</td>\n",
       "      <td>ponctuel</td>\n",
       "    </tr>\n",
       "    <tr>\n",
       "      <th>22</th>\n",
       "      <td>D16</td>\n",
       "      <td>0</td>\n",
       "      <td>675</td>\n",
       "      <td>711</td>\n",
       "      <td>7.35</td>\n",
       "      <td>tournants</td>\n",
       "    </tr>\n",
       "    <tr>\n",
       "      <th>23</th>\n",
       "      <td>D16</td>\n",
       "      <td>10</td>\n",
       "      <td>120</td>\n",
       "      <td>820</td>\n",
       "      <td>3.95</td>\n",
       "      <td>tournants</td>\n",
       "    </tr>\n",
       "    <tr>\n",
       "      <th>24</th>\n",
       "      <td>D940</td>\n",
       "      <td>7</td>\n",
       "      <td>90</td>\n",
       "      <td>1323</td>\n",
       "      <td>10.11</td>\n",
       "      <td>permanents</td>\n",
       "    </tr>\n",
       "    <tr>\n",
       "      <th>25</th>\n",
       "      <td>D940</td>\n",
       "      <td>22</td>\n",
       "      <td>900</td>\n",
       "      <td>385</td>\n",
       "      <td>10.50</td>\n",
       "      <td>tournants</td>\n",
       "    </tr>\n",
       "    <tr>\n",
       "      <th>26</th>\n",
       "      <td>D940</td>\n",
       "      <td>15</td>\n",
       "      <td>550</td>\n",
       "      <td>1062</td>\n",
       "      <td>6.80</td>\n",
       "      <td>ponctuel</td>\n",
       "    </tr>\n",
       "    <tr>\n",
       "      <th>27</th>\n",
       "      <td>D941</td>\n",
       "      <td>39</td>\n",
       "      <td>200</td>\n",
       "      <td>23835</td>\n",
       "      <td>3.65</td>\n",
       "      <td>permanents</td>\n",
       "    </tr>\n",
       "    <tr>\n",
       "      <th>28</th>\n",
       "      <td>D941</td>\n",
       "      <td>10</td>\n",
       "      <td>0</td>\n",
       "      <td>3295</td>\n",
       "      <td>8.37</td>\n",
       "      <td>permanents</td>\n",
       "    </tr>\n",
       "    <tr>\n",
       "      <th>29</th>\n",
       "      <td>D941</td>\n",
       "      <td>22</td>\n",
       "      <td>200</td>\n",
       "      <td>6181</td>\n",
       "      <td>6.14</td>\n",
       "      <td>permanents</td>\n",
       "    </tr>\n",
       "    <tr>\n",
       "      <th>...</th>\n",
       "      <td>...</td>\n",
       "      <td>...</td>\n",
       "      <td>...</td>\n",
       "      <td>...</td>\n",
       "      <td>...</td>\n",
       "      <td>...</td>\n",
       "    </tr>\n",
       "    <tr>\n",
       "      <th>144</th>\n",
       "      <td>D220</td>\n",
       "      <td>27</td>\n",
       "      <td>492</td>\n",
       "      <td>5948</td>\n",
       "      <td>3.95</td>\n",
       "      <td>tournants</td>\n",
       "    </tr>\n",
       "    <tr>\n",
       "      <th>145</th>\n",
       "      <td>D951</td>\n",
       "      <td>55</td>\n",
       "      <td>680</td>\n",
       "      <td>4042</td>\n",
       "      <td>45.10</td>\n",
       "      <td>tournants</td>\n",
       "    </tr>\n",
       "    <tr>\n",
       "      <th>146</th>\n",
       "      <td>D238</td>\n",
       "      <td>1</td>\n",
       "      <td>310</td>\n",
       "      <td>99</td>\n",
       "      <td>14.10</td>\n",
       "      <td>ponctuel</td>\n",
       "    </tr>\n",
       "    <tr>\n",
       "      <th>147</th>\n",
       "      <td>D05A</td>\n",
       "      <td>1</td>\n",
       "      <td>470</td>\n",
       "      <td>363</td>\n",
       "      <td>4.70</td>\n",
       "      <td>ponctuel</td>\n",
       "    </tr>\n",
       "    <tr>\n",
       "      <th>148</th>\n",
       "      <td>D19</td>\n",
       "      <td>41</td>\n",
       "      <td>680</td>\n",
       "      <td>726</td>\n",
       "      <td>3.10</td>\n",
       "      <td>tournants</td>\n",
       "    </tr>\n",
       "    <tr>\n",
       "      <th>149</th>\n",
       "      <td>D19</td>\n",
       "      <td>5</td>\n",
       "      <td>0</td>\n",
       "      <td>975</td>\n",
       "      <td>2.60</td>\n",
       "      <td>ponctuel</td>\n",
       "    </tr>\n",
       "    <tr>\n",
       "      <th>150</th>\n",
       "      <td>D420</td>\n",
       "      <td>0</td>\n",
       "      <td>730</td>\n",
       "      <td>3775</td>\n",
       "      <td>3.60</td>\n",
       "      <td>tournants</td>\n",
       "    </tr>\n",
       "    <tr>\n",
       "      <th>151</th>\n",
       "      <td>D420</td>\n",
       "      <td>10</td>\n",
       "      <td>0</td>\n",
       "      <td>1378</td>\n",
       "      <td>NaN</td>\n",
       "      <td>ponctuel</td>\n",
       "    </tr>\n",
       "    <tr>\n",
       "      <th>152</th>\n",
       "      <td>D83</td>\n",
       "      <td>4</td>\n",
       "      <td>765</td>\n",
       "      <td>171</td>\n",
       "      <td>5.30</td>\n",
       "      <td>ponctuel</td>\n",
       "    </tr>\n",
       "    <tr>\n",
       "      <th>153</th>\n",
       "      <td>D48a</td>\n",
       "      <td>1</td>\n",
       "      <td>150</td>\n",
       "      <td>210</td>\n",
       "      <td>4.80</td>\n",
       "      <td>ponctuel</td>\n",
       "    </tr>\n",
       "    <tr>\n",
       "      <th>154</th>\n",
       "      <td>D32</td>\n",
       "      <td>12</td>\n",
       "      <td>410</td>\n",
       "      <td>1405</td>\n",
       "      <td>4.30</td>\n",
       "      <td>ponctuel</td>\n",
       "    </tr>\n",
       "    <tr>\n",
       "      <th>155</th>\n",
       "      <td>D32</td>\n",
       "      <td>2</td>\n",
       "      <td>220</td>\n",
       "      <td>1508</td>\n",
       "      <td>5.50</td>\n",
       "      <td>ponctuel</td>\n",
       "    </tr>\n",
       "    <tr>\n",
       "      <th>156</th>\n",
       "      <td>D202</td>\n",
       "      <td>3</td>\n",
       "      <td>460</td>\n",
       "      <td>104</td>\n",
       "      <td>5.80</td>\n",
       "      <td>ponctuel</td>\n",
       "    </tr>\n",
       "    <tr>\n",
       "      <th>157</th>\n",
       "      <td>D95</td>\n",
       "      <td>16</td>\n",
       "      <td>600</td>\n",
       "      <td>123</td>\n",
       "      <td>4.10</td>\n",
       "      <td>ponctuel</td>\n",
       "    </tr>\n",
       "    <tr>\n",
       "      <th>158</th>\n",
       "      <td>D95</td>\n",
       "      <td>3</td>\n",
       "      <td>400</td>\n",
       "      <td>187</td>\n",
       "      <td>18.20</td>\n",
       "      <td>ponctuel</td>\n",
       "    </tr>\n",
       "    <tr>\n",
       "      <th>159</th>\n",
       "      <td>D95</td>\n",
       "      <td>4</td>\n",
       "      <td>200</td>\n",
       "      <td>178</td>\n",
       "      <td>10.70</td>\n",
       "      <td>ponctuel</td>\n",
       "    </tr>\n",
       "    <tr>\n",
       "      <th>160</th>\n",
       "      <td>D1</td>\n",
       "      <td>18</td>\n",
       "      <td>349</td>\n",
       "      <td>1905</td>\n",
       "      <td>5.30</td>\n",
       "      <td>ponctuel</td>\n",
       "    </tr>\n",
       "    <tr>\n",
       "      <th>161</th>\n",
       "      <td>D1</td>\n",
       "      <td>5</td>\n",
       "      <td>340</td>\n",
       "      <td>1755</td>\n",
       "      <td>6.05</td>\n",
       "      <td>tournants</td>\n",
       "    </tr>\n",
       "    <tr>\n",
       "      <th>162</th>\n",
       "      <td>D1</td>\n",
       "      <td>18</td>\n",
       "      <td>319</td>\n",
       "      <td>1448</td>\n",
       "      <td>3.70</td>\n",
       "      <td>ponctuel</td>\n",
       "    </tr>\n",
       "    <tr>\n",
       "      <th>163</th>\n",
       "      <td>D56A</td>\n",
       "      <td>6</td>\n",
       "      <td>810</td>\n",
       "      <td>741</td>\n",
       "      <td>3.90</td>\n",
       "      <td>tournants</td>\n",
       "    </tr>\n",
       "    <tr>\n",
       "      <th>164</th>\n",
       "      <td>D7B</td>\n",
       "      <td>3</td>\n",
       "      <td>90</td>\n",
       "      <td>1313</td>\n",
       "      <td>5.10</td>\n",
       "      <td>ponctuel</td>\n",
       "    </tr>\n",
       "    <tr>\n",
       "      <th>165</th>\n",
       "      <td>D91</td>\n",
       "      <td>4</td>\n",
       "      <td>0</td>\n",
       "      <td>114</td>\n",
       "      <td>7.00</td>\n",
       "      <td>ponctuel</td>\n",
       "    </tr>\n",
       "    <tr>\n",
       "      <th>166</th>\n",
       "      <td>D14</td>\n",
       "      <td>12</td>\n",
       "      <td>715</td>\n",
       "      <td>491</td>\n",
       "      <td>NaN</td>\n",
       "      <td>tournants</td>\n",
       "    </tr>\n",
       "    <tr>\n",
       "      <th>167</th>\n",
       "      <td>D7b</td>\n",
       "      <td>35</td>\n",
       "      <td>380</td>\n",
       "      <td>1912</td>\n",
       "      <td>6.00</td>\n",
       "      <td>ponctuel</td>\n",
       "    </tr>\n",
       "    <tr>\n",
       "      <th>168</th>\n",
       "      <td>D7b</td>\n",
       "      <td>40</td>\n",
       "      <td>170</td>\n",
       "      <td>598</td>\n",
       "      <td>6.70</td>\n",
       "      <td>ponctuel</td>\n",
       "    </tr>\n",
       "    <tr>\n",
       "      <th>169</th>\n",
       "      <td>D7b</td>\n",
       "      <td>32</td>\n",
       "      <td>0</td>\n",
       "      <td>790</td>\n",
       "      <td>6.30</td>\n",
       "      <td>ponctuel</td>\n",
       "    </tr>\n",
       "    <tr>\n",
       "      <th>170</th>\n",
       "      <td>D7b</td>\n",
       "      <td>3</td>\n",
       "      <td>90</td>\n",
       "      <td>1131</td>\n",
       "      <td>6.70</td>\n",
       "      <td>ponctuel</td>\n",
       "    </tr>\n",
       "    <tr>\n",
       "      <th>171</th>\n",
       "      <td>D30</td>\n",
       "      <td>1</td>\n",
       "      <td>65</td>\n",
       "      <td>321</td>\n",
       "      <td>11.20</td>\n",
       "      <td>ponctuel</td>\n",
       "    </tr>\n",
       "    <tr>\n",
       "      <th>172</th>\n",
       "      <td>D215</td>\n",
       "      <td>1</td>\n",
       "      <td>450</td>\n",
       "      <td>754</td>\n",
       "      <td>2.40</td>\n",
       "      <td>ponctuel</td>\n",
       "    </tr>\n",
       "    <tr>\n",
       "      <th>173</th>\n",
       "      <td>D139</td>\n",
       "      <td>0</td>\n",
       "      <td>260</td>\n",
       "      <td>523</td>\n",
       "      <td>NaN</td>\n",
       "      <td>tournants</td>\n",
       "    </tr>\n",
       "  </tbody>\n",
       "</table>\n",
       "<p>174 rows × 6 columns</p>\n",
       "</div>"
      ],
      "text/plain": [
       "     route  pr  absc   tmja  pc_pl  type_poste\n",
       "0    D2000  22  250   5247   11.12  permanents\n",
       "1    D2000  15  105   8130   8.07   tournants \n",
       "2    D704   1   495   7329   5.58   permanents\n",
       "3    D704   38  590   2895   4.40   ponctuel  \n",
       "4    D704   19  720   4883   4.15   permanents\n",
       "5    D704   15  400   4594   8.70   ponctuel  \n",
       "6    D704   15  100   7288   4.10   ponctuel  \n",
       "7    D704   37  450   3806   6.10   ponctuel  \n",
       "8    D704   11  900   7911   3.40   ponctuel  \n",
       "9    D675   31  0     2064   6.90   permanents\n",
       "10   D675   58  680   8766  NaN     permanents\n",
       "11   D675   26  970   2531   6.73   permanents\n",
       "12   D675   53  890   2717   4.70   tournants \n",
       "13   D675   53  893   2882   3.10   ponctuel  \n",
       "14   D675   60  830   4948   3.30   ponctuel  \n",
       "15   D675   50  700   2617   7.50   ponctuel  \n",
       "16   D675   14  700   929    5.95   tournants \n",
       "17   D140   2   665   2656   1.10   tournants \n",
       "18   D979   3   130   16324  3.50   permanents\n",
       "19   D979   28  530   3696   5.14   permanents\n",
       "20   D979   13  720   4694   4.75   tournants \n",
       "21   D979   38  900   1535   7.00   ponctuel  \n",
       "22   D16    0   675   711    7.35   tournants \n",
       "23   D16    10  120   820    3.95   tournants \n",
       "24   D940   7   90    1323   10.11  permanents\n",
       "25   D940   22  900   385    10.50  tournants \n",
       "26   D940   15  550   1062   6.80   ponctuel  \n",
       "27   D941   39  200   23835  3.65   permanents\n",
       "28   D941   10  0     3295   8.37   permanents\n",
       "29   D941   22  200   6181   6.14   permanents\n",
       "..    ...   ..  ...    ...    ...          ...\n",
       "144  D220   27  492   5948   3.95   tournants \n",
       "145  D951   55  680   4042   45.10  tournants \n",
       "146  D238   1   310   99     14.10  ponctuel  \n",
       "147  D05A   1   470   363    4.70   ponctuel  \n",
       "148  D19    41  680   726    3.10   tournants \n",
       "149  D19    5   0     975    2.60   ponctuel  \n",
       "150  D420   0   730   3775   3.60   tournants \n",
       "151  D420   10  0     1378  NaN     ponctuel  \n",
       "152  D83    4   765   171    5.30   ponctuel  \n",
       "153  D48a   1   150   210    4.80   ponctuel  \n",
       "154  D32    12  410   1405   4.30   ponctuel  \n",
       "155  D32    2   220   1508   5.50   ponctuel  \n",
       "156  D202   3   460   104    5.80   ponctuel  \n",
       "157  D95    16  600   123    4.10   ponctuel  \n",
       "158  D95    3   400   187    18.20  ponctuel  \n",
       "159  D95    4   200   178    10.70  ponctuel  \n",
       "160  D1     18  349   1905   5.30   ponctuel  \n",
       "161  D1     5   340   1755   6.05   tournants \n",
       "162  D1     18  319   1448   3.70   ponctuel  \n",
       "163  D56A   6   810   741    3.90   tournants \n",
       "164  D7B    3   90    1313   5.10   ponctuel  \n",
       "165  D91    4   0     114    7.00   ponctuel  \n",
       "166  D14    12  715   491   NaN     tournants \n",
       "167  D7b    35  380   1912   6.00   ponctuel  \n",
       "168  D7b    40  170   598    6.70   ponctuel  \n",
       "169  D7b    32  0     790    6.30   ponctuel  \n",
       "170  D7b    3   90    1131   6.70   ponctuel  \n",
       "171  D30    1   65    321    11.20  ponctuel  \n",
       "172  D215   1   450   754    2.40   ponctuel  \n",
       "173  D139   0   260   523   NaN     tournants \n",
       "\n",
       "[174 rows x 6 columns]"
      ]
     },
     "execution_count": 292,
     "metadata": {},
     "output_type": "execute_result"
    }
   ],
   "source": [
    "#IL MANQUE L'AFFECTATION DE LA PERIODE AUX COMPTAGE PONCTUELS\n",
    "df_attr"
   ]
  },
  {
   "cell_type": "markdown",
   "metadata": {},
   "source": [
    "### TESTS"
   ]
  },
  {
   "cell_type": "code",
   "execution_count": 293,
   "metadata": {},
   "outputs": [],
   "source": [
    "bdd='gti_otv_pg11'\n",
    "rqt=\"select * from comptage.na_2010_2018_p where dep='87'\"\n",
    "with ct.ConnexionBdd(bdd) as c:\n",
    "    existant=gp.GeoDataFrame.from_postgis(rqt, c.sqlAlchemyConn, geom_col='geom',crs={'init': 'epsg:2154'})"
   ]
  },
  {
   "cell_type": "code",
   "execution_count": 305,
   "metadata": {},
   "outputs": [
    {
     "data": {
      "text/plain": [
       "Timestamp('2018-06-11 06:00:00')"
      ]
     },
     "execution_count": 305,
     "metadata": {},
     "output_type": "execute_result"
    }
   ],
   "source": [
    "obj_fim.date_debut+pd.Timedelta(str(len(liste_lign_titre[0][3])*obj_fim.pas_temporel)+'T')"
   ]
  },
  {
   "cell_type": "code",
   "execution_count": 300,
   "metadata": {},
   "outputs": [
    {
     "data": {
      "text/plain": [
       "87540"
      ]
     },
     "execution_count": 300,
     "metadata": {},
     "output_type": "execute_result"
    }
   ],
   "source": [
    "len(liste_lign_titre[0][3])*obj_fim.pas_temporel"
   ]
  },
  {
   "cell_type": "code",
   "execution_count": 301,
   "metadata": {},
   "outputs": [
    {
     "data": {
      "text/plain": [
       "60"
      ]
     },
     "execution_count": 301,
     "metadata": {},
     "output_type": "execute_result"
    }
   ],
   "source": [
    "obj_fim.pas_temporel"
   ]
  },
  {
   "cell_type": "code",
   "execution_count": 303,
   "metadata": {},
   "outputs": [
    {
     "data": {
      "text/plain": [
       "Timedelta('0 days 01:00:00')"
      ]
     },
     "execution_count": 303,
     "metadata": {},
     "output_type": "execute_result"
    }
   ],
   "source": [
    "pd.Timedelta(str(obj_fim.pas_temporel)+'T')"
   ]
  },
  {
   "cell_type": "code",
   "execution_count": 307,
   "metadata": {},
   "outputs": [
    {
     "data": {
      "text/plain": [
       "Timestamp('2018-04-13 12:00:00')"
      ]
     },
     "execution_count": 307,
     "metadata": {},
     "output_type": "execute_result"
    }
   ],
   "source": [
    "obj_fim.df_tot_heure.index.max()"
   ]
  },
  {
   "cell_type": "code",
   "execution_count": null,
   "metadata": {},
   "outputs": [],
   "source": []
  }
 ],
 "metadata": {
  "kernelspec": {
   "display_name": "Python 3",
   "language": "python",
   "name": "python3"
  },
  "language_info": {
   "codemirror_mode": {
    "name": "ipython",
    "version": 3
   },
   "file_extension": ".py",
   "mimetype": "text/x-python",
   "name": "python",
   "nbconvert_exporter": "python",
   "pygments_lexer": "ipython3",
   "version": "3.7.0"
  }
 },
 "nbformat": 4,
 "nbformat_minor": 4
}
