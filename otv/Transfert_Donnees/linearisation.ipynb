{
 "cells": [
  {
   "cell_type": "markdown",
   "metadata": {},
   "source": [
    "# LINEARISATION"
   ]
  },
  {
   "cell_type": "code",
   "execution_count": 1,
   "metadata": {},
   "outputs": [],
   "source": [
    "%load_ext autoreload\n",
    "%autoreload 2\n",
    "import sys #c'est pas propre mais pour le moment pour importer mes modules perso dans le notebook je ne sais pas faire\n",
    "sys.path.append(r'C:\\Users\\martin.schoreisz\\git\\Outils\\Outils\\Martin_Perso')\n",
    "sys.path.append(r'C:\\Users\\martin.schoreisz\\git\\otv\\otv\\Transfert_Donnees')\n",
    "import agrege_troncon as at\n",
    "from Base_BdTopo.Import_outils import *\n",
    "from Base_BdTopo.Rond_points import *\n",
    "from Base_BdTopo.Regroupement_correspondance import *\n",
    "from Outils import creer_graph\n",
    "import Connexion_Transfert as ct\n",
    "import matplotlib, os, fiona\n",
    "import geopandas as gp\n",
    "import pandas as pd\n",
    "import numpy as np\n",
    "from datetime import datetime\n",
    "from collections import Counter\n",
    "from sqlalchemy import Table, Column, Integer, String, Float,MetaData\n",
    "from geoalchemy2 import Geometry\n",
    "from shapely.wkt import dumps\n",
    "pd.set_option('display.max_columns', 50)"
   ]
  },
  {
   "cell_type": "markdown",
   "metadata": {},
   "source": [
    "## CD17\n",
    "Réutiliser les comptages importés grace au Notebooj Import_trafics (chap cd17) et les données de troncons elemnetaires issues du notebook agrege_troncon pour déterminer les nouveaux id_comptag "
   ]
  },
  {
   "cell_type": "code",
   "execution_count": 2,
   "metadata": {},
   "outputs": [],
   "source": [
    "#import des données de troncon elem (à modifier par imporft depuis Bdd quand le transfert vers Bdd en sortie d'agreg_troncon sera calé) et \n",
    "#si besoin jointure avec les données de trafic\n",
    "gdf_traf=gp.read_file(r'C:\\Users\\martin.schoreisz\\Documents\\AffairesEnCours\\OTV\\17\\temp_linearisation\\troncelem2019_Bdt17_ed19_l.shp')\n",
    "gdf_lin=gp.read_file(r'C:\\Users\\martin.schoreisz\\Documents\\AffairesEnCours\\OTV\\17\\temp_linearisation\\traf2019_bdt17_ed19_l.shp')\n",
    "gdf_traf=gdf_lin.merge(gdf_traf[['id_ign', 'idtronc']], on='id_ign')"
   ]
  },
  {
   "cell_type": "code",
   "execution_count": 150,
   "metadata": {},
   "outputs": [],
   "source": [
    "#import des points de comptages depuis la Bdd\n",
    "with ct.ConnexionBdd('local_otv_boulot') as c :\n",
    "    rqt=\"select * from comptage.na_2010_2019_p where dep='17' and geom is not null and type_poste='ponctuel'\"\n",
    "    gdf_pt_cpt = gp.read_postgis(rqt, c.connexionPsy)\n",
    "#mise en forme attributs\n",
    "def convert_tmja(df) : \n",
    "    for annee in [a for a in range(2019, 2009,-1)]+['autr'] :\n",
    "        attr='tmja_'+str(annee)\n",
    "        if not pd.isnull(df[attr]) : \n",
    "            return (df[attr], annee)\n",
    "df_adj=gdf_pt_cpt.apply(lambda x : convert_tmja(x), axis=1,result_type='expand')\n",
    "df_adj.columns=['tmja_recent','annee_tmja_recent']\n",
    "gdf_pt_cpt=gdf_pt_cpt.merge(df_adj, left_index=True, right_index=True).rename(columns={'id_voie_d':'codevoie_d'})#[['id_comptag','geom','type_poste','tmja_recent','annee_tmja_recent' ]]"
   ]
  },
  {
   "cell_type": "code",
   "execution_count": 151,
   "metadata": {},
   "outputs": [],
   "source": [
    "#filtre des points ponctuels en été\n",
    "pt_pctuels_ete=gdf_pt_cpt.loc[gdf_pt_cpt['type_poste']=='ponctuel'].copy()\n",
    "def verif_ete(tmja_2015, obs_2015, tmja_2016, obs_2016,tmja_2017, obs_2017,tmja_2018, obs_2018) :\n",
    "    if tmja_2018 > 0 and not pd.isnull(obs_2018) :\n",
    "        return any([a in ['July','August']  for a in [pd.to_datetime(obs_2018.split(',')[1].split('-')[i], format='%d/%m/%Y').month_name()for i in [0,1]]])\n",
    "    elif tmja_2017 > 0 and not pd.isnull(obs_2017) :\n",
    "        return any([a in ['July','August']  for a in [pd.to_datetime(obs_2017.split(',')[1].split('-')[i], format='%d/%m/%Y').month_name()for i in [0,1]]])\n",
    "    elif tmja_2016 > 0 and not pd.isnull(obs_2016) :\n",
    "        return any([a in ['July','August']  for a in [pd.to_datetime(obs_2016.split(',')[1].split('-')[i], format='%d/%m/%Y').month_name()for i in [0,1]]])\n",
    "    elif tmja_2015 > 0 and not pd.isnull(obs_2015) :\n",
    "        return any([a in ['July','August']  for a in [pd.to_datetime(obs_2015.split(',')[1].split('-')[i], format='%d/%m/%Y').month_name()for i in [0,1]]])\n",
    "    else : return False\n",
    "pt_pctuels_ete['ete']=pt_pctuels_ete.apply(lambda x : verif_ete(x['tmja_2015'],x['obs_2015'], x['tmja_2016'], x['obs_2016'],\n",
    "                                                               x['tmja_2017'],x['obs_2017'], x['tmja_2018'], x['obs_2018']), axis=1)\n",
    "pt_pctuels_ete=pt_pctuels_ete.loc[~pt_pctuels_ete['ete']].copy()\n",
    "gdf_pt_cpt=gdf_pt_cpt.loc[gdf_pt_cpt.index.isin(pt_pctuels_ete.index.tolist()+gdf_pt_cpt.loc[gdf_pt_cpt['type_poste']!='ponctuel'].index.tolist())].copy()"
   ]
  },
  {
   "cell_type": "code",
   "execution_count": 152,
   "metadata": {},
   "outputs": [],
   "source": [
    "#croisement point et lignes (sur labase d'un buffer de 0.5m)\n",
    "gdf_pt_cpt.geometry=gdf_pt_cpt.buffer(0.5)\n",
    "gdf_traf_pt=gp.sjoin(gdf_traf,gdf_pt_cpt,how=\"left\", op='intersects' )[['id','id_ign','tmja', 'importance','numero','id_voie_d','sens','long_km','nature',\n",
    "            'id_comptag_left', 'idtronc', 'id_comptag_right','type_poste','tmja_recent','annee_tmja_recent','source','target', 'geometry']].rename(\n",
    "columns={'id_comptag_left':'id_cpt_lin','id_comptag_right': 'id_cpt_pt','tmja':'tmja_lin','id_voie_d':'codevoie_d',\n",
    "           'idtronc':'id_tronc_e'})"
   ]
  },
  {
   "cell_type": "code",
   "execution_count": 153,
   "metadata": {},
   "outputs": [],
   "source": [
    "#recherch des tronc_elem avec plusieurs points\n",
    "gdf_traf_pt_notna=gdf_traf_pt.loc[~gdf_traf_pt['id_cpt_pt'].isna()].copy()\n",
    "tronc_elem_pt_cpt=gdf_traf_pt_notna.sort_index().groupby('id_tronc_e').agg({'id_cpt_pt' : lambda x : tuple(x),\n",
    "                                       'type_poste' : lambda x : tuple(x),\n",
    "                                        'tmja_recent' : lambda x : tuple(x),\n",
    "                                        'annee_tmja_recent' : lambda x : tuple(x)})\n",
    "trc_elem_multipt=tronc_elem_pt_cpt.loc[tronc_elem_pt_cpt.apply(lambda x : len(x['id_cpt_pt'])>1,axis=1)].copy()"
   ]
  },
  {
   "cell_type": "code",
   "execution_count": 154,
   "metadata": {},
   "outputs": [],
   "source": [
    "#mise en forme des trocnon supportant plusieurs point : \n",
    "    #gestion des trocnon avec plusieurs points differntes (on garde le ponctuele de trafic max de l'annee la plus recente si que des ponctuels, sinon le tournant ou permanent)\n",
    "    #verif de la validite des points en comprant les valeurs de trafic entre elle: si un des trafics est sup 1000 et que la variation est sup 30 %, on n'affecte pas\n",
    "def cpt_final (type_poste,id_comptag_right,tmja_recent,annee_tmja_recent ): \n",
    "    tmja_recent=np.array(tmja_recent) \n",
    "    id_comptag_right=np.array(id_comptag_right)\n",
    "    mask_tmja = (tmja_recent==max(tmja_recent))\n",
    "    if all(np.unique(type_poste)=='ponctuel') :\n",
    "        mask_annee=np.array(annee_tmja_recent)==max(annee_tmja_recent)\n",
    "        if all(mask_annee):#il n'y a qu'une seule annee\n",
    "            if all(mask_tmja) : \n",
    "                return id_comptag_right[0].tolist()\n",
    "            else : \n",
    "                return id_comptag_right[mask_tmja][0].tolist()\n",
    "        else : #il y a pluseurs annee dc on ne garde que le max de la bonne annee\n",
    "            return id_comptag_right[mask_tmja].tolist()\n",
    "    else :\n",
    "        mask_type_poste=np.isin(np.array(type_poste),['permanent', 'tournant'])#on trouve le(s) poste(s) non ponctuel\n",
    "        return id_comptag_right[mask_type_poste][0].tolist()\n",
    "#verif de la validite des points en comprant les valeurs de trafic entre elle: si un des trafics est sup 1000 et que la variation est sup 30 %, on n'affecte pas\n",
    "trc_elem_multipt['id_cpt_final']=trc_elem_multipt.apply(lambda x: cpt_final(\n",
    "    x['type_poste'], x['id_cpt_pt'], x['tmja_recent'], x['annee_tmja_recent']), axis=1)\n",
    "trc_elem_multipt['valide']=trc_elem_multipt.apply(lambda x : (False if abs(100-(min(x['tmja_recent'])/max(x['tmja_recent'])*100))>30 and\n",
    "                                                                    max(x['tmja_recent'])>1000 and all(np.unique(x['type_poste'])=='ponctuel') else True), axis=1)\n",
    "trc_elem_multipt=trc_elem_multipt.loc[trc_elem_multipt['valide']].copy()"
   ]
  },
  {
   "cell_type": "code",
   "execution_count": 156,
   "metadata": {},
   "outputs": [],
   "source": [
    "#obtention de la df des id_comptage_pt par tronc_elem\n",
    "tronc_elem_pt_cpt.update(trc_elem_multipt.drop('id_cpt_pt',axis=1).rename(columns={'id_cpt_final':'id_cpt_pt'})[['id_cpt_pt']])\n",
    "tronc_elem_pt_cpt['id_cpt_pt']=tronc_elem_pt_cpt.id_cpt_pt.apply(lambda x : x[0] if (isinstance(x, tuple) or \n",
    "                                                       isinstance(x, list) and x) else x) #uniformisation du type de données en str"
   ]
  },
  {
   "cell_type": "code",
   "execution_count": 157,
   "metadata": {},
   "outputs": [],
   "source": [
    "#transfert de l'id_cpt_pt final dans la df source\n",
    "gdf_traf_pt_final=gdf_traf_pt[['id_ign','importance','numero', 'id_cpt_lin','tmja_lin', 'id_tronc_e','geometry','source','target']].merge(tronc_elem_pt_cpt[['id_cpt_pt']], how='left',left_on='id_tronc_e', right_index=True)"
   ]
  },
  {
   "cell_type": "code",
   "execution_count": 158,
   "metadata": {},
   "outputs": [],
   "source": [
    "#pour info, ligne ign non linéarisée qui le deviennent\n",
    "gdf_creation_idcpt=gdf_traf_pt_final.loc[(gdf_traf_pt_final['id_cpt_lin'].isna()) & (~gdf_traf_pt_final['id_cpt_pt'].isna())].copy()\n",
    "#pour info, ligne ign linéarisée qui le sont toujours, mais peut avec un nouvel id_ign\n",
    "gdf_variation_idcpt=gdf_traf_pt_final.loc[(~gdf_traf_pt_final['id_cpt_lin'].isna()) & (~gdf_traf_pt_final['id_cpt_pt'].isna()) & (gdf_traf_pt_final['id_cpt_pt']!=gdf_traf_pt_final['id_cpt_lin'])].sort_values('id_cpt_lin')"
   ]
  },
  {
   "cell_type": "markdown",
   "metadata": {},
   "source": [
    "# mettre à jour les lignes des troncons qui appartiennent à des id_comptag qui supporte un nouvel id_cpt\n",
    "**IL FAUT METTRE EN FORME LES 2 BLOCS CI-DESSSOUS EN FONCTION DANS LES MODULES QUI VONT BIEN <br> <br> ATTENTION DES ERREURS DE LINEARISATION EN 2016 :** <br>\n",
    "- propagation non arreté à la 1èer intersection mais à la deuxième (à l'Est de l'id_comptag) : TRONROUT0000000032986160 linearisee avec 17-D129-57+510\n",
    "- rd point linéarisé mais aucun autre troncon avec lui : 17-D202-9+950 tout seul sur le rd point entouré par du 17-D202-10+400 TRONROUT0000000032864482\n",
    "- affectation des points aux lignes : vérifier qu'au moins 1 lignes dans la distance eéquivalente au buffer présete bien le même numero de voie que le compteur\n",
    "TRONROUT0000000032877685 avec 17-D107-62+282 "
   ]
  },
  {
   "cell_type": "code",
   "execution_count": null,
   "metadata": {},
   "outputs": [],
   "source": [
    "%reset_selective -f df_linearisee_fin_glob\n",
    "#on ne prend que les points de comptages présentant le mm nom de voie\n",
    "gdf_variation_idcpt_ok=gdf_variation_idcpt.loc[gdf_variation_idcpt.apply(lambda x : \n",
    "                        x['id_cpt_lin'].split('-')[1] == x['id_cpt_pt'].split('-')[1],axis=1)].copy()\n",
    "\n",
    "#isoler les lignes qui sont relaticves à l'id_cpt_lin et trouver tout les points concerné. si que 1 point de type permanent on passe\n",
    "for id_cpt_a_test in gdf_variation_idcpt_ok.id_cpt_lin.unique() : \n",
    "    print(id_cpt_a_test)\n",
    "#id_cpt_a_test='17-D939-88+0'\n",
    "    lgn_idcpt_lin=gdf_traf.loc[gdf_traf['id_comptag']==id_cpt_a_test].copy()\n",
    "    liste_new_pt=gdf_variation_idcpt_ok.loc[gdf_variation_idcpt_ok['id_cpt_lin']==id_cpt_a_test].id_cpt_pt.unique()\n",
    "    if (gdf_pt_cpt.loc[gdf_pt_cpt.id_comptag.isin(liste_new_pt)].type_poste=='permanent').all() :\n",
    "        print('que permanent')\n",
    "        continue\n",
    "\n",
    "    #trouver la ligne la plus proche relative à chaque nouveau point\n",
    "    gdf_variation_idcpt_ok_geom=gdf_variation_idcpt_ok.merge(gdf_pt_cpt[['id_comptag', 'geom']], left_on='id_cpt_pt', right_on='id_comptag').rename(columns={\n",
    "        'geom' : 'geom_id_cpt_pt'}) # pour trouver la ligne qui suppotrt ele pt j'ai besoin da le distance au pt de comptage\n",
    "    gdf_variation_idcpt_ok_geom['dist_id_cpt']=gdf_variation_idcpt_ok_geom.apply(lambda x : x['geometry'].distance(x['geom_id_cpt_pt']), axis=1)\n",
    "\n",
    "    t1=gdf_variation_idcpt_ok_geom.loc[gdf_variation_idcpt_ok_geom['id_cpt_pt'].isin(liste_new_pt)]\n",
    "    df_lgn_proche_cpt=t1.loc[t1.groupby(['id_cpt_pt'])['dist_id_cpt'].transform(min)==t1['dist_id_cpt']]\n",
    "    #si la distance minimale entre le nouveau point et le trocnon qui le supporte est sup à 0.5 (paramètre du buffer au dessus) ça veut dire que pb, dc on passe\n",
    "    if (df_lgn_proche_cpt.dist_id_cpt>0.5).all() : \n",
    "        print('pb distance')\n",
    "        continue\n",
    "\n",
    "    #trouver les lignes qui intersectent celles de l'idcompatg etudie dont l'importance est = ou sup\n",
    "        #list des source / target de l'idcomptage\n",
    "    list_src_tgt=lgn_idcpt_lin.source.tolist()+lgn_idcpt_lin.target.tolist()\n",
    "    df_lgn_interscts=gdf_traf.loc[((gdf_traf['source'].isin(list_src_tgt)) | (gdf_traf['target'].isin(list_src_tgt))) &\n",
    "                                    (~gdf_traf.index.isin(lgn_idcpt_lin.index.tolist()))].copy()\n",
    "    df_lgn_interscts_merge=gp.sjoin(df_lgn_interscts,lgn_idcpt_lin, op='intersects')\n",
    "    df_lgn_interscts_filtre=df_lgn_interscts_merge.loc[df_lgn_interscts_merge.apply(lambda x : int(x['importance_left']) <= int(x['importance_right']), axis=1)].copy()\n",
    "    nom_attribut=[a for a  in df_lgn_interscts_filtre.columns if a[-4:]=='left']\n",
    "    df_lgn_interscts_fin=df_lgn_interscts_filtre.rename(columns={n : n[:-5] for n in nom_attribut})[[c for c in df_lgn_interscts.columns]]\n",
    "\n",
    "    #faire un graph avec les lignes de l'id_cpt_lin et celles qui interectent avec la bonne importance\n",
    "        #regrouper l'ensemble des lignes dans une df \n",
    "    ligne_pr_graph=gdf_traf.loc[gdf_traf['id_ign'].isin(df_lgn_interscts.id_ign.tolist()+lgn_idcpt_lin.id_ign.tolist())]\n",
    "    ligne_pr_graph_transfert=ligne_pr_graph.copy()\n",
    "    ligne_pr_graph_transfert['geom']=ligne_pr_graph_transfert.apply(lambda x : dumps(x.geometry), axis=1)\n",
    "\n",
    "    #preparer le lineaire pour graph\n",
    "    ligne_pr_graph=pd.concat([df_lgn_interscts_fin, lgn_idcpt_lin], sort=False, axis=0)\n",
    "        #gestion des doucblons id_ign\n",
    "    ligne_pr_graph.drop_duplicates('id_ign', inplace=True)\n",
    "        #si doublons id restant on remplace l'id\n",
    "    if ~ligne_pr_graph.loc[ligne_pr_graph.duplicated('id', keep=False)].empty : \n",
    "        ligne_pr_graph=ligne_pr_graph.reset_index().drop('index', axis=1).copy()\n",
    "        ligne_pr_graph.id=ligne_pr_graph.index\n",
    "    ligne_pr_graph_transfert=ligne_pr_graph.copy()\n",
    "    ligne_pr_graph_transfert['geom']=ligne_pr_graph_transfert.apply(lambda x : dumps(x.geometry), axis=1)\n",
    "\n",
    "    #faire un graph à partir de ces lignes\n",
    "    bdd='gti_otv'\n",
    "    schema='public'\n",
    "    table='graph_temp'\n",
    "    table_vertex='graph_temp_vertices_pgr'\n",
    "    with ct.ConnexionBdd(bdd) as c:\n",
    "        metadata = MetaData(schema=schema)\n",
    "        #supprimer table si elle existe\n",
    "        rqt=f\"drop table if exists {schema}.{table} ; drop table if exists {schema}.{table_vertex} \"\n",
    "        c.sqlAlchemyConn.execute(rqt)\n",
    "\n",
    "        #creer nouvelle table\n",
    "        graph = Table('graph_temp', metadata,\n",
    "            Column('id', Integer, primary_key=True),\n",
    "            Column('id_ign', String),\n",
    "            Column('importance', String),\n",
    "            Column('numero', String),\n",
    "            Column('nature', String),\n",
    "            Column('codevoie_d', String),\n",
    "            Column('sens', String),\n",
    "            Column('source', Integer),\n",
    "            Column('target', Integer),\n",
    "            Column('long_km', Float),\n",
    "            Column('geom',Geometry()))\n",
    "        metadata.create_all(c.engine)\n",
    "        ligne_pr_graph_transfert[['id','id_ign','importance','numero','nature','codevoie_d','source','sens','target','long_km','geom']].to_sql(\n",
    "            table,c.sqlAlchemyConn,schema=schema,if_exists='append', index=False )\n",
    "        #creer le graph\n",
    "        rqt_creation_graph=f\"\"\"update {schema}.{table} set geom=st_Multi(st_setsrid(geom,2154)), source=null, target=null ; \n",
    "                             select pgr_createTopology('{schema}.{table}', 0.001,'geom')\"\"\"\n",
    "        c.sqlAlchemyConn.execute(rqt_creation_graph)\n",
    "        rqt_anlyse_graph=f\"SELECT pgr_analyzeGraph('{schema}.{table}', 0.001,\\'geom\\')\"\n",
    "        c.curs.execute(rqt_anlyse_graph)#je le fait avec psycopg2 car avec sql acchemy ça ne passe pas\n",
    "        c.connexionPsy.commit()\n",
    "\n",
    "    #appel des fonction de carac des lignes \n",
    "    df=import_donnes_base('gti_otv','public', 'graph_temp','graph_temp_vertices_pgr')\n",
    "    df2_chaussees=df.loc[df.nature.isin(['Autoroute', 'Quasi-autoroute', 'Route à 2 chaussées'])]\n",
    "    df_avec_rd_pt,carac_rd_pt,lign_entrant_rdpt=identifier_rd_pt(df)\n",
    "    df_lignes=df_avec_rd_pt.set_index('id_ign')#mettre l'id_ign en index\n",
    "\n",
    "    #ensuite l'idée c'est de créer un dico avec pr chauqe point de comptage que l'on souhaite lineariser le recenesmeent de  : \n",
    "    #la ligne qui supporte le pt, le numero du tronc elem, les lignes qui compose le tronc elem\n",
    "    #on faitd'abords les points ponctuels, puis le permanent pour pouvoir les ordonner avec un drapeau\n",
    "    dico_ligne_pt_base=df_lgn_proche_cpt.drop_duplicates(['id_cpt_lin','id_cpt_pt' ])[['id_cpt_pt',\n",
    "                            'id_ign','id_tronc_e']].set_index('id_cpt_pt').to_records()\n",
    "    dico_ligne_pt={k[0] : {'ligne_base': k[1],'trc_elem':k[2],'lgn_trc_elem' : gdf_traf_pt.loc[(gdf_traf_pt['id_tronc_e']==k[2]) & \n",
    "                                                                            (gdf_traf_pt.id_ign.isin(lgn_idcpt_lin.id_ign.tolist()))].id_ign.tolist(), 'priorite':2} \n",
    "                   for k in dico_ligne_pt_base}\n",
    "    dico_ligne_pt[id_cpt_a_test]={'ligne_base' : gdf_traf_pt.loc[(gdf_traf_pt['type_poste'].isin(['permanent','tournant'])) & \n",
    "                                                                (gdf_traf_pt['id_cpt_lin']==id_cpt_a_test)].id_ign.values[0],\n",
    "                                 'trc_elem':gdf_traf_pt.loc[(gdf_traf_pt['type_poste'].isin(['permanent','tournant'])) & \n",
    "                                                                (gdf_traf_pt['id_cpt_lin']==id_cpt_a_test)].id_tronc_e.values[0], \n",
    "                                 'lgn_trc_elem' : gdf_traf_pt.loc[(gdf_traf_pt['id_tronc_e']==gdf_traf_pt.loc[(gdf_traf_pt['type_poste'].isin(\n",
    "                                     ['permanent','tournant'])) & (gdf_traf_pt['id_cpt_lin']==id_cpt_a_test)].id_tronc_e.values[0]) & \n",
    "                   (gdf_traf_pt['id_ign'].isin(df_lignes.index.to_list()))].id_ign.tolist(),\n",
    "                                 'priorite':1}\n",
    "        #dico des lignes relatives a un autre comptage\n",
    "    dico_lign_cpt_pct={k:[a for kd in dico_ligne_pt.keys() if kd!=k for a in dico_ligne_pt[kd]['lgn_trc_elem']] for k in dico_ligne_pt.keys()}\n",
    "\n",
    "    #attention, la fonction regrouper_troncon ne marche pas si la ligne de base est un rd point.\n",
    "    #il faut dc vérifier ce point et dans le cas où ça arrive prendre un ligne des lgn_trc_elem qui ne soit pas sur un rdpoint\n",
    "    if not carac_rd_pt.empty : \n",
    "        list_id_ign_rd_pt=[a for l_rdpt in carac_rd_pt.id_ign_rdpt.tolist() for a in l_rdpt]\n",
    "        for k in dico_ligne_pt.keys() : \n",
    "            if dico_ligne_pt[k]['ligne_base'] in list_id_ign_rd_pt : \n",
    "                dico_ligne_pt[k]['ligne_base']=[e for e in dico_ligne_pt[k]['lgn_trc_elem'] if e not in list_id_ign_rd_pt][0]\n",
    "\n",
    "    #pour chaque ligne : on fait tourner la fonction de tronc elem à partir du graph avec les importance sup ou égale, \n",
    "    #d'abord pour le cpt permanent, ensuite pour les autres, avec prise necompte des lignes des tronc elem des autres compteurs. \n",
    "        #list des id_ign des tronc_elem\n",
    "    liste_id_ign_te=[a  for k, v in dico_ligne_pt.items() for a in v['lgn_trc_elem']]\n",
    "    lignes_traitees=[]\n",
    "        #utilisret les fnctions de carac\n",
    "    try : \n",
    "        for k in sorted(dico_ligne_pt.keys(), key=lambda x: (dico_ligne_pt[x]['priorite'])): \n",
    "            ligne_comp=[x for x in regrouper_troncon([dico_ligne_pt[k]['ligne_base']],df_avec_rd_pt,carac_rd_pt, df2_chaussees,\n",
    "                                                       dico_lign_cpt_pct[k]+lignes_traitees)[0].id.tolist() \n",
    "                        if x in df_lignes.index.tolist()]\n",
    "            #print(f\"id_cpt : {k},'\\n',lignes_traitees : {lignes_traitees},'\\n', lignes de base : {ligne_comp}\")\n",
    "            lignes_traitees+=ligne_comp\n",
    "            dico_ligne_pt[k]['lignes_comp_base']=[a for a in ligne_comp if a in lgn_idcpt_lin.id_ign.to_list()]\n",
    "    except KeyError : \n",
    "        print(f'pb sur id_comptag : {id_cpt_a_test}')\n",
    "\n",
    "    #a ce stade, si le cpt perm est séparé par une voie d'importance sup ou =, il y a discontinuité, dc il faut \n",
    "        #-relevé les discontinuite\n",
    "    ids_affectes=[a for k in dico_ligne_pt.keys() for a in dico_ligne_pt[k]['lignes_comp_base']+dico_ligne_pt[k]['lgn_trc_elem']]\n",
    "    df_non_affecte=lgn_idcpt_lin.loc[~lgn_idcpt_lin.id_ign.isin(ids_affectes)]\n",
    "\n",
    "    #tant que des discont existent\n",
    "    while not df_non_affecte.empty : \n",
    "        for k in sorted(dico_ligne_pt.keys(), key=lambda x: (dico_ligne_pt[x]['priorite'])):\n",
    "            #discontinuité qui touche le cpt : \n",
    "            list_ids_cpt=list(set(dico_ligne_pt[k]['lignes_comp_base']+dico_ligne_pt[k]['lgn_trc_elem']))\n",
    "            src_tgt_affecte=(lgn_idcpt_lin.loc[lgn_idcpt_lin.id_ign.isin(list_ids_cpt)].source.tolist() + \n",
    "                    lgn_idcpt_lin.loc[lgn_idcpt_lin.id_ign.isin(list_ids_cpt)].target.tolist() )\n",
    "            ids_tch_cpt=df_non_affecte.loc[(df_non_affecte.source.isin(src_tgt_affecte)) | (df_non_affecte.target.isin(src_tgt_affecte))].id_ign.tolist()\n",
    "            if not ids_tch_cpt :\n",
    "                continue\n",
    "            print (k, ids_tch_cpt)\n",
    "            #pour chaque ligne on récupère tout les troncons elem et on ajoute au dico\n",
    "            try : \n",
    "                ids_a_ajouter=[a for b in [regrouper_troncon([e],df_avec_rd_pt,carac_rd_pt, df2_chaussees,\n",
    "                 ids_affectes)[0].id.tolist() for e in ids_tch_cpt] for a in b]\n",
    "            except PasAffectationError :#dans le cas par exemple où tout les lignes qui restent sont des rd ppoint\n",
    "                if (~df_non_affecte.id_rdpt.isna()).all() and len(df_non_affecte.id_rdpt.unique())==1 : \n",
    "                    ids_a_ajouter=df_non_affecte.id_ign.tolist()\n",
    "            dico_ligne_pt[k]['lignes_comp_base']+=ids_a_ajouter\n",
    "            ids_affectes=[a for k in dico_ligne_pt.keys() for a in dico_ligne_pt[k]['lignes_comp_base']+dico_ligne_pt[k]['lgn_trc_elem']]\n",
    "            df_non_affecte=lgn_idcpt_lin.loc[~lgn_idcpt_lin.id_ign.isin(ids_affectes)]\n",
    "\n",
    "    # mettre en forme et creation df de correspondance finale : \n",
    "    df_linearisee=pd.DataFrame(index=dico_ligne_pt.keys(), data=dico_ligne_pt.values())\n",
    "    df_linearisee['lignes_comp_fin']=df_linearisee.apply(lambda x : x['lignes_comp_base'] + x['lgn_trc_elem'], axis=1 )\n",
    "    dico_inverse=df_linearisee[['lignes_comp_fin']].to_dict()\n",
    "    dico_inverse={a:k   for k, val  in dico_inverse['lignes_comp_fin'].items() for a in val}\n",
    "    df_linearisee_fin=pd.DataFrame(index=dico_inverse.keys(), data=dico_inverse.values(), columns=['id_cpt_fin'])\n",
    "\n",
    "    try : \n",
    "        df_linearisee_fin_glob=pd.concat([df_linearisee_fin_glob,df_linearisee_fin], axis=0, sort=False)\n",
    "    except NameError : \n",
    "        df_linearisee_fin_glob=df_linearisee_fin.copy()\n",
    "df_linearisee_fin_glob.to_csv(r'Q:\\DAIT\\TI\\DREAL33\\2018\\C18SA00003_OTR-linearisation_NA_(JM)\\Production\\Travail\\Donnees_produites\\fichiers_temp_travail\\test_lin_pt_existant.csv')"
   ]
  },
  {
   "cell_type": "markdown",
   "metadata": {},
   "source": [
    "# pour les nouveaux points à linéariser \n",
    "**L'idée c'est d'isoler la voie concernée, en ne conservant que le troncons qui n'ont pas d'id_comptage. ensuite on fait le tour de tout les pt dispo, on crée un graph sur la base du numero de voie et des troncon qui intersectent et qui soit ont une importance sup ou =, soit sont compté. Puis on propage sur ce graph** <br> <br>\n",
    "**ATTENTION DES ERREURS DE LINEARISATION EN 2016 :** <br>\n",
    "- propagation non arreté à la 1èer intersection mais à la deuxième (à l'Est de l'id_comptag) : TRONROUT0000000032986160 linearisee avec 17-D129-57+510\n",
    "- rd point linéarisé mais aucun autre troncon avec lui : 17-D202-9+950 tout seul sur le rd point entouré par du 17-D202-10+400 TRONROUT0000000032864482\n",
    "- affectation des points aux lignes : vérifier qu'au moins 1 lignes dans la distance eéquivalente au buffer présete bien le même numero de voie que le compteur\n",
    "TRONROUT0000000032877685 avec 17-D107-62+282 "
   ]
  },
  {
   "cell_type": "code",
   "execution_count": 159,
   "metadata": {},
   "outputs": [],
   "source": [
    "#%reset_selective -f df_linearisee_fin_glob\n",
    "\n",
    "#on ne garde que les points relatif à leur voie\n",
    "gdf_creation_idcpt_ok=gdf_creation_idcpt.loc[gdf_creation_idcpt.apply(lambda x : x['numero']==x['id_cpt_pt'].split('-')[1],axis=1)].copy()"
   ]
  },
  {
   "cell_type": "code",
   "execution_count": 163,
   "metadata": {},
   "outputs": [
    {
     "name": "stdout",
     "output_type": "stream",
     "text": [
      "17-D141E4-1+385\n"
     ]
    },
    {
     "name": "stderr",
     "output_type": "stream",
     "text": [
      "c:\\users\\martin.schoreisz\\appdata\\local\\programs\\python\\python38\\lib\\site-packages\\geopandas\\geodataframe.py:852: UserWarning: Geometry column does not contain geometry.\n",
      "  warnings.warn(\"Geometry column does not contain geometry.\")\n"
     ]
    },
    {
     "name": "stdout",
     "output_type": "stream",
     "text": [
      "creer_graph : donnees mise en forme, connexion ouverte ; 2020-12-10 12:11:00.964791\n",
      "creer_graph : donnees transferees dans la base postgis ; 2020-12-10 12:11:01.026657\n",
      "creer_graph : geometrie modifiee ; 2020-12-10 12:11:01.066093\n",
      "creer_graph : topologie cree ; 2020-12-10 12:11:01.348914\n",
      "creer_graph : graph cree ; 2020-12-10 12:11:01.566327\n",
      "0 2020-12-10 12:11:03.255134 nb lignes traitees : 0\n",
      "17-D215E2-1+650\n"
     ]
    },
    {
     "name": "stderr",
     "output_type": "stream",
     "text": [
      "c:\\users\\martin.schoreisz\\appdata\\local\\programs\\python\\python38\\lib\\site-packages\\geopandas\\geodataframe.py:852: UserWarning: Geometry column does not contain geometry.\n",
      "  warnings.warn(\"Geometry column does not contain geometry.\")\n"
     ]
    },
    {
     "name": "stdout",
     "output_type": "stream",
     "text": [
      "creer_graph : donnees mise en forme, connexion ouverte ; 2020-12-10 12:11:04.242980\n",
      "creer_graph : donnees transferees dans la base postgis ; 2020-12-10 12:11:04.318742\n",
      "creer_graph : geometrie modifiee ; 2020-12-10 12:11:04.405152\n",
      "creer_graph : topologie cree ; 2020-12-10 12:11:04.553785\n",
      "creer_graph : graph cree ; 2020-12-10 12:11:04.713381\n",
      "0 2020-12-10 12:11:06.209817 nb lignes traitees : 0\n",
      "17-D106-3+20\n"
     ]
    },
    {
     "name": "stderr",
     "output_type": "stream",
     "text": [
      "c:\\users\\martin.schoreisz\\appdata\\local\\programs\\python\\python38\\lib\\site-packages\\geopandas\\geodataframe.py:852: UserWarning: Geometry column does not contain geometry.\n",
      "  warnings.warn(\"Geometry column does not contain geometry.\")\n"
     ]
    },
    {
     "name": "stdout",
     "output_type": "stream",
     "text": [
      "creer_graph : donnees mise en forme, connexion ouverte ; 2020-12-10 12:11:07.339487\n",
      "creer_graph : donnees transferees dans la base postgis ; 2020-12-10 12:11:07.510993\n",
      "creer_graph : geometrie modifiee ; 2020-12-10 12:11:07.556761\n",
      "creer_graph : topologie cree ; 2020-12-10 12:11:08.076913\n",
      "creer_graph : graph cree ; 2020-12-10 12:11:08.321965\n",
      "0 2020-12-10 12:11:09.963542 nb lignes traitees : 0\n",
      "17-D127-7+300\n"
     ]
    },
    {
     "name": "stderr",
     "output_type": "stream",
     "text": [
      "c:\\users\\martin.schoreisz\\appdata\\local\\programs\\python\\python38\\lib\\site-packages\\geopandas\\geodataframe.py:852: UserWarning: Geometry column does not contain geometry.\n",
      "  warnings.warn(\"Geometry column does not contain geometry.\")\n"
     ]
    },
    {
     "name": "stdout",
     "output_type": "stream",
     "text": [
      "creer_graph : donnees mise en forme, connexion ouverte ; 2020-12-10 12:11:11.212643\n",
      "creer_graph : donnees transferees dans la base postgis ; 2020-12-10 12:11:11.514935\n",
      "creer_graph : geometrie modifiee ; 2020-12-10 12:11:11.559885\n",
      "creer_graph : topologie cree ; 2020-12-10 12:11:12.668949\n",
      "creer_graph : graph cree ; 2020-12-10 12:11:12.807269\n",
      "0 2020-12-10 12:11:14.751825 nb lignes traitees : 0\n",
      "0 2020-12-10 12:11:14.967216 nb lignes traitees : 0\n",
      "0 2020-12-10 12:11:15.313351 nb lignes traitees : 0\n",
      "0 2020-12-10 12:11:15.633782 nb lignes traitees : 0\n",
      "0 2020-12-10 12:11:15.716602 nb lignes traitees : 0\n",
      "0 2020-12-10 12:11:15.786419 nb lignes traitees : 0\n",
      "0 2020-12-10 12:11:15.970893 nb lignes traitees : 0\n",
      "17-D137-83+500\n"
     ]
    },
    {
     "name": "stderr",
     "output_type": "stream",
     "text": [
      "c:\\users\\martin.schoreisz\\appdata\\local\\programs\\python\\python38\\lib\\site-packages\\geopandas\\geodataframe.py:852: UserWarning: Geometry column does not contain geometry.\n",
      "  warnings.warn(\"Geometry column does not contain geometry.\")\n"
     ]
    },
    {
     "name": "stdout",
     "output_type": "stream",
     "text": [
      "creer_graph : donnees mise en forme, connexion ouverte ; 2020-12-10 12:11:16.950539\n",
      "creer_graph : donnees transferees dans la base postgis ; 2020-12-10 12:11:17.061194\n",
      "creer_graph : geometrie modifiee ; 2020-12-10 12:11:17.119981\n",
      "creer_graph : topologie cree ; 2020-12-10 12:11:17.533006\n",
      "creer_graph : graph cree ; 2020-12-10 12:11:17.747578\n",
      "0 2020-12-10 12:11:19.560219 nb lignes traitees : 0\n",
      "0 2020-12-10 12:11:20.018998 nb lignes traitees : 0\n",
      "0 2020-12-10 12:11:20.715053 nb lignes traitees : 0\n",
      "17-D119-20+860\n"
     ]
    },
    {
     "name": "stderr",
     "output_type": "stream",
     "text": [
      "c:\\users\\martin.schoreisz\\appdata\\local\\programs\\python\\python38\\lib\\site-packages\\geopandas\\geodataframe.py:852: UserWarning: Geometry column does not contain geometry.\n",
      "  warnings.warn(\"Geometry column does not contain geometry.\")\n"
     ]
    },
    {
     "name": "stdout",
     "output_type": "stream",
     "text": [
      "creer_graph : donnees mise en forme, connexion ouverte ; 2020-12-10 12:11:22.254600\n",
      "creer_graph : donnees transferees dans la base postgis ; 2020-12-10 12:11:22.436692\n",
      "creer_graph : geometrie modifiee ; 2020-12-10 12:11:22.499695\n",
      "creer_graph : topologie cree ; 2020-12-10 12:11:23.085091\n",
      "creer_graph : graph cree ; 2020-12-10 12:11:23.381903\n",
      "0 2020-12-10 12:11:24.838567 nb lignes traitees : 0\n",
      "0 2020-12-10 12:11:24.908378 nb lignes traitees : 0\n",
      "0 2020-12-10 12:11:25.030077 nb lignes traitees : 0\n",
      "0 2020-12-10 12:11:25.234525 nb lignes traitees : 0\n",
      "17-D18-44+880\n"
     ]
    },
    {
     "name": "stderr",
     "output_type": "stream",
     "text": [
      "c:\\users\\martin.schoreisz\\appdata\\local\\programs\\python\\python38\\lib\\site-packages\\geopandas\\geodataframe.py:852: UserWarning: Geometry column does not contain geometry.\n",
      "  warnings.warn(\"Geometry column does not contain geometry.\")\n"
     ]
    },
    {
     "name": "stdout",
     "output_type": "stream",
     "text": [
      "creer_graph : donnees mise en forme, connexion ouverte ; 2020-12-10 12:11:26.138389\n",
      "creer_graph : donnees transferees dans la base postgis ; 2020-12-10 12:11:26.228900\n",
      "creer_graph : geometrie modifiee ; 2020-12-10 12:11:26.270159\n",
      "creer_graph : topologie cree ; 2020-12-10 12:11:26.640255\n",
      "creer_graph : graph cree ; 2020-12-10 12:11:26.874331\n",
      "0 2020-12-10 12:11:28.138576 nb lignes traitees : 0\n",
      "17-D268-4+1\n"
     ]
    },
    {
     "name": "stderr",
     "output_type": "stream",
     "text": [
      "c:\\users\\martin.schoreisz\\appdata\\local\\programs\\python\\python38\\lib\\site-packages\\geopandas\\geodataframe.py:852: UserWarning: Geometry column does not contain geometry.\n",
      "  warnings.warn(\"Geometry column does not contain geometry.\")\n"
     ]
    },
    {
     "name": "stdout",
     "output_type": "stream",
     "text": [
      "creer_graph : donnees mise en forme, connexion ouverte ; 2020-12-10 12:11:29.137259\n",
      "creer_graph : donnees transferees dans la base postgis ; 2020-12-10 12:11:29.221530\n",
      "creer_graph : geometrie modifiee ; 2020-12-10 12:11:29.262142\n",
      "creer_graph : topologie cree ; 2020-12-10 12:11:29.550562\n",
      "creer_graph : graph cree ; 2020-12-10 12:11:29.853157\n",
      "0 2020-12-10 12:11:31.198929 nb lignes traitees : 0\n",
      "17-D142-0+680\n"
     ]
    },
    {
     "name": "stderr",
     "output_type": "stream",
     "text": [
      "c:\\users\\martin.schoreisz\\appdata\\local\\programs\\python\\python38\\lib\\site-packages\\geopandas\\geodataframe.py:852: UserWarning: Geometry column does not contain geometry.\n",
      "  warnings.warn(\"Geometry column does not contain geometry.\")\n"
     ]
    },
    {
     "name": "stdout",
     "output_type": "stream",
     "text": [
      "creer_graph : donnees mise en forme, connexion ouverte ; 2020-12-10 12:11:32.561225\n",
      "creer_graph : donnees transferees dans la base postgis ; 2020-12-10 12:11:32.824730\n",
      "creer_graph : geometrie modifiee ; 2020-12-10 12:11:32.869138\n",
      "creer_graph : topologie cree ; 2020-12-10 12:11:33.938658\n",
      "creer_graph : graph cree ; 2020-12-10 12:11:34.126870\n",
      "0 2020-12-10 12:11:35.883398 nb lignes traitees : 0\n",
      "0 2020-12-10 12:11:36.055545 nb lignes traitees : 0\n",
      "0 2020-12-10 12:11:36.271022 nb lignes traitees : 0\n",
      "0 2020-12-10 12:11:36.816576 nb lignes traitees : 0\n",
      "0 2020-12-10 12:11:37.135727 nb lignes traitees : 0\n",
      "17-D129-59+300\n"
     ]
    },
    {
     "name": "stderr",
     "output_type": "stream",
     "text": [
      "c:\\users\\martin.schoreisz\\appdata\\local\\programs\\python\\python38\\lib\\site-packages\\geopandas\\geodataframe.py:852: UserWarning: Geometry column does not contain geometry.\n",
      "  warnings.warn(\"Geometry column does not contain geometry.\")\n"
     ]
    },
    {
     "name": "stdout",
     "output_type": "stream",
     "text": [
      "creer_graph : donnees mise en forme, connexion ouverte ; 2020-12-10 12:11:38.455605\n",
      "creer_graph : donnees transferees dans la base postgis ; 2020-12-10 12:11:38.643386\n",
      "creer_graph : geometrie modifiee ; 2020-12-10 12:11:38.684276\n",
      "creer_graph : topologie cree ; 2020-12-10 12:11:39.537320\n",
      "creer_graph : graph cree ; 2020-12-10 12:11:39.789473\n",
      "0 2020-12-10 12:11:41.581584 nb lignes traitees : 0\n",
      "0 2020-12-10 12:11:41.731188 nb lignes traitees : 0\n",
      "0 2020-12-10 12:11:41.901683 nb lignes traitees : 0\n",
      "0 2020-12-10 12:11:41.987455 nb lignes traitees : 0\n",
      "0 2020-12-10 12:11:42.099706 nb lignes traitees : 0\n",
      "0 2020-12-10 12:11:42.272208 nb lignes traitees : 0\n",
      "0 2020-12-10 12:11:42.480690 nb lignes traitees : 0\n",
      "0 2020-12-10 12:11:42.651204 nb lignes traitees : 0\n",
      "0 2020-12-10 12:11:42.794858 nb lignes traitees : 0\n",
      "0 2020-12-10 12:11:43.082093 nb lignes traitees : 0\n",
      "17-D232E2-3+20\n"
     ]
    },
    {
     "name": "stderr",
     "output_type": "stream",
     "text": [
      "c:\\users\\martin.schoreisz\\appdata\\local\\programs\\python\\python38\\lib\\site-packages\\geopandas\\geodataframe.py:852: UserWarning: Geometry column does not contain geometry.\n",
      "  warnings.warn(\"Geometry column does not contain geometry.\")\n"
     ]
    },
    {
     "name": "stdout",
     "output_type": "stream",
     "text": [
      "creer_graph : donnees mise en forme, connexion ouverte ; 2020-12-10 12:11:44.192254\n",
      "creer_graph : donnees transferees dans la base postgis ; 2020-12-10 12:11:44.272234\n",
      "creer_graph : geometrie modifiee ; 2020-12-10 12:11:44.328312\n",
      "creer_graph : topologie cree ; 2020-12-10 12:11:44.572652\n",
      "creer_graph : graph cree ; 2020-12-10 12:11:44.922733\n",
      "0 2020-12-10 12:11:46.109741 nb lignes traitees : 0\n",
      "17-D129-63+800\n",
      "17-D129-70+780\n",
      "17-D252-4+900\n"
     ]
    },
    {
     "name": "stderr",
     "output_type": "stream",
     "text": [
      "c:\\users\\martin.schoreisz\\appdata\\local\\programs\\python\\python38\\lib\\site-packages\\geopandas\\geodataframe.py:852: UserWarning: Geometry column does not contain geometry.\n",
      "  warnings.warn(\"Geometry column does not contain geometry.\")\n"
     ]
    },
    {
     "name": "stdout",
     "output_type": "stream",
     "text": [
      "creer_graph : donnees mise en forme, connexion ouverte ; 2020-12-10 12:11:47.077001\n",
      "creer_graph : donnees transferees dans la base postgis ; 2020-12-10 12:11:47.135025\n",
      "creer_graph : geometrie modifiee ; 2020-12-10 12:11:47.182491\n",
      "creer_graph : topologie cree ; 2020-12-10 12:11:47.824378\n",
      "creer_graph : graph cree ; 2020-12-10 12:11:48.014538\n",
      "0 2020-12-10 12:11:49.655494 nb lignes traitees : 0\n",
      "0 2020-12-10 12:11:49.762300 nb lignes traitees : 0\n",
      "17-D147-2+750\n"
     ]
    },
    {
     "name": "stderr",
     "output_type": "stream",
     "text": [
      "c:\\users\\martin.schoreisz\\appdata\\local\\programs\\python\\python38\\lib\\site-packages\\geopandas\\geodataframe.py:852: UserWarning: Geometry column does not contain geometry.\n",
      "  warnings.warn(\"Geometry column does not contain geometry.\")\n"
     ]
    },
    {
     "name": "stdout",
     "output_type": "stream",
     "text": [
      "creer_graph : donnees mise en forme, connexion ouverte ; 2020-12-10 12:11:50.478014\n",
      "creer_graph : donnees transferees dans la base postgis ; 2020-12-10 12:11:50.581974\n",
      "creer_graph : geometrie modifiee ; 2020-12-10 12:11:50.621533\n",
      "creer_graph : topologie cree ; 2020-12-10 12:11:50.963838\n",
      "creer_graph : graph cree ; 2020-12-10 12:11:51.157213\n",
      "0 2020-12-10 12:11:52.508723 nb lignes traitees : 0\n",
      "17-D136-9+870\n"
     ]
    },
    {
     "name": "stderr",
     "output_type": "stream",
     "text": [
      "c:\\users\\martin.schoreisz\\appdata\\local\\programs\\python\\python38\\lib\\site-packages\\geopandas\\geodataframe.py:852: UserWarning: Geometry column does not contain geometry.\n",
      "  warnings.warn(\"Geometry column does not contain geometry.\")\n"
     ]
    },
    {
     "name": "stdout",
     "output_type": "stream",
     "text": [
      "creer_graph : donnees mise en forme, connexion ouverte ; 2020-12-10 12:11:53.565461\n",
      "creer_graph : donnees transferees dans la base postgis ; 2020-12-10 12:11:53.750874\n",
      "creer_graph : geometrie modifiee ; 2020-12-10 12:11:53.803685\n",
      "creer_graph : topologie cree ; 2020-12-10 12:11:54.497831\n",
      "creer_graph : graph cree ; 2020-12-10 12:11:54.780137\n",
      "0 2020-12-10 12:11:56.116976 nb lignes traitees : 0\n",
      "0 2020-12-10 12:11:56.317482 nb lignes traitees : 0\n",
      "0 2020-12-10 12:11:56.512940 nb lignes traitees : 0\n",
      "0 2020-12-10 12:11:56.686443 nb lignes traitees : 0\n",
      "0 2020-12-10 12:11:56.877974 nb lignes traitees : 0\n",
      "0 2020-12-10 12:11:57.078444 nb lignes traitees : 0\n",
      "0 2020-12-10 12:11:57.155240 nb lignes traitees : 0\n",
      "0 2020-12-10 12:11:57.416557 nb lignes traitees : 0\n",
      "0 2020-12-10 12:11:57.631992 nb lignes traitees : 0\n",
      "17-D112-6+600\n"
     ]
    },
    {
     "name": "stderr",
     "output_type": "stream",
     "text": [
      "c:\\users\\martin.schoreisz\\appdata\\local\\programs\\python\\python38\\lib\\site-packages\\geopandas\\geodataframe.py:852: UserWarning: Geometry column does not contain geometry.\n",
      "  warnings.warn(\"Geometry column does not contain geometry.\")\n"
     ]
    },
    {
     "name": "stdout",
     "output_type": "stream",
     "text": [
      "creer_graph : donnees mise en forme, connexion ouverte ; 2020-12-10 12:11:58.657236\n",
      "creer_graph : donnees transferees dans la base postgis ; 2020-12-10 12:11:58.831182\n",
      "creer_graph : geometrie modifiee ; 2020-12-10 12:11:58.879944\n",
      "creer_graph : topologie cree ; 2020-12-10 12:11:59.415059\n",
      "creer_graph : graph cree ; 2020-12-10 12:11:59.666657\n",
      "0 2020-12-10 12:12:01.370615 nb lignes traitees : 0\n",
      "0 2020-12-10 12:12:01.648918 nb lignes traitees : 0\n",
      "17-D101-3+690\n"
     ]
    },
    {
     "name": "stderr",
     "output_type": "stream",
     "text": [
      "c:\\users\\martin.schoreisz\\appdata\\local\\programs\\python\\python38\\lib\\site-packages\\geopandas\\geodataframe.py:852: UserWarning: Geometry column does not contain geometry.\n",
      "  warnings.warn(\"Geometry column does not contain geometry.\")\n"
     ]
    },
    {
     "name": "stdout",
     "output_type": "stream",
     "text": [
      "creer_graph : donnees mise en forme, connexion ouverte ; 2020-12-10 12:12:02.578618\n",
      "creer_graph : donnees transferees dans la base postgis ; 2020-12-10 12:12:02.662217\n",
      "creer_graph : geometrie modifiee ; 2020-12-10 12:12:02.706602\n",
      "creer_graph : topologie cree ; 2020-12-10 12:12:03.040564\n",
      "creer_graph : graph cree ; 2020-12-10 12:12:03.175208\n",
      "0 2020-12-10 12:12:04.369488 nb lignes traitees : 0\n",
      "17-D107-12+650\n"
     ]
    },
    {
     "name": "stderr",
     "output_type": "stream",
     "text": [
      "c:\\users\\martin.schoreisz\\appdata\\local\\programs\\python\\python38\\lib\\site-packages\\geopandas\\geodataframe.py:852: UserWarning: Geometry column does not contain geometry.\n",
      "  warnings.warn(\"Geometry column does not contain geometry.\")\n"
     ]
    },
    {
     "name": "stdout",
     "output_type": "stream",
     "text": [
      "creer_graph : donnees mise en forme, connexion ouverte ; 2020-12-10 12:12:05.944716\n",
      "creer_graph : donnees transferees dans la base postgis ; 2020-12-10 12:12:06.104011\n",
      "creer_graph : geometrie modifiee ; 2020-12-10 12:12:06.146120\n",
      "creer_graph : topologie cree ; 2020-12-10 12:12:07.439336\n",
      "creer_graph : graph cree ; 2020-12-10 12:12:07.725064\n",
      "0 2020-12-10 12:12:09.308065 nb lignes traitees : 0\n",
      "0 2020-12-10 12:12:09.612260 nb lignes traitees : 0\n",
      "17-D109-31+440\n"
     ]
    },
    {
     "name": "stderr",
     "output_type": "stream",
     "text": [
      "c:\\users\\martin.schoreisz\\appdata\\local\\programs\\python\\python38\\lib\\site-packages\\geopandas\\geodataframe.py:852: UserWarning: Geometry column does not contain geometry.\n",
      "  warnings.warn(\"Geometry column does not contain geometry.\")\n"
     ]
    },
    {
     "name": "stdout",
     "output_type": "stream",
     "text": [
      "creer_graph : donnees mise en forme, connexion ouverte ; 2020-12-10 12:12:10.558847\n",
      "creer_graph : donnees transferees dans la base postgis ; 2020-12-10 12:12:10.776822\n",
      "creer_graph : geometrie modifiee ; 2020-12-10 12:12:10.843020\n",
      "creer_graph : topologie cree ; 2020-12-10 12:12:11.531719\n",
      "creer_graph : graph cree ; 2020-12-10 12:12:11.772100\n",
      "0 2020-12-10 12:12:13.223356 nb lignes traitees : 0\n",
      "0 2020-12-10 12:12:13.699101 nb lignes traitees : 0\n",
      "17-D202-11+450\n"
     ]
    },
    {
     "name": "stderr",
     "output_type": "stream",
     "text": [
      "c:\\users\\martin.schoreisz\\appdata\\local\\programs\\python\\python38\\lib\\site-packages\\geopandas\\geodataframe.py:852: UserWarning: Geometry column does not contain geometry.\n",
      "  warnings.warn(\"Geometry column does not contain geometry.\")\n"
     ]
    },
    {
     "name": "stdout",
     "output_type": "stream",
     "text": [
      "creer_graph : donnees mise en forme, connexion ouverte ; 2020-12-10 12:12:14.829264\n",
      "creer_graph : donnees transferees dans la base postgis ; 2020-12-10 12:12:14.966627\n",
      "creer_graph : geometrie modifiee ; 2020-12-10 12:12:15.028835\n",
      "creer_graph : topologie cree ; 2020-12-10 12:12:15.315720\n",
      "creer_graph : graph cree ; 2020-12-10 12:12:15.648670\n",
      "0 2020-12-10 12:12:17.251628 nb lignes traitees : 0\n",
      "0 2020-12-10 12:12:17.877089 nb lignes traitees : 0\n",
      "0 2020-12-10 12:12:18.069518 nb lignes traitees : 0\n",
      "17-D210-4+659\n"
     ]
    },
    {
     "name": "stderr",
     "output_type": "stream",
     "text": [
      "c:\\users\\martin.schoreisz\\appdata\\local\\programs\\python\\python38\\lib\\site-packages\\geopandas\\geodataframe.py:852: UserWarning: Geometry column does not contain geometry.\n",
      "  warnings.warn(\"Geometry column does not contain geometry.\")\n"
     ]
    },
    {
     "name": "stdout",
     "output_type": "stream",
     "text": [
      "creer_graph : donnees mise en forme, connexion ouverte ; 2020-12-10 12:12:18.913751\n",
      "creer_graph : donnees transferees dans la base postgis ; 2020-12-10 12:12:19.018340\n",
      "creer_graph : geometrie modifiee ; 2020-12-10 12:12:19.057643\n",
      "creer_graph : topologie cree ; 2020-12-10 12:12:19.319750\n",
      "creer_graph : graph cree ; 2020-12-10 12:12:19.607011\n",
      "0 2020-12-10 12:12:20.995731 nb lignes traitees : 0\n",
      "17-D205E2-3+210\n"
     ]
    },
    {
     "name": "stderr",
     "output_type": "stream",
     "text": [
      "c:\\users\\martin.schoreisz\\appdata\\local\\programs\\python\\python38\\lib\\site-packages\\geopandas\\geodataframe.py:852: UserWarning: Geometry column does not contain geometry.\n",
      "  warnings.warn(\"Geometry column does not contain geometry.\")\n"
     ]
    },
    {
     "name": "stdout",
     "output_type": "stream",
     "text": [
      "creer_graph : donnees mise en forme, connexion ouverte ; 2020-12-10 12:12:21.690834\n",
      "creer_graph : donnees transferees dans la base postgis ; 2020-12-10 12:12:21.760242\n",
      "creer_graph : geometrie modifiee ; 2020-12-10 12:12:21.800134\n",
      "creer_graph : topologie cree ; 2020-12-10 12:12:22.043539\n",
      "creer_graph : graph cree ; 2020-12-10 12:12:22.265927\n",
      "0 2020-12-10 12:12:23.484409 nb lignes traitees : 0\n",
      "17-D111-22+470\n"
     ]
    },
    {
     "name": "stderr",
     "output_type": "stream",
     "text": [
      "c:\\users\\martin.schoreisz\\appdata\\local\\programs\\python\\python38\\lib\\site-packages\\geopandas\\geodataframe.py:852: UserWarning: Geometry column does not contain geometry.\n",
      "  warnings.warn(\"Geometry column does not contain geometry.\")\n"
     ]
    },
    {
     "name": "stdout",
     "output_type": "stream",
     "text": [
      "creer_graph : donnees mise en forme, connexion ouverte ; 2020-12-10 12:12:24.468551\n",
      "creer_graph : donnees transferees dans la base postgis ; 2020-12-10 12:12:24.643941\n",
      "creer_graph : geometrie modifiee ; 2020-12-10 12:12:24.691886\n",
      "creer_graph : topologie cree ; 2020-12-10 12:12:25.364711\n",
      "creer_graph : graph cree ; 2020-12-10 12:12:25.595567\n",
      "0 2020-12-10 12:12:27.187126 nb lignes traitees : 0\n",
      "0 2020-12-10 12:12:27.231010 nb lignes traitees : 0\n",
      "17-D122-2+480\n"
     ]
    },
    {
     "name": "stderr",
     "output_type": "stream",
     "text": [
      "c:\\users\\martin.schoreisz\\appdata\\local\\programs\\python\\python38\\lib\\site-packages\\geopandas\\geodataframe.py:852: UserWarning: Geometry column does not contain geometry.\n",
      "  warnings.warn(\"Geometry column does not contain geometry.\")\n"
     ]
    },
    {
     "name": "stdout",
     "output_type": "stream",
     "text": [
      "creer_graph : donnees mise en forme, connexion ouverte ; 2020-12-10 12:12:28.396330\n",
      "creer_graph : donnees transferees dans la base postgis ; 2020-12-10 12:12:28.591236\n",
      "creer_graph : geometrie modifiee ; 2020-12-10 12:12:28.640810\n",
      "creer_graph : topologie cree ; 2020-12-10 12:12:29.314094\n",
      "creer_graph : graph cree ; 2020-12-10 12:12:29.469688\n",
      "0 2020-12-10 12:12:31.149103 nb lignes traitees : 0\n",
      "0 2020-12-10 12:12:31.279703 nb lignes traitees : 0\n",
      "0 2020-12-10 12:12:31.409406 nb lignes traitees : 0\n",
      "0 2020-12-10 12:12:31.555024 nb lignes traitees : 0\n",
      "0 2020-12-10 12:12:31.729961 nb lignes traitees : 0\n",
      "0 2020-12-10 12:12:31.931416 nb lignes traitees : 0\n",
      "17-D119-21+60\n",
      "17-D118-43+530\n"
     ]
    },
    {
     "name": "stderr",
     "output_type": "stream",
     "text": [
      "c:\\users\\martin.schoreisz\\appdata\\local\\programs\\python\\python38\\lib\\site-packages\\geopandas\\geodataframe.py:852: UserWarning: Geometry column does not contain geometry.\n",
      "  warnings.warn(\"Geometry column does not contain geometry.\")\n"
     ]
    },
    {
     "name": "stdout",
     "output_type": "stream",
     "text": [
      "creer_graph : donnees mise en forme, connexion ouverte ; 2020-12-10 12:12:32.948115\n",
      "creer_graph : donnees transferees dans la base postgis ; 2020-12-10 12:12:33.171939\n",
      "creer_graph : geometrie modifiee ; 2020-12-10 12:12:33.242359\n",
      "creer_graph : topologie cree ; 2020-12-10 12:12:34.174757\n",
      "creer_graph : graph cree ; 2020-12-10 12:12:34.320293\n",
      "0 2020-12-10 12:12:36.082459 nb lignes traitees : 0\n",
      "0 2020-12-10 12:12:36.178200 nb lignes traitees : 0\n",
      "0 2020-12-10 12:12:36.340717 nb lignes traitees : 0\n",
      "0 2020-12-10 12:12:36.424494 nb lignes traitees : 0\n",
      "0 2020-12-10 12:12:36.465429 nb lignes traitees : 0\n",
      "0 2020-12-10 12:12:36.684077 nb lignes traitees : 0\n",
      "0 2020-12-10 12:12:36.902445 nb lignes traitees : 0\n",
      "17-D118-50+300\n",
      "17-D125-42+800\n"
     ]
    },
    {
     "name": "stderr",
     "output_type": "stream",
     "text": [
      "c:\\users\\martin.schoreisz\\appdata\\local\\programs\\python\\python38\\lib\\site-packages\\geopandas\\geodataframe.py:852: UserWarning: Geometry column does not contain geometry.\n",
      "  warnings.warn(\"Geometry column does not contain geometry.\")\n"
     ]
    },
    {
     "name": "stdout",
     "output_type": "stream",
     "text": [
      "creer_graph : donnees mise en forme, connexion ouverte ; 2020-12-10 12:12:37.968229\n",
      "creer_graph : donnees transferees dans la base postgis ; 2020-12-10 12:12:38.330751\n",
      "creer_graph : geometrie modifiee ; 2020-12-10 12:12:38.374636\n",
      "creer_graph : topologie cree ; 2020-12-10 12:12:39.828217\n",
      "creer_graph : graph cree ; 2020-12-10 12:12:40.112304\n",
      "0 2020-12-10 12:12:42.014343 nb lignes traitees : 0\n",
      "0 2020-12-10 12:12:42.234776 nb lignes traitees : 0\n",
      "0 2020-12-10 12:12:42.399284 nb lignes traitees : 0\n",
      "0 2020-12-10 12:12:42.485151 nb lignes traitees : 0\n",
      "0 2020-12-10 12:12:42.614799 nb lignes traitees : 0\n",
      "0 2020-12-10 12:12:42.766449 nb lignes traitees : 0\n",
      "0 2020-12-10 12:12:42.990828 nb lignes traitees : 0\n",
      "0 2020-12-10 12:12:43.100567 nb lignes traitees : 0\n",
      "0 2020-12-10 12:12:43.354612 nb lignes traitees : 0\n",
      "0 2020-12-10 12:12:43.455342 nb lignes traitees : 0\n",
      "0 2020-12-10 12:12:43.473295 nb lignes traitees : 0\n",
      "0 2020-12-10 12:12:43.689760 nb lignes traitees : 0\n",
      "17-D125-44+880\n",
      "17-D117-61+850\n"
     ]
    },
    {
     "name": "stderr",
     "output_type": "stream",
     "text": [
      "c:\\users\\martin.schoreisz\\appdata\\local\\programs\\python\\python38\\lib\\site-packages\\geopandas\\geodataframe.py:852: UserWarning: Geometry column does not contain geometry.\n",
      "  warnings.warn(\"Geometry column does not contain geometry.\")\n"
     ]
    },
    {
     "name": "stdout",
     "output_type": "stream",
     "text": [
      "creer_graph : donnees mise en forme, connexion ouverte ; 2020-12-10 12:12:44.664903\n",
      "creer_graph : donnees transferees dans la base postgis ; 2020-12-10 12:12:44.802349\n",
      "creer_graph : geometrie modifiee ; 2020-12-10 12:12:44.867870\n",
      "creer_graph : topologie cree ; 2020-12-10 12:12:45.410066\n",
      "creer_graph : graph cree ; 2020-12-10 12:12:45.620852\n",
      "0 2020-12-10 12:12:47.363457 nb lignes traitees : 0\n",
      "0 2020-12-10 12:12:47.456362 nb lignes traitees : 0\n",
      "17-D143E1-0+250\n"
     ]
    },
    {
     "name": "stderr",
     "output_type": "stream",
     "text": [
      "c:\\users\\martin.schoreisz\\appdata\\local\\programs\\python\\python38\\lib\\site-packages\\geopandas\\geodataframe.py:852: UserWarning: Geometry column does not contain geometry.\n",
      "  warnings.warn(\"Geometry column does not contain geometry.\")\n"
     ]
    },
    {
     "name": "stdout",
     "output_type": "stream",
     "text": [
      "creer_graph : donnees mise en forme, connexion ouverte ; 2020-12-10 12:12:48.392046\n",
      "creer_graph : donnees transferees dans la base postgis ; 2020-12-10 12:12:48.447790\n",
      "creer_graph : geometrie modifiee ; 2020-12-10 12:12:48.481942\n",
      "creer_graph : topologie cree ; 2020-12-10 12:12:48.644042\n",
      "creer_graph : graph cree ; 2020-12-10 12:12:48.952802\n",
      "0 2020-12-10 12:12:50.231065 nb lignes traitees : 0\n",
      "17-D52-3+310\n"
     ]
    },
    {
     "name": "stderr",
     "output_type": "stream",
     "text": [
      "c:\\users\\martin.schoreisz\\appdata\\local\\programs\\python\\python38\\lib\\site-packages\\geopandas\\geodataframe.py:852: UserWarning: Geometry column does not contain geometry.\n",
      "  warnings.warn(\"Geometry column does not contain geometry.\")\n"
     ]
    },
    {
     "name": "stdout",
     "output_type": "stream",
     "text": [
      "creer_graph : donnees mise en forme, connexion ouverte ; 2020-12-10 12:12:50.981508\n",
      "creer_graph : donnees transferees dans la base postgis ; 2020-12-10 12:12:51.033656\n",
      "creer_graph : geometrie modifiee ; 2020-12-10 12:12:51.079866\n",
      "creer_graph : topologie cree ; 2020-12-10 12:12:51.344422\n",
      "creer_graph : graph cree ; 2020-12-10 12:12:51.515968\n",
      "0 2020-12-10 12:12:52.945941 nb lignes traitees : 0\n",
      "17-D208-7+400\n"
     ]
    },
    {
     "name": "stderr",
     "output_type": "stream",
     "text": [
      "c:\\users\\martin.schoreisz\\appdata\\local\\programs\\python\\python38\\lib\\site-packages\\geopandas\\geodataframe.py:852: UserWarning: Geometry column does not contain geometry.\n",
      "  warnings.warn(\"Geometry column does not contain geometry.\")\n"
     ]
    },
    {
     "name": "stdout",
     "output_type": "stream",
     "text": [
      "creer_graph : donnees mise en forme, connexion ouverte ; 2020-12-10 12:12:53.813611\n",
      "creer_graph : donnees transferees dans la base postgis ; 2020-12-10 12:12:53.949408\n",
      "creer_graph : geometrie modifiee ; 2020-12-10 12:12:54.011833\n",
      "creer_graph : topologie cree ; 2020-12-10 12:12:54.513029\n",
      "creer_graph : graph cree ; 2020-12-10 12:12:54.649427\n",
      "0 2020-12-10 12:12:56.003342 nb lignes traitees : 0\n",
      "17-D273E1-0+680\n"
     ]
    },
    {
     "name": "stderr",
     "output_type": "stream",
     "text": [
      "c:\\users\\martin.schoreisz\\appdata\\local\\programs\\python\\python38\\lib\\site-packages\\geopandas\\geodataframe.py:852: UserWarning: Geometry column does not contain geometry.\n",
      "  warnings.warn(\"Geometry column does not contain geometry.\")\n"
     ]
    },
    {
     "name": "stdout",
     "output_type": "stream",
     "text": [
      "creer_graph : donnees mise en forme, connexion ouverte ; 2020-12-10 12:12:57.073049\n",
      "creer_graph : donnees transferees dans la base postgis ; 2020-12-10 12:12:57.152607\n",
      "creer_graph : geometrie modifiee ; 2020-12-10 12:12:57.221942\n",
      "creer_graph : topologie cree ; 2020-12-10 12:12:57.502873\n",
      "creer_graph : graph cree ; 2020-12-10 12:12:57.663440\n",
      "0 2020-12-10 12:12:59.229784 nb lignes traitees : 0\n",
      "17-D213E4-3+490\n"
     ]
    },
    {
     "name": "stderr",
     "output_type": "stream",
     "text": [
      "c:\\users\\martin.schoreisz\\appdata\\local\\programs\\python\\python38\\lib\\site-packages\\geopandas\\geodataframe.py:852: UserWarning: Geometry column does not contain geometry.\n",
      "  warnings.warn(\"Geometry column does not contain geometry.\")\n"
     ]
    },
    {
     "name": "stdout",
     "output_type": "stream",
     "text": [
      "creer_graph : donnees mise en forme, connexion ouverte ; 2020-12-10 12:13:00.348042\n",
      "creer_graph : donnees transferees dans la base postgis ; 2020-12-10 12:13:00.434772\n",
      "creer_graph : geometrie modifiee ; 2020-12-10 12:13:00.495484\n",
      "creer_graph : topologie cree ; 2020-12-10 12:13:00.672265\n",
      "creer_graph : graph cree ; 2020-12-10 12:13:00.897543\n",
      "0 2020-12-10 12:13:02.168544 nb lignes traitees : 0\n",
      "0 2020-12-10 12:13:02.320508 nb lignes traitees : 0\n",
      "17-D129E2-2+635\n"
     ]
    },
    {
     "name": "stderr",
     "output_type": "stream",
     "text": [
      "c:\\users\\martin.schoreisz\\appdata\\local\\programs\\python\\python38\\lib\\site-packages\\geopandas\\geodataframe.py:852: UserWarning: Geometry column does not contain geometry.\n",
      "  warnings.warn(\"Geometry column does not contain geometry.\")\n"
     ]
    },
    {
     "name": "stdout",
     "output_type": "stream",
     "text": [
      "creer_graph : donnees mise en forme, connexion ouverte ; 2020-12-10 12:13:03.108071\n",
      "creer_graph : donnees transferees dans la base postgis ; 2020-12-10 12:13:03.212008\n",
      "creer_graph : geometrie modifiee ; 2020-12-10 12:13:03.281525\n",
      "creer_graph : topologie cree ; 2020-12-10 12:13:03.646499\n",
      "creer_graph : graph cree ; 2020-12-10 12:13:03.770198\n",
      "0 2020-12-10 12:13:05.072949 nb lignes traitees : 0\n",
      "0 2020-12-10 12:13:05.367153 nb lignes traitees : 0\n",
      "0 2020-12-10 12:13:05.600502 nb lignes traitees : 0\n",
      "0 2020-12-10 12:13:05.706248 nb lignes traitees : 0\n",
      "17-D142-8+250\n",
      "17-D125-68+370\n",
      "17-D216-35+0\n"
     ]
    },
    {
     "name": "stderr",
     "output_type": "stream",
     "text": [
      "c:\\users\\martin.schoreisz\\appdata\\local\\programs\\python\\python38\\lib\\site-packages\\geopandas\\geodataframe.py:852: UserWarning: Geometry column does not contain geometry.\n",
      "  warnings.warn(\"Geometry column does not contain geometry.\")\n"
     ]
    },
    {
     "name": "stdout",
     "output_type": "stream",
     "text": [
      "creer_graph : donnees mise en forme, connexion ouverte ; 2020-12-10 12:13:06.754945\n",
      "creer_graph : donnees transferees dans la base postgis ; 2020-12-10 12:13:06.840083\n",
      "creer_graph : geometrie modifiee ; 2020-12-10 12:13:06.885345\n",
      "creer_graph : topologie cree ; 2020-12-10 12:13:07.610205\n",
      "creer_graph : graph cree ; 2020-12-10 12:13:07.710772\n",
      "0 2020-12-10 12:13:09.045308 nb lignes traitees : 0\n",
      "0 2020-12-10 12:13:09.251760 nb lignes traitees : 0\n",
      "17-D111-0+960\n",
      "17-D107-51+300\n",
      "17-D222-6+400\n"
     ]
    },
    {
     "name": "stderr",
     "output_type": "stream",
     "text": [
      "c:\\users\\martin.schoreisz\\appdata\\local\\programs\\python\\python38\\lib\\site-packages\\geopandas\\geodataframe.py:852: UserWarning: Geometry column does not contain geometry.\n",
      "  warnings.warn(\"Geometry column does not contain geometry.\")\n"
     ]
    },
    {
     "name": "stdout",
     "output_type": "stream",
     "text": [
      "creer_graph : donnees mise en forme, connexion ouverte ; 2020-12-10 12:13:10.266313\n",
      "creer_graph : donnees transferees dans la base postgis ; 2020-12-10 12:13:10.439533\n",
      "creer_graph : geometrie modifiee ; 2020-12-10 12:13:10.490395\n",
      "creer_graph : topologie cree ; 2020-12-10 12:13:10.931404\n",
      "creer_graph : graph cree ; 2020-12-10 12:13:11.227896\n",
      "0 2020-12-10 12:13:12.771217 nb lignes traitees : 0\n",
      "0 2020-12-10 12:13:12.815102 nb lignes traitees : 0\n",
      "17-D911-32+410\n"
     ]
    },
    {
     "name": "stderr",
     "output_type": "stream",
     "text": [
      "c:\\users\\martin.schoreisz\\appdata\\local\\programs\\python\\python38\\lib\\site-packages\\geopandas\\geodataframe.py:852: UserWarning: Geometry column does not contain geometry.\n",
      "  warnings.warn(\"Geometry column does not contain geometry.\")\n"
     ]
    },
    {
     "name": "stdout",
     "output_type": "stream",
     "text": [
      "creer_graph : donnees mise en forme, connexion ouverte ; 2020-12-10 12:13:13.783664\n",
      "creer_graph : donnees transferees dans la base postgis ; 2020-12-10 12:13:13.841699\n",
      "creer_graph : geometrie modifiee ; 2020-12-10 12:13:13.879487\n",
      "creer_graph : topologie cree ; 2020-12-10 12:13:14.408113\n",
      "creer_graph : graph cree ; 2020-12-10 12:13:14.643518\n",
      "0 2020-12-10 12:13:16.093959 nb lignes traitees : 0\n",
      "17-D118-35+500\n",
      "17-D124-24+730\n"
     ]
    },
    {
     "name": "stderr",
     "output_type": "stream",
     "text": [
      "c:\\users\\martin.schoreisz\\appdata\\local\\programs\\python\\python38\\lib\\site-packages\\geopandas\\geodataframe.py:852: UserWarning: Geometry column does not contain geometry.\n",
      "  warnings.warn(\"Geometry column does not contain geometry.\")\n"
     ]
    },
    {
     "name": "stdout",
     "output_type": "stream",
     "text": [
      "creer_graph : donnees mise en forme, connexion ouverte ; 2020-12-10 12:13:17.452723\n",
      "creer_graph : donnees transferees dans la base postgis ; 2020-12-10 12:13:17.626948\n",
      "creer_graph : geometrie modifiee ; 2020-12-10 12:13:17.711727\n",
      "creer_graph : topologie cree ; 2020-12-10 12:13:18.339692\n",
      "creer_graph : graph cree ; 2020-12-10 12:13:18.548980\n",
      "0 2020-12-10 12:13:20.707240 nb lignes traitees : 0\n",
      "17-D241-3+600\n"
     ]
    },
    {
     "name": "stderr",
     "output_type": "stream",
     "text": [
      "c:\\users\\martin.schoreisz\\appdata\\local\\programs\\python\\python38\\lib\\site-packages\\geopandas\\geodataframe.py:852: UserWarning: Geometry column does not contain geometry.\n",
      "  warnings.warn(\"Geometry column does not contain geometry.\")\n"
     ]
    },
    {
     "name": "stdout",
     "output_type": "stream",
     "text": [
      "creer_graph : donnees mise en forme, connexion ouverte ; 2020-12-10 12:13:21.650617\n",
      "creer_graph : donnees transferees dans la base postgis ; 2020-12-10 12:13:21.800565\n",
      "creer_graph : geometrie modifiee ; 2020-12-10 12:13:21.860156\n",
      "creer_graph : topologie cree ; 2020-12-10 12:13:22.344129\n",
      "creer_graph : graph cree ; 2020-12-10 12:13:22.615208\n",
      "0 2020-12-10 12:13:24.131685 nb lignes traitees : 0\n",
      "0 2020-12-10 12:13:24.575560 nb lignes traitees : 0\n",
      "17-D128-34+600\n"
     ]
    },
    {
     "name": "stderr",
     "output_type": "stream",
     "text": [
      "c:\\users\\martin.schoreisz\\appdata\\local\\programs\\python\\python38\\lib\\site-packages\\geopandas\\geodataframe.py:852: UserWarning: Geometry column does not contain geometry.\n",
      "  warnings.warn(\"Geometry column does not contain geometry.\")\n"
     ]
    },
    {
     "name": "stdout",
     "output_type": "stream",
     "text": [
      "creer_graph : donnees mise en forme, connexion ouverte ; 2020-12-10 12:13:25.608406\n",
      "creer_graph : donnees transferees dans la base postgis ; 2020-12-10 12:13:25.908070\n",
      "creer_graph : geometrie modifiee ; 2020-12-10 12:13:25.959934\n",
      "creer_graph : topologie cree ; 2020-12-10 12:13:27.262857\n",
      "creer_graph : graph cree ; 2020-12-10 12:13:27.502258\n",
      "0 2020-12-10 12:13:29.062944 nb lignes traitees : 0\n",
      "0 2020-12-10 12:13:29.338268 nb lignes traitees : 0\n",
      "0 2020-12-10 12:13:29.592590 nb lignes traitees : 0\n",
      "0 2020-12-10 12:13:29.833956 nb lignes traitees : 0\n",
      "0 2020-12-10 12:13:30.032713 nb lignes traitees : 0\n",
      "17-D243-17+30\n"
     ]
    },
    {
     "name": "stderr",
     "output_type": "stream",
     "text": [
      "c:\\users\\martin.schoreisz\\appdata\\local\\programs\\python\\python38\\lib\\site-packages\\geopandas\\geodataframe.py:852: UserWarning: Geometry column does not contain geometry.\n",
      "  warnings.warn(\"Geometry column does not contain geometry.\")\n"
     ]
    },
    {
     "name": "stdout",
     "output_type": "stream",
     "text": [
      "creer_graph : donnees mise en forme, connexion ouverte ; 2020-12-10 12:13:31.021538\n",
      "creer_graph : donnees transferees dans la base postgis ; 2020-12-10 12:13:31.072532\n",
      "creer_graph : geometrie modifiee ; 2020-12-10 12:13:31.107311\n",
      "creer_graph : topologie cree ; 2020-12-10 12:13:31.579876\n",
      "creer_graph : graph cree ; 2020-12-10 12:13:31.799774\n",
      "0 2020-12-10 12:13:33.065628 nb lignes traitees : 0\n",
      "0 2020-12-10 12:13:33.139432 nb lignes traitees : 0\n",
      "17-D117-62+290\n",
      "17-D50-5+486\n"
     ]
    },
    {
     "name": "stderr",
     "output_type": "stream",
     "text": [
      "c:\\users\\martin.schoreisz\\appdata\\local\\programs\\python\\python38\\lib\\site-packages\\geopandas\\geodataframe.py:852: UserWarning: Geometry column does not contain geometry.\n",
      "  warnings.warn(\"Geometry column does not contain geometry.\")\n"
     ]
    },
    {
     "name": "stdout",
     "output_type": "stream",
     "text": [
      "creer_graph : donnees mise en forme, connexion ouverte ; 2020-12-10 12:13:34.064920\n",
      "creer_graph : donnees transferees dans la base postgis ; 2020-12-10 12:13:34.131433\n",
      "creer_graph : geometrie modifiee ; 2020-12-10 12:13:34.168670\n",
      "creer_graph : topologie cree ; 2020-12-10 12:13:35.001297\n",
      "creer_graph : graph cree ; 2020-12-10 12:13:35.108440\n",
      "0 2020-12-10 12:13:36.313738 nb lignes traitees : 0\n",
      "17-D142-84+200\n",
      "17-D142-84+450\n",
      "17-D25-37+400\n"
     ]
    },
    {
     "name": "stderr",
     "output_type": "stream",
     "text": [
      "c:\\users\\martin.schoreisz\\appdata\\local\\programs\\python\\python38\\lib\\site-packages\\geopandas\\geodataframe.py:852: UserWarning: Geometry column does not contain geometry.\n",
      "  warnings.warn(\"Geometry column does not contain geometry.\")\n"
     ]
    },
    {
     "name": "stdout",
     "output_type": "stream",
     "text": [
      "creer_graph : donnees mise en forme, connexion ouverte ; 2020-12-10 12:13:37.370424\n",
      "creer_graph : donnees transferees dans la base postgis ; 2020-12-10 12:13:37.567946\n",
      "creer_graph : geometrie modifiee ; 2020-12-10 12:13:37.637874\n",
      "creer_graph : topologie cree ; 2020-12-10 12:13:38.216450\n",
      "creer_graph : graph cree ; 2020-12-10 12:13:38.371112\n",
      "0 2020-12-10 12:13:40.235985 nb lignes traitees : 0\n",
      "0 2020-12-10 12:13:40.336717 nb lignes traitees : 0\n",
      "0 2020-12-10 12:13:41.238328 nb lignes traitees : 0\n",
      "0 2020-12-10 12:13:41.336438 nb lignes traitees : 0\n",
      "0 2020-12-10 12:13:41.420321 nb lignes traitees : 0\n",
      "17-D5-1+140\n"
     ]
    },
    {
     "name": "stderr",
     "output_type": "stream",
     "text": [
      "c:\\users\\martin.schoreisz\\appdata\\local\\programs\\python\\python38\\lib\\site-packages\\geopandas\\geodataframe.py:852: UserWarning: Geometry column does not contain geometry.\n",
      "  warnings.warn(\"Geometry column does not contain geometry.\")\n"
     ]
    },
    {
     "name": "stdout",
     "output_type": "stream",
     "text": [
      "creer_graph : donnees mise en forme, connexion ouverte ; 2020-12-10 12:13:42.324120\n",
      "creer_graph : donnees transferees dans la base postgis ; 2020-12-10 12:13:42.363194\n",
      "creer_graph : geometrie modifiee ; 2020-12-10 12:13:42.397906\n",
      "creer_graph : topologie cree ; 2020-12-10 12:13:42.656768\n",
      "creer_graph : graph cree ; 2020-12-10 12:13:42.956210\n",
      "0 2020-12-10 12:13:44.382147 nb lignes traitees : 0\n",
      "0 2020-12-10 12:13:44.952777 nb lignes traitees : 0\n",
      "17-D25-33+70\n",
      "17-D202-6+440\n",
      "17-D137C0-2+200\n"
     ]
    },
    {
     "name": "stderr",
     "output_type": "stream",
     "text": [
      "c:\\users\\martin.schoreisz\\appdata\\local\\programs\\python\\python38\\lib\\site-packages\\geopandas\\geodataframe.py:852: UserWarning: Geometry column does not contain geometry.\n",
      "  warnings.warn(\"Geometry column does not contain geometry.\")\n"
     ]
    },
    {
     "name": "stdout",
     "output_type": "stream",
     "text": [
      "creer_graph : donnees mise en forme, connexion ouverte ; 2020-12-10 12:13:46.038712\n",
      "creer_graph : donnees transferees dans la base postgis ; 2020-12-10 12:13:46.105003\n",
      "creer_graph : geometrie modifiee ; 2020-12-10 12:13:46.163290\n",
      "creer_graph : topologie cree ; 2020-12-10 12:13:46.314930\n",
      "creer_graph : graph cree ; 2020-12-10 12:13:46.455473\n",
      "0 2020-12-10 12:13:47.722789 nb lignes traitees : 0\n",
      "17-D122-3+440\n",
      "17-D120-19+660\n"
     ]
    },
    {
     "name": "stderr",
     "output_type": "stream",
     "text": [
      "c:\\users\\martin.schoreisz\\appdata\\local\\programs\\python\\python38\\lib\\site-packages\\geopandas\\geodataframe.py:852: UserWarning: Geometry column does not contain geometry.\n",
      "  warnings.warn(\"Geometry column does not contain geometry.\")\n"
     ]
    },
    {
     "name": "stdout",
     "output_type": "stream",
     "text": [
      "creer_graph : donnees mise en forme, connexion ouverte ; 2020-12-10 12:13:48.884573\n",
      "creer_graph : donnees transferees dans la base postgis ; 2020-12-10 12:13:49.036347\n",
      "creer_graph : geometrie modifiee ; 2020-12-10 12:13:49.099421\n",
      "creer_graph : topologie cree ; 2020-12-10 12:13:49.616202\n",
      "creer_graph : graph cree ; 2020-12-10 12:13:49.874522\n",
      "0 2020-12-10 12:13:51.295391 nb lignes traitees : 0\n",
      "0 2020-12-10 12:13:51.401110 nb lignes traitees : 0\n",
      "0 2020-12-10 12:13:51.518820 nb lignes traitees : 0\n",
      "0 2020-12-10 12:13:51.690348 nb lignes traitees : 0\n",
      "0 2020-12-10 12:13:51.974596 nb lignes traitees : 0\n",
      "0 2020-12-10 12:13:52.216321 nb lignes traitees : 0\n",
      "0 2020-12-10 12:13:52.329003 nb lignes traitees : 0\n",
      "17-D213E4-3+250\n",
      "17-D267-0+150\n"
     ]
    },
    {
     "name": "stderr",
     "output_type": "stream",
     "text": [
      "c:\\users\\martin.schoreisz\\appdata\\local\\programs\\python\\python38\\lib\\site-packages\\geopandas\\geodataframe.py:852: UserWarning: Geometry column does not contain geometry.\n",
      "  warnings.warn(\"Geometry column does not contain geometry.\")\n"
     ]
    },
    {
     "name": "stdout",
     "output_type": "stream",
     "text": [
      "creer_graph : donnees mise en forme, connexion ouverte ; 2020-12-10 12:13:53.151038\n",
      "creer_graph : donnees transferees dans la base postgis ; 2020-12-10 12:13:53.232575\n",
      "creer_graph : geometrie modifiee ; 2020-12-10 12:13:53.301396\n",
      "creer_graph : topologie cree ; 2020-12-10 12:13:53.438046\n",
      "creer_graph : graph cree ; 2020-12-10 12:13:53.696982\n",
      "0 2020-12-10 12:13:54.962270 nb lignes traitees : 0\n",
      "0 2020-12-10 12:13:55.229612 nb lignes traitees : 0\n",
      "17-D120-30+170\n",
      "17-D234-5+920\n"
     ]
    },
    {
     "name": "stderr",
     "output_type": "stream",
     "text": [
      "c:\\users\\martin.schoreisz\\appdata\\local\\programs\\python\\python38\\lib\\site-packages\\geopandas\\geodataframe.py:852: UserWarning: Geometry column does not contain geometry.\n",
      "  warnings.warn(\"Geometry column does not contain geometry.\")\n"
     ]
    },
    {
     "name": "stdout",
     "output_type": "stream",
     "text": [
      "creer_graph : donnees mise en forme, connexion ouverte ; 2020-12-10 12:13:56.161927\n",
      "creer_graph : donnees transferees dans la base postgis ; 2020-12-10 12:13:56.322462\n",
      "creer_graph : geometrie modifiee ; 2020-12-10 12:13:56.359389\n",
      "creer_graph : topologie cree ; 2020-12-10 12:13:56.875443\n",
      "creer_graph : graph cree ; 2020-12-10 12:13:57.115511\n",
      "0 2020-12-10 12:13:58.401492 nb lignes traitees : 0\n",
      "17-D125-44+360\n",
      "17-D243-14+50\n",
      "17-D129-75+380\n",
      "17-D123E2-0+200\n"
     ]
    },
    {
     "name": "stderr",
     "output_type": "stream",
     "text": [
      "c:\\users\\martin.schoreisz\\appdata\\local\\programs\\python\\python38\\lib\\site-packages\\geopandas\\geodataframe.py:852: UserWarning: Geometry column does not contain geometry.\n",
      "  warnings.warn(\"Geometry column does not contain geometry.\")\n"
     ]
    },
    {
     "name": "stdout",
     "output_type": "stream",
     "text": [
      "creer_graph : donnees mise en forme, connexion ouverte ; 2020-12-10 12:13:59.132631\n",
      "creer_graph : donnees transferees dans la base postgis ; 2020-12-10 12:13:59.189788\n",
      "creer_graph : geometrie modifiee ; 2020-12-10 12:13:59.248324\n",
      "creer_graph : topologie cree ; 2020-12-10 12:13:59.422016\n",
      "creer_graph : graph cree ; 2020-12-10 12:13:59.548727\n",
      "0 2020-12-10 12:14:01.000666 nb lignes traitees : 0\n",
      "17-D215-8+840\n"
     ]
    },
    {
     "name": "stderr",
     "output_type": "stream",
     "text": [
      "c:\\users\\martin.schoreisz\\appdata\\local\\programs\\python\\python38\\lib\\site-packages\\geopandas\\geodataframe.py:852: UserWarning: Geometry column does not contain geometry.\n",
      "  warnings.warn(\"Geometry column does not contain geometry.\")\n"
     ]
    },
    {
     "name": "stdout",
     "output_type": "stream",
     "text": [
      "creer_graph : donnees mise en forme, connexion ouverte ; 2020-12-10 12:14:01.819777\n",
      "creer_graph : donnees transferees dans la base postgis ; 2020-12-10 12:14:01.958225\n",
      "creer_graph : geometrie modifiee ; 2020-12-10 12:14:02.015610\n",
      "creer_graph : topologie cree ; 2020-12-10 12:14:02.517083\n",
      "creer_graph : graph cree ; 2020-12-10 12:14:02.722340\n",
      "0 2020-12-10 12:14:04.123927 nb lignes traitees : 0\n",
      "0 2020-12-10 12:14:04.506663 nb lignes traitees : 0\n",
      "0 2020-12-10 12:14:04.781895 nb lignes traitees : 0\n",
      "17-D118-43+770\n",
      "17-D129E2-1+671\n",
      "17-D120-43+620\n",
      "17-D156-0+520\n"
     ]
    },
    {
     "name": "stderr",
     "output_type": "stream",
     "text": [
      "c:\\users\\martin.schoreisz\\appdata\\local\\programs\\python\\python38\\lib\\site-packages\\geopandas\\geodataframe.py:852: UserWarning: Geometry column does not contain geometry.\n",
      "  warnings.warn(\"Geometry column does not contain geometry.\")\n"
     ]
    },
    {
     "name": "stdout",
     "output_type": "stream",
     "text": [
      "creer_graph : donnees mise en forme, connexion ouverte ; 2020-12-10 12:14:05.974766\n",
      "creer_graph : donnees transferees dans la base postgis ; 2020-12-10 12:14:06.110127\n",
      "creer_graph : geometrie modifiee ; 2020-12-10 12:14:06.160730\n",
      "creer_graph : topologie cree ; 2020-12-10 12:14:06.561452\n",
      "creer_graph : graph cree ; 2020-12-10 12:14:06.780522\n",
      "0 2020-12-10 12:14:08.290349 nb lignes traitees : 0\n",
      "17-D129E2-1+954\n",
      "17-D262E3-3+950\n"
     ]
    },
    {
     "name": "stderr",
     "output_type": "stream",
     "text": [
      "c:\\users\\martin.schoreisz\\appdata\\local\\programs\\python\\python38\\lib\\site-packages\\geopandas\\geodataframe.py:852: UserWarning: Geometry column does not contain geometry.\n",
      "  warnings.warn(\"Geometry column does not contain geometry.\")\n"
     ]
    },
    {
     "name": "stdout",
     "output_type": "stream",
     "text": [
      "creer_graph : donnees mise en forme, connexion ouverte ; 2020-12-10 12:14:09.119326\n",
      "creer_graph : donnees transferees dans la base postgis ; 2020-12-10 12:14:09.215696\n",
      "creer_graph : geometrie modifiee ; 2020-12-10 12:14:09.263830\n",
      "creer_graph : topologie cree ; 2020-12-10 12:14:09.510086\n",
      "creer_graph : graph cree ; 2020-12-10 12:14:09.637416\n",
      "0 2020-12-10 12:14:11.055765 nb lignes traitees : 0\n",
      "17-D204-7+260\n"
     ]
    },
    {
     "name": "stderr",
     "output_type": "stream",
     "text": [
      "c:\\users\\martin.schoreisz\\appdata\\local\\programs\\python\\python38\\lib\\site-packages\\geopandas\\geodataframe.py:852: UserWarning: Geometry column does not contain geometry.\n",
      "  warnings.warn(\"Geometry column does not contain geometry.\")\n"
     ]
    },
    {
     "name": "stdout",
     "output_type": "stream",
     "text": [
      "creer_graph : donnees mise en forme, connexion ouverte ; 2020-12-10 12:14:12.036723\n",
      "creer_graph : donnees transferees dans la base postgis ; 2020-12-10 12:14:12.140714\n",
      "creer_graph : geometrie modifiee ; 2020-12-10 12:14:12.208327\n",
      "creer_graph : topologie cree ; 2020-12-10 12:14:12.528801\n",
      "creer_graph : graph cree ; 2020-12-10 12:14:12.666281\n",
      "0 2020-12-10 12:14:14.257210 nb lignes traitees : 0\n",
      "17-D212E4-15+0\n"
     ]
    },
    {
     "name": "stderr",
     "output_type": "stream",
     "text": [
      "c:\\users\\martin.schoreisz\\appdata\\local\\programs\\python\\python38\\lib\\site-packages\\geopandas\\geodataframe.py:852: UserWarning: Geometry column does not contain geometry.\n",
      "  warnings.warn(\"Geometry column does not contain geometry.\")\n"
     ]
    },
    {
     "name": "stdout",
     "output_type": "stream",
     "text": [
      "creer_graph : donnees mise en forme, connexion ouverte ; 2020-12-10 12:14:15.073499\n",
      "creer_graph : donnees transferees dans la base postgis ; 2020-12-10 12:14:15.158489\n",
      "creer_graph : geometrie modifiee ; 2020-12-10 12:14:15.229917\n",
      "creer_graph : topologie cree ; 2020-12-10 12:14:15.564614\n",
      "creer_graph : graph cree ; 2020-12-10 12:14:15.715178\n",
      "0 2020-12-10 12:14:16.978758 nb lignes traitees : 0\n",
      "17-D267-0+550\n",
      "17-D137-82+50\n",
      "17-D128-24+720\n",
      "17-D6-0+465\n"
     ]
    },
    {
     "name": "stderr",
     "output_type": "stream",
     "text": [
      "c:\\users\\martin.schoreisz\\appdata\\local\\programs\\python\\python38\\lib\\site-packages\\geopandas\\geodataframe.py:852: UserWarning: Geometry column does not contain geometry.\n",
      "  warnings.warn(\"Geometry column does not contain geometry.\")\n"
     ]
    },
    {
     "name": "stdout",
     "output_type": "stream",
     "text": [
      "creer_graph : donnees mise en forme, connexion ouverte ; 2020-12-10 12:14:17.795574\n",
      "creer_graph : donnees transferees dans la base postgis ; 2020-12-10 12:14:17.919970\n",
      "creer_graph : geometrie modifiee ; 2020-12-10 12:14:17.981609\n",
      "creer_graph : topologie cree ; 2020-12-10 12:14:18.457073\n",
      "creer_graph : graph cree ; 2020-12-10 12:14:18.635730\n",
      "0 2020-12-10 12:14:20.192369 nb lignes traitees : 0\n",
      "0 2020-12-10 12:14:20.742373 nb lignes traitees : 0\n",
      "17-D136-0+200\n",
      "17-D125-50+600\n",
      "17-D910-1+360\n"
     ]
    },
    {
     "name": "stderr",
     "output_type": "stream",
     "text": [
      "c:\\users\\martin.schoreisz\\appdata\\local\\programs\\python\\python38\\lib\\site-packages\\geopandas\\geodataframe.py:852: UserWarning: Geometry column does not contain geometry.\n",
      "  warnings.warn(\"Geometry column does not contain geometry.\")\n"
     ]
    },
    {
     "name": "stdout",
     "output_type": "stream",
     "text": [
      "creer_graph : donnees mise en forme, connexion ouverte ; 2020-12-10 12:14:22.170514\n",
      "creer_graph : donnees transferees dans la base postgis ; 2020-12-10 12:14:22.289266\n",
      "creer_graph : geometrie modifiee ; 2020-12-10 12:14:22.363073\n",
      "creer_graph : topologie cree ; 2020-12-10 12:14:22.691855\n",
      "creer_graph : graph cree ; 2020-12-10 12:14:22.911390\n",
      "0 2020-12-10 12:14:24.533071 nb lignes traitees : 0\n",
      "0 2020-12-10 12:14:24.570938 nb lignes traitees : 0\n",
      "0 2020-12-10 12:14:24.646738 nb lignes traitees : 0\n",
      "17-D739-44+740\n"
     ]
    },
    {
     "name": "stderr",
     "output_type": "stream",
     "text": [
      "c:\\users\\martin.schoreisz\\appdata\\local\\programs\\python\\python38\\lib\\site-packages\\geopandas\\geodataframe.py:852: UserWarning: Geometry column does not contain geometry.\n",
      "  warnings.warn(\"Geometry column does not contain geometry.\")\n"
     ]
    },
    {
     "name": "stdout",
     "output_type": "stream",
     "text": [
      "creer_graph : donnees mise en forme, connexion ouverte ; 2020-12-10 12:14:25.498630\n",
      "creer_graph : donnees transferees dans la base postgis ; 2020-12-10 12:14:25.578716\n",
      "creer_graph : geometrie modifiee ; 2020-12-10 12:14:25.612600\n",
      "creer_graph : topologie cree ; 2020-12-10 12:14:25.805535\n",
      "creer_graph : graph cree ; 2020-12-10 12:14:26.120183\n",
      "0 2020-12-10 12:14:27.528777 nb lignes traitees : 0\n",
      "0 2020-12-10 12:14:27.718142 nb lignes traitees : 0\n",
      "17-D274-2+840\n"
     ]
    },
    {
     "name": "stderr",
     "output_type": "stream",
     "text": [
      "c:\\users\\martin.schoreisz\\appdata\\local\\programs\\python\\python38\\lib\\site-packages\\geopandas\\geodataframe.py:852: UserWarning: Geometry column does not contain geometry.\n",
      "  warnings.warn(\"Geometry column does not contain geometry.\")\n"
     ]
    },
    {
     "name": "stdout",
     "output_type": "stream",
     "text": [
      "creer_graph : donnees mise en forme, connexion ouverte ; 2020-12-10 12:14:29.112089\n",
      "creer_graph : donnees transferees dans la base postgis ; 2020-12-10 12:14:29.220523\n",
      "creer_graph : geometrie modifiee ; 2020-12-10 12:14:29.326168\n",
      "creer_graph : topologie cree ; 2020-12-10 12:14:29.682219\n",
      "creer_graph : graph cree ; 2020-12-10 12:14:29.831827\n",
      "0 2020-12-10 12:14:31.646890 nb lignes traitees : 0\n",
      "0 2020-12-10 12:14:32.171518 nb lignes traitees : 0\n",
      "17-D109-34+200\n",
      "17-D127-30+610\n",
      "17-D238-0+600\n"
     ]
    },
    {
     "name": "stderr",
     "output_type": "stream",
     "text": [
      "c:\\users\\martin.schoreisz\\appdata\\local\\programs\\python\\python38\\lib\\site-packages\\geopandas\\geodataframe.py:852: UserWarning: Geometry column does not contain geometry.\n",
      "  warnings.warn(\"Geometry column does not contain geometry.\")\n"
     ]
    },
    {
     "name": "stdout",
     "output_type": "stream",
     "text": [
      "creer_graph : donnees mise en forme, connexion ouverte ; 2020-12-10 12:14:33.522998\n",
      "creer_graph : donnees transferees dans la base postgis ; 2020-12-10 12:14:33.635758\n",
      "creer_graph : geometrie modifiee ; 2020-12-10 12:14:33.672600\n",
      "creer_graph : topologie cree ; 2020-12-10 12:14:34.331781\n",
      "creer_graph : graph cree ; 2020-12-10 12:14:34.513606\n",
      "0 2020-12-10 12:14:36.244774 nb lignes traitees : 0\n",
      "0 2020-12-10 12:14:36.591867 nb lignes traitees : 0\n",
      "17-D6-0+750\n",
      "17-D125-68+550\n",
      "17-D148-36+390\n"
     ]
    },
    {
     "name": "stderr",
     "output_type": "stream",
     "text": [
      "c:\\users\\martin.schoreisz\\appdata\\local\\programs\\python\\python38\\lib\\site-packages\\geopandas\\geodataframe.py:852: UserWarning: Geometry column does not contain geometry.\n",
      "  warnings.warn(\"Geometry column does not contain geometry.\")\n"
     ]
    },
    {
     "name": "stdout",
     "output_type": "stream",
     "text": [
      "creer_graph : donnees mise en forme, connexion ouverte ; 2020-12-10 12:14:37.634840\n",
      "creer_graph : donnees transferees dans la base postgis ; 2020-12-10 12:14:37.721309\n",
      "creer_graph : geometrie modifiee ; 2020-12-10 12:14:37.758210\n",
      "creer_graph : topologie cree ; 2020-12-10 12:14:38.551289\n",
      "creer_graph : graph cree ; 2020-12-10 12:14:38.718339\n",
      "0 2020-12-10 12:14:40.512443 nb lignes traitees : 0\n",
      "0 2020-12-10 12:14:40.649082 nb lignes traitees : 0\n",
      "0 2020-12-10 12:14:40.760742 nb lignes traitees : 0\n",
      "17-D149-1+930\n"
     ]
    },
    {
     "name": "stderr",
     "output_type": "stream",
     "text": [
      "c:\\users\\martin.schoreisz\\appdata\\local\\programs\\python\\python38\\lib\\site-packages\\geopandas\\geodataframe.py:852: UserWarning: Geometry column does not contain geometry.\n",
      "  warnings.warn(\"Geometry column does not contain geometry.\")\n"
     ]
    },
    {
     "name": "stdout",
     "output_type": "stream",
     "text": [
      "creer_graph : donnees mise en forme, connexion ouverte ; 2020-12-10 12:14:41.706511\n",
      "creer_graph : donnees transferees dans la base postgis ; 2020-12-10 12:14:41.794230\n",
      "creer_graph : geometrie modifiee ; 2020-12-10 12:14:41.833166\n",
      "creer_graph : topologie cree ; 2020-12-10 12:14:42.680930\n",
      "creer_graph : graph cree ; 2020-12-10 12:14:42.822466\n",
      "0 2020-12-10 12:14:44.295001 nb lignes traitees : 0\n",
      "0 2020-12-10 12:14:44.535446 nb lignes traitees : 0\n",
      "0 2020-12-10 12:14:44.681102 nb lignes traitees : 0\n",
      "0 2020-12-10 12:14:44.869840 nb lignes traitees : 0\n",
      "17-D158E1-1+0\n"
     ]
    },
    {
     "name": "stderr",
     "output_type": "stream",
     "text": [
      "c:\\users\\martin.schoreisz\\appdata\\local\\programs\\python\\python38\\lib\\site-packages\\geopandas\\geodataframe.py:852: UserWarning: Geometry column does not contain geometry.\n",
      "  warnings.warn(\"Geometry column does not contain geometry.\")\n"
     ]
    },
    {
     "name": "stdout",
     "output_type": "stream",
     "text": [
      "creer_graph : donnees mise en forme, connexion ouverte ; 2020-12-10 12:14:45.665320\n",
      "creer_graph : donnees transferees dans la base postgis ; 2020-12-10 12:14:45.755060\n",
      "creer_graph : geometrie modifiee ; 2020-12-10 12:14:45.804906\n",
      "creer_graph : topologie cree ; 2020-12-10 12:14:45.945533\n",
      "creer_graph : graph cree ; 2020-12-10 12:14:46.172932\n",
      "0 2020-12-10 12:14:47.436461 nb lignes traitees : 0\n",
      "17-D261-5+670\n"
     ]
    },
    {
     "name": "stderr",
     "output_type": "stream",
     "text": [
      "c:\\users\\martin.schoreisz\\appdata\\local\\programs\\python\\python38\\lib\\site-packages\\geopandas\\geodataframe.py:852: UserWarning: Geometry column does not contain geometry.\n",
      "  warnings.warn(\"Geometry column does not contain geometry.\")\n"
     ]
    },
    {
     "name": "stdout",
     "output_type": "stream",
     "text": [
      "creer_graph : donnees mise en forme, connexion ouverte ; 2020-12-10 12:14:48.334543\n",
      "creer_graph : donnees transferees dans la base postgis ; 2020-12-10 12:14:48.391576\n",
      "creer_graph : geometrie modifiee ; 2020-12-10 12:14:48.449049\n",
      "creer_graph : topologie cree ; 2020-12-10 12:14:48.770303\n",
      "creer_graph : graph cree ; 2020-12-10 12:14:48.999786\n",
      "0 2020-12-10 12:14:50.302610 nb lignes traitees : 0\n",
      "0 2020-12-10 12:14:50.404819 nb lignes traitees : 0\n",
      "17-D222-6+250\n",
      "17-D127-30+320\n",
      "17-D125-23+750\n",
      "17-D128-19+570\n",
      "17-D216-28+350\n",
      "17-D125-71+710\n",
      "17-D253-2+0\n"
     ]
    },
    {
     "name": "stderr",
     "output_type": "stream",
     "text": [
      "c:\\users\\martin.schoreisz\\appdata\\local\\programs\\python\\python38\\lib\\site-packages\\geopandas\\geodataframe.py:852: UserWarning: Geometry column does not contain geometry.\n",
      "  warnings.warn(\"Geometry column does not contain geometry.\")\n"
     ]
    },
    {
     "name": "stdout",
     "output_type": "stream",
     "text": [
      "creer_graph : donnees mise en forme, connexion ouverte ; 2020-12-10 12:14:51.307977\n",
      "creer_graph : donnees transferees dans la base postgis ; 2020-12-10 12:14:51.494736\n",
      "creer_graph : geometrie modifiee ; 2020-12-10 12:14:51.548732\n",
      "creer_graph : topologie cree ; 2020-12-10 12:14:52.091413\n",
      "creer_graph : graph cree ; 2020-12-10 12:14:52.374714\n",
      "0 2020-12-10 12:14:53.760379 nb lignes traitees : 0\n",
      "0 2020-12-10 12:14:53.983731 nb lignes traitees : 0\n",
      "17-D939E2-1+940\n"
     ]
    },
    {
     "name": "stderr",
     "output_type": "stream",
     "text": [
      "c:\\users\\martin.schoreisz\\appdata\\local\\programs\\python\\python38\\lib\\site-packages\\geopandas\\geodataframe.py:852: UserWarning: Geometry column does not contain geometry.\n",
      "  warnings.warn(\"Geometry column does not contain geometry.\")\n"
     ]
    },
    {
     "name": "stdout",
     "output_type": "stream",
     "text": [
      "creer_graph : donnees mise en forme, connexion ouverte ; 2020-12-10 12:14:54.900358\n",
      "creer_graph : donnees transferees dans la base postgis ; 2020-12-10 12:14:54.976081\n",
      "creer_graph : geometrie modifiee ; 2020-12-10 12:14:55.011949\n",
      "creer_graph : topologie cree ; 2020-12-10 12:14:55.363359\n",
      "creer_graph : graph cree ; 2020-12-10 12:14:55.701104\n",
      "0 2020-12-10 12:14:57.145999 nb lignes traitees : 0\n",
      "17-D229E2-7+780\n"
     ]
    },
    {
     "name": "stderr",
     "output_type": "stream",
     "text": [
      "c:\\users\\martin.schoreisz\\appdata\\local\\programs\\python\\python38\\lib\\site-packages\\geopandas\\geodataframe.py:852: UserWarning: Geometry column does not contain geometry.\n",
      "  warnings.warn(\"Geometry column does not contain geometry.\")\n"
     ]
    },
    {
     "name": "stdout",
     "output_type": "stream",
     "text": [
      "creer_graph : donnees mise en forme, connexion ouverte ; 2020-12-10 12:14:58.484181\n",
      "creer_graph : donnees transferees dans la base postgis ; 2020-12-10 12:14:58.611852\n",
      "creer_graph : geometrie modifiee ; 2020-12-10 12:14:58.673037\n",
      "creer_graph : topologie cree ; 2020-12-10 12:14:59.039671\n",
      "creer_graph : graph cree ; 2020-12-10 12:14:59.248672\n",
      "0 2020-12-10 12:15:00.826667 nb lignes traitees : 0\n",
      "0 2020-12-10 12:15:01.077429 nb lignes traitees : 0\n",
      "17-D237E3-2+360\n"
     ]
    },
    {
     "name": "stderr",
     "output_type": "stream",
     "text": [
      "c:\\users\\martin.schoreisz\\appdata\\local\\programs\\python\\python38\\lib\\site-packages\\geopandas\\geodataframe.py:852: UserWarning: Geometry column does not contain geometry.\n",
      "  warnings.warn(\"Geometry column does not contain geometry.\")\n"
     ]
    },
    {
     "name": "stdout",
     "output_type": "stream",
     "text": [
      "creer_graph : donnees mise en forme, connexion ouverte ; 2020-12-10 12:15:02.057370\n",
      "creer_graph : donnees transferees dans la base postgis ; 2020-12-10 12:15:02.100800\n",
      "creer_graph : geometrie modifiee ; 2020-12-10 12:15:02.135163\n",
      "creer_graph : topologie cree ; 2020-12-10 12:15:02.469125\n",
      "creer_graph : graph cree ; 2020-12-10 12:15:02.764800\n",
      "0 2020-12-10 12:15:03.991733 nb lignes traitees : 0\n",
      "17-D214E1-1+230\n"
     ]
    },
    {
     "name": "stderr",
     "output_type": "stream",
     "text": [
      "c:\\users\\martin.schoreisz\\appdata\\local\\programs\\python\\python38\\lib\\site-packages\\geopandas\\geodataframe.py:852: UserWarning: Geometry column does not contain geometry.\n",
      "  warnings.warn(\"Geometry column does not contain geometry.\")\n"
     ]
    },
    {
     "name": "stdout",
     "output_type": "stream",
     "text": [
      "creer_graph : donnees mise en forme, connexion ouverte ; 2020-12-10 12:15:04.735357\n",
      "creer_graph : donnees transferees dans la base postgis ; 2020-12-10 12:15:04.813767\n",
      "creer_graph : geometrie modifiee ; 2020-12-10 12:15:04.867452\n",
      "creer_graph : topologie cree ; 2020-12-10 12:15:05.056949\n",
      "creer_graph : graph cree ; 2020-12-10 12:15:05.230526\n",
      "0 2020-12-10 12:15:06.450252 nb lignes traitees : 0\n",
      "17-D215-12+380\n",
      "17-D129E2-3+800\n",
      "17-D133-32+840\n"
     ]
    },
    {
     "name": "stderr",
     "output_type": "stream",
     "text": [
      "c:\\users\\martin.schoreisz\\appdata\\local\\programs\\python\\python38\\lib\\site-packages\\geopandas\\geodataframe.py:852: UserWarning: Geometry column does not contain geometry.\n",
      "  warnings.warn(\"Geometry column does not contain geometry.\")\n"
     ]
    },
    {
     "name": "stdout",
     "output_type": "stream",
     "text": [
      "creer_graph : donnees mise en forme, connexion ouverte ; 2020-12-10 12:15:07.469893\n",
      "creer_graph : donnees transferees dans la base postgis ; 2020-12-10 12:15:07.625215\n",
      "creer_graph : geometrie modifiee ; 2020-12-10 12:15:07.673214\n",
      "creer_graph : topologie cree ; 2020-12-10 12:15:08.198724\n",
      "creer_graph : graph cree ; 2020-12-10 12:15:08.466360\n",
      "0 2020-12-10 12:15:10.102840 nb lignes traitees : 0\n",
      "17-D117E1-12+40\n"
     ]
    },
    {
     "name": "stderr",
     "output_type": "stream",
     "text": [
      "c:\\users\\martin.schoreisz\\appdata\\local\\programs\\python\\python38\\lib\\site-packages\\geopandas\\geodataframe.py:852: UserWarning: Geometry column does not contain geometry.\n",
      "  warnings.warn(\"Geometry column does not contain geometry.\")\n"
     ]
    },
    {
     "name": "stdout",
     "output_type": "stream",
     "text": [
      "creer_graph : donnees mise en forme, connexion ouverte ; 2020-12-10 12:15:11.049980\n",
      "creer_graph : donnees transferees dans la base postgis ; 2020-12-10 12:15:11.113267\n",
      "creer_graph : geometrie modifiee ; 2020-12-10 12:15:11.153186\n",
      "creer_graph : topologie cree ; 2020-12-10 12:15:11.398665\n",
      "creer_graph : graph cree ; 2020-12-10 12:15:11.640877\n",
      "0 2020-12-10 12:15:12.958563 nb lignes traitees : 0\n",
      "0 2020-12-10 12:15:13.075251 nb lignes traitees : 0\n",
      "0 2020-12-10 12:15:13.129094 nb lignes traitees : 0\n",
      "0 2020-12-10 12:15:13.180953 nb lignes traitees : 0\n",
      "17-D136-8+130\n",
      "17-D122-30+240\n",
      "17-D129-58+780\n",
      "17-D129-75+570\n",
      "17-D120-19+470\n",
      "17-D237-1+320\n"
     ]
    },
    {
     "name": "stderr",
     "output_type": "stream",
     "text": [
      "c:\\users\\martin.schoreisz\\appdata\\local\\programs\\python\\python38\\lib\\site-packages\\geopandas\\geodataframe.py:852: UserWarning: Geometry column does not contain geometry.\n",
      "  warnings.warn(\"Geometry column does not contain geometry.\")\n"
     ]
    },
    {
     "name": "stdout",
     "output_type": "stream",
     "text": [
      "creer_graph : donnees mise en forme, connexion ouverte ; 2020-12-10 12:15:14.099923\n",
      "creer_graph : donnees transferees dans la base postgis ; 2020-12-10 12:15:14.146494\n",
      "creer_graph : geometrie modifiee ; 2020-12-10 12:15:14.178710\n",
      "creer_graph : topologie cree ; 2020-12-10 12:15:14.463810\n",
      "creer_graph : graph cree ; 2020-12-10 12:15:14.762298\n",
      "0 2020-12-10 12:15:16.065098 nb lignes traitees : 0\n",
      "0 2020-12-10 12:15:16.214754 nb lignes traitees : 0\n",
      "17-D125-71+160\n",
      "17-D699-0+830\n"
     ]
    },
    {
     "name": "stderr",
     "output_type": "stream",
     "text": [
      "c:\\users\\martin.schoreisz\\appdata\\local\\programs\\python\\python38\\lib\\site-packages\\geopandas\\geodataframe.py:852: UserWarning: Geometry column does not contain geometry.\n",
      "  warnings.warn(\"Geometry column does not contain geometry.\")\n"
     ]
    },
    {
     "name": "stdout",
     "output_type": "stream",
     "text": [
      "creer_graph : donnees mise en forme, connexion ouverte ; 2020-12-10 12:15:17.181963\n",
      "creer_graph : donnees transferees dans la base postgis ; 2020-12-10 12:15:17.235413\n",
      "creer_graph : geometrie modifiee ; 2020-12-10 12:15:17.270697\n",
      "creer_graph : topologie cree ; 2020-12-10 12:15:17.602262\n",
      "creer_graph : graph cree ; 2020-12-10 12:15:17.900470\n",
      "0 2020-12-10 12:15:19.298071 nb lignes traitees : 0\n",
      "17-D127-65+670\n",
      "17-D122-7+0\n",
      "17-D214-23+500\n"
     ]
    },
    {
     "name": "stderr",
     "output_type": "stream",
     "text": [
      "c:\\users\\martin.schoreisz\\appdata\\local\\programs\\python\\python38\\lib\\site-packages\\geopandas\\geodataframe.py:852: UserWarning: Geometry column does not contain geometry.\n",
      "  warnings.warn(\"Geometry column does not contain geometry.\")\n"
     ]
    },
    {
     "name": "stdout",
     "output_type": "stream",
     "text": [
      "creer_graph : donnees mise en forme, connexion ouverte ; 2020-12-10 12:15:20.046555\n",
      "creer_graph : donnees transferees dans la base postgis ; 2020-12-10 12:15:20.167467\n",
      "creer_graph : geometrie modifiee ; 2020-12-10 12:15:20.210951\n",
      "creer_graph : topologie cree ; 2020-12-10 12:15:20.485195\n",
      "creer_graph : graph cree ; 2020-12-10 12:15:20.780904\n",
      "0 2020-12-10 12:15:22.303173 nb lignes traitees : 0\n",
      "17-D229E2-9+300\n",
      "17-D131E2-0+300\n"
     ]
    },
    {
     "name": "stderr",
     "output_type": "stream",
     "text": [
      "c:\\users\\martin.schoreisz\\appdata\\local\\programs\\python\\python38\\lib\\site-packages\\geopandas\\geodataframe.py:852: UserWarning: Geometry column does not contain geometry.\n",
      "  warnings.warn(\"Geometry column does not contain geometry.\")\n"
     ]
    },
    {
     "name": "stdout",
     "output_type": "stream",
     "text": [
      "creer_graph : donnees mise en forme, connexion ouverte ; 2020-12-10 12:15:23.186809\n",
      "creer_graph : donnees transferees dans la base postgis ; 2020-12-10 12:15:23.256986\n",
      "creer_graph : geometrie modifiee ; 2020-12-10 12:15:23.296909\n",
      "creer_graph : topologie cree ; 2020-12-10 12:15:23.491180\n",
      "creer_graph : graph cree ; 2020-12-10 12:15:23.752317\n",
      "0 2020-12-10 12:15:25.199561 nb lignes traitees : 0\n",
      "17-D233-0+60\n"
     ]
    },
    {
     "name": "stderr",
     "output_type": "stream",
     "text": [
      "c:\\users\\martin.schoreisz\\appdata\\local\\programs\\python\\python38\\lib\\site-packages\\geopandas\\geodataframe.py:852: UserWarning: Geometry column does not contain geometry.\n",
      "  warnings.warn(\"Geometry column does not contain geometry.\")\n"
     ]
    },
    {
     "name": "stdout",
     "output_type": "stream",
     "text": [
      "creer_graph : donnees mise en forme, connexion ouverte ; 2020-12-10 12:15:26.159117\n",
      "creer_graph : donnees transferees dans la base postgis ; 2020-12-10 12:15:26.262527\n",
      "creer_graph : geometrie modifiee ; 2020-12-10 12:15:26.318315\n",
      "creer_graph : topologie cree ; 2020-12-10 12:15:26.672523\n",
      "creer_graph : graph cree ; 2020-12-10 12:15:26.962275\n",
      "0 2020-12-10 12:15:28.462818 nb lignes traitees : 0\n",
      "17-D120-38+100\n",
      "17-D120-43+320\n",
      "17-D128E2-1+90\n"
     ]
    },
    {
     "name": "stderr",
     "output_type": "stream",
     "text": [
      "c:\\users\\martin.schoreisz\\appdata\\local\\programs\\python\\python38\\lib\\site-packages\\geopandas\\geodataframe.py:852: UserWarning: Geometry column does not contain geometry.\n",
      "  warnings.warn(\"Geometry column does not contain geometry.\")\n"
     ]
    },
    {
     "name": "stdout",
     "output_type": "stream",
     "text": [
      "creer_graph : donnees mise en forme, connexion ouverte ; 2020-12-10 12:15:29.304984\n",
      "creer_graph : donnees transferees dans la base postgis ; 2020-12-10 12:15:29.335920\n",
      "creer_graph : geometrie modifiee ; 2020-12-10 12:15:29.367817\n",
      "creer_graph : topologie cree ; 2020-12-10 12:15:29.520412\n",
      "creer_graph : graph cree ; 2020-12-10 12:15:29.811221\n",
      "0 2020-12-10 12:15:31.043502 nb lignes traitees : 0\n",
      "17-D112-8+400\n",
      "17-D125E2-0+230\n"
     ]
    },
    {
     "name": "stderr",
     "output_type": "stream",
     "text": [
      "c:\\users\\martin.schoreisz\\appdata\\local\\programs\\python\\python38\\lib\\site-packages\\geopandas\\geodataframe.py:852: UserWarning: Geometry column does not contain geometry.\n",
      "  warnings.warn(\"Geometry column does not contain geometry.\")\n"
     ]
    },
    {
     "name": "stdout",
     "output_type": "stream",
     "text": [
      "creer_graph : donnees mise en forme, connexion ouverte ; 2020-12-10 12:15:31.997631\n",
      "creer_graph : donnees transferees dans la base postgis ; 2020-12-10 12:15:32.072533\n",
      "creer_graph : geometrie modifiee ; 2020-12-10 12:15:32.115850\n",
      "creer_graph : topologie cree ; 2020-12-10 12:15:32.372044\n",
      "creer_graph : graph cree ; 2020-12-10 12:15:32.529585\n",
      "0 2020-12-10 12:15:33.831396 nb lignes traitees : 0\n",
      "17-D117E1-11+0\n",
      "17-D110-6+50\n"
     ]
    },
    {
     "name": "stderr",
     "output_type": "stream",
     "text": [
      "c:\\users\\martin.schoreisz\\appdata\\local\\programs\\python\\python38\\lib\\site-packages\\geopandas\\geodataframe.py:852: UserWarning: Geometry column does not contain geometry.\n",
      "  warnings.warn(\"Geometry column does not contain geometry.\")\n"
     ]
    },
    {
     "name": "stdout",
     "output_type": "stream",
     "text": [
      "creer_graph : donnees mise en forme, connexion ouverte ; 2020-12-10 12:15:34.748768\n",
      "creer_graph : donnees transferees dans la base postgis ; 2020-12-10 12:15:34.927541\n",
      "creer_graph : geometrie modifiee ; 2020-12-10 12:15:34.990386\n",
      "creer_graph : topologie cree ; 2020-12-10 12:15:35.514461\n",
      "creer_graph : graph cree ; 2020-12-10 12:15:35.773034\n",
      "0 2020-12-10 12:15:37.402122 nb lignes traitees : 0\n",
      "0 2020-12-10 12:15:37.629565 nb lignes traitees : 0\n",
      "0 2020-12-10 12:15:38.082315 nb lignes traitees : 0\n",
      "17-D244E2-0+980\n"
     ]
    },
    {
     "name": "stderr",
     "output_type": "stream",
     "text": [
      "c:\\users\\martin.schoreisz\\appdata\\local\\programs\\python\\python38\\lib\\site-packages\\geopandas\\geodataframe.py:852: UserWarning: Geometry column does not contain geometry.\n",
      "  warnings.warn(\"Geometry column does not contain geometry.\")\n"
     ]
    },
    {
     "name": "stdout",
     "output_type": "stream",
     "text": [
      "creer_graph : donnees mise en forme, connexion ouverte ; 2020-12-10 12:15:39.160614\n",
      "creer_graph : donnees transferees dans la base postgis ; 2020-12-10 12:15:39.252370\n",
      "creer_graph : geometrie modifiee ; 2020-12-10 12:15:39.322753\n",
      "creer_graph : topologie cree ; 2020-12-10 12:15:39.614846\n",
      "creer_graph : graph cree ; 2020-12-10 12:15:40.097346\n",
      "0 2020-12-10 12:15:41.635070 nb lignes traitees : 0\n",
      "17-D139-24+100\n"
     ]
    },
    {
     "name": "stderr",
     "output_type": "stream",
     "text": [
      "c:\\users\\martin.schoreisz\\appdata\\local\\programs\\python\\python38\\lib\\site-packages\\geopandas\\geodataframe.py:852: UserWarning: Geometry column does not contain geometry.\n",
      "  warnings.warn(\"Geometry column does not contain geometry.\")\n"
     ]
    },
    {
     "name": "stdout",
     "output_type": "stream",
     "text": [
      "creer_graph : donnees mise en forme, connexion ouverte ; 2020-12-10 12:15:42.609453\n",
      "creer_graph : donnees transferees dans la base postgis ; 2020-12-10 12:15:42.690238\n",
      "creer_graph : geometrie modifiee ; 2020-12-10 12:15:42.725179\n",
      "creer_graph : topologie cree ; 2020-12-10 12:15:43.314338\n",
      "creer_graph : graph cree ; 2020-12-10 12:15:43.505062\n",
      "0 2020-12-10 12:15:44.835714 nb lignes traitees : 0\n",
      "0 2020-12-10 12:15:45.052085 nb lignes traitees : 0\n",
      "17-D733E-0+650\n"
     ]
    },
    {
     "name": "stderr",
     "output_type": "stream",
     "text": [
      "c:\\users\\martin.schoreisz\\appdata\\local\\programs\\python\\python38\\lib\\site-packages\\geopandas\\geodataframe.py:852: UserWarning: Geometry column does not contain geometry.\n",
      "  warnings.warn(\"Geometry column does not contain geometry.\")\n"
     ]
    },
    {
     "name": "stdout",
     "output_type": "stream",
     "text": [
      "creer_graph : donnees mise en forme, connexion ouverte ; 2020-12-10 12:15:45.897127\n",
      "creer_graph : donnees transferees dans la base postgis ; 2020-12-10 12:15:45.962726\n",
      "creer_graph : geometrie modifiee ; 2020-12-10 12:15:46.034346\n",
      "creer_graph : topologie cree ; 2020-12-10 12:15:46.252565\n",
      "creer_graph : graph cree ; 2020-12-10 12:15:46.510083\n",
      "0 2020-12-10 12:15:47.644556 nb lignes traitees : 0\n",
      "0 2020-12-10 12:15:47.703374 nb lignes traitees : 0\n",
      "17-D244-7+500\n"
     ]
    },
    {
     "name": "stderr",
     "output_type": "stream",
     "text": [
      "c:\\users\\martin.schoreisz\\appdata\\local\\programs\\python\\python38\\lib\\site-packages\\geopandas\\geodataframe.py:852: UserWarning: Geometry column does not contain geometry.\n",
      "  warnings.warn(\"Geometry column does not contain geometry.\")\n"
     ]
    },
    {
     "name": "stdout",
     "output_type": "stream",
     "text": [
      "creer_graph : donnees mise en forme, connexion ouverte ; 2020-12-10 12:15:48.605964\n",
      "creer_graph : donnees transferees dans la base postgis ; 2020-12-10 12:15:48.653836\n",
      "creer_graph : geometrie modifiee ; 2020-12-10 12:15:48.709746\n",
      "creer_graph : topologie cree ; 2020-12-10 12:15:49.146002\n",
      "creer_graph : graph cree ; 2020-12-10 12:15:49.401257\n",
      "0 2020-12-10 12:15:50.753170 nb lignes traitees : 0\n",
      "17-D242-0+550\n"
     ]
    },
    {
     "name": "stderr",
     "output_type": "stream",
     "text": [
      "c:\\users\\martin.schoreisz\\appdata\\local\\programs\\python\\python38\\lib\\site-packages\\geopandas\\geodataframe.py:852: UserWarning: Geometry column does not contain geometry.\n",
      "  warnings.warn(\"Geometry column does not contain geometry.\")\n"
     ]
    },
    {
     "name": "stdout",
     "output_type": "stream",
     "text": [
      "creer_graph : donnees mise en forme, connexion ouverte ; 2020-12-10 12:15:51.658417\n",
      "creer_graph : donnees transferees dans la base postgis ; 2020-12-10 12:15:51.690330\n",
      "creer_graph : geometrie modifiee ; 2020-12-10 12:15:51.724271\n",
      "creer_graph : topologie cree ; 2020-12-10 12:15:51.869855\n",
      "creer_graph : graph cree ; 2020-12-10 12:15:52.209905\n",
      "0 2020-12-10 12:15:53.605674 nb lignes traitees : 0\n",
      "17-D125-23+460\n",
      "17-D128-21+450\n",
      "17-D237-1+100\n",
      "17-D241-25+700\n",
      "17-D144-26+950\n"
     ]
    },
    {
     "name": "stderr",
     "output_type": "stream",
     "text": [
      "c:\\users\\martin.schoreisz\\appdata\\local\\programs\\python\\python38\\lib\\site-packages\\geopandas\\geodataframe.py:852: UserWarning: Geometry column does not contain geometry.\n",
      "  warnings.warn(\"Geometry column does not contain geometry.\")\n"
     ]
    },
    {
     "name": "stdout",
     "output_type": "stream",
     "text": [
      "creer_graph : donnees mise en forme, connexion ouverte ; 2020-12-10 12:15:54.341845\n",
      "creer_graph : donnees transferees dans la base postgis ; 2020-12-10 12:15:54.463992\n",
      "creer_graph : geometrie modifiee ; 2020-12-10 12:15:54.507276\n",
      "creer_graph : topologie cree ; 2020-12-10 12:15:54.772618\n",
      "creer_graph : graph cree ; 2020-12-10 12:15:55.062314\n",
      "0 2020-12-10 12:15:56.428833 nb lignes traitees : 0\n",
      "17-D148-36+690\n",
      "17-D252-4+600\n",
      "17-D9-7+300\n"
     ]
    },
    {
     "name": "stderr",
     "output_type": "stream",
     "text": [
      "c:\\users\\martin.schoreisz\\appdata\\local\\programs\\python\\python38\\lib\\site-packages\\geopandas\\geodataframe.py:852: UserWarning: Geometry column does not contain geometry.\n",
      "  warnings.warn(\"Geometry column does not contain geometry.\")\n"
     ]
    },
    {
     "name": "stdout",
     "output_type": "stream",
     "text": [
      "creer_graph : donnees mise en forme, connexion ouverte ; 2020-12-10 12:15:57.422153\n",
      "creer_graph : donnees transferees dans la base postgis ; 2020-12-10 12:15:57.500181\n",
      "creer_graph : geometrie modifiee ; 2020-12-10 12:15:57.539448\n",
      "creer_graph : topologie cree ; 2020-12-10 12:15:57.714390\n",
      "creer_graph : graph cree ; 2020-12-10 12:15:57.850733\n",
      "0 2020-12-10 12:15:59.384430 nb lignes traitees : 0\n",
      "17-D122-5+600\n",
      "17-D148-29+500\n",
      "17-D274-2+650\n",
      "17-D136-16+470\n",
      "17-D106E1-0+90\n"
     ]
    },
    {
     "name": "stderr",
     "output_type": "stream",
     "text": [
      "c:\\users\\martin.schoreisz\\appdata\\local\\programs\\python\\python38\\lib\\site-packages\\geopandas\\geodataframe.py:852: UserWarning: Geometry column does not contain geometry.\n",
      "  warnings.warn(\"Geometry column does not contain geometry.\")\n"
     ]
    },
    {
     "name": "stdout",
     "output_type": "stream",
     "text": [
      "creer_graph : donnees mise en forme, connexion ouverte ; 2020-12-10 12:16:00.907662\n",
      "creer_graph : donnees transferees dans la base postgis ; 2020-12-10 12:16:00.976713\n",
      "creer_graph : geometrie modifiee ; 2020-12-10 12:16:01.019892\n",
      "creer_graph : topologie cree ; 2020-12-10 12:16:01.297106\n",
      "creer_graph : graph cree ; 2020-12-10 12:16:01.598399\n",
      "0 2020-12-10 12:16:02.998015 nb lignes traitees : 0\n",
      "17-D114-105+800\n"
     ]
    },
    {
     "name": "stderr",
     "output_type": "stream",
     "text": [
      "c:\\users\\martin.schoreisz\\appdata\\local\\programs\\python\\python38\\lib\\site-packages\\geopandas\\geodataframe.py:852: UserWarning: Geometry column does not contain geometry.\n",
      "  warnings.warn(\"Geometry column does not contain geometry.\")\n"
     ]
    },
    {
     "name": "stdout",
     "output_type": "stream",
     "text": [
      "creer_graph : donnees mise en forme, connexion ouverte ; 2020-12-10 12:16:04.344892\n",
      "creer_graph : donnees transferees dans la base postgis ; 2020-12-10 12:16:04.489579\n",
      "creer_graph : geometrie modifiee ; 2020-12-10 12:16:04.555723\n",
      "creer_graph : topologie cree ; 2020-12-10 12:16:05.120170\n",
      "creer_graph : graph cree ; 2020-12-10 12:16:05.355287\n",
      "0 2020-12-10 12:16:06.853414 nb lignes traitees : 0\n",
      "17-D232-1+60\n"
     ]
    },
    {
     "name": "stderr",
     "output_type": "stream",
     "text": [
      "c:\\users\\martin.schoreisz\\appdata\\local\\programs\\python\\python38\\lib\\site-packages\\geopandas\\geodataframe.py:852: UserWarning: Geometry column does not contain geometry.\n",
      "  warnings.warn(\"Geometry column does not contain geometry.\")\n"
     ]
    },
    {
     "name": "stdout",
     "output_type": "stream",
     "text": [
      "creer_graph : donnees mise en forme, connexion ouverte ; 2020-12-10 12:16:07.786811\n",
      "creer_graph : donnees transferees dans la base postgis ; 2020-12-10 12:16:07.825771\n",
      "creer_graph : geometrie modifiee ; 2020-12-10 12:16:07.859599\n",
      "creer_graph : topologie cree ; 2020-12-10 12:16:08.088032\n",
      "creer_graph : graph cree ; 2020-12-10 12:16:08.400160\n",
      "0 2020-12-10 12:16:09.709915 nb lignes traitees : 0\n",
      "17-D129-70+360\n",
      "17-D264-8+146\n"
     ]
    },
    {
     "name": "stderr",
     "output_type": "stream",
     "text": [
      "c:\\users\\martin.schoreisz\\appdata\\local\\programs\\python\\python38\\lib\\site-packages\\geopandas\\geodataframe.py:852: UserWarning: Geometry column does not contain geometry.\n",
      "  warnings.warn(\"Geometry column does not contain geometry.\")\n"
     ]
    },
    {
     "name": "stdout",
     "output_type": "stream",
     "text": [
      "creer_graph : donnees mise en forme, connexion ouverte ; 2020-12-10 12:16:10.550597\n",
      "creer_graph : donnees transferees dans la base postgis ; 2020-12-10 12:16:10.652112\n",
      "creer_graph : geometrie modifiee ; 2020-12-10 12:16:10.713560\n",
      "creer_graph : topologie cree ; 2020-12-10 12:16:10.891085\n",
      "creer_graph : graph cree ; 2020-12-10 12:16:11.121476\n",
      "0 2020-12-10 12:16:12.637003 nb lignes traitees : 0\n",
      "17-D129-59+80\n",
      "17-D261-5+270\n",
      "17-D733E2-0+400\n"
     ]
    },
    {
     "name": "stderr",
     "output_type": "stream",
     "text": [
      "c:\\users\\martin.schoreisz\\appdata\\local\\programs\\python\\python38\\lib\\site-packages\\geopandas\\geodataframe.py:852: UserWarning: Geometry column does not contain geometry.\n",
      "  warnings.warn(\"Geometry column does not contain geometry.\")\n"
     ]
    },
    {
     "name": "stdout",
     "output_type": "stream",
     "text": [
      "creer_graph : donnees mise en forme, connexion ouverte ; 2020-12-10 12:16:13.440001\n",
      "creer_graph : donnees transferees dans la base postgis ; 2020-12-10 12:16:13.543867\n",
      "creer_graph : geometrie modifiee ; 2020-12-10 12:16:13.613738\n",
      "creer_graph : topologie cree ; 2020-12-10 12:16:13.904492\n",
      "creer_graph : graph cree ; 2020-12-10 12:16:14.081422\n",
      "0 2020-12-10 12:16:15.373724 nb lignes traitees : 0\n",
      "0 2020-12-10 12:16:15.719801 nb lignes traitees : 0\n",
      "17-D127-73+0\n",
      "17-D135-9+140\n"
     ]
    },
    {
     "name": "stderr",
     "output_type": "stream",
     "text": [
      "c:\\users\\martin.schoreisz\\appdata\\local\\programs\\python\\python38\\lib\\site-packages\\geopandas\\geodataframe.py:852: UserWarning: Geometry column does not contain geometry.\n",
      "  warnings.warn(\"Geometry column does not contain geometry.\")\n"
     ]
    },
    {
     "name": "stdout",
     "output_type": "stream",
     "text": [
      "creer_graph : donnees mise en forme, connexion ouverte ; 2020-12-10 12:16:16.661782\n",
      "creer_graph : donnees transferees dans la base postgis ; 2020-12-10 12:16:16.775041\n",
      "creer_graph : geometrie modifiee ; 2020-12-10 12:16:16.823585\n",
      "creer_graph : topologie cree ; 2020-12-10 12:16:17.080036\n",
      "creer_graph : graph cree ; 2020-12-10 12:16:17.374198\n",
      "0 2020-12-10 12:16:18.736319 nb lignes traitees : 0\n",
      "17-D739-43+830\n",
      "17-D125-54+670\n",
      "17-D25-35+151\n",
      "17-D129-49+547\n",
      "17-D25-33+600\n",
      "17-D25-45+301\n",
      "17-D5-1+440\n",
      "17-D137-79+740\n",
      "17-D136-10+280\n",
      "17-D127-73+180\n",
      "17-D125-68+800\n",
      "17-D238-0+140\n",
      "17-D202-10+440\n",
      "17-D733E2-0+110\n",
      "17-D129-48+655\n",
      "17-N2150-57+101\n"
     ]
    },
    {
     "name": "stderr",
     "output_type": "stream",
     "text": [
      "c:\\users\\martin.schoreisz\\appdata\\local\\programs\\python\\python38\\lib\\site-packages\\geopandas\\geodataframe.py:852: UserWarning: Geometry column does not contain geometry.\n",
      "  warnings.warn(\"Geometry column does not contain geometry.\")\n"
     ]
    },
    {
     "name": "stdout",
     "output_type": "stream",
     "text": [
      "creer_graph : donnees mise en forme, connexion ouverte ; 2020-12-10 12:16:19.572603\n",
      "creer_graph : donnees transferees dans la base postgis ; 2020-12-10 12:16:19.652261\n",
      "creer_graph : geometrie modifiee ; 2020-12-10 12:16:19.709151\n",
      "creer_graph : topologie cree ; 2020-12-10 12:16:19.914839\n",
      "creer_graph : graph cree ; 2020-12-10 12:16:20.074455\n",
      "0 2020-12-10 12:16:21.802597 nb lignes traitees : 0\n",
      "17-D149-24+230\n",
      "17-D215-7+20\n",
      "17-D118-37+300\n",
      "17-D120-29+640\n",
      "17-D733E-0+460\n",
      "17-D136-8+700\n",
      "17-D122-4+350\n",
      "17-D143-14+250\n"
     ]
    },
    {
     "name": "stderr",
     "output_type": "stream",
     "text": [
      "c:\\users\\martin.schoreisz\\appdata\\local\\programs\\python\\python38\\lib\\site-packages\\geopandas\\geodataframe.py:852: UserWarning: Geometry column does not contain geometry.\n",
      "  warnings.warn(\"Geometry column does not contain geometry.\")\n"
     ]
    },
    {
     "name": "stdout",
     "output_type": "stream",
     "text": [
      "creer_graph : donnees mise en forme, connexion ouverte ; 2020-12-10 12:16:22.883102\n",
      "creer_graph : donnees transferees dans la base postgis ; 2020-12-10 12:16:22.977685\n",
      "creer_graph : geometrie modifiee ; 2020-12-10 12:16:23.013605\n",
      "creer_graph : topologie cree ; 2020-12-10 12:16:23.566416\n",
      "creer_graph : graph cree ; 2020-12-10 12:16:23.778200\n",
      "0 2020-12-10 12:16:25.040713 nb lignes traitees : 0\n",
      "17-D910-8+430\n",
      "17-D145-70+650\n"
     ]
    },
    {
     "name": "stderr",
     "output_type": "stream",
     "text": [
      "c:\\users\\martin.schoreisz\\appdata\\local\\programs\\python\\python38\\lib\\site-packages\\geopandas\\geodataframe.py:852: UserWarning: Geometry column does not contain geometry.\n",
      "  warnings.warn(\"Geometry column does not contain geometry.\")\n"
     ]
    },
    {
     "name": "stdout",
     "output_type": "stream",
     "text": [
      "creer_graph : donnees mise en forme, connexion ouverte ; 2020-12-10 12:16:26.177310\n",
      "creer_graph : donnees transferees dans la base postgis ; 2020-12-10 12:16:26.290008\n",
      "creer_graph : geometrie modifiee ; 2020-12-10 12:16:26.351816\n",
      "creer_graph : topologie cree ; 2020-12-10 12:16:27.287687\n",
      "creer_graph : graph cree ; 2020-12-10 12:16:27.508103\n",
      "0 2020-12-10 12:16:29.094841 nb lignes traitees : 0\n",
      "0 2020-12-10 12:16:29.149695 nb lignes traitees : 0\n",
      "0 2020-12-10 12:16:29.395095 nb lignes traitees : 0\n",
      "0 2020-12-10 12:16:29.827893 nb lignes traitees : 0\n",
      "17-D110-2+980\n",
      "17-D136-33+600\n",
      "17-D118-37+680\n",
      "17-D142-0+900\n",
      "17-D145-64+150\n",
      "17-D149-1+740\n",
      "17-D253-3+300\n",
      "17-D910-1+936\n",
      "17-D128-39+970\n",
      "17-D136-9+570\n",
      "17-D118-58+300\n",
      "17-D236E1-2+250\n"
     ]
    },
    {
     "name": "stderr",
     "output_type": "stream",
     "text": [
      "c:\\users\\martin.schoreisz\\appdata\\local\\programs\\python\\python38\\lib\\site-packages\\geopandas\\geodataframe.py:852: UserWarning: Geometry column does not contain geometry.\n",
      "  warnings.warn(\"Geometry column does not contain geometry.\")\n"
     ]
    },
    {
     "name": "stdout",
     "output_type": "stream",
     "text": [
      "creer_graph : donnees mise en forme, connexion ouverte ; 2020-12-10 12:16:30.860205\n",
      "creer_graph : donnees transferees dans la base postgis ; 2020-12-10 12:16:30.942607\n",
      "creer_graph : geometrie modifiee ; 2020-12-10 12:16:31.001881\n",
      "creer_graph : topologie cree ; 2020-12-10 12:16:31.134503\n",
      "creer_graph : graph cree ; 2020-12-10 12:16:31.372920\n",
      "0 2020-12-10 12:16:32.617577 nb lignes traitees : 0\n",
      "17-D145-111+750\n",
      "17-D117E1-11+490\n",
      "17-D119-27+200\n",
      "17-D145-111+311\n",
      "17-D110-1+970\n",
      "17-D136-10+120\n",
      "17-D119-27+540\n",
      "17-D117E1-11+320\n",
      "17-D149-7+140\n",
      "17-D140E3-0+30\n"
     ]
    },
    {
     "name": "stderr",
     "output_type": "stream",
     "text": [
      "c:\\users\\martin.schoreisz\\appdata\\local\\programs\\python\\python38\\lib\\site-packages\\geopandas\\geodataframe.py:852: UserWarning: Geometry column does not contain geometry.\n",
      "  warnings.warn(\"Geometry column does not contain geometry.\")\n"
     ]
    },
    {
     "name": "stdout",
     "output_type": "stream",
     "text": [
      "creer_graph : donnees mise en forme, connexion ouverte ; 2020-12-10 12:16:33.476511\n",
      "creer_graph : donnees transferees dans la base postgis ; 2020-12-10 12:16:33.527573\n",
      "creer_graph : geometrie modifiee ; 2020-12-10 12:16:33.563339\n",
      "creer_graph : topologie cree ; 2020-12-10 12:16:33.737467\n",
      "creer_graph : graph cree ; 2020-12-10 12:16:34.012686\n",
      "0 2020-12-10 12:16:35.148888 nb lignes traitees : 0\n",
      "17-D139-7+50\n",
      "17-D127-47+840\n"
     ]
    }
   ],
   "source": [
    "#on isole un point de comptage et on trouve tout les points relatifs à cette voie : \n",
    "pt_traites=[]\n",
    "listAffectation=[]\n",
    "for id_cpt_a_test in gdf_creation_idcpt_ok.id_cpt_pt.unique() :\n",
    "    #drapeau si point deja traite dans le cadre d'un autre point sur la mm voie\n",
    "    print(id_cpt_a_test)\n",
    "    if id_cpt_a_test in pt_traites : \n",
    "        continue\n",
    "    numero=id_cpt_a_test.split('-')[1]\n",
    "    df_tt_cpt_route=gdf_creation_idcpt_ok.loc[gdf_creation_idcpt_ok['numero']==numero]\n",
    "    liste_new_pt=df_tt_cpt_route.id_cpt_pt.unique()\n",
    "\n",
    "    #on recherche la ligne la plus proche pour cahque pt de comptage\n",
    "    gdf_creation_idcpt_ok_geom=df_tt_cpt_route.merge(gdf_pt_cpt[['id_comptag', 'geom']], \n",
    "                left_on='id_cpt_pt', right_on='id_comptag').rename(columns={'geom' : 'geom_id_cpt_pt'})\n",
    "    gdf_creation_idcpt_ok_geom['dist_id_cpt']=gdf_creation_idcpt_ok_geom.apply(lambda x : x['geometry'].distance(x['geom_id_cpt_pt']), axis=1)\n",
    "\n",
    "    t1=gdf_creation_idcpt_ok_geom.loc[gdf_creation_idcpt_ok_geom['id_cpt_pt'].isin(liste_new_pt)]\n",
    "    df_lgn_proche_cpt=t1.loc[t1.groupby(['id_cpt_pt'])['dist_id_cpt'].transform(min)==t1['dist_id_cpt']]\n",
    "    \n",
    "    #toute les lignes du numero de voie\n",
    "    df_troncon_numero=gdf_traf.loc[gdf_traf['numero']==numero]\n",
    "    #sans les lignes qui ont déjà un id_comptag\n",
    "    df_troncon_numero=df_troncon_numero.loc[df_troncon_numero['id_comptag'].isna()].copy()\n",
    "    list_src_tgt_tronc_num=df_troncon_numero.source.tolist() + df_troncon_numero.target.tolist()\n",
    "    \n",
    "    #trouver les lignes d'importance sup ou = qui intersectent\n",
    "    df_lgn_interscts=gdf_traf.loc[((gdf_traf['source'].isin(list_src_tgt_tronc_num)) | (gdf_traf['target'].isin(list_src_tgt_tronc_num))) &\n",
    "                                    (~gdf_traf.index.isin(df_troncon_numero.index.tolist())) & (gdf_traf['importance']!='NC')].copy()\n",
    "    df_lgn_interscts_merge=gp.sjoin(df_lgn_interscts,df_troncon_numero, op='intersects')\n",
    "    df_lgn_interscts_filtre=df_lgn_interscts_merge.loc[df_lgn_interscts_merge.apply(lambda x : int(x['importance_left']) <= int(x['importance_right']), axis=1)].copy()\n",
    "    nom_attribut=[a for a  in df_lgn_interscts_filtre.columns if a[-4:]=='left']\n",
    "    df_lgn_interscts_fin=df_lgn_interscts_filtre.rename(columns={n : n[:-5] for n in nom_attribut})[[c for c in df_lgn_interscts.columns]]\n",
    "    #trouver les lignes avec un id_comptag qu iintersectent\n",
    "    df_lgn_id_cpt_lin=gdf_traf.loc[~gdf_traf.id_comptag.isna()].copy()\n",
    "    df_lgn_id_cpt_lin=df_lgn_id_cpt_lin.loc[(df_lgn_id_cpt_lin['source'].isin(list_src_tgt_tronc_num)) | \n",
    "                                            (df_lgn_id_cpt_lin['target'].isin(list_src_tgt_tronc_num))].copy()\n",
    "    \n",
    "    #preparer le lineaire pour graph\n",
    "    ligne_pr_graph=pd.concat([df_lgn_interscts_fin, df_lgn_id_cpt_lin,df_troncon_numero], sort=False, axis=0)\n",
    "    ligne_pr_graph.drop_duplicates('id_ign', inplace=True)\n",
    "        #si doublons id restant on remplace l'id\n",
    "    if ~ligne_pr_graph.loc[ligne_pr_graph.duplicated('id', keep=False)].empty : \n",
    "        ligne_pr_graph.reset_index(drop=True,inplace=True)\n",
    "        ligne_pr_graph.id=ligne_pr_graph.index\n",
    "    ligne_pr_graph_transfert=ligne_pr_graph.rename(columns={'id_voie_d':'codevoie_d'}).copy()\n",
    "    ligne_pr_graph_transfert['geom']=ligne_pr_graph_transfert.apply(lambda x : dumps(x.geometry), axis=1)\n",
    "\n",
    "    creer_graph(ligne_pr_graph_transfert[['id','id_ign','importance','numero','nature','codevoie_d','source','sens','target','long_km','geometry']],\n",
    "               'local_otv_boulot')\n",
    "        \n",
    "        #appel des fonction de carac des lignes \n",
    "    df=import_donnes_base('local_otv_boulot','public', 'graph_temp','graph_temp_vertices_pgr')\n",
    "    df2_chaussees=df.loc[df.nature.isin(['Type autoroutier', 'Route à 2 chaussées'])]\n",
    "    df_avec_rd_pt,carac_rd_pt,lign_entrant_rdpt=identifier_rd_pt(df)\n",
    "    df_lignes=df_avec_rd_pt.set_index('id_ign')#mettre l'id_ign en index\n",
    "    \n",
    "    #creation d'un dico des ptde base\n",
    "    dico_ligne_pt_base=df_lgn_proche_cpt.drop_duplicates(['id_cpt_lin','id_cpt_pt' ])[['id_cpt_pt',\n",
    "                            'id_ign','id_tronc_e']].set_index('id_cpt_pt').to_records()\n",
    "    dico_ligne_pt={k[0] : {'ligne_base': k[1],'trc_elem':k[2],'lgn_trc_elem' : gdf_traf_pt.loc[(gdf_traf_pt['id_tronc_e']==k[2]) & \n",
    "                                                                                (gdf_traf_pt.id_ign.isin(df_troncon_numero.id_ign.tolist()))].id_ign.tolist()\n",
    "                           , 'priorite':2} \n",
    "                       for k in dico_ligne_pt_base}\n",
    "    \n",
    "    #dico des lignes relatives a un autre comptage\n",
    "    dico_lign_cpt_pct={k:[a for kd in dico_ligne_pt.keys() if kd!=k for a in dico_ligne_pt[kd]['lgn_trc_elem']] for k in dico_ligne_pt.keys()}\n",
    "    \n",
    "    #attention, la fonction regrouper_troncon ne marche pas si la ligne de base est un rd point.\n",
    "    #il faut dc vérifier ce point et dans le cas où ça arrive prendre un ligne des lgn_trc_elem qui ne soit pas sur un rdpoint\n",
    "    if not carac_rd_pt.empty : \n",
    "        list_id_ign_rd_pt=[a for l_rdpt in carac_rd_pt.id_ign_rdpt.tolist() for a in l_rdpt]\n",
    "        for k in dico_ligne_pt.keys() : \n",
    "            if dico_ligne_pt[k]['ligne_base'] in list_id_ign_rd_pt : \n",
    "                dico_ligne_pt[k]['ligne_base']=[e for e in dico_ligne_pt[k]['lgn_trc_elem'] if e not in list_id_ign_rd_pt][0]\n",
    "                \n",
    "    #pour chaque ligne : on fait tourner la fonction de tronc elem à partir du graph avec les importance sup ou égale, \n",
    "    #d'abord pour le cpt permanent, ensuite pour les autres, avec prise necompte des lignes des tronc elem des autres compteurs. \n",
    "        #list des id_ign des tronc_elem\n",
    "    liste_id_ign_te=[a  for k, v in dico_ligne_pt.items() for a in v['lgn_trc_elem']]\n",
    "    lignes_traitees=[]\n",
    "        #utilisret les fnctions de carac\n",
    "    try : \n",
    "        for k in sorted(dico_ligne_pt.keys(), key=lambda x: (dico_ligne_pt[x]['priorite'])): \n",
    "            ligne_comp=[x for x in regrouper_troncon([dico_ligne_pt[k]['ligne_base']],df_avec_rd_pt,carac_rd_pt, df2_chaussees,\n",
    "                                                       dico_lign_cpt_pct[k]+lignes_traitees)[0].id.tolist() \n",
    "                        if x in df_lignes.index.tolist()]\n",
    "            #print(f\"id_cpt : {k},'\\n',lignes_traitees : {lignes_traitees},'\\n', lignes de base : {ligne_comp}\")\n",
    "            lignes_traitees+=ligne_comp\n",
    "            dico_ligne_pt[k]['lignes_comp_base']=[a for a in ligne_comp if a in df_troncon_numero.id_ign.to_list()]\n",
    "    except KeyError : \n",
    "        print(f'pb sur id_comptag : {id_cpt_a_test}')\n",
    "        \n",
    "    # mettre en forme et creation df de correspondance finale : \n",
    "    df_linearisee=pd.DataFrame(index=dico_ligne_pt.keys(), data=dico_ligne_pt.values())\n",
    "    df_linearisee['lignes_comp_fin']=df_linearisee.apply(lambda x : x['lignes_comp_base'] + x['lgn_trc_elem'], axis=1 )\n",
    "    dico_inverse=df_linearisee[['lignes_comp_fin']].to_dict()\n",
    "    dico_inverse={a:k   for k, val  in dico_inverse['lignes_comp_fin'].items() for a in val}\n",
    "    df_linearisee_fin=pd.DataFrame(index=dico_inverse.keys(), data=dico_inverse.values(), columns=['id_cpt_fin'])\n",
    "    listAffectation.append(df_linearisee_fin)     \n",
    "    pt_traites+=list(dico_ligne_pt.keys())\n",
    "df_linearisee_fin_glob=pd.concat(listAffectation)"
   ]
  },
  {
   "cell_type": "code",
   "execution_count": null,
   "metadata": {},
   "outputs": [],
   "source": [
    "gdf_lin.merge(df_linearisee_fin_glob.rename_axis('id_ign').reset_index(), on='id_ign').to_file(\n",
    "    r'C:\\Users\\martin.schoreisz\\Documents\\AffairesEnCours\\OTV\\17\\temp_linearisation\\affectationV1.shp')"
   ]
  },
  {
   "cell_type": "code",
   "execution_count": 121,
   "metadata": {},
   "outputs": [
    {
     "data": {
      "text/plain": [
       "True"
      ]
     },
     "execution_count": 121,
     "metadata": {},
     "output_type": "execute_result"
    }
   ],
   "source": [
    "'17-D129E2-2+635' in gdf_creation_idcpt_ok.id_cpt_pt.unique()"
   ]
  },
  {
   "cell_type": "code",
   "execution_count": null,
   "metadata": {},
   "outputs": [],
   "source": []
  }
 ],
 "metadata": {
  "kernelspec": {
   "display_name": "Python 3",
   "language": "python",
   "name": "python3"
  },
  "language_info": {
   "codemirror_mode": {
    "name": "ipython",
    "version": 3
   },
   "file_extension": ".py",
   "mimetype": "text/x-python",
   "name": "python",
   "nbconvert_exporter": "python",
   "pygments_lexer": "ipython3",
   "version": "3.8.6"
  }
 },
 "nbformat": 4,
 "nbformat_minor": 4
}
