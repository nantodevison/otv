{
 "cells": [
  {
   "cell_type": "markdown",
   "metadata": {},
   "source": [
    "# LINEARISATION"
   ]
  },
  {
   "cell_type": "code",
   "execution_count": 1,
   "metadata": {},
   "outputs": [
    {
     "name": "stderr",
     "output_type": "stream",
     "text": [
      "c:\\users\\marti\\appdata\\local\\programs\\python\\python38\\lib\\site-packages\\geopandas\\_compat.py:84: UserWarning: The Shapely GEOS version (3.4.3-CAPI-1.8.3 r4285) is incompatible with the GEOS version PyGEOS was compiled with (3.8.1-CAPI-1.13.3). Conversions between both will be slow.\n",
      "  warnings.warn(\n"
     ]
    }
   ],
   "source": [
    "%load_ext autoreload\n",
    "%autoreload 2\n",
    "import sys #c'est pas propre mais pour le moment pour importer mes modules perso dans le notebook je ne sais pas faire\n",
    "sys.path.append(r'C:\\Users\\marti\\git\\Outils\\Outils\\Martin_Perso')\n",
    "sys.path.append(r'C:\\Users\\marti\\git\\otv\\otv\\Transfert_Donnees')\n",
    "import agrege_troncon as at\n",
    "from Base_BdTopo.Import_outils import *\n",
    "from Base_BdTopo.Rond_points import *\n",
    "from Base_BdTopo.Regroupement_correspondance import *\n",
    "from Outils import creer_graph\n",
    "import Connexion_Transfert as ct\n",
    "import matplotlib, os, fiona\n",
    "import geopandas as gp\n",
    "import pandas as pd\n",
    "import numpy as np\n",
    "from datetime import datetime\n",
    "from collections import Counter\n",
    "from sqlalchemy import Table, Column, Integer, String, Float,MetaData\n",
    "from geoalchemy2 import Geometry\n",
    "from shapely.wkt import dumps\n",
    "from shapely import speedups\n",
    "pd.set_option('display.max_columns', 50)"
   ]
  },
  {
   "cell_type": "code",
   "execution_count": 2,
   "metadata": {},
   "outputs": [],
   "source": [
    "speedups.disable()"
   ]
  },
  {
   "cell_type": "markdown",
   "metadata": {},
   "source": [
    "## CD17\n",
    "Réutiliser les comptages importés grace au Notebooj Import_trafics (chap cd17) et les données de troncons elemnetaires issues du notebook agrege_troncon pour déterminer les nouveaux id_comptag "
   ]
  },
  {
   "cell_type": "code",
   "execution_count": 3,
   "metadata": {},
   "outputs": [],
   "source": [
    "#import des données de troncon elem (à modifier par imporft depuis Bdd quand le transfert vers Bdd en sortie d'agreg_troncon sera calé) et \n",
    "#si besoin jointure avec les données de trafic\n",
    "gdf_traf=gp.read_file(r'D:\\Boulot\\AffairesEnCours\\OTV\\17\\temp_linearisation\\troncelem2019_Bdt17_ed19_l.shp')\n",
    "gdf_lin=gp.read_file(r'D:\\Boulot\\AffairesEnCours\\OTV\\17\\temp_linearisation\\traf2019_bdt17_ed19_l.shp')\n",
    "gdf_traf=gdf_lin.merge(gdf_traf[['id_ign', 'idtronc']], on='id_ign')"
   ]
  },
  {
   "cell_type": "code",
   "execution_count": 4,
   "metadata": {},
   "outputs": [],
   "source": [
    "#import des points de comptages depuis la Bdd\n",
    "with ct.ConnexionBdd('local_otv_gti', localisation='maison') as c :\n",
    "    rqt=\"select * from comptage.na_2010_2019_p where dep='17' and geom is not null and type_poste='ponctuel'\"\n",
    "    gdf_pt_cpt = gp.read_postgis(rqt, c.connexionPsy)\n",
    "#mise en forme attributs\n",
    "def convert_tmja(df) : \n",
    "    for annee in [a for a in range(2019, 2009,-1)]+['autr'] :\n",
    "        attr='tmja_'+str(annee)\n",
    "        if not pd.isnull(df[attr]) : \n",
    "            return (df[attr], annee)\n",
    "df_adj=gdf_pt_cpt.apply(lambda x : convert_tmja(x), axis=1,result_type='expand')\n",
    "df_adj.columns=['tmja_recent','annee_tmja_recent']\n",
    "gdf_pt_cpt=gdf_pt_cpt.merge(df_adj, left_index=True, right_index=True).rename(columns={'id_voie_d':'codevoie_d'})#[['id_comptag','geom','type_poste','tmja_recent','annee_tmja_recent' ]]"
   ]
  },
  {
   "cell_type": "code",
   "execution_count": 5,
   "metadata": {},
   "outputs": [],
   "source": [
    "#filtre des points ponctuels en été\n",
    "pt_pctuels_ete=gdf_pt_cpt.loc[gdf_pt_cpt['type_poste']=='ponctuel'].copy()\n",
    "def verif_ete(tmja_2015, obs_2015, tmja_2016, obs_2016,tmja_2017, obs_2017,tmja_2018, obs_2018) :\n",
    "    if tmja_2018 > 0 and not pd.isnull(obs_2018) :\n",
    "        return any([a in ['July','August']  for a in [pd.to_datetime(obs_2018.split(',')[1].split('-')[i], format='%d/%m/%Y').month_name()for i in [0,1]]])\n",
    "    elif tmja_2017 > 0 and not pd.isnull(obs_2017) :\n",
    "        return any([a in ['July','August']  for a in [pd.to_datetime(obs_2017.split(',')[1].split('-')[i], format='%d/%m/%Y').month_name()for i in [0,1]]])\n",
    "    elif tmja_2016 > 0 and not pd.isnull(obs_2016) :\n",
    "        return any([a in ['July','August']  for a in [pd.to_datetime(obs_2016.split(',')[1].split('-')[i], format='%d/%m/%Y').month_name()for i in [0,1]]])\n",
    "    elif tmja_2015 > 0 and not pd.isnull(obs_2015) :\n",
    "        return any([a in ['July','August']  for a in [pd.to_datetime(obs_2015.split(',')[1].split('-')[i], format='%d/%m/%Y').month_name()for i in [0,1]]])\n",
    "    else : return False\n",
    "pt_pctuels_ete['ete']=pt_pctuels_ete.apply(lambda x : verif_ete(x['tmja_2015'],x['obs_2015'], x['tmja_2016'], x['obs_2016'],\n",
    "                                                               x['tmja_2017'],x['obs_2017'], x['tmja_2018'], x['obs_2018']), axis=1)\n",
    "pt_pctuels_ete=pt_pctuels_ete.loc[~pt_pctuels_ete['ete']].copy()\n",
    "gdf_pt_cpt=gdf_pt_cpt.loc[gdf_pt_cpt.index.isin(pt_pctuels_ete.index.tolist()+gdf_pt_cpt.loc[gdf_pt_cpt['type_poste']!='ponctuel'].index.tolist())].copy()"
   ]
  },
  {
   "cell_type": "code",
   "execution_count": 6,
   "metadata": {},
   "outputs": [],
   "source": [
    "#croisement point et lignes (sur labase d'un buffer de 0.5m)\n",
    "gdf_pt_cpt.geometry=gdf_pt_cpt.buffer(0.5)\n",
    "gdf_traf_pt=gp.sjoin(gdf_traf,gdf_pt_cpt,how=\"left\", op='intersects' )[['id','id_ign','tmja', 'importance','numero','id_voie_d','sens','long_km','nature',\n",
    "            'id_comptag_left', 'idtronc', 'id_comptag_right','type_poste','tmja_recent','annee_tmja_recent','source','target', 'geometry']].rename(\n",
    "columns={'id_comptag_left':'id_cpt_lin','id_comptag_right': 'id_cpt_pt','tmja':'tmja_lin','id_voie_d':'codevoie_d',\n",
    "           'idtronc':'id_tronc_e'})"
   ]
  },
  {
   "cell_type": "code",
   "execution_count": 7,
   "metadata": {},
   "outputs": [],
   "source": [
    "#recherch des tronc_elem avec plusieurs points\n",
    "gdf_traf_pt_notna=gdf_traf_pt.loc[~gdf_traf_pt['id_cpt_pt'].isna()].copy()\n",
    "tronc_elem_pt_cpt=gdf_traf_pt_notna.sort_index().groupby('id_tronc_e').agg({'id_cpt_pt' : lambda x : tuple(x),\n",
    "                                       'type_poste' : lambda x : tuple(x),\n",
    "                                        'tmja_recent' : lambda x : tuple(x),\n",
    "                                        'annee_tmja_recent' : lambda x : tuple(x)})\n",
    "trc_elem_multipt=tronc_elem_pt_cpt.loc[tronc_elem_pt_cpt.apply(lambda x : len(x['id_cpt_pt'])>1,axis=1)].copy()"
   ]
  },
  {
   "cell_type": "code",
   "execution_count": 8,
   "metadata": {},
   "outputs": [],
   "source": [
    "#mise en forme des trocnon supportant plusieurs point : \n",
    "    #gestion des trocnon avec plusieurs points differntes (on garde le ponctuele de trafic max de l'annee la plus recente si que des ponctuels, sinon le tournant ou permanent)\n",
    "    #verif de la validite des points en comprant les valeurs de trafic entre elle: si un des trafics est sup 1000 et que la variation est sup 30 %, on n'affecte pas\n",
    "def cpt_final (type_poste,id_comptag_right,tmja_recent,annee_tmja_recent ): \n",
    "    tmja_recent=np.array(tmja_recent) \n",
    "    id_comptag_right=np.array(id_comptag_right)\n",
    "    mask_tmja = (tmja_recent==max(tmja_recent))\n",
    "    if all(np.unique(type_poste)=='ponctuel') :\n",
    "        mask_annee=np.array(annee_tmja_recent)==max(annee_tmja_recent)\n",
    "        if all(mask_annee):#il n'y a qu'une seule annee\n",
    "            if all(mask_tmja) : \n",
    "                return id_comptag_right[0].tolist()\n",
    "            else : \n",
    "                return id_comptag_right[mask_tmja][0].tolist()\n",
    "        else : #il y a pluseurs annee dc on ne garde que le max de la bonne annee\n",
    "            return id_comptag_right[mask_tmja].tolist()\n",
    "    else :\n",
    "        mask_type_poste=np.isin(np.array(type_poste),['permanent', 'tournant'])#on trouve le(s) poste(s) non ponctuel\n",
    "        return id_comptag_right[mask_type_poste][0].tolist()\n",
    "#verif de la validite des points en comprant les valeurs de trafic entre elle: si un des trafics est sup 1000 et que la variation est sup 30 %, on n'affecte pas\n",
    "trc_elem_multipt['id_cpt_final']=trc_elem_multipt.apply(lambda x: cpt_final(\n",
    "    x['type_poste'], x['id_cpt_pt'], x['tmja_recent'], x['annee_tmja_recent']), axis=1)\n",
    "trc_elem_multipt['valide']=trc_elem_multipt.apply(lambda x : (False if abs(100-(min(x['tmja_recent'])/max(x['tmja_recent'])*100))>30 and\n",
    "                                                                    max(x['tmja_recent'])>1000 and all(np.unique(x['type_poste'])=='ponctuel') else True), axis=1)\n",
    "trc_elem_multipt=trc_elem_multipt.loc[trc_elem_multipt['valide']].copy()"
   ]
  },
  {
   "cell_type": "code",
   "execution_count": 9,
   "metadata": {},
   "outputs": [],
   "source": [
    "#obtention de la df des id_comptage_pt par tronc_elem\n",
    "tronc_elem_pt_cpt.update(trc_elem_multipt.drop('id_cpt_pt',axis=1).rename(columns={'id_cpt_final':'id_cpt_pt'})[['id_cpt_pt']])\n",
    "tronc_elem_pt_cpt['id_cpt_pt']=tronc_elem_pt_cpt.id_cpt_pt.apply(lambda x : x[0] if (isinstance(x, tuple) or \n",
    "                                                       isinstance(x, list) and x) else x) #uniformisation du type de données en str"
   ]
  },
  {
   "cell_type": "code",
   "execution_count": 10,
   "metadata": {},
   "outputs": [],
   "source": [
    "#transfert de l'id_cpt_pt final dans la df source\n",
    "gdf_traf_pt_final=gdf_traf_pt[['id_ign','importance','numero', 'id_cpt_lin','tmja_lin', 'id_tronc_e','geometry','source','target']].merge(tronc_elem_pt_cpt[['id_cpt_pt']], how='left',left_on='id_tronc_e', right_index=True)"
   ]
  },
  {
   "cell_type": "code",
   "execution_count": 11,
   "metadata": {},
   "outputs": [],
   "source": [
    "#pour info, ligne ign non linéarisée qui le deviennent\n",
    "gdf_creation_idcpt=gdf_traf_pt_final.loc[(gdf_traf_pt_final['id_cpt_lin'].isna()) & (~gdf_traf_pt_final['id_cpt_pt'].isna())].copy()\n",
    "#pour info, ligne ign linéarisée qui le sont toujours, mais peut avec un nouvel id_ign\n",
    "gdf_variation_idcpt=gdf_traf_pt_final.loc[(~gdf_traf_pt_final['id_cpt_lin'].isna()) & (~gdf_traf_pt_final['id_cpt_pt'].isna()) & (gdf_traf_pt_final['id_cpt_pt']!=gdf_traf_pt_final['id_cpt_lin'])].sort_values('id_cpt_lin')"
   ]
  },
  {
   "cell_type": "markdown",
   "metadata": {},
   "source": [
    "# mettre à jour les lignes des troncons qui appartiennent à des id_comptag qui supporte un nouvel id_cpt\n",
    "**IL FAUT METTRE EN FORME LES 2 BLOCS CI-DESSSOUS EN FONCTION DANS LES MODULES QUI VONT BIEN <br> <br> ATTENTION DES ERREURS DE LINEARISATION EN 2016 :** <br>\n",
    "- propagation non arreté à la 1èer intersection mais à la deuxième (à l'Est de l'id_comptag) : TRONROUT0000000032986160 linearisee avec 17-D129-57+510\n",
    "- rd point linéarisé mais aucun autre troncon avec lui : 17-D202-9+950 tout seul sur le rd point entouré par du 17-D202-10+400 TRONROUT0000000032864482\n",
    "- affectation des points aux lignes : vérifier qu'au moins 1 lignes dans la distance eéquivalente au buffer présete bien le même numero de voie que le compteur\n",
    "TRONROUT0000000032877685 avec 17-D107-62+282 "
   ]
  },
  {
   "cell_type": "code",
   "execution_count": null,
   "metadata": {},
   "outputs": [],
   "source": [
    "%reset_selective -f df_linearisee_fin_glob\n",
    "#on ne prend que les points de comptages présentant le mm nom de voie\n",
    "gdf_variation_idcpt_ok=gdf_variation_idcpt.loc[gdf_variation_idcpt.apply(lambda x : \n",
    "                        x['id_cpt_lin'].split('-')[1] == x['id_cpt_pt'].split('-')[1],axis=1)].copy()\n",
    "\n",
    "#isoler les lignes qui sont relaticves à l'id_cpt_lin et trouver tout les points concerné. si que 1 point de type permanent on passe\n",
    "for id_cpt_a_test in gdf_variation_idcpt_ok.id_cpt_lin.unique() : \n",
    "    print(id_cpt_a_test)\n",
    "#id_cpt_a_test='17-D939-88+0'\n",
    "    lgn_idcpt_lin=gdf_traf.loc[gdf_traf['id_comptag']==id_cpt_a_test].copy()\n",
    "    liste_new_pt=gdf_variation_idcpt_ok.loc[gdf_variation_idcpt_ok['id_cpt_lin']==id_cpt_a_test].id_cpt_pt.unique()\n",
    "    if (gdf_pt_cpt.loc[gdf_pt_cpt.id_comptag.isin(liste_new_pt)].type_poste=='permanent').all() :\n",
    "        print('que permanent')\n",
    "        continue\n",
    "\n",
    "    #trouver la ligne la plus proche relative à chaque nouveau point\n",
    "    gdf_variation_idcpt_ok_geom=gdf_variation_idcpt_ok.merge(gdf_pt_cpt[['id_comptag', 'geom']], left_on='id_cpt_pt', right_on='id_comptag').rename(columns={\n",
    "        'geom' : 'geom_id_cpt_pt'}) # pour trouver la ligne qui suppotrt ele pt j'ai besoin da le distance au pt de comptage\n",
    "    gdf_variation_idcpt_ok_geom['dist_id_cpt']=gdf_variation_idcpt_ok_geom.apply(lambda x : x['geometry'].distance(x['geom_id_cpt_pt']), axis=1)\n",
    "\n",
    "    t1=gdf_variation_idcpt_ok_geom.loc[gdf_variation_idcpt_ok_geom['id_cpt_pt'].isin(liste_new_pt)]\n",
    "    df_lgn_proche_cpt=t1.loc[t1.groupby(['id_cpt_pt'])['dist_id_cpt'].transform(min)==t1['dist_id_cpt']]\n",
    "    #si la distance minimale entre le nouveau point et le trocnon qui le supporte est sup à 0.5 (paramètre du buffer au dessus) ça veut dire que pb, dc on passe\n",
    "    if (df_lgn_proche_cpt.dist_id_cpt>0.5).all() : \n",
    "        print('pb distance')\n",
    "        continue\n",
    "\n",
    "    #trouver les lignes qui intersectent celles de l'idcompatg etudie dont l'importance est = ou sup\n",
    "        #list des source / target de l'idcomptage\n",
    "    list_src_tgt=lgn_idcpt_lin.source.tolist()+lgn_idcpt_lin.target.tolist()\n",
    "    df_lgn_interscts=gdf_traf.loc[((gdf_traf['source'].isin(list_src_tgt)) | (gdf_traf['target'].isin(list_src_tgt))) &\n",
    "                                    (~gdf_traf.index.isin(lgn_idcpt_lin.index.tolist()))].copy()\n",
    "    df_lgn_interscts_merge=gp.sjoin(df_lgn_interscts,lgn_idcpt_lin, op='intersects')\n",
    "    df_lgn_interscts_filtre=df_lgn_interscts_merge.loc[df_lgn_interscts_merge.apply(lambda x : int(x['importance_left']) <= int(x['importance_right']), axis=1)].copy()\n",
    "    nom_attribut=[a for a  in df_lgn_interscts_filtre.columns if a[-4:]=='left']\n",
    "    df_lgn_interscts_fin=df_lgn_interscts_filtre.rename(columns={n : n[:-5] for n in nom_attribut})[[c for c in df_lgn_interscts.columns]]\n",
    "\n",
    "    #faire un graph avec les lignes de l'id_cpt_lin et celles qui interectent avec la bonne importance\n",
    "        #regrouper l'ensemble des lignes dans une df \n",
    "    ligne_pr_graph=gdf_traf.loc[gdf_traf['id_ign'].isin(df_lgn_interscts.id_ign.tolist()+lgn_idcpt_lin.id_ign.tolist())]\n",
    "    ligne_pr_graph_transfert=ligne_pr_graph.copy()\n",
    "    ligne_pr_graph_transfert['geom']=ligne_pr_graph_transfert.apply(lambda x : dumps(x.geometry), axis=1)\n",
    "\n",
    "    #preparer le lineaire pour graph\n",
    "    ligne_pr_graph=pd.concat([df_lgn_interscts_fin, lgn_idcpt_lin], sort=False, axis=0)\n",
    "        #gestion des doucblons id_ign\n",
    "    ligne_pr_graph.drop_duplicates('id_ign', inplace=True)\n",
    "        #si doublons id restant on remplace l'id\n",
    "    if ~ligne_pr_graph.loc[ligne_pr_graph.duplicated('id', keep=False)].empty : \n",
    "        ligne_pr_graph=ligne_pr_graph.reset_index().drop('index', axis=1).copy()\n",
    "        ligne_pr_graph.id=ligne_pr_graph.index\n",
    "    ligne_pr_graph_transfert=ligne_pr_graph.copy()\n",
    "    ligne_pr_graph_transfert['geom']=ligne_pr_graph_transfert.apply(lambda x : dumps(x.geometry), axis=1)\n",
    "\n",
    "    #faire un graph à partir de ces lignes\n",
    "    bdd='gti_otv'\n",
    "    schema='public'\n",
    "    table='graph_temp'\n",
    "    table_vertex='graph_temp_vertices_pgr'\n",
    "    with ct.ConnexionBdd(bdd) as c:\n",
    "        metadata = MetaData(schema=schema)\n",
    "        #supprimer table si elle existe\n",
    "        rqt=f\"drop table if exists {schema}.{table} ; drop table if exists {schema}.{table_vertex} \"\n",
    "        c.sqlAlchemyConn.execute(rqt)\n",
    "\n",
    "        #creer nouvelle table\n",
    "        graph = Table('graph_temp', metadata,\n",
    "            Column('id', Integer, primary_key=True),\n",
    "            Column('id_ign', String),\n",
    "            Column('importance', String),\n",
    "            Column('numero', String),\n",
    "            Column('nature', String),\n",
    "            Column('codevoie_d', String),\n",
    "            Column('sens', String),\n",
    "            Column('source', Integer),\n",
    "            Column('target', Integer),\n",
    "            Column('long_km', Float),\n",
    "            Column('geom',Geometry()))\n",
    "        metadata.create_all(c.engine)\n",
    "        ligne_pr_graph_transfert[['id','id_ign','importance','numero','nature','codevoie_d','source','sens','target','long_km','geom']].to_sql(\n",
    "            table,c.sqlAlchemyConn,schema=schema,if_exists='append', index=False )\n",
    "        #creer le graph\n",
    "        rqt_creation_graph=f\"\"\"update {schema}.{table} set geom=st_Multi(st_setsrid(geom,2154)), source=null, target=null ; \n",
    "                             select pgr_createTopology('{schema}.{table}', 0.001,'geom')\"\"\"\n",
    "        c.sqlAlchemyConn.execute(rqt_creation_graph)\n",
    "        rqt_anlyse_graph=f\"SELECT pgr_analyzeGraph('{schema}.{table}', 0.001,\\'geom\\')\"\n",
    "        c.curs.execute(rqt_anlyse_graph)#je le fait avec psycopg2 car avec sql acchemy ça ne passe pas\n",
    "        c.connexionPsy.commit()\n",
    "\n",
    "    #appel des fonction de carac des lignes \n",
    "    df=import_donnes_base('gti_otv','public', 'graph_temp','graph_temp_vertices_pgr')\n",
    "    df2_chaussees=df.loc[df.nature.isin(['Autoroute', 'Quasi-autoroute', 'Route à 2 chaussées'])]\n",
    "    df_avec_rd_pt,carac_rd_pt,lign_entrant_rdpt=identifier_rd_pt(df)\n",
    "    df_lignes=df_avec_rd_pt.set_index('id_ign')#mettre l'id_ign en index\n",
    "\n",
    "    #ensuite l'idée c'est de créer un dico avec pr chauqe point de comptage que l'on souhaite lineariser le recenesmeent de  : \n",
    "    #la ligne qui supporte le pt, le numero du tronc elem, les lignes qui compose le tronc elem\n",
    "    #on faitd'abords les points ponctuels, puis le permanent pour pouvoir les ordonner avec un drapeau\n",
    "    dico_ligne_pt_base=df_lgn_proche_cpt.drop_duplicates(['id_cpt_lin','id_cpt_pt' ])[['id_cpt_pt',\n",
    "                            'id_ign','id_tronc_e']].set_index('id_cpt_pt').to_records()\n",
    "    dico_ligne_pt={k[0] : {'ligne_base': k[1],'trc_elem':k[2],'lgn_trc_elem' : gdf_traf_pt.loc[(gdf_traf_pt['id_tronc_e']==k[2]) & \n",
    "                                                                            (gdf_traf_pt.id_ign.isin(lgn_idcpt_lin.id_ign.tolist()))].id_ign.tolist(), 'priorite':2} \n",
    "                   for k in dico_ligne_pt_base}\n",
    "    dico_ligne_pt[id_cpt_a_test]={'ligne_base' : gdf_traf_pt.loc[(gdf_traf_pt['type_poste'].isin(['permanent','tournant'])) & \n",
    "                                                                (gdf_traf_pt['id_cpt_lin']==id_cpt_a_test)].id_ign.values[0],\n",
    "                                 'trc_elem':gdf_traf_pt.loc[(gdf_traf_pt['type_poste'].isin(['permanent','tournant'])) & \n",
    "                                                                (gdf_traf_pt['id_cpt_lin']==id_cpt_a_test)].id_tronc_e.values[0], \n",
    "                                 'lgn_trc_elem' : gdf_traf_pt.loc[(gdf_traf_pt['id_tronc_e']==gdf_traf_pt.loc[(gdf_traf_pt['type_poste'].isin(\n",
    "                                     ['permanent','tournant'])) & (gdf_traf_pt['id_cpt_lin']==id_cpt_a_test)].id_tronc_e.values[0]) & \n",
    "                   (gdf_traf_pt['id_ign'].isin(df_lignes.index.to_list()))].id_ign.tolist(),\n",
    "                                 'priorite':1}\n",
    "        #dico des lignes relatives a un autre comptage\n",
    "    dico_lign_cpt_pct={k:[a for kd in dico_ligne_pt.keys() if kd!=k for a in dico_ligne_pt[kd]['lgn_trc_elem']] for k in dico_ligne_pt.keys()}\n",
    "\n",
    "    #attention, la fonction regrouper_troncon ne marche pas si la ligne de base est un rd point.\n",
    "    #il faut dc vérifier ce point et dans le cas où ça arrive prendre un ligne des lgn_trc_elem qui ne soit pas sur un rdpoint\n",
    "    if not carac_rd_pt.empty : \n",
    "        list_id_ign_rd_pt=[a for l_rdpt in carac_rd_pt.id_ign_rdpt.tolist() for a in l_rdpt]\n",
    "        for k in dico_ligne_pt.keys() : \n",
    "            if dico_ligne_pt[k]['ligne_base'] in list_id_ign_rd_pt : \n",
    "                dico_ligne_pt[k]['ligne_base']=[e for e in dico_ligne_pt[k]['lgn_trc_elem'] if e not in list_id_ign_rd_pt][0]\n",
    "\n",
    "    #pour chaque ligne : on fait tourner la fonction de tronc elem à partir du graph avec les importance sup ou égale, \n",
    "    #d'abord pour le cpt permanent, ensuite pour les autres, avec prise necompte des lignes des tronc elem des autres compteurs. \n",
    "        #list des id_ign des tronc_elem\n",
    "    liste_id_ign_te=[a  for k, v in dico_ligne_pt.items() for a in v['lgn_trc_elem']]\n",
    "    lignes_traitees=[]\n",
    "        #utilisret les fnctions de carac\n",
    "    try : \n",
    "        for k in sorted(dico_ligne_pt.keys(), key=lambda x: (dico_ligne_pt[x]['priorite'])): \n",
    "            ligne_comp=[x for x in regrouper_troncon([dico_ligne_pt[k]['ligne_base']],df_avec_rd_pt,carac_rd_pt, df2_chaussees,\n",
    "                                                       dico_lign_cpt_pct[k]+lignes_traitees)[0].id.tolist() \n",
    "                        if x in df_lignes.index.tolist()]\n",
    "            #print(f\"id_cpt : {k},'\\n',lignes_traitees : {lignes_traitees},'\\n', lignes de base : {ligne_comp}\")\n",
    "            lignes_traitees+=ligne_comp\n",
    "            dico_ligne_pt[k]['lignes_comp_base']=[a for a in ligne_comp if a in lgn_idcpt_lin.id_ign.to_list()]\n",
    "    except KeyError : \n",
    "        print(f'pb sur id_comptag : {id_cpt_a_test}')\n",
    "\n",
    "    #a ce stade, si le cpt perm est séparé par une voie d'importance sup ou =, il y a discontinuité, dc il faut \n",
    "        #-relevé les discontinuite\n",
    "    ids_affectes=[a for k in dico_ligne_pt.keys() for a in dico_ligne_pt[k]['lignes_comp_base']+dico_ligne_pt[k]['lgn_trc_elem']]\n",
    "    df_non_affecte=lgn_idcpt_lin.loc[~lgn_idcpt_lin.id_ign.isin(ids_affectes)]\n",
    "\n",
    "    #tant que des discont existent\n",
    "    while not df_non_affecte.empty : \n",
    "        for k in sorted(dico_ligne_pt.keys(), key=lambda x: (dico_ligne_pt[x]['priorite'])):\n",
    "            #discontinuité qui touche le cpt : \n",
    "            list_ids_cpt=list(set(dico_ligne_pt[k]['lignes_comp_base']+dico_ligne_pt[k]['lgn_trc_elem']))\n",
    "            src_tgt_affecte=(lgn_idcpt_lin.loc[lgn_idcpt_lin.id_ign.isin(list_ids_cpt)].source.tolist() + \n",
    "                    lgn_idcpt_lin.loc[lgn_idcpt_lin.id_ign.isin(list_ids_cpt)].target.tolist() )\n",
    "            ids_tch_cpt=df_non_affecte.loc[(df_non_affecte.source.isin(src_tgt_affecte)) | (df_non_affecte.target.isin(src_tgt_affecte))].id_ign.tolist()\n",
    "            if not ids_tch_cpt :\n",
    "                continue\n",
    "            print (k, ids_tch_cpt)\n",
    "            #pour chaque ligne on récupère tout les troncons elem et on ajoute au dico\n",
    "            try : \n",
    "                ids_a_ajouter=[a for b in [regrouper_troncon([e],df_avec_rd_pt,carac_rd_pt, df2_chaussees,\n",
    "                 ids_affectes)[0].id.tolist() for e in ids_tch_cpt] for a in b]\n",
    "            except PasAffectationError :#dans le cas par exemple où tout les lignes qui restent sont des rd ppoint\n",
    "                if (~df_non_affecte.id_rdpt.isna()).all() and len(df_non_affecte.id_rdpt.unique())==1 : \n",
    "                    ids_a_ajouter=df_non_affecte.id_ign.tolist()\n",
    "            dico_ligne_pt[k]['lignes_comp_base']+=ids_a_ajouter\n",
    "            ids_affectes=[a for k in dico_ligne_pt.keys() for a in dico_ligne_pt[k]['lignes_comp_base']+dico_ligne_pt[k]['lgn_trc_elem']]\n",
    "            df_non_affecte=lgn_idcpt_lin.loc[~lgn_idcpt_lin.id_ign.isin(ids_affectes)]\n",
    "\n",
    "    # mettre en forme et creation df de correspondance finale : \n",
    "    df_linearisee=pd.DataFrame(index=dico_ligne_pt.keys(), data=dico_ligne_pt.values())\n",
    "    df_linearisee['lignes_comp_fin']=df_linearisee.apply(lambda x : x['lignes_comp_base'] + x['lgn_trc_elem'], axis=1 )\n",
    "    dico_inverse=df_linearisee[['lignes_comp_fin']].to_dict()\n",
    "    dico_inverse={a:k   for k, val  in dico_inverse['lignes_comp_fin'].items() for a in val}\n",
    "    df_linearisee_fin=pd.DataFrame(index=dico_inverse.keys(), data=dico_inverse.values(), columns=['id_cpt_fin'])\n",
    "\n",
    "    try : \n",
    "        df_linearisee_fin_glob=pd.concat([df_linearisee_fin_glob,df_linearisee_fin], axis=0, sort=False)\n",
    "    except NameError : \n",
    "        df_linearisee_fin_glob=df_linearisee_fin.copy()\n",
    "df_linearisee_fin_glob.to_csv(r'Q:\\DAIT\\TI\\DREAL33\\2018\\C18SA00003_OTR-linearisation_NA_(JM)\\Production\\Travail\\Donnees_produites\\fichiers_temp_travail\\test_lin_pt_existant.csv')"
   ]
  },
  {
   "cell_type": "markdown",
   "metadata": {},
   "source": [
    "# pour les nouveaux points à linéariser \n",
    "**L'idée c'est d'isoler la voie concernée, en ne conservant que le troncons qui n'ont pas d'id_comptage. ensuite on fait le tour de tout les pt dispo, on crée un graph sur la base du numero de voie et des troncon qui intersectent et qui soit ont une importance sup ou =, soit sont compté. Puis on propage sur ce graph** <br> <br>\n",
    "**ATTENTION DES ERREURS DE LINEARISATION EN 2016 :** <br>\n",
    "- propagation non arreté à la 1èer intersection mais à la deuxième (à l'Est de l'id_comptag) : TRONROUT0000000032986160 linearisee avec 17-D129-57+510\n",
    "- rd point linéarisé mais aucun autre troncon avec lui : 17-D202-9+950 tout seul sur le rd point entouré par du 17-D202-10+400 TRONROUT0000000032864482\n",
    "- affectation des points aux lignes : vérifier qu'au moins 1 lignes dans la distance eéquivalente au buffer présete bien le même numero de voie que le compteur\n",
    "TRONROUT0000000032877685 avec 17-D107-62+282 "
   ]
  },
  {
   "cell_type": "code",
   "execution_count": 35,
   "metadata": {},
   "outputs": [],
   "source": [
    "#%reset_selective -f df_linearisee_fin_glob\n",
    "\n",
    "#on ne garde que les points relatif à leur voie pour les départementale ou nationale ou autoroute\n",
    "gdf_creation_idcpt_ok=gdf_creation_idcpt.loc[gdf_creation_idcpt.apply(lambda x : x['numero']==x['id_cpt_pt'].split('-')[1] if x['id_cpt_pt'][:2]=='17' else True,axis=1)].copy()"
   ]
  },
  {
   "cell_type": "code",
   "execution_count": 53,
   "metadata": {},
   "outputs": [
    {
     "name": "stdout",
     "output_type": "stream",
     "text": [
      "17-D141E4-1+385\n"
     ]
    },
    {
     "name": "stderr",
     "output_type": "stream",
     "text": [
      "c:\\users\\marti\\appdata\\local\\programs\\python\\python38\\lib\\site-packages\\geopandas\\geodataframe.py:830: UserWarning: Geometry column does not contain geometry.\n",
      "  warnings.warn(\"Geometry column does not contain geometry.\")\n"
     ]
    },
    {
     "name": "stdout",
     "output_type": "stream",
     "text": [
      "creer_graph : donnees mise en forme, connexion ouverte ; 2020-12-10 16:13:06.745296\n",
      "creer_graph : donnees transferees dans la base postgis ; 2020-12-10 16:13:06.765248\n",
      "creer_graph : geometrie modifiee ; 2020-12-10 16:13:06.780413\n",
      "creer_graph : topologie cree ; 2020-12-10 16:13:06.853569\n",
      "creer_graph : graph cree ; 2020-12-10 16:13:06.902463\n"
     ]
    },
    {
     "name": "stderr",
     "output_type": "stream",
     "text": [
      "c:\\users\\marti\\appdata\\local\\programs\\python\\python38\\lib\\site-packages\\sqlalchemy\\dialects\\postgresql\\base.py:3130: SAWarning: Did not recognize type 'xml' of column 'metadata'\n",
      "  util.warn(\n",
      "c:\\users\\marti\\appdata\\local\\programs\\python\\python38\\lib\\site-packages\\sqlalchemy\\dialects\\postgresql\\base.py:3130: SAWarning: Did not recognize type 'xml' of column 'fileid'\n",
      "  util.warn(\n",
      "c:\\users\\marti\\appdata\\local\\programs\\python\\python38\\lib\\site-packages\\sqlalchemy\\dialects\\postgresql\\base.py:3130: SAWarning: Did not recognize type 'xml' of column 'parentid'\n",
      "  util.warn(\n"
     ]
    },
    {
     "name": "stdout",
     "output_type": "stream",
     "text": [
      "0 2020-12-10 16:13:07.311122 nb lignes traitees : 0\n",
      "17-D215E2-1+650\n"
     ]
    },
    {
     "name": "stderr",
     "output_type": "stream",
     "text": [
      "c:\\users\\marti\\appdata\\local\\programs\\python\\python38\\lib\\site-packages\\geopandas\\geodataframe.py:830: UserWarning: Geometry column does not contain geometry.\n",
      "  warnings.warn(\"Geometry column does not contain geometry.\")\n"
     ]
    },
    {
     "name": "stdout",
     "output_type": "stream",
     "text": [
      "creer_graph : donnees mise en forme, connexion ouverte ; 2020-12-10 16:13:07.671638\n",
      "creer_graph : donnees transferees dans la base postgis ; 2020-12-10 16:13:07.689680\n",
      "creer_graph : geometrie modifiee ; 2020-12-10 16:13:07.704086\n",
      "creer_graph : topologie cree ; 2020-12-10 16:13:07.776055\n",
      "creer_graph : graph cree ; 2020-12-10 16:13:07.825946\n"
     ]
    },
    {
     "name": "stderr",
     "output_type": "stream",
     "text": [
      "c:\\users\\marti\\appdata\\local\\programs\\python\\python38\\lib\\site-packages\\sqlalchemy\\dialects\\postgresql\\base.py:3130: SAWarning: Did not recognize type 'xml' of column 'metadata'\n",
      "  util.warn(\n",
      "c:\\users\\marti\\appdata\\local\\programs\\python\\python38\\lib\\site-packages\\sqlalchemy\\dialects\\postgresql\\base.py:3130: SAWarning: Did not recognize type 'xml' of column 'fileid'\n",
      "  util.warn(\n",
      "c:\\users\\marti\\appdata\\local\\programs\\python\\python38\\lib\\site-packages\\sqlalchemy\\dialects\\postgresql\\base.py:3130: SAWarning: Did not recognize type 'xml' of column 'parentid'\n",
      "  util.warn(\n"
     ]
    },
    {
     "name": "stdout",
     "output_type": "stream",
     "text": [
      "0 2020-12-10 16:13:08.234527 nb lignes traitees : 0\n",
      "LaRoch-bd de cognehors--1.1428;46.1682\n"
     ]
    },
    {
     "name": "stderr",
     "output_type": "stream",
     "text": [
      "c:\\users\\marti\\appdata\\local\\programs\\python\\python38\\lib\\site-packages\\geopandas\\geodataframe.py:830: UserWarning: Geometry column does not contain geometry.\n",
      "  warnings.warn(\"Geometry column does not contain geometry.\")\n"
     ]
    },
    {
     "name": "stdout",
     "output_type": "stream",
     "text": [
      "creer_graph : donnees mise en forme, connexion ouverte ; 2020-12-10 16:13:08.645790\n",
      "creer_graph : donnees transferees dans la base postgis ; 2020-12-10 16:13:08.665591\n",
      "creer_graph : geometrie modifiee ; 2020-12-10 16:13:08.680234\n",
      "creer_graph : topologie cree ; 2020-12-10 16:13:08.767337\n",
      "creer_graph : graph cree ; 2020-12-10 16:13:08.817226\n"
     ]
    },
    {
     "name": "stderr",
     "output_type": "stream",
     "text": [
      "c:\\users\\marti\\appdata\\local\\programs\\python\\python38\\lib\\site-packages\\sqlalchemy\\dialects\\postgresql\\base.py:3130: SAWarning: Did not recognize type 'xml' of column 'metadata'\n",
      "  util.warn(\n",
      "c:\\users\\marti\\appdata\\local\\programs\\python\\python38\\lib\\site-packages\\sqlalchemy\\dialects\\postgresql\\base.py:3130: SAWarning: Did not recognize type 'xml' of column 'fileid'\n",
      "  util.warn(\n",
      "c:\\users\\marti\\appdata\\local\\programs\\python\\python38\\lib\\site-packages\\sqlalchemy\\dialects\\postgresql\\base.py:3130: SAWarning: Did not recognize type 'xml' of column 'parentid'\n",
      "  util.warn(\n"
     ]
    },
    {
     "name": "stdout",
     "output_type": "stream",
     "text": [
      "0 2020-12-10 16:13:09.327423 nb lignes traitees : 0\n",
      "LaRoch-r du paradis--1.1089;46.1976\n"
     ]
    },
    {
     "name": "stderr",
     "output_type": "stream",
     "text": [
      "c:\\users\\marti\\appdata\\local\\programs\\python\\python38\\lib\\site-packages\\geopandas\\geodataframe.py:830: UserWarning: Geometry column does not contain geometry.\n",
      "  warnings.warn(\"Geometry column does not contain geometry.\")\n"
     ]
    },
    {
     "name": "stdout",
     "output_type": "stream",
     "text": [
      "creer_graph : donnees mise en forme, connexion ouverte ; 2020-12-10 16:13:09.689317\n",
      "creer_graph : donnees transferees dans la base postgis ; 2020-12-10 16:13:09.712072\n",
      "creer_graph : geometrie modifiee ; 2020-12-10 16:13:09.730452\n",
      "creer_graph : topologie cree ; 2020-12-10 16:13:09.786831\n",
      "creer_graph : graph cree ; 2020-12-10 16:13:09.835738\n"
     ]
    },
    {
     "name": "stderr",
     "output_type": "stream",
     "text": [
      "c:\\users\\marti\\appdata\\local\\programs\\python\\python38\\lib\\site-packages\\sqlalchemy\\dialects\\postgresql\\base.py:3130: SAWarning: Did not recognize type 'xml' of column 'metadata'\n",
      "  util.warn(\n",
      "c:\\users\\marti\\appdata\\local\\programs\\python\\python38\\lib\\site-packages\\sqlalchemy\\dialects\\postgresql\\base.py:3130: SAWarning: Did not recognize type 'xml' of column 'fileid'\n",
      "  util.warn(\n",
      "c:\\users\\marti\\appdata\\local\\programs\\python\\python38\\lib\\site-packages\\sqlalchemy\\dialects\\postgresql\\base.py:3130: SAWarning: Did not recognize type 'xml' of column 'parentid'\n",
      "  util.warn(\n"
     ]
    },
    {
     "name": "stdout",
     "output_type": "stream",
     "text": [
      "0 2020-12-10 16:13:10.263267 nb lignes traitees : 0\n",
      "17-D106-3+20\n"
     ]
    },
    {
     "name": "stderr",
     "output_type": "stream",
     "text": [
      "c:\\users\\marti\\appdata\\local\\programs\\python\\python38\\lib\\site-packages\\geopandas\\geodataframe.py:830: UserWarning: Geometry column does not contain geometry.\n",
      "  warnings.warn(\"Geometry column does not contain geometry.\")\n"
     ]
    },
    {
     "name": "stdout",
     "output_type": "stream",
     "text": [
      "creer_graph : donnees mise en forme, connexion ouverte ; 2020-12-10 16:13:10.568375\n",
      "creer_graph : donnees transferees dans la base postgis ; 2020-12-10 16:13:10.636463\n",
      "creer_graph : geometrie modifiee ; 2020-12-10 16:13:10.659988\n",
      "creer_graph : topologie cree ; 2020-12-10 16:13:10.871792\n",
      "creer_graph : graph cree ; 2020-12-10 16:13:10.924682\n"
     ]
    },
    {
     "name": "stderr",
     "output_type": "stream",
     "text": [
      "c:\\users\\marti\\appdata\\local\\programs\\python\\python38\\lib\\site-packages\\sqlalchemy\\dialects\\postgresql\\base.py:3130: SAWarning: Did not recognize type 'xml' of column 'metadata'\n",
      "  util.warn(\n",
      "c:\\users\\marti\\appdata\\local\\programs\\python\\python38\\lib\\site-packages\\sqlalchemy\\dialects\\postgresql\\base.py:3130: SAWarning: Did not recognize type 'xml' of column 'fileid'\n",
      "  util.warn(\n",
      "c:\\users\\marti\\appdata\\local\\programs\\python\\python38\\lib\\site-packages\\sqlalchemy\\dialects\\postgresql\\base.py:3130: SAWarning: Did not recognize type 'xml' of column 'parentid'\n",
      "  util.warn(\n"
     ]
    },
    {
     "name": "stdout",
     "output_type": "stream",
     "text": [
      "0 2020-12-10 16:13:11.483971 nb lignes traitees : 0\n",
      "LaRoch-rue Francois personnat--1.1008;46.1043\n"
     ]
    },
    {
     "name": "stderr",
     "output_type": "stream",
     "text": [
      "c:\\users\\marti\\appdata\\local\\programs\\python\\python38\\lib\\site-packages\\geopandas\\geodataframe.py:830: UserWarning: Geometry column does not contain geometry.\n",
      "  warnings.warn(\"Geometry column does not contain geometry.\")\n"
     ]
    },
    {
     "name": "stdout",
     "output_type": "stream",
     "text": [
      "creer_graph : donnees mise en forme, connexion ouverte ; 2020-12-10 16:13:11.887264\n",
      "creer_graph : donnees transferees dans la base postgis ; 2020-12-10 16:13:11.903288\n",
      "creer_graph : geometrie modifiee ; 2020-12-10 16:13:11.916924\n",
      "creer_graph : topologie cree ; 2020-12-10 16:13:11.983758\n",
      "creer_graph : graph cree ; 2020-12-10 16:13:12.032656\n"
     ]
    },
    {
     "name": "stderr",
     "output_type": "stream",
     "text": [
      "c:\\users\\marti\\appdata\\local\\programs\\python\\python38\\lib\\site-packages\\sqlalchemy\\dialects\\postgresql\\base.py:3130: SAWarning: Did not recognize type 'xml' of column 'metadata'\n",
      "  util.warn(\n",
      "c:\\users\\marti\\appdata\\local\\programs\\python\\python38\\lib\\site-packages\\sqlalchemy\\dialects\\postgresql\\base.py:3130: SAWarning: Did not recognize type 'xml' of column 'fileid'\n",
      "  util.warn(\n",
      "c:\\users\\marti\\appdata\\local\\programs\\python\\python38\\lib\\site-packages\\sqlalchemy\\dialects\\postgresql\\base.py:3130: SAWarning: Did not recognize type 'xml' of column 'parentid'\n",
      "  util.warn(\n"
     ]
    },
    {
     "name": "stdout",
     "output_type": "stream",
     "text": [
      "0 2020-12-10 16:13:12.451738 nb lignes traitees : 0\n",
      "17-D127-7+300\n"
     ]
    },
    {
     "name": "stderr",
     "output_type": "stream",
     "text": [
      "c:\\users\\marti\\appdata\\local\\programs\\python\\python38\\lib\\site-packages\\geopandas\\geodataframe.py:830: UserWarning: Geometry column does not contain geometry.\n",
      "  warnings.warn(\"Geometry column does not contain geometry.\")\n"
     ]
    },
    {
     "name": "stdout",
     "output_type": "stream",
     "text": [
      "creer_graph : donnees mise en forme, connexion ouverte ; 2020-12-10 16:13:12.959294\n",
      "creer_graph : donnees transferees dans la base postgis ; 2020-12-10 16:13:13.040934\n",
      "creer_graph : geometrie modifiee ; 2020-12-10 16:13:13.062494\n",
      "creer_graph : topologie cree ; 2020-12-10 16:13:13.475362\n",
      "creer_graph : graph cree ; 2020-12-10 16:13:13.544201\n"
     ]
    },
    {
     "name": "stderr",
     "output_type": "stream",
     "text": [
      "c:\\users\\marti\\appdata\\local\\programs\\python\\python38\\lib\\site-packages\\sqlalchemy\\dialects\\postgresql\\base.py:3130: SAWarning: Did not recognize type 'xml' of column 'metadata'\n",
      "  util.warn(\n",
      "c:\\users\\marti\\appdata\\local\\programs\\python\\python38\\lib\\site-packages\\sqlalchemy\\dialects\\postgresql\\base.py:3130: SAWarning: Did not recognize type 'xml' of column 'fileid'\n",
      "  util.warn(\n",
      "c:\\users\\marti\\appdata\\local\\programs\\python\\python38\\lib\\site-packages\\sqlalchemy\\dialects\\postgresql\\base.py:3130: SAWarning: Did not recognize type 'xml' of column 'parentid'\n",
      "  util.warn(\n"
     ]
    },
    {
     "name": "stdout",
     "output_type": "stream",
     "text": [
      "0 2020-12-10 16:13:14.133167 nb lignes traitees : 0\n",
      "0 2020-12-10 16:13:14.284756 nb lignes traitees : 0\n",
      "0 2020-12-10 16:13:14.412415 nb lignes traitees : 0\n",
      "0 2020-12-10 16:13:14.536085 nb lignes traitees : 0\n",
      "0 2020-12-10 16:13:14.621859 nb lignes traitees : 0\n",
      "0 2020-12-10 16:13:14.693662 nb lignes traitees : 0\n",
      "0 2020-12-10 16:13:14.764473 nb lignes traitees : 0\n",
      "17-D137-83+500\n"
     ]
    },
    {
     "name": "stderr",
     "output_type": "stream",
     "text": [
      "c:\\users\\marti\\appdata\\local\\programs\\python\\python38\\lib\\site-packages\\geopandas\\geodataframe.py:830: UserWarning: Geometry column does not contain geometry.\n",
      "  warnings.warn(\"Geometry column does not contain geometry.\")\n"
     ]
    },
    {
     "name": "stdout",
     "output_type": "stream",
     "text": [
      "creer_graph : donnees mise en forme, connexion ouverte ; 2020-12-10 16:13:15.150128\n",
      "creer_graph : donnees transferees dans la base postgis ; 2020-12-10 16:13:15.179083\n",
      "creer_graph : geometrie modifiee ; 2020-12-10 16:13:15.196197\n",
      "creer_graph : topologie cree ; 2020-12-10 16:13:15.326835\n",
      "creer_graph : graph cree ; 2020-12-10 16:13:15.381710\n"
     ]
    },
    {
     "name": "stderr",
     "output_type": "stream",
     "text": [
      "c:\\users\\marti\\appdata\\local\\programs\\python\\python38\\lib\\site-packages\\sqlalchemy\\dialects\\postgresql\\base.py:3130: SAWarning: Did not recognize type 'xml' of column 'metadata'\n",
      "  util.warn(\n",
      "c:\\users\\marti\\appdata\\local\\programs\\python\\python38\\lib\\site-packages\\sqlalchemy\\dialects\\postgresql\\base.py:3130: SAWarning: Did not recognize type 'xml' of column 'fileid'\n",
      "  util.warn(\n",
      "c:\\users\\marti\\appdata\\local\\programs\\python\\python38\\lib\\site-packages\\sqlalchemy\\dialects\\postgresql\\base.py:3130: SAWarning: Did not recognize type 'xml' of column 'parentid'\n",
      "  util.warn(\n"
     ]
    },
    {
     "name": "stdout",
     "output_type": "stream",
     "text": [
      "0 2020-12-10 16:13:15.951983 nb lignes traitees : 0\n",
      "0 2020-12-10 16:13:16.105546 nb lignes traitees : 0\n",
      "0 2020-12-10 16:13:16.273077 nb lignes traitees : 0\n",
      "17-D119-20+860\n"
     ]
    },
    {
     "name": "stderr",
     "output_type": "stream",
     "text": [
      "c:\\users\\marti\\appdata\\local\\programs\\python\\python38\\lib\\site-packages\\geopandas\\geodataframe.py:830: UserWarning: Geometry column does not contain geometry.\n",
      "  warnings.warn(\"Geometry column does not contain geometry.\")\n"
     ]
    },
    {
     "name": "stdout",
     "output_type": "stream",
     "text": [
      "creer_graph : donnees mise en forme, connexion ouverte ; 2020-12-10 16:13:16.994856\n",
      "creer_graph : donnees transferees dans la base postgis ; 2020-12-10 16:13:17.047346\n",
      "creer_graph : geometrie modifiee ; 2020-12-10 16:13:17.065582\n",
      "creer_graph : topologie cree ; 2020-12-10 16:13:17.287071\n",
      "creer_graph : graph cree ; 2020-12-10 16:13:17.342952\n"
     ]
    },
    {
     "name": "stderr",
     "output_type": "stream",
     "text": [
      "c:\\users\\marti\\appdata\\local\\programs\\python\\python38\\lib\\site-packages\\sqlalchemy\\dialects\\postgresql\\base.py:3130: SAWarning: Did not recognize type 'xml' of column 'metadata'\n",
      "  util.warn(\n",
      "c:\\users\\marti\\appdata\\local\\programs\\python\\python38\\lib\\site-packages\\sqlalchemy\\dialects\\postgresql\\base.py:3130: SAWarning: Did not recognize type 'xml' of column 'fileid'\n",
      "  util.warn(\n",
      "c:\\users\\marti\\appdata\\local\\programs\\python\\python38\\lib\\site-packages\\sqlalchemy\\dialects\\postgresql\\base.py:3130: SAWarning: Did not recognize type 'xml' of column 'parentid'\n",
      "  util.warn(\n"
     ]
    },
    {
     "name": "stdout",
     "output_type": "stream",
     "text": [
      "0 2020-12-10 16:13:17.790789 nb lignes traitees : 0\n",
      "0 2020-12-10 16:13:17.863597 nb lignes traitees : 0\n",
      "0 2020-12-10 16:13:17.936402 nb lignes traitees : 0\n",
      "0 2020-12-10 16:13:18.023145 nb lignes traitees : 0\n",
      "17-D18-44+880\n"
     ]
    },
    {
     "name": "stderr",
     "output_type": "stream",
     "text": [
      "c:\\users\\marti\\appdata\\local\\programs\\python\\python38\\lib\\site-packages\\geopandas\\geodataframe.py:830: UserWarning: Geometry column does not contain geometry.\n",
      "  warnings.warn(\"Geometry column does not contain geometry.\")\n"
     ]
    },
    {
     "name": "stdout",
     "output_type": "stream",
     "text": [
      "creer_graph : donnees mise en forme, connexion ouverte ; 2020-12-10 16:13:18.366581\n",
      "creer_graph : donnees transferees dans la base postgis ; 2020-12-10 16:13:18.392960\n",
      "creer_graph : geometrie modifiee ; 2020-12-10 16:13:18.409314\n",
      "creer_graph : topologie cree ; 2020-12-10 16:13:18.527756\n",
      "creer_graph : graph cree ; 2020-12-10 16:13:18.578644\n"
     ]
    },
    {
     "name": "stderr",
     "output_type": "stream",
     "text": [
      "c:\\users\\marti\\appdata\\local\\programs\\python\\python38\\lib\\site-packages\\sqlalchemy\\dialects\\postgresql\\base.py:3130: SAWarning: Did not recognize type 'xml' of column 'metadata'\n",
      "  util.warn(\n",
      "c:\\users\\marti\\appdata\\local\\programs\\python\\python38\\lib\\site-packages\\sqlalchemy\\dialects\\postgresql\\base.py:3130: SAWarning: Did not recognize type 'xml' of column 'fileid'\n",
      "  util.warn(\n",
      "c:\\users\\marti\\appdata\\local\\programs\\python\\python38\\lib\\site-packages\\sqlalchemy\\dialects\\postgresql\\base.py:3130: SAWarning: Did not recognize type 'xml' of column 'parentid'\n",
      "  util.warn(\n"
     ]
    },
    {
     "name": "stdout",
     "output_type": "stream",
     "text": [
      "0 2020-12-10 16:13:19.037091 nb lignes traitees : 0\n",
      "17-D268-4+1\n"
     ]
    },
    {
     "name": "stderr",
     "output_type": "stream",
     "text": [
      "c:\\users\\marti\\appdata\\local\\programs\\python\\python38\\lib\\site-packages\\geopandas\\geodataframe.py:830: UserWarning: Geometry column does not contain geometry.\n",
      "  warnings.warn(\"Geometry column does not contain geometry.\")\n"
     ]
    },
    {
     "name": "stdout",
     "output_type": "stream",
     "text": [
      "creer_graph : donnees mise en forme, connexion ouverte ; 2020-12-10 16:13:19.369817\n",
      "creer_graph : donnees transferees dans la base postgis ; 2020-12-10 16:13:19.393074\n",
      "creer_graph : geometrie modifiee ; 2020-12-10 16:13:19.409653\n",
      "creer_graph : topologie cree ; 2020-12-10 16:13:19.508002\n",
      "creer_graph : graph cree ; 2020-12-10 16:13:19.558893\n"
     ]
    },
    {
     "name": "stderr",
     "output_type": "stream",
     "text": [
      "c:\\users\\marti\\appdata\\local\\programs\\python\\python38\\lib\\site-packages\\sqlalchemy\\dialects\\postgresql\\base.py:3130: SAWarning: Did not recognize type 'xml' of column 'metadata'\n",
      "  util.warn(\n",
      "c:\\users\\marti\\appdata\\local\\programs\\python\\python38\\lib\\site-packages\\sqlalchemy\\dialects\\postgresql\\base.py:3130: SAWarning: Did not recognize type 'xml' of column 'fileid'\n",
      "  util.warn(\n",
      "c:\\users\\marti\\appdata\\local\\programs\\python\\python38\\lib\\site-packages\\sqlalchemy\\dialects\\postgresql\\base.py:3130: SAWarning: Did not recognize type 'xml' of column 'parentid'\n",
      "  util.warn(\n"
     ]
    },
    {
     "name": "stdout",
     "output_type": "stream",
     "text": [
      "0 2020-12-10 16:13:19.993807 nb lignes traitees : 0\n",
      "17-D142-0+680\n"
     ]
    },
    {
     "name": "stderr",
     "output_type": "stream",
     "text": [
      "c:\\users\\marti\\appdata\\local\\programs\\python\\python38\\lib\\site-packages\\geopandas\\geodataframe.py:830: UserWarning: Geometry column does not contain geometry.\n",
      "  warnings.warn(\"Geometry column does not contain geometry.\")\n"
     ]
    },
    {
     "name": "stdout",
     "output_type": "stream",
     "text": [
      "creer_graph : donnees mise en forme, connexion ouverte ; 2020-12-10 16:13:20.616471\n",
      "creer_graph : donnees transferees dans la base postgis ; 2020-12-10 16:13:20.721259\n",
      "creer_graph : geometrie modifiee ; 2020-12-10 16:13:20.742398\n",
      "creer_graph : topologie cree ; 2020-12-10 16:13:21.200287\n",
      "creer_graph : graph cree ; 2020-12-10 16:13:21.269106\n"
     ]
    },
    {
     "name": "stderr",
     "output_type": "stream",
     "text": [
      "c:\\users\\marti\\appdata\\local\\programs\\python\\python38\\lib\\site-packages\\sqlalchemy\\dialects\\postgresql\\base.py:3130: SAWarning: Did not recognize type 'xml' of column 'metadata'\n",
      "  util.warn(\n",
      "c:\\users\\marti\\appdata\\local\\programs\\python\\python38\\lib\\site-packages\\sqlalchemy\\dialects\\postgresql\\base.py:3130: SAWarning: Did not recognize type 'xml' of column 'fileid'\n",
      "  util.warn(\n",
      "c:\\users\\marti\\appdata\\local\\programs\\python\\python38\\lib\\site-packages\\sqlalchemy\\dialects\\postgresql\\base.py:3130: SAWarning: Did not recognize type 'xml' of column 'parentid'\n",
      "  util.warn(\n"
     ]
    },
    {
     "name": "stdout",
     "output_type": "stream",
     "text": [
      "0 2020-12-10 16:13:21.889340 nb lignes traitees : 0\n",
      "0 2020-12-10 16:13:21.948183 nb lignes traitees : 0\n",
      "0 2020-12-10 16:13:22.013199 nb lignes traitees : 0\n",
      "0 2020-12-10 16:13:22.143870 nb lignes traitees : 0\n",
      "0 2020-12-10 16:13:22.236602 nb lignes traitees : 0\n",
      "17-D129-59+300\n"
     ]
    },
    {
     "name": "stderr",
     "output_type": "stream",
     "text": [
      "c:\\users\\marti\\appdata\\local\\programs\\python\\python38\\lib\\site-packages\\geopandas\\geodataframe.py:830: UserWarning: Geometry column does not contain geometry.\n",
      "  warnings.warn(\"Geometry column does not contain geometry.\")\n"
     ]
    },
    {
     "name": "stdout",
     "output_type": "stream",
     "text": [
      "creer_graph : donnees mise en forme, connexion ouverte ; 2020-12-10 16:13:22.712793\n",
      "creer_graph : donnees transferees dans la base postgis ; 2020-12-10 16:13:22.788693\n",
      "creer_graph : geometrie modifiee ; 2020-12-10 16:13:22.812706\n",
      "creer_graph : topologie cree ; 2020-12-10 16:13:23.179278\n",
      "creer_graph : graph cree ; 2020-12-10 16:13:23.240142\n"
     ]
    },
    {
     "name": "stderr",
     "output_type": "stream",
     "text": [
      "c:\\users\\marti\\appdata\\local\\programs\\python\\python38\\lib\\site-packages\\sqlalchemy\\dialects\\postgresql\\base.py:3130: SAWarning: Did not recognize type 'xml' of column 'metadata'\n",
      "  util.warn(\n",
      "c:\\users\\marti\\appdata\\local\\programs\\python\\python38\\lib\\site-packages\\sqlalchemy\\dialects\\postgresql\\base.py:3130: SAWarning: Did not recognize type 'xml' of column 'fileid'\n",
      "  util.warn(\n",
      "c:\\users\\marti\\appdata\\local\\programs\\python\\python38\\lib\\site-packages\\sqlalchemy\\dialects\\postgresql\\base.py:3130: SAWarning: Did not recognize type 'xml' of column 'parentid'\n",
      "  util.warn(\n"
     ]
    },
    {
     "name": "stdout",
     "output_type": "stream",
     "text": [
      "0 2020-12-10 16:13:23.853177 nb lignes traitees : 0\n",
      "0 2020-12-10 16:13:23.913017 nb lignes traitees : 0\n",
      "0 2020-12-10 16:13:23.976847 nb lignes traitees : 0\n",
      "0 2020-12-10 16:13:24.051646 nb lignes traitees : 0\n",
      "0 2020-12-10 16:13:24.150382 nb lignes traitees : 0\n",
      "0 2020-12-10 16:13:24.223119 nb lignes traitees : 0\n",
      "0 2020-12-10 16:13:24.307893 nb lignes traitees : 0\n",
      "0 2020-12-10 16:13:24.386702 nb lignes traitees : 0\n",
      "0 2020-12-10 16:13:24.443550 nb lignes traitees : 0\n",
      "0 2020-12-10 16:13:24.665959 nb lignes traitees : 0\n",
      "17-D232E2-3+20\n"
     ]
    },
    {
     "name": "stderr",
     "output_type": "stream",
     "text": [
      "c:\\users\\marti\\appdata\\local\\programs\\python\\python38\\lib\\site-packages\\geopandas\\geodataframe.py:830: UserWarning: Geometry column does not contain geometry.\n",
      "  warnings.warn(\"Geometry column does not contain geometry.\")\n"
     ]
    },
    {
     "name": "stdout",
     "output_type": "stream",
     "text": [
      "creer_graph : donnees mise en forme, connexion ouverte ; 2020-12-10 16:13:25.127722\n",
      "creer_graph : donnees transferees dans la base postgis ; 2020-12-10 16:13:25.149661\n",
      "creer_graph : geometrie modifiee ; 2020-12-10 16:13:25.165598\n",
      "creer_graph : topologie cree ; 2020-12-10 16:13:25.251369\n",
      "creer_graph : graph cree ; 2020-12-10 16:13:25.305226\n"
     ]
    },
    {
     "name": "stderr",
     "output_type": "stream",
     "text": [
      "c:\\users\\marti\\appdata\\local\\programs\\python\\python38\\lib\\site-packages\\sqlalchemy\\dialects\\postgresql\\base.py:3130: SAWarning: Did not recognize type 'xml' of column 'metadata'\n",
      "  util.warn(\n",
      "c:\\users\\marti\\appdata\\local\\programs\\python\\python38\\lib\\site-packages\\sqlalchemy\\dialects\\postgresql\\base.py:3130: SAWarning: Did not recognize type 'xml' of column 'fileid'\n",
      "  util.warn(\n",
      "c:\\users\\marti\\appdata\\local\\programs\\python\\python38\\lib\\site-packages\\sqlalchemy\\dialects\\postgresql\\base.py:3130: SAWarning: Did not recognize type 'xml' of column 'parentid'\n",
      "  util.warn(\n"
     ]
    },
    {
     "name": "stdout",
     "output_type": "stream",
     "text": [
      "0 2020-12-10 16:13:25.777406 nb lignes traitees : 0\n",
      "17-D252-4+900\n"
     ]
    },
    {
     "name": "stderr",
     "output_type": "stream",
     "text": [
      "c:\\users\\marti\\appdata\\local\\programs\\python\\python38\\lib\\site-packages\\geopandas\\geodataframe.py:830: UserWarning: Geometry column does not contain geometry.\n",
      "  warnings.warn(\"Geometry column does not contain geometry.\")\n"
     ]
    },
    {
     "name": "stdout",
     "output_type": "stream",
     "text": [
      "creer_graph : donnees mise en forme, connexion ouverte ; 2020-12-10 16:13:26.168385\n",
      "creer_graph : donnees transferees dans la base postgis ; 2020-12-10 16:13:26.205547\n",
      "creer_graph : geometrie modifiee ; 2020-12-10 16:13:26.222390\n",
      "creer_graph : topologie cree ; 2020-12-10 16:13:26.395815\n",
      "creer_graph : graph cree ; 2020-12-10 16:13:26.448979\n"
     ]
    },
    {
     "name": "stderr",
     "output_type": "stream",
     "text": [
      "c:\\users\\marti\\appdata\\local\\programs\\python\\python38\\lib\\site-packages\\sqlalchemy\\dialects\\postgresql\\base.py:3130: SAWarning: Did not recognize type 'xml' of column 'metadata'\n",
      "  util.warn(\n",
      "c:\\users\\marti\\appdata\\local\\programs\\python\\python38\\lib\\site-packages\\sqlalchemy\\dialects\\postgresql\\base.py:3130: SAWarning: Did not recognize type 'xml' of column 'fileid'\n",
      "  util.warn(\n",
      "c:\\users\\marti\\appdata\\local\\programs\\python\\python38\\lib\\site-packages\\sqlalchemy\\dialects\\postgresql\\base.py:3130: SAWarning: Did not recognize type 'xml' of column 'parentid'\n",
      "  util.warn(\n"
     ]
    },
    {
     "name": "stdout",
     "output_type": "stream",
     "text": [
      "0 2020-12-10 16:13:27.045116 nb lignes traitees : 0\n",
      "0 2020-12-10 16:13:27.087004 nb lignes traitees : 0\n",
      "17-D147-2+750\n"
     ]
    },
    {
     "name": "stderr",
     "output_type": "stream",
     "text": [
      "c:\\users\\marti\\appdata\\local\\programs\\python\\python38\\lib\\site-packages\\geopandas\\geodataframe.py:830: UserWarning: Geometry column does not contain geometry.\n",
      "  warnings.warn(\"Geometry column does not contain geometry.\")\n"
     ]
    },
    {
     "name": "stdout",
     "output_type": "stream",
     "text": [
      "creer_graph : donnees mise en forme, connexion ouverte ; 2020-12-10 16:13:27.380122\n",
      "creer_graph : donnees transferees dans la base postgis ; 2020-12-10 16:13:27.418198\n",
      "creer_graph : geometrie modifiee ; 2020-12-10 16:13:27.433478\n",
      "creer_graph : topologie cree ; 2020-12-10 16:13:27.548625\n",
      "creer_graph : graph cree ; 2020-12-10 16:13:27.599469\n"
     ]
    },
    {
     "name": "stderr",
     "output_type": "stream",
     "text": [
      "c:\\users\\marti\\appdata\\local\\programs\\python\\python38\\lib\\site-packages\\sqlalchemy\\dialects\\postgresql\\base.py:3130: SAWarning: Did not recognize type 'xml' of column 'metadata'\n",
      "  util.warn(\n",
      "c:\\users\\marti\\appdata\\local\\programs\\python\\python38\\lib\\site-packages\\sqlalchemy\\dialects\\postgresql\\base.py:3130: SAWarning: Did not recognize type 'xml' of column 'fileid'\n",
      "  util.warn(\n",
      "c:\\users\\marti\\appdata\\local\\programs\\python\\python38\\lib\\site-packages\\sqlalchemy\\dialects\\postgresql\\base.py:3130: SAWarning: Did not recognize type 'xml' of column 'parentid'\n",
      "  util.warn(\n"
     ]
    },
    {
     "name": "stdout",
     "output_type": "stream",
     "text": [
      "0 2020-12-10 16:13:28.010971 nb lignes traitees : 0\n",
      "17-D136-9+870\n"
     ]
    },
    {
     "name": "stderr",
     "output_type": "stream",
     "text": [
      "c:\\users\\marti\\appdata\\local\\programs\\python\\python38\\lib\\site-packages\\geopandas\\geodataframe.py:830: UserWarning: Geometry column does not contain geometry.\n",
      "  warnings.warn(\"Geometry column does not contain geometry.\")\n"
     ]
    },
    {
     "name": "stdout",
     "output_type": "stream",
     "text": [
      "creer_graph : donnees mise en forme, connexion ouverte ; 2020-12-10 16:13:28.461207\n",
      "creer_graph : donnees transferees dans la base postgis ; 2020-12-10 16:13:28.516549\n",
      "creer_graph : geometrie modifiee ; 2020-12-10 16:13:28.535905\n",
      "creer_graph : topologie cree ; 2020-12-10 16:13:28.843378\n",
      "creer_graph : graph cree ; 2020-12-10 16:13:28.905232\n"
     ]
    },
    {
     "name": "stderr",
     "output_type": "stream",
     "text": [
      "c:\\users\\marti\\appdata\\local\\programs\\python\\python38\\lib\\site-packages\\sqlalchemy\\dialects\\postgresql\\base.py:3130: SAWarning: Did not recognize type 'xml' of column 'metadata'\n",
      "  util.warn(\n",
      "c:\\users\\marti\\appdata\\local\\programs\\python\\python38\\lib\\site-packages\\sqlalchemy\\dialects\\postgresql\\base.py:3130: SAWarning: Did not recognize type 'xml' of column 'fileid'\n",
      "  util.warn(\n",
      "c:\\users\\marti\\appdata\\local\\programs\\python\\python38\\lib\\site-packages\\sqlalchemy\\dialects\\postgresql\\base.py:3130: SAWarning: Did not recognize type 'xml' of column 'parentid'\n",
      "  util.warn(\n"
     ]
    },
    {
     "name": "stdout",
     "output_type": "stream",
     "text": [
      "0 2020-12-10 16:13:29.398642 nb lignes traitees : 0\n",
      "0 2020-12-10 16:13:29.486407 nb lignes traitees : 0\n",
      "0 2020-12-10 16:13:29.566199 nb lignes traitees : 0\n",
      "0 2020-12-10 16:13:29.641991 nb lignes traitees : 0\n",
      "0 2020-12-10 16:13:29.721777 nb lignes traitees : 0\n",
      "0 2020-12-10 16:13:29.860408 nb lignes traitees : 0\n",
      "0 2020-12-10 16:13:29.935207 nb lignes traitees : 0\n",
      "0 2020-12-10 16:13:30.048903 nb lignes traitees : 0\n",
      "0 2020-12-10 16:13:30.133676 nb lignes traitees : 0\n",
      "17-D112-6+600\n"
     ]
    },
    {
     "name": "stderr",
     "output_type": "stream",
     "text": [
      "c:\\users\\marti\\appdata\\local\\programs\\python\\python38\\lib\\site-packages\\geopandas\\geodataframe.py:830: UserWarning: Geometry column does not contain geometry.\n",
      "  warnings.warn(\"Geometry column does not contain geometry.\")\n"
     ]
    },
    {
     "name": "stdout",
     "output_type": "stream",
     "text": [
      "creer_graph : donnees mise en forme, connexion ouverte ; 2020-12-10 16:13:30.596318\n",
      "creer_graph : donnees transferees dans la base postgis ; 2020-12-10 16:13:30.644642\n",
      "creer_graph : geometrie modifiee ; 2020-12-10 16:13:30.662989\n",
      "creer_graph : topologie cree ; 2020-12-10 16:13:30.893259\n",
      "creer_graph : graph cree ; 2020-12-10 16:13:30.950133\n"
     ]
    },
    {
     "name": "stderr",
     "output_type": "stream",
     "text": [
      "c:\\users\\marti\\appdata\\local\\programs\\python\\python38\\lib\\site-packages\\sqlalchemy\\dialects\\postgresql\\base.py:3130: SAWarning: Did not recognize type 'xml' of column 'metadata'\n",
      "  util.warn(\n",
      "c:\\users\\marti\\appdata\\local\\programs\\python\\python38\\lib\\site-packages\\sqlalchemy\\dialects\\postgresql\\base.py:3130: SAWarning: Did not recognize type 'xml' of column 'fileid'\n",
      "  util.warn(\n",
      "c:\\users\\marti\\appdata\\local\\programs\\python\\python38\\lib\\site-packages\\sqlalchemy\\dialects\\postgresql\\base.py:3130: SAWarning: Did not recognize type 'xml' of column 'parentid'\n",
      "  util.warn(\n"
     ]
    },
    {
     "name": "stdout",
     "output_type": "stream",
     "text": [
      "0 2020-12-10 16:13:31.498212 nb lignes traitees : 0\n",
      "0 2020-12-10 16:13:31.615897 nb lignes traitees : 0\n",
      "17-D101-3+690\n"
     ]
    },
    {
     "name": "stderr",
     "output_type": "stream",
     "text": [
      "c:\\users\\marti\\appdata\\local\\programs\\python\\python38\\lib\\site-packages\\geopandas\\geodataframe.py:830: UserWarning: Geometry column does not contain geometry.\n",
      "  warnings.warn(\"Geometry column does not contain geometry.\")\n"
     ]
    },
    {
     "name": "stdout",
     "output_type": "stream",
     "text": [
      "creer_graph : donnees mise en forme, connexion ouverte ; 2020-12-10 16:13:31.980621\n",
      "creer_graph : donnees transferees dans la base postgis ; 2020-12-10 16:13:32.008719\n",
      "creer_graph : geometrie modifiee ; 2020-12-10 16:13:32.024673\n",
      "creer_graph : topologie cree ; 2020-12-10 16:13:32.132005\n",
      "creer_graph : graph cree ; 2020-12-10 16:13:32.183888\n"
     ]
    },
    {
     "name": "stderr",
     "output_type": "stream",
     "text": [
      "c:\\users\\marti\\appdata\\local\\programs\\python\\python38\\lib\\site-packages\\sqlalchemy\\dialects\\postgresql\\base.py:3130: SAWarning: Did not recognize type 'xml' of column 'metadata'\n",
      "  util.warn(\n",
      "c:\\users\\marti\\appdata\\local\\programs\\python\\python38\\lib\\site-packages\\sqlalchemy\\dialects\\postgresql\\base.py:3130: SAWarning: Did not recognize type 'xml' of column 'fileid'\n",
      "  util.warn(\n",
      "c:\\users\\marti\\appdata\\local\\programs\\python\\python38\\lib\\site-packages\\sqlalchemy\\dialects\\postgresql\\base.py:3130: SAWarning: Did not recognize type 'xml' of column 'parentid'\n",
      "  util.warn(\n"
     ]
    },
    {
     "name": "stdout",
     "output_type": "stream",
     "text": [
      "0 2020-12-10 16:13:32.615885 nb lignes traitees : 0\n",
      "17-D107-12+650\n"
     ]
    },
    {
     "name": "stderr",
     "output_type": "stream",
     "text": [
      "c:\\users\\marti\\appdata\\local\\programs\\python\\python38\\lib\\site-packages\\geopandas\\geodataframe.py:830: UserWarning: Geometry column does not contain geometry.\n",
      "  warnings.warn(\"Geometry column does not contain geometry.\")\n"
     ]
    },
    {
     "name": "stdout",
     "output_type": "stream",
     "text": [
      "creer_graph : donnees mise en forme, connexion ouverte ; 2020-12-10 16:13:33.579309\n",
      "creer_graph : donnees transferees dans la base postgis ; 2020-12-10 16:13:33.675052\n",
      "creer_graph : geometrie modifiee ; 2020-12-10 16:13:33.697408\n",
      "creer_graph : topologie cree ; 2020-12-10 16:13:34.266266\n",
      "creer_graph : graph cree ; 2020-12-10 16:13:34.344057\n"
     ]
    },
    {
     "name": "stderr",
     "output_type": "stream",
     "text": [
      "c:\\users\\marti\\appdata\\local\\programs\\python\\python38\\lib\\site-packages\\sqlalchemy\\dialects\\postgresql\\base.py:3130: SAWarning: Did not recognize type 'xml' of column 'metadata'\n",
      "  util.warn(\n",
      "c:\\users\\marti\\appdata\\local\\programs\\python\\python38\\lib\\site-packages\\sqlalchemy\\dialects\\postgresql\\base.py:3130: SAWarning: Did not recognize type 'xml' of column 'fileid'\n",
      "  util.warn(\n",
      "c:\\users\\marti\\appdata\\local\\programs\\python\\python38\\lib\\site-packages\\sqlalchemy\\dialects\\postgresql\\base.py:3130: SAWarning: Did not recognize type 'xml' of column 'parentid'\n",
      "  util.warn(\n"
     ]
    },
    {
     "name": "stdout",
     "output_type": "stream",
     "text": [
      "0 2020-12-10 16:13:35.040637 nb lignes traitees : 0\n",
      "0 2020-12-10 16:13:35.207191 nb lignes traitees : 0\n",
      "17-D109-31+440\n"
     ]
    },
    {
     "name": "stderr",
     "output_type": "stream",
     "text": [
      "c:\\users\\marti\\appdata\\local\\programs\\python\\python38\\lib\\site-packages\\geopandas\\geodataframe.py:830: UserWarning: Geometry column does not contain geometry.\n",
      "  warnings.warn(\"Geometry column does not contain geometry.\")\n"
     ]
    },
    {
     "name": "stdout",
     "output_type": "stream",
     "text": [
      "creer_graph : donnees mise en forme, connexion ouverte ; 2020-12-10 16:13:35.670950\n",
      "creer_graph : donnees transferees dans la base postgis ; 2020-12-10 16:13:35.733784\n",
      "creer_graph : geometrie modifiee ; 2020-12-10 16:13:35.756722\n",
      "creer_graph : topologie cree ; 2020-12-10 16:13:36.119751\n",
      "creer_graph : graph cree ; 2020-12-10 16:13:36.189563\n"
     ]
    },
    {
     "name": "stderr",
     "output_type": "stream",
     "text": [
      "c:\\users\\marti\\appdata\\local\\programs\\python\\python38\\lib\\site-packages\\sqlalchemy\\dialects\\postgresql\\base.py:3130: SAWarning: Did not recognize type 'xml' of column 'metadata'\n",
      "  util.warn(\n",
      "c:\\users\\marti\\appdata\\local\\programs\\python\\python38\\lib\\site-packages\\sqlalchemy\\dialects\\postgresql\\base.py:3130: SAWarning: Did not recognize type 'xml' of column 'fileid'\n",
      "  util.warn(\n",
      "c:\\users\\marti\\appdata\\local\\programs\\python\\python38\\lib\\site-packages\\sqlalchemy\\dialects\\postgresql\\base.py:3130: SAWarning: Did not recognize type 'xml' of column 'parentid'\n",
      "  util.warn(\n"
     ]
    },
    {
     "name": "stdout",
     "output_type": "stream",
     "text": [
      "0 2020-12-10 16:13:36.864757 nb lignes traitees : 0\n",
      "0 2020-12-10 16:13:36.950528 nb lignes traitees : 0\n",
      "17-D202-11+450\n"
     ]
    },
    {
     "name": "stderr",
     "output_type": "stream",
     "text": [
      "c:\\users\\marti\\appdata\\local\\programs\\python\\python38\\lib\\site-packages\\geopandas\\geodataframe.py:830: UserWarning: Geometry column does not contain geometry.\n",
      "  warnings.warn(\"Geometry column does not contain geometry.\")\n"
     ]
    },
    {
     "name": "stdout",
     "output_type": "stream",
     "text": [
      "creer_graph : donnees mise en forme, connexion ouverte ; 2020-12-10 16:13:37.363723\n",
      "creer_graph : donnees transferees dans la base postgis ; 2020-12-10 16:13:37.397633\n",
      "creer_graph : geometrie modifiee ; 2020-12-10 16:13:37.413845\n",
      "creer_graph : topologie cree ; 2020-12-10 16:13:37.576320\n",
      "creer_graph : graph cree ; 2020-12-10 16:13:37.640147\n"
     ]
    },
    {
     "name": "stderr",
     "output_type": "stream",
     "text": [
      "c:\\users\\marti\\appdata\\local\\programs\\python\\python38\\lib\\site-packages\\sqlalchemy\\dialects\\postgresql\\base.py:3130: SAWarning: Did not recognize type 'xml' of column 'metadata'\n",
      "  util.warn(\n",
      "c:\\users\\marti\\appdata\\local\\programs\\python\\python38\\lib\\site-packages\\sqlalchemy\\dialects\\postgresql\\base.py:3130: SAWarning: Did not recognize type 'xml' of column 'fileid'\n",
      "  util.warn(\n",
      "c:\\users\\marti\\appdata\\local\\programs\\python\\python38\\lib\\site-packages\\sqlalchemy\\dialects\\postgresql\\base.py:3130: SAWarning: Did not recognize type 'xml' of column 'parentid'\n",
      "  util.warn(\n"
     ]
    },
    {
     "name": "stdout",
     "output_type": "stream",
     "text": [
      "0 2020-12-10 16:13:38.244569 nb lignes traitees : 0\n",
      "0 2020-12-10 16:13:38.626521 nb lignes traitees : 0\n",
      "0 2020-12-10 16:13:38.711293 nb lignes traitees : 0\n",
      "17-D210-4+659\n"
     ]
    },
    {
     "name": "stderr",
     "output_type": "stream",
     "text": [
      "c:\\users\\marti\\appdata\\local\\programs\\python\\python38\\lib\\site-packages\\geopandas\\geodataframe.py:830: UserWarning: Geometry column does not contain geometry.\n",
      "  warnings.warn(\"Geometry column does not contain geometry.\")\n"
     ]
    },
    {
     "name": "stdout",
     "output_type": "stream",
     "text": [
      "creer_graph : donnees mise en forme, connexion ouverte ; 2020-12-10 16:13:39.145133\n",
      "creer_graph : donnees transferees dans la base postgis ; 2020-12-10 16:13:39.183032\n",
      "creer_graph : geometrie modifiee ; 2020-12-10 16:13:39.200983\n",
      "creer_graph : topologie cree ; 2020-12-10 16:13:39.380503\n",
      "creer_graph : graph cree ; 2020-12-10 16:13:39.443334\n"
     ]
    },
    {
     "name": "stderr",
     "output_type": "stream",
     "text": [
      "c:\\users\\marti\\appdata\\local\\programs\\python\\python38\\lib\\site-packages\\sqlalchemy\\dialects\\postgresql\\base.py:3130: SAWarning: Did not recognize type 'xml' of column 'metadata'\n",
      "  util.warn(\n",
      "c:\\users\\marti\\appdata\\local\\programs\\python\\python38\\lib\\site-packages\\sqlalchemy\\dialects\\postgresql\\base.py:3130: SAWarning: Did not recognize type 'xml' of column 'fileid'\n",
      "  util.warn(\n",
      "c:\\users\\marti\\appdata\\local\\programs\\python\\python38\\lib\\site-packages\\sqlalchemy\\dialects\\postgresql\\base.py:3130: SAWarning: Did not recognize type 'xml' of column 'parentid'\n",
      "  util.warn(\n"
     ]
    },
    {
     "name": "stdout",
     "output_type": "stream",
     "text": [
      "0 2020-12-10 16:13:39.927078 nb lignes traitees : 0\n",
      "17-D205E2-3+210\n"
     ]
    },
    {
     "name": "stderr",
     "output_type": "stream",
     "text": [
      "c:\\users\\marti\\appdata\\local\\programs\\python\\python38\\lib\\site-packages\\geopandas\\geodataframe.py:830: UserWarning: Geometry column does not contain geometry.\n",
      "  warnings.warn(\"Geometry column does not contain geometry.\")\n"
     ]
    },
    {
     "name": "stdout",
     "output_type": "stream",
     "text": [
      "creer_graph : donnees mise en forme, connexion ouverte ; 2020-12-10 16:13:40.212314\n",
      "creer_graph : donnees transferees dans la base postgis ; 2020-12-10 16:13:40.232379\n",
      "creer_graph : geometrie modifiee ; 2020-12-10 16:13:40.249176\n",
      "creer_graph : topologie cree ; 2020-12-10 16:13:40.329340\n",
      "creer_graph : graph cree ; 2020-12-10 16:13:40.382553\n"
     ]
    },
    {
     "name": "stderr",
     "output_type": "stream",
     "text": [
      "c:\\users\\marti\\appdata\\local\\programs\\python\\python38\\lib\\site-packages\\sqlalchemy\\dialects\\postgresql\\base.py:3130: SAWarning: Did not recognize type 'xml' of column 'metadata'\n",
      "  util.warn(\n",
      "c:\\users\\marti\\appdata\\local\\programs\\python\\python38\\lib\\site-packages\\sqlalchemy\\dialects\\postgresql\\base.py:3130: SAWarning: Did not recognize type 'xml' of column 'fileid'\n",
      "  util.warn(\n",
      "c:\\users\\marti\\appdata\\local\\programs\\python\\python38\\lib\\site-packages\\sqlalchemy\\dialects\\postgresql\\base.py:3130: SAWarning: Did not recognize type 'xml' of column 'parentid'\n",
      "  util.warn(\n"
     ]
    },
    {
     "name": "stdout",
     "output_type": "stream",
     "text": [
      "0 2020-12-10 16:13:40.893545 nb lignes traitees : 0\n",
      "17-D111-22+470\n"
     ]
    },
    {
     "name": "stderr",
     "output_type": "stream",
     "text": [
      "c:\\users\\marti\\appdata\\local\\programs\\python\\python38\\lib\\site-packages\\geopandas\\geodataframe.py:830: UserWarning: Geometry column does not contain geometry.\n",
      "  warnings.warn(\"Geometry column does not contain geometry.\")\n"
     ]
    },
    {
     "name": "stdout",
     "output_type": "stream",
     "text": [
      "creer_graph : donnees mise en forme, connexion ouverte ; 2020-12-10 16:13:41.404795\n",
      "creer_graph : donnees transferees dans la base postgis ; 2020-12-10 16:13:41.483934\n",
      "creer_graph : geometrie modifiee ; 2020-12-10 16:13:41.503002\n",
      "creer_graph : topologie cree ; 2020-12-10 16:13:41.777705\n",
      "creer_graph : graph cree ; 2020-12-10 16:13:41.840118\n"
     ]
    },
    {
     "name": "stderr",
     "output_type": "stream",
     "text": [
      "c:\\users\\marti\\appdata\\local\\programs\\python\\python38\\lib\\site-packages\\sqlalchemy\\dialects\\postgresql\\base.py:3130: SAWarning: Did not recognize type 'xml' of column 'metadata'\n",
      "  util.warn(\n",
      "c:\\users\\marti\\appdata\\local\\programs\\python\\python38\\lib\\site-packages\\sqlalchemy\\dialects\\postgresql\\base.py:3130: SAWarning: Did not recognize type 'xml' of column 'fileid'\n",
      "  util.warn(\n",
      "c:\\users\\marti\\appdata\\local\\programs\\python\\python38\\lib\\site-packages\\sqlalchemy\\dialects\\postgresql\\base.py:3130: SAWarning: Did not recognize type 'xml' of column 'parentid'\n",
      "  util.warn(\n"
     ]
    },
    {
     "name": "stdout",
     "output_type": "stream",
     "text": [
      "0 2020-12-10 16:13:42.401414 nb lignes traitees : 0\n",
      "0 2020-12-10 16:13:42.447292 nb lignes traitees : 0\n",
      "17-D122-2+480\n"
     ]
    },
    {
     "name": "stderr",
     "output_type": "stream",
     "text": [
      "c:\\users\\marti\\appdata\\local\\programs\\python\\python38\\lib\\site-packages\\geopandas\\geodataframe.py:830: UserWarning: Geometry column does not contain geometry.\n",
      "  warnings.warn(\"Geometry column does not contain geometry.\")\n"
     ]
    },
    {
     "name": "stdout",
     "output_type": "stream",
     "text": [
      "creer_graph : donnees mise en forme, connexion ouverte ; 2020-12-10 16:13:42.991074\n",
      "creer_graph : donnees transferees dans la base postgis ; 2020-12-10 16:13:43.045143\n",
      "creer_graph : geometrie modifiee ; 2020-12-10 16:13:43.090643\n",
      "creer_graph : topologie cree ; 2020-12-10 16:13:43.358036\n",
      "creer_graph : graph cree ; 2020-12-10 16:13:43.418197\n"
     ]
    },
    {
     "name": "stderr",
     "output_type": "stream",
     "text": [
      "c:\\users\\marti\\appdata\\local\\programs\\python\\python38\\lib\\site-packages\\sqlalchemy\\dialects\\postgresql\\base.py:3130: SAWarning: Did not recognize type 'xml' of column 'metadata'\n",
      "  util.warn(\n",
      "c:\\users\\marti\\appdata\\local\\programs\\python\\python38\\lib\\site-packages\\sqlalchemy\\dialects\\postgresql\\base.py:3130: SAWarning: Did not recognize type 'xml' of column 'fileid'\n",
      "  util.warn(\n",
      "c:\\users\\marti\\appdata\\local\\programs\\python\\python38\\lib\\site-packages\\sqlalchemy\\dialects\\postgresql\\base.py:3130: SAWarning: Did not recognize type 'xml' of column 'parentid'\n",
      "  util.warn(\n"
     ]
    },
    {
     "name": "stdout",
     "output_type": "stream",
     "text": [
      "0 2020-12-10 16:13:44.014250 nb lignes traitees : 0\n",
      "0 2020-12-10 16:13:44.109018 nb lignes traitees : 0\n",
      "0 2020-12-10 16:13:44.229710 nb lignes traitees : 0\n",
      "0 2020-12-10 16:13:44.288553 nb lignes traitees : 0\n",
      "0 2020-12-10 16:13:44.372309 nb lignes traitees : 0\n",
      "0 2020-12-10 16:13:44.452119 nb lignes traitees : 0\n",
      "17-D118-43+530\n"
     ]
    },
    {
     "name": "stderr",
     "output_type": "stream",
     "text": [
      "c:\\users\\marti\\appdata\\local\\programs\\python\\python38\\lib\\site-packages\\geopandas\\geodataframe.py:830: UserWarning: Geometry column does not contain geometry.\n",
      "  warnings.warn(\"Geometry column does not contain geometry.\")\n"
     ]
    },
    {
     "name": "stdout",
     "output_type": "stream",
     "text": [
      "creer_graph : donnees mise en forme, connexion ouverte ; 2020-12-10 16:13:44.929387\n",
      "creer_graph : donnees transferees dans la base postgis ; 2020-12-10 16:13:44.992459\n",
      "creer_graph : geometrie modifiee ; 2020-12-10 16:13:45.013535\n",
      "creer_graph : topologie cree ; 2020-12-10 16:13:45.337382\n",
      "creer_graph : graph cree ; 2020-12-10 16:13:45.399210\n"
     ]
    },
    {
     "name": "stderr",
     "output_type": "stream",
     "text": [
      "c:\\users\\marti\\appdata\\local\\programs\\python\\python38\\lib\\site-packages\\sqlalchemy\\dialects\\postgresql\\base.py:3130: SAWarning: Did not recognize type 'xml' of column 'metadata'\n",
      "  util.warn(\n",
      "c:\\users\\marti\\appdata\\local\\programs\\python\\python38\\lib\\site-packages\\sqlalchemy\\dialects\\postgresql\\base.py:3130: SAWarning: Did not recognize type 'xml' of column 'fileid'\n",
      "  util.warn(\n",
      "c:\\users\\marti\\appdata\\local\\programs\\python\\python38\\lib\\site-packages\\sqlalchemy\\dialects\\postgresql\\base.py:3130: SAWarning: Did not recognize type 'xml' of column 'parentid'\n",
      "  util.warn(\n"
     ]
    },
    {
     "name": "stdout",
     "output_type": "stream",
     "text": [
      "0 2020-12-10 16:13:46.004141 nb lignes traitees : 0\n",
      "0 2020-12-10 16:13:46.039047 nb lignes traitees : 0\n",
      "0 2020-12-10 16:13:46.139778 nb lignes traitees : 0\n",
      "0 2020-12-10 16:13:46.227543 nb lignes traitees : 0\n",
      "0 2020-12-10 16:13:46.250299 nb lignes traitees : 0\n",
      "0 2020-12-10 16:13:46.340422 nb lignes traitees : 0\n",
      "0 2020-12-10 16:13:46.430207 nb lignes traitees : 0\n",
      "17-D125-42+800\n"
     ]
    },
    {
     "name": "stderr",
     "output_type": "stream",
     "text": [
      "c:\\users\\marti\\appdata\\local\\programs\\python\\python38\\lib\\site-packages\\geopandas\\geodataframe.py:830: UserWarning: Geometry column does not contain geometry.\n",
      "  warnings.warn(\"Geometry column does not contain geometry.\")\n"
     ]
    },
    {
     "name": "stdout",
     "output_type": "stream",
     "text": [
      "creer_graph : donnees mise en forme, connexion ouverte ; 2020-12-10 16:13:46.941429\n",
      "creer_graph : donnees transferees dans la base postgis ; 2020-12-10 16:13:47.044719\n",
      "creer_graph : geometrie modifiee ; 2020-12-10 16:13:47.066975\n",
      "creer_graph : topologie cree ; 2020-12-10 16:13:47.594283\n",
      "creer_graph : graph cree ; 2020-12-10 16:13:47.664120\n"
     ]
    },
    {
     "name": "stderr",
     "output_type": "stream",
     "text": [
      "c:\\users\\marti\\appdata\\local\\programs\\python\\python38\\lib\\site-packages\\sqlalchemy\\dialects\\postgresql\\base.py:3130: SAWarning: Did not recognize type 'xml' of column 'metadata'\n",
      "  util.warn(\n",
      "c:\\users\\marti\\appdata\\local\\programs\\python\\python38\\lib\\site-packages\\sqlalchemy\\dialects\\postgresql\\base.py:3130: SAWarning: Did not recognize type 'xml' of column 'fileid'\n",
      "  util.warn(\n",
      "c:\\users\\marti\\appdata\\local\\programs\\python\\python38\\lib\\site-packages\\sqlalchemy\\dialects\\postgresql\\base.py:3130: SAWarning: Did not recognize type 'xml' of column 'parentid'\n",
      "  util.warn(\n"
     ]
    },
    {
     "name": "stdout",
     "output_type": "stream",
     "text": [
      "0 2020-12-10 16:13:48.285729 nb lignes traitees : 0\n",
      "0 2020-12-10 16:13:48.371504 nb lignes traitees : 0\n",
      "0 2020-12-10 16:13:48.458272 nb lignes traitees : 0\n",
      "0 2020-12-10 16:13:48.521103 nb lignes traitees : 0\n",
      "0 2020-12-10 16:13:48.607872 nb lignes traitees : 0\n",
      "0 2020-12-10 16:13:48.667687 nb lignes traitees : 0\n",
      "0 2020-12-10 16:13:48.761437 nb lignes traitees : 0\n",
      "0 2020-12-10 16:13:48.805319 nb lignes traitees : 0\n",
      "0 2020-12-10 16:13:48.906049 nb lignes traitees : 0\n",
      "0 2020-12-10 16:13:49.008774 nb lignes traitees : 0\n",
      "0 2020-12-10 16:13:49.024595 nb lignes traitees : 0\n",
      "0 2020-12-10 16:13:49.157215 nb lignes traitees : 0\n",
      "17-D117-61+850\n"
     ]
    },
    {
     "name": "stderr",
     "output_type": "stream",
     "text": [
      "c:\\users\\marti\\appdata\\local\\programs\\python\\python38\\lib\\site-packages\\geopandas\\geodataframe.py:830: UserWarning: Geometry column does not contain geometry.\n",
      "  warnings.warn(\"Geometry column does not contain geometry.\")\n"
     ]
    },
    {
     "name": "stdout",
     "output_type": "stream",
     "text": [
      "creer_graph : donnees mise en forme, connexion ouverte ; 2020-12-10 16:13:49.544680\n",
      "creer_graph : donnees transferees dans la base postgis ; 2020-12-10 16:13:49.583894\n",
      "creer_graph : geometrie modifiee ; 2020-12-10 16:13:49.599580\n",
      "creer_graph : topologie cree ; 2020-12-10 16:13:49.791142\n",
      "creer_graph : graph cree ; 2020-12-10 16:13:49.846025\n"
     ]
    },
    {
     "name": "stderr",
     "output_type": "stream",
     "text": [
      "c:\\users\\marti\\appdata\\local\\programs\\python\\python38\\lib\\site-packages\\sqlalchemy\\dialects\\postgresql\\base.py:3130: SAWarning: Did not recognize type 'xml' of column 'metadata'\n",
      "  util.warn(\n",
      "c:\\users\\marti\\appdata\\local\\programs\\python\\python38\\lib\\site-packages\\sqlalchemy\\dialects\\postgresql\\base.py:3130: SAWarning: Did not recognize type 'xml' of column 'fileid'\n",
      "  util.warn(\n",
      "c:\\users\\marti\\appdata\\local\\programs\\python\\python38\\lib\\site-packages\\sqlalchemy\\dialects\\postgresql\\base.py:3130: SAWarning: Did not recognize type 'xml' of column 'parentid'\n",
      "  util.warn(\n"
     ]
    },
    {
     "name": "stdout",
     "output_type": "stream",
     "text": [
      "0 2020-12-10 16:13:50.399812 nb lignes traitees : 0\n",
      "0 2020-12-10 16:13:50.496227 nb lignes traitees : 0\n",
      "17-D143E1-0+250\n"
     ]
    },
    {
     "name": "stderr",
     "output_type": "stream",
     "text": [
      "c:\\users\\marti\\appdata\\local\\programs\\python\\python38\\lib\\site-packages\\geopandas\\geodataframe.py:830: UserWarning: Geometry column does not contain geometry.\n",
      "  warnings.warn(\"Geometry column does not contain geometry.\")\n"
     ]
    },
    {
     "name": "stdout",
     "output_type": "stream",
     "text": [
      "creer_graph : donnees mise en forme, connexion ouverte ; 2020-12-10 16:13:50.829164\n",
      "creer_graph : donnees transferees dans la base postgis ; 2020-12-10 16:13:50.857573\n",
      "creer_graph : geometrie modifiee ; 2020-12-10 16:13:50.884837\n",
      "creer_graph : topologie cree ; 2020-12-10 16:13:50.962701\n",
      "creer_graph : graph cree ; 2020-12-10 16:13:51.013542\n"
     ]
    },
    {
     "name": "stderr",
     "output_type": "stream",
     "text": [
      "c:\\users\\marti\\appdata\\local\\programs\\python\\python38\\lib\\site-packages\\sqlalchemy\\dialects\\postgresql\\base.py:3130: SAWarning: Did not recognize type 'xml' of column 'metadata'\n",
      "  util.warn(\n",
      "c:\\users\\marti\\appdata\\local\\programs\\python\\python38\\lib\\site-packages\\sqlalchemy\\dialects\\postgresql\\base.py:3130: SAWarning: Did not recognize type 'xml' of column 'fileid'\n",
      "  util.warn(\n",
      "c:\\users\\marti\\appdata\\local\\programs\\python\\python38\\lib\\site-packages\\sqlalchemy\\dialects\\postgresql\\base.py:3130: SAWarning: Did not recognize type 'xml' of column 'parentid'\n",
      "  util.warn(\n"
     ]
    },
    {
     "name": "stdout",
     "output_type": "stream",
     "text": [
      "0 2020-12-10 16:13:51.430991 nb lignes traitees : 0\n",
      "17-D52-3+310\n"
     ]
    },
    {
     "name": "stderr",
     "output_type": "stream",
     "text": [
      "c:\\users\\marti\\appdata\\local\\programs\\python\\python38\\lib\\site-packages\\geopandas\\geodataframe.py:830: UserWarning: Geometry column does not contain geometry.\n",
      "  warnings.warn(\"Geometry column does not contain geometry.\")\n"
     ]
    },
    {
     "name": "stdout",
     "output_type": "stream",
     "text": [
      "creer_graph : donnees mise en forme, connexion ouverte ; 2020-12-10 16:13:51.717425\n",
      "creer_graph : donnees transferees dans la base postgis ; 2020-12-10 16:13:51.737320\n",
      "creer_graph : geometrie modifiee ; 2020-12-10 16:13:51.757667\n",
      "creer_graph : topologie cree ; 2020-12-10 16:13:51.858526\n",
      "creer_graph : graph cree ; 2020-12-10 16:13:51.907422\n"
     ]
    },
    {
     "name": "stderr",
     "output_type": "stream",
     "text": [
      "c:\\users\\marti\\appdata\\local\\programs\\python\\python38\\lib\\site-packages\\sqlalchemy\\dialects\\postgresql\\base.py:3130: SAWarning: Did not recognize type 'xml' of column 'metadata'\n",
      "  util.warn(\n",
      "c:\\users\\marti\\appdata\\local\\programs\\python\\python38\\lib\\site-packages\\sqlalchemy\\dialects\\postgresql\\base.py:3130: SAWarning: Did not recognize type 'xml' of column 'fileid'\n",
      "  util.warn(\n",
      "c:\\users\\marti\\appdata\\local\\programs\\python\\python38\\lib\\site-packages\\sqlalchemy\\dialects\\postgresql\\base.py:3130: SAWarning: Did not recognize type 'xml' of column 'parentid'\n",
      "  util.warn(\n"
     ]
    },
    {
     "name": "stdout",
     "output_type": "stream",
     "text": [
      "0 2020-12-10 16:13:52.331637 nb lignes traitees : 0\n",
      "LaRoch-r de chavagne--1.0202;46.1918\n"
     ]
    },
    {
     "name": "stderr",
     "output_type": "stream",
     "text": [
      "c:\\users\\marti\\appdata\\local\\programs\\python\\python38\\lib\\site-packages\\geopandas\\geodataframe.py:830: UserWarning: Geometry column does not contain geometry.\n",
      "  warnings.warn(\"Geometry column does not contain geometry.\")\n"
     ]
    },
    {
     "name": "stdout",
     "output_type": "stream",
     "text": [
      "creer_graph : donnees mise en forme, connexion ouverte ; 2020-12-10 16:13:52.637287\n",
      "creer_graph : donnees transferees dans la base postgis ; 2020-12-10 16:13:52.653187\n",
      "creer_graph : geometrie modifiee ; 2020-12-10 16:13:52.667790\n",
      "creer_graph : topologie cree ; 2020-12-10 16:13:52.729263\n",
      "creer_graph : graph cree ; 2020-12-10 16:13:52.779157\n"
     ]
    },
    {
     "name": "stderr",
     "output_type": "stream",
     "text": [
      "c:\\users\\marti\\appdata\\local\\programs\\python\\python38\\lib\\site-packages\\sqlalchemy\\dialects\\postgresql\\base.py:3130: SAWarning: Did not recognize type 'xml' of column 'metadata'\n",
      "  util.warn(\n",
      "c:\\users\\marti\\appdata\\local\\programs\\python\\python38\\lib\\site-packages\\sqlalchemy\\dialects\\postgresql\\base.py:3130: SAWarning: Did not recognize type 'xml' of column 'fileid'\n",
      "  util.warn(\n",
      "c:\\users\\marti\\appdata\\local\\programs\\python\\python38\\lib\\site-packages\\sqlalchemy\\dialects\\postgresql\\base.py:3130: SAWarning: Did not recognize type 'xml' of column 'parentid'\n",
      "  util.warn(\n"
     ]
    },
    {
     "name": "stdout",
     "output_type": "stream",
     "text": [
      "0 2020-12-10 16:13:53.204515 nb lignes traitees : 0\n",
      "17-D208-7+400\n"
     ]
    },
    {
     "name": "stderr",
     "output_type": "stream",
     "text": [
      "c:\\users\\marti\\appdata\\local\\programs\\python\\python38\\lib\\site-packages\\geopandas\\geodataframe.py:830: UserWarning: Geometry column does not contain geometry.\n",
      "  warnings.warn(\"Geometry column does not contain geometry.\")\n"
     ]
    },
    {
     "name": "stdout",
     "output_type": "stream",
     "text": [
      "creer_graph : donnees mise en forme, connexion ouverte ; 2020-12-10 16:13:53.508627\n",
      "creer_graph : donnees transferees dans la base postgis ; 2020-12-10 16:13:53.540211\n",
      "creer_graph : geometrie modifiee ; 2020-12-10 16:13:53.556108\n",
      "creer_graph : topologie cree ; 2020-12-10 16:13:53.722327\n",
      "creer_graph : graph cree ; 2020-12-10 16:13:53.776202\n"
     ]
    },
    {
     "name": "stderr",
     "output_type": "stream",
     "text": [
      "c:\\users\\marti\\appdata\\local\\programs\\python\\python38\\lib\\site-packages\\sqlalchemy\\dialects\\postgresql\\base.py:3130: SAWarning: Did not recognize type 'xml' of column 'metadata'\n",
      "  util.warn(\n",
      "c:\\users\\marti\\appdata\\local\\programs\\python\\python38\\lib\\site-packages\\sqlalchemy\\dialects\\postgresql\\base.py:3130: SAWarning: Did not recognize type 'xml' of column 'fileid'\n",
      "  util.warn(\n",
      "c:\\users\\marti\\appdata\\local\\programs\\python\\python38\\lib\\site-packages\\sqlalchemy\\dialects\\postgresql\\base.py:3130: SAWarning: Did not recognize type 'xml' of column 'parentid'\n",
      "  util.warn(\n"
     ]
    },
    {
     "name": "stdout",
     "output_type": "stream",
     "text": [
      "0 2020-12-10 16:13:54.200428 nb lignes traitees : 0\n",
      "17-D273E1-0+680\n"
     ]
    },
    {
     "name": "stderr",
     "output_type": "stream",
     "text": [
      "c:\\users\\marti\\appdata\\local\\programs\\python\\python38\\lib\\site-packages\\geopandas\\geodataframe.py:830: UserWarning: Geometry column does not contain geometry.\n",
      "  warnings.warn(\"Geometry column does not contain geometry.\")\n"
     ]
    },
    {
     "name": "stdout",
     "output_type": "stream",
     "text": [
      "creer_graph : donnees mise en forme, connexion ouverte ; 2020-12-10 16:13:54.576322\n",
      "creer_graph : donnees transferees dans la base postgis ; 2020-12-10 16:13:54.595088\n",
      "creer_graph : geometrie modifiee ; 2020-12-10 16:13:54.610677\n",
      "creer_graph : topologie cree ; 2020-12-10 16:13:54.687005\n",
      "creer_graph : graph cree ; 2020-12-10 16:13:54.735925\n"
     ]
    },
    {
     "name": "stderr",
     "output_type": "stream",
     "text": [
      "c:\\users\\marti\\appdata\\local\\programs\\python\\python38\\lib\\site-packages\\sqlalchemy\\dialects\\postgresql\\base.py:3130: SAWarning: Did not recognize type 'xml' of column 'metadata'\n",
      "  util.warn(\n",
      "c:\\users\\marti\\appdata\\local\\programs\\python\\python38\\lib\\site-packages\\sqlalchemy\\dialects\\postgresql\\base.py:3130: SAWarning: Did not recognize type 'xml' of column 'fileid'\n",
      "  util.warn(\n",
      "c:\\users\\marti\\appdata\\local\\programs\\python\\python38\\lib\\site-packages\\sqlalchemy\\dialects\\postgresql\\base.py:3130: SAWarning: Did not recognize type 'xml' of column 'parentid'\n",
      "  util.warn(\n"
     ]
    },
    {
     "name": "stdout",
     "output_type": "stream",
     "text": [
      "0 2020-12-10 16:13:55.312206 nb lignes traitees : 0\n",
      "17-D213E4-3+490\n"
     ]
    },
    {
     "name": "stderr",
     "output_type": "stream",
     "text": [
      "c:\\users\\marti\\appdata\\local\\programs\\python\\python38\\lib\\site-packages\\geopandas\\geodataframe.py:830: UserWarning: Geometry column does not contain geometry.\n",
      "  warnings.warn(\"Geometry column does not contain geometry.\")\n"
     ]
    },
    {
     "name": "stdout",
     "output_type": "stream",
     "text": [
      "creer_graph : donnees mise en forme, connexion ouverte ; 2020-12-10 16:13:55.684454\n",
      "creer_graph : donnees transferees dans la base postgis ; 2020-12-10 16:13:55.705905\n",
      "creer_graph : geometrie modifiee ; 2020-12-10 16:13:55.721259\n",
      "creer_graph : topologie cree ; 2020-12-10 16:13:55.811118\n",
      "creer_graph : graph cree ; 2020-12-10 16:13:55.861011\n"
     ]
    },
    {
     "name": "stderr",
     "output_type": "stream",
     "text": [
      "c:\\users\\marti\\appdata\\local\\programs\\python\\python38\\lib\\site-packages\\sqlalchemy\\dialects\\postgresql\\base.py:3130: SAWarning: Did not recognize type 'xml' of column 'metadata'\n",
      "  util.warn(\n",
      "c:\\users\\marti\\appdata\\local\\programs\\python\\python38\\lib\\site-packages\\sqlalchemy\\dialects\\postgresql\\base.py:3130: SAWarning: Did not recognize type 'xml' of column 'fileid'\n",
      "  util.warn(\n",
      "c:\\users\\marti\\appdata\\local\\programs\\python\\python38\\lib\\site-packages\\sqlalchemy\\dialects\\postgresql\\base.py:3130: SAWarning: Did not recognize type 'xml' of column 'parentid'\n",
      "  util.warn(\n"
     ]
    },
    {
     "name": "stdout",
     "output_type": "stream",
     "text": [
      "0 2020-12-10 16:13:56.299952 nb lignes traitees : 0\n",
      "0 2020-12-10 16:13:56.361606 nb lignes traitees : 0\n",
      "17-D129E2-2+635\n"
     ]
    },
    {
     "name": "stderr",
     "output_type": "stream",
     "text": [
      "c:\\users\\marti\\appdata\\local\\programs\\python\\python38\\lib\\site-packages\\geopandas\\geodataframe.py:830: UserWarning: Geometry column does not contain geometry.\n",
      "  warnings.warn(\"Geometry column does not contain geometry.\")\n"
     ]
    },
    {
     "name": "stdout",
     "output_type": "stream",
     "text": [
      "creer_graph : donnees mise en forme, connexion ouverte ; 2020-12-10 16:13:56.671605\n",
      "creer_graph : donnees transferees dans la base postgis ; 2020-12-10 16:13:56.697165\n",
      "creer_graph : geometrie modifiee ; 2020-12-10 16:13:56.713411\n",
      "creer_graph : topologie cree ; 2020-12-10 16:13:56.821326\n",
      "creer_graph : graph cree ; 2020-12-10 16:13:56.872217\n"
     ]
    },
    {
     "name": "stderr",
     "output_type": "stream",
     "text": [
      "c:\\users\\marti\\appdata\\local\\programs\\python\\python38\\lib\\site-packages\\sqlalchemy\\dialects\\postgresql\\base.py:3130: SAWarning: Did not recognize type 'xml' of column 'metadata'\n",
      "  util.warn(\n",
      "c:\\users\\marti\\appdata\\local\\programs\\python\\python38\\lib\\site-packages\\sqlalchemy\\dialects\\postgresql\\base.py:3130: SAWarning: Did not recognize type 'xml' of column 'fileid'\n",
      "  util.warn(\n",
      "c:\\users\\marti\\appdata\\local\\programs\\python\\python38\\lib\\site-packages\\sqlalchemy\\dialects\\postgresql\\base.py:3130: SAWarning: Did not recognize type 'xml' of column 'parentid'\n",
      "  util.warn(\n"
     ]
    },
    {
     "name": "stdout",
     "output_type": "stream",
     "text": [
      "0 2020-12-10 16:13:57.328737 nb lignes traitees : 0\n",
      "0 2020-12-10 16:13:57.447343 nb lignes traitees : 0\n",
      "0 2020-12-10 16:13:57.538100 nb lignes traitees : 0\n",
      "0 2020-12-10 16:13:57.628858 nb lignes traitees : 0\n",
      "17-D216-35+0\n"
     ]
    },
    {
     "name": "stderr",
     "output_type": "stream",
     "text": [
      "c:\\users\\marti\\appdata\\local\\programs\\python\\python38\\lib\\site-packages\\geopandas\\geodataframe.py:830: UserWarning: Geometry column does not contain geometry.\n",
      "  warnings.warn(\"Geometry column does not contain geometry.\")\n"
     ]
    },
    {
     "name": "stdout",
     "output_type": "stream",
     "text": [
      "creer_graph : donnees mise en forme, connexion ouverte ; 2020-12-10 16:13:58.103836\n",
      "creer_graph : donnees transferees dans la base postgis ; 2020-12-10 16:13:58.149459\n",
      "creer_graph : geometrie modifiee ; 2020-12-10 16:13:58.166086\n",
      "creer_graph : topologie cree ; 2020-12-10 16:13:58.382259\n",
      "creer_graph : graph cree ; 2020-12-10 16:13:58.440106\n"
     ]
    },
    {
     "name": "stderr",
     "output_type": "stream",
     "text": [
      "c:\\users\\marti\\appdata\\local\\programs\\python\\python38\\lib\\site-packages\\sqlalchemy\\dialects\\postgresql\\base.py:3130: SAWarning: Did not recognize type 'xml' of column 'metadata'\n",
      "  util.warn(\n",
      "c:\\users\\marti\\appdata\\local\\programs\\python\\python38\\lib\\site-packages\\sqlalchemy\\dialects\\postgresql\\base.py:3130: SAWarning: Did not recognize type 'xml' of column 'fileid'\n",
      "  util.warn(\n",
      "c:\\users\\marti\\appdata\\local\\programs\\python\\python38\\lib\\site-packages\\sqlalchemy\\dialects\\postgresql\\base.py:3130: SAWarning: Did not recognize type 'xml' of column 'parentid'\n",
      "  util.warn(\n"
     ]
    },
    {
     "name": "stdout",
     "output_type": "stream",
     "text": [
      "0 2020-12-10 16:13:58.917788 nb lignes traitees : 0\n",
      "0 2020-12-10 16:13:59.000547 nb lignes traitees : 0\n",
      "17-D222-6+400\n"
     ]
    },
    {
     "name": "stderr",
     "output_type": "stream",
     "text": [
      "c:\\users\\marti\\appdata\\local\\programs\\python\\python38\\lib\\site-packages\\geopandas\\geodataframe.py:830: UserWarning: Geometry column does not contain geometry.\n",
      "  warnings.warn(\"Geometry column does not contain geometry.\")\n"
     ]
    },
    {
     "name": "stdout",
     "output_type": "stream",
     "text": [
      "creer_graph : donnees mise en forme, connexion ouverte ; 2020-12-10 16:13:59.365329\n",
      "creer_graph : donnees transferees dans la base postgis ; 2020-12-10 16:13:59.408025\n",
      "creer_graph : geometrie modifiee ; 2020-12-10 16:13:59.424782\n",
      "creer_graph : topologie cree ; 2020-12-10 16:13:59.641404\n",
      "creer_graph : graph cree ; 2020-12-10 16:13:59.698277\n"
     ]
    },
    {
     "name": "stderr",
     "output_type": "stream",
     "text": [
      "c:\\users\\marti\\appdata\\local\\programs\\python\\python38\\lib\\site-packages\\sqlalchemy\\dialects\\postgresql\\base.py:3130: SAWarning: Did not recognize type 'xml' of column 'metadata'\n",
      "  util.warn(\n",
      "c:\\users\\marti\\appdata\\local\\programs\\python\\python38\\lib\\site-packages\\sqlalchemy\\dialects\\postgresql\\base.py:3130: SAWarning: Did not recognize type 'xml' of column 'fileid'\n",
      "  util.warn(\n",
      "c:\\users\\marti\\appdata\\local\\programs\\python\\python38\\lib\\site-packages\\sqlalchemy\\dialects\\postgresql\\base.py:3130: SAWarning: Did not recognize type 'xml' of column 'parentid'\n",
      "  util.warn(\n"
     ]
    },
    {
     "name": "stdout",
     "output_type": "stream",
     "text": [
      "0 2020-12-10 16:14:00.139712 nb lignes traitees : 0\n",
      "0 2020-12-10 16:14:00.181528 nb lignes traitees : 0\n",
      "17-D911-32+410\n"
     ]
    },
    {
     "name": "stderr",
     "output_type": "stream",
     "text": [
      "c:\\users\\marti\\appdata\\local\\programs\\python\\python38\\lib\\site-packages\\geopandas\\geodataframe.py:830: UserWarning: Geometry column does not contain geometry.\n",
      "  warnings.warn(\"Geometry column does not contain geometry.\")\n"
     ]
    },
    {
     "name": "stdout",
     "output_type": "stream",
     "text": [
      "creer_graph : donnees mise en forme, connexion ouverte ; 2020-12-10 16:14:00.525532\n",
      "creer_graph : donnees transferees dans la base postgis ; 2020-12-10 16:14:00.563366\n",
      "creer_graph : geometrie modifiee ; 2020-12-10 16:14:00.579962\n",
      "creer_graph : topologie cree ; 2020-12-10 16:14:00.778449\n",
      "creer_graph : graph cree ; 2020-12-10 16:14:00.833329\n"
     ]
    },
    {
     "name": "stderr",
     "output_type": "stream",
     "text": [
      "c:\\users\\marti\\appdata\\local\\programs\\python\\python38\\lib\\site-packages\\sqlalchemy\\dialects\\postgresql\\base.py:3130: SAWarning: Did not recognize type 'xml' of column 'metadata'\n",
      "  util.warn(\n",
      "c:\\users\\marti\\appdata\\local\\programs\\python\\python38\\lib\\site-packages\\sqlalchemy\\dialects\\postgresql\\base.py:3130: SAWarning: Did not recognize type 'xml' of column 'fileid'\n",
      "  util.warn(\n",
      "c:\\users\\marti\\appdata\\local\\programs\\python\\python38\\lib\\site-packages\\sqlalchemy\\dialects\\postgresql\\base.py:3130: SAWarning: Did not recognize type 'xml' of column 'parentid'\n",
      "  util.warn(\n"
     ]
    },
    {
     "name": "stdout",
     "output_type": "stream",
     "text": [
      "0 2020-12-10 16:14:01.378096 nb lignes traitees : 0\n",
      "17-D124-24+730\n"
     ]
    },
    {
     "name": "stderr",
     "output_type": "stream",
     "text": [
      "c:\\users\\marti\\appdata\\local\\programs\\python\\python38\\lib\\site-packages\\geopandas\\geodataframe.py:830: UserWarning: Geometry column does not contain geometry.\n",
      "  warnings.warn(\"Geometry column does not contain geometry.\")\n"
     ]
    },
    {
     "name": "stdout",
     "output_type": "stream",
     "text": [
      "creer_graph : donnees mise en forme, connexion ouverte ; 2020-12-10 16:14:01.760750\n",
      "creer_graph : donnees transferees dans la base postgis ; 2020-12-10 16:14:01.822595\n",
      "creer_graph : geometrie modifiee ; 2020-12-10 16:14:01.840258\n",
      "creer_graph : topologie cree ; 2020-12-10 16:14:02.086849\n",
      "creer_graph : graph cree ; 2020-12-10 16:14:02.144717\n"
     ]
    },
    {
     "name": "stderr",
     "output_type": "stream",
     "text": [
      "c:\\users\\marti\\appdata\\local\\programs\\python\\python38\\lib\\site-packages\\sqlalchemy\\dialects\\postgresql\\base.py:3130: SAWarning: Did not recognize type 'xml' of column 'metadata'\n",
      "  util.warn(\n",
      "c:\\users\\marti\\appdata\\local\\programs\\python\\python38\\lib\\site-packages\\sqlalchemy\\dialects\\postgresql\\base.py:3130: SAWarning: Did not recognize type 'xml' of column 'fileid'\n",
      "  util.warn(\n",
      "c:\\users\\marti\\appdata\\local\\programs\\python\\python38\\lib\\site-packages\\sqlalchemy\\dialects\\postgresql\\base.py:3130: SAWarning: Did not recognize type 'xml' of column 'parentid'\n",
      "  util.warn(\n"
     ]
    },
    {
     "name": "stdout",
     "output_type": "stream",
     "text": [
      "0 2020-12-10 16:14:02.690111 nb lignes traitees : 0\n",
      "17-D241-3+600\n"
     ]
    },
    {
     "name": "stderr",
     "output_type": "stream",
     "text": [
      "c:\\users\\marti\\appdata\\local\\programs\\python\\python38\\lib\\site-packages\\geopandas\\geodataframe.py:830: UserWarning: Geometry column does not contain geometry.\n",
      "  warnings.warn(\"Geometry column does not contain geometry.\")\n"
     ]
    },
    {
     "name": "stdout",
     "output_type": "stream",
     "text": [
      "creer_graph : donnees mise en forme, connexion ouverte ; 2020-12-10 16:14:03.103739\n",
      "creer_graph : donnees transferees dans la base postgis ; 2020-12-10 16:14:03.146190\n",
      "creer_graph : geometrie modifiee ; 2020-12-10 16:14:03.172779\n",
      "creer_graph : topologie cree ; 2020-12-10 16:14:03.401348\n",
      "creer_graph : graph cree ; 2020-12-10 16:14:03.458203\n"
     ]
    },
    {
     "name": "stderr",
     "output_type": "stream",
     "text": [
      "c:\\users\\marti\\appdata\\local\\programs\\python\\python38\\lib\\site-packages\\sqlalchemy\\dialects\\postgresql\\base.py:3130: SAWarning: Did not recognize type 'xml' of column 'metadata'\n",
      "  util.warn(\n",
      "c:\\users\\marti\\appdata\\local\\programs\\python\\python38\\lib\\site-packages\\sqlalchemy\\dialects\\postgresql\\base.py:3130: SAWarning: Did not recognize type 'xml' of column 'fileid'\n",
      "  util.warn(\n",
      "c:\\users\\marti\\appdata\\local\\programs\\python\\python38\\lib\\site-packages\\sqlalchemy\\dialects\\postgresql\\base.py:3130: SAWarning: Did not recognize type 'xml' of column 'parentid'\n",
      "  util.warn(\n"
     ]
    },
    {
     "name": "stdout",
     "output_type": "stream",
     "text": [
      "0 2020-12-10 16:14:04.016812 nb lignes traitees : 0\n",
      "0 2020-12-10 16:14:04.191345 nb lignes traitees : 0\n",
      "17-D128-34+600\n"
     ]
    },
    {
     "name": "stderr",
     "output_type": "stream",
     "text": [
      "c:\\users\\marti\\appdata\\local\\programs\\python\\python38\\lib\\site-packages\\geopandas\\geodataframe.py:830: UserWarning: Geometry column does not contain geometry.\n",
      "  warnings.warn(\"Geometry column does not contain geometry.\")\n"
     ]
    },
    {
     "name": "stdout",
     "output_type": "stream",
     "text": [
      "creer_graph : donnees mise en forme, connexion ouverte ; 2020-12-10 16:14:04.707647\n",
      "creer_graph : donnees transferees dans la base postgis ; 2020-12-10 16:14:04.799904\n",
      "creer_graph : geometrie modifiee ; 2020-12-10 16:14:04.822434\n",
      "creer_graph : topologie cree ; 2020-12-10 16:14:05.336266\n",
      "creer_graph : graph cree ; 2020-12-10 16:14:05.406106\n"
     ]
    },
    {
     "name": "stderr",
     "output_type": "stream",
     "text": [
      "c:\\users\\marti\\appdata\\local\\programs\\python\\python38\\lib\\site-packages\\sqlalchemy\\dialects\\postgresql\\base.py:3130: SAWarning: Did not recognize type 'xml' of column 'metadata'\n",
      "  util.warn(\n",
      "c:\\users\\marti\\appdata\\local\\programs\\python\\python38\\lib\\site-packages\\sqlalchemy\\dialects\\postgresql\\base.py:3130: SAWarning: Did not recognize type 'xml' of column 'fileid'\n",
      "  util.warn(\n",
      "c:\\users\\marti\\appdata\\local\\programs\\python\\python38\\lib\\site-packages\\sqlalchemy\\dialects\\postgresql\\base.py:3130: SAWarning: Did not recognize type 'xml' of column 'parentid'\n",
      "  util.warn(\n"
     ]
    },
    {
     "name": "stdout",
     "output_type": "stream",
     "text": [
      "0 2020-12-10 16:14:06.063345 nb lignes traitees : 0\n",
      "0 2020-12-10 16:14:06.219921 nb lignes traitees : 0\n",
      "0 2020-12-10 16:14:06.326643 nb lignes traitees : 0\n",
      "0 2020-12-10 16:14:06.421360 nb lignes traitees : 0\n",
      "0 2020-12-10 16:14:06.532065 nb lignes traitees : 0\n",
      "17-D243-17+30\n"
     ]
    },
    {
     "name": "stderr",
     "output_type": "stream",
     "text": [
      "c:\\users\\marti\\appdata\\local\\programs\\python\\python38\\lib\\site-packages\\geopandas\\geodataframe.py:830: UserWarning: Geometry column does not contain geometry.\n",
      "  warnings.warn(\"Geometry column does not contain geometry.\")\n"
     ]
    },
    {
     "name": "stdout",
     "output_type": "stream",
     "text": [
      "creer_graph : donnees mise en forme, connexion ouverte ; 2020-12-10 16:14:06.947437\n",
      "creer_graph : donnees transferees dans la base postgis ; 2020-12-10 16:14:06.986072\n",
      "creer_graph : geometrie modifiee ; 2020-12-10 16:14:07.001988\n",
      "creer_graph : topologie cree ; 2020-12-10 16:14:07.146282\n",
      "creer_graph : graph cree ; 2020-12-10 16:14:07.200137\n"
     ]
    },
    {
     "name": "stderr",
     "output_type": "stream",
     "text": [
      "c:\\users\\marti\\appdata\\local\\programs\\python\\python38\\lib\\site-packages\\sqlalchemy\\dialects\\postgresql\\base.py:3130: SAWarning: Did not recognize type 'xml' of column 'metadata'\n",
      "  util.warn(\n",
      "c:\\users\\marti\\appdata\\local\\programs\\python\\python38\\lib\\site-packages\\sqlalchemy\\dialects\\postgresql\\base.py:3130: SAWarning: Did not recognize type 'xml' of column 'fileid'\n",
      "  util.warn(\n",
      "c:\\users\\marti\\appdata\\local\\programs\\python\\python38\\lib\\site-packages\\sqlalchemy\\dialects\\postgresql\\base.py:3130: SAWarning: Did not recognize type 'xml' of column 'parentid'\n",
      "  util.warn(\n"
     ]
    },
    {
     "name": "stdout",
     "output_type": "stream",
     "text": [
      "0 2020-12-10 16:14:07.654956 nb lignes traitees : 0\n",
      "0 2020-12-10 16:14:07.738732 nb lignes traitees : 0\n",
      "17-D50-5+486\n"
     ]
    },
    {
     "name": "stderr",
     "output_type": "stream",
     "text": [
      "c:\\users\\marti\\appdata\\local\\programs\\python\\python38\\lib\\site-packages\\geopandas\\geodataframe.py:830: UserWarning: Geometry column does not contain geometry.\n",
      "  warnings.warn(\"Geometry column does not contain geometry.\")\n"
     ]
    },
    {
     "name": "stdout",
     "output_type": "stream",
     "text": [
      "creer_graph : donnees mise en forme, connexion ouverte ; 2020-12-10 16:14:08.112467\n",
      "creer_graph : donnees transferees dans la base postgis ; 2020-12-10 16:14:08.161265\n",
      "creer_graph : geometrie modifiee ; 2020-12-10 16:14:08.179477\n",
      "creer_graph : topologie cree ; 2020-12-10 16:14:08.425389\n",
      "creer_graph : graph cree ; 2020-12-10 16:14:08.484261\n"
     ]
    },
    {
     "name": "stderr",
     "output_type": "stream",
     "text": [
      "c:\\users\\marti\\appdata\\local\\programs\\python\\python38\\lib\\site-packages\\sqlalchemy\\dialects\\postgresql\\base.py:3130: SAWarning: Did not recognize type 'xml' of column 'metadata'\n",
      "  util.warn(\n",
      "c:\\users\\marti\\appdata\\local\\programs\\python\\python38\\lib\\site-packages\\sqlalchemy\\dialects\\postgresql\\base.py:3130: SAWarning: Did not recognize type 'xml' of column 'fileid'\n",
      "  util.warn(\n",
      "c:\\users\\marti\\appdata\\local\\programs\\python\\python38\\lib\\site-packages\\sqlalchemy\\dialects\\postgresql\\base.py:3130: SAWarning: Did not recognize type 'xml' of column 'parentid'\n",
      "  util.warn(\n"
     ]
    },
    {
     "name": "stdout",
     "output_type": "stream",
     "text": [
      "0 2020-12-10 16:14:08.909149 nb lignes traitees : 0\n",
      "17-D25-37+400\n"
     ]
    },
    {
     "name": "stderr",
     "output_type": "stream",
     "text": [
      "c:\\users\\marti\\appdata\\local\\programs\\python\\python38\\lib\\site-packages\\geopandas\\geodataframe.py:830: UserWarning: Geometry column does not contain geometry.\n",
      "  warnings.warn(\"Geometry column does not contain geometry.\")\n"
     ]
    },
    {
     "name": "stdout",
     "output_type": "stream",
     "text": [
      "creer_graph : donnees mise en forme, connexion ouverte ; 2020-12-10 16:14:09.347123\n",
      "creer_graph : donnees transferees dans la base postgis ; 2020-12-10 16:14:09.389574\n",
      "creer_graph : geometrie modifiee ; 2020-12-10 16:14:09.406023\n",
      "creer_graph : topologie cree ; 2020-12-10 16:14:09.641274\n",
      "creer_graph : graph cree ; 2020-12-10 16:14:09.697147\n"
     ]
    },
    {
     "name": "stderr",
     "output_type": "stream",
     "text": [
      "c:\\users\\marti\\appdata\\local\\programs\\python\\python38\\lib\\site-packages\\sqlalchemy\\dialects\\postgresql\\base.py:3130: SAWarning: Did not recognize type 'xml' of column 'metadata'\n",
      "  util.warn(\n",
      "c:\\users\\marti\\appdata\\local\\programs\\python\\python38\\lib\\site-packages\\sqlalchemy\\dialects\\postgresql\\base.py:3130: SAWarning: Did not recognize type 'xml' of column 'fileid'\n",
      "  util.warn(\n",
      "c:\\users\\marti\\appdata\\local\\programs\\python\\python38\\lib\\site-packages\\sqlalchemy\\dialects\\postgresql\\base.py:3130: SAWarning: Did not recognize type 'xml' of column 'parentid'\n",
      "  util.warn(\n"
     ]
    },
    {
     "name": "stdout",
     "output_type": "stream",
     "text": [
      "0 2020-12-10 16:14:10.292248 nb lignes traitees : 0\n",
      "0 2020-12-10 16:14:10.363058 nb lignes traitees : 0\n",
      "0 2020-12-10 16:14:10.501689 nb lignes traitees : 0\n",
      "0 2020-12-10 16:14:10.704121 nb lignes traitees : 0\n",
      "0 2020-12-10 16:14:10.765955 nb lignes traitees : 0\n",
      "17-D5-1+140\n"
     ]
    },
    {
     "name": "stderr",
     "output_type": "stream",
     "text": [
      "c:\\users\\marti\\appdata\\local\\programs\\python\\python38\\lib\\site-packages\\geopandas\\geodataframe.py:830: UserWarning: Geometry column does not contain geometry.\n",
      "  warnings.warn(\"Geometry column does not contain geometry.\")\n"
     ]
    },
    {
     "name": "stdout",
     "output_type": "stream",
     "text": [
      "creer_graph : donnees mise en forme, connexion ouverte ; 2020-12-10 16:14:11.099319\n",
      "creer_graph : donnees transferees dans la base postgis ; 2020-12-10 16:14:11.120379\n",
      "creer_graph : geometrie modifiee ; 2020-12-10 16:14:11.134979\n",
      "creer_graph : topologie cree ; 2020-12-10 16:14:11.220050\n",
      "creer_graph : graph cree ; 2020-12-10 16:14:11.269917\n"
     ]
    },
    {
     "name": "stderr",
     "output_type": "stream",
     "text": [
      "c:\\users\\marti\\appdata\\local\\programs\\python\\python38\\lib\\site-packages\\sqlalchemy\\dialects\\postgresql\\base.py:3130: SAWarning: Did not recognize type 'xml' of column 'metadata'\n",
      "  util.warn(\n",
      "c:\\users\\marti\\appdata\\local\\programs\\python\\python38\\lib\\site-packages\\sqlalchemy\\dialects\\postgresql\\base.py:3130: SAWarning: Did not recognize type 'xml' of column 'fileid'\n",
      "  util.warn(\n",
      "c:\\users\\marti\\appdata\\local\\programs\\python\\python38\\lib\\site-packages\\sqlalchemy\\dialects\\postgresql\\base.py:3130: SAWarning: Did not recognize type 'xml' of column 'parentid'\n",
      "  util.warn(\n"
     ]
    },
    {
     "name": "stdout",
     "output_type": "stream",
     "text": [
      "0 2020-12-10 16:14:11.796653 nb lignes traitees : 0\n",
      "0 2020-12-10 16:14:12.050978 nb lignes traitees : 0\n",
      "LaRoch-av 123e regiment infanterie--1.1488;46.1532\n"
     ]
    },
    {
     "name": "stderr",
     "output_type": "stream",
     "text": [
      "c:\\users\\marti\\appdata\\local\\programs\\python\\python38\\lib\\site-packages\\geopandas\\geodataframe.py:830: UserWarning: Geometry column does not contain geometry.\n",
      "  warnings.warn(\"Geometry column does not contain geometry.\")\n"
     ]
    },
    {
     "name": "stdout",
     "output_type": "stream",
     "text": [
      "creer_graph : donnees mise en forme, connexion ouverte ; 2020-12-10 16:14:12.466019\n",
      "creer_graph : donnees transferees dans la base postgis ; 2020-12-10 16:14:12.481018\n",
      "creer_graph : geometrie modifiee ; 2020-12-10 16:14:12.495348\n",
      "creer_graph : topologie cree ; 2020-12-10 16:14:12.555733\n",
      "creer_graph : graph cree ; 2020-12-10 16:14:12.604604\n"
     ]
    },
    {
     "name": "stderr",
     "output_type": "stream",
     "text": [
      "c:\\users\\marti\\appdata\\local\\programs\\python\\python38\\lib\\site-packages\\sqlalchemy\\dialects\\postgresql\\base.py:3130: SAWarning: Did not recognize type 'xml' of column 'metadata'\n",
      "  util.warn(\n",
      "c:\\users\\marti\\appdata\\local\\programs\\python\\python38\\lib\\site-packages\\sqlalchemy\\dialects\\postgresql\\base.py:3130: SAWarning: Did not recognize type 'xml' of column 'fileid'\n",
      "  util.warn(\n",
      "c:\\users\\marti\\appdata\\local\\programs\\python\\python38\\lib\\site-packages\\sqlalchemy\\dialects\\postgresql\\base.py:3130: SAWarning: Did not recognize type 'xml' of column 'parentid'\n",
      "  util.warn(\n"
     ]
    },
    {
     "name": "stdout",
     "output_type": "stream",
     "text": [
      "0 2020-12-10 16:14:13.028759 nb lignes traitees : 0\n",
      "17-D137C0-2+200\n"
     ]
    },
    {
     "name": "stderr",
     "output_type": "stream",
     "text": [
      "c:\\users\\marti\\appdata\\local\\programs\\python\\python38\\lib\\site-packages\\geopandas\\geodataframe.py:830: UserWarning: Geometry column does not contain geometry.\n",
      "  warnings.warn(\"Geometry column does not contain geometry.\")\n"
     ]
    },
    {
     "name": "stdout",
     "output_type": "stream",
     "text": [
      "creer_graph : donnees mise en forme, connexion ouverte ; 2020-12-10 16:14:13.302368\n",
      "creer_graph : donnees transferees dans la base postgis ; 2020-12-10 16:14:13.320006\n",
      "creer_graph : geometrie modifiee ; 2020-12-10 16:14:13.334481\n",
      "creer_graph : topologie cree ; 2020-12-10 16:14:13.403391\n",
      "creer_graph : graph cree ; 2020-12-10 16:14:13.453257\n"
     ]
    },
    {
     "name": "stderr",
     "output_type": "stream",
     "text": [
      "c:\\users\\marti\\appdata\\local\\programs\\python\\python38\\lib\\site-packages\\sqlalchemy\\dialects\\postgresql\\base.py:3130: SAWarning: Did not recognize type 'xml' of column 'metadata'\n",
      "  util.warn(\n",
      "c:\\users\\marti\\appdata\\local\\programs\\python\\python38\\lib\\site-packages\\sqlalchemy\\dialects\\postgresql\\base.py:3130: SAWarning: Did not recognize type 'xml' of column 'fileid'\n",
      "  util.warn(\n",
      "c:\\users\\marti\\appdata\\local\\programs\\python\\python38\\lib\\site-packages\\sqlalchemy\\dialects\\postgresql\\base.py:3130: SAWarning: Did not recognize type 'xml' of column 'parentid'\n",
      "  util.warn(\n"
     ]
    },
    {
     "name": "stdout",
     "output_type": "stream",
     "text": [
      "0 2020-12-10 16:14:13.881253 nb lignes traitees : 0\n",
      "17-D120-19+660\n"
     ]
    },
    {
     "name": "stderr",
     "output_type": "stream",
     "text": [
      "c:\\users\\marti\\appdata\\local\\programs\\python\\python38\\lib\\site-packages\\geopandas\\geodataframe.py:830: UserWarning: Geometry column does not contain geometry.\n",
      "  warnings.warn(\"Geometry column does not contain geometry.\")\n"
     ]
    },
    {
     "name": "stdout",
     "output_type": "stream",
     "text": [
      "creer_graph : donnees mise en forme, connexion ouverte ; 2020-12-10 16:14:14.398927\n",
      "creer_graph : donnees transferees dans la base postgis ; 2020-12-10 16:14:14.449269\n",
      "creer_graph : geometrie modifiee ; 2020-12-10 16:14:14.467250\n",
      "creer_graph : topologie cree ; 2020-12-10 16:14:14.717421\n",
      "creer_graph : graph cree ; 2020-12-10 16:14:14.774291\n"
     ]
    },
    {
     "name": "stderr",
     "output_type": "stream",
     "text": [
      "c:\\users\\marti\\appdata\\local\\programs\\python\\python38\\lib\\site-packages\\sqlalchemy\\dialects\\postgresql\\base.py:3130: SAWarning: Did not recognize type 'xml' of column 'metadata'\n",
      "  util.warn(\n",
      "c:\\users\\marti\\appdata\\local\\programs\\python\\python38\\lib\\site-packages\\sqlalchemy\\dialects\\postgresql\\base.py:3130: SAWarning: Did not recognize type 'xml' of column 'fileid'\n",
      "  util.warn(\n",
      "c:\\users\\marti\\appdata\\local\\programs\\python\\python38\\lib\\site-packages\\sqlalchemy\\dialects\\postgresql\\base.py:3130: SAWarning: Did not recognize type 'xml' of column 'parentid'\n",
      "  util.warn(\n"
     ]
    },
    {
     "name": "stdout",
     "output_type": "stream",
     "text": [
      "0 2020-12-10 16:14:15.240972 nb lignes traitees : 0\n",
      "0 2020-12-10 16:14:15.331705 nb lignes traitees : 0\n",
      "0 2020-12-10 16:14:15.415500 nb lignes traitees : 0\n",
      "0 2020-12-10 16:14:15.487507 nb lignes traitees : 0\n",
      "0 2020-12-10 16:14:15.574274 nb lignes traitees : 0\n",
      "0 2020-12-10 16:14:15.670158 nb lignes traitees : 0\n",
      "0 2020-12-10 16:14:15.755929 nb lignes traitees : 0\n",
      "17-D267-0+150\n"
     ]
    },
    {
     "name": "stderr",
     "output_type": "stream",
     "text": [
      "c:\\users\\marti\\appdata\\local\\programs\\python\\python38\\lib\\site-packages\\geopandas\\geodataframe.py:830: UserWarning: Geometry column does not contain geometry.\n",
      "  warnings.warn(\"Geometry column does not contain geometry.\")\n"
     ]
    },
    {
     "name": "stdout",
     "output_type": "stream",
     "text": [
      "creer_graph : donnees mise en forme, connexion ouverte ; 2020-12-10 16:14:16.088082\n",
      "creer_graph : donnees transferees dans la base postgis ; 2020-12-10 16:14:16.116534\n",
      "creer_graph : geometrie modifiee ; 2020-12-10 16:14:16.131637\n",
      "creer_graph : topologie cree ; 2020-12-10 16:14:16.222537\n",
      "creer_graph : graph cree ; 2020-12-10 16:14:16.272426\n"
     ]
    },
    {
     "name": "stderr",
     "output_type": "stream",
     "text": [
      "c:\\users\\marti\\appdata\\local\\programs\\python\\python38\\lib\\site-packages\\sqlalchemy\\dialects\\postgresql\\base.py:3130: SAWarning: Did not recognize type 'xml' of column 'metadata'\n",
      "  util.warn(\n",
      "c:\\users\\marti\\appdata\\local\\programs\\python\\python38\\lib\\site-packages\\sqlalchemy\\dialects\\postgresql\\base.py:3130: SAWarning: Did not recognize type 'xml' of column 'fileid'\n",
      "  util.warn(\n",
      "c:\\users\\marti\\appdata\\local\\programs\\python\\python38\\lib\\site-packages\\sqlalchemy\\dialects\\postgresql\\base.py:3130: SAWarning: Did not recognize type 'xml' of column 'parentid'\n",
      "  util.warn(\n"
     ]
    },
    {
     "name": "stdout",
     "output_type": "stream",
     "text": [
      "0 2020-12-10 16:14:16.711541 nb lignes traitees : 0\n",
      "0 2020-12-10 16:14:16.823222 nb lignes traitees : 0\n",
      "17-D234-5+920\n"
     ]
    },
    {
     "name": "stderr",
     "output_type": "stream",
     "text": [
      "c:\\users\\marti\\appdata\\local\\programs\\python\\python38\\lib\\site-packages\\geopandas\\geodataframe.py:830: UserWarning: Geometry column does not contain geometry.\n",
      "  warnings.warn(\"Geometry column does not contain geometry.\")\n"
     ]
    },
    {
     "name": "stdout",
     "output_type": "stream",
     "text": [
      "creer_graph : donnees mise en forme, connexion ouverte ; 2020-12-10 16:14:17.224139\n",
      "creer_graph : donnees transferees dans la base postgis ; 2020-12-10 16:14:17.261960\n",
      "creer_graph : geometrie modifiee ; 2020-12-10 16:14:17.280388\n",
      "creer_graph : topologie cree ; 2020-12-10 16:14:17.459657\n",
      "creer_graph : graph cree ; 2020-12-10 16:14:17.513535\n"
     ]
    },
    {
     "name": "stderr",
     "output_type": "stream",
     "text": [
      "c:\\users\\marti\\appdata\\local\\programs\\python\\python38\\lib\\site-packages\\sqlalchemy\\dialects\\postgresql\\base.py:3130: SAWarning: Did not recognize type 'xml' of column 'metadata'\n",
      "  util.warn(\n",
      "c:\\users\\marti\\appdata\\local\\programs\\python\\python38\\lib\\site-packages\\sqlalchemy\\dialects\\postgresql\\base.py:3130: SAWarning: Did not recognize type 'xml' of column 'fileid'\n",
      "  util.warn(\n",
      "c:\\users\\marti\\appdata\\local\\programs\\python\\python38\\lib\\site-packages\\sqlalchemy\\dialects\\postgresql\\base.py:3130: SAWarning: Did not recognize type 'xml' of column 'parentid'\n",
      "  util.warn(\n"
     ]
    },
    {
     "name": "stdout",
     "output_type": "stream",
     "text": [
      "0 2020-12-10 16:14:18.009610 nb lignes traitees : 0\n",
      "17-D123E2-0+200\n"
     ]
    },
    {
     "name": "stderr",
     "output_type": "stream",
     "text": [
      "c:\\users\\marti\\appdata\\local\\programs\\python\\python38\\lib\\site-packages\\geopandas\\geodataframe.py:830: UserWarning: Geometry column does not contain geometry.\n",
      "  warnings.warn(\"Geometry column does not contain geometry.\")\n"
     ]
    },
    {
     "name": "stdout",
     "output_type": "stream",
     "text": [
      "creer_graph : donnees mise en forme, connexion ouverte ; 2020-12-10 16:14:18.299727\n",
      "creer_graph : donnees transferees dans la base postgis ; 2020-12-10 16:14:18.315533\n",
      "creer_graph : geometrie modifiee ; 2020-12-10 16:14:18.329853\n",
      "creer_graph : topologie cree ; 2020-12-10 16:14:18.396311\n",
      "creer_graph : graph cree ; 2020-12-10 16:14:18.444204\n"
     ]
    },
    {
     "name": "stderr",
     "output_type": "stream",
     "text": [
      "c:\\users\\marti\\appdata\\local\\programs\\python\\python38\\lib\\site-packages\\sqlalchemy\\dialects\\postgresql\\base.py:3130: SAWarning: Did not recognize type 'xml' of column 'metadata'\n",
      "  util.warn(\n",
      "c:\\users\\marti\\appdata\\local\\programs\\python\\python38\\lib\\site-packages\\sqlalchemy\\dialects\\postgresql\\base.py:3130: SAWarning: Did not recognize type 'xml' of column 'fileid'\n",
      "  util.warn(\n",
      "c:\\users\\marti\\appdata\\local\\programs\\python\\python38\\lib\\site-packages\\sqlalchemy\\dialects\\postgresql\\base.py:3130: SAWarning: Did not recognize type 'xml' of column 'parentid'\n",
      "  util.warn(\n"
     ]
    },
    {
     "name": "stdout",
     "output_type": "stream",
     "text": [
      "0 2020-12-10 16:14:18.900203 nb lignes traitees : 0\n",
      "LaRoch-r chef de baie--1.2026;46.1541\n"
     ]
    },
    {
     "name": "stderr",
     "output_type": "stream",
     "text": [
      "c:\\users\\marti\\appdata\\local\\programs\\python\\python38\\lib\\site-packages\\geopandas\\geodataframe.py:830: UserWarning: Geometry column does not contain geometry.\n",
      "  warnings.warn(\"Geometry column does not contain geometry.\")\n"
     ]
    },
    {
     "name": "stdout",
     "output_type": "stream",
     "text": [
      "creer_graph : donnees mise en forme, connexion ouverte ; 2020-12-10 16:14:19.191881\n",
      "creer_graph : donnees transferees dans la base postgis ; 2020-12-10 16:14:19.207131\n",
      "creer_graph : geometrie modifiee ; 2020-12-10 16:14:19.231169\n",
      "creer_graph : topologie cree ; 2020-12-10 16:14:19.299981\n",
      "creer_graph : graph cree ; 2020-12-10 16:14:19.348878\n"
     ]
    },
    {
     "name": "stderr",
     "output_type": "stream",
     "text": [
      "c:\\users\\marti\\appdata\\local\\programs\\python\\python38\\lib\\site-packages\\sqlalchemy\\dialects\\postgresql\\base.py:3130: SAWarning: Did not recognize type 'xml' of column 'metadata'\n",
      "  util.warn(\n",
      "c:\\users\\marti\\appdata\\local\\programs\\python\\python38\\lib\\site-packages\\sqlalchemy\\dialects\\postgresql\\base.py:3130: SAWarning: Did not recognize type 'xml' of column 'fileid'\n",
      "  util.warn(\n",
      "c:\\users\\marti\\appdata\\local\\programs\\python\\python38\\lib\\site-packages\\sqlalchemy\\dialects\\postgresql\\base.py:3130: SAWarning: Did not recognize type 'xml' of column 'parentid'\n",
      "  util.warn(\n"
     ]
    },
    {
     "name": "stdout",
     "output_type": "stream",
     "text": [
      "0 2020-12-10 16:14:19.767249 nb lignes traitees : 0\n",
      "LaRoch-r anita conti--1.145;46.151\n"
     ]
    },
    {
     "name": "stderr",
     "output_type": "stream",
     "text": [
      "c:\\users\\marti\\appdata\\local\\programs\\python\\python38\\lib\\site-packages\\geopandas\\geodataframe.py:830: UserWarning: Geometry column does not contain geometry.\n",
      "  warnings.warn(\"Geometry column does not contain geometry.\")\n"
     ]
    },
    {
     "name": "stdout",
     "output_type": "stream",
     "text": [
      "creer_graph : donnees mise en forme, connexion ouverte ; 2020-12-10 16:14:20.064863\n",
      "creer_graph : donnees transferees dans la base postgis ; 2020-12-10 16:14:20.086979\n",
      "creer_graph : geometrie modifiee ; 2020-12-10 16:14:20.102658\n",
      "creer_graph : topologie cree ; 2020-12-10 16:14:20.175244\n",
      "creer_graph : graph cree ; 2020-12-10 16:14:20.225138\n"
     ]
    },
    {
     "name": "stderr",
     "output_type": "stream",
     "text": [
      "c:\\users\\marti\\appdata\\local\\programs\\python\\python38\\lib\\site-packages\\sqlalchemy\\dialects\\postgresql\\base.py:3130: SAWarning: Did not recognize type 'xml' of column 'metadata'\n",
      "  util.warn(\n",
      "c:\\users\\marti\\appdata\\local\\programs\\python\\python38\\lib\\site-packages\\sqlalchemy\\dialects\\postgresql\\base.py:3130: SAWarning: Did not recognize type 'xml' of column 'fileid'\n",
      "  util.warn(\n",
      "c:\\users\\marti\\appdata\\local\\programs\\python\\python38\\lib\\site-packages\\sqlalchemy\\dialects\\postgresql\\base.py:3130: SAWarning: Did not recognize type 'xml' of column 'parentid'\n",
      "  util.warn(\n"
     ]
    },
    {
     "name": "stdout",
     "output_type": "stream",
     "text": [
      "0 2020-12-10 16:14:20.682341 nb lignes traitees : 0\n",
      "17-D215-8+840\n"
     ]
    },
    {
     "name": "stderr",
     "output_type": "stream",
     "text": [
      "c:\\users\\marti\\appdata\\local\\programs\\python\\python38\\lib\\site-packages\\geopandas\\geodataframe.py:830: UserWarning: Geometry column does not contain geometry.\n",
      "  warnings.warn(\"Geometry column does not contain geometry.\")\n"
     ]
    },
    {
     "name": "stdout",
     "output_type": "stream",
     "text": [
      "creer_graph : donnees mise en forme, connexion ouverte ; 2020-12-10 16:14:21.035005\n",
      "creer_graph : donnees transferees dans la base postgis ; 2020-12-10 16:14:21.080202\n",
      "creer_graph : geometrie modifiee ; 2020-12-10 16:14:21.101561\n",
      "creer_graph : topologie cree ; 2020-12-10 16:14:21.278451\n",
      "creer_graph : graph cree ; 2020-12-10 16:14:21.333336\n"
     ]
    },
    {
     "name": "stderr",
     "output_type": "stream",
     "text": [
      "c:\\users\\marti\\appdata\\local\\programs\\python\\python38\\lib\\site-packages\\sqlalchemy\\dialects\\postgresql\\base.py:3130: SAWarning: Did not recognize type 'xml' of column 'metadata'\n",
      "  util.warn(\n",
      "c:\\users\\marti\\appdata\\local\\programs\\python\\python38\\lib\\site-packages\\sqlalchemy\\dialects\\postgresql\\base.py:3130: SAWarning: Did not recognize type 'xml' of column 'fileid'\n",
      "  util.warn(\n",
      "c:\\users\\marti\\appdata\\local\\programs\\python\\python38\\lib\\site-packages\\sqlalchemy\\dialects\\postgresql\\base.py:3130: SAWarning: Did not recognize type 'xml' of column 'parentid'\n",
      "  util.warn(\n"
     ]
    },
    {
     "name": "stdout",
     "output_type": "stream",
     "text": [
      "0 2020-12-10 16:14:21.799542 nb lignes traitees : 0\n",
      "0 2020-12-10 16:14:21.991034 nb lignes traitees : 0\n",
      "0 2020-12-10 16:14:22.159558 nb lignes traitees : 0\n",
      "17-D156-0+520\n"
     ]
    },
    {
     "name": "stderr",
     "output_type": "stream",
     "text": [
      "c:\\users\\marti\\appdata\\local\\programs\\python\\python38\\lib\\site-packages\\geopandas\\geodataframe.py:830: UserWarning: Geometry column does not contain geometry.\n",
      "  warnings.warn(\"Geometry column does not contain geometry.\")\n"
     ]
    },
    {
     "name": "stdout",
     "output_type": "stream",
     "text": [
      "creer_graph : donnees mise en forme, connexion ouverte ; 2020-12-10 16:14:22.639707\n",
      "creer_graph : donnees transferees dans la base postgis ; 2020-12-10 16:14:22.679582\n",
      "creer_graph : geometrie modifiee ; 2020-12-10 16:14:22.696212\n",
      "creer_graph : topologie cree ; 2020-12-10 16:14:22.875674\n",
      "creer_graph : graph cree ; 2020-12-10 16:14:22.928563\n"
     ]
    },
    {
     "name": "stderr",
     "output_type": "stream",
     "text": [
      "c:\\users\\marti\\appdata\\local\\programs\\python\\python38\\lib\\site-packages\\sqlalchemy\\dialects\\postgresql\\base.py:3130: SAWarning: Did not recognize type 'xml' of column 'metadata'\n",
      "  util.warn(\n",
      "c:\\users\\marti\\appdata\\local\\programs\\python\\python38\\lib\\site-packages\\sqlalchemy\\dialects\\postgresql\\base.py:3130: SAWarning: Did not recognize type 'xml' of column 'fileid'\n",
      "  util.warn(\n",
      "c:\\users\\marti\\appdata\\local\\programs\\python\\python38\\lib\\site-packages\\sqlalchemy\\dialects\\postgresql\\base.py:3130: SAWarning: Did not recognize type 'xml' of column 'parentid'\n",
      "  util.warn(\n"
     ]
    },
    {
     "name": "stdout",
     "output_type": "stream",
     "text": [
      "0 2020-12-10 16:14:23.349866 nb lignes traitees : 0\n",
      "LaRoch-r de la fontaine au blanc--1.0972;46.2036\n"
     ]
    },
    {
     "name": "stderr",
     "output_type": "stream",
     "text": [
      "c:\\users\\marti\\appdata\\local\\programs\\python\\python38\\lib\\site-packages\\geopandas\\geodataframe.py:830: UserWarning: Geometry column does not contain geometry.\n",
      "  warnings.warn(\"Geometry column does not contain geometry.\")\n"
     ]
    },
    {
     "name": "stdout",
     "output_type": "stream",
     "text": [
      "creer_graph : donnees mise en forme, connexion ouverte ; 2020-12-10 16:14:23.657752\n",
      "creer_graph : donnees transferees dans la base postgis ; 2020-12-10 16:14:23.673842\n",
      "creer_graph : geometrie modifiee ; 2020-12-10 16:14:23.694619\n",
      "creer_graph : topologie cree ; 2020-12-10 16:14:23.802637\n",
      "creer_graph : graph cree ; 2020-12-10 16:14:23.851835\n"
     ]
    },
    {
     "name": "stderr",
     "output_type": "stream",
     "text": [
      "c:\\users\\marti\\appdata\\local\\programs\\python\\python38\\lib\\site-packages\\sqlalchemy\\dialects\\postgresql\\base.py:3130: SAWarning: Did not recognize type 'xml' of column 'metadata'\n",
      "  util.warn(\n",
      "c:\\users\\marti\\appdata\\local\\programs\\python\\python38\\lib\\site-packages\\sqlalchemy\\dialects\\postgresql\\base.py:3130: SAWarning: Did not recognize type 'xml' of column 'fileid'\n",
      "  util.warn(\n",
      "c:\\users\\marti\\appdata\\local\\programs\\python\\python38\\lib\\site-packages\\sqlalchemy\\dialects\\postgresql\\base.py:3130: SAWarning: Did not recognize type 'xml' of column 'parentid'\n",
      "  util.warn(\n"
     ]
    },
    {
     "name": "stdout",
     "output_type": "stream",
     "text": [
      "0 2020-12-10 16:14:24.267839 nb lignes traitees : 0\n",
      "17-D262E3-3+950\n"
     ]
    },
    {
     "name": "stderr",
     "output_type": "stream",
     "text": [
      "c:\\users\\marti\\appdata\\local\\programs\\python\\python38\\lib\\site-packages\\geopandas\\geodataframe.py:830: UserWarning: Geometry column does not contain geometry.\n",
      "  warnings.warn(\"Geometry column does not contain geometry.\")\n"
     ]
    },
    {
     "name": "stdout",
     "output_type": "stream",
     "text": [
      "creer_graph : donnees mise en forme, connexion ouverte ; 2020-12-10 16:14:24.554390\n",
      "creer_graph : donnees transferees dans la base postgis ; 2020-12-10 16:14:24.576071\n",
      "creer_graph : geometrie modifiee ; 2020-12-10 16:14:24.590734\n",
      "creer_graph : topologie cree ; 2020-12-10 16:14:24.681781\n",
      "creer_graph : graph cree ; 2020-12-10 16:14:24.731670\n"
     ]
    },
    {
     "name": "stderr",
     "output_type": "stream",
     "text": [
      "c:\\users\\marti\\appdata\\local\\programs\\python\\python38\\lib\\site-packages\\sqlalchemy\\dialects\\postgresql\\base.py:3130: SAWarning: Did not recognize type 'xml' of column 'metadata'\n",
      "  util.warn(\n",
      "c:\\users\\marti\\appdata\\local\\programs\\python\\python38\\lib\\site-packages\\sqlalchemy\\dialects\\postgresql\\base.py:3130: SAWarning: Did not recognize type 'xml' of column 'fileid'\n",
      "  util.warn(\n",
      "c:\\users\\marti\\appdata\\local\\programs\\python\\python38\\lib\\site-packages\\sqlalchemy\\dialects\\postgresql\\base.py:3130: SAWarning: Did not recognize type 'xml' of column 'parentid'\n",
      "  util.warn(\n"
     ]
    },
    {
     "name": "stdout",
     "output_type": "stream",
     "text": [
      "0 2020-12-10 16:14:25.160198 nb lignes traitees : 0\n",
      "17-D204-7+260\n"
     ]
    },
    {
     "name": "stderr",
     "output_type": "stream",
     "text": [
      "c:\\users\\marti\\appdata\\local\\programs\\python\\python38\\lib\\site-packages\\geopandas\\geodataframe.py:830: UserWarning: Geometry column does not contain geometry.\n",
      "  warnings.warn(\"Geometry column does not contain geometry.\")\n"
     ]
    },
    {
     "name": "stdout",
     "output_type": "stream",
     "text": [
      "creer_graph : donnees mise en forme, connexion ouverte ; 2020-12-10 16:14:25.530660\n",
      "creer_graph : donnees transferees dans la base postgis ; 2020-12-10 16:14:25.563354\n",
      "creer_graph : geometrie modifiee ; 2020-12-10 16:14:25.579553\n",
      "creer_graph : topologie cree ; 2020-12-10 16:14:25.691273\n",
      "creer_graph : graph cree ; 2020-12-10 16:14:25.743162\n"
     ]
    },
    {
     "name": "stderr",
     "output_type": "stream",
     "text": [
      "c:\\users\\marti\\appdata\\local\\programs\\python\\python38\\lib\\site-packages\\sqlalchemy\\dialects\\postgresql\\base.py:3130: SAWarning: Did not recognize type 'xml' of column 'metadata'\n",
      "  util.warn(\n",
      "c:\\users\\marti\\appdata\\local\\programs\\python\\python38\\lib\\site-packages\\sqlalchemy\\dialects\\postgresql\\base.py:3130: SAWarning: Did not recognize type 'xml' of column 'fileid'\n",
      "  util.warn(\n",
      "c:\\users\\marti\\appdata\\local\\programs\\python\\python38\\lib\\site-packages\\sqlalchemy\\dialects\\postgresql\\base.py:3130: SAWarning: Did not recognize type 'xml' of column 'parentid'\n",
      "  util.warn(\n"
     ]
    },
    {
     "name": "stdout",
     "output_type": "stream",
     "text": [
      "0 2020-12-10 16:14:26.281211 nb lignes traitees : 0\n",
      "17-D212E4-15+0\n"
     ]
    },
    {
     "name": "stderr",
     "output_type": "stream",
     "text": [
      "c:\\users\\marti\\appdata\\local\\programs\\python\\python38\\lib\\site-packages\\geopandas\\geodataframe.py:830: UserWarning: Geometry column does not contain geometry.\n",
      "  warnings.warn(\"Geometry column does not contain geometry.\")\n"
     ]
    },
    {
     "name": "stdout",
     "output_type": "stream",
     "text": [
      "creer_graph : donnees mise en forme, connexion ouverte ; 2020-12-10 16:14:26.608594\n",
      "creer_graph : donnees transferees dans la base postgis ; 2020-12-10 16:14:26.653251\n",
      "creer_graph : geometrie modifiee ; 2020-12-10 16:14:26.669572\n",
      "creer_graph : topologie cree ; 2020-12-10 16:14:26.786584\n",
      "creer_graph : graph cree ; 2020-12-10 16:14:26.838475\n"
     ]
    },
    {
     "name": "stderr",
     "output_type": "stream",
     "text": [
      "c:\\users\\marti\\appdata\\local\\programs\\python\\python38\\lib\\site-packages\\sqlalchemy\\dialects\\postgresql\\base.py:3130: SAWarning: Did not recognize type 'xml' of column 'metadata'\n",
      "  util.warn(\n",
      "c:\\users\\marti\\appdata\\local\\programs\\python\\python38\\lib\\site-packages\\sqlalchemy\\dialects\\postgresql\\base.py:3130: SAWarning: Did not recognize type 'xml' of column 'fileid'\n",
      "  util.warn(\n",
      "c:\\users\\marti\\appdata\\local\\programs\\python\\python38\\lib\\site-packages\\sqlalchemy\\dialects\\postgresql\\base.py:3130: SAWarning: Did not recognize type 'xml' of column 'parentid'\n",
      "  util.warn(\n"
     ]
    },
    {
     "name": "stdout",
     "output_type": "stream",
     "text": [
      "0 2020-12-10 16:14:27.261635 nb lignes traitees : 0\n",
      "17-D6-0+465\n"
     ]
    },
    {
     "name": "stderr",
     "output_type": "stream",
     "text": [
      "c:\\users\\marti\\appdata\\local\\programs\\python\\python38\\lib\\site-packages\\geopandas\\geodataframe.py:830: UserWarning: Geometry column does not contain geometry.\n",
      "  warnings.warn(\"Geometry column does not contain geometry.\")\n"
     ]
    },
    {
     "name": "stdout",
     "output_type": "stream",
     "text": [
      "creer_graph : donnees mise en forme, connexion ouverte ; 2020-12-10 16:14:27.594775\n",
      "creer_graph : donnees transferees dans la base postgis ; 2020-12-10 16:14:27.637786\n",
      "creer_graph : geometrie modifiee ; 2020-12-10 16:14:27.653372\n",
      "creer_graph : topologie cree ; 2020-12-10 16:14:27.803880\n",
      "creer_graph : graph cree ; 2020-12-10 16:14:27.856759\n"
     ]
    },
    {
     "name": "stderr",
     "output_type": "stream",
     "text": [
      "c:\\users\\marti\\appdata\\local\\programs\\python\\python38\\lib\\site-packages\\sqlalchemy\\dialects\\postgresql\\base.py:3130: SAWarning: Did not recognize type 'xml' of column 'metadata'\n",
      "  util.warn(\n",
      "c:\\users\\marti\\appdata\\local\\programs\\python\\python38\\lib\\site-packages\\sqlalchemy\\dialects\\postgresql\\base.py:3130: SAWarning: Did not recognize type 'xml' of column 'fileid'\n",
      "  util.warn(\n",
      "c:\\users\\marti\\appdata\\local\\programs\\python\\python38\\lib\\site-packages\\sqlalchemy\\dialects\\postgresql\\base.py:3130: SAWarning: Did not recognize type 'xml' of column 'parentid'\n",
      "  util.warn(\n"
     ]
    },
    {
     "name": "stdout",
     "output_type": "stream",
     "text": [
      "0 2020-12-10 16:14:28.419213 nb lignes traitees : 0\n",
      "0 2020-12-10 16:14:28.536898 nb lignes traitees : 0\n",
      "17-D910-1+360\n"
     ]
    },
    {
     "name": "stderr",
     "output_type": "stream",
     "text": [
      "c:\\users\\marti\\appdata\\local\\programs\\python\\python38\\lib\\site-packages\\geopandas\\geodataframe.py:830: UserWarning: Geometry column does not contain geometry.\n",
      "  warnings.warn(\"Geometry column does not contain geometry.\")\n"
     ]
    },
    {
     "name": "stdout",
     "output_type": "stream",
     "text": [
      "creer_graph : donnees mise en forme, connexion ouverte ; 2020-12-10 16:14:28.904722\n",
      "creer_graph : donnees transferees dans la base postgis ; 2020-12-10 16:14:28.932533\n",
      "creer_graph : geometrie modifiee ; 2020-12-10 16:14:28.948062\n",
      "creer_graph : topologie cree ; 2020-12-10 16:14:29.111893\n",
      "creer_graph : graph cree ; 2020-12-10 16:14:29.163775\n"
     ]
    },
    {
     "name": "stderr",
     "output_type": "stream",
     "text": [
      "c:\\users\\marti\\appdata\\local\\programs\\python\\python38\\lib\\site-packages\\sqlalchemy\\dialects\\postgresql\\base.py:3130: SAWarning: Did not recognize type 'xml' of column 'metadata'\n",
      "  util.warn(\n",
      "c:\\users\\marti\\appdata\\local\\programs\\python\\python38\\lib\\site-packages\\sqlalchemy\\dialects\\postgresql\\base.py:3130: SAWarning: Did not recognize type 'xml' of column 'fileid'\n",
      "  util.warn(\n",
      "c:\\users\\marti\\appdata\\local\\programs\\python\\python38\\lib\\site-packages\\sqlalchemy\\dialects\\postgresql\\base.py:3130: SAWarning: Did not recognize type 'xml' of column 'parentid'\n",
      "  util.warn(\n"
     ]
    },
    {
     "name": "stdout",
     "output_type": "stream",
     "text": [
      "0 2020-12-10 16:14:29.703388 nb lignes traitees : 0\n",
      "0 2020-12-10 16:14:29.721339 nb lignes traitees : 0\n",
      "0 2020-12-10 16:14:29.800150 nb lignes traitees : 0\n",
      "17-D739-44+740\n"
     ]
    },
    {
     "name": "stderr",
     "output_type": "stream",
     "text": [
      "c:\\users\\marti\\appdata\\local\\programs\\python\\python38\\lib\\site-packages\\geopandas\\geodataframe.py:830: UserWarning: Geometry column does not contain geometry.\n",
      "  warnings.warn(\"Geometry column does not contain geometry.\")\n"
     ]
    },
    {
     "name": "stdout",
     "output_type": "stream",
     "text": [
      "creer_graph : donnees mise en forme, connexion ouverte ; 2020-12-10 16:14:30.116594\n",
      "creer_graph : donnees transferees dans la base postgis ; 2020-12-10 16:14:30.149417\n",
      "creer_graph : geometrie modifiee ; 2020-12-10 16:14:30.164239\n",
      "creer_graph : topologie cree ; 2020-12-10 16:14:30.263194\n",
      "creer_graph : graph cree ; 2020-12-10 16:14:30.314081\n"
     ]
    },
    {
     "name": "stderr",
     "output_type": "stream",
     "text": [
      "c:\\users\\marti\\appdata\\local\\programs\\python\\python38\\lib\\site-packages\\sqlalchemy\\dialects\\postgresql\\base.py:3130: SAWarning: Did not recognize type 'xml' of column 'metadata'\n",
      "  util.warn(\n",
      "c:\\users\\marti\\appdata\\local\\programs\\python\\python38\\lib\\site-packages\\sqlalchemy\\dialects\\postgresql\\base.py:3130: SAWarning: Did not recognize type 'xml' of column 'fileid'\n",
      "  util.warn(\n",
      "c:\\users\\marti\\appdata\\local\\programs\\python\\python38\\lib\\site-packages\\sqlalchemy\\dialects\\postgresql\\base.py:3130: SAWarning: Did not recognize type 'xml' of column 'parentid'\n",
      "  util.warn(\n"
     ]
    },
    {
     "name": "stdout",
     "output_type": "stream",
     "text": [
      "0 2020-12-10 16:14:30.797580 nb lignes traitees : 0\n",
      "0 2020-12-10 16:14:30.904296 nb lignes traitees : 0\n",
      "17-D274-2+840\n"
     ]
    },
    {
     "name": "stderr",
     "output_type": "stream",
     "text": [
      "c:\\users\\marti\\appdata\\local\\programs\\python\\python38\\lib\\site-packages\\geopandas\\geodataframe.py:830: UserWarning: Geometry column does not contain geometry.\n",
      "  warnings.warn(\"Geometry column does not contain geometry.\")\n"
     ]
    },
    {
     "name": "stdout",
     "output_type": "stream",
     "text": [
      "creer_graph : donnees mise en forme, connexion ouverte ; 2020-12-10 16:14:31.386324\n",
      "creer_graph : donnees transferees dans la base postgis ; 2020-12-10 16:14:31.421327\n",
      "creer_graph : geometrie modifiee ; 2020-12-10 16:14:31.440741\n",
      "creer_graph : topologie cree ; 2020-12-10 16:14:31.550505\n",
      "creer_graph : graph cree ; 2020-12-10 16:14:31.603368\n"
     ]
    },
    {
     "name": "stderr",
     "output_type": "stream",
     "text": [
      "c:\\users\\marti\\appdata\\local\\programs\\python\\python38\\lib\\site-packages\\sqlalchemy\\dialects\\postgresql\\base.py:3130: SAWarning: Did not recognize type 'xml' of column 'metadata'\n",
      "  util.warn(\n",
      "c:\\users\\marti\\appdata\\local\\programs\\python\\python38\\lib\\site-packages\\sqlalchemy\\dialects\\postgresql\\base.py:3130: SAWarning: Did not recognize type 'xml' of column 'fileid'\n",
      "  util.warn(\n",
      "c:\\users\\marti\\appdata\\local\\programs\\python\\python38\\lib\\site-packages\\sqlalchemy\\dialects\\postgresql\\base.py:3130: SAWarning: Did not recognize type 'xml' of column 'parentid'\n",
      "  util.warn(\n"
     ]
    },
    {
     "name": "stdout",
     "output_type": "stream",
     "text": [
      "0 2020-12-10 16:14:32.135554 nb lignes traitees : 0\n",
      "0 2020-12-10 16:14:32.436744 nb lignes traitees : 0\n",
      "17-D238-0+600\n"
     ]
    },
    {
     "name": "stderr",
     "output_type": "stream",
     "text": [
      "c:\\users\\marti\\appdata\\local\\programs\\python\\python38\\lib\\site-packages\\geopandas\\geodataframe.py:830: UserWarning: Geometry column does not contain geometry.\n",
      "  warnings.warn(\"Geometry column does not contain geometry.\")\n"
     ]
    },
    {
     "name": "stdout",
     "output_type": "stream",
     "text": [
      "creer_graph : donnees mise en forme, connexion ouverte ; 2020-12-10 16:14:33.058879\n",
      "creer_graph : donnees transferees dans la base postgis ; 2020-12-10 16:14:33.104500\n",
      "creer_graph : geometrie modifiee ; 2020-12-10 16:14:33.123234\n",
      "creer_graph : topologie cree ; 2020-12-10 16:14:33.378054\n",
      "creer_graph : graph cree ; 2020-12-10 16:14:33.434929\n"
     ]
    },
    {
     "name": "stderr",
     "output_type": "stream",
     "text": [
      "c:\\users\\marti\\appdata\\local\\programs\\python\\python38\\lib\\site-packages\\sqlalchemy\\dialects\\postgresql\\base.py:3130: SAWarning: Did not recognize type 'xml' of column 'metadata'\n",
      "  util.warn(\n",
      "c:\\users\\marti\\appdata\\local\\programs\\python\\python38\\lib\\site-packages\\sqlalchemy\\dialects\\postgresql\\base.py:3130: SAWarning: Did not recognize type 'xml' of column 'fileid'\n",
      "  util.warn(\n",
      "c:\\users\\marti\\appdata\\local\\programs\\python\\python38\\lib\\site-packages\\sqlalchemy\\dialects\\postgresql\\base.py:3130: SAWarning: Did not recognize type 'xml' of column 'parentid'\n",
      "  util.warn(\n"
     ]
    },
    {
     "name": "stdout",
     "output_type": "stream",
     "text": [
      "0 2020-12-10 16:14:34.012337 nb lignes traitees : 0\n",
      "0 2020-12-10 16:14:34.152960 nb lignes traitees : 0\n",
      "17-D148-36+390\n"
     ]
    },
    {
     "name": "stderr",
     "output_type": "stream",
     "text": [
      "c:\\users\\marti\\appdata\\local\\programs\\python\\python38\\lib\\site-packages\\geopandas\\geodataframe.py:830: UserWarning: Geometry column does not contain geometry.\n",
      "  warnings.warn(\"Geometry column does not contain geometry.\")\n"
     ]
    },
    {
     "name": "stdout",
     "output_type": "stream",
     "text": [
      "creer_graph : donnees mise en forme, connexion ouverte ; 2020-12-10 16:14:34.632598\n",
      "creer_graph : donnees transferees dans la base postgis ; 2020-12-10 16:14:34.698240\n",
      "creer_graph : geometrie modifiee ; 2020-12-10 16:14:34.717450\n",
      "creer_graph : topologie cree ; 2020-12-10 16:14:34.979813\n",
      "creer_graph : graph cree ; 2020-12-10 16:14:35.038681\n"
     ]
    },
    {
     "name": "stderr",
     "output_type": "stream",
     "text": [
      "c:\\users\\marti\\appdata\\local\\programs\\python\\python38\\lib\\site-packages\\sqlalchemy\\dialects\\postgresql\\base.py:3130: SAWarning: Did not recognize type 'xml' of column 'metadata'\n",
      "  util.warn(\n",
      "c:\\users\\marti\\appdata\\local\\programs\\python\\python38\\lib\\site-packages\\sqlalchemy\\dialects\\postgresql\\base.py:3130: SAWarning: Did not recognize type 'xml' of column 'fileid'\n",
      "  util.warn(\n",
      "c:\\users\\marti\\appdata\\local\\programs\\python\\python38\\lib\\site-packages\\sqlalchemy\\dialects\\postgresql\\base.py:3130: SAWarning: Did not recognize type 'xml' of column 'parentid'\n",
      "  util.warn(\n"
     ]
    },
    {
     "name": "stdout",
     "output_type": "stream",
     "text": [
      "0 2020-12-10 16:14:35.593686 nb lignes traitees : 0\n",
      "0 2020-12-10 16:14:35.647542 nb lignes traitees : 0\n",
      "0 2020-12-10 16:14:35.701398 nb lignes traitees : 0\n",
      "17-D149-1+930\n"
     ]
    },
    {
     "name": "stderr",
     "output_type": "stream",
     "text": [
      "c:\\users\\marti\\appdata\\local\\programs\\python\\python38\\lib\\site-packages\\geopandas\\geodataframe.py:830: UserWarning: Geometry column does not contain geometry.\n",
      "  warnings.warn(\"Geometry column does not contain geometry.\")\n"
     ]
    },
    {
     "name": "stdout",
     "output_type": "stream",
     "text": [
      "creer_graph : donnees mise en forme, connexion ouverte ; 2020-12-10 16:14:36.119029\n",
      "creer_graph : donnees transferees dans la base postgis ; 2020-12-10 16:14:36.171975\n",
      "creer_graph : geometrie modifiee ; 2020-12-10 16:14:36.209722\n",
      "creer_graph : topologie cree ; 2020-12-10 16:14:36.498209\n",
      "creer_graph : graph cree ; 2020-12-10 16:14:36.555081\n"
     ]
    },
    {
     "name": "stderr",
     "output_type": "stream",
     "text": [
      "c:\\users\\marti\\appdata\\local\\programs\\python\\python38\\lib\\site-packages\\sqlalchemy\\dialects\\postgresql\\base.py:3130: SAWarning: Did not recognize type 'xml' of column 'metadata'\n",
      "  util.warn(\n",
      "c:\\users\\marti\\appdata\\local\\programs\\python\\python38\\lib\\site-packages\\sqlalchemy\\dialects\\postgresql\\base.py:3130: SAWarning: Did not recognize type 'xml' of column 'fileid'\n",
      "  util.warn(\n",
      "c:\\users\\marti\\appdata\\local\\programs\\python\\python38\\lib\\site-packages\\sqlalchemy\\dialects\\postgresql\\base.py:3130: SAWarning: Did not recognize type 'xml' of column 'parentid'\n",
      "  util.warn(\n"
     ]
    },
    {
     "name": "stdout",
     "output_type": "stream",
     "text": [
      "0 2020-12-10 16:14:37.009783 nb lignes traitees : 0\n",
      "0 2020-12-10 16:14:37.107521 nb lignes traitees : 0\n",
      "0 2020-12-10 16:14:37.169360 nb lignes traitees : 0\n",
      "0 2020-12-10 16:14:37.268096 nb lignes traitees : 0\n",
      "17-D158E1-1+0\n"
     ]
    },
    {
     "name": "stderr",
     "output_type": "stream",
     "text": [
      "c:\\users\\marti\\appdata\\local\\programs\\python\\python38\\lib\\site-packages\\geopandas\\geodataframe.py:830: UserWarning: Geometry column does not contain geometry.\n",
      "  warnings.warn(\"Geometry column does not contain geometry.\")\n"
     ]
    },
    {
     "name": "stdout",
     "output_type": "stream",
     "text": [
      "creer_graph : donnees mise en forme, connexion ouverte ; 2020-12-10 16:14:37.563380\n",
      "creer_graph : donnees transferees dans la base postgis ; 2020-12-10 16:14:37.581322\n",
      "creer_graph : geometrie modifiee ; 2020-12-10 16:14:37.596573\n",
      "creer_graph : topologie cree ; 2020-12-10 16:14:37.694691\n",
      "creer_graph : graph cree ; 2020-12-10 16:14:37.742588\n"
     ]
    },
    {
     "name": "stderr",
     "output_type": "stream",
     "text": [
      "c:\\users\\marti\\appdata\\local\\programs\\python\\python38\\lib\\site-packages\\sqlalchemy\\dialects\\postgresql\\base.py:3130: SAWarning: Did not recognize type 'xml' of column 'metadata'\n",
      "  util.warn(\n",
      "c:\\users\\marti\\appdata\\local\\programs\\python\\python38\\lib\\site-packages\\sqlalchemy\\dialects\\postgresql\\base.py:3130: SAWarning: Did not recognize type 'xml' of column 'fileid'\n",
      "  util.warn(\n",
      "c:\\users\\marti\\appdata\\local\\programs\\python\\python38\\lib\\site-packages\\sqlalchemy\\dialects\\postgresql\\base.py:3130: SAWarning: Did not recognize type 'xml' of column 'parentid'\n",
      "  util.warn(\n"
     ]
    },
    {
     "name": "stdout",
     "output_type": "stream",
     "text": [
      "0 2020-12-10 16:14:38.169173 nb lignes traitees : 0\n",
      "17-D261-5+670\n"
     ]
    },
    {
     "name": "stderr",
     "output_type": "stream",
     "text": [
      "c:\\users\\marti\\appdata\\local\\programs\\python\\python38\\lib\\site-packages\\geopandas\\geodataframe.py:830: UserWarning: Geometry column does not contain geometry.\n",
      "  warnings.warn(\"Geometry column does not contain geometry.\")\n"
     ]
    },
    {
     "name": "stdout",
     "output_type": "stream",
     "text": [
      "creer_graph : donnees mise en forme, connexion ouverte ; 2020-12-10 16:14:38.465550\n",
      "creer_graph : donnees transferees dans la base postgis ; 2020-12-10 16:14:38.484811\n",
      "creer_graph : geometrie modifiee ; 2020-12-10 16:14:38.499740\n",
      "creer_graph : topologie cree ; 2020-12-10 16:14:38.582412\n",
      "creer_graph : graph cree ; 2020-12-10 16:14:38.631303\n"
     ]
    },
    {
     "name": "stderr",
     "output_type": "stream",
     "text": [
      "c:\\users\\marti\\appdata\\local\\programs\\python\\python38\\lib\\site-packages\\sqlalchemy\\dialects\\postgresql\\base.py:3130: SAWarning: Did not recognize type 'xml' of column 'metadata'\n",
      "  util.warn(\n",
      "c:\\users\\marti\\appdata\\local\\programs\\python\\python38\\lib\\site-packages\\sqlalchemy\\dialects\\postgresql\\base.py:3130: SAWarning: Did not recognize type 'xml' of column 'fileid'\n",
      "  util.warn(\n",
      "c:\\users\\marti\\appdata\\local\\programs\\python\\python38\\lib\\site-packages\\sqlalchemy\\dialects\\postgresql\\base.py:3130: SAWarning: Did not recognize type 'xml' of column 'parentid'\n",
      "  util.warn(\n"
     ]
    },
    {
     "name": "stdout",
     "output_type": "stream",
     "text": [
      "0 2020-12-10 16:14:39.064823 nb lignes traitees : 0\n",
      "0 2020-12-10 16:14:39.106711 nb lignes traitees : 0\n",
      "LaRoch-r de aunis--1.0139;46.188\n"
     ]
    },
    {
     "name": "stderr",
     "output_type": "stream",
     "text": [
      "c:\\users\\marti\\appdata\\local\\programs\\python\\python38\\lib\\site-packages\\geopandas\\geodataframe.py:830: UserWarning: Geometry column does not contain geometry.\n",
      "  warnings.warn(\"Geometry column does not contain geometry.\")\n"
     ]
    },
    {
     "name": "stdout",
     "output_type": "stream",
     "text": [
      "creer_graph : donnees mise en forme, connexion ouverte ; 2020-12-10 16:14:39.435522\n",
      "creer_graph : donnees transferees dans la base postgis ; 2020-12-10 16:14:39.458834\n",
      "creer_graph : geometrie modifiee ; 2020-12-10 16:14:39.479420\n",
      "creer_graph : topologie cree ; 2020-12-10 16:14:39.573078\n",
      "creer_graph : graph cree ; 2020-12-10 16:14:39.623971\n"
     ]
    },
    {
     "name": "stderr",
     "output_type": "stream",
     "text": [
      "c:\\users\\marti\\appdata\\local\\programs\\python\\python38\\lib\\site-packages\\sqlalchemy\\dialects\\postgresql\\base.py:3130: SAWarning: Did not recognize type 'xml' of column 'metadata'\n",
      "  util.warn(\n",
      "c:\\users\\marti\\appdata\\local\\programs\\python\\python38\\lib\\site-packages\\sqlalchemy\\dialects\\postgresql\\base.py:3130: SAWarning: Did not recognize type 'xml' of column 'fileid'\n",
      "  util.warn(\n",
      "c:\\users\\marti\\appdata\\local\\programs\\python\\python38\\lib\\site-packages\\sqlalchemy\\dialects\\postgresql\\base.py:3130: SAWarning: Did not recognize type 'xml' of column 'parentid'\n",
      "  util.warn(\n"
     ]
    },
    {
     "name": "stdout",
     "output_type": "stream",
     "text": [
      "0 2020-12-10 16:14:40.053026 nb lignes traitees : 0\n",
      "LaRoch-rte usseau--1.0266;46.1984\n"
     ]
    },
    {
     "name": "stderr",
     "output_type": "stream",
     "text": [
      "c:\\users\\marti\\appdata\\local\\programs\\python\\python38\\lib\\site-packages\\geopandas\\geodataframe.py:830: UserWarning: Geometry column does not contain geometry.\n",
      "  warnings.warn(\"Geometry column does not contain geometry.\")\n"
     ]
    },
    {
     "name": "stdout",
     "output_type": "stream",
     "text": [
      "creer_graph : donnees mise en forme, connexion ouverte ; 2020-12-10 16:14:40.356221\n",
      "creer_graph : donnees transferees dans la base postgis ; 2020-12-10 16:14:40.371895\n",
      "creer_graph : geometrie modifiee ; 2020-12-10 16:14:40.385596\n",
      "creer_graph : topologie cree ; 2020-12-10 16:14:40.448546\n",
      "creer_graph : graph cree ; 2020-12-10 16:14:40.498440\n"
     ]
    },
    {
     "name": "stderr",
     "output_type": "stream",
     "text": [
      "c:\\users\\marti\\appdata\\local\\programs\\python\\python38\\lib\\site-packages\\sqlalchemy\\dialects\\postgresql\\base.py:3130: SAWarning: Did not recognize type 'xml' of column 'metadata'\n",
      "  util.warn(\n",
      "c:\\users\\marti\\appdata\\local\\programs\\python\\python38\\lib\\site-packages\\sqlalchemy\\dialects\\postgresql\\base.py:3130: SAWarning: Did not recognize type 'xml' of column 'fileid'\n",
      "  util.warn(\n",
      "c:\\users\\marti\\appdata\\local\\programs\\python\\python38\\lib\\site-packages\\sqlalchemy\\dialects\\postgresql\\base.py:3130: SAWarning: Did not recognize type 'xml' of column 'parentid'\n",
      "  util.warn(\n"
     ]
    },
    {
     "name": "stdout",
     "output_type": "stream",
     "text": [
      "0 2020-12-10 16:14:40.928004 nb lignes traitees : 0\n",
      "17-D253-2+0\n"
     ]
    },
    {
     "name": "stderr",
     "output_type": "stream",
     "text": [
      "c:\\users\\marti\\appdata\\local\\programs\\python\\python38\\lib\\site-packages\\geopandas\\geodataframe.py:830: UserWarning: Geometry column does not contain geometry.\n",
      "  warnings.warn(\"Geometry column does not contain geometry.\")\n"
     ]
    },
    {
     "name": "stdout",
     "output_type": "stream",
     "text": [
      "creer_graph : donnees mise en forme, connexion ouverte ; 2020-12-10 16:14:41.301633\n",
      "creer_graph : donnees transferees dans la base postgis ; 2020-12-10 16:14:41.350525\n",
      "creer_graph : geometrie modifiee ; 2020-12-10 16:14:41.367110\n",
      "creer_graph : topologie cree ; 2020-12-10 16:14:41.582796\n",
      "creer_graph : graph cree ; 2020-12-10 16:14:41.640577\n"
     ]
    },
    {
     "name": "stderr",
     "output_type": "stream",
     "text": [
      "c:\\users\\marti\\appdata\\local\\programs\\python\\python38\\lib\\site-packages\\sqlalchemy\\dialects\\postgresql\\base.py:3130: SAWarning: Did not recognize type 'xml' of column 'metadata'\n",
      "  util.warn(\n",
      "c:\\users\\marti\\appdata\\local\\programs\\python\\python38\\lib\\site-packages\\sqlalchemy\\dialects\\postgresql\\base.py:3130: SAWarning: Did not recognize type 'xml' of column 'fileid'\n",
      "  util.warn(\n",
      "c:\\users\\marti\\appdata\\local\\programs\\python\\python38\\lib\\site-packages\\sqlalchemy\\dialects\\postgresql\\base.py:3130: SAWarning: Did not recognize type 'xml' of column 'parentid'\n",
      "  util.warn(\n"
     ]
    },
    {
     "name": "stdout",
     "output_type": "stream",
     "text": [
      "0 2020-12-10 16:14:42.138548 nb lignes traitees : 0\n",
      "0 2020-12-10 16:14:42.251253 nb lignes traitees : 0\n",
      "LaRoch-av louis lumiere--1.1038;46.1609\n"
     ]
    },
    {
     "name": "stderr",
     "output_type": "stream",
     "text": [
      "c:\\users\\marti\\appdata\\local\\programs\\python\\python38\\lib\\site-packages\\geopandas\\geodataframe.py:830: UserWarning: Geometry column does not contain geometry.\n",
      "  warnings.warn(\"Geometry column does not contain geometry.\")\n"
     ]
    },
    {
     "name": "stdout",
     "output_type": "stream",
     "text": [
      "creer_graph : donnees mise en forme, connexion ouverte ; 2020-12-10 16:14:42.616827\n",
      "creer_graph : donnees transferees dans la base postgis ; 2020-12-10 16:14:42.637139\n",
      "creer_graph : geometrie modifiee ; 2020-12-10 16:14:42.663676\n",
      "creer_graph : topologie cree ; 2020-12-10 16:14:42.747989\n",
      "creer_graph : graph cree ; 2020-12-10 16:14:42.797857\n"
     ]
    },
    {
     "name": "stderr",
     "output_type": "stream",
     "text": [
      "c:\\users\\marti\\appdata\\local\\programs\\python\\python38\\lib\\site-packages\\sqlalchemy\\dialects\\postgresql\\base.py:3130: SAWarning: Did not recognize type 'xml' of column 'metadata'\n",
      "  util.warn(\n",
      "c:\\users\\marti\\appdata\\local\\programs\\python\\python38\\lib\\site-packages\\sqlalchemy\\dialects\\postgresql\\base.py:3130: SAWarning: Did not recognize type 'xml' of column 'fileid'\n",
      "  util.warn(\n",
      "c:\\users\\marti\\appdata\\local\\programs\\python\\python38\\lib\\site-packages\\sqlalchemy\\dialects\\postgresql\\base.py:3130: SAWarning: Did not recognize type 'xml' of column 'parentid'\n",
      "  util.warn(\n"
     ]
    },
    {
     "name": "stdout",
     "output_type": "stream",
     "text": [
      "0 2020-12-10 16:14:43.220932 nb lignes traitees : 0\n",
      "0 2020-12-10 16:14:43.454166 nb lignes traitees : 0\n",
      "17-D939E2-1+940\n"
     ]
    },
    {
     "name": "stderr",
     "output_type": "stream",
     "text": [
      "c:\\users\\marti\\appdata\\local\\programs\\python\\python38\\lib\\site-packages\\geopandas\\geodataframe.py:830: UserWarning: Geometry column does not contain geometry.\n",
      "  warnings.warn(\"Geometry column does not contain geometry.\")\n"
     ]
    },
    {
     "name": "stdout",
     "output_type": "stream",
     "text": [
      "creer_graph : donnees mise en forme, connexion ouverte ; 2020-12-10 16:14:43.816457\n",
      "creer_graph : donnees transferees dans la base postgis ; 2020-12-10 16:14:43.846380\n",
      "creer_graph : geometrie modifiee ; 2020-12-10 16:14:43.861473\n",
      "creer_graph : topologie cree ; 2020-12-10 16:14:44.001688\n",
      "creer_graph : graph cree ; 2020-12-10 16:14:44.053549\n"
     ]
    },
    {
     "name": "stderr",
     "output_type": "stream",
     "text": [
      "c:\\users\\marti\\appdata\\local\\programs\\python\\python38\\lib\\site-packages\\sqlalchemy\\dialects\\postgresql\\base.py:3130: SAWarning: Did not recognize type 'xml' of column 'metadata'\n",
      "  util.warn(\n",
      "c:\\users\\marti\\appdata\\local\\programs\\python\\python38\\lib\\site-packages\\sqlalchemy\\dialects\\postgresql\\base.py:3130: SAWarning: Did not recognize type 'xml' of column 'fileid'\n",
      "  util.warn(\n",
      "c:\\users\\marti\\appdata\\local\\programs\\python\\python38\\lib\\site-packages\\sqlalchemy\\dialects\\postgresql\\base.py:3130: SAWarning: Did not recognize type 'xml' of column 'parentid'\n",
      "  util.warn(\n"
     ]
    },
    {
     "name": "stdout",
     "output_type": "stream",
     "text": [
      "0 2020-12-10 16:14:44.598069 nb lignes traitees : 0\n",
      "17-D229E2-7+780\n"
     ]
    },
    {
     "name": "stderr",
     "output_type": "stream",
     "text": [
      "c:\\users\\marti\\appdata\\local\\programs\\python\\python38\\lib\\site-packages\\geopandas\\geodataframe.py:830: UserWarning: Geometry column does not contain geometry.\n",
      "  warnings.warn(\"Geometry column does not contain geometry.\")\n"
     ]
    },
    {
     "name": "stdout",
     "output_type": "stream",
     "text": [
      "creer_graph : donnees mise en forme, connexion ouverte ; 2020-12-10 16:14:45.089965\n",
      "creer_graph : donnees transferees dans la base postgis ; 2020-12-10 16:14:45.117821\n",
      "creer_graph : geometrie modifiee ; 2020-12-10 16:14:45.133818\n",
      "creer_graph : topologie cree ; 2020-12-10 16:14:45.254674\n",
      "creer_graph : graph cree ; 2020-12-10 16:14:45.306561\n"
     ]
    },
    {
     "name": "stderr",
     "output_type": "stream",
     "text": [
      "c:\\users\\marti\\appdata\\local\\programs\\python\\python38\\lib\\site-packages\\sqlalchemy\\dialects\\postgresql\\base.py:3130: SAWarning: Did not recognize type 'xml' of column 'metadata'\n",
      "  util.warn(\n",
      "c:\\users\\marti\\appdata\\local\\programs\\python\\python38\\lib\\site-packages\\sqlalchemy\\dialects\\postgresql\\base.py:3130: SAWarning: Did not recognize type 'xml' of column 'fileid'\n",
      "  util.warn(\n",
      "c:\\users\\marti\\appdata\\local\\programs\\python\\python38\\lib\\site-packages\\sqlalchemy\\dialects\\postgresql\\base.py:3130: SAWarning: Did not recognize type 'xml' of column 'parentid'\n",
      "  util.warn(\n"
     ]
    },
    {
     "name": "stdout",
     "output_type": "stream",
     "text": [
      "0 2020-12-10 16:14:45.753643 nb lignes traitees : 0\n",
      "0 2020-12-10 16:14:45.895263 nb lignes traitees : 0\n",
      "17-D237E3-2+360\n"
     ]
    },
    {
     "name": "stderr",
     "output_type": "stream",
     "text": [
      "c:\\users\\marti\\appdata\\local\\programs\\python\\python38\\lib\\site-packages\\geopandas\\geodataframe.py:830: UserWarning: Geometry column does not contain geometry.\n",
      "  warnings.warn(\"Geometry column does not contain geometry.\")\n"
     ]
    },
    {
     "name": "stdout",
     "output_type": "stream",
     "text": [
      "creer_graph : donnees mise en forme, connexion ouverte ; 2020-12-10 16:14:46.284229\n",
      "creer_graph : donnees transferees dans la base postgis ; 2020-12-10 16:14:46.307746\n",
      "creer_graph : geometrie modifiee ; 2020-12-10 16:14:46.329687\n",
      "creer_graph : topologie cree ; 2020-12-10 16:14:46.439580\n",
      "creer_graph : graph cree ; 2020-12-10 16:14:46.491465\n"
     ]
    },
    {
     "name": "stderr",
     "output_type": "stream",
     "text": [
      "c:\\users\\marti\\appdata\\local\\programs\\python\\python38\\lib\\site-packages\\sqlalchemy\\dialects\\postgresql\\base.py:3130: SAWarning: Did not recognize type 'xml' of column 'metadata'\n",
      "  util.warn(\n",
      "c:\\users\\marti\\appdata\\local\\programs\\python\\python38\\lib\\site-packages\\sqlalchemy\\dialects\\postgresql\\base.py:3130: SAWarning: Did not recognize type 'xml' of column 'fileid'\n",
      "  util.warn(\n",
      "c:\\users\\marti\\appdata\\local\\programs\\python\\python38\\lib\\site-packages\\sqlalchemy\\dialects\\postgresql\\base.py:3130: SAWarning: Did not recognize type 'xml' of column 'parentid'\n",
      "  util.warn(\n"
     ]
    },
    {
     "name": "stdout",
     "output_type": "stream",
     "text": [
      "0 2020-12-10 16:14:46.944035 nb lignes traitees : 0\n",
      "17-D214E1-1+230\n"
     ]
    },
    {
     "name": "stderr",
     "output_type": "stream",
     "text": [
      "c:\\users\\marti\\appdata\\local\\programs\\python\\python38\\lib\\site-packages\\geopandas\\geodataframe.py:830: UserWarning: Geometry column does not contain geometry.\n",
      "  warnings.warn(\"Geometry column does not contain geometry.\")\n"
     ]
    },
    {
     "name": "stdout",
     "output_type": "stream",
     "text": [
      "creer_graph : donnees mise en forme, connexion ouverte ; 2020-12-10 16:14:47.240644\n",
      "creer_graph : donnees transferees dans la base postgis ; 2020-12-10 16:14:47.271567\n",
      "creer_graph : geometrie modifiee ; 2020-12-10 16:14:47.289209\n",
      "creer_graph : topologie cree ; 2020-12-10 16:14:47.382161\n",
      "creer_graph : graph cree ; 2020-12-10 16:14:47.431030\n"
     ]
    },
    {
     "name": "stderr",
     "output_type": "stream",
     "text": [
      "c:\\users\\marti\\appdata\\local\\programs\\python\\python38\\lib\\site-packages\\sqlalchemy\\dialects\\postgresql\\base.py:3130: SAWarning: Did not recognize type 'xml' of column 'metadata'\n",
      "  util.warn(\n",
      "c:\\users\\marti\\appdata\\local\\programs\\python\\python38\\lib\\site-packages\\sqlalchemy\\dialects\\postgresql\\base.py:3130: SAWarning: Did not recognize type 'xml' of column 'fileid'\n",
      "  util.warn(\n",
      "c:\\users\\marti\\appdata\\local\\programs\\python\\python38\\lib\\site-packages\\sqlalchemy\\dialects\\postgresql\\base.py:3130: SAWarning: Did not recognize type 'xml' of column 'parentid'\n",
      "  util.warn(\n"
     ]
    },
    {
     "name": "stdout",
     "output_type": "stream",
     "text": [
      "0 2020-12-10 16:14:47.846431 nb lignes traitees : 0\n",
      "LaRoch-r jacques cartier--1.2008;46.1582\n"
     ]
    },
    {
     "name": "stderr",
     "output_type": "stream",
     "text": [
      "c:\\users\\marti\\appdata\\local\\programs\\python\\python38\\lib\\site-packages\\geopandas\\geodataframe.py:830: UserWarning: Geometry column does not contain geometry.\n",
      "  warnings.warn(\"Geometry column does not contain geometry.\")\n"
     ]
    },
    {
     "name": "stdout",
     "output_type": "stream",
     "text": [
      "creer_graph : donnees mise en forme, connexion ouverte ; 2020-12-10 16:14:48.218291\n",
      "creer_graph : donnees transferees dans la base postgis ; 2020-12-10 16:14:48.234515\n",
      "creer_graph : geometrie modifiee ; 2020-12-10 16:14:48.249325\n",
      "creer_graph : topologie cree ; 2020-12-10 16:14:48.308221\n",
      "creer_graph : graph cree ; 2020-12-10 16:14:48.358081\n"
     ]
    },
    {
     "name": "stderr",
     "output_type": "stream",
     "text": [
      "c:\\users\\marti\\appdata\\local\\programs\\python\\python38\\lib\\site-packages\\sqlalchemy\\dialects\\postgresql\\base.py:3130: SAWarning: Did not recognize type 'xml' of column 'metadata'\n",
      "  util.warn(\n",
      "c:\\users\\marti\\appdata\\local\\programs\\python\\python38\\lib\\site-packages\\sqlalchemy\\dialects\\postgresql\\base.py:3130: SAWarning: Did not recognize type 'xml' of column 'fileid'\n",
      "  util.warn(\n",
      "c:\\users\\marti\\appdata\\local\\programs\\python\\python38\\lib\\site-packages\\sqlalchemy\\dialects\\postgresql\\base.py:3130: SAWarning: Did not recognize type 'xml' of column 'parentid'\n",
      "  util.warn(\n"
     ]
    },
    {
     "name": "stdout",
     "output_type": "stream",
     "text": [
      "0 2020-12-10 16:14:48.774687 nb lignes traitees : 0\n",
      "LaRoch-av des treuils--1.1073;46.1035\n"
     ]
    },
    {
     "name": "stderr",
     "output_type": "stream",
     "text": [
      "c:\\users\\marti\\appdata\\local\\programs\\python\\python38\\lib\\site-packages\\geopandas\\geodataframe.py:830: UserWarning: Geometry column does not contain geometry.\n",
      "  warnings.warn(\"Geometry column does not contain geometry.\")\n"
     ]
    },
    {
     "name": "stdout",
     "output_type": "stream",
     "text": [
      "creer_graph : donnees mise en forme, connexion ouverte ; 2020-12-10 16:14:49.024326\n",
      "creer_graph : donnees transferees dans la base postgis ; 2020-12-10 16:14:49.039027\n",
      "creer_graph : geometrie modifiee ; 2020-12-10 16:14:49.054225\n",
      "creer_graph : topologie cree ; 2020-12-10 16:14:49.117960\n",
      "creer_graph : graph cree ; 2020-12-10 16:14:49.166832\n"
     ]
    },
    {
     "name": "stderr",
     "output_type": "stream",
     "text": [
      "c:\\users\\marti\\appdata\\local\\programs\\python\\python38\\lib\\site-packages\\sqlalchemy\\dialects\\postgresql\\base.py:3130: SAWarning: Did not recognize type 'xml' of column 'metadata'\n",
      "  util.warn(\n",
      "c:\\users\\marti\\appdata\\local\\programs\\python\\python38\\lib\\site-packages\\sqlalchemy\\dialects\\postgresql\\base.py:3130: SAWarning: Did not recognize type 'xml' of column 'fileid'\n",
      "  util.warn(\n",
      "c:\\users\\marti\\appdata\\local\\programs\\python\\python38\\lib\\site-packages\\sqlalchemy\\dialects\\postgresql\\base.py:3130: SAWarning: Did not recognize type 'xml' of column 'parentid'\n",
      "  util.warn(\n"
     ]
    },
    {
     "name": "stdout",
     "output_type": "stream",
     "text": [
      "0 2020-12-10 16:14:49.598464 nb lignes traitees : 0\n",
      "17-D133-32+840\n"
     ]
    },
    {
     "name": "stderr",
     "output_type": "stream",
     "text": [
      "c:\\users\\marti\\appdata\\local\\programs\\python\\python38\\lib\\site-packages\\geopandas\\geodataframe.py:830: UserWarning: Geometry column does not contain geometry.\n",
      "  warnings.warn(\"Geometry column does not contain geometry.\")\n"
     ]
    },
    {
     "name": "stdout",
     "output_type": "stream",
     "text": [
      "creer_graph : donnees mise en forme, connexion ouverte ; 2020-12-10 16:14:49.969231\n",
      "creer_graph : donnees transferees dans la base postgis ; 2020-12-10 16:14:50.014897\n",
      "creer_graph : geometrie modifiee ; 2020-12-10 16:14:50.032872\n",
      "creer_graph : topologie cree ; 2020-12-10 16:14:50.262167\n",
      "creer_graph : graph cree ; 2020-12-10 16:14:50.319039\n"
     ]
    },
    {
     "name": "stderr",
     "output_type": "stream",
     "text": [
      "c:\\users\\marti\\appdata\\local\\programs\\python\\python38\\lib\\site-packages\\sqlalchemy\\dialects\\postgresql\\base.py:3130: SAWarning: Did not recognize type 'xml' of column 'metadata'\n",
      "  util.warn(\n",
      "c:\\users\\marti\\appdata\\local\\programs\\python\\python38\\lib\\site-packages\\sqlalchemy\\dialects\\postgresql\\base.py:3130: SAWarning: Did not recognize type 'xml' of column 'fileid'\n",
      "  util.warn(\n",
      "c:\\users\\marti\\appdata\\local\\programs\\python\\python38\\lib\\site-packages\\sqlalchemy\\dialects\\postgresql\\base.py:3130: SAWarning: Did not recognize type 'xml' of column 'parentid'\n",
      "  util.warn(\n"
     ]
    },
    {
     "name": "stdout",
     "output_type": "stream",
     "text": [
      "0 2020-12-10 16:14:50.855380 nb lignes traitees : 0\n",
      "17-D117E1-12+40\n"
     ]
    },
    {
     "name": "stderr",
     "output_type": "stream",
     "text": [
      "c:\\users\\marti\\appdata\\local\\programs\\python\\python38\\lib\\site-packages\\geopandas\\geodataframe.py:830: UserWarning: Geometry column does not contain geometry.\n",
      "  warnings.warn(\"Geometry column does not contain geometry.\")\n"
     ]
    },
    {
     "name": "stdout",
     "output_type": "stream",
     "text": [
      "creer_graph : donnees mise en forme, connexion ouverte ; 2020-12-10 16:14:51.187684\n",
      "creer_graph : donnees transferees dans la base postgis ; 2020-12-10 16:14:51.210861\n",
      "creer_graph : geometrie modifiee ; 2020-12-10 16:14:51.226111\n",
      "creer_graph : topologie cree ; 2020-12-10 16:14:51.342905\n",
      "creer_graph : graph cree ; 2020-12-10 16:14:51.393798\n"
     ]
    },
    {
     "name": "stderr",
     "output_type": "stream",
     "text": [
      "c:\\users\\marti\\appdata\\local\\programs\\python\\python38\\lib\\site-packages\\sqlalchemy\\dialects\\postgresql\\base.py:3130: SAWarning: Did not recognize type 'xml' of column 'metadata'\n",
      "  util.warn(\n",
      "c:\\users\\marti\\appdata\\local\\programs\\python\\python38\\lib\\site-packages\\sqlalchemy\\dialects\\postgresql\\base.py:3130: SAWarning: Did not recognize type 'xml' of column 'fileid'\n",
      "  util.warn(\n",
      "c:\\users\\marti\\appdata\\local\\programs\\python\\python38\\lib\\site-packages\\sqlalchemy\\dialects\\postgresql\\base.py:3130: SAWarning: Did not recognize type 'xml' of column 'parentid'\n",
      "  util.warn(\n"
     ]
    },
    {
     "name": "stdout",
     "output_type": "stream",
     "text": [
      "0 2020-12-10 16:14:51.849166 nb lignes traitees : 0\n",
      "0 2020-12-10 16:14:51.896046 nb lignes traitees : 0\n",
      "0 2020-12-10 16:14:51.945887 nb lignes traitees : 0\n",
      "0 2020-12-10 16:14:51.993759 nb lignes traitees : 0\n",
      "LaRoch-rte de paris--1.0248;46.2037\n"
     ]
    },
    {
     "name": "stderr",
     "output_type": "stream",
     "text": [
      "c:\\users\\marti\\appdata\\local\\programs\\python\\python38\\lib\\site-packages\\geopandas\\geodataframe.py:830: UserWarning: Geometry column does not contain geometry.\n",
      "  warnings.warn(\"Geometry column does not contain geometry.\")\n"
     ]
    },
    {
     "name": "stdout",
     "output_type": "stream",
     "text": [
      "creer_graph : donnees mise en forme, connexion ouverte ; 2020-12-10 16:14:52.292139\n",
      "creer_graph : donnees transferees dans la base postgis ; 2020-12-10 16:14:52.305874\n",
      "creer_graph : geometrie modifiee ; 2020-12-10 16:14:52.320855\n",
      "creer_graph : topologie cree ; 2020-12-10 16:14:52.381415\n",
      "creer_graph : graph cree ; 2020-12-10 16:14:52.429287\n"
     ]
    },
    {
     "name": "stderr",
     "output_type": "stream",
     "text": [
      "c:\\users\\marti\\appdata\\local\\programs\\python\\python38\\lib\\site-packages\\sqlalchemy\\dialects\\postgresql\\base.py:3130: SAWarning: Did not recognize type 'xml' of column 'metadata'\n",
      "  util.warn(\n",
      "c:\\users\\marti\\appdata\\local\\programs\\python\\python38\\lib\\site-packages\\sqlalchemy\\dialects\\postgresql\\base.py:3130: SAWarning: Did not recognize type 'xml' of column 'fileid'\n",
      "  util.warn(\n",
      "c:\\users\\marti\\appdata\\local\\programs\\python\\python38\\lib\\site-packages\\sqlalchemy\\dialects\\postgresql\\base.py:3130: SAWarning: Did not recognize type 'xml' of column 'parentid'\n",
      "  util.warn(\n"
     ]
    },
    {
     "name": "stdout",
     "output_type": "stream",
     "text": [
      "0 2020-12-10 16:14:52.925473 nb lignes traitees : 0\n",
      "LaRoch-r des sports--1.0965;46.2057\n"
     ]
    },
    {
     "name": "stderr",
     "output_type": "stream",
     "text": [
      "c:\\users\\marti\\appdata\\local\\programs\\python\\python38\\lib\\site-packages\\geopandas\\geodataframe.py:830: UserWarning: Geometry column does not contain geometry.\n",
      "  warnings.warn(\"Geometry column does not contain geometry.\")\n"
     ]
    },
    {
     "name": "stdout",
     "output_type": "stream",
     "text": [
      "creer_graph : donnees mise en forme, connexion ouverte ; 2020-12-10 16:14:53.278964\n",
      "creer_graph : donnees transferees dans la base postgis ; 2020-12-10 16:14:53.309262\n",
      "creer_graph : geometrie modifiee ; 2020-12-10 16:14:53.328614\n",
      "creer_graph : topologie cree ; 2020-12-10 16:14:53.390448\n",
      "creer_graph : graph cree ; 2020-12-10 16:14:53.439314\n"
     ]
    },
    {
     "name": "stderr",
     "output_type": "stream",
     "text": [
      "c:\\users\\marti\\appdata\\local\\programs\\python\\python38\\lib\\site-packages\\sqlalchemy\\dialects\\postgresql\\base.py:3130: SAWarning: Did not recognize type 'xml' of column 'metadata'\n",
      "  util.warn(\n",
      "c:\\users\\marti\\appdata\\local\\programs\\python\\python38\\lib\\site-packages\\sqlalchemy\\dialects\\postgresql\\base.py:3130: SAWarning: Did not recognize type 'xml' of column 'fileid'\n",
      "  util.warn(\n",
      "c:\\users\\marti\\appdata\\local\\programs\\python\\python38\\lib\\site-packages\\sqlalchemy\\dialects\\postgresql\\base.py:3130: SAWarning: Did not recognize type 'xml' of column 'parentid'\n",
      "  util.warn(\n"
     ]
    },
    {
     "name": "stdout",
     "output_type": "stream",
     "text": [
      "0 2020-12-10 16:14:53.857225 nb lignes traitees : 0\n",
      "17-D237-1+320\n"
     ]
    },
    {
     "name": "stderr",
     "output_type": "stream",
     "text": [
      "c:\\users\\marti\\appdata\\local\\programs\\python\\python38\\lib\\site-packages\\geopandas\\geodataframe.py:830: UserWarning: Geometry column does not contain geometry.\n",
      "  warnings.warn(\"Geometry column does not contain geometry.\")\n"
     ]
    },
    {
     "name": "stdout",
     "output_type": "stream",
     "text": [
      "creer_graph : donnees mise en forme, connexion ouverte ; 2020-12-10 16:14:54.150832\n",
      "creer_graph : donnees transferees dans la base postgis ; 2020-12-10 16:14:54.197876\n",
      "creer_graph : geometrie modifiee ; 2020-12-10 16:14:54.221136\n",
      "creer_graph : topologie cree ; 2020-12-10 16:14:54.329962\n",
      "creer_graph : graph cree ; 2020-12-10 16:14:54.381851\n"
     ]
    },
    {
     "name": "stderr",
     "output_type": "stream",
     "text": [
      "c:\\users\\marti\\appdata\\local\\programs\\python\\python38\\lib\\site-packages\\sqlalchemy\\dialects\\postgresql\\base.py:3130: SAWarning: Did not recognize type 'xml' of column 'metadata'\n",
      "  util.warn(\n",
      "c:\\users\\marti\\appdata\\local\\programs\\python\\python38\\lib\\site-packages\\sqlalchemy\\dialects\\postgresql\\base.py:3130: SAWarning: Did not recognize type 'xml' of column 'fileid'\n",
      "  util.warn(\n",
      "c:\\users\\marti\\appdata\\local\\programs\\python\\python38\\lib\\site-packages\\sqlalchemy\\dialects\\postgresql\\base.py:3130: SAWarning: Did not recognize type 'xml' of column 'parentid'\n",
      "  util.warn(\n"
     ]
    },
    {
     "name": "stdout",
     "output_type": "stream",
     "text": [
      "0 2020-12-10 16:14:54.809203 nb lignes traitees : 0\n",
      "0 2020-12-10 16:14:54.926888 nb lignes traitees : 0\n",
      "17-D699-0+830\n"
     ]
    },
    {
     "name": "stderr",
     "output_type": "stream",
     "text": [
      "c:\\users\\marti\\appdata\\local\\programs\\python\\python38\\lib\\site-packages\\geopandas\\geodataframe.py:830: UserWarning: Geometry column does not contain geometry.\n",
      "  warnings.warn(\"Geometry column does not contain geometry.\")\n"
     ]
    },
    {
     "name": "stdout",
     "output_type": "stream",
     "text": [
      "creer_graph : donnees mise en forme, connexion ouverte ; 2020-12-10 16:14:55.291060\n",
      "creer_graph : donnees transferees dans la base postgis ; 2020-12-10 16:14:55.316785\n",
      "creer_graph : geometrie modifiee ; 2020-12-10 16:14:55.344350\n",
      "creer_graph : topologie cree ; 2020-12-10 16:14:55.453345\n",
      "creer_graph : graph cree ; 2020-12-10 16:14:55.504232\n"
     ]
    },
    {
     "name": "stderr",
     "output_type": "stream",
     "text": [
      "c:\\users\\marti\\appdata\\local\\programs\\python\\python38\\lib\\site-packages\\sqlalchemy\\dialects\\postgresql\\base.py:3130: SAWarning: Did not recognize type 'xml' of column 'metadata'\n",
      "  util.warn(\n",
      "c:\\users\\marti\\appdata\\local\\programs\\python\\python38\\lib\\site-packages\\sqlalchemy\\dialects\\postgresql\\base.py:3130: SAWarning: Did not recognize type 'xml' of column 'fileid'\n",
      "  util.warn(\n",
      "c:\\users\\marti\\appdata\\local\\programs\\python\\python38\\lib\\site-packages\\sqlalchemy\\dialects\\postgresql\\base.py:3130: SAWarning: Did not recognize type 'xml' of column 'parentid'\n",
      "  util.warn(\n"
     ]
    },
    {
     "name": "stdout",
     "output_type": "stream",
     "text": [
      "0 2020-12-10 16:14:55.920461 nb lignes traitees : 0\n",
      "LaRoch-r du bois d hure--1.1441;46.1897\n"
     ]
    },
    {
     "name": "stderr",
     "output_type": "stream",
     "text": [
      "c:\\users\\marti\\appdata\\local\\programs\\python\\python38\\lib\\site-packages\\geopandas\\geodataframe.py:830: UserWarning: Geometry column does not contain geometry.\n",
      "  warnings.warn(\"Geometry column does not contain geometry.\")\n"
     ]
    },
    {
     "name": "stdout",
     "output_type": "stream",
     "text": [
      "creer_graph : donnees mise en forme, connexion ouverte ; 2020-12-10 16:14:56.182584\n",
      "creer_graph : donnees transferees dans la base postgis ; 2020-12-10 16:14:56.198466\n",
      "creer_graph : geometrie modifiee ; 2020-12-10 16:14:56.212639\n",
      "creer_graph : topologie cree ; 2020-12-10 16:14:56.277963\n",
      "creer_graph : graph cree ; 2020-12-10 16:14:56.326860\n"
     ]
    },
    {
     "name": "stderr",
     "output_type": "stream",
     "text": [
      "c:\\users\\marti\\appdata\\local\\programs\\python\\python38\\lib\\site-packages\\sqlalchemy\\dialects\\postgresql\\base.py:3130: SAWarning: Did not recognize type 'xml' of column 'metadata'\n",
      "  util.warn(\n",
      "c:\\users\\marti\\appdata\\local\\programs\\python\\python38\\lib\\site-packages\\sqlalchemy\\dialects\\postgresql\\base.py:3130: SAWarning: Did not recognize type 'xml' of column 'fileid'\n",
      "  util.warn(\n",
      "c:\\users\\marti\\appdata\\local\\programs\\python\\python38\\lib\\site-packages\\sqlalchemy\\dialects\\postgresql\\base.py:3130: SAWarning: Did not recognize type 'xml' of column 'parentid'\n",
      "  util.warn(\n"
     ]
    },
    {
     "name": "stdout",
     "output_type": "stream",
     "text": [
      "0 2020-12-10 16:14:56.734163 nb lignes traitees : 0\n",
      "LaRoch-r de beauregard--1.1367;46.1721\n"
     ]
    },
    {
     "name": "stderr",
     "output_type": "stream",
     "text": [
      "c:\\users\\marti\\appdata\\local\\programs\\python\\python38\\lib\\site-packages\\geopandas\\geodataframe.py:830: UserWarning: Geometry column does not contain geometry.\n",
      "  warnings.warn(\"Geometry column does not contain geometry.\")\n"
     ]
    },
    {
     "name": "stdout",
     "output_type": "stream",
     "text": [
      "creer_graph : donnees mise en forme, connexion ouverte ; 2020-12-10 16:14:57.079909\n",
      "creer_graph : donnees transferees dans la base postgis ; 2020-12-10 16:14:57.105993\n",
      "creer_graph : geometrie modifiee ; 2020-12-10 16:14:57.121877\n",
      "creer_graph : topologie cree ; 2020-12-10 16:14:57.195120\n",
      "creer_graph : graph cree ; 2020-12-10 16:14:57.247979\n"
     ]
    },
    {
     "name": "stderr",
     "output_type": "stream",
     "text": [
      "c:\\users\\marti\\appdata\\local\\programs\\python\\python38\\lib\\site-packages\\sqlalchemy\\dialects\\postgresql\\base.py:3130: SAWarning: Did not recognize type 'xml' of column 'metadata'\n",
      "  util.warn(\n",
      "c:\\users\\marti\\appdata\\local\\programs\\python\\python38\\lib\\site-packages\\sqlalchemy\\dialects\\postgresql\\base.py:3130: SAWarning: Did not recognize type 'xml' of column 'fileid'\n",
      "  util.warn(\n",
      "c:\\users\\marti\\appdata\\local\\programs\\python\\python38\\lib\\site-packages\\sqlalchemy\\dialects\\postgresql\\base.py:3130: SAWarning: Did not recognize type 'xml' of column 'parentid'\n",
      "  util.warn(\n"
     ]
    },
    {
     "name": "stdout",
     "output_type": "stream",
     "text": [
      "0 2020-12-10 16:14:57.680937 nb lignes traitees : 0\n",
      "LaRoch-r marius lacroix--1.1465;46.1709\n"
     ]
    },
    {
     "name": "stderr",
     "output_type": "stream",
     "text": [
      "c:\\users\\marti\\appdata\\local\\programs\\python\\python38\\lib\\site-packages\\geopandas\\geodataframe.py:830: UserWarning: Geometry column does not contain geometry.\n",
      "  warnings.warn(\"Geometry column does not contain geometry.\")\n"
     ]
    },
    {
     "name": "stdout",
     "output_type": "stream",
     "text": [
      "creer_graph : donnees mise en forme, connexion ouverte ; 2020-12-10 16:14:58.036985\n",
      "creer_graph : donnees transferees dans la base postgis ; 2020-12-10 16:14:58.062916\n",
      "creer_graph : geometrie modifiee ; 2020-12-10 16:14:58.081865\n",
      "creer_graph : topologie cree ; 2020-12-10 16:14:58.180746\n",
      "creer_graph : graph cree ; 2020-12-10 16:14:58.235630\n"
     ]
    },
    {
     "name": "stderr",
     "output_type": "stream",
     "text": [
      "c:\\users\\marti\\appdata\\local\\programs\\python\\python38\\lib\\site-packages\\sqlalchemy\\dialects\\postgresql\\base.py:3130: SAWarning: Did not recognize type 'xml' of column 'metadata'\n",
      "  util.warn(\n",
      "c:\\users\\marti\\appdata\\local\\programs\\python\\python38\\lib\\site-packages\\sqlalchemy\\dialects\\postgresql\\base.py:3130: SAWarning: Did not recognize type 'xml' of column 'fileid'\n",
      "  util.warn(\n",
      "c:\\users\\marti\\appdata\\local\\programs\\python\\python38\\lib\\site-packages\\sqlalchemy\\dialects\\postgresql\\base.py:3130: SAWarning: Did not recognize type 'xml' of column 'parentid'\n",
      "  util.warn(\n"
     ]
    },
    {
     "name": "stdout",
     "output_type": "stream",
     "text": [
      "0 2020-12-10 16:14:58.805749 nb lignes traitees : 0\n",
      "LaRoch-r de bethencourt--1.2028;46.1712\n"
     ]
    },
    {
     "name": "stderr",
     "output_type": "stream",
     "text": [
      "c:\\users\\marti\\appdata\\local\\programs\\python\\python38\\lib\\site-packages\\geopandas\\geodataframe.py:830: UserWarning: Geometry column does not contain geometry.\n",
      "  warnings.warn(\"Geometry column does not contain geometry.\")\n"
     ]
    },
    {
     "name": "stdout",
     "output_type": "stream",
     "text": [
      "creer_graph : donnees mise en forme, connexion ouverte ; 2020-12-10 16:14:59.142119\n",
      "creer_graph : donnees transferees dans la base postgis ; 2020-12-10 16:14:59.169723\n",
      "creer_graph : geometrie modifiee ; 2020-12-10 16:14:59.185610\n",
      "creer_graph : topologie cree ; 2020-12-10 16:14:59.268904\n",
      "creer_graph : graph cree ; 2020-12-10 16:14:59.318101\n"
     ]
    },
    {
     "name": "stderr",
     "output_type": "stream",
     "text": [
      "c:\\users\\marti\\appdata\\local\\programs\\python\\python38\\lib\\site-packages\\sqlalchemy\\dialects\\postgresql\\base.py:3130: SAWarning: Did not recognize type 'xml' of column 'metadata'\n",
      "  util.warn(\n",
      "c:\\users\\marti\\appdata\\local\\programs\\python\\python38\\lib\\site-packages\\sqlalchemy\\dialects\\postgresql\\base.py:3130: SAWarning: Did not recognize type 'xml' of column 'fileid'\n",
      "  util.warn(\n",
      "c:\\users\\marti\\appdata\\local\\programs\\python\\python38\\lib\\site-packages\\sqlalchemy\\dialects\\postgresql\\base.py:3130: SAWarning: Did not recognize type 'xml' of column 'parentid'\n",
      "  util.warn(\n"
     ]
    },
    {
     "name": "stdout",
     "output_type": "stream",
     "text": [
      "0 2020-12-10 16:14:59.746880 nb lignes traitees : 0\n",
      "0 2020-12-10 16:14:59.858576 nb lignes traitees : 0\n",
      "LaRoch-av de rompsay--1.1341;46.1613\n"
     ]
    },
    {
     "name": "stderr",
     "output_type": "stream",
     "text": [
      "c:\\users\\marti\\appdata\\local\\programs\\python\\python38\\lib\\site-packages\\geopandas\\geodataframe.py:830: UserWarning: Geometry column does not contain geometry.\n",
      "  warnings.warn(\"Geometry column does not contain geometry.\")\n"
     ]
    },
    {
     "name": "stdout",
     "output_type": "stream",
     "text": [
      "creer_graph : donnees mise en forme, connexion ouverte ; 2020-12-10 16:15:00.246727\n",
      "creer_graph : donnees transferees dans la base postgis ; 2020-12-10 16:15:00.265357\n",
      "creer_graph : geometrie modifiee ; 2020-12-10 16:15:00.280353\n",
      "creer_graph : topologie cree ; 2020-12-10 16:15:00.359553\n",
      "creer_graph : graph cree ; 2020-12-10 16:15:00.410418\n"
     ]
    },
    {
     "name": "stderr",
     "output_type": "stream",
     "text": [
      "c:\\users\\marti\\appdata\\local\\programs\\python\\python38\\lib\\site-packages\\sqlalchemy\\dialects\\postgresql\\base.py:3130: SAWarning: Did not recognize type 'xml' of column 'metadata'\n",
      "  util.warn(\n",
      "c:\\users\\marti\\appdata\\local\\programs\\python\\python38\\lib\\site-packages\\sqlalchemy\\dialects\\postgresql\\base.py:3130: SAWarning: Did not recognize type 'xml' of column 'fileid'\n",
      "  util.warn(\n",
      "c:\\users\\marti\\appdata\\local\\programs\\python\\python38\\lib\\site-packages\\sqlalchemy\\dialects\\postgresql\\base.py:3130: SAWarning: Did not recognize type 'xml' of column 'parentid'\n",
      "  util.warn(\n"
     ]
    },
    {
     "name": "stdout",
     "output_type": "stream",
     "text": [
      "0 2020-12-10 16:15:00.954897 nb lignes traitees : 0\n",
      "LaRoch-av jean guiton--1.16;46.1588\n"
     ]
    },
    {
     "name": "stderr",
     "output_type": "stream",
     "text": [
      "c:\\users\\marti\\appdata\\local\\programs\\python\\python38\\lib\\site-packages\\geopandas\\geodataframe.py:830: UserWarning: Geometry column does not contain geometry.\n",
      "  warnings.warn(\"Geometry column does not contain geometry.\")\n"
     ]
    },
    {
     "name": "stdout",
     "output_type": "stream",
     "text": [
      "creer_graph : donnees mise en forme, connexion ouverte ; 2020-12-10 16:15:01.303429\n",
      "creer_graph : donnees transferees dans la base postgis ; 2020-12-10 16:15:01.338314\n",
      "creer_graph : geometrie modifiee ; 2020-12-10 16:15:01.353957\n",
      "creer_graph : topologie cree ; 2020-12-10 16:15:01.491151\n",
      "creer_graph : graph cree ; 2020-12-10 16:15:01.543907\n"
     ]
    },
    {
     "name": "stderr",
     "output_type": "stream",
     "text": [
      "c:\\users\\marti\\appdata\\local\\programs\\python\\python38\\lib\\site-packages\\sqlalchemy\\dialects\\postgresql\\base.py:3130: SAWarning: Did not recognize type 'xml' of column 'metadata'\n",
      "  util.warn(\n",
      "c:\\users\\marti\\appdata\\local\\programs\\python\\python38\\lib\\site-packages\\sqlalchemy\\dialects\\postgresql\\base.py:3130: SAWarning: Did not recognize type 'xml' of column 'fileid'\n",
      "  util.warn(\n",
      "c:\\users\\marti\\appdata\\local\\programs\\python\\python38\\lib\\site-packages\\sqlalchemy\\dialects\\postgresql\\base.py:3130: SAWarning: Did not recognize type 'xml' of column 'parentid'\n",
      "  util.warn(\n"
     ]
    },
    {
     "name": "stdout",
     "output_type": "stream",
     "text": [
      "0 2020-12-10 16:15:02.118322 nb lignes traitees : 0\n",
      "17-D214-23+500\n"
     ]
    },
    {
     "name": "stderr",
     "output_type": "stream",
     "text": [
      "c:\\users\\marti\\appdata\\local\\programs\\python\\python38\\lib\\site-packages\\geopandas\\geodataframe.py:830: UserWarning: Geometry column does not contain geometry.\n",
      "  warnings.warn(\"Geometry column does not contain geometry.\")\n"
     ]
    },
    {
     "name": "stdout",
     "output_type": "stream",
     "text": [
      "creer_graph : donnees mise en forme, connexion ouverte ; 2020-12-10 16:15:02.431675\n",
      "creer_graph : donnees transferees dans la base postgis ; 2020-12-10 16:15:02.460423\n",
      "creer_graph : geometrie modifiee ; 2020-12-10 16:15:02.476371\n",
      "creer_graph : topologie cree ; 2020-12-10 16:15:02.608994\n",
      "creer_graph : graph cree ; 2020-12-10 16:15:02.662872\n"
     ]
    },
    {
     "name": "stderr",
     "output_type": "stream",
     "text": [
      "c:\\users\\marti\\appdata\\local\\programs\\python\\python38\\lib\\site-packages\\sqlalchemy\\dialects\\postgresql\\base.py:3130: SAWarning: Did not recognize type 'xml' of column 'metadata'\n",
      "  util.warn(\n",
      "c:\\users\\marti\\appdata\\local\\programs\\python\\python38\\lib\\site-packages\\sqlalchemy\\dialects\\postgresql\\base.py:3130: SAWarning: Did not recognize type 'xml' of column 'fileid'\n",
      "  util.warn(\n",
      "c:\\users\\marti\\appdata\\local\\programs\\python\\python38\\lib\\site-packages\\sqlalchemy\\dialects\\postgresql\\base.py:3130: SAWarning: Did not recognize type 'xml' of column 'parentid'\n",
      "  util.warn(\n"
     ]
    },
    {
     "name": "stdout",
     "output_type": "stream",
     "text": [
      "0 2020-12-10 16:15:03.206325 nb lignes traitees : 0\n",
      "17-D131E2-0+300\n"
     ]
    },
    {
     "name": "stderr",
     "output_type": "stream",
     "text": [
      "c:\\users\\marti\\appdata\\local\\programs\\python\\python38\\lib\\site-packages\\geopandas\\geodataframe.py:830: UserWarning: Geometry column does not contain geometry.\n",
      "  warnings.warn(\"Geometry column does not contain geometry.\")\n"
     ]
    },
    {
     "name": "stdout",
     "output_type": "stream",
     "text": [
      "creer_graph : donnees mise en forme, connexion ouverte ; 2020-12-10 16:15:03.537837\n",
      "creer_graph : donnees transferees dans la base postgis ; 2020-12-10 16:15:03.562371\n",
      "creer_graph : geometrie modifiee ; 2020-12-10 16:15:03.577447\n",
      "creer_graph : topologie cree ; 2020-12-10 16:15:03.678805\n",
      "creer_graph : graph cree ; 2020-12-10 16:15:03.730691\n"
     ]
    },
    {
     "name": "stderr",
     "output_type": "stream",
     "text": [
      "c:\\users\\marti\\appdata\\local\\programs\\python\\python38\\lib\\site-packages\\sqlalchemy\\dialects\\postgresql\\base.py:3130: SAWarning: Did not recognize type 'xml' of column 'metadata'\n",
      "  util.warn(\n",
      "c:\\users\\marti\\appdata\\local\\programs\\python\\python38\\lib\\site-packages\\sqlalchemy\\dialects\\postgresql\\base.py:3130: SAWarning: Did not recognize type 'xml' of column 'fileid'\n",
      "  util.warn(\n",
      "c:\\users\\marti\\appdata\\local\\programs\\python\\python38\\lib\\site-packages\\sqlalchemy\\dialects\\postgresql\\base.py:3130: SAWarning: Did not recognize type 'xml' of column 'parentid'\n",
      "  util.warn(\n"
     ]
    },
    {
     "name": "stdout",
     "output_type": "stream",
     "text": [
      "0 2020-12-10 16:15:04.248184 nb lignes traitees : 0\n",
      "17-D233-0+60\n"
     ]
    },
    {
     "name": "stderr",
     "output_type": "stream",
     "text": [
      "c:\\users\\marti\\appdata\\local\\programs\\python\\python38\\lib\\site-packages\\geopandas\\geodataframe.py:830: UserWarning: Geometry column does not contain geometry.\n",
      "  warnings.warn(\"Geometry column does not contain geometry.\")\n"
     ]
    },
    {
     "name": "stdout",
     "output_type": "stream",
     "text": [
      "creer_graph : donnees mise en forme, connexion ouverte ; 2020-12-10 16:15:04.606946\n",
      "creer_graph : donnees transferees dans la base postgis ; 2020-12-10 16:15:04.651258\n",
      "creer_graph : geometrie modifiee ; 2020-12-10 16:15:04.670031\n",
      "creer_graph : topologie cree ; 2020-12-10 16:15:04.817311\n",
      "creer_graph : graph cree ; 2020-12-10 16:15:04.871195\n"
     ]
    },
    {
     "name": "stderr",
     "output_type": "stream",
     "text": [
      "c:\\users\\marti\\appdata\\local\\programs\\python\\python38\\lib\\site-packages\\sqlalchemy\\dialects\\postgresql\\base.py:3130: SAWarning: Did not recognize type 'xml' of column 'metadata'\n",
      "  util.warn(\n",
      "c:\\users\\marti\\appdata\\local\\programs\\python\\python38\\lib\\site-packages\\sqlalchemy\\dialects\\postgresql\\base.py:3130: SAWarning: Did not recognize type 'xml' of column 'fileid'\n",
      "  util.warn(\n",
      "c:\\users\\marti\\appdata\\local\\programs\\python\\python38\\lib\\site-packages\\sqlalchemy\\dialects\\postgresql\\base.py:3130: SAWarning: Did not recognize type 'xml' of column 'parentid'\n",
      "  util.warn(\n"
     ]
    },
    {
     "name": "stdout",
     "output_type": "stream",
     "text": [
      "0 2020-12-10 16:15:05.418378 nb lignes traitees : 0\n",
      "17-D128E2-1+90\n"
     ]
    },
    {
     "name": "stderr",
     "output_type": "stream",
     "text": [
      "c:\\users\\marti\\appdata\\local\\programs\\python\\python38\\lib\\site-packages\\geopandas\\geodataframe.py:830: UserWarning: Geometry column does not contain geometry.\n",
      "  warnings.warn(\"Geometry column does not contain geometry.\")\n"
     ]
    },
    {
     "name": "stdout",
     "output_type": "stream",
     "text": [
      "creer_graph : donnees mise en forme, connexion ouverte ; 2020-12-10 16:15:05.679318\n",
      "creer_graph : donnees transferees dans la base postgis ; 2020-12-10 16:15:05.695736\n",
      "creer_graph : geometrie modifiee ; 2020-12-10 16:15:05.710316\n",
      "creer_graph : topologie cree ; 2020-12-10 16:15:05.776985\n",
      "creer_graph : graph cree ; 2020-12-10 16:15:05.824884\n"
     ]
    },
    {
     "name": "stderr",
     "output_type": "stream",
     "text": [
      "c:\\users\\marti\\appdata\\local\\programs\\python\\python38\\lib\\site-packages\\sqlalchemy\\dialects\\postgresql\\base.py:3130: SAWarning: Did not recognize type 'xml' of column 'metadata'\n",
      "  util.warn(\n",
      "c:\\users\\marti\\appdata\\local\\programs\\python\\python38\\lib\\site-packages\\sqlalchemy\\dialects\\postgresql\\base.py:3130: SAWarning: Did not recognize type 'xml' of column 'fileid'\n",
      "  util.warn(\n",
      "c:\\users\\marti\\appdata\\local\\programs\\python\\python38\\lib\\site-packages\\sqlalchemy\\dialects\\postgresql\\base.py:3130: SAWarning: Did not recognize type 'xml' of column 'parentid'\n",
      "  util.warn(\n"
     ]
    },
    {
     "name": "stdout",
     "output_type": "stream",
     "text": [
      "0 2020-12-10 16:15:06.245806 nb lignes traitees : 0\n",
      "LaRoch-r aristide berge--1.0998;46.1615\n"
     ]
    },
    {
     "name": "stderr",
     "output_type": "stream",
     "text": [
      "c:\\users\\marti\\appdata\\local\\programs\\python\\python38\\lib\\site-packages\\geopandas\\geodataframe.py:830: UserWarning: Geometry column does not contain geometry.\n",
      "  warnings.warn(\"Geometry column does not contain geometry.\")\n"
     ]
    },
    {
     "name": "stdout",
     "output_type": "stream",
     "text": [
      "creer_graph : donnees mise en forme, connexion ouverte ; 2020-12-10 16:15:06.616115\n",
      "creer_graph : donnees transferees dans la base postgis ; 2020-12-10 16:15:06.631549\n",
      "creer_graph : geometrie modifiee ; 2020-12-10 16:15:06.645535\n",
      "creer_graph : topologie cree ; 2020-12-10 16:15:06.721778\n",
      "creer_graph : graph cree ; 2020-12-10 16:15:06.770626\n"
     ]
    },
    {
     "name": "stderr",
     "output_type": "stream",
     "text": [
      "c:\\users\\marti\\appdata\\local\\programs\\python\\python38\\lib\\site-packages\\sqlalchemy\\dialects\\postgresql\\base.py:3130: SAWarning: Did not recognize type 'xml' of column 'metadata'\n",
      "  util.warn(\n",
      "c:\\users\\marti\\appdata\\local\\programs\\python\\python38\\lib\\site-packages\\sqlalchemy\\dialects\\postgresql\\base.py:3130: SAWarning: Did not recognize type 'xml' of column 'fileid'\n",
      "  util.warn(\n",
      "c:\\users\\marti\\appdata\\local\\programs\\python\\python38\\lib\\site-packages\\sqlalchemy\\dialects\\postgresql\\base.py:3130: SAWarning: Did not recognize type 'xml' of column 'parentid'\n",
      "  util.warn(\n"
     ]
    },
    {
     "name": "stdout",
     "output_type": "stream",
     "text": [
      "0 2020-12-10 16:15:07.186982 nb lignes traitees : 0\n",
      "17-D125E2-0+230\n"
     ]
    },
    {
     "name": "stderr",
     "output_type": "stream",
     "text": [
      "c:\\users\\marti\\appdata\\local\\programs\\python\\python38\\lib\\site-packages\\geopandas\\geodataframe.py:830: UserWarning: Geometry column does not contain geometry.\n",
      "  warnings.warn(\"Geometry column does not contain geometry.\")\n"
     ]
    },
    {
     "name": "stdout",
     "output_type": "stream",
     "text": [
      "creer_graph : donnees mise en forme, connexion ouverte ; 2020-12-10 16:15:07.459930\n",
      "creer_graph : donnees transferees dans la base postgis ; 2020-12-10 16:15:07.483637\n",
      "creer_graph : geometrie modifiee ; 2020-12-10 16:15:07.499615\n",
      "creer_graph : topologie cree ; 2020-12-10 16:15:07.600923\n",
      "creer_graph : graph cree ; 2020-12-10 16:15:07.652786\n"
     ]
    },
    {
     "name": "stderr",
     "output_type": "stream",
     "text": [
      "c:\\users\\marti\\appdata\\local\\programs\\python\\python38\\lib\\site-packages\\sqlalchemy\\dialects\\postgresql\\base.py:3130: SAWarning: Did not recognize type 'xml' of column 'metadata'\n",
      "  util.warn(\n",
      "c:\\users\\marti\\appdata\\local\\programs\\python\\python38\\lib\\site-packages\\sqlalchemy\\dialects\\postgresql\\base.py:3130: SAWarning: Did not recognize type 'xml' of column 'fileid'\n",
      "  util.warn(\n",
      "c:\\users\\marti\\appdata\\local\\programs\\python\\python38\\lib\\site-packages\\sqlalchemy\\dialects\\postgresql\\base.py:3130: SAWarning: Did not recognize type 'xml' of column 'parentid'\n",
      "  util.warn(\n"
     ]
    },
    {
     "name": "stdout",
     "output_type": "stream",
     "text": [
      "0 2020-12-10 16:15:08.067796 nb lignes traitees : 0\n",
      "LaRoch-pont de tasdon--1.1464;46.1507\n"
     ]
    },
    {
     "name": "stderr",
     "output_type": "stream",
     "text": [
      "c:\\users\\marti\\appdata\\local\\programs\\python\\python38\\lib\\site-packages\\geopandas\\geodataframe.py:830: UserWarning: Geometry column does not contain geometry.\n",
      "  warnings.warn(\"Geometry column does not contain geometry.\")\n"
     ]
    },
    {
     "name": "stdout",
     "output_type": "stream",
     "text": [
      "creer_graph : donnees mise en forme, connexion ouverte ; 2020-12-10 16:15:08.420435\n",
      "creer_graph : donnees transferees dans la base postgis ; 2020-12-10 16:15:08.441306\n",
      "creer_graph : geometrie modifiee ; 2020-12-10 16:15:08.456012\n",
      "creer_graph : topologie cree ; 2020-12-10 16:15:08.545969\n",
      "creer_graph : graph cree ; 2020-12-10 16:15:08.597857\n"
     ]
    },
    {
     "name": "stderr",
     "output_type": "stream",
     "text": [
      "c:\\users\\marti\\appdata\\local\\programs\\python\\python38\\lib\\site-packages\\sqlalchemy\\dialects\\postgresql\\base.py:3130: SAWarning: Did not recognize type 'xml' of column 'metadata'\n",
      "  util.warn(\n",
      "c:\\users\\marti\\appdata\\local\\programs\\python\\python38\\lib\\site-packages\\sqlalchemy\\dialects\\postgresql\\base.py:3130: SAWarning: Did not recognize type 'xml' of column 'fileid'\n",
      "  util.warn(\n",
      "c:\\users\\marti\\appdata\\local\\programs\\python\\python38\\lib\\site-packages\\sqlalchemy\\dialects\\postgresql\\base.py:3130: SAWarning: Did not recognize type 'xml' of column 'parentid'\n",
      "  util.warn(\n"
     ]
    },
    {
     "name": "stdout",
     "output_type": "stream",
     "text": [
      "0 2020-12-10 16:15:09.118273 nb lignes traitees : 0\n",
      "17-D110-6+50\n"
     ]
    },
    {
     "name": "stderr",
     "output_type": "stream",
     "text": [
      "c:\\users\\marti\\appdata\\local\\programs\\python\\python38\\lib\\site-packages\\geopandas\\geodataframe.py:830: UserWarning: Geometry column does not contain geometry.\n",
      "  warnings.warn(\"Geometry column does not contain geometry.\")\n"
     ]
    },
    {
     "name": "stdout",
     "output_type": "stream",
     "text": [
      "creer_graph : donnees mise en forme, connexion ouverte ; 2020-12-10 16:15:09.667593\n",
      "creer_graph : donnees transferees dans la base postgis ; 2020-12-10 16:15:09.713311\n",
      "creer_graph : geometrie modifiee ; 2020-12-10 16:15:09.730353\n",
      "creer_graph : topologie cree ; 2020-12-10 16:15:09.943429\n",
      "creer_graph : graph cree ; 2020-12-10 16:15:10.001296\n"
     ]
    },
    {
     "name": "stderr",
     "output_type": "stream",
     "text": [
      "c:\\users\\marti\\appdata\\local\\programs\\python\\python38\\lib\\site-packages\\sqlalchemy\\dialects\\postgresql\\base.py:3130: SAWarning: Did not recognize type 'xml' of column 'metadata'\n",
      "  util.warn(\n",
      "c:\\users\\marti\\appdata\\local\\programs\\python\\python38\\lib\\site-packages\\sqlalchemy\\dialects\\postgresql\\base.py:3130: SAWarning: Did not recognize type 'xml' of column 'fileid'\n",
      "  util.warn(\n",
      "c:\\users\\marti\\appdata\\local\\programs\\python\\python38\\lib\\site-packages\\sqlalchemy\\dialects\\postgresql\\base.py:3130: SAWarning: Did not recognize type 'xml' of column 'parentid'\n",
      "  util.warn(\n"
     ]
    },
    {
     "name": "stdout",
     "output_type": "stream",
     "text": [
      "0 2020-12-10 16:15:10.575359 nb lignes traitees : 0\n",
      "0 2020-12-10 16:15:10.598293 nb lignes traitees : 0\n",
      "0 2020-12-10 16:15:10.660127 nb lignes traitees : 0\n",
      "17-D244E2-0+980\n"
     ]
    },
    {
     "name": "stderr",
     "output_type": "stream",
     "text": [
      "c:\\users\\marti\\appdata\\local\\programs\\python\\python38\\lib\\site-packages\\geopandas\\geodataframe.py:830: UserWarning: Geometry column does not contain geometry.\n",
      "  warnings.warn(\"Geometry column does not contain geometry.\")\n"
     ]
    },
    {
     "name": "stdout",
     "output_type": "stream",
     "text": [
      "creer_graph : donnees mise en forme, connexion ouverte ; 2020-12-10 16:15:10.941592\n",
      "creer_graph : donnees transferees dans la base postgis ; 2020-12-10 16:15:10.988526\n",
      "creer_graph : geometrie modifiee ; 2020-12-10 16:15:11.016005\n",
      "creer_graph : topologie cree ; 2020-12-10 16:15:11.116746\n",
      "creer_graph : graph cree ; 2020-12-10 16:15:11.167636\n"
     ]
    },
    {
     "name": "stderr",
     "output_type": "stream",
     "text": [
      "c:\\users\\marti\\appdata\\local\\programs\\python\\python38\\lib\\site-packages\\sqlalchemy\\dialects\\postgresql\\base.py:3130: SAWarning: Did not recognize type 'xml' of column 'metadata'\n",
      "  util.warn(\n",
      "c:\\users\\marti\\appdata\\local\\programs\\python\\python38\\lib\\site-packages\\sqlalchemy\\dialects\\postgresql\\base.py:3130: SAWarning: Did not recognize type 'xml' of column 'fileid'\n",
      "  util.warn(\n",
      "c:\\users\\marti\\appdata\\local\\programs\\python\\python38\\lib\\site-packages\\sqlalchemy\\dialects\\postgresql\\base.py:3130: SAWarning: Did not recognize type 'xml' of column 'parentid'\n",
      "  util.warn(\n"
     ]
    },
    {
     "name": "stdout",
     "output_type": "stream",
     "text": [
      "0 2020-12-10 16:15:11.584586 nb lignes traitees : 0\n",
      "17-D139-24+100\n"
     ]
    },
    {
     "name": "stderr",
     "output_type": "stream",
     "text": [
      "c:\\users\\marti\\appdata\\local\\programs\\python\\python38\\lib\\site-packages\\geopandas\\geodataframe.py:830: UserWarning: Geometry column does not contain geometry.\n",
      "  warnings.warn(\"Geometry column does not contain geometry.\")\n"
     ]
    },
    {
     "name": "stdout",
     "output_type": "stream",
     "text": [
      "creer_graph : donnees mise en forme, connexion ouverte ; 2020-12-10 16:15:11.930733\n",
      "creer_graph : donnees transferees dans la base postgis ; 2020-12-10 16:15:11.966203\n",
      "creer_graph : geometrie modifiee ; 2020-12-10 16:15:11.983110\n",
      "creer_graph : topologie cree ; 2020-12-10 16:15:12.152321\n",
      "creer_graph : graph cree ; 2020-12-10 16:15:12.208173\n"
     ]
    },
    {
     "name": "stderr",
     "output_type": "stream",
     "text": [
      "c:\\users\\marti\\appdata\\local\\programs\\python\\python38\\lib\\site-packages\\sqlalchemy\\dialects\\postgresql\\base.py:3130: SAWarning: Did not recognize type 'xml' of column 'metadata'\n",
      "  util.warn(\n",
      "c:\\users\\marti\\appdata\\local\\programs\\python\\python38\\lib\\site-packages\\sqlalchemy\\dialects\\postgresql\\base.py:3130: SAWarning: Did not recognize type 'xml' of column 'fileid'\n",
      "  util.warn(\n",
      "c:\\users\\marti\\appdata\\local\\programs\\python\\python38\\lib\\site-packages\\sqlalchemy\\dialects\\postgresql\\base.py:3130: SAWarning: Did not recognize type 'xml' of column 'parentid'\n",
      "  util.warn(\n"
     ]
    },
    {
     "name": "stdout",
     "output_type": "stream",
     "text": [
      "0 2020-12-10 16:15:12.639539 nb lignes traitees : 0\n",
      "0 2020-12-10 16:15:12.734285 nb lignes traitees : 0\n",
      "LaRoch-av de lagord--1.1583;46.1893\n"
     ]
    },
    {
     "name": "stderr",
     "output_type": "stream",
     "text": [
      "c:\\users\\marti\\appdata\\local\\programs\\python\\python38\\lib\\site-packages\\geopandas\\geodataframe.py:830: UserWarning: Geometry column does not contain geometry.\n",
      "  warnings.warn(\"Geometry column does not contain geometry.\")\n"
     ]
    },
    {
     "name": "stdout",
     "output_type": "stream",
     "text": [
      "creer_graph : donnees mise en forme, connexion ouverte ; 2020-12-10 16:15:13.065708\n",
      "creer_graph : donnees transferees dans la base postgis ; 2020-12-10 16:15:13.083359\n",
      "creer_graph : geometrie modifiee ; 2020-12-10 16:15:13.097444\n",
      "creer_graph : topologie cree ; 2020-12-10 16:15:13.170096\n",
      "creer_graph : graph cree ; 2020-12-10 16:15:13.217992\n"
     ]
    },
    {
     "name": "stderr",
     "output_type": "stream",
     "text": [
      "c:\\users\\marti\\appdata\\local\\programs\\python\\python38\\lib\\site-packages\\sqlalchemy\\dialects\\postgresql\\base.py:3130: SAWarning: Did not recognize type 'xml' of column 'metadata'\n",
      "  util.warn(\n",
      "c:\\users\\marti\\appdata\\local\\programs\\python\\python38\\lib\\site-packages\\sqlalchemy\\dialects\\postgresql\\base.py:3130: SAWarning: Did not recognize type 'xml' of column 'fileid'\n",
      "  util.warn(\n",
      "c:\\users\\marti\\appdata\\local\\programs\\python\\python38\\lib\\site-packages\\sqlalchemy\\dialects\\postgresql\\base.py:3130: SAWarning: Did not recognize type 'xml' of column 'parentid'\n",
      "  util.warn(\n"
     ]
    },
    {
     "name": "stdout",
     "output_type": "stream",
     "text": [
      "0 2020-12-10 16:15:13.773704 nb lignes traitees : 0\n",
      "LaRoch-av des cordeliers--1.1456;46.1632\n"
     ]
    },
    {
     "name": "stderr",
     "output_type": "stream",
     "text": [
      "c:\\users\\marti\\appdata\\local\\programs\\python\\python38\\lib\\site-packages\\geopandas\\geodataframe.py:830: UserWarning: Geometry column does not contain geometry.\n",
      "  warnings.warn(\"Geometry column does not contain geometry.\")\n"
     ]
    },
    {
     "name": "stdout",
     "output_type": "stream",
     "text": [
      "creer_graph : donnees mise en forme, connexion ouverte ; 2020-12-10 16:15:14.062144\n",
      "creer_graph : donnees transferees dans la base postgis ; 2020-12-10 16:15:14.079856\n",
      "creer_graph : geometrie modifiee ; 2020-12-10 16:15:14.094235\n",
      "creer_graph : topologie cree ; 2020-12-10 16:15:14.165397\n",
      "creer_graph : graph cree ; 2020-12-10 16:15:14.216234\n"
     ]
    },
    {
     "name": "stderr",
     "output_type": "stream",
     "text": [
      "c:\\users\\marti\\appdata\\local\\programs\\python\\python38\\lib\\site-packages\\sqlalchemy\\dialects\\postgresql\\base.py:3130: SAWarning: Did not recognize type 'xml' of column 'metadata'\n",
      "  util.warn(\n",
      "c:\\users\\marti\\appdata\\local\\programs\\python\\python38\\lib\\site-packages\\sqlalchemy\\dialects\\postgresql\\base.py:3130: SAWarning: Did not recognize type 'xml' of column 'fileid'\n",
      "  util.warn(\n",
      "c:\\users\\marti\\appdata\\local\\programs\\python\\python38\\lib\\site-packages\\sqlalchemy\\dialects\\postgresql\\base.py:3130: SAWarning: Did not recognize type 'xml' of column 'parentid'\n",
      "  util.warn(\n"
     ]
    },
    {
     "name": "stdout",
     "output_type": "stream",
     "text": [
      "0 2020-12-10 16:15:14.687851 nb lignes traitees : 0\n",
      "LaRoch-r amelot--1.1496;46.1608\n"
     ]
    },
    {
     "name": "stderr",
     "output_type": "stream",
     "text": [
      "c:\\users\\marti\\appdata\\local\\programs\\python\\python38\\lib\\site-packages\\geopandas\\geodataframe.py:830: UserWarning: Geometry column does not contain geometry.\n",
      "  warnings.warn(\"Geometry column does not contain geometry.\")\n"
     ]
    },
    {
     "name": "stdout",
     "output_type": "stream",
     "text": [
      "creer_graph : donnees mise en forme, connexion ouverte ; 2020-12-10 16:15:14.967280\n",
      "creer_graph : donnees transferees dans la base postgis ; 2020-12-10 16:15:14.987744\n",
      "creer_graph : geometrie modifiee ; 2020-12-10 16:15:15.002370\n",
      "creer_graph : topologie cree ; 2020-12-10 16:15:15.068012\n",
      "creer_graph : graph cree ; 2020-12-10 16:15:15.116907\n"
     ]
    },
    {
     "name": "stderr",
     "output_type": "stream",
     "text": [
      "c:\\users\\marti\\appdata\\local\\programs\\python\\python38\\lib\\site-packages\\sqlalchemy\\dialects\\postgresql\\base.py:3130: SAWarning: Did not recognize type 'xml' of column 'metadata'\n",
      "  util.warn(\n",
      "c:\\users\\marti\\appdata\\local\\programs\\python\\python38\\lib\\site-packages\\sqlalchemy\\dialects\\postgresql\\base.py:3130: SAWarning: Did not recognize type 'xml' of column 'fileid'\n",
      "  util.warn(\n",
      "c:\\users\\marti\\appdata\\local\\programs\\python\\python38\\lib\\site-packages\\sqlalchemy\\dialects\\postgresql\\base.py:3130: SAWarning: Did not recognize type 'xml' of column 'parentid'\n",
      "  util.warn(\n"
     ]
    },
    {
     "name": "stdout",
     "output_type": "stream",
     "text": [
      "0 2020-12-10 16:15:15.553332 nb lignes traitees : 0\n",
      "17-D733E-0+650\n"
     ]
    },
    {
     "name": "stderr",
     "output_type": "stream",
     "text": [
      "c:\\users\\marti\\appdata\\local\\programs\\python\\python38\\lib\\site-packages\\geopandas\\geodataframe.py:830: UserWarning: Geometry column does not contain geometry.\n",
      "  warnings.warn(\"Geometry column does not contain geometry.\")\n"
     ]
    },
    {
     "name": "stdout",
     "output_type": "stream",
     "text": [
      "creer_graph : donnees mise en forme, connexion ouverte ; 2020-12-10 16:15:15.824206\n",
      "creer_graph : donnees transferees dans la base postgis ; 2020-12-10 16:15:15.840968\n",
      "creer_graph : geometrie modifiee ; 2020-12-10 16:15:15.861618\n",
      "creer_graph : topologie cree ; 2020-12-10 16:15:15.932037\n",
      "creer_graph : graph cree ; 2020-12-10 16:15:15.980934\n"
     ]
    },
    {
     "name": "stderr",
     "output_type": "stream",
     "text": [
      "c:\\users\\marti\\appdata\\local\\programs\\python\\python38\\lib\\site-packages\\sqlalchemy\\dialects\\postgresql\\base.py:3130: SAWarning: Did not recognize type 'xml' of column 'metadata'\n",
      "  util.warn(\n",
      "c:\\users\\marti\\appdata\\local\\programs\\python\\python38\\lib\\site-packages\\sqlalchemy\\dialects\\postgresql\\base.py:3130: SAWarning: Did not recognize type 'xml' of column 'fileid'\n",
      "  util.warn(\n",
      "c:\\users\\marti\\appdata\\local\\programs\\python\\python38\\lib\\site-packages\\sqlalchemy\\dialects\\postgresql\\base.py:3130: SAWarning: Did not recognize type 'xml' of column 'parentid'\n",
      "  util.warn(\n"
     ]
    },
    {
     "name": "stdout",
     "output_type": "stream",
     "text": [
      "0 2020-12-10 16:15:16.401369 nb lignes traitees : 0\n",
      "0 2020-12-10 16:15:16.466195 nb lignes traitees : 0\n",
      "17-D244-7+500\n"
     ]
    },
    {
     "name": "stderr",
     "output_type": "stream",
     "text": [
      "c:\\users\\marti\\appdata\\local\\programs\\python\\python38\\lib\\site-packages\\geopandas\\geodataframe.py:830: UserWarning: Geometry column does not contain geometry.\n",
      "  warnings.warn(\"Geometry column does not contain geometry.\")\n"
     ]
    },
    {
     "name": "stdout",
     "output_type": "stream",
     "text": [
      "creer_graph : donnees mise en forme, connexion ouverte ; 2020-12-10 16:15:16.801215\n",
      "creer_graph : donnees transferees dans la base postgis ; 2020-12-10 16:15:16.838582\n",
      "creer_graph : geometrie modifiee ; 2020-12-10 16:15:16.854180\n",
      "creer_graph : topologie cree ; 2020-12-10 16:15:16.981420\n",
      "creer_graph : graph cree ; 2020-12-10 16:15:17.033311\n"
     ]
    },
    {
     "name": "stderr",
     "output_type": "stream",
     "text": [
      "c:\\users\\marti\\appdata\\local\\programs\\python\\python38\\lib\\site-packages\\sqlalchemy\\dialects\\postgresql\\base.py:3130: SAWarning: Did not recognize type 'xml' of column 'metadata'\n",
      "  util.warn(\n",
      "c:\\users\\marti\\appdata\\local\\programs\\python\\python38\\lib\\site-packages\\sqlalchemy\\dialects\\postgresql\\base.py:3130: SAWarning: Did not recognize type 'xml' of column 'fileid'\n",
      "  util.warn(\n",
      "c:\\users\\marti\\appdata\\local\\programs\\python\\python38\\lib\\site-packages\\sqlalchemy\\dialects\\postgresql\\base.py:3130: SAWarning: Did not recognize type 'xml' of column 'parentid'\n",
      "  util.warn(\n"
     ]
    },
    {
     "name": "stdout",
     "output_type": "stream",
     "text": [
      "0 2020-12-10 16:15:17.470101 nb lignes traitees : 0\n",
      "17-D242-0+550\n"
     ]
    },
    {
     "name": "stderr",
     "output_type": "stream",
     "text": [
      "c:\\users\\marti\\appdata\\local\\programs\\python\\python38\\lib\\site-packages\\geopandas\\geodataframe.py:830: UserWarning: Geometry column does not contain geometry.\n",
      "  warnings.warn(\"Geometry column does not contain geometry.\")\n"
     ]
    },
    {
     "name": "stdout",
     "output_type": "stream",
     "text": [
      "creer_graph : donnees mise en forme, connexion ouverte ; 2020-12-10 16:15:17.792045\n",
      "creer_graph : donnees transferees dans la base postgis ; 2020-12-10 16:15:17.815190\n",
      "creer_graph : geometrie modifiee ; 2020-12-10 16:15:17.829653\n",
      "creer_graph : topologie cree ; 2020-12-10 16:15:17.897353\n",
      "creer_graph : graph cree ; 2020-12-10 16:15:17.946221\n"
     ]
    },
    {
     "name": "stderr",
     "output_type": "stream",
     "text": [
      "c:\\users\\marti\\appdata\\local\\programs\\python\\python38\\lib\\site-packages\\sqlalchemy\\dialects\\postgresql\\base.py:3130: SAWarning: Did not recognize type 'xml' of column 'metadata'\n",
      "  util.warn(\n",
      "c:\\users\\marti\\appdata\\local\\programs\\python\\python38\\lib\\site-packages\\sqlalchemy\\dialects\\postgresql\\base.py:3130: SAWarning: Did not recognize type 'xml' of column 'fileid'\n",
      "  util.warn(\n",
      "c:\\users\\marti\\appdata\\local\\programs\\python\\python38\\lib\\site-packages\\sqlalchemy\\dialects\\postgresql\\base.py:3130: SAWarning: Did not recognize type 'xml' of column 'parentid'\n",
      "  util.warn(\n"
     ]
    },
    {
     "name": "stdout",
     "output_type": "stream",
     "text": [
      "0 2020-12-10 16:15:18.363457 nb lignes traitees : 0\n",
      "LaRoch-r des rivauds--1.2023;46.1719\n"
     ]
    },
    {
     "name": "stderr",
     "output_type": "stream",
     "text": [
      "c:\\users\\marti\\appdata\\local\\programs\\python\\python38\\lib\\site-packages\\geopandas\\geodataframe.py:830: UserWarning: Geometry column does not contain geometry.\n",
      "  warnings.warn(\"Geometry column does not contain geometry.\")\n"
     ]
    },
    {
     "name": "stdout",
     "output_type": "stream",
     "text": [
      "creer_graph : donnees mise en forme, connexion ouverte ; 2020-12-10 16:15:18.647221\n",
      "creer_graph : donnees transferees dans la base postgis ; 2020-12-10 16:15:18.678223\n",
      "creer_graph : geometrie modifiee ; 2020-12-10 16:15:18.694298\n",
      "creer_graph : topologie cree ; 2020-12-10 16:15:18.756246\n",
      "creer_graph : graph cree ; 2020-12-10 16:15:18.806115\n"
     ]
    },
    {
     "name": "stderr",
     "output_type": "stream",
     "text": [
      "c:\\users\\marti\\appdata\\local\\programs\\python\\python38\\lib\\site-packages\\sqlalchemy\\dialects\\postgresql\\base.py:3130: SAWarning: Did not recognize type 'xml' of column 'metadata'\n",
      "  util.warn(\n",
      "c:\\users\\marti\\appdata\\local\\programs\\python\\python38\\lib\\site-packages\\sqlalchemy\\dialects\\postgresql\\base.py:3130: SAWarning: Did not recognize type 'xml' of column 'fileid'\n",
      "  util.warn(\n",
      "c:\\users\\marti\\appdata\\local\\programs\\python\\python38\\lib\\site-packages\\sqlalchemy\\dialects\\postgresql\\base.py:3130: SAWarning: Did not recognize type 'xml' of column 'parentid'\n",
      "  util.warn(\n"
     ]
    },
    {
     "name": "stdout",
     "output_type": "stream",
     "text": [
      "0 2020-12-10 16:15:19.216360 nb lignes traitees : 0\n",
      "17-D144-26+950\n"
     ]
    },
    {
     "name": "stderr",
     "output_type": "stream",
     "text": [
      "c:\\users\\marti\\appdata\\local\\programs\\python\\python38\\lib\\site-packages\\geopandas\\geodataframe.py:830: UserWarning: Geometry column does not contain geometry.\n",
      "  warnings.warn(\"Geometry column does not contain geometry.\")\n"
     ]
    },
    {
     "name": "stdout",
     "output_type": "stream",
     "text": [
      "creer_graph : donnees mise en forme, connexion ouverte ; 2020-12-10 16:15:19.548786\n",
      "creer_graph : donnees transferees dans la base postgis ; 2020-12-10 16:15:19.580590\n",
      "creer_graph : geometrie modifiee ; 2020-12-10 16:15:19.597103\n",
      "creer_graph : topologie cree ; 2020-12-10 16:15:19.740697\n",
      "creer_graph : graph cree ; 2020-12-10 16:15:19.794577\n"
     ]
    },
    {
     "name": "stderr",
     "output_type": "stream",
     "text": [
      "c:\\users\\marti\\appdata\\local\\programs\\python\\python38\\lib\\site-packages\\sqlalchemy\\dialects\\postgresql\\base.py:3130: SAWarning: Did not recognize type 'xml' of column 'metadata'\n",
      "  util.warn(\n",
      "c:\\users\\marti\\appdata\\local\\programs\\python\\python38\\lib\\site-packages\\sqlalchemy\\dialects\\postgresql\\base.py:3130: SAWarning: Did not recognize type 'xml' of column 'fileid'\n",
      "  util.warn(\n",
      "c:\\users\\marti\\appdata\\local\\programs\\python\\python38\\lib\\site-packages\\sqlalchemy\\dialects\\postgresql\\base.py:3130: SAWarning: Did not recognize type 'xml' of column 'parentid'\n",
      "  util.warn(\n"
     ]
    },
    {
     "name": "stdout",
     "output_type": "stream",
     "text": [
      "0 2020-12-10 16:15:20.220222 nb lignes traitees : 0\n",
      "17-D9-7+300\n"
     ]
    },
    {
     "name": "stderr",
     "output_type": "stream",
     "text": [
      "c:\\users\\marti\\appdata\\local\\programs\\python\\python38\\lib\\site-packages\\geopandas\\geodataframe.py:830: UserWarning: Geometry column does not contain geometry.\n",
      "  warnings.warn(\"Geometry column does not contain geometry.\")\n"
     ]
    },
    {
     "name": "stdout",
     "output_type": "stream",
     "text": [
      "creer_graph : donnees mise en forme, connexion ouverte ; 2020-12-10 16:15:20.633218\n",
      "creer_graph : donnees transferees dans la base postgis ; 2020-12-10 16:15:20.668456\n",
      "creer_graph : geometrie modifiee ; 2020-12-10 16:15:20.694626\n",
      "creer_graph : topologie cree ; 2020-12-10 16:15:20.821203\n",
      "creer_graph : graph cree ; 2020-12-10 16:15:20.872096\n"
     ]
    },
    {
     "name": "stderr",
     "output_type": "stream",
     "text": [
      "c:\\users\\marti\\appdata\\local\\programs\\python\\python38\\lib\\site-packages\\sqlalchemy\\dialects\\postgresql\\base.py:3130: SAWarning: Did not recognize type 'xml' of column 'metadata'\n",
      "  util.warn(\n",
      "c:\\users\\marti\\appdata\\local\\programs\\python\\python38\\lib\\site-packages\\sqlalchemy\\dialects\\postgresql\\base.py:3130: SAWarning: Did not recognize type 'xml' of column 'fileid'\n",
      "  util.warn(\n",
      "c:\\users\\marti\\appdata\\local\\programs\\python\\python38\\lib\\site-packages\\sqlalchemy\\dialects\\postgresql\\base.py:3130: SAWarning: Did not recognize type 'xml' of column 'parentid'\n",
      "  util.warn(\n"
     ]
    },
    {
     "name": "stdout",
     "output_type": "stream",
     "text": [
      "0 2020-12-10 16:15:21.417393 nb lignes traitees : 0\n",
      "LaRoch-r de hermitage--1.1545;46.1853\n"
     ]
    },
    {
     "name": "stderr",
     "output_type": "stream",
     "text": [
      "c:\\users\\marti\\appdata\\local\\programs\\python\\python38\\lib\\site-packages\\geopandas\\geodataframe.py:830: UserWarning: Geometry column does not contain geometry.\n",
      "  warnings.warn(\"Geometry column does not contain geometry.\")\n"
     ]
    },
    {
     "name": "stdout",
     "output_type": "stream",
     "text": [
      "creer_graph : donnees mise en forme, connexion ouverte ; 2020-12-10 16:15:21.919647\n",
      "creer_graph : donnees transferees dans la base postgis ; 2020-12-10 16:15:21.936254\n",
      "creer_graph : geometrie modifiee ; 2020-12-10 16:15:21.952043\n",
      "creer_graph : topologie cree ; 2020-12-10 16:15:22.020460\n",
      "creer_graph : graph cree ; 2020-12-10 16:15:22.070341\n"
     ]
    },
    {
     "name": "stderr",
     "output_type": "stream",
     "text": [
      "c:\\users\\marti\\appdata\\local\\programs\\python\\python38\\lib\\site-packages\\sqlalchemy\\dialects\\postgresql\\base.py:3130: SAWarning: Did not recognize type 'xml' of column 'metadata'\n",
      "  util.warn(\n",
      "c:\\users\\marti\\appdata\\local\\programs\\python\\python38\\lib\\site-packages\\sqlalchemy\\dialects\\postgresql\\base.py:3130: SAWarning: Did not recognize type 'xml' of column 'fileid'\n",
      "  util.warn(\n",
      "c:\\users\\marti\\appdata\\local\\programs\\python\\python38\\lib\\site-packages\\sqlalchemy\\dialects\\postgresql\\base.py:3130: SAWarning: Did not recognize type 'xml' of column 'parentid'\n",
      "  util.warn(\n"
     ]
    },
    {
     "name": "stdout",
     "output_type": "stream",
     "text": [
      "0 2020-12-10 16:15:22.507428 nb lignes traitees : 0\n",
      "LaRoch-bd joffre--1.142;46.1587\n"
     ]
    },
    {
     "name": "stderr",
     "output_type": "stream",
     "text": [
      "c:\\users\\marti\\appdata\\local\\programs\\python\\python38\\lib\\site-packages\\geopandas\\geodataframe.py:830: UserWarning: Geometry column does not contain geometry.\n",
      "  warnings.warn(\"Geometry column does not contain geometry.\")\n"
     ]
    },
    {
     "name": "stdout",
     "output_type": "stream",
     "text": [
      "creer_graph : donnees mise en forme, connexion ouverte ; 2020-12-10 16:15:22.827671\n",
      "creer_graph : donnees transferees dans la base postgis ; 2020-12-10 16:15:22.847165\n",
      "creer_graph : geometrie modifiee ; 2020-12-10 16:15:22.862598\n",
      "creer_graph : topologie cree ; 2020-12-10 16:15:22.948371\n",
      "creer_graph : graph cree ; 2020-12-10 16:15:23.000206\n"
     ]
    },
    {
     "name": "stderr",
     "output_type": "stream",
     "text": [
      "c:\\users\\marti\\appdata\\local\\programs\\python\\python38\\lib\\site-packages\\sqlalchemy\\dialects\\postgresql\\base.py:3130: SAWarning: Did not recognize type 'xml' of column 'metadata'\n",
      "  util.warn(\n",
      "c:\\users\\marti\\appdata\\local\\programs\\python\\python38\\lib\\site-packages\\sqlalchemy\\dialects\\postgresql\\base.py:3130: SAWarning: Did not recognize type 'xml' of column 'fileid'\n",
      "  util.warn(\n",
      "c:\\users\\marti\\appdata\\local\\programs\\python\\python38\\lib\\site-packages\\sqlalchemy\\dialects\\postgresql\\base.py:3130: SAWarning: Did not recognize type 'xml' of column 'parentid'\n",
      "  util.warn(\n"
     ]
    },
    {
     "name": "stdout",
     "output_type": "stream",
     "text": [
      "0 2020-12-10 16:15:23.504855 nb lignes traitees : 0\n",
      "0 2020-12-10 16:15:23.611569 nb lignes traitees : 0\n",
      "0 2020-12-10 16:15:23.686389 nb lignes traitees : 0\n",
      "17-D106E1-0+90\n"
     ]
    },
    {
     "name": "stderr",
     "output_type": "stream",
     "text": [
      "c:\\users\\marti\\appdata\\local\\programs\\python\\python38\\lib\\site-packages\\geopandas\\geodataframe.py:830: UserWarning: Geometry column does not contain geometry.\n",
      "  warnings.warn(\"Geometry column does not contain geometry.\")\n"
     ]
    },
    {
     "name": "stdout",
     "output_type": "stream",
     "text": [
      "creer_graph : donnees mise en forme, connexion ouverte ; 2020-12-10 16:15:24.012706\n",
      "creer_graph : donnees transferees dans la base postgis ; 2020-12-10 16:15:24.080816\n",
      "creer_graph : geometrie modifiee ; 2020-12-10 16:15:24.100137\n",
      "creer_graph : topologie cree ; 2020-12-10 16:15:24.190107\n",
      "creer_graph : graph cree ; 2020-12-10 16:15:24.241000\n"
     ]
    },
    {
     "name": "stderr",
     "output_type": "stream",
     "text": [
      "c:\\users\\marti\\appdata\\local\\programs\\python\\python38\\lib\\site-packages\\sqlalchemy\\dialects\\postgresql\\base.py:3130: SAWarning: Did not recognize type 'xml' of column 'metadata'\n",
      "  util.warn(\n",
      "c:\\users\\marti\\appdata\\local\\programs\\python\\python38\\lib\\site-packages\\sqlalchemy\\dialects\\postgresql\\base.py:3130: SAWarning: Did not recognize type 'xml' of column 'fileid'\n",
      "  util.warn(\n",
      "c:\\users\\marti\\appdata\\local\\programs\\python\\python38\\lib\\site-packages\\sqlalchemy\\dialects\\postgresql\\base.py:3130: SAWarning: Did not recognize type 'xml' of column 'parentid'\n",
      "  util.warn(\n"
     ]
    },
    {
     "name": "stdout",
     "output_type": "stream",
     "text": [
      "0 2020-12-10 16:15:24.772917 nb lignes traitees : 0\n",
      "17-D114-105+800\n"
     ]
    },
    {
     "name": "stderr",
     "output_type": "stream",
     "text": [
      "c:\\users\\marti\\appdata\\local\\programs\\python\\python38\\lib\\site-packages\\geopandas\\geodataframe.py:830: UserWarning: Geometry column does not contain geometry.\n",
      "  warnings.warn(\"Geometry column does not contain geometry.\")\n"
     ]
    },
    {
     "name": "stdout",
     "output_type": "stream",
     "text": [
      "creer_graph : donnees mise en forme, connexion ouverte ; 2020-12-10 16:15:25.341597\n",
      "creer_graph : donnees transferees dans la base postgis ; 2020-12-10 16:15:25.391289\n",
      "creer_graph : geometrie modifiee ; 2020-12-10 16:15:25.409218\n",
      "creer_graph : topologie cree ; 2020-12-10 16:15:25.686199\n",
      "creer_graph : graph cree ; 2020-12-10 16:15:25.744072\n"
     ]
    },
    {
     "name": "stderr",
     "output_type": "stream",
     "text": [
      "c:\\users\\marti\\appdata\\local\\programs\\python\\python38\\lib\\site-packages\\sqlalchemy\\dialects\\postgresql\\base.py:3130: SAWarning: Did not recognize type 'xml' of column 'metadata'\n",
      "  util.warn(\n",
      "c:\\users\\marti\\appdata\\local\\programs\\python\\python38\\lib\\site-packages\\sqlalchemy\\dialects\\postgresql\\base.py:3130: SAWarning: Did not recognize type 'xml' of column 'fileid'\n",
      "  util.warn(\n",
      "c:\\users\\marti\\appdata\\local\\programs\\python\\python38\\lib\\site-packages\\sqlalchemy\\dialects\\postgresql\\base.py:3130: SAWarning: Did not recognize type 'xml' of column 'parentid'\n",
      "  util.warn(\n"
     ]
    },
    {
     "name": "stdout",
     "output_type": "stream",
     "text": [
      "0 2020-12-10 16:15:26.359697 nb lignes traitees : 0\n",
      "17-D232-1+60\n"
     ]
    },
    {
     "name": "stderr",
     "output_type": "stream",
     "text": [
      "c:\\users\\marti\\appdata\\local\\programs\\python\\python38\\lib\\site-packages\\geopandas\\geodataframe.py:830: UserWarning: Geometry column does not contain geometry.\n",
      "  warnings.warn(\"Geometry column does not contain geometry.\")\n"
     ]
    },
    {
     "name": "stdout",
     "output_type": "stream",
     "text": [
      "creer_graph : donnees mise en forme, connexion ouverte ; 2020-12-10 16:15:26.684866\n",
      "creer_graph : donnees transferees dans la base postgis ; 2020-12-10 16:15:26.706235\n",
      "creer_graph : geometrie modifiee ; 2020-12-10 16:15:26.720327\n",
      "creer_graph : topologie cree ; 2020-12-10 16:15:26.826612\n",
      "creer_graph : graph cree ; 2020-12-10 16:15:26.876506\n"
     ]
    },
    {
     "name": "stderr",
     "output_type": "stream",
     "text": [
      "c:\\users\\marti\\appdata\\local\\programs\\python\\python38\\lib\\site-packages\\sqlalchemy\\dialects\\postgresql\\base.py:3130: SAWarning: Did not recognize type 'xml' of column 'metadata'\n",
      "  util.warn(\n",
      "c:\\users\\marti\\appdata\\local\\programs\\python\\python38\\lib\\site-packages\\sqlalchemy\\dialects\\postgresql\\base.py:3130: SAWarning: Did not recognize type 'xml' of column 'fileid'\n",
      "  util.warn(\n",
      "c:\\users\\marti\\appdata\\local\\programs\\python\\python38\\lib\\site-packages\\sqlalchemy\\dialects\\postgresql\\base.py:3130: SAWarning: Did not recognize type 'xml' of column 'parentid'\n",
      "  util.warn(\n"
     ]
    },
    {
     "name": "stdout",
     "output_type": "stream",
     "text": [
      "0 2020-12-10 16:15:27.302340 nb lignes traitees : 0\n",
      "17-D264-8+146\n"
     ]
    },
    {
     "name": "stderr",
     "output_type": "stream",
     "text": [
      "c:\\users\\marti\\appdata\\local\\programs\\python\\python38\\lib\\site-packages\\geopandas\\geodataframe.py:830: UserWarning: Geometry column does not contain geometry.\n",
      "  warnings.warn(\"Geometry column does not contain geometry.\")\n"
     ]
    },
    {
     "name": "stdout",
     "output_type": "stream",
     "text": [
      "creer_graph : donnees mise en forme, connexion ouverte ; 2020-12-10 16:15:27.601097\n",
      "creer_graph : donnees transferees dans la base postgis ; 2020-12-10 16:15:27.624633\n",
      "creer_graph : geometrie modifiee ; 2020-12-10 16:15:27.639547\n",
      "creer_graph : topologie cree ; 2020-12-10 16:15:27.742473\n",
      "creer_graph : graph cree ; 2020-12-10 16:15:27.793363\n"
     ]
    },
    {
     "name": "stderr",
     "output_type": "stream",
     "text": [
      "c:\\users\\marti\\appdata\\local\\programs\\python\\python38\\lib\\site-packages\\sqlalchemy\\dialects\\postgresql\\base.py:3130: SAWarning: Did not recognize type 'xml' of column 'metadata'\n",
      "  util.warn(\n",
      "c:\\users\\marti\\appdata\\local\\programs\\python\\python38\\lib\\site-packages\\sqlalchemy\\dialects\\postgresql\\base.py:3130: SAWarning: Did not recognize type 'xml' of column 'fileid'\n",
      "  util.warn(\n",
      "c:\\users\\marti\\appdata\\local\\programs\\python\\python38\\lib\\site-packages\\sqlalchemy\\dialects\\postgresql\\base.py:3130: SAWarning: Did not recognize type 'xml' of column 'parentid'\n",
      "  util.warn(\n"
     ]
    },
    {
     "name": "stdout",
     "output_type": "stream",
     "text": [
      "0 2020-12-10 16:15:28.222536 nb lignes traitees : 0\n",
      "LaRoch-r du docteur scwheitzer--1.1439;46.1582\n"
     ]
    },
    {
     "name": "stderr",
     "output_type": "stream",
     "text": [
      "c:\\users\\marti\\appdata\\local\\programs\\python\\python38\\lib\\site-packages\\geopandas\\geodataframe.py:830: UserWarning: Geometry column does not contain geometry.\n",
      "  warnings.warn(\"Geometry column does not contain geometry.\")\n"
     ]
    },
    {
     "name": "stdout",
     "output_type": "stream",
     "text": [
      "creer_graph : donnees mise en forme, connexion ouverte ; 2020-12-10 16:15:28.507130\n",
      "creer_graph : donnees transferees dans la base postgis ; 2020-12-10 16:15:28.521831\n",
      "creer_graph : geometrie modifiee ; 2020-12-10 16:15:28.536011\n",
      "creer_graph : topologie cree ; 2020-12-10 16:15:28.597294\n",
      "creer_graph : graph cree ; 2020-12-10 16:15:28.648180\n"
     ]
    },
    {
     "name": "stderr",
     "output_type": "stream",
     "text": [
      "c:\\users\\marti\\appdata\\local\\programs\\python\\python38\\lib\\site-packages\\sqlalchemy\\dialects\\postgresql\\base.py:3130: SAWarning: Did not recognize type 'xml' of column 'metadata'\n",
      "  util.warn(\n",
      "c:\\users\\marti\\appdata\\local\\programs\\python\\python38\\lib\\site-packages\\sqlalchemy\\dialects\\postgresql\\base.py:3130: SAWarning: Did not recognize type 'xml' of column 'fileid'\n",
      "  util.warn(\n",
      "c:\\users\\marti\\appdata\\local\\programs\\python\\python38\\lib\\site-packages\\sqlalchemy\\dialects\\postgresql\\base.py:3130: SAWarning: Did not recognize type 'xml' of column 'parentid'\n",
      "  util.warn(\n"
     ]
    },
    {
     "name": "stdout",
     "output_type": "stream",
     "text": [
      "0 2020-12-10 16:15:29.082328 nb lignes traitees : 0\n",
      "LaRoch-av du cimetierre--1.1334;46.1629\n"
     ]
    },
    {
     "name": "stderr",
     "output_type": "stream",
     "text": [
      "c:\\users\\marti\\appdata\\local\\programs\\python\\python38\\lib\\site-packages\\geopandas\\geodataframe.py:830: UserWarning: Geometry column does not contain geometry.\n",
      "  warnings.warn(\"Geometry column does not contain geometry.\")\n"
     ]
    },
    {
     "name": "stdout",
     "output_type": "stream",
     "text": [
      "creer_graph : donnees mise en forme, connexion ouverte ; 2020-12-10 16:15:29.388008\n",
      "creer_graph : donnees transferees dans la base postgis ; 2020-12-10 16:15:29.409830\n",
      "creer_graph : geometrie modifiee ; 2020-12-10 16:15:29.425501\n",
      "creer_graph : topologie cree ; 2020-12-10 16:15:29.512906\n",
      "creer_graph : graph cree ; 2020-12-10 16:15:29.564795\n"
     ]
    },
    {
     "name": "stderr",
     "output_type": "stream",
     "text": [
      "c:\\users\\marti\\appdata\\local\\programs\\python\\python38\\lib\\site-packages\\sqlalchemy\\dialects\\postgresql\\base.py:3130: SAWarning: Did not recognize type 'xml' of column 'metadata'\n",
      "  util.warn(\n",
      "c:\\users\\marti\\appdata\\local\\programs\\python\\python38\\lib\\site-packages\\sqlalchemy\\dialects\\postgresql\\base.py:3130: SAWarning: Did not recognize type 'xml' of column 'fileid'\n",
      "  util.warn(\n",
      "c:\\users\\marti\\appdata\\local\\programs\\python\\python38\\lib\\site-packages\\sqlalchemy\\dialects\\postgresql\\base.py:3130: SAWarning: Did not recognize type 'xml' of column 'parentid'\n",
      "  util.warn(\n"
     ]
    },
    {
     "name": "stdout",
     "output_type": "stream",
     "text": [
      "0 2020-12-10 16:15:30.091184 nb lignes traitees : 0\n",
      "17-D733E2-0+400\n"
     ]
    },
    {
     "name": "stderr",
     "output_type": "stream",
     "text": [
      "c:\\users\\marti\\appdata\\local\\programs\\python\\python38\\lib\\site-packages\\geopandas\\geodataframe.py:830: UserWarning: Geometry column does not contain geometry.\n",
      "  warnings.warn(\"Geometry column does not contain geometry.\")\n"
     ]
    },
    {
     "name": "stdout",
     "output_type": "stream",
     "text": [
      "creer_graph : donnees mise en forme, connexion ouverte ; 2020-12-10 16:15:30.396114\n",
      "creer_graph : donnees transferees dans la base postgis ; 2020-12-10 16:15:30.421818\n",
      "creer_graph : geometrie modifiee ; 2020-12-10 16:15:30.444440\n",
      "creer_graph : topologie cree ; 2020-12-10 16:15:30.573772\n",
      "creer_graph : graph cree ; 2020-12-10 16:15:30.628644\n"
     ]
    },
    {
     "name": "stderr",
     "output_type": "stream",
     "text": [
      "c:\\users\\marti\\appdata\\local\\programs\\python\\python38\\lib\\site-packages\\sqlalchemy\\dialects\\postgresql\\base.py:3130: SAWarning: Did not recognize type 'xml' of column 'metadata'\n",
      "  util.warn(\n",
      "c:\\users\\marti\\appdata\\local\\programs\\python\\python38\\lib\\site-packages\\sqlalchemy\\dialects\\postgresql\\base.py:3130: SAWarning: Did not recognize type 'xml' of column 'fileid'\n",
      "  util.warn(\n",
      "c:\\users\\marti\\appdata\\local\\programs\\python\\python38\\lib\\site-packages\\sqlalchemy\\dialects\\postgresql\\base.py:3130: SAWarning: Did not recognize type 'xml' of column 'parentid'\n",
      "  util.warn(\n"
     ]
    },
    {
     "name": "stdout",
     "output_type": "stream",
     "text": [
      "0 2020-12-10 16:15:31.066187 nb lignes traitees : 0\n",
      "0 2020-12-10 16:15:31.170908 nb lignes traitees : 0\n",
      "17-D135-9+140\n"
     ]
    },
    {
     "name": "stderr",
     "output_type": "stream",
     "text": [
      "c:\\users\\marti\\appdata\\local\\programs\\python\\python38\\lib\\site-packages\\geopandas\\geodataframe.py:830: UserWarning: Geometry column does not contain geometry.\n",
      "  warnings.warn(\"Geometry column does not contain geometry.\")\n"
     ]
    },
    {
     "name": "stdout",
     "output_type": "stream",
     "text": [
      "creer_graph : donnees mise en forme, connexion ouverte ; 2020-12-10 16:15:31.556271\n",
      "creer_graph : donnees transferees dans la base postgis ; 2020-12-10 16:15:31.587337\n",
      "creer_graph : geometrie modifiee ; 2020-12-10 16:15:31.602926\n",
      "creer_graph : topologie cree ; 2020-12-10 16:15:31.750887\n",
      "creer_graph : graph cree ; 2020-12-10 16:15:31.805742\n"
     ]
    },
    {
     "name": "stderr",
     "output_type": "stream",
     "text": [
      "c:\\users\\marti\\appdata\\local\\programs\\python\\python38\\lib\\site-packages\\sqlalchemy\\dialects\\postgresql\\base.py:3130: SAWarning: Did not recognize type 'xml' of column 'metadata'\n",
      "  util.warn(\n",
      "c:\\users\\marti\\appdata\\local\\programs\\python\\python38\\lib\\site-packages\\sqlalchemy\\dialects\\postgresql\\base.py:3130: SAWarning: Did not recognize type 'xml' of column 'fileid'\n",
      "  util.warn(\n",
      "c:\\users\\marti\\appdata\\local\\programs\\python\\python38\\lib\\site-packages\\sqlalchemy\\dialects\\postgresql\\base.py:3130: SAWarning: Did not recognize type 'xml' of column 'parentid'\n",
      "  util.warn(\n"
     ]
    },
    {
     "name": "stdout",
     "output_type": "stream",
     "text": [
      "0 2020-12-10 16:15:32.234490 nb lignes traitees : 0\n",
      "LaRoch-r des mandries--1.1052;46.204\n"
     ]
    },
    {
     "name": "stderr",
     "output_type": "stream",
     "text": [
      "c:\\users\\marti\\appdata\\local\\programs\\python\\python38\\lib\\site-packages\\geopandas\\geodataframe.py:830: UserWarning: Geometry column does not contain geometry.\n",
      "  warnings.warn(\"Geometry column does not contain geometry.\")\n"
     ]
    },
    {
     "name": "stdout",
     "output_type": "stream",
     "text": [
      "creer_graph : donnees mise en forme, connexion ouverte ; 2020-12-10 16:15:32.561641\n",
      "creer_graph : donnees transferees dans la base postgis ; 2020-12-10 16:15:32.576180\n",
      "creer_graph : geometrie modifiee ; 2020-12-10 16:15:32.602774\n",
      "creer_graph : topologie cree ; 2020-12-10 16:15:32.668464\n",
      "creer_graph : graph cree ; 2020-12-10 16:15:32.718360\n"
     ]
    },
    {
     "name": "stderr",
     "output_type": "stream",
     "text": [
      "c:\\users\\marti\\appdata\\local\\programs\\python\\python38\\lib\\site-packages\\sqlalchemy\\dialects\\postgresql\\base.py:3130: SAWarning: Did not recognize type 'xml' of column 'metadata'\n",
      "  util.warn(\n",
      "c:\\users\\marti\\appdata\\local\\programs\\python\\python38\\lib\\site-packages\\sqlalchemy\\dialects\\postgresql\\base.py:3130: SAWarning: Did not recognize type 'xml' of column 'fileid'\n",
      "  util.warn(\n",
      "c:\\users\\marti\\appdata\\local\\programs\\python\\python38\\lib\\site-packages\\sqlalchemy\\dialects\\postgresql\\base.py:3130: SAWarning: Did not recognize type 'xml' of column 'parentid'\n",
      "  util.warn(\n"
     ]
    },
    {
     "name": "stdout",
     "output_type": "stream",
     "text": [
      "0 2020-12-10 16:15:33.139780 nb lignes traitees : 0\n",
      "LaRoch-r pierre de fermat--1.0941;46.1629\n"
     ]
    },
    {
     "name": "stderr",
     "output_type": "stream",
     "text": [
      "c:\\users\\marti\\appdata\\local\\programs\\python\\python38\\lib\\site-packages\\geopandas\\geodataframe.py:830: UserWarning: Geometry column does not contain geometry.\n",
      "  warnings.warn(\"Geometry column does not contain geometry.\")\n"
     ]
    },
    {
     "name": "stdout",
     "output_type": "stream",
     "text": [
      "creer_graph : donnees mise en forme, connexion ouverte ; 2020-12-10 16:15:33.432116\n",
      "creer_graph : donnees transferees dans la base postgis ; 2020-12-10 16:15:33.448428\n",
      "creer_graph : geometrie modifiee ; 2020-12-10 16:15:33.462600\n",
      "creer_graph : topologie cree ; 2020-12-10 16:15:33.524875\n",
      "creer_graph : graph cree ; 2020-12-10 16:15:33.574744\n"
     ]
    },
    {
     "name": "stderr",
     "output_type": "stream",
     "text": [
      "c:\\users\\marti\\appdata\\local\\programs\\python\\python38\\lib\\site-packages\\sqlalchemy\\dialects\\postgresql\\base.py:3130: SAWarning: Did not recognize type 'xml' of column 'metadata'\n",
      "  util.warn(\n",
      "c:\\users\\marti\\appdata\\local\\programs\\python\\python38\\lib\\site-packages\\sqlalchemy\\dialects\\postgresql\\base.py:3130: SAWarning: Did not recognize type 'xml' of column 'fileid'\n",
      "  util.warn(\n",
      "c:\\users\\marti\\appdata\\local\\programs\\python\\python38\\lib\\site-packages\\sqlalchemy\\dialects\\postgresql\\base.py:3130: SAWarning: Did not recognize type 'xml' of column 'parentid'\n",
      "  util.warn(\n"
     ]
    },
    {
     "name": "stdout",
     "output_type": "stream",
     "text": [
      "0 2020-12-10 16:15:33.995646 nb lignes traitees : 0\n",
      "LaRoch-av general leclerc--1.1571;46.1623\n"
     ]
    },
    {
     "name": "stderr",
     "output_type": "stream",
     "text": [
      "c:\\users\\marti\\appdata\\local\\programs\\python\\python38\\lib\\site-packages\\geopandas\\geodataframe.py:830: UserWarning: Geometry column does not contain geometry.\n",
      "  warnings.warn(\"Geometry column does not contain geometry.\")\n"
     ]
    },
    {
     "name": "stdout",
     "output_type": "stream",
     "text": [
      "creer_graph : donnees mise en forme, connexion ouverte ; 2020-12-10 16:15:34.308898\n",
      "creer_graph : donnees transferees dans la base postgis ; 2020-12-10 16:15:34.326826\n",
      "creer_graph : geometrie modifiee ; 2020-12-10 16:15:34.342783\n",
      "creer_graph : topologie cree ; 2020-12-10 16:15:34.407972\n",
      "creer_graph : graph cree ; 2020-12-10 16:15:34.458836\n"
     ]
    },
    {
     "name": "stderr",
     "output_type": "stream",
     "text": [
      "c:\\users\\marti\\appdata\\local\\programs\\python\\python38\\lib\\site-packages\\sqlalchemy\\dialects\\postgresql\\base.py:3130: SAWarning: Did not recognize type 'xml' of column 'metadata'\n",
      "  util.warn(\n",
      "c:\\users\\marti\\appdata\\local\\programs\\python\\python38\\lib\\site-packages\\sqlalchemy\\dialects\\postgresql\\base.py:3130: SAWarning: Did not recognize type 'xml' of column 'fileid'\n",
      "  util.warn(\n",
      "c:\\users\\marti\\appdata\\local\\programs\\python\\python38\\lib\\site-packages\\sqlalchemy\\dialects\\postgresql\\base.py:3130: SAWarning: Did not recognize type 'xml' of column 'parentid'\n",
      "  util.warn(\n"
     ]
    },
    {
     "name": "stdout",
     "output_type": "stream",
     "text": [
      "0 2020-12-10 16:15:34.907118 nb lignes traitees : 0\n",
      "LaRoch-r de perigny--1.137;46.158\n"
     ]
    },
    {
     "name": "stderr",
     "output_type": "stream",
     "text": [
      "c:\\users\\marti\\appdata\\local\\programs\\python\\python38\\lib\\site-packages\\geopandas\\geodataframe.py:830: UserWarning: Geometry column does not contain geometry.\n",
      "  warnings.warn(\"Geometry column does not contain geometry.\")\n"
     ]
    },
    {
     "name": "stdout",
     "output_type": "stream",
     "text": [
      "creer_graph : donnees mise en forme, connexion ouverte ; 2020-12-10 16:15:35.213570\n",
      "creer_graph : donnees transferees dans la base postgis ; 2020-12-10 16:15:35.235425\n",
      "creer_graph : geometrie modifiee ; 2020-12-10 16:15:35.251183\n",
      "creer_graph : topologie cree ; 2020-12-10 16:15:35.340530\n",
      "creer_graph : graph cree ; 2020-12-10 16:15:35.404390\n"
     ]
    },
    {
     "name": "stderr",
     "output_type": "stream",
     "text": [
      "c:\\users\\marti\\appdata\\local\\programs\\python\\python38\\lib\\site-packages\\sqlalchemy\\dialects\\postgresql\\base.py:3130: SAWarning: Did not recognize type 'xml' of column 'metadata'\n",
      "  util.warn(\n",
      "c:\\users\\marti\\appdata\\local\\programs\\python\\python38\\lib\\site-packages\\sqlalchemy\\dialects\\postgresql\\base.py:3130: SAWarning: Did not recognize type 'xml' of column 'fileid'\n",
      "  util.warn(\n",
      "c:\\users\\marti\\appdata\\local\\programs\\python\\python38\\lib\\site-packages\\sqlalchemy\\dialects\\postgresql\\base.py:3130: SAWarning: Did not recognize type 'xml' of column 'parentid'\n",
      "  util.warn(\n"
     ]
    },
    {
     "name": "stdout",
     "output_type": "stream",
     "text": [
      "0 2020-12-10 16:15:35.931189 nb lignes traitees : 0\n",
      "LaRoch-r du parc--1.161;46.1924\n"
     ]
    },
    {
     "name": "stderr",
     "output_type": "stream",
     "text": [
      "c:\\users\\marti\\appdata\\local\\programs\\python\\python38\\lib\\site-packages\\geopandas\\geodataframe.py:830: UserWarning: Geometry column does not contain geometry.\n",
      "  warnings.warn(\"Geometry column does not contain geometry.\")\n"
     ]
    },
    {
     "name": "stdout",
     "output_type": "stream",
     "text": [
      "creer_graph : donnees mise en forme, connexion ouverte ; 2020-12-10 16:15:36.267332\n",
      "creer_graph : donnees transferees dans la base postgis ; 2020-12-10 16:15:36.282354\n",
      "creer_graph : geometrie modifiee ; 2020-12-10 16:15:36.303496\n",
      "creer_graph : topologie cree ; 2020-12-10 16:15:36.378707\n",
      "creer_graph : graph cree ; 2020-12-10 16:15:36.429594\n"
     ]
    },
    {
     "name": "stderr",
     "output_type": "stream",
     "text": [
      "c:\\users\\marti\\appdata\\local\\programs\\python\\python38\\lib\\site-packages\\sqlalchemy\\dialects\\postgresql\\base.py:3130: SAWarning: Did not recognize type 'xml' of column 'metadata'\n",
      "  util.warn(\n",
      "c:\\users\\marti\\appdata\\local\\programs\\python\\python38\\lib\\site-packages\\sqlalchemy\\dialects\\postgresql\\base.py:3130: SAWarning: Did not recognize type 'xml' of column 'fileid'\n",
      "  util.warn(\n",
      "c:\\users\\marti\\appdata\\local\\programs\\python\\python38\\lib\\site-packages\\sqlalchemy\\dialects\\postgresql\\base.py:3130: SAWarning: Did not recognize type 'xml' of column 'parentid'\n",
      "  util.warn(\n"
     ]
    },
    {
     "name": "stdout",
     "output_type": "stream",
     "text": [
      "0 2020-12-10 16:15:36.916067 nb lignes traitees : 0\n",
      "LaRoch-av jean moulin--1.1393;46.1541\n"
     ]
    },
    {
     "name": "stderr",
     "output_type": "stream",
     "text": [
      "c:\\users\\marti\\appdata\\local\\programs\\python\\python38\\lib\\site-packages\\geopandas\\geodataframe.py:830: UserWarning: Geometry column does not contain geometry.\n",
      "  warnings.warn(\"Geometry column does not contain geometry.\")\n"
     ]
    },
    {
     "name": "stdout",
     "output_type": "stream",
     "text": [
      "creer_graph : donnees mise en forme, connexion ouverte ; 2020-12-10 16:15:37.188294\n",
      "creer_graph : donnees transferees dans la base postgis ; 2020-12-10 16:15:37.206846\n",
      "creer_graph : geometrie modifiee ; 2020-12-10 16:15:37.222574\n",
      "creer_graph : topologie cree ; 2020-12-10 16:15:37.313812\n",
      "creer_graph : graph cree ; 2020-12-10 16:15:37.364676\n"
     ]
    },
    {
     "name": "stderr",
     "output_type": "stream",
     "text": [
      "c:\\users\\marti\\appdata\\local\\programs\\python\\python38\\lib\\site-packages\\sqlalchemy\\dialects\\postgresql\\base.py:3130: SAWarning: Did not recognize type 'xml' of column 'metadata'\n",
      "  util.warn(\n",
      "c:\\users\\marti\\appdata\\local\\programs\\python\\python38\\lib\\site-packages\\sqlalchemy\\dialects\\postgresql\\base.py:3130: SAWarning: Did not recognize type 'xml' of column 'fileid'\n",
      "  util.warn(\n",
      "c:\\users\\marti\\appdata\\local\\programs\\python\\python38\\lib\\site-packages\\sqlalchemy\\dialects\\postgresql\\base.py:3130: SAWarning: Did not recognize type 'xml' of column 'parentid'\n",
      "  util.warn(\n"
     ]
    },
    {
     "name": "stdout",
     "output_type": "stream",
     "text": [
      "0 2020-12-10 16:15:37.891203 nb lignes traitees : 0\n",
      "0 2020-12-10 16:15:37.938084 nb lignes traitees : 0\n",
      "LaRoch-r de lagord--1.1078;46.2016\n"
     ]
    },
    {
     "name": "stderr",
     "output_type": "stream",
     "text": [
      "c:\\users\\marti\\appdata\\local\\programs\\python\\python38\\lib\\site-packages\\geopandas\\geodataframe.py:830: UserWarning: Geometry column does not contain geometry.\n",
      "  warnings.warn(\"Geometry column does not contain geometry.\")\n"
     ]
    },
    {
     "name": "stdout",
     "output_type": "stream",
     "text": [
      "creer_graph : donnees mise en forme, connexion ouverte ; 2020-12-10 16:15:38.303887\n",
      "creer_graph : donnees transferees dans la base postgis ; 2020-12-10 16:15:38.336163\n",
      "creer_graph : geometrie modifiee ; 2020-12-10 16:15:38.356516\n",
      "creer_graph : topologie cree ; 2020-12-10 16:15:38.420180\n",
      "creer_graph : graph cree ; 2020-12-10 16:15:38.469072\n"
     ]
    },
    {
     "name": "stderr",
     "output_type": "stream",
     "text": [
      "c:\\users\\marti\\appdata\\local\\programs\\python\\python38\\lib\\site-packages\\sqlalchemy\\dialects\\postgresql\\base.py:3130: SAWarning: Did not recognize type 'xml' of column 'metadata'\n",
      "  util.warn(\n",
      "c:\\users\\marti\\appdata\\local\\programs\\python\\python38\\lib\\site-packages\\sqlalchemy\\dialects\\postgresql\\base.py:3130: SAWarning: Did not recognize type 'xml' of column 'fileid'\n",
      "  util.warn(\n",
      "c:\\users\\marti\\appdata\\local\\programs\\python\\python38\\lib\\site-packages\\sqlalchemy\\dialects\\postgresql\\base.py:3130: SAWarning: Did not recognize type 'xml' of column 'parentid'\n",
      "  util.warn(\n"
     ]
    },
    {
     "name": "stdout",
     "output_type": "stream",
     "text": [
      "0 2020-12-10 16:15:38.902233 nb lignes traitees : 0\n",
      "LaRoch-rte la rochelle--1.0324;46.2015\n"
     ]
    },
    {
     "name": "stderr",
     "output_type": "stream",
     "text": [
      "c:\\users\\marti\\appdata\\local\\programs\\python\\python38\\lib\\site-packages\\geopandas\\geodataframe.py:830: UserWarning: Geometry column does not contain geometry.\n",
      "  warnings.warn(\"Geometry column does not contain geometry.\")\n"
     ]
    },
    {
     "name": "stdout",
     "output_type": "stream",
     "text": [
      "creer_graph : donnees mise en forme, connexion ouverte ; 2020-12-10 16:15:39.211679\n",
      "creer_graph : donnees transferees dans la base postgis ; 2020-12-10 16:15:39.231341\n",
      "creer_graph : geometrie modifiee ; 2020-12-10 16:15:39.258044\n",
      "creer_graph : topologie cree ; 2020-12-10 16:15:39.339045\n",
      "creer_graph : graph cree ; 2020-12-10 16:15:39.388936\n"
     ]
    },
    {
     "name": "stderr",
     "output_type": "stream",
     "text": [
      "c:\\users\\marti\\appdata\\local\\programs\\python\\python38\\lib\\site-packages\\sqlalchemy\\dialects\\postgresql\\base.py:3130: SAWarning: Did not recognize type 'xml' of column 'metadata'\n",
      "  util.warn(\n",
      "c:\\users\\marti\\appdata\\local\\programs\\python\\python38\\lib\\site-packages\\sqlalchemy\\dialects\\postgresql\\base.py:3130: SAWarning: Did not recognize type 'xml' of column 'fileid'\n",
      "  util.warn(\n",
      "c:\\users\\marti\\appdata\\local\\programs\\python\\python38\\lib\\site-packages\\sqlalchemy\\dialects\\postgresql\\base.py:3130: SAWarning: Did not recognize type 'xml' of column 'parentid'\n",
      "  util.warn(\n"
     ]
    },
    {
     "name": "stdout",
     "output_type": "stream",
     "text": [
      "0 2020-12-10 16:15:39.909433 nb lignes traitees : 0\n",
      "LaRoch-r saint yvon--1.151;46.1605\n"
     ]
    },
    {
     "name": "stderr",
     "output_type": "stream",
     "text": [
      "c:\\users\\marti\\appdata\\local\\programs\\python\\python38\\lib\\site-packages\\geopandas\\geodataframe.py:830: UserWarning: Geometry column does not contain geometry.\n",
      "  warnings.warn(\"Geometry column does not contain geometry.\")\n"
     ]
    },
    {
     "name": "stdout",
     "output_type": "stream",
     "text": [
      "creer_graph : donnees mise en forme, connexion ouverte ; 2020-12-10 16:15:40.231912\n",
      "creer_graph : donnees transferees dans la base postgis ; 2020-12-10 16:15:40.247210\n",
      "creer_graph : geometrie modifiee ; 2020-12-10 16:15:40.260374\n",
      "creer_graph : topologie cree ; 2020-12-10 16:15:40.355946\n",
      "creer_graph : graph cree ; 2020-12-10 16:15:40.405806\n"
     ]
    },
    {
     "name": "stderr",
     "output_type": "stream",
     "text": [
      "c:\\users\\marti\\appdata\\local\\programs\\python\\python38\\lib\\site-packages\\sqlalchemy\\dialects\\postgresql\\base.py:3130: SAWarning: Did not recognize type 'xml' of column 'metadata'\n",
      "  util.warn(\n",
      "c:\\users\\marti\\appdata\\local\\programs\\python\\python38\\lib\\site-packages\\sqlalchemy\\dialects\\postgresql\\base.py:3130: SAWarning: Did not recognize type 'xml' of column 'fileid'\n",
      "  util.warn(\n",
      "c:\\users\\marti\\appdata\\local\\programs\\python\\python38\\lib\\site-packages\\sqlalchemy\\dialects\\postgresql\\base.py:3130: SAWarning: Did not recognize type 'xml' of column 'parentid'\n",
      "  util.warn(\n"
     ]
    },
    {
     "name": "stdout",
     "output_type": "stream",
     "text": [
      "0 2020-12-10 16:15:40.817863 nb lignes traitees : 0\n",
      "LaRoch-r thiers--1.1484;46.1614\n"
     ]
    },
    {
     "name": "stderr",
     "output_type": "stream",
     "text": [
      "c:\\users\\marti\\appdata\\local\\programs\\python\\python38\\lib\\site-packages\\geopandas\\geodataframe.py:830: UserWarning: Geometry column does not contain geometry.\n",
      "  warnings.warn(\"Geometry column does not contain geometry.\")\n"
     ]
    },
    {
     "name": "stdout",
     "output_type": "stream",
     "text": [
      "creer_graph : donnees mise en forme, connexion ouverte ; 2020-12-10 16:15:41.096636\n",
      "creer_graph : donnees transferees dans la base postgis ; 2020-12-10 16:15:41.112602\n",
      "creer_graph : geometrie modifiee ; 2020-12-10 16:15:41.126702\n",
      "creer_graph : topologie cree ; 2020-12-10 16:15:41.194729\n",
      "creer_graph : graph cree ; 2020-12-10 16:15:41.244625\n"
     ]
    },
    {
     "name": "stderr",
     "output_type": "stream",
     "text": [
      "c:\\users\\marti\\appdata\\local\\programs\\python\\python38\\lib\\site-packages\\sqlalchemy\\dialects\\postgresql\\base.py:3130: SAWarning: Did not recognize type 'xml' of column 'metadata'\n",
      "  util.warn(\n",
      "c:\\users\\marti\\appdata\\local\\programs\\python\\python38\\lib\\site-packages\\sqlalchemy\\dialects\\postgresql\\base.py:3130: SAWarning: Did not recognize type 'xml' of column 'fileid'\n",
      "  util.warn(\n",
      "c:\\users\\marti\\appdata\\local\\programs\\python\\python38\\lib\\site-packages\\sqlalchemy\\dialects\\postgresql\\base.py:3130: SAWarning: Did not recognize type 'xml' of column 'parentid'\n",
      "  util.warn(\n"
     ]
    },
    {
     "name": "stdout",
     "output_type": "stream",
     "text": [
      "0 2020-12-10 16:15:41.679292 nb lignes traitees : 0\n",
      "0 2020-12-10 16:15:41.725169 nb lignes traitees : 0\n",
      "17-N2150-57+101\n"
     ]
    },
    {
     "name": "stderr",
     "output_type": "stream",
     "text": [
      "c:\\users\\marti\\appdata\\local\\programs\\python\\python38\\lib\\site-packages\\geopandas\\geodataframe.py:830: UserWarning: Geometry column does not contain geometry.\n",
      "  warnings.warn(\"Geometry column does not contain geometry.\")\n"
     ]
    },
    {
     "name": "stdout",
     "output_type": "stream",
     "text": [
      "creer_graph : donnees mise en forme, connexion ouverte ; 2020-12-10 16:15:41.996529\n",
      "creer_graph : donnees transferees dans la base postgis ; 2020-12-10 16:15:42.015338\n",
      "creer_graph : geometrie modifiee ; 2020-12-10 16:15:42.040230\n",
      "creer_graph : topologie cree ; 2020-12-10 16:15:42.130210\n",
      "creer_graph : graph cree ; 2020-12-10 16:15:42.182096\n"
     ]
    },
    {
     "name": "stderr",
     "output_type": "stream",
     "text": [
      "c:\\users\\marti\\appdata\\local\\programs\\python\\python38\\lib\\site-packages\\sqlalchemy\\dialects\\postgresql\\base.py:3130: SAWarning: Did not recognize type 'xml' of column 'metadata'\n",
      "  util.warn(\n",
      "c:\\users\\marti\\appdata\\local\\programs\\python\\python38\\lib\\site-packages\\sqlalchemy\\dialects\\postgresql\\base.py:3130: SAWarning: Did not recognize type 'xml' of column 'fileid'\n",
      "  util.warn(\n",
      "c:\\users\\marti\\appdata\\local\\programs\\python\\python38\\lib\\site-packages\\sqlalchemy\\dialects\\postgresql\\base.py:3130: SAWarning: Did not recognize type 'xml' of column 'parentid'\n",
      "  util.warn(\n"
     ]
    },
    {
     "name": "stdout",
     "output_type": "stream",
     "text": [
      "0 2020-12-10 16:15:42.715187 nb lignes traitees : 0\n",
      "LaRoch-r de la butte--1.1498;46.1912\n"
     ]
    },
    {
     "name": "stderr",
     "output_type": "stream",
     "text": [
      "c:\\users\\marti\\appdata\\local\\programs\\python\\python38\\lib\\site-packages\\geopandas\\geodataframe.py:830: UserWarning: Geometry column does not contain geometry.\n",
      "  warnings.warn(\"Geometry column does not contain geometry.\")\n"
     ]
    },
    {
     "name": "stdout",
     "output_type": "stream",
     "text": [
      "creer_graph : donnees mise en forme, connexion ouverte ; 2020-12-10 16:15:43.071205\n",
      "creer_graph : donnees transferees dans la base postgis ; 2020-12-10 16:15:43.087210\n",
      "creer_graph : geometrie modifiee ; 2020-12-10 16:15:43.101599\n",
      "creer_graph : topologie cree ; 2020-12-10 16:15:43.164141\n",
      "creer_graph : graph cree ; 2020-12-10 16:15:43.215032\n"
     ]
    },
    {
     "name": "stderr",
     "output_type": "stream",
     "text": [
      "c:\\users\\marti\\appdata\\local\\programs\\python\\python38\\lib\\site-packages\\sqlalchemy\\dialects\\postgresql\\base.py:3130: SAWarning: Did not recognize type 'xml' of column 'metadata'\n",
      "  util.warn(\n",
      "c:\\users\\marti\\appdata\\local\\programs\\python\\python38\\lib\\site-packages\\sqlalchemy\\dialects\\postgresql\\base.py:3130: SAWarning: Did not recognize type 'xml' of column 'fileid'\n",
      "  util.warn(\n",
      "c:\\users\\marti\\appdata\\local\\programs\\python\\python38\\lib\\site-packages\\sqlalchemy\\dialects\\postgresql\\base.py:3130: SAWarning: Did not recognize type 'xml' of column 'parentid'\n",
      "  util.warn(\n"
     ]
    },
    {
     "name": "stdout",
     "output_type": "stream",
     "text": [
      "0 2020-12-10 16:15:43.641976 nb lignes traitees : 0\n",
      "LaRoch-r alcide d orbigny--1.148;46.1641\n"
     ]
    },
    {
     "name": "stderr",
     "output_type": "stream",
     "text": [
      "c:\\users\\marti\\appdata\\local\\programs\\python\\python38\\lib\\site-packages\\geopandas\\geodataframe.py:830: UserWarning: Geometry column does not contain geometry.\n",
      "  warnings.warn(\"Geometry column does not contain geometry.\")\n"
     ]
    },
    {
     "name": "stdout",
     "output_type": "stream",
     "text": [
      "creer_graph : donnees mise en forme, connexion ouverte ; 2020-12-10 16:15:43.947351\n",
      "creer_graph : donnees transferees dans la base postgis ; 2020-12-10 16:15:43.963837\n",
      "creer_graph : geometrie modifiee ; 2020-12-10 16:15:43.978971\n",
      "creer_graph : topologie cree ; 2020-12-10 16:15:44.044848\n",
      "creer_graph : graph cree ; 2020-12-10 16:15:44.096731\n"
     ]
    },
    {
     "name": "stderr",
     "output_type": "stream",
     "text": [
      "c:\\users\\marti\\appdata\\local\\programs\\python\\python38\\lib\\site-packages\\sqlalchemy\\dialects\\postgresql\\base.py:3130: SAWarning: Did not recognize type 'xml' of column 'metadata'\n",
      "  util.warn(\n",
      "c:\\users\\marti\\appdata\\local\\programs\\python\\python38\\lib\\site-packages\\sqlalchemy\\dialects\\postgresql\\base.py:3130: SAWarning: Did not recognize type 'xml' of column 'fileid'\n",
      "  util.warn(\n",
      "c:\\users\\marti\\appdata\\local\\programs\\python\\python38\\lib\\site-packages\\sqlalchemy\\dialects\\postgresql\\base.py:3130: SAWarning: Did not recognize type 'xml' of column 'parentid'\n",
      "  util.warn(\n"
     ]
    },
    {
     "name": "stdout",
     "output_type": "stream",
     "text": [
      "0 2020-12-10 16:15:44.506620 nb lignes traitees : 0\n",
      "LaRoch-rue emile normandin--1.1413;46.1429\n"
     ]
    },
    {
     "name": "stderr",
     "output_type": "stream",
     "text": [
      "c:\\users\\marti\\appdata\\local\\programs\\python\\python38\\lib\\site-packages\\geopandas\\geodataframe.py:830: UserWarning: Geometry column does not contain geometry.\n",
      "  warnings.warn(\"Geometry column does not contain geometry.\")\n"
     ]
    },
    {
     "name": "stdout",
     "output_type": "stream",
     "text": [
      "creer_graph : donnees mise en forme, connexion ouverte ; 2020-12-10 16:15:44.785928\n",
      "creer_graph : donnees transferees dans la base postgis ; 2020-12-10 16:15:44.800544\n",
      "creer_graph : geometrie modifiee ; 2020-12-10 16:15:44.814428\n",
      "creer_graph : topologie cree ; 2020-12-10 16:15:44.877225\n",
      "creer_graph : graph cree ; 2020-12-10 16:15:44.928115\n"
     ]
    },
    {
     "name": "stderr",
     "output_type": "stream",
     "text": [
      "c:\\users\\marti\\appdata\\local\\programs\\python\\python38\\lib\\site-packages\\sqlalchemy\\dialects\\postgresql\\base.py:3130: SAWarning: Did not recognize type 'xml' of column 'metadata'\n",
      "  util.warn(\n",
      "c:\\users\\marti\\appdata\\local\\programs\\python\\python38\\lib\\site-packages\\sqlalchemy\\dialects\\postgresql\\base.py:3130: SAWarning: Did not recognize type 'xml' of column 'fileid'\n",
      "  util.warn(\n",
      "c:\\users\\marti\\appdata\\local\\programs\\python\\python38\\lib\\site-packages\\sqlalchemy\\dialects\\postgresql\\base.py:3130: SAWarning: Did not recognize type 'xml' of column 'parentid'\n",
      "  util.warn(\n"
     ]
    },
    {
     "name": "stdout",
     "output_type": "stream",
     "text": [
      "0 2020-12-10 16:15:45.351593 nb lignes traitees : 0\n",
      "pb sur id_comptag : LaRoch-rue emile normandin--1.1413;46.1429\n",
      "LaRoch-rue de fleurs--1.1055;46.1038\n"
     ]
    },
    {
     "name": "stderr",
     "output_type": "stream",
     "text": [
      "c:\\users\\marti\\appdata\\local\\programs\\python\\python38\\lib\\site-packages\\geopandas\\geodataframe.py:830: UserWarning: Geometry column does not contain geometry.\n",
      "  warnings.warn(\"Geometry column does not contain geometry.\")\n"
     ]
    },
    {
     "name": "stdout",
     "output_type": "stream",
     "text": [
      "creer_graph : donnees mise en forme, connexion ouverte ; 2020-12-10 16:15:45.595597\n",
      "creer_graph : donnees transferees dans la base postgis ; 2020-12-10 16:15:45.610099\n",
      "creer_graph : geometrie modifiee ; 2020-12-10 16:15:45.624064\n",
      "creer_graph : topologie cree ; 2020-12-10 16:15:45.681744\n",
      "creer_graph : graph cree ; 2020-12-10 16:15:45.732610\n"
     ]
    },
    {
     "name": "stderr",
     "output_type": "stream",
     "text": [
      "c:\\users\\marti\\appdata\\local\\programs\\python\\python38\\lib\\site-packages\\sqlalchemy\\dialects\\postgresql\\base.py:3130: SAWarning: Did not recognize type 'xml' of column 'metadata'\n",
      "  util.warn(\n",
      "c:\\users\\marti\\appdata\\local\\programs\\python\\python38\\lib\\site-packages\\sqlalchemy\\dialects\\postgresql\\base.py:3130: SAWarning: Did not recognize type 'xml' of column 'fileid'\n",
      "  util.warn(\n",
      "c:\\users\\marti\\appdata\\local\\programs\\python\\python38\\lib\\site-packages\\sqlalchemy\\dialects\\postgresql\\base.py:3130: SAWarning: Did not recognize type 'xml' of column 'parentid'\n",
      "  util.warn(\n"
     ]
    },
    {
     "name": "stdout",
     "output_type": "stream",
     "text": [
      "0 2020-12-10 16:15:46.145765 nb lignes traitees : 0\n",
      "LaRoch-r marcel deflandre--1.2128;46.1698\n"
     ]
    },
    {
     "name": "stderr",
     "output_type": "stream",
     "text": [
      "c:\\users\\marti\\appdata\\local\\programs\\python\\python38\\lib\\site-packages\\geopandas\\geodataframe.py:830: UserWarning: Geometry column does not contain geometry.\n",
      "  warnings.warn(\"Geometry column does not contain geometry.\")\n"
     ]
    },
    {
     "name": "stdout",
     "output_type": "stream",
     "text": [
      "creer_graph : donnees mise en forme, connexion ouverte ; 2020-12-10 16:15:46.436346\n",
      "creer_graph : donnees transferees dans la base postgis ; 2020-12-10 16:15:46.451646\n",
      "creer_graph : geometrie modifiee ; 2020-12-10 16:15:46.477467\n",
      "creer_graph : topologie cree ; 2020-12-10 16:15:46.546916\n",
      "creer_graph : graph cree ; 2020-12-10 16:15:46.596810\n"
     ]
    },
    {
     "name": "stderr",
     "output_type": "stream",
     "text": [
      "c:\\users\\marti\\appdata\\local\\programs\\python\\python38\\lib\\site-packages\\sqlalchemy\\dialects\\postgresql\\base.py:3130: SAWarning: Did not recognize type 'xml' of column 'metadata'\n",
      "  util.warn(\n",
      "c:\\users\\marti\\appdata\\local\\programs\\python\\python38\\lib\\site-packages\\sqlalchemy\\dialects\\postgresql\\base.py:3130: SAWarning: Did not recognize type 'xml' of column 'fileid'\n",
      "  util.warn(\n",
      "c:\\users\\marti\\appdata\\local\\programs\\python\\python38\\lib\\site-packages\\sqlalchemy\\dialects\\postgresql\\base.py:3130: SAWarning: Did not recognize type 'xml' of column 'parentid'\n",
      "  util.warn(\n"
     ]
    },
    {
     "name": "stdout",
     "output_type": "stream",
     "text": [
      "0 2020-12-10 16:15:47.083475 nb lignes traitees : 0\n",
      "LaRoch-r des greffieres--1.1491;46.1864\n"
     ]
    },
    {
     "name": "stderr",
     "output_type": "stream",
     "text": [
      "c:\\users\\marti\\appdata\\local\\programs\\python\\python38\\lib\\site-packages\\geopandas\\geodataframe.py:830: UserWarning: Geometry column does not contain geometry.\n",
      "  warnings.warn(\"Geometry column does not contain geometry.\")\n"
     ]
    },
    {
     "name": "stdout",
     "output_type": "stream",
     "text": [
      "creer_graph : donnees mise en forme, connexion ouverte ; 2020-12-10 16:15:47.383337\n",
      "creer_graph : donnees transferees dans la base postgis ; 2020-12-10 16:15:47.405173\n",
      "creer_graph : geometrie modifiee ; 2020-12-10 16:15:47.419119\n",
      "creer_graph : topologie cree ; 2020-12-10 16:15:47.476239\n",
      "creer_graph : graph cree ; 2020-12-10 16:15:47.528100\n"
     ]
    },
    {
     "name": "stderr",
     "output_type": "stream",
     "text": [
      "c:\\users\\marti\\appdata\\local\\programs\\python\\python38\\lib\\site-packages\\sqlalchemy\\dialects\\postgresql\\base.py:3130: SAWarning: Did not recognize type 'xml' of column 'metadata'\n",
      "  util.warn(\n",
      "c:\\users\\marti\\appdata\\local\\programs\\python\\python38\\lib\\site-packages\\sqlalchemy\\dialects\\postgresql\\base.py:3130: SAWarning: Did not recognize type 'xml' of column 'fileid'\n",
      "  util.warn(\n",
      "c:\\users\\marti\\appdata\\local\\programs\\python\\python38\\lib\\site-packages\\sqlalchemy\\dialects\\postgresql\\base.py:3130: SAWarning: Did not recognize type 'xml' of column 'parentid'\n",
      "  util.warn(\n"
     ]
    },
    {
     "name": "stdout",
     "output_type": "stream",
     "text": [
      "0 2020-12-10 16:15:47.938965 nb lignes traitees : 0\n",
      "LaRoch-chemin des remparts--1.1555;46.1645\n"
     ]
    },
    {
     "name": "stderr",
     "output_type": "stream",
     "text": [
      "c:\\users\\marti\\appdata\\local\\programs\\python\\python38\\lib\\site-packages\\geopandas\\geodataframe.py:830: UserWarning: Geometry column does not contain geometry.\n",
      "  warnings.warn(\"Geometry column does not contain geometry.\")\n"
     ]
    },
    {
     "name": "stdout",
     "output_type": "stream",
     "text": [
      "creer_graph : donnees mise en forme, connexion ouverte ; 2020-12-10 16:15:48.267865\n",
      "creer_graph : donnees transferees dans la base postgis ; 2020-12-10 16:15:48.291565\n",
      "creer_graph : geometrie modifiee ; 2020-12-10 16:15:48.308811\n",
      "creer_graph : topologie cree ; 2020-12-10 16:15:48.389445\n",
      "creer_graph : graph cree ; 2020-12-10 16:15:48.439311\n"
     ]
    },
    {
     "name": "stderr",
     "output_type": "stream",
     "text": [
      "c:\\users\\marti\\appdata\\local\\programs\\python\\python38\\lib\\site-packages\\sqlalchemy\\dialects\\postgresql\\base.py:3130: SAWarning: Did not recognize type 'xml' of column 'metadata'\n",
      "  util.warn(\n",
      "c:\\users\\marti\\appdata\\local\\programs\\python\\python38\\lib\\site-packages\\sqlalchemy\\dialects\\postgresql\\base.py:3130: SAWarning: Did not recognize type 'xml' of column 'fileid'\n",
      "  util.warn(\n",
      "c:\\users\\marti\\appdata\\local\\programs\\python\\python38\\lib\\site-packages\\sqlalchemy\\dialects\\postgresql\\base.py:3130: SAWarning: Did not recognize type 'xml' of column 'parentid'\n",
      "  util.warn(\n"
     ]
    },
    {
     "name": "stdout",
     "output_type": "stream",
     "text": [
      "0 2020-12-10 16:15:48.855980 nb lignes traitees : 0\n",
      "LaRoch-av de metz--1.1596;46.1659\n"
     ]
    },
    {
     "name": "stderr",
     "output_type": "stream",
     "text": [
      "c:\\users\\marti\\appdata\\local\\programs\\python\\python38\\lib\\site-packages\\geopandas\\geodataframe.py:830: UserWarning: Geometry column does not contain geometry.\n",
      "  warnings.warn(\"Geometry column does not contain geometry.\")\n"
     ]
    },
    {
     "name": "stdout",
     "output_type": "stream",
     "text": [
      "creer_graph : donnees mise en forme, connexion ouverte ; 2020-12-10 16:15:49.305314\n",
      "creer_graph : donnees transferees dans la base postgis ; 2020-12-10 16:15:49.356801\n",
      "creer_graph : geometrie modifiee ; 2020-12-10 16:15:49.378746\n",
      "creer_graph : topologie cree ; 2020-12-10 16:15:49.474870\n",
      "creer_graph : graph cree ; 2020-12-10 16:15:49.524737\n"
     ]
    },
    {
     "name": "stderr",
     "output_type": "stream",
     "text": [
      "c:\\users\\marti\\appdata\\local\\programs\\python\\python38\\lib\\site-packages\\sqlalchemy\\dialects\\postgresql\\base.py:3130: SAWarning: Did not recognize type 'xml' of column 'metadata'\n",
      "  util.warn(\n",
      "c:\\users\\marti\\appdata\\local\\programs\\python\\python38\\lib\\site-packages\\sqlalchemy\\dialects\\postgresql\\base.py:3130: SAWarning: Did not recognize type 'xml' of column 'fileid'\n",
      "  util.warn(\n",
      "c:\\users\\marti\\appdata\\local\\programs\\python\\python38\\lib\\site-packages\\sqlalchemy\\dialects\\postgresql\\base.py:3130: SAWarning: Did not recognize type 'xml' of column 'parentid'\n",
      "  util.warn(\n"
     ]
    },
    {
     "name": "stdout",
     "output_type": "stream",
     "text": [
      "0 2020-12-10 16:15:49.951898 nb lignes traitees : 0\n",
      "LaRoch-av roger salengro--1.1349;46.1403\n"
     ]
    },
    {
     "name": "stderr",
     "output_type": "stream",
     "text": [
      "c:\\users\\marti\\appdata\\local\\programs\\python\\python38\\lib\\site-packages\\geopandas\\geodataframe.py:830: UserWarning: Geometry column does not contain geometry.\n",
      "  warnings.warn(\"Geometry column does not contain geometry.\")\n"
     ]
    },
    {
     "name": "stdout",
     "output_type": "stream",
     "text": [
      "creer_graph : donnees mise en forme, connexion ouverte ; 2020-12-10 16:15:50.251585\n",
      "creer_graph : donnees transferees dans la base postgis ; 2020-12-10 16:15:50.267340\n",
      "creer_graph : geometrie modifiee ; 2020-12-10 16:15:50.281350\n",
      "creer_graph : topologie cree ; 2020-12-10 16:15:50.354454\n",
      "creer_graph : graph cree ; 2020-12-10 16:15:50.404348\n"
     ]
    },
    {
     "name": "stderr",
     "output_type": "stream",
     "text": [
      "c:\\users\\marti\\appdata\\local\\programs\\python\\python38\\lib\\site-packages\\sqlalchemy\\dialects\\postgresql\\base.py:3130: SAWarning: Did not recognize type 'xml' of column 'metadata'\n",
      "  util.warn(\n",
      "c:\\users\\marti\\appdata\\local\\programs\\python\\python38\\lib\\site-packages\\sqlalchemy\\dialects\\postgresql\\base.py:3130: SAWarning: Did not recognize type 'xml' of column 'fileid'\n",
      "  util.warn(\n",
      "c:\\users\\marti\\appdata\\local\\programs\\python\\python38\\lib\\site-packages\\sqlalchemy\\dialects\\postgresql\\base.py:3130: SAWarning: Did not recognize type 'xml' of column 'parentid'\n",
      "  util.warn(\n"
     ]
    },
    {
     "name": "stdout",
     "output_type": "stream",
     "text": [
      "0 2020-12-10 16:15:50.823876 nb lignes traitees : 0\n",
      "LaRoch-r montcalm--1.2133;46.1672\n"
     ]
    },
    {
     "name": "stderr",
     "output_type": "stream",
     "text": [
      "c:\\users\\marti\\appdata\\local\\programs\\python\\python38\\lib\\site-packages\\geopandas\\geodataframe.py:830: UserWarning: Geometry column does not contain geometry.\n",
      "  warnings.warn(\"Geometry column does not contain geometry.\")\n"
     ]
    },
    {
     "name": "stdout",
     "output_type": "stream",
     "text": [
      "creer_graph : donnees mise en forme, connexion ouverte ; 2020-12-10 16:15:51.099215\n",
      "creer_graph : donnees transferees dans la base postgis ; 2020-12-10 16:15:51.116399\n",
      "creer_graph : geometrie modifiee ; 2020-12-10 16:15:51.141497\n",
      "creer_graph : topologie cree ; 2020-12-10 16:15:51.230783\n",
      "creer_graph : graph cree ; 2020-12-10 16:15:51.280650\n"
     ]
    },
    {
     "name": "stderr",
     "output_type": "stream",
     "text": [
      "c:\\users\\marti\\appdata\\local\\programs\\python\\python38\\lib\\site-packages\\sqlalchemy\\dialects\\postgresql\\base.py:3130: SAWarning: Did not recognize type 'xml' of column 'metadata'\n",
      "  util.warn(\n",
      "c:\\users\\marti\\appdata\\local\\programs\\python\\python38\\lib\\site-packages\\sqlalchemy\\dialects\\postgresql\\base.py:3130: SAWarning: Did not recognize type 'xml' of column 'fileid'\n",
      "  util.warn(\n",
      "c:\\users\\marti\\appdata\\local\\programs\\python\\python38\\lib\\site-packages\\sqlalchemy\\dialects\\postgresql\\base.py:3130: SAWarning: Did not recognize type 'xml' of column 'parentid'\n",
      "  util.warn(\n"
     ]
    },
    {
     "name": "stdout",
     "output_type": "stream",
     "text": [
      "0 2020-12-10 16:15:51.700315 nb lignes traitees : 0\n",
      "LaRoch-imp eugene freyssinet--1.1427;46.1902\n"
     ]
    },
    {
     "name": "stderr",
     "output_type": "stream",
     "text": [
      "c:\\users\\marti\\appdata\\local\\programs\\python\\python38\\lib\\site-packages\\geopandas\\geodataframe.py:830: UserWarning: Geometry column does not contain geometry.\n",
      "  warnings.warn(\"Geometry column does not contain geometry.\")\n"
     ]
    },
    {
     "name": "stdout",
     "output_type": "stream",
     "text": [
      "creer_graph : donnees mise en forme, connexion ouverte ; 2020-12-10 16:15:52.041171\n",
      "creer_graph : donnees transferees dans la base postgis ; 2020-12-10 16:15:52.056046\n",
      "creer_graph : geometrie modifiee ; 2020-12-10 16:15:52.069857\n",
      "creer_graph : topologie cree ; 2020-12-10 16:15:52.129219\n",
      "creer_graph : graph cree ; 2020-12-10 16:15:52.178398\n"
     ]
    },
    {
     "name": "stderr",
     "output_type": "stream",
     "text": [
      "c:\\users\\marti\\appdata\\local\\programs\\python\\python38\\lib\\site-packages\\sqlalchemy\\dialects\\postgresql\\base.py:3130: SAWarning: Did not recognize type 'xml' of column 'metadata'\n",
      "  util.warn(\n",
      "c:\\users\\marti\\appdata\\local\\programs\\python\\python38\\lib\\site-packages\\sqlalchemy\\dialects\\postgresql\\base.py:3130: SAWarning: Did not recognize type 'xml' of column 'fileid'\n",
      "  util.warn(\n",
      "c:\\users\\marti\\appdata\\local\\programs\\python\\python38\\lib\\site-packages\\sqlalchemy\\dialects\\postgresql\\base.py:3130: SAWarning: Did not recognize type 'xml' of column 'parentid'\n",
      "  util.warn(\n"
     ]
    },
    {
     "name": "stdout",
     "output_type": "stream",
     "text": [
      "0 2020-12-10 16:15:52.629464 nb lignes traitees : 0\n",
      "LaRoch-r newton--1.095;46.1305\n"
     ]
    },
    {
     "name": "stderr",
     "output_type": "stream",
     "text": [
      "c:\\users\\marti\\appdata\\local\\programs\\python\\python38\\lib\\site-packages\\geopandas\\geodataframe.py:830: UserWarning: Geometry column does not contain geometry.\n",
      "  warnings.warn(\"Geometry column does not contain geometry.\")\n"
     ]
    },
    {
     "name": "stdout",
     "output_type": "stream",
     "text": [
      "creer_graph : donnees mise en forme, connexion ouverte ; 2020-12-10 16:15:52.919782\n",
      "creer_graph : donnees transferees dans la base postgis ; 2020-12-10 16:15:52.943387\n",
      "creer_graph : geometrie modifiee ; 2020-12-10 16:15:52.958925\n",
      "creer_graph : topologie cree ; 2020-12-10 16:15:53.023886\n",
      "creer_graph : graph cree ; 2020-12-10 16:15:53.073760\n"
     ]
    },
    {
     "name": "stderr",
     "output_type": "stream",
     "text": [
      "c:\\users\\marti\\appdata\\local\\programs\\python\\python38\\lib\\site-packages\\sqlalchemy\\dialects\\postgresql\\base.py:3130: SAWarning: Did not recognize type 'xml' of column 'metadata'\n",
      "  util.warn(\n",
      "c:\\users\\marti\\appdata\\local\\programs\\python\\python38\\lib\\site-packages\\sqlalchemy\\dialects\\postgresql\\base.py:3130: SAWarning: Did not recognize type 'xml' of column 'fileid'\n",
      "  util.warn(\n",
      "c:\\users\\marti\\appdata\\local\\programs\\python\\python38\\lib\\site-packages\\sqlalchemy\\dialects\\postgresql\\base.py:3130: SAWarning: Did not recognize type 'xml' of column 'parentid'\n",
      "  util.warn(\n"
     ]
    },
    {
     "name": "stdout",
     "output_type": "stream",
     "text": [
      "0 2020-12-10 16:15:53.597577 nb lignes traitees : 0\n",
      "LaRoch-av de fetilly--1.1528;46.1709\n"
     ]
    },
    {
     "name": "stderr",
     "output_type": "stream",
     "text": [
      "c:\\users\\marti\\appdata\\local\\programs\\python\\python38\\lib\\site-packages\\geopandas\\geodataframe.py:830: UserWarning: Geometry column does not contain geometry.\n",
      "  warnings.warn(\"Geometry column does not contain geometry.\")\n"
     ]
    },
    {
     "name": "stdout",
     "output_type": "stream",
     "text": [
      "creer_graph : donnees mise en forme, connexion ouverte ; 2020-12-10 16:15:53.927411\n",
      "creer_graph : donnees transferees dans la base postgis ; 2020-12-10 16:15:53.946269\n",
      "creer_graph : geometrie modifiee ; 2020-12-10 16:15:53.961683\n",
      "creer_graph : topologie cree ; 2020-12-10 16:15:54.039374\n",
      "creer_graph : graph cree ; 2020-12-10 16:15:54.092241\n"
     ]
    },
    {
     "name": "stderr",
     "output_type": "stream",
     "text": [
      "c:\\users\\marti\\appdata\\local\\programs\\python\\python38\\lib\\site-packages\\sqlalchemy\\dialects\\postgresql\\base.py:3130: SAWarning: Did not recognize type 'xml' of column 'metadata'\n",
      "  util.warn(\n",
      "c:\\users\\marti\\appdata\\local\\programs\\python\\python38\\lib\\site-packages\\sqlalchemy\\dialects\\postgresql\\base.py:3130: SAWarning: Did not recognize type 'xml' of column 'fileid'\n",
      "  util.warn(\n",
      "c:\\users\\marti\\appdata\\local\\programs\\python\\python38\\lib\\site-packages\\sqlalchemy\\dialects\\postgresql\\base.py:3130: SAWarning: Did not recognize type 'xml' of column 'parentid'\n",
      "  util.warn(\n"
     ]
    },
    {
     "name": "stdout",
     "output_type": "stream",
     "text": [
      "0 2020-12-10 16:15:54.521953 nb lignes traitees : 0\n",
      "LaRoch-r blaise pascal--1.1054;46.1591\n"
     ]
    },
    {
     "name": "stderr",
     "output_type": "stream",
     "text": [
      "c:\\users\\marti\\appdata\\local\\programs\\python\\python38\\lib\\site-packages\\geopandas\\geodataframe.py:830: UserWarning: Geometry column does not contain geometry.\n",
      "  warnings.warn(\"Geometry column does not contain geometry.\")\n"
     ]
    },
    {
     "name": "stdout",
     "output_type": "stream",
     "text": [
      "creer_graph : donnees mise en forme, connexion ouverte ; 2020-12-10 16:15:54.820118\n",
      "creer_graph : donnees transferees dans la base postgis ; 2020-12-10 16:15:54.836073\n",
      "creer_graph : geometrie modifiee ; 2020-12-10 16:15:54.851349\n",
      "creer_graph : topologie cree ; 2020-12-10 16:15:54.910486\n",
      "creer_graph : graph cree ; 2020-12-10 16:15:54.961352\n"
     ]
    },
    {
     "name": "stderr",
     "output_type": "stream",
     "text": [
      "c:\\users\\marti\\appdata\\local\\programs\\python\\python38\\lib\\site-packages\\sqlalchemy\\dialects\\postgresql\\base.py:3130: SAWarning: Did not recognize type 'xml' of column 'metadata'\n",
      "  util.warn(\n",
      "c:\\users\\marti\\appdata\\local\\programs\\python\\python38\\lib\\site-packages\\sqlalchemy\\dialects\\postgresql\\base.py:3130: SAWarning: Did not recognize type 'xml' of column 'fileid'\n",
      "  util.warn(\n",
      "c:\\users\\marti\\appdata\\local\\programs\\python\\python38\\lib\\site-packages\\sqlalchemy\\dialects\\postgresql\\base.py:3130: SAWarning: Did not recognize type 'xml' of column 'parentid'\n",
      "  util.warn(\n"
     ]
    },
    {
     "name": "stdout",
     "output_type": "stream",
     "text": [
      "0 2020-12-10 16:15:55.388997 nb lignes traitees : 0\n",
      "LaRoch-r jacques de vaucasson--1.1057;46.1639\n",
      "pas de lignes disponibles pour le troncon LaRoch-r jacques de vaucasson--1.1057;46.1639\n",
      "LaRoch-r reaumur--1.1561;46.1594\n"
     ]
    },
    {
     "name": "stderr",
     "output_type": "stream",
     "text": [
      "c:\\users\\marti\\appdata\\local\\programs\\python\\python38\\lib\\site-packages\\geopandas\\geodataframe.py:830: UserWarning: Geometry column does not contain geometry.\n",
      "  warnings.warn(\"Geometry column does not contain geometry.\")\n"
     ]
    },
    {
     "name": "stdout",
     "output_type": "stream",
     "text": [
      "creer_graph : donnees mise en forme, connexion ouverte ; 2020-12-10 16:15:55.687986\n",
      "creer_graph : donnees transferees dans la base postgis ; 2020-12-10 16:15:55.703299\n",
      "creer_graph : geometrie modifiee ; 2020-12-10 16:15:55.719253\n",
      "creer_graph : topologie cree ; 2020-12-10 16:15:55.779988\n",
      "creer_graph : graph cree ; 2020-12-10 16:15:55.829882\n"
     ]
    },
    {
     "name": "stderr",
     "output_type": "stream",
     "text": [
      "c:\\users\\marti\\appdata\\local\\programs\\python\\python38\\lib\\site-packages\\sqlalchemy\\dialects\\postgresql\\base.py:3130: SAWarning: Did not recognize type 'xml' of column 'metadata'\n",
      "  util.warn(\n",
      "c:\\users\\marti\\appdata\\local\\programs\\python\\python38\\lib\\site-packages\\sqlalchemy\\dialects\\postgresql\\base.py:3130: SAWarning: Did not recognize type 'xml' of column 'fileid'\n",
      "  util.warn(\n",
      "c:\\users\\marti\\appdata\\local\\programs\\python\\python38\\lib\\site-packages\\sqlalchemy\\dialects\\postgresql\\base.py:3130: SAWarning: Did not recognize type 'xml' of column 'parentid'\n",
      "  util.warn(\n"
     ]
    },
    {
     "name": "stdout",
     "output_type": "stream",
     "text": [
      "0 2020-12-10 16:15:56.249207 nb lignes traitees : 0\n",
      "LaRoch-bd andre sautel--1.1253;46.1705\n"
     ]
    },
    {
     "name": "stderr",
     "output_type": "stream",
     "text": [
      "c:\\users\\marti\\appdata\\local\\programs\\python\\python38\\lib\\site-packages\\geopandas\\geodataframe.py:830: UserWarning: Geometry column does not contain geometry.\n",
      "  warnings.warn(\"Geometry column does not contain geometry.\")\n"
     ]
    },
    {
     "name": "stdout",
     "output_type": "stream",
     "text": [
      "creer_graph : donnees mise en forme, connexion ouverte ; 2020-12-10 16:15:56.510650\n",
      "creer_graph : donnees transferees dans la base postgis ; 2020-12-10 16:15:56.529385\n",
      "creer_graph : geometrie modifiee ; 2020-12-10 16:15:56.543748\n",
      "creer_graph : topologie cree ; 2020-12-10 16:15:56.619962\n",
      "creer_graph : graph cree ; 2020-12-10 16:15:56.671817\n"
     ]
    },
    {
     "name": "stderr",
     "output_type": "stream",
     "text": [
      "c:\\users\\marti\\appdata\\local\\programs\\python\\python38\\lib\\site-packages\\sqlalchemy\\dialects\\postgresql\\base.py:3130: SAWarning: Did not recognize type 'xml' of column 'metadata'\n",
      "  util.warn(\n",
      "c:\\users\\marti\\appdata\\local\\programs\\python\\python38\\lib\\site-packages\\sqlalchemy\\dialects\\postgresql\\base.py:3130: SAWarning: Did not recognize type 'xml' of column 'fileid'\n",
      "  util.warn(\n",
      "c:\\users\\marti\\appdata\\local\\programs\\python\\python38\\lib\\site-packages\\sqlalchemy\\dialects\\postgresql\\base.py:3130: SAWarning: Did not recognize type 'xml' of column 'parentid'\n",
      "  util.warn(\n"
     ]
    },
    {
     "name": "stdout",
     "output_type": "stream",
     "text": [
      "0 2020-12-10 16:15:57.155866 nb lignes traitees : 0\n",
      "LaRoch-r saint louis--1.1456;46.1613\n"
     ]
    },
    {
     "name": "stderr",
     "output_type": "stream",
     "text": [
      "c:\\users\\marti\\appdata\\local\\programs\\python\\python38\\lib\\site-packages\\geopandas\\geodataframe.py:830: UserWarning: Geometry column does not contain geometry.\n",
      "  warnings.warn(\"Geometry column does not contain geometry.\")\n"
     ]
    },
    {
     "name": "stdout",
     "output_type": "stream",
     "text": [
      "creer_graph : donnees mise en forme, connexion ouverte ; 2020-12-10 16:15:57.498461\n",
      "creer_graph : donnees transferees dans la base postgis ; 2020-12-10 16:15:57.523724\n",
      "creer_graph : geometrie modifiee ; 2020-12-10 16:15:57.539612\n",
      "creer_graph : topologie cree ; 2020-12-10 16:15:57.606188\n",
      "creer_graph : graph cree ; 2020-12-10 16:15:57.656082\n"
     ]
    },
    {
     "name": "stderr",
     "output_type": "stream",
     "text": [
      "c:\\users\\marti\\appdata\\local\\programs\\python\\python38\\lib\\site-packages\\sqlalchemy\\dialects\\postgresql\\base.py:3130: SAWarning: Did not recognize type 'xml' of column 'metadata'\n",
      "  util.warn(\n",
      "c:\\users\\marti\\appdata\\local\\programs\\python\\python38\\lib\\site-packages\\sqlalchemy\\dialects\\postgresql\\base.py:3130: SAWarning: Did not recognize type 'xml' of column 'fileid'\n",
      "  util.warn(\n",
      "c:\\users\\marti\\appdata\\local\\programs\\python\\python38\\lib\\site-packages\\sqlalchemy\\dialects\\postgresql\\base.py:3130: SAWarning: Did not recognize type 'xml' of column 'parentid'\n",
      "  util.warn(\n"
     ]
    },
    {
     "name": "stdout",
     "output_type": "stream",
     "text": [
      "0 2020-12-10 16:15:58.082426 nb lignes traitees : 0\n",
      "0 2020-12-10 16:15:58.088410 nb lignes traitees : 0\n",
      "LaRoch-r leonce vieljeux--1.156;46.158\n"
     ]
    },
    {
     "name": "stderr",
     "output_type": "stream",
     "text": [
      "c:\\users\\marti\\appdata\\local\\programs\\python\\python38\\lib\\site-packages\\geopandas\\geodataframe.py:830: UserWarning: Geometry column does not contain geometry.\n",
      "  warnings.warn(\"Geometry column does not contain geometry.\")\n"
     ]
    },
    {
     "name": "stdout",
     "output_type": "stream",
     "text": [
      "creer_graph : donnees mise en forme, connexion ouverte ; 2020-12-10 16:15:58.375811\n",
      "creer_graph : donnees transferees dans la base postgis ; 2020-12-10 16:15:58.390873\n",
      "creer_graph : geometrie modifiee ; 2020-12-10 16:15:58.405169\n",
      "creer_graph : topologie cree ; 2020-12-10 16:15:58.463406\n",
      "creer_graph : graph cree ; 2020-12-10 16:15:58.513271\n"
     ]
    },
    {
     "name": "stderr",
     "output_type": "stream",
     "text": [
      "c:\\users\\marti\\appdata\\local\\programs\\python\\python38\\lib\\site-packages\\sqlalchemy\\dialects\\postgresql\\base.py:3130: SAWarning: Did not recognize type 'xml' of column 'metadata'\n",
      "  util.warn(\n",
      "c:\\users\\marti\\appdata\\local\\programs\\python\\python38\\lib\\site-packages\\sqlalchemy\\dialects\\postgresql\\base.py:3130: SAWarning: Did not recognize type 'xml' of column 'fileid'\n",
      "  util.warn(\n",
      "c:\\users\\marti\\appdata\\local\\programs\\python\\python38\\lib\\site-packages\\sqlalchemy\\dialects\\postgresql\\base.py:3130: SAWarning: Did not recognize type 'xml' of column 'parentid'\n",
      "  util.warn(\n"
     ]
    },
    {
     "name": "stdout",
     "output_type": "stream",
     "text": [
      "0 2020-12-10 16:15:58.939174 nb lignes traitees : 0\n",
      "LaRoch-r gambetta--1.1471;46.1618\n"
     ]
    },
    {
     "name": "stderr",
     "output_type": "stream",
     "text": [
      "c:\\users\\marti\\appdata\\local\\programs\\python\\python38\\lib\\site-packages\\geopandas\\geodataframe.py:830: UserWarning: Geometry column does not contain geometry.\n",
      "  warnings.warn(\"Geometry column does not contain geometry.\")\n"
     ]
    },
    {
     "name": "stdout",
     "output_type": "stream",
     "text": [
      "creer_graph : donnees mise en forme, connexion ouverte ; 2020-12-10 16:15:59.223732\n",
      "creer_graph : donnees transferees dans la base postgis ; 2020-12-10 16:15:59.240805\n",
      "creer_graph : geometrie modifiee ; 2020-12-10 16:15:59.255635\n",
      "creer_graph : topologie cree ; 2020-12-10 16:15:59.323019\n",
      "creer_graph : graph cree ; 2020-12-10 16:15:59.373904\n"
     ]
    },
    {
     "name": "stderr",
     "output_type": "stream",
     "text": [
      "c:\\users\\marti\\appdata\\local\\programs\\python\\python38\\lib\\site-packages\\sqlalchemy\\dialects\\postgresql\\base.py:3130: SAWarning: Did not recognize type 'xml' of column 'metadata'\n",
      "  util.warn(\n",
      "c:\\users\\marti\\appdata\\local\\programs\\python\\python38\\lib\\site-packages\\sqlalchemy\\dialects\\postgresql\\base.py:3130: SAWarning: Did not recognize type 'xml' of column 'fileid'\n",
      "  util.warn(\n",
      "c:\\users\\marti\\appdata\\local\\programs\\python\\python38\\lib\\site-packages\\sqlalchemy\\dialects\\postgresql\\base.py:3130: SAWarning: Did not recognize type 'xml' of column 'parentid'\n",
      "  util.warn(\n"
     ]
    },
    {
     "name": "stdout",
     "output_type": "stream",
     "text": [
      "0 2020-12-10 16:15:59.795211 nb lignes traitees : 0\n",
      "0 2020-12-10 16:15:59.826121 nb lignes traitees : 0\n",
      "LaRoch-av jean paul sartre--1.116;46.1535\n"
     ]
    },
    {
     "name": "stderr",
     "output_type": "stream",
     "text": [
      "c:\\users\\marti\\appdata\\local\\programs\\python\\python38\\lib\\site-packages\\geopandas\\geodataframe.py:830: UserWarning: Geometry column does not contain geometry.\n",
      "  warnings.warn(\"Geometry column does not contain geometry.\")\n"
     ]
    },
    {
     "name": "stdout",
     "output_type": "stream",
     "text": [
      "creer_graph : donnees mise en forme, connexion ouverte ; 2020-12-10 16:16:00.138444\n",
      "creer_graph : donnees transferees dans la base postgis ; 2020-12-10 16:16:00.171359\n",
      "creer_graph : geometrie modifiee ; 2020-12-10 16:16:00.186900\n",
      "creer_graph : topologie cree ; 2020-12-10 16:16:00.282862\n",
      "creer_graph : graph cree ; 2020-12-10 16:16:00.333753\n"
     ]
    },
    {
     "name": "stderr",
     "output_type": "stream",
     "text": [
      "c:\\users\\marti\\appdata\\local\\programs\\python\\python38\\lib\\site-packages\\sqlalchemy\\dialects\\postgresql\\base.py:3130: SAWarning: Did not recognize type 'xml' of column 'metadata'\n",
      "  util.warn(\n",
      "c:\\users\\marti\\appdata\\local\\programs\\python\\python38\\lib\\site-packages\\sqlalchemy\\dialects\\postgresql\\base.py:3130: SAWarning: Did not recognize type 'xml' of column 'fileid'\n",
      "  util.warn(\n",
      "c:\\users\\marti\\appdata\\local\\programs\\python\\python38\\lib\\site-packages\\sqlalchemy\\dialects\\postgresql\\base.py:3130: SAWarning: Did not recognize type 'xml' of column 'parentid'\n",
      "  util.warn(\n"
     ]
    },
    {
     "name": "stdout",
     "output_type": "stream",
     "text": [
      "0 2020-12-10 16:16:00.770170 nb lignes traitees : 0\n",
      "LaRoch-av du fief des jarries--1.1562;46.193\n"
     ]
    },
    {
     "name": "stderr",
     "output_type": "stream",
     "text": [
      "c:\\users\\marti\\appdata\\local\\programs\\python\\python38\\lib\\site-packages\\geopandas\\geodataframe.py:830: UserWarning: Geometry column does not contain geometry.\n",
      "  warnings.warn(\"Geometry column does not contain geometry.\")\n"
     ]
    },
    {
     "name": "stdout",
     "output_type": "stream",
     "text": [
      "creer_graph : donnees mise en forme, connexion ouverte ; 2020-12-10 16:16:01.087911\n",
      "creer_graph : donnees transferees dans la base postgis ; 2020-12-10 16:16:01.102861\n",
      "creer_graph : geometrie modifiee ; 2020-12-10 16:16:01.117860\n",
      "creer_graph : topologie cree ; 2020-12-10 16:16:01.182596\n",
      "creer_graph : graph cree ; 2020-12-10 16:16:01.233485\n"
     ]
    },
    {
     "name": "stderr",
     "output_type": "stream",
     "text": [
      "c:\\users\\marti\\appdata\\local\\programs\\python\\python38\\lib\\site-packages\\sqlalchemy\\dialects\\postgresql\\base.py:3130: SAWarning: Did not recognize type 'xml' of column 'metadata'\n",
      "  util.warn(\n",
      "c:\\users\\marti\\appdata\\local\\programs\\python\\python38\\lib\\site-packages\\sqlalchemy\\dialects\\postgresql\\base.py:3130: SAWarning: Did not recognize type 'xml' of column 'fileid'\n",
      "  util.warn(\n",
      "c:\\users\\marti\\appdata\\local\\programs\\python\\python38\\lib\\site-packages\\sqlalchemy\\dialects\\postgresql\\base.py:3130: SAWarning: Did not recognize type 'xml' of column 'parentid'\n",
      "  util.warn(\n"
     ]
    },
    {
     "name": "stdout",
     "output_type": "stream",
     "text": [
      "0 2020-12-10 16:16:01.655298 nb lignes traitees : 0\n",
      "LaRoch-bd republique--1.155;46.1392\n"
     ]
    },
    {
     "name": "stderr",
     "output_type": "stream",
     "text": [
      "c:\\users\\marti\\appdata\\local\\programs\\python\\python38\\lib\\site-packages\\geopandas\\geodataframe.py:830: UserWarning: Geometry column does not contain geometry.\n",
      "  warnings.warn(\"Geometry column does not contain geometry.\")\n"
     ]
    },
    {
     "name": "stdout",
     "output_type": "stream",
     "text": [
      "creer_graph : donnees mise en forme, connexion ouverte ; 2020-12-10 16:16:01.966807\n",
      "creer_graph : donnees transferees dans la base postgis ; 2020-12-10 16:16:01.988296\n",
      "creer_graph : geometrie modifiee ; 2020-12-10 16:16:02.003925\n",
      "creer_graph : topologie cree ; 2020-12-10 16:16:02.089434\n",
      "creer_graph : graph cree ; 2020-12-10 16:16:02.142315\n"
     ]
    },
    {
     "name": "stderr",
     "output_type": "stream",
     "text": [
      "c:\\users\\marti\\appdata\\local\\programs\\python\\python38\\lib\\site-packages\\sqlalchemy\\dialects\\postgresql\\base.py:3130: SAWarning: Did not recognize type 'xml' of column 'metadata'\n",
      "  util.warn(\n",
      "c:\\users\\marti\\appdata\\local\\programs\\python\\python38\\lib\\site-packages\\sqlalchemy\\dialects\\postgresql\\base.py:3130: SAWarning: Did not recognize type 'xml' of column 'fileid'\n",
      "  util.warn(\n",
      "c:\\users\\marti\\appdata\\local\\programs\\python\\python38\\lib\\site-packages\\sqlalchemy\\dialects\\postgresql\\base.py:3130: SAWarning: Did not recognize type 'xml' of column 'parentid'\n",
      "  util.warn(\n"
     ]
    },
    {
     "name": "stdout",
     "output_type": "stream",
     "text": [
      "0 2020-12-10 16:16:02.674125 nb lignes traitees : 0\n",
      "LaRoch-r du minage--1.1515;46.163\n"
     ]
    },
    {
     "name": "stderr",
     "output_type": "stream",
     "text": [
      "c:\\users\\marti\\appdata\\local\\programs\\python\\python38\\lib\\site-packages\\geopandas\\geodataframe.py:830: UserWarning: Geometry column does not contain geometry.\n",
      "  warnings.warn(\"Geometry column does not contain geometry.\")\n"
     ]
    },
    {
     "name": "stdout",
     "output_type": "stream",
     "text": [
      "creer_graph : donnees mise en forme, connexion ouverte ; 2020-12-10 16:16:03.029072\n",
      "creer_graph : donnees transferees dans la base postgis ; 2020-12-10 16:16:03.044058\n",
      "creer_graph : geometrie modifiee ; 2020-12-10 16:16:03.058172\n",
      "creer_graph : topologie cree ; 2020-12-10 16:16:03.117014\n",
      "creer_graph : graph cree ; 2020-12-10 16:16:03.167878\n"
     ]
    },
    {
     "name": "stderr",
     "output_type": "stream",
     "text": [
      "c:\\users\\marti\\appdata\\local\\programs\\python\\python38\\lib\\site-packages\\sqlalchemy\\dialects\\postgresql\\base.py:3130: SAWarning: Did not recognize type 'xml' of column 'metadata'\n",
      "  util.warn(\n",
      "c:\\users\\marti\\appdata\\local\\programs\\python\\python38\\lib\\site-packages\\sqlalchemy\\dialects\\postgresql\\base.py:3130: SAWarning: Did not recognize type 'xml' of column 'fileid'\n",
      "  util.warn(\n",
      "c:\\users\\marti\\appdata\\local\\programs\\python\\python38\\lib\\site-packages\\sqlalchemy\\dialects\\postgresql\\base.py:3130: SAWarning: Did not recognize type 'xml' of column 'parentid'\n",
      "  util.warn(\n"
     ]
    },
    {
     "name": "stdout",
     "output_type": "stream",
     "text": [
      "0 2020-12-10 16:16:03.587870 nb lignes traitees : 0\n",
      "LaRoch-r chef de ville--1.1556;46.1585\n"
     ]
    },
    {
     "name": "stderr",
     "output_type": "stream",
     "text": [
      "c:\\users\\marti\\appdata\\local\\programs\\python\\python38\\lib\\site-packages\\geopandas\\geodataframe.py:830: UserWarning: Geometry column does not contain geometry.\n",
      "  warnings.warn(\"Geometry column does not contain geometry.\")\n"
     ]
    },
    {
     "name": "stdout",
     "output_type": "stream",
     "text": [
      "creer_graph : donnees mise en forme, connexion ouverte ; 2020-12-10 16:16:03.867463\n",
      "creer_graph : donnees transferees dans la base postgis ; 2020-12-10 16:16:03.893702\n",
      "creer_graph : geometrie modifiee ; 2020-12-10 16:16:03.909802\n",
      "creer_graph : topologie cree ; 2020-12-10 16:16:03.969161\n",
      "creer_graph : graph cree ; 2020-12-10 16:16:04.020052\n"
     ]
    },
    {
     "name": "stderr",
     "output_type": "stream",
     "text": [
      "c:\\users\\marti\\appdata\\local\\programs\\python\\python38\\lib\\site-packages\\sqlalchemy\\dialects\\postgresql\\base.py:3130: SAWarning: Did not recognize type 'xml' of column 'metadata'\n",
      "  util.warn(\n",
      "c:\\users\\marti\\appdata\\local\\programs\\python\\python38\\lib\\site-packages\\sqlalchemy\\dialects\\postgresql\\base.py:3130: SAWarning: Did not recognize type 'xml' of column 'fileid'\n",
      "  util.warn(\n",
      "c:\\users\\marti\\appdata\\local\\programs\\python\\python38\\lib\\site-packages\\sqlalchemy\\dialects\\postgresql\\base.py:3130: SAWarning: Did not recognize type 'xml' of column 'parentid'\n",
      "  util.warn(\n"
     ]
    },
    {
     "name": "stdout",
     "output_type": "stream",
     "text": [
      "0 2020-12-10 16:16:04.439323 nb lignes traitees : 0\n",
      "LaRoch-av du 11 novembre--1.1504;46.1726\n"
     ]
    },
    {
     "name": "stderr",
     "output_type": "stream",
     "text": [
      "c:\\users\\marti\\appdata\\local\\programs\\python\\python38\\lib\\site-packages\\geopandas\\geodataframe.py:830: UserWarning: Geometry column does not contain geometry.\n",
      "  warnings.warn(\"Geometry column does not contain geometry.\")\n"
     ]
    },
    {
     "name": "stdout",
     "output_type": "stream",
     "text": [
      "creer_graph : donnees mise en forme, connexion ouverte ; 2020-12-10 16:16:04.732862\n",
      "creer_graph : donnees transferees dans la base postgis ; 2020-12-10 16:16:04.748456\n",
      "creer_graph : geometrie modifiee ; 2020-12-10 16:16:04.763767\n",
      "creer_graph : topologie cree ; 2020-12-10 16:16:04.830000\n",
      "creer_graph : graph cree ; 2020-12-10 16:16:04.879868\n"
     ]
    },
    {
     "name": "stderr",
     "output_type": "stream",
     "text": [
      "c:\\users\\marti\\appdata\\local\\programs\\python\\python38\\lib\\site-packages\\sqlalchemy\\dialects\\postgresql\\base.py:3130: SAWarning: Did not recognize type 'xml' of column 'metadata'\n",
      "  util.warn(\n",
      "c:\\users\\marti\\appdata\\local\\programs\\python\\python38\\lib\\site-packages\\sqlalchemy\\dialects\\postgresql\\base.py:3130: SAWarning: Did not recognize type 'xml' of column 'fileid'\n",
      "  util.warn(\n",
      "c:\\users\\marti\\appdata\\local\\programs\\python\\python38\\lib\\site-packages\\sqlalchemy\\dialects\\postgresql\\base.py:3130: SAWarning: Did not recognize type 'xml' of column 'parentid'\n",
      "  util.warn(\n"
     ]
    },
    {
     "name": "stdout",
     "output_type": "stream",
     "text": [
      "0 2020-12-10 16:16:05.314197 nb lignes traitees : 0\n",
      "LaRoch-r saint claude--1.146;46.158\n"
     ]
    },
    {
     "name": "stderr",
     "output_type": "stream",
     "text": [
      "c:\\users\\marti\\appdata\\local\\programs\\python\\python38\\lib\\site-packages\\geopandas\\geodataframe.py:830: UserWarning: Geometry column does not contain geometry.\n",
      "  warnings.warn(\"Geometry column does not contain geometry.\")\n"
     ]
    },
    {
     "name": "stdout",
     "output_type": "stream",
     "text": [
      "creer_graph : donnees mise en forme, connexion ouverte ; 2020-12-10 16:16:05.604950\n",
      "creer_graph : donnees transferees dans la base postgis ; 2020-12-10 16:16:05.634154\n",
      "creer_graph : geometrie modifiee ; 2020-12-10 16:16:05.655981\n",
      "creer_graph : topologie cree ; 2020-12-10 16:16:05.716925\n",
      "creer_graph : graph cree ; 2020-12-10 16:16:05.766792\n"
     ]
    },
    {
     "name": "stderr",
     "output_type": "stream",
     "text": [
      "c:\\users\\marti\\appdata\\local\\programs\\python\\python38\\lib\\site-packages\\sqlalchemy\\dialects\\postgresql\\base.py:3130: SAWarning: Did not recognize type 'xml' of column 'metadata'\n",
      "  util.warn(\n",
      "c:\\users\\marti\\appdata\\local\\programs\\python\\python38\\lib\\site-packages\\sqlalchemy\\dialects\\postgresql\\base.py:3130: SAWarning: Did not recognize type 'xml' of column 'fileid'\n",
      "  util.warn(\n",
      "c:\\users\\marti\\appdata\\local\\programs\\python\\python38\\lib\\site-packages\\sqlalchemy\\dialects\\postgresql\\base.py:3130: SAWarning: Did not recognize type 'xml' of column 'parentid'\n",
      "  util.warn(\n"
     ]
    },
    {
     "name": "stdout",
     "output_type": "stream",
     "text": [
      "0 2020-12-10 16:16:06.182541 nb lignes traitees : 0\n",
      "LaRoch-quai maubec--1.1473;46.159\n"
     ]
    },
    {
     "name": "stderr",
     "output_type": "stream",
     "text": [
      "c:\\users\\marti\\appdata\\local\\programs\\python\\python38\\lib\\site-packages\\geopandas\\geodataframe.py:830: UserWarning: Geometry column does not contain geometry.\n",
      "  warnings.warn(\"Geometry column does not contain geometry.\")\n"
     ]
    },
    {
     "name": "stdout",
     "output_type": "stream",
     "text": [
      "creer_graph : donnees mise en forme, connexion ouverte ; 2020-12-10 16:16:06.481399\n",
      "creer_graph : donnees transferees dans la base postgis ; 2020-12-10 16:16:06.498535\n",
      "creer_graph : geometrie modifiee ; 2020-12-10 16:16:06.512824\n",
      "creer_graph : topologie cree ; 2020-12-10 16:16:06.579547\n",
      "creer_graph : graph cree ; 2020-12-10 16:16:06.630438\n"
     ]
    },
    {
     "name": "stderr",
     "output_type": "stream",
     "text": [
      "c:\\users\\marti\\appdata\\local\\programs\\python\\python38\\lib\\site-packages\\sqlalchemy\\dialects\\postgresql\\base.py:3130: SAWarning: Did not recognize type 'xml' of column 'metadata'\n",
      "  util.warn(\n",
      "c:\\users\\marti\\appdata\\local\\programs\\python\\python38\\lib\\site-packages\\sqlalchemy\\dialects\\postgresql\\base.py:3130: SAWarning: Did not recognize type 'xml' of column 'fileid'\n",
      "  util.warn(\n",
      "c:\\users\\marti\\appdata\\local\\programs\\python\\python38\\lib\\site-packages\\sqlalchemy\\dialects\\postgresql\\base.py:3130: SAWarning: Did not recognize type 'xml' of column 'parentid'\n",
      "  util.warn(\n"
     ]
    },
    {
     "name": "stdout",
     "output_type": "stream",
     "text": [
      "0 2020-12-10 16:16:07.055366 nb lignes traitees : 0\n",
      "LaRoch-av maurice delmas--1.1587;46.1601\n"
     ]
    },
    {
     "name": "stderr",
     "output_type": "stream",
     "text": [
      "c:\\users\\marti\\appdata\\local\\programs\\python\\python38\\lib\\site-packages\\geopandas\\geodataframe.py:830: UserWarning: Geometry column does not contain geometry.\n",
      "  warnings.warn(\"Geometry column does not contain geometry.\")\n"
     ]
    },
    {
     "name": "stdout",
     "output_type": "stream",
     "text": [
      "creer_graph : donnees mise en forme, connexion ouverte ; 2020-12-10 16:16:07.404100\n",
      "creer_graph : donnees transferees dans la base postgis ; 2020-12-10 16:16:07.429616\n",
      "creer_graph : geometrie modifiee ; 2020-12-10 16:16:07.457656\n",
      "creer_graph : topologie cree ; 2020-12-10 16:16:07.526552\n",
      "creer_graph : graph cree ; 2020-12-10 16:16:07.575441\n"
     ]
    },
    {
     "name": "stderr",
     "output_type": "stream",
     "text": [
      "c:\\users\\marti\\appdata\\local\\programs\\python\\python38\\lib\\site-packages\\sqlalchemy\\dialects\\postgresql\\base.py:3130: SAWarning: Did not recognize type 'xml' of column 'metadata'\n",
      "  util.warn(\n",
      "c:\\users\\marti\\appdata\\local\\programs\\python\\python38\\lib\\site-packages\\sqlalchemy\\dialects\\postgresql\\base.py:3130: SAWarning: Did not recognize type 'xml' of column 'fileid'\n",
      "  util.warn(\n",
      "c:\\users\\marti\\appdata\\local\\programs\\python\\python38\\lib\\site-packages\\sqlalchemy\\dialects\\postgresql\\base.py:3130: SAWarning: Did not recognize type 'xml' of column 'parentid'\n",
      "  util.warn(\n"
     ]
    },
    {
     "name": "stdout",
     "output_type": "stream",
     "text": [
      "0 2020-12-10 16:16:08.007394 nb lignes traitees : 0\n",
      "LaRoch-r de la monnaie--1.1578;46.1563\n"
     ]
    },
    {
     "name": "stderr",
     "output_type": "stream",
     "text": [
      "c:\\users\\marti\\appdata\\local\\programs\\python\\python38\\lib\\site-packages\\geopandas\\geodataframe.py:830: UserWarning: Geometry column does not contain geometry.\n",
      "  warnings.warn(\"Geometry column does not contain geometry.\")\n"
     ]
    },
    {
     "name": "stdout",
     "output_type": "stream",
     "text": [
      "creer_graph : donnees mise en forme, connexion ouverte ; 2020-12-10 16:16:08.342015\n",
      "creer_graph : donnees transferees dans la base postgis ; 2020-12-10 16:16:08.357947\n",
      "creer_graph : geometrie modifiee ; 2020-12-10 16:16:08.373759\n",
      "creer_graph : topologie cree ; 2020-12-10 16:16:08.433237\n",
      "creer_graph : graph cree ; 2020-12-10 16:16:08.484128\n"
     ]
    },
    {
     "name": "stderr",
     "output_type": "stream",
     "text": [
      "c:\\users\\marti\\appdata\\local\\programs\\python\\python38\\lib\\site-packages\\sqlalchemy\\dialects\\postgresql\\base.py:3130: SAWarning: Did not recognize type 'xml' of column 'metadata'\n",
      "  util.warn(\n",
      "c:\\users\\marti\\appdata\\local\\programs\\python\\python38\\lib\\site-packages\\sqlalchemy\\dialects\\postgresql\\base.py:3130: SAWarning: Did not recognize type 'xml' of column 'fileid'\n",
      "  util.warn(\n",
      "c:\\users\\marti\\appdata\\local\\programs\\python\\python38\\lib\\site-packages\\sqlalchemy\\dialects\\postgresql\\base.py:3130: SAWarning: Did not recognize type 'xml' of column 'parentid'\n",
      "  util.warn(\n"
     ]
    },
    {
     "name": "stdout",
     "output_type": "stream",
     "text": [
      "0 2020-12-10 16:16:08.907767 nb lignes traitees : 0\n",
      "LaRoch-r albert 1er--1.1521;46.1634\n"
     ]
    },
    {
     "name": "stderr",
     "output_type": "stream",
     "text": [
      "c:\\users\\marti\\appdata\\local\\programs\\python\\python38\\lib\\site-packages\\geopandas\\geodataframe.py:830: UserWarning: Geometry column does not contain geometry.\n",
      "  warnings.warn(\"Geometry column does not contain geometry.\")\n"
     ]
    },
    {
     "name": "stdout",
     "output_type": "stream",
     "text": [
      "creer_graph : donnees mise en forme, connexion ouverte ; 2020-12-10 16:16:09.207028\n",
      "creer_graph : donnees transferees dans la base postgis ; 2020-12-10 16:16:09.222367\n",
      "creer_graph : geometrie modifiee ; 2020-12-10 16:16:09.236982\n",
      "creer_graph : topologie cree ; 2020-12-10 16:16:09.320251\n",
      "creer_graph : graph cree ; 2020-12-10 16:16:09.371088\n"
     ]
    },
    {
     "name": "stderr",
     "output_type": "stream",
     "text": [
      "c:\\users\\marti\\appdata\\local\\programs\\python\\python38\\lib\\site-packages\\sqlalchemy\\dialects\\postgresql\\base.py:3130: SAWarning: Did not recognize type 'xml' of column 'metadata'\n",
      "  util.warn(\n",
      "c:\\users\\marti\\appdata\\local\\programs\\python\\python38\\lib\\site-packages\\sqlalchemy\\dialects\\postgresql\\base.py:3130: SAWarning: Did not recognize type 'xml' of column 'fileid'\n",
      "  util.warn(\n",
      "c:\\users\\marti\\appdata\\local\\programs\\python\\python38\\lib\\site-packages\\sqlalchemy\\dialects\\postgresql\\base.py:3130: SAWarning: Did not recognize type 'xml' of column 'parentid'\n",
      "  util.warn(\n"
     ]
    },
    {
     "name": "stdout",
     "output_type": "stream",
     "text": [
      "0 2020-12-10 16:16:09.792313 nb lignes traitees : 0\n",
      "LaRoch-r villeneuve--1.1475;46.1594\n"
     ]
    },
    {
     "name": "stderr",
     "output_type": "stream",
     "text": [
      "c:\\users\\marti\\appdata\\local\\programs\\python\\python38\\lib\\site-packages\\geopandas\\geodataframe.py:830: UserWarning: Geometry column does not contain geometry.\n",
      "  warnings.warn(\"Geometry column does not contain geometry.\")\n"
     ]
    },
    {
     "name": "stdout",
     "output_type": "stream",
     "text": [
      "creer_graph : donnees mise en forme, connexion ouverte ; 2020-12-10 16:16:10.068278\n",
      "creer_graph : donnees transferees dans la base postgis ; 2020-12-10 16:16:10.085889\n",
      "creer_graph : geometrie modifiee ; 2020-12-10 16:16:10.100376\n",
      "creer_graph : topologie cree ; 2020-12-10 16:16:10.185158\n",
      "creer_graph : graph cree ; 2020-12-10 16:16:10.238038\n"
     ]
    },
    {
     "name": "stderr",
     "output_type": "stream",
     "text": [
      "c:\\users\\marti\\appdata\\local\\programs\\python\\python38\\lib\\site-packages\\sqlalchemy\\dialects\\postgresql\\base.py:3130: SAWarning: Did not recognize type 'xml' of column 'metadata'\n",
      "  util.warn(\n",
      "c:\\users\\marti\\appdata\\local\\programs\\python\\python38\\lib\\site-packages\\sqlalchemy\\dialects\\postgresql\\base.py:3130: SAWarning: Did not recognize type 'xml' of column 'fileid'\n",
      "  util.warn(\n",
      "c:\\users\\marti\\appdata\\local\\programs\\python\\python38\\lib\\site-packages\\sqlalchemy\\dialects\\postgresql\\base.py:3130: SAWarning: Did not recognize type 'xml' of column 'parentid'\n",
      "  util.warn(\n"
     ]
    },
    {
     "name": "stdout",
     "output_type": "stream",
     "text": [
      "0 2020-12-10 16:16:10.675917 nb lignes traitees : 0\n",
      "LaRoch-r du palais--1.1536;46.1598\n"
     ]
    },
    {
     "name": "stderr",
     "output_type": "stream",
     "text": [
      "c:\\users\\marti\\appdata\\local\\programs\\python\\python38\\lib\\site-packages\\geopandas\\geodataframe.py:830: UserWarning: Geometry column does not contain geometry.\n",
      "  warnings.warn(\"Geometry column does not contain geometry.\")\n"
     ]
    },
    {
     "name": "stdout",
     "output_type": "stream",
     "text": [
      "creer_graph : donnees mise en forme, connexion ouverte ; 2020-12-10 16:16:10.928009\n",
      "creer_graph : donnees transferees dans la base postgis ; 2020-12-10 16:16:10.942277\n",
      "creer_graph : geometrie modifiee ; 2020-12-10 16:16:10.957597\n",
      "creer_graph : topologie cree ; 2020-12-10 16:16:11.044239\n",
      "creer_graph : graph cree ; 2020-12-10 16:16:11.094127\n"
     ]
    },
    {
     "name": "stderr",
     "output_type": "stream",
     "text": [
      "c:\\users\\marti\\appdata\\local\\programs\\python\\python38\\lib\\site-packages\\sqlalchemy\\dialects\\postgresql\\base.py:3130: SAWarning: Did not recognize type 'xml' of column 'metadata'\n",
      "  util.warn(\n",
      "c:\\users\\marti\\appdata\\local\\programs\\python\\python38\\lib\\site-packages\\sqlalchemy\\dialects\\postgresql\\base.py:3130: SAWarning: Did not recognize type 'xml' of column 'fileid'\n",
      "  util.warn(\n",
      "c:\\users\\marti\\appdata\\local\\programs\\python\\python38\\lib\\site-packages\\sqlalchemy\\dialects\\postgresql\\base.py:3130: SAWarning: Did not recognize type 'xml' of column 'parentid'\n",
      "  util.warn(\n"
     ]
    },
    {
     "name": "stdout",
     "output_type": "stream",
     "text": [
      "0 2020-12-10 16:16:11.508277 nb lignes traitees : 0\n",
      "LaRoch-pl de verdun--1.1528;46.1628\n"
     ]
    },
    {
     "name": "stderr",
     "output_type": "stream",
     "text": [
      "c:\\users\\marti\\appdata\\local\\programs\\python\\python38\\lib\\site-packages\\geopandas\\geodataframe.py:830: UserWarning: Geometry column does not contain geometry.\n",
      "  warnings.warn(\"Geometry column does not contain geometry.\")\n"
     ]
    },
    {
     "name": "stdout",
     "output_type": "stream",
     "text": [
      "creer_graph : donnees mise en forme, connexion ouverte ; 2020-12-10 16:16:11.808793\n",
      "creer_graph : donnees transferees dans la base postgis ; 2020-12-10 16:16:11.825748\n",
      "creer_graph : geometrie modifiee ; 2020-12-10 16:16:11.840556\n",
      "creer_graph : topologie cree ; 2020-12-10 16:16:11.909138\n",
      "creer_graph : graph cree ; 2020-12-10 16:16:11.960033\n"
     ]
    },
    {
     "name": "stderr",
     "output_type": "stream",
     "text": [
      "c:\\users\\marti\\appdata\\local\\programs\\python\\python38\\lib\\site-packages\\sqlalchemy\\dialects\\postgresql\\base.py:3130: SAWarning: Did not recognize type 'xml' of column 'metadata'\n",
      "  util.warn(\n",
      "c:\\users\\marti\\appdata\\local\\programs\\python\\python38\\lib\\site-packages\\sqlalchemy\\dialects\\postgresql\\base.py:3130: SAWarning: Did not recognize type 'xml' of column 'fileid'\n",
      "  util.warn(\n",
      "c:\\users\\marti\\appdata\\local\\programs\\python\\python38\\lib\\site-packages\\sqlalchemy\\dialects\\postgresql\\base.py:3130: SAWarning: Did not recognize type 'xml' of column 'parentid'\n",
      "  util.warn(\n"
     ]
    },
    {
     "name": "stdout",
     "output_type": "stream",
     "text": [
      "0 2020-12-10 16:16:12.399630 nb lignes traitees : 0\n",
      "LaRoch---1.1448;46.1579\n",
      "pas de lignes disponibles pour le troncon LaRoch---1.1448;46.1579\n",
      "LaRoch-quai valin--1.1502;46.1575\n"
     ]
    },
    {
     "name": "stderr",
     "output_type": "stream",
     "text": [
      "c:\\users\\marti\\appdata\\local\\programs\\python\\python38\\lib\\site-packages\\geopandas\\geodataframe.py:830: UserWarning: Geometry column does not contain geometry.\n",
      "  warnings.warn(\"Geometry column does not contain geometry.\")\n"
     ]
    },
    {
     "name": "stdout",
     "output_type": "stream",
     "text": [
      "creer_graph : donnees mise en forme, connexion ouverte ; 2020-12-10 16:16:12.746859\n",
      "creer_graph : donnees transferees dans la base postgis ; 2020-12-10 16:16:12.772241\n",
      "creer_graph : geometrie modifiee ; 2020-12-10 16:16:12.786127\n",
      "creer_graph : topologie cree ; 2020-12-10 16:16:12.847026\n",
      "creer_graph : graph cree ; 2020-12-10 16:16:12.896919\n"
     ]
    },
    {
     "name": "stderr",
     "output_type": "stream",
     "text": [
      "c:\\users\\marti\\appdata\\local\\programs\\python\\python38\\lib\\site-packages\\sqlalchemy\\dialects\\postgresql\\base.py:3130: SAWarning: Did not recognize type 'xml' of column 'metadata'\n",
      "  util.warn(\n",
      "c:\\users\\marti\\appdata\\local\\programs\\python\\python38\\lib\\site-packages\\sqlalchemy\\dialects\\postgresql\\base.py:3130: SAWarning: Did not recognize type 'xml' of column 'fileid'\n",
      "  util.warn(\n",
      "c:\\users\\marti\\appdata\\local\\programs\\python\\python38\\lib\\site-packages\\sqlalchemy\\dialects\\postgresql\\base.py:3130: SAWarning: Did not recognize type 'xml' of column 'parentid'\n",
      "  util.warn(\n"
     ]
    },
    {
     "name": "stdout",
     "output_type": "stream",
     "text": [
      "0 2020-12-10 16:16:13.308844 nb lignes traitees : 0\n",
      "LaRoch-r gargoulleau--1.1513;46.1619\n"
     ]
    },
    {
     "name": "stderr",
     "output_type": "stream",
     "text": [
      "c:\\users\\marti\\appdata\\local\\programs\\python\\python38\\lib\\site-packages\\geopandas\\geodataframe.py:830: UserWarning: Geometry column does not contain geometry.\n",
      "  warnings.warn(\"Geometry column does not contain geometry.\")\n"
     ]
    },
    {
     "name": "stdout",
     "output_type": "stream",
     "text": [
      "creer_graph : donnees mise en forme, connexion ouverte ; 2020-12-10 16:16:13.601233\n",
      "creer_graph : donnees transferees dans la base postgis ; 2020-12-10 16:16:13.615240\n",
      "creer_graph : geometrie modifiee ; 2020-12-10 16:16:13.629385\n",
      "creer_graph : topologie cree ; 2020-12-10 16:16:13.687336\n",
      "creer_graph : graph cree ; 2020-12-10 16:16:13.737204\n"
     ]
    },
    {
     "name": "stderr",
     "output_type": "stream",
     "text": [
      "c:\\users\\marti\\appdata\\local\\programs\\python\\python38\\lib\\site-packages\\sqlalchemy\\dialects\\postgresql\\base.py:3130: SAWarning: Did not recognize type 'xml' of column 'metadata'\n",
      "  util.warn(\n",
      "c:\\users\\marti\\appdata\\local\\programs\\python\\python38\\lib\\site-packages\\sqlalchemy\\dialects\\postgresql\\base.py:3130: SAWarning: Did not recognize type 'xml' of column 'fileid'\n",
      "  util.warn(\n",
      "c:\\users\\marti\\appdata\\local\\programs\\python\\python38\\lib\\site-packages\\sqlalchemy\\dialects\\postgresql\\base.py:3130: SAWarning: Did not recognize type 'xml' of column 'parentid'\n",
      "  util.warn(\n"
     ]
    },
    {
     "name": "stdout",
     "output_type": "stream",
     "text": [
      "0 2020-12-10 16:16:14.153462 nb lignes traitees : 0\n",
      "LaRoch-quai louis durand--1.1492;46.1586\n"
     ]
    },
    {
     "name": "stderr",
     "output_type": "stream",
     "text": [
      "c:\\users\\marti\\appdata\\local\\programs\\python\\python38\\lib\\site-packages\\geopandas\\geodataframe.py:830: UserWarning: Geometry column does not contain geometry.\n",
      "  warnings.warn(\"Geometry column does not contain geometry.\")\n"
     ]
    },
    {
     "name": "stdout",
     "output_type": "stream",
     "text": [
      "creer_graph : donnees mise en forme, connexion ouverte ; 2020-12-10 16:16:14.428295\n",
      "creer_graph : donnees transferees dans la base postgis ; 2020-12-10 16:16:14.442752\n",
      "creer_graph : geometrie modifiee ; 2020-12-10 16:16:14.457694\n",
      "creer_graph : topologie cree ; 2020-12-10 16:16:14.517213\n",
      "creer_graph : graph cree ; 2020-12-10 16:16:14.567102\n"
     ]
    },
    {
     "name": "stderr",
     "output_type": "stream",
     "text": [
      "c:\\users\\marti\\appdata\\local\\programs\\python\\python38\\lib\\site-packages\\sqlalchemy\\dialects\\postgresql\\base.py:3130: SAWarning: Did not recognize type 'xml' of column 'metadata'\n",
      "  util.warn(\n",
      "c:\\users\\marti\\appdata\\local\\programs\\python\\python38\\lib\\site-packages\\sqlalchemy\\dialects\\postgresql\\base.py:3130: SAWarning: Did not recognize type 'xml' of column 'fileid'\n",
      "  util.warn(\n",
      "c:\\users\\marti\\appdata\\local\\programs\\python\\python38\\lib\\site-packages\\sqlalchemy\\dialects\\postgresql\\base.py:3130: SAWarning: Did not recognize type 'xml' of column 'parentid'\n",
      "  util.warn(\n"
     ]
    },
    {
     "name": "stdout",
     "output_type": "stream",
     "text": [
      "0 2020-12-10 16:16:15.009078 nb lignes traitees : 0\n",
      "LaRoch-av commandant Lisiack--1.1138;46.107\n"
     ]
    },
    {
     "name": "stderr",
     "output_type": "stream",
     "text": [
      "c:\\users\\marti\\appdata\\local\\programs\\python\\python38\\lib\\site-packages\\geopandas\\geodataframe.py:830: UserWarning: Geometry column does not contain geometry.\n",
      "  warnings.warn(\"Geometry column does not contain geometry.\")\n"
     ]
    },
    {
     "name": "stdout",
     "output_type": "stream",
     "text": [
      "creer_graph : donnees mise en forme, connexion ouverte ; 2020-12-10 16:16:15.287567\n",
      "creer_graph : donnees transferees dans la base postgis ; 2020-12-10 16:16:15.303570\n",
      "creer_graph : geometrie modifiee ; 2020-12-10 16:16:15.327940\n",
      "creer_graph : topologie cree ; 2020-12-10 16:16:15.392568\n",
      "creer_graph : graph cree ; 2020-12-10 16:16:15.443432\n"
     ]
    },
    {
     "name": "stderr",
     "output_type": "stream",
     "text": [
      "c:\\users\\marti\\appdata\\local\\programs\\python\\python38\\lib\\site-packages\\sqlalchemy\\dialects\\postgresql\\base.py:3130: SAWarning: Did not recognize type 'xml' of column 'metadata'\n",
      "  util.warn(\n",
      "c:\\users\\marti\\appdata\\local\\programs\\python\\python38\\lib\\site-packages\\sqlalchemy\\dialects\\postgresql\\base.py:3130: SAWarning: Did not recognize type 'xml' of column 'fileid'\n",
      "  util.warn(\n",
      "c:\\users\\marti\\appdata\\local\\programs\\python\\python38\\lib\\site-packages\\sqlalchemy\\dialects\\postgresql\\base.py:3130: SAWarning: Did not recognize type 'xml' of column 'parentid'\n",
      "  util.warn(\n"
     ]
    },
    {
     "name": "stdout",
     "output_type": "stream",
     "text": [
      "0 2020-12-10 16:16:15.859554 nb lignes traitees : 0\n",
      "17-D143-14+250\n"
     ]
    },
    {
     "name": "stderr",
     "output_type": "stream",
     "text": [
      "c:\\users\\marti\\appdata\\local\\programs\\python\\python38\\lib\\site-packages\\geopandas\\geodataframe.py:830: UserWarning: Geometry column does not contain geometry.\n",
      "  warnings.warn(\"Geometry column does not contain geometry.\")\n"
     ]
    },
    {
     "name": "stdout",
     "output_type": "stream",
     "text": [
      "creer_graph : donnees mise en forme, connexion ouverte ; 2020-12-10 16:16:16.227028\n",
      "creer_graph : donnees transferees dans la base postgis ; 2020-12-10 16:16:16.269152\n",
      "creer_graph : geometrie modifiee ; 2020-12-10 16:16:16.286351\n",
      "creer_graph : topologie cree ; 2020-12-10 16:16:16.494862\n",
      "creer_graph : graph cree ; 2020-12-10 16:16:16.550636\n"
     ]
    },
    {
     "name": "stderr",
     "output_type": "stream",
     "text": [
      "c:\\users\\marti\\appdata\\local\\programs\\python\\python38\\lib\\site-packages\\sqlalchemy\\dialects\\postgresql\\base.py:3130: SAWarning: Did not recognize type 'xml' of column 'metadata'\n",
      "  util.warn(\n",
      "c:\\users\\marti\\appdata\\local\\programs\\python\\python38\\lib\\site-packages\\sqlalchemy\\dialects\\postgresql\\base.py:3130: SAWarning: Did not recognize type 'xml' of column 'fileid'\n",
      "  util.warn(\n",
      "c:\\users\\marti\\appdata\\local\\programs\\python\\python38\\lib\\site-packages\\sqlalchemy\\dialects\\postgresql\\base.py:3130: SAWarning: Did not recognize type 'xml' of column 'parentid'\n",
      "  util.warn(\n"
     ]
    },
    {
     "name": "stdout",
     "output_type": "stream",
     "text": [
      "0 2020-12-10 16:16:16.986298 nb lignes traitees : 0\n",
      "17-D145-70+650\n"
     ]
    },
    {
     "name": "stderr",
     "output_type": "stream",
     "text": [
      "c:\\users\\marti\\appdata\\local\\programs\\python\\python38\\lib\\site-packages\\geopandas\\geodataframe.py:830: UserWarning: Geometry column does not contain geometry.\n",
      "  warnings.warn(\"Geometry column does not contain geometry.\")\n"
     ]
    },
    {
     "name": "stdout",
     "output_type": "stream",
     "text": [
      "creer_graph : donnees mise en forme, connexion ouverte ; 2020-12-10 16:16:17.499242\n",
      "creer_graph : donnees transferees dans la base postgis ; 2020-12-10 16:16:17.577497\n",
      "creer_graph : geometrie modifiee ; 2020-12-10 16:16:17.596734\n",
      "creer_graph : topologie cree ; 2020-12-10 16:16:18.013495\n",
      "creer_graph : graph cree ; 2020-12-10 16:16:18.077346\n"
     ]
    },
    {
     "name": "stderr",
     "output_type": "stream",
     "text": [
      "c:\\users\\marti\\appdata\\local\\programs\\python\\python38\\lib\\site-packages\\sqlalchemy\\dialects\\postgresql\\base.py:3130: SAWarning: Did not recognize type 'xml' of column 'metadata'\n",
      "  util.warn(\n",
      "c:\\users\\marti\\appdata\\local\\programs\\python\\python38\\lib\\site-packages\\sqlalchemy\\dialects\\postgresql\\base.py:3130: SAWarning: Did not recognize type 'xml' of column 'fileid'\n",
      "  util.warn(\n",
      "c:\\users\\marti\\appdata\\local\\programs\\python\\python38\\lib\\site-packages\\sqlalchemy\\dialects\\postgresql\\base.py:3130: SAWarning: Did not recognize type 'xml' of column 'parentid'\n",
      "  util.warn(\n"
     ]
    },
    {
     "name": "stdout",
     "output_type": "stream",
     "text": [
      "0 2020-12-10 16:16:18.670382 nb lignes traitees : 0\n",
      "0 2020-12-10 16:16:18.726232 nb lignes traitees : 0\n",
      "0 2020-12-10 16:16:18.831975 nb lignes traitees : 0\n",
      "0 2020-12-10 16:16:18.897793 nb lignes traitees : 0\n",
      "17-D236E1-2+250\n"
     ]
    },
    {
     "name": "stderr",
     "output_type": "stream",
     "text": [
      "c:\\users\\marti\\appdata\\local\\programs\\python\\python38\\lib\\site-packages\\geopandas\\geodataframe.py:830: UserWarning: Geometry column does not contain geometry.\n",
      "  warnings.warn(\"Geometry column does not contain geometry.\")\n"
     ]
    },
    {
     "name": "stdout",
     "output_type": "stream",
     "text": [
      "creer_graph : donnees mise en forme, connexion ouverte ; 2020-12-10 16:16:19.264494\n",
      "creer_graph : donnees transferees dans la base postgis ; 2020-12-10 16:16:19.283834\n",
      "creer_graph : geometrie modifiee ; 2020-12-10 16:16:19.298611\n",
      "creer_graph : topologie cree ; 2020-12-10 16:16:19.383819\n",
      "creer_graph : graph cree ; 2020-12-10 16:16:19.436294\n"
     ]
    },
    {
     "name": "stderr",
     "output_type": "stream",
     "text": [
      "c:\\users\\marti\\appdata\\local\\programs\\python\\python38\\lib\\site-packages\\sqlalchemy\\dialects\\postgresql\\base.py:3130: SAWarning: Did not recognize type 'xml' of column 'metadata'\n",
      "  util.warn(\n",
      "c:\\users\\marti\\appdata\\local\\programs\\python\\python38\\lib\\site-packages\\sqlalchemy\\dialects\\postgresql\\base.py:3130: SAWarning: Did not recognize type 'xml' of column 'fileid'\n",
      "  util.warn(\n",
      "c:\\users\\marti\\appdata\\local\\programs\\python\\python38\\lib\\site-packages\\sqlalchemy\\dialects\\postgresql\\base.py:3130: SAWarning: Did not recognize type 'xml' of column 'parentid'\n",
      "  util.warn(\n"
     ]
    },
    {
     "name": "stdout",
     "output_type": "stream",
     "text": [
      "0 2020-12-10 16:16:19.861802 nb lignes traitees : 0\n",
      "17-D140E3-0+30\n"
     ]
    },
    {
     "name": "stderr",
     "output_type": "stream",
     "text": [
      "c:\\users\\marti\\appdata\\local\\programs\\python\\python38\\lib\\site-packages\\geopandas\\geodataframe.py:830: UserWarning: Geometry column does not contain geometry.\n",
      "  warnings.warn(\"Geometry column does not contain geometry.\")\n"
     ]
    },
    {
     "name": "stdout",
     "output_type": "stream",
     "text": [
      "creer_graph : donnees mise en forme, connexion ouverte ; 2020-12-10 16:16:20.184186\n",
      "creer_graph : donnees transferees dans la base postgis ; 2020-12-10 16:16:20.200162\n",
      "creer_graph : geometrie modifiee ; 2020-12-10 16:16:20.214495\n",
      "creer_graph : topologie cree ; 2020-12-10 16:16:20.274511\n",
      "creer_graph : graph cree ; 2020-12-10 16:16:20.324404\n"
     ]
    },
    {
     "name": "stderr",
     "output_type": "stream",
     "text": [
      "c:\\users\\marti\\appdata\\local\\programs\\python\\python38\\lib\\site-packages\\sqlalchemy\\dialects\\postgresql\\base.py:3130: SAWarning: Did not recognize type 'xml' of column 'metadata'\n",
      "  util.warn(\n",
      "c:\\users\\marti\\appdata\\local\\programs\\python\\python38\\lib\\site-packages\\sqlalchemy\\dialects\\postgresql\\base.py:3130: SAWarning: Did not recognize type 'xml' of column 'fileid'\n",
      "  util.warn(\n",
      "c:\\users\\marti\\appdata\\local\\programs\\python\\python38\\lib\\site-packages\\sqlalchemy\\dialects\\postgresql\\base.py:3130: SAWarning: Did not recognize type 'xml' of column 'parentid'\n",
      "  util.warn(\n"
     ]
    },
    {
     "name": "stdout",
     "output_type": "stream",
     "text": [
      "0 2020-12-10 16:16:20.740716 nb lignes traitees : 0\n",
      "LaRoch-r georges triaud--1.1398;46.182\n"
     ]
    },
    {
     "name": "stderr",
     "output_type": "stream",
     "text": [
      "c:\\users\\marti\\appdata\\local\\programs\\python\\python38\\lib\\site-packages\\geopandas\\geodataframe.py:830: UserWarning: Geometry column does not contain geometry.\n",
      "  warnings.warn(\"Geometry column does not contain geometry.\")\n"
     ]
    },
    {
     "name": "stdout",
     "output_type": "stream",
     "text": [
      "creer_graph : donnees mise en forme, connexion ouverte ; 2020-12-10 16:16:21.022678\n",
      "creer_graph : donnees transferees dans la base postgis ; 2020-12-10 16:16:21.038105\n",
      "creer_graph : geometrie modifiee ; 2020-12-10 16:16:21.054804\n",
      "creer_graph : topologie cree ; 2020-12-10 16:16:21.118377\n",
      "creer_graph : graph cree ; 2020-12-10 16:16:21.168224\n"
     ]
    },
    {
     "name": "stderr",
     "output_type": "stream",
     "text": [
      "c:\\users\\marti\\appdata\\local\\programs\\python\\python38\\lib\\site-packages\\sqlalchemy\\dialects\\postgresql\\base.py:3130: SAWarning: Did not recognize type 'xml' of column 'metadata'\n",
      "  util.warn(\n",
      "c:\\users\\marti\\appdata\\local\\programs\\python\\python38\\lib\\site-packages\\sqlalchemy\\dialects\\postgresql\\base.py:3130: SAWarning: Did not recognize type 'xml' of column 'fileid'\n",
      "  util.warn(\n",
      "c:\\users\\marti\\appdata\\local\\programs\\python\\python38\\lib\\site-packages\\sqlalchemy\\dialects\\postgresql\\base.py:3130: SAWarning: Did not recognize type 'xml' of column 'parentid'\n",
      "  util.warn(\n"
     ]
    },
    {
     "name": "stdout",
     "output_type": "stream",
     "text": [
      "0 2020-12-10 16:16:21.617008 nb lignes traitees : 0\n"
     ]
    }
   ],
   "source": [
    "#parcour et arret de parcours\n",
    "def arreterPropaParImportance(importanceParcouru, importanceCroisement) : \n",
    "    \"\"\"\n",
    "    Fonction qui permet d'arretter la propagation d'un id_comptag le long d'un reseau en fonction de l'importance\n",
    "    es importances 6 n'arrentent personnes, les importances 5 n'arretent que les importances 5, les importances 4 sont arretes par 4 ou moins, \n",
    "    les 3 par 4 ou moins, les 2 par 3 ou moins, les 1 par 3 ou moins.\n",
    "    in :\n",
    "        importanceParcouru : string : l'importance du troncon a classer\n",
    "        importanceCroisement : string : l'importance du troncon qui marque une rupture\n",
    "    out : \n",
    "        booleean : True si la propagation doit s'arreter, False si elle continue\n",
    "    \"\"\"\n",
    "    if importanceParcouru in ('1','2') : \n",
    "        if 0<int(importanceCroisement)<4 :\n",
    "            return True\n",
    "        else : return False\n",
    "    elif importanceParcouru in ('3','4') : \n",
    "        if 0<int(importanceCroisement)<5 :\n",
    "            return True\n",
    "        else : return False\n",
    "    elif importanceParcouru=='5' : \n",
    "        if 0<int(importanceCroisement)<6 :\n",
    "            return True\n",
    "        else : return False\n",
    "    else : return False\n",
    "\n",
    "#on isole un point de comptage et on trouve tout les points relatifs à cette voie : \n",
    "pt_traites=[]\n",
    "listAffectation=[]\n",
    "idIgnAffecte=[]\n",
    "for id_cpt_a_test in gdf_creation_idcpt_ok.id_cpt_pt.unique() :\n",
    "    #drapeau si point deja traite dans le cadre d'un autre point sur la mm voie\n",
    "    \"\"\"if id_cpt_a_test != 'LaRoch-rue emile normandin--1.1413;46.1429':\n",
    "        continue\"\"\"\n",
    "    if id_cpt_a_test in pt_traites : \n",
    "        continue\n",
    "    print(id_cpt_a_test)\n",
    "    numero=id_cpt_a_test.split('-')[1]\n",
    "    df_tt_cpt_route=gdf_creation_idcpt_ok.loc[gdf_creation_idcpt_ok.id_cpt_pt.apply(lambda x : x.split('-')[1]==numero)]\n",
    "    liste_new_pt=df_tt_cpt_route.id_cpt_pt.unique()\n",
    "    gdf_creation_idcpt_ok_geom=df_tt_cpt_route.merge(gdf_pt_cpt[['id_comptag', 'geom']], \n",
    "                        left_on='id_cpt_pt', right_on='id_comptag').rename(columns={'geom' : 'geom_id_cpt_pt'})\n",
    "    gdf_creation_idcpt_ok_geom['dist_id_cpt']=gdf_creation_idcpt_ok_geom.apply(lambda x : x['geometry'].distance(x['geom_id_cpt_pt']), axis=1)\n",
    "    t1=gdf_creation_idcpt_ok_geom.loc[gdf_creation_idcpt_ok_geom['id_cpt_pt'].isin(liste_new_pt)]\n",
    "    df_lgn_proche_cpt=t1.loc[t1.groupby(['id_cpt_pt'])['dist_id_cpt'].transform(min)==t1['dist_id_cpt']]\n",
    "    if id_cpt_a_test[:2] in ('17',) : #voies autres que communales\n",
    "        #toute les lignes du numero de voie\n",
    "        df_troncon_numero=gdf_traf.loc[gdf_traf['numero']==numero]\n",
    "    else : #voies communales : il y a le pb des voies non nommees, ou dont le nommage s'arrete sans intersection\n",
    "        communes=gdf_traf.loc[gdf_traf.id_ign.isin(df_lgn_proche_cpt.id_ign.tolist())].inseecom_g.tolist()+gdf_traf.loc[\n",
    "            gdf_traf.id_ign.isin(df_lgn_proche_cpt.id_ign.tolist())].inseecom_d.tolist()\n",
    "        df_troncon_numero=gdf_traf.loc[(gdf_traf.nom_1_g.isin(filter(lambda x : not pd.isnull(x),gdf_traf.loc[gdf_traf.id_ign.isin(gdf_creation_idcpt_ok.loc[gdf_creation_idcpt_ok.id_cpt_pt==id_cpt_a_test]\n",
    "                                                                                               .id_ign.tolist())].nom_1_g.tolist())))\n",
    "                                        & ((gdf_traf.inseecom_g.isin(communes)) | (gdf_traf.inseecom_d.isin(communes)))]\n",
    "    #sans les lignes qui ont déjà un id_comptag de ce numero ou d'une autre voie deja traitee\n",
    "    df_troncon_numero=df_troncon_numero.loc[(df_troncon_numero['id_comptag'].isna()) & (~df_troncon_numero.id_ign.isin(idIgnAffecte))].copy()\n",
    "    \n",
    "    #dans le cas où on arrive pas à affilier le point de comptage à des voies avec un numero ou un nom de rue\n",
    "    #ou que le point de comptage lui mm n'as pa sde nom de rue, pour le moment on laisse tomber\n",
    "    if df_troncon_numero.empty : \n",
    "        print(f'pas de lignes disponibles pour le troncon {id_cpt_a_test}')\n",
    "        continue\n",
    "\n",
    "    #trouver les lignes qui intersctenet et limiter la propa\n",
    "    list_src_tgt_tronc_num=df_troncon_numero.source.tolist() + df_troncon_numero.target.tolist()\n",
    "    df_lgn_interscts=gdf_traf.loc[((gdf_traf['source'].isin(list_src_tgt_tronc_num)) | (gdf_traf['target'].isin(list_src_tgt_tronc_num))) &\n",
    "                                    (~gdf_traf.index.isin(df_troncon_numero.index.tolist()))].copy()\n",
    "    df_lgn_interscts_merge=gp.sjoin(df_lgn_interscts,df_troncon_numero, op='intersects')\n",
    "    df_lgn_interscts_filtre=df_lgn_interscts_merge.loc[df_lgn_interscts_merge.apply(lambda x : arreterPropaParImportance(x['importance_right'],x['importance_left']), axis=1)].copy()\n",
    "    nom_attribut=[a for a  in df_lgn_interscts_filtre.columns if a[-4:]=='left']\n",
    "    df_lgn_interscts_fin=df_lgn_interscts_filtre.rename(columns={n : n[:-5] for n in nom_attribut})[[c for c in df_lgn_interscts.columns]]\n",
    "    #trouver les lignes avec un id_comptag qu iintersectent\n",
    "    df_lgn_id_cpt_lin=gdf_traf.loc[~gdf_traf.id_comptag.isna()].copy()\n",
    "    df_lgn_id_cpt_lin=df_lgn_id_cpt_lin.loc[(df_lgn_id_cpt_lin['source'].isin(list_src_tgt_tronc_num)) | \n",
    "                                            (df_lgn_id_cpt_lin['target'].isin(list_src_tgt_tronc_num))].copy()\n",
    "    \n",
    "    #preparer le lineaire pour graph\n",
    "    ligne_pr_graph=pd.concat([df_lgn_interscts_fin, df_lgn_id_cpt_lin,df_troncon_numero], sort=False, axis=0)\n",
    "    ligne_pr_graph.drop_duplicates('id_ign', inplace=True)\n",
    "        #si doublons id restant on remplace l'id\n",
    "    if ~ligne_pr_graph.loc[ligne_pr_graph.duplicated('id', keep=False)].empty : \n",
    "        ligne_pr_graph.reset_index(drop=True,inplace=True)\n",
    "        ligne_pr_graph.id=ligne_pr_graph.index\n",
    "    ligne_pr_graph_transfert=ligne_pr_graph.rename(columns={'id_voie_d':'codevoie_d'}).copy()\n",
    "    ligne_pr_graph_transfert['geom']=ligne_pr_graph_transfert.apply(lambda x : dumps(x.geometry), axis=1)\n",
    "\n",
    "    creer_graph(ligne_pr_graph_transfert[['id','id_ign','importance','numero','nature','codevoie_d','source','sens','target','long_km','geometry']],\n",
    "               'local_otv_gti', localisation='maison')\n",
    "        \n",
    "        #appel des fonction de carac des lignes \n",
    "    df=import_donnes_base('local_otv_gti','public', 'graph_temp','graph_temp_vertices_pgr',localisation='maison')\n",
    "    df2_chaussees=df.loc[df.nature.isin(['Type autoroutier', 'Route à 2 chaussées'])]\n",
    "    df_avec_rd_pt,carac_rd_pt,lign_entrant_rdpt=identifier_rd_pt(df)\n",
    "    df_lignes=df_avec_rd_pt.set_index('id_ign')#mettre l'id_ign en index\n",
    "    \n",
    "    #creation d'un dico des ptde base\n",
    "    dico_ligne_pt_base=df_lgn_proche_cpt.drop_duplicates(['id_cpt_lin','id_cpt_pt' ])[['id_cpt_pt',\n",
    "                            'id_ign','id_tronc_e']].set_index('id_cpt_pt').to_records()\n",
    "    dico_ligne_pt={k[0] : {'ligne_base': k[1],'trc_elem':k[2],'lgn_trc_elem' : gdf_traf_pt.loc[(gdf_traf_pt['id_tronc_e']==k[2]) & \n",
    "                                                                                (gdf_traf_pt.id_ign.isin(df_troncon_numero.id_ign.tolist()))].id_ign.tolist()\n",
    "                           , 'priorite':2} \n",
    "                       for k in dico_ligne_pt_base}\n",
    "    \n",
    "    #dico des lignes relatives a un autre comptage\n",
    "    dico_lign_cpt_pct={k:[a for kd in dico_ligne_pt.keys() if kd!=k for a in dico_ligne_pt[kd]['lgn_trc_elem']] for k in dico_ligne_pt.keys()}\n",
    "    \n",
    "    #attention, la fonction regrouper_troncon ne marche pas si la ligne de base est un rd point.\n",
    "    #il faut dc vérifier ce point et dans le cas où ça arrive prendre un ligne des lgn_trc_elem qui ne soit pas sur un rdpoint\n",
    "    if not carac_rd_pt.empty : \n",
    "        list_id_ign_rd_pt=[a for l_rdpt in carac_rd_pt.id_ign_rdpt.tolist() for a in l_rdpt]\n",
    "        for k in dico_ligne_pt.keys() : \n",
    "            if dico_ligne_pt[k]['ligne_base'] in list_id_ign_rd_pt : \n",
    "                dico_ligne_pt[k]['ligne_base']=[e for e in dico_ligne_pt[k]['lgn_trc_elem'] if e not in list_id_ign_rd_pt][0]\n",
    "                \n",
    "    #pour chaque ligne : on fait tourner la fonction de tronc elem à partir du graph avec les importance sup ou égale, \n",
    "    #d'abord pour le cpt permanent, ensuite pour les autres, avec prise necompte des lignes des tronc elem des autres compteurs. \n",
    "        #list des id_ign des tronc_elem\n",
    "    liste_id_ign_te=[a  for k, v in dico_ligne_pt.items() for a in v['lgn_trc_elem']]\n",
    "    lignes_traitees=[]\n",
    "        #utilisret les fnctions de carac\n",
    "    try : \n",
    "        for k in sorted(dico_ligne_pt.keys(), key=lambda x: (dico_ligne_pt[x]['priorite'])): \n",
    "            ligne_comp=[x for x in regrouper_troncon([dico_ligne_pt[k]['ligne_base']],df_avec_rd_pt,carac_rd_pt, df2_chaussees,\n",
    "                                                       dico_lign_cpt_pct[k]+lignes_traitees)[0].id.tolist() \n",
    "                        if x in df_lignes.index.tolist()]\n",
    "            #print(f\"id_cpt : {k},'\\n',lignes_traitees : {lignes_traitees},'\\n', lignes de base : {ligne_comp}\")\n",
    "            lignes_traitees+=ligne_comp\n",
    "            dico_ligne_pt[k]['lignes_comp_base']=[a for a in ligne_comp if a in df_troncon_numero.id_ign.to_list()]\n",
    "    except KeyError : \n",
    "        print(f'pb sur id_comptag : {id_cpt_a_test}')\n",
    "        continue\n",
    "        \n",
    "    # mettre en forme et creation df de correspondance finale : \n",
    "    df_linearisee=pd.DataFrame(index=dico_ligne_pt.keys(), data=dico_ligne_pt.values())\n",
    "    df_linearisee['lignes_comp_fin']=df_linearisee.apply(lambda x : x['lignes_comp_base'] + x['lgn_trc_elem'], axis=1 )\n",
    "    dico_inverse=df_linearisee[['lignes_comp_fin']].to_dict()\n",
    "    dico_inverse={a:k   for k, val  in dico_inverse['lignes_comp_fin'].items() for a in val}\n",
    "    df_linearisee_fin=pd.DataFrame(index=dico_inverse.keys(), data=dico_inverse.values(), columns=['id_cpt_fin'])\n",
    "    listAffectation.append(df_linearisee_fin)   \n",
    "    idIgnAffecte+=df_linearisee_fin.index.tolist()\n",
    "    pt_traites+=list(dico_ligne_pt.keys())\n",
    "df_linearisee_fin_glob=pd.concat(listAffectation)"
   ]
  },
  {
   "cell_type": "code",
   "execution_count": 54,
   "metadata": {},
   "outputs": [],
   "source": [
    "gdf_lin.merge(df_linearisee_fin_glob.rename_axis('id_ign').reset_index(), on='id_ign').to_file(\n",
    "    r'D:\\Boulot\\AffairesEnCours\\OTV\\17\\temp_linearisation\\affectationV2_Agglo.shp')"
   ]
  },
  {
   "cell_type": "code",
   "execution_count": 30,
   "metadata": {},
   "outputs": [],
   "source": [
    "communes=gdf_traf.loc[gdf_traf.id_ign.isin(df_lgn_proche_cpt.id_ign.tolist())].inseecom_g.tolist()+gdf_traf.loc[gdf_traf.id_ign.isin(df_lgn_proche_cpt.id_ign.tolist())].inseecom_d.tolist()"
   ]
  },
  {
   "cell_type": "code",
   "execution_count": 31,
   "metadata": {},
   "outputs": [
    {
     "data": {
      "text/html": [
       "<div>\n",
       "<style scoped>\n",
       "    .dataframe tbody tr th:only-of-type {\n",
       "        vertical-align: middle;\n",
       "    }\n",
       "\n",
       "    .dataframe tbody tr th {\n",
       "        vertical-align: top;\n",
       "    }\n",
       "\n",
       "    .dataframe thead th {\n",
       "        text-align: right;\n",
       "    }\n",
       "</style>\n",
       "<table border=\"1\" class=\"dataframe\">\n",
       "  <thead>\n",
       "    <tr style=\"text-align: right;\">\n",
       "      <th></th>\n",
       "      <th>id</th>\n",
       "      <th>id_ign</th>\n",
       "      <th>nature</th>\n",
       "      <th>nom_1_g</th>\n",
       "      <th>nom_1_d</th>\n",
       "      <th>numero</th>\n",
       "      <th>importance</th>\n",
       "      <th>cl_admin</th>\n",
       "      <th>gestion</th>\n",
       "      <th>fictif</th>\n",
       "      <th>largeur</th>\n",
       "      <th>nb_voies</th>\n",
       "      <th>sens</th>\n",
       "      <th>etat</th>\n",
       "      <th>inseecom_g</th>\n",
       "      <th>inseecom_d</th>\n",
       "      <th>id_voie_g</th>\n",
       "      <th>id_voie_d</th>\n",
       "      <th>urbain</th>\n",
       "      <th>vit_moy_vl</th>\n",
       "      <th>restr_p</th>\n",
       "      <th>dept</th>\n",
       "      <th>dept_2019</th>\n",
       "      <th>dept_2018</th>\n",
       "      <th>dept_2017</th>\n",
       "      <th>...</th>\n",
       "      <th>type_vdf</th>\n",
       "      <th>vts_vl_vdf</th>\n",
       "      <th>vts_pl_vdf</th>\n",
       "      <th>vts_gest</th>\n",
       "      <th>obs_vts</th>\n",
       "      <th>vts_osm</th>\n",
       "      <th>vts_modif</th>\n",
       "      <th>vts_vl_f</th>\n",
       "      <th>vts_pl_f</th>\n",
       "      <th>vts_type_v</th>\n",
       "      <th>vts_type_p</th>\n",
       "      <th>src_vma</th>\n",
       "      <th>vma_vl</th>\n",
       "      <th>vma_pl</th>\n",
       "      <th>vma_type</th>\n",
       "      <th>codau_cont</th>\n",
       "      <th>tmja_cont</th>\n",
       "      <th>pc_pl_cont</th>\n",
       "      <th>source</th>\n",
       "      <th>target</th>\n",
       "      <th>recup</th>\n",
       "      <th>attr_modif</th>\n",
       "      <th>ann_pc_pl</th>\n",
       "      <th>geometry</th>\n",
       "      <th>idtronc</th>\n",
       "    </tr>\n",
       "  </thead>\n",
       "  <tbody>\n",
       "    <tr>\n",
       "      <th>80736</th>\n",
       "      <td>287813.0</td>\n",
       "      <td>TRONROUT0000000032837622</td>\n",
       "      <td>Route à 1 chaussée</td>\n",
       "      <td>R DU PARADIS</td>\n",
       "      <td>R DU PARADIS</td>\n",
       "      <td>None</td>\n",
       "      <td>4</td>\n",
       "      <td>Autre</td>\n",
       "      <td>None</td>\n",
       "      <td>Non</td>\n",
       "      <td>5.0</td>\n",
       "      <td>2.0</td>\n",
       "      <td>Double sens</td>\n",
       "      <td>En service</td>\n",
       "      <td>17414</td>\n",
       "      <td>17414</td>\n",
       "      <td>174140180</td>\n",
       "      <td>174140180</td>\n",
       "      <td>Oui</td>\n",
       "      <td>40</td>\n",
       "      <td>NaN</td>\n",
       "      <td>17</td>\n",
       "      <td>17</td>\n",
       "      <td>17</td>\n",
       "      <td>17</td>\n",
       "      <td>...</td>\n",
       "      <td>21.0</td>\n",
       "      <td>46.0</td>\n",
       "      <td>40.0</td>\n",
       "      <td>NaN</td>\n",
       "      <td>None</td>\n",
       "      <td>NaN</td>\n",
       "      <td>None</td>\n",
       "      <td>46.0</td>\n",
       "      <td>40.0</td>\n",
       "      <td>estimee</td>\n",
       "      <td>estimee</td>\n",
       "      <td>None</td>\n",
       "      <td>50.0</td>\n",
       "      <td>50</td>\n",
       "      <td>estimee</td>\n",
       "      <td>None</td>\n",
       "      <td>NaN</td>\n",
       "      <td>NaN</td>\n",
       "      <td>290075.0</td>\n",
       "      <td>290076.0</td>\n",
       "      <td>pk_ign</td>\n",
       "      <td>None</td>\n",
       "      <td>None</td>\n",
       "      <td>LINESTRING (383247.500 6574671.500, 383262.600...</td>\n",
       "      <td>41155</td>\n",
       "    </tr>\n",
       "    <tr>\n",
       "      <th>80737</th>\n",
       "      <td>287818.0</td>\n",
       "      <td>TRONROUT0000000032837628</td>\n",
       "      <td>Route à 1 chaussée</td>\n",
       "      <td>R DU PARADIS</td>\n",
       "      <td>R DU PARADIS</td>\n",
       "      <td>None</td>\n",
       "      <td>4</td>\n",
       "      <td>Autre</td>\n",
       "      <td>None</td>\n",
       "      <td>Non</td>\n",
       "      <td>5.0</td>\n",
       "      <td>2.0</td>\n",
       "      <td>Double sens</td>\n",
       "      <td>En service</td>\n",
       "      <td>17414</td>\n",
       "      <td>17414</td>\n",
       "      <td>174140180</td>\n",
       "      <td>174140180</td>\n",
       "      <td>Non</td>\n",
       "      <td>58</td>\n",
       "      <td>NaN</td>\n",
       "      <td>17</td>\n",
       "      <td>17</td>\n",
       "      <td>17</td>\n",
       "      <td>17</td>\n",
       "      <td>...</td>\n",
       "      <td>21.0</td>\n",
       "      <td>46.0</td>\n",
       "      <td>40.0</td>\n",
       "      <td>NaN</td>\n",
       "      <td>None</td>\n",
       "      <td>NaN</td>\n",
       "      <td>None</td>\n",
       "      <td>46.0</td>\n",
       "      <td>40.0</td>\n",
       "      <td>estimee</td>\n",
       "      <td>estimee</td>\n",
       "      <td>None</td>\n",
       "      <td>50.0</td>\n",
       "      <td>50</td>\n",
       "      <td>estimee</td>\n",
       "      <td>None</td>\n",
       "      <td>NaN</td>\n",
       "      <td>NaN</td>\n",
       "      <td>290078.0</td>\n",
       "      <td>290075.0</td>\n",
       "      <td>pk_ign</td>\n",
       "      <td>None</td>\n",
       "      <td>None</td>\n",
       "      <td>LINESTRING (383154.200 6574709.600, 383161.400...</td>\n",
       "      <td>41155</td>\n",
       "    </tr>\n",
       "  </tbody>\n",
       "</table>\n",
       "<p>2 rows × 82 columns</p>\n",
       "</div>"
      ],
      "text/plain": [
       "             id                    id_ign              nature       nom_1_g  \\\n",
       "80736  287813.0  TRONROUT0000000032837622  Route à 1 chaussée  R DU PARADIS   \n",
       "80737  287818.0  TRONROUT0000000032837628  Route à 1 chaussée  R DU PARADIS   \n",
       "\n",
       "            nom_1_d numero importance cl_admin gestion fictif  largeur  \\\n",
       "80736  R DU PARADIS   None          4    Autre    None    Non      5.0   \n",
       "80737  R DU PARADIS   None          4    Autre    None    Non      5.0   \n",
       "\n",
       "       nb_voies         sens        etat inseecom_g inseecom_d  id_voie_g  \\\n",
       "80736       2.0  Double sens  En service      17414      17414  174140180   \n",
       "80737       2.0  Double sens  En service      17414      17414  174140180   \n",
       "\n",
       "       id_voie_d urbain  vit_moy_vl  restr_p dept dept_2019 dept_2018  \\\n",
       "80736  174140180    Oui          40      NaN   17        17        17   \n",
       "80737  174140180    Non          58      NaN   17        17        17   \n",
       "\n",
       "      dept_2017  ... type_vdf vts_vl_vdf  vts_pl_vdf  vts_gest obs_vts  \\\n",
       "80736        17  ...     21.0       46.0        40.0       NaN    None   \n",
       "80737        17  ...     21.0       46.0        40.0       NaN    None   \n",
       "\n",
       "      vts_osm vts_modif vts_vl_f vts_pl_f vts_type_v vts_type_p  src_vma  \\\n",
       "80736     NaN      None     46.0     40.0    estimee    estimee     None   \n",
       "80737     NaN      None     46.0     40.0    estimee    estimee     None   \n",
       "\n",
       "       vma_vl  vma_pl  vma_type  codau_cont  tmja_cont  pc_pl_cont    source  \\\n",
       "80736    50.0      50   estimee        None        NaN         NaN  290075.0   \n",
       "80737    50.0      50   estimee        None        NaN         NaN  290078.0   \n",
       "\n",
       "         target   recup attr_modif ann_pc_pl  \\\n",
       "80736  290076.0  pk_ign       None      None   \n",
       "80737  290075.0  pk_ign       None      None   \n",
       "\n",
       "                                                geometry idtronc  \n",
       "80736  LINESTRING (383247.500 6574671.500, 383262.600...   41155  \n",
       "80737  LINESTRING (383154.200 6574709.600, 383161.400...   41155  \n",
       "\n",
       "[2 rows x 82 columns]"
      ]
     },
     "execution_count": 31,
     "metadata": {},
     "output_type": "execute_result"
    }
   ],
   "source": [
    "gdf_traf.loc[(gdf_traf.nom_1_g.isin(filter(lambda x : not pd.isnull(x),gdf_traf.loc[gdf_traf.id_ign.isin(gdf_creation_idcpt_ok.loc[gdf_creation_idcpt_ok.id_cpt_pt=='LaRoch-r du paradis--1.1089;46.1976']\n",
    "                                                                                               .id_ign.tolist())].nom_1_g.tolist())))\n",
    "            & ((gdf_traf.inseecom_g.isin(communes)) | (gdf_traf.inseecom_d.isin(communes)))]"
   ]
  },
  {
   "cell_type": "code",
   "execution_count": 50,
   "metadata": {},
   "outputs": [
    {
     "data": {
      "text/html": [
       "<div>\n",
       "<style scoped>\n",
       "    .dataframe tbody tr th:only-of-type {\n",
       "        vertical-align: middle;\n",
       "    }\n",
       "\n",
       "    .dataframe tbody tr th {\n",
       "        vertical-align: top;\n",
       "    }\n",
       "\n",
       "    .dataframe thead th {\n",
       "        text-align: right;\n",
       "    }\n",
       "</style>\n",
       "<table border=\"1\" class=\"dataframe\">\n",
       "  <thead>\n",
       "    <tr style=\"text-align: right;\">\n",
       "      <th></th>\n",
       "      <th>id_cpt_fin</th>\n",
       "    </tr>\n",
       "  </thead>\n",
       "  <tbody>\n",
       "    <tr>\n",
       "      <th>TRONROUT0000000032971874</th>\n",
       "      <td>17-D141E4-1+385</td>\n",
       "    </tr>\n",
       "    <tr>\n",
       "      <th>TRONROUT0000000032969579</th>\n",
       "      <td>17-D141E4-1+385</td>\n",
       "    </tr>\n",
       "    <tr>\n",
       "      <th>TRONROUT0000000032971869</th>\n",
       "      <td>17-D141E4-1+385</td>\n",
       "    </tr>\n",
       "    <tr>\n",
       "      <th>TRONROUT0000000032971892</th>\n",
       "      <td>17-D141E4-1+385</td>\n",
       "    </tr>\n",
       "    <tr>\n",
       "      <th>TRONROUT0000000032967114</th>\n",
       "      <td>17-D141E4-1+385</td>\n",
       "    </tr>\n",
       "    <tr>\n",
       "      <th>TRONROUT0000000032969584</th>\n",
       "      <td>17-D141E4-1+385</td>\n",
       "    </tr>\n",
       "    <tr>\n",
       "      <th>TRONROUT0000002011454759</th>\n",
       "      <td>17-D141E4-1+385</td>\n",
       "    </tr>\n",
       "    <tr>\n",
       "      <th>TRONROUT0000000032969575</th>\n",
       "      <td>17-D141E4-1+385</td>\n",
       "    </tr>\n",
       "    <tr>\n",
       "      <th>TRONROUT0000000032967099</th>\n",
       "      <td>17-D141E4-1+385</td>\n",
       "    </tr>\n",
       "    <tr>\n",
       "      <th>TRONROUT0000000032971895</th>\n",
       "      <td>17-D141E4-1+385</td>\n",
       "    </tr>\n",
       "    <tr>\n",
       "      <th>TRONROUT0000000032967097</th>\n",
       "      <td>17-D141E4-1+385</td>\n",
       "    </tr>\n",
       "    <tr>\n",
       "      <th>TRONROUT0000002011454720</th>\n",
       "      <td>17-D141E4-1+385</td>\n",
       "    </tr>\n",
       "    <tr>\n",
       "      <th>TRONROUT0000000291516747</th>\n",
       "      <td>17-D141E4-1+385</td>\n",
       "    </tr>\n",
       "    <tr>\n",
       "      <th>TRONROUT0000000032967116</th>\n",
       "      <td>17-D141E4-1+385</td>\n",
       "    </tr>\n",
       "    <tr>\n",
       "      <th>TRONROUT0000000291516751</th>\n",
       "      <td>17-D141E4-1+385</td>\n",
       "    </tr>\n",
       "    <tr>\n",
       "      <th>TRONROUT0000000032969576</th>\n",
       "      <td>17-D141E4-1+385</td>\n",
       "    </tr>\n",
       "    <tr>\n",
       "      <th>TRONROUT0000000032967112</th>\n",
       "      <td>17-D141E4-1+385</td>\n",
       "    </tr>\n",
       "    <tr>\n",
       "      <th>TRONROUT0000000032967113</th>\n",
       "      <td>17-D141E4-1+385</td>\n",
       "    </tr>\n",
       "    <tr>\n",
       "      <th>TRONROUT0000000032971870</th>\n",
       "      <td>17-D141E4-1+385</td>\n",
       "    </tr>\n",
       "    <tr>\n",
       "      <th>TRONROUT0000000032969556</th>\n",
       "      <td>17-D141E4-1+385</td>\n",
       "    </tr>\n",
       "    <tr>\n",
       "      <th>TRONROUT0000000244723886</th>\n",
       "      <td>17-D141E4-1+385</td>\n",
       "    </tr>\n",
       "    <tr>\n",
       "      <th>TRONROUT0000000032969577</th>\n",
       "      <td>17-D141E4-1+385</td>\n",
       "    </tr>\n",
       "    <tr>\n",
       "      <th>TRONROUT0000000032971902</th>\n",
       "      <td>17-D141E4-1+385</td>\n",
       "    </tr>\n",
       "    <tr>\n",
       "      <th>TRONROUT0000002010554127</th>\n",
       "      <td>17-D141E4-1+385</td>\n",
       "    </tr>\n",
       "    <tr>\n",
       "      <th>TRONROUT0000000032967117</th>\n",
       "      <td>17-D141E4-1+385</td>\n",
       "    </tr>\n",
       "    <tr>\n",
       "      <th>TRONROUT0000000291516749</th>\n",
       "      <td>17-D141E4-1+385</td>\n",
       "    </tr>\n",
       "    <tr>\n",
       "      <th>TRONROUT0000002011454718</th>\n",
       "      <td>17-D141E4-1+385</td>\n",
       "    </tr>\n",
       "    <tr>\n",
       "      <th>TRONROUT0000000246173630</th>\n",
       "      <td>17-D141E4-1+385</td>\n",
       "    </tr>\n",
       "  </tbody>\n",
       "</table>\n",
       "</div>"
      ],
      "text/plain": [
       "                               id_cpt_fin\n",
       "TRONROUT0000000032971874  17-D141E4-1+385\n",
       "TRONROUT0000000032969579  17-D141E4-1+385\n",
       "TRONROUT0000000032971869  17-D141E4-1+385\n",
       "TRONROUT0000000032971892  17-D141E4-1+385\n",
       "TRONROUT0000000032967114  17-D141E4-1+385\n",
       "TRONROUT0000000032969584  17-D141E4-1+385\n",
       "TRONROUT0000002011454759  17-D141E4-1+385\n",
       "TRONROUT0000000032969575  17-D141E4-1+385\n",
       "TRONROUT0000000032967099  17-D141E4-1+385\n",
       "TRONROUT0000000032971895  17-D141E4-1+385\n",
       "TRONROUT0000000032967097  17-D141E4-1+385\n",
       "TRONROUT0000002011454720  17-D141E4-1+385\n",
       "TRONROUT0000000291516747  17-D141E4-1+385\n",
       "TRONROUT0000000032967116  17-D141E4-1+385\n",
       "TRONROUT0000000291516751  17-D141E4-1+385\n",
       "TRONROUT0000000032969576  17-D141E4-1+385\n",
       "TRONROUT0000000032967112  17-D141E4-1+385\n",
       "TRONROUT0000000032967113  17-D141E4-1+385\n",
       "TRONROUT0000000032971870  17-D141E4-1+385\n",
       "TRONROUT0000000032969556  17-D141E4-1+385\n",
       "TRONROUT0000000244723886  17-D141E4-1+385\n",
       "TRONROUT0000000032969577  17-D141E4-1+385\n",
       "TRONROUT0000000032971902  17-D141E4-1+385\n",
       "TRONROUT0000002010554127  17-D141E4-1+385\n",
       "TRONROUT0000000032967117  17-D141E4-1+385\n",
       "TRONROUT0000000291516749  17-D141E4-1+385\n",
       "TRONROUT0000002011454718  17-D141E4-1+385\n",
       "TRONROUT0000000246173630  17-D141E4-1+385"
      ]
     },
     "execution_count": 50,
     "metadata": {},
     "output_type": "execute_result"
    }
   ],
   "source": [
    "df_linearisee_fin"
   ]
  },
  {
   "cell_type": "code",
   "execution_count": 91,
   "metadata": {},
   "outputs": [],
   "source": [
    "df_lgn_interscts_filtre.to_file(r'D:\\Boulot\\AffairesEnCours\\OTV\\17\\temp_linearisation\\ex_InterV0.shp')"
   ]
  },
  {
   "cell_type": "code",
   "execution_count": 48,
   "metadata": {},
   "outputs": [
    {
     "data": {
      "text/html": [
       "<div>\n",
       "<style scoped>\n",
       "    .dataframe tbody tr th:only-of-type {\n",
       "        vertical-align: middle;\n",
       "    }\n",
       "\n",
       "    .dataframe tbody tr th {\n",
       "        vertical-align: top;\n",
       "    }\n",
       "\n",
       "    .dataframe thead th {\n",
       "        text-align: right;\n",
       "    }\n",
       "</style>\n",
       "<table border=\"1\" class=\"dataframe\">\n",
       "  <thead>\n",
       "    <tr style=\"text-align: right;\">\n",
       "      <th></th>\n",
       "      <th>id_cpt_fin</th>\n",
       "    </tr>\n",
       "  </thead>\n",
       "  <tbody>\n",
       "    <tr>\n",
       "      <th>TRONROUT0000000032971874</th>\n",
       "      <td>17-D141E4-1+385</td>\n",
       "    </tr>\n",
       "    <tr>\n",
       "      <th>TRONROUT0000000032969579</th>\n",
       "      <td>17-D141E4-1+385</td>\n",
       "    </tr>\n",
       "    <tr>\n",
       "      <th>TRONROUT0000000032971869</th>\n",
       "      <td>17-D141E4-1+385</td>\n",
       "    </tr>\n",
       "    <tr>\n",
       "      <th>TRONROUT0000000032971892</th>\n",
       "      <td>17-D141E4-1+385</td>\n",
       "    </tr>\n",
       "    <tr>\n",
       "      <th>TRONROUT0000000032967114</th>\n",
       "      <td>17-D141E4-1+385</td>\n",
       "    </tr>\n",
       "    <tr>\n",
       "      <th>TRONROUT0000000032969584</th>\n",
       "      <td>17-D141E4-1+385</td>\n",
       "    </tr>\n",
       "    <tr>\n",
       "      <th>TRONROUT0000002011454759</th>\n",
       "      <td>17-D141E4-1+385</td>\n",
       "    </tr>\n",
       "    <tr>\n",
       "      <th>TRONROUT0000000032969575</th>\n",
       "      <td>17-D141E4-1+385</td>\n",
       "    </tr>\n",
       "    <tr>\n",
       "      <th>TRONROUT0000000032967099</th>\n",
       "      <td>17-D141E4-1+385</td>\n",
       "    </tr>\n",
       "    <tr>\n",
       "      <th>TRONROUT0000000032971895</th>\n",
       "      <td>17-D141E4-1+385</td>\n",
       "    </tr>\n",
       "    <tr>\n",
       "      <th>TRONROUT0000000032967097</th>\n",
       "      <td>17-D141E4-1+385</td>\n",
       "    </tr>\n",
       "    <tr>\n",
       "      <th>TRONROUT0000002011454720</th>\n",
       "      <td>17-D141E4-1+385</td>\n",
       "    </tr>\n",
       "    <tr>\n",
       "      <th>TRONROUT0000000291516747</th>\n",
       "      <td>17-D141E4-1+385</td>\n",
       "    </tr>\n",
       "    <tr>\n",
       "      <th>TRONROUT0000000032967116</th>\n",
       "      <td>17-D141E4-1+385</td>\n",
       "    </tr>\n",
       "    <tr>\n",
       "      <th>TRONROUT0000000291516751</th>\n",
       "      <td>17-D141E4-1+385</td>\n",
       "    </tr>\n",
       "    <tr>\n",
       "      <th>TRONROUT0000000032969576</th>\n",
       "      <td>17-D141E4-1+385</td>\n",
       "    </tr>\n",
       "    <tr>\n",
       "      <th>TRONROUT0000000032967112</th>\n",
       "      <td>17-D141E4-1+385</td>\n",
       "    </tr>\n",
       "    <tr>\n",
       "      <th>TRONROUT0000000032967113</th>\n",
       "      <td>17-D141E4-1+385</td>\n",
       "    </tr>\n",
       "    <tr>\n",
       "      <th>TRONROUT0000000032971870</th>\n",
       "      <td>17-D141E4-1+385</td>\n",
       "    </tr>\n",
       "    <tr>\n",
       "      <th>TRONROUT0000000032969556</th>\n",
       "      <td>17-D141E4-1+385</td>\n",
       "    </tr>\n",
       "    <tr>\n",
       "      <th>TRONROUT0000000244723886</th>\n",
       "      <td>17-D141E4-1+385</td>\n",
       "    </tr>\n",
       "    <tr>\n",
       "      <th>TRONROUT0000000032969577</th>\n",
       "      <td>17-D141E4-1+385</td>\n",
       "    </tr>\n",
       "    <tr>\n",
       "      <th>TRONROUT0000000032971902</th>\n",
       "      <td>17-D141E4-1+385</td>\n",
       "    </tr>\n",
       "    <tr>\n",
       "      <th>TRONROUT0000002010554127</th>\n",
       "      <td>17-D141E4-1+385</td>\n",
       "    </tr>\n",
       "    <tr>\n",
       "      <th>TRONROUT0000000032967117</th>\n",
       "      <td>17-D141E4-1+385</td>\n",
       "    </tr>\n",
       "    <tr>\n",
       "      <th>TRONROUT0000000291516749</th>\n",
       "      <td>17-D141E4-1+385</td>\n",
       "    </tr>\n",
       "    <tr>\n",
       "      <th>TRONROUT0000002011454718</th>\n",
       "      <td>17-D141E4-1+385</td>\n",
       "    </tr>\n",
       "    <tr>\n",
       "      <th>TRONROUT0000000246173630</th>\n",
       "      <td>17-D141E4-1+385</td>\n",
       "    </tr>\n",
       "  </tbody>\n",
       "</table>\n",
       "</div>"
      ],
      "text/plain": [
       "                               id_cpt_fin\n",
       "TRONROUT0000000032971874  17-D141E4-1+385\n",
       "TRONROUT0000000032969579  17-D141E4-1+385\n",
       "TRONROUT0000000032971869  17-D141E4-1+385\n",
       "TRONROUT0000000032971892  17-D141E4-1+385\n",
       "TRONROUT0000000032967114  17-D141E4-1+385\n",
       "TRONROUT0000000032969584  17-D141E4-1+385\n",
       "TRONROUT0000002011454759  17-D141E4-1+385\n",
       "TRONROUT0000000032969575  17-D141E4-1+385\n",
       "TRONROUT0000000032967099  17-D141E4-1+385\n",
       "TRONROUT0000000032971895  17-D141E4-1+385\n",
       "TRONROUT0000000032967097  17-D141E4-1+385\n",
       "TRONROUT0000002011454720  17-D141E4-1+385\n",
       "TRONROUT0000000291516747  17-D141E4-1+385\n",
       "TRONROUT0000000032967116  17-D141E4-1+385\n",
       "TRONROUT0000000291516751  17-D141E4-1+385\n",
       "TRONROUT0000000032969576  17-D141E4-1+385\n",
       "TRONROUT0000000032967112  17-D141E4-1+385\n",
       "TRONROUT0000000032967113  17-D141E4-1+385\n",
       "TRONROUT0000000032971870  17-D141E4-1+385\n",
       "TRONROUT0000000032969556  17-D141E4-1+385\n",
       "TRONROUT0000000244723886  17-D141E4-1+385\n",
       "TRONROUT0000000032969577  17-D141E4-1+385\n",
       "TRONROUT0000000032971902  17-D141E4-1+385\n",
       "TRONROUT0000002010554127  17-D141E4-1+385\n",
       "TRONROUT0000000032967117  17-D141E4-1+385\n",
       "TRONROUT0000000291516749  17-D141E4-1+385\n",
       "TRONROUT0000002011454718  17-D141E4-1+385\n",
       "TRONROUT0000000246173630  17-D141E4-1+385"
      ]
     },
     "execution_count": 48,
     "metadata": {},
     "output_type": "execute_result"
    }
   ],
   "source": [
    "listAffectation[0]"
   ]
  },
  {
   "cell_type": "code",
   "execution_count": null,
   "metadata": {},
   "outputs": [],
   "source": []
  }
 ],
 "metadata": {
  "kernelspec": {
   "display_name": "Python 3",
   "language": "python",
   "name": "python3"
  },
  "language_info": {
   "codemirror_mode": {
    "name": "ipython",
    "version": 3
   },
   "file_extension": ".py",
   "mimetype": "text/x-python",
   "name": "python",
   "nbconvert_exporter": "python",
   "pygments_lexer": "ipython3",
   "version": "3.8.4rc1"
  }
 },
 "nbformat": 4,
 "nbformat_minor": 4
}
