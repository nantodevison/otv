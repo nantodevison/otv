{
 "cells": [
  {
   "cell_type": "markdown",
   "id": "86e02a45-fb55-4a16-9c6c-c23b06f5de72",
   "metadata": {},
   "source": [
    "# ***GRAPH DES DONNEES DE COMPTAGES***\n",
    "> tests sur les données OTV"
   ]
  },
  {
   "cell_type": "code",
   "execution_count": 1,
   "id": "76789803-91a2-469e-ba35-9251f841e2b5",
   "metadata": {},
   "outputs": [],
   "source": [
    "%load_ext autoreload\n",
    "%autoreload 2\n",
    "import sys\n",
    "sys.path.append(r'C:\\Users\\martin.schoreisz\\git\\otv\\otv\\Transfert_Donnees')\n",
    "sys.path.append(r'C:\\Users\\martin.schoreisz\\git\\Outils\\Outils\\Martin_Perso')\n",
    "import Connexion_Transfert as ct\n",
    "\n",
    "import pandas as pd\n",
    "import altair as alt"
   ]
  },
  {
   "cell_type": "markdown",
   "id": "10ca0739-8e29-4dd7-8471-a323d14e6a43",
   "metadata": {},
   "source": [
    "# 1.Analyse du type d'année distincte de comptage en fonction du type de poste"
   ]
  },
  {
   "cell_type": "code",
   "execution_count": 19,
   "id": "25858406-10ec-4b8e-9200-0ba14f14515c",
   "metadata": {},
   "outputs": [],
   "source": [
    "with ct.ConnexionBdd('local_otv_boulot') as c:\n",
    "    rqt=\"select * from qualite.vue_represent_cpt_annee_before\"\n",
    "    df=pd.read_sql(rqt,c.sqlAlchemyConn)\n",
    "grp=df.groupby(['tiertile', 'type_poste']).id_comptag.count().reset_index()"
   ]
  },
  {
   "cell_type": "code",
   "execution_count": 55,
   "id": "952a47ab-1173-4c21-af07-76c9a52b5c83",
   "metadata": {},
   "outputs": [
    {
     "data": {
      "text/html": [
       "\n",
       "<div id=\"altair-viz-027da982d83941b6a4b9af76ba528184\"></div>\n",
       "<script type=\"text/javascript\">\n",
       "  (function(spec, embedOpt){\n",
       "    let outputDiv = document.currentScript.previousElementSibling;\n",
       "    if (outputDiv.id !== \"altair-viz-027da982d83941b6a4b9af76ba528184\") {\n",
       "      outputDiv = document.getElementById(\"altair-viz-027da982d83941b6a4b9af76ba528184\");\n",
       "    }\n",
       "    const paths = {\n",
       "      \"vega\": \"https://cdn.jsdelivr.net/npm//vega@5?noext\",\n",
       "      \"vega-lib\": \"https://cdn.jsdelivr.net/npm//vega-lib?noext\",\n",
       "      \"vega-lite\": \"https://cdn.jsdelivr.net/npm//vega-lite@4.8.1?noext\",\n",
       "      \"vega-embed\": \"https://cdn.jsdelivr.net/npm//vega-embed@6?noext\",\n",
       "    };\n",
       "\n",
       "    function loadScript(lib) {\n",
       "      return new Promise(function(resolve, reject) {\n",
       "        var s = document.createElement('script');\n",
       "        s.src = paths[lib];\n",
       "        s.async = true;\n",
       "        s.onload = () => resolve(paths[lib]);\n",
       "        s.onerror = () => reject(`Error loading script: ${paths[lib]}`);\n",
       "        document.getElementsByTagName(\"head\")[0].appendChild(s);\n",
       "      });\n",
       "    }\n",
       "\n",
       "    function showError(err) {\n",
       "      outputDiv.innerHTML = `<div class=\"error\" style=\"color:red;\">${err}</div>`;\n",
       "      throw err;\n",
       "    }\n",
       "\n",
       "    function displayChart(vegaEmbed) {\n",
       "      vegaEmbed(outputDiv, spec, embedOpt)\n",
       "        .catch(err => showError(`Javascript Error: ${err.message}<br>This usually means there's a typo in your chart specification. See the javascript console for the full traceback.`));\n",
       "    }\n",
       "\n",
       "    if(typeof define === \"function\" && define.amd) {\n",
       "      requirejs.config({paths});\n",
       "      require([\"vega-embed\"], displayChart, err => showError(`Error loading script: ${err.message}`));\n",
       "    } else if (typeof vegaEmbed === \"function\") {\n",
       "      displayChart(vegaEmbed);\n",
       "    } else {\n",
       "      loadScript(\"vega\")\n",
       "        .then(() => loadScript(\"vega-lite\"))\n",
       "        .then(() => loadScript(\"vega-embed\"))\n",
       "        .catch(showError)\n",
       "        .then(() => displayChart(vegaEmbed));\n",
       "    }\n",
       "  })({\"config\": {\"view\": {\"continuousWidth\": 400, \"continuousHeight\": 300}}, \"hconcat\": [{\"mark\": \"bar\", \"encoding\": {\"color\": {\"type\": \"nominal\", \"field\": \"type_poste\"}, \"x\": {\"type\": \"ordinal\", \"field\": \"tiertile\"}, \"y\": {\"type\": \"quantitative\", \"axis\": {\"title\": \"Nb de comptage\"}, \"field\": \"id_comptag\", \"stack\": \"normalize\"}}, \"title\": \"r\\u00e9partitipon des comptage par type\"}, {\"mark\": \"bar\", \"encoding\": {\"color\": {\"type\": \"nominal\", \"field\": \"type_poste\"}, \"x\": {\"type\": \"ordinal\", \"field\": \"tiertile\"}, \"y\": {\"type\": \"quantitative\", \"axis\": {\"title\": \"Nb de comptage\"}, \"field\": \"id_comptag\"}}}], \"data\": {\"name\": \"data-3f0286ef5f17c819f0452bb555a7d435\"}, \"$schema\": \"https://vega.github.io/schema/vega-lite/v4.8.1.json\", \"datasets\": {\"data-3f0286ef5f17c819f0452bb555a7d435\": [{\"tiertile\": 1, \"type_poste\": \"permanent\", \"id_comptag\": 432}, {\"tiertile\": 1, \"type_poste\": \"ponctuel\", \"id_comptag\": 5743}, {\"tiertile\": 1, \"type_poste\": \"tournant\", \"id_comptag\": 2520}, {\"tiertile\": 2, \"type_poste\": \"permanent\", \"id_comptag\": 672}, {\"tiertile\": 2, \"type_poste\": \"ponctuel\", \"id_comptag\": 111}, {\"tiertile\": 2, \"type_poste\": \"tournant\", \"id_comptag\": 776}, {\"tiertile\": 3, \"type_poste\": \"permanent\", \"id_comptag\": 308}, {\"tiertile\": 3, \"type_poste\": \"ponctuel\", \"id_comptag\": 33}, {\"tiertile\": 3, \"type_poste\": \"tournant\", \"id_comptag\": 88}]}}, {\"mode\": \"vega-lite\"});\n",
       "</script>"
      ],
      "text/plain": [
       "alt.HConcatChart(...)"
      ]
     },
     "execution_count": 55,
     "metadata": {},
     "output_type": "execute_result"
    }
   ],
   "source": [
    "g1=alt.Chart(grp, title='répartitipon des comptage par type').mark_bar().encode(\n",
    "    x='tiertile:O', \n",
    "    y=alt.Y('id_comptag:Q', stack='normalize', axis=alt.Axis(title='Nb de comptage')), \n",
    "    color='type_poste:N')\n",
    "g2=alt.Chart(grp).mark_bar().encode(\n",
    "    x='tiertile:O', \n",
    "    y=alt.Y('id_comptag:Q', axis=alt.Axis(title='Nb de comptage')), \n",
    "    color='type_poste:N')\n",
    "g1 | g2"
   ]
  },
  {
   "cell_type": "code",
   "execution_count": 59,
   "id": "a0bfe7a9-7e27-4e78-a4b7-9846bb547029",
   "metadata": {},
   "outputs": [
    {
     "data": {
      "text/html": [
       "\n",
       "<div id=\"altair-viz-1c10f53b6a9f456f8192776cef7b72bc\"></div>\n",
       "<script type=\"text/javascript\">\n",
       "  (function(spec, embedOpt){\n",
       "    let outputDiv = document.currentScript.previousElementSibling;\n",
       "    if (outputDiv.id !== \"altair-viz-1c10f53b6a9f456f8192776cef7b72bc\") {\n",
       "      outputDiv = document.getElementById(\"altair-viz-1c10f53b6a9f456f8192776cef7b72bc\");\n",
       "    }\n",
       "    const paths = {\n",
       "      \"vega\": \"https://cdn.jsdelivr.net/npm//vega@5?noext\",\n",
       "      \"vega-lib\": \"https://cdn.jsdelivr.net/npm//vega-lib?noext\",\n",
       "      \"vega-lite\": \"https://cdn.jsdelivr.net/npm//vega-lite@4.8.1?noext\",\n",
       "      \"vega-embed\": \"https://cdn.jsdelivr.net/npm//vega-embed@6?noext\",\n",
       "    };\n",
       "\n",
       "    function loadScript(lib) {\n",
       "      return new Promise(function(resolve, reject) {\n",
       "        var s = document.createElement('script');\n",
       "        s.src = paths[lib];\n",
       "        s.async = true;\n",
       "        s.onload = () => resolve(paths[lib]);\n",
       "        s.onerror = () => reject(`Error loading script: ${paths[lib]}`);\n",
       "        document.getElementsByTagName(\"head\")[0].appendChild(s);\n",
       "      });\n",
       "    }\n",
       "\n",
       "    function showError(err) {\n",
       "      outputDiv.innerHTML = `<div class=\"error\" style=\"color:red;\">${err}</div>`;\n",
       "      throw err;\n",
       "    }\n",
       "\n",
       "    function displayChart(vegaEmbed) {\n",
       "      vegaEmbed(outputDiv, spec, embedOpt)\n",
       "        .catch(err => showError(`Javascript Error: ${err.message}<br>This usually means there's a typo in your chart specification. See the javascript console for the full traceback.`));\n",
       "    }\n",
       "\n",
       "    if(typeof define === \"function\" && define.amd) {\n",
       "      requirejs.config({paths});\n",
       "      require([\"vega-embed\"], displayChart, err => showError(`Error loading script: ${err.message}`));\n",
       "    } else if (typeof vegaEmbed === \"function\") {\n",
       "      displayChart(vegaEmbed);\n",
       "    } else {\n",
       "      loadScript(\"vega\")\n",
       "        .then(() => loadScript(\"vega-lite\"))\n",
       "        .then(() => loadScript(\"vega-embed\"))\n",
       "        .catch(showError)\n",
       "        .then(() => displayChart(vegaEmbed));\n",
       "    }\n",
       "  })({\"config\": {\"view\": {\"continuousWidth\": 400, \"continuousHeight\": 300}}, \"hconcat\": [{\"mark\": \"bar\", \"encoding\": {\"color\": {\"type\": \"nominal\", \"field\": \"tiertile\"}, \"x\": {\"type\": \"nominal\", \"field\": \"type_poste\"}, \"y\": {\"type\": \"quantitative\", \"axis\": {\"title\": \"Nb de comptage\"}, \"field\": \"id_comptag\", \"stack\": \"normalize\"}}, \"title\": \"r\\u00e9partitipon des comptage par type\"}, {\"mark\": \"bar\", \"encoding\": {\"color\": {\"type\": \"nominal\", \"field\": \"tiertile\"}, \"x\": {\"type\": \"nominal\", \"field\": \"type_poste\"}, \"y\": {\"type\": \"quantitative\", \"axis\": {\"title\": \"Nb de comptage\"}, \"field\": \"id_comptag\"}}}], \"data\": {\"name\": \"data-3f0286ef5f17c819f0452bb555a7d435\"}, \"$schema\": \"https://vega.github.io/schema/vega-lite/v4.8.1.json\", \"datasets\": {\"data-3f0286ef5f17c819f0452bb555a7d435\": [{\"tiertile\": 1, \"type_poste\": \"permanent\", \"id_comptag\": 432}, {\"tiertile\": 1, \"type_poste\": \"ponctuel\", \"id_comptag\": 5743}, {\"tiertile\": 1, \"type_poste\": \"tournant\", \"id_comptag\": 2520}, {\"tiertile\": 2, \"type_poste\": \"permanent\", \"id_comptag\": 672}, {\"tiertile\": 2, \"type_poste\": \"ponctuel\", \"id_comptag\": 111}, {\"tiertile\": 2, \"type_poste\": \"tournant\", \"id_comptag\": 776}, {\"tiertile\": 3, \"type_poste\": \"permanent\", \"id_comptag\": 308}, {\"tiertile\": 3, \"type_poste\": \"ponctuel\", \"id_comptag\": 33}, {\"tiertile\": 3, \"type_poste\": \"tournant\", \"id_comptag\": 88}]}}, {\"mode\": \"vega-lite\"});\n",
       "</script>"
      ],
      "text/plain": [
       "alt.HConcatChart(...)"
      ]
     },
     "execution_count": 59,
     "metadata": {},
     "output_type": "execute_result"
    }
   ],
   "source": [
    "g3=alt.Chart(grp, title='répartitipon des comptage par type').mark_bar().encode(\n",
    "    x='type_poste:N', \n",
    "    y=alt.Y('id_comptag:Q', stack='normalize', axis=alt.Axis(title='Nb de comptage')), \n",
    "    color='tiertile:N')\n",
    "g4=alt.Chart(grp).mark_bar().encode(\n",
    "    x='type_poste:N', \n",
    "    y=alt.Y('id_comptag:Q', axis=alt.Axis(title='Nb de comptage')), \n",
    "    color='tiertile:N')\n",
    "g3 | g4"
   ]
  },
  {
   "cell_type": "code",
   "execution_count": 60,
   "id": "77bbb63c-2b89-4537-aa96-365a8a5efc91",
   "metadata": {},
   "outputs": [],
   "source": [
    "with ct.ConnexionBdd('local_otv_boulot') as c:\n",
    "    rqt=\"select * from qualite.vue_represent_globale\"\n",
    "    df=pd.read_sql(rqt,c.sqlAlchemyConn)"
   ]
  },
  {
   "cell_type": "code",
   "execution_count": 103,
   "id": "b0b34923-7789-41e1-89e1-de94fd760c00",
   "metadata": {},
   "outputs": [],
   "source": [
    "grp_global=df.groupby(['note_represent_globale', 'type_poste']).id.count().reset_index().merge(\n",
    "                      pd.DataFrame({'txt_note':['non representatif', 'faible', 'moyenne', 'bonne'],\n",
    "                                     'num_note':[0,1,3,6]}), left_on='note_represent_globale',\n",
    "                      right_on='num_note')"
   ]
  },
  {
   "cell_type": "code",
   "execution_count": 126,
   "id": "c8726faa-6eac-4fa9-be2b-0c02ca68f00c",
   "metadata": {},
   "outputs": [
    {
     "data": {
      "text/html": [
       "\n",
       "<div id=\"altair-viz-a8e280a033ee43acb182b8b38904ee57\"></div>\n",
       "<script type=\"text/javascript\">\n",
       "  (function(spec, embedOpt){\n",
       "    let outputDiv = document.currentScript.previousElementSibling;\n",
       "    if (outputDiv.id !== \"altair-viz-a8e280a033ee43acb182b8b38904ee57\") {\n",
       "      outputDiv = document.getElementById(\"altair-viz-a8e280a033ee43acb182b8b38904ee57\");\n",
       "    }\n",
       "    const paths = {\n",
       "      \"vega\": \"https://cdn.jsdelivr.net/npm//vega@5?noext\",\n",
       "      \"vega-lib\": \"https://cdn.jsdelivr.net/npm//vega-lib?noext\",\n",
       "      \"vega-lite\": \"https://cdn.jsdelivr.net/npm//vega-lite@4.8.1?noext\",\n",
       "      \"vega-embed\": \"https://cdn.jsdelivr.net/npm//vega-embed@6?noext\",\n",
       "    };\n",
       "\n",
       "    function loadScript(lib) {\n",
       "      return new Promise(function(resolve, reject) {\n",
       "        var s = document.createElement('script');\n",
       "        s.src = paths[lib];\n",
       "        s.async = true;\n",
       "        s.onload = () => resolve(paths[lib]);\n",
       "        s.onerror = () => reject(`Error loading script: ${paths[lib]}`);\n",
       "        document.getElementsByTagName(\"head\")[0].appendChild(s);\n",
       "      });\n",
       "    }\n",
       "\n",
       "    function showError(err) {\n",
       "      outputDiv.innerHTML = `<div class=\"error\" style=\"color:red;\">${err}</div>`;\n",
       "      throw err;\n",
       "    }\n",
       "\n",
       "    function displayChart(vegaEmbed) {\n",
       "      vegaEmbed(outputDiv, spec, embedOpt)\n",
       "        .catch(err => showError(`Javascript Error: ${err.message}<br>This usually means there's a typo in your chart specification. See the javascript console for the full traceback.`));\n",
       "    }\n",
       "\n",
       "    if(typeof define === \"function\" && define.amd) {\n",
       "      requirejs.config({paths});\n",
       "      require([\"vega-embed\"], displayChart, err => showError(`Error loading script: ${err.message}`));\n",
       "    } else if (typeof vegaEmbed === \"function\") {\n",
       "      displayChart(vegaEmbed);\n",
       "    } else {\n",
       "      loadScript(\"vega\")\n",
       "        .then(() => loadScript(\"vega-lite\"))\n",
       "        .then(() => loadScript(\"vega-embed\"))\n",
       "        .catch(showError)\n",
       "        .then(() => displayChart(vegaEmbed));\n",
       "    }\n",
       "  })({\"config\": {\"view\": {\"continuousWidth\": 400, \"continuousHeight\": 300}}, \"data\": {\"name\": \"data-67abf8c32648ef1bcd182f0374f93c63\"}, \"mark\": {\"type\": \"bar\", \"width\": 40}, \"encoding\": {\"color\": {\"type\": \"nominal\", \"field\": \"type_poste\"}, \"x\": {\"type\": \"nominal\", \"axis\": {\"labelAngle\": 315, \"title\": \"Repr\\u00e9sentativit\\u00e9\"}, \"field\": \"txt_note\", \"sort\": [\"note_represent_globale\"]}, \"y\": {\"type\": \"quantitative\", \"axis\": {\"title\": \"Nb de comptage\"}, \"field\": \"id\"}}, \"title\": [\"R\\u00e9partition des comptages selon la repr\\u00e9sentativit\\u00e9 globale\", \"et le type de poste\"], \"width\": 300, \"$schema\": \"https://vega.github.io/schema/vega-lite/v4.8.1.json\", \"datasets\": {\"data-67abf8c32648ef1bcd182f0374f93c63\": [{\"note_represent_globale\": 0, \"type_poste\": \"permanent\", \"id\": 3, \"txt_note\": \"non representatif\", \"num_note\": 0}, {\"note_represent_globale\": 0, \"type_poste\": \"ponctuel\", \"id\": 103, \"txt_note\": \"non representatif\", \"num_note\": 0}, {\"note_represent_globale\": 0, \"type_poste\": \"tournant\", \"id\": 7, \"txt_note\": \"non representatif\", \"num_note\": 0}, {\"note_represent_globale\": 1, \"type_poste\": \"permanent\", \"id\": 12, \"txt_note\": \"faible\", \"num_note\": 1}, {\"note_represent_globale\": 1, \"type_poste\": \"ponctuel\", \"id\": 4697, \"txt_note\": \"faible\", \"num_note\": 1}, {\"note_represent_globale\": 1, \"type_poste\": \"tournant\", \"id\": 432, \"txt_note\": \"faible\", \"num_note\": 1}, {\"note_represent_globale\": 3, \"type_poste\": \"permanent\", \"id\": 2013, \"txt_note\": \"moyenne\", \"num_note\": 3}, {\"note_represent_globale\": 3, \"type_poste\": \"ponctuel\", \"id\": 2982, \"txt_note\": \"moyenne\", \"num_note\": 3}, {\"note_represent_globale\": 3, \"type_poste\": \"tournant\", \"id\": 9600, \"txt_note\": \"moyenne\", \"num_note\": 3}, {\"note_represent_globale\": 6, \"type_poste\": \"permanent\", \"id\": 6023, \"txt_note\": \"bonne\", \"num_note\": 6}, {\"note_represent_globale\": 6, \"type_poste\": \"ponctuel\", \"id\": 77, \"txt_note\": \"bonne\", \"num_note\": 6}, {\"note_represent_globale\": 6, \"type_poste\": \"tournant\", \"id\": 652, \"txt_note\": \"bonne\", \"num_note\": 6}]}}, {\"mode\": \"vega-lite\"});\n",
       "</script>"
      ],
      "text/plain": [
       "alt.Chart(...)"
      ]
     },
     "execution_count": 126,
     "metadata": {},
     "output_type": "execute_result"
    }
   ],
   "source": [
    "alt.Chart(grp_global, title=['Répartition des comptages selon la représentativité globale','et le type de poste'], width=300).mark_bar(width=40).encode(\n",
    "    x=alt.X('txt_note:N', sort=['note_represent_globale'], axis=alt.Axis(title='Représentativité', labelAngle=315)), \n",
    "    y=alt.Y('id:Q',axis=alt.Axis(title='Nb de comptage')),\n",
    "    color='type_poste')"
   ]
  },
  {
   "cell_type": "code",
   "execution_count": 127,
   "id": "8d213f19-98e1-4d03-8837-b9954bf5035c",
   "metadata": {},
   "outputs": [
    {
     "data": {
      "text/html": [
       "\n",
       "<div id=\"altair-viz-759ef41c357b4ce794345aa6596bfdf4\"></div>\n",
       "<script type=\"text/javascript\">\n",
       "  (function(spec, embedOpt){\n",
       "    let outputDiv = document.currentScript.previousElementSibling;\n",
       "    if (outputDiv.id !== \"altair-viz-759ef41c357b4ce794345aa6596bfdf4\") {\n",
       "      outputDiv = document.getElementById(\"altair-viz-759ef41c357b4ce794345aa6596bfdf4\");\n",
       "    }\n",
       "    const paths = {\n",
       "      \"vega\": \"https://cdn.jsdelivr.net/npm//vega@5?noext\",\n",
       "      \"vega-lib\": \"https://cdn.jsdelivr.net/npm//vega-lib?noext\",\n",
       "      \"vega-lite\": \"https://cdn.jsdelivr.net/npm//vega-lite@4.8.1?noext\",\n",
       "      \"vega-embed\": \"https://cdn.jsdelivr.net/npm//vega-embed@6?noext\",\n",
       "    };\n",
       "\n",
       "    function loadScript(lib) {\n",
       "      return new Promise(function(resolve, reject) {\n",
       "        var s = document.createElement('script');\n",
       "        s.src = paths[lib];\n",
       "        s.async = true;\n",
       "        s.onload = () => resolve(paths[lib]);\n",
       "        s.onerror = () => reject(`Error loading script: ${paths[lib]}`);\n",
       "        document.getElementsByTagName(\"head\")[0].appendChild(s);\n",
       "      });\n",
       "    }\n",
       "\n",
       "    function showError(err) {\n",
       "      outputDiv.innerHTML = `<div class=\"error\" style=\"color:red;\">${err}</div>`;\n",
       "      throw err;\n",
       "    }\n",
       "\n",
       "    function displayChart(vegaEmbed) {\n",
       "      vegaEmbed(outputDiv, spec, embedOpt)\n",
       "        .catch(err => showError(`Javascript Error: ${err.message}<br>This usually means there's a typo in your chart specification. See the javascript console for the full traceback.`));\n",
       "    }\n",
       "\n",
       "    if(typeof define === \"function\" && define.amd) {\n",
       "      requirejs.config({paths});\n",
       "      require([\"vega-embed\"], displayChart, err => showError(`Error loading script: ${err.message}`));\n",
       "    } else if (typeof vegaEmbed === \"function\") {\n",
       "      displayChart(vegaEmbed);\n",
       "    } else {\n",
       "      loadScript(\"vega\")\n",
       "        .then(() => loadScript(\"vega-lite\"))\n",
       "        .then(() => loadScript(\"vega-embed\"))\n",
       "        .catch(showError)\n",
       "        .then(() => displayChart(vegaEmbed));\n",
       "    }\n",
       "  })({\"config\": {\"view\": {\"continuousWidth\": 400, \"continuousHeight\": 300}}, \"data\": {\"name\": \"data-59c11463f392abf6486978e30c07b176\"}, \"mark\": {\"type\": \"bar\", \"width\": 40}, \"encoding\": {\"color\": {\"type\": \"nominal\", \"field\": \"txt_note\", \"legend\": {\"title\": \"Repr\\u00e9sentativit\\u00e9\"}}, \"x\": {\"type\": \"quantitative\", \"axis\": {\"labelColor\": \"white\", \"title\": null}, \"field\": \"cst\"}, \"y\": {\"type\": \"quantitative\", \"axis\": {\"title\": \"Nb de comptage\"}, \"field\": \"id\", \"stack\": \"normalize\"}}, \"title\": [\"R\\u00e9partition des comptages selon la repr\\u00e9sentativit\\u00e9 globale\"], \"width\": 300, \"$schema\": \"https://vega.github.io/schema/vega-lite/v4.8.1.json\", \"datasets\": {\"data-59c11463f392abf6486978e30c07b176\": [{\"note_represent_globale\": 0, \"type_poste\": \"permanent\", \"id\": 3, \"txt_note\": \"non representatif\", \"num_note\": 0, \"cst\": 1}, {\"note_represent_globale\": 0, \"type_poste\": \"ponctuel\", \"id\": 103, \"txt_note\": \"non representatif\", \"num_note\": 0, \"cst\": 1}, {\"note_represent_globale\": 0, \"type_poste\": \"tournant\", \"id\": 7, \"txt_note\": \"non representatif\", \"num_note\": 0, \"cst\": 1}, {\"note_represent_globale\": 1, \"type_poste\": \"permanent\", \"id\": 12, \"txt_note\": \"faible\", \"num_note\": 1, \"cst\": 1}, {\"note_represent_globale\": 1, \"type_poste\": \"ponctuel\", \"id\": 4697, \"txt_note\": \"faible\", \"num_note\": 1, \"cst\": 1}, {\"note_represent_globale\": 1, \"type_poste\": \"tournant\", \"id\": 432, \"txt_note\": \"faible\", \"num_note\": 1, \"cst\": 1}, {\"note_represent_globale\": 3, \"type_poste\": \"permanent\", \"id\": 2013, \"txt_note\": \"moyenne\", \"num_note\": 3, \"cst\": 1}, {\"note_represent_globale\": 3, \"type_poste\": \"ponctuel\", \"id\": 2982, \"txt_note\": \"moyenne\", \"num_note\": 3, \"cst\": 1}, {\"note_represent_globale\": 3, \"type_poste\": \"tournant\", \"id\": 9600, \"txt_note\": \"moyenne\", \"num_note\": 3, \"cst\": 1}, {\"note_represent_globale\": 6, \"type_poste\": \"permanent\", \"id\": 6023, \"txt_note\": \"bonne\", \"num_note\": 6, \"cst\": 1}, {\"note_represent_globale\": 6, \"type_poste\": \"ponctuel\", \"id\": 77, \"txt_note\": \"bonne\", \"num_note\": 6, \"cst\": 1}, {\"note_represent_globale\": 6, \"type_poste\": \"tournant\", \"id\": 652, \"txt_note\": \"bonne\", \"num_note\": 6, \"cst\": 1}]}}, {\"mode\": \"vega-lite\"});\n",
       "</script>"
      ],
      "text/plain": [
       "alt.Chart(...)"
      ]
     },
     "execution_count": 127,
     "metadata": {},
     "output_type": "execute_result"
    }
   ],
   "source": [
    "alt.Chart(grp_global.assign(cst=1), title=['Répartition des comptages selon la représentativité globale'], width=300).mark_bar(width=40).encode(\n",
    "    x=alt.X('cst', axis=alt.Axis(title=None, labelColor='white')), \n",
    "    y=alt.Y('id:Q',axis=alt.Axis(title='Nb de comptage'), stack='normalize'),\n",
    "    color=alt.Color('txt_note:N',legend=alt.Legend(title='Représentativité')))"
   ]
  },
  {
   "cell_type": "code",
   "execution_count": 130,
   "id": "c3d2017f-cbd3-47bc-912c-910de94e811c",
   "metadata": {},
   "outputs": [
    {
     "data": {
      "text/html": [
       "\n",
       "<div id=\"altair-viz-b12667958e4a40218872bd17d710be0e\"></div>\n",
       "<script type=\"text/javascript\">\n",
       "  (function(spec, embedOpt){\n",
       "    let outputDiv = document.currentScript.previousElementSibling;\n",
       "    if (outputDiv.id !== \"altair-viz-b12667958e4a40218872bd17d710be0e\") {\n",
       "      outputDiv = document.getElementById(\"altair-viz-b12667958e4a40218872bd17d710be0e\");\n",
       "    }\n",
       "    const paths = {\n",
       "      \"vega\": \"https://cdn.jsdelivr.net/npm//vega@5?noext\",\n",
       "      \"vega-lib\": \"https://cdn.jsdelivr.net/npm//vega-lib?noext\",\n",
       "      \"vega-lite\": \"https://cdn.jsdelivr.net/npm//vega-lite@4.8.1?noext\",\n",
       "      \"vega-embed\": \"https://cdn.jsdelivr.net/npm//vega-embed@6?noext\",\n",
       "    };\n",
       "\n",
       "    function loadScript(lib) {\n",
       "      return new Promise(function(resolve, reject) {\n",
       "        var s = document.createElement('script');\n",
       "        s.src = paths[lib];\n",
       "        s.async = true;\n",
       "        s.onload = () => resolve(paths[lib]);\n",
       "        s.onerror = () => reject(`Error loading script: ${paths[lib]}`);\n",
       "        document.getElementsByTagName(\"head\")[0].appendChild(s);\n",
       "      });\n",
       "    }\n",
       "\n",
       "    function showError(err) {\n",
       "      outputDiv.innerHTML = `<div class=\"error\" style=\"color:red;\">${err}</div>`;\n",
       "      throw err;\n",
       "    }\n",
       "\n",
       "    function displayChart(vegaEmbed) {\n",
       "      vegaEmbed(outputDiv, spec, embedOpt)\n",
       "        .catch(err => showError(`Javascript Error: ${err.message}<br>This usually means there's a typo in your chart specification. See the javascript console for the full traceback.`));\n",
       "    }\n",
       "\n",
       "    if(typeof define === \"function\" && define.amd) {\n",
       "      requirejs.config({paths});\n",
       "      require([\"vega-embed\"], displayChart, err => showError(`Error loading script: ${err.message}`));\n",
       "    } else if (typeof vegaEmbed === \"function\") {\n",
       "      displayChart(vegaEmbed);\n",
       "    } else {\n",
       "      loadScript(\"vega\")\n",
       "        .then(() => loadScript(\"vega-lite\"))\n",
       "        .then(() => loadScript(\"vega-embed\"))\n",
       "        .catch(showError)\n",
       "        .then(() => displayChart(vegaEmbed));\n",
       "    }\n",
       "  })({\"config\": {\"view\": {\"continuousWidth\": 400, \"continuousHeight\": 300}}, \"data\": {\"name\": \"data-67abf8c32648ef1bcd182f0374f93c63\"}, \"mark\": {\"type\": \"bar\", \"width\": 40}, \"encoding\": {\"color\": {\"type\": \"nominal\", \"field\": \"txt_note\", \"legend\": {\"title\": \"Repr\\u00e9sentativit\\u00e9\"}}, \"x\": {\"type\": \"nominal\", \"axis\": {\"labelAngle\": 315, \"title\": \"type de poste\"}, \"field\": \"type_poste\"}, \"y\": {\"type\": \"quantitative\", \"axis\": {\"title\": \"Nb de comptage\"}, \"field\": \"id\", \"stack\": \"normalize\"}}, \"title\": [\"R\\u00e9partition des comptages selon la repr\\u00e9sentativit\\u00e9 globale\", \"et le type de poste\"], \"width\": 300, \"$schema\": \"https://vega.github.io/schema/vega-lite/v4.8.1.json\", \"datasets\": {\"data-67abf8c32648ef1bcd182f0374f93c63\": [{\"note_represent_globale\": 0, \"type_poste\": \"permanent\", \"id\": 3, \"txt_note\": \"non representatif\", \"num_note\": 0}, {\"note_represent_globale\": 0, \"type_poste\": \"ponctuel\", \"id\": 103, \"txt_note\": \"non representatif\", \"num_note\": 0}, {\"note_represent_globale\": 0, \"type_poste\": \"tournant\", \"id\": 7, \"txt_note\": \"non representatif\", \"num_note\": 0}, {\"note_represent_globale\": 1, \"type_poste\": \"permanent\", \"id\": 12, \"txt_note\": \"faible\", \"num_note\": 1}, {\"note_represent_globale\": 1, \"type_poste\": \"ponctuel\", \"id\": 4697, \"txt_note\": \"faible\", \"num_note\": 1}, {\"note_represent_globale\": 1, \"type_poste\": \"tournant\", \"id\": 432, \"txt_note\": \"faible\", \"num_note\": 1}, {\"note_represent_globale\": 3, \"type_poste\": \"permanent\", \"id\": 2013, \"txt_note\": \"moyenne\", \"num_note\": 3}, {\"note_represent_globale\": 3, \"type_poste\": \"ponctuel\", \"id\": 2982, \"txt_note\": \"moyenne\", \"num_note\": 3}, {\"note_represent_globale\": 3, \"type_poste\": \"tournant\", \"id\": 9600, \"txt_note\": \"moyenne\", \"num_note\": 3}, {\"note_represent_globale\": 6, \"type_poste\": \"permanent\", \"id\": 6023, \"txt_note\": \"bonne\", \"num_note\": 6}, {\"note_represent_globale\": 6, \"type_poste\": \"ponctuel\", \"id\": 77, \"txt_note\": \"bonne\", \"num_note\": 6}, {\"note_represent_globale\": 6, \"type_poste\": \"tournant\", \"id\": 652, \"txt_note\": \"bonne\", \"num_note\": 6}]}}, {\"mode\": \"vega-lite\"});\n",
       "</script>"
      ],
      "text/plain": [
       "alt.Chart(...)"
      ]
     },
     "execution_count": 130,
     "metadata": {},
     "output_type": "execute_result"
    }
   ],
   "source": [
    "alt.Chart(grp_global, title=['Répartition des comptages selon la représentativité globale','et le type de poste'], width=300).mark_bar(width=40).encode(\n",
    "    x=alt.X('type_poste:N', axis=alt.Axis(title='type de poste', labelAngle=315)), \n",
    "    y=alt.Y('id:Q',axis=alt.Axis(title='Nb de comptage'), stack='normalize'),\n",
    "    color=alt.Color('txt_note:N',legend=alt.Legend(title='Représentativité')))"
   ]
  },
  {
   "cell_type": "markdown",
   "id": "79f21657-7ce3-4b81-b892-3ca8438ba5e9",
   "metadata": {},
   "source": [
    "# 2.Analyse de l'exhaustivite des données"
   ]
  },
  {
   "cell_type": "code",
   "execution_count": 6,
   "id": "e9cfb79b-7387-4b0b-9931-60f7d7eac2ad",
   "metadata": {},
   "outputs": [],
   "source": [
    "with ct.ConnexionBdd('local_otv_boulot') as c:\n",
    "    rqt=\"select * from qualite.vue_exaust_globale\"\n",
    "    df=pd.read_sql(rqt,c.sqlAlchemyConn)"
   ]
  },
  {
   "cell_type": "code",
   "execution_count": 20,
   "id": "a23f1b08-cb8e-4aec-a375-0a6178a5f8ec",
   "metadata": {},
   "outputs": [],
   "source": [
    "grp=df.groupby(['note_finale_txt', 'type_poste']).id_comptag.count().reset_index().merge(pd.DataFrame({'color_index':[1,2,3], 'note_finale_txt':['faible', 'moyenne', 'bonne']}), on='note_finale_txt')"
   ]
  },
  {
   "cell_type": "code",
   "execution_count": 21,
   "id": "6db59abc-c1c1-4b0c-bff2-36635eafc26f",
   "metadata": {},
   "outputs": [
    {
     "data": {
      "text/html": [
       "<div>\n",
       "<style scoped>\n",
       "    .dataframe tbody tr th:only-of-type {\n",
       "        vertical-align: middle;\n",
       "    }\n",
       "\n",
       "    .dataframe tbody tr th {\n",
       "        vertical-align: top;\n",
       "    }\n",
       "\n",
       "    .dataframe thead th {\n",
       "        text-align: right;\n",
       "    }\n",
       "</style>\n",
       "<table border=\"1\" class=\"dataframe\">\n",
       "  <thead>\n",
       "    <tr style=\"text-align: right;\">\n",
       "      <th></th>\n",
       "      <th>note_finale_txt</th>\n",
       "      <th>type_poste</th>\n",
       "      <th>id_comptag</th>\n",
       "      <th>color_index</th>\n",
       "    </tr>\n",
       "  </thead>\n",
       "  <tbody>\n",
       "    <tr>\n",
       "      <th>0</th>\n",
       "      <td>bonne</td>\n",
       "      <td>permanent</td>\n",
       "      <td>822</td>\n",
       "      <td>3</td>\n",
       "    </tr>\n",
       "    <tr>\n",
       "      <th>1</th>\n",
       "      <td>faible</td>\n",
       "      <td>permanent</td>\n",
       "      <td>1709</td>\n",
       "      <td>1</td>\n",
       "    </tr>\n",
       "    <tr>\n",
       "      <th>2</th>\n",
       "      <td>faible</td>\n",
       "      <td>ponctuel</td>\n",
       "      <td>3916</td>\n",
       "      <td>1</td>\n",
       "    </tr>\n",
       "    <tr>\n",
       "      <th>3</th>\n",
       "      <td>faible</td>\n",
       "      <td>tournant</td>\n",
       "      <td>2523</td>\n",
       "      <td>1</td>\n",
       "    </tr>\n",
       "    <tr>\n",
       "      <th>4</th>\n",
       "      <td>moyenne</td>\n",
       "      <td>permanent</td>\n",
       "      <td>5520</td>\n",
       "      <td>2</td>\n",
       "    </tr>\n",
       "    <tr>\n",
       "      <th>5</th>\n",
       "      <td>moyenne</td>\n",
       "      <td>ponctuel</td>\n",
       "      <td>3943</td>\n",
       "      <td>2</td>\n",
       "    </tr>\n",
       "    <tr>\n",
       "      <th>6</th>\n",
       "      <td>moyenne</td>\n",
       "      <td>tournant</td>\n",
       "      <td>8168</td>\n",
       "      <td>2</td>\n",
       "    </tr>\n",
       "  </tbody>\n",
       "</table>\n",
       "</div>"
      ],
      "text/plain": [
       "  note_finale_txt type_poste  id_comptag  color_index\n",
       "0           bonne  permanent         822            3\n",
       "1          faible  permanent        1709            1\n",
       "2          faible   ponctuel        3916            1\n",
       "3          faible   tournant        2523            1\n",
       "4         moyenne  permanent        5520            2\n",
       "5         moyenne   ponctuel        3943            2\n",
       "6         moyenne   tournant        8168            2"
      ]
     },
     "execution_count": 21,
     "metadata": {},
     "output_type": "execute_result"
    }
   ],
   "source": [
    "grp"
   ]
  },
  {
   "cell_type": "code",
   "execution_count": 22,
   "id": "4b0f0d3d-c78c-4665-946a-daaa7df6e77c",
   "metadata": {},
   "outputs": [
    {
     "data": {
      "text/html": [
       "\n",
       "<div id=\"altair-viz-5fbdbd54510d4ee1ae8299bf30f75cf9\"></div>\n",
       "<script type=\"text/javascript\">\n",
       "  (function(spec, embedOpt){\n",
       "    let outputDiv = document.currentScript.previousElementSibling;\n",
       "    if (outputDiv.id !== \"altair-viz-5fbdbd54510d4ee1ae8299bf30f75cf9\") {\n",
       "      outputDiv = document.getElementById(\"altair-viz-5fbdbd54510d4ee1ae8299bf30f75cf9\");\n",
       "    }\n",
       "    const paths = {\n",
       "      \"vega\": \"https://cdn.jsdelivr.net/npm//vega@5?noext\",\n",
       "      \"vega-lib\": \"https://cdn.jsdelivr.net/npm//vega-lib?noext\",\n",
       "      \"vega-lite\": \"https://cdn.jsdelivr.net/npm//vega-lite@4.8.1?noext\",\n",
       "      \"vega-embed\": \"https://cdn.jsdelivr.net/npm//vega-embed@6?noext\",\n",
       "    };\n",
       "\n",
       "    function loadScript(lib) {\n",
       "      return new Promise(function(resolve, reject) {\n",
       "        var s = document.createElement('script');\n",
       "        s.src = paths[lib];\n",
       "        s.async = true;\n",
       "        s.onload = () => resolve(paths[lib]);\n",
       "        s.onerror = () => reject(`Error loading script: ${paths[lib]}`);\n",
       "        document.getElementsByTagName(\"head\")[0].appendChild(s);\n",
       "      });\n",
       "    }\n",
       "\n",
       "    function showError(err) {\n",
       "      outputDiv.innerHTML = `<div class=\"error\" style=\"color:red;\">${err}</div>`;\n",
       "      throw err;\n",
       "    }\n",
       "\n",
       "    function displayChart(vegaEmbed) {\n",
       "      vegaEmbed(outputDiv, spec, embedOpt)\n",
       "        .catch(err => showError(`Javascript Error: ${err.message}<br>This usually means there's a typo in your chart specification. See the javascript console for the full traceback.`));\n",
       "    }\n",
       "\n",
       "    if(typeof define === \"function\" && define.amd) {\n",
       "      requirejs.config({paths});\n",
       "      require([\"vega-embed\"], displayChart, err => showError(`Error loading script: ${err.message}`));\n",
       "    } else if (typeof vegaEmbed === \"function\") {\n",
       "      displayChart(vegaEmbed);\n",
       "    } else {\n",
       "      loadScript(\"vega\")\n",
       "        .then(() => loadScript(\"vega-lite\"))\n",
       "        .then(() => loadScript(\"vega-embed\"))\n",
       "        .catch(showError)\n",
       "        .then(() => displayChart(vegaEmbed));\n",
       "    }\n",
       "  })({\"config\": {\"view\": {\"continuousWidth\": 400, \"continuousHeight\": 300}}, \"data\": {\"name\": \"data-a83ea1c44e662afc764f09809f9f365f\"}, \"mark\": {\"type\": \"bar\", \"width\": 40}, \"encoding\": {\"color\": {\"type\": \"nominal\", \"field\": \"note_finale_txt\", \"legend\": {\"title\": \"Repr\\u00e9sentativit\\u00e9\"}, \"sort\": [\"faible\", \"moyenne\", \"bonne\"]}, \"order\": {\"type\": \"quantitative\", \"field\": \"color_index\", \"sort\": \"ascending\"}, \"x\": {\"type\": \"nominal\", \"axis\": {\"labelAngle\": 315, \"title\": \"type de poste\"}, \"field\": \"type_poste\", \"sort\": [\"ponctuel\", \"tournant\", \"permanent\"]}, \"y\": {\"type\": \"quantitative\", \"axis\": {\"title\": \"Nb de comptage\"}, \"field\": \"id_comptag\", \"stack\": \"normalize\"}}, \"title\": [\"R\\u00e9partition des comptages selon l'exhaustivit\\u00e9 globale\", \"et le type de poste\"], \"width\": 300, \"$schema\": \"https://vega.github.io/schema/vega-lite/v4.8.1.json\", \"datasets\": {\"data-a83ea1c44e662afc764f09809f9f365f\": [{\"note_finale_txt\": \"bonne\", \"type_poste\": \"permanent\", \"id_comptag\": 822, \"color_index\": 3}, {\"note_finale_txt\": \"faible\", \"type_poste\": \"permanent\", \"id_comptag\": 1709, \"color_index\": 1}, {\"note_finale_txt\": \"faible\", \"type_poste\": \"ponctuel\", \"id_comptag\": 3916, \"color_index\": 1}, {\"note_finale_txt\": \"faible\", \"type_poste\": \"tournant\", \"id_comptag\": 2523, \"color_index\": 1}, {\"note_finale_txt\": \"moyenne\", \"type_poste\": \"permanent\", \"id_comptag\": 5520, \"color_index\": 2}, {\"note_finale_txt\": \"moyenne\", \"type_poste\": \"ponctuel\", \"id_comptag\": 3943, \"color_index\": 2}, {\"note_finale_txt\": \"moyenne\", \"type_poste\": \"tournant\", \"id_comptag\": 8168, \"color_index\": 2}]}}, {\"mode\": \"vega-lite\"});\n",
       "</script>"
      ],
      "text/plain": [
       "alt.Chart(...)"
      ]
     },
     "execution_count": 22,
     "metadata": {},
     "output_type": "execute_result"
    }
   ],
   "source": [
    "alt.Chart(grp, title=['Répartition des comptages selon l\\'exhaustivité globale','et le type de poste'], width=300).mark_bar(width=40).encode(\n",
    "    x=alt.X('type_poste:N', axis=alt.Axis(title='type de poste', labelAngle=315), sort=['ponctuel', 'tournant', 'permanent']), \n",
    "    y=alt.Y('id_comptag:Q',axis=alt.Axis(title='Nb de comptage'), stack='normalize'),\n",
    "    color=alt.Color('note_finale_txt:N',legend=alt.Legend(title='Représentativité'), sort=['faible', 'moyenne', 'bonne']),\n",
    "    order =alt.Order('color_index:Q', sort='ascending'))"
   ]
  },
  {
   "cell_type": "code",
   "execution_count": null,
   "id": "20fed38d-cd8e-4b0a-8e13-c2331f25e7e3",
   "metadata": {},
   "outputs": [],
   "source": []
  }
 ],
 "metadata": {
  "kernelspec": {
   "display_name": "Python 3 (ipykernel)",
   "language": "python",
   "name": "python3"
  },
  "language_info": {
   "codemirror_mode": {
    "name": "ipython",
    "version": 3
   },
   "file_extension": ".py",
   "mimetype": "text/x-python",
   "name": "python",
   "nbconvert_exporter": "python",
   "pygments_lexer": "ipython3",
   "version": "3.9.6"
  }
 },
 "nbformat": 4,
 "nbformat_minor": 5
}
