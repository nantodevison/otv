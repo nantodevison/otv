{
 "cells": [
  {
   "cell_type": "code",
   "execution_count": 1,
   "metadata": {},
   "outputs": [],
   "source": [
    "%load_ext autoreload\n",
    "%autoreload 2\n",
    "import sys #c'est pas propre mais pour le moment pour importer mes modules perso dans le notebook je ne sais pas faire\n",
    "sys.path.append(r'C:\\Users\\martin.schoreisz\\git\\Outils\\Outils\\Martin_Perso')\n",
    "sys.path.append(r'C:\\Users\\martin.schoreisz\\git\\otv\\otv\\Transfert_Donnees')\n",
    "import agrege_troncon as at\n",
    "import Connexion_Transfert as ct\n",
    "import matplotlib, os, fiona\n",
    "import geopandas as gp\n",
    "import pandas as pd\n",
    "import numpy as np\n",
    "from datetime import datetime\n",
    "import Connexion_Transfert as ct\n",
    "from shapely.wkt import loads\n",
    "from shapely.ops import nearest_points, polygonize, linemerge\n",
    "from collections import Counter\n",
    "import Outils\n",
    "#pd.set_option('display.max_colwidth', 1000)\n",
    "pd.set_option('display.max_columns', 50)\n",
    "pd.set_option('display.max_colwidth', 200)"
   ]
  },
  {
   "cell_type": "markdown",
   "metadata": {},
   "source": [
    "# A FAIRE : 1\n",
    "- \"triangle\" multiple : TRONROUT0000000032823937\n",
    "- mauvais split : TRONROUT0000000032848625\n",
    "- gestion separation\n",
    "- 2*2 voies voies communales : TRONROUT0000000032848788 (ss les rd points ç amarche bien, ça pourrait etre une solution...)"
   ]
  },
  {
   "cell_type": "markdown",
   "metadata": {},
   "source": [
    "# IMPORTER LES DONNEES \n",
    "> depuis la base de données locale, en ne prenant en compte que les lignes qui intersectent une zone carré au N-O"
   ]
  },
  {
   "cell_type": "code",
   "execution_count": 196,
   "metadata": {},
   "outputs": [],
   "source": [
    "df=at.import_donnes_base('local_otv')\n",
    "df2_chaussees=df.loc[df.nature.isin(['Autoroute', 'Quasi-autoroute', 'Route à 2 chaussées'])]"
   ]
  },
  {
   "cell_type": "markdown",
   "metadata": {},
   "source": [
    "# 1 RONDS POINTS"
   ]
  },
  {
   "cell_type": "code",
   "execution_count": 197,
   "metadata": {},
   "outputs": [],
   "source": [
    "df_avec_rd_pt,carac_rd_pt=at.identifier_rd_pt(df)"
   ]
  },
  {
   "cell_type": "code",
   "execution_count": 186,
   "metadata": {},
   "outputs": [],
   "source": [
    "df_avec_rd_pt[['id_ign', 'geom', 'id', 'nature', 'numero', 'importance', 'cl_admin',\n",
    "       'gestion', 'mise_serv', 'fictif', 'franchisst', 'largeur', 'z_ini',\n",
    "       'z_fin', 'nb_voies', 'sens', 'etat', 'long_km', 'coment_cpt', 'src_cpt',\n",
    "       'id_comptag', 'obs_supl', 'ann_pt', 'coment_tmj', 'tmja', 'tmja_final',\n",
    "       'pc_pl', 'obs_tmja', 'obs_pc_pl', 'type_vdf', 'vts_type', 'vma',\n",
    "       'veh_km', 'id_cpt1', 'id_cpt2', 'obs_tmj1', 'obs_tmj2', 'id_sect',\n",
    "       'src_sect', 'autor_sect', 'codau_cat', 'milieu', 'vts_vl_vdf',\n",
    "       'vts_pl_vdf', 'vts_gest', 'obs_vts', 'vts_osm', 'vts_modif', 'vts_vl_f',\n",
    "       'vts_pl_f', 'codau', 'codau_cont', 'tmja_cont', 'pc_pl_cont', 'source',\n",
    "       'target', 'recup', 'attr_modif', 'codevoie_d', 'id_tronc_elem',\n",
    "       'nb_intrsct_src', 'src_geom', 'nb_intrsct_tgt', 'tgt_geom', 'id_rdpt',\n",
    "       'nb_rte_rdpt', 'nb_obj_sig_entrant']].to_file(r'R:\\OTV\\test_linearisation\\df_avec_rd_pt.shp')"
   ]
  },
  {
   "cell_type": "markdown",
   "metadata": {},
   "source": [
    "# 2. TRAITEMENTS \n",
    "> La base c'est : \n",
    "- regrouper les lignes qui se suivent\n",
    "- trouver les lignes d'arret\n",
    "- trouver les lignes suivantes\n",
    "- voir le cas des lignes suivantes : \n",
    "    - rd point\n",
    "    - mm route qui se sépare\n",
    "    - rien\n",
    "\n",
    "><br> L'idée c'est ça  : on met la premiere ligne a tester dans une liste, on l'utilise et on stocke les lignes associées dans une autre liste. ensuite on check les lignes suivantes : si elles sont dans un cas où il faut continuer les traitements, on remplace la ligne de départ dans la liste de départ par ces nouvelles lignes, pour lesquelles on applique de nouveau la recherche des lignes qui se suivent. tant que la liste des lignes suivantes est pa vide on reste dans une boucle while"
   ]
  },
  {
   "cell_type": "markdown",
   "metadata": {},
   "source": [
    "## 2.1 Troncons de base"
   ]
  },
  {
   "cell_type": "code",
   "execution_count": 177,
   "metadata": {},
   "outputs": [],
   "source": [
    "# ligne a tester : TRONROUT0000000339411609 TRONROUT0000000032869130 TRONROUT0000000032859410\n",
    "df_lignes=df_avec_rd_pt.set_index('id_ign')#mettre l'id_ign en index\n",
    "id_lignes='TRONROUT0000000342862858'\n",
    "#trouver tous les troncons proches qui se suivent\n",
    "#list_troncon=[id_ligne]+[a for a in at.liste_troncon_base(id_ligne,df_lignes)]\n",
    "list_troncon=at.liste_complete_tronc_base(id_lignes,df_lignes,[])"
   ]
  },
  {
   "cell_type": "markdown",
   "metadata": {},
   "source": [
    "## 2.2 lignes d'arret"
   ]
  },
  {
   "cell_type": "code",
   "execution_count": 178,
   "metadata": {},
   "outputs": [],
   "source": [
    "#trouver les troncons de debut et de fin :ceux pour lesquels on a un nombre de ligne sur target source >2\n",
    "dico_deb_fin=at.deb_fin_liste_tronc_base(df_lignes, list_troncon)"
   ]
  },
  {
   "cell_type": "code",
   "execution_count": 179,
   "metadata": {},
   "outputs": [
    {
     "data": {
      "text/plain": [
       "{0: {'id': 'TRONROUT0000000342862858',\n",
       "  'type': 'source',\n",
       "  'num_node': 28800,\n",
       "  'geom_node': 'POINT(379804.1 6571726.49999999)',\n",
       "  'voie': 'NC',\n",
       "  'codevoie': '173006945'},\n",
       " 1: {'id': 'TRONROUT0000000032845688',\n",
       "  'type': 'target',\n",
       "  'num_node': 16643,\n",
       "  'geom_node': 'POINT(379793.4 6571665.39999999)',\n",
       "  'voie': 'NC',\n",
       "  'codevoie': '173006945'}}"
      ]
     },
     "execution_count": 179,
     "metadata": {},
     "output_type": "execute_result"
    }
   ],
   "source": [
    "dico_deb_fin"
   ]
  },
  {
   "cell_type": "code",
   "execution_count": 180,
   "metadata": {},
   "outputs": [],
   "source": [
    "ligne='TRONROUT0000000342862858'\n",
    "for v in dico_deb_fin.values() : \n",
    "    if v['id']==ligne :\n",
    "        voie=v['voie']\n",
    "        noeud=v['num_node']\n",
    "        geom_noeud=v['geom_node']\n",
    "        type_noeud=v['type']\n",
    "        codevoie=v['codevoie']\n",
    "        #break\n",
    "    else : \n",
    "        continue"
   ]
  },
  {
   "cell_type": "markdown",
   "metadata": {},
   "source": [
    "## 2.3 lignes suivantes"
   ]
  },
  {
   "cell_type": "code",
   "execution_count": 181,
   "metadata": {},
   "outputs": [],
   "source": [
    "#vérifier si une ligne touche un rd point\n",
    "# aprtir d'une ligne et d'un numero de noeud, on récupère les lignes qui touchent\n",
    "lignes_adj=df_lignes.loc[((df_lignes['source']==noeud)|(df_lignes['target']==noeud))&(df_lignes.index!=ligne)]"
   ]
  },
  {
   "cell_type": "code",
   "execution_count": 182,
   "metadata": {},
   "outputs": [
    {
     "data": {
      "text/html": [
       "<div>\n",
       "<style scoped>\n",
       "    .dataframe tbody tr th:only-of-type {\n",
       "        vertical-align: middle;\n",
       "    }\n",
       "\n",
       "    .dataframe tbody tr th {\n",
       "        vertical-align: top;\n",
       "    }\n",
       "\n",
       "    .dataframe thead th {\n",
       "        text-align: right;\n",
       "    }\n",
       "</style>\n",
       "<table border=\"1\" class=\"dataframe\">\n",
       "  <thead>\n",
       "    <tr style=\"text-align: right;\">\n",
       "      <th></th>\n",
       "      <th>geom</th>\n",
       "      <th>id</th>\n",
       "      <th>nature</th>\n",
       "      <th>numero</th>\n",
       "      <th>importance</th>\n",
       "      <th>cl_admin</th>\n",
       "      <th>gestion</th>\n",
       "      <th>mise_serv</th>\n",
       "      <th>fictif</th>\n",
       "      <th>franchisst</th>\n",
       "      <th>largeur</th>\n",
       "      <th>z_ini</th>\n",
       "      <th>z_fin</th>\n",
       "      <th>nb_voies</th>\n",
       "      <th>sens</th>\n",
       "      <th>etat</th>\n",
       "      <th>long_km</th>\n",
       "      <th>coment_cpt</th>\n",
       "      <th>src_cpt</th>\n",
       "      <th>id_comptag</th>\n",
       "      <th>obs_supl</th>\n",
       "      <th>ann_pt</th>\n",
       "      <th>coment_tmj</th>\n",
       "      <th>tmja</th>\n",
       "      <th>tmja_final</th>\n",
       "      <th>...</th>\n",
       "      <th>vts_osm</th>\n",
       "      <th>vts_modif</th>\n",
       "      <th>vts_vl_f</th>\n",
       "      <th>vts_pl_f</th>\n",
       "      <th>codau</th>\n",
       "      <th>codau_cont</th>\n",
       "      <th>tmja_cont</th>\n",
       "      <th>pc_pl_cont</th>\n",
       "      <th>source</th>\n",
       "      <th>target</th>\n",
       "      <th>recup</th>\n",
       "      <th>attr_modif</th>\n",
       "      <th>codevoie_d</th>\n",
       "      <th>id_tronc_elem</th>\n",
       "      <th>nb_intrsct_src</th>\n",
       "      <th>src_geom</th>\n",
       "      <th>nb_intrsct_tgt</th>\n",
       "      <th>tgt_geom</th>\n",
       "      <th>id_rdpt</th>\n",
       "      <th>nb_rte_rdpt</th>\n",
       "      <th>nom_rte_rdpt_entrant</th>\n",
       "      <th>codevoie_rdpt_entrant</th>\n",
       "      <th>nb_obj_sig_entrant</th>\n",
       "      <th>valeur_sens</th>\n",
       "      <th>id_ign_entrant</th>\n",
       "    </tr>\n",
       "    <tr>\n",
       "      <th>id_ign</th>\n",
       "      <th></th>\n",
       "      <th></th>\n",
       "      <th></th>\n",
       "      <th></th>\n",
       "      <th></th>\n",
       "      <th></th>\n",
       "      <th></th>\n",
       "      <th></th>\n",
       "      <th></th>\n",
       "      <th></th>\n",
       "      <th></th>\n",
       "      <th></th>\n",
       "      <th></th>\n",
       "      <th></th>\n",
       "      <th></th>\n",
       "      <th></th>\n",
       "      <th></th>\n",
       "      <th></th>\n",
       "      <th></th>\n",
       "      <th></th>\n",
       "      <th></th>\n",
       "      <th></th>\n",
       "      <th></th>\n",
       "      <th></th>\n",
       "      <th></th>\n",
       "      <th></th>\n",
       "      <th></th>\n",
       "      <th></th>\n",
       "      <th></th>\n",
       "      <th></th>\n",
       "      <th></th>\n",
       "      <th></th>\n",
       "      <th></th>\n",
       "      <th></th>\n",
       "      <th></th>\n",
       "      <th></th>\n",
       "      <th></th>\n",
       "      <th></th>\n",
       "      <th></th>\n",
       "      <th></th>\n",
       "      <th></th>\n",
       "      <th></th>\n",
       "      <th></th>\n",
       "      <th></th>\n",
       "      <th></th>\n",
       "      <th></th>\n",
       "      <th></th>\n",
       "      <th></th>\n",
       "      <th></th>\n",
       "      <th></th>\n",
       "      <th></th>\n",
       "    </tr>\n",
       "  </thead>\n",
       "  <tbody>\n",
       "    <tr>\n",
       "      <th>TRONROUT0000000032845656</th>\n",
       "      <td>(LINESTRING (379804.0999999996 6571726.499999993, 379805.5999999997 6571722.099999992, 379808.6999999997 6571716.299999991, 379811.5999999996 6571713.299999991, 379814.1999999997 6571710.899999994...</td>\n",
       "      <td>19851</td>\n",
       "      <td>Route à 1 chaussée</td>\n",
       "      <td>NC</td>\n",
       "      <td>3</td>\n",
       "      <td>Autre</td>\n",
       "      <td>NC</td>\n",
       "      <td>NR</td>\n",
       "      <td>Non</td>\n",
       "      <td>NC</td>\n",
       "      <td>5.5</td>\n",
       "      <td>4.4</td>\n",
       "      <td>4.5</td>\n",
       "      <td>2.0</td>\n",
       "      <td>Direct</td>\n",
       "      <td>NR</td>\n",
       "      <td>0.044772</td>\n",
       "      <td>estimation</td>\n",
       "      <td>None</td>\n",
       "      <td>None</td>\n",
       "      <td>None</td>\n",
       "      <td>None</td>\n",
       "      <td>/2</td>\n",
       "      <td>6720.0</td>\n",
       "      <td>3360.0</td>\n",
       "      <td>...</td>\n",
       "      <td>None</td>\n",
       "      <td>None</td>\n",
       "      <td>46.0</td>\n",
       "      <td>40.0</td>\n",
       "      <td>111+</td>\n",
       "      <td>None</td>\n",
       "      <td>None</td>\n",
       "      <td>None</td>\n",
       "      <td>28800</td>\n",
       "      <td>16642</td>\n",
       "      <td>None</td>\n",
       "      <td>None</td>\n",
       "      <td>17300#03I</td>\n",
       "      <td>255.0</td>\n",
       "      <td>3</td>\n",
       "      <td>POINT(379804.1 6571726.49999999)</td>\n",
       "      <td>4</td>\n",
       "      <td>POINT(379838.5 6571704.29999999)</td>\n",
       "      <td>1751.0</td>\n",
       "      <td>3.0</td>\n",
       "      <td>(NC,)</td>\n",
       "      <td>(173006945, 173006035, 173003140)</td>\n",
       "      <td>6.0</td>\n",
       "      <td>(Direct, Inverse)</td>\n",
       "      <td>(TRONROUT0000000032845698, TRONROUT0000000032845708, TRONROUT0000000032845694, TRONROUT0000000032845700, TRONROUT0000000032845684, TRONROUT0000000342862858)</td>\n",
       "    </tr>\n",
       "    <tr>\n",
       "      <th>TRONROUT0000000032845699</th>\n",
       "      <td>(LINESTRING (379805.5999999996 6571741.799999991, 379804.5999999997 6571737.599999993, 379803.9999999997 6571733.499999993, 379804.0999999996 6571726.499999993))</td>\n",
       "      <td>19892</td>\n",
       "      <td>Route à 1 chaussée</td>\n",
       "      <td>NC</td>\n",
       "      <td>3</td>\n",
       "      <td>Autre</td>\n",
       "      <td>NC</td>\n",
       "      <td>NR</td>\n",
       "      <td>Non</td>\n",
       "      <td>NC</td>\n",
       "      <td>5.5</td>\n",
       "      <td>4.4</td>\n",
       "      <td>4.4</td>\n",
       "      <td>2.0</td>\n",
       "      <td>Direct</td>\n",
       "      <td>NR</td>\n",
       "      <td>0.015462</td>\n",
       "      <td>estimation</td>\n",
       "      <td>None</td>\n",
       "      <td>None</td>\n",
       "      <td>None</td>\n",
       "      <td>None</td>\n",
       "      <td>/2</td>\n",
       "      <td>6720.0</td>\n",
       "      <td>3360.0</td>\n",
       "      <td>...</td>\n",
       "      <td>None</td>\n",
       "      <td>None</td>\n",
       "      <td>46.0</td>\n",
       "      <td>40.0</td>\n",
       "      <td>111+</td>\n",
       "      <td>None</td>\n",
       "      <td>None</td>\n",
       "      <td>None</td>\n",
       "      <td>28799</td>\n",
       "      <td>28800</td>\n",
       "      <td>None</td>\n",
       "      <td>None</td>\n",
       "      <td>17300#03I</td>\n",
       "      <td>255.0</td>\n",
       "      <td>2</td>\n",
       "      <td>POINT(379805.6 6571741.79999999)</td>\n",
       "      <td>3</td>\n",
       "      <td>POINT(379804.1 6571726.49999999)</td>\n",
       "      <td>1751.0</td>\n",
       "      <td>3.0</td>\n",
       "      <td>(NC,)</td>\n",
       "      <td>(173006945, 173006035, 173003140)</td>\n",
       "      <td>6.0</td>\n",
       "      <td>(Direct, Inverse)</td>\n",
       "      <td>(TRONROUT0000000032845698, TRONROUT0000000032845708, TRONROUT0000000032845694, TRONROUT0000000032845700, TRONROUT0000000032845684, TRONROUT0000000342862858)</td>\n",
       "    </tr>\n",
       "  </tbody>\n",
       "</table>\n",
       "<p>2 rows × 70 columns</p>\n",
       "</div>"
      ],
      "text/plain": [
       "                                                                                                                                                                                                                             geom  \\\n",
       "id_ign                                                                                                                                                                                                                              \n",
       "TRONROUT0000000032845656  (LINESTRING (379804.0999999996 6571726.499999993, 379805.5999999997 6571722.099999992, 379808.6999999997 6571716.299999991, 379811.5999999996 6571713.299999991, 379814.1999999997 6571710.899999994...   \n",
       "TRONROUT0000000032845699                                        (LINESTRING (379805.5999999996 6571741.799999991, 379804.5999999997 6571737.599999993, 379803.9999999997 6571733.499999993, 379804.0999999996 6571726.499999993))   \n",
       "\n",
       "                             id              nature numero importance  \\\n",
       "id_ign                                                                  \n",
       "TRONROUT0000000032845656  19851  Route à 1 chaussée     NC          3   \n",
       "TRONROUT0000000032845699  19892  Route à 1 chaussée     NC          3   \n",
       "\n",
       "                         cl_admin gestion mise_serv fictif franchisst  \\\n",
       "id_ign                                                                  \n",
       "TRONROUT0000000032845656    Autre      NC        NR    Non         NC   \n",
       "TRONROUT0000000032845699    Autre      NC        NR    Non         NC   \n",
       "\n",
       "                          largeur  z_ini  z_fin  nb_voies    sens etat  \\\n",
       "id_ign                                                                   \n",
       "TRONROUT0000000032845656      5.5    4.4    4.5       2.0  Direct   NR   \n",
       "TRONROUT0000000032845699      5.5    4.4    4.4       2.0  Direct   NR   \n",
       "\n",
       "                           long_km  coment_cpt src_cpt id_comptag obs_supl  \\\n",
       "id_ign                                                                       \n",
       "TRONROUT0000000032845656  0.044772  estimation    None       None     None   \n",
       "TRONROUT0000000032845699  0.015462  estimation    None       None     None   \n",
       "\n",
       "                         ann_pt coment_tmj    tmja  tmja_final  ...  vts_osm  \\\n",
       "id_ign                                                          ...            \n",
       "TRONROUT0000000032845656   None         /2  6720.0      3360.0  ...     None   \n",
       "TRONROUT0000000032845699   None         /2  6720.0      3360.0  ...     None   \n",
       "\n",
       "                         vts_modif vts_vl_f  vts_pl_f codau  codau_cont  \\\n",
       "id_ign                                                                    \n",
       "TRONROUT0000000032845656      None     46.0      40.0  111+        None   \n",
       "TRONROUT0000000032845699      None     46.0      40.0  111+        None   \n",
       "\n",
       "                          tmja_cont pc_pl_cont source target recup attr_modif  \\\n",
       "id_ign                                                                          \n",
       "TRONROUT0000000032845656       None       None  28800  16642  None       None   \n",
       "TRONROUT0000000032845699       None       None  28799  28800  None       None   \n",
       "\n",
       "                         codevoie_d id_tronc_elem nb_intrsct_src  \\\n",
       "id_ign                                                             \n",
       "TRONROUT0000000032845656  17300#03I         255.0              3   \n",
       "TRONROUT0000000032845699  17300#03I         255.0              2   \n",
       "\n",
       "                                                  src_geom  nb_intrsct_tgt  \\\n",
       "id_ign                                                                       \n",
       "TRONROUT0000000032845656  POINT(379804.1 6571726.49999999)               4   \n",
       "TRONROUT0000000032845699  POINT(379805.6 6571741.79999999)               3   \n",
       "\n",
       "                                                  tgt_geom id_rdpt  \\\n",
       "id_ign                                                               \n",
       "TRONROUT0000000032845656  POINT(379838.5 6571704.29999999)  1751.0   \n",
       "TRONROUT0000000032845699  POINT(379804.1 6571726.49999999)  1751.0   \n",
       "\n",
       "                         nb_rte_rdpt nom_rte_rdpt_entrant  \\\n",
       "id_ign                                                      \n",
       "TRONROUT0000000032845656         3.0                (NC,)   \n",
       "TRONROUT0000000032845699         3.0                (NC,)   \n",
       "\n",
       "                                      codevoie_rdpt_entrant  \\\n",
       "id_ign                                                        \n",
       "TRONROUT0000000032845656  (173006945, 173006035, 173003140)   \n",
       "TRONROUT0000000032845699  (173006945, 173006035, 173003140)   \n",
       "\n",
       "                          nb_obj_sig_entrant        valeur_sens  \\\n",
       "id_ign                                                            \n",
       "TRONROUT0000000032845656                 6.0  (Direct, Inverse)   \n",
       "TRONROUT0000000032845699                 6.0  (Direct, Inverse)   \n",
       "\n",
       "                                                                                                                                                                        id_ign_entrant  \n",
       "id_ign                                                                                                                                                                                  \n",
       "TRONROUT0000000032845656  (TRONROUT0000000032845698, TRONROUT0000000032845708, TRONROUT0000000032845694, TRONROUT0000000032845700, TRONROUT0000000032845684, TRONROUT0000000342862858)  \n",
       "TRONROUT0000000032845699  (TRONROUT0000000032845698, TRONROUT0000000032845708, TRONROUT0000000032845694, TRONROUT0000000032845700, TRONROUT0000000032845684, TRONROUT0000000342862858)  \n",
       "\n",
       "[2 rows x 70 columns]"
      ]
     },
     "execution_count": 182,
     "metadata": {},
     "output_type": "execute_result"
    }
   ],
   "source": [
    "lignes_adj"
   ]
  },
  {
   "cell_type": "markdown",
   "metadata": {},
   "source": [
    "## 2.4 cas particulier "
   ]
  },
  {
   "cell_type": "markdown",
   "metadata": {},
   "source": [
    "### 2.4.1 rd pt"
   ]
  },
  {
   "cell_type": "code",
   "execution_count": 47,
   "metadata": {},
   "outputs": [],
   "source": [
    "#verfier si une ligne rouche un rd point et recup le numero si c'est le cas\n",
    "check_rdpt, num_rdpt=at.verif_touche_rdpt(lignes_adj)\n",
    "if check_rdpt : \n",
    "    lignes_rdpt, lignes_sortantes=at.recup_lignes_rdpt(carac_rd_pt,num_rdpt,list_troncon,voie,codevoie)"
   ]
  },
  {
   "cell_type": "markdown",
   "metadata": {},
   "source": [
    "### 2.4.2 mm route qui se sépare"
   ]
  },
  {
   "cell_type": "code",
   "execution_count": 772,
   "metadata": {},
   "outputs": [
    {
     "name": "stdout",
     "output_type": "stream",
     "text": [
      "['TRONROUT0000000032842596', 'TRONROUT0000000032842599']\n",
      "dehors\n",
      "exit\n"
     ]
    }
   ],
   "source": [
    "#comparer le nom de voie de la ligne issue de debut_fin avec celui des lignes adjacentes\n",
    "if len(set(lignes_adj.source.tolist()+lignes_adj.target.tolist())) : #cas d'une ligne qui separe pour se reconnecter ensuite\n",
    "    print(lignes_adj.index.tolist())\n",
    "if (voie==lignes_adj.numero).all() and voie!='NC' : \n",
    "    print('if')\n",
    "    ligne_mm_voie=lignes_adj.index.tolist()\n",
    "    list_troncon+=ligne_mm_voie\n",
    "    lignes_suivantes_mm_nom=ligne_mm_voie #on recommence les traitements avec les lignes prises\n",
    "elif voie=='NC' and codevoie!='NR' and (codevoie==lignes_adj.codevoie_d).all(): \n",
    "    print('elif')\n",
    "    ligne_mm_voie=lignes_adj.index.tolist()\n",
    "    list_troncon+=ligne_mm_voie\n",
    "    lignes_suivantes_mm_nom=ligne_mm_voie\n",
    "else : \n",
    "    lignes_adj_tot=lignes_adj.copy()\n",
    "    lignes_adj_tot['tronc_supp']=lignes_adj_tot.apply(lambda x : at.liste_complete_tronc_base(x.name,df_lignes,[id_lignes]), axis=1)\n",
    "    geom_l1, lg_l1=at.fusion_ligne_calc_lg(df_lignes.loc[lignes_adj_tot.iloc[0].tronc_supp])\n",
    "    geom_l2, lg_l2=at.fusion_ligne_calc_lg(df_lignes.loc[lignes_adj_tot.iloc[1].tronc_supp])\n",
    "    tt_tronc=[x for y in lignes_adj_tot.tronc_supp.tolist() for x in y ]\n",
    "    tt_noeud=Counter(df_lignes.loc[tt_tronc].source.tolist()+df_lignes.loc[tt_tronc].target.tolist())\n",
    "    if (min(lg_l1, lg_l2) / max(lg_l1, lg_l2)) > 0.66 : \n",
    "        noeuds_fin=[k for k,v in tt_noeud.items() if v==1]\n",
    "        lignes_jointure=df_lignes.loc[(df_lignes.source.isin(noeuds_fin)) & (df_lignes.target.isin(noeuds_fin))]\n",
    "        print('dehors')\n",
    "        if not lignes_jointure.empty : \n",
    "            print('dedans')\n",
    "            lgn_cote_1, lgn_cote_2, angle_1,angle_2,angle_3=at.angle_3_lignes('TRONROUT0000000032842584', lignes_adj, noeud,geom_noeud, type_noeud, df_lignes)\n",
    "            if angle_3<60 :\n",
    "                print(tt_tronc)\n",
    "            else : \n",
    "                print('pas angle')\n",
    "        else : \n",
    "            print('exit')\n",
    "    else : \n",
    "        print('pb lg')"
   ]
  },
  {
   "cell_type": "markdown",
   "metadata": {},
   "source": [
    "### 2.4.3 trouver les routes coinces entre 2 voies qui se sépare -<|\n",
    " ce sont des lignes qui  dont : \n",
    "- si une des lignes adjacente à le mm nom de voie\n",
    "- on prend l'autre si elle a un sens direct ou inverse\n",
    "- on recherche son source ou target different du num_node de dico_deb_fin\n",
    "- on cherche les lignes qui touche ce noeud, qui ont le mme nom de voie et un sens direct ou inverse\n",
    "- on recupere cette ligne, et le num de noeud differnts de celui de la 1ere ligne qui bifurque\n",
    "- si ce num de noeud correspond à la ligne adj source ou target, alors cette ligne adj source ou target doit être ajoutée à la liste"
   ]
  },
  {
   "cell_type": "code",
   "execution_count": 923,
   "metadata": {},
   "outputs": [
    {
     "name": "stdout",
     "output_type": "stream",
     "text": [
      "['TRONROUT0000000032839436', 'TRONROUT0000000318255825']\n"
     ]
    }
   ],
   "source": [
    "ligne_depart='TRONROUT0000000318255826'\n",
    "if voie != 'NC' : \n",
    "    lgn_cote_1=lignes_adj.loc[(lignes_adj['numero']!=voie)]  \n",
    "    if lgn_cote_1.empty : \n",
    "        print([]) \n",
    "    noeud_centre = lgn_cote_1['source'].values[0] if lgn_cote_1['source'].values[0] != noeud else lgn_cote_1['target'].values[0]\n",
    "    lgn_suiv=lignes_adj.loc[~lignes_adj.index.isin(lgn_cote_1.index.tolist())]\n",
    "    if lgn_suiv.empty : \n",
    "        print([]) \n",
    "    noeud_suiv=lgn_suiv['source'].values[0] if lgn_suiv['source'].values[0] != noeud else lgn_suiv['target'].values[0]\n",
    "\n",
    "    #dans le cas ou plusieurs ligne a la suite forme le cote du triangle que l'on veut récupérer on veut connaitre le nb de ligne qui touchent le noeud_suiv\n",
    "    if lgn_suiv['source'].values[0] != noeud : \n",
    "        noeud_suiv=lgn_suiv['source'].values[0]\n",
    "        nb_intersect_noeud_suiv=df_lignes.loc[lgn_suiv.index.values[0]].nb_intrsct_src\n",
    "    else : \n",
    "        noeud_suiv=lgn_suiv['target'].values[0]\n",
    "        nb_intersect_noeud_suiv=df_lignes.loc[lgn_suiv.index.values[0]].nb_intrsct_tgt\n",
    "\n",
    "    if  nb_intersect_noeud_suiv==2 : \n",
    "        lgn_suiv=df_lignes.loc[at.liste_complete_tronc_base(lgn_suiv.index.values[0],df_lignes,[])] \n",
    "        noeud_ss_suite=Counter(lgn_suiv.source.tolist()+lgn_suiv.target.tolist())\n",
    "        noeud_suiv=[k for k,v in noeud_ss_suite.items() if v==1 and v!=noeud][0]\n",
    "\n",
    "    id_rattache=lgn_suiv.index.tolist()\n",
    "    if noeud_centre==noeud_suiv : #ça veut dire une seule et mm lign qui fait 2 cote du triangle, dc on peu de suite garder la ligne suiv car 1 seule route non coupe l'intersec\n",
    "        print (id_rattache)\n",
    "    else : # on cherche si une ligne touche ces 2 noeuds, a le mme nom de voie que la ligne de cote  et un sens direct ou inverse\n",
    "        ligne_a_rattacher=df_lignes.loc[((df_lignes['source']==noeud_centre) | (df_lignes['target']==noeud_centre)) & \n",
    "                  (df_lignes['numero']==lgn_cote_1['numero'].values[0]) & (~df_lignes.index.isin(lgn_cote_1.index.tolist())) & \n",
    "                  ((df_lignes['source']==noeud_suiv) | (df_lignes['target']==noeud_suiv))]\n",
    "        if not ligne_a_rattacher.empty : \n",
    "            print( id_rattache)\n",
    "        else :\n",
    "            print([]) "
   ]
  },
  {
   "cell_type": "code",
   "execution_count": 925,
   "metadata": {},
   "outputs": [
    {
     "data": {
      "text/plain": [
       "['TRONROUT0000000032839436', 'TRONROUT0000000318255825']"
      ]
     },
     "execution_count": 925,
     "metadata": {},
     "output_type": "execute_result"
    }
   ],
   "source": [
    "at.recup_triangle(ligne,voie, codevoie,lignes_adj, noeud,geom_noeud, type_noeud, df_lignes)"
   ]
  },
  {
   "cell_type": "markdown",
   "metadata": {},
   "source": [
    "## 2.5 route à 2 chaussées\n",
    "L'idée c'est si la ligne est une route à 2 chaussée : \n",
    "- on prend l'ensemble du troncon elementaire\n",
    "- on agerge les lignes\n",
    "- on recupere le centre\n",
    "- on recupere la longueur\n",
    "- on pourrait chercher à comparer les bouding box"
   ]
  },
  {
   "cell_type": "code",
   "execution_count": 69,
   "metadata": {},
   "outputs": [],
   "source": [
    "#dans le cas où les longeuers ne coincident pas\n",
    "#recuperer la ligne proche\n",
    "ligne_proche, ligne_filtres, longueur_base=at.trouver_chaussees_separee(list_troncon, df_avec_rd_pt)"
   ]
  },
  {
   "cell_type": "code",
   "execution_count": 76,
   "metadata": {},
   "outputs": [
    {
     "data": {
      "text/plain": [
       "['TRONROUT0000000032831889',\n",
       " 'TRONROUT0000000329876240',\n",
       " 'TRONROUT0000000329876239',\n",
       " 'TRONROUT0000000032831831',\n",
       " 'TRONROUT0000000032831834',\n",
       " 'TRONROUT0000000032831830']"
      ]
     },
     "execution_count": 76,
     "metadata": {},
     "output_type": "execute_result"
    }
   ],
   "source": [
    "at.gestion_voie_2_chaussee(list_troncon, df_avec_rd_pt, 'TRONROUT0000000032831888')[0]"
   ]
  },
  {
   "cell_type": "markdown",
   "metadata": {},
   "source": [
    "# Tests de deroulement global"
   ]
  },
  {
   "cell_type": "code",
   "execution_count": 123,
   "metadata": {},
   "outputs": [],
   "source": [
    "def lignes_troncon_elem(df_avec_rd_pt, ligne) : \n",
    "    \"\"\"\n",
    "    trouver les lignes qui appartiennent au même troncon elementaire que la ligne de depart\n",
    "    en entree : \n",
    "        df_avec_rd_pt : df des lignes Bdtopo\n",
    "        ligne : string : id_ign de la ligne a tester\n",
    "    en sortie :\n",
    "        liste_troncon_finale : set de string des id_ign des lignes réunies dans le troncon elementaire\n",
    "    \"\"\"\n",
    "    df_lignes2=df_avec_rd_pt.set_index('id_ign')#mettre l'id_ign en index\n",
    "    lignes_a_tester, liste_troncon_finale, list_troncon2=[ligne],[],[]\n",
    "\n",
    "    while lignes_a_tester :\n",
    "        for id_lignes2 in lignes_a_tester :\n",
    "            list_troncon2=at.liste_complete_tronc_base(id_lignes2,df_lignes2,liste_troncon_finale)\n",
    "            liste_troncon_finale+=list_troncon2\n",
    "            dico_deb_fin2=at.deb_fin_liste_tronc_base(df_lignes2, list_troncon2)\n",
    "            for k, v in dico_deb_fin2.items() :\n",
    "                lignes_adj2=df_lignes2.loc[((df_lignes2['source']==v['num_node'])|\n",
    "                                          (df_lignes2['target']==v['num_node']))&\n",
    "                                         (df_lignes2.index!=v['id'])&(~df_lignes2.index.isin(liste_troncon_finale))]\n",
    "                \n",
    "                if lignes_adj2.empty : \n",
    "                    continue\n",
    "                check_rdpt2, num_rdpt2=at.verif_touche_rdpt(lignes_adj2)\n",
    "                # on attaque la liste des cas possible\n",
    "                #1. Rond point\n",
    "                if check_rdpt2 : \n",
    "                    lignes_rdpt2, lignes_sortantes2=at.recup_lignes_rdpt(carac_rd_pt,num_rdpt2,list_troncon2,v['voie'],v['codevoie'])\n",
    "                    liste_troncon_finale+=lignes_rdpt2\n",
    "                    lignes_a_tester+=lignes_sortantes2\n",
    "                else : #2. route qui se sépare\n",
    "                    liste_rte_separe=at.recup_route_split(v['id'],v['voie'],v['codevoie'], lignes_adj2,v['num_node'],v['geom_node'],v['type'], df_lignes2)\n",
    "                    #print(f\"{v['id']},liste_rte_separe {liste_rte_separe}\")\n",
    "                    if liste_rte_separe : \n",
    "                        lignes_a_tester+=liste_rte_separe \n",
    "                        continue\n",
    "                    liste_triangle=at.recup_triangle(v['id'],v['voie'],v['codevoie'], lignes_adj2, v['num_node'],v['geom_node'],v['type'], df_lignes2)\n",
    "                    if liste_triangle :\n",
    "                        #print(f\"{v['id']},liste_rte_separe {liste_rte_separe}, liste_triangle {liste_triangle}\")\n",
    "                        liste_troncon_finale+=liste_triangle \n",
    "            lignes_a_tester=[x for x in lignes_a_tester if x not in liste_troncon_finale]\n",
    "    liste_troncon_finale=list(set(liste_troncon_finale))\n",
    "    return liste_troncon_finale"
   ]
  },
  {
   "cell_type": "code",
   "execution_count": null,
   "metadata": {},
   "outputs": [],
   "source": [
    "lignes_troncon_elem(df_avec_rd_pt,'TRONROUT0000000342862858')"
   ]
  },
  {
   "cell_type": "markdown",
   "metadata": {},
   "source": [
    "# 3. Boucler sur 'ensembl des lignes\n",
    "On va faire tourner les traitements sur l'ensemble des lignes, en partant de la liste des id_ign, pour chaque ligne : \n",
    "- si la ligne ne remplit pas les critères d'exclusion on continu, sinon on passe à la suivante\n",
    "- fonction de recherche des lignes associées\n",
    "- df des association\n",
    "- filtre de la liste des id_ign de base"
   ]
  },
  {
   "cell_type": "code",
   "execution_count": 198,
   "metadata": {},
   "outputs": [
    {
     "data": {
      "text/plain": [
       "107431"
      ]
     },
     "execution_count": 198,
     "metadata": {},
     "output_type": "execute_result"
    }
   ],
   "source": [
    "# liste des id_ign\n",
    "liste_id_ign_base=np.array(df_avec_rd_pt.id_ign.tolist())\n",
    "len(liste_id_ign_base)"
   ]
  },
  {
   "cell_type": "code",
   "execution_count": 214,
   "metadata": {},
   "outputs": [],
   "source": [
    "liste_id_ign_base=np.array(['TRONROUT0000000032898124'])"
   ]
  },
  {
   "cell_type": "code",
   "execution_count": 215,
   "metadata": {},
   "outputs": [
    {
     "name": "stdout",
     "output_type": "stream",
     "text": [
      "0 2019-09-13 09:48:39.591301 nb lignes traitees : 0\n",
      "pas de parrallele trouvee pour les troncons ['TRONROUT0000000217441870', 'TRONROUT0000000217441867', 'TRONROUT0000000217441866', 'TRONROUT0000000032898124', 'TRONROUT0000000217441871', 'TRONROUT0000000032898115', 'TRONROUT0000000217441864', 'TRONROUT0000000217441862', 'TRONROUT0000000217441869', 'TRONROUT0000000217441872', 'TRONROUT0000000032898125', 'TRONROUT0000000217441863', 'TRONROUT0000000217441848', 'TRONROUT0000000217441868', 'TRONROUT0000000217441865', 'TRONROUT0000000217441861', 'TRONROUT0000000217441847']\n",
      "fin :  2019-09-13 09:48:48.075714 nb lignes traitees : 17\n"
     ]
    }
   ],
   "source": [
    "dico_fin={}\n",
    "dico_erreur={}\n",
    "lignes_traitees=np.array([],dtype='<U24')\n",
    "for i,l in enumerate(liste_id_ign_base) :\n",
    "    if len(lignes_traitees)>=len(liste_id_ign_base) : break\n",
    "    if i%300==0 : \n",
    "        print(i, datetime.now(), f'nb lignes traitees : {len(lignes_traitees)}')\n",
    "    if l in lignes_traitees : \n",
    "        continue\n",
    "    #critère d'exclusion : si la ligne est une bretelle ou si la ligne à un nb de lignes qui intersecte debut et fin >2, ou si c'est un rd pt\n",
    "    ligne=df_avec_rd_pt.set_index('id_ign').loc[l]\n",
    "    if ~np.isnan(ligne['id_rdpt']):\n",
    "        continue\n",
    "    else : \n",
    "        try : \n",
    "            liste_ligne=lignes_troncon_elem(df_avec_rd_pt, l) \n",
    "            liste_ligne=[x for x in liste_ligne if x not in lignes_traitees] #filtre des lignes deja affectees\n",
    "            #print(f'liste tronc base : {liste_ligne}')\n",
    "            if any([x in df2_chaussees.id_ign.tolist() for x in liste_ligne]) :  \n",
    "                try : \n",
    "                    liste_ligne+=at.gestion_voie_2_chaussee(liste_ligne, df_avec_rd_pt, l)[0]\n",
    "                except at.ParralleleError as Pe:\n",
    "                    print(Pe)\n",
    "                    dico_erreur[Pe.id_ign]=Pe.erreur_type\n",
    "            lignes_traitees=np.unique(np.append(lignes_traitees,liste_ligne))\n",
    "        except Exception as e : \n",
    "            print(l, e)\n",
    "    for ligne in liste_ligne : \n",
    "        dico_fin[ligne]=i\n",
    "print('fin : ', datetime.now(), f'nb lignes traitees : {len(lignes_traitees)}')    \n",
    "df_test=pd.DataFrame.from_dict(dico_fin, orient='index').reset_index()\n",
    "df_test.columns=['id', 'idtronc']"
   ]
  },
  {
   "cell_type": "code",
   "execution_count": 216,
   "metadata": {},
   "outputs": [
    {
     "data": {
      "text/html": [
       "<div>\n",
       "<style scoped>\n",
       "    .dataframe tbody tr th:only-of-type {\n",
       "        vertical-align: middle;\n",
       "    }\n",
       "\n",
       "    .dataframe tbody tr th {\n",
       "        vertical-align: top;\n",
       "    }\n",
       "\n",
       "    .dataframe thead th {\n",
       "        text-align: right;\n",
       "    }\n",
       "</style>\n",
       "<table border=\"1\" class=\"dataframe\">\n",
       "  <thead>\n",
       "    <tr style=\"text-align: right;\">\n",
       "      <th></th>\n",
       "      <th>id</th>\n",
       "      <th>idtronc</th>\n",
       "    </tr>\n",
       "  </thead>\n",
       "  <tbody>\n",
       "    <tr>\n",
       "      <th>0</th>\n",
       "      <td>TRONROUT0000000217441870</td>\n",
       "      <td>0</td>\n",
       "    </tr>\n",
       "    <tr>\n",
       "      <th>1</th>\n",
       "      <td>TRONROUT0000000217441867</td>\n",
       "      <td>0</td>\n",
       "    </tr>\n",
       "    <tr>\n",
       "      <th>2</th>\n",
       "      <td>TRONROUT0000000217441866</td>\n",
       "      <td>0</td>\n",
       "    </tr>\n",
       "    <tr>\n",
       "      <th>3</th>\n",
       "      <td>TRONROUT0000000032898124</td>\n",
       "      <td>0</td>\n",
       "    </tr>\n",
       "    <tr>\n",
       "      <th>4</th>\n",
       "      <td>TRONROUT0000000217441871</td>\n",
       "      <td>0</td>\n",
       "    </tr>\n",
       "    <tr>\n",
       "      <th>5</th>\n",
       "      <td>TRONROUT0000000032898115</td>\n",
       "      <td>0</td>\n",
       "    </tr>\n",
       "    <tr>\n",
       "      <th>6</th>\n",
       "      <td>TRONROUT0000000217441864</td>\n",
       "      <td>0</td>\n",
       "    </tr>\n",
       "    <tr>\n",
       "      <th>7</th>\n",
       "      <td>TRONROUT0000000217441862</td>\n",
       "      <td>0</td>\n",
       "    </tr>\n",
       "    <tr>\n",
       "      <th>8</th>\n",
       "      <td>TRONROUT0000000217441869</td>\n",
       "      <td>0</td>\n",
       "    </tr>\n",
       "    <tr>\n",
       "      <th>9</th>\n",
       "      <td>TRONROUT0000000217441872</td>\n",
       "      <td>0</td>\n",
       "    </tr>\n",
       "    <tr>\n",
       "      <th>10</th>\n",
       "      <td>TRONROUT0000000032898125</td>\n",
       "      <td>0</td>\n",
       "    </tr>\n",
       "    <tr>\n",
       "      <th>11</th>\n",
       "      <td>TRONROUT0000000217441863</td>\n",
       "      <td>0</td>\n",
       "    </tr>\n",
       "    <tr>\n",
       "      <th>12</th>\n",
       "      <td>TRONROUT0000000217441848</td>\n",
       "      <td>0</td>\n",
       "    </tr>\n",
       "    <tr>\n",
       "      <th>13</th>\n",
       "      <td>TRONROUT0000000217441868</td>\n",
       "      <td>0</td>\n",
       "    </tr>\n",
       "    <tr>\n",
       "      <th>14</th>\n",
       "      <td>TRONROUT0000000217441865</td>\n",
       "      <td>0</td>\n",
       "    </tr>\n",
       "    <tr>\n",
       "      <th>15</th>\n",
       "      <td>TRONROUT0000000217441861</td>\n",
       "      <td>0</td>\n",
       "    </tr>\n",
       "    <tr>\n",
       "      <th>16</th>\n",
       "      <td>TRONROUT0000000217441847</td>\n",
       "      <td>0</td>\n",
       "    </tr>\n",
       "  </tbody>\n",
       "</table>\n",
       "</div>"
      ],
      "text/plain": [
       "                          id  idtronc\n",
       "0   TRONROUT0000000217441870        0\n",
       "1   TRONROUT0000000217441867        0\n",
       "2   TRONROUT0000000217441866        0\n",
       "3   TRONROUT0000000032898124        0\n",
       "4   TRONROUT0000000217441871        0\n",
       "5   TRONROUT0000000032898115        0\n",
       "6   TRONROUT0000000217441864        0\n",
       "7   TRONROUT0000000217441862        0\n",
       "8   TRONROUT0000000217441869        0\n",
       "9   TRONROUT0000000217441872        0\n",
       "10  TRONROUT0000000032898125        0\n",
       "11  TRONROUT0000000217441863        0\n",
       "12  TRONROUT0000000217441848        0\n",
       "13  TRONROUT0000000217441868        0\n",
       "14  TRONROUT0000000217441865        0\n",
       "15  TRONROUT0000000217441861        0\n",
       "16  TRONROUT0000000217441847        0"
      ]
     },
     "execution_count": 216,
     "metadata": {},
     "output_type": "execute_result"
    }
   ],
   "source": [
    "df_test"
   ]
  },
  {
   "cell_type": "code",
   "execution_count": 201,
   "metadata": {},
   "outputs": [],
   "source": [
    "df_test_export=df_avec_rd_pt.merge(df_test, left_on='id_ign',right_on='id')[['id_ign','numero','codevoie_d','geom','idtronc']]"
   ]
  },
  {
   "cell_type": "code",
   "execution_count": 204,
   "metadata": {},
   "outputs": [],
   "source": [
    "df_test_export.to_file(r'R:\\OTV\\test_linearisation\\test_global.shp')"
   ]
  },
  {
   "cell_type": "code",
   "execution_count": 118,
   "metadata": {},
   "outputs": [],
   "source": [
    "df_avec_rd_pt.merge(df_test, left_on='id_ign',right_on='id')[['id_ign','numero','codevoie_d','geom','idtronc']].to_file(r'R:\\OTV\\test_linearisation\\test_9.shp')"
   ]
  },
  {
   "cell_type": "code",
   "execution_count": 660,
   "metadata": {},
   "outputs": [
    {
     "name": "stdout",
     "output_type": "stream",
     "text": [
      "0 2019-09-10 17:14:28.657398 nb lignes traitees : 0\n",
      "2000 2019-09-10 17:54:38.998388 nb lignes traitees : 12507\n",
      "3000 2019-09-10 18:09:12.964979 nb lignes traitees : 17700\n",
      "5000 2019-09-10 18:36:33.329216 nb lignes traitees : 26780\n",
      "8000 2019-09-10 19:11:33.304189 nb lignes traitees : 38800\n",
      "10000 2019-09-10 19:27:05.616564 nb lignes traitees : 44444\n",
      "11000 2019-09-10 19:35:23.108986 nb lignes traitees : 47524\n",
      "13000 2019-09-10 19:51:07.340067 nb lignes traitees : 52527\n",
      "15000 2019-09-10 20:03:47.255097 nb lignes traitees : 57238\n",
      "16000 2019-09-10 20:09:33.566982 nb lignes traitees : 59676\n",
      "17000 2019-09-10 20:15:18.896641 nb lignes traitees : 61947\n",
      "25000 2019-09-10 20:50:23.285459 nb lignes traitees : 75077\n",
      "30000 2019-09-10 21:07:24.148735 nb lignes traitees : 81192\n",
      "34000 2019-09-10 21:18:37.558438 nb lignes traitees : 84955\n",
      "36000 2019-09-10 21:23:44.598032 nb lignes traitees : 86876\n",
      "38000 2019-09-10 21:28:22.519167 nb lignes traitees : 88791\n",
      "42000 2019-09-10 21:37:07.727583 nb lignes traitees : 91733\n",
      "44000 2019-09-10 21:41:13.515188 nb lignes traitees : 93046\n",
      "45000 2019-09-10 21:43:05.989485 nb lignes traitees : 93625\n",
      "46000 2019-09-10 21:44:57.745172 nb lignes traitees : 94087\n",
      "47000 2019-09-10 21:46:38.987645 nb lignes traitees : 94602\n",
      "59000 2019-09-10 22:05:03.796964 nb lignes traitees : 99285\n",
      "77000 2019-09-10 22:29:40.160399 nb lignes traitees : 103595\n",
      "82000 2019-09-10 22:36:07.274313 nb lignes traitees : 104436\n",
      "90000 2019-09-10 22:46:04.058406 nb lignes traitees : 105662\n",
      "94000 2019-09-10 22:50:47.664714 nb lignes traitees : 106143\n",
      "101000 2019-09-10 22:58:47.397404 nb lignes traitees : 106842\n",
      "105000 2019-09-10 23:03:17.725388 nb lignes traitees : 107206\n",
      "107000 2019-09-10 23:05:32.459815 nb lignes traitees : 107385\n",
      "fin :  2019-09-10 23:06:01.546794 nb lignes traitees : 107426\n"
     ]
    }
   ],
   "source": [
    "# liste des id_ign\n",
    "liste_id_ign_base=np.array(df_avec_rd_pt.id_ign.tolist())\n",
    "dico_fin={}\n",
    "lignes_traitees=np.array([],dtype='<U24')\n",
    "df_avec_rd_pt2=df_avec_rd_pt.copy()\n",
    "for i,l in enumerate(liste_id_ign_base) :\n",
    "    df_avec_rd_pt2=df_avec_rd_pt2.loc[~df_avec_rd_pt2.id_ign.isin(lignes_traitees)]\n",
    "    if len(lignes_traitees)>=len(liste_id_ign_base) : break\n",
    "    if l in lignes_traitees : \n",
    "        continue\n",
    "    if i%1000==0 : \n",
    "        print(i, datetime.now(), f'nb lignes traitees : {len(lignes_traitees)}')\n",
    "    #critère d'exclusion : si la ligne est une bretelle ou si la ligne à un nb de lignes qui intersecte debut et fin >2, ou si c'est un rd pt\n",
    "    ligne=df_avec_rd_pt2.set_index('id_ign').loc[l]\n",
    "    if ~np.isnan(ligne['id_rdpt']):\n",
    "        continue\n",
    "    else :\n",
    "        liste_ligne=lignes_troncon_elem(df_avec_rd_pt2, l)  \n",
    "        if l in df2_chaussees.id_ign.tolist() :  \n",
    "            try : \n",
    "                liste_ligne+=at.gestion_voie_2_chaussee(liste_ligne, df_avec_rd_pt2, l)[0]\n",
    "            except at.ParralleleError :\n",
    "                pass\n",
    "        lignes_traitees=np.unique(np.append(lignes_traitees,liste_ligne))\n",
    "    for ligne in liste_ligne : \n",
    "        dico_fin[ligne]=i\n",
    "print('fin : ', datetime.now(), f'nb lignes traitees : {len(lignes_traitees)}')    \n",
    "df_test=pd.DataFrame.from_dict(dico_fin, orient='index').reset_index()\n",
    "df_test.columns=['id', 'idtronc']"
   ]
  },
  {
   "cell_type": "code",
   "execution_count": 661,
   "metadata": {},
   "outputs": [],
   "source": [
    "df_avec_rd_pt.merge(df_test, left_on='id_ign',right_on='id')[['id_ign','numero','codevoie_d','geom','idtronc']].to_file(r'R:\\OTV\\test_linearisation\\test_global.shp')"
   ]
  },
  {
   "cell_type": "markdown",
   "metadata": {},
   "source": [
    "# SUITE"
   ]
  },
  {
   "cell_type": "code",
   "execution_count": 114,
   "metadata": {},
   "outputs": [],
   "source": [
    "toto=list(at.recup_troncon_elementaire('TRONROUT0000000032862365',df,[]))"
   ]
  },
  {
   "cell_type": "code",
   "execution_count": 115,
   "metadata": {},
   "outputs": [],
   "source": [
    "toto.append('TRONROUT0000000032862365')"
   ]
  },
  {
   "cell_type": "code",
   "execution_count": null,
   "metadata": {},
   "outputs": [],
   "source": [
    "toto"
   ]
  },
  {
   "cell_type": "code",
   "execution_count": 117,
   "metadata": {},
   "outputs": [
    {
     "name": "stderr",
     "output_type": "stream",
     "text": [
      "C:\\Users\\martin.schoreisz\\git\\otv\\otv\\Transfert_Donnees\\agrege_troncon.py:279: SettingWithCopyWarning: \n",
      "A value is trying to be set on a copy of a slice from a DataFrame.\n",
      "Try using .loc[row_indexer,col_indexer] = value instead\n",
      "\n",
      "See the caveats in the documentation: http://pandas.pydata.org/pandas-docs/stable/indexing.html#indexing-view-versus-copy\n",
      "  ligne_filtres['distance']=ligne_filtres.geom.apply(lambda x : gdf_lignes2.centroid.distance(x))\n"
     ]
    },
    {
     "data": {
      "text/plain": [
       "'TRONROUT0000000032876496'"
      ]
     },
     "execution_count": 117,
     "metadata": {},
     "output_type": "execute_result"
    }
   ],
   "source": [
    "at.recup_troncon_parallele_v2(df,toto)"
   ]
  },
  {
   "cell_type": "code",
   "execution_count": null,
   "metadata": {},
   "outputs": [],
   "source": [
    "for i in toto :\n",
    "    tata=at.affecter_troncon_ligne(i,df,df2_chaussees)\n",
    "    print(len(tata))"
   ]
  },
  {
   "cell_type": "code",
   "execution_count": 12,
   "metadata": {
    "collapsed": true,
    "jupyter": {
     "outputs_hidden": true
    }
   },
   "outputs": [
    {
     "name": "stdout",
     "output_type": "stream",
     "text": [
      "0eme occurence : TRONROUT0000000084053027 à 18:23:53 nb ligne traite : 0, nb ligne differente=0\n",
      "indexError ligne  TRONROUT0000000032954220\n",
      "indexError ligne  TRONROUT0000000033016282\n",
      "indexError ligne  TRONROUT0000000249471326\n",
      "indexError ligne  TRONROUT0000000336640149\n",
      "indexError ligne  TRONROUT0000000224966440\n",
      "indexError ligne  TRONROUT0000000032833606\n",
      "indexError ligne  TRONROUT0000000032895598\n",
      "indexError ligne  TRONROUT0000000032991823\n",
      "indexError ligne  TRONROUT0000000223846575\n",
      "indexError ligne  TRONROUT0000000255628539\n",
      "indexError ligne  TRONROUT0000000032895522\n",
      "indexError ligne  TRONROUT0000000032843156\n",
      "indexError ligne  TRONROUT0000000032966066\n",
      "indexError ligne  TRONROUT0000000129676068\n",
      "indexError ligne  TRONROUT0000000032855812\n",
      "indexError ligne  TRONROUT0000000033029153\n",
      "indexError ligne  TRONROUT0000000323460798\n",
      "indexError ligne  TRONROUT0000000032937456\n",
      "indexError ligne  TRONROUT0000000089679809\n",
      "indexError ligne  TRONROUT0000000211249489\n",
      "5000eme occurence : TRONROUT0000000032859682 à 18:48:55 nb ligne traite : 32803, nb ligne differente=32803\n",
      "indexError ligne  TRONROUT0000000033039887\n",
      "indexError ligne  TRONROUT0000000249471289\n",
      "indexError ligne  TRONROUT0000000273289060\n",
      "indexError ligne  TRONROUT0000000089680356\n",
      "indexError ligne  TRONROUT0000000032852004\n",
      "indexError ligne  TRONROUT0000000032966024\n",
      "indexError ligne  TRONROUT0000000032985346\n",
      "indexError ligne  TRONROUT0000000211430256\n",
      "indexError ligne  TRONROUT0000000336641185\n",
      "indexError ligne  TRONROUT0000000032939836\n",
      "indexError ligne  TRONROUT0000000220168691\n",
      "indexError ligne  TRONROUT0000000226901122\n",
      "indexError ligne  TRONROUT0000000318145727\n",
      "indexError ligne  TRONROUT0000000224966445\n",
      "10000eme occurence : TRONROUT0000000032882286 à 19:06:30 nb ligne traite : 49930, nb ligne differente=49930\n",
      "indexError ligne  TRONROUT0000000032910829\n",
      "indexError ligne  TRONROUT0000000228389201\n",
      "indexError ligne  TRONROUT0000000129676347\n",
      "indexError ligne  TRONROUT0000000220761623\n",
      "indexError ligne  TRONROUT0000000098462823\n",
      "indexError ligne  TRONROUT0000000032945581\n",
      "indexError ligne  TRONROUT0000000226901119\n",
      "indexError ligne  TRONROUT0000000032895811\n",
      "indexError ligne  TRONROUT0000000220235164\n",
      "indexError ligne  TRONROUT0000000032970400\n",
      "indexError ligne  TRONROUT0000000032857834\n",
      "indexError ligne  TRONROUT0000000204719248\n",
      "indexError ligne  TRONROUT0000000280784899\n",
      "15000eme occurence : TRONROUT0000000033045774 à 19:19:23 nb ligne traite : 62588, nb ligne differente=62588\n",
      "indexError ligne  TRONROUT0000000032958312\n",
      "indexError ligne  TRONROUT0000000032986807\n",
      "indexError ligne  TRONROUT0000000336160525\n",
      "indexError ligne  TRONROUT0000000302053388\n",
      "indexError ligne  TRONROUT0000000032892920\n",
      "indexError ligne  TRONROUT0000000032898124\n",
      "indexError ligne  TRONROUT0000000032843557\n",
      "indexError ligne  TRONROUT0000000220761624\n",
      "indexError ligne  TRONROUT0000000253959502\n",
      "indexError ligne  TRONROUT0000000033001111\n",
      "indexError ligne  TRONROUT0000000032999540\n",
      "indexError ligne  TRONROUT0000000107259522\n",
      "indexError ligne  TRONROUT0000000247510344\n",
      "20000eme occurence : TRONROUT0000000032934392 à 19:31:23 nb ligne traite : 71807, nb ligne differente=71807\n",
      "indexError ligne  TRONROUT0000000033000676\n",
      "indexError ligne  TRONROUT0000000032966057\n",
      "indexError ligne  TRONROUT0000000032930883\n",
      "indexError ligne  TRONROUT0000000249470976\n",
      "indexError ligne  TRONROUT0000000032928393\n",
      "indexError ligne  TRONROUT0000000112536077\n",
      "indexError ligne  TRONROUT0000000301144126\n",
      "indexError ligne  TRONROUT0000000219979324\n",
      "indexError ligne  TRONROUT0000000229443458\n",
      "25000eme occurence : TRONROUT0000000032828056 à 19:39:47 nb ligne traite : 79076, nb ligne differente=79076\n",
      "indexError ligne  TRONROUT0000000032987038\n",
      "indexError ligne  TRONROUT0000000301134430\n",
      "indexError ligne  TRONROUT0000000032999536\n",
      "30000eme occurence : TRONROUT0000000032835688 à 19:45:03 nb ligne traite : 82867, nb ligne differente=82867\n",
      "indexError ligne  TRONROUT0000000287746996\n",
      "indexError ligne  TRONROUT0000000227870945\n",
      "35000eme occurence : TRONROUT0000000032956199 à 19:50:11 nb ligne traite : 85766, nb ligne differente=85766\n",
      "indexError ligne  TRONROUT0000000039536317\n",
      "indexError ligne  TRONROUT0000000130608456\n",
      "indexError ligne  TRONROUT0000000032986811\n",
      "40000eme occurence : TRONROUT0000000032994014 à 19:57:18 nb ligne traite : 89825, nb ligne differente=89825\n",
      "indexError ligne  TRONROUT0000000032843584\n",
      "indexError ligne  TRONROUT0000000032865362\n",
      "indexError ligne  TRONROUT0000000211249540\n",
      "indexError ligne  TRONROUT0000000032895374\n",
      "45000eme occurence : TRONROUT0000000032872086 à 20:03:31 nb ligne traite : 93504, nb ligne differente=93504\n",
      "indexError ligne  TRONROUT0000000032900009\n",
      "indexError ligne  TRONROUT0000000032843563\n",
      "indexError ligne  TRONROUT0000000032926691\n",
      "50000eme occurence : TRONROUT0000000032949389 à 20:08:40 nb ligne traite : 96414, nb ligne differente=96414\n",
      "indexError ligne  TRONROUT0000000249471036\n",
      "indexError ligne  TRONROUT0000000033000686\n",
      "55000eme occurence : TRONROUT0000000249471201 à 20:12:42 nb ligne traite : 98535, nb ligne differente=98535\n",
      "60000eme occurence : TRONROUT0000000032867879 à 20:14:28 nb ligne traite : 99565, nb ligne differente=99565\n",
      "indexError ligne  TRONROUT0000000201941200\n",
      "65000eme occurence : TRONROUT0000000033044083 à 20:16:43 nb ligne traite : 100550, nb ligne differente=100550\n",
      "70000eme occurence : TRONROUT0000000032827179 à 20:19:38 nb ligne traite : 101852, nb ligne differente=101852\n",
      "75000eme occurence : TRONROUT0000000032866209 à 20:22:17 nb ligne traite : 103062, nb ligne differente=103062\n",
      "indexError ligne  TRONROUT0000000070734678\n",
      "80000eme occurence : TRONROUT0000000032918745 à 20:25:33 nb ligne traite : 104416, nb ligne differente=104416\n",
      "85000eme occurence : TRONROUT0000000032903555 à 20:27:07 nb ligne traite : 105019, nb ligne differente=105019\n",
      "90000eme occurence : TRONROUT0000000033032013 à 20:28:45 nb ligne traite : 105563, nb ligne differente=105563\n",
      "95000eme occurence : TRONROUT0000000032936507 à 20:32:09 nb ligne traite : 106129, nb ligne differente=106129\n",
      "100000eme occurence : TRONROUT0000000302480360 à 20:33:18 nb ligne traite : 106707, nb ligne differente=106707\n",
      "indexError ligne  TRONROUT0000000032985341\n",
      "105000eme occurence : TRONROUT0000000129676453 à 20:34:43 nb ligne traite : 107250, nb ligne differente=107250\n"
     ]
    }
   ],
   "source": [
    "dico=at.affecter_troncon(df,df2_chaussees)"
   ]
  },
  {
   "cell_type": "code",
   "execution_count": 13,
   "metadata": {},
   "outputs": [],
   "source": [
    "with ct.ConnexionBdd('local_otv') as c :\n",
    "    at.inserer_dico(c, dico)"
   ]
  },
  {
   "cell_type": "markdown",
   "metadata": {},
   "source": [
    "POUR TRAITEMENT DES VOIES A 2 CHAUSSES : TROUVER PARRALLELE"
   ]
  },
  {
   "cell_type": "code",
   "execution_count": 87,
   "metadata": {},
   "outputs": [],
   "source": [
    "#liste des troncons (parametre entrant)\n",
    "liste_troncon=toto"
   ]
  },
  {
   "cell_type": "code",
   "execution_count": 88,
   "metadata": {},
   "outputs": [],
   "source": [
    "#conversion en geodf\n",
    "gdf_lignes=gp.GeoDataFrame(df.loc[liste_troncon], geometry='geom')\n",
    "gdf_lignes.to_file(r'D:\\temp\\otv\\17\\2_chaussees\\lignes_a_gouper.shp')"
   ]
  },
  {
   "cell_type": "code",
   "execution_count": 89,
   "metadata": {},
   "outputs": [],
   "source": [
    "#union des geometries\n",
    "gdf_lignes2=linemerge(gdf_lignes.unary_union)"
   ]
  },
  {
   "cell_type": "code",
   "execution_count": null,
   "metadata": {},
   "outputs": [],
   "source": [
    "gdf_lignes2.wkt"
   ]
  },
  {
   "cell_type": "code",
   "execution_count": 90,
   "metadata": {},
   "outputs": [],
   "source": [
    "#centroid de la ligne\n",
    "xmin,ymin,xmax,ymax=gdf_lignes2.interpolate(0.5, normalized=True).buffer(50).bounds\n",
    "point=gdf_lignes2.interpolate(0.5, normalized=True)"
   ]
  },
  {
   "cell_type": "code",
   "execution_count": 91,
   "metadata": {},
   "outputs": [
    {
     "data": {
      "text/plain": [
       "'POINT (385035.1182861876 6561685.156661048)'"
      ]
     },
     "execution_count": 91,
     "metadata": {},
     "output_type": "execute_result"
    }
   ],
   "source": [
    "point.wkt"
   ]
  },
  {
   "cell_type": "code",
   "execution_count": 92,
   "metadata": {},
   "outputs": [],
   "source": [
    "#recherche des lignes proches du centroid\n",
    "lignes_possibles=df.cx[xmin:xmax,ymin:ymax]\n",
    "lignes_possibles.to_file(r'D:\\temp\\otv\\17\\2_chaussees\\lignes_possibles.shp')"
   ]
  },
  {
   "cell_type": "code",
   "execution_count": null,
   "metadata": {},
   "outputs": [],
   "source": [
    "lignes_possibles"
   ]
  },
  {
   "cell_type": "code",
   "execution_count": 94,
   "metadata": {},
   "outputs": [],
   "source": [
    "#uniquement les lignes non présentes dans la liste de troncons avec le même nom de voie\n",
    "ligne_filtres=lignes_possibles.loc[(~lignes_possibles.index.isin(liste_troncon)) & (lignes_possibles['numero']==gdf_lignes.iloc[0]['numero'])]"
   ]
  },
  {
   "cell_type": "code",
   "execution_count": 95,
   "metadata": {},
   "outputs": [
    {
     "name": "stderr",
     "output_type": "stream",
     "text": [
      "c:\\users\\martin.schoreisz\\appdata\\local\\programs\\python\\python37\\lib\\site-packages\\ipykernel_launcher.py:2: SettingWithCopyWarning: \n",
      "A value is trying to be set on a copy of a slice from a DataFrame.\n",
      "Try using .loc[row_indexer,col_indexer] = value instead\n",
      "\n",
      "See the caveats in the documentation: http://pandas.pydata.org/pandas-docs/stable/indexing.html#indexing-view-versus-copy\n",
      "  \n"
     ]
    }
   ],
   "source": [
    "#obtenir les distances au centroid\n",
    "ligne_filtres['distance']=ligne_filtres.geom.apply(lambda x : gdf_lignes2.centroid.distance(x))"
   ]
  },
  {
   "cell_type": "code",
   "execution_count": 96,
   "metadata": {},
   "outputs": [
    {
     "data": {
      "text/plain": [
       "'TRONROUT0000000129676313'"
      ]
     },
     "execution_count": 96,
     "metadata": {},
     "output_type": "execute_result"
    }
   ],
   "source": [
    "#garder uniquement la valeur la plus proche du centroid\n",
    "ligne_proche=ligne_filtres.loc[ligne_filtres['distance']==ligne_filtres['distance'].min()].index.tolist()[0]\n",
    "ligne_proche"
   ]
  },
  {
   "cell_type": "markdown",
   "metadata": {},
   "source": [
    "POUR TRAITEMENT DES ROND POINTS"
   ]
  },
  {
   "cell_type": "code",
   "execution_count": 4,
   "metadata": {},
   "outputs": [],
   "source": [
    "#polygoniser les lignes\n",
    "#creer la gdf\n",
    "df.crs={'init':'epsg:2154'}"
   ]
  },
  {
   "cell_type": "code",
   "execution_count": 15,
   "metadata": {},
   "outputs": [],
   "source": [
    "#creer la lsite des rd points selon le critere atmo aura ; creer une gdf avec la liste\n",
    "liste_rd_points=[t.buffer(0.1) for t in polygonize(df.geometry) if 12<=((t.length**2)/t.area)<=14] # car un cercle à un rappor de ce type entre 12 et 13\n",
    "dico_rd_pt=[[i, ((t.length**2)/t.area)] for i,t in enumerate(polygonize(df.geometry)) if 12<=((t.length**2)/t.area)<=14]\n",
    "gdf_rd_point=gp.GeoDataFrame(dico_rd_pt, geometry=liste_rd_points)\n",
    "gdf_rd_point.crs={'init':'epsg:2154'}\n",
    "gdf_rd_point.columns=['id_rdpt', 'facteur','geometry']\n",
    "#on créer aussi la meme donnees avec un buffer interiuer, pour ne garder que les lignes dans le buffer exteriuer et hors buffer interieur (cas de rond point enjmabeant uine 2*2 et prenant la 2*2 voie qui est dans le polygone\n",
    "liste_rd_points_int=[t.buffer(-0.1) for t in polygonize(df.geometry) if 12<=((t.length**2)/t.area)<=14]\n",
    "dico_rd_pt_int=[[i, ((t.length**2)/t.area)] for i,t in enumerate(polygonize(df.geometry)) if 12<=((t.length**2)/t.area)<=14]\n",
    "gdf_rd_point_int=gp.GeoDataFrame(dico_rd_pt_int, geometry=liste_rd_points_int)\n",
    "gdf_rd_point_int.crs={'init':'epsg:2154'}\n",
    "gdf_rd_point_int.columns=['id_rdpt', 'facteur','geometry']"
   ]
  },
  {
   "cell_type": "code",
   "execution_count": 63,
   "metadata": {},
   "outputs": [],
   "source": [
    "#jointure spataile pour une gdf avec uniquement les lignes des rd_points avec le numéro\n",
    "l_dans_p=gp.sjoin(df,gdf_rd_point,op='within') "
   ]
  },
  {
   "cell_type": "code",
   "execution_count": 64,
   "metadata": {},
   "outputs": [],
   "source": [
    "#suprimer les doublons\n",
    "l_dans_p_ss_doublon=l_dans_p.reset_index().rename(columns={'index':'id_ign'}).drop_duplicates('id_ign').set_index('id_ign')"
   ]
  },
  {
   "cell_type": "code",
   "execution_count": 66,
   "metadata": {},
   "outputs": [],
   "source": [
    "l_dans_p_int=gp.sjoin(df,gdf_rd_point_int,op='within')"
   ]
  },
  {
   "cell_type": "code",
   "execution_count": 67,
   "metadata": {},
   "outputs": [],
   "source": [
    "l_dans_p_final=l_dans_p_ss_doublon.loc[~l_dans_p_ss_doublon.index.isin(l_dans_p_int.index.tolist())]"
   ]
  },
  {
   "cell_type": "code",
   "execution_count": 68,
   "metadata": {},
   "outputs": [],
   "source": [
    "#lignes qui touchent rd points\n",
    "#1.ligne qui intersectent avec id_rdpt\n",
    "l_intersct_rdpt=gp.sjoin(df,l_dans_p_final.drop('index_right', axis=1), how='inner',op='intersects')"
   ]
  },
  {
   "cell_type": "code",
   "execution_count": 69,
   "metadata": {},
   "outputs": [],
   "source": [
    "#2.filtre de celle contenue dans le rd points \n",
    "l_intersct_rdpt=l_intersct_rdpt.loc[~l_intersct_rdpt.index.isin(l_dans_p_final.index.tolist())][['id_rdpt','numero_left','codevoie_d_left']]"
   ]
  },
  {
   "cell_type": "code",
   "execution_count": 70,
   "metadata": {},
   "outputs": [],
   "source": [
    "#trouver le nb de voies qui intersectent chaque rd point et leur noms. renomer les colonnes\n",
    "carac_rd_pt=(pd.concat([l_intersct_rdpt.groupby('id_rdpt').numero_left.nunique(),\n",
    "    l_intersct_rdpt.groupby('id_rdpt')['numero_left'].apply(lambda x: ','.join(set(x))),\n",
    "    l_intersct_rdpt.groupby('id_rdpt')['codevoie_d_left'].apply(lambda x: ','.join(set(x)))], axis=1))\n",
    "carac_rd_pt.columns=['nb_rte_rdpt', 'nom_rte_rdpt','codevoie_rdpt']"
   ]
  },
  {
   "cell_type": "code",
   "execution_count": null,
   "metadata": {},
   "outputs": [],
   "source": [
    "l_dans_p_final"
   ]
  },
  {
   "cell_type": "code",
   "execution_count": 297,
   "metadata": {},
   "outputs": [],
   "source": [
    "#ajouter l'id_rdpt aux données\n",
    "gdf_l_rd_point=pd.concat([df.drop('id_rdpt',axis=1),l_dans_p_final.loc[:,'id_rdpt']],axis=1, sort=False)"
   ]
  },
  {
   "cell_type": "code",
   "execution_count": 298,
   "metadata": {},
   "outputs": [],
   "source": [
    "#mettre à jour la nature\n",
    "gdf_l_rd_point['nature']=gdf_l_rd_point.apply(lambda x : 'Rd_pt' if x.id_rdpt>=0 else x['nature'], axis=1)"
   ]
  },
  {
   "cell_type": "code",
   "execution_count": 299,
   "metadata": {},
   "outputs": [],
   "source": [
    "#ajouter les infos du rd point (nb voies différentes et nom)\n",
    "gdf_avec_rd_pt=gdf_l_rd_point.merge(carac_rd_pt, how='left',left_on='id_rdpt', right_index=True)"
   ]
  },
  {
   "cell_type": "code",
   "execution_count": 320,
   "metadata": {},
   "outputs": [],
   "source": [
    "def assigne_rdpt(id_rdpt,numero, liste_num, codevoie, liste_code) : \n",
    "    if id_rdpt >=0 :\n",
    "        if (numero in liste_num) or (codevoie in liste_code) :\n",
    "            return True\n",
    "        else : \n",
    "            return False"
   ]
  },
  {
   "cell_type": "code",
   "execution_count": 321,
   "metadata": {},
   "outputs": [],
   "source": [
    "gdf_avec_rd_pt['assigne_rdpt']=gdf_avec_rd_pt.apply(lambda x : assigne_rdpt(x['id_rdpt'],x['numero'], x['nom_rte_rdpt_y'], x['codevoie_d'],x['codevoie_rdpt']),axis=1)"
   ]
  },
  {
   "cell_type": "code",
   "execution_count": null,
   "metadata": {},
   "outputs": [],
   "source": [
    "#gdf_avec_rd_pt.loc[gdf_avec_rd_pt.loc[:,'id_rdpt']==l_dans_p['id_rdpt']]\n",
    "gdf_avec_rd_pt['id_rdpt']==l_dans_p['id_rdpt'].astype('float64')\n",
    "#l_dans_p.loc[l_dans_p.loc[:,'id_rdpt']].sort_index().sort_index(axis=1)])"
   ]
  },
  {
   "cell_type": "code",
   "execution_count": null,
   "metadata": {},
   "outputs": [],
   "source": [
    "#pour export et verif uniquement\n",
    "\n",
    "#gdf_l_rd_point.to_file(r'D:\\temp\\otv\\17\\test_rd_point\\test2.shp')\n",
    "#gdf_rd_point.to_file(r'D:\\temp\\otv\\17\\test_rd_point\\test1.shp')\n",
    "#l_intersct_rdpt.to_file(r'E:\\Boulot\\otv\\test_linearisation_auto\\test3.shp')\n",
    "df.to_file(r'E:\\Boulot\\otv\\test_linearisation_auto\\test7.shp')\n",
    "#df.to_file(r'D:\\temp\\otv\\17\\test_rd_point\\test5.shp')"
   ]
  },
  {
   "cell_type": "code",
   "execution_count": 91,
   "metadata": {},
   "outputs": [
    {
     "data": {
      "text/plain": [
       "'b,c,a'"
      ]
     },
     "execution_count": 91,
     "metadata": {},
     "output_type": "execute_result"
    }
   ],
   "source": [
    "','.join(set(['a','a','b','c']))"
   ]
  },
  {
   "cell_type": "code",
   "execution_count": 228,
   "metadata": {},
   "outputs": [],
   "source": [
    "id_ign_ligne='TRONROUT0000000342862858'\n",
    "df_ligne = df.loc[id_ign_ligne]\n",
    "ligne_traite_troncon=[]\n",
    "ligne_traite_troncon.append(id_ign_ligne)\n",
    "liste_ligne_suivantes=[] \n",
    "liste_ligne_touchees=[]"
   ]
  },
  {
   "cell_type": "code",
   "execution_count": null,
   "metadata": {},
   "outputs": [],
   "source": [
    "for key, value in {'nb_intrsct_src':['source', 'src_geom'],'nb_intrsct_tgt':['target', 'tgt_geom']}.items() :\n",
    "    df_touches_source = df.loc[(~df.index.isin(ligne_traite_troncon)) & ((df['source'] == df_ligne[value[0]]) | (df['target'] == df_ligne[value[0]]))]\n",
    "    df_rd_pt=df.loc[df['id_rdpt']==df_touches_source.iloc[0]['id_rdpt']]\n",
    "    l_df_rd_pt=df.loc[df.index.isin(gp.sjoin(df,df_rd_pt, how='inner',op='intersects').index.unique().tolist())]\n",
    "    l_df_rd_pt2=l_df_rd_pt.loc[~l_df_rd_pt.index.isin(df_rd_pt.index.tolist())].index.unique().tolist()\n",
    "    l_df_rd_pt3=df.loc[df.index.isin(l_df_rd_pt2),'codevoie_d'].unique().tolist()\n",
    "    print(l_df_rd_pt3)\n",
    "    #liste_ligne_touchees+=df_touches_source.index.tolist()"
   ]
  },
  {
   "cell_type": "code",
   "execution_count": 233,
   "metadata": {},
   "outputs": [
    {
     "data": {
      "text/plain": [
       "[nan]"
      ]
     },
     "execution_count": 233,
     "metadata": {},
     "output_type": "execute_result"
    }
   ],
   "source": [
    "df_touches_source['id_rdpt'].values.tolist()"
   ]
  },
  {
   "cell_type": "markdown",
   "metadata": {},
   "source": [
    "# TEST"
   ]
  },
  {
   "cell_type": "code",
   "execution_count": 138,
   "metadata": {},
   "outputs": [
    {
     "ename": "AttributeError",
     "evalue": "module 'numpy' has no attribute 'aray'",
     "output_type": "error",
     "traceback": [
      "\u001b[1;31m---------------------------------------------------------------------------\u001b[0m",
      "\u001b[1;31mAttributeError\u001b[0m                            Traceback (most recent call last)",
      "\u001b[1;32m<timed exec>\u001b[0m in \u001b[0;36m<module>\u001b[1;34m\u001b[0m\n",
      "\u001b[1;31mAttributeError\u001b[0m: module 'numpy' has no attribute 'aray'"
     ]
    }
   ],
   "source": [
    "%%time\n",
    "a=np.array([i for i in range(100000)])\n",
    "c=[]\n",
    "for i,b in enumerate(a) :\n",
    "    if b not in a :\n",
    "        continue\n",
    "    c=[b,b+1]\n",
    "    a=a[np.isin(a,c, invert=True)]\n",
    "    if i%50000==0 : print(i)"
   ]
  },
  {
   "cell_type": "code",
   "execution_count": 137,
   "metadata": {},
   "outputs": [
    {
     "name": "stdout",
     "output_type": "stream",
     "text": [
      "0\n",
      "50000\n",
      "Wall time: 5min 14s\n"
     ]
    }
   ],
   "source": [
    "%%time\n",
    "a=[i for i in range(100000)]\n",
    "c=[]\n",
    "for i,b in enumerate(a) :\n",
    "    if b not in a :\n",
    "        continue\n",
    "    c=[b,b+1]\n",
    "    a=[x for x in a if x not in c]\n",
    "    if i%50000==0 : print(i)"
   ]
  },
  {
   "cell_type": "code",
   "execution_count": 420,
   "metadata": {},
   "outputs": [
    {
     "data": {
      "text/plain": [
       "False"
      ]
     },
     "execution_count": 420,
     "metadata": {},
     "output_type": "execute_result"
    }
   ],
   "source": [
    "lignes_traitees=np.array([],dtype='<U24')\n",
    "'1' in lignes_traitees"
   ]
  },
  {
   "cell_type": "code",
   "execution_count": 416,
   "metadata": {},
   "outputs": [
    {
     "data": {
      "text/plain": [
       "dtype('<U24')"
      ]
     },
     "execution_count": 416,
     "metadata": {},
     "output_type": "execute_result"
    }
   ],
   "source": [
    "lignes_traitees.dtype"
   ]
  },
  {
   "cell_type": "code",
   "execution_count": null,
   "metadata": {},
   "outputs": [],
   "source": []
  }
 ],
 "metadata": {
  "kernelspec": {
   "display_name": "Python 3",
   "language": "python",
   "name": "python3"
  },
  "language_info": {
   "codemirror_mode": {
    "name": "ipython",
    "version": 3
   },
   "file_extension": ".py",
   "mimetype": "text/x-python",
   "name": "python",
   "nbconvert_exporter": "python",
   "pygments_lexer": "ipython3",
   "version": "3.7.0"
  }
 },
 "nbformat": 4,
 "nbformat_minor": 4
}
