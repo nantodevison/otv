{
 "cells": [
  {
   "cell_type": "code",
   "execution_count": 4,
   "metadata": {},
   "outputs": [
    {
     "name": "stdout",
     "output_type": "stream",
     "text": [
      "The autoreload extension is already loaded. To reload it, use:\n",
      "  %reload_ext autoreload\n"
     ]
    }
   ],
   "source": [
    "%load_ext autoreload\n",
    "%autoreload 2\n",
    "import sys #c'est pas propre mais pour le moment pour importer mes modules perso dans le notebook je ne sais pas faire\n",
    "sys.path.append(r'C:\\Users\\martin\\git\\Outils\\Outils\\Martin_Perso')\n",
    "sys.path.append(r'C:\\Users\\martin\\git\\otv\\otv\\Transfert_Donnees')\n",
    "import agrege_troncon as at\n",
    "import Connexion_Transfert as ct\n",
    "import matplotlib, os, fiona\n",
    "import geopandas as gp\n",
    "import pandas as pd\n",
    "import numpy as np\n",
    "from datetime import datetime\n",
    "import Connexion_Transfert as ct\n",
    "from shapely.wkt import loads\n",
    "from shapely.ops import nearest_points, polygonize, linemerge\n",
    "import Outils"
   ]
  },
  {
   "cell_type": "code",
   "execution_count": 5,
   "metadata": {},
   "outputs": [],
   "source": [
    "#importer les odnnées de  base\n",
    "with ct.ConnexionBdd('local_otv') as c : \n",
    "    df = gp.read_postgis(\"select t.*, v1.cnt nb_intrsct_src, st_astext(v1.the_geom) as src_geom, v2.cnt as nb_intrsct_tgt, st_astext(v2.the_geom) as tgt_geom from public.traf2015_bdt17_ed15_l t left join public.traf2015_bdt17_ed15_l_vertices_pgr v1 on t.\\\"source\\\"=v1.id left join public.traf2015_bdt17_ed15_l_vertices_pgr v2  on t.target=v2.id\", c.connexionPsy)\n",
    "nature_2_chaussees=['Route à 2 chaussées','Quasi-autoroute','Autoroute']\n",
    "#donnees generale du jdd\n",
    "df.set_index('id_ign', inplace=True)  # passer l'id_ign commme index ; necessaire sinon pb avec geometrie vu comme texte\n",
    "df2_chaussees=df.loc[df.loc[:,'nature'].isin(nature_2_chaussees)] #isoler les troncon de voies decrits par 2 lignes"
   ]
  },
  {
   "cell_type": "code",
   "execution_count": 11,
   "metadata": {},
   "outputs": [
    {
     "name": "stderr",
     "output_type": "stream",
     "text": [
      "c:\\users\\martin\\appdata\\local\\programs\\python\\python37\\lib\\site-packages\\numpy\\lib\\function_base.py:2167: RuntimeWarning: invalid value encountered in ? (vectorized)\n",
      "  outputs = ufunc(*inputs)\n"
     ]
    }
   ],
   "source": [
    "#affectation des lignes aux rd points\n",
    "df=at.identifier_rd_pt(df)"
   ]
  },
  {
   "cell_type": "code",
   "execution_count": 114,
   "metadata": {},
   "outputs": [],
   "source": [
    "toto=list(at.recup_troncon_elementaire('TRONROUT0000000032862365',df,[]))"
   ]
  },
  {
   "cell_type": "code",
   "execution_count": 115,
   "metadata": {},
   "outputs": [],
   "source": [
    "toto.append('TRONROUT0000000032862365')"
   ]
  },
  {
   "cell_type": "code",
   "execution_count": null,
   "metadata": {},
   "outputs": [],
   "source": [
    "toto"
   ]
  },
  {
   "cell_type": "code",
   "execution_count": 117,
   "metadata": {},
   "outputs": [
    {
     "name": "stderr",
     "output_type": "stream",
     "text": [
      "C:\\Users\\martin.schoreisz\\git\\otv\\otv\\Transfert_Donnees\\agrege_troncon.py:279: SettingWithCopyWarning: \n",
      "A value is trying to be set on a copy of a slice from a DataFrame.\n",
      "Try using .loc[row_indexer,col_indexer] = value instead\n",
      "\n",
      "See the caveats in the documentation: http://pandas.pydata.org/pandas-docs/stable/indexing.html#indexing-view-versus-copy\n",
      "  ligne_filtres['distance']=ligne_filtres.geom.apply(lambda x : gdf_lignes2.centroid.distance(x))\n"
     ]
    },
    {
     "data": {
      "text/plain": [
       "'TRONROUT0000000032876496'"
      ]
     },
     "execution_count": 117,
     "metadata": {},
     "output_type": "execute_result"
    }
   ],
   "source": [
    "at.recup_troncon_parallele_v2(df,toto)"
   ]
  },
  {
   "cell_type": "code",
   "execution_count": null,
   "metadata": {},
   "outputs": [],
   "source": [
    "for i in toto :\n",
    "    tata=at.affecter_troncon_ligne(i,df,df2_chaussees)\n",
    "    print(len(tata))"
   ]
  },
  {
   "cell_type": "code",
   "execution_count": 12,
   "metadata": {},
   "outputs": [
    {
     "name": "stdout",
     "output_type": "stream",
     "text": [
      "0eme occurence : TRONROUT0000000084053027 à 18:23:53 nb ligne traite : 0, nb ligne differente=0\n",
      "indexError ligne  TRONROUT0000000032954220\n",
      "indexError ligne  TRONROUT0000000033016282\n",
      "indexError ligne  TRONROUT0000000249471326\n",
      "indexError ligne  TRONROUT0000000336640149\n",
      "indexError ligne  TRONROUT0000000224966440\n",
      "indexError ligne  TRONROUT0000000032833606\n",
      "indexError ligne  TRONROUT0000000032895598\n",
      "indexError ligne  TRONROUT0000000032991823\n",
      "indexError ligne  TRONROUT0000000223846575\n",
      "indexError ligne  TRONROUT0000000255628539\n",
      "indexError ligne  TRONROUT0000000032895522\n",
      "indexError ligne  TRONROUT0000000032843156\n",
      "indexError ligne  TRONROUT0000000032966066\n",
      "indexError ligne  TRONROUT0000000129676068\n",
      "indexError ligne  TRONROUT0000000032855812\n",
      "indexError ligne  TRONROUT0000000033029153\n",
      "indexError ligne  TRONROUT0000000323460798\n",
      "indexError ligne  TRONROUT0000000032937456\n",
      "indexError ligne  TRONROUT0000000089679809\n",
      "indexError ligne  TRONROUT0000000211249489\n",
      "5000eme occurence : TRONROUT0000000032859682 à 18:48:55 nb ligne traite : 32803, nb ligne differente=32803\n",
      "indexError ligne  TRONROUT0000000033039887\n",
      "indexError ligne  TRONROUT0000000249471289\n",
      "indexError ligne  TRONROUT0000000273289060\n",
      "indexError ligne  TRONROUT0000000089680356\n",
      "indexError ligne  TRONROUT0000000032852004\n",
      "indexError ligne  TRONROUT0000000032966024\n",
      "indexError ligne  TRONROUT0000000032985346\n",
      "indexError ligne  TRONROUT0000000211430256\n",
      "indexError ligne  TRONROUT0000000336641185\n",
      "indexError ligne  TRONROUT0000000032939836\n",
      "indexError ligne  TRONROUT0000000220168691\n",
      "indexError ligne  TRONROUT0000000226901122\n",
      "indexError ligne  TRONROUT0000000318145727\n",
      "indexError ligne  TRONROUT0000000224966445\n",
      "10000eme occurence : TRONROUT0000000032882286 à 19:06:30 nb ligne traite : 49930, nb ligne differente=49930\n",
      "indexError ligne  TRONROUT0000000032910829\n",
      "indexError ligne  TRONROUT0000000228389201\n",
      "indexError ligne  TRONROUT0000000129676347\n",
      "indexError ligne  TRONROUT0000000220761623\n",
      "indexError ligne  TRONROUT0000000098462823\n",
      "indexError ligne  TRONROUT0000000032945581\n",
      "indexError ligne  TRONROUT0000000226901119\n",
      "indexError ligne  TRONROUT0000000032895811\n",
      "indexError ligne  TRONROUT0000000220235164\n",
      "indexError ligne  TRONROUT0000000032970400\n",
      "indexError ligne  TRONROUT0000000032857834\n",
      "indexError ligne  TRONROUT0000000204719248\n",
      "indexError ligne  TRONROUT0000000280784899\n",
      "15000eme occurence : TRONROUT0000000033045774 à 19:19:23 nb ligne traite : 62588, nb ligne differente=62588\n",
      "indexError ligne  TRONROUT0000000032958312\n",
      "indexError ligne  TRONROUT0000000032986807\n",
      "indexError ligne  TRONROUT0000000336160525\n",
      "indexError ligne  TRONROUT0000000302053388\n",
      "indexError ligne  TRONROUT0000000032892920\n",
      "indexError ligne  TRONROUT0000000032898124\n",
      "indexError ligne  TRONROUT0000000032843557\n",
      "indexError ligne  TRONROUT0000000220761624\n",
      "indexError ligne  TRONROUT0000000253959502\n",
      "indexError ligne  TRONROUT0000000033001111\n",
      "indexError ligne  TRONROUT0000000032999540\n",
      "indexError ligne  TRONROUT0000000107259522\n",
      "indexError ligne  TRONROUT0000000247510344\n",
      "20000eme occurence : TRONROUT0000000032934392 à 19:31:23 nb ligne traite : 71807, nb ligne differente=71807\n",
      "indexError ligne  TRONROUT0000000033000676\n",
      "indexError ligne  TRONROUT0000000032966057\n",
      "indexError ligne  TRONROUT0000000032930883\n",
      "indexError ligne  TRONROUT0000000249470976\n",
      "indexError ligne  TRONROUT0000000032928393\n",
      "indexError ligne  TRONROUT0000000112536077\n",
      "indexError ligne  TRONROUT0000000301144126\n",
      "indexError ligne  TRONROUT0000000219979324\n",
      "indexError ligne  TRONROUT0000000229443458\n",
      "25000eme occurence : TRONROUT0000000032828056 à 19:39:47 nb ligne traite : 79076, nb ligne differente=79076\n",
      "indexError ligne  TRONROUT0000000032987038\n",
      "indexError ligne  TRONROUT0000000301134430\n",
      "indexError ligne  TRONROUT0000000032999536\n",
      "30000eme occurence : TRONROUT0000000032835688 à 19:45:03 nb ligne traite : 82867, nb ligne differente=82867\n",
      "indexError ligne  TRONROUT0000000287746996\n",
      "indexError ligne  TRONROUT0000000227870945\n",
      "35000eme occurence : TRONROUT0000000032956199 à 19:50:11 nb ligne traite : 85766, nb ligne differente=85766\n",
      "indexError ligne  TRONROUT0000000039536317\n",
      "indexError ligne  TRONROUT0000000130608456\n",
      "indexError ligne  TRONROUT0000000032986811\n",
      "40000eme occurence : TRONROUT0000000032994014 à 19:57:18 nb ligne traite : 89825, nb ligne differente=89825\n",
      "indexError ligne  TRONROUT0000000032843584\n",
      "indexError ligne  TRONROUT0000000032865362\n",
      "indexError ligne  TRONROUT0000000211249540\n",
      "indexError ligne  TRONROUT0000000032895374\n",
      "45000eme occurence : TRONROUT0000000032872086 à 20:03:31 nb ligne traite : 93504, nb ligne differente=93504\n",
      "indexError ligne  TRONROUT0000000032900009\n",
      "indexError ligne  TRONROUT0000000032843563\n",
      "indexError ligne  TRONROUT0000000032926691\n",
      "50000eme occurence : TRONROUT0000000032949389 à 20:08:40 nb ligne traite : 96414, nb ligne differente=96414\n",
      "indexError ligne  TRONROUT0000000249471036\n",
      "indexError ligne  TRONROUT0000000033000686\n",
      "55000eme occurence : TRONROUT0000000249471201 à 20:12:42 nb ligne traite : 98535, nb ligne differente=98535\n",
      "60000eme occurence : TRONROUT0000000032867879 à 20:14:28 nb ligne traite : 99565, nb ligne differente=99565\n",
      "indexError ligne  TRONROUT0000000201941200\n",
      "65000eme occurence : TRONROUT0000000033044083 à 20:16:43 nb ligne traite : 100550, nb ligne differente=100550\n",
      "70000eme occurence : TRONROUT0000000032827179 à 20:19:38 nb ligne traite : 101852, nb ligne differente=101852\n",
      "75000eme occurence : TRONROUT0000000032866209 à 20:22:17 nb ligne traite : 103062, nb ligne differente=103062\n",
      "indexError ligne  TRONROUT0000000070734678\n",
      "80000eme occurence : TRONROUT0000000032918745 à 20:25:33 nb ligne traite : 104416, nb ligne differente=104416\n",
      "85000eme occurence : TRONROUT0000000032903555 à 20:27:07 nb ligne traite : 105019, nb ligne differente=105019\n",
      "90000eme occurence : TRONROUT0000000033032013 à 20:28:45 nb ligne traite : 105563, nb ligne differente=105563\n",
      "95000eme occurence : TRONROUT0000000032936507 à 20:32:09 nb ligne traite : 106129, nb ligne differente=106129\n",
      "100000eme occurence : TRONROUT0000000302480360 à 20:33:18 nb ligne traite : 106707, nb ligne differente=106707\n",
      "indexError ligne  TRONROUT0000000032985341\n",
      "105000eme occurence : TRONROUT0000000129676453 à 20:34:43 nb ligne traite : 107250, nb ligne differente=107250\n"
     ]
    }
   ],
   "source": [
    "dico=at.affecter_troncon(df,df2_chaussees)"
   ]
  },
  {
   "cell_type": "code",
   "execution_count": 13,
   "metadata": {},
   "outputs": [],
   "source": [
    "with ct.ConnexionBdd('local_otv') as c :\n",
    "    at.inserer_dico(c, dico)"
   ]
  },
  {
   "cell_type": "markdown",
   "metadata": {},
   "source": [
    "POUR TRAITEMENT DES VOIES A 2 CHAUSSES : TROUVER PARRALLELE"
   ]
  },
  {
   "cell_type": "code",
   "execution_count": 87,
   "metadata": {},
   "outputs": [],
   "source": [
    "#liste des troncons (parametre entrant)\n",
    "liste_troncon=toto"
   ]
  },
  {
   "cell_type": "code",
   "execution_count": 88,
   "metadata": {},
   "outputs": [],
   "source": [
    "#conversion en geodf\n",
    "gdf_lignes=gp.GeoDataFrame(df.loc[liste_troncon], geometry='geom')\n",
    "gdf_lignes.to_file(r'D:\\temp\\otv\\17\\2_chaussees\\lignes_a_gouper.shp')"
   ]
  },
  {
   "cell_type": "code",
   "execution_count": 89,
   "metadata": {},
   "outputs": [],
   "source": [
    "#union des geometries\n",
    "gdf_lignes2=linemerge(gdf_lignes.unary_union)"
   ]
  },
  {
   "cell_type": "code",
   "execution_count": null,
   "metadata": {},
   "outputs": [],
   "source": [
    "gdf_lignes2.wkt"
   ]
  },
  {
   "cell_type": "code",
   "execution_count": 90,
   "metadata": {},
   "outputs": [],
   "source": [
    "#centroid de la ligne\n",
    "xmin,ymin,xmax,ymax=gdf_lignes2.interpolate(0.5, normalized=True).buffer(50).bounds\n",
    "point=gdf_lignes2.interpolate(0.5, normalized=True)"
   ]
  },
  {
   "cell_type": "code",
   "execution_count": 91,
   "metadata": {},
   "outputs": [
    {
     "data": {
      "text/plain": [
       "'POINT (385035.1182861876 6561685.156661048)'"
      ]
     },
     "execution_count": 91,
     "metadata": {},
     "output_type": "execute_result"
    }
   ],
   "source": [
    "point.wkt"
   ]
  },
  {
   "cell_type": "code",
   "execution_count": 92,
   "metadata": {},
   "outputs": [],
   "source": [
    "#recherche des lignes proches du centroid\n",
    "lignes_possibles=df.cx[xmin:xmax,ymin:ymax]\n",
    "lignes_possibles.to_file(r'D:\\temp\\otv\\17\\2_chaussees\\lignes_possibles.shp')"
   ]
  },
  {
   "cell_type": "code",
   "execution_count": null,
   "metadata": {},
   "outputs": [],
   "source": [
    "lignes_possibles"
   ]
  },
  {
   "cell_type": "code",
   "execution_count": 94,
   "metadata": {},
   "outputs": [],
   "source": [
    "#uniquement les lignes non présentes dans la liste de troncons avec le même nom de voie\n",
    "ligne_filtres=lignes_possibles.loc[(~lignes_possibles.index.isin(liste_troncon)) & (lignes_possibles['numero']==gdf_lignes.iloc[0]['numero'])]"
   ]
  },
  {
   "cell_type": "code",
   "execution_count": 95,
   "metadata": {},
   "outputs": [
    {
     "name": "stderr",
     "output_type": "stream",
     "text": [
      "c:\\users\\martin.schoreisz\\appdata\\local\\programs\\python\\python37\\lib\\site-packages\\ipykernel_launcher.py:2: SettingWithCopyWarning: \n",
      "A value is trying to be set on a copy of a slice from a DataFrame.\n",
      "Try using .loc[row_indexer,col_indexer] = value instead\n",
      "\n",
      "See the caveats in the documentation: http://pandas.pydata.org/pandas-docs/stable/indexing.html#indexing-view-versus-copy\n",
      "  \n"
     ]
    }
   ],
   "source": [
    "#obtenir les distances au centroid\n",
    "ligne_filtres['distance']=ligne_filtres.geom.apply(lambda x : gdf_lignes2.centroid.distance(x))"
   ]
  },
  {
   "cell_type": "code",
   "execution_count": 96,
   "metadata": {},
   "outputs": [
    {
     "data": {
      "text/plain": [
       "'TRONROUT0000000129676313'"
      ]
     },
     "execution_count": 96,
     "metadata": {},
     "output_type": "execute_result"
    }
   ],
   "source": [
    "#garder uniquement la valeur la plus proche du centroid\n",
    "ligne_proche=ligne_filtres.loc[ligne_filtres['distance']==ligne_filtres['distance'].min()].index.tolist()[0]\n",
    "ligne_proche"
   ]
  },
  {
   "cell_type": "markdown",
   "metadata": {},
   "source": [
    "POUR TRAITEMENT DES ROND POINTS"
   ]
  },
  {
   "cell_type": "code",
   "execution_count": 4,
   "metadata": {},
   "outputs": [],
   "source": [
    "#polygoniser les lignes\n",
    "#creer la gdf\n",
    "df.crs={'init':'epsg:2154'}"
   ]
  },
  {
   "cell_type": "code",
   "execution_count": 15,
   "metadata": {},
   "outputs": [],
   "source": [
    "#creer la lsite des rd points selon le critere atmo aura ; creer une gdf avec la liste\n",
    "liste_rd_points=[t.buffer(0.1) for t in polygonize(df.geometry) if 12<=((t.length**2)/t.area)<=14] # car un cercle à un rappor de ce type entre 12 et 13\n",
    "dico_rd_pt=[[i, ((t.length**2)/t.area)] for i,t in enumerate(polygonize(df.geometry)) if 12<=((t.length**2)/t.area)<=14]\n",
    "gdf_rd_point=gp.GeoDataFrame(dico_rd_pt, geometry=liste_rd_points)\n",
    "gdf_rd_point.crs={'init':'epsg:2154'}\n",
    "gdf_rd_point.columns=['id_rdpt', 'facteur','geometry']\n",
    "#on créer aussi la meme donnees avec un buffer interiuer, pour ne garder que les lignes dans le buffer exteriuer et hors buffer interieur (cas de rond point enjmabeant uine 2*2 et prenant la 2*2 voie qui est dans le polygone\n",
    "liste_rd_points_int=[t.buffer(-0.1) for t in polygonize(df.geometry) if 12<=((t.length**2)/t.area)<=14]\n",
    "dico_rd_pt_int=[[i, ((t.length**2)/t.area)] for i,t in enumerate(polygonize(df.geometry)) if 12<=((t.length**2)/t.area)<=14]\n",
    "gdf_rd_point_int=gp.GeoDataFrame(dico_rd_pt_int, geometry=liste_rd_points_int)\n",
    "gdf_rd_point_int.crs={'init':'epsg:2154'}\n",
    "gdf_rd_point_int.columns=['id_rdpt', 'facteur','geometry']"
   ]
  },
  {
   "cell_type": "code",
   "execution_count": 63,
   "metadata": {},
   "outputs": [],
   "source": [
    "#jointure spataile pour une gdf avec uniquement les lignes des rd_points avec le numéro\n",
    "l_dans_p=gp.sjoin(df,gdf_rd_point,op='within') "
   ]
  },
  {
   "cell_type": "code",
   "execution_count": 64,
   "metadata": {},
   "outputs": [],
   "source": [
    "#suprimer les doublons\n",
    "l_dans_p_ss_doublon=l_dans_p.reset_index().rename(columns={'index':'id_ign'}).drop_duplicates('id_ign').set_index('id_ign')"
   ]
  },
  {
   "cell_type": "code",
   "execution_count": 66,
   "metadata": {},
   "outputs": [],
   "source": [
    "l_dans_p_int=gp.sjoin(df,gdf_rd_point_int,op='within')"
   ]
  },
  {
   "cell_type": "code",
   "execution_count": 67,
   "metadata": {},
   "outputs": [],
   "source": [
    "l_dans_p_final=l_dans_p_ss_doublon.loc[~l_dans_p_ss_doublon.index.isin(l_dans_p_int.index.tolist())]"
   ]
  },
  {
   "cell_type": "code",
   "execution_count": 68,
   "metadata": {},
   "outputs": [],
   "source": [
    "#lignes qui touchent rd points\n",
    "#1.ligne qui intersectent avec id_rdpt\n",
    "l_intersct_rdpt=gp.sjoin(df,l_dans_p_final.drop('index_right', axis=1), how='inner',op='intersects')"
   ]
  },
  {
   "cell_type": "code",
   "execution_count": 69,
   "metadata": {},
   "outputs": [],
   "source": [
    "#2.filtre de celle contenue dans le rd points \n",
    "l_intersct_rdpt=l_intersct_rdpt.loc[~l_intersct_rdpt.index.isin(l_dans_p_final.index.tolist())][['id_rdpt','numero_left','codevoie_d_left']]"
   ]
  },
  {
   "cell_type": "code",
   "execution_count": 70,
   "metadata": {},
   "outputs": [],
   "source": [
    "#trouver le nb de voies qui intersectent chaque rd point et leur noms. renomer les colonnes\n",
    "carac_rd_pt=(pd.concat([l_intersct_rdpt.groupby('id_rdpt').numero_left.nunique(),\n",
    "    l_intersct_rdpt.groupby('id_rdpt')['numero_left'].apply(lambda x: ','.join(set(x))),\n",
    "    l_intersct_rdpt.groupby('id_rdpt')['codevoie_d_left'].apply(lambda x: ','.join(set(x)))], axis=1))\n",
    "carac_rd_pt.columns=['nb_rte_rdpt', 'nom_rte_rdpt','codevoie_rdpt']"
   ]
  },
  {
   "cell_type": "code",
   "execution_count": null,
   "metadata": {},
   "outputs": [],
   "source": [
    "l_dans_p_final"
   ]
  },
  {
   "cell_type": "code",
   "execution_count": 297,
   "metadata": {},
   "outputs": [],
   "source": [
    "#ajouter l'id_rdpt aux données\n",
    "gdf_l_rd_point=pd.concat([df.drop('id_rdpt',axis=1),l_dans_p_final.loc[:,'id_rdpt']],axis=1, sort=False)"
   ]
  },
  {
   "cell_type": "code",
   "execution_count": 298,
   "metadata": {},
   "outputs": [],
   "source": [
    "#mettre à jour la nature\n",
    "gdf_l_rd_point['nature']=gdf_l_rd_point.apply(lambda x : 'Rd_pt' if x.id_rdpt>=0 else x['nature'], axis=1)"
   ]
  },
  {
   "cell_type": "code",
   "execution_count": 299,
   "metadata": {},
   "outputs": [],
   "source": [
    "#ajouter les infos du rd point (nb voies différentes et nom)\n",
    "gdf_avec_rd_pt=gdf_l_rd_point.merge(carac_rd_pt, how='left',left_on='id_rdpt', right_index=True)"
   ]
  },
  {
   "cell_type": "code",
   "execution_count": 320,
   "metadata": {},
   "outputs": [],
   "source": [
    "def assigne_rdpt(id_rdpt,numero, liste_num, codevoie, liste_code) : \n",
    "    if id_rdpt >=0 :\n",
    "        if (numero in liste_num) or (codevoie in liste_code) :\n",
    "            return True\n",
    "        else : \n",
    "            return False"
   ]
  },
  {
   "cell_type": "code",
   "execution_count": 321,
   "metadata": {},
   "outputs": [],
   "source": [
    "gdf_avec_rd_pt['assigne_rdpt']=gdf_avec_rd_pt.apply(lambda x : assigne_rdpt(x['id_rdpt'],x['numero'], x['nom_rte_rdpt_y'], x['codevoie_d'],x['codevoie_rdpt']),axis=1)"
   ]
  },
  {
   "cell_type": "code",
   "execution_count": null,
   "metadata": {},
   "outputs": [],
   "source": [
    "#gdf_avec_rd_pt.loc[gdf_avec_rd_pt.loc[:,'id_rdpt']==l_dans_p['id_rdpt']]\n",
    "gdf_avec_rd_pt['id_rdpt']==l_dans_p['id_rdpt'].astype('float64')\n",
    "#l_dans_p.loc[l_dans_p.loc[:,'id_rdpt']].sort_index().sort_index(axis=1)])"
   ]
  },
  {
   "cell_type": "code",
   "execution_count": null,
   "metadata": {},
   "outputs": [],
   "source": [
    "#pour export et verif uniquement\n",
    "\n",
    "#gdf_l_rd_point.to_file(r'D:\\temp\\otv\\17\\test_rd_point\\test2.shp')\n",
    "#gdf_rd_point.to_file(r'D:\\temp\\otv\\17\\test_rd_point\\test1.shp')\n",
    "#l_intersct_rdpt.to_file(r'E:\\Boulot\\otv\\test_linearisation_auto\\test3.shp')\n",
    "df.to_file(r'E:\\Boulot\\otv\\test_linearisation_auto\\test7.shp')\n",
    "#df.to_file(r'D:\\temp\\otv\\17\\test_rd_point\\test5.shp')"
   ]
  },
  {
   "cell_type": "code",
   "execution_count": 91,
   "metadata": {},
   "outputs": [
    {
     "data": {
      "text/plain": [
       "'b,c,a'"
      ]
     },
     "execution_count": 91,
     "metadata": {},
     "output_type": "execute_result"
    }
   ],
   "source": [
    "','.join(set(['a','a','b','c']))"
   ]
  },
  {
   "cell_type": "code",
   "execution_count": 228,
   "metadata": {},
   "outputs": [],
   "source": [
    "id_ign_ligne='TRONROUT0000000342862858'\n",
    "df_ligne = df.loc[id_ign_ligne]\n",
    "ligne_traite_troncon=[]\n",
    "ligne_traite_troncon.append(id_ign_ligne)\n",
    "liste_ligne_suivantes=[] \n",
    "liste_ligne_touchees=[]"
   ]
  },
  {
   "cell_type": "code",
   "execution_count": null,
   "metadata": {},
   "outputs": [],
   "source": [
    "for key, value in {'nb_intrsct_src':['source', 'src_geom'],'nb_intrsct_tgt':['target', 'tgt_geom']}.items() :\n",
    "    df_touches_source = df.loc[(~df.index.isin(ligne_traite_troncon)) & ((df['source'] == df_ligne[value[0]]) | (df['target'] == df_ligne[value[0]]))]\n",
    "    df_rd_pt=df.loc[df['id_rdpt']==df_touches_source.iloc[0]['id_rdpt']]\n",
    "    l_df_rd_pt=df.loc[df.index.isin(gp.sjoin(df,df_rd_pt, how='inner',op='intersects').index.unique().tolist())]\n",
    "    l_df_rd_pt2=l_df_rd_pt.loc[~l_df_rd_pt.index.isin(df_rd_pt.index.tolist())].index.unique().tolist()\n",
    "    l_df_rd_pt3=df.loc[df.index.isin(l_df_rd_pt2),'codevoie_d'].unique().tolist()\n",
    "    print(l_df_rd_pt3)\n",
    "    #liste_ligne_touchees+=df_touches_source.index.tolist()"
   ]
  },
  {
   "cell_type": "code",
   "execution_count": 233,
   "metadata": {},
   "outputs": [
    {
     "data": {
      "text/plain": [
       "[nan]"
      ]
     },
     "execution_count": 233,
     "metadata": {},
     "output_type": "execute_result"
    }
   ],
   "source": [
    "df_touches_source['id_rdpt'].values.tolist()"
   ]
  },
  {
   "cell_type": "code",
   "execution_count": 231,
   "metadata": {},
   "outputs": [
    {
     "data": {
      "text/plain": [
       "['TRONROUT0000000032845699',\n",
       " 'TRONROUT0000000032845656',\n",
       " 'TRONROUT0000000032845688']"
      ]
     },
     "execution_count": 231,
     "metadata": {},
     "output_type": "execute_result"
    }
   ],
   "source": [
    "liste_ligne_touchees"
   ]
  }
 ],
 "metadata": {
  "kernelspec": {
   "display_name": "Python 3",
   "language": "python",
   "name": "python3"
  },
  "language_info": {
   "codemirror_mode": {
    "name": "ipython",
    "version": 3
   },
   "file_extension": ".py",
   "mimetype": "text/x-python",
   "name": "python",
   "nbconvert_exporter": "python",
   "pygments_lexer": "ipython3",
   "version": "3.7.2"
  }
 },
 "nbformat": 4,
 "nbformat_minor": 2
}
