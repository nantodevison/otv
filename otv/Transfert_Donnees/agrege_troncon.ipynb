{
 "cells": [
  {
   "cell_type": "code",
   "execution_count": 306,
   "metadata": {},
   "outputs": [
    {
     "name": "stdout",
     "output_type": "stream",
     "text": [
      "The autoreload extension is already loaded. To reload it, use:\n",
      "  %reload_ext autoreload\n"
     ]
    }
   ],
   "source": [
    "%load_ext autoreload\n",
    "%autoreload 2\n",
    "import sys #c'est pas propre mais pour le moment pour importer mes modules perso dans le notebook je ne sais pas faire\n",
    "sys.path.append(r'C:\\Users\\martin.schoreisz\\git\\Outils\\Outils\\Martin_Perso')\n",
    "sys.path.append(r'C:\\Users\\martin.schoreisz\\git\\otv\\otv\\Transfert_Donnees')\n",
    "import agrege_troncon as at\n",
    "import Connexion_Transfert as ct\n",
    "import matplotlib, os, fiona\n",
    "import geopandas as gp\n",
    "import pandas as pd\n",
    "import numpy as np\n",
    "from datetime import datetime\n",
    "import Connexion_Transfert as ct\n",
    "from shapely.wkt import loads\n",
    "from shapely.ops import nearest_points, polygonize, linemerge,unary_union\n",
    "from shapely.geometry import Point,MultiLineString\n",
    "from collections import Counter\n",
    "from geoalchemy2 import Geometry, WKTElement\n",
    "from sqlalchemy import Table, Column, Integer, String, MetaData\n",
    "from sqlalchemy.sql import select\n",
    "from sklearn.cluster import DBSCAN\n",
    "import Outils\n",
    "#pd.set_option('display.max_colwidth', 1000)\n",
    "pd.set_option('display.max_columns', 50)\n",
    "pd.set_option('display.max_colwidth', 200)"
   ]
  },
  {
   "cell_type": "markdown",
   "metadata": {},
   "source": [
    "# A FAIRE : 1\n",
    "- \"triangle\" multiple : TRONROUT0000000032823937\n",
    "- mauvais split : TRONROUT0000000032848625\n",
    "- erreur rd pt : TRONROUT0000000032840707\n",
    "- 2*2 voies voies communales : TRONROUT0000000032848788 (ss les rd points ç amarche bien, ça pourrait etre une solution...)\n",
    "- triangle foireux : TRONROUT0000000032839017"
   ]
  },
  {
   "cell_type": "markdown",
   "metadata": {},
   "source": [
    "# IMPORTER LES DONNEES \n",
    "> depuis la base de données locale, en ne prenant en compte que les lignes qui intersectent une zone carré au N-O"
   ]
  },
  {
   "cell_type": "code",
   "execution_count": 2,
   "metadata": {},
   "outputs": [],
   "source": [
    "df=at.import_donnes_base('local_otv')\n",
    "df2_chaussees=df.loc[df.nature.isin(['Autoroute', 'Quasi-autoroute', 'Route à 2 chaussées'])]"
   ]
  },
  {
   "cell_type": "code",
   "execution_count": 3,
   "metadata": {},
   "outputs": [
    {
     "name": "stderr",
     "output_type": "stream",
     "text": [
      "c:\\users\\martin.schoreisz\\appdata\\local\\programs\\python\\python37\\lib\\site-packages\\geopandas\\io\\file.py:108: FionaDeprecationWarning: Use fiona.Env() instead.\n",
      "  with fiona.drivers():\n"
     ]
    }
   ],
   "source": [
    "df.to_file(r'D:\\temp\\otv\\test_linearisation\\donnees_test.shp')"
   ]
  },
  {
   "cell_type": "markdown",
   "metadata": {},
   "source": [
    "# 1 RONDS POINTS"
   ]
  },
  {
   "cell_type": "code",
   "execution_count": 4,
   "metadata": {},
   "outputs": [
    {
     "name": "stderr",
     "output_type": "stream",
     "text": [
      "c:\\users\\martin.schoreisz\\appdata\\local\\programs\\python\\python37\\lib\\site-packages\\numpy\\lib\\function_base.py:2167: RuntimeWarning: invalid value encountered in ? (vectorized)\n",
      "  outputs = ufunc(*inputs)\n"
     ]
    }
   ],
   "source": [
    "df_avec_rd_pt,carac_rd_pt,lign_entrant_rdpt=at.identifier_rd_pt(df)\n",
    "df_lignes=df_avec_rd_pt.set_index('id_ign')#mettre l'id_ign en index"
   ]
  },
  {
   "cell_type": "code",
   "execution_count": 5,
   "metadata": {},
   "outputs": [],
   "source": [
    "df_avec_rd_pt[['id_ign', 'geom', 'id', 'nature', 'numero', 'importance', 'cl_admin',\n",
    "       'gestion', 'mise_serv', 'fictif', 'franchisst', 'largeur', 'z_ini',\n",
    "       'z_fin', 'nb_voies', 'sens', 'etat', 'long_km', 'coment_cpt', 'src_cpt',\n",
    "       'id_comptag', 'obs_supl', 'ann_pt', 'coment_tmj', 'tmja', 'tmja_final',\n",
    "       'pc_pl', 'obs_tmja', 'obs_pc_pl', 'type_vdf', 'vts_type', 'vma',\n",
    "       'veh_km', 'id_cpt1', 'id_cpt2', 'obs_tmj1', 'obs_tmj2', 'id_sect',\n",
    "       'src_sect', 'autor_sect', 'codau_cat', 'milieu', 'vts_vl_vdf',\n",
    "       'vts_pl_vdf', 'vts_gest', 'obs_vts', 'vts_osm', 'vts_modif', 'vts_vl_f',\n",
    "       'vts_pl_f', 'codau', 'codau_cont', 'tmja_cont', 'pc_pl_cont', 'source',\n",
    "       'target', 'recup', 'attr_modif', 'codevoie_d', 'id_tronc_elem',\n",
    "       'nb_intrsct_src', 'src_geom', 'nb_intrsct_tgt', 'tgt_geom', 'id_rdpt',\n",
    "       'nb_rte_rdpt', 'nb_obj_sig_entrant']].to_file(r'D:\\temp\\otv\\test_linearisation\\df_avec_rd_pt.shp')"
   ]
  },
  {
   "cell_type": "markdown",
   "metadata": {},
   "source": [
    "# 2. TRAITEMENTS \n",
    "> La base c'est : \n",
    "- regrouper les lignes qui se suivent\n",
    "- trouver les lignes d'arret\n",
    "- trouver les lignes suivantes\n",
    "- voir le cas des lignes suivantes : \n",
    "    - rd point\n",
    "    - mm route qui se sépare\n",
    "    - rien\n",
    "\n",
    "><br> L'idée c'est ça  : on met la premiere ligne a tester dans une liste, on l'utilise et on stocke les lignes associées dans une autre liste. ensuite on check les lignes suivantes : si elles sont dans un cas où il faut continuer les traitements, on remplace la ligne de départ dans la liste de départ par ces nouvelles lignes, pour lesquelles on applique de nouveau la recherche des lignes qui se suivent. tant que la liste des lignes suivantes est pa vide on reste dans une boucle while"
   ]
  },
  {
   "cell_type": "markdown",
   "metadata": {},
   "source": [
    "## 2.1 Troncons de base"
   ]
  },
  {
   "cell_type": "code",
   "execution_count": 190,
   "metadata": {},
   "outputs": [],
   "source": [
    "# ligne a tester : TRONROUT0000000339411609 TRONROUT0000000032869130 TRONROUT0000000032859410\n",
    "id_lignes='TRONROUT0000000032834954'\n",
    "#trouver tous les troncons proches qui se suivent\n",
    "#list_troncon=[id_ligne]+[a for a in at.liste_troncon_base(id_ligne,df_lignes)]\n",
    "list_troncon=at.liste_complete_tronc_base(id_lignes,df_lignes,[])"
   ]
  },
  {
   "cell_type": "markdown",
   "metadata": {},
   "source": [
    "## 2.2 lignes d'arret"
   ]
  },
  {
   "cell_type": "code",
   "execution_count": 191,
   "metadata": {},
   "outputs": [],
   "source": [
    "#trouver les troncons de debut et de fin :ceux pour lesquels on a un nombre de ligne sur target source >2\n",
    "dico_deb_fin=at.deb_fin_liste_tronc_base(df_lignes, list_troncon)"
   ]
  },
  {
   "cell_type": "code",
   "execution_count": 192,
   "metadata": {
    "collapsed": true,
    "jupyter": {
     "outputs_hidden": true
    }
   },
   "outputs": [
    {
     "data": {
      "text/plain": [
       "{0: {'id': 'TRONROUT0000000032834954',\n",
       "  'type': 'source',\n",
       "  'num_node': 4018,\n",
       "  'geom_node': 'POINT(412859.8 6574660.49999999)',\n",
       "  'voie': 'NC',\n",
       "  'codevoie': 'NR'},\n",
       " 1: {'id': 'TRONROUT0000000032834958',\n",
       "  'type': 'target',\n",
       "  'num_node': 72644,\n",
       "  'geom_node': 'POINT(412241.7 6575028.99999999)',\n",
       "  'voie': 'NC',\n",
       "  'codevoie': 'NR'}}"
      ]
     },
     "execution_count": 192,
     "metadata": {},
     "output_type": "execute_result"
    }
   ],
   "source": [
    "dico_deb_fin"
   ]
  },
  {
   "cell_type": "code",
   "execution_count": 193,
   "metadata": {},
   "outputs": [],
   "source": [
    "ligne='TRONROUT0000000032834954'\n",
    "for v in dico_deb_fin.values() : \n",
    "    if v['id']==ligne :\n",
    "        voie=v['voie']\n",
    "        noeud=v['num_node']\n",
    "        geom_noeud=v['geom_node']\n",
    "        type_noeud=v['type']\n",
    "        codevoie=v['codevoie']\n",
    "        #break\n",
    "    else : \n",
    "        continue"
   ]
  },
  {
   "cell_type": "markdown",
   "metadata": {},
   "source": [
    "## 2.3 lignes suivantes"
   ]
  },
  {
   "cell_type": "code",
   "execution_count": 194,
   "metadata": {},
   "outputs": [],
   "source": [
    "#vérifier si une ligne touche un rd point\n",
    "# aprtir d'une ligne et d'un numero de noeud, on récupère les lignes qui touchent\n",
    "lignes_adj=df_lignes.loc[((df_lignes['source']==noeud)|(df_lignes['target']==noeud))&(df_lignes.index!=ligne)]"
   ]
  },
  {
   "cell_type": "code",
   "execution_count": 195,
   "metadata": {
    "collapsed": true,
    "jupyter": {
     "outputs_hidden": true
    }
   },
   "outputs": [
    {
     "data": {
      "text/html": [
       "<div>\n",
       "<style scoped>\n",
       "    .dataframe tbody tr th:only-of-type {\n",
       "        vertical-align: middle;\n",
       "    }\n",
       "\n",
       "    .dataframe tbody tr th {\n",
       "        vertical-align: top;\n",
       "    }\n",
       "\n",
       "    .dataframe thead th {\n",
       "        text-align: right;\n",
       "    }\n",
       "</style>\n",
       "<table border=\"1\" class=\"dataframe\">\n",
       "  <thead>\n",
       "    <tr style=\"text-align: right;\">\n",
       "      <th></th>\n",
       "      <th>geom</th>\n",
       "      <th>id</th>\n",
       "      <th>nature</th>\n",
       "      <th>numero</th>\n",
       "      <th>importance</th>\n",
       "      <th>cl_admin</th>\n",
       "      <th>gestion</th>\n",
       "      <th>mise_serv</th>\n",
       "      <th>fictif</th>\n",
       "      <th>franchisst</th>\n",
       "      <th>largeur</th>\n",
       "      <th>z_ini</th>\n",
       "      <th>z_fin</th>\n",
       "      <th>nb_voies</th>\n",
       "      <th>sens</th>\n",
       "      <th>etat</th>\n",
       "      <th>long_km</th>\n",
       "      <th>coment_cpt</th>\n",
       "      <th>src_cpt</th>\n",
       "      <th>id_comptag</th>\n",
       "      <th>obs_supl</th>\n",
       "      <th>ann_pt</th>\n",
       "      <th>coment_tmj</th>\n",
       "      <th>tmja</th>\n",
       "      <th>tmja_final</th>\n",
       "      <th>...</th>\n",
       "      <th>vts_osm</th>\n",
       "      <th>vts_modif</th>\n",
       "      <th>vts_vl_f</th>\n",
       "      <th>vts_pl_f</th>\n",
       "      <th>codau</th>\n",
       "      <th>codau_cont</th>\n",
       "      <th>tmja_cont</th>\n",
       "      <th>pc_pl_cont</th>\n",
       "      <th>source</th>\n",
       "      <th>target</th>\n",
       "      <th>recup</th>\n",
       "      <th>attr_modif</th>\n",
       "      <th>codevoie_d</th>\n",
       "      <th>id_tronc_elem</th>\n",
       "      <th>nb_intrsct_src</th>\n",
       "      <th>src_geom</th>\n",
       "      <th>nb_intrsct_tgt</th>\n",
       "      <th>tgt_geom</th>\n",
       "      <th>id_rdpt</th>\n",
       "      <th>nb_rte_rdpt</th>\n",
       "      <th>nom_rte_rdpt_entrant</th>\n",
       "      <th>codevoie_rdpt_entrant</th>\n",
       "      <th>nb_obj_sig_entrant</th>\n",
       "      <th>valeur_sens</th>\n",
       "      <th>id_ign_entrant</th>\n",
       "    </tr>\n",
       "    <tr>\n",
       "      <th>id_ign</th>\n",
       "      <th></th>\n",
       "      <th></th>\n",
       "      <th></th>\n",
       "      <th></th>\n",
       "      <th></th>\n",
       "      <th></th>\n",
       "      <th></th>\n",
       "      <th></th>\n",
       "      <th></th>\n",
       "      <th></th>\n",
       "      <th></th>\n",
       "      <th></th>\n",
       "      <th></th>\n",
       "      <th></th>\n",
       "      <th></th>\n",
       "      <th></th>\n",
       "      <th></th>\n",
       "      <th></th>\n",
       "      <th></th>\n",
       "      <th></th>\n",
       "      <th></th>\n",
       "      <th></th>\n",
       "      <th></th>\n",
       "      <th></th>\n",
       "      <th></th>\n",
       "      <th></th>\n",
       "      <th></th>\n",
       "      <th></th>\n",
       "      <th></th>\n",
       "      <th></th>\n",
       "      <th></th>\n",
       "      <th></th>\n",
       "      <th></th>\n",
       "      <th></th>\n",
       "      <th></th>\n",
       "      <th></th>\n",
       "      <th></th>\n",
       "      <th></th>\n",
       "      <th></th>\n",
       "      <th></th>\n",
       "      <th></th>\n",
       "      <th></th>\n",
       "      <th></th>\n",
       "      <th></th>\n",
       "      <th></th>\n",
       "      <th></th>\n",
       "      <th></th>\n",
       "      <th></th>\n",
       "      <th></th>\n",
       "      <th></th>\n",
       "      <th></th>\n",
       "    </tr>\n",
       "  </thead>\n",
       "  <tbody>\n",
       "    <tr>\n",
       "      <th>TRONROUT0000000130604054</th>\n",
       "      <td>(LINESTRING (412880.7999999996 6574660.599999992, 412871.3999999997 6574660.099999992, 412859.7999999997 6574660.499999993))</td>\n",
       "      <td>215196</td>\n",
       "      <td>Route à 1 chaussée</td>\n",
       "      <td>NC</td>\n",
       "      <td>4</td>\n",
       "      <td>Autre</td>\n",
       "      <td>NC</td>\n",
       "      <td>NR</td>\n",
       "      <td>Non</td>\n",
       "      <td>NC</td>\n",
       "      <td>4.0</td>\n",
       "      <td>11.5</td>\n",
       "      <td>11.7</td>\n",
       "      <td>1.0</td>\n",
       "      <td>Direct</td>\n",
       "      <td>NR</td>\n",
       "      <td>0.021020</td>\n",
       "      <td>estimation</td>\n",
       "      <td>None</td>\n",
       "      <td>None</td>\n",
       "      <td>None</td>\n",
       "      <td>None</td>\n",
       "      <td>/2</td>\n",
       "      <td>1430.0</td>\n",
       "      <td>715.0</td>\n",
       "      <td>...</td>\n",
       "      <td>None</td>\n",
       "      <td>None</td>\n",
       "      <td>80.0</td>\n",
       "      <td>74.0</td>\n",
       "      <td>111+</td>\n",
       "      <td>None</td>\n",
       "      <td>None</td>\n",
       "      <td>None</td>\n",
       "      <td>194</td>\n",
       "      <td>4018</td>\n",
       "      <td>None</td>\n",
       "      <td>None</td>\n",
       "      <td>NR</td>\n",
       "      <td>NaN</td>\n",
       "      <td>3</td>\n",
       "      <td>POINT(412880.8 6574660.59999999)</td>\n",
       "      <td>3</td>\n",
       "      <td>POINT(412859.8 6574660.49999999)</td>\n",
       "      <td>NaN</td>\n",
       "      <td>NaN</td>\n",
       "      <td>NaN</td>\n",
       "      <td>NaN</td>\n",
       "      <td>NaN</td>\n",
       "      <td>NaN</td>\n",
       "      <td>NaN</td>\n",
       "    </tr>\n",
       "    <tr>\n",
       "      <th>TRONROUT0000000130604057</th>\n",
       "      <td>(LINESTRING (412880.6999999998 6574643.399999994, 412870.5999999996 6574652.399999993, 412859.7999999997 6574660.499999993))</td>\n",
       "      <td>215199</td>\n",
       "      <td>Route à 1 chaussée</td>\n",
       "      <td>NC</td>\n",
       "      <td>4</td>\n",
       "      <td>Autre</td>\n",
       "      <td>NC</td>\n",
       "      <td>NR</td>\n",
       "      <td>Non</td>\n",
       "      <td>NC</td>\n",
       "      <td>4.0</td>\n",
       "      <td>11.5</td>\n",
       "      <td>11.7</td>\n",
       "      <td>1.0</td>\n",
       "      <td>Inverse</td>\n",
       "      <td>NR</td>\n",
       "      <td>0.027028</td>\n",
       "      <td>estimation</td>\n",
       "      <td>None</td>\n",
       "      <td>None</td>\n",
       "      <td>None</td>\n",
       "      <td>None</td>\n",
       "      <td>/2</td>\n",
       "      <td>1430.0</td>\n",
       "      <td>715.0</td>\n",
       "      <td>...</td>\n",
       "      <td>None</td>\n",
       "      <td>None</td>\n",
       "      <td>80.0</td>\n",
       "      <td>74.0</td>\n",
       "      <td>111+</td>\n",
       "      <td>None</td>\n",
       "      <td>None</td>\n",
       "      <td>None</td>\n",
       "      <td>4017</td>\n",
       "      <td>4018</td>\n",
       "      <td>None</td>\n",
       "      <td>None</td>\n",
       "      <td>NR</td>\n",
       "      <td>NaN</td>\n",
       "      <td>4</td>\n",
       "      <td>POINT(412880.7 6574643.39999999)</td>\n",
       "      <td>3</td>\n",
       "      <td>POINT(412859.8 6574660.49999999)</td>\n",
       "      <td>NaN</td>\n",
       "      <td>NaN</td>\n",
       "      <td>NaN</td>\n",
       "      <td>NaN</td>\n",
       "      <td>NaN</td>\n",
       "      <td>NaN</td>\n",
       "      <td>NaN</td>\n",
       "    </tr>\n",
       "  </tbody>\n",
       "</table>\n",
       "<p>2 rows × 70 columns</p>\n",
       "</div>"
      ],
      "text/plain": [
       "                                                                                                                                                  geom  \\\n",
       "id_ign                                                                                                                                                   \n",
       "TRONROUT0000000130604054  (LINESTRING (412880.7999999996 6574660.599999992, 412871.3999999997 6574660.099999992, 412859.7999999997 6574660.499999993))   \n",
       "TRONROUT0000000130604057  (LINESTRING (412880.6999999998 6574643.399999994, 412870.5999999996 6574652.399999993, 412859.7999999997 6574660.499999993))   \n",
       "\n",
       "                              id              nature numero importance  \\\n",
       "id_ign                                                                   \n",
       "TRONROUT0000000130604054  215196  Route à 1 chaussée     NC          4   \n",
       "TRONROUT0000000130604057  215199  Route à 1 chaussée     NC          4   \n",
       "\n",
       "                         cl_admin gestion mise_serv fictif franchisst  \\\n",
       "id_ign                                                                  \n",
       "TRONROUT0000000130604054    Autre      NC        NR    Non         NC   \n",
       "TRONROUT0000000130604057    Autre      NC        NR    Non         NC   \n",
       "\n",
       "                          largeur  z_ini  z_fin  nb_voies     sens etat  \\\n",
       "id_ign                                                                    \n",
       "TRONROUT0000000130604054      4.0   11.5   11.7       1.0   Direct   NR   \n",
       "TRONROUT0000000130604057      4.0   11.5   11.7       1.0  Inverse   NR   \n",
       "\n",
       "                           long_km  coment_cpt src_cpt id_comptag obs_supl  \\\n",
       "id_ign                                                                       \n",
       "TRONROUT0000000130604054  0.021020  estimation    None       None     None   \n",
       "TRONROUT0000000130604057  0.027028  estimation    None       None     None   \n",
       "\n",
       "                         ann_pt coment_tmj    tmja  tmja_final  ...  vts_osm  \\\n",
       "id_ign                                                          ...            \n",
       "TRONROUT0000000130604054   None         /2  1430.0       715.0  ...     None   \n",
       "TRONROUT0000000130604057   None         /2  1430.0       715.0  ...     None   \n",
       "\n",
       "                         vts_modif vts_vl_f  vts_pl_f codau  codau_cont  \\\n",
       "id_ign                                                                    \n",
       "TRONROUT0000000130604054      None     80.0      74.0  111+        None   \n",
       "TRONROUT0000000130604057      None     80.0      74.0  111+        None   \n",
       "\n",
       "                          tmja_cont pc_pl_cont source target recup attr_modif  \\\n",
       "id_ign                                                                          \n",
       "TRONROUT0000000130604054       None       None    194   4018  None       None   \n",
       "TRONROUT0000000130604057       None       None   4017   4018  None       None   \n",
       "\n",
       "                         codevoie_d id_tronc_elem nb_intrsct_src  \\\n",
       "id_ign                                                             \n",
       "TRONROUT0000000130604054         NR           NaN              3   \n",
       "TRONROUT0000000130604057         NR           NaN              4   \n",
       "\n",
       "                                                  src_geom  nb_intrsct_tgt  \\\n",
       "id_ign                                                                       \n",
       "TRONROUT0000000130604054  POINT(412880.8 6574660.59999999)               3   \n",
       "TRONROUT0000000130604057  POINT(412880.7 6574643.39999999)               3   \n",
       "\n",
       "                                                  tgt_geom id_rdpt  \\\n",
       "id_ign                                                               \n",
       "TRONROUT0000000130604054  POINT(412859.8 6574660.49999999)     NaN   \n",
       "TRONROUT0000000130604057  POINT(412859.8 6574660.49999999)     NaN   \n",
       "\n",
       "                         nb_rte_rdpt nom_rte_rdpt_entrant  \\\n",
       "id_ign                                                      \n",
       "TRONROUT0000000130604054         NaN                  NaN   \n",
       "TRONROUT0000000130604057         NaN                  NaN   \n",
       "\n",
       "                         codevoie_rdpt_entrant  nb_obj_sig_entrant  \\\n",
       "id_ign                                                               \n",
       "TRONROUT0000000130604054                   NaN                 NaN   \n",
       "TRONROUT0000000130604057                   NaN                 NaN   \n",
       "\n",
       "                          valeur_sens id_ign_entrant  \n",
       "id_ign                                                \n",
       "TRONROUT0000000130604054          NaN            NaN  \n",
       "TRONROUT0000000130604057          NaN            NaN  \n",
       "\n",
       "[2 rows x 70 columns]"
      ]
     },
     "execution_count": 195,
     "metadata": {},
     "output_type": "execute_result"
    }
   ],
   "source": [
    "lignes_adj"
   ]
  },
  {
   "cell_type": "markdown",
   "metadata": {},
   "source": [
    "## 2.4 cas particulier "
   ]
  },
  {
   "cell_type": "markdown",
   "metadata": {},
   "source": [
    "### 2.4.1 rd pt"
   ]
  },
  {
   "cell_type": "code",
   "execution_count": 47,
   "metadata": {},
   "outputs": [],
   "source": [
    "#verfier si une ligne rouche un rd point et recup le numero si c'est le cas\n",
    "check_rdpt, num_rdpt=at.verif_touche_rdpt(lignes_adj)\n",
    "if check_rdpt : \n",
    "    lignes_rdpt, lignes_sortantes=at.recup_lignes_rdpt(carac_rd_pt,num_rdpt,list_troncon,voie,codevoie)"
   ]
  },
  {
   "cell_type": "markdown",
   "metadata": {},
   "source": [
    "### 2.4.2 mm route qui se sépare"
   ]
  },
  {
   "cell_type": "code",
   "execution_count": 196,
   "metadata": {
    "collapsed": true,
    "jupyter": {
     "outputs_hidden": true
    }
   },
   "outputs": [
    {
     "name": "stdout",
     "output_type": "stream",
     "text": [
      "['TRONROUT0000000130604054', 'TRONROUT0000000130604057']\n",
      "dehors\n",
      "exit\n"
     ]
    }
   ],
   "source": [
    "#comparer le nom de voie de la ligne issue de debut_fin avec celui des lignes adjacentes\n",
    "if len(set(lignes_adj.source.tolist()+lignes_adj.target.tolist())) : #cas d'une ligne qui separe pour se reconnecter ensuite\n",
    "    print(lignes_adj.index.tolist())\n",
    "if (voie==lignes_adj.numero).all() and voie!='NC' : \n",
    "    print('if')\n",
    "    ligne_mm_voie=lignes_adj.index.tolist()\n",
    "    list_troncon+=ligne_mm_voie\n",
    "    lignes_suivantes_mm_nom=ligne_mm_voie #on recommence les traitements avec les lignes prises\n",
    "elif voie=='NC' and codevoie!='NR' and (codevoie==lignes_adj.codevoie_d).all(): \n",
    "    print('elif')\n",
    "    ligne_mm_voie=lignes_adj.index.tolist()\n",
    "    list_troncon+=ligne_mm_voie\n",
    "    lignes_suivantes_mm_nom=ligne_mm_voie\n",
    "else : # cas des nc / nr qui se sépare : ont réflechi en angle et longueurs eéquivalente, avec si besoin comparaiosn des lignes qui touvhent\n",
    "    #si une des lignes qui se separent fait partie d'un rd point on passe\n",
    "    if (lignes_adj.id_rdpt>0).any()==1  : \n",
    "        print('passer')\n",
    "    lgn_cote_1, lgn_cote_2, angle_1,angle_2,angle_3=at.angle_3_lignes('TRONROUT0000000039535695', lignes_adj, noeud,geom_noeud, type_noeud, df_lignes)\n",
    "    lignes_adj_tot=lignes_adj.copy()\n",
    "    lignes_adj_tot['tronc_supp']=lignes_adj_tot.apply(lambda x : at.liste_complete_tronc_base(x.name,df_lignes,[id_lignes]), axis=1)\n",
    "    geom_l1, lg_l1=at.fusion_ligne_calc_lg(df_lignes.loc[lignes_adj_tot.loc[lgn_cote_1.name].tronc_supp])\n",
    "    geom_l2, lg_l2=at.fusion_ligne_calc_lg(df_lignes.loc[lignes_adj_tot.loc[lgn_cote_2.name].tronc_supp])\n",
    "    geom_ldep, lg_ldep=at.fusion_ligne_calc_lg(df_lignes.loc[list_troncon])\n",
    "    tt_tronc=[x for y in lignes_adj_tot.tronc_supp.tolist() for x in y ]\n",
    "    noeuds_fin=[k for k,v in Counter(df_lignes.loc[tt_tronc].source.tolist()+df_lignes.loc[tt_tronc].target.tolist()).items() if v==1]\n",
    "    if (min(lg_l1, lg_l2) / max(lg_l1, lg_l2)) > 0.66 : # soit les lignes qui se separent ont a peu pres la mm longueur et un angle entre elle faible et une ligne les touchent toute les deux (dans ce cas la ligne de depart est la grandee ligne qui arrive)\n",
    "        lignes_jointure=df_lignes.loc[(df_lignes.source.isin(noeuds_fin)) & (df_lignes.target.isin(noeuds_fin))]\n",
    "        print('dehors')\n",
    "        if not lignes_jointure.empty : \n",
    "            print('dedans')\n",
    "            if angle_3<60 :\n",
    "                print(tt_tronc)\n",
    "            else : \n",
    "                print('pas angle')\n",
    "        else : \n",
    "            print('exit')\n",
    "    elif ((min(lg_l1, lg_ldep) / max(lg_l1, lg_ldep)) > 0.66) and angle_1<75 : #soit on est dans le cas où la ligne dedépart est une des petites lignes pres du rd point\n",
    "        print('ok avec 1')\n",
    "    elif ((min(lg_l2, lg_ldep) / max(lg_l2, lg_ldep)) > 0.66) and angle_2<75 :\n",
    "        print('ok avec 2')"
   ]
  },
  {
   "cell_type": "code",
   "execution_count": 187,
   "metadata": {
    "collapsed": true,
    "jupyter": {
     "outputs_hidden": true
    }
   },
   "outputs": [
    {
     "data": {
      "text/plain": [
       "True"
      ]
     },
     "execution_count": 187,
     "metadata": {},
     "output_type": "execute_result"
    }
   ],
   "source": [
    "lignes_adj.nature.isin(['Autoroute', 'Quasi-autoroute', 'Route à 2 chaussées']).any()"
   ]
  },
  {
   "cell_type": "code",
   "execution_count": 189,
   "metadata": {},
   "outputs": [
    {
     "data": {
      "text/plain": [
       "[]"
      ]
     },
     "execution_count": 189,
     "metadata": {},
     "output_type": "execute_result"
    }
   ],
   "source": [
    "at.recup_route_split('TRONROUT0000000032830740',list_troncon,voie,codevoie, lignes_adj,noeud,geom_noeud, type_noeud, df_lignes)"
   ]
  },
  {
   "cell_type": "markdown",
   "metadata": {},
   "source": [
    "### 2.4.3 trouver les routes coinces entre 2 voies qui se sépare -<|\n",
    " ce sont des lignes qui  dont : \n",
    "- si une des lignes adjacente à le mm nom de voie\n",
    "- on prend l'autre si elle a un sens direct ou inverse\n",
    "- on recherche son source ou target different du num_node de dico_deb_fin\n",
    "- on cherche les lignes qui touche ce noeud, qui ont le mme nom de voie et un sens direct ou inverse\n",
    "- on recupere cette ligne, et le num de noeud differnts de celui de la 1ere ligne qui bifurque\n",
    "- si ce num de noeud correspond à la ligne adj source ou target, alors cette ligne adj source ou target doit être ajoutée à la liste"
   ]
  },
  {
   "cell_type": "code",
   "execution_count": 923,
   "metadata": {
    "collapsed": true,
    "jupyter": {
     "outputs_hidden": true
    }
   },
   "outputs": [
    {
     "name": "stdout",
     "output_type": "stream",
     "text": [
      "['TRONROUT0000000032839436', 'TRONROUT0000000318255825']\n"
     ]
    }
   ],
   "source": [
    "ligne_depart='TRONROUT0000000318255826'\n",
    "if voie != 'NC' : \n",
    "    lgn_cote_1=lignes_adj.loc[(lignes_adj['numero']!=voie)]  \n",
    "    if lgn_cote_1.empty : \n",
    "        print([]) \n",
    "    noeud_centre = lgn_cote_1['source'].values[0] if lgn_cote_1['source'].values[0] != noeud else lgn_cote_1['target'].values[0]\n",
    "    lgn_suiv=lignes_adj.loc[~lignes_adj.index.isin(lgn_cote_1.index.tolist())]\n",
    "    if lgn_suiv.empty : \n",
    "        print([]) \n",
    "    noeud_suiv=lgn_suiv['source'].values[0] if lgn_suiv['source'].values[0] != noeud else lgn_suiv['target'].values[0]\n",
    "\n",
    "    #dans le cas ou plusieurs ligne a la suite forme le cote du triangle que l'on veut récupérer on veut connaitre le nb de ligne qui touchent le noeud_suiv\n",
    "    if lgn_suiv['source'].values[0] != noeud : \n",
    "        noeud_suiv=lgn_suiv['source'].values[0]\n",
    "        nb_intersect_noeud_suiv=df_lignes.loc[lgn_suiv.index.values[0]].nb_intrsct_src\n",
    "    else : \n",
    "        noeud_suiv=lgn_suiv['target'].values[0]\n",
    "        nb_intersect_noeud_suiv=df_lignes.loc[lgn_suiv.index.values[0]].nb_intrsct_tgt\n",
    "\n",
    "    if  nb_intersect_noeud_suiv==2 : \n",
    "        lgn_suiv=df_lignes.loc[at.liste_complete_tronc_base(lgn_suiv.index.values[0],df_lignes,[])] \n",
    "        noeud_ss_suite=Counter(lgn_suiv.source.tolist()+lgn_suiv.target.tolist())\n",
    "        noeud_suiv=[k for k,v in noeud_ss_suite.items() if v==1 and v!=noeud][0]\n",
    "\n",
    "    id_rattache=lgn_suiv.index.tolist()\n",
    "    if noeud_centre==noeud_suiv : #ça veut dire une seule et mm lign qui fait 2 cote du triangle, dc on peu de suite garder la ligne suiv car 1 seule route non coupe l'intersec\n",
    "        print (id_rattache)\n",
    "    else : # on cherche si une ligne touche ces 2 noeuds, a le mme nom de voie que la ligne de cote  et un sens direct ou inverse\n",
    "        ligne_a_rattacher=df_lignes.loc[((df_lignes['source']==noeud_centre) | (df_lignes['target']==noeud_centre)) & \n",
    "                  (df_lignes['numero']==lgn_cote_1['numero'].values[0]) & (~df_lignes.index.isin(lgn_cote_1.index.tolist())) & \n",
    "                  ((df_lignes['source']==noeud_suiv) | (df_lignes['target']==noeud_suiv))]\n",
    "        if not ligne_a_rattacher.empty : \n",
    "            print( id_rattache)\n",
    "        else :\n",
    "            print([]) "
   ]
  },
  {
   "cell_type": "code",
   "execution_count": 925,
   "metadata": {
    "collapsed": true,
    "jupyter": {
     "outputs_hidden": true
    }
   },
   "outputs": [
    {
     "data": {
      "text/plain": [
       "['TRONROUT0000000032839436', 'TRONROUT0000000318255825']"
      ]
     },
     "execution_count": 925,
     "metadata": {},
     "output_type": "execute_result"
    }
   ],
   "source": [
    "at.recup_triangle(ligne,voie, codevoie,lignes_adj, noeud,geom_noeud, type_noeud, df_lignes)"
   ]
  },
  {
   "cell_type": "markdown",
   "metadata": {},
   "source": [
    "## 2.5 route à 2 chaussées\n",
    "L'idée c'est si la ligne est une route à 2 chaussée : \n",
    "- on prend l'ensemble du troncon elementaire\n",
    "- on agerge les lignes\n",
    "- on recupere le centre\n",
    "- on recupere la longueur\n",
    "- on pourrait chercher à comparer les bouding box"
   ]
  },
  {
   "cell_type": "code",
   "execution_count": 69,
   "metadata": {},
   "outputs": [],
   "source": [
    "#dans le cas où les longeuers ne coincident pas\n",
    "#recuperer la ligne proche\n",
    "ligne_proche, ligne_filtres, longueur_base=at.trouver_chaussees_separee(list_troncon, df_avec_rd_pt)"
   ]
  },
  {
   "cell_type": "code",
   "execution_count": 76,
   "metadata": {
    "collapsed": true,
    "jupyter": {
     "outputs_hidden": true
    }
   },
   "outputs": [
    {
     "data": {
      "text/plain": [
       "['TRONROUT0000000032831889',\n",
       " 'TRONROUT0000000329876240',\n",
       " 'TRONROUT0000000329876239',\n",
       " 'TRONROUT0000000032831831',\n",
       " 'TRONROUT0000000032831834',\n",
       " 'TRONROUT0000000032831830']"
      ]
     },
     "execution_count": 76,
     "metadata": {},
     "output_type": "execute_result"
    }
   ],
   "source": [
    "at.gestion_voie_2_chaussee(list_troncon, df_avec_rd_pt, 'TRONROUT0000000032831888')[0]"
   ]
  },
  {
   "cell_type": "markdown",
   "metadata": {},
   "source": [
    "# Tests de deroulement global"
   ]
  },
  {
   "cell_type": "code",
   "execution_count": 43,
   "metadata": {
    "collapsed": true,
    "jupyter": {
     "outputs_hidden": true
    }
   },
   "outputs": [
    {
     "data": {
      "text/plain": [
       "['TRONROUT0000000032840703',\n",
       " 'TRONROUT0000000032840702',\n",
       " 'TRONROUT0000000032840707',\n",
       " 'TRONROUT0000000032840708',\n",
       " 'TRONROUT0000000032840704',\n",
       " 'TRONROUT0000000032840667',\n",
       " 'TRONROUT0000000032840670']"
      ]
     },
     "execution_count": 43,
     "metadata": {},
     "output_type": "execute_result"
    }
   ],
   "source": [
    "at.lignes_troncon_elem(df_avec_rd_pt,carac_rd_pt,'TRONROUT0000000032840667')"
   ]
  },
  {
   "cell_type": "markdown",
   "metadata": {},
   "source": [
    "# 3. Boucler sur 'ensembl des lignes\n",
    "On va faire tourner les traitements sur l'ensemble des lignes, en partant de la liste des id_ign, pour chaque ligne : \n",
    "- si la ligne ne remplit pas les critères d'exclusion on continu, sinon on passe à la suivante\n",
    "- fonction de recherche des lignes associées\n",
    "- df des association\n",
    "- filtre de la liste des id_ign de base"
   ]
  },
  {
   "cell_type": "code",
   "execution_count": 6,
   "metadata": {},
   "outputs": [],
   "source": [
    "#traiter les bretelles en 1er\n",
    "list_id_ign=df_avec_rd_pt.loc[df_avec_rd_pt['nature']=='Bretelle'].id_ign.tolist()+df_avec_rd_pt.loc[df_avec_rd_pt['nature']!='Bretelle'].id_ign.tolist()"
   ]
  },
  {
   "cell_type": "code",
   "execution_count": 9,
   "metadata": {},
   "outputs": [
    {
     "name": "stdout",
     "output_type": "stream",
     "text": [
      "0 2019-09-23 11:08:28.370462 nb lignes traitees : 0\n",
      "500 2019-09-23 11:10:02.622256 nb lignes traitees : 2667\n",
      "1000 2019-09-23 11:11:34.375514 nb lignes traitees : 5027\n",
      "1500 2019-09-23 11:12:47.258431 nb lignes traitees : 6583\n",
      "2000 2019-09-23 11:13:59.741345 nb lignes traitees : 8040\n",
      "2500 2019-09-23 11:14:51.338637 nb lignes traitees : 9166\n",
      "3000 2019-09-23 11:15:37.464634 nb lignes traitees : 10058\n",
      "3500 2019-09-23 11:16:12.378306 nb lignes traitees : 10757\n",
      "4000 2019-09-23 11:16:44.730115 nb lignes traitees : 11365\n",
      "4500 2019-09-23 11:17:22.783674 nb lignes traitees : 11924\n",
      "5000 2019-09-23 11:17:55.322935 nb lignes traitees : 12372\n",
      "5500 2019-09-23 11:18:25.991196 nb lignes traitees : 12869\n",
      "6000 2019-09-23 11:18:50.634470 nb lignes traitees : 13191\n",
      "6500 2019-09-23 11:19:13.556862 nb lignes traitees : 13448\n",
      "7000 2019-09-23 11:19:40.352704 nb lignes traitees : 13689\n",
      "7500 2019-09-23 11:20:03.623159 nb lignes traitees : 13943\n",
      "8000 2019-09-23 11:20:23.218769 nb lignes traitees : 14149\n",
      "8500 2019-09-23 11:20:42.384931 nb lignes traitees : 14314\n",
      "9000 2019-09-23 11:21:05.411553 nb lignes traitees : 14451\n",
      "9500 2019-09-23 11:21:19.811314 nb lignes traitees : 14559\n",
      "10000 2019-09-23 11:21:35.224581 nb lignes traitees : 14682\n",
      "10500 2019-09-23 11:21:49.690029 nb lignes traitees : 14760\n",
      "11000 2019-09-23 11:22:05.990895 nb lignes traitees : 14869\n",
      "11500 2019-09-23 11:22:20.343214 nb lignes traitees : 14949\n",
      "12000 2019-09-23 11:22:32.464526 nb lignes traitees : 15016\n",
      "12500 2019-09-23 11:22:50.544589 nb lignes traitees : 15090\n",
      "13000 2019-09-23 11:22:58.167849 nb lignes traitees : 15136\n",
      "13500 2019-09-23 11:23:08.687043 nb lignes traitees : 15188\n",
      "14000 2019-09-23 11:23:18.419193 nb lignes traitees : 15230\n",
      "14500 2019-09-23 11:23:27.167199 nb lignes traitees : 15279\n",
      "15000 2019-09-23 11:23:33.681337 nb lignes traitees : 15315\n",
      "fin :  2019-09-23 11:23:38.383387 nb lignes traitees : 15337\n"
     ]
    }
   ],
   "source": [
    "df_affectation, dico_erreur, lignes_traitees, lignes_non_traitees=at.regrouper_troncon(\n",
    "    list_id_ign, df_avec_rd_pt, carac_rd_pt,df2_chaussees)"
   ]
  },
  {
   "cell_type": "code",
   "execution_count": 10,
   "metadata": {},
   "outputs": [],
   "source": [
    "df_avec_rd_pt.merge(df_affectation, left_on='id_ign',right_on='id')[[\n",
    "    'id_ign','numero','codevoie_d','geom','idtronc']].to_file(r'D:\\temp\\otv\\test_linearisation\\test_13.shp')"
   ]
  },
  {
   "cell_type": "markdown",
   "metadata": {},
   "source": [
    "# 4. Creer graph\n",
    "- en premier on traite les cas particuliers  : beretelles, petits troncons\n",
    "- on cerche a creer une df avec tronc_elem|tronc_ign|src_elem|tgt_elem\n",
    "- il faudrait un filtre sur les petits troncon entre 2 grands et les associer aux grands\n",
    "- il faudrait regrouper les bretelles aussi"
   ]
  },
  {
   "cell_type": "code",
   "execution_count": 11,
   "metadata": {},
   "outputs": [],
   "source": [
    "#calculer les longeurs des tronc_elem et avoir aussi les id qui les composent\n",
    "tronc_elem_geom=df_avec_rd_pt.merge(df_affectation, left_on='id_ign',right_on='id')[['geom','idtronc']].dissolve(by='idtronc')\n",
    "tronc_elem_geom['long']=tronc_elem_geom.geom.length\n",
    "tronc_elem_synth=tronc_elem_geom.merge(df_affectation.groupby('idtronc').agg({'id' : lambda x : tuple(set(x))}), left_index=True, right_index=True)"
   ]
  },
  {
   "cell_type": "markdown",
   "metadata": {},
   "source": [
    "## 4.1 Bretelles\n",
    "- trouver les troncons eleentaires qui contiennent des lignes de natures Bretelles\n",
    "- passer dans Bdd pour utiliser clusterdbscan sur des lignes\n",
    "- récupérer une df de bretelles avec une agreg posible\n",
    "- A FAIRE : CREER UNE TABLE DE CORRESPONDANCE ENTRE ID_TRON_ELEM et ID_BRET"
   ]
  },
  {
   "cell_type": "code",
   "execution_count": 22,
   "metadata": {},
   "outputs": [],
   "source": [
    "#select tronc_elem bretelles\n",
    "list_id_bretelle=df_lignes.loc[df_lignes['nature']=='Bretelle'].index.tolist()\n",
    "tronc_bretelle=tronc_elem_synth.loc[tronc_elem_synth.apply(lambda x : any([a for a in x['id'] if a in list_id_bretelle]), axis=1)].copy()\n",
    "#geom en wkt pour tranfert dans bdd\n",
    "tronc_bretelle_wkt=tronc_bretelle.reset_index()[['idtronc','geom']].copy()\n",
    "tronc_bretelle_wkt['geom']=tronc_bretelle_wkt.apply(lambda x : x['geom'].wkt, axis=1)\n",
    "#on bascule en sql pour utiliser le cluster de postgres qui est plus puissant car il gere tout type de geom et donc la distance entre les geoms devient plus precise\n",
    "#cree la table qui va accueillir les donnees de bretelles\n",
    "metadata = MetaData()\n",
    "bretel_table=Table(\n",
    "    'bretelle',metadata,\n",
    "    Column('idtronc', Integer, primary_key=True),\n",
    "    Column('geom', Geometry()))\n",
    "requete = \"SELECT idtronc, ST_ClusterDBSCAN(geom, eps := 50, minpoints := 2) over () AS cid FROM public.bretelle\""
   ]
  },
  {
   "cell_type": "code",
   "execution_count": 23,
   "metadata": {},
   "outputs": [],
   "source": [
    "with ct.ConnexionBdd('local_otv') as c :\n",
    "    bretel_table.create(c.engine)\n",
    "    c.sqlAlchemyConn.execute(bretel_table.insert(), tronc_bretelle_wkt.to_dict('records'))\n",
    "    df_cluster=pd.read_sql_query(requete, c.sqlAlchemyConn)"
   ]
  },
  {
   "cell_type": "code",
   "execution_count": 28,
   "metadata": {},
   "outputs": [
    {
     "data": {
      "text/html": [
       "<div>\n",
       "<style scoped>\n",
       "    .dataframe tbody tr th:only-of-type {\n",
       "        vertical-align: middle;\n",
       "    }\n",
       "\n",
       "    .dataframe tbody tr th {\n",
       "        vertical-align: top;\n",
       "    }\n",
       "\n",
       "    .dataframe thead th {\n",
       "        text-align: right;\n",
       "    }\n",
       "</style>\n",
       "<table border=\"1\" class=\"dataframe\">\n",
       "  <thead>\n",
       "    <tr style=\"text-align: right;\">\n",
       "      <th></th>\n",
       "      <th>idtronc</th>\n",
       "      <th>cid</th>\n",
       "    </tr>\n",
       "  </thead>\n",
       "  <tbody>\n",
       "    <tr>\n",
       "      <th>13</th>\n",
       "      <td>14</td>\n",
       "      <td>NaN</td>\n",
       "    </tr>\n",
       "    <tr>\n",
       "      <th>16</th>\n",
       "      <td>17</td>\n",
       "      <td>NaN</td>\n",
       "    </tr>\n",
       "    <tr>\n",
       "      <th>35</th>\n",
       "      <td>47</td>\n",
       "      <td>NaN</td>\n",
       "    </tr>\n",
       "    <tr>\n",
       "      <th>48</th>\n",
       "      <td>77</td>\n",
       "      <td>NaN</td>\n",
       "    </tr>\n",
       "    <tr>\n",
       "      <th>63</th>\n",
       "      <td>116</td>\n",
       "      <td>NaN</td>\n",
       "    </tr>\n",
       "  </tbody>\n",
       "</table>\n",
       "</div>"
      ],
      "text/plain": [
       "    idtronc  cid\n",
       "13       14  NaN\n",
       "16       17  NaN\n",
       "35       47  NaN\n",
       "48       77  NaN\n",
       "63      116  NaN"
      ]
     },
     "execution_count": 28,
     "metadata": {},
     "output_type": "execute_result"
    }
   ],
   "source": [
    "df_cluster.loc[df_cluster.cid.isna()]"
   ]
  },
  {
   "cell_type": "markdown",
   "metadata": {},
   "source": [
    "## 4.2 petit troncon"
   ]
  },
  {
   "cell_type": "code",
   "execution_count": 390,
   "metadata": {},
   "outputs": [],
   "source": [
    "petit_tronc=tronc_elem_synth.loc[tronc_elem_synth['long']<=50]# 467 troncons\n",
    "list_petit_tronc=[b for a in petit_tronc.id.tolist() for b in a]#list des id_ign present dans les petits troncons\n",
    "#trouver la liste des autres troncons qui les touchent avec les carac en terme d'angles, numeros, codevoie_d\n",
    "def tronc_tch(ids, df_lignes) : \n",
    "    \"\"\"\n",
    "    obtenir une df des troncon touches par une ligne avec l'angle entre les lignes, le numero, le codevoie_d\n",
    "    en entree : \n",
    "        ids : tuple de string de id_ign\n",
    "        df_lignes : données issues de identifier_rd_pt() avec id_ign en index\n",
    "    en sortie : \n",
    "        df_tronc_tch : df avec les attributs precites\n",
    "    \"\"\"\n",
    "    if len(ids)==1 : #une seule lignes dans le troncon\n",
    "        df_ids=df_lignes.loc[ids].copy()\n",
    "        noeuds = [df_ids.source,df_ids.target] \n",
    "        list_ids_tch= df_lignes.loc[((df_lignes.target.isin(noeuds)) | (df_lignes.source.isin(noeuds))) & \n",
    "                (~df_lignes.index.isin(ids))].index.tolist()\n",
    "        list_carac_tch=[(a,b) for a,b in zip(list_ids_tch,[('source',df_lignes.loc[a].source) if df_lignes.loc[a].source in noeuds else \n",
    "                      ('target',df_lignes.loc[a].target) for a in list_ids_tch])]\n",
    "        list_carac_fin=[(a[0][0],a[0][1][0],a[0][1][1], a[1]) for a in zip(list_carac_tch,['source' if b[1]==df_lignes.loc[ids].source else 'target' \n",
    "                                       for a,b in list_carac_tch])]\n",
    "        df_tronc_tch=pd.DataFrame.from_records(list_carac_fin, columns=['id_ign', 'type_noeud_lgn', 'id_noeud_lgn', 'type_noeud_src'])\n",
    "        #calcul des coordonnées des points \n",
    "        df_tronc_tch['coord_lgn_base']=df_tronc_tch.apply(lambda x : [coord for coord in df_lignes.loc[ids].geom[0].coords][1] if \n",
    "            x['type_noeud_src']=='source' else [coord for coord in df_lignes.loc[ids].geom[0].coords][-2],axis=1)\n",
    "        df_tronc_tch['coord_lgn_comp']=df_tronc_tch.apply(lambda x : [coord for coord in df_lignes.loc[x['id_ign']].geom[0].coords][1] if \n",
    "            x['type_noeud_lgn']=='source' else [coord for coord in df_lignes.loc[x['id_ign']].geom[0].coords][-2],axis=1)\n",
    "        df_tronc_tch['coord_noued_centr']=df_tronc_tch.apply(lambda x : [coord for coord in df_lignes.loc[x['id_ign']].geom[0].coords][0] if x['type_noeud_lgn']=='source' \n",
    "            else [coord for coord in df_lignes.loc[x['id_ign']].geom[0].coords][-1],axis=1)\n",
    "        #angle\n",
    "        df_tronc_tch['angle']=df_tronc_tch.apply(lambda x : Outils.angle_entre_2_ligne(x['coord_noued_centr'],x['coord_lgn_comp'], x['coord_lgn_base']),axis=1)\n",
    "        df_tronc_tch=df_tronc_tch.merge(df_lignes[['numero','codevoie_d']], left_on='id_ign', right_index=True)\n",
    "    else : \n",
    "        df_ids=df_lignes.loc[list(ids)].copy()\n",
    "        noeuds=[k for k,v in Counter(df_ids.source.tolist()+df_ids.target.tolist()).items() if v==1] #liste des noeuds uniques\n",
    "        geom_noeuds=[loads(k).coords[0] for k,v in Counter(df_ids.src_geom.tolist()+df_ids.tgt_geom.tolist()).items() if v==1] #liste des geoms uniques\n",
    "        geom_ligne=linemerge(unary_union(df_ids.geom.tolist())) #agregation des lignes\n",
    "        pt_source=tuple([round(a,8) for a in geom_ligne.coords[0]]) #calculdes coordonées deb et fin de la lignes agregee\n",
    "        pt_target=tuple([round(a,8) for a in geom_ligne.coords[-1]])\n",
    "        df_noeud=pd.DataFrame(zip(noeuds,geom_noeuds), columns=['id_noeud', 'geom_noeud'])\n",
    "        df_noeud['type_noeud']=df_noeud.apply(lambda x : 'target' if x['geom_noeud']==pt_target else 'source',axis=1) #affectation du type de noeud\n",
    "        df_noeud.set_index('id_noeud',inplace=True)\n",
    "        list_ids_tch= df_lignes.loc[((df_lignes.target.isin(noeuds)) | (df_lignes.source.isin(noeuds))) & \n",
    "                        (~df_lignes.index.isin(ids))].index.tolist()\n",
    "        list_carac_tch=[(a,b) for a,b in zip(list_ids_tch,[('source',df_lignes.loc[a].source) if df_lignes.loc[a].source in noeuds else \n",
    "                      ('target',df_lignes.loc[a].target) for a in list_ids_tch])]\n",
    "        list_carac_fin=[(a[0][0],a[0][1][0],a[0][1][1], a[1]) for a in zip(list_carac_tch,['source' if df_noeud.loc[b[1]].type_noeud=='source' else 'target' \n",
    "                                       for a,b in list_carac_tch])]\n",
    "        df_tronc_tch=pd.DataFrame.from_records(list_carac_fin, columns=['id_ign', 'type_noeud_lgn', 'id_noeud_lgn', 'type_noeud_src'])\n",
    "        #calcul des coordonnées des points \n",
    "        df_tronc_tch['coord_lgn_base']=df_tronc_tch.apply(lambda x : [coord for coord in geom_ligne.coords][1] if \n",
    "                    x['type_noeud_src']=='source' else [coord for coord in geom_ligne.coords][-2],axis=1)\n",
    "        df_tronc_tch['coord_lgn_comp']=df_tronc_tch.apply(lambda x : [coord for coord in df_lignes.loc[x['id_ign']].geom[0].coords][1] if \n",
    "                    x['type_noeud_lgn']=='source' else [coord for coord in df_lignes.loc[x['id_ign']].geom[0].coords][-2],axis=1)\n",
    "        df_tronc_tch['coord_noued_centr']=df_tronc_tch.apply(lambda x : [coord for coord in df_lignes.loc[x['id_ign']].geom[0].coords][0] if x['type_noeud_lgn']=='source' \n",
    "            else [coord for coord in df_lignes.loc[x['id_ign']].geom[0].coords][-1],axis=1)\n",
    "        #angle\n",
    "        df_tronc_tch['angle']=df_tronc_tch.apply(lambda x : Outils.angle_entre_2_ligne(x['coord_noued_centr'],x['coord_lgn_comp'], x['coord_lgn_base']),axis=1)\n",
    "        df_tronc_tch=df_tronc_tch.merge(df_lignes[['numero','codevoie_d']], left_on='id_ign', right_index=True)\n",
    "    return df_tronc_tch\n",
    "\n",
    "def corresp_petit_tronc(ids,df_lignes,df_affectation,list_petit_tronc) : \n",
    "    \"\"\"\n",
    "    Obtention du tronc elem auquel rattache un petit tronon, sinon False\n",
    "    en entree : \n",
    "        ids : tuple de string de id_ign\n",
    "        df_lignes : données issues de identifier_rd_pt() avec id_ign en index\n",
    "        df_affectation : df de correspondance id_ign - tronc elem, issue de regrouper_troncon()\n",
    "    en sortie : \n",
    "        tronc_elem_ref : integer>0 si corresp, sinon -99\n",
    "    \"\"\"\n",
    "    try : \n",
    "        df_tronc_tch=tronc_tch(ids, df_lignes)\n",
    "    except NotImplementedError : #si sheply bug c'est un cas trop complexe et on laisse tomber\n",
    "        return -99\n",
    "    except ValueError : #erreur cree par un rd point foireux\n",
    "        return -99\n",
    "    #filtrer les lignes qui correspondent à des petits tronc_elem\n",
    "    df_tronc_tch=df_tronc_tch.loc[~df_tronc_tch.id_ign.isin(list_petit_tronc)].copy()\n",
    "    id_ign_ref=df_tronc_tch.loc[df_tronc_tch['angle'].idxmax()].id_ign if 160<df_tronc_tch.angle.max()<200 else False\n",
    "    #puis trouver le tronc_elem correspondant\n",
    "    tronc_elem_ref=df_affectation.loc[df_affectation['id']==id_ign_ref].idtronc.values[0] if id_ign_ref else -99\n",
    "    return tronc_elem_ref"
   ]
  },
  {
   "cell_type": "code",
   "execution_count": 392,
   "metadata": {},
   "outputs": [
    {
     "name": "stderr",
     "output_type": "stream",
     "text": [
      "c:\\users\\martin.schoreisz\\appdata\\local\\programs\\python\\python37\\lib\\site-packages\\ipykernel_launcher.py:1: SettingWithCopyWarning: \n",
      "A value is trying to be set on a copy of a slice from a DataFrame.\n",
      "Try using .loc[row_indexer,col_indexer] = value instead\n",
      "\n",
      "See the caveats in the documentation: http://pandas.pydata.org/pandas-docs/stable/indexing.html#indexing-view-versus-copy\n",
      "  \"\"\"Entry point for launching an IPython kernel.\n"
     ]
    }
   ],
   "source": [
    "petit_tronc['synt']=petit_tronc.apply(lambda x : corresp_petit_tronc(x['id'],df_lignes,df_affectation,list_petit_tronc), axis=1)"
   ]
  },
  {
   "cell_type": "code",
   "execution_count": 391,
   "metadata": {},
   "outputs": [],
   "source": [
    "corresp_petit_tronc(('TRONROUT0000000032849817',),df_lignes,df_affectation,list_petit_tronc)"
   ]
  },
  {
   "cell_type": "code",
   "execution_count": 394,
   "metadata": {},
   "outputs": [
    {
     "data": {
      "text/html": [
       "<div>\n",
       "<style scoped>\n",
       "    .dataframe tbody tr th:only-of-type {\n",
       "        vertical-align: middle;\n",
       "    }\n",
       "\n",
       "    .dataframe tbody tr th {\n",
       "        vertical-align: top;\n",
       "    }\n",
       "\n",
       "    .dataframe thead th {\n",
       "        text-align: right;\n",
       "    }\n",
       "</style>\n",
       "<table border=\"1\" class=\"dataframe\">\n",
       "  <thead>\n",
       "    <tr style=\"text-align: right;\">\n",
       "      <th></th>\n",
       "      <th>geom</th>\n",
       "      <th>long</th>\n",
       "      <th>id</th>\n",
       "      <th>synt</th>\n",
       "    </tr>\n",
       "    <tr>\n",
       "      <th>idtronc</th>\n",
       "      <th></th>\n",
       "      <th></th>\n",
       "      <th></th>\n",
       "      <th></th>\n",
       "    </tr>\n",
       "  </thead>\n",
       "  <tbody>\n",
       "    <tr>\n",
       "      <th>272</th>\n",
       "      <td>(LINESTRING (392496.6999999997 6575828.099999992, 392503.0999999996 6575830.199999991, 392508.7999999997 6575833.099999992, 392512.2999999996 6575837.299999992, 392514.7999999997 6575843.499999993...</td>\n",
       "      <td>48.666313</td>\n",
       "      <td>(TRONROUT0000000032833324, TRONROUT0000000206971139)</td>\n",
       "      <td>-99</td>\n",
       "    </tr>\n",
       "    <tr>\n",
       "      <th>453</th>\n",
       "      <td>LINESTRING (389866.1999999997 6580537.399999993, 389869.7999999996 6580529.399999992, 389876.2999999997 6580517.299999992, 389884.0999999997 6580506.499999993)</td>\n",
       "      <td>35.830203</td>\n",
       "      <td>(TRONROUT0000000032828011,)</td>\n",
       "      <td>-99</td>\n",
       "    </tr>\n",
       "    <tr>\n",
       "      <th>653</th>\n",
       "      <td>(LINESTRING (379834.2999999996 6572555.599999992, 379829.3999999997 6572560.299999991, 379826.6999999997 6572563.099999993), LINESTRING (379877.6999999997 6572592.099999993, 379881.6999999997 6572...</td>\n",
       "      <td>19.803024</td>\n",
       "      <td>(TRONROUT0000000115741137, TRONROUT0000000032843251)</td>\n",
       "      <td>-99</td>\n",
       "    </tr>\n",
       "    <tr>\n",
       "      <th>767</th>\n",
       "      <td>LINESTRING (379516.0999999997 6570913.299999991, 379525.2999999996 6570912.199999993, 379535.9999999997 6570909.399999992)</td>\n",
       "      <td>20.325817</td>\n",
       "      <td>(TRONROUT0000000112535615,)</td>\n",
       "      <td>-99</td>\n",
       "    </tr>\n",
       "    <tr>\n",
       "      <th>875</th>\n",
       "      <td>LINESTRING (392707.8999999996 6577544.399999992, 392696.7999999997 6577576.599999993)</td>\n",
       "      <td>34.059507</td>\n",
       "      <td>(TRONROUT0000000032830833,)</td>\n",
       "      <td>-99</td>\n",
       "    </tr>\n",
       "    <tr>\n",
       "      <th>1170</th>\n",
       "      <td>LINESTRING (389413.3999999997 6574867.299999991, 389416.6999999996 6574857.999999992)</td>\n",
       "      <td>9.868131</td>\n",
       "      <td>(TRONROUT0000000032835474,)</td>\n",
       "      <td>-99</td>\n",
       "    </tr>\n",
       "    <tr>\n",
       "      <th>1211</th>\n",
       "      <td>LINESTRING (390184.9999999996 6577389.799999991, 390191.6999999997 6577388.199999993)</td>\n",
       "      <td>6.888396</td>\n",
       "      <td>(TRONROUT0000000039536308,)</td>\n",
       "      <td>-99</td>\n",
       "    </tr>\n",
       "    <tr>\n",
       "      <th>1231</th>\n",
       "      <td>LINESTRING (351524.7999999996 6577447.699999994, 351530.6999999995 6577449.49999999, 351534.8999999996 6577451.899999992, 351537.4999999997 6577454.699999993)</td>\n",
       "      <td>14.826817</td>\n",
       "      <td>(TRONROUT0000000249470901,)</td>\n",
       "      <td>-99</td>\n",
       "    </tr>\n",
       "    <tr>\n",
       "      <th>1554</th>\n",
       "      <td>LINESTRING (375801.5999999996 6572054.199999993, 375778.2999999996 6572042.499999993)</td>\n",
       "      <td>26.072591</td>\n",
       "      <td>(TRONROUT0000000032846708,)</td>\n",
       "      <td>-99</td>\n",
       "    </tr>\n",
       "    <tr>\n",
       "      <th>1813</th>\n",
       "      <td>LINESTRING (378852.0999999997 6570245.099999991, 378851.3999999997 6570274.899999993)</td>\n",
       "      <td>29.808220</td>\n",
       "      <td>(TRONROUT0000000032853244,)</td>\n",
       "      <td>-99</td>\n",
       "    </tr>\n",
       "    <tr>\n",
       "      <th>2120</th>\n",
       "      <td>(LINESTRING (360993.5999999996 6574292.199999992, 360994.4999999995 6574288.899999991, 360995.3999999997 6574286.999999993, 360997.1999999997 6574285.199999994), LINESTRING (360993.9999999997 6574...</td>\n",
       "      <td>13.937989</td>\n",
       "      <td>(TRONROUT0000000248366392, TRONROUT0000000248366391)</td>\n",
       "      <td>-99</td>\n",
       "    </tr>\n",
       "    <tr>\n",
       "      <th>2157</th>\n",
       "      <td>(LINESTRING (386416.1999999997 6569584.099999992, 386423.9999999997 6569587.399999992), LINESTRING (386423.9999999997 6569587.399999992, 386429.5999999996 6569588.199999993, 386435.9999999997 6569...</td>\n",
       "      <td>43.328768</td>\n",
       "      <td>(TRONROUT0000000129676223, TRONROUT0000000129676222, TRONROUT0000000129676232)</td>\n",
       "      <td>-99</td>\n",
       "    </tr>\n",
       "    <tr>\n",
       "      <th>2476</th>\n",
       "      <td>LINESTRING (375963.1999999997 6572158.799999992, 375967.2999999996 6572154.199999991)</td>\n",
       "      <td>6.161980</td>\n",
       "      <td>(TRONROUT0000000032846678,)</td>\n",
       "      <td>-99</td>\n",
       "    </tr>\n",
       "    <tr>\n",
       "      <th>2723</th>\n",
       "      <td>LINESTRING (380227.8999999996 6569598.899999992, 380229.0999999996 6569604.399999992, 380230.8999999997 6569610.299999992)</td>\n",
       "      <td>11.797855</td>\n",
       "      <td>(TRONROUT0000000342863162,)</td>\n",
       "      <td>-99</td>\n",
       "    </tr>\n",
       "    <tr>\n",
       "      <th>2924</th>\n",
       "      <td>(LINESTRING (359356.9999999996 6575790.899999992, 359358.5999999997 6575791.999999993, 359363.7999999996 6575795.699999993), LINESTRING (359390.0999999996 6575808.399999994, 359363.7999999996 6575...</td>\n",
       "      <td>37.529476</td>\n",
       "      <td>(TRONROUT0000000032836765, TRONROUT0000000032836736)</td>\n",
       "      <td>-99</td>\n",
       "    </tr>\n",
       "    <tr>\n",
       "      <th>3030</th>\n",
       "      <td>(LINESTRING (390720.1999999996 6579392.899999991, 390725.7999999996 6579414.099999992), LINESTRING (390719.6999999998 6579417.099999993, 390716.4999999997 6579404.699999994, 390714.1999999997 6579...</td>\n",
       "      <td>44.216544</td>\n",
       "      <td>(TRONROUT0000000039538416, TRONROUT0000000039538409)</td>\n",
       "      <td>-99</td>\n",
       "    </tr>\n",
       "    <tr>\n",
       "      <th>3056</th>\n",
       "      <td>LINESTRING (380539.3999999997 6571537.399999993, 380532.4999999997 6571522.399999993)</td>\n",
       "      <td>16.510905</td>\n",
       "      <td>(TRONROUT0000000032848690,)</td>\n",
       "      <td>-99</td>\n",
       "    </tr>\n",
       "    <tr>\n",
       "      <th>3516</th>\n",
       "      <td>(LINESTRING (379837.2999999997 6570457.899999994, 379836.2999999996 6570459.999999992, 379835.5999999995 6570462.99999999, 379835.4999999997 6570466.999999993, 379836.3999999997 6570471.099999992,...</td>\n",
       "      <td>42.366475</td>\n",
       "      <td>(TRONROUT0000000032852868, TRONROUT0000000032852867, TRONROUT0000000032852862)</td>\n",
       "      <td>-99</td>\n",
       "    </tr>\n",
       "    <tr>\n",
       "      <th>3633</th>\n",
       "      <td>LINESTRING (395846.3999999997 6577374.199999993, 395855.3999999996 6577373.499999991)</td>\n",
       "      <td>9.027181</td>\n",
       "      <td>(TRONROUT0000000209015922,)</td>\n",
       "      <td>-99</td>\n",
       "    </tr>\n",
       "    <tr>\n",
       "      <th>3635</th>\n",
       "      <td>LINESTRING (384486.4999999997 6572825.199999993, 384490.8999999997 6572821.499999993, 384496.4999999998 6572817.699999994, 384502.0999999996 6572814.799999992, 384508.2999999997 6572811.599999991,...</td>\n",
       "      <td>42.050884</td>\n",
       "      <td>(TRONROUT0000000202588064,)</td>\n",
       "      <td>-99</td>\n",
       "    </tr>\n",
       "    <tr>\n",
       "      <th>3647</th>\n",
       "      <td>LINESTRING (349964.4999999997 6580621.199999992, 349967.3999999997 6580615.299999991, 349976.6999999997 6580596.499999993, 349981.0999999995 6580587.199999991)</td>\n",
       "      <td>37.837043</td>\n",
       "      <td>(TRONROUT0000000249471038,)</td>\n",
       "      <td>-99</td>\n",
       "    </tr>\n",
       "    <tr>\n",
       "      <th>3670</th>\n",
       "      <td>LINESTRING (380162.1999999997 6570518.299999993, 380152.4999999996 6570486.399999992)</td>\n",
       "      <td>33.342165</td>\n",
       "      <td>(TRONROUT0000000032852527,)</td>\n",
       "      <td>-99</td>\n",
       "    </tr>\n",
       "    <tr>\n",
       "      <th>3752</th>\n",
       "      <td>LINESTRING (389161.1999999997 6574773.999999992, 389163.8999999997 6574765.999999993)</td>\n",
       "      <td>8.443341</td>\n",
       "      <td>(TRONROUT0000000032837453,)</td>\n",
       "      <td>-99</td>\n",
       "    </tr>\n",
       "    <tr>\n",
       "      <th>3778</th>\n",
       "      <td>LINESTRING (402349.4999999997 6572341.999999992, 402351.5999999996 6572346.299999992, 402356.5999999997 6572356.199999994)</td>\n",
       "      <td>15.876382</td>\n",
       "      <td>(TRONROUT0000000032842156,)</td>\n",
       "      <td>-99</td>\n",
       "    </tr>\n",
       "    <tr>\n",
       "      <th>4158</th>\n",
       "      <td>LINESTRING (368887.7999999996 6570587.599999992, 368891.6999999997 6570577.099999991)</td>\n",
       "      <td>11.200893</td>\n",
       "      <td>(TRONROUT0000000220824662,)</td>\n",
       "      <td>-99</td>\n",
       "    </tr>\n",
       "    <tr>\n",
       "      <th>4284</th>\n",
       "      <td>LINESTRING (380205.9999999996 6571713.599999991, 380211.5999999997 6571711.899999993, 380214.4999999997 6571711.099999992)</td>\n",
       "      <td>8.860672</td>\n",
       "      <td>(TRONROUT0000000032845570,)</td>\n",
       "      <td>-99</td>\n",
       "    </tr>\n",
       "    <tr>\n",
       "      <th>4409</th>\n",
       "      <td>LINESTRING (379787.5999999996 6573233.599999991, 379788.7999999996 6573240.799999993)</td>\n",
       "      <td>7.299315</td>\n",
       "      <td>(TRONROUT0000000032843185,)</td>\n",
       "      <td>-99</td>\n",
       "    </tr>\n",
       "    <tr>\n",
       "      <th>4598</th>\n",
       "      <td>(LINESTRING (378272.4999999997 6571738.199999993, 378262.1999999997 6571733.599999992, 378250.5999999997 6571728.599999992), LINESTRING (378269.1999999997 6571746.099999992, 378247.2999999997 6571...</td>\n",
       "      <td>47.744341</td>\n",
       "      <td>(TRONROUT0000000032846165, TRONROUT0000000227870944)</td>\n",
       "      <td>-99</td>\n",
       "    </tr>\n",
       "    <tr>\n",
       "      <th>4604</th>\n",
       "      <td>LINESTRING (351537.4999999997 6577454.699999993, 351535.0999999996 6577457.599999991, 351531.3999999996 6577459.299999991, 351526.4999999995 6577460.29999999, 351523.7999999996 6577460.299999993)</td>\n",
       "      <td>15.537161</td>\n",
       "      <td>(TRONROUT0000000249470896,)</td>\n",
       "      <td>-99</td>\n",
       "    </tr>\n",
       "    <tr>\n",
       "      <th>4682</th>\n",
       "      <td>LINESTRING (352031.5999999996 6578141.499999993, 352025.7999999996 6578139.599999992)</td>\n",
       "      <td>6.103278</td>\n",
       "      <td>(TRONROUT0000000032831326,)</td>\n",
       "      <td>-99</td>\n",
       "    </tr>\n",
       "    <tr>\n",
       "      <th>...</th>\n",
       "      <td>...</td>\n",
       "      <td>...</td>\n",
       "      <td>...</td>\n",
       "      <td>...</td>\n",
       "    </tr>\n",
       "    <tr>\n",
       "      <th>9694</th>\n",
       "      <td>LINESTRING (379537.7999999998 6571023.999999993, 379533.1999999996 6571023.09999999, 379528.1999999997 6571021.59999999, 379524.7999999996 6571020.299999991, 379522.1999999997 6571018.399999993, 3...</td>\n",
       "      <td>23.981549</td>\n",
       "      <td>(TRONROUT0000000032849117,)</td>\n",
       "      <td>-99</td>\n",
       "    </tr>\n",
       "    <tr>\n",
       "      <th>9704</th>\n",
       "      <td>LINESTRING (377784.9999999997 6570390.899999994, 377814.3999999997 6570410.399999993)</td>\n",
       "      <td>35.279031</td>\n",
       "      <td>(TRONROUT0000000032853370,)</td>\n",
       "      <td>-99</td>\n",
       "    </tr>\n",
       "    <tr>\n",
       "      <th>9748</th>\n",
       "      <td>(LINESTRING (412880.6999999998 6574643.399999994, 412870.5999999996 6574652.399999993, 412859.7999999997 6574660.499999993), LINESTRING (412880.7999999996 6574660.599999992, 412871.3999999997 6574...</td>\n",
       "      <td>48.048302</td>\n",
       "      <td>(TRONROUT0000000130604057, TRONROUT0000000130604054)</td>\n",
       "      <td>-99</td>\n",
       "    </tr>\n",
       "    <tr>\n",
       "      <th>10187</th>\n",
       "      <td>LINESTRING (406310.0999999996 6578714.49999999, 406308.1999999997 6578716.799999991, 406283.8999999997 6578729.999999993)</td>\n",
       "      <td>30.637039</td>\n",
       "      <td>(TRONROUT0000000032829567,)</td>\n",
       "      <td>-99</td>\n",
       "    </tr>\n",
       "    <tr>\n",
       "      <th>10357</th>\n",
       "      <td>LINESTRING (379714.7999999997 6573246.199999994, 379715.9999999996 6573253.399999993)</td>\n",
       "      <td>7.299315</td>\n",
       "      <td>(TRONROUT0000000032840683,)</td>\n",
       "      <td>-99</td>\n",
       "    </tr>\n",
       "    <tr>\n",
       "      <th>10477</th>\n",
       "      <td>LINESTRING (395854.2999999995 6577365.599999991, 395862.3999999997 6577369.499999993)</td>\n",
       "      <td>8.989994</td>\n",
       "      <td>(TRONROUT0000000238697746,)</td>\n",
       "      <td>-99</td>\n",
       "    </tr>\n",
       "    <tr>\n",
       "      <th>10633</th>\n",
       "      <td>LINESTRING (390003.3999999997 6576672.699999994, 389994.3999999997 6576663.399999993)</td>\n",
       "      <td>12.941793</td>\n",
       "      <td>(TRONROUT0000000032832088,)</td>\n",
       "      <td>-99</td>\n",
       "    </tr>\n",
       "    <tr>\n",
       "      <th>10667</th>\n",
       "      <td>(LINESTRING (379653.6999999995 6573255.199999991, 379652.8999999997 6573259.599999992, 379650.3999999997 6573268.499999993), LINESTRING (379661.5999999997 6573261.499999993, 379656.8999999996 6573...</td>\n",
       "      <td>32.735142</td>\n",
       "      <td>(TRONROUT0000000032840651, TRONROUT0000000032840652, TRONROUT0000000032840672)</td>\n",
       "      <td>-99</td>\n",
       "    </tr>\n",
       "    <tr>\n",
       "      <th>11323</th>\n",
       "      <td>LINESTRING (401078.4999999997 6577347.199999995, 401084.8999999998 6577349.899999994)</td>\n",
       "      <td>6.946222</td>\n",
       "      <td>(TRONROUT0000000130604108,)</td>\n",
       "      <td>-99</td>\n",
       "    </tr>\n",
       "    <tr>\n",
       "      <th>11420</th>\n",
       "      <td>LINESTRING (386438.9999999997 6569606.799999992, 386433.4999999997 6569597.999999992)</td>\n",
       "      <td>10.377379</td>\n",
       "      <td>(TRONROUT0000000129676231,)</td>\n",
       "      <td>-99</td>\n",
       "    </tr>\n",
       "    <tr>\n",
       "      <th>11679</th>\n",
       "      <td>LINESTRING (376243.5999999996 6571357.399999992, 376239.7999999997 6571360.999999993, 376234.6999999996 6571364.299999992, 376229.9999999996 6571366.199999991)</td>\n",
       "      <td>16.378555</td>\n",
       "      <td>(TRONROUT0000000032849784,)</td>\n",
       "      <td>-99</td>\n",
       "    </tr>\n",
       "    <tr>\n",
       "      <th>11897</th>\n",
       "      <td>LINESTRING (368897.5999999996 6570589.199999993, 368901.8999999996 6570597.399999991, 368904.9999999997 6570604.199999994)</td>\n",
       "      <td>16.732335</td>\n",
       "      <td>(TRONROUT0000000220824660,)</td>\n",
       "      <td>-99</td>\n",
       "    </tr>\n",
       "    <tr>\n",
       "      <th>11974</th>\n",
       "      <td>LINESTRING (368891.6999999997 6570577.099999991, 368897.5999999996 6570589.199999993)</td>\n",
       "      <td>13.461798</td>\n",
       "      <td>(TRONROUT0000000032854017,)</td>\n",
       "      <td>-99</td>\n",
       "    </tr>\n",
       "    <tr>\n",
       "      <th>12434</th>\n",
       "      <td>LINESTRING (378329.5999999996 6574464.299999993, 378346.6999999997 6574455.899999993, 378358.2999999996 6574450.599999991)</td>\n",
       "      <td>31.805202</td>\n",
       "      <td>(TRONROUT0000000032837833,)</td>\n",
       "      <td>-99</td>\n",
       "    </tr>\n",
       "    <tr>\n",
       "      <th>12621</th>\n",
       "      <td>LINESTRING (377332.2999999996 6576360.299999992, 377332.9999999997 6576362.899999992)</td>\n",
       "      <td>2.692582</td>\n",
       "      <td>(TRONROUT0000000129564876,)</td>\n",
       "      <td>-99</td>\n",
       "    </tr>\n",
       "    <tr>\n",
       "      <th>13035</th>\n",
       "      <td>(LINESTRING (380201.7999999996 6571683.899999992, 380199.7999999996 6571686.999999991, 380198.2999999998 6571692.399999994, 380198.5999999996 6571695.599999992), LINESTRING (380198.5999999996 6571...</td>\n",
       "      <td>32.020352</td>\n",
       "      <td>(TRONROUT0000000032845505, TRONROUT0000000032845527)</td>\n",
       "      <td>-99</td>\n",
       "    </tr>\n",
       "    <tr>\n",
       "      <th>13093</th>\n",
       "      <td>LINESTRING (380934.9999999997 6571340.399999992, 380919.2999999996 6571333.999999991)</td>\n",
       "      <td>16.954350</td>\n",
       "      <td>(TRONROUT0000000121807162,)</td>\n",
       "      <td>-99</td>\n",
       "    </tr>\n",
       "    <tr>\n",
       "      <th>13344</th>\n",
       "      <td>LINESTRING (361405.7999999996 6574595.799999993, 361398.5999999996 6574588.399999991, 361391.4999999995 6574583.39999999, 361384.6999999996 6574580.999999992)</td>\n",
       "      <td>26.219723</td>\n",
       "      <td>(TRONROUT0000000032838960,)</td>\n",
       "      <td>-99</td>\n",
       "    </tr>\n",
       "    <tr>\n",
       "      <th>13583</th>\n",
       "      <td>(LINESTRING (401078.4999999997 6577347.199999995, 401072.4999999997 6577362.099999992), LINESTRING (401084.8999999998 6577349.899999994, 401079.4999999997 6577364.799999991))</td>\n",
       "      <td>31.911033</td>\n",
       "      <td>(TRONROUT0000000032830682, TRONROUT0000000130606392)</td>\n",
       "      <td>-99</td>\n",
       "    </tr>\n",
       "    <tr>\n",
       "      <th>13914</th>\n",
       "      <td>LINESTRING (377332.2999999996 6576360.299999992, 377329.4999999996 6576358.299999991, 377323.7999999997 6576353.499999993, 377319.8999999998 6576349.399999994, 377317.6999999997 6576346.999999993,...</td>\n",
       "      <td>23.555494</td>\n",
       "      <td>(TRONROUT0000000129564874,)</td>\n",
       "      <td>-99</td>\n",
       "    </tr>\n",
       "    <tr>\n",
       "      <th>14081</th>\n",
       "      <td>LINESTRING (379099.5999999996 6569199.099999992, 379128.1999999997 6569191.699999992)</td>\n",
       "      <td>29.541835</td>\n",
       "      <td>(TRONROUT0000000032856644,)</td>\n",
       "      <td>-99</td>\n",
       "    </tr>\n",
       "    <tr>\n",
       "      <th>14145</th>\n",
       "      <td>LINESTRING (365877.2999999996 6571049.399999993, 365890.8999999997 6571044.399999993)</td>\n",
       "      <td>14.489997</td>\n",
       "      <td>(TRONROUT0000000032850891,)</td>\n",
       "      <td>-99</td>\n",
       "    </tr>\n",
       "    <tr>\n",
       "      <th>14208</th>\n",
       "      <td>LINESTRING (400286.5999999997 6579701.099999992, 400294.5999999996 6579692.299999991)</td>\n",
       "      <td>11.892855</td>\n",
       "      <td>(TRONROUT0000000032827879,)</td>\n",
       "      <td>-99</td>\n",
       "    </tr>\n",
       "    <tr>\n",
       "      <th>14353</th>\n",
       "      <td>LINESTRING (360997.1999999997 6574285.199999994, 361000.4999999997 6574283.399999994, 361003.2999999996 6574282.199999992, 361005.3999999997 6574281.899999993, 361006.9999999998 6574282.399999994)</td>\n",
       "      <td>10.602924</td>\n",
       "      <td>(TRONROUT0000000248366393,)</td>\n",
       "      <td>-99</td>\n",
       "    </tr>\n",
       "    <tr>\n",
       "      <th>14587</th>\n",
       "      <td>LINESTRING (382534.0999999997 6573601.999999993, 382518.7999999996 6573601.199999991, 382501.3999999998 6573605.499999993)</td>\n",
       "      <td>33.244349</td>\n",
       "      <td>(TRONROUT0000000032840241,)</td>\n",
       "      <td>-99</td>\n",
       "    </tr>\n",
       "    <tr>\n",
       "      <th>14770</th>\n",
       "      <td>LINESTRING (387666.6999999998 6574211.499999993, 387660.4999999997 6574216.199999994, 387657.5999999997 6574220.099999992, 387655.0999999997 6574223.499999993)</td>\n",
       "      <td>16.860334</td>\n",
       "      <td>(TRONROUT0000000202588037,)</td>\n",
       "      <td>-99</td>\n",
       "    </tr>\n",
       "    <tr>\n",
       "      <th>14781</th>\n",
       "      <td>LINESTRING (351500.0999999996 6577445.699999991, 351508.7999999996 6577447.199999992, 351516.1999999996 6577447.699999993, 351524.7999999996 6577447.699999994)</td>\n",
       "      <td>24.845236</td>\n",
       "      <td>(TRONROUT0000000249470897,)</td>\n",
       "      <td>-99</td>\n",
       "    </tr>\n",
       "    <tr>\n",
       "      <th>14996</th>\n",
       "      <td>LINESTRING (351537.4999999997 6577454.699999993, 351543.3999999996 6577455.599999991)</td>\n",
       "      <td>5.968249</td>\n",
       "      <td>(TRONROUT0000000032832732,)</td>\n",
       "      <td>-99</td>\n",
       "    </tr>\n",
       "    <tr>\n",
       "      <th>15191</th>\n",
       "      <td>LINESTRING (395862.3999999997 6577369.499999993, 395855.3999999996 6577373.499999991)</td>\n",
       "      <td>8.062258</td>\n",
       "      <td>(TRONROUT0000000238697745,)</td>\n",
       "      <td>-99</td>\n",
       "    </tr>\n",
       "    <tr>\n",
       "      <th>15207</th>\n",
       "      <td>LINESTRING (390720.1999999996 6579392.899999991, 390714.1999999997 6579395.499999993)</td>\n",
       "      <td>6.539113</td>\n",
       "      <td>(TRONROUT0000000039538412,)</td>\n",
       "      <td>-99</td>\n",
       "    </tr>\n",
       "  </tbody>\n",
       "</table>\n",
       "<p>96 rows × 4 columns</p>\n",
       "</div>"
      ],
      "text/plain": [
       "                                                                                                                                                                                                            geom  \\\n",
       "idtronc                                                                                                                                                                                                            \n",
       "272      (LINESTRING (392496.6999999997 6575828.099999992, 392503.0999999996 6575830.199999991, 392508.7999999997 6575833.099999992, 392512.2999999996 6575837.299999992, 392514.7999999997 6575843.499999993...   \n",
       "453                                              LINESTRING (389866.1999999997 6580537.399999993, 389869.7999999996 6580529.399999992, 389876.2999999997 6580517.299999992, 389884.0999999997 6580506.499999993)   \n",
       "653      (LINESTRING (379834.2999999996 6572555.599999992, 379829.3999999997 6572560.299999991, 379826.6999999997 6572563.099999993), LINESTRING (379877.6999999997 6572592.099999993, 379881.6999999997 6572...   \n",
       "767                                                                                   LINESTRING (379516.0999999997 6570913.299999991, 379525.2999999996 6570912.199999993, 379535.9999999997 6570909.399999992)   \n",
       "875                                                                                                                        LINESTRING (392707.8999999996 6577544.399999992, 392696.7999999997 6577576.599999993)   \n",
       "1170                                                                                                                       LINESTRING (389413.3999999997 6574867.299999991, 389416.6999999996 6574857.999999992)   \n",
       "1211                                                                                                                       LINESTRING (390184.9999999996 6577389.799999991, 390191.6999999997 6577388.199999993)   \n",
       "1231                                              LINESTRING (351524.7999999996 6577447.699999994, 351530.6999999995 6577449.49999999, 351534.8999999996 6577451.899999992, 351537.4999999997 6577454.699999993)   \n",
       "1554                                                                                                                       LINESTRING (375801.5999999996 6572054.199999993, 375778.2999999996 6572042.499999993)   \n",
       "1813                                                                                                                       LINESTRING (378852.0999999997 6570245.099999991, 378851.3999999997 6570274.899999993)   \n",
       "2120     (LINESTRING (360993.5999999996 6574292.199999992, 360994.4999999995 6574288.899999991, 360995.3999999997 6574286.999999993, 360997.1999999997 6574285.199999994), LINESTRING (360993.9999999997 6574...   \n",
       "2157     (LINESTRING (386416.1999999997 6569584.099999992, 386423.9999999997 6569587.399999992), LINESTRING (386423.9999999997 6569587.399999992, 386429.5999999996 6569588.199999993, 386435.9999999997 6569...   \n",
       "2476                                                                                                                       LINESTRING (375963.1999999997 6572158.799999992, 375967.2999999996 6572154.199999991)   \n",
       "2723                                                                                  LINESTRING (380227.8999999996 6569598.899999992, 380229.0999999996 6569604.399999992, 380230.8999999997 6569610.299999992)   \n",
       "2924     (LINESTRING (359356.9999999996 6575790.899999992, 359358.5999999997 6575791.999999993, 359363.7999999996 6575795.699999993), LINESTRING (359390.0999999996 6575808.399999994, 359363.7999999996 6575...   \n",
       "3030     (LINESTRING (390720.1999999996 6579392.899999991, 390725.7999999996 6579414.099999992), LINESTRING (390719.6999999998 6579417.099999993, 390716.4999999997 6579404.699999994, 390714.1999999997 6579...   \n",
       "3056                                                                                                                       LINESTRING (380539.3999999997 6571537.399999993, 380532.4999999997 6571522.399999993)   \n",
       "3516     (LINESTRING (379837.2999999997 6570457.899999994, 379836.2999999996 6570459.999999992, 379835.5999999995 6570462.99999999, 379835.4999999997 6570466.999999993, 379836.3999999997 6570471.099999992,...   \n",
       "3633                                                                                                                       LINESTRING (395846.3999999997 6577374.199999993, 395855.3999999996 6577373.499999991)   \n",
       "3635     LINESTRING (384486.4999999997 6572825.199999993, 384490.8999999997 6572821.499999993, 384496.4999999998 6572817.699999994, 384502.0999999996 6572814.799999992, 384508.2999999997 6572811.599999991,...   \n",
       "3647                                             LINESTRING (349964.4999999997 6580621.199999992, 349967.3999999997 6580615.299999991, 349976.6999999997 6580596.499999993, 349981.0999999995 6580587.199999991)   \n",
       "3670                                                                                                                       LINESTRING (380162.1999999997 6570518.299999993, 380152.4999999996 6570486.399999992)   \n",
       "3752                                                                                                                       LINESTRING (389161.1999999997 6574773.999999992, 389163.8999999997 6574765.999999993)   \n",
       "3778                                                                                  LINESTRING (402349.4999999997 6572341.999999992, 402351.5999999996 6572346.299999992, 402356.5999999997 6572356.199999994)   \n",
       "4158                                                                                                                       LINESTRING (368887.7999999996 6570587.599999992, 368891.6999999997 6570577.099999991)   \n",
       "4284                                                                                  LINESTRING (380205.9999999996 6571713.599999991, 380211.5999999997 6571711.899999993, 380214.4999999997 6571711.099999992)   \n",
       "4409                                                                                                                       LINESTRING (379787.5999999996 6573233.599999991, 379788.7999999996 6573240.799999993)   \n",
       "4598     (LINESTRING (378272.4999999997 6571738.199999993, 378262.1999999997 6571733.599999992, 378250.5999999997 6571728.599999992), LINESTRING (378269.1999999997 6571746.099999992, 378247.2999999997 6571...   \n",
       "4604         LINESTRING (351537.4999999997 6577454.699999993, 351535.0999999996 6577457.599999991, 351531.3999999996 6577459.299999991, 351526.4999999995 6577460.29999999, 351523.7999999996 6577460.299999993)   \n",
       "4682                                                                                                                       LINESTRING (352031.5999999996 6578141.499999993, 352025.7999999996 6578139.599999992)   \n",
       "...                                                                                                                                                                                                          ...   \n",
       "9694     LINESTRING (379537.7999999998 6571023.999999993, 379533.1999999996 6571023.09999999, 379528.1999999997 6571021.59999999, 379524.7999999996 6571020.299999991, 379522.1999999997 6571018.399999993, 3...   \n",
       "9704                                                                                                                       LINESTRING (377784.9999999997 6570390.899999994, 377814.3999999997 6570410.399999993)   \n",
       "9748     (LINESTRING (412880.6999999998 6574643.399999994, 412870.5999999996 6574652.399999993, 412859.7999999997 6574660.499999993), LINESTRING (412880.7999999996 6574660.599999992, 412871.3999999997 6574...   \n",
       "10187                                                                                  LINESTRING (406310.0999999996 6578714.49999999, 406308.1999999997 6578716.799999991, 406283.8999999997 6578729.999999993)   \n",
       "10357                                                                                                                      LINESTRING (379714.7999999997 6573246.199999994, 379715.9999999996 6573253.399999993)   \n",
       "10477                                                                                                                      LINESTRING (395854.2999999995 6577365.599999991, 395862.3999999997 6577369.499999993)   \n",
       "10633                                                                                                                      LINESTRING (390003.3999999997 6576672.699999994, 389994.3999999997 6576663.399999993)   \n",
       "10667    (LINESTRING (379653.6999999995 6573255.199999991, 379652.8999999997 6573259.599999992, 379650.3999999997 6573268.499999993), LINESTRING (379661.5999999997 6573261.499999993, 379656.8999999996 6573...   \n",
       "11323                                                                                                                      LINESTRING (401078.4999999997 6577347.199999995, 401084.8999999998 6577349.899999994)   \n",
       "11420                                                                                                                      LINESTRING (386438.9999999997 6569606.799999992, 386433.4999999997 6569597.999999992)   \n",
       "11679                                            LINESTRING (376243.5999999996 6571357.399999992, 376239.7999999997 6571360.999999993, 376234.6999999996 6571364.299999992, 376229.9999999996 6571366.199999991)   \n",
       "11897                                                                                 LINESTRING (368897.5999999996 6570589.199999993, 368901.8999999996 6570597.399999991, 368904.9999999997 6570604.199999994)   \n",
       "11974                                                                                                                      LINESTRING (368891.6999999997 6570577.099999991, 368897.5999999996 6570589.199999993)   \n",
       "12434                                                                                 LINESTRING (378329.5999999996 6574464.299999993, 378346.6999999997 6574455.899999993, 378358.2999999996 6574450.599999991)   \n",
       "12621                                                                                                                      LINESTRING (377332.2999999996 6576360.299999992, 377332.9999999997 6576362.899999992)   \n",
       "13035    (LINESTRING (380201.7999999996 6571683.899999992, 380199.7999999996 6571686.999999991, 380198.2999999998 6571692.399999994, 380198.5999999996 6571695.599999992), LINESTRING (380198.5999999996 6571...   \n",
       "13093                                                                                                                      LINESTRING (380934.9999999997 6571340.399999992, 380919.2999999996 6571333.999999991)   \n",
       "13344                                             LINESTRING (361405.7999999996 6574595.799999993, 361398.5999999996 6574588.399999991, 361391.4999999995 6574583.39999999, 361384.6999999996 6574580.999999992)   \n",
       "13583                             (LINESTRING (401078.4999999997 6577347.199999995, 401072.4999999997 6577362.099999992), LINESTRING (401084.8999999998 6577349.899999994, 401079.4999999997 6577364.799999991))   \n",
       "13914    LINESTRING (377332.2999999996 6576360.299999992, 377329.4999999996 6576358.299999991, 377323.7999999997 6576353.499999993, 377319.8999999998 6576349.399999994, 377317.6999999997 6576346.999999993,...   \n",
       "14081                                                                                                                      LINESTRING (379099.5999999996 6569199.099999992, 379128.1999999997 6569191.699999992)   \n",
       "14145                                                                                                                      LINESTRING (365877.2999999996 6571049.399999993, 365890.8999999997 6571044.399999993)   \n",
       "14208                                                                                                                      LINESTRING (400286.5999999997 6579701.099999992, 400294.5999999996 6579692.299999991)   \n",
       "14353       LINESTRING (360997.1999999997 6574285.199999994, 361000.4999999997 6574283.399999994, 361003.2999999996 6574282.199999992, 361005.3999999997 6574281.899999993, 361006.9999999998 6574282.399999994)   \n",
       "14587                                                                                 LINESTRING (382534.0999999997 6573601.999999993, 382518.7999999996 6573601.199999991, 382501.3999999998 6573605.499999993)   \n",
       "14770                                            LINESTRING (387666.6999999998 6574211.499999993, 387660.4999999997 6574216.199999994, 387657.5999999997 6574220.099999992, 387655.0999999997 6574223.499999993)   \n",
       "14781                                            LINESTRING (351500.0999999996 6577445.699999991, 351508.7999999996 6577447.199999992, 351516.1999999996 6577447.699999993, 351524.7999999996 6577447.699999994)   \n",
       "14996                                                                                                                      LINESTRING (351537.4999999997 6577454.699999993, 351543.3999999996 6577455.599999991)   \n",
       "15191                                                                                                                      LINESTRING (395862.3999999997 6577369.499999993, 395855.3999999996 6577373.499999991)   \n",
       "15207                                                                                                                      LINESTRING (390720.1999999996 6579392.899999991, 390714.1999999997 6579395.499999993)   \n",
       "\n",
       "              long  \\\n",
       "idtronc              \n",
       "272      48.666313   \n",
       "453      35.830203   \n",
       "653      19.803024   \n",
       "767      20.325817   \n",
       "875      34.059507   \n",
       "1170      9.868131   \n",
       "1211      6.888396   \n",
       "1231     14.826817   \n",
       "1554     26.072591   \n",
       "1813     29.808220   \n",
       "2120     13.937989   \n",
       "2157     43.328768   \n",
       "2476      6.161980   \n",
       "2723     11.797855   \n",
       "2924     37.529476   \n",
       "3030     44.216544   \n",
       "3056     16.510905   \n",
       "3516     42.366475   \n",
       "3633      9.027181   \n",
       "3635     42.050884   \n",
       "3647     37.837043   \n",
       "3670     33.342165   \n",
       "3752      8.443341   \n",
       "3778     15.876382   \n",
       "4158     11.200893   \n",
       "4284      8.860672   \n",
       "4409      7.299315   \n",
       "4598     47.744341   \n",
       "4604     15.537161   \n",
       "4682      6.103278   \n",
       "...            ...   \n",
       "9694     23.981549   \n",
       "9704     35.279031   \n",
       "9748     48.048302   \n",
       "10187    30.637039   \n",
       "10357     7.299315   \n",
       "10477     8.989994   \n",
       "10633    12.941793   \n",
       "10667    32.735142   \n",
       "11323     6.946222   \n",
       "11420    10.377379   \n",
       "11679    16.378555   \n",
       "11897    16.732335   \n",
       "11974    13.461798   \n",
       "12434    31.805202   \n",
       "12621     2.692582   \n",
       "13035    32.020352   \n",
       "13093    16.954350   \n",
       "13344    26.219723   \n",
       "13583    31.911033   \n",
       "13914    23.555494   \n",
       "14081    29.541835   \n",
       "14145    14.489997   \n",
       "14208    11.892855   \n",
       "14353    10.602924   \n",
       "14587    33.244349   \n",
       "14770    16.860334   \n",
       "14781    24.845236   \n",
       "14996     5.968249   \n",
       "15191     8.062258   \n",
       "15207     6.539113   \n",
       "\n",
       "                                                                                     id  \\\n",
       "idtronc                                                                                   \n",
       "272                                (TRONROUT0000000032833324, TRONROUT0000000206971139)   \n",
       "453                                                         (TRONROUT0000000032828011,)   \n",
       "653                                (TRONROUT0000000115741137, TRONROUT0000000032843251)   \n",
       "767                                                         (TRONROUT0000000112535615,)   \n",
       "875                                                         (TRONROUT0000000032830833,)   \n",
       "1170                                                        (TRONROUT0000000032835474,)   \n",
       "1211                                                        (TRONROUT0000000039536308,)   \n",
       "1231                                                        (TRONROUT0000000249470901,)   \n",
       "1554                                                        (TRONROUT0000000032846708,)   \n",
       "1813                                                        (TRONROUT0000000032853244,)   \n",
       "2120                               (TRONROUT0000000248366392, TRONROUT0000000248366391)   \n",
       "2157     (TRONROUT0000000129676223, TRONROUT0000000129676222, TRONROUT0000000129676232)   \n",
       "2476                                                        (TRONROUT0000000032846678,)   \n",
       "2723                                                        (TRONROUT0000000342863162,)   \n",
       "2924                               (TRONROUT0000000032836765, TRONROUT0000000032836736)   \n",
       "3030                               (TRONROUT0000000039538416, TRONROUT0000000039538409)   \n",
       "3056                                                        (TRONROUT0000000032848690,)   \n",
       "3516     (TRONROUT0000000032852868, TRONROUT0000000032852867, TRONROUT0000000032852862)   \n",
       "3633                                                        (TRONROUT0000000209015922,)   \n",
       "3635                                                        (TRONROUT0000000202588064,)   \n",
       "3647                                                        (TRONROUT0000000249471038,)   \n",
       "3670                                                        (TRONROUT0000000032852527,)   \n",
       "3752                                                        (TRONROUT0000000032837453,)   \n",
       "3778                                                        (TRONROUT0000000032842156,)   \n",
       "4158                                                        (TRONROUT0000000220824662,)   \n",
       "4284                                                        (TRONROUT0000000032845570,)   \n",
       "4409                                                        (TRONROUT0000000032843185,)   \n",
       "4598                               (TRONROUT0000000032846165, TRONROUT0000000227870944)   \n",
       "4604                                                        (TRONROUT0000000249470896,)   \n",
       "4682                                                        (TRONROUT0000000032831326,)   \n",
       "...                                                                                 ...   \n",
       "9694                                                        (TRONROUT0000000032849117,)   \n",
       "9704                                                        (TRONROUT0000000032853370,)   \n",
       "9748                               (TRONROUT0000000130604057, TRONROUT0000000130604054)   \n",
       "10187                                                       (TRONROUT0000000032829567,)   \n",
       "10357                                                       (TRONROUT0000000032840683,)   \n",
       "10477                                                       (TRONROUT0000000238697746,)   \n",
       "10633                                                       (TRONROUT0000000032832088,)   \n",
       "10667    (TRONROUT0000000032840651, TRONROUT0000000032840652, TRONROUT0000000032840672)   \n",
       "11323                                                       (TRONROUT0000000130604108,)   \n",
       "11420                                                       (TRONROUT0000000129676231,)   \n",
       "11679                                                       (TRONROUT0000000032849784,)   \n",
       "11897                                                       (TRONROUT0000000220824660,)   \n",
       "11974                                                       (TRONROUT0000000032854017,)   \n",
       "12434                                                       (TRONROUT0000000032837833,)   \n",
       "12621                                                       (TRONROUT0000000129564876,)   \n",
       "13035                              (TRONROUT0000000032845505, TRONROUT0000000032845527)   \n",
       "13093                                                       (TRONROUT0000000121807162,)   \n",
       "13344                                                       (TRONROUT0000000032838960,)   \n",
       "13583                              (TRONROUT0000000032830682, TRONROUT0000000130606392)   \n",
       "13914                                                       (TRONROUT0000000129564874,)   \n",
       "14081                                                       (TRONROUT0000000032856644,)   \n",
       "14145                                                       (TRONROUT0000000032850891,)   \n",
       "14208                                                       (TRONROUT0000000032827879,)   \n",
       "14353                                                       (TRONROUT0000000248366393,)   \n",
       "14587                                                       (TRONROUT0000000032840241,)   \n",
       "14770                                                       (TRONROUT0000000202588037,)   \n",
       "14781                                                       (TRONROUT0000000249470897,)   \n",
       "14996                                                       (TRONROUT0000000032832732,)   \n",
       "15191                                                       (TRONROUT0000000238697745,)   \n",
       "15207                                                       (TRONROUT0000000039538412,)   \n",
       "\n",
       "         synt  \n",
       "idtronc        \n",
       "272       -99  \n",
       "453       -99  \n",
       "653       -99  \n",
       "767       -99  \n",
       "875       -99  \n",
       "1170      -99  \n",
       "1211      -99  \n",
       "1231      -99  \n",
       "1554      -99  \n",
       "1813      -99  \n",
       "2120      -99  \n",
       "2157      -99  \n",
       "2476      -99  \n",
       "2723      -99  \n",
       "2924      -99  \n",
       "3030      -99  \n",
       "3056      -99  \n",
       "3516      -99  \n",
       "3633      -99  \n",
       "3635      -99  \n",
       "3647      -99  \n",
       "3670      -99  \n",
       "3752      -99  \n",
       "3778      -99  \n",
       "4158      -99  \n",
       "4284      -99  \n",
       "4409      -99  \n",
       "4598      -99  \n",
       "4604      -99  \n",
       "4682      -99  \n",
       "...       ...  \n",
       "9694      -99  \n",
       "9704      -99  \n",
       "9748      -99  \n",
       "10187     -99  \n",
       "10357     -99  \n",
       "10477     -99  \n",
       "10633     -99  \n",
       "10667     -99  \n",
       "11323     -99  \n",
       "11420     -99  \n",
       "11679     -99  \n",
       "11897     -99  \n",
       "11974     -99  \n",
       "12434     -99  \n",
       "12621     -99  \n",
       "13035     -99  \n",
       "13093     -99  \n",
       "13344     -99  \n",
       "13583     -99  \n",
       "13914     -99  \n",
       "14081     -99  \n",
       "14145     -99  \n",
       "14208     -99  \n",
       "14353     -99  \n",
       "14587     -99  \n",
       "14770     -99  \n",
       "14781     -99  \n",
       "14996     -99  \n",
       "15191     -99  \n",
       "15207     -99  \n",
       "\n",
       "[96 rows x 4 columns]"
      ]
     },
     "execution_count": 394,
     "metadata": {},
     "output_type": "execute_result"
    }
   ],
   "source": [
    "petit_tronc.loc[petit_tronc['synt']==-99]"
   ]
  },
  {
   "cell_type": "markdown",
   "metadata": {},
   "source": [
    "## 4.3 sources et target regroupes"
   ]
  },
  {
   "cell_type": "code",
   "execution_count": 28,
   "metadata": {},
   "outputs": [],
   "source": [
    "def creer_noeud_tronc_elem(df_lignes,ligne_base,df_affectation ):\n",
    "    \"\"\"\n",
    "    associer des tronc elem a des noeud représentatif pour créer un graph\n",
    "    en entree : \n",
    "        df_lignes df des lignes bdtopo avec rd point et index=id_ign\n",
    "        ligne_base : df des lignes constituant le tronc elem. issus de df_lignes\n",
    "        df_affectation : df de correspondance id_ign idtronc_elem, issu de regrouper_troncon\n",
    "    en sortie : \n",
    "        noeuds_fin : df avec index = noeud_unique (int) et idtronc)=tuple des idtroncelem qui touchent ce noeud\n",
    "        coresp_te_noeud : toute les correspondances noeud-lignes\n",
    "        noeud_uniq : list edes noeud de fin de tronc elem\n",
    "    \"\"\"\n",
    "    noeud_uniq=[k for k,v in Counter(ligne_base.source.tolist()+ligne_base.target.tolist()).items() if v==1]\n",
    "    df_noeud_unique=pd.DataFrame(noeud_uniq, columns=['noeud_uniq'])\n",
    "    lgn_tch_noeud_uniq=df_lignes.loc[((df_lignes['source'].isin(noeud_uniq)) | (df_lignes['target'].isin(noeud_uniq))) & (~df_lignes.index.isin(ligne_base.index.tolist()))].copy()\n",
    "    # trouver les correspondance avec doublons de noeud possible et une ligne par corresp\n",
    "    coresp_ligne_noeud=pd.concat(\n",
    "        [lgn_tch_noeud_uniq.reset_index().merge(df_noeud_unique, left_on='source', right_on='noeud_uniq')[['id_ign','noeud_uniq']],\n",
    "         lgn_tch_noeud_uniq.reset_index().merge(df_noeud_unique, left_on='target', right_on='noeud_uniq')[['id_ign','noeud_uniq']]],axis=0)\n",
    "    #rapatriementdes ifos de longueur du tronc_elem\n",
    "    coresp_te_noeud=coresp_ligne_noeud.merge(df_affectation, left_on='id_ign', right_on='id')[['id_ign','noeud_uniq','idtronc']].merge(tronc_elem_synth[\n",
    "        ['long']],left_on='idtronc', right_index=True).rename(columns={'long' : 'long_te'})\n",
    "    noeuds_fin=coresp_te_noeud.sort_values('noeud_uniq').groupby('noeud_uniq').agg({'idtronc':lambda x : tuple(set(x))})\n",
    "    noeuds_fin=noeuds_fin.drop_duplicates('idtronc')\n",
    "\n",
    "    # pour info si plus de 2 boeuds uniques alors il faut filtrer les non représentatif\n",
    "    if len(noeuds_fin)>2 :\n",
    "        coresp_te_noeud_filtre_lg=coresp_te_noeud.loc[coresp_te_noeud['long_te']>50] #on ne garde pas les tout petit tronc\n",
    "        coresp_te_noeud_grp=coresp_te_noeud_filtre_lg.sort_values('noeud_uniq').groupby('noeud_uniq').agg(\n",
    "            {'idtronc':lambda x : tuple(set(x)),'long_te':lambda x : tuple(set(x))})\n",
    "        noeuds_fin=coresp_te_noeud_grp.loc[~coresp_te_noeud_grp.apply(lambda x : len(x['idtronc'])==1 ,axis=1)].copy()\n",
    "        return noeuds_fin,coresp_te_noeud_grp, noeud_uniq # on pourrait creer une erreur pour ca\n",
    "    return noeuds_fin,coresp_te_noeud, noeud_uniq"
   ]
  },
  {
   "cell_type": "code",
   "execution_count": 12,
   "metadata": {},
   "outputs": [],
   "source": [
    "def tronc_elem_rdpt(num_rdpt, df_affectation,df_lignes):\n",
    "    \"\"\"\n",
    "    Trouver les tronc_elem qui se rejoigne à un rd point, identifier par un noeud\n",
    "    en entree : \n",
    "       num_rdpt : integer,  id_rdpt de carac_rdpt\n",
    "       df_affectation : df de correspondance id_ign idtronc_elem, issu de regrouper_troncon\n",
    "       df_lignes df des lignes bdtopo avec rd point et index=id_ign\n",
    "    en sortie : \n",
    "        df_rdpt_tronc_elem : df avec en index le noeud caracteristique du rd et en data un tuple des tronc_elem arrivant\n",
    "    \"\"\"\n",
    "    tronc_elem_entrant=df_affectation.loc[(df_affectation.id.isin(df_lignes.loc[list(carac_rd_pt.loc[num_rdpt].id_ign_entrant)].index.tolist())) \n",
    "                                              & (df_affectation['idtronc']!=num_tronc)].copy()#trouver les tronc_elem qui touchent\n",
    "    #affectation arbitraire du rd poit à un noeud le composant \n",
    "    noeud_uniq_rdpt=df_lignes.loc[carac_rd_pt.loc[num_rdpt]['id_ign_rdpt'][0]]['source']\n",
    "    tronc_elem_entrant['noeud_uniq']=noeud_uniq_rdpt\n",
    "    #creer une df de mm structure qu noeuds_fin\n",
    "    df_rdpt_tronc_elem=tronc_elem_entrant.groupby('noeud_uniq').agg({'idtronc':lambda x : tuple(set(x))})\n",
    "    return df_rdpt_tronc_elem"
   ]
  },
  {
   "cell_type": "code",
   "execution_count": 67,
   "metadata": {},
   "outputs": [],
   "source": [
    "def tronc_elem_rd_pt_global (nb_rdpt, ligne_base,num_rdpt, df_affectation,df_lignes) : \n",
    "    \"\"\"\n",
    "    adaptation de la fonction tronc_elem_rdpt selon le nombre de rdpt du tronc_elem\n",
    "    en entree : \n",
    "        nb_rdpt : integer : nombre de rdpt significatifs\n",
    "        ligne_base : df des lignes constituant le tronc elem. issus de df_lignes\n",
    "        num_rdpt : list d'integer,  id_rdpt de carac_rdpt\n",
    "        df_affectation : df de correspondance id_ign idtronc_elem, issu de regrouper_troncon\n",
    "        df_lignes df des lignes bdtopo avec rd point et index=id_ign\n",
    "    en sortie : \n",
    "        \n",
    "    \"\"\"\n",
    "    if nb_rdpt==1: # dans ce cas il y a un rdpt qui ferme le troncon d'un coté. On commence par le coté ss rdpt\n",
    "        noeuds_fin=creer_noeud_tronc_elem(df_lignes,ligne_base,df_affectation )[0]\n",
    "        #puis le cote avec rd_pt : on cherche les troncs elem qui arriven\n",
    "        df_rdpt_tronc_elem=tronc_elem_rdpt(num_rdpt[0], df_affectation,df_lignes)\n",
    "        #agreg\n",
    "        noeuds_fin=pd.concat([noeuds_fin, df_rdpt_tronc_elem], axis=0, sort=False)\n",
    "    elif nb_rdpt==2 : # adns ce cas il faut trouver les correspondances pour chaque rd pt\n",
    "        corresp1=tronc_elem_rdpt(num_rdpt[0], df_affectation,df_lignes)\n",
    "        corresp2=tronc_elem_rdpt(num_rdpt[1], df_affectation,df_lignes)\n",
    "        noeuds_fin=pd.concat([corresp1, corresp2],axis=0)\n",
    "    return noeuds_fin"
   ]
  },
  {
   "cell_type": "code",
   "execution_count": 95,
   "metadata": {},
   "outputs": [
    {
     "name": "stdout",
     "output_type": "stream",
     "text": [
      "nb lignes traitees 0, heure : <built-in method now of type object at 0x00007FFEAC903D60>, tronc :0\n",
      "5 deja renseigne\n",
      "5 deja renseigne\n",
      "8 deja renseigne\n",
      "8 deja renseigne\n",
      "erreur sur troncon 6337, df noeud :                   idtronc                                  long_te\n",
      "noeud_uniq                                                       \n",
      "66001       (11016, 500)  (353.78757309698466, 5467.885551698945)\n",
      "72616       (10875, 500)   (5467.885551698945, 309.6104307447416)\n",
      "73237       (1892, 8853)   (3097.05124851706, 423.14520467961364)\n",
      "83740       (2354, 1892)    (3097.05124851706, 361.3033189049768)\n"
     ]
    },
    {
     "ename": "KeyError",
     "evalue": "2",
     "output_type": "error",
     "traceback": [
      "\u001b[1;31m---------------------------------------------------------------------------\u001b[0m",
      "\u001b[1;31mKeyError\u001b[0m                                  Traceback (most recent call last)",
      "\u001b[1;32m<ipython-input-95-46e789362200>\u001b[0m in \u001b[0;36m<module>\u001b[1;34m\u001b[0m\n\u001b[0;32m     47\u001b[0m         \u001b[1;32mif\u001b[0m \u001b[0mi\u001b[0m \u001b[1;33m>=\u001b[0m \u001b[1;36m2\u001b[0m \u001b[1;33m:\u001b[0m\u001b[1;33m\u001b[0m\u001b[0m\n\u001b[0;32m     48\u001b[0m             \u001b[0mprint\u001b[0m\u001b[1;33m(\u001b[0m\u001b[1;34mf'erreur sur troncon {num_tronc}, df noeud :  {noeuds_fin}'\u001b[0m\u001b[1;33m)\u001b[0m\u001b[1;33m\u001b[0m\u001b[0m\n\u001b[1;32m---> 49\u001b[1;33m         \u001b[0mgroup_idtronc\u001b[0m\u001b[1;33m.\u001b[0m\u001b[0mloc\u001b[0m\u001b[1;33m[\u001b[0m\u001b[0mnum_tronc\u001b[0m\u001b[1;33m,\u001b[0m \u001b[0mdico_attribut\u001b[0m\u001b[1;33m[\u001b[0m\u001b[0mi\u001b[0m\u001b[1;33m]\u001b[0m\u001b[1;33m]\u001b[0m\u001b[1;33m=\u001b[0m\u001b[0mnoeuds_fin\u001b[0m\u001b[1;33m.\u001b[0m\u001b[0mindex\u001b[0m\u001b[1;33m.\u001b[0m\u001b[0mvalues\u001b[0m\u001b[1;33m[\u001b[0m\u001b[0mi\u001b[0m\u001b[1;33m]\u001b[0m \u001b[1;31m#mise à jour des valuers de pour le troncon de base\u001b[0m\u001b[1;33m\u001b[0m\u001b[0m\n\u001b[0m\u001b[0;32m     50\u001b[0m         \u001b[0mgroup_idtronc\u001b[0m\u001b[1;33m.\u001b[0m\u001b[0mloc\u001b[0m\u001b[1;33m[\u001b[0m\u001b[0mnum_tronc\u001b[0m\u001b[1;33m,\u001b[0m \u001b[0mdico_attribut\u001b[0m\u001b[1;33m[\u001b[0m\u001b[0mi\u001b[0m\u001b[1;33m]\u001b[0m\u001b[1;33m]\u001b[0m\u001b[1;33m=\u001b[0m\u001b[0mnoeuds_fin\u001b[0m\u001b[1;33m.\u001b[0m\u001b[0mindex\u001b[0m\u001b[1;33m.\u001b[0m\u001b[0mvalues\u001b[0m\u001b[1;33m[\u001b[0m\u001b[0mi\u001b[0m\u001b[1;33m]\u001b[0m\u001b[1;33m\u001b[0m\u001b[0m\n\u001b[0;32m     51\u001b[0m     \u001b[1;32mfor\u001b[0m \u001b[0mnum_tronc_sup\u001b[0m \u001b[1;32min\u001b[0m \u001b[1;33m[\u001b[0m\u001b[0mx\u001b[0m \u001b[1;32mfor\u001b[0m \u001b[0my\u001b[0m \u001b[1;32min\u001b[0m \u001b[0mnoeuds_fin\u001b[0m\u001b[1;33m.\u001b[0m\u001b[0midtronc\u001b[0m\u001b[1;33m.\u001b[0m\u001b[0mtolist\u001b[0m\u001b[1;33m(\u001b[0m\u001b[1;33m)\u001b[0m \u001b[1;32mfor\u001b[0m \u001b[0mx\u001b[0m \u001b[1;32min\u001b[0m \u001b[0my\u001b[0m\u001b[1;33m]\u001b[0m \u001b[1;33m:\u001b[0m \u001b[1;31m#mise à jour des valeusr pour les autres troncons\u001b[0m\u001b[1;33m\u001b[0m\u001b[0m\n",
      "\u001b[1;31mKeyError\u001b[0m: 2"
     ]
    }
   ],
   "source": [
    "# à partir de df_affectation, je trouve les noeud qui ne sont présent qu'une fois\n",
    "#regroupement des lignes par idtronc et creation des futurs attributs de src et tgt\n",
    "group_idtronc=df_affectation.groupby('idtronc').agg({'id':lambda x : tuple(x)})\n",
    "group_idtronc['src_elem']=-1\n",
    "group_idtronc['tgt_elem']=-1\n",
    "#pour une ligne : retrouver les lignes de base\n",
    "\n",
    "for i,num_tronc in enumerate(df_affectation.idtronc.unique()) :\n",
    "    if i%1000==0 : \n",
    "        print(f'nb lignes traitees {i}, heure : {datetime.now}, tronc :{num_tronc}')\n",
    "    #num_tronc=68 #396 #3402 #206\n",
    "    ligne_base=df_lignes.loc[list(group_idtronc.loc[num_tronc].id)]\n",
    "\n",
    "    # Le pb c'est de gérer les rdpt qui termine un tronc elem. \n",
    "    #dc 1. combien de rd point dans le tronc eleme\n",
    "    nb_rdpt=ligne_base.id_rdpt.nunique()\n",
    "\n",
    "    #2. Gérer les différents cas du nb de rdpt \n",
    "    #si 0 : on va chercher les noeud qui n'apparaissent qu'une fois : ce son des fin de troncon elem\n",
    "    if nb_rdpt==0 :\n",
    "        noeuds_fin,synthese_croisement, noeud_uniq=creer_noeud_tronc_elem(df_lignes,ligne_base,df_affectation )\n",
    "    else :  #on attaque les cas en fonction du nombre de rdpt   \n",
    "        list_rdpt=ligne_base.loc[ligne_base['id_rdpt'].notna()].id_rdpt.unique()\n",
    "    #si 1 : ce rd point est-il en fin de trocnon ou non. C'est tarduit par le nb de route différentes qui intersectenet les rd point (attribut de carac_rd_pt)\n",
    "        if nb_rdpt==1 : \n",
    "            nb_voie_entrante=carac_rd_pt.loc[num_rdpt].nb_rte_rdpt\n",
    "            if nb_voie_entrante==1 : #ds ce cas c'est comme si pas de rdpt\n",
    "                noeuds_fin=creer_noeud_tronc_elem(df_lignes,ligne_base,df_affectation )[0]\n",
    "            else : \n",
    "                noeuds_fin=tronc_elem_rd_pt_global(nb_rdpt, ligne_base,list_rdpt, df_affectation,df_lignes)         \n",
    "        else : #si plusieurs rd pt\n",
    "            #il faut connaitre le nb de rd pt avec plusieurs voie entrante. sinon le max est 2 si plus que 2 alors erreur\n",
    "            tt_rdpt=carac_rd_pt.loc[list_rdpt] # tous les rd pt du tronc elem\n",
    "            rd_pt_multi_voie=tt_rdpt.loc[tt_rdpt['nb_rte_rdpt']>1].index.tolist() #que les multi voies\n",
    "            if len(rd_pt_multi_voie)==0 : # c'est le cas ss rdpt\n",
    "                noeuds_fin=creer_noeud_tronc_elem(df_lignes,ligne_base,df_affectation )[0] \n",
    "            elif len(rd_pt_multi_voie)==1 : # si 1 seul on revient sur le cas du dessus,\n",
    "                noeuds_fin=tronc_elem_rd_pt_global(1, ligne_base,rd_pt_multi_voie, df_affectation,df_lignes)\n",
    "            elif len(rd_pt_multi_voie)==2 : # adns ce cas il faut trouver les correspondances pour chaque rd pt\n",
    "                noeuds_fin=tronc_elem_rd_pt_global(2, ligne_base,rd_pt_multi_voie, df_affectation,df_lignes)\n",
    "            else : #alors c'est une erreur\n",
    "                print('erreur nb de rd point significatif, revoir le sectionnement')\n",
    "\n",
    "    #mettre à jour la df créée au départ : \n",
    "    dico_attribut={0:'src_elem', 1:'tgt_elem'}\n",
    "    for i in range(len(noeuds_fin)) : \n",
    "        if i >= 2 : \n",
    "            print(f'erreur sur troncon {num_tronc}, df noeud :  {noeuds_fin}')\n",
    "        group_idtronc.loc[num_tronc, dico_attribut[i]]=noeuds_fin.index.values[i] #mise à jour des valuers de pour le troncon de base\n",
    "        group_idtronc.loc[num_tronc, dico_attribut[i]]=noeuds_fin.index.values[i]\n",
    "    for num_tronc_sup in [x for y in noeuds_fin.idtronc.tolist() for x in y] : #mise à jour des valeusr pour les autres troncons\n",
    "        for i in range(len(noeuds_fin)) :\n",
    "            if group_idtronc.loc[num_tronc_sup][dico_attribut[0]]==-1 : \n",
    "                group_idtronc.loc[num_tronc_sup, dico_attribut[0]]=noeuds_fin.loc[noeuds_fin.apply(lambda x : num_tronc_sup in x['idtronc'],axis=1)].index.values[0]\n",
    "                break\n",
    "            elif group_idtronc.loc[num_tronc_sup][dico_attribut[1]]==-1 :\n",
    "                group_idtronc.loc[num_tronc_sup, dico_attribut[1]]=noeuds_fin.loc[noeuds_fin.apply(lambda x : num_tronc_sup in x['idtronc'],axis=1)].index.values[0]\n",
    "                break\n",
    "            else : \n",
    "                print(f'{num_tronc_sup} deja renseigne' )"
   ]
  },
  {
   "cell_type": "code",
   "execution_count": 82,
   "metadata": {},
   "outputs": [
    {
     "data": {
      "text/html": [
       "<div>\n",
       "<style scoped>\n",
       "    .dataframe tbody tr th:only-of-type {\n",
       "        vertical-align: middle;\n",
       "    }\n",
       "\n",
       "    .dataframe tbody tr th {\n",
       "        vertical-align: top;\n",
       "    }\n",
       "\n",
       "    .dataframe thead th {\n",
       "        text-align: right;\n",
       "    }\n",
       "</style>\n",
       "<table border=\"1\" class=\"dataframe\">\n",
       "  <thead>\n",
       "    <tr style=\"text-align: right;\">\n",
       "      <th></th>\n",
       "      <th>idtronc</th>\n",
       "    </tr>\n",
       "    <tr>\n",
       "      <th>noeud_uniq</th>\n",
       "      <th></th>\n",
       "    </tr>\n",
       "  </thead>\n",
       "  <tbody>\n",
       "    <tr>\n",
       "      <th>72297</th>\n",
       "      <td>(4504, 3713)</td>\n",
       "    </tr>\n",
       "    <tr>\n",
       "      <th>69869</th>\n",
       "      <td>(2741, 3005)</td>\n",
       "    </tr>\n",
       "  </tbody>\n",
       "</table>\n",
       "</div>"
      ],
      "text/plain": [
       "                 idtronc\n",
       "noeud_uniq              \n",
       "72297       (4504, 3713)\n",
       "69869       (2741, 3005)"
      ]
     },
     "execution_count": 82,
     "metadata": {},
     "output_type": "execute_result"
    }
   ],
   "source": [
    "noeuds_fin"
   ]
  },
  {
   "cell_type": "code",
   "execution_count": 47,
   "metadata": {},
   "outputs": [
    {
     "data": {
      "text/plain": [
       "noeud_uniq\n",
       "39594     True\n",
       "52060    False\n",
       "dtype: bool"
      ]
     },
     "execution_count": 47,
     "metadata": {},
     "output_type": "execute_result"
    }
   ],
   "source": [
    "noeuds_fin.apply(lambda x : num_tronc_sup in x['idtronc'],axis=1)"
   ]
  },
  {
   "cell_type": "code",
   "execution_count": 20,
   "metadata": {},
   "outputs": [
    {
     "data": {
      "text/html": [
       "<div>\n",
       "<style scoped>\n",
       "    .dataframe tbody tr th:only-of-type {\n",
       "        vertical-align: middle;\n",
       "    }\n",
       "\n",
       "    .dataframe tbody tr th {\n",
       "        vertical-align: top;\n",
       "    }\n",
       "\n",
       "    .dataframe thead th {\n",
       "        text-align: right;\n",
       "    }\n",
       "</style>\n",
       "<table border=\"1\" class=\"dataframe\">\n",
       "  <thead>\n",
       "    <tr style=\"text-align: right;\">\n",
       "      <th></th>\n",
       "      <th>idtronc</th>\n",
       "      <th>long_te</th>\n",
       "    </tr>\n",
       "    <tr>\n",
       "      <th>noeud_uniq</th>\n",
       "      <th></th>\n",
       "      <th></th>\n",
       "    </tr>\n",
       "  </thead>\n",
       "  <tbody>\n",
       "    <tr>\n",
       "      <th>9466</th>\n",
       "      <td>(938, 1563, 12422)</td>\n",
       "      <td>(445.15375219309715, 1054.161900553276, 431.0587952118286)</td>\n",
       "    </tr>\n",
       "  </tbody>\n",
       "</table>\n",
       "</div>"
      ],
      "text/plain": [
       "                       idtronc  \\\n",
       "noeud_uniq                       \n",
       "9466        (938, 1563, 12422)   \n",
       "\n",
       "                                                               long_te  \n",
       "noeud_uniq                                                              \n",
       "9466        (445.15375219309715, 1054.161900553276, 431.0587952118286)  "
      ]
     },
     "execution_count": 20,
     "metadata": {},
     "output_type": "execute_result"
    }
   ],
   "source": [
    "synthese_croisement.loc[~synthese_croisement.apply(lambda x : len(x['idtronc'])==1 ,axis=1)].copy()"
   ]
  },
  {
   "cell_type": "code",
   "execution_count": 328,
   "metadata": {},
   "outputs": [],
   "source": [
    "#mettre à jour la df créée au départ : \n",
    "group_idtronc.loc[num_tronc, 'src_elem']=noeuds_fin.index.values[0] #mise à jour des valuers de pour le troncon de base\n",
    "group_idtronc.loc[num_tronc, 'tgt_elem']=noeuds_fin.index.values[1]\n",
    "for num_tronc_sup in [x for y in noeuds_fin.idtronc.tolist() for x in y] : #mise à jour des valeusr pour les autres troncons\n",
    "    if group_idtronc.loc[num_tronc_sup].src_elem==-1 : \n",
    "        group_idtronc.loc[num_tronc_sup, 'src_elem']=noeuds_fin.loc[noeuds_fin.apply(lambda x : num_tronc_sup in x['idtronc'],axis=1)].index.values[0]\n",
    "    elif group_idtronc.loc[num_tronc_sup].tgt_elem==-1 :\n",
    "        group_idtronc.loc[num_tronc_sup, 'tgt_elem']=noeuds_fin.loc[noeuds_fin.apply(lambda x : num_tronc_sup in x['idtronc'],axis=1)].index.values[0]\n",
    "    else : \n",
    "        print(f'{num_tronc_sup} deja renseigne' )"
   ]
  },
  {
   "cell_type": "code",
   "execution_count": 200,
   "metadata": {},
   "outputs": [
    {
     "data": {
      "text/plain": [
       "3639"
      ]
     },
     "execution_count": 200,
     "metadata": {},
     "output_type": "execute_result"
    }
   ],
   "source": [
    "df_affectation.idtronc.unique()"
   ]
  },
  {
   "cell_type": "markdown",
   "metadata": {},
   "source": [
    "# SUITE"
   ]
  },
  {
   "cell_type": "code",
   "execution_count": 114,
   "metadata": {},
   "outputs": [],
   "source": [
    "toto=list(at.recup_troncon_elementaire('TRONROUT0000000032862365',df,[]))"
   ]
  },
  {
   "cell_type": "code",
   "execution_count": 115,
   "metadata": {},
   "outputs": [],
   "source": [
    "toto.append('TRONROUT0000000032862365')"
   ]
  },
  {
   "cell_type": "code",
   "execution_count": null,
   "metadata": {},
   "outputs": [],
   "source": [
    "toto"
   ]
  },
  {
   "cell_type": "code",
   "execution_count": 117,
   "metadata": {},
   "outputs": [
    {
     "name": "stderr",
     "output_type": "stream",
     "text": [
      "C:\\Users\\martin.schoreisz\\git\\otv\\otv\\Transfert_Donnees\\agrege_troncon.py:279: SettingWithCopyWarning: \n",
      "A value is trying to be set on a copy of a slice from a DataFrame.\n",
      "Try using .loc[row_indexer,col_indexer] = value instead\n",
      "\n",
      "See the caveats in the documentation: http://pandas.pydata.org/pandas-docs/stable/indexing.html#indexing-view-versus-copy\n",
      "  ligne_filtres['distance']=ligne_filtres.geom.apply(lambda x : gdf_lignes2.centroid.distance(x))\n"
     ]
    },
    {
     "data": {
      "text/plain": [
       "'TRONROUT0000000032876496'"
      ]
     },
     "execution_count": 117,
     "metadata": {},
     "output_type": "execute_result"
    }
   ],
   "source": [
    "at.recup_troncon_parallele_v2(df,toto)"
   ]
  },
  {
   "cell_type": "code",
   "execution_count": null,
   "metadata": {},
   "outputs": [],
   "source": [
    "for i in toto :\n",
    "    tata=at.affecter_troncon_ligne(i,df,df2_chaussees)\n",
    "    print(len(tata))"
   ]
  },
  {
   "cell_type": "code",
   "execution_count": 12,
   "metadata": {
    "collapsed": true,
    "jupyter": {
     "outputs_hidden": true
    }
   },
   "outputs": [
    {
     "name": "stdout",
     "output_type": "stream",
     "text": [
      "0eme occurence : TRONROUT0000000084053027 à 18:23:53 nb ligne traite : 0, nb ligne differente=0\n",
      "indexError ligne  TRONROUT0000000032954220\n",
      "indexError ligne  TRONROUT0000000033016282\n",
      "indexError ligne  TRONROUT0000000249471326\n",
      "indexError ligne  TRONROUT0000000336640149\n",
      "indexError ligne  TRONROUT0000000224966440\n",
      "indexError ligne  TRONROUT0000000032833606\n",
      "indexError ligne  TRONROUT0000000032895598\n",
      "indexError ligne  TRONROUT0000000032991823\n",
      "indexError ligne  TRONROUT0000000223846575\n",
      "indexError ligne  TRONROUT0000000255628539\n",
      "indexError ligne  TRONROUT0000000032895522\n",
      "indexError ligne  TRONROUT0000000032843156\n",
      "indexError ligne  TRONROUT0000000032966066\n",
      "indexError ligne  TRONROUT0000000129676068\n",
      "indexError ligne  TRONROUT0000000032855812\n",
      "indexError ligne  TRONROUT0000000033029153\n",
      "indexError ligne  TRONROUT0000000323460798\n",
      "indexError ligne  TRONROUT0000000032937456\n",
      "indexError ligne  TRONROUT0000000089679809\n",
      "indexError ligne  TRONROUT0000000211249489\n",
      "5000eme occurence : TRONROUT0000000032859682 à 18:48:55 nb ligne traite : 32803, nb ligne differente=32803\n",
      "indexError ligne  TRONROUT0000000033039887\n",
      "indexError ligne  TRONROUT0000000249471289\n",
      "indexError ligne  TRONROUT0000000273289060\n",
      "indexError ligne  TRONROUT0000000089680356\n",
      "indexError ligne  TRONROUT0000000032852004\n",
      "indexError ligne  TRONROUT0000000032966024\n",
      "indexError ligne  TRONROUT0000000032985346\n",
      "indexError ligne  TRONROUT0000000211430256\n",
      "indexError ligne  TRONROUT0000000336641185\n",
      "indexError ligne  TRONROUT0000000032939836\n",
      "indexError ligne  TRONROUT0000000220168691\n",
      "indexError ligne  TRONROUT0000000226901122\n",
      "indexError ligne  TRONROUT0000000318145727\n",
      "indexError ligne  TRONROUT0000000224966445\n",
      "10000eme occurence : TRONROUT0000000032882286 à 19:06:30 nb ligne traite : 49930, nb ligne differente=49930\n",
      "indexError ligne  TRONROUT0000000032910829\n",
      "indexError ligne  TRONROUT0000000228389201\n",
      "indexError ligne  TRONROUT0000000129676347\n",
      "indexError ligne  TRONROUT0000000220761623\n",
      "indexError ligne  TRONROUT0000000098462823\n",
      "indexError ligne  TRONROUT0000000032945581\n",
      "indexError ligne  TRONROUT0000000226901119\n",
      "indexError ligne  TRONROUT0000000032895811\n",
      "indexError ligne  TRONROUT0000000220235164\n",
      "indexError ligne  TRONROUT0000000032970400\n",
      "indexError ligne  TRONROUT0000000032857834\n",
      "indexError ligne  TRONROUT0000000204719248\n",
      "indexError ligne  TRONROUT0000000280784899\n",
      "15000eme occurence : TRONROUT0000000033045774 à 19:19:23 nb ligne traite : 62588, nb ligne differente=62588\n",
      "indexError ligne  TRONROUT0000000032958312\n",
      "indexError ligne  TRONROUT0000000032986807\n",
      "indexError ligne  TRONROUT0000000336160525\n",
      "indexError ligne  TRONROUT0000000302053388\n",
      "indexError ligne  TRONROUT0000000032892920\n",
      "indexError ligne  TRONROUT0000000032898124\n",
      "indexError ligne  TRONROUT0000000032843557\n",
      "indexError ligne  TRONROUT0000000220761624\n",
      "indexError ligne  TRONROUT0000000253959502\n",
      "indexError ligne  TRONROUT0000000033001111\n",
      "indexError ligne  TRONROUT0000000032999540\n",
      "indexError ligne  TRONROUT0000000107259522\n",
      "indexError ligne  TRONROUT0000000247510344\n",
      "20000eme occurence : TRONROUT0000000032934392 à 19:31:23 nb ligne traite : 71807, nb ligne differente=71807\n",
      "indexError ligne  TRONROUT0000000033000676\n",
      "indexError ligne  TRONROUT0000000032966057\n",
      "indexError ligne  TRONROUT0000000032930883\n",
      "indexError ligne  TRONROUT0000000249470976\n",
      "indexError ligne  TRONROUT0000000032928393\n",
      "indexError ligne  TRONROUT0000000112536077\n",
      "indexError ligne  TRONROUT0000000301144126\n",
      "indexError ligne  TRONROUT0000000219979324\n",
      "indexError ligne  TRONROUT0000000229443458\n",
      "25000eme occurence : TRONROUT0000000032828056 à 19:39:47 nb ligne traite : 79076, nb ligne differente=79076\n",
      "indexError ligne  TRONROUT0000000032987038\n",
      "indexError ligne  TRONROUT0000000301134430\n",
      "indexError ligne  TRONROUT0000000032999536\n",
      "30000eme occurence : TRONROUT0000000032835688 à 19:45:03 nb ligne traite : 82867, nb ligne differente=82867\n",
      "indexError ligne  TRONROUT0000000287746996\n",
      "indexError ligne  TRONROUT0000000227870945\n",
      "35000eme occurence : TRONROUT0000000032956199 à 19:50:11 nb ligne traite : 85766, nb ligne differente=85766\n",
      "indexError ligne  TRONROUT0000000039536317\n",
      "indexError ligne  TRONROUT0000000130608456\n",
      "indexError ligne  TRONROUT0000000032986811\n",
      "40000eme occurence : TRONROUT0000000032994014 à 19:57:18 nb ligne traite : 89825, nb ligne differente=89825\n",
      "indexError ligne  TRONROUT0000000032843584\n",
      "indexError ligne  TRONROUT0000000032865362\n",
      "indexError ligne  TRONROUT0000000211249540\n",
      "indexError ligne  TRONROUT0000000032895374\n",
      "45000eme occurence : TRONROUT0000000032872086 à 20:03:31 nb ligne traite : 93504, nb ligne differente=93504\n",
      "indexError ligne  TRONROUT0000000032900009\n",
      "indexError ligne  TRONROUT0000000032843563\n",
      "indexError ligne  TRONROUT0000000032926691\n",
      "50000eme occurence : TRONROUT0000000032949389 à 20:08:40 nb ligne traite : 96414, nb ligne differente=96414\n",
      "indexError ligne  TRONROUT0000000249471036\n",
      "indexError ligne  TRONROUT0000000033000686\n",
      "55000eme occurence : TRONROUT0000000249471201 à 20:12:42 nb ligne traite : 98535, nb ligne differente=98535\n",
      "60000eme occurence : TRONROUT0000000032867879 à 20:14:28 nb ligne traite : 99565, nb ligne differente=99565\n",
      "indexError ligne  TRONROUT0000000201941200\n",
      "65000eme occurence : TRONROUT0000000033044083 à 20:16:43 nb ligne traite : 100550, nb ligne differente=100550\n",
      "70000eme occurence : TRONROUT0000000032827179 à 20:19:38 nb ligne traite : 101852, nb ligne differente=101852\n",
      "75000eme occurence : TRONROUT0000000032866209 à 20:22:17 nb ligne traite : 103062, nb ligne differente=103062\n",
      "indexError ligne  TRONROUT0000000070734678\n",
      "80000eme occurence : TRONROUT0000000032918745 à 20:25:33 nb ligne traite : 104416, nb ligne differente=104416\n",
      "85000eme occurence : TRONROUT0000000032903555 à 20:27:07 nb ligne traite : 105019, nb ligne differente=105019\n",
      "90000eme occurence : TRONROUT0000000033032013 à 20:28:45 nb ligne traite : 105563, nb ligne differente=105563\n",
      "95000eme occurence : TRONROUT0000000032936507 à 20:32:09 nb ligne traite : 106129, nb ligne differente=106129\n",
      "100000eme occurence : TRONROUT0000000302480360 à 20:33:18 nb ligne traite : 106707, nb ligne differente=106707\n",
      "indexError ligne  TRONROUT0000000032985341\n",
      "105000eme occurence : TRONROUT0000000129676453 à 20:34:43 nb ligne traite : 107250, nb ligne differente=107250\n"
     ]
    }
   ],
   "source": [
    "dico=at.affecter_troncon(df,df2_chaussees)"
   ]
  },
  {
   "cell_type": "code",
   "execution_count": 13,
   "metadata": {},
   "outputs": [],
   "source": [
    "with ct.ConnexionBdd('local_otv') as c :\n",
    "    at.inserer_dico(c, dico)"
   ]
  },
  {
   "cell_type": "markdown",
   "metadata": {},
   "source": [
    "POUR TRAITEMENT DES VOIES A 2 CHAUSSES : TROUVER PARRALLELE"
   ]
  },
  {
   "cell_type": "code",
   "execution_count": 87,
   "metadata": {},
   "outputs": [],
   "source": [
    "#liste des troncons (parametre entrant)\n",
    "liste_troncon=toto"
   ]
  },
  {
   "cell_type": "code",
   "execution_count": 88,
   "metadata": {},
   "outputs": [],
   "source": [
    "#conversion en geodf\n",
    "gdf_lignes=gp.GeoDataFrame(df.loc[liste_troncon], geometry='geom')\n",
    "gdf_lignes.to_file(r'D:\\temp\\otv\\17\\2_chaussees\\lignes_a_gouper.shp')"
   ]
  },
  {
   "cell_type": "code",
   "execution_count": 89,
   "metadata": {},
   "outputs": [],
   "source": [
    "#union des geometries\n",
    "gdf_lignes2=linemerge(gdf_lignes.unary_union)"
   ]
  },
  {
   "cell_type": "code",
   "execution_count": null,
   "metadata": {},
   "outputs": [],
   "source": [
    "gdf_lignes2.wkt"
   ]
  },
  {
   "cell_type": "code",
   "execution_count": 90,
   "metadata": {},
   "outputs": [],
   "source": [
    "#centroid de la ligne\n",
    "xmin,ymin,xmax,ymax=gdf_lignes2.interpolate(0.5, normalized=True).buffer(50).bounds\n",
    "point=gdf_lignes2.interpolate(0.5, normalized=True)"
   ]
  },
  {
   "cell_type": "code",
   "execution_count": 91,
   "metadata": {},
   "outputs": [
    {
     "data": {
      "text/plain": [
       "'POINT (385035.1182861876 6561685.156661048)'"
      ]
     },
     "execution_count": 91,
     "metadata": {},
     "output_type": "execute_result"
    }
   ],
   "source": [
    "point.wkt"
   ]
  },
  {
   "cell_type": "code",
   "execution_count": 92,
   "metadata": {},
   "outputs": [],
   "source": [
    "#recherche des lignes proches du centroid\n",
    "lignes_possibles=df.cx[xmin:xmax,ymin:ymax]\n",
    "lignes_possibles.to_file(r'D:\\temp\\otv\\17\\2_chaussees\\lignes_possibles.shp')"
   ]
  },
  {
   "cell_type": "code",
   "execution_count": null,
   "metadata": {},
   "outputs": [],
   "source": [
    "lignes_possibles"
   ]
  },
  {
   "cell_type": "code",
   "execution_count": 94,
   "metadata": {},
   "outputs": [],
   "source": [
    "#uniquement les lignes non présentes dans la liste de troncons avec le même nom de voie\n",
    "ligne_filtres=lignes_possibles.loc[(~lignes_possibles.index.isin(liste_troncon)) & (lignes_possibles['numero']==gdf_lignes.iloc[0]['numero'])]"
   ]
  },
  {
   "cell_type": "code",
   "execution_count": 95,
   "metadata": {},
   "outputs": [
    {
     "name": "stderr",
     "output_type": "stream",
     "text": [
      "c:\\users\\martin.schoreisz\\appdata\\local\\programs\\python\\python37\\lib\\site-packages\\ipykernel_launcher.py:2: SettingWithCopyWarning: \n",
      "A value is trying to be set on a copy of a slice from a DataFrame.\n",
      "Try using .loc[row_indexer,col_indexer] = value instead\n",
      "\n",
      "See the caveats in the documentation: http://pandas.pydata.org/pandas-docs/stable/indexing.html#indexing-view-versus-copy\n",
      "  \n"
     ]
    }
   ],
   "source": [
    "#obtenir les distances au centroid\n",
    "ligne_filtres['distance']=ligne_filtres.geom.apply(lambda x : gdf_lignes2.centroid.distance(x))"
   ]
  },
  {
   "cell_type": "code",
   "execution_count": 96,
   "metadata": {},
   "outputs": [
    {
     "data": {
      "text/plain": [
       "'TRONROUT0000000129676313'"
      ]
     },
     "execution_count": 96,
     "metadata": {},
     "output_type": "execute_result"
    }
   ],
   "source": [
    "#garder uniquement la valeur la plus proche du centroid\n",
    "ligne_proche=ligne_filtres.loc[ligne_filtres['distance']==ligne_filtres['distance'].min()].index.tolist()[0]\n",
    "ligne_proche"
   ]
  },
  {
   "cell_type": "markdown",
   "metadata": {},
   "source": [
    "POUR TRAITEMENT DES ROND POINTS"
   ]
  },
  {
   "cell_type": "code",
   "execution_count": 4,
   "metadata": {},
   "outputs": [],
   "source": [
    "#polygoniser les lignes\n",
    "#creer la gdf\n",
    "df.crs={'init':'epsg:2154'}"
   ]
  },
  {
   "cell_type": "code",
   "execution_count": 15,
   "metadata": {},
   "outputs": [],
   "source": [
    "#creer la lsite des rd points selon le critere atmo aura ; creer une gdf avec la liste\n",
    "liste_rd_points=[t.buffer(0.1) for t in polygonize(df.geometry) if 12<=((t.length**2)/t.area)<=14] # car un cercle à un rappor de ce type entre 12 et 13\n",
    "dico_rd_pt=[[i, ((t.length**2)/t.area)] for i,t in enumerate(polygonize(df.geometry)) if 12<=((t.length**2)/t.area)<=14]\n",
    "gdf_rd_point=gp.GeoDataFrame(dico_rd_pt, geometry=liste_rd_points)\n",
    "gdf_rd_point.crs={'init':'epsg:2154'}\n",
    "gdf_rd_point.columns=['id_rdpt', 'facteur','geometry']\n",
    "#on créer aussi la meme donnees avec un buffer interiuer, pour ne garder que les lignes dans le buffer exteriuer et hors buffer interieur (cas de rond point enjmabeant uine 2*2 et prenant la 2*2 voie qui est dans le polygone\n",
    "liste_rd_points_int=[t.buffer(-0.1) for t in polygonize(df.geometry) if 12<=((t.length**2)/t.area)<=14]\n",
    "dico_rd_pt_int=[[i, ((t.length**2)/t.area)] for i,t in enumerate(polygonize(df.geometry)) if 12<=((t.length**2)/t.area)<=14]\n",
    "gdf_rd_point_int=gp.GeoDataFrame(dico_rd_pt_int, geometry=liste_rd_points_int)\n",
    "gdf_rd_point_int.crs={'init':'epsg:2154'}\n",
    "gdf_rd_point_int.columns=['id_rdpt', 'facteur','geometry']"
   ]
  },
  {
   "cell_type": "code",
   "execution_count": 63,
   "metadata": {},
   "outputs": [],
   "source": [
    "#jointure spataile pour une gdf avec uniquement les lignes des rd_points avec le numéro\n",
    "l_dans_p=gp.sjoin(df,gdf_rd_point,op='within') "
   ]
  },
  {
   "cell_type": "code",
   "execution_count": 64,
   "metadata": {},
   "outputs": [],
   "source": [
    "#suprimer les doublons\n",
    "l_dans_p_ss_doublon=l_dans_p.reset_index().rename(columns={'index':'id_ign'}).drop_duplicates('id_ign').set_index('id_ign')"
   ]
  },
  {
   "cell_type": "code",
   "execution_count": 66,
   "metadata": {},
   "outputs": [],
   "source": [
    "l_dans_p_int=gp.sjoin(df,gdf_rd_point_int,op='within')"
   ]
  },
  {
   "cell_type": "code",
   "execution_count": 67,
   "metadata": {},
   "outputs": [],
   "source": [
    "l_dans_p_final=l_dans_p_ss_doublon.loc[~l_dans_p_ss_doublon.index.isin(l_dans_p_int.index.tolist())]"
   ]
  },
  {
   "cell_type": "code",
   "execution_count": 68,
   "metadata": {},
   "outputs": [],
   "source": [
    "#lignes qui touchent rd points\n",
    "#1.ligne qui intersectent avec id_rdpt\n",
    "l_intersct_rdpt=gp.sjoin(df,l_dans_p_final.drop('index_right', axis=1), how='inner',op='intersects')"
   ]
  },
  {
   "cell_type": "code",
   "execution_count": 69,
   "metadata": {},
   "outputs": [],
   "source": [
    "#2.filtre de celle contenue dans le rd points \n",
    "l_intersct_rdpt=l_intersct_rdpt.loc[~l_intersct_rdpt.index.isin(l_dans_p_final.index.tolist())][['id_rdpt','numero_left','codevoie_d_left']]"
   ]
  },
  {
   "cell_type": "code",
   "execution_count": 70,
   "metadata": {},
   "outputs": [],
   "source": [
    "#trouver le nb de voies qui intersectent chaque rd point et leur noms. renomer les colonnes\n",
    "carac_rd_pt=(pd.concat([l_intersct_rdpt.groupby('id_rdpt').numero_left.nunique(),\n",
    "    l_intersct_rdpt.groupby('id_rdpt')['numero_left'].apply(lambda x: ','.join(set(x))),\n",
    "    l_intersct_rdpt.groupby('id_rdpt')['codevoie_d_left'].apply(lambda x: ','.join(set(x)))], axis=1))\n",
    "carac_rd_pt.columns=['nb_rte_rdpt', 'nom_rte_rdpt','codevoie_rdpt']"
   ]
  },
  {
   "cell_type": "code",
   "execution_count": null,
   "metadata": {},
   "outputs": [],
   "source": [
    "l_dans_p_final"
   ]
  },
  {
   "cell_type": "code",
   "execution_count": 297,
   "metadata": {},
   "outputs": [],
   "source": [
    "#ajouter l'id_rdpt aux données\n",
    "gdf_l_rd_point=pd.concat([df.drop('id_rdpt',axis=1),l_dans_p_final.loc[:,'id_rdpt']],axis=1, sort=False)"
   ]
  },
  {
   "cell_type": "code",
   "execution_count": 298,
   "metadata": {},
   "outputs": [],
   "source": [
    "#mettre à jour la nature\n",
    "gdf_l_rd_point['nature']=gdf_l_rd_point.apply(lambda x : 'Rd_pt' if x.id_rdpt>=0 else x['nature'], axis=1)"
   ]
  },
  {
   "cell_type": "code",
   "execution_count": 299,
   "metadata": {},
   "outputs": [],
   "source": [
    "#ajouter les infos du rd point (nb voies différentes et nom)\n",
    "gdf_avec_rd_pt=gdf_l_rd_point.merge(carac_rd_pt, how='left',left_on='id_rdpt', right_index=True)"
   ]
  },
  {
   "cell_type": "code",
   "execution_count": 320,
   "metadata": {},
   "outputs": [],
   "source": [
    "def assigne_rdpt(id_rdpt,numero, liste_num, codevoie, liste_code) : \n",
    "    if id_rdpt >=0 :\n",
    "        if (numero in liste_num) or (codevoie in liste_code) :\n",
    "            return True\n",
    "        else : \n",
    "            return False"
   ]
  },
  {
   "cell_type": "code",
   "execution_count": 321,
   "metadata": {},
   "outputs": [],
   "source": [
    "gdf_avec_rd_pt['assigne_rdpt']=gdf_avec_rd_pt.apply(lambda x : assigne_rdpt(x['id_rdpt'],x['numero'], x['nom_rte_rdpt_y'], x['codevoie_d'],x['codevoie_rdpt']),axis=1)"
   ]
  },
  {
   "cell_type": "code",
   "execution_count": null,
   "metadata": {},
   "outputs": [],
   "source": [
    "#gdf_avec_rd_pt.loc[gdf_avec_rd_pt.loc[:,'id_rdpt']==l_dans_p['id_rdpt']]\n",
    "gdf_avec_rd_pt['id_rdpt']==l_dans_p['id_rdpt'].astype('float64')\n",
    "#l_dans_p.loc[l_dans_p.loc[:,'id_rdpt']].sort_index().sort_index(axis=1)])"
   ]
  },
  {
   "cell_type": "code",
   "execution_count": null,
   "metadata": {},
   "outputs": [],
   "source": [
    "#pour export et verif uniquement\n",
    "\n",
    "#gdf_l_rd_point.to_file(r'D:\\temp\\otv\\17\\test_rd_point\\test2.shp')\n",
    "#gdf_rd_point.to_file(r'D:\\temp\\otv\\17\\test_rd_point\\test1.shp')\n",
    "#l_intersct_rdpt.to_file(r'E:\\Boulot\\otv\\test_linearisation_auto\\test3.shp')\n",
    "df.to_file(r'E:\\Boulot\\otv\\test_linearisation_auto\\test7.shp')\n",
    "#df.to_file(r'D:\\temp\\otv\\17\\test_rd_point\\test5.shp')"
   ]
  },
  {
   "cell_type": "code",
   "execution_count": 91,
   "metadata": {},
   "outputs": [
    {
     "data": {
      "text/plain": [
       "'b,c,a'"
      ]
     },
     "execution_count": 91,
     "metadata": {},
     "output_type": "execute_result"
    }
   ],
   "source": [
    "','.join(set(['a','a','b','c']))"
   ]
  },
  {
   "cell_type": "code",
   "execution_count": 228,
   "metadata": {},
   "outputs": [],
   "source": [
    "id_ign_ligne='TRONROUT0000000342862858'\n",
    "df_ligne = df.loc[id_ign_ligne]\n",
    "ligne_traite_troncon=[]\n",
    "ligne_traite_troncon.append(id_ign_ligne)\n",
    "liste_ligne_suivantes=[] \n",
    "liste_ligne_touchees=[]"
   ]
  },
  {
   "cell_type": "code",
   "execution_count": null,
   "metadata": {},
   "outputs": [],
   "source": [
    "for key, value in {'nb_intrsct_src':['source', 'src_geom'],'nb_intrsct_tgt':['target', 'tgt_geom']}.items() :\n",
    "    df_touches_source = df.loc[(~df.index.isin(ligne_traite_troncon)) & ((df['source'] == df_ligne[value[0]]) | (df['target'] == df_ligne[value[0]]))]\n",
    "    df_rd_pt=df.loc[df['id_rdpt']==df_touches_source.iloc[0]['id_rdpt']]\n",
    "    l_df_rd_pt=df.loc[df.index.isin(gp.sjoin(df,df_rd_pt, how='inner',op='intersects').index.unique().tolist())]\n",
    "    l_df_rd_pt2=l_df_rd_pt.loc[~l_df_rd_pt.index.isin(df_rd_pt.index.tolist())].index.unique().tolist()\n",
    "    l_df_rd_pt3=df.loc[df.index.isin(l_df_rd_pt2),'codevoie_d'].unique().tolist()\n",
    "    print(l_df_rd_pt3)\n",
    "    #liste_ligne_touchees+=df_touches_source.index.tolist()"
   ]
  },
  {
   "cell_type": "code",
   "execution_count": 233,
   "metadata": {},
   "outputs": [
    {
     "data": {
      "text/plain": [
       "[nan]"
      ]
     },
     "execution_count": 233,
     "metadata": {},
     "output_type": "execute_result"
    }
   ],
   "source": [
    "df_touches_source['id_rdpt'].values.tolist()"
   ]
  },
  {
   "cell_type": "markdown",
   "metadata": {},
   "source": [
    "# TEST"
   ]
  },
  {
   "cell_type": "code",
   "execution_count": 138,
   "metadata": {},
   "outputs": [
    {
     "ename": "AttributeError",
     "evalue": "module 'numpy' has no attribute 'aray'",
     "output_type": "error",
     "traceback": [
      "\u001b[1;31m---------------------------------------------------------------------------\u001b[0m",
      "\u001b[1;31mAttributeError\u001b[0m                            Traceback (most recent call last)",
      "\u001b[1;32m<timed exec>\u001b[0m in \u001b[0;36m<module>\u001b[1;34m\u001b[0m\n",
      "\u001b[1;31mAttributeError\u001b[0m: module 'numpy' has no attribute 'aray'"
     ]
    }
   ],
   "source": [
    "%%time\n",
    "a=np.array([i for i in range(100000)])\n",
    "c=[]\n",
    "for i,b in enumerate(a) :\n",
    "    if b not in a :\n",
    "        continue\n",
    "    c=[b,b+1]\n",
    "    a=a[np.isin(a,c, invert=True)]\n",
    "    if i%50000==0 : print(i)"
   ]
  },
  {
   "cell_type": "code",
   "execution_count": 137,
   "metadata": {},
   "outputs": [
    {
     "name": "stdout",
     "output_type": "stream",
     "text": [
      "0\n",
      "50000\n",
      "Wall time: 5min 14s\n"
     ]
    }
   ],
   "source": [
    "%%time\n",
    "a=[i for i in range(100000)]\n",
    "c=[]\n",
    "for i,b in enumerate(a) :\n",
    "    if b not in a :\n",
    "        continue\n",
    "    c=[b,b+1]\n",
    "    a=[x for x in a if x not in c]\n",
    "    if i%50000==0 : print(i)"
   ]
  },
  {
   "cell_type": "code",
   "execution_count": 420,
   "metadata": {},
   "outputs": [
    {
     "data": {
      "text/plain": [
       "False"
      ]
     },
     "execution_count": 420,
     "metadata": {},
     "output_type": "execute_result"
    }
   ],
   "source": [
    "lignes_traitees=np.array([],dtype='<U24')\n",
    "'1' in lignes_traitees"
   ]
  },
  {
   "cell_type": "code",
   "execution_count": 416,
   "metadata": {},
   "outputs": [
    {
     "data": {
      "text/plain": [
       "dtype('<U24')"
      ]
     },
     "execution_count": 416,
     "metadata": {},
     "output_type": "execute_result"
    }
   ],
   "source": [
    "lignes_traitees.dtype"
   ]
  },
  {
   "cell_type": "code",
   "execution_count": null,
   "metadata": {},
   "outputs": [],
   "source": []
  }
 ],
 "metadata": {
  "kernelspec": {
   "display_name": "Python 3",
   "language": "python",
   "name": "python3"
  },
  "language_info": {
   "codemirror_mode": {
    "name": "ipython",
    "version": 3
   },
   "file_extension": ".py",
   "mimetype": "text/x-python",
   "name": "python",
   "nbconvert_exporter": "python",
   "pygments_lexer": "ipython3",
   "version": "3.7.0"
  }
 },
 "nbformat": 4,
 "nbformat_minor": 4
}
