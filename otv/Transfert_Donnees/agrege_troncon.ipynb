{
 "cells": [
  {
   "cell_type": "code",
   "execution_count": 2,
   "metadata": {},
   "outputs": [
    {
     "name": "stdout",
     "output_type": "stream",
     "text": [
      "The autoreload extension is already loaded. To reload it, use:\n",
      "  %reload_ext autoreload\n"
     ]
    }
   ],
   "source": [
    "%load_ext autoreload\n",
    "%autoreload 2\n",
    "import sys #c'est pas propre mais pour le moment pour importer mes modules perso dans le notebook je ne sais pas faire\n",
    "sys.path.append(r'C:\\Users\\martin\\git\\Outils\\Outils\\Martin_Perso')\n",
    "sys.path.append(r'C:\\Users\\martin\\git\\otv\\otv\\Transfert_Donnees')\n",
    "import agrege_troncon as at\n",
    "import Connexion_Transfert as ct\n",
    "import matplotlib, os, fiona\n",
    "import geopandas as gp\n",
    "import pandas as pd\n",
    "import numpy as np\n",
    "from datetime import datetime\n",
    "import Connexion_Transfert as ct\n",
    "from shapely.wkt import loads\n",
    "from shapely.ops import nearest_points, polygonize\n",
    "import Outils"
   ]
  },
  {
   "cell_type": "code",
   "execution_count": 32,
   "metadata": {},
   "outputs": [],
   "source": [
    "#importer les odnnées de  base\n",
    "with ct.ConnexionBdd('local_otv') as c : \n",
    "    df = gp.read_postgis(\"select t.*, v1.cnt nb_intrsct_src, st_astext(v1.geom) as src_geom, v2.cnt as nb_intrsct_tgt, st_astext(v2.geom) as tgt_geom from public.test_agreg_lineaire t left join public.test_agreg_lineaire_vertices_pgr v1 on t.\\\"source\\\"=v1.id left join public.test_agreg_lineaire_vertices_pgr v2  on t.target=v2.id\", c.connexionPsy)\n",
    "nature_2_chaussees=['Route à 2 chaussées','Quasi-autoroute','Autoroute']\n",
    "#donnees generale du jdd\n",
    "df.set_index('id_ign', inplace=True)  # passer l'id_ign commme index ; necessaire sinon pb avec geometrie vu comme texte\n",
    "df2_chaussees=df.loc[df.loc[:,'nature'].isin(nature_2_chaussees)] #isoler les troncon de voies decrits par 2 lignes"
   ]
  },
  {
   "cell_type": "code",
   "execution_count": 33,
   "metadata": {},
   "outputs": [],
   "source": [
    "df_rdpt=at.identifier_rd_pt(df)"
   ]
  },
  {
   "cell_type": "code",
   "execution_count": 38,
   "metadata": {},
   "outputs": [
    {
     "data": {
      "text/html": [
       "<div>\n",
       "<style scoped>\n",
       "    .dataframe tbody tr th:only-of-type {\n",
       "        vertical-align: middle;\n",
       "    }\n",
       "\n",
       "    .dataframe tbody tr th {\n",
       "        vertical-align: top;\n",
       "    }\n",
       "\n",
       "    .dataframe thead th {\n",
       "        text-align: right;\n",
       "    }\n",
       "</style>\n",
       "<table border=\"1\" class=\"dataframe\">\n",
       "  <thead>\n",
       "    <tr style=\"text-align: right;\">\n",
       "      <th></th>\n",
       "      <th>gid</th>\n",
       "      <th>id</th>\n",
       "      <th>prec_plani</th>\n",
       "      <th>prec_alti</th>\n",
       "      <th>nature</th>\n",
       "      <th>numero</th>\n",
       "      <th>nom_voie_g</th>\n",
       "      <th>nom_voie_d</th>\n",
       "      <th>importance</th>\n",
       "      <th>cl_admin</th>\n",
       "      <th>...</th>\n",
       "      <th>np_ref</th>\n",
       "      <th>id_tronc_e</th>\n",
       "      <th>geom</th>\n",
       "      <th>nb_intrsct_src</th>\n",
       "      <th>src_geom</th>\n",
       "      <th>nb_intrsct_tgt</th>\n",
       "      <th>tgt_geom</th>\n",
       "      <th>id_rdpt</th>\n",
       "      <th>nb_rte_rdpt</th>\n",
       "      <th>nom_rte_rdpt</th>\n",
       "    </tr>\n",
       "  </thead>\n",
       "  <tbody>\n",
       "    <tr>\n",
       "      <th>TRONROUT0000000129676367</th>\n",
       "      <td>100</td>\n",
       "      <td>45963</td>\n",
       "      <td>2.5</td>\n",
       "      <td>2.5</td>\n",
       "      <td>Quasi-autoroute</td>\n",
       "      <td>N137</td>\n",
       "      <td>None</td>\n",
       "      <td>None</td>\n",
       "      <td>1</td>\n",
       "      <td>Nationale</td>\n",
       "      <td>...</td>\n",
       "      <td>None</td>\n",
       "      <td>3119</td>\n",
       "      <td>(LINESTRING (383234.8999999997 6568234.1999999...</td>\n",
       "      <td>2</td>\n",
       "      <td>POINT(383234.9 6568234.19999999)</td>\n",
       "      <td>2</td>\n",
       "      <td>POINT(383302.7 6568058.59999999)</td>\n",
       "      <td>NaN</td>\n",
       "      <td>NaN</td>\n",
       "      <td>NaN</td>\n",
       "    </tr>\n",
       "    <tr>\n",
       "      <th>TRONROUT0000000039535349</th>\n",
       "      <td>8</td>\n",
       "      <td>39694</td>\n",
       "      <td>2.5</td>\n",
       "      <td>2.5</td>\n",
       "      <td>Rd_pt</td>\n",
       "      <td>N537</td>\n",
       "      <td>None</td>\n",
       "      <td>None</td>\n",
       "      <td>3</td>\n",
       "      <td>Nationale</td>\n",
       "      <td>...</td>\n",
       "      <td>None</td>\n",
       "      <td>60</td>\n",
       "      <td>(LINESTRING (375627.4999999997 6570910.6999999...</td>\n",
       "      <td>2</td>\n",
       "      <td>POINT(375627.5 6570910.69999999)</td>\n",
       "      <td>3</td>\n",
       "      <td>POINT(375650.2 6570909.49999999)</td>\n",
       "      <td>0.0</td>\n",
       "      <td>1.0</td>\n",
       "      <td>N537</td>\n",
       "    </tr>\n",
       "    <tr>\n",
       "      <th>TRONROUT0000000032830745</th>\n",
       "      <td>9</td>\n",
       "      <td>125892</td>\n",
       "      <td>10.0</td>\n",
       "      <td>2.5</td>\n",
       "      <td>Quasi-autoroute</td>\n",
       "      <td>N11</td>\n",
       "      <td>None</td>\n",
       "      <td>None</td>\n",
       "      <td>1</td>\n",
       "      <td>Nationale</td>\n",
       "      <td>...</td>\n",
       "      <td>None</td>\n",
       "      <td>962</td>\n",
       "      <td>(LINESTRING (397622.8999999997 6577285.7999999...</td>\n",
       "      <td>2</td>\n",
       "      <td>POINT(397622.9 6577285.79999999)</td>\n",
       "      <td>2</td>\n",
       "      <td>POINT(397359.5 6577388.09999999)</td>\n",
       "      <td>NaN</td>\n",
       "      <td>NaN</td>\n",
       "      <td>NaN</td>\n",
       "    </tr>\n",
       "    <tr>\n",
       "      <th>TRONROUT0000000032830722</th>\n",
       "      <td>10</td>\n",
       "      <td>125871</td>\n",
       "      <td>10.0</td>\n",
       "      <td>2.5</td>\n",
       "      <td>Quasi-autoroute</td>\n",
       "      <td>N11</td>\n",
       "      <td>None</td>\n",
       "      <td>None</td>\n",
       "      <td>1</td>\n",
       "      <td>Nationale</td>\n",
       "      <td>...</td>\n",
       "      <td>None</td>\n",
       "      <td>962</td>\n",
       "      <td>(LINESTRING (397720.6999999997 6577238.5999999...</td>\n",
       "      <td>2</td>\n",
       "      <td>POINT(397720.7 6577238.59999999)</td>\n",
       "      <td>2</td>\n",
       "      <td>POINT(397622.9 6577285.79999999)</td>\n",
       "      <td>NaN</td>\n",
       "      <td>NaN</td>\n",
       "      <td>NaN</td>\n",
       "    </tr>\n",
       "    <tr>\n",
       "      <th>TRONROUT0000000129676495</th>\n",
       "      <td>557</td>\n",
       "      <td>46090</td>\n",
       "      <td>10.0</td>\n",
       "      <td>2.5</td>\n",
       "      <td>Quasi-autoroute</td>\n",
       "      <td>N11</td>\n",
       "      <td>None</td>\n",
       "      <td>None</td>\n",
       "      <td>1</td>\n",
       "      <td>Nationale</td>\n",
       "      <td>...</td>\n",
       "      <td>None</td>\n",
       "      <td>3558</td>\n",
       "      <td>(LINESTRING (382347.8999999997 6571899.9999999...</td>\n",
       "      <td>4</td>\n",
       "      <td>POINT(382347.9 6571899.99999999)</td>\n",
       "      <td>3</td>\n",
       "      <td>POINT(382468.5 6571945.39999999)</td>\n",
       "      <td>NaN</td>\n",
       "      <td>NaN</td>\n",
       "      <td>NaN</td>\n",
       "    </tr>\n",
       "    <tr>\n",
       "      <th>TRONROUT0000000032830721</th>\n",
       "      <td>11</td>\n",
       "      <td>125870</td>\n",
       "      <td>10.0</td>\n",
       "      <td>2.5</td>\n",
       "      <td>Quasi-autoroute</td>\n",
       "      <td>N11</td>\n",
       "      <td>None</td>\n",
       "      <td>None</td>\n",
       "      <td>1</td>\n",
       "      <td>Nationale</td>\n",
       "      <td>...</td>\n",
       "      <td>None</td>\n",
       "      <td>962</td>\n",
       "      <td>(LINESTRING (397720.6999999997 6577238.5999999...</td>\n",
       "      <td>2</td>\n",
       "      <td>POINT(397720.7 6577238.59999999)</td>\n",
       "      <td>2</td>\n",
       "      <td>POINT(397752.9 6577223.09999999)</td>\n",
       "      <td>NaN</td>\n",
       "      <td>NaN</td>\n",
       "      <td>NaN</td>\n",
       "    </tr>\n",
       "    <tr>\n",
       "      <th>TRONROUT0000000129704339</th>\n",
       "      <td>615</td>\n",
       "      <td>46354</td>\n",
       "      <td>2.5</td>\n",
       "      <td>2.5</td>\n",
       "      <td>Route à 1 chaussée</td>\n",
       "      <td>D105</td>\n",
       "      <td>None</td>\n",
       "      <td>None</td>\n",
       "      <td>3</td>\n",
       "      <td>Départementale</td>\n",
       "      <td>...</td>\n",
       "      <td>None</td>\n",
       "      <td>4</td>\n",
       "      <td>(LINESTRING (390249.8999999997 6585946.0999999...</td>\n",
       "      <td>2</td>\n",
       "      <td>POINT(390249.9 6585946.09999999)</td>\n",
       "      <td>2</td>\n",
       "      <td>POINT(390342.6 6585938.79999999)</td>\n",
       "      <td>NaN</td>\n",
       "      <td>NaN</td>\n",
       "      <td>NaN</td>\n",
       "    </tr>\n",
       "    <tr>\n",
       "      <th>TRONROUT0000000032826062</th>\n",
       "      <td>703</td>\n",
       "      <td>122176</td>\n",
       "      <td>2.5</td>\n",
       "      <td>2.5</td>\n",
       "      <td>Route à 1 chaussée</td>\n",
       "      <td>D116</td>\n",
       "      <td>None</td>\n",
       "      <td>None</td>\n",
       "      <td>3</td>\n",
       "      <td>Départementale</td>\n",
       "      <td>...</td>\n",
       "      <td>None</td>\n",
       "      <td>684</td>\n",
       "      <td>(LINESTRING (406730.2999999997 6582333.9999999...</td>\n",
       "      <td>2</td>\n",
       "      <td>POINT(406730.3 6582333.99999999)</td>\n",
       "      <td>2</td>\n",
       "      <td>POINT(406670.1 6582504.79999999)</td>\n",
       "      <td>NaN</td>\n",
       "      <td>NaN</td>\n",
       "      <td>NaN</td>\n",
       "    </tr>\n",
       "    <tr>\n",
       "      <th>TRONROUT0000000129830538</th>\n",
       "      <td>770</td>\n",
       "      <td>46504</td>\n",
       "      <td>5.0</td>\n",
       "      <td>2.5</td>\n",
       "      <td>Route à 2 chaussées</td>\n",
       "      <td>D115</td>\n",
       "      <td>None</td>\n",
       "      <td>None</td>\n",
       "      <td>3</td>\n",
       "      <td>Départementale</td>\n",
       "      <td>...</td>\n",
       "      <td>None</td>\n",
       "      <td>8</td>\n",
       "      <td>(LINESTRING (401056.0999999996 6577431.0999999...</td>\n",
       "      <td>3</td>\n",
       "      <td>POINT(401056.1 6577431.09999999)</td>\n",
       "      <td>2</td>\n",
       "      <td>POINT(401072.5 6577362.09999999)</td>\n",
       "      <td>NaN</td>\n",
       "      <td>NaN</td>\n",
       "      <td>NaN</td>\n",
       "    </tr>\n",
       "    <tr>\n",
       "      <th>TRONROUT0000000032861713</th>\n",
       "      <td>832</td>\n",
       "      <td>150402</td>\n",
       "      <td>2.5</td>\n",
       "      <td>2.5</td>\n",
       "      <td>Route à 1 chaussée</td>\n",
       "      <td>D911</td>\n",
       "      <td>None</td>\n",
       "      <td>None</td>\n",
       "      <td>2</td>\n",
       "      <td>Départementale</td>\n",
       "      <td>...</td>\n",
       "      <td>None</td>\n",
       "      <td>48</td>\n",
       "      <td>(LINESTRING (412267.3999999997 6566203.6999999...</td>\n",
       "      <td>2</td>\n",
       "      <td>POINT(412267.4 6566203.69999999)</td>\n",
       "      <td>2</td>\n",
       "      <td>POINT(412296.7 6566249.19999999)</td>\n",
       "      <td>NaN</td>\n",
       "      <td>NaN</td>\n",
       "      <td>NaN</td>\n",
       "    </tr>\n",
       "    <tr>\n",
       "      <th>TRONROUT0000000032831771</th>\n",
       "      <td>818</td>\n",
       "      <td>126739</td>\n",
       "      <td>10.0</td>\n",
       "      <td>2.5</td>\n",
       "      <td>Quasi-autoroute</td>\n",
       "      <td>N11</td>\n",
       "      <td>None</td>\n",
       "      <td>None</td>\n",
       "      <td>1</td>\n",
       "      <td>Nationale</td>\n",
       "      <td>...</td>\n",
       "      <td>None</td>\n",
       "      <td>865</td>\n",
       "      <td>(LINESTRING (401294.3999999997 6576988.0999999...</td>\n",
       "      <td>3</td>\n",
       "      <td>POINT(401294.4 6576988.09999999)</td>\n",
       "      <td>2</td>\n",
       "      <td>POINT(401839.7 6576859.39999999)</td>\n",
       "      <td>NaN</td>\n",
       "      <td>NaN</td>\n",
       "      <td>NaN</td>\n",
       "    </tr>\n",
       "    <tr>\n",
       "      <th>TRONROUT0000000032867128</th>\n",
       "      <td>851</td>\n",
       "      <td>153853</td>\n",
       "      <td>1.5</td>\n",
       "      <td>1.0</td>\n",
       "      <td>Route à 2 chaussées</td>\n",
       "      <td>D5</td>\n",
       "      <td>None</td>\n",
       "      <td>None</td>\n",
       "      <td>3</td>\n",
       "      <td>Départementale</td>\n",
       "      <td>...</td>\n",
       "      <td>None</td>\n",
       "      <td>7</td>\n",
       "      <td>(LINESTRING (395663.7999999996 6563284.0999999...</td>\n",
       "      <td>2</td>\n",
       "      <td>POINT(395663.8 6563284.09999999)</td>\n",
       "      <td>1</td>\n",
       "      <td>POINT(395663.8 6563272.79999999)</td>\n",
       "      <td>NaN</td>\n",
       "      <td>NaN</td>\n",
       "      <td>NaN</td>\n",
       "    </tr>\n",
       "    <tr>\n",
       "      <th>TRONROUT0000000032828762</th>\n",
       "      <td>922</td>\n",
       "      <td>124391</td>\n",
       "      <td>2.5</td>\n",
       "      <td>2.5</td>\n",
       "      <td>Route à 1 chaussée</td>\n",
       "      <td>D115</td>\n",
       "      <td>None</td>\n",
       "      <td>None</td>\n",
       "      <td>3</td>\n",
       "      <td>Départementale</td>\n",
       "      <td>...</td>\n",
       "      <td>None</td>\n",
       "      <td>8</td>\n",
       "      <td>(LINESTRING (401086.5999999997 6579470.9999999...</td>\n",
       "      <td>2</td>\n",
       "      <td>POINT(401086.6 6579470.99999999)</td>\n",
       "      <td>2</td>\n",
       "      <td>POINT(401090.9 6579612.29999999)</td>\n",
       "      <td>NaN</td>\n",
       "      <td>NaN</td>\n",
       "      <td>NaN</td>\n",
       "    </tr>\n",
       "    <tr>\n",
       "      <th>TRONROUT0000000032831888</th>\n",
       "      <td>12</td>\n",
       "      <td>126831</td>\n",
       "      <td>10.0</td>\n",
       "      <td>2.5</td>\n",
       "      <td>Quasi-autoroute</td>\n",
       "      <td>N11</td>\n",
       "      <td>None</td>\n",
       "      <td>None</td>\n",
       "      <td>1</td>\n",
       "      <td>Nationale</td>\n",
       "      <td>...</td>\n",
       "      <td>None</td>\n",
       "      <td>962</td>\n",
       "      <td>(LINESTRING (399928.4999999997 6577039.3999999...</td>\n",
       "      <td>2</td>\n",
       "      <td>POINT(399928.5 6577039.39999999)</td>\n",
       "      <td>2</td>\n",
       "      <td>POINT(397752.9 6577223.09999999)</td>\n",
       "      <td>NaN</td>\n",
       "      <td>NaN</td>\n",
       "      <td>NaN</td>\n",
       "    </tr>\n",
       "    <tr>\n",
       "      <th>TRONROUT0000000032831835</th>\n",
       "      <td>13</td>\n",
       "      <td>126791</td>\n",
       "      <td>10.0</td>\n",
       "      <td>2.5</td>\n",
       "      <td>Quasi-autoroute</td>\n",
       "      <td>N11</td>\n",
       "      <td>None</td>\n",
       "      <td>None</td>\n",
       "      <td>1</td>\n",
       "      <td>Nationale</td>\n",
       "      <td>...</td>\n",
       "      <td>None</td>\n",
       "      <td>962</td>\n",
       "      <td>(LINESTRING (400631.1999999997 6577025.6999999...</td>\n",
       "      <td>2</td>\n",
       "      <td>POINT(400631.2 6577025.69999999)</td>\n",
       "      <td>2</td>\n",
       "      <td>POINT(400605.7 6577025.49999999)</td>\n",
       "      <td>NaN</td>\n",
       "      <td>NaN</td>\n",
       "      <td>NaN</td>\n",
       "    </tr>\n",
       "    <tr>\n",
       "      <th>TRONROUT0000000032831832</th>\n",
       "      <td>14</td>\n",
       "      <td>126787</td>\n",
       "      <td>10.0</td>\n",
       "      <td>2.5</td>\n",
       "      <td>Quasi-autoroute</td>\n",
       "      <td>N11</td>\n",
       "      <td>None</td>\n",
       "      <td>None</td>\n",
       "      <td>1</td>\n",
       "      <td>Nationale</td>\n",
       "      <td>...</td>\n",
       "      <td>None</td>\n",
       "      <td>962</td>\n",
       "      <td>(LINESTRING (400934.9999999997 6577019.6999999...</td>\n",
       "      <td>3</td>\n",
       "      <td>POINT(400935 6577019.69999999)</td>\n",
       "      <td>2</td>\n",
       "      <td>POINT(400631.2 6577025.69999999)</td>\n",
       "      <td>NaN</td>\n",
       "      <td>NaN</td>\n",
       "      <td>NaN</td>\n",
       "    </tr>\n",
       "    <tr>\n",
       "      <th>TRONROUT0000000032863691</th>\n",
       "      <td>15</td>\n",
       "      <td>151850</td>\n",
       "      <td>2.5</td>\n",
       "      <td>2.5</td>\n",
       "      <td>Route à 1 chaussée</td>\n",
       "      <td>D911</td>\n",
       "      <td>R OLIVIER BRILLOUET</td>\n",
       "      <td>R OLIVIER BRILLOUET</td>\n",
       "      <td>2</td>\n",
       "      <td>Départementale</td>\n",
       "      <td>...</td>\n",
       "      <td>None</td>\n",
       "      <td>48</td>\n",
       "      <td>(LINESTRING (411097.6999999997 6564505.6999999...</td>\n",
       "      <td>2</td>\n",
       "      <td>POINT(411097.7 6564505.69999999)</td>\n",
       "      <td>2</td>\n",
       "      <td>POINT(410994.6 6564355.79999999)</td>\n",
       "      <td>NaN</td>\n",
       "      <td>NaN</td>\n",
       "      <td>NaN</td>\n",
       "    </tr>\n",
       "    <tr>\n",
       "      <th>TRONROUT0000000032863706</th>\n",
       "      <td>16</td>\n",
       "      <td>151857</td>\n",
       "      <td>2.5</td>\n",
       "      <td>2.5</td>\n",
       "      <td>Route à 1 chaussée</td>\n",
       "      <td>D911</td>\n",
       "      <td>R OLIVIER BRILLOUET</td>\n",
       "      <td>R OLIVIER BRILLOUET</td>\n",
       "      <td>2</td>\n",
       "      <td>Départementale</td>\n",
       "      <td>...</td>\n",
       "      <td>None</td>\n",
       "      <td>48</td>\n",
       "      <td>(LINESTRING (410889.9999999997 6564203.3999999...</td>\n",
       "      <td>2</td>\n",
       "      <td>POINT(410890 6564203.39999999)</td>\n",
       "      <td>2</td>\n",
       "      <td>POINT(410922.2 6564250.39999999)</td>\n",
       "      <td>NaN</td>\n",
       "      <td>NaN</td>\n",
       "      <td>NaN</td>\n",
       "    </tr>\n",
       "    <tr>\n",
       "      <th>TRONROUT0000000032863178</th>\n",
       "      <td>1086</td>\n",
       "      <td>151510</td>\n",
       "      <td>2.5</td>\n",
       "      <td>2.5</td>\n",
       "      <td>Route à 1 chaussée</td>\n",
       "      <td>D939</td>\n",
       "      <td>GRAND RUE</td>\n",
       "      <td>GRAND RUE</td>\n",
       "      <td>3</td>\n",
       "      <td>Départementale</td>\n",
       "      <td>...</td>\n",
       "      <td>None</td>\n",
       "      <td>12</td>\n",
       "      <td>(LINESTRING (389374.9999999996 6565449.1999999...</td>\n",
       "      <td>2</td>\n",
       "      <td>POINT(389375 6565449.19999999)</td>\n",
       "      <td>2</td>\n",
       "      <td>POINT(389392.599999999 6565439.39999999)</td>\n",
       "      <td>NaN</td>\n",
       "      <td>NaN</td>\n",
       "      <td>NaN</td>\n",
       "    </tr>\n",
       "    <tr>\n",
       "      <th>TRONROUT0000000032863707</th>\n",
       "      <td>17</td>\n",
       "      <td>151858</td>\n",
       "      <td>2.5</td>\n",
       "      <td>2.5</td>\n",
       "      <td>Route à 1 chaussée</td>\n",
       "      <td>D911</td>\n",
       "      <td>R OLIVIER BRILLOUET</td>\n",
       "      <td>R OLIVIER BRILLOUET</td>\n",
       "      <td>2</td>\n",
       "      <td>Départementale</td>\n",
       "      <td>...</td>\n",
       "      <td>None</td>\n",
       "      <td>48</td>\n",
       "      <td>(LINESTRING (410740.8999999997 6563986.1999999...</td>\n",
       "      <td>2</td>\n",
       "      <td>POINT(410740.9 6563986.19999999)</td>\n",
       "      <td>2</td>\n",
       "      <td>POINT(410890 6564203.39999999)</td>\n",
       "      <td>NaN</td>\n",
       "      <td>NaN</td>\n",
       "      <td>NaN</td>\n",
       "    </tr>\n",
       "    <tr>\n",
       "      <th>TRONROUT0000000032830614</th>\n",
       "      <td>1158</td>\n",
       "      <td>125782</td>\n",
       "      <td>2.5</td>\n",
       "      <td>2.5</td>\n",
       "      <td>Route à 1 chaussée</td>\n",
       "      <td>D116</td>\n",
       "      <td>None</td>\n",
       "      <td>None</td>\n",
       "      <td>3</td>\n",
       "      <td>Départementale</td>\n",
       "      <td>...</td>\n",
       "      <td>None</td>\n",
       "      <td>788</td>\n",
       "      <td>(LINESTRING (406204.9999999997 6577638.1999999...</td>\n",
       "      <td>3</td>\n",
       "      <td>POINT(406205 6577638.19999999)</td>\n",
       "      <td>2</td>\n",
       "      <td>POINT(406187.9 6577487.79999999)</td>\n",
       "      <td>NaN</td>\n",
       "      <td>NaN</td>\n",
       "      <td>NaN</td>\n",
       "    </tr>\n",
       "    <tr>\n",
       "      <th>TRONROUT0000000032865298</th>\n",
       "      <td>18</td>\n",
       "      <td>152999</td>\n",
       "      <td>2.5</td>\n",
       "      <td>2.5</td>\n",
       "      <td>Route à 1 chaussée</td>\n",
       "      <td>D911</td>\n",
       "      <td>R OLIVIER BRILLOUET</td>\n",
       "      <td>R OLIVIER BRILLOUET</td>\n",
       "      <td>2</td>\n",
       "      <td>Départementale</td>\n",
       "      <td>...</td>\n",
       "      <td>None</td>\n",
       "      <td>48</td>\n",
       "      <td>(LINESTRING (410669.9999999997 6563884.2999999...</td>\n",
       "      <td>4</td>\n",
       "      <td>POINT(410670 6563884.29999999)</td>\n",
       "      <td>2</td>\n",
       "      <td>POINT(410740.9 6563986.19999999)</td>\n",
       "      <td>NaN</td>\n",
       "      <td>NaN</td>\n",
       "      <td>NaN</td>\n",
       "    </tr>\n",
       "    <tr>\n",
       "      <th>TRONROUT0000000032848846</th>\n",
       "      <td>1276</td>\n",
       "      <td>140400</td>\n",
       "      <td>2.5</td>\n",
       "      <td>2.5</td>\n",
       "      <td>Route à 1 chaussée</td>\n",
       "      <td>NC</td>\n",
       "      <td>CHE DES REMPARTS</td>\n",
       "      <td>CHE DES REMPARTS</td>\n",
       "      <td>3</td>\n",
       "      <td>Autre</td>\n",
       "      <td>...</td>\n",
       "      <td>None</td>\n",
       "      <td>14</td>\n",
       "      <td>(LINESTRING (379716.1999999996 6571488.5999999...</td>\n",
       "      <td>2</td>\n",
       "      <td>POINT(379716.2 6571488.59999999)</td>\n",
       "      <td>2</td>\n",
       "      <td>POINT(379718.9 6571495.69999999)</td>\n",
       "      <td>NaN</td>\n",
       "      <td>NaN</td>\n",
       "      <td>NaN</td>\n",
       "    </tr>\n",
       "    <tr>\n",
       "      <th>TRONROUT0000000032846690</th>\n",
       "      <td>19</td>\n",
       "      <td>138626</td>\n",
       "      <td>2.5</td>\n",
       "      <td>2.5</td>\n",
       "      <td>Route à 1 chaussée</td>\n",
       "      <td>NC</td>\n",
       "      <td>AV DE LA REPENTIE</td>\n",
       "      <td>AV DE LA REPENTIE</td>\n",
       "      <td>3</td>\n",
       "      <td>Autre</td>\n",
       "      <td>...</td>\n",
       "      <td>None</td>\n",
       "      <td>14</td>\n",
       "      <td>(LINESTRING (375740.8999999997 6572027.3999999...</td>\n",
       "      <td>2</td>\n",
       "      <td>POINT(375740.9 6572027.39999999)</td>\n",
       "      <td>2</td>\n",
       "      <td>POINT(375730.1 6572054.09999999)</td>\n",
       "      <td>NaN</td>\n",
       "      <td>NaN</td>\n",
       "      <td>NaN</td>\n",
       "    </tr>\n",
       "    <tr>\n",
       "      <th>TRONROUT0000000032851393</th>\n",
       "      <td>1338</td>\n",
       "      <td>142434</td>\n",
       "      <td>2.5</td>\n",
       "      <td>2.5</td>\n",
       "      <td>Route à 1 chaussée</td>\n",
       "      <td>D115</td>\n",
       "      <td>None</td>\n",
       "      <td>None</td>\n",
       "      <td>3</td>\n",
       "      <td>Départementale</td>\n",
       "      <td>...</td>\n",
       "      <td>None</td>\n",
       "      <td>1380</td>\n",
       "      <td>(LINESTRING (404371.9999999996 6569911.2999999...</td>\n",
       "      <td>2</td>\n",
       "      <td>POINT(404372 6569911.29999999)</td>\n",
       "      <td>2</td>\n",
       "      <td>POINT(404381.5 6569904.69999999)</td>\n",
       "      <td>NaN</td>\n",
       "      <td>NaN</td>\n",
       "      <td>NaN</td>\n",
       "    </tr>\n",
       "    <tr>\n",
       "      <th>TRONROUT0000000032846654</th>\n",
       "      <td>20</td>\n",
       "      <td>138602</td>\n",
       "      <td>2.5</td>\n",
       "      <td>2.5</td>\n",
       "      <td>Route à 1 chaussée</td>\n",
       "      <td>NC</td>\n",
       "      <td>AV DE LA REPENTIE</td>\n",
       "      <td>AV DE LA REPENTIE</td>\n",
       "      <td>3</td>\n",
       "      <td>Autre</td>\n",
       "      <td>...</td>\n",
       "      <td>None</td>\n",
       "      <td>14</td>\n",
       "      <td>(LINESTRING (375730.0999999996 6572054.0999999...</td>\n",
       "      <td>2</td>\n",
       "      <td>POINT(375730.1 6572054.09999999)</td>\n",
       "      <td>2</td>\n",
       "      <td>POINT(375637.4 6572081.69999999)</td>\n",
       "      <td>NaN</td>\n",
       "      <td>NaN</td>\n",
       "      <td>NaN</td>\n",
       "    </tr>\n",
       "    <tr>\n",
       "      <th>TRONROUT0000000032846643</th>\n",
       "      <td>21</td>\n",
       "      <td>138591</td>\n",
       "      <td>2.5</td>\n",
       "      <td>2.5</td>\n",
       "      <td>Route à 1 chaussée</td>\n",
       "      <td>NC</td>\n",
       "      <td>AV DE LA REPENTIE</td>\n",
       "      <td>AV DE LA REPENTIE</td>\n",
       "      <td>3</td>\n",
       "      <td>Autre</td>\n",
       "      <td>...</td>\n",
       "      <td>None</td>\n",
       "      <td>14</td>\n",
       "      <td>(LINESTRING (375563.2999999997 6572102.9999999...</td>\n",
       "      <td>2</td>\n",
       "      <td>POINT(375563.3 6572102.99999999)</td>\n",
       "      <td>2</td>\n",
       "      <td>POINT(375637.4 6572081.69999999)</td>\n",
       "      <td>NaN</td>\n",
       "      <td>NaN</td>\n",
       "      <td>NaN</td>\n",
       "    </tr>\n",
       "    <tr>\n",
       "      <th>TRONROUT0000000032854685</th>\n",
       "      <td>22</td>\n",
       "      <td>145138</td>\n",
       "      <td>2.5</td>\n",
       "      <td>2.5</td>\n",
       "      <td>Route à 1 chaussée</td>\n",
       "      <td>D108</td>\n",
       "      <td>None</td>\n",
       "      <td>None</td>\n",
       "      <td>3</td>\n",
       "      <td>Départementale</td>\n",
       "      <td>...</td>\n",
       "      <td>None</td>\n",
       "      <td>80</td>\n",
       "      <td>(LINESTRING (411658.8999999997 6569333.7999999...</td>\n",
       "      <td>2</td>\n",
       "      <td>POINT(411658.9 6569333.79999999)</td>\n",
       "      <td>2</td>\n",
       "      <td>POINT(411665.8 6569337.89999999)</td>\n",
       "      <td>NaN</td>\n",
       "      <td>NaN</td>\n",
       "      <td>NaN</td>\n",
       "    </tr>\n",
       "    <tr>\n",
       "      <th>TRONROUT0000000130579464</th>\n",
       "      <td>23</td>\n",
       "      <td>46619</td>\n",
       "      <td>2.5</td>\n",
       "      <td>2.5</td>\n",
       "      <td>Route à 1 chaussée</td>\n",
       "      <td>D108</td>\n",
       "      <td>R DU CHATEAU</td>\n",
       "      <td>R DU CHATEAU</td>\n",
       "      <td>3</td>\n",
       "      <td>Départementale</td>\n",
       "      <td>...</td>\n",
       "      <td>None</td>\n",
       "      <td>80</td>\n",
       "      <td>(LINESTRING (411317.9999999998 6569133.2999999...</td>\n",
       "      <td>2</td>\n",
       "      <td>POINT(411318 6569133.29999999)</td>\n",
       "      <td>2</td>\n",
       "      <td>POINT(411453.2 6569212.39999999)</td>\n",
       "      <td>NaN</td>\n",
       "      <td>NaN</td>\n",
       "      <td>NaN</td>\n",
       "    </tr>\n",
       "    <tr>\n",
       "      <th>TRONROUT0000000032836517</th>\n",
       "      <td>1595</td>\n",
       "      <td>130409</td>\n",
       "      <td>5.0</td>\n",
       "      <td>2.5</td>\n",
       "      <td>Route à 2 chaussées</td>\n",
       "      <td>D201E2</td>\n",
       "      <td>None</td>\n",
       "      <td>None</td>\n",
       "      <td>3</td>\n",
       "      <td>Départementale</td>\n",
       "      <td>...</td>\n",
       "      <td>None</td>\n",
       "      <td>1635</td>\n",
       "      <td>(LINESTRING (363187.8999999998 6575310.2999999...</td>\n",
       "      <td>2</td>\n",
       "      <td>POINT(363187.9 6575310.29999999)</td>\n",
       "      <td>2</td>\n",
       "      <td>POINT(363197.7 6575294.89999999)</td>\n",
       "      <td>NaN</td>\n",
       "      <td>NaN</td>\n",
       "      <td>NaN</td>\n",
       "    </tr>\n",
       "    <tr>\n",
       "      <th>...</th>\n",
       "      <td>...</td>\n",
       "      <td>...</td>\n",
       "      <td>...</td>\n",
       "      <td>...</td>\n",
       "      <td>...</td>\n",
       "      <td>...</td>\n",
       "      <td>...</td>\n",
       "      <td>...</td>\n",
       "      <td>...</td>\n",
       "      <td>...</td>\n",
       "      <td>...</td>\n",
       "      <td>...</td>\n",
       "      <td>...</td>\n",
       "      <td>...</td>\n",
       "      <td>...</td>\n",
       "      <td>...</td>\n",
       "      <td>...</td>\n",
       "      <td>...</td>\n",
       "      <td>...</td>\n",
       "      <td>...</td>\n",
       "      <td>...</td>\n",
       "    </tr>\n",
       "    <tr>\n",
       "      <th>TRONROUT0000000032981543</th>\n",
       "      <td>5734</td>\n",
       "      <td>242412</td>\n",
       "      <td>1.5</td>\n",
       "      <td>1.0</td>\n",
       "      <td>Route à 1 chaussée</td>\n",
       "      <td>D142</td>\n",
       "      <td>RTE DE PISANY</td>\n",
       "      <td>RTE DE PISANY</td>\n",
       "      <td>3</td>\n",
       "      <td>Départementale</td>\n",
       "      <td>...</td>\n",
       "      <td>None</td>\n",
       "      <td>58</td>\n",
       "      <td>(LINESTRING (409506.8999999997 6515890.6999999...</td>\n",
       "      <td>2</td>\n",
       "      <td>POINT(409506.9 6515890.69999999)</td>\n",
       "      <td>2</td>\n",
       "      <td>POINT(409562.5 6515850.99999999)</td>\n",
       "      <td>NaN</td>\n",
       "      <td>NaN</td>\n",
       "      <td>NaN</td>\n",
       "    </tr>\n",
       "    <tr>\n",
       "      <th>TRONROUT0000000032981537</th>\n",
       "      <td>5735</td>\n",
       "      <td>242406</td>\n",
       "      <td>1.5</td>\n",
       "      <td>1.0</td>\n",
       "      <td>Route à 1 chaussée</td>\n",
       "      <td>D142</td>\n",
       "      <td>None</td>\n",
       "      <td>None</td>\n",
       "      <td>3</td>\n",
       "      <td>Départementale</td>\n",
       "      <td>...</td>\n",
       "      <td>None</td>\n",
       "      <td>58</td>\n",
       "      <td>(LINESTRING (409506.8999999997 6515890.6999999...</td>\n",
       "      <td>2</td>\n",
       "      <td>POINT(409506.9 6515890.69999999)</td>\n",
       "      <td>2</td>\n",
       "      <td>POINT(409184.6 6516005.99999999)</td>\n",
       "      <td>NaN</td>\n",
       "      <td>NaN</td>\n",
       "      <td>NaN</td>\n",
       "    </tr>\n",
       "    <tr>\n",
       "      <th>TRONROUT0000000113489745</th>\n",
       "      <td>1</td>\n",
       "      <td>43659</td>\n",
       "      <td>2.5</td>\n",
       "      <td>2.5</td>\n",
       "      <td>Rd_pt</td>\n",
       "      <td>D115</td>\n",
       "      <td>None</td>\n",
       "      <td>None</td>\n",
       "      <td>3</td>\n",
       "      <td>Départementale</td>\n",
       "      <td>...</td>\n",
       "      <td>None</td>\n",
       "      <td>59</td>\n",
       "      <td>(LINESTRING (401809.4999999997 6573505.0999999...</td>\n",
       "      <td>2</td>\n",
       "      <td>POINT(401809.5 6573505.09999999)</td>\n",
       "      <td>2</td>\n",
       "      <td>POINT(401797.3 6573517.39999999)</td>\n",
       "      <td>7.0</td>\n",
       "      <td>1.0</td>\n",
       "      <td>D115</td>\n",
       "    </tr>\n",
       "    <tr>\n",
       "      <th>TRONROUT0000000032849804</th>\n",
       "      <td>2</td>\n",
       "      <td>141187</td>\n",
       "      <td>5.0</td>\n",
       "      <td>2.5</td>\n",
       "      <td>Route à 1 chaussée</td>\n",
       "      <td>N537</td>\n",
       "      <td>None</td>\n",
       "      <td>None</td>\n",
       "      <td>3</td>\n",
       "      <td>Nationale</td>\n",
       "      <td>...</td>\n",
       "      <td>None</td>\n",
       "      <td>60</td>\n",
       "      <td>(LINESTRING (376563.1999999997 6571290.0999999...</td>\n",
       "      <td>2</td>\n",
       "      <td>POINT(376563.2 6571290.09999999)</td>\n",
       "      <td>3</td>\n",
       "      <td>POINT(376633.4 6571462.99999999)</td>\n",
       "      <td>NaN</td>\n",
       "      <td>NaN</td>\n",
       "      <td>NaN</td>\n",
       "    </tr>\n",
       "    <tr>\n",
       "      <th>TRONROUT0000000032849802</th>\n",
       "      <td>3</td>\n",
       "      <td>141185</td>\n",
       "      <td>10.0</td>\n",
       "      <td>2.5</td>\n",
       "      <td>Route à 2 chaussées</td>\n",
       "      <td>N537</td>\n",
       "      <td>None</td>\n",
       "      <td>None</td>\n",
       "      <td>3</td>\n",
       "      <td>Nationale</td>\n",
       "      <td>...</td>\n",
       "      <td>None</td>\n",
       "      <td>60</td>\n",
       "      <td>(LINESTRING (376680.7999999996 6571606.4999999...</td>\n",
       "      <td>2</td>\n",
       "      <td>POINT(376680.8 6571606.49999999)</td>\n",
       "      <td>3</td>\n",
       "      <td>POINT(376633.4 6571462.99999999)</td>\n",
       "      <td>NaN</td>\n",
       "      <td>NaN</td>\n",
       "      <td>NaN</td>\n",
       "    </tr>\n",
       "    <tr>\n",
       "      <th>TRONROUT0000000032849808</th>\n",
       "      <td>4</td>\n",
       "      <td>141191</td>\n",
       "      <td>10.0</td>\n",
       "      <td>2.5</td>\n",
       "      <td>Bretelle</td>\n",
       "      <td>N537</td>\n",
       "      <td>None</td>\n",
       "      <td>None</td>\n",
       "      <td>3</td>\n",
       "      <td>Nationale</td>\n",
       "      <td>...</td>\n",
       "      <td>None</td>\n",
       "      <td>60</td>\n",
       "      <td>(LINESTRING (376785.1999999997 6571794.1999999...</td>\n",
       "      <td>2</td>\n",
       "      <td>POINT(376785.2 6571794.19999999)</td>\n",
       "      <td>2</td>\n",
       "      <td>POINT(376680.8 6571606.49999999)</td>\n",
       "      <td>NaN</td>\n",
       "      <td>NaN</td>\n",
       "      <td>NaN</td>\n",
       "    </tr>\n",
       "    <tr>\n",
       "      <th>TRONROUT0000000032846617</th>\n",
       "      <td>5</td>\n",
       "      <td>138568</td>\n",
       "      <td>2.5</td>\n",
       "      <td>2.5</td>\n",
       "      <td>Bretelle</td>\n",
       "      <td>N537</td>\n",
       "      <td>None</td>\n",
       "      <td>None</td>\n",
       "      <td>3</td>\n",
       "      <td>Nationale</td>\n",
       "      <td>...</td>\n",
       "      <td>None</td>\n",
       "      <td>60</td>\n",
       "      <td>(LINESTRING (376819.4999999997 6571889.5999999...</td>\n",
       "      <td>3</td>\n",
       "      <td>POINT(376819.5 6571889.59999999)</td>\n",
       "      <td>2</td>\n",
       "      <td>POINT(376785.2 6571794.19999999)</td>\n",
       "      <td>NaN</td>\n",
       "      <td>NaN</td>\n",
       "      <td>NaN</td>\n",
       "    </tr>\n",
       "    <tr>\n",
       "      <th>TRONROUT0000000039535334</th>\n",
       "      <td>6</td>\n",
       "      <td>39682</td>\n",
       "      <td>2.5</td>\n",
       "      <td>2.5</td>\n",
       "      <td>Rd_pt</td>\n",
       "      <td>N537</td>\n",
       "      <td>None</td>\n",
       "      <td>None</td>\n",
       "      <td>3</td>\n",
       "      <td>Nationale</td>\n",
       "      <td>...</td>\n",
       "      <td>None</td>\n",
       "      <td>60</td>\n",
       "      <td>(LINESTRING (376504.1999999997 6571200.2999999...</td>\n",
       "      <td>3</td>\n",
       "      <td>POINT(376504.2 6571200.29999999)</td>\n",
       "      <td>2</td>\n",
       "      <td>POINT(376506.6 6571193.39999999)</td>\n",
       "      <td>9.0</td>\n",
       "      <td>1.0</td>\n",
       "      <td>N537</td>\n",
       "    </tr>\n",
       "    <tr>\n",
       "      <th>TRONROUT0000000039535344</th>\n",
       "      <td>7</td>\n",
       "      <td>39690</td>\n",
       "      <td>2.5</td>\n",
       "      <td>2.5</td>\n",
       "      <td>Route à 1 chaussée</td>\n",
       "      <td>N537</td>\n",
       "      <td>None</td>\n",
       "      <td>None</td>\n",
       "      <td>3</td>\n",
       "      <td>Nationale</td>\n",
       "      <td>...</td>\n",
       "      <td>None</td>\n",
       "      <td>60</td>\n",
       "      <td>(LINESTRING (376287.4999999997 6571247.1999999...</td>\n",
       "      <td>2</td>\n",
       "      <td>POINT(376287.5 6571247.19999999)</td>\n",
       "      <td>3</td>\n",
       "      <td>POINT(375675.6 6570914.29999999)</td>\n",
       "      <td>NaN</td>\n",
       "      <td>NaN</td>\n",
       "      <td>NaN</td>\n",
       "    </tr>\n",
       "    <tr>\n",
       "      <th>TRONROUT0000000032825857</th>\n",
       "      <td>693</td>\n",
       "      <td>122028</td>\n",
       "      <td>2.5</td>\n",
       "      <td>2.5</td>\n",
       "      <td>Route à 1 chaussée</td>\n",
       "      <td>D116</td>\n",
       "      <td>None</td>\n",
       "      <td>None</td>\n",
       "      <td>3</td>\n",
       "      <td>Départementale</td>\n",
       "      <td>...</td>\n",
       "      <td>None</td>\n",
       "      <td>684</td>\n",
       "      <td>(LINESTRING (407279.4999999997 6583123.3999999...</td>\n",
       "      <td>2</td>\n",
       "      <td>POINT(407279.5 6583123.39999999)</td>\n",
       "      <td>2</td>\n",
       "      <td>POINT(407272.7 6583110.19999999)</td>\n",
       "      <td>NaN</td>\n",
       "      <td>NaN</td>\n",
       "      <td>NaN</td>\n",
       "    </tr>\n",
       "    <tr>\n",
       "      <th>TRONROUT0000000032844447</th>\n",
       "      <td>1680</td>\n",
       "      <td>136825</td>\n",
       "      <td>2.5</td>\n",
       "      <td>2.5</td>\n",
       "      <td>Route à 1 chaussée</td>\n",
       "      <td>D116</td>\n",
       "      <td>None</td>\n",
       "      <td>None</td>\n",
       "      <td>3</td>\n",
       "      <td>Départementale</td>\n",
       "      <td>...</td>\n",
       "      <td>None</td>\n",
       "      <td>148</td>\n",
       "      <td>(LINESTRING (404285.7999999997 6572159.3999999...</td>\n",
       "      <td>2</td>\n",
       "      <td>POINT(404285.8 6572159.39999999)</td>\n",
       "      <td>2</td>\n",
       "      <td>POINT(404291.9 6572164.59999999)</td>\n",
       "      <td>NaN</td>\n",
       "      <td>NaN</td>\n",
       "      <td>NaN</td>\n",
       "    </tr>\n",
       "    <tr>\n",
       "      <th>TRONROUT0000000032861009</th>\n",
       "      <td>1819</td>\n",
       "      <td>149878</td>\n",
       "      <td>5.0</td>\n",
       "      <td>2.5</td>\n",
       "      <td>Bretelle</td>\n",
       "      <td>NC</td>\n",
       "      <td>None</td>\n",
       "      <td>None</td>\n",
       "      <td>3</td>\n",
       "      <td>Autre</td>\n",
       "      <td>...</td>\n",
       "      <td>None</td>\n",
       "      <td>1860</td>\n",
       "      <td>(LINESTRING (383535.1999999997 6567281.1999999...</td>\n",
       "      <td>4</td>\n",
       "      <td>POINT(383535.2 6567281.19999999)</td>\n",
       "      <td>3</td>\n",
       "      <td>POINT(383531.5 6567292.19999999)</td>\n",
       "      <td>NaN</td>\n",
       "      <td>NaN</td>\n",
       "      <td>NaN</td>\n",
       "    </tr>\n",
       "    <tr>\n",
       "      <th>TRONROUT0000000032826215</th>\n",
       "      <td>4705</td>\n",
       "      <td>122279</td>\n",
       "      <td>2.5</td>\n",
       "      <td>2.5</td>\n",
       "      <td>Route à 1 chaussée</td>\n",
       "      <td>D9</td>\n",
       "      <td>None</td>\n",
       "      <td>None</td>\n",
       "      <td>3</td>\n",
       "      <td>Départementale</td>\n",
       "      <td>...</td>\n",
       "      <td>None</td>\n",
       "      <td>660</td>\n",
       "      <td>(LINESTRING (386874.5999999997 6582587.1999999...</td>\n",
       "      <td>2</td>\n",
       "      <td>POINT(386874.6 6582587.19999999)</td>\n",
       "      <td>2</td>\n",
       "      <td>POINT(386874.6 6582593.59999999)</td>\n",
       "      <td>NaN</td>\n",
       "      <td>NaN</td>\n",
       "      <td>NaN</td>\n",
       "    </tr>\n",
       "    <tr>\n",
       "      <th>TRONROUT0000000200796436</th>\n",
       "      <td>5461</td>\n",
       "      <td>46909</td>\n",
       "      <td>5.0</td>\n",
       "      <td>2.5</td>\n",
       "      <td>Bretelle</td>\n",
       "      <td>NC</td>\n",
       "      <td>None</td>\n",
       "      <td>None</td>\n",
       "      <td>3</td>\n",
       "      <td>Autre</td>\n",
       "      <td>...</td>\n",
       "      <td>None</td>\n",
       "      <td>5463</td>\n",
       "      <td>(LINESTRING (383528.4999999997 6567238.3999999...</td>\n",
       "      <td>2</td>\n",
       "      <td>POINT(383528.5 6567238.39999999)</td>\n",
       "      <td>3</td>\n",
       "      <td>POINT(383535.7 6567267.39999999)</td>\n",
       "      <td>NaN</td>\n",
       "      <td>NaN</td>\n",
       "      <td>NaN</td>\n",
       "    </tr>\n",
       "    <tr>\n",
       "      <th>TRONROUT0000000032981379</th>\n",
       "      <td>5724</td>\n",
       "      <td>242271</td>\n",
       "      <td>1.5</td>\n",
       "      <td>1.0</td>\n",
       "      <td>Route à 1 chaussée</td>\n",
       "      <td>D6</td>\n",
       "      <td>None</td>\n",
       "      <td>None</td>\n",
       "      <td>3</td>\n",
       "      <td>Départementale</td>\n",
       "      <td>...</td>\n",
       "      <td>None</td>\n",
       "      <td>1678</td>\n",
       "      <td>(LINESTRING (416313.9999999997 6516124.5999999...</td>\n",
       "      <td>2</td>\n",
       "      <td>POINT(416314 6516124.59999999)</td>\n",
       "      <td>2</td>\n",
       "      <td>POINT(416346.9 6516187.79999999)</td>\n",
       "      <td>NaN</td>\n",
       "      <td>NaN</td>\n",
       "      <td>NaN</td>\n",
       "    </tr>\n",
       "    <tr>\n",
       "      <th>TRONROUT0000000032981545</th>\n",
       "      <td>5736</td>\n",
       "      <td>242413</td>\n",
       "      <td>1.5</td>\n",
       "      <td>1.0</td>\n",
       "      <td>Route à 1 chaussée</td>\n",
       "      <td>D142</td>\n",
       "      <td>None</td>\n",
       "      <td>None</td>\n",
       "      <td>3</td>\n",
       "      <td>Départementale</td>\n",
       "      <td>...</td>\n",
       "      <td>None</td>\n",
       "      <td>58</td>\n",
       "      <td>(LINESTRING (408433.3999999998 6516404.1999999...</td>\n",
       "      <td>2</td>\n",
       "      <td>POINT(408433.4 6516404.19999999)</td>\n",
       "      <td>2</td>\n",
       "      <td>POINT(408003 6516831.39999999)</td>\n",
       "      <td>NaN</td>\n",
       "      <td>NaN</td>\n",
       "      <td>NaN</td>\n",
       "    </tr>\n",
       "    <tr>\n",
       "      <th>TRONROUT0000000032981560</th>\n",
       "      <td>5740</td>\n",
       "      <td>242426</td>\n",
       "      <td>1.5</td>\n",
       "      <td>1.0</td>\n",
       "      <td>Route à 1 chaussée</td>\n",
       "      <td>D142</td>\n",
       "      <td>None</td>\n",
       "      <td>None</td>\n",
       "      <td>3</td>\n",
       "      <td>Départementale</td>\n",
       "      <td>...</td>\n",
       "      <td>None</td>\n",
       "      <td>58</td>\n",
       "      <td>(LINESTRING (408818.2999999998 6516113.5999999...</td>\n",
       "      <td>2</td>\n",
       "      <td>POINT(408818.3 6516113.59999999)</td>\n",
       "      <td>2</td>\n",
       "      <td>POINT(408693.4 6516191.39999999)</td>\n",
       "      <td>NaN</td>\n",
       "      <td>NaN</td>\n",
       "      <td>NaN</td>\n",
       "    </tr>\n",
       "    <tr>\n",
       "      <th>TRONROUT0000000032981559</th>\n",
       "      <td>5738</td>\n",
       "      <td>242425</td>\n",
       "      <td>1.5</td>\n",
       "      <td>1.0</td>\n",
       "      <td>Route à 1 chaussée</td>\n",
       "      <td>D142</td>\n",
       "      <td>None</td>\n",
       "      <td>None</td>\n",
       "      <td>3</td>\n",
       "      <td>Départementale</td>\n",
       "      <td>...</td>\n",
       "      <td>None</td>\n",
       "      <td>58</td>\n",
       "      <td>(LINESTRING (409184.5999999996 6516005.9999999...</td>\n",
       "      <td>2</td>\n",
       "      <td>POINT(409184.6 6516005.99999999)</td>\n",
       "      <td>2</td>\n",
       "      <td>POINT(408911.1 6516073.89999999)</td>\n",
       "      <td>NaN</td>\n",
       "      <td>NaN</td>\n",
       "      <td>NaN</td>\n",
       "    </tr>\n",
       "    <tr>\n",
       "      <th>TRONROUT0000000032981561</th>\n",
       "      <td>5739</td>\n",
       "      <td>242427</td>\n",
       "      <td>1.5</td>\n",
       "      <td>1.0</td>\n",
       "      <td>Route à 1 chaussée</td>\n",
       "      <td>D142</td>\n",
       "      <td>None</td>\n",
       "      <td>None</td>\n",
       "      <td>3</td>\n",
       "      <td>Départementale</td>\n",
       "      <td>...</td>\n",
       "      <td>None</td>\n",
       "      <td>58</td>\n",
       "      <td>(LINESTRING (408911.0999999996 6516073.8999999...</td>\n",
       "      <td>2</td>\n",
       "      <td>POINT(408911.1 6516073.89999999)</td>\n",
       "      <td>2</td>\n",
       "      <td>POINT(408818.3 6516113.59999999)</td>\n",
       "      <td>NaN</td>\n",
       "      <td>NaN</td>\n",
       "      <td>NaN</td>\n",
       "    </tr>\n",
       "    <tr>\n",
       "      <th>TRONROUT0000000032994916</th>\n",
       "      <td>5741</td>\n",
       "      <td>252887</td>\n",
       "      <td>1.5</td>\n",
       "      <td>1.0</td>\n",
       "      <td>Route à 1 chaussée</td>\n",
       "      <td>D142</td>\n",
       "      <td>None</td>\n",
       "      <td>None</td>\n",
       "      <td>3</td>\n",
       "      <td>Départementale</td>\n",
       "      <td>...</td>\n",
       "      <td>None</td>\n",
       "      <td>317</td>\n",
       "      <td>(LINESTRING (416688.3999999997 6509125.4999999...</td>\n",
       "      <td>2</td>\n",
       "      <td>POINT(416688.4 6509125.49999999)</td>\n",
       "      <td>2</td>\n",
       "      <td>POINT(416722.3 6509097.99999999)</td>\n",
       "      <td>NaN</td>\n",
       "      <td>NaN</td>\n",
       "      <td>NaN</td>\n",
       "    </tr>\n",
       "    <tr>\n",
       "      <th>TRONROUT0000000032994938</th>\n",
       "      <td>5742</td>\n",
       "      <td>252900</td>\n",
       "      <td>1.5</td>\n",
       "      <td>1.0</td>\n",
       "      <td>Route à 1 chaussée</td>\n",
       "      <td>D142</td>\n",
       "      <td>R DU DONJON</td>\n",
       "      <td>R DU DONJON</td>\n",
       "      <td>3</td>\n",
       "      <td>Départementale</td>\n",
       "      <td>...</td>\n",
       "      <td>None</td>\n",
       "      <td>317</td>\n",
       "      <td>(LINESTRING (416467.2999999996 6509372.9999999...</td>\n",
       "      <td>2</td>\n",
       "      <td>POINT(416467.3 6509372.99999999)</td>\n",
       "      <td>2</td>\n",
       "      <td>POINT(416688.4 6509125.49999999)</td>\n",
       "      <td>NaN</td>\n",
       "      <td>NaN</td>\n",
       "      <td>NaN</td>\n",
       "    </tr>\n",
       "    <tr>\n",
       "      <th>TRONROUT0000000032997384</th>\n",
       "      <td>5746</td>\n",
       "      <td>254786</td>\n",
       "      <td>1.5</td>\n",
       "      <td>1.0</td>\n",
       "      <td>Route à 1 chaussée</td>\n",
       "      <td>D142</td>\n",
       "      <td>None</td>\n",
       "      <td>None</td>\n",
       "      <td>3</td>\n",
       "      <td>Départementale</td>\n",
       "      <td>...</td>\n",
       "      <td>None</td>\n",
       "      <td>317</td>\n",
       "      <td>(LINESTRING (416948.7999999996 6508731.9999999...</td>\n",
       "      <td>2</td>\n",
       "      <td>POINT(416948.8 6508731.99999999)</td>\n",
       "      <td>2</td>\n",
       "      <td>POINT(417304.6 6507486.29999999)</td>\n",
       "      <td>NaN</td>\n",
       "      <td>NaN</td>\n",
       "      <td>NaN</td>\n",
       "    </tr>\n",
       "    <tr>\n",
       "      <th>TRONROUT0000000032839287</th>\n",
       "      <td>5747</td>\n",
       "      <td>88358</td>\n",
       "      <td>1.5</td>\n",
       "      <td>1.0</td>\n",
       "      <td>Quasi-autoroute</td>\n",
       "      <td>N11</td>\n",
       "      <td>None</td>\n",
       "      <td>None</td>\n",
       "      <td>1</td>\n",
       "      <td>Nationale</td>\n",
       "      <td>...</td>\n",
       "      <td>None</td>\n",
       "      <td>2424</td>\n",
       "      <td>(LINESTRING (413672.5999999996 6573624.0999999...</td>\n",
       "      <td>2</td>\n",
       "      <td>POINT(413672.6 6573624.09999999)</td>\n",
       "      <td>2</td>\n",
       "      <td>POINT(413680.1 6573620.39999999)</td>\n",
       "      <td>NaN</td>\n",
       "      <td>NaN</td>\n",
       "      <td>NaN</td>\n",
       "    </tr>\n",
       "    <tr>\n",
       "      <th>TRONROUT0000000032834969</th>\n",
       "      <td>5748</td>\n",
       "      <td>85020</td>\n",
       "      <td>1.5</td>\n",
       "      <td>1.0</td>\n",
       "      <td>Quasi-autoroute</td>\n",
       "      <td>N11</td>\n",
       "      <td>None</td>\n",
       "      <td>None</td>\n",
       "      <td>1</td>\n",
       "      <td>Nationale</td>\n",
       "      <td>...</td>\n",
       "      <td>None</td>\n",
       "      <td>2424</td>\n",
       "      <td>(LINESTRING (411503.4999999998 6574693.0999999...</td>\n",
       "      <td>2</td>\n",
       "      <td>POINT(411503.5 6574693.09999999)</td>\n",
       "      <td>3</td>\n",
       "      <td>POINT(411361 6574747.69999999)</td>\n",
       "      <td>NaN</td>\n",
       "      <td>NaN</td>\n",
       "      <td>NaN</td>\n",
       "    </tr>\n",
       "    <tr>\n",
       "      <th>TRONROUT0000000032983102</th>\n",
       "      <td>5749</td>\n",
       "      <td>243559</td>\n",
       "      <td>1.5</td>\n",
       "      <td>1.0</td>\n",
       "      <td>Route à 1 chaussée</td>\n",
       "      <td>D114</td>\n",
       "      <td>RTE DE COZES</td>\n",
       "      <td>RTE DE COZES</td>\n",
       "      <td>3</td>\n",
       "      <td>Départementale</td>\n",
       "      <td>...</td>\n",
       "      <td>None</td>\n",
       "      <td>38</td>\n",
       "      <td>(LINESTRING (409719.2999999997 6515392.1999999...</td>\n",
       "      <td>2</td>\n",
       "      <td>POINT(409719.3 6515392.19999999)</td>\n",
       "      <td>2</td>\n",
       "      <td>POINT(409538.7 6515299.19999999)</td>\n",
       "      <td>NaN</td>\n",
       "      <td>NaN</td>\n",
       "      <td>NaN</td>\n",
       "    </tr>\n",
       "    <tr>\n",
       "      <th>TRONROUT0000000032983099</th>\n",
       "      <td>5750</td>\n",
       "      <td>243555</td>\n",
       "      <td>1.5</td>\n",
       "      <td>1.0</td>\n",
       "      <td>Route à 1 chaussée</td>\n",
       "      <td>D114</td>\n",
       "      <td>R SAINT-TROJAN</td>\n",
       "      <td>R SAINT-TROJAN</td>\n",
       "      <td>3</td>\n",
       "      <td>Départementale</td>\n",
       "      <td>...</td>\n",
       "      <td>None</td>\n",
       "      <td>1537</td>\n",
       "      <td>(LINESTRING (409923.6999999996 6515657.1999999...</td>\n",
       "      <td>2</td>\n",
       "      <td>POINT(409923.7 6515657.19999999)</td>\n",
       "      <td>2</td>\n",
       "      <td>POINT(409976 6515767.09999999)</td>\n",
       "      <td>NaN</td>\n",
       "      <td>NaN</td>\n",
       "      <td>NaN</td>\n",
       "    </tr>\n",
       "    <tr>\n",
       "      <th>TRONROUT0000000032982975</th>\n",
       "      <td>5751</td>\n",
       "      <td>243466</td>\n",
       "      <td>1.5</td>\n",
       "      <td>1.0</td>\n",
       "      <td>Route à 1 chaussée</td>\n",
       "      <td>D6</td>\n",
       "      <td>RTE DE SAINTES</td>\n",
       "      <td>RTE DE SAINTES</td>\n",
       "      <td>3</td>\n",
       "      <td>Départementale</td>\n",
       "      <td>...</td>\n",
       "      <td>None</td>\n",
       "      <td>1678</td>\n",
       "      <td>(LINESTRING (415868.6999999998 6514912.4999999...</td>\n",
       "      <td>2</td>\n",
       "      <td>POINT(415868.7 6514912.49999999)</td>\n",
       "      <td>2</td>\n",
       "      <td>POINT(415988.2 6515264.39999999)</td>\n",
       "      <td>NaN</td>\n",
       "      <td>NaN</td>\n",
       "      <td>NaN</td>\n",
       "    </tr>\n",
       "    <tr>\n",
       "      <th>TRONROUT0000000032983101</th>\n",
       "      <td>5752</td>\n",
       "      <td>243558</td>\n",
       "      <td>1.5</td>\n",
       "      <td>1.0</td>\n",
       "      <td>Route à 1 chaussée</td>\n",
       "      <td>D114</td>\n",
       "      <td>R SAINT-TROJAN</td>\n",
       "      <td>R SAINT-TROJAN</td>\n",
       "      <td>3</td>\n",
       "      <td>Départementale</td>\n",
       "      <td>...</td>\n",
       "      <td>None</td>\n",
       "      <td>5751</td>\n",
       "      <td>(LINESTRING (409933.6999999996 6515506.3999999...</td>\n",
       "      <td>3</td>\n",
       "      <td>POINT(409933.7 6515506.39999999)</td>\n",
       "      <td>2</td>\n",
       "      <td>POINT(409892.1 6515572.89999999)</td>\n",
       "      <td>NaN</td>\n",
       "      <td>NaN</td>\n",
       "      <td>NaN</td>\n",
       "    </tr>\n",
       "    <tr>\n",
       "      <th>TRONROUT0000000032987769</th>\n",
       "      <td>5771</td>\n",
       "      <td>247047</td>\n",
       "      <td>1.5</td>\n",
       "      <td>1.0</td>\n",
       "      <td>Route à 1 chaussée</td>\n",
       "      <td>D6</td>\n",
       "      <td>RTE DE GEMOZAC</td>\n",
       "      <td>RTE DE GEMOZAC</td>\n",
       "      <td>3</td>\n",
       "      <td>Départementale</td>\n",
       "      <td>...</td>\n",
       "      <td>None</td>\n",
       "      <td>1678</td>\n",
       "      <td>(LINESTRING (415369.2999999996 6513561.3999999...</td>\n",
       "      <td>2</td>\n",
       "      <td>POINT(415369.3 6513561.39999999)</td>\n",
       "      <td>2</td>\n",
       "      <td>POINT(415539.9 6512983.69999999)</td>\n",
       "      <td>NaN</td>\n",
       "      <td>NaN</td>\n",
       "      <td>NaN</td>\n",
       "    </tr>\n",
       "    <tr>\n",
       "      <th>TRONROUT0000000032987798</th>\n",
       "      <td>5772</td>\n",
       "      <td>247071</td>\n",
       "      <td>1.5</td>\n",
       "      <td>1.0</td>\n",
       "      <td>Route à 1 chaussée</td>\n",
       "      <td>D142</td>\n",
       "      <td>None</td>\n",
       "      <td>None</td>\n",
       "      <td>3</td>\n",
       "      <td>Départementale</td>\n",
       "      <td>...</td>\n",
       "      <td>None</td>\n",
       "      <td>40</td>\n",
       "      <td>(LINESTRING (413466.4999999997 6512491.5999999...</td>\n",
       "      <td>2</td>\n",
       "      <td>POINT(413466.5 6512491.59999999)</td>\n",
       "      <td>2</td>\n",
       "      <td>POINT(413623.4 6512420.49999999)</td>\n",
       "      <td>NaN</td>\n",
       "      <td>NaN</td>\n",
       "      <td>NaN</td>\n",
       "    </tr>\n",
       "  </tbody>\n",
       "</table>\n",
       "<p>5772 rows × 50 columns</p>\n",
       "</div>"
      ],
      "text/plain": [
       "                           gid      id  prec_plani  prec_alti  \\\n",
       "TRONROUT0000000129676367   100   45963         2.5        2.5   \n",
       "TRONROUT0000000039535349     8   39694         2.5        2.5   \n",
       "TRONROUT0000000032830745     9  125892        10.0        2.5   \n",
       "TRONROUT0000000032830722    10  125871        10.0        2.5   \n",
       "TRONROUT0000000129676495   557   46090        10.0        2.5   \n",
       "TRONROUT0000000032830721    11  125870        10.0        2.5   \n",
       "TRONROUT0000000129704339   615   46354         2.5        2.5   \n",
       "TRONROUT0000000032826062   703  122176         2.5        2.5   \n",
       "TRONROUT0000000129830538   770   46504         5.0        2.5   \n",
       "TRONROUT0000000032861713   832  150402         2.5        2.5   \n",
       "TRONROUT0000000032831771   818  126739        10.0        2.5   \n",
       "TRONROUT0000000032867128   851  153853         1.5        1.0   \n",
       "TRONROUT0000000032828762   922  124391         2.5        2.5   \n",
       "TRONROUT0000000032831888    12  126831        10.0        2.5   \n",
       "TRONROUT0000000032831835    13  126791        10.0        2.5   \n",
       "TRONROUT0000000032831832    14  126787        10.0        2.5   \n",
       "TRONROUT0000000032863691    15  151850         2.5        2.5   \n",
       "TRONROUT0000000032863706    16  151857         2.5        2.5   \n",
       "TRONROUT0000000032863178  1086  151510         2.5        2.5   \n",
       "TRONROUT0000000032863707    17  151858         2.5        2.5   \n",
       "TRONROUT0000000032830614  1158  125782         2.5        2.5   \n",
       "TRONROUT0000000032865298    18  152999         2.5        2.5   \n",
       "TRONROUT0000000032848846  1276  140400         2.5        2.5   \n",
       "TRONROUT0000000032846690    19  138626         2.5        2.5   \n",
       "TRONROUT0000000032851393  1338  142434         2.5        2.5   \n",
       "TRONROUT0000000032846654    20  138602         2.5        2.5   \n",
       "TRONROUT0000000032846643    21  138591         2.5        2.5   \n",
       "TRONROUT0000000032854685    22  145138         2.5        2.5   \n",
       "TRONROUT0000000130579464    23   46619         2.5        2.5   \n",
       "TRONROUT0000000032836517  1595  130409         5.0        2.5   \n",
       "...                        ...     ...         ...        ...   \n",
       "TRONROUT0000000032981543  5734  242412         1.5        1.0   \n",
       "TRONROUT0000000032981537  5735  242406         1.5        1.0   \n",
       "TRONROUT0000000113489745     1   43659         2.5        2.5   \n",
       "TRONROUT0000000032849804     2  141187         5.0        2.5   \n",
       "TRONROUT0000000032849802     3  141185        10.0        2.5   \n",
       "TRONROUT0000000032849808     4  141191        10.0        2.5   \n",
       "TRONROUT0000000032846617     5  138568         2.5        2.5   \n",
       "TRONROUT0000000039535334     6   39682         2.5        2.5   \n",
       "TRONROUT0000000039535344     7   39690         2.5        2.5   \n",
       "TRONROUT0000000032825857   693  122028         2.5        2.5   \n",
       "TRONROUT0000000032844447  1680  136825         2.5        2.5   \n",
       "TRONROUT0000000032861009  1819  149878         5.0        2.5   \n",
       "TRONROUT0000000032826215  4705  122279         2.5        2.5   \n",
       "TRONROUT0000000200796436  5461   46909         5.0        2.5   \n",
       "TRONROUT0000000032981379  5724  242271         1.5        1.0   \n",
       "TRONROUT0000000032981545  5736  242413         1.5        1.0   \n",
       "TRONROUT0000000032981560  5740  242426         1.5        1.0   \n",
       "TRONROUT0000000032981559  5738  242425         1.5        1.0   \n",
       "TRONROUT0000000032981561  5739  242427         1.5        1.0   \n",
       "TRONROUT0000000032994916  5741  252887         1.5        1.0   \n",
       "TRONROUT0000000032994938  5742  252900         1.5        1.0   \n",
       "TRONROUT0000000032997384  5746  254786         1.5        1.0   \n",
       "TRONROUT0000000032839287  5747   88358         1.5        1.0   \n",
       "TRONROUT0000000032834969  5748   85020         1.5        1.0   \n",
       "TRONROUT0000000032983102  5749  243559         1.5        1.0   \n",
       "TRONROUT0000000032983099  5750  243555         1.5        1.0   \n",
       "TRONROUT0000000032982975  5751  243466         1.5        1.0   \n",
       "TRONROUT0000000032983101  5752  243558         1.5        1.0   \n",
       "TRONROUT0000000032987769  5771  247047         1.5        1.0   \n",
       "TRONROUT0000000032987798  5772  247071         1.5        1.0   \n",
       "\n",
       "                                       nature  numero           nom_voie_g  \\\n",
       "TRONROUT0000000129676367      Quasi-autoroute    N137                 None   \n",
       "TRONROUT0000000039535349                Rd_pt    N537                 None   \n",
       "TRONROUT0000000032830745      Quasi-autoroute     N11                 None   \n",
       "TRONROUT0000000032830722      Quasi-autoroute     N11                 None   \n",
       "TRONROUT0000000129676495      Quasi-autoroute     N11                 None   \n",
       "TRONROUT0000000032830721      Quasi-autoroute     N11                 None   \n",
       "TRONROUT0000000129704339   Route à 1 chaussée    D105                 None   \n",
       "TRONROUT0000000032826062   Route à 1 chaussée    D116                 None   \n",
       "TRONROUT0000000129830538  Route à 2 chaussées    D115                 None   \n",
       "TRONROUT0000000032861713   Route à 1 chaussée    D911                 None   \n",
       "TRONROUT0000000032831771      Quasi-autoroute     N11                 None   \n",
       "TRONROUT0000000032867128  Route à 2 chaussées      D5                 None   \n",
       "TRONROUT0000000032828762   Route à 1 chaussée    D115                 None   \n",
       "TRONROUT0000000032831888      Quasi-autoroute     N11                 None   \n",
       "TRONROUT0000000032831835      Quasi-autoroute     N11                 None   \n",
       "TRONROUT0000000032831832      Quasi-autoroute     N11                 None   \n",
       "TRONROUT0000000032863691   Route à 1 chaussée    D911  R OLIVIER BRILLOUET   \n",
       "TRONROUT0000000032863706   Route à 1 chaussée    D911  R OLIVIER BRILLOUET   \n",
       "TRONROUT0000000032863178   Route à 1 chaussée    D939            GRAND RUE   \n",
       "TRONROUT0000000032863707   Route à 1 chaussée    D911  R OLIVIER BRILLOUET   \n",
       "TRONROUT0000000032830614   Route à 1 chaussée    D116                 None   \n",
       "TRONROUT0000000032865298   Route à 1 chaussée    D911  R OLIVIER BRILLOUET   \n",
       "TRONROUT0000000032848846   Route à 1 chaussée      NC     CHE DES REMPARTS   \n",
       "TRONROUT0000000032846690   Route à 1 chaussée      NC    AV DE LA REPENTIE   \n",
       "TRONROUT0000000032851393   Route à 1 chaussée    D115                 None   \n",
       "TRONROUT0000000032846654   Route à 1 chaussée      NC    AV DE LA REPENTIE   \n",
       "TRONROUT0000000032846643   Route à 1 chaussée      NC    AV DE LA REPENTIE   \n",
       "TRONROUT0000000032854685   Route à 1 chaussée    D108                 None   \n",
       "TRONROUT0000000130579464   Route à 1 chaussée    D108         R DU CHATEAU   \n",
       "TRONROUT0000000032836517  Route à 2 chaussées  D201E2                 None   \n",
       "...                                       ...     ...                  ...   \n",
       "TRONROUT0000000032981543   Route à 1 chaussée    D142        RTE DE PISANY   \n",
       "TRONROUT0000000032981537   Route à 1 chaussée    D142                 None   \n",
       "TRONROUT0000000113489745                Rd_pt    D115                 None   \n",
       "TRONROUT0000000032849804   Route à 1 chaussée    N537                 None   \n",
       "TRONROUT0000000032849802  Route à 2 chaussées    N537                 None   \n",
       "TRONROUT0000000032849808             Bretelle    N537                 None   \n",
       "TRONROUT0000000032846617             Bretelle    N537                 None   \n",
       "TRONROUT0000000039535334                Rd_pt    N537                 None   \n",
       "TRONROUT0000000039535344   Route à 1 chaussée    N537                 None   \n",
       "TRONROUT0000000032825857   Route à 1 chaussée    D116                 None   \n",
       "TRONROUT0000000032844447   Route à 1 chaussée    D116                 None   \n",
       "TRONROUT0000000032861009             Bretelle      NC                 None   \n",
       "TRONROUT0000000032826215   Route à 1 chaussée      D9                 None   \n",
       "TRONROUT0000000200796436             Bretelle      NC                 None   \n",
       "TRONROUT0000000032981379   Route à 1 chaussée      D6                 None   \n",
       "TRONROUT0000000032981545   Route à 1 chaussée    D142                 None   \n",
       "TRONROUT0000000032981560   Route à 1 chaussée    D142                 None   \n",
       "TRONROUT0000000032981559   Route à 1 chaussée    D142                 None   \n",
       "TRONROUT0000000032981561   Route à 1 chaussée    D142                 None   \n",
       "TRONROUT0000000032994916   Route à 1 chaussée    D142                 None   \n",
       "TRONROUT0000000032994938   Route à 1 chaussée    D142          R DU DONJON   \n",
       "TRONROUT0000000032997384   Route à 1 chaussée    D142                 None   \n",
       "TRONROUT0000000032839287      Quasi-autoroute     N11                 None   \n",
       "TRONROUT0000000032834969      Quasi-autoroute     N11                 None   \n",
       "TRONROUT0000000032983102   Route à 1 chaussée    D114         RTE DE COZES   \n",
       "TRONROUT0000000032983099   Route à 1 chaussée    D114       R SAINT-TROJAN   \n",
       "TRONROUT0000000032982975   Route à 1 chaussée      D6       RTE DE SAINTES   \n",
       "TRONROUT0000000032983101   Route à 1 chaussée    D114       R SAINT-TROJAN   \n",
       "TRONROUT0000000032987769   Route à 1 chaussée      D6       RTE DE GEMOZAC   \n",
       "TRONROUT0000000032987798   Route à 1 chaussée    D142                 None   \n",
       "\n",
       "                                   nom_voie_d importance        cl_admin  ...  \\\n",
       "TRONROUT0000000129676367                 None          1       Nationale  ...   \n",
       "TRONROUT0000000039535349                 None          3       Nationale  ...   \n",
       "TRONROUT0000000032830745                 None          1       Nationale  ...   \n",
       "TRONROUT0000000032830722                 None          1       Nationale  ...   \n",
       "TRONROUT0000000129676495                 None          1       Nationale  ...   \n",
       "TRONROUT0000000032830721                 None          1       Nationale  ...   \n",
       "TRONROUT0000000129704339                 None          3  Départementale  ...   \n",
       "TRONROUT0000000032826062                 None          3  Départementale  ...   \n",
       "TRONROUT0000000129830538                 None          3  Départementale  ...   \n",
       "TRONROUT0000000032861713                 None          2  Départementale  ...   \n",
       "TRONROUT0000000032831771                 None          1       Nationale  ...   \n",
       "TRONROUT0000000032867128                 None          3  Départementale  ...   \n",
       "TRONROUT0000000032828762                 None          3  Départementale  ...   \n",
       "TRONROUT0000000032831888                 None          1       Nationale  ...   \n",
       "TRONROUT0000000032831835                 None          1       Nationale  ...   \n",
       "TRONROUT0000000032831832                 None          1       Nationale  ...   \n",
       "TRONROUT0000000032863691  R OLIVIER BRILLOUET          2  Départementale  ...   \n",
       "TRONROUT0000000032863706  R OLIVIER BRILLOUET          2  Départementale  ...   \n",
       "TRONROUT0000000032863178            GRAND RUE          3  Départementale  ...   \n",
       "TRONROUT0000000032863707  R OLIVIER BRILLOUET          2  Départementale  ...   \n",
       "TRONROUT0000000032830614                 None          3  Départementale  ...   \n",
       "TRONROUT0000000032865298  R OLIVIER BRILLOUET          2  Départementale  ...   \n",
       "TRONROUT0000000032848846     CHE DES REMPARTS          3           Autre  ...   \n",
       "TRONROUT0000000032846690    AV DE LA REPENTIE          3           Autre  ...   \n",
       "TRONROUT0000000032851393                 None          3  Départementale  ...   \n",
       "TRONROUT0000000032846654    AV DE LA REPENTIE          3           Autre  ...   \n",
       "TRONROUT0000000032846643    AV DE LA REPENTIE          3           Autre  ...   \n",
       "TRONROUT0000000032854685                 None          3  Départementale  ...   \n",
       "TRONROUT0000000130579464         R DU CHATEAU          3  Départementale  ...   \n",
       "TRONROUT0000000032836517                 None          3  Départementale  ...   \n",
       "...                                       ...        ...             ...  ...   \n",
       "TRONROUT0000000032981543        RTE DE PISANY          3  Départementale  ...   \n",
       "TRONROUT0000000032981537                 None          3  Départementale  ...   \n",
       "TRONROUT0000000113489745                 None          3  Départementale  ...   \n",
       "TRONROUT0000000032849804                 None          3       Nationale  ...   \n",
       "TRONROUT0000000032849802                 None          3       Nationale  ...   \n",
       "TRONROUT0000000032849808                 None          3       Nationale  ...   \n",
       "TRONROUT0000000032846617                 None          3       Nationale  ...   \n",
       "TRONROUT0000000039535334                 None          3       Nationale  ...   \n",
       "TRONROUT0000000039535344                 None          3       Nationale  ...   \n",
       "TRONROUT0000000032825857                 None          3  Départementale  ...   \n",
       "TRONROUT0000000032844447                 None          3  Départementale  ...   \n",
       "TRONROUT0000000032861009                 None          3           Autre  ...   \n",
       "TRONROUT0000000032826215                 None          3  Départementale  ...   \n",
       "TRONROUT0000000200796436                 None          3           Autre  ...   \n",
       "TRONROUT0000000032981379                 None          3  Départementale  ...   \n",
       "TRONROUT0000000032981545                 None          3  Départementale  ...   \n",
       "TRONROUT0000000032981560                 None          3  Départementale  ...   \n",
       "TRONROUT0000000032981559                 None          3  Départementale  ...   \n",
       "TRONROUT0000000032981561                 None          3  Départementale  ...   \n",
       "TRONROUT0000000032994916                 None          3  Départementale  ...   \n",
       "TRONROUT0000000032994938          R DU DONJON          3  Départementale  ...   \n",
       "TRONROUT0000000032997384                 None          3  Départementale  ...   \n",
       "TRONROUT0000000032839287                 None          1       Nationale  ...   \n",
       "TRONROUT0000000032834969                 None          1       Nationale  ...   \n",
       "TRONROUT0000000032983102         RTE DE COZES          3  Départementale  ...   \n",
       "TRONROUT0000000032983099       R SAINT-TROJAN          3  Départementale  ...   \n",
       "TRONROUT0000000032982975       RTE DE SAINTES          3  Départementale  ...   \n",
       "TRONROUT0000000032983101       R SAINT-TROJAN          3  Départementale  ...   \n",
       "TRONROUT0000000032987769       RTE DE GEMOZAC          3  Départementale  ...   \n",
       "TRONROUT0000000032987798                 None          3  Départementale  ...   \n",
       "\n",
       "                         np_ref id_tronc_e  \\\n",
       "TRONROUT0000000129676367   None       3119   \n",
       "TRONROUT0000000039535349   None         60   \n",
       "TRONROUT0000000032830745   None        962   \n",
       "TRONROUT0000000032830722   None        962   \n",
       "TRONROUT0000000129676495   None       3558   \n",
       "TRONROUT0000000032830721   None        962   \n",
       "TRONROUT0000000129704339   None          4   \n",
       "TRONROUT0000000032826062   None        684   \n",
       "TRONROUT0000000129830538   None          8   \n",
       "TRONROUT0000000032861713   None         48   \n",
       "TRONROUT0000000032831771   None        865   \n",
       "TRONROUT0000000032867128   None          7   \n",
       "TRONROUT0000000032828762   None          8   \n",
       "TRONROUT0000000032831888   None        962   \n",
       "TRONROUT0000000032831835   None        962   \n",
       "TRONROUT0000000032831832   None        962   \n",
       "TRONROUT0000000032863691   None         48   \n",
       "TRONROUT0000000032863706   None         48   \n",
       "TRONROUT0000000032863178   None         12   \n",
       "TRONROUT0000000032863707   None         48   \n",
       "TRONROUT0000000032830614   None        788   \n",
       "TRONROUT0000000032865298   None         48   \n",
       "TRONROUT0000000032848846   None         14   \n",
       "TRONROUT0000000032846690   None         14   \n",
       "TRONROUT0000000032851393   None       1380   \n",
       "TRONROUT0000000032846654   None         14   \n",
       "TRONROUT0000000032846643   None         14   \n",
       "TRONROUT0000000032854685   None         80   \n",
       "TRONROUT0000000130579464   None         80   \n",
       "TRONROUT0000000032836517   None       1635   \n",
       "...                         ...        ...   \n",
       "TRONROUT0000000032981543   None         58   \n",
       "TRONROUT0000000032981537   None         58   \n",
       "TRONROUT0000000113489745   None         59   \n",
       "TRONROUT0000000032849804   None         60   \n",
       "TRONROUT0000000032849802   None         60   \n",
       "TRONROUT0000000032849808   None         60   \n",
       "TRONROUT0000000032846617   None         60   \n",
       "TRONROUT0000000039535334   None         60   \n",
       "TRONROUT0000000039535344   None         60   \n",
       "TRONROUT0000000032825857   None        684   \n",
       "TRONROUT0000000032844447   None        148   \n",
       "TRONROUT0000000032861009   None       1860   \n",
       "TRONROUT0000000032826215   None        660   \n",
       "TRONROUT0000000200796436   None       5463   \n",
       "TRONROUT0000000032981379   None       1678   \n",
       "TRONROUT0000000032981545   None         58   \n",
       "TRONROUT0000000032981560   None         58   \n",
       "TRONROUT0000000032981559   None         58   \n",
       "TRONROUT0000000032981561   None         58   \n",
       "TRONROUT0000000032994916   None        317   \n",
       "TRONROUT0000000032994938   None        317   \n",
       "TRONROUT0000000032997384   None        317   \n",
       "TRONROUT0000000032839287   None       2424   \n",
       "TRONROUT0000000032834969   None       2424   \n",
       "TRONROUT0000000032983102   None         38   \n",
       "TRONROUT0000000032983099   None       1537   \n",
       "TRONROUT0000000032982975   None       1678   \n",
       "TRONROUT0000000032983101   None       5751   \n",
       "TRONROUT0000000032987769   None       1678   \n",
       "TRONROUT0000000032987798   None         40   \n",
       "\n",
       "                                                                       geom  \\\n",
       "TRONROUT0000000129676367  (LINESTRING (383234.8999999997 6568234.1999999...   \n",
       "TRONROUT0000000039535349  (LINESTRING (375627.4999999997 6570910.6999999...   \n",
       "TRONROUT0000000032830745  (LINESTRING (397622.8999999997 6577285.7999999...   \n",
       "TRONROUT0000000032830722  (LINESTRING (397720.6999999997 6577238.5999999...   \n",
       "TRONROUT0000000129676495  (LINESTRING (382347.8999999997 6571899.9999999...   \n",
       "TRONROUT0000000032830721  (LINESTRING (397720.6999999997 6577238.5999999...   \n",
       "TRONROUT0000000129704339  (LINESTRING (390249.8999999997 6585946.0999999...   \n",
       "TRONROUT0000000032826062  (LINESTRING (406730.2999999997 6582333.9999999...   \n",
       "TRONROUT0000000129830538  (LINESTRING (401056.0999999996 6577431.0999999...   \n",
       "TRONROUT0000000032861713  (LINESTRING (412267.3999999997 6566203.6999999...   \n",
       "TRONROUT0000000032831771  (LINESTRING (401294.3999999997 6576988.0999999...   \n",
       "TRONROUT0000000032867128  (LINESTRING (395663.7999999996 6563284.0999999...   \n",
       "TRONROUT0000000032828762  (LINESTRING (401086.5999999997 6579470.9999999...   \n",
       "TRONROUT0000000032831888  (LINESTRING (399928.4999999997 6577039.3999999...   \n",
       "TRONROUT0000000032831835  (LINESTRING (400631.1999999997 6577025.6999999...   \n",
       "TRONROUT0000000032831832  (LINESTRING (400934.9999999997 6577019.6999999...   \n",
       "TRONROUT0000000032863691  (LINESTRING (411097.6999999997 6564505.6999999...   \n",
       "TRONROUT0000000032863706  (LINESTRING (410889.9999999997 6564203.3999999...   \n",
       "TRONROUT0000000032863178  (LINESTRING (389374.9999999996 6565449.1999999...   \n",
       "TRONROUT0000000032863707  (LINESTRING (410740.8999999997 6563986.1999999...   \n",
       "TRONROUT0000000032830614  (LINESTRING (406204.9999999997 6577638.1999999...   \n",
       "TRONROUT0000000032865298  (LINESTRING (410669.9999999997 6563884.2999999...   \n",
       "TRONROUT0000000032848846  (LINESTRING (379716.1999999996 6571488.5999999...   \n",
       "TRONROUT0000000032846690  (LINESTRING (375740.8999999997 6572027.3999999...   \n",
       "TRONROUT0000000032851393  (LINESTRING (404371.9999999996 6569911.2999999...   \n",
       "TRONROUT0000000032846654  (LINESTRING (375730.0999999996 6572054.0999999...   \n",
       "TRONROUT0000000032846643  (LINESTRING (375563.2999999997 6572102.9999999...   \n",
       "TRONROUT0000000032854685  (LINESTRING (411658.8999999997 6569333.7999999...   \n",
       "TRONROUT0000000130579464  (LINESTRING (411317.9999999998 6569133.2999999...   \n",
       "TRONROUT0000000032836517  (LINESTRING (363187.8999999998 6575310.2999999...   \n",
       "...                                                                     ...   \n",
       "TRONROUT0000000032981543  (LINESTRING (409506.8999999997 6515890.6999999...   \n",
       "TRONROUT0000000032981537  (LINESTRING (409506.8999999997 6515890.6999999...   \n",
       "TRONROUT0000000113489745  (LINESTRING (401809.4999999997 6573505.0999999...   \n",
       "TRONROUT0000000032849804  (LINESTRING (376563.1999999997 6571290.0999999...   \n",
       "TRONROUT0000000032849802  (LINESTRING (376680.7999999996 6571606.4999999...   \n",
       "TRONROUT0000000032849808  (LINESTRING (376785.1999999997 6571794.1999999...   \n",
       "TRONROUT0000000032846617  (LINESTRING (376819.4999999997 6571889.5999999...   \n",
       "TRONROUT0000000039535334  (LINESTRING (376504.1999999997 6571200.2999999...   \n",
       "TRONROUT0000000039535344  (LINESTRING (376287.4999999997 6571247.1999999...   \n",
       "TRONROUT0000000032825857  (LINESTRING (407279.4999999997 6583123.3999999...   \n",
       "TRONROUT0000000032844447  (LINESTRING (404285.7999999997 6572159.3999999...   \n",
       "TRONROUT0000000032861009  (LINESTRING (383535.1999999997 6567281.1999999...   \n",
       "TRONROUT0000000032826215  (LINESTRING (386874.5999999997 6582587.1999999...   \n",
       "TRONROUT0000000200796436  (LINESTRING (383528.4999999997 6567238.3999999...   \n",
       "TRONROUT0000000032981379  (LINESTRING (416313.9999999997 6516124.5999999...   \n",
       "TRONROUT0000000032981545  (LINESTRING (408433.3999999998 6516404.1999999...   \n",
       "TRONROUT0000000032981560  (LINESTRING (408818.2999999998 6516113.5999999...   \n",
       "TRONROUT0000000032981559  (LINESTRING (409184.5999999996 6516005.9999999...   \n",
       "TRONROUT0000000032981561  (LINESTRING (408911.0999999996 6516073.8999999...   \n",
       "TRONROUT0000000032994916  (LINESTRING (416688.3999999997 6509125.4999999...   \n",
       "TRONROUT0000000032994938  (LINESTRING (416467.2999999996 6509372.9999999...   \n",
       "TRONROUT0000000032997384  (LINESTRING (416948.7999999996 6508731.9999999...   \n",
       "TRONROUT0000000032839287  (LINESTRING (413672.5999999996 6573624.0999999...   \n",
       "TRONROUT0000000032834969  (LINESTRING (411503.4999999998 6574693.0999999...   \n",
       "TRONROUT0000000032983102  (LINESTRING (409719.2999999997 6515392.1999999...   \n",
       "TRONROUT0000000032983099  (LINESTRING (409923.6999999996 6515657.1999999...   \n",
       "TRONROUT0000000032982975  (LINESTRING (415868.6999999998 6514912.4999999...   \n",
       "TRONROUT0000000032983101  (LINESTRING (409933.6999999996 6515506.3999999...   \n",
       "TRONROUT0000000032987769  (LINESTRING (415369.2999999996 6513561.3999999...   \n",
       "TRONROUT0000000032987798  (LINESTRING (413466.4999999997 6512491.5999999...   \n",
       "\n",
       "                         nb_intrsct_src                          src_geom  \\\n",
       "TRONROUT0000000129676367              2  POINT(383234.9 6568234.19999999)   \n",
       "TRONROUT0000000039535349              2  POINT(375627.5 6570910.69999999)   \n",
       "TRONROUT0000000032830745              2  POINT(397622.9 6577285.79999999)   \n",
       "TRONROUT0000000032830722              2  POINT(397720.7 6577238.59999999)   \n",
       "TRONROUT0000000129676495              4  POINT(382347.9 6571899.99999999)   \n",
       "TRONROUT0000000032830721              2  POINT(397720.7 6577238.59999999)   \n",
       "TRONROUT0000000129704339              2  POINT(390249.9 6585946.09999999)   \n",
       "TRONROUT0000000032826062              2  POINT(406730.3 6582333.99999999)   \n",
       "TRONROUT0000000129830538              3  POINT(401056.1 6577431.09999999)   \n",
       "TRONROUT0000000032861713              2  POINT(412267.4 6566203.69999999)   \n",
       "TRONROUT0000000032831771              3  POINT(401294.4 6576988.09999999)   \n",
       "TRONROUT0000000032867128              2  POINT(395663.8 6563284.09999999)   \n",
       "TRONROUT0000000032828762              2  POINT(401086.6 6579470.99999999)   \n",
       "TRONROUT0000000032831888              2  POINT(399928.5 6577039.39999999)   \n",
       "TRONROUT0000000032831835              2  POINT(400631.2 6577025.69999999)   \n",
       "TRONROUT0000000032831832              3    POINT(400935 6577019.69999999)   \n",
       "TRONROUT0000000032863691              2  POINT(411097.7 6564505.69999999)   \n",
       "TRONROUT0000000032863706              2    POINT(410890 6564203.39999999)   \n",
       "TRONROUT0000000032863178              2    POINT(389375 6565449.19999999)   \n",
       "TRONROUT0000000032863707              2  POINT(410740.9 6563986.19999999)   \n",
       "TRONROUT0000000032830614              3    POINT(406205 6577638.19999999)   \n",
       "TRONROUT0000000032865298              4    POINT(410670 6563884.29999999)   \n",
       "TRONROUT0000000032848846              2  POINT(379716.2 6571488.59999999)   \n",
       "TRONROUT0000000032846690              2  POINT(375740.9 6572027.39999999)   \n",
       "TRONROUT0000000032851393              2    POINT(404372 6569911.29999999)   \n",
       "TRONROUT0000000032846654              2  POINT(375730.1 6572054.09999999)   \n",
       "TRONROUT0000000032846643              2  POINT(375563.3 6572102.99999999)   \n",
       "TRONROUT0000000032854685              2  POINT(411658.9 6569333.79999999)   \n",
       "TRONROUT0000000130579464              2    POINT(411318 6569133.29999999)   \n",
       "TRONROUT0000000032836517              2  POINT(363187.9 6575310.29999999)   \n",
       "...                                 ...                               ...   \n",
       "TRONROUT0000000032981543              2  POINT(409506.9 6515890.69999999)   \n",
       "TRONROUT0000000032981537              2  POINT(409506.9 6515890.69999999)   \n",
       "TRONROUT0000000113489745              2  POINT(401809.5 6573505.09999999)   \n",
       "TRONROUT0000000032849804              2  POINT(376563.2 6571290.09999999)   \n",
       "TRONROUT0000000032849802              2  POINT(376680.8 6571606.49999999)   \n",
       "TRONROUT0000000032849808              2  POINT(376785.2 6571794.19999999)   \n",
       "TRONROUT0000000032846617              3  POINT(376819.5 6571889.59999999)   \n",
       "TRONROUT0000000039535334              3  POINT(376504.2 6571200.29999999)   \n",
       "TRONROUT0000000039535344              2  POINT(376287.5 6571247.19999999)   \n",
       "TRONROUT0000000032825857              2  POINT(407279.5 6583123.39999999)   \n",
       "TRONROUT0000000032844447              2  POINT(404285.8 6572159.39999999)   \n",
       "TRONROUT0000000032861009              4  POINT(383535.2 6567281.19999999)   \n",
       "TRONROUT0000000032826215              2  POINT(386874.6 6582587.19999999)   \n",
       "TRONROUT0000000200796436              2  POINT(383528.5 6567238.39999999)   \n",
       "TRONROUT0000000032981379              2    POINT(416314 6516124.59999999)   \n",
       "TRONROUT0000000032981545              2  POINT(408433.4 6516404.19999999)   \n",
       "TRONROUT0000000032981560              2  POINT(408818.3 6516113.59999999)   \n",
       "TRONROUT0000000032981559              2  POINT(409184.6 6516005.99999999)   \n",
       "TRONROUT0000000032981561              2  POINT(408911.1 6516073.89999999)   \n",
       "TRONROUT0000000032994916              2  POINT(416688.4 6509125.49999999)   \n",
       "TRONROUT0000000032994938              2  POINT(416467.3 6509372.99999999)   \n",
       "TRONROUT0000000032997384              2  POINT(416948.8 6508731.99999999)   \n",
       "TRONROUT0000000032839287              2  POINT(413672.6 6573624.09999999)   \n",
       "TRONROUT0000000032834969              2  POINT(411503.5 6574693.09999999)   \n",
       "TRONROUT0000000032983102              2  POINT(409719.3 6515392.19999999)   \n",
       "TRONROUT0000000032983099              2  POINT(409923.7 6515657.19999999)   \n",
       "TRONROUT0000000032982975              2  POINT(415868.7 6514912.49999999)   \n",
       "TRONROUT0000000032983101              3  POINT(409933.7 6515506.39999999)   \n",
       "TRONROUT0000000032987769              2  POINT(415369.3 6513561.39999999)   \n",
       "TRONROUT0000000032987798              2  POINT(413466.5 6512491.59999999)   \n",
       "\n",
       "                         nb_intrsct_tgt  \\\n",
       "TRONROUT0000000129676367              2   \n",
       "TRONROUT0000000039535349              3   \n",
       "TRONROUT0000000032830745              2   \n",
       "TRONROUT0000000032830722              2   \n",
       "TRONROUT0000000129676495              3   \n",
       "TRONROUT0000000032830721              2   \n",
       "TRONROUT0000000129704339              2   \n",
       "TRONROUT0000000032826062              2   \n",
       "TRONROUT0000000129830538              2   \n",
       "TRONROUT0000000032861713              2   \n",
       "TRONROUT0000000032831771              2   \n",
       "TRONROUT0000000032867128              1   \n",
       "TRONROUT0000000032828762              2   \n",
       "TRONROUT0000000032831888              2   \n",
       "TRONROUT0000000032831835              2   \n",
       "TRONROUT0000000032831832              2   \n",
       "TRONROUT0000000032863691              2   \n",
       "TRONROUT0000000032863706              2   \n",
       "TRONROUT0000000032863178              2   \n",
       "TRONROUT0000000032863707              2   \n",
       "TRONROUT0000000032830614              2   \n",
       "TRONROUT0000000032865298              2   \n",
       "TRONROUT0000000032848846              2   \n",
       "TRONROUT0000000032846690              2   \n",
       "TRONROUT0000000032851393              2   \n",
       "TRONROUT0000000032846654              2   \n",
       "TRONROUT0000000032846643              2   \n",
       "TRONROUT0000000032854685              2   \n",
       "TRONROUT0000000130579464              2   \n",
       "TRONROUT0000000032836517              2   \n",
       "...                                 ...   \n",
       "TRONROUT0000000032981543              2   \n",
       "TRONROUT0000000032981537              2   \n",
       "TRONROUT0000000113489745              2   \n",
       "TRONROUT0000000032849804              3   \n",
       "TRONROUT0000000032849802              3   \n",
       "TRONROUT0000000032849808              2   \n",
       "TRONROUT0000000032846617              2   \n",
       "TRONROUT0000000039535334              2   \n",
       "TRONROUT0000000039535344              3   \n",
       "TRONROUT0000000032825857              2   \n",
       "TRONROUT0000000032844447              2   \n",
       "TRONROUT0000000032861009              3   \n",
       "TRONROUT0000000032826215              2   \n",
       "TRONROUT0000000200796436              3   \n",
       "TRONROUT0000000032981379              2   \n",
       "TRONROUT0000000032981545              2   \n",
       "TRONROUT0000000032981560              2   \n",
       "TRONROUT0000000032981559              2   \n",
       "TRONROUT0000000032981561              2   \n",
       "TRONROUT0000000032994916              2   \n",
       "TRONROUT0000000032994938              2   \n",
       "TRONROUT0000000032997384              2   \n",
       "TRONROUT0000000032839287              2   \n",
       "TRONROUT0000000032834969              3   \n",
       "TRONROUT0000000032983102              2   \n",
       "TRONROUT0000000032983099              2   \n",
       "TRONROUT0000000032982975              2   \n",
       "TRONROUT0000000032983101              2   \n",
       "TRONROUT0000000032987769              2   \n",
       "TRONROUT0000000032987798              2   \n",
       "\n",
       "                                                          tgt_geom id_rdpt  \\\n",
       "TRONROUT0000000129676367          POINT(383302.7 6568058.59999999)     NaN   \n",
       "TRONROUT0000000039535349          POINT(375650.2 6570909.49999999)     0.0   \n",
       "TRONROUT0000000032830745          POINT(397359.5 6577388.09999999)     NaN   \n",
       "TRONROUT0000000032830722          POINT(397622.9 6577285.79999999)     NaN   \n",
       "TRONROUT0000000129676495          POINT(382468.5 6571945.39999999)     NaN   \n",
       "TRONROUT0000000032830721          POINT(397752.9 6577223.09999999)     NaN   \n",
       "TRONROUT0000000129704339          POINT(390342.6 6585938.79999999)     NaN   \n",
       "TRONROUT0000000032826062          POINT(406670.1 6582504.79999999)     NaN   \n",
       "TRONROUT0000000129830538          POINT(401072.5 6577362.09999999)     NaN   \n",
       "TRONROUT0000000032861713          POINT(412296.7 6566249.19999999)     NaN   \n",
       "TRONROUT0000000032831771          POINT(401839.7 6576859.39999999)     NaN   \n",
       "TRONROUT0000000032867128          POINT(395663.8 6563272.79999999)     NaN   \n",
       "TRONROUT0000000032828762          POINT(401090.9 6579612.29999999)     NaN   \n",
       "TRONROUT0000000032831888          POINT(397752.9 6577223.09999999)     NaN   \n",
       "TRONROUT0000000032831835          POINT(400605.7 6577025.49999999)     NaN   \n",
       "TRONROUT0000000032831832          POINT(400631.2 6577025.69999999)     NaN   \n",
       "TRONROUT0000000032863691          POINT(410994.6 6564355.79999999)     NaN   \n",
       "TRONROUT0000000032863706          POINT(410922.2 6564250.39999999)     NaN   \n",
       "TRONROUT0000000032863178  POINT(389392.599999999 6565439.39999999)     NaN   \n",
       "TRONROUT0000000032863707            POINT(410890 6564203.39999999)     NaN   \n",
       "TRONROUT0000000032830614          POINT(406187.9 6577487.79999999)     NaN   \n",
       "TRONROUT0000000032865298          POINT(410740.9 6563986.19999999)     NaN   \n",
       "TRONROUT0000000032848846          POINT(379718.9 6571495.69999999)     NaN   \n",
       "TRONROUT0000000032846690          POINT(375730.1 6572054.09999999)     NaN   \n",
       "TRONROUT0000000032851393          POINT(404381.5 6569904.69999999)     NaN   \n",
       "TRONROUT0000000032846654          POINT(375637.4 6572081.69999999)     NaN   \n",
       "TRONROUT0000000032846643          POINT(375637.4 6572081.69999999)     NaN   \n",
       "TRONROUT0000000032854685          POINT(411665.8 6569337.89999999)     NaN   \n",
       "TRONROUT0000000130579464          POINT(411453.2 6569212.39999999)     NaN   \n",
       "TRONROUT0000000032836517          POINT(363197.7 6575294.89999999)     NaN   \n",
       "...                                                            ...     ...   \n",
       "TRONROUT0000000032981543          POINT(409562.5 6515850.99999999)     NaN   \n",
       "TRONROUT0000000032981537          POINT(409184.6 6516005.99999999)     NaN   \n",
       "TRONROUT0000000113489745          POINT(401797.3 6573517.39999999)     7.0   \n",
       "TRONROUT0000000032849804          POINT(376633.4 6571462.99999999)     NaN   \n",
       "TRONROUT0000000032849802          POINT(376633.4 6571462.99999999)     NaN   \n",
       "TRONROUT0000000032849808          POINT(376680.8 6571606.49999999)     NaN   \n",
       "TRONROUT0000000032846617          POINT(376785.2 6571794.19999999)     NaN   \n",
       "TRONROUT0000000039535334          POINT(376506.6 6571193.39999999)     9.0   \n",
       "TRONROUT0000000039535344          POINT(375675.6 6570914.29999999)     NaN   \n",
       "TRONROUT0000000032825857          POINT(407272.7 6583110.19999999)     NaN   \n",
       "TRONROUT0000000032844447          POINT(404291.9 6572164.59999999)     NaN   \n",
       "TRONROUT0000000032861009          POINT(383531.5 6567292.19999999)     NaN   \n",
       "TRONROUT0000000032826215          POINT(386874.6 6582593.59999999)     NaN   \n",
       "TRONROUT0000000200796436          POINT(383535.7 6567267.39999999)     NaN   \n",
       "TRONROUT0000000032981379          POINT(416346.9 6516187.79999999)     NaN   \n",
       "TRONROUT0000000032981545            POINT(408003 6516831.39999999)     NaN   \n",
       "TRONROUT0000000032981560          POINT(408693.4 6516191.39999999)     NaN   \n",
       "TRONROUT0000000032981559          POINT(408911.1 6516073.89999999)     NaN   \n",
       "TRONROUT0000000032981561          POINT(408818.3 6516113.59999999)     NaN   \n",
       "TRONROUT0000000032994916          POINT(416722.3 6509097.99999999)     NaN   \n",
       "TRONROUT0000000032994938          POINT(416688.4 6509125.49999999)     NaN   \n",
       "TRONROUT0000000032997384          POINT(417304.6 6507486.29999999)     NaN   \n",
       "TRONROUT0000000032839287          POINT(413680.1 6573620.39999999)     NaN   \n",
       "TRONROUT0000000032834969            POINT(411361 6574747.69999999)     NaN   \n",
       "TRONROUT0000000032983102          POINT(409538.7 6515299.19999999)     NaN   \n",
       "TRONROUT0000000032983099            POINT(409976 6515767.09999999)     NaN   \n",
       "TRONROUT0000000032982975          POINT(415988.2 6515264.39999999)     NaN   \n",
       "TRONROUT0000000032983101          POINT(409892.1 6515572.89999999)     NaN   \n",
       "TRONROUT0000000032987769          POINT(415539.9 6512983.69999999)     NaN   \n",
       "TRONROUT0000000032987798          POINT(413623.4 6512420.49999999)     NaN   \n",
       "\n",
       "                          nb_rte_rdpt  nom_rte_rdpt  \n",
       "TRONROUT0000000129676367          NaN           NaN  \n",
       "TRONROUT0000000039535349          1.0          N537  \n",
       "TRONROUT0000000032830745          NaN           NaN  \n",
       "TRONROUT0000000032830722          NaN           NaN  \n",
       "TRONROUT0000000129676495          NaN           NaN  \n",
       "TRONROUT0000000032830721          NaN           NaN  \n",
       "TRONROUT0000000129704339          NaN           NaN  \n",
       "TRONROUT0000000032826062          NaN           NaN  \n",
       "TRONROUT0000000129830538          NaN           NaN  \n",
       "TRONROUT0000000032861713          NaN           NaN  \n",
       "TRONROUT0000000032831771          NaN           NaN  \n",
       "TRONROUT0000000032867128          NaN           NaN  \n",
       "TRONROUT0000000032828762          NaN           NaN  \n",
       "TRONROUT0000000032831888          NaN           NaN  \n",
       "TRONROUT0000000032831835          NaN           NaN  \n",
       "TRONROUT0000000032831832          NaN           NaN  \n",
       "TRONROUT0000000032863691          NaN           NaN  \n",
       "TRONROUT0000000032863706          NaN           NaN  \n",
       "TRONROUT0000000032863178          NaN           NaN  \n",
       "TRONROUT0000000032863707          NaN           NaN  \n",
       "TRONROUT0000000032830614          NaN           NaN  \n",
       "TRONROUT0000000032865298          NaN           NaN  \n",
       "TRONROUT0000000032848846          NaN           NaN  \n",
       "TRONROUT0000000032846690          NaN           NaN  \n",
       "TRONROUT0000000032851393          NaN           NaN  \n",
       "TRONROUT0000000032846654          NaN           NaN  \n",
       "TRONROUT0000000032846643          NaN           NaN  \n",
       "TRONROUT0000000032854685          NaN           NaN  \n",
       "TRONROUT0000000130579464          NaN           NaN  \n",
       "TRONROUT0000000032836517          NaN           NaN  \n",
       "...                               ...           ...  \n",
       "TRONROUT0000000032981543          NaN           NaN  \n",
       "TRONROUT0000000032981537          NaN           NaN  \n",
       "TRONROUT0000000113489745          1.0          D115  \n",
       "TRONROUT0000000032849804          NaN           NaN  \n",
       "TRONROUT0000000032849802          NaN           NaN  \n",
       "TRONROUT0000000032849808          NaN           NaN  \n",
       "TRONROUT0000000032846617          NaN           NaN  \n",
       "TRONROUT0000000039535334          1.0          N537  \n",
       "TRONROUT0000000039535344          NaN           NaN  \n",
       "TRONROUT0000000032825857          NaN           NaN  \n",
       "TRONROUT0000000032844447          NaN           NaN  \n",
       "TRONROUT0000000032861009          NaN           NaN  \n",
       "TRONROUT0000000032826215          NaN           NaN  \n",
       "TRONROUT0000000200796436          NaN           NaN  \n",
       "TRONROUT0000000032981379          NaN           NaN  \n",
       "TRONROUT0000000032981545          NaN           NaN  \n",
       "TRONROUT0000000032981560          NaN           NaN  \n",
       "TRONROUT0000000032981559          NaN           NaN  \n",
       "TRONROUT0000000032981561          NaN           NaN  \n",
       "TRONROUT0000000032994916          NaN           NaN  \n",
       "TRONROUT0000000032994938          NaN           NaN  \n",
       "TRONROUT0000000032997384          NaN           NaN  \n",
       "TRONROUT0000000032839287          NaN           NaN  \n",
       "TRONROUT0000000032834969          NaN           NaN  \n",
       "TRONROUT0000000032983102          NaN           NaN  \n",
       "TRONROUT0000000032983099          NaN           NaN  \n",
       "TRONROUT0000000032982975          NaN           NaN  \n",
       "TRONROUT0000000032983101          NaN           NaN  \n",
       "TRONROUT0000000032987769          NaN           NaN  \n",
       "TRONROUT0000000032987798          NaN           NaN  \n",
       "\n",
       "[5772 rows x 50 columns]"
      ]
     },
     "execution_count": 38,
     "metadata": {},
     "output_type": "execute_result"
    }
   ],
   "source": [
    "df_rdpt"
   ]
  },
  {
   "cell_type": "code",
   "execution_count": 24,
   "metadata": {},
   "outputs": [],
   "source": [
    "toto=list(at.recup_troncon_elementaire('TRONROUT0000000201901354'))"
   ]
  },
  {
   "cell_type": "code",
   "execution_count": 25,
   "metadata": {},
   "outputs": [],
   "source": [
    "toto.append('TRONROUT0000000201901354')"
   ]
  },
  {
   "cell_type": "code",
   "execution_count": 26,
   "metadata": {},
   "outputs": [
    {
     "data": {
      "text/plain": [
       "['TRONROUT0000000201901382',\n",
       " 'TRONROUT0000000201901385',\n",
       " 'TRONROUT0000000201901386',\n",
       " 'TRONROUT0000000201901353',\n",
       " 'TRONROUT0000000202559715',\n",
       " 'TRONROUT0000000032976292',\n",
       " 'TRONROUT0000000032976298',\n",
       " 'TRONROUT0000000201901354']"
      ]
     },
     "execution_count": 26,
     "metadata": {},
     "output_type": "execute_result"
    }
   ],
   "source": [
    "toto"
   ]
  },
  {
   "cell_type": "code",
   "execution_count": 8,
   "metadata": {},
   "outputs": [
    {
     "name": "stderr",
     "output_type": "stream",
     "text": [
      "C:\\Users\\martin.schoreisz\\git\\otv\\otv\\Transfert_Donnees\\agrege_troncon.py:184: SettingWithCopyWarning: \n",
      "A value is trying to be set on a copy of a slice from a DataFrame.\n",
      "Try using .loc[row_indexer,col_indexer] = value instead\n",
      "\n",
      "See the caveats in the documentation: http://pandas.pydata.org/pandas-docs/stable/indexing.html#indexing-view-versus-copy\n",
      "  ligne_filtres['distance']=ligne_filtres.geom.apply(lambda x : gdf_lignes2.centroid.distance(x))\n"
     ]
    },
    {
     "data": {
      "text/plain": [
       "'TRONROUT0000000202559739'"
      ]
     },
     "execution_count": 8,
     "metadata": {},
     "output_type": "execute_result"
    }
   ],
   "source": [
    "at.recup_troncon_parallele_v2(df,toto)"
   ]
  },
  {
   "cell_type": "code",
   "execution_count": null,
   "metadata": {},
   "outputs": [],
   "source": [
    "tata=at.affecter_troncon(df)"
   ]
  },
  {
   "cell_type": "code",
   "execution_count": 45,
   "metadata": {},
   "outputs": [
    {
     "name": "stdout",
     "output_type": "stream",
     "text": [
      "Index(['gid', 'id', 'prec_plani', 'prec_alti', 'nature', 'numero',\n",
      "       'nom_voie_g', 'nom_voie_d', 'importance', 'cl_admin', 'gestion',\n",
      "       'mise_serv', 'it_vert', 'it_europ', 'fictif', 'franchisst', 'largeur',\n",
      "       'nom_iti', 'nb_voies', 'pos_sol', 'sens', 'alias_g', 'alias_d',\n",
      "       'inseecom_g', 'inseecom_d', 'codevoie_g', 'codevoie_d', 'codepost_g',\n",
      "       'codepost_d', 'typ_adres', 'bornedeb_g', 'bornedeb_d', 'bornefin_g',\n",
      "       'bornefin_d', 'etat', 'z_ini', 'z_fin', 'long_km', 'source', 'target',\n",
      "       'np_ref', 'id_tronc_e', 'geom', 'nb_intrsct_src', 'src_geom',\n",
      "       'nb_intrsct_tgt', 'tgt_geom', 'index_right', 'id_rdpt'],\n",
      "      dtype='object')\n",
      "0eme occurence : TRONROUT0000000129676367 à 23:00:48 nb ligne traite : 0, nb ligne differente=0\n"
     ]
    },
    {
     "name": "stderr",
     "output_type": "stream",
     "text": [
      "C:\\Users\\Martin\\git\\otv\\otv\\Transfert_Donnees\\agrege_troncon.py:229: SettingWithCopyWarning: \n",
      "A value is trying to be set on a copy of a slice from a DataFrame.\n",
      "Try using .loc[row_indexer,col_indexer] = value instead\n",
      "\n",
      "See the caveats in the documentation: http://pandas.pydata.org/pandas-docs/stable/indexing.html#indexing-view-versus-copy\n",
      "  ligne_filtres['distance']=ligne_filtres.geom.apply(lambda x : gdf_lignes2.centroid.distance(x))\n"
     ]
    },
    {
     "ename": "KeyError",
     "evalue": "\"None of [Float64Index([0.0, nan], dtype='float64')] are in the [index]\"",
     "output_type": "error",
     "traceback": [
      "\u001b[1;31m---------------------------------------------------------------------------\u001b[0m",
      "\u001b[1;31mKeyError\u001b[0m                                  Traceback (most recent call last)",
      "\u001b[1;32m<ipython-input-45-d2337e9b3a41>\u001b[0m in \u001b[0;36m<module>\u001b[1;34m\u001b[0m\n\u001b[0;32m      1\u001b[0m \u001b[0mdf_rd_pt\u001b[0m\u001b[1;33m=\u001b[0m\u001b[0mat\u001b[0m\u001b[1;33m.\u001b[0m\u001b[0midentifier_rd_pt\u001b[0m\u001b[1;33m(\u001b[0m\u001b[0mdf\u001b[0m\u001b[1;33m)\u001b[0m\u001b[1;33m\u001b[0m\u001b[1;33m\u001b[0m\u001b[0m\n\u001b[1;32m----> 2\u001b[1;33m \u001b[0mdico\u001b[0m\u001b[1;33m=\u001b[0m\u001b[0mat\u001b[0m\u001b[1;33m.\u001b[0m\u001b[0maffecter_troncon\u001b[0m\u001b[1;33m(\u001b[0m\u001b[0mdf_rd_pt\u001b[0m\u001b[1;33m)\u001b[0m\u001b[1;33m\u001b[0m\u001b[1;33m\u001b[0m\u001b[0m\n\u001b[0m\u001b[0;32m      3\u001b[0m \u001b[1;32mwith\u001b[0m \u001b[0mct\u001b[0m\u001b[1;33m.\u001b[0m\u001b[0mConnexionBdd\u001b[0m\u001b[1;33m(\u001b[0m\u001b[1;34m'local_otv'\u001b[0m\u001b[1;33m)\u001b[0m \u001b[1;32mas\u001b[0m \u001b[0mc\u001b[0m \u001b[1;33m:\u001b[0m\u001b[1;33m\u001b[0m\u001b[1;33m\u001b[0m\u001b[0m\n\u001b[0;32m      4\u001b[0m     \u001b[0mat\u001b[0m\u001b[1;33m.\u001b[0m\u001b[0minserer_dico\u001b[0m\u001b[1;33m(\u001b[0m\u001b[0mc\u001b[0m\u001b[1;33m,\u001b[0m \u001b[0mdico\u001b[0m\u001b[1;33m)\u001b[0m\u001b[1;33m\u001b[0m\u001b[1;33m\u001b[0m\u001b[0m\n",
      "\u001b[1;32m~\\git\\otv\\otv\\Transfert_Donnees\\agrege_troncon.py\u001b[0m in \u001b[0;36maffecter_troncon\u001b[1;34m(df)\u001b[0m\n\u001b[0;32m    259\u001b[0m                 \u001b[1;32mbreak\u001b[0m\u001b[1;33m\u001b[0m\u001b[1;33m\u001b[0m\u001b[0m\n\u001b[0;32m    260\u001b[0m             \u001b[1;31m#recuperation ds troncons connexes en cas simple\"\"\"\u001b[0m\u001b[1;33m\u001b[0m\u001b[1;33m\u001b[0m\u001b[1;33m\u001b[0m\u001b[0m\n\u001b[1;32m--> 261\u001b[1;33m             \u001b[0mliste_troncon\u001b[0m\u001b[1;33m=\u001b[0m\u001b[0mlist\u001b[0m\u001b[1;33m(\u001b[0m\u001b[0mrecup_troncon_elementaire\u001b[0m\u001b[1;33m(\u001b[0m\u001b[0mligne\u001b[0m\u001b[1;33m,\u001b[0m\u001b[0mdf\u001b[0m\u001b[1;33m,\u001b[0m\u001b[1;33m[\u001b[0m\u001b[1;33m]\u001b[0m\u001b[1;33m)\u001b[0m\u001b[1;33m)\u001b[0m\u001b[1;33m\u001b[0m\u001b[1;33m\u001b[0m\u001b[0m\n\u001b[0m\u001b[0;32m    262\u001b[0m             \u001b[0mliste_troncon\u001b[0m\u001b[1;33m.\u001b[0m\u001b[0mappend\u001b[0m\u001b[1;33m(\u001b[0m\u001b[0mligne\u001b[0m\u001b[1;33m)\u001b[0m\u001b[1;33m\u001b[0m\u001b[1;33m\u001b[0m\u001b[0m\n\u001b[0;32m    263\u001b[0m             \u001b[0mligne_traitee_global\u001b[0m\u001b[1;33m.\u001b[0m\u001b[0mupdate\u001b[0m\u001b[1;33m(\u001b[0m\u001b[0mliste_troncon\u001b[0m\u001b[1;33m)\u001b[0m\u001b[1;33m\u001b[0m\u001b[1;33m\u001b[0m\u001b[0m\n",
      "\u001b[1;32m~\\git\\otv\\otv\\Transfert_Donnees\\agrege_troncon.py\u001b[0m in \u001b[0;36mrecup_troncon_elementaire\u001b[1;34m(id_ign_ligne, df, ligne_traite_troncon)\u001b[0m\n\u001b[0;32m    107\u001b[0m                 \u001b[1;32mif\u001b[0m \u001b[1;33m(\u001b[0m\u001b[0mdf_ligne\u001b[0m\u001b[1;33m.\u001b[0m\u001b[0mloc\u001b[0m\u001b[1;33m[\u001b[0m\u001b[1;34m'numero'\u001b[0m\u001b[1;33m]\u001b[0m \u001b[1;33m==\u001b[0m \u001b[0mdf_touches_source\u001b[0m\u001b[1;33m[\u001b[0m\u001b[1;34m'numero'\u001b[0m\u001b[1;33m]\u001b[0m\u001b[1;33m)\u001b[0m\u001b[1;33m.\u001b[0m\u001b[0mall\u001b[0m\u001b[1;33m(\u001b[0m\u001b[1;33m)\u001b[0m \u001b[1;33m==\u001b[0m \u001b[1;36m1\u001b[0m \u001b[1;33m:\u001b[0m \u001b[1;31m#♠si eelles ont le mm nom on prend toutes les lignes\u001b[0m\u001b[1;33m\u001b[0m\u001b[1;33m\u001b[0m\u001b[0m\n\u001b[0;32m    108\u001b[0m                     \u001b[1;32mif\u001b[0m \u001b[0mdf_touches_source\u001b[0m\u001b[1;33m[\u001b[0m\u001b[1;34m'nature'\u001b[0m\u001b[1;33m]\u001b[0m\u001b[1;33m.\u001b[0m\u001b[0many\u001b[0m\u001b[1;33m(\u001b[0m\u001b[1;33m)\u001b[0m\u001b[1;33m==\u001b[0m\u001b[1;34m'Rd_pt'\u001b[0m \u001b[1;33m:\u001b[0m \u001b[1;31m#si une des lignes touchées est un rd point on prend toutes les autres du m^me rd point\u001b[0m\u001b[1;33m\u001b[0m\u001b[1;33m\u001b[0m\u001b[0m\n\u001b[1;32m--> 109\u001b[1;33m                         \u001b[0mliste_ligne_touchees\u001b[0m\u001b[1;33m.\u001b[0m\u001b[0mappend\u001b[0m\u001b[1;33m(\u001b[0m\u001b[0mdf\u001b[0m\u001b[1;33m.\u001b[0m\u001b[0mloc\u001b[0m\u001b[1;33m[\u001b[0m\u001b[0mdf\u001b[0m\u001b[1;33m.\u001b[0m\u001b[0mloc\u001b[0m\u001b[1;33m[\u001b[0m\u001b[1;33m:\u001b[0m\u001b[1;33m,\u001b[0m\u001b[1;34m'id_rdpt'\u001b[0m\u001b[1;33m]\u001b[0m\u001b[1;33m.\u001b[0m\u001b[0msort_index\u001b[0m\u001b[1;33m(\u001b[0m\u001b[1;33m)\u001b[0m\u001b[1;33m==\u001b[0m\u001b[0mdf_touches_source\u001b[0m\u001b[1;33m.\u001b[0m\u001b[0mloc\u001b[0m\u001b[1;33m[\u001b[0m\u001b[0mdf_touches_source\u001b[0m\u001b[1;33m.\u001b[0m\u001b[0mloc\u001b[0m\u001b[1;33m[\u001b[0m\u001b[1;33m:\u001b[0m\u001b[1;33m,\u001b[0m\u001b[1;34m'id_rdpt'\u001b[0m\u001b[1;33m]\u001b[0m\u001b[1;33m]\u001b[0m\u001b[1;33m.\u001b[0m\u001b[0msort_index\u001b[0m\u001b[1;33m(\u001b[0m\u001b[1;33m)\u001b[0m\u001b[1;33m]\u001b[0m\u001b[1;33m.\u001b[0m\u001b[0mindex\u001b[0m\u001b[1;33m.\u001b[0m\u001b[0mto_list\u001b[0m\u001b[1;33m(\u001b[0m\u001b[1;33m)\u001b[0m\u001b[1;33m)\u001b[0m\u001b[1;33m\u001b[0m\u001b[1;33m\u001b[0m\u001b[0m\n\u001b[0m\u001b[0;32m    110\u001b[0m                     \u001b[1;32mfor\u001b[0m \u001b[0mid_ign_suivant\u001b[0m \u001b[1;32min\u001b[0m \u001b[0mliste_ligne_touchees\u001b[0m\u001b[1;33m:\u001b[0m\u001b[1;33m\u001b[0m\u001b[1;33m\u001b[0m\u001b[0m\n\u001b[0;32m    111\u001b[0m                         \u001b[1;31m#print (f'fin traitement cas = 3 mm numero ; src : apres test isin : {datetime.now()}')\u001b[0m\u001b[1;33m\u001b[0m\u001b[1;33m\u001b[0m\u001b[1;33m\u001b[0m\u001b[0m\n",
      "\u001b[1;32mc:\\users\\martin\\appdata\\local\\programs\\python\\python37\\lib\\site-packages\\pandas\\core\\indexing.py\u001b[0m in \u001b[0;36m__getitem__\u001b[1;34m(self, key)\u001b[0m\n\u001b[0;32m   1498\u001b[0m \u001b[1;33m\u001b[0m\u001b[0m\n\u001b[0;32m   1499\u001b[0m             \u001b[0mmaybe_callable\u001b[0m \u001b[1;33m=\u001b[0m \u001b[0mcom\u001b[0m\u001b[1;33m.\u001b[0m\u001b[0mapply_if_callable\u001b[0m\u001b[1;33m(\u001b[0m\u001b[0mkey\u001b[0m\u001b[1;33m,\u001b[0m \u001b[0mself\u001b[0m\u001b[1;33m.\u001b[0m\u001b[0mobj\u001b[0m\u001b[1;33m)\u001b[0m\u001b[1;33m\u001b[0m\u001b[1;33m\u001b[0m\u001b[0m\n\u001b[1;32m-> 1500\u001b[1;33m             \u001b[1;32mreturn\u001b[0m \u001b[0mself\u001b[0m\u001b[1;33m.\u001b[0m\u001b[0m_getitem_axis\u001b[0m\u001b[1;33m(\u001b[0m\u001b[0mmaybe_callable\u001b[0m\u001b[1;33m,\u001b[0m \u001b[0maxis\u001b[0m\u001b[1;33m=\u001b[0m\u001b[0maxis\u001b[0m\u001b[1;33m)\u001b[0m\u001b[1;33m\u001b[0m\u001b[1;33m\u001b[0m\u001b[0m\n\u001b[0m\u001b[0;32m   1501\u001b[0m \u001b[1;33m\u001b[0m\u001b[0m\n\u001b[0;32m   1502\u001b[0m     \u001b[1;32mdef\u001b[0m \u001b[0m_is_scalar_access\u001b[0m\u001b[1;33m(\u001b[0m\u001b[0mself\u001b[0m\u001b[1;33m,\u001b[0m \u001b[0mkey\u001b[0m\u001b[1;33m)\u001b[0m\u001b[1;33m:\u001b[0m\u001b[1;33m\u001b[0m\u001b[1;33m\u001b[0m\u001b[0m\n",
      "\u001b[1;32mc:\\users\\martin\\appdata\\local\\programs\\python\\python37\\lib\\site-packages\\pandas\\core\\indexing.py\u001b[0m in \u001b[0;36m_getitem_axis\u001b[1;34m(self, key, axis)\u001b[0m\n\u001b[0;32m   1900\u001b[0m                     \u001b[1;32mraise\u001b[0m \u001b[0mValueError\u001b[0m\u001b[1;33m(\u001b[0m\u001b[1;34m'Cannot index with multidimensional key'\u001b[0m\u001b[1;33m)\u001b[0m\u001b[1;33m\u001b[0m\u001b[1;33m\u001b[0m\u001b[0m\n\u001b[0;32m   1901\u001b[0m \u001b[1;33m\u001b[0m\u001b[0m\n\u001b[1;32m-> 1902\u001b[1;33m                 \u001b[1;32mreturn\u001b[0m \u001b[0mself\u001b[0m\u001b[1;33m.\u001b[0m\u001b[0m_getitem_iterable\u001b[0m\u001b[1;33m(\u001b[0m\u001b[0mkey\u001b[0m\u001b[1;33m,\u001b[0m \u001b[0maxis\u001b[0m\u001b[1;33m=\u001b[0m\u001b[0maxis\u001b[0m\u001b[1;33m)\u001b[0m\u001b[1;33m\u001b[0m\u001b[1;33m\u001b[0m\u001b[0m\n\u001b[0m\u001b[0;32m   1903\u001b[0m \u001b[1;33m\u001b[0m\u001b[0m\n\u001b[0;32m   1904\u001b[0m             \u001b[1;31m# nested tuple slicing\u001b[0m\u001b[1;33m\u001b[0m\u001b[1;33m\u001b[0m\u001b[1;33m\u001b[0m\u001b[0m\n",
      "\u001b[1;32mc:\\users\\martin\\appdata\\local\\programs\\python\\python37\\lib\\site-packages\\pandas\\core\\indexing.py\u001b[0m in \u001b[0;36m_getitem_iterable\u001b[1;34m(self, key, axis)\u001b[0m\n\u001b[0;32m   1203\u001b[0m             \u001b[1;31m# A collection of keys\u001b[0m\u001b[1;33m\u001b[0m\u001b[1;33m\u001b[0m\u001b[1;33m\u001b[0m\u001b[0m\n\u001b[0;32m   1204\u001b[0m             keyarr, indexer = self._get_listlike_indexer(key, axis,\n\u001b[1;32m-> 1205\u001b[1;33m                                                          raise_missing=False)\n\u001b[0m\u001b[0;32m   1206\u001b[0m             return self.obj._reindex_with_indexers({axis: [keyarr, indexer]},\n\u001b[0;32m   1207\u001b[0m                                                    copy=True, allow_dups=True)\n",
      "\u001b[1;32mc:\\users\\martin\\appdata\\local\\programs\\python\\python37\\lib\\site-packages\\pandas\\core\\indexing.py\u001b[0m in \u001b[0;36m_get_listlike_indexer\u001b[1;34m(self, key, axis, raise_missing)\u001b[0m\n\u001b[0;32m   1159\u001b[0m         self._validate_read_indexer(keyarr, indexer,\n\u001b[0;32m   1160\u001b[0m                                     \u001b[0mo\u001b[0m\u001b[1;33m.\u001b[0m\u001b[0m_get_axis_number\u001b[0m\u001b[1;33m(\u001b[0m\u001b[0maxis\u001b[0m\u001b[1;33m)\u001b[0m\u001b[1;33m,\u001b[0m\u001b[1;33m\u001b[0m\u001b[1;33m\u001b[0m\u001b[0m\n\u001b[1;32m-> 1161\u001b[1;33m                                     raise_missing=raise_missing)\n\u001b[0m\u001b[0;32m   1162\u001b[0m         \u001b[1;32mreturn\u001b[0m \u001b[0mkeyarr\u001b[0m\u001b[1;33m,\u001b[0m \u001b[0mindexer\u001b[0m\u001b[1;33m\u001b[0m\u001b[1;33m\u001b[0m\u001b[0m\n\u001b[0;32m   1163\u001b[0m \u001b[1;33m\u001b[0m\u001b[0m\n",
      "\u001b[1;32mc:\\users\\martin\\appdata\\local\\programs\\python\\python37\\lib\\site-packages\\pandas\\core\\indexing.py\u001b[0m in \u001b[0;36m_validate_read_indexer\u001b[1;34m(self, key, indexer, axis, raise_missing)\u001b[0m\n\u001b[0;32m   1244\u001b[0m                 raise KeyError(\n\u001b[0;32m   1245\u001b[0m                     u\"None of [{key}] are in the [{axis}]\".format(\n\u001b[1;32m-> 1246\u001b[1;33m                         key=key, axis=self.obj._get_axis_name(axis)))\n\u001b[0m\u001b[0;32m   1247\u001b[0m \u001b[1;33m\u001b[0m\u001b[0m\n\u001b[0;32m   1248\u001b[0m             \u001b[1;31m# We (temporarily) allow for some missing keys with .loc, except in\u001b[0m\u001b[1;33m\u001b[0m\u001b[1;33m\u001b[0m\u001b[1;33m\u001b[0m\u001b[0m\n",
      "\u001b[1;31mKeyError\u001b[0m: \"None of [Float64Index([0.0, nan], dtype='float64')] are in the [index]\""
     ]
    }
   ],
   "source": [
    "df_rd_pt=at.identifier_rd_pt(df)\n",
    "dico=at.affecter_troncon(df_rd_pt)\n",
    "with ct.ConnexionBdd('local_otv') as c :\n",
    "    at.inserer_dico(c, dico)"
   ]
  },
  {
   "cell_type": "markdown",
   "metadata": {},
   "source": [
    "POUR TRAITEMENT DES VOIES A 2 CHAUSSES : TROUVER PARRALLELE"
   ]
  },
  {
   "cell_type": "code",
   "execution_count": 172,
   "metadata": {},
   "outputs": [],
   "source": [
    "#liste des troncons (parametre entrant)\n",
    "liste_troncon=toto"
   ]
  },
  {
   "cell_type": "code",
   "execution_count": null,
   "metadata": {},
   "outputs": [],
   "source": [
    "#conversion en geodf\n",
    "gdf_lignes=gp.GeoDataFrame(df.loc[liste_troncon], geometry='geom')"
   ]
  },
  {
   "cell_type": "code",
   "execution_count": 174,
   "metadata": {},
   "outputs": [],
   "source": [
    "#union des geometries\n",
    "gdf_lignes2=gdf_lignes.unary_union"
   ]
  },
  {
   "cell_type": "code",
   "execution_count": 176,
   "metadata": {},
   "outputs": [],
   "source": [
    "#centroid de la ligne\n",
    "xmin,ymin,xmax,ymax=gdf_lignes2.interpolate(0.5, normalized=True).buffer(50).bounds"
   ]
  },
  {
   "cell_type": "code",
   "execution_count": 177,
   "metadata": {},
   "outputs": [],
   "source": [
    "#donnees de base\n",
    "gdf_global=gp.GeoDataFrame(df, geometry='geom')"
   ]
  },
  {
   "cell_type": "code",
   "execution_count": 178,
   "metadata": {},
   "outputs": [],
   "source": [
    "#recherche des lignes proches du centroid\n",
    "lignes_possibles=gdf_global.cx[xmin:xmax,ymin:ymax]"
   ]
  },
  {
   "cell_type": "code",
   "execution_count": null,
   "metadata": {},
   "outputs": [],
   "source": [
    "lignes_possibles"
   ]
  },
  {
   "cell_type": "code",
   "execution_count": 180,
   "metadata": {},
   "outputs": [],
   "source": [
    "#uniquement les lignes non présentes dans la liste de troncons avec le même nom de voie\n",
    "ligne_filtres=lignes_possibles.loc[(~lignes_possibles.index.isin(liste_troncon)) & (lignes_possibles['numero']==gdf_lignes.iloc[0]['numero'])]"
   ]
  },
  {
   "cell_type": "code",
   "execution_count": null,
   "metadata": {},
   "outputs": [],
   "source": [
    "#obtenir les distances au centroid\n",
    "ligne_filtres['distance']=ligne_filtres.geom.apply(lambda x : gdf_lignes2.centroid.distance(x))"
   ]
  },
  {
   "cell_type": "code",
   "execution_count": 182,
   "metadata": {},
   "outputs": [
    {
     "data": {
      "text/plain": [
       "'TRONROUT0000000202559739'"
      ]
     },
     "execution_count": 182,
     "metadata": {},
     "output_type": "execute_result"
    }
   ],
   "source": [
    "#garder uniquement la valeur la plus proche du centroid\n",
    "ligne_filtres.loc[ligne_filtres['distance']==ligne_filtres['distance'].min()].index[0]"
   ]
  },
  {
   "cell_type": "markdown",
   "metadata": {},
   "source": [
    "POUR TRAITEMENT DES ROND POINTS"
   ]
  },
  {
   "cell_type": "code",
   "execution_count": 4,
   "metadata": {},
   "outputs": [],
   "source": [
    "#polygoniser les lignes\n",
    "#creer la gdf\n",
    "df.crs={'init':'epsg:2154'}"
   ]
  },
  {
   "cell_type": "code",
   "execution_count": 5,
   "metadata": {},
   "outputs": [],
   "source": [
    "#creer la lsite des rd points selon le critere atmo aura ; creer une gdf avec la liste\n",
    "liste_rd_points=[t.buffer(0.1) for t in polygonize(df.geometry) if 12<=((t.length**2)/t.area)<=13] \n",
    "gdf_rd_point=gp.GeoDataFrame([i for i in range(len(liste_rd_points))], geometry=liste_rd_points)\n",
    "gdf_rd_point.crs={'init':'epsg:2154'}\n",
    "gdf_rd_point.columns=['id_rdpt', 'geometry']    "
   ]
  },
  {
   "cell_type": "code",
   "execution_count": 7,
   "metadata": {},
   "outputs": [],
   "source": [
    "#jointure spataile pour une gdf avec uniquement les rd_points en lignes avec le numéro\n",
    "l_dans_p=gp.sjoin(df,gdf_rd_point,op='within')"
   ]
  },
  {
   "cell_type": "code",
   "execution_count": 8,
   "metadata": {},
   "outputs": [],
   "source": [
    "#lignes qui touchent rd points\n",
    "#1.ligne qui intersectent avec id_rdpt\n",
    "l_intersct_rdpt=gp.sjoin(df,l_dans_p.drop('index_right', axis=1), how='inner',op='intersects')\n",
    "#2.filtre de celle contenue dans le rd points \n",
    "l_intersct_rdpt=l_intersct_rdpt.loc[~l_intersct_rdpt.index.isin(l_dans_p.index.tolist())][['id_rdpt','numero_left']]"
   ]
  },
  {
   "cell_type": "code",
   "execution_count": 9,
   "metadata": {},
   "outputs": [],
   "source": [
    "#trouver le nb de voies qui intersectent chaque rd point et leur noms. renomer les colonnes\n",
    "carac_rd_pt=(pd.concat([l_intersct_rdpt.groupby('id_rdpt').numero_left.nunique(),\n",
    "    l_intersct_rdpt.groupby('id_rdpt')['numero_left'].apply(lambda x: ','.join(set(x)))], axis=1))\n",
    "carac_rd_pt.columns=['nb_rte_rdpt', 'nom_rte_rdpt']"
   ]
  },
  {
   "cell_type": "code",
   "execution_count": 11,
   "metadata": {},
   "outputs": [],
   "source": [
    "#ajouter l'id_rdpt aux données\n",
    "gdf_l_rd_point=pd.concat([df,l_dans_p.loc[:,'id_rdpt']],axis=1, sort=False)"
   ]
  },
  {
   "cell_type": "code",
   "execution_count": 12,
   "metadata": {},
   "outputs": [],
   "source": [
    "#mettre à jour la nature\n",
    "gdf_l_rd_point['nature']=gdf_l_rd_point.apply(lambda x : 'Rd_pt' if x.id_rdpt>=0 else x['nature'], axis=1)"
   ]
  },
  {
   "cell_type": "code",
   "execution_count": 13,
   "metadata": {},
   "outputs": [],
   "source": [
    "#ajouter les infos du rd point (nb voies différentes et nom)\n",
    "gdf_avec_rd_pt=gdf_l_rd_point.merge(carac_rd_pt, how='left',left_on='id_rdpt', right_index=True)"
   ]
  },
  {
   "cell_type": "code",
   "execution_count": 67,
   "metadata": {},
   "outputs": [
    {
     "ename": "ValueError",
     "evalue": "Can only compare identically-labeled Series objects",
     "output_type": "error",
     "traceback": [
      "\u001b[1;31m---------------------------------------------------------------------------\u001b[0m",
      "\u001b[1;31mValueError\u001b[0m                                Traceback (most recent call last)",
      "\u001b[1;32m<ipython-input-67-1a577c1cbbab>\u001b[0m in \u001b[0;36m<module>\u001b[1;34m\u001b[0m\n\u001b[0;32m      1\u001b[0m \u001b[1;31m#gdf_avec_rd_pt.loc[gdf_avec_rd_pt.loc[:,'id_rdpt']==l_dans_p['id_rdpt']]\u001b[0m\u001b[1;33m\u001b[0m\u001b[1;33m\u001b[0m\u001b[1;33m\u001b[0m\u001b[0m\n\u001b[1;32m----> 2\u001b[1;33m \u001b[0mgdf_avec_rd_pt\u001b[0m\u001b[1;33m[\u001b[0m\u001b[1;34m'id_rdpt'\u001b[0m\u001b[1;33m]\u001b[0m\u001b[1;33m==\u001b[0m\u001b[0ml_dans_p\u001b[0m\u001b[1;33m[\u001b[0m\u001b[1;34m'id_rdpt'\u001b[0m\u001b[1;33m]\u001b[0m\u001b[1;33m.\u001b[0m\u001b[0mastype\u001b[0m\u001b[1;33m(\u001b[0m\u001b[1;34m'float64'\u001b[0m\u001b[1;33m)\u001b[0m\u001b[1;33m\u001b[0m\u001b[1;33m\u001b[0m\u001b[0m\n\u001b[0m\u001b[0;32m      3\u001b[0m \u001b[1;31m#l_dans_p.loc[l_dans_p.loc[:,'id_rdpt']].sort_index().sort_index(axis=1)])\u001b[0m\u001b[1;33m\u001b[0m\u001b[1;33m\u001b[0m\u001b[1;33m\u001b[0m\u001b[0m\n",
      "\u001b[1;32mc:\\users\\martin\\appdata\\local\\programs\\python\\python37\\lib\\site-packages\\pandas\\core\\ops.py\u001b[0m in \u001b[0;36mwrapper\u001b[1;34m(self, other, axis)\u001b[0m\n\u001b[0;32m   1674\u001b[0m \u001b[1;33m\u001b[0m\u001b[0m\n\u001b[0;32m   1675\u001b[0m         \u001b[1;32melif\u001b[0m \u001b[0misinstance\u001b[0m\u001b[1;33m(\u001b[0m\u001b[0mother\u001b[0m\u001b[1;33m,\u001b[0m \u001b[0mABCSeries\u001b[0m\u001b[1;33m)\u001b[0m \u001b[1;32mand\u001b[0m \u001b[1;32mnot\u001b[0m \u001b[0mself\u001b[0m\u001b[1;33m.\u001b[0m\u001b[0m_indexed_same\u001b[0m\u001b[1;33m(\u001b[0m\u001b[0mother\u001b[0m\u001b[1;33m)\u001b[0m\u001b[1;33m:\u001b[0m\u001b[1;33m\u001b[0m\u001b[1;33m\u001b[0m\u001b[0m\n\u001b[1;32m-> 1676\u001b[1;33m             raise ValueError(\"Can only compare identically-labeled \"\n\u001b[0m\u001b[0;32m   1677\u001b[0m                              \"Series objects\")\n\u001b[0;32m   1678\u001b[0m \u001b[1;33m\u001b[0m\u001b[0m\n",
      "\u001b[1;31mValueError\u001b[0m: Can only compare identically-labeled Series objects"
     ]
    }
   ],
   "source": [
    "#gdf_avec_rd_pt.loc[gdf_avec_rd_pt.loc[:,'id_rdpt']==l_dans_p['id_rdpt']]\n",
    "gdf_avec_rd_pt['id_rdpt']==l_dans_p['id_rdpt'].astype('float64')\n",
    "#l_dans_p.loc[l_dans_p.loc[:,'id_rdpt']].sort_index().sort_index(axis=1)])"
   ]
  },
  {
   "cell_type": "code",
   "execution_count": 16,
   "metadata": {},
   "outputs": [
    {
     "ename": "UnicodeDecodeError",
     "evalue": "'utf-8' codec can't decode byte 0xe9 in position 85: invalid continuation byte",
     "output_type": "error",
     "traceback": [
      "\u001b[1;31m---------------------------------------------------------------------------\u001b[0m",
      "\u001b[1;31mUnicodeDecodeError\u001b[0m                        Traceback (most recent call last)",
      "\u001b[1;31mUnicodeDecodeError\u001b[0m: 'utf-8' codec can't decode byte 0xe9 in position 85: invalid continuation byte"
     ]
    },
    {
     "name": "stderr",
     "output_type": "stream",
     "text": [
      "Exception ignored in: 'fiona._env.log_error'\n",
      "UnicodeDecodeError: 'utf-8' codec can't decode byte 0xe9 in position 85: invalid continuation byte\n"
     ]
    },
    {
     "ename": "UnicodeDecodeError",
     "evalue": "'utf-8' codec can't decode byte 0xe9 in position 85: invalid continuation byte",
     "output_type": "error",
     "traceback": [
      "\u001b[1;31m---------------------------------------------------------------------------\u001b[0m",
      "\u001b[1;31mUnicodeDecodeError\u001b[0m                        Traceback (most recent call last)",
      "\u001b[1;31mUnicodeDecodeError\u001b[0m: 'utf-8' codec can't decode byte 0xe9 in position 85: invalid continuation byte"
     ]
    },
    {
     "name": "stderr",
     "output_type": "stream",
     "text": [
      "Exception ignored in: 'fiona._env.log_error'\n",
      "UnicodeDecodeError: 'utf-8' codec can't decode byte 0xe9 in position 85: invalid continuation byte\n"
     ]
    },
    {
     "ename": "UnicodeDecodeError",
     "evalue": "'utf-8' codec can't decode byte 0xe9 in position 86: invalid continuation byte",
     "output_type": "error",
     "traceback": [
      "\u001b[1;31m---------------------------------------------------------------------------\u001b[0m",
      "\u001b[1;31mUnicodeDecodeError\u001b[0m                        Traceback (most recent call last)",
      "\u001b[1;31mUnicodeDecodeError\u001b[0m: 'utf-8' codec can't decode byte 0xe9 in position 86: invalid continuation byte"
     ]
    },
    {
     "name": "stderr",
     "output_type": "stream",
     "text": [
      "Exception ignored in: 'fiona._env.log_error'\n",
      "UnicodeDecodeError: 'utf-8' codec can't decode byte 0xe9 in position 86: invalid continuation byte\n"
     ]
    },
    {
     "ename": "UnicodeDecodeError",
     "evalue": "'utf-8' codec can't decode byte 0xe9 in position 86: invalid continuation byte",
     "output_type": "error",
     "traceback": [
      "\u001b[1;31m---------------------------------------------------------------------------\u001b[0m",
      "\u001b[1;31mUnicodeDecodeError\u001b[0m                        Traceback (most recent call last)",
      "\u001b[1;31mUnicodeDecodeError\u001b[0m: 'utf-8' codec can't decode byte 0xe9 in position 86: invalid continuation byte"
     ]
    },
    {
     "name": "stderr",
     "output_type": "stream",
     "text": [
      "Exception ignored in: 'fiona._env.log_error'\n",
      "UnicodeDecodeError: 'utf-8' codec can't decode byte 0xe9 in position 86: invalid continuation byte\n"
     ]
    },
    {
     "ename": "UnicodeDecodeError",
     "evalue": "'utf-8' codec can't decode byte 0xe9 in position 85: invalid continuation byte",
     "output_type": "error",
     "traceback": [
      "\u001b[1;31m---------------------------------------------------------------------------\u001b[0m",
      "\u001b[1;31mUnicodeDecodeError\u001b[0m                        Traceback (most recent call last)",
      "\u001b[1;31mUnicodeDecodeError\u001b[0m: 'utf-8' codec can't decode byte 0xe9 in position 85: invalid continuation byte"
     ]
    },
    {
     "name": "stderr",
     "output_type": "stream",
     "text": [
      "Exception ignored in: 'fiona._env.log_error'\n",
      "UnicodeDecodeError: 'utf-8' codec can't decode byte 0xe9 in position 85: invalid continuation byte\n"
     ]
    },
    {
     "ename": "UnicodeDecodeError",
     "evalue": "'utf-8' codec can't decode byte 0xe9 in position 85: invalid continuation byte",
     "output_type": "error",
     "traceback": [
      "\u001b[1;31m---------------------------------------------------------------------------\u001b[0m",
      "\u001b[1;31mUnicodeDecodeError\u001b[0m                        Traceback (most recent call last)",
      "\u001b[1;31mUnicodeDecodeError\u001b[0m: 'utf-8' codec can't decode byte 0xe9 in position 85: invalid continuation byte"
     ]
    },
    {
     "name": "stderr",
     "output_type": "stream",
     "text": [
      "Exception ignored in: 'fiona._env.log_error'\n",
      "UnicodeDecodeError: 'utf-8' codec can't decode byte 0xe9 in position 85: invalid continuation byte\n"
     ]
    },
    {
     "ename": "UnicodeDecodeError",
     "evalue": "'utf-8' codec can't decode byte 0xe9 in position 86: invalid continuation byte",
     "output_type": "error",
     "traceback": [
      "\u001b[1;31m---------------------------------------------------------------------------\u001b[0m",
      "\u001b[1;31mUnicodeDecodeError\u001b[0m                        Traceback (most recent call last)",
      "\u001b[1;31mUnicodeDecodeError\u001b[0m: 'utf-8' codec can't decode byte 0xe9 in position 86: invalid continuation byte"
     ]
    },
    {
     "name": "stderr",
     "output_type": "stream",
     "text": [
      "Exception ignored in: 'fiona._env.log_error'\n",
      "UnicodeDecodeError: 'utf-8' codec can't decode byte 0xe9 in position 86: invalid continuation byte\n"
     ]
    },
    {
     "ename": "UnicodeDecodeError",
     "evalue": "'utf-8' codec can't decode byte 0xe9 in position 86: invalid continuation byte",
     "output_type": "error",
     "traceback": [
      "\u001b[1;31m---------------------------------------------------------------------------\u001b[0m",
      "\u001b[1;31mUnicodeDecodeError\u001b[0m                        Traceback (most recent call last)",
      "\u001b[1;31mUnicodeDecodeError\u001b[0m: 'utf-8' codec can't decode byte 0xe9 in position 86: invalid continuation byte"
     ]
    },
    {
     "name": "stderr",
     "output_type": "stream",
     "text": [
      "Exception ignored in: 'fiona._env.log_error'\n",
      "UnicodeDecodeError: 'utf-8' codec can't decode byte 0xe9 in position 86: invalid continuation byte\n"
     ]
    },
    {
     "ename": "UnicodeDecodeError",
     "evalue": "'utf-8' codec can't decode byte 0xe9 in position 91: invalid continuation byte",
     "output_type": "error",
     "traceback": [
      "\u001b[1;31m---------------------------------------------------------------------------\u001b[0m",
      "\u001b[1;31mUnicodeDecodeError\u001b[0m                        Traceback (most recent call last)",
      "\u001b[1;31mUnicodeDecodeError\u001b[0m: 'utf-8' codec can't decode byte 0xe9 in position 91: invalid continuation byte"
     ]
    },
    {
     "name": "stderr",
     "output_type": "stream",
     "text": [
      "Exception ignored in: 'fiona._env.log_error'\n",
      "UnicodeDecodeError: 'utf-8' codec can't decode byte 0xe9 in position 91: invalid continuation byte\n"
     ]
    },
    {
     "ename": "UnicodeDecodeError",
     "evalue": "'utf-8' codec can't decode byte 0xe9 in position 91: invalid continuation byte",
     "output_type": "error",
     "traceback": [
      "\u001b[1;31m---------------------------------------------------------------------------\u001b[0m",
      "\u001b[1;31mUnicodeDecodeError\u001b[0m                        Traceback (most recent call last)",
      "\u001b[1;31mUnicodeDecodeError\u001b[0m: 'utf-8' codec can't decode byte 0xe9 in position 91: invalid continuation byte"
     ]
    },
    {
     "name": "stderr",
     "output_type": "stream",
     "text": [
      "Exception ignored in: 'fiona._env.log_error'\n",
      "UnicodeDecodeError: 'utf-8' codec can't decode byte 0xe9 in position 91: invalid continuation byte\n"
     ]
    },
    {
     "ename": "UnicodeDecodeError",
     "evalue": "'utf-8' codec can't decode byte 0xe9 in position 86: invalid continuation byte",
     "output_type": "error",
     "traceback": [
      "\u001b[1;31m---------------------------------------------------------------------------\u001b[0m",
      "\u001b[1;31mUnicodeDecodeError\u001b[0m                        Traceback (most recent call last)",
      "\u001b[1;31mUnicodeDecodeError\u001b[0m: 'utf-8' codec can't decode byte 0xe9 in position 86: invalid continuation byte"
     ]
    },
    {
     "name": "stderr",
     "output_type": "stream",
     "text": [
      "Exception ignored in: 'fiona._env.log_error'\n",
      "UnicodeDecodeError: 'utf-8' codec can't decode byte 0xe9 in position 86: invalid continuation byte\n"
     ]
    },
    {
     "ename": "UnicodeDecodeError",
     "evalue": "'utf-8' codec can't decode byte 0xe9 in position 86: invalid continuation byte",
     "output_type": "error",
     "traceback": [
      "\u001b[1;31m---------------------------------------------------------------------------\u001b[0m",
      "\u001b[1;31mUnicodeDecodeError\u001b[0m                        Traceback (most recent call last)",
      "\u001b[1;31mUnicodeDecodeError\u001b[0m: 'utf-8' codec can't decode byte 0xe9 in position 86: invalid continuation byte"
     ]
    },
    {
     "name": "stderr",
     "output_type": "stream",
     "text": [
      "Exception ignored in: 'fiona._env.log_error'\n",
      "UnicodeDecodeError: 'utf-8' codec can't decode byte 0xe9 in position 86: invalid continuation byte\n"
     ]
    },
    {
     "ename": "UnicodeDecodeError",
     "evalue": "'utf-8' codec can't decode byte 0xe9 in position 91: invalid continuation byte",
     "output_type": "error",
     "traceback": [
      "\u001b[1;31m---------------------------------------------------------------------------\u001b[0m",
      "\u001b[1;31mUnicodeDecodeError\u001b[0m                        Traceback (most recent call last)",
      "\u001b[1;31mUnicodeDecodeError\u001b[0m: 'utf-8' codec can't decode byte 0xe9 in position 91: invalid continuation byte"
     ]
    },
    {
     "name": "stderr",
     "output_type": "stream",
     "text": [
      "Exception ignored in: 'fiona._env.log_error'\n",
      "UnicodeDecodeError: 'utf-8' codec can't decode byte 0xe9 in position 91: invalid continuation byte\n"
     ]
    },
    {
     "ename": "UnicodeDecodeError",
     "evalue": "'utf-8' codec can't decode byte 0xe9 in position 91: invalid continuation byte",
     "output_type": "error",
     "traceback": [
      "\u001b[1;31m---------------------------------------------------------------------------\u001b[0m",
      "\u001b[1;31mUnicodeDecodeError\u001b[0m                        Traceback (most recent call last)",
      "\u001b[1;31mUnicodeDecodeError\u001b[0m: 'utf-8' codec can't decode byte 0xe9 in position 91: invalid continuation byte"
     ]
    },
    {
     "name": "stderr",
     "output_type": "stream",
     "text": [
      "Exception ignored in: 'fiona._env.log_error'\n",
      "UnicodeDecodeError: 'utf-8' codec can't decode byte 0xe9 in position 91: invalid continuation byte\n"
     ]
    },
    {
     "ename": "UnicodeDecodeError",
     "evalue": "'utf-8' codec can't decode byte 0xe9 in position 85: invalid continuation byte",
     "output_type": "error",
     "traceback": [
      "\u001b[1;31m---------------------------------------------------------------------------\u001b[0m",
      "\u001b[1;31mUnicodeDecodeError\u001b[0m                        Traceback (most recent call last)",
      "\u001b[1;31mUnicodeDecodeError\u001b[0m: 'utf-8' codec can't decode byte 0xe9 in position 85: invalid continuation byte"
     ]
    },
    {
     "name": "stderr",
     "output_type": "stream",
     "text": [
      "Exception ignored in: 'fiona._env.log_error'\n",
      "UnicodeDecodeError: 'utf-8' codec can't decode byte 0xe9 in position 85: invalid continuation byte\n"
     ]
    },
    {
     "ename": "UnicodeDecodeError",
     "evalue": "'utf-8' codec can't decode byte 0xe9 in position 85: invalid continuation byte",
     "output_type": "error",
     "traceback": [
      "\u001b[1;31m---------------------------------------------------------------------------\u001b[0m",
      "\u001b[1;31mUnicodeDecodeError\u001b[0m                        Traceback (most recent call last)",
      "\u001b[1;31mUnicodeDecodeError\u001b[0m: 'utf-8' codec can't decode byte 0xe9 in position 85: invalid continuation byte"
     ]
    },
    {
     "name": "stderr",
     "output_type": "stream",
     "text": [
      "Exception ignored in: 'fiona._env.log_error'\n",
      "UnicodeDecodeError: 'utf-8' codec can't decode byte 0xe9 in position 85: invalid continuation byte\n"
     ]
    },
    {
     "ename": "UnicodeDecodeError",
     "evalue": "'utf-8' codec can't decode byte 0xe9 in position 88: invalid continuation byte",
     "output_type": "error",
     "traceback": [
      "\u001b[1;31m---------------------------------------------------------------------------\u001b[0m",
      "\u001b[1;31mUnicodeDecodeError\u001b[0m                        Traceback (most recent call last)",
      "\u001b[1;31mUnicodeDecodeError\u001b[0m: 'utf-8' codec can't decode byte 0xe9 in position 88: invalid continuation byte"
     ]
    },
    {
     "name": "stderr",
     "output_type": "stream",
     "text": [
      "Exception ignored in: 'fiona._env.log_error'\n",
      "UnicodeDecodeError: 'utf-8' codec can't decode byte 0xe9 in position 88: invalid continuation byte\n"
     ]
    },
    {
     "ename": "UnicodeDecodeError",
     "evalue": "'utf-8' codec can't decode byte 0xe9 in position 88: invalid continuation byte",
     "output_type": "error",
     "traceback": [
      "\u001b[1;31m---------------------------------------------------------------------------\u001b[0m",
      "\u001b[1;31mUnicodeDecodeError\u001b[0m                        Traceback (most recent call last)",
      "\u001b[1;31mUnicodeDecodeError\u001b[0m: 'utf-8' codec can't decode byte 0xe9 in position 88: invalid continuation byte"
     ]
    },
    {
     "name": "stderr",
     "output_type": "stream",
     "text": [
      "Exception ignored in: 'fiona._env.log_error'\n",
      "UnicodeDecodeError: 'utf-8' codec can't decode byte 0xe9 in position 88: invalid continuation byte\n"
     ]
    },
    {
     "ename": "UnicodeDecodeError",
     "evalue": "'utf-8' codec can't decode byte 0xe9 in position 85: invalid continuation byte",
     "output_type": "error",
     "traceback": [
      "\u001b[1;31m---------------------------------------------------------------------------\u001b[0m",
      "\u001b[1;31mUnicodeDecodeError\u001b[0m                        Traceback (most recent call last)",
      "\u001b[1;31mUnicodeDecodeError\u001b[0m: 'utf-8' codec can't decode byte 0xe9 in position 85: invalid continuation byte"
     ]
    },
    {
     "name": "stderr",
     "output_type": "stream",
     "text": [
      "Exception ignored in: 'fiona._env.log_error'\n",
      "UnicodeDecodeError: 'utf-8' codec can't decode byte 0xe9 in position 85: invalid continuation byte\n"
     ]
    },
    {
     "ename": "UnicodeDecodeError",
     "evalue": "'utf-8' codec can't decode byte 0xe9 in position 85: invalid continuation byte",
     "output_type": "error",
     "traceback": [
      "\u001b[1;31m---------------------------------------------------------------------------\u001b[0m",
      "\u001b[1;31mUnicodeDecodeError\u001b[0m                        Traceback (most recent call last)",
      "\u001b[1;31mUnicodeDecodeError\u001b[0m: 'utf-8' codec can't decode byte 0xe9 in position 85: invalid continuation byte"
     ]
    },
    {
     "name": "stderr",
     "output_type": "stream",
     "text": [
      "Exception ignored in: 'fiona._env.log_error'\n",
      "UnicodeDecodeError: 'utf-8' codec can't decode byte 0xe9 in position 85: invalid continuation byte\n"
     ]
    },
    {
     "ename": "UnicodeDecodeError",
     "evalue": "'utf-8' codec can't decode byte 0xe9 in position 86: invalid continuation byte",
     "output_type": "error",
     "traceback": [
      "\u001b[1;31m---------------------------------------------------------------------------\u001b[0m",
      "\u001b[1;31mUnicodeDecodeError\u001b[0m                        Traceback (most recent call last)",
      "\u001b[1;31mUnicodeDecodeError\u001b[0m: 'utf-8' codec can't decode byte 0xe9 in position 86: invalid continuation byte"
     ]
    },
    {
     "name": "stderr",
     "output_type": "stream",
     "text": [
      "Exception ignored in: 'fiona._env.log_error'\n",
      "UnicodeDecodeError: 'utf-8' codec can't decode byte 0xe9 in position 86: invalid continuation byte\n"
     ]
    },
    {
     "ename": "UnicodeDecodeError",
     "evalue": "'utf-8' codec can't decode byte 0xe9 in position 86: invalid continuation byte",
     "output_type": "error",
     "traceback": [
      "\u001b[1;31m---------------------------------------------------------------------------\u001b[0m",
      "\u001b[1;31mUnicodeDecodeError\u001b[0m                        Traceback (most recent call last)",
      "\u001b[1;31mUnicodeDecodeError\u001b[0m: 'utf-8' codec can't decode byte 0xe9 in position 86: invalid continuation byte"
     ]
    },
    {
     "name": "stderr",
     "output_type": "stream",
     "text": [
      "Exception ignored in: 'fiona._env.log_error'\n",
      "UnicodeDecodeError: 'utf-8' codec can't decode byte 0xe9 in position 86: invalid continuation byte\n"
     ]
    },
    {
     "ename": "UnicodeDecodeError",
     "evalue": "'utf-8' codec can't decode byte 0xe9 in position 85: invalid continuation byte",
     "output_type": "error",
     "traceback": [
      "\u001b[1;31m---------------------------------------------------------------------------\u001b[0m",
      "\u001b[1;31mUnicodeDecodeError\u001b[0m                        Traceback (most recent call last)",
      "\u001b[1;31mUnicodeDecodeError\u001b[0m: 'utf-8' codec can't decode byte 0xe9 in position 85: invalid continuation byte"
     ]
    },
    {
     "name": "stderr",
     "output_type": "stream",
     "text": [
      "Exception ignored in: 'fiona._env.log_error'\n",
      "UnicodeDecodeError: 'utf-8' codec can't decode byte 0xe9 in position 85: invalid continuation byte\n"
     ]
    },
    {
     "ename": "UnicodeDecodeError",
     "evalue": "'utf-8' codec can't decode byte 0xe9 in position 85: invalid continuation byte",
     "output_type": "error",
     "traceback": [
      "\u001b[1;31m---------------------------------------------------------------------------\u001b[0m",
      "\u001b[1;31mUnicodeDecodeError\u001b[0m                        Traceback (most recent call last)",
      "\u001b[1;31mUnicodeDecodeError\u001b[0m: 'utf-8' codec can't decode byte 0xe9 in position 85: invalid continuation byte"
     ]
    },
    {
     "name": "stderr",
     "output_type": "stream",
     "text": [
      "Exception ignored in: 'fiona._env.log_error'\n",
      "UnicodeDecodeError: 'utf-8' codec can't decode byte 0xe9 in position 85: invalid continuation byte\n"
     ]
    },
    {
     "ename": "UnicodeDecodeError",
     "evalue": "'utf-8' codec can't decode byte 0xe9 in position 86: invalid continuation byte",
     "output_type": "error",
     "traceback": [
      "\u001b[1;31m---------------------------------------------------------------------------\u001b[0m",
      "\u001b[1;31mUnicodeDecodeError\u001b[0m                        Traceback (most recent call last)",
      "\u001b[1;31mUnicodeDecodeError\u001b[0m: 'utf-8' codec can't decode byte 0xe9 in position 86: invalid continuation byte"
     ]
    },
    {
     "name": "stderr",
     "output_type": "stream",
     "text": [
      "Exception ignored in: 'fiona._env.log_error'\n",
      "UnicodeDecodeError: 'utf-8' codec can't decode byte 0xe9 in position 86: invalid continuation byte\n"
     ]
    },
    {
     "ename": "UnicodeDecodeError",
     "evalue": "'utf-8' codec can't decode byte 0xe9 in position 86: invalid continuation byte",
     "output_type": "error",
     "traceback": [
      "\u001b[1;31m---------------------------------------------------------------------------\u001b[0m",
      "\u001b[1;31mUnicodeDecodeError\u001b[0m                        Traceback (most recent call last)",
      "\u001b[1;31mUnicodeDecodeError\u001b[0m: 'utf-8' codec can't decode byte 0xe9 in position 86: invalid continuation byte"
     ]
    },
    {
     "name": "stderr",
     "output_type": "stream",
     "text": [
      "Exception ignored in: 'fiona._env.log_error'\n",
      "UnicodeDecodeError: 'utf-8' codec can't decode byte 0xe9 in position 86: invalid continuation byte\n"
     ]
    },
    {
     "ename": "UnicodeDecodeError",
     "evalue": "'utf-8' codec can't decode byte 0xe9 in position 91: invalid continuation byte",
     "output_type": "error",
     "traceback": [
      "\u001b[1;31m---------------------------------------------------------------------------\u001b[0m",
      "\u001b[1;31mUnicodeDecodeError\u001b[0m                        Traceback (most recent call last)",
      "\u001b[1;31mUnicodeDecodeError\u001b[0m: 'utf-8' codec can't decode byte 0xe9 in position 91: invalid continuation byte"
     ]
    },
    {
     "name": "stderr",
     "output_type": "stream",
     "text": [
      "Exception ignored in: 'fiona._env.log_error'\n",
      "UnicodeDecodeError: 'utf-8' codec can't decode byte 0xe9 in position 91: invalid continuation byte\n"
     ]
    },
    {
     "ename": "UnicodeDecodeError",
     "evalue": "'utf-8' codec can't decode byte 0xe9 in position 91: invalid continuation byte",
     "output_type": "error",
     "traceback": [
      "\u001b[1;31m---------------------------------------------------------------------------\u001b[0m",
      "\u001b[1;31mUnicodeDecodeError\u001b[0m                        Traceback (most recent call last)",
      "\u001b[1;31mUnicodeDecodeError\u001b[0m: 'utf-8' codec can't decode byte 0xe9 in position 91: invalid continuation byte"
     ]
    },
    {
     "name": "stderr",
     "output_type": "stream",
     "text": [
      "Exception ignored in: 'fiona._env.log_error'\n",
      "UnicodeDecodeError: 'utf-8' codec can't decode byte 0xe9 in position 91: invalid continuation byte\n"
     ]
    },
    {
     "ename": "UnicodeDecodeError",
     "evalue": "'utf-8' codec can't decode byte 0xe9 in position 86: invalid continuation byte",
     "output_type": "error",
     "traceback": [
      "\u001b[1;31m---------------------------------------------------------------------------\u001b[0m",
      "\u001b[1;31mUnicodeDecodeError\u001b[0m                        Traceback (most recent call last)",
      "\u001b[1;31mUnicodeDecodeError\u001b[0m: 'utf-8' codec can't decode byte 0xe9 in position 86: invalid continuation byte"
     ]
    },
    {
     "name": "stderr",
     "output_type": "stream",
     "text": [
      "Exception ignored in: 'fiona._env.log_error'\n",
      "UnicodeDecodeError: 'utf-8' codec can't decode byte 0xe9 in position 86: invalid continuation byte\n"
     ]
    },
    {
     "ename": "UnicodeDecodeError",
     "evalue": "'utf-8' codec can't decode byte 0xe9 in position 86: invalid continuation byte",
     "output_type": "error",
     "traceback": [
      "\u001b[1;31m---------------------------------------------------------------------------\u001b[0m",
      "\u001b[1;31mUnicodeDecodeError\u001b[0m                        Traceback (most recent call last)",
      "\u001b[1;31mUnicodeDecodeError\u001b[0m: 'utf-8' codec can't decode byte 0xe9 in position 86: invalid continuation byte"
     ]
    },
    {
     "name": "stderr",
     "output_type": "stream",
     "text": [
      "Exception ignored in: 'fiona._env.log_error'\n",
      "UnicodeDecodeError: 'utf-8' codec can't decode byte 0xe9 in position 86: invalid continuation byte\n"
     ]
    },
    {
     "ename": "UnicodeDecodeError",
     "evalue": "'utf-8' codec can't decode byte 0xe9 in position 91: invalid continuation byte",
     "output_type": "error",
     "traceback": [
      "\u001b[1;31m---------------------------------------------------------------------------\u001b[0m",
      "\u001b[1;31mUnicodeDecodeError\u001b[0m                        Traceback (most recent call last)",
      "\u001b[1;31mUnicodeDecodeError\u001b[0m: 'utf-8' codec can't decode byte 0xe9 in position 91: invalid continuation byte"
     ]
    },
    {
     "name": "stderr",
     "output_type": "stream",
     "text": [
      "Exception ignored in: 'fiona._env.log_error'\n",
      "UnicodeDecodeError: 'utf-8' codec can't decode byte 0xe9 in position 91: invalid continuation byte\n"
     ]
    },
    {
     "ename": "UnicodeDecodeError",
     "evalue": "'utf-8' codec can't decode byte 0xe9 in position 91: invalid continuation byte",
     "output_type": "error",
     "traceback": [
      "\u001b[1;31m---------------------------------------------------------------------------\u001b[0m",
      "\u001b[1;31mUnicodeDecodeError\u001b[0m                        Traceback (most recent call last)",
      "\u001b[1;31mUnicodeDecodeError\u001b[0m: 'utf-8' codec can't decode byte 0xe9 in position 91: invalid continuation byte"
     ]
    },
    {
     "name": "stderr",
     "output_type": "stream",
     "text": [
      "Exception ignored in: 'fiona._env.log_error'\n",
      "UnicodeDecodeError: 'utf-8' codec can't decode byte 0xe9 in position 91: invalid continuation byte\n"
     ]
    },
    {
     "ename": "UnicodeDecodeError",
     "evalue": "'utf-8' codec can't decode byte 0xe9 in position 85: invalid continuation byte",
     "output_type": "error",
     "traceback": [
      "\u001b[1;31m---------------------------------------------------------------------------\u001b[0m",
      "\u001b[1;31mUnicodeDecodeError\u001b[0m                        Traceback (most recent call last)",
      "\u001b[1;31mUnicodeDecodeError\u001b[0m: 'utf-8' codec can't decode byte 0xe9 in position 85: invalid continuation byte"
     ]
    },
    {
     "name": "stderr",
     "output_type": "stream",
     "text": [
      "Exception ignored in: 'fiona._env.log_error'\n",
      "UnicodeDecodeError: 'utf-8' codec can't decode byte 0xe9 in position 85: invalid continuation byte\n"
     ]
    },
    {
     "ename": "UnicodeDecodeError",
     "evalue": "'utf-8' codec can't decode byte 0xe9 in position 85: invalid continuation byte",
     "output_type": "error",
     "traceback": [
      "\u001b[1;31m---------------------------------------------------------------------------\u001b[0m",
      "\u001b[1;31mUnicodeDecodeError\u001b[0m                        Traceback (most recent call last)",
      "\u001b[1;31mUnicodeDecodeError\u001b[0m: 'utf-8' codec can't decode byte 0xe9 in position 85: invalid continuation byte"
     ]
    },
    {
     "name": "stderr",
     "output_type": "stream",
     "text": [
      "Exception ignored in: 'fiona._env.log_error'\n",
      "UnicodeDecodeError: 'utf-8' codec can't decode byte 0xe9 in position 85: invalid continuation byte\n"
     ]
    },
    {
     "ename": "UnicodeDecodeError",
     "evalue": "'utf-8' codec can't decode byte 0xe9 in position 88: invalid continuation byte",
     "output_type": "error",
     "traceback": [
      "\u001b[1;31m---------------------------------------------------------------------------\u001b[0m",
      "\u001b[1;31mUnicodeDecodeError\u001b[0m                        Traceback (most recent call last)",
      "\u001b[1;31mUnicodeDecodeError\u001b[0m: 'utf-8' codec can't decode byte 0xe9 in position 88: invalid continuation byte"
     ]
    },
    {
     "name": "stderr",
     "output_type": "stream",
     "text": [
      "Exception ignored in: 'fiona._env.log_error'\n",
      "UnicodeDecodeError: 'utf-8' codec can't decode byte 0xe9 in position 88: invalid continuation byte\n"
     ]
    },
    {
     "ename": "UnicodeDecodeError",
     "evalue": "'utf-8' codec can't decode byte 0xe9 in position 88: invalid continuation byte",
     "output_type": "error",
     "traceback": [
      "\u001b[1;31m---------------------------------------------------------------------------\u001b[0m",
      "\u001b[1;31mUnicodeDecodeError\u001b[0m                        Traceback (most recent call last)",
      "\u001b[1;31mUnicodeDecodeError\u001b[0m: 'utf-8' codec can't decode byte 0xe9 in position 88: invalid continuation byte"
     ]
    },
    {
     "name": "stderr",
     "output_type": "stream",
     "text": [
      "Exception ignored in: 'fiona._env.log_error'\n",
      "UnicodeDecodeError: 'utf-8' codec can't decode byte 0xe9 in position 88: invalid continuation byte\n"
     ]
    },
    {
     "ename": "UnicodeDecodeError",
     "evalue": "'utf-8' codec can't decode byte 0xe9 in position 85: invalid continuation byte",
     "output_type": "error",
     "traceback": [
      "\u001b[1;31m---------------------------------------------------------------------------\u001b[0m",
      "\u001b[1;31mUnicodeDecodeError\u001b[0m                        Traceback (most recent call last)",
      "\u001b[1;31mUnicodeDecodeError\u001b[0m: 'utf-8' codec can't decode byte 0xe9 in position 85: invalid continuation byte"
     ]
    },
    {
     "name": "stderr",
     "output_type": "stream",
     "text": [
      "Exception ignored in: 'fiona._env.log_error'\n",
      "UnicodeDecodeError: 'utf-8' codec can't decode byte 0xe9 in position 85: invalid continuation byte\n"
     ]
    },
    {
     "ename": "UnicodeDecodeError",
     "evalue": "'utf-8' codec can't decode byte 0xe9 in position 85: invalid continuation byte",
     "output_type": "error",
     "traceback": [
      "\u001b[1;31m---------------------------------------------------------------------------\u001b[0m",
      "\u001b[1;31mUnicodeDecodeError\u001b[0m                        Traceback (most recent call last)",
      "\u001b[1;31mUnicodeDecodeError\u001b[0m: 'utf-8' codec can't decode byte 0xe9 in position 85: invalid continuation byte"
     ]
    },
    {
     "name": "stderr",
     "output_type": "stream",
     "text": [
      "Exception ignored in: 'fiona._env.log_error'\n",
      "UnicodeDecodeError: 'utf-8' codec can't decode byte 0xe9 in position 85: invalid continuation byte\n"
     ]
    },
    {
     "ename": "UnicodeDecodeError",
     "evalue": "'utf-8' codec can't decode byte 0xe9 in position 86: invalid continuation byte",
     "output_type": "error",
     "traceback": [
      "\u001b[1;31m---------------------------------------------------------------------------\u001b[0m",
      "\u001b[1;31mUnicodeDecodeError\u001b[0m                        Traceback (most recent call last)",
      "\u001b[1;31mUnicodeDecodeError\u001b[0m: 'utf-8' codec can't decode byte 0xe9 in position 86: invalid continuation byte"
     ]
    },
    {
     "name": "stderr",
     "output_type": "stream",
     "text": [
      "Exception ignored in: 'fiona._env.log_error'\n",
      "UnicodeDecodeError: 'utf-8' codec can't decode byte 0xe9 in position 86: invalid continuation byte\n"
     ]
    },
    {
     "ename": "UnicodeDecodeError",
     "evalue": "'utf-8' codec can't decode byte 0xe9 in position 86: invalid continuation byte",
     "output_type": "error",
     "traceback": [
      "\u001b[1;31m---------------------------------------------------------------------------\u001b[0m",
      "\u001b[1;31mUnicodeDecodeError\u001b[0m                        Traceback (most recent call last)",
      "\u001b[1;31mUnicodeDecodeError\u001b[0m: 'utf-8' codec can't decode byte 0xe9 in position 86: invalid continuation byte"
     ]
    },
    {
     "name": "stderr",
     "output_type": "stream",
     "text": [
      "Exception ignored in: 'fiona._env.log_error'\n",
      "UnicodeDecodeError: 'utf-8' codec can't decode byte 0xe9 in position 86: invalid continuation byte\n"
     ]
    },
    {
     "ename": "UnicodeDecodeError",
     "evalue": "'utf-8' codec can't decode byte 0xe9 in position 85: invalid continuation byte",
     "output_type": "error",
     "traceback": [
      "\u001b[1;31m---------------------------------------------------------------------------\u001b[0m",
      "\u001b[1;31mUnicodeDecodeError\u001b[0m                        Traceback (most recent call last)",
      "\u001b[1;31mUnicodeDecodeError\u001b[0m: 'utf-8' codec can't decode byte 0xe9 in position 85: invalid continuation byte"
     ]
    },
    {
     "name": "stderr",
     "output_type": "stream",
     "text": [
      "Exception ignored in: 'fiona._env.log_error'\n",
      "UnicodeDecodeError: 'utf-8' codec can't decode byte 0xe9 in position 85: invalid continuation byte\n"
     ]
    },
    {
     "ename": "UnicodeDecodeError",
     "evalue": "'utf-8' codec can't decode byte 0xe9 in position 85: invalid continuation byte",
     "output_type": "error",
     "traceback": [
      "\u001b[1;31m---------------------------------------------------------------------------\u001b[0m",
      "\u001b[1;31mUnicodeDecodeError\u001b[0m                        Traceback (most recent call last)",
      "\u001b[1;31mUnicodeDecodeError\u001b[0m: 'utf-8' codec can't decode byte 0xe9 in position 85: invalid continuation byte"
     ]
    },
    {
     "name": "stderr",
     "output_type": "stream",
     "text": [
      "Exception ignored in: 'fiona._env.log_error'\n",
      "UnicodeDecodeError: 'utf-8' codec can't decode byte 0xe9 in position 85: invalid continuation byte\n"
     ]
    },
    {
     "ename": "UnicodeDecodeError",
     "evalue": "'utf-8' codec can't decode byte 0xe9 in position 86: invalid continuation byte",
     "output_type": "error",
     "traceback": [
      "\u001b[1;31m---------------------------------------------------------------------------\u001b[0m",
      "\u001b[1;31mUnicodeDecodeError\u001b[0m                        Traceback (most recent call last)",
      "\u001b[1;31mUnicodeDecodeError\u001b[0m: 'utf-8' codec can't decode byte 0xe9 in position 86: invalid continuation byte"
     ]
    },
    {
     "name": "stderr",
     "output_type": "stream",
     "text": [
      "Exception ignored in: 'fiona._env.log_error'\n",
      "UnicodeDecodeError: 'utf-8' codec can't decode byte 0xe9 in position 86: invalid continuation byte\n"
     ]
    },
    {
     "ename": "UnicodeDecodeError",
     "evalue": "'utf-8' codec can't decode byte 0xe9 in position 86: invalid continuation byte",
     "output_type": "error",
     "traceback": [
      "\u001b[1;31m---------------------------------------------------------------------------\u001b[0m",
      "\u001b[1;31mUnicodeDecodeError\u001b[0m                        Traceback (most recent call last)",
      "\u001b[1;31mUnicodeDecodeError\u001b[0m: 'utf-8' codec can't decode byte 0xe9 in position 86: invalid continuation byte"
     ]
    },
    {
     "name": "stderr",
     "output_type": "stream",
     "text": [
      "Exception ignored in: 'fiona._env.log_error'\n",
      "UnicodeDecodeError: 'utf-8' codec can't decode byte 0xe9 in position 86: invalid continuation byte\n"
     ]
    },
    {
     "ename": "UnicodeDecodeError",
     "evalue": "'utf-8' codec can't decode byte 0xe9 in position 91: invalid continuation byte",
     "output_type": "error",
     "traceback": [
      "\u001b[1;31m---------------------------------------------------------------------------\u001b[0m",
      "\u001b[1;31mUnicodeDecodeError\u001b[0m                        Traceback (most recent call last)",
      "\u001b[1;31mUnicodeDecodeError\u001b[0m: 'utf-8' codec can't decode byte 0xe9 in position 91: invalid continuation byte"
     ]
    },
    {
     "name": "stderr",
     "output_type": "stream",
     "text": [
      "Exception ignored in: 'fiona._env.log_error'\n",
      "UnicodeDecodeError: 'utf-8' codec can't decode byte 0xe9 in position 91: invalid continuation byte\n"
     ]
    },
    {
     "ename": "UnicodeDecodeError",
     "evalue": "'utf-8' codec can't decode byte 0xe9 in position 91: invalid continuation byte",
     "output_type": "error",
     "traceback": [
      "\u001b[1;31m---------------------------------------------------------------------------\u001b[0m",
      "\u001b[1;31mUnicodeDecodeError\u001b[0m                        Traceback (most recent call last)",
      "\u001b[1;31mUnicodeDecodeError\u001b[0m: 'utf-8' codec can't decode byte 0xe9 in position 91: invalid continuation byte"
     ]
    },
    {
     "name": "stderr",
     "output_type": "stream",
     "text": [
      "Exception ignored in: 'fiona._env.log_error'\n",
      "UnicodeDecodeError: 'utf-8' codec can't decode byte 0xe9 in position 91: invalid continuation byte\n"
     ]
    },
    {
     "ename": "UnicodeDecodeError",
     "evalue": "'utf-8' codec can't decode byte 0xe9 in position 86: invalid continuation byte",
     "output_type": "error",
     "traceback": [
      "\u001b[1;31m---------------------------------------------------------------------------\u001b[0m",
      "\u001b[1;31mUnicodeDecodeError\u001b[0m                        Traceback (most recent call last)",
      "\u001b[1;31mUnicodeDecodeError\u001b[0m: 'utf-8' codec can't decode byte 0xe9 in position 86: invalid continuation byte"
     ]
    },
    {
     "name": "stderr",
     "output_type": "stream",
     "text": [
      "Exception ignored in: 'fiona._env.log_error'\n",
      "UnicodeDecodeError: 'utf-8' codec can't decode byte 0xe9 in position 86: invalid continuation byte\n"
     ]
    },
    {
     "ename": "UnicodeDecodeError",
     "evalue": "'utf-8' codec can't decode byte 0xe9 in position 86: invalid continuation byte",
     "output_type": "error",
     "traceback": [
      "\u001b[1;31m---------------------------------------------------------------------------\u001b[0m",
      "\u001b[1;31mUnicodeDecodeError\u001b[0m                        Traceback (most recent call last)",
      "\u001b[1;31mUnicodeDecodeError\u001b[0m: 'utf-8' codec can't decode byte 0xe9 in position 86: invalid continuation byte"
     ]
    },
    {
     "name": "stderr",
     "output_type": "stream",
     "text": [
      "Exception ignored in: 'fiona._env.log_error'\n",
      "UnicodeDecodeError: 'utf-8' codec can't decode byte 0xe9 in position 86: invalid continuation byte\n"
     ]
    },
    {
     "ename": "UnicodeDecodeError",
     "evalue": "'utf-8' codec can't decode byte 0xe9 in position 91: invalid continuation byte",
     "output_type": "error",
     "traceback": [
      "\u001b[1;31m---------------------------------------------------------------------------\u001b[0m",
      "\u001b[1;31mUnicodeDecodeError\u001b[0m                        Traceback (most recent call last)",
      "\u001b[1;31mUnicodeDecodeError\u001b[0m: 'utf-8' codec can't decode byte 0xe9 in position 91: invalid continuation byte"
     ]
    },
    {
     "name": "stderr",
     "output_type": "stream",
     "text": [
      "Exception ignored in: 'fiona._env.log_error'\n",
      "UnicodeDecodeError: 'utf-8' codec can't decode byte 0xe9 in position 91: invalid continuation byte\n"
     ]
    },
    {
     "ename": "UnicodeDecodeError",
     "evalue": "'utf-8' codec can't decode byte 0xe9 in position 91: invalid continuation byte",
     "output_type": "error",
     "traceback": [
      "\u001b[1;31m---------------------------------------------------------------------------\u001b[0m",
      "\u001b[1;31mUnicodeDecodeError\u001b[0m                        Traceback (most recent call last)",
      "\u001b[1;31mUnicodeDecodeError\u001b[0m: 'utf-8' codec can't decode byte 0xe9 in position 91: invalid continuation byte"
     ]
    },
    {
     "name": "stderr",
     "output_type": "stream",
     "text": [
      "Exception ignored in: 'fiona._env.log_error'\n",
      "UnicodeDecodeError: 'utf-8' codec can't decode byte 0xe9 in position 91: invalid continuation byte\n"
     ]
    },
    {
     "ename": "UnicodeDecodeError",
     "evalue": "'utf-8' codec can't decode byte 0xe9 in position 85: invalid continuation byte",
     "output_type": "error",
     "traceback": [
      "\u001b[1;31m---------------------------------------------------------------------------\u001b[0m",
      "\u001b[1;31mUnicodeDecodeError\u001b[0m                        Traceback (most recent call last)",
      "\u001b[1;31mUnicodeDecodeError\u001b[0m: 'utf-8' codec can't decode byte 0xe9 in position 85: invalid continuation byte"
     ]
    },
    {
     "name": "stderr",
     "output_type": "stream",
     "text": [
      "Exception ignored in: 'fiona._env.log_error'\n",
      "UnicodeDecodeError: 'utf-8' codec can't decode byte 0xe9 in position 85: invalid continuation byte\n"
     ]
    },
    {
     "ename": "UnicodeDecodeError",
     "evalue": "'utf-8' codec can't decode byte 0xe9 in position 85: invalid continuation byte",
     "output_type": "error",
     "traceback": [
      "\u001b[1;31m---------------------------------------------------------------------------\u001b[0m",
      "\u001b[1;31mUnicodeDecodeError\u001b[0m                        Traceback (most recent call last)",
      "\u001b[1;31mUnicodeDecodeError\u001b[0m: 'utf-8' codec can't decode byte 0xe9 in position 85: invalid continuation byte"
     ]
    },
    {
     "name": "stderr",
     "output_type": "stream",
     "text": [
      "Exception ignored in: 'fiona._env.log_error'\n",
      "UnicodeDecodeError: 'utf-8' codec can't decode byte 0xe9 in position 85: invalid continuation byte\n"
     ]
    },
    {
     "ename": "UnicodeDecodeError",
     "evalue": "'utf-8' codec can't decode byte 0xe9 in position 88: invalid continuation byte",
     "output_type": "error",
     "traceback": [
      "\u001b[1;31m---------------------------------------------------------------------------\u001b[0m",
      "\u001b[1;31mUnicodeDecodeError\u001b[0m                        Traceback (most recent call last)",
      "\u001b[1;31mUnicodeDecodeError\u001b[0m: 'utf-8' codec can't decode byte 0xe9 in position 88: invalid continuation byte"
     ]
    },
    {
     "name": "stderr",
     "output_type": "stream",
     "text": [
      "Exception ignored in: 'fiona._env.log_error'\n",
      "UnicodeDecodeError: 'utf-8' codec can't decode byte 0xe9 in position 88: invalid continuation byte\n"
     ]
    },
    {
     "ename": "UnicodeDecodeError",
     "evalue": "'utf-8' codec can't decode byte 0xe9 in position 88: invalid continuation byte",
     "output_type": "error",
     "traceback": [
      "\u001b[1;31m---------------------------------------------------------------------------\u001b[0m",
      "\u001b[1;31mUnicodeDecodeError\u001b[0m                        Traceback (most recent call last)",
      "\u001b[1;31mUnicodeDecodeError\u001b[0m: 'utf-8' codec can't decode byte 0xe9 in position 88: invalid continuation byte"
     ]
    },
    {
     "name": "stderr",
     "output_type": "stream",
     "text": [
      "Exception ignored in: 'fiona._env.log_error'\n",
      "UnicodeDecodeError: 'utf-8' codec can't decode byte 0xe9 in position 88: invalid continuation byte\n"
     ]
    },
    {
     "ename": "UnicodeDecodeError",
     "evalue": "'utf-8' codec can't decode byte 0xe9 in position 85: invalid continuation byte",
     "output_type": "error",
     "traceback": [
      "\u001b[1;31m---------------------------------------------------------------------------\u001b[0m",
      "\u001b[1;31mUnicodeDecodeError\u001b[0m                        Traceback (most recent call last)",
      "\u001b[1;31mUnicodeDecodeError\u001b[0m: 'utf-8' codec can't decode byte 0xe9 in position 85: invalid continuation byte"
     ]
    },
    {
     "name": "stderr",
     "output_type": "stream",
     "text": [
      "Exception ignored in: 'fiona._env.log_error'\n",
      "UnicodeDecodeError: 'utf-8' codec can't decode byte 0xe9 in position 85: invalid continuation byte\n"
     ]
    },
    {
     "ename": "UnicodeDecodeError",
     "evalue": "'utf-8' codec can't decode byte 0xe9 in position 85: invalid continuation byte",
     "output_type": "error",
     "traceback": [
      "\u001b[1;31m---------------------------------------------------------------------------\u001b[0m",
      "\u001b[1;31mUnicodeDecodeError\u001b[0m                        Traceback (most recent call last)",
      "\u001b[1;31mUnicodeDecodeError\u001b[0m: 'utf-8' codec can't decode byte 0xe9 in position 85: invalid continuation byte"
     ]
    },
    {
     "name": "stderr",
     "output_type": "stream",
     "text": [
      "Exception ignored in: 'fiona._env.log_error'\n",
      "UnicodeDecodeError: 'utf-8' codec can't decode byte 0xe9 in position 85: invalid continuation byte\n"
     ]
    },
    {
     "ename": "UnicodeDecodeError",
     "evalue": "'utf-8' codec can't decode byte 0xe9 in position 86: invalid continuation byte",
     "output_type": "error",
     "traceback": [
      "\u001b[1;31m---------------------------------------------------------------------------\u001b[0m",
      "\u001b[1;31mUnicodeDecodeError\u001b[0m                        Traceback (most recent call last)",
      "\u001b[1;31mUnicodeDecodeError\u001b[0m: 'utf-8' codec can't decode byte 0xe9 in position 86: invalid continuation byte"
     ]
    },
    {
     "name": "stderr",
     "output_type": "stream",
     "text": [
      "Exception ignored in: 'fiona._env.log_error'\n",
      "UnicodeDecodeError: 'utf-8' codec can't decode byte 0xe9 in position 86: invalid continuation byte\n"
     ]
    },
    {
     "ename": "UnicodeDecodeError",
     "evalue": "'utf-8' codec can't decode byte 0xe9 in position 86: invalid continuation byte",
     "output_type": "error",
     "traceback": [
      "\u001b[1;31m---------------------------------------------------------------------------\u001b[0m",
      "\u001b[1;31mUnicodeDecodeError\u001b[0m                        Traceback (most recent call last)",
      "\u001b[1;31mUnicodeDecodeError\u001b[0m: 'utf-8' codec can't decode byte 0xe9 in position 86: invalid continuation byte"
     ]
    },
    {
     "name": "stderr",
     "output_type": "stream",
     "text": [
      "Exception ignored in: 'fiona._env.log_error'\n",
      "UnicodeDecodeError: 'utf-8' codec can't decode byte 0xe9 in position 86: invalid continuation byte\n"
     ]
    },
    {
     "ename": "UnicodeDecodeError",
     "evalue": "'utf-8' codec can't decode byte 0xe9 in position 85: invalid continuation byte",
     "output_type": "error",
     "traceback": [
      "\u001b[1;31m---------------------------------------------------------------------------\u001b[0m",
      "\u001b[1;31mUnicodeDecodeError\u001b[0m                        Traceback (most recent call last)",
      "\u001b[1;31mUnicodeDecodeError\u001b[0m: 'utf-8' codec can't decode byte 0xe9 in position 85: invalid continuation byte"
     ]
    },
    {
     "name": "stderr",
     "output_type": "stream",
     "text": [
      "Exception ignored in: 'fiona._env.log_error'\n",
      "UnicodeDecodeError: 'utf-8' codec can't decode byte 0xe9 in position 85: invalid continuation byte\n"
     ]
    },
    {
     "ename": "UnicodeDecodeError",
     "evalue": "'utf-8' codec can't decode byte 0xe9 in position 85: invalid continuation byte",
     "output_type": "error",
     "traceback": [
      "\u001b[1;31m---------------------------------------------------------------------------\u001b[0m",
      "\u001b[1;31mUnicodeDecodeError\u001b[0m                        Traceback (most recent call last)",
      "\u001b[1;31mUnicodeDecodeError\u001b[0m: 'utf-8' codec can't decode byte 0xe9 in position 85: invalid continuation byte"
     ]
    },
    {
     "name": "stderr",
     "output_type": "stream",
     "text": [
      "Exception ignored in: 'fiona._env.log_error'\n",
      "UnicodeDecodeError: 'utf-8' codec can't decode byte 0xe9 in position 85: invalid continuation byte\n"
     ]
    },
    {
     "ename": "UnicodeDecodeError",
     "evalue": "'utf-8' codec can't decode byte 0xe9 in position 86: invalid continuation byte",
     "output_type": "error",
     "traceback": [
      "\u001b[1;31m---------------------------------------------------------------------------\u001b[0m",
      "\u001b[1;31mUnicodeDecodeError\u001b[0m                        Traceback (most recent call last)",
      "\u001b[1;31mUnicodeDecodeError\u001b[0m: 'utf-8' codec can't decode byte 0xe9 in position 86: invalid continuation byte"
     ]
    },
    {
     "name": "stderr",
     "output_type": "stream",
     "text": [
      "Exception ignored in: 'fiona._env.log_error'\n",
      "UnicodeDecodeError: 'utf-8' codec can't decode byte 0xe9 in position 86: invalid continuation byte\n"
     ]
    },
    {
     "ename": "UnicodeDecodeError",
     "evalue": "'utf-8' codec can't decode byte 0xe9 in position 86: invalid continuation byte",
     "output_type": "error",
     "traceback": [
      "\u001b[1;31m---------------------------------------------------------------------------\u001b[0m",
      "\u001b[1;31mUnicodeDecodeError\u001b[0m                        Traceback (most recent call last)",
      "\u001b[1;31mUnicodeDecodeError\u001b[0m: 'utf-8' codec can't decode byte 0xe9 in position 86: invalid continuation byte"
     ]
    },
    {
     "name": "stderr",
     "output_type": "stream",
     "text": [
      "Exception ignored in: 'fiona._env.log_error'\n",
      "UnicodeDecodeError: 'utf-8' codec can't decode byte 0xe9 in position 86: invalid continuation byte\n"
     ]
    },
    {
     "ename": "UnicodeDecodeError",
     "evalue": "'utf-8' codec can't decode byte 0xe9 in position 91: invalid continuation byte",
     "output_type": "error",
     "traceback": [
      "\u001b[1;31m---------------------------------------------------------------------------\u001b[0m",
      "\u001b[1;31mUnicodeDecodeError\u001b[0m                        Traceback (most recent call last)",
      "\u001b[1;31mUnicodeDecodeError\u001b[0m: 'utf-8' codec can't decode byte 0xe9 in position 91: invalid continuation byte"
     ]
    },
    {
     "name": "stderr",
     "output_type": "stream",
     "text": [
      "Exception ignored in: 'fiona._env.log_error'\n",
      "UnicodeDecodeError: 'utf-8' codec can't decode byte 0xe9 in position 91: invalid continuation byte\n"
     ]
    },
    {
     "ename": "UnicodeDecodeError",
     "evalue": "'utf-8' codec can't decode byte 0xe9 in position 91: invalid continuation byte",
     "output_type": "error",
     "traceback": [
      "\u001b[1;31m---------------------------------------------------------------------------\u001b[0m",
      "\u001b[1;31mUnicodeDecodeError\u001b[0m                        Traceback (most recent call last)",
      "\u001b[1;31mUnicodeDecodeError\u001b[0m: 'utf-8' codec can't decode byte 0xe9 in position 91: invalid continuation byte"
     ]
    },
    {
     "name": "stderr",
     "output_type": "stream",
     "text": [
      "Exception ignored in: 'fiona._env.log_error'\n",
      "UnicodeDecodeError: 'utf-8' codec can't decode byte 0xe9 in position 91: invalid continuation byte\n"
     ]
    },
    {
     "ename": "UnicodeDecodeError",
     "evalue": "'utf-8' codec can't decode byte 0xe9 in position 86: invalid continuation byte",
     "output_type": "error",
     "traceback": [
      "\u001b[1;31m---------------------------------------------------------------------------\u001b[0m",
      "\u001b[1;31mUnicodeDecodeError\u001b[0m                        Traceback (most recent call last)",
      "\u001b[1;31mUnicodeDecodeError\u001b[0m: 'utf-8' codec can't decode byte 0xe9 in position 86: invalid continuation byte"
     ]
    },
    {
     "name": "stderr",
     "output_type": "stream",
     "text": [
      "Exception ignored in: 'fiona._env.log_error'\n",
      "UnicodeDecodeError: 'utf-8' codec can't decode byte 0xe9 in position 86: invalid continuation byte\n"
     ]
    },
    {
     "ename": "UnicodeDecodeError",
     "evalue": "'utf-8' codec can't decode byte 0xe9 in position 86: invalid continuation byte",
     "output_type": "error",
     "traceback": [
      "\u001b[1;31m---------------------------------------------------------------------------\u001b[0m",
      "\u001b[1;31mUnicodeDecodeError\u001b[0m                        Traceback (most recent call last)",
      "\u001b[1;31mUnicodeDecodeError\u001b[0m: 'utf-8' codec can't decode byte 0xe9 in position 86: invalid continuation byte"
     ]
    },
    {
     "name": "stderr",
     "output_type": "stream",
     "text": [
      "Exception ignored in: 'fiona._env.log_error'\n",
      "UnicodeDecodeError: 'utf-8' codec can't decode byte 0xe9 in position 86: invalid continuation byte\n"
     ]
    },
    {
     "ename": "UnicodeDecodeError",
     "evalue": "'utf-8' codec can't decode byte 0xe9 in position 91: invalid continuation byte",
     "output_type": "error",
     "traceback": [
      "\u001b[1;31m---------------------------------------------------------------------------\u001b[0m",
      "\u001b[1;31mUnicodeDecodeError\u001b[0m                        Traceback (most recent call last)",
      "\u001b[1;31mUnicodeDecodeError\u001b[0m: 'utf-8' codec can't decode byte 0xe9 in position 91: invalid continuation byte"
     ]
    },
    {
     "name": "stderr",
     "output_type": "stream",
     "text": [
      "Exception ignored in: 'fiona._env.log_error'\n",
      "UnicodeDecodeError: 'utf-8' codec can't decode byte 0xe9 in position 91: invalid continuation byte\n"
     ]
    },
    {
     "ename": "UnicodeDecodeError",
     "evalue": "'utf-8' codec can't decode byte 0xe9 in position 91: invalid continuation byte",
     "output_type": "error",
     "traceback": [
      "\u001b[1;31m---------------------------------------------------------------------------\u001b[0m",
      "\u001b[1;31mUnicodeDecodeError\u001b[0m                        Traceback (most recent call last)",
      "\u001b[1;31mUnicodeDecodeError\u001b[0m: 'utf-8' codec can't decode byte 0xe9 in position 91: invalid continuation byte"
     ]
    },
    {
     "name": "stderr",
     "output_type": "stream",
     "text": [
      "Exception ignored in: 'fiona._env.log_error'\n",
      "UnicodeDecodeError: 'utf-8' codec can't decode byte 0xe9 in position 91: invalid continuation byte\n"
     ]
    },
    {
     "ename": "UnicodeDecodeError",
     "evalue": "'utf-8' codec can't decode byte 0xe9 in position 85: invalid continuation byte",
     "output_type": "error",
     "traceback": [
      "\u001b[1;31m---------------------------------------------------------------------------\u001b[0m",
      "\u001b[1;31mUnicodeDecodeError\u001b[0m                        Traceback (most recent call last)",
      "\u001b[1;31mUnicodeDecodeError\u001b[0m: 'utf-8' codec can't decode byte 0xe9 in position 85: invalid continuation byte"
     ]
    },
    {
     "name": "stderr",
     "output_type": "stream",
     "text": [
      "Exception ignored in: 'fiona._env.log_error'\n",
      "UnicodeDecodeError: 'utf-8' codec can't decode byte 0xe9 in position 85: invalid continuation byte\n"
     ]
    },
    {
     "ename": "UnicodeDecodeError",
     "evalue": "'utf-8' codec can't decode byte 0xe9 in position 85: invalid continuation byte",
     "output_type": "error",
     "traceback": [
      "\u001b[1;31m---------------------------------------------------------------------------\u001b[0m",
      "\u001b[1;31mUnicodeDecodeError\u001b[0m                        Traceback (most recent call last)",
      "\u001b[1;31mUnicodeDecodeError\u001b[0m: 'utf-8' codec can't decode byte 0xe9 in position 85: invalid continuation byte"
     ]
    },
    {
     "name": "stderr",
     "output_type": "stream",
     "text": [
      "Exception ignored in: 'fiona._env.log_error'\n",
      "UnicodeDecodeError: 'utf-8' codec can't decode byte 0xe9 in position 85: invalid continuation byte\n"
     ]
    },
    {
     "ename": "UnicodeDecodeError",
     "evalue": "'utf-8' codec can't decode byte 0xe9 in position 88: invalid continuation byte",
     "output_type": "error",
     "traceback": [
      "\u001b[1;31m---------------------------------------------------------------------------\u001b[0m",
      "\u001b[1;31mUnicodeDecodeError\u001b[0m                        Traceback (most recent call last)",
      "\u001b[1;31mUnicodeDecodeError\u001b[0m: 'utf-8' codec can't decode byte 0xe9 in position 88: invalid continuation byte"
     ]
    },
    {
     "name": "stderr",
     "output_type": "stream",
     "text": [
      "Exception ignored in: 'fiona._env.log_error'\n",
      "UnicodeDecodeError: 'utf-8' codec can't decode byte 0xe9 in position 88: invalid continuation byte\n"
     ]
    },
    {
     "ename": "UnicodeDecodeError",
     "evalue": "'utf-8' codec can't decode byte 0xe9 in position 88: invalid continuation byte",
     "output_type": "error",
     "traceback": [
      "\u001b[1;31m---------------------------------------------------------------------------\u001b[0m",
      "\u001b[1;31mUnicodeDecodeError\u001b[0m                        Traceback (most recent call last)",
      "\u001b[1;31mUnicodeDecodeError\u001b[0m: 'utf-8' codec can't decode byte 0xe9 in position 88: invalid continuation byte"
     ]
    },
    {
     "name": "stderr",
     "output_type": "stream",
     "text": [
      "Exception ignored in: 'fiona._env.log_error'\n",
      "UnicodeDecodeError: 'utf-8' codec can't decode byte 0xe9 in position 88: invalid continuation byte\n"
     ]
    },
    {
     "ename": "UnicodeDecodeError",
     "evalue": "'utf-8' codec can't decode byte 0xe9 in position 85: invalid continuation byte",
     "output_type": "error",
     "traceback": [
      "\u001b[1;31m---------------------------------------------------------------------------\u001b[0m",
      "\u001b[1;31mUnicodeDecodeError\u001b[0m                        Traceback (most recent call last)",
      "\u001b[1;31mUnicodeDecodeError\u001b[0m: 'utf-8' codec can't decode byte 0xe9 in position 85: invalid continuation byte"
     ]
    },
    {
     "name": "stderr",
     "output_type": "stream",
     "text": [
      "Exception ignored in: 'fiona._env.log_error'\n",
      "UnicodeDecodeError: 'utf-8' codec can't decode byte 0xe9 in position 85: invalid continuation byte\n"
     ]
    },
    {
     "ename": "UnicodeDecodeError",
     "evalue": "'utf-8' codec can't decode byte 0xe9 in position 85: invalid continuation byte",
     "output_type": "error",
     "traceback": [
      "\u001b[1;31m---------------------------------------------------------------------------\u001b[0m",
      "\u001b[1;31mUnicodeDecodeError\u001b[0m                        Traceback (most recent call last)",
      "\u001b[1;31mUnicodeDecodeError\u001b[0m: 'utf-8' codec can't decode byte 0xe9 in position 85: invalid continuation byte"
     ]
    },
    {
     "name": "stderr",
     "output_type": "stream",
     "text": [
      "Exception ignored in: 'fiona._env.log_error'\n",
      "UnicodeDecodeError: 'utf-8' codec can't decode byte 0xe9 in position 85: invalid continuation byte\n"
     ]
    },
    {
     "ename": "UnicodeDecodeError",
     "evalue": "'utf-8' codec can't decode byte 0xe9 in position 86: invalid continuation byte",
     "output_type": "error",
     "traceback": [
      "\u001b[1;31m---------------------------------------------------------------------------\u001b[0m",
      "\u001b[1;31mUnicodeDecodeError\u001b[0m                        Traceback (most recent call last)",
      "\u001b[1;31mUnicodeDecodeError\u001b[0m: 'utf-8' codec can't decode byte 0xe9 in position 86: invalid continuation byte"
     ]
    },
    {
     "name": "stderr",
     "output_type": "stream",
     "text": [
      "Exception ignored in: 'fiona._env.log_error'\n",
      "UnicodeDecodeError: 'utf-8' codec can't decode byte 0xe9 in position 86: invalid continuation byte\n"
     ]
    },
    {
     "ename": "UnicodeDecodeError",
     "evalue": "'utf-8' codec can't decode byte 0xe9 in position 86: invalid continuation byte",
     "output_type": "error",
     "traceback": [
      "\u001b[1;31m---------------------------------------------------------------------------\u001b[0m",
      "\u001b[1;31mUnicodeDecodeError\u001b[0m                        Traceback (most recent call last)",
      "\u001b[1;31mUnicodeDecodeError\u001b[0m: 'utf-8' codec can't decode byte 0xe9 in position 86: invalid continuation byte"
     ]
    },
    {
     "name": "stderr",
     "output_type": "stream",
     "text": [
      "Exception ignored in: 'fiona._env.log_error'\n",
      "UnicodeDecodeError: 'utf-8' codec can't decode byte 0xe9 in position 86: invalid continuation byte\n"
     ]
    },
    {
     "ename": "UnicodeDecodeError",
     "evalue": "'utf-8' codec can't decode byte 0xe9 in position 85: invalid continuation byte",
     "output_type": "error",
     "traceback": [
      "\u001b[1;31m---------------------------------------------------------------------------\u001b[0m",
      "\u001b[1;31mUnicodeDecodeError\u001b[0m                        Traceback (most recent call last)",
      "\u001b[1;31mUnicodeDecodeError\u001b[0m: 'utf-8' codec can't decode byte 0xe9 in position 85: invalid continuation byte"
     ]
    },
    {
     "name": "stderr",
     "output_type": "stream",
     "text": [
      "Exception ignored in: 'fiona._env.log_error'\n",
      "UnicodeDecodeError: 'utf-8' codec can't decode byte 0xe9 in position 85: invalid continuation byte\n"
     ]
    },
    {
     "ename": "UnicodeDecodeError",
     "evalue": "'utf-8' codec can't decode byte 0xe9 in position 85: invalid continuation byte",
     "output_type": "error",
     "traceback": [
      "\u001b[1;31m---------------------------------------------------------------------------\u001b[0m",
      "\u001b[1;31mUnicodeDecodeError\u001b[0m                        Traceback (most recent call last)",
      "\u001b[1;31mUnicodeDecodeError\u001b[0m: 'utf-8' codec can't decode byte 0xe9 in position 85: invalid continuation byte"
     ]
    },
    {
     "name": "stderr",
     "output_type": "stream",
     "text": [
      "Exception ignored in: 'fiona._env.log_error'\n",
      "UnicodeDecodeError: 'utf-8' codec can't decode byte 0xe9 in position 85: invalid continuation byte\n"
     ]
    },
    {
     "ename": "UnicodeDecodeError",
     "evalue": "'utf-8' codec can't decode byte 0xe9 in position 86: invalid continuation byte",
     "output_type": "error",
     "traceback": [
      "\u001b[1;31m---------------------------------------------------------------------------\u001b[0m",
      "\u001b[1;31mUnicodeDecodeError\u001b[0m                        Traceback (most recent call last)",
      "\u001b[1;31mUnicodeDecodeError\u001b[0m: 'utf-8' codec can't decode byte 0xe9 in position 86: invalid continuation byte"
     ]
    },
    {
     "name": "stderr",
     "output_type": "stream",
     "text": [
      "Exception ignored in: 'fiona._env.log_error'\n",
      "UnicodeDecodeError: 'utf-8' codec can't decode byte 0xe9 in position 86: invalid continuation byte\n"
     ]
    },
    {
     "ename": "UnicodeDecodeError",
     "evalue": "'utf-8' codec can't decode byte 0xe9 in position 86: invalid continuation byte",
     "output_type": "error",
     "traceback": [
      "\u001b[1;31m---------------------------------------------------------------------------\u001b[0m",
      "\u001b[1;31mUnicodeDecodeError\u001b[0m                        Traceback (most recent call last)",
      "\u001b[1;31mUnicodeDecodeError\u001b[0m: 'utf-8' codec can't decode byte 0xe9 in position 86: invalid continuation byte"
     ]
    },
    {
     "name": "stderr",
     "output_type": "stream",
     "text": [
      "Exception ignored in: 'fiona._env.log_error'\n",
      "UnicodeDecodeError: 'utf-8' codec can't decode byte 0xe9 in position 86: invalid continuation byte\n"
     ]
    },
    {
     "ename": "UnicodeDecodeError",
     "evalue": "'utf-8' codec can't decode byte 0xe9 in position 91: invalid continuation byte",
     "output_type": "error",
     "traceback": [
      "\u001b[1;31m---------------------------------------------------------------------------\u001b[0m",
      "\u001b[1;31mUnicodeDecodeError\u001b[0m                        Traceback (most recent call last)",
      "\u001b[1;31mUnicodeDecodeError\u001b[0m: 'utf-8' codec can't decode byte 0xe9 in position 91: invalid continuation byte"
     ]
    },
    {
     "name": "stderr",
     "output_type": "stream",
     "text": [
      "Exception ignored in: 'fiona._env.log_error'\n",
      "UnicodeDecodeError: 'utf-8' codec can't decode byte 0xe9 in position 91: invalid continuation byte\n"
     ]
    },
    {
     "ename": "UnicodeDecodeError",
     "evalue": "'utf-8' codec can't decode byte 0xe9 in position 91: invalid continuation byte",
     "output_type": "error",
     "traceback": [
      "\u001b[1;31m---------------------------------------------------------------------------\u001b[0m",
      "\u001b[1;31mUnicodeDecodeError\u001b[0m                        Traceback (most recent call last)",
      "\u001b[1;31mUnicodeDecodeError\u001b[0m: 'utf-8' codec can't decode byte 0xe9 in position 91: invalid continuation byte"
     ]
    },
    {
     "name": "stderr",
     "output_type": "stream",
     "text": [
      "Exception ignored in: 'fiona._env.log_error'\n",
      "UnicodeDecodeError: 'utf-8' codec can't decode byte 0xe9 in position 91: invalid continuation byte\n"
     ]
    },
    {
     "ename": "UnicodeDecodeError",
     "evalue": "'utf-8' codec can't decode byte 0xe9 in position 86: invalid continuation byte",
     "output_type": "error",
     "traceback": [
      "\u001b[1;31m---------------------------------------------------------------------------\u001b[0m",
      "\u001b[1;31mUnicodeDecodeError\u001b[0m                        Traceback (most recent call last)",
      "\u001b[1;31mUnicodeDecodeError\u001b[0m: 'utf-8' codec can't decode byte 0xe9 in position 86: invalid continuation byte"
     ]
    },
    {
     "name": "stderr",
     "output_type": "stream",
     "text": [
      "Exception ignored in: 'fiona._env.log_error'\n",
      "UnicodeDecodeError: 'utf-8' codec can't decode byte 0xe9 in position 86: invalid continuation byte\n"
     ]
    },
    {
     "ename": "UnicodeDecodeError",
     "evalue": "'utf-8' codec can't decode byte 0xe9 in position 86: invalid continuation byte",
     "output_type": "error",
     "traceback": [
      "\u001b[1;31m---------------------------------------------------------------------------\u001b[0m",
      "\u001b[1;31mUnicodeDecodeError\u001b[0m                        Traceback (most recent call last)",
      "\u001b[1;31mUnicodeDecodeError\u001b[0m: 'utf-8' codec can't decode byte 0xe9 in position 86: invalid continuation byte"
     ]
    },
    {
     "name": "stderr",
     "output_type": "stream",
     "text": [
      "Exception ignored in: 'fiona._env.log_error'\n",
      "UnicodeDecodeError: 'utf-8' codec can't decode byte 0xe9 in position 86: invalid continuation byte\n"
     ]
    },
    {
     "ename": "UnicodeDecodeError",
     "evalue": "'utf-8' codec can't decode byte 0xe9 in position 91: invalid continuation byte",
     "output_type": "error",
     "traceback": [
      "\u001b[1;31m---------------------------------------------------------------------------\u001b[0m",
      "\u001b[1;31mUnicodeDecodeError\u001b[0m                        Traceback (most recent call last)",
      "\u001b[1;31mUnicodeDecodeError\u001b[0m: 'utf-8' codec can't decode byte 0xe9 in position 91: invalid continuation byte"
     ]
    },
    {
     "name": "stderr",
     "output_type": "stream",
     "text": [
      "Exception ignored in: 'fiona._env.log_error'\n",
      "UnicodeDecodeError: 'utf-8' codec can't decode byte 0xe9 in position 91: invalid continuation byte\n"
     ]
    },
    {
     "ename": "UnicodeDecodeError",
     "evalue": "'utf-8' codec can't decode byte 0xe9 in position 91: invalid continuation byte",
     "output_type": "error",
     "traceback": [
      "\u001b[1;31m---------------------------------------------------------------------------\u001b[0m",
      "\u001b[1;31mUnicodeDecodeError\u001b[0m                        Traceback (most recent call last)",
      "\u001b[1;31mUnicodeDecodeError\u001b[0m: 'utf-8' codec can't decode byte 0xe9 in position 91: invalid continuation byte"
     ]
    },
    {
     "name": "stderr",
     "output_type": "stream",
     "text": [
      "Exception ignored in: 'fiona._env.log_error'\n",
      "UnicodeDecodeError: 'utf-8' codec can't decode byte 0xe9 in position 91: invalid continuation byte\n"
     ]
    },
    {
     "ename": "UnicodeDecodeError",
     "evalue": "'utf-8' codec can't decode byte 0xe9 in position 85: invalid continuation byte",
     "output_type": "error",
     "traceback": [
      "\u001b[1;31m---------------------------------------------------------------------------\u001b[0m",
      "\u001b[1;31mUnicodeDecodeError\u001b[0m                        Traceback (most recent call last)",
      "\u001b[1;31mUnicodeDecodeError\u001b[0m: 'utf-8' codec can't decode byte 0xe9 in position 85: invalid continuation byte"
     ]
    },
    {
     "name": "stderr",
     "output_type": "stream",
     "text": [
      "Exception ignored in: 'fiona._env.log_error'\n",
      "UnicodeDecodeError: 'utf-8' codec can't decode byte 0xe9 in position 85: invalid continuation byte\n"
     ]
    },
    {
     "ename": "UnicodeDecodeError",
     "evalue": "'utf-8' codec can't decode byte 0xe9 in position 85: invalid continuation byte",
     "output_type": "error",
     "traceback": [
      "\u001b[1;31m---------------------------------------------------------------------------\u001b[0m",
      "\u001b[1;31mUnicodeDecodeError\u001b[0m                        Traceback (most recent call last)",
      "\u001b[1;31mUnicodeDecodeError\u001b[0m: 'utf-8' codec can't decode byte 0xe9 in position 85: invalid continuation byte"
     ]
    },
    {
     "name": "stderr",
     "output_type": "stream",
     "text": [
      "Exception ignored in: 'fiona._env.log_error'\n",
      "UnicodeDecodeError: 'utf-8' codec can't decode byte 0xe9 in position 85: invalid continuation byte\n"
     ]
    },
    {
     "ename": "UnicodeDecodeError",
     "evalue": "'utf-8' codec can't decode byte 0xe9 in position 88: invalid continuation byte",
     "output_type": "error",
     "traceback": [
      "\u001b[1;31m---------------------------------------------------------------------------\u001b[0m",
      "\u001b[1;31mUnicodeDecodeError\u001b[0m                        Traceback (most recent call last)",
      "\u001b[1;31mUnicodeDecodeError\u001b[0m: 'utf-8' codec can't decode byte 0xe9 in position 88: invalid continuation byte"
     ]
    },
    {
     "name": "stderr",
     "output_type": "stream",
     "text": [
      "Exception ignored in: 'fiona._env.log_error'\n",
      "UnicodeDecodeError: 'utf-8' codec can't decode byte 0xe9 in position 88: invalid continuation byte\n"
     ]
    },
    {
     "ename": "UnicodeDecodeError",
     "evalue": "'utf-8' codec can't decode byte 0xe9 in position 88: invalid continuation byte",
     "output_type": "error",
     "traceback": [
      "\u001b[1;31m---------------------------------------------------------------------------\u001b[0m",
      "\u001b[1;31mUnicodeDecodeError\u001b[0m                        Traceback (most recent call last)",
      "\u001b[1;31mUnicodeDecodeError\u001b[0m: 'utf-8' codec can't decode byte 0xe9 in position 88: invalid continuation byte"
     ]
    },
    {
     "name": "stderr",
     "output_type": "stream",
     "text": [
      "Exception ignored in: 'fiona._env.log_error'\n",
      "UnicodeDecodeError: 'utf-8' codec can't decode byte 0xe9 in position 88: invalid continuation byte\n"
     ]
    },
    {
     "ename": "UnicodeDecodeError",
     "evalue": "'utf-8' codec can't decode byte 0xe9 in position 85: invalid continuation byte",
     "output_type": "error",
     "traceback": [
      "\u001b[1;31m---------------------------------------------------------------------------\u001b[0m",
      "\u001b[1;31mUnicodeDecodeError\u001b[0m                        Traceback (most recent call last)",
      "\u001b[1;31mUnicodeDecodeError\u001b[0m: 'utf-8' codec can't decode byte 0xe9 in position 85: invalid continuation byte"
     ]
    },
    {
     "name": "stderr",
     "output_type": "stream",
     "text": [
      "Exception ignored in: 'fiona._env.log_error'\n",
      "UnicodeDecodeError: 'utf-8' codec can't decode byte 0xe9 in position 85: invalid continuation byte\n"
     ]
    },
    {
     "ename": "UnicodeDecodeError",
     "evalue": "'utf-8' codec can't decode byte 0xe9 in position 85: invalid continuation byte",
     "output_type": "error",
     "traceback": [
      "\u001b[1;31m---------------------------------------------------------------------------\u001b[0m",
      "\u001b[1;31mUnicodeDecodeError\u001b[0m                        Traceback (most recent call last)",
      "\u001b[1;31mUnicodeDecodeError\u001b[0m: 'utf-8' codec can't decode byte 0xe9 in position 85: invalid continuation byte"
     ]
    },
    {
     "name": "stderr",
     "output_type": "stream",
     "text": [
      "Exception ignored in: 'fiona._env.log_error'\n",
      "UnicodeDecodeError: 'utf-8' codec can't decode byte 0xe9 in position 85: invalid continuation byte\n"
     ]
    },
    {
     "ename": "UnicodeDecodeError",
     "evalue": "'utf-8' codec can't decode byte 0xe9 in position 86: invalid continuation byte",
     "output_type": "error",
     "traceback": [
      "\u001b[1;31m---------------------------------------------------------------------------\u001b[0m",
      "\u001b[1;31mUnicodeDecodeError\u001b[0m                        Traceback (most recent call last)",
      "\u001b[1;31mUnicodeDecodeError\u001b[0m: 'utf-8' codec can't decode byte 0xe9 in position 86: invalid continuation byte"
     ]
    },
    {
     "name": "stderr",
     "output_type": "stream",
     "text": [
      "Exception ignored in: 'fiona._env.log_error'\n",
      "UnicodeDecodeError: 'utf-8' codec can't decode byte 0xe9 in position 86: invalid continuation byte\n"
     ]
    },
    {
     "ename": "UnicodeDecodeError",
     "evalue": "'utf-8' codec can't decode byte 0xe9 in position 86: invalid continuation byte",
     "output_type": "error",
     "traceback": [
      "\u001b[1;31m---------------------------------------------------------------------------\u001b[0m",
      "\u001b[1;31mUnicodeDecodeError\u001b[0m                        Traceback (most recent call last)",
      "\u001b[1;31mUnicodeDecodeError\u001b[0m: 'utf-8' codec can't decode byte 0xe9 in position 86: invalid continuation byte"
     ]
    },
    {
     "name": "stderr",
     "output_type": "stream",
     "text": [
      "Exception ignored in: 'fiona._env.log_error'\n",
      "UnicodeDecodeError: 'utf-8' codec can't decode byte 0xe9 in position 86: invalid continuation byte\n"
     ]
    },
    {
     "ename": "UnicodeDecodeError",
     "evalue": "'utf-8' codec can't decode byte 0xe9 in position 85: invalid continuation byte",
     "output_type": "error",
     "traceback": [
      "\u001b[1;31m---------------------------------------------------------------------------\u001b[0m",
      "\u001b[1;31mUnicodeDecodeError\u001b[0m                        Traceback (most recent call last)",
      "\u001b[1;31mUnicodeDecodeError\u001b[0m: 'utf-8' codec can't decode byte 0xe9 in position 85: invalid continuation byte"
     ]
    },
    {
     "name": "stderr",
     "output_type": "stream",
     "text": [
      "Exception ignored in: 'fiona._env.log_error'\n",
      "UnicodeDecodeError: 'utf-8' codec can't decode byte 0xe9 in position 85: invalid continuation byte\n"
     ]
    },
    {
     "ename": "UnicodeDecodeError",
     "evalue": "'utf-8' codec can't decode byte 0xe9 in position 85: invalid continuation byte",
     "output_type": "error",
     "traceback": [
      "\u001b[1;31m---------------------------------------------------------------------------\u001b[0m",
      "\u001b[1;31mUnicodeDecodeError\u001b[0m                        Traceback (most recent call last)",
      "\u001b[1;31mUnicodeDecodeError\u001b[0m: 'utf-8' codec can't decode byte 0xe9 in position 85: invalid continuation byte"
     ]
    },
    {
     "name": "stderr",
     "output_type": "stream",
     "text": [
      "Exception ignored in: 'fiona._env.log_error'\n",
      "UnicodeDecodeError: 'utf-8' codec can't decode byte 0xe9 in position 85: invalid continuation byte\n"
     ]
    },
    {
     "ename": "UnicodeDecodeError",
     "evalue": "'utf-8' codec can't decode byte 0xe9 in position 86: invalid continuation byte",
     "output_type": "error",
     "traceback": [
      "\u001b[1;31m---------------------------------------------------------------------------\u001b[0m",
      "\u001b[1;31mUnicodeDecodeError\u001b[0m                        Traceback (most recent call last)",
      "\u001b[1;31mUnicodeDecodeError\u001b[0m: 'utf-8' codec can't decode byte 0xe9 in position 86: invalid continuation byte"
     ]
    },
    {
     "name": "stderr",
     "output_type": "stream",
     "text": [
      "Exception ignored in: 'fiona._env.log_error'\n",
      "UnicodeDecodeError: 'utf-8' codec can't decode byte 0xe9 in position 86: invalid continuation byte\n"
     ]
    },
    {
     "ename": "UnicodeDecodeError",
     "evalue": "'utf-8' codec can't decode byte 0xe9 in position 86: invalid continuation byte",
     "output_type": "error",
     "traceback": [
      "\u001b[1;31m---------------------------------------------------------------------------\u001b[0m",
      "\u001b[1;31mUnicodeDecodeError\u001b[0m                        Traceback (most recent call last)",
      "\u001b[1;31mUnicodeDecodeError\u001b[0m: 'utf-8' codec can't decode byte 0xe9 in position 86: invalid continuation byte"
     ]
    },
    {
     "name": "stderr",
     "output_type": "stream",
     "text": [
      "Exception ignored in: 'fiona._env.log_error'\n",
      "UnicodeDecodeError: 'utf-8' codec can't decode byte 0xe9 in position 86: invalid continuation byte\n"
     ]
    },
    {
     "ename": "UnicodeDecodeError",
     "evalue": "'utf-8' codec can't decode byte 0xe9 in position 91: invalid continuation byte",
     "output_type": "error",
     "traceback": [
      "\u001b[1;31m---------------------------------------------------------------------------\u001b[0m",
      "\u001b[1;31mUnicodeDecodeError\u001b[0m                        Traceback (most recent call last)",
      "\u001b[1;31mUnicodeDecodeError\u001b[0m: 'utf-8' codec can't decode byte 0xe9 in position 91: invalid continuation byte"
     ]
    },
    {
     "name": "stderr",
     "output_type": "stream",
     "text": [
      "Exception ignored in: 'fiona._env.log_error'\n",
      "UnicodeDecodeError: 'utf-8' codec can't decode byte 0xe9 in position 91: invalid continuation byte\n"
     ]
    },
    {
     "ename": "UnicodeDecodeError",
     "evalue": "'utf-8' codec can't decode byte 0xe9 in position 91: invalid continuation byte",
     "output_type": "error",
     "traceback": [
      "\u001b[1;31m---------------------------------------------------------------------------\u001b[0m",
      "\u001b[1;31mUnicodeDecodeError\u001b[0m                        Traceback (most recent call last)",
      "\u001b[1;31mUnicodeDecodeError\u001b[0m: 'utf-8' codec can't decode byte 0xe9 in position 91: invalid continuation byte"
     ]
    },
    {
     "name": "stderr",
     "output_type": "stream",
     "text": [
      "Exception ignored in: 'fiona._env.log_error'\n",
      "UnicodeDecodeError: 'utf-8' codec can't decode byte 0xe9 in position 91: invalid continuation byte\n"
     ]
    },
    {
     "ename": "UnicodeDecodeError",
     "evalue": "'utf-8' codec can't decode byte 0xe9 in position 86: invalid continuation byte",
     "output_type": "error",
     "traceback": [
      "\u001b[1;31m---------------------------------------------------------------------------\u001b[0m",
      "\u001b[1;31mUnicodeDecodeError\u001b[0m                        Traceback (most recent call last)",
      "\u001b[1;31mUnicodeDecodeError\u001b[0m: 'utf-8' codec can't decode byte 0xe9 in position 86: invalid continuation byte"
     ]
    },
    {
     "name": "stderr",
     "output_type": "stream",
     "text": [
      "Exception ignored in: 'fiona._env.log_error'\n",
      "UnicodeDecodeError: 'utf-8' codec can't decode byte 0xe9 in position 86: invalid continuation byte\n"
     ]
    },
    {
     "ename": "UnicodeDecodeError",
     "evalue": "'utf-8' codec can't decode byte 0xe9 in position 86: invalid continuation byte",
     "output_type": "error",
     "traceback": [
      "\u001b[1;31m---------------------------------------------------------------------------\u001b[0m",
      "\u001b[1;31mUnicodeDecodeError\u001b[0m                        Traceback (most recent call last)",
      "\u001b[1;31mUnicodeDecodeError\u001b[0m: 'utf-8' codec can't decode byte 0xe9 in position 86: invalid continuation byte"
     ]
    },
    {
     "name": "stderr",
     "output_type": "stream",
     "text": [
      "Exception ignored in: 'fiona._env.log_error'\n",
      "UnicodeDecodeError: 'utf-8' codec can't decode byte 0xe9 in position 86: invalid continuation byte\n"
     ]
    },
    {
     "ename": "UnicodeDecodeError",
     "evalue": "'utf-8' codec can't decode byte 0xe9 in position 91: invalid continuation byte",
     "output_type": "error",
     "traceback": [
      "\u001b[1;31m---------------------------------------------------------------------------\u001b[0m",
      "\u001b[1;31mUnicodeDecodeError\u001b[0m                        Traceback (most recent call last)",
      "\u001b[1;31mUnicodeDecodeError\u001b[0m: 'utf-8' codec can't decode byte 0xe9 in position 91: invalid continuation byte"
     ]
    },
    {
     "name": "stderr",
     "output_type": "stream",
     "text": [
      "Exception ignored in: 'fiona._env.log_error'\n",
      "UnicodeDecodeError: 'utf-8' codec can't decode byte 0xe9 in position 91: invalid continuation byte\n"
     ]
    },
    {
     "ename": "UnicodeDecodeError",
     "evalue": "'utf-8' codec can't decode byte 0xe9 in position 91: invalid continuation byte",
     "output_type": "error",
     "traceback": [
      "\u001b[1;31m---------------------------------------------------------------------------\u001b[0m",
      "\u001b[1;31mUnicodeDecodeError\u001b[0m                        Traceback (most recent call last)",
      "\u001b[1;31mUnicodeDecodeError\u001b[0m: 'utf-8' codec can't decode byte 0xe9 in position 91: invalid continuation byte"
     ]
    },
    {
     "name": "stderr",
     "output_type": "stream",
     "text": [
      "Exception ignored in: 'fiona._env.log_error'\n",
      "UnicodeDecodeError: 'utf-8' codec can't decode byte 0xe9 in position 91: invalid continuation byte\n"
     ]
    },
    {
     "ename": "UnicodeDecodeError",
     "evalue": "'utf-8' codec can't decode byte 0xe9 in position 85: invalid continuation byte",
     "output_type": "error",
     "traceback": [
      "\u001b[1;31m---------------------------------------------------------------------------\u001b[0m",
      "\u001b[1;31mUnicodeDecodeError\u001b[0m                        Traceback (most recent call last)",
      "\u001b[1;31mUnicodeDecodeError\u001b[0m: 'utf-8' codec can't decode byte 0xe9 in position 85: invalid continuation byte"
     ]
    },
    {
     "name": "stderr",
     "output_type": "stream",
     "text": [
      "Exception ignored in: 'fiona._env.log_error'\n",
      "UnicodeDecodeError: 'utf-8' codec can't decode byte 0xe9 in position 85: invalid continuation byte\n"
     ]
    },
    {
     "ename": "UnicodeDecodeError",
     "evalue": "'utf-8' codec can't decode byte 0xe9 in position 85: invalid continuation byte",
     "output_type": "error",
     "traceback": [
      "\u001b[1;31m---------------------------------------------------------------------------\u001b[0m",
      "\u001b[1;31mUnicodeDecodeError\u001b[0m                        Traceback (most recent call last)",
      "\u001b[1;31mUnicodeDecodeError\u001b[0m: 'utf-8' codec can't decode byte 0xe9 in position 85: invalid continuation byte"
     ]
    },
    {
     "name": "stderr",
     "output_type": "stream",
     "text": [
      "Exception ignored in: 'fiona._env.log_error'\n",
      "UnicodeDecodeError: 'utf-8' codec can't decode byte 0xe9 in position 85: invalid continuation byte\n"
     ]
    },
    {
     "ename": "UnicodeDecodeError",
     "evalue": "'utf-8' codec can't decode byte 0xe9 in position 88: invalid continuation byte",
     "output_type": "error",
     "traceback": [
      "\u001b[1;31m---------------------------------------------------------------------------\u001b[0m",
      "\u001b[1;31mUnicodeDecodeError\u001b[0m                        Traceback (most recent call last)",
      "\u001b[1;31mUnicodeDecodeError\u001b[0m: 'utf-8' codec can't decode byte 0xe9 in position 88: invalid continuation byte"
     ]
    },
    {
     "name": "stderr",
     "output_type": "stream",
     "text": [
      "Exception ignored in: 'fiona._env.log_error'\n",
      "UnicodeDecodeError: 'utf-8' codec can't decode byte 0xe9 in position 88: invalid continuation byte\n"
     ]
    },
    {
     "ename": "UnicodeDecodeError",
     "evalue": "'utf-8' codec can't decode byte 0xe9 in position 88: invalid continuation byte",
     "output_type": "error",
     "traceback": [
      "\u001b[1;31m---------------------------------------------------------------------------\u001b[0m",
      "\u001b[1;31mUnicodeDecodeError\u001b[0m                        Traceback (most recent call last)",
      "\u001b[1;31mUnicodeDecodeError\u001b[0m: 'utf-8' codec can't decode byte 0xe9 in position 88: invalid continuation byte"
     ]
    },
    {
     "name": "stderr",
     "output_type": "stream",
     "text": [
      "Exception ignored in: 'fiona._env.log_error'\n",
      "UnicodeDecodeError: 'utf-8' codec can't decode byte 0xe9 in position 88: invalid continuation byte\n"
     ]
    }
   ],
   "source": [
    "#pour export et verif uniquement\n",
    "gdf_l_rd_point.to_file(r'E:\\Boulot\\otv\\test_linearisation_auto\\test2.shp')\n",
    "gdf_rd_point.to_file(r'E:\\Boulot\\otv\\test_linearisation_auto\\test1.shp')\n",
    "#l_intersct_rdpt.to_file(r'E:\\Boulot\\otv\\test_linearisation_auto\\test3.shp')\n",
    "gdf_avec_rd_pt.to_file(r'E:\\Boulot\\otv\\test_linearisation_auto\\test4.shp')"
   ]
  },
  {
   "cell_type": "code",
   "execution_count": null,
   "metadata": {},
   "outputs": [],
   "source": [
    "','.join(set(['a','a','b','c']))"
   ]
  },
  {
   "cell_type": "code",
   "execution_count": null,
   "metadata": {},
   "outputs": [],
   "source": []
  }
 ],
 "metadata": {
  "kernelspec": {
   "display_name": "Python 3",
   "language": "python",
   "name": "python3"
  },
  "language_info": {
   "codemirror_mode": {
    "name": "ipython",
    "version": 3
   },
   "file_extension": ".py",
   "mimetype": "text/x-python",
   "name": "python",
   "nbconvert_exporter": "python",
   "pygments_lexer": "ipython3",
   "version": "3.7.2"
  }
 },
 "nbformat": 4,
 "nbformat_minor": 2
}
