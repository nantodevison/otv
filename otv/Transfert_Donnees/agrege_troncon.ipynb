{
 "cells": [
  {
   "cell_type": "code",
   "execution_count": 33,
   "metadata": {},
   "outputs": [
    {
     "name": "stdout",
     "output_type": "stream",
     "text": [
      "The autoreload extension is already loaded. To reload it, use:\n",
      "  %reload_ext autoreload\n"
     ]
    }
   ],
   "source": [
    "%load_ext autoreload\n",
    "%autoreload 2\n",
    "import sys #c'est pas propre mais pour le moment pour importer mes modules perso dans le notebook je ne sais pas faire\n",
    "sys.path.append(r'C:\\Users\\martin.schoreisz\\git\\Outils\\Outils\\Martin_Perso')\n",
    "sys.path.append(r'C:\\Users\\martin.schoreisz\\git\\otv\\otv\\Transfert_Donnees')\n",
    "from Base_BdTopo.Import_outils import *\n",
    "from Base_BdTopo.Rond_points import *\n",
    "from Base_BdTopo.Troncon_base import *\n",
    "from Base_BdTopo.Troncon_elementaire import *\n",
    "from Base_BdTopo.Gestion_2_chaussee import *\n",
    "from Base_BdTopo.Regroupement_correspondance import *\n",
    "from Import_trafics import Comptage\n",
    "import Connexion_Transfert as ct\n",
    "import os\n",
    "import geopandas as gp\n",
    "import pandas as pd\n",
    "import numpy as np\n",
    "from datetime import datetime\n",
    "from shapely.wkt import loads\n",
    "from shapely.ops import nearest_points, polygonize, linemerge,unary_union\n",
    "from shapely.geometry import Point,MultiLineString, LineString\n",
    "from shapely import speedups\n",
    "from collections import Counter\n",
    "from geoalchemy2 import Geometry, WKTElement\n",
    "from sqlalchemy import Table, Column, Integer, String, MetaData\n",
    "from sqlalchemy.sql import select\n",
    "from sklearn.cluster import DBSCAN\n",
    "import Outils\n",
    "import psycopg2\n",
    "#pd.set_option('display.max_colwidth', 1000)\n",
    "pd.set_option('display.max_columns', 50)\n",
    "#pd.set_option('display.max_colwidth', 200)"
   ]
  },
  {
   "cell_type": "code",
   "execution_count": 188,
   "metadata": {},
   "outputs": [],
   "source": [
    "speedups.disable()"
   ]
  },
  {
   "cell_type": "code",
   "execution_count": 3,
   "metadata": {},
   "outputs": [],
   "source": [
    "#param de sauvegarde temporaire : \n",
    "def save_fichier(gdf,nom_fichier):\n",
    "    gdf.to_file(os.path.join(r'C:\\Users\\martin.schoreisz\\Documents\\AffairesEnCours\\OTV\\17',nom_fichier+'.shp'))"
   ]
  },
  {
   "cell_type": "markdown",
   "metadata": {},
   "source": [
    "# A FAIRE : \n",
    "- \"triangle\" multiple : TRONROUT0000000032823937\n",
    "- prise en compte des petits troncon qui coupe perpendiculairement les 2*2voies sans autres tronconcs dans la continuité TRONROUT0000000032846678\n",
    "- mettre en forme les fonctions, regroupés dans des modules si besoin"
   ]
  },
  {
   "cell_type": "markdown",
   "metadata": {},
   "source": [
    "# AVANCEMENT : \n",
    "au 26/09 : les différentes parties jusqu'au chapitre 4.4 sont opérationnelles, mais des erreurs persistent. **Cependant c'est suffisant pour localiser les tronçons elementaires et vérifier si plusieurs point de comptages sont localisés sur le même troncon elementaire.**\n",
    "<br> Le chapitre 4.5 est un premier essai pour faire un graph à partir des tronc elementaires. C'est à vérifier / reprendre / améliorer."
   ]
  },
  {
   "cell_type": "markdown",
   "metadata": {},
   "source": [
    "# IMPORTER LES DONNEES \n",
    "> depuis la base de données locale, en ne prenant en compte que les lignes qui intersectent une zone carré au N-O"
   ]
  },
  {
   "cell_type": "code",
   "execution_count": 3,
   "metadata": {},
   "outputs": [
    {
     "name": "stderr",
     "output_type": "stream",
     "text": [
      "c:\\users\\martin.schoreisz\\appdata\\local\\programs\\python\\python38\\lib\\site-packages\\sqlalchemy\\dialects\\postgresql\\base.py:3132: SAWarning: Did not recognize type 'xml' of column 'metadata'\n",
      "  util.warn(\n",
      "c:\\users\\martin.schoreisz\\appdata\\local\\programs\\python\\python38\\lib\\site-packages\\sqlalchemy\\dialects\\postgresql\\base.py:3132: SAWarning: Did not recognize type 'xml' of column 'fileid'\n",
      "  util.warn(\n",
      "c:\\users\\martin.schoreisz\\appdata\\local\\programs\\python\\python38\\lib\\site-packages\\sqlalchemy\\dialects\\postgresql\\base.py:3132: SAWarning: Did not recognize type 'xml' of column 'parentid'\n",
      "  util.warn(\n"
     ]
    }
   ],
   "source": [
    "df=import_donnes_base('gti_otv_pg11','public', 'traf2019_bdt17_ed19_l','traf2019_bdt17_ed19_l_vertices_pgr')\n",
    "df2_chaussees=df.loc[df.nature.isin(['Type autoroutier', 'Route à 2 chaussées'])]"
   ]
  },
  {
   "cell_type": "markdown",
   "metadata": {},
   "source": [
    "# 1 RONDS POINTS"
   ]
  },
  {
   "cell_type": "code",
   "execution_count": 4,
   "metadata": {},
   "outputs": [],
   "source": [
    "df_avec_rd_pt,carac_rd_pt,lign_entrant_rdpt=identifier_rd_pt(df)\n",
    "df_lignes=df_avec_rd_pt.set_index('id_ign')#mettre l'id_ign en index"
   ]
  },
  {
   "cell_type": "markdown",
   "metadata": {},
   "source": [
    "# 2. DESCCRIPTION DETAILLEE DES TRAITEMENTS \n",
    "> **Pour effectuer le traitements réellement passer au chapitre 3** <br> La base c'est : \n",
    "- regrouper les lignes qui se suivent\n",
    "- trouver les lignes d'arret\n",
    "- trouver les lignes suivantes\n",
    "- voir le cas des lignes suivantes : \n",
    "    - rd point\n",
    "    - mm route qui se sépare\n",
    "    - rien\n",
    "\n",
    "><br> L'idée c'est ça  : on met la premiere ligne a tester dans une liste, on l'utilise et on stocke les lignes associées dans une autre liste. ensuite on check les lignes suivantes : si elles sont dans un cas où il faut continuer les traitements, on remplace la ligne de départ dans la liste de départ par ces nouvelles lignes, pour lesquelles on applique de nouveau la recherche des lignes qui se suivent. tant que la liste des lignes suivantes est pa vide on reste dans une boucle while"
   ]
  },
  {
   "cell_type": "markdown",
   "metadata": {},
   "source": [
    "## 2.1 Troncons de base"
   ]
  },
  {
   "cell_type": "code",
   "execution_count": 75,
   "metadata": {},
   "outputs": [],
   "source": [
    "# ligne a tester : TRONROUT0000000339411609 TRONROUT0000000032869130 TRONROUT0000000032859410\n",
    "id_lignes='TRONROUT0000000032999215'\n",
    "#trouver tous les troncons proches qui se suivent\n",
    "#list_troncon=[id_ligne]+[a for a in at.liste_troncon_base(id_ligne,df_lignes)]\n",
    "list_troncon=liste_complete_tronc_base(id_lignes,df_lignes,[])"
   ]
  },
  {
   "cell_type": "markdown",
   "metadata": {},
   "source": [
    "## 2.2 lignes d'arret"
   ]
  },
  {
   "cell_type": "code",
   "execution_count": 76,
   "metadata": {},
   "outputs": [],
   "source": [
    "#trouver les troncons de debut et de fin :ceux pour lesquels on a un nombre de ligne sur target source >2\n",
    "dico_deb_fin=deb_fin_liste_tronc_base(df_lignes, list_troncon)"
   ]
  },
  {
   "cell_type": "code",
   "execution_count": 77,
   "metadata": {},
   "outputs": [
    {
     "data": {
      "text/plain": [
       "{0: {'id': 'TRONROUT0000000353890775',\n",
       "  'type': 'source',\n",
       "  'num_node': 1294226,\n",
       "  'nature': 'Route à 1 chaussée',\n",
       "  'geom_node': 'POINT(407733.4 6506844.7)',\n",
       "  'voie': 'D243',\n",
       "  'codevoie': '173100050'},\n",
       " 1: {'id': 'TRONROUT0000000032999200',\n",
       "  'type': 'target',\n",
       "  'num_node': 380168,\n",
       "  'nature': 'Route à 1 chaussée',\n",
       "  'geom_node': 'POINT(406903.3 6507385)',\n",
       "  'voie': 'D243',\n",
       "  'codevoie': '173100050'}}"
      ]
     },
     "execution_count": 77,
     "metadata": {},
     "output_type": "execute_result"
    }
   ],
   "source": [
    "dico_deb_fin"
   ]
  },
  {
   "cell_type": "code",
   "execution_count": 78,
   "metadata": {},
   "outputs": [],
   "source": [
    "ligne='TRONROUT0000000353890775'\n",
    "for v in dico_deb_fin.values() : \n",
    "    if v['id']==ligne :\n",
    "        voie=v['voie']\n",
    "        noeud=v['num_node']\n",
    "        geom_noeud=v['geom_node']\n",
    "        type_noeud=v['type']\n",
    "        codevoie=v['codevoie']\n",
    "        nature=v['nature']\n",
    "        break\n",
    "    else : \n",
    "        continue"
   ]
  },
  {
   "cell_type": "markdown",
   "metadata": {},
   "source": [
    "## 2.3 lignes suivantes"
   ]
  },
  {
   "cell_type": "code",
   "execution_count": 79,
   "metadata": {},
   "outputs": [],
   "source": [
    "#vérifier si une ligne touche un rd point\n",
    "# aprtir d'une ligne et d'un numero de noeud, on récupère les lignes qui touchent\n",
    "lignes_adj=df_lignes.loc[((df_lignes['source']==noeud)|(df_lignes['target']==noeud))&(df_lignes.index!=ligne)]"
   ]
  },
  {
   "cell_type": "code",
   "execution_count": 80,
   "metadata": {},
   "outputs": [
    {
     "data": {
      "text/html": [
       "<div>\n",
       "<style scoped>\n",
       "    .dataframe tbody tr th:only-of-type {\n",
       "        vertical-align: middle;\n",
       "    }\n",
       "\n",
       "    .dataframe tbody tr th {\n",
       "        vertical-align: top;\n",
       "    }\n",
       "\n",
       "    .dataframe thead th {\n",
       "        text-align: right;\n",
       "    }\n",
       "</style>\n",
       "<table border=\"1\" class=\"dataframe\">\n",
       "  <thead>\n",
       "    <tr style=\"text-align: right;\">\n",
       "      <th></th>\n",
       "      <th>id</th>\n",
       "      <th>nature</th>\n",
       "      <th>nom_1_g</th>\n",
       "      <th>nom_1_d</th>\n",
       "      <th>numero</th>\n",
       "      <th>importance</th>\n",
       "      <th>cl_admin</th>\n",
       "      <th>gestion</th>\n",
       "      <th>fictif</th>\n",
       "      <th>largeur</th>\n",
       "      <th>nb_voies</th>\n",
       "      <th>sens</th>\n",
       "      <th>etat</th>\n",
       "      <th>inseecom_g</th>\n",
       "      <th>inseecom_d</th>\n",
       "      <th>codevoie_g</th>\n",
       "      <th>codevoie_d</th>\n",
       "      <th>urbain</th>\n",
       "      <th>vit_moy_vl</th>\n",
       "      <th>restr_p</th>\n",
       "      <th>dept</th>\n",
       "      <th>dept_2019</th>\n",
       "      <th>dept_2018</th>\n",
       "      <th>dept_2017</th>\n",
       "      <th>dept_2016</th>\n",
       "      <th>...</th>\n",
       "      <th>vts_type_pl</th>\n",
       "      <th>src_vma</th>\n",
       "      <th>vma_vl</th>\n",
       "      <th>vma_pl</th>\n",
       "      <th>vma_type</th>\n",
       "      <th>codau_cont</th>\n",
       "      <th>tmja_cont</th>\n",
       "      <th>pc_pl_cont</th>\n",
       "      <th>source</th>\n",
       "      <th>target</th>\n",
       "      <th>recup</th>\n",
       "      <th>attr_modif</th>\n",
       "      <th>geom</th>\n",
       "      <th>ann_pc_pl</th>\n",
       "      <th>nb_intrsct_src</th>\n",
       "      <th>src_geom</th>\n",
       "      <th>nb_intrsct_tgt</th>\n",
       "      <th>tgt_geom</th>\n",
       "      <th>id_rdpt</th>\n",
       "      <th>nb_rte_rdpt</th>\n",
       "      <th>nom_rte_rdpt_entrant</th>\n",
       "      <th>codevoie_rdpt_entrant</th>\n",
       "      <th>nb_obj_sig_entrant</th>\n",
       "      <th>valeur_sens</th>\n",
       "      <th>id_ign_entrant</th>\n",
       "    </tr>\n",
       "    <tr>\n",
       "      <th>id_ign</th>\n",
       "      <th></th>\n",
       "      <th></th>\n",
       "      <th></th>\n",
       "      <th></th>\n",
       "      <th></th>\n",
       "      <th></th>\n",
       "      <th></th>\n",
       "      <th></th>\n",
       "      <th></th>\n",
       "      <th></th>\n",
       "      <th></th>\n",
       "      <th></th>\n",
       "      <th></th>\n",
       "      <th></th>\n",
       "      <th></th>\n",
       "      <th></th>\n",
       "      <th></th>\n",
       "      <th></th>\n",
       "      <th></th>\n",
       "      <th></th>\n",
       "      <th></th>\n",
       "      <th></th>\n",
       "      <th></th>\n",
       "      <th></th>\n",
       "      <th></th>\n",
       "      <th></th>\n",
       "      <th></th>\n",
       "      <th></th>\n",
       "      <th></th>\n",
       "      <th></th>\n",
       "      <th></th>\n",
       "      <th></th>\n",
       "      <th></th>\n",
       "      <th></th>\n",
       "      <th></th>\n",
       "      <th></th>\n",
       "      <th></th>\n",
       "      <th></th>\n",
       "      <th></th>\n",
       "      <th></th>\n",
       "      <th></th>\n",
       "      <th></th>\n",
       "      <th></th>\n",
       "      <th></th>\n",
       "      <th></th>\n",
       "      <th></th>\n",
       "      <th></th>\n",
       "      <th></th>\n",
       "      <th></th>\n",
       "      <th></th>\n",
       "      <th></th>\n",
       "    </tr>\n",
       "  </thead>\n",
       "  <tbody>\n",
       "    <tr>\n",
       "      <th>TRONROUT0000000353890776</th>\n",
       "      <td>1481737</td>\n",
       "      <td>Route à 1 chaussée</td>\n",
       "      <td>RTE DU CHAILLAUD</td>\n",
       "      <td>RTE DU CHAILLAUD</td>\n",
       "      <td>None</td>\n",
       "      <td>4</td>\n",
       "      <td>Autre</td>\n",
       "      <td>None</td>\n",
       "      <td>Non</td>\n",
       "      <td>3.0</td>\n",
       "      <td>1.0</td>\n",
       "      <td>Sens direct</td>\n",
       "      <td>En service</td>\n",
       "      <td>17310</td>\n",
       "      <td>17310</td>\n",
       "      <td>173100050</td>\n",
       "      <td>173100050</td>\n",
       "      <td>Oui</td>\n",
       "      <td>40.0</td>\n",
       "      <td>NaN</td>\n",
       "      <td>17</td>\n",
       "      <td>17</td>\n",
       "      <td>17</td>\n",
       "      <td>17</td>\n",
       "      <td>17</td>\n",
       "      <td>...</td>\n",
       "      <td>estimee</td>\n",
       "      <td>osm</td>\n",
       "      <td>50.0</td>\n",
       "      <td>50</td>\n",
       "      <td>verifiee</td>\n",
       "      <td>None</td>\n",
       "      <td>NaN</td>\n",
       "      <td>NaN</td>\n",
       "      <td>1294226</td>\n",
       "      <td>1259277</td>\n",
       "      <td>pk_ign</td>\n",
       "      <td>None</td>\n",
       "      <td>MULTILINESTRING ((407733.400 6506844.700, 407733.300 6506839.600, 407733.400 6506830.700, 407733.000 6506824.700))</td>\n",
       "      <td>None</td>\n",
       "      <td>3</td>\n",
       "      <td>POINT(407733.4 6506844.7)</td>\n",
       "      <td>3</td>\n",
       "      <td>POINT(407733 6506824.7)</td>\n",
       "      <td>NaN</td>\n",
       "      <td>NaN</td>\n",
       "      <td>NaN</td>\n",
       "      <td>NaN</td>\n",
       "      <td>NaN</td>\n",
       "      <td>NaN</td>\n",
       "      <td>NaN</td>\n",
       "    </tr>\n",
       "    <tr>\n",
       "      <th>TRONROUT0000000333968675</th>\n",
       "      <td>1454788</td>\n",
       "      <td>Route à 1 chaussée</td>\n",
       "      <td>RTE DU CHAILLAUD</td>\n",
       "      <td>RTE DU CHAILLAUD</td>\n",
       "      <td>D243</td>\n",
       "      <td>4</td>\n",
       "      <td>Départementale</td>\n",
       "      <td>Charente-Maritime</td>\n",
       "      <td>Non</td>\n",
       "      <td>3.0</td>\n",
       "      <td>1.0</td>\n",
       "      <td>Sens direct</td>\n",
       "      <td>En service</td>\n",
       "      <td>17310</td>\n",
       "      <td>17310</td>\n",
       "      <td>173100050</td>\n",
       "      <td>173100050</td>\n",
       "      <td>Oui</td>\n",
       "      <td>40.0</td>\n",
       "      <td>NaN</td>\n",
       "      <td>17</td>\n",
       "      <td>17</td>\n",
       "      <td>17</td>\n",
       "      <td>17</td>\n",
       "      <td>17</td>\n",
       "      <td>...</td>\n",
       "      <td>estimee</td>\n",
       "      <td>osm</td>\n",
       "      <td>50.0</td>\n",
       "      <td>50</td>\n",
       "      <td>verifiee</td>\n",
       "      <td>None</td>\n",
       "      <td>NaN</td>\n",
       "      <td>NaN</td>\n",
       "      <td>380147</td>\n",
       "      <td>1294226</td>\n",
       "      <td>pk_ign</td>\n",
       "      <td>None</td>\n",
       "      <td>MULTILINESTRING ((407748.100 6506827.600, 407740.300 6506838.700, 407733.400 6506844.700))</td>\n",
       "      <td>None</td>\n",
       "      <td>3</td>\n",
       "      <td>POINT(407748.1 6506827.6)</td>\n",
       "      <td>3</td>\n",
       "      <td>POINT(407733.4 6506844.7)</td>\n",
       "      <td>NaN</td>\n",
       "      <td>NaN</td>\n",
       "      <td>NaN</td>\n",
       "      <td>NaN</td>\n",
       "      <td>NaN</td>\n",
       "      <td>NaN</td>\n",
       "      <td>NaN</td>\n",
       "    </tr>\n",
       "  </tbody>\n",
       "</table>\n",
       "<p>2 rows × 91 columns</p>\n",
       "</div>"
      ],
      "text/plain": [
       "                               id              nature           nom_1_g  \\\n",
       "id_ign                                                                    \n",
       "TRONROUT0000000353890776  1481737  Route à 1 chaussée  RTE DU CHAILLAUD   \n",
       "TRONROUT0000000333968675  1454788  Route à 1 chaussée  RTE DU CHAILLAUD   \n",
       "\n",
       "                                   nom_1_d numero importance        cl_admin  \\\n",
       "id_ign                                                                         \n",
       "TRONROUT0000000353890776  RTE DU CHAILLAUD   None          4           Autre   \n",
       "TRONROUT0000000333968675  RTE DU CHAILLAUD   D243          4  Départementale   \n",
       "\n",
       "                                    gestion fictif  largeur  nb_voies  \\\n",
       "id_ign                                                                  \n",
       "TRONROUT0000000353890776               None    Non      3.0       1.0   \n",
       "TRONROUT0000000333968675  Charente-Maritime    Non      3.0       1.0   \n",
       "\n",
       "                                 sens        etat inseecom_g inseecom_d  \\\n",
       "id_ign                                                                    \n",
       "TRONROUT0000000353890776  Sens direct  En service      17310      17310   \n",
       "TRONROUT0000000333968675  Sens direct  En service      17310      17310   \n",
       "\n",
       "                         codevoie_g codevoie_d urbain  vit_moy_vl  restr_p  \\\n",
       "id_ign                                                                       \n",
       "TRONROUT0000000353890776  173100050  173100050    Oui        40.0      NaN   \n",
       "TRONROUT0000000333968675  173100050  173100050    Oui        40.0      NaN   \n",
       "\n",
       "                         dept dept_2019 dept_2018 dept_2017 dept_2016  ...  \\\n",
       "id_ign                                                                 ...   \n",
       "TRONROUT0000000353890776   17        17        17        17        17  ...   \n",
       "TRONROUT0000000333968675   17        17        17        17        17  ...   \n",
       "\n",
       "                         vts_type_pl  src_vma  vma_vl vma_pl  vma_type  \\\n",
       "id_ign                                                                   \n",
       "TRONROUT0000000353890776     estimee      osm    50.0     50  verifiee   \n",
       "TRONROUT0000000333968675     estimee      osm    50.0     50  verifiee   \n",
       "\n",
       "                         codau_cont tmja_cont pc_pl_cont   source   target  \\\n",
       "id_ign                                                                       \n",
       "TRONROUT0000000353890776       None       NaN        NaN  1294226  1259277   \n",
       "TRONROUT0000000333968675       None       NaN        NaN   380147  1294226   \n",
       "\n",
       "                           recup  attr_modif  \\\n",
       "id_ign                                         \n",
       "TRONROUT0000000353890776  pk_ign        None   \n",
       "TRONROUT0000000333968675  pk_ign        None   \n",
       "\n",
       "                                                                                                                                        geom  \\\n",
       "id_ign                                                                                                                                         \n",
       "TRONROUT0000000353890776  MULTILINESTRING ((407733.400 6506844.700, 407733.300 6506839.600, 407733.400 6506830.700, 407733.000 6506824.700))   \n",
       "TRONROUT0000000333968675                          MULTILINESTRING ((407748.100 6506827.600, 407740.300 6506838.700, 407733.400 6506844.700))   \n",
       "\n",
       "                          ann_pc_pl  nb_intrsct_src  \\\n",
       "id_ign                                                \n",
       "TRONROUT0000000353890776       None               3   \n",
       "TRONROUT0000000333968675       None               3   \n",
       "\n",
       "                                           src_geom  nb_intrsct_tgt  \\\n",
       "id_ign                                                                \n",
       "TRONROUT0000000353890776  POINT(407733.4 6506844.7)               3   \n",
       "TRONROUT0000000333968675  POINT(407748.1 6506827.6)               3   \n",
       "\n",
       "                                           tgt_geom id_rdpt nb_rte_rdpt  \\\n",
       "id_ign                                                                    \n",
       "TRONROUT0000000353890776    POINT(407733 6506824.7)     NaN         NaN   \n",
       "TRONROUT0000000333968675  POINT(407733.4 6506844.7)     NaN         NaN   \n",
       "\n",
       "                         nom_rte_rdpt_entrant codevoie_rdpt_entrant  \\\n",
       "id_ign                                                                \n",
       "TRONROUT0000000353890776                  NaN                   NaN   \n",
       "TRONROUT0000000333968675                  NaN                   NaN   \n",
       "\n",
       "                         nb_obj_sig_entrant valeur_sens id_ign_entrant  \n",
       "id_ign                                                                  \n",
       "TRONROUT0000000353890776                NaN         NaN            NaN  \n",
       "TRONROUT0000000333968675                NaN         NaN            NaN  \n",
       "\n",
       "[2 rows x 91 columns]"
      ]
     },
     "execution_count": 80,
     "metadata": {},
     "output_type": "execute_result"
    }
   ],
   "source": [
    "lignes_adj"
   ]
  },
  {
   "cell_type": "markdown",
   "metadata": {},
   "source": [
    "## 2.4 cas particulier "
   ]
  },
  {
   "cell_type": "markdown",
   "metadata": {},
   "source": [
    "### 2.4.1 rd pt"
   ]
  },
  {
   "cell_type": "code",
   "execution_count": 81,
   "metadata": {},
   "outputs": [],
   "source": [
    "#verfier si une ligne rouche un rd point et recup le numero si c'est le cas\n",
    "check_rdpt, num_rdpt=verif_touche_rdpt(lignes_adj)\n",
    "if check_rdpt : \n",
    "    lignes_rdpt, lignes_sortantes=recup_lignes_rdpt(carac_rd_pt,num_rdpt,list_troncon,voie,codevoie)"
   ]
  },
  {
   "cell_type": "markdown",
   "metadata": {},
   "source": [
    "### 2.4.2 mm route qui se sépare"
   ]
  },
  {
   "cell_type": "code",
   "execution_count": 181,
   "metadata": {},
   "outputs": [
    {
     "data": {
      "text/plain": [
       "['TRONROUT0000000353890776', 'TRONROUT0000000333968675']"
      ]
     },
     "execution_count": 181,
     "metadata": {},
     "output_type": "execute_result"
    }
   ],
   "source": [
    "recup_route_split('TRONROUT0000000353890775',list_troncon,voie,codevoie, lignes_adj,noeud,geom_noeud, type_noeud, nature,df_lignes)"
   ]
  },
  {
   "cell_type": "markdown",
   "metadata": {},
   "source": [
    "### 2.4.3 trouver les routes coinces entre 2 voies qui se sépare -<|\n",
    " ce sont des lignes qui  dont : \n",
    "- si une des lignes adjacente à le mm nom de voie\n",
    "- on prend l'autre si elle a un sens direct ou inverse\n",
    "- on recherche son source ou target different du num_node de dico_deb_fin\n",
    "- on cherche les lignes qui touche ce noeud, qui ont le mme nom de voie et un sens direct ou inverse\n",
    "- on recupere cette ligne, et le num de noeud differnts de celui de la 1ere ligne qui bifurque\n",
    "- si ce num de noeud correspond à la ligne adj source ou target, alors cette ligne adj source ou target doit être ajoutée à la liste"
   ]
  },
  {
   "cell_type": "code",
   "execution_count": 49,
   "metadata": {},
   "outputs": [
    {
     "data": {
      "text/plain": [
       "[]"
      ]
     },
     "execution_count": 49,
     "metadata": {},
     "output_type": "execute_result"
    }
   ],
   "source": [
    "recup_triangle(ligne,voie, codevoie,lignes_adj, noeud,geom_noeud, type_noeud, df_lignes)"
   ]
  },
  {
   "cell_type": "markdown",
   "metadata": {},
   "source": [
    "## 2.5 route à 2 chaussées\n",
    "L'idée c'est si la ligne est une route à 2 chaussée : \n",
    "- on prend l'ensemble du troncon elementaire\n",
    "- on agerge les lignes\n",
    "- on recupere le centre\n",
    "- on recupere la longueur\n",
    "- on pourrait chercher à comparer les bouding box"
   ]
  },
  {
   "cell_type": "code",
   "execution_count": 53,
   "metadata": {},
   "outputs": [],
   "source": [
    "#dans le cas où les longeuers ne coincident pas\n",
    "#recuperer la ligne proche\n",
    "ligne_proche, ligne_filtres, longueur_base=trouver_chaussees_separee(list_troncon, df_avec_rd_pt)"
   ]
  },
  {
   "cell_type": "code",
   "execution_count": 54,
   "metadata": {},
   "outputs": [
    {
     "data": {
      "text/plain": [
       "'TRONROUT0000000032840410'"
      ]
     },
     "execution_count": 54,
     "metadata": {},
     "output_type": "execute_result"
    }
   ],
   "source": [
    "ligne_proche"
   ]
  },
  {
   "cell_type": "code",
   "execution_count": 55,
   "metadata": {},
   "outputs": [
    {
     "data": {
      "text/plain": [
       "['TRONROUT0000000032843157',\n",
       " 'TRONROUT0000000121811702',\n",
       " 'TRONROUT0000000032840410',\n",
       " 'TRONROUT0000000342863179',\n",
       " 'TRONROUT0000000032843162',\n",
       " 'TRONROUT0000000032843170',\n",
       " 'TRONROUT0000000032843156']"
      ]
     },
     "execution_count": 55,
     "metadata": {},
     "output_type": "execute_result"
    }
   ],
   "source": [
    "gestion_voie_2_chaussee(list_troncon, df_avec_rd_pt, 'TRONROUT0000000032840659',carac_rd_pt )[0]"
   ]
  },
  {
   "cell_type": "markdown",
   "metadata": {},
   "source": [
    "# Tests de deroulement global"
   ]
  },
  {
   "cell_type": "code",
   "execution_count": 183,
   "metadata": {},
   "outputs": [
    {
     "data": {
      "text/plain": [
       "['TRONROUT0000000032999202',\n",
       " 'TRONROUT0000000032999200',\n",
       " 'TRONROUT0000000032999198',\n",
       " 'TRONROUT0000000273363048',\n",
       " 'TRONROUT0000000032999215',\n",
       " 'TRONROUT0000000353890775',\n",
       " 'TRONROUT0000000032999158',\n",
       " 'TRONROUT0000000353890776',\n",
       " 'TRONROUT0000000032999196',\n",
       " 'TRONROUT0000000333968675']"
      ]
     },
     "execution_count": 183,
     "metadata": {},
     "output_type": "execute_result"
    }
   ],
   "source": [
    "lignes_troncon_elem(df_avec_rd_pt,carac_rd_pt,'TRONROUT0000000353890775',[])"
   ]
  },
  {
   "cell_type": "markdown",
   "metadata": {},
   "source": [
    "# 3. Boucler sur 'ensembl des lignes\n",
    "On va faire tourner les traitements sur l'ensemble des lignes, en partant de la liste des id_ign, pour chaque ligne : \n",
    "- si la ligne ne remplit pas les critères d'exclusion on continu, sinon on passe à la suivante\n",
    "- fonction de recherche des lignes associées\n",
    "- df des association\n",
    "- filtre de la liste des id_ign de base"
   ]
  },
  {
   "cell_type": "code",
   "execution_count": 184,
   "metadata": {},
   "outputs": [],
   "source": [
    "#traiter les bretelles en 1er, puis traiter par longueur decroissante\n",
    "bretelle=df_avec_rd_pt.loc[df_avec_rd_pt['nature']=='Bretelle'].id_ign.tolist()\n",
    "sans_bretelle=df_avec_rd_pt.loc[df_avec_rd_pt['nature']!='Bretelle'].copy()\n",
    "list_sans_bretelle=sans_bretelle.id_ign.tolist()\n",
    "list_tri_longueur=sans_bretelle.loc[sans_bretelle.length.sort_values(ascending=False).index.tolist()].id_ign.tolist()\n",
    "list_id_ign=bretelle+list_tri_longueur"
   ]
  },
  {
   "cell_type": "code",
   "execution_count": null,
   "metadata": {},
   "outputs": [],
   "source": [
    "df_affectation, dico_erreur, lignes_traitees, lignes_non_traitees=regrouper_troncon(\n",
    "    list_id_ign, df_avec_rd_pt, carac_rd_pt,df2_chaussees,[])"
   ]
  },
  {
   "cell_type": "code",
   "execution_count": 205,
   "metadata": {},
   "outputs": [],
   "source": [
    "export=df_avec_rd_pt.merge(df_affectation, left_on='id_ign',right_on='id')[[\n",
    "    'id_ign','numero','codevoie_d','geom','idtronc']].to_file(r'D:\\Boulot\\AffairesEnCours\\OTV\\17\\temp_linearisation\\troncelem2019_Bdt17_ed19_l.shp')"
   ]
  },
  {
   "cell_type": "code",
   "execution_count": 5,
   "metadata": {},
   "outputs": [],
   "source": [
    "#df_affectation=gp.read_file(r'C:\\Users\\martin.schoreisz\\Documents\\AffairesEnCours\\OTV\\17\\temp_linearisation\\troncelem2019_Bdt17_ed19_l.shp')"
   ]
  },
  {
   "cell_type": "code",
   "execution_count": 12,
   "metadata": {},
   "outputs": [
    {
     "data": {
      "text/html": [
       "<div>\n",
       "<style scoped>\n",
       "    .dataframe tbody tr th:only-of-type {\n",
       "        vertical-align: middle;\n",
       "    }\n",
       "\n",
       "    .dataframe tbody tr th {\n",
       "        vertical-align: top;\n",
       "    }\n",
       "\n",
       "    .dataframe thead th {\n",
       "        text-align: right;\n",
       "    }\n",
       "</style>\n",
       "<table border=\"1\" class=\"dataframe\">\n",
       "  <thead>\n",
       "    <tr style=\"text-align: right;\">\n",
       "      <th></th>\n",
       "      <th>id</th>\n",
       "      <th>numero</th>\n",
       "      <th>codevoie_d</th>\n",
       "      <th>idtronc</th>\n",
       "      <th>geometry</th>\n",
       "    </tr>\n",
       "  </thead>\n",
       "  <tbody>\n",
       "    <tr>\n",
       "      <th>0</th>\n",
       "      <td>TRONROUT0000000032889317</td>\n",
       "      <td>D129</td>\n",
       "      <td>None</td>\n",
       "      <td>13634</td>\n",
       "      <td>LINESTRING (438601.800 6549651.500, 438647.200...</td>\n",
       "    </tr>\n",
       "    <tr>\n",
       "      <th>1</th>\n",
       "      <td>TRONROUT0000000032912378</td>\n",
       "      <td>D114</td>\n",
       "      <td>None</td>\n",
       "      <td>11125</td>\n",
       "      <td>LINESTRING (412903.300 6542032.700, 412899.200...</td>\n",
       "    </tr>\n",
       "    <tr>\n",
       "      <th>2</th>\n",
       "      <td>TRONROUT0000000032916358</td>\n",
       "      <td>D18</td>\n",
       "      <td>None</td>\n",
       "      <td>11213</td>\n",
       "      <td>LINESTRING (420030.400 6540991.200, 420028.100...</td>\n",
       "    </tr>\n",
       "    <tr>\n",
       "      <th>3</th>\n",
       "      <td>TRONROUT0000000032918012</td>\n",
       "      <td>D224</td>\n",
       "      <td>None</td>\n",
       "      <td>5738</td>\n",
       "      <td>LINESTRING (450318.700 6539202.400, 450315.100...</td>\n",
       "    </tr>\n",
       "    <tr>\n",
       "      <th>4</th>\n",
       "      <td>TRONROUT0000000032918239</td>\n",
       "      <td>D229E2</td>\n",
       "      <td>170710053</td>\n",
       "      <td>1836</td>\n",
       "      <td>LINESTRING (440387.800 6539813.200, 440384.300...</td>\n",
       "    </tr>\n",
       "    <tr>\n",
       "      <th>...</th>\n",
       "      <td>...</td>\n",
       "      <td>...</td>\n",
       "      <td>...</td>\n",
       "      <td>...</td>\n",
       "      <td>...</td>\n",
       "    </tr>\n",
       "    <tr>\n",
       "      <th>112049</th>\n",
       "      <td>TRONROUT0000000033016335</td>\n",
       "      <td>D251E5</td>\n",
       "      <td>173260210</td>\n",
       "      <td>23599</td>\n",
       "      <td>LINESTRING (443809.900 6493763.300, 443726.200...</td>\n",
       "    </tr>\n",
       "    <tr>\n",
       "      <th>112050</th>\n",
       "      <td>TRONROUT0000000033019930</td>\n",
       "      <td>D249</td>\n",
       "      <td>172950084</td>\n",
       "      <td>72219</td>\n",
       "      <td>LINESTRING (436368.500 6490858.500, 436391.700...</td>\n",
       "    </tr>\n",
       "    <tr>\n",
       "      <th>112051</th>\n",
       "      <td>TRONROUT0000000033035833</td>\n",
       "      <td>None</td>\n",
       "      <td>None</td>\n",
       "      <td>28355</td>\n",
       "      <td>LINESTRING (436202.700 6474152.100, 436178.900...</td>\n",
       "    </tr>\n",
       "    <tr>\n",
       "      <th>112052</th>\n",
       "      <td>TRONROUT0000002002803401</td>\n",
       "      <td>D238</td>\n",
       "      <td>170360592</td>\n",
       "      <td>34208</td>\n",
       "      <td>LINESTRING (389754.600 6537930.100, 389736.300...</td>\n",
       "    </tr>\n",
       "    <tr>\n",
       "      <th>112053</th>\n",
       "      <td>TRONROUT0000000032858897</td>\n",
       "      <td>D108</td>\n",
       "      <td>None</td>\n",
       "      <td>1126</td>\n",
       "      <td>LINESTRING (404370.400 6567806.700, 404470.800...</td>\n",
       "    </tr>\n",
       "  </tbody>\n",
       "</table>\n",
       "<p>112054 rows × 5 columns</p>\n",
       "</div>"
      ],
      "text/plain": [
       "                              id  numero codevoie_d  idtronc  \\\n",
       "0       TRONROUT0000000032889317    D129       None    13634   \n",
       "1       TRONROUT0000000032912378    D114       None    11125   \n",
       "2       TRONROUT0000000032916358     D18       None    11213   \n",
       "3       TRONROUT0000000032918012    D224       None     5738   \n",
       "4       TRONROUT0000000032918239  D229E2  170710053     1836   \n",
       "...                          ...     ...        ...      ...   \n",
       "112049  TRONROUT0000000033016335  D251E5  173260210    23599   \n",
       "112050  TRONROUT0000000033019930    D249  172950084    72219   \n",
       "112051  TRONROUT0000000033035833    None       None    28355   \n",
       "112052  TRONROUT0000002002803401    D238  170360592    34208   \n",
       "112053  TRONROUT0000000032858897    D108       None     1126   \n",
       "\n",
       "                                                 geometry  \n",
       "0       LINESTRING (438601.800 6549651.500, 438647.200...  \n",
       "1       LINESTRING (412903.300 6542032.700, 412899.200...  \n",
       "2       LINESTRING (420030.400 6540991.200, 420028.100...  \n",
       "3       LINESTRING (450318.700 6539202.400, 450315.100...  \n",
       "4       LINESTRING (440387.800 6539813.200, 440384.300...  \n",
       "...                                                   ...  \n",
       "112049  LINESTRING (443809.900 6493763.300, 443726.200...  \n",
       "112050  LINESTRING (436368.500 6490858.500, 436391.700...  \n",
       "112051  LINESTRING (436202.700 6474152.100, 436178.900...  \n",
       "112052  LINESTRING (389754.600 6537930.100, 389736.300...  \n",
       "112053  LINESTRING (404370.400 6567806.700, 404470.800...  \n",
       "\n",
       "[112054 rows x 5 columns]"
      ]
     },
     "execution_count": 12,
     "metadata": {},
     "output_type": "execute_result"
    }
   ],
   "source": [
    "df_affectation#.rename(columns={id:'id'}, inplace=True)"
   ]
  },
  {
   "cell_type": "markdown",
   "metadata": {},
   "source": [
    "## 3.1 EXEMPLE SUR UNE LIGNE"
   ]
  },
  {
   "cell_type": "code",
   "execution_count": 191,
   "metadata": {},
   "outputs": [
    {
     "name": "stdout",
     "output_type": "stream",
     "text": [
      "0 2020-12-08 19:10:20.216625 nb lignes traitees : 0\n"
     ]
    },
    {
     "data": {
      "text/html": [
       "<div>\n",
       "<style scoped>\n",
       "    .dataframe tbody tr th:only-of-type {\n",
       "        vertical-align: middle;\n",
       "    }\n",
       "\n",
       "    .dataframe tbody tr th {\n",
       "        vertical-align: top;\n",
       "    }\n",
       "\n",
       "    .dataframe thead th {\n",
       "        text-align: right;\n",
       "    }\n",
       "</style>\n",
       "<table border=\"1\" class=\"dataframe\">\n",
       "  <thead>\n",
       "    <tr style=\"text-align: right;\">\n",
       "      <th></th>\n",
       "      <th>id</th>\n",
       "      <th>idtronc</th>\n",
       "    </tr>\n",
       "  </thead>\n",
       "  <tbody>\n",
       "    <tr>\n",
       "      <th>0</th>\n",
       "      <td>TRONROUT0000000032999202</td>\n",
       "      <td>0</td>\n",
       "    </tr>\n",
       "    <tr>\n",
       "      <th>1</th>\n",
       "      <td>TRONROUT0000000032999200</td>\n",
       "      <td>0</td>\n",
       "    </tr>\n",
       "    <tr>\n",
       "      <th>2</th>\n",
       "      <td>TRONROUT0000000032999198</td>\n",
       "      <td>0</td>\n",
       "    </tr>\n",
       "    <tr>\n",
       "      <th>3</th>\n",
       "      <td>TRONROUT0000000273363048</td>\n",
       "      <td>0</td>\n",
       "    </tr>\n",
       "    <tr>\n",
       "      <th>4</th>\n",
       "      <td>TRONROUT0000000032999215</td>\n",
       "      <td>0</td>\n",
       "    </tr>\n",
       "    <tr>\n",
       "      <th>5</th>\n",
       "      <td>TRONROUT0000000353890775</td>\n",
       "      <td>0</td>\n",
       "    </tr>\n",
       "    <tr>\n",
       "      <th>6</th>\n",
       "      <td>TRONROUT0000000032999158</td>\n",
       "      <td>0</td>\n",
       "    </tr>\n",
       "    <tr>\n",
       "      <th>7</th>\n",
       "      <td>TRONROUT0000000353890776</td>\n",
       "      <td>0</td>\n",
       "    </tr>\n",
       "    <tr>\n",
       "      <th>8</th>\n",
       "      <td>TRONROUT0000000032999196</td>\n",
       "      <td>0</td>\n",
       "    </tr>\n",
       "    <tr>\n",
       "      <th>9</th>\n",
       "      <td>TRONROUT0000000333968675</td>\n",
       "      <td>0</td>\n",
       "    </tr>\n",
       "  </tbody>\n",
       "</table>\n",
       "</div>"
      ],
      "text/plain": [
       "                         id  idtronc\n",
       "0  TRONROUT0000000032999202        0\n",
       "1  TRONROUT0000000032999200        0\n",
       "2  TRONROUT0000000032999198        0\n",
       "3  TRONROUT0000000273363048        0\n",
       "4  TRONROUT0000000032999215        0\n",
       "5  TRONROUT0000000353890775        0\n",
       "6  TRONROUT0000000032999158        0\n",
       "7  TRONROUT0000000353890776        0\n",
       "8  TRONROUT0000000032999196        0\n",
       "9  TRONROUT0000000333968675        0"
      ]
     },
     "execution_count": 191,
     "metadata": {},
     "output_type": "execute_result"
    }
   ],
   "source": [
    "df_affectation2, dico_erreur2, lignes_traitees2, lignes_non_traitees2=regrouper_troncon(\n",
    "    ['TRONROUT0000000353890775'], df_avec_rd_pt, carac_rd_pt,df2_chaussees,[])\n",
    "df_affectation2"
   ]
  },
  {
   "cell_type": "markdown",
   "metadata": {},
   "source": [
    "## 3.2 CORRECTIONS DES CAS PARTICULIERS"
   ]
  },
  {
   "cell_type": "code",
   "execution_count": 112,
   "metadata": {},
   "outputs": [],
   "source": [
    "#creer la synth des trcon_elem\n",
    "tronc_elem_synth=carac_te(df_avec_rd_pt, df_affectation)\n",
    "#creer la coquille qui va etre mise à jour\n",
    "df_affectation_upd=creer_MaJ_te(df_affectation)"
   ]
  },
  {
   "cell_type": "markdown",
   "metadata": {},
   "source": [
    "### 3.2.1 Bretelles"
   ]
  },
  {
   "cell_type": "code",
   "execution_count": 113,
   "metadata": {},
   "outputs": [
    {
     "name": "stderr",
     "output_type": "stream",
     "text": [
      "c:\\users\\martin.schoreisz\\appdata\\local\\programs\\python\\python38\\lib\\site-packages\\geopandas\\geodataframe.py:852: UserWarning: Geometry column does not contain geometry.\n",
      "  warnings.warn(\"Geometry column does not contain geometry.\")\n"
     ]
    }
   ],
   "source": [
    "# table de corespondance\n",
    "corresp_bret=corresp_te_bretelle('gti_otv_pg11',df_lignes, tronc_elem_synth, 75)\n",
    "#mise à jour\n",
    "MaJ_te(df_affectation_upd, corresp_bret, 'Bretelle')"
   ]
  },
  {
   "cell_type": "markdown",
   "metadata": {},
   "source": [
    "### 3.2.2 arrivée de rd point isolée\n",
    "exemple : TRONROUT0000000112535635"
   ]
  },
  {
   "cell_type": "code",
   "execution_count": 114,
   "metadata": {},
   "outputs": [],
   "source": [
    "corresp_entree_rdpt=corresp_te_arrive_rdpt(carac_rd_pt,df_avec_rd_pt,tronc_elem_synth)\n",
    "#mise à jourMfectation_upd, corresp_entree_rdpt, 'entree_rd_pt')"
   ]
  },
  {
   "cell_type": "markdown",
   "metadata": {},
   "source": [
    "### 3.2.3 petit troncon\n",
    "- la df de correspondance est faite, il faut maintenant fair les corrections et pouvoir les tracer"
   ]
  },
  {
   "cell_type": "code",
   "execution_count": null,
   "metadata": {},
   "outputs": [],
   "source": [
    "corresp_petit_tronc=corresp_petit_tronc(df_lignes,df_affectation,tronc_elem_synth)"
   ]
  },
  {
   "cell_type": "code",
   "execution_count": 121,
   "metadata": {},
   "outputs": [],
   "source": [
    "#mise à jour\n",
    "MaJ_te(df_affectation_upd, corresp_petit_tronc, 'petit_troncon')"
   ]
  },
  {
   "cell_type": "markdown",
   "metadata": {},
   "source": [
    "## 3.3 4.4 Maj tronc_elem finale\n",
    "A VERIFIER"
   ]
  },
  {
   "cell_type": "code",
   "execution_count": 122,
   "metadata": {},
   "outputs": [],
   "source": [
    "df_lignes_fin=df_lignes.reset_index().copy()\n",
    "if not 'id_tronc_elem' in df_lignes_fin.columns : \n",
    "    df_lignes_fin=df_lignes_fin.merge(df_affectation_upd[['id','idtronc_y']], left_on='id_ign', right_on='id').rename(columns={'idtronc_y':'id_tronc_elem'})\n",
    "else : \n",
    "    df_lignes_fin.update(df_affectation_upd.reset_index().set_index('id').rename(columns={'idtronc_y':'id_tronc_elem'}))"
   ]
  },
  {
   "cell_type": "code",
   "execution_count": 124,
   "metadata": {},
   "outputs": [],
   "source": [
    "#export\n",
    "df_lignes_fin[['geom', 'id_ign',  'id_tronc_elem','id_rdpt',\n",
    "       'nb_rte_rdpt', 'nb_obj_sig_entrant']].reset_index().to_file(r'C:\\Users\\martin.schoreisz\\Documents\\AffairesEnCours\\OTV\\17\\temp_linearisation\\troncelem2019_Bdt17_ed169_l_final.shp')"
   ]
  },
  {
   "cell_type": "markdown",
   "metadata": {},
   "source": [
    "# 4. Creer graph (EN CHANTIER)\n",
    "- en premier on traite les cas particuliers  : beretelles, petits troncons, arrivé de rd point isolée\n",
    "- on cerche a creer une df avec tronc_elem|tronc_ign|src_elem|tgt_elem\n",
    "- il faudrait un filtre sur les petits troncon entre 2 grands et les associer aux grands\n",
    "- il faudrait regrouper les bretelles aussi"
   ]
  },
  {
   "cell_type": "markdown",
   "metadata": {},
   "source": [
    "## 4.5 sources et target regroupes"
   ]
  },
  {
   "cell_type": "code",
   "execution_count": 28,
   "metadata": {},
   "outputs": [],
   "source": [
    "def creer_noeud_tronc_elem(df_lignes,ligne_base,df_affectation ):\n",
    "    \"\"\"\n",
    "    associer des tronc elem a des noeud représentatif pour créer un graph\n",
    "    en entree : \n",
    "        df_lignes df des lignes bdtopo avec rd point et index=id_ign\n",
    "        ligne_base : df des lignes constituant le tronc elem. issus de df_lignes\n",
    "        df_affectation : df de correspondance id_ign idtronc_elem, issu de regrouper_troncon\n",
    "    en sortie : \n",
    "        noeuds_fin : df avec index = noeud_unique (int) et idtronc)=tuple des idtroncelem qui touchent ce noeud\n",
    "        coresp_te_noeud : toute les correspondances noeud-lignes\n",
    "        noeud_uniq : list edes noeud de fin de tronc elem\n",
    "    \"\"\"\n",
    "    noeud_uniq=[k for k,v in Counter(ligne_base.source.tolist()+ligne_base.target.tolist()).items() if v==1]\n",
    "    df_noeud_unique=pd.DataFrame(noeud_uniq, columns=['noeud_uniq'])\n",
    "    lgn_tch_noeud_uniq=df_lignes.loc[((df_lignes['source'].isin(noeud_uniq)) | (df_lignes['target'].isin(noeud_uniq))) & (~df_lignes.index.isin(ligne_base.index.tolist()))].copy()\n",
    "    # trouver les correspondance avec doublons de noeud possible et une ligne par corresp\n",
    "    coresp_ligne_noeud=pd.concat(\n",
    "        [lgn_tch_noeud_uniq.reset_index().merge(df_noeud_unique, left_on='source', right_on='noeud_uniq')[['id_ign','noeud_uniq']],\n",
    "         lgn_tch_noeud_uniq.reset_index().merge(df_noeud_unique, left_on='target', right_on='noeud_uniq')[['id_ign','noeud_uniq']]],axis=0)\n",
    "    #rapatriementdes ifos de longueur du tronc_elem\n",
    "    coresp_te_noeud=coresp_ligne_noeud.merge(df_affectation, left_on='id_ign', right_on='id')[['id_ign','noeud_uniq','idtronc']].merge(tronc_elem_synth[\n",
    "        ['long']],left_on='idtronc', right_index=True).rename(columns={'long' : 'long_te'})\n",
    "    noeuds_fin=coresp_te_noeud.sort_values('noeud_uniq').groupby('noeud_uniq').agg({'idtronc':lambda x : tuple(set(x))})\n",
    "    noeuds_fin=noeuds_fin.drop_duplicates('idtronc')\n",
    "\n",
    "    # pour info si plus de 2 boeuds uniques alors il faut filtrer les non représentatif\n",
    "    if len(noeuds_fin)>2 :\n",
    "        coresp_te_noeud_filtre_lg=coresp_te_noeud.loc[coresp_te_noeud['long_te']>50] #on ne garde pas les tout petit tronc\n",
    "        coresp_te_noeud_grp=coresp_te_noeud_filtre_lg.sort_values('noeud_uniq').groupby('noeud_uniq').agg(\n",
    "            {'idtronc':lambda x : tuple(set(x)),'long_te':lambda x : tuple(set(x))})\n",
    "        noeuds_fin=coresp_te_noeud_grp.loc[~coresp_te_noeud_grp.apply(lambda x : len(x['idtronc'])==1 ,axis=1)].copy()\n",
    "        return noeuds_fin,coresp_te_noeud_grp, noeud_uniq # on pourrait creer une erreur pour ca\n",
    "    return noeuds_fin,coresp_te_noeud, noeud_uniq"
   ]
  },
  {
   "cell_type": "code",
   "execution_count": 12,
   "metadata": {},
   "outputs": [],
   "source": [
    "def tronc_elem_rdpt(num_rdpt, df_affectation,df_lignes):\n",
    "    \"\"\"\n",
    "    Trouver les tronc_elem qui se rejoigne à un rd point, identifier par un noeud\n",
    "    en entree : \n",
    "       num_rdpt : integer,  id_rdpt de carac_rdpt\n",
    "       df_affectation : df de correspondance id_ign idtronc_elem, issu de regrouper_troncon\n",
    "       df_lignes df des lignes bdtopo avec rd point et index=id_ign\n",
    "    en sortie : \n",
    "        df_rdpt_tronc_elem : df avec en index le noeud caracteristique du rd et en data un tuple des tronc_elem arrivant\n",
    "    \"\"\"\n",
    "    tronc_elem_entrant=df_affectation.loc[(df_affectation.id.isin(df_lignes.loc[list(carac_rd_pt.loc[num_rdpt].id_ign_entrant)].index.tolist())) \n",
    "                                              & (df_affectation['idtronc']!=num_tronc)].copy()#trouver les tronc_elem qui touchent\n",
    "    #affectation arbitraire du rd poit à un noeud le composant \n",
    "    noeud_uniq_rdpt=df_lignes.loc[carac_rd_pt.loc[num_rdpt]['id_ign_rdpt'][0]]['source']\n",
    "    tronc_elem_entrant['noeud_uniq']=noeud_uniq_rdpt\n",
    "    #creer une df de mm structure qu noeuds_fin\n",
    "    df_rdpt_tronc_elem=tronc_elem_entrant.groupby('noeud_uniq').agg({'idtronc':lambda x : tuple(set(x))})\n",
    "    return df_rdpt_tronc_elem"
   ]
  },
  {
   "cell_type": "code",
   "execution_count": 67,
   "metadata": {},
   "outputs": [],
   "source": [
    "def tronc_elem_rd_pt_global (nb_rdpt, ligne_base,num_rdpt, df_affectation,df_lignes) : \n",
    "    \"\"\"\n",
    "    adaptation de la fonction tronc_elem_rdpt selon le nombre de rdpt du tronc_elem\n",
    "    en entree : \n",
    "        nb_rdpt : integer : nombre de rdpt significatifs\n",
    "        ligne_base : df des lignes constituant le tronc elem. issus de df_lignes\n",
    "        num_rdpt : list d'integer,  id_rdpt de carac_rdpt\n",
    "        df_affectation : df de correspondance id_ign idtronc_elem, issu de regrouper_troncon\n",
    "        df_lignes df des lignes bdtopo avec rd point et index=id_ign\n",
    "    en sortie : \n",
    "        \n",
    "    \"\"\"\n",
    "    if nb_rdpt==1: # dans ce cas il y a un rdpt qui ferme le troncon d'un coté. On commence par le coté ss rdpt\n",
    "        noeuds_fin=creer_noeud_tronc_elem(df_lignes,ligne_base,df_affectation )[0]\n",
    "        #puis le cote avec rd_pt : on cherche les troncs elem qui arriven\n",
    "        df_rdpt_tronc_elem=tronc_elem_rdpt(num_rdpt[0], df_affectation,df_lignes)\n",
    "        #agreg\n",
    "        noeuds_fin=pd.concat([noeuds_fin, df_rdpt_tronc_elem], axis=0, sort=False)\n",
    "    elif nb_rdpt==2 : # adns ce cas il faut trouver les correspondances pour chaque rd pt\n",
    "        corresp1=tronc_elem_rdpt(num_rdpt[0], df_affectation,df_lignes)\n",
    "        corresp2=tronc_elem_rdpt(num_rdpt[1], df_affectation,df_lignes)\n",
    "        noeuds_fin=pd.concat([corresp1, corresp2],axis=0)\n",
    "    return noeuds_fin"
   ]
  },
  {
   "cell_type": "code",
   "execution_count": 95,
   "metadata": {},
   "outputs": [
    {
     "name": "stdout",
     "output_type": "stream",
     "text": [
      "nb lignes traitees 0, heure : <built-in method now of type object at 0x00007FFEAC903D60>, tronc :0\n",
      "5 deja renseigne\n",
      "5 deja renseigne\n",
      "8 deja renseigne\n",
      "8 deja renseigne\n",
      "erreur sur troncon 6337, df noeud :                   idtronc                                  long_te\n",
      "noeud_uniq                                                       \n",
      "66001       (11016, 500)  (353.78757309698466, 5467.885551698945)\n",
      "72616       (10875, 500)   (5467.885551698945, 309.6104307447416)\n",
      "73237       (1892, 8853)   (3097.05124851706, 423.14520467961364)\n",
      "83740       (2354, 1892)    (3097.05124851706, 361.3033189049768)\n"
     ]
    },
    {
     "ename": "KeyError",
     "evalue": "2",
     "output_type": "error",
     "traceback": [
      "\u001b[1;31m---------------------------------------------------------------------------\u001b[0m",
      "\u001b[1;31mKeyError\u001b[0m                                  Traceback (most recent call last)",
      "\u001b[1;32m<ipython-input-95-46e789362200>\u001b[0m in \u001b[0;36m<module>\u001b[1;34m\u001b[0m\n\u001b[0;32m     47\u001b[0m         \u001b[1;32mif\u001b[0m \u001b[0mi\u001b[0m \u001b[1;33m>=\u001b[0m \u001b[1;36m2\u001b[0m \u001b[1;33m:\u001b[0m\u001b[1;33m\u001b[0m\u001b[0m\n\u001b[0;32m     48\u001b[0m             \u001b[0mprint\u001b[0m\u001b[1;33m(\u001b[0m\u001b[1;34mf'erreur sur troncon {num_tronc}, df noeud :  {noeuds_fin}'\u001b[0m\u001b[1;33m)\u001b[0m\u001b[1;33m\u001b[0m\u001b[0m\n\u001b[1;32m---> 49\u001b[1;33m         \u001b[0mgroup_idtronc\u001b[0m\u001b[1;33m.\u001b[0m\u001b[0mloc\u001b[0m\u001b[1;33m[\u001b[0m\u001b[0mnum_tronc\u001b[0m\u001b[1;33m,\u001b[0m \u001b[0mdico_attribut\u001b[0m\u001b[1;33m[\u001b[0m\u001b[0mi\u001b[0m\u001b[1;33m]\u001b[0m\u001b[1;33m]\u001b[0m\u001b[1;33m=\u001b[0m\u001b[0mnoeuds_fin\u001b[0m\u001b[1;33m.\u001b[0m\u001b[0mindex\u001b[0m\u001b[1;33m.\u001b[0m\u001b[0mvalues\u001b[0m\u001b[1;33m[\u001b[0m\u001b[0mi\u001b[0m\u001b[1;33m]\u001b[0m \u001b[1;31m#mise à jour des valuers de pour le troncon de base\u001b[0m\u001b[1;33m\u001b[0m\u001b[0m\n\u001b[0m\u001b[0;32m     50\u001b[0m         \u001b[0mgroup_idtronc\u001b[0m\u001b[1;33m.\u001b[0m\u001b[0mloc\u001b[0m\u001b[1;33m[\u001b[0m\u001b[0mnum_tronc\u001b[0m\u001b[1;33m,\u001b[0m \u001b[0mdico_attribut\u001b[0m\u001b[1;33m[\u001b[0m\u001b[0mi\u001b[0m\u001b[1;33m]\u001b[0m\u001b[1;33m]\u001b[0m\u001b[1;33m=\u001b[0m\u001b[0mnoeuds_fin\u001b[0m\u001b[1;33m.\u001b[0m\u001b[0mindex\u001b[0m\u001b[1;33m.\u001b[0m\u001b[0mvalues\u001b[0m\u001b[1;33m[\u001b[0m\u001b[0mi\u001b[0m\u001b[1;33m]\u001b[0m\u001b[1;33m\u001b[0m\u001b[0m\n\u001b[0;32m     51\u001b[0m     \u001b[1;32mfor\u001b[0m \u001b[0mnum_tronc_sup\u001b[0m \u001b[1;32min\u001b[0m \u001b[1;33m[\u001b[0m\u001b[0mx\u001b[0m \u001b[1;32mfor\u001b[0m \u001b[0my\u001b[0m \u001b[1;32min\u001b[0m \u001b[0mnoeuds_fin\u001b[0m\u001b[1;33m.\u001b[0m\u001b[0midtronc\u001b[0m\u001b[1;33m.\u001b[0m\u001b[0mtolist\u001b[0m\u001b[1;33m(\u001b[0m\u001b[1;33m)\u001b[0m \u001b[1;32mfor\u001b[0m \u001b[0mx\u001b[0m \u001b[1;32min\u001b[0m \u001b[0my\u001b[0m\u001b[1;33m]\u001b[0m \u001b[1;33m:\u001b[0m \u001b[1;31m#mise à jour des valeusr pour les autres troncons\u001b[0m\u001b[1;33m\u001b[0m\u001b[0m\n",
      "\u001b[1;31mKeyError\u001b[0m: 2"
     ]
    }
   ],
   "source": [
    "# à partir de df_affectation, je trouve les noeud qui ne sont présent qu'une fois\n",
    "#regroupement des lignes par idtronc et creation des futurs attributs de src et tgt\n",
    "group_idtronc=df_affectation.groupby('idtronc').agg({'id':lambda x : tuple(x)})\n",
    "group_idtronc['src_elem']=-1\n",
    "group_idtronc['tgt_elem']=-1\n",
    "#pour une ligne : retrouver les lignes de base\n",
    "\n",
    "for i,num_tronc in enumerate(df_affectation.idtronc.unique()) :\n",
    "    if i%1000==0 : \n",
    "        print(f'nb lignes traitees {i}, heure : {datetime.now}, tronc :{num_tronc}')\n",
    "    #num_tronc=68 #396 #3402 #206\n",
    "    ligne_base=df_lignes.loc[list(group_idtronc.loc[num_tronc].id)]\n",
    "\n",
    "    # Le pb c'est de gérer les rdpt qui termine un tronc elem. \n",
    "    #dc 1. combien de rd point dans le tronc eleme\n",
    "    nb_rdpt=ligne_base.id_rdpt.nunique()\n",
    "\n",
    "    #2. Gérer les différents cas du nb de rdpt \n",
    "    #si 0 : on va chercher les noeud qui n'apparaissent qu'une fois : ce son des fin de troncon elem\n",
    "    if nb_rdpt==0 :\n",
    "        noeuds_fin,synthese_croisement, noeud_uniq=creer_noeud_tronc_elem(df_lignes,ligne_base,df_affectation )\n",
    "    else :  #on attaque les cas en fonction du nombre de rdpt   \n",
    "        list_rdpt=ligne_base.loc[ligne_base['id_rdpt'].notna()].id_rdpt.unique()\n",
    "    #si 1 : ce rd point est-il en fin de trocnon ou non. C'est tarduit par le nb de route différentes qui intersectenet les rd point (attribut de carac_rd_pt)\n",
    "        if nb_rdpt==1 : \n",
    "            nb_voie_entrante=carac_rd_pt.loc[num_rdpt].nb_rte_rdpt\n",
    "            if nb_voie_entrante==1 : #ds ce cas c'est comme si pas de rdpt\n",
    "                noeuds_fin=creer_noeud_tronc_elem(df_lignes,ligne_base,df_affectation )[0]\n",
    "            else : \n",
    "                noeuds_fin=tronc_elem_rd_pt_global(nb_rdpt, ligne_base,list_rdpt, df_affectation,df_lignes)         \n",
    "        else : #si plusieurs rd pt\n",
    "            #il faut connaitre le nb de rd pt avec plusieurs voie entrante. sinon le max est 2 si plus que 2 alors erreur\n",
    "            tt_rdpt=carac_rd_pt.loc[list_rdpt] # tous les rd pt du tronc elem\n",
    "            rd_pt_multi_voie=tt_rdpt.loc[tt_rdpt['nb_rte_rdpt']>1].index.tolist() #que les multi voies\n",
    "            if len(rd_pt_multi_voie)==0 : # c'est le cas ss rdpt\n",
    "                noeuds_fin=creer_noeud_tronc_elem(df_lignes,ligne_base,df_affectation )[0] \n",
    "            elif len(rd_pt_multi_voie)==1 : # si 1 seul on revient sur le cas du dessus,\n",
    "                noeuds_fin=tronc_elem_rd_pt_global(1, ligne_base,rd_pt_multi_voie, df_affectation,df_lignes)\n",
    "            elif len(rd_pt_multi_voie)==2 : # adns ce cas il faut trouver les correspondances pour chaque rd pt\n",
    "                noeuds_fin=tronc_elem_rd_pt_global(2, ligne_base,rd_pt_multi_voie, df_affectation,df_lignes)\n",
    "            else : #alors c'est une erreur\n",
    "                print('erreur nb de rd point significatif, revoir le sectionnement')\n",
    "\n",
    "    #mettre à jour la df créée au départ : \n",
    "    dico_attribut={0:'src_elem', 1:'tgt_elem'}\n",
    "    for i in range(len(noeuds_fin)) : \n",
    "        if i >= 2 : \n",
    "            print(f'erreur sur troncon {num_tronc}, df noeud :  {noeuds_fin}')\n",
    "        group_idtronc.loc[num_tronc, dico_attribut[i]]=noeuds_fin.index.values[i] #mise à jour des valuers de pour le troncon de base\n",
    "        group_idtronc.loc[num_tronc, dico_attribut[i]]=noeuds_fin.index.values[i]\n",
    "    for num_tronc_sup in [x for y in noeuds_fin.idtronc.tolist() for x in y] : #mise à jour des valeusr pour les autres troncons\n",
    "        for i in range(len(noeuds_fin)) :\n",
    "            if group_idtronc.loc[num_tronc_sup][dico_attribut[0]]==-1 : \n",
    "                group_idtronc.loc[num_tronc_sup, dico_attribut[0]]=noeuds_fin.loc[noeuds_fin.apply(lambda x : num_tronc_sup in x['idtronc'],axis=1)].index.values[0]\n",
    "                break\n",
    "            elif group_idtronc.loc[num_tronc_sup][dico_attribut[1]]==-1 :\n",
    "                group_idtronc.loc[num_tronc_sup, dico_attribut[1]]=noeuds_fin.loc[noeuds_fin.apply(lambda x : num_tronc_sup in x['idtronc'],axis=1)].index.values[0]\n",
    "                break\n",
    "            else : \n",
    "                print(f'{num_tronc_sup} deja renseigne' )"
   ]
  },
  {
   "cell_type": "code",
   "execution_count": 82,
   "metadata": {},
   "outputs": [
    {
     "data": {
      "text/html": [
       "<div>\n",
       "<style scoped>\n",
       "    .dataframe tbody tr th:only-of-type {\n",
       "        vertical-align: middle;\n",
       "    }\n",
       "\n",
       "    .dataframe tbody tr th {\n",
       "        vertical-align: top;\n",
       "    }\n",
       "\n",
       "    .dataframe thead th {\n",
       "        text-align: right;\n",
       "    }\n",
       "</style>\n",
       "<table border=\"1\" class=\"dataframe\">\n",
       "  <thead>\n",
       "    <tr style=\"text-align: right;\">\n",
       "      <th></th>\n",
       "      <th>idtronc</th>\n",
       "    </tr>\n",
       "    <tr>\n",
       "      <th>noeud_uniq</th>\n",
       "      <th></th>\n",
       "    </tr>\n",
       "  </thead>\n",
       "  <tbody>\n",
       "    <tr>\n",
       "      <th>72297</th>\n",
       "      <td>(4504, 3713)</td>\n",
       "    </tr>\n",
       "    <tr>\n",
       "      <th>69869</th>\n",
       "      <td>(2741, 3005)</td>\n",
       "    </tr>\n",
       "  </tbody>\n",
       "</table>\n",
       "</div>"
      ],
      "text/plain": [
       "                 idtronc\n",
       "noeud_uniq              \n",
       "72297       (4504, 3713)\n",
       "69869       (2741, 3005)"
      ]
     },
     "execution_count": 82,
     "metadata": {},
     "output_type": "execute_result"
    }
   ],
   "source": [
    "noeuds_fin"
   ]
  },
  {
   "cell_type": "code",
   "execution_count": 47,
   "metadata": {},
   "outputs": [
    {
     "data": {
      "text/plain": [
       "noeud_uniq\n",
       "39594     True\n",
       "52060    False\n",
       "dtype: bool"
      ]
     },
     "execution_count": 47,
     "metadata": {},
     "output_type": "execute_result"
    }
   ],
   "source": [
    "noeuds_fin.apply(lambda x : num_tronc_sup in x['idtronc'],axis=1)"
   ]
  },
  {
   "cell_type": "code",
   "execution_count": 20,
   "metadata": {},
   "outputs": [
    {
     "data": {
      "text/html": [
       "<div>\n",
       "<style scoped>\n",
       "    .dataframe tbody tr th:only-of-type {\n",
       "        vertical-align: middle;\n",
       "    }\n",
       "\n",
       "    .dataframe tbody tr th {\n",
       "        vertical-align: top;\n",
       "    }\n",
       "\n",
       "    .dataframe thead th {\n",
       "        text-align: right;\n",
       "    }\n",
       "</style>\n",
       "<table border=\"1\" class=\"dataframe\">\n",
       "  <thead>\n",
       "    <tr style=\"text-align: right;\">\n",
       "      <th></th>\n",
       "      <th>idtronc</th>\n",
       "      <th>long_te</th>\n",
       "    </tr>\n",
       "    <tr>\n",
       "      <th>noeud_uniq</th>\n",
       "      <th></th>\n",
       "      <th></th>\n",
       "    </tr>\n",
       "  </thead>\n",
       "  <tbody>\n",
       "    <tr>\n",
       "      <th>9466</th>\n",
       "      <td>(938, 1563, 12422)</td>\n",
       "      <td>(445.15375219309715, 1054.161900553276, 431.0587952118286)</td>\n",
       "    </tr>\n",
       "  </tbody>\n",
       "</table>\n",
       "</div>"
      ],
      "text/plain": [
       "                       idtronc  \\\n",
       "noeud_uniq                       \n",
       "9466        (938, 1563, 12422)   \n",
       "\n",
       "                                                               long_te  \n",
       "noeud_uniq                                                              \n",
       "9466        (445.15375219309715, 1054.161900553276, 431.0587952118286)  "
      ]
     },
     "execution_count": 20,
     "metadata": {},
     "output_type": "execute_result"
    }
   ],
   "source": [
    "synthese_croisement.loc[~synthese_croisement.apply(lambda x : len(x['idtronc'])==1 ,axis=1)].copy()"
   ]
  },
  {
   "cell_type": "code",
   "execution_count": 328,
   "metadata": {},
   "outputs": [],
   "source": [
    "#mettre à jour la df créée au départ : \n",
    "group_idtronc.loc[num_tronc, 'src_elem']=noeuds_fin.index.values[0] #mise à jour des valuers de pour le troncon de base\n",
    "group_idtronc.loc[num_tronc, 'tgt_elem']=noeuds_fin.index.values[1]\n",
    "for num_tronc_sup in [x for y in noeuds_fin.idtronc.tolist() for x in y] : #mise à jour des valeusr pour les autres troncons\n",
    "    if group_idtronc.loc[num_tronc_sup].src_elem==-1 : \n",
    "        group_idtronc.loc[num_tronc_sup, 'src_elem']=noeuds_fin.loc[noeuds_fin.apply(lambda x : num_tronc_sup in x['idtronc'],axis=1)].index.values[0]\n",
    "    elif group_idtronc.loc[num_tronc_sup].tgt_elem==-1 :\n",
    "        group_idtronc.loc[num_tronc_sup, 'tgt_elem']=noeuds_fin.loc[noeuds_fin.apply(lambda x : num_tronc_sup in x['idtronc'],axis=1)].index.values[0]\n",
    "    else : \n",
    "        print(f'{num_tronc_sup} deja renseigne' )"
   ]
  },
  {
   "cell_type": "code",
   "execution_count": 200,
   "metadata": {},
   "outputs": [
    {
     "data": {
      "text/plain": [
       "3639"
      ]
     },
     "execution_count": 200,
     "metadata": {},
     "output_type": "execute_result"
    }
   ],
   "source": [
    "df_affectation.idtronc.unique()"
   ]
  }
 ],
 "metadata": {
  "kernelspec": {
   "display_name": "Python 3",
   "language": "python",
   "name": "python3"
  },
  "language_info": {
   "codemirror_mode": {
    "name": "ipython",
    "version": 3
   },
   "file_extension": ".py",
   "mimetype": "text/x-python",
   "name": "python",
   "nbconvert_exporter": "python",
   "pygments_lexer": "ipython3",
   "version": "3.8.6"
  }
 },
 "nbformat": 4,
 "nbformat_minor": 4
}
