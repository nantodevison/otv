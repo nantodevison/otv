{
 "cells": [
  {
   "cell_type": "code",
   "execution_count": 1,
   "metadata": {},
   "outputs": [],
   "source": [
    "%load_ext autoreload\n",
    "%autoreload 2\n",
    "import sys #c'est pas propre mais pour le moment pour importer mes modules perso dans le notebook je ne sais pas faire\n",
    "sys.path.append(r'C:\\Users\\martin.schoreisz\\git\\Outils\\Outils\\Martin_Perso')\n",
    "sys.path.append(r'C:\\Users\\martin.schoreisz\\git\\otv\\otv\\Transfert_Donnees')\n",
    "import agrege_troncon as at\n",
    "import Connexion_Transfert as ct\n",
    "import matplotlib\n",
    "import geopandas as gp\n",
    "import numpy as np\n",
    "from datetime import datetime\n",
    "import Connexion_Transfert as ct\n",
    "from shapely.wkt import loads\n",
    "import Outils"
   ]
  },
  {
   "cell_type": "code",
   "execution_count": 2,
   "metadata": {},
   "outputs": [],
   "source": [
    "#importer les odnnées de  base\n",
    "with ct.ConnexionBdd('local_otv') as c : \n",
    "    df = gp.read_postgis(\"select t.*, v1.cnt nb_intrsct_src, st_astext(v1.the_geom) as src_geom, v2.cnt as nb_intrsct_tgt, st_astext(v2.the_geom) as tgt_geom from public.test_agreg_lineaire t left join public.test_agreg_lineaire_vertices_pgr v1 on t.\\\"source\\\"=v1.id left join public.test_agreg_lineaire_vertices_pgr v2  on t.target=v2.id\", c.connexionPsy)\n",
    "nature_2_chaussees=['Route à 2 chaussées','Quasi-autoroute','Autoroute']\n",
    "#donnees generale du jdd\n",
    "df.set_index('id_ign', inplace=True)  # passer l'id_ign commme index ; necessaire sinon pb avec geometrie vu comme texte\n",
    "df2_chaussees=df.loc[df.loc[:,'nature'].isin(nature_2_chaussees)] #isoler les troncon de voies decrits par 2 lignes"
   ]
  },
  {
   "cell_type": "code",
   "execution_count": null,
   "metadata": {},
   "outputs": [],
   "source": [
    "toto=at.affecter_troncon_ligne('TRONROUT0000000109674477')"
   ]
  },
  {
   "cell_type": "code",
   "execution_count": null,
   "metadata": {},
   "outputs": [],
   "source": [
    "toto"
   ]
  },
  {
   "cell_type": "code",
   "execution_count": 4,
   "metadata": {},
   "outputs": [
    {
     "name": "stdout",
     "output_type": "stream",
     "text": [
      "0eme occurence : TRONROUT0000000113489744 à 15:35:18 nb ligne traite : 0, nb ligne differente=0\n",
      "300eme occurence : TRONROUT0000000129676524 à 15:35:27 nb ligne traite : 846, nb ligne differente=846\n",
      "600eme occurence : TRONROUT0000000032825006 à 15:35:36 nb ligne traite : 1620, nb ligne differente=1620\n",
      "900eme occurence : TRONROUT0000000032837043 à 15:35:37 nb ligne traite : 1749, nb ligne differente=1749\n",
      "1200eme occurence : TRONROUT0000000032857215 à 15:35:41 nb ligne traite : 2046, nb ligne differente=2046\n",
      "1500eme occurence : TRONROUT0000000032858991 à 15:35:45 nb ligne traite : 2458, nb ligne differente=2458\n",
      "1800eme occurence : TRONROUT0000000032845694 à 15:35:49 nb ligne traite : 2969, nb ligne differente=2969\n",
      "2100eme occurence : TRONROUT0000000032859654 à 15:35:53 nb ligne traite : 3348, nb ligne differente=3348\n",
      "2400eme occurence : TRONROUT0000000033005488 à 15:35:57 nb ligne traite : 3894, nb ligne differente=3894\n",
      "2700eme occurence : TRONROUT0000000113489812 à 15:36:00 nb ligne traite : 4114, nb ligne differente=4114\n",
      "3000eme occurence : TRONROUT0000000309212140 à 15:36:03 nb ligne traite : 4295, nb ligne differente=4295\n",
      "3300eme occurence : TRONROUT0000000129822658 à 15:36:05 nb ligne traite : 4383, nb ligne differente=4383\n",
      "3600eme occurence : TRONROUT0000000032989854 à 15:36:07 nb ligne traite : 4448, nb ligne differente=4448\n",
      "3900eme occurence : TRONROUT0000000323702350 à 15:36:09 nb ligne traite : 4662, nb ligne differente=4662\n",
      "4200eme occurence : TRONROUT0000000032843557 à 15:36:12 nb ligne traite : 4884, nb ligne differente=4884\n",
      "4500eme occurence : TRONROUT0000000323608262 à 15:36:15 nb ligne traite : 5124, nb ligne differente=5124\n",
      "4800eme occurence : TRONROUT0000000032837423 à 15:36:17 nb ligne traite : 5245, nb ligne differente=5245\n",
      "5100eme occurence : TRONROUT0000000032954374 à 15:36:20 nb ligne traite : 5398, nb ligne differente=5398\n",
      "5400eme occurence : TRONROUT0000000032968539 à 15:36:24 nb ligne traite : 5624, nb ligne differente=5624\n",
      "5700eme occurence : TRONROUT0000000032979832 à 15:36:26 nb ligne traite : 5760, nb ligne differente=5760\n"
     ]
    }
   ],
   "source": [
    "dico=at.affecter_troncon(df)\n",
    "with ct.ConnexionBdd('local_otv') as c :\n",
    "    at.inserer_dico(c, dico)"
   ]
  },
  {
   "cell_type": "code",
   "execution_count": null,
   "metadata": {},
   "outputs": [],
   "source": [
    "a"
   ]
  },
  {
   "cell_type": "code",
   "execution_count": null,
   "metadata": {},
   "outputs": [],
   "source": []
  }
 ],
 "metadata": {
  "kernelspec": {
   "display_name": "Python 3",
   "language": "python",
   "name": "python3"
  },
  "language_info": {
   "codemirror_mode": {
    "name": "ipython",
    "version": 3
   },
   "file_extension": ".py",
   "mimetype": "text/x-python",
   "name": "python",
   "nbconvert_exporter": "python",
   "pygments_lexer": "ipython3",
   "version": "3.7.0"
  }
 },
 "nbformat": 4,
 "nbformat_minor": 2
}
