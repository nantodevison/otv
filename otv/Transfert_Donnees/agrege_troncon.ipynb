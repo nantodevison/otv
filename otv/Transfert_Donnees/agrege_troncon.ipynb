{
 "cells": [
  {
   "cell_type": "code",
   "execution_count": 1,
   "metadata": {},
   "outputs": [],
   "source": [
    "%load_ext autoreload\n",
    "%autoreload 2\n",
    "import sys #c'est pas propre mais pour le moment pour importer mes modules perso dans le notebook je ne sais pas faire\n",
    "sys.path.append(r'C:\\Users\\martin.schoreisz\\git\\Outils\\Outils\\Martin_Perso')\n",
    "sys.path.append(r'C:\\Users\\martin.schoreisz\\git\\otv\\otv\\Transfert_Donnees')\n",
    "import agrege_troncon as at\n",
    "import Connexion_Transfert as ct\n",
    "import matplotlib, os, fiona\n",
    "import geopandas as gp\n",
    "import pandas as pd\n",
    "import numpy as np\n",
    "from datetime import datetime\n",
    "import Connexion_Transfert as ct\n",
    "from shapely.wkt import loads\n",
    "from shapely.ops import nearest_points, polygonize\n",
    "import Outils"
   ]
  },
  {
   "cell_type": "code",
   "execution_count": 3,
   "metadata": {},
   "outputs": [
    {
     "name": "stderr",
     "output_type": "stream",
     "text": [
      "c:\\users\\martin.schoreisz\\appdata\\local\\programs\\python\\python37\\lib\\site-packages\\numpy\\lib\\function_base.py:2167: RuntimeWarning: invalid value encountered in ? (vectorized)\n",
      "  outputs = ufunc(*inputs)\n"
     ]
    },
    {
     "name": "stdout",
     "output_type": "stream",
     "text": [
      "Index(['id', 'prec_plani', 'prec_alti', 'nature', 'numero', 'nom_voie_g',\n",
      "       'nom_voie_d', 'importance', 'cl_admin', 'gestion', 'mise_serv',\n",
      "       'it_vert', 'it_europ', 'fictif', 'franchisst', 'largeur', 'nom_iti',\n",
      "       'nb_voies', 'pos_sol', 'sens', 'alias_g', 'alias_d', 'inseecom_g',\n",
      "       'inseecom_d', 'codevoie_g', 'codevoie_d', 'codepost_g', 'codepost_d',\n",
      "       'typ_adres', 'bornedeb_g', 'bornedeb_d', 'bornefin_g', 'bornefin_d',\n",
      "       'etat', 'z_ini', 'z_fin', 'long_km', 'source', 'target', 'np_ref',\n",
      "       'geom', 'id_tronc_elem', 'nb_intrsct_src', 'src_geom', 'nb_intrsct_tgt',\n",
      "       'tgt_geom', 'index_right', 'id_rdpt'],\n",
      "      dtype='object')\n"
     ]
    }
   ],
   "source": [
    "#importer les odnnées de  base\n",
    "with ct.ConnexionBdd('local_otv') as c : \n",
    "    df = gp.read_postgis(\"select t.*, v1.cnt nb_intrsct_src, st_astext(v1.the_geom) as src_geom, v2.cnt as nb_intrsct_tgt, st_astext(v2.the_geom) as tgt_geom from public.test_agreg_lineaire t left join public.test_agreg_lineaire_vertices_pgr v1 on t.\\\"source\\\"=v1.id left join public.test_agreg_lineaire_vertices_pgr v2  on t.target=v2.id\", c.connexionPsy)\n",
    "nature_2_chaussees=['Route à 2 chaussées','Quasi-autoroute','Autoroute']\n",
    "#donnees generale du jdd\n",
    "df.set_index('id_ign', inplace=True)  # passer l'id_ign commme index ; necessaire sinon pb avec geometrie vu comme texte\n",
    "df2_chaussees=df.loc[df.loc[:,'nature'].isin(nature_2_chaussees)] #isoler les troncon de voies decrits par 2 lignes\n",
    "df=at.identifier_rd_pt(df)"
   ]
  },
  {
   "cell_type": "code",
   "execution_count": 27,
   "metadata": {},
   "outputs": [
    {
     "name": "stdout",
     "output_type": "stream",
     "text": [
      "ligneTRONROUT0000000252657603 rd point ['TRONROUT0000000252657615', 'TRONROUT0000000252657610', 'TRONROUT0000000252657611', 'TRONROUT0000000252657613', 'TRONROUT0000000252657616', 'TRONROUT0000000252657599', 'TRONROUT0000000252657612'], nb rroute rd pt 2.0\n"
     ]
    }
   ],
   "source": [
    "toto=list(at.recup_troncon_elementaire('TRONROUT0000000252657603',df))"
   ]
  },
  {
   "cell_type": "code",
   "execution_count": 20,
   "metadata": {},
   "outputs": [],
   "source": [
    "toto.append('TRONROUT0000000252657603')"
   ]
  },
  {
   "cell_type": "code",
   "execution_count": 21,
   "metadata": {},
   "outputs": [
    {
     "data": {
      "text/plain": [
       "['TRONROUT0000000252657615',\n",
       " 'TRONROUT0000000252657610',\n",
       " 'TRONROUT0000000252657611',\n",
       " 'TRONROUT0000000252657613',\n",
       " 'TRONROUT0000000252657616',\n",
       " 'TRONROUT0000000252657599',\n",
       " 'TRONROUT0000000252657612',\n",
       " 'TRONROUT0000000252657614',\n",
       " 'TRONROUT0000000252657604',\n",
       " 'TRONROUT0000000252657600',\n",
       " 'TRONROUT0000000252657602',\n",
       " 'TRONROUT0000000252657601',\n",
       " 'TRONROUT0000000032966405',\n",
       " 'TRONROUT0000000032966411',\n",
       " 'TRONROUT0000000032966424',\n",
       " 'TRONROUT0000000032966428',\n",
       " 'TRONROUT0000000032966434',\n",
       " 'TRONROUT0000000032966429',\n",
       " 'TRONROUT0000000032966390',\n",
       " 'TRONROUT0000000032966395',\n",
       " 'TRONROUT0000000032966392',\n",
       " 'TRONROUT0000000032966391',\n",
       " 'TRONROUT0000000032966389',\n",
       " 'TRONROUT0000000032966374',\n",
       " 'TRONROUT0000000032966375',\n",
       " 'TRONROUT0000000032968680',\n",
       " 'TRONROUT0000000032968681',\n",
       " 'TRONROUT0000000032968683',\n",
       " 'TRONROUT0000000338548151',\n",
       " 'TRONROUT0000000338548150',\n",
       " 'TRONROUT0000000338548138',\n",
       " 'TRONROUT0000000032968691',\n",
       " 'TRONROUT0000000032968675',\n",
       " 'TRONROUT0000000032968665',\n",
       " 'TRONROUT0000000032968670',\n",
       " 'TRONROUT0000000032968672',\n",
       " 'TRONROUT0000000032968666',\n",
       " 'TRONROUT0000000291516885',\n",
       " 'TRONROUT0000000032968663',\n",
       " 'TRONROUT0000000032968671',\n",
       " 'TRONROUT0000000032968676',\n",
       " 'TRONROUT0000000032968664',\n",
       " 'TRONROUT0000000032968641',\n",
       " 'TRONROUT0000000032968631',\n",
       " 'TRONROUT0000000032968630',\n",
       " 'TRONROUT0000000032968629',\n",
       " 'TRONROUT0000000032968626',\n",
       " 'TRONROUT0000000032968624',\n",
       " 'TRONROUT0000000032968612',\n",
       " 'TRONROUT0000000318180985',\n",
       " 'TRONROUT0000000032968609',\n",
       " 'TRONROUT0000000032968608',\n",
       " 'TRONROUT0000000032968610',\n",
       " 'TRONROUT0000000032966313',\n",
       " 'TRONROUT0000000032966308',\n",
       " 'TRONROUT0000000032966312',\n",
       " 'TRONROUT0000000032966309',\n",
       " 'TRONROUT0000000032966307',\n",
       " 'TRONROUT0000000032966278',\n",
       " 'TRONROUT0000000032966279',\n",
       " 'TRONROUT0000000032966256',\n",
       " 'TRONROUT0000000032966254',\n",
       " 'TRONROUT0000000032966253',\n",
       " 'TRONROUT0000000032963133',\n",
       " 'TRONROUT0000000032963131',\n",
       " 'TRONROUT0000000032963130',\n",
       " 'TRONROUT0000000032966197',\n",
       " 'TRONROUT0000000032966196',\n",
       " 'TRONROUT0000000032966199',\n",
       " 'TRONROUT0000000032966195',\n",
       " 'TRONROUT0000000032966472',\n",
       " 'TRONROUT0000000032966474',\n",
       " 'TRONROUT0000000032966506',\n",
       " 'TRONROUT0000000032966501',\n",
       " 'TRONROUT0000000032966504',\n",
       " 'TRONROUT0000000032966481',\n",
       " 'TRONROUT0000000032966491',\n",
       " 'TRONROUT0000000032966485',\n",
       " 'TRONROUT0000000032966480',\n",
       " 'TRONROUT0000000032966482',\n",
       " 'TRONROUT0000000032966510',\n",
       " 'TRONROUT0000000032966514',\n",
       " 'TRONROUT0000000032966509',\n",
       " 'TRONROUT0000000032966508',\n",
       " 'TRONROUT0000000032966534',\n",
       " 'TRONROUT0000000032963363',\n",
       " 'TRONROUT0000000032963365',\n",
       " 'TRONROUT0000000252657603']"
      ]
     },
     "execution_count": 21,
     "metadata": {},
     "output_type": "execute_result"
    }
   ],
   "source": [
    "toto"
   ]
  },
  {
   "cell_type": "code",
   "execution_count": 8,
   "metadata": {},
   "outputs": [
    {
     "name": "stderr",
     "output_type": "stream",
     "text": [
      "C:\\Users\\martin.schoreisz\\git\\otv\\otv\\Transfert_Donnees\\agrege_troncon.py:184: SettingWithCopyWarning: \n",
      "A value is trying to be set on a copy of a slice from a DataFrame.\n",
      "Try using .loc[row_indexer,col_indexer] = value instead\n",
      "\n",
      "See the caveats in the documentation: http://pandas.pydata.org/pandas-docs/stable/indexing.html#indexing-view-versus-copy\n",
      "  ligne_filtres['distance']=ligne_filtres.geom.apply(lambda x : gdf_lignes2.centroid.distance(x))\n"
     ]
    },
    {
     "data": {
      "text/plain": [
       "'TRONROUT0000000202559739'"
      ]
     },
     "execution_count": 8,
     "metadata": {},
     "output_type": "execute_result"
    }
   ],
   "source": [
    "at.recup_troncon_parallele_v2(df,toto)"
   ]
  },
  {
   "cell_type": "code",
   "execution_count": null,
   "metadata": {},
   "outputs": [],
   "source": [
    "tata=at.affecter_troncon(df)"
   ]
  },
  {
   "cell_type": "code",
   "execution_count": 35,
   "metadata": {},
   "outputs": [
    {
     "name": "stdout",
     "output_type": "stream",
     "text": [
      "0eme occurence : TRONROUT0000000039538408 à 10:48:38 nb ligne traite : 0, nb ligne differente=0\n",
      "erreur index a ligne ligne : TRONROUT0000000084056423\n",
      "erreur index a ligne ligne : TRONROUT0000000084123085\n",
      "erreur index a ligne ligne : TRONROUT0000000084123088\n",
      "erreur index a ligne ligne : TRONROUT0000000089679810\n"
     ]
    },
    {
     "name": "stderr",
     "output_type": "stream",
     "text": [
      "C:\\Users\\martin.schoreisz\\git\\otv\\otv\\Transfert_Donnees\\agrege_troncon.py:241: SettingWithCopyWarning: \n",
      "A value is trying to be set on a copy of a slice from a DataFrame.\n",
      "Try using .loc[row_indexer,col_indexer] = value instead\n",
      "\n",
      "See the caveats in the documentation: http://pandas.pydata.org/pandas-docs/stable/indexing.html#indexing-view-versus-copy\n",
      "  ligne_filtres['distance']=ligne_filtres.geom.apply(lambda x : gdf_lignes2.centroid.distance(x))\n"
     ]
    },
    {
     "name": "stdout",
     "output_type": "stream",
     "text": [
      "erreur index a ligne ligne : TRONROUT0000000098462803\n",
      "erreur index a ligne ligne : TRONROUT0000000032849802\n",
      "300eme occurence : TRONROUT0000000032837430 à 10:48:51 nb ligne traite : 1863, nb ligne differente=1863\n",
      "erreur index a ligne ligne : TRONROUT0000000129757084\n",
      "600eme occurence : TRONROUT0000000130607376 à 10:49:04 nb ligne traite : 2573, nb ligne differente=2573\n",
      "erreur index a ligne ligne : TRONROUT0000000032867128\n",
      "erreur index a ligne ligne : TRONROUT0000000201895324\n",
      "900eme occurence : TRONROUT0000000032864250 à 10:49:15 nb ligne traite : 3209, nb ligne differente=3209\n",
      "erreur index a ligne ligne : TRONROUT0000000255628546\n",
      "erreur index a ligne ligne : TRONROUT0000000032827720\n",
      "erreur index a ligne ligne : TRONROUT0000000032843560\n",
      "1200eme occurence : TRONROUT0000000032972913 à 10:49:25 nb ligne traite : 4028, nb ligne differente=4028\n",
      "erreur index a ligne ligne : TRONROUT0000000254022372\n",
      "erreur index a ligne ligne : TRONROUT0000000318145723\n",
      "1500eme occurence : TRONROUT0000000032824622 à 10:49:29 nb ligne traite : 4678, nb ligne differente=4678\n",
      "1800eme occurence : TRONROUT0000000032838617 à 10:49:32 nb ligne traite : 4842, nb ligne differente=4842\n",
      "erreur index a ligne ligne : TRONROUT0000000032943630\n",
      "erreur index a ligne ligne : TRONROUT0000000032966070\n",
      "erreur index a ligne ligne : TRONROUT0000000032966133\n",
      "2100eme occurence : TRONROUT0000000318145726 à 10:49:38 nb ligne traite : 5087, nb ligne differente=5087\n",
      "erreur index a ligne ligne : TRONROUT0000000032843555\n",
      "erreur index a ligne ligne : TRONROUT0000000033002781\n",
      "2400eme occurence : TRONROUT0000000033005403 à 10:49:43 nb ligne traite : 5381, nb ligne differente=5381\n",
      "2700eme occurence : TRONROUT0000000113489804 à 10:49:45 nb ligne traite : 5431, nb ligne differente=5431\n",
      "3000eme occurence : TRONROUT0000000245360048 à 10:49:46 nb ligne traite : 5450, nb ligne differente=5450\n",
      "3300eme occurence : TRONROUT0000000032867122 à 10:49:49 nb ligne traite : 5462, nb ligne differente=5462\n",
      "3600eme occurence : TRONROUT0000000032989855 à 10:49:51 nb ligne traite : 5487, nb ligne differente=5487\n",
      "3900eme occurence : TRONROUT0000000323696880 à 10:49:53 nb ligne traite : 5532, nb ligne differente=5532\n",
      "4200eme occurence : TRONROUT0000000032843197 à 10:49:58 nb ligne traite : 5599, nb ligne differente=5599\n",
      "erreur index a ligne ligne : TRONROUT0000000032843563\n",
      "erreur index a ligne ligne : TRONROUT0000000032843573\n",
      "4500eme occurence : TRONROUT0000000318338958 à 10:50:00 nb ligne traite : 5646, nb ligne differente=5646\n",
      "4800eme occurence : TRONROUT0000000032834790 à 10:50:00 nb ligne traite : 5668, nb ligne differente=5668\n",
      "5100eme occurence : TRONROUT0000000032954018 à 10:50:02 nb ligne traite : 5692, nb ligne differente=5692\n",
      "5400eme occurence : TRONROUT0000000032968385 à 10:50:06 nb ligne traite : 5747, nb ligne differente=5747\n",
      "erreur index a ligne ligne : TRONROUT0000000032970396\n",
      "5700eme occurence : TRONROUT0000000032991320 à 10:50:08 nb ligne traite : 5770, nb ligne differente=5770\n"
     ]
    }
   ],
   "source": [
    "dico=at.affecter_troncon(df)\n",
    "with ct.ConnexionBdd('local_otv') as c :\n",
    "    at.inserer_dico(c, dico)"
   ]
  },
  {
   "cell_type": "markdown",
   "metadata": {},
   "source": [
    "POUR TRAITEMENT DES VOIES A 2 CHAUSSES : TROUVER PARRALLELE"
   ]
  },
  {
   "cell_type": "code",
   "execution_count": 172,
   "metadata": {},
   "outputs": [],
   "source": [
    "#liste des troncons (parametre entrant)\n",
    "liste_troncon=toto"
   ]
  },
  {
   "cell_type": "code",
   "execution_count": null,
   "metadata": {},
   "outputs": [],
   "source": [
    "#conversion en geodf\n",
    "gdf_lignes=gp.GeoDataFrame(df.loc[liste_troncon], geometry='geom')"
   ]
  },
  {
   "cell_type": "code",
   "execution_count": 174,
   "metadata": {},
   "outputs": [],
   "source": [
    "#union des geometries\n",
    "gdf_lignes2=gdf_lignes.unary_union"
   ]
  },
  {
   "cell_type": "code",
   "execution_count": 176,
   "metadata": {},
   "outputs": [],
   "source": [
    "#centroid de la ligne\n",
    "xmin,ymin,xmax,ymax=gdf_lignes2.interpolate(0.5, normalized=True).buffer(50).bounds"
   ]
  },
  {
   "cell_type": "code",
   "execution_count": 177,
   "metadata": {},
   "outputs": [],
   "source": [
    "#donnees de base\n",
    "gdf_global=gp.GeoDataFrame(df, geometry='geom')"
   ]
  },
  {
   "cell_type": "code",
   "execution_count": 178,
   "metadata": {},
   "outputs": [],
   "source": [
    "#recherche des lignes proches du centroid\n",
    "lignes_possibles=gdf_global.cx[xmin:xmax,ymin:ymax]"
   ]
  },
  {
   "cell_type": "code",
   "execution_count": null,
   "metadata": {},
   "outputs": [],
   "source": [
    "lignes_possibles"
   ]
  },
  {
   "cell_type": "code",
   "execution_count": 180,
   "metadata": {},
   "outputs": [],
   "source": [
    "#uniquement les lignes non présentes dans la liste de troncons avec le même nom de voie\n",
    "ligne_filtres=lignes_possibles.loc[(~lignes_possibles.index.isin(liste_troncon)) & (lignes_possibles['numero']==gdf_lignes.iloc[0]['numero'])]"
   ]
  },
  {
   "cell_type": "code",
   "execution_count": null,
   "metadata": {},
   "outputs": [],
   "source": [
    "#obtenir les distances au centroid\n",
    "ligne_filtres['distance']=ligne_filtres.geom.apply(lambda x : gdf_lignes2.centroid.distance(x))"
   ]
  },
  {
   "cell_type": "code",
   "execution_count": 182,
   "metadata": {},
   "outputs": [
    {
     "data": {
      "text/plain": [
       "'TRONROUT0000000202559739'"
      ]
     },
     "execution_count": 182,
     "metadata": {},
     "output_type": "execute_result"
    }
   ],
   "source": [
    "#garder uniquement la valeur la plus proche du centroid\n",
    "ligne_filtres.loc[ligne_filtres['distance']==ligne_filtres['distance'].min()].index[0]"
   ]
  },
  {
   "cell_type": "markdown",
   "metadata": {},
   "source": [
    "POUR TRAITEMENT DES ROND POINTS"
   ]
  },
  {
   "cell_type": "code",
   "execution_count": 4,
   "metadata": {},
   "outputs": [],
   "source": [
    "#polygoniser les lignes\n",
    "#creer la gdf\n",
    "df.crs={'init':'epsg:2154'}"
   ]
  },
  {
   "cell_type": "code",
   "execution_count": 5,
   "metadata": {},
   "outputs": [],
   "source": [
    "#creer la lsite des rd points selon le critere atmo aura ; creer une gdf avec la liste\n",
    "liste_rd_points=[t.buffer(0.1) for t in polygonize(df.geometry) if 12<=((t.length**2)/t.area)<=13] \n",
    "gdf_rd_point=gp.GeoDataFrame([i for i in range(len(liste_rd_points))], geometry=liste_rd_points)\n",
    "gdf_rd_point.crs={'init':'epsg:2154'}\n",
    "gdf_rd_point.columns=['id_rdpt', 'geometry']    "
   ]
  },
  {
   "cell_type": "code",
   "execution_count": 7,
   "metadata": {},
   "outputs": [],
   "source": [
    "#jointure spataile pour une gdf avec uniquement les rd_points en lignes avec le numéro\n",
    "l_dans_p=gp.sjoin(df,gdf_rd_point,op='within')"
   ]
  },
  {
   "cell_type": "code",
   "execution_count": 8,
   "metadata": {},
   "outputs": [],
   "source": [
    "#lignes qui touchent rd points\n",
    "#1.ligne qui intersectent avec id_rdpt\n",
    "l_intersct_rdpt=gp.sjoin(df,l_dans_p.drop('index_right', axis=1), how='inner',op='intersects')\n",
    "#2.filtre de celle contenue dans le rd points \n",
    "l_intersct_rdpt=l_intersct_rdpt.loc[~l_intersct_rdpt.index.isin(l_dans_p.index.tolist())][['id_rdpt','numero_left']]"
   ]
  },
  {
   "cell_type": "code",
   "execution_count": 9,
   "metadata": {},
   "outputs": [],
   "source": [
    "#trouver le nb de voies qui intersectent chaque rd point et leur noms. renomer les colonnes\n",
    "carac_rd_pt=(pd.concat([l_intersct_rdpt.groupby('id_rdpt').numero_left.nunique(),\n",
    "    l_intersct_rdpt.groupby('id_rdpt')['numero_left'].apply(lambda x: ','.join(set(x)))], axis=1))\n",
    "carac_rd_pt.columns=['nb_rte_rdpt', 'nom_rte_rdpt']"
   ]
  },
  {
   "cell_type": "code",
   "execution_count": 11,
   "metadata": {},
   "outputs": [],
   "source": [
    "#ajouter l'id_rdpt aux données\n",
    "gdf_l_rd_point=pd.concat([df,l_dans_p.loc[:,'id_rdpt']],axis=1, sort=False)"
   ]
  },
  {
   "cell_type": "code",
   "execution_count": 12,
   "metadata": {},
   "outputs": [],
   "source": [
    "#mettre à jour la nature\n",
    "gdf_l_rd_point['nature']=gdf_l_rd_point.apply(lambda x : 'Rd_pt' if x.id_rdpt>=0 else x['nature'], axis=1)"
   ]
  },
  {
   "cell_type": "code",
   "execution_count": 13,
   "metadata": {},
   "outputs": [],
   "source": [
    "#ajouter les infos du rd point (nb voies différentes et nom)\n",
    "gdf_avec_rd_pt=gdf_l_rd_point.merge(carac_rd_pt, how='left',left_on='id_rdpt', right_index=True)"
   ]
  },
  {
   "cell_type": "code",
   "execution_count": 67,
   "metadata": {},
   "outputs": [
    {
     "ename": "ValueError",
     "evalue": "Can only compare identically-labeled Series objects",
     "output_type": "error",
     "traceback": [
      "\u001b[1;31m---------------------------------------------------------------------------\u001b[0m",
      "\u001b[1;31mValueError\u001b[0m                                Traceback (most recent call last)",
      "\u001b[1;32m<ipython-input-67-1a577c1cbbab>\u001b[0m in \u001b[0;36m<module>\u001b[1;34m\u001b[0m\n\u001b[0;32m      1\u001b[0m \u001b[1;31m#gdf_avec_rd_pt.loc[gdf_avec_rd_pt.loc[:,'id_rdpt']==l_dans_p['id_rdpt']]\u001b[0m\u001b[1;33m\u001b[0m\u001b[1;33m\u001b[0m\u001b[1;33m\u001b[0m\u001b[0m\n\u001b[1;32m----> 2\u001b[1;33m \u001b[0mgdf_avec_rd_pt\u001b[0m\u001b[1;33m[\u001b[0m\u001b[1;34m'id_rdpt'\u001b[0m\u001b[1;33m]\u001b[0m\u001b[1;33m==\u001b[0m\u001b[0ml_dans_p\u001b[0m\u001b[1;33m[\u001b[0m\u001b[1;34m'id_rdpt'\u001b[0m\u001b[1;33m]\u001b[0m\u001b[1;33m.\u001b[0m\u001b[0mastype\u001b[0m\u001b[1;33m(\u001b[0m\u001b[1;34m'float64'\u001b[0m\u001b[1;33m)\u001b[0m\u001b[1;33m\u001b[0m\u001b[1;33m\u001b[0m\u001b[0m\n\u001b[0m\u001b[0;32m      3\u001b[0m \u001b[1;31m#l_dans_p.loc[l_dans_p.loc[:,'id_rdpt']].sort_index().sort_index(axis=1)])\u001b[0m\u001b[1;33m\u001b[0m\u001b[1;33m\u001b[0m\u001b[1;33m\u001b[0m\u001b[0m\n",
      "\u001b[1;32mc:\\users\\martin\\appdata\\local\\programs\\python\\python37\\lib\\site-packages\\pandas\\core\\ops.py\u001b[0m in \u001b[0;36mwrapper\u001b[1;34m(self, other, axis)\u001b[0m\n\u001b[0;32m   1674\u001b[0m \u001b[1;33m\u001b[0m\u001b[0m\n\u001b[0;32m   1675\u001b[0m         \u001b[1;32melif\u001b[0m \u001b[0misinstance\u001b[0m\u001b[1;33m(\u001b[0m\u001b[0mother\u001b[0m\u001b[1;33m,\u001b[0m \u001b[0mABCSeries\u001b[0m\u001b[1;33m)\u001b[0m \u001b[1;32mand\u001b[0m \u001b[1;32mnot\u001b[0m \u001b[0mself\u001b[0m\u001b[1;33m.\u001b[0m\u001b[0m_indexed_same\u001b[0m\u001b[1;33m(\u001b[0m\u001b[0mother\u001b[0m\u001b[1;33m)\u001b[0m\u001b[1;33m:\u001b[0m\u001b[1;33m\u001b[0m\u001b[1;33m\u001b[0m\u001b[0m\n\u001b[1;32m-> 1676\u001b[1;33m             raise ValueError(\"Can only compare identically-labeled \"\n\u001b[0m\u001b[0;32m   1677\u001b[0m                              \"Series objects\")\n\u001b[0;32m   1678\u001b[0m \u001b[1;33m\u001b[0m\u001b[0m\n",
      "\u001b[1;31mValueError\u001b[0m: Can only compare identically-labeled Series objects"
     ]
    }
   ],
   "source": [
    "#gdf_avec_rd_pt.loc[gdf_avec_rd_pt.loc[:,'id_rdpt']==l_dans_p['id_rdpt']]\n",
    "gdf_avec_rd_pt['id_rdpt']==l_dans_p['id_rdpt'].astype('float64')\n",
    "#l_dans_p.loc[l_dans_p.loc[:,'id_rdpt']].sort_index().sort_index(axis=1)])"
   ]
  },
  {
   "cell_type": "code",
   "execution_count": 28,
   "metadata": {},
   "outputs": [
    {
     "name": "stderr",
     "output_type": "stream",
     "text": [
      "c:\\users\\martin.schoreisz\\appdata\\local\\programs\\python\\python37\\lib\\site-packages\\geopandas\\io\\file.py:108: FionaDeprecationWarning: Use fiona.Env() instead.\n",
      "  with fiona.drivers():\n"
     ]
    }
   ],
   "source": [
    "#pour export et verif uniquement\n",
    "\"\"\"\"\n",
    "gdf_l_rd_point.to_file(r'E:\\Boulot\\otv\\test_linearisation_auto\\test2.shp')\n",
    "gdf_rd_point.to_file(r'E:\\Boulot\\otv\\test_linearisation_auto\\test1.shp')\n",
    "l_intersct_rdpt.to_file(r'E:\\Boulot\\otv\\test_linearisation_auto\\test3.shp')\n",
    "gdf_avec_rd_pt.to_file(r'E:\\Boulot\\otv\\test_linearisation_auto\\test4.shp')\"\"\"\n",
    "df.to_file(r'D:\\temp\\otv\\17\\test_rd_point\\test5.shp')"
   ]
  },
  {
   "cell_type": "code",
   "execution_count": null,
   "metadata": {},
   "outputs": [],
   "source": [
    "','.join(set(['a','a','b','c']))"
   ]
  },
  {
   "cell_type": "code",
   "execution_count": null,
   "metadata": {},
   "outputs": [],
   "source": []
  }
 ],
 "metadata": {
  "kernelspec": {
   "display_name": "Python 3",
   "language": "python",
   "name": "python3"
  },
  "language_info": {
   "codemirror_mode": {
    "name": "ipython",
    "version": 3
   },
   "file_extension": ".py",
   "mimetype": "text/x-python",
   "name": "python",
   "nbconvert_exporter": "python",
   "pygments_lexer": "ipython3",
   "version": "3.7.0"
  }
 },
 "nbformat": 4,
 "nbformat_minor": 2
}
