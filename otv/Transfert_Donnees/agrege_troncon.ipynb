{
 "cells": [
  {
   "cell_type": "code",
   "execution_count": 1,
   "metadata": {},
   "outputs": [],
   "source": [
    "%load_ext autoreload\n",
    "%autoreload 2\n",
    "import sys #c'est pas propre mais pour le moment pour importer mes modules perso dans le notebook je ne sais pas faire\n",
    "sys.path.append(r'C:\\Users\\martin.schoreisz\\git\\Outils\\Outils\\Martin_Perso')\n",
    "sys.path.append(r'C:\\Users\\martin.schoreisz\\git\\otv\\otv\\Transfert_Donnees')\n",
    "import agrege_troncon as at\n",
    "import Connexion_Transfert as ct\n",
    "import matplotlib\n",
    "import geopandas as gp\n",
    "import numpy as np\n",
    "from datetime import datetime\n",
    "import Connexion_Transfert as ct\n",
    "from shapely.wkt import loads\n",
    "import Outils"
   ]
  },
  {
   "cell_type": "code",
   "execution_count": 2,
   "metadata": {},
   "outputs": [],
   "source": [
    "#importer les odnnées de  base\n",
    "with ct.ConnexionBdd('local_otv') as c : \n",
    "    df = gp.read_postgis(\"select t.*, v1.cnt nb_intrsct_src, st_astext(v1.the_geom) as src_geom, v2.cnt as nb_intrsct_tgt, st_astext(v2.the_geom) as tgt_geom from public.test_agreg_lineaire t left join public.test_agreg_lineaire_vertices_pgr v1 on t.\\\"source\\\"=v1.id left join public.test_agreg_lineaire_vertices_pgr v2  on t.target=v2.id\", c.connexionPsy)\n",
    "nature_2_chaussees=['Route à 2 chaussées','Quasi-autoroute','Autoroute']\n",
    "#donnees generale du jdd\n",
    "df.set_index('id_ign', inplace=True)  # passer l'id_ign commme index ; necessaire sinon pb avec geometrie vu comme texte\n",
    "df2_chaussees=df.loc[df.loc[:,'nature'].isin(nature_2_chaussees)] #isoler les troncon de voies decrits par 2 lignes"
   ]
  },
  {
   "cell_type": "code",
   "execution_count": 44,
   "metadata": {},
   "outputs": [
    {
     "name": "stdout",
     "output_type": "stream",
     "text": [
      "0eme occurence : TRONROUT0000000109674477 à 20:31:42 nb ligne traite : 0, nb ligne differente=0\n"
     ]
    }
   ],
   "source": [
    "toto=at.affecter_troncon_ligne('TRONROUT0000000109674477')"
   ]
  },
  {
   "cell_type": "code",
   "execution_count": 45,
   "metadata": {},
   "outputs": [
    {
     "data": {
      "text/plain": [
       "{'TRONROUT0000000109674477': 0,\n",
       " 'TRONROUT0000000032841957': 0,\n",
       " 'TRONROUT0000000130923326': 0,\n",
       " 'TRONROUT0000000032839277': 0,\n",
       " 'TRONROUT0000000032839286': 0,\n",
       " 'TRONROUT0000000032839287': 0,\n",
       " 'TRONROUT0000000032839282': 0,\n",
       " 'TRONROUT0000000032837045': 0,\n",
       " 'TRONROUT0000000032837041': 0,\n",
       " 'TRONROUT0000000032834970': 0,\n",
       " 'TRONROUT0000000032839279': 0,\n",
       " 'TRONROUT0000000032839288': 0,\n",
       " 'TRONROUT0000000032839278': 0,\n",
       " 'TRONROUT0000000032837043': 0,\n",
       " 'TRONROUT0000000032837069': 0,\n",
       " 'TRONROUT0000000032834969': 0}"
      ]
     },
     "execution_count": 45,
     "metadata": {},
     "output_type": "execute_result"
    }
   ],
   "source": [
    "toto"
   ]
  },
  {
   "cell_type": "code",
   "execution_count": 21,
   "metadata": {},
   "outputs": [],
   "source": [
    "a.add(element for element in ['TRONROUT0000000222486973', 'TRONROUT0000000032900975'])"
   ]
  },
  {
   "cell_type": "code",
   "execution_count": 34,
   "metadata": {},
   "outputs": [
    {
     "data": {
      "text/plain": [
       "{'b', 'c', 'v'}"
      ]
     },
     "execution_count": 34,
     "metadata": {},
     "output_type": "execute_result"
    }
   ],
   "source": [
    "a"
   ]
  },
  {
   "cell_type": "code",
   "execution_count": null,
   "metadata": {},
   "outputs": [],
   "source": []
  }
 ],
 "metadata": {
  "kernelspec": {
   "display_name": "Python 3",
   "language": "python",
   "name": "python3"
  },
  "language_info": {
   "codemirror_mode": {
    "name": "ipython",
    "version": 3
   },
   "file_extension": ".py",
   "mimetype": "text/x-python",
   "name": "python",
   "nbconvert_exporter": "python",
   "pygments_lexer": "ipython3",
   "version": "3.7.0"
  }
 },
 "nbformat": 4,
 "nbformat_minor": 2
}
