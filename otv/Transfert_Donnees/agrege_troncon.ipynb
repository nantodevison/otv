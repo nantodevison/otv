{
 "cells": [
  {
   "cell_type": "code",
   "execution_count": 5,
   "metadata": {},
   "outputs": [
    {
     "name": "stdout",
     "output_type": "stream",
     "text": [
      "The autoreload extension is already loaded. To reload it, use:\n",
      "  %reload_ext autoreload\n"
     ]
    }
   ],
   "source": [
    "%load_ext autoreload\n",
    "%autoreload 2\n",
    "import sys #c'est pas propre mais pour le moment pour importer mes modules perso dans le notebook je ne sais pas faire\n",
    "sys.path.append(r'C:\\Users\\martin.schoreisz\\git\\Outils\\Outils\\Martin_Perso')\n",
    "sys.path.append(r'C:\\Users\\martin.schoreisz\\git\\otv\\otv\\Transfert_Donnees')\n",
    "import agrege_troncon as at\n",
    "import Connexion_Transfert as ct\n",
    "import matplotlib\n",
    "import geopandas as gp\n",
    "import numpy as np\n",
    "from datetime import datetime\n",
    "import Connexion_Transfert as ct\n",
    "from shapely.wkt import loads\n",
    "import Outils"
   ]
  },
  {
   "cell_type": "code",
   "execution_count": 7,
   "metadata": {},
   "outputs": [],
   "source": [
    "#importer les odnnées de  base\n",
    "with ct.ConnexionBdd('local_otv') as c : \n",
    "    df = gp.read_postgis(\"select t.*, v1.cnt nb_intrsct_src, st_astext(v1.the_geom) as src_geom, v2.cnt as nb_intrsct_tgt, st_astext(v2.the_geom) as tgt_geom from referentiel.troncon_route_bdt17_ed15_l t left join referentiel.troncon_route_bdt17_ed15_l_vertices_pgr v1 on t.\\\"source\\\"=v1.id left join referentiel.troncon_route_bdt17_ed15_l_vertices_pgr v2  on t.target=v2.id where t.importance in ('1','2','3')\", c.connexionPsy)\n",
    "nature_2_chaussees=['Route à 2 chaussées','Quasi-autoroute','Autoroute']\n",
    "#donnees generale du jdd\n",
    "df.set_index('id_ign', inplace=True)  # passer l'id_ign commme index ; necessaire sinon pb avec geometrie vu comme texte\n",
    "df2_chaussees=df.loc[df.loc[:,'nature'].isin(nature_2_chaussees)] #isoler les troncon de voies decrits par 2 lignes"
   ]
  },
  {
   "cell_type": "code",
   "execution_count": 20,
   "metadata": {},
   "outputs": [
    {
     "data": {
      "text/plain": [
       "'TRONROUT0000000032834970'"
      ]
     },
     "execution_count": 20,
     "metadata": {},
     "output_type": "execute_result"
    }
   ],
   "source": [
    "#test sur une ligne a 2 chaussées\n",
    "liste_troncon =at.recup_troncon_parallele('TRONROUT0000000032834969',[])\n",
    "liste_troncon"
   ]
  },
  {
   "cell_type": "code",
   "execution_count": 21,
   "metadata": {},
   "outputs": [],
   "source": [
    "'TRONROUT0000000032834969' in df2_chaussees.index"
   ]
  },
  {
   "cell_type": "code",
   "execution_count": 26,
   "metadata": {},
   "outputs": [
    {
     "name": "stdout",
     "output_type": "stream",
     "text": [
      "['TRONROUT0000000032834970', 'TRONROUT0000000032837041', 'TRONROUT0000000032837045', 'TRONROUT0000000032839282', 'TRONROUT0000000032839287', 'TRONROUT0000000032839286', 'TRONROUT0000000032839277', 'TRONROUT0000000130923326', 'TRONROUT0000000032841957', 'TRONROUT0000000109674477']\n",
      "['TRONROUT0000000032834970', 'TRONROUT0000000032837041', 'TRONROUT0000000032837045', 'TRONROUT0000000032839282', 'TRONROUT0000000032839287', 'TRONROUT0000000032839286', 'TRONROUT0000000032839277', 'TRONROUT0000000130923326', 'TRONROUT0000000032841957', 'TRONROUT0000000109674477']\n",
      "['TRONROUT0000000032834970', 'TRONROUT0000000032837041', 'TRONROUT0000000032837045', 'TRONROUT0000000032839282', 'TRONROUT0000000032839287', 'TRONROUT0000000032839286', 'TRONROUT0000000032839277', 'TRONROUT0000000130923326', 'TRONROUT0000000032841957', 'TRONROUT0000000109674477']\n",
      "['TRONROUT0000000032834970', 'TRONROUT0000000032837041', 'TRONROUT0000000032837045', 'TRONROUT0000000032839282', 'TRONROUT0000000032839287', 'TRONROUT0000000032839286', 'TRONROUT0000000032839277', 'TRONROUT0000000130923326', 'TRONROUT0000000032841957', 'TRONROUT0000000109674477']\n",
      "['TRONROUT0000000032834970', 'TRONROUT0000000032837041', 'TRONROUT0000000032837045', 'TRONROUT0000000032839282', 'TRONROUT0000000032839287', 'TRONROUT0000000032839286', 'TRONROUT0000000032839277', 'TRONROUT0000000130923326', 'TRONROUT0000000032841957', 'TRONROUT0000000109674477']\n",
      "['TRONROUT0000000032834970', 'TRONROUT0000000032837041', 'TRONROUT0000000032837045', 'TRONROUT0000000032839282', 'TRONROUT0000000032839287', 'TRONROUT0000000032839286', 'TRONROUT0000000032839277', 'TRONROUT0000000130923326', 'TRONROUT0000000032841957', 'TRONROUT0000000109674477']\n",
      "['TRONROUT0000000032834970', 'TRONROUT0000000032837041', 'TRONROUT0000000032837045', 'TRONROUT0000000032839282', 'TRONROUT0000000032839287', 'TRONROUT0000000032839286', 'TRONROUT0000000032839277', 'TRONROUT0000000130923326', 'TRONROUT0000000032841957', 'TRONROUT0000000109674477']\n",
      "['TRONROUT0000000032834970', 'TRONROUT0000000032837041', 'TRONROUT0000000032837045', 'TRONROUT0000000032839282', 'TRONROUT0000000032839287', 'TRONROUT0000000032839286', 'TRONROUT0000000032839277', 'TRONROUT0000000130923326', 'TRONROUT0000000032841957', 'TRONROUT0000000109674477']\n",
      "['TRONROUT0000000032834970', 'TRONROUT0000000032837041', 'TRONROUT0000000032837045', 'TRONROUT0000000032839282', 'TRONROUT0000000032839287', 'TRONROUT0000000032839286', 'TRONROUT0000000032839277', 'TRONROUT0000000130923326', 'TRONROUT0000000032841957', 'TRONROUT0000000109674477']\n",
      "['TRONROUT0000000032834970', 'TRONROUT0000000032837041', 'TRONROUT0000000032837045', 'TRONROUT0000000032839282', 'TRONROUT0000000032839287', 'TRONROUT0000000032839286', 'TRONROUT0000000032839277', 'TRONROUT0000000130923326', 'TRONROUT0000000032841957', 'TRONROUT0000000109674477']\n"
     ]
    }
   ],
   "source": [
    "for liste_troncon in at.recup_troncon_elementaire('TRONROUT0000000032834970',[]) :\n",
    "    print (liste_troncon)"
   ]
  },
  {
   "cell_type": "code",
   "execution_count": null,
   "metadata": {},
   "outputs": [],
   "source": []
  }
 ],
 "metadata": {
  "kernelspec": {
   "display_name": "Python 3",
   "language": "python",
   "name": "python3"
  },
  "language_info": {
   "codemirror_mode": {
    "name": "ipython",
    "version": 3
   },
   "file_extension": ".py",
   "mimetype": "text/x-python",
   "name": "python",
   "nbconvert_exporter": "python",
   "pygments_lexer": "ipython3",
   "version": "3.7.0"
  }
 },
 "nbformat": 4,
 "nbformat_minor": 2
}
