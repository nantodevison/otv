{
 "cells": [
  {
   "cell_type": "code",
   "execution_count": 2,
   "metadata": {},
   "outputs": [
    {
     "name": "stdout",
     "output_type": "stream",
     "text": [
      "The autoreload extension is already loaded. To reload it, use:\n",
      "  %reload_ext autoreload\n"
     ]
    }
   ],
   "source": [
    "%load_ext autoreload\n",
    "%autoreload 2\n",
    "import sys #c'est pas propre mais pour le moment pour importer mes modules perso dans le notebook je ne sais pas faire\n",
    "sys.path.append(r'C:\\Users\\martin.schoreisz\\git\\Outils\\Outils\\Martin_Perso')\n",
    "sys.path.append(r'C:\\Users\\martin.schoreisz\\git\\otv\\otv\\Transfert_Donnees')\n",
    "import agrege_troncon as at\n",
    "import Connexion_Transfert as ct\n",
    "import matplotlib, os, fiona\n",
    "import geopandas as gp\n",
    "import pandas as pd\n",
    "import numpy as np\n",
    "from datetime import datetime\n",
    "import Connexion_Transfert as ct\n",
    "from shapely.wkt import loads\n",
    "from shapely.ops import nearest_points, polygonize, linemerge,unary_union\n",
    "from shapely.geometry import Point,MultiLineString\n",
    "from collections import Counter\n",
    "from geoalchemy2 import Geometry, WKTElement\n",
    "from sqlalchemy import Table, Column, Integer, String, MetaData\n",
    "from sqlalchemy.sql import select\n",
    "from sklearn.cluster import DBSCAN\n",
    "import Outils\n",
    "import psycopg2\n",
    "#pd.set_option('display.max_colwidth', 1000)\n",
    "pd.set_option('display.max_columns', 50)\n",
    "pd.set_option('display.max_colwidth', 200)"
   ]
  },
  {
   "cell_type": "markdown",
   "metadata": {},
   "source": [
    "# A FAIRE : \n",
    "- \"triangle\" multiple : TRONROUT0000000032823937\n",
    "- mauvais split : TRONROUT0000000032848625\n",
    "- erreur rd pt : TRONROUT0000000032840707\n",
    "- 2*2 voies voies communales : TRONROUT0000000032848788 (ss les rd points ç amarche bien, ça pourrait etre une solution...)\n",
    "- triangle foireux : TRONROUT0000000032839017\n",
    "- rdpt_faux : TRONROUT0000000032839017\n",
    "- mettre en forme les fonctions, regroupés dans des modules si besoin"
   ]
  },
  {
   "cell_type": "markdown",
   "metadata": {},
   "source": [
    "# AVANCEMENT : \n",
    "au 26/09 : les différentes parties jusqu'au chapitre 4.4 sont opérationnelles, mais des erreurs persistent. **Cependant c'est suffisant pour localiser les tronçons elementaires et vérifier si plusieurs point de comptages sont localisés sur le même troncon elementaire.**\n",
    "<br> Le chapitre 4.5 est un premier essai pour faire un graph à partir des tronc elementaires. C'est à vérifier / reprendre / améliorer."
   ]
  },
  {
   "cell_type": "markdown",
   "metadata": {},
   "source": [
    "# IMPORTER LES DONNEES \n",
    "> depuis la base de données locale, en ne prenant en compte que les lignes qui intersectent une zone carré au N-O"
   ]
  },
  {
   "cell_type": "code",
   "execution_count": 118,
   "metadata": {},
   "outputs": [],
   "source": [
    "df=at.import_donnes_base('local_otv')\n",
    "df2_chaussees=df.loc[df.nature.isin(['Autoroute', 'Quasi-autoroute', 'Route à 2 chaussées'])]"
   ]
  },
  {
   "cell_type": "code",
   "execution_count": 4,
   "metadata": {},
   "outputs": [
    {
     "name": "stderr",
     "output_type": "stream",
     "text": [
      "c:\\users\\martin.schoreisz\\appdata\\local\\programs\\python\\python37\\lib\\site-packages\\geopandas\\io\\file.py:108: FionaDeprecationWarning: Use fiona.Env() instead.\n",
      "  with fiona.drivers():\n"
     ]
    }
   ],
   "source": [
    "df.to_file(r'D:\\temp\\otv\\test_linearisation\\donnees_test.shp')"
   ]
  },
  {
   "cell_type": "markdown",
   "metadata": {},
   "source": [
    "# 1 RONDS POINTS"
   ]
  },
  {
   "cell_type": "code",
   "execution_count": 119,
   "metadata": {},
   "outputs": [
    {
     "name": "stderr",
     "output_type": "stream",
     "text": [
      "c:\\users\\martin.schoreisz\\appdata\\local\\programs\\python\\python37\\lib\\site-packages\\numpy\\lib\\function_base.py:2167: RuntimeWarning: invalid value encountered in ? (vectorized)\n",
      "  outputs = ufunc(*inputs)\n"
     ]
    }
   ],
   "source": [
    "df_avec_rd_pt,carac_rd_pt,lign_entrant_rdpt=at.identifier_rd_pt(df)\n",
    "df_lignes=df_avec_rd_pt.set_index('id_ign')#mettre l'id_ign en index"
   ]
  },
  {
   "cell_type": "code",
   "execution_count": 6,
   "metadata": {},
   "outputs": [],
   "source": [
    "df_avec_rd_pt[['id_ign', 'geom', 'id', 'nature', 'numero', 'importance', 'cl_admin',\n",
    "       'gestion', 'mise_serv', 'fictif', 'franchisst', 'largeur', 'z_ini',\n",
    "       'z_fin', 'nb_voies', 'sens', 'etat', 'long_km', 'coment_cpt', 'src_cpt',\n",
    "       'id_comptag', 'obs_supl', 'ann_pt', 'coment_tmj', 'tmja', 'tmja_final',\n",
    "       'pc_pl', 'obs_tmja', 'obs_pc_pl', 'type_vdf', 'vts_type', 'vma',\n",
    "       'veh_km', 'id_cpt1', 'id_cpt2', 'obs_tmj1', 'obs_tmj2', 'id_sect',\n",
    "       'src_sect', 'autor_sect', 'codau_cat', 'milieu', 'vts_vl_vdf',\n",
    "       'vts_pl_vdf', 'vts_gest', 'obs_vts', 'vts_osm', 'vts_modif', 'vts_vl_f',\n",
    "       'vts_pl_f', 'codau', 'codau_cont', 'tmja_cont', 'pc_pl_cont', 'source',\n",
    "       'target', 'recup', 'attr_modif', 'codevoie_d', 'id_tronc_elem',\n",
    "       'nb_intrsct_src', 'src_geom', 'nb_intrsct_tgt', 'tgt_geom', 'id_rdpt',\n",
    "       'nb_rte_rdpt', 'nb_obj_sig_entrant']].to_file(r'D:\\temp\\otv\\test_linearisation\\df_avec_rd_pt.shp')"
   ]
  },
  {
   "cell_type": "markdown",
   "metadata": {},
   "source": [
    "# 2. TRAITEMENTS \n",
    "> La base c'est : \n",
    "- regrouper les lignes qui se suivent\n",
    "- trouver les lignes d'arret\n",
    "- trouver les lignes suivantes\n",
    "- voir le cas des lignes suivantes : \n",
    "    - rd point\n",
    "    - mm route qui se sépare\n",
    "    - rien\n",
    "\n",
    "><br> L'idée c'est ça  : on met la premiere ligne a tester dans une liste, on l'utilise et on stocke les lignes associées dans une autre liste. ensuite on check les lignes suivantes : si elles sont dans un cas où il faut continuer les traitements, on remplace la ligne de départ dans la liste de départ par ces nouvelles lignes, pour lesquelles on applique de nouveau la recherche des lignes qui se suivent. tant que la liste des lignes suivantes est pa vide on reste dans une boucle while"
   ]
  },
  {
   "cell_type": "markdown",
   "metadata": {},
   "source": [
    "## 2.1 Troncons de base"
   ]
  },
  {
   "cell_type": "code",
   "execution_count": 126,
   "metadata": {},
   "outputs": [],
   "source": [
    "# ligne a tester : TRONROUT0000000339411609 TRONROUT0000000032869130 TRONROUT0000000032859410\n",
    "id_lignes='TRONROUT0000000032848625'\n",
    "#trouver tous les troncons proches qui se suivent\n",
    "#list_troncon=[id_ligne]+[a for a in at.liste_troncon_base(id_ligne,df_lignes)]\n",
    "list_troncon=at.liste_complete_tronc_base(id_lignes,df_lignes,[])"
   ]
  },
  {
   "cell_type": "markdown",
   "metadata": {},
   "source": [
    "## 2.2 lignes d'arret"
   ]
  },
  {
   "cell_type": "code",
   "execution_count": 732,
   "metadata": {},
   "outputs": [],
   "source": [
    "#trouver les troncons de debut et de fin :ceux pour lesquels on a un nombre de ligne sur target source >2\n",
    "dico_deb_fin=at.deb_fin_liste_tronc_base(df_lignes, list_troncon)"
   ]
  },
  {
   "cell_type": "code",
   "execution_count": 733,
   "metadata": {},
   "outputs": [
    {
     "data": {
      "text/plain": [
       "{0: {'id': 'TRONROUT0000000032848625',\n",
       "  'type': 'source',\n",
       "  'num_node': 67159,\n",
       "  'geom_node': 'POINT(380969.4 6571342.39999999)',\n",
       "  'voie': 'NC',\n",
       "  'codevoie': '173000410'},\n",
       " 1: {'id': 'TRONROUT0000000032848455',\n",
       "  'type': 'target',\n",
       "  'num_node': 51629,\n",
       "  'geom_node': 'POINT(381320.2 6571487.99999999)',\n",
       "  'voie': 'NC',\n",
       "  'codevoie': '173000410'}}"
      ]
     },
     "execution_count": 733,
     "metadata": {},
     "output_type": "execute_result"
    }
   ],
   "source": [
    "dico_deb_fin"
   ]
  },
  {
   "cell_type": "code",
   "execution_count": 697,
   "metadata": {},
   "outputs": [],
   "source": [
    "ligne='TRONROUT0000000215001642'\n",
    "for v in dico_deb_fin.values() : \n",
    "    if v['id']==ligne :\n",
    "        voie=v['voie']\n",
    "        noeud=v['num_node']\n",
    "        geom_noeud=v['geom_node']\n",
    "        type_noeud=v['type']\n",
    "        codevoie=v['codevoie']\n",
    "        #break\n",
    "    else : \n",
    "        continue"
   ]
  },
  {
   "cell_type": "markdown",
   "metadata": {},
   "source": [
    "## 2.3 lignes suivantes"
   ]
  },
  {
   "cell_type": "code",
   "execution_count": 698,
   "metadata": {},
   "outputs": [],
   "source": [
    "#vérifier si une ligne touche un rd point\n",
    "# aprtir d'une ligne et d'un numero de noeud, on récupère les lignes qui touchent\n",
    "lignes_adj=df_lignes.loc[((df_lignes['source']==noeud)|(df_lignes['target']==noeud))&(df_lignes.index!=ligne)]"
   ]
  },
  {
   "cell_type": "code",
   "execution_count": 699,
   "metadata": {},
   "outputs": [
    {
     "data": {
      "text/html": [
       "<div>\n",
       "<style scoped>\n",
       "    .dataframe tbody tr th:only-of-type {\n",
       "        vertical-align: middle;\n",
       "    }\n",
       "\n",
       "    .dataframe tbody tr th {\n",
       "        vertical-align: top;\n",
       "    }\n",
       "\n",
       "    .dataframe thead th {\n",
       "        text-align: right;\n",
       "    }\n",
       "</style>\n",
       "<table border=\"1\" class=\"dataframe\">\n",
       "  <thead>\n",
       "    <tr style=\"text-align: right;\">\n",
       "      <th></th>\n",
       "      <th>geom</th>\n",
       "      <th>id</th>\n",
       "      <th>nature</th>\n",
       "      <th>numero</th>\n",
       "      <th>importance</th>\n",
       "      <th>cl_admin</th>\n",
       "      <th>gestion</th>\n",
       "      <th>mise_serv</th>\n",
       "      <th>fictif</th>\n",
       "      <th>franchisst</th>\n",
       "      <th>largeur</th>\n",
       "      <th>z_ini</th>\n",
       "      <th>z_fin</th>\n",
       "      <th>nb_voies</th>\n",
       "      <th>sens</th>\n",
       "      <th>etat</th>\n",
       "      <th>long_km</th>\n",
       "      <th>coment_cpt</th>\n",
       "      <th>src_cpt</th>\n",
       "      <th>id_comptag</th>\n",
       "      <th>obs_supl</th>\n",
       "      <th>ann_pt</th>\n",
       "      <th>coment_tmj</th>\n",
       "      <th>tmja</th>\n",
       "      <th>tmja_final</th>\n",
       "      <th>...</th>\n",
       "      <th>vts_osm</th>\n",
       "      <th>vts_modif</th>\n",
       "      <th>vts_vl_f</th>\n",
       "      <th>vts_pl_f</th>\n",
       "      <th>codau</th>\n",
       "      <th>codau_cont</th>\n",
       "      <th>tmja_cont</th>\n",
       "      <th>pc_pl_cont</th>\n",
       "      <th>source</th>\n",
       "      <th>target</th>\n",
       "      <th>recup</th>\n",
       "      <th>attr_modif</th>\n",
       "      <th>codevoie_d</th>\n",
       "      <th>id_tronc_elem</th>\n",
       "      <th>nb_intrsct_src</th>\n",
       "      <th>src_geom</th>\n",
       "      <th>nb_intrsct_tgt</th>\n",
       "      <th>tgt_geom</th>\n",
       "      <th>id_rdpt</th>\n",
       "      <th>nb_rte_rdpt</th>\n",
       "      <th>nom_rte_rdpt_entrant</th>\n",
       "      <th>codevoie_rdpt_entrant</th>\n",
       "      <th>nb_obj_sig_entrant</th>\n",
       "      <th>valeur_sens</th>\n",
       "      <th>id_ign_entrant</th>\n",
       "    </tr>\n",
       "    <tr>\n",
       "      <th>id_ign</th>\n",
       "      <th></th>\n",
       "      <th></th>\n",
       "      <th></th>\n",
       "      <th></th>\n",
       "      <th></th>\n",
       "      <th></th>\n",
       "      <th></th>\n",
       "      <th></th>\n",
       "      <th></th>\n",
       "      <th></th>\n",
       "      <th></th>\n",
       "      <th></th>\n",
       "      <th></th>\n",
       "      <th></th>\n",
       "      <th></th>\n",
       "      <th></th>\n",
       "      <th></th>\n",
       "      <th></th>\n",
       "      <th></th>\n",
       "      <th></th>\n",
       "      <th></th>\n",
       "      <th></th>\n",
       "      <th></th>\n",
       "      <th></th>\n",
       "      <th></th>\n",
       "      <th></th>\n",
       "      <th></th>\n",
       "      <th></th>\n",
       "      <th></th>\n",
       "      <th></th>\n",
       "      <th></th>\n",
       "      <th></th>\n",
       "      <th></th>\n",
       "      <th></th>\n",
       "      <th></th>\n",
       "      <th></th>\n",
       "      <th></th>\n",
       "      <th></th>\n",
       "      <th></th>\n",
       "      <th></th>\n",
       "      <th></th>\n",
       "      <th></th>\n",
       "      <th></th>\n",
       "      <th></th>\n",
       "      <th></th>\n",
       "      <th></th>\n",
       "      <th></th>\n",
       "      <th></th>\n",
       "      <th></th>\n",
       "      <th></th>\n",
       "      <th></th>\n",
       "    </tr>\n",
       "  </thead>\n",
       "  <tbody>\n",
       "    <tr>\n",
       "      <th>TRONROUT0000000032845014</th>\n",
       "      <td>(LINESTRING (382726.0999999997 6572170.299999993, 382717.3999999997 6572155.899999992, 382701.1999999997 6572130.999999993))</td>\n",
       "      <td>19268</td>\n",
       "      <td>Route à 1 chaussée</td>\n",
       "      <td>NC</td>\n",
       "      <td>5</td>\n",
       "      <td>Autre</td>\n",
       "      <td>NC</td>\n",
       "      <td>NR</td>\n",
       "      <td>Non</td>\n",
       "      <td>NC</td>\n",
       "      <td>10.0</td>\n",
       "      <td>15.4</td>\n",
       "      <td>15.1</td>\n",
       "      <td>2.0</td>\n",
       "      <td>Double</td>\n",
       "      <td>NR</td>\n",
       "      <td>0.046530</td>\n",
       "      <td>estimation</td>\n",
       "      <td>None</td>\n",
       "      <td>None</td>\n",
       "      <td>None</td>\n",
       "      <td>None</td>\n",
       "      <td>None</td>\n",
       "      <td>600.0</td>\n",
       "      <td>600.0</td>\n",
       "      <td>...</td>\n",
       "      <td>None</td>\n",
       "      <td>None</td>\n",
       "      <td>46.0</td>\n",
       "      <td>40.0</td>\n",
       "      <td>111+</td>\n",
       "      <td>None</td>\n",
       "      <td>None</td>\n",
       "      <td>None</td>\n",
       "      <td>38285</td>\n",
       "      <td>26598</td>\n",
       "      <td>None</td>\n",
       "      <td>None</td>\n",
       "      <td>172910803</td>\n",
       "      <td>NaN</td>\n",
       "      <td>3</td>\n",
       "      <td>POINT(382726.1 6572170.29999999)</td>\n",
       "      <td>3</td>\n",
       "      <td>POINT(382701.2 6572130.99999999)</td>\n",
       "      <td>NaN</td>\n",
       "      <td>NaN</td>\n",
       "      <td>NaN</td>\n",
       "      <td>NaN</td>\n",
       "      <td>NaN</td>\n",
       "      <td>NaN</td>\n",
       "      <td>NaN</td>\n",
       "    </tr>\n",
       "    <tr>\n",
       "      <th>TRONROUT0000000032845009</th>\n",
       "      <td>(LINESTRING (382701.1999999997 6572130.999999993, 382698.9999999998 6572127.499999994, 382673.7999999996 6572086.499999992, 382672.4999999997 6572084.299999991))</td>\n",
       "      <td>19263</td>\n",
       "      <td>Route à 1 chaussée</td>\n",
       "      <td>NC</td>\n",
       "      <td>5</td>\n",
       "      <td>Autre</td>\n",
       "      <td>NC</td>\n",
       "      <td>NR</td>\n",
       "      <td>Non</td>\n",
       "      <td>NC</td>\n",
       "      <td>10.0</td>\n",
       "      <td>15.1</td>\n",
       "      <td>14.9</td>\n",
       "      <td>2.0</td>\n",
       "      <td>Double</td>\n",
       "      <td>NR</td>\n",
       "      <td>0.054815</td>\n",
       "      <td>estimation</td>\n",
       "      <td>None</td>\n",
       "      <td>None</td>\n",
       "      <td>None</td>\n",
       "      <td>None</td>\n",
       "      <td>None</td>\n",
       "      <td>600.0</td>\n",
       "      <td>600.0</td>\n",
       "      <td>...</td>\n",
       "      <td>None</td>\n",
       "      <td>None</td>\n",
       "      <td>46.0</td>\n",
       "      <td>40.0</td>\n",
       "      <td>111+</td>\n",
       "      <td>None</td>\n",
       "      <td>None</td>\n",
       "      <td>None</td>\n",
       "      <td>26598</td>\n",
       "      <td>47129</td>\n",
       "      <td>None</td>\n",
       "      <td>None</td>\n",
       "      <td>172910803</td>\n",
       "      <td>NaN</td>\n",
       "      <td>3</td>\n",
       "      <td>POINT(382701.2 6572130.99999999)</td>\n",
       "      <td>2</td>\n",
       "      <td>POINT(382672.5 6572084.29999999)</td>\n",
       "      <td>NaN</td>\n",
       "      <td>NaN</td>\n",
       "      <td>NaN</td>\n",
       "      <td>NaN</td>\n",
       "      <td>NaN</td>\n",
       "      <td>NaN</td>\n",
       "      <td>NaN</td>\n",
       "    </tr>\n",
       "  </tbody>\n",
       "</table>\n",
       "<p>2 rows × 70 columns</p>\n",
       "</div>"
      ],
      "text/plain": [
       "                                                                                                                                                                                       geom  \\\n",
       "id_ign                                                                                                                                                                                        \n",
       "TRONROUT0000000032845014                                       (LINESTRING (382726.0999999997 6572170.299999993, 382717.3999999997 6572155.899999992, 382701.1999999997 6572130.999999993))   \n",
       "TRONROUT0000000032845009  (LINESTRING (382701.1999999997 6572130.999999993, 382698.9999999998 6572127.499999994, 382673.7999999996 6572086.499999992, 382672.4999999997 6572084.299999991))   \n",
       "\n",
       "                             id              nature numero importance  \\\n",
       "id_ign                                                                  \n",
       "TRONROUT0000000032845014  19268  Route à 1 chaussée     NC          5   \n",
       "TRONROUT0000000032845009  19263  Route à 1 chaussée     NC          5   \n",
       "\n",
       "                         cl_admin gestion mise_serv fictif franchisst  \\\n",
       "id_ign                                                                  \n",
       "TRONROUT0000000032845014    Autre      NC        NR    Non         NC   \n",
       "TRONROUT0000000032845009    Autre      NC        NR    Non         NC   \n",
       "\n",
       "                          largeur  z_ini  z_fin  nb_voies    sens etat  \\\n",
       "id_ign                                                                   \n",
       "TRONROUT0000000032845014     10.0   15.4   15.1       2.0  Double   NR   \n",
       "TRONROUT0000000032845009     10.0   15.1   14.9       2.0  Double   NR   \n",
       "\n",
       "                           long_km  coment_cpt src_cpt id_comptag obs_supl  \\\n",
       "id_ign                                                                       \n",
       "TRONROUT0000000032845014  0.046530  estimation    None       None     None   \n",
       "TRONROUT0000000032845009  0.054815  estimation    None       None     None   \n",
       "\n",
       "                         ann_pt coment_tmj   tmja  tmja_final  ...  vts_osm  \\\n",
       "id_ign                                                         ...            \n",
       "TRONROUT0000000032845014   None       None  600.0       600.0  ...     None   \n",
       "TRONROUT0000000032845009   None       None  600.0       600.0  ...     None   \n",
       "\n",
       "                         vts_modif vts_vl_f  vts_pl_f codau  codau_cont  \\\n",
       "id_ign                                                                    \n",
       "TRONROUT0000000032845014      None     46.0      40.0  111+        None   \n",
       "TRONROUT0000000032845009      None     46.0      40.0  111+        None   \n",
       "\n",
       "                          tmja_cont pc_pl_cont source target recup attr_modif  \\\n",
       "id_ign                                                                          \n",
       "TRONROUT0000000032845014       None       None  38285  26598  None       None   \n",
       "TRONROUT0000000032845009       None       None  26598  47129  None       None   \n",
       "\n",
       "                         codevoie_d id_tronc_elem nb_intrsct_src  \\\n",
       "id_ign                                                             \n",
       "TRONROUT0000000032845014  172910803           NaN              3   \n",
       "TRONROUT0000000032845009  172910803           NaN              3   \n",
       "\n",
       "                                                  src_geom  nb_intrsct_tgt  \\\n",
       "id_ign                                                                       \n",
       "TRONROUT0000000032845014  POINT(382726.1 6572170.29999999)               3   \n",
       "TRONROUT0000000032845009  POINT(382701.2 6572130.99999999)               2   \n",
       "\n",
       "                                                  tgt_geom id_rdpt  \\\n",
       "id_ign                                                               \n",
       "TRONROUT0000000032845014  POINT(382701.2 6572130.99999999)     NaN   \n",
       "TRONROUT0000000032845009  POINT(382672.5 6572084.29999999)     NaN   \n",
       "\n",
       "                         nb_rte_rdpt nom_rte_rdpt_entrant  \\\n",
       "id_ign                                                      \n",
       "TRONROUT0000000032845014         NaN                  NaN   \n",
       "TRONROUT0000000032845009         NaN                  NaN   \n",
       "\n",
       "                         codevoie_rdpt_entrant  nb_obj_sig_entrant  \\\n",
       "id_ign                                                               \n",
       "TRONROUT0000000032845014                   NaN                 NaN   \n",
       "TRONROUT0000000032845009                   NaN                 NaN   \n",
       "\n",
       "                          valeur_sens id_ign_entrant  \n",
       "id_ign                                                \n",
       "TRONROUT0000000032845014          NaN            NaN  \n",
       "TRONROUT0000000032845009          NaN            NaN  \n",
       "\n",
       "[2 rows x 70 columns]"
      ]
     },
     "execution_count": 699,
     "metadata": {},
     "output_type": "execute_result"
    }
   ],
   "source": [
    "lignes_adj"
   ]
  },
  {
   "cell_type": "markdown",
   "metadata": {},
   "source": [
    "## 2.4 cas particulier "
   ]
  },
  {
   "cell_type": "markdown",
   "metadata": {},
   "source": [
    "### 2.4.1 rd pt"
   ]
  },
  {
   "cell_type": "code",
   "execution_count": 47,
   "metadata": {},
   "outputs": [],
   "source": [
    "#verfier si une ligne rouche un rd point et recup le numero si c'est le cas\n",
    "check_rdpt, num_rdpt=at.verif_touche_rdpt(lignes_adj)\n",
    "if check_rdpt : \n",
    "    lignes_rdpt, lignes_sortantes=at.recup_lignes_rdpt(carac_rd_pt,num_rdpt,list_troncon,voie,codevoie)"
   ]
  },
  {
   "cell_type": "markdown",
   "metadata": {},
   "source": [
    "### 2.4.2 mm route qui se sépare"
   ]
  },
  {
   "cell_type": "code",
   "execution_count": 410,
   "metadata": {},
   "outputs": [
    {
     "data": {
      "text/plain": [
       "[]"
      ]
     },
     "execution_count": 410,
     "metadata": {},
     "output_type": "execute_result"
    }
   ],
   "source": [
    "at.recup_route_split('TRONROUT0000000032839033',list_troncon,voie,codevoie, lignes_adj,noeud,geom_noeud, type_noeud, df_lignes)"
   ]
  },
  {
   "cell_type": "markdown",
   "metadata": {},
   "source": [
    "### 2.4.3 trouver les routes coinces entre 2 voies qui se sépare -<|\n",
    " ce sont des lignes qui  dont : \n",
    "- si une des lignes adjacente à le mm nom de voie\n",
    "- on prend l'autre si elle a un sens direct ou inverse\n",
    "- on recherche son source ou target different du num_node de dico_deb_fin\n",
    "- on cherche les lignes qui touche ce noeud, qui ont le mme nom de voie et un sens direct ou inverse\n",
    "- on recupere cette ligne, et le num de noeud differnts de celui de la 1ere ligne qui bifurque\n",
    "- si ce num de noeud correspond à la ligne adj source ou target, alors cette ligne adj source ou target doit être ajoutée à la liste"
   ]
  },
  {
   "cell_type": "code",
   "execution_count": 411,
   "metadata": {},
   "outputs": [
    {
     "data": {
      "text/plain": [
       "['TRONROUT0000000032839030', 'TRONROUT0000000032838974']"
      ]
     },
     "execution_count": 411,
     "metadata": {},
     "output_type": "execute_result"
    }
   ],
   "source": [
    "at.recup_triangle(ligne,voie, codevoie,lignes_adj, noeud,geom_noeud, type_noeud, df_lignes)"
   ]
  },
  {
   "cell_type": "markdown",
   "metadata": {},
   "source": [
    "## 2.5 route à 2 chaussées\n",
    "L'idée c'est si la ligne est une route à 2 chaussée : \n",
    "- on prend l'ensemble du troncon elementaire\n",
    "- on agerge les lignes\n",
    "- on recupere le centre\n",
    "- on recupere la longueur\n",
    "- on pourrait chercher à comparer les bouding box"
   ]
  },
  {
   "cell_type": "code",
   "execution_count": 69,
   "metadata": {},
   "outputs": [],
   "source": [
    "#dans le cas où les longeuers ne coincident pas\n",
    "#recuperer la ligne proche\n",
    "ligne_proche, ligne_filtres, longueur_base=at.trouver_chaussees_separee(list_troncon, df_avec_rd_pt)"
   ]
  },
  {
   "cell_type": "code",
   "execution_count": 127,
   "metadata": {},
   "outputs": [
    {
     "data": {
      "text/plain": [
       "['TRONROUT0000000032848421',\n",
       " 'TRONROUT0000000032848424',\n",
       " 'TRONROUT0000000032848423',\n",
       " 'TRONROUT0000000032848420']"
      ]
     },
     "execution_count": 127,
     "metadata": {},
     "output_type": "execute_result"
    }
   ],
   "source": [
    "at.gestion_voie_2_chaussee(list_troncon, df_avec_rd_pt, 'TRONROUT0000000032869679')[0]"
   ]
  },
  {
   "cell_type": "markdown",
   "metadata": {},
   "source": [
    "# Tests de deroulement global"
   ]
  },
  {
   "cell_type": "code",
   "execution_count": 744,
   "metadata": {},
   "outputs": [
    {
     "data": {
      "text/plain": [
       "['TRONROUT0000000032848694',\n",
       " 'TRONROUT0000000032848455',\n",
       " 'TRONROUT0000000121807165',\n",
       " 'TRONROUT0000000032848625',\n",
       " 'TRONROUT0000000032848695']"
      ]
     },
     "execution_count": 744,
     "metadata": {},
     "output_type": "execute_result"
    }
   ],
   "source": [
    "at.lignes_troncon_elem(df_avec_rd_pt,carac_rd_pt,'TRONROUT0000000032848625')"
   ]
  },
  {
   "cell_type": "markdown",
   "metadata": {},
   "source": [
    "# 3. Boucler sur 'ensembl des lignes\n",
    "On va faire tourner les traitements sur l'ensemble des lignes, en partant de la liste des id_ign, pour chaque ligne : \n",
    "- si la ligne ne remplit pas les critères d'exclusion on continu, sinon on passe à la suivante\n",
    "- fonction de recherche des lignes associées\n",
    "- df des association\n",
    "- filtre de la liste des id_ign de base"
   ]
  },
  {
   "cell_type": "code",
   "execution_count": 122,
   "metadata": {},
   "outputs": [],
   "source": [
    "#traiter les bretelles en 1er, puis traiter par longueur decroissante\n",
    "bretelle=df_avec_rd_pt.loc[df_avec_rd_pt['nature']=='Bretelle'].id_ign.tolist()\n",
    "sans_bretelle=df_avec_rd_pt.loc[df_avec_rd_pt['nature']!='Bretelle'].copy()\n",
    "list_sans_bretelle=sans_bretelle.id_ign.tolist()\n",
    "list_tri_longueur=sans_bretelle.loc[sans_bretelle.length.sort_values(ascending=False).index.tolist()].id_ign.tolist()\n",
    "list_id_ign=bretelle+list_tri_longueur"
   ]
  },
  {
   "cell_type": "code",
   "execution_count": 123,
   "metadata": {},
   "outputs": [
    {
     "name": "stdout",
     "output_type": "stream",
     "text": [
      "0 2019-09-25 17:05:53.992032 nb lignes traitees : 0\n",
      "500 2019-09-25 17:10:33.896362 nb lignes traitees : 1155\n",
      "1000 2019-09-25 17:19:36.615164 nb lignes traitees : 3374\n",
      "1500 2019-09-25 17:27:07.854927 nb lignes traitees : 5045\n",
      "2000 2019-09-25 17:35:07.360712 nb lignes traitees : 7008\n",
      "2500 2019-09-25 17:42:36.507018 nb lignes traitees : 8865\n",
      "3000 2019-09-25 17:50:20.571747 nb lignes traitees : 10749\n",
      "3500 2019-09-25 17:56:58.776513 nb lignes traitees : 12487\n",
      "4000 2019-09-25 18:03:51.493546 nb lignes traitees : 14212\n",
      "4500 2019-09-25 18:10:17.435549 nb lignes traitees : 15962\n",
      "5000 2019-09-25 18:16:21.569895 nb lignes traitees : 17619\n",
      "5500 2019-09-25 18:23:10.600103 nb lignes traitees : 19357\n",
      "6000 2019-09-25 18:29:26.013107 nb lignes traitees : 21129\n",
      "6500 2019-09-25 18:35:39.395323 nb lignes traitees : 22647\n",
      "7000 2019-09-25 18:42:26.831985 nb lignes traitees : 24257\n",
      "7500 2019-09-25 18:48:34.371654 nb lignes traitees : 25755\n",
      "8000 2019-09-25 18:54:27.914576 nb lignes traitees : 27347\n",
      "8500 2019-09-25 19:00:26.550064 nb lignes traitees : 28804\n",
      "9000 2019-09-25 19:06:11.938628 nb lignes traitees : 30446\n",
      "9500 2019-09-25 19:12:01.123214 nb lignes traitees : 31881\n",
      "10000 2019-09-25 19:17:26.735035 nb lignes traitees : 33372\n",
      "10500 2019-09-25 19:23:27.057476 nb lignes traitees : 34843\n",
      "11000 2019-09-25 19:29:11.571098 nb lignes traitees : 36167\n",
      "11500 2019-09-25 19:34:31.840388 nb lignes traitees : 37499\n",
      "12000 2019-09-25 19:39:37.597404 nb lignes traitees : 38827\n",
      "12500 2019-09-25 19:44:47.290960 nb lignes traitees : 40109\n",
      "13000 2019-09-25 19:49:53.532232 nb lignes traitees : 41435\n",
      "13500 2019-09-25 19:54:36.232135 nb lignes traitees : 42630\n",
      "14000 2019-09-25 19:59:25.539815 nb lignes traitees : 43836\n",
      "14500 2019-09-25 20:04:11.363858 nb lignes traitees : 45079\n",
      "15000 2019-09-25 20:09:14.668187 nb lignes traitees : 46275\n",
      "15500 2019-09-25 20:13:49.979035 nb lignes traitees : 47594\n",
      "16000 2019-09-25 20:18:28.070487 nb lignes traitees : 48845\n",
      "16500 2019-09-25 20:22:33.622649 nb lignes traitees : 49799\n",
      "17000 2019-09-25 20:26:31.426603 nb lignes traitees : 50866\n",
      "17500 2019-09-25 20:30:56.005581 nb lignes traitees : 51942\n",
      "18000 2019-09-25 20:35:10.446323 nb lignes traitees : 53030\n",
      "18500 2019-09-25 20:38:48.067456 nb lignes traitees : 53954\n",
      "19000 2019-09-25 20:42:24.126490 nb lignes traitees : 54940\n",
      "19500 2019-09-25 20:45:57.201873 nb lignes traitees : 55818\n",
      "20000 2019-09-25 20:49:52.818845 nb lignes traitees : 56802\n",
      "20500 2019-09-25 20:53:48.232709 nb lignes traitees : 57738\n",
      "21000 2019-09-25 20:57:28.118967 nb lignes traitees : 58556\n",
      "21500 2019-09-25 21:01:01.366154 nb lignes traitees : 59406\n",
      "22000 2019-09-25 21:04:42.830174 nb lignes traitees : 60256\n",
      "22500 2019-09-25 21:08:57.442627 nb lignes traitees : 61051\n",
      "23000 2019-09-25 21:12:30.845970 nb lignes traitees : 61971\n",
      "23500 2019-09-25 21:15:58.000727 nb lignes traitees : 62849\n",
      "24000 2019-09-25 21:19:51.930465 nb lignes traitees : 63765\n",
      "24500 2019-09-25 21:23:01.417484 nb lignes traitees : 64604\n",
      "25000 2019-09-25 21:26:14.044389 nb lignes traitees : 65348\n",
      "25500 2019-09-25 21:29:08.003783 nb lignes traitees : 66060\n",
      "26000 2019-09-25 21:32:32.752862 nb lignes traitees : 66917\n",
      "26500 2019-09-25 21:35:27.493314 nb lignes traitees : 67568\n",
      "27000 2019-09-25 21:38:43.947458 nb lignes traitees : 68245\n",
      "27500 2019-09-25 21:41:52.075416 nb lignes traitees : 68839\n",
      "28000 2019-09-25 21:44:35.053031 nb lignes traitees : 69499\n",
      "28500 2019-09-25 21:47:36.151375 nb lignes traitees : 70198\n",
      "29000 2019-09-25 21:50:44.779183 nb lignes traitees : 70948\n",
      "29500 2019-09-25 21:53:49.595419 nb lignes traitees : 71633\n",
      "30000 2019-09-25 21:57:07.424233 nb lignes traitees : 72345\n",
      "30500 2019-09-25 22:00:19.379423 nb lignes traitees : 72990\n",
      "31000 2019-09-25 22:03:27.179331 nb lignes traitees : 73716\n",
      "31500 2019-09-25 22:06:20.966889 nb lignes traitees : 74302\n",
      "32000 2019-09-25 22:09:17.972473 nb lignes traitees : 74963\n",
      "32500 2019-09-25 22:11:34.299995 nb lignes traitees : 75623\n",
      "33000 2019-09-25 22:14:41.365733 nb lignes traitees : 76326\n",
      "33500 2019-09-25 22:17:39.714691 nb lignes traitees : 76975\n",
      "34000 2019-09-25 22:20:34.548876 nb lignes traitees : 77611\n",
      "34500 2019-09-25 22:23:04.732602 nb lignes traitees : 78226\n",
      "35000 2019-09-25 22:25:52.662115 nb lignes traitees : 78860\n",
      "35500 2019-09-25 22:28:26.266885 nb lignes traitees : 79445\n",
      "36000 2019-09-25 22:31:13.056077 nb lignes traitees : 80014\n",
      "36500 2019-09-25 22:33:42.286864 nb lignes traitees : 80575\n",
      "37000 2019-09-25 22:36:06.331362 nb lignes traitees : 81107\n",
      "37500 2019-09-25 22:39:04.633491 nb lignes traitees : 81773\n",
      "38000 2019-09-25 22:42:04.966389 nb lignes traitees : 82393\n",
      "38500 2019-09-25 22:44:30.073147 nb lignes traitees : 82875\n",
      "39000 2019-09-25 22:47:30.265452 nb lignes traitees : 83365\n",
      "39500 2019-09-25 22:49:28.519099 nb lignes traitees : 83818\n",
      "40000 2019-09-25 22:52:03.014283 nb lignes traitees : 84407\n",
      "40500 2019-09-25 22:54:20.950835 nb lignes traitees : 84970\n",
      "41000 2019-09-25 22:57:01.850771 nb lignes traitees : 85434\n",
      "41500 2019-09-25 22:59:57.544131 nb lignes traitees : 85948\n",
      "42000 2019-09-25 23:01:59.921840 nb lignes traitees : 86418\n",
      "42500 2019-09-25 23:04:11.437990 nb lignes traitees : 86810\n",
      "43000 2019-09-25 23:07:05.912884 nb lignes traitees : 87335\n",
      "43500 2019-09-25 23:09:28.051578 nb lignes traitees : 87839\n",
      "44000 2019-09-25 23:11:43.769894 nb lignes traitees : 88253\n",
      "44500 2019-09-25 23:14:21.733021 nb lignes traitees : 88809\n",
      "45000 2019-09-25 23:16:17.190441 nb lignes traitees : 89259\n",
      "45500 2019-09-25 23:18:04.727837 nb lignes traitees : 89628\n",
      "46000 2019-09-25 23:20:18.149821 nb lignes traitees : 90065\n",
      "46500 2019-09-25 23:22:15.513046 nb lignes traitees : 90575\n",
      "47000 2019-09-25 23:23:43.039490 nb lignes traitees : 90902\n",
      "47500 2019-09-25 23:25:23.094258 nb lignes traitees : 91351\n",
      "48000 2019-09-25 23:27:28.111975 nb lignes traitees : 91821\n",
      "48500 2019-09-25 23:29:01.074624 nb lignes traitees : 92178\n",
      "49000 2019-09-25 23:31:18.136375 nb lignes traitees : 92575\n",
      "49500 2019-09-25 23:33:22.997855 nb lignes traitees : 93006\n",
      "50000 2019-09-25 23:35:13.800110 nb lignes traitees : 93321\n",
      "50500 2019-09-25 23:36:39.358262 nb lignes traitees : 93656\n",
      "51000 2019-09-25 23:38:41.064226 nb lignes traitees : 94037\n",
      "51500 2019-09-25 23:40:34.834540 nb lignes traitees : 94431\n",
      "52000 2019-09-25 23:42:27.464502 nb lignes traitees : 94820\n",
      "52500 2019-09-25 23:44:04.441865 nb lignes traitees : 95126\n",
      "53000 2019-09-25 23:45:48.730015 nb lignes traitees : 95463\n",
      "53500 2019-09-25 23:47:49.217517 nb lignes traitees : 95792\n",
      "54000 2019-09-25 23:49:28.584947 nb lignes traitees : 96095\n",
      "54500 2019-09-25 23:51:11.639043 nb lignes traitees : 96400\n",
      "55000 2019-09-25 23:52:46.648083 nb lignes traitees : 96666\n",
      "55500 2019-09-25 23:54:43.558289 nb lignes traitees : 97017\n",
      "56000 2019-09-25 23:55:59.634309 nb lignes traitees : 97360\n",
      "56500 2019-09-25 23:57:18.662708 nb lignes traitees : 97596\n",
      "57000 2019-09-25 23:58:52.000293 nb lignes traitees : 97844\n",
      "57500 2019-09-26 00:00:25.572201 nb lignes traitees : 98146\n",
      "58000 2019-09-26 00:01:51.458401 nb lignes traitees : 98393\n",
      "58500 2019-09-26 00:03:51.164862 nb lignes traitees : 98712\n",
      "59000 2019-09-26 00:05:34.109553 nb lignes traitees : 98984\n",
      "59500 2019-09-26 00:06:59.214683 nb lignes traitees : 99232\n",
      "60000 2019-09-26 00:08:30.552734 nb lignes traitees : 99459\n",
      "60500 2019-09-26 00:09:41.426816 nb lignes traitees : 99713\n",
      "61000 2019-09-26 00:11:05.219757 nb lignes traitees : 99958\n",
      "61500 2019-09-26 00:12:11.157487 nb lignes traitees : 100144\n",
      "62000 2019-09-26 00:13:35.372201 nb lignes traitees : 100340\n",
      "62500 2019-09-26 00:14:53.557080 nb lignes traitees : 100517\n",
      "63000 2019-09-26 00:15:57.651519 nb lignes traitees : 100718\n",
      "63500 2019-09-26 00:16:58.918442 nb lignes traitees : 100884\n",
      "64000 2019-09-26 00:18:04.903036 nb lignes traitees : 101058\n",
      "64500 2019-09-26 00:19:18.276529 nb lignes traitees : 101221\n",
      "65000 2019-09-26 00:20:45.256224 nb lignes traitees : 101402\n",
      "65500 2019-09-26 00:22:01.285354 nb lignes traitees : 101560\n",
      "66000 2019-09-26 00:23:03.333366 nb lignes traitees : 101722\n",
      "66500 2019-09-26 00:24:07.115354 nb lignes traitees : 101884\n",
      "67000 2019-09-26 00:24:59.899908 nb lignes traitees : 102008\n",
      "67500 2019-09-26 00:25:57.948852 nb lignes traitees : 102102\n",
      "68000 2019-09-26 00:26:57.731776 nb lignes traitees : 102232\n",
      "68500 2019-09-26 00:27:54.046751 nb lignes traitees : 102379\n",
      "69000 2019-09-26 00:29:09.404160 nb lignes traitees : 102507\n",
      "69500 2019-09-26 00:30:05.312985 nb lignes traitees : 102620\n",
      "70000 2019-09-26 00:30:56.191734 nb lignes traitees : 102750\n",
      "70500 2019-09-26 00:31:45.352133 nb lignes traitees : 102860\n",
      "71000 2019-09-26 00:32:47.775063 nb lignes traitees : 102977\n",
      "71500 2019-09-26 00:33:34.686009 nb lignes traitees : 103070\n",
      "72000 2019-09-26 00:34:24.190057 nb lignes traitees : 103175\n",
      "72500 2019-09-26 00:35:15.443713 nb lignes traitees : 103288\n",
      "73000 2019-09-26 00:36:24.536962 nb lignes traitees : 103389\n",
      "73500 2019-09-26 00:37:27.209856 nb lignes traitees : 103506\n",
      "74000 2019-09-26 00:38:18.244816 nb lignes traitees : 103575\n",
      "74500 2019-09-26 00:38:56.423375 nb lignes traitees : 103662\n",
      "75000 2019-09-26 00:39:50.551364 nb lignes traitees : 103753\n",
      "75500 2019-09-26 00:40:45.882200 nb lignes traitees : 103840\n",
      "76000 2019-09-26 00:41:36.136094 nb lignes traitees : 103943\n",
      "76500 2019-09-26 00:42:21.734849 nb lignes traitees : 104006\n",
      "77000 2019-09-26 00:43:26.641548 nb lignes traitees : 104074\n",
      "77500 2019-09-26 00:44:10.849976 nb lignes traitees : 104135\n",
      "78000 2019-09-26 00:45:02.306714 nb lignes traitees : 104203\n",
      "78500 2019-09-26 00:45:49.092667 nb lignes traitees : 104273\n",
      "79000 2019-09-26 00:46:57.295499 nb lignes traitees : 104345\n",
      "79500 2019-09-26 00:47:34.161917 nb lignes traitees : 104402\n",
      "80000 2019-09-26 00:48:15.933387 nb lignes traitees : 104450\n",
      "80500 2019-09-26 00:48:54.158868 nb lignes traitees : 104520\n",
      "81000 2019-09-26 00:49:45.006382 nb lignes traitees : 104580\n",
      "81500 2019-09-26 00:50:27.074649 nb lignes traitees : 104630\n",
      "82000 2019-09-26 00:51:19.827959 nb lignes traitees : 104698\n",
      "82500 2019-09-26 00:52:08.863389 nb lignes traitees : 104741\n",
      "83000 2019-09-26 00:52:50.541185 nb lignes traitees : 104796\n",
      "83500 2019-09-26 00:53:35.640005 nb lignes traitees : 104846\n",
      "84000 2019-09-26 00:54:13.474927 nb lignes traitees : 104913\n",
      "84500 2019-09-26 00:54:54.917126 nb lignes traitees : 104973\n",
      "85000 2019-09-26 00:55:38.719403 nb lignes traitees : 105016\n",
      "85500 2019-09-26 00:56:38.439836 nb lignes traitees : 105075\n",
      "86000 2019-09-26 00:57:36.035764 nb lignes traitees : 105130\n",
      "86500 2019-09-26 00:58:16.307616 nb lignes traitees : 105170\n",
      "87000 2019-09-26 00:59:11.185426 nb lignes traitees : 105216\n",
      "87500 2019-09-26 01:00:17.466802 nb lignes traitees : 105258\n",
      "88000 2019-09-26 01:01:12.391511 nb lignes traitees : 105310\n",
      "88500 2019-09-26 01:02:07.675449 nb lignes traitees : 105371\n",
      "89000 2019-09-26 01:03:11.598029 nb lignes traitees : 105431\n",
      "89500 2019-09-26 01:04:20.347634 nb lignes traitees : 105470\n",
      "90000 2019-09-26 01:05:07.617851 nb lignes traitees : 105516\n",
      "90500 2019-09-26 01:06:04.948183 nb lignes traitees : 105586\n",
      "91000 2019-09-26 01:07:23.070607 nb lignes traitees : 105648\n",
      "91500 2019-09-26 01:08:14.371099 nb lignes traitees : 105702\n",
      "92000 2019-09-26 01:09:22.480200 nb lignes traitees : 105747\n",
      "92500 2019-09-26 01:10:29.495804 nb lignes traitees : 105806\n",
      "93000 2019-09-26 01:11:21.343078 nb lignes traitees : 105864\n",
      "93500 2019-09-26 01:12:40.137185 nb lignes traitees : 105924\n",
      "94000 2019-09-26 01:13:43.575498 nb lignes traitees : 105989\n",
      "94500 2019-09-26 01:14:57.698822 nb lignes traitees : 106039\n",
      "95000 2019-09-26 01:16:00.028017 nb lignes traitees : 106090\n",
      "95500 2019-09-26 01:17:11.839383 nb lignes traitees : 106139\n",
      "96000 2019-09-26 01:18:26.337641 nb lignes traitees : 106194\n",
      "96500 2019-09-26 01:19:15.622984 nb lignes traitees : 106243\n",
      "97000 2019-09-26 01:20:27.371859 nb lignes traitees : 106293\n",
      "97500 2019-09-26 01:21:26.061287 nb lignes traitees : 106353\n",
      "98000 2019-09-26 01:22:10.925846 nb lignes traitees : 106404\n",
      "98500 2019-09-26 01:23:07.147089 nb lignes traitees : 106460\n",
      "99000 2019-09-26 01:24:12.834879 nb lignes traitees : 106508\n",
      "99500 2019-09-26 01:24:49.763759 nb lignes traitees : 106554\n",
      "100000 2019-09-26 01:25:38.580460 nb lignes traitees : 106604\n",
      "100500 2019-09-26 01:27:02.498372 nb lignes traitees : 106668\n",
      "101000 2019-09-26 01:28:18.246312 nb lignes traitees : 106731\n",
      "101500 2019-09-26 01:29:35.337719 nb lignes traitees : 106801\n",
      "102000 2019-09-26 01:30:36.323482 nb lignes traitees : 106865\n",
      "102500 2019-09-26 01:31:37.793970 nb lignes traitees : 106931\n",
      "103000 2019-09-26 01:32:41.373829 nb lignes traitees : 107010\n",
      "103500 2019-09-26 01:33:17.303521 nb lignes traitees : 107056\n",
      "104000 2019-09-26 01:33:59.841090 nb lignes traitees : 107108\n",
      "104500 2019-09-26 01:34:47.736901 nb lignes traitees : 107157\n",
      "105000 2019-09-26 01:35:32.789601 nb lignes traitees : 107200\n",
      "105500 2019-09-26 01:36:22.778687 nb lignes traitees : 107256\n",
      "106000 2019-09-26 01:37:12.111634 nb lignes traitees : 107307\n",
      "106500 2019-09-26 01:37:53.727522 nb lignes traitees : 107349\n",
      "107000 2019-09-26 01:38:27.860677 nb lignes traitees : 107390\n",
      "fin :  2019-09-26 01:38:53.308227 nb lignes traitees : 107419\n"
     ]
    }
   ],
   "source": [
    "df_affectation, dico_erreur, lignes_traitees, lignes_non_traitees=at.regrouper_troncon(\n",
    "    list_id_ign, df_avec_rd_pt, carac_rd_pt,df2_chaussees)"
   ]
  },
  {
   "cell_type": "code",
   "execution_count": 124,
   "metadata": {},
   "outputs": [],
   "source": [
    "df_avec_rd_pt.merge(df_affectation, left_on='id_ign',right_on='id')[[\n",
    "    'id_ign','numero','codevoie_d','geom','idtronc']].to_file(r'D:\\temp\\otv\\test_linearisation\\test_global.shp')"
   ]
  },
  {
   "cell_type": "code",
   "execution_count": 726,
   "metadata": {},
   "outputs": [],
   "source": [
    "#TEST SUR UNE LIGNE\n",
    "df_affectation2, dico_erreur2, lignes_traitees2, lignes_non_traitees2=at.regrouper_troncon(\n",
    "    ['TRONROUT0000000032848625'], df_avec_rd_pt, carac_rd_pt,df2_chaussees)\n",
    "df_avec_rd_pt.merge(df_affectation2, left_on='id_ign',right_on='id')[[\n",
    "    'id_ign','numero','codevoie_d','geom','idtronc']].to_file(r'D:\\temp\\otv\\test_linearisation\\test_small.shp')\n",
    "df_affectation2"
   ]
  },
  {
   "cell_type": "markdown",
   "metadata": {},
   "source": [
    "# 4. Creer graph\n",
    "- en premier on traite les cas particuliers  : beretelles, petits troncons, arrivé de rd point isolée\n",
    "- on cerche a creer une df avec tronc_elem|tronc_ign|src_elem|tgt_elem\n",
    "- il faudrait un filtre sur les petits troncon entre 2 grands et les associer aux grands\n",
    "- il faudrait regrouper les bretelles aussi"
   ]
  },
  {
   "cell_type": "code",
   "execution_count": 131,
   "metadata": {},
   "outputs": [],
   "source": [
    "#creer la synth des trcon_elem\n",
    "tronc_elem_synth=at.carac_te(df_avec_rd_pt, df_affectation)"
   ]
  },
  {
   "cell_type": "code",
   "execution_count": 157,
   "metadata": {},
   "outputs": [],
   "source": [
    "#creer la coquille qui va etre mise à jour\n",
    "df_affectation_upd=at.creer_MaJ_te(df_affectation)"
   ]
  },
  {
   "cell_type": "markdown",
   "metadata": {},
   "source": [
    "## 4.1 Bretelles"
   ]
  },
  {
   "cell_type": "code",
   "execution_count": 158,
   "metadata": {},
   "outputs": [],
   "source": [
    "# table de corespondance\n",
    "corresp_bret=at.corresp_te_bretelle(df_lignes, tronc_elem_synth, 75)\n",
    "#mise à jour\n",
    "at.MaJ_te(df_affectation_upd, corresp_bret, 'Bretelle')"
   ]
  },
  {
   "cell_type": "markdown",
   "metadata": {},
   "source": [
    "## 4.2 arrivée de rd point isolée\n",
    "exemple : TRONROUT0000000112535635"
   ]
  },
  {
   "cell_type": "code",
   "execution_count": 161,
   "metadata": {},
   "outputs": [],
   "source": [
    "corresp_entree_rdpt=at.corresp_te_arrive_rdpt(carac_rd_pt,df_avec_rd_pt,tronc_elem_synth)\n",
    "#mise à jour\n",
    "at.MaJ_te(df_affectation_upd, corresp_entree_rdpt, 'entree_rd_pt')"
   ]
  },
  {
   "cell_type": "markdown",
   "metadata": {},
   "source": [
    "## 4.3 petit troncon\n",
    "- la df de correspondance est faite, il faut maintenant fair les corrections et pouvoir les tracer"
   ]
  },
  {
   "cell_type": "code",
   "execution_count": null,
   "metadata": {},
   "outputs": [],
   "source": [
    "petit_tronc=tronc_elem_synth.loc[tronc_elem_synth['long']<=50].copy()# 467 troncons\n",
    "list_petit_tronc=[b for a in petit_tronc.id.tolist() for b in a]#list des id_ign present dans les petits troncons\n",
    "petit_tronc['idtronc_y']=petit_tronc.apply(lambda x : at.corresp_petit_tronc(x['id'],df_lignes,df_affectation,list_petit_tronc), axis=1)\n",
    "#creation table de corresp\n",
    "corresp_petit_tronc=petit_tronc.loc[petit_tronc['idtronc_y']!=-99][['idtronc_y']]"
   ]
  },
  {
   "cell_type": "code",
   "execution_count": 164,
   "metadata": {},
   "outputs": [],
   "source": [
    "corresp_petit_tronc=at.corresp_petit_tronc(df_lignes,df_affectation,tronc_elem_synth)"
   ]
  },
  {
   "cell_type": "code",
   "execution_count": 165,
   "metadata": {},
   "outputs": [],
   "source": [
    "#mise à jour\n",
    "at.MaJ_te(df_affectation_upd, corresp_petit_tronc, 'petit_troncon')"
   ]
  },
  {
   "cell_type": "code",
   "execution_count": null,
   "metadata": {},
   "outputs": [],
   "source": [
    "df_affectation_upd.loc[df_affectation_upd['corr_te']]"
   ]
  },
  {
   "cell_type": "markdown",
   "metadata": {},
   "source": [
    "## 4.4 Maj tronc_elem finale\n",
    "A VERIFIER"
   ]
  },
  {
   "cell_type": "code",
   "execution_count": null,
   "metadata": {},
   "outputs": [],
   "source": [
    "df_lignes_fin=df_lignes.copy()\n",
    "df_lignes_fin.update(df_affectation_upd.reset_index().set_index('id').rename(columns={'idtronc_y':'id_tronc_elem'}))"
   ]
  },
  {
   "cell_type": "code",
   "execution_count": null,
   "metadata": {},
   "outputs": [],
   "source": [
    "#export\n",
    "df_lignes_fin[['geom', 'id', 'nature', 'numero', 'importance', 'cl_admin',\n",
    "       'gestion', 'mise_serv', 'fictif', 'franchisst', 'largeur', 'z_ini',\n",
    "       'z_fin', 'nb_voies', 'sens', 'etat', 'long_km', 'coment_cpt', 'src_cpt',\n",
    "       'id_comptag', 'obs_supl', 'ann_pt', 'coment_tmj', 'tmja', 'tmja_final',\n",
    "       'pc_pl', 'obs_tmja', 'obs_pc_pl', 'type_vdf', 'vts_type', 'vma',\n",
    "       'veh_km', 'id_cpt1', 'id_cpt2', 'obs_tmj1', 'obs_tmj2', 'id_sect',\n",
    "       'src_sect', 'autor_sect', 'codau_cat', 'milieu', 'vts_vl_vdf',\n",
    "       'vts_pl_vdf', 'vts_gest', 'obs_vts', 'vts_osm', 'vts_modif', 'vts_vl_f',\n",
    "       'vts_pl_f', 'codau', 'codau_cont', 'tmja_cont', 'pc_pl_cont', 'source',\n",
    "       'target', 'recup', 'attr_modif', 'codevoie_d', 'id_tronc_elem',\n",
    "       'nb_intrsct_src', 'src_geom', 'nb_intrsct_tgt', 'tgt_geom', 'id_rdpt',\n",
    "       'nb_rte_rdpt', 'nb_obj_sig_entrant']].to_file(r'D:\\temp\\otv\\test_linearisation\\df_lignes_fin_tot.shp')"
   ]
  },
  {
   "cell_type": "markdown",
   "metadata": {},
   "source": [
    "## 4.5 sources et target regroupes"
   ]
  },
  {
   "cell_type": "code",
   "execution_count": 28,
   "metadata": {},
   "outputs": [],
   "source": [
    "def creer_noeud_tronc_elem(df_lignes,ligne_base,df_affectation ):\n",
    "    \"\"\"\n",
    "    associer des tronc elem a des noeud représentatif pour créer un graph\n",
    "    en entree : \n",
    "        df_lignes df des lignes bdtopo avec rd point et index=id_ign\n",
    "        ligne_base : df des lignes constituant le tronc elem. issus de df_lignes\n",
    "        df_affectation : df de correspondance id_ign idtronc_elem, issu de regrouper_troncon\n",
    "    en sortie : \n",
    "        noeuds_fin : df avec index = noeud_unique (int) et idtronc)=tuple des idtroncelem qui touchent ce noeud\n",
    "        coresp_te_noeud : toute les correspondances noeud-lignes\n",
    "        noeud_uniq : list edes noeud de fin de tronc elem\n",
    "    \"\"\"\n",
    "    noeud_uniq=[k for k,v in Counter(ligne_base.source.tolist()+ligne_base.target.tolist()).items() if v==1]\n",
    "    df_noeud_unique=pd.DataFrame(noeud_uniq, columns=['noeud_uniq'])\n",
    "    lgn_tch_noeud_uniq=df_lignes.loc[((df_lignes['source'].isin(noeud_uniq)) | (df_lignes['target'].isin(noeud_uniq))) & (~df_lignes.index.isin(ligne_base.index.tolist()))].copy()\n",
    "    # trouver les correspondance avec doublons de noeud possible et une ligne par corresp\n",
    "    coresp_ligne_noeud=pd.concat(\n",
    "        [lgn_tch_noeud_uniq.reset_index().merge(df_noeud_unique, left_on='source', right_on='noeud_uniq')[['id_ign','noeud_uniq']],\n",
    "         lgn_tch_noeud_uniq.reset_index().merge(df_noeud_unique, left_on='target', right_on='noeud_uniq')[['id_ign','noeud_uniq']]],axis=0)\n",
    "    #rapatriementdes ifos de longueur du tronc_elem\n",
    "    coresp_te_noeud=coresp_ligne_noeud.merge(df_affectation, left_on='id_ign', right_on='id')[['id_ign','noeud_uniq','idtronc']].merge(tronc_elem_synth[\n",
    "        ['long']],left_on='idtronc', right_index=True).rename(columns={'long' : 'long_te'})\n",
    "    noeuds_fin=coresp_te_noeud.sort_values('noeud_uniq').groupby('noeud_uniq').agg({'idtronc':lambda x : tuple(set(x))})\n",
    "    noeuds_fin=noeuds_fin.drop_duplicates('idtronc')\n",
    "\n",
    "    # pour info si plus de 2 boeuds uniques alors il faut filtrer les non représentatif\n",
    "    if len(noeuds_fin)>2 :\n",
    "        coresp_te_noeud_filtre_lg=coresp_te_noeud.loc[coresp_te_noeud['long_te']>50] #on ne garde pas les tout petit tronc\n",
    "        coresp_te_noeud_grp=coresp_te_noeud_filtre_lg.sort_values('noeud_uniq').groupby('noeud_uniq').agg(\n",
    "            {'idtronc':lambda x : tuple(set(x)),'long_te':lambda x : tuple(set(x))})\n",
    "        noeuds_fin=coresp_te_noeud_grp.loc[~coresp_te_noeud_grp.apply(lambda x : len(x['idtronc'])==1 ,axis=1)].copy()\n",
    "        return noeuds_fin,coresp_te_noeud_grp, noeud_uniq # on pourrait creer une erreur pour ca\n",
    "    return noeuds_fin,coresp_te_noeud, noeud_uniq"
   ]
  },
  {
   "cell_type": "code",
   "execution_count": 12,
   "metadata": {},
   "outputs": [],
   "source": [
    "def tronc_elem_rdpt(num_rdpt, df_affectation,df_lignes):\n",
    "    \"\"\"\n",
    "    Trouver les tronc_elem qui se rejoigne à un rd point, identifier par un noeud\n",
    "    en entree : \n",
    "       num_rdpt : integer,  id_rdpt de carac_rdpt\n",
    "       df_affectation : df de correspondance id_ign idtronc_elem, issu de regrouper_troncon\n",
    "       df_lignes df des lignes bdtopo avec rd point et index=id_ign\n",
    "    en sortie : \n",
    "        df_rdpt_tronc_elem : df avec en index le noeud caracteristique du rd et en data un tuple des tronc_elem arrivant\n",
    "    \"\"\"\n",
    "    tronc_elem_entrant=df_affectation.loc[(df_affectation.id.isin(df_lignes.loc[list(carac_rd_pt.loc[num_rdpt].id_ign_entrant)].index.tolist())) \n",
    "                                              & (df_affectation['idtronc']!=num_tronc)].copy()#trouver les tronc_elem qui touchent\n",
    "    #affectation arbitraire du rd poit à un noeud le composant \n",
    "    noeud_uniq_rdpt=df_lignes.loc[carac_rd_pt.loc[num_rdpt]['id_ign_rdpt'][0]]['source']\n",
    "    tronc_elem_entrant['noeud_uniq']=noeud_uniq_rdpt\n",
    "    #creer une df de mm structure qu noeuds_fin\n",
    "    df_rdpt_tronc_elem=tronc_elem_entrant.groupby('noeud_uniq').agg({'idtronc':lambda x : tuple(set(x))})\n",
    "    return df_rdpt_tronc_elem"
   ]
  },
  {
   "cell_type": "code",
   "execution_count": 67,
   "metadata": {},
   "outputs": [],
   "source": [
    "def tronc_elem_rd_pt_global (nb_rdpt, ligne_base,num_rdpt, df_affectation,df_lignes) : \n",
    "    \"\"\"\n",
    "    adaptation de la fonction tronc_elem_rdpt selon le nombre de rdpt du tronc_elem\n",
    "    en entree : \n",
    "        nb_rdpt : integer : nombre de rdpt significatifs\n",
    "        ligne_base : df des lignes constituant le tronc elem. issus de df_lignes\n",
    "        num_rdpt : list d'integer,  id_rdpt de carac_rdpt\n",
    "        df_affectation : df de correspondance id_ign idtronc_elem, issu de regrouper_troncon\n",
    "        df_lignes df des lignes bdtopo avec rd point et index=id_ign\n",
    "    en sortie : \n",
    "        \n",
    "    \"\"\"\n",
    "    if nb_rdpt==1: # dans ce cas il y a un rdpt qui ferme le troncon d'un coté. On commence par le coté ss rdpt\n",
    "        noeuds_fin=creer_noeud_tronc_elem(df_lignes,ligne_base,df_affectation )[0]\n",
    "        #puis le cote avec rd_pt : on cherche les troncs elem qui arriven\n",
    "        df_rdpt_tronc_elem=tronc_elem_rdpt(num_rdpt[0], df_affectation,df_lignes)\n",
    "        #agreg\n",
    "        noeuds_fin=pd.concat([noeuds_fin, df_rdpt_tronc_elem], axis=0, sort=False)\n",
    "    elif nb_rdpt==2 : # adns ce cas il faut trouver les correspondances pour chaque rd pt\n",
    "        corresp1=tronc_elem_rdpt(num_rdpt[0], df_affectation,df_lignes)\n",
    "        corresp2=tronc_elem_rdpt(num_rdpt[1], df_affectation,df_lignes)\n",
    "        noeuds_fin=pd.concat([corresp1, corresp2],axis=0)\n",
    "    return noeuds_fin"
   ]
  },
  {
   "cell_type": "code",
   "execution_count": 95,
   "metadata": {},
   "outputs": [
    {
     "name": "stdout",
     "output_type": "stream",
     "text": [
      "nb lignes traitees 0, heure : <built-in method now of type object at 0x00007FFEAC903D60>, tronc :0\n",
      "5 deja renseigne\n",
      "5 deja renseigne\n",
      "8 deja renseigne\n",
      "8 deja renseigne\n",
      "erreur sur troncon 6337, df noeud :                   idtronc                                  long_te\n",
      "noeud_uniq                                                       \n",
      "66001       (11016, 500)  (353.78757309698466, 5467.885551698945)\n",
      "72616       (10875, 500)   (5467.885551698945, 309.6104307447416)\n",
      "73237       (1892, 8853)   (3097.05124851706, 423.14520467961364)\n",
      "83740       (2354, 1892)    (3097.05124851706, 361.3033189049768)\n"
     ]
    },
    {
     "ename": "KeyError",
     "evalue": "2",
     "output_type": "error",
     "traceback": [
      "\u001b[1;31m---------------------------------------------------------------------------\u001b[0m",
      "\u001b[1;31mKeyError\u001b[0m                                  Traceback (most recent call last)",
      "\u001b[1;32m<ipython-input-95-46e789362200>\u001b[0m in \u001b[0;36m<module>\u001b[1;34m\u001b[0m\n\u001b[0;32m     47\u001b[0m         \u001b[1;32mif\u001b[0m \u001b[0mi\u001b[0m \u001b[1;33m>=\u001b[0m \u001b[1;36m2\u001b[0m \u001b[1;33m:\u001b[0m\u001b[1;33m\u001b[0m\u001b[0m\n\u001b[0;32m     48\u001b[0m             \u001b[0mprint\u001b[0m\u001b[1;33m(\u001b[0m\u001b[1;34mf'erreur sur troncon {num_tronc}, df noeud :  {noeuds_fin}'\u001b[0m\u001b[1;33m)\u001b[0m\u001b[1;33m\u001b[0m\u001b[0m\n\u001b[1;32m---> 49\u001b[1;33m         \u001b[0mgroup_idtronc\u001b[0m\u001b[1;33m.\u001b[0m\u001b[0mloc\u001b[0m\u001b[1;33m[\u001b[0m\u001b[0mnum_tronc\u001b[0m\u001b[1;33m,\u001b[0m \u001b[0mdico_attribut\u001b[0m\u001b[1;33m[\u001b[0m\u001b[0mi\u001b[0m\u001b[1;33m]\u001b[0m\u001b[1;33m]\u001b[0m\u001b[1;33m=\u001b[0m\u001b[0mnoeuds_fin\u001b[0m\u001b[1;33m.\u001b[0m\u001b[0mindex\u001b[0m\u001b[1;33m.\u001b[0m\u001b[0mvalues\u001b[0m\u001b[1;33m[\u001b[0m\u001b[0mi\u001b[0m\u001b[1;33m]\u001b[0m \u001b[1;31m#mise à jour des valuers de pour le troncon de base\u001b[0m\u001b[1;33m\u001b[0m\u001b[0m\n\u001b[0m\u001b[0;32m     50\u001b[0m         \u001b[0mgroup_idtronc\u001b[0m\u001b[1;33m.\u001b[0m\u001b[0mloc\u001b[0m\u001b[1;33m[\u001b[0m\u001b[0mnum_tronc\u001b[0m\u001b[1;33m,\u001b[0m \u001b[0mdico_attribut\u001b[0m\u001b[1;33m[\u001b[0m\u001b[0mi\u001b[0m\u001b[1;33m]\u001b[0m\u001b[1;33m]\u001b[0m\u001b[1;33m=\u001b[0m\u001b[0mnoeuds_fin\u001b[0m\u001b[1;33m.\u001b[0m\u001b[0mindex\u001b[0m\u001b[1;33m.\u001b[0m\u001b[0mvalues\u001b[0m\u001b[1;33m[\u001b[0m\u001b[0mi\u001b[0m\u001b[1;33m]\u001b[0m\u001b[1;33m\u001b[0m\u001b[0m\n\u001b[0;32m     51\u001b[0m     \u001b[1;32mfor\u001b[0m \u001b[0mnum_tronc_sup\u001b[0m \u001b[1;32min\u001b[0m \u001b[1;33m[\u001b[0m\u001b[0mx\u001b[0m \u001b[1;32mfor\u001b[0m \u001b[0my\u001b[0m \u001b[1;32min\u001b[0m \u001b[0mnoeuds_fin\u001b[0m\u001b[1;33m.\u001b[0m\u001b[0midtronc\u001b[0m\u001b[1;33m.\u001b[0m\u001b[0mtolist\u001b[0m\u001b[1;33m(\u001b[0m\u001b[1;33m)\u001b[0m \u001b[1;32mfor\u001b[0m \u001b[0mx\u001b[0m \u001b[1;32min\u001b[0m \u001b[0my\u001b[0m\u001b[1;33m]\u001b[0m \u001b[1;33m:\u001b[0m \u001b[1;31m#mise à jour des valeusr pour les autres troncons\u001b[0m\u001b[1;33m\u001b[0m\u001b[0m\n",
      "\u001b[1;31mKeyError\u001b[0m: 2"
     ]
    }
   ],
   "source": [
    "# à partir de df_affectation, je trouve les noeud qui ne sont présent qu'une fois\n",
    "#regroupement des lignes par idtronc et creation des futurs attributs de src et tgt\n",
    "group_idtronc=df_affectation.groupby('idtronc').agg({'id':lambda x : tuple(x)})\n",
    "group_idtronc['src_elem']=-1\n",
    "group_idtronc['tgt_elem']=-1\n",
    "#pour une ligne : retrouver les lignes de base\n",
    "\n",
    "for i,num_tronc in enumerate(df_affectation.idtronc.unique()) :\n",
    "    if i%1000==0 : \n",
    "        print(f'nb lignes traitees {i}, heure : {datetime.now}, tronc :{num_tronc}')\n",
    "    #num_tronc=68 #396 #3402 #206\n",
    "    ligne_base=df_lignes.loc[list(group_idtronc.loc[num_tronc].id)]\n",
    "\n",
    "    # Le pb c'est de gérer les rdpt qui termine un tronc elem. \n",
    "    #dc 1. combien de rd point dans le tronc eleme\n",
    "    nb_rdpt=ligne_base.id_rdpt.nunique()\n",
    "\n",
    "    #2. Gérer les différents cas du nb de rdpt \n",
    "    #si 0 : on va chercher les noeud qui n'apparaissent qu'une fois : ce son des fin de troncon elem\n",
    "    if nb_rdpt==0 :\n",
    "        noeuds_fin,synthese_croisement, noeud_uniq=creer_noeud_tronc_elem(df_lignes,ligne_base,df_affectation )\n",
    "    else :  #on attaque les cas en fonction du nombre de rdpt   \n",
    "        list_rdpt=ligne_base.loc[ligne_base['id_rdpt'].notna()].id_rdpt.unique()\n",
    "    #si 1 : ce rd point est-il en fin de trocnon ou non. C'est tarduit par le nb de route différentes qui intersectenet les rd point (attribut de carac_rd_pt)\n",
    "        if nb_rdpt==1 : \n",
    "            nb_voie_entrante=carac_rd_pt.loc[num_rdpt].nb_rte_rdpt\n",
    "            if nb_voie_entrante==1 : #ds ce cas c'est comme si pas de rdpt\n",
    "                noeuds_fin=creer_noeud_tronc_elem(df_lignes,ligne_base,df_affectation )[0]\n",
    "            else : \n",
    "                noeuds_fin=tronc_elem_rd_pt_global(nb_rdpt, ligne_base,list_rdpt, df_affectation,df_lignes)         \n",
    "        else : #si plusieurs rd pt\n",
    "            #il faut connaitre le nb de rd pt avec plusieurs voie entrante. sinon le max est 2 si plus que 2 alors erreur\n",
    "            tt_rdpt=carac_rd_pt.loc[list_rdpt] # tous les rd pt du tronc elem\n",
    "            rd_pt_multi_voie=tt_rdpt.loc[tt_rdpt['nb_rte_rdpt']>1].index.tolist() #que les multi voies\n",
    "            if len(rd_pt_multi_voie)==0 : # c'est le cas ss rdpt\n",
    "                noeuds_fin=creer_noeud_tronc_elem(df_lignes,ligne_base,df_affectation )[0] \n",
    "            elif len(rd_pt_multi_voie)==1 : # si 1 seul on revient sur le cas du dessus,\n",
    "                noeuds_fin=tronc_elem_rd_pt_global(1, ligne_base,rd_pt_multi_voie, df_affectation,df_lignes)\n",
    "            elif len(rd_pt_multi_voie)==2 : # adns ce cas il faut trouver les correspondances pour chaque rd pt\n",
    "                noeuds_fin=tronc_elem_rd_pt_global(2, ligne_base,rd_pt_multi_voie, df_affectation,df_lignes)\n",
    "            else : #alors c'est une erreur\n",
    "                print('erreur nb de rd point significatif, revoir le sectionnement')\n",
    "\n",
    "    #mettre à jour la df créée au départ : \n",
    "    dico_attribut={0:'src_elem', 1:'tgt_elem'}\n",
    "    for i in range(len(noeuds_fin)) : \n",
    "        if i >= 2 : \n",
    "            print(f'erreur sur troncon {num_tronc}, df noeud :  {noeuds_fin}')\n",
    "        group_idtronc.loc[num_tronc, dico_attribut[i]]=noeuds_fin.index.values[i] #mise à jour des valuers de pour le troncon de base\n",
    "        group_idtronc.loc[num_tronc, dico_attribut[i]]=noeuds_fin.index.values[i]\n",
    "    for num_tronc_sup in [x for y in noeuds_fin.idtronc.tolist() for x in y] : #mise à jour des valeusr pour les autres troncons\n",
    "        for i in range(len(noeuds_fin)) :\n",
    "            if group_idtronc.loc[num_tronc_sup][dico_attribut[0]]==-1 : \n",
    "                group_idtronc.loc[num_tronc_sup, dico_attribut[0]]=noeuds_fin.loc[noeuds_fin.apply(lambda x : num_tronc_sup in x['idtronc'],axis=1)].index.values[0]\n",
    "                break\n",
    "            elif group_idtronc.loc[num_tronc_sup][dico_attribut[1]]==-1 :\n",
    "                group_idtronc.loc[num_tronc_sup, dico_attribut[1]]=noeuds_fin.loc[noeuds_fin.apply(lambda x : num_tronc_sup in x['idtronc'],axis=1)].index.values[0]\n",
    "                break\n",
    "            else : \n",
    "                print(f'{num_tronc_sup} deja renseigne' )"
   ]
  },
  {
   "cell_type": "code",
   "execution_count": 82,
   "metadata": {},
   "outputs": [
    {
     "data": {
      "text/html": [
       "<div>\n",
       "<style scoped>\n",
       "    .dataframe tbody tr th:only-of-type {\n",
       "        vertical-align: middle;\n",
       "    }\n",
       "\n",
       "    .dataframe tbody tr th {\n",
       "        vertical-align: top;\n",
       "    }\n",
       "\n",
       "    .dataframe thead th {\n",
       "        text-align: right;\n",
       "    }\n",
       "</style>\n",
       "<table border=\"1\" class=\"dataframe\">\n",
       "  <thead>\n",
       "    <tr style=\"text-align: right;\">\n",
       "      <th></th>\n",
       "      <th>idtronc</th>\n",
       "    </tr>\n",
       "    <tr>\n",
       "      <th>noeud_uniq</th>\n",
       "      <th></th>\n",
       "    </tr>\n",
       "  </thead>\n",
       "  <tbody>\n",
       "    <tr>\n",
       "      <th>72297</th>\n",
       "      <td>(4504, 3713)</td>\n",
       "    </tr>\n",
       "    <tr>\n",
       "      <th>69869</th>\n",
       "      <td>(2741, 3005)</td>\n",
       "    </tr>\n",
       "  </tbody>\n",
       "</table>\n",
       "</div>"
      ],
      "text/plain": [
       "                 idtronc\n",
       "noeud_uniq              \n",
       "72297       (4504, 3713)\n",
       "69869       (2741, 3005)"
      ]
     },
     "execution_count": 82,
     "metadata": {},
     "output_type": "execute_result"
    }
   ],
   "source": [
    "noeuds_fin"
   ]
  },
  {
   "cell_type": "code",
   "execution_count": 47,
   "metadata": {},
   "outputs": [
    {
     "data": {
      "text/plain": [
       "noeud_uniq\n",
       "39594     True\n",
       "52060    False\n",
       "dtype: bool"
      ]
     },
     "execution_count": 47,
     "metadata": {},
     "output_type": "execute_result"
    }
   ],
   "source": [
    "noeuds_fin.apply(lambda x : num_tronc_sup in x['idtronc'],axis=1)"
   ]
  },
  {
   "cell_type": "code",
   "execution_count": 20,
   "metadata": {},
   "outputs": [
    {
     "data": {
      "text/html": [
       "<div>\n",
       "<style scoped>\n",
       "    .dataframe tbody tr th:only-of-type {\n",
       "        vertical-align: middle;\n",
       "    }\n",
       "\n",
       "    .dataframe tbody tr th {\n",
       "        vertical-align: top;\n",
       "    }\n",
       "\n",
       "    .dataframe thead th {\n",
       "        text-align: right;\n",
       "    }\n",
       "</style>\n",
       "<table border=\"1\" class=\"dataframe\">\n",
       "  <thead>\n",
       "    <tr style=\"text-align: right;\">\n",
       "      <th></th>\n",
       "      <th>idtronc</th>\n",
       "      <th>long_te</th>\n",
       "    </tr>\n",
       "    <tr>\n",
       "      <th>noeud_uniq</th>\n",
       "      <th></th>\n",
       "      <th></th>\n",
       "    </tr>\n",
       "  </thead>\n",
       "  <tbody>\n",
       "    <tr>\n",
       "      <th>9466</th>\n",
       "      <td>(938, 1563, 12422)</td>\n",
       "      <td>(445.15375219309715, 1054.161900553276, 431.0587952118286)</td>\n",
       "    </tr>\n",
       "  </tbody>\n",
       "</table>\n",
       "</div>"
      ],
      "text/plain": [
       "                       idtronc  \\\n",
       "noeud_uniq                       \n",
       "9466        (938, 1563, 12422)   \n",
       "\n",
       "                                                               long_te  \n",
       "noeud_uniq                                                              \n",
       "9466        (445.15375219309715, 1054.161900553276, 431.0587952118286)  "
      ]
     },
     "execution_count": 20,
     "metadata": {},
     "output_type": "execute_result"
    }
   ],
   "source": [
    "synthese_croisement.loc[~synthese_croisement.apply(lambda x : len(x['idtronc'])==1 ,axis=1)].copy()"
   ]
  },
  {
   "cell_type": "code",
   "execution_count": 328,
   "metadata": {},
   "outputs": [],
   "source": [
    "#mettre à jour la df créée au départ : \n",
    "group_idtronc.loc[num_tronc, 'src_elem']=noeuds_fin.index.values[0] #mise à jour des valuers de pour le troncon de base\n",
    "group_idtronc.loc[num_tronc, 'tgt_elem']=noeuds_fin.index.values[1]\n",
    "for num_tronc_sup in [x for y in noeuds_fin.idtronc.tolist() for x in y] : #mise à jour des valeusr pour les autres troncons\n",
    "    if group_idtronc.loc[num_tronc_sup].src_elem==-1 : \n",
    "        group_idtronc.loc[num_tronc_sup, 'src_elem']=noeuds_fin.loc[noeuds_fin.apply(lambda x : num_tronc_sup in x['idtronc'],axis=1)].index.values[0]\n",
    "    elif group_idtronc.loc[num_tronc_sup].tgt_elem==-1 :\n",
    "        group_idtronc.loc[num_tronc_sup, 'tgt_elem']=noeuds_fin.loc[noeuds_fin.apply(lambda x : num_tronc_sup in x['idtronc'],axis=1)].index.values[0]\n",
    "    else : \n",
    "        print(f'{num_tronc_sup} deja renseigne' )"
   ]
  },
  {
   "cell_type": "code",
   "execution_count": 200,
   "metadata": {},
   "outputs": [
    {
     "data": {
      "text/plain": [
       "3639"
      ]
     },
     "execution_count": 200,
     "metadata": {},
     "output_type": "execute_result"
    }
   ],
   "source": [
    "df_affectation.idtronc.unique()"
   ]
  }
 ],
 "metadata": {
  "kernelspec": {
   "display_name": "Python 3",
   "language": "python",
   "name": "python3"
  },
  "language_info": {
   "codemirror_mode": {
    "name": "ipython",
    "version": 3
   },
   "file_extension": ".py",
   "mimetype": "text/x-python",
   "name": "python",
   "nbconvert_exporter": "python",
   "pygments_lexer": "ipython3",
   "version": "3.7.0"
  }
 },
 "nbformat": 4,
 "nbformat_minor": 4
}
