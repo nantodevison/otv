{
 "cells": [
  {
   "cell_type": "code",
   "execution_count": 187,
   "metadata": {},
   "outputs": [
    {
     "name": "stdout",
     "output_type": "stream",
     "text": [
      "The autoreload extension is already loaded. To reload it, use:\n",
      "  %reload_ext autoreload\n"
     ]
    }
   ],
   "source": [
    "%load_ext autoreload\n",
    "%autoreload 2\n",
    "import sys #c'est pas propre mais pour le moment pour importer mes modules perso dans le notebook je ne sais pas faire\n",
    "sys.path.append(r'C:\\Users\\marti\\git\\Outils\\Outils\\Martin_Perso')\n",
    "sys.path.append(r'C:\\Users\\marti\\git\\otv\\otv\\Transfert_Donnees')\n",
    "from Base_BdTopo.Import_outils import *\n",
    "from Base_BdTopo.Rond_points import *\n",
    "from Base_BdTopo.Troncon_base import *\n",
    "from Base_BdTopo.Troncon_elementaire import *\n",
    "from Base_BdTopo.Gestion_2_chaussee import *\n",
    "from Base_BdTopo.Regroupement_correspondance import *\n",
    "import Connexion_Transfert as ct\n",
    "import os\n",
    "import geopandas as gp\n",
    "import pandas as pd\n",
    "import numpy as np\n",
    "from datetime import datetime\n",
    "from shapely.wkt import loads\n",
    "from shapely.ops import nearest_points, polygonize, linemerge,unary_union\n",
    "from shapely.geometry import Point,MultiLineString, LineString\n",
    "from shapely import speedups\n",
    "from collections import Counter\n",
    "from geoalchemy2 import Geometry, WKTElement\n",
    "from sqlalchemy import Table, Column, Integer, String, MetaData\n",
    "from sqlalchemy.sql import select\n",
    "from sklearn.cluster import DBSCAN\n",
    "import Outils\n",
    "import psycopg2\n",
    "#pd.set_option('display.max_colwidth', 1000)\n",
    "pd.set_option('display.max_columns', 50)\n",
    "pd.set_option('display.max_colwidth', 200)"
   ]
  },
  {
   "cell_type": "code",
   "execution_count": 188,
   "metadata": {},
   "outputs": [],
   "source": [
    "speedups.disable()"
   ]
  },
  {
   "cell_type": "code",
   "execution_count": 3,
   "metadata": {},
   "outputs": [],
   "source": [
    "#param de sauvegarde temporaire : \n",
    "def save_fichier(gdf,nom_fichier):\n",
    "    gdf.to_file(os.path.join(r'D:\\Boulot\\AffairesEnCours\\OTV\\17\\temp_linearisation',nom_fichier+'.shp'))"
   ]
  },
  {
   "cell_type": "markdown",
   "metadata": {},
   "source": [
    "# A FAIRE : \n",
    "- \"triangle\" multiple : TRONROUT0000000032823937\n",
    "- prise en compte des petits troncon qui coupe perpendiculairement les 2*2voies sans autres tronconcs dans la continuité TRONROUT0000000032846678\n",
    "- mettre en forme les fonctions, regroupés dans des modules si besoin"
   ]
  },
  {
   "cell_type": "markdown",
   "metadata": {},
   "source": [
    "# AVANCEMENT : \n",
    "au 26/09 : les différentes parties jusqu'au chapitre 4.4 sont opérationnelles, mais des erreurs persistent. **Cependant c'est suffisant pour localiser les tronçons elementaires et vérifier si plusieurs point de comptages sont localisés sur le même troncon elementaire.**\n",
    "<br> Le chapitre 4.5 est un premier essai pour faire un graph à partir des tronc elementaires. C'est à vérifier / reprendre / améliorer."
   ]
  },
  {
   "cell_type": "markdown",
   "metadata": {},
   "source": [
    "# IMPORTER LES DONNEES \n",
    "> depuis la base de données locale, en ne prenant en compte que les lignes qui intersectent une zone carré au N-O"
   ]
  },
  {
   "cell_type": "code",
   "execution_count": 65,
   "metadata": {},
   "outputs": [],
   "source": [
    "df=import_donnes_base('local_otv_gti','public', 'traf2019_bdt17_ed19_l','traf2019_bdt17_ed19_l_vertices_pgr', 'maison')\n",
    "df2_chaussees=df.loc[df.nature.isin(['Type autoroutier', 'Route à 2 chaussées'])]"
   ]
  },
  {
   "cell_type": "code",
   "execution_count": 72,
   "metadata": {},
   "outputs": [],
   "source": [
    "schema='public'\n",
    "table_graph='traf2019_bdt17_ed19_l'\n",
    "table_vertex='traf2019_bdt17_ed19_l_vertices_pgr'\n",
    "with ct.ConnexionBdd('local_otv_gti','maison') as c : \n",
    "    requete1=f\"\"\"with jointure as (\n",
    "        select t.*, v1.cnt nb_intrsct_src, st_astext(v1.the_geom) as src_geom, v2.cnt as nb_intrsct_tgt, st_astext(v2.the_geom) as tgt_geom \n",
    "         from {schema}.{table_graph} t \n",
    "        left join {schema}.{table_vertex} v1 on t.source=v1.id \n",
    "        left join {schema}.{table_vertex} v2  on t.target=v2.id\n",
    "        )\n",
    "        select j.* from jointure j, zone_test_agreg z\n",
    "        where st_intersects(z.geom, j.geom)\"\"\"\n",
    "    requete2=f\"\"\"select t.*, v1.cnt nb_intrsct_src, st_astext(v1.the_geom) as src_geom, v2.cnt as nb_intrsct_tgt, st_astext(v2.the_geom) as tgt_geom \n",
    "         from {schema}.{table_graph} t \n",
    "        left join {schema}.{table_vertex} v1 on t.source=v1.id \n",
    "        left join {schema}.{table_vertex} v2  on t.target=v2.id\"\"\"\n",
    "    df = gp.read_postgis(requete2, c.sqlAlchemyConn)"
   ]
  },
  {
   "cell_type": "code",
   "execution_count": 73,
   "metadata": {
    "collapsed": true,
    "jupyter": {
     "outputs_hidden": true
    }
   },
   "outputs": [
    {
     "data": {
      "text/html": [
       "<div>\n",
       "<style scoped>\n",
       "    .dataframe tbody tr th:only-of-type {\n",
       "        vertical-align: middle;\n",
       "    }\n",
       "\n",
       "    .dataframe tbody tr th {\n",
       "        vertical-align: top;\n",
       "    }\n",
       "\n",
       "    .dataframe thead th {\n",
       "        text-align: right;\n",
       "    }\n",
       "</style>\n",
       "<table border=\"1\" class=\"dataframe\">\n",
       "  <thead>\n",
       "    <tr style=\"text-align: right;\">\n",
       "      <th></th>\n",
       "      <th>id</th>\n",
       "      <th>id_ign</th>\n",
       "      <th>nature</th>\n",
       "      <th>nom_1_g</th>\n",
       "      <th>nom_1_d</th>\n",
       "      <th>numero</th>\n",
       "      <th>importance</th>\n",
       "      <th>cl_admin</th>\n",
       "      <th>gestion</th>\n",
       "      <th>fictif</th>\n",
       "      <th>largeur</th>\n",
       "      <th>nb_voies</th>\n",
       "      <th>sens</th>\n",
       "      <th>etat</th>\n",
       "      <th>inseecom_g</th>\n",
       "      <th>inseecom_d</th>\n",
       "      <th>codevoie_g</th>\n",
       "      <th>codevoie_d</th>\n",
       "      <th>urbain</th>\n",
       "      <th>vit_moy_vl</th>\n",
       "      <th>restr_p</th>\n",
       "      <th>dept</th>\n",
       "      <th>dept_2019</th>\n",
       "      <th>dept_2018</th>\n",
       "      <th>dept_2017</th>\n",
       "      <th>...</th>\n",
       "      <th>vts_gest</th>\n",
       "      <th>obs_vts</th>\n",
       "      <th>vts_osm</th>\n",
       "      <th>vts_modif</th>\n",
       "      <th>vts_vl_f</th>\n",
       "      <th>vts_pl_f</th>\n",
       "      <th>vts_type_vl</th>\n",
       "      <th>vts_type_pl</th>\n",
       "      <th>src_vma</th>\n",
       "      <th>vma_vl</th>\n",
       "      <th>vma_pl</th>\n",
       "      <th>vma_type</th>\n",
       "      <th>codau_cont</th>\n",
       "      <th>tmja_cont</th>\n",
       "      <th>pc_pl_cont</th>\n",
       "      <th>source</th>\n",
       "      <th>target</th>\n",
       "      <th>recup</th>\n",
       "      <th>attr_modif</th>\n",
       "      <th>geom</th>\n",
       "      <th>ann_pc_pl</th>\n",
       "      <th>nb_intrsct_src</th>\n",
       "      <th>src_geom</th>\n",
       "      <th>nb_intrsct_tgt</th>\n",
       "      <th>tgt_geom</th>\n",
       "    </tr>\n",
       "  </thead>\n",
       "  <tbody>\n",
       "    <tr>\n",
       "      <th>0</th>\n",
       "      <td>320152</td>\n",
       "      <td>TRONROUT0000000032889317</td>\n",
       "      <td>Route à 1 chaussée</td>\n",
       "      <td>None</td>\n",
       "      <td>None</td>\n",
       "      <td>D129</td>\n",
       "      <td>3</td>\n",
       "      <td>Départementale</td>\n",
       "      <td>Charente-Maritime</td>\n",
       "      <td>Non</td>\n",
       "      <td>7.0</td>\n",
       "      <td>2.0</td>\n",
       "      <td>Double sens</td>\n",
       "      <td>En service</td>\n",
       "      <td>17271</td>\n",
       "      <td>17271</td>\n",
       "      <td>None</td>\n",
       "      <td>None</td>\n",
       "      <td>Non</td>\n",
       "      <td>63.0</td>\n",
       "      <td>NaN</td>\n",
       "      <td>17</td>\n",
       "      <td>17</td>\n",
       "      <td>17</td>\n",
       "      <td>17</td>\n",
       "      <td>...</td>\n",
       "      <td>NaN</td>\n",
       "      <td>methode auto depuis osm ; osm_id=302556148</td>\n",
       "      <td>90.0</td>\n",
       "      <td>osm</td>\n",
       "      <td>79.8</td>\n",
       "      <td>74.4</td>\n",
       "      <td>estimee</td>\n",
       "      <td>estimee</td>\n",
       "      <td>osm</td>\n",
       "      <td>90.0</td>\n",
       "      <td>80</td>\n",
       "      <td>verifiee</td>\n",
       "      <td>None</td>\n",
       "      <td>NaN</td>\n",
       "      <td>NaN</td>\n",
       "      <td>320299</td>\n",
       "      <td>319180</td>\n",
       "      <td>pk_ign</td>\n",
       "      <td>None</td>\n",
       "      <td>MULTILINESTRING ((438601.800 6549651.500, 438647.200 6549760.600, 438669.600 6549813.400, 438680.100 6549835.300, 438690.800 6549856.000, 438702.000 6549875.000, 438713.900 6549894.500, 438726.000...</td>\n",
       "      <td>None</td>\n",
       "      <td>2</td>\n",
       "      <td>POINT(438601.8 6549651.5)</td>\n",
       "      <td>2</td>\n",
       "      <td>POINT(438728.8 6549920.5)</td>\n",
       "    </tr>\n",
       "  </tbody>\n",
       "</table>\n",
       "<p>1 rows × 85 columns</p>\n",
       "</div>"
      ],
      "text/plain": [
       "       id                    id_ign              nature nom_1_g nom_1_d  \\\n",
       "0  320152  TRONROUT0000000032889317  Route à 1 chaussée    None    None   \n",
       "\n",
       "  numero importance        cl_admin            gestion fictif  largeur  \\\n",
       "0   D129          3  Départementale  Charente-Maritime    Non      7.0   \n",
       "\n",
       "   nb_voies         sens        etat inseecom_g inseecom_d codevoie_g  \\\n",
       "0       2.0  Double sens  En service      17271      17271       None   \n",
       "\n",
       "  codevoie_d urbain  vit_moy_vl  restr_p dept dept_2019 dept_2018 dept_2017  \\\n",
       "0       None    Non        63.0      NaN   17        17        17        17   \n",
       "\n",
       "   ... vts_gest                                     obs_vts  vts_osm  \\\n",
       "0  ...      NaN  methode auto depuis osm ; osm_id=302556148     90.0   \n",
       "\n",
       "   vts_modif vts_vl_f vts_pl_f vts_type_vl vts_type_pl src_vma vma_vl vma_pl  \\\n",
       "0        osm     79.8     74.4     estimee     estimee     osm   90.0     80   \n",
       "\n",
       "   vma_type  codau_cont  tmja_cont  pc_pl_cont  source  target   recup  \\\n",
       "0  verifiee        None        NaN         NaN  320299  319180  pk_ign   \n",
       "\n",
       "  attr_modif  \\\n",
       "0       None   \n",
       "\n",
       "                                                                                                                                                                                                      geom  \\\n",
       "0  MULTILINESTRING ((438601.800 6549651.500, 438647.200 6549760.600, 438669.600 6549813.400, 438680.100 6549835.300, 438690.800 6549856.000, 438702.000 6549875.000, 438713.900 6549894.500, 438726.000...   \n",
       "\n",
       "  ann_pc_pl nb_intrsct_src                   src_geom nb_intrsct_tgt  \\\n",
       "0      None              2  POINT(438601.8 6549651.5)              2   \n",
       "\n",
       "                    tgt_geom  \n",
       "0  POINT(438728.8 6549920.5)  \n",
       "\n",
       "[1 rows x 85 columns]"
      ]
     },
     "execution_count": 73,
     "metadata": {},
     "output_type": "execute_result"
    }
   ],
   "source": [
    "df.head(1)"
   ]
  },
  {
   "cell_type": "markdown",
   "metadata": {},
   "source": [
    "# 1 RONDS POINTS"
   ]
  },
  {
   "cell_type": "code",
   "execution_count": 74,
   "metadata": {},
   "outputs": [],
   "source": [
    "df_avec_rd_pt,carac_rd_pt,lign_entrant_rdpt=identifier_rd_pt(df)\n",
    "df_lignes=df_avec_rd_pt.set_index('id_ign')#mettre l'id_ign en index"
   ]
  },
  {
   "cell_type": "markdown",
   "metadata": {},
   "source": [
    "# 2. DESCCRIPTION DETAILLEE DES TRAITEMENTS \n",
    "> **Pour effectuer le traitements réellement passer au chapitre 3** <br> La base c'est : \n",
    "- regrouper les lignes qui se suivent\n",
    "- trouver les lignes d'arret\n",
    "- trouver les lignes suivantes\n",
    "- voir le cas des lignes suivantes : \n",
    "    - rd point\n",
    "    - mm route qui se sépare\n",
    "    - rien\n",
    "\n",
    "><br> L'idée c'est ça  : on met la premiere ligne a tester dans une liste, on l'utilise et on stocke les lignes associées dans une autre liste. ensuite on check les lignes suivantes : si elles sont dans un cas où il faut continuer les traitements, on remplace la ligne de départ dans la liste de départ par ces nouvelles lignes, pour lesquelles on applique de nouveau la recherche des lignes qui se suivent. tant que la liste des lignes suivantes est pa vide on reste dans une boucle while"
   ]
  },
  {
   "cell_type": "markdown",
   "metadata": {},
   "source": [
    "## 2.1 Troncons de base"
   ]
  },
  {
   "cell_type": "code",
   "execution_count": 75,
   "metadata": {},
   "outputs": [],
   "source": [
    "# ligne a tester : TRONROUT0000000339411609 TRONROUT0000000032869130 TRONROUT0000000032859410\n",
    "id_lignes='TRONROUT0000000032999215'\n",
    "#trouver tous les troncons proches qui se suivent\n",
    "#list_troncon=[id_ligne]+[a for a in at.liste_troncon_base(id_ligne,df_lignes)]\n",
    "list_troncon=liste_complete_tronc_base(id_lignes,df_lignes,[])"
   ]
  },
  {
   "cell_type": "markdown",
   "metadata": {},
   "source": [
    "## 2.2 lignes d'arret"
   ]
  },
  {
   "cell_type": "code",
   "execution_count": 76,
   "metadata": {},
   "outputs": [],
   "source": [
    "#trouver les troncons de debut et de fin :ceux pour lesquels on a un nombre de ligne sur target source >2\n",
    "dico_deb_fin=deb_fin_liste_tronc_base(df_lignes, list_troncon)"
   ]
  },
  {
   "cell_type": "code",
   "execution_count": 77,
   "metadata": {},
   "outputs": [
    {
     "data": {
      "text/plain": [
       "{0: {'id': 'TRONROUT0000000353890775',\n",
       "  'type': 'source',\n",
       "  'num_node': 1294226,\n",
       "  'nature': 'Route à 1 chaussée',\n",
       "  'geom_node': 'POINT(407733.4 6506844.7)',\n",
       "  'voie': 'D243',\n",
       "  'codevoie': '173100050'},\n",
       " 1: {'id': 'TRONROUT0000000032999200',\n",
       "  'type': 'target',\n",
       "  'num_node': 380168,\n",
       "  'nature': 'Route à 1 chaussée',\n",
       "  'geom_node': 'POINT(406903.3 6507385)',\n",
       "  'voie': 'D243',\n",
       "  'codevoie': '173100050'}}"
      ]
     },
     "execution_count": 77,
     "metadata": {},
     "output_type": "execute_result"
    }
   ],
   "source": [
    "dico_deb_fin"
   ]
  },
  {
   "cell_type": "code",
   "execution_count": 78,
   "metadata": {},
   "outputs": [],
   "source": [
    "ligne='TRONROUT0000000353890775'\n",
    "for v in dico_deb_fin.values() : \n",
    "    if v['id']==ligne :\n",
    "        voie=v['voie']\n",
    "        noeud=v['num_node']\n",
    "        geom_noeud=v['geom_node']\n",
    "        type_noeud=v['type']\n",
    "        codevoie=v['codevoie']\n",
    "        nature=v['nature']\n",
    "        break\n",
    "    else : \n",
    "        continue"
   ]
  },
  {
   "cell_type": "markdown",
   "metadata": {},
   "source": [
    "## 2.3 lignes suivantes"
   ]
  },
  {
   "cell_type": "code",
   "execution_count": 79,
   "metadata": {},
   "outputs": [],
   "source": [
    "#vérifier si une ligne touche un rd point\n",
    "# aprtir d'une ligne et d'un numero de noeud, on récupère les lignes qui touchent\n",
    "lignes_adj=df_lignes.loc[((df_lignes['source']==noeud)|(df_lignes['target']==noeud))&(df_lignes.index!=ligne)]"
   ]
  },
  {
   "cell_type": "code",
   "execution_count": 80,
   "metadata": {},
   "outputs": [
    {
     "data": {
      "text/html": [
       "<div>\n",
       "<style scoped>\n",
       "    .dataframe tbody tr th:only-of-type {\n",
       "        vertical-align: middle;\n",
       "    }\n",
       "\n",
       "    .dataframe tbody tr th {\n",
       "        vertical-align: top;\n",
       "    }\n",
       "\n",
       "    .dataframe thead th {\n",
       "        text-align: right;\n",
       "    }\n",
       "</style>\n",
       "<table border=\"1\" class=\"dataframe\">\n",
       "  <thead>\n",
       "    <tr style=\"text-align: right;\">\n",
       "      <th></th>\n",
       "      <th>id</th>\n",
       "      <th>nature</th>\n",
       "      <th>nom_1_g</th>\n",
       "      <th>nom_1_d</th>\n",
       "      <th>numero</th>\n",
       "      <th>importance</th>\n",
       "      <th>cl_admin</th>\n",
       "      <th>gestion</th>\n",
       "      <th>fictif</th>\n",
       "      <th>largeur</th>\n",
       "      <th>nb_voies</th>\n",
       "      <th>sens</th>\n",
       "      <th>etat</th>\n",
       "      <th>inseecom_g</th>\n",
       "      <th>inseecom_d</th>\n",
       "      <th>codevoie_g</th>\n",
       "      <th>codevoie_d</th>\n",
       "      <th>urbain</th>\n",
       "      <th>vit_moy_vl</th>\n",
       "      <th>restr_p</th>\n",
       "      <th>dept</th>\n",
       "      <th>dept_2019</th>\n",
       "      <th>dept_2018</th>\n",
       "      <th>dept_2017</th>\n",
       "      <th>dept_2016</th>\n",
       "      <th>...</th>\n",
       "      <th>vts_type_pl</th>\n",
       "      <th>src_vma</th>\n",
       "      <th>vma_vl</th>\n",
       "      <th>vma_pl</th>\n",
       "      <th>vma_type</th>\n",
       "      <th>codau_cont</th>\n",
       "      <th>tmja_cont</th>\n",
       "      <th>pc_pl_cont</th>\n",
       "      <th>source</th>\n",
       "      <th>target</th>\n",
       "      <th>recup</th>\n",
       "      <th>attr_modif</th>\n",
       "      <th>geom</th>\n",
       "      <th>ann_pc_pl</th>\n",
       "      <th>nb_intrsct_src</th>\n",
       "      <th>src_geom</th>\n",
       "      <th>nb_intrsct_tgt</th>\n",
       "      <th>tgt_geom</th>\n",
       "      <th>id_rdpt</th>\n",
       "      <th>nb_rte_rdpt</th>\n",
       "      <th>nom_rte_rdpt_entrant</th>\n",
       "      <th>codevoie_rdpt_entrant</th>\n",
       "      <th>nb_obj_sig_entrant</th>\n",
       "      <th>valeur_sens</th>\n",
       "      <th>id_ign_entrant</th>\n",
       "    </tr>\n",
       "    <tr>\n",
       "      <th>id_ign</th>\n",
       "      <th></th>\n",
       "      <th></th>\n",
       "      <th></th>\n",
       "      <th></th>\n",
       "      <th></th>\n",
       "      <th></th>\n",
       "      <th></th>\n",
       "      <th></th>\n",
       "      <th></th>\n",
       "      <th></th>\n",
       "      <th></th>\n",
       "      <th></th>\n",
       "      <th></th>\n",
       "      <th></th>\n",
       "      <th></th>\n",
       "      <th></th>\n",
       "      <th></th>\n",
       "      <th></th>\n",
       "      <th></th>\n",
       "      <th></th>\n",
       "      <th></th>\n",
       "      <th></th>\n",
       "      <th></th>\n",
       "      <th></th>\n",
       "      <th></th>\n",
       "      <th></th>\n",
       "      <th></th>\n",
       "      <th></th>\n",
       "      <th></th>\n",
       "      <th></th>\n",
       "      <th></th>\n",
       "      <th></th>\n",
       "      <th></th>\n",
       "      <th></th>\n",
       "      <th></th>\n",
       "      <th></th>\n",
       "      <th></th>\n",
       "      <th></th>\n",
       "      <th></th>\n",
       "      <th></th>\n",
       "      <th></th>\n",
       "      <th></th>\n",
       "      <th></th>\n",
       "      <th></th>\n",
       "      <th></th>\n",
       "      <th></th>\n",
       "      <th></th>\n",
       "      <th></th>\n",
       "      <th></th>\n",
       "      <th></th>\n",
       "      <th></th>\n",
       "    </tr>\n",
       "  </thead>\n",
       "  <tbody>\n",
       "    <tr>\n",
       "      <th>TRONROUT0000000353890776</th>\n",
       "      <td>1481737</td>\n",
       "      <td>Route à 1 chaussée</td>\n",
       "      <td>RTE DU CHAILLAUD</td>\n",
       "      <td>RTE DU CHAILLAUD</td>\n",
       "      <td>None</td>\n",
       "      <td>4</td>\n",
       "      <td>Autre</td>\n",
       "      <td>None</td>\n",
       "      <td>Non</td>\n",
       "      <td>3.0</td>\n",
       "      <td>1.0</td>\n",
       "      <td>Sens direct</td>\n",
       "      <td>En service</td>\n",
       "      <td>17310</td>\n",
       "      <td>17310</td>\n",
       "      <td>173100050</td>\n",
       "      <td>173100050</td>\n",
       "      <td>Oui</td>\n",
       "      <td>40.0</td>\n",
       "      <td>NaN</td>\n",
       "      <td>17</td>\n",
       "      <td>17</td>\n",
       "      <td>17</td>\n",
       "      <td>17</td>\n",
       "      <td>17</td>\n",
       "      <td>...</td>\n",
       "      <td>estimee</td>\n",
       "      <td>osm</td>\n",
       "      <td>50.0</td>\n",
       "      <td>50</td>\n",
       "      <td>verifiee</td>\n",
       "      <td>None</td>\n",
       "      <td>NaN</td>\n",
       "      <td>NaN</td>\n",
       "      <td>1294226</td>\n",
       "      <td>1259277</td>\n",
       "      <td>pk_ign</td>\n",
       "      <td>None</td>\n",
       "      <td>MULTILINESTRING ((407733.400 6506844.700, 407733.300 6506839.600, 407733.400 6506830.700, 407733.000 6506824.700))</td>\n",
       "      <td>None</td>\n",
       "      <td>3</td>\n",
       "      <td>POINT(407733.4 6506844.7)</td>\n",
       "      <td>3</td>\n",
       "      <td>POINT(407733 6506824.7)</td>\n",
       "      <td>NaN</td>\n",
       "      <td>NaN</td>\n",
       "      <td>NaN</td>\n",
       "      <td>NaN</td>\n",
       "      <td>NaN</td>\n",
       "      <td>NaN</td>\n",
       "      <td>NaN</td>\n",
       "    </tr>\n",
       "    <tr>\n",
       "      <th>TRONROUT0000000333968675</th>\n",
       "      <td>1454788</td>\n",
       "      <td>Route à 1 chaussée</td>\n",
       "      <td>RTE DU CHAILLAUD</td>\n",
       "      <td>RTE DU CHAILLAUD</td>\n",
       "      <td>D243</td>\n",
       "      <td>4</td>\n",
       "      <td>Départementale</td>\n",
       "      <td>Charente-Maritime</td>\n",
       "      <td>Non</td>\n",
       "      <td>3.0</td>\n",
       "      <td>1.0</td>\n",
       "      <td>Sens direct</td>\n",
       "      <td>En service</td>\n",
       "      <td>17310</td>\n",
       "      <td>17310</td>\n",
       "      <td>173100050</td>\n",
       "      <td>173100050</td>\n",
       "      <td>Oui</td>\n",
       "      <td>40.0</td>\n",
       "      <td>NaN</td>\n",
       "      <td>17</td>\n",
       "      <td>17</td>\n",
       "      <td>17</td>\n",
       "      <td>17</td>\n",
       "      <td>17</td>\n",
       "      <td>...</td>\n",
       "      <td>estimee</td>\n",
       "      <td>osm</td>\n",
       "      <td>50.0</td>\n",
       "      <td>50</td>\n",
       "      <td>verifiee</td>\n",
       "      <td>None</td>\n",
       "      <td>NaN</td>\n",
       "      <td>NaN</td>\n",
       "      <td>380147</td>\n",
       "      <td>1294226</td>\n",
       "      <td>pk_ign</td>\n",
       "      <td>None</td>\n",
       "      <td>MULTILINESTRING ((407748.100 6506827.600, 407740.300 6506838.700, 407733.400 6506844.700))</td>\n",
       "      <td>None</td>\n",
       "      <td>3</td>\n",
       "      <td>POINT(407748.1 6506827.6)</td>\n",
       "      <td>3</td>\n",
       "      <td>POINT(407733.4 6506844.7)</td>\n",
       "      <td>NaN</td>\n",
       "      <td>NaN</td>\n",
       "      <td>NaN</td>\n",
       "      <td>NaN</td>\n",
       "      <td>NaN</td>\n",
       "      <td>NaN</td>\n",
       "      <td>NaN</td>\n",
       "    </tr>\n",
       "  </tbody>\n",
       "</table>\n",
       "<p>2 rows × 91 columns</p>\n",
       "</div>"
      ],
      "text/plain": [
       "                               id              nature           nom_1_g  \\\n",
       "id_ign                                                                    \n",
       "TRONROUT0000000353890776  1481737  Route à 1 chaussée  RTE DU CHAILLAUD   \n",
       "TRONROUT0000000333968675  1454788  Route à 1 chaussée  RTE DU CHAILLAUD   \n",
       "\n",
       "                                   nom_1_d numero importance        cl_admin  \\\n",
       "id_ign                                                                         \n",
       "TRONROUT0000000353890776  RTE DU CHAILLAUD   None          4           Autre   \n",
       "TRONROUT0000000333968675  RTE DU CHAILLAUD   D243          4  Départementale   \n",
       "\n",
       "                                    gestion fictif  largeur  nb_voies  \\\n",
       "id_ign                                                                  \n",
       "TRONROUT0000000353890776               None    Non      3.0       1.0   \n",
       "TRONROUT0000000333968675  Charente-Maritime    Non      3.0       1.0   \n",
       "\n",
       "                                 sens        etat inseecom_g inseecom_d  \\\n",
       "id_ign                                                                    \n",
       "TRONROUT0000000353890776  Sens direct  En service      17310      17310   \n",
       "TRONROUT0000000333968675  Sens direct  En service      17310      17310   \n",
       "\n",
       "                         codevoie_g codevoie_d urbain  vit_moy_vl  restr_p  \\\n",
       "id_ign                                                                       \n",
       "TRONROUT0000000353890776  173100050  173100050    Oui        40.0      NaN   \n",
       "TRONROUT0000000333968675  173100050  173100050    Oui        40.0      NaN   \n",
       "\n",
       "                         dept dept_2019 dept_2018 dept_2017 dept_2016  ...  \\\n",
       "id_ign                                                                 ...   \n",
       "TRONROUT0000000353890776   17        17        17        17        17  ...   \n",
       "TRONROUT0000000333968675   17        17        17        17        17  ...   \n",
       "\n",
       "                         vts_type_pl  src_vma  vma_vl vma_pl  vma_type  \\\n",
       "id_ign                                                                   \n",
       "TRONROUT0000000353890776     estimee      osm    50.0     50  verifiee   \n",
       "TRONROUT0000000333968675     estimee      osm    50.0     50  verifiee   \n",
       "\n",
       "                         codau_cont tmja_cont pc_pl_cont   source   target  \\\n",
       "id_ign                                                                       \n",
       "TRONROUT0000000353890776       None       NaN        NaN  1294226  1259277   \n",
       "TRONROUT0000000333968675       None       NaN        NaN   380147  1294226   \n",
       "\n",
       "                           recup  attr_modif  \\\n",
       "id_ign                                         \n",
       "TRONROUT0000000353890776  pk_ign        None   \n",
       "TRONROUT0000000333968675  pk_ign        None   \n",
       "\n",
       "                                                                                                                                        geom  \\\n",
       "id_ign                                                                                                                                         \n",
       "TRONROUT0000000353890776  MULTILINESTRING ((407733.400 6506844.700, 407733.300 6506839.600, 407733.400 6506830.700, 407733.000 6506824.700))   \n",
       "TRONROUT0000000333968675                          MULTILINESTRING ((407748.100 6506827.600, 407740.300 6506838.700, 407733.400 6506844.700))   \n",
       "\n",
       "                          ann_pc_pl  nb_intrsct_src  \\\n",
       "id_ign                                                \n",
       "TRONROUT0000000353890776       None               3   \n",
       "TRONROUT0000000333968675       None               3   \n",
       "\n",
       "                                           src_geom  nb_intrsct_tgt  \\\n",
       "id_ign                                                                \n",
       "TRONROUT0000000353890776  POINT(407733.4 6506844.7)               3   \n",
       "TRONROUT0000000333968675  POINT(407748.1 6506827.6)               3   \n",
       "\n",
       "                                           tgt_geom id_rdpt nb_rte_rdpt  \\\n",
       "id_ign                                                                    \n",
       "TRONROUT0000000353890776    POINT(407733 6506824.7)     NaN         NaN   \n",
       "TRONROUT0000000333968675  POINT(407733.4 6506844.7)     NaN         NaN   \n",
       "\n",
       "                         nom_rte_rdpt_entrant codevoie_rdpt_entrant  \\\n",
       "id_ign                                                                \n",
       "TRONROUT0000000353890776                  NaN                   NaN   \n",
       "TRONROUT0000000333968675                  NaN                   NaN   \n",
       "\n",
       "                         nb_obj_sig_entrant valeur_sens id_ign_entrant  \n",
       "id_ign                                                                  \n",
       "TRONROUT0000000353890776                NaN         NaN            NaN  \n",
       "TRONROUT0000000333968675                NaN         NaN            NaN  \n",
       "\n",
       "[2 rows x 91 columns]"
      ]
     },
     "execution_count": 80,
     "metadata": {},
     "output_type": "execute_result"
    }
   ],
   "source": [
    "lignes_adj"
   ]
  },
  {
   "cell_type": "markdown",
   "metadata": {},
   "source": [
    "## 2.4 cas particulier "
   ]
  },
  {
   "cell_type": "markdown",
   "metadata": {},
   "source": [
    "### 2.4.1 rd pt"
   ]
  },
  {
   "cell_type": "code",
   "execution_count": 81,
   "metadata": {},
   "outputs": [],
   "source": [
    "#verfier si une ligne rouche un rd point et recup le numero si c'est le cas\n",
    "check_rdpt, num_rdpt=verif_touche_rdpt(lignes_adj)\n",
    "if check_rdpt : \n",
    "    lignes_rdpt, lignes_sortantes=recup_lignes_rdpt(carac_rd_pt,num_rdpt,list_troncon,voie,codevoie)"
   ]
  },
  {
   "cell_type": "markdown",
   "metadata": {},
   "source": [
    "### 2.4.2 mm route qui se sépare"
   ]
  },
  {
   "cell_type": "code",
   "execution_count": 181,
   "metadata": {},
   "outputs": [
    {
     "data": {
      "text/plain": [
       "['TRONROUT0000000353890776', 'TRONROUT0000000333968675']"
      ]
     },
     "execution_count": 181,
     "metadata": {},
     "output_type": "execute_result"
    }
   ],
   "source": [
    "recup_route_split('TRONROUT0000000353890775',list_troncon,voie,codevoie, lignes_adj,noeud,geom_noeud, type_noeud, nature,df_lignes)"
   ]
  },
  {
   "cell_type": "markdown",
   "metadata": {},
   "source": [
    "### 2.4.3 trouver les routes coinces entre 2 voies qui se sépare -<|\n",
    " ce sont des lignes qui  dont : \n",
    "- si une des lignes adjacente à le mm nom de voie\n",
    "- on prend l'autre si elle a un sens direct ou inverse\n",
    "- on recherche son source ou target different du num_node de dico_deb_fin\n",
    "- on cherche les lignes qui touche ce noeud, qui ont le mme nom de voie et un sens direct ou inverse\n",
    "- on recupere cette ligne, et le num de noeud differnts de celui de la 1ere ligne qui bifurque\n",
    "- si ce num de noeud correspond à la ligne adj source ou target, alors cette ligne adj source ou target doit être ajoutée à la liste"
   ]
  },
  {
   "cell_type": "code",
   "execution_count": 49,
   "metadata": {},
   "outputs": [
    {
     "data": {
      "text/plain": [
       "[]"
      ]
     },
     "execution_count": 49,
     "metadata": {},
     "output_type": "execute_result"
    }
   ],
   "source": [
    "recup_triangle(ligne,voie, codevoie,lignes_adj, noeud,geom_noeud, type_noeud, df_lignes)"
   ]
  },
  {
   "cell_type": "markdown",
   "metadata": {},
   "source": [
    "## 2.5 route à 2 chaussées\n",
    "L'idée c'est si la ligne est une route à 2 chaussée : \n",
    "- on prend l'ensemble du troncon elementaire\n",
    "- on agerge les lignes\n",
    "- on recupere le centre\n",
    "- on recupere la longueur\n",
    "- on pourrait chercher à comparer les bouding box"
   ]
  },
  {
   "cell_type": "code",
   "execution_count": 53,
   "metadata": {},
   "outputs": [],
   "source": [
    "#dans le cas où les longeuers ne coincident pas\n",
    "#recuperer la ligne proche\n",
    "ligne_proche, ligne_filtres, longueur_base=trouver_chaussees_separee(list_troncon, df_avec_rd_pt)"
   ]
  },
  {
   "cell_type": "code",
   "execution_count": 54,
   "metadata": {},
   "outputs": [
    {
     "data": {
      "text/plain": [
       "'TRONROUT0000000032840410'"
      ]
     },
     "execution_count": 54,
     "metadata": {},
     "output_type": "execute_result"
    }
   ],
   "source": [
    "ligne_proche"
   ]
  },
  {
   "cell_type": "code",
   "execution_count": 55,
   "metadata": {},
   "outputs": [
    {
     "data": {
      "text/plain": [
       "['TRONROUT0000000032843157',\n",
       " 'TRONROUT0000000121811702',\n",
       " 'TRONROUT0000000032840410',\n",
       " 'TRONROUT0000000342863179',\n",
       " 'TRONROUT0000000032843162',\n",
       " 'TRONROUT0000000032843170',\n",
       " 'TRONROUT0000000032843156']"
      ]
     },
     "execution_count": 55,
     "metadata": {},
     "output_type": "execute_result"
    }
   ],
   "source": [
    "gestion_voie_2_chaussee(list_troncon, df_avec_rd_pt, 'TRONROUT0000000032840659',carac_rd_pt )[0]"
   ]
  },
  {
   "cell_type": "markdown",
   "metadata": {},
   "source": [
    "# Tests de deroulement global"
   ]
  },
  {
   "cell_type": "code",
   "execution_count": 183,
   "metadata": {},
   "outputs": [
    {
     "data": {
      "text/plain": [
       "['TRONROUT0000000032999202',\n",
       " 'TRONROUT0000000032999200',\n",
       " 'TRONROUT0000000032999198',\n",
       " 'TRONROUT0000000273363048',\n",
       " 'TRONROUT0000000032999215',\n",
       " 'TRONROUT0000000353890775',\n",
       " 'TRONROUT0000000032999158',\n",
       " 'TRONROUT0000000353890776',\n",
       " 'TRONROUT0000000032999196',\n",
       " 'TRONROUT0000000333968675']"
      ]
     },
     "execution_count": 183,
     "metadata": {},
     "output_type": "execute_result"
    }
   ],
   "source": [
    "lignes_troncon_elem(df_avec_rd_pt,carac_rd_pt,'TRONROUT0000000353890775',[])"
   ]
  },
  {
   "cell_type": "markdown",
   "metadata": {},
   "source": [
    "# 3. Boucler sur 'ensembl des lignes\n",
    "On va faire tourner les traitements sur l'ensemble des lignes, en partant de la liste des id_ign, pour chaque ligne : \n",
    "- si la ligne ne remplit pas les critères d'exclusion on continu, sinon on passe à la suivante\n",
    "- fonction de recherche des lignes associées\n",
    "- df des association\n",
    "- filtre de la liste des id_ign de base"
   ]
  },
  {
   "cell_type": "code",
   "execution_count": 184,
   "metadata": {},
   "outputs": [],
   "source": [
    "#traiter les bretelles en 1er, puis traiter par longueur decroissante\n",
    "bretelle=df_avec_rd_pt.loc[df_avec_rd_pt['nature']=='Bretelle'].id_ign.tolist()\n",
    "sans_bretelle=df_avec_rd_pt.loc[df_avec_rd_pt['nature']!='Bretelle'].copy()\n",
    "list_sans_bretelle=sans_bretelle.id_ign.tolist()\n",
    "list_tri_longueur=sans_bretelle.loc[sans_bretelle.length.sort_values(ascending=False).index.tolist()].id_ign.tolist()\n",
    "list_id_ign=bretelle+list_tri_longueur"
   ]
  },
  {
   "cell_type": "code",
   "execution_count": 192,
   "metadata": {},
   "outputs": [
    {
     "name": "stdout",
     "output_type": "stream",
     "text": [
      "0 2020-12-08 19:10:33.711525 nb lignes traitees : 0\n",
      "500 2020-12-08 19:14:29.313755 nb lignes traitees : 1061\n",
      "1000 2020-12-08 19:20:02.088654 nb lignes traitees : 3412\n",
      "1500 2020-12-08 19:25:41.539560 nb lignes traitees : 5132\n",
      "2000 2020-12-08 19:31:47.931453 nb lignes traitees : 6998\n",
      "2500 2020-12-08 19:37:51.185706 nb lignes traitees : 8957\n",
      "3000 2020-12-08 19:43:43.509199 nb lignes traitees : 10856\n",
      "3500 2020-12-08 19:49:37.472309 nb lignes traitees : 12680\n",
      "4000 2020-12-08 19:55:22.512292 nb lignes traitees : 14466\n",
      "4500 2020-12-08 20:00:58.477550 nb lignes traitees : 16193\n",
      "5000 2020-12-08 20:06:27.626023 nb lignes traitees : 17856\n",
      "5500 2020-12-08 20:12:20.552906 nb lignes traitees : 19696\n",
      "6000 2020-12-08 20:17:58.668439 nb lignes traitees : 21502\n",
      "6500 2020-12-08 20:23:21.811988 nb lignes traitees : 22938\n",
      "7000 2020-12-08 20:28:56.894609 nb lignes traitees : 24514\n",
      "7500 2020-12-08 20:34:37.511659 nb lignes traitees : 25926\n",
      "8000 2020-12-08 20:40:13.443836 nb lignes traitees : 27433\n",
      "8500 2020-12-08 20:45:34.802172 nb lignes traitees : 28890\n",
      "9000 2020-12-08 20:51:10.677668 nb lignes traitees : 30573\n",
      "9500 2020-12-08 20:56:24.944972 nb lignes traitees : 31991\n",
      "10000 2020-12-08 21:01:29.808425 nb lignes traitees : 33372\n",
      "10500 2020-12-08 21:06:58.843678 nb lignes traitees : 34903\n",
      "11000 2020-12-08 21:11:59.204729 nb lignes traitees : 36205\n",
      "11500 2020-12-08 21:17:08.625436 nb lignes traitees : 37530\n",
      "12000 2020-12-08 21:22:44.393116 nb lignes traitees : 38824\n",
      "12500 2020-12-08 21:27:54.763944 nb lignes traitees : 40096\n",
      "13000 2020-12-08 21:33:25.450592 nb lignes traitees : 41477\n",
      "13500 2020-12-08 21:38:26.335208 nb lignes traitees : 42606\n",
      "14000 2020-12-08 21:43:18.533990 nb lignes traitees : 43856\n",
      "14500 2020-12-08 21:48:26.208403 nb lignes traitees : 45159\n",
      "15000 2020-12-08 21:53:15.342754 nb lignes traitees : 46275\n",
      "15500 2020-12-08 21:57:59.687430 nb lignes traitees : 47513\n",
      "16000 2020-12-08 22:02:28.648958 nb lignes traitees : 48701\n",
      "16500 2020-12-08 22:06:54.581560 nb lignes traitees : 49796\n",
      "17000 2020-12-08 22:11:16.817053 nb lignes traitees : 50809\n",
      "17500 2020-12-08 22:15:19.737236 nb lignes traitees : 51799\n",
      "18000 2020-12-08 22:19:32.394331 nb lignes traitees : 52870\n",
      "18500 2020-12-08 22:23:17.854228 nb lignes traitees : 53787\n",
      "19000 2020-12-08 22:27:11.385504 nb lignes traitees : 54773\n",
      "19500 2020-12-08 22:30:48.960446 nb lignes traitees : 55647\n",
      "20000 2020-12-08 22:34:53.760608 nb lignes traitees : 56665\n",
      "20500 2020-12-08 22:39:02.166400 nb lignes traitees : 57559\n",
      "21000 2020-12-08 22:42:42.363627 nb lignes traitees : 58315\n",
      "21500 2020-12-08 22:46:36.620076 nb lignes traitees : 59207\n",
      "22000 2020-12-08 22:50:26.660833 nb lignes traitees : 60015\n",
      "22500 2020-12-08 22:54:37.360944 nb lignes traitees : 60853\n",
      "23000 2020-12-08 22:58:03.278817 nb lignes traitees : 61613\n",
      "23500 2020-12-08 23:01:47.236857 nb lignes traitees : 62518\n",
      "24000 2020-12-08 23:05:22.265657 nb lignes traitees : 63386\n",
      "24500 2020-12-08 23:08:22.781733 nb lignes traitees : 64199\n",
      "25000 2020-12-08 23:11:34.452016 nb lignes traitees : 64892\n",
      "25500 2020-12-08 23:14:47.468683 nb lignes traitees : 65643\n",
      "26000 2020-12-08 23:18:11.874847 nb lignes traitees : 66469\n",
      "26500 2020-12-08 23:21:22.675458 nb lignes traitees : 67195\n",
      "27000 2020-12-08 23:24:27.640634 nb lignes traitees : 67931\n",
      "27500 2020-12-08 23:27:24.452670 nb lignes traitees : 68563\n",
      "28000 2020-12-08 23:30:14.523686 nb lignes traitees : 69156\n",
      "28500 2020-12-08 23:33:16.192703 nb lignes traitees : 69834\n",
      "29000 2020-12-08 23:36:32.039811 nb lignes traitees : 70611\n",
      "29500 2020-12-08 23:39:39.446458 nb lignes traitees : 71322\n",
      "30000 2020-12-08 23:42:33.648450 nb lignes traitees : 71996\n",
      "30500 2020-12-08 23:45:24.924293 nb lignes traitees : 72626\n",
      "31000 2020-12-08 23:48:30.866873 nb lignes traitees : 73333\n",
      "31500 2020-12-08 23:51:26.464112 nb lignes traitees : 74020\n",
      "32000 2020-12-08 23:53:56.873751 nb lignes traitees : 74594\n",
      "32500 2020-12-08 23:56:45.661249 nb lignes traitees : 75247\n",
      "33000 2020-12-08 23:59:24.977039 nb lignes traitees : 75900\n",
      "33500 2020-12-09 00:02:22.346557 nb lignes traitees : 76569\n",
      "34000 2020-12-09 00:05:06.644065 nb lignes traitees : 77208\n",
      "34500 2020-12-09 00:08:00.913853 nb lignes traitees : 77862\n",
      "35000 2020-12-09 00:10:38.234008 nb lignes traitees : 78463\n",
      "35500 2020-12-09 00:13:34.240171 nb lignes traitees : 79116\n",
      "36000 2020-12-09 00:16:08.014858 nb lignes traitees : 79687\n",
      "36500 2020-12-09 00:18:54.156411 nb lignes traitees : 80280\n",
      "37000 2020-12-09 00:21:16.825735 nb lignes traitees : 80746\n",
      "37500 2020-12-09 00:23:51.446130 nb lignes traitees : 81256\n",
      "38000 2020-12-09 00:26:42.180398 nb lignes traitees : 81872\n",
      "38500 2020-12-09 00:29:24.575952 nb lignes traitees : 82448\n",
      "39000 2020-12-09 00:32:06.394091 nb lignes traitees : 83032\n",
      "single positional indexer is out-of-bounds\n",
      "39500 2020-12-09 00:34:32.254899 nb lignes traitees : 83497\n",
      "40000 2020-12-09 00:36:55.522622 nb lignes traitees : 83948\n",
      "40500 2020-12-09 00:39:32.852768 nb lignes traitees : 84510\n",
      "41000 2020-12-09 00:42:20.653882 nb lignes traitees : 85129\n",
      "41500 2020-12-09 00:44:52.727050 nb lignes traitees : 85619\n",
      "42000 2020-12-09 00:47:22.629068 nb lignes traitees : 86101\n",
      "42500 2020-12-09 00:50:04.439187 nb lignes traitees : 86637\n",
      "43000 2020-12-09 00:52:27.649109 nb lignes traitees : 87120\n",
      "43500 2020-12-09 00:54:49.539535 nb lignes traitees : 87566\n",
      "44000 2020-12-09 00:57:20.372042 nb lignes traitees : 88066\n",
      "44500 2020-12-09 00:59:50.366770 nb lignes traitees : 88545\n",
      "45000 2020-12-09 01:02:17.576987 nb lignes traitees : 88996\n",
      "45500 2020-12-09 01:04:57.337612 nb lignes traitees : 89551\n",
      "46000 2020-12-09 01:07:13.117387 nb lignes traitees : 89984\n",
      "46500 2020-12-09 01:09:31.471274 nb lignes traitees : 90435\n",
      "47000 2020-12-09 01:11:45.839804 nb lignes traitees : 90898\n",
      "47500 2020-12-09 01:14:24.009684 nb lignes traitees : 91469\n",
      "48000 2020-12-09 01:16:33.906197 nb lignes traitees : 91836\n",
      "48500 2020-12-09 01:18:51.436312 nb lignes traitees : 92300\n",
      "49000 2020-12-09 01:20:57.522018 nb lignes traitees : 92702\n",
      "49500 2020-12-09 01:23:03.335433 nb lignes traitees : 93086\n",
      "50000 2020-12-09 01:25:12.122933 nb lignes traitees : 93499\n",
      "50500 2020-12-09 01:27:31.779317 nb lignes traitees : 93970\n",
      "51000 2020-12-09 01:29:33.593472 nb lignes traitees : 94330\n",
      "51500 2020-12-09 01:31:40.259606 nb lignes traitees : 94716\n",
      "52000 2020-12-09 01:33:59.760447 nb lignes traitees : 95163\n",
      "52500 2020-12-09 01:35:58.981499 nb lignes traitees : 95512\n",
      "53000 2020-12-09 01:38:15.871324 nb lignes traitees : 95912\n",
      "53500 2020-12-09 01:40:15.442438 nb lignes traitees : 96277\n",
      "54000 2020-12-09 01:42:23.661459 nb lignes traitees : 96655\n",
      "54500 2020-12-09 01:44:19.068712 nb lignes traitees : 96990\n",
      "55000 2020-12-09 01:46:25.506498 nb lignes traitees : 97377\n",
      "55500 2020-12-09 01:48:25.939307 nb lignes traitees : 97737\n",
      "56000 2020-12-09 01:50:39.635676 nb lignes traitees : 98134\n",
      "56500 2020-12-09 01:52:40.711764 nb lignes traitees : 98471\n",
      "57000 2020-12-09 01:54:45.797168 nb lignes traitees : 98801\n",
      "57500 2020-12-09 01:56:41.099721 nb lignes traitees : 99181\n",
      "58000 2020-12-09 01:58:25.639047 nb lignes traitees : 99500\n",
      "58500 2020-12-09 02:00:11.105933 nb lignes traitees : 99807\n",
      "59000 2020-12-09 02:01:57.456434 nb lignes traitees : 100104\n",
      "59500 2020-12-09 02:03:21.260251 nb lignes traitees : 100347\n",
      "60000 2020-12-09 02:05:05.368729 nb lignes traitees : 100625\n",
      "60500 2020-12-09 02:07:12.827762 nb lignes traitees : 100998\n",
      "61000 2020-12-09 02:09:06.114729 nb lignes traitees : 101331\n",
      "61500 2020-12-09 02:11:08.660884 nb lignes traitees : 101673\n",
      "62000 2020-12-09 02:12:47.005801 nb lignes traitees : 101937\n",
      "62500 2020-12-09 02:14:10.728854 nb lignes traitees : 102156\n",
      "63000 2020-12-09 02:15:55.482606 nb lignes traitees : 102434\n",
      "63500 2020-12-09 02:17:15.023848 nb lignes traitees : 102634\n",
      "64000 2020-12-09 02:18:33.886858 nb lignes traitees : 102851\n",
      "64500 2020-12-09 02:20:08.436947 nb lignes traitees : 103089\n",
      "65000 2020-12-09 02:21:46.446760 nb lignes traitees : 103349\n",
      "65500 2020-12-09 02:23:09.923431 nb lignes traitees : 103588\n",
      "66000 2020-12-09 02:24:26.994280 nb lignes traitees : 103767\n",
      "66500 2020-12-09 02:25:53.957644 nb lignes traitees : 103975\n",
      "67000 2020-12-09 02:26:58.632630 nb lignes traitees : 104148\n",
      "67500 2020-12-09 02:28:29.534438 nb lignes traitees : 104368\n",
      "68000 2020-12-09 02:29:54.814306 nb lignes traitees : 104582\n",
      "68500 2020-12-09 02:31:09.646122 nb lignes traitees : 104761\n",
      "69000 2020-12-09 02:32:23.053772 nb lignes traitees : 104933\n",
      "69500 2020-12-09 02:33:27.717789 nb lignes traitees : 105087\n",
      "70000 2020-12-09 02:34:30.024111 nb lignes traitees : 105224\n",
      "70500 2020-12-09 02:35:41.950680 nb lignes traitees : 105411\n",
      "71000 2020-12-09 02:36:48.360028 nb lignes traitees : 105570\n",
      "71500 2020-12-09 02:37:50.438960 nb lignes traitees : 105709\n",
      "72000 2020-12-09 02:39:03.440693 nb lignes traitees : 105895\n",
      "72500 2020-12-09 02:40:18.688377 nb lignes traitees : 106068\n",
      "73000 2020-12-09 02:41:19.290281 nb lignes traitees : 106207\n",
      "73500 2020-12-09 02:42:15.020177 nb lignes traitees : 106335\n",
      "74000 2020-12-09 02:43:15.285960 nb lignes traitees : 106463\n",
      "74500 2020-12-09 02:44:11.055769 nb lignes traitees : 106577\n",
      "75000 2020-12-09 02:45:01.309337 nb lignes traitees : 106696\n",
      "75500 2020-12-09 02:46:09.839012 nb lignes traitees : 106842\n",
      "76000 2020-12-09 02:46:53.879222 nb lignes traitees : 106928\n",
      "76500 2020-12-09 02:48:06.125953 nb lignes traitees : 107087\n",
      "77000 2020-12-09 02:49:01.237503 nb lignes traitees : 107207\n",
      "77500 2020-12-09 02:49:46.952231 nb lignes traitees : 107299\n",
      "78000 2020-12-09 02:50:38.695815 nb lignes traitees : 107416\n",
      "78500 2020-12-09 02:51:28.851620 nb lignes traitees : 107519\n",
      "79000 2020-12-09 02:52:28.872080 nb lignes traitees : 107656\n",
      "79500 2020-12-09 02:53:13.244359 nb lignes traitees : 107736\n",
      "80000 2020-12-09 02:53:53.233404 nb lignes traitees : 107818\n",
      "80500 2020-12-09 02:54:42.276188 nb lignes traitees : 107913\n",
      "81000 2020-12-09 02:55:29.373200 nb lignes traitees : 107993\n",
      "81500 2020-12-09 02:56:14.805684 nb lignes traitees : 108090\n",
      "82000 2020-12-09 02:56:58.272405 nb lignes traitees : 108172\n",
      "82500 2020-12-09 02:57:55.942133 nb lignes traitees : 108276\n",
      "83000 2020-12-09 02:58:42.272195 nb lignes traitees : 108363\n",
      "83500 2020-12-09 02:59:23.518859 nb lignes traitees : 108440\n",
      "84000 2020-12-09 03:00:06.059055 nb lignes traitees : 108509\n",
      "84500 2020-12-09 03:00:45.173421 nb lignes traitees : 108582\n",
      "85000 2020-12-09 03:01:30.357549 nb lignes traitees : 108662\n",
      "85500 2020-12-09 03:02:20.205204 nb lignes traitees : 108741\n",
      "86000 2020-12-09 03:02:59.975810 nb lignes traitees : 108811\n",
      "86500 2020-12-09 03:03:35.605497 nb lignes traitees : 108881\n",
      "87000 2020-12-09 03:04:09.978526 nb lignes traitees : 108934\n",
      "87500 2020-12-09 03:04:50.398419 nb lignes traitees : 109015\n",
      "88000 2020-12-09 03:05:34.462522 nb lignes traitees : 109098\n",
      "88500 2020-12-09 03:06:12.988485 nb lignes traitees : 109167\n",
      "89000 2020-12-09 03:06:56.914973 nb lignes traitees : 109242\n",
      "89500 2020-12-09 03:07:37.492427 nb lignes traitees : 109309\n",
      "90000 2020-12-09 03:08:07.811298 nb lignes traitees : 109359\n",
      "90500 2020-12-09 03:08:42.901428 nb lignes traitees : 109419\n",
      "91000 2020-12-09 03:09:14.957674 nb lignes traitees : 109473\n",
      "91500 2020-12-09 03:09:57.155810 nb lignes traitees : 109534\n",
      "92000 2020-12-09 03:10:41.948984 nb lignes traitees : 109614\n",
      "92500 2020-12-09 03:11:21.820325 nb lignes traitees : 109682\n",
      "93000 2020-12-09 03:12:01.562011 nb lignes traitees : 109744\n",
      "93500 2020-12-09 03:12:38.145126 nb lignes traitees : 109807\n",
      "94000 2020-12-09 03:13:15.377526 nb lignes traitees : 109861\n",
      "94500 2020-12-09 03:14:06.426984 nb lignes traitees : 109942\n",
      "95000 2020-12-09 03:14:53.176923 nb lignes traitees : 110033\n",
      "95500 2020-12-09 03:15:40.640931 nb lignes traitees : 110107\n",
      "96000 2020-12-09 03:16:19.067157 nb lignes traitees : 110161\n",
      "96500 2020-12-09 03:17:01.080772 nb lignes traitees : 110219\n",
      "97000 2020-12-09 03:17:45.925802 nb lignes traitees : 110285\n",
      "97500 2020-12-09 03:18:39.806644 nb lignes traitees : 110365\n",
      "98000 2020-12-09 03:19:14.414065 nb lignes traitees : 110419\n",
      "98500 2020-12-09 03:20:01.579892 nb lignes traitees : 110492\n",
      "99000 2020-12-09 03:20:43.465863 nb lignes traitees : 110554\n",
      "99500 2020-12-09 03:21:22.062612 nb lignes traitees : 110610\n",
      "100000 2020-12-09 03:22:04.829187 nb lignes traitees : 110672\n",
      "100500 2020-12-09 03:22:39.582241 nb lignes traitees : 110719\n",
      "101000 2020-12-09 03:23:19.643073 nb lignes traitees : 110776\n",
      "101500 2020-12-09 03:23:54.828946 nb lignes traitees : 110822\n",
      "102000 2020-12-09 03:24:38.306642 nb lignes traitees : 110885\n",
      "102500 2020-12-09 03:25:23.547615 nb lignes traitees : 110948\n",
      "103000 2020-12-09 03:26:07.389334 nb lignes traitees : 111015\n",
      "103500 2020-12-09 03:26:51.994011 nb lignes traitees : 111080\n",
      "104000 2020-12-09 03:27:32.545533 nb lignes traitees : 111136\n",
      "104500 2020-12-09 03:28:18.085687 nb lignes traitees : 111195\n",
      "105000 2020-12-09 03:29:09.548040 nb lignes traitees : 111263\n",
      "105500 2020-12-09 03:29:55.286686 nb lignes traitees : 111321\n",
      "106000 2020-12-09 03:30:41.090155 nb lignes traitees : 111384\n",
      "106500 2020-12-09 03:31:23.390998 nb lignes traitees : 111441\n",
      "107000 2020-12-09 03:32:17.398523 nb lignes traitees : 111516\n",
      "107500 2020-12-09 03:32:59.046108 nb lignes traitees : 111574\n",
      "108000 2020-12-09 03:33:45.970582 nb lignes traitees : 111637\n",
      "108500 2020-12-09 03:34:23.926045 nb lignes traitees : 111687\n",
      "109000 2020-12-09 03:35:09.589870 nb lignes traitees : 111744\n",
      "109500 2020-12-09 03:35:45.673366 nb lignes traitees : 111787\n",
      "110000 2020-12-09 03:36:34.814906 nb lignes traitees : 111850\n",
      "110500 2020-12-09 03:37:20.696147 nb lignes traitees : 111906\n",
      "111000 2020-12-09 03:37:57.872696 nb lignes traitees : 111949\n",
      "111500 2020-12-09 03:38:41.567806 nb lignes traitees : 112003\n",
      "112000 2020-12-09 03:39:12.940901 nb lignes traitees : 112039\n"
     ]
    }
   ],
   "source": [
    "df_affectation, dico_erreur, lignes_traitees, lignes_non_traitees=regrouper_troncon(\n",
    "    list_id_ign, df_avec_rd_pt, carac_rd_pt,df2_chaussees,[])"
   ]
  },
  {
   "cell_type": "code",
   "execution_count": 205,
   "metadata": {},
   "outputs": [],
   "source": [
    "export=df_avec_rd_pt.merge(df_affectation, left_on='id_ign',right_on='id')[[\n",
    "    'id_ign','numero','codevoie_d','geom','idtronc']].to_file(r'D:\\Boulot\\AffairesEnCours\\OTV\\17\\temp_linearisation\\troncelem2019_Bdt17_ed19_l.shp')"
   ]
  },
  {
   "cell_type": "code",
   "execution_count": 204,
   "metadata": {},
   "outputs": [
    {
     "data": {
      "text/plain": [
       "['TRONROUT0000000032827719']"
      ]
     },
     "execution_count": 204,
     "metadata": {},
     "output_type": "execute_result"
    }
   ],
   "source": [
    "# analyser les erreurs\n",
    "[k for k, v in dico_erreur.items() if v!='ParralleleError']"
   ]
  },
  {
   "cell_type": "markdown",
   "metadata": {},
   "source": [
    "## 3.1 EXEMPLE SUR UNE LIGNE"
   ]
  },
  {
   "cell_type": "code",
   "execution_count": 191,
   "metadata": {},
   "outputs": [
    {
     "name": "stdout",
     "output_type": "stream",
     "text": [
      "0 2020-12-08 19:10:20.216625 nb lignes traitees : 0\n"
     ]
    },
    {
     "data": {
      "text/html": [
       "<div>\n",
       "<style scoped>\n",
       "    .dataframe tbody tr th:only-of-type {\n",
       "        vertical-align: middle;\n",
       "    }\n",
       "\n",
       "    .dataframe tbody tr th {\n",
       "        vertical-align: top;\n",
       "    }\n",
       "\n",
       "    .dataframe thead th {\n",
       "        text-align: right;\n",
       "    }\n",
       "</style>\n",
       "<table border=\"1\" class=\"dataframe\">\n",
       "  <thead>\n",
       "    <tr style=\"text-align: right;\">\n",
       "      <th></th>\n",
       "      <th>id</th>\n",
       "      <th>idtronc</th>\n",
       "    </tr>\n",
       "  </thead>\n",
       "  <tbody>\n",
       "    <tr>\n",
       "      <th>0</th>\n",
       "      <td>TRONROUT0000000032999202</td>\n",
       "      <td>0</td>\n",
       "    </tr>\n",
       "    <tr>\n",
       "      <th>1</th>\n",
       "      <td>TRONROUT0000000032999200</td>\n",
       "      <td>0</td>\n",
       "    </tr>\n",
       "    <tr>\n",
       "      <th>2</th>\n",
       "      <td>TRONROUT0000000032999198</td>\n",
       "      <td>0</td>\n",
       "    </tr>\n",
       "    <tr>\n",
       "      <th>3</th>\n",
       "      <td>TRONROUT0000000273363048</td>\n",
       "      <td>0</td>\n",
       "    </tr>\n",
       "    <tr>\n",
       "      <th>4</th>\n",
       "      <td>TRONROUT0000000032999215</td>\n",
       "      <td>0</td>\n",
       "    </tr>\n",
       "    <tr>\n",
       "      <th>5</th>\n",
       "      <td>TRONROUT0000000353890775</td>\n",
       "      <td>0</td>\n",
       "    </tr>\n",
       "    <tr>\n",
       "      <th>6</th>\n",
       "      <td>TRONROUT0000000032999158</td>\n",
       "      <td>0</td>\n",
       "    </tr>\n",
       "    <tr>\n",
       "      <th>7</th>\n",
       "      <td>TRONROUT0000000353890776</td>\n",
       "      <td>0</td>\n",
       "    </tr>\n",
       "    <tr>\n",
       "      <th>8</th>\n",
       "      <td>TRONROUT0000000032999196</td>\n",
       "      <td>0</td>\n",
       "    </tr>\n",
       "    <tr>\n",
       "      <th>9</th>\n",
       "      <td>TRONROUT0000000333968675</td>\n",
       "      <td>0</td>\n",
       "    </tr>\n",
       "  </tbody>\n",
       "</table>\n",
       "</div>"
      ],
      "text/plain": [
       "                         id  idtronc\n",
       "0  TRONROUT0000000032999202        0\n",
       "1  TRONROUT0000000032999200        0\n",
       "2  TRONROUT0000000032999198        0\n",
       "3  TRONROUT0000000273363048        0\n",
       "4  TRONROUT0000000032999215        0\n",
       "5  TRONROUT0000000353890775        0\n",
       "6  TRONROUT0000000032999158        0\n",
       "7  TRONROUT0000000353890776        0\n",
       "8  TRONROUT0000000032999196        0\n",
       "9  TRONROUT0000000333968675        0"
      ]
     },
     "execution_count": 191,
     "metadata": {},
     "output_type": "execute_result"
    }
   ],
   "source": [
    "df_affectation2, dico_erreur2, lignes_traitees2, lignes_non_traitees2=regrouper_troncon(\n",
    "    ['TRONROUT0000000353890775'], df_avec_rd_pt, carac_rd_pt,df2_chaussees,[])\n",
    "df_affectation2"
   ]
  },
  {
   "cell_type": "markdown",
   "metadata": {},
   "source": [
    "## 3.2 CORRECTIONS DES CAS PARTICULIERS"
   ]
  },
  {
   "cell_type": "code",
   "execution_count": 60,
   "metadata": {},
   "outputs": [],
   "source": [
    "#creer la synth des trcon_elem\n",
    "tronc_elem_synth=carac_te(df_avec_rd_pt, df_affectation)"
   ]
  },
  {
   "cell_type": "code",
   "execution_count": 62,
   "metadata": {},
   "outputs": [],
   "source": [
    "#creer la coquille qui va etre mise à jour\n",
    "df_affectation_upd=creer_MaJ_te(df_affectation)"
   ]
  },
  {
   "cell_type": "markdown",
   "metadata": {},
   "source": [
    "### 3.2.1 Bretelles"
   ]
  },
  {
   "cell_type": "code",
   "execution_count": 65,
   "metadata": {},
   "outputs": [],
   "source": [
    "# table de corespondance\n",
    "corresp_bret=corresp_te_bretelle(df_lignes, tronc_elem_synth, 75)\n",
    "#mise à jour\n",
    "MaJ_te(df_affectation_upd, corresp_bret, 'Bretelle')"
   ]
  },
  {
   "cell_type": "markdown",
   "metadata": {},
   "source": [
    "### 3.2.2 arrivée de rd point isolée\n",
    "exemple : TRONROUT0000000112535635"
   ]
  },
  {
   "cell_type": "code",
   "execution_count": 72,
   "metadata": {},
   "outputs": [
    {
     "ename": "ValueError",
     "evalue": "Cannot index with multidimensional key",
     "output_type": "error",
     "traceback": [
      "\u001b[1;31m---------------------------------------------------------------------------\u001b[0m",
      "\u001b[1;31mValueError\u001b[0m                                Traceback (most recent call last)",
      "\u001b[1;32m<ipython-input-72-baeaccebdf2a>\u001b[0m in \u001b[0;36m<module>\u001b[1;34m\u001b[0m\n\u001b[1;32m----> 1\u001b[1;33m \u001b[0mcorresp_entree_rdpt\u001b[0m\u001b[1;33m=\u001b[0m\u001b[0mcorresp_te_arrive_rdpt\u001b[0m\u001b[1;33m(\u001b[0m\u001b[0mcarac_rd_pt\u001b[0m\u001b[1;33m,\u001b[0m\u001b[0mdf_avec_rd_pt\u001b[0m\u001b[1;33m,\u001b[0m\u001b[0mtronc_elem_synth\u001b[0m\u001b[1;33m)\u001b[0m\u001b[1;33m\u001b[0m\u001b[0m\n\u001b[0m\u001b[0;32m      2\u001b[0m \u001b[1;31m#mise à jour\u001b[0m\u001b[1;33m\u001b[0m\u001b[1;33m\u001b[0m\u001b[0m\n\u001b[0;32m      3\u001b[0m \u001b[0mMaJ_te\u001b[0m\u001b[1;33m(\u001b[0m\u001b[0mdf_affectation_upd\u001b[0m\u001b[1;33m,\u001b[0m \u001b[0mcorresp_entree_rdpt\u001b[0m\u001b[1;33m,\u001b[0m \u001b[1;34m'entree_rd_pt'\u001b[0m\u001b[1;33m)\u001b[0m\u001b[1;33m\u001b[0m\u001b[0m\n",
      "\u001b[1;32m~\\git\\otv\\otv\\Transfert_Donnees\\Base_BdTopo\\Regroupement_correspondance.py\u001b[0m in \u001b[0;36mcorresp_te_arrive_rdpt\u001b[1;34m(carac_rd_pt, df_avec_rd_pt, tronc_elem_synth)\u001b[0m\n\u001b[0;32m    214\u001b[0m     \u001b[0mcross_join_tot\u001b[0m\u001b[1;33m=\u001b[0m\u001b[0mcross_join_filtre\u001b[0m\u001b[1;33m.\u001b[0m\u001b[0mmerge\u001b[0m\u001b[1;33m(\u001b[0m\u001b[0mdf_avec_rd_pt\u001b[0m\u001b[1;33m[\u001b[0m\u001b[1;33m[\u001b[0m\u001b[1;34m'id_ign'\u001b[0m\u001b[1;33m,\u001b[0m \u001b[1;34m'source'\u001b[0m\u001b[1;33m,\u001b[0m\u001b[1;34m'target'\u001b[0m\u001b[1;33m]\u001b[0m\u001b[1;33m]\u001b[0m\u001b[1;33m,\u001b[0m \u001b[0mleft_on\u001b[0m\u001b[1;33m=\u001b[0m\u001b[1;34m'id_ign_x'\u001b[0m\u001b[1;33m,\u001b[0m \u001b[0mright_on\u001b[0m\u001b[1;33m=\u001b[0m\u001b[1;34m'id_ign'\u001b[0m\u001b[1;33m)\u001b[0m\u001b[1;33m.\u001b[0m\u001b[0mmerge\u001b[0m\u001b[1;33m(\u001b[0m\u001b[0mdf_avec_rd_pt\u001b[0m\u001b[1;33m[\u001b[0m\u001b[1;33m[\u001b[0m\u001b[1;34m'id_ign'\u001b[0m\u001b[1;33m,\u001b[0m \u001b[1;34m'source'\u001b[0m\u001b[1;33m,\u001b[0m\u001b[1;34m'target'\u001b[0m\u001b[1;33m]\u001b[0m\u001b[1;33m]\u001b[0m\u001b[1;33m,\u001b[0m \u001b[0mleft_on\u001b[0m\u001b[1;33m=\u001b[0m\u001b[1;34m'id_ign_y'\u001b[0m\u001b[1;33m,\u001b[0m \u001b[0mright_on\u001b[0m\u001b[1;33m=\u001b[0m\u001b[1;34m'id_ign'\u001b[0m\u001b[1;33m)\u001b[0m\u001b[1;33m\u001b[0m\u001b[0m\n\u001b[0;32m    215\u001b[0m     \u001b[0mcross_join_tot\u001b[0m\u001b[1;33m.\u001b[0m\u001b[0mdrop\u001b[0m\u001b[1;33m(\u001b[0m\u001b[1;33m[\u001b[0m\u001b[1;34m'id_ign_x'\u001b[0m\u001b[1;33m,\u001b[0m\u001b[1;34m'id_ign_y'\u001b[0m\u001b[1;33m]\u001b[0m\u001b[1;33m,\u001b[0m\u001b[0maxis\u001b[0m\u001b[1;33m=\u001b[0m\u001b[1;36m1\u001b[0m\u001b[1;33m,\u001b[0m\u001b[0minplace\u001b[0m\u001b[1;33m=\u001b[0m\u001b[1;32mTrue\u001b[0m\u001b[1;33m)\u001b[0m\u001b[1;33m\u001b[0m\u001b[0m\n\u001b[1;32m--> 216\u001b[1;33m     \u001b[0mlign_tch\u001b[0m\u001b[1;33m=\u001b[0m\u001b[0mcross_join_tot\u001b[0m\u001b[1;33m.\u001b[0m\u001b[0mloc\u001b[0m\u001b[1;33m[\u001b[0m\u001b[0mcross_join_tot\u001b[0m\u001b[1;33m.\u001b[0m\u001b[0mapply\u001b[0m\u001b[1;33m(\u001b[0m\u001b[1;32mlambda\u001b[0m \u001b[0mx\u001b[0m \u001b[1;33m:\u001b[0m \u001b[0mx\u001b[0m\u001b[1;33m[\u001b[0m\u001b[1;34m'source_x'\u001b[0m\u001b[1;33m]\u001b[0m \u001b[1;32min\u001b[0m \u001b[1;33m[\u001b[0m\u001b[0mx\u001b[0m\u001b[1;33m[\u001b[0m\u001b[1;34m'source_y'\u001b[0m\u001b[1;33m]\u001b[0m\u001b[1;33m,\u001b[0m \u001b[0mx\u001b[0m\u001b[1;33m[\u001b[0m\u001b[1;34m'target_y'\u001b[0m\u001b[1;33m]\u001b[0m\u001b[1;33m]\u001b[0m \u001b[1;32mor\u001b[0m \u001b[0mx\u001b[0m\u001b[1;33m[\u001b[0m\u001b[1;34m'target_x'\u001b[0m\u001b[1;33m]\u001b[0m \u001b[1;32min\u001b[0m \u001b[1;33m[\u001b[0m\u001b[0mx\u001b[0m\u001b[1;33m[\u001b[0m\u001b[1;34m'source_y'\u001b[0m\u001b[1;33m]\u001b[0m\u001b[1;33m,\u001b[0m \u001b[0mx\u001b[0m\u001b[1;33m[\u001b[0m\u001b[1;34m'target_y'\u001b[0m\u001b[1;33m]\u001b[0m\u001b[1;33m]\u001b[0m\u001b[1;33m,\u001b[0m\u001b[0maxis\u001b[0m\u001b[1;33m=\u001b[0m\u001b[1;36m1\u001b[0m\u001b[1;33m)\u001b[0m\u001b[1;33m]\u001b[0m\u001b[1;33m\u001b[0m\u001b[0m\n\u001b[0m\u001b[0;32m    217\u001b[0m     \u001b[1;31m#supprimer les doublons et formatter la tablede correspondance\u001b[0m\u001b[1;33m\u001b[0m\u001b[1;33m\u001b[0m\u001b[0m\n\u001b[0;32m    218\u001b[0m     \u001b[0mcorresp_entree_rdpt\u001b[0m\u001b[1;33m=\u001b[0m\u001b[0mlign_tch\u001b[0m\u001b[1;33m.\u001b[0m\u001b[0mdrop_duplicates\u001b[0m\u001b[1;33m(\u001b[0m\u001b[1;34m'id_rdpt'\u001b[0m\u001b[1;33m)\u001b[0m\u001b[1;33m[\u001b[0m\u001b[1;33m[\u001b[0m\u001b[1;34m'idtronc_x'\u001b[0m\u001b[1;33m,\u001b[0m\u001b[1;34m'idtronc_y'\u001b[0m\u001b[1;33m]\u001b[0m\u001b[1;33m]\u001b[0m\u001b[1;33m.\u001b[0m\u001b[0mset_index\u001b[0m\u001b[1;33m(\u001b[0m\u001b[1;34m'idtronc_x'\u001b[0m\u001b[1;33m)\u001b[0m\u001b[1;33m\u001b[0m\u001b[0m\n",
      "\u001b[1;32mc:\\users\\martin.schoreisz\\appdata\\local\\programs\\python\\python37\\lib\\site-packages\\pandas\\core\\indexing.py\u001b[0m in \u001b[0;36m__getitem__\u001b[1;34m(self, key)\u001b[0m\n\u001b[0;32m   1498\u001b[0m \u001b[1;33m\u001b[0m\u001b[0m\n\u001b[0;32m   1499\u001b[0m             \u001b[0mmaybe_callable\u001b[0m \u001b[1;33m=\u001b[0m \u001b[0mcom\u001b[0m\u001b[1;33m.\u001b[0m\u001b[0mapply_if_callable\u001b[0m\u001b[1;33m(\u001b[0m\u001b[0mkey\u001b[0m\u001b[1;33m,\u001b[0m \u001b[0mself\u001b[0m\u001b[1;33m.\u001b[0m\u001b[0mobj\u001b[0m\u001b[1;33m)\u001b[0m\u001b[1;33m\u001b[0m\u001b[0m\n\u001b[1;32m-> 1500\u001b[1;33m             \u001b[1;32mreturn\u001b[0m \u001b[0mself\u001b[0m\u001b[1;33m.\u001b[0m\u001b[0m_getitem_axis\u001b[0m\u001b[1;33m(\u001b[0m\u001b[0mmaybe_callable\u001b[0m\u001b[1;33m,\u001b[0m \u001b[0maxis\u001b[0m\u001b[1;33m=\u001b[0m\u001b[0maxis\u001b[0m\u001b[1;33m)\u001b[0m\u001b[1;33m\u001b[0m\u001b[0m\n\u001b[0m\u001b[0;32m   1501\u001b[0m \u001b[1;33m\u001b[0m\u001b[0m\n\u001b[0;32m   1502\u001b[0m     \u001b[1;32mdef\u001b[0m \u001b[0m_is_scalar_access\u001b[0m\u001b[1;33m(\u001b[0m\u001b[0mself\u001b[0m\u001b[1;33m,\u001b[0m \u001b[0mkey\u001b[0m\u001b[1;33m)\u001b[0m\u001b[1;33m:\u001b[0m\u001b[1;33m\u001b[0m\u001b[0m\n",
      "\u001b[1;32mc:\\users\\martin.schoreisz\\appdata\\local\\programs\\python\\python37\\lib\\site-packages\\pandas\\core\\indexing.py\u001b[0m in \u001b[0;36m_getitem_axis\u001b[1;34m(self, key, axis)\u001b[0m\n\u001b[0;32m   1898\u001b[0m \u001b[1;33m\u001b[0m\u001b[0m\n\u001b[0;32m   1899\u001b[0m                 \u001b[1;32mif\u001b[0m \u001b[0mhasattr\u001b[0m\u001b[1;33m(\u001b[0m\u001b[0mkey\u001b[0m\u001b[1;33m,\u001b[0m \u001b[1;34m'ndim'\u001b[0m\u001b[1;33m)\u001b[0m \u001b[1;32mand\u001b[0m \u001b[0mkey\u001b[0m\u001b[1;33m.\u001b[0m\u001b[0mndim\u001b[0m \u001b[1;33m>\u001b[0m \u001b[1;36m1\u001b[0m\u001b[1;33m:\u001b[0m\u001b[1;33m\u001b[0m\u001b[0m\n\u001b[1;32m-> 1900\u001b[1;33m                     \u001b[1;32mraise\u001b[0m \u001b[0mValueError\u001b[0m\u001b[1;33m(\u001b[0m\u001b[1;34m'Cannot index with multidimensional key'\u001b[0m\u001b[1;33m)\u001b[0m\u001b[1;33m\u001b[0m\u001b[0m\n\u001b[0m\u001b[0;32m   1901\u001b[0m \u001b[1;33m\u001b[0m\u001b[0m\n\u001b[0;32m   1902\u001b[0m                 \u001b[1;32mreturn\u001b[0m \u001b[0mself\u001b[0m\u001b[1;33m.\u001b[0m\u001b[0m_getitem_iterable\u001b[0m\u001b[1;33m(\u001b[0m\u001b[0mkey\u001b[0m\u001b[1;33m,\u001b[0m \u001b[0maxis\u001b[0m\u001b[1;33m=\u001b[0m\u001b[0maxis\u001b[0m\u001b[1;33m)\u001b[0m\u001b[1;33m\u001b[0m\u001b[0m\n",
      "\u001b[1;31mValueError\u001b[0m: Cannot index with multidimensional key"
     ]
    }
   ],
   "source": [
    "corresp_entree_rdpt=corresp_te_arrive_rdpt(carac_rd_pt,df_avec_rd_pt,tronc_elem_synth)\n",
    "#mise à jour\n",
    "MaJ_te(df_affectation_upd, corresp_entree_rdpt, 'entree_rd_pt')"
   ]
  },
  {
   "cell_type": "code",
   "execution_count": 71,
   "metadata": {},
   "outputs": [
    {
     "ename": "NameError",
     "evalue": "name 'corresp_entree_rdpt' is not defined",
     "output_type": "error",
     "traceback": [
      "\u001b[1;31m---------------------------------------------------------------------------\u001b[0m",
      "\u001b[1;31mNameError\u001b[0m                                 Traceback (most recent call last)",
      "\u001b[1;32m<ipython-input-71-03bce7f48ccf>\u001b[0m in \u001b[0;36m<module>\u001b[1;34m\u001b[0m\n\u001b[1;32m----> 1\u001b[1;33m \u001b[0mcorresp_entree_rdpt\u001b[0m\u001b[1;33m\u001b[0m\u001b[0m\n\u001b[0m",
      "\u001b[1;31mNameError\u001b[0m: name 'corresp_entree_rdpt' is not defined"
     ]
    }
   ],
   "source": [
    "corresp_entree_rdpt"
   ]
  },
  {
   "cell_type": "markdown",
   "metadata": {},
   "source": [
    "### 3.2.3 petit troncon\n",
    "- la df de correspondance est faite, il faut maintenant fair les corrections et pouvoir les tracer"
   ]
  },
  {
   "cell_type": "code",
   "execution_count": 67,
   "metadata": {},
   "outputs": [],
   "source": [
    "corresp_petit_tronc=corresp_petit_tronc(df_lignes,df_affectation,tronc_elem_synth)"
   ]
  },
  {
   "cell_type": "code",
   "execution_count": 68,
   "metadata": {},
   "outputs": [],
   "source": [
    "#mise à jour\n",
    "MaJ_te(df_affectation_upd, corresp_petit_tronc, 'petit_troncon')"
   ]
  },
  {
   "cell_type": "markdown",
   "metadata": {},
   "source": [
    "## 3.3 4.4 Maj tronc_elem finale\n",
    "A VERIFIER"
   ]
  },
  {
   "cell_type": "code",
   "execution_count": 38,
   "metadata": {},
   "outputs": [],
   "source": [
    "df_lignes_fin=df_lignes.reset_index().copy()\n",
    "if not 'id_tronc_elem' in df_lignes_fin.columns : \n",
    "    df_lignes_fin=df_lignes_fin.merge(df_affectation_upd[['id','idtronc_y']], left_on='id_ign', right_on='id').rename(columns={'idtronc_y':'id_tronc_elem'})\n",
    "else : \n",
    "    df_lignes_fin.update(df_affectation_upd.reset_index().set_index('id').rename(columns={'idtronc_y':'id_tronc_elem'}))"
   ]
  },
  {
   "cell_type": "code",
   "execution_count": 42,
   "metadata": {},
   "outputs": [],
   "source": [
    "#export\n",
    "df_lignes_fin[['geom', 'id_ign', 'nature', 'numero', 'importance', 'cl_admin',\n",
    "       'gestion', 'mise_serv', 'fictif', 'franchisst', 'largeur', 'z_ini',\n",
    "       'z_fin', 'nb_voies', 'sens', 'etat', 'long_km', 'coment_cpt', 'src_cpt',\n",
    "       'id_comptag', 'obs_supl', 'ann_pt', 'coment_tmj', 'tmja', 'tmja_final',\n",
    "       'pc_pl', 'obs_tmja', 'obs_pc_pl', 'type_vdf',\n",
    "       'veh_km', 'id_cpt1', 'id_cpt2', 'obs_tmj1', 'obs_tmj2', 'id_sect',\n",
    "       'src_sect', 'autor_sect', 'codau_cat', 'milieu', 'vts_vl_vdf',\n",
    "       'vts_pl_vdf', 'vts_gest', 'obs_vts', 'vts_osm', 'vts_modif', 'vts_vl_f',\n",
    "       'vts_pl_f', 'codau', 'codau_cont', 'tmja_cont', 'pc_pl_cont', 'source',\n",
    "       'target', 'recup', 'attr_modif', 'codevoie_d', 'id_tronc_elem',\n",
    "       'nb_intrsct_src', 'src_geom', 'nb_intrsct_tgt', 'tgt_geom', 'id_rdpt',\n",
    "       'nb_rte_rdpt', 'nb_obj_sig_entrant']].reset_index().to_file(r'Q:\\DAIT\\TI\\DREAL33\\2018\\C18SA00003_OTR-linearisation_NA_(JM)\\Production\\Travail\\Donnees_produites\\fichiers_temp_travail\\troncelem2016_Bdt17_ed16_l.shp')"
   ]
  },
  {
   "cell_type": "markdown",
   "metadata": {},
   "source": [
    "# 4. Creer graph (EN CHANTIER)\n",
    "- en premier on traite les cas particuliers  : beretelles, petits troncons, arrivé de rd point isolée\n",
    "- on cerche a creer une df avec tronc_elem|tronc_ign|src_elem|tgt_elem\n",
    "- il faudrait un filtre sur les petits troncon entre 2 grands et les associer aux grands\n",
    "- il faudrait regrouper les bretelles aussi"
   ]
  },
  {
   "cell_type": "markdown",
   "metadata": {},
   "source": [
    "## 4.5 sources et target regroupes"
   ]
  },
  {
   "cell_type": "code",
   "execution_count": 28,
   "metadata": {},
   "outputs": [],
   "source": [
    "def creer_noeud_tronc_elem(df_lignes,ligne_base,df_affectation ):\n",
    "    \"\"\"\n",
    "    associer des tronc elem a des noeud représentatif pour créer un graph\n",
    "    en entree : \n",
    "        df_lignes df des lignes bdtopo avec rd point et index=id_ign\n",
    "        ligne_base : df des lignes constituant le tronc elem. issus de df_lignes\n",
    "        df_affectation : df de correspondance id_ign idtronc_elem, issu de regrouper_troncon\n",
    "    en sortie : \n",
    "        noeuds_fin : df avec index = noeud_unique (int) et idtronc)=tuple des idtroncelem qui touchent ce noeud\n",
    "        coresp_te_noeud : toute les correspondances noeud-lignes\n",
    "        noeud_uniq : list edes noeud de fin de tronc elem\n",
    "    \"\"\"\n",
    "    noeud_uniq=[k for k,v in Counter(ligne_base.source.tolist()+ligne_base.target.tolist()).items() if v==1]\n",
    "    df_noeud_unique=pd.DataFrame(noeud_uniq, columns=['noeud_uniq'])\n",
    "    lgn_tch_noeud_uniq=df_lignes.loc[((df_lignes['source'].isin(noeud_uniq)) | (df_lignes['target'].isin(noeud_uniq))) & (~df_lignes.index.isin(ligne_base.index.tolist()))].copy()\n",
    "    # trouver les correspondance avec doublons de noeud possible et une ligne par corresp\n",
    "    coresp_ligne_noeud=pd.concat(\n",
    "        [lgn_tch_noeud_uniq.reset_index().merge(df_noeud_unique, left_on='source', right_on='noeud_uniq')[['id_ign','noeud_uniq']],\n",
    "         lgn_tch_noeud_uniq.reset_index().merge(df_noeud_unique, left_on='target', right_on='noeud_uniq')[['id_ign','noeud_uniq']]],axis=0)\n",
    "    #rapatriementdes ifos de longueur du tronc_elem\n",
    "    coresp_te_noeud=coresp_ligne_noeud.merge(df_affectation, left_on='id_ign', right_on='id')[['id_ign','noeud_uniq','idtronc']].merge(tronc_elem_synth[\n",
    "        ['long']],left_on='idtronc', right_index=True).rename(columns={'long' : 'long_te'})\n",
    "    noeuds_fin=coresp_te_noeud.sort_values('noeud_uniq').groupby('noeud_uniq').agg({'idtronc':lambda x : tuple(set(x))})\n",
    "    noeuds_fin=noeuds_fin.drop_duplicates('idtronc')\n",
    "\n",
    "    # pour info si plus de 2 boeuds uniques alors il faut filtrer les non représentatif\n",
    "    if len(noeuds_fin)>2 :\n",
    "        coresp_te_noeud_filtre_lg=coresp_te_noeud.loc[coresp_te_noeud['long_te']>50] #on ne garde pas les tout petit tronc\n",
    "        coresp_te_noeud_grp=coresp_te_noeud_filtre_lg.sort_values('noeud_uniq').groupby('noeud_uniq').agg(\n",
    "            {'idtronc':lambda x : tuple(set(x)),'long_te':lambda x : tuple(set(x))})\n",
    "        noeuds_fin=coresp_te_noeud_grp.loc[~coresp_te_noeud_grp.apply(lambda x : len(x['idtronc'])==1 ,axis=1)].copy()\n",
    "        return noeuds_fin,coresp_te_noeud_grp, noeud_uniq # on pourrait creer une erreur pour ca\n",
    "    return noeuds_fin,coresp_te_noeud, noeud_uniq"
   ]
  },
  {
   "cell_type": "code",
   "execution_count": 12,
   "metadata": {},
   "outputs": [],
   "source": [
    "def tronc_elem_rdpt(num_rdpt, df_affectation,df_lignes):\n",
    "    \"\"\"\n",
    "    Trouver les tronc_elem qui se rejoigne à un rd point, identifier par un noeud\n",
    "    en entree : \n",
    "       num_rdpt : integer,  id_rdpt de carac_rdpt\n",
    "       df_affectation : df de correspondance id_ign idtronc_elem, issu de regrouper_troncon\n",
    "       df_lignes df des lignes bdtopo avec rd point et index=id_ign\n",
    "    en sortie : \n",
    "        df_rdpt_tronc_elem : df avec en index le noeud caracteristique du rd et en data un tuple des tronc_elem arrivant\n",
    "    \"\"\"\n",
    "    tronc_elem_entrant=df_affectation.loc[(df_affectation.id.isin(df_lignes.loc[list(carac_rd_pt.loc[num_rdpt].id_ign_entrant)].index.tolist())) \n",
    "                                              & (df_affectation['idtronc']!=num_tronc)].copy()#trouver les tronc_elem qui touchent\n",
    "    #affectation arbitraire du rd poit à un noeud le composant \n",
    "    noeud_uniq_rdpt=df_lignes.loc[carac_rd_pt.loc[num_rdpt]['id_ign_rdpt'][0]]['source']\n",
    "    tronc_elem_entrant['noeud_uniq']=noeud_uniq_rdpt\n",
    "    #creer une df de mm structure qu noeuds_fin\n",
    "    df_rdpt_tronc_elem=tronc_elem_entrant.groupby('noeud_uniq').agg({'idtronc':lambda x : tuple(set(x))})\n",
    "    return df_rdpt_tronc_elem"
   ]
  },
  {
   "cell_type": "code",
   "execution_count": 67,
   "metadata": {},
   "outputs": [],
   "source": [
    "def tronc_elem_rd_pt_global (nb_rdpt, ligne_base,num_rdpt, df_affectation,df_lignes) : \n",
    "    \"\"\"\n",
    "    adaptation de la fonction tronc_elem_rdpt selon le nombre de rdpt du tronc_elem\n",
    "    en entree : \n",
    "        nb_rdpt : integer : nombre de rdpt significatifs\n",
    "        ligne_base : df des lignes constituant le tronc elem. issus de df_lignes\n",
    "        num_rdpt : list d'integer,  id_rdpt de carac_rdpt\n",
    "        df_affectation : df de correspondance id_ign idtronc_elem, issu de regrouper_troncon\n",
    "        df_lignes df des lignes bdtopo avec rd point et index=id_ign\n",
    "    en sortie : \n",
    "        \n",
    "    \"\"\"\n",
    "    if nb_rdpt==1: # dans ce cas il y a un rdpt qui ferme le troncon d'un coté. On commence par le coté ss rdpt\n",
    "        noeuds_fin=creer_noeud_tronc_elem(df_lignes,ligne_base,df_affectation )[0]\n",
    "        #puis le cote avec rd_pt : on cherche les troncs elem qui arriven\n",
    "        df_rdpt_tronc_elem=tronc_elem_rdpt(num_rdpt[0], df_affectation,df_lignes)\n",
    "        #agreg\n",
    "        noeuds_fin=pd.concat([noeuds_fin, df_rdpt_tronc_elem], axis=0, sort=False)\n",
    "    elif nb_rdpt==2 : # adns ce cas il faut trouver les correspondances pour chaque rd pt\n",
    "        corresp1=tronc_elem_rdpt(num_rdpt[0], df_affectation,df_lignes)\n",
    "        corresp2=tronc_elem_rdpt(num_rdpt[1], df_affectation,df_lignes)\n",
    "        noeuds_fin=pd.concat([corresp1, corresp2],axis=0)\n",
    "    return noeuds_fin"
   ]
  },
  {
   "cell_type": "code",
   "execution_count": 95,
   "metadata": {},
   "outputs": [
    {
     "name": "stdout",
     "output_type": "stream",
     "text": [
      "nb lignes traitees 0, heure : <built-in method now of type object at 0x00007FFEAC903D60>, tronc :0\n",
      "5 deja renseigne\n",
      "5 deja renseigne\n",
      "8 deja renseigne\n",
      "8 deja renseigne\n",
      "erreur sur troncon 6337, df noeud :                   idtronc                                  long_te\n",
      "noeud_uniq                                                       \n",
      "66001       (11016, 500)  (353.78757309698466, 5467.885551698945)\n",
      "72616       (10875, 500)   (5467.885551698945, 309.6104307447416)\n",
      "73237       (1892, 8853)   (3097.05124851706, 423.14520467961364)\n",
      "83740       (2354, 1892)    (3097.05124851706, 361.3033189049768)\n"
     ]
    },
    {
     "ename": "KeyError",
     "evalue": "2",
     "output_type": "error",
     "traceback": [
      "\u001b[1;31m---------------------------------------------------------------------------\u001b[0m",
      "\u001b[1;31mKeyError\u001b[0m                                  Traceback (most recent call last)",
      "\u001b[1;32m<ipython-input-95-46e789362200>\u001b[0m in \u001b[0;36m<module>\u001b[1;34m\u001b[0m\n\u001b[0;32m     47\u001b[0m         \u001b[1;32mif\u001b[0m \u001b[0mi\u001b[0m \u001b[1;33m>=\u001b[0m \u001b[1;36m2\u001b[0m \u001b[1;33m:\u001b[0m\u001b[1;33m\u001b[0m\u001b[0m\n\u001b[0;32m     48\u001b[0m             \u001b[0mprint\u001b[0m\u001b[1;33m(\u001b[0m\u001b[1;34mf'erreur sur troncon {num_tronc}, df noeud :  {noeuds_fin}'\u001b[0m\u001b[1;33m)\u001b[0m\u001b[1;33m\u001b[0m\u001b[0m\n\u001b[1;32m---> 49\u001b[1;33m         \u001b[0mgroup_idtronc\u001b[0m\u001b[1;33m.\u001b[0m\u001b[0mloc\u001b[0m\u001b[1;33m[\u001b[0m\u001b[0mnum_tronc\u001b[0m\u001b[1;33m,\u001b[0m \u001b[0mdico_attribut\u001b[0m\u001b[1;33m[\u001b[0m\u001b[0mi\u001b[0m\u001b[1;33m]\u001b[0m\u001b[1;33m]\u001b[0m\u001b[1;33m=\u001b[0m\u001b[0mnoeuds_fin\u001b[0m\u001b[1;33m.\u001b[0m\u001b[0mindex\u001b[0m\u001b[1;33m.\u001b[0m\u001b[0mvalues\u001b[0m\u001b[1;33m[\u001b[0m\u001b[0mi\u001b[0m\u001b[1;33m]\u001b[0m \u001b[1;31m#mise à jour des valuers de pour le troncon de base\u001b[0m\u001b[1;33m\u001b[0m\u001b[0m\n\u001b[0m\u001b[0;32m     50\u001b[0m         \u001b[0mgroup_idtronc\u001b[0m\u001b[1;33m.\u001b[0m\u001b[0mloc\u001b[0m\u001b[1;33m[\u001b[0m\u001b[0mnum_tronc\u001b[0m\u001b[1;33m,\u001b[0m \u001b[0mdico_attribut\u001b[0m\u001b[1;33m[\u001b[0m\u001b[0mi\u001b[0m\u001b[1;33m]\u001b[0m\u001b[1;33m]\u001b[0m\u001b[1;33m=\u001b[0m\u001b[0mnoeuds_fin\u001b[0m\u001b[1;33m.\u001b[0m\u001b[0mindex\u001b[0m\u001b[1;33m.\u001b[0m\u001b[0mvalues\u001b[0m\u001b[1;33m[\u001b[0m\u001b[0mi\u001b[0m\u001b[1;33m]\u001b[0m\u001b[1;33m\u001b[0m\u001b[0m\n\u001b[0;32m     51\u001b[0m     \u001b[1;32mfor\u001b[0m \u001b[0mnum_tronc_sup\u001b[0m \u001b[1;32min\u001b[0m \u001b[1;33m[\u001b[0m\u001b[0mx\u001b[0m \u001b[1;32mfor\u001b[0m \u001b[0my\u001b[0m \u001b[1;32min\u001b[0m \u001b[0mnoeuds_fin\u001b[0m\u001b[1;33m.\u001b[0m\u001b[0midtronc\u001b[0m\u001b[1;33m.\u001b[0m\u001b[0mtolist\u001b[0m\u001b[1;33m(\u001b[0m\u001b[1;33m)\u001b[0m \u001b[1;32mfor\u001b[0m \u001b[0mx\u001b[0m \u001b[1;32min\u001b[0m \u001b[0my\u001b[0m\u001b[1;33m]\u001b[0m \u001b[1;33m:\u001b[0m \u001b[1;31m#mise à jour des valeusr pour les autres troncons\u001b[0m\u001b[1;33m\u001b[0m\u001b[0m\n",
      "\u001b[1;31mKeyError\u001b[0m: 2"
     ]
    }
   ],
   "source": [
    "# à partir de df_affectation, je trouve les noeud qui ne sont présent qu'une fois\n",
    "#regroupement des lignes par idtronc et creation des futurs attributs de src et tgt\n",
    "group_idtronc=df_affectation.groupby('idtronc').agg({'id':lambda x : tuple(x)})\n",
    "group_idtronc['src_elem']=-1\n",
    "group_idtronc['tgt_elem']=-1\n",
    "#pour une ligne : retrouver les lignes de base\n",
    "\n",
    "for i,num_tronc in enumerate(df_affectation.idtronc.unique()) :\n",
    "    if i%1000==0 : \n",
    "        print(f'nb lignes traitees {i}, heure : {datetime.now}, tronc :{num_tronc}')\n",
    "    #num_tronc=68 #396 #3402 #206\n",
    "    ligne_base=df_lignes.loc[list(group_idtronc.loc[num_tronc].id)]\n",
    "\n",
    "    # Le pb c'est de gérer les rdpt qui termine un tronc elem. \n",
    "    #dc 1. combien de rd point dans le tronc eleme\n",
    "    nb_rdpt=ligne_base.id_rdpt.nunique()\n",
    "\n",
    "    #2. Gérer les différents cas du nb de rdpt \n",
    "    #si 0 : on va chercher les noeud qui n'apparaissent qu'une fois : ce son des fin de troncon elem\n",
    "    if nb_rdpt==0 :\n",
    "        noeuds_fin,synthese_croisement, noeud_uniq=creer_noeud_tronc_elem(df_lignes,ligne_base,df_affectation )\n",
    "    else :  #on attaque les cas en fonction du nombre de rdpt   \n",
    "        list_rdpt=ligne_base.loc[ligne_base['id_rdpt'].notna()].id_rdpt.unique()\n",
    "    #si 1 : ce rd point est-il en fin de trocnon ou non. C'est tarduit par le nb de route différentes qui intersectenet les rd point (attribut de carac_rd_pt)\n",
    "        if nb_rdpt==1 : \n",
    "            nb_voie_entrante=carac_rd_pt.loc[num_rdpt].nb_rte_rdpt\n",
    "            if nb_voie_entrante==1 : #ds ce cas c'est comme si pas de rdpt\n",
    "                noeuds_fin=creer_noeud_tronc_elem(df_lignes,ligne_base,df_affectation )[0]\n",
    "            else : \n",
    "                noeuds_fin=tronc_elem_rd_pt_global(nb_rdpt, ligne_base,list_rdpt, df_affectation,df_lignes)         \n",
    "        else : #si plusieurs rd pt\n",
    "            #il faut connaitre le nb de rd pt avec plusieurs voie entrante. sinon le max est 2 si plus que 2 alors erreur\n",
    "            tt_rdpt=carac_rd_pt.loc[list_rdpt] # tous les rd pt du tronc elem\n",
    "            rd_pt_multi_voie=tt_rdpt.loc[tt_rdpt['nb_rte_rdpt']>1].index.tolist() #que les multi voies\n",
    "            if len(rd_pt_multi_voie)==0 : # c'est le cas ss rdpt\n",
    "                noeuds_fin=creer_noeud_tronc_elem(df_lignes,ligne_base,df_affectation )[0] \n",
    "            elif len(rd_pt_multi_voie)==1 : # si 1 seul on revient sur le cas du dessus,\n",
    "                noeuds_fin=tronc_elem_rd_pt_global(1, ligne_base,rd_pt_multi_voie, df_affectation,df_lignes)\n",
    "            elif len(rd_pt_multi_voie)==2 : # adns ce cas il faut trouver les correspondances pour chaque rd pt\n",
    "                noeuds_fin=tronc_elem_rd_pt_global(2, ligne_base,rd_pt_multi_voie, df_affectation,df_lignes)\n",
    "            else : #alors c'est une erreur\n",
    "                print('erreur nb de rd point significatif, revoir le sectionnement')\n",
    "\n",
    "    #mettre à jour la df créée au départ : \n",
    "    dico_attribut={0:'src_elem', 1:'tgt_elem'}\n",
    "    for i in range(len(noeuds_fin)) : \n",
    "        if i >= 2 : \n",
    "            print(f'erreur sur troncon {num_tronc}, df noeud :  {noeuds_fin}')\n",
    "        group_idtronc.loc[num_tronc, dico_attribut[i]]=noeuds_fin.index.values[i] #mise à jour des valuers de pour le troncon de base\n",
    "        group_idtronc.loc[num_tronc, dico_attribut[i]]=noeuds_fin.index.values[i]\n",
    "    for num_tronc_sup in [x for y in noeuds_fin.idtronc.tolist() for x in y] : #mise à jour des valeusr pour les autres troncons\n",
    "        for i in range(len(noeuds_fin)) :\n",
    "            if group_idtronc.loc[num_tronc_sup][dico_attribut[0]]==-1 : \n",
    "                group_idtronc.loc[num_tronc_sup, dico_attribut[0]]=noeuds_fin.loc[noeuds_fin.apply(lambda x : num_tronc_sup in x['idtronc'],axis=1)].index.values[0]\n",
    "                break\n",
    "            elif group_idtronc.loc[num_tronc_sup][dico_attribut[1]]==-1 :\n",
    "                group_idtronc.loc[num_tronc_sup, dico_attribut[1]]=noeuds_fin.loc[noeuds_fin.apply(lambda x : num_tronc_sup in x['idtronc'],axis=1)].index.values[0]\n",
    "                break\n",
    "            else : \n",
    "                print(f'{num_tronc_sup} deja renseigne' )"
   ]
  },
  {
   "cell_type": "code",
   "execution_count": 82,
   "metadata": {},
   "outputs": [
    {
     "data": {
      "text/html": [
       "<div>\n",
       "<style scoped>\n",
       "    .dataframe tbody tr th:only-of-type {\n",
       "        vertical-align: middle;\n",
       "    }\n",
       "\n",
       "    .dataframe tbody tr th {\n",
       "        vertical-align: top;\n",
       "    }\n",
       "\n",
       "    .dataframe thead th {\n",
       "        text-align: right;\n",
       "    }\n",
       "</style>\n",
       "<table border=\"1\" class=\"dataframe\">\n",
       "  <thead>\n",
       "    <tr style=\"text-align: right;\">\n",
       "      <th></th>\n",
       "      <th>idtronc</th>\n",
       "    </tr>\n",
       "    <tr>\n",
       "      <th>noeud_uniq</th>\n",
       "      <th></th>\n",
       "    </tr>\n",
       "  </thead>\n",
       "  <tbody>\n",
       "    <tr>\n",
       "      <th>72297</th>\n",
       "      <td>(4504, 3713)</td>\n",
       "    </tr>\n",
       "    <tr>\n",
       "      <th>69869</th>\n",
       "      <td>(2741, 3005)</td>\n",
       "    </tr>\n",
       "  </tbody>\n",
       "</table>\n",
       "</div>"
      ],
      "text/plain": [
       "                 idtronc\n",
       "noeud_uniq              \n",
       "72297       (4504, 3713)\n",
       "69869       (2741, 3005)"
      ]
     },
     "execution_count": 82,
     "metadata": {},
     "output_type": "execute_result"
    }
   ],
   "source": [
    "noeuds_fin"
   ]
  },
  {
   "cell_type": "code",
   "execution_count": 47,
   "metadata": {},
   "outputs": [
    {
     "data": {
      "text/plain": [
       "noeud_uniq\n",
       "39594     True\n",
       "52060    False\n",
       "dtype: bool"
      ]
     },
     "execution_count": 47,
     "metadata": {},
     "output_type": "execute_result"
    }
   ],
   "source": [
    "noeuds_fin.apply(lambda x : num_tronc_sup in x['idtronc'],axis=1)"
   ]
  },
  {
   "cell_type": "code",
   "execution_count": 20,
   "metadata": {},
   "outputs": [
    {
     "data": {
      "text/html": [
       "<div>\n",
       "<style scoped>\n",
       "    .dataframe tbody tr th:only-of-type {\n",
       "        vertical-align: middle;\n",
       "    }\n",
       "\n",
       "    .dataframe tbody tr th {\n",
       "        vertical-align: top;\n",
       "    }\n",
       "\n",
       "    .dataframe thead th {\n",
       "        text-align: right;\n",
       "    }\n",
       "</style>\n",
       "<table border=\"1\" class=\"dataframe\">\n",
       "  <thead>\n",
       "    <tr style=\"text-align: right;\">\n",
       "      <th></th>\n",
       "      <th>idtronc</th>\n",
       "      <th>long_te</th>\n",
       "    </tr>\n",
       "    <tr>\n",
       "      <th>noeud_uniq</th>\n",
       "      <th></th>\n",
       "      <th></th>\n",
       "    </tr>\n",
       "  </thead>\n",
       "  <tbody>\n",
       "    <tr>\n",
       "      <th>9466</th>\n",
       "      <td>(938, 1563, 12422)</td>\n",
       "      <td>(445.15375219309715, 1054.161900553276, 431.0587952118286)</td>\n",
       "    </tr>\n",
       "  </tbody>\n",
       "</table>\n",
       "</div>"
      ],
      "text/plain": [
       "                       idtronc  \\\n",
       "noeud_uniq                       \n",
       "9466        (938, 1563, 12422)   \n",
       "\n",
       "                                                               long_te  \n",
       "noeud_uniq                                                              \n",
       "9466        (445.15375219309715, 1054.161900553276, 431.0587952118286)  "
      ]
     },
     "execution_count": 20,
     "metadata": {},
     "output_type": "execute_result"
    }
   ],
   "source": [
    "synthese_croisement.loc[~synthese_croisement.apply(lambda x : len(x['idtronc'])==1 ,axis=1)].copy()"
   ]
  },
  {
   "cell_type": "code",
   "execution_count": 328,
   "metadata": {},
   "outputs": [],
   "source": [
    "#mettre à jour la df créée au départ : \n",
    "group_idtronc.loc[num_tronc, 'src_elem']=noeuds_fin.index.values[0] #mise à jour des valuers de pour le troncon de base\n",
    "group_idtronc.loc[num_tronc, 'tgt_elem']=noeuds_fin.index.values[1]\n",
    "for num_tronc_sup in [x for y in noeuds_fin.idtronc.tolist() for x in y] : #mise à jour des valeusr pour les autres troncons\n",
    "    if group_idtronc.loc[num_tronc_sup].src_elem==-1 : \n",
    "        group_idtronc.loc[num_tronc_sup, 'src_elem']=noeuds_fin.loc[noeuds_fin.apply(lambda x : num_tronc_sup in x['idtronc'],axis=1)].index.values[0]\n",
    "    elif group_idtronc.loc[num_tronc_sup].tgt_elem==-1 :\n",
    "        group_idtronc.loc[num_tronc_sup, 'tgt_elem']=noeuds_fin.loc[noeuds_fin.apply(lambda x : num_tronc_sup in x['idtronc'],axis=1)].index.values[0]\n",
    "    else : \n",
    "        print(f'{num_tronc_sup} deja renseigne' )"
   ]
  },
  {
   "cell_type": "code",
   "execution_count": 200,
   "metadata": {},
   "outputs": [
    {
     "data": {
      "text/plain": [
       "3639"
      ]
     },
     "execution_count": 200,
     "metadata": {},
     "output_type": "execute_result"
    }
   ],
   "source": [
    "df_affectation.idtronc.unique()"
   ]
  }
 ],
 "metadata": {
  "kernelspec": {
   "display_name": "Python 3",
   "language": "python",
   "name": "python3"
  },
  "language_info": {
   "codemirror_mode": {
    "name": "ipython",
    "version": 3
   },
   "file_extension": ".py",
   "mimetype": "text/x-python",
   "name": "python",
   "nbconvert_exporter": "python",
   "pygments_lexer": "ipython3",
   "version": "3.8.4rc1"
  }
 },
 "nbformat": 4,
 "nbformat_minor": 4
}
