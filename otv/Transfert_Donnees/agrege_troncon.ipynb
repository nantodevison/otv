{
 "cells": [
  {
   "cell_type": "code",
   "execution_count": 17,
   "metadata": {},
   "outputs": [
    {
     "name": "stdout",
     "output_type": "stream",
     "text": [
      "The autoreload extension is already loaded. To reload it, use:\n",
      "  %reload_ext autoreload\n"
     ]
    }
   ],
   "source": [
    "%load_ext autoreload\n",
    "%autoreload 2\n",
    "import sys #c'est pas propre mais pour le moment pour importer mes modules perso dans le notebook je ne sais pas faire\n",
    "sys.path.append(r'C:\\Users\\martin.schoreisz\\git\\Outils\\Outils\\Martin_Perso')\n",
    "sys.path.append(r'C:\\Users\\martin.schoreisz\\git\\otv\\otv\\Transfert_Donnees')\n",
    "import agrege_troncon as at\n",
    "import Connexion_Transfert as ct\n",
    "import matplotlib\n",
    "import geopandas as gp\n",
    "import numpy as np\n",
    "from datetime import datetime\n",
    "import Connexion_Transfert as ct\n",
    "from shapely.wkt import loads\n",
    "from shapely.ops import nearest_points\n",
    "import Outils"
   ]
  },
  {
   "cell_type": "code",
   "execution_count": 2,
   "metadata": {},
   "outputs": [],
   "source": [
    "#importer les odnnées de  base\n",
    "with ct.ConnexionBdd('local_otv') as c : \n",
    "    df = gp.read_postgis(\"select t.*, v1.cnt nb_intrsct_src, st_astext(v1.the_geom) as src_geom, v2.cnt as nb_intrsct_tgt, st_astext(v2.the_geom) as tgt_geom from public.test_agreg_lineaire t left join public.test_agreg_lineaire_vertices_pgr v1 on t.\\\"source\\\"=v1.id left join public.test_agreg_lineaire_vertices_pgr v2  on t.target=v2.id\", c.connexionPsy)\n",
    "nature_2_chaussees=['Route à 2 chaussées','Quasi-autoroute','Autoroute']\n",
    "#donnees generale du jdd\n",
    "df.set_index('id_ign', inplace=True)  # passer l'id_ign commme index ; necessaire sinon pb avec geometrie vu comme texte\n",
    "df2_chaussees=df.loc[df.loc[:,'nature'].isin(nature_2_chaussees)] #isoler les troncon de voies decrits par 2 lignes"
   ]
  },
  {
   "cell_type": "code",
   "execution_count": null,
   "metadata": {},
   "outputs": [],
   "source": [
    "toto=at.affecter_troncon_ligne('TRONROUT0000000109674477')"
   ]
  },
  {
   "cell_type": "code",
   "execution_count": null,
   "metadata": {},
   "outputs": [],
   "source": [
    "toto"
   ]
  },
  {
   "cell_type": "code",
   "execution_count": 111,
   "metadata": {},
   "outputs": [
    {
     "name": "stdout",
     "output_type": "stream",
     "text": [
      "0eme occurence : TRONROUT0000000113489744 à 17:10:17 nb ligne traite : 0, nb ligne differente=0\n"
     ]
    },
    {
     "name": "stderr",
     "output_type": "stream",
     "text": [
      "C:\\Users\\martin.schoreisz\\git\\otv\\otv\\Transfert_Donnees\\agrege_troncon.py:170: SettingWithCopyWarning: \n",
      "A value is trying to be set on a copy of a slice from a DataFrame.\n",
      "Try using .loc[row_indexer,col_indexer] = value instead\n",
      "\n",
      "See the caveats in the documentation: http://pandas.pydata.org/pandas-docs/stable/indexing.html#indexing-view-versus-copy\n",
      "  ligne_filtres['distance']=ligne_filtres.geom.apply(lambda x : gdf_lignes2.centroid.distance(x), axis=1)\n"
     ]
    },
    {
     "name": "stdout",
     "output_type": "stream",
     "text": [
      "300eme occurence : TRONROUT0000000129676524 à 17:10:53 nb ligne traite : 846, nb ligne differente=846\n"
     ]
    },
    {
     "ename": "IndexError",
     "evalue": "index 0 is out of bounds for axis 0 with size 0",
     "output_type": "error",
     "traceback": [
      "\u001b[1;31m---------------------------------------------------------------------------\u001b[0m",
      "\u001b[1;31mIndexError\u001b[0m                                Traceback (most recent call last)",
      "\u001b[1;32m<ipython-input-111-df6bbba3c839>\u001b[0m in \u001b[0;36m<module>\u001b[1;34m\u001b[0m\n\u001b[1;32m----> 1\u001b[1;33m \u001b[0mdico\u001b[0m\u001b[1;33m=\u001b[0m\u001b[0mat\u001b[0m\u001b[1;33m.\u001b[0m\u001b[0maffecter_troncon\u001b[0m\u001b[1;33m(\u001b[0m\u001b[0mdf\u001b[0m\u001b[1;33m)\u001b[0m\u001b[1;33m\u001b[0m\u001b[0m\n\u001b[0m\u001b[0;32m      2\u001b[0m \u001b[1;32mwith\u001b[0m \u001b[0mct\u001b[0m\u001b[1;33m.\u001b[0m\u001b[0mConnexionBdd\u001b[0m\u001b[1;33m(\u001b[0m\u001b[1;34m'local_otv'\u001b[0m\u001b[1;33m)\u001b[0m \u001b[1;32mas\u001b[0m \u001b[0mc\u001b[0m \u001b[1;33m:\u001b[0m\u001b[1;33m\u001b[0m\u001b[0m\n\u001b[0;32m      3\u001b[0m     \u001b[0mat\u001b[0m\u001b[1;33m.\u001b[0m\u001b[0minserer_dico\u001b[0m\u001b[1;33m(\u001b[0m\u001b[0mc\u001b[0m\u001b[1;33m,\u001b[0m \u001b[0mdico\u001b[0m\u001b[1;33m)\u001b[0m\u001b[1;33m\u001b[0m\u001b[0m\n",
      "\u001b[1;32m~\\git\\otv\\otv\\Transfert_Donnees\\agrege_troncon.py\u001b[0m in \u001b[0;36maffecter_troncon\u001b[1;34m(df)\u001b[0m\n\u001b[0;32m    210\u001b[0m             \u001b[1;31m#recuperation des toncons connexes si 2 lignes pour une voie\u001b[0m\u001b[1;33m\u001b[0m\u001b[1;33m\u001b[0m\u001b[0m\n\u001b[0;32m    211\u001b[0m             \u001b[1;32mif\u001b[0m \u001b[0mligne\u001b[0m \u001b[1;32min\u001b[0m \u001b[0mdf2_chaussees\u001b[0m\u001b[1;33m.\u001b[0m\u001b[0mindex\u001b[0m  \u001b[1;33m:\u001b[0m\u001b[1;33m\u001b[0m\u001b[0m\n\u001b[1;32m--> 212\u001b[1;33m                 \u001b[0mligne_parrallele\u001b[0m\u001b[1;33m=\u001b[0m\u001b[0mrecup_troncon_parallele_v2\u001b[0m\u001b[1;33m(\u001b[0m\u001b[0mdf\u001b[0m\u001b[1;33m,\u001b[0m\u001b[0mliste_troncon\u001b[0m\u001b[1;33m)\u001b[0m\u001b[1;33m\u001b[0m\u001b[0m\n\u001b[0m\u001b[0;32m    213\u001b[0m                 \u001b[1;31m#print('parrallele ',ligne_parrallele)\u001b[0m\u001b[1;33m\u001b[0m\u001b[1;33m\u001b[0m\u001b[0m\n\u001b[0;32m    214\u001b[0m                 \u001b[1;32mif\u001b[0m \u001b[0mligne_parrallele\u001b[0m\u001b[1;33m==\u001b[0m\u001b[1;32mNone\u001b[0m\u001b[1;33m:\u001b[0m \u001b[1;31m#cas où pas de ligne parrallele trouvee\u001b[0m\u001b[1;33m\u001b[0m\u001b[0m\n",
      "\u001b[1;32m~\\git\\otv\\otv\\Transfert_Donnees\\agrege_troncon.py\u001b[0m in \u001b[0;36mrecup_troncon_parallele_v2\u001b[1;34m(df, liste_troncon)\u001b[0m\n\u001b[0;32m    170\u001b[0m     \u001b[0mligne_filtres\u001b[0m\u001b[1;33m[\u001b[0m\u001b[1;34m'distance'\u001b[0m\u001b[1;33m]\u001b[0m\u001b[1;33m=\u001b[0m\u001b[0mligne_filtres\u001b[0m\u001b[1;33m.\u001b[0m\u001b[0mgeom\u001b[0m\u001b[1;33m.\u001b[0m\u001b[0mapply\u001b[0m\u001b[1;33m(\u001b[0m\u001b[1;32mlambda\u001b[0m \u001b[0mx\u001b[0m \u001b[1;33m:\u001b[0m \u001b[0mgdf_lignes2\u001b[0m\u001b[1;33m.\u001b[0m\u001b[0mcentroid\u001b[0m\u001b[1;33m.\u001b[0m\u001b[0mdistance\u001b[0m\u001b[1;33m(\u001b[0m\u001b[0mx\u001b[0m\u001b[1;33m)\u001b[0m\u001b[1;33m)\u001b[0m\u001b[1;33m\u001b[0m\u001b[0m\n\u001b[0;32m    171\u001b[0m     \u001b[1;31m#garder uniquement la valeur la plus proche du centroid\u001b[0m\u001b[1;33m\u001b[0m\u001b[1;33m\u001b[0m\u001b[0m\n\u001b[1;32m--> 172\u001b[1;33m     \u001b[0mligne_proche\u001b[0m\u001b[1;33m=\u001b[0m\u001b[0mligne_filtres\u001b[0m\u001b[1;33m.\u001b[0m\u001b[0mloc\u001b[0m\u001b[1;33m[\u001b[0m\u001b[0mligne_filtres\u001b[0m\u001b[1;33m[\u001b[0m\u001b[1;34m'distance'\u001b[0m\u001b[1;33m]\u001b[0m\u001b[1;33m==\u001b[0m\u001b[0mligne_filtres\u001b[0m\u001b[1;33m[\u001b[0m\u001b[1;34m'distance'\u001b[0m\u001b[1;33m]\u001b[0m\u001b[1;33m.\u001b[0m\u001b[0mmin\u001b[0m\u001b[1;33m(\u001b[0m\u001b[1;33m)\u001b[0m\u001b[1;33m]\u001b[0m\u001b[1;33m.\u001b[0m\u001b[0mindex\u001b[0m\u001b[1;33m[\u001b[0m\u001b[1;36m0\u001b[0m\u001b[1;33m]\u001b[0m\u001b[1;33m\u001b[0m\u001b[0m\n\u001b[0m\u001b[0;32m    173\u001b[0m     \u001b[1;32mreturn\u001b[0m \u001b[0mligne_proche\u001b[0m\u001b[1;33m\u001b[0m\u001b[0m\n\u001b[0;32m    174\u001b[0m \u001b[1;33m\u001b[0m\u001b[0m\n",
      "\u001b[1;32mc:\\users\\martin.schoreisz\\appdata\\local\\programs\\python\\python37\\lib\\site-packages\\pandas\\core\\indexes\\base.py\u001b[0m in \u001b[0;36m__getitem__\u001b[1;34m(self, key)\u001b[0m\n\u001b[0;32m   2082\u001b[0m \u001b[1;33m\u001b[0m\u001b[0m\n\u001b[0;32m   2083\u001b[0m         \u001b[1;32mif\u001b[0m \u001b[0mis_scalar\u001b[0m\u001b[1;33m(\u001b[0m\u001b[0mkey\u001b[0m\u001b[1;33m)\u001b[0m\u001b[1;33m:\u001b[0m\u001b[1;33m\u001b[0m\u001b[0m\n\u001b[1;32m-> 2084\u001b[1;33m             \u001b[1;32mreturn\u001b[0m \u001b[0mgetitem\u001b[0m\u001b[1;33m(\u001b[0m\u001b[0mkey\u001b[0m\u001b[1;33m)\u001b[0m\u001b[1;33m\u001b[0m\u001b[0m\n\u001b[0m\u001b[0;32m   2085\u001b[0m \u001b[1;33m\u001b[0m\u001b[0m\n\u001b[0;32m   2086\u001b[0m         \u001b[1;32mif\u001b[0m \u001b[0misinstance\u001b[0m\u001b[1;33m(\u001b[0m\u001b[0mkey\u001b[0m\u001b[1;33m,\u001b[0m \u001b[0mslice\u001b[0m\u001b[1;33m)\u001b[0m\u001b[1;33m:\u001b[0m\u001b[1;33m\u001b[0m\u001b[0m\n",
      "\u001b[1;31mIndexError\u001b[0m: index 0 is out of bounds for axis 0 with size 0"
     ]
    }
   ],
   "source": [
    "dico=at.affecter_troncon(df)\n",
    "with ct.ConnexionBdd('local_otv') as c :\n",
    "    at.inserer_dico(c, dico)"
   ]
  },
  {
   "cell_type": "markdown",
   "metadata": {},
   "source": [
    "pour nouvelle fonction de loc des route à 2 chaussées"
   ]
  },
  {
   "cell_type": "code",
   "execution_count": 7,
   "metadata": {},
   "outputs": [],
   "source": [
    "#liste des troncons (parametre entrant)\n",
    "liste_troncon=['TRONROUT0000000130923326','TRONROUT0000000109674477','TRONROUT0000000032839287','TRONROUT0000000032834970','TRONROUT0000000032837041','TRONROUT0000000032837045','TRONROUT0000000032839277','TRONROUT0000000032839282','TRONROUT0000000032839286','TRONROUT0000000032841957']"
   ]
  },
  {
   "cell_type": "code",
   "execution_count": 13,
   "metadata": {},
   "outputs": [],
   "source": [
    "#conversion en geodf\n",
    "gdf_lignes=gp.GeoDataFrame(df.loc[liste_troncon], geometry='geom') "
   ]
  },
  {
   "cell_type": "code",
   "execution_count": 11,
   "metadata": {},
   "outputs": [],
   "source": [
    "#union des geometries\n",
    "gdf_lignes2=gdf_lignes.unary_union"
   ]
  },
  {
   "cell_type": "code",
   "execution_count": 81,
   "metadata": {},
   "outputs": [],
   "source": [
    "#centroid de la ligne\n",
    "xmin,ymin,xmax,ymax=gdf_lignes2.centroid.buffer(200).bounds"
   ]
  },
  {
   "cell_type": "code",
   "execution_count": 50,
   "metadata": {},
   "outputs": [],
   "source": [
    "#donnees de base\n",
    "gdf_global=gp.GeoDataFrame(df, geometry='geom')"
   ]
  },
  {
   "cell_type": "code",
   "execution_count": 82,
   "metadata": {},
   "outputs": [],
   "source": [
    "#recherche des lignes proches du centroid\n",
    "lignes_possibles=gdf_global.cx[xmin:xmax,ymin:ymax]"
   ]
  },
  {
   "cell_type": "code",
   "execution_count": 83,
   "metadata": {},
   "outputs": [
    {
     "data": {
      "text/html": [
       "<div>\n",
       "<style scoped>\n",
       "    .dataframe tbody tr th:only-of-type {\n",
       "        vertical-align: middle;\n",
       "    }\n",
       "\n",
       "    .dataframe tbody tr th {\n",
       "        vertical-align: top;\n",
       "    }\n",
       "\n",
       "    .dataframe thead th {\n",
       "        text-align: right;\n",
       "    }\n",
       "</style>\n",
       "<table border=\"1\" class=\"dataframe\">\n",
       "  <thead>\n",
       "    <tr style=\"text-align: right;\">\n",
       "      <th></th>\n",
       "      <th>id</th>\n",
       "      <th>prec_plani</th>\n",
       "      <th>prec_alti</th>\n",
       "      <th>nature</th>\n",
       "      <th>numero</th>\n",
       "      <th>nom_voie_g</th>\n",
       "      <th>nom_voie_d</th>\n",
       "      <th>importance</th>\n",
       "      <th>cl_admin</th>\n",
       "      <th>gestion</th>\n",
       "      <th>...</th>\n",
       "      <th>long_km</th>\n",
       "      <th>source</th>\n",
       "      <th>target</th>\n",
       "      <th>np_ref</th>\n",
       "      <th>geom</th>\n",
       "      <th>id_tronc_elem</th>\n",
       "      <th>nb_intrsct_src</th>\n",
       "      <th>src_geom</th>\n",
       "      <th>nb_intrsct_tgt</th>\n",
       "      <th>tgt_geom</th>\n",
       "    </tr>\n",
       "    <tr>\n",
       "      <th>id_ign</th>\n",
       "      <th></th>\n",
       "      <th></th>\n",
       "      <th></th>\n",
       "      <th></th>\n",
       "      <th></th>\n",
       "      <th></th>\n",
       "      <th></th>\n",
       "      <th></th>\n",
       "      <th></th>\n",
       "      <th></th>\n",
       "      <th></th>\n",
       "      <th></th>\n",
       "      <th></th>\n",
       "      <th></th>\n",
       "      <th></th>\n",
       "      <th></th>\n",
       "      <th></th>\n",
       "      <th></th>\n",
       "      <th></th>\n",
       "      <th></th>\n",
       "      <th></th>\n",
       "    </tr>\n",
       "  </thead>\n",
       "  <tbody>\n",
       "    <tr>\n",
       "      <th>TRONROUT0000000032839277</th>\n",
       "      <td>132722</td>\n",
       "      <td>1.5</td>\n",
       "      <td>1.0</td>\n",
       "      <td>Quasi-autoroute</td>\n",
       "      <td>N11</td>\n",
       "      <td>None</td>\n",
       "      <td>None</td>\n",
       "      <td>1</td>\n",
       "      <td>Nationale</td>\n",
       "      <td>DA</td>\n",
       "      <td>...</td>\n",
       "      <td>0.428882</td>\n",
       "      <td>572</td>\n",
       "      <td>2942</td>\n",
       "      <td>None</td>\n",
       "      <td>(LINESTRING (414099.0999999996 6573414.8999999...</td>\n",
       "      <td>1.0</td>\n",
       "      <td>2</td>\n",
       "      <td>POINT(414099.1 6573414.89999999)</td>\n",
       "      <td>2</td>\n",
       "      <td>POINT(413714.1 6573603.79999999)</td>\n",
       "    </tr>\n",
       "    <tr>\n",
       "      <th>TRONROUT0000000032839278</th>\n",
       "      <td>132724</td>\n",
       "      <td>1.5</td>\n",
       "      <td>1.0</td>\n",
       "      <td>Quasi-autoroute</td>\n",
       "      <td>N11</td>\n",
       "      <td>None</td>\n",
       "      <td>None</td>\n",
       "      <td>1</td>\n",
       "      <td>Nationale</td>\n",
       "      <td>DA</td>\n",
       "      <td>...</td>\n",
       "      <td>1.087204</td>\n",
       "      <td>2943</td>\n",
       "      <td>1126</td>\n",
       "      <td>None</td>\n",
       "      <td>(LINESTRING (413677.9999999997 6573637.7999999...</td>\n",
       "      <td>3.0</td>\n",
       "      <td>2</td>\n",
       "      <td>POINT(413678 6573637.79999999)</td>\n",
       "      <td>2</td>\n",
       "      <td>POINT(412700.9 6574114.49999999)</td>\n",
       "    </tr>\n",
       "    <tr>\n",
       "      <th>TRONROUT0000000032839279</th>\n",
       "      <td>132725</td>\n",
       "      <td>1.5</td>\n",
       "      <td>1.0</td>\n",
       "      <td>Quasi-autoroute</td>\n",
       "      <td>N11</td>\n",
       "      <td>None</td>\n",
       "      <td>None</td>\n",
       "      <td>1</td>\n",
       "      <td>Nationale</td>\n",
       "      <td>DA</td>\n",
       "      <td>...</td>\n",
       "      <td>1.647285</td>\n",
       "      <td>3026</td>\n",
       "      <td>3027</td>\n",
       "      <td>None</td>\n",
       "      <td>(LINESTRING (413686.9999999997 6573633.5999999...</td>\n",
       "      <td>3.0</td>\n",
       "      <td>2</td>\n",
       "      <td>POINT(413687 6573633.59999999)</td>\n",
       "      <td>2</td>\n",
       "      <td>POINT(415161.7 6572900.29999999)</td>\n",
       "    </tr>\n",
       "    <tr>\n",
       "      <th>TRONROUT0000000032839282</th>\n",
       "      <td>132727</td>\n",
       "      <td>1.5</td>\n",
       "      <td>1.0</td>\n",
       "      <td>Quasi-autoroute</td>\n",
       "      <td>N11</td>\n",
       "      <td>None</td>\n",
       "      <td>None</td>\n",
       "      <td>1</td>\n",
       "      <td>Nationale</td>\n",
       "      <td>DA</td>\n",
       "      <td>...</td>\n",
       "      <td>1.086388</td>\n",
       "      <td>3048</td>\n",
       "      <td>2899</td>\n",
       "      <td>None</td>\n",
       "      <td>(LINESTRING (413672.5999999996 6573624.0999999...</td>\n",
       "      <td>1.0</td>\n",
       "      <td>2</td>\n",
       "      <td>POINT(413672.6 6573624.09999999)</td>\n",
       "      <td>2</td>\n",
       "      <td>POINT(412696.6 6574101.19999999)</td>\n",
       "    </tr>\n",
       "    <tr>\n",
       "      <th>TRONROUT0000000032839288</th>\n",
       "      <td>132730</td>\n",
       "      <td>1.5</td>\n",
       "      <td>1.0</td>\n",
       "      <td>Quasi-autoroute</td>\n",
       "      <td>N11</td>\n",
       "      <td>None</td>\n",
       "      <td>None</td>\n",
       "      <td>1</td>\n",
       "      <td>Nationale</td>\n",
       "      <td>DA</td>\n",
       "      <td>...</td>\n",
       "      <td>0.009932</td>\n",
       "      <td>3026</td>\n",
       "      <td>2943</td>\n",
       "      <td>None</td>\n",
       "      <td>(LINESTRING (413686.9999999997 6573633.5999999...</td>\n",
       "      <td>3.0</td>\n",
       "      <td>2</td>\n",
       "      <td>POINT(413687 6573633.59999999)</td>\n",
       "      <td>2</td>\n",
       "      <td>POINT(413678 6573637.79999999)</td>\n",
       "    </tr>\n",
       "    <tr>\n",
       "      <th>TRONROUT0000000032839286</th>\n",
       "      <td>132729</td>\n",
       "      <td>1.5</td>\n",
       "      <td>1.0</td>\n",
       "      <td>Quasi-autoroute</td>\n",
       "      <td>N11</td>\n",
       "      <td>None</td>\n",
       "      <td>None</td>\n",
       "      <td>1</td>\n",
       "      <td>Nationale</td>\n",
       "      <td>DA</td>\n",
       "      <td>...</td>\n",
       "      <td>0.037836</td>\n",
       "      <td>2942</td>\n",
       "      <td>3102</td>\n",
       "      <td>None</td>\n",
       "      <td>(LINESTRING (413714.0999999996 6573603.7999999...</td>\n",
       "      <td>1.0</td>\n",
       "      <td>2</td>\n",
       "      <td>POINT(413714.1 6573603.79999999)</td>\n",
       "      <td>2</td>\n",
       "      <td>POINT(413680.1 6573620.39999999)</td>\n",
       "    </tr>\n",
       "    <tr>\n",
       "      <th>TRONROUT0000000032839287</th>\n",
       "      <td>88358</td>\n",
       "      <td>1.5</td>\n",
       "      <td>1.0</td>\n",
       "      <td>Quasi-autoroute</td>\n",
       "      <td>N11</td>\n",
       "      <td>None</td>\n",
       "      <td>None</td>\n",
       "      <td>1</td>\n",
       "      <td>Nationale</td>\n",
       "      <td>DA</td>\n",
       "      <td>...</td>\n",
       "      <td>0.008363</td>\n",
       "      <td>3048</td>\n",
       "      <td>3102</td>\n",
       "      <td>None</td>\n",
       "      <td>(LINESTRING (413672.5999999996 6573624.0999999...</td>\n",
       "      <td>1.0</td>\n",
       "      <td>2</td>\n",
       "      <td>POINT(413672.6 6573624.09999999)</td>\n",
       "      <td>2</td>\n",
       "      <td>POINT(413680.1 6573620.39999999)</td>\n",
       "    </tr>\n",
       "  </tbody>\n",
       "</table>\n",
       "<p>7 rows × 46 columns</p>\n",
       "</div>"
      ],
      "text/plain": [
       "                              id  prec_plani  prec_alti           nature  \\\n",
       "id_ign                                                                     \n",
       "TRONROUT0000000032839277  132722         1.5        1.0  Quasi-autoroute   \n",
       "TRONROUT0000000032839278  132724         1.5        1.0  Quasi-autoroute   \n",
       "TRONROUT0000000032839279  132725         1.5        1.0  Quasi-autoroute   \n",
       "TRONROUT0000000032839282  132727         1.5        1.0  Quasi-autoroute   \n",
       "TRONROUT0000000032839288  132730         1.5        1.0  Quasi-autoroute   \n",
       "TRONROUT0000000032839286  132729         1.5        1.0  Quasi-autoroute   \n",
       "TRONROUT0000000032839287   88358         1.5        1.0  Quasi-autoroute   \n",
       "\n",
       "                         numero nom_voie_g nom_voie_d importance   cl_admin  \\\n",
       "id_ign                                                                        \n",
       "TRONROUT0000000032839277    N11       None       None          1  Nationale   \n",
       "TRONROUT0000000032839278    N11       None       None          1  Nationale   \n",
       "TRONROUT0000000032839279    N11       None       None          1  Nationale   \n",
       "TRONROUT0000000032839282    N11       None       None          1  Nationale   \n",
       "TRONROUT0000000032839288    N11       None       None          1  Nationale   \n",
       "TRONROUT0000000032839286    N11       None       None          1  Nationale   \n",
       "TRONROUT0000000032839287    N11       None       None          1  Nationale   \n",
       "\n",
       "                         gestion                ...                  long_km  \\\n",
       "id_ign                                          ...                            \n",
       "TRONROUT0000000032839277      DA                ...                 0.428882   \n",
       "TRONROUT0000000032839278      DA                ...                 1.087204   \n",
       "TRONROUT0000000032839279      DA                ...                 1.647285   \n",
       "TRONROUT0000000032839282      DA                ...                 1.086388   \n",
       "TRONROUT0000000032839288      DA                ...                 0.009932   \n",
       "TRONROUT0000000032839286      DA                ...                 0.037836   \n",
       "TRONROUT0000000032839287      DA                ...                 0.008363   \n",
       "\n",
       "                         source target np_ref  \\\n",
       "id_ign                                          \n",
       "TRONROUT0000000032839277    572   2942   None   \n",
       "TRONROUT0000000032839278   2943   1126   None   \n",
       "TRONROUT0000000032839279   3026   3027   None   \n",
       "TRONROUT0000000032839282   3048   2899   None   \n",
       "TRONROUT0000000032839288   3026   2943   None   \n",
       "TRONROUT0000000032839286   2942   3102   None   \n",
       "TRONROUT0000000032839287   3048   3102   None   \n",
       "\n",
       "                                                                       geom  \\\n",
       "id_ign                                                                        \n",
       "TRONROUT0000000032839277  (LINESTRING (414099.0999999996 6573414.8999999...   \n",
       "TRONROUT0000000032839278  (LINESTRING (413677.9999999997 6573637.7999999...   \n",
       "TRONROUT0000000032839279  (LINESTRING (413686.9999999997 6573633.5999999...   \n",
       "TRONROUT0000000032839282  (LINESTRING (413672.5999999996 6573624.0999999...   \n",
       "TRONROUT0000000032839288  (LINESTRING (413686.9999999997 6573633.5999999...   \n",
       "TRONROUT0000000032839286  (LINESTRING (413714.0999999996 6573603.7999999...   \n",
       "TRONROUT0000000032839287  (LINESTRING (413672.5999999996 6573624.0999999...   \n",
       "\n",
       "                          id_tronc_elem nb_intrsct_src  \\\n",
       "id_ign                                                   \n",
       "TRONROUT0000000032839277            1.0              2   \n",
       "TRONROUT0000000032839278            3.0              2   \n",
       "TRONROUT0000000032839279            3.0              2   \n",
       "TRONROUT0000000032839282            1.0              2   \n",
       "TRONROUT0000000032839288            3.0              2   \n",
       "TRONROUT0000000032839286            1.0              2   \n",
       "TRONROUT0000000032839287            1.0              2   \n",
       "\n",
       "                                                  src_geom  nb_intrsct_tgt  \\\n",
       "id_ign                                                                       \n",
       "TRONROUT0000000032839277  POINT(414099.1 6573414.89999999)               2   \n",
       "TRONROUT0000000032839278    POINT(413678 6573637.79999999)               2   \n",
       "TRONROUT0000000032839279    POINT(413687 6573633.59999999)               2   \n",
       "TRONROUT0000000032839282  POINT(413672.6 6573624.09999999)               2   \n",
       "TRONROUT0000000032839288    POINT(413687 6573633.59999999)               2   \n",
       "TRONROUT0000000032839286  POINT(413714.1 6573603.79999999)               2   \n",
       "TRONROUT0000000032839287  POINT(413672.6 6573624.09999999)               2   \n",
       "\n",
       "                                                  tgt_geom  \n",
       "id_ign                                                      \n",
       "TRONROUT0000000032839277  POINT(413714.1 6573603.79999999)  \n",
       "TRONROUT0000000032839278  POINT(412700.9 6574114.49999999)  \n",
       "TRONROUT0000000032839279  POINT(415161.7 6572900.29999999)  \n",
       "TRONROUT0000000032839282  POINT(412696.6 6574101.19999999)  \n",
       "TRONROUT0000000032839288    POINT(413678 6573637.79999999)  \n",
       "TRONROUT0000000032839286  POINT(413680.1 6573620.39999999)  \n",
       "TRONROUT0000000032839287  POINT(413680.1 6573620.39999999)  \n",
       "\n",
       "[7 rows x 46 columns]"
      ]
     },
     "execution_count": 83,
     "metadata": {},
     "output_type": "execute_result"
    }
   ],
   "source": [
    "lignes_possibles"
   ]
  },
  {
   "cell_type": "code",
   "execution_count": 84,
   "metadata": {},
   "outputs": [],
   "source": [
    "#uniquement les lignes non présentes dans la liste de troncons avec le même nom de voie\n",
    "ligne_filtres=lignes_possibles.loc[(~lignes_possibles.index.isin(liste_troncon)) & (lignes_possibles.loc[:,'numero']==gdf_lignes.iloc[0]['numero'])]"
   ]
  },
  {
   "cell_type": "code",
   "execution_count": 110,
   "metadata": {},
   "outputs": [
    {
     "name": "stderr",
     "output_type": "stream",
     "text": [
      "c:\\users\\martin.schoreisz\\appdata\\local\\programs\\python\\python37\\lib\\site-packages\\ipykernel_launcher.py:2: SettingWithCopyWarning: \n",
      "A value is trying to be set on a copy of a slice from a DataFrame.\n",
      "Try using .loc[row_indexer,col_indexer] = value instead\n",
      "\n",
      "See the caveats in the documentation: http://pandas.pydata.org/pandas-docs/stable/indexing.html#indexing-view-versus-copy\n",
      "  \n"
     ]
    }
   ],
   "source": [
    "#obtenir les distances au centroid\n",
    "ligne_filtres['distance']=ligne_filtres.geom.apply(lambda x : gdf_lignes2.centroid.distance(x))"
   ]
  },
  {
   "cell_type": "code",
   "execution_count": 102,
   "metadata": {},
   "outputs": [
    {
     "data": {
      "text/plain": [
       "'TRONROUT0000000032839278'"
      ]
     },
     "execution_count": 102,
     "metadata": {},
     "output_type": "execute_result"
    }
   ],
   "source": [
    "#garder uniquement la valeur la plus proche du centroid\n",
    "ligne_filtres.loc[ligne_filtres['distance']==ligne_filtres['distance'].min()].index[0]"
   ]
  },
  {
   "cell_type": "code",
   "execution_count": null,
   "metadata": {},
   "outputs": [],
   "source": []
  }
 ],
 "metadata": {
  "kernelspec": {
   "display_name": "Python 3",
   "language": "python",
   "name": "python3"
  },
  "language_info": {
   "codemirror_mode": {
    "name": "ipython",
    "version": 3
   },
   "file_extension": ".py",
   "mimetype": "text/x-python",
   "name": "python",
   "nbconvert_exporter": "python",
   "pygments_lexer": "ipython3",
   "version": "3.7.0"
  }
 },
 "nbformat": 4,
 "nbformat_minor": 2
}
