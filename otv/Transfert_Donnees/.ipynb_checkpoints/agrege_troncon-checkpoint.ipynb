{
 "cells": [
  {
   "cell_type": "code",
   "execution_count": 1,
   "metadata": {},
   "outputs": [],
   "source": [
    "%load_ext autoreload\n",
    "%autoreload 2\n",
    "import sys #c'est pas propre mais pour le moment pour importer mes modules perso dans le notebook je ne sais pas faire\n",
    "sys.path.append(r'C:\\Users\\martin.schoreisz\\git\\Outils\\Outils\\Martin_Perso')\n",
    "sys.path.append(r'C:\\Users\\martin.schoreisz\\git\\otv\\otv\\Transfert_Donnees')\n",
    "import agrege_troncon as at\n",
    "import Connexion_Transfert as ct\n",
    "import matplotlib, os, fiona\n",
    "import geopandas as gp\n",
    "import pandas as pd\n",
    "import numpy as np\n",
    "from datetime import datetime\n",
    "import Connexion_Transfert as ct\n",
    "from shapely.wkt import loads\n",
    "from shapely.ops import nearest_points, polygonize\n",
    "import Outils"
   ]
  },
  {
   "cell_type": "code",
   "execution_count": 190,
   "metadata": {},
   "outputs": [],
   "source": [
    "#importer les odnnées de  base\n",
    "with ct.ConnexionBdd('local_otv') as c : \n",
    "    df = gp.read_postgis(\"select t.*, v1.cnt nb_intrsct_src, st_astext(v1.the_geom) as src_geom, v2.cnt as nb_intrsct_tgt, st_astext(v2.the_geom) as tgt_geom from public.test_agreg_lineaire t left join public.test_agreg_lineaire_vertices_pgr v1 on t.\\\"source\\\"=v1.id left join public.test_agreg_lineaire_vertices_pgr v2  on t.target=v2.id\", c.connexionPsy)\n",
    "nature_2_chaussees=['Route à 2 chaussées','Quasi-autoroute','Autoroute']\n",
    "#donnees generale du jdd\n",
    "df.set_index('id_ign', inplace=True)  # passer l'id_ign commme index ; necessaire sinon pb avec geometrie vu comme texte\n",
    "df2_chaussees=df.loc[df.loc[:,'nature'].isin(nature_2_chaussees)] #isoler les troncon de voies decrits par 2 lignes\n",
    "df=at.identifier_rd_pt(df)"
   ]
  },
  {
   "cell_type": "code",
   "execution_count": 71,
   "metadata": {},
   "outputs": [],
   "source": [
    "toto=list(at.recup_troncon_elementaire('TRONROUT0000000032856211',df))"
   ]
  },
  {
   "cell_type": "code",
   "execution_count": 72,
   "metadata": {},
   "outputs": [],
   "source": [
    "toto.append('TRONROUT0000000032856211')"
   ]
  },
  {
   "cell_type": "code",
   "execution_count": 74,
   "metadata": {},
   "outputs": [
    {
     "data": {
      "text/plain": [
       "['TRONROUT0000000032856177',\n",
       " 'TRONROUT0000000032856205',\n",
       " 'TRONROUT0000000032852549',\n",
       " 'TRONROUT0000000129676626',\n",
       " 'TRONROUT0000000032856180',\n",
       " 'TRONROUT0000000032856217',\n",
       " 'TRONROUT0000000121809347',\n",
       " 'TRONROUT0000000121809348',\n",
       " 'TRONROUT0000000121809342',\n",
       " 'TRONROUT0000000032856170',\n",
       " 'TRONROUT0000000032856168',\n",
       " 'TRONROUT0000000032856173',\n",
       " 'TRONROUT0000000032856226',\n",
       " 'TRONROUT0000000032856231',\n",
       " 'TRONROUT0000000032856234',\n",
       " 'TRONROUT0000000032852588',\n",
       " 'TRONROUT0000000032852547',\n",
       " 'TRONROUT0000000032852561',\n",
       " 'TRONROUT0000000032852614',\n",
       " 'TRONROUT0000000347624445',\n",
       " 'TRONROUT0000000032852619',\n",
       " 'TRONROUT0000000032852608',\n",
       " 'TRONROUT0000000032856211']"
      ]
     },
     "execution_count": 74,
     "metadata": {},
     "output_type": "execute_result"
    }
   ],
   "source": [
    "toto"
   ]
  },
  {
   "cell_type": "code",
   "execution_count": 8,
   "metadata": {},
   "outputs": [
    {
     "name": "stderr",
     "output_type": "stream",
     "text": [
      "C:\\Users\\martin.schoreisz\\git\\otv\\otv\\Transfert_Donnees\\agrege_troncon.py:184: SettingWithCopyWarning: \n",
      "A value is trying to be set on a copy of a slice from a DataFrame.\n",
      "Try using .loc[row_indexer,col_indexer] = value instead\n",
      "\n",
      "See the caveats in the documentation: http://pandas.pydata.org/pandas-docs/stable/indexing.html#indexing-view-versus-copy\n",
      "  ligne_filtres['distance']=ligne_filtres.geom.apply(lambda x : gdf_lignes2.centroid.distance(x))\n"
     ]
    },
    {
     "data": {
      "text/plain": [
       "'TRONROUT0000000202559739'"
      ]
     },
     "execution_count": 8,
     "metadata": {},
     "output_type": "execute_result"
    }
   ],
   "source": [
    "at.recup_troncon_parallele_v2(df,toto)"
   ]
  },
  {
   "cell_type": "code",
   "execution_count": null,
   "metadata": {},
   "outputs": [],
   "source": [
    "tata=at.affecter_troncon(df)"
   ]
  },
  {
   "cell_type": "code",
   "execution_count": 191,
   "metadata": {},
   "outputs": [
    {
     "name": "stdout",
     "output_type": "stream",
     "text": [
      "0eme occurence : TRONROUT0000000084053019 à 11:53:08 nb ligne traite : 0, nb ligne differente=0\n",
      "erreur index a ligne ligne : TRONROUT0000000032852544\n"
     ]
    },
    {
     "name": "stderr",
     "output_type": "stream",
     "text": [
      "C:\\Users\\martin.schoreisz\\git\\otv\\otv\\Transfert_Donnees\\agrege_troncon.py:250: SettingWithCopyWarning: \n",
      "A value is trying to be set on a copy of a slice from a DataFrame.\n",
      "Try using .loc[row_indexer,col_indexer] = value instead\n",
      "\n",
      "See the caveats in the documentation: http://pandas.pydata.org/pandas-docs/stable/indexing.html#indexing-view-versus-copy\n",
      "  en entree : liste d'id de ligne -> lite de str\n"
     ]
    },
    {
     "name": "stdout",
     "output_type": "stream",
     "text": [
      "erreur index a ligne ligne : TRONROUT0000000032856273\n",
      "erreur index a ligne ligne : TRONROUT0000000032867128\n",
      "erreur index a ligne ligne : TRONROUT0000000201895324\n",
      "300eme occurence : TRONROUT0000000032863722 à 11:53:16 nb ligne traite : 1087, nb ligne differente=1087\n",
      "erreur index a ligne ligne : TRONROUT0000000039536921\n",
      "erreur index a ligne ligne : TRONROUT0000000039536309\n",
      "erreur index a ligne ligne : TRONROUT0000000032859660\n",
      "600eme occurence : TRONROUT0000000032843207 à 11:53:23 nb ligne traite : 1604, nb ligne differente=1604\n",
      "erreur index a ligne ligne : TRONROUT0000000032853988\n",
      "erreur index a ligne ligne : TRONROUT0000000211394860\n",
      "erreur index a ligne ligne : TRONROUT0000000032963027\n",
      "900eme occurence : TRONROUT0000000032847392 à 11:53:28 nb ligne traite : 2440, nb ligne differente=2440\n",
      "erreur index a ligne ligne : TRONROUT0000000032836512\n",
      "1200eme occurence : TRONROUT0000000032831673 à 11:53:34 nb ligne traite : 2891, nb ligne differente=2891\n",
      "erreur index a ligne ligne : TRONROUT0000000318145726\n",
      "erreur index a ligne ligne : TRONROUT0000000202559738\n",
      "1500eme occurence : TRONROUT0000000130579464 à 11:53:44 nb ligne traite : 3626, nb ligne differente=3626\n",
      "erreur index a ligne ligne : TRONROUT0000000032846645\n",
      "erreur index a ligne ligne : TRONROUT0000000129676499\n",
      "erreur index a ligne ligne : TRONROUT0000000032943688\n",
      "1800eme occurence : TRONROUT0000000032950015 à 11:53:59 nb ligne traite : 4280, nb ligne differente=4280\n",
      "erreur index a ligne ligne : TRONROUT0000000032966070\n",
      "erreur index a ligne ligne : TRONROUT0000000202559733\n",
      "erreur index a ligne ligne : TRONROUT0000000032966133\n",
      "erreur index a ligne ligne : TRONROUT0000000084123085\n",
      "erreur index a ligne ligne : TRONROUT0000000032843560\n",
      "erreur index a ligne ligne : TRONROUT0000000200796439\n",
      "erreur index a ligne ligne : TRONROUT0000000089679810\n",
      "2100eme occurence : TRONROUT0000000032966004 à 11:54:14 nb ligne traite : 4989, nb ligne differente=4989\n",
      "erreur index a ligne ligne : TRONROUT0000000032843555\n",
      "erreur index a ligne ligne : TRONROUT0000000033002781\n",
      "2400eme occurence : TRONROUT0000000033005399 à 11:54:21 nb ligne traite : 5326, nb ligne differente=5326\n",
      "2700eme occurence : TRONROUT0000000113489812 à 11:54:23 nb ligne traite : 5388, nb ligne differente=5388\n",
      "3000eme occurence : TRONROUT0000000300821936 à 11:54:23 nb ligne traite : 5411, nb ligne differente=5411\n",
      "3300eme occurence : TRONROUT0000000032867122 à 11:54:26 nb ligne traite : 5424, nb ligne differente=5424\n",
      "3600eme occurence : TRONROUT0000000032987912 à 11:54:29 nb ligne traite : 5449, nb ligne differente=5449\n",
      "3900eme occurence : TRONROUT0000000320758215 à 11:54:30 nb ligne traite : 5495, nb ligne differente=5495\n",
      "4200eme occurence : TRONROUT0000000032842115 à 11:54:34 nb ligne traite : 5554, nb ligne differente=5554\n",
      "erreur index a ligne ligne : TRONROUT0000000032843563\n",
      "erreur index a ligne ligne : TRONROUT0000000032843584\n",
      "4500eme occurence : TRONROUT0000000318145520 à 11:54:37 nb ligne traite : 5612, nb ligne differente=5612\n",
      "4800eme occurence : TRONROUT0000000032834610 à 11:54:37 nb ligne traite : 5637, nb ligne differente=5637\n",
      "5100eme occurence : TRONROUT0000000032954016 à 11:54:38 nb ligne traite : 5668, nb ligne differente=5668\n",
      "erreur index a ligne ligne : TRONROUT0000000032968380\n",
      "5400eme occurence : TRONROUT0000000032968383 à 11:54:46 nb ligne traite : 5731, nb ligne differente=5731\n",
      "erreur index a ligne ligne : TRONROUT0000000032970450\n",
      "5700eme occurence : TRONROUT0000000032978033 à 11:54:48 nb ligne traite : 5770, nb ligne differente=5770\n"
     ]
    }
   ],
   "source": [
    "dico=at.affecter_troncon(df)\n",
    "with ct.ConnexionBdd('local_otv') as c :\n",
    "    at.inserer_dico(c, dico)"
   ]
  },
  {
   "cell_type": "markdown",
   "metadata": {},
   "source": [
    "POUR TRAITEMENT DES VOIES A 2 CHAUSSES : TROUVER PARRALLELE"
   ]
  },
  {
   "cell_type": "code",
   "execution_count": 172,
   "metadata": {},
   "outputs": [],
   "source": [
    "#liste des troncons (parametre entrant)\n",
    "liste_troncon=toto"
   ]
  },
  {
   "cell_type": "code",
   "execution_count": null,
   "metadata": {},
   "outputs": [],
   "source": [
    "#conversion en geodf\n",
    "gdf_lignes=gp.GeoDataFrame(df.loc[liste_troncon], geometry='geom')"
   ]
  },
  {
   "cell_type": "code",
   "execution_count": 174,
   "metadata": {},
   "outputs": [],
   "source": [
    "#union des geometries\n",
    "gdf_lignes2=gdf_lignes.unary_union"
   ]
  },
  {
   "cell_type": "code",
   "execution_count": 176,
   "metadata": {},
   "outputs": [],
   "source": [
    "#centroid de la ligne\n",
    "xmin,ymin,xmax,ymax=gdf_lignes2.interpolate(0.5, normalized=True).buffer(50).bounds"
   ]
  },
  {
   "cell_type": "code",
   "execution_count": 177,
   "metadata": {},
   "outputs": [],
   "source": [
    "#donnees de base\n",
    "gdf_global=gp.GeoDataFrame(df, geometry='geom')"
   ]
  },
  {
   "cell_type": "code",
   "execution_count": 178,
   "metadata": {},
   "outputs": [],
   "source": [
    "#recherche des lignes proches du centroid\n",
    "lignes_possibles=gdf_global.cx[xmin:xmax,ymin:ymax]"
   ]
  },
  {
   "cell_type": "code",
   "execution_count": null,
   "metadata": {},
   "outputs": [],
   "source": [
    "lignes_possibles"
   ]
  },
  {
   "cell_type": "code",
   "execution_count": 180,
   "metadata": {},
   "outputs": [],
   "source": [
    "#uniquement les lignes non présentes dans la liste de troncons avec le même nom de voie\n",
    "ligne_filtres=lignes_possibles.loc[(~lignes_possibles.index.isin(liste_troncon)) & (lignes_possibles['numero']==gdf_lignes.iloc[0]['numero'])]"
   ]
  },
  {
   "cell_type": "code",
   "execution_count": null,
   "metadata": {},
   "outputs": [],
   "source": [
    "#obtenir les distances au centroid\n",
    "ligne_filtres['distance']=ligne_filtres.geom.apply(lambda x : gdf_lignes2.centroid.distance(x))"
   ]
  },
  {
   "cell_type": "code",
   "execution_count": 182,
   "metadata": {},
   "outputs": [
    {
     "data": {
      "text/plain": [
       "'TRONROUT0000000202559739'"
      ]
     },
     "execution_count": 182,
     "metadata": {},
     "output_type": "execute_result"
    }
   ],
   "source": [
    "#garder uniquement la valeur la plus proche du centroid\n",
    "ligne_filtres.loc[ligne_filtres['distance']==ligne_filtres['distance'].min()].index[0]"
   ]
  },
  {
   "cell_type": "markdown",
   "metadata": {},
   "source": [
    "POUR TRAITEMENT DES ROND POINTS"
   ]
  },
  {
   "cell_type": "code",
   "execution_count": 4,
   "metadata": {},
   "outputs": [],
   "source": [
    "#polygoniser les lignes\n",
    "#creer la gdf\n",
    "df.crs={'init':'epsg:2154'}"
   ]
  },
  {
   "cell_type": "code",
   "execution_count": 292,
   "metadata": {},
   "outputs": [],
   "source": [
    "#creer la lsite des rd points selon le critere atmo aura ; creer une gdf avec la liste\n",
    "liste_rd_points=[t.buffer(0.1) for t in polygonize(df.geometry) if 12<=((t.length**2)/t.area)<=14]\n",
    "dico_rd_pt=[[i, ((t.length**2)/t.area)] for i,t in enumerate(polygonize(df.geometry))if 12<=((t.length**2)/t.area)<=14]\n",
    "gdf_rd_point=gp.GeoDataFrame(dico_rd_pt, geometry=liste_rd_points)\n",
    "gdf_rd_point.crs={'init':'epsg:2154'}\n",
    "gdf_rd_point.columns=['id_rdpt', 'facteur','geometry']  \n",
    "#on créer aussi la meme donnees avec un buffer interiuer, pour ne garder que les lignes dans le buffer exteriuer et hors buffer interieur (cas de rond point enjmabeant uine 2*2 et prenant la 2*2 voie qui est dans le polygone\n",
    "liste_rd_points_int=[t.buffer(-0.1) for t in polygonize(df.geometry) if 12<=((t.length**2)/t.area)<=14]\n",
    "dico_rd_pt_int=[[i, ((t.length**2)/t.area)] for i,t in enumerate(polygonize(df.geometry)) if 12<=((t.length**2)/t.area)<=14]\n",
    "gdf_rd_point_int=gp.GeoDataFrame(dico_rd_pt_int, geometry=liste_rd_points_int)\n",
    "gdf_rd_point_int.crs={'init':'epsg:2154'}\n",
    "gdf_rd_point_int.columns=['id_rdpt', 'facteur','geometry'] \n",
    "#jointure spataile pour une gdf avec uniquement les lignes des rd_points avec le numéro\n",
    "l_dans_p=gp.sjoin(df.drop('id_rdpt',axis=1),gdf_rd_point,op='within') \n",
    "l_dans_p_int=gp.sjoin(df.drop('id_rdpt',axis=1),gdf_rd_point_int,op='within')\n",
    "l_dans_p_final=l_dans_p.loc[~l_dans_p.index.isin(l_dans_p_int.index.tolist())] "
   ]
  },
  {
   "cell_type": "code",
   "execution_count": 293,
   "metadata": {},
   "outputs": [],
   "source": [
    "#lignes qui touchent rd points\n",
    "#1.ligne qui intersectent avec id_rdpt\n",
    "l_intersct_rdpt=gp.sjoin(df.drop('id_rdpt',axis=1),l_dans_p_final.drop('index_right', axis=1), how='inner',op='intersects')"
   ]
  },
  {
   "cell_type": "code",
   "execution_count": 294,
   "metadata": {},
   "outputs": [],
   "source": [
    "#2.filtre de celle contenue dans le rd points \n",
    "l_intersct_rdpt=l_intersct_rdpt.loc[~l_intersct_rdpt.index.isin(l_dans_p_final.index.tolist())][['id_rdpt','numero_left','codevoie_d_left']]"
   ]
  },
  {
   "cell_type": "code",
   "execution_count": 295,
   "metadata": {},
   "outputs": [],
   "source": [
    "#trouver le nb de voies qui intersectent chaque rd point et leur noms. renomer les colonnes\n",
    "carac_rd_pt=(pd.concat([l_intersct_rdpt.groupby('id_rdpt').numero_left.nunique(),\n",
    "    l_intersct_rdpt.groupby('id_rdpt')['numero_left'].apply(lambda x: ','.join(set(x))),\n",
    "    l_intersct_rdpt.groupby('id_rdpt')['codevoie_d_left'].apply(lambda x: ','.join(set(x)))], axis=1))\n",
    "carac_rd_pt.columns=['nb_rte_rdpt', 'nom_rte_rdpt','codevoie_rdpt']"
   ]
  },
  {
   "cell_type": "code",
   "execution_count": 303,
   "metadata": {},
   "outputs": [
    {
     "data": {
      "text/plain": [
       "nb_rte_rdpt       int64\n",
       "nom_rte_rdpt     object\n",
       "codevoie_rdpt    object\n",
       "dtype: object"
      ]
     },
     "execution_count": 303,
     "metadata": {},
     "output_type": "execute_result"
    }
   ],
   "source": [
    "carac_rd_pt.dtypes"
   ]
  },
  {
   "cell_type": "code",
   "execution_count": 297,
   "metadata": {},
   "outputs": [],
   "source": [
    "#ajouter l'id_rdpt aux données\n",
    "gdf_l_rd_point=pd.concat([df.drop('id_rdpt',axis=1),l_dans_p_final.loc[:,'id_rdpt']],axis=1, sort=False)"
   ]
  },
  {
   "cell_type": "code",
   "execution_count": 298,
   "metadata": {},
   "outputs": [],
   "source": [
    "#mettre à jour la nature\n",
    "gdf_l_rd_point['nature']=gdf_l_rd_point.apply(lambda x : 'Rd_pt' if x.id_rdpt>=0 else x['nature'], axis=1)"
   ]
  },
  {
   "cell_type": "code",
   "execution_count": 299,
   "metadata": {},
   "outputs": [],
   "source": [
    "#ajouter les infos du rd point (nb voies différentes et nom)\n",
    "gdf_avec_rd_pt=gdf_l_rd_point.merge(carac_rd_pt, how='left',left_on='id_rdpt', right_index=True)"
   ]
  },
  {
   "cell_type": "code",
   "execution_count": 320,
   "metadata": {},
   "outputs": [],
   "source": [
    "def assigne_rdpt(id_rdpt,numero, liste_num, codevoie, liste_code) : \n",
    "    if id_rdpt >=0 :\n",
    "        if (numero in liste_num) or (codevoie in liste_code) :\n",
    "            return True\n",
    "        else : \n",
    "            return False"
   ]
  },
  {
   "cell_type": "code",
   "execution_count": 322,
   "metadata": {},
   "outputs": [
    {
     "data": {
      "text/html": [
       "<div>\n",
       "<style scoped>\n",
       "    .dataframe tbody tr th:only-of-type {\n",
       "        vertical-align: middle;\n",
       "    }\n",
       "\n",
       "    .dataframe tbody tr th {\n",
       "        vertical-align: top;\n",
       "    }\n",
       "\n",
       "    .dataframe thead th {\n",
       "        text-align: right;\n",
       "    }\n",
       "</style>\n",
       "<table border=\"1\" class=\"dataframe\">\n",
       "  <thead>\n",
       "    <tr style=\"text-align: right;\">\n",
       "      <th></th>\n",
       "      <th>id</th>\n",
       "      <th>prec_plani</th>\n",
       "      <th>prec_alti</th>\n",
       "      <th>nature</th>\n",
       "      <th>numero</th>\n",
       "      <th>nom_voie_g</th>\n",
       "      <th>nom_voie_d</th>\n",
       "      <th>importance</th>\n",
       "      <th>cl_admin</th>\n",
       "      <th>gestion</th>\n",
       "      <th>...</th>\n",
       "      <th>src_geom</th>\n",
       "      <th>nb_intrsct_tgt</th>\n",
       "      <th>tgt_geom</th>\n",
       "      <th>nb_rte_rdpt_x</th>\n",
       "      <th>nom_rte_rdpt_x</th>\n",
       "      <th>id_rdpt</th>\n",
       "      <th>nb_rte_rdpt_y</th>\n",
       "      <th>nom_rte_rdpt_y</th>\n",
       "      <th>codevoie_rdpt</th>\n",
       "      <th>assigne_rdpt</th>\n",
       "    </tr>\n",
       "  </thead>\n",
       "  <tbody>\n",
       "    <tr>\n",
       "      <th>TRONROUT0000000084053019</th>\n",
       "      <td>41306</td>\n",
       "      <td>2.5</td>\n",
       "      <td>2.5</td>\n",
       "      <td>Rd_pt</td>\n",
       "      <td>D939BIS</td>\n",
       "      <td>None</td>\n",
       "      <td>None</td>\n",
       "      <td>2</td>\n",
       "      <td>Départementale</td>\n",
       "      <td>17</td>\n",
       "      <td>...</td>\n",
       "      <td>POINT(409887.1 6563918.99999999)</td>\n",
       "      <td>3</td>\n",
       "      <td>POINT(409883.7 6563917.09999999)</td>\n",
       "      <td>3.0</td>\n",
       "      <td>NC,D115,D939BIS</td>\n",
       "      <td>0.0</td>\n",
       "      <td>3.0</td>\n",
       "      <td>NC,D115,D939BIS</td>\n",
       "      <td>174340920,NR,174341060</td>\n",
       "      <td>True</td>\n",
       "    </tr>\n",
       "    <tr>\n",
       "      <th>TRONROUT0000000032852544</th>\n",
       "      <td>143359</td>\n",
       "      <td>5.0</td>\n",
       "      <td>2.5</td>\n",
       "      <td>Route à 2 chaussées</td>\n",
       "      <td>NC</td>\n",
       "      <td>BD JOFFRE</td>\n",
       "      <td>BD JOFFRE</td>\n",
       "      <td>3</td>\n",
       "      <td>Autre</td>\n",
       "      <td>NC</td>\n",
       "      <td>...</td>\n",
       "      <td>POINT(380413.8 6570173.89999999)</td>\n",
       "      <td>2</td>\n",
       "      <td>POINT(380404.1 6570156.29999999)</td>\n",
       "      <td>NaN</td>\n",
       "      <td>NaN</td>\n",
       "      <td>NaN</td>\n",
       "      <td>NaN</td>\n",
       "      <td>NaN</td>\n",
       "      <td>NaN</td>\n",
       "      <td>None</td>\n",
       "    </tr>\n",
       "    <tr>\n",
       "      <th>TRONROUT0000000032845355</th>\n",
       "      <td>137522</td>\n",
       "      <td>10.0</td>\n",
       "      <td>2.5</td>\n",
       "      <td>Route à 2 chaussées</td>\n",
       "      <td>NC</td>\n",
       "      <td>BD ANDRE SAUTEL</td>\n",
       "      <td>BD ANDRE SAUTEL</td>\n",
       "      <td>3</td>\n",
       "      <td>Autre</td>\n",
       "      <td>NC</td>\n",
       "      <td>...</td>\n",
       "      <td>POINT(381897.9 6571736.99999999)</td>\n",
       "      <td>2</td>\n",
       "      <td>POINT(381677.2 6571643.79999999)</td>\n",
       "      <td>NaN</td>\n",
       "      <td>NaN</td>\n",
       "      <td>NaN</td>\n",
       "      <td>NaN</td>\n",
       "      <td>NaN</td>\n",
       "      <td>NaN</td>\n",
       "      <td>None</td>\n",
       "    </tr>\n",
       "    <tr>\n",
       "      <th>TRONROUT0000000032845118</th>\n",
       "      <td>137331</td>\n",
       "      <td>10.0</td>\n",
       "      <td>2.5</td>\n",
       "      <td>Route à 2 chaussées</td>\n",
       "      <td>NC</td>\n",
       "      <td>None</td>\n",
       "      <td>None</td>\n",
       "      <td>3</td>\n",
       "      <td>Autre</td>\n",
       "      <td>NC</td>\n",
       "      <td>...</td>\n",
       "      <td>POINT(382080.9 6571816.99999999)</td>\n",
       "      <td>2</td>\n",
       "      <td>POINT(382040.1 6571799.59999999)</td>\n",
       "      <td>NaN</td>\n",
       "      <td>NaN</td>\n",
       "      <td>NaN</td>\n",
       "      <td>NaN</td>\n",
       "      <td>NaN</td>\n",
       "      <td>NaN</td>\n",
       "      <td>None</td>\n",
       "    </tr>\n",
       "    <tr>\n",
       "      <th>TRONROUT0000000032863601</th>\n",
       "      <td>151781</td>\n",
       "      <td>1.5</td>\n",
       "      <td>1.0</td>\n",
       "      <td>Route à 1 chaussée</td>\n",
       "      <td>D111</td>\n",
       "      <td>None</td>\n",
       "      <td>None</td>\n",
       "      <td>3</td>\n",
       "      <td>Départementale</td>\n",
       "      <td>17</td>\n",
       "      <td>...</td>\n",
       "      <td>POINT(417180.2 6564380.39999999)</td>\n",
       "      <td>2</td>\n",
       "      <td>POINT(417805.2 6564551.39999999)</td>\n",
       "      <td>NaN</td>\n",
       "      <td>NaN</td>\n",
       "      <td>NaN</td>\n",
       "      <td>NaN</td>\n",
       "      <td>NaN</td>\n",
       "      <td>NaN</td>\n",
       "      <td>None</td>\n",
       "    </tr>\n",
       "  </tbody>\n",
       "</table>\n",
       "<p>5 rows × 53 columns</p>\n",
       "</div>"
      ],
      "text/plain": [
       "                              id  prec_plani  prec_alti               nature  \\\n",
       "TRONROUT0000000084053019   41306         2.5        2.5                Rd_pt   \n",
       "TRONROUT0000000032852544  143359         5.0        2.5  Route à 2 chaussées   \n",
       "TRONROUT0000000032845355  137522        10.0        2.5  Route à 2 chaussées   \n",
       "TRONROUT0000000032845118  137331        10.0        2.5  Route à 2 chaussées   \n",
       "TRONROUT0000000032863601  151781         1.5        1.0   Route à 1 chaussée   \n",
       "\n",
       "                           numero       nom_voie_g       nom_voie_d  \\\n",
       "TRONROUT0000000084053019  D939BIS             None             None   \n",
       "TRONROUT0000000032852544       NC        BD JOFFRE        BD JOFFRE   \n",
       "TRONROUT0000000032845355       NC  BD ANDRE SAUTEL  BD ANDRE SAUTEL   \n",
       "TRONROUT0000000032845118       NC             None             None   \n",
       "TRONROUT0000000032863601     D111             None             None   \n",
       "\n",
       "                         importance        cl_admin gestion     ...       \\\n",
       "TRONROUT0000000084053019          2  Départementale      17     ...        \n",
       "TRONROUT0000000032852544          3           Autre      NC     ...        \n",
       "TRONROUT0000000032845355          3           Autre      NC     ...        \n",
       "TRONROUT0000000032845118          3           Autre      NC     ...        \n",
       "TRONROUT0000000032863601          3  Départementale      17     ...        \n",
       "\n",
       "                                                  src_geom nb_intrsct_tgt  \\\n",
       "TRONROUT0000000084053019  POINT(409887.1 6563918.99999999)              3   \n",
       "TRONROUT0000000032852544  POINT(380413.8 6570173.89999999)              2   \n",
       "TRONROUT0000000032845355  POINT(381897.9 6571736.99999999)              2   \n",
       "TRONROUT0000000032845118  POINT(382080.9 6571816.99999999)              2   \n",
       "TRONROUT0000000032863601  POINT(417180.2 6564380.39999999)              2   \n",
       "\n",
       "                                                  tgt_geom nb_rte_rdpt_x  \\\n",
       "TRONROUT0000000084053019  POINT(409883.7 6563917.09999999)           3.0   \n",
       "TRONROUT0000000032852544  POINT(380404.1 6570156.29999999)           NaN   \n",
       "TRONROUT0000000032845355  POINT(381677.2 6571643.79999999)           NaN   \n",
       "TRONROUT0000000032845118  POINT(382040.1 6571799.59999999)           NaN   \n",
       "TRONROUT0000000032863601  POINT(417805.2 6564551.39999999)           NaN   \n",
       "\n",
       "                           nom_rte_rdpt_x  id_rdpt nb_rte_rdpt_y  \\\n",
       "TRONROUT0000000084053019  NC,D115,D939BIS      0.0           3.0   \n",
       "TRONROUT0000000032852544              NaN      NaN           NaN   \n",
       "TRONROUT0000000032845355              NaN      NaN           NaN   \n",
       "TRONROUT0000000032845118              NaN      NaN           NaN   \n",
       "TRONROUT0000000032863601              NaN      NaN           NaN   \n",
       "\n",
       "                           nom_rte_rdpt_y           codevoie_rdpt assigne_rdpt  \n",
       "TRONROUT0000000084053019  NC,D115,D939BIS  174340920,NR,174341060         True  \n",
       "TRONROUT0000000032852544              NaN                     NaN         None  \n",
       "TRONROUT0000000032845355              NaN                     NaN         None  \n",
       "TRONROUT0000000032845118              NaN                     NaN         None  \n",
       "TRONROUT0000000032863601              NaN                     NaN         None  \n",
       "\n",
       "[5 rows x 53 columns]"
      ]
     },
     "execution_count": 322,
     "metadata": {},
     "output_type": "execute_result"
    }
   ],
   "source": [
    "gdf_avec_rd_pt.head(5)"
   ]
  },
  {
   "cell_type": "code",
   "execution_count": 321,
   "metadata": {},
   "outputs": [],
   "source": [
    "gdf_avec_rd_pt['assigne_rdpt']=gdf_avec_rd_pt.apply(lambda x : assigne_rdpt(x['id_rdpt'],x['numero'], x['nom_rte_rdpt_y'], x['codevoie_d'],x['codevoie_rdpt']),axis=1)"
   ]
  },
  {
   "cell_type": "code",
   "execution_count": null,
   "metadata": {},
   "outputs": [],
   "source": [
    "#gdf_avec_rd_pt.loc[gdf_avec_rd_pt.loc[:,'id_rdpt']==l_dans_p['id_rdpt']]\n",
    "gdf_avec_rd_pt['id_rdpt']==l_dans_p['id_rdpt'].astype('float64')\n",
    "#l_dans_p.loc[l_dans_p.loc[:,'id_rdpt']].sort_index().sort_index(axis=1)])"
   ]
  },
  {
   "cell_type": "code",
   "execution_count": 227,
   "metadata": {},
   "outputs": [],
   "source": [
    "#pour export et verif uniquement\n",
    "\n",
    "#gdf_l_rd_point.to_file(r'D:\\temp\\otv\\17\\test_rd_point\\test2.shp')\n",
    "#gdf_rd_point.to_file(r'D:\\temp\\otv\\17\\test_rd_point\\test1.shp')\n",
    "#l_intersct_rdpt.to_file(r'E:\\Boulot\\otv\\test_linearisation_auto\\test3.shp')\n",
    "gdf_avec_rd_pt.to_file(r'D:\\temp\\otv\\17\\test_rd_point\\test4.shp')\n",
    "#df.to_file(r'D:\\temp\\otv\\17\\test_rd_point\\test5.shp')"
   ]
  },
  {
   "cell_type": "code",
   "execution_count": 91,
   "metadata": {},
   "outputs": [
    {
     "data": {
      "text/plain": [
       "'b,c,a'"
      ]
     },
     "execution_count": 91,
     "metadata": {},
     "output_type": "execute_result"
    }
   ],
   "source": [
    "','.join(set(['a','a','b','c']))"
   ]
  },
  {
   "cell_type": "code",
   "execution_count": 228,
   "metadata": {},
   "outputs": [],
   "source": [
    "id_ign_ligne='TRONROUT0000000342862858'\n",
    "df_ligne = df.loc[id_ign_ligne]\n",
    "ligne_traite_troncon=[]\n",
    "ligne_traite_troncon.append(id_ign_ligne)\n",
    "liste_ligne_suivantes=[] \n",
    "liste_ligne_touchees=[]"
   ]
  },
  {
   "cell_type": "code",
   "execution_count": 284,
   "metadata": {},
   "outputs": [
    {
     "name": "stdout",
     "output_type": "stream",
     "text": [
      "['173006945', '173003140', '173006035']\n"
     ]
    },
    {
     "ename": "RTreeError",
     "evalue": "Error in \"Index_CreateWithStream\": IllegalArgumentException: RTree::BulkLoader::bulkLoadUsingSTR: Empty data stream given.",
     "output_type": "error",
     "traceback": [
      "\u001b[1;31m---------------------------------------------------------------------------\u001b[0m",
      "\u001b[1;31mRTreeError\u001b[0m                                Traceback (most recent call last)",
      "\u001b[1;32m<ipython-input-284-2ba4bd219c9b>\u001b[0m in \u001b[0;36m<module>\u001b[1;34m\u001b[0m\n\u001b[0;32m      2\u001b[0m     \u001b[0mdf_touches_source\u001b[0m \u001b[1;33m=\u001b[0m \u001b[0mdf\u001b[0m\u001b[1;33m.\u001b[0m\u001b[0mloc\u001b[0m\u001b[1;33m[\u001b[0m\u001b[1;33m(\u001b[0m\u001b[1;33m~\u001b[0m\u001b[0mdf\u001b[0m\u001b[1;33m.\u001b[0m\u001b[0mindex\u001b[0m\u001b[1;33m.\u001b[0m\u001b[0misin\u001b[0m\u001b[1;33m(\u001b[0m\u001b[0mligne_traite_troncon\u001b[0m\u001b[1;33m)\u001b[0m\u001b[1;33m)\u001b[0m \u001b[1;33m&\u001b[0m \u001b[1;33m(\u001b[0m\u001b[1;33m(\u001b[0m\u001b[0mdf\u001b[0m\u001b[1;33m[\u001b[0m\u001b[1;34m'source'\u001b[0m\u001b[1;33m]\u001b[0m \u001b[1;33m==\u001b[0m \u001b[0mdf_ligne\u001b[0m\u001b[1;33m[\u001b[0m\u001b[0mvalue\u001b[0m\u001b[1;33m[\u001b[0m\u001b[1;36m0\u001b[0m\u001b[1;33m]\u001b[0m\u001b[1;33m]\u001b[0m\u001b[1;33m)\u001b[0m \u001b[1;33m|\u001b[0m \u001b[1;33m(\u001b[0m\u001b[0mdf\u001b[0m\u001b[1;33m[\u001b[0m\u001b[1;34m'target'\u001b[0m\u001b[1;33m]\u001b[0m \u001b[1;33m==\u001b[0m \u001b[0mdf_ligne\u001b[0m\u001b[1;33m[\u001b[0m\u001b[0mvalue\u001b[0m\u001b[1;33m[\u001b[0m\u001b[1;36m0\u001b[0m\u001b[1;33m]\u001b[0m\u001b[1;33m]\u001b[0m\u001b[1;33m)\u001b[0m\u001b[1;33m)\u001b[0m\u001b[1;33m]\u001b[0m\u001b[1;33m\u001b[0m\u001b[0m\n\u001b[0;32m      3\u001b[0m     \u001b[0mdf_rd_pt\u001b[0m\u001b[1;33m=\u001b[0m\u001b[0mdf\u001b[0m\u001b[1;33m.\u001b[0m\u001b[0mloc\u001b[0m\u001b[1;33m[\u001b[0m\u001b[0mdf\u001b[0m\u001b[1;33m[\u001b[0m\u001b[1;34m'id_rdpt'\u001b[0m\u001b[1;33m]\u001b[0m\u001b[1;33m==\u001b[0m\u001b[0mdf_touches_source\u001b[0m\u001b[1;33m.\u001b[0m\u001b[0miloc\u001b[0m\u001b[1;33m[\u001b[0m\u001b[1;36m0\u001b[0m\u001b[1;33m]\u001b[0m\u001b[1;33m[\u001b[0m\u001b[1;34m'id_rdpt'\u001b[0m\u001b[1;33m]\u001b[0m\u001b[1;33m]\u001b[0m\u001b[1;33m\u001b[0m\u001b[0m\n\u001b[1;32m----> 4\u001b[1;33m     \u001b[0ml_df_rd_pt\u001b[0m\u001b[1;33m=\u001b[0m\u001b[0mdf\u001b[0m\u001b[1;33m.\u001b[0m\u001b[0mloc\u001b[0m\u001b[1;33m[\u001b[0m\u001b[0mdf\u001b[0m\u001b[1;33m.\u001b[0m\u001b[0mindex\u001b[0m\u001b[1;33m.\u001b[0m\u001b[0misin\u001b[0m\u001b[1;33m(\u001b[0m\u001b[0mgp\u001b[0m\u001b[1;33m.\u001b[0m\u001b[0msjoin\u001b[0m\u001b[1;33m(\u001b[0m\u001b[0mdf\u001b[0m\u001b[1;33m,\u001b[0m\u001b[0mdf_rd_pt\u001b[0m\u001b[1;33m,\u001b[0m \u001b[0mhow\u001b[0m\u001b[1;33m=\u001b[0m\u001b[1;34m'inner'\u001b[0m\u001b[1;33m,\u001b[0m\u001b[0mop\u001b[0m\u001b[1;33m=\u001b[0m\u001b[1;34m'intersects'\u001b[0m\u001b[1;33m)\u001b[0m\u001b[1;33m.\u001b[0m\u001b[0mindex\u001b[0m\u001b[1;33m.\u001b[0m\u001b[0munique\u001b[0m\u001b[1;33m(\u001b[0m\u001b[1;33m)\u001b[0m\u001b[1;33m.\u001b[0m\u001b[0mtolist\u001b[0m\u001b[1;33m(\u001b[0m\u001b[1;33m)\u001b[0m\u001b[1;33m)\u001b[0m\u001b[1;33m]\u001b[0m\u001b[1;33m\u001b[0m\u001b[0m\n\u001b[0m\u001b[0;32m      5\u001b[0m     \u001b[0ml_df_rd_pt2\u001b[0m\u001b[1;33m=\u001b[0m\u001b[0ml_df_rd_pt\u001b[0m\u001b[1;33m.\u001b[0m\u001b[0mloc\u001b[0m\u001b[1;33m[\u001b[0m\u001b[1;33m~\u001b[0m\u001b[0ml_df_rd_pt\u001b[0m\u001b[1;33m.\u001b[0m\u001b[0mindex\u001b[0m\u001b[1;33m.\u001b[0m\u001b[0misin\u001b[0m\u001b[1;33m(\u001b[0m\u001b[0mdf_rd_pt\u001b[0m\u001b[1;33m.\u001b[0m\u001b[0mindex\u001b[0m\u001b[1;33m.\u001b[0m\u001b[0mtolist\u001b[0m\u001b[1;33m(\u001b[0m\u001b[1;33m)\u001b[0m\u001b[1;33m)\u001b[0m\u001b[1;33m]\u001b[0m\u001b[1;33m.\u001b[0m\u001b[0mindex\u001b[0m\u001b[1;33m.\u001b[0m\u001b[0munique\u001b[0m\u001b[1;33m(\u001b[0m\u001b[1;33m)\u001b[0m\u001b[1;33m.\u001b[0m\u001b[0mtolist\u001b[0m\u001b[1;33m(\u001b[0m\u001b[1;33m)\u001b[0m\u001b[1;33m\u001b[0m\u001b[0m\n\u001b[0;32m      6\u001b[0m     \u001b[0ml_df_rd_pt3\u001b[0m\u001b[1;33m=\u001b[0m\u001b[0mdf\u001b[0m\u001b[1;33m.\u001b[0m\u001b[0mloc\u001b[0m\u001b[1;33m[\u001b[0m\u001b[0mdf\u001b[0m\u001b[1;33m.\u001b[0m\u001b[0mindex\u001b[0m\u001b[1;33m.\u001b[0m\u001b[0misin\u001b[0m\u001b[1;33m(\u001b[0m\u001b[0ml_df_rd_pt2\u001b[0m\u001b[1;33m)\u001b[0m\u001b[1;33m,\u001b[0m\u001b[1;34m'codevoie_d'\u001b[0m\u001b[1;33m]\u001b[0m\u001b[1;33m.\u001b[0m\u001b[0munique\u001b[0m\u001b[1;33m(\u001b[0m\u001b[1;33m)\u001b[0m\u001b[1;33m.\u001b[0m\u001b[0mtolist\u001b[0m\u001b[1;33m(\u001b[0m\u001b[1;33m)\u001b[0m\u001b[1;33m\u001b[0m\u001b[0m\n",
      "\u001b[1;32mc:\\users\\martin.schoreisz\\appdata\\local\\programs\\python\\python37\\lib\\site-packages\\geopandas\\tools\\sjoin.py\u001b[0m in \u001b[0;36msjoin\u001b[1;34m(left_df, right_df, how, op, lsuffix, rsuffix)\u001b[0m\n\u001b[0;32m     71\u001b[0m     \u001b[0mright_df_bounds\u001b[0m \u001b[1;33m=\u001b[0m \u001b[0mright_df\u001b[0m\u001b[1;33m.\u001b[0m\u001b[0mgeometry\u001b[0m\u001b[1;33m.\u001b[0m\u001b[0mapply\u001b[0m\u001b[1;33m(\u001b[0m\u001b[1;32mlambda\u001b[0m \u001b[0mx\u001b[0m\u001b[1;33m:\u001b[0m \u001b[0mx\u001b[0m\u001b[1;33m.\u001b[0m\u001b[0mbounds\u001b[0m\u001b[1;33m)\u001b[0m\u001b[1;33m\u001b[0m\u001b[0m\n\u001b[0;32m     72\u001b[0m     \u001b[0mstream\u001b[0m \u001b[1;33m=\u001b[0m \u001b[1;33m(\u001b[0m\u001b[1;33m(\u001b[0m\u001b[0mi\u001b[0m\u001b[1;33m,\u001b[0m \u001b[0mb\u001b[0m\u001b[1;33m,\u001b[0m \u001b[1;32mNone\u001b[0m\u001b[1;33m)\u001b[0m \u001b[1;32mfor\u001b[0m \u001b[0mi\u001b[0m\u001b[1;33m,\u001b[0m \u001b[0mb\u001b[0m \u001b[1;32min\u001b[0m \u001b[0menumerate\u001b[0m\u001b[1;33m(\u001b[0m\u001b[0mright_df_bounds\u001b[0m\u001b[1;33m)\u001b[0m\u001b[1;33m)\u001b[0m\u001b[1;33m\u001b[0m\u001b[0m\n\u001b[1;32m---> 73\u001b[1;33m     \u001b[0mtree_idx\u001b[0m \u001b[1;33m=\u001b[0m \u001b[0mrtree\u001b[0m\u001b[1;33m.\u001b[0m\u001b[0mindex\u001b[0m\u001b[1;33m.\u001b[0m\u001b[0mIndex\u001b[0m\u001b[1;33m(\u001b[0m\u001b[0mstream\u001b[0m\u001b[1;33m)\u001b[0m\u001b[1;33m\u001b[0m\u001b[0m\n\u001b[0m\u001b[0;32m     74\u001b[0m \u001b[1;33m\u001b[0m\u001b[0m\n\u001b[0;32m     75\u001b[0m     idxmatch = (left_df.geometry.apply(lambda x: x.bounds)\n",
      "\u001b[1;32mc:\\users\\martin.schoreisz\\appdata\\local\\programs\\python\\python37\\lib\\site-packages\\rtree\\index.py\u001b[0m in \u001b[0;36m__init__\u001b[1;34m(self, *args, **kwargs)\u001b[0m\n\u001b[0;32m    274\u001b[0m \u001b[1;33m\u001b[0m\u001b[0m\n\u001b[0;32m    275\u001b[0m         \u001b[1;32mif\u001b[0m \u001b[0mstream\u001b[0m\u001b[1;33m:\u001b[0m\u001b[1;33m\u001b[0m\u001b[0m\n\u001b[1;32m--> 276\u001b[1;33m             \u001b[0mself\u001b[0m\u001b[1;33m.\u001b[0m\u001b[0mhandle\u001b[0m \u001b[1;33m=\u001b[0m \u001b[0mself\u001b[0m\u001b[1;33m.\u001b[0m\u001b[0m_create_idx_from_stream\u001b[0m\u001b[1;33m(\u001b[0m\u001b[0mstream\u001b[0m\u001b[1;33m)\u001b[0m\u001b[1;33m\u001b[0m\u001b[0m\n\u001b[0m\u001b[0;32m    277\u001b[0m         \u001b[1;32melse\u001b[0m\u001b[1;33m:\u001b[0m\u001b[1;33m\u001b[0m\u001b[0m\n\u001b[0;32m    278\u001b[0m             \u001b[0mself\u001b[0m\u001b[1;33m.\u001b[0m\u001b[0mhandle\u001b[0m \u001b[1;33m=\u001b[0m \u001b[0mIndexHandle\u001b[0m\u001b[1;33m(\u001b[0m\u001b[0mself\u001b[0m\u001b[1;33m.\u001b[0m\u001b[0mproperties\u001b[0m\u001b[1;33m.\u001b[0m\u001b[0mhandle\u001b[0m\u001b[1;33m)\u001b[0m\u001b[1;33m\u001b[0m\u001b[0m\n",
      "\u001b[1;32mc:\\users\\martin.schoreisz\\appdata\\local\\programs\\python\\python37\\lib\\site-packages\\rtree\\index.py\u001b[0m in \u001b[0;36m_create_idx_from_stream\u001b[1;34m(self, stream)\u001b[0m\n\u001b[0;32m    746\u001b[0m \u001b[1;33m\u001b[0m\u001b[0m\n\u001b[0;32m    747\u001b[0m         \u001b[0mstream\u001b[0m \u001b[1;33m=\u001b[0m \u001b[0mcore\u001b[0m\u001b[1;33m.\u001b[0m\u001b[0mNEXTFUNC\u001b[0m\u001b[1;33m(\u001b[0m\u001b[0mpy_next_item\u001b[0m\u001b[1;33m)\u001b[0m\u001b[1;33m\u001b[0m\u001b[0m\n\u001b[1;32m--> 748\u001b[1;33m         \u001b[1;32mreturn\u001b[0m \u001b[0mIndexStreamHandle\u001b[0m\u001b[1;33m(\u001b[0m\u001b[0mself\u001b[0m\u001b[1;33m.\u001b[0m\u001b[0mproperties\u001b[0m\u001b[1;33m.\u001b[0m\u001b[0mhandle\u001b[0m\u001b[1;33m,\u001b[0m \u001b[0mstream\u001b[0m\u001b[1;33m)\u001b[0m\u001b[1;33m\u001b[0m\u001b[0m\n\u001b[0m\u001b[0;32m    749\u001b[0m \u001b[1;33m\u001b[0m\u001b[0m\n\u001b[0;32m    750\u001b[0m     \u001b[1;32mdef\u001b[0m \u001b[0mleaves\u001b[0m\u001b[1;33m(\u001b[0m\u001b[0mself\u001b[0m\u001b[1;33m)\u001b[0m\u001b[1;33m:\u001b[0m\u001b[1;33m\u001b[0m\u001b[0m\n",
      "\u001b[1;32mc:\\users\\martin.schoreisz\\appdata\\local\\programs\\python\\python37\\lib\\site-packages\\rtree\\index.py\u001b[0m in \u001b[0;36m__init__\u001b[1;34m(self, *args, **kwargs)\u001b[0m\n\u001b[0;32m    872\u001b[0m \u001b[1;33m\u001b[0m\u001b[0m\n\u001b[0;32m    873\u001b[0m     \u001b[1;32mdef\u001b[0m \u001b[0m__init__\u001b[0m\u001b[1;33m(\u001b[0m\u001b[0mself\u001b[0m\u001b[1;33m,\u001b[0m \u001b[1;33m*\u001b[0m\u001b[0margs\u001b[0m\u001b[1;33m,\u001b[0m \u001b[1;33m**\u001b[0m\u001b[0mkwargs\u001b[0m\u001b[1;33m)\u001b[0m\u001b[1;33m:\u001b[0m\u001b[1;33m\u001b[0m\u001b[0m\n\u001b[1;32m--> 874\u001b[1;33m         \u001b[0mself\u001b[0m\u001b[1;33m.\u001b[0m\u001b[0m_ptr\u001b[0m \u001b[1;33m=\u001b[0m \u001b[0mself\u001b[0m\u001b[1;33m.\u001b[0m\u001b[0m_create\u001b[0m\u001b[1;33m(\u001b[0m\u001b[1;33m*\u001b[0m\u001b[0margs\u001b[0m\u001b[1;33m,\u001b[0m \u001b[1;33m**\u001b[0m\u001b[0mkwargs\u001b[0m\u001b[1;33m)\u001b[0m\u001b[1;33m\u001b[0m\u001b[0m\n\u001b[0m\u001b[0;32m    875\u001b[0m \u001b[1;33m\u001b[0m\u001b[0m\n\u001b[0;32m    876\u001b[0m     \u001b[1;32mdef\u001b[0m \u001b[0m_create\u001b[0m\u001b[1;33m(\u001b[0m\u001b[0mself\u001b[0m\u001b[1;33m,\u001b[0m \u001b[1;33m*\u001b[0m\u001b[0margs\u001b[0m\u001b[1;33m,\u001b[0m \u001b[1;33m**\u001b[0m\u001b[0mkwargs\u001b[0m\u001b[1;33m)\u001b[0m\u001b[1;33m:\u001b[0m\u001b[1;33m\u001b[0m\u001b[0m\n",
      "\u001b[1;32mc:\\users\\martin.schoreisz\\appdata\\local\\programs\\python\\python37\\lib\\site-packages\\rtree\\core.py\u001b[0m in \u001b[0;36mcheck_void\u001b[1;34m(result, func, cargs)\u001b[0m\n\u001b[0;32m     26\u001b[0m         \u001b[0mmsg\u001b[0m \u001b[1;33m=\u001b[0m \u001b[1;34m'Error in \"%s\": %s'\u001b[0m \u001b[1;33m%\u001b[0m \u001b[1;33m(\u001b[0m\u001b[0mfunc\u001b[0m\u001b[1;33m.\u001b[0m\u001b[0m__name__\u001b[0m\u001b[1;33m,\u001b[0m \u001b[0ms\u001b[0m\u001b[1;33m)\u001b[0m\u001b[1;33m\u001b[0m\u001b[0m\n\u001b[0;32m     27\u001b[0m         \u001b[0mrt\u001b[0m\u001b[1;33m.\u001b[0m\u001b[0mError_Reset\u001b[0m\u001b[1;33m(\u001b[0m\u001b[1;33m)\u001b[0m\u001b[1;33m\u001b[0m\u001b[0m\n\u001b[1;32m---> 28\u001b[1;33m         \u001b[1;32mraise\u001b[0m \u001b[0mRTreeError\u001b[0m\u001b[1;33m(\u001b[0m\u001b[0mmsg\u001b[0m\u001b[1;33m)\u001b[0m\u001b[1;33m\u001b[0m\u001b[0m\n\u001b[0m\u001b[0;32m     29\u001b[0m     \u001b[1;32mreturn\u001b[0m \u001b[0mresult\u001b[0m\u001b[1;33m\u001b[0m\u001b[0m\n\u001b[0;32m     30\u001b[0m \u001b[1;33m\u001b[0m\u001b[0m\n",
      "\u001b[1;31mRTreeError\u001b[0m: Error in \"Index_CreateWithStream\": IllegalArgumentException: RTree::BulkLoader::bulkLoadUsingSTR: Empty data stream given."
     ]
    }
   ],
   "source": [
    "for key, value in {'nb_intrsct_src':['source', 'src_geom'],'nb_intrsct_tgt':['target', 'tgt_geom']}.items() :\n",
    "    df_touches_source = df.loc[(~df.index.isin(ligne_traite_troncon)) & ((df['source'] == df_ligne[value[0]]) | (df['target'] == df_ligne[value[0]]))]\n",
    "    df_rd_pt=df.loc[df['id_rdpt']==df_touches_source.iloc[0]['id_rdpt']]\n",
    "    l_df_rd_pt=df.loc[df.index.isin(gp.sjoin(df,df_rd_pt, how='inner',op='intersects').index.unique().tolist())]\n",
    "    l_df_rd_pt2=l_df_rd_pt.loc[~l_df_rd_pt.index.isin(df_rd_pt.index.tolist())].index.unique().tolist()\n",
    "    l_df_rd_pt3=df.loc[df.index.isin(l_df_rd_pt2),'codevoie_d'].unique().tolist()\n",
    "    print(l_df_rd_pt3)\n",
    "    #liste_ligne_touchees+=df_touches_source.index.tolist()"
   ]
  },
  {
   "cell_type": "code",
   "execution_count": 233,
   "metadata": {},
   "outputs": [
    {
     "data": {
      "text/plain": [
       "[nan]"
      ]
     },
     "execution_count": 233,
     "metadata": {},
     "output_type": "execute_result"
    }
   ],
   "source": [
    "df_touches_source['id_rdpt'].values.tolist()"
   ]
  },
  {
   "cell_type": "code",
   "execution_count": 231,
   "metadata": {},
   "outputs": [
    {
     "data": {
      "text/plain": [
       "['TRONROUT0000000032845699',\n",
       " 'TRONROUT0000000032845656',\n",
       " 'TRONROUT0000000032845688']"
      ]
     },
     "execution_count": 231,
     "metadata": {},
     "output_type": "execute_result"
    }
   ],
   "source": [
    "liste_ligne_touchees"
   ]
  },
  {
   "cell_type": "code",
   "execution_count": null,
   "metadata": {},
   "outputs": [],
   "source": []
  }
 ],
 "metadata": {
  "kernelspec": {
   "display_name": "Python 3",
   "language": "python",
   "name": "python3"
  },
  "language_info": {
   "codemirror_mode": {
    "name": "ipython",
    "version": 3
   },
   "file_extension": ".py",
   "mimetype": "text/x-python",
   "name": "python",
   "nbconvert_exporter": "python",
   "pygments_lexer": "ipython3",
   "version": "3.7.0"
  }
 },
 "nbformat": 4,
 "nbformat_minor": 2
}
