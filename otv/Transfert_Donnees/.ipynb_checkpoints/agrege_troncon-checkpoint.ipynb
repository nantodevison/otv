{
 "cells": [
  {
   "cell_type": "code",
   "execution_count": 1,
   "metadata": {},
   "outputs": [
    {
     "ename": "UnicodeDecodeError",
     "evalue": "'utf-8' codec can't decode byte 0xe9 in position 85: invalid continuation byte",
     "output_type": "error",
     "traceback": [
      "\u001b[1;31m---------------------------------------------------------------------------\u001b[0m",
      "\u001b[1;31mUnicodeDecodeError\u001b[0m                        Traceback (most recent call last)",
      "\u001b[1;31mUnicodeDecodeError\u001b[0m: 'utf-8' codec can't decode byte 0xe9 in position 85: invalid continuation byte"
     ]
    },
    {
     "name": "stderr",
     "output_type": "stream",
     "text": [
      "Exception ignored in: 'fiona._env.log_error'\n",
      "UnicodeDecodeError: 'utf-8' codec can't decode byte 0xe9 in position 85: invalid continuation byte\n"
     ]
    },
    {
     "ename": "UnicodeDecodeError",
     "evalue": "'utf-8' codec can't decode byte 0xe9 in position 85: invalid continuation byte",
     "output_type": "error",
     "traceback": [
      "\u001b[1;31m---------------------------------------------------------------------------\u001b[0m",
      "\u001b[1;31mUnicodeDecodeError\u001b[0m                        Traceback (most recent call last)",
      "\u001b[1;31mUnicodeDecodeError\u001b[0m: 'utf-8' codec can't decode byte 0xe9 in position 85: invalid continuation byte"
     ]
    },
    {
     "name": "stderr",
     "output_type": "stream",
     "text": [
      "Exception ignored in: 'fiona._env.log_error'\n",
      "UnicodeDecodeError: 'utf-8' codec can't decode byte 0xe9 in position 85: invalid continuation byte\n"
     ]
    },
    {
     "ename": "UnicodeDecodeError",
     "evalue": "'utf-8' codec can't decode byte 0xe9 in position 86: invalid continuation byte",
     "output_type": "error",
     "traceback": [
      "\u001b[1;31m---------------------------------------------------------------------------\u001b[0m",
      "\u001b[1;31mUnicodeDecodeError\u001b[0m                        Traceback (most recent call last)",
      "\u001b[1;31mUnicodeDecodeError\u001b[0m: 'utf-8' codec can't decode byte 0xe9 in position 86: invalid continuation byte"
     ]
    },
    {
     "name": "stderr",
     "output_type": "stream",
     "text": [
      "Exception ignored in: 'fiona._env.log_error'\n",
      "UnicodeDecodeError: 'utf-8' codec can't decode byte 0xe9 in position 86: invalid continuation byte\n"
     ]
    },
    {
     "ename": "UnicodeDecodeError",
     "evalue": "'utf-8' codec can't decode byte 0xe9 in position 86: invalid continuation byte",
     "output_type": "error",
     "traceback": [
      "\u001b[1;31m---------------------------------------------------------------------------\u001b[0m",
      "\u001b[1;31mUnicodeDecodeError\u001b[0m                        Traceback (most recent call last)",
      "\u001b[1;31mUnicodeDecodeError\u001b[0m: 'utf-8' codec can't decode byte 0xe9 in position 86: invalid continuation byte"
     ]
    },
    {
     "name": "stderr",
     "output_type": "stream",
     "text": [
      "Exception ignored in: 'fiona._env.log_error'\n",
      "UnicodeDecodeError: 'utf-8' codec can't decode byte 0xe9 in position 86: invalid continuation byte\n"
     ]
    },
    {
     "ename": "UnicodeDecodeError",
     "evalue": "'utf-8' codec can't decode byte 0xe9 in position 85: invalid continuation byte",
     "output_type": "error",
     "traceback": [
      "\u001b[1;31m---------------------------------------------------------------------------\u001b[0m",
      "\u001b[1;31mUnicodeDecodeError\u001b[0m                        Traceback (most recent call last)",
      "\u001b[1;31mUnicodeDecodeError\u001b[0m: 'utf-8' codec can't decode byte 0xe9 in position 85: invalid continuation byte"
     ]
    },
    {
     "name": "stderr",
     "output_type": "stream",
     "text": [
      "Exception ignored in: 'fiona._env.log_error'\n",
      "UnicodeDecodeError: 'utf-8' codec can't decode byte 0xe9 in position 85: invalid continuation byte\n"
     ]
    },
    {
     "ename": "UnicodeDecodeError",
     "evalue": "'utf-8' codec can't decode byte 0xe9 in position 85: invalid continuation byte",
     "output_type": "error",
     "traceback": [
      "\u001b[1;31m---------------------------------------------------------------------------\u001b[0m",
      "\u001b[1;31mUnicodeDecodeError\u001b[0m                        Traceback (most recent call last)",
      "\u001b[1;31mUnicodeDecodeError\u001b[0m: 'utf-8' codec can't decode byte 0xe9 in position 85: invalid continuation byte"
     ]
    },
    {
     "name": "stderr",
     "output_type": "stream",
     "text": [
      "Exception ignored in: 'fiona._env.log_error'\n",
      "UnicodeDecodeError: 'utf-8' codec can't decode byte 0xe9 in position 85: invalid continuation byte\n"
     ]
    },
    {
     "ename": "UnicodeDecodeError",
     "evalue": "'utf-8' codec can't decode byte 0xe9 in position 86: invalid continuation byte",
     "output_type": "error",
     "traceback": [
      "\u001b[1;31m---------------------------------------------------------------------------\u001b[0m",
      "\u001b[1;31mUnicodeDecodeError\u001b[0m                        Traceback (most recent call last)",
      "\u001b[1;31mUnicodeDecodeError\u001b[0m: 'utf-8' codec can't decode byte 0xe9 in position 86: invalid continuation byte"
     ]
    },
    {
     "name": "stderr",
     "output_type": "stream",
     "text": [
      "Exception ignored in: 'fiona._env.log_error'\n",
      "UnicodeDecodeError: 'utf-8' codec can't decode byte 0xe9 in position 86: invalid continuation byte\n"
     ]
    },
    {
     "ename": "UnicodeDecodeError",
     "evalue": "'utf-8' codec can't decode byte 0xe9 in position 86: invalid continuation byte",
     "output_type": "error",
     "traceback": [
      "\u001b[1;31m---------------------------------------------------------------------------\u001b[0m",
      "\u001b[1;31mUnicodeDecodeError\u001b[0m                        Traceback (most recent call last)",
      "\u001b[1;31mUnicodeDecodeError\u001b[0m: 'utf-8' codec can't decode byte 0xe9 in position 86: invalid continuation byte"
     ]
    },
    {
     "name": "stderr",
     "output_type": "stream",
     "text": [
      "Exception ignored in: 'fiona._env.log_error'\n",
      "UnicodeDecodeError: 'utf-8' codec can't decode byte 0xe9 in position 86: invalid continuation byte\n"
     ]
    },
    {
     "ename": "UnicodeDecodeError",
     "evalue": "'utf-8' codec can't decode byte 0xe9 in position 91: invalid continuation byte",
     "output_type": "error",
     "traceback": [
      "\u001b[1;31m---------------------------------------------------------------------------\u001b[0m",
      "\u001b[1;31mUnicodeDecodeError\u001b[0m                        Traceback (most recent call last)",
      "\u001b[1;31mUnicodeDecodeError\u001b[0m: 'utf-8' codec can't decode byte 0xe9 in position 91: invalid continuation byte"
     ]
    },
    {
     "name": "stderr",
     "output_type": "stream",
     "text": [
      "Exception ignored in: 'fiona._env.log_error'\n",
      "UnicodeDecodeError: 'utf-8' codec can't decode byte 0xe9 in position 91: invalid continuation byte\n"
     ]
    },
    {
     "ename": "UnicodeDecodeError",
     "evalue": "'utf-8' codec can't decode byte 0xe9 in position 91: invalid continuation byte",
     "output_type": "error",
     "traceback": [
      "\u001b[1;31m---------------------------------------------------------------------------\u001b[0m",
      "\u001b[1;31mUnicodeDecodeError\u001b[0m                        Traceback (most recent call last)",
      "\u001b[1;31mUnicodeDecodeError\u001b[0m: 'utf-8' codec can't decode byte 0xe9 in position 91: invalid continuation byte"
     ]
    },
    {
     "name": "stderr",
     "output_type": "stream",
     "text": [
      "Exception ignored in: 'fiona._env.log_error'\n",
      "UnicodeDecodeError: 'utf-8' codec can't decode byte 0xe9 in position 91: invalid continuation byte\n"
     ]
    },
    {
     "ename": "UnicodeDecodeError",
     "evalue": "'utf-8' codec can't decode byte 0xe9 in position 86: invalid continuation byte",
     "output_type": "error",
     "traceback": [
      "\u001b[1;31m---------------------------------------------------------------------------\u001b[0m",
      "\u001b[1;31mUnicodeDecodeError\u001b[0m                        Traceback (most recent call last)",
      "\u001b[1;31mUnicodeDecodeError\u001b[0m: 'utf-8' codec can't decode byte 0xe9 in position 86: invalid continuation byte"
     ]
    },
    {
     "name": "stderr",
     "output_type": "stream",
     "text": [
      "Exception ignored in: 'fiona._env.log_error'\n",
      "UnicodeDecodeError: 'utf-8' codec can't decode byte 0xe9 in position 86: invalid continuation byte\n"
     ]
    },
    {
     "ename": "UnicodeDecodeError",
     "evalue": "'utf-8' codec can't decode byte 0xe9 in position 86: invalid continuation byte",
     "output_type": "error",
     "traceback": [
      "\u001b[1;31m---------------------------------------------------------------------------\u001b[0m",
      "\u001b[1;31mUnicodeDecodeError\u001b[0m                        Traceback (most recent call last)",
      "\u001b[1;31mUnicodeDecodeError\u001b[0m: 'utf-8' codec can't decode byte 0xe9 in position 86: invalid continuation byte"
     ]
    },
    {
     "name": "stderr",
     "output_type": "stream",
     "text": [
      "Exception ignored in: 'fiona._env.log_error'\n",
      "UnicodeDecodeError: 'utf-8' codec can't decode byte 0xe9 in position 86: invalid continuation byte\n"
     ]
    },
    {
     "ename": "UnicodeDecodeError",
     "evalue": "'utf-8' codec can't decode byte 0xe9 in position 91: invalid continuation byte",
     "output_type": "error",
     "traceback": [
      "\u001b[1;31m---------------------------------------------------------------------------\u001b[0m",
      "\u001b[1;31mUnicodeDecodeError\u001b[0m                        Traceback (most recent call last)",
      "\u001b[1;31mUnicodeDecodeError\u001b[0m: 'utf-8' codec can't decode byte 0xe9 in position 91: invalid continuation byte"
     ]
    },
    {
     "name": "stderr",
     "output_type": "stream",
     "text": [
      "Exception ignored in: 'fiona._env.log_error'\n",
      "UnicodeDecodeError: 'utf-8' codec can't decode byte 0xe9 in position 91: invalid continuation byte\n"
     ]
    },
    {
     "ename": "UnicodeDecodeError",
     "evalue": "'utf-8' codec can't decode byte 0xe9 in position 91: invalid continuation byte",
     "output_type": "error",
     "traceback": [
      "\u001b[1;31m---------------------------------------------------------------------------\u001b[0m",
      "\u001b[1;31mUnicodeDecodeError\u001b[0m                        Traceback (most recent call last)",
      "\u001b[1;31mUnicodeDecodeError\u001b[0m: 'utf-8' codec can't decode byte 0xe9 in position 91: invalid continuation byte"
     ]
    },
    {
     "name": "stderr",
     "output_type": "stream",
     "text": [
      "Exception ignored in: 'fiona._env.log_error'\n",
      "UnicodeDecodeError: 'utf-8' codec can't decode byte 0xe9 in position 91: invalid continuation byte\n"
     ]
    },
    {
     "ename": "UnicodeDecodeError",
     "evalue": "'utf-8' codec can't decode byte 0xe9 in position 85: invalid continuation byte",
     "output_type": "error",
     "traceback": [
      "\u001b[1;31m---------------------------------------------------------------------------\u001b[0m",
      "\u001b[1;31mUnicodeDecodeError\u001b[0m                        Traceback (most recent call last)",
      "\u001b[1;31mUnicodeDecodeError\u001b[0m: 'utf-8' codec can't decode byte 0xe9 in position 85: invalid continuation byte"
     ]
    },
    {
     "name": "stderr",
     "output_type": "stream",
     "text": [
      "Exception ignored in: 'fiona._env.log_error'\n",
      "UnicodeDecodeError: 'utf-8' codec can't decode byte 0xe9 in position 85: invalid continuation byte\n"
     ]
    },
    {
     "ename": "UnicodeDecodeError",
     "evalue": "'utf-8' codec can't decode byte 0xe9 in position 85: invalid continuation byte",
     "output_type": "error",
     "traceback": [
      "\u001b[1;31m---------------------------------------------------------------------------\u001b[0m",
      "\u001b[1;31mUnicodeDecodeError\u001b[0m                        Traceback (most recent call last)",
      "\u001b[1;31mUnicodeDecodeError\u001b[0m: 'utf-8' codec can't decode byte 0xe9 in position 85: invalid continuation byte"
     ]
    },
    {
     "name": "stderr",
     "output_type": "stream",
     "text": [
      "Exception ignored in: 'fiona._env.log_error'\n",
      "UnicodeDecodeError: 'utf-8' codec can't decode byte 0xe9 in position 85: invalid continuation byte\n"
     ]
    },
    {
     "ename": "UnicodeDecodeError",
     "evalue": "'utf-8' codec can't decode byte 0xe9 in position 88: invalid continuation byte",
     "output_type": "error",
     "traceback": [
      "\u001b[1;31m---------------------------------------------------------------------------\u001b[0m",
      "\u001b[1;31mUnicodeDecodeError\u001b[0m                        Traceback (most recent call last)",
      "\u001b[1;31mUnicodeDecodeError\u001b[0m: 'utf-8' codec can't decode byte 0xe9 in position 88: invalid continuation byte"
     ]
    },
    {
     "name": "stderr",
     "output_type": "stream",
     "text": [
      "Exception ignored in: 'fiona._env.log_error'\n",
      "UnicodeDecodeError: 'utf-8' codec can't decode byte 0xe9 in position 88: invalid continuation byte\n"
     ]
    },
    {
     "ename": "UnicodeDecodeError",
     "evalue": "'utf-8' codec can't decode byte 0xe9 in position 88: invalid continuation byte",
     "output_type": "error",
     "traceback": [
      "\u001b[1;31m---------------------------------------------------------------------------\u001b[0m",
      "\u001b[1;31mUnicodeDecodeError\u001b[0m                        Traceback (most recent call last)",
      "\u001b[1;31mUnicodeDecodeError\u001b[0m: 'utf-8' codec can't decode byte 0xe9 in position 88: invalid continuation byte"
     ]
    },
    {
     "name": "stderr",
     "output_type": "stream",
     "text": [
      "Exception ignored in: 'fiona._env.log_error'\n",
      "UnicodeDecodeError: 'utf-8' codec can't decode byte 0xe9 in position 88: invalid continuation byte\n"
     ]
    },
    {
     "ename": "UnicodeDecodeError",
     "evalue": "'utf-8' codec can't decode byte 0xe9 in position 85: invalid continuation byte",
     "output_type": "error",
     "traceback": [
      "\u001b[1;31m---------------------------------------------------------------------------\u001b[0m",
      "\u001b[1;31mUnicodeDecodeError\u001b[0m                        Traceback (most recent call last)",
      "\u001b[1;31mUnicodeDecodeError\u001b[0m: 'utf-8' codec can't decode byte 0xe9 in position 85: invalid continuation byte"
     ]
    },
    {
     "name": "stderr",
     "output_type": "stream",
     "text": [
      "Exception ignored in: 'fiona._env.log_error'\n",
      "UnicodeDecodeError: 'utf-8' codec can't decode byte 0xe9 in position 85: invalid continuation byte\n"
     ]
    },
    {
     "ename": "UnicodeDecodeError",
     "evalue": "'utf-8' codec can't decode byte 0xe9 in position 85: invalid continuation byte",
     "output_type": "error",
     "traceback": [
      "\u001b[1;31m---------------------------------------------------------------------------\u001b[0m",
      "\u001b[1;31mUnicodeDecodeError\u001b[0m                        Traceback (most recent call last)",
      "\u001b[1;31mUnicodeDecodeError\u001b[0m: 'utf-8' codec can't decode byte 0xe9 in position 85: invalid continuation byte"
     ]
    },
    {
     "name": "stderr",
     "output_type": "stream",
     "text": [
      "Exception ignored in: 'fiona._env.log_error'\n",
      "UnicodeDecodeError: 'utf-8' codec can't decode byte 0xe9 in position 85: invalid continuation byte\n"
     ]
    },
    {
     "ename": "UnicodeDecodeError",
     "evalue": "'utf-8' codec can't decode byte 0xe9 in position 86: invalid continuation byte",
     "output_type": "error",
     "traceback": [
      "\u001b[1;31m---------------------------------------------------------------------------\u001b[0m",
      "\u001b[1;31mUnicodeDecodeError\u001b[0m                        Traceback (most recent call last)",
      "\u001b[1;31mUnicodeDecodeError\u001b[0m: 'utf-8' codec can't decode byte 0xe9 in position 86: invalid continuation byte"
     ]
    },
    {
     "name": "stderr",
     "output_type": "stream",
     "text": [
      "Exception ignored in: 'fiona._env.log_error'\n",
      "UnicodeDecodeError: 'utf-8' codec can't decode byte 0xe9 in position 86: invalid continuation byte\n"
     ]
    },
    {
     "ename": "UnicodeDecodeError",
     "evalue": "'utf-8' codec can't decode byte 0xe9 in position 86: invalid continuation byte",
     "output_type": "error",
     "traceback": [
      "\u001b[1;31m---------------------------------------------------------------------------\u001b[0m",
      "\u001b[1;31mUnicodeDecodeError\u001b[0m                        Traceback (most recent call last)",
      "\u001b[1;31mUnicodeDecodeError\u001b[0m: 'utf-8' codec can't decode byte 0xe9 in position 86: invalid continuation byte"
     ]
    },
    {
     "name": "stderr",
     "output_type": "stream",
     "text": [
      "Exception ignored in: 'fiona._env.log_error'\n",
      "UnicodeDecodeError: 'utf-8' codec can't decode byte 0xe9 in position 86: invalid continuation byte\n"
     ]
    },
    {
     "ename": "UnicodeDecodeError",
     "evalue": "'utf-8' codec can't decode byte 0xe9 in position 85: invalid continuation byte",
     "output_type": "error",
     "traceback": [
      "\u001b[1;31m---------------------------------------------------------------------------\u001b[0m",
      "\u001b[1;31mUnicodeDecodeError\u001b[0m                        Traceback (most recent call last)",
      "\u001b[1;31mUnicodeDecodeError\u001b[0m: 'utf-8' codec can't decode byte 0xe9 in position 85: invalid continuation byte"
     ]
    },
    {
     "name": "stderr",
     "output_type": "stream",
     "text": [
      "Exception ignored in: 'fiona._env.log_error'\n",
      "UnicodeDecodeError: 'utf-8' codec can't decode byte 0xe9 in position 85: invalid continuation byte\n"
     ]
    },
    {
     "ename": "UnicodeDecodeError",
     "evalue": "'utf-8' codec can't decode byte 0xe9 in position 85: invalid continuation byte",
     "output_type": "error",
     "traceback": [
      "\u001b[1;31m---------------------------------------------------------------------------\u001b[0m",
      "\u001b[1;31mUnicodeDecodeError\u001b[0m                        Traceback (most recent call last)",
      "\u001b[1;31mUnicodeDecodeError\u001b[0m: 'utf-8' codec can't decode byte 0xe9 in position 85: invalid continuation byte"
     ]
    },
    {
     "name": "stderr",
     "output_type": "stream",
     "text": [
      "Exception ignored in: 'fiona._env.log_error'\n",
      "UnicodeDecodeError: 'utf-8' codec can't decode byte 0xe9 in position 85: invalid continuation byte\n"
     ]
    },
    {
     "ename": "UnicodeDecodeError",
     "evalue": "'utf-8' codec can't decode byte 0xe9 in position 86: invalid continuation byte",
     "output_type": "error",
     "traceback": [
      "\u001b[1;31m---------------------------------------------------------------------------\u001b[0m",
      "\u001b[1;31mUnicodeDecodeError\u001b[0m                        Traceback (most recent call last)",
      "\u001b[1;31mUnicodeDecodeError\u001b[0m: 'utf-8' codec can't decode byte 0xe9 in position 86: invalid continuation byte"
     ]
    },
    {
     "name": "stderr",
     "output_type": "stream",
     "text": [
      "Exception ignored in: 'fiona._env.log_error'\n",
      "UnicodeDecodeError: 'utf-8' codec can't decode byte 0xe9 in position 86: invalid continuation byte\n"
     ]
    },
    {
     "ename": "UnicodeDecodeError",
     "evalue": "'utf-8' codec can't decode byte 0xe9 in position 86: invalid continuation byte",
     "output_type": "error",
     "traceback": [
      "\u001b[1;31m---------------------------------------------------------------------------\u001b[0m",
      "\u001b[1;31mUnicodeDecodeError\u001b[0m                        Traceback (most recent call last)",
      "\u001b[1;31mUnicodeDecodeError\u001b[0m: 'utf-8' codec can't decode byte 0xe9 in position 86: invalid continuation byte"
     ]
    },
    {
     "name": "stderr",
     "output_type": "stream",
     "text": [
      "Exception ignored in: 'fiona._env.log_error'\n",
      "UnicodeDecodeError: 'utf-8' codec can't decode byte 0xe9 in position 86: invalid continuation byte\n"
     ]
    },
    {
     "ename": "UnicodeDecodeError",
     "evalue": "'utf-8' codec can't decode byte 0xe9 in position 91: invalid continuation byte",
     "output_type": "error",
     "traceback": [
      "\u001b[1;31m---------------------------------------------------------------------------\u001b[0m",
      "\u001b[1;31mUnicodeDecodeError\u001b[0m                        Traceback (most recent call last)",
      "\u001b[1;31mUnicodeDecodeError\u001b[0m: 'utf-8' codec can't decode byte 0xe9 in position 91: invalid continuation byte"
     ]
    },
    {
     "name": "stderr",
     "output_type": "stream",
     "text": [
      "Exception ignored in: 'fiona._env.log_error'\n",
      "UnicodeDecodeError: 'utf-8' codec can't decode byte 0xe9 in position 91: invalid continuation byte\n"
     ]
    },
    {
     "ename": "UnicodeDecodeError",
     "evalue": "'utf-8' codec can't decode byte 0xe9 in position 91: invalid continuation byte",
     "output_type": "error",
     "traceback": [
      "\u001b[1;31m---------------------------------------------------------------------------\u001b[0m",
      "\u001b[1;31mUnicodeDecodeError\u001b[0m                        Traceback (most recent call last)",
      "\u001b[1;31mUnicodeDecodeError\u001b[0m: 'utf-8' codec can't decode byte 0xe9 in position 91: invalid continuation byte"
     ]
    },
    {
     "name": "stderr",
     "output_type": "stream",
     "text": [
      "Exception ignored in: 'fiona._env.log_error'\n",
      "UnicodeDecodeError: 'utf-8' codec can't decode byte 0xe9 in position 91: invalid continuation byte\n"
     ]
    },
    {
     "ename": "UnicodeDecodeError",
     "evalue": "'utf-8' codec can't decode byte 0xe9 in position 86: invalid continuation byte",
     "output_type": "error",
     "traceback": [
      "\u001b[1;31m---------------------------------------------------------------------------\u001b[0m",
      "\u001b[1;31mUnicodeDecodeError\u001b[0m                        Traceback (most recent call last)",
      "\u001b[1;31mUnicodeDecodeError\u001b[0m: 'utf-8' codec can't decode byte 0xe9 in position 86: invalid continuation byte"
     ]
    },
    {
     "name": "stderr",
     "output_type": "stream",
     "text": [
      "Exception ignored in: 'fiona._env.log_error'\n",
      "UnicodeDecodeError: 'utf-8' codec can't decode byte 0xe9 in position 86: invalid continuation byte\n"
     ]
    },
    {
     "ename": "UnicodeDecodeError",
     "evalue": "'utf-8' codec can't decode byte 0xe9 in position 86: invalid continuation byte",
     "output_type": "error",
     "traceback": [
      "\u001b[1;31m---------------------------------------------------------------------------\u001b[0m",
      "\u001b[1;31mUnicodeDecodeError\u001b[0m                        Traceback (most recent call last)",
      "\u001b[1;31mUnicodeDecodeError\u001b[0m: 'utf-8' codec can't decode byte 0xe9 in position 86: invalid continuation byte"
     ]
    },
    {
     "name": "stderr",
     "output_type": "stream",
     "text": [
      "Exception ignored in: 'fiona._env.log_error'\n",
      "UnicodeDecodeError: 'utf-8' codec can't decode byte 0xe9 in position 86: invalid continuation byte\n"
     ]
    },
    {
     "ename": "UnicodeDecodeError",
     "evalue": "'utf-8' codec can't decode byte 0xe9 in position 91: invalid continuation byte",
     "output_type": "error",
     "traceback": [
      "\u001b[1;31m---------------------------------------------------------------------------\u001b[0m",
      "\u001b[1;31mUnicodeDecodeError\u001b[0m                        Traceback (most recent call last)",
      "\u001b[1;31mUnicodeDecodeError\u001b[0m: 'utf-8' codec can't decode byte 0xe9 in position 91: invalid continuation byte"
     ]
    },
    {
     "name": "stderr",
     "output_type": "stream",
     "text": [
      "Exception ignored in: 'fiona._env.log_error'\n",
      "UnicodeDecodeError: 'utf-8' codec can't decode byte 0xe9 in position 91: invalid continuation byte\n"
     ]
    },
    {
     "ename": "UnicodeDecodeError",
     "evalue": "'utf-8' codec can't decode byte 0xe9 in position 91: invalid continuation byte",
     "output_type": "error",
     "traceback": [
      "\u001b[1;31m---------------------------------------------------------------------------\u001b[0m",
      "\u001b[1;31mUnicodeDecodeError\u001b[0m                        Traceback (most recent call last)",
      "\u001b[1;31mUnicodeDecodeError\u001b[0m: 'utf-8' codec can't decode byte 0xe9 in position 91: invalid continuation byte"
     ]
    },
    {
     "name": "stderr",
     "output_type": "stream",
     "text": [
      "Exception ignored in: 'fiona._env.log_error'\n",
      "UnicodeDecodeError: 'utf-8' codec can't decode byte 0xe9 in position 91: invalid continuation byte\n"
     ]
    },
    {
     "ename": "UnicodeDecodeError",
     "evalue": "'utf-8' codec can't decode byte 0xe9 in position 85: invalid continuation byte",
     "output_type": "error",
     "traceback": [
      "\u001b[1;31m---------------------------------------------------------------------------\u001b[0m",
      "\u001b[1;31mUnicodeDecodeError\u001b[0m                        Traceback (most recent call last)",
      "\u001b[1;31mUnicodeDecodeError\u001b[0m: 'utf-8' codec can't decode byte 0xe9 in position 85: invalid continuation byte"
     ]
    },
    {
     "name": "stderr",
     "output_type": "stream",
     "text": [
      "Exception ignored in: 'fiona._env.log_error'\n",
      "UnicodeDecodeError: 'utf-8' codec can't decode byte 0xe9 in position 85: invalid continuation byte\n"
     ]
    },
    {
     "ename": "UnicodeDecodeError",
     "evalue": "'utf-8' codec can't decode byte 0xe9 in position 85: invalid continuation byte",
     "output_type": "error",
     "traceback": [
      "\u001b[1;31m---------------------------------------------------------------------------\u001b[0m",
      "\u001b[1;31mUnicodeDecodeError\u001b[0m                        Traceback (most recent call last)",
      "\u001b[1;31mUnicodeDecodeError\u001b[0m: 'utf-8' codec can't decode byte 0xe9 in position 85: invalid continuation byte"
     ]
    },
    {
     "name": "stderr",
     "output_type": "stream",
     "text": [
      "Exception ignored in: 'fiona._env.log_error'\n",
      "UnicodeDecodeError: 'utf-8' codec can't decode byte 0xe9 in position 85: invalid continuation byte\n"
     ]
    },
    {
     "ename": "UnicodeDecodeError",
     "evalue": "'utf-8' codec can't decode byte 0xe9 in position 88: invalid continuation byte",
     "output_type": "error",
     "traceback": [
      "\u001b[1;31m---------------------------------------------------------------------------\u001b[0m",
      "\u001b[1;31mUnicodeDecodeError\u001b[0m                        Traceback (most recent call last)",
      "\u001b[1;31mUnicodeDecodeError\u001b[0m: 'utf-8' codec can't decode byte 0xe9 in position 88: invalid continuation byte"
     ]
    },
    {
     "name": "stderr",
     "output_type": "stream",
     "text": [
      "Exception ignored in: 'fiona._env.log_error'\n",
      "UnicodeDecodeError: 'utf-8' codec can't decode byte 0xe9 in position 88: invalid continuation byte\n"
     ]
    },
    {
     "ename": "UnicodeDecodeError",
     "evalue": "'utf-8' codec can't decode byte 0xe9 in position 88: invalid continuation byte",
     "output_type": "error",
     "traceback": [
      "\u001b[1;31m---------------------------------------------------------------------------\u001b[0m",
      "\u001b[1;31mUnicodeDecodeError\u001b[0m                        Traceback (most recent call last)",
      "\u001b[1;31mUnicodeDecodeError\u001b[0m: 'utf-8' codec can't decode byte 0xe9 in position 88: invalid continuation byte"
     ]
    },
    {
     "name": "stderr",
     "output_type": "stream",
     "text": [
      "Exception ignored in: 'fiona._env.log_error'\n",
      "UnicodeDecodeError: 'utf-8' codec can't decode byte 0xe9 in position 88: invalid continuation byte\n"
     ]
    }
   ],
   "source": [
    "%load_ext autoreload\n",
    "%autoreload 2\n",
    "import sys #c'est pas propre mais pour le moment pour importer mes modules perso dans le notebook je ne sais pas faire\n",
    "sys.path.append(r'C:\\Users\\martin\\git\\Outils\\Outils\\Martin_Perso')\n",
    "sys.path.append(r'C:\\Users\\martin\\git\\otv\\otv\\Transfert_Donnees')\n",
    "import agrege_troncon as at\n",
    "import Connexion_Transfert as ct\n",
    "import matplotlib, os, fiona\n",
    "import geopandas as gp\n",
    "import pandas as pd\n",
    "import numpy as np\n",
    "from datetime import datetime\n",
    "import Connexion_Transfert as ct\n",
    "from shapely.wkt import loads\n",
    "from shapely.ops import nearest_points, polygonize, linemerge\n",
    "import Outils\n",
    "#pd.set_option('display.max_colwidth', 1000)\n",
    "pd.set_option('display.max_columns', 50)"
   ]
  },
  {
   "cell_type": "markdown",
   "metadata": {},
   "source": [
    "# IMPORTER LES DONNEES \n",
    "> depuis la base de données locale, en ne prenant en compte que les lignes qui intersectent une zone carré au N-O"
   ]
  },
  {
   "cell_type": "code",
   "execution_count": 2,
   "metadata": {},
   "outputs": [],
   "source": [
    "#importer les odnnées de  base\n",
    "with ct.ConnexionBdd('local_otv') as c : \n",
    "    requete=\"\"\"with jointure as (\n",
    "        select t.*, v1.cnt nb_intrsct_src, st_astext(v1.the_geom) as src_geom, v2.cnt as nb_intrsct_tgt, st_astext(v2.the_geom) as tgt_geom \n",
    "         from public.traf2015_bdt17_ed15_l t \n",
    "        left join public.traf2015_bdt17_ed15_l_vertices_pgr v1 on t.source=v1.id \n",
    "        left join public.traf2015_bdt17_ed15_l_vertices_pgr v2  on t.target=v2.id\n",
    "        )\n",
    "        select j.* from jointure j, zone_test_agreg z\n",
    "        where st_intersects(z.geom, j.geom)\"\"\"\n",
    "\n",
    "    df = gp.read_postgis(requete, c.connexionPsy)"
   ]
  },
  {
   "cell_type": "markdown",
   "metadata": {},
   "source": [
    ">Mise en forme et définition des voies à 2 chaussées"
   ]
  },
  {
   "cell_type": "code",
   "execution_count": 3,
   "metadata": {},
   "outputs": [],
   "source": [
    "nature_2_chaussees=['Route à 2 chaussées','Quasi-autoroute','Autoroute']\n",
    "#donnees generale du jdd\n",
    "#df.set_index('id_ign', inplace=True)  # passer l'id_ign commme index ; necessaire sinon pb avec geometrie vu comme texte\n",
    "df2_chaussees=df.loc[df['nature'].isin(nature_2_chaussees)] #isoler les troncon de voies decrits par 2 lignes"
   ]
  },
  {
   "cell_type": "markdown",
   "metadata": {},
   "source": [
    "# 1. BDD DES RONDS POINTS"
   ]
  },
  {
   "cell_type": "code",
   "execution_count": 4,
   "metadata": {},
   "outputs": [
    {
     "name": "stderr",
     "output_type": "stream",
     "text": [
      "c:\\users\\martin\\appdata\\local\\programs\\python\\python37\\lib\\site-packages\\numpy\\lib\\function_base.py:2167: RuntimeWarning: invalid value encountered in ? (vectorized)\n",
      "  outputs = ufunc(*inputs)\n"
     ]
    }
   ],
   "source": [
    "df_avec_rd_pt, carac_rd_pt=at.identifier_rd_pt(df)"
   ]
  },
  {
   "cell_type": "markdown",
   "metadata": {},
   "source": [
    "# 2. TRAITEMENTS \n",
    "> La base c'est : \n",
    "- regrouper les lignes qui se suivent\n",
    "- trouver les lignes d'arret\n",
    "- trouver les lignes suivantes\n",
    "- voir le cas des lignes suivantes : \n",
    "    - rd point\n",
    "    - mm route qui se sépare\n",
    "    - rien\n",
    "\n",
    "><br> L'idée c'est ça  : on met la premiere ligne a tester dans une liste, on l'utilise et on stocke les lignes associées dans une autre liste. ensuite on check les lignes suivantes : si elles sont dans un cas où il faut continuer les traitements, on remplace la ligne de départ dans la liste de départ par ces nouvelles lignes, pour lesquelles on applique de nouveau la recherche des lignes qui se suivent. tant que la liste des lignes suivantes est pa vide on reste dans une boucle while"
   ]
  },
  {
   "cell_type": "markdown",
   "metadata": {},
   "source": [
    "## 2.1 Troncons de base"
   ]
  },
  {
   "cell_type": "code",
   "execution_count": 8,
   "metadata": {},
   "outputs": [],
   "source": [
    "# ligne a tester : TRONROUT0000000339411609 TRONROUT0000000032869130 TRONROUT0000000032859410\n",
    "df_lignes=df_avec_rd_pt.set_index('id_ign')#mettre l'id_ign en index\n",
    "id_lignes='TRONROUT0000000339411609'\n",
    "#trouver tous les troncons proches qui se suivent\n",
    "#list_troncon=[id_ligne]+[a for a in at.liste_troncon_base(id_ligne,df_lignes)]\n",
    "list_troncon=at.liste_complete_tronc_base(id_lignes,df_lignes,[])"
   ]
  },
  {
   "cell_type": "markdown",
   "metadata": {},
   "source": [
    "## 2.2 lignes d'arret"
   ]
  },
  {
   "cell_type": "code",
   "execution_count": 9,
   "metadata": {},
   "outputs": [],
   "source": [
    "#trouver les troncons de debut et de fin :ceux pour lesquels on a un nombre de ligne sur target source >2\n",
    "dico_deb_fin=at.deb_fin_liste_tronc_base(df_lignes, list_troncon)"
   ]
  },
  {
   "cell_type": "code",
   "execution_count": 10,
   "metadata": {},
   "outputs": [
    {
     "data": {
      "text/plain": [
       "{'TRONROUT0000000339411601': {'type': 'source',\n",
       "  'num_node': 12429,\n",
       "  'voie': 'D205',\n",
       "  'codevoie': 'NR'},\n",
       " 'TRONROUT0000000339411580': {'type': 'target',\n",
       "  'num_node': 23070,\n",
       "  'voie': 'D205',\n",
       "  'codevoie': '174470051'}}"
      ]
     },
     "execution_count": 10,
     "metadata": {},
     "output_type": "execute_result"
    }
   ],
   "source": [
    "dico_deb_fin"
   ]
  },
  {
   "cell_type": "code",
   "execution_count": 11,
   "metadata": {},
   "outputs": [],
   "source": [
    "ligne='TRONROUT0000000339411601'\n",
    "voie=dico_deb_fin[ligne]['voie']\n",
    "noeud=dico_deb_fin[ligne]['num_node']"
   ]
  },
  {
   "cell_type": "markdown",
   "metadata": {},
   "source": [
    "## 2.3 lignes suivantes"
   ]
  },
  {
   "cell_type": "code",
   "execution_count": 12,
   "metadata": {},
   "outputs": [],
   "source": [
    "#vérifier si une ligne touche un rd point\n",
    "# aprtir d'une ligne et d'un numero de noeud, on récupère les lignes qui touchent\n",
    "lignes_adj=df_lignes.loc[((df_lignes['source']==noeud)|(df_lignes['target']==noeud))&(df_lignes.index!='TRONROUT0000000339411601')]"
   ]
  },
  {
   "cell_type": "code",
   "execution_count": 17,
   "metadata": {},
   "outputs": [
    {
     "data": {
      "text/html": [
       "<div>\n",
       "<style scoped>\n",
       "    .dataframe tbody tr th:only-of-type {\n",
       "        vertical-align: middle;\n",
       "    }\n",
       "\n",
       "    .dataframe tbody tr th {\n",
       "        vertical-align: top;\n",
       "    }\n",
       "\n",
       "    .dataframe thead th {\n",
       "        text-align: right;\n",
       "    }\n",
       "</style>\n",
       "<table border=\"1\" class=\"dataframe\">\n",
       "  <thead>\n",
       "    <tr style=\"text-align: right;\">\n",
       "      <th></th>\n",
       "      <th>gid</th>\n",
       "      <th>id</th>\n",
       "      <th>nature</th>\n",
       "      <th>numero</th>\n",
       "      <th>importance</th>\n",
       "      <th>cl_admin</th>\n",
       "      <th>gestion</th>\n",
       "      <th>mise_serv</th>\n",
       "      <th>fictif</th>\n",
       "      <th>franchisst</th>\n",
       "      <th>largeur</th>\n",
       "      <th>z_ini</th>\n",
       "      <th>z_fin</th>\n",
       "      <th>nb_voies</th>\n",
       "      <th>sens</th>\n",
       "      <th>etat</th>\n",
       "      <th>long_km</th>\n",
       "      <th>coment_cpt</th>\n",
       "      <th>src_cpt</th>\n",
       "      <th>id_comptag</th>\n",
       "      <th>obs_supl</th>\n",
       "      <th>ann_pt</th>\n",
       "      <th>coment_tmj</th>\n",
       "      <th>tmja</th>\n",
       "      <th>tmja_final</th>\n",
       "      <th>...</th>\n",
       "      <th>vts_modif</th>\n",
       "      <th>vts_vl_f</th>\n",
       "      <th>vts_pl_f</th>\n",
       "      <th>codau</th>\n",
       "      <th>codau_cont</th>\n",
       "      <th>tmja_cont</th>\n",
       "      <th>pc_pl_cont</th>\n",
       "      <th>source</th>\n",
       "      <th>target</th>\n",
       "      <th>recup</th>\n",
       "      <th>attr_modif</th>\n",
       "      <th>codevoie_d</th>\n",
       "      <th>id_tronc_elem</th>\n",
       "      <th>geom</th>\n",
       "      <th>nb_intrsct_src</th>\n",
       "      <th>src_geom</th>\n",
       "      <th>nb_intrsct_tgt</th>\n",
       "      <th>tgt_geom</th>\n",
       "      <th>id_rdpt</th>\n",
       "      <th>nb_rte_rdpt</th>\n",
       "      <th>nom_rte_rdpt</th>\n",
       "      <th>codevoie_rdpt</th>\n",
       "      <th>nb_obj_sig_entrant</th>\n",
       "      <th>valeur_sens</th>\n",
       "      <th>id_ign_entrant</th>\n",
       "    </tr>\n",
       "    <tr>\n",
       "      <th>id_ign</th>\n",
       "      <th></th>\n",
       "      <th></th>\n",
       "      <th></th>\n",
       "      <th></th>\n",
       "      <th></th>\n",
       "      <th></th>\n",
       "      <th></th>\n",
       "      <th></th>\n",
       "      <th></th>\n",
       "      <th></th>\n",
       "      <th></th>\n",
       "      <th></th>\n",
       "      <th></th>\n",
       "      <th></th>\n",
       "      <th></th>\n",
       "      <th></th>\n",
       "      <th></th>\n",
       "      <th></th>\n",
       "      <th></th>\n",
       "      <th></th>\n",
       "      <th></th>\n",
       "      <th></th>\n",
       "      <th></th>\n",
       "      <th></th>\n",
       "      <th></th>\n",
       "      <th></th>\n",
       "      <th></th>\n",
       "      <th></th>\n",
       "      <th></th>\n",
       "      <th></th>\n",
       "      <th></th>\n",
       "      <th></th>\n",
       "      <th></th>\n",
       "      <th></th>\n",
       "      <th></th>\n",
       "      <th></th>\n",
       "      <th></th>\n",
       "      <th></th>\n",
       "      <th></th>\n",
       "      <th></th>\n",
       "      <th></th>\n",
       "      <th></th>\n",
       "      <th></th>\n",
       "      <th></th>\n",
       "      <th></th>\n",
       "      <th></th>\n",
       "      <th></th>\n",
       "      <th></th>\n",
       "      <th></th>\n",
       "      <th></th>\n",
       "      <th></th>\n",
       "    </tr>\n",
       "  </thead>\n",
       "  <tbody>\n",
       "    <tr>\n",
       "      <th>TRONROUT0000000339411586</th>\n",
       "      <td>72588</td>\n",
       "      <td>252770</td>\n",
       "      <td>Route à 1 chaussée</td>\n",
       "      <td>D205</td>\n",
       "      <td>4</td>\n",
       "      <td>Départementale</td>\n",
       "      <td>17</td>\n",
       "      <td>NR</td>\n",
       "      <td>Non</td>\n",
       "      <td>NC</td>\n",
       "      <td>3.0</td>\n",
       "      <td>24.6</td>\n",
       "      <td>25.2</td>\n",
       "      <td>1.0</td>\n",
       "      <td>Direct</td>\n",
       "      <td>NR</td>\n",
       "      <td>0.035402</td>\n",
       "      <td>estimation</td>\n",
       "      <td>None</td>\n",
       "      <td>None</td>\n",
       "      <td>None</td>\n",
       "      <td>None</td>\n",
       "      <td>/2</td>\n",
       "      <td>1430.0</td>\n",
       "      <td>1430.0</td>\n",
       "      <td>...</td>\n",
       "      <td>gsw</td>\n",
       "      <td>50.0</td>\n",
       "      <td>40.0</td>\n",
       "      <td>111+</td>\n",
       "      <td>None</td>\n",
       "      <td>None</td>\n",
       "      <td>None</td>\n",
       "      <td>12429</td>\n",
       "      <td>12430</td>\n",
       "      <td>t</td>\n",
       "      <td>None</td>\n",
       "      <td>NR</td>\n",
       "      <td>4710</td>\n",
       "      <td>(LINESTRING (395780.8999999998 6561169.8999999...</td>\n",
       "      <td>3</td>\n",
       "      <td>POINT(395780.9 6561169.89999999)</td>\n",
       "      <td>4</td>\n",
       "      <td>POINT(395815.9 6561170.19999999)</td>\n",
       "      <td>NaN</td>\n",
       "      <td>NaN</td>\n",
       "      <td>NaN</td>\n",
       "      <td>NaN</td>\n",
       "      <td>NaN</td>\n",
       "      <td>NaN</td>\n",
       "      <td>NaN</td>\n",
       "    </tr>\n",
       "    <tr>\n",
       "      <th>TRONROUT0000000339411599</th>\n",
       "      <td>86666</td>\n",
       "      <td>252783</td>\n",
       "      <td>Route à 1 chaussée</td>\n",
       "      <td>D205</td>\n",
       "      <td>4</td>\n",
       "      <td>Départementale</td>\n",
       "      <td>17</td>\n",
       "      <td>NR</td>\n",
       "      <td>Non</td>\n",
       "      <td>NC</td>\n",
       "      <td>3.0</td>\n",
       "      <td>25.4</td>\n",
       "      <td>24.6</td>\n",
       "      <td>1.0</td>\n",
       "      <td>Direct</td>\n",
       "      <td>NR</td>\n",
       "      <td>0.032985</td>\n",
       "      <td>estimation</td>\n",
       "      <td>None</td>\n",
       "      <td>None</td>\n",
       "      <td>None</td>\n",
       "      <td>None</td>\n",
       "      <td>/2</td>\n",
       "      <td>1430.0</td>\n",
       "      <td>1430.0</td>\n",
       "      <td>...</td>\n",
       "      <td>gsw</td>\n",
       "      <td>50.0</td>\n",
       "      <td>40.0</td>\n",
       "      <td>111+</td>\n",
       "      <td>None</td>\n",
       "      <td>None</td>\n",
       "      <td>None</td>\n",
       "      <td>22844</td>\n",
       "      <td>12429</td>\n",
       "      <td>t</td>\n",
       "      <td>None</td>\n",
       "      <td>NR</td>\n",
       "      <td>4710</td>\n",
       "      <td>(LINESTRING (395806.8999999997 6561188.8999999...</td>\n",
       "      <td>3</td>\n",
       "      <td>POINT(395806.9 6561188.89999999)</td>\n",
       "      <td>3</td>\n",
       "      <td>POINT(395780.9 6561169.89999999)</td>\n",
       "      <td>NaN</td>\n",
       "      <td>NaN</td>\n",
       "      <td>NaN</td>\n",
       "      <td>NaN</td>\n",
       "      <td>NaN</td>\n",
       "      <td>NaN</td>\n",
       "      <td>NaN</td>\n",
       "    </tr>\n",
       "  </tbody>\n",
       "</table>\n",
       "<p>2 rows × 71 columns</p>\n",
       "</div>"
      ],
      "text/plain": [
       "                            gid      id              nature numero importance  \\\n",
       "id_ign                                                                          \n",
       "TRONROUT0000000339411586  72588  252770  Route à 1 chaussée   D205          4   \n",
       "TRONROUT0000000339411599  86666  252783  Route à 1 chaussée   D205          4   \n",
       "\n",
       "                                cl_admin gestion mise_serv fictif franchisst  \\\n",
       "id_ign                                                                         \n",
       "TRONROUT0000000339411586  Départementale      17        NR    Non         NC   \n",
       "TRONROUT0000000339411599  Départementale      17        NR    Non         NC   \n",
       "\n",
       "                          largeur  z_ini  z_fin  nb_voies    sens etat  \\\n",
       "id_ign                                                                   \n",
       "TRONROUT0000000339411586      3.0   24.6   25.2       1.0  Direct   NR   \n",
       "TRONROUT0000000339411599      3.0   25.4   24.6       1.0  Direct   NR   \n",
       "\n",
       "                           long_km  coment_cpt src_cpt id_comptag obs_supl  \\\n",
       "id_ign                                                                       \n",
       "TRONROUT0000000339411586  0.035402  estimation    None       None     None   \n",
       "TRONROUT0000000339411599  0.032985  estimation    None       None     None   \n",
       "\n",
       "                         ann_pt coment_tmj    tmja  tmja_final  ...  \\\n",
       "id_ign                                                          ...   \n",
       "TRONROUT0000000339411586   None         /2  1430.0      1430.0  ...   \n",
       "TRONROUT0000000339411599   None         /2  1430.0      1430.0  ...   \n",
       "\n",
       "                          vts_modif vts_vl_f vts_pl_f  codau codau_cont  \\\n",
       "id_ign                                                                    \n",
       "TRONROUT0000000339411586        gsw     50.0     40.0   111+       None   \n",
       "TRONROUT0000000339411599        gsw     50.0     40.0   111+       None   \n",
       "\n",
       "                          tmja_cont  pc_pl_cont source target recup  \\\n",
       "id_ign                                                                \n",
       "TRONROUT0000000339411586       None        None  12429  12430     t   \n",
       "TRONROUT0000000339411599       None        None  22844  12429     t   \n",
       "\n",
       "                         attr_modif codevoie_d id_tronc_elem  \\\n",
       "id_ign                                                         \n",
       "TRONROUT0000000339411586       None         NR          4710   \n",
       "TRONROUT0000000339411599       None         NR          4710   \n",
       "\n",
       "                                                                       geom  \\\n",
       "id_ign                                                                        \n",
       "TRONROUT0000000339411586  (LINESTRING (395780.8999999998 6561169.8999999...   \n",
       "TRONROUT0000000339411599  (LINESTRING (395806.8999999997 6561188.8999999...   \n",
       "\n",
       "                         nb_intrsct_src                          src_geom  \\\n",
       "id_ign                                                                      \n",
       "TRONROUT0000000339411586              3  POINT(395780.9 6561169.89999999)   \n",
       "TRONROUT0000000339411599              3  POINT(395806.9 6561188.89999999)   \n",
       "\n",
       "                          nb_intrsct_tgt                          tgt_geom  \\\n",
       "id_ign                                                                       \n",
       "TRONROUT0000000339411586               4  POINT(395815.9 6561170.19999999)   \n",
       "TRONROUT0000000339411599               3  POINT(395780.9 6561169.89999999)   \n",
       "\n",
       "                         id_rdpt nb_rte_rdpt nom_rte_rdpt codevoie_rdpt  \\\n",
       "id_ign                                                                    \n",
       "TRONROUT0000000339411586     NaN         NaN          NaN           NaN   \n",
       "TRONROUT0000000339411599     NaN         NaN          NaN           NaN   \n",
       "\n",
       "                          nb_obj_sig_entrant  valeur_sens id_ign_entrant  \n",
       "id_ign                                                                    \n",
       "TRONROUT0000000339411586                 NaN          NaN            NaN  \n",
       "TRONROUT0000000339411599                 NaN          NaN            NaN  \n",
       "\n",
       "[2 rows x 71 columns]"
      ]
     },
     "execution_count": 17,
     "metadata": {},
     "output_type": "execute_result"
    }
   ],
   "source": [
    "lignes_adj"
   ]
  },
  {
   "cell_type": "markdown",
   "metadata": {},
   "source": [
    "## 2.4 cas particulier "
   ]
  },
  {
   "cell_type": "markdown",
   "metadata": {},
   "source": [
    "> ### 2.4.1 rd pt"
   ]
  },
  {
   "cell_type": "code",
   "execution_count": 42,
   "metadata": {},
   "outputs": [],
   "source": [
    "#verfier si une ligne rouche un rd point et recup le numero si c'est le cas\n",
    "check_rdpt, num_rdpt=at.verif_touche_rdpt(lignes_adj)\n",
    "if check_rdpt : \n",
    "    lignes_rdpt, lignes_sortantes=at.recup_lignes_rdpt(carac_rd_pt,num_rdpt,list_troncon,'NC')"
   ]
  },
  {
   "cell_type": "markdown",
   "metadata": {},
   "source": [
    "> ### 2.4.2 mm route qui se sépare"
   ]
  },
  {
   "cell_type": "code",
   "execution_count": 19,
   "metadata": {},
   "outputs": [],
   "source": [
    "#comparer le nom de voie de la ligne issue de debut_fin avec celui des lignes adjacentes\n",
    "if voie==lignes_adj.numero.all() : \n",
    "    ligne_mm_voie=lignes_adj.index.tolist()\n",
    "    list_troncon+=ligne_mm_voie\n",
    "    lignes_suivantes_mm_nom=ligne_mm_voie #on recommence les traitements avec les lignes prises"
   ]
  },
  {
   "cell_type": "code",
   "execution_count": 30,
   "metadata": {},
   "outputs": [
    {
     "data": {
      "text/plain": [
       "['TRONROUT0000000339411596',\n",
       " 'TRONROUT0000000339411595',\n",
       " 'TRONROUT0000000339411587',\n",
       " 'TRONROUT0000000339411605']"
      ]
     },
     "execution_count": 30,
     "metadata": {},
     "output_type": "execute_result"
    }
   ],
   "source": [
    "lignes_suivantes_mm_nom"
   ]
  },
  {
   "cell_type": "markdown",
   "metadata": {},
   "source": [
    "# Tests de deroulement global"
   ]
  },
  {
   "cell_type": "code",
   "execution_count": 142,
   "metadata": {},
   "outputs": [],
   "source": [
    "#initialisation\n",
    "df_lignes2=df_avec_rd_pt.set_index('id_ign')#mettre l'id_ign en index\n",
    "lignes_a_tester=['TRONROUT0000000032869130']\n",
    "liste_troncon_finale=[]\n",
    "list_troncon2=[]\n",
    "del id_lignes2"
   ]
  },
  {
   "cell_type": "code",
   "execution_count": 143,
   "metadata": {},
   "outputs": [],
   "source": [
    "while lignes_a_tester :\n",
    "    for id_lignes2 in lignes_a_tester : \n",
    "        list_troncon2=at.liste_complete_tronc_base(id_lignes2,df_lignes2,liste_troncon_finale)\n",
    "        liste_troncon_finale+=list_troncon2\n",
    "        dico_deb_fin2=at.deb_fin_liste_tronc_base(df_lignes2, list_troncon2)\n",
    "        for k, v in dico_deb_fin2.items() :\n",
    "            lignes_adj2=df_lignes2.loc[((df_lignes2['source']==v['num_node'])|\n",
    "                                      (df_lignes2['target']==v['num_node']))&\n",
    "                                     (df_lignes2.index!=k)&(~df_lignes2.index.isin(liste_troncon_finale))]\n",
    "            if lignes_adj2.empty : \n",
    "                continue\n",
    "            check_rdpt2, num_rdpt2=at.verif_touche_rdpt(lignes_adj2)\n",
    "            if check_rdpt2 : \n",
    "                lignes_rdpt2, lignes_sortantes2=at.recup_lignes_rdpt(carac_rd_pt,num_rdpt2,list_troncon2,v['voie'])\n",
    "                liste_troncon_finale+=lignes_rdpt2\n",
    "                lignes_a_tester+=lignes_sortantes2\n",
    "        lignes_a_tester=[x for x in lignes_a_tester if x not in liste_troncon_finale]\n",
    "liste_troncon_finale=set(liste_troncon_finale)"
   ]
  },
  {
   "cell_type": "code",
   "execution_count": 144,
   "metadata": {},
   "outputs": [
    {
     "data": {
      "text/plain": [
       "{'TRONROUT0000000032868031',\n",
       " 'TRONROUT0000000032869130',\n",
       " 'TRONROUT0000000032869131',\n",
       " 'TRONROUT0000000032869132',\n",
       " 'TRONROUT0000000032869134',\n",
       " 'TRONROUT0000000032869135',\n",
       " 'TRONROUT0000000032869142'}"
      ]
     },
     "execution_count": 144,
     "metadata": {},
     "output_type": "execute_result"
    }
   ],
   "source": [
    "liste_troncon_finale"
   ]
  },
  {
   "cell_type": "code",
   "execution_count": 131,
   "metadata": {},
   "outputs": [
    {
     "data": {
      "text/plain": [
       "nb_rte_rdpt                                                           4\n",
       "nom_rte_rdpt                                   (D205, NC, D113, D205E1)\n",
       "codevoie_rdpt         (174470051, 170320009, 174470045, 174470048, 1...\n",
       "nb_obj_sig_entrant                                                    5\n",
       "valeur_sens                                                   (Double,)\n",
       "id_ign_entrant        (TRONROUT0000000032869147, TRONROUT00000000328...\n",
       "numero_rdpt                                                     (D113,)\n",
       "id_ign_rdpt           (TRONROUT0000000032869131, TRONROUT00000000328...\n",
       "Name: 1193, dtype: object"
      ]
     },
     "execution_count": 131,
     "metadata": {},
     "output_type": "execute_result"
    }
   ],
   "source": [
    "carac_rd_pt.loc[1193]"
   ]
  },
  {
   "cell_type": "markdown",
   "metadata": {},
   "source": [
    "# SUITE"
   ]
  },
  {
   "cell_type": "code",
   "execution_count": 114,
   "metadata": {},
   "outputs": [],
   "source": [
    "toto=list(at.recup_troncon_elementaire('TRONROUT0000000032862365',df,[]))"
   ]
  },
  {
   "cell_type": "code",
   "execution_count": 115,
   "metadata": {},
   "outputs": [],
   "source": [
    "toto.append('TRONROUT0000000032862365')"
   ]
  },
  {
   "cell_type": "code",
   "execution_count": null,
   "metadata": {},
   "outputs": [],
   "source": [
    "toto"
   ]
  },
  {
   "cell_type": "code",
   "execution_count": 117,
   "metadata": {},
   "outputs": [
    {
     "name": "stderr",
     "output_type": "stream",
     "text": [
      "C:\\Users\\martin.schoreisz\\git\\otv\\otv\\Transfert_Donnees\\agrege_troncon.py:279: SettingWithCopyWarning: \n",
      "A value is trying to be set on a copy of a slice from a DataFrame.\n",
      "Try using .loc[row_indexer,col_indexer] = value instead\n",
      "\n",
      "See the caveats in the documentation: http://pandas.pydata.org/pandas-docs/stable/indexing.html#indexing-view-versus-copy\n",
      "  ligne_filtres['distance']=ligne_filtres.geom.apply(lambda x : gdf_lignes2.centroid.distance(x))\n"
     ]
    },
    {
     "data": {
      "text/plain": [
       "'TRONROUT0000000032876496'"
      ]
     },
     "execution_count": 117,
     "metadata": {},
     "output_type": "execute_result"
    }
   ],
   "source": [
    "at.recup_troncon_parallele_v2(df,toto)"
   ]
  },
  {
   "cell_type": "code",
   "execution_count": null,
   "metadata": {},
   "outputs": [],
   "source": [
    "for i in toto :\n",
    "    tata=at.affecter_troncon_ligne(i,df,df2_chaussees)\n",
    "    print(len(tata))"
   ]
  },
  {
   "cell_type": "code",
   "execution_count": 12,
   "metadata": {},
   "outputs": [
    {
     "name": "stdout",
     "output_type": "stream",
     "text": [
      "0eme occurence : TRONROUT0000000084053027 à 18:23:53 nb ligne traite : 0, nb ligne differente=0\n",
      "indexError ligne  TRONROUT0000000032954220\n",
      "indexError ligne  TRONROUT0000000033016282\n",
      "indexError ligne  TRONROUT0000000249471326\n",
      "indexError ligne  TRONROUT0000000336640149\n",
      "indexError ligne  TRONROUT0000000224966440\n",
      "indexError ligne  TRONROUT0000000032833606\n",
      "indexError ligne  TRONROUT0000000032895598\n",
      "indexError ligne  TRONROUT0000000032991823\n",
      "indexError ligne  TRONROUT0000000223846575\n",
      "indexError ligne  TRONROUT0000000255628539\n",
      "indexError ligne  TRONROUT0000000032895522\n",
      "indexError ligne  TRONROUT0000000032843156\n",
      "indexError ligne  TRONROUT0000000032966066\n",
      "indexError ligne  TRONROUT0000000129676068\n",
      "indexError ligne  TRONROUT0000000032855812\n",
      "indexError ligne  TRONROUT0000000033029153\n",
      "indexError ligne  TRONROUT0000000323460798\n",
      "indexError ligne  TRONROUT0000000032937456\n",
      "indexError ligne  TRONROUT0000000089679809\n",
      "indexError ligne  TRONROUT0000000211249489\n",
      "5000eme occurence : TRONROUT0000000032859682 à 18:48:55 nb ligne traite : 32803, nb ligne differente=32803\n",
      "indexError ligne  TRONROUT0000000033039887\n",
      "indexError ligne  TRONROUT0000000249471289\n",
      "indexError ligne  TRONROUT0000000273289060\n",
      "indexError ligne  TRONROUT0000000089680356\n",
      "indexError ligne  TRONROUT0000000032852004\n",
      "indexError ligne  TRONROUT0000000032966024\n",
      "indexError ligne  TRONROUT0000000032985346\n",
      "indexError ligne  TRONROUT0000000211430256\n",
      "indexError ligne  TRONROUT0000000336641185\n",
      "indexError ligne  TRONROUT0000000032939836\n",
      "indexError ligne  TRONROUT0000000220168691\n",
      "indexError ligne  TRONROUT0000000226901122\n",
      "indexError ligne  TRONROUT0000000318145727\n",
      "indexError ligne  TRONROUT0000000224966445\n",
      "10000eme occurence : TRONROUT0000000032882286 à 19:06:30 nb ligne traite : 49930, nb ligne differente=49930\n",
      "indexError ligne  TRONROUT0000000032910829\n",
      "indexError ligne  TRONROUT0000000228389201\n",
      "indexError ligne  TRONROUT0000000129676347\n",
      "indexError ligne  TRONROUT0000000220761623\n",
      "indexError ligne  TRONROUT0000000098462823\n",
      "indexError ligne  TRONROUT0000000032945581\n",
      "indexError ligne  TRONROUT0000000226901119\n",
      "indexError ligne  TRONROUT0000000032895811\n",
      "indexError ligne  TRONROUT0000000220235164\n",
      "indexError ligne  TRONROUT0000000032970400\n",
      "indexError ligne  TRONROUT0000000032857834\n",
      "indexError ligne  TRONROUT0000000204719248\n",
      "indexError ligne  TRONROUT0000000280784899\n",
      "15000eme occurence : TRONROUT0000000033045774 à 19:19:23 nb ligne traite : 62588, nb ligne differente=62588\n",
      "indexError ligne  TRONROUT0000000032958312\n",
      "indexError ligne  TRONROUT0000000032986807\n",
      "indexError ligne  TRONROUT0000000336160525\n",
      "indexError ligne  TRONROUT0000000302053388\n",
      "indexError ligne  TRONROUT0000000032892920\n",
      "indexError ligne  TRONROUT0000000032898124\n",
      "indexError ligne  TRONROUT0000000032843557\n",
      "indexError ligne  TRONROUT0000000220761624\n",
      "indexError ligne  TRONROUT0000000253959502\n",
      "indexError ligne  TRONROUT0000000033001111\n",
      "indexError ligne  TRONROUT0000000032999540\n",
      "indexError ligne  TRONROUT0000000107259522\n",
      "indexError ligne  TRONROUT0000000247510344\n",
      "20000eme occurence : TRONROUT0000000032934392 à 19:31:23 nb ligne traite : 71807, nb ligne differente=71807\n",
      "indexError ligne  TRONROUT0000000033000676\n",
      "indexError ligne  TRONROUT0000000032966057\n",
      "indexError ligne  TRONROUT0000000032930883\n",
      "indexError ligne  TRONROUT0000000249470976\n",
      "indexError ligne  TRONROUT0000000032928393\n",
      "indexError ligne  TRONROUT0000000112536077\n",
      "indexError ligne  TRONROUT0000000301144126\n",
      "indexError ligne  TRONROUT0000000219979324\n",
      "indexError ligne  TRONROUT0000000229443458\n",
      "25000eme occurence : TRONROUT0000000032828056 à 19:39:47 nb ligne traite : 79076, nb ligne differente=79076\n",
      "indexError ligne  TRONROUT0000000032987038\n",
      "indexError ligne  TRONROUT0000000301134430\n",
      "indexError ligne  TRONROUT0000000032999536\n",
      "30000eme occurence : TRONROUT0000000032835688 à 19:45:03 nb ligne traite : 82867, nb ligne differente=82867\n",
      "indexError ligne  TRONROUT0000000287746996\n",
      "indexError ligne  TRONROUT0000000227870945\n",
      "35000eme occurence : TRONROUT0000000032956199 à 19:50:11 nb ligne traite : 85766, nb ligne differente=85766\n",
      "indexError ligne  TRONROUT0000000039536317\n",
      "indexError ligne  TRONROUT0000000130608456\n",
      "indexError ligne  TRONROUT0000000032986811\n",
      "40000eme occurence : TRONROUT0000000032994014 à 19:57:18 nb ligne traite : 89825, nb ligne differente=89825\n",
      "indexError ligne  TRONROUT0000000032843584\n",
      "indexError ligne  TRONROUT0000000032865362\n",
      "indexError ligne  TRONROUT0000000211249540\n",
      "indexError ligne  TRONROUT0000000032895374\n",
      "45000eme occurence : TRONROUT0000000032872086 à 20:03:31 nb ligne traite : 93504, nb ligne differente=93504\n",
      "indexError ligne  TRONROUT0000000032900009\n",
      "indexError ligne  TRONROUT0000000032843563\n",
      "indexError ligne  TRONROUT0000000032926691\n",
      "50000eme occurence : TRONROUT0000000032949389 à 20:08:40 nb ligne traite : 96414, nb ligne differente=96414\n",
      "indexError ligne  TRONROUT0000000249471036\n",
      "indexError ligne  TRONROUT0000000033000686\n",
      "55000eme occurence : TRONROUT0000000249471201 à 20:12:42 nb ligne traite : 98535, nb ligne differente=98535\n",
      "60000eme occurence : TRONROUT0000000032867879 à 20:14:28 nb ligne traite : 99565, nb ligne differente=99565\n",
      "indexError ligne  TRONROUT0000000201941200\n",
      "65000eme occurence : TRONROUT0000000033044083 à 20:16:43 nb ligne traite : 100550, nb ligne differente=100550\n",
      "70000eme occurence : TRONROUT0000000032827179 à 20:19:38 nb ligne traite : 101852, nb ligne differente=101852\n",
      "75000eme occurence : TRONROUT0000000032866209 à 20:22:17 nb ligne traite : 103062, nb ligne differente=103062\n",
      "indexError ligne  TRONROUT0000000070734678\n",
      "80000eme occurence : TRONROUT0000000032918745 à 20:25:33 nb ligne traite : 104416, nb ligne differente=104416\n",
      "85000eme occurence : TRONROUT0000000032903555 à 20:27:07 nb ligne traite : 105019, nb ligne differente=105019\n",
      "90000eme occurence : TRONROUT0000000033032013 à 20:28:45 nb ligne traite : 105563, nb ligne differente=105563\n",
      "95000eme occurence : TRONROUT0000000032936507 à 20:32:09 nb ligne traite : 106129, nb ligne differente=106129\n",
      "100000eme occurence : TRONROUT0000000302480360 à 20:33:18 nb ligne traite : 106707, nb ligne differente=106707\n",
      "indexError ligne  TRONROUT0000000032985341\n",
      "105000eme occurence : TRONROUT0000000129676453 à 20:34:43 nb ligne traite : 107250, nb ligne differente=107250\n"
     ]
    }
   ],
   "source": [
    "dico=at.affecter_troncon(df,df2_chaussees)"
   ]
  },
  {
   "cell_type": "code",
   "execution_count": 13,
   "metadata": {},
   "outputs": [],
   "source": [
    "with ct.ConnexionBdd('local_otv') as c :\n",
    "    at.inserer_dico(c, dico)"
   ]
  },
  {
   "cell_type": "markdown",
   "metadata": {},
   "source": [
    "POUR TRAITEMENT DES VOIES A 2 CHAUSSES : TROUVER PARRALLELE"
   ]
  },
  {
   "cell_type": "code",
   "execution_count": 87,
   "metadata": {},
   "outputs": [],
   "source": [
    "#liste des troncons (parametre entrant)\n",
    "liste_troncon=toto"
   ]
  },
  {
   "cell_type": "code",
   "execution_count": 88,
   "metadata": {},
   "outputs": [],
   "source": [
    "#conversion en geodf\n",
    "gdf_lignes=gp.GeoDataFrame(df.loc[liste_troncon], geometry='geom')\n",
    "gdf_lignes.to_file(r'D:\\temp\\otv\\17\\2_chaussees\\lignes_a_gouper.shp')"
   ]
  },
  {
   "cell_type": "code",
   "execution_count": 89,
   "metadata": {},
   "outputs": [],
   "source": [
    "#union des geometries\n",
    "gdf_lignes2=linemerge(gdf_lignes.unary_union)"
   ]
  },
  {
   "cell_type": "code",
   "execution_count": null,
   "metadata": {},
   "outputs": [],
   "source": [
    "gdf_lignes2.wkt"
   ]
  },
  {
   "cell_type": "code",
   "execution_count": 90,
   "metadata": {},
   "outputs": [],
   "source": [
    "#centroid de la ligne\n",
    "xmin,ymin,xmax,ymax=gdf_lignes2.interpolate(0.5, normalized=True).buffer(50).bounds\n",
    "point=gdf_lignes2.interpolate(0.5, normalized=True)"
   ]
  },
  {
   "cell_type": "code",
   "execution_count": 91,
   "metadata": {},
   "outputs": [
    {
     "data": {
      "text/plain": [
       "'POINT (385035.1182861876 6561685.156661048)'"
      ]
     },
     "execution_count": 91,
     "metadata": {},
     "output_type": "execute_result"
    }
   ],
   "source": [
    "point.wkt"
   ]
  },
  {
   "cell_type": "code",
   "execution_count": 92,
   "metadata": {},
   "outputs": [],
   "source": [
    "#recherche des lignes proches du centroid\n",
    "lignes_possibles=df.cx[xmin:xmax,ymin:ymax]\n",
    "lignes_possibles.to_file(r'D:\\temp\\otv\\17\\2_chaussees\\lignes_possibles.shp')"
   ]
  },
  {
   "cell_type": "code",
   "execution_count": null,
   "metadata": {},
   "outputs": [],
   "source": [
    "lignes_possibles"
   ]
  },
  {
   "cell_type": "code",
   "execution_count": 94,
   "metadata": {},
   "outputs": [],
   "source": [
    "#uniquement les lignes non présentes dans la liste de troncons avec le même nom de voie\n",
    "ligne_filtres=lignes_possibles.loc[(~lignes_possibles.index.isin(liste_troncon)) & (lignes_possibles['numero']==gdf_lignes.iloc[0]['numero'])]"
   ]
  },
  {
   "cell_type": "code",
   "execution_count": 95,
   "metadata": {},
   "outputs": [
    {
     "name": "stderr",
     "output_type": "stream",
     "text": [
      "c:\\users\\martin.schoreisz\\appdata\\local\\programs\\python\\python37\\lib\\site-packages\\ipykernel_launcher.py:2: SettingWithCopyWarning: \n",
      "A value is trying to be set on a copy of a slice from a DataFrame.\n",
      "Try using .loc[row_indexer,col_indexer] = value instead\n",
      "\n",
      "See the caveats in the documentation: http://pandas.pydata.org/pandas-docs/stable/indexing.html#indexing-view-versus-copy\n",
      "  \n"
     ]
    }
   ],
   "source": [
    "#obtenir les distances au centroid\n",
    "ligne_filtres['distance']=ligne_filtres.geom.apply(lambda x : gdf_lignes2.centroid.distance(x))"
   ]
  },
  {
   "cell_type": "code",
   "execution_count": 96,
   "metadata": {},
   "outputs": [
    {
     "data": {
      "text/plain": [
       "'TRONROUT0000000129676313'"
      ]
     },
     "execution_count": 96,
     "metadata": {},
     "output_type": "execute_result"
    }
   ],
   "source": [
    "#garder uniquement la valeur la plus proche du centroid\n",
    "ligne_proche=ligne_filtres.loc[ligne_filtres['distance']==ligne_filtres['distance'].min()].index.tolist()[0]\n",
    "ligne_proche"
   ]
  },
  {
   "cell_type": "markdown",
   "metadata": {},
   "source": [
    "POUR TRAITEMENT DES ROND POINTS"
   ]
  },
  {
   "cell_type": "code",
   "execution_count": 4,
   "metadata": {},
   "outputs": [],
   "source": [
    "#polygoniser les lignes\n",
    "#creer la gdf\n",
    "df.crs={'init':'epsg:2154'}"
   ]
  },
  {
   "cell_type": "code",
   "execution_count": 15,
   "metadata": {},
   "outputs": [],
   "source": [
    "#creer la lsite des rd points selon le critere atmo aura ; creer une gdf avec la liste\n",
    "liste_rd_points=[t.buffer(0.1) for t in polygonize(df.geometry) if 12<=((t.length**2)/t.area)<=14] # car un cercle à un rappor de ce type entre 12 et 13\n",
    "dico_rd_pt=[[i, ((t.length**2)/t.area)] for i,t in enumerate(polygonize(df.geometry)) if 12<=((t.length**2)/t.area)<=14]\n",
    "gdf_rd_point=gp.GeoDataFrame(dico_rd_pt, geometry=liste_rd_points)\n",
    "gdf_rd_point.crs={'init':'epsg:2154'}\n",
    "gdf_rd_point.columns=['id_rdpt', 'facteur','geometry']\n",
    "#on créer aussi la meme donnees avec un buffer interiuer, pour ne garder que les lignes dans le buffer exteriuer et hors buffer interieur (cas de rond point enjmabeant uine 2*2 et prenant la 2*2 voie qui est dans le polygone\n",
    "liste_rd_points_int=[t.buffer(-0.1) for t in polygonize(df.geometry) if 12<=((t.length**2)/t.area)<=14]\n",
    "dico_rd_pt_int=[[i, ((t.length**2)/t.area)] for i,t in enumerate(polygonize(df.geometry)) if 12<=((t.length**2)/t.area)<=14]\n",
    "gdf_rd_point_int=gp.GeoDataFrame(dico_rd_pt_int, geometry=liste_rd_points_int)\n",
    "gdf_rd_point_int.crs={'init':'epsg:2154'}\n",
    "gdf_rd_point_int.columns=['id_rdpt', 'facteur','geometry']"
   ]
  },
  {
   "cell_type": "code",
   "execution_count": 63,
   "metadata": {},
   "outputs": [],
   "source": [
    "#jointure spataile pour une gdf avec uniquement les lignes des rd_points avec le numéro\n",
    "l_dans_p=gp.sjoin(df,gdf_rd_point,op='within') "
   ]
  },
  {
   "cell_type": "code",
   "execution_count": 64,
   "metadata": {},
   "outputs": [],
   "source": [
    "#suprimer les doublons\n",
    "l_dans_p_ss_doublon=l_dans_p.reset_index().rename(columns={'index':'id_ign'}).drop_duplicates('id_ign').set_index('id_ign')"
   ]
  },
  {
   "cell_type": "code",
   "execution_count": 66,
   "metadata": {},
   "outputs": [],
   "source": [
    "l_dans_p_int=gp.sjoin(df,gdf_rd_point_int,op='within')"
   ]
  },
  {
   "cell_type": "code",
   "execution_count": 67,
   "metadata": {},
   "outputs": [],
   "source": [
    "l_dans_p_final=l_dans_p_ss_doublon.loc[~l_dans_p_ss_doublon.index.isin(l_dans_p_int.index.tolist())]"
   ]
  },
  {
   "cell_type": "code",
   "execution_count": 68,
   "metadata": {},
   "outputs": [],
   "source": [
    "#lignes qui touchent rd points\n",
    "#1.ligne qui intersectent avec id_rdpt\n",
    "l_intersct_rdpt=gp.sjoin(df,l_dans_p_final.drop('index_right', axis=1), how='inner',op='intersects')"
   ]
  },
  {
   "cell_type": "code",
   "execution_count": 69,
   "metadata": {},
   "outputs": [],
   "source": [
    "#2.filtre de celle contenue dans le rd points \n",
    "l_intersct_rdpt=l_intersct_rdpt.loc[~l_intersct_rdpt.index.isin(l_dans_p_final.index.tolist())][['id_rdpt','numero_left','codevoie_d_left']]"
   ]
  },
  {
   "cell_type": "code",
   "execution_count": 70,
   "metadata": {},
   "outputs": [],
   "source": [
    "#trouver le nb de voies qui intersectent chaque rd point et leur noms. renomer les colonnes\n",
    "carac_rd_pt=(pd.concat([l_intersct_rdpt.groupby('id_rdpt').numero_left.nunique(),\n",
    "    l_intersct_rdpt.groupby('id_rdpt')['numero_left'].apply(lambda x: ','.join(set(x))),\n",
    "    l_intersct_rdpt.groupby('id_rdpt')['codevoie_d_left'].apply(lambda x: ','.join(set(x)))], axis=1))\n",
    "carac_rd_pt.columns=['nb_rte_rdpt', 'nom_rte_rdpt','codevoie_rdpt']"
   ]
  },
  {
   "cell_type": "code",
   "execution_count": null,
   "metadata": {},
   "outputs": [],
   "source": [
    "l_dans_p_final"
   ]
  },
  {
   "cell_type": "code",
   "execution_count": 297,
   "metadata": {},
   "outputs": [],
   "source": [
    "#ajouter l'id_rdpt aux données\n",
    "gdf_l_rd_point=pd.concat([df.drop('id_rdpt',axis=1),l_dans_p_final.loc[:,'id_rdpt']],axis=1, sort=False)"
   ]
  },
  {
   "cell_type": "code",
   "execution_count": 298,
   "metadata": {},
   "outputs": [],
   "source": [
    "#mettre à jour la nature\n",
    "gdf_l_rd_point['nature']=gdf_l_rd_point.apply(lambda x : 'Rd_pt' if x.id_rdpt>=0 else x['nature'], axis=1)"
   ]
  },
  {
   "cell_type": "code",
   "execution_count": 299,
   "metadata": {},
   "outputs": [],
   "source": [
    "#ajouter les infos du rd point (nb voies différentes et nom)\n",
    "gdf_avec_rd_pt=gdf_l_rd_point.merge(carac_rd_pt, how='left',left_on='id_rdpt', right_index=True)"
   ]
  },
  {
   "cell_type": "code",
   "execution_count": 320,
   "metadata": {},
   "outputs": [],
   "source": [
    "def assigne_rdpt(id_rdpt,numero, liste_num, codevoie, liste_code) : \n",
    "    if id_rdpt >=0 :\n",
    "        if (numero in liste_num) or (codevoie in liste_code) :\n",
    "            return True\n",
    "        else : \n",
    "            return False"
   ]
  },
  {
   "cell_type": "code",
   "execution_count": 321,
   "metadata": {},
   "outputs": [],
   "source": [
    "gdf_avec_rd_pt['assigne_rdpt']=gdf_avec_rd_pt.apply(lambda x : assigne_rdpt(x['id_rdpt'],x['numero'], x['nom_rte_rdpt_y'], x['codevoie_d'],x['codevoie_rdpt']),axis=1)"
   ]
  },
  {
   "cell_type": "code",
   "execution_count": null,
   "metadata": {},
   "outputs": [],
   "source": [
    "#gdf_avec_rd_pt.loc[gdf_avec_rd_pt.loc[:,'id_rdpt']==l_dans_p['id_rdpt']]\n",
    "gdf_avec_rd_pt['id_rdpt']==l_dans_p['id_rdpt'].astype('float64')\n",
    "#l_dans_p.loc[l_dans_p.loc[:,'id_rdpt']].sort_index().sort_index(axis=1)])"
   ]
  },
  {
   "cell_type": "code",
   "execution_count": null,
   "metadata": {},
   "outputs": [],
   "source": [
    "#pour export et verif uniquement\n",
    "\n",
    "#gdf_l_rd_point.to_file(r'D:\\temp\\otv\\17\\test_rd_point\\test2.shp')\n",
    "#gdf_rd_point.to_file(r'D:\\temp\\otv\\17\\test_rd_point\\test1.shp')\n",
    "#l_intersct_rdpt.to_file(r'E:\\Boulot\\otv\\test_linearisation_auto\\test3.shp')\n",
    "df.to_file(r'E:\\Boulot\\otv\\test_linearisation_auto\\test7.shp')\n",
    "#df.to_file(r'D:\\temp\\otv\\17\\test_rd_point\\test5.shp')"
   ]
  },
  {
   "cell_type": "code",
   "execution_count": 91,
   "metadata": {},
   "outputs": [
    {
     "data": {
      "text/plain": [
       "'b,c,a'"
      ]
     },
     "execution_count": 91,
     "metadata": {},
     "output_type": "execute_result"
    }
   ],
   "source": [
    "','.join(set(['a','a','b','c']))"
   ]
  },
  {
   "cell_type": "code",
   "execution_count": 228,
   "metadata": {},
   "outputs": [],
   "source": [
    "id_ign_ligne='TRONROUT0000000342862858'\n",
    "df_ligne = df.loc[id_ign_ligne]\n",
    "ligne_traite_troncon=[]\n",
    "ligne_traite_troncon.append(id_ign_ligne)\n",
    "liste_ligne_suivantes=[] \n",
    "liste_ligne_touchees=[]"
   ]
  },
  {
   "cell_type": "code",
   "execution_count": null,
   "metadata": {},
   "outputs": [],
   "source": [
    "for key, value in {'nb_intrsct_src':['source', 'src_geom'],'nb_intrsct_tgt':['target', 'tgt_geom']}.items() :\n",
    "    df_touches_source = df.loc[(~df.index.isin(ligne_traite_troncon)) & ((df['source'] == df_ligne[value[0]]) | (df['target'] == df_ligne[value[0]]))]\n",
    "    df_rd_pt=df.loc[df['id_rdpt']==df_touches_source.iloc[0]['id_rdpt']]\n",
    "    l_df_rd_pt=df.loc[df.index.isin(gp.sjoin(df,df_rd_pt, how='inner',op='intersects').index.unique().tolist())]\n",
    "    l_df_rd_pt2=l_df_rd_pt.loc[~l_df_rd_pt.index.isin(df_rd_pt.index.tolist())].index.unique().tolist()\n",
    "    l_df_rd_pt3=df.loc[df.index.isin(l_df_rd_pt2),'codevoie_d'].unique().tolist()\n",
    "    print(l_df_rd_pt3)\n",
    "    #liste_ligne_touchees+=df_touches_source.index.tolist()"
   ]
  },
  {
   "cell_type": "code",
   "execution_count": 233,
   "metadata": {},
   "outputs": [
    {
     "data": {
      "text/plain": [
       "[nan]"
      ]
     },
     "execution_count": 233,
     "metadata": {},
     "output_type": "execute_result"
    }
   ],
   "source": [
    "df_touches_source['id_rdpt'].values.tolist()"
   ]
  },
  {
   "cell_type": "code",
   "execution_count": null,
   "metadata": {},
   "outputs": [],
   "source": []
  }
 ],
 "metadata": {
  "kernelspec": {
   "display_name": "Python 3",
   "language": "python",
   "name": "python3"
  },
  "language_info": {
   "codemirror_mode": {
    "name": "ipython",
    "version": 3
   },
   "file_extension": ".py",
   "mimetype": "text/x-python",
   "name": "python",
   "nbconvert_exporter": "python",
   "pygments_lexer": "ipython3",
   "version": "3.7.2"
  }
 },
 "nbformat": 4,
 "nbformat_minor": 4
}
