{
 "cells": [
  {
   "cell_type": "code",
   "execution_count": 139,
   "metadata": {},
   "outputs": [
    {
     "name": "stdout",
     "output_type": "stream",
     "text": [
      "The autoreload extension is already loaded. To reload it, use:\n",
      "  %reload_ext autoreload\n"
     ]
    }
   ],
   "source": [
    "%load_ext autoreload\n",
    "%autoreload 2\n",
    "import sys #c'est pas propre mais pour le moment pour importer mes modules perso dans le notebook je ne sais pas faire\n",
    "sys.path.append(r'C:\\Users\\martin\\git\\Outils\\Outils\\Martin_Perso')\n",
    "sys.path.append(r'C:\\Users\\martin\\git\\otv\\otv\\Transfert_Donnees')\n",
    "import agrege_troncon as at\n",
    "import Connexion_Transfert as ct\n",
    "import matplotlib, os, fiona\n",
    "import geopandas as gp\n",
    "import pandas as pd\n",
    "import numpy as np\n",
    "from datetime import datetime\n",
    "import Connexion_Transfert as ct\n",
    "from shapely.wkt import loads\n",
    "from shapely.ops import nearest_points, polygonize, linemerge\n",
    "import Outils\n",
    "#pd.set_option('display.max_colwidth', 1000)\n",
    "pd.set_option('display.max_columns', 50)\n",
    "pd.set_option('display.max_colwidth', 5000)"
   ]
  },
  {
   "cell_type": "markdown",
   "metadata": {},
   "source": [
    "# IMPORTER LES DONNEES \n",
    "> depuis la base de données locale, en ne prenant en compte que les lignes qui intersectent une zone carré au N-O"
   ]
  },
  {
   "cell_type": "code",
   "execution_count": 140,
   "metadata": {},
   "outputs": [],
   "source": [
    "df=at.import_donnes_base('local_otv')"
   ]
  },
  {
   "cell_type": "markdown",
   "metadata": {},
   "source": [
    ">Mise en forme et définition des voies à 2 chaussées"
   ]
  },
  {
   "cell_type": "code",
   "execution_count": 141,
   "metadata": {},
   "outputs": [],
   "source": [
    "nature_2_chaussees=['Route à 2 chaussées','Quasi-autoroute','Autoroute']\n",
    "#donnees generale du jdd\n",
    "#df.set_index('id_ign', inplace=True)  # passer l'id_ign commme index ; necessaire sinon pb avec geometrie vu comme texte\n",
    "df2_chaussees=df.loc[df['nature'].isin(nature_2_chaussees)] #isoler les troncon de voies decrits par 2 lignes"
   ]
  },
  {
   "cell_type": "markdown",
   "metadata": {},
   "source": [
    "# 1. BDD DES RONDS POINTS"
   ]
  },
  {
   "cell_type": "code",
   "execution_count": 142,
   "metadata": {},
   "outputs": [],
   "source": [
    "df_avec_rd_pt, carac_rd_pt=at.identifier_rd_pt(df)"
   ]
  },
  {
   "cell_type": "markdown",
   "metadata": {},
   "source": [
    "# 2. TRAITEMENTS \n",
    "> La base c'est : \n",
    "- regrouper les lignes qui se suivent\n",
    "- trouver les lignes d'arret\n",
    "- trouver les lignes suivantes\n",
    "- voir le cas des lignes suivantes : \n",
    "    - rd point\n",
    "    - mm route qui se sépare\n",
    "    - rien\n",
    "\n",
    "><br> L'idée c'est ça  : on met la premiere ligne a tester dans une liste, on l'utilise et on stocke les lignes associées dans une autre liste. ensuite on check les lignes suivantes : si elles sont dans un cas où il faut continuer les traitements, on remplace la ligne de départ dans la liste de départ par ces nouvelles lignes, pour lesquelles on applique de nouveau la recherche des lignes qui se suivent. tant que la liste des lignes suivantes est pa vide on reste dans une boucle while\n"
   ]
  },
  {
   "cell_type": "markdown",
   "metadata": {},
   "source": [
    "## 2.1 Troncons de base"
   ]
  },
  {
   "cell_type": "code",
   "execution_count": 248,
   "metadata": {},
   "outputs": [],
   "source": [
    "# ligne a tester : TRONROUT0000000339411609 TRONROUT0000000032869130 TRONROUT0000000032859410\n",
    "df_lignes=df_avec_rd_pt.set_index('id_ign')#mettre l'id_ign en index\n",
    "id_lignes='TRONROUT0000000247648093'\n",
    "#trouver tous les troncons proches qui se suivent\n",
    "#list_troncon=[id_ligne]+[a for a in at.liste_troncon_base(id_ligne,df_lignes)]\n",
    "list_troncon=at.liste_complete_tronc_base(id_lignes,df_lignes,[])"
   ]
  },
  {
   "cell_type": "markdown",
   "metadata": {},
   "source": [
    "## 2.2 lignes d'arret"
   ]
  },
  {
   "cell_type": "code",
   "execution_count": 249,
   "metadata": {},
   "outputs": [],
   "source": [
    "#trouver les troncons de debut et de fin :ceux pour lesquels on a un nombre de ligne sur target source >2\n",
    "dico_deb_fin=at.deb_fin_liste_tronc_base(df_lignes, list_troncon)"
   ]
  },
  {
   "cell_type": "code",
   "execution_count": 251,
   "metadata": {},
   "outputs": [],
   "source": [
    "ligne='TRONROUT0000000247648093'\n",
    "voie=dico_deb_fin[ligne]['voie']\n",
    "noeud=dico_deb_fin[ligne]['num_node']"
   ]
  },
  {
   "cell_type": "markdown",
   "metadata": {},
   "source": [
    "## 2.3 lignes suivantes"
   ]
  },
  {
   "cell_type": "code",
   "execution_count": 252,
   "metadata": {},
   "outputs": [],
   "source": [
    "#vérifier si une ligne touche un rd point\n",
    "# aprtir d'une ligne et d'un numero de noeud, on récupère les lignes qui touchent\n",
    "lignes_adj=df_lignes.loc[((df_lignes['source']==noeud)|(df_lignes['target']==noeud))&(df_lignes.index!='TRONROUT0000000247648093')]"
   ]
  },
  {
   "cell_type": "code",
   "execution_count": 253,
   "metadata": {},
   "outputs": [
    {
     "data": {
      "text/html": [
       "<div>\n",
       "<style scoped>\n",
       "    .dataframe tbody tr th:only-of-type {\n",
       "        vertical-align: middle;\n",
       "    }\n",
       "\n",
       "    .dataframe tbody tr th {\n",
       "        vertical-align: top;\n",
       "    }\n",
       "\n",
       "    .dataframe thead th {\n",
       "        text-align: right;\n",
       "    }\n",
       "</style>\n",
       "<table border=\"1\" class=\"dataframe\">\n",
       "  <thead>\n",
       "    <tr style=\"text-align: right;\">\n",
       "      <th></th>\n",
       "      <th>geom</th>\n",
       "      <th>id</th>\n",
       "      <th>nature</th>\n",
       "      <th>numero</th>\n",
       "      <th>importance</th>\n",
       "      <th>cl_admin</th>\n",
       "      <th>gestion</th>\n",
       "      <th>mise_serv</th>\n",
       "      <th>fictif</th>\n",
       "      <th>franchisst</th>\n",
       "      <th>largeur</th>\n",
       "      <th>z_ini</th>\n",
       "      <th>z_fin</th>\n",
       "      <th>nb_voies</th>\n",
       "      <th>sens</th>\n",
       "      <th>etat</th>\n",
       "      <th>long_km</th>\n",
       "      <th>coment_cpt</th>\n",
       "      <th>src_cpt</th>\n",
       "      <th>id_comptag</th>\n",
       "      <th>obs_supl</th>\n",
       "      <th>ann_pt</th>\n",
       "      <th>coment_tmj</th>\n",
       "      <th>tmja</th>\n",
       "      <th>tmja_final</th>\n",
       "      <th>...</th>\n",
       "      <th>vts_osm</th>\n",
       "      <th>vts_modif</th>\n",
       "      <th>vts_vl_f</th>\n",
       "      <th>vts_pl_f</th>\n",
       "      <th>codau</th>\n",
       "      <th>codau_cont</th>\n",
       "      <th>tmja_cont</th>\n",
       "      <th>pc_pl_cont</th>\n",
       "      <th>source</th>\n",
       "      <th>target</th>\n",
       "      <th>recup</th>\n",
       "      <th>attr_modif</th>\n",
       "      <th>codevoie_d</th>\n",
       "      <th>id_tronc_elem</th>\n",
       "      <th>nb_intrsct_src</th>\n",
       "      <th>src_geom</th>\n",
       "      <th>nb_intrsct_tgt</th>\n",
       "      <th>tgt_geom</th>\n",
       "      <th>id_rdpt</th>\n",
       "      <th>nb_rte_rdpt</th>\n",
       "      <th>nom_rte_rdpt</th>\n",
       "      <th>codevoie_rdpt</th>\n",
       "      <th>nb_obj_sig_entrant</th>\n",
       "      <th>valeur_sens</th>\n",
       "      <th>id_ign_entrant</th>\n",
       "    </tr>\n",
       "    <tr>\n",
       "      <th>id_ign</th>\n",
       "      <th></th>\n",
       "      <th></th>\n",
       "      <th></th>\n",
       "      <th></th>\n",
       "      <th></th>\n",
       "      <th></th>\n",
       "      <th></th>\n",
       "      <th></th>\n",
       "      <th></th>\n",
       "      <th></th>\n",
       "      <th></th>\n",
       "      <th></th>\n",
       "      <th></th>\n",
       "      <th></th>\n",
       "      <th></th>\n",
       "      <th></th>\n",
       "      <th></th>\n",
       "      <th></th>\n",
       "      <th></th>\n",
       "      <th></th>\n",
       "      <th></th>\n",
       "      <th></th>\n",
       "      <th></th>\n",
       "      <th></th>\n",
       "      <th></th>\n",
       "      <th></th>\n",
       "      <th></th>\n",
       "      <th></th>\n",
       "      <th></th>\n",
       "      <th></th>\n",
       "      <th></th>\n",
       "      <th></th>\n",
       "      <th></th>\n",
       "      <th></th>\n",
       "      <th></th>\n",
       "      <th></th>\n",
       "      <th></th>\n",
       "      <th></th>\n",
       "      <th></th>\n",
       "      <th></th>\n",
       "      <th></th>\n",
       "      <th></th>\n",
       "      <th></th>\n",
       "      <th></th>\n",
       "      <th></th>\n",
       "      <th></th>\n",
       "      <th></th>\n",
       "      <th></th>\n",
       "      <th></th>\n",
       "      <th></th>\n",
       "      <th></th>\n",
       "    </tr>\n",
       "  </thead>\n",
       "  <tbody>\n",
       "    <tr>\n",
       "      <th>TRONROUT0000000032850959</th>\n",
       "      <td>(LINESTRING (364912.5999999996 6571607.599999991, 364980.8999999996 6571580.099999991, 365006.9999999997 6571568.399999994, 365009.3999999996 6571566.999999991, 365027.3999999997 6571557.099999993, 365077.9999999997 6571525.699999992))</td>\n",
       "      <td>24606</td>\n",
       "      <td>Route à 1 chaussée</td>\n",
       "      <td>D201</td>\n",
       "      <td>3</td>\n",
       "      <td>Départementale</td>\n",
       "      <td>17</td>\n",
       "      <td>NR</td>\n",
       "      <td>Non</td>\n",
       "      <td>NC</td>\n",
       "      <td>7.5</td>\n",
       "      <td>11.6</td>\n",
       "      <td>11.2</td>\n",
       "      <td>2.0</td>\n",
       "      <td>Double</td>\n",
       "      <td>NR</td>\n",
       "      <td>0.185103</td>\n",
       "      <td>linearisation</td>\n",
       "      <td>otv</td>\n",
       "      <td>17-D201-5+200</td>\n",
       "      <td>None</td>\n",
       "      <td>2015</td>\n",
       "      <td>None</td>\n",
       "      <td>9199.0</td>\n",
       "      <td>9199.0</td>\n",
       "      <td>...</td>\n",
       "      <td>None</td>\n",
       "      <td>gsw</td>\n",
       "      <td>70.0</td>\n",
       "      <td>64.0</td>\n",
       "      <td>None</td>\n",
       "      <td>None</td>\n",
       "      <td>None</td>\n",
       "      <td>None</td>\n",
       "      <td>63730</td>\n",
       "      <td>25969</td>\n",
       "      <td>None</td>\n",
       "      <td>None</td>\n",
       "      <td>NR</td>\n",
       "      <td>NaN</td>\n",
       "      <td>3</td>\n",
       "      <td>POINT(364912.6 6571607.59999999)</td>\n",
       "      <td>2</td>\n",
       "      <td>POINT(365078 6571525.69999999)</td>\n",
       "      <td>NaN</td>\n",
       "      <td>NaN</td>\n",
       "      <td>NaN</td>\n",
       "      <td>NaN</td>\n",
       "      <td>NaN</td>\n",
       "      <td>NaN</td>\n",
       "      <td>NaN</td>\n",
       "    </tr>\n",
       "    <tr>\n",
       "      <th>TRONROUT0000000247648092</th>\n",
       "      <td>(LINESTRING (364851.8999999997 6571629.499999993, 364905.1999999996 6571608.199999993, 364912.5999999996 6571607.599999991))</td>\n",
       "      <td>224627</td>\n",
       "      <td>Route à 2 chaussées</td>\n",
       "      <td>D201</td>\n",
       "      <td>3</td>\n",
       "      <td>Départementale</td>\n",
       "      <td>17</td>\n",
       "      <td>NR</td>\n",
       "      <td>Non</td>\n",
       "      <td>NC</td>\n",
       "      <td>3.0</td>\n",
       "      <td>11.7</td>\n",
       "      <td>11.6</td>\n",
       "      <td>1.0</td>\n",
       "      <td>Inverse</td>\n",
       "      <td>NR</td>\n",
       "      <td>0.064823</td>\n",
       "      <td>linearisation</td>\n",
       "      <td>otv</td>\n",
       "      <td>17-D201-5+200</td>\n",
       "      <td>None</td>\n",
       "      <td>2015</td>\n",
       "      <td>/2</td>\n",
       "      <td>9199.0</td>\n",
       "      <td>4600.0</td>\n",
       "      <td>...</td>\n",
       "      <td>None</td>\n",
       "      <td>gsw</td>\n",
       "      <td>70.0</td>\n",
       "      <td>64.0</td>\n",
       "      <td>None</td>\n",
       "      <td>None</td>\n",
       "      <td>None</td>\n",
       "      <td>None</td>\n",
       "      <td>88320</td>\n",
       "      <td>63730</td>\n",
       "      <td>None</td>\n",
       "      <td>None</td>\n",
       "      <td>173600131</td>\n",
       "      <td>NaN</td>\n",
       "      <td>2</td>\n",
       "      <td>POINT(364851.9 6571629.49999999)</td>\n",
       "      <td>3</td>\n",
       "      <td>POINT(364912.6 6571607.59999999)</td>\n",
       "      <td>NaN</td>\n",
       "      <td>NaN</td>\n",
       "      <td>NaN</td>\n",
       "      <td>NaN</td>\n",
       "      <td>NaN</td>\n",
       "      <td>NaN</td>\n",
       "      <td>NaN</td>\n",
       "    </tr>\n",
       "  </tbody>\n",
       "</table>\n",
       "<p>2 rows × 70 columns</p>\n",
       "</div>"
      ],
      "text/plain": [
       "                                                                                                                                                                                                                                                                 geom  \\\n",
       "id_ign                                                                                                                                                                                                                                                                  \n",
       "TRONROUT0000000032850959  (LINESTRING (364912.5999999996 6571607.599999991, 364980.8999999996 6571580.099999991, 365006.9999999997 6571568.399999994, 365009.3999999996 6571566.999999991, 365027.3999999997 6571557.099999993, 365077.9999999997 6571525.699999992))   \n",
       "TRONROUT0000000247648092                                                                                                                 (LINESTRING (364851.8999999997 6571629.499999993, 364905.1999999996 6571608.199999993, 364912.5999999996 6571607.599999991))   \n",
       "\n",
       "                              id               nature numero importance  \\\n",
       "id_ign                                                                    \n",
       "TRONROUT0000000032850959   24606   Route à 1 chaussée   D201          3   \n",
       "TRONROUT0000000247648092  224627  Route à 2 chaussées   D201          3   \n",
       "\n",
       "                                cl_admin gestion mise_serv fictif franchisst  \\\n",
       "id_ign                                                                         \n",
       "TRONROUT0000000032850959  Départementale      17        NR    Non         NC   \n",
       "TRONROUT0000000247648092  Départementale      17        NR    Non         NC   \n",
       "\n",
       "                          largeur  z_ini  z_fin  nb_voies     sens etat  \\\n",
       "id_ign                                                                    \n",
       "TRONROUT0000000032850959      7.5   11.6   11.2       2.0   Double   NR   \n",
       "TRONROUT0000000247648092      3.0   11.7   11.6       1.0  Inverse   NR   \n",
       "\n",
       "                           long_km     coment_cpt src_cpt     id_comptag  \\\n",
       "id_ign                                                                     \n",
       "TRONROUT0000000032850959  0.185103  linearisation     otv  17-D201-5+200   \n",
       "TRONROUT0000000247648092  0.064823  linearisation     otv  17-D201-5+200   \n",
       "\n",
       "                         obs_supl ann_pt coment_tmj    tmja  tmja_final  ...  \\\n",
       "id_ign                                                                   ...   \n",
       "TRONROUT0000000032850959     None   2015       None  9199.0      9199.0  ...   \n",
       "TRONROUT0000000247648092     None   2015         /2  9199.0      4600.0  ...   \n",
       "\n",
       "                          vts_osm vts_modif vts_vl_f  vts_pl_f codau  \\\n",
       "id_ign                                                                 \n",
       "TRONROUT0000000032850959     None       gsw     70.0      64.0  None   \n",
       "TRONROUT0000000247648092     None       gsw     70.0      64.0  None   \n",
       "\n",
       "                          codau_cont  tmja_cont pc_pl_cont source target  \\\n",
       "id_ign                                                                     \n",
       "TRONROUT0000000032850959        None       None       None  63730  25969   \n",
       "TRONROUT0000000247648092        None       None       None  88320  63730   \n",
       "\n",
       "                         recup attr_modif codevoie_d id_tronc_elem  \\\n",
       "id_ign                                                               \n",
       "TRONROUT0000000032850959  None       None         NR           NaN   \n",
       "TRONROUT0000000247648092  None       None  173600131           NaN   \n",
       "\n",
       "                         nb_intrsct_src                          src_geom  \\\n",
       "id_ign                                                                      \n",
       "TRONROUT0000000032850959              3  POINT(364912.6 6571607.59999999)   \n",
       "TRONROUT0000000247648092              2  POINT(364851.9 6571629.49999999)   \n",
       "\n",
       "                          nb_intrsct_tgt                          tgt_geom  \\\n",
       "id_ign                                                                       \n",
       "TRONROUT0000000032850959               2    POINT(365078 6571525.69999999)   \n",
       "TRONROUT0000000247648092               3  POINT(364912.6 6571607.59999999)   \n",
       "\n",
       "                         id_rdpt nb_rte_rdpt nom_rte_rdpt codevoie_rdpt  \\\n",
       "id_ign                                                                    \n",
       "TRONROUT0000000032850959     NaN         NaN          NaN           NaN   \n",
       "TRONROUT0000000247648092     NaN         NaN          NaN           NaN   \n",
       "\n",
       "                          nb_obj_sig_entrant  valeur_sens id_ign_entrant  \n",
       "id_ign                                                                    \n",
       "TRONROUT0000000032850959                 NaN          NaN            NaN  \n",
       "TRONROUT0000000247648092                 NaN          NaN            NaN  \n",
       "\n",
       "[2 rows x 70 columns]"
      ]
     },
     "execution_count": 253,
     "metadata": {},
     "output_type": "execute_result"
    }
   ],
   "source": [
    "lignes_adj"
   ]
  },
  {
   "cell_type": "markdown",
   "metadata": {},
   "source": [
    "## 2.4 cas particulier "
   ]
  },
  {
   "cell_type": "markdown",
   "metadata": {},
   "source": [
    "> ### 2.4.1 rd pt"
   ]
  },
  {
   "cell_type": "code",
   "execution_count": 237,
   "metadata": {},
   "outputs": [],
   "source": [
    "#verfier si une ligne rouche un rd point et recup le numero si c'est le cas\n",
    "check_rdpt, num_rdpt=at.verif_touche_rdpt(lignes_adj)\n",
    "if check_rdpt : \n",
    "    lignes_rdpt, lignes_sortantes=at.recup_lignes_rdpt(carac_rd_pt,num_rdpt,list_troncon,'NC')"
   ]
  },
  {
   "cell_type": "markdown",
   "metadata": {},
   "source": [
    "> ### 2.4.2 mm route qui se sépare"
   ]
  },
  {
   "cell_type": "code",
   "execution_count": 25,
   "metadata": {},
   "outputs": [],
   "source": [
    "#comparer le nom de voie de la ligne issue de debut_fin avec celui des lignes adjacentes\n",
    "if (voie==lignes_adj.numero).all() : \n",
    "    ligne_mm_voie=lignes_adj.index.tolist()\n",
    "    list_troncon+=ligne_mm_voie\n",
    "    lignes_suivantes_mm_nom=ligne_mm_voie #on recommence les traitements avec les lignes prises"
   ]
  },
  {
   "cell_type": "markdown",
   "metadata": {},
   "source": [
    "> ### 2.4.2 trouver les routes coinces entre 2 voies qui se sépare -<|\n",
    ">> ce sont des lignes qui  dont : \n",
    "- le debut et / ou la fin touche 3 lignes\n",
    "- les lignes qui les touchent se toucehnt aussi"
   ]
  },
  {
   "cell_type": "code",
   "execution_count": 61,
   "metadata": {},
   "outputs": [],
   "source": [
    "# trouver les lgnes qui en touchent 3 ou plus au debut et à la fin\n",
    "lignes_sup3_tch=df_lignes.loc[(df_lignes['nb_intrsct_src']>2)&(df_lignes['nb_intrsct_tgt']>2)].reset_index()[['id_ign', 'source','target']]"
   ]
  },
  {
   "cell_type": "code",
   "execution_count": 58,
   "metadata": {},
   "outputs": [
    {
     "name": "stdout",
     "output_type": "stream",
     "text": [
      "Wall time: 38.5 s\n"
     ]
    }
   ],
   "source": [
    "%%time\n",
    "#coupler les lignes avec celles qui se touchent\n",
    "def ligne_touchent(source, target, df_lignes, id_ign) : \n",
    "    lignes=df_lignes.loc[(df_lignes.source.isin([source, target]))|(df_lignes.target.isin([source, target]))\n",
    "                        &(df_lignes['id_ign']!=id_ign)]\n",
    "    return lignes.id_ign.tolist()\n",
    "lignes_sup3_tch['autre_ligne_tch']=lignes_sup3_tch.apply(lambda x : ligne_touchent(x['source'], x['target'],\n",
    "                                                         lignes_sup3_tch, x['id_ign']), axis=1)"
   ]
  },
  {
   "cell_type": "code",
   "execution_count": 76,
   "metadata": {
    "collapsed": true,
    "jupyter": {
     "outputs_hidden": true
    }
   },
   "outputs": [
    {
     "data": {
      "text/html": [
       "<div>\n",
       "<style scoped>\n",
       "    .dataframe tbody tr th:only-of-type {\n",
       "        vertical-align: middle;\n",
       "    }\n",
       "\n",
       "    .dataframe tbody tr th {\n",
       "        vertical-align: top;\n",
       "    }\n",
       "\n",
       "    .dataframe thead th {\n",
       "        text-align: right;\n",
       "    }\n",
       "</style>\n",
       "<table border=\"1\" class=\"dataframe\">\n",
       "  <thead>\n",
       "    <tr style=\"text-align: right;\">\n",
       "      <th></th>\n",
       "      <th>id_ign_x</th>\n",
       "      <th>source</th>\n",
       "      <th>target</th>\n",
       "      <th>id_ign_y</th>\n",
       "    </tr>\n",
       "  </thead>\n",
       "  <tbody>\n",
       "    <tr>\n",
       "      <th>0</th>\n",
       "      <td>TRONROUT0000000032913261</td>\n",
       "      <td>90125</td>\n",
       "      <td>85128</td>\n",
       "      <td>(TRONROUT0000000032913261,)</td>\n",
       "    </tr>\n",
       "    <tr>\n",
       "      <th>1</th>\n",
       "      <td>TRONROUT0000000039536944</td>\n",
       "      <td>69665</td>\n",
       "      <td>62259</td>\n",
       "      <td>(TRONROUT0000000039536944, TRONROUT0000000039536936, TRONROUT0000000129676590)</td>\n",
       "    </tr>\n",
       "    <tr>\n",
       "      <th>136</th>\n",
       "      <td>TRONROUT0000000039536936</td>\n",
       "      <td>69665</td>\n",
       "      <td>89964</td>\n",
       "      <td>(TRONROUT0000000039536944, TRONROUT0000000039536936, TRONROUT0000000129676590)</td>\n",
       "    </tr>\n",
       "    <tr>\n",
       "      <th>208</th>\n",
       "      <td>TRONROUT0000000129676590</td>\n",
       "      <td>69665</td>\n",
       "      <td>48718</td>\n",
       "      <td>(TRONROUT0000000039536944, TRONROUT0000000039536936, TRONROUT0000000129676590)</td>\n",
       "    </tr>\n",
       "    <tr>\n",
       "      <th>2</th>\n",
       "      <td>TRONROUT0000000314695530</td>\n",
       "      <td>87573</td>\n",
       "      <td>90311</td>\n",
       "      <td>(TRONROUT0000000314695530, TRONROUT0000000314695529)</td>\n",
       "    </tr>\n",
       "    <tr>\n",
       "      <th>4480</th>\n",
       "      <td>TRONROUT0000000314695529</td>\n",
       "      <td>87573</td>\n",
       "      <td>67978</td>\n",
       "      <td>(TRONROUT0000000314695530, TRONROUT0000000314695529)</td>\n",
       "    </tr>\n",
       "    <tr>\n",
       "      <th>3</th>\n",
       "      <td>TRONROUT0000000039536946</td>\n",
       "      <td>36137</td>\n",
       "      <td>90473</td>\n",
       "      <td>(TRONROUT0000000039536946, TRONROUT0000000039536924, TRONROUT0000000039536942)</td>\n",
       "    </tr>\n",
       "    <tr>\n",
       "      <th>6079</th>\n",
       "      <td>TRONROUT0000000039536924</td>\n",
       "      <td>36137</td>\n",
       "      <td>36138</td>\n",
       "      <td>(TRONROUT0000000039536946, TRONROUT0000000039536924, TRONROUT0000000039536942)</td>\n",
       "    </tr>\n",
       "    <tr>\n",
       "      <th>6417</th>\n",
       "      <td>TRONROUT0000000039536942</td>\n",
       "      <td>36137</td>\n",
       "      <td>85212</td>\n",
       "      <td>(TRONROUT0000000039536946, TRONROUT0000000039536924, TRONROUT0000000039536942)</td>\n",
       "    </tr>\n",
       "    <tr>\n",
       "      <th>4</th>\n",
       "      <td>TRONROUT0000000032868183</td>\n",
       "      <td>31583</td>\n",
       "      <td>11714</td>\n",
       "      <td>(TRONROUT0000000032868183,)</td>\n",
       "    </tr>\n",
       "    <tr>\n",
       "      <th>5</th>\n",
       "      <td>TRONROUT0000000032946008</td>\n",
       "      <td>979</td>\n",
       "      <td>41642</td>\n",
       "      <td>(TRONROUT0000000032946008,)</td>\n",
       "    </tr>\n",
       "    <tr>\n",
       "      <th>6</th>\n",
       "      <td>TRONROUT0000000314695524</td>\n",
       "      <td>90311</td>\n",
       "      <td>84681</td>\n",
       "      <td>(TRONROUT0000000314695524,)</td>\n",
       "    </tr>\n",
       "    <tr>\n",
       "      <th>7</th>\n",
       "      <td>TRONROUT0000000032912909</td>\n",
       "      <td>7533</td>\n",
       "      <td>38991</td>\n",
       "      <td>(TRONROUT0000000032912909,)</td>\n",
       "    </tr>\n",
       "    <tr>\n",
       "      <th>8</th>\n",
       "      <td>TRONROUT0000000113490390</td>\n",
       "      <td>62575</td>\n",
       "      <td>7522</td>\n",
       "      <td>(TRONROUT0000000113490390,)</td>\n",
       "    </tr>\n",
       "    <tr>\n",
       "      <th>9</th>\n",
       "      <td>TRONROUT0000000318450099</td>\n",
       "      <td>12871</td>\n",
       "      <td>379</td>\n",
       "      <td>(TRONROUT0000000318450099, TRONROUT0000000318450180)</td>\n",
       "    </tr>\n",
       "    <tr>\n",
       "      <th>134</th>\n",
       "      <td>TRONROUT0000000318450180</td>\n",
       "      <td>12871</td>\n",
       "      <td>33566</td>\n",
       "      <td>(TRONROUT0000000318450099, TRONROUT0000000318450180)</td>\n",
       "    </tr>\n",
       "    <tr>\n",
       "      <th>10</th>\n",
       "      <td>TRONROUT0000000032850838</td>\n",
       "      <td>24049</td>\n",
       "      <td>38177</td>\n",
       "      <td>(TRONROUT0000000032850838, TRONROUT0000000032850858)</td>\n",
       "    </tr>\n",
       "    <tr>\n",
       "      <th>4135</th>\n",
       "      <td>TRONROUT0000000032850858</td>\n",
       "      <td>24049</td>\n",
       "      <td>80601</td>\n",
       "      <td>(TRONROUT0000000032850838, TRONROUT0000000032850858)</td>\n",
       "    </tr>\n",
       "    <tr>\n",
       "      <th>11</th>\n",
       "      <td>TRONROUT0000000032869702</td>\n",
       "      <td>26672</td>\n",
       "      <td>26673</td>\n",
       "      <td>(TRONROUT0000000032869702, TRONROUT0000000207506113)</td>\n",
       "    </tr>\n",
       "    <tr>\n",
       "      <th>4369</th>\n",
       "      <td>TRONROUT0000000207506113</td>\n",
       "      <td>26672</td>\n",
       "      <td>20828</td>\n",
       "      <td>(TRONROUT0000000032869702, TRONROUT0000000207506113)</td>\n",
       "    </tr>\n",
       "    <tr>\n",
       "      <th>12</th>\n",
       "      <td>TRONROUT0000000339411586</td>\n",
       "      <td>12429</td>\n",
       "      <td>12430</td>\n",
       "      <td>(TRONROUT0000000339411586,)</td>\n",
       "    </tr>\n",
       "    <tr>\n",
       "      <th>13</th>\n",
       "      <td>TRONROUT0000000032911035</td>\n",
       "      <td>61232</td>\n",
       "      <td>15841</td>\n",
       "      <td>(TRONROUT0000000032911035,)</td>\n",
       "    </tr>\n",
       "    <tr>\n",
       "      <th>14</th>\n",
       "      <td>TRONROUT0000000032859622</td>\n",
       "      <td>271</td>\n",
       "      <td>272</td>\n",
       "      <td>(TRONROUT0000000032859622,)</td>\n",
       "    </tr>\n",
       "    <tr>\n",
       "      <th>15</th>\n",
       "      <td>TRONROUT0000000098452912</td>\n",
       "      <td>6299</td>\n",
       "      <td>37269</td>\n",
       "      <td>(TRONROUT0000000098452912,)</td>\n",
       "    </tr>\n",
       "    <tr>\n",
       "      <th>16</th>\n",
       "      <td>TRONROUT0000000032846705</td>\n",
       "      <td>51323</td>\n",
       "      <td>50207</td>\n",
       "      <td>(TRONROUT0000000032846705, TRONROUT0000000115449808)</td>\n",
       "    </tr>\n",
       "    <tr>\n",
       "      <th>6527</th>\n",
       "      <td>TRONROUT0000000115449808</td>\n",
       "      <td>51323</td>\n",
       "      <td>22363</td>\n",
       "      <td>(TRONROUT0000000032846705, TRONROUT0000000115449808)</td>\n",
       "    </tr>\n",
       "    <tr>\n",
       "      <th>17</th>\n",
       "      <td>TRONROUT0000000032852460</td>\n",
       "      <td>2216</td>\n",
       "      <td>29382</td>\n",
       "      <td>(TRONROUT0000000032852460, TRONROUT0000000113381214)</td>\n",
       "    </tr>\n",
       "    <tr>\n",
       "      <th>6328</th>\n",
       "      <td>TRONROUT0000000113381214</td>\n",
       "      <td>2216</td>\n",
       "      <td>21918</td>\n",
       "      <td>(TRONROUT0000000032852460, TRONROUT0000000113381214)</td>\n",
       "    </tr>\n",
       "    <tr>\n",
       "      <th>18</th>\n",
       "      <td>TRONROUT0000000130606391</td>\n",
       "      <td>14144</td>\n",
       "      <td>1542</td>\n",
       "      <td>(TRONROUT0000000130606391, TRONROUT0000000129757081)</td>\n",
       "    </tr>\n",
       "    <tr>\n",
       "      <th>2033</th>\n",
       "      <td>TRONROUT0000000129757081</td>\n",
       "      <td>14144</td>\n",
       "      <td>14145</td>\n",
       "      <td>(TRONROUT0000000130606391, TRONROUT0000000129757081)</td>\n",
       "    </tr>\n",
       "    <tr>\n",
       "      <th>...</th>\n",
       "      <td>...</td>\n",
       "      <td>...</td>\n",
       "      <td>...</td>\n",
       "      <td>...</td>\n",
       "    </tr>\n",
       "    <tr>\n",
       "      <th>7969</th>\n",
       "      <td>TRONROUT0000000032932841</td>\n",
       "      <td>74893</td>\n",
       "      <td>6284</td>\n",
       "      <td>(TRONROUT0000000032932841,)</td>\n",
       "    </tr>\n",
       "    <tr>\n",
       "      <th>7971</th>\n",
       "      <td>TRONROUT0000000204719300</td>\n",
       "      <td>9914</td>\n",
       "      <td>21667</td>\n",
       "      <td>(TRONROUT0000000204719300,)</td>\n",
       "    </tr>\n",
       "    <tr>\n",
       "      <th>7972</th>\n",
       "      <td>TRONROUT0000000032845152</td>\n",
       "      <td>77807</td>\n",
       "      <td>92799</td>\n",
       "      <td>(TRONROUT0000000032845152,)</td>\n",
       "    </tr>\n",
       "    <tr>\n",
       "      <th>7975</th>\n",
       "      <td>TRONROUT0000000032845437</td>\n",
       "      <td>52300</td>\n",
       "      <td>42964</td>\n",
       "      <td>(TRONROUT0000000032845437,)</td>\n",
       "    </tr>\n",
       "    <tr>\n",
       "      <th>7978</th>\n",
       "      <td>TRONROUT0000000113489754</td>\n",
       "      <td>16159</td>\n",
       "      <td>88029</td>\n",
       "      <td>(TRONROUT0000000113489754,)</td>\n",
       "    </tr>\n",
       "    <tr>\n",
       "      <th>7979</th>\n",
       "      <td>TRONROUT0000000039659108</td>\n",
       "      <td>20654</td>\n",
       "      <td>20655</td>\n",
       "      <td>(TRONROUT0000000039659108,)</td>\n",
       "    </tr>\n",
       "    <tr>\n",
       "      <th>7981</th>\n",
       "      <td>TRONROUT0000000032839763</td>\n",
       "      <td>11330</td>\n",
       "      <td>11331</td>\n",
       "      <td>(TRONROUT0000000032839763,)</td>\n",
       "    </tr>\n",
       "    <tr>\n",
       "      <th>7985</th>\n",
       "      <td>TRONROUT0000000032925964</td>\n",
       "      <td>17503</td>\n",
       "      <td>1179</td>\n",
       "      <td>(TRONROUT0000000032925964,)</td>\n",
       "    </tr>\n",
       "    <tr>\n",
       "      <th>7986</th>\n",
       "      <td>TRONROUT0000000032930819</td>\n",
       "      <td>6850</td>\n",
       "      <td>6851</td>\n",
       "      <td>(TRONROUT0000000032930819,)</td>\n",
       "    </tr>\n",
       "    <tr>\n",
       "      <th>7988</th>\n",
       "      <td>TRONROUT0000000204719302</td>\n",
       "      <td>21667</td>\n",
       "      <td>9913</td>\n",
       "      <td>(TRONROUT0000000204719302,)</td>\n",
       "    </tr>\n",
       "    <tr>\n",
       "      <th>7992</th>\n",
       "      <td>TRONROUT0000000032905161</td>\n",
       "      <td>76194</td>\n",
       "      <td>62343</td>\n",
       "      <td>(TRONROUT0000000032905161,)</td>\n",
       "    </tr>\n",
       "    <tr>\n",
       "      <th>7994</th>\n",
       "      <td>TRONROUT0000000244265522</td>\n",
       "      <td>4501</td>\n",
       "      <td>51370</td>\n",
       "      <td>(TRONROUT0000000244265522,)</td>\n",
       "    </tr>\n",
       "    <tr>\n",
       "      <th>7996</th>\n",
       "      <td>TRONROUT0000000032954985</td>\n",
       "      <td>26635</td>\n",
       "      <td>24192</td>\n",
       "      <td>(TRONROUT0000000032954985,)</td>\n",
       "    </tr>\n",
       "    <tr>\n",
       "      <th>7997</th>\n",
       "      <td>TRONROUT0000000032935362</td>\n",
       "      <td>88853</td>\n",
       "      <td>8520</td>\n",
       "      <td>(TRONROUT0000000032935362,)</td>\n",
       "    </tr>\n",
       "    <tr>\n",
       "      <th>7998</th>\n",
       "      <td>TRONROUT0000000032937180</td>\n",
       "      <td>85463</td>\n",
       "      <td>52844</td>\n",
       "      <td>(TRONROUT0000000032937180,)</td>\n",
       "    </tr>\n",
       "    <tr>\n",
       "      <th>7999</th>\n",
       "      <td>TRONROUT0000000207506079</td>\n",
       "      <td>2655</td>\n",
       "      <td>2553</td>\n",
       "      <td>(TRONROUT0000000207506079,)</td>\n",
       "    </tr>\n",
       "    <tr>\n",
       "      <th>8000</th>\n",
       "      <td>TRONROUT0000000217441852</td>\n",
       "      <td>50028</td>\n",
       "      <td>61777</td>\n",
       "      <td>(TRONROUT0000000217441852,)</td>\n",
       "    </tr>\n",
       "    <tr>\n",
       "      <th>8001</th>\n",
       "      <td>TRONROUT0000000246237474</td>\n",
       "      <td>70777</td>\n",
       "      <td>70778</td>\n",
       "      <td>(TRONROUT0000000246237474,)</td>\n",
       "    </tr>\n",
       "    <tr>\n",
       "      <th>8002</th>\n",
       "      <td>TRONROUT0000000032901869</td>\n",
       "      <td>46130</td>\n",
       "      <td>63153</td>\n",
       "      <td>(TRONROUT0000000032901869,)</td>\n",
       "    </tr>\n",
       "    <tr>\n",
       "      <th>8008</th>\n",
       "      <td>TRONROUT0000000207507423</td>\n",
       "      <td>92797</td>\n",
       "      <td>88038</td>\n",
       "      <td>(TRONROUT0000000207507423,)</td>\n",
       "    </tr>\n",
       "    <tr>\n",
       "      <th>8010</th>\n",
       "      <td>TRONROUT0000000246054223</td>\n",
       "      <td>64274</td>\n",
       "      <td>87442</td>\n",
       "      <td>(TRONROUT0000000246054223,)</td>\n",
       "    </tr>\n",
       "    <tr>\n",
       "      <th>8015</th>\n",
       "      <td>TRONROUT0000000211249485</td>\n",
       "      <td>73559</td>\n",
       "      <td>80515</td>\n",
       "      <td>(TRONROUT0000000211249485,)</td>\n",
       "    </tr>\n",
       "    <tr>\n",
       "      <th>8020</th>\n",
       "      <td>TRONROUT0000000032837377</td>\n",
       "      <td>21222</td>\n",
       "      <td>82495</td>\n",
       "      <td>(TRONROUT0000000032837377,)</td>\n",
       "    </tr>\n",
       "    <tr>\n",
       "      <th>8022</th>\n",
       "      <td>TRONROUT0000000032871703</td>\n",
       "      <td>11487</td>\n",
       "      <td>67816</td>\n",
       "      <td>(TRONROUT0000000032871703,)</td>\n",
       "    </tr>\n",
       "    <tr>\n",
       "      <th>8025</th>\n",
       "      <td>TRONROUT0000000032829984</td>\n",
       "      <td>1945</td>\n",
       "      <td>24927</td>\n",
       "      <td>(TRONROUT0000000032829984,)</td>\n",
       "    </tr>\n",
       "    <tr>\n",
       "      <th>8028</th>\n",
       "      <td>TRONROUT0000000039536932</td>\n",
       "      <td>36138</td>\n",
       "      <td>85212</td>\n",
       "      <td>(TRONROUT0000000039536932,)</td>\n",
       "    </tr>\n",
       "    <tr>\n",
       "      <th>8029</th>\n",
       "      <td>TRONROUT0000000032851692</td>\n",
       "      <td>88408</td>\n",
       "      <td>3244</td>\n",
       "      <td>(TRONROUT0000000032851692,)</td>\n",
       "    </tr>\n",
       "    <tr>\n",
       "      <th>8031</th>\n",
       "      <td>TRONROUT0000000032884064</td>\n",
       "      <td>63013</td>\n",
       "      <td>81980</td>\n",
       "      <td>(TRONROUT0000000032884064,)</td>\n",
       "    </tr>\n",
       "    <tr>\n",
       "      <th>8032</th>\n",
       "      <td>TRONROUT0000000032935157</td>\n",
       "      <td>616</td>\n",
       "      <td>55149</td>\n",
       "      <td>(TRONROUT0000000032935157,)</td>\n",
       "    </tr>\n",
       "    <tr>\n",
       "      <th>8037</th>\n",
       "      <td>TRONROUT0000000032832158</td>\n",
       "      <td>50351</td>\n",
       "      <td>77196</td>\n",
       "      <td>(TRONROUT0000000032832158,)</td>\n",
       "    </tr>\n",
       "  </tbody>\n",
       "</table>\n",
       "<p>8039 rows × 4 columns</p>\n",
       "</div>"
      ],
      "text/plain": [
       "                      id_ign_x  source  target  \\\n",
       "0     TRONROUT0000000032913261   90125   85128   \n",
       "1     TRONROUT0000000039536944   69665   62259   \n",
       "136   TRONROUT0000000039536936   69665   89964   \n",
       "208   TRONROUT0000000129676590   69665   48718   \n",
       "2     TRONROUT0000000314695530   87573   90311   \n",
       "4480  TRONROUT0000000314695529   87573   67978   \n",
       "3     TRONROUT0000000039536946   36137   90473   \n",
       "6079  TRONROUT0000000039536924   36137   36138   \n",
       "6417  TRONROUT0000000039536942   36137   85212   \n",
       "4     TRONROUT0000000032868183   31583   11714   \n",
       "5     TRONROUT0000000032946008     979   41642   \n",
       "6     TRONROUT0000000314695524   90311   84681   \n",
       "7     TRONROUT0000000032912909    7533   38991   \n",
       "8     TRONROUT0000000113490390   62575    7522   \n",
       "9     TRONROUT0000000318450099   12871     379   \n",
       "134   TRONROUT0000000318450180   12871   33566   \n",
       "10    TRONROUT0000000032850838   24049   38177   \n",
       "4135  TRONROUT0000000032850858   24049   80601   \n",
       "11    TRONROUT0000000032869702   26672   26673   \n",
       "4369  TRONROUT0000000207506113   26672   20828   \n",
       "12    TRONROUT0000000339411586   12429   12430   \n",
       "13    TRONROUT0000000032911035   61232   15841   \n",
       "14    TRONROUT0000000032859622     271     272   \n",
       "15    TRONROUT0000000098452912    6299   37269   \n",
       "16    TRONROUT0000000032846705   51323   50207   \n",
       "6527  TRONROUT0000000115449808   51323   22363   \n",
       "17    TRONROUT0000000032852460    2216   29382   \n",
       "6328  TRONROUT0000000113381214    2216   21918   \n",
       "18    TRONROUT0000000130606391   14144    1542   \n",
       "2033  TRONROUT0000000129757081   14144   14145   \n",
       "...                        ...     ...     ...   \n",
       "7969  TRONROUT0000000032932841   74893    6284   \n",
       "7971  TRONROUT0000000204719300    9914   21667   \n",
       "7972  TRONROUT0000000032845152   77807   92799   \n",
       "7975  TRONROUT0000000032845437   52300   42964   \n",
       "7978  TRONROUT0000000113489754   16159   88029   \n",
       "7979  TRONROUT0000000039659108   20654   20655   \n",
       "7981  TRONROUT0000000032839763   11330   11331   \n",
       "7985  TRONROUT0000000032925964   17503    1179   \n",
       "7986  TRONROUT0000000032930819    6850    6851   \n",
       "7988  TRONROUT0000000204719302   21667    9913   \n",
       "7992  TRONROUT0000000032905161   76194   62343   \n",
       "7994  TRONROUT0000000244265522    4501   51370   \n",
       "7996  TRONROUT0000000032954985   26635   24192   \n",
       "7997  TRONROUT0000000032935362   88853    8520   \n",
       "7998  TRONROUT0000000032937180   85463   52844   \n",
       "7999  TRONROUT0000000207506079    2655    2553   \n",
       "8000  TRONROUT0000000217441852   50028   61777   \n",
       "8001  TRONROUT0000000246237474   70777   70778   \n",
       "8002  TRONROUT0000000032901869   46130   63153   \n",
       "8008  TRONROUT0000000207507423   92797   88038   \n",
       "8010  TRONROUT0000000246054223   64274   87442   \n",
       "8015  TRONROUT0000000211249485   73559   80515   \n",
       "8020  TRONROUT0000000032837377   21222   82495   \n",
       "8022  TRONROUT0000000032871703   11487   67816   \n",
       "8025  TRONROUT0000000032829984    1945   24927   \n",
       "8028  TRONROUT0000000039536932   36138   85212   \n",
       "8029  TRONROUT0000000032851692   88408    3244   \n",
       "8031  TRONROUT0000000032884064   63013   81980   \n",
       "8032  TRONROUT0000000032935157     616   55149   \n",
       "8037  TRONROUT0000000032832158   50351   77196   \n",
       "\n",
       "                                                                            id_ign_y  \n",
       "0                                                        (TRONROUT0000000032913261,)  \n",
       "1     (TRONROUT0000000039536944, TRONROUT0000000039536936, TRONROUT0000000129676590)  \n",
       "136   (TRONROUT0000000039536944, TRONROUT0000000039536936, TRONROUT0000000129676590)  \n",
       "208   (TRONROUT0000000039536944, TRONROUT0000000039536936, TRONROUT0000000129676590)  \n",
       "2                               (TRONROUT0000000314695530, TRONROUT0000000314695529)  \n",
       "4480                            (TRONROUT0000000314695530, TRONROUT0000000314695529)  \n",
       "3     (TRONROUT0000000039536946, TRONROUT0000000039536924, TRONROUT0000000039536942)  \n",
       "6079  (TRONROUT0000000039536946, TRONROUT0000000039536924, TRONROUT0000000039536942)  \n",
       "6417  (TRONROUT0000000039536946, TRONROUT0000000039536924, TRONROUT0000000039536942)  \n",
       "4                                                        (TRONROUT0000000032868183,)  \n",
       "5                                                        (TRONROUT0000000032946008,)  \n",
       "6                                                        (TRONROUT0000000314695524,)  \n",
       "7                                                        (TRONROUT0000000032912909,)  \n",
       "8                                                        (TRONROUT0000000113490390,)  \n",
       "9                               (TRONROUT0000000318450099, TRONROUT0000000318450180)  \n",
       "134                             (TRONROUT0000000318450099, TRONROUT0000000318450180)  \n",
       "10                              (TRONROUT0000000032850838, TRONROUT0000000032850858)  \n",
       "4135                            (TRONROUT0000000032850838, TRONROUT0000000032850858)  \n",
       "11                              (TRONROUT0000000032869702, TRONROUT0000000207506113)  \n",
       "4369                            (TRONROUT0000000032869702, TRONROUT0000000207506113)  \n",
       "12                                                       (TRONROUT0000000339411586,)  \n",
       "13                                                       (TRONROUT0000000032911035,)  \n",
       "14                                                       (TRONROUT0000000032859622,)  \n",
       "15                                                       (TRONROUT0000000098452912,)  \n",
       "16                              (TRONROUT0000000032846705, TRONROUT0000000115449808)  \n",
       "6527                            (TRONROUT0000000032846705, TRONROUT0000000115449808)  \n",
       "17                              (TRONROUT0000000032852460, TRONROUT0000000113381214)  \n",
       "6328                            (TRONROUT0000000032852460, TRONROUT0000000113381214)  \n",
       "18                              (TRONROUT0000000130606391, TRONROUT0000000129757081)  \n",
       "2033                            (TRONROUT0000000130606391, TRONROUT0000000129757081)  \n",
       "...                                                                              ...  \n",
       "7969                                                     (TRONROUT0000000032932841,)  \n",
       "7971                                                     (TRONROUT0000000204719300,)  \n",
       "7972                                                     (TRONROUT0000000032845152,)  \n",
       "7975                                                     (TRONROUT0000000032845437,)  \n",
       "7978                                                     (TRONROUT0000000113489754,)  \n",
       "7979                                                     (TRONROUT0000000039659108,)  \n",
       "7981                                                     (TRONROUT0000000032839763,)  \n",
       "7985                                                     (TRONROUT0000000032925964,)  \n",
       "7986                                                     (TRONROUT0000000032930819,)  \n",
       "7988                                                     (TRONROUT0000000204719302,)  \n",
       "7992                                                     (TRONROUT0000000032905161,)  \n",
       "7994                                                     (TRONROUT0000000244265522,)  \n",
       "7996                                                     (TRONROUT0000000032954985,)  \n",
       "7997                                                     (TRONROUT0000000032935362,)  \n",
       "7998                                                     (TRONROUT0000000032937180,)  \n",
       "7999                                                     (TRONROUT0000000207506079,)  \n",
       "8000                                                     (TRONROUT0000000217441852,)  \n",
       "8001                                                     (TRONROUT0000000246237474,)  \n",
       "8002                                                     (TRONROUT0000000032901869,)  \n",
       "8008                                                     (TRONROUT0000000207507423,)  \n",
       "8010                                                     (TRONROUT0000000246054223,)  \n",
       "8015                                                     (TRONROUT0000000211249485,)  \n",
       "8020                                                     (TRONROUT0000000032837377,)  \n",
       "8022                                                     (TRONROUT0000000032871703,)  \n",
       "8025                                                     (TRONROUT0000000032829984,)  \n",
       "8028                                                     (TRONROUT0000000039536932,)  \n",
       "8029                                                     (TRONROUT0000000032851692,)  \n",
       "8031                                                     (TRONROUT0000000032884064,)  \n",
       "8032                                                     (TRONROUT0000000032935157,)  \n",
       "8037                                                     (TRONROUT0000000032832158,)  \n",
       "\n",
       "[8039 rows x 4 columns]"
      ]
     },
     "execution_count": 76,
     "metadata": {},
     "output_type": "execute_result"
    }
   ],
   "source": [
    "liste_lgn_src=lignes_sup3_tch.groupby('source').agg({'id_ign':lambda x : tuple(x)})\n",
    "liste_lgn_tgt=lignes_sup3_tch.groupby('target').agg({'id_ign':lambda x : tuple(x)})\n",
    "lignes_sup3_tch.merge(liste_lgn_src, left_on='source', right_index=True).merge(\n",
    "left_on='target')"
   ]
  },
  {
   "cell_type": "markdown",
   "metadata": {},
   "source": [
    "# Tests de deroulement global"
   ]
  },
  {
   "cell_type": "code",
   "execution_count": 322,
   "metadata": {},
   "outputs": [],
   "source": [
    "def lignes_troncon_elem(df_avec_rd_pt, ligne) : \n",
    "    \"\"\"\n",
    "    trouver les lignes qui appartiennent au même troncon elementaire que la ligne de depart\n",
    "    en entree : \n",
    "        df_avec_rd_pt : df des lignes Bdtopo\n",
    "        ligne : string : id_ign de la ligne a tester\n",
    "    en sortie :\n",
    "        liste_troncon_finale : set de string des id_ign des lignes réunies dans le troncon elementaire\n",
    "    \"\"\"\n",
    "    df_lignes2=df_avec_rd_pt.set_index('id_ign')#mettre l'id_ign en index\n",
    "    lignes_a_tester, liste_troncon_finale, list_troncon2=[ligne],[],[]\n",
    "\n",
    "    while lignes_a_tester :\n",
    "        for id_lignes2 in lignes_a_tester : \n",
    "            list_troncon2=at.liste_complete_tronc_base(id_lignes2,df_lignes2,liste_troncon_finale)\n",
    "            liste_troncon_finale+=list_troncon2\n",
    "            dico_deb_fin2=at.deb_fin_liste_tronc_base(df_lignes2, list_troncon2)\n",
    "            for k, v in dico_deb_fin2.items() :\n",
    "                lignes_adj2=df_lignes2.loc[((df_lignes2['source']==v['num_node'])|\n",
    "                                          (df_lignes2['target']==v['num_node']))&\n",
    "                                         (df_lignes2.index!=k)&(~df_lignes2.index.isin(liste_troncon_finale))]\n",
    "                if lignes_adj2.empty : \n",
    "                    continue\n",
    "                check_rdpt2, num_rdpt2=at.verif_touche_rdpt(lignes_adj2)\n",
    "                # on attaque la liste des cas possible\n",
    "                #1. Rond point\n",
    "                if check_rdpt2 : \n",
    "                    lignes_rdpt2, lignes_sortantes2=at.recup_lignes_rdpt(carac_rd_pt,num_rdpt2,list_troncon2,v['voie'])\n",
    "                    liste_troncon_finale+=lignes_rdpt2\n",
    "                    lignes_a_tester+=lignes_sortantes2\n",
    "                #2. route qui se sépare\n",
    "                elif at.recup_route_split(v['voie'], lignes_adj2) : \n",
    "                    liste_rte_separe=at.recup_route_split(v['voie'], lignes_adj2)\n",
    "                    lignes_a_tester+=liste_rte_separe        \n",
    "            lignes_a_tester=[x for x in lignes_a_tester if x not in liste_troncon_finale]\n",
    "    liste_troncon_finale=list(set(liste_troncon_finale))\n",
    "    return liste_troncon_finale"
   ]
  },
  {
   "cell_type": "markdown",
   "metadata": {},
   "source": [
    "# 3. Boucler sur 'ensembl des lignes\n",
    "On va faire tourner les traitements sur l'ensemble des lignes, en partant de la liste des id_ign, pour chaque ligne : \n",
    "- si la ligne ne remplit pas les critères d'exclusion on continu, sinon on passe à la suivante\n",
    "- fonction de recherche des lignes associées\n",
    "- df des association\n",
    "- filtre de la liste des id_ign de base"
   ]
  },
  {
   "cell_type": "code",
   "execution_count": 335,
   "metadata": {},
   "outputs": [],
   "source": [
    "# liste des id_ign\n",
    "liste_id_ign_base=np.array(df_avec_rd_pt.id_ign.tolist())"
   ]
  },
  {
   "cell_type": "code",
   "execution_count": 336,
   "metadata": {},
   "outputs": [
    {
     "name": "stderr",
     "output_type": "stream",
     "text": [
      "c:\\users\\martin.schoreisz\\appdata\\local\\programs\\python\\python37\\lib\\site-packages\\ipykernel_launcher.py:5: FutureWarning: elementwise comparison failed; returning scalar instead, but in the future will perform elementwise comparison\n",
      "  \"\"\"\n"
     ]
    },
    {
     "name": "stdout",
     "output_type": "stream",
     "text": [
      "0 2019-09-03 15:12:11.840776 nb lignes traitees : 0\n",
      "100 2019-09-03 15:13:09.097632 nb lignes traitees : 4380\n"
     ]
    }
   ],
   "source": [
    "dico_fin={}\n",
    "lignes_traitees=np.array([])\n",
    "for i,l in enumerate(liste_id_ign_base) :\n",
    "    if len(lignes_traitees)==len(liste_id_ign_base) : break\n",
    "    if l in lignes_traitees : \n",
    "        continue\n",
    "    if i%100==0 : \n",
    "        print(i, datetime.now(), f'nb lignes traitees : {len(lignes_traitees)}')\n",
    "    #critère d'exclusion : si la ligne est une bretelle ou si la ligne à un nb de lignes qui intersecte debut et fin >2, ou si c'est un rd pt\n",
    "    ligne=df_avec_rd_pt.set_index('id_ign').loc[l]\n",
    "    if ((ligne['nb_intrsct_src'] and ligne['nb_intrsct_tgt']) > 2) or ligne['nature']=='Bretelle' or ~np.isnan(ligne['id_rdpt']):\n",
    "        continue\n",
    "    else : \n",
    "        liste_ligne=lignes_troncon_elem(df_avec_rd_pt, l)  \n",
    "        lignes_traitees=np.append(lignes_traitees,liste_ligne)\n",
    "    for ligne in liste_ligne : \n",
    "        dico_fin[ligne]=i\n",
    "    "
   ]
  },
  {
   "cell_type": "code",
   "execution_count": 344,
   "metadata": {},
   "outputs": [
    {
     "data": {
      "text/html": [
       "<div>\n",
       "<style scoped>\n",
       "    .dataframe tbody tr th:only-of-type {\n",
       "        vertical-align: middle;\n",
       "    }\n",
       "\n",
       "    .dataframe tbody tr th {\n",
       "        vertical-align: top;\n",
       "    }\n",
       "\n",
       "    .dataframe thead th {\n",
       "        text-align: right;\n",
       "    }\n",
       "</style>\n",
       "<table border=\"1\" class=\"dataframe\">\n",
       "  <thead>\n",
       "    <tr style=\"text-align: right;\">\n",
       "      <th></th>\n",
       "      <th>id</th>\n",
       "      <th>idtronc</th>\n",
       "    </tr>\n",
       "  </thead>\n",
       "  <tbody>\n",
       "  </tbody>\n",
       "</table>\n",
       "</div>"
      ],
      "text/plain": [
       "Empty DataFrame\n",
       "Columns: [id, idtronc]\n",
       "Index: []"
      ]
     },
     "execution_count": 344,
     "metadata": {},
     "output_type": "execute_result"
    }
   ],
   "source": [
    "df_test=pd.DataFrame.from_dict(dico_fin, orient='index').reset_index()\n",
    "df_test.columns=['id','idtronc']\n",
    "df_test.loc[df_test.duplicated('id')]"
   ]
  },
  {
   "cell_type": "code",
   "execution_count": 26,
   "metadata": {},
   "outputs": [
    {
     "data": {
      "text/plain": [
       "{'TRONROUT0000000339411580',\n",
       " 'TRONROUT0000000339411600',\n",
       " 'TRONROUT0000000339411601',\n",
       " 'TRONROUT0000000339411606',\n",
       " 'TRONROUT0000000339411607',\n",
       " 'TRONROUT0000000339411608',\n",
       " 'TRONROUT0000000339411609',\n",
       " 'TRONROUT0000000339411610',\n",
       " 'TRONROUT0000000339411611'}"
      ]
     },
     "execution_count": 26,
     "metadata": {},
     "output_type": "execute_result"
    }
   ],
   "source": [
    "%%time\n",
    "a=np.array([i for i in range(100000)])\n",
    "c=[]\n",
    "for i,b in enumerate(a) :\n",
    "    if b not in a :\n",
    "        continue\n",
    "    c=[b,b+1]\n",
    "    a=a[np.isin(a,c, invert=True)]\n",
    "    if i%50000==0 : print(i)"
   ]
  },
  {
   "cell_type": "markdown",
   "metadata": {},
   "source": [
    "# SUITE"
   ]
  },
  {
   "cell_type": "code",
   "execution_count": 114,
   "metadata": {},
   "outputs": [],
   "source": [
    "toto=list(at.recup_troncon_elementaire('TRONROUT0000000032862365',df,[]))"
   ]
  },
  {
   "cell_type": "code",
   "execution_count": 115,
   "metadata": {},
   "outputs": [],
   "source": [
    "toto.append('TRONROUT0000000032862365')"
   ]
  },
  {
   "cell_type": "code",
   "execution_count": null,
   "metadata": {},
   "outputs": [],
   "source": [
    "toto"
   ]
  },
  {
   "cell_type": "code",
   "execution_count": 117,
   "metadata": {},
   "outputs": [
    {
     "name": "stderr",
     "output_type": "stream",
     "text": [
      "C:\\Users\\martin.schoreisz\\git\\otv\\otv\\Transfert_Donnees\\agrege_troncon.py:279: SettingWithCopyWarning: \n",
      "A value is trying to be set on a copy of a slice from a DataFrame.\n",
      "Try using .loc[row_indexer,col_indexer] = value instead\n",
      "\n",
      "See the caveats in the documentation: http://pandas.pydata.org/pandas-docs/stable/indexing.html#indexing-view-versus-copy\n",
      "  ligne_filtres['distance']=ligne_filtres.geom.apply(lambda x : gdf_lignes2.centroid.distance(x))\n"
     ]
    },
    {
     "data": {
      "text/plain": [
       "'TRONROUT0000000032876496'"
      ]
     },
     "execution_count": 117,
     "metadata": {},
     "output_type": "execute_result"
    }
   ],
   "source": [
    "at.recup_troncon_parallele_v2(df,toto)"
   ]
  },
  {
   "cell_type": "code",
   "execution_count": null,
   "metadata": {},
   "outputs": [],
   "source": [
    "for i in toto :\n",
    "    tata=at.affecter_troncon_ligne(i,df,df2_chaussees)\n",
    "    print(len(tata))"
   ]
  },
  {
   "cell_type": "code",
   "execution_count": 12,
   "metadata": {
    "collapsed": true,
    "jupyter": {
     "outputs_hidden": true
    }
   },
   "outputs": [
    {
     "name": "stdout",
     "output_type": "stream",
     "text": [
      "0eme occurence : TRONROUT0000000084053027 à 18:23:53 nb ligne traite : 0, nb ligne differente=0\n",
      "indexError ligne  TRONROUT0000000032954220\n",
      "indexError ligne  TRONROUT0000000033016282\n",
      "indexError ligne  TRONROUT0000000249471326\n",
      "indexError ligne  TRONROUT0000000336640149\n",
      "indexError ligne  TRONROUT0000000224966440\n",
      "indexError ligne  TRONROUT0000000032833606\n",
      "indexError ligne  TRONROUT0000000032895598\n",
      "indexError ligne  TRONROUT0000000032991823\n",
      "indexError ligne  TRONROUT0000000223846575\n",
      "indexError ligne  TRONROUT0000000255628539\n",
      "indexError ligne  TRONROUT0000000032895522\n",
      "indexError ligne  TRONROUT0000000032843156\n",
      "indexError ligne  TRONROUT0000000032966066\n",
      "indexError ligne  TRONROUT0000000129676068\n",
      "indexError ligne  TRONROUT0000000032855812\n",
      "indexError ligne  TRONROUT0000000033029153\n",
      "indexError ligne  TRONROUT0000000323460798\n",
      "indexError ligne  TRONROUT0000000032937456\n",
      "indexError ligne  TRONROUT0000000089679809\n",
      "indexError ligne  TRONROUT0000000211249489\n",
      "5000eme occurence : TRONROUT0000000032859682 à 18:48:55 nb ligne traite : 32803, nb ligne differente=32803\n",
      "indexError ligne  TRONROUT0000000033039887\n",
      "indexError ligne  TRONROUT0000000249471289\n",
      "indexError ligne  TRONROUT0000000273289060\n",
      "indexError ligne  TRONROUT0000000089680356\n",
      "indexError ligne  TRONROUT0000000032852004\n",
      "indexError ligne  TRONROUT0000000032966024\n",
      "indexError ligne  TRONROUT0000000032985346\n",
      "indexError ligne  TRONROUT0000000211430256\n",
      "indexError ligne  TRONROUT0000000336641185\n",
      "indexError ligne  TRONROUT0000000032939836\n",
      "indexError ligne  TRONROUT0000000220168691\n",
      "indexError ligne  TRONROUT0000000226901122\n",
      "indexError ligne  TRONROUT0000000318145727\n",
      "indexError ligne  TRONROUT0000000224966445\n",
      "10000eme occurence : TRONROUT0000000032882286 à 19:06:30 nb ligne traite : 49930, nb ligne differente=49930\n",
      "indexError ligne  TRONROUT0000000032910829\n",
      "indexError ligne  TRONROUT0000000228389201\n",
      "indexError ligne  TRONROUT0000000129676347\n",
      "indexError ligne  TRONROUT0000000220761623\n",
      "indexError ligne  TRONROUT0000000098462823\n",
      "indexError ligne  TRONROUT0000000032945581\n",
      "indexError ligne  TRONROUT0000000226901119\n",
      "indexError ligne  TRONROUT0000000032895811\n",
      "indexError ligne  TRONROUT0000000220235164\n",
      "indexError ligne  TRONROUT0000000032970400\n",
      "indexError ligne  TRONROUT0000000032857834\n",
      "indexError ligne  TRONROUT0000000204719248\n",
      "indexError ligne  TRONROUT0000000280784899\n",
      "15000eme occurence : TRONROUT0000000033045774 à 19:19:23 nb ligne traite : 62588, nb ligne differente=62588\n",
      "indexError ligne  TRONROUT0000000032958312\n",
      "indexError ligne  TRONROUT0000000032986807\n",
      "indexError ligne  TRONROUT0000000336160525\n",
      "indexError ligne  TRONROUT0000000302053388\n",
      "indexError ligne  TRONROUT0000000032892920\n",
      "indexError ligne  TRONROUT0000000032898124\n",
      "indexError ligne  TRONROUT0000000032843557\n",
      "indexError ligne  TRONROUT0000000220761624\n",
      "indexError ligne  TRONROUT0000000253959502\n",
      "indexError ligne  TRONROUT0000000033001111\n",
      "indexError ligne  TRONROUT0000000032999540\n",
      "indexError ligne  TRONROUT0000000107259522\n",
      "indexError ligne  TRONROUT0000000247510344\n",
      "20000eme occurence : TRONROUT0000000032934392 à 19:31:23 nb ligne traite : 71807, nb ligne differente=71807\n",
      "indexError ligne  TRONROUT0000000033000676\n",
      "indexError ligne  TRONROUT0000000032966057\n",
      "indexError ligne  TRONROUT0000000032930883\n",
      "indexError ligne  TRONROUT0000000249470976\n",
      "indexError ligne  TRONROUT0000000032928393\n",
      "indexError ligne  TRONROUT0000000112536077\n",
      "indexError ligne  TRONROUT0000000301144126\n",
      "indexError ligne  TRONROUT0000000219979324\n",
      "indexError ligne  TRONROUT0000000229443458\n",
      "25000eme occurence : TRONROUT0000000032828056 à 19:39:47 nb ligne traite : 79076, nb ligne differente=79076\n",
      "indexError ligne  TRONROUT0000000032987038\n",
      "indexError ligne  TRONROUT0000000301134430\n",
      "indexError ligne  TRONROUT0000000032999536\n",
      "30000eme occurence : TRONROUT0000000032835688 à 19:45:03 nb ligne traite : 82867, nb ligne differente=82867\n",
      "indexError ligne  TRONROUT0000000287746996\n",
      "indexError ligne  TRONROUT0000000227870945\n",
      "35000eme occurence : TRONROUT0000000032956199 à 19:50:11 nb ligne traite : 85766, nb ligne differente=85766\n",
      "indexError ligne  TRONROUT0000000039536317\n",
      "indexError ligne  TRONROUT0000000130608456\n",
      "indexError ligne  TRONROUT0000000032986811\n",
      "40000eme occurence : TRONROUT0000000032994014 à 19:57:18 nb ligne traite : 89825, nb ligne differente=89825\n",
      "indexError ligne  TRONROUT0000000032843584\n",
      "indexError ligne  TRONROUT0000000032865362\n",
      "indexError ligne  TRONROUT0000000211249540\n",
      "indexError ligne  TRONROUT0000000032895374\n",
      "45000eme occurence : TRONROUT0000000032872086 à 20:03:31 nb ligne traite : 93504, nb ligne differente=93504\n",
      "indexError ligne  TRONROUT0000000032900009\n",
      "indexError ligne  TRONROUT0000000032843563\n",
      "indexError ligne  TRONROUT0000000032926691\n",
      "50000eme occurence : TRONROUT0000000032949389 à 20:08:40 nb ligne traite : 96414, nb ligne differente=96414\n",
      "indexError ligne  TRONROUT0000000249471036\n",
      "indexError ligne  TRONROUT0000000033000686\n",
      "55000eme occurence : TRONROUT0000000249471201 à 20:12:42 nb ligne traite : 98535, nb ligne differente=98535\n",
      "60000eme occurence : TRONROUT0000000032867879 à 20:14:28 nb ligne traite : 99565, nb ligne differente=99565\n",
      "indexError ligne  TRONROUT0000000201941200\n",
      "65000eme occurence : TRONROUT0000000033044083 à 20:16:43 nb ligne traite : 100550, nb ligne differente=100550\n",
      "70000eme occurence : TRONROUT0000000032827179 à 20:19:38 nb ligne traite : 101852, nb ligne differente=101852\n",
      "75000eme occurence : TRONROUT0000000032866209 à 20:22:17 nb ligne traite : 103062, nb ligne differente=103062\n",
      "indexError ligne  TRONROUT0000000070734678\n",
      "80000eme occurence : TRONROUT0000000032918745 à 20:25:33 nb ligne traite : 104416, nb ligne differente=104416\n",
      "85000eme occurence : TRONROUT0000000032903555 à 20:27:07 nb ligne traite : 105019, nb ligne differente=105019\n",
      "90000eme occurence : TRONROUT0000000033032013 à 20:28:45 nb ligne traite : 105563, nb ligne differente=105563\n",
      "95000eme occurence : TRONROUT0000000032936507 à 20:32:09 nb ligne traite : 106129, nb ligne differente=106129\n",
      "100000eme occurence : TRONROUT0000000302480360 à 20:33:18 nb ligne traite : 106707, nb ligne differente=106707\n",
      "indexError ligne  TRONROUT0000000032985341\n",
      "105000eme occurence : TRONROUT0000000129676453 à 20:34:43 nb ligne traite : 107250, nb ligne differente=107250\n"
     ]
    }
   ],
   "source": [
    "dico=at.affecter_troncon(df,df2_chaussees)"
   ]
  },
  {
   "cell_type": "code",
   "execution_count": 13,
   "metadata": {},
   "outputs": [],
   "source": [
    "with ct.ConnexionBdd('local_otv') as c :\n",
    "    at.inserer_dico(c, dico)"
   ]
  },
  {
   "cell_type": "markdown",
   "metadata": {},
   "source": [
    "POUR TRAITEMENT DES VOIES A 2 CHAUSSES : TROUVER PARRALLELE"
   ]
  },
  {
   "cell_type": "code",
   "execution_count": 87,
   "metadata": {},
   "outputs": [],
   "source": [
    "#liste des troncons (parametre entrant)\n",
    "liste_troncon=toto"
   ]
  },
  {
   "cell_type": "code",
   "execution_count": 88,
   "metadata": {},
   "outputs": [],
   "source": [
    "#conversion en geodf\n",
    "gdf_lignes=gp.GeoDataFrame(df.loc[liste_troncon], geometry='geom')\n",
    "gdf_lignes.to_file(r'D:\\temp\\otv\\17\\2_chaussees\\lignes_a_gouper.shp')"
   ]
  },
  {
   "cell_type": "code",
   "execution_count": 89,
   "metadata": {},
   "outputs": [],
   "source": [
    "#union des geometries\n",
    "gdf_lignes2=linemerge(gdf_lignes.unary_union)"
   ]
  },
  {
   "cell_type": "code",
   "execution_count": null,
   "metadata": {},
   "outputs": [],
   "source": [
    "gdf_lignes2.wkt"
   ]
  },
  {
   "cell_type": "code",
   "execution_count": 90,
   "metadata": {},
   "outputs": [],
   "source": [
    "#centroid de la ligne\n",
    "xmin,ymin,xmax,ymax=gdf_lignes2.interpolate(0.5, normalized=True).buffer(50).bounds\n",
    "point=gdf_lignes2.interpolate(0.5, normalized=True)"
   ]
  },
  {
   "cell_type": "code",
   "execution_count": 91,
   "metadata": {},
   "outputs": [
    {
     "data": {
      "text/plain": [
       "'POINT (385035.1182861876 6561685.156661048)'"
      ]
     },
     "execution_count": 91,
     "metadata": {},
     "output_type": "execute_result"
    }
   ],
   "source": [
    "point.wkt"
   ]
  },
  {
   "cell_type": "code",
   "execution_count": 92,
   "metadata": {},
   "outputs": [],
   "source": [
    "#recherche des lignes proches du centroid\n",
    "lignes_possibles=df.cx[xmin:xmax,ymin:ymax]\n",
    "lignes_possibles.to_file(r'D:\\temp\\otv\\17\\2_chaussees\\lignes_possibles.shp')"
   ]
  },
  {
   "cell_type": "code",
   "execution_count": null,
   "metadata": {},
   "outputs": [],
   "source": [
    "lignes_possibles"
   ]
  },
  {
   "cell_type": "code",
   "execution_count": 94,
   "metadata": {},
   "outputs": [],
   "source": [
    "#uniquement les lignes non présentes dans la liste de troncons avec le même nom de voie\n",
    "ligne_filtres=lignes_possibles.loc[(~lignes_possibles.index.isin(liste_troncon)) & (lignes_possibles['numero']==gdf_lignes.iloc[0]['numero'])]"
   ]
  },
  {
   "cell_type": "code",
   "execution_count": 95,
   "metadata": {},
   "outputs": [
    {
     "name": "stderr",
     "output_type": "stream",
     "text": [
      "c:\\users\\martin.schoreisz\\appdata\\local\\programs\\python\\python37\\lib\\site-packages\\ipykernel_launcher.py:2: SettingWithCopyWarning: \n",
      "A value is trying to be set on a copy of a slice from a DataFrame.\n",
      "Try using .loc[row_indexer,col_indexer] = value instead\n",
      "\n",
      "See the caveats in the documentation: http://pandas.pydata.org/pandas-docs/stable/indexing.html#indexing-view-versus-copy\n",
      "  \n"
     ]
    }
   ],
   "source": [
    "#obtenir les distances au centroid\n",
    "ligne_filtres['distance']=ligne_filtres.geom.apply(lambda x : gdf_lignes2.centroid.distance(x))"
   ]
  },
  {
   "cell_type": "code",
   "execution_count": 96,
   "metadata": {},
   "outputs": [
    {
     "data": {
      "text/plain": [
       "'TRONROUT0000000129676313'"
      ]
     },
     "execution_count": 96,
     "metadata": {},
     "output_type": "execute_result"
    }
   ],
   "source": [
    "#garder uniquement la valeur la plus proche du centroid\n",
    "ligne_proche=ligne_filtres.loc[ligne_filtres['distance']==ligne_filtres['distance'].min()].index.tolist()[0]\n",
    "ligne_proche"
   ]
  },
  {
   "cell_type": "markdown",
   "metadata": {},
   "source": [
    "POUR TRAITEMENT DES ROND POINTS"
   ]
  },
  {
   "cell_type": "code",
   "execution_count": 4,
   "metadata": {},
   "outputs": [],
   "source": [
    "#polygoniser les lignes\n",
    "#creer la gdf\n",
    "df.crs={'init':'epsg:2154'}"
   ]
  },
  {
   "cell_type": "code",
   "execution_count": 15,
   "metadata": {},
   "outputs": [],
   "source": [
    "#creer la lsite des rd points selon le critere atmo aura ; creer une gdf avec la liste\n",
    "liste_rd_points=[t.buffer(0.1) for t in polygonize(df.geometry) if 12<=((t.length**2)/t.area)<=14] # car un cercle à un rappor de ce type entre 12 et 13\n",
    "dico_rd_pt=[[i, ((t.length**2)/t.area)] for i,t in enumerate(polygonize(df.geometry)) if 12<=((t.length**2)/t.area)<=14]\n",
    "gdf_rd_point=gp.GeoDataFrame(dico_rd_pt, geometry=liste_rd_points)\n",
    "gdf_rd_point.crs={'init':'epsg:2154'}\n",
    "gdf_rd_point.columns=['id_rdpt', 'facteur','geometry']\n",
    "#on créer aussi la meme donnees avec un buffer interiuer, pour ne garder que les lignes dans le buffer exteriuer et hors buffer interieur (cas de rond point enjmabeant uine 2*2 et prenant la 2*2 voie qui est dans le polygone\n",
    "liste_rd_points_int=[t.buffer(-0.1) for t in polygonize(df.geometry) if 12<=((t.length**2)/t.area)<=14]\n",
    "dico_rd_pt_int=[[i, ((t.length**2)/t.area)] for i,t in enumerate(polygonize(df.geometry)) if 12<=((t.length**2)/t.area)<=14]\n",
    "gdf_rd_point_int=gp.GeoDataFrame(dico_rd_pt_int, geometry=liste_rd_points_int)\n",
    "gdf_rd_point_int.crs={'init':'epsg:2154'}\n",
    "gdf_rd_point_int.columns=['id_rdpt', 'facteur','geometry']"
   ]
  },
  {
   "cell_type": "code",
   "execution_count": 63,
   "metadata": {},
   "outputs": [],
   "source": [
    "#jointure spataile pour une gdf avec uniquement les lignes des rd_points avec le numéro\n",
    "l_dans_p=gp.sjoin(df,gdf_rd_point,op='within') "
   ]
  },
  {
   "cell_type": "code",
   "execution_count": 64,
   "metadata": {},
   "outputs": [],
   "source": [
    "#suprimer les doublons\n",
    "l_dans_p_ss_doublon=l_dans_p.reset_index().rename(columns={'index':'id_ign'}).drop_duplicates('id_ign').set_index('id_ign')"
   ]
  },
  {
   "cell_type": "code",
   "execution_count": 66,
   "metadata": {},
   "outputs": [],
   "source": [
    "l_dans_p_int=gp.sjoin(df,gdf_rd_point_int,op='within')"
   ]
  },
  {
   "cell_type": "code",
   "execution_count": 67,
   "metadata": {},
   "outputs": [],
   "source": [
    "l_dans_p_final=l_dans_p_ss_doublon.loc[~l_dans_p_ss_doublon.index.isin(l_dans_p_int.index.tolist())]"
   ]
  },
  {
   "cell_type": "code",
   "execution_count": 68,
   "metadata": {},
   "outputs": [],
   "source": [
    "#lignes qui touchent rd points\n",
    "#1.ligne qui intersectent avec id_rdpt\n",
    "l_intersct_rdpt=gp.sjoin(df,l_dans_p_final.drop('index_right', axis=1), how='inner',op='intersects')"
   ]
  },
  {
   "cell_type": "code",
   "execution_count": 69,
   "metadata": {},
   "outputs": [],
   "source": [
    "#2.filtre de celle contenue dans le rd points \n",
    "l_intersct_rdpt=l_intersct_rdpt.loc[~l_intersct_rdpt.index.isin(l_dans_p_final.index.tolist())][['id_rdpt','numero_left','codevoie_d_left']]"
   ]
  },
  {
   "cell_type": "code",
   "execution_count": 70,
   "metadata": {},
   "outputs": [],
   "source": [
    "#trouver le nb de voies qui intersectent chaque rd point et leur noms. renomer les colonnes\n",
    "carac_rd_pt=(pd.concat([l_intersct_rdpt.groupby('id_rdpt').numero_left.nunique(),\n",
    "    l_intersct_rdpt.groupby('id_rdpt')['numero_left'].apply(lambda x: ','.join(set(x))),\n",
    "    l_intersct_rdpt.groupby('id_rdpt')['codevoie_d_left'].apply(lambda x: ','.join(set(x)))], axis=1))\n",
    "carac_rd_pt.columns=['nb_rte_rdpt', 'nom_rte_rdpt','codevoie_rdpt']"
   ]
  },
  {
   "cell_type": "code",
   "execution_count": null,
   "metadata": {},
   "outputs": [],
   "source": [
    "l_dans_p_final"
   ]
  },
  {
   "cell_type": "code",
   "execution_count": 297,
   "metadata": {},
   "outputs": [],
   "source": [
    "#ajouter l'id_rdpt aux données\n",
    "gdf_l_rd_point=pd.concat([df.drop('id_rdpt',axis=1),l_dans_p_final.loc[:,'id_rdpt']],axis=1, sort=False)"
   ]
  },
  {
   "cell_type": "code",
   "execution_count": 298,
   "metadata": {},
   "outputs": [],
   "source": [
    "#mettre à jour la nature\n",
    "gdf_l_rd_point['nature']=gdf_l_rd_point.apply(lambda x : 'Rd_pt' if x.id_rdpt>=0 else x['nature'], axis=1)"
   ]
  },
  {
   "cell_type": "code",
   "execution_count": 299,
   "metadata": {},
   "outputs": [],
   "source": [
    "#ajouter les infos du rd point (nb voies différentes et nom)\n",
    "gdf_avec_rd_pt=gdf_l_rd_point.merge(carac_rd_pt, how='left',left_on='id_rdpt', right_index=True)"
   ]
  },
  {
   "cell_type": "code",
   "execution_count": 320,
   "metadata": {},
   "outputs": [],
   "source": [
    "def assigne_rdpt(id_rdpt,numero, liste_num, codevoie, liste_code) : \n",
    "    if id_rdpt >=0 :\n",
    "        if (numero in liste_num) or (codevoie in liste_code) :\n",
    "            return True\n",
    "        else : \n",
    "            return False"
   ]
  },
  {
   "cell_type": "code",
   "execution_count": 321,
   "metadata": {},
   "outputs": [],
   "source": [
    "gdf_avec_rd_pt['assigne_rdpt']=gdf_avec_rd_pt.apply(lambda x : assigne_rdpt(x['id_rdpt'],x['numero'], x['nom_rte_rdpt_y'], x['codevoie_d'],x['codevoie_rdpt']),axis=1)"
   ]
  },
  {
   "cell_type": "code",
   "execution_count": null,
   "metadata": {},
   "outputs": [],
   "source": [
    "#gdf_avec_rd_pt.loc[gdf_avec_rd_pt.loc[:,'id_rdpt']==l_dans_p['id_rdpt']]\n",
    "gdf_avec_rd_pt['id_rdpt']==l_dans_p['id_rdpt'].astype('float64')\n",
    "#l_dans_p.loc[l_dans_p.loc[:,'id_rdpt']].sort_index().sort_index(axis=1)])"
   ]
  },
  {
   "cell_type": "code",
   "execution_count": null,
   "metadata": {},
   "outputs": [],
   "source": [
    "#pour export et verif uniquement\n",
    "\n",
    "#gdf_l_rd_point.to_file(r'D:\\temp\\otv\\17\\test_rd_point\\test2.shp')\n",
    "#gdf_rd_point.to_file(r'D:\\temp\\otv\\17\\test_rd_point\\test1.shp')\n",
    "#l_intersct_rdpt.to_file(r'E:\\Boulot\\otv\\test_linearisation_auto\\test3.shp')\n",
    "df.to_file(r'E:\\Boulot\\otv\\test_linearisation_auto\\test7.shp')\n",
    "#df.to_file(r'D:\\temp\\otv\\17\\test_rd_point\\test5.shp')"
   ]
  },
  {
   "cell_type": "code",
   "execution_count": 91,
   "metadata": {},
   "outputs": [
    {
     "data": {
      "text/plain": [
       "'b,c,a'"
      ]
     },
     "execution_count": 91,
     "metadata": {},
     "output_type": "execute_result"
    }
   ],
   "source": [
    "','.join(set(['a','a','b','c']))"
   ]
  },
  {
   "cell_type": "code",
   "execution_count": 228,
   "metadata": {},
   "outputs": [],
   "source": [
    "id_ign_ligne='TRONROUT0000000342862858'\n",
    "df_ligne = df.loc[id_ign_ligne]\n",
    "ligne_traite_troncon=[]\n",
    "ligne_traite_troncon.append(id_ign_ligne)\n",
    "liste_ligne_suivantes=[] \n",
    "liste_ligne_touchees=[]"
   ]
  },
  {
   "cell_type": "code",
   "execution_count": null,
   "metadata": {},
   "outputs": [],
   "source": [
    "for key, value in {'nb_intrsct_src':['source', 'src_geom'],'nb_intrsct_tgt':['target', 'tgt_geom']}.items() :\n",
    "    df_touches_source = df.loc[(~df.index.isin(ligne_traite_troncon)) & ((df['source'] == df_ligne[value[0]]) | (df['target'] == df_ligne[value[0]]))]\n",
    "    df_rd_pt=df.loc[df['id_rdpt']==df_touches_source.iloc[0]['id_rdpt']]\n",
    "    l_df_rd_pt=df.loc[df.index.isin(gp.sjoin(df,df_rd_pt, how='inner',op='intersects').index.unique().tolist())]\n",
    "    l_df_rd_pt2=l_df_rd_pt.loc[~l_df_rd_pt.index.isin(df_rd_pt.index.tolist())].index.unique().tolist()\n",
    "    l_df_rd_pt3=df.loc[df.index.isin(l_df_rd_pt2),'codevoie_d'].unique().tolist()\n",
    "    print(l_df_rd_pt3)\n",
    "    #liste_ligne_touchees+=df_touches_source.index.tolist()"
   ]
  },
  {
   "cell_type": "code",
   "execution_count": 233,
   "metadata": {},
   "outputs": [
    {
     "data": {
      "text/plain": [
       "[nan]"
      ]
     },
     "execution_count": 233,
     "metadata": {},
     "output_type": "execute_result"
    }
   ],
   "source": [
    "df_touches_source['id_rdpt'].values.tolist()"
   ]
  },
  {
   "cell_type": "markdown",
   "metadata": {},
   "source": [
    "# TEST"
   ]
  },
  {
   "cell_type": "code",
   "execution_count": 138,
   "metadata": {},
   "outputs": [
    {
     "ename": "AttributeError",
     "evalue": "module 'numpy' has no attribute 'aray'",
     "output_type": "error",
     "traceback": [
      "\u001b[1;31m---------------------------------------------------------------------------\u001b[0m",
      "\u001b[1;31mAttributeError\u001b[0m                            Traceback (most recent call last)",
      "\u001b[1;32m<timed exec>\u001b[0m in \u001b[0;36m<module>\u001b[1;34m\u001b[0m\n",
      "\u001b[1;31mAttributeError\u001b[0m: module 'numpy' has no attribute 'aray'"
     ]
    }
   ],
   "source": [
    "%%time\n",
    "a=np.array([i for i in range(100000)])\n",
    "c=[]\n",
    "for i,b in enumerate(a) :\n",
    "    if b not in a :\n",
    "        continue\n",
    "    c=[b,b+1]\n",
    "    a=a[np.isin(a,c, invert=True)]\n",
    "    if i%50000==0 : print(i)"
   ]
  },
  {
   "cell_type": "code",
   "execution_count": 137,
   "metadata": {},
   "outputs": [
    {
     "name": "stdout",
     "output_type": "stream",
     "text": [
      "0\n",
      "50000\n",
      "Wall time: 5min 14s\n"
     ]
    }
   ],
   "source": [
    "%%time\n",
    "a=[i for i in range(100000)]\n",
    "c=[]\n",
    "for i,b in enumerate(a) :\n",
    "    if b not in a :\n",
    "        continue\n",
    "    c=[b,b+1]\n",
    "    a=[x for x in a if x not in c]\n",
    "    if i%50000==0 : print(i)"
   ]
  },
  {
   "cell_type": "code",
   "execution_count": null,
   "metadata": {},
   "outputs": [],
   "source": []
  }
 ],
 "metadata": {
  "kernelspec": {
   "display_name": "Python 3",
   "language": "python",
   "name": "python3"
  },
  "language_info": {
   "codemirror_mode": {
    "name": "ipython",
    "version": 3
   },
   "file_extension": ".py",
   "mimetype": "text/x-python",
   "name": "python",
   "nbconvert_exporter": "python",
   "pygments_lexer": "ipython3",
   "version": "3.7.0"
  }
 },
 "nbformat": 4,
 "nbformat_minor": 4
}
