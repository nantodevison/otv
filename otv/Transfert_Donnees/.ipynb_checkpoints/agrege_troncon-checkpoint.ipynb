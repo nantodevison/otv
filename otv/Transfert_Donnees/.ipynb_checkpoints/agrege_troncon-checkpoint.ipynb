{
 "cells": [
  {
   "cell_type": "code",
   "execution_count": 215,
   "metadata": {},
   "outputs": [
    {
     "name": "stdout",
     "output_type": "stream",
     "text": [
      "The autoreload extension is already loaded. To reload it, use:\n",
      "  %reload_ext autoreload\n"
     ]
    }
   ],
   "source": [
    "%load_ext autoreload\n",
    "%autoreload 2\n",
    "import sys #c'est pas propre mais pour le moment pour importer mes modules perso dans le notebook je ne sais pas faire\n",
    "sys.path.append(r'C:\\Users\\martin.schoreisz\\git\\Outils\\Outils\\Martin_Perso')\n",
    "sys.path.append(r'C:\\Users\\martin.schoreisz\\git\\otv\\otv\\Transfert_Donnees')\n",
    "import agrege_troncon as at\n",
    "import Connexion_Transfert as ct\n",
    "import matplotlib, os, fiona\n",
    "import geopandas as gp\n",
    "import pandas as pd\n",
    "import numpy as np\n",
    "from datetime import datetime\n",
    "import Connexion_Transfert as ct\n",
    "from shapely.wkt import loads\n",
    "from shapely.ops import nearest_points, polygonize\n",
    "import Outils"
   ]
  },
  {
   "cell_type": "code",
   "execution_count": 4,
   "metadata": {},
   "outputs": [],
   "source": [
    "#importer les odnnées de  base\n",
    "with ct.ConnexionBdd('local_otv') as c : \n",
    "    df = gp.read_postgis(\"select t.*, v1.cnt nb_intrsct_src, st_astext(v1.the_geom) as src_geom, v2.cnt as nb_intrsct_tgt, st_astext(v2.the_geom) as tgt_geom from public.test_agreg_lineaire t left join public.test_agreg_lineaire_vertices_pgr v1 on t.\\\"source\\\"=v1.id left join public.test_agreg_lineaire_vertices_pgr v2  on t.target=v2.id\", c.connexionPsy)\n",
    "nature_2_chaussees=['Route à 2 chaussées','Quasi-autoroute','Autoroute']\n",
    "#donnees generale du jdd\n",
    "df.set_index('id_ign', inplace=True)  # passer l'id_ign commme index ; necessaire sinon pb avec geometrie vu comme texte\n",
    "df2_chaussees=df.loc[df.loc[:,'nature'].isin(nature_2_chaussees)] #isoler les troncon de voies decrits par 2 lignes"
   ]
  },
  {
   "cell_type": "code",
   "execution_count": 36,
   "metadata": {},
   "outputs": [],
   "source": [
    "toto=list(at.recup_troncon_elementaire('TRONROUT0000000202559722'))"
   ]
  },
  {
   "cell_type": "code",
   "execution_count": 37,
   "metadata": {},
   "outputs": [],
   "source": [
    "toto.append('TRONROUT0000000032962813')"
   ]
  },
  {
   "cell_type": "code",
   "execution_count": 38,
   "metadata": {},
   "outputs": [
    {
     "data": {
      "text/plain": [
       "['TRONROUT0000000032972684',\n",
       " 'TRONROUT0000000032972691',\n",
       " 'TRONROUT0000000202559733',\n",
       " 'TRONROUT0000000202559755',\n",
       " 'TRONROUT0000000202559754',\n",
       " 'TRONROUT0000000331444318',\n",
       " 'TRONROUT0000000331444317',\n",
       " 'TRONROUT0000000032962813']"
      ]
     },
     "execution_count": 38,
     "metadata": {},
     "output_type": "execute_result"
    }
   ],
   "source": [
    "toto"
   ]
  },
  {
   "cell_type": "code",
   "execution_count": 8,
   "metadata": {},
   "outputs": [
    {
     "name": "stderr",
     "output_type": "stream",
     "text": [
      "C:\\Users\\martin.schoreisz\\git\\otv\\otv\\Transfert_Donnees\\agrege_troncon.py:184: SettingWithCopyWarning: \n",
      "A value is trying to be set on a copy of a slice from a DataFrame.\n",
      "Try using .loc[row_indexer,col_indexer] = value instead\n",
      "\n",
      "See the caveats in the documentation: http://pandas.pydata.org/pandas-docs/stable/indexing.html#indexing-view-versus-copy\n",
      "  ligne_filtres['distance']=ligne_filtres.geom.apply(lambda x : gdf_lignes2.centroid.distance(x))\n"
     ]
    },
    {
     "data": {
      "text/plain": [
       "'TRONROUT0000000202559739'"
      ]
     },
     "execution_count": 8,
     "metadata": {},
     "output_type": "execute_result"
    }
   ],
   "source": [
    "at.recup_troncon_parallele_v2(df,toto)"
   ]
  },
  {
   "cell_type": "code",
   "execution_count": null,
   "metadata": {},
   "outputs": [],
   "source": [
    "tata=at.affecter_troncon(df)"
   ]
  },
  {
   "cell_type": "code",
   "execution_count": 260,
   "metadata": {},
   "outputs": [
    {
     "name": "stdout",
     "output_type": "stream",
     "text": [
      "0eme occurence : TRONROUT0000000113489745 à 16:02:22 nb ligne traite : 0, nb ligne differente=0\n",
      "erreur index a ligne ligne : TRONROUT0000000032861175\n",
      "erreur index a ligne ligne : TRONROUT0000000249470891\n",
      "erreur index a ligne ligne : TRONROUT0000000039536305\n",
      "erreur index a ligne ligne : TRONROUT0000000084123085\n",
      "erreur index a ligne ligne : TRONROUT0000000084123088\n",
      "erreur index a ligne ligne : TRONROUT0000000098462803\n",
      "300eme occurence : TRONROUT0000000115741197 à 16:02:37 nb ligne traite : 2548, nb ligne differente=2548\n",
      "erreur index a ligne ligne : TRONROUT0000000121811702\n",
      "600eme occurence : TRONROUT0000000129676638 à 16:02:47 nb ligne traite : 2830, nb ligne differente=2830\n",
      "erreur index a ligne ligne : TRONROUT0000000129757084\n",
      "erreur index a ligne ligne : TRONROUT0000000032867128\n",
      "900eme occurence : TRONROUT0000000130923232 à 16:02:54 nb ligne traite : 3309, nb ligne differente=3309\n",
      "erreur index a ligne ligne : TRONROUT0000000201895324\n",
      "erreur index a ligne ligne : TRONROUT0000000255628546\n",
      "1200eme occurence : TRONROUT0000000032831831 à 16:03:02 nb ligne traite : 3800, nb ligne differente=3800\n",
      "erreur index a ligne ligne : TRONROUT0000000032843560\n",
      "1500eme occurence : TRONROUT0000000032996452 à 16:03:07 nb ligne traite : 4418, nb ligne differente=4418\n",
      "erreur index a ligne ligne : TRONROUT0000000254022372\n",
      "erreur index a ligne ligne : TRONROUT0000000318145723\n",
      "1800eme occurence : TRONROUT0000000032841131 à 16:03:10 nb ligne traite : 4889, nb ligne differente=4889\n",
      "erreur index a ligne ligne : TRONROUT0000000032943630\n",
      "2100eme occurence : TRONROUT0000000032966027 à 16:03:15 nb ligne traite : 5133, nb ligne differente=5133\n",
      "erreur index a ligne ligne : TRONROUT0000000032966070\n",
      "erreur index a ligne ligne : TRONROUT0000000032966133\n",
      "2400eme occurence : TRONROUT0000000033005430 à 16:03:20 nb ligne traite : 5379, nb ligne differente=5379\n",
      "2700eme occurence : TRONROUT0000000113489802 à 16:03:21 nb ligne traite : 5428, nb ligne differente=5428\n",
      "3000eme occurence : TRONROUT0000000033001589 à 16:03:23 nb ligne traite : 5446, nb ligne differente=5446\n",
      "3300eme occurence : TRONROUT0000000032865805 à 16:03:26 nb ligne traite : 5465, nb ligne differente=5465\n",
      "3600eme occurence : TRONROUT0000000032989855 à 16:03:27 nb ligne traite : 5486, nb ligne differente=5486\n",
      "erreur index a ligne ligne : TRONROUT0000000129676272\n",
      "3900eme occurence : TRONROUT0000000323696879 à 16:03:29 nb ligne traite : 5530, nb ligne differente=5530\n",
      "4200eme occurence : TRONROUT0000000032841719 à 16:03:32 nb ligne traite : 5603, nb ligne differente=5603\n",
      "erreur index a ligne ligne : TRONROUT0000000032843563\n",
      "erreur index a ligne ligne : TRONROUT0000000032843573\n",
      "4500eme occurence : TRONROUT0000000318450358 à 16:03:33 nb ligne traite : 5643, nb ligne differente=5643\n",
      "4800eme occurence : TRONROUT0000000032834796 à 16:03:33 nb ligne traite : 5667, nb ligne differente=5667\n",
      "5100eme occurence : TRONROUT0000000032954016 à 16:03:35 nb ligne traite : 5696, nb ligne differente=5696\n",
      "5400eme occurence : TRONROUT0000000032968383 à 16:03:37 nb ligne traite : 5740, nb ligne differente=5740\n",
      "erreur index a ligne ligne : TRONROUT0000000032970396\n",
      "5700eme occurence : TRONROUT0000000032978043 à 16:03:39 nb ligne traite : 5770, nb ligne differente=5770\n"
     ]
    }
   ],
   "source": [
    "df_rd_pt=at.identifier_rd_pt(df)\n",
    "dico=at.affecter_troncon(df)\n",
    "with ct.ConnexionBdd('local_otv') as c :\n",
    "    at.inserer_dico(c, dico)"
   ]
  },
  {
   "cell_type": "markdown",
   "metadata": {},
   "source": [
    "POUR TRAITEMENT DES VOIES A 2 CHAUSSES : TROUVER PARRALLELE"
   ]
  },
  {
   "cell_type": "code",
   "execution_count": 172,
   "metadata": {},
   "outputs": [],
   "source": [
    "#liste des troncons (parametre entrant)\n",
    "liste_troncon=toto"
   ]
  },
  {
   "cell_type": "code",
   "execution_count": null,
   "metadata": {},
   "outputs": [],
   "source": [
    "#conversion en geodf\n",
    "gdf_lignes=gp.GeoDataFrame(df.loc[liste_troncon], geometry='geom')"
   ]
  },
  {
   "cell_type": "code",
   "execution_count": 174,
   "metadata": {},
   "outputs": [],
   "source": [
    "#union des geometries\n",
    "gdf_lignes2=gdf_lignes.unary_union"
   ]
  },
  {
   "cell_type": "code",
   "execution_count": 176,
   "metadata": {},
   "outputs": [],
   "source": [
    "#centroid de la ligne\n",
    "xmin,ymin,xmax,ymax=gdf_lignes2.interpolate(0.5, normalized=True).buffer(50).bounds"
   ]
  },
  {
   "cell_type": "code",
   "execution_count": 177,
   "metadata": {},
   "outputs": [],
   "source": [
    "#donnees de base\n",
    "gdf_global=gp.GeoDataFrame(df, geometry='geom')"
   ]
  },
  {
   "cell_type": "code",
   "execution_count": 178,
   "metadata": {},
   "outputs": [],
   "source": [
    "#recherche des lignes proches du centroid\n",
    "lignes_possibles=gdf_global.cx[xmin:xmax,ymin:ymax]"
   ]
  },
  {
   "cell_type": "code",
   "execution_count": null,
   "metadata": {},
   "outputs": [],
   "source": [
    "lignes_possibles"
   ]
  },
  {
   "cell_type": "code",
   "execution_count": 180,
   "metadata": {},
   "outputs": [],
   "source": [
    "#uniquement les lignes non présentes dans la liste de troncons avec le même nom de voie\n",
    "ligne_filtres=lignes_possibles.loc[(~lignes_possibles.index.isin(liste_troncon)) & (lignes_possibles['numero']==gdf_lignes.iloc[0]['numero'])]"
   ]
  },
  {
   "cell_type": "code",
   "execution_count": null,
   "metadata": {},
   "outputs": [],
   "source": [
    "#obtenir les distances au centroid\n",
    "ligne_filtres['distance']=ligne_filtres.geom.apply(lambda x : gdf_lignes2.centroid.distance(x))"
   ]
  },
  {
   "cell_type": "code",
   "execution_count": 182,
   "metadata": {},
   "outputs": [
    {
     "data": {
      "text/plain": [
       "'TRONROUT0000000202559739'"
      ]
     },
     "execution_count": 182,
     "metadata": {},
     "output_type": "execute_result"
    }
   ],
   "source": [
    "#garder uniquement la valeur la plus proche du centroid\n",
    "ligne_filtres.loc[ligne_filtres['distance']==ligne_filtres['distance'].min()].index[0]"
   ]
  },
  {
   "cell_type": "markdown",
   "metadata": {},
   "source": [
    "POUR TRAITEMENT DES ROND POINTS"
   ]
  },
  {
   "cell_type": "code",
   "execution_count": 256,
   "metadata": {},
   "outputs": [],
   "source": [
    "#polygoniser les lignes\n",
    "#creer la gdf\n",
    "df.crs={'init':'epsg:2154'}"
   ]
  },
  {
   "cell_type": "code",
   "execution_count": 258,
   "metadata": {},
   "outputs": [],
   "source": [
    "#creer la lsite des rd points selon le critere atmo aura ; creer une gdf avec la liste\n",
    "liste_rd_points=[t.buffer(0.1) for t in polygonize(df.geometry) if 12<=((t.length**2)/t.area)<=13] \n",
    "gdf_rd_point=gp.GeoDataFrame([i for i in range(len(liste_rd_points))], geometry=liste_rd_points)\n",
    "gdf_rd_point.crs={'init':'epsg:2154'}\n",
    "gdf_rd_point.columns=['id_rdpt', 'geometry']    "
   ]
  },
  {
   "cell_type": "code",
   "execution_count": 267,
   "metadata": {},
   "outputs": [
    {
     "ename": "TypeError",
     "evalue": "bad operand type for unary ~: 'float'",
     "output_type": "error",
     "traceback": [
      "\u001b[1;31m---------------------------------------------------------------------------\u001b[0m",
      "\u001b[1;31mTypeError\u001b[0m                                 Traceback (most recent call last)",
      "\u001b[1;32m<ipython-input-267-e0791ff7e8be>\u001b[0m in \u001b[0;36m<module>\u001b[1;34m\u001b[0m\n\u001b[0;32m      1\u001b[0m \u001b[1;31m#jointure spataile pour une gdf avec uniquement les rd_points en lignes avec le numéro\u001b[0m\u001b[1;33m\u001b[0m\u001b[1;33m\u001b[0m\u001b[0m\n\u001b[0;32m      2\u001b[0m \u001b[0ml_dans_p\u001b[0m\u001b[1;33m=\u001b[0m\u001b[0mgp\u001b[0m\u001b[1;33m.\u001b[0m\u001b[0msjoin\u001b[0m\u001b[1;33m(\u001b[0m\u001b[0mgdf_lignes\u001b[0m\u001b[1;33m,\u001b[0m\u001b[0mgdf_rd_point\u001b[0m\u001b[1;33m,\u001b[0m\u001b[0mop\u001b[0m\u001b[1;33m=\u001b[0m\u001b[1;34m'within'\u001b[0m\u001b[1;33m)\u001b[0m\u001b[1;33m\u001b[0m\u001b[0m\n\u001b[1;32m----> 3\u001b[1;33m \u001b[0ml_touche_p\u001b[0m\u001b[1;33m=\u001b[0m\u001b[0mgp\u001b[0m\u001b[1;33m.\u001b[0m\u001b[0msjoin\u001b[0m\u001b[1;33m(\u001b[0m\u001b[0mgdf_lignes\u001b[0m\u001b[1;33m,\u001b[0m\u001b[0mgdf_rd_point\u001b[0m\u001b[1;33m,\u001b[0m\u001b[0mop\u001b[0m\u001b[1;33m=\u001b[0m\u001b[1;34m'intersects'\u001b[0m\u001b[1;33m)\u001b[0m \u001b[1;33m&\u001b[0m \u001b[1;33m(\u001b[0m\u001b[1;33m~\u001b[0m\u001b[0mgp\u001b[0m\u001b[1;33m.\u001b[0m\u001b[0msjoin\u001b[0m\u001b[1;33m(\u001b[0m\u001b[0mgdf_lignes\u001b[0m\u001b[1;33m,\u001b[0m\u001b[0mgdf_rd_point\u001b[0m\u001b[1;33m,\u001b[0m\u001b[0mop\u001b[0m\u001b[1;33m=\u001b[0m\u001b[1;34m'within'\u001b[0m\u001b[1;33m)\u001b[0m\u001b[1;33m)\u001b[0m\u001b[1;33m\u001b[0m\u001b[0m\n\u001b[0m",
      "\u001b[1;32mc:\\users\\martin.schoreisz\\appdata\\local\\programs\\python\\python37\\lib\\site-packages\\pandas\\core\\generic.py\u001b[0m in \u001b[0;36m__invert__\u001b[1;34m(self)\u001b[0m\n\u001b[0;32m   1141\u001b[0m     \u001b[1;32mdef\u001b[0m \u001b[0m__invert__\u001b[0m\u001b[1;33m(\u001b[0m\u001b[0mself\u001b[0m\u001b[1;33m)\u001b[0m\u001b[1;33m:\u001b[0m\u001b[1;33m\u001b[0m\u001b[0m\n\u001b[0;32m   1142\u001b[0m         \u001b[1;32mtry\u001b[0m\u001b[1;33m:\u001b[0m\u001b[1;33m\u001b[0m\u001b[0m\n\u001b[1;32m-> 1143\u001b[1;33m             \u001b[0marr\u001b[0m \u001b[1;33m=\u001b[0m \u001b[0moperator\u001b[0m\u001b[1;33m.\u001b[0m\u001b[0minv\u001b[0m\u001b[1;33m(\u001b[0m\u001b[0mcom\u001b[0m\u001b[1;33m.\u001b[0m\u001b[0m_values_from_object\u001b[0m\u001b[1;33m(\u001b[0m\u001b[0mself\u001b[0m\u001b[1;33m)\u001b[0m\u001b[1;33m)\u001b[0m\u001b[1;33m\u001b[0m\u001b[0m\n\u001b[0m\u001b[0;32m   1144\u001b[0m             \u001b[1;32mreturn\u001b[0m \u001b[0mself\u001b[0m\u001b[1;33m.\u001b[0m\u001b[0m__array_wrap__\u001b[0m\u001b[1;33m(\u001b[0m\u001b[0marr\u001b[0m\u001b[1;33m)\u001b[0m\u001b[1;33m\u001b[0m\u001b[0m\n\u001b[0;32m   1145\u001b[0m         \u001b[1;32mexcept\u001b[0m \u001b[0mException\u001b[0m\u001b[1;33m:\u001b[0m\u001b[1;33m\u001b[0m\u001b[0m\n",
      "\u001b[1;31mTypeError\u001b[0m: bad operand type for unary ~: 'float'"
     ]
    }
   ],
   "source": [
    "#jointure spataile pour une gdf avec uniquement les rd_points en lignes avec le numéro\n",
    "l_dans_p=gp.sjoin(gdf_lignes,gdf_rd_point,op='within')"
   ]
  },
  {
   "cell_type": "code",
   "execution_count": 288,
   "metadata": {},
   "outputs": [],
   "source": [
    "#lignes qui touchent rd points\n",
    "#1.ligne qui intersectent avec id_rdpt\n",
    "l_intersct_rdpt=gp.sjoin(df,l_dans_p.drop('index_right', axis=1), how='inner',op='intersects')\n",
    "#2.filtre de celle contenue dans le rd points \n",
    "l_intersct_rdpt=l_intersct_rdpt.loc[~l_intersct_rdpt.index.isin(l_dans_p.index.tolist())][['id_rdpt','numero_left']]"
   ]
  },
  {
   "cell_type": "code",
   "execution_count": 321,
   "metadata": {},
   "outputs": [],
   "source": [
    "#trouver le nb de voies qui intersectent chaque rd point et leur noms. renomer les colonnes\n",
    "carac_rd_pt=(pd.concat([l_intersct_rdpt.groupby('id_rdpt').numero_left.nunique(),\n",
    "    l_intersct_rdpt.groupby('id_rdpt')['numero_left'].apply(lambda x: ','.join(set(x)))], axis=1))\n",
    "carac_rd_pt.columns=['nb_rte_rdpt', 'nom_rte_rdpt']"
   ]
  },
  {
   "cell_type": "code",
   "execution_count": 250,
   "metadata": {},
   "outputs": [],
   "source": [
    "#ajouter l'id_rdpt aux données\n",
    "gdf_l_rd_point=pd.concat([gdf_lignes,l_dans_p.loc[:,'id_rdpt']],axis=1, sort=False)"
   ]
  },
  {
   "cell_type": "code",
   "execution_count": 253,
   "metadata": {},
   "outputs": [],
   "source": [
    "#mettre à jour la nature\n",
    "gdf_l_rd_point['nature']=gdf_l_rd_point.apply(lambda x : 'Rd_pt' if x.id_rdpt>=0 else x['nature'], axis=1)"
   ]
  },
  {
   "cell_type": "code",
   "execution_count": 322,
   "metadata": {},
   "outputs": [],
   "source": [
    "#ajouter les infos du rd point (nb voies différentes et nom)\n",
    "gdf_avec_rd_pt=gdf_l_rd_point.merge(carac_rd_pt, how='left',left_on='id_rdpt', right_index=True)"
   ]
  },
  {
   "cell_type": "code",
   "execution_count": 323,
   "metadata": {},
   "outputs": [],
   "source": [
    "#pour export et verif uniquement\n",
    "#gdf_l_rd_point.to_file(r'D:\\temp\\otv\\17\\test_rd_point\\test2.shp')\n",
    "#gdf_rd_point.to_file(r'D:\\temp\\otv\\17\\test_rd_point\\test1.shp')\n",
    "#l_intersct_rdpt.to_file(r'D:\\temp\\otv\\17\\test_rd_point\\test3.shp')\n",
    "gdf_avec_rd_pt.to_file(r'D:\\temp\\otv\\17\\test_rd_point\\test4.shp')"
   ]
  },
  {
   "cell_type": "code",
   "execution_count": 320,
   "metadata": {},
   "outputs": [
    {
     "data": {
      "text/plain": [
       "'a,c,b'"
      ]
     },
     "execution_count": 320,
     "metadata": {},
     "output_type": "execute_result"
    }
   ],
   "source": [
    "','.join(set(['a','a','b','c']))"
   ]
  },
  {
   "cell_type": "code",
   "execution_count": null,
   "metadata": {},
   "outputs": [],
   "source": []
  }
 ],
 "metadata": {
  "kernelspec": {
   "display_name": "Python 3",
   "language": "python",
   "name": "python3"
  },
  "language_info": {
   "codemirror_mode": {
    "name": "ipython",
    "version": 3
   },
   "file_extension": ".py",
   "mimetype": "text/x-python",
   "name": "python",
   "nbconvert_exporter": "python",
   "pygments_lexer": "ipython3",
   "version": "3.7.0"
  }
 },
 "nbformat": 4,
 "nbformat_minor": 2
}
