{
 "cells": [
  {
   "cell_type": "markdown",
   "metadata": {},
   "source": [
    "# ***IMPORT DES DONNEES DE COMPTAGES***\n",
    "> il y a un exemple de verification si doublons de point dans le 17, 47, 87"
   ]
  },
  {
   "cell_type": "code",
   "execution_count": null,
   "metadata": {},
   "outputs": [],
   "source": [
    "%load_ext autoreload\n",
    "%autoreload 2\n",
    "import sys\n",
    "sys.path.append(r'C:\\Users\\martin.schoreisz\\git\\otv\\otv\\Transfert_Donnees')\n",
    "sys.path.append(r'C:\\Users\\martin.schoreisz\\git\\Outils\\Outils\\Martin_Perso')\n",
    "import pandas as pd\n",
    "import geopandas as gp\n",
    "import numpy as np\n",
    "import csv, re, os, statistics, filecmp, unidecode\n",
    "import Connexion_Transfert as ct\n",
    "import Import_trafics as it\n",
    "import Outils\n",
    "from Decorateurs import concat_df\n",
    "from collections import Counter\n",
    "from shapely.geometry import Point,LineString, MultiLineString\n",
    "from shapely.ops import transform\n",
    "from geoalchemy2 import Geometry, WKTElement\n",
    "from Base_BdTopo import Import_outils as io\n",
    "\n",
    "from Base_BdTopo import Rond_points as rp\n",
    "from Base_BdTopo import Regroupement_correspondance as rc\n",
    "from sqlalchemy.schema import MetaData\n",
    "from sqlalchemy import inspect\n",
    "from statistics import mean\n",
    "from itertools import combinations\n",
    "\n",
    "from sklearn.cluster import DBSCAN\n",
    "import pyproj\n",
    "from shapely.ops import transform\n",
    "\n",
    "pd.set_option('display.max_columns', 100)\n",
    "pd.set_option('display.max_colwidth', 50)"
   ]
  },
  {
   "cell_type": "markdown",
   "metadata": {},
   "source": [
    "# ***CD 23***\n",
    "- Année 2018 : \n",
    "> à partir du fichier __Q:\\DAIT\\TI\\DREAL33\\2019\\C19SA0035_OTR-NA\\Doc_travail\\Donnees_source\\CD23\\2018_CD23_trafics.xls__<br>***attention : pour le point de comptage D941 6+152 à Aubusson, le pR est 32 et non 6. il faut donc corriger à la main le fihcier excel***\n",
    "<br> Pour le moment tous les points sont déjà dans  la base, dc pas de traitement de type insert prévus."
   ]
  },
  {
   "cell_type": "code",
   "execution_count": null,
   "metadata": {},
   "outputs": [],
   "source": [
    "# ouvrir le classeur\n",
    "df_excel=pd.read_excel(r'Q:\\DAIT\\TI\\DREAL33\\2019\\C19SA0035_OTR-NA\\Doc_travail\\Donnees_source\\CD23\\2018_CD23_trafics.xls',skiprows=11)\n",
    "# renomer les champs\n",
    "df_excel_rennome=df_excel.rename(columns={'1er trimestre  du 01 janvier au 31 mars':'trim1_TV', 'Unnamed: 9':'trim1_pcpl',\n",
    "                         '2ème trimestre du 01 avril au 30 juin':'trim2_TV', 'Unnamed: 11':'trim2_pcpl',\n",
    "                         '3ème trimestre du 01 juillet au 30 septembre':'trim3_TV', 'Unnamed: 13':'trim3_pcpl',\n",
    "                         '4ème trimestre du 01 octobre au 31 décembre':'trim4_TV', 'Unnamed: 15':'trim4_pcpl',\n",
    "                         'Unnamed: 17':'pc_pl', 'TMJA 2018':'tmja'})\n",
    "#supprimer la 1ere ligne\n",
    "df_excel_filtre=df_excel_rennome.loc[1:,:].copy()\n",
    "#mise en forme attribut\n",
    "df_excel_filtre['Route']=df_excel_filtre.apply(lambda x : str(x['Route']).upper(), axis=1)\n",
    "annee_cpt='2018'\n",
    "#attribut id_comptag\n",
    "for i in ['DEP','PR','ABS'] : \n",
    "    df_excel_filtre[i]=df_excel_filtre.apply(lambda x : str(int(x[i])),axis=1)\n",
    "df_excel_filtre['id_comptag']=df_excel_filtre.apply(lambda x : '-'.join([x['DEP'],'D'+str(x['Route']),\n",
    "                                                                         x['PR']+'+'+x['ABS']]),axis=1)\n",
    "#donnees_mensuelles\n",
    "list_id_comptag=[val for val in df_excel_filtre.id_comptag.tolist() for _ in (0, 1)]\n",
    "donnees_type=['tmja','pc_pl']*len(df_excel_filtre.id_comptag.tolist())\n",
    "annee_df=['2018']*2*len(df_excel_filtre.id_comptag.tolist())\n",
    "janv, fev, mars,avril,mai,juin,juil,aout,sept,octo,nov,dec=[],[],[],[],[],[],[],[],[],[],[],[]\n",
    "for i in range(len(df_excel_filtre.id_comptag.tolist())) :\n",
    "    for j in (janv, fev, mars) :\n",
    "        j.extend([df_excel_filtre.trim1_TV.tolist()[i],df_excel_filtre.trim1_pcpl.tolist()[i]])\n",
    "    for k in (avril,mai,juin) :\n",
    "        k.extend([df_excel_filtre.trim2_TV.tolist()[i],df_excel_filtre.trim2_pcpl.tolist()[i]])\n",
    "    for l in (juil,aout,sept) :\n",
    "        l.extend([df_excel_filtre.trim3_TV.tolist()[i],df_excel_filtre.trim3_pcpl.tolist()[i]])\n",
    "    for m in (octo,nov,dec) :\n",
    "        m.extend([df_excel_filtre.trim4_TV.tolist()[i],df_excel_filtre.trim4_pcpl.tolist()[i]])\n",
    "donnees_mens=pd.DataFrame({'id_comptag':list_id_comptag,'donnees_type':donnees_type,'annee':annee_df,'janv':janv,'fevr':fev,'mars':mars,'avri':avril,\n",
    "              'mai':mai,'juin':juin,'juil':juil,'aout':aout,'sept':sept,'octo':octo,'nove':nov,'dece':dec})"
   ]
  },
  {
   "cell_type": "code",
   "execution_count": null,
   "metadata": {},
   "outputs": [],
   "source": [
    "#Mise à jour bdd\n",
    "with ct.ConnexionBdd('gti_otv') as c :\n",
    "    c.curs.execute(\"select distinct id_comptag from comptage.na_2010_2018_p where dep='23' order by id_comptag\")\n",
    "    listerecord=[record[0] for record in c.curs]\n",
    "    for id_comptag,tmja, pc_pl  in zip(df_excel_filtre.id_comptag.tolist(), df_excel_filtre.tmja.tolist(),df_excel_filtre.pc_pl.tolist()) : \n",
    "        if id_comptag in listerecord :\n",
    "            c.curs.execute(\"update comptage.na_2010_2018_p set tmja_2018=%s, pc_pl_2018=%s, ann_cpt=%s where id_comptag=%s\",(tmja, pc_pl,annee_cpt,id_comptag))\n",
    "        else : \n",
    "            print (f'{id_comptag} nouveau, à traiter')\n",
    "    print('fini')\n",
    "    c.connexionPsy.commit()\n",
    "    donnees_mens.to_sql('na_2010_2018_mensuel', c.sqlAlchemyConn,schema='comptage',if_exists='append',index=False)"
   ]
  },
  {
   "cell_type": "markdown",
   "metadata": {},
   "source": [
    "# ***CD 40***\n",
    "> 2019 : creation de la classe Comtage_cd40"
   ]
  },
  {
   "cell_type": "code",
   "execution_count": null,
   "metadata": {},
   "outputs": [],
   "source": [
    "#initialiser\n",
    "cd40=it.Comptage_cd40(r'D:\\temp\\otv\\2019\\Donnees_source\\CD40\\Observatoire des trafics')\n",
    "#mettre enf orme\n",
    "cd40.comptage_forme()\n",
    "cd40.classer_comptage_insert_update('local_otv_station_gti', 'na_2010_2019_p', 'comptage')\n",
    "#transfert donnees_agregees\n",
    "cd40.update_bdd_40('local_otv_station_gti', 'comptage', 'na_2010_2019_p')\n",
    "#donnees_mensuelles\n",
    "#cd40.insert_bdd('local_otv_station_gti', 'comptage', 'na_2010_2019_mensuel',cd40.df_attr_mens)"
   ]
  },
  {
   "cell_type": "markdown",
   "metadata": {},
   "source": [
    "# ***CD17***"
   ]
  },
  {
   "cell_type": "markdown",
   "metadata": {},
   "source": [
    "> ### Année 2015 : traitée dans le fichier Import_trafics.py"
   ]
  },
  {
   "cell_type": "markdown",
   "metadata": {},
   "source": [
    "> ### année 2016 données issue des borchures de comptage, uniquemnet pour ponctuels"
   ]
  },
  {
   "cell_type": "code",
   "execution_count": null,
   "metadata": {},
   "outputs": [],
   "source": [
    "#ouverture du fichier\n",
    "cpt17=it.Comptage_cd17(r'Q:\\DAIT\\TI\\DREAL33\\2019\\C19SA0035_OTR-NA\\Doc_travail\\Donnees_produites\\donnnees_travail\\Comptage\\17\\cpt_pctuel_but_2016.txt',\n",
    "                       'brochure',2016)\n",
    "\n",
    "#mettre à jour les id_comptage deja presents (attention, update Bdd à changé, il faut passer par creer_valeur_txt_update avant et certains paramètres ont changé)\n",
    "cpt17.mises_forme_bdd('gti_otv', 'comptage', 'na_2010_2017_p', '17','ponctuel') #creer les attributs selon les donnees presentes dans la base\n",
    "cpt17.update_bdd('gti_otv', 'comptage', 'na_2010_2017_p')#mise à jour\n",
    "\n",
    "#creer referentiel si besoin\n",
    "with ct.ConnexionBdd('gti_otv') as c:\n",
    "    ct.ogr2ogr_shp2pg(c.connstringOgr, r'Y:\\REF_GEO\\BD_Topo\\D17\\ED16\\SHP\\1_DONNEES_LIVRAISON\\N_TRONCON_ROUTE_BDT_017.SHP',\n",
    "                     schema='referentiel',table='troncon_route_bdt17_ed16_l',geotype='MULTILINESTRING', dims=2, encodageClient='LATIN1' )\n",
    "#creer graph\n",
    "rqt=\"\"\"\n",
    "alter table referentiel.troncon_route_bdt17_ed16_l add column source integer , add column target integer ;\n",
    "select pgr_createTopology ('referentiel.troncon_route_bdt17_ed16_l',1,'geom', 'ogc_fid') ;\n",
    "ALTER TABLE referentiel.troncon_route_bdt17_ed16_l  RENAME COLUMN id TO id_ign;\n",
    "ALTER TABLE referentiel.troncon_route_bdt17_ed16_l  RENAME COLUMN ogc_fid TO id;\n",
    "alter table referentiel.troncon_route_bdt17_ed16_l add column long_km numeric ;\n",
    "update referentiel.troncon_route_bdt17_ed16_l set long_km=(st_length(geom)/1000) ;\n",
    "\"\"\" #attention, il manque la ligne au dessus pour créer l'analyseGraph qui va renvoyer le nb de count\n",
    "with ct.ConnexionBdd('gti_otv') as c:\n",
    "    c.sqlAlchemyConn.execute(rqt)\n",
    "\n",
    "#inserer les nouveaux comptages\n",
    "with ct.ConnexionBdd('gti_otv') as c:\n",
    "    cpt17.df_attr_insert.to_sql('na_2010_2017_p',c.sqlAlchemyConn,schema='comptage',if_exists='append', index=False )\n",
    "\n",
    "#mettre à jour la geom \n",
    "rqt=\"\"\" update comptage.na_2010_2017_p\n",
    "  set geom=(select geom_out  from comptage.geoloc_pt_comptag(id_comptag))\n",
    "  where dep='17' and geom is null\n",
    "\"\"\"\n",
    "with ct.ConnexionBdd('gti_otv') as c:\n",
    "    c.sqlAlchemyConn.execute(rqt)"
   ]
  },
  {
   "cell_type": "markdown",
   "metadata": {},
   "source": [
    "> ### fichier compteurs permanents format csv annee 2017 ou 2018"
   ]
  },
  {
   "cell_type": "code",
   "execution_count": null,
   "metadata": {},
   "outputs": [],
   "source": [
    "cpt_perm=it.Comptage_cd17(r'Q:\\DAIT\\TI\\DREAL33\\2019\\C19SA0035_OTR-NA\\Doc_travail\\Donnees_source\\CD17\\2018_csv_permanents_CD17.csv',\n",
    "                         'permanent_csv',2018)\n",
    "\n",
    "cpt_perm.mises_forme_bdd('gti_otv', 'comptage', 'na_2010_2018_p', '17','permanent')\n",
    "\n",
    "#miettre à jour les données deja existantes\n",
    "cpt_perm.update_bdd('gti_otv', 'comptage', 'na_2010_2018_p')#mise à jour\n",
    "\n",
    "#inseérer les données nouvelles\n",
    "cpt_perm.insert_bdd('gti_otv', 'comptage', 'na_2010_2018_p')\n",
    "#mettre à jour la geom \n",
    "cpt_perm.maj_geom('gti_otv', 'comptage', 'na_2010_2018_p', '17')\n",
    "\n",
    "# pour les données mensuelles\n",
    "cpt_perm.insert_bdd_mens('gti_otv', 'comptage','na_2010_2018_mensuel')"
   ]
  },
  {
   "cell_type": "markdown",
   "metadata": {},
   "source": [
    "> ### annee 2018 ; fichier compteurs tournant format excel issu des donnees pour brochure"
   ]
  },
  {
   "cell_type": "code",
   "execution_count": null,
   "metadata": {},
   "outputs": [],
   "source": [
    "#initiliser la classe avec le fichier\n",
    "bdd='gti_otv_pg11'\n",
    "cpt_cd17=it.Comptage_cd17(r'Q:\\DAIT\\TI\\DREAL33\\2019\\C19SA0035_OTR-NA\\Doc_travail\\Donnees_source\\CD17\\Brochure 2018 CD17 DREAL\\10  5 1 B3 tournants recalculés.xls',\n",
    "                      'tournant_xls_bochure',2018)\n",
    "\n",
    "#mise en forme des données\n",
    "cpt_cd17.comptag_existant_bdd(bdd, 'na_2010_2018_p', dep='17')\n",
    "donnees=cpt_cd17.ouvrir_xls_tournant_brochure()\n",
    "cpt_cd17.conversion_id_comptg_existant_xls_brochure(bdd)\n",
    "cpt_cd17.carac_xls_brochure()\n",
    "\n",
    "#mise à jour des données\n",
    "val_txt=cpt_cd17.creer_valeur_txt_update(cpt_cd17.df_attr_update, ['id_comptag','tmja_2018','tmja_2017'])\n",
    "cpt_cd17.update_bdd(bdd, 'comptage', 'na_2010_2018_p', val_txt,{'tmja_2018':'tmja_2018','tmja_2017':'tmja_2017'})"
   ]
  },
  {
   "cell_type": "markdown",
   "metadata": {},
   "source": [
    "### annee 2017-2018 ; fichier ponctuel excel qui alimente des brochures"
   ]
  },
  {
   "cell_type": "code",
   "execution_count": null,
   "metadata": {},
   "outputs": [],
   "source": [
    "#ouvrir le fichier et initialisation\n",
    "cpt_pct2018_cd17=it.Comptage_cd17(r'Q:\\DAIT\\TI\\DREAL33\\2019\\C19SA0035_OTR-NA\\Doc_travail\\Donnees_source\\CD17\\Brochure 2018 CD17 DREAL\\spécifique Brochure V85_2018 .xls',\n",
    "                      'ponctuel_xls_bochure',2018)\n",
    "bdd='gti_otv_pg11'\n",
    "#mise en forme\n",
    "cpt_pct2018_cd17.comptag_existant_bdd(bdd, 'na_2010_2018_p', dep='17')\n",
    "cpt_pct2018_cd17.conversion_id_comptg_existant_xls_brochure(bdd)\n",
    "cpt_pct2018_cd17.filtrer_periode_ponctuels_xls_brochure()\n",
    "cpt_pct2018_cd17.carac_xls_brochure()\n",
    "\n",
    "#mise à jour des données\n",
    "val_txt=cpt_pct2018_cd17.creer_valeur_txt_update(cpt_pct2018_cd17.df_attr_update, ['id_comptag','tmja','pc_pl','obs'])\n",
    "cpt_pct2018_cd17.update_bdd(bdd, 'comptage', 'na_2010_2018_p', val_txt,{'tmja_2018':'tmja','pc_pl_2018':'pc_pl', 'obs_2018':'obs'})"
   ]
  },
  {
   "cell_type": "code",
   "execution_count": null,
   "metadata": {},
   "outputs": [],
   "source": [
    "#trouver les points de comptages a inserer situe sur le même troncon elementaires que d'autres points\n",
    "table_corresp=cpt_pct2018_cd17.correspondance_ancien_nouveau_comptage(bdd,'public','cd17_tournant_insert','lineaire.traf2016_bdt17_ed16_l',\n",
    "                                                    'public', 'traf2016_bdt17_ed16_l','traf2016_bdt17_ed16_l_vertices_pgr')\n",
    "\n",
    "#si le point fait partie de la table_corresp, on insère pas, sinon on insère\n",
    "pt_a_inserer=cpt_pct2018_cd17.df_attr_insert.loc[~cpt_pct2018_cd17.df_attr_insert.id_comptag.isin(table_corresp.id_comptag.tolist())].copy()\n",
    "#mise en form avant insertion\n",
    "pt_a_inserer['dep']='17'\n",
    "pt_a_inserer['route']=pt_a_inserer.id_comptag.apply(lambda x : x.split('-')[1])\n",
    "pt_a_inserer.rename(columns={'absc':'abs','tmja':'tmja_2018','pc_pl':'pc_pl_2018','obs':'obs_2018'},inplace=True)\n",
    "pt_a_inserer['reseau']='RD'\n",
    "pt_a_inserer['gestionnai']='CD17'\n",
    "pt_a_inserer['concession']='N'\n",
    "pt_a_inserer['type_poste']='ponctuel'\n",
    "pt_a_inserer=pt_a_inserer[['id_comptag','dep','route','pr','abs','reseau','gestionnai','concession','type_poste','tmja_2018','pc_pl_2018','obs_2018']].copy()\n",
    "#si plusieurs fois le mm point on garde la valeur max\n",
    "pt_a_inserer=pt_a_inserer.loc[pt_a_inserer.tmja_2018==pt_a_inserer.groupby('id_comptag').tmja_2018.transform(max)].copy()\n",
    "\n",
    "cpt_pct2018_cd17.insert_bdd(bdd, 'comptage', 'na_2010_2018_p', pt_a_inserer)\n",
    "cpt_pct2018_cd17.maj_geom(bdd, 'comptage', 'na_2010_2018_p', dep='17')"
   ]
  },
  {
   "cell_type": "markdown",
   "metadata": {},
   "source": [
    "# ***CD19***\n",
    "> 2019 : creation de la classe Comptage_cd19"
   ]
  },
  {
   "cell_type": "code",
   "execution_count": null,
   "metadata": {},
   "outputs": [],
   "source": [
    "cd19=it.Comptage_cd19(r'D:\\temp\\otv\\2019\\Donnees_source\\CD19\\2019_Recensement_trafic.xls',2019)\n",
    "cd19.comptage_forme()"
   ]
  },
  {
   "cell_type": "code",
   "execution_count": null,
   "metadata": {},
   "outputs": [],
   "source": [
    "#correspondance existant\n",
    "cd19.classer_comptage_update_insert('local_otv_station_gti','na_2010_2019_p','comptage',\n",
    "                                       'public','cd19_cpt','referentiel.troncon_route_bdt19_ed17_l',\n",
    "                                        'referentiel', 'troncon_route_bdt19_ed17_l','troncon_route_bdt19_ed17_l_vertices_pgr','id')"
   ]
  },
  {
   "cell_type": "code",
   "execution_count": null,
   "metadata": {},
   "outputs": [],
   "source": [
    "#maj existant\n",
    "cd19.update_bdd_19('local_otv_station_gti','comptage','na_2010_2019_p')"
   ]
  },
  {
   "cell_type": "markdown",
   "metadata": {},
   "source": [
    "# ***CD47***\n",
    "> Annee des trafics 2018, fichiers : Q:\\DAIT\\TI\\DREAL33\\2019\\C19SA0035_OTR-NA\\Doc_travail\\Donnees_source\\CD47\\comptages_CD47_2018\\COMPTAGES 2018\n",
    "les fichiers sont decomposes en permanents tournants temporaires, il faut recomposer les donnees"
   ]
  },
  {
   "cell_type": "code",
   "execution_count": null,
   "metadata": {},
   "outputs": [],
   "source": [
    "#initialiser un objet\n",
    "cpt47=it.Comptage_cd47(r'Q:\\DAIT\\TI\\DREAL33\\2019\\C19SA0035_OTR-NA\\Doc_travail\\Donnees_source\\CD47\\comptages_CD47_2018\\COMPTAGES 2018','TRAFICS PERMANENTS')\n",
    "#calculer les attributs de comptages : df_attr, df_attr_insert et df_attr_update, en prenant en compte les comptages existants\n",
    "cpt47.classer_comptage_update_insert('gti_otv_pg11')"
   ]
  },
  {
   "cell_type": "code",
   "execution_count": null,
   "metadata": {},
   "outputs": [],
   "source": [
    "#mise à jour des données déjà présentes dansla base\n",
    "val_txt=cpt47.creer_valeur_txt_update(cpt47.df_attr_update, ['id_comptag','tmja','pc_pl'])\n",
    "cpt47.update_bdd(bdd, 'comptage', 'na_2010_2018_p', val_txt,{'tmja_2018':'tmja','pc_pl_2018':'pc_pl'})"
   ]
  },
  {
   "cell_type": "code",
   "execution_count": null,
   "metadata": {},
   "outputs": [],
   "source": [
    "#traitement des données non présentes (df_attr_insert)\n",
    "#recherche de correspondance pour les permanents et tournants\n",
    "dico_corresp=cpt47.corresp_old_new_comptag('gti_otv_pg11', 'public','cpt47_temp','lineaire.traf2017_bdt47_ed17_l',\n",
    "                            'referentiel', 'troncon_route_bdt47_ed17_l','troncon_route_bdt47_ed17_l_vertices_pgr','id')"
   ]
  },
  {
   "cell_type": "code",
   "execution_count": null,
   "metadata": {},
   "outputs": [],
   "source": [
    "#filtre des données df_attr_insert selon l'id_comptag present dans le dico_corresp\n",
    "cpt47.df_attr_insert=cpt47.df_attr_insert.loc[~cpt47.df_attr_insert.id_comptag.isin(df_correspondance.id_comptag.to_list())].copy()\n",
    "# POUR INFO, l'id_comptag présent dan sle dico_corresp a été transférer à la main dans l table comptage.corresp_id_comptag\n",
    "#mettre en forme les attributs avant insert\n",
    "cpt47.mise_en_forme_insert('2018')\n",
    "#inserer les donnes dans la table\n",
    "cpt47.insert_bdd('gti_otv_pg11', 'comptage', 'na_2010_2018_p', cpt47.df_attr_insert)"
   ]
  },
  {
   "cell_type": "code",
   "execution_count": null,
   "metadata": {},
   "outputs": [],
   "source": [
    "#mettre à jour la géométrie\n",
    "cpt47.maj_geom('gti_otv_pg11', 'comptage', 'na_2010_2018_p', '47')"
   ]
  },
  {
   "cell_type": "markdown",
   "metadata": {},
   "source": [
    "> ## **2019**"
   ]
  },
  {
   "cell_type": "code",
   "execution_count": null,
   "metadata": {},
   "outputs": [],
   "source": [
    "cpt47=it.Comptage_cd47(r'D:\\temp\\otv\\2019\\Donnees_source\\CD47','TRAFICS PERIODIQUES',2019)\n",
    "#calculer les attributs de comptages : df_attr, df_attr_insert et df_attr_update, en prenant en compte les comptages existants, mais ans recherche des équivalences avec les anciens comptage snon recensées\n",
    "cpt47.classer_comptage_update_insert('local_otv_station_gti')"
   ]
  },
  {
   "cell_type": "code",
   "execution_count": null,
   "metadata": {},
   "outputs": [],
   "source": [
    "#qq points tournants non connus\n",
    "cpt47.df_attr_insert.loc[cpt47.df_attr_insert['type_poste'].isin(['permanent','tournant'])]\n",
    "#filtrer les 2 points bizarres\n",
    "cpt47.df_attr=cpt47.df_attr.loc[cpt47.df_attr.id_comptag.apply(lambda x : x[:4]=='47-D')].copy()\n",
    "cpt47.df_attr_insert=cpt47.df_attr_insert.loc[cpt47.df_attr_insert.id_comptag.apply(lambda x : x[:4]=='47-D')].copy()\n",
    "cpt47.df_attr_update=cpt47.df_attr_update.loc[cpt47.df_attr_update.id_comptag.apply(lambda x : x[:4]=='47-D')].copy()"
   ]
  },
  {
   "cell_type": "code",
   "execution_count": null,
   "metadata": {},
   "outputs": [],
   "source": [
    "#obtention dico de correspondance\n",
    "dico_corresp=cpt47.corresp_old_new_comptag('local_otv_station_gti', 'public','cpt47_temp','referentiel.troncon_route_bdt47_ed17_l',\n",
    "                            'referentiel', 'troncon_route_bdt47_ed17_l','troncon_route_bdt47_ed17_l_vertices_pgr','id')\n",
    "#insertion dans bdd\n",
    "cpt47.insert_bdd('local_otv_station_gti','comptage','corresp_id_comptag',dico_corresp[['id_comptag','id_comptag_lin']].rename(columns={'id_comptag':'id_gest','id_comptag_lin':'id_gti'}))\n",
    "#calcul nouveau id_comptag\n",
    "cpt47.comptag_existant_bdd('local_otv_station_gti',schema='comptage', table='na_2010_2019_p',dep='47', type_poste=False)\n",
    "cpt47.corresp_nom_id_comptag('local_otv_station_gti',cpt47.df_attr)\n",
    "cpt47.df_attr_update=cpt47.df_attr.loc[cpt47.df_attr.id_comptag.isin(cpt47.existant.id_comptag.tolist())].copy()\n",
    "cpt47.df_attr_insert=cpt47.df_attr.loc[~cpt47.df_attr.id_comptag.isin(cpt47.existant.id_comptag.tolist())].copy()"
   ]
  },
  {
   "cell_type": "code",
   "execution_count": null,
   "metadata": {},
   "outputs": [],
   "source": [
    "#mise a jour\n",
    "cpt47.update_bdd_47('local_otv_station_gti','comptage', 'na_2010_2019_p',cpt47.df_attr_update)"
   ]
  },
  {
   "cell_type": "code",
   "execution_count": null,
   "metadata": {},
   "outputs": [],
   "source": [
    "#donnees a inserer\n",
    "cpt47.mise_en_forme_insert()\n",
    "cpt47.insert_bdd('local_otv_station_gti','comptage', 'na_2010_2019_p', cpt47.df_attr_insert)\n",
    "cpt47.maj_geom('local_otv_station_gti','comptage', 'na_2010_2019_p', '47')\n",
    "cpt47.insert_bdd('local_otv_station_gti','comptage', 'na_2010_2019_mensuel', cpt47.df_attr_mens)\n",
    "cpt47.insert_bdd('local_otv_station_gti','comptage', 'na_2010_2019_horaire', cpt47.df_attr_horaire)"
   ]
  },
  {
   "cell_type": "markdown",
   "metadata": {},
   "source": [
    "# ***CD87***\n",
    "> Dans ce Departement les donnees sont fournies en fichiers .fim. il vaut recalculer les valeusr de comptages <br> Q:\\DAIT\\TI\\DREAL33\\2019\\C19SA0035_OTR-NA\\Doc_travail\\Donnees_source\\CD87\\Fichiers FIM 87 -2018"
   ]
  },
  {
   "cell_type": "markdown",
   "metadata": {},
   "source": [
    "### ***lister les voies, classer les types de commptages, lister les fichiers a regrouper***\n",
    "> le dossier contient un tres grand nombre de fihciers, parfois ils sont a regrouper, parfois la structure de nommage varie"
   ]
  },
  {
   "cell_type": "code",
   "execution_count": 291,
   "metadata": {},
   "outputs": [
    {
     "name": "stdout",
     "output_type": "stream",
     "text": [
      "OK : tous fichiers dans dico\n"
     ]
    }
   ],
   "source": [
    "d87=it.Comptage_cd87(r'Q:\\DAIT\\TI\\DREAL33\\2020\\OTV\\Doc_travail\\Donnees_source\\CD87\\CD87- Comptages 2019 Fichiers .fim') \n",
    "d87.dico_pt_cptg() #creer le dico de base"
   ]
  },
  {
   "cell_type": "code",
   "execution_count": 293,
   "metadata": {},
   "outputs": [
    {
     "data": {
      "text/plain": [
       "{'D12': [{'pr': 0,\n",
       "   'abs': 580,\n",
       "   'fichiers': ['RD12PR0(580_1905231002_M3H_WA.FIM'],\n",
       "   'tmja': 1550,\n",
       "   'pc_pl': 4.8,\n",
       "   'date_debut': Timestamp('2019-05-14 10:00:00'),\n",
       "   'date_fin': Timestamp('2019-05-23 09:00:00')},\n",
       "  {'pr': 24,\n",
       "   'abs': 850,\n",
       "   'fichiers': ['12_24850_2019 09.FIM'],\n",
       "   'tmja': 949,\n",
       "   'pc_pl': 2.1,\n",
       "   'date_debut': Timestamp('2019-09-20 10:00:00'),\n",
       "   'date_fin': Timestamp('2019-09-30 09:00:00')},\n",
       "  {'pr': 6,\n",
       "   'abs': 0,\n",
       "   'fichiers': ['12_06000_2019 10.FIM', '12_06000_2019 06.FIM'],\n",
       "   'tmja': 2088,\n",
       "   'date_debut': nan,\n",
       "   'date_fin': nan,\n",
       "   'pc_pl': 2.65},\n",
       "  {'pr': 12,\n",
       "   'abs': 620,\n",
       "   'fichiers': ['12_12620_2019 10 .FIM', '12_12620_2019 06.FIM'],\n",
       "   'tmja': 824,\n",
       "   'date_debut': nan,\n",
       "   'date_fin': nan,\n",
       "   'pc_pl': 2.9}],\n",
       " 'D2000': [{'pr': 22,\n",
       "   'abs': 250,\n",
       "   'fichiers': ['RD2000PR22(250_1908011603_M4H_WA (4).FIM',\n",
       "    'RD2000PR22(250_1901101013_M4H_WA.FIM',\n",
       "    'RD2000PR22(250_1906071431_M4H_WA (2).FIM',\n",
       "    'RD2000PR22(250_1907051022_M4H_WA (2).FIM',\n",
       "    'RD2000PR22(250_1909041127_M4H_WA.FIM',\n",
       "    'RD2000PR22(250_1910031116_M4H_WA (2).FIM',\n",
       "    'RD2000PR22(250_1904230923_M4H_WA (2).FIM',\n",
       "    'RD2000PR22(250_1902061140_M4H_WA.FIM',\n",
       "    'RD2000PR22(250_1905030953_M4H_WA (2).FIM',\n",
       "    'RD2000PR22(250_1903051132_M4H_WA (2).FIM',\n",
       "    'RD2000PR22(250_1911041103_M4H_WA.FIM'],\n",
       "   'tmja': 5220,\n",
       "   'date_debut': nan,\n",
       "   'date_fin': nan,\n",
       "   'pc_pl': 10.84},\n",
       "  {'pr': 15,\n",
       "   'abs': 105,\n",
       "   'fichiers': ['RD2000PR15(105_0908011549_M4H_WA (3).FIM',\n",
       "    'RD2000PR15(105_0909041111_M4H_WA.FIM',\n",
       "    'RD2000PR15(105_0910031102_M4H_WA.FIM',\n",
       "    'RD2000PR15(105_0907051005_M4H_WA (3).FIM',\n",
       "    'RD2000PR15(105_0906071416_M4H_WA.FIM',\n",
       "    'RD2000PR15(105_0911041046_M4H_WA.FIM'],\n",
       "   'tmja': 9330,\n",
       "   'date_debut': nan,\n",
       "   'date_fin': nan,\n",
       "   'pc_pl': 8.47},\n",
       "  {'pr': 19,\n",
       "   'abs': 920,\n",
       "   'fichiers': ['RD2000PR19920_1902061134_M4H_WA (2).FIM',\n",
       "    'RD2000PR19920_1901101020_M4H_WA.FIM'],\n",
       "   'tmja': 6855,\n",
       "   'date_debut': nan,\n",
       "   'date_fin': nan,\n",
       "   'pc_pl': 8.55}],\n",
       " 'D29': [{'pr': 4,\n",
       "   'abs': 830,\n",
       "   'fichiers': ['RD29PR4830_1905061030_M4H_WA (2).FIM',\n",
       "    'RD29PR4830_1910041124_M4H_WA (2).FIM',\n",
       "    'RD29PR4830_1908011344_M4H_WA.FIM',\n",
       "    'RD29PR4830_1909051508_M4H_WA (3).FIM',\n",
       "    'RD29PR4830_1902051422_M4H_WA.FIM',\n",
       "    'RD29PR4830_1906031045_M4H_WA.FIM',\n",
       "    'RD29PR4830_1901081414_M4H_WA.FIM',\n",
       "    'RD29PR4830_1903040931_M4H_WA (2).FIM',\n",
       "    'RD29PR4830_1904121212_M4H_WA (2).FIM',\n",
       "    'RD29PR4830_1907051425_M4H_WA.FIM',\n",
       "    'RD29PR4830_1911041337_M4H_WA.FIM'],\n",
       "   'tmja': 8440,\n",
       "   'date_debut': nan,\n",
       "   'date_fin': nan,\n",
       "   'pc_pl': 2.99}],\n",
       " 'D11A': [{'pr': 4,\n",
       "   'abs': 540,\n",
       "   'fichiers': ['RD11a1PR4(540_1906031521_M3H_WA.FIM'],\n",
       "   'tmja': 1473,\n",
       "   'pc_pl': 0.8,\n",
       "   'date_debut': Timestamp('2019-05-23 11:00:00'),\n",
       "   'date_fin': Timestamp('2019-06-03 14:00:00')}],\n",
       " 'D979': [{'pr': 3,\n",
       "   'abs': 130,\n",
       "   'fichiers': ['RD979PR3130_1909051207_M4H_WA.FIM',\n",
       "    'RD979PR3130_1905061206_M4H_WA (2).FIM',\n",
       "    'RD979PR3130_1903040948_M4H_WA (2).FIM',\n",
       "    'RD979PR3130_1902051442_M4H_WA.FIM',\n",
       "    'RD979PR3130_1910031206_M4H_WA (2).FIM',\n",
       "    'RD979PR3130_1904121510_M4H_WA.FIM',\n",
       "    'RD979PR3130_1906031419_M4H_WA.FIM',\n",
       "    'RD979PR3130_1911041253_M4H_WA.FIM'],\n",
       "   'tmja': 15799,\n",
       "   'date_debut': nan,\n",
       "   'date_fin': nan,\n",
       "   'pc_pl': 3.48},\n",
       "  {'pr': 7,\n",
       "   'abs': 645,\n",
       "   'fichiers': ['RD979PR7(645_1905151619_M3H_WA.FIM'],\n",
       "   'tmja': 7183,\n",
       "   'pc_pl': 3.5,\n",
       "   'date_debut': Timestamp('2019-05-07 11:00:00'),\n",
       "   'date_fin': Timestamp('2019-05-15 15:00:00')},\n",
       "  {'pr': 28,\n",
       "   'abs': 530,\n",
       "   'fichiers': ['RD979PR28530_2019 09.FIM',\n",
       "    'RD979_PR28530_2019 02.FIM',\n",
       "    'RD979PR28530_2019 10.FIM',\n",
       "    'RD979PR28530_2019 05.FIM',\n",
       "    'RD979PR28530_2019 04.FIM'],\n",
       "   'tmja': 3553,\n",
       "   'date_debut': nan,\n",
       "   'date_fin': nan,\n",
       "   'pc_pl': 5.02},\n",
       "  {'pr': 13,\n",
       "   'abs': 720,\n",
       "   'fichiers': ['D979PR13720_2019 05 2.fim'],\n",
       "   'tmja': 5023,\n",
       "   'pc_pl': 6.3,\n",
       "   'date_debut': Timestamp('2019-05-14 10:00:00'),\n",
       "   'date_fin': Timestamp('2019-05-22 13:00:00')},\n",
       "  {'pr': 38,\n",
       "   'abs': 900,\n",
       "   'fichiers': ['D979PR38900_2019 09.FIM', 'D979PR38900_2019 05.FIM'],\n",
       "   'tmja': 3554,\n",
       "   'date_debut': nan,\n",
       "   'date_fin': nan,\n",
       "   'pc_pl': 7.25}],\n",
       " 'D675': [{'pr': 26,\n",
       "   'abs': 970,\n",
       "   'fichiers': ['RD 675 - BELLEVUE PR26+970 (6).fim',\n",
       "    'RD 675 - BELLEVUE PR26+970 (3).fim',\n",
       "    'RD 675 - BELLEVUE PR26+970 (5).fim',\n",
       "    'RD 675 - BELLEVUE PR26+970.fim',\n",
       "    'RD 675 - BELLEVUE PR26+970 (2).fim'],\n",
       "   'tmja': 2410,\n",
       "   'date_debut': nan,\n",
       "   'date_fin': nan,\n",
       "   'pc_pl': 5.44},\n",
       "  {'pr': 31,\n",
       "   'abs': 0,\n",
       "   'fichiers': ['RD 675 - LE BOIS DU ROI PR31+000 (2).fim',\n",
       "    'RD 675 - LE BOIS DU ROI PR31+000 (6).fim',\n",
       "    'RD 675 - LE BOIS DU ROI PR31+000 (3).fim',\n",
       "    'RD 675 - LE BOIS DU ROI PR31+000 (5).fim',\n",
       "    'RD 675 - LE BOIS DU ROI PR31+000.fim'],\n",
       "   'tmja': 1944,\n",
       "   'date_debut': nan,\n",
       "   'date_fin': nan,\n",
       "   'pc_pl': 6.92},\n",
       "  {'pr': 8,\n",
       "   'abs': 800,\n",
       "   'fichiers': ['RD675 - PR 8+800.fim'],\n",
       "   'tmja': 2401,\n",
       "   'pc_pl': 7.1,\n",
       "   'date_debut': Timestamp('2019-03-08 14:00:00'),\n",
       "   'date_fin': Timestamp('2019-03-18 09:00:00')},\n",
       "  {'pr': 14,\n",
       "   'abs': 700,\n",
       "   'fichiers': ['RD675 - PR 14+700.fim'],\n",
       "   'tmja': 913,\n",
       "   'pc_pl': 5.5,\n",
       "   'date_debut': Timestamp('2019-04-01 17:00:00'),\n",
       "   'date_fin': Timestamp('2019-04-09 11:00:00')}],\n",
       " 'D699': [{'pr': 11,\n",
       "   'abs': 0,\n",
       "   'fichiers': ['RD 699 PR 11+000.FIM'],\n",
       "   'tmja': 1687,\n",
       "   'pc_pl': 5.7,\n",
       "   'date_debut': Timestamp('2019-01-15 11:00:00'),\n",
       "   'date_fin': Timestamp('2019-01-23 08:00:00')},\n",
       "  {'pr': 10,\n",
       "   'abs': 555,\n",
       "   'fichiers': ['RD 699 PR 10+555.FIM'],\n",
       "   'tmja': 1893,\n",
       "   'pc_pl': 4.2,\n",
       "   'date_debut': Timestamp('2019-01-15 10:00:00'),\n",
       "   'date_fin': Timestamp('2019-01-23 08:00:00')},\n",
       "  {'pr': 21,\n",
       "   'abs': 430,\n",
       "   'fichiers': ['RD 699 PR 21+430.FIM'],\n",
       "   'tmja': 1471,\n",
       "   'pc_pl': 3.9,\n",
       "   'date_debut': Timestamp('2019-01-25 10:00:00'),\n",
       "   'date_fin': Timestamp('2019-02-04 14:00:00')},\n",
       "  {'pr': 10,\n",
       "   'abs': 700,\n",
       "   'fichiers': ['RD 699 PR 10+700.FIM'],\n",
       "   'tmja': 1698,\n",
       "   'pc_pl': 5.4,\n",
       "   'date_debut': Timestamp('2019-01-15 11:00:00'),\n",
       "   'date_fin': Timestamp('2019-01-23 08:00:00')},\n",
       "  {'pr': 9,\n",
       "   'abs': 670,\n",
       "   'fichiers': ['RD 699 PR 9+670.FIM'],\n",
       "   'tmja': 1838,\n",
       "   'pc_pl': 4.4,\n",
       "   'date_debut': Timestamp('2019-01-15 14:00:00'),\n",
       "   'date_fin': Timestamp('2019-01-23 08:00:00')}],\n",
       " 'D7': [{'pr': 23,\n",
       "   'abs': 314,\n",
       "   'fichiers': ['RD7 - PR 23+314.fim'],\n",
       "   'tmja': 2415,\n",
       "   'pc_pl': 3.5,\n",
       "   'date_debut': Timestamp('2019-03-21 15:00:00'),\n",
       "   'date_fin': Timestamp('2019-04-01 13:00:00')},\n",
       "  {'pr': 28,\n",
       "   'abs': 560,\n",
       "   'fichiers': ['RD7 - PR 28+560 (2).fim'],\n",
       "   'tmja': 1185,\n",
       "   'pc_pl': 3.6,\n",
       "   'date_debut': Timestamp('2019-03-21 16:00:00'),\n",
       "   'date_fin': Timestamp('2019-04-01 15:00:00')},\n",
       "  {'pr': 0,\n",
       "   'abs': 100,\n",
       "   'fichiers': ['RD7PR0(100_1905020946_M3H_WA.FIM'],\n",
       "   'tmja': 2873,\n",
       "   'pc_pl': 1.9,\n",
       "   'date_debut': Timestamp('2019-04-24 16:00:00'),\n",
       "   'date_fin': Timestamp('2019-05-02 08:00:00')}],\n",
       " 'D942': [{'pr': 24,\n",
       "   'abs': 0,\n",
       "   'fichiers': ['RD 942 - MONTGOMART PR24+000 (5).fim',\n",
       "    'RD 942 - MONTGOMART PR24+000 (6).fim',\n",
       "    'RD 942 - MONTGOMART PR24+000 (3).fim',\n",
       "    'RD 942 - MONTGOMART PR24+000.fim',\n",
       "    'RD 942 - MONTGOMART PR24+000 (2).fim'],\n",
       "   'tmja': 3162,\n",
       "   'date_debut': nan,\n",
       "   'date_fin': nan,\n",
       "   'pc_pl': 4.68},\n",
       "  {'pr': 39,\n",
       "   'abs': 0,\n",
       "   'fichiers': ['RD 942 - BUSSIERE POITEVINE PR39+000.fim',\n",
       "    'RD 942 - BUSSIERE POITEVINE PR39+000 (6).fim',\n",
       "    'RD 942 - BUSSIERE POITEVINE PR39+000 (3).fim',\n",
       "    'RD 942 - BUSSIERE POITEVINE PR39+000 (2).fim',\n",
       "    'RD 942 - BUSSIERE POITEVINE PR39+000 (5).fim'],\n",
       "   'tmja': 2269,\n",
       "   'date_debut': nan,\n",
       "   'date_fin': nan,\n",
       "   'pc_pl': 4.68}],\n",
       " 'D5': [{'pr': 33,\n",
       "   'abs': 0,\n",
       "   'fichiers': ['RD5PR33(_1904120922_M3H_WA.FIM'],\n",
       "   'tmja': 1477,\n",
       "   'pc_pl': 4.9,\n",
       "   'date_debut': Timestamp('2019-03-28 14:00:00'),\n",
       "   'date_fin': Timestamp('2019-04-12 08:00:00')},\n",
       "  {'pr': 46,\n",
       "   'abs': 190,\n",
       "   'fichiers': ['RD5PR46_1904121012_M3H_WA.FIM'],\n",
       "   'tmja': 2193,\n",
       "   'pc_pl': 2.2,\n",
       "   'date_debut': Timestamp('2019-03-28 14:00:00'),\n",
       "   'date_fin': Timestamp('2019-04-12 09:00:00')},\n",
       "  {'pr': 84,\n",
       "   'abs': 670,\n",
       "   'fichiers': ['D005PR84670_2019 05 2.fim'],\n",
       "   'tmja': 590,\n",
       "   'pc_pl': 6.8,\n",
       "   'date_debut': Timestamp('2019-05-15 11:00:00'),\n",
       "   'date_fin': Timestamp('2019-05-24 09:00:00')},\n",
       "  {'pr': 74,\n",
       "   'abs': 485,\n",
       "   'fichiers': ['05_74485_2019 10.FIM'],\n",
       "   'tmja': 937,\n",
       "   'pc_pl': 5.8,\n",
       "   'date_debut': Timestamp('2019-10-08 10:00:00'),\n",
       "   'date_fin': Timestamp('2019-10-16 14:00:00')},\n",
       "  {'pr': 74,\n",
       "   'abs': 850,\n",
       "   'fichiers': ['05_74850_2019 05.FIM'],\n",
       "   'tmja': 872,\n",
       "   'pc_pl': 7.3,\n",
       "   'date_debut': Timestamp('2019-05-14 15:00:00'),\n",
       "   'date_fin': Timestamp('2019-05-23 14:00:00')}],\n",
       " 'D704': [{'pr': 1,\n",
       "   'abs': 495,\n",
       "   'fichiers': ['RD704PR1495_1903041205_M4H_WA (2).FIM',\n",
       "    'RD704PR1495_1909051318_M4H_WA.FIM',\n",
       "    'RD704PR1495_1902051608_M4H_WA.FIM',\n",
       "    'RD704PR1495_1910031255_M4H_WA.FIM',\n",
       "    'RD704PR1495_1905031131_M4H_WA.FIM',\n",
       "    'RD704PR1495_1904231104_M4H_WA (2).FIM',\n",
       "    'RD704PR1495_1901041221_M4H_WA.FIM',\n",
       "    'RD704PR1495_1907051204_M4H_WA.FIM'],\n",
       "   'tmja': 6620,\n",
       "   'date_debut': nan,\n",
       "   'date_fin': nan,\n",
       "   'pc_pl': 5.55},\n",
       "  {'pr': 15,\n",
       "   'abs': 400,\n",
       "   'fichiers': ['RD 704 PR 15+400.FIM'],\n",
       "   'tmja': 4594,\n",
       "   'pc_pl': 8.7,\n",
       "   'date_debut': Timestamp('2018-11-08 10:00:00'),\n",
       "   'date_fin': Timestamp('2018-11-26 15:00:00')},\n",
       "  {'pr': 15,\n",
       "   'abs': 100,\n",
       "   'fichiers': ['RD 704 PR 15+100.FIM'],\n",
       "   'tmja': 7288,\n",
       "   'pc_pl': 4.1,\n",
       "   'date_debut': Timestamp('2018-11-08 10:00:00'),\n",
       "   'date_fin': Timestamp('2018-11-26 15:00:00')},\n",
       "  {'pr': 29,\n",
       "   'abs': 920,\n",
       "   'fichiers': ['RD 704 PR 29+920.FIM'],\n",
       "   'tmja': 4501,\n",
       "   'pc_pl': 4.9,\n",
       "   'date_debut': Timestamp('2019-01-21 15:00:00'),\n",
       "   'date_fin': Timestamp('2019-02-01 10:00:00')},\n",
       "  {'pr': 11,\n",
       "   'abs': 900,\n",
       "   'fichiers': ['RD704PR11(900_1905231109_M3H_WA.FIM'],\n",
       "   'tmja': 7803,\n",
       "   'pc_pl': 3.2,\n",
       "   'date_debut': Timestamp('2019-05-15 13:00:00'),\n",
       "   'date_fin': Timestamp('2019-05-23 10:00:00')}],\n",
       " 'D947': [{'pr': 3,\n",
       "   'abs': 150,\n",
       "   'fichiers': ['RD947PR3150_1910031036_M4H_WA (2).FIM',\n",
       "    'RD947PR3150_1902061003_M4H_WA.FIM',\n",
       "    'RD947PR3150_1906051019_M4H_WA (3).FIM',\n",
       "    'RD947PR3150_1905061319_M4H_WA (2).FIM',\n",
       "    'RD947PR3150_1903121050_M4H_WA (2).FIM',\n",
       "    'RD947PR3150_1907050941_M4H_WA (2).FIM',\n",
       "    'RD947PR3150_1909051141_M4H_WA.FIM',\n",
       "    'RD947PR3150_1904231034_M4H_WA.FIM',\n",
       "    'RD947PR3150_1911041021_M4H_WA.FIM'],\n",
       "   'tmja': 11793,\n",
       "   'date_debut': nan,\n",
       "   'date_fin': nan,\n",
       "   'pc_pl': 2.29}],\n",
       " 'D940': [{'pr': 15,\n",
       "   'abs': 550,\n",
       "   'fichiers': ['D940PR15550_2019 05 3.fim'],\n",
       "   'tmja': 1226,\n",
       "   'pc_pl': 6.9,\n",
       "   'date_debut': Timestamp('2019-05-15 10:00:00'),\n",
       "   'date_fin': Timestamp('2019-05-24 09:00:00')},\n",
       "  {'pr': 7,\n",
       "   'abs': 90,\n",
       "   'fichiers': ['RD940_PR07090_2019 10 2.FIM',\n",
       "    'RD940_PR07090_2019 11.FIM',\n",
       "    'RD940_PR07090_2019 02.FIM',\n",
       "    'RD940_PR07090_2019 05.FIM',\n",
       "    'RD940_PR07090_2019 04.FIM'],\n",
       "   'tmja': 1298,\n",
       "   'date_debut': nan,\n",
       "   'date_fin': nan,\n",
       "   'pc_pl': 10.02},\n",
       "  {'pr': 22,\n",
       "   'abs': 900,\n",
       "   'fichiers': ['D940PR22900_2019 05 2.fim'],\n",
       "   'tmja': 351,\n",
       "   'pc_pl': 13.7,\n",
       "   'date_debut': Timestamp('2019-05-15 10:00:00'),\n",
       "   'date_fin': Timestamp('2019-05-24 09:00:00')},\n",
       "  {'pr': 5,\n",
       "   'abs': 0,\n",
       "   'fichiers': ['940_05000_2019 09 2.FIM',\n",
       "    '940_05000_2019 05.FIM',\n",
       "    '940_05000_2019 10 1.FIM']}],\n",
       " 'D992': [{'pr': 12,\n",
       "   'abs': 0,\n",
       "   'fichiers': ['D992PR12000_2019 05 2.fim', '992_12000_2019 09.FIM']},\n",
       "  {'pr': 2,\n",
       "   'abs': 760,\n",
       "   'fichiers': ['D992PR02760_2019 05 2.fim', '992_02760_2019 09.FIM']}],\n",
       " 'D941': [{'pr': 64, 'abs': 125, 'fichiers': ['RD 941 PR 64+125.FIM']},\n",
       "  {'pr': 10,\n",
       "   'abs': 0,\n",
       "   'fichiers': ['D941_PR10000_2019 02.FIM',\n",
       "    'D941_PR10000_2019 10 2.FIM',\n",
       "    'D941_PR10000_2019 11 1.FIM',\n",
       "    'D941_PR10000_2019 11 2.FIM',\n",
       "    'D941_PR10000_2019 04 du 1er au 17.FIM',\n",
       "    '941_10000_2019 10 1.FIM',\n",
       "    '941_10000_2019 09 2.FIM',\n",
       "    '941_10000_2019 05 3.FIM']},\n",
       "  {'pr': 63, 'abs': 0, 'fichiers': ['RD 941 PR 63+000.FIM']},\n",
       "  {'pr': 13,\n",
       "   'abs': 310,\n",
       "   'fichiers': ['941_13310_2019 04 1.FIM',\n",
       "    '941_13310_2019 04.FIM',\n",
       "    '941_13310_2019 04 2.FIM']},\n",
       "  {'pr': 0,\n",
       "   'abs': 150,\n",
       "   'fichiers': ['941_00150_2019 11.FIM', '941 00150_2019 05 2.fim']}],\n",
       " 'D74': [{'pr': 6,\n",
       "   'abs': 420,\n",
       "   'fichiers': ['RD74PR6(420_1905271452_M3H_WA.FIM']}],\n",
       " 'D11': [{'pr': 7,\n",
       "   'abs': 810,\n",
       "   'fichiers': ['RD11PR7(810_1905291153_M3H_WA.FIM']},\n",
       "  {'pr': 5, 'abs': 315, 'fichiers': ['RD11PR5(315_1905291139_M3H_WA.FIM']},\n",
       "  {'pr': 14, 'abs': 55, 'fichiers': ['RD11PR14(055_1906031524_M3H_WA.FIM']}],\n",
       " 'D951': [{'pr': 55,\n",
       "   'abs': 680,\n",
       "   'fichiers': ['RD 951 - MEZIERES SUR ISSOIRE PR55+680 (4).fim',\n",
       "    'RD 951 - MEZIERES SUR ISSOIRE PR55+680 (5).fim',\n",
       "    'RD 951 - MEZIERES SUR ISSOIRE PR55+680.fim',\n",
       "    'RD 951 - MEZIERES SUR ISSOIRE PR55+680 (3).fim',\n",
       "    'RD 951 - MEZIERES SUR ISSOIRE PR55+680 (2).fim']}],\n",
       " 'D2': [{'pr': 19, 'abs': 900, 'fichiers': ['RD2 - PR 19+900 (2).fim']},\n",
       "  {'pr': 28, 'abs': 385, 'fichiers': ['RD2 - PR 28+385 (2).fim']}],\n",
       " 'D912': [{'pr': 20,\n",
       "   'abs': 850,\n",
       "   'fichiers': ['RD912 - PR 20+850 (2).fim', 'RD912 - PR 20+850.fim']},\n",
       "  {'pr': 13, 'abs': 910, 'fichiers': ['RD912 - PR 13+910.fim']},\n",
       "  {'pr': 26,\n",
       "   'abs': 800,\n",
       "   'fichiers': ['RD912 - PR 26+800 (2).fim', 'RD912 - PR 26+800.fim']}],\n",
       " 'D25': [{'pr': 9, 'abs': 450, 'fichiers': ['RD25 - PR 9+450.fim']}],\n",
       " 'D4BIS': [{'pr': 14, 'abs': 734, 'fichiers': ['RD4bis - PR 14+734.fim']}],\n",
       " 'D20': [{'pr': 22,\n",
       "   'abs': 190,\n",
       "   'fichiers': ['RD20PR22_1906111409_M3H_WA.FIM']},\n",
       "  {'pr': 33, 'abs': 500, 'fichiers': ['RD20PR33(500_1904241147_M4H_WA.FIM']},\n",
       "  {'pr': 28, 'abs': 800, 'fichiers': ['RD20PR28(800_1905071119_M3H_WA.FIM']}],\n",
       " 'D13': [{'pr': 9, 'abs': 620, 'fichiers': ['RD13PR09620_2019 05 2.fim']},\n",
       "  {'pr': 20, 'abs': 840, 'fichiers': ['D13PR20840_2019 05 2.fim']},\n",
       "  {'pr': 2, 'abs': 600, 'fichiers': ['13_02600_2019 05.FIM']},\n",
       "  {'pr': 2, 'abs': 615, 'fichiers': ['13_02615_2019 07.FIM']}],\n",
       " 'D98A': [{'pr': 2,\n",
       "   'abs': 750,\n",
       "   'fichiers': ['RD98aPR2(750_1904301028_M3H_WA.FIM']},\n",
       "  {'pr': 6, 'abs': 190, 'fichiers': ['RD98aPR6_1904301038_M3H_WA.FIM']}],\n",
       " 'D27': [{'pr': 23, 'abs': 820, 'fichiers': ['RD27 - PR 23+820.fim']}],\n",
       " 'D1': [{'pr': 18, 'abs': 349, 'fichiers': ['RD1 - PR 18+349.fim']},\n",
       "  {'pr': 5, 'abs': 340, 'fichiers': ['RD1 - PR 5+340.fim']}],\n",
       " 'D15': [{'pr': 44, 'abs': 60, 'fichiers': ['RD 15 PR 44+060.FIM']},\n",
       "  {'pr': 54, 'abs': 555, 'fichiers': ['RD 15 PR 54+555.FIM']},\n",
       "  {'pr': 50, 'abs': 240, 'fichiers': ['RD 15 PR 50+240.FIM']},\n",
       "  {'pr': 49, 'abs': 920, 'fichiers': ['RD 15 PR 49+920.FIM']},\n",
       "  {'pr': 39,\n",
       "   'abs': 0,\n",
       "   'fichiers': ['15_39000_2019 11.FIM', '15_39000_2019 06.FIM']},\n",
       "  {'pr': 38,\n",
       "   'abs': 140,\n",
       "   'fichiers': ['15_38140_2019 11.FIM', '15_38140_2019 06.FIM']},\n",
       "  {'pr': 15, 'abs': 0, 'fichiers': ['15_15000_2019 07.FIM']},\n",
       "  {'pr': 29,\n",
       "   'abs': 530,\n",
       "   'fichiers': ['15_29530_2019 06.FIM', '15_29530_2019 10.FIM']},\n",
       "  {'pr': 20, 'abs': 150, 'fichiers': ['15_20150_2019 09.FIM']}],\n",
       " 'D75': [{'pr': 2, 'abs': 0, 'fichiers': ['RD 75 a PR 2+000.FIM']}],\n",
       " 'D914': [{'pr': 32,\n",
       "   'abs': 190,\n",
       "   'fichiers': ['RD914PR32_1904121041_M3H_WA.FIM']}],\n",
       " 'D711': [{'pr': 23,\n",
       "   'abs': 825,\n",
       "   'fichiers': ['RD711PR23(825_1905171001_M3H_WA.FIM']},\n",
       "  {'pr': 50, 'abs': 200, 'fichiers': ['RD 711 PR 50+200.FIM']}],\n",
       " 'D7B': [{'pr': 3, 'abs': 90, 'fichiers': ['D7BPR03090_2019 05 2.fim']},\n",
       "  {'pr': 35, 'abs': 0, 'fichiers': ['D 7B PR 35 375_2019 03.fim']},\n",
       "  {'pr': 40,\n",
       "   'abs': 170,\n",
       "   'fichiers': ['7B_40170_2019 06.FIM', '7B_40170_2019 09.FIM']},\n",
       "  {'pr': 32,\n",
       "   'abs': 0,\n",
       "   'fichiers': ['7B_32000_2019 09.FIM', '7B_32000_2019 06.FIM']},\n",
       "  {'pr': 35, 'abs': 380, 'fichiers': ['7B_35380_2019 09.FIM']}],\n",
       " 'D121': [{'pr': 1, 'abs': 950, 'fichiers': ['RD121 - PR 1+950.fim']}],\n",
       " 'D30': [{'pr': 1,\n",
       "   'abs': 65,\n",
       "   'fichiers': ['D30PR01065_2019 05 2.fim', '30_01065_2019 09.FIM']}],\n",
       " 'D34': [{'pr': 6, 'abs': 500, 'fichiers': ['RD 34 PR 6+500.FIM']}],\n",
       " 'D125A': [{'pr': 0,\n",
       "   'abs': 100,\n",
       "   'fichiers': ['RD125a1PR0(100_1905021503_M3H_WA.FIM']}],\n",
       " 'D97': [{'pr': 5,\n",
       "   'abs': 300,\n",
       "   'fichiers': ['RD97PR5(300_1905271001_M3H_WA.FIM']}],\n",
       " 'D941A': [{'pr': 43,\n",
       "   'abs': 407,\n",
       "   'fichiers': ['RD941aPR43(407_1904241143_M4H_WA.FIM']}],\n",
       " 'D49': [{'pr': 10, 'abs': 460, 'fichiers': ['RD49 - PR 10+460.fim']}],\n",
       " 'D18': [{'pr': 12, 'abs': 0, 'fichiers': ['RD 18 PR 12+000.FIM']}],\n",
       " 'D6': [{'pr': 4, 'abs': 500, 'fichiers': ['RD 6 bis PR 4+500.FIM']},\n",
       "  {'pr': 10, 'abs': 950, 'fichiers': ['RD 6 bis PR 10+950.FIM']}],\n",
       " 'D35': [{'pr': 2,\n",
       "   'abs': 658,\n",
       "   'fichiers': ['RD35PR2(658_1905101501_M3H_WA.FIM']}],\n",
       " 'D901': [{'pr': 57, 'abs': 820, 'fichiers': ['RD 901 PR 57+820.FIM']}],\n",
       " 'D43': [{'pr': 12,\n",
       "   'abs': 930,\n",
       "   'fichiers': ['D43PR12930_2019 05 2.fim', '43_12930_2019 09.FIM']}],\n",
       " 'D52': [{'pr': 3, 'abs': 210, 'fichiers': ['RD 52 PR 3+210.FIM']}],\n",
       " 'D59': [{'pr': 2, 'abs': 780, 'fichiers': ['RD 59 A3 PR 2+780.FIM']}],\n",
       " 'D32': [{'pr': 12,\n",
       "   'abs': 410,\n",
       "   'fichiers': ['RD32PR12(410_1905231122_M3H_WA.FIM']}],\n",
       " 'D220': [{'pr': 27, 'abs': 492, 'fichiers': ['RD220 - PR 27+492.fim']}],\n",
       " 'D9': [{'pr': 0,\n",
       "   'abs': 500,\n",
       "   'fichiers': ['RD9PR0(500_1905211054_M3H_WA.FIM']}],\n",
       " 'D28': [{'pr': 12,\n",
       "   'abs': 0,\n",
       "   'fichiers': ['RD28PR12(000_1905211034_M3H_WA.FIM']}],\n",
       " 'D19': [{'pr': 41, 'abs': 680, 'fichiers': ['19_41680_2019 10.FIM']},\n",
       "  {'pr': 41, 'abs': 700, 'fichiers': ['19_41700_2019 05.FIM']}],\n",
       " 'D420': [{'pr': 10,\n",
       "   'abs': 50,\n",
       "   'fichiers': ['420_10050_2019 11.FIM', '420_10050_2019 07.FIM']},\n",
       "  {'pr': 0,\n",
       "   'abs': 730,\n",
       "   'fichiers': ['420_00730_2019 06.FIM', '420_00730_2019 11.FIM']}],\n",
       " 'D56A': [{'pr': 6, 'abs': 810, 'fichiers': ['56A_06810_2019 10.FIM']},\n",
       "  {'pr': 6, 'abs': 850, 'fichiers': ['56A_06850_2019 05.FIM']}],\n",
       " 'D16': [{'pr': 0,\n",
       "   'abs': 675,\n",
       "   'fichiers': ['16_00675_2019 09.FIM', '16_00675_2019 06.FIM']},\n",
       "  {'pr': 10, 'abs': 120, 'fichiers': ['16_10120_2019 09.FIM']}],\n",
       " 'D115': [{'pr': 13, 'abs': 120, 'fichiers': ['115_13120_2019 07.FIM']}],\n",
       " 'D54': [{'pr': 4,\n",
       "   'abs': 485,\n",
       "   'fichiers': ['54_04485_2019 09.FIM', '54_04485_2019 06.FIM']}]}"
      ]
     },
     "execution_count": 293,
     "metadata": {},
     "output_type": "execute_result"
    }
   ],
   "source": [
    "d87.dico_voie"
   ]
  },
  {
   "cell_type": "code",
   "execution_count": 296,
   "metadata": {},
   "outputs": [],
   "source": [
    "fimpb=it.FIM(r'Q:\\DAIT\\TI\\DREAL33\\2020\\OTV\\Doc_travail\\Donnees_source\\CD87\\CD87- Comptages 2019 Fichiers .fim\\940_05000_2019 09 2.FIM')\n",
    "fimpb.resume_indicateurs()"
   ]
  },
  {
   "cell_type": "markdown",
   "metadata": {},
   "source": [
    "### ***Traiter les donnees***\n",
    "> Pour chaque route référencée dans le dico, on va calculer les TMJA %PL, date_debut, date_fin, type_poste de chaque fichiers puis\n",
    "faire les calculs si necessaires (moyenne si plsr fichiers).<br> ensuite on classe puis update et insert"
   ]
  },
  {
   "cell_type": "code",
   "execution_count": null,
   "metadata": {},
   "outputs": [],
   "source": [
    "#mettre à jour le dico et le transformer en dataframe sans les ponctuels pendant les grandes vacances\n",
    "d87.dataframe_dico_glob()"
   ]
  },
  {
   "cell_type": "code",
   "execution_count": 298,
   "metadata": {},
   "outputs": [
    {
     "ename": "TypeError",
     "evalue": "'>' not supported between instances of 'GeometryArray' and 'int'",
     "output_type": "error",
     "traceback": [
      "\u001b[1;31m---------------------------------------------------------------------------\u001b[0m",
      "\u001b[1;31mTypeError\u001b[0m                                 Traceback (most recent call last)",
      "\u001b[1;32m<ipython-input-298-271ae99722e6>\u001b[0m in \u001b[0;36m<module>\u001b[1;34m\u001b[0m\n\u001b[0;32m      3\u001b[0m d87.classer_comptage_update_insert('gti_otv_pg11','na_2010_2019_p','comptage',\n\u001b[0;32m      4\u001b[0m                                    \u001b[1;34m'public'\u001b[0m\u001b[1;33m,\u001b[0m\u001b[1;34m'd87_cpt_temp'\u001b[0m\u001b[1;33m,\u001b[0m\u001b[1;34m'lineaire.traf2018_bdt87_ed18_l'\u001b[0m\u001b[1;33m,\u001b[0m\u001b[1;33m\u001b[0m\u001b[0m\n\u001b[1;32m----> 5\u001b[1;33m                                   'ref', 'troncon_route_bdt87_ed18_l','troncon_route_bdt87_ed18_l_vertices_pgr','id')\n\u001b[0m",
      "\u001b[1;32m~\\git\\otv\\otv\\Transfert_Donnees\\Import_trafics.py\u001b[0m in \u001b[0;36mclasser_comptage_update_insert\u001b[1;34m(self, bdd, table_cpt, schema_cpt, schema_temp, nom_table_temp, table_linearisation_existante, schema_graph, table_graph, table_vertex, id_name)\u001b[0m\n\u001b[0;32m   1526\u001b[0m         \u001b[1;31m#obtenir une cle de correspondace pour les comptages tournants et permanents\u001b[0m\u001b[1;33m\u001b[0m\u001b[1;33m\u001b[0m\u001b[0m\n\u001b[0;32m   1527\u001b[0m         df_correspondance=self.corresp_old_new_comptag(bdd, schema_temp,nom_table_temp,table_linearisation_existante,\n\u001b[1;32m-> 1528\u001b[1;33m                                         schema_graph, table_graph,table_vertex,id_name)\n\u001b[0m\u001b[0;32m   1529\u001b[0m         \u001b[1;31m#passer la df de correspondance dans le table corresp_id_comptage\u001b[0m\u001b[1;33m\u001b[0m\u001b[1;33m\u001b[0m\u001b[0m\n\u001b[0;32m   1530\u001b[0m         self.insert_bdd(bdd, schema_cpt, 'corresp_id_comptag', \n",
      "\u001b[1;32m~\\git\\otv\\otv\\Transfert_Donnees\\Import_trafics.py\u001b[0m in \u001b[0;36mcorresp_old_new_comptag\u001b[1;34m(self, bdd, schema_temp, nom_table_temp, table_linearisation_existante, schema, table_graph, table_vertex, id_name)\u001b[0m\n\u001b[0;32m    535\u001b[0m             \u001b[1;32mraise\u001b[0m \u001b[0mio\u001b[0m\u001b[1;33m.\u001b[0m\u001b[0mManqueColonneError\u001b[0m\u001b[1;33m(\u001b[0m\u001b[0mcol_manquante\u001b[0m\u001b[1;33m)\u001b[0m\u001b[1;33m\u001b[0m\u001b[0m\n\u001b[0;32m    536\u001b[0m \u001b[1;33m\u001b[0m\u001b[0m\n\u001b[1;32m--> 537\u001b[1;33m         \u001b[0mppv_final\u001b[0m\u001b[1;33m=\u001b[0m\u001b[0mself\u001b[0m\u001b[1;33m.\u001b[0m\u001b[0mplus_proche_voisin_comptage_a_inserer\u001b[0m\u001b[1;33m(\u001b[0m\u001b[0mself\u001b[0m\u001b[1;33m.\u001b[0m\u001b[0mdf_attr_insert\u001b[0m\u001b[1;33m,\u001b[0m\u001b[0mbdd\u001b[0m\u001b[1;33m,\u001b[0m \u001b[0mschema_temp\u001b[0m\u001b[1;33m,\u001b[0m\u001b[0mnom_table_temp\u001b[0m\u001b[1;33m,\u001b[0m\u001b[0mtable_linearisation_existante\u001b[0m\u001b[1;33m)\u001b[0m\u001b[1;33m\u001b[0m\u001b[0m\n\u001b[0m\u001b[0;32m    538\u001b[0m         \u001b[0mprint\u001b[0m\u001b[1;33m(\u001b[0m\u001b[1;34m'plus proche voisin fait'\u001b[0m\u001b[1;33m)\u001b[0m\u001b[1;33m\u001b[0m\u001b[0m\n\u001b[0;32m    539\u001b[0m         \u001b[0mdico_corresp\u001b[0m\u001b[1;33m=\u001b[0m\u001b[0mself\u001b[0m\u001b[1;33m.\u001b[0m\u001b[0mtroncon_elemntaires\u001b[0m\u001b[1;33m(\u001b[0m\u001b[0mbdd\u001b[0m\u001b[1;33m,\u001b[0m \u001b[0mschema\u001b[0m\u001b[1;33m,\u001b[0m \u001b[0mtable_graph\u001b[0m\u001b[1;33m,\u001b[0m\u001b[0mtable_vertex\u001b[0m\u001b[1;33m,\u001b[0m\u001b[0mppv_final\u001b[0m\u001b[1;33m.\u001b[0m\u001b[0mid_ign_lin\u001b[0m\u001b[1;33m.\u001b[0m\u001b[0mtolist\u001b[0m\u001b[1;33m(\u001b[0m\u001b[1;33m)\u001b[0m\u001b[1;33m,\u001b[0m\u001b[0mid_name\u001b[0m\u001b[1;33m)\u001b[0m\u001b[1;33m\u001b[0m\u001b[0m\n",
      "\u001b[1;32m~\\git\\otv\\otv\\Transfert_Donnees\\Import_trafics.py\u001b[0m in \u001b[0;36mplus_proche_voisin_comptage_a_inserer\u001b[1;34m(self, df, bdd, schema_temp, nom_table_temp, table_linearisation_existante)\u001b[0m\n\u001b[0;32m    464\u001b[0m         \u001b[0mpoints_a_inserer_geom\u001b[0m\u001b[1;33m=\u001b[0m\u001b[0mpoints_a_inserer\u001b[0m\u001b[1;33m.\u001b[0m\u001b[0mloc\u001b[0m\u001b[1;33m[\u001b[0m\u001b[1;33m~\u001b[0m\u001b[0mpoints_a_inserer\u001b[0m\u001b[1;33m.\u001b[0m\u001b[0mgeom\u001b[0m\u001b[1;33m.\u001b[0m\u001b[0misna\u001b[0m\u001b[1;33m(\u001b[0m\u001b[1;33m)\u001b[0m\u001b[1;33m]\u001b[0m\u001b[1;33m.\u001b[0m\u001b[0mcopy\u001b[0m\u001b[1;33m(\u001b[0m\u001b[1;33m)\u001b[0m\u001b[1;33m\u001b[0m\u001b[0m\n\u001b[0;32m    465\u001b[0m         \u001b[1;31m#recherche de la ligne la plus proche pour chaque point a inserer\u001b[0m\u001b[1;33m\u001b[0m\u001b[1;33m\u001b[0m\u001b[0m\n\u001b[1;32m--> 466\u001b[1;33m         \u001b[0mppv\u001b[0m\u001b[1;33m=\u001b[0m\u001b[0mO\u001b[0m\u001b[1;33m.\u001b[0m\u001b[0mplus_proche_voisin\u001b[0m\u001b[1;33m(\u001b[0m\u001b[0mpoints_a_inserer_geom\u001b[0m\u001b[1;33m,\u001b[0m\u001b[0mlin_precedente\u001b[0m\u001b[1;33m[\u001b[0m\u001b[1;33m[\u001b[0m\u001b[1;34m'id_ign'\u001b[0m\u001b[1;33m,\u001b[0m\u001b[1;34m'geom'\u001b[0m\u001b[1;33m]\u001b[0m\u001b[1;33m]\u001b[0m\u001b[1;33m,\u001b[0m\u001b[1;36m5\u001b[0m\u001b[1;33m,\u001b[0m\u001b[1;34m'id_comptag'\u001b[0m\u001b[1;33m,\u001b[0m\u001b[1;34m'id_ign'\u001b[0m\u001b[1;33m)\u001b[0m\u001b[1;33m\u001b[0m\u001b[0m\n\u001b[0m\u001b[0;32m    467\u001b[0m         \u001b[1;31m#verifier si il y a un id comptage sur la ligne la plus proche, ne conserver que les lignes où c'est le cas, et recuperer la geom de l'id_comptag_lin\u001b[0m\u001b[1;33m\u001b[0m\u001b[1;33m\u001b[0m\u001b[0m\n\u001b[0;32m    468\u001b[0m         \u001b[1;31m#(les points issu de lin sans geom ne sont pas conserves, et on a besoin de passer les donnees en gdf)\u001b[0m\u001b[1;33m\u001b[0m\u001b[1;33m\u001b[0m\u001b[0m\n",
      "\u001b[1;32m~\\git\\Outils\\Outils\\Martin_Perso\\Outils.py\u001b[0m in \u001b[0;36mplus_proche_voisin\u001b[1;34m(df_src, df_comp, dist_recherche, id_df_src, id_df_comp, same)\u001b[0m\n\u001b[0;32m    228\u001b[0m     \u001b[0mdf_src_temp\u001b[0m\u001b[1;33m[\u001b[0m\u001b[1;34m'geom_src'\u001b[0m\u001b[1;33m]\u001b[0m\u001b[1;33m=\u001b[0m\u001b[0mdf_src_temp\u001b[0m\u001b[1;33m.\u001b[0m\u001b[0mgeometry\u001b[0m \u001b[1;31m#stocker la geometrie source\u001b[0m\u001b[1;33m\u001b[0m\u001b[0m\n\u001b[0;32m    229\u001b[0m     \u001b[0mdf_src_temp\u001b[0m\u001b[1;33m.\u001b[0m\u001b[0mgeometry\u001b[0m\u001b[1;33m=\u001b[0m\u001b[0mdf_src_temp\u001b[0m\u001b[1;33m.\u001b[0m\u001b[0mbuffer\u001b[0m\u001b[1;33m(\u001b[0m\u001b[0mdist_recherche\u001b[0m\u001b[1;33m)\u001b[0m\u001b[1;31m#passer la geom en buffer\u001b[0m\u001b[1;33m\u001b[0m\u001b[0m\n\u001b[1;32m--> 230\u001b[1;33m     \u001b[0mintersct_buff\u001b[0m\u001b[1;33m=\u001b[0m\u001b[0mgp\u001b[0m\u001b[1;33m.\u001b[0m\u001b[0msjoin\u001b[0m\u001b[1;33m(\u001b[0m\u001b[0mdf_src_temp\u001b[0m\u001b[1;33m,\u001b[0m\u001b[0mdf_comp_temp\u001b[0m\u001b[1;33m,\u001b[0m\u001b[0mhow\u001b[0m\u001b[1;33m=\u001b[0m\u001b[1;34m'left'\u001b[0m\u001b[1;33m,\u001b[0m\u001b[0mop\u001b[0m\u001b[1;33m=\u001b[0m\u001b[1;34m'intersects'\u001b[0m\u001b[1;33m)\u001b[0m \u001b[1;31m#chcrecher les objets qui intersectent\u001b[0m\u001b[1;33m\u001b[0m\u001b[0m\n\u001b[0m\u001b[0;32m    231\u001b[0m     \u001b[0mintersct_buff\u001b[0m\u001b[1;33m.\u001b[0m\u001b[0mgeometry\u001b[0m\u001b[1;33m=\u001b[0m\u001b[0mdf_src_temp\u001b[0m\u001b[1;33m.\u001b[0m\u001b[0mgeom_src\u001b[0m\u001b[1;31m#repasser la geom en point\u001b[0m\u001b[1;33m\u001b[0m\u001b[0m\n\u001b[0;32m    232\u001b[0m \u001b[1;33m\u001b[0m\u001b[0m\n",
      "\u001b[1;32mc:\\users\\martin.schoreisz\\appdata\\local\\programs\\python\\python37\\lib\\site-packages\\geopandas\\tools\\sjoin.py\u001b[0m in \u001b[0;36msjoin\u001b[1;34m(left_df, right_df, how, op, lsuffix, rsuffix)\u001b[0m\n\u001b[0;32m    109\u001b[0m             \u001b[1;32mlambda\u001b[0m \u001b[0mx\u001b[0m\u001b[1;33m:\u001b[0m \u001b[0mlist\u001b[0m\u001b[1;33m(\u001b[0m\u001b[0mtree_idx\u001b[0m\u001b[1;33m.\u001b[0m\u001b[0mintersection\u001b[0m\u001b[1;33m(\u001b[0m\u001b[0mx\u001b[0m\u001b[1;33m)\u001b[0m\u001b[1;33m)\u001b[0m \u001b[1;32mif\u001b[0m \u001b[1;32mnot\u001b[0m \u001b[0mx\u001b[0m \u001b[1;33m==\u001b[0m \u001b[1;33m(\u001b[0m\u001b[1;33m)\u001b[0m \u001b[1;32melse\u001b[0m \u001b[1;33m[\u001b[0m\u001b[1;33m]\u001b[0m\u001b[1;33m\u001b[0m\u001b[0m\n\u001b[0;32m    110\u001b[0m         )\n\u001b[1;32m--> 111\u001b[1;33m         \u001b[0midxmatch\u001b[0m \u001b[1;33m=\u001b[0m \u001b[0midxmatch\u001b[0m\u001b[1;33m[\u001b[0m\u001b[0midxmatch\u001b[0m\u001b[1;33m.\u001b[0m\u001b[0mapply\u001b[0m\u001b[1;33m(\u001b[0m\u001b[0mlen\u001b[0m\u001b[1;33m)\u001b[0m \u001b[1;33m>\u001b[0m \u001b[1;36m0\u001b[0m\u001b[1;33m]\u001b[0m\u001b[1;33m\u001b[0m\u001b[0m\n\u001b[0m\u001b[0;32m    112\u001b[0m         \u001b[1;31m# indexes of overlapping boundaries\u001b[0m\u001b[1;33m\u001b[0m\u001b[1;33m\u001b[0m\u001b[0m\n\u001b[0;32m    113\u001b[0m         \u001b[1;32mif\u001b[0m \u001b[0midxmatch\u001b[0m\u001b[1;33m.\u001b[0m\u001b[0mshape\u001b[0m\u001b[1;33m[\u001b[0m\u001b[1;36m0\u001b[0m\u001b[1;33m]\u001b[0m \u001b[1;33m>\u001b[0m \u001b[1;36m0\u001b[0m\u001b[1;33m:\u001b[0m\u001b[1;33m\u001b[0m\u001b[0m\n",
      "\u001b[1;32mc:\\users\\martin.schoreisz\\appdata\\local\\programs\\python\\python37\\lib\\site-packages\\pandas\\core\\ops.py\u001b[0m in \u001b[0;36mwrapper\u001b[1;34m(self, other, axis)\u001b[0m\n\u001b[0;32m   1729\u001b[0m             \u001b[1;31m# Note: the `not is_scalar(other)` condition rules out\u001b[0m\u001b[1;33m\u001b[0m\u001b[1;33m\u001b[0m\u001b[0m\n\u001b[0;32m   1730\u001b[0m             \u001b[1;31m# e.g. other == \"category\"\u001b[0m\u001b[1;33m\u001b[0m\u001b[1;33m\u001b[0m\u001b[0m\n\u001b[1;32m-> 1731\u001b[1;33m             \u001b[1;32mreturn\u001b[0m \u001b[0mdispatch_to_extension_op\u001b[0m\u001b[1;33m(\u001b[0m\u001b[0mop\u001b[0m\u001b[1;33m,\u001b[0m \u001b[0mself\u001b[0m\u001b[1;33m,\u001b[0m \u001b[0mother\u001b[0m\u001b[1;33m)\u001b[0m\u001b[1;33m\u001b[0m\u001b[0m\n\u001b[0m\u001b[0;32m   1732\u001b[0m \u001b[1;33m\u001b[0m\u001b[0m\n\u001b[0;32m   1733\u001b[0m         \u001b[1;32melif\u001b[0m \u001b[0misinstance\u001b[0m\u001b[1;33m(\u001b[0m\u001b[0mother\u001b[0m\u001b[1;33m,\u001b[0m \u001b[0mABCSeries\u001b[0m\u001b[1;33m)\u001b[0m\u001b[1;33m:\u001b[0m\u001b[1;33m\u001b[0m\u001b[0m\n",
      "\u001b[1;32mc:\\users\\martin.schoreisz\\appdata\\local\\programs\\python\\python37\\lib\\site-packages\\pandas\\core\\ops.py\u001b[0m in \u001b[0;36mdispatch_to_extension_op\u001b[1;34m(op, left, right)\u001b[0m\n\u001b[0;32m   1218\u001b[0m         \u001b[0mnew_right\u001b[0m \u001b[1;33m=\u001b[0m \u001b[0mright\u001b[0m\u001b[1;33m\u001b[0m\u001b[0m\n\u001b[0;32m   1219\u001b[0m \u001b[1;33m\u001b[0m\u001b[0m\n\u001b[1;32m-> 1220\u001b[1;33m     \u001b[0mres_values\u001b[0m \u001b[1;33m=\u001b[0m \u001b[0mop\u001b[0m\u001b[1;33m(\u001b[0m\u001b[0mnew_left\u001b[0m\u001b[1;33m,\u001b[0m \u001b[0mnew_right\u001b[0m\u001b[1;33m)\u001b[0m\u001b[1;33m\u001b[0m\u001b[0m\n\u001b[0m\u001b[0;32m   1221\u001b[0m     \u001b[0mres_name\u001b[0m \u001b[1;33m=\u001b[0m \u001b[0mget_op_result_name\u001b[0m\u001b[1;33m(\u001b[0m\u001b[0mleft\u001b[0m\u001b[1;33m,\u001b[0m \u001b[0mright\u001b[0m\u001b[1;33m)\u001b[0m\u001b[1;33m\u001b[0m\u001b[0m\n\u001b[0;32m   1222\u001b[0m \u001b[1;33m\u001b[0m\u001b[0m\n",
      "\u001b[1;31mTypeError\u001b[0m: '>' not supported between instances of 'GeometryArray' and 'int'"
     ]
    }
   ],
   "source": [
    "#preparer les données\n",
    "#attention cela comprend un script d'identification des points pas forcément nécéssaire\n",
    "d87.classer_comptage_update_insert('gti_otv_pg11','na_2010_2019_p','comptage',\n",
    "                                   'public','d87_cpt_temp','lineaire.traf2018_bdt87_ed18_l',\n",
    "                                  'ref', 'troncon_route_bdt87_ed18_l','troncon_route_bdt87_ed18_l_vertices_pgr','id')"
   ]
  },
  {
   "cell_type": "code",
   "execution_count": null,
   "metadata": {},
   "outputs": [],
   "source": [
    "#mettre à jour les données\n",
    "d87.update_bdd_d87('gti_otv_pg11','na_2010_2018_p','comptage')\n",
    "#insérer les données et mettre à jour les geom\n",
    "d87.insert_bdd_d87('gti_otv_pg11','na_2010_2018_p','comptage')"
   ]
  },
  {
   "cell_type": "code",
   "execution_count": null,
   "metadata": {},
   "outputs": [],
   "source": [
    "d87.update_bdd_d87('local_otv_station_gti','na_2010_2019_p','comptage')"
   ]
  },
  {
   "cell_type": "markdown",
   "metadata": {},
   "source": [
    "# ***CD 16***\n",
    "- Année 2018 : \n",
    "> à partir du fichier D:\\temp\\otv\\Donnees_source\\CD16\\B15_2018.xlsx on traite les permanents.<br> à partir des donnees sur PIGMA on traite les compteurs temporaires <br>***attention : il y a aussi des données de comptages temporaires en FIM qui permettront d'obtenir de la données horaires***"
   ]
  },
  {
   "cell_type": "code",
   "execution_count": null,
   "metadata": {},
   "outputs": [],
   "source": [
    "#2018\n",
    "cd16=it.Comptage_cd16(r'D:\\temp\\otv\\Donnees_source\\CD16\\B15_2018.xlsx',r'D:\\temp\\otv\\Donnees_source\\CD16\\pigma\\comptages_routiers_2019\\comptages_routiers.shp',\n",
    "                      r'D:\\temp\\otv\\Donnees_source\\CD16\\pigma\\position_compteurs_2019\\position_compteurs.shp',2018)\n",
    "cd16.comptage_forme()\n",
    "cd16.classer_comptage_update_insert('local_otv', 'na_2010_2018_p')\n",
    "\n",
    "cd16.classer_comptage_update_insert('local_otv', 'na_2010_2018_p')\n",
    "\n",
    "cd16.update_bdd_16('local_otv','comptage','na_2010_2018_p')"
   ]
  },
  {
   "cell_type": "code",
   "execution_count": null,
   "metadata": {},
   "outputs": [],
   "source": [
    "#2019\n",
    "cd16=it.Comptage_cd16(r'D:\\temp\\otv\\2019\\Donnees_source\\CD16\\B15_2019.xlsx',r'D:\\temp\\otv\\2019\\Donnees_source\\CD16\\SIG_Comptages_CD16\\Comptages_routiers.shp',\n",
    "                      r'D:\\temp\\otv\\2019\\Donnees_source\\CD16\\SIG_Comptages_CD16\\Position_compteurs.shp',2019)\n",
    "cpt_a_ignorer=('16-D731-27+45','16-D910-23+821', '16-D1000-16+35')\n",
    "cd16.comptage_forme(7,('16-D731-27+45','16-D910-23+821', '16-D1000-16+35'),r'D:\\temp\\otv\\2019\\Donnees_source\\CD16\\Comptages_secondaires_CD16_2019')\n",
    "cd16.classer_comptage_update_insert('local_otv_station_gti', 'na_2010_2019_p')\n",
    "#cd16.update_bdd_16('local_otv_station_gti','comptage', 'na_2010_2019_p')\n",
    "#cd16.insert_bdd('local_otv_station_gti','comptage','na_2010_2019_mensuel',cd16.df_attr_mens)\n",
    "#cd16.insert_bdd('local_otv_station_gti','comptage','na_2010_2019_horaire',cd16.df_attr_horaire)"
   ]
  },
  {
   "cell_type": "markdown",
   "metadata": {},
   "source": [
    "# ***CD 86***\n",
    "Attention , dans ce département parfois ce sont les données en PLOD et ASCD qui sont ok, parfois c'est le cumulD <br>\n",
    "Dans ce Dept, les Compmtages dites 'Secondaires' sont équivalent à 'tournants', et 'Tournants' equivalent à 'ponctuel'\n",
    "- Année 2018 : \n",
    "> à partir des fichier D:\\temp\\otv\\Donnees_source\\CD86\\comptages permanents 2018.xlsx et  D:\\temp\\otv\\Donnees_source\\CD86\\Postes secondaires 2018.xls on traite les permanents et secondaires <br> il y a un petit pb sur les compteurs permanents entre la donnees pr+abs chez nous et la leur dans le tableau, donc il faut la premiere fois tout passer dans la table de correspondance.<br> dans ce dept pas de nouveau points\n",
    "- Année 2019 : \n",
    "> un seul fichier avec les comptages sur 2feuilles : permanents et tournants.<br> la feuille permanent contient aussi des données 'Tournant' qui sont masquées, pour lesquelles les reference en abscisse sont tuojours à 0<br> 3 nouveaux points tournants ajoutés à  la main, le reste des ponctuels en auto"
   ]
  },
  {
   "cell_type": "code",
   "execution_count": null,
   "metadata": {
    "jupyter": {
     "source_hidden": true
    }
   },
   "outputs": [],
   "source": [
    "#2018\n",
    "cd86=it.Comptage_cd86(r'D:\\temp\\otv\\Donnees_source\\CD86\\comptages permanents 2018.xlsx',r'D:\\temp\\otv\\Donnees_source\\CD86\\Postes secondaires 2018.xls')\n",
    "\n",
    "#si besoin de dico corresp : \n",
    "corr=cd86.corresp_perm('local_otv', 'na_2010_2018_p')\n",
    "cd86.insert_bdd('local_otv', 'comptage','corresp_id_comptag',corr)\n",
    "\n",
    "#sinon\n",
    "cd86.comptage_forme()\n",
    "cd86.classer_comptage_update_insert('local_otv', 'na_2010_2018_p')\n",
    "cd86.update_bdd_86('local_otv','comptage','na_2010_2018_p')"
   ]
  },
  {
   "cell_type": "code",
   "execution_count": null,
   "metadata": {},
   "outputs": [],
   "source": [
    "#2019\n",
    "cd86=it.Comptage_cd86(r'D:\\temp\\otv\\2019\\Donnees_source\\CD86\\Comptages globaux 2019 tournants et permanents.xlsx',r'D:\\temp\\otv\\2019\\Donnees_source\\CD86\\Comptages globaux 2019 tournants et permanents.xlsx',2019,\n",
    "                     'permanents','secondaires')\n",
    "cd86.comptage_forme('local_otv_station_gti', 'na_2010_2019_p')\n",
    "cd86.classer_comptage_update_insert('local_otv_station_gti', 'na_2010_2019_p')\n",
    "cd86.update_bdd_86('local_otv_station_gti','comptage','na_2010_2019_p')"
   ]
  },
  {
   "cell_type": "code",
   "execution_count": null,
   "metadata": {},
   "outputs": [],
   "source": [
    "cd86.classer_comptage_update_insert('local_otv_station_gti', 'na_2010_2019_p')"
   ]
  },
  {
   "cell_type": "code",
   "execution_count": null,
   "metadata": {},
   "outputs": [],
   "source": [
    "cd86.df_attr_insert['dep']='86'\n",
    "cd86.df_attr_insert['reseau']='RD'\n",
    "cd86.df_attr_insert['gestionnai']='CD86'\n",
    "cd86.df_attr_insert['concession']='N'\n",
    "cd86.df_attr_insert['obs']=\"nouveau_point 2019, denomination CD86='tournant'\"\n",
    "cd86.df_attr_insert.rename(columns={'absc' : 'abs', 'tmja':'tmja_'+str(cd86.annee),'pc_pl':'pc_pl_'+str(cd86.annee),'obs':'obs_'+str(cd86.annee), 'src':'src_'+str(cd86.annee)},inplace=True)"
   ]
  },
  {
   "cell_type": "code",
   "execution_count": null,
   "metadata": {},
   "outputs": [],
   "source": [
    "cd86.insert_bdd_86('local_otv_station_gti', 'comptage','na_2010_2019_p')"
   ]
  },
  {
   "cell_type": "markdown",
   "metadata": {},
   "source": [
    "# ***CD 24***\n",
    "- Année 2018 : \n",
    "> à partir des fichier D:\\temp\\otv\\Donnees_source\\CD24\\2018_CD24_trafic.csv <br> il n'y a que les compteurs permanents.<br> **Données Mensuelles dispos**.<br> Pensez que des céhanges ont ue lieu pour récupérer tous les points de comptages (perm, tourn, ponct). <br> ***Gros pb de geooloc des PR ign***"
   ]
  },
  {
   "cell_type": "code",
   "execution_count": null,
   "metadata": {},
   "outputs": [],
   "source": [
    "cd24=it.Comptage_cd24(r'D:\\temp\\otv\\Donnees_source\\CD24\\2018_CD24_trafic.csv')\n",
    "cd24.comptage_forme()\n",
    "cd24.classer_comptage_update_insert('local_otv_station_gti', 'na_2010_2018_p')"
   ]
  },
  {
   "cell_type": "code",
   "execution_count": null,
   "metadata": {},
   "outputs": [],
   "source": [
    "cd24.update_bdd_24('local_otv_station_gti', 'comptage', 'na_2010_2018_p')"
   ]
  },
  {
   "cell_type": "code",
   "execution_count": null,
   "metadata": {},
   "outputs": [],
   "source": [
    "cd24.insert_bdd_24('local_otv_station_gti', 'comptage', 'na_2010_2018_p')"
   ]
  },
  {
   "cell_type": "markdown",
   "metadata": {},
   "source": [
    "Année 2019 : \n",
    ">à partir du fichier Q:\\DAIT\\TI\\DREAL33\\2020\\OTV\\Doc_travail\\Donnees_source\\CD24\n",
    "que les compteurs permanents\n",
    "des échanges avait eu lieu en 2018 pour tout récupérer, en direct entre Cerema et CD24. Relancer le CD24"
   ]
  },
  {
   "cell_type": "code",
   "execution_count": null,
   "metadata": {},
   "outputs": [],
   "source": [
    "cd24=it.Comptage_cd24(r'Q:\\DAIT\\TI\\DREAL33\\2020\\OTV\\Doc_travail\\Donnees_source\\CD24\\DONNEES COMPTAGES 2019 CD24.csv',2019)\n",
    "cd24.comptage_forme()\n",
    "cd24.classer_comptage_update_insert('gti_otv_pg11', 'na_2010_2019_p')\n",
    "cd24.update_bdd_24('gti_otv_pg11', 'comptage', 'na_2010_2019_p')\n",
    "cd24.insert_bdd('gti_otv_pg11', 'comptage', 'na_2010_2019_mensuel', cd24.df_attr_mens)"
   ]
  },
  {
   "cell_type": "markdown",
   "metadata": {},
   "source": [
    "# ***SCA***\n",
    "- Année 2018 : \n",
    "> Concerne COFIROUTE, VINCI, ALIENOR, ATLANDES.<br> Des données de correspondances id_comptages sont dans la table source de la base de données otv.<br> **Donnees TMJM dispos**"
   ]
  },
  {
   "cell_type": "markdown",
   "metadata": {},
   "source": [
    "- ### COFIROUTE \n",
    "> Que 5 points, faits à la main"
   ]
  },
  {
   "cell_type": "markdown",
   "metadata": {},
   "source": [
    "- ### VINCI \n",
    "> L'idée c'est d'importer le tableur et les données et de faire la jointure pour mise à jour.<br>**ATTENTION : rien de prévu si nouveau points** "
   ]
  },
  {
   "cell_type": "code",
   "execution_count": null,
   "metadata": {},
   "outputs": [],
   "source": [
    "#2018\n",
    "cpt=it.Comptage_vinci(r'D:\\temp\\otv\\Donnees_source\\VINCI\\2018_comptage_vitesse_moyenne_VINCI.xlsx')\n",
    "cpt.update_bdd_Vinci('local_otv_station_gti', 'comptage', 'na_2010_2018_p')"
   ]
  },
  {
   "cell_type": "code",
   "execution_count": null,
   "metadata": {},
   "outputs": [],
   "source": [
    "#2019\n",
    "cpt=it.Comptage_vinci(r'D:\\temp\\otv\\2019\\Donnees_source\\ASF\\bdd_point_comptage et vitesse moyenne 2019.xlsx', 2019)\n",
    "cpt.update_bdd_Vinci('local_otv_station_gti', 'comptage', 'na_2010_2019_p')\n",
    "#cpt.insert_bdd('local_otv_station_gti', 'comptage', 'na_2010_2019_mensuel',cpt.df_attr_mens)"
   ]
  },
  {
   "cell_type": "markdown",
   "metadata": {},
   "source": [
    "- ### ALIENOR / ATLANDES\n",
    "> Que 7 points chaucun, j'utilise surtout là pour les donees mensuelles"
   ]
  },
  {
   "cell_type": "code",
   "execution_count": null,
   "metadata": {},
   "outputs": [],
   "source": [
    "alienor=it.Comptage_alienor(r'D:\\temp\\otv\\2019\\Donnees_source\\ALIENOR\\ALIENOR_trafic_2019.xlsx',2019)\n",
    "alienor.ouvrir_et_separe_donnees()\n",
    "alienor.update_bdd_Alienor('local_otv_station_gti', 'comptage', 'na_2010_2019_p')\n",
    "alienor.insert_bdd('local_otv_station_gti', 'comptage', 'na_2010_2019_mensuel',alienor.df_attr_mens)"
   ]
  },
  {
   "cell_type": "code",
   "execution_count": null,
   "metadata": {},
   "outputs": [],
   "source": [
    "atlandes=it.Comptage_atlandes(r'D:\\temp\\otv\\2019\\Donnees_source\\ATLANDES\\2019_trafic_atlandes_7_boucles.xls',2019)\n",
    "atlandes.donnees_mens()\n",
    "alienor.insert_bdd('local_otv_station_gti', 'comptage', 'na_2010_2019_mensuel',atlandes.df_attr_mens)"
   ]
  },
  {
   "cell_type": "markdown",
   "metadata": {},
   "source": [
    "# ***Grand Poitiers***\n",
    "> on a deja un fichier dans la base de donnees : on va chercher a greffer les donnees et a cree un nouvel id_comptag"
   ]
  },
  {
   "cell_type": "code",
   "execution_count": null,
   "metadata": {},
   "outputs": [],
   "source": [
    "#ouvrir un fichier\n",
    "dossier=r'D:\\temp\\otv\\2019\\Donnees_source\\GP\\Automatiques 2019'\n",
    "cpt=it.Comptage_GrandPoitiers(r'D:\\temp\\otv\\2019\\Donnees_source\\GP\\Automatiques 2019',2019)\n",
    "cpt.comptage_forme('local_otv_station_gti')\n",
    "cpt.update_bdd_grdPoi('local_otv_station_gti', 'comptage', 'na_2010_2019_p')"
   ]
  },
  {
   "cell_type": "code",
   "execution_count": null,
   "metadata": {},
   "outputs": [],
   "source": [
    "cpt.insert_bdd('local_otv_station_gti', 'comptage', 'na_2010_2019_horaire', cpt.df_attr_horaire)"
   ]
  },
  {
   "cell_type": "markdown",
   "metadata": {},
   "source": [
    "# ***Ville Anglet***\n",
    "> Ci-dessous simplement un exemple d'ouverture de fcihier .mdb, de liste des tables et de lecture d'une table"
   ]
  },
  {
   "cell_type": "code",
   "execution_count": null,
   "metadata": {},
   "outputs": [],
   "source": [
    "with ct.ConnexionBdd('mdb', fichierMdb=r'Q:\\DAIT\\TI\\DREAL33\\2020\\OTV\\Doc_travail\\Donnees_source\\Anglet_Commune\\COMPTAGES ANGLET\\Comptages 2019\\donnees brutes\\1.Av .des Dauphins.mdb') as c:\n",
    "    tables = list(c.mdbCurs.tables())\n",
    "    query = \"SELECT * FROM A1\"\n",
    "    df = pd.read_sql(query, c.connexionMdb)"
   ]
  },
  {
   "cell_type": "code",
   "execution_count": null,
   "metadata": {},
   "outputs": [],
   "source": [
    "tables"
   ]
  },
  {
   "cell_type": "code",
   "execution_count": null,
   "metadata": {},
   "outputs": [],
   "source": [
    "df.head(1)"
   ]
  },
  {
   "cell_type": "markdown",
   "metadata": {},
   "source": [
    "# ***Ville Niort***\n",
    "> 2020 : une dizaine de ponts de comptage. l'enjeu est sur al localisation "
   ]
  },
  {
   "cell_type": "code",
   "execution_count": null,
   "metadata": {},
   "outputs": [],
   "source": [
    "#creation des donnees a transferer\n",
    "cpt_niort=it.Comptage_Niort(r'D:\\temp\\otv\\2019\\Donnees_source\\Niort\\NIORT_COMPTAGE_ROUTIER_2020\\2020',2020)\n",
    "dico_id_comptag={\n",
    "'Niort-rue_alsace_lorraine--0,4580;46,3287' : '01 2020 Alsace Lorraine',\n",
    "'Niort-boulevard_cassin--0,4523;46,3223' :'01 2020 Rue Terraudiere Bld Cassin_2',\n",
    "'Niort-rue_terraudiere--0,4524;46,3228' :'01 2020 Rue Terraudiere Bld Cassin_1',\n",
    "'Niort-rue_chateau_menu--0,4524;46,3592': '02 2020 Chateau Menu',\n",
    "'Niort-rue_de_souche--0,4345;46,3260':'02 2020 rue de Souché',\n",
    "'Niort-rue_du_24_fevrier--0,4628;46,3212':'03 2020 24 Février',\n",
    "'Niort-avenue_de_paris--0,4458;46,3285':'03 2020 Paris',\n",
    "'Niort-avenue_saint_jean_angely--0,4656;46,3203':'03 2020 St Jean',\n",
    "'Niort-rue_14_juillet--0,4560;46,3233':'01 2020 Limoges 14 Juillet_2',\n",
    "'Niort-rue_marechal_leclerc--0,4400;46,3527':'01 2020 Mal Leclerc',\n",
    "'Niort-avenue_de_limoges--0,4565;46,3221':'01 2020 Limoges 14 Juillet_1',\n",
    "'Niort-rue_de_la_la_gare--0,4578;46,3203':'01 2020 rue de la gare'}\n",
    "dico_fichiers_final=cpt_niort.creer_dico(dico_id_comptag)\n",
    "cpt_niort.horaire_tout_cpt(dico_fichiers_final)\n",
    "cpt_niort.agrege_tout_cpt(dico_fichiers_final)"
   ]
  },
  {
   "cell_type": "code",
   "execution_count": null,
   "metadata": {},
   "outputs": [],
   "source": [
    "cpt_niort.df_attr"
   ]
  },
  {
   "cell_type": "code",
   "execution_count": null,
   "metadata": {},
   "outputs": [],
   "source": [
    "val_txt=cpt_niort.creer_valeur_txt_update(cpt_niort.df_attr, ['id_comptag','tmja','pc_pl', 'src'])\n",
    "cpt_niort.update_bdd('local_otv_station_gti', 'comptage', 'na_2010_2019_p', val_txt,{f'tmja_{str(cpt_niort.annee)}':'tmja',f'pc_pl_{str(cpt_niort.annee)}':'pc_pl', f'src_{str(cpt_niort.annee)}':'src'})\n",
    "cpt_niort.insert_bdd('local_otv_station_gti', 'comptage', 'na_2010_2019_horaire', cpt_niort.df_attr_horaire)"
   ]
  },
  {
   "cell_type": "markdown",
   "metadata": {},
   "source": [
    "> ## 2016 a 2019 : \n",
    "on peut creer le dico_id_comptag a partir des donnees stockes dans la table (geom, id des fchiers, reference du dossier)"
   ]
  },
  {
   "cell_type": "code",
   "execution_count": 329,
   "metadata": {},
   "outputs": [],
   "source": [
    "dossier_src=r'Q:\\DAIT\\TI\\DREAL33\\2020\\OTV\\Doc_travail\\Donnees_source\\Niort\\comptages_2016_2019\\CEREMA'\n",
    "annees=['2016','2017','2018','2019']\n",
    "dico_dossier_src={annee:os.path.join(dossier_src, annee) for annee in annees}"
   ]
  },
  {
   "cell_type": "code",
   "execution_count": 324,
   "metadata": {},
   "outputs": [],
   "source": [
    "with ct.ConnexionBdd('gti_otv_pg11') as c : \n",
    "    rqt=\"select id_comptag, id_cpt, fichier from comptage.na_2010_2019_p where id_comptag like 'Niort%%' and fichier IS NOT null\"\n",
    "    ids=pd.read_sql(rqt, c.sqlAlchemyConn)"
   ]
  },
  {
   "cell_type": "code",
   "execution_count": 330,
   "metadata": {},
   "outputs": [],
   "source": [
    "dico_id_comptag={id_comptag:[os.path.join(d,f) for f in id_cpt.split(';')] for id_comptag,id_cpt,d in \n",
    "                 zip(ids.id_comptag.tolist(),ids.id_cpt.tolist(),ids.fichier.tolist()) }"
   ]
  },
  {
   "cell_type": "code",
   "execution_count": 353,
   "metadata": {},
   "outputs": [
    {
     "name": "stdout",
     "output_type": "stream",
     "text": [
      "Niort-quai maurice metayer--0.488;46.3361\n"
     ]
    },
    {
     "ename": "TypeError",
     "evalue": "cannot concatenate object of type \"<class 'list'>\"; only pd.Series, pd.DataFrame, and pd.Panel (deprecated) objs are valid",
     "output_type": "error",
     "traceback": [
      "\u001b[1;31m---------------------------------------------------------------------------\u001b[0m",
      "\u001b[1;31mTypeError\u001b[0m                                 Traceback (most recent call last)",
      "\u001b[1;32m<ipython-input-353-b8427b9fb38e>\u001b[0m in \u001b[0;36m<module>\u001b[1;34m\u001b[0m\n\u001b[0;32m      4\u001b[0m     \u001b[1;32mfor\u001b[0m \u001b[0mk\u001b[0m\u001b[1;33m,\u001b[0m \u001b[0mv\u001b[0m \u001b[1;32min\u001b[0m \u001b[0mdico_limite\u001b[0m\u001b[1;33m.\u001b[0m\u001b[0mitems\u001b[0m\u001b[1;33m(\u001b[0m\u001b[1;33m)\u001b[0m \u001b[1;33m:\u001b[0m\u001b[1;33m\u001b[0m\u001b[0m\n\u001b[0;32m      5\u001b[0m         \u001b[0mprint\u001b[0m\u001b[1;33m(\u001b[0m\u001b[0mk\u001b[0m\u001b[1;33m)\u001b[0m\u001b[1;33m\u001b[0m\u001b[0m\n\u001b[1;32m----> 6\u001b[1;33m         \u001b[0mtest\u001b[0m\u001b[1;33m=\u001b[0m\u001b[1;33m[\u001b[0m\u001b[0mcpt_niort\u001b[0m\u001b[1;33m.\u001b[0m\u001b[0mhoraire_2_sens\u001b[0m\u001b[1;33m(\u001b[0m\u001b[0mk\u001b[0m\u001b[1;33m,\u001b[0m\u001b[1;33m[\u001b[0m\u001b[0mcpt_niort\u001b[0m\u001b[1;33m.\u001b[0m\u001b[0mtraiter_csv_sens_unique\u001b[0m\u001b[1;33m(\u001b[0m\u001b[0mf\u001b[0m\u001b[1;33m)\u001b[0m\u001b[1;33m[\u001b[0m\u001b[1;36m4\u001b[0m\u001b[1;33m]\u001b[0m \u001b[1;32mfor\u001b[0m \u001b[0mf\u001b[0m \u001b[1;32min\u001b[0m \u001b[0mv\u001b[0m\u001b[1;33m]\u001b[0m\u001b[1;33m)\u001b[0m\u001b[1;33m]\u001b[0m\u001b[1;33m\u001b[0m\u001b[0m\n\u001b[0m\u001b[0;32m      7\u001b[0m     \u001b[1;32mbreak\u001b[0m\u001b[1;33m\u001b[0m\u001b[0m\n",
      "\u001b[1;32m~\\git\\otv\\otv\\Transfert_Donnees\\Import_trafics.py\u001b[0m in \u001b[0;36mhoraire_2_sens\u001b[1;34m(self, id_comptag, *df_sens)\u001b[0m\n\u001b[0;32m   2285\u001b[0m         \"\"\"\n\u001b[0;32m   2286\u001b[0m \u001b[1;33m\u001b[0m\u001b[0m\n\u001b[1;32m-> 2287\u001b[1;33m         \u001b[0mdf_finale\u001b[0m\u001b[1;33m=\u001b[0m\u001b[0mpd\u001b[0m\u001b[1;33m.\u001b[0m\u001b[0mconcat\u001b[0m\u001b[1;33m(\u001b[0m\u001b[0mdf_sens\u001b[0m\u001b[1;33m,\u001b[0m \u001b[0maxis\u001b[0m\u001b[1;33m=\u001b[0m\u001b[1;36m0\u001b[0m\u001b[1;33m,\u001b[0m \u001b[0msort\u001b[0m\u001b[1;33m=\u001b[0m\u001b[1;32mFalse\u001b[0m\u001b[1;33m)\u001b[0m\u001b[1;33m\u001b[0m\u001b[0m\n\u001b[0m\u001b[0;32m   2288\u001b[0m         \u001b[0mdf_finale\u001b[0m\u001b[1;33m=\u001b[0m\u001b[0mdf_finale\u001b[0m\u001b[1;33m.\u001b[0m\u001b[0mgroupby\u001b[0m\u001b[1;33m(\u001b[0m\u001b[1;33m[\u001b[0m\u001b[1;34m'jour'\u001b[0m\u001b[1;33m,\u001b[0m\u001b[1;34m'type_veh'\u001b[0m\u001b[1;33m]\u001b[0m\u001b[1;33m)\u001b[0m\u001b[1;33m.\u001b[0m\u001b[0msum\u001b[0m\u001b[1;33m(\u001b[0m\u001b[1;33m)\u001b[0m\u001b[1;33m.\u001b[0m\u001b[0mreset_index\u001b[0m\u001b[1;33m(\u001b[0m\u001b[1;33m)\u001b[0m\u001b[1;33m\u001b[0m\u001b[0m\n\u001b[0;32m   2289\u001b[0m         \u001b[0mdf_finale\u001b[0m\u001b[1;33m[\u001b[0m\u001b[1;34m'id_comptag'\u001b[0m\u001b[1;33m]\u001b[0m\u001b[1;33m=\u001b[0m\u001b[0mid_comptag\u001b[0m\u001b[1;33m\u001b[0m\u001b[0m\n",
      "\u001b[1;32mc:\\users\\martin.schoreisz\\appdata\\local\\programs\\python\\python37\\lib\\site-packages\\pandas\\core\\reshape\\concat.py\u001b[0m in \u001b[0;36mconcat\u001b[1;34m(objs, axis, join, join_axes, ignore_index, keys, levels, names, verify_integrity, sort, copy)\u001b[0m\n\u001b[0;32m    226\u001b[0m                        \u001b[0mkeys\u001b[0m\u001b[1;33m=\u001b[0m\u001b[0mkeys\u001b[0m\u001b[1;33m,\u001b[0m \u001b[0mlevels\u001b[0m\u001b[1;33m=\u001b[0m\u001b[0mlevels\u001b[0m\u001b[1;33m,\u001b[0m \u001b[0mnames\u001b[0m\u001b[1;33m=\u001b[0m\u001b[0mnames\u001b[0m\u001b[1;33m,\u001b[0m\u001b[1;33m\u001b[0m\u001b[0m\n\u001b[0;32m    227\u001b[0m                        \u001b[0mverify_integrity\u001b[0m\u001b[1;33m=\u001b[0m\u001b[0mverify_integrity\u001b[0m\u001b[1;33m,\u001b[0m\u001b[1;33m\u001b[0m\u001b[0m\n\u001b[1;32m--> 228\u001b[1;33m                        copy=copy, sort=sort)\n\u001b[0m\u001b[0;32m    229\u001b[0m     \u001b[1;32mreturn\u001b[0m \u001b[0mop\u001b[0m\u001b[1;33m.\u001b[0m\u001b[0mget_result\u001b[0m\u001b[1;33m(\u001b[0m\u001b[1;33m)\u001b[0m\u001b[1;33m\u001b[0m\u001b[0m\n\u001b[0;32m    230\u001b[0m \u001b[1;33m\u001b[0m\u001b[0m\n",
      "\u001b[1;32mc:\\users\\martin.schoreisz\\appdata\\local\\programs\\python\\python37\\lib\\site-packages\\pandas\\core\\reshape\\concat.py\u001b[0m in \u001b[0;36m__init__\u001b[1;34m(self, objs, axis, join, join_axes, keys, levels, names, ignore_index, verify_integrity, copy, sort)\u001b[0m\n\u001b[0;32m    287\u001b[0m                        \u001b[1;34m' only pd.Series, pd.DataFrame, and pd.Panel'\u001b[0m\u001b[1;33m\u001b[0m\u001b[0m\n\u001b[0;32m    288\u001b[0m                        ' (deprecated) objs are valid'.format(type(obj)))\n\u001b[1;32m--> 289\u001b[1;33m                 \u001b[1;32mraise\u001b[0m \u001b[0mTypeError\u001b[0m\u001b[1;33m(\u001b[0m\u001b[0mmsg\u001b[0m\u001b[1;33m)\u001b[0m\u001b[1;33m\u001b[0m\u001b[0m\n\u001b[0m\u001b[0;32m    290\u001b[0m \u001b[1;33m\u001b[0m\u001b[0m\n\u001b[0;32m    291\u001b[0m             \u001b[1;31m# consolidate\u001b[0m\u001b[1;33m\u001b[0m\u001b[1;33m\u001b[0m\u001b[0m\n",
      "\u001b[1;31mTypeError\u001b[0m: cannot concatenate object of type \"<class 'list'>\"; only pd.Series, pd.DataFrame, and pd.Panel (deprecated) objs are valid"
     ]
    }
   ],
   "source": [
    "for a,val in dico_dossier_src.items():\n",
    "    dico_limite={k:v for k,v in dico_id_comptag.items() if all([val in e for e in v])}\n",
    "    cpt_niort=it.Comptage_Niort(val,a)\n",
    "    for k, v in dico_limite.items() : \n",
    "        print(k)\n",
    "        test=[cpt_niort.horaire_2_sens(k,[cpt_niort.traiter_csv_sens_unique(f)[4] for f in v])]\n",
    "    break"
   ]
  },
  {
   "cell_type": "code",
   "execution_count": 351,
   "metadata": {},
   "outputs": [
    {
     "data": {
      "text/plain": [
       "['Q:\\\\DAIT\\\\TI\\\\DREAL33\\\\2020\\\\OTV\\\\Doc_travail\\\\Donnees_source\\\\Niort\\\\comptages_2016_2019\\\\CEREMA\\\\2016\\\\12 2016 pont main\\\\Pont Main du 09 12 2016 au 16 12 2016-sens01.csv',\n",
       " 'Q:\\\\DAIT\\\\TI\\\\DREAL33\\\\2020\\\\OTV\\\\Doc_travail\\\\Donnees_source\\\\Niort\\\\comptages_2016_2019\\\\CEREMA\\\\2016\\\\12 2016 pont main\\\\Pont Main du 09 12 2016 au 16 12 2016-sens02.csv',\n",
       " 'Q:\\\\DAIT\\\\TI\\\\DREAL33\\\\2020\\\\OTV\\\\Doc_travail\\\\Donnees_source\\\\Niort\\\\comptages_2016_2019\\\\CEREMA\\\\2016\\\\12 2016 pont main\\\\Pont Main du 01 12 2016 au 08 12 2016-sens01.csv']"
      ]
     },
     "execution_count": 351,
     "metadata": {},
     "output_type": "execute_result"
    }
   ],
   "source": [
    "dico_limite['Niort-quai de la prefecture--0.4676;46.3243']"
   ]
  },
  {
   "cell_type": "code",
   "execution_count": 345,
   "metadata": {},
   "outputs": [
    {
     "data": {
      "text/html": [
       "<div>\n",
       "<style scoped>\n",
       "    .dataframe tbody tr th:only-of-type {\n",
       "        vertical-align: middle;\n",
       "    }\n",
       "\n",
       "    .dataframe tbody tr th {\n",
       "        vertical-align: top;\n",
       "    }\n",
       "\n",
       "    .dataframe thead th {\n",
       "        text-align: right;\n",
       "    }\n",
       "</style>\n",
       "<table border=\"1\" class=\"dataframe\">\n",
       "  <thead>\n",
       "    <tr style=\"text-align: right;\">\n",
       "      <th>heure</th>\n",
       "      <th>jour</th>\n",
       "      <th>h0_1</th>\n",
       "      <th>h10_11</th>\n",
       "      <th>h11_12</th>\n",
       "      <th>h12_13</th>\n",
       "      <th>h13_14</th>\n",
       "      <th>h14_15</th>\n",
       "      <th>h15_16</th>\n",
       "      <th>h16_17</th>\n",
       "      <th>h17_18</th>\n",
       "      <th>h18_19</th>\n",
       "      <th>h19_20</th>\n",
       "      <th>h1_2</th>\n",
       "      <th>h20_21</th>\n",
       "      <th>h21_22</th>\n",
       "      <th>h22_23</th>\n",
       "      <th>h23_24</th>\n",
       "      <th>h2_3</th>\n",
       "      <th>h3_4</th>\n",
       "      <th>h4_5</th>\n",
       "      <th>h5_6</th>\n",
       "      <th>h6_7</th>\n",
       "      <th>h7_8</th>\n",
       "      <th>h8_9</th>\n",
       "      <th>h9_10</th>\n",
       "      <th>type_veh</th>\n",
       "      <th>id_comptag</th>\n",
       "    </tr>\n",
       "  </thead>\n",
       "  <tbody>\n",
       "    <tr>\n",
       "      <th>0</th>\n",
       "      <td>2019-10-19</td>\n",
       "      <td>1.0</td>\n",
       "      <td>24.0</td>\n",
       "      <td>10.0</td>\n",
       "      <td>8.0</td>\n",
       "      <td>14.0</td>\n",
       "      <td>11.0</td>\n",
       "      <td>14.0</td>\n",
       "      <td>8.0</td>\n",
       "      <td>9.0</td>\n",
       "      <td>13.0</td>\n",
       "      <td>9.0</td>\n",
       "      <td>1.0</td>\n",
       "      <td>2.0</td>\n",
       "      <td>1.0</td>\n",
       "      <td>2.0</td>\n",
       "      <td>3.0</td>\n",
       "      <td>0.0</td>\n",
       "      <td>0.0</td>\n",
       "      <td>4.0</td>\n",
       "      <td>2.0</td>\n",
       "      <td>5.0</td>\n",
       "      <td>14.0</td>\n",
       "      <td>12.0</td>\n",
       "      <td>19.0</td>\n",
       "      <td>TV</td>\n",
       "      <td>Niort-quai maurice metayer--0.488;46.3361</td>\n",
       "    </tr>\n",
       "    <tr>\n",
       "      <th>1</th>\n",
       "      <td>2019-10-20</td>\n",
       "      <td>1.0</td>\n",
       "      <td>0.0</td>\n",
       "      <td>1.0</td>\n",
       "      <td>0.0</td>\n",
       "      <td>0.0</td>\n",
       "      <td>0.0</td>\n",
       "      <td>0.0</td>\n",
       "      <td>0.0</td>\n",
       "      <td>4.0</td>\n",
       "      <td>5.0</td>\n",
       "      <td>2.0</td>\n",
       "      <td>0.0</td>\n",
       "      <td>3.0</td>\n",
       "      <td>1.0</td>\n",
       "      <td>3.0</td>\n",
       "      <td>2.0</td>\n",
       "      <td>0.0</td>\n",
       "      <td>0.0</td>\n",
       "      <td>3.0</td>\n",
       "      <td>3.0</td>\n",
       "      <td>15.0</td>\n",
       "      <td>3.0</td>\n",
       "      <td>0.0</td>\n",
       "      <td>0.0</td>\n",
       "      <td>TV</td>\n",
       "      <td>Niort-quai maurice metayer--0.488;46.3361</td>\n",
       "    </tr>\n",
       "    <tr>\n",
       "      <th>2</th>\n",
       "      <td>2019-10-21</td>\n",
       "      <td>1.0</td>\n",
       "      <td>23.0</td>\n",
       "      <td>20.0</td>\n",
       "      <td>15.0</td>\n",
       "      <td>13.0</td>\n",
       "      <td>19.0</td>\n",
       "      <td>19.0</td>\n",
       "      <td>13.0</td>\n",
       "      <td>13.0</td>\n",
       "      <td>11.0</td>\n",
       "      <td>14.0</td>\n",
       "      <td>0.0</td>\n",
       "      <td>1.0</td>\n",
       "      <td>2.0</td>\n",
       "      <td>1.0</td>\n",
       "      <td>3.0</td>\n",
       "      <td>1.0</td>\n",
       "      <td>1.0</td>\n",
       "      <td>0.0</td>\n",
       "      <td>2.0</td>\n",
       "      <td>2.0</td>\n",
       "      <td>10.0</td>\n",
       "      <td>33.0</td>\n",
       "      <td>24.0</td>\n",
       "      <td>TV</td>\n",
       "      <td>Niort-quai maurice metayer--0.488;46.3361</td>\n",
       "    </tr>\n",
       "    <tr>\n",
       "      <th>3</th>\n",
       "      <td>2019-10-22</td>\n",
       "      <td>0.0</td>\n",
       "      <td>34.0</td>\n",
       "      <td>18.0</td>\n",
       "      <td>22.0</td>\n",
       "      <td>18.0</td>\n",
       "      <td>19.0</td>\n",
       "      <td>18.0</td>\n",
       "      <td>12.0</td>\n",
       "      <td>13.0</td>\n",
       "      <td>10.0</td>\n",
       "      <td>16.0</td>\n",
       "      <td>3.0</td>\n",
       "      <td>10.0</td>\n",
       "      <td>5.0</td>\n",
       "      <td>4.0</td>\n",
       "      <td>3.0</td>\n",
       "      <td>0.0</td>\n",
       "      <td>1.0</td>\n",
       "      <td>6.0</td>\n",
       "      <td>6.0</td>\n",
       "      <td>3.0</td>\n",
       "      <td>22.0</td>\n",
       "      <td>25.0</td>\n",
       "      <td>25.0</td>\n",
       "      <td>TV</td>\n",
       "      <td>Niort-quai maurice metayer--0.488;46.3361</td>\n",
       "    </tr>\n",
       "    <tr>\n",
       "      <th>4</th>\n",
       "      <td>2019-10-23</td>\n",
       "      <td>0.0</td>\n",
       "      <td>43.0</td>\n",
       "      <td>21.0</td>\n",
       "      <td>14.0</td>\n",
       "      <td>11.0</td>\n",
       "      <td>17.0</td>\n",
       "      <td>22.0</td>\n",
       "      <td>20.0</td>\n",
       "      <td>14.0</td>\n",
       "      <td>7.0</td>\n",
       "      <td>7.0</td>\n",
       "      <td>1.0</td>\n",
       "      <td>0.0</td>\n",
       "      <td>0.0</td>\n",
       "      <td>2.0</td>\n",
       "      <td>3.0</td>\n",
       "      <td>1.0</td>\n",
       "      <td>1.0</td>\n",
       "      <td>3.0</td>\n",
       "      <td>4.0</td>\n",
       "      <td>7.0</td>\n",
       "      <td>19.0</td>\n",
       "      <td>29.0</td>\n",
       "      <td>36.0</td>\n",
       "      <td>TV</td>\n",
       "      <td>Niort-quai maurice metayer--0.488;46.3361</td>\n",
       "    </tr>\n",
       "    <tr>\n",
       "      <th>5</th>\n",
       "      <td>2019-10-24</td>\n",
       "      <td>2.0</td>\n",
       "      <td>79.0</td>\n",
       "      <td>49.0</td>\n",
       "      <td>33.0</td>\n",
       "      <td>21.0</td>\n",
       "      <td>32.0</td>\n",
       "      <td>47.0</td>\n",
       "      <td>28.0</td>\n",
       "      <td>24.0</td>\n",
       "      <td>18.0</td>\n",
       "      <td>18.0</td>\n",
       "      <td>2.0</td>\n",
       "      <td>6.0</td>\n",
       "      <td>6.0</td>\n",
       "      <td>4.0</td>\n",
       "      <td>13.0</td>\n",
       "      <td>2.0</td>\n",
       "      <td>3.0</td>\n",
       "      <td>5.0</td>\n",
       "      <td>11.0</td>\n",
       "      <td>1.0</td>\n",
       "      <td>44.0</td>\n",
       "      <td>69.0</td>\n",
       "      <td>53.0</td>\n",
       "      <td>TV</td>\n",
       "      <td>Niort-quai maurice metayer--0.488;46.3361</td>\n",
       "    </tr>\n",
       "    <tr>\n",
       "      <th>6</th>\n",
       "      <td>2019-10-19</td>\n",
       "      <td>0.0</td>\n",
       "      <td>7.0</td>\n",
       "      <td>5.0</td>\n",
       "      <td>6.0</td>\n",
       "      <td>6.0</td>\n",
       "      <td>5.0</td>\n",
       "      <td>7.0</td>\n",
       "      <td>4.0</td>\n",
       "      <td>3.0</td>\n",
       "      <td>3.0</td>\n",
       "      <td>4.0</td>\n",
       "      <td>0.0</td>\n",
       "      <td>0.0</td>\n",
       "      <td>0.0</td>\n",
       "      <td>0.0</td>\n",
       "      <td>0.0</td>\n",
       "      <td>0.0</td>\n",
       "      <td>0.0</td>\n",
       "      <td>1.0</td>\n",
       "      <td>0.0</td>\n",
       "      <td>0.0</td>\n",
       "      <td>5.0</td>\n",
       "      <td>4.0</td>\n",
       "      <td>5.0</td>\n",
       "      <td>PL</td>\n",
       "      <td>Niort-quai maurice metayer--0.488;46.3361</td>\n",
       "    </tr>\n",
       "    <tr>\n",
       "      <th>7</th>\n",
       "      <td>2019-10-20</td>\n",
       "      <td>0.0</td>\n",
       "      <td>0.0</td>\n",
       "      <td>0.0</td>\n",
       "      <td>0.0</td>\n",
       "      <td>0.0</td>\n",
       "      <td>0.0</td>\n",
       "      <td>0.0</td>\n",
       "      <td>0.0</td>\n",
       "      <td>0.0</td>\n",
       "      <td>1.0</td>\n",
       "      <td>0.0</td>\n",
       "      <td>0.0</td>\n",
       "      <td>0.0</td>\n",
       "      <td>0.0</td>\n",
       "      <td>0.0</td>\n",
       "      <td>0.0</td>\n",
       "      <td>0.0</td>\n",
       "      <td>0.0</td>\n",
       "      <td>1.0</td>\n",
       "      <td>0.0</td>\n",
       "      <td>2.0</td>\n",
       "      <td>2.0</td>\n",
       "      <td>0.0</td>\n",
       "      <td>0.0</td>\n",
       "      <td>PL</td>\n",
       "      <td>Niort-quai maurice metayer--0.488;46.3361</td>\n",
       "    </tr>\n",
       "    <tr>\n",
       "      <th>8</th>\n",
       "      <td>2019-10-21</td>\n",
       "      <td>0.0</td>\n",
       "      <td>7.0</td>\n",
       "      <td>6.0</td>\n",
       "      <td>5.0</td>\n",
       "      <td>7.0</td>\n",
       "      <td>8.0</td>\n",
       "      <td>8.0</td>\n",
       "      <td>5.0</td>\n",
       "      <td>6.0</td>\n",
       "      <td>5.0</td>\n",
       "      <td>9.0</td>\n",
       "      <td>0.0</td>\n",
       "      <td>0.0</td>\n",
       "      <td>0.0</td>\n",
       "      <td>0.0</td>\n",
       "      <td>0.0</td>\n",
       "      <td>0.0</td>\n",
       "      <td>0.0</td>\n",
       "      <td>0.0</td>\n",
       "      <td>1.0</td>\n",
       "      <td>1.0</td>\n",
       "      <td>3.0</td>\n",
       "      <td>11.0</td>\n",
       "      <td>8.0</td>\n",
       "      <td>PL</td>\n",
       "      <td>Niort-quai maurice metayer--0.488;46.3361</td>\n",
       "    </tr>\n",
       "    <tr>\n",
       "      <th>9</th>\n",
       "      <td>2019-10-22</td>\n",
       "      <td>0.0</td>\n",
       "      <td>9.0</td>\n",
       "      <td>5.0</td>\n",
       "      <td>7.0</td>\n",
       "      <td>8.0</td>\n",
       "      <td>8.0</td>\n",
       "      <td>8.0</td>\n",
       "      <td>8.0</td>\n",
       "      <td>5.0</td>\n",
       "      <td>5.0</td>\n",
       "      <td>6.0</td>\n",
       "      <td>0.0</td>\n",
       "      <td>0.0</td>\n",
       "      <td>0.0</td>\n",
       "      <td>0.0</td>\n",
       "      <td>0.0</td>\n",
       "      <td>0.0</td>\n",
       "      <td>0.0</td>\n",
       "      <td>0.0</td>\n",
       "      <td>1.0</td>\n",
       "      <td>1.0</td>\n",
       "      <td>8.0</td>\n",
       "      <td>5.0</td>\n",
       "      <td>8.0</td>\n",
       "      <td>PL</td>\n",
       "      <td>Niort-quai maurice metayer--0.488;46.3361</td>\n",
       "    </tr>\n",
       "    <tr>\n",
       "      <th>10</th>\n",
       "      <td>2019-10-23</td>\n",
       "      <td>0.0</td>\n",
       "      <td>12.0</td>\n",
       "      <td>7.0</td>\n",
       "      <td>6.0</td>\n",
       "      <td>6.0</td>\n",
       "      <td>5.0</td>\n",
       "      <td>10.0</td>\n",
       "      <td>6.0</td>\n",
       "      <td>5.0</td>\n",
       "      <td>6.0</td>\n",
       "      <td>4.0</td>\n",
       "      <td>0.0</td>\n",
       "      <td>0.0</td>\n",
       "      <td>0.0</td>\n",
       "      <td>0.0</td>\n",
       "      <td>0.0</td>\n",
       "      <td>0.0</td>\n",
       "      <td>0.0</td>\n",
       "      <td>0.0</td>\n",
       "      <td>0.0</td>\n",
       "      <td>1.0</td>\n",
       "      <td>7.0</td>\n",
       "      <td>12.0</td>\n",
       "      <td>12.0</td>\n",
       "      <td>PL</td>\n",
       "      <td>Niort-quai maurice metayer--0.488;46.3361</td>\n",
       "    </tr>\n",
       "    <tr>\n",
       "      <th>11</th>\n",
       "      <td>2019-10-24</td>\n",
       "      <td>0.0</td>\n",
       "      <td>29.0</td>\n",
       "      <td>15.0</td>\n",
       "      <td>16.0</td>\n",
       "      <td>7.0</td>\n",
       "      <td>6.0</td>\n",
       "      <td>12.0</td>\n",
       "      <td>11.0</td>\n",
       "      <td>10.0</td>\n",
       "      <td>8.0</td>\n",
       "      <td>6.0</td>\n",
       "      <td>0.0</td>\n",
       "      <td>1.0</td>\n",
       "      <td>0.0</td>\n",
       "      <td>0.0</td>\n",
       "      <td>2.0</td>\n",
       "      <td>0.0</td>\n",
       "      <td>1.0</td>\n",
       "      <td>1.0</td>\n",
       "      <td>4.0</td>\n",
       "      <td>1.0</td>\n",
       "      <td>13.0</td>\n",
       "      <td>14.0</td>\n",
       "      <td>17.0</td>\n",
       "      <td>PL</td>\n",
       "      <td>Niort-quai maurice metayer--0.488;46.3361</td>\n",
       "    </tr>\n",
       "  </tbody>\n",
       "</table>\n",
       "</div>"
      ],
      "text/plain": [
       "heure       jour  h0_1  h10_11  h11_12  h12_13  h13_14  h14_15  h15_16  \\\n",
       "0     2019-10-19   1.0    24.0    10.0     8.0    14.0    11.0    14.0   \n",
       "1     2019-10-20   1.0     0.0     1.0     0.0     0.0     0.0     0.0   \n",
       "2     2019-10-21   1.0    23.0    20.0    15.0    13.0    19.0    19.0   \n",
       "3     2019-10-22   0.0    34.0    18.0    22.0    18.0    19.0    18.0   \n",
       "4     2019-10-23   0.0    43.0    21.0    14.0    11.0    17.0    22.0   \n",
       "5     2019-10-24   2.0    79.0    49.0    33.0    21.0    32.0    47.0   \n",
       "6     2019-10-19   0.0     7.0     5.0     6.0     6.0     5.0     7.0   \n",
       "7     2019-10-20   0.0     0.0     0.0     0.0     0.0     0.0     0.0   \n",
       "8     2019-10-21   0.0     7.0     6.0     5.0     7.0     8.0     8.0   \n",
       "9     2019-10-22   0.0     9.0     5.0     7.0     8.0     8.0     8.0   \n",
       "10    2019-10-23   0.0    12.0     7.0     6.0     6.0     5.0    10.0   \n",
       "11    2019-10-24   0.0    29.0    15.0    16.0     7.0     6.0    12.0   \n",
       "\n",
       "heure  h16_17  h17_18  h18_19  h19_20  h1_2  h20_21  h21_22  h22_23  h23_24  \\\n",
       "0         8.0     9.0    13.0     9.0   1.0     2.0     1.0     2.0     3.0   \n",
       "1         0.0     4.0     5.0     2.0   0.0     3.0     1.0     3.0     2.0   \n",
       "2        13.0    13.0    11.0    14.0   0.0     1.0     2.0     1.0     3.0   \n",
       "3        12.0    13.0    10.0    16.0   3.0    10.0     5.0     4.0     3.0   \n",
       "4        20.0    14.0     7.0     7.0   1.0     0.0     0.0     2.0     3.0   \n",
       "5        28.0    24.0    18.0    18.0   2.0     6.0     6.0     4.0    13.0   \n",
       "6         4.0     3.0     3.0     4.0   0.0     0.0     0.0     0.0     0.0   \n",
       "7         0.0     0.0     1.0     0.0   0.0     0.0     0.0     0.0     0.0   \n",
       "8         5.0     6.0     5.0     9.0   0.0     0.0     0.0     0.0     0.0   \n",
       "9         8.0     5.0     5.0     6.0   0.0     0.0     0.0     0.0     0.0   \n",
       "10        6.0     5.0     6.0     4.0   0.0     0.0     0.0     0.0     0.0   \n",
       "11       11.0    10.0     8.0     6.0   0.0     1.0     0.0     0.0     2.0   \n",
       "\n",
       "heure  h2_3  h3_4  h4_5  h5_6  h6_7  h7_8  h8_9  h9_10 type_veh  \\\n",
       "0       0.0   0.0   4.0   2.0   5.0  14.0  12.0   19.0       TV   \n",
       "1       0.0   0.0   3.0   3.0  15.0   3.0   0.0    0.0       TV   \n",
       "2       1.0   1.0   0.0   2.0   2.0  10.0  33.0   24.0       TV   \n",
       "3       0.0   1.0   6.0   6.0   3.0  22.0  25.0   25.0       TV   \n",
       "4       1.0   1.0   3.0   4.0   7.0  19.0  29.0   36.0       TV   \n",
       "5       2.0   3.0   5.0  11.0   1.0  44.0  69.0   53.0       TV   \n",
       "6       0.0   0.0   1.0   0.0   0.0   5.0   4.0    5.0       PL   \n",
       "7       0.0   0.0   1.0   0.0   2.0   2.0   0.0    0.0       PL   \n",
       "8       0.0   0.0   0.0   1.0   1.0   3.0  11.0    8.0       PL   \n",
       "9       0.0   0.0   0.0   1.0   1.0   8.0   5.0    8.0       PL   \n",
       "10      0.0   0.0   0.0   0.0   1.0   7.0  12.0   12.0       PL   \n",
       "11      0.0   1.0   1.0   4.0   1.0  13.0  14.0   17.0       PL   \n",
       "\n",
       "heure                                 id_comptag  \n",
       "0      Niort-quai maurice metayer--0.488;46.3361  \n",
       "1      Niort-quai maurice metayer--0.488;46.3361  \n",
       "2      Niort-quai maurice metayer--0.488;46.3361  \n",
       "3      Niort-quai maurice metayer--0.488;46.3361  \n",
       "4      Niort-quai maurice metayer--0.488;46.3361  \n",
       "5      Niort-quai maurice metayer--0.488;46.3361  \n",
       "6      Niort-quai maurice metayer--0.488;46.3361  \n",
       "7      Niort-quai maurice metayer--0.488;46.3361  \n",
       "8      Niort-quai maurice metayer--0.488;46.3361  \n",
       "9      Niort-quai maurice metayer--0.488;46.3361  \n",
       "10     Niort-quai maurice metayer--0.488;46.3361  \n",
       "11     Niort-quai maurice metayer--0.488;46.3361  "
      ]
     },
     "execution_count": 345,
     "metadata": {},
     "output_type": "execute_result"
    }
   ],
   "source": [
    "test[0]"
   ]
  },
  {
   "cell_type": "code",
   "execution_count": 346,
   "metadata": {},
   "outputs": [
    {
     "data": {
      "text/plain": [
       "{'Niort-quai maurice metayer--0.488;46.3361': ['Q:\\\\DAIT\\\\TI\\\\DREAL33\\\\2020\\\\OTV\\\\Doc_travail\\\\Donnees_source\\\\Niort\\\\comptages_2016_2019\\\\CEREMA\\\\2016\\\\01 2016 quai metayer\\\\Quai Metayer du 27 01 2016 au 03 02 2016-sens01.csv',\n",
       "  'Q:\\\\DAIT\\\\TI\\\\DREAL33\\\\2020\\\\OTV\\\\Doc_travail\\\\Donnees_source\\\\Niort\\\\comptages_2016_2019\\\\CEREMA\\\\2016\\\\01 2016 quai metayer\\\\Quai Metayer du 27 01 2016 au 03 02 2016-sens02.csv'],\n",
       " 'Niort-chemin des chizelles--0.4938;46.3346': ['Q:\\\\DAIT\\\\TI\\\\DREAL33\\\\2020\\\\OTV\\\\Doc_travail\\\\Donnees_source\\\\Niort\\\\comptages_2016_2019\\\\CEREMA\\\\2016\\\\01 2016 quai metayer\\\\Quai Metayer du 27 01 2016 au 03 02 2016-sens03.csv',\n",
       "  'Q:\\\\DAIT\\\\TI\\\\DREAL33\\\\2020\\\\OTV\\\\Doc_travail\\\\Donnees_source\\\\Niort\\\\comptages_2016_2019\\\\CEREMA\\\\2016\\\\01 2016 quai metayer\\\\Quai Metayer du 27 01 2016 au 03 02 2016-sens04.csv'],\n",
       " 'Niort r guy guilloteau--0.4571;46.3339': ['Q:\\\\DAIT\\\\TI\\\\DREAL33\\\\2020\\\\OTV\\\\Doc_travail\\\\Donnees_source\\\\Niort\\\\comptages_2016_2019\\\\CEREMA\\\\2016\\\\02 09 rue Guilloteau\\\\rue guilloteau du 02 09 au 12 09 2016-sens3.csv',\n",
       "  'Q:\\\\DAIT\\\\TI\\\\DREAL33\\\\2020\\\\OTV\\\\Doc_travail\\\\Donnees_source\\\\Niort\\\\comptages_2016_2019\\\\CEREMA\\\\2016\\\\02 09 rue Guilloteau\\\\rue guilloteau du 02 09 au 12 09 2016-sens4.csv'],\n",
       " 'Niort-r de serigny--0.4856;46.3565': ['Q:\\\\DAIT\\\\TI\\\\DREAL33\\\\2020\\\\OTV\\\\Doc_travail\\\\Donnees_source\\\\Niort\\\\comptages_2016_2019\\\\CEREMA\\\\2016\\\\09 2016 rue de Serigny\\\\Rue de Serigny 16 09 2016-sens01.csv',\n",
       "  'Q:\\\\DAIT\\\\TI\\\\DREAL33\\\\2020\\\\OTV\\\\Doc_travail\\\\Donnees_source\\\\Niort\\\\comptages_2016_2019\\\\CEREMA\\\\2016\\\\09 2016 rue de Serigny\\\\Rue de Serigny 16 09 2016-sens02.csv'],\n",
       " 'Niort-r nicolas boileau--0.4872;46.3417': ['Q:\\\\DAIT\\\\TI\\\\DREAL33\\\\2020\\\\OTV\\\\Doc_travail\\\\Donnees_source\\\\Niort\\\\comptages_2016_2019\\\\CEREMA\\\\2016\\\\09 2016 rue nicolas Boisleau\\\\Rue Nicolas Boisleau du 16 09 2016 au 26 09 2016-sens03.csv',\n",
       "  'Q:\\\\DAIT\\\\TI\\\\DREAL33\\\\2020\\\\OTV\\\\Doc_travail\\\\Donnees_source\\\\Niort\\\\comptages_2016_2019\\\\CEREMA\\\\2016\\\\09 2016 rue nicolas Boisleau\\\\Rue Nicolas Boisleau du 16 09 2016 au 26 09 2016-sens04.csv'],\n",
       " 'Niort-av de la venise verte--0.4897;46.3186': ['Q:\\\\DAIT\\\\TI\\\\DREAL33\\\\2020\\\\OTV\\\\Doc_travail\\\\Donnees_source\\\\Niort\\\\comptages_2016_2019\\\\CEREMA\\\\2016\\\\09 2016 Venise Verte\\\\venise verte-sens01.csv',\n",
       "  'Q:\\\\DAIT\\\\TI\\\\DREAL33\\\\2020\\\\OTV\\\\Doc_travail\\\\Donnees_source\\\\Niort\\\\comptages_2016_2019\\\\CEREMA\\\\2016\\\\09 2016 Venise Verte\\\\venise verte-sens02.csv'],\n",
       " 'Niort-r laurent bonnevay--0.4838;46.3161': ['Q:\\\\DAIT\\\\TI\\\\DREAL33\\\\2020\\\\OTV\\\\Doc_travail\\\\Donnees_source\\\\Niort\\\\comptages_2016_2019\\\\CEREMA\\\\2016\\\\10 2016 rue Bonnevay\\\\bonnevay-sens01.csv',\n",
       "  'Q:\\\\DAIT\\\\TI\\\\DREAL33\\\\2020\\\\OTV\\\\Doc_travail\\\\Donnees_source\\\\Niort\\\\comptages_2016_2019\\\\CEREMA\\\\2016\\\\10 2016 rue Bonnevay\\\\bonnevay-sens02.csv'],\n",
       " 'Niort-quai de la prefecture--0.4676;46.3243': ['Q:\\\\DAIT\\\\TI\\\\DREAL33\\\\2020\\\\OTV\\\\Doc_travail\\\\Donnees_source\\\\Niort\\\\comptages_2016_2019\\\\CEREMA\\\\2016\\\\12 2016 pont main\\\\Pont Main du 09 12 2016 au 16 12 2016-sens01.csv',\n",
       "  'Q:\\\\DAIT\\\\TI\\\\DREAL33\\\\2020\\\\OTV\\\\Doc_travail\\\\Donnees_source\\\\Niort\\\\comptages_2016_2019\\\\CEREMA\\\\2016\\\\12 2016 pont main\\\\Pont Main du 09 12 2016 au 16 12 2016-sens02.csv',\n",
       "  'Q:\\\\DAIT\\\\TI\\\\DREAL33\\\\2020\\\\OTV\\\\Doc_travail\\\\Donnees_source\\\\Niort\\\\comptages_2016_2019\\\\CEREMA\\\\2016\\\\12 2016 pont main\\\\Pont Main du 01 12 2016 au 08 12 2016-sens01.csv'],\n",
       " 'Niort-r de l espingole--0.4678;46.3241': ['Q:\\\\DAIT\\\\TI\\\\DREAL33\\\\2020\\\\OTV\\\\Doc_travail\\\\Donnees_source\\\\Niort\\\\comptages_2016_2019\\\\CEREMA\\\\2016\\\\12 2016 pont main\\\\Pont Main du 01 12 2016 au 08 12 2016-sens03.csv'],\n",
       " 'Niort-pont main--0.4679;46.3243': ['Q:\\\\DAIT\\\\TI\\\\DREAL33\\\\2020\\\\OTV\\\\Doc_travail\\\\Donnees_source\\\\Niort\\\\comptages_2016_2019\\\\CEREMA\\\\2016\\\\12 2016 pont main\\\\Pont Main du 01 12 2016 au 08 12 2016-sens02.csv',\n",
       "  'Q:\\\\DAIT\\\\TI\\\\DREAL33\\\\2020\\\\OTV\\\\Doc_travail\\\\Donnees_source\\\\Niort\\\\comptages_2016_2019\\\\CEREMA\\\\2016\\\\12 2016 pont main\\\\Pont Main du 01 12 2016 au 08 12 2016-sens04.csv'],\n",
       " 'Niort-r de l abreuvoir--0.4668;46.3245': ['Q:\\\\DAIT\\\\TI\\\\DREAL33\\\\2020\\\\OTV\\\\Doc_travail\\\\Donnees_source\\\\Niort\\\\comptages_2016_2019\\\\CEREMA\\\\2016\\\\12 2016 pont main\\\\Pont Main du 09 12 2016 au 16 12 2016-sens04.csv'],\n",
       " 'Niort-quai de la prefecture 2--0.4668;46.3248': ['Q:\\\\DAIT\\\\TI\\\\DREAL33\\\\2020\\\\OTV\\\\Doc_travail\\\\Donnees_source\\\\Niort\\\\comptages_2016_2019\\\\CEREMA\\\\2016\\\\12 2016 pont main\\\\Pont Main du 09 12 2016 au 16 12 2016-sens03.csv']}"
      ]
     },
     "execution_count": 346,
     "metadata": {},
     "output_type": "execute_result"
    }
   ],
   "source": [
    "dico_limite        "
   ]
  },
  {
   "cell_type": "markdown",
   "metadata": {},
   "source": [
    "# ***Grand Dax***\n",
    "> une 20aine de points de comptage. l'enjeu est sur la localisation : faite à la main pour aller plus vite"
   ]
  },
  {
   "cell_type": "code",
   "execution_count": null,
   "metadata": {},
   "outputs": [],
   "source": [
    "cptDax=it.Comptage_GrandDax(r'D:\\temp\\otv\\2019\\donnees_produite\\points_Dax_temp.shp')\n",
    "cptDax.creer_df_agrege()\n",
    "cptDax.df_horaire_final()"
   ]
  },
  {
   "cell_type": "code",
   "execution_count": null,
   "metadata": {},
   "outputs": [],
   "source": [
    "cptDax.insert_bdd('local_otv_station_gti', 'comptage', 'na_2010_2019_p', cptDax.df_attr)\n",
    "cptDax.insert_bdd('local_otv_station_gti', 'comptage', 'na_2010_2019_horaire',cptDax.df_attr_horaire)"
   ]
  },
  {
   "cell_type": "markdown",
   "metadata": {},
   "source": [
    "# ***Limoges Metropole***\n",
    "> un Webservice est dispo ici : https://siglm.agglo-limoges.fr/servernf/rest/services/_TRANSPORTS/transports_consult/featureServer\n",
    "on peut y acceder via Qgis, ce qui permet de creer un shape : Q:\\DAIT\\TI\\DREAL33\\2020\\OTV\\Doc_travail\\Donnees_source\\LIMOGES\\Limoge_Web_service.shp"
   ]
  },
  {
   "cell_type": "markdown",
   "metadata": {},
   "source": [
    "## isoler les points représentatifs du trafic total\n",
    "1. ajouter des attributs d'identification : de la représentativité, de groupement\n",
    "1. Checker la validité des attributs et déterminer sur lesquels s'appuyer\n",
    "1. Regrouper les points avec un identfiant\n",
    "1. Conserver les points avec 'type' == 'Double' ie 'representatif'=True"
   ]
  },
  {
   "cell_type": "code",
   "execution_count": null,
   "metadata": {},
   "outputs": [],
   "source": [
    "#POUR INFO\n",
    "#rechreche incohérence entre direction et type : direction 2 sens et type Simple\n",
    "limMet.loc[(limMet.apply(lambda x : any([a.lower() in x['direction'].lower() \n",
    "            for a in ('2 sens','2  sens', 'deux sens', 'double sens', 'cumul') if x['direction']]), axis=1)) & (limMet['type']=='Simple')].objectid.tolist()\n",
    "\"\"\"objectId in (40390.0, 40844.0, 41639.0, 42174.0, 42175.0, 42176.0, 42177.0, 42432.0, 42599.0, 43066.0, 43720.0, \n",
    "52077.0, 39017.0, 39274.0, 39586.0, 39959.0, 40014.0, 40015.0) prioriser 'type'=='Double', ne pas trop s'appuyer sur le type\"\"\"\n",
    "#rechreche incohérence entre direction et type : direction != 2 sens et type Double : là aussi, ça confirme de s'appuyer sur le type Double\n",
    "limMet.loc[(limMet.apply(lambda x : all([a.lower() not in x['direction'].lower() \n",
    "            for a in ('2 sens','2  sens', 'deux sens', 'double sens', 'cumul') if x['direction']]), axis=1)) & (limMet['type']=='Double')].objectid.tolist()"
   ]
  },
  {
   "cell_type": "code",
   "execution_count": null,
   "metadata": {},
   "outputs": [],
   "source": [
    "limMet=it.Comptage_Limoges_Metropole(r'Q:\\DAIT\\TI\\DREAL33\\2020\\OTV\\Doc_travail\\Donnees_source\\LIMOGES\\Limoge_Web_service.shp',\n",
    "                                    r'D:\\temp\\otv\\2019\\donnees_produite\\test_limoges\\zone_equi_cpt.shp')\n",
    "limMet.groupe_point()\n",
    "limMet.df_regroupee_complete(limMet.df_regroupee())\n",
    "limMet.insert_bdd('gti_otv_pg11', 'comptage', 'na_2010_2019_p', limMet.df_attr)"
   ]
  },
  {
   "cell_type": "markdown",
   "metadata": {},
   "source": [
    "# ***Agglo LaRochelle***\n",
    "> bcp de donnée éparpillées u peu n'importe comment ici : <br> Chaque commune à sa façon de bosser..."
   ]
  },
  {
   "cell_type": "markdown",
   "metadata": {},
   "source": [
    "> ## Exemple sainte-SOulle"
   ]
  },
  {
   "cell_type": "code",
   "execution_count": null,
   "metadata": {},
   "outputs": [],
   "source": [
    "dossier=r'Q:\\DAIT\\TI\\DREAL33\\2020\\OTV\\Doc_travail\\Donnees_source\\La_Rochelle\\donnees-la-rochelle\\Données La Rochelle\\7-Communes\\SteSoulle'\n",
    "toto=it.Comptage(os.path.join(dossier,'rue des Fortiness.txt'))\n",
    "SteSoulle=pd.read_csv(os.path.join(dossier,'rue des Fortines.txt'), sep=' ')\n",
    "SteSoulle.rename(columns={'Nombrevéhicules':'nbveh', 'Date':'heure'}, inplace=True)\n",
    "SteSoulle.reset_index(inplace=True)\n",
    "SteSoulle.rename(columns={'Nombrevéhicules':'nbveh', 'Date':'heure', 'index':'jour'}, inplace=True)\n",
    "SteSoulle.set_index(SteSoulle.apply(lambda x : pd.to_datetime(x['jour']+ ' ' + x.heure, dayfirst=True), axis=1), inplace=True)\n",
    "#les données sur le 4,10 et 11 février sont bizarres, on les exclus,du coup pour ne pas fausser le tmja avec trop de WE je ne garde que les jours ouvrés et je fais un tmjo\n",
    "#SteSoulle=SteSoulle.loc[(~SteSoulle.index.dayofyear.isin([pd.to_datetime(x).dayofyear for x in (('2016-03-28','2016-03-23','2016-04-02'))]))\n",
    "                       #& (~SteSoulle.index.dayofweek.isin((5,6)))][['nbveh', 'jour', 'heure']].copy()"
   ]
  },
  {
   "cell_type": "code",
   "execution_count": null,
   "metadata": {},
   "outputs": [],
   "source": [
    "#calcul tmja (basé sur calcul_indicateurs_agreges() de la classe FIM)\n",
    "df_jour=SteSoulle[['nbveh']].resample('1D').sum()\n",
    "df_jour=df_jour.loc[df_jour['nbveh']!=0].copy()\n",
    "if len(df_jour)<7 : \n",
    "    raise it.PasAssezMesureError(len(df_jour))\n",
    "elif len(df_jour) in (7,8) : \n",
    "    traf_list=df_jour.nbveh.tolist()\n",
    "    tmjo=int(statistics.mean([traf_list[0]+traf_list[-1]]+traf_list[1:-1]))\n",
    "else : \n",
    "    tmjo=int(df_jour.iloc[1:-1].nbveh.mean())*2"
   ]
  },
  {
   "cell_type": "code",
   "execution_count": null,
   "metadata": {},
   "outputs": [],
   "source": [
    "df_horaire=SteSoulle[['jour', 'heure', 'nbveh']].pivot(index='jour', columns='heure', values='nbveh').fillna(0)*2\n",
    "df_horaire.columns=[f'h{str(int(c.split(\":\")[0]))}_{str(int(c.split(\":\")[0])+1)}' for c in df_horaire.columns]\n",
    "df_horaire=df_horaire.reset_index().assign(type_veh='TV', id_comptag='LaRoche-r des fortines--1.0391;46.188')"
   ]
  },
  {
   "cell_type": "code",
   "execution_count": null,
   "metadata": {},
   "outputs": [],
   "source": [
    "toto.insert_bdd('gti_otv_pg11', 'comptage', 'na_2010_2019_horaire', df_horaire)"
   ]
  },
  {
   "cell_type": "markdown",
   "metadata": {},
   "source": [
    "> ## La Rochelle\n",
    "plusieurs dossier contenant desfichiers de comptages, : Q:\\DAIT\\TI\\DREAL33\\2020\\OTV\\Doc_travail\\Donnees_source\\La_Rochelle\\campagne-comptages-2015\\trafic_aggloLR_SMOB2015 ; Q:\\DAIT\\TI\\DREAL33\\2020\\OTV\\Doc_travail\\Donnees_source\\La_Rochelle\\comptages_delattre"
   ]
  },
  {
   "cell_type": "code",
   "execution_count": null,
   "metadata": {},
   "outputs": [],
   "source": [
    "Larochelle.update_bdd_LaRochelle('gti_otv_pg11', 'comptage', 'na_2010_2019_p')\n",
    "Larochelle.insert_bdd('gti_otv_pg11', 'comptage', 'na_2010_2019_horaire', Larochelle.df_attr_horaire)"
   ]
  },
  {
   "cell_type": "code",
   "execution_count": null,
   "metadata": {},
   "outputs": [],
   "source": [
    "#prepar donnees\n",
    "Larochelle=it.Comptage_LaRochelle(r'Q:\\DAIT\\TI\\DREAL33\\2020\\OTV\\Doc_travail\\Donnees_source\\La_Rochelle\\donnees-la-rochelle\\Données La Rochelle\\7-Communes\\LaRochelle_LaPalice')\n",
    "ids=Larochelle.listCptCreer()\n",
    "Larochelle.creer_dfs(ids)"
   ]
  },
  {
   "cell_type": "code",
   "execution_count": null,
   "metadata": {},
   "outputs": [],
   "source": [
    "with ct.ConnexionBdd('gti_otv_pg11') as c : \n",
    "            rqt=\"select id_comptag, id_cpt from comptage.na_2010_2019_p where id_comptag in ('LaRoch-r marcel deflandre--1.2128;46.1698','LaRoch-r de bethencourt--1.2028;46.1712','LaRoch-r de bethencourt--1.2014;46.172')\"\n",
    "            ids=pd.read_sql(rqt, c.sqlAlchemyConn)"
   ]
  },
  {
   "cell_type": "code",
   "execution_count": null,
   "metadata": {},
   "outputs": [],
   "source": [
    "fichier=r'Q:\\DAIT\\TI\\DREAL33\\2020\\OTV\\Doc_travail\\Donnees_source\\La_Rochelle\\donnees-la-rochelle\\Données La Rochelle\\7-Communes\\LaRochelle_LaPalice\\SEMAINE 2\\P1-RUE MARCEL DEFLANDRE SENS 2 SEMAINE 2.xls'"
   ]
  },
  {
   "cell_type": "code",
   "execution_count": null,
   "metadata": {},
   "outputs": [],
   "source": [
    "df=pd.read_excel(fichier)\n",
    "tmja=round(df.loc[38,'Unnamed: 6'])\n",
    "pl=round(df.loc[42,'Unnamed: 6'])\n",
    "periode=df.iloc[1,16]\n",
    "index_date=pd.date_range(start=pd.to_datetime(periode.split(' au ')[0][3:], dayfirst=True), end=pd.to_datetime(periode.split(' au ')[1], dayfirst=True))\n",
    "df_pl=df.iloc[17:24,2:26].copy()\n",
    "df_tv=df.iloc[27:34,2:26].copy()\n",
    "df_pl.columns=[f'h{str(i)}_{str(i+1)}' for i in range(24)]\n",
    "df_tv.columns=[f'h{str(i)}_{str(i+1)}' for i in range(24)]\n",
    "df_pl=df_pl.assign(jour=index_date, type_veh='PL')\n",
    "df_tv=df_tv.assign(jour=index_date, type_veh='TV')"
   ]
  },
  {
   "cell_type": "code",
   "execution_count": null,
   "metadata": {},
   "outputs": [],
   "source": [
    "df_tv"
   ]
  },
  {
   "cell_type": "code",
   "execution_count": null,
   "metadata": {},
   "outputs": [],
   "source": [
    "Larochelle.df_attr"
   ]
  },
  {
   "cell_type": "markdown",
   "metadata": {},
   "source": [
    "# ***TESTS***"
   ]
  },
  {
   "cell_type": "code",
   "execution_count": null,
   "metadata": {},
   "outputs": [],
   "source": [
    "## DETAILS OPERATIONS CD87\n",
    "\n",
    "#regrouper les différentes données issues de ficiers et les ajouter au dico\n",
    "for k, v in d87.dico_voie.items() : \n",
    "    for i,e in enumerate(v) : \n",
    "        if len(e['fichiers'])==1 : \n",
    "            print(e['fichiers'][0])\n",
    "            obj_fim=it.FIM(os.path.join(d87.dossier,e['fichiers'][0]))\n",
    "            try : \n",
    "                obj_fim.resume_indicateurs()\n",
    "            except obj_fim.fim_PasAssezMesureError : \n",
    "                continue\n",
    "            except Exception as ex : \n",
    "                print(f\"erreur : {ex} \\n dans fichier : {e['fichiers'][0]}\")\n",
    "            e['tmja'], e['pc_pl'], e['date_debut'], e['date_fin']=obj_fim.tmja, obj_fim.pc_pl, obj_fim.date_debut,obj_fim.date_fin\n",
    "        elif len(e['fichiers'])>1 :\n",
    "            list_tmja=[]\n",
    "            list_pc_pl=[]\n",
    "            for f in e['fichiers'] : \n",
    "                obj_fim=it.FIM(os.path.join(d87.dossier,f))\n",
    "                print(f)\n",
    "                try : \n",
    "                    obj_fim.resume_indicateurs()\n",
    "                except (obj_fim.fim_PasAssezMesureError,obj_fim.fimNbBlocDonneesError)  : \n",
    "                    continue\n",
    "                except Exception as ex : \n",
    "                    print(f\"erreur : {ex} \\n dans fichier : {f}\")\n",
    "                list_tmja.append(obj_fim.tmja)\n",
    "                list_pc_pl.append(obj_fim.pc_pl)\n",
    "            e['tmja'], e['pc_pl'], e['date_debut'], e['date_fin']=int(mean(list_tmja)), round(mean(list_pc_pl),2),np.NaN, np.NaN\n",
    "\n",
    "#renseigner le type de poste\n",
    "for k, v in d87.dico_voie.items() : \n",
    "    for e in v : \n",
    "        if len(e['fichiers']) > 4 :\n",
    "            e['type_poste']='permanent'\n",
    "        elif 1<len(e['fichiers'])<=4 : \n",
    "            e['type_poste']='tournant'\n",
    "        elif len(e['fichiers'])== 1 :\n",
    "            e['type_poste']='ponctuel'\n",
    "        else : \n",
    "            e['type_poste']='NC'\n",
    "\n",
    "#faire une df avec les points de comptage\n",
    "d87.df_attr=pd.DataFrame([[k, e['pr'], e['abs'], e['tmja'], e['pc_pl'], e['type_poste'],\n",
    "                      e['date_debut'],e['date_fin']] for k, v in d87.dico_voie.items() for e in v if 'tmja' in e.keys()], \n",
    "             columns=['route','pr','absc','tmja','pc_pl','type_poste','date_debut','date_fin'])\n",
    "d87.df_attr['id_comptag']=d87.df_attr.apply(lambda x :'87-'+x['route']+'-'+str(x['pr'])+'+'+str(x['absc']), axis=1)\n",
    "\n",
    "#filtre cpt ponctuel\n",
    "d87.df_attr=d87.df_attr.loc[d87.df_attr.apply(lambda x : x['date_debut'].month not in [7,8] and x['date_fin'].month not in [7,8], \n",
    "                                                         axis=1)].copy()\n",
    "\n",
    "#fare le tri avec les comptages existants : \n",
    "#recuperer les compmtages existants\n",
    "d87.comptag_existant_bdd('gti_otv_pg11', 'na_2010_2018_p', schema='comptage',dep='87', type_poste=False)\n",
    "d87.df_attr_update=d87.df_attr.loc[d87.df_attr.id_comptag.isin(d87.existant.id_comptag.tolist())].copy()\n",
    "d87.df_attr_insert=d87.df_attr.loc[~d87.df_attr.id_comptag.isin(d87.existant.id_comptag.tolist())].copy()\n",
    "#obtenir une cle de correspondace pour les comptages tournants et permanents\n",
    "df_correspondance=d87.corresp_old_new_comptag('gti_otv_pg11', 'public','d87_cpt_temp','lineaire.traf2017_bdt87_ed17_l',\n",
    "                                'referentiel', 'troncon_route_bdt87_ed17_l','troncon_route_bdt87_ed17_l_vertices_pgr','id')\n",
    "\n",
    "#passer la df de correspondance dans le table corresp_id_comptage\n",
    "d87.insert_bdd('gti_otv_pg11', 'comptage', 'corresp_id_comptag', \n",
    "               df_correspondance.rename(columns={'id_comptag_lin':'id_gti','id_comptag':'id_gest'})[['id_gest','id_gti']])\n",
    "\n",
    "#faire la correspondance entre les noms de comptage\n",
    "d87.corresp_nom_id_comptag('gti_otv_pg11',d87.df_attr)\n",
    "\n",
    "#recalculer les insert et update\n",
    "d87.df_attr_update=d87.df_attr.loc[d87.df_attr.id_comptag.isin(d87.existant.id_comptag.tolist())].copy()\n",
    "d87.df_attr_insert=d87.df_attr.loc[~d87.df_attr.id_comptag.isin(d87.existant.id_comptag.tolist())].copy()\n",
    "\n",
    "#mettre en forme pour update\n",
    "d87.df_attr_update['obs']=d87.df_attr_update.apply(lambda x : x['date_debut'].strftime('%d/%m/%Y')+'-'+ x['date_fin'].strftime('%d/%m/%Y') if not pd.isnull(x['date_debut']) else '', axis=1)\n",
    "d87.df_attr_update.loc[d87.df_attr_update.pc_pl.isna(),'obs']='pc_pl inconnu'\n",
    "d87.df_attr_update.loc[d87.df_attr_update.pc_pl.isna(),'pc_pl']=-99\n",
    "\n",
    "#preparer update\n",
    "valeurs_txt=d87.creer_valeur_txt_update(d87.df_attr_update, ['id_comptag','tmja','pc_pl','obs'])\n",
    "dico_attr={'tmja_2018':'tmja','pc_pl_2018':'pc_pl','obs_2018':'obs'}\n",
    "#update\n",
    "d87.update_bdd('gti_otv_pg11', 'comptage', 'na_2010_2018_p', valeurs_txt,dico_attr)\n",
    "\n",
    "#mettre en forme le insert\n",
    "dbl=d87.df_attr_insert.loc[d87.df_attr_insert.duplicated('id_comptag', False)].copy()\n",
    "ss_dbl=d87.df_attr_insert.loc[~d87.df_attr_insert.index.isin(dbl.index.tolist())].copy()\n",
    "dbl=dbl.dropna()\n",
    "dbl_traite=dbl.loc[dbl.tmja==dbl.groupby('id_comptag').tmja.transform(max)].drop_duplicates().copy()\n",
    "d87.df_attr_insert=pd.concat([dbl_traite,ss_dbl], axis=0, sort=False)\n",
    "d87.df_attr_insert.pc_pl.fillna(-99, inplace=True)\n",
    "annee='2018'\n",
    "d87.df_attr_insert['dep']='87'\n",
    "d87.df_attr_insert['reseau']='RD'\n",
    "d87.df_attr_insert['gestionnai']='CD87'\n",
    "d87.df_attr_insert['concession']='N'\n",
    "d87.df_attr_insert['obs']=d87.df_attr_insert.apply(lambda x : f\"\"\"nouveau_point,{x['date_debut'].strftime(\"%d/%m/%Y\")}-{x['date_fin'].strftime(\"%d/%m/%Y\")}\"\"\" if not (pd.isnull(x['date_debut']) and  pd.isnull(x['date_fin'])) else None,axis=1)\n",
    "d87.df_attr_insert.rename(columns={'absc' : 'abs', 'tmja':'tmja_'+annee,'pc_pl':'pc_pl_'+annee,'obs':'obs_'+annee},inplace=True)\n",
    "d87.df_attr_insert.drop(['date_debut','date_fin','route'],axis=1,inplace=True)\n",
    "\n",
    "#mettre à jour la geom\n",
    "d87.maj_geom('gti_otv_pg11', 'comptage', 'na_2010_2018_p', dep='87')"
   ]
  },
  {
   "cell_type": "code",
   "execution_count": null,
   "metadata": {},
   "outputs": [],
   "source": [
    "with ct.ConnexionBdd('local_otv_station_gti') as c : \n",
    "    ct.ogr2ogr_shp2pg(c.connstringOgr,r'D:\\temp\\otv\\2019\\donnees_produite\\na_2010_2019_p_dira\\na_2010_2019_p_dira.shp',schema='public', table='na_2010_2019_p_dira',SRID='2154',geotype='POINT', dims=2, creationMode='',encodageClient='UTF-8', requeteSql='')"
   ]
  },
  {
   "cell_type": "code",
   "execution_count": null,
   "metadata": {},
   "outputs": [],
   "source": [
    "d87.dico_voie['D20']"
   ]
  },
  {
   "cell_type": "code",
   "execution_count": null,
   "metadata": {},
   "outputs": [],
   "source": [
    "for k, v in d87.dico_voie.items() : \n",
    "    if k=='D20' : \n",
    "        for i,e in enumerate(v) : \n",
    "            if len(e['fichiers'])==1 : \n",
    "                print(e['fichiers'][0])\n",
    "                obj_fim=it.FIM(os.path.join(d87.dossier,e['fichiers'][0]))\n",
    "                try : \n",
    "                    obj_fim.resume_indicateurs()\n",
    "                except obj_fim.fim_PasAssezMesureError : \n",
    "                    continue\n",
    "                except Exception as ex : \n",
    "                    print(f\"erreur : {ex} \\n dans fichier : {e['fichiers'][0]}\")\n",
    "                e['tmja'], e['pc_pl'], e['date_debut'], e['date_fin']=obj_fim.tmja, obj_fim.pc_pl, obj_fim.date_debut,obj_fim.date_fin\n",
    "            elif len(e['fichiers'])>1 :\n",
    "                list_tmja=[]\n",
    "                list_pc_pl=[]\n",
    "                for f in e['fichiers'] : \n",
    "                    obj_fim=it.FIM(os.path.join(d87.dossier,f))\n",
    "                    print(f)\n",
    "                    try : \n",
    "                        obj_fim.resume_indicateurs()\n",
    "                    except (obj_fim.fim_PasAssezMesureError,obj_fim.fimNbBlocDonneesError)  : \n",
    "                        continue\n",
    "                    except Exception as ex : \n",
    "                        print(f\"erreur : {ex} \\n dans fichier : {f}\")\n",
    "                    list_tmja.append(obj_fim.tmja)\n",
    "                    list_pc_pl.append(obj_fim.pc_pl)\n",
    "                list_pc_pl=[p for p in list_pc_pl if p>0]\n",
    "                e['tmja'], e['date_debut'], e['date_fin']=int(mean(list_tmja)),np.NaN, np.NaN\n",
    "                e['pc_pl']=round(mean([p for p in list_pc_pl if p>0]),2) if list_pc_pl else np.NaN"
   ]
  },
  {
   "cell_type": "code",
   "execution_count": null,
   "metadata": {},
   "outputs": [],
   "source": [
    "d87.dico_voie['D20']"
   ]
  },
  {
   "cell_type": "code",
   "execution_count": null,
   "metadata": {},
   "outputs": [],
   "source": [
    "[p for p in list_pc_pl if p>0]"
   ]
  },
  {
   "cell_type": "code",
   "execution_count": null,
   "metadata": {},
   "outputs": [],
   "source": [
    "round(mean([np.NaN, np.NaN]),2)"
   ]
  },
  {
   "cell_type": "code",
   "execution_count": null,
   "metadata": {},
   "outputs": [],
   "source": [
    "not [p for p in list_pc_pl if p>0]"
   ]
  },
  {
   "cell_type": "code",
   "execution_count": null,
   "metadata": {},
   "outputs": [],
   "source": []
  },
  {
   "cell_type": "code",
   "execution_count": null,
   "metadata": {},
   "outputs": [],
   "source": [
    "d87.classer_comptage_update_insert('gti_otv_pg11','na_2010_2019_p','comptage',\n",
    "                                   'public','d87_cpt_temp','lineaire.traf2018_bdt87_ed18_l',\n",
    "                                  'ref', 'troncon_route_bdt87_ed18_l','troncon_route_bdt87_ed18_l_vertices_pgr','id')"
   ]
  },
  {
   "cell_type": "code",
   "execution_count": 302,
   "metadata": {},
   "outputs": [],
   "source": [
    "points_a_inserer=d87.localiser_comptage_a_inserer(d87.df_attr_insert,'gti_otv_pg11', 'public','d87_cpt_temp')\n",
    "#recuperer les donnees existante\n",
    "lin_precedente=d87.donnees_existantes('gti_otv_pg11', 'lineaire.traf2018_bdt87_ed18_l')\n",
    "\n",
    "#ne conserver que le spoints a inserer pour lesquels il y a une geometrie\n",
    "points_a_inserer_geom=points_a_inserer.loc[~points_a_inserer.geom.isna()].copy()"
   ]
  },
  {
   "cell_type": "code",
   "execution_count": 303,
   "metadata": {},
   "outputs": [
    {
     "ename": "IndexError",
     "evalue": "too many indices for array",
     "output_type": "error",
     "traceback": [
      "\u001b[1;31m---------------------------------------------------------------------------\u001b[0m",
      "\u001b[1;31mIndexError\u001b[0m                                Traceback (most recent call last)",
      "\u001b[1;32mc:\\users\\martin.schoreisz\\appdata\\local\\programs\\python\\python37\\lib\\site-packages\\IPython\\core\\formatters.py\u001b[0m in \u001b[0;36m__call__\u001b[1;34m(self, obj)\u001b[0m\n\u001b[0;32m    343\u001b[0m             \u001b[0mmethod\u001b[0m \u001b[1;33m=\u001b[0m \u001b[0mget_real_method\u001b[0m\u001b[1;33m(\u001b[0m\u001b[0mobj\u001b[0m\u001b[1;33m,\u001b[0m \u001b[0mself\u001b[0m\u001b[1;33m.\u001b[0m\u001b[0mprint_method\u001b[0m\u001b[1;33m)\u001b[0m\u001b[1;33m\u001b[0m\u001b[0m\n\u001b[0;32m    344\u001b[0m             \u001b[1;32mif\u001b[0m \u001b[0mmethod\u001b[0m \u001b[1;32mis\u001b[0m \u001b[1;32mnot\u001b[0m \u001b[1;32mNone\u001b[0m\u001b[1;33m:\u001b[0m\u001b[1;33m\u001b[0m\u001b[0m\n\u001b[1;32m--> 345\u001b[1;33m                 \u001b[1;32mreturn\u001b[0m \u001b[0mmethod\u001b[0m\u001b[1;33m(\u001b[0m\u001b[1;33m)\u001b[0m\u001b[1;33m\u001b[0m\u001b[0m\n\u001b[0m\u001b[0;32m    346\u001b[0m             \u001b[1;32mreturn\u001b[0m \u001b[1;32mNone\u001b[0m\u001b[1;33m\u001b[0m\u001b[0m\n\u001b[0;32m    347\u001b[0m         \u001b[1;32melse\u001b[0m\u001b[1;33m:\u001b[0m\u001b[1;33m\u001b[0m\u001b[0m\n",
      "\u001b[1;32mc:\\users\\martin.schoreisz\\appdata\\local\\programs\\python\\python37\\lib\\site-packages\\pandas\\core\\frame.py\u001b[0m in \u001b[0;36m_repr_html_\u001b[1;34m(self)\u001b[0m\n\u001b[0;32m    672\u001b[0m \u001b[1;33m\u001b[0m\u001b[0m\n\u001b[0;32m    673\u001b[0m             return self.to_html(max_rows=max_rows, max_cols=max_cols,\n\u001b[1;32m--> 674\u001b[1;33m                                 show_dimensions=show_dimensions, notebook=True)\n\u001b[0m\u001b[0;32m    675\u001b[0m         \u001b[1;32melse\u001b[0m\u001b[1;33m:\u001b[0m\u001b[1;33m\u001b[0m\u001b[0m\n\u001b[0;32m    676\u001b[0m             \u001b[1;32mreturn\u001b[0m \u001b[1;32mNone\u001b[0m\u001b[1;33m\u001b[0m\u001b[0m\n",
      "\u001b[1;32mc:\\users\\martin.schoreisz\\appdata\\local\\programs\\python\\python37\\lib\\site-packages\\pandas\\core\\frame.py\u001b[0m in \u001b[0;36mto_html\u001b[1;34m(self, buf, columns, col_space, header, index, na_rep, formatters, float_format, sparsify, index_names, justify, max_rows, max_cols, show_dimensions, decimal, bold_rows, classes, escape, notebook, border, table_id, render_links)\u001b[0m\n\u001b[0;32m   2263\u001b[0m                                            render_links=render_links)\n\u001b[0;32m   2264\u001b[0m         \u001b[1;31m# TODO: a generic formatter wld b in DataFrameFormatter\u001b[0m\u001b[1;33m\u001b[0m\u001b[1;33m\u001b[0m\u001b[0m\n\u001b[1;32m-> 2265\u001b[1;33m         \u001b[0mformatter\u001b[0m\u001b[1;33m.\u001b[0m\u001b[0mto_html\u001b[0m\u001b[1;33m(\u001b[0m\u001b[0mclasses\u001b[0m\u001b[1;33m=\u001b[0m\u001b[0mclasses\u001b[0m\u001b[1;33m,\u001b[0m \u001b[0mnotebook\u001b[0m\u001b[1;33m=\u001b[0m\u001b[0mnotebook\u001b[0m\u001b[1;33m,\u001b[0m \u001b[0mborder\u001b[0m\u001b[1;33m=\u001b[0m\u001b[0mborder\u001b[0m\u001b[1;33m)\u001b[0m\u001b[1;33m\u001b[0m\u001b[0m\n\u001b[0m\u001b[0;32m   2266\u001b[0m \u001b[1;33m\u001b[0m\u001b[0m\n\u001b[0;32m   2267\u001b[0m         \u001b[1;32mif\u001b[0m \u001b[0mbuf\u001b[0m \u001b[1;32mis\u001b[0m \u001b[1;32mNone\u001b[0m\u001b[1;33m:\u001b[0m\u001b[1;33m\u001b[0m\u001b[0m\n",
      "\u001b[1;32mc:\\users\\martin.schoreisz\\appdata\\local\\programs\\python\\python37\\lib\\site-packages\\pandas\\io\\formats\\format.py\u001b[0m in \u001b[0;36mto_html\u001b[1;34m(self, classes, notebook, border)\u001b[0m\n\u001b[0;32m    727\u001b[0m         \u001b[1;32mfrom\u001b[0m \u001b[0mpandas\u001b[0m\u001b[1;33m.\u001b[0m\u001b[0mio\u001b[0m\u001b[1;33m.\u001b[0m\u001b[0mformats\u001b[0m\u001b[1;33m.\u001b[0m\u001b[0mhtml\u001b[0m \u001b[1;32mimport\u001b[0m \u001b[0mHTMLFormatter\u001b[0m\u001b[1;33m,\u001b[0m \u001b[0mNotebookFormatter\u001b[0m\u001b[1;33m\u001b[0m\u001b[0m\n\u001b[0;32m    728\u001b[0m         \u001b[0mKlass\u001b[0m \u001b[1;33m=\u001b[0m \u001b[0mNotebookFormatter\u001b[0m \u001b[1;32mif\u001b[0m \u001b[0mnotebook\u001b[0m \u001b[1;32melse\u001b[0m \u001b[0mHTMLFormatter\u001b[0m\u001b[1;33m\u001b[0m\u001b[0m\n\u001b[1;32m--> 729\u001b[1;33m         \u001b[0mhtml\u001b[0m \u001b[1;33m=\u001b[0m \u001b[0mKlass\u001b[0m\u001b[1;33m(\u001b[0m\u001b[0mself\u001b[0m\u001b[1;33m,\u001b[0m \u001b[0mclasses\u001b[0m\u001b[1;33m=\u001b[0m\u001b[0mclasses\u001b[0m\u001b[1;33m,\u001b[0m \u001b[0mborder\u001b[0m\u001b[1;33m=\u001b[0m\u001b[0mborder\u001b[0m\u001b[1;33m)\u001b[0m\u001b[1;33m.\u001b[0m\u001b[0mrender\u001b[0m\u001b[1;33m(\u001b[0m\u001b[1;33m)\u001b[0m\u001b[1;33m\u001b[0m\u001b[0m\n\u001b[0m\u001b[0;32m    730\u001b[0m         \u001b[1;32mif\u001b[0m \u001b[0mhasattr\u001b[0m\u001b[1;33m(\u001b[0m\u001b[0mself\u001b[0m\u001b[1;33m.\u001b[0m\u001b[0mbuf\u001b[0m\u001b[1;33m,\u001b[0m \u001b[1;34m'write'\u001b[0m\u001b[1;33m)\u001b[0m\u001b[1;33m:\u001b[0m\u001b[1;33m\u001b[0m\u001b[0m\n\u001b[0;32m    731\u001b[0m             \u001b[0mbuffer_put_lines\u001b[0m\u001b[1;33m(\u001b[0m\u001b[0mself\u001b[0m\u001b[1;33m.\u001b[0m\u001b[0mbuf\u001b[0m\u001b[1;33m,\u001b[0m \u001b[0mhtml\u001b[0m\u001b[1;33m)\u001b[0m\u001b[1;33m\u001b[0m\u001b[0m\n",
      "\u001b[1;32mc:\\users\\martin.schoreisz\\appdata\\local\\programs\\python\\python37\\lib\\site-packages\\pandas\\io\\formats\\html.py\u001b[0m in \u001b[0;36mrender\u001b[1;34m(self)\u001b[0m\n\u001b[0;32m    527\u001b[0m         \u001b[0mself\u001b[0m\u001b[1;33m.\u001b[0m\u001b[0mwrite\u001b[0m\u001b[1;33m(\u001b[0m\u001b[1;34m'<div>'\u001b[0m\u001b[1;33m)\u001b[0m\u001b[1;33m\u001b[0m\u001b[0m\n\u001b[0;32m    528\u001b[0m         \u001b[0mself\u001b[0m\u001b[1;33m.\u001b[0m\u001b[0mwrite_style\u001b[0m\u001b[1;33m(\u001b[0m\u001b[1;33m)\u001b[0m\u001b[1;33m\u001b[0m\u001b[0m\n\u001b[1;32m--> 529\u001b[1;33m         \u001b[0msuper\u001b[0m\u001b[1;33m(\u001b[0m\u001b[0mNotebookFormatter\u001b[0m\u001b[1;33m,\u001b[0m \u001b[0mself\u001b[0m\u001b[1;33m)\u001b[0m\u001b[1;33m.\u001b[0m\u001b[0mrender\u001b[0m\u001b[1;33m(\u001b[0m\u001b[1;33m)\u001b[0m\u001b[1;33m\u001b[0m\u001b[0m\n\u001b[0m\u001b[0;32m    530\u001b[0m         \u001b[0mself\u001b[0m\u001b[1;33m.\u001b[0m\u001b[0mwrite\u001b[0m\u001b[1;33m(\u001b[0m\u001b[1;34m'</div>'\u001b[0m\u001b[1;33m)\u001b[0m\u001b[1;33m\u001b[0m\u001b[0m\n\u001b[0;32m    531\u001b[0m         \u001b[1;32mreturn\u001b[0m \u001b[0mself\u001b[0m\u001b[1;33m.\u001b[0m\u001b[0melements\u001b[0m\u001b[1;33m\u001b[0m\u001b[0m\n",
      "\u001b[1;32mc:\\users\\martin.schoreisz\\appdata\\local\\programs\\python\\python37\\lib\\site-packages\\pandas\\io\\formats\\html.py\u001b[0m in \u001b[0;36mrender\u001b[1;34m(self)\u001b[0m\n\u001b[0;32m    144\u001b[0m \u001b[1;33m\u001b[0m\u001b[0m\n\u001b[0;32m    145\u001b[0m     \u001b[1;32mdef\u001b[0m \u001b[0mrender\u001b[0m\u001b[1;33m(\u001b[0m\u001b[0mself\u001b[0m\u001b[1;33m)\u001b[0m\u001b[1;33m:\u001b[0m\u001b[1;33m\u001b[0m\u001b[0m\n\u001b[1;32m--> 146\u001b[1;33m         \u001b[0mself\u001b[0m\u001b[1;33m.\u001b[0m\u001b[0m_write_table\u001b[0m\u001b[1;33m(\u001b[0m\u001b[1;33m)\u001b[0m\u001b[1;33m\u001b[0m\u001b[0m\n\u001b[0m\u001b[0;32m    147\u001b[0m \u001b[1;33m\u001b[0m\u001b[0m\n\u001b[0;32m    148\u001b[0m         \u001b[1;32mif\u001b[0m \u001b[0mself\u001b[0m\u001b[1;33m.\u001b[0m\u001b[0mshould_show_dimensions\u001b[0m\u001b[1;33m:\u001b[0m\u001b[1;33m\u001b[0m\u001b[0m\n",
      "\u001b[1;32mc:\\users\\martin.schoreisz\\appdata\\local\\programs\\python\\python37\\lib\\site-packages\\pandas\\io\\formats\\html.py\u001b[0m in \u001b[0;36m_write_table\u001b[1;34m(self, indent)\u001b[0m\n\u001b[0;32m    180\u001b[0m             \u001b[0mself\u001b[0m\u001b[1;33m.\u001b[0m\u001b[0m_write_header\u001b[0m\u001b[1;33m(\u001b[0m\u001b[0mindent\u001b[0m \u001b[1;33m+\u001b[0m \u001b[0mself\u001b[0m\u001b[1;33m.\u001b[0m\u001b[0mindent_delta\u001b[0m\u001b[1;33m)\u001b[0m\u001b[1;33m\u001b[0m\u001b[0m\n\u001b[0;32m    181\u001b[0m \u001b[1;33m\u001b[0m\u001b[0m\n\u001b[1;32m--> 182\u001b[1;33m         \u001b[0mself\u001b[0m\u001b[1;33m.\u001b[0m\u001b[0m_write_body\u001b[0m\u001b[1;33m(\u001b[0m\u001b[0mindent\u001b[0m \u001b[1;33m+\u001b[0m \u001b[0mself\u001b[0m\u001b[1;33m.\u001b[0m\u001b[0mindent_delta\u001b[0m\u001b[1;33m)\u001b[0m\u001b[1;33m\u001b[0m\u001b[0m\n\u001b[0m\u001b[0;32m    183\u001b[0m \u001b[1;33m\u001b[0m\u001b[0m\n\u001b[0;32m    184\u001b[0m         \u001b[0mself\u001b[0m\u001b[1;33m.\u001b[0m\u001b[0mwrite\u001b[0m\u001b[1;33m(\u001b[0m\u001b[1;34m'</table>'\u001b[0m\u001b[1;33m,\u001b[0m \u001b[0mindent\u001b[0m\u001b[1;33m)\u001b[0m\u001b[1;33m\u001b[0m\u001b[0m\n",
      "\u001b[1;32mc:\\users\\martin.schoreisz\\appdata\\local\\programs\\python\\python37\\lib\\site-packages\\pandas\\io\\formats\\html.py\u001b[0m in \u001b[0;36m_write_body\u001b[1;34m(self, indent)\u001b[0m\n\u001b[0;32m    323\u001b[0m     \u001b[1;32mdef\u001b[0m \u001b[0m_write_body\u001b[0m\u001b[1;33m(\u001b[0m\u001b[0mself\u001b[0m\u001b[1;33m,\u001b[0m \u001b[0mindent\u001b[0m\u001b[1;33m)\u001b[0m\u001b[1;33m:\u001b[0m\u001b[1;33m\u001b[0m\u001b[0m\n\u001b[0;32m    324\u001b[0m         \u001b[0mself\u001b[0m\u001b[1;33m.\u001b[0m\u001b[0mwrite\u001b[0m\u001b[1;33m(\u001b[0m\u001b[1;34m'<tbody>'\u001b[0m\u001b[1;33m,\u001b[0m \u001b[0mindent\u001b[0m\u001b[1;33m)\u001b[0m\u001b[1;33m\u001b[0m\u001b[0m\n\u001b[1;32m--> 325\u001b[1;33m         \u001b[0mfmt_values\u001b[0m \u001b[1;33m=\u001b[0m \u001b[1;33m{\u001b[0m\u001b[0mi\u001b[0m\u001b[1;33m:\u001b[0m \u001b[0mself\u001b[0m\u001b[1;33m.\u001b[0m\u001b[0mfmt\u001b[0m\u001b[1;33m.\u001b[0m\u001b[0m_format_col\u001b[0m\u001b[1;33m(\u001b[0m\u001b[0mi\u001b[0m\u001b[1;33m)\u001b[0m \u001b[1;32mfor\u001b[0m \u001b[0mi\u001b[0m \u001b[1;32min\u001b[0m \u001b[0mrange\u001b[0m\u001b[1;33m(\u001b[0m\u001b[0mself\u001b[0m\u001b[1;33m.\u001b[0m\u001b[0mncols\u001b[0m\u001b[1;33m)\u001b[0m\u001b[1;33m}\u001b[0m\u001b[1;33m\u001b[0m\u001b[0m\n\u001b[0m\u001b[0;32m    326\u001b[0m \u001b[1;33m\u001b[0m\u001b[0m\n\u001b[0;32m    327\u001b[0m         \u001b[1;31m# write values\u001b[0m\u001b[1;33m\u001b[0m\u001b[1;33m\u001b[0m\u001b[0m\n",
      "\u001b[1;32mc:\\users\\martin.schoreisz\\appdata\\local\\programs\\python\\python37\\lib\\site-packages\\pandas\\io\\formats\\html.py\u001b[0m in \u001b[0;36m<dictcomp>\u001b[1;34m(.0)\u001b[0m\n\u001b[0;32m    323\u001b[0m     \u001b[1;32mdef\u001b[0m \u001b[0m_write_body\u001b[0m\u001b[1;33m(\u001b[0m\u001b[0mself\u001b[0m\u001b[1;33m,\u001b[0m \u001b[0mindent\u001b[0m\u001b[1;33m)\u001b[0m\u001b[1;33m:\u001b[0m\u001b[1;33m\u001b[0m\u001b[0m\n\u001b[0;32m    324\u001b[0m         \u001b[0mself\u001b[0m\u001b[1;33m.\u001b[0m\u001b[0mwrite\u001b[0m\u001b[1;33m(\u001b[0m\u001b[1;34m'<tbody>'\u001b[0m\u001b[1;33m,\u001b[0m \u001b[0mindent\u001b[0m\u001b[1;33m)\u001b[0m\u001b[1;33m\u001b[0m\u001b[0m\n\u001b[1;32m--> 325\u001b[1;33m         \u001b[0mfmt_values\u001b[0m \u001b[1;33m=\u001b[0m \u001b[1;33m{\u001b[0m\u001b[0mi\u001b[0m\u001b[1;33m:\u001b[0m \u001b[0mself\u001b[0m\u001b[1;33m.\u001b[0m\u001b[0mfmt\u001b[0m\u001b[1;33m.\u001b[0m\u001b[0m_format_col\u001b[0m\u001b[1;33m(\u001b[0m\u001b[0mi\u001b[0m\u001b[1;33m)\u001b[0m \u001b[1;32mfor\u001b[0m \u001b[0mi\u001b[0m \u001b[1;32min\u001b[0m \u001b[0mrange\u001b[0m\u001b[1;33m(\u001b[0m\u001b[0mself\u001b[0m\u001b[1;33m.\u001b[0m\u001b[0mncols\u001b[0m\u001b[1;33m)\u001b[0m\u001b[1;33m}\u001b[0m\u001b[1;33m\u001b[0m\u001b[0m\n\u001b[0m\u001b[0;32m    326\u001b[0m \u001b[1;33m\u001b[0m\u001b[0m\n\u001b[0;32m    327\u001b[0m         \u001b[1;31m# write values\u001b[0m\u001b[1;33m\u001b[0m\u001b[1;33m\u001b[0m\u001b[0m\n",
      "\u001b[1;32mc:\\users\\martin.schoreisz\\appdata\\local\\programs\\python\\python37\\lib\\site-packages\\pandas\\io\\formats\\format.py\u001b[0m in \u001b[0;36m_format_col\u001b[1;34m(self, i)\u001b[0m\n\u001b[0;32m    706\u001b[0m         return format_array(values_to_format, formatter,\n\u001b[0;32m    707\u001b[0m                             \u001b[0mfloat_format\u001b[0m\u001b[1;33m=\u001b[0m\u001b[0mself\u001b[0m\u001b[1;33m.\u001b[0m\u001b[0mfloat_format\u001b[0m\u001b[1;33m,\u001b[0m \u001b[0mna_rep\u001b[0m\u001b[1;33m=\u001b[0m\u001b[0mself\u001b[0m\u001b[1;33m.\u001b[0m\u001b[0mna_rep\u001b[0m\u001b[1;33m,\u001b[0m\u001b[1;33m\u001b[0m\u001b[0m\n\u001b[1;32m--> 708\u001b[1;33m                             space=self.col_space, decimal=self.decimal)\n\u001b[0m\u001b[0;32m    709\u001b[0m \u001b[1;33m\u001b[0m\u001b[0m\n\u001b[0;32m    710\u001b[0m     \u001b[1;32mdef\u001b[0m \u001b[0mto_html\u001b[0m\u001b[1;33m(\u001b[0m\u001b[0mself\u001b[0m\u001b[1;33m,\u001b[0m \u001b[0mclasses\u001b[0m\u001b[1;33m=\u001b[0m\u001b[1;32mNone\u001b[0m\u001b[1;33m,\u001b[0m \u001b[0mnotebook\u001b[0m\u001b[1;33m=\u001b[0m\u001b[1;32mFalse\u001b[0m\u001b[1;33m,\u001b[0m \u001b[0mborder\u001b[0m\u001b[1;33m=\u001b[0m\u001b[1;32mNone\u001b[0m\u001b[1;33m)\u001b[0m\u001b[1;33m:\u001b[0m\u001b[1;33m\u001b[0m\u001b[0m\n",
      "\u001b[1;32mc:\\users\\martin.schoreisz\\appdata\\local\\programs\\python\\python37\\lib\\site-packages\\pandas\\io\\formats\\format.py\u001b[0m in \u001b[0;36mformat_array\u001b[1;34m(values, formatter, float_format, na_rep, digits, space, justify, decimal, leading_space)\u001b[0m\n\u001b[0;32m    905\u001b[0m                         leading_space=leading_space)\n\u001b[0;32m    906\u001b[0m \u001b[1;33m\u001b[0m\u001b[0m\n\u001b[1;32m--> 907\u001b[1;33m     \u001b[1;32mreturn\u001b[0m \u001b[0mfmt_obj\u001b[0m\u001b[1;33m.\u001b[0m\u001b[0mget_result\u001b[0m\u001b[1;33m(\u001b[0m\u001b[1;33m)\u001b[0m\u001b[1;33m\u001b[0m\u001b[0m\n\u001b[0m\u001b[0;32m    908\u001b[0m \u001b[1;33m\u001b[0m\u001b[0m\n\u001b[0;32m    909\u001b[0m \u001b[1;33m\u001b[0m\u001b[0m\n",
      "\u001b[1;32mc:\\users\\martin.schoreisz\\appdata\\local\\programs\\python\\python37\\lib\\site-packages\\pandas\\io\\formats\\format.py\u001b[0m in \u001b[0;36mget_result\u001b[1;34m(self)\u001b[0m\n\u001b[0;32m    926\u001b[0m \u001b[1;33m\u001b[0m\u001b[0m\n\u001b[0;32m    927\u001b[0m     \u001b[1;32mdef\u001b[0m \u001b[0mget_result\u001b[0m\u001b[1;33m(\u001b[0m\u001b[0mself\u001b[0m\u001b[1;33m)\u001b[0m\u001b[1;33m:\u001b[0m\u001b[1;33m\u001b[0m\u001b[0m\n\u001b[1;32m--> 928\u001b[1;33m         \u001b[0mfmt_values\u001b[0m \u001b[1;33m=\u001b[0m \u001b[0mself\u001b[0m\u001b[1;33m.\u001b[0m\u001b[0m_format_strings\u001b[0m\u001b[1;33m(\u001b[0m\u001b[1;33m)\u001b[0m\u001b[1;33m\u001b[0m\u001b[0m\n\u001b[0m\u001b[0;32m    929\u001b[0m         \u001b[1;32mreturn\u001b[0m \u001b[0m_make_fixed_width\u001b[0m\u001b[1;33m(\u001b[0m\u001b[0mfmt_values\u001b[0m\u001b[1;33m,\u001b[0m \u001b[0mself\u001b[0m\u001b[1;33m.\u001b[0m\u001b[0mjustify\u001b[0m\u001b[1;33m)\u001b[0m\u001b[1;33m\u001b[0m\u001b[0m\n\u001b[0;32m    930\u001b[0m \u001b[1;33m\u001b[0m\u001b[0m\n",
      "\u001b[1;32mc:\\users\\martin.schoreisz\\appdata\\local\\programs\\python\\python37\\lib\\site-packages\\pandas\\io\\formats\\format.py\u001b[0m in \u001b[0;36m_format_strings\u001b[1;34m(self)\u001b[0m\n\u001b[0;32m   1174\u001b[0m             \u001b[0mvalues\u001b[0m \u001b[1;33m=\u001b[0m \u001b[0mvalues\u001b[0m\u001b[1;33m.\u001b[0m\u001b[0m_values\u001b[0m\u001b[1;33m\u001b[0m\u001b[0m\n\u001b[0;32m   1175\u001b[0m \u001b[1;33m\u001b[0m\u001b[0m\n\u001b[1;32m-> 1176\u001b[1;33m         \u001b[0mformatter\u001b[0m \u001b[1;33m=\u001b[0m \u001b[0mvalues\u001b[0m\u001b[1;33m.\u001b[0m\u001b[0m_formatter\u001b[0m\u001b[1;33m(\u001b[0m\u001b[0mboxed\u001b[0m\u001b[1;33m=\u001b[0m\u001b[1;32mTrue\u001b[0m\u001b[1;33m)\u001b[0m\u001b[1;33m\u001b[0m\u001b[0m\n\u001b[0m\u001b[0;32m   1177\u001b[0m \u001b[1;33m\u001b[0m\u001b[0m\n\u001b[0;32m   1178\u001b[0m         \u001b[1;32mif\u001b[0m \u001b[0mis_categorical_dtype\u001b[0m\u001b[1;33m(\u001b[0m\u001b[0mvalues\u001b[0m\u001b[1;33m.\u001b[0m\u001b[0mdtype\u001b[0m\u001b[1;33m)\u001b[0m\u001b[1;33m:\u001b[0m\u001b[1;33m\u001b[0m\u001b[0m\n",
      "\u001b[1;32mc:\\users\\martin.schoreisz\\appdata\\local\\programs\\python\\python37\\lib\\site-packages\\geopandas\\array.py\u001b[0m in \u001b[0;36m_formatter\u001b[1;34m(self, boxed)\u001b[0m\n\u001b[0;32m   1009\u001b[0m                 \u001b[1;31m# dummy heuristic based on 10 first geometries that should\u001b[0m\u001b[1;33m\u001b[0m\u001b[1;33m\u001b[0m\u001b[0m\n\u001b[0;32m   1010\u001b[0m                 \u001b[1;31m# work in most cases\u001b[0m\u001b[1;33m\u001b[0m\u001b[1;33m\u001b[0m\u001b[0m\n\u001b[1;32m-> 1011\u001b[1;33m                 \u001b[0mxmin\u001b[0m\u001b[1;33m,\u001b[0m \u001b[0mymin\u001b[0m\u001b[1;33m,\u001b[0m \u001b[0mxmax\u001b[0m\u001b[1;33m,\u001b[0m \u001b[0mymax\u001b[0m \u001b[1;33m=\u001b[0m \u001b[0mself\u001b[0m\u001b[1;33m[\u001b[0m\u001b[1;33m~\u001b[0m\u001b[0mself\u001b[0m\u001b[1;33m.\u001b[0m\u001b[0misna\u001b[0m\u001b[1;33m(\u001b[0m\u001b[1;33m)\u001b[0m\u001b[1;33m]\u001b[0m\u001b[1;33m[\u001b[0m\u001b[1;33m:\u001b[0m\u001b[1;36m10\u001b[0m\u001b[1;33m]\u001b[0m\u001b[1;33m.\u001b[0m\u001b[0mtotal_bounds\u001b[0m\u001b[1;33m\u001b[0m\u001b[0m\n\u001b[0m\u001b[0;32m   1012\u001b[0m                 if (\n\u001b[0;32m   1013\u001b[0m                     \u001b[1;33m(\u001b[0m\u001b[1;33m-\u001b[0m\u001b[1;36m180\u001b[0m \u001b[1;33m<=\u001b[0m \u001b[0mxmin\u001b[0m \u001b[1;33m<=\u001b[0m \u001b[1;36m180\u001b[0m\u001b[1;33m)\u001b[0m\u001b[1;33m\u001b[0m\u001b[0m\n",
      "\u001b[1;32mc:\\users\\martin.schoreisz\\appdata\\local\\programs\\python\\python37\\lib\\site-packages\\geopandas\\array.py\u001b[0m in \u001b[0;36mtotal_bounds\u001b[1;34m(self)\u001b[0m\n\u001b[0;32m    750\u001b[0m         return np.array(\n\u001b[0;32m    751\u001b[0m             (\n\u001b[1;32m--> 752\u001b[1;33m                 \u001b[0mb\u001b[0m\u001b[1;33m[\u001b[0m\u001b[1;33m:\u001b[0m\u001b[1;33m,\u001b[0m \u001b[1;36m0\u001b[0m\u001b[1;33m]\u001b[0m\u001b[1;33m.\u001b[0m\u001b[0mmin\u001b[0m\u001b[1;33m(\u001b[0m\u001b[1;33m)\u001b[0m\u001b[1;33m,\u001b[0m  \u001b[1;31m# minx\u001b[0m\u001b[1;33m\u001b[0m\u001b[0m\n\u001b[0m\u001b[0;32m    753\u001b[0m                 \u001b[0mb\u001b[0m\u001b[1;33m[\u001b[0m\u001b[1;33m:\u001b[0m\u001b[1;33m,\u001b[0m \u001b[1;36m1\u001b[0m\u001b[1;33m]\u001b[0m\u001b[1;33m.\u001b[0m\u001b[0mmin\u001b[0m\u001b[1;33m(\u001b[0m\u001b[1;33m)\u001b[0m\u001b[1;33m,\u001b[0m  \u001b[1;31m# miny\u001b[0m\u001b[1;33m\u001b[0m\u001b[0m\n\u001b[0;32m    754\u001b[0m                 \u001b[0mb\u001b[0m\u001b[1;33m[\u001b[0m\u001b[1;33m:\u001b[0m\u001b[1;33m,\u001b[0m \u001b[1;36m2\u001b[0m\u001b[1;33m]\u001b[0m\u001b[1;33m.\u001b[0m\u001b[0mmax\u001b[0m\u001b[1;33m(\u001b[0m\u001b[1;33m)\u001b[0m\u001b[1;33m,\u001b[0m  \u001b[1;31m# maxx\u001b[0m\u001b[1;33m\u001b[0m\u001b[0m\n",
      "\u001b[1;31mIndexError\u001b[0m: too many indices for array"
     ]
    },
    {
     "data": {
      "text/plain": [
       "Empty GeoDataFrame\n",
       "Columns: [index, route, pr, absc, tmja, pc_pl, type_poste, date_debut, date_fin, id_comptag, geom]\n",
       "Index: []"
      ]
     },
     "execution_count": 303,
     "metadata": {},
     "output_type": "execute_result"
    }
   ],
   "source": [
    "points_a_inserer_geom"
   ]
  },
  {
   "cell_type": "code",
   "execution_count": null,
   "metadata": {},
   "outputs": [],
   "source": [
    "Outils.plus_proche_voisin(df_src, df_comp, dist_recherche, id_df_src, id_df_comp, same=False)"
   ]
  }
 ],
 "metadata": {
  "kernelspec": {
   "display_name": "Python 3",
   "language": "python",
   "name": "python3"
  },
  "language_info": {
   "codemirror_mode": {
    "name": "ipython",
    "version": 3
   },
   "file_extension": ".py",
   "mimetype": "text/x-python",
   "name": "python",
   "nbconvert_exporter": "python",
   "pygments_lexer": "ipython3",
   "version": "3.7.0"
  }
 },
 "nbformat": 4,
 "nbformat_minor": 4
}
