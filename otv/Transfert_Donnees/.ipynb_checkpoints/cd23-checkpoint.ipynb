{
 "cells": [
  {
   "cell_type": "markdown",
   "metadata": {},
   "source": [
    "# Import des données de comptage 2018\n",
    "> à partir du fichier __Q:\\DAIT\\TI\\DREAL33\\2019\\C19SA0035_OTR-NA\\Doc_travail\\Donnees_source\\CD23\\2018_CD23_trafics.xls__<br>***attention : pour le point de comptage D941 6+152 à Aubusson, le pR est 32 et non 6. il faut donc corriger à la main le fihcier excel***\n",
    "<br> Pour le moment tous les points sont déjà dans  la base, dc pas de traitement de type insert prévus."
   ]
  },
  {
   "cell_type": "code",
   "execution_count": 10,
   "metadata": {},
   "outputs": [
    {
     "name": "stdout",
     "output_type": "stream",
     "text": [
      "The autoreload extension is already loaded. To reload it, use:\n",
      "  %reload_ext autoreload\n"
     ]
    }
   ],
   "source": [
    "%load_ext autoreload\n",
    "%autoreload 2\n",
    "import sys\n",
    "sys.path.append(r'C:\\Users\\martin.schoreisz\\git\\Outils\\Outils\\Martin_Perso')\n",
    "import pandas as pd\n",
    "import Connexion_Transfert as ct"
   ]
  },
  {
   "cell_type": "code",
   "execution_count": 11,
   "metadata": {},
   "outputs": [],
   "source": [
    "# ouvrir le classeur\n",
    "df_excel=pd.read_excel(r'Q:\\DAIT\\TI\\DREAL33\\2019\\C19SA0035_OTR-NA\\Doc_travail\\Donnees_source\\CD23\\2018_CD23_trafics.xls',skiprows=11)\n",
    "# renomer les champs\n",
    "df_excel_rennome=df_excel.rename(columns={'1er trimestre  du 01 janvier au 31 mars':'trim1_TV', 'Unnamed: 9':'trim1_pcpl',\n",
    "                         '2ème trimestre du 01 avril au 30 juin':'trim2_TV', 'Unnamed: 11':'trim2_pcpl',\n",
    "                         '3ème trimestre du 01 juillet au 30 septembre':'trim3_TV', 'Unnamed: 13':'trim3_pcpl',\n",
    "                         '4ème trimestre du 01 octobre au 31 décembre':'trim4_TV', 'Unnamed: 15':'trim4_pcpl',\n",
    "                         'Unnamed: 17':'pc_pl', 'TMJA 2018':'tmja'})\n",
    "#supprimer la 1ere ligne\n",
    "df_excel_filtre=df_excel_rennome.loc[1:,:].copy()\n",
    "#mise en forme attribut\n",
    "df_excel_filtre['Route']=df_excel_filtre.apply(lambda x : str(x['Route']).upper(), axis=1)\n",
    "annee_cpt='2018'\n",
    "#attribut id_comptag\n",
    "for i in ['DEP','PR','ABS'] : \n",
    "    df_excel_filtre[i]=df_excel_filtre.apply(lambda x : str(int(x[i])),axis=1)\n",
    "df_excel_filtre['id_comptag']=df_excel_filtre.apply(lambda x : '-'.join([x['DEP'],'D'+str(x['Route']),\n",
    "                                                                         x['PR']+'+'+x['ABS']]),axis=1)\n",
    "#donnees_mensuelles\n",
    "list_id_comptag=[val for val in df_excel_filtre.id_comptag.tolist() for _ in (0, 1)]\n",
    "donnees_type=['tmja','pc_pl']*len(df_excel_filtre.id_comptag.tolist())\n",
    "annee_df=['2018']*2*len(df_excel_filtre.id_comptag.tolist())\n",
    "janv, fev, mars,avril,mai,juin,juil,aout,sept,octo,nov,dec=[],[],[],[],[],[],[],[],[],[],[],[]\n",
    "for i in range(len(df_excel_filtre.id_comptag.tolist())) :\n",
    "    for j in (janv, fev, mars) :\n",
    "        j.extend([df_excel_filtre.trim1_TV.tolist()[i],df_excel_filtre.trim1_pcpl.tolist()[i]])\n",
    "    for k in (avril,mai,juin) :\n",
    "        k.extend([df_excel_filtre.trim2_TV.tolist()[i],df_excel_filtre.trim2_pcpl.tolist()[i]])\n",
    "    for l in (juil,aout,sept) :\n",
    "        l.extend([df_excel_filtre.trim3_TV.tolist()[i],df_excel_filtre.trim3_pcpl.tolist()[i]])\n",
    "    for m in (octo,nov,dec) :\n",
    "        m.extend([df_excel_filtre.trim4_TV.tolist()[i],df_excel_filtre.trim4_pcpl.tolist()[i]])\n",
    "donnees_mens=pd.DataFrame({'id_comptag':list_id_comptag,'donnees_type':donnees_type,'annee':annee_df,'janv':janv,'fevr':fev,'mars':mars,'avri':avril,\n",
    "              'mai':mai,'juin':juin,'juil':juil,'aout':aout,'sept':sept,'octo':octo,'nove':nov,'dece':dec})"
   ]
  },
  {
   "cell_type": "code",
   "execution_count": 12,
   "metadata": {},
   "outputs": [
    {
     "name": "stdout",
     "output_type": "stream",
     "text": [
      "23-D941-77+25 ok, MaJ\n",
      "23-D941-60+270 ok, MaJ\n",
      "23-D941-57+639 ok, MaJ\n",
      "23-D941-24+257 ok, MaJ\n",
      "23-D914-0+600 ok, MaJ\n",
      "23-D940-39+944 ok, MaJ\n",
      "23-D997-24+86 ok, MaJ\n",
      "23-D915-5+595 ok, MaJ\n",
      "23-D951-8+150 ok, MaJ\n",
      "23-D990-59+690 ok, MaJ\n",
      "23-D942-1+585 ok, MaJ\n",
      "23-D942-23+698 ok, MaJ\n",
      "23-D1-14+725 ok, MaJ\n",
      "23-D1-22+760 ok, MaJ\n",
      "23-D912-15+739 ok, MaJ\n",
      "23-D5-35+590 ok, MaJ\n",
      "23-D913-9+780 ok, MaJ\n",
      "23-D951-28+425 ok, MaJ\n",
      "23-D6-20+56 ok, MaJ\n",
      "23-D6-0+826 ok, MaJ\n",
      "23-D940-50+116 ok, MaJ\n",
      "23-D940-66+431 ok, MaJ\n",
      "23-D990-16+988 ok, MaJ\n",
      "23-D942-31+637 ok, MaJ\n",
      "23-D990-27+817 ok, MaJ\n",
      "23-D990-45+295 ok, MaJ\n",
      "23-D11-6+857 ok, MaJ\n",
      "23-D11-22+776 ok, MaJ\n",
      "23-D917-7+372 ok, MaJ\n",
      "23-D917-12+491 ok, MaJ\n",
      "23-D993-4+638 ok, MaJ\n",
      "23-D915-18+907 ok, MaJ\n",
      "23-D997-35+417 ok, MaJ\n",
      "23-D996-21+935 ok, MaJ\n",
      "23-D4-82+80 ok, MaJ\n",
      "23-D990-65+576 ok, MaJ\n",
      "23-D941A-4+172 ok, MaJ\n",
      "23-D982-1+210 ok, MaJ\n",
      "23-D997-13+862 ok, MaJ\n",
      "23-D982-17+780 ok, MaJ\n",
      "23-D982-36+433 ok, MaJ\n",
      "23-D8-33+506 ok, MaJ\n",
      "23-D912-42+22 ok, MaJ\n",
      "23-D4-19+290 ok, MaJ\n",
      "23-D4-35+917 ok, MaJ\n",
      "23-D940-34+578 ok, MaJ\n",
      "23-D940-20+284 ok, MaJ\n",
      "23-D941-6+152 ok, MaJ\n",
      "23-D912-4+875 ok, MaJ\n",
      "23-D990-34+578 ok, MaJ\n",
      "23-D55-20+284 ok, MaJ\n",
      "23-D941-32+152 ok, MaJ\n",
      "23-D982-4+875 ok, MaJ\n",
      "fini\n"
     ]
    }
   ],
   "source": [
    "#Mise à jour bdd\n",
    "with ct.ConnexionBdd('gti_otv') as c :\n",
    "    c.curs.execute(\"select distinct id_comptag from comptage.na_2010_2018_p where dep='23' order by id_comptag\")\n",
    "    listerecord=[record[0] for record in c.curs]\n",
    "    for id_comptag,tmja, pc_pl  in zip(df_excel_filtre.id_comptag.tolist(), df_excel_filtre.tmja.tolist(),df_excel_filtre.pc_pl.tolist()) : \n",
    "        if id_comptag in listerecord :\n",
    "            c.curs.execute(\"update comptage.na_2010_2018_p set tmja_2018=%s, pc_pl_2018=%s, ann_cpt=%s where id_comptag=%s\",(tmja, pc_pl,annee_cpt,id_comptag))\n",
    "        else : \n",
    "            print (f'{id_comptag} nouveau, à traiter')\n",
    "    print('fini')\n",
    "    c.connexionPsy.commit()\n",
    "    donnees_mens.to_sql('na_2010_2018_mensuel', c.sqlAlchemyConn,schema='comptage',if_exists='append',index=False)"
   ]
  },
  {
   "cell_type": "code",
   "execution_count": null,
   "metadata": {},
   "outputs": [],
   "source": []
  }
 ],
 "metadata": {
  "kernelspec": {
   "display_name": "Python 3",
   "language": "python",
   "name": "python3"
  },
  "language_info": {
   "codemirror_mode": {
    "name": "ipython",
    "version": 3
   },
   "file_extension": ".py",
   "mimetype": "text/x-python",
   "name": "python",
   "nbconvert_exporter": "python",
   "pygments_lexer": "ipython3",
   "version": "3.7.0"
  }
 },
 "nbformat": 4,
 "nbformat_minor": 2
}
