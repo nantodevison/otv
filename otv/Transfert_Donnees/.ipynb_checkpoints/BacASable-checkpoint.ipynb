{
 "cells": [
  {
   "cell_type": "markdown",
   "id": "2fabb976-a4c4-47d7-b688-4aec0ca3fcf4",
   "metadata": {
    "tags": []
   },
   "source": [
    "<h1 style=\"text-align:center;font-size:36px\">NOTEBOOK DE BAC A SABLE</h1>"
   ]
  },
  {
   "cell_type": "code",
   "execution_count": 117,
   "id": "485de31f-a3d6-4bf3-b90b-badd573d5751",
   "metadata": {},
   "outputs": [
    {
     "name": "stdout",
     "output_type": "stream",
     "text": [
      "The autoreload extension is already loaded. To reload it, use:\n",
      "  %reload_ext autoreload\n"
     ]
    }
   ],
   "source": [
    "%load_ext autoreload\n",
    "%autoreload 2\n",
    "import sys\n",
    "sys.path.append(r'C:\\Users\\martin.schoreisz\\git\\otv\\otv\\Transfert_Donnees')\n",
    "sys.path.append(r'C:\\Users\\\\martin.schoreisz\\git\\Outils\\Outils\\Martin_Perso')\n",
    "import pandas as pd\n",
    "import geopandas as gp\n",
    "import numpy as np\n",
    "from shapely.geometry import Point\n",
    "from shapely.ops import transform\n",
    "import pyproj\n",
    "import re, os\n",
    "import Connexion_Transfert as ct\n",
    "import Import_trafics as it\n",
    "import Donnees_horaires as dh\n",
    "import Donnees_sources as ds\n",
    "import Outils as O\n",
    "from Params import Bdd_OTV as pb\n",
    "\n",
    "pd.set_option('display.max_colwidth', 50)\n",
    "pd.set_option('display.max_rows', 300)"
   ]
  },
  {
   "cell_type": "markdown",
   "id": "ffc91a27-4506-4d80-8614-dba5b99785c9",
   "metadata": {
    "tags": []
   },
   "source": [
    "# donnees Tipi"
   ]
  },
  {
   "cell_type": "code",
   "execution_count": null,
   "id": "7c9122a1-01aa-432e-ba28-024a0d1fbdde",
   "metadata": {},
   "outputs": [],
   "source": [
    "donneesMinutes = pd.read_csv(r'C:\\Users\\martin.schoreisz\\Documents\\temp\\OTV\\DIRA\\tipi_alienor_raw.v2.csv', delimiter=',')"
   ]
  },
  {
   "cell_type": "code",
   "execution_count": null,
   "id": "6e392143-1dac-41f6-a58f-4fac3e74b374",
   "metadata": {},
   "outputs": [],
   "source": [
    "# liste des stations TIPI\n",
    "listIdCompteurTipi=donneesMinutes.PME_ID.unique()\n",
    "# liste des stations OTV\n",
    "with ct.ConnexionBdd('local_otv_boulot') as c: \n",
    "    listObsSupl  =pd.read_sql(\"select distinct id_comptag, id_cpt, obs_supl from comptage.compteur where gestionnai='DIRA'\", c.sqlAlchemyConn)\n",
    "listStationOtvBrut = listObsSupl.obs_supl.apply(lambda x : x.split(';')[1].split('station : ')[1] if not pd.isnull(x) and 'EMC' not in x and ';' in x else x).unique()\n",
    "listStationOtvBrut2 = [e.split(',') for e in listStationOtvBrut if e and re.search('^M.*\\.._.*$', e)]\n",
    "listStationOtv = [a.strip().replace('_','') for b in listStationOtvBrut2 for a in b]"
   ]
  },
  {
   "cell_type": "code",
   "execution_count": null,
   "id": "cd1dd6ed-ffac-490e-951b-434f22a266e8",
   "metadata": {},
   "outputs": [],
   "source": [
    "# station TIPI non présentes dans OTV : \n",
    "StationTipiHorsOTV = [s for s in listIdCompteurTipi if s not in listStationOtv]\n",
    "StationOtvHorsTipi = [s for s in listStationOtv if s not in listIdCompteurTipi]\n",
    "StationOtvTipi = [s for s in listIdCompteurTipi if s in listStationOtv]"
   ]
  },
  {
   "cell_type": "markdown",
   "id": "d94f52ac-0511-4bd0-8d4b-1fe29a764a2a",
   "metadata": {
    "tags": []
   },
   "source": [
    "# TEST OUVERTUR FICHIERE TAGMASTER .DAT"
   ]
  },
  {
   "cell_type": "markdown",
   "id": "919c41f8-f773-4cd2-9683-92171d970fb7",
   "metadata": {
    "jp-MarkdownHeadingCollapsed": true,
    "tags": []
   },
   "source": [
    "# donnees CD16 comptages temporaires"
   ]
  },
  {
   "cell_type": "code",
   "execution_count": null,
   "id": "d5eb4be0-6f86-44ac-8640-28d9e6503e8e",
   "metadata": {},
   "outputs": [],
   "source": [
    "cd16Temp=ds.FIM(r'C:\\Users\\martin.schoreisz\\Documents\\temp\\OTV\\CD16\\en_cours\\CD16_Temporaires\\14-5.fim', gest='CD16')"
   ]
  },
  {
   "cell_type": "code",
   "execution_count": null,
   "id": "946ed715-cb56-474e-865b-e127aa6ecd93",
   "metadata": {},
   "outputs": [],
   "source": [
    "cd16Temp.geoloc, cd16Temp.geom_l93.wkt"
   ]
  },
  {
   "cell_type": "code",
   "execution_count": null,
   "id": "ec5d3150-2384-40bd-a99c-86d73e7d65ce",
   "metadata": {},
   "outputs": [],
   "source": [
    "geom_l93"
   ]
  },
  {
   "cell_type": "code",
   "execution_count": null,
   "id": "88894764-a20e-432a-b6e7-60d6b8193001",
   "metadata": {},
   "outputs": [],
   "source": [
    "# parcourir un dossier, vérifier si le le FIM est geoloc et récupérer la geom si c'est le cas\n",
    "dossierCptTemp=r'C:\\Users\\martin.schoreisz\\Documents\\temp\\OTV\\CD16\\en_cours\\CD16_Temporaires'\n",
    "dicoDf={'fichier': [], 'geom': [], 'tmja': [], 'pc_pl': []}\n",
    "with os.scandir(dossierCptTemp) as it:\n",
    "    for e in it:\n",
    "        if e.is_file() and e.name.lower().endswith('.fim'):\n",
    "            cpt=ds.FIM(e, verifQualite='Message')\n",
    "            if cpt.geoloc:\n",
    "                dicoDf['fichier'].append(e.name)\n",
    "                dicoDf['geom'].append(cpt.geom_l93)\n",
    "                dicoDf['tmja'].append(cpt.tmja)\n",
    "                dicoDf['pc_pl'].append(cpt.tmja)"
   ]
  },
  {
   "cell_type": "code",
   "execution_count": null,
   "id": "0dabd066-dc88-450d-8cf2-3b080ebab1a7",
   "metadata": {},
   "outputs": [],
   "source": [
    "df=pd.DataFrame(dicoDf)\n",
    "gdf=gp.GeoDataFrame(df, geometry=df.geom, crs='epsg:2154')\n",
    "gdf.drop('geom', axis=1).to_file(r'C:\\Users\\martin.schoreisz\\Documents\\temp\\OTV\\CD16\\testGeomTemp.shp')"
   ]
  },
  {
   "cell_type": "code",
   "execution_count": null,
   "id": "a8ecba9e-07df-4b18-93d8-f59c59d527de",
   "metadata": {},
   "outputs": [],
   "source": [
    "cpt.geom_l93.wkt"
   ]
  },
  {
   "cell_type": "code",
   "execution_count": null,
   "id": "a97ef308-2840-4529-97da-c52055f7a85c",
   "metadata": {},
   "outputs": [],
   "source": [
    "wgs84Proj = pyproj.CRS('EPSG:4326')\n",
    "l93Proj = pyproj.CRS('EPSG:2154')\n",
    "project = pyproj.Transformer.from_crs(wgs84Proj, l93Proj).transform\n",
    "geoloc=re.search('(?P<lat>(\\-|\\+)[0-9]{1,3}\\.([0-9]{4}\\.){2})(?P<long>(\\-|\\+)[0-9]{1,3}\\.([0-9]{4}\\.){2})', '+45.6021.6666.-000.2134.6333.')\n",
    "longitude = geoloc.group('long')\n",
    "latitude = geoloc.group('lat')\n",
    "x_wgs84=float(re.sub('(\\+|-)(.*\\.)(.*)(\\.)(.*)(\\.)', '\\g<1>\\g<2>\\g<3>\\g<5>', longitude))\n",
    "y_wgs84=float(re.sub('(\\+|-)(.*\\.)(.*)(\\.)(.*)(\\.)', '\\g<1>\\g<2>\\g<3>\\g<5>', latitude))\n",
    "geom_wgs84=Point(y_wgs84, x_wgs84 )\n",
    "geom_l93 = transform(project, geom_wgs84)"
   ]
  },
  {
   "cell_type": "code",
   "execution_count": null,
   "id": "78b1f72b-55bf-44fc-854e-4ee83471c617",
   "metadata": {},
   "outputs": [],
   "source": [
    "geom_l93.wkt"
   ]
  },
  {
   "cell_type": "code",
   "execution_count": null,
   "id": "c5b7b485-1072-49a2-bf57-527fd3ea5062",
   "metadata": {},
   "outputs": [],
   "source": [
    "cpt.dfHoraire2Sens.pivot(index=['date', 'type_veh', 'fichier'], columns='heure', values='nbVeh').reset_index().rename(\n",
    "    columns={k: v for k, v in zip(['date', 'type_veh']+[e for e in range(24)], ['jour', 'indicateur']+dh.attributsHoraire)})"
   ]
  },
  {
   "cell_type": "code",
   "execution_count": null,
   "id": "74b3917a-15e5-4d09-9321-ef35f97167e9",
   "metadata": {},
   "outputs": [],
   "source": [
    "cpt.dfHoraire2Sens"
   ]
  },
  {
   "cell_type": "markdown",
   "id": "dcdfdc82-1998-4f87-94b0-9604140cff7a",
   "metadata": {
    "jp-MarkdownHeadingCollapsed": true,
    "tags": []
   },
   "source": [
    "# test donnees 6 minutes vikings"
   ]
  },
  {
   "cell_type": "code",
   "execution_count": null,
   "id": "a3a2fd39-1a83-4042-962d-6a93e058ae91",
   "metadata": {
    "jp-MarkdownHeadingCollapsed": true,
    "tags": []
   },
   "outputs": [],
   "source": [
    "vik = ds.Viking(r'C:\\Users\\martin.schoreisz\\Documents\\temp\\DreamTeam\\P5_.VIK')"
   ]
  },
  {
   "cell_type": "code",
   "execution_count": null,
   "id": "0d6a2221-8a98-49db-8521-c69e8fc284ca",
   "metadata": {
    "jp-MarkdownHeadingCollapsed": true,
    "tags": []
   },
   "outputs": [],
   "source": [
    "dfGroupe=ds.GroupeCompletude(ds.NettoyageTemps(vik.dfFichier), '6T', vitesse=True)#.iloc[:100]"
   ]
  },
  {
   "cell_type": "code",
   "execution_count": null,
   "id": "3a12b1a3-1336-4281-9060-342d608fa69e",
   "metadata": {},
   "outputs": [],
   "source": [
    "vik.dfFichier"
   ]
  },
  {
   "cell_type": "code",
   "execution_count": null,
   "id": "d73b88c0-a0db-4bdf-be3c-df0ad9bdd590",
   "metadata": {},
   "outputs": [],
   "source": [
    "dfGroupe.to_csv(r'C:\\Users\\martin.schoreisz\\Documents\\temp\\DreamTeam\\P5_.csv')"
   ]
  },
  {
   "cell_type": "code",
   "execution_count": null,
   "id": "4d691a88-b133-49cf-b168-998a24ccbeef",
   "metadata": {},
   "outputs": [],
   "source": [
    "dfValide = ds.NettoyageTemps(vik.dfFichier)\n",
    "frequence='6T'"
   ]
  },
  {
   "cell_type": "code",
   "execution_count": null,
   "id": "96709c1a-074b-4d16-82f6-2c99f11fd9aa",
   "metadata": {},
   "outputs": [],
   "source": [
    "dfGroupTypeHeure=dfValide.set_index('date_heure').groupby([pd.Grouper(freq=frequence),'type_veh','sens'])['nbVeh'].count().reset_index().sort_values('date_heure')\n",
    "#completude des données\n",
    "#ajout des données horaires à 0 si aucun type de vehicules mesures\n",
    "date_range=pd.date_range(dfGroupTypeHeure.date_heure.min(),dfGroupTypeHeure.date_heure.max(),freq=frequence)\n",
    "# df de comparaison\n",
    "dfComp=pd.DataFrame({'type_veh':['2R','PL','VL']}).assign(key=1).merge(pd.DataFrame({'date_heure':date_range}).assign(key=1), on='key').merge(\n",
    "pd.DataFrame({'sens':['sens1','sens2']}).assign(key=1)).sort_values(['date_heure', 'type_veh','sens'])[['date_heure','type_veh','sens']]\n",
    "# df des données amnquantes\n",
    "dfManq=dfComp.loc[dfComp.apply(lambda x : (x['date_heure'],x['type_veh'],x['sens']) not in zip(dfGroupTypeHeure.date_heure.tolist(),dfGroupTypeHeure.type_veh.tolist(),\n",
    "                  dfGroupTypeHeure.sens.tolist()), axis=1)].copy()\n",
    "dfHeureTypeSens = pd.concat([dfManq,dfGroupTypeHeure],axis=0).fillna(0).sort_values(['date_heure', 'type_veh','sens'])\n",
    "dfHeureTypeSens['jour']=dfHeureTypeSens.date_heure.dt.dayofweek\n",
    "dfHeureTypeSens['jourAnnee']=dfHeureTypeSens.date_heure.dt.dayofyear\n",
    "dfHeureTypeSens['heure']=dfHeureTypeSens.date_heure.dt.hour\n",
    "dfHeureTypeSens['date']=pd.to_datetime(dfHeureTypeSens.date_heure.dt.date)\n",
    "dfHeureTypeSens=pd.concat([dfHeureTypeSens.groupby(['date_heure','sens']).agg({'nbVeh':'sum','heure':lambda x : x.unique()[0], \n",
    "                    'jour':lambda x : x.unique()[0],'jourAnnee':lambda x : x.unique()[0],'date':lambda x : x.unique()[0]}\n",
    "                    ).assign(type_veh='TV').reset_index(),dfHeureTypeSens], axis=0, sort=False).sort_values(['date_heure', 'type_veh'])"
   ]
  },
  {
   "cell_type": "code",
   "execution_count": null,
   "id": "f2397ad3-efc1-4e8a-ba06-cbf6a4ea3d2a",
   "metadata": {},
   "outputs": [],
   "source": [
    "dfGroupVtsHeure=pd.concat([dfValide.set_index('date_heure').groupby([pd.Grouper(freq=frequence),'sens']).agg(\n",
    "            **{'v10': pd.NamedAgg(column='vitesse',aggfunc=lambda x : np.percentile(x,10)),\n",
    "               'v50': pd.NamedAgg(column='vitesse',aggfunc=lambda x : np.percentile(x,50)),\n",
    "               'v85': pd.NamedAgg(column='vitesse',aggfunc=lambda x : np.percentile(x,85))}).reset_index().sort_values('date_heure').assign(type_veh='TV'),\n",
    "           dfValide.set_index('date_heure').groupby([pd.Grouper(freq=frequence),'sens', 'type_veh']).agg(\n",
    "            **{'v10': pd.NamedAgg(column='vitesse',aggfunc=lambda x : np.percentile(x,10)),\n",
    "               'v50': pd.NamedAgg(column='vitesse',aggfunc=lambda x : np.percentile(x,50)),\n",
    "               'v85': pd.NamedAgg(column='vitesse',aggfunc=lambda x : np.percentile(x,85))}).reset_index().sort_values('date_heure')])\n",
    "dfHeureTypeSensV=dfHeureTypeSens.merge(dfGroupVtsHeure, on=['date_heure','sens', 'type_veh'],how='left').sort_values(['date_heure', 'type_veh', 'sens'])"
   ]
  },
  {
   "cell_type": "code",
   "execution_count": null,
   "id": "e2e1231d-8c7e-4d36-b137-3431dbf4f925",
   "metadata": {},
   "outputs": [],
   "source": [
    "dfHeureTypeSensV"
   ]
  },
  {
   "cell_type": "code",
   "execution_count": null,
   "id": "9c6f6f0b-3146-464d-86a0-0c615b38ed93",
   "metadata": {},
   "outputs": [],
   "source": [
    "pd.concat([dfValide.set_index('date_heure').groupby([pd.Grouper(freq=frequence),'sens']).agg(\n",
    "            **{'v10': pd.NamedAgg(column='vitesse',aggfunc=lambda x : np.percentile(x,10)),\n",
    "               'v50': pd.NamedAgg(column='vitesse',aggfunc=lambda x : np.percentile(x,50)),\n",
    "               'v85': pd.NamedAgg(column='vitesse',aggfunc=lambda x : np.percentile(x,85))}).reset_index().sort_values('date_heure').assign(type_veh='TV'),\n",
    "           dfValide.set_index('date_heure').groupby([pd.Grouper(freq=frequence),'sens', 'type_veh']).agg(\n",
    "            **{'v10': pd.NamedAgg(column='vitesse',aggfunc=lambda x : np.percentile(x,10)),\n",
    "               'v50': pd.NamedAgg(column='vitesse',aggfunc=lambda x : np.percentile(x,50)),\n",
    "               'v85': pd.NamedAgg(column='vitesse',aggfunc=lambda x : np.percentile(x,85))}).reset_index().sort_values('date_heure')])"
   ]
  },
  {
   "cell_type": "markdown",
   "id": "6b2439da-c916-4ec1-a741-fe47a083d49b",
   "metadata": {
    "tags": []
   },
   "source": [
    "# affectation auto des points de comptage\n",
    "> on part des points de comptages nouveau avec une géométrie (exemple dans le 47)<br>\n",
    "***EN COURS<BR>CHAPITRE 6.2.2 ET 2CRITURE DE LA FONCTION creerComptageAssoc(). L'IDEE EST DE CREER LES DF DIRECTEMENT TELEVERSABLES DANS LA BDD.<br>ENSUITE IL FAUDRA VERIFIER QUE TOUTE LES ETAPES DU SCHEMA [geolocaliserPtComptage](C:\\Users\\martin.schoreisz\\Box\\Dossier_Perso\\OTV\\travail\\methode\\Schemas_OTV.mdj) SONT BIEN REALISEE. JE PENSE QUE LE PB A L'EXECUTION DE LA FONCTION VIENT DE LA FONCTIO MERGE QUI CREE DES _x ET _y SUR DES ATTRIBUTS QUE JE SOUHAITE REFERENCER ENSUITE***\n"
   ]
  },
  {
   "cell_type": "code",
   "execution_count": 77,
   "id": "c83b4076-8bbf-4434-bcb2-f7a0f24d5e93",
   "metadata": {},
   "outputs": [],
   "source": [
    "# recupérer les données\n",
    "# params : nom de table  ou df des points geolocalises, nom de table de linauto, nom de Bdd\n",
    "with ct.ConnexionBdd('local_otv_boulot') as c:\n",
    "    pt47 = gp.read_postgis('select * from cd47_2020', c.sqlAlchemyConn)\n",
    "    pt47Geom = gp.read_postgis('select * from cd47_2020 where geom is not null', c.sqlAlchemyConn)\n",
    "    cptSansGeom = gp.read_postgis('select * from cd47_2020 where geom is null', c.sqlAlchemyConn)\n",
    "    linauto47 = gp.read_postgis(\"\"\"\n",
    "                                 select DISTINCT ON (t.gid) c.id_comptag id_comptag_bdd,c.type_poste type_poste_bdd, t.gid, t.geom, st_distance(c.geom, t.geom)\n",
    "                                  from (SELECT * FROM linauto.traf2020_bdt_na_ed20_simpli_l where list_dept like '%%47%%') t LEFT JOIN comptage.compteur c ON st_dwithin(c.geom, t.geom, 30)\n",
    "                                  ORDER BY t.gid, CASE WHEN c.type_poste = 'permanent' THEN 1 \n",
    "                                                       WHEN c.type_poste = 'tournant' THEN 2\n",
    "                                                       WHEN c.type_poste = 'ponctuel' THEN 3 \n",
    "                                                       ELSE 4 \n",
    "                                                       end\n",
    "                                 \"\"\", c.sqlAlchemyConn)"
   ]
  },
  {
   "cell_type": "markdown",
   "id": "acc1e6a5-3926-4b0e-aa91-5797a8e590bd",
   "metadata": {},
   "source": [
    "## Prealable\n",
    "> ici on va preparer les donnes et fonctions generiques"
   ]
  },
  {
   "cell_type": "markdown",
   "id": "106fc306-2b59-4c09-bbfc-11d28ccbcef7",
   "metadata": {
    "tags": []
   },
   "source": [
    "### preparation des donnees"
   ]
  },
  {
   "cell_type": "code",
   "execution_count": 78,
   "id": "d2f968df-82e2-4398-bcc7-f3ec7ab057dd",
   "metadata": {},
   "outputs": [],
   "source": [
    "# on en déduit le plus proche voisin entre les points et la linauto\n",
    "ppV = O.plus_proche_voisin(pt47Geom, linauto47, 10, 'id_comptag', 'gid')\n",
    "ppVSectHomo = ppV.loc[~ppV.gid.isna()].copy()\n",
    "ppvHorsSectHomo = ppV.loc[ppV.gid.isna()].copy()  # PENSER A CREER LES COMPTEURS POUR CEUX LA !!!!!\n",
    "# et on récupère l'id_comptag_existant et l'id de section homogene\n",
    "ppVTot = pt47Geom.merge(ppVSectHomo, how='left', on='id_comptag').merge(linauto47, how='left', on='gid')\n",
    "\n",
    "# trouver le nombre de comptage par section homogène (gid)\n",
    "nbCptSectHomo = ppVTot.gid.value_counts()\n",
    "\n",
    "# separer les differents cas a traiter\n",
    "cptSimpleSectHomo = ppVTot.loc[ppVTot.gid.isin(nbCptSectHomo.loc[nbCptSectHomo == 1].index.tolist())].copy()\n",
    "cptMultiSectHomo = ppVTot.loc[ppVTot.gid.isin(nbCptSectHomo.loc[nbCptSectHomo > 1].index.tolist())].copy()"
   ]
  },
  {
   "cell_type": "markdown",
   "id": "45a3bf96-45b5-4052-87fe-7bfb49396764",
   "metadata": {
    "tags": []
   },
   "source": [
    "### Fonctions génériques"
   ]
  },
  {
   "cell_type": "code",
   "execution_count": 79,
   "id": "fa394feb-bcbf-4f0b-9ce1-2f59acae8be5",
   "metadata": {},
   "outputs": [],
   "source": [
    "def creerCompteur(cptRef, attrGeom, dep, reseau, gestionnai, concession, techno=None, src_geo=None, obs_geo=None, obs_supl=None, id_cpt=None,\n",
    "                  id_sect=None, fictif=False, en_service=True):\n",
    "    \"\"\"\n",
    "    creation d'une df prete a etre integree dans la table des compteurs\n",
    "    presque tout les chmaps \n",
    "    in : \n",
    "        cptRef : ou geodataframe avec un attribut de géométrie en SRID = 2154\n",
    "        attrGeom : string : nom de l'attribut supportant la géométrie\n",
    "        dep : departement sur 2 caractère ou pd.Series\n",
    "        reseau : valeur depuis liste enumeree (cf bdd) ou pd.Series de ces valeurs\n",
    "        gestionnai : valeur depuis liste enumeree (cf bdd) ou pd.Series de ces valeurs\n",
    "        concession : boolean ou pd.Series de booleean\n",
    "    \"\"\"\n",
    "    df = cptRef.copy()\n",
    "    O.checkAttributsinDf(df, [attrGeom, 'id_comptag', 'type_poste', 'periode', 'pr', 'absc', 'route', 'src_cpt', 'convention', 'sens_cpt'])\n",
    "    df = df[[attrGeom, 'id_comptag', 'type_poste', 'periode', 'pr', 'absc', 'route', 'src_cpt', 'convention', 'sens_cpt']].assign(\n",
    "        dep=dep, reseau=reseau, gestionnai=gestionnai, concession=concession, techno=techno, src_geo=src_geo, obs_geo=obs_geo,\n",
    "        obs_supl=obs_supl, id_cpt=id_cpt, id_sect=id_sect, fictif=fictif, en_service=en_service)\n",
    "    df['x_l93'] = df[attrGeom].apply(lambda x: round(x.x,3))\n",
    "    df['y_l93'] = df[attrGeom].apply(lambda x: round(x.y,3))\n",
    "    df.drop(\n",
    "        [c for c in df.columns if c not in ('dep', 'reseau', 'gestionnai', 'concession', attrGeom,\n",
    "                                            'id_comptag', 'type_poste', 'periode', 'pr', 'absc', 'route', 'src_cpt', 'convention', 'sens_cpt', 'reseau', 'dep',\n",
    "                                            'reseau', 'gestionnai', 'concession', 'techno', 'src_geo', 'obs_geo', 'obs_supl', 'id_cpt', 'id_sect', 'fictif',\n",
    "                                            'en_service')], axis=1, inplace=True)\n",
    "    gdfCpt = gp.GeoDataFrame(df, geometry=attrGeom, crs=2154)\n",
    "    gdfCpt = O.gp_changer_nom_geom(gdfCpt, 'geom')\n",
    "    return gdfCpt"
   ]
  },
  {
   "cell_type": "code",
   "execution_count": 151,
   "id": "adfb72ae-bc04-4849-a75b-5e5fd2aa1961",
   "metadata": {},
   "outputs": [],
   "source": [
    "def rangBddComptageAssoc(id_comptag_ref_Bdd, bdd='local_otv_boulot'):\n",
    "    \"\"\"\n",
    "    Récupérer dans la bdd, le rang max associé à un comptage de réference dans la table comptage_assoc.comptage\n",
    "    \"\"\"\n",
    "    with ct.ConnexionBdd(bdd) as c:\n",
    "        rqt = f\"\"\"SELECT COALESCE(max(cac.rang),0) rang \n",
    "                   FROM comptage_assoc.comptage cac JOIN comptage.comptage c ON c.id = cac.id_cptag_ref \n",
    "                   WHERE c.id_comptag='{id_comptag_ref_Bdd}'\"\"\"\n",
    "        rang = pd.read_sql(rqt, c.sqlAlchemyConn).iloc[0]\n",
    "    return rang\n",
    "\n",
    "\n",
    "# ################# #!!!!! EN COURS !!!!!##############################################################\n",
    "def creerComptageAssoc(df, id_comptag_ref_nom, annee, id_compteur_asso_nom=None, src=None):\n",
    "    \"\"\"\n",
    "    a partir d'une df, creer la df a injecter dans les tables compteur et comptage du schema comptage_assoc de la bdd\n",
    "    in : \n",
    "        df : la df de base, doit contenir obligatoirement les attributs decrivant l'id_comptag_ref, le rang, le type_veh. si possible la periode, src, obs.\n",
    "             si le comptage_assoc comprend une dimension géométrique, les attributs decrivant l'id_compteur_asso, le type_poste, la src_geo, la src_cpt, convention,\n",
    "             et sens_cpt sont obligatoire. si possible ajouter route, pr, abs, techno, obs_geo, obs_supl\n",
    "        id_comptag_ref_nom : string : nom de l'attribut supportant l'id_comptag du point de référence\n",
    "        id_compteur_asso_nom : string : nom de l'attribut supportant l'id_comptag du point associé si composante geometrique\n",
    "        annee : string annee sur 4 caractères\n",
    "    \"\"\"\n",
    "    O.checkAttributsinDf(df, ['type_veh', 'periode'])\n",
    "    if id_compteur_asso_nom:\n",
    "        O.checkAttributsinDf(df, ['type_poste', 'src_geo', 'src_cpt', 'convention', 'sens_cpt'])\n",
    "    instanceCpt = it.Comptage('fake')\n",
    "    corresIdComptag = instanceCpt.recupererIdUniqComptage(df[[id_comptag_ref_nom]].rename(columns={id_comptag_ref_nom: 'id_comptag'}).assign(annee=annee))\n",
    "    dfIds = df.merge(corresIdComptag, left_on=id_comptag_ref_nom, right_on='id_comptag', how='left').rename(columns={'id_comptag_uniq': 'id_comptag_ref'}).assign(annee=annee)\n",
    "    dfIds['rang_bdd'] = dfIds[id_comptag_ref_nom].apply(lambda x: rangBddComptageAssoc(x))\n",
    "    dfIds['rang_df'] = dfIds.groupby(id_comptag_ref_nom).cumcount()+1\n",
    "    dfIds['rang'] = dfIds['rang_bdd']+dfIds['rang_df']\n",
    "    tableComptage = dfIds.rename(columns={id_compteur_asso_nom: 'id_compteur_asso'})[[c for c in pb.attrComptageAssoc if c in dfIds.columns]].copy()\n",
    "    return dfIds, tableComptage, corresIdComptag\n",
    "#########################################################################################################"
   ]
  },
  {
   "cell_type": "code",
   "execution_count": 99,
   "id": "8777cad6-980c-40ea-bc14-d1c6efbc3c1c",
   "metadata": {},
   "outputs": [],
   "source": [
    "def creerCorrespComptag(df, nomAttrIdComptagGest, nomAttrIdComptagGti, listIdCptExclu):\n",
    "    \"\"\"\n",
    "    creer une df a integrer dans la bdd a partir d'une df comprenant : un attribut id_comptag de la bdd et un attribut id_comptag issu des données gestionnaire.\n",
    "    si la df commprend des type poste gestionnaire et bdd on peut ajouter le nom de ces attributs pour faire un test \n",
    "    in :\n",
    "        df : df de base doit contenir un attribut id_comptag de la bdd et un attribut id_comptag issu des données gestionnaire\n",
    "        nomAttrIdComptagGest : string : nom de l'attribut décrivant l'id_comptag issu des données gestionnaire\n",
    "        nomAttrIdComptagGti : string : nom de l'attribut décrivant l'id_comptag de la bdd\n",
    "        listIdCptExclu : list ou tuple : list des id_comptage à ne pas prendre en compte\n",
    "    \"\"\"\n",
    "    return df.loc[~df[nomAttrIdComptagGest].isin(listIdCptExclu)][[nomAttrIdComptagGest, nomAttrIdComptagGti]].copy().rename(columns={nomAttrIdComptagGest: 'id_gest', nomAttrIdComptagGti: 'id_gti'})"
   ]
  },
  {
   "cell_type": "markdown",
   "id": "6b1b3dc0-94b0-4d10-a6e0-e6e2d9f7d3cd",
   "metadata": {
    "tags": []
   },
   "source": [
    "## CAS 1 : 1 seul comptage sur une section homogène\n",
    "on va séparer les cas où un id_comptag est déjà présent ou non"
   ]
  },
  {
   "cell_type": "code",
   "execution_count": 82,
   "id": "c35d88e7-563a-4ea7-899c-79f943cd9390",
   "metadata": {},
   "outputs": [],
   "source": [
    "cptSimpleSectHomoNew = cptSimpleSectHomo.loc[cptSimpleSectHomo.id_comptag_bdd.isna()].copy()\n",
    "cptSimpleSectHomoOld = cptSimpleSectHomo.loc[~cptSimpleSectHomo.id_comptag_bdd.isna()].copy()"
   ]
  },
  {
   "cell_type": "markdown",
   "id": "22b89617-4b12-4ff5-ba1d-373e9aff2fc2",
   "metadata": {
    "jp-MarkdownHeadingCollapsed": true,
    "tags": []
   },
   "source": [
    "### Comptage sur section_homogene sans id_comptag\n",
    "creation des compteurs, comptages et indicateurs"
   ]
  },
  {
   "cell_type": "code",
   "execution_count": null,
   "id": "aa06663a-9818-4f96-8c09-11dd69c3ed79",
   "metadata": {},
   "outputs": [],
   "source": [
    "# analyse visuelle via Qgis\n",
    "cptSimpleSectHomoNew = gp.GeoDataFrame(cptSimpleSectHomoNew, geometry='geom_x', crs=2154)\n",
    "cptSimpleSectHomoNew.drop('geom_y', axis=1).to_file(r'C:\\Users\\martin.schoreisz\\Documents\\temp\\OTV\\CD47\\verifCreationCompteur.shp')\n",
    "# analyse -> ok"
   ]
  },
  {
   "cell_type": "code",
   "execution_count": 50,
   "id": "1ab8b6cf-5251-454b-871c-df1182927600",
   "metadata": {},
   "outputs": [],
   "source": [
    "# creation des compteurs\n",
    "attrGeomCompteurNew = 'geom_x'\n",
    "dep = '47'\n",
    "reseau = 'RD'\n",
    "gestionnai = 'CD47'\n",
    "concession = 'N'\n",
    "cptSimpleSectHomoNew['src_cpt'] = cptSimpleSectHomoNew.type_poste.apply(lambda x: 'convention_gestionnaire' if x == 'permanent' else 'gestionnaire')\n",
    "cptSimpleSectHomoNew['convention'] = cptSimpleSectHomoNew.type_poste.apply(lambda x: True if x == 'permanent' else False)\n",
    "cptSimpleSectHomoNew['sens_cpt'] = 'double sens'\n",
    "dfCompteurNew = creerCompteur(cptSimpleSectHomoNew, attrGeomCompteurNew, dep, reseau, gestionnai, concession, techno=None, \n",
    "                              src_geo=None, obs_geo=None, obs_supl=None, id_cpt=None, id_sect=None, fictif=False, en_service=True)"
   ]
  },
  {
   "cell_type": "code",
   "execution_count": 58,
   "id": "214b1d5c-18b6-43e5-bdc2-b549ed083307",
   "metadata": {},
   "outputs": [],
   "source": [
    "# creation des comptages (il faut inserer les compteurs avant)\n",
    "cptFictif = it.Comptage('faux')\n",
    "cptFictif.creer_comptage(cptSimpleSectHomoNew.id_comptag.tolist(), 2020, 'donnees complete CD47', 'vl/pl', periode=cptSimpleSectHomoNew.periode.tolist())"
   ]
  },
  {
   "cell_type": "code",
   "execution_count": null,
   "id": "689e943b-2375-4574-9a8b-11dd6dd70fba",
   "metadata": {},
   "outputs": [],
   "source": [
    "# creation des indicateurs (necessite la creation des comptages avant)\n",
    "cptFictif.structureBddOld2NewForm(cptSimpleSectHomoNew.assign(annee='2020'), '2020', ['id_comptag','annee', 'fichier'], ['tmja', 'pc_pl'], 'agrege')"
   ]
  },
  {
   "cell_type": "markdown",
   "id": "62f3013c-8eaf-475f-b431-bf425b0e0149",
   "metadata": {
    "tags": []
   },
   "source": [
    "### Comptage sur section_homogene avec id_comptag\n",
    "selon la nature du comptage deja présent dans la base et selon la nature du comptage a injecté, on va soit : \n",
    "- creer un nouveau comptage associe avec le nouveau point\n",
    "- creer une correspondance dans corresp_id_comptag\n",
    "- modifier le type de poste et tracer la modif"
   ]
  },
  {
   "cell_type": "code",
   "execution_count": 96,
   "id": "91dadd14-e811-4033-b96d-628d9b5cf35c",
   "metadata": {},
   "outputs": [],
   "source": [
    "def ventilerNouveauComptageRef(df, nomAttrtypePosteGest, nomAttrtypePosteBdd, nomAttrperiode):\n",
    "    \"\"\"\n",
    "    depuis une df des comptage de référence situé sur des tronçons avec un id_comptag existantdans la base, \n",
    "    séparer en 3 groupe selon le type de poste dans la bdd et le type de poste du hestionnaire.\n",
    "    in : \n",
    "        df : dataframe a classifier\n",
    "        nomAttrtypePosteGest : string : nom de l'attribut supportant le type de poste fourni par le gest \n",
    "        nomAttrtypePosteBdd : string : nom de l'attribut supportant le type de poste dans la bdd\n",
    "        nomAttrperiode : string : nom de l'attribut décrivant la période de mesure\n",
    "    \"\"\"\n",
    "    dfCorrespIdComptag = df.loc[((cptSimpleSectHomoOld[nomAttrtypePosteGest] == cptSimpleSectHomoOld[nomAttrtypePosteBdd]) &\n",
    "                                 (cptSimpleSectHomoOld[nomAttrtypePosteGest] != 'ponctuel')) |\n",
    "                                ((cptSimpleSectHomoOld[nomAttrtypePosteGest] == cptSimpleSectHomoOld[nomAttrtypePosteBdd]) &\n",
    "                                 (cptSimpleSectHomoOld[nomAttrtypePosteGest] == 'ponctuel') &\n",
    "                                 (~cptSimpleSectHomoOld[nomAttrperiode].apply(lambda x: O.verifVacanceRange(x))))].copy()\n",
    "    dfCreationComptageAssocie = cptSimpleSectHomoOld.loc[((cptSimpleSectHomoOld[nomAttrtypePosteGest] =='ponctuel') & \n",
    "                                                          (cptSimpleSectHomoOld[nomAttrtypePosteBdd].isin(('permanent', 'tournant')))) |\n",
    "                                                         ((cptSimpleSectHomoOld[nomAttrtypePosteGest] == cptSimpleSectHomoOld[nomAttrtypePosteBdd]) &\n",
    "                                                          (cptSimpleSectHomoOld[nomAttrtypePosteGest] == 'ponctuel') &\n",
    "                                                          (cptSimpleSectHomoOld[nomAttrperiode].apply(lambda x: O.verifVacanceRange(x))))]\n",
    "    dfModifTypePoste = df.loc[((df[nomAttrtypePosteGest].isin(('permanent', 'tournant'))) & (df[nomAttrtypePosteBdd] == 'ponctuel')) |\n",
    "                              ((df[nomAttrtypePosteGest] == 'permanent') & (df[nomAttrtypePosteBdd] == 'tournant'))].copy()\n",
    "    return dfCorrespIdComptag, dfCreationComptageAssocie, dfModifTypePoste"
   ]
  },
  {
   "cell_type": "code",
   "execution_count": 97,
   "id": "9620002e-7eab-4cf2-8660-761f6cab16de",
   "metadata": {
    "tags": []
   },
   "outputs": [],
   "source": [
    "dfCorrespIdComptag, dfCreationComptageAssocie, dfModifTypePoste = ventilerNouveauComptageRef(cptSimpleSectHomoOld, 'type_poste', 'type_poste_bdd', 'periode')"
   ]
  },
  {
   "cell_type": "code",
   "execution_count": null,
   "id": "0181e9ed-d140-45e5-98f4-42a0f711f3e4",
   "metadata": {
    "tags": []
   },
   "outputs": [],
   "source": [
    "# analyse de la table de correspiIdComptag\n",
    "# export pour vérif\n",
    "gp.GeoDataFrame(dfCorrespIdComptag.drop('geom_y', axis=1), geometry='geom_x', crs=2154\n",
    "                ).to_file(r'C:\\Users\\martin.schoreisz\\Documents\\temp\\OTV\\CD47\\verifCorrespIdComptage.shp')"
   ]
  },
  {
   "cell_type": "code",
   "execution_count": 102,
   "id": "a6b33baf-25b8-4e6c-bc98-2bf995177ac8",
   "metadata": {
    "tags": []
   },
   "outputs": [],
   "source": [
    "# certains comptages doivent etre \"forcé\" en nouveau compteur. On fait une liste\n",
    "listCompteurAForcer = []\n",
    "listCompteurAForcer.append('47-D211-8+0')"
   ]
  },
  {
   "cell_type": "code",
   "execution_count": null,
   "id": "8b02b636-b4e2-4d1a-8998-2161302126d9",
   "metadata": {
    "tags": []
   },
   "outputs": [],
   "source": [
    "# analyse de la table de correspiIdComptag\n",
    "# export pour vérif\n",
    "gp.GeoDataFrame(dfCreationComptageAssocie.drop('geom_y', axis=1), geometry='geom_x', crs=2154\n",
    "                ).to_file(r'C:\\Users\\martin.schoreisz\\Documents\\temp\\OTV\\CD47\\verifComptagesAssoc.shp')"
   ]
  },
  {
   "cell_type": "code",
   "execution_count": 104,
   "id": "a0f78d63-ac79-4172-a68c-b9913287a987",
   "metadata": {
    "tags": []
   },
   "outputs": [],
   "source": [
    "# on ajoute les valeurs dans la liste des compteurs a faorcer\n",
    "listCompteurAForcer.append('47-D124-0+315')\n",
    "listCompteurAForcer.append('47-D292-2+140')"
   ]
  },
  {
   "cell_type": "code",
   "execution_count": null,
   "id": "8192a85a-48f5-442c-aa63-8cbe42caa910",
   "metadata": {
    "tags": []
   },
   "outputs": [],
   "source": [
    "# analyse des modifs de type de poste : -> null\n",
    "dfModifTypePoste"
   ]
  },
  {
   "cell_type": "code",
   "execution_count": 107,
   "id": "c62a0ed7-f737-423b-8d92-74e87d73a3d5",
   "metadata": {
    "tags": []
   },
   "outputs": [],
   "source": [
    "# EN COURS\n",
    "# EN COURS on cree les correspondances, comptages associes et compteurs (en cours)\n",
    "correspIdComptag = creerCorrespComptag(dfCorrespIdComptag, 'id_comptag', 'id_comptag_bdd', listCompteurAForcer)"
   ]
  },
  {
   "cell_type": "code",
   "execution_count": 153,
   "id": "f1b4a547-29c3-4c0f-a3a4-090dc9aa5e21",
   "metadata": {
    "tags": []
   },
   "outputs": [],
   "source": [
    "# EN COURS\n",
    "dfIds, tableComptage, corresIdComptag = creerComptageAssoc(dfCreationComptageAssocie.assign(type_veh='vl/pl',\n",
    "                                                    src_geo='pr+abs_gestionnaire',\n",
    "                                                    convention=lambda x: dfCreationComptageAssocie.type_poste.apply(lambda x: True if x == 'permanent' else False),\n",
    "                                                    sens_cpt='double sens',\n",
    "                                                    src_cpt=lambda x: dfCreationComptageAssocie.type_poste.apply(lambda x: 'convention gestionnaire'\n",
    "                                                                                                                 if x == 'permanent' else 'gestionnaire')),\n",
    "                   'id_comptag_bdd', '2020', id_compteur_asso_nom='id_comptag', src=None)"
   ]
  },
  {
   "cell_type": "code",
   "execution_count": 123,
   "id": "1265ed4f-215d-47f3-a38d-36eaec84e22e",
   "metadata": {
    "tags": []
   },
   "outputs": [
    {
     "ename": "KeyError",
     "evalue": "\"['obs', 'id_comptag_ref', 'id_cpteur_asso'] not in index\"",
     "output_type": "error",
     "traceback": [
      "\u001b[1;31m---------------------------------------------------------------------------\u001b[0m",
      "\u001b[1;31mKeyError\u001b[0m                                  Traceback (most recent call last)",
      "\u001b[1;32mC:\\Users\\MARTIN~1.SCH\\AppData\\Local\\Temp/ipykernel_18108/1307160178.py\u001b[0m in \u001b[0;36m<module>\u001b[1;34m\u001b[0m\n\u001b[1;32m----> 1\u001b[1;33m creerComptageAssoc(dfCreationComptageAssocie.assign(type_veh='vl/pl',\n\u001b[0m\u001b[0;32m      2\u001b[0m                                                     \u001b[0msrc_geo\u001b[0m\u001b[1;33m=\u001b[0m\u001b[1;34m'pr+abs_gestionnaire'\u001b[0m\u001b[1;33m,\u001b[0m\u001b[1;33m\u001b[0m\u001b[1;33m\u001b[0m\u001b[0m\n\u001b[0;32m      3\u001b[0m                                                     \u001b[0mconvention\u001b[0m\u001b[1;33m=\u001b[0m\u001b[1;32mlambda\u001b[0m \u001b[0mx\u001b[0m\u001b[1;33m:\u001b[0m \u001b[0mdfCreationComptageAssocie\u001b[0m\u001b[1;33m.\u001b[0m\u001b[0mtype_poste\u001b[0m\u001b[1;33m.\u001b[0m\u001b[0mapply\u001b[0m\u001b[1;33m(\u001b[0m\u001b[1;32mlambda\u001b[0m \u001b[0mx\u001b[0m\u001b[1;33m:\u001b[0m \u001b[1;32mTrue\u001b[0m \u001b[1;32mif\u001b[0m \u001b[0mx\u001b[0m \u001b[1;33m==\u001b[0m \u001b[1;34m'permanent'\u001b[0m \u001b[1;32melse\u001b[0m \u001b[1;32mFalse\u001b[0m\u001b[1;33m)\u001b[0m\u001b[1;33m,\u001b[0m\u001b[1;33m\u001b[0m\u001b[1;33m\u001b[0m\u001b[0m\n\u001b[0;32m      4\u001b[0m                                                     \u001b[0msens_cpt\u001b[0m\u001b[1;33m=\u001b[0m\u001b[1;34m'double sens'\u001b[0m\u001b[1;33m,\u001b[0m\u001b[1;33m\u001b[0m\u001b[1;33m\u001b[0m\u001b[0m\n\u001b[0;32m      5\u001b[0m                                                     src_cpt=lambda x: dfCreationComptageAssocie.type_poste.apply(lambda x: 'convention gestionnaire'\n",
      "\u001b[1;32mC:\\Users\\MARTIN~1.SCH\\AppData\\Local\\Temp/ipykernel_18108/2908552703.py\u001b[0m in \u001b[0;36mcreerComptageAssoc\u001b[1;34m(df, id_comptag_ref_nom, annee, id_compteur_asso_nom, src)\u001b[0m\n\u001b[0;32m     31\u001b[0m     \u001b[0mdf\u001b[0m\u001b[1;33m[\u001b[0m\u001b[1;34m'rang_df'\u001b[0m\u001b[1;33m]\u001b[0m \u001b[1;33m=\u001b[0m \u001b[0mdf\u001b[0m\u001b[1;33m.\u001b[0m\u001b[0mgroupby\u001b[0m\u001b[1;33m(\u001b[0m\u001b[0mid_comptag_ref_nom\u001b[0m\u001b[1;33m)\u001b[0m\u001b[1;33m.\u001b[0m\u001b[0mcumcount\u001b[0m\u001b[1;33m(\u001b[0m\u001b[1;33m)\u001b[0m\u001b[1;33m+\u001b[0m\u001b[1;36m1\u001b[0m\u001b[1;33m\u001b[0m\u001b[1;33m\u001b[0m\u001b[0m\n\u001b[0;32m     32\u001b[0m     \u001b[0mdf\u001b[0m\u001b[1;33m[\u001b[0m\u001b[1;34m'rang'\u001b[0m\u001b[1;33m]\u001b[0m \u001b[1;33m=\u001b[0m \u001b[0mdf\u001b[0m\u001b[1;33m[\u001b[0m\u001b[1;34m'rang_bdd'\u001b[0m\u001b[1;33m]\u001b[0m\u001b[1;33m+\u001b[0m\u001b[0mdf\u001b[0m\u001b[1;33m[\u001b[0m\u001b[1;34m'rang_df'\u001b[0m\u001b[1;33m]\u001b[0m\u001b[1;33m\u001b[0m\u001b[1;33m\u001b[0m\u001b[0m\n\u001b[1;32m---> 33\u001b[1;33m     \u001b[0mtableComptage\u001b[0m \u001b[1;33m=\u001b[0m \u001b[0mdf\u001b[0m\u001b[1;33m[\u001b[0m\u001b[0mpb\u001b[0m\u001b[1;33m.\u001b[0m\u001b[0mattrComptageAssoc\u001b[0m\u001b[1;33m]\u001b[0m\u001b[1;33m.\u001b[0m\u001b[0mcopy\u001b[0m\u001b[1;33m(\u001b[0m\u001b[1;33m)\u001b[0m\u001b[1;33m\u001b[0m\u001b[1;33m\u001b[0m\u001b[0m\n\u001b[0m\u001b[0;32m     34\u001b[0m     \u001b[1;32mreturn\u001b[0m \u001b[0mtableComptage\u001b[0m\u001b[1;33m\u001b[0m\u001b[1;33m\u001b[0m\u001b[0m\n\u001b[0;32m     35\u001b[0m \u001b[1;31m#########################################################################################################\u001b[0m\u001b[1;33m\u001b[0m\u001b[1;33m\u001b[0m\u001b[1;33m\u001b[0m\u001b[0m\n",
      "\u001b[1;32mc:\\users\\martin.schoreisz\\appdata\\local\\programs\\python\\python39\\lib\\site-packages\\pandas\\core\\frame.py\u001b[0m in \u001b[0;36m__getitem__\u001b[1;34m(self, key)\u001b[0m\n\u001b[0;32m   3028\u001b[0m             \u001b[1;32mif\u001b[0m \u001b[0mis_iterator\u001b[0m\u001b[1;33m(\u001b[0m\u001b[0mkey\u001b[0m\u001b[1;33m)\u001b[0m\u001b[1;33m:\u001b[0m\u001b[1;33m\u001b[0m\u001b[1;33m\u001b[0m\u001b[0m\n\u001b[0;32m   3029\u001b[0m                 \u001b[0mkey\u001b[0m \u001b[1;33m=\u001b[0m \u001b[0mlist\u001b[0m\u001b[1;33m(\u001b[0m\u001b[0mkey\u001b[0m\u001b[1;33m)\u001b[0m\u001b[1;33m\u001b[0m\u001b[1;33m\u001b[0m\u001b[0m\n\u001b[1;32m-> 3030\u001b[1;33m             \u001b[0mindexer\u001b[0m \u001b[1;33m=\u001b[0m \u001b[0mself\u001b[0m\u001b[1;33m.\u001b[0m\u001b[0mloc\u001b[0m\u001b[1;33m.\u001b[0m\u001b[0m_get_listlike_indexer\u001b[0m\u001b[1;33m(\u001b[0m\u001b[0mkey\u001b[0m\u001b[1;33m,\u001b[0m \u001b[0maxis\u001b[0m\u001b[1;33m=\u001b[0m\u001b[1;36m1\u001b[0m\u001b[1;33m,\u001b[0m \u001b[0mraise_missing\u001b[0m\u001b[1;33m=\u001b[0m\u001b[1;32mTrue\u001b[0m\u001b[1;33m)\u001b[0m\u001b[1;33m[\u001b[0m\u001b[1;36m1\u001b[0m\u001b[1;33m]\u001b[0m\u001b[1;33m\u001b[0m\u001b[1;33m\u001b[0m\u001b[0m\n\u001b[0m\u001b[0;32m   3031\u001b[0m \u001b[1;33m\u001b[0m\u001b[0m\n\u001b[0;32m   3032\u001b[0m         \u001b[1;31m# take() does not accept boolean indexers\u001b[0m\u001b[1;33m\u001b[0m\u001b[1;33m\u001b[0m\u001b[1;33m\u001b[0m\u001b[0m\n",
      "\u001b[1;32mc:\\users\\martin.schoreisz\\appdata\\local\\programs\\python\\python39\\lib\\site-packages\\pandas\\core\\indexing.py\u001b[0m in \u001b[0;36m_get_listlike_indexer\u001b[1;34m(self, key, axis, raise_missing)\u001b[0m\n\u001b[0;32m   1264\u001b[0m             \u001b[0mkeyarr\u001b[0m\u001b[1;33m,\u001b[0m \u001b[0mindexer\u001b[0m\u001b[1;33m,\u001b[0m \u001b[0mnew_indexer\u001b[0m \u001b[1;33m=\u001b[0m \u001b[0max\u001b[0m\u001b[1;33m.\u001b[0m\u001b[0m_reindex_non_unique\u001b[0m\u001b[1;33m(\u001b[0m\u001b[0mkeyarr\u001b[0m\u001b[1;33m)\u001b[0m\u001b[1;33m\u001b[0m\u001b[1;33m\u001b[0m\u001b[0m\n\u001b[0;32m   1265\u001b[0m \u001b[1;33m\u001b[0m\u001b[0m\n\u001b[1;32m-> 1266\u001b[1;33m         \u001b[0mself\u001b[0m\u001b[1;33m.\u001b[0m\u001b[0m_validate_read_indexer\u001b[0m\u001b[1;33m(\u001b[0m\u001b[0mkeyarr\u001b[0m\u001b[1;33m,\u001b[0m \u001b[0mindexer\u001b[0m\u001b[1;33m,\u001b[0m \u001b[0maxis\u001b[0m\u001b[1;33m,\u001b[0m \u001b[0mraise_missing\u001b[0m\u001b[1;33m=\u001b[0m\u001b[0mraise_missing\u001b[0m\u001b[1;33m)\u001b[0m\u001b[1;33m\u001b[0m\u001b[1;33m\u001b[0m\u001b[0m\n\u001b[0m\u001b[0;32m   1267\u001b[0m         \u001b[1;32mreturn\u001b[0m \u001b[0mkeyarr\u001b[0m\u001b[1;33m,\u001b[0m \u001b[0mindexer\u001b[0m\u001b[1;33m\u001b[0m\u001b[1;33m\u001b[0m\u001b[0m\n\u001b[0;32m   1268\u001b[0m \u001b[1;33m\u001b[0m\u001b[0m\n",
      "\u001b[1;32mc:\\users\\martin.schoreisz\\appdata\\local\\programs\\python\\python39\\lib\\site-packages\\pandas\\core\\indexing.py\u001b[0m in \u001b[0;36m_validate_read_indexer\u001b[1;34m(self, key, indexer, axis, raise_missing)\u001b[0m\n\u001b[0;32m   1314\u001b[0m             \u001b[1;32mif\u001b[0m \u001b[0mraise_missing\u001b[0m\u001b[1;33m:\u001b[0m\u001b[1;33m\u001b[0m\u001b[1;33m\u001b[0m\u001b[0m\n\u001b[0;32m   1315\u001b[0m                 \u001b[0mnot_found\u001b[0m \u001b[1;33m=\u001b[0m \u001b[0mlist\u001b[0m\u001b[1;33m(\u001b[0m\u001b[0mset\u001b[0m\u001b[1;33m(\u001b[0m\u001b[0mkey\u001b[0m\u001b[1;33m)\u001b[0m \u001b[1;33m-\u001b[0m \u001b[0mset\u001b[0m\u001b[1;33m(\u001b[0m\u001b[0max\u001b[0m\u001b[1;33m)\u001b[0m\u001b[1;33m)\u001b[0m\u001b[1;33m\u001b[0m\u001b[1;33m\u001b[0m\u001b[0m\n\u001b[1;32m-> 1316\u001b[1;33m                 \u001b[1;32mraise\u001b[0m \u001b[0mKeyError\u001b[0m\u001b[1;33m(\u001b[0m\u001b[1;34mf\"{not_found} not in index\"\u001b[0m\u001b[1;33m)\u001b[0m\u001b[1;33m\u001b[0m\u001b[1;33m\u001b[0m\u001b[0m\n\u001b[0m\u001b[0;32m   1317\u001b[0m \u001b[1;33m\u001b[0m\u001b[0m\n\u001b[0;32m   1318\u001b[0m             \u001b[0mnot_found\u001b[0m \u001b[1;33m=\u001b[0m \u001b[0mkey\u001b[0m\u001b[1;33m[\u001b[0m\u001b[0mmissing_mask\u001b[0m\u001b[1;33m]\u001b[0m\u001b[1;33m\u001b[0m\u001b[1;33m\u001b[0m\u001b[0m\n",
      "\u001b[1;31mKeyError\u001b[0m: \"['obs', 'id_comptag_ref', 'id_cpteur_asso'] not in index\""
     ]
    }
   ],
   "source": [
    "# EN COURS\n",
    "creerComptageAssoc(dfCreationComptageAssocie.assign(type_veh='vl/pl',\n",
    "                                                    src_geo='pr+abs_gestionnaire',\n",
    "                                                    convention=lambda x: dfCreationComptageAssocie.type_poste.apply(lambda x: True if x == 'permanent' else False),\n",
    "                                                    sens_cpt='double sens',\n",
    "                                                    src_cpt=lambda x: dfCreationComptageAssocie.type_poste.apply(lambda x: 'convention gestionnaire'\n",
    "                                                                                                                 if x == 'permanent' else 'gestionnaire')),\n",
    "                   'id_comptag_bdd', '2020', id_compteur_asso_nom='id_comptag', src=None)"
   ]
  },
  {
   "cell_type": "markdown",
   "id": "faf362af-ede0-4864-ab69-4eb47dc90214",
   "metadata": {},
   "source": [
    "## CAS 2 : plusieurs comptages sur une section homogène\n",
    "Il va falloir déterminer quel est le comptage de référence (cf doc)"
   ]
  },
  {
   "cell_type": "markdown",
   "id": "5b257d23-a6bb-4e26-a3bb-7dbc4ef06962",
   "metadata": {},
   "source": [
    "pour pouvoir déterminer le comptage de référence il faut connaitre : \n",
    "1. les types de postes (priorité : permanent > tournant > ponctuel)\n",
    "1. les périodes de comptages (permanent non concerné)\n",
    "1. les vacances scolaires\n",
    "1. les niveaux de TMJA\n",
    "1. le niveau de pc_pl\n",
    "1. un choix arbitraire"
   ]
  },
  {
   "cell_type": "markdown",
   "id": "40e02ec4-9a86-4a9f-968f-57064355b3e1",
   "metadata": {
    "tags": []
   },
   "source": [
    "### fonction de choix d'un comptage de reference"
   ]
  },
  {
   "cell_type": "code",
   "execution_count": 8,
   "id": "ba7e9c0b-cf7f-4442-a30d-6cadac36d80b",
   "metadata": {},
   "outputs": [],
   "source": [
    "# creation de la fonction de hiérarchisation\n",
    "def hierarchisationCompteur(typePoste, periode, tmja, pc_pl):\n",
    "    \"\"\"\n",
    "    obtention d\"'une note globale de hierarhisation, a partir des 3 fonction incluse'\n",
    "    \"\"\"\n",
    "    def hierarchisationTypePoste(typePoste):\n",
    "        \"\"\"\n",
    "        attribuer une valeur de 3*10**21, 2*10**21 ou 10**21 selon le type de poste\n",
    "        in : \n",
    "            typePoste : string parmi 'permanent', 'tournant', 'ponctuel'\n",
    "        \"\"\"\n",
    "        O.checkParamValues(typePoste, ('permanent', 'tournant', 'ponctuel'))\n",
    "        if typePoste == 'permanent':\n",
    "            return 3*10**15\n",
    "        elif typePoste == 'tournant':\n",
    "            return 2*10**15\n",
    "        else:\n",
    "            return 10**15\n",
    "\n",
    "    def hierarchisationVacance(periode):\n",
    "        \"\"\"\n",
    "        attribuer une valeur de 2*10**18 ou 10**18 selon qu'une partie de la mesure a été faie pendant les vacances scolaire\n",
    "        in :\n",
    "            periode : string sou forme YYYY/MM/DD-YYYY/MM/DD éventuellement séparé par des ' ; '\n",
    "        \"\"\"\n",
    "        testVacances = O.verifVacanceRange(periode)\n",
    "        if not periode or testVacances:\n",
    "            return 10**12\n",
    "        else:\n",
    "            return 2*10**12\n",
    "\n",
    "    def hierarchisationTrafic(tmja, pc_pl):\n",
    "        \"\"\"\n",
    "        fournir une valeur qui concatene le trafic et le pc_pl, en favorisant le trafic\n",
    "        \"\"\"\n",
    "        if not tmja or tmja <= 0: \n",
    "            return ValueError('le tmja doit etre une superieur a 0  non nulle')\n",
    "        elif not pc_pl:\n",
    "            return tmja * 1000\n",
    "        else:\n",
    "            return (tmja * 1000) + pc_pl\n",
    "\n",
    "    return hierarchisationTypePoste(typePoste) + hierarchisationVacance(periode) + hierarchisationTrafic(tmja, pc_pl)"
   ]
  },
  {
   "cell_type": "code",
   "execution_count": 9,
   "id": "bd167790-2ba4-4ed9-a586-8c437c539520",
   "metadata": {},
   "outputs": [],
   "source": [
    "# calcul des compteur de reference et associes\n",
    "cptMultiSectHomo['note_hierarchise'] = cptMultiSectHomo.apply(lambda x: hierarchisationCompteur(x.type_poste, x.periode, x.tmja, x.pc_pl), axis=1)\n",
    "cptRefMultiSectHomo = cptMultiSectHomo.loc[cptMultiSectHomo.groupby('gid').note_hierarchise.transform('max') == cptMultiSectHomo.note_hierarchise].sort_values('gid').copy()\n",
    "cptAssocMultiSectHomo = cptMultiSectHomo.loc[cptMultiSectHomo.groupby('gid').note_hierarchise.transform('max') != cptMultiSectHomo.note_hierarchise].sort_values('gid').copy()\n",
    "cptAssocMultiSectHomo = cptAssocMultiSectHomo.merge(cptRefMultiSectHomo[['gid', 'id_comptag']], on='gid', suffixes=(None, '_ref'))\n",
    "# verif que tous les gid ont un cpt ref\n",
    "if not cptAssocMultiSectHomo.loc[~cptAssocMultiSectHomo.gid.isin(cptRefMultiSectHomo.gid.unique())].empty:\n",
    "    raise ValueError('un des comptage associe n\\'a pas de comptage de reference')\n",
    "if not len(cptRefMultiSectHomo)+len(cptAssocMultiSectHomo) == len(cptMultiSectHomo):\n",
    "    raise ValueError('un ou plusieurs comptage n\\'ont pas ete affecte comme reference ou associe')"
   ]
  },
  {
   "cell_type": "code",
   "execution_count": 10,
   "id": "35aa38a9-d9e4-470d-8955-202dc1de4666",
   "metadata": {},
   "outputs": [],
   "source": [
    "# on sépare les comptages de références selon qu'ils sont sur un id_comptag de la bdd ou non\n",
    "cptRefMultiSectHomoNew = cptRefMultiSectHomo.loc[cptRefMultiSectHomo.id_comptag_bdd.isna()].copy()\n",
    "cptRefMultiSectHomoOld = cptRefMultiSectHomo.loc[~cptRefMultiSectHomo.id_comptag_bdd.isna()].copy()"
   ]
  },
  {
   "cell_type": "markdown",
   "id": "ecabeb6e-15cf-4310-a462-7116495e7fd1",
   "metadata": {},
   "source": [
    "### Comptage de référence sur section_homogene sans id_comptag dans la bdd\n",
    "creation des compteurs, comptages, indicateurs et association des comptages associés calculé plus haut"
   ]
  },
  {
   "cell_type": "code",
   "execution_count": 11,
   "id": "750620ce-a6f5-4a60-9f1d-e0653ba2184b",
   "metadata": {},
   "outputs": [],
   "source": [
    "# création de variable et mise en forme de la df\n",
    "cptRefMultiSectHomoNew['src_cpt'] = cptRefMultiSectHomoNew.type_poste.apply(lambda x: 'convention_gestionnaire' if x == 'permanent' else 'gestionnaire')\n",
    "cptRefMultiSectHomoNew['convention'] = cptRefMultiSectHomoNew.type_poste.apply(lambda x: True if x == 'permanent' else False)\n",
    "cptRefMultiSectHomoNew['sens_cpt'] = 'double sens'\n",
    "\n",
    "# creer la gdf des nouveaux compteurs issus de ce cas (avec comme attributs ceux dploye au 6.2.1)\n",
    "newCompteurMultiSectHomo = creerCompteur(cptRefMultiSectHomoNew, attrGeomcptRefMultiSectHomoNew, dep, reseau, gestionnai, concession, techno=None, src_geo=None, obs_geo=None, obs_supl=None, id_cpt=None,\n",
    "                                         id_sect=None, fictif=False, en_service=True)"
   ]
  },
  {
   "cell_type": "markdown",
   "id": "94a0f939-d05f-4a8e-81b6-ac4f36f28c8b",
   "metadata": {},
   "source": [
    "### Comptage de référence sur section_homogene avec id_comptag\n",
    "selon la nature du comptage deja présent dans la base et selon la nature du comptage a injecté, on va soit : \n",
    "- creer un nouveau comptage associe avec le nouveau point\n",
    "- creer une correspondance dans corresp_id_comptag\n",
    "- modifier le type de poste et tracer la modif"
   ]
  },
  {
   "cell_type": "code",
   "execution_count": 25,
   "id": "f94da79e-e1c0-4090-a755-a0359affe1ce",
   "metadata": {},
   "outputs": [],
   "source": [
    "dfCorrespIdComptag, dfCreationComptageAssocie, dfModifTypePoste = ventilerNouveauComptageRef(cptRefMultiSectHomoOld, 'type_poste', 'type_poste_bdd')"
   ]
  },
  {
   "cell_type": "markdown",
   "id": "890ca478-dfd0-497c-9b34-4fb6ea1a3546",
   "metadata": {
    "tags": []
   },
   "source": [
    "Pour chaque donnes cree ci-dessus, il faut vérifier les associations, pour pouvoir lister les comptages mal défini \n",
    "exemple : \n",
    "- comptage pour lesquels on force la création d'un compteur\n",
    "- erreur du a une erreur de lineairisation"
   ]
  },
  {
   "cell_type": "code",
   "execution_count": 26,
   "id": "6981bc67-177f-4402-b54b-2a88c07545e5",
   "metadata": {},
   "outputs": [],
   "source": [
    "# analyse de la table de correspiIdComptag\n",
    "correspIdComptag = creerCorrespComptag(dfCorrespIdComptag, 'id_comptag', 'id_comptag_bdd')\n",
    "creationForceeCompteur = ['47-D276-10+905']"
   ]
  },
  {
   "cell_type": "code",
   "execution_count": 27,
   "id": "0338e5a9-45fc-49ff-b634-1d2fd16041d2",
   "metadata": {},
   "outputs": [],
   "source": [
    "# ananlyse de la table dfCreationComptageAssocie : correction d'une coquille due à la linauto\n",
    "dfCreationComptageAssocie.drop(34, inplace=True)"
   ]
  },
  {
   "cell_type": "code",
   "execution_count": null,
   "id": "f3317581-9e46-4d53-a9ca-9800f87688a7",
   "metadata": {},
   "outputs": [],
   "source": [
    "# analyse de la table dfCreationComptageAssocie\n",
    "dfModifTypePoste"
   ]
  },
  {
   "cell_type": "code",
   "execution_count": null,
   "id": "df22d475-dc70-4e8f-bd66-4895ebbdaa70",
   "metadata": {},
   "outputs": [],
   "source": []
  }
 ],
 "metadata": {
  "kernelspec": {
   "display_name": "Python 3 (ipykernel)",
   "language": "python",
   "name": "python3"
  },
  "language_info": {
   "codemirror_mode": {
    "name": "ipython",
    "version": 3
   },
   "file_extension": ".py",
   "mimetype": "text/x-python",
   "name": "python",
   "nbconvert_exporter": "python",
   "pygments_lexer": "ipython3",
   "version": "3.9.6"
  }
 },
 "nbformat": 4,
 "nbformat_minor": 5
}
