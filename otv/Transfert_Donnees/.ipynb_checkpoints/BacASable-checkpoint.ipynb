{
 "cells": [
  {
   "cell_type": "markdown",
   "id": "2fabb976-a4c4-47d7-b688-4aec0ca3fcf4",
   "metadata": {},
   "source": [
    "# <h1 style=\"text-align:center;font-size:36px\">***NOTEBOOK DE BAC A SABLE***</h1>"
   ]
  },
  {
   "cell_type": "code",
   "execution_count": 1,
   "id": "485de31f-a3d6-4bf3-b90b-badd573d5751",
   "metadata": {},
   "outputs": [],
   "source": [
    "%load_ext autoreload\n",
    "%autoreload 2\n",
    "import sys\n",
    "sys.path.append(r'C:\\Users\\martin.schoreisz\\git\\otv\\otv\\Transfert_Donnees')\n",
    "sys.path.append(r'C:\\Users\\\\martin.schoreisz\\git\\Outils\\Outils\\Martin_Perso')\n",
    "import pandas as pd\n",
    "import geopandas as gp\n",
    "import numpy as np\n",
    "from shapely import wkt\n",
    "import altair as alt\n",
    "import csv, re, os, statistics, filecmp, unidecode\n",
    "from math import sqrt, pi, exp\n",
    "import Connexion_Transfert as ct\n",
    "import Import_trafics as it\n",
    "import Donnees_horaires as dh\n",
    "import Visualisation as vi\n",
    "import Outils\n",
    "\n",
    "import sqlalchemy"
   ]
  },
  {
   "cell_type": "code",
   "execution_count": 3,
   "id": "9dfcca74-5e35-4a8a-b60b-e483357124f0",
   "metadata": {},
   "outputs": [],
   "source": [
    "with ct.ConnexionBdd('local_otv_boulot') as c : \n",
    "    df=pd.read_sql(\"select * from comptage.na_2010_2019_p where gestionnai='Bordeaux Metropole'\", c.sqlAlchemyConn)"
   ]
  },
  {
   "cell_type": "code",
   "execution_count": 63,
   "id": "ada82e52-e7e2-49d4-922b-f196bd741715",
   "metadata": {},
   "outputs": [],
   "source": [
    "df_explode=df[['id_comptag', 'id_cpt']].assign(tmp=df.id_cpt.str.split(',')).explode('tmp')"
   ]
  },
  {
   "cell_type": "code",
   "execution_count": 17,
   "id": "7ac723a5-d0d2-4763-b046-400a58f73873",
   "metadata": {},
   "outputs": [
    {
     "data": {
      "text/html": [
       "<div>\n",
       "<style scoped>\n",
       "    .dataframe tbody tr th:only-of-type {\n",
       "        vertical-align: middle;\n",
       "    }\n",
       "\n",
       "    .dataframe tbody tr th {\n",
       "        vertical-align: top;\n",
       "    }\n",
       "\n",
       "    .dataframe thead th {\n",
       "        text-align: right;\n",
       "    }\n",
       "</style>\n",
       "<table border=\"1\" class=\"dataframe\">\n",
       "  <thead>\n",
       "    <tr style=\"text-align: right;\">\n",
       "      <th></th>\n",
       "      <th>id_comptag</th>\n",
       "      <th>id_cpt</th>\n",
       "      <th>tmp</th>\n",
       "    </tr>\n",
       "  </thead>\n",
       "  <tbody>\n",
       "    <tr>\n",
       "      <th>0</th>\n",
       "      <td>BdxMet-avenue de branne--0.4989;44.8426</td>\n",
       "      <td>789</td>\n",
       "      <td>789</td>\n",
       "    </tr>\n",
       "    <tr>\n",
       "      <th>1</th>\n",
       "      <td>BdxMet-cours du general de gaulle--0.6277;44.7555</td>\n",
       "      <td>225,227</td>\n",
       "      <td>225</td>\n",
       "    </tr>\n",
       "    <tr>\n",
       "      <th>1</th>\n",
       "      <td>BdxMet-cours du general de gaulle--0.6277;44.7555</td>\n",
       "      <td>225,227</td>\n",
       "      <td>227</td>\n",
       "    </tr>\n",
       "    <tr>\n",
       "      <th>2</th>\n",
       "      <td>BdxMet-cours henri brunet--0.5558;44.8698</td>\n",
       "      <td>1514,1515</td>\n",
       "      <td>1514</td>\n",
       "    </tr>\n",
       "    <tr>\n",
       "      <th>2</th>\n",
       "      <td>BdxMet-cours henri brunet--0.5558;44.8698</td>\n",
       "      <td>1514,1515</td>\n",
       "      <td>1515</td>\n",
       "    </tr>\n",
       "    <tr>\n",
       "      <th>...</th>\n",
       "      <td>...</td>\n",
       "      <td>...</td>\n",
       "      <td>...</td>\n",
       "    </tr>\n",
       "    <tr>\n",
       "      <th>1181</th>\n",
       "      <td>BdxMet-chemin du pas de la cote--0.5392;44.7822</td>\n",
       "      <td>1759,1760</td>\n",
       "      <td>1759</td>\n",
       "    </tr>\n",
       "    <tr>\n",
       "      <th>1181</th>\n",
       "      <td>BdxMet-chemin du pas de la cote--0.5392;44.7822</td>\n",
       "      <td>1759,1760</td>\n",
       "      <td>1760</td>\n",
       "    </tr>\n",
       "    <tr>\n",
       "      <th>1182</th>\n",
       "      <td>BdxMet-chemin du phare--0.6933;44.8521</td>\n",
       "      <td>1574</td>\n",
       "      <td>1574</td>\n",
       "    </tr>\n",
       "    <tr>\n",
       "      <th>1183</th>\n",
       "      <td>BdxMet-rue francois villon--0.514;44.8706</td>\n",
       "      <td>1668</td>\n",
       "      <td>1668</td>\n",
       "    </tr>\n",
       "    <tr>\n",
       "      <th>1184</th>\n",
       "      <td>BdxMet-place de la république--0.7153;44.8932</td>\n",
       "      <td>575</td>\n",
       "      <td>575</td>\n",
       "    </tr>\n",
       "  </tbody>\n",
       "</table>\n",
       "<p>1818 rows × 3 columns</p>\n",
       "</div>"
      ],
      "text/plain": [
       "                                             id_comptag     id_cpt   tmp\n",
       "0               BdxMet-avenue de branne--0.4989;44.8426        789   789\n",
       "1     BdxMet-cours du general de gaulle--0.6277;44.7555    225,227   225\n",
       "1     BdxMet-cours du general de gaulle--0.6277;44.7555    225,227   227\n",
       "2             BdxMet-cours henri brunet--0.5558;44.8698  1514,1515  1514\n",
       "2             BdxMet-cours henri brunet--0.5558;44.8698  1514,1515  1515\n",
       "...                                                 ...        ...   ...\n",
       "1181    BdxMet-chemin du pas de la cote--0.5392;44.7822  1759,1760  1759\n",
       "1181    BdxMet-chemin du pas de la cote--0.5392;44.7822  1759,1760  1760\n",
       "1182             BdxMet-chemin du phare--0.6933;44.8521       1574  1574\n",
       "1183          BdxMet-rue francois villon--0.514;44.8706       1668  1668\n",
       "1184      BdxMet-place de la république--0.7153;44.8932        575   575\n",
       "\n",
       "[1818 rows x 3 columns]"
      ]
     },
     "execution_count": 17,
     "metadata": {},
     "output_type": "execute_result"
    }
   ],
   "source": [
    "df_explode"
   ]
  },
  {
   "cell_type": "code",
   "execution_count": 19,
   "id": "40fb438e-ef21-47d7-9dd4-2c2221407a17",
   "metadata": {},
   "outputs": [],
   "source": [
    "df_excel=pd.read_excel(r'C:\\Users\\martin.schoreisz\\Box\\Dossier_Perso\\OTV\\donnees_gestionnaires\\BordeauxMetropole\\historique\\2019\\base_comptages_routiers_finale.xlsx')"
   ]
  },
  {
   "cell_type": "code",
   "execution_count": 32,
   "id": "b7a723f1-d2f8-4f45-a207-e132ced48632",
   "metadata": {},
   "outputs": [],
   "source": [
    "dfv85=df_explode.merge(df_excel.assign(IDENT=df_excel.IDENT.astype(str)), right_on='IDENT', left_on='tmp', how='inner')"
   ]
  },
  {
   "cell_type": "code",
   "execution_count": 38,
   "id": "5ac49524-d8a5-4dc0-97b6-6cff6e4952bd",
   "metadata": {},
   "outputs": [],
   "source": [
    "dfv85V2=dfv85[['id_comptag', 'id_cpt', 'tmp', 'IDENT', 'V85_VL', 'V85_PL', 'annee']].copy()#.loc[]\n",
    "dfv85V2['V85_PL']=dfv85V2.V85_PL.apply(lambda x : np.NaN if x in ('NS', 'NC') else float(x))\n",
    "dfv85V2['V85_VL']=dfv85V2.V85_VL.apply(lambda x : np.NaN if x in ('NS', 'NC') else float(x))"
   ]
  },
  {
   "cell_type": "code",
   "execution_count": 64,
   "id": "e05bc6a0-2eb5-49c0-9110-ad5cdf005cfc",
   "metadata": {},
   "outputs": [],
   "source": [
    "dfv85V2.groupby(['id_cpt','id_comptag', 'annee']).agg({'V85_VL':np.mean, 'V85_PL':np.mean}).to_csv(r'C:\\Users\\martin.schoreisz\\Box\\Dossier_Perso\\OTV\\travail\\echanges\\BM_V85_ponctuel.csv')"
   ]
  },
  {
   "cell_type": "code",
   "execution_count": 69,
   "id": "bd48d95e-768b-434c-829f-a43672413645",
   "metadata": {},
   "outputs": [],
   "source": [
    "df_indic=pd.concat([dfv85V2.groupby(['id_cpt','id_comptag', 'annee']).agg({'V85_VL':np.mean}).reset_index().rename(\n",
    "            columns={'V85_VL':'valeur'}).assign(indicateur='v85vl'),\n",
    "          dfv85V2.groupby(['id_cpt','id_comptag', 'annee']).agg({'V85_PL':np.mean}).reset_index().rename(\n",
    "            columns={'V85_PL':'valeur'}).assign(indicateur='v85pl')])"
   ]
  },
  {
   "cell_type": "code",
   "execution_count": 72,
   "id": "88101bed-bac9-4c70-8f24-ce9c8ddb3984",
   "metadata": {},
   "outputs": [],
   "source": [
    "with ct.ConnexionBdd('local_otv_boulot') as c : \n",
    "    df_indic.loc[~df_indic.valeur.isna()].to_sql('vitesses_bm', c.sqlAlchemyConn)"
   ]
  },
  {
   "cell_type": "code",
   "execution_count": 75,
   "id": "2e622477-618d-4e02-8e5c-8cb7c1ae0c5e",
   "metadata": {},
   "outputs": [],
   "source": [
    "with ct.ConnexionBdd('local_otv_boulot') as c : \n",
    "    dfv85V2.groupby(['id_cpt','id_comptag', 'annee']).agg({'V85_VL':np.mean, 'V85_PL':np.mean}).reset_index().to_sql('vitesses_bm_old_schema', c.sqlAlchemyConn)"
   ]
  },
  {
   "cell_type": "code",
   "execution_count": null,
   "id": "30ae5ec6-8ff3-40f5-8c69-2046b0014e67",
   "metadata": {},
   "outputs": [],
   "source": []
  }
 ],
 "metadata": {
  "kernelspec": {
   "display_name": "Python 3 (ipykernel)",
   "language": "python",
   "name": "python3"
  },
  "language_info": {
   "codemirror_mode": {
    "name": "ipython",
    "version": 3
   },
   "file_extension": ".py",
   "mimetype": "text/x-python",
   "name": "python",
   "nbconvert_exporter": "python",
   "pygments_lexer": "ipython3",
   "version": "3.9.6"
  }
 },
 "nbformat": 4,
 "nbformat_minor": 5
}
