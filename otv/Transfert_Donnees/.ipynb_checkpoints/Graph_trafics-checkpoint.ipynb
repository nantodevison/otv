{
 "cells": [
  {
   "cell_type": "markdown",
   "metadata": {},
   "source": [
    "# <h1 style=\"text-align:center;font-size:36px\">***GRAPH DES DONNEES DE COMPTAGES***</h1>\n",
    "[1. Exemple de graph horaire](#1)<br>\n",
    "[1.1 Visu de répartition des données](#1.1)<br>\n",
    "[1.2. données horaire MJA / MJO](#1.2)<br>\n",
    "[1.3. graph df horaire](#1.3)<br>\n",
    "[2. Analyse générale OTV](#2)<br>\n",
    "[2.1. nb année distincte selon type de poste](#2.1)<br>\n",
    "[2.2. exhaustivité](#2.2)<br>"
   ]
  },
  {
   "cell_type": "code",
   "execution_count": 2,
   "metadata": {},
   "outputs": [
    {
     "name": "stdout",
     "output_type": "stream",
     "text": [
      "The autoreload extension is already loaded. To reload it, use:\n",
      "  %reload_ext autoreload\n"
     ]
    }
   ],
   "source": [
    "%load_ext autoreload\n",
    "%autoreload 2\n",
    "import sys\n",
    "sys.path.append(r'C:\\Users\\martin.schoreisz\\git\\otv\\otv\\Transfert_Donnees')\n",
    "sys.path.append(r'C:\\Users\\\\martin.schoreisz\\git\\Outils\\Outils\\Martin_Perso')\n",
    "import pandas as pd\n",
    "import geopandas as gp\n",
    "import numpy as np\n",
    "from shapely import wkt\n",
    "import altair as alt\n",
    "import csv, re, os, statistics, filecmp, unidecode\n",
    "from math import sqrt, pi, exp\n",
    "import Connexion_Transfert as ct\n",
    "import Import_trafics as it\n",
    "import Donnees_horaires as dh\n",
    "import Visualisation as vi\n",
    "import Outils"
   ]
  },
  {
   "cell_type": "markdown",
   "metadata": {},
   "source": [
    "<a id=\"1\" ></a>\n",
    "# **1. EXEMPLE DE GRAPH HORAIRE** \n",
    "> vérifier la structure attributaire car changement de structure bdd"
   ]
  },
  {
   "cell_type": "markdown",
   "metadata": {},
   "source": [
    "<a id=\"1.1\" ></a>\n",
    "> ## **1.1 Visu de la répartition des données**\n",
    "exemple horaire DIRA"
   ]
  },
  {
   "cell_type": "code",
   "execution_count": 3,
   "metadata": {},
   "outputs": [],
   "source": [
    "#donnees\n",
    "dira=it.Comptage_Dira(r'Q:\\DAIT\\TI\\DREAL33\\2020\\OTV\\Doc_travail\\Donnees_source\\DIRA\\0_tmja_dira_par_section_20200106.ods',\n",
    "                      r'Q:\\DAIT\\TI\\DREAL33\\2020\\OTV\\Doc_travail\\Donnees_source\\DIRA\\0_Annee_Complete_2019',\n",
    "                     '2019')\n",
    "df_horaire=dira.miseEnFormeFeuille(pd.read_excel(os.path.join(dira.dossierAnneeComplete,'Ruffec_Trimestre_1_2019.xls'),sheet_name=None),\n",
    "                                 'S_MBC16.G_1','gti_otv_pg11', 'na_2010_2019_p')"
   ]
  },
  {
   "cell_type": "code",
   "execution_count": 14,
   "metadata": {},
   "outputs": [],
   "source": [
    "#stats\n",
    "ecartType,moyenne,median,plageMin,plageMax=dh.statsHoraires(df_horaire,'h10_11')"
   ]
  },
  {
   "cell_type": "code",
   "execution_count": 78,
   "metadata": {
    "jupyter": {
     "source_hidden": true
    }
   },
   "outputs": [],
   "source": [
    "def graphTrafHoraire(df_horaire, stats, attributHeure):\n",
    "    ecartType,moyenne,median,plageMin,plageMax=stats\n",
    "    chartTraf=alt.Chart(df_horaire.loc[(df_horaire['type_veh']=='VL')&(~df_horaire[attributHeure].isna())][['jour',attributHeure]].\n",
    "                        sort_values(attributHeure),title=attributHeure).mark_point().encode(\n",
    "                x='jour',\n",
    "                y=alt.Y(attributHeure+':Q',axis=alt.Axis(title='Nb de vehicule')),\n",
    "                tooltip='jour').interactive()\n",
    "\n",
    "    chartStat=alt.Chart(pd.concat([df_horaire[['jour']].assign(val=v, typeVal=t) \n",
    "                                   for v,t in ((moyenne,'moyenne'),(median,'median'))])).mark_line().encode(\n",
    "        x='jour',y='val',color='typeVal')\n",
    "\n",
    "    intervalleConf=alt.Chart(df_horaire[['jour']].assign(plageMini=plageMin, plageMaxi=plageMax)).mark_area(opacity=0.3, color='yellow').encode(\n",
    "            x='jour', \n",
    "            y=alt.Y('plageMini',axis=alt.Axis(title='Nb de vehicule')),\n",
    "            y2='plageMaxi')\n",
    "\n",
    "    return intervalleConf+chartTraf+chartStat"
   ]
  },
  {
   "cell_type": "code",
   "execution_count": 82,
   "metadata": {},
   "outputs": [
    {
     "data": {
      "application/vnd.vegalite.v3+json": {
       "$schema": "https://vega.github.io/schema/vega-lite/v3.4.0.json",
       "config": {
        "mark": {
         "tooltip": null
        },
        "view": {
         "height": 300,
         "width": 400
        }
       },
       "datasets": {
        "data-171b509c25be84cb64872bbb172bd3ba": [
         {
          "h8_9": 7,
          "jour": "2019-01-08T00:00:00"
         },
         {
          "h8_9": 53,
          "jour": "2019-01-01T00:00:00"
         },
         {
          "h8_9": 65,
          "jour": "2019-01-27T00:00:00"
         },
         {
          "h8_9": 83,
          "jour": "2019-01-13T00:00:00"
         },
         {
          "h8_9": 85,
          "jour": "2019-01-20T00:00:00"
         },
         {
          "h8_9": 90,
          "jour": "2019-02-10T00:00:00"
         },
         {
          "h8_9": 101,
          "jour": "2019-03-17T00:00:00"
         },
         {
          "h8_9": 102,
          "jour": "2019-02-03T00:00:00"
         },
         {
          "h8_9": 103,
          "jour": "2019-03-31T00:00:00"
         },
         {
          "h8_9": 122,
          "jour": "2019-03-03T00:00:00"
         },
         {
          "h8_9": 129,
          "jour": "2019-01-12T00:00:00"
         },
         {
          "h8_9": 131,
          "jour": "2019-01-06T00:00:00"
         },
         {
          "h8_9": 136,
          "jour": "2019-03-24T00:00:00"
         },
         {
          "h8_9": 137,
          "jour": "2019-03-10T00:00:00"
         },
         {
          "h8_9": 142,
          "jour": "2019-02-17T00:00:00"
         },
         {
          "h8_9": 156,
          "jour": "2019-01-26T00:00:00"
         },
         {
          "h8_9": 173,
          "jour": "2019-02-02T00:00:00"
         },
         {
          "h8_9": 173,
          "jour": "2019-01-19T00:00:00"
         },
         {
          "h8_9": 178,
          "jour": "2019-02-24T00:00:00"
         },
         {
          "h8_9": 216,
          "jour": "2019-01-05T00:00:00"
         },
         {
          "h8_9": 220,
          "jour": "2019-02-27T00:00:00"
         },
         {
          "h8_9": 220,
          "jour": "2019-01-09T00:00:00"
         },
         {
          "h8_9": 222,
          "jour": "2019-01-23T00:00:00"
         },
         {
          "h8_9": 226,
          "jour": "2019-01-25T00:00:00"
         },
         {
          "h8_9": 233,
          "jour": "2019-03-02T00:00:00"
         },
         {
          "h8_9": 234,
          "jour": "2019-03-09T00:00:00"
         },
         {
          "h8_9": 236,
          "jour": "2019-03-23T00:00:00"
         },
         {
          "h8_9": 236,
          "jour": "2019-01-11T00:00:00"
         },
         {
          "h8_9": 237,
          "jour": "2019-02-13T00:00:00"
         },
         {
          "h8_9": 237,
          "jour": "2019-02-16T00:00:00"
         },
         {
          "h8_9": 238,
          "jour": "2019-02-23T00:00:00"
         },
         {
          "h8_9": 238,
          "jour": "2019-02-20T00:00:00"
         },
         {
          "h8_9": 241,
          "jour": "2019-02-08T00:00:00"
         },
         {
          "h8_9": 243,
          "jour": "2019-01-03T00:00:00"
         },
         {
          "h8_9": 245,
          "jour": "2019-02-28T00:00:00"
         },
         {
          "h8_9": 247,
          "jour": "2019-01-04T00:00:00"
         },
         {
          "h8_9": 250,
          "jour": "2019-02-01T00:00:00"
         },
         {
          "h8_9": 250,
          "jour": "2019-01-30T00:00:00"
         },
         {
          "h8_9": 254,
          "jour": "2019-01-10T00:00:00"
         },
         {
          "h8_9": 256,
          "jour": "2019-02-22T00:00:00"
         },
         {
          "h8_9": 261,
          "jour": "2019-03-30T00:00:00"
         },
         {
          "h8_9": 262,
          "jour": "2019-01-24T00:00:00"
         },
         {
          "h8_9": 262,
          "jour": "2019-03-06T00:00:00"
         },
         {
          "h8_9": 266,
          "jour": "2019-03-08T00:00:00"
         },
         {
          "h8_9": 267,
          "jour": "2019-03-20T00:00:00"
         },
         {
          "h8_9": 271,
          "jour": "2019-01-18T00:00:00"
         },
         {
          "h8_9": 271,
          "jour": "2019-02-19T00:00:00"
         },
         {
          "h8_9": 271,
          "jour": "2019-03-27T00:00:00"
         },
         {
          "h8_9": 272,
          "jour": "2019-02-06T00:00:00"
         },
         {
          "h8_9": 272,
          "jour": "2019-01-16T00:00:00"
         },
         {
          "h8_9": 278,
          "jour": "2019-03-01T00:00:00"
         },
         {
          "h8_9": 279,
          "jour": "2019-02-12T00:00:00"
         },
         {
          "h8_9": 280,
          "jour": "2019-01-22T00:00:00"
         },
         {
          "h8_9": 281,
          "jour": "2019-01-29T00:00:00"
         },
         {
          "h8_9": 282,
          "jour": "2019-01-02T00:00:00"
         },
         {
          "h8_9": 287,
          "jour": "2019-02-14T00:00:00"
         },
         {
          "h8_9": 289,
          "jour": "2019-02-15T00:00:00"
         },
         {
          "h8_9": 289,
          "jour": "2019-03-29T00:00:00"
         },
         {
          "h8_9": 289,
          "jour": "2019-01-15T00:00:00"
         },
         {
          "h8_9": 291,
          "jour": "2019-01-17T00:00:00"
         },
         {
          "h8_9": 293,
          "jour": "2019-03-15T00:00:00"
         },
         {
          "h8_9": 295,
          "jour": "2019-02-21T00:00:00"
         },
         {
          "h8_9": 297,
          "jour": "2019-02-05T00:00:00"
         },
         {
          "h8_9": 297,
          "jour": "2019-01-31T00:00:00"
         },
         {
          "h8_9": 302,
          "jour": "2019-03-16T00:00:00"
         },
         {
          "h8_9": 303,
          "jour": "2019-03-14T00:00:00"
         },
         {
          "h8_9": 303,
          "jour": "2019-03-22T00:00:00"
         },
         {
          "h8_9": 305,
          "jour": "2019-03-26T00:00:00"
         },
         {
          "h8_9": 306,
          "jour": "2019-02-09T00:00:00"
         },
         {
          "h8_9": 307,
          "jour": "2019-02-26T00:00:00"
         },
         {
          "h8_9": 308,
          "jour": "2019-02-07T00:00:00"
         },
         {
          "h8_9": 310,
          "jour": "2019-03-13T00:00:00"
         },
         {
          "h8_9": 313,
          "jour": "2019-03-07T00:00:00"
         },
         {
          "h8_9": 314,
          "jour": "2019-02-25T00:00:00"
         },
         {
          "h8_9": 317,
          "jour": "2019-01-07T00:00:00"
         },
         {
          "h8_9": 321,
          "jour": "2019-03-28T00:00:00"
         },
         {
          "h8_9": 329,
          "jour": "2019-03-12T00:00:00"
         },
         {
          "h8_9": 329,
          "jour": "2019-03-21T00:00:00"
         },
         {
          "h8_9": 335,
          "jour": "2019-02-18T00:00:00"
         },
         {
          "h8_9": 343,
          "jour": "2019-02-11T00:00:00"
         },
         {
          "h8_9": 348,
          "jour": "2019-01-28T00:00:00"
         },
         {
          "h8_9": 350,
          "jour": "2019-03-05T00:00:00"
         },
         {
          "h8_9": 367,
          "jour": "2019-02-04T00:00:00"
         },
         {
          "h8_9": 382,
          "jour": "2019-01-14T00:00:00"
         },
         {
          "h8_9": 388,
          "jour": "2019-03-04T00:00:00"
         },
         {
          "h8_9": 391,
          "jour": "2019-01-21T00:00:00"
         },
         {
          "h8_9": 399,
          "jour": "2019-03-11T00:00:00"
         },
         {
          "h8_9": 404,
          "jour": "2019-03-25T00:00:00"
         },
         {
          "h8_9": 412,
          "jour": "2019-03-18T00:00:00"
         }
        ],
        "data-40133e53997f9c5e5cce2e9f00f9cf7c": [
         {
          "jour": "2019-01-01T00:00:00",
          "typeVal": "moyenne",
          "val": 250.93258426966293
         },
         {
          "jour": "2019-01-01T00:00:00",
          "typeVal": "moyenne",
          "val": 250.93258426966293
         },
         {
          "jour": "2019-01-02T00:00:00",
          "typeVal": "moyenne",
          "val": 250.93258426966293
         },
         {
          "jour": "2019-01-02T00:00:00",
          "typeVal": "moyenne",
          "val": 250.93258426966293
         },
         {
          "jour": "2019-01-03T00:00:00",
          "typeVal": "moyenne",
          "val": 250.93258426966293
         },
         {
          "jour": "2019-01-03T00:00:00",
          "typeVal": "moyenne",
          "val": 250.93258426966293
         },
         {
          "jour": "2019-01-04T00:00:00",
          "typeVal": "moyenne",
          "val": 250.93258426966293
         },
         {
          "jour": "2019-01-04T00:00:00",
          "typeVal": "moyenne",
          "val": 250.93258426966293
         },
         {
          "jour": "2019-01-05T00:00:00",
          "typeVal": "moyenne",
          "val": 250.93258426966293
         },
         {
          "jour": "2019-01-05T00:00:00",
          "typeVal": "moyenne",
          "val": 250.93258426966293
         },
         {
          "jour": "2019-01-06T00:00:00",
          "typeVal": "moyenne",
          "val": 250.93258426966293
         },
         {
          "jour": "2019-01-06T00:00:00",
          "typeVal": "moyenne",
          "val": 250.93258426966293
         },
         {
          "jour": "2019-01-07T00:00:00",
          "typeVal": "moyenne",
          "val": 250.93258426966293
         },
         {
          "jour": "2019-01-07T00:00:00",
          "typeVal": "moyenne",
          "val": 250.93258426966293
         },
         {
          "jour": "2019-01-08T00:00:00",
          "typeVal": "moyenne",
          "val": 250.93258426966293
         },
         {
          "jour": "2019-01-08T00:00:00",
          "typeVal": "moyenne",
          "val": 250.93258426966293
         },
         {
          "jour": "2019-01-09T00:00:00",
          "typeVal": "moyenne",
          "val": 250.93258426966293
         },
         {
          "jour": "2019-01-09T00:00:00",
          "typeVal": "moyenne",
          "val": 250.93258426966293
         },
         {
          "jour": "2019-01-10T00:00:00",
          "typeVal": "moyenne",
          "val": 250.93258426966293
         },
         {
          "jour": "2019-01-10T00:00:00",
          "typeVal": "moyenne",
          "val": 250.93258426966293
         },
         {
          "jour": "2019-01-11T00:00:00",
          "typeVal": "moyenne",
          "val": 250.93258426966293
         },
         {
          "jour": "2019-01-11T00:00:00",
          "typeVal": "moyenne",
          "val": 250.93258426966293
         },
         {
          "jour": "2019-01-12T00:00:00",
          "typeVal": "moyenne",
          "val": 250.93258426966293
         },
         {
          "jour": "2019-01-12T00:00:00",
          "typeVal": "moyenne",
          "val": 250.93258426966293
         },
         {
          "jour": "2019-01-13T00:00:00",
          "typeVal": "moyenne",
          "val": 250.93258426966293
         },
         {
          "jour": "2019-01-13T00:00:00",
          "typeVal": "moyenne",
          "val": 250.93258426966293
         },
         {
          "jour": "2019-01-14T00:00:00",
          "typeVal": "moyenne",
          "val": 250.93258426966293
         },
         {
          "jour": "2019-01-14T00:00:00",
          "typeVal": "moyenne",
          "val": 250.93258426966293
         },
         {
          "jour": "2019-01-15T00:00:00",
          "typeVal": "moyenne",
          "val": 250.93258426966293
         },
         {
          "jour": "2019-01-15T00:00:00",
          "typeVal": "moyenne",
          "val": 250.93258426966293
         },
         {
          "jour": "2019-01-16T00:00:00",
          "typeVal": "moyenne",
          "val": 250.93258426966293
         },
         {
          "jour": "2019-01-16T00:00:00",
          "typeVal": "moyenne",
          "val": 250.93258426966293
         },
         {
          "jour": "2019-01-17T00:00:00",
          "typeVal": "moyenne",
          "val": 250.93258426966293
         },
         {
          "jour": "2019-01-17T00:00:00",
          "typeVal": "moyenne",
          "val": 250.93258426966293
         },
         {
          "jour": "2019-01-18T00:00:00",
          "typeVal": "moyenne",
          "val": 250.93258426966293
         },
         {
          "jour": "2019-01-18T00:00:00",
          "typeVal": "moyenne",
          "val": 250.93258426966293
         },
         {
          "jour": "2019-01-19T00:00:00",
          "typeVal": "moyenne",
          "val": 250.93258426966293
         },
         {
          "jour": "2019-01-19T00:00:00",
          "typeVal": "moyenne",
          "val": 250.93258426966293
         },
         {
          "jour": "2019-01-20T00:00:00",
          "typeVal": "moyenne",
          "val": 250.93258426966293
         },
         {
          "jour": "2019-01-20T00:00:00",
          "typeVal": "moyenne",
          "val": 250.93258426966293
         },
         {
          "jour": "2019-01-21T00:00:00",
          "typeVal": "moyenne",
          "val": 250.93258426966293
         },
         {
          "jour": "2019-01-21T00:00:00",
          "typeVal": "moyenne",
          "val": 250.93258426966293
         },
         {
          "jour": "2019-01-22T00:00:00",
          "typeVal": "moyenne",
          "val": 250.93258426966293
         },
         {
          "jour": "2019-01-22T00:00:00",
          "typeVal": "moyenne",
          "val": 250.93258426966293
         },
         {
          "jour": "2019-01-23T00:00:00",
          "typeVal": "moyenne",
          "val": 250.93258426966293
         },
         {
          "jour": "2019-01-23T00:00:00",
          "typeVal": "moyenne",
          "val": 250.93258426966293
         },
         {
          "jour": "2019-01-24T00:00:00",
          "typeVal": "moyenne",
          "val": 250.93258426966293
         },
         {
          "jour": "2019-01-24T00:00:00",
          "typeVal": "moyenne",
          "val": 250.93258426966293
         },
         {
          "jour": "2019-01-25T00:00:00",
          "typeVal": "moyenne",
          "val": 250.93258426966293
         },
         {
          "jour": "2019-01-25T00:00:00",
          "typeVal": "moyenne",
          "val": 250.93258426966293
         },
         {
          "jour": "2019-01-26T00:00:00",
          "typeVal": "moyenne",
          "val": 250.93258426966293
         },
         {
          "jour": "2019-01-26T00:00:00",
          "typeVal": "moyenne",
          "val": 250.93258426966293
         },
         {
          "jour": "2019-01-27T00:00:00",
          "typeVal": "moyenne",
          "val": 250.93258426966293
         },
         {
          "jour": "2019-01-27T00:00:00",
          "typeVal": "moyenne",
          "val": 250.93258426966293
         },
         {
          "jour": "2019-01-28T00:00:00",
          "typeVal": "moyenne",
          "val": 250.93258426966293
         },
         {
          "jour": "2019-01-28T00:00:00",
          "typeVal": "moyenne",
          "val": 250.93258426966293
         },
         {
          "jour": "2019-01-29T00:00:00",
          "typeVal": "moyenne",
          "val": 250.93258426966293
         },
         {
          "jour": "2019-01-29T00:00:00",
          "typeVal": "moyenne",
          "val": 250.93258426966293
         },
         {
          "jour": "2019-01-30T00:00:00",
          "typeVal": "moyenne",
          "val": 250.93258426966293
         },
         {
          "jour": "2019-01-30T00:00:00",
          "typeVal": "moyenne",
          "val": 250.93258426966293
         },
         {
          "jour": "2019-01-31T00:00:00",
          "typeVal": "moyenne",
          "val": 250.93258426966293
         },
         {
          "jour": "2019-01-31T00:00:00",
          "typeVal": "moyenne",
          "val": 250.93258426966293
         },
         {
          "jour": "2019-02-01T00:00:00",
          "typeVal": "moyenne",
          "val": 250.93258426966293
         },
         {
          "jour": "2019-02-01T00:00:00",
          "typeVal": "moyenne",
          "val": 250.93258426966293
         },
         {
          "jour": "2019-02-02T00:00:00",
          "typeVal": "moyenne",
          "val": 250.93258426966293
         },
         {
          "jour": "2019-02-02T00:00:00",
          "typeVal": "moyenne",
          "val": 250.93258426966293
         },
         {
          "jour": "2019-02-03T00:00:00",
          "typeVal": "moyenne",
          "val": 250.93258426966293
         },
         {
          "jour": "2019-02-03T00:00:00",
          "typeVal": "moyenne",
          "val": 250.93258426966293
         },
         {
          "jour": "2019-02-04T00:00:00",
          "typeVal": "moyenne",
          "val": 250.93258426966293
         },
         {
          "jour": "2019-02-04T00:00:00",
          "typeVal": "moyenne",
          "val": 250.93258426966293
         },
         {
          "jour": "2019-02-05T00:00:00",
          "typeVal": "moyenne",
          "val": 250.93258426966293
         },
         {
          "jour": "2019-02-05T00:00:00",
          "typeVal": "moyenne",
          "val": 250.93258426966293
         },
         {
          "jour": "2019-02-06T00:00:00",
          "typeVal": "moyenne",
          "val": 250.93258426966293
         },
         {
          "jour": "2019-02-06T00:00:00",
          "typeVal": "moyenne",
          "val": 250.93258426966293
         },
         {
          "jour": "2019-02-07T00:00:00",
          "typeVal": "moyenne",
          "val": 250.93258426966293
         },
         {
          "jour": "2019-02-07T00:00:00",
          "typeVal": "moyenne",
          "val": 250.93258426966293
         },
         {
          "jour": "2019-02-08T00:00:00",
          "typeVal": "moyenne",
          "val": 250.93258426966293
         },
         {
          "jour": "2019-02-08T00:00:00",
          "typeVal": "moyenne",
          "val": 250.93258426966293
         },
         {
          "jour": "2019-02-09T00:00:00",
          "typeVal": "moyenne",
          "val": 250.93258426966293
         },
         {
          "jour": "2019-02-09T00:00:00",
          "typeVal": "moyenne",
          "val": 250.93258426966293
         },
         {
          "jour": "2019-02-10T00:00:00",
          "typeVal": "moyenne",
          "val": 250.93258426966293
         },
         {
          "jour": "2019-02-10T00:00:00",
          "typeVal": "moyenne",
          "val": 250.93258426966293
         },
         {
          "jour": "2019-02-11T00:00:00",
          "typeVal": "moyenne",
          "val": 250.93258426966293
         },
         {
          "jour": "2019-02-11T00:00:00",
          "typeVal": "moyenne",
          "val": 250.93258426966293
         },
         {
          "jour": "2019-02-12T00:00:00",
          "typeVal": "moyenne",
          "val": 250.93258426966293
         },
         {
          "jour": "2019-02-12T00:00:00",
          "typeVal": "moyenne",
          "val": 250.93258426966293
         },
         {
          "jour": "2019-02-13T00:00:00",
          "typeVal": "moyenne",
          "val": 250.93258426966293
         },
         {
          "jour": "2019-02-13T00:00:00",
          "typeVal": "moyenne",
          "val": 250.93258426966293
         },
         {
          "jour": "2019-02-14T00:00:00",
          "typeVal": "moyenne",
          "val": 250.93258426966293
         },
         {
          "jour": "2019-02-14T00:00:00",
          "typeVal": "moyenne",
          "val": 250.93258426966293
         },
         {
          "jour": "2019-02-15T00:00:00",
          "typeVal": "moyenne",
          "val": 250.93258426966293
         },
         {
          "jour": "2019-02-15T00:00:00",
          "typeVal": "moyenne",
          "val": 250.93258426966293
         },
         {
          "jour": "2019-02-16T00:00:00",
          "typeVal": "moyenne",
          "val": 250.93258426966293
         },
         {
          "jour": "2019-02-16T00:00:00",
          "typeVal": "moyenne",
          "val": 250.93258426966293
         },
         {
          "jour": "2019-02-17T00:00:00",
          "typeVal": "moyenne",
          "val": 250.93258426966293
         },
         {
          "jour": "2019-02-17T00:00:00",
          "typeVal": "moyenne",
          "val": 250.93258426966293
         },
         {
          "jour": "2019-02-18T00:00:00",
          "typeVal": "moyenne",
          "val": 250.93258426966293
         },
         {
          "jour": "2019-02-18T00:00:00",
          "typeVal": "moyenne",
          "val": 250.93258426966293
         },
         {
          "jour": "2019-02-19T00:00:00",
          "typeVal": "moyenne",
          "val": 250.93258426966293
         },
         {
          "jour": "2019-02-19T00:00:00",
          "typeVal": "moyenne",
          "val": 250.93258426966293
         },
         {
          "jour": "2019-02-20T00:00:00",
          "typeVal": "moyenne",
          "val": 250.93258426966293
         },
         {
          "jour": "2019-02-20T00:00:00",
          "typeVal": "moyenne",
          "val": 250.93258426966293
         },
         {
          "jour": "2019-02-21T00:00:00",
          "typeVal": "moyenne",
          "val": 250.93258426966293
         },
         {
          "jour": "2019-02-21T00:00:00",
          "typeVal": "moyenne",
          "val": 250.93258426966293
         },
         {
          "jour": "2019-02-22T00:00:00",
          "typeVal": "moyenne",
          "val": 250.93258426966293
         },
         {
          "jour": "2019-02-22T00:00:00",
          "typeVal": "moyenne",
          "val": 250.93258426966293
         },
         {
          "jour": "2019-02-23T00:00:00",
          "typeVal": "moyenne",
          "val": 250.93258426966293
         },
         {
          "jour": "2019-02-23T00:00:00",
          "typeVal": "moyenne",
          "val": 250.93258426966293
         },
         {
          "jour": "2019-02-24T00:00:00",
          "typeVal": "moyenne",
          "val": 250.93258426966293
         },
         {
          "jour": "2019-02-24T00:00:00",
          "typeVal": "moyenne",
          "val": 250.93258426966293
         },
         {
          "jour": "2019-02-25T00:00:00",
          "typeVal": "moyenne",
          "val": 250.93258426966293
         },
         {
          "jour": "2019-02-25T00:00:00",
          "typeVal": "moyenne",
          "val": 250.93258426966293
         },
         {
          "jour": "2019-02-26T00:00:00",
          "typeVal": "moyenne",
          "val": 250.93258426966293
         },
         {
          "jour": "2019-02-26T00:00:00",
          "typeVal": "moyenne",
          "val": 250.93258426966293
         },
         {
          "jour": "2019-02-27T00:00:00",
          "typeVal": "moyenne",
          "val": 250.93258426966293
         },
         {
          "jour": "2019-02-27T00:00:00",
          "typeVal": "moyenne",
          "val": 250.93258426966293
         },
         {
          "jour": "2019-02-28T00:00:00",
          "typeVal": "moyenne",
          "val": 250.93258426966293
         },
         {
          "jour": "2019-02-28T00:00:00",
          "typeVal": "moyenne",
          "val": 250.93258426966293
         },
         {
          "jour": "2019-03-01T00:00:00",
          "typeVal": "moyenne",
          "val": 250.93258426966293
         },
         {
          "jour": "2019-03-01T00:00:00",
          "typeVal": "moyenne",
          "val": 250.93258426966293
         },
         {
          "jour": "2019-03-02T00:00:00",
          "typeVal": "moyenne",
          "val": 250.93258426966293
         },
         {
          "jour": "2019-03-02T00:00:00",
          "typeVal": "moyenne",
          "val": 250.93258426966293
         },
         {
          "jour": "2019-03-03T00:00:00",
          "typeVal": "moyenne",
          "val": 250.93258426966293
         },
         {
          "jour": "2019-03-03T00:00:00",
          "typeVal": "moyenne",
          "val": 250.93258426966293
         },
         {
          "jour": "2019-03-04T00:00:00",
          "typeVal": "moyenne",
          "val": 250.93258426966293
         },
         {
          "jour": "2019-03-04T00:00:00",
          "typeVal": "moyenne",
          "val": 250.93258426966293
         },
         {
          "jour": "2019-03-05T00:00:00",
          "typeVal": "moyenne",
          "val": 250.93258426966293
         },
         {
          "jour": "2019-03-05T00:00:00",
          "typeVal": "moyenne",
          "val": 250.93258426966293
         },
         {
          "jour": "2019-03-06T00:00:00",
          "typeVal": "moyenne",
          "val": 250.93258426966293
         },
         {
          "jour": "2019-03-06T00:00:00",
          "typeVal": "moyenne",
          "val": 250.93258426966293
         },
         {
          "jour": "2019-03-07T00:00:00",
          "typeVal": "moyenne",
          "val": 250.93258426966293
         },
         {
          "jour": "2019-03-07T00:00:00",
          "typeVal": "moyenne",
          "val": 250.93258426966293
         },
         {
          "jour": "2019-03-08T00:00:00",
          "typeVal": "moyenne",
          "val": 250.93258426966293
         },
         {
          "jour": "2019-03-08T00:00:00",
          "typeVal": "moyenne",
          "val": 250.93258426966293
         },
         {
          "jour": "2019-03-09T00:00:00",
          "typeVal": "moyenne",
          "val": 250.93258426966293
         },
         {
          "jour": "2019-03-09T00:00:00",
          "typeVal": "moyenne",
          "val": 250.93258426966293
         },
         {
          "jour": "2019-03-10T00:00:00",
          "typeVal": "moyenne",
          "val": 250.93258426966293
         },
         {
          "jour": "2019-03-10T00:00:00",
          "typeVal": "moyenne",
          "val": 250.93258426966293
         },
         {
          "jour": "2019-03-11T00:00:00",
          "typeVal": "moyenne",
          "val": 250.93258426966293
         },
         {
          "jour": "2019-03-11T00:00:00",
          "typeVal": "moyenne",
          "val": 250.93258426966293
         },
         {
          "jour": "2019-03-12T00:00:00",
          "typeVal": "moyenne",
          "val": 250.93258426966293
         },
         {
          "jour": "2019-03-12T00:00:00",
          "typeVal": "moyenne",
          "val": 250.93258426966293
         },
         {
          "jour": "2019-03-13T00:00:00",
          "typeVal": "moyenne",
          "val": 250.93258426966293
         },
         {
          "jour": "2019-03-13T00:00:00",
          "typeVal": "moyenne",
          "val": 250.93258426966293
         },
         {
          "jour": "2019-03-14T00:00:00",
          "typeVal": "moyenne",
          "val": 250.93258426966293
         },
         {
          "jour": "2019-03-14T00:00:00",
          "typeVal": "moyenne",
          "val": 250.93258426966293
         },
         {
          "jour": "2019-03-15T00:00:00",
          "typeVal": "moyenne",
          "val": 250.93258426966293
         },
         {
          "jour": "2019-03-15T00:00:00",
          "typeVal": "moyenne",
          "val": 250.93258426966293
         },
         {
          "jour": "2019-03-16T00:00:00",
          "typeVal": "moyenne",
          "val": 250.93258426966293
         },
         {
          "jour": "2019-03-16T00:00:00",
          "typeVal": "moyenne",
          "val": 250.93258426966293
         },
         {
          "jour": "2019-03-17T00:00:00",
          "typeVal": "moyenne",
          "val": 250.93258426966293
         },
         {
          "jour": "2019-03-17T00:00:00",
          "typeVal": "moyenne",
          "val": 250.93258426966293
         },
         {
          "jour": "2019-03-18T00:00:00",
          "typeVal": "moyenne",
          "val": 250.93258426966293
         },
         {
          "jour": "2019-03-18T00:00:00",
          "typeVal": "moyenne",
          "val": 250.93258426966293
         },
         {
          "jour": "2019-03-19T00:00:00",
          "typeVal": "moyenne",
          "val": 250.93258426966293
         },
         {
          "jour": "2019-03-19T00:00:00",
          "typeVal": "moyenne",
          "val": 250.93258426966293
         },
         {
          "jour": "2019-03-20T00:00:00",
          "typeVal": "moyenne",
          "val": 250.93258426966293
         },
         {
          "jour": "2019-03-20T00:00:00",
          "typeVal": "moyenne",
          "val": 250.93258426966293
         },
         {
          "jour": "2019-03-21T00:00:00",
          "typeVal": "moyenne",
          "val": 250.93258426966293
         },
         {
          "jour": "2019-03-21T00:00:00",
          "typeVal": "moyenne",
          "val": 250.93258426966293
         },
         {
          "jour": "2019-03-22T00:00:00",
          "typeVal": "moyenne",
          "val": 250.93258426966293
         },
         {
          "jour": "2019-03-22T00:00:00",
          "typeVal": "moyenne",
          "val": 250.93258426966293
         },
         {
          "jour": "2019-03-23T00:00:00",
          "typeVal": "moyenne",
          "val": 250.93258426966293
         },
         {
          "jour": "2019-03-23T00:00:00",
          "typeVal": "moyenne",
          "val": 250.93258426966293
         },
         {
          "jour": "2019-03-24T00:00:00",
          "typeVal": "moyenne",
          "val": 250.93258426966293
         },
         {
          "jour": "2019-03-24T00:00:00",
          "typeVal": "moyenne",
          "val": 250.93258426966293
         },
         {
          "jour": "2019-03-25T00:00:00",
          "typeVal": "moyenne",
          "val": 250.93258426966293
         },
         {
          "jour": "2019-03-25T00:00:00",
          "typeVal": "moyenne",
          "val": 250.93258426966293
         },
         {
          "jour": "2019-03-26T00:00:00",
          "typeVal": "moyenne",
          "val": 250.93258426966293
         },
         {
          "jour": "2019-03-26T00:00:00",
          "typeVal": "moyenne",
          "val": 250.93258426966293
         },
         {
          "jour": "2019-03-27T00:00:00",
          "typeVal": "moyenne",
          "val": 250.93258426966293
         },
         {
          "jour": "2019-03-27T00:00:00",
          "typeVal": "moyenne",
          "val": 250.93258426966293
         },
         {
          "jour": "2019-03-28T00:00:00",
          "typeVal": "moyenne",
          "val": 250.93258426966293
         },
         {
          "jour": "2019-03-28T00:00:00",
          "typeVal": "moyenne",
          "val": 250.93258426966293
         },
         {
          "jour": "2019-03-29T00:00:00",
          "typeVal": "moyenne",
          "val": 250.93258426966293
         },
         {
          "jour": "2019-03-29T00:00:00",
          "typeVal": "moyenne",
          "val": 250.93258426966293
         },
         {
          "jour": "2019-03-30T00:00:00",
          "typeVal": "moyenne",
          "val": 250.93258426966293
         },
         {
          "jour": "2019-03-30T00:00:00",
          "typeVal": "moyenne",
          "val": 250.93258426966293
         },
         {
          "jour": "2019-03-31T00:00:00",
          "typeVal": "moyenne",
          "val": 250.93258426966293
         },
         {
          "jour": "2019-03-31T00:00:00",
          "typeVal": "moyenne",
          "val": 250.93258426966293
         },
         {
          "jour": "2019-01-01T00:00:00",
          "typeVal": "median",
          "val": 267
         },
         {
          "jour": "2019-01-01T00:00:00",
          "typeVal": "median",
          "val": 267
         },
         {
          "jour": "2019-01-02T00:00:00",
          "typeVal": "median",
          "val": 267
         },
         {
          "jour": "2019-01-02T00:00:00",
          "typeVal": "median",
          "val": 267
         },
         {
          "jour": "2019-01-03T00:00:00",
          "typeVal": "median",
          "val": 267
         },
         {
          "jour": "2019-01-03T00:00:00",
          "typeVal": "median",
          "val": 267
         },
         {
          "jour": "2019-01-04T00:00:00",
          "typeVal": "median",
          "val": 267
         },
         {
          "jour": "2019-01-04T00:00:00",
          "typeVal": "median",
          "val": 267
         },
         {
          "jour": "2019-01-05T00:00:00",
          "typeVal": "median",
          "val": 267
         },
         {
          "jour": "2019-01-05T00:00:00",
          "typeVal": "median",
          "val": 267
         },
         {
          "jour": "2019-01-06T00:00:00",
          "typeVal": "median",
          "val": 267
         },
         {
          "jour": "2019-01-06T00:00:00",
          "typeVal": "median",
          "val": 267
         },
         {
          "jour": "2019-01-07T00:00:00",
          "typeVal": "median",
          "val": 267
         },
         {
          "jour": "2019-01-07T00:00:00",
          "typeVal": "median",
          "val": 267
         },
         {
          "jour": "2019-01-08T00:00:00",
          "typeVal": "median",
          "val": 267
         },
         {
          "jour": "2019-01-08T00:00:00",
          "typeVal": "median",
          "val": 267
         },
         {
          "jour": "2019-01-09T00:00:00",
          "typeVal": "median",
          "val": 267
         },
         {
          "jour": "2019-01-09T00:00:00",
          "typeVal": "median",
          "val": 267
         },
         {
          "jour": "2019-01-10T00:00:00",
          "typeVal": "median",
          "val": 267
         },
         {
          "jour": "2019-01-10T00:00:00",
          "typeVal": "median",
          "val": 267
         },
         {
          "jour": "2019-01-11T00:00:00",
          "typeVal": "median",
          "val": 267
         },
         {
          "jour": "2019-01-11T00:00:00",
          "typeVal": "median",
          "val": 267
         },
         {
          "jour": "2019-01-12T00:00:00",
          "typeVal": "median",
          "val": 267
         },
         {
          "jour": "2019-01-12T00:00:00",
          "typeVal": "median",
          "val": 267
         },
         {
          "jour": "2019-01-13T00:00:00",
          "typeVal": "median",
          "val": 267
         },
         {
          "jour": "2019-01-13T00:00:00",
          "typeVal": "median",
          "val": 267
         },
         {
          "jour": "2019-01-14T00:00:00",
          "typeVal": "median",
          "val": 267
         },
         {
          "jour": "2019-01-14T00:00:00",
          "typeVal": "median",
          "val": 267
         },
         {
          "jour": "2019-01-15T00:00:00",
          "typeVal": "median",
          "val": 267
         },
         {
          "jour": "2019-01-15T00:00:00",
          "typeVal": "median",
          "val": 267
         },
         {
          "jour": "2019-01-16T00:00:00",
          "typeVal": "median",
          "val": 267
         },
         {
          "jour": "2019-01-16T00:00:00",
          "typeVal": "median",
          "val": 267
         },
         {
          "jour": "2019-01-17T00:00:00",
          "typeVal": "median",
          "val": 267
         },
         {
          "jour": "2019-01-17T00:00:00",
          "typeVal": "median",
          "val": 267
         },
         {
          "jour": "2019-01-18T00:00:00",
          "typeVal": "median",
          "val": 267
         },
         {
          "jour": "2019-01-18T00:00:00",
          "typeVal": "median",
          "val": 267
         },
         {
          "jour": "2019-01-19T00:00:00",
          "typeVal": "median",
          "val": 267
         },
         {
          "jour": "2019-01-19T00:00:00",
          "typeVal": "median",
          "val": 267
         },
         {
          "jour": "2019-01-20T00:00:00",
          "typeVal": "median",
          "val": 267
         },
         {
          "jour": "2019-01-20T00:00:00",
          "typeVal": "median",
          "val": 267
         },
         {
          "jour": "2019-01-21T00:00:00",
          "typeVal": "median",
          "val": 267
         },
         {
          "jour": "2019-01-21T00:00:00",
          "typeVal": "median",
          "val": 267
         },
         {
          "jour": "2019-01-22T00:00:00",
          "typeVal": "median",
          "val": 267
         },
         {
          "jour": "2019-01-22T00:00:00",
          "typeVal": "median",
          "val": 267
         },
         {
          "jour": "2019-01-23T00:00:00",
          "typeVal": "median",
          "val": 267
         },
         {
          "jour": "2019-01-23T00:00:00",
          "typeVal": "median",
          "val": 267
         },
         {
          "jour": "2019-01-24T00:00:00",
          "typeVal": "median",
          "val": 267
         },
         {
          "jour": "2019-01-24T00:00:00",
          "typeVal": "median",
          "val": 267
         },
         {
          "jour": "2019-01-25T00:00:00",
          "typeVal": "median",
          "val": 267
         },
         {
          "jour": "2019-01-25T00:00:00",
          "typeVal": "median",
          "val": 267
         },
         {
          "jour": "2019-01-26T00:00:00",
          "typeVal": "median",
          "val": 267
         },
         {
          "jour": "2019-01-26T00:00:00",
          "typeVal": "median",
          "val": 267
         },
         {
          "jour": "2019-01-27T00:00:00",
          "typeVal": "median",
          "val": 267
         },
         {
          "jour": "2019-01-27T00:00:00",
          "typeVal": "median",
          "val": 267
         },
         {
          "jour": "2019-01-28T00:00:00",
          "typeVal": "median",
          "val": 267
         },
         {
          "jour": "2019-01-28T00:00:00",
          "typeVal": "median",
          "val": 267
         },
         {
          "jour": "2019-01-29T00:00:00",
          "typeVal": "median",
          "val": 267
         },
         {
          "jour": "2019-01-29T00:00:00",
          "typeVal": "median",
          "val": 267
         },
         {
          "jour": "2019-01-30T00:00:00",
          "typeVal": "median",
          "val": 267
         },
         {
          "jour": "2019-01-30T00:00:00",
          "typeVal": "median",
          "val": 267
         },
         {
          "jour": "2019-01-31T00:00:00",
          "typeVal": "median",
          "val": 267
         },
         {
          "jour": "2019-01-31T00:00:00",
          "typeVal": "median",
          "val": 267
         },
         {
          "jour": "2019-02-01T00:00:00",
          "typeVal": "median",
          "val": 267
         },
         {
          "jour": "2019-02-01T00:00:00",
          "typeVal": "median",
          "val": 267
         },
         {
          "jour": "2019-02-02T00:00:00",
          "typeVal": "median",
          "val": 267
         },
         {
          "jour": "2019-02-02T00:00:00",
          "typeVal": "median",
          "val": 267
         },
         {
          "jour": "2019-02-03T00:00:00",
          "typeVal": "median",
          "val": 267
         },
         {
          "jour": "2019-02-03T00:00:00",
          "typeVal": "median",
          "val": 267
         },
         {
          "jour": "2019-02-04T00:00:00",
          "typeVal": "median",
          "val": 267
         },
         {
          "jour": "2019-02-04T00:00:00",
          "typeVal": "median",
          "val": 267
         },
         {
          "jour": "2019-02-05T00:00:00",
          "typeVal": "median",
          "val": 267
         },
         {
          "jour": "2019-02-05T00:00:00",
          "typeVal": "median",
          "val": 267
         },
         {
          "jour": "2019-02-06T00:00:00",
          "typeVal": "median",
          "val": 267
         },
         {
          "jour": "2019-02-06T00:00:00",
          "typeVal": "median",
          "val": 267
         },
         {
          "jour": "2019-02-07T00:00:00",
          "typeVal": "median",
          "val": 267
         },
         {
          "jour": "2019-02-07T00:00:00",
          "typeVal": "median",
          "val": 267
         },
         {
          "jour": "2019-02-08T00:00:00",
          "typeVal": "median",
          "val": 267
         },
         {
          "jour": "2019-02-08T00:00:00",
          "typeVal": "median",
          "val": 267
         },
         {
          "jour": "2019-02-09T00:00:00",
          "typeVal": "median",
          "val": 267
         },
         {
          "jour": "2019-02-09T00:00:00",
          "typeVal": "median",
          "val": 267
         },
         {
          "jour": "2019-02-10T00:00:00",
          "typeVal": "median",
          "val": 267
         },
         {
          "jour": "2019-02-10T00:00:00",
          "typeVal": "median",
          "val": 267
         },
         {
          "jour": "2019-02-11T00:00:00",
          "typeVal": "median",
          "val": 267
         },
         {
          "jour": "2019-02-11T00:00:00",
          "typeVal": "median",
          "val": 267
         },
         {
          "jour": "2019-02-12T00:00:00",
          "typeVal": "median",
          "val": 267
         },
         {
          "jour": "2019-02-12T00:00:00",
          "typeVal": "median",
          "val": 267
         },
         {
          "jour": "2019-02-13T00:00:00",
          "typeVal": "median",
          "val": 267
         },
         {
          "jour": "2019-02-13T00:00:00",
          "typeVal": "median",
          "val": 267
         },
         {
          "jour": "2019-02-14T00:00:00",
          "typeVal": "median",
          "val": 267
         },
         {
          "jour": "2019-02-14T00:00:00",
          "typeVal": "median",
          "val": 267
         },
         {
          "jour": "2019-02-15T00:00:00",
          "typeVal": "median",
          "val": 267
         },
         {
          "jour": "2019-02-15T00:00:00",
          "typeVal": "median",
          "val": 267
         },
         {
          "jour": "2019-02-16T00:00:00",
          "typeVal": "median",
          "val": 267
         },
         {
          "jour": "2019-02-16T00:00:00",
          "typeVal": "median",
          "val": 267
         },
         {
          "jour": "2019-02-17T00:00:00",
          "typeVal": "median",
          "val": 267
         },
         {
          "jour": "2019-02-17T00:00:00",
          "typeVal": "median",
          "val": 267
         },
         {
          "jour": "2019-02-18T00:00:00",
          "typeVal": "median",
          "val": 267
         },
         {
          "jour": "2019-02-18T00:00:00",
          "typeVal": "median",
          "val": 267
         },
         {
          "jour": "2019-02-19T00:00:00",
          "typeVal": "median",
          "val": 267
         },
         {
          "jour": "2019-02-19T00:00:00",
          "typeVal": "median",
          "val": 267
         },
         {
          "jour": "2019-02-20T00:00:00",
          "typeVal": "median",
          "val": 267
         },
         {
          "jour": "2019-02-20T00:00:00",
          "typeVal": "median",
          "val": 267
         },
         {
          "jour": "2019-02-21T00:00:00",
          "typeVal": "median",
          "val": 267
         },
         {
          "jour": "2019-02-21T00:00:00",
          "typeVal": "median",
          "val": 267
         },
         {
          "jour": "2019-02-22T00:00:00",
          "typeVal": "median",
          "val": 267
         },
         {
          "jour": "2019-02-22T00:00:00",
          "typeVal": "median",
          "val": 267
         },
         {
          "jour": "2019-02-23T00:00:00",
          "typeVal": "median",
          "val": 267
         },
         {
          "jour": "2019-02-23T00:00:00",
          "typeVal": "median",
          "val": 267
         },
         {
          "jour": "2019-02-24T00:00:00",
          "typeVal": "median",
          "val": 267
         },
         {
          "jour": "2019-02-24T00:00:00",
          "typeVal": "median",
          "val": 267
         },
         {
          "jour": "2019-02-25T00:00:00",
          "typeVal": "median",
          "val": 267
         },
         {
          "jour": "2019-02-25T00:00:00",
          "typeVal": "median",
          "val": 267
         },
         {
          "jour": "2019-02-26T00:00:00",
          "typeVal": "median",
          "val": 267
         },
         {
          "jour": "2019-02-26T00:00:00",
          "typeVal": "median",
          "val": 267
         },
         {
          "jour": "2019-02-27T00:00:00",
          "typeVal": "median",
          "val": 267
         },
         {
          "jour": "2019-02-27T00:00:00",
          "typeVal": "median",
          "val": 267
         },
         {
          "jour": "2019-02-28T00:00:00",
          "typeVal": "median",
          "val": 267
         },
         {
          "jour": "2019-02-28T00:00:00",
          "typeVal": "median",
          "val": 267
         },
         {
          "jour": "2019-03-01T00:00:00",
          "typeVal": "median",
          "val": 267
         },
         {
          "jour": "2019-03-01T00:00:00",
          "typeVal": "median",
          "val": 267
         },
         {
          "jour": "2019-03-02T00:00:00",
          "typeVal": "median",
          "val": 267
         },
         {
          "jour": "2019-03-02T00:00:00",
          "typeVal": "median",
          "val": 267
         },
         {
          "jour": "2019-03-03T00:00:00",
          "typeVal": "median",
          "val": 267
         },
         {
          "jour": "2019-03-03T00:00:00",
          "typeVal": "median",
          "val": 267
         },
         {
          "jour": "2019-03-04T00:00:00",
          "typeVal": "median",
          "val": 267
         },
         {
          "jour": "2019-03-04T00:00:00",
          "typeVal": "median",
          "val": 267
         },
         {
          "jour": "2019-03-05T00:00:00",
          "typeVal": "median",
          "val": 267
         },
         {
          "jour": "2019-03-05T00:00:00",
          "typeVal": "median",
          "val": 267
         },
         {
          "jour": "2019-03-06T00:00:00",
          "typeVal": "median",
          "val": 267
         },
         {
          "jour": "2019-03-06T00:00:00",
          "typeVal": "median",
          "val": 267
         },
         {
          "jour": "2019-03-07T00:00:00",
          "typeVal": "median",
          "val": 267
         },
         {
          "jour": "2019-03-07T00:00:00",
          "typeVal": "median",
          "val": 267
         },
         {
          "jour": "2019-03-08T00:00:00",
          "typeVal": "median",
          "val": 267
         },
         {
          "jour": "2019-03-08T00:00:00",
          "typeVal": "median",
          "val": 267
         },
         {
          "jour": "2019-03-09T00:00:00",
          "typeVal": "median",
          "val": 267
         },
         {
          "jour": "2019-03-09T00:00:00",
          "typeVal": "median",
          "val": 267
         },
         {
          "jour": "2019-03-10T00:00:00",
          "typeVal": "median",
          "val": 267
         },
         {
          "jour": "2019-03-10T00:00:00",
          "typeVal": "median",
          "val": 267
         },
         {
          "jour": "2019-03-11T00:00:00",
          "typeVal": "median",
          "val": 267
         },
         {
          "jour": "2019-03-11T00:00:00",
          "typeVal": "median",
          "val": 267
         },
         {
          "jour": "2019-03-12T00:00:00",
          "typeVal": "median",
          "val": 267
         },
         {
          "jour": "2019-03-12T00:00:00",
          "typeVal": "median",
          "val": 267
         },
         {
          "jour": "2019-03-13T00:00:00",
          "typeVal": "median",
          "val": 267
         },
         {
          "jour": "2019-03-13T00:00:00",
          "typeVal": "median",
          "val": 267
         },
         {
          "jour": "2019-03-14T00:00:00",
          "typeVal": "median",
          "val": 267
         },
         {
          "jour": "2019-03-14T00:00:00",
          "typeVal": "median",
          "val": 267
         },
         {
          "jour": "2019-03-15T00:00:00",
          "typeVal": "median",
          "val": 267
         },
         {
          "jour": "2019-03-15T00:00:00",
          "typeVal": "median",
          "val": 267
         },
         {
          "jour": "2019-03-16T00:00:00",
          "typeVal": "median",
          "val": 267
         },
         {
          "jour": "2019-03-16T00:00:00",
          "typeVal": "median",
          "val": 267
         },
         {
          "jour": "2019-03-17T00:00:00",
          "typeVal": "median",
          "val": 267
         },
         {
          "jour": "2019-03-17T00:00:00",
          "typeVal": "median",
          "val": 267
         },
         {
          "jour": "2019-03-18T00:00:00",
          "typeVal": "median",
          "val": 267
         },
         {
          "jour": "2019-03-18T00:00:00",
          "typeVal": "median",
          "val": 267
         },
         {
          "jour": "2019-03-19T00:00:00",
          "typeVal": "median",
          "val": 267
         },
         {
          "jour": "2019-03-19T00:00:00",
          "typeVal": "median",
          "val": 267
         },
         {
          "jour": "2019-03-20T00:00:00",
          "typeVal": "median",
          "val": 267
         },
         {
          "jour": "2019-03-20T00:00:00",
          "typeVal": "median",
          "val": 267
         },
         {
          "jour": "2019-03-21T00:00:00",
          "typeVal": "median",
          "val": 267
         },
         {
          "jour": "2019-03-21T00:00:00",
          "typeVal": "median",
          "val": 267
         },
         {
          "jour": "2019-03-22T00:00:00",
          "typeVal": "median",
          "val": 267
         },
         {
          "jour": "2019-03-22T00:00:00",
          "typeVal": "median",
          "val": 267
         },
         {
          "jour": "2019-03-23T00:00:00",
          "typeVal": "median",
          "val": 267
         },
         {
          "jour": "2019-03-23T00:00:00",
          "typeVal": "median",
          "val": 267
         },
         {
          "jour": "2019-03-24T00:00:00",
          "typeVal": "median",
          "val": 267
         },
         {
          "jour": "2019-03-24T00:00:00",
          "typeVal": "median",
          "val": 267
         },
         {
          "jour": "2019-03-25T00:00:00",
          "typeVal": "median",
          "val": 267
         },
         {
          "jour": "2019-03-25T00:00:00",
          "typeVal": "median",
          "val": 267
         },
         {
          "jour": "2019-03-26T00:00:00",
          "typeVal": "median",
          "val": 267
         },
         {
          "jour": "2019-03-26T00:00:00",
          "typeVal": "median",
          "val": 267
         },
         {
          "jour": "2019-03-27T00:00:00",
          "typeVal": "median",
          "val": 267
         },
         {
          "jour": "2019-03-27T00:00:00",
          "typeVal": "median",
          "val": 267
         },
         {
          "jour": "2019-03-28T00:00:00",
          "typeVal": "median",
          "val": 267
         },
         {
          "jour": "2019-03-28T00:00:00",
          "typeVal": "median",
          "val": 267
         },
         {
          "jour": "2019-03-29T00:00:00",
          "typeVal": "median",
          "val": 267
         },
         {
          "jour": "2019-03-29T00:00:00",
          "typeVal": "median",
          "val": 267
         },
         {
          "jour": "2019-03-30T00:00:00",
          "typeVal": "median",
          "val": 267
         },
         {
          "jour": "2019-03-30T00:00:00",
          "typeVal": "median",
          "val": 267
         },
         {
          "jour": "2019-03-31T00:00:00",
          "typeVal": "median",
          "val": 267
         },
         {
          "jour": "2019-03-31T00:00:00",
          "typeVal": "median",
          "val": 267
         }
        ],
        "data-54957472090a9279092e54c25f2e90a2": [
         {
          "jour": "2019-01-01T00:00:00",
          "plageMaxi": 422.7056369114895,
          "plageMini": 79.15953162783634
         },
         {
          "jour": "2019-01-01T00:00:00",
          "plageMaxi": 422.7056369114895,
          "plageMini": 79.15953162783634
         },
         {
          "jour": "2019-01-02T00:00:00",
          "plageMaxi": 422.7056369114895,
          "plageMini": 79.15953162783634
         },
         {
          "jour": "2019-01-02T00:00:00",
          "plageMaxi": 422.7056369114895,
          "plageMini": 79.15953162783634
         },
         {
          "jour": "2019-01-03T00:00:00",
          "plageMaxi": 422.7056369114895,
          "plageMini": 79.15953162783634
         },
         {
          "jour": "2019-01-03T00:00:00",
          "plageMaxi": 422.7056369114895,
          "plageMini": 79.15953162783634
         },
         {
          "jour": "2019-01-04T00:00:00",
          "plageMaxi": 422.7056369114895,
          "plageMini": 79.15953162783634
         },
         {
          "jour": "2019-01-04T00:00:00",
          "plageMaxi": 422.7056369114895,
          "plageMini": 79.15953162783634
         },
         {
          "jour": "2019-01-05T00:00:00",
          "plageMaxi": 422.7056369114895,
          "plageMini": 79.15953162783634
         },
         {
          "jour": "2019-01-05T00:00:00",
          "plageMaxi": 422.7056369114895,
          "plageMini": 79.15953162783634
         },
         {
          "jour": "2019-01-06T00:00:00",
          "plageMaxi": 422.7056369114895,
          "plageMini": 79.15953162783634
         },
         {
          "jour": "2019-01-06T00:00:00",
          "plageMaxi": 422.7056369114895,
          "plageMini": 79.15953162783634
         },
         {
          "jour": "2019-01-07T00:00:00",
          "plageMaxi": 422.7056369114895,
          "plageMini": 79.15953162783634
         },
         {
          "jour": "2019-01-07T00:00:00",
          "plageMaxi": 422.7056369114895,
          "plageMini": 79.15953162783634
         },
         {
          "jour": "2019-01-08T00:00:00",
          "plageMaxi": 422.7056369114895,
          "plageMini": 79.15953162783634
         },
         {
          "jour": "2019-01-08T00:00:00",
          "plageMaxi": 422.7056369114895,
          "plageMini": 79.15953162783634
         },
         {
          "jour": "2019-01-09T00:00:00",
          "plageMaxi": 422.7056369114895,
          "plageMini": 79.15953162783634
         },
         {
          "jour": "2019-01-09T00:00:00",
          "plageMaxi": 422.7056369114895,
          "plageMini": 79.15953162783634
         },
         {
          "jour": "2019-01-10T00:00:00",
          "plageMaxi": 422.7056369114895,
          "plageMini": 79.15953162783634
         },
         {
          "jour": "2019-01-10T00:00:00",
          "plageMaxi": 422.7056369114895,
          "plageMini": 79.15953162783634
         },
         {
          "jour": "2019-01-11T00:00:00",
          "plageMaxi": 422.7056369114895,
          "plageMini": 79.15953162783634
         },
         {
          "jour": "2019-01-11T00:00:00",
          "plageMaxi": 422.7056369114895,
          "plageMini": 79.15953162783634
         },
         {
          "jour": "2019-01-12T00:00:00",
          "plageMaxi": 422.7056369114895,
          "plageMini": 79.15953162783634
         },
         {
          "jour": "2019-01-12T00:00:00",
          "plageMaxi": 422.7056369114895,
          "plageMini": 79.15953162783634
         },
         {
          "jour": "2019-01-13T00:00:00",
          "plageMaxi": 422.7056369114895,
          "plageMini": 79.15953162783634
         },
         {
          "jour": "2019-01-13T00:00:00",
          "plageMaxi": 422.7056369114895,
          "plageMini": 79.15953162783634
         },
         {
          "jour": "2019-01-14T00:00:00",
          "plageMaxi": 422.7056369114895,
          "plageMini": 79.15953162783634
         },
         {
          "jour": "2019-01-14T00:00:00",
          "plageMaxi": 422.7056369114895,
          "plageMini": 79.15953162783634
         },
         {
          "jour": "2019-01-15T00:00:00",
          "plageMaxi": 422.7056369114895,
          "plageMini": 79.15953162783634
         },
         {
          "jour": "2019-01-15T00:00:00",
          "plageMaxi": 422.7056369114895,
          "plageMini": 79.15953162783634
         },
         {
          "jour": "2019-01-16T00:00:00",
          "plageMaxi": 422.7056369114895,
          "plageMini": 79.15953162783634
         },
         {
          "jour": "2019-01-16T00:00:00",
          "plageMaxi": 422.7056369114895,
          "plageMini": 79.15953162783634
         },
         {
          "jour": "2019-01-17T00:00:00",
          "plageMaxi": 422.7056369114895,
          "plageMini": 79.15953162783634
         },
         {
          "jour": "2019-01-17T00:00:00",
          "plageMaxi": 422.7056369114895,
          "plageMini": 79.15953162783634
         },
         {
          "jour": "2019-01-18T00:00:00",
          "plageMaxi": 422.7056369114895,
          "plageMini": 79.15953162783634
         },
         {
          "jour": "2019-01-18T00:00:00",
          "plageMaxi": 422.7056369114895,
          "plageMini": 79.15953162783634
         },
         {
          "jour": "2019-01-19T00:00:00",
          "plageMaxi": 422.7056369114895,
          "plageMini": 79.15953162783634
         },
         {
          "jour": "2019-01-19T00:00:00",
          "plageMaxi": 422.7056369114895,
          "plageMini": 79.15953162783634
         },
         {
          "jour": "2019-01-20T00:00:00",
          "plageMaxi": 422.7056369114895,
          "plageMini": 79.15953162783634
         },
         {
          "jour": "2019-01-20T00:00:00",
          "plageMaxi": 422.7056369114895,
          "plageMini": 79.15953162783634
         },
         {
          "jour": "2019-01-21T00:00:00",
          "plageMaxi": 422.7056369114895,
          "plageMini": 79.15953162783634
         },
         {
          "jour": "2019-01-21T00:00:00",
          "plageMaxi": 422.7056369114895,
          "plageMini": 79.15953162783634
         },
         {
          "jour": "2019-01-22T00:00:00",
          "plageMaxi": 422.7056369114895,
          "plageMini": 79.15953162783634
         },
         {
          "jour": "2019-01-22T00:00:00",
          "plageMaxi": 422.7056369114895,
          "plageMini": 79.15953162783634
         },
         {
          "jour": "2019-01-23T00:00:00",
          "plageMaxi": 422.7056369114895,
          "plageMini": 79.15953162783634
         },
         {
          "jour": "2019-01-23T00:00:00",
          "plageMaxi": 422.7056369114895,
          "plageMini": 79.15953162783634
         },
         {
          "jour": "2019-01-24T00:00:00",
          "plageMaxi": 422.7056369114895,
          "plageMini": 79.15953162783634
         },
         {
          "jour": "2019-01-24T00:00:00",
          "plageMaxi": 422.7056369114895,
          "plageMini": 79.15953162783634
         },
         {
          "jour": "2019-01-25T00:00:00",
          "plageMaxi": 422.7056369114895,
          "plageMini": 79.15953162783634
         },
         {
          "jour": "2019-01-25T00:00:00",
          "plageMaxi": 422.7056369114895,
          "plageMini": 79.15953162783634
         },
         {
          "jour": "2019-01-26T00:00:00",
          "plageMaxi": 422.7056369114895,
          "plageMini": 79.15953162783634
         },
         {
          "jour": "2019-01-26T00:00:00",
          "plageMaxi": 422.7056369114895,
          "plageMini": 79.15953162783634
         },
         {
          "jour": "2019-01-27T00:00:00",
          "plageMaxi": 422.7056369114895,
          "plageMini": 79.15953162783634
         },
         {
          "jour": "2019-01-27T00:00:00",
          "plageMaxi": 422.7056369114895,
          "plageMini": 79.15953162783634
         },
         {
          "jour": "2019-01-28T00:00:00",
          "plageMaxi": 422.7056369114895,
          "plageMini": 79.15953162783634
         },
         {
          "jour": "2019-01-28T00:00:00",
          "plageMaxi": 422.7056369114895,
          "plageMini": 79.15953162783634
         },
         {
          "jour": "2019-01-29T00:00:00",
          "plageMaxi": 422.7056369114895,
          "plageMini": 79.15953162783634
         },
         {
          "jour": "2019-01-29T00:00:00",
          "plageMaxi": 422.7056369114895,
          "plageMini": 79.15953162783634
         },
         {
          "jour": "2019-01-30T00:00:00",
          "plageMaxi": 422.7056369114895,
          "plageMini": 79.15953162783634
         },
         {
          "jour": "2019-01-30T00:00:00",
          "plageMaxi": 422.7056369114895,
          "plageMini": 79.15953162783634
         },
         {
          "jour": "2019-01-31T00:00:00",
          "plageMaxi": 422.7056369114895,
          "plageMini": 79.15953162783634
         },
         {
          "jour": "2019-01-31T00:00:00",
          "plageMaxi": 422.7056369114895,
          "plageMini": 79.15953162783634
         },
         {
          "jour": "2019-02-01T00:00:00",
          "plageMaxi": 422.7056369114895,
          "plageMini": 79.15953162783634
         },
         {
          "jour": "2019-02-01T00:00:00",
          "plageMaxi": 422.7056369114895,
          "plageMini": 79.15953162783634
         },
         {
          "jour": "2019-02-02T00:00:00",
          "plageMaxi": 422.7056369114895,
          "plageMini": 79.15953162783634
         },
         {
          "jour": "2019-02-02T00:00:00",
          "plageMaxi": 422.7056369114895,
          "plageMini": 79.15953162783634
         },
         {
          "jour": "2019-02-03T00:00:00",
          "plageMaxi": 422.7056369114895,
          "plageMini": 79.15953162783634
         },
         {
          "jour": "2019-02-03T00:00:00",
          "plageMaxi": 422.7056369114895,
          "plageMini": 79.15953162783634
         },
         {
          "jour": "2019-02-04T00:00:00",
          "plageMaxi": 422.7056369114895,
          "plageMini": 79.15953162783634
         },
         {
          "jour": "2019-02-04T00:00:00",
          "plageMaxi": 422.7056369114895,
          "plageMini": 79.15953162783634
         },
         {
          "jour": "2019-02-05T00:00:00",
          "plageMaxi": 422.7056369114895,
          "plageMini": 79.15953162783634
         },
         {
          "jour": "2019-02-05T00:00:00",
          "plageMaxi": 422.7056369114895,
          "plageMini": 79.15953162783634
         },
         {
          "jour": "2019-02-06T00:00:00",
          "plageMaxi": 422.7056369114895,
          "plageMini": 79.15953162783634
         },
         {
          "jour": "2019-02-06T00:00:00",
          "plageMaxi": 422.7056369114895,
          "plageMini": 79.15953162783634
         },
         {
          "jour": "2019-02-07T00:00:00",
          "plageMaxi": 422.7056369114895,
          "plageMini": 79.15953162783634
         },
         {
          "jour": "2019-02-07T00:00:00",
          "plageMaxi": 422.7056369114895,
          "plageMini": 79.15953162783634
         },
         {
          "jour": "2019-02-08T00:00:00",
          "plageMaxi": 422.7056369114895,
          "plageMini": 79.15953162783634
         },
         {
          "jour": "2019-02-08T00:00:00",
          "plageMaxi": 422.7056369114895,
          "plageMini": 79.15953162783634
         },
         {
          "jour": "2019-02-09T00:00:00",
          "plageMaxi": 422.7056369114895,
          "plageMini": 79.15953162783634
         },
         {
          "jour": "2019-02-09T00:00:00",
          "plageMaxi": 422.7056369114895,
          "plageMini": 79.15953162783634
         },
         {
          "jour": "2019-02-10T00:00:00",
          "plageMaxi": 422.7056369114895,
          "plageMini": 79.15953162783634
         },
         {
          "jour": "2019-02-10T00:00:00",
          "plageMaxi": 422.7056369114895,
          "plageMini": 79.15953162783634
         },
         {
          "jour": "2019-02-11T00:00:00",
          "plageMaxi": 422.7056369114895,
          "plageMini": 79.15953162783634
         },
         {
          "jour": "2019-02-11T00:00:00",
          "plageMaxi": 422.7056369114895,
          "plageMini": 79.15953162783634
         },
         {
          "jour": "2019-02-12T00:00:00",
          "plageMaxi": 422.7056369114895,
          "plageMini": 79.15953162783634
         },
         {
          "jour": "2019-02-12T00:00:00",
          "plageMaxi": 422.7056369114895,
          "plageMini": 79.15953162783634
         },
         {
          "jour": "2019-02-13T00:00:00",
          "plageMaxi": 422.7056369114895,
          "plageMini": 79.15953162783634
         },
         {
          "jour": "2019-02-13T00:00:00",
          "plageMaxi": 422.7056369114895,
          "plageMini": 79.15953162783634
         },
         {
          "jour": "2019-02-14T00:00:00",
          "plageMaxi": 422.7056369114895,
          "plageMini": 79.15953162783634
         },
         {
          "jour": "2019-02-14T00:00:00",
          "plageMaxi": 422.7056369114895,
          "plageMini": 79.15953162783634
         },
         {
          "jour": "2019-02-15T00:00:00",
          "plageMaxi": 422.7056369114895,
          "plageMini": 79.15953162783634
         },
         {
          "jour": "2019-02-15T00:00:00",
          "plageMaxi": 422.7056369114895,
          "plageMini": 79.15953162783634
         },
         {
          "jour": "2019-02-16T00:00:00",
          "plageMaxi": 422.7056369114895,
          "plageMini": 79.15953162783634
         },
         {
          "jour": "2019-02-16T00:00:00",
          "plageMaxi": 422.7056369114895,
          "plageMini": 79.15953162783634
         },
         {
          "jour": "2019-02-17T00:00:00",
          "plageMaxi": 422.7056369114895,
          "plageMini": 79.15953162783634
         },
         {
          "jour": "2019-02-17T00:00:00",
          "plageMaxi": 422.7056369114895,
          "plageMini": 79.15953162783634
         },
         {
          "jour": "2019-02-18T00:00:00",
          "plageMaxi": 422.7056369114895,
          "plageMini": 79.15953162783634
         },
         {
          "jour": "2019-02-18T00:00:00",
          "plageMaxi": 422.7056369114895,
          "plageMini": 79.15953162783634
         },
         {
          "jour": "2019-02-19T00:00:00",
          "plageMaxi": 422.7056369114895,
          "plageMini": 79.15953162783634
         },
         {
          "jour": "2019-02-19T00:00:00",
          "plageMaxi": 422.7056369114895,
          "plageMini": 79.15953162783634
         },
         {
          "jour": "2019-02-20T00:00:00",
          "plageMaxi": 422.7056369114895,
          "plageMini": 79.15953162783634
         },
         {
          "jour": "2019-02-20T00:00:00",
          "plageMaxi": 422.7056369114895,
          "plageMini": 79.15953162783634
         },
         {
          "jour": "2019-02-21T00:00:00",
          "plageMaxi": 422.7056369114895,
          "plageMini": 79.15953162783634
         },
         {
          "jour": "2019-02-21T00:00:00",
          "plageMaxi": 422.7056369114895,
          "plageMini": 79.15953162783634
         },
         {
          "jour": "2019-02-22T00:00:00",
          "plageMaxi": 422.7056369114895,
          "plageMini": 79.15953162783634
         },
         {
          "jour": "2019-02-22T00:00:00",
          "plageMaxi": 422.7056369114895,
          "plageMini": 79.15953162783634
         },
         {
          "jour": "2019-02-23T00:00:00",
          "plageMaxi": 422.7056369114895,
          "plageMini": 79.15953162783634
         },
         {
          "jour": "2019-02-23T00:00:00",
          "plageMaxi": 422.7056369114895,
          "plageMini": 79.15953162783634
         },
         {
          "jour": "2019-02-24T00:00:00",
          "plageMaxi": 422.7056369114895,
          "plageMini": 79.15953162783634
         },
         {
          "jour": "2019-02-24T00:00:00",
          "plageMaxi": 422.7056369114895,
          "plageMini": 79.15953162783634
         },
         {
          "jour": "2019-02-25T00:00:00",
          "plageMaxi": 422.7056369114895,
          "plageMini": 79.15953162783634
         },
         {
          "jour": "2019-02-25T00:00:00",
          "plageMaxi": 422.7056369114895,
          "plageMini": 79.15953162783634
         },
         {
          "jour": "2019-02-26T00:00:00",
          "plageMaxi": 422.7056369114895,
          "plageMini": 79.15953162783634
         },
         {
          "jour": "2019-02-26T00:00:00",
          "plageMaxi": 422.7056369114895,
          "plageMini": 79.15953162783634
         },
         {
          "jour": "2019-02-27T00:00:00",
          "plageMaxi": 422.7056369114895,
          "plageMini": 79.15953162783634
         },
         {
          "jour": "2019-02-27T00:00:00",
          "plageMaxi": 422.7056369114895,
          "plageMini": 79.15953162783634
         },
         {
          "jour": "2019-02-28T00:00:00",
          "plageMaxi": 422.7056369114895,
          "plageMini": 79.15953162783634
         },
         {
          "jour": "2019-02-28T00:00:00",
          "plageMaxi": 422.7056369114895,
          "plageMini": 79.15953162783634
         },
         {
          "jour": "2019-03-01T00:00:00",
          "plageMaxi": 422.7056369114895,
          "plageMini": 79.15953162783634
         },
         {
          "jour": "2019-03-01T00:00:00",
          "plageMaxi": 422.7056369114895,
          "plageMini": 79.15953162783634
         },
         {
          "jour": "2019-03-02T00:00:00",
          "plageMaxi": 422.7056369114895,
          "plageMini": 79.15953162783634
         },
         {
          "jour": "2019-03-02T00:00:00",
          "plageMaxi": 422.7056369114895,
          "plageMini": 79.15953162783634
         },
         {
          "jour": "2019-03-03T00:00:00",
          "plageMaxi": 422.7056369114895,
          "plageMini": 79.15953162783634
         },
         {
          "jour": "2019-03-03T00:00:00",
          "plageMaxi": 422.7056369114895,
          "plageMini": 79.15953162783634
         },
         {
          "jour": "2019-03-04T00:00:00",
          "plageMaxi": 422.7056369114895,
          "plageMini": 79.15953162783634
         },
         {
          "jour": "2019-03-04T00:00:00",
          "plageMaxi": 422.7056369114895,
          "plageMini": 79.15953162783634
         },
         {
          "jour": "2019-03-05T00:00:00",
          "plageMaxi": 422.7056369114895,
          "plageMini": 79.15953162783634
         },
         {
          "jour": "2019-03-05T00:00:00",
          "plageMaxi": 422.7056369114895,
          "plageMini": 79.15953162783634
         },
         {
          "jour": "2019-03-06T00:00:00",
          "plageMaxi": 422.7056369114895,
          "plageMini": 79.15953162783634
         },
         {
          "jour": "2019-03-06T00:00:00",
          "plageMaxi": 422.7056369114895,
          "plageMini": 79.15953162783634
         },
         {
          "jour": "2019-03-07T00:00:00",
          "plageMaxi": 422.7056369114895,
          "plageMini": 79.15953162783634
         },
         {
          "jour": "2019-03-07T00:00:00",
          "plageMaxi": 422.7056369114895,
          "plageMini": 79.15953162783634
         },
         {
          "jour": "2019-03-08T00:00:00",
          "plageMaxi": 422.7056369114895,
          "plageMini": 79.15953162783634
         },
         {
          "jour": "2019-03-08T00:00:00",
          "plageMaxi": 422.7056369114895,
          "plageMini": 79.15953162783634
         },
         {
          "jour": "2019-03-09T00:00:00",
          "plageMaxi": 422.7056369114895,
          "plageMini": 79.15953162783634
         },
         {
          "jour": "2019-03-09T00:00:00",
          "plageMaxi": 422.7056369114895,
          "plageMini": 79.15953162783634
         },
         {
          "jour": "2019-03-10T00:00:00",
          "plageMaxi": 422.7056369114895,
          "plageMini": 79.15953162783634
         },
         {
          "jour": "2019-03-10T00:00:00",
          "plageMaxi": 422.7056369114895,
          "plageMini": 79.15953162783634
         },
         {
          "jour": "2019-03-11T00:00:00",
          "plageMaxi": 422.7056369114895,
          "plageMini": 79.15953162783634
         },
         {
          "jour": "2019-03-11T00:00:00",
          "plageMaxi": 422.7056369114895,
          "plageMini": 79.15953162783634
         },
         {
          "jour": "2019-03-12T00:00:00",
          "plageMaxi": 422.7056369114895,
          "plageMini": 79.15953162783634
         },
         {
          "jour": "2019-03-12T00:00:00",
          "plageMaxi": 422.7056369114895,
          "plageMini": 79.15953162783634
         },
         {
          "jour": "2019-03-13T00:00:00",
          "plageMaxi": 422.7056369114895,
          "plageMini": 79.15953162783634
         },
         {
          "jour": "2019-03-13T00:00:00",
          "plageMaxi": 422.7056369114895,
          "plageMini": 79.15953162783634
         },
         {
          "jour": "2019-03-14T00:00:00",
          "plageMaxi": 422.7056369114895,
          "plageMini": 79.15953162783634
         },
         {
          "jour": "2019-03-14T00:00:00",
          "plageMaxi": 422.7056369114895,
          "plageMini": 79.15953162783634
         },
         {
          "jour": "2019-03-15T00:00:00",
          "plageMaxi": 422.7056369114895,
          "plageMini": 79.15953162783634
         },
         {
          "jour": "2019-03-15T00:00:00",
          "plageMaxi": 422.7056369114895,
          "plageMini": 79.15953162783634
         },
         {
          "jour": "2019-03-16T00:00:00",
          "plageMaxi": 422.7056369114895,
          "plageMini": 79.15953162783634
         },
         {
          "jour": "2019-03-16T00:00:00",
          "plageMaxi": 422.7056369114895,
          "plageMini": 79.15953162783634
         },
         {
          "jour": "2019-03-17T00:00:00",
          "plageMaxi": 422.7056369114895,
          "plageMini": 79.15953162783634
         },
         {
          "jour": "2019-03-17T00:00:00",
          "plageMaxi": 422.7056369114895,
          "plageMini": 79.15953162783634
         },
         {
          "jour": "2019-03-18T00:00:00",
          "plageMaxi": 422.7056369114895,
          "plageMini": 79.15953162783634
         },
         {
          "jour": "2019-03-18T00:00:00",
          "plageMaxi": 422.7056369114895,
          "plageMini": 79.15953162783634
         },
         {
          "jour": "2019-03-19T00:00:00",
          "plageMaxi": 422.7056369114895,
          "plageMini": 79.15953162783634
         },
         {
          "jour": "2019-03-19T00:00:00",
          "plageMaxi": 422.7056369114895,
          "plageMini": 79.15953162783634
         },
         {
          "jour": "2019-03-20T00:00:00",
          "plageMaxi": 422.7056369114895,
          "plageMini": 79.15953162783634
         },
         {
          "jour": "2019-03-20T00:00:00",
          "plageMaxi": 422.7056369114895,
          "plageMini": 79.15953162783634
         },
         {
          "jour": "2019-03-21T00:00:00",
          "plageMaxi": 422.7056369114895,
          "plageMini": 79.15953162783634
         },
         {
          "jour": "2019-03-21T00:00:00",
          "plageMaxi": 422.7056369114895,
          "plageMini": 79.15953162783634
         },
         {
          "jour": "2019-03-22T00:00:00",
          "plageMaxi": 422.7056369114895,
          "plageMini": 79.15953162783634
         },
         {
          "jour": "2019-03-22T00:00:00",
          "plageMaxi": 422.7056369114895,
          "plageMini": 79.15953162783634
         },
         {
          "jour": "2019-03-23T00:00:00",
          "plageMaxi": 422.7056369114895,
          "plageMini": 79.15953162783634
         },
         {
          "jour": "2019-03-23T00:00:00",
          "plageMaxi": 422.7056369114895,
          "plageMini": 79.15953162783634
         },
         {
          "jour": "2019-03-24T00:00:00",
          "plageMaxi": 422.7056369114895,
          "plageMini": 79.15953162783634
         },
         {
          "jour": "2019-03-24T00:00:00",
          "plageMaxi": 422.7056369114895,
          "plageMini": 79.15953162783634
         },
         {
          "jour": "2019-03-25T00:00:00",
          "plageMaxi": 422.7056369114895,
          "plageMini": 79.15953162783634
         },
         {
          "jour": "2019-03-25T00:00:00",
          "plageMaxi": 422.7056369114895,
          "plageMini": 79.15953162783634
         },
         {
          "jour": "2019-03-26T00:00:00",
          "plageMaxi": 422.7056369114895,
          "plageMini": 79.15953162783634
         },
         {
          "jour": "2019-03-26T00:00:00",
          "plageMaxi": 422.7056369114895,
          "plageMini": 79.15953162783634
         },
         {
          "jour": "2019-03-27T00:00:00",
          "plageMaxi": 422.7056369114895,
          "plageMini": 79.15953162783634
         },
         {
          "jour": "2019-03-27T00:00:00",
          "plageMaxi": 422.7056369114895,
          "plageMini": 79.15953162783634
         },
         {
          "jour": "2019-03-28T00:00:00",
          "plageMaxi": 422.7056369114895,
          "plageMini": 79.15953162783634
         },
         {
          "jour": "2019-03-28T00:00:00",
          "plageMaxi": 422.7056369114895,
          "plageMini": 79.15953162783634
         },
         {
          "jour": "2019-03-29T00:00:00",
          "plageMaxi": 422.7056369114895,
          "plageMini": 79.15953162783634
         },
         {
          "jour": "2019-03-29T00:00:00",
          "plageMaxi": 422.7056369114895,
          "plageMini": 79.15953162783634
         },
         {
          "jour": "2019-03-30T00:00:00",
          "plageMaxi": 422.7056369114895,
          "plageMini": 79.15953162783634
         },
         {
          "jour": "2019-03-30T00:00:00",
          "plageMaxi": 422.7056369114895,
          "plageMini": 79.15953162783634
         },
         {
          "jour": "2019-03-31T00:00:00",
          "plageMaxi": 422.7056369114895,
          "plageMini": 79.15953162783634
         },
         {
          "jour": "2019-03-31T00:00:00",
          "plageMaxi": 422.7056369114895,
          "plageMini": 79.15953162783634
         }
        ]
       },
       "layer": [
        {
         "data": {
          "name": "data-54957472090a9279092e54c25f2e90a2"
         },
         "encoding": {
          "x": {
           "field": "jour",
           "type": "temporal"
          },
          "y": {
           "axis": {
            "title": "Nb de vehicule"
           },
           "field": "plageMini",
           "type": "quantitative"
          },
          "y2": {
           "field": "plageMaxi"
          }
         },
         "mark": {
          "color": "yellow",
          "opacity": 0.3,
          "type": "area"
         }
        },
        {
         "data": {
          "name": "data-171b509c25be84cb64872bbb172bd3ba"
         },
         "encoding": {
          "tooltip": {
           "field": "jour",
           "type": "temporal"
          },
          "x": {
           "field": "jour",
           "type": "temporal"
          },
          "y": {
           "axis": {
            "title": "Nb de vehicule"
           },
           "field": "h8_9",
           "type": "quantitative"
          }
         },
         "mark": "point",
         "selection": {
          "selector051": {
           "bind": "scales",
           "encodings": [
            "x",
            "y"
           ],
           "type": "interval"
          }
         },
         "title": "h8_9"
        },
        {
         "data": {
          "name": "data-40133e53997f9c5e5cce2e9f00f9cf7c"
         },
         "encoding": {
          "color": {
           "field": "typeVal",
           "type": "nominal"
          },
          "x": {
           "field": "jour",
           "type": "temporal"
          },
          "y": {
           "field": "val",
           "type": "quantitative"
          }
         },
         "mark": "line"
        }
       ]
      },
      "image/png": "[encoded data removed]",
      "text/plain": [
       "<VegaLite 3 object>\n",
       "\n",
       "If you see this message, it means the renderer has not been properly enabled\n",
       "for the frontend that you are using. For more information, see\n",
       "https://altair-viz.github.io/user_guide/troubleshooting.html\n"
      ]
     },
     "execution_count": 82,
     "metadata": {},
     "output_type": "execute_result"
    }
   ],
   "source": [
    "graphTrafHoraire(df_horaire,statsHoraires(df_horaire,'h8_9'),'h8_9')"
   ]
  },
  {
   "cell_type": "code",
   "execution_count": 81,
   "metadata": {},
   "outputs": [],
   "source": [
    "alt.VConcatChart(vconcat=[alt.HConcatChart(hconcat=([graphTrafHoraire(df_horaire,statsHoraires(df_horaire,attributHeure),attributHeure) \n",
    "                           for attributHeure in [f'h{i+j}_{i+j+1}' for i in range(4)]])) for j in range(0,21,4)])"
   ]
  },
  {
   "cell_type": "markdown",
   "metadata": {},
   "source": [
    "<a id=\"1.2\" ></a>\n",
    "> ## **1.2. Visu de la répartition horaires des données en MJA et MJO**\n",
    "exemple DIRA"
   ]
  },
  {
   "cell_type": "code",
   "execution_count": 18,
   "metadata": {},
   "outputs": [],
   "source": [
    "with ct.ConnexionBdd('local_otv_boulot') as c:\n",
    "    rqt=\"select * from comptage.na_2010_2019_horaire where id_comptag IN (SELECT id_comptag FROM comptage.na_2010_2019_p WHERE gestionnai='DIRA' and id_comptag is not null)\"\n",
    "    df=pd.read_sql(rqt,c.sqlAlchemyConn)"
   ]
  },
  {
   "cell_type": "code",
   "execution_count": 20,
   "metadata": {},
   "outputs": [
    {
     "data": {
      "text/html": [
       "\n",
       "<div id=\"altair-viz-e60c0b1d7e244e5bbf9b259569b2ae2d\"></div>\n",
       "<script type=\"text/javascript\">\n",
       "  (function(spec, embedOpt){\n",
       "    let outputDiv = document.currentScript.previousElementSibling;\n",
       "    if (outputDiv.id !== \"altair-viz-e60c0b1d7e244e5bbf9b259569b2ae2d\") {\n",
       "      outputDiv = document.getElementById(\"altair-viz-e60c0b1d7e244e5bbf9b259569b2ae2d\");\n",
       "    }\n",
       "    const paths = {\n",
       "      \"vega\": \"https://cdn.jsdelivr.net/npm//vega@5?noext\",\n",
       "      \"vega-lib\": \"https://cdn.jsdelivr.net/npm//vega-lib?noext\",\n",
       "      \"vega-lite\": \"https://cdn.jsdelivr.net/npm//vega-lite@4.8.1?noext\",\n",
       "      \"vega-embed\": \"https://cdn.jsdelivr.net/npm//vega-embed@6?noext\",\n",
       "    };\n",
       "\n",
       "    function loadScript(lib) {\n",
       "      return new Promise(function(resolve, reject) {\n",
       "        var s = document.createElement('script');\n",
       "        s.src = paths[lib];\n",
       "        s.async = true;\n",
       "        s.onload = () => resolve(paths[lib]);\n",
       "        s.onerror = () => reject(`Error loading script: ${paths[lib]}`);\n",
       "        document.getElementsByTagName(\"head\")[0].appendChild(s);\n",
       "      });\n",
       "    }\n",
       "\n",
       "    function showError(err) {\n",
       "      outputDiv.innerHTML = `<div class=\"error\" style=\"color:red;\">${err}</div>`;\n",
       "      throw err;\n",
       "    }\n",
       "\n",
       "    function displayChart(vegaEmbed) {\n",
       "      vegaEmbed(outputDiv, spec, embedOpt)\n",
       "        .catch(err => showError(`Javascript Error: ${err.message}<br>This usually means there's a typo in your chart specification. See the javascript console for the full traceback.`));\n",
       "    }\n",
       "\n",
       "    if(typeof define === \"function\" && define.amd) {\n",
       "      requirejs.config({paths});\n",
       "      require([\"vega-embed\"], displayChart, err => showError(`Error loading script: ${err.message}`));\n",
       "    } else if (typeof vegaEmbed === \"function\") {\n",
       "      displayChart(vegaEmbed);\n",
       "    } else {\n",
       "      loadScript(\"vega\")\n",
       "        .then(() => loadScript(\"vega-lite\"))\n",
       "        .then(() => loadScript(\"vega-embed\"))\n",
       "        .catch(showError)\n",
       "        .then(() => displayChart(vegaEmbed));\n",
       "    }\n",
       "  })({\"config\": {\"view\": {\"continuousWidth\": 400, \"continuousHeight\": 300}}, \"data\": {\"name\": \"data-7e79fe51a9ff47bbee2be7923cb527f5\"}, \"mark\": \"line\", \"encoding\": {\"color\": {\"type\": \"nominal\", \"field\": \"type_jour\"}, \"x\": {\"type\": \"temporal\", \"field\": \"heure\"}, \"y\": {\"type\": \"quantitative\", \"field\": \"nb_veh\"}}, \"title\": \"33-A630-10+547\", \"$schema\": \"https://vega.github.io/schema/vega-lite/v4.8.1.json\", \"datasets\": {\"data-7e79fe51a9ff47bbee2be7923cb527f5\": [{\"id_comptag\": \"33-A630-10+547\", \"heure\": \"2019-01-01T00:00:00\", \"nb_veh\": 542, \"type_jour\": \"tmja\"}, {\"id_comptag\": \"33-A630-10+547\", \"heure\": \"2019-01-01T01:00:00\", \"nb_veh\": 354, \"type_jour\": \"tmja\"}, {\"id_comptag\": \"33-A630-10+547\", \"heure\": \"2019-01-01T02:00:00\", \"nb_veh\": 251, \"type_jour\": \"tmja\"}, {\"id_comptag\": \"33-A630-10+547\", \"heure\": \"2019-01-01T03:00:00\", \"nb_veh\": 239, \"type_jour\": \"tmja\"}, {\"id_comptag\": \"33-A630-10+547\", \"heure\": \"2019-01-01T04:00:00\", \"nb_veh\": 410, \"type_jour\": \"tmja\"}, {\"id_comptag\": \"33-A630-10+547\", \"heure\": \"2019-01-01T05:00:00\", \"nb_veh\": 896, \"type_jour\": \"tmja\"}, {\"id_comptag\": \"33-A630-10+547\", \"heure\": \"2019-01-01T06:00:00\", \"nb_veh\": 2358, \"type_jour\": \"tmja\"}, {\"id_comptag\": \"33-A630-10+547\", \"heure\": \"2019-01-01T07:00:00\", \"nb_veh\": 3041, \"type_jour\": \"tmja\"}, {\"id_comptag\": \"33-A630-10+547\", \"heure\": \"2019-01-01T08:00:00\", \"nb_veh\": 2496, \"type_jour\": \"tmja\"}, {\"id_comptag\": \"33-A630-10+547\", \"heure\": \"2019-01-01T09:00:00\", \"nb_veh\": 3104, \"type_jour\": \"tmja\"}, {\"id_comptag\": \"33-A630-10+547\", \"heure\": \"2019-01-01T10:00:00\", \"nb_veh\": 3659, \"type_jour\": \"tmja\"}, {\"id_comptag\": \"33-A630-10+547\", \"heure\": \"2019-01-01T11:00:00\", \"nb_veh\": 3913, \"type_jour\": \"tmja\"}, {\"id_comptag\": \"33-A630-10+547\", \"heure\": \"2019-01-01T12:00:00\", \"nb_veh\": 3847, \"type_jour\": \"tmja\"}, {\"id_comptag\": \"33-A630-10+547\", \"heure\": \"2019-01-01T13:00:00\", \"nb_veh\": 3785, \"type_jour\": \"tmja\"}, {\"id_comptag\": \"33-A630-10+547\", \"heure\": \"2019-01-01T14:00:00\", \"nb_veh\": 4032, \"type_jour\": \"tmja\"}, {\"id_comptag\": \"33-A630-10+547\", \"heure\": \"2019-01-01T15:00:00\", \"nb_veh\": 4050, \"type_jour\": \"tmja\"}, {\"id_comptag\": \"33-A630-10+547\", \"heure\": \"2019-01-01T16:00:00\", \"nb_veh\": 3948, \"type_jour\": \"tmja\"}, {\"id_comptag\": \"33-A630-10+547\", \"heure\": \"2019-01-01T17:00:00\", \"nb_veh\": 3655, \"type_jour\": \"tmja\"}, {\"id_comptag\": \"33-A630-10+547\", \"heure\": \"2019-01-01T18:00:00\", \"nb_veh\": 3747, \"type_jour\": \"tmja\"}, {\"id_comptag\": \"33-A630-10+547\", \"heure\": \"2019-01-01T19:00:00\", \"nb_veh\": 3478, \"type_jour\": \"tmja\"}, {\"id_comptag\": \"33-A630-10+547\", \"heure\": \"2019-01-01T20:00:00\", \"nb_veh\": 2309, \"type_jour\": \"tmja\"}, {\"id_comptag\": \"33-A630-10+547\", \"heure\": \"2019-01-01T21:00:00\", \"nb_veh\": 1361, \"type_jour\": \"tmja\"}, {\"id_comptag\": \"33-A630-10+547\", \"heure\": \"2019-01-01T22:00:00\", \"nb_veh\": 1076, \"type_jour\": \"tmja\"}, {\"id_comptag\": \"33-A630-10+547\", \"heure\": \"2019-01-01T23:00:00\", \"nb_veh\": 830, \"type_jour\": \"tmja\"}, {\"id_comptag\": \"33-A630-10+547\", \"heure\": \"2019-01-01T00:00:00\", \"nb_veh\": 360, \"type_jour\": \"tmjo\"}, {\"id_comptag\": \"33-A630-10+547\", \"heure\": \"2019-01-01T01:00:00\", \"nb_veh\": 199, \"type_jour\": \"tmjo\"}, {\"id_comptag\": \"33-A630-10+547\", \"heure\": \"2019-01-01T02:00:00\", \"nb_veh\": 157, \"type_jour\": \"tmjo\"}, {\"id_comptag\": \"33-A630-10+547\", \"heure\": \"2019-01-01T03:00:00\", \"nb_veh\": 206, \"type_jour\": \"tmjo\"}, {\"id_comptag\": \"33-A630-10+547\", \"heure\": \"2019-01-01T04:00:00\", \"nb_veh\": 437, \"type_jour\": \"tmjo\"}, {\"id_comptag\": \"33-A630-10+547\", \"heure\": \"2019-01-01T05:00:00\", \"nb_veh\": 1101, \"type_jour\": \"tmjo\"}, {\"id_comptag\": \"33-A630-10+547\", \"heure\": \"2019-01-01T06:00:00\", \"nb_veh\": 3155, \"type_jour\": \"tmjo\"}, {\"id_comptag\": \"33-A630-10+547\", \"heure\": \"2019-01-01T07:00:00\", \"nb_veh\": 3906, \"type_jour\": \"tmjo\"}, {\"id_comptag\": \"33-A630-10+547\", \"heure\": \"2019-01-01T08:00:00\", \"nb_veh\": 2792, \"type_jour\": \"tmjo\"}, {\"id_comptag\": \"33-A630-10+547\", \"heure\": \"2019-01-01T09:00:00\", \"nb_veh\": 3401, \"type_jour\": \"tmjo\"}, {\"id_comptag\": \"33-A630-10+547\", \"heure\": \"2019-01-01T10:00:00\", \"nb_veh\": 3895, \"type_jour\": \"tmjo\"}, {\"id_comptag\": \"33-A630-10+547\", \"heure\": \"2019-01-01T11:00:00\", \"nb_veh\": 4020, \"type_jour\": \"tmjo\"}, {\"id_comptag\": \"33-A630-10+547\", \"heure\": \"2019-01-01T12:00:00\", \"nb_veh\": 4013, \"type_jour\": \"tmjo\"}, {\"id_comptag\": \"33-A630-10+547\", \"heure\": \"2019-01-01T13:00:00\", \"nb_veh\": 4085, \"type_jour\": \"tmjo\"}, {\"id_comptag\": \"33-A630-10+547\", \"heure\": \"2019-01-01T14:00:00\", \"nb_veh\": 4266, \"type_jour\": \"tmjo\"}, {\"id_comptag\": \"33-A630-10+547\", \"heure\": \"2019-01-01T15:00:00\", \"nb_veh\": 4228, \"type_jour\": \"tmjo\"}, {\"id_comptag\": \"33-A630-10+547\", \"heure\": \"2019-01-01T16:00:00\", \"nb_veh\": 3983, \"type_jour\": \"tmjo\"}, {\"id_comptag\": \"33-A630-10+547\", \"heure\": \"2019-01-01T17:00:00\", \"nb_veh\": 3398, \"type_jour\": \"tmjo\"}, {\"id_comptag\": \"33-A630-10+547\", \"heure\": \"2019-01-01T18:00:00\", \"nb_veh\": 3564, \"type_jour\": \"tmjo\"}, {\"id_comptag\": \"33-A630-10+547\", \"heure\": \"2019-01-01T19:00:00\", \"nb_veh\": 3471, \"type_jour\": \"tmjo\"}, {\"id_comptag\": \"33-A630-10+547\", \"heure\": \"2019-01-01T20:00:00\", \"nb_veh\": 2374, \"type_jour\": \"tmjo\"}, {\"id_comptag\": \"33-A630-10+547\", \"heure\": \"2019-01-01T21:00:00\", \"nb_veh\": 1374, \"type_jour\": \"tmjo\"}, {\"id_comptag\": \"33-A630-10+547\", \"heure\": \"2019-01-01T22:00:00\", \"nb_veh\": 1097, \"type_jour\": \"tmjo\"}, {\"id_comptag\": \"33-A630-10+547\", \"heure\": \"2019-01-01T23:00:00\", \"nb_veh\": 796, \"type_jour\": \"tmjo\"}]}}, {\"mode\": \"vega-lite\"});\n",
       "</script>"
      ],
      "text/plain": [
       "alt.Chart(...)"
      ]
     },
     "execution_count": 20,
     "metadata": {},
     "output_type": "execute_result"
    }
   ],
   "source": [
    "vi.GraphJourneeType(df,'33-A630-10+547')"
   ]
  },
  {
   "cell_type": "markdown",
   "metadata": {},
   "source": [
    "<a id=\"1.3\" ></a>\n",
    ">## **1.3. Exemple de Graph sur une df horaire de la DIRCO**\n",
    "pour comparer 2 sens de circu"
   ]
  },
  {
   "cell_type": "code",
   "execution_count": 10,
   "metadata": {},
   "outputs": [],
   "source": [
    "fichierMja=r'Q:\\DAIT\\TI\\DREAL33\\2020\\OTV\\Doc_travail\\Donnees_source\\DIRCO\\TMJA DIRCO-NA 2019_unfused.csv'\n",
    "fichierMjM=r'Q:\\DAIT\\TI\\DREAL33\\2020\\OTV\\Doc_travail\\Donnees_source\\DIRCO\\TMJM DIRCO-NA 2019.ods'\n",
    "dossierHoraire=r'Q:\\DAIT\\TI\\DREAL33\\2020\\OTV\\Doc_travail\\Donnees_source\\DIRCO\\données dirco'\n",
    "dirco=it.Comptage_Dirco(fichierMja,fichierMjM,dossierHoraire,'2019')\n",
    "\n",
    "dfFichierTmja=dirco.miseEnFormeFichierTmjaPourHoraire()\n",
    "dfSc=dirco.miseEnFormeHoraire(dirco.tousFichierHoraires(dfFichierTmja))\n",
    "dfScParSens,dicoCptok,dicoCptAssym=dirco.horaireParSens(dfSc)"
   ]
  },
  {
   "cell_type": "code",
   "execution_count": 11,
   "metadata": {},
   "outputs": [
    {
     "data": {
      "application/vnd.vegalite.v3+json": {
       "$schema": "https://vega.github.io/schema/vega-lite/v3.4.0.json",
       "config": {
        "mark": {
         "tooltip": null
        },
        "view": {
         "height": 300,
         "width": 400
        }
       },
       "data": {
        "name": "data-f61544e13012dd850557d6ef4fc29341"
       },
       "datasets": {
        "data-f61544e13012dd850557d6ef4fc29341": [
         {
          "id_comptag": "19-A20-229+500",
          "jour": "2019-09-01T00:00:00",
          "nb_veh": 15498,
          "sens": "sens1",
          "type_veh": "TV"
         },
         {
          "id_comptag": "19-A20-229+500",
          "jour": "2019-09-02T00:00:00",
          "nb_veh": 13710,
          "sens": "sens1",
          "type_veh": "TV"
         },
         {
          "id_comptag": "19-A20-229+500",
          "jour": "2019-09-03T00:00:00",
          "nb_veh": 12276,
          "sens": "sens1",
          "type_veh": "TV"
         },
         {
          "id_comptag": "19-A20-229+500",
          "jour": "2019-09-04T00:00:00",
          "nb_veh": 12035,
          "sens": "sens1",
          "type_veh": "TV"
         },
         {
          "id_comptag": "19-A20-229+500",
          "jour": "2019-09-05T00:00:00",
          "nb_veh": 13070,
          "sens": "sens1",
          "type_veh": "TV"
         },
         {
          "id_comptag": "19-A20-229+500",
          "jour": "2019-09-06T00:00:00",
          "nb_veh": 16392,
          "sens": "sens1",
          "type_veh": "TV"
         },
         {
          "id_comptag": "19-A20-229+500",
          "jour": "2019-09-07T00:00:00",
          "nb_veh": 14643,
          "sens": "sens1",
          "type_veh": "TV"
         },
         {
          "id_comptag": "19-A20-229+500",
          "jour": "2019-09-08T00:00:00",
          "nb_veh": 13198,
          "sens": "sens1",
          "type_veh": "TV"
         },
         {
          "id_comptag": "19-A20-229+500",
          "jour": "2019-09-09T00:00:00",
          "nb_veh": 12401,
          "sens": "sens1",
          "type_veh": "TV"
         },
         {
          "id_comptag": "19-A20-229+500",
          "jour": "2019-09-10T00:00:00",
          "nb_veh": 11748,
          "sens": "sens1",
          "type_veh": "TV"
         },
         {
          "id_comptag": "19-A20-229+500",
          "jour": "2019-09-11T00:00:00",
          "nb_veh": 11925,
          "sens": "sens1",
          "type_veh": "TV"
         },
         {
          "id_comptag": "19-A20-229+500",
          "jour": "2019-09-12T00:00:00",
          "nb_veh": 12364,
          "sens": "sens1",
          "type_veh": "TV"
         },
         {
          "id_comptag": "19-A20-229+500",
          "jour": "2019-09-13T00:00:00",
          "nb_veh": 16498,
          "sens": "sens1",
          "type_veh": "TV"
         },
         {
          "id_comptag": "19-A20-229+500",
          "jour": "2019-09-14T00:00:00",
          "nb_veh": 12547,
          "sens": "sens1",
          "type_veh": "TV"
         },
         {
          "id_comptag": "19-A20-229+500",
          "jour": "2019-09-15T00:00:00",
          "nb_veh": 12367,
          "sens": "sens1",
          "type_veh": "TV"
         },
         {
          "id_comptag": "19-A20-229+500",
          "jour": "2019-09-16T00:00:00",
          "nb_veh": 12510,
          "sens": "sens1",
          "type_veh": "TV"
         },
         {
          "id_comptag": "19-A20-229+500",
          "jour": "2019-09-17T00:00:00",
          "nb_veh": 11690,
          "sens": "sens1",
          "type_veh": "TV"
         },
         {
          "id_comptag": "19-A20-229+500",
          "jour": "2019-09-18T00:00:00",
          "nb_veh": 11692,
          "sens": "sens1",
          "type_veh": "TV"
         },
         {
          "id_comptag": "19-A20-229+500",
          "jour": "2019-09-19T00:00:00",
          "nb_veh": 12692,
          "sens": "sens1",
          "type_veh": "TV"
         },
         {
          "id_comptag": "19-A20-229+500",
          "jour": "2019-09-20T00:00:00",
          "nb_veh": 16183,
          "sens": "sens1",
          "type_veh": "TV"
         },
         {
          "id_comptag": "19-A20-229+500",
          "jour": "2019-09-21T00:00:00",
          "nb_veh": 11335,
          "sens": "sens1",
          "type_veh": "TV"
         },
         {
          "id_comptag": "19-A20-229+500",
          "jour": "2019-09-22T00:00:00",
          "nb_veh": 11202,
          "sens": "sens1",
          "type_veh": "TV"
         },
         {
          "id_comptag": "19-A20-229+500",
          "jour": "2019-09-23T00:00:00",
          "nb_veh": 12131,
          "sens": "sens1",
          "type_veh": "TV"
         },
         {
          "id_comptag": "19-A20-229+500",
          "jour": "2019-09-24T00:00:00",
          "nb_veh": 11088,
          "sens": "sens1",
          "type_veh": "TV"
         },
         {
          "id_comptag": "19-A20-229+500",
          "jour": "2019-09-25T00:00:00",
          "nb_veh": 11123,
          "sens": "sens1",
          "type_veh": "TV"
         },
         {
          "id_comptag": "19-A20-229+500",
          "jour": "2019-09-26T00:00:00",
          "nb_veh": 12435,
          "sens": "sens1",
          "type_veh": "TV"
         },
         {
          "id_comptag": "19-A20-229+500",
          "jour": "2019-09-27T00:00:00",
          "nb_veh": 16053,
          "sens": "sens1",
          "type_veh": "TV"
         },
         {
          "id_comptag": "19-A20-229+500",
          "jour": "2019-09-28T00:00:00",
          "nb_veh": 10731,
          "sens": "sens1",
          "type_veh": "TV"
         },
         {
          "id_comptag": "19-A20-229+500",
          "jour": "2019-09-29T00:00:00",
          "nb_veh": 11154,
          "sens": "sens1",
          "type_veh": "TV"
         },
         {
          "id_comptag": "19-A20-229+500",
          "jour": "2019-09-30T00:00:00",
          "nb_veh": 11323,
          "sens": "sens1",
          "type_veh": "TV"
         },
         {
          "id_comptag": "19-A20-229+500",
          "jour": "2019-09-01T00:00:00",
          "nb_veh": 18652,
          "sens": "sens2",
          "type_veh": "TV"
         },
         {
          "id_comptag": "19-A20-229+500",
          "jour": "2019-09-02T00:00:00",
          "nb_veh": 14276,
          "sens": "sens2",
          "type_veh": "TV"
         },
         {
          "id_comptag": "19-A20-229+500",
          "jour": "2019-09-03T00:00:00",
          "nb_veh": 12268,
          "sens": "sens2",
          "type_veh": "TV"
         },
         {
          "id_comptag": "19-A20-229+500",
          "jour": "2019-09-04T00:00:00",
          "nb_veh": 12023,
          "sens": "sens2",
          "type_veh": "TV"
         },
         {
          "id_comptag": "19-A20-229+500",
          "jour": "2019-09-05T00:00:00",
          "nb_veh": 13072,
          "sens": "sens2",
          "type_veh": "TV"
         },
         {
          "id_comptag": "19-A20-229+500",
          "jour": "2019-09-06T00:00:00",
          "nb_veh": 15656,
          "sens": "sens2",
          "type_veh": "TV"
         },
         {
          "id_comptag": "19-A20-229+500",
          "jour": "2019-09-07T00:00:00",
          "nb_veh": 11737,
          "sens": "sens2",
          "type_veh": "TV"
         },
         {
          "id_comptag": "19-A20-229+500",
          "jour": "2019-09-08T00:00:00",
          "nb_veh": 15391,
          "sens": "sens2",
          "type_veh": "TV"
         },
         {
          "id_comptag": "19-A20-229+500",
          "jour": "2019-09-09T00:00:00",
          "nb_veh": 13477,
          "sens": "sens2",
          "type_veh": "TV"
         },
         {
          "id_comptag": "19-A20-229+500",
          "jour": "2019-09-10T00:00:00",
          "nb_veh": 12111,
          "sens": "sens2",
          "type_veh": "TV"
         },
         {
          "id_comptag": "19-A20-229+500",
          "jour": "2019-09-11T00:00:00",
          "nb_veh": 12023,
          "sens": "sens2",
          "type_veh": "TV"
         },
         {
          "id_comptag": "19-A20-229+500",
          "jour": "2019-09-12T00:00:00",
          "nb_veh": 12436,
          "sens": "sens2",
          "type_veh": "TV"
         },
         {
          "id_comptag": "19-A20-229+500",
          "jour": "2019-09-13T00:00:00",
          "nb_veh": 15832,
          "sens": "sens2",
          "type_veh": "TV"
         },
         {
          "id_comptag": "19-A20-229+500",
          "jour": "2019-09-14T00:00:00",
          "nb_veh": 14646,
          "sens": "sens2",
          "type_veh": "TV"
         },
         {
          "id_comptag": "19-A20-229+500",
          "jour": "2019-09-15T00:00:00",
          "nb_veh": 16211,
          "sens": "sens2",
          "type_veh": "TV"
         },
         {
          "id_comptag": "19-A20-229+500",
          "jour": "2019-09-16T00:00:00",
          "nb_veh": 13784,
          "sens": "sens2",
          "type_veh": "TV"
         },
         {
          "id_comptag": "19-A20-229+500",
          "jour": "2019-09-17T00:00:00",
          "nb_veh": 11944,
          "sens": "sens2",
          "type_veh": "TV"
         },
         {
          "id_comptag": "19-A20-229+500",
          "jour": "2019-09-18T00:00:00",
          "nb_veh": 12052,
          "sens": "sens2",
          "type_veh": "TV"
         },
         {
          "id_comptag": "19-A20-229+500",
          "jour": "2019-09-19T00:00:00",
          "nb_veh": 12860,
          "sens": "sens2",
          "type_veh": "TV"
         },
         {
          "id_comptag": "19-A20-229+500",
          "jour": "2019-09-20T00:00:00",
          "nb_veh": 15602,
          "sens": "sens2",
          "type_veh": "TV"
         },
         {
          "id_comptag": "19-A20-229+500",
          "jour": "2019-09-21T00:00:00",
          "nb_veh": 13139,
          "sens": "sens2",
          "type_veh": "TV"
         },
         {
          "id_comptag": "19-A20-229+500",
          "jour": "2019-09-22T00:00:00",
          "nb_veh": 14939,
          "sens": "sens2",
          "type_veh": "TV"
         },
         {
          "id_comptag": "19-A20-229+500",
          "jour": "2019-09-23T00:00:00",
          "nb_veh": 13498,
          "sens": "sens2",
          "type_veh": "TV"
         },
         {
          "id_comptag": "19-A20-229+500",
          "jour": "2019-09-24T00:00:00",
          "nb_veh": 11666,
          "sens": "sens2",
          "type_veh": "TV"
         },
         {
          "id_comptag": "19-A20-229+500",
          "jour": "2019-09-25T00:00:00",
          "nb_veh": 11434,
          "sens": "sens2",
          "type_veh": "TV"
         },
         {
          "id_comptag": "19-A20-229+500",
          "jour": "2019-09-26T00:00:00",
          "nb_veh": 12260,
          "sens": "sens2",
          "type_veh": "TV"
         },
         {
          "id_comptag": "19-A20-229+500",
          "jour": "2019-09-27T00:00:00",
          "nb_veh": 15152,
          "sens": "sens2",
          "type_veh": "TV"
         },
         {
          "id_comptag": "19-A20-229+500",
          "jour": "2019-09-28T00:00:00",
          "nb_veh": 11366,
          "sens": "sens2",
          "type_veh": "TV"
         },
         {
          "id_comptag": "19-A20-229+500",
          "jour": "2019-09-29T00:00:00",
          "nb_veh": 14769,
          "sens": "sens2",
          "type_veh": "TV"
         },
         {
          "id_comptag": "19-A20-229+500",
          "jour": "2019-09-30T00:00:00",
          "nb_veh": 12955,
          "sens": "sens2",
          "type_veh": "TV"
         }
        ]
       },
       "encoding": {
        "color": {
         "field": "sens",
         "type": "nominal"
        },
        "x": {
         "field": "jour",
         "type": "temporal"
        },
        "y": {
         "field": "nb_veh",
         "type": "quantitative"
        }
       },
       "mark": "line"
      },
      "image/png": "[encoded data removed]",
      "text/plain": [
       "<VegaLite 3 object>\n",
       "\n",
       "If you see this message, it means the renderer has not been properly enabled\n",
       "for the frontend that you are using. For more information, see\n",
       "https://altair-viz.github.io/user_guide/troubleshooting.html\n"
      ]
     },
     "execution_count": 11,
     "metadata": {},
     "output_type": "execute_result"
    }
   ],
   "source": [
    "dh.graph2SensParJour(dicoCptok['19-A20-229+500'])"
   ]
  },
  {
   "cell_type": "markdown",
   "metadata": {},
   "source": [
    "<a id=\"2\" ></a>\n",
    "# ***2. ANALYSE GENERALE OTV***"
   ]
  },
  {
   "cell_type": "markdown",
   "metadata": {},
   "source": [
    "<a id=\"2.1\" ></a>\n",
    "> ## ***2.1. Analyse du type d'année distincte de comptage en fonction du type de poste***"
   ]
  },
  {
   "cell_type": "code",
   "execution_count": 3,
   "metadata": {},
   "outputs": [],
   "source": [
    "with ct.ConnexionBdd('local_otv_boulot') as c:\n",
    "    rqt=\"select * from qualite.vue_represent_cpt_annee_before\"\n",
    "    df=pd.read_sql(rqt,c.sqlAlchemyConn)\n",
    "grp=df.groupby(['tiertile', 'type_poste']).id_comptag.count().reset_index()"
   ]
  },
  {
   "cell_type": "code",
   "execution_count": 4,
   "metadata": {},
   "outputs": [
    {
     "data": {
      "text/html": [
       "\n",
       "<div id=\"altair-viz-c0295b83cff64b56806460f16d76bbef\"></div>\n",
       "<script type=\"text/javascript\">\n",
       "  (function(spec, embedOpt){\n",
       "    let outputDiv = document.currentScript.previousElementSibling;\n",
       "    if (outputDiv.id !== \"altair-viz-c0295b83cff64b56806460f16d76bbef\") {\n",
       "      outputDiv = document.getElementById(\"altair-viz-c0295b83cff64b56806460f16d76bbef\");\n",
       "    }\n",
       "    const paths = {\n",
       "      \"vega\": \"https://cdn.jsdelivr.net/npm//vega@5?noext\",\n",
       "      \"vega-lib\": \"https://cdn.jsdelivr.net/npm//vega-lib?noext\",\n",
       "      \"vega-lite\": \"https://cdn.jsdelivr.net/npm//vega-lite@4.8.1?noext\",\n",
       "      \"vega-embed\": \"https://cdn.jsdelivr.net/npm//vega-embed@6?noext\",\n",
       "    };\n",
       "\n",
       "    function loadScript(lib) {\n",
       "      return new Promise(function(resolve, reject) {\n",
       "        var s = document.createElement('script');\n",
       "        s.src = paths[lib];\n",
       "        s.async = true;\n",
       "        s.onload = () => resolve(paths[lib]);\n",
       "        s.onerror = () => reject(`Error loading script: ${paths[lib]}`);\n",
       "        document.getElementsByTagName(\"head\")[0].appendChild(s);\n",
       "      });\n",
       "    }\n",
       "\n",
       "    function showError(err) {\n",
       "      outputDiv.innerHTML = `<div class=\"error\" style=\"color:red;\">${err}</div>`;\n",
       "      throw err;\n",
       "    }\n",
       "\n",
       "    function displayChart(vegaEmbed) {\n",
       "      vegaEmbed(outputDiv, spec, embedOpt)\n",
       "        .catch(err => showError(`Javascript Error: ${err.message}<br>This usually means there's a typo in your chart specification. See the javascript console for the full traceback.`));\n",
       "    }\n",
       "\n",
       "    if(typeof define === \"function\" && define.amd) {\n",
       "      requirejs.config({paths});\n",
       "      require([\"vega-embed\"], displayChart, err => showError(`Error loading script: ${err.message}`));\n",
       "    } else if (typeof vegaEmbed === \"function\") {\n",
       "      displayChart(vegaEmbed);\n",
       "    } else {\n",
       "      loadScript(\"vega\")\n",
       "        .then(() => loadScript(\"vega-lite\"))\n",
       "        .then(() => loadScript(\"vega-embed\"))\n",
       "        .catch(showError)\n",
       "        .then(() => displayChart(vegaEmbed));\n",
       "    }\n",
       "  })({\"config\": {\"view\": {\"continuousWidth\": 400, \"continuousHeight\": 300}}, \"hconcat\": [{\"mark\": \"bar\", \"encoding\": {\"color\": {\"type\": \"nominal\", \"field\": \"type_poste\"}, \"x\": {\"type\": \"ordinal\", \"field\": \"tiertile\"}, \"y\": {\"type\": \"quantitative\", \"axis\": {\"title\": \"Nb de comptage\"}, \"field\": \"id_comptag\", \"stack\": \"normalize\"}}, \"title\": \"r\\u00e9partitipon des comptage par type\"}, {\"mark\": \"bar\", \"encoding\": {\"color\": {\"type\": \"nominal\", \"field\": \"type_poste\"}, \"x\": {\"type\": \"ordinal\", \"field\": \"tiertile\"}, \"y\": {\"type\": \"quantitative\", \"axis\": {\"title\": \"Nb de comptage\"}, \"field\": \"id_comptag\"}}}], \"data\": {\"name\": \"data-3f0286ef5f17c819f0452bb555a7d435\"}, \"$schema\": \"https://vega.github.io/schema/vega-lite/v4.8.1.json\", \"datasets\": {\"data-3f0286ef5f17c819f0452bb555a7d435\": [{\"tiertile\": 1, \"type_poste\": \"permanent\", \"id_comptag\": 432}, {\"tiertile\": 1, \"type_poste\": \"ponctuel\", \"id_comptag\": 5743}, {\"tiertile\": 1, \"type_poste\": \"tournant\", \"id_comptag\": 2520}, {\"tiertile\": 2, \"type_poste\": \"permanent\", \"id_comptag\": 672}, {\"tiertile\": 2, \"type_poste\": \"ponctuel\", \"id_comptag\": 111}, {\"tiertile\": 2, \"type_poste\": \"tournant\", \"id_comptag\": 776}, {\"tiertile\": 3, \"type_poste\": \"permanent\", \"id_comptag\": 308}, {\"tiertile\": 3, \"type_poste\": \"ponctuel\", \"id_comptag\": 33}, {\"tiertile\": 3, \"type_poste\": \"tournant\", \"id_comptag\": 88}]}}, {\"mode\": \"vega-lite\"});\n",
       "</script>"
      ],
      "text/plain": [
       "alt.HConcatChart(...)"
      ]
     },
     "execution_count": 4,
     "metadata": {},
     "output_type": "execute_result"
    }
   ],
   "source": [
    "g1=alt.Chart(grp, title='répartitipon des comptage par type').mark_bar().encode(\n",
    "    x='tiertile:O', \n",
    "    y=alt.Y('id_comptag:Q', stack='normalize', axis=alt.Axis(title='Nb de comptage')), \n",
    "    color='type_poste:N')\n",
    "g2=alt.Chart(grp).mark_bar().encode(\n",
    "    x='tiertile:O', \n",
    "    y=alt.Y('id_comptag:Q', axis=alt.Axis(title='Nb de comptage')), \n",
    "    color='type_poste:N')\n",
    "g1 | g2"
   ]
  },
  {
   "cell_type": "code",
   "execution_count": 5,
   "metadata": {},
   "outputs": [
    {
     "data": {
      "text/html": [
       "\n",
       "<div id=\"altair-viz-90ab759cd18f4791ac473f4011511c89\"></div>\n",
       "<script type=\"text/javascript\">\n",
       "  (function(spec, embedOpt){\n",
       "    let outputDiv = document.currentScript.previousElementSibling;\n",
       "    if (outputDiv.id !== \"altair-viz-90ab759cd18f4791ac473f4011511c89\") {\n",
       "      outputDiv = document.getElementById(\"altair-viz-90ab759cd18f4791ac473f4011511c89\");\n",
       "    }\n",
       "    const paths = {\n",
       "      \"vega\": \"https://cdn.jsdelivr.net/npm//vega@5?noext\",\n",
       "      \"vega-lib\": \"https://cdn.jsdelivr.net/npm//vega-lib?noext\",\n",
       "      \"vega-lite\": \"https://cdn.jsdelivr.net/npm//vega-lite@4.8.1?noext\",\n",
       "      \"vega-embed\": \"https://cdn.jsdelivr.net/npm//vega-embed@6?noext\",\n",
       "    };\n",
       "\n",
       "    function loadScript(lib) {\n",
       "      return new Promise(function(resolve, reject) {\n",
       "        var s = document.createElement('script');\n",
       "        s.src = paths[lib];\n",
       "        s.async = true;\n",
       "        s.onload = () => resolve(paths[lib]);\n",
       "        s.onerror = () => reject(`Error loading script: ${paths[lib]}`);\n",
       "        document.getElementsByTagName(\"head\")[0].appendChild(s);\n",
       "      });\n",
       "    }\n",
       "\n",
       "    function showError(err) {\n",
       "      outputDiv.innerHTML = `<div class=\"error\" style=\"color:red;\">${err}</div>`;\n",
       "      throw err;\n",
       "    }\n",
       "\n",
       "    function displayChart(vegaEmbed) {\n",
       "      vegaEmbed(outputDiv, spec, embedOpt)\n",
       "        .catch(err => showError(`Javascript Error: ${err.message}<br>This usually means there's a typo in your chart specification. See the javascript console for the full traceback.`));\n",
       "    }\n",
       "\n",
       "    if(typeof define === \"function\" && define.amd) {\n",
       "      requirejs.config({paths});\n",
       "      require([\"vega-embed\"], displayChart, err => showError(`Error loading script: ${err.message}`));\n",
       "    } else if (typeof vegaEmbed === \"function\") {\n",
       "      displayChart(vegaEmbed);\n",
       "    } else {\n",
       "      loadScript(\"vega\")\n",
       "        .then(() => loadScript(\"vega-lite\"))\n",
       "        .then(() => loadScript(\"vega-embed\"))\n",
       "        .catch(showError)\n",
       "        .then(() => displayChart(vegaEmbed));\n",
       "    }\n",
       "  })({\"config\": {\"view\": {\"continuousWidth\": 400, \"continuousHeight\": 300}}, \"hconcat\": [{\"mark\": \"bar\", \"encoding\": {\"color\": {\"type\": \"nominal\", \"field\": \"tiertile\"}, \"x\": {\"type\": \"nominal\", \"field\": \"type_poste\"}, \"y\": {\"type\": \"quantitative\", \"axis\": {\"title\": \"Nb de comptage\"}, \"field\": \"id_comptag\", \"stack\": \"normalize\"}}, \"title\": \"r\\u00e9partitipon des comptage par type\"}, {\"mark\": \"bar\", \"encoding\": {\"color\": {\"type\": \"nominal\", \"field\": \"tiertile\"}, \"x\": {\"type\": \"nominal\", \"field\": \"type_poste\"}, \"y\": {\"type\": \"quantitative\", \"axis\": {\"title\": \"Nb de comptage\"}, \"field\": \"id_comptag\"}}}], \"data\": {\"name\": \"data-3f0286ef5f17c819f0452bb555a7d435\"}, \"$schema\": \"https://vega.github.io/schema/vega-lite/v4.8.1.json\", \"datasets\": {\"data-3f0286ef5f17c819f0452bb555a7d435\": [{\"tiertile\": 1, \"type_poste\": \"permanent\", \"id_comptag\": 432}, {\"tiertile\": 1, \"type_poste\": \"ponctuel\", \"id_comptag\": 5743}, {\"tiertile\": 1, \"type_poste\": \"tournant\", \"id_comptag\": 2520}, {\"tiertile\": 2, \"type_poste\": \"permanent\", \"id_comptag\": 672}, {\"tiertile\": 2, \"type_poste\": \"ponctuel\", \"id_comptag\": 111}, {\"tiertile\": 2, \"type_poste\": \"tournant\", \"id_comptag\": 776}, {\"tiertile\": 3, \"type_poste\": \"permanent\", \"id_comptag\": 308}, {\"tiertile\": 3, \"type_poste\": \"ponctuel\", \"id_comptag\": 33}, {\"tiertile\": 3, \"type_poste\": \"tournant\", \"id_comptag\": 88}]}}, {\"mode\": \"vega-lite\"});\n",
       "</script>"
      ],
      "text/plain": [
       "alt.HConcatChart(...)"
      ]
     },
     "execution_count": 5,
     "metadata": {},
     "output_type": "execute_result"
    }
   ],
   "source": [
    "g3=alt.Chart(grp, title='répartitipon des comptage par type').mark_bar().encode(\n",
    "    x='type_poste:N', \n",
    "    y=alt.Y('id_comptag:Q', stack='normalize', axis=alt.Axis(title='Nb de comptage')), \n",
    "    color='tiertile:N')\n",
    "g4=alt.Chart(grp).mark_bar().encode(\n",
    "    x='type_poste:N', \n",
    "    y=alt.Y('id_comptag:Q', axis=alt.Axis(title='Nb de comptage')), \n",
    "    color='tiertile:N')\n",
    "g3 | g4"
   ]
  },
  {
   "cell_type": "code",
   "execution_count": 7,
   "metadata": {},
   "outputs": [],
   "source": [
    "with ct.ConnexionBdd('local_otv_boulot') as c:\n",
    "    rqt=\"select * from qualite.vue_represent_globale\"\n",
    "    df=pd.read_sql(rqt,c.sqlAlchemyConn)\n",
    "grp_global=df.groupby(['note_represent_globale', 'type_poste']).id.count().reset_index().merge(\n",
    "                      pd.DataFrame({'txt_note':['non representatif', 'faible', 'moyenne', 'bonne'],\n",
    "                                     'num_note':[0,1,3,6]}), left_on='note_represent_globale',\n",
    "                      right_on='num_note')"
   ]
  },
  {
   "cell_type": "code",
   "execution_count": 8,
   "metadata": {},
   "outputs": [
    {
     "data": {
      "text/html": [
       "\n",
       "<div id=\"altair-viz-8d6d10e6a1f342639beb1dd67559e792\"></div>\n",
       "<script type=\"text/javascript\">\n",
       "  (function(spec, embedOpt){\n",
       "    let outputDiv = document.currentScript.previousElementSibling;\n",
       "    if (outputDiv.id !== \"altair-viz-8d6d10e6a1f342639beb1dd67559e792\") {\n",
       "      outputDiv = document.getElementById(\"altair-viz-8d6d10e6a1f342639beb1dd67559e792\");\n",
       "    }\n",
       "    const paths = {\n",
       "      \"vega\": \"https://cdn.jsdelivr.net/npm//vega@5?noext\",\n",
       "      \"vega-lib\": \"https://cdn.jsdelivr.net/npm//vega-lib?noext\",\n",
       "      \"vega-lite\": \"https://cdn.jsdelivr.net/npm//vega-lite@4.8.1?noext\",\n",
       "      \"vega-embed\": \"https://cdn.jsdelivr.net/npm//vega-embed@6?noext\",\n",
       "    };\n",
       "\n",
       "    function loadScript(lib) {\n",
       "      return new Promise(function(resolve, reject) {\n",
       "        var s = document.createElement('script');\n",
       "        s.src = paths[lib];\n",
       "        s.async = true;\n",
       "        s.onload = () => resolve(paths[lib]);\n",
       "        s.onerror = () => reject(`Error loading script: ${paths[lib]}`);\n",
       "        document.getElementsByTagName(\"head\")[0].appendChild(s);\n",
       "      });\n",
       "    }\n",
       "\n",
       "    function showError(err) {\n",
       "      outputDiv.innerHTML = `<div class=\"error\" style=\"color:red;\">${err}</div>`;\n",
       "      throw err;\n",
       "    }\n",
       "\n",
       "    function displayChart(vegaEmbed) {\n",
       "      vegaEmbed(outputDiv, spec, embedOpt)\n",
       "        .catch(err => showError(`Javascript Error: ${err.message}<br>This usually means there's a typo in your chart specification. See the javascript console for the full traceback.`));\n",
       "    }\n",
       "\n",
       "    if(typeof define === \"function\" && define.amd) {\n",
       "      requirejs.config({paths});\n",
       "      require([\"vega-embed\"], displayChart, err => showError(`Error loading script: ${err.message}`));\n",
       "    } else if (typeof vegaEmbed === \"function\") {\n",
       "      displayChart(vegaEmbed);\n",
       "    } else {\n",
       "      loadScript(\"vega\")\n",
       "        .then(() => loadScript(\"vega-lite\"))\n",
       "        .then(() => loadScript(\"vega-embed\"))\n",
       "        .catch(showError)\n",
       "        .then(() => displayChart(vegaEmbed));\n",
       "    }\n",
       "  })({\"config\": {\"view\": {\"continuousWidth\": 400, \"continuousHeight\": 300}}, \"data\": {\"name\": \"data-67abf8c32648ef1bcd182f0374f93c63\"}, \"mark\": {\"type\": \"bar\", \"width\": 40}, \"encoding\": {\"color\": {\"type\": \"nominal\", \"field\": \"type_poste\"}, \"x\": {\"type\": \"nominal\", \"axis\": {\"labelAngle\": 315, \"title\": \"Repr\\u00e9sentativit\\u00e9\"}, \"field\": \"txt_note\", \"sort\": [\"note_represent_globale\"]}, \"y\": {\"type\": \"quantitative\", \"axis\": {\"title\": \"Nb de comptage\"}, \"field\": \"id\"}}, \"title\": [\"R\\u00e9partition des comptages selon la repr\\u00e9sentativit\\u00e9 globale\", \"et le type de poste\"], \"width\": 300, \"$schema\": \"https://vega.github.io/schema/vega-lite/v4.8.1.json\", \"datasets\": {\"data-67abf8c32648ef1bcd182f0374f93c63\": [{\"note_represent_globale\": 0, \"type_poste\": \"permanent\", \"id\": 3, \"txt_note\": \"non representatif\", \"num_note\": 0}, {\"note_represent_globale\": 0, \"type_poste\": \"ponctuel\", \"id\": 103, \"txt_note\": \"non representatif\", \"num_note\": 0}, {\"note_represent_globale\": 0, \"type_poste\": \"tournant\", \"id\": 7, \"txt_note\": \"non representatif\", \"num_note\": 0}, {\"note_represent_globale\": 1, \"type_poste\": \"permanent\", \"id\": 12, \"txt_note\": \"faible\", \"num_note\": 1}, {\"note_represent_globale\": 1, \"type_poste\": \"ponctuel\", \"id\": 4697, \"txt_note\": \"faible\", \"num_note\": 1}, {\"note_represent_globale\": 1, \"type_poste\": \"tournant\", \"id\": 432, \"txt_note\": \"faible\", \"num_note\": 1}, {\"note_represent_globale\": 3, \"type_poste\": \"permanent\", \"id\": 2013, \"txt_note\": \"moyenne\", \"num_note\": 3}, {\"note_represent_globale\": 3, \"type_poste\": \"ponctuel\", \"id\": 2982, \"txt_note\": \"moyenne\", \"num_note\": 3}, {\"note_represent_globale\": 3, \"type_poste\": \"tournant\", \"id\": 9600, \"txt_note\": \"moyenne\", \"num_note\": 3}, {\"note_represent_globale\": 6, \"type_poste\": \"permanent\", \"id\": 6023, \"txt_note\": \"bonne\", \"num_note\": 6}, {\"note_represent_globale\": 6, \"type_poste\": \"ponctuel\", \"id\": 77, \"txt_note\": \"bonne\", \"num_note\": 6}, {\"note_represent_globale\": 6, \"type_poste\": \"tournant\", \"id\": 652, \"txt_note\": \"bonne\", \"num_note\": 6}]}}, {\"mode\": \"vega-lite\"});\n",
       "</script>"
      ],
      "text/plain": [
       "alt.Chart(...)"
      ]
     },
     "execution_count": 8,
     "metadata": {},
     "output_type": "execute_result"
    }
   ],
   "source": [
    "alt.Chart(grp_global, title=['Répartition des comptages selon la représentativité globale','et le type de poste'], width=300).mark_bar(width=40).encode(\n",
    "    x=alt.X('txt_note:N', sort=['note_represent_globale'], axis=alt.Axis(title='Représentativité', labelAngle=315)), \n",
    "    y=alt.Y('id:Q',axis=alt.Axis(title='Nb de comptage')),\n",
    "    color='type_poste')"
   ]
  },
  {
   "cell_type": "code",
   "execution_count": 9,
   "metadata": {},
   "outputs": [
    {
     "data": {
      "text/html": [
       "\n",
       "<div id=\"altair-viz-a15d2b2e043941cdadf6b4dd3441471a\"></div>\n",
       "<script type=\"text/javascript\">\n",
       "  (function(spec, embedOpt){\n",
       "    let outputDiv = document.currentScript.previousElementSibling;\n",
       "    if (outputDiv.id !== \"altair-viz-a15d2b2e043941cdadf6b4dd3441471a\") {\n",
       "      outputDiv = document.getElementById(\"altair-viz-a15d2b2e043941cdadf6b4dd3441471a\");\n",
       "    }\n",
       "    const paths = {\n",
       "      \"vega\": \"https://cdn.jsdelivr.net/npm//vega@5?noext\",\n",
       "      \"vega-lib\": \"https://cdn.jsdelivr.net/npm//vega-lib?noext\",\n",
       "      \"vega-lite\": \"https://cdn.jsdelivr.net/npm//vega-lite@4.8.1?noext\",\n",
       "      \"vega-embed\": \"https://cdn.jsdelivr.net/npm//vega-embed@6?noext\",\n",
       "    };\n",
       "\n",
       "    function loadScript(lib) {\n",
       "      return new Promise(function(resolve, reject) {\n",
       "        var s = document.createElement('script');\n",
       "        s.src = paths[lib];\n",
       "        s.async = true;\n",
       "        s.onload = () => resolve(paths[lib]);\n",
       "        s.onerror = () => reject(`Error loading script: ${paths[lib]}`);\n",
       "        document.getElementsByTagName(\"head\")[0].appendChild(s);\n",
       "      });\n",
       "    }\n",
       "\n",
       "    function showError(err) {\n",
       "      outputDiv.innerHTML = `<div class=\"error\" style=\"color:red;\">${err}</div>`;\n",
       "      throw err;\n",
       "    }\n",
       "\n",
       "    function displayChart(vegaEmbed) {\n",
       "      vegaEmbed(outputDiv, spec, embedOpt)\n",
       "        .catch(err => showError(`Javascript Error: ${err.message}<br>This usually means there's a typo in your chart specification. See the javascript console for the full traceback.`));\n",
       "    }\n",
       "\n",
       "    if(typeof define === \"function\" && define.amd) {\n",
       "      requirejs.config({paths});\n",
       "      require([\"vega-embed\"], displayChart, err => showError(`Error loading script: ${err.message}`));\n",
       "    } else if (typeof vegaEmbed === \"function\") {\n",
       "      displayChart(vegaEmbed);\n",
       "    } else {\n",
       "      loadScript(\"vega\")\n",
       "        .then(() => loadScript(\"vega-lite\"))\n",
       "        .then(() => loadScript(\"vega-embed\"))\n",
       "        .catch(showError)\n",
       "        .then(() => displayChart(vegaEmbed));\n",
       "    }\n",
       "  })({\"config\": {\"view\": {\"continuousWidth\": 400, \"continuousHeight\": 300}}, \"data\": {\"name\": \"data-59c11463f392abf6486978e30c07b176\"}, \"mark\": {\"type\": \"bar\", \"width\": 40}, \"encoding\": {\"color\": {\"type\": \"nominal\", \"field\": \"txt_note\", \"legend\": {\"title\": \"Repr\\u00e9sentativit\\u00e9\"}}, \"x\": {\"type\": \"quantitative\", \"axis\": {\"labelColor\": \"white\", \"title\": null}, \"field\": \"cst\"}, \"y\": {\"type\": \"quantitative\", \"axis\": {\"title\": \"Nb de comptage\"}, \"field\": \"id\", \"stack\": \"normalize\"}}, \"title\": [\"R\\u00e9partition des comptages selon la repr\\u00e9sentativit\\u00e9 globale\"], \"width\": 300, \"$schema\": \"https://vega.github.io/schema/vega-lite/v4.8.1.json\", \"datasets\": {\"data-59c11463f392abf6486978e30c07b176\": [{\"note_represent_globale\": 0, \"type_poste\": \"permanent\", \"id\": 3, \"txt_note\": \"non representatif\", \"num_note\": 0, \"cst\": 1}, {\"note_represent_globale\": 0, \"type_poste\": \"ponctuel\", \"id\": 103, \"txt_note\": \"non representatif\", \"num_note\": 0, \"cst\": 1}, {\"note_represent_globale\": 0, \"type_poste\": \"tournant\", \"id\": 7, \"txt_note\": \"non representatif\", \"num_note\": 0, \"cst\": 1}, {\"note_represent_globale\": 1, \"type_poste\": \"permanent\", \"id\": 12, \"txt_note\": \"faible\", \"num_note\": 1, \"cst\": 1}, {\"note_represent_globale\": 1, \"type_poste\": \"ponctuel\", \"id\": 4697, \"txt_note\": \"faible\", \"num_note\": 1, \"cst\": 1}, {\"note_represent_globale\": 1, \"type_poste\": \"tournant\", \"id\": 432, \"txt_note\": \"faible\", \"num_note\": 1, \"cst\": 1}, {\"note_represent_globale\": 3, \"type_poste\": \"permanent\", \"id\": 2013, \"txt_note\": \"moyenne\", \"num_note\": 3, \"cst\": 1}, {\"note_represent_globale\": 3, \"type_poste\": \"ponctuel\", \"id\": 2982, \"txt_note\": \"moyenne\", \"num_note\": 3, \"cst\": 1}, {\"note_represent_globale\": 3, \"type_poste\": \"tournant\", \"id\": 9600, \"txt_note\": \"moyenne\", \"num_note\": 3, \"cst\": 1}, {\"note_represent_globale\": 6, \"type_poste\": \"permanent\", \"id\": 6023, \"txt_note\": \"bonne\", \"num_note\": 6, \"cst\": 1}, {\"note_represent_globale\": 6, \"type_poste\": \"ponctuel\", \"id\": 77, \"txt_note\": \"bonne\", \"num_note\": 6, \"cst\": 1}, {\"note_represent_globale\": 6, \"type_poste\": \"tournant\", \"id\": 652, \"txt_note\": \"bonne\", \"num_note\": 6, \"cst\": 1}]}}, {\"mode\": \"vega-lite\"});\n",
       "</script>"
      ],
      "text/plain": [
       "alt.Chart(...)"
      ]
     },
     "execution_count": 9,
     "metadata": {},
     "output_type": "execute_result"
    }
   ],
   "source": [
    "alt.Chart(grp_global.assign(cst=1), title=['Répartition des comptages selon la représentativité globale'], width=300).mark_bar(width=40).encode(\n",
    "    x=alt.X('cst', axis=alt.Axis(title=None, labelColor='white')), \n",
    "    y=alt.Y('id:Q',axis=alt.Axis(title='Nb de comptage'), stack='normalize'),\n",
    "    color=alt.Color('txt_note:N',legend=alt.Legend(title='Représentativité')))"
   ]
  },
  {
   "cell_type": "code",
   "execution_count": 10,
   "metadata": {},
   "outputs": [
    {
     "data": {
      "text/html": [
       "\n",
       "<div id=\"altair-viz-eefcb49bd08f4be0b4a510715bf73297\"></div>\n",
       "<script type=\"text/javascript\">\n",
       "  (function(spec, embedOpt){\n",
       "    let outputDiv = document.currentScript.previousElementSibling;\n",
       "    if (outputDiv.id !== \"altair-viz-eefcb49bd08f4be0b4a510715bf73297\") {\n",
       "      outputDiv = document.getElementById(\"altair-viz-eefcb49bd08f4be0b4a510715bf73297\");\n",
       "    }\n",
       "    const paths = {\n",
       "      \"vega\": \"https://cdn.jsdelivr.net/npm//vega@5?noext\",\n",
       "      \"vega-lib\": \"https://cdn.jsdelivr.net/npm//vega-lib?noext\",\n",
       "      \"vega-lite\": \"https://cdn.jsdelivr.net/npm//vega-lite@4.8.1?noext\",\n",
       "      \"vega-embed\": \"https://cdn.jsdelivr.net/npm//vega-embed@6?noext\",\n",
       "    };\n",
       "\n",
       "    function loadScript(lib) {\n",
       "      return new Promise(function(resolve, reject) {\n",
       "        var s = document.createElement('script');\n",
       "        s.src = paths[lib];\n",
       "        s.async = true;\n",
       "        s.onload = () => resolve(paths[lib]);\n",
       "        s.onerror = () => reject(`Error loading script: ${paths[lib]}`);\n",
       "        document.getElementsByTagName(\"head\")[0].appendChild(s);\n",
       "      });\n",
       "    }\n",
       "\n",
       "    function showError(err) {\n",
       "      outputDiv.innerHTML = `<div class=\"error\" style=\"color:red;\">${err}</div>`;\n",
       "      throw err;\n",
       "    }\n",
       "\n",
       "    function displayChart(vegaEmbed) {\n",
       "      vegaEmbed(outputDiv, spec, embedOpt)\n",
       "        .catch(err => showError(`Javascript Error: ${err.message}<br>This usually means there's a typo in your chart specification. See the javascript console for the full traceback.`));\n",
       "    }\n",
       "\n",
       "    if(typeof define === \"function\" && define.amd) {\n",
       "      requirejs.config({paths});\n",
       "      require([\"vega-embed\"], displayChart, err => showError(`Error loading script: ${err.message}`));\n",
       "    } else if (typeof vegaEmbed === \"function\") {\n",
       "      displayChart(vegaEmbed);\n",
       "    } else {\n",
       "      loadScript(\"vega\")\n",
       "        .then(() => loadScript(\"vega-lite\"))\n",
       "        .then(() => loadScript(\"vega-embed\"))\n",
       "        .catch(showError)\n",
       "        .then(() => displayChart(vegaEmbed));\n",
       "    }\n",
       "  })({\"config\": {\"view\": {\"continuousWidth\": 400, \"continuousHeight\": 300}}, \"data\": {\"name\": \"data-67abf8c32648ef1bcd182f0374f93c63\"}, \"mark\": {\"type\": \"bar\", \"width\": 40}, \"encoding\": {\"color\": {\"type\": \"nominal\", \"field\": \"txt_note\", \"legend\": {\"title\": \"Repr\\u00e9sentativit\\u00e9\"}}, \"x\": {\"type\": \"nominal\", \"axis\": {\"labelAngle\": 315, \"title\": \"type de poste\"}, \"field\": \"type_poste\"}, \"y\": {\"type\": \"quantitative\", \"axis\": {\"title\": \"Nb de comptage\"}, \"field\": \"id\", \"stack\": \"normalize\"}}, \"title\": [\"R\\u00e9partition des comptages selon la repr\\u00e9sentativit\\u00e9 globale\", \"et le type de poste\"], \"width\": 300, \"$schema\": \"https://vega.github.io/schema/vega-lite/v4.8.1.json\", \"datasets\": {\"data-67abf8c32648ef1bcd182f0374f93c63\": [{\"note_represent_globale\": 0, \"type_poste\": \"permanent\", \"id\": 3, \"txt_note\": \"non representatif\", \"num_note\": 0}, {\"note_represent_globale\": 0, \"type_poste\": \"ponctuel\", \"id\": 103, \"txt_note\": \"non representatif\", \"num_note\": 0}, {\"note_represent_globale\": 0, \"type_poste\": \"tournant\", \"id\": 7, \"txt_note\": \"non representatif\", \"num_note\": 0}, {\"note_represent_globale\": 1, \"type_poste\": \"permanent\", \"id\": 12, \"txt_note\": \"faible\", \"num_note\": 1}, {\"note_represent_globale\": 1, \"type_poste\": \"ponctuel\", \"id\": 4697, \"txt_note\": \"faible\", \"num_note\": 1}, {\"note_represent_globale\": 1, \"type_poste\": \"tournant\", \"id\": 432, \"txt_note\": \"faible\", \"num_note\": 1}, {\"note_represent_globale\": 3, \"type_poste\": \"permanent\", \"id\": 2013, \"txt_note\": \"moyenne\", \"num_note\": 3}, {\"note_represent_globale\": 3, \"type_poste\": \"ponctuel\", \"id\": 2982, \"txt_note\": \"moyenne\", \"num_note\": 3}, {\"note_represent_globale\": 3, \"type_poste\": \"tournant\", \"id\": 9600, \"txt_note\": \"moyenne\", \"num_note\": 3}, {\"note_represent_globale\": 6, \"type_poste\": \"permanent\", \"id\": 6023, \"txt_note\": \"bonne\", \"num_note\": 6}, {\"note_represent_globale\": 6, \"type_poste\": \"ponctuel\", \"id\": 77, \"txt_note\": \"bonne\", \"num_note\": 6}, {\"note_represent_globale\": 6, \"type_poste\": \"tournant\", \"id\": 652, \"txt_note\": \"bonne\", \"num_note\": 6}]}}, {\"mode\": \"vega-lite\"});\n",
       "</script>"
      ],
      "text/plain": [
       "alt.Chart(...)"
      ]
     },
     "execution_count": 10,
     "metadata": {},
     "output_type": "execute_result"
    }
   ],
   "source": [
    "alt.Chart(grp_global, title=['Répartition des comptages selon la représentativité globale','et le type de poste'], width=300).mark_bar(width=40).encode(\n",
    "    x=alt.X('type_poste:N', axis=alt.Axis(title='type de poste', labelAngle=315)), \n",
    "    y=alt.Y('id:Q',axis=alt.Axis(title='Nb de comptage'), stack='normalize'),\n",
    "    color=alt.Color('txt_note:N',legend=alt.Legend(title='Représentativité')))"
   ]
  },
  {
   "cell_type": "markdown",
   "metadata": {},
   "source": [
    "<a id=\"2.2\" ></a>\n",
    "> ## 2.2 Analyse de l'exhaustivite des données"
   ]
  },
  {
   "cell_type": "code",
   "execution_count": 11,
   "metadata": {},
   "outputs": [],
   "source": [
    "with ct.ConnexionBdd('local_otv_boulot') as c:\n",
    "    rqt=\"select * from qualite.vue_exaust_globale\"\n",
    "    df=pd.read_sql(rqt,c.sqlAlchemyConn)"
   ]
  },
  {
   "cell_type": "code",
   "execution_count": 12,
   "metadata": {},
   "outputs": [],
   "source": [
    "grp=df.groupby(['note_finale_txt', 'type_poste']).id_comptag.count().reset_index().merge(pd.DataFrame({'color_index':[1,2,3], 'note_finale_txt':['faible', 'moyenne', 'bonne']}), on='note_finale_txt')"
   ]
  },
  {
   "cell_type": "code",
   "execution_count": 15,
   "metadata": {},
   "outputs": [],
   "source": [
    "chartExhaust=alt.Chart(grp, title=['Répartition des comptages selon l\\'exhaustivité globale','et le type de poste'], width=300).mark_bar(width=40).encode(\n",
    "    x=alt.X('type_poste:N', axis=alt.Axis(title='type de poste', labelAngle=315), sort=['ponctuel', 'tournant', 'permanent']), \n",
    "    y=alt.Y('id_comptag:Q',axis=alt.Axis(title='Nb de comptage'), stack='normalize'),\n",
    "    color=alt.Color('note_finale_txt:N',legend=alt.Legend(title='Représentativité'), sort=['faible', 'moyenne', 'bonne']),\n",
    "    order =alt.Order('color_index:Q', sort='ascending'))"
   ]
  },
  {
   "cell_type": "code",
   "execution_count": 16,
   "metadata": {},
   "outputs": [
    {
     "data": {
      "text/html": [
       "\n",
       "<div id=\"altair-viz-db3b672029a3412bb327301ea911f59f\"></div>\n",
       "<script type=\"text/javascript\">\n",
       "  (function(spec, embedOpt){\n",
       "    let outputDiv = document.currentScript.previousElementSibling;\n",
       "    if (outputDiv.id !== \"altair-viz-db3b672029a3412bb327301ea911f59f\") {\n",
       "      outputDiv = document.getElementById(\"altair-viz-db3b672029a3412bb327301ea911f59f\");\n",
       "    }\n",
       "    const paths = {\n",
       "      \"vega\": \"https://cdn.jsdelivr.net/npm//vega@5?noext\",\n",
       "      \"vega-lib\": \"https://cdn.jsdelivr.net/npm//vega-lib?noext\",\n",
       "      \"vega-lite\": \"https://cdn.jsdelivr.net/npm//vega-lite@4.8.1?noext\",\n",
       "      \"vega-embed\": \"https://cdn.jsdelivr.net/npm//vega-embed@6?noext\",\n",
       "    };\n",
       "\n",
       "    function loadScript(lib) {\n",
       "      return new Promise(function(resolve, reject) {\n",
       "        var s = document.createElement('script');\n",
       "        s.src = paths[lib];\n",
       "        s.async = true;\n",
       "        s.onload = () => resolve(paths[lib]);\n",
       "        s.onerror = () => reject(`Error loading script: ${paths[lib]}`);\n",
       "        document.getElementsByTagName(\"head\")[0].appendChild(s);\n",
       "      });\n",
       "    }\n",
       "\n",
       "    function showError(err) {\n",
       "      outputDiv.innerHTML = `<div class=\"error\" style=\"color:red;\">${err}</div>`;\n",
       "      throw err;\n",
       "    }\n",
       "\n",
       "    function displayChart(vegaEmbed) {\n",
       "      vegaEmbed(outputDiv, spec, embedOpt)\n",
       "        .catch(err => showError(`Javascript Error: ${err.message}<br>This usually means there's a typo in your chart specification. See the javascript console for the full traceback.`));\n",
       "    }\n",
       "\n",
       "    if(typeof define === \"function\" && define.amd) {\n",
       "      requirejs.config({paths});\n",
       "      require([\"vega-embed\"], displayChart, err => showError(`Error loading script: ${err.message}`));\n",
       "    } else if (typeof vegaEmbed === \"function\") {\n",
       "      displayChart(vegaEmbed);\n",
       "    } else {\n",
       "      loadScript(\"vega\")\n",
       "        .then(() => loadScript(\"vega-lite\"))\n",
       "        .then(() => loadScript(\"vega-embed\"))\n",
       "        .catch(showError)\n",
       "        .then(() => displayChart(vegaEmbed));\n",
       "    }\n",
       "  })({\"config\": {\"view\": {\"continuousWidth\": 400, \"continuousHeight\": 300}}, \"data\": {\"name\": \"data-a83ea1c44e662afc764f09809f9f365f\"}, \"mark\": {\"type\": \"bar\", \"width\": 40}, \"encoding\": {\"color\": {\"type\": \"nominal\", \"field\": \"note_finale_txt\", \"legend\": {\"title\": \"Repr\\u00e9sentativit\\u00e9\"}, \"sort\": [\"faible\", \"moyenne\", \"bonne\"]}, \"order\": {\"type\": \"quantitative\", \"field\": \"color_index\", \"sort\": \"ascending\"}, \"x\": {\"type\": \"nominal\", \"axis\": {\"labelAngle\": 315, \"title\": \"type de poste\"}, \"field\": \"type_poste\", \"sort\": [\"ponctuel\", \"tournant\", \"permanent\"]}, \"y\": {\"type\": \"quantitative\", \"axis\": {\"title\": \"Nb de comptage\"}, \"field\": \"id_comptag\", \"stack\": \"normalize\"}}, \"title\": [\"R\\u00e9partition des comptages selon l'exhaustivit\\u00e9 globale\", \"et le type de poste\"], \"width\": 300, \"$schema\": \"https://vega.github.io/schema/vega-lite/v4.8.1.json\", \"datasets\": {\"data-a83ea1c44e662afc764f09809f9f365f\": [{\"note_finale_txt\": \"bonne\", \"type_poste\": \"permanent\", \"id_comptag\": 822, \"color_index\": 3}, {\"note_finale_txt\": \"faible\", \"type_poste\": \"permanent\", \"id_comptag\": 1709, \"color_index\": 1}, {\"note_finale_txt\": \"faible\", \"type_poste\": \"ponctuel\", \"id_comptag\": 3916, \"color_index\": 1}, {\"note_finale_txt\": \"faible\", \"type_poste\": \"tournant\", \"id_comptag\": 2523, \"color_index\": 1}, {\"note_finale_txt\": \"moyenne\", \"type_poste\": \"permanent\", \"id_comptag\": 5520, \"color_index\": 2}, {\"note_finale_txt\": \"moyenne\", \"type_poste\": \"ponctuel\", \"id_comptag\": 3943, \"color_index\": 2}, {\"note_finale_txt\": \"moyenne\", \"type_poste\": \"tournant\", \"id_comptag\": 8168, \"color_index\": 2}]}}, {\"mode\": \"vega-lite\"});\n",
       "</script>"
      ],
      "text/plain": [
       "alt.Chart(...)"
      ]
     },
     "execution_count": 16,
     "metadata": {},
     "output_type": "execute_result"
    }
   ],
   "source": [
    "chartExhaust"
   ]
  },
  {
   "cell_type": "markdown",
   "metadata": {},
   "source": [
    "<a id=\"2.3\" ></a>\n",
    "> ## 2.2 Analyse de la cohérence des données"
   ]
  },
  {
   "cell_type": "code",
   "execution_count": 22,
   "metadata": {},
   "outputs": [],
   "source": [
    "#importer les données pour un identifiant de comptage\n",
    "cpt=vi.IdComptage('16-D1-17+0')"
   ]
  },
  {
   "cell_type": "code",
   "execution_count": 23,
   "metadata": {},
   "outputs": [
    {
     "data": {
      "text/html": [
       "<div>\n",
       "<style scoped>\n",
       "    .dataframe tbody tr th:only-of-type {\n",
       "        vertical-align: middle;\n",
       "    }\n",
       "\n",
       "    .dataframe tbody tr th {\n",
       "        vertical-align: top;\n",
       "    }\n",
       "\n",
       "    .dataframe thead th {\n",
       "        text-align: right;\n",
       "    }\n",
       "</style>\n",
       "<table border=\"1\" class=\"dataframe\">\n",
       "  <thead>\n",
       "    <tr style=\"text-align: right;\">\n",
       "      <th></th>\n",
       "      <th>id_comptag</th>\n",
       "      <th>annee</th>\n",
       "      <th>type_poste</th>\n",
       "      <th>indicateur</th>\n",
       "      <th>valeur</th>\n",
       "    </tr>\n",
       "  </thead>\n",
       "  <tbody>\n",
       "    <tr>\n",
       "      <th>0</th>\n",
       "      <td>16-D1-17+0</td>\n",
       "      <td>2011</td>\n",
       "      <td>tournant</td>\n",
       "      <td>pc_pl</td>\n",
       "      <td>6.65</td>\n",
       "    </tr>\n",
       "    <tr>\n",
       "      <th>1</th>\n",
       "      <td>16-D1-17+0</td>\n",
       "      <td>2011</td>\n",
       "      <td>tournant</td>\n",
       "      <td>tmja</td>\n",
       "      <td>1954.00</td>\n",
       "    </tr>\n",
       "    <tr>\n",
       "      <th>2</th>\n",
       "      <td>16-D1-17+0</td>\n",
       "      <td>2012</td>\n",
       "      <td>tournant</td>\n",
       "      <td>pc_pl</td>\n",
       "      <td>5.38</td>\n",
       "    </tr>\n",
       "    <tr>\n",
       "      <th>3</th>\n",
       "      <td>16-D1-17+0</td>\n",
       "      <td>2012</td>\n",
       "      <td>tournant</td>\n",
       "      <td>tmja</td>\n",
       "      <td>2033.00</td>\n",
       "    </tr>\n",
       "    <tr>\n",
       "      <th>4</th>\n",
       "      <td>16-D1-17+0</td>\n",
       "      <td>2013</td>\n",
       "      <td>tournant</td>\n",
       "      <td>pc_pl</td>\n",
       "      <td>5.51</td>\n",
       "    </tr>\n",
       "    <tr>\n",
       "      <th>5</th>\n",
       "      <td>16-D1-17+0</td>\n",
       "      <td>2013</td>\n",
       "      <td>tournant</td>\n",
       "      <td>tmja</td>\n",
       "      <td>1937.00</td>\n",
       "    </tr>\n",
       "    <tr>\n",
       "      <th>6</th>\n",
       "      <td>16-D1-17+0</td>\n",
       "      <td>2014</td>\n",
       "      <td>tournant</td>\n",
       "      <td>pc_pl</td>\n",
       "      <td>6.60</td>\n",
       "    </tr>\n",
       "    <tr>\n",
       "      <th>7</th>\n",
       "      <td>16-D1-17+0</td>\n",
       "      <td>2014</td>\n",
       "      <td>tournant</td>\n",
       "      <td>tmja</td>\n",
       "      <td>1841.00</td>\n",
       "    </tr>\n",
       "    <tr>\n",
       "      <th>8</th>\n",
       "      <td>16-D1-17+0</td>\n",
       "      <td>2016</td>\n",
       "      <td>tournant</td>\n",
       "      <td>pc_pl</td>\n",
       "      <td>5.68</td>\n",
       "    </tr>\n",
       "    <tr>\n",
       "      <th>9</th>\n",
       "      <td>16-D1-17+0</td>\n",
       "      <td>2016</td>\n",
       "      <td>tournant</td>\n",
       "      <td>tmja</td>\n",
       "      <td>2277.00</td>\n",
       "    </tr>\n",
       "    <tr>\n",
       "      <th>10</th>\n",
       "      <td>16-D1-17+0</td>\n",
       "      <td>2018</td>\n",
       "      <td>tournant</td>\n",
       "      <td>pc_pl</td>\n",
       "      <td>3.84</td>\n",
       "    </tr>\n",
       "    <tr>\n",
       "      <th>11</th>\n",
       "      <td>16-D1-17+0</td>\n",
       "      <td>2018</td>\n",
       "      <td>tournant</td>\n",
       "      <td>tmja</td>\n",
       "      <td>2125.00</td>\n",
       "    </tr>\n",
       "  </tbody>\n",
       "</table>\n",
       "</div>"
      ],
      "text/plain": [
       "    id_comptag annee type_poste indicateur   valeur\n",
       "0   16-D1-17+0  2011   tournant      pc_pl     6.65\n",
       "1   16-D1-17+0  2011   tournant       tmja  1954.00\n",
       "2   16-D1-17+0  2012   tournant      pc_pl     5.38\n",
       "3   16-D1-17+0  2012   tournant       tmja  2033.00\n",
       "4   16-D1-17+0  2013   tournant      pc_pl     5.51\n",
       "5   16-D1-17+0  2013   tournant       tmja  1937.00\n",
       "6   16-D1-17+0  2014   tournant      pc_pl     6.60\n",
       "7   16-D1-17+0  2014   tournant       tmja  1841.00\n",
       "8   16-D1-17+0  2016   tournant      pc_pl     5.68\n",
       "9   16-D1-17+0  2016   tournant       tmja  2277.00\n",
       "10  16-D1-17+0  2018   tournant      pc_pl     3.84\n",
       "11  16-D1-17+0  2018   tournant       tmja  2125.00"
      ]
     },
     "execution_count": 23,
     "metadata": {},
     "output_type": "execute_result"
    }
   ],
   "source": [
    "cpt.dfIdComptagBdd"
   ]
  },
  {
   "cell_type": "code",
   "execution_count": 34,
   "metadata": {},
   "outputs": [],
   "source": [
    "chartTmja=alt.Chart(cpt.dfIdComptagBdd.loc[cpt.dfIdComptagBdd['indicateur']=='tmja'], \n",
    "                    title=f'{cpt.id_comptag} : {cpt.dfIdComptagBdd.type_poste.unique()[0]}',\n",
    "                    width=300).mark_bar().encode(\n",
    "                   x='annee:O',\n",
    "                   y=alt.Y('valeur:Q', axis=alt.Axis(title='TMJA')))"
   ]
  },
  {
   "cell_type": "code",
   "execution_count": 35,
   "metadata": {},
   "outputs": [
    {
     "data": {
      "text/html": [
       "\n",
       "<div id=\"altair-viz-637fb7a1144740dc93e0c8ef9faef893\"></div>\n",
       "<script type=\"text/javascript\">\n",
       "  (function(spec, embedOpt){\n",
       "    let outputDiv = document.currentScript.previousElementSibling;\n",
       "    if (outputDiv.id !== \"altair-viz-637fb7a1144740dc93e0c8ef9faef893\") {\n",
       "      outputDiv = document.getElementById(\"altair-viz-637fb7a1144740dc93e0c8ef9faef893\");\n",
       "    }\n",
       "    const paths = {\n",
       "      \"vega\": \"https://cdn.jsdelivr.net/npm//vega@5?noext\",\n",
       "      \"vega-lib\": \"https://cdn.jsdelivr.net/npm//vega-lib?noext\",\n",
       "      \"vega-lite\": \"https://cdn.jsdelivr.net/npm//vega-lite@4.8.1?noext\",\n",
       "      \"vega-embed\": \"https://cdn.jsdelivr.net/npm//vega-embed@6?noext\",\n",
       "    };\n",
       "\n",
       "    function loadScript(lib) {\n",
       "      return new Promise(function(resolve, reject) {\n",
       "        var s = document.createElement('script');\n",
       "        s.src = paths[lib];\n",
       "        s.async = true;\n",
       "        s.onload = () => resolve(paths[lib]);\n",
       "        s.onerror = () => reject(`Error loading script: ${paths[lib]}`);\n",
       "        document.getElementsByTagName(\"head\")[0].appendChild(s);\n",
       "      });\n",
       "    }\n",
       "\n",
       "    function showError(err) {\n",
       "      outputDiv.innerHTML = `<div class=\"error\" style=\"color:red;\">${err}</div>`;\n",
       "      throw err;\n",
       "    }\n",
       "\n",
       "    function displayChart(vegaEmbed) {\n",
       "      vegaEmbed(outputDiv, spec, embedOpt)\n",
       "        .catch(err => showError(`Javascript Error: ${err.message}<br>This usually means there's a typo in your chart specification. See the javascript console for the full traceback.`));\n",
       "    }\n",
       "\n",
       "    if(typeof define === \"function\" && define.amd) {\n",
       "      requirejs.config({paths});\n",
       "      require([\"vega-embed\"], displayChart, err => showError(`Error loading script: ${err.message}`));\n",
       "    } else if (typeof vegaEmbed === \"function\") {\n",
       "      displayChart(vegaEmbed);\n",
       "    } else {\n",
       "      loadScript(\"vega\")\n",
       "        .then(() => loadScript(\"vega-lite\"))\n",
       "        .then(() => loadScript(\"vega-embed\"))\n",
       "        .catch(showError)\n",
       "        .then(() => displayChart(vegaEmbed));\n",
       "    }\n",
       "  })({\"config\": {\"view\": {\"continuousWidth\": 400, \"continuousHeight\": 300}}, \"data\": {\"name\": \"data-825a86278985a2534f86d736aedc95c5\"}, \"mark\": \"bar\", \"encoding\": {\"x\": {\"type\": \"ordinal\", \"field\": \"annee\"}, \"y\": {\"type\": \"quantitative\", \"axis\": {\"title\": \"TMJA\"}, \"field\": \"valeur\"}}, \"title\": \"16-D1-17+0 : tournant\", \"width\": 300, \"$schema\": \"https://vega.github.io/schema/vega-lite/v4.8.1.json\", \"datasets\": {\"data-825a86278985a2534f86d736aedc95c5\": [{\"id_comptag\": \"16-D1-17+0\", \"annee\": \"2011\", \"type_poste\": \"tournant\", \"indicateur\": \"tmja\", \"valeur\": 1954.0}, {\"id_comptag\": \"16-D1-17+0\", \"annee\": \"2012\", \"type_poste\": \"tournant\", \"indicateur\": \"tmja\", \"valeur\": 2033.0}, {\"id_comptag\": \"16-D1-17+0\", \"annee\": \"2013\", \"type_poste\": \"tournant\", \"indicateur\": \"tmja\", \"valeur\": 1937.0}, {\"id_comptag\": \"16-D1-17+0\", \"annee\": \"2014\", \"type_poste\": \"tournant\", \"indicateur\": \"tmja\", \"valeur\": 1841.0}, {\"id_comptag\": \"16-D1-17+0\", \"annee\": \"2016\", \"type_poste\": \"tournant\", \"indicateur\": \"tmja\", \"valeur\": 2277.0}, {\"id_comptag\": \"16-D1-17+0\", \"annee\": \"2018\", \"type_poste\": \"tournant\", \"indicateur\": \"tmja\", \"valeur\": 2125.0}]}}, {\"mode\": \"vega-lite\"});\n",
       "</script>"
      ],
      "text/plain": [
       "alt.Chart(...)"
      ]
     },
     "execution_count": 35,
     "metadata": {},
     "output_type": "execute_result"
    }
   ],
   "source": [
    "chartTmja"
   ]
  },
  {
   "cell_type": "code",
   "execution_count": null,
   "metadata": {},
   "outputs": [],
   "source": []
  }
 ],
 "metadata": {
  "kernelspec": {
   "display_name": "Python 3 (ipykernel)",
   "language": "python",
   "name": "python3"
  },
  "language_info": {
   "codemirror_mode": {
    "name": "ipython",
    "version": 3
   },
   "file_extension": ".py",
   "mimetype": "text/x-python",
   "name": "python",
   "nbconvert_exporter": "python",
   "pygments_lexer": "ipython3",
   "version": "3.9.6"
  }
 },
 "nbformat": 4,
 "nbformat_minor": 4
}
