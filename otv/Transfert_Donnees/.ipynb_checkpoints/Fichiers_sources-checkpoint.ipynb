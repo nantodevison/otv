{
 "cells": [
  {
   "cell_type": "markdown",
   "metadata": {},
   "source": [
    "# ***EXEMPLE DE TRAITEMENTS DES FICHIERS SOURCES***\n",
    "> exemples pour les FIM, donnees individuelles mixtra, données individuelles viking, ..."
   ]
  },
  {
   "cell_type": "code",
   "execution_count": 120,
   "metadata": {},
   "outputs": [
    {
     "name": "stdout",
     "output_type": "stream",
     "text": [
      "The autoreload extension is already loaded. To reload it, use:\n",
      "  %reload_ext autoreload\n"
     ]
    }
   ],
   "source": [
    "%load_ext autoreload\n",
    "%autoreload 2\n",
    "import sys\n",
    "sys.path.append(r'C:\\Users\\martin.schoreisz\\git\\otv\\otv\\Transfert_Donnees')\n",
    "sys.path.append(r'C:\\Users\\martin.schoreisz\\git\\Outils\\Outils\\Martin_Perso')\n",
    "import pandas as pd\n",
    "import geopandas as gp\n",
    "import numpy as np\n",
    "import altair as alt\n",
    "from datetime import datetime\n",
    "import locale\n",
    "\n",
    "import Donnees_individuelles as di"
   ]
  },
  {
   "cell_type": "code",
   "execution_count": 3,
   "metadata": {},
   "outputs": [
    {
     "data": {
      "text/plain": [
       "'fr_FR'"
      ]
     },
     "execution_count": 3,
     "metadata": {},
     "output_type": "execute_result"
    }
   ],
   "source": [
    "locale.setlocale(locale.LC_TIME, 'fr_FR')"
   ]
  },
  {
   "cell_type": "markdown",
   "metadata": {},
   "source": [
    "# 1. Données individuelles mixtra\n",
    "ces données sont des fichiers excels, sans aucune référence interne au compteur. A chaque véhicule correspond une ligne avec les atributs descroiptifs"
   ]
  },
  {
   "cell_type": "code",
   "execution_count": 415,
   "metadata": {},
   "outputs": [],
   "source": [
    "mixtra=di.Mixtra([r'P:\\DAIT\\TI\\Donnees\\1-ROUTIER\\1 - Aquitaine\\64 - Pyrénées-Atlantiques\\2020\\Biriatou\\7_Juillet\\Tubes\\Individuelle\\P4_TUBES_23_07_20\\V0_02_B.XLS'],\n",
    "                 [r'P:\\DAIT\\TI\\Donnees\\1-ROUTIER\\1 - Aquitaine\\64 - Pyrénées-Atlantiques\\2020\\Biriatou\\7_Juillet\\Tubes\\Individuelle\\P4_TUBES_23_07_20\\V1_02_B.XLS'])"
   ]
  },
  {
   "cell_type": "code",
   "execution_count": 416,
   "metadata": {},
   "outputs": [],
   "source": [
    "dfValide, nbJours, nbJoursEffectifs, nbJoursOuvrés=di.NettoyageTemps(mixtra.NettoyageDonnees())\n",
    "dfCompleteHeureType=di.GroupeCompletude(dfValide)"
   ]
  },
  {
   "cell_type": "code",
   "execution_count": 417,
   "metadata": {},
   "outputs": [],
   "source": [
    "(dfMoyenneJourType,dfMoyenneJourSens,dfMoyenneHeureTypeSensMja,dfMoyenneHeureTypeSensMjo,\n",
    "hpmJo,hpsJo,dfMoyenneHoraireNuit,dfMoyenneHoraireJour,tmja,tmjo)=di.Indicateurs(dfCompleteHeureType,nbJoursEffectifs,nbJoursOuvrés)\n",
    "graphJourType,graphJourSens=di.GraphsMoyennesJours(dfMoyenneJourType,dfMoyenneJourSens)\n",
    "(graphHeureType2SensMja,graphHeureType2SensMjo,graphHeureTypeSens1Mja,graphHeureTypeSens2Mja,\n",
    " graphHeureTypeSens1Mjo,graphHeureTypeSens2Mjo)=di.GraphsMoyenneshoraires(dfMoyenneHeureTypeSensMja,dfMoyenneHeureTypeSensMjo)"
   ]
  },
  {
   "cell_type": "code",
   "execution_count": 418,
   "metadata": {},
   "outputs": [
    {
     "data": {
      "text/html": [
       "\n",
       "<div id=\"altair-viz-6c7eaa986d2b413c80e3881d7dc194fa\"></div>\n",
       "<script type=\"text/javascript\">\n",
       "  (function(spec, embedOpt){\n",
       "    let outputDiv = document.currentScript.previousElementSibling;\n",
       "    if (outputDiv.id !== \"altair-viz-6c7eaa986d2b413c80e3881d7dc194fa\") {\n",
       "      outputDiv = document.getElementById(\"altair-viz-6c7eaa986d2b413c80e3881d7dc194fa\");\n",
       "    }\n",
       "    const paths = {\n",
       "      \"vega\": \"https://cdn.jsdelivr.net/npm//vega@5?noext\",\n",
       "      \"vega-lib\": \"https://cdn.jsdelivr.net/npm//vega-lib?noext\",\n",
       "      \"vega-lite\": \"https://cdn.jsdelivr.net/npm//vega-lite@4.8.1?noext\",\n",
       "      \"vega-embed\": \"https://cdn.jsdelivr.net/npm//vega-embed@6?noext\",\n",
       "    };\n",
       "\n",
       "    function loadScript(lib) {\n",
       "      return new Promise(function(resolve, reject) {\n",
       "        var s = document.createElement('script');\n",
       "        s.src = paths[lib];\n",
       "        s.async = true;\n",
       "        s.onload = () => resolve(paths[lib]);\n",
       "        s.onerror = () => reject(`Error loading script: ${paths[lib]}`);\n",
       "        document.getElementsByTagName(\"head\")[0].appendChild(s);\n",
       "      });\n",
       "    }\n",
       "\n",
       "    function showError(err) {\n",
       "      outputDiv.innerHTML = `<div class=\"error\" style=\"color:red;\">${err}</div>`;\n",
       "      throw err;\n",
       "    }\n",
       "\n",
       "    function displayChart(vegaEmbed) {\n",
       "      vegaEmbed(outputDiv, spec, embedOpt)\n",
       "        .catch(err => showError(`Javascript Error: ${err.message}<br>This usually means there's a typo in your chart specification. See the javascript console for the full traceback.`));\n",
       "    }\n",
       "\n",
       "    if(typeof define === \"function\" && define.amd) {\n",
       "      requirejs.config({paths});\n",
       "      require([\"vega-embed\"], displayChart, err => showError(`Error loading script: ${err.message}`));\n",
       "    } else if (typeof vegaEmbed === \"function\") {\n",
       "      displayChart(vegaEmbed);\n",
       "    } else {\n",
       "      loadScript(\"vega\")\n",
       "        .then(() => loadScript(\"vega-lite\"))\n",
       "        .then(() => loadScript(\"vega-embed\"))\n",
       "        .catch(showError)\n",
       "        .then(() => displayChart(vegaEmbed));\n",
       "    }\n",
       "  })({\"config\": {\"view\": {\"continuousWidth\": 400, \"continuousHeight\": 300, \"stroke\": \"transparent\"}}, \"data\": {\"name\": \"data-d84bdab9f3e77d8578e1eb6dc4402d32\"}, \"mark\": \"bar\", \"encoding\": {\"color\": {\"type\": \"nominal\", \"field\": \"type_veh\"}, \"column\": {\"type\": \"ordinal\", \"field\": \"jour\", \"sort\": [\"lundi\", \"mardi\", \"mercredi\", \"jeudi\", \"vendredi\", \"samedi\", \"dimanche\"]}, \"x\": {\"type\": \"nominal\", \"axis\": {\"title\": \"\"}, \"field\": \"type_veh\", \"sort\": [\"tv\", \"vl\", \"pl\", \"2r\"]}, \"y\": {\"type\": \"quantitative\", \"axis\": {\"grid\": false, \"title\": \"Nombre de v\\u00e9hicules\"}, \"field\": \"nbVeh\"}}, \"$schema\": \"https://vega.github.io/schema/vega-lite/v4.8.1.json\", \"datasets\": {\"data-d84bdab9f3e77d8578e1eb6dc4402d32\": [{\"jour\": \"lundi\", \"type_veh\": \"2r\", \"nbVeh\": 35.0}, {\"jour\": \"lundi\", \"type_veh\": \"pl\", \"nbVeh\": 376.0}, {\"jour\": \"lundi\", \"type_veh\": \"tv\", \"nbVeh\": 3558.0}, {\"jour\": \"mardi\", \"type_veh\": \"2r\", \"nbVeh\": 49.0}, {\"jour\": \"mardi\", \"type_veh\": \"pl\", \"nbVeh\": 688.0}, {\"jour\": \"mardi\", \"type_veh\": \"tv\", \"nbVeh\": 4204.0}, {\"jour\": \"mercredi\", \"type_veh\": \"2r\", \"nbVeh\": 36.0}, {\"jour\": \"mercredi\", \"type_veh\": \"pl\", \"nbVeh\": 331.0}, {\"jour\": \"mercredi\", \"type_veh\": \"tv\", \"nbVeh\": 3645.0}, {\"jour\": \"jeudi\", \"type_veh\": \"tv\", \"nbVeh\": 3674.0}, {\"jour\": \"jeudi\", \"type_veh\": \"pl\", \"nbVeh\": 357.0}, {\"jour\": \"jeudi\", \"type_veh\": \"2r\", \"nbVeh\": 35.0}, {\"jour\": \"vendredi\", \"type_veh\": \"2r\", \"nbVeh\": 36.0}, {\"jour\": \"vendredi\", \"type_veh\": \"pl\", \"nbVeh\": 421.0}, {\"jour\": \"vendredi\", \"type_veh\": \"tv\", \"nbVeh\": 3772.0}, {\"jour\": \"samedi\", \"type_veh\": \"2r\", \"nbVeh\": 33.0}, {\"jour\": \"samedi\", \"type_veh\": \"pl\", \"nbVeh\": 128.0}, {\"jour\": \"samedi\", \"type_veh\": \"tv\", \"nbVeh\": 3149.0}, {\"jour\": \"dimanche\", \"type_veh\": \"2r\", \"nbVeh\": 23.0}, {\"jour\": \"dimanche\", \"type_veh\": \"pl\", \"nbVeh\": 68.0}, {\"jour\": \"dimanche\", \"type_veh\": \"tv\", \"nbVeh\": 3057.0}]}}, {\"mode\": \"vega-lite\"});\n",
       "</script>"
      ],
      "text/plain": [
       "alt.Chart(...)"
      ]
     },
     "execution_count": 418,
     "metadata": {},
     "output_type": "execute_result"
    }
   ],
   "source": [
    "graphJourType"
   ]
  },
  {
   "cell_type": "code",
   "execution_count": 261,
   "metadata": {
    "collapsed": true,
    "jupyter": {
     "outputs_hidden": true
    }
   },
   "outputs": [
    {
     "data": {
      "text/html": [
       "\n",
       "<div id=\"altair-viz-cd4b8211f2284b80a1fc0878884d463e\"></div>\n",
       "<script type=\"text/javascript\">\n",
       "  (function(spec, embedOpt){\n",
       "    let outputDiv = document.currentScript.previousElementSibling;\n",
       "    if (outputDiv.id !== \"altair-viz-cd4b8211f2284b80a1fc0878884d463e\") {\n",
       "      outputDiv = document.getElementById(\"altair-viz-cd4b8211f2284b80a1fc0878884d463e\");\n",
       "    }\n",
       "    const paths = {\n",
       "      \"vega\": \"https://cdn.jsdelivr.net/npm//vega@5?noext\",\n",
       "      \"vega-lib\": \"https://cdn.jsdelivr.net/npm//vega-lib?noext\",\n",
       "      \"vega-lite\": \"https://cdn.jsdelivr.net/npm//vega-lite@4.8.1?noext\",\n",
       "      \"vega-embed\": \"https://cdn.jsdelivr.net/npm//vega-embed@6?noext\",\n",
       "    };\n",
       "\n",
       "    function loadScript(lib) {\n",
       "      return new Promise(function(resolve, reject) {\n",
       "        var s = document.createElement('script');\n",
       "        s.src = paths[lib];\n",
       "        s.async = true;\n",
       "        s.onload = () => resolve(paths[lib]);\n",
       "        s.onerror = () => reject(`Error loading script: ${paths[lib]}`);\n",
       "        document.getElementsByTagName(\"head\")[0].appendChild(s);\n",
       "      });\n",
       "    }\n",
       "\n",
       "    function showError(err) {\n",
       "      outputDiv.innerHTML = `<div class=\"error\" style=\"color:red;\">${err}</div>`;\n",
       "      throw err;\n",
       "    }\n",
       "\n",
       "    function displayChart(vegaEmbed) {\n",
       "      vegaEmbed(outputDiv, spec, embedOpt)\n",
       "        .catch(err => showError(`Javascript Error: ${err.message}<br>This usually means there's a typo in your chart specification. See the javascript console for the full traceback.`));\n",
       "    }\n",
       "\n",
       "    if(typeof define === \"function\" && define.amd) {\n",
       "      requirejs.config({paths});\n",
       "      require([\"vega-embed\"], displayChart, err => showError(`Error loading script: ${err.message}`));\n",
       "    } else if (typeof vegaEmbed === \"function\") {\n",
       "      displayChart(vegaEmbed);\n",
       "    } else {\n",
       "      loadScript(\"vega\")\n",
       "        .then(() => loadScript(\"vega-lite\"))\n",
       "        .then(() => loadScript(\"vega-embed\"))\n",
       "        .catch(showError)\n",
       "        .then(() => displayChart(vegaEmbed));\n",
       "    }\n",
       "  })({\"config\": {\"view\": {\"continuousWidth\": 400, \"continuousHeight\": 300, \"stroke\": \"transparent\"}}, \"data\": {\"name\": \"data-985be6ddb011a90ec3822c7b610f0577\"}, \"mark\": \"bar\", \"encoding\": {\"color\": {\"type\": \"nominal\", \"field\": \"sens\"}, \"column\": {\"type\": \"ordinal\", \"field\": \"jour\", \"sort\": [\"lundi\", \"mardi\", \"mercredi\", \"jeudi\", \"vendredi\", \"samedi\", \"dimanche\"]}, \"x\": {\"type\": \"nominal\", \"axis\": {\"title\": \"\"}, \"field\": \"sens\", \"sort\": [\"tv\", \"vl\", \"pl\", \"2r\"]}, \"y\": {\"type\": \"quantitative\", \"axis\": {\"grid\": false, \"title\": \"Nombre de v\\u00e9hicules\"}, \"field\": \"nbVeh\"}}, \"title\": \"Trafic moyen journalier par sens\", \"$schema\": \"https://vega.github.io/schema/vega-lite/v4.8.1.json\", \"datasets\": {\"data-985be6ddb011a90ec3822c7b610f0577\": [{\"jour\": \"lundi\", \"sens\": \"sens1\", \"nbVeh\": 716.0}, {\"jour\": \"lundi\", \"sens\": \"sens2\", \"nbVeh\": 6400.0}, {\"jour\": \"mardi\", \"sens\": \"sens1\", \"nbVeh\": 554.0}, {\"jour\": \"mardi\", \"sens\": \"sens2\", \"nbVeh\": 7854.0}, {\"jour\": \"mercredi\", \"sens\": \"sens1\", \"nbVeh\": 478.0}, {\"jour\": \"mercredi\", \"sens\": \"sens2\", \"nbVeh\": 6812.0}, {\"jour\": \"jeudi\", \"sens\": \"sens1\", \"nbVeh\": 690.0}, {\"jour\": \"jeudi\", \"sens\": \"sens2\", \"nbVeh\": 6658.0}, {\"jour\": \"vendredi\", \"sens\": \"sens1\", \"nbVeh\": 750.0}, {\"jour\": \"vendredi\", \"sens\": \"sens2\", \"nbVeh\": 6794.0}, {\"jour\": \"samedi\", \"sens\": \"sens1\", \"nbVeh\": 884.0}, {\"jour\": \"samedi\", \"sens\": \"sens2\", \"nbVeh\": 5414.0}, {\"jour\": \"dimanche\", \"sens\": \"sens1\", \"nbVeh\": 882.0}, {\"jour\": \"dimanche\", \"sens\": \"sens2\", \"nbVeh\": 5232.0}]}}, {\"mode\": \"vega-lite\"});\n",
       "</script>"
      ],
      "text/plain": [
       "alt.Chart(...)"
      ]
     },
     "execution_count": 261,
     "metadata": {},
     "output_type": "execute_result"
    }
   ],
   "source": [
    "graphJourSens"
   ]
  },
  {
   "cell_type": "code",
   "execution_count": 404,
   "metadata": {
    "collapsed": true,
    "jupyter": {
     "outputs_hidden": true
    }
   },
   "outputs": [
    {
     "data": {
      "text/html": [
       "\n",
       "<div id=\"altair-viz-de4bd8a164514c0db6f13c42af2e1099\"></div>\n",
       "<script type=\"text/javascript\">\n",
       "  (function(spec, embedOpt){\n",
       "    let outputDiv = document.currentScript.previousElementSibling;\n",
       "    if (outputDiv.id !== \"altair-viz-de4bd8a164514c0db6f13c42af2e1099\") {\n",
       "      outputDiv = document.getElementById(\"altair-viz-de4bd8a164514c0db6f13c42af2e1099\");\n",
       "    }\n",
       "    const paths = {\n",
       "      \"vega\": \"https://cdn.jsdelivr.net/npm//vega@5?noext\",\n",
       "      \"vega-lib\": \"https://cdn.jsdelivr.net/npm//vega-lib?noext\",\n",
       "      \"vega-lite\": \"https://cdn.jsdelivr.net/npm//vega-lite@4.8.1?noext\",\n",
       "      \"vega-embed\": \"https://cdn.jsdelivr.net/npm//vega-embed@6?noext\",\n",
       "    };\n",
       "\n",
       "    function loadScript(lib) {\n",
       "      return new Promise(function(resolve, reject) {\n",
       "        var s = document.createElement('script');\n",
       "        s.src = paths[lib];\n",
       "        s.async = true;\n",
       "        s.onload = () => resolve(paths[lib]);\n",
       "        s.onerror = () => reject(`Error loading script: ${paths[lib]}`);\n",
       "        document.getElementsByTagName(\"head\")[0].appendChild(s);\n",
       "      });\n",
       "    }\n",
       "\n",
       "    function showError(err) {\n",
       "      outputDiv.innerHTML = `<div class=\"error\" style=\"color:red;\">${err}</div>`;\n",
       "      throw err;\n",
       "    }\n",
       "\n",
       "    function displayChart(vegaEmbed) {\n",
       "      vegaEmbed(outputDiv, spec, embedOpt)\n",
       "        .catch(err => showError(`Javascript Error: ${err.message}<br>This usually means there's a typo in your chart specification. See the javascript console for the full traceback.`));\n",
       "    }\n",
       "\n",
       "    if(typeof define === \"function\" && define.amd) {\n",
       "      requirejs.config({paths});\n",
       "      require([\"vega-embed\"], displayChart, err => showError(`Error loading script: ${err.message}`));\n",
       "    } else if (typeof vegaEmbed === \"function\") {\n",
       "      displayChart(vegaEmbed);\n",
       "    } else {\n",
       "      loadScript(\"vega\")\n",
       "        .then(() => loadScript(\"vega-lite\"))\n",
       "        .then(() => loadScript(\"vega-embed\"))\n",
       "        .catch(showError)\n",
       "        .then(() => displayChart(vegaEmbed));\n",
       "    }\n",
       "  })({\"config\": {\"view\": {\"continuousWidth\": 400, \"continuousHeight\": 300}}, \"data\": {\"name\": \"data-1235f1130d0a6243e05639a925fc196b\"}, \"mark\": \"line\", \"encoding\": {\"color\": {\"type\": \"nominal\", \"field\": \"type_veh\"}, \"x\": {\"type\": \"ordinal\", \"field\": \"heure\"}, \"y\": {\"type\": \"quantitative\", \"field\": \"nbVeh\"}}, \"$schema\": \"https://vega.github.io/schema/vega-lite/v4.8.1.json\", \"datasets\": {\"data-1235f1130d0a6243e05639a925fc196b\": [{\"heure\": 0, \"type_veh\": \"2r\", \"nbVeh\": 1.0}, {\"heure\": 0, \"type_veh\": \"pl\", \"nbVeh\": 3.0}, {\"heure\": 0, \"type_veh\": \"vl\", \"nbVeh\": 24.0}, {\"heure\": 1, \"type_veh\": \"2r\", \"nbVeh\": 0.0}, {\"heure\": 1, \"type_veh\": \"pl\", \"nbVeh\": 2.0}, {\"heure\": 1, \"type_veh\": \"vl\", \"nbVeh\": 12.0}, {\"heure\": 2, \"type_veh\": \"2r\", \"nbVeh\": 0.0}, {\"heure\": 2, \"type_veh\": \"pl\", \"nbVeh\": 2.0}, {\"heure\": 2, \"type_veh\": \"vl\", \"nbVeh\": 8.0}, {\"heure\": 3, \"type_veh\": \"2r\", \"nbVeh\": 0.0}, {\"heure\": 3, \"type_veh\": \"pl\", \"nbVeh\": 3.0}, {\"heure\": 3, \"type_veh\": \"vl\", \"nbVeh\": 7.0}, {\"heure\": 4, \"type_veh\": \"2r\", \"nbVeh\": 0.0}, {\"heure\": 4, \"type_veh\": \"pl\", \"nbVeh\": 3.0}, {\"heure\": 4, \"type_veh\": \"vl\", \"nbVeh\": 12.0}, {\"heure\": 5, \"type_veh\": \"2r\", \"nbVeh\": 1.0}, {\"heure\": 5, \"type_veh\": \"pl\", \"nbVeh\": 8.0}, {\"heure\": 5, \"type_veh\": \"vl\", \"nbVeh\": 26.0}, {\"heure\": 6, \"type_veh\": \"2r\", \"nbVeh\": 1.0}, {\"heure\": 6, \"type_veh\": \"pl\", \"nbVeh\": 9.0}, {\"heure\": 6, \"type_veh\": \"vl\", \"nbVeh\": 50.0}, {\"heure\": 7, \"type_veh\": \"2r\", \"nbVeh\": 3.0}, {\"heure\": 7, \"type_veh\": \"pl\", \"nbVeh\": 22.0}, {\"heure\": 7, \"type_veh\": \"vl\", \"nbVeh\": 117.0}, {\"heure\": 8, \"type_veh\": \"2r\", \"nbVeh\": 2.0}, {\"heure\": 8, \"type_veh\": \"pl\", \"nbVeh\": 21.0}, {\"heure\": 8, \"type_veh\": \"vl\", \"nbVeh\": 140.0}, {\"heure\": 9, \"type_veh\": \"2r\", \"nbVeh\": 2.0}, {\"heure\": 9, \"type_veh\": \"pl\", \"nbVeh\": 18.0}, {\"heure\": 9, \"type_veh\": \"vl\", \"nbVeh\": 162.0}, {\"heure\": 10, \"type_veh\": \"2r\", \"nbVeh\": 2.0}, {\"heure\": 10, \"type_veh\": \"pl\", \"nbVeh\": 23.0}, {\"heure\": 10, \"type_veh\": \"vl\", \"nbVeh\": 213.0}, {\"heure\": 11, \"type_veh\": \"2r\", \"nbVeh\": 2.0}, {\"heure\": 11, \"type_veh\": \"pl\", \"nbVeh\": 41.0}, {\"heure\": 11, \"type_veh\": \"vl\", \"nbVeh\": 240.0}, {\"heure\": 12, \"type_veh\": \"2r\", \"nbVeh\": 3.0}, {\"heure\": 12, \"type_veh\": \"pl\", \"nbVeh\": 37.0}, {\"heure\": 12, \"type_veh\": \"vl\", \"nbVeh\": 234.0}, {\"heure\": 13, \"type_veh\": \"2r\", \"nbVeh\": 2.0}, {\"heure\": 13, \"type_veh\": \"pl\", \"nbVeh\": 18.0}, {\"heure\": 13, \"type_veh\": \"vl\", \"nbVeh\": 195.0}, {\"heure\": 14, \"type_veh\": \"2r\", \"nbVeh\": 2.0}, {\"heure\": 14, \"type_veh\": \"pl\", \"nbVeh\": 22.0}, {\"heure\": 14, \"type_veh\": \"vl\", \"nbVeh\": 205.0}, {\"heure\": 15, \"type_veh\": \"2r\", \"nbVeh\": 3.0}, {\"heure\": 15, \"type_veh\": \"pl\", \"nbVeh\": 25.0}, {\"heure\": 15, \"type_veh\": \"vl\", \"nbVeh\": 238.0}, {\"heure\": 16, \"type_veh\": \"2r\", \"nbVeh\": 3.0}, {\"heure\": 16, \"type_veh\": \"pl\", \"nbVeh\": 24.0}, {\"heure\": 16, \"type_veh\": \"vl\", \"nbVeh\": 275.0}, {\"heure\": 17, \"type_veh\": \"2r\", \"nbVeh\": 3.0}, {\"heure\": 17, \"type_veh\": \"pl\", \"nbVeh\": 19.0}, {\"heure\": 17, \"type_veh\": \"vl\", \"nbVeh\": 303.0}, {\"heure\": 18, \"type_veh\": \"2r\", \"nbVeh\": 2.0}, {\"heure\": 18, \"type_veh\": \"pl\", \"nbVeh\": 15.0}, {\"heure\": 18, \"type_veh\": \"vl\", \"nbVeh\": 270.0}, {\"heure\": 19, \"type_veh\": \"2r\", \"nbVeh\": 2.0}, {\"heure\": 19, \"type_veh\": \"pl\", \"nbVeh\": 11.0}, {\"heure\": 19, \"type_veh\": \"vl\", \"nbVeh\": 199.0}, {\"heure\": 20, \"type_veh\": \"2r\", \"nbVeh\": 0.0}, {\"heure\": 20, \"type_veh\": \"pl\", \"nbVeh\": 5.0}, {\"heure\": 20, \"type_veh\": \"vl\", \"nbVeh\": 107.0}, {\"heure\": 21, \"type_veh\": \"2r\", \"nbVeh\": 0.0}, {\"heure\": 21, \"type_veh\": \"pl\", \"nbVeh\": 3.0}, {\"heure\": 21, \"type_veh\": \"vl\", \"nbVeh\": 66.0}, {\"heure\": 22, \"type_veh\": \"2r\", \"nbVeh\": 0.0}, {\"heure\": 22, \"type_veh\": \"pl\", \"nbVeh\": 2.0}, {\"heure\": 22, \"type_veh\": \"vl\", \"nbVeh\": 55.0}, {\"heure\": 23, \"type_veh\": \"2r\", \"nbVeh\": 0.0}, {\"heure\": 23, \"type_veh\": \"pl\", \"nbVeh\": 1.0}, {\"heure\": 23, \"type_veh\": \"vl\", \"nbVeh\": 43.0}]}}, {\"mode\": \"vega-lite\"});\n",
       "</script>"
      ],
      "text/plain": [
       "alt.Chart(...)"
      ]
     },
     "execution_count": 404,
     "metadata": {},
     "output_type": "execute_result"
    }
   ],
   "source": [
    "graphHeureType2SensMja"
   ]
  },
  {
   "cell_type": "code",
   "execution_count": 408,
   "metadata": {
    "collapsed": true,
    "jupyter": {
     "outputs_hidden": true
    }
   },
   "outputs": [
    {
     "data": {
      "text/html": [
       "\n",
       "<div id=\"altair-viz-7056e52ae63c45dcb23a28d82102f45d\"></div>\n",
       "<script type=\"text/javascript\">\n",
       "  (function(spec, embedOpt){\n",
       "    let outputDiv = document.currentScript.previousElementSibling;\n",
       "    if (outputDiv.id !== \"altair-viz-7056e52ae63c45dcb23a28d82102f45d\") {\n",
       "      outputDiv = document.getElementById(\"altair-viz-7056e52ae63c45dcb23a28d82102f45d\");\n",
       "    }\n",
       "    const paths = {\n",
       "      \"vega\": \"https://cdn.jsdelivr.net/npm//vega@5?noext\",\n",
       "      \"vega-lib\": \"https://cdn.jsdelivr.net/npm//vega-lib?noext\",\n",
       "      \"vega-lite\": \"https://cdn.jsdelivr.net/npm//vega-lite@4.8.1?noext\",\n",
       "      \"vega-embed\": \"https://cdn.jsdelivr.net/npm//vega-embed@6?noext\",\n",
       "    };\n",
       "\n",
       "    function loadScript(lib) {\n",
       "      return new Promise(function(resolve, reject) {\n",
       "        var s = document.createElement('script');\n",
       "        s.src = paths[lib];\n",
       "        s.async = true;\n",
       "        s.onload = () => resolve(paths[lib]);\n",
       "        s.onerror = () => reject(`Error loading script: ${paths[lib]}`);\n",
       "        document.getElementsByTagName(\"head\")[0].appendChild(s);\n",
       "      });\n",
       "    }\n",
       "\n",
       "    function showError(err) {\n",
       "      outputDiv.innerHTML = `<div class=\"error\" style=\"color:red;\">${err}</div>`;\n",
       "      throw err;\n",
       "    }\n",
       "\n",
       "    function displayChart(vegaEmbed) {\n",
       "      vegaEmbed(outputDiv, spec, embedOpt)\n",
       "        .catch(err => showError(`Javascript Error: ${err.message}<br>This usually means there's a typo in your chart specification. See the javascript console for the full traceback.`));\n",
       "    }\n",
       "\n",
       "    if(typeof define === \"function\" && define.amd) {\n",
       "      requirejs.config({paths});\n",
       "      require([\"vega-embed\"], displayChart, err => showError(`Error loading script: ${err.message}`));\n",
       "    } else if (typeof vegaEmbed === \"function\") {\n",
       "      displayChart(vegaEmbed);\n",
       "    } else {\n",
       "      loadScript(\"vega\")\n",
       "        .then(() => loadScript(\"vega-lite\"))\n",
       "        .then(() => loadScript(\"vega-embed\"))\n",
       "        .catch(showError)\n",
       "        .then(() => displayChart(vegaEmbed));\n",
       "    }\n",
       "  })({\"config\": {\"view\": {\"continuousWidth\": 400, \"continuousHeight\": 300}}, \"data\": {\"name\": \"data-70510ece14bd0505c00ff68ad5fa24a7\"}, \"mark\": \"line\", \"encoding\": {\"color\": {\"type\": \"nominal\", \"field\": \"type_veh\"}, \"x\": {\"type\": \"ordinal\", \"field\": \"heure\"}, \"y\": {\"type\": \"quantitative\", \"field\": \"nbVeh\"}}, \"$schema\": \"https://vega.github.io/schema/vega-lite/v4.8.1.json\", \"datasets\": {\"data-70510ece14bd0505c00ff68ad5fa24a7\": [{\"heure\": 0, \"type_veh\": \"2r\", \"nbVeh\": 0.0}, {\"heure\": 0, \"type_veh\": \"pl\", \"nbVeh\": 3.0}, {\"heure\": 0, \"type_veh\": \"vl\", \"nbVeh\": 20.0}, {\"heure\": 1, \"type_veh\": \"2r\", \"nbVeh\": 0.0}, {\"heure\": 1, \"type_veh\": \"pl\", \"nbVeh\": 2.0}, {\"heure\": 1, \"type_veh\": \"vl\", \"nbVeh\": 9.0}, {\"heure\": 2, \"type_veh\": \"2r\", \"nbVeh\": 0.0}, {\"heure\": 2, \"type_veh\": \"pl\", \"nbVeh\": 2.0}, {\"heure\": 2, \"type_veh\": \"vl\", \"nbVeh\": 6.0}, {\"heure\": 3, \"type_veh\": \"2r\", \"nbVeh\": 0.0}, {\"heure\": 3, \"type_veh\": \"pl\", \"nbVeh\": 3.0}, {\"heure\": 3, \"type_veh\": \"vl\", \"nbVeh\": 5.0}, {\"heure\": 4, \"type_veh\": \"2r\", \"nbVeh\": 0.0}, {\"heure\": 4, \"type_veh\": \"pl\", \"nbVeh\": 3.0}, {\"heure\": 4, \"type_veh\": \"vl\", \"nbVeh\": 13.0}, {\"heure\": 5, \"type_veh\": \"2r\", \"nbVeh\": 1.0}, {\"heure\": 5, \"type_veh\": \"pl\", \"nbVeh\": 9.0}, {\"heure\": 5, \"type_veh\": \"vl\", \"nbVeh\": 27.0}, {\"heure\": 6, \"type_veh\": \"2r\", \"nbVeh\": 1.0}, {\"heure\": 6, \"type_veh\": \"pl\", \"nbVeh\": 11.0}, {\"heure\": 6, \"type_veh\": \"vl\", \"nbVeh\": 61.0}, {\"heure\": 7, \"type_veh\": \"2r\", \"nbVeh\": 3.0}, {\"heure\": 7, \"type_veh\": \"pl\", \"nbVeh\": 29.0}, {\"heure\": 7, \"type_veh\": \"vl\", \"nbVeh\": 149.0}, {\"heure\": 8, \"type_veh\": \"2r\", \"nbVeh\": 3.0}, {\"heure\": 8, \"type_veh\": \"pl\", \"nbVeh\": 27.0}, {\"heure\": 8, \"type_veh\": \"vl\", \"nbVeh\": 167.0}, {\"heure\": 9, \"type_veh\": \"2r\", \"nbVeh\": 1.0}, {\"heure\": 9, \"type_veh\": \"pl\", \"nbVeh\": 23.0}, {\"heure\": 9, \"type_veh\": \"vl\", \"nbVeh\": 165.0}, {\"heure\": 10, \"type_veh\": \"2r\", \"nbVeh\": 3.0}, {\"heure\": 10, \"type_veh\": \"pl\", \"nbVeh\": 31.0}, {\"heure\": 10, \"type_veh\": \"vl\", \"nbVeh\": 205.0}, {\"heure\": 11, \"type_veh\": \"2r\", \"nbVeh\": 2.0}, {\"heure\": 11, \"type_veh\": \"pl\", \"nbVeh\": 54.0}, {\"heure\": 11, \"type_veh\": \"vl\", \"nbVeh\": 233.0}, {\"heure\": 12, \"type_veh\": \"2r\", \"nbVeh\": 4.0}, {\"heure\": 12, \"type_veh\": \"pl\", \"nbVeh\": 50.0}, {\"heure\": 12, \"type_veh\": \"vl\", \"nbVeh\": 230.0}, {\"heure\": 13, \"type_veh\": \"2r\", \"nbVeh\": 2.0}, {\"heure\": 13, \"type_veh\": \"pl\", \"nbVeh\": 22.0}, {\"heure\": 13, \"type_veh\": \"vl\", \"nbVeh\": 196.0}, {\"heure\": 14, \"type_veh\": \"2r\", \"nbVeh\": 2.0}, {\"heure\": 14, \"type_veh\": \"pl\", \"nbVeh\": 32.0}, {\"heure\": 14, \"type_veh\": \"vl\", \"nbVeh\": 214.0}, {\"heure\": 15, \"type_veh\": \"2r\", \"nbVeh\": 4.0}, {\"heure\": 15, \"type_veh\": \"pl\", \"nbVeh\": 31.0}, {\"heure\": 15, \"type_veh\": \"vl\", \"nbVeh\": 252.0}, {\"heure\": 16, \"type_veh\": \"2r\", \"nbVeh\": 2.0}, {\"heure\": 16, \"type_veh\": \"pl\", \"nbVeh\": 33.0}, {\"heure\": 16, \"type_veh\": \"vl\", \"nbVeh\": 287.0}, {\"heure\": 17, \"type_veh\": \"2r\", \"nbVeh\": 3.0}, {\"heure\": 17, \"type_veh\": \"pl\", \"nbVeh\": 26.0}, {\"heure\": 17, \"type_veh\": \"vl\", \"nbVeh\": 323.0}, {\"heure\": 18, \"type_veh\": \"2r\", \"nbVeh\": 2.0}, {\"heure\": 18, \"type_veh\": \"pl\", \"nbVeh\": 18.0}, {\"heure\": 18, \"type_veh\": \"vl\", \"nbVeh\": 281.0}, {\"heure\": 19, \"type_veh\": \"2r\", \"nbVeh\": 2.0}, {\"heure\": 19, \"type_veh\": \"pl\", \"nbVeh\": 12.0}, {\"heure\": 19, \"type_veh\": \"vl\", \"nbVeh\": 199.0}, {\"heure\": 20, \"type_veh\": \"2r\", \"nbVeh\": 0.0}, {\"heure\": 20, \"type_veh\": \"pl\", \"nbVeh\": 7.0}, {\"heure\": 20, \"type_veh\": \"vl\", \"nbVeh\": 105.0}, {\"heure\": 21, \"type_veh\": \"2r\", \"nbVeh\": 0.0}, {\"heure\": 21, \"type_veh\": \"pl\", \"nbVeh\": 3.0}, {\"heure\": 21, \"type_veh\": \"vl\", \"nbVeh\": 64.0}, {\"heure\": 22, \"type_veh\": \"2r\", \"nbVeh\": 0.0}, {\"heure\": 22, \"type_veh\": \"pl\", \"nbVeh\": 1.0}, {\"heure\": 22, \"type_veh\": \"vl\", \"nbVeh\": 52.0}, {\"heure\": 23, \"type_veh\": \"2r\", \"nbVeh\": 0.0}, {\"heure\": 23, \"type_veh\": \"pl\", \"nbVeh\": 1.0}, {\"heure\": 23, \"type_veh\": \"vl\", \"nbVeh\": 36.0}]}}, {\"mode\": \"vega-lite\"});\n",
       "</script>"
      ],
      "text/plain": [
       "alt.Chart(...)"
      ]
     },
     "execution_count": 408,
     "metadata": {},
     "output_type": "execute_result"
    }
   ],
   "source": [
    "graphHeureType2SensMjo"
   ]
  },
  {
   "cell_type": "code",
   "execution_count": 266,
   "metadata": {
    "collapsed": true,
    "jupyter": {
     "outputs_hidden": true
    }
   },
   "outputs": [
    {
     "data": {
      "text/html": [
       "\n",
       "<div id=\"altair-viz-021f438722054ac8a8fb73fe657a7103\"></div>\n",
       "<script type=\"text/javascript\">\n",
       "  (function(spec, embedOpt){\n",
       "    let outputDiv = document.currentScript.previousElementSibling;\n",
       "    if (outputDiv.id !== \"altair-viz-021f438722054ac8a8fb73fe657a7103\") {\n",
       "      outputDiv = document.getElementById(\"altair-viz-021f438722054ac8a8fb73fe657a7103\");\n",
       "    }\n",
       "    const paths = {\n",
       "      \"vega\": \"https://cdn.jsdelivr.net/npm//vega@5?noext\",\n",
       "      \"vega-lib\": \"https://cdn.jsdelivr.net/npm//vega-lib?noext\",\n",
       "      \"vega-lite\": \"https://cdn.jsdelivr.net/npm//vega-lite@4.8.1?noext\",\n",
       "      \"vega-embed\": \"https://cdn.jsdelivr.net/npm//vega-embed@6?noext\",\n",
       "    };\n",
       "\n",
       "    function loadScript(lib) {\n",
       "      return new Promise(function(resolve, reject) {\n",
       "        var s = document.createElement('script');\n",
       "        s.src = paths[lib];\n",
       "        s.async = true;\n",
       "        s.onload = () => resolve(paths[lib]);\n",
       "        s.onerror = () => reject(`Error loading script: ${paths[lib]}`);\n",
       "        document.getElementsByTagName(\"head\")[0].appendChild(s);\n",
       "      });\n",
       "    }\n",
       "\n",
       "    function showError(err) {\n",
       "      outputDiv.innerHTML = `<div class=\"error\" style=\"color:red;\">${err}</div>`;\n",
       "      throw err;\n",
       "    }\n",
       "\n",
       "    function displayChart(vegaEmbed) {\n",
       "      vegaEmbed(outputDiv, spec, embedOpt)\n",
       "        .catch(err => showError(`Javascript Error: ${err.message}<br>This usually means there's a typo in your chart specification. See the javascript console for the full traceback.`));\n",
       "    }\n",
       "\n",
       "    if(typeof define === \"function\" && define.amd) {\n",
       "      requirejs.config({paths});\n",
       "      require([\"vega-embed\"], displayChart, err => showError(`Error loading script: ${err.message}`));\n",
       "    } else if (typeof vegaEmbed === \"function\") {\n",
       "      displayChart(vegaEmbed);\n",
       "    } else {\n",
       "      loadScript(\"vega\")\n",
       "        .then(() => loadScript(\"vega-lite\"))\n",
       "        .then(() => loadScript(\"vega-embed\"))\n",
       "        .catch(showError)\n",
       "        .then(() => displayChart(vegaEmbed));\n",
       "    }\n",
       "  })({\"config\": {\"view\": {\"continuousWidth\": 400, \"continuousHeight\": 300}}, \"data\": {\"name\": \"data-ee322334b925bb47b5fa66a0bd32ab22\"}, \"mark\": \"line\", \"encoding\": {\"color\": {\"type\": \"nominal\", \"field\": \"type_veh\"}, \"x\": {\"type\": \"ordinal\", \"field\": \"heure\"}, \"y\": {\"type\": \"quantitative\", \"field\": \"nbVeh\"}}, \"$schema\": \"https://vega.github.io/schema/vega-lite/v4.8.1.json\", \"datasets\": {\"data-ee322334b925bb47b5fa66a0bd32ab22\": [{\"heure\": 0, \"type_veh\": \"2r\", \"nbVeh\": 0.0}, {\"heure\": 0, \"type_veh\": \"pl\", \"nbVeh\": 0.0}, {\"heure\": 0, \"type_veh\": \"vl\", \"nbVeh\": 3.0}, {\"heure\": 1, \"type_veh\": \"2r\", \"nbVeh\": 0.0}, {\"heure\": 1, \"type_veh\": \"pl\", \"nbVeh\": 0.0}, {\"heure\": 1, \"type_veh\": \"vl\", \"nbVeh\": 3.0}, {\"heure\": 2, \"type_veh\": \"2r\", \"nbVeh\": 0.0}, {\"heure\": 2, \"type_veh\": \"pl\", \"nbVeh\": 0.0}, {\"heure\": 2, \"type_veh\": \"vl\", \"nbVeh\": 1.0}, {\"heure\": 3, \"type_veh\": \"2r\", \"nbVeh\": 0.0}, {\"heure\": 3, \"type_veh\": \"pl\", \"nbVeh\": 0.0}, {\"heure\": 3, \"type_veh\": \"vl\", \"nbVeh\": 0.0}, {\"heure\": 4, \"type_veh\": \"2r\", \"nbVeh\": 0.0}, {\"heure\": 4, \"type_veh\": \"pl\", \"nbVeh\": 0.0}, {\"heure\": 4, \"type_veh\": \"vl\", \"nbVeh\": 0.0}, {\"heure\": 5, \"type_veh\": \"2r\", \"nbVeh\": 0.0}, {\"heure\": 5, \"type_veh\": \"pl\", \"nbVeh\": 1.0}, {\"heure\": 5, \"type_veh\": \"vl\", \"nbVeh\": 1.0}, {\"heure\": 6, \"type_veh\": \"2r\", \"nbVeh\": 0.0}, {\"heure\": 6, \"type_veh\": \"pl\", \"nbVeh\": 0.0}, {\"heure\": 6, \"type_veh\": \"vl\", \"nbVeh\": 1.0}, {\"heure\": 7, \"type_veh\": \"2r\", \"nbVeh\": 0.0}, {\"heure\": 7, \"type_veh\": \"pl\", \"nbVeh\": 0.0}, {\"heure\": 7, \"type_veh\": \"vl\", \"nbVeh\": 3.0}, {\"heure\": 8, \"type_veh\": \"2r\", \"nbVeh\": 0.0}, {\"heure\": 8, \"type_veh\": \"pl\", \"nbVeh\": 1.0}, {\"heure\": 8, \"type_veh\": \"vl\", \"nbVeh\": 6.0}, {\"heure\": 9, \"type_veh\": \"2r\", \"nbVeh\": 0.0}, {\"heure\": 9, \"type_veh\": \"pl\", \"nbVeh\": 1.0}, {\"heure\": 9, \"type_veh\": \"vl\", \"nbVeh\": 11.0}, {\"heure\": 10, \"type_veh\": \"2r\", \"nbVeh\": 0.0}, {\"heure\": 10, \"type_veh\": \"pl\", \"nbVeh\": 1.0}, {\"heure\": 10, \"type_veh\": \"vl\", \"nbVeh\": 21.0}, {\"heure\": 11, \"type_veh\": \"2r\", \"nbVeh\": 0.0}, {\"heure\": 11, \"type_veh\": \"pl\", \"nbVeh\": 2.0}, {\"heure\": 11, \"type_veh\": \"vl\", \"nbVeh\": 25.0}, {\"heure\": 12, \"type_veh\": \"2r\", \"nbVeh\": 0.0}, {\"heure\": 12, \"type_veh\": \"pl\", \"nbVeh\": 3.0}, {\"heure\": 12, \"type_veh\": \"vl\", \"nbVeh\": 29.0}, {\"heure\": 13, \"type_veh\": \"2r\", \"nbVeh\": 0.0}, {\"heure\": 13, \"type_veh\": \"pl\", \"nbVeh\": 2.0}, {\"heure\": 13, \"type_veh\": \"vl\", \"nbVeh\": 28.0}, {\"heure\": 14, \"type_veh\": \"2r\", \"nbVeh\": 0.0}, {\"heure\": 14, \"type_veh\": \"pl\", \"nbVeh\": 3.0}, {\"heure\": 14, \"type_veh\": \"vl\", \"nbVeh\": 29.0}, {\"heure\": 15, \"type_veh\": \"2r\", \"nbVeh\": 0.0}, {\"heure\": 15, \"type_veh\": \"pl\", \"nbVeh\": 2.0}, {\"heure\": 15, \"type_veh\": \"vl\", \"nbVeh\": 33.0}, {\"heure\": 16, \"type_veh\": \"2r\", \"nbVeh\": 0.0}, {\"heure\": 16, \"type_veh\": \"pl\", \"nbVeh\": 2.0}, {\"heure\": 16, \"type_veh\": \"vl\", \"nbVeh\": 29.0}, {\"heure\": 17, \"type_veh\": \"2r\", \"nbVeh\": 0.0}, {\"heure\": 17, \"type_veh\": \"pl\", \"nbVeh\": 2.0}, {\"heure\": 17, \"type_veh\": \"vl\", \"nbVeh\": 27.0}, {\"heure\": 18, \"type_veh\": \"2r\", \"nbVeh\": 0.0}, {\"heure\": 18, \"type_veh\": \"pl\", \"nbVeh\": 1.0}, {\"heure\": 18, \"type_veh\": \"vl\", \"nbVeh\": 25.0}, {\"heure\": 19, \"type_veh\": \"2r\", \"nbVeh\": 0.0}, {\"heure\": 19, \"type_veh\": \"pl\", \"nbVeh\": 1.0}, {\"heure\": 19, \"type_veh\": \"vl\", \"nbVeh\": 22.0}, {\"heure\": 20, \"type_veh\": \"2r\", \"nbVeh\": 0.0}, {\"heure\": 20, \"type_veh\": \"pl\", \"nbVeh\": 0.0}, {\"heure\": 20, \"type_veh\": \"vl\", \"nbVeh\": 13.0}, {\"heure\": 21, \"type_veh\": \"2r\", \"nbVeh\": 0.0}, {\"heure\": 21, \"type_veh\": \"pl\", \"nbVeh\": 0.0}, {\"heure\": 21, \"type_veh\": \"vl\", \"nbVeh\": 8.0}, {\"heure\": 22, \"type_veh\": \"2r\", \"nbVeh\": 0.0}, {\"heure\": 22, \"type_veh\": \"pl\", \"nbVeh\": 0.0}, {\"heure\": 22, \"type_veh\": \"vl\", \"nbVeh\": 4.0}, {\"heure\": 23, \"type_veh\": \"2r\", \"nbVeh\": 0.0}, {\"heure\": 23, \"type_veh\": \"pl\", \"nbVeh\": 0.0}, {\"heure\": 23, \"type_veh\": \"vl\", \"nbVeh\": 3.0}]}}, {\"mode\": \"vega-lite\"});\n",
       "</script>"
      ],
      "text/plain": [
       "alt.Chart(...)"
      ]
     },
     "execution_count": 266,
     "metadata": {},
     "output_type": "execute_result"
    }
   ],
   "source": [
    "graphHeureTypeSens1Mja"
   ]
  },
  {
   "cell_type": "code",
   "execution_count": 267,
   "metadata": {
    "collapsed": true,
    "jupyter": {
     "outputs_hidden": true
    }
   },
   "outputs": [
    {
     "data": {
      "text/html": [
       "\n",
       "<div id=\"altair-viz-e02b687e275e477baf6de85762720c9d\"></div>\n",
       "<script type=\"text/javascript\">\n",
       "  (function(spec, embedOpt){\n",
       "    let outputDiv = document.currentScript.previousElementSibling;\n",
       "    if (outputDiv.id !== \"altair-viz-e02b687e275e477baf6de85762720c9d\") {\n",
       "      outputDiv = document.getElementById(\"altair-viz-e02b687e275e477baf6de85762720c9d\");\n",
       "    }\n",
       "    const paths = {\n",
       "      \"vega\": \"https://cdn.jsdelivr.net/npm//vega@5?noext\",\n",
       "      \"vega-lib\": \"https://cdn.jsdelivr.net/npm//vega-lib?noext\",\n",
       "      \"vega-lite\": \"https://cdn.jsdelivr.net/npm//vega-lite@4.8.1?noext\",\n",
       "      \"vega-embed\": \"https://cdn.jsdelivr.net/npm//vega-embed@6?noext\",\n",
       "    };\n",
       "\n",
       "    function loadScript(lib) {\n",
       "      return new Promise(function(resolve, reject) {\n",
       "        var s = document.createElement('script');\n",
       "        s.src = paths[lib];\n",
       "        s.async = true;\n",
       "        s.onload = () => resolve(paths[lib]);\n",
       "        s.onerror = () => reject(`Error loading script: ${paths[lib]}`);\n",
       "        document.getElementsByTagName(\"head\")[0].appendChild(s);\n",
       "      });\n",
       "    }\n",
       "\n",
       "    function showError(err) {\n",
       "      outputDiv.innerHTML = `<div class=\"error\" style=\"color:red;\">${err}</div>`;\n",
       "      throw err;\n",
       "    }\n",
       "\n",
       "    function displayChart(vegaEmbed) {\n",
       "      vegaEmbed(outputDiv, spec, embedOpt)\n",
       "        .catch(err => showError(`Javascript Error: ${err.message}<br>This usually means there's a typo in your chart specification. See the javascript console for the full traceback.`));\n",
       "    }\n",
       "\n",
       "    if(typeof define === \"function\" && define.amd) {\n",
       "      requirejs.config({paths});\n",
       "      require([\"vega-embed\"], displayChart, err => showError(`Error loading script: ${err.message}`));\n",
       "    } else if (typeof vegaEmbed === \"function\") {\n",
       "      displayChart(vegaEmbed);\n",
       "    } else {\n",
       "      loadScript(\"vega\")\n",
       "        .then(() => loadScript(\"vega-lite\"))\n",
       "        .then(() => loadScript(\"vega-embed\"))\n",
       "        .catch(showError)\n",
       "        .then(() => displayChart(vegaEmbed));\n",
       "    }\n",
       "  })({\"config\": {\"view\": {\"continuousWidth\": 400, \"continuousHeight\": 300}}, \"data\": {\"name\": \"data-48a64eb9f1d9e981b32fab6c382be4b2\"}, \"mark\": \"line\", \"encoding\": {\"color\": {\"type\": \"nominal\", \"field\": \"type_veh\"}, \"x\": {\"type\": \"ordinal\", \"field\": \"heure\"}, \"y\": {\"type\": \"quantitative\", \"field\": \"nbVeh\"}}, \"$schema\": \"https://vega.github.io/schema/vega-lite/v4.8.1.json\", \"datasets\": {\"data-48a64eb9f1d9e981b32fab6c382be4b2\": [{\"heure\": 0, \"type_veh\": \"2r\", \"nbVeh\": 1.0}, {\"heure\": 0, \"type_veh\": \"pl\", \"nbVeh\": 3.0}, {\"heure\": 0, \"type_veh\": \"vl\", \"nbVeh\": 21.0}, {\"heure\": 1, \"type_veh\": \"2r\", \"nbVeh\": 0.0}, {\"heure\": 1, \"type_veh\": \"pl\", \"nbVeh\": 2.0}, {\"heure\": 1, \"type_veh\": \"vl\", \"nbVeh\": 9.0}, {\"heure\": 2, \"type_veh\": \"2r\", \"nbVeh\": 0.0}, {\"heure\": 2, \"type_veh\": \"pl\", \"nbVeh\": 2.0}, {\"heure\": 2, \"type_veh\": \"vl\", \"nbVeh\": 7.0}, {\"heure\": 3, \"type_veh\": \"2r\", \"nbVeh\": 0.0}, {\"heure\": 3, \"type_veh\": \"pl\", \"nbVeh\": 3.0}, {\"heure\": 3, \"type_veh\": \"vl\", \"nbVeh\": 7.0}, {\"heure\": 4, \"type_veh\": \"2r\", \"nbVeh\": 0.0}, {\"heure\": 4, \"type_veh\": \"pl\", \"nbVeh\": 3.0}, {\"heure\": 4, \"type_veh\": \"vl\", \"nbVeh\": 12.0}, {\"heure\": 5, \"type_veh\": \"2r\", \"nbVeh\": 1.0}, {\"heure\": 5, \"type_veh\": \"pl\", \"nbVeh\": 7.0}, {\"heure\": 5, \"type_veh\": \"vl\", \"nbVeh\": 25.0}, {\"heure\": 6, \"type_veh\": \"2r\", \"nbVeh\": 1.0}, {\"heure\": 6, \"type_veh\": \"pl\", \"nbVeh\": 9.0}, {\"heure\": 6, \"type_veh\": \"vl\", \"nbVeh\": 49.0}, {\"heure\": 7, \"type_veh\": \"2r\", \"nbVeh\": 3.0}, {\"heure\": 7, \"type_veh\": \"pl\", \"nbVeh\": 22.0}, {\"heure\": 7, \"type_veh\": \"vl\", \"nbVeh\": 114.0}, {\"heure\": 8, \"type_veh\": \"2r\", \"nbVeh\": 2.0}, {\"heure\": 8, \"type_veh\": \"pl\", \"nbVeh\": 20.0}, {\"heure\": 8, \"type_veh\": \"vl\", \"nbVeh\": 134.0}, {\"heure\": 9, \"type_veh\": \"2r\", \"nbVeh\": 2.0}, {\"heure\": 9, \"type_veh\": \"pl\", \"nbVeh\": 17.0}, {\"heure\": 9, \"type_veh\": \"vl\", \"nbVeh\": 151.0}, {\"heure\": 10, \"type_veh\": \"2r\", \"nbVeh\": 2.0}, {\"heure\": 10, \"type_veh\": \"pl\", \"nbVeh\": 22.0}, {\"heure\": 10, \"type_veh\": \"vl\", \"nbVeh\": 192.0}, {\"heure\": 11, \"type_veh\": \"2r\", \"nbVeh\": 2.0}, {\"heure\": 11, \"type_veh\": \"pl\", \"nbVeh\": 39.0}, {\"heure\": 11, \"type_veh\": \"vl\", \"nbVeh\": 215.0}, {\"heure\": 12, \"type_veh\": \"2r\", \"nbVeh\": 3.0}, {\"heure\": 12, \"type_veh\": \"pl\", \"nbVeh\": 34.0}, {\"heure\": 12, \"type_veh\": \"vl\", \"nbVeh\": 205.0}, {\"heure\": 13, \"type_veh\": \"2r\", \"nbVeh\": 2.0}, {\"heure\": 13, \"type_veh\": \"pl\", \"nbVeh\": 16.0}, {\"heure\": 13, \"type_veh\": \"vl\", \"nbVeh\": 167.0}, {\"heure\": 14, \"type_veh\": \"2r\", \"nbVeh\": 2.0}, {\"heure\": 14, \"type_veh\": \"pl\", \"nbVeh\": 19.0}, {\"heure\": 14, \"type_veh\": \"vl\", \"nbVeh\": 176.0}, {\"heure\": 15, \"type_veh\": \"2r\", \"nbVeh\": 3.0}, {\"heure\": 15, \"type_veh\": \"pl\", \"nbVeh\": 23.0}, {\"heure\": 15, \"type_veh\": \"vl\", \"nbVeh\": 205.0}, {\"heure\": 16, \"type_veh\": \"2r\", \"nbVeh\": 3.0}, {\"heure\": 16, \"type_veh\": \"pl\", \"nbVeh\": 22.0}, {\"heure\": 16, \"type_veh\": \"vl\", \"nbVeh\": 246.0}, {\"heure\": 17, \"type_veh\": \"2r\", \"nbVeh\": 3.0}, {\"heure\": 17, \"type_veh\": \"pl\", \"nbVeh\": 17.0}, {\"heure\": 17, \"type_veh\": \"vl\", \"nbVeh\": 276.0}, {\"heure\": 18, \"type_veh\": \"2r\", \"nbVeh\": 2.0}, {\"heure\": 18, \"type_veh\": \"pl\", \"nbVeh\": 14.0}, {\"heure\": 18, \"type_veh\": \"vl\", \"nbVeh\": 245.0}, {\"heure\": 19, \"type_veh\": \"2r\", \"nbVeh\": 2.0}, {\"heure\": 19, \"type_veh\": \"pl\", \"nbVeh\": 10.0}, {\"heure\": 19, \"type_veh\": \"vl\", \"nbVeh\": 177.0}, {\"heure\": 20, \"type_veh\": \"2r\", \"nbVeh\": 0.0}, {\"heure\": 20, \"type_veh\": \"pl\", \"nbVeh\": 5.0}, {\"heure\": 20, \"type_veh\": \"vl\", \"nbVeh\": 94.0}, {\"heure\": 21, \"type_veh\": \"2r\", \"nbVeh\": 0.0}, {\"heure\": 21, \"type_veh\": \"pl\", \"nbVeh\": 3.0}, {\"heure\": 21, \"type_veh\": \"vl\", \"nbVeh\": 58.0}, {\"heure\": 22, \"type_veh\": \"2r\", \"nbVeh\": 0.0}, {\"heure\": 22, \"type_veh\": \"pl\", \"nbVeh\": 2.0}, {\"heure\": 22, \"type_veh\": \"vl\", \"nbVeh\": 51.0}, {\"heure\": 23, \"type_veh\": \"2r\", \"nbVeh\": 0.0}, {\"heure\": 23, \"type_veh\": \"pl\", \"nbVeh\": 1.0}, {\"heure\": 23, \"type_veh\": \"vl\", \"nbVeh\": 40.0}]}}, {\"mode\": \"vega-lite\"});\n",
       "</script>"
      ],
      "text/plain": [
       "alt.Chart(...)"
      ]
     },
     "execution_count": 267,
     "metadata": {},
     "output_type": "execute_result"
    }
   ],
   "source": [
    "graphHeureTypeSens2Mja"
   ]
  },
  {
   "cell_type": "code",
   "execution_count": 268,
   "metadata": {
    "collapsed": true,
    "jupyter": {
     "outputs_hidden": true
    }
   },
   "outputs": [
    {
     "data": {
      "text/html": [
       "\n",
       "<div id=\"altair-viz-4655d2fdef2546af8be19e8d8122d0f6\"></div>\n",
       "<script type=\"text/javascript\">\n",
       "  (function(spec, embedOpt){\n",
       "    let outputDiv = document.currentScript.previousElementSibling;\n",
       "    if (outputDiv.id !== \"altair-viz-4655d2fdef2546af8be19e8d8122d0f6\") {\n",
       "      outputDiv = document.getElementById(\"altair-viz-4655d2fdef2546af8be19e8d8122d0f6\");\n",
       "    }\n",
       "    const paths = {\n",
       "      \"vega\": \"https://cdn.jsdelivr.net/npm//vega@5?noext\",\n",
       "      \"vega-lib\": \"https://cdn.jsdelivr.net/npm//vega-lib?noext\",\n",
       "      \"vega-lite\": \"https://cdn.jsdelivr.net/npm//vega-lite@4.8.1?noext\",\n",
       "      \"vega-embed\": \"https://cdn.jsdelivr.net/npm//vega-embed@6?noext\",\n",
       "    };\n",
       "\n",
       "    function loadScript(lib) {\n",
       "      return new Promise(function(resolve, reject) {\n",
       "        var s = document.createElement('script');\n",
       "        s.src = paths[lib];\n",
       "        s.async = true;\n",
       "        s.onload = () => resolve(paths[lib]);\n",
       "        s.onerror = () => reject(`Error loading script: ${paths[lib]}`);\n",
       "        document.getElementsByTagName(\"head\")[0].appendChild(s);\n",
       "      });\n",
       "    }\n",
       "\n",
       "    function showError(err) {\n",
       "      outputDiv.innerHTML = `<div class=\"error\" style=\"color:red;\">${err}</div>`;\n",
       "      throw err;\n",
       "    }\n",
       "\n",
       "    function displayChart(vegaEmbed) {\n",
       "      vegaEmbed(outputDiv, spec, embedOpt)\n",
       "        .catch(err => showError(`Javascript Error: ${err.message}<br>This usually means there's a typo in your chart specification. See the javascript console for the full traceback.`));\n",
       "    }\n",
       "\n",
       "    if(typeof define === \"function\" && define.amd) {\n",
       "      requirejs.config({paths});\n",
       "      require([\"vega-embed\"], displayChart, err => showError(`Error loading script: ${err.message}`));\n",
       "    } else if (typeof vegaEmbed === \"function\") {\n",
       "      displayChart(vegaEmbed);\n",
       "    } else {\n",
       "      loadScript(\"vega\")\n",
       "        .then(() => loadScript(\"vega-lite\"))\n",
       "        .then(() => loadScript(\"vega-embed\"))\n",
       "        .catch(showError)\n",
       "        .then(() => displayChart(vegaEmbed));\n",
       "    }\n",
       "  })({\"config\": {\"view\": {\"continuousWidth\": 400, \"continuousHeight\": 300}}, \"data\": {\"name\": \"data-369f30ca4d8a0ea5c3f4e6a4fe954a34\"}, \"mark\": \"line\", \"encoding\": {\"color\": {\"type\": \"nominal\", \"field\": \"type_veh\"}, \"x\": {\"type\": \"ordinal\", \"field\": \"heure\"}, \"y\": {\"type\": \"quantitative\", \"field\": \"nbVeh\"}}, \"$schema\": \"https://vega.github.io/schema/vega-lite/v4.8.1.json\", \"datasets\": {\"data-369f30ca4d8a0ea5c3f4e6a4fe954a34\": [{\"heure\": 0, \"type_veh\": \"2r\", \"nbVeh\": 0.0}, {\"heure\": 0, \"type_veh\": \"pl\", \"nbVeh\": 0.0}, {\"heure\": 0, \"type_veh\": \"vl\", \"nbVeh\": 1.0}, {\"heure\": 1, \"type_veh\": \"2r\", \"nbVeh\": 0.0}, {\"heure\": 1, \"type_veh\": \"pl\", \"nbVeh\": 0.0}, {\"heure\": 1, \"type_veh\": \"vl\", \"nbVeh\": 1.0}, {\"heure\": 2, \"type_veh\": \"2r\", \"nbVeh\": 0.0}, {\"heure\": 2, \"type_veh\": \"pl\", \"nbVeh\": 0.0}, {\"heure\": 2, \"type_veh\": \"vl\", \"nbVeh\": 1.0}, {\"heure\": 3, \"type_veh\": \"2r\", \"nbVeh\": 0.0}, {\"heure\": 3, \"type_veh\": \"pl\", \"nbVeh\": 0.0}, {\"heure\": 3, \"type_veh\": \"vl\", \"nbVeh\": 0.0}, {\"heure\": 4, \"type_veh\": \"2r\", \"nbVeh\": 0.0}, {\"heure\": 4, \"type_veh\": \"pl\", \"nbVeh\": 0.0}, {\"heure\": 4, \"type_veh\": \"vl\", \"nbVeh\": 0.0}, {\"heure\": 5, \"type_veh\": \"2r\", \"nbVeh\": 0.0}, {\"heure\": 5, \"type_veh\": \"pl\", \"nbVeh\": 1.0}, {\"heure\": 5, \"type_veh\": \"vl\", \"nbVeh\": 1.0}, {\"heure\": 6, \"type_veh\": \"2r\", \"nbVeh\": 0.0}, {\"heure\": 6, \"type_veh\": \"pl\", \"nbVeh\": 0.0}, {\"heure\": 6, \"type_veh\": \"vl\", \"nbVeh\": 1.0}, {\"heure\": 7, \"type_veh\": \"2r\", \"nbVeh\": 0.0}, {\"heure\": 7, \"type_veh\": \"pl\", \"nbVeh\": 0.0}, {\"heure\": 7, \"type_veh\": \"vl\", \"nbVeh\": 2.0}, {\"heure\": 8, \"type_veh\": \"2r\", \"nbVeh\": 0.0}, {\"heure\": 8, \"type_veh\": \"pl\", \"nbVeh\": 1.0}, {\"heure\": 8, \"type_veh\": \"vl\", \"nbVeh\": 6.0}, {\"heure\": 9, \"type_veh\": \"2r\", \"nbVeh\": 0.0}, {\"heure\": 9, \"type_veh\": \"pl\", \"nbVeh\": 1.0}, {\"heure\": 9, \"type_veh\": \"vl\", \"nbVeh\": 7.0}, {\"heure\": 10, \"type_veh\": \"2r\", \"nbVeh\": 0.0}, {\"heure\": 10, \"type_veh\": \"pl\", \"nbVeh\": 1.0}, {\"heure\": 10, \"type_veh\": \"vl\", \"nbVeh\": 9.0}, {\"heure\": 11, \"type_veh\": \"2r\", \"nbVeh\": 0.0}, {\"heure\": 11, \"type_veh\": \"pl\", \"nbVeh\": 2.0}, {\"heure\": 11, \"type_veh\": \"vl\", \"nbVeh\": 15.0}, {\"heure\": 12, \"type_veh\": \"2r\", \"nbVeh\": 0.0}, {\"heure\": 12, \"type_veh\": \"pl\", \"nbVeh\": 3.0}, {\"heure\": 12, \"type_veh\": \"vl\", \"nbVeh\": 16.0}, {\"heure\": 13, \"type_veh\": \"2r\", \"nbVeh\": 0.0}, {\"heure\": 13, \"type_veh\": \"pl\", \"nbVeh\": 2.0}, {\"heure\": 13, \"type_veh\": \"vl\", \"nbVeh\": 18.0}, {\"heure\": 14, \"type_veh\": \"2r\", \"nbVeh\": 0.0}, {\"heure\": 14, \"type_veh\": \"pl\", \"nbVeh\": 4.0}, {\"heure\": 14, \"type_veh\": \"vl\", \"nbVeh\": 22.0}, {\"heure\": 15, \"type_veh\": \"2r\", \"nbVeh\": 0.0}, {\"heure\": 15, \"type_veh\": \"pl\", \"nbVeh\": 2.0}, {\"heure\": 15, \"type_veh\": \"vl\", \"nbVeh\": 29.0}, {\"heure\": 16, \"type_veh\": \"2r\", \"nbVeh\": 0.0}, {\"heure\": 16, \"type_veh\": \"pl\", \"nbVeh\": 2.0}, {\"heure\": 16, \"type_veh\": \"vl\", \"nbVeh\": 23.0}, {\"heure\": 17, \"type_veh\": \"2r\", \"nbVeh\": 0.0}, {\"heure\": 17, \"type_veh\": \"pl\", \"nbVeh\": 2.0}, {\"heure\": 17, \"type_veh\": \"vl\", \"nbVeh\": 22.0}, {\"heure\": 18, \"type_veh\": \"2r\", \"nbVeh\": 0.0}, {\"heure\": 18, \"type_veh\": \"pl\", \"nbVeh\": 1.0}, {\"heure\": 18, \"type_veh\": \"vl\", \"nbVeh\": 24.0}, {\"heure\": 19, \"type_veh\": \"2r\", \"nbVeh\": 0.0}, {\"heure\": 19, \"type_veh\": \"pl\", \"nbVeh\": 1.0}, {\"heure\": 19, \"type_veh\": \"vl\", \"nbVeh\": 17.0}, {\"heure\": 20, \"type_veh\": \"2r\", \"nbVeh\": 0.0}, {\"heure\": 20, \"type_veh\": \"pl\", \"nbVeh\": 0.0}, {\"heure\": 20, \"type_veh\": \"vl\", \"nbVeh\": 11.0}, {\"heure\": 21, \"type_veh\": \"2r\", \"nbVeh\": 0.0}, {\"heure\": 21, \"type_veh\": \"pl\", \"nbVeh\": 0.0}, {\"heure\": 21, \"type_veh\": \"vl\", \"nbVeh\": 6.0}, {\"heure\": 22, \"type_veh\": \"2r\", \"nbVeh\": 0.0}, {\"heure\": 22, \"type_veh\": \"pl\", \"nbVeh\": 0.0}, {\"heure\": 22, \"type_veh\": \"vl\", \"nbVeh\": 3.0}, {\"heure\": 23, \"type_veh\": \"2r\", \"nbVeh\": 0.0}, {\"heure\": 23, \"type_veh\": \"pl\", \"nbVeh\": 0.0}, {\"heure\": 23, \"type_veh\": \"vl\", \"nbVeh\": 2.0}]}}, {\"mode\": \"vega-lite\"});\n",
       "</script>"
      ],
      "text/plain": [
       "alt.Chart(...)"
      ]
     },
     "execution_count": 268,
     "metadata": {},
     "output_type": "execute_result"
    }
   ],
   "source": [
    "graphHeureTypeSens1Mjo"
   ]
  },
  {
   "cell_type": "code",
   "execution_count": 269,
   "metadata": {
    "collapsed": true,
    "jupyter": {
     "outputs_hidden": true
    }
   },
   "outputs": [
    {
     "data": {
      "text/html": [
       "\n",
       "<div id=\"altair-viz-ff9a0bcf96f944f09441bd57e1349f7e\"></div>\n",
       "<script type=\"text/javascript\">\n",
       "  (function(spec, embedOpt){\n",
       "    let outputDiv = document.currentScript.previousElementSibling;\n",
       "    if (outputDiv.id !== \"altair-viz-ff9a0bcf96f944f09441bd57e1349f7e\") {\n",
       "      outputDiv = document.getElementById(\"altair-viz-ff9a0bcf96f944f09441bd57e1349f7e\");\n",
       "    }\n",
       "    const paths = {\n",
       "      \"vega\": \"https://cdn.jsdelivr.net/npm//vega@5?noext\",\n",
       "      \"vega-lib\": \"https://cdn.jsdelivr.net/npm//vega-lib?noext\",\n",
       "      \"vega-lite\": \"https://cdn.jsdelivr.net/npm//vega-lite@4.8.1?noext\",\n",
       "      \"vega-embed\": \"https://cdn.jsdelivr.net/npm//vega-embed@6?noext\",\n",
       "    };\n",
       "\n",
       "    function loadScript(lib) {\n",
       "      return new Promise(function(resolve, reject) {\n",
       "        var s = document.createElement('script');\n",
       "        s.src = paths[lib];\n",
       "        s.async = true;\n",
       "        s.onload = () => resolve(paths[lib]);\n",
       "        s.onerror = () => reject(`Error loading script: ${paths[lib]}`);\n",
       "        document.getElementsByTagName(\"head\")[0].appendChild(s);\n",
       "      });\n",
       "    }\n",
       "\n",
       "    function showError(err) {\n",
       "      outputDiv.innerHTML = `<div class=\"error\" style=\"color:red;\">${err}</div>`;\n",
       "      throw err;\n",
       "    }\n",
       "\n",
       "    function displayChart(vegaEmbed) {\n",
       "      vegaEmbed(outputDiv, spec, embedOpt)\n",
       "        .catch(err => showError(`Javascript Error: ${err.message}<br>This usually means there's a typo in your chart specification. See the javascript console for the full traceback.`));\n",
       "    }\n",
       "\n",
       "    if(typeof define === \"function\" && define.amd) {\n",
       "      requirejs.config({paths});\n",
       "      require([\"vega-embed\"], displayChart, err => showError(`Error loading script: ${err.message}`));\n",
       "    } else if (typeof vegaEmbed === \"function\") {\n",
       "      displayChart(vegaEmbed);\n",
       "    } else {\n",
       "      loadScript(\"vega\")\n",
       "        .then(() => loadScript(\"vega-lite\"))\n",
       "        .then(() => loadScript(\"vega-embed\"))\n",
       "        .catch(showError)\n",
       "        .then(() => displayChart(vegaEmbed));\n",
       "    }\n",
       "  })({\"config\": {\"view\": {\"continuousWidth\": 400, \"continuousHeight\": 300}}, \"data\": {\"name\": \"data-2c5e2dcc3c9fbd955ec4d11627c88bfc\"}, \"mark\": \"line\", \"encoding\": {\"color\": {\"type\": \"nominal\", \"field\": \"type_veh\"}, \"x\": {\"type\": \"ordinal\", \"field\": \"heure\"}, \"y\": {\"type\": \"quantitative\", \"field\": \"nbVeh\"}}, \"$schema\": \"https://vega.github.io/schema/vega-lite/v4.8.1.json\", \"datasets\": {\"data-2c5e2dcc3c9fbd955ec4d11627c88bfc\": [{\"heure\": 0, \"type_veh\": \"2r\", \"nbVeh\": 0.0}, {\"heure\": 0, \"type_veh\": \"pl\", \"nbVeh\": 2.0}, {\"heure\": 0, \"type_veh\": \"vl\", \"nbVeh\": 15.0}, {\"heure\": 1, \"type_veh\": \"2r\", \"nbVeh\": 0.0}, {\"heure\": 1, \"type_veh\": \"pl\", \"nbVeh\": 2.0}, {\"heure\": 1, \"type_veh\": \"vl\", \"nbVeh\": 6.0}, {\"heure\": 2, \"type_veh\": \"2r\", \"nbVeh\": 0.0}, {\"heure\": 2, \"type_veh\": \"pl\", \"nbVeh\": 2.0}, {\"heure\": 2, \"type_veh\": \"vl\", \"nbVeh\": 4.0}, {\"heure\": 3, \"type_veh\": \"2r\", \"nbVeh\": 0.0}, {\"heure\": 3, \"type_veh\": \"pl\", \"nbVeh\": 3.0}, {\"heure\": 3, \"type_veh\": \"vl\", \"nbVeh\": 4.0}, {\"heure\": 4, \"type_veh\": \"2r\", \"nbVeh\": 0.0}, {\"heure\": 4, \"type_veh\": \"pl\", \"nbVeh\": 2.0}, {\"heure\": 4, \"type_veh\": \"vl\", \"nbVeh\": 11.0}, {\"heure\": 5, \"type_veh\": \"2r\", \"nbVeh\": 0.0}, {\"heure\": 5, \"type_veh\": \"pl\", \"nbVeh\": 7.0}, {\"heure\": 5, \"type_veh\": \"vl\", \"nbVeh\": 22.0}, {\"heure\": 6, \"type_veh\": \"2r\", \"nbVeh\": 0.0}, {\"heure\": 6, \"type_veh\": \"pl\", \"nbVeh\": 9.0}, {\"heure\": 6, \"type_veh\": \"vl\", \"nbVeh\": 50.0}, {\"heure\": 7, \"type_veh\": \"2r\", \"nbVeh\": 3.0}, {\"heure\": 7, \"type_veh\": \"pl\", \"nbVeh\": 23.0}, {\"heure\": 7, \"type_veh\": \"vl\", \"nbVeh\": 122.0}, {\"heure\": 8, \"type_veh\": \"2r\", \"nbVeh\": 3.0}, {\"heure\": 8, \"type_veh\": \"pl\", \"nbVeh\": 22.0}, {\"heure\": 8, \"type_veh\": \"vl\", \"nbVeh\": 133.0}, {\"heure\": 9, \"type_veh\": \"2r\", \"nbVeh\": 1.0}, {\"heure\": 9, \"type_veh\": \"pl\", \"nbVeh\": 18.0}, {\"heure\": 9, \"type_veh\": \"vl\", \"nbVeh\": 130.0}, {\"heure\": 10, \"type_veh\": \"2r\", \"nbVeh\": 2.0}, {\"heure\": 10, \"type_veh\": \"pl\", \"nbVeh\": 25.0}, {\"heure\": 10, \"type_veh\": \"vl\", \"nbVeh\": 162.0}, {\"heure\": 11, \"type_veh\": \"2r\", \"nbVeh\": 2.0}, {\"heure\": 11, \"type_veh\": \"pl\", \"nbVeh\": 42.0}, {\"heure\": 11, \"type_veh\": \"vl\", \"nbVeh\": 179.0}, {\"heure\": 12, \"type_veh\": \"2r\", \"nbVeh\": 3.0}, {\"heure\": 12, \"type_veh\": \"pl\", \"nbVeh\": 38.0}, {\"heure\": 12, \"type_veh\": \"vl\", \"nbVeh\": 175.0}, {\"heure\": 13, \"type_veh\": \"2r\", \"nbVeh\": 2.0}, {\"heure\": 13, \"type_veh\": \"pl\", \"nbVeh\": 17.0}, {\"heure\": 13, \"type_veh\": \"vl\", \"nbVeh\": 145.0}, {\"heure\": 14, \"type_veh\": \"2r\", \"nbVeh\": 2.0}, {\"heure\": 14, \"type_veh\": \"pl\", \"nbVeh\": 22.0}, {\"heure\": 14, \"type_veh\": \"vl\", \"nbVeh\": 156.0}, {\"heure\": 15, \"type_veh\": \"2r\", \"nbVeh\": 3.0}, {\"heure\": 15, \"type_veh\": \"pl\", \"nbVeh\": 24.0}, {\"heure\": 15, \"type_veh\": \"vl\", \"nbVeh\": 181.0}, {\"heure\": 16, \"type_veh\": \"2r\", \"nbVeh\": 2.0}, {\"heure\": 16, \"type_veh\": \"pl\", \"nbVeh\": 25.0}, {\"heure\": 16, \"type_veh\": \"vl\", \"nbVeh\": 216.0}, {\"heure\": 17, \"type_veh\": \"2r\", \"nbVeh\": 3.0}, {\"heure\": 17, \"type_veh\": \"pl\", \"nbVeh\": 19.0}, {\"heure\": 17, \"type_veh\": \"vl\", \"nbVeh\": 248.0}, {\"heure\": 18, \"type_veh\": \"2r\", \"nbVeh\": 2.0}, {\"heure\": 18, \"type_veh\": \"pl\", \"nbVeh\": 14.0}, {\"heure\": 18, \"type_veh\": \"vl\", \"nbVeh\": 210.0}, {\"heure\": 19, \"type_veh\": \"2r\", \"nbVeh\": 2.0}, {\"heure\": 19, \"type_veh\": \"pl\", \"nbVeh\": 9.0}, {\"heure\": 19, \"type_veh\": \"vl\", \"nbVeh\": 148.0}, {\"heure\": 20, \"type_veh\": \"2r\", \"nbVeh\": 0.0}, {\"heure\": 20, \"type_veh\": \"pl\", \"nbVeh\": 5.0}, {\"heure\": 20, \"type_veh\": \"vl\", \"nbVeh\": 76.0}, {\"heure\": 21, \"type_veh\": \"2r\", \"nbVeh\": 0.0}, {\"heure\": 21, \"type_veh\": \"pl\", \"nbVeh\": 2.0}, {\"heure\": 21, \"type_veh\": \"vl\", \"nbVeh\": 47.0}, {\"heure\": 22, \"type_veh\": \"2r\", \"nbVeh\": 0.0}, {\"heure\": 22, \"type_veh\": \"pl\", \"nbVeh\": 1.0}, {\"heure\": 22, \"type_veh\": \"vl\", \"nbVeh\": 41.0}, {\"heure\": 23, \"type_veh\": \"2r\", \"nbVeh\": 0.0}, {\"heure\": 23, \"type_veh\": \"pl\", \"nbVeh\": 1.0}, {\"heure\": 23, \"type_veh\": \"vl\", \"nbVeh\": 28.0}]}}, {\"mode\": \"vega-lite\"});\n",
       "</script>"
      ],
      "text/plain": [
       "alt.Chart(...)"
      ]
     },
     "execution_count": 269,
     "metadata": {},
     "output_type": "execute_result"
    }
   ],
   "source": [
    "graphHeureTypeSens2Mjo "
   ]
  },
  {
   "cell_type": "code",
   "execution_count": 275,
   "metadata": {},
   "outputs": [],
   "source": [
    "#export données 2R TMJA\n",
    "dfMoyenneHeureTypeSensMja.loc[dfMoyenneHeureTypeSensMja.type_veh=='2r'].sort_values(['sens','heure']).to_csv(r'Q:\\DAIT\\TI\\CA_Angouleme\\2020\\C20SA00-09-10-11_Comptage_linearisation_Angouleme\\Doc_travail\\Donnees_produites\\Donnees\\exemple2roues\\test2rouesMja.csv')"
   ]
  },
  {
   "cell_type": "code",
   "execution_count": 276,
   "metadata": {},
   "outputs": [],
   "source": [
    "#export données 2R TMJO\n",
    "dfMoyenneHeureTypeSensMjo.loc[dfMoyenneHeureTypeSensMjo.type_veh=='2r'].sort_values(['sens','heure']).to_csv(r'Q:\\DAIT\\TI\\CA_Angouleme\\2020\\C20SA00-09-10-11_Comptage_linearisation_Angouleme\\Doc_travail\\Donnees_produites\\Donnees\\exemple2roues\\test2rouesMjo.csv')"
   ]
  },
  {
   "cell_type": "markdown",
   "metadata": {},
   "source": [
    "# 1. Données individuelles viking\n",
    "ces données sont des fichiers excels, sans aucune référence interne au compteur. A chaque véhicule correspond une ligne avec les atributs descroiptifs"
   ]
  },
  {
   "cell_type": "code",
   "execution_count": 316,
   "metadata": {},
   "outputs": [],
   "source": [
    "fichier1Sens=pd.read_csv(r'P:\\DAIT\\TI\\Donnees\\1-ROUTIER\\1 - Aquitaine\\64 - Pyrénées-Atlantiques\\2020\\Biriatou\\7_Juillet\\Radars\\Brut\\rad_S1.VIK',delimiter=' ',\n",
    "                         skiprows=1, names=['sens', 'jour', 'heureMin','secCent', 'vts', 'ser', 'type_veh'],dtype={'heureMin':str,'secCent':str})"
   ]
  },
  {
   "cell_type": "code",
   "execution_count": 317,
   "metadata": {},
   "outputs": [],
   "source": [
    "with open(r'P:\\DAIT\\TI\\Donnees\\1-ROUTIER\\1 - Aquitaine\\64 - Pyrénées-Atlantiques\\2020\\Biriatou\\7_Juillet\\Radars\\Brut\\rad_S1.VIK') as f :\n",
    "    entete=[e.strip() for e in f.readlines()][0]"
   ]
  },
  {
   "cell_type": "code",
   "execution_count": 318,
   "metadata": {},
   "outputs": [],
   "source": [
    "anneeDeb,moisDeb,jourDeb=(entete.split('.')[i].strip() for i in range(5,8))\n",
    "date_debut=pd.to_datetime(f'20{annee}-{mois}-{jour}')"
   ]
  },
  {
   "cell_type": "code",
   "execution_count": 321,
   "metadata": {},
   "outputs": [],
   "source": [
    "def creer_date(jourDeb,moisDeb,anneeDeb, jourMesure,heureMin,secCent) : \n",
    "    \"\"\"\n",
    "    creer la date d'acquisition. Attention : si comptage sur un mois entier ça ne marche pas\n",
    "    \"\"\"\n",
    "    if jourMesure<int(jourDeb) : \n",
    "        moisDeb=str(int(moisDeb)+1)\n",
    "    return pd.to_datetime(f'20{anneeDeb}-{moisDeb}-{jourMesure} {str(heureMin)[:2]}:{str(heureMin)[2:]}:{str(secCent)[:2]}.{str(secCent)[2:]}')\n",
    "fichier1Sens['date_heure']=fichier1Sens.apply(lambda x : creer_date(jourDeb,moisDeb,anneeDeb, x['jour'],x['heureMin'],x['secCent']), axis=1)"
   ]
  },
  {
   "cell_type": "code",
   "execution_count": 322,
   "metadata": {},
   "outputs": [
    {
     "data": {
      "text/html": [
       "<div>\n",
       "<style scoped>\n",
       "    .dataframe tbody tr th:only-of-type {\n",
       "        vertical-align: middle;\n",
       "    }\n",
       "\n",
       "    .dataframe tbody tr th {\n",
       "        vertical-align: top;\n",
       "    }\n",
       "\n",
       "    .dataframe thead th {\n",
       "        text-align: right;\n",
       "    }\n",
       "</style>\n",
       "<table border=\"1\" class=\"dataframe\">\n",
       "  <thead>\n",
       "    <tr style=\"text-align: right;\">\n",
       "      <th></th>\n",
       "      <th>sens</th>\n",
       "      <th>jour</th>\n",
       "      <th>heureMin</th>\n",
       "      <th>secCent</th>\n",
       "      <th>vts</th>\n",
       "      <th>ser</th>\n",
       "      <th>type_veh</th>\n",
       "      <th>date_heure</th>\n",
       "    </tr>\n",
       "  </thead>\n",
       "  <tbody>\n",
       "    <tr>\n",
       "      <th>0</th>\n",
       "      <td>1</td>\n",
       "      <td>8</td>\n",
       "      <td>1240</td>\n",
       "      <td>5764</td>\n",
       "      <td>V=035</td>\n",
       "      <td>S=0743</td>\n",
       "      <td>VL</td>\n",
       "      <td>2020-07-08 12:40:57.640</td>\n",
       "    </tr>\n",
       "    <tr>\n",
       "      <th>1</th>\n",
       "      <td>1</td>\n",
       "      <td>8</td>\n",
       "      <td>1244</td>\n",
       "      <td>4147</td>\n",
       "      <td>V=037</td>\n",
       "      <td>S=0700</td>\n",
       "      <td>VL</td>\n",
       "      <td>2020-07-08 12:44:41.470</td>\n",
       "    </tr>\n",
       "    <tr>\n",
       "      <th>2</th>\n",
       "      <td>1</td>\n",
       "      <td>8</td>\n",
       "      <td>1246</td>\n",
       "      <td>2915</td>\n",
       "      <td>V=036</td>\n",
       "      <td>S=0619</td>\n",
       "      <td>VL</td>\n",
       "      <td>2020-07-08 12:46:29.150</td>\n",
       "    </tr>\n",
       "    <tr>\n",
       "      <th>3</th>\n",
       "      <td>1</td>\n",
       "      <td>8</td>\n",
       "      <td>1247</td>\n",
       "      <td>1528</td>\n",
       "      <td>V=040</td>\n",
       "      <td>S=0768</td>\n",
       "      <td>VL</td>\n",
       "      <td>2020-07-08 12:47:15.280</td>\n",
       "    </tr>\n",
       "    <tr>\n",
       "      <th>4</th>\n",
       "      <td>1</td>\n",
       "      <td>8</td>\n",
       "      <td>1247</td>\n",
       "      <td>2937</td>\n",
       "      <td>V=039</td>\n",
       "      <td>S=0735</td>\n",
       "      <td>VL</td>\n",
       "      <td>2020-07-08 12:47:29.370</td>\n",
       "    </tr>\n",
       "    <tr>\n",
       "      <th>...</th>\n",
       "      <td>...</td>\n",
       "      <td>...</td>\n",
       "      <td>...</td>\n",
       "      <td>...</td>\n",
       "      <td>...</td>\n",
       "      <td>...</td>\n",
       "      <td>...</td>\n",
       "      <td>...</td>\n",
       "    </tr>\n",
       "    <tr>\n",
       "      <th>7681</th>\n",
       "      <td>1</td>\n",
       "      <td>23</td>\n",
       "      <td>1415</td>\n",
       "      <td>0307</td>\n",
       "      <td>V=032</td>\n",
       "      <td>S=0582</td>\n",
       "      <td>VL</td>\n",
       "      <td>2020-07-23 14:15:03.070</td>\n",
       "    </tr>\n",
       "    <tr>\n",
       "      <th>7682</th>\n",
       "      <td>1</td>\n",
       "      <td>23</td>\n",
       "      <td>1415</td>\n",
       "      <td>1605</td>\n",
       "      <td>V=039</td>\n",
       "      <td>S=0600</td>\n",
       "      <td>VL</td>\n",
       "      <td>2020-07-23 14:15:16.050</td>\n",
       "    </tr>\n",
       "    <tr>\n",
       "      <th>7683</th>\n",
       "      <td>1</td>\n",
       "      <td>23</td>\n",
       "      <td>1415</td>\n",
       "      <td>1846</td>\n",
       "      <td>V=037</td>\n",
       "      <td>S=0531</td>\n",
       "      <td>VL</td>\n",
       "      <td>2020-07-23 14:15:18.460</td>\n",
       "    </tr>\n",
       "    <tr>\n",
       "      <th>7684</th>\n",
       "      <td>1</td>\n",
       "      <td>23</td>\n",
       "      <td>1416</td>\n",
       "      <td>4365</td>\n",
       "      <td>V=036</td>\n",
       "      <td>S=0707</td>\n",
       "      <td>VL</td>\n",
       "      <td>2020-07-23 14:16:43.650</td>\n",
       "    </tr>\n",
       "    <tr>\n",
       "      <th>7685</th>\n",
       "      <td>1</td>\n",
       "      <td>23</td>\n",
       "      <td>1417</td>\n",
       "      <td>5643</td>\n",
       "      <td>V=034</td>\n",
       "      <td>S=0618</td>\n",
       "      <td>VL</td>\n",
       "      <td>2020-07-23 14:17:56.430</td>\n",
       "    </tr>\n",
       "  </tbody>\n",
       "</table>\n",
       "<p>7686 rows × 8 columns</p>\n",
       "</div>"
      ],
      "text/plain": [
       "      sens  jour heureMin secCent    vts     ser type_veh  \\\n",
       "0        1     8     1240    5764  V=035  S=0743       VL   \n",
       "1        1     8     1244    4147  V=037  S=0700       VL   \n",
       "2        1     8     1246    2915  V=036  S=0619       VL   \n",
       "3        1     8     1247    1528  V=040  S=0768       VL   \n",
       "4        1     8     1247    2937  V=039  S=0735       VL   \n",
       "...    ...   ...      ...     ...    ...     ...      ...   \n",
       "7681     1    23     1415    0307  V=032  S=0582       VL   \n",
       "7682     1    23     1415    1605  V=039  S=0600       VL   \n",
       "7683     1    23     1415    1846  V=037  S=0531       VL   \n",
       "7684     1    23     1416    4365  V=036  S=0707       VL   \n",
       "7685     1    23     1417    5643  V=034  S=0618       VL   \n",
       "\n",
       "                  date_heure  \n",
       "0    2020-07-08 12:40:57.640  \n",
       "1    2020-07-08 12:44:41.470  \n",
       "2    2020-07-08 12:46:29.150  \n",
       "3    2020-07-08 12:47:15.280  \n",
       "4    2020-07-08 12:47:29.370  \n",
       "...                      ...  \n",
       "7681 2020-07-23 14:15:03.070  \n",
       "7682 2020-07-23 14:15:16.050  \n",
       "7683 2020-07-23 14:15:18.460  \n",
       "7684 2020-07-23 14:16:43.650  \n",
       "7685 2020-07-23 14:17:56.430  \n",
       "\n",
       "[7686 rows x 8 columns]"
      ]
     },
     "execution_count": 322,
     "metadata": {},
     "output_type": "execute_result"
    }
   ],
   "source": [
    "fichier1Sens"
   ]
  },
  {
   "cell_type": "code",
   "execution_count": 334,
   "metadata": {},
   "outputs": [],
   "source": [
    "vik=di.Viking(r'P:\\DAIT\\TI\\Donnees\\1-ROUTIER\\1 - Aquitaine\\64 - Pyrénées-Atlantiques\\2020\\Biriatou\\7_Juillet\\Radars\\Brut\\rad_S1.VIK',\n",
    "             r'P:\\DAIT\\TI\\Donnees\\1-ROUTIER\\1 - Aquitaine\\64 - Pyrénées-Atlantiques\\2020\\Biriatou\\7_Juillet\\Radars\\Brut\\rad_S2.VIK')"
   ]
  },
  {
   "cell_type": "code",
   "execution_count": 336,
   "metadata": {},
   "outputs": [
    {
     "data": {
      "text/html": [
       "<div>\n",
       "<style scoped>\n",
       "    .dataframe tbody tr th:only-of-type {\n",
       "        vertical-align: middle;\n",
       "    }\n",
       "\n",
       "    .dataframe tbody tr th {\n",
       "        vertical-align: top;\n",
       "    }\n",
       "\n",
       "    .dataframe thead th {\n",
       "        text-align: right;\n",
       "    }\n",
       "</style>\n",
       "<table border=\"1\" class=\"dataframe\">\n",
       "  <thead>\n",
       "    <tr style=\"text-align: right;\">\n",
       "      <th></th>\n",
       "      <th>sens</th>\n",
       "      <th>jour</th>\n",
       "      <th>heureMin</th>\n",
       "      <th>secCent</th>\n",
       "      <th>vts</th>\n",
       "      <th>ser</th>\n",
       "      <th>type_veh</th>\n",
       "      <th>date_heure</th>\n",
       "    </tr>\n",
       "  </thead>\n",
       "  <tbody>\n",
       "    <tr>\n",
       "      <th>0</th>\n",
       "      <td>sens1</td>\n",
       "      <td>8</td>\n",
       "      <td>1240</td>\n",
       "      <td>5764</td>\n",
       "      <td>V=035</td>\n",
       "      <td>S=0743</td>\n",
       "      <td>vl</td>\n",
       "      <td>2020-07-08 12:40:57.640</td>\n",
       "    </tr>\n",
       "    <tr>\n",
       "      <th>1</th>\n",
       "      <td>sens1</td>\n",
       "      <td>8</td>\n",
       "      <td>1244</td>\n",
       "      <td>4147</td>\n",
       "      <td>V=037</td>\n",
       "      <td>S=0700</td>\n",
       "      <td>vl</td>\n",
       "      <td>2020-07-08 12:44:41.470</td>\n",
       "    </tr>\n",
       "    <tr>\n",
       "      <th>2</th>\n",
       "      <td>sens1</td>\n",
       "      <td>8</td>\n",
       "      <td>1246</td>\n",
       "      <td>2915</td>\n",
       "      <td>V=036</td>\n",
       "      <td>S=0619</td>\n",
       "      <td>vl</td>\n",
       "      <td>2020-07-08 12:46:29.150</td>\n",
       "    </tr>\n",
       "    <tr>\n",
       "      <th>3</th>\n",
       "      <td>sens1</td>\n",
       "      <td>8</td>\n",
       "      <td>1247</td>\n",
       "      <td>1528</td>\n",
       "      <td>V=040</td>\n",
       "      <td>S=0768</td>\n",
       "      <td>vl</td>\n",
       "      <td>2020-07-08 12:47:15.280</td>\n",
       "    </tr>\n",
       "    <tr>\n",
       "      <th>4</th>\n",
       "      <td>sens1</td>\n",
       "      <td>8</td>\n",
       "      <td>1247</td>\n",
       "      <td>2937</td>\n",
       "      <td>V=039</td>\n",
       "      <td>S=0735</td>\n",
       "      <td>vl</td>\n",
       "      <td>2020-07-08 12:47:29.370</td>\n",
       "    </tr>\n",
       "    <tr>\n",
       "      <th>...</th>\n",
       "      <td>...</td>\n",
       "      <td>...</td>\n",
       "      <td>...</td>\n",
       "      <td>...</td>\n",
       "      <td>...</td>\n",
       "      <td>...</td>\n",
       "      <td>...</td>\n",
       "      <td>...</td>\n",
       "    </tr>\n",
       "    <tr>\n",
       "      <th>44220</th>\n",
       "      <td>sens2</td>\n",
       "      <td>23</td>\n",
       "      <td>1426</td>\n",
       "      <td>1408</td>\n",
       "      <td>V=037</td>\n",
       "      <td>S=0882</td>\n",
       "      <td>vl</td>\n",
       "      <td>2020-07-23 14:26:14.080</td>\n",
       "    </tr>\n",
       "    <tr>\n",
       "      <th>44221</th>\n",
       "      <td>sens2</td>\n",
       "      <td>23</td>\n",
       "      <td>1426</td>\n",
       "      <td>1530</td>\n",
       "      <td>V=039</td>\n",
       "      <td>S=0830</td>\n",
       "      <td>vl</td>\n",
       "      <td>2020-07-23 14:26:15.300</td>\n",
       "    </tr>\n",
       "    <tr>\n",
       "      <th>44222</th>\n",
       "      <td>sens2</td>\n",
       "      <td>23</td>\n",
       "      <td>1426</td>\n",
       "      <td>3521</td>\n",
       "      <td>V=030</td>\n",
       "      <td>S=0738</td>\n",
       "      <td>vl</td>\n",
       "      <td>2020-07-23 14:26:35.210</td>\n",
       "    </tr>\n",
       "    <tr>\n",
       "      <th>44223</th>\n",
       "      <td>sens2</td>\n",
       "      <td>23</td>\n",
       "      <td>1428</td>\n",
       "      <td>1922</td>\n",
       "      <td>V=037</td>\n",
       "      <td>S=0591</td>\n",
       "      <td>vl</td>\n",
       "      <td>2020-07-23 14:28:19.220</td>\n",
       "    </tr>\n",
       "    <tr>\n",
       "      <th>44224</th>\n",
       "      <td>sens2</td>\n",
       "      <td>23</td>\n",
       "      <td>1428</td>\n",
       "      <td>2962</td>\n",
       "      <td>V=039</td>\n",
       "      <td>S=0858</td>\n",
       "      <td>vl</td>\n",
       "      <td>2020-07-23 14:28:29.620</td>\n",
       "    </tr>\n",
       "  </tbody>\n",
       "</table>\n",
       "<p>51911 rows × 8 columns</p>\n",
       "</div>"
      ],
      "text/plain": [
       "        sens  jour heureMin secCent    vts     ser type_veh  \\\n",
       "0      sens1     8     1240    5764  V=035  S=0743       vl   \n",
       "1      sens1     8     1244    4147  V=037  S=0700       vl   \n",
       "2      sens1     8     1246    2915  V=036  S=0619       vl   \n",
       "3      sens1     8     1247    1528  V=040  S=0768       vl   \n",
       "4      sens1     8     1247    2937  V=039  S=0735       vl   \n",
       "...      ...   ...      ...     ...    ...     ...      ...   \n",
       "44220  sens2    23     1426    1408  V=037  S=0882       vl   \n",
       "44221  sens2    23     1426    1530  V=039  S=0830       vl   \n",
       "44222  sens2    23     1426    3521  V=030  S=0738       vl   \n",
       "44223  sens2    23     1428    1922  V=037  S=0591       vl   \n",
       "44224  sens2    23     1428    2962  V=039  S=0858       vl   \n",
       "\n",
       "                   date_heure  \n",
       "0     2020-07-08 12:40:57.640  \n",
       "1     2020-07-08 12:44:41.470  \n",
       "2     2020-07-08 12:46:29.150  \n",
       "3     2020-07-08 12:47:15.280  \n",
       "4     2020-07-08 12:47:29.370  \n",
       "...                       ...  \n",
       "44220 2020-07-23 14:26:14.080  \n",
       "44221 2020-07-23 14:26:15.300  \n",
       "44222 2020-07-23 14:26:35.210  \n",
       "44223 2020-07-23 14:28:19.220  \n",
       "44224 2020-07-23 14:28:29.620  \n",
       "\n",
       "[51911 rows x 8 columns]"
      ]
     },
     "execution_count": 336,
     "metadata": {},
     "output_type": "execute_result"
    }
   ],
   "source": [
    "vik.fichier2sens"
   ]
  },
  {
   "cell_type": "code",
   "execution_count": null,
   "metadata": {},
   "outputs": [],
   "source": []
  }
 ],
 "metadata": {
  "kernelspec": {
   "display_name": "Python 3",
   "language": "python",
   "name": "python3"
  },
  "language_info": {
   "codemirror_mode": {
    "name": "ipython",
    "version": 3
   },
   "file_extension": ".py",
   "mimetype": "text/x-python",
   "name": "python",
   "nbconvert_exporter": "python",
   "pygments_lexer": "ipython3",
   "version": "3.8.6"
  }
 },
 "nbformat": 4,
 "nbformat_minor": 4
}
