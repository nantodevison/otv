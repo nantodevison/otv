{
 "cells": [
  {
   "cell_type": "code",
   "execution_count": 2,
   "metadata": {},
   "outputs": [],
   "source": [
    "%load_ext autoreload\n",
    "%autoreload 2"
   ]
  },
  {
   "cell_type": "code",
   "execution_count": 431,
   "metadata": {},
   "outputs": [],
   "source": [
    "import sys\n",
    "sys.path.append(r'C:\\Users\\martin.schoreisz\\git\\otv\\otv\\Transfert_Donnees')\n",
    "sys.path.append(r'C:\\Users\\martin.schoreisz\\git\\Outils\\Outils\\Martin_Perso')\n",
    "import pandas as pd\n",
    "import geopandas as gp\n",
    "from Connexion_Transfert import ConnexionBdd\n",
    "from Outils import gp_changer_nom_geom\n",
    "from Params.Bdd_OTV import nomConnBddOtv, schemaComptage, vueLastAnnKnow\n",
    "import warnings\n",
    "from Integration_nouveau_comptage import (localiser_comptage_a_inserer, ventilerParSectionHomogene, creer_comptage, structureBddOld2NewForm, creerCorrespComptag,\n",
    "                                          ventilerCompteurRefAssoc, ventilerCompteurIdComptagExistant, ventilerNouveauComptageRef, creerCompteur, corresp_nom_id_comptag,\n",
    "                                          creerComptageAssoc, creerCompteurAssoc, structureBddOld2NewFormAssoc, rassemblerNewCompteur, rassemblerNewComptage,\n",
    "                                          rassemblerIndics, hierarchisationCompteur, ventilerDoublons, geomFromIdComptagCommunal,\n",
    "                                          modifierVentilation, rangBddComptageAssoc, classer_compteur_update_insert, scinderComptagExistant, \n",
    "                                          comptagesAssocDefinirIdCompteurRef, creerListTransfertComptage2ComptageAssoc, appelFonctionTransfertComptage2ComptageAssoc)\n",
    "from Params.Bdd_OTV import (nomConnBddOtv, schemaComptage, schemaComptageAssoc, tableComptage, tableEnumTypeVeh, \n",
    "                            tableCompteur, tableCorrespIdComptag, attrCompteurAssoc, attBddCompteur, attrComptageMano,\n",
    "                            attrCompteurValeurMano, attrComptageAssoc, enumTypePoste, vueLastAnnKnow, attrIndicHoraireAssoc,\n",
    "                            attrIndicHoraire)\n",
    "from Import_export_comptage import (recupererIdUniqComptage, compteur_existant_bdd, insererSchemaComptage, insererSchemaComptageAssoc, insert_bdd,\n",
    "                                    recupererIdUniqComptageAssoc)\n",
    "from Params.Mensuel import dico_mois\n",
    "pd.set_option('display.max_columns', 100)"
   ]
  },
  {
   "cell_type": "markdown",
   "metadata": {},
   "source": [
    "# **Objectif et rappel de procédure**\n",
    "Il s'agit de dérouler le processus d'affectation de nouveaux compteurs / comptages fournis par un gestionnaire"
   ]
  },
  {
   "cell_type": "markdown",
   "metadata": {},
   "source": [
    "## Préparation des données \n",
    "Cf notebook Import_trafic"
   ]
  },
  {
   "cell_type": "markdown",
   "metadata": {},
   "source": [
    "### Rappel sur la géolocalisation\n",
    "La géolocalisation peut etre menée avant le processus de création des points, ou après. la géolocalisation est possible via des coordonnées, des adresses ou des PR+abs.  \n",
    "la fonction de géolocalisationb est **Integration_nouveau_comptage.localiser_comptage_a_inserer()**\n",
    "<img src=\"images/GeolocDonneesGestionnaire.svg\" alt=\"Geolocaliser les données\" align=\"center\" widht=500px>  "
   ]
  },
  {
   "cell_type": "markdown",
   "metadata": {},
   "source": [
    "### Rappel sur la création d'identifiant de comptage\n",
    "<img src=\"images/CreerIdComptage.svg\" alt=\"Geolocaliser les données\" align=\"center\" > "
   ]
  },
  {
   "cell_type": "markdown",
   "metadata": {},
   "source": [
    "## Ventilation des compteurs connus \n",
    "**Schéma de Ventilation des compteurs connus (à G), avec rappel du formatage des données (à D) :**<br>\n",
    "<img src=\"images/VentilationComptagesConnus.svg\" alt=\"Ventiler les comptages connus\" align=\"left\" width=500px>  \n",
    "<img src=\"images/formatageDonneesGestionnaire.svg\" alt=\"Ventiler les comptages connus\" align=\"right\" width=600px>  "
   ]
  },
  {
   "cell_type": "markdown",
   "metadata": {},
   "source": [
    "## Ventilation par section homogène\n",
    "il s'agit ici de la premiere étape de vérification que les nouveaux compteurs sont bien nouveaux, et non relatifs à des comptages existants mais avec un nom différents\n",
    "<img src=\"images/VentilerParSectionHomogene.svg\" alt=\"Ventiler les comptages connus\" align=\"center\">  "
   ]
  },
  {
   "cell_type": "markdown",
   "metadata": {
    "tags": []
   },
   "source": [
    "## Séparation des comptages entre référence et associé\n",
    "pour les nouveaux comptages, cela permet de limiter les données concernant le même troncon homogène de trafic\n",
    "<img src=\"images/ComptagAssocieDecisionFlow.svg\" alt=\"Ventiler les comptages connus\" align=\"center\">"
   ]
  },
  {
   "cell_type": "markdown",
   "metadata": {
    "tags": []
   },
   "source": [
    "## Ventilation des nouveaux comptages de référence\n",
    "pour les nouveaux comptages de référence, les répartir selon que ce sont des nouveaux compteurs, des nouveaux compteurs qui \"envoient\" les précédents comme comptages associé, des correspondances d'identifiants de comptag ou des comptages associés\n",
    "<img src=\"images/VentilationNouveauComptage.svg\" alt=\"Ventiler les comptages connus\" align=\"center\">"
   ]
  },
  {
   "cell_type": "markdown",
   "metadata": {},
   "source": [
    "# Schéma général de classement des nouvelles données\n",
    "Attention, la partie finale, et notamment la séparation final des nouveaux comptages ventilés pouis vérifié est à préciser\n",
    "<img src=\"images/NouveauCompteurGénéral.svg\" alt=\"Ventiler les comptages connus\" align=\"center\">"
   ]
  },
  {
   "cell_type": "markdown",
   "metadata": {},
   "source": [
    "# Détails de Procédure\n",
    "Exemple sur CD33 millésime 2021"
   ]
  },
  {
   "cell_type": "markdown",
   "metadata": {
    "tags": []
   },
   "source": [
    "## Import des données gestionnaire formatées précédemment"
   ]
  },
  {
   "cell_type": "code",
   "execution_count": 484,
   "metadata": {
    "tags": []
   },
   "outputs": [],
   "source": [
    "# les données sources (en désagrégé parfois):\n",
    "    # dfAgregeFinale = gp.read_file(r'C:\\Users\\martin.schoreisz\\Documents\\temp\\OTV\\Niort\\dfAgregeFinale.geojson', driver=\"GeoJSON\", index=None)\n",
    "    # dfHoraireFinale = pd.read_json(r'C:\\Users\\martin.schoreisz\\Documents\\temp\\OTV\\Niort\\dfHoraireFinale.json', convert_dates=['jour'])\n",
    "    # dfCompteurs = gp.read_file(r'C:\\Users\\martin.schoreisz\\Documents\\temp\\OTV\\Niort\\dfCompteurs.geojson', driver=\"GeoJSON\", index=None)\n",
    "    # la jointure pour avoir le type de poste, les trafics, etc... sur la même df\n",
    "    # dfCompteursAgrege = dfCompteurs.merge(dfAgregeFinale.drop('geometry', axis=1), on='id_comptag')\n",
    "dfCompteursAgrege = gp.read_file(r'C:\\Users\\martin.schoreisz\\Documents\\temp\\OTV\\CD33\\TtSource.shp')\n",
    "dfMensuelleFormatBdd = pd.read_json(r'C:\\Users\\martin.schoreisz\\Documents\\temp\\OTV\\CD33\\donneesMensuellesTournants.json', \n",
    "                                    dtype={'troncon': str})\n",
    "# paramètres\n",
    "dept = '33'\n",
    "colsSource = dfCompteursAgrege.columns\n",
    "gest = 'CD33'"
   ]
  },
  {
   "cell_type": "code",
   "execution_count": 940,
   "metadata": {
    "tags": []
   },
   "outputs": [],
   "source": [
    "dfCompteursAgrege = gp.read_file(r'C:\\Users\\martin.schoreisz\\Documents\\temp\\OTV\\CD33\\donneesCD33_2015 a 2021\\enquete_2019.shp')\n",
    "annee = '2019'\n",
    "dept = '33'\n",
    "colsSource = dfCompteursAgrege.columns\n",
    "gest = 'CD33'"
   ]
  },
  {
   "cell_type": "markdown",
   "metadata": {},
   "source": [
    "## Ventilation des compteurs connus\n",
    "Pour rappel il s'agit de séparer dans un premier temps les compteurs qui sont : \n",
    "- déjà référencés dans la table des compteurs \n",
    "- déà référencés dans la table des correspondance d'identifiant de comptage<br>\n",
    "\n",
    "Les données travaillées sont donc la df des compteurs et la dfAgrege. On utilisera principalement la dfAgrege comme sources des traitements, car certains nécéssite\n",
    "les données de trafic . Pour rappel, Il est possible que la séparation créé des doublons d'id_comptag, lors de la recherche des correspondances de nommage. Donc il va falloir traiter ces odublons.\n",
    "Les fonctions classer_compteur_update_insert() et sont ventilerDoublons() sont utilisées pour cela"
   ]
  },
  {
   "cell_type": "code",
   "execution_count": 941,
   "metadata": {},
   "outputs": [],
   "source": [
    "# Analyse des compteurs par rapportà l'existant\n",
    "df_attr_update, df_attr_insert = classer_compteur_update_insert(dfCompteursAgrege, dept)"
   ]
  },
  {
   "cell_type": "code",
   "execution_count": 942,
   "metadata": {},
   "outputs": [],
   "source": [
    "# vérification des doublons\n",
    "refInsert, assocInsert = ventilerDoublons(df_attr_insert)\n",
    "refUpdate, assocUpdate = ventilerDoublons(df_attr_update)"
   ]
  },
  {
   "cell_type": "markdown",
   "metadata": {},
   "source": [
    "Dans l'exemple de Niort, tous les points semblent être de nouveaux points. Dans d'autres cas, une première classification pourra avoir lieu ici, entre les comptages du gestionnaire qui vont simplement amené à insérér des valeurs de comptage, ceux qui semblent devoir impliquer la création d'un compteur, et ceux qui sont associés à ceux qui semblent devoir impliquer la création d'un compteur"
   ]
  },
  {
   "cell_type": "markdown",
   "metadata": {},
   "source": [
    "## Ventilation des compteurs inconnus dans la Bdd"
   ]
  },
  {
   "cell_type": "code",
   "execution_count": 950,
   "metadata": {},
   "outputs": [],
   "source": [
    "# si les comptages ont été géolocalisé avant, on insère le résultat dans la bdd, \n",
    "# sinon on peut géolocaliser à ce moment là, ce qui insère automatiquement les données dans la bdd\n",
    "# pour info sur la geoloc localiser_comptage_a_inserer(df, schema_temp,nom_table_temp, table_ref, table_pr)\n",
    "# dans le cas des données Niort, les compteurs sont déjà gélocalisés, donc on ne fait que les passer en bdd\n",
    "nomTablePoints = 'cd33_millesime2021_annee2019'\n",
    "with ConnexionBdd() as c:\n",
    "    c.curs.execute(f'drop table if exists {nomTablePoints}')\n",
    "    c.connexionPsy.commit()\n",
    "    gp_changer_nom_geom(gp.GeoDataFrame(refInsert.loc[~refInsert.geometry.isna()].drop('geom', axis=1, errors='ignore'), geometry='geometry').set_crs('epsg:2154', allow_override=True),\n",
    "                        'geom').to_postgis(nomTablePoints, c.sqlAlchemyConn, schema='public')"
   ]
  },
  {
   "cell_type": "markdown",
   "metadata": {},
   "source": [
    "### Isoler les principaux cas\n",
    "Il s'agit ici de trier les points sans géométrie, point avec geom mais eloigne du referentiel, point avec geom, proche d'une section homogene de trafic, avec 1 seul point sur la section, point avec geom, proche d'une section homogene de trafic, avec plusieurs point sur la section\n",
    "- cptSansGeom : seront intégré en tant que comptages de références (dans le schéma comptage)\n",
    "- ppvHorsSectHomo : seront intégré en tant que comptages de références (dans le schéma comptage), avec besoin de corriger le référentiel pour les intégrer\n",
    "- cptSimpleSectHomo : comptage proche d'une section homogène. 1 seul comptage proche de cette section dans les nouveaux comptages ; va etre retravailler\n",
    "- cptMultiSectHomo : comptages proche d'une section homogène. plsuieurs comptages proches de cette section dans les nouveaux comptages ; va etre retravailler"
   ]
  },
  {
   "cell_type": "code",
   "execution_count": 960,
   "metadata": {
    "tags": []
   },
   "outputs": [],
   "source": [
    "cptSansGeom, ppvHorsSectHomo, cptSimpleSectHomo, cptMultiSectHomo = ventilerParSectionHomogene(nomTablePoints, 'linauto.traf2020_bdt_na_ed20_simpli_l',\n",
    "                                                                                               dept, 90)\n",
    "# verif\n",
    "len(cptMultiSectHomo), len(cptSimpleSectHomo), len(cptSansGeom), len(ppvHorsSectHomo)"
   ]
  },
  {
   "cell_type": "code",
   "execution_count": 962,
   "metadata": {
    "tags": []
   },
   "outputs": [
    {
     "data": {
      "text/plain": [
       "(27, 84, 0, 0)"
      ]
     },
     "execution_count": 962,
     "metadata": {},
     "output_type": "execute_result"
    }
   ],
   "source": [
    "len(cptMultiSectHomo), len(cptSimpleSectHomo), len(cptSansGeom), len(ppvHorsSectHomo)"
   ]
  },
  {
   "cell_type": "markdown",
   "metadata": {},
   "source": [
    "### qualifier les compteurs multiples sur une même section\n",
    "C'est le traitement des comptages de référence et associés, pour les points nouveaux sur une seule setcion homogènes supportant déjà un identifiant de comptage\n",
    "- cptRefMultiSectHomo : point de référence, à insérer dans la table comptage ou compteur du schema comptage, selon sa localisation\n",
    "- cptAssocMultiSectHomo : points associés, à insérer dans le schéma des comptages associés"
   ]
  },
  {
   "cell_type": "code",
   "execution_count": 961,
   "metadata": {},
   "outputs": [
    {
     "data": {
      "text/plain": [
       "(12, 15)"
      ]
     },
     "execution_count": 961,
     "metadata": {},
     "output_type": "execute_result"
    }
   ],
   "source": [
    "cptRefMultiSectHomo, cptAssocMultiSectHomo = ventilerCompteurRefAssoc(cptMultiSectHomo)\n",
    "# verif\n",
    "len(cptAssocMultiSectHomo), len(cptRefMultiSectHomo)"
   ]
  },
  {
   "cell_type": "markdown",
   "metadata": {
    "tags": []
   },
   "source": [
    "### qualifier les compteurs de référence, selon la présence d'un identifiant de comptage ou non sur cette section dans la Bdd\n",
    "C'est un simple regroupement / tri des compteurs de références nouveaux\n",
    "- cptRefSectHomoNew : compteur de reference sur section homogene sans id_comptag -> va devenir un nouveau compteur\n",
    "- cptRefSectHomoOld : compteur de reference sur section homogene avec id_comptag -> doit etre étudier pour déterminer le statut définitif"
   ]
  },
  {
   "cell_type": "code",
   "execution_count": 963,
   "metadata": {},
   "outputs": [
    {
     "data": {
      "text/plain": [
       "(59, 40)"
      ]
     },
     "execution_count": 963,
     "metadata": {},
     "output_type": "execute_result"
    }
   ],
   "source": [
    "cptRefSectHomoNew, cptRefSectHomoOld = ventilerCompteurIdComptagExistant(cptSimpleSectHomo, cptRefMultiSectHomo)\n",
    "# verif\n",
    "len(cptRefSectHomoNew), len(cptRefSectHomoOld)"
   ]
  },
  {
   "cell_type": "markdown",
   "metadata": {
    "tags": []
   },
   "source": [
    "### Les compteurs présents sur une section supportant déjà un comptage dans la Bdd sont ventilé là.\n",
    "C'est là dernière phase du processus automatique : séparation des compteurs concernés vers la création de nouveaux compteurs, la modification du type de poste, la création de correspondance d'identifiant de comptage ou la création de compteurs associés\n",
    "- dfCorrespIdComptag : correspondance d'identifiant de comptage\n",
    "- dfCreationComptageAssocie : création de compteurs associés\n",
    "- dfModifTypePoste : modification du type de poste\n",
    "- dfCreationCompteur : création de nouveaux compteurs"
   ]
  },
  {
   "cell_type": "code",
   "execution_count": 964,
   "metadata": {
    "tags": []
   },
   "outputs": [
    {
     "data": {
      "text/plain": [
       "(27, 4, 9, 0)"
      ]
     },
     "execution_count": 964,
     "metadata": {},
     "output_type": "execute_result"
    }
   ],
   "source": [
    "dfCreationComptagAssoc, dfCorrespIdComptag, dfCreationCompteurExistDevientAssoc, dfCreationCompteur = ventilerNouveauComptageRef(\n",
    "    cptRefSectHomoOld, '33', 'linauto.traf2020_bdt_na_ed20_cnt2_ini_l', 'lineaire.traf2020_bdt_na_ed20_l', distancePlusProcheVoisin=90)\n",
    "# verif\n",
    "len(dfCreationComptagAssoc), len(dfCorrespIdComptag), len(dfCreationCompteurExistDevientAssoc), len(dfCreationCompteur)"
   ]
  },
  {
   "cell_type": "markdown",
   "metadata": {},
   "source": [
    "## Regroupement des résultats par catégorie et vérifications (visuelle + autres)\n",
    "pour Rappel, les classes sont :\n",
    "\n",
    "|Situation                                                             |Variable\n",
    "|----------------------------------------------------------------------|-------------------------------------------------------------------|\n",
    "|le nouveau compteur devient référence et l'existant devient associé   |dfCreationCompteurExistDevientAssoc                                                   |\n",
    "|le nouveau compteur devient référence sur une section qui en avait pas|dfCreationCompteur, cptRefSectHomoNew, cptSansGeom, ppvHorsSectHomo|\n",
    "|création d'une correspondance d'identifiant de comptage               |dfCorrespIdComptag                                                 |\n",
    "|nouveau compteur devient comptage associé                             |dfCreationComptagAssoc, cptAssocMultiSectHomo                   |"
   ]
  },
  {
   "cell_type": "markdown",
   "metadata": {
    "tags": []
   },
   "source": [
    "<div class=\"alert alert-block alert-warning\"> <b> la vérification post traitement auto est à améliorer</b>, notamment avec le fonction modifierVentilation(), qui ne prend pas en compte le cas des modifs vers NewCompteur, sachant que cela peut engendrer de nouvelle corresp_id_comptag ou de modifier certaines associations de comptage.</div>"
   ]
  },
  {
   "cell_type": "markdown",
   "metadata": {
    "tags": []
   },
   "source": [
    "### Vérification de l'affectation\n",
    "manuelle via Qgis"
   ]
  },
  {
   "cell_type": "code",
   "execution_count": 965,
   "metadata": {
    "tags": []
   },
   "outputs": [
    {
     "name": "stdout",
     "output_type": "stream",
     "text": [
      "creationCompteur\n",
      "comptageAssocie\n",
      "correspIdComptag\n",
      "CreationCompteurExistDevientAssoc\n"
     ]
    },
    {
     "name": "stderr",
     "output_type": "stream",
     "text": [
      "C:\\Users\\martin.schoreisz\\AppData\\Local\\Programs\\Python\\Python39\\lib\\site-packages\\geopandas\\io\\file.py:362: FutureWarning: pandas.Int64Index is deprecated and will be removed from pandas in a future version. Use pandas.Index with the appropriate dtype instead.\n",
      "  pd.Int64Index,\n",
      "C:\\Users\\MARTIN~1.SCH\\AppData\\Local\\Temp/ipykernel_15004/3553546454.py:32: UserWarning: Column names longer than 10 characters will be truncated when saved to ESRI Shapefile.\n",
      "  v.to_file(fr'C:\\Users\\martin.schoreisz\\Documents\\temp\\OTV\\CD33\\donneesCD33_2015 a 2021\\Verif\\{k}_{annee}.shp')\n"
     ]
    }
   ],
   "source": [
    "# variables\n",
    "colonnesSignificatives = ['id_comptag', 'id_comptag_bdd_tronc_homo_topo', 'id_comptag_tronc_homo_traf', 'id_comptag_bdd', 'id_comptag_ref',\n",
    "                          'type_poste', 'type_poste_bdd', 'id_tronc_homo', 'periode', 'tmja', 'vacances_zone_b', 'annee_tmja_bdd', 'tmja_bdd',\n",
    "                          'geom_x']\n",
    "creationCompteur = pd.concat([dfCreationCompteur, cptRefSectHomoNew, cptSansGeom, ppvHorsSectHomo])\n",
    "creationCompteurColsSigni = gp.GeoDataFrame(creationCompteur.drop(\n",
    "    [c for c in creationCompteur.columns if c not in colonnesSignificatives], axis=1, errors='ignore'),\n",
    "                                   geometry='geom_x', crs=2154)\n",
    "comptageAssocie = pd.concat([dfCreationComptagAssoc, cptAssocMultiSectHomo, assocUpdate])\n",
    "comptageAssocieColsSigni = gp.GeoDataFrame(comptageAssocie.drop(\n",
    "    [c for c in comptageAssocie.columns if c not in colonnesSignificatives], axis=1, errors='ignore'),\n",
    "                                  geometry='geom_x', crs=2154)\n",
    "correspIdComptag = dfCorrespIdComptag.copy()\n",
    "correspIdComptagColsSigni = gp.GeoDataFrame(correspIdComptag.drop(\n",
    "    [c for c in correspIdComptag.columns if c not in colonnesSignificatives], axis=1, errors='ignore'),\n",
    "                                   geometry='geom_x', crs=2154)\n",
    "CreationCompteurExistDevientAssoc = dfCreationCompteurExistDevientAssoc.copy()\n",
    "CreationCompteurExistDevientAssocColsSigni = gp.GeoDataFrame(dfCreationCompteurExistDevientAssoc.drop(\n",
    "    [c for c in CreationCompteurExistDevientAssoc.columns if c not in colonnesSignificatives], axis=1, errors='ignore'),\n",
    "                                                    geometry='geom_x', crs=2154)\n",
    "# vérif sur le nombre d'objets :\n",
    "nbElemAssocUpdate = len(assocUpdate) if assocUpdate else 0\n",
    "if sum([len(e) for e in (creationCompteur, comptageAssocie, correspIdComptag, CreationCompteurExistDevientAssoc)]) != len(\n",
    "    refInsert) + nbElemAssocUpdate:\n",
    "    print(len(creationCompteur), len(comptageAssocie), len(correspIdComptag), len(CreationCompteurExistDevientAssoc))\n",
    "    # raise ValueError(\"le processus de ventilation a produit un nombre d'élément différents de celui en entrée. vérifier le propcess\")\n",
    "# export pour vérif Qgis\n",
    "for k, v in {'creationCompteur': creationCompteurColsSigni, 'comptageAssocie': comptageAssocieColsSigni,\n",
    "             'correspIdComptag': correspIdComptagColsSigni, 'CreationCompteurExistDevientAssoc': CreationCompteurExistDevientAssocColsSigni}.items():\n",
    "    if not v.empty:\n",
    "        print(k)\n",
    "        v.to_file(fr'C:\\Users\\martin.schoreisz\\Documents\\temp\\OTV\\CD33\\donneesCD33_2015 a 2021\\Verif\\{k}_{annee}.shp')"
   ]
  },
  {
   "cell_type": "markdown",
   "metadata": {
    "tags": []
   },
   "source": [
    "### Modification de la ventilation\n",
    "si des échanges entre les catégories doivent etre opérés (de nouceau compteur vers associé, ou l'inverse, ou avec la correspondance d'identiiant de comptage, etc), c'est ici que cela se passe."
   ]
  },
  {
   "cell_type": "markdown",
   "metadata": {
    "tags": []
   },
   "source": [
    "<div class=\"alert alert-block alert-warning\"> <b>DE TOUTE FACON, AU PIRE, FAIRE TOURNER AVEC TOUT LES DICO VIDES, CAR LA FONCTION REGROUPE AUSSI DE LA MISE EN FORME POUR LA TABLE DE CORRESPONDANCE</b>"
   ]
  },
  {
   "cell_type": "code",
   "execution_count": 966,
   "metadata": {},
   "outputs": [],
   "source": [
    "# params\n",
    "listCompteurAForcer = []\n",
    "listCompteurASupprimer = []\n",
    "dicoCorresp2Associes = {'33-D204-8+621': '33-D204-9+470', '33-D214-9+231': '33-D214-11+0'}\n",
    "dicoNewCompteur2Assoc = {'33-D219-10+600': '33-D219-8+900', '33-D1215-31+600': '33-D1215-36+760', '33-D2-54+0': '33-D2-55+540',\n",
    "                         '33-D103E5-7+881': '33-D103E5-4+0', '33-D102-0+375': '33-D102-4+0', '33-D2-54+0': '33-D2-55+540'}\n",
    "dicoCreationCompteurExistDevientAssoc2Assoc = {}\n",
    "dicoCorresp2CreationCompteurExistDevientAssoc = {}\n",
    "dicoNewCompteur2CreationCompteurExistDevientAssoc = {'33-D3-11+280': '33-D3-10+500', '33-D670-60+900': '33-D670-57+500'}\n",
    "dicoAssoc2CreationCompteurExistDevientAssoc = {}\n",
    "dicoAssocies2Corresp = {}\n",
    "dicoNewCompteur2Corresp = {}\n",
    "dicoCreationCompteurExistDevientAssoc2Corresp = {}"
   ]
  },
  {
   "cell_type": "code",
   "execution_count": 967,
   "metadata": {},
   "outputs": [],
   "source": [
    "# appel de la fonction\n",
    "(comptageAssocie_MaJMano, correspIdComptag_MajMano, creationCompteur_MajMano,\n",
    " CreationCompteurExistDevientAssoc_MajMano) = modifierVentilation(\n",
    "    correspIdComptag, creationCompteur, comptageAssocie, CreationCompteurExistDevientAssoc, gest,\n",
    "    dicoAssocies2Corresp,\n",
    "    dicoCorresp2Associes,\n",
    "    dicoNewCompteur2Assoc,\n",
    "    dicoCreationCompteurExistDevientAssoc2Assoc,\n",
    "    dicoNewCompteur2CreationCompteurExistDevientAssoc,\n",
    "    dicoAssoc2CreationCompteurExistDevientAssoc,\n",
    "    dicoCorresp2CreationCompteurExistDevientAssoc,\n",
    "    dicoNewCompteur2Corresp,\n",
    "    dicoCreationCompteurExistDevientAssoc2Corresp,\n",
    "    listCompteurAForcer, listCompteurASupprimer)"
   ]
  },
  {
   "cell_type": "markdown",
   "metadata": {},
   "source": [
    "## Mise en forme et insertion des résultats\n",
    "Suite à la classification, il faut préparer puis insérer les données dans la Bdd. Pour rappel, la strutcure de bdd oblige l'insertion des connées de compteurs pour pouvoir formater les données de comptages, et oblige l'insertion des comptages pour pouvoir formater et insérer les indicateurs"
   ]
  },
  {
   "cell_type": "markdown",
   "metadata": {},
   "source": [
    "### Compteurs\n",
    "les données proviennent de creationCompteur et CreationCompteurExistDevientAssoc"
   ]
  },
  {
   "cell_type": "code",
   "execution_count": 972,
   "metadata": {},
   "outputs": [],
   "source": [
    "# Compteurs : peucvent provenir des newCompteurs ou des newCompteurDevientRefExistantDevientAssoc\n",
    "dfNewCompteurInsert = rassemblerNewCompteur('33', ((creationCompteur_MajMano, 'geom_x'), (CreationCompteurExistDevientAssoc_MajMano, 'geom_x')))"
   ]
  },
  {
   "cell_type": "code",
   "execution_count": 973,
   "metadata": {},
   "outputs": [],
   "source": [
    "# insertion compteurs\n",
    "insererSchemaComptage(dfNewCompteurInsert.assign(concession=False), 'compteur')"
   ]
  },
  {
   "cell_type": "markdown",
   "metadata": {},
   "source": [
    "### Comptages\n",
    "au préalable, il faut bien mettre à jour les correspondance d'identifiant de comptages. les données proviennent de cptRefSectHomoNew, df_attr_update, cptAForcer, newAssocieDevientRef, dfCorrespIdComptag.<br>Le rassemblement peut générer des doublons, qui vont être traiter pour ressortir de nouveaux comptages associés"
   ]
  },
  {
   "cell_type": "code",
   "execution_count": 974,
   "metadata": {},
   "outputs": [],
   "source": [
    "# gestion des correspondance d'id_comptag\n",
    "insererSchemaComptage(correspIdComptag_MajMano, 'corresp_id_comptag')"
   ]
  },
  {
   "cell_type": "code",
   "execution_count": 975,
   "metadata": {},
   "outputs": [],
   "source": [
    "# creer les comptages\n",
    "dfComptageNewTot, assoc, ref = rassemblerNewComptage(annee, 'tv/pl', df_attr_update.drop(\n",
    "    ['id_comptag_gest'], axis=1, errors='ignore').rename(columns={c: c[:-5] for c in df_attr_update.columns if c[-5:] == '_gest'}).rename(\n",
    "    columns={'src_2020': 'src', 'tmja_2020': 'tmja', 'pc_pl_2020': 'pc_pl', 'id_comptag_bdd': 'id_comptag', 'obs_2020': 'periode'}),\n",
    "                                                corresp_nom_id_comptag(creationCompteur_MajMano).rename(columns={'src_2020': 'src'}),\n",
    "                                                # cptAForcer.rename(columns={'src_2020': 'src'}),\n",
    "                                                # newAssocieDevientRef.rename(columns={'src_2020': 'src'}),\n",
    "                                                corresp_nom_id_comptag(cptRefSectHomoOld.loc[cptRefSectHomoOld.id_comptag.isin(\n",
    "                                                    correspIdComptag_MajMano.id_gest.tolist())]),\n",
    "                                                corresp_nom_id_comptag(CreationCompteurExistDevientAssoc_MajMano),\n",
    "                                                corresp_nom_id_comptag(creationCompteur_MajMano))\n",
    "dfComptageNewTot = dfComptageNewTot.drop_duplicates().reset_index(drop=True)\n",
    "assoc.drop_duplicates(inplace=True)\n",
    "# insererSchemaComptage(dfComptageNewTot, 'comptage')\n",
    "ref.drop_duplicates(['id_comptag', 'tmja'], inplace=True)"
   ]
  },
  {
   "cell_type": "code",
   "execution_count": 978,
   "metadata": {},
   "outputs": [],
   "source": [
    "insererSchemaComptage(dfComptageNewTot, 'comptage')"
   ]
  },
  {
   "cell_type": "markdown",
   "metadata": {},
   "source": [
    "### Indicateurs\n",
    "il faut gérer les indicateurs agreges, mensuels et horaires. Pensez à convertir les id_comptag selon les correspondances établies précédemment"
   ]
  },
  {
   "cell_type": "code",
   "execution_count": 979,
   "metadata": {},
   "outputs": [],
   "source": [
    "# inserer les nouveaux indicateurs (travail sur Mensuel car perte de données suer le 33. à corriger)\n",
    "\"\"\"dfMensPerm = corresp_nom_id_comptag(dfCompteursAgrege.loc[\n",
    "    (dfCompteursAgrege[[c for c in dfCompteursAgrege.columns if c in dico_mois.keys()]].notna().any(axis=1)) & \n",
    "    ((~dfCompteursAgrege.id_comptag.isin(assoc.id_comptag.tolist())))][\n",
    "    [c for c in ref.columns if c in dico_mois.keys()]+['id_comptag', 'fichier']]).assign(donnees_type='tmja')\n",
    "dfMensTourn = dfMensuelleFormatBdd.merge(dfCompteursAgrege[['troncon', 'id_comptag', 'fichier']], on='troncon')\n",
    "dfMensTournFiltre = corresp_nom_id_comptag(dfMensTourn.loc[~dfMensTourn.id_comptag.isin(comptageAssocie_MaJMano.id_comptag.tolist() + \n",
    "                                                                                        assoc.id_comptag.tolist()+assocInsert.id_comptag.tolist()+\n",
    "                                                                                        assocUpdate.id_comptag.tolist())])\n",
    "dfMens = pd.concat([dfMensPerm, dfMensTournFiltre]).drop('troncon', axis=1)\"\"\"\n",
    "dfIndicAgregeNew, dfIndicMensNew, dfIndicHoraireNew = rassemblerIndics(\n",
    "    annee, dfComptageNewTot,\n",
    "    corresp_nom_id_comptag(ref),  dfTraficMensuel=None, dfTraficHoraire=None,\n",
    "    indicAgregeValues=['tmja', 'pc_pl'])"
   ]
  },
  {
   "cell_type": "code",
   "execution_count": null,
   "metadata": {},
   "outputs": [],
   "source": [
    "dfIndicAgregeNew"
   ]
  },
  {
   "cell_type": "code",
   "execution_count": 981,
   "metadata": {},
   "outputs": [],
   "source": [
    "insererSchemaComptage(dfIndicAgregeNew, 'indicAgrege')\n",
    "#insererSchemaComptage(dfIndicMensNew, 'indicMensuel')\n",
    "#insererSchemaComptage(dfIndicHoraireNew, 'indicHoraire')"
   ]
  },
  {
   "cell_type": "markdown",
   "metadata": {},
   "source": [
    "### Comptages Associés\n",
    "Penser à bien récupérer toute les sources de comptages associés, notamment ceux issus d'éventuels doublons liés aux correspondances d'id_comptag"
   ]
  },
  {
   "cell_type": "code",
   "execution_count": null,
   "metadata": {},
   "outputs": [],
   "source": [
    "# traitemnet en cas de varaible None\n",
    "assocInsert = assocInsert if isinstance(assocInsert, pd.DataFrame) else pd.DataFrame([])\n",
    "assocUpdate = assocUpdate if isinstance(assocUpdate, pd.DataFrame) else pd.DataFrame([])\n",
    "assoc = assoc if isinstance(assoc, pd.DataFrame) else pd.DataFrame([])\n",
    "comptageAssocie_MaJMano = comptageAssocie_MaJMano if isinstance(comptageAssocie_MaJMano, pd.DataFrame) else pd.DataFrame([])\n",
    "\n",
    "toutAssoc = pd.concat([assocInsert.reset_index(drop=True), assocUpdate.reset_index(drop=True),\n",
    "                       comptageAssocie_MaJMano.reset_index(drop=True), assoc.dropna(axis=1, how='all').reset_index(drop=True)]).dropna(\n",
    "    axis=1, how='all').drop_duplicates('id_comptag')\n",
    "toutAssoc['geom_x'] = toutAssoc.apply(lambda x: x.geom_x if not pd.isnull(x.geom_x) else x.geometry, axis=1)\n",
    "\n",
    "# compteurs\n",
    "insererSchemaComptageAssoc(creerCompteurAssoc(gp.GeoDataFrame(toutAssoc, geometry='geom_x', crs=2154), 'id_comptag', 'geom_x',\n",
    "                                              dicoIdCpteurRef={2: 'id_comptag_bdd_tronc_homo_topo', 3: 'id_comptag_tronc_homo_traf',\n",
    "                                                               4: 'id_comptag_bdd', 1: 'id_comptag_ref'},\n",
    "                                              listIdCptExclu=None, NomAttrFinal='idCpteurRef'), 'compteur')\n",
    "\n",
    "# comptages\n",
    "tableComptageAssoc = creerComptageAssoc(toutAssoc.assign(type_veh='tv/pl'), 'id_cpteur_ref', annee, 'id_comptag',\n",
    "                                        dicoIdCpteurRef={2: 'id_comptag_bdd_tronc_homo_topo', 3: 'id_comptag_tronc_homo_traf',\n",
    "                                                         4: 'id_comptag_bdd', 1: 'id_comptag_ref'})[1]\n",
    "\n",
    "insererSchemaComptageAssoc(tableComptageAssoc, 'comptage')\n",
    "\n",
    "# Indicateurs\n",
    "# Agrege\n",
    "dfAssocIndicAgrege = dfCompteursAgrege.merge(tableComptageAssoc[['id_cpteur_asso', 'id_cptag_ref']], left_on='id_comptag',\n",
    "                                             right_on='id_cpteur_asso', how='right')\n",
    "dfindicAgregesAssoc = structureBddOld2NewFormAssoc(dfAssocIndicAgrege.assign(annee=annee), annee,\n",
    "                                                   ['id_cptag_ref', 'annee', 'id_cpteur_asso', 'fichier'],\n",
    "                                                   ['tmja', 'pc_pl'], 'agrege')\n",
    "\n",
    "dicoRemplacement = {647: 688, 648: 692, 649: 693, 650: 695}\n",
    "for k, v in dicoRemplacement.items():\n",
    "    dfindicAgregesAssoc.loc[(dfindicAgregesAssoc.id_comptag_uniq == k) & \n",
    "                            (dfindicAgregesAssoc.fichier == 'données_tournants_2021.xlsx'), 'id_comptag_uniq'] = v\n",
    "\n",
    "insererSchemaComptageAssoc(dfindicAgregesAssoc, 'indicAgrege')"
   ]
  },
  {
   "cell_type": "code",
   "execution_count": 299,
   "metadata": {},
   "outputs": [],
   "source": [
    "# mensuel\n",
    "# a faire\n",
    "# horaire\n",
    "dfTraficHoraire = corresp_nom_id_comptag(dfHoraireFinale)\n",
    "insererSchemaComptageAssoc(structureBddOld2NewFormAssoc(dfTraficHoraire.merge(dfAssocIndicAgrege, on='id_comptag'), annee,\n",
    "                             attrIndicHoraireAssoc+['annee','id_cptag_ref', 'id_cpteur_asso'], None, 'horaire'), 'indicHoraire')"
   ]
  },
  {
   "cell_type": "markdown",
   "metadata": {},
   "source": [
    "### Compteurs existant devenant Associés\n",
    "On va utiliser la fonction dans la base postgres : comptage.transfert_comptage_assoc(id_comptage_ref comptage.id_comptage, id_comptage_assoc comptage.id_comptage, annee_ref comptage.annee, annee_assoc comptage.annee, recup_compteur boolean DEFAULT false, sup_compteur boolean DEFAULT false). cf les commentaire de cette fionction pour plus de détails"
   ]
  },
  {
   "cell_type": "code",
   "execution_count": 1009,
   "metadata": {},
   "outputs": [],
   "source": [
    "# la fonction permet le transfert des données et la récupération de la requete pour vérification\n",
    "listParamsFonctionPostgres = creerListTransfertComptage2ComptageAssoc(\n",
    "    CreationCompteurExistDevientAssoc_MajMano, annee, {1: 'id_comptag_bdd_tronc_homo_topo', 2: 'id_comptag_tronc_homo_traf',\n",
    "                                                       3: 'id_comptag_ref'})"
   ]
  },
  {
   "cell_type": "code",
   "execution_count": 1022,
   "metadata": {},
   "outputs": [],
   "source": [
    "txtAppelFonction = appelFonctionTransfertComptage2ComptageAssoc(listParamsFonctionPostgres, True, True)"
   ]
  }
 ],
 "metadata": {
  "kernelspec": {
   "display_name": "Python 3 (ipykernel)",
   "language": "python",
   "name": "python3"
  },
  "language_info": {
   "codemirror_mode": {
    "name": "ipython",
    "version": 3
   },
   "file_extension": ".py",
   "mimetype": "text/x-python",
   "name": "python",
   "nbconvert_exporter": "python",
   "pygments_lexer": "ipython3",
   "version": "3.9.6"
  }
 },
 "nbformat": 4,
 "nbformat_minor": 4
}
