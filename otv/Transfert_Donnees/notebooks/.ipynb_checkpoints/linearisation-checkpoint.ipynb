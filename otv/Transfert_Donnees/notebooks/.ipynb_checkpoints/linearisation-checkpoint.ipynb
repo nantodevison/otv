{
 "cells": [
  {
   "cell_type": "code",
   "execution_count": 2,
   "metadata": {},
   "outputs": [],
   "source": [
    "%load_ext autoreload\n",
    "%autoreload 2"
   ]
  },
  {
   "cell_type": "code",
   "execution_count": 99,
   "metadata": {},
   "outputs": [],
   "source": [
    "import sys\n",
    "sys.path.append(r'C:\\Users\\martin.schoreisz\\git\\otv\\otv\\Transfert_Donnees')\n",
    "sys.path.append(r'C:\\Users\\martin.schoreisz\\git\\Outils\\Outils\\Martin_Perso')\n",
    "import pandas as pd\n",
    "import geopandas as gp\n",
    "import Outils as O\n",
    "from Connexion_Transfert import ConnexionBdd\n",
    "from Outils import gp_changer_nom_geom\n",
    "from Params.Bdd_OTV import nomConnBddOtv, schemaComptage, vueLastAnnKnow\n",
    "import warnings\n",
    "from Integration_nouveau_comptage import (localiser_comptage_a_inserer, ventilerParSectionHomogene, creer_comptage, structureBddOld2NewForm, creerCorrespComptag,\n",
    "                                          ventilerCompteurRefAssoc, ventilerCompteurIdComptagExistant, ventilerNouveauComptageRef, creerCompteur, corresp_nom_id_comptag,\n",
    "                                          creerComptageAssoc, creerCompteurAssoc, structureBddOld2NewFormAssoc, rassemblerNewCompteur, rassemblerNewComptage,\n",
    "                                          rassemblerIndics, hierarchisationCompteur, ventilerDoublons, geomFromIdComptagCommunal,\n",
    "                                          modifierVentilation, rangBddComptageAssoc, classer_compteur_update_insert, scinderComptagExistant)\n",
    "from Params.Bdd_OTV import (nomConnBddOtv, schemaComptage, schemaComptageAssoc, tableComptage, tableEnumTypeVeh, \n",
    "                            tableCompteur, tableCorrespIdComptag,attrCompteurAssoc, attBddCompteur, attrComptageMano,\n",
    "                            attrCompteurValeurMano, attrComptageAssoc, enumTypePoste, vueLastAnnKnow, attrIndicHoraireAssoc,\n",
    "                            attrIndicHoraire)"
   ]
  },
  {
   "cell_type": "markdown",
   "metadata": {},
   "source": [
    "# **Objectif et rappel de procédure**\n",
    "Il s'agit de dérouler le processus d'affectation de nouveaux compteurs / comptages fournis par un gestionnaire"
   ]
  },
  {
   "cell_type": "markdown",
   "metadata": {},
   "source": [
    "## Préparation des données \n",
    "Cf notebook Import_trafic"
   ]
  },
  {
   "cell_type": "markdown",
   "metadata": {
    "tags": []
   },
   "source": [
    "### Rappel sur la géolocalisation\n",
    "La géolocalisation peut etre menée avant le processus de création des points, ou après. la géolocalisation est possible via des coordonnées, des adresses ou des PR+abs.  \n",
    "la fonction de géolocalisationb est **Integration_nouveau_comptage.localiser_comptage_a_inserer()**"
   ]
  },
  {
   "cell_type": "markdown",
   "metadata": {},
   "source": [
    "<img src=\"images/GeolocDonneesGestionnaire.svg\" alt=\"Geolocaliser les données\" align=\"center\" widht=500px>  "
   ]
  },
  {
   "cell_type": "markdown",
   "metadata": {},
   "source": [
    "### Rappel sur la création d'identifiant de comptage"
   ]
  },
  {
   "cell_type": "markdown",
   "metadata": {},
   "source": [
    "<img src=\"images/CreerIdComptage.svg\" alt=\"Geolocaliser les données\" align=\"center\" > "
   ]
  },
  {
   "cell_type": "markdown",
   "metadata": {},
   "source": [
    "## Ventilation des compteurs connus \n",
    "**Schéma de Ventilation des compteurs connus (à G), avec rappel du formatage des données (à D) :**<br>"
   ]
  },
  {
   "cell_type": "markdown",
   "metadata": {},
   "source": [
    "<img src=\"images/VentilationComptagesConnus.svg\" alt=\"Ventiler les comptages connus\" align=\"left\" width=500px>  \n",
    "<img src=\"images/formatageDonneesGestionnaire.svg\" alt=\"Ventiler les comptages connus\" align=\"right\" width=600px>  "
   ]
  },
  {
   "cell_type": "markdown",
   "metadata": {},
   "source": [
    "## Ventilation par section homogène\n",
    "il s'agit ici de la premiere étape de vérification que les nouveaux compteurs sont bien nouveaux, et non relatifs à des comptages existants mais avec un nom différents"
   ]
  },
  {
   "cell_type": "markdown",
   "metadata": {},
   "source": [
    "<img src=\"images/VentilerParSectionHomogene.svg\" alt=\"Ventiler les comptages connus\" align=\"center\">  "
   ]
  },
  {
   "cell_type": "markdown",
   "metadata": {},
   "source": [
    "**Schéma général de classement des nouvelles données :**  \n"
   ]
  },
  {
   "cell_type": "markdown",
   "metadata": {},
   "source": [
    "# Détails de Procédure\n",
    "Exemple sur Niort millésime 2021"
   ]
  },
  {
   "cell_type": "markdown",
   "metadata": {
    "tags": []
   },
   "source": [
    "## Import des données gestionnaire formater précédemment"
   ]
  },
  {
   "cell_type": "code",
   "execution_count": 107,
   "metadata": {
    "tags": []
   },
   "outputs": [],
   "source": [
    "# les données sources\n",
    "dfAgregeFinale = gp.read_file(r'C:\\Users\\martin.schoreisz\\Documents\\temp\\OTV\\Niort\\dfAgregeFinale.geojson', driver=\"GeoJSON\", index=None)\n",
    "dfHoraireFinale = pd.read_json(r'C:\\Users\\martin.schoreisz\\Documents\\temp\\OTV\\Niort\\dfHoraireFinale.json')\n",
    "dfCompteurs = gp.read_file(r'C:\\Users\\martin.schoreisz\\Documents\\temp\\OTV\\Niort\\dfCompteurs.geojson', driver=\"GeoJSON\", index=None)\n",
    "# la jointure pour avoir le type de poste, les trafics, etc... sur la même df\n",
    "dfCompteursAgrege = dfCompteurs.merge(dfAgregeFinale.drop('geometry', axis=1), on='id_comptag')\n",
    "# paramètres\n",
    "dept = '79'\n",
    "colsSource = dfCompteursAgrege.columns"
   ]
  },
  {
   "cell_type": "markdown",
   "metadata": {},
   "source": [
    "## Ventilation des compteurs connus\n",
    "Pour rappel il s'agit de séparer dans un premier temps les compteurs qui sont : \n",
    "- déjà référencés dans la table des compteurs \n",
    "- déà référencés dans la table des correspondance d'identifiant de comptage<br>\n",
    "\n",
    "Les données travaillées sont donc la df des compteurs et la dfAgrege. On utilisera principalement la dfAgrege comme sources des traitements, car certains nécéssite\n",
    "les données de trafic . Pour rappel, Il est possible que la séparation créé des doublons d'id_comptag, lors de la recherche des correspondances de nommage. Donc il va falloir traiter ces odublons.\n",
    "Les fonctions classer_compteur_update_insert() et sont ventilerDoublons() sont utilisées pour cela"
   ]
  },
  {
   "cell_type": "code",
   "execution_count": 5,
   "metadata": {},
   "outputs": [],
   "source": [
    "# Analyse des compteurs par rapportà l'existant\n",
    "df_attr_update, df_attr_insert = classer_compteur_update_insert(dfCompteursAgrege, dept)"
   ]
  },
  {
   "cell_type": "code",
   "execution_count": 6,
   "metadata": {},
   "outputs": [],
   "source": [
    "# vérification des doublons\n",
    "refInsert, assocInsert = ventilerDoublons(df_attr_insert)\n",
    "refUpdate, assocUpdate = ventilerDoublons(df_attr_update)"
   ]
  },
  {
   "cell_type": "markdown",
   "metadata": {},
   "source": [
    "Dans l'exemple de Niort, tous les points semblent être de nouveaux points. Dans d'autres cas, une première classification pourra avoir lieu ici, entre les comptages du gestionnaire qui vont simplement amené à insérér des valeurs de comptage, ceux qui semblent devoir impliquer la création d'un compteur, et ceux qui sont associés à ceux qui semblent devoir impliquer la création d'un compteur"
   ]
  },
  {
   "cell_type": "markdown",
   "metadata": {},
   "source": [
    "## Ventilation des compteurs inconnus dans la Bdd"
   ]
  },
  {
   "cell_type": "code",
   "execution_count": 8,
   "metadata": {},
   "outputs": [],
   "source": [
    "# si les comptages ont été géolocalisé avant, on insère le résultat dans la bdd, \n",
    "# sinon on peut géolocaliser à ce moment là, ce qui insère automatiquement les données dans la bdd\n",
    "# pour info sur la geoloc localiser_comptage_a_inserer(df, schema_temp,nom_table_temp, table_ref, table_pr)\n",
    "# dans le cas des données Niort, les compteurs sont déjà gélocalisés, donc on ne fait que les passer en bdd\n",
    "nomTablePoints = 'niort_2022'\n",
    "with ConnexionBdd() as c:\n",
    "    gp_changer_nom_geom(gp.GeoDataFrame(refInsert, geometry='geometry').set_crs('epsg:2154', allow_override=True),\n",
    "                        'geom').to_postgis(nomTablePoints, c.sqlAlchemyConn, schema='public')"
   ]
  },
  {
   "cell_type": "markdown",
   "metadata": {},
   "source": [
    "### Isoler les principaux cas\n",
    "Il s'agit ici de trier les points sans géométrie, point avec geom mais eloigne du referentiel, point avec geom, proche d'une section homogene de trafic, avec 1 seul point sur la section, point avec geom, proche d'une section homogene de trafic, avec plusieurs point sur la section\n",
    "- cptSansGeom : seront intégré en tant que comptages de références (dans le schéma comptage)\n",
    "- ppvHorsSectHomo : seront intégré en tant que comptages de références (dans le schéma comptage), avec besoin de corriger le référentiel pour les intégrer\n",
    "- cptSimpleSectHomo : comptage proche d'une section homogène. 1 seul comptage proche de cette section dans les nouveaux comptages ; va etre retravailler\n",
    "- cptMultiSectHomo : comptages proche d'une section homogène. plsuieurs comptages proches de cette section dans les nouveaux comptages ; va etre retravailler"
   ]
  },
  {
   "cell_type": "code",
   "execution_count": 9,
   "metadata": {},
   "outputs": [
    {
     "data": {
      "text/plain": [
       "(8, 30, 0, 0)"
      ]
     },
     "execution_count": 9,
     "metadata": {},
     "output_type": "execute_result"
    }
   ],
   "source": [
    "cptSansGeom, ppvHorsSectHomo, cptSimpleSectHomo, cptMultiSectHomo = ventilerParSectionHomogene(nomTablePoints, 'linauto.traf2020_bdt_na_ed20_simpli_l', dept, 15)\n",
    "# verif\n",
    "len(cptMultiSectHomo), len(cptSimpleSectHomo), len(cptSansGeom), len(ppvHorsSectHomo)"
   ]
  },
  {
   "cell_type": "markdown",
   "metadata": {},
   "source": [
    "### qualifier les compteurs multiples sur une même section\n",
    "C'est le traitement des comptages de référence et associés, pour les points nouveaux sur une seule setcion homogènes supportant déjà un identifiant de comptage\n",
    "- cptRefMultiSectHomo : point de référence, à insérer dans la table comptage ou compteur du schema comptage, selon sa localisation\n",
    "- cptAssocMultiSectHomo : points associés, à insérer dans le schéma des comptages associés"
   ]
  },
  {
   "cell_type": "code",
   "execution_count": 10,
   "metadata": {},
   "outputs": [
    {
     "data": {
      "text/plain": [
       "(5, 3)"
      ]
     },
     "execution_count": 10,
     "metadata": {},
     "output_type": "execute_result"
    }
   ],
   "source": [
    "cptRefMultiSectHomo, cptAssocMultiSectHomo = ventilerCompteurRefAssoc(cptMultiSectHomo)\n",
    "# verif\n",
    "len(cptAssocMultiSectHomo), len(cptRefMultiSectHomo)"
   ]
  },
  {
   "cell_type": "markdown",
   "metadata": {
    "tags": []
   },
   "source": [
    "### qualifier les compteurs de référence, selon la présence d'un identifiantde comptage ou non sur cette section dans la Bdd\n",
    "C'est un simple regroupement / tri des compteurs de références nouveaux\n",
    "- cptRefSectHomoNew : compteur de reference sur section homogene sans id_comptag -> va devenir un nouveau compteur\n",
    "- cptRefSectHomoOld : compteur de reference sur section homogene avec id_comptag -> doit etre étudier pour déterminer le statut définitif"
   ]
  },
  {
   "cell_type": "code",
   "execution_count": 11,
   "metadata": {},
   "outputs": [
    {
     "data": {
      "text/plain": [
       "(23, 10)"
      ]
     },
     "execution_count": 11,
     "metadata": {},
     "output_type": "execute_result"
    }
   ],
   "source": [
    "cptRefSectHomoNew, cptRefSectHomoOld = ventilerCompteurIdComptagExistant(cptSimpleSectHomo, cptRefMultiSectHomo)\n",
    "# verif\n",
    "len(cptRefSectHomoNew), len(cptRefSectHomoOld)"
   ]
  },
  {
   "cell_type": "markdown",
   "metadata": {
    "tags": []
   },
   "source": [
    "### Les compteurs présents sur une section supportant déjà un comptage dans la Bdd sont ventilé là.\n",
    "C'est là dernière phase du processus automatique : séparation des compteurs concernés vers la création de nouveaux compteurs, la modification du type de poste, la création de correspondance d'identifiant de comptage ou la création de compteurs associés\n",
    "- dfCorrespIdComptag : correspondance d'identifiant de comptage\n",
    "- dfCreationComptageAssocie : création de compteurs associés\n",
    "- dfModifTypePoste : modification du type de poste\n",
    "- dfCreationCompteur : création de nouveaux compteurs"
   ]
  },
  {
   "cell_type": "code",
   "execution_count": 117,
   "metadata": {
    "tags": []
   },
   "outputs": [
    {
     "data": {
      "text/plain": [
       "(3, 6, 1, 0)"
      ]
     },
     "execution_count": 117,
     "metadata": {},
     "output_type": "execute_result"
    }
   ],
   "source": [
    "dfCreationComptagAssoc, dfCorrespIdComptag, dfCreationCompteurExistDevientAssoc, dfCreationCompteur = ventilerNouveauComptageRef(cptRefSectHomoOld, 'type_poste',\n",
    "                                                                                                                 'type_poste_bdd', 'periode', '79',\n",
    "                                                                                                                 'linauto.traf2020_bdt_na_ed20_cnt2_ini_l',\n",
    "                                                                                                                 'lineaire.traf2020_bdt_na_ed20_l' )\n",
    "# verif\n",
    "len(dfCreationComptagAssoc), len(dfCorrespIdComptag), len(dfCreationCompteurExistDevientAssoc), len(dfCreationCompteur)"
   ]
  },
  {
   "cell_type": "code",
   "execution_count": 16,
   "metadata": {
    "tags": []
   },
   "outputs": [],
   "source": [
    "# si un warning sort de cette fonction, cherchez les doublons\n",
    "# exemple :\n",
    "verifDbl = pd.concat([dfCorrespIdComptag.assign(variableSrc='dfCorrespIdComptag'), dfCreationComptagAssoc.assign(variableSrc='dfCreationComptagAssoc'),\n",
    "           dfCreationCompteurExistDevientAssoc.assign(variableSrc='dfCreationCompteurExistDevientAssoc'),\n",
    "                      dfCreationCompteur.assign(dfCreationCompteur='dfCreationCompteur')])\n",
    "verifDbl.loc[verifDbl.duplicated('id_comptag', keep=False)].sort_values('id_comptag')"
   ]
  },
  {
   "cell_type": "markdown",
   "metadata": {},
   "source": [
    "## Regroupement des résultats par catégorie et vérification visuelle\n",
    "pour Rappel, les classes sont :\n",
    "\n",
    "|Situation                                                             |Variable\n",
    "|----------------------------------------------------------------------|-------------------------------------------------------------------|\n",
    "|le nouveau compteur devient référence et l'existant devient associé   |dfCreationCompteurExistDevientAssoc                                                   |\n",
    "|le nouveau compteur devient référence sur une section qui en avait pas|dfCreationCompteur, cptRefSectHomoNew, cptSansGeom, ppvHorsSectHomo|\n",
    "|création d'une correspondance d'identifiant de comptage               |dfCorrespIdComptag                                                 |\n",
    "|nouveau compteur devient comptage associé                             |dfCreationComptagAssoc, cptAssocMultiSectHomo                   |"
   ]
  },
  {
   "cell_type": "code",
   "execution_count": 119,
   "metadata": {
    "tags": []
   },
   "outputs": [],
   "source": [
    "# variables \n",
    "creationCompteur = gp.GeoDataFrame(pd.concat([dfCreationCompteur, cptRefSectHomoNew, cptSansGeom, ppvHorsSectHomo]).drop(['geom', 'geom_y'], axis=1, errors='ignore'),\n",
    "                                   geometry='geom_x', crs=2154)\n",
    "comptageAssocie = gp.GeoDataFrame(pd.concat([dfCreationComptagAssoc, cptAssocMultiSectHomo]).drop(['geom', 'geom_y'], axis=1, errors='ignore'),\n",
    "                                  geometry='geom_x', crs=2154)\n",
    "correspIdComptag = gp.GeoDataFrame(dfCorrespIdComptag.drop(['geom', 'geom_y'], axis=1, errors='ignore'), geometry='geom_x', crs=2154)\n",
    "CreationCompteurExistDevientAssoc = gp.GeoDataFrame(dfCreationCompteurExistDevientAssoc.drop(['geom', 'geom_y'], axis=1, errors='ignore'), geometry='geom_x', crs=2154)\n",
    "# vérif sur le nombre d'objets : \n",
    "if sum([len(e) for e in (creationCompteur, comptageAssocie, correspIdComptag, CreationCompteurExistDevientAssoc)]) != len(refInsert):\n",
    "    raise ValueError(\"le processus de ventilation a produit un nombre d'élément différents de celui en entrée. vérifier le propcess\")\n",
    "# export pour vérif Qgis\n",
    "for k, v in {'creationCompteur': creationCompteur, 'comptageAssocie': comptageAssocie,\n",
    "             'correspIdComptag': correspIdComptag, 'CreationCompteurExistDevientAssoc': CreationCompteurExistDevientAssoc}.items():\n",
    "    if not v.empty:\n",
    "        v.to_file(fr'C:\\Users\\martin.schoreisz\\Documents\\temp\\OTV\\Niort\\Verifs\\{k}.geojson', driver='GeoJSON')"
   ]
  },
  {
   "cell_type": "code",
   "execution_count": null,
   "metadata": {},
   "outputs": [],
   "source": []
  }
 ],
 "metadata": {
  "kernelspec": {
   "display_name": "Python 3 (ipykernel)",
   "language": "python",
   "name": "python3"
  },
  "language_info": {
   "codemirror_mode": {
    "name": "ipython",
    "version": 3
   },
   "file_extension": ".py",
   "mimetype": "text/x-python",
   "name": "python",
   "nbconvert_exporter": "python",
   "pygments_lexer": "ipython3",
   "version": "3.9.6"
  }
 },
 "nbformat": 4,
 "nbformat_minor": 4
}
