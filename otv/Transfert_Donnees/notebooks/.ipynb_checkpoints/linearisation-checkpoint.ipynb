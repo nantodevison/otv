{
 "cells": [
  {
   "cell_type": "code",
   "execution_count": 1,
   "metadata": {},
   "outputs": [],
   "source": [
    "%load_ext autoreload\n",
    "%autoreload 2"
   ]
  },
  {
   "cell_type": "code",
   "execution_count": 336,
   "metadata": {},
   "outputs": [],
   "source": [
    "import sys\n",
    "sys.path.append(r'C:\\Users\\martin.schoreisz\\git\\otv\\otv\\Transfert_Donnees')\n",
    "sys.path.append(r'C:\\Users\\martin.schoreisz\\git\\Outils\\Outils\\Martin_Perso')\n",
    "import pandas as pd\n",
    "import geopandas as gp\n",
    "import Outils as O\n",
    "from Connexion_Transfert import ConnexionBdd\n",
    "from Outils import gp_changer_nom_geom\n",
    "from Params.Bdd_OTV import nomConnBddOtv, schemaComptage, vueLastAnnKnow\n",
    "import warnings\n",
    "from Integration_nouveau_comptage import (localiser_comptage_a_inserer, ventilerParSectionHomogene, creer_comptage, structureBddOld2NewForm, creerCorrespComptag,\n",
    "                                          ventilerCompteurRefAssoc, ventilerCompteurIdComptagExistant, ventilerNouveauComptageRef, creerCompteur, corresp_nom_id_comptag,\n",
    "                                          creerComptageAssoc, creerCompteurAssoc, structureBddOld2NewFormAssoc, rassemblerNewCompteur, rassemblerNewComptage,\n",
    "                                          rassemblerIndics, hierarchisationCompteur, ventilerDoublons, geomFromIdComptagCommunal,\n",
    "                                          modifierVentilation, rangBddComptageAssoc, classer_compteur_update_insert, scinderComptagExistant, \n",
    "                                          comptagesAssocDefinirIdCompteurRef, creerListTransfertComptage2ComptageAssoc, appelFonctionTransfertComptage2ComptageAssoc)\n",
    "from Params.Bdd_OTV import (nomConnBddOtv, schemaComptage, schemaComptageAssoc, tableComptage, tableEnumTypeVeh, \n",
    "                            tableCompteur, tableCorrespIdComptag, attrCompteurAssoc, attBddCompteur, attrComptageMano,\n",
    "                            attrCompteurValeurMano, attrComptageAssoc, enumTypePoste, vueLastAnnKnow, attrIndicHoraireAssoc,\n",
    "                            attrIndicHoraire)\n",
    "from Import_export_comptage import (recupererIdUniqComptage, compteur_existant_bdd, insererSchemaComptage, insererSchemaComptageAssoc, insert_bdd,\n",
    "                                    recupererIdUniqComptageAssoc)\n",
    "pd.set_option('display.max_columns', 100)"
   ]
  },
  {
   "cell_type": "markdown",
   "metadata": {},
   "source": [
    "# **Objectif et rappel de procédure**\n",
    "Il s'agit de dérouler le processus d'affectation de nouveaux compteurs / comptages fournis par un gestionnaire"
   ]
  },
  {
   "cell_type": "markdown",
   "metadata": {},
   "source": [
    "## Préparation des données \n",
    "Cf notebook Import_trafic"
   ]
  },
  {
   "cell_type": "markdown",
   "metadata": {},
   "source": [
    "### Rappel sur la géolocalisation\n",
    "La géolocalisation peut etre menée avant le processus de création des points, ou après. la géolocalisation est possible via des coordonnées, des adresses ou des PR+abs.  \n",
    "la fonction de géolocalisationb est **Integration_nouveau_comptage.localiser_comptage_a_inserer()**\n",
    "<img src=\"images/GeolocDonneesGestionnaire.svg\" alt=\"Geolocaliser les données\" align=\"center\" widht=500px>  "
   ]
  },
  {
   "cell_type": "markdown",
   "metadata": {},
   "source": [
    "### Rappel sur la création d'identifiant de comptage\n",
    "<img src=\"images/CreerIdComptage.svg\" alt=\"Geolocaliser les données\" align=\"center\" > "
   ]
  },
  {
   "cell_type": "markdown",
   "metadata": {},
   "source": [
    "## Ventilation des compteurs connus \n",
    "**Schéma de Ventilation des compteurs connus (à G), avec rappel du formatage des données (à D) :**<br>\n",
    "<img src=\"images/VentilationComptagesConnus.svg\" alt=\"Ventiler les comptages connus\" align=\"left\" width=500px>  \n",
    "<img src=\"images/formatageDonneesGestionnaire.svg\" alt=\"Ventiler les comptages connus\" align=\"right\" width=600px>  "
   ]
  },
  {
   "cell_type": "markdown",
   "metadata": {},
   "source": [
    "## Ventilation par section homogène\n",
    "il s'agit ici de la premiere étape de vérification que les nouveaux compteurs sont bien nouveaux, et non relatifs à des comptages existants mais avec un nom différents\n",
    "<img src=\"images/VentilerParSectionHomogene.svg\" alt=\"Ventiler les comptages connus\" align=\"center\">  "
   ]
  },
  {
   "cell_type": "markdown",
   "metadata": {
    "tags": []
   },
   "source": [
    "## Séparation des comptages entre référence et associé\n",
    "pour les nouveaux comptages, cela permet de limiter les données concernant le même troncon homogène de trafic\n",
    "<img src=\"images/ComptagAssocieDecisionFlow.svg\" alt=\"Ventiler les comptages connus\" align=\"center\">"
   ]
  },
  {
   "cell_type": "markdown",
   "metadata": {
    "tags": []
   },
   "source": [
    "## Ventilation des nouveaux comptages de référence\n",
    "pour les nouveaux comptages de référence, les répartir selon que ce sont des nouveaux compteurs, des nouveaux compteurs qui \"envoient\" les précédents comme comptages associé, des correspondances d'identifiants de comptag ou des comptages associés\n",
    "<img src=\"images/VentilationNouveauComptage.svg\" alt=\"Ventiler les comptages connus\" align=\"center\">"
   ]
  },
  {
   "cell_type": "markdown",
   "metadata": {},
   "source": [
    "# Schéma général de classement des nouvelles données\n",
    "Attention, la partie finale, et notamment la séparation final des nouveaux comptages ventilés pouis vérifié est à préciser\n",
    "<img src=\"images/NouveauCompteurGénéral.svg\" alt=\"Ventiler les comptages connus\" align=\"center\">"
   ]
  },
  {
   "cell_type": "markdown",
   "metadata": {},
   "source": [
    "# Détails de Procédure\n",
    "Exemple sur Niort millésime 2021"
   ]
  },
  {
   "cell_type": "markdown",
   "metadata": {
    "tags": []
   },
   "source": [
    "## Import des données gestionnaire formater précédemment"
   ]
  },
  {
   "cell_type": "code",
   "execution_count": 194,
   "metadata": {
    "tags": []
   },
   "outputs": [],
   "source": [
    "# les données sources\n",
    "dfAgregeFinale = gp.read_file(r'C:\\Users\\martin.schoreisz\\Documents\\temp\\OTV\\Niort\\dfAgregeFinale.geojson', driver=\"GeoJSON\", index=None)\n",
    "dfHoraireFinale = pd.read_json(r'C:\\Users\\martin.schoreisz\\Documents\\temp\\OTV\\Niort\\dfHoraireFinale.json', convert_dates=['jour'])\n",
    "dfCompteurs = gp.read_file(r'C:\\Users\\martin.schoreisz\\Documents\\temp\\OTV\\Niort\\dfCompteurs.geojson', driver=\"GeoJSON\", index=None)\n",
    "# la jointure pour avoir le type de poste, les trafics, etc... sur la même df\n",
    "dfCompteursAgrege = dfCompteurs.merge(dfAgregeFinale.drop('geometry', axis=1), on='id_comptag')\n",
    "# paramètres\n",
    "dept = '79'\n",
    "colsSource = dfCompteursAgrege.columns"
   ]
  },
  {
   "cell_type": "markdown",
   "metadata": {},
   "source": [
    "## Ventilation des compteurs connus\n",
    "Pour rappel il s'agit de séparer dans un premier temps les compteurs qui sont : \n",
    "- déjà référencés dans la table des compteurs \n",
    "- déà référencés dans la table des correspondance d'identifiant de comptage<br>\n",
    "\n",
    "Les données travaillées sont donc la df des compteurs et la dfAgrege. On utilisera principalement la dfAgrege comme sources des traitements, car certains nécéssite\n",
    "les données de trafic . Pour rappel, Il est possible que la séparation créé des doublons d'id_comptag, lors de la recherche des correspondances de nommage. Donc il va falloir traiter ces odublons.\n",
    "Les fonctions classer_compteur_update_insert() et sont ventilerDoublons() sont utilisées pour cela"
   ]
  },
  {
   "cell_type": "code",
   "execution_count": 4,
   "metadata": {},
   "outputs": [],
   "source": [
    "# Analyse des compteurs par rapportà l'existant\n",
    "df_attr_update, df_attr_insert = classer_compteur_update_insert(dfCompteursAgrege, dept)"
   ]
  },
  {
   "cell_type": "code",
   "execution_count": 5,
   "metadata": {},
   "outputs": [],
   "source": [
    "# vérification des doublons\n",
    "refInsert, assocInsert = ventilerDoublons(df_attr_insert)\n",
    "refUpdate, assocUpdate = ventilerDoublons(df_attr_update)"
   ]
  },
  {
   "cell_type": "markdown",
   "metadata": {},
   "source": [
    "Dans l'exemple de Niort, tous les points semblent être de nouveaux points. Dans d'autres cas, une première classification pourra avoir lieu ici, entre les comptages du gestionnaire qui vont simplement amené à insérér des valeurs de comptage, ceux qui semblent devoir impliquer la création d'un compteur, et ceux qui sont associés à ceux qui semblent devoir impliquer la création d'un compteur"
   ]
  },
  {
   "cell_type": "markdown",
   "metadata": {},
   "source": [
    "## Ventilation des compteurs inconnus dans la Bdd"
   ]
  },
  {
   "cell_type": "code",
   "execution_count": 7,
   "metadata": {},
   "outputs": [],
   "source": [
    "# si les comptages ont été géolocalisé avant, on insère le résultat dans la bdd, \n",
    "# sinon on peut géolocaliser à ce moment là, ce qui insère automatiquement les données dans la bdd\n",
    "# pour info sur la geoloc localiser_comptage_a_inserer(df, schema_temp,nom_table_temp, table_ref, table_pr)\n",
    "# dans le cas des données Niort, les compteurs sont déjà gélocalisés, donc on ne fait que les passer en bdd\n",
    "nomTablePoints = 'niort_2022'\n",
    "with ConnexionBdd() as c:\n",
    "    gp_changer_nom_geom(gp.GeoDataFrame(refInsert, geometry='geometry').set_crs('epsg:2154', allow_override=True),\n",
    "                        'geom').to_postgis(nomTablePoints, c.sqlAlchemyConn, schema='public')"
   ]
  },
  {
   "cell_type": "markdown",
   "metadata": {},
   "source": [
    "### Isoler les principaux cas\n",
    "Il s'agit ici de trier les points sans géométrie, point avec geom mais eloigne du referentiel, point avec geom, proche d'une section homogene de trafic, avec 1 seul point sur la section, point avec geom, proche d'une section homogene de trafic, avec plusieurs point sur la section\n",
    "- cptSansGeom : seront intégré en tant que comptages de références (dans le schéma comptage)\n",
    "- ppvHorsSectHomo : seront intégré en tant que comptages de références (dans le schéma comptage), avec besoin de corriger le référentiel pour les intégrer\n",
    "- cptSimpleSectHomo : comptage proche d'une section homogène. 1 seul comptage proche de cette section dans les nouveaux comptages ; va etre retravailler\n",
    "- cptMultiSectHomo : comptages proche d'une section homogène. plsuieurs comptages proches de cette section dans les nouveaux comptages ; va etre retravailler"
   ]
  },
  {
   "cell_type": "code",
   "execution_count": 8,
   "metadata": {},
   "outputs": [
    {
     "data": {
      "text/plain": [
       "(8, 30, 0, 0)"
      ]
     },
     "execution_count": 8,
     "metadata": {},
     "output_type": "execute_result"
    }
   ],
   "source": [
    "cptSansGeom, ppvHorsSectHomo, cptSimpleSectHomo, cptMultiSectHomo = ventilerParSectionHomogene(nomTablePoints, 'linauto.traf2020_bdt_na_ed20_simpli_l', dept, 15)\n",
    "# verif\n",
    "len(cptMultiSectHomo), len(cptSimpleSectHomo), len(cptSansGeom), len(ppvHorsSectHomo)"
   ]
  },
  {
   "cell_type": "markdown",
   "metadata": {},
   "source": [
    "### qualifier les compteurs multiples sur une même section\n",
    "C'est le traitement des comptages de référence et associés, pour les points nouveaux sur une seule setcion homogènes supportant déjà un identifiant de comptage\n",
    "- cptRefMultiSectHomo : point de référence, à insérer dans la table comptage ou compteur du schema comptage, selon sa localisation\n",
    "- cptAssocMultiSectHomo : points associés, à insérer dans le schéma des comptages associés"
   ]
  },
  {
   "cell_type": "code",
   "execution_count": 22,
   "metadata": {},
   "outputs": [
    {
     "data": {
      "text/plain": [
       "(5, 3)"
      ]
     },
     "execution_count": 22,
     "metadata": {},
     "output_type": "execute_result"
    }
   ],
   "source": [
    "cptRefMultiSectHomo, cptAssocMultiSectHomo = ventilerCompteurRefAssoc(cptMultiSectHomo)\n",
    "# verif\n",
    "len(cptAssocMultiSectHomo), len(cptRefMultiSectHomo)"
   ]
  },
  {
   "cell_type": "markdown",
   "metadata": {
    "tags": []
   },
   "source": [
    "### qualifier les compteurs de référence, selon la présence d'un identifiant de comptage ou non sur cette section dans la Bdd\n",
    "C'est un simple regroupement / tri des compteurs de références nouveaux\n",
    "- cptRefSectHomoNew : compteur de reference sur section homogene sans id_comptag -> va devenir un nouveau compteur\n",
    "- cptRefSectHomoOld : compteur de reference sur section homogene avec id_comptag -> doit etre étudier pour déterminer le statut définitif"
   ]
  },
  {
   "cell_type": "code",
   "execution_count": 21,
   "metadata": {},
   "outputs": [
    {
     "data": {
      "text/plain": [
       "(23, 10)"
      ]
     },
     "execution_count": 21,
     "metadata": {},
     "output_type": "execute_result"
    }
   ],
   "source": [
    "cptRefSectHomoNew, cptRefSectHomoOld = ventilerCompteurIdComptagExistant(cptSimpleSectHomo, cptRefMultiSectHomo)\n",
    "# verif\n",
    "len(cptRefSectHomoNew), len(cptRefSectHomoOld)"
   ]
  },
  {
   "cell_type": "markdown",
   "metadata": {
    "tags": []
   },
   "source": [
    "### Les compteurs présents sur une section supportant déjà un comptage dans la Bdd sont ventilé là.\n",
    "C'est là dernière phase du processus automatique : séparation des compteurs concernés vers la création de nouveaux compteurs, la modification du type de poste, la création de correspondance d'identifiant de comptage ou la création de compteurs associés\n",
    "- dfCorrespIdComptag : correspondance d'identifiant de comptage\n",
    "- dfCreationComptageAssocie : création de compteurs associés\n",
    "- dfModifTypePoste : modification du type de poste\n",
    "- dfCreationCompteur : création de nouveaux compteurs"
   ]
  },
  {
   "cell_type": "code",
   "execution_count": 144,
   "metadata": {
    "tags": []
   },
   "outputs": [
    {
     "data": {
      "text/plain": [
       "(3, 6, 1, 0)"
      ]
     },
     "execution_count": 144,
     "metadata": {},
     "output_type": "execute_result"
    }
   ],
   "source": [
    "dfCreationComptagAssoc, dfCorrespIdComptag, dfCreationCompteurExistDevientAssoc, dfCreationCompteur = ventilerNouveauComptageRef(\n",
    "    cptRefSectHomoOld, '79', 'linauto.traf2020_bdt_na_ed20_cnt2_ini_l', 'lineaire.traf2020_bdt_na_ed20_l')\n",
    "# verif\n",
    "len(dfCreationComptagAssoc), len(dfCorrespIdComptag), len(dfCreationCompteurExistDevientAssoc), len(dfCreationCompteur)"
   ]
  },
  {
   "cell_type": "code",
   "execution_count": null,
   "metadata": {
    "tags": []
   },
   "outputs": [],
   "source": [
    "# si un warning sort de cette fonction, cherchez les doublons\n",
    "# exemple :\n",
    "verifDbl = pd.concat([dfCorrespIdComptag.assign(variableSrc='dfCorrespIdComptag'), dfCreationComptagAssoc.assign(variableSrc='dfCreationComptagAssoc'),\n",
    "           dfCreationCompteurExistDevientAssoc.assign(variableSrc='dfCreationCompteurExistDevientAssoc'),\n",
    "                      dfCreationCompteur.assign(dfCreationCompteur='dfCreationCompteur')])\n",
    "verifDbl.loc[verifDbl.duplicated('id_comptag', keep=False)].sort_values('id_comptag')"
   ]
  },
  {
   "cell_type": "markdown",
   "metadata": {},
   "source": [
    "## Regroupement des résultats par catégorie et vérifications (visuelle + autres)\n",
    "pour Rappel, les classes sont :\n",
    "\n",
    "|Situation                                                             |Variable\n",
    "|----------------------------------------------------------------------|-------------------------------------------------------------------|\n",
    "|le nouveau compteur devient référence et l'existant devient associé   |dfCreationCompteurExistDevientAssoc                                                   |\n",
    "|le nouveau compteur devient référence sur une section qui en avait pas|dfCreationCompteur, cptRefSectHomoNew, cptSansGeom, ppvHorsSectHomo|\n",
    "|création d'une correspondance d'identifiant de comptage               |dfCorrespIdComptag                                                 |\n",
    "|nouveau compteur devient comptage associé                             |dfCreationComptagAssoc, cptAssocMultiSectHomo                   |"
   ]
  },
  {
   "cell_type": "markdown",
   "metadata": {
    "tags": []
   },
   "source": [
    "<div class=\"alert alert-block alert-warning\"> <b> la vérification post traitement auto est à améliorer</b>, notamment avec le fonction modifierVentilation(), qui ne prend pas en compte le cas des modifs vers NewCompteur, sachant que cela peut engendrer de nouvelle corresp_id_comptag ou de modifier certaines associations de comptage.</div>"
   ]
  },
  {
   "cell_type": "code",
   "execution_count": null,
   "metadata": {
    "tags": []
   },
   "outputs": [],
   "source": [
    "# variables\n",
    "creationCompteur = gp.GeoDataFrame(pd.concat([dfCreationCompteur, cptRefSectHomoNew, cptSansGeom, ppvHorsSectHomo]).drop(\n",
    "    ['geom', 'geom_y', 'type_poste_bdd_tronc_homo_topo', 'type_poste_bdd_tronc_homo_traf'], axis=1, errors='ignore'),\n",
    "                                   geometry='geom_x', crs=2154)\n",
    "comptageAssocie = gp.GeoDataFrame(pd.concat([dfCreationComptagAssoc, cptAssocMultiSectHomo]).drop(\n",
    "    ['geom', 'geom_y', 'type_poste_bdd_tronc_homo_topo', 'type_poste_bdd_tronc_homo_traf'], axis=1, errors='ignore'),\n",
    "                                  geometry='geom_x', crs=2154)\n",
    "correspIdComptag = gp.GeoDataFrame(dfCorrespIdComptag.drop(\n",
    "    ['geom', 'geom_y', 'type_poste_bdd_tronc_homo_topo', 'type_poste_bdd_tronc_homo_traf'], axis=1, errors='ignore'),\n",
    "                                   geometry='geom_x', crs=2154)\n",
    "CreationCompteurExistDevientAssoc = gp.GeoDataFrame(dfCreationCompteurExistDevientAssoc.drop(\n",
    "    ['geom', 'geom_y', 'type_poste_bdd_tronc_homo_topo', 'type_poste_bdd_tronc_homo_traf'], axis=1, errors='ignore'),\n",
    "                                                    geometry='geom_x', crs=2154)\n",
    "# vérif sur le nombre d'objets :\n",
    "if sum([len(e) for e in (creationCompteur, comptageAssocie, correspIdComptag, CreationCompteurExistDevientAssoc)]) != len(refInsert):\n",
    "    raise ValueError(\"le processus de ventilation a produit un nombre d'élément différents de celui en entrée. vérifier le propcess\")\n",
    "# export pour vérif Qgis\n",
    "for k, v in {'creationCompteur': creationCompteur, 'comptageAssocie': comptageAssocie,\n",
    "             'correspIdComptag': correspIdComptag, 'CreationCompteurExistDevientAssoc': CreationCompteurExistDevientAssoc}.items():\n",
    "    if not v.empty:\n",
    "        v.to_file(fr'C:\\Users\\martin.schoreisz\\Documents\\temp\\OTV\\Niort\\Verifs\\{k}.shp')"
   ]
  },
  {
   "cell_type": "code",
   "execution_count": 1143,
   "metadata": {},
   "outputs": [],
   "source": [
    "# Excemple de modification d'affectation de la ventilation sur Limoges\n",
    "listCompteurAForcer = ['LimMet-rue encombe vineuse-1.2548;45.8397', 'LimMet-avenue adrien tarrade-1.257;45.8398', 'LimMet-avenue maryse bastie-1.3281;45.8794']\n",
    "listeDepuisAssociesVersCorresp = ['LimMet-avenue adrien tarrade-1.2545;45.8386']\n",
    "cptAForcer = pd.concat([cptRefSectHomoOld.loc[cptRefSectHomoOld.id_comptag.isin(listCompteurAForcer)], \n",
    "                                            cptAssocMultiSectHomo.loc[cptAssocMultiSectHomo.id_comptag.isin(listCompteurAForcer)]])\n",
    "# verif cpt a forcer \n",
    "if len(listCompteurAForcer) != len(cptAForcer):\n",
    "    raise ValueError(\"tout les comptages de la liste des compteurs à forcer n'ont pas été trouvés, ou certains sont en doublons. Vérfiez les sources et résultats\")\n",
    "# calcul des nouveaux jeux de données\n",
    "(dfCreationComptageAssocie_MaJMano, dfCorrespIdComptag_MajMano,\n",
    " cptAssocMultiSectHomo_MajMano, cptRefSectHomoNew_MajMano) = modifierVentilation(dfCorrespIdComptag, cptRefSectHomoNew, dfCreationComptageAssocie,\n",
    "                                                                                                 cptAssocMultiSectHomo,\n",
    "                                                                                                 listeDepuisAssociesVersCorresp)"
   ]
  },
  {
   "cell_type": "markdown",
   "metadata": {},
   "source": [
    "<div class=\"alert alert-block alert-danger\"> bien penser à <b>vérifier les cas de création de doublons suite aux correspondances d'id_comptag</b>, à <b>la bonne affectation des comptage de référence interne aux données qui sont en fait des comptages associés par rapport aux données présentes en Bdd</b> (les comptages associés interne aux données gest doivent alors pointé vers le comptage de référence de la Bdd), plus tous les autres cas possibles. </div>"
   ]
  },
  {
   "cell_type": "markdown",
   "metadata": {},
   "source": [
    "## Mise en forme et insertion des résultats\n",
    "Suite à la classification, il faut préparer puis insérer les données dans la Bdd. Pour rappel, la strutcure de bdd oblige l'insertion des connées de compteurs pour pouvoir formater les données de comptages, et oblige l'insertion des comptages pour pouvoir formater et insérer les indicateurs"
   ]
  },
  {
   "cell_type": "markdown",
   "metadata": {},
   "source": [
    "### Compteurs\n",
    "les données proviennent de creationCompteur et CreationCompteurExistDevientAssoc"
   ]
  },
  {
   "cell_type": "code",
   "execution_count": 172,
   "metadata": {},
   "outputs": [],
   "source": [
    "# Compteurs : peucvent provenir des newCompteurs ou des newCompteurDevientRefExistantDevientAssoc\n",
    "dfNewCompteurInsert = rassemblerNewCompteur('79', ((creationCompteur, 'geom_x'), (CreationCompteurExistDevientAssoc, 'geom_x')))\n",
    "# insertion compteurs\n",
    "insererSchemaComptage(dfNewCompteurInsert, 'compteur')"
   ]
  },
  {
   "cell_type": "markdown",
   "metadata": {},
   "source": [
    "### Comptages\n",
    "au préalable, il faut bien mettre à jour les correspondance d'identifiant de comptages. les données proviennent de cptRefSectHomoNew, df_attr_update, cptAForcer, newAssocieDevientRef, dfCorrespIdComptag.<br>Le rassemblement peut générer des doublons, qui vont être traiter pour ressortir de nouveaux comptages associés"
   ]
  },
  {
   "cell_type": "code",
   "execution_count": 177,
   "metadata": {},
   "outputs": [],
   "source": [
    "# gestion des correspondance d'id_comptag\n",
    "insererSchemaComptage(creerCorrespComptag(dfCorrespIdComptag, 'id_comptag', 'id_comptag_bdd_tronc_homo_topo', []), 'corresp_id_comptag')"
   ]
  },
  {
   "cell_type": "code",
   "execution_count": 340,
   "metadata": {},
   "outputs": [],
   "source": [
    "# creer les comptages\n",
    "dfComptageNewTot, assoc = rassemblerNewComptage('2021', 'tv/pl', df_attr_update[['id_comptag', 'periode', 'src', 'annee', 'type_poste', 'pc_pl', 'tmja']].drop(\n",
    "    ['id_comptag_gest'], axis=1, errors='ignore').rename(columns={c: c[:-5] for c in df_attr_update.columns if c[-5:] == '_gest'}).rename(\n",
    "    columns={'src_2020': 'src', 'tmja_2020': 'tmja', 'pc_pl_2020': 'pc_pl', 'id_comptag_bdd': 'id_comptag', 'obs_2020': 'periode'}),\n",
    "                                                corresp_nom_id_comptag(cptRefSectHomoNew[['id_comptag', 'periode', 'src', 'annee', 'type_poste', 'pc_pl', 'tmja']]\n",
    "                                                                       ).rename(columns={'src_2020': 'src'}),\n",
    "                                                # cptAForcer.rename(columns={'src_2020': 'src'}),\n",
    "                                                # newAssocieDevientRef.rename(columns={'src_2020': 'src'}),\n",
    "                                                corresp_nom_id_comptag(dfCorrespIdComptag[['id_comptag', 'periode', 'src', 'annee', 'type_poste', 'pc_pl', 'tmja']]\n",
    "                                                                       ).rename(columns={'src_2020': 'src'}),\n",
    "                                                corresp_nom_id_comptag(dfCreationCompteurExistDevientAssoc),\n",
    "                                                corresp_nom_id_comptag(dfCreationCompteur)\n",
    "insererSchemaComptage(dfComptageNewTot, 'comptage')"
   ]
  },
  {
   "cell_type": "markdown",
   "metadata": {},
   "source": [
    "### Indicateurs\n",
    "il faut gérer les indicateurs agreges, mensuels et horaires. Pensez à convertir les id_comptag selon les correspondances établies précédemment"
   ]
  },
  {
   "cell_type": "code",
   "execution_count": 226,
   "metadata": {},
   "outputs": [],
   "source": [
    "# inserer les nouveaux indicateurs\n",
    "dfIndicAgregeNew, dfIndicMensNew, dfIndicHoraireNew = rassemblerIndics(\n",
    "    '2021', dfComptageNewTot, corresp_nom_id_comptag(dfCompteursAgrege), dfTraficHoraire=corresp_nom_id_comptag(dfHoraireFinale),\n",
    "    indicAgregeValues=['tmja', 'pc_pl', 'tmjo', 'pc_pl_o', 'vma', 'vmoy', 'v85'])\n",
    "insererSchemaComptage(dfIndicAgregeNew, 'indicAgrege')\n",
    "insererSchemaComptage(dfIndicHoraireNew, 'indicHoraire')"
   ]
  },
  {
   "cell_type": "markdown",
   "metadata": {},
   "source": [
    "### Comptages Associés\n",
    "Penser à bien récupérer toute les sources de comptages associés, notamment ceux issus d'éventuels doublons liés aux correspondances d'id_comptag"
   ]
  },
  {
   "cell_type": "code",
   "execution_count": 299,
   "metadata": {},
   "outputs": [],
   "source": [
    "# compteurs\n",
    "insererSchemaComptageAssoc(creerCompteurAssoc(gp.GeoDataFrame(comptageAssocie, geometry='geom_x', crs='epsg:2154'), 'id_comptag', 'geom_x', \n",
    "                   dicoIdCpteurRef={1: 'id_comptag_bdd_tronc_homo_topo', 2: 'id_comptag_tronc_homo_traf', 3: 'id_comptag_bdd', 4: 'id_comptag_ref'},\n",
    "                   listIdCptExclu=None, NomAttrFinal='idCpteurRef'), 'compteur')\n",
    "# comptages\n",
    "tableComptageAssoc = creerComptageAssoc(comptageAssocie.assign(type_veh='tv/pl'), 'id_comptag_bdd', '2021', 'id_comptag', dicoIdCpteurRef=dicoIdCpteurRef)[1]\n",
    "insererSchemaComptageAssoc(tableComptageAssoc, 'comptage')\n",
    "# Indicateurs\n",
    "# Agrege\n",
    "dfAssocIndicAgrege = dfCompteursAgrege.merge(tableComptageAssoc[['id_cpteur_asso', 'id_cptag_ref']], left_on='id_comptag', right_on='id_cpteur_asso', how='right')\n",
    "insererSchemaComptageAssoc(structureBddOld2NewFormAssoc(dfAssocIndicAgrege.assign(annee='2021'), '2021', \n",
    "                                                  ['id_cptag_ref', 'annee', 'id_cpteur_asso', 'fichier'],\n",
    "                             ['tmja', 'pc_pl', 'tmjo', 'pc_pl_o', 'vma', 'vmoy', 'v85'], 'agrege'), 'indicAgrege')\n",
    "# horaire\n",
    "dfTraficHoraire = corresp_nom_id_comptag(dfHoraireFinale)\n",
    "insererSchemaComptageAssoc(structureBddOld2NewFormAssoc(dfTraficHoraire.merge(dfAssocIndicAgrege, on='id_comptag'), '2021',\n",
    "                             attrIndicHoraireAssoc+['annee','id_cptag_ref', 'id_cpteur_asso'], None, 'horaire'), 'indicHoraire')"
   ]
  },
  {
   "cell_type": "markdown",
   "metadata": {},
   "source": [
    "### Compteurs existant devenant Associés\n",
    "On va utiliser la fonction dans la base postgres : comptage.transfert_comptage_assoc(id_comptage_ref comptage.id_comptage, id_comptage_assoc comptage.id_comptage, annee_ref comptage.annee, annee_assoc comptage.annee, recup_compteur boolean DEFAULT false, sup_compteur boolean DEFAULT false). cf les commentaire de cette fionction pour plus de détails"
   ]
  },
  {
   "cell_type": "code",
   "execution_count": 354,
   "metadata": {},
   "outputs": [],
   "source": [
    "# la fonction permet le transfert des données et la récupération de la requete pour vérification\n",
    "txtAppelFonction = appelFonctionTransfertComptage2ComptageAssoc(listParamsFonctionPostgres, True, True)\n",
    "txtAppelFonction"
   ]
  }
 ],
 "metadata": {
  "kernelspec": {
   "display_name": "Python 3 (ipykernel)",
   "language": "python",
   "name": "python3"
  },
  "language_info": {
   "codemirror_mode": {
    "name": "ipython",
    "version": 3
   },
   "file_extension": ".py",
   "mimetype": "text/x-python",
   "name": "python",
   "nbconvert_exporter": "python",
   "pygments_lexer": "ipython3",
   "version": "3.9.6"
  }
 },
 "nbformat": 4,
 "nbformat_minor": 4
}
