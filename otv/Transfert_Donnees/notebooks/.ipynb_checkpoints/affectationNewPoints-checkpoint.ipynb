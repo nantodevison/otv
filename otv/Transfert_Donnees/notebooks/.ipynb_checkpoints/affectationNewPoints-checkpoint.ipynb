{
 "cells": [
  {
   "cell_type": "code",
   "execution_count": 2,
   "metadata": {},
   "outputs": [],
   "source": [
    "%load_ext autoreload\n",
    "%autoreload 2"
   ]
  },
  {
   "cell_type": "code",
   "execution_count": 3,
   "metadata": {},
   "outputs": [],
   "source": [
    "import sys\n",
    "sys.path.append(r'C:\\Users\\martin.schoreisz\\git\\otv\\otv\\Transfert_Donnees')\n",
    "sys.path.append(r'C:\\Users\\martin.schoreisz\\git\\Outils\\Outils\\Martin_Perso')\n",
    "import pandas as pd\n",
    "import geopandas as gp\n",
    "import Outils as O\n",
    "from Connexion_Transfert import ConnexionBdd\n",
    "from Outils import gp_changer_nom_geom\n",
    "from Params.Bdd_OTV import nomConnBddOtv, schemaComptage, vueLastAnnKnow\n",
    "import warnings\n",
    "from Integration_nouveau_comptage import (localiser_comptage_a_inserer, ventilerParSectionHomogene, creer_comptage, structureBddOld2NewForm, creerCorrespComptag,\n",
    "                                          ventilerCompteurRefAssoc, ventilerCompteurIdComptagExistant, ventilerNouveauComptageRef, creerCompteur, corresp_nom_id_comptag,\n",
    "                                          creerComptageAssoc, creerCompteurAssoc, structureBddOld2NewFormAssoc, rassemblerNewCompteur, rassemblerNewComptage,\n",
    "                                          rassemblerIndics, hierarchisationCompteur, ventilerDoublons, geomFromIdComptagCommunal,\n",
    "                                          modifierVentilation, rangBddComptageAssoc, classer_compteur_update_insert, scinderComptagExistant, \n",
    "                                          comptagesAssocDefinirIdCompteurRef, creerListTransfertComptage2ComptageAssoc, appelFonctionTransfertComptage2ComptageAssoc)\n",
    "from Params.Bdd_OTV import (nomConnBddOtv, schemaComptage, schemaComptageAssoc, tableComptage, tableEnumTypeVeh, \n",
    "                            tableCompteur, tableCorrespIdComptag, attrCompteurAssoc, attBddCompteur, attrComptageMano,\n",
    "                            attrCompteurValeurMano, attrComptageAssoc, enumTypePoste, vueLastAnnKnow, attrIndicHoraireAssoc,\n",
    "                            attrIndicHoraire)\n",
    "from Import_export_comptage import (recupererIdUniqComptage, compteur_existant_bdd, insererSchemaComptage, insererSchemaComptageAssoc, insert_bdd,\n",
    "                                    recupererIdUniqComptageAssoc)\n",
    "pd.set_option('display.max_columns', 100)"
   ]
  },
  {
   "cell_type": "markdown",
   "metadata": {},
   "source": [
    "# **Objectif et rappel de procédure**\n",
    "Il s'agit de dérouler le processus d'affectation de nouveaux compteurs / comptages fournis par un gestionnaire"
   ]
  },
  {
   "cell_type": "markdown",
   "metadata": {},
   "source": [
    "## Préparation des données \n",
    "Cf notebook Import_trafic"
   ]
  },
  {
   "cell_type": "markdown",
   "metadata": {},
   "source": [
    "### Rappel sur la géolocalisation\n",
    "La géolocalisation peut etre menée avant le processus de création des points, ou après. la géolocalisation est possible via des coordonnées, des adresses ou des PR+abs.  \n",
    "la fonction de géolocalisationb est **Integration_nouveau_comptage.localiser_comptage_a_inserer()**\n",
    "<img src=\"images/GeolocDonneesGestionnaire.svg\" alt=\"Geolocaliser les données\" align=\"center\" widht=500px>  "
   ]
  },
  {
   "cell_type": "markdown",
   "metadata": {},
   "source": [
    "### Rappel sur la création d'identifiant de comptage\n",
    "<img src=\"images/CreerIdComptage.svg\" alt=\"Geolocaliser les données\" align=\"center\" > "
   ]
  },
  {
   "cell_type": "markdown",
   "metadata": {},
   "source": [
    "## Ventilation des compteurs connus \n",
    "**Schéma de Ventilation des compteurs connus (à G), avec rappel du formatage des données (à D) :**<br>\n",
    "<img src=\"images/VentilationComptagesConnus.svg\" alt=\"Ventiler les comptages connus\" align=\"left\" width=500px>  \n",
    "<img src=\"images/formatageDonneesGestionnaire.svg\" alt=\"Ventiler les comptages connus\" align=\"right\" width=600px>  "
   ]
  },
  {
   "cell_type": "markdown",
   "metadata": {},
   "source": [
    "## Ventilation par section homogène\n",
    "il s'agit ici de la premiere étape de vérification que les nouveaux compteurs sont bien nouveaux, et non relatifs à des comptages existants mais avec un nom différents\n",
    "<img src=\"images/VentilerParSectionHomogene.svg\" alt=\"Ventiler les comptages connus\" align=\"center\">  "
   ]
  },
  {
   "cell_type": "markdown",
   "metadata": {
    "tags": []
   },
   "source": [
    "## Séparation des comptages entre référence et associé\n",
    "pour les nouveaux comptages, cela permet de limiter les données concernant le même troncon homogène de trafic\n",
    "<img src=\"images/ComptagAssocieDecisionFlow.svg\" alt=\"Ventiler les comptages connus\" align=\"center\">"
   ]
  },
  {
   "cell_type": "markdown",
   "metadata": {
    "tags": []
   },
   "source": [
    "## Ventilation des nouveaux comptages de référence\n",
    "pour les nouveaux comptages de référence, les répartir selon que ce sont des nouveaux compteurs, des nouveaux compteurs qui \"envoient\" les précédents comme comptages associé, des correspondances d'identifiants de comptag ou des comptages associés\n",
    "<img src=\"images/VentilationNouveauComptage.svg\" alt=\"Ventiler les comptages connus\" align=\"center\">"
   ]
  },
  {
   "cell_type": "markdown",
   "metadata": {},
   "source": [
    "# Schéma général de classement des nouvelles données\n",
    "Attention, la partie finale, et notamment la séparation final des nouveaux comptages ventilés pouis vérifié est à préciser\n",
    "<img src=\"images/NouveauCompteurGénéral.svg\" alt=\"Ventiler les comptages connus\" align=\"center\">"
   ]
  },
  {
   "cell_type": "markdown",
   "metadata": {},
   "source": [
    "# Détails de Procédure\n",
    "Exemple sur CD33 millésime 2021"
   ]
  },
  {
   "cell_type": "markdown",
   "metadata": {
    "tags": []
   },
   "source": [
    "## Import des données gestionnaire formatées précédemment"
   ]
  },
  {
   "cell_type": "code",
   "execution_count": 194,
   "metadata": {
    "tags": []
   },
   "outputs": [],
   "source": [
    "# les données sources (en désagrégé parfois):\n",
    "    # dfAgregeFinale = gp.read_file(r'C:\\Users\\martin.schoreisz\\Documents\\temp\\OTV\\Niort\\dfAgregeFinale.geojson', driver=\"GeoJSON\", index=None)\n",
    "    # dfHoraireFinale = pd.read_json(r'C:\\Users\\martin.schoreisz\\Documents\\temp\\OTV\\Niort\\dfHoraireFinale.json', convert_dates=['jour'])\n",
    "    # dfCompteurs = gp.read_file(r'C:\\Users\\martin.schoreisz\\Documents\\temp\\OTV\\Niort\\dfCompteurs.geojson', driver=\"GeoJSON\", index=None)\n",
    "    # la jointure pour avoir le type de poste, les trafics, etc... sur la même df\n",
    "    # dfCompteursAgrege = dfCompteurs.merge(dfAgregeFinale.drop('geometry', axis=1), on='id_comptag')\n",
    "# paramètres\n",
    "dept = '79'\n",
    "colsSource = dfCompteursAgrege.columns"
   ]
  },
  {
   "cell_type": "code",
   "execution_count": 33,
   "metadata": {
    "tags": []
   },
   "outputs": [],
   "source": [
    "# les données sources (en désagrégé parfois)\n",
    "dfCompteursAgrege = gp.read_file(r'C:\\Users\\martin.schoreisz\\Documents\\temp\\OTV\\CD33\\TtSource.shp')\n",
    "# paramètres\n",
    "dept = '33'\n",
    "colsSource = dfCompteursAgrege.columns"
   ]
  },
  {
   "cell_type": "markdown",
   "metadata": {},
   "source": [
    "## Ventilation des compteurs connus\n",
    "Pour rappel il s'agit de séparer dans un premier temps les compteurs qui sont : \n",
    "- déjà référencés dans la table des compteurs \n",
    "- déà référencés dans la table des correspondance d'identifiant de comptage<br>\n",
    "\n",
    "Les données travaillées sont donc la df des compteurs et la dfAgrege. On utilisera principalement la dfAgrege comme sources des traitements, car certains nécéssite\n",
    "les données de trafic . Pour rappel, Il est possible que la séparation créé des doublons d'id_comptag, lors de la recherche des correspondances de nommage. Donc il va falloir traiter ces odublons.\n",
    "Les fonctions classer_compteur_update_insert() et sont ventilerDoublons() sont utilisées pour cela"
   ]
  },
  {
   "cell_type": "code",
   "execution_count": 34,
   "metadata": {},
   "outputs": [],
   "source": [
    "# Analyse des compteurs par rapportà l'existant\n",
    "df_attr_update, df_attr_insert = classer_compteur_update_insert(dfCompteursAgrege, dept)"
   ]
  },
  {
   "cell_type": "code",
   "execution_count": 53,
   "metadata": {},
   "outputs": [],
   "source": [
    "# vérification des doublons\n",
    "refInsert, assocInsert = ventilerDoublons(df_attr_insert)\n",
    "refUpdate, assocUpdate = ventilerDoublons(df_attr_update)"
   ]
  },
  {
   "cell_type": "markdown",
   "metadata": {},
   "source": [
    "Dans l'exemple de Niort, tous les points semblent être de nouveaux points. Dans d'autres cas, une première classification pourra avoir lieu ici, entre les comptages du gestionnaire qui vont simplement amené à insérér des valeurs de comptage, ceux qui semblent devoir impliquer la création d'un compteur, et ceux qui sont associés à ceux qui semblent devoir impliquer la création d'un compteur"
   ]
  },
  {
   "cell_type": "markdown",
   "metadata": {},
   "source": [
    "## Ventilation des compteurs inconnus dans la Bdd"
   ]
  },
  {
   "cell_type": "code",
   "execution_count": 57,
   "metadata": {},
   "outputs": [],
   "source": [
    "# si les comptages ont été géolocalisé avant, on insère le résultat dans la bdd, \n",
    "# sinon on peut géolocaliser à ce moment là, ce qui insère automatiquement les données dans la bdd\n",
    "# pour info sur la geoloc localiser_comptage_a_inserer(df, schema_temp,nom_table_temp, table_ref, table_pr)\n",
    "# dans le cas des données Niort, les compteurs sont déjà gélocalisés, donc on ne fait que les passer en bdd\n",
    "nomTablePoints = 'cd33_millesime2021'\n",
    "with ConnexionBdd() as c:\n",
    "    c.curs.execute(f'drop table if exists {nomTablePoints}')\n",
    "    c.connexionPsy.commit()\n",
    "    gp_changer_nom_geom(gp.GeoDataFrame(refInsert, geometry='geometry').set_crs('epsg:2154', allow_override=True),\n",
    "                        'geom').to_postgis(nomTablePoints, c.sqlAlchemyConn, schema='public')"
   ]
  },
  {
   "cell_type": "markdown",
   "metadata": {},
   "source": [
    "### Isoler les principaux cas\n",
    "Il s'agit ici de trier les points sans géométrie, point avec geom mais eloigne du referentiel, point avec geom, proche d'une section homogene de trafic, avec 1 seul point sur la section, point avec geom, proche d'une section homogene de trafic, avec plusieurs point sur la section\n",
    "- cptSansGeom : seront intégré en tant que comptages de références (dans le schéma comptage)\n",
    "- ppvHorsSectHomo : seront intégré en tant que comptages de références (dans le schéma comptage), avec besoin de corriger le référentiel pour les intégrer\n",
    "- cptSimpleSectHomo : comptage proche d'une section homogène. 1 seul comptage proche de cette section dans les nouveaux comptages ; va etre retravailler\n",
    "- cptMultiSectHomo : comptages proche d'une section homogène. plsuieurs comptages proches de cette section dans les nouveaux comptages ; va etre retravailler"
   ]
  },
  {
   "cell_type": "code",
   "execution_count": 67,
   "metadata": {
    "tags": []
   },
   "outputs": [
    {
     "data": {
      "text/plain": [
       "(30, 140, 0, 12)"
      ]
     },
     "execution_count": 67,
     "metadata": {},
     "output_type": "execute_result"
    }
   ],
   "source": [
    "cptSansGeom, ppvHorsSectHomo, cptSimpleSectHomo, cptMultiSectHomo = ventilerParSectionHomogene(nomTablePoints, 'linauto.traf2020_bdt_na_ed20_simpli_l',\n",
    "                                                                                               dept, 15)\n",
    "# verif\n",
    "len(cptMultiSectHomo), len(cptSimpleSectHomo), len(cptSansGeom), len(ppvHorsSectHomo)"
   ]
  },
  {
   "cell_type": "markdown",
   "metadata": {},
   "source": [
    "### qualifier les compteurs multiples sur une même section\n",
    "C'est le traitement des comptages de référence et associés, pour les points nouveaux sur une seule setcion homogènes supportant déjà un identifiant de comptage\n",
    "- cptRefMultiSectHomo : point de référence, à insérer dans la table comptage ou compteur du schema comptage, selon sa localisation\n",
    "- cptAssocMultiSectHomo : points associés, à insérer dans le schéma des comptages associés"
   ]
  },
  {
   "cell_type": "code",
   "execution_count": 68,
   "metadata": {},
   "outputs": [
    {
     "data": {
      "text/plain": [
       "(15, 15)"
      ]
     },
     "execution_count": 68,
     "metadata": {},
     "output_type": "execute_result"
    }
   ],
   "source": [
    "cptRefMultiSectHomo, cptAssocMultiSectHomo = ventilerCompteurRefAssoc(cptMultiSectHomo)\n",
    "# verif\n",
    "len(cptAssocMultiSectHomo), len(cptRefMultiSectHomo)"
   ]
  },
  {
   "cell_type": "markdown",
   "metadata": {
    "tags": []
   },
   "source": [
    "### qualifier les compteurs de référence, selon la présence d'un identifiant de comptage ou non sur cette section dans la Bdd\n",
    "C'est un simple regroupement / tri des compteurs de références nouveaux\n",
    "- cptRefSectHomoNew : compteur de reference sur section homogene sans id_comptag -> va devenir un nouveau compteur\n",
    "- cptRefSectHomoOld : compteur de reference sur section homogene avec id_comptag -> doit etre étudier pour déterminer le statut définitif"
   ]
  },
  {
   "cell_type": "code",
   "execution_count": 69,
   "metadata": {},
   "outputs": [
    {
     "data": {
      "text/plain": [
       "(73, 82)"
      ]
     },
     "execution_count": 69,
     "metadata": {},
     "output_type": "execute_result"
    }
   ],
   "source": [
    "cptRefSectHomoNew, cptRefSectHomoOld = ventilerCompteurIdComptagExistant(cptSimpleSectHomo, cptRefMultiSectHomo)\n",
    "# verif\n",
    "len(cptRefSectHomoNew), len(cptRefSectHomoOld)"
   ]
  },
  {
   "cell_type": "markdown",
   "metadata": {
    "tags": []
   },
   "source": [
    "### Les compteurs présents sur une section supportant déjà un comptage dans la Bdd sont ventilé là.\n",
    "C'est là dernière phase du processus automatique : séparation des compteurs concernés vers la création de nouveaux compteurs, la modification du type de poste, la création de correspondance d'identifiant de comptage ou la création de compteurs associés\n",
    "- dfCorrespIdComptag : correspondance d'identifiant de comptage\n",
    "- dfCreationComptageAssocie : création de compteurs associés\n",
    "- dfModifTypePoste : modification du type de poste\n",
    "- dfCreationCompteur : création de nouveaux compteurs"
   ]
  },
  {
   "cell_type": "code",
   "execution_count": 121,
   "metadata": {
    "tags": []
   },
   "outputs": [
    {
     "data": {
      "text/plain": [
       "(14, 27, 41, 0)"
      ]
     },
     "execution_count": 121,
     "metadata": {},
     "output_type": "execute_result"
    }
   ],
   "source": [
    "dfCreationComptagAssoc, dfCorrespIdComptag, dfCreationCompteurExistDevientAssoc, dfCreationCompteur = ventilerNouveauComptageRef(\n",
    "    cptRefSectHomoOld, '33', 'linauto.traf2020_bdt_na_ed20_cnt2_ini_l', 'lineaire.traf2020_bdt_na_ed20_l')\n",
    "# verif\n",
    "len(dfCreationComptagAssoc), len(dfCorrespIdComptag), len(dfCreationCompteurExistDevientAssoc), len(dfCreationCompteur)"
   ]
  },
  {
   "cell_type": "markdown",
   "metadata": {},
   "source": [
    "## Regroupement des résultats par catégorie et vérifications (visuelle + autres)\n",
    "pour Rappel, les classes sont :\n",
    "\n",
    "|Situation                                                             |Variable\n",
    "|----------------------------------------------------------------------|-------------------------------------------------------------------|\n",
    "|le nouveau compteur devient référence et l'existant devient associé   |dfCreationCompteurExistDevientAssoc                                                   |\n",
    "|le nouveau compteur devient référence sur une section qui en avait pas|dfCreationCompteur, cptRefSectHomoNew, cptSansGeom, ppvHorsSectHomo|\n",
    "|création d'une correspondance d'identifiant de comptage               |dfCorrespIdComptag                                                 |\n",
    "|nouveau compteur devient comptage associé                             |dfCreationComptagAssoc, cptAssocMultiSectHomo                   |"
   ]
  },
  {
   "cell_type": "markdown",
   "metadata": {
    "tags": []
   },
   "source": [
    "<div class=\"alert alert-block alert-warning\"> <b> la vérification post traitement auto est à améliorer</b>, notamment avec le fonction modifierVentilation(), qui ne prend pas en compte le cas des modifs vers NewCompteur, sachant que cela peut engendrer de nouvelle corresp_id_comptag ou de modifier certaines associations de comptage.</div>"
   ]
  },
  {
   "cell_type": "markdown",
   "metadata": {
    "tags": []
   },
   "source": [
    "### Vérification de l'affectation\n",
    "manuelle via Qgis"
   ]
  },
  {
   "cell_type": "code",
   "execution_count": 122,
   "metadata": {
    "tags": []
   },
   "outputs": [
    {
     "name": "stdout",
     "output_type": "stream",
     "text": [
      "creationCompteur\n",
      "comptageAssocie\n",
      "correspIdComptag\n",
      "CreationCompteurExistDevientAssoc\n"
     ]
    },
    {
     "name": "stderr",
     "output_type": "stream",
     "text": [
      "C:\\Users\\martin.schoreisz\\AppData\\Local\\Programs\\Python\\Python39\\lib\\site-packages\\geopandas\\io\\file.py:362: FutureWarning: pandas.Int64Index is deprecated and will be removed from pandas in a future version. Use pandas.Index with the appropriate dtype instead.\n",
      "  pd.Int64Index,\n",
      "C:\\Users\\MARTIN~1.SCH\\AppData\\Local\\Temp/ipykernel_15004/1190439800.py:30: UserWarning: Column names longer than 10 characters will be truncated when saved to ESRI Shapefile.\n",
      "  v.to_file(fr'C:\\Users\\martin.schoreisz\\Documents\\temp\\OTV\\CD33\\Verifs\\{k}.shp')\n"
     ]
    }
   ],
   "source": [
    "# variables\n",
    "colonnesSignificatives = ['id_comptag', 'id_comptag_bdd_tronc_homo_topo', 'id_comptag_tronc_homo_traf', 'id_comptag_bdd', 'id_comptag_ref',\n",
    "                          'type_poste', 'type_poste_bdd', 'id_tronc_homo', 'periode', 'tmja', 'vacances_zone_b', 'annee_tmja_bdd', 'tmja_bdd',\n",
    "                          'geom_x']\n",
    "creationCompteur = pd.concat([dfCreationCompteur, cptRefSectHomoNew, cptSansGeom, ppvHorsSectHomo])\n",
    "creationCompteur = gp.GeoDataFrame(creationCompteur.drop(\n",
    "    [c for c in creationCompteur.columns if c not in colonnesSignificatives], axis=1, errors='ignore'),\n",
    "                                   geometry='geom_x', crs=2154)\n",
    "comptageAssocie = pd.concat([dfCreationComptagAssoc, cptAssocMultiSectHomo, assocUpdate])\n",
    "comptageAssocie = gp.GeoDataFrame(comptageAssocie.drop(\n",
    "    [c for c in comptageAssocie.columns if c not in colonnesSignificatives], axis=1, errors='ignore'),\n",
    "                                  geometry='geom_x', crs=2154)\n",
    "correspIdComptag = dfCorrespIdComptag.copy()\n",
    "correspIdComptag = gp.GeoDataFrame(correspIdComptag.drop(\n",
    "    [c for c in correspIdComptag.columns if c not in colonnesSignificatives], axis=1, errors='ignore'),\n",
    "                                   geometry='geom_x', crs=2154)\n",
    "CreationCompteurExistDevientAssoc = dfCreationCompteurExistDevientAssoc.copy()\n",
    "CreationCompteurExistDevientAssoc = gp.GeoDataFrame(dfCreationCompteurExistDevientAssoc.drop(\n",
    "    [c for c in CreationCompteurExistDevientAssoc.columns if c not in colonnesSignificatives], axis=1, errors='ignore'),\n",
    "                                                    geometry='geom_x', crs=2154)\n",
    "# vérif sur le nombre d'objets :\n",
    "if sum([len(e) for e in (creationCompteur, comptageAssocie, correspIdComptag, CreationCompteurExistDevientAssoc)]) != len(\n",
    "    refInsert) + len(assocUpdate):\n",
    "    raise ValueError(\"le processus de ventilation a produit un nombre d'élément différents de celui en entrée. vérifier le propcess\")\n",
    "# export pour vérif Qgis\n",
    "for k, v in {'creationCompteur': creationCompteur, 'comptageAssocie': comptageAssocie,\n",
    "             'correspIdComptag': correspIdComptag, 'CreationCompteurExistDevientAssoc': CreationCompteurExistDevientAssoc}.items():\n",
    "    if not v.empty:\n",
    "        print(k)\n",
    "        v.to_file(fr'C:\\Users\\martin.schoreisz\\Documents\\temp\\OTV\\CD33\\Verifs\\{k}.shp')"
   ]
  },
  {
   "cell_type": "code",
   "execution_count": 94,
   "metadata": {
    "tags": []
   },
   "outputs": [
    {
     "data": {
      "text/html": [
       "<div>\n",
       "<style scoped>\n",
       "    .dataframe tbody tr th:only-of-type {\n",
       "        vertical-align: middle;\n",
       "    }\n",
       "\n",
       "    .dataframe tbody tr th {\n",
       "        vertical-align: top;\n",
       "    }\n",
       "\n",
       "    .dataframe thead th {\n",
       "        text-align: right;\n",
       "    }\n",
       "</style>\n",
       "<table border=\"1\" class=\"dataframe\">\n",
       "  <thead>\n",
       "    <tr style=\"text-align: right;\">\n",
       "      <th></th>\n",
       "      <th>troncon</th>\n",
       "      <th>tmja</th>\n",
       "      <th>pc_pl</th>\n",
       "      <th>tmjo</th>\n",
       "      <th>pc_pl_o</th>\n",
       "      <th>tmje</th>\n",
       "      <th>pc_pl_e</th>\n",
       "      <th>janv</th>\n",
       "      <th>fevr</th>\n",
       "      <th>mars</th>\n",
       "      <th>avri</th>\n",
       "      <th>mai</th>\n",
       "      <th>juin</th>\n",
       "      <th>juil</th>\n",
       "      <th>aout</th>\n",
       "      <th>sept</th>\n",
       "      <th>octo</th>\n",
       "      <th>nove</th>\n",
       "      <th>dece</th>\n",
       "      <th>annee</th>\n",
       "      <th>obs</th>\n",
       "      <th>type_poste</th>\n",
       "      <th>id_cpt</th>\n",
       "      <th>libelle</th>\n",
       "      <th>techno</th>\n",
       "      <th>route</th>\n",
       "      <th>pr</th>\n",
       "      <th>abs</th>\n",
       "      <th>vma</th>\n",
       "      <th>src</th>\n",
       "      <th>id_comptag</th>\n",
       "      <th>dep</th>\n",
       "      <th>reseau</th>\n",
       "      <th>gestionnai</th>\n",
       "      <th>src_geo</th>\n",
       "      <th>convention</th>\n",
       "      <th>src_cpt</th>\n",
       "      <th>concession</th>\n",
       "      <th>id_sect</th>\n",
       "      <th>obs_supl</th>\n",
       "      <th>sens_cpt</th>\n",
       "      <th>periode</th>\n",
       "      <th>v85</th>\n",
       "      <th>v85_vl</th>\n",
       "      <th>v85_pl</th>\n",
       "      <th>geometry</th>\n",
       "      <th>note_hierarchise</th>\n",
       "      <th>id_comptag_ref</th>\n",
       "    </tr>\n",
       "  </thead>\n",
       "  <tbody>\n",
       "    <tr>\n",
       "      <th>0</th>\n",
       "      <td>None</td>\n",
       "      <td>1486.0</td>\n",
       "      <td>6.3</td>\n",
       "      <td>NaN</td>\n",
       "      <td>NaN</td>\n",
       "      <td>NaN</td>\n",
       "      <td>NaN</td>\n",
       "      <td>NaN</td>\n",
       "      <td>NaN</td>\n",
       "      <td>NaN</td>\n",
       "      <td>NaN</td>\n",
       "      <td>NaN</td>\n",
       "      <td>NaN</td>\n",
       "      <td>NaN</td>\n",
       "      <td>NaN</td>\n",
       "      <td>NaN</td>\n",
       "      <td>NaN</td>\n",
       "      <td>NaN</td>\n",
       "      <td>NaN</td>\n",
       "      <td>2021.0</td>\n",
       "      <td>None</td>\n",
       "      <td>ponctuel</td>\n",
       "      <td>D0005.PR 0027+0120.3</td>\n",
       "      <td>ST HELENE - SAUMOS</td>\n",
       "      <td>radar</td>\n",
       "      <td>D5</td>\n",
       "      <td>27.0</td>\n",
       "      <td>120.0</td>\n",
       "      <td>50</td>\n",
       "      <td>enquete</td>\n",
       "      <td>33-D5-27+120</td>\n",
       "      <td>33</td>\n",
       "      <td>RD</td>\n",
       "      <td>CD33</td>\n",
       "      <td>coordonnees_gestionnaire</td>\n",
       "      <td>1</td>\n",
       "      <td>convention gestionnaire</td>\n",
       "      <td>0</td>\n",
       "      <td>None</td>\n",
       "      <td>None</td>\n",
       "      <td>double sens</td>\n",
       "      <td>2021/01/13-2021/01/19</td>\n",
       "      <td>80.95</td>\n",
       "      <td>81.59</td>\n",
       "      <td>65.61</td>\n",
       "      <td>POINT (385829.176 6432556.272)</td>\n",
       "      <td>1.002000e+15</td>\n",
       "      <td>33-D5-27+120</td>\n",
       "    </tr>\n",
       "  </tbody>\n",
       "</table>\n",
       "</div>"
      ],
      "text/plain": [
       "  troncon    tmja  pc_pl  tmjo  pc_pl_o  tmje  pc_pl_e  janv  fevr  mars  \\\n",
       "0    None  1486.0    6.3   NaN      NaN   NaN      NaN   NaN   NaN   NaN   \n",
       "\n",
       "   avri  mai  juin  juil  aout  sept  octo  nove  dece   annee   obs  \\\n",
       "0   NaN  NaN   NaN   NaN   NaN   NaN   NaN   NaN   NaN  2021.0  None   \n",
       "\n",
       "  type_poste                id_cpt             libelle techno route    pr  \\\n",
       "0   ponctuel  D0005.PR 0027+0120.3  ST HELENE - SAUMOS  radar    D5  27.0   \n",
       "\n",
       "     abs  vma      src    id_comptag dep reseau gestionnai  \\\n",
       "0  120.0   50  enquete  33-D5-27+120  33     RD       CD33   \n",
       "\n",
       "                    src_geo  convention                  src_cpt  concession  \\\n",
       "0  coordonnees_gestionnaire           1  convention gestionnaire           0   \n",
       "\n",
       "  id_sect obs_supl     sens_cpt                periode    v85  v85_vl  v85_pl  \\\n",
       "0    None     None  double sens  2021/01/13-2021/01/19  80.95   81.59   65.61   \n",
       "\n",
       "                         geometry  note_hierarchise id_comptag_ref  \n",
       "0  POINT (385829.176 6432556.272)      1.002000e+15   33-D5-27+120  "
      ]
     },
     "execution_count": 94,
     "metadata": {},
     "output_type": "execute_result"
    }
   ],
   "source": [
    "assocUpdate.loc[assocUpdate.id_comptag == '33-D5-27+120'] "
   ]
  },
  {
   "cell_type": "code",
   "execution_count": 96,
   "metadata": {
    "tags": []
   },
   "outputs": [
    {
     "data": {
      "text/plain": [
       "Index(['id_comptag', 'id_tronc_homo', 'id', 'geom',\n",
       "       'id_comptag_bdd_tronc_homo_topo', 'type_poste_bdd_tronc_homo_topo',\n",
       "       'annee_tmja_bdd', 'tmja_bdd', 'vacances_zone_b', 'troncon', 'tmja',\n",
       "       'pc_pl', 'tmjo', 'pc_pl_o', 'tmje', 'pc_pl_e', 'janv', 'fevr', 'mars',\n",
       "       'avri', 'mai', 'juin', 'juil', 'aout', 'sept', 'octo', 'nove', 'dece',\n",
       "       'annee', 'obs', 'type_poste', 'id_cpt', 'libelle', 'techno', 'route',\n",
       "       'pr', 'abs', 'vma', 'src', 'dep', 'reseau', 'gestionnai', 'src_geo',\n",
       "       'convention', 'src_cpt', 'concession', 'id_sect', 'obs_supl',\n",
       "       'sens_cpt', 'periode', 'v85', 'v85_vl', 'v85_pl', 'geom_x',\n",
       "       'note_hierarchise', 'gid', 'id_comptag_tronc_homo_traf',\n",
       "       'type_poste_bdd_tronc_homo_traf', 'geom_y', 'st_distance'],\n",
       "      dtype='object')"
      ]
     },
     "execution_count": 96,
     "metadata": {},
     "output_type": "execute_result"
    }
   ],
   "source": [
    "dfCorrespIdComptag.columns"
   ]
  },
  {
   "cell_type": "markdown",
   "metadata": {
    "tags": []
   },
   "source": [
    "### Modification de la ventilation\n",
    "si des échanges entre les catégories doivent etre opérés (de nouceau compteur vers associé, ou l'inverse, ou avec la correspondance d'identiiant de comptage, etc), c'est ici que cela se passe"
   ]
  },
  {
   "cell_type": "code",
   "execution_count": 1143,
   "metadata": {},
   "outputs": [],
   "source": [
    "# params\n",
    "listCompteurAForcer = ['33-D6E1-0+400', '33-D218-8+825', '33-D124-0+275']\n",
    "listeAssocies2Corresp = []\n",
    "listeCorresp2Associes = []\n",
    "dicoNewCompteur2Corresp = {'33-D103E5-6+200': '33-D103E5-4+0', '33-D203-1+0': '33-D203-0+860', '33-D202-5+280': '33-D202-8+0',\n",
    "                           '33-D1215-49+0': '33-D1215-49+50', '33-D6-44+620': '33-D6-44+500', '33-D104-23+925': '33-D104-15+500',\n",
    "                           '33-D5-3+50': '33-D5-6+0', '33-D2-67+20': '33-D2-70+0', '33-D2-74+10': '33-D2-75+0',\n",
    "                           '33-D20-6+100': '33-D20-4+400', '33-D253-7+970': '33-D253-7+820', }\n",
    "dicoNewCompteur2Assoc = {'33-D216-11+740': '33-D216-15+0', '33-D19-1+500': '33-D19-3+0', '33-D9-23+670': '33-D9-26+0',\n",
    "                         '33-D11-49+690': '33-D11-55+760', '33-D11-16+779': '33-D11-18+0', '33-D10-5+647': '33-D10-7+750'}\n",
    "dicoCorresp2CreationCompteurExistDevientAssoc = {'33-D3E10-1+90': '33-PISTE_FORESTIERE_LANTON_2--1.0252;44.7157'}\n",
    "dicoCreationCompteurExistDevientAssoc2Corresp = {'33-D5-33+480': '33-D5-35+0', '33-D101-18+800': '33-D101-15+0', '33-D936-40+700': '33-D936-38+600',\n",
    "                                                 '33-D3-94+570': '33-D3-95+800', '33-D3-94+570': '33-D3-95+800',\n",
    "                                                 '33-D5E3-0+805': '33-D5E3-5+0', '33-D2-39+850': '33-D2-40+0',\n",
    "                                                 '33-D650-4+530': '33-D650-3+935', '33-D910-15+770': '33-D910-15+372',\n",
    "                                                 '33-D3-90+670': '33-D3-90+210', '33-D137-13+300': '33-D137-12+0',\n",
    "                                                 '33-D106-32+750': '33-D106-27+900', '33-D1089-15+50': '33-D1089-17+900',\n",
    "                                                 '33-D1E4-8+500': '33-D1E4-9+999', '33-D10-100+820': '33-D10-96+250', '33-D23-24+336': '33-D23-29+270',\n",
    "                                                 '33-D671-2+750': '33-D671-2+670', '33-D2-61+550': '33-D2-60+0',\n",
    "                                                 '33-D2-6+410': '33-D2-6+0', '33-D5-29+135': '33-D5-30+0', '33-D1215-35+700': '33-D1215-36+760',\n",
    "                                                 '33-D1215-35+700': '33-D1215-36+760',  '33-D102E1-10+70': '33-D102E1-10+230',\n",
    "                                                 '33-D103E5-5+380': '33-D103E5-4+0', '33-D104-32+760': '33-D104-27+0',\n",
    "                                                 '33-D105-4+770': '33-D105-5+0',  '33-D106-19+420': '33-D106-17+0',\n",
    "                                                 '33-D107-8+370': '33-D107-1+0',  '33-D204-10+980': '33-D204-9+470',\n",
    "                                                 '33-D2071-1+300': '33-D207-5+0',  '33-D207-27+0': '33-D207-23+0',\n",
    "                                                 '33-D207-31+950': '33-D207-30+860',  '33-D208-5+690': '33-D208-10+0',\n",
    "                                                 '33-D210-1+580': '33-D210-2+0',   '33-D121E7-2+162': '33-D121E7-0+60',\n",
    "                                                 '33-D239-15+750': '33-D239-17+870'}\n",
    "cptAForcer = pd.concat([cptRefSectHomoOld.loc[cptRefSectHomoOld.id_comptag.isin(listCompteurAForcer)], \n",
    "                                            cptAssocMultiSectHomo.loc[cptAssocMultiSectHomo.id_comptag.isin(listCompteurAForcer)]])\n",
    "# verif cpt a forcer \n",
    "if len(listCompteurAForcer) != len(cptAForcer):\n",
    "    raise ValueError(\"tout les comptages de la liste des compteurs à forcer n'ont pas été trouvés, ou certains sont en doublons. Vérfiez les sources et résultats\")\n",
    "# calcul des nouveaux jeux de données\n",
    "(dfCreationComptageAssocie_MaJMano, dfCorrespIdComptag_MajMano,\n",
    " cptAssocMultiSectHomo_MajMano, cptRefSectHomoNew_MajMano) = modifierVentilation(\n",
    "    dfCorrespIdComptag, cptRefSectHomoNew, dfCreationComptageAssocie, cptAssocMultiSectHomo,\n",
    "    listeAssocies2Corresp=None, dicoNewCompteur2Associes=dicoNewCompteur2Assoc)"
   ]
  },
  {
   "cell_type": "code",
   "execution_count": 132,
   "metadata": {},
   "outputs": [
    {
     "data": {
      "text/html": [
       "<div>\n",
       "<style scoped>\n",
       "    .dataframe tbody tr th:only-of-type {\n",
       "        vertical-align: middle;\n",
       "    }\n",
       "\n",
       "    .dataframe tbody tr th {\n",
       "        vertical-align: top;\n",
       "    }\n",
       "\n",
       "    .dataframe thead th {\n",
       "        text-align: right;\n",
       "    }\n",
       "</style>\n",
       "<table border=\"1\" class=\"dataframe\">\n",
       "  <thead>\n",
       "    <tr style=\"text-align: right;\">\n",
       "      <th></th>\n",
       "      <th>troncon</th>\n",
       "      <th>tmja</th>\n",
       "      <th>pc_pl</th>\n",
       "      <th>tmjo</th>\n",
       "      <th>pc_pl_o</th>\n",
       "      <th>tmje</th>\n",
       "      <th>pc_pl_e</th>\n",
       "      <th>janv</th>\n",
       "      <th>fevr</th>\n",
       "      <th>mars</th>\n",
       "      <th>avri</th>\n",
       "      <th>mai</th>\n",
       "      <th>juin</th>\n",
       "      <th>juil</th>\n",
       "      <th>aout</th>\n",
       "      <th>sept</th>\n",
       "      <th>octo</th>\n",
       "      <th>nove</th>\n",
       "      <th>dece</th>\n",
       "      <th>annee</th>\n",
       "      <th>obs</th>\n",
       "      <th>type_poste</th>\n",
       "      <th>id_cpt</th>\n",
       "      <th>libelle</th>\n",
       "      <th>techno</th>\n",
       "      <th>route</th>\n",
       "      <th>pr</th>\n",
       "      <th>abs</th>\n",
       "      <th>vma</th>\n",
       "      <th>src</th>\n",
       "      <th>id_comptag</th>\n",
       "      <th>dep</th>\n",
       "      <th>reseau</th>\n",
       "      <th>gestionnai</th>\n",
       "      <th>src_geo</th>\n",
       "      <th>convention</th>\n",
       "      <th>src_cpt</th>\n",
       "      <th>concession</th>\n",
       "      <th>id_sect</th>\n",
       "      <th>obs_supl</th>\n",
       "      <th>sens_cpt</th>\n",
       "      <th>periode</th>\n",
       "      <th>v85</th>\n",
       "      <th>v85_vl</th>\n",
       "      <th>v85_pl</th>\n",
       "      <th>geometry</th>\n",
       "      <th>note_hierarchise</th>\n",
       "    </tr>\n",
       "  </thead>\n",
       "  <tbody>\n",
       "  </tbody>\n",
       "</table>\n",
       "</div>"
      ],
      "text/plain": [
       "Empty DataFrame\n",
       "Columns: [troncon, tmja, pc_pl, tmjo, pc_pl_o, tmje, pc_pl_e, janv, fevr, mars, avri, mai, juin, juil, aout, sept, octo, nove, dece, annee, obs, type_poste, id_cpt, libelle, techno, route, pr, abs, vma, src, id_comptag, dep, reseau, gestionnai, src_geo, convention, src_cpt, concession, id_sect, obs_supl, sens_cpt, periode, v85, v85_vl, v85_pl, geometry, note_hierarchise]\n",
       "Index: []"
      ]
     },
     "execution_count": 132,
     "metadata": {},
     "output_type": "execute_result"
    }
   ],
   "source": [
    "refUpdate.loc[refUpdate.id_comptag == '33-D20-4+400']"
   ]
  },
  {
   "cell_type": "markdown",
   "metadata": {
    "tags": []
   },
   "source": [
    "### Reprise des compteurs initialement associés à des compteurs internes à la nouvelle données gestionnaire\n",
    "Si au sein des données fournies, certains compteurs avait été fléchés vers des compteurs de référence, il est possible que ces denriers aient été requalifié, en correspondance d'identifiant de comptage, voir en comptage associé. Dans ce cas, il faut revoir les association interne aux données gestionanire pour pointer vers le bon compteurs de référence, qui peut etre issu de la Bdd"
   ]
  },
  {
   "cell_type": "code",
   "execution_count": 73,
   "metadata": {},
   "outputs": [
    {
     "data": {
      "text/html": [
       "<div>\n",
       "<style scoped>\n",
       "    .dataframe tbody tr th:only-of-type {\n",
       "        vertical-align: middle;\n",
       "    }\n",
       "\n",
       "    .dataframe tbody tr th {\n",
       "        vertical-align: top;\n",
       "    }\n",
       "\n",
       "    .dataframe thead th {\n",
       "        text-align: right;\n",
       "    }\n",
       "</style>\n",
       "<table border=\"1\" class=\"dataframe\">\n",
       "  <thead>\n",
       "    <tr style=\"text-align: right;\">\n",
       "      <th></th>\n",
       "      <th>troncon</th>\n",
       "      <th>tmja</th>\n",
       "      <th>pc_pl</th>\n",
       "      <th>tmjo</th>\n",
       "      <th>pc_pl_o</th>\n",
       "      <th>tmje</th>\n",
       "      <th>pc_pl_e</th>\n",
       "      <th>janv</th>\n",
       "      <th>fevr</th>\n",
       "      <th>mars</th>\n",
       "      <th>avri</th>\n",
       "      <th>mai</th>\n",
       "      <th>juin</th>\n",
       "      <th>juil</th>\n",
       "      <th>aout</th>\n",
       "      <th>sept</th>\n",
       "      <th>octo</th>\n",
       "      <th>nove</th>\n",
       "      <th>dece</th>\n",
       "      <th>annee</th>\n",
       "      <th>obs</th>\n",
       "      <th>type_poste</th>\n",
       "      <th>id_cpt</th>\n",
       "      <th>libelle</th>\n",
       "      <th>techno</th>\n",
       "      <th>route</th>\n",
       "      <th>pr</th>\n",
       "      <th>abs</th>\n",
       "      <th>vma</th>\n",
       "      <th>src</th>\n",
       "      <th>id_comptag</th>\n",
       "      <th>dep</th>\n",
       "      <th>reseau</th>\n",
       "      <th>gestionnai</th>\n",
       "      <th>src_geo</th>\n",
       "      <th>convention</th>\n",
       "      <th>src_cpt</th>\n",
       "      <th>concession</th>\n",
       "      <th>id_sect</th>\n",
       "      <th>obs_supl</th>\n",
       "      <th>sens_cpt</th>\n",
       "      <th>periode</th>\n",
       "      <th>v85</th>\n",
       "      <th>v85_vl</th>\n",
       "      <th>v85_pl</th>\n",
       "      <th>geometry</th>\n",
       "      <th>note_hierarchise</th>\n",
       "      <th>id_comptag_ref</th>\n",
       "    </tr>\n",
       "  </thead>\n",
       "  <tbody>\n",
       "    <tr>\n",
       "      <th>0</th>\n",
       "      <td>None</td>\n",
       "      <td>10893.0</td>\n",
       "      <td>0.72</td>\n",
       "      <td>NaN</td>\n",
       "      <td>NaN</td>\n",
       "      <td>NaN</td>\n",
       "      <td>NaN</td>\n",
       "      <td>NaN</td>\n",
       "      <td>NaN</td>\n",
       "      <td>NaN</td>\n",
       "      <td>NaN</td>\n",
       "      <td>NaN</td>\n",
       "      <td>NaN</td>\n",
       "      <td>NaN</td>\n",
       "      <td>NaN</td>\n",
       "      <td>NaN</td>\n",
       "      <td>NaN</td>\n",
       "      <td>NaN</td>\n",
       "      <td>NaN</td>\n",
       "      <td>2021.0</td>\n",
       "      <td>None</td>\n",
       "      <td>ponctuel</td>\n",
       "      <td>D0102.PR 0002+0350.3</td>\n",
       "      <td>VENDAYS MONTALIVET - QUEYRAC</td>\n",
       "      <td>radar</td>\n",
       "      <td>D102</td>\n",
       "      <td>2.0</td>\n",
       "      <td>350.0</td>\n",
       "      <td>80</td>\n",
       "      <td>enquete</td>\n",
       "      <td>33-D102-2+350</td>\n",
       "      <td>33</td>\n",
       "      <td>RD</td>\n",
       "      <td>CD33</td>\n",
       "      <td>coordonnees_gestionnaire</td>\n",
       "      <td>1</td>\n",
       "      <td>convention gestionnaire</td>\n",
       "      <td>0</td>\n",
       "      <td>None</td>\n",
       "      <td>None</td>\n",
       "      <td>double sens</td>\n",
       "      <td>2021/07/29-2021/08/17</td>\n",
       "      <td>87.76</td>\n",
       "      <td>87.77</td>\n",
       "      <td>86.38</td>\n",
       "      <td>POINT (376984.705 6483467.825)</td>\n",
       "      <td>1.001000e+15</td>\n",
       "      <td>33-D102-2+350</td>\n",
       "    </tr>\n",
       "    <tr>\n",
       "      <th>1</th>\n",
       "      <td>None</td>\n",
       "      <td>3126.0</td>\n",
       "      <td>3.40</td>\n",
       "      <td>NaN</td>\n",
       "      <td>NaN</td>\n",
       "      <td>NaN</td>\n",
       "      <td>NaN</td>\n",
       "      <td>NaN</td>\n",
       "      <td>NaN</td>\n",
       "      <td>NaN</td>\n",
       "      <td>NaN</td>\n",
       "      <td>NaN</td>\n",
       "      <td>NaN</td>\n",
       "      <td>NaN</td>\n",
       "      <td>NaN</td>\n",
       "      <td>NaN</td>\n",
       "      <td>NaN</td>\n",
       "      <td>NaN</td>\n",
       "      <td>NaN</td>\n",
       "      <td>2021.0</td>\n",
       "      <td>None</td>\n",
       "      <td>ponctuel</td>\n",
       "      <td>D0005E5.PR 0002+0745.3</td>\n",
       "      <td>RD5 - RD3</td>\n",
       "      <td>radar</td>\n",
       "      <td>D5E5</td>\n",
       "      <td>2.0</td>\n",
       "      <td>745.0</td>\n",
       "      <td>80</td>\n",
       "      <td>enquete</td>\n",
       "      <td>33-D5E5-2+745</td>\n",
       "      <td>33</td>\n",
       "      <td>RD</td>\n",
       "      <td>CD33</td>\n",
       "      <td>coordonnees_gestionnaire</td>\n",
       "      <td>1</td>\n",
       "      <td>convention gestionnaire</td>\n",
       "      <td>0</td>\n",
       "      <td>None</td>\n",
       "      <td>None</td>\n",
       "      <td>double sens</td>\n",
       "      <td>2021/01/21-2021/01/26</td>\n",
       "      <td>88.69</td>\n",
       "      <td>88.83</td>\n",
       "      <td>81.64</td>\n",
       "      <td>POINT (390002.951 6409607.641)</td>\n",
       "      <td>1.002000e+15</td>\n",
       "      <td>33-D5E5-2+745</td>\n",
       "    </tr>\n",
       "    <tr>\n",
       "      <th>2</th>\n",
       "      <td>None</td>\n",
       "      <td>8500.0</td>\n",
       "      <td>2.96</td>\n",
       "      <td>NaN</td>\n",
       "      <td>NaN</td>\n",
       "      <td>NaN</td>\n",
       "      <td>NaN</td>\n",
       "      <td>NaN</td>\n",
       "      <td>NaN</td>\n",
       "      <td>NaN</td>\n",
       "      <td>NaN</td>\n",
       "      <td>NaN</td>\n",
       "      <td>NaN</td>\n",
       "      <td>NaN</td>\n",
       "      <td>NaN</td>\n",
       "      <td>NaN</td>\n",
       "      <td>NaN</td>\n",
       "      <td>NaN</td>\n",
       "      <td>NaN</td>\n",
       "      <td>2021.0</td>\n",
       "      <td>None</td>\n",
       "      <td>ponctuel</td>\n",
       "      <td>D0006.PR 0027+0810.3</td>\n",
       "      <td>SALAUNES  - LACANAU</td>\n",
       "      <td>radar</td>\n",
       "      <td>D6</td>\n",
       "      <td>27.0</td>\n",
       "      <td>810.0</td>\n",
       "      <td>80</td>\n",
       "      <td>enquete</td>\n",
       "      <td>33-D6-27+810</td>\n",
       "      <td>33</td>\n",
       "      <td>RD</td>\n",
       "      <td>CD33</td>\n",
       "      <td>coordonnees_gestionnaire</td>\n",
       "      <td>1</td>\n",
       "      <td>convention gestionnaire</td>\n",
       "      <td>0</td>\n",
       "      <td>None</td>\n",
       "      <td>None</td>\n",
       "      <td>double sens</td>\n",
       "      <td>2021/03/02-2021/03/09</td>\n",
       "      <td>102.56</td>\n",
       "      <td>102.73</td>\n",
       "      <td>93.11</td>\n",
       "      <td>POINT (394811.993 6437120.336)</td>\n",
       "      <td>1.002000e+15</td>\n",
       "      <td>33-D6-27+810</td>\n",
       "    </tr>\n",
       "  </tbody>\n",
       "</table>\n",
       "</div>"
      ],
      "text/plain": [
       "  troncon     tmja  pc_pl  tmjo  pc_pl_o  tmje  pc_pl_e  janv  fevr  mars  \\\n",
       "0    None  10893.0   0.72   NaN      NaN   NaN      NaN   NaN   NaN   NaN   \n",
       "1    None   3126.0   3.40   NaN      NaN   NaN      NaN   NaN   NaN   NaN   \n",
       "2    None   8500.0   2.96   NaN      NaN   NaN      NaN   NaN   NaN   NaN   \n",
       "\n",
       "   avri  mai  juin  juil  aout  sept  octo  nove  dece   annee   obs  \\\n",
       "0   NaN  NaN   NaN   NaN   NaN   NaN   NaN   NaN   NaN  2021.0  None   \n",
       "1   NaN  NaN   NaN   NaN   NaN   NaN   NaN   NaN   NaN  2021.0  None   \n",
       "2   NaN  NaN   NaN   NaN   NaN   NaN   NaN   NaN   NaN  2021.0  None   \n",
       "\n",
       "  type_poste                  id_cpt                       libelle techno  \\\n",
       "0   ponctuel    D0102.PR 0002+0350.3  VENDAYS MONTALIVET - QUEYRAC  radar   \n",
       "1   ponctuel  D0005E5.PR 0002+0745.3                     RD5 - RD3  radar   \n",
       "2   ponctuel    D0006.PR 0027+0810.3           SALAUNES  - LACANAU  radar   \n",
       "\n",
       "  route    pr    abs  vma      src     id_comptag dep reseau gestionnai  \\\n",
       "0  D102   2.0  350.0   80  enquete  33-D102-2+350  33     RD       CD33   \n",
       "1  D5E5   2.0  745.0   80  enquete  33-D5E5-2+745  33     RD       CD33   \n",
       "2    D6  27.0  810.0   80  enquete   33-D6-27+810  33     RD       CD33   \n",
       "\n",
       "                    src_geo  convention                  src_cpt  concession  \\\n",
       "0  coordonnees_gestionnaire           1  convention gestionnaire           0   \n",
       "1  coordonnees_gestionnaire           1  convention gestionnaire           0   \n",
       "2  coordonnees_gestionnaire           1  convention gestionnaire           0   \n",
       "\n",
       "  id_sect obs_supl     sens_cpt                periode     v85  v85_vl  \\\n",
       "0    None     None  double sens  2021/07/29-2021/08/17   87.76   87.77   \n",
       "1    None     None  double sens  2021/01/21-2021/01/26   88.69   88.83   \n",
       "2    None     None  double sens  2021/03/02-2021/03/09  102.56  102.73   \n",
       "\n",
       "   v85_pl                        geometry  note_hierarchise id_comptag_ref  \n",
       "0   86.38  POINT (376984.705 6483467.825)      1.001000e+15  33-D102-2+350  \n",
       "1   81.64  POINT (390002.951 6409607.641)      1.002000e+15  33-D5E5-2+745  \n",
       "2   93.11  POINT (394811.993 6437120.336)      1.002000e+15   33-D6-27+810  "
      ]
     },
     "execution_count": 73,
     "metadata": {},
     "output_type": "execute_result"
    }
   ],
   "source": [
    "assocInsert.loc[assocInsert.id_comptag_ref.isin()]"
   ]
  },
  {
   "cell_type": "markdown",
   "metadata": {},
   "source": [
    "<div class=\"alert alert-block alert-danger\"> bien penser à <b>vérifier les cas de création de doublons suite aux correspondances d'id_comptag</b>, à <b>la bonne affectation des comptage de référence interne aux données qui sont en fait des comptages associés par rapport aux données présentes en Bdd</b> (les comptages associés interne aux données gest doivent alors pointé vers le comptage de référence de la Bdd), plus tous les autres cas possibles. </div>"
   ]
  },
  {
   "cell_type": "markdown",
   "metadata": {},
   "source": [
    "## Mise en forme et insertion des résultats\n",
    "Suite à la classification, il faut préparer puis insérer les données dans la Bdd. Pour rappel, la strutcure de bdd oblige l'insertion des connées de compteurs pour pouvoir formater les données de comptages, et oblige l'insertion des comptages pour pouvoir formater et insérer les indicateurs"
   ]
  },
  {
   "cell_type": "markdown",
   "metadata": {},
   "source": [
    "### Compteurs\n",
    "les données proviennent de creationCompteur et CreationCompteurExistDevientAssoc"
   ]
  },
  {
   "cell_type": "code",
   "execution_count": 172,
   "metadata": {},
   "outputs": [],
   "source": [
    "# Compteurs : peucvent provenir des newCompteurs ou des newCompteurDevientRefExistantDevientAssoc\n",
    "dfNewCompteurInsert = rassemblerNewCompteur('79', ((creationCompteur, 'geom_x'), (CreationCompteurExistDevientAssoc, 'geom_x')))\n",
    "# insertion compteurs\n",
    "insererSchemaComptage(dfNewCompteurInsert, 'compteur')"
   ]
  },
  {
   "cell_type": "markdown",
   "metadata": {},
   "source": [
    "### Comptages\n",
    "au préalable, il faut bien mettre à jour les correspondance d'identifiant de comptages. les données proviennent de cptRefSectHomoNew, df_attr_update, cptAForcer, newAssocieDevientRef, dfCorrespIdComptag.<br>Le rassemblement peut générer des doublons, qui vont être traiter pour ressortir de nouveaux comptages associés"
   ]
  },
  {
   "cell_type": "code",
   "execution_count": 177,
   "metadata": {},
   "outputs": [],
   "source": [
    "# gestion des correspondance d'id_comptag\n",
    "insererSchemaComptage(creerCorrespComptag(dfCorrespIdComptag, 'id_comptag', 'id_comptag_bdd_tronc_homo_topo', []), 'corresp_id_comptag')"
   ]
  },
  {
   "cell_type": "code",
   "execution_count": 340,
   "metadata": {},
   "outputs": [],
   "source": [
    "# creer les comptages\n",
    "dfComptageNewTot, assoc = rassemblerNewComptage('2021', 'tv/pl', df_attr_update[['id_comptag', 'periode', 'src', 'annee', 'type_poste', 'pc_pl', 'tmja']].drop(\n",
    "    ['id_comptag_gest'], axis=1, errors='ignore').rename(columns={c: c[:-5] for c in df_attr_update.columns if c[-5:] == '_gest'}).rename(\n",
    "    columns={'src_2020': 'src', 'tmja_2020': 'tmja', 'pc_pl_2020': 'pc_pl', 'id_comptag_bdd': 'id_comptag', 'obs_2020': 'periode'}),\n",
    "                                                corresp_nom_id_comptag(cptRefSectHomoNew[['id_comptag', 'periode', 'src', 'annee', 'type_poste', 'pc_pl', 'tmja']]\n",
    "                                                                       ).rename(columns={'src_2020': 'src'}),\n",
    "                                                # cptAForcer.rename(columns={'src_2020': 'src'}),\n",
    "                                                # newAssocieDevientRef.rename(columns={'src_2020': 'src'}),\n",
    "                                                corresp_nom_id_comptag(dfCorrespIdComptag[['id_comptag', 'periode', 'src', 'annee', 'type_poste', 'pc_pl', 'tmja']]\n",
    "                                                                       ).rename(columns={'src_2020': 'src'}),\n",
    "                                                corresp_nom_id_comptag(dfCreationCompteurExistDevientAssoc),\n",
    "                                                corresp_nom_id_comptag(dfCreationCompteur)\n",
    "insererSchemaComptage(dfComptageNewTot, 'comptage')"
   ]
  },
  {
   "cell_type": "markdown",
   "metadata": {},
   "source": [
    "### Indicateurs\n",
    "il faut gérer les indicateurs agreges, mensuels et horaires. Pensez à convertir les id_comptag selon les correspondances établies précédemment"
   ]
  },
  {
   "cell_type": "code",
   "execution_count": 226,
   "metadata": {},
   "outputs": [],
   "source": [
    "# inserer les nouveaux indicateurs\n",
    "dfIndicAgregeNew, dfIndicMensNew, dfIndicHoraireNew = rassemblerIndics(\n",
    "    '2021', dfComptageNewTot, corresp_nom_id_comptag(dfCompteursAgrege), dfTraficHoraire=corresp_nom_id_comptag(dfHoraireFinale),\n",
    "    indicAgregeValues=['tmja', 'pc_pl', 'tmjo', 'pc_pl_o', 'vma', 'vmoy', 'v85'])\n",
    "insererSchemaComptage(dfIndicAgregeNew, 'indicAgrege')\n",
    "insererSchemaComptage(dfIndicHoraireNew, 'indicHoraire')"
   ]
  },
  {
   "cell_type": "markdown",
   "metadata": {},
   "source": [
    "### Comptages Associés\n",
    "Penser à bien récupérer toute les sources de comptages associés, notamment ceux issus d'éventuels doublons liés aux correspondances d'id_comptag"
   ]
  },
  {
   "cell_type": "code",
   "execution_count": 299,
   "metadata": {},
   "outputs": [],
   "source": [
    "# compteurs\n",
    "insererSchemaComptageAssoc(creerCompteurAssoc(gp.GeoDataFrame(comptageAssocie, geometry='geom_x', crs='epsg:2154'), 'id_comptag', 'geom_x', \n",
    "                   dicoIdCpteurRef={1: 'id_comptag_bdd_tronc_homo_topo', 2: 'id_comptag_tronc_homo_traf', 3: 'id_comptag_bdd', 4: 'id_comptag_ref'},\n",
    "                   listIdCptExclu=None, NomAttrFinal='idCpteurRef'), 'compteur')\n",
    "# comptages\n",
    "tableComptageAssoc = creerComptageAssoc(comptageAssocie.assign(type_veh='tv/pl'), 'id_comptag_bdd', '2021', 'id_comptag', dicoIdCpteurRef=dicoIdCpteurRef)[1]\n",
    "insererSchemaComptageAssoc(tableComptageAssoc, 'comptage')\n",
    "# Indicateurs\n",
    "# Agrege\n",
    "dfAssocIndicAgrege = dfCompteursAgrege.merge(tableComptageAssoc[['id_cpteur_asso', 'id_cptag_ref']], left_on='id_comptag', right_on='id_cpteur_asso', how='right')\n",
    "insererSchemaComptageAssoc(structureBddOld2NewFormAssoc(dfAssocIndicAgrege.assign(annee='2021'), '2021', \n",
    "                                                  ['id_cptag_ref', 'annee', 'id_cpteur_asso', 'fichier'],\n",
    "                             ['tmja', 'pc_pl', 'tmjo', 'pc_pl_o', 'vma', 'vmoy', 'v85'], 'agrege'), 'indicAgrege')\n",
    "# horaire\n",
    "dfTraficHoraire = corresp_nom_id_comptag(dfHoraireFinale)\n",
    "insererSchemaComptageAssoc(structureBddOld2NewFormAssoc(dfTraficHoraire.merge(dfAssocIndicAgrege, on='id_comptag'), '2021',\n",
    "                             attrIndicHoraireAssoc+['annee','id_cptag_ref', 'id_cpteur_asso'], None, 'horaire'), 'indicHoraire')"
   ]
  },
  {
   "cell_type": "markdown",
   "metadata": {},
   "source": [
    "### Compteurs existant devenant Associés\n",
    "On va utiliser la fonction dans la base postgres : comptage.transfert_comptage_assoc(id_comptage_ref comptage.id_comptage, id_comptage_assoc comptage.id_comptage, annee_ref comptage.annee, annee_assoc comptage.annee, recup_compteur boolean DEFAULT false, sup_compteur boolean DEFAULT false). cf les commentaire de cette fionction pour plus de détails"
   ]
  },
  {
   "cell_type": "code",
   "execution_count": 354,
   "metadata": {},
   "outputs": [],
   "source": [
    "# la fonction permet le transfert des données et la récupération de la requete pour vérification\n",
    "txtAppelFonction = appelFonctionTransfertComptage2ComptageAssoc(listParamsFonctionPostgres, True, True)\n",
    "txtAppelFonction"
   ]
  }
 ],
 "metadata": {
  "kernelspec": {
   "display_name": "Python 3 (ipykernel)",
   "language": "python",
   "name": "python3"
  },
  "language_info": {
   "codemirror_mode": {
    "name": "ipython",
    "version": 3
   },
   "file_extension": ".py",
   "mimetype": "text/x-python",
   "name": "python",
   "nbconvert_exporter": "python",
   "pygments_lexer": "ipython3",
   "version": "3.9.6"
  }
 },
 "nbformat": 4,
 "nbformat_minor": 4
}
