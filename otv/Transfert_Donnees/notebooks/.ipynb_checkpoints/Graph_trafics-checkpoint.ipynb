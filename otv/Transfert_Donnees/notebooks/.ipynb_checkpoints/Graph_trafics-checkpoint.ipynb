{
 "cells": [
  {
   "cell_type": "code",
   "execution_count": 4,
   "metadata": {},
   "outputs": [
    {
     "name": "stdout",
     "output_type": "stream",
     "text": [
      "The autoreload extension is already loaded. To reload it, use:\n",
      "  %reload_ext autoreload\n"
     ]
    }
   ],
   "source": [
    "%load_ext autoreload\n",
    "%autoreload 2\n",
    "import sys\n",
    "sys.path.append(r'C:\\Users\\martin.schoreisz\\git\\otv\\otv\\Transfert_Donnees')\n",
    "sys.path.append(r'C:\\Users\\\\martin.schoreisz\\git\\Outils\\Outils\\src')\n",
    "import pandas as pd\n",
    "import geopandas as gp\n",
    "import numpy as np\n",
    "from shapely import wkt\n",
    "import altair as alt\n",
    "from altair import datum\n",
    "from datetime import datetime\n",
    "import csv, re, os, statistics, filecmp, unidecode\n",
    "from math import sqrt, pi, exp\n",
    "from Connexions import Connexion_Transfert as ct\n",
    "import Import_trafics as it\n",
    "import Donnees_horaires as dh\n",
    "import Visualisation as vi\n",
    "import Outils.Outils\n",
    "\n",
    "import Donnees_horaires as dh\n",
    "\n",
    "import sqlalchemy"
   ]
  },
  {
   "cell_type": "markdown",
   "metadata": {
    "tags": []
   },
   "source": [
    "# **EXEMPLE DE GRAPH HORAIRE** \n",
    "> vérifier la structure attributaire car changement de structure bdd"
   ]
  },
  {
   "cell_type": "markdown",
   "metadata": {},
   "source": [
    "> ## **Visu de la répartition des données**\n",
    "exemple horaire DIRA"
   ]
  },
  {
   "cell_type": "code",
   "execution_count": 3,
   "metadata": {},
   "outputs": [],
   "source": [
    "#donnees\n",
    "dira=it.Comptage_Dira(r'Q:\\DAIT\\TI\\DREAL33\\2020\\OTV\\Doc_travail\\Donnees_source\\DIRA\\0_tmja_dira_par_section_20200106.ods',\n",
    "                      r'Q:\\DAIT\\TI\\DREAL33\\2020\\OTV\\Doc_travail\\Donnees_source\\DIRA\\0_Annee_Complete_2019',\n",
    "                     '2019')\n",
    "df_horaire=dira.miseEnFormeFeuille(pd.read_excel(os.path.join(dira.dossierAnneeComplete,'Ruffec_Trimestre_1_2019.xls'),sheet_name=None),\n",
    "                                 'S_MBC16.G_1','gti_otv_pg11', 'na_2010_2019_p')"
   ]
  },
  {
   "cell_type": "code",
   "execution_count": 14,
   "metadata": {},
   "outputs": [],
   "source": [
    "#stats\n",
    "ecartType,moyenne,median,plageMin,plageMax=dh.statsHoraires(df_horaire,'h10_11')"
   ]
  },
  {
   "cell_type": "code",
   "execution_count": 78,
   "metadata": {
    "jupyter": {
     "source_hidden": true
    }
   },
   "outputs": [],
   "source": [
    "def graphTrafHoraire(df_horaire, stats, attributHeure):\n",
    "    ecartType,moyenne,median,plageMin,plageMax=stats\n",
    "    chartTraf=alt.Chart(df_horaire.loc[(df_horaire['type_veh']=='VL')&(~df_horaire[attributHeure].isna())][['jour',attributHeure]].\n",
    "                        sort_values(attributHeure),title=attributHeure).mark_point().encode(\n",
    "                x='jour',\n",
    "                y=alt.Y(attributHeure+':Q',axis=alt.Axis(title='Nb de vehicule')),\n",
    "                tooltip='jour').interactive()\n",
    "\n",
    "    chartStat=alt.Chart(pd.concat([df_horaire[['jour']].assign(val=v, typeVal=t) \n",
    "                                   for v,t in ((moyenne,'moyenne'),(median,'median'))])).mark_line().encode(\n",
    "        x='jour',y='val',color='typeVal')\n",
    "\n",
    "    intervalleConf=alt.Chart(df_horaire[['jour']].assign(plageMini=plageMin, plageMaxi=plageMax)).mark_area(opacity=0.3, color='yellow').encode(\n",
    "            x='jour', \n",
    "            y=alt.Y('plageMini',axis=alt.Axis(title='Nb de vehicule')),\n",
    "            y2='plageMaxi')\n",
    "\n",
    "    return intervalleConf+chartTraf+chartStat"
   ]
  },
  {
   "cell_type": "code",
   "execution_count": 82,
   "metadata": {},
   "outputs": [
    {
     "data": {
      "application/vnd.vegalite.v3+json": {
       "$schema": "https://vega.github.io/schema/vega-lite/v3.4.0.json",
       "config": {
        "mark": {
         "tooltip": null
        },
        "view": {
         "height": 300,
         "width": 400
        }
       },
       "datasets": {
        "data-171b509c25be84cb64872bbb172bd3ba": [
         {
          "h8_9": 7,
          "jour": "2019-01-08T00:00:00"
         },
         {
          "h8_9": 53,
          "jour": "2019-01-01T00:00:00"
         },
         {
          "h8_9": 65,
          "jour": "2019-01-27T00:00:00"
         },
         {
          "h8_9": 83,
          "jour": "2019-01-13T00:00:00"
         },
         {
          "h8_9": 85,
          "jour": "2019-01-20T00:00:00"
         },
         {
          "h8_9": 90,
          "jour": "2019-02-10T00:00:00"
         },
         {
          "h8_9": 101,
          "jour": "2019-03-17T00:00:00"
         },
         {
          "h8_9": 102,
          "jour": "2019-02-03T00:00:00"
         },
         {
          "h8_9": 103,
          "jour": "2019-03-31T00:00:00"
         },
         {
          "h8_9": 122,
          "jour": "2019-03-03T00:00:00"
         },
         {
          "h8_9": 129,
          "jour": "2019-01-12T00:00:00"
         },
         {
          "h8_9": 131,
          "jour": "2019-01-06T00:00:00"
         },
         {
          "h8_9": 136,
          "jour": "2019-03-24T00:00:00"
         },
         {
          "h8_9": 137,
          "jour": "2019-03-10T00:00:00"
         },
         {
          "h8_9": 142,
          "jour": "2019-02-17T00:00:00"
         },
         {
          "h8_9": 156,
          "jour": "2019-01-26T00:00:00"
         },
         {
          "h8_9": 173,
          "jour": "2019-02-02T00:00:00"
         },
         {
          "h8_9": 173,
          "jour": "2019-01-19T00:00:00"
         },
         {
          "h8_9": 178,
          "jour": "2019-02-24T00:00:00"
         },
         {
          "h8_9": 216,
          "jour": "2019-01-05T00:00:00"
         },
         {
          "h8_9": 220,
          "jour": "2019-02-27T00:00:00"
         },
         {
          "h8_9": 220,
          "jour": "2019-01-09T00:00:00"
         },
         {
          "h8_9": 222,
          "jour": "2019-01-23T00:00:00"
         },
         {
          "h8_9": 226,
          "jour": "2019-01-25T00:00:00"
         },
         {
          "h8_9": 233,
          "jour": "2019-03-02T00:00:00"
         },
         {
          "h8_9": 234,
          "jour": "2019-03-09T00:00:00"
         },
         {
          "h8_9": 236,
          "jour": "2019-03-23T00:00:00"
         },
         {
          "h8_9": 236,
          "jour": "2019-01-11T00:00:00"
         },
         {
          "h8_9": 237,
          "jour": "2019-02-13T00:00:00"
         },
         {
          "h8_9": 237,
          "jour": "2019-02-16T00:00:00"
         },
         {
          "h8_9": 238,
          "jour": "2019-02-23T00:00:00"
         },
         {
          "h8_9": 238,
          "jour": "2019-02-20T00:00:00"
         },
         {
          "h8_9": 241,
          "jour": "2019-02-08T00:00:00"
         },
         {
          "h8_9": 243,
          "jour": "2019-01-03T00:00:00"
         },
         {
          "h8_9": 245,
          "jour": "2019-02-28T00:00:00"
         },
         {
          "h8_9": 247,
          "jour": "2019-01-04T00:00:00"
         },
         {
          "h8_9": 250,
          "jour": "2019-02-01T00:00:00"
         },
         {
          "h8_9": 250,
          "jour": "2019-01-30T00:00:00"
         },
         {
          "h8_9": 254,
          "jour": "2019-01-10T00:00:00"
         },
         {
          "h8_9": 256,
          "jour": "2019-02-22T00:00:00"
         },
         {
          "h8_9": 261,
          "jour": "2019-03-30T00:00:00"
         },
         {
          "h8_9": 262,
          "jour": "2019-01-24T00:00:00"
         },
         {
          "h8_9": 262,
          "jour": "2019-03-06T00:00:00"
         },
         {
          "h8_9": 266,
          "jour": "2019-03-08T00:00:00"
         },
         {
          "h8_9": 267,
          "jour": "2019-03-20T00:00:00"
         },
         {
          "h8_9": 271,
          "jour": "2019-01-18T00:00:00"
         },
         {
          "h8_9": 271,
          "jour": "2019-02-19T00:00:00"
         },
         {
          "h8_9": 271,
          "jour": "2019-03-27T00:00:00"
         },
         {
          "h8_9": 272,
          "jour": "2019-02-06T00:00:00"
         },
         {
          "h8_9": 272,
          "jour": "2019-01-16T00:00:00"
         },
         {
          "h8_9": 278,
          "jour": "2019-03-01T00:00:00"
         },
         {
          "h8_9": 279,
          "jour": "2019-02-12T00:00:00"
         },
         {
          "h8_9": 280,
          "jour": "2019-01-22T00:00:00"
         },
         {
          "h8_9": 281,
          "jour": "2019-01-29T00:00:00"
         },
         {
          "h8_9": 282,
          "jour": "2019-01-02T00:00:00"
         },
         {
          "h8_9": 287,
          "jour": "2019-02-14T00:00:00"
         },
         {
          "h8_9": 289,
          "jour": "2019-02-15T00:00:00"
         },
         {
          "h8_9": 289,
          "jour": "2019-03-29T00:00:00"
         },
         {
          "h8_9": 289,
          "jour": "2019-01-15T00:00:00"
         },
         {
          "h8_9": 291,
          "jour": "2019-01-17T00:00:00"
         },
         {
          "h8_9": 293,
          "jour": "2019-03-15T00:00:00"
         },
         {
          "h8_9": 295,
          "jour": "2019-02-21T00:00:00"
         },
         {
          "h8_9": 297,
          "jour": "2019-02-05T00:00:00"
         },
         {
          "h8_9": 297,
          "jour": "2019-01-31T00:00:00"
         },
         {
          "h8_9": 302,
          "jour": "2019-03-16T00:00:00"
         },
         {
          "h8_9": 303,
          "jour": "2019-03-14T00:00:00"
         },
         {
          "h8_9": 303,
          "jour": "2019-03-22T00:00:00"
         },
         {
          "h8_9": 305,
          "jour": "2019-03-26T00:00:00"
         },
         {
          "h8_9": 306,
          "jour": "2019-02-09T00:00:00"
         },
         {
          "h8_9": 307,
          "jour": "2019-02-26T00:00:00"
         },
         {
          "h8_9": 308,
          "jour": "2019-02-07T00:00:00"
         },
         {
          "h8_9": 310,
          "jour": "2019-03-13T00:00:00"
         },
         {
          "h8_9": 313,
          "jour": "2019-03-07T00:00:00"
         },
         {
          "h8_9": 314,
          "jour": "2019-02-25T00:00:00"
         },
         {
          "h8_9": 317,
          "jour": "2019-01-07T00:00:00"
         },
         {
          "h8_9": 321,
          "jour": "2019-03-28T00:00:00"
         },
         {
          "h8_9": 329,
          "jour": "2019-03-12T00:00:00"
         },
         {
          "h8_9": 329,
          "jour": "2019-03-21T00:00:00"
         },
         {
          "h8_9": 335,
          "jour": "2019-02-18T00:00:00"
         },
         {
          "h8_9": 343,
          "jour": "2019-02-11T00:00:00"
         },
         {
          "h8_9": 348,
          "jour": "2019-01-28T00:00:00"
         },
         {
          "h8_9": 350,
          "jour": "2019-03-05T00:00:00"
         },
         {
          "h8_9": 367,
          "jour": "2019-02-04T00:00:00"
         },
         {
          "h8_9": 382,
          "jour": "2019-01-14T00:00:00"
         },
         {
          "h8_9": 388,
          "jour": "2019-03-04T00:00:00"
         },
         {
          "h8_9": 391,
          "jour": "2019-01-21T00:00:00"
         },
         {
          "h8_9": 399,
          "jour": "2019-03-11T00:00:00"
         },
         {
          "h8_9": 404,
          "jour": "2019-03-25T00:00:00"
         },
         {
          "h8_9": 412,
          "jour": "2019-03-18T00:00:00"
         }
        ],
        "data-40133e53997f9c5e5cce2e9f00f9cf7c": [
         {
          "jour": "2019-01-01T00:00:00",
          "typeVal": "moyenne",
          "val": 250.93258426966293
         },
         {
          "jour": "2019-01-01T00:00:00",
          "typeVal": "moyenne",
          "val": 250.93258426966293
         },
         {
          "jour": "2019-01-02T00:00:00",
          "typeVal": "moyenne",
          "val": 250.93258426966293
         },
         {
          "jour": "2019-01-02T00:00:00",
          "typeVal": "moyenne",
          "val": 250.93258426966293
         },
         {
          "jour": "2019-01-03T00:00:00",
          "typeVal": "moyenne",
          "val": 250.93258426966293
         },
         {
          "jour": "2019-01-03T00:00:00",
          "typeVal": "moyenne",
          "val": 250.93258426966293
         },
         {
          "jour": "2019-01-04T00:00:00",
          "typeVal": "moyenne",
          "val": 250.93258426966293
         },
         {
          "jour": "2019-01-04T00:00:00",
          "typeVal": "moyenne",
          "val": 250.93258426966293
         },
         {
          "jour": "2019-01-05T00:00:00",
          "typeVal": "moyenne",
          "val": 250.93258426966293
         },
         {
          "jour": "2019-01-05T00:00:00",
          "typeVal": "moyenne",
          "val": 250.93258426966293
         },
         {
          "jour": "2019-01-06T00:00:00",
          "typeVal": "moyenne",
          "val": 250.93258426966293
         },
         {
          "jour": "2019-01-06T00:00:00",
          "typeVal": "moyenne",
          "val": 250.93258426966293
         },
         {
          "jour": "2019-01-07T00:00:00",
          "typeVal": "moyenne",
          "val": 250.93258426966293
         },
         {
          "jour": "2019-01-07T00:00:00",
          "typeVal": "moyenne",
          "val": 250.93258426966293
         },
         {
          "jour": "2019-01-08T00:00:00",
          "typeVal": "moyenne",
          "val": 250.93258426966293
         },
         {
          "jour": "2019-01-08T00:00:00",
          "typeVal": "moyenne",
          "val": 250.93258426966293
         },
         {
          "jour": "2019-01-09T00:00:00",
          "typeVal": "moyenne",
          "val": 250.93258426966293
         },
         {
          "jour": "2019-01-09T00:00:00",
          "typeVal": "moyenne",
          "val": 250.93258426966293
         },
         {
          "jour": "2019-01-10T00:00:00",
          "typeVal": "moyenne",
          "val": 250.93258426966293
         },
         {
          "jour": "2019-01-10T00:00:00",
          "typeVal": "moyenne",
          "val": 250.93258426966293
         },
         {
          "jour": "2019-01-11T00:00:00",
          "typeVal": "moyenne",
          "val": 250.93258426966293
         },
         {
          "jour": "2019-01-11T00:00:00",
          "typeVal": "moyenne",
          "val": 250.93258426966293
         },
         {
          "jour": "2019-01-12T00:00:00",
          "typeVal": "moyenne",
          "val": 250.93258426966293
         },
         {
          "jour": "2019-01-12T00:00:00",
          "typeVal": "moyenne",
          "val": 250.93258426966293
         },
         {
          "jour": "2019-01-13T00:00:00",
          "typeVal": "moyenne",
          "val": 250.93258426966293
         },
         {
          "jour": "2019-01-13T00:00:00",
          "typeVal": "moyenne",
          "val": 250.93258426966293
         },
         {
          "jour": "2019-01-14T00:00:00",
          "typeVal": "moyenne",
          "val": 250.93258426966293
         },
         {
          "jour": "2019-01-14T00:00:00",
          "typeVal": "moyenne",
          "val": 250.93258426966293
         },
         {
          "jour": "2019-01-15T00:00:00",
          "typeVal": "moyenne",
          "val": 250.93258426966293
         },
         {
          "jour": "2019-01-15T00:00:00",
          "typeVal": "moyenne",
          "val": 250.93258426966293
         },
         {
          "jour": "2019-01-16T00:00:00",
          "typeVal": "moyenne",
          "val": 250.93258426966293
         },
         {
          "jour": "2019-01-16T00:00:00",
          "typeVal": "moyenne",
          "val": 250.93258426966293
         },
         {
          "jour": "2019-01-17T00:00:00",
          "typeVal": "moyenne",
          "val": 250.93258426966293
         },
         {
          "jour": "2019-01-17T00:00:00",
          "typeVal": "moyenne",
          "val": 250.93258426966293
         },
         {
          "jour": "2019-01-18T00:00:00",
          "typeVal": "moyenne",
          "val": 250.93258426966293
         },
         {
          "jour": "2019-01-18T00:00:00",
          "typeVal": "moyenne",
          "val": 250.93258426966293
         },
         {
          "jour": "2019-01-19T00:00:00",
          "typeVal": "moyenne",
          "val": 250.93258426966293
         },
         {
          "jour": "2019-01-19T00:00:00",
          "typeVal": "moyenne",
          "val": 250.93258426966293
         },
         {
          "jour": "2019-01-20T00:00:00",
          "typeVal": "moyenne",
          "val": 250.93258426966293
         },
         {
          "jour": "2019-01-20T00:00:00",
          "typeVal": "moyenne",
          "val": 250.93258426966293
         },
         {
          "jour": "2019-01-21T00:00:00",
          "typeVal": "moyenne",
          "val": 250.93258426966293
         },
         {
          "jour": "2019-01-21T00:00:00",
          "typeVal": "moyenne",
          "val": 250.93258426966293
         },
         {
          "jour": "2019-01-22T00:00:00",
          "typeVal": "moyenne",
          "val": 250.93258426966293
         },
         {
          "jour": "2019-01-22T00:00:00",
          "typeVal": "moyenne",
          "val": 250.93258426966293
         },
         {
          "jour": "2019-01-23T00:00:00",
          "typeVal": "moyenne",
          "val": 250.93258426966293
         },
         {
          "jour": "2019-01-23T00:00:00",
          "typeVal": "moyenne",
          "val": 250.93258426966293
         },
         {
          "jour": "2019-01-24T00:00:00",
          "typeVal": "moyenne",
          "val": 250.93258426966293
         },
         {
          "jour": "2019-01-24T00:00:00",
          "typeVal": "moyenne",
          "val": 250.93258426966293
         },
         {
          "jour": "2019-01-25T00:00:00",
          "typeVal": "moyenne",
          "val": 250.93258426966293
         },
         {
          "jour": "2019-01-25T00:00:00",
          "typeVal": "moyenne",
          "val": 250.93258426966293
         },
         {
          "jour": "2019-01-26T00:00:00",
          "typeVal": "moyenne",
          "val": 250.93258426966293
         },
         {
          "jour": "2019-01-26T00:00:00",
          "typeVal": "moyenne",
          "val": 250.93258426966293
         },
         {
          "jour": "2019-01-27T00:00:00",
          "typeVal": "moyenne",
          "val": 250.93258426966293
         },
         {
          "jour": "2019-01-27T00:00:00",
          "typeVal": "moyenne",
          "val": 250.93258426966293
         },
         {
          "jour": "2019-01-28T00:00:00",
          "typeVal": "moyenne",
          "val": 250.93258426966293
         },
         {
          "jour": "2019-01-28T00:00:00",
          "typeVal": "moyenne",
          "val": 250.93258426966293
         },
         {
          "jour": "2019-01-29T00:00:00",
          "typeVal": "moyenne",
          "val": 250.93258426966293
         },
         {
          "jour": "2019-01-29T00:00:00",
          "typeVal": "moyenne",
          "val": 250.93258426966293
         },
         {
          "jour": "2019-01-30T00:00:00",
          "typeVal": "moyenne",
          "val": 250.93258426966293
         },
         {
          "jour": "2019-01-30T00:00:00",
          "typeVal": "moyenne",
          "val": 250.93258426966293
         },
         {
          "jour": "2019-01-31T00:00:00",
          "typeVal": "moyenne",
          "val": 250.93258426966293
         },
         {
          "jour": "2019-01-31T00:00:00",
          "typeVal": "moyenne",
          "val": 250.93258426966293
         },
         {
          "jour": "2019-02-01T00:00:00",
          "typeVal": "moyenne",
          "val": 250.93258426966293
         },
         {
          "jour": "2019-02-01T00:00:00",
          "typeVal": "moyenne",
          "val": 250.93258426966293
         },
         {
          "jour": "2019-02-02T00:00:00",
          "typeVal": "moyenne",
          "val": 250.93258426966293
         },
         {
          "jour": "2019-02-02T00:00:00",
          "typeVal": "moyenne",
          "val": 250.93258426966293
         },
         {
          "jour": "2019-02-03T00:00:00",
          "typeVal": "moyenne",
          "val": 250.93258426966293
         },
         {
          "jour": "2019-02-03T00:00:00",
          "typeVal": "moyenne",
          "val": 250.93258426966293
         },
         {
          "jour": "2019-02-04T00:00:00",
          "typeVal": "moyenne",
          "val": 250.93258426966293
         },
         {
          "jour": "2019-02-04T00:00:00",
          "typeVal": "moyenne",
          "val": 250.93258426966293
         },
         {
          "jour": "2019-02-05T00:00:00",
          "typeVal": "moyenne",
          "val": 250.93258426966293
         },
         {
          "jour": "2019-02-05T00:00:00",
          "typeVal": "moyenne",
          "val": 250.93258426966293
         },
         {
          "jour": "2019-02-06T00:00:00",
          "typeVal": "moyenne",
          "val": 250.93258426966293
         },
         {
          "jour": "2019-02-06T00:00:00",
          "typeVal": "moyenne",
          "val": 250.93258426966293
         },
         {
          "jour": "2019-02-07T00:00:00",
          "typeVal": "moyenne",
          "val": 250.93258426966293
         },
         {
          "jour": "2019-02-07T00:00:00",
          "typeVal": "moyenne",
          "val": 250.93258426966293
         },
         {
          "jour": "2019-02-08T00:00:00",
          "typeVal": "moyenne",
          "val": 250.93258426966293
         },
         {
          "jour": "2019-02-08T00:00:00",
          "typeVal": "moyenne",
          "val": 250.93258426966293
         },
         {
          "jour": "2019-02-09T00:00:00",
          "typeVal": "moyenne",
          "val": 250.93258426966293
         },
         {
          "jour": "2019-02-09T00:00:00",
          "typeVal": "moyenne",
          "val": 250.93258426966293
         },
         {
          "jour": "2019-02-10T00:00:00",
          "typeVal": "moyenne",
          "val": 250.93258426966293
         },
         {
          "jour": "2019-02-10T00:00:00",
          "typeVal": "moyenne",
          "val": 250.93258426966293
         },
         {
          "jour": "2019-02-11T00:00:00",
          "typeVal": "moyenne",
          "val": 250.93258426966293
         },
         {
          "jour": "2019-02-11T00:00:00",
          "typeVal": "moyenne",
          "val": 250.93258426966293
         },
         {
          "jour": "2019-02-12T00:00:00",
          "typeVal": "moyenne",
          "val": 250.93258426966293
         },
         {
          "jour": "2019-02-12T00:00:00",
          "typeVal": "moyenne",
          "val": 250.93258426966293
         },
         {
          "jour": "2019-02-13T00:00:00",
          "typeVal": "moyenne",
          "val": 250.93258426966293
         },
         {
          "jour": "2019-02-13T00:00:00",
          "typeVal": "moyenne",
          "val": 250.93258426966293
         },
         {
          "jour": "2019-02-14T00:00:00",
          "typeVal": "moyenne",
          "val": 250.93258426966293
         },
         {
          "jour": "2019-02-14T00:00:00",
          "typeVal": "moyenne",
          "val": 250.93258426966293
         },
         {
          "jour": "2019-02-15T00:00:00",
          "typeVal": "moyenne",
          "val": 250.93258426966293
         },
         {
          "jour": "2019-02-15T00:00:00",
          "typeVal": "moyenne",
          "val": 250.93258426966293
         },
         {
          "jour": "2019-02-16T00:00:00",
          "typeVal": "moyenne",
          "val": 250.93258426966293
         },
         {
          "jour": "2019-02-16T00:00:00",
          "typeVal": "moyenne",
          "val": 250.93258426966293
         },
         {
          "jour": "2019-02-17T00:00:00",
          "typeVal": "moyenne",
          "val": 250.93258426966293
         },
         {
          "jour": "2019-02-17T00:00:00",
          "typeVal": "moyenne",
          "val": 250.93258426966293
         },
         {
          "jour": "2019-02-18T00:00:00",
          "typeVal": "moyenne",
          "val": 250.93258426966293
         },
         {
          "jour": "2019-02-18T00:00:00",
          "typeVal": "moyenne",
          "val": 250.93258426966293
         },
         {
          "jour": "2019-02-19T00:00:00",
          "typeVal": "moyenne",
          "val": 250.93258426966293
         },
         {
          "jour": "2019-02-19T00:00:00",
          "typeVal": "moyenne",
          "val": 250.93258426966293
         },
         {
          "jour": "2019-02-20T00:00:00",
          "typeVal": "moyenne",
          "val": 250.93258426966293
         },
         {
          "jour": "2019-02-20T00:00:00",
          "typeVal": "moyenne",
          "val": 250.93258426966293
         },
         {
          "jour": "2019-02-21T00:00:00",
          "typeVal": "moyenne",
          "val": 250.93258426966293
         },
         {
          "jour": "2019-02-21T00:00:00",
          "typeVal": "moyenne",
          "val": 250.93258426966293
         },
         {
          "jour": "2019-02-22T00:00:00",
          "typeVal": "moyenne",
          "val": 250.93258426966293
         },
         {
          "jour": "2019-02-22T00:00:00",
          "typeVal": "moyenne",
          "val": 250.93258426966293
         },
         {
          "jour": "2019-02-23T00:00:00",
          "typeVal": "moyenne",
          "val": 250.93258426966293
         },
         {
          "jour": "2019-02-23T00:00:00",
          "typeVal": "moyenne",
          "val": 250.93258426966293
         },
         {
          "jour": "2019-02-24T00:00:00",
          "typeVal": "moyenne",
          "val": 250.93258426966293
         },
         {
          "jour": "2019-02-24T00:00:00",
          "typeVal": "moyenne",
          "val": 250.93258426966293
         },
         {
          "jour": "2019-02-25T00:00:00",
          "typeVal": "moyenne",
          "val": 250.93258426966293
         },
         {
          "jour": "2019-02-25T00:00:00",
          "typeVal": "moyenne",
          "val": 250.93258426966293
         },
         {
          "jour": "2019-02-26T00:00:00",
          "typeVal": "moyenne",
          "val": 250.93258426966293
         },
         {
          "jour": "2019-02-26T00:00:00",
          "typeVal": "moyenne",
          "val": 250.93258426966293
         },
         {
          "jour": "2019-02-27T00:00:00",
          "typeVal": "moyenne",
          "val": 250.93258426966293
         },
         {
          "jour": "2019-02-27T00:00:00",
          "typeVal": "moyenne",
          "val": 250.93258426966293
         },
         {
          "jour": "2019-02-28T00:00:00",
          "typeVal": "moyenne",
          "val": 250.93258426966293
         },
         {
          "jour": "2019-02-28T00:00:00",
          "typeVal": "moyenne",
          "val": 250.93258426966293
         },
         {
          "jour": "2019-03-01T00:00:00",
          "typeVal": "moyenne",
          "val": 250.93258426966293
         },
         {
          "jour": "2019-03-01T00:00:00",
          "typeVal": "moyenne",
          "val": 250.93258426966293
         },
         {
          "jour": "2019-03-02T00:00:00",
          "typeVal": "moyenne",
          "val": 250.93258426966293
         },
         {
          "jour": "2019-03-02T00:00:00",
          "typeVal": "moyenne",
          "val": 250.93258426966293
         },
         {
          "jour": "2019-03-03T00:00:00",
          "typeVal": "moyenne",
          "val": 250.93258426966293
         },
         {
          "jour": "2019-03-03T00:00:00",
          "typeVal": "moyenne",
          "val": 250.93258426966293
         },
         {
          "jour": "2019-03-04T00:00:00",
          "typeVal": "moyenne",
          "val": 250.93258426966293
         },
         {
          "jour": "2019-03-04T00:00:00",
          "typeVal": "moyenne",
          "val": 250.93258426966293
         },
         {
          "jour": "2019-03-05T00:00:00",
          "typeVal": "moyenne",
          "val": 250.93258426966293
         },
         {
          "jour": "2019-03-05T00:00:00",
          "typeVal": "moyenne",
          "val": 250.93258426966293
         },
         {
          "jour": "2019-03-06T00:00:00",
          "typeVal": "moyenne",
          "val": 250.93258426966293
         },
         {
          "jour": "2019-03-06T00:00:00",
          "typeVal": "moyenne",
          "val": 250.93258426966293
         },
         {
          "jour": "2019-03-07T00:00:00",
          "typeVal": "moyenne",
          "val": 250.93258426966293
         },
         {
          "jour": "2019-03-07T00:00:00",
          "typeVal": "moyenne",
          "val": 250.93258426966293
         },
         {
          "jour": "2019-03-08T00:00:00",
          "typeVal": "moyenne",
          "val": 250.93258426966293
         },
         {
          "jour": "2019-03-08T00:00:00",
          "typeVal": "moyenne",
          "val": 250.93258426966293
         },
         {
          "jour": "2019-03-09T00:00:00",
          "typeVal": "moyenne",
          "val": 250.93258426966293
         },
         {
          "jour": "2019-03-09T00:00:00",
          "typeVal": "moyenne",
          "val": 250.93258426966293
         },
         {
          "jour": "2019-03-10T00:00:00",
          "typeVal": "moyenne",
          "val": 250.93258426966293
         },
         {
          "jour": "2019-03-10T00:00:00",
          "typeVal": "moyenne",
          "val": 250.93258426966293
         },
         {
          "jour": "2019-03-11T00:00:00",
          "typeVal": "moyenne",
          "val": 250.93258426966293
         },
         {
          "jour": "2019-03-11T00:00:00",
          "typeVal": "moyenne",
          "val": 250.93258426966293
         },
         {
          "jour": "2019-03-12T00:00:00",
          "typeVal": "moyenne",
          "val": 250.93258426966293
         },
         {
          "jour": "2019-03-12T00:00:00",
          "typeVal": "moyenne",
          "val": 250.93258426966293
         },
         {
          "jour": "2019-03-13T00:00:00",
          "typeVal": "moyenne",
          "val": 250.93258426966293
         },
         {
          "jour": "2019-03-13T00:00:00",
          "typeVal": "moyenne",
          "val": 250.93258426966293
         },
         {
          "jour": "2019-03-14T00:00:00",
          "typeVal": "moyenne",
          "val": 250.93258426966293
         },
         {
          "jour": "2019-03-14T00:00:00",
          "typeVal": "moyenne",
          "val": 250.93258426966293
         },
         {
          "jour": "2019-03-15T00:00:00",
          "typeVal": "moyenne",
          "val": 250.93258426966293
         },
         {
          "jour": "2019-03-15T00:00:00",
          "typeVal": "moyenne",
          "val": 250.93258426966293
         },
         {
          "jour": "2019-03-16T00:00:00",
          "typeVal": "moyenne",
          "val": 250.93258426966293
         },
         {
          "jour": "2019-03-16T00:00:00",
          "typeVal": "moyenne",
          "val": 250.93258426966293
         },
         {
          "jour": "2019-03-17T00:00:00",
          "typeVal": "moyenne",
          "val": 250.93258426966293
         },
         {
          "jour": "2019-03-17T00:00:00",
          "typeVal": "moyenne",
          "val": 250.93258426966293
         },
         {
          "jour": "2019-03-18T00:00:00",
          "typeVal": "moyenne",
          "val": 250.93258426966293
         },
         {
          "jour": "2019-03-18T00:00:00",
          "typeVal": "moyenne",
          "val": 250.93258426966293
         },
         {
          "jour": "2019-03-19T00:00:00",
          "typeVal": "moyenne",
          "val": 250.93258426966293
         },
         {
          "jour": "2019-03-19T00:00:00",
          "typeVal": "moyenne",
          "val": 250.93258426966293
         },
         {
          "jour": "2019-03-20T00:00:00",
          "typeVal": "moyenne",
          "val": 250.93258426966293
         },
         {
          "jour": "2019-03-20T00:00:00",
          "typeVal": "moyenne",
          "val": 250.93258426966293
         },
         {
          "jour": "2019-03-21T00:00:00",
          "typeVal": "moyenne",
          "val": 250.93258426966293
         },
         {
          "jour": "2019-03-21T00:00:00",
          "typeVal": "moyenne",
          "val": 250.93258426966293
         },
         {
          "jour": "2019-03-22T00:00:00",
          "typeVal": "moyenne",
          "val": 250.93258426966293
         },
         {
          "jour": "2019-03-22T00:00:00",
          "typeVal": "moyenne",
          "val": 250.93258426966293
         },
         {
          "jour": "2019-03-23T00:00:00",
          "typeVal": "moyenne",
          "val": 250.93258426966293
         },
         {
          "jour": "2019-03-23T00:00:00",
          "typeVal": "moyenne",
          "val": 250.93258426966293
         },
         {
          "jour": "2019-03-24T00:00:00",
          "typeVal": "moyenne",
          "val": 250.93258426966293
         },
         {
          "jour": "2019-03-24T00:00:00",
          "typeVal": "moyenne",
          "val": 250.93258426966293
         },
         {
          "jour": "2019-03-25T00:00:00",
          "typeVal": "moyenne",
          "val": 250.93258426966293
         },
         {
          "jour": "2019-03-25T00:00:00",
          "typeVal": "moyenne",
          "val": 250.93258426966293
         },
         {
          "jour": "2019-03-26T00:00:00",
          "typeVal": "moyenne",
          "val": 250.93258426966293
         },
         {
          "jour": "2019-03-26T00:00:00",
          "typeVal": "moyenne",
          "val": 250.93258426966293
         },
         {
          "jour": "2019-03-27T00:00:00",
          "typeVal": "moyenne",
          "val": 250.93258426966293
         },
         {
          "jour": "2019-03-27T00:00:00",
          "typeVal": "moyenne",
          "val": 250.93258426966293
         },
         {
          "jour": "2019-03-28T00:00:00",
          "typeVal": "moyenne",
          "val": 250.93258426966293
         },
         {
          "jour": "2019-03-28T00:00:00",
          "typeVal": "moyenne",
          "val": 250.93258426966293
         },
         {
          "jour": "2019-03-29T00:00:00",
          "typeVal": "moyenne",
          "val": 250.93258426966293
         },
         {
          "jour": "2019-03-29T00:00:00",
          "typeVal": "moyenne",
          "val": 250.93258426966293
         },
         {
          "jour": "2019-03-30T00:00:00",
          "typeVal": "moyenne",
          "val": 250.93258426966293
         },
         {
          "jour": "2019-03-30T00:00:00",
          "typeVal": "moyenne",
          "val": 250.93258426966293
         },
         {
          "jour": "2019-03-31T00:00:00",
          "typeVal": "moyenne",
          "val": 250.93258426966293
         },
         {
          "jour": "2019-03-31T00:00:00",
          "typeVal": "moyenne",
          "val": 250.93258426966293
         },
         {
          "jour": "2019-01-01T00:00:00",
          "typeVal": "median",
          "val": 267
         },
         {
          "jour": "2019-01-01T00:00:00",
          "typeVal": "median",
          "val": 267
         },
         {
          "jour": "2019-01-02T00:00:00",
          "typeVal": "median",
          "val": 267
         },
         {
          "jour": "2019-01-02T00:00:00",
          "typeVal": "median",
          "val": 267
         },
         {
          "jour": "2019-01-03T00:00:00",
          "typeVal": "median",
          "val": 267
         },
         {
          "jour": "2019-01-03T00:00:00",
          "typeVal": "median",
          "val": 267
         },
         {
          "jour": "2019-01-04T00:00:00",
          "typeVal": "median",
          "val": 267
         },
         {
          "jour": "2019-01-04T00:00:00",
          "typeVal": "median",
          "val": 267
         },
         {
          "jour": "2019-01-05T00:00:00",
          "typeVal": "median",
          "val": 267
         },
         {
          "jour": "2019-01-05T00:00:00",
          "typeVal": "median",
          "val": 267
         },
         {
          "jour": "2019-01-06T00:00:00",
          "typeVal": "median",
          "val": 267
         },
         {
          "jour": "2019-01-06T00:00:00",
          "typeVal": "median",
          "val": 267
         },
         {
          "jour": "2019-01-07T00:00:00",
          "typeVal": "median",
          "val": 267
         },
         {
          "jour": "2019-01-07T00:00:00",
          "typeVal": "median",
          "val": 267
         },
         {
          "jour": "2019-01-08T00:00:00",
          "typeVal": "median",
          "val": 267
         },
         {
          "jour": "2019-01-08T00:00:00",
          "typeVal": "median",
          "val": 267
         },
         {
          "jour": "2019-01-09T00:00:00",
          "typeVal": "median",
          "val": 267
         },
         {
          "jour": "2019-01-09T00:00:00",
          "typeVal": "median",
          "val": 267
         },
         {
          "jour": "2019-01-10T00:00:00",
          "typeVal": "median",
          "val": 267
         },
         {
          "jour": "2019-01-10T00:00:00",
          "typeVal": "median",
          "val": 267
         },
         {
          "jour": "2019-01-11T00:00:00",
          "typeVal": "median",
          "val": 267
         },
         {
          "jour": "2019-01-11T00:00:00",
          "typeVal": "median",
          "val": 267
         },
         {
          "jour": "2019-01-12T00:00:00",
          "typeVal": "median",
          "val": 267
         },
         {
          "jour": "2019-01-12T00:00:00",
          "typeVal": "median",
          "val": 267
         },
         {
          "jour": "2019-01-13T00:00:00",
          "typeVal": "median",
          "val": 267
         },
         {
          "jour": "2019-01-13T00:00:00",
          "typeVal": "median",
          "val": 267
         },
         {
          "jour": "2019-01-14T00:00:00",
          "typeVal": "median",
          "val": 267
         },
         {
          "jour": "2019-01-14T00:00:00",
          "typeVal": "median",
          "val": 267
         },
         {
          "jour": "2019-01-15T00:00:00",
          "typeVal": "median",
          "val": 267
         },
         {
          "jour": "2019-01-15T00:00:00",
          "typeVal": "median",
          "val": 267
         },
         {
          "jour": "2019-01-16T00:00:00",
          "typeVal": "median",
          "val": 267
         },
         {
          "jour": "2019-01-16T00:00:00",
          "typeVal": "median",
          "val": 267
         },
         {
          "jour": "2019-01-17T00:00:00",
          "typeVal": "median",
          "val": 267
         },
         {
          "jour": "2019-01-17T00:00:00",
          "typeVal": "median",
          "val": 267
         },
         {
          "jour": "2019-01-18T00:00:00",
          "typeVal": "median",
          "val": 267
         },
         {
          "jour": "2019-01-18T00:00:00",
          "typeVal": "median",
          "val": 267
         },
         {
          "jour": "2019-01-19T00:00:00",
          "typeVal": "median",
          "val": 267
         },
         {
          "jour": "2019-01-19T00:00:00",
          "typeVal": "median",
          "val": 267
         },
         {
          "jour": "2019-01-20T00:00:00",
          "typeVal": "median",
          "val": 267
         },
         {
          "jour": "2019-01-20T00:00:00",
          "typeVal": "median",
          "val": 267
         },
         {
          "jour": "2019-01-21T00:00:00",
          "typeVal": "median",
          "val": 267
         },
         {
          "jour": "2019-01-21T00:00:00",
          "typeVal": "median",
          "val": 267
         },
         {
          "jour": "2019-01-22T00:00:00",
          "typeVal": "median",
          "val": 267
         },
         {
          "jour": "2019-01-22T00:00:00",
          "typeVal": "median",
          "val": 267
         },
         {
          "jour": "2019-01-23T00:00:00",
          "typeVal": "median",
          "val": 267
         },
         {
          "jour": "2019-01-23T00:00:00",
          "typeVal": "median",
          "val": 267
         },
         {
          "jour": "2019-01-24T00:00:00",
          "typeVal": "median",
          "val": 267
         },
         {
          "jour": "2019-01-24T00:00:00",
          "typeVal": "median",
          "val": 267
         },
         {
          "jour": "2019-01-25T00:00:00",
          "typeVal": "median",
          "val": 267
         },
         {
          "jour": "2019-01-25T00:00:00",
          "typeVal": "median",
          "val": 267
         },
         {
          "jour": "2019-01-26T00:00:00",
          "typeVal": "median",
          "val": 267
         },
         {
          "jour": "2019-01-26T00:00:00",
          "typeVal": "median",
          "val": 267
         },
         {
          "jour": "2019-01-27T00:00:00",
          "typeVal": "median",
          "val": 267
         },
         {
          "jour": "2019-01-27T00:00:00",
          "typeVal": "median",
          "val": 267
         },
         {
          "jour": "2019-01-28T00:00:00",
          "typeVal": "median",
          "val": 267
         },
         {
          "jour": "2019-01-28T00:00:00",
          "typeVal": "median",
          "val": 267
         },
         {
          "jour": "2019-01-29T00:00:00",
          "typeVal": "median",
          "val": 267
         },
         {
          "jour": "2019-01-29T00:00:00",
          "typeVal": "median",
          "val": 267
         },
         {
          "jour": "2019-01-30T00:00:00",
          "typeVal": "median",
          "val": 267
         },
         {
          "jour": "2019-01-30T00:00:00",
          "typeVal": "median",
          "val": 267
         },
         {
          "jour": "2019-01-31T00:00:00",
          "typeVal": "median",
          "val": 267
         },
         {
          "jour": "2019-01-31T00:00:00",
          "typeVal": "median",
          "val": 267
         },
         {
          "jour": "2019-02-01T00:00:00",
          "typeVal": "median",
          "val": 267
         },
         {
          "jour": "2019-02-01T00:00:00",
          "typeVal": "median",
          "val": 267
         },
         {
          "jour": "2019-02-02T00:00:00",
          "typeVal": "median",
          "val": 267
         },
         {
          "jour": "2019-02-02T00:00:00",
          "typeVal": "median",
          "val": 267
         },
         {
          "jour": "2019-02-03T00:00:00",
          "typeVal": "median",
          "val": 267
         },
         {
          "jour": "2019-02-03T00:00:00",
          "typeVal": "median",
          "val": 267
         },
         {
          "jour": "2019-02-04T00:00:00",
          "typeVal": "median",
          "val": 267
         },
         {
          "jour": "2019-02-04T00:00:00",
          "typeVal": "median",
          "val": 267
         },
         {
          "jour": "2019-02-05T00:00:00",
          "typeVal": "median",
          "val": 267
         },
         {
          "jour": "2019-02-05T00:00:00",
          "typeVal": "median",
          "val": 267
         },
         {
          "jour": "2019-02-06T00:00:00",
          "typeVal": "median",
          "val": 267
         },
         {
          "jour": "2019-02-06T00:00:00",
          "typeVal": "median",
          "val": 267
         },
         {
          "jour": "2019-02-07T00:00:00",
          "typeVal": "median",
          "val": 267
         },
         {
          "jour": "2019-02-07T00:00:00",
          "typeVal": "median",
          "val": 267
         },
         {
          "jour": "2019-02-08T00:00:00",
          "typeVal": "median",
          "val": 267
         },
         {
          "jour": "2019-02-08T00:00:00",
          "typeVal": "median",
          "val": 267
         },
         {
          "jour": "2019-02-09T00:00:00",
          "typeVal": "median",
          "val": 267
         },
         {
          "jour": "2019-02-09T00:00:00",
          "typeVal": "median",
          "val": 267
         },
         {
          "jour": "2019-02-10T00:00:00",
          "typeVal": "median",
          "val": 267
         },
         {
          "jour": "2019-02-10T00:00:00",
          "typeVal": "median",
          "val": 267
         },
         {
          "jour": "2019-02-11T00:00:00",
          "typeVal": "median",
          "val": 267
         },
         {
          "jour": "2019-02-11T00:00:00",
          "typeVal": "median",
          "val": 267
         },
         {
          "jour": "2019-02-12T00:00:00",
          "typeVal": "median",
          "val": 267
         },
         {
          "jour": "2019-02-12T00:00:00",
          "typeVal": "median",
          "val": 267
         },
         {
          "jour": "2019-02-13T00:00:00",
          "typeVal": "median",
          "val": 267
         },
         {
          "jour": "2019-02-13T00:00:00",
          "typeVal": "median",
          "val": 267
         },
         {
          "jour": "2019-02-14T00:00:00",
          "typeVal": "median",
          "val": 267
         },
         {
          "jour": "2019-02-14T00:00:00",
          "typeVal": "median",
          "val": 267
         },
         {
          "jour": "2019-02-15T00:00:00",
          "typeVal": "median",
          "val": 267
         },
         {
          "jour": "2019-02-15T00:00:00",
          "typeVal": "median",
          "val": 267
         },
         {
          "jour": "2019-02-16T00:00:00",
          "typeVal": "median",
          "val": 267
         },
         {
          "jour": "2019-02-16T00:00:00",
          "typeVal": "median",
          "val": 267
         },
         {
          "jour": "2019-02-17T00:00:00",
          "typeVal": "median",
          "val": 267
         },
         {
          "jour": "2019-02-17T00:00:00",
          "typeVal": "median",
          "val": 267
         },
         {
          "jour": "2019-02-18T00:00:00",
          "typeVal": "median",
          "val": 267
         },
         {
          "jour": "2019-02-18T00:00:00",
          "typeVal": "median",
          "val": 267
         },
         {
          "jour": "2019-02-19T00:00:00",
          "typeVal": "median",
          "val": 267
         },
         {
          "jour": "2019-02-19T00:00:00",
          "typeVal": "median",
          "val": 267
         },
         {
          "jour": "2019-02-20T00:00:00",
          "typeVal": "median",
          "val": 267
         },
         {
          "jour": "2019-02-20T00:00:00",
          "typeVal": "median",
          "val": 267
         },
         {
          "jour": "2019-02-21T00:00:00",
          "typeVal": "median",
          "val": 267
         },
         {
          "jour": "2019-02-21T00:00:00",
          "typeVal": "median",
          "val": 267
         },
         {
          "jour": "2019-02-22T00:00:00",
          "typeVal": "median",
          "val": 267
         },
         {
          "jour": "2019-02-22T00:00:00",
          "typeVal": "median",
          "val": 267
         },
         {
          "jour": "2019-02-23T00:00:00",
          "typeVal": "median",
          "val": 267
         },
         {
          "jour": "2019-02-23T00:00:00",
          "typeVal": "median",
          "val": 267
         },
         {
          "jour": "2019-02-24T00:00:00",
          "typeVal": "median",
          "val": 267
         },
         {
          "jour": "2019-02-24T00:00:00",
          "typeVal": "median",
          "val": 267
         },
         {
          "jour": "2019-02-25T00:00:00",
          "typeVal": "median",
          "val": 267
         },
         {
          "jour": "2019-02-25T00:00:00",
          "typeVal": "median",
          "val": 267
         },
         {
          "jour": "2019-02-26T00:00:00",
          "typeVal": "median",
          "val": 267
         },
         {
          "jour": "2019-02-26T00:00:00",
          "typeVal": "median",
          "val": 267
         },
         {
          "jour": "2019-02-27T00:00:00",
          "typeVal": "median",
          "val": 267
         },
         {
          "jour": "2019-02-27T00:00:00",
          "typeVal": "median",
          "val": 267
         },
         {
          "jour": "2019-02-28T00:00:00",
          "typeVal": "median",
          "val": 267
         },
         {
          "jour": "2019-02-28T00:00:00",
          "typeVal": "median",
          "val": 267
         },
         {
          "jour": "2019-03-01T00:00:00",
          "typeVal": "median",
          "val": 267
         },
         {
          "jour": "2019-03-01T00:00:00",
          "typeVal": "median",
          "val": 267
         },
         {
          "jour": "2019-03-02T00:00:00",
          "typeVal": "median",
          "val": 267
         },
         {
          "jour": "2019-03-02T00:00:00",
          "typeVal": "median",
          "val": 267
         },
         {
          "jour": "2019-03-03T00:00:00",
          "typeVal": "median",
          "val": 267
         },
         {
          "jour": "2019-03-03T00:00:00",
          "typeVal": "median",
          "val": 267
         },
         {
          "jour": "2019-03-04T00:00:00",
          "typeVal": "median",
          "val": 267
         },
         {
          "jour": "2019-03-04T00:00:00",
          "typeVal": "median",
          "val": 267
         },
         {
          "jour": "2019-03-05T00:00:00",
          "typeVal": "median",
          "val": 267
         },
         {
          "jour": "2019-03-05T00:00:00",
          "typeVal": "median",
          "val": 267
         },
         {
          "jour": "2019-03-06T00:00:00",
          "typeVal": "median",
          "val": 267
         },
         {
          "jour": "2019-03-06T00:00:00",
          "typeVal": "median",
          "val": 267
         },
         {
          "jour": "2019-03-07T00:00:00",
          "typeVal": "median",
          "val": 267
         },
         {
          "jour": "2019-03-07T00:00:00",
          "typeVal": "median",
          "val": 267
         },
         {
          "jour": "2019-03-08T00:00:00",
          "typeVal": "median",
          "val": 267
         },
         {
          "jour": "2019-03-08T00:00:00",
          "typeVal": "median",
          "val": 267
         },
         {
          "jour": "2019-03-09T00:00:00",
          "typeVal": "median",
          "val": 267
         },
         {
          "jour": "2019-03-09T00:00:00",
          "typeVal": "median",
          "val": 267
         },
         {
          "jour": "2019-03-10T00:00:00",
          "typeVal": "median",
          "val": 267
         },
         {
          "jour": "2019-03-10T00:00:00",
          "typeVal": "median",
          "val": 267
         },
         {
          "jour": "2019-03-11T00:00:00",
          "typeVal": "median",
          "val": 267
         },
         {
          "jour": "2019-03-11T00:00:00",
          "typeVal": "median",
          "val": 267
         },
         {
          "jour": "2019-03-12T00:00:00",
          "typeVal": "median",
          "val": 267
         },
         {
          "jour": "2019-03-12T00:00:00",
          "typeVal": "median",
          "val": 267
         },
         {
          "jour": "2019-03-13T00:00:00",
          "typeVal": "median",
          "val": 267
         },
         {
          "jour": "2019-03-13T00:00:00",
          "typeVal": "median",
          "val": 267
         },
         {
          "jour": "2019-03-14T00:00:00",
          "typeVal": "median",
          "val": 267
         },
         {
          "jour": "2019-03-14T00:00:00",
          "typeVal": "median",
          "val": 267
         },
         {
          "jour": "2019-03-15T00:00:00",
          "typeVal": "median",
          "val": 267
         },
         {
          "jour": "2019-03-15T00:00:00",
          "typeVal": "median",
          "val": 267
         },
         {
          "jour": "2019-03-16T00:00:00",
          "typeVal": "median",
          "val": 267
         },
         {
          "jour": "2019-03-16T00:00:00",
          "typeVal": "median",
          "val": 267
         },
         {
          "jour": "2019-03-17T00:00:00",
          "typeVal": "median",
          "val": 267
         },
         {
          "jour": "2019-03-17T00:00:00",
          "typeVal": "median",
          "val": 267
         },
         {
          "jour": "2019-03-18T00:00:00",
          "typeVal": "median",
          "val": 267
         },
         {
          "jour": "2019-03-18T00:00:00",
          "typeVal": "median",
          "val": 267
         },
         {
          "jour": "2019-03-19T00:00:00",
          "typeVal": "median",
          "val": 267
         },
         {
          "jour": "2019-03-19T00:00:00",
          "typeVal": "median",
          "val": 267
         },
         {
          "jour": "2019-03-20T00:00:00",
          "typeVal": "median",
          "val": 267
         },
         {
          "jour": "2019-03-20T00:00:00",
          "typeVal": "median",
          "val": 267
         },
         {
          "jour": "2019-03-21T00:00:00",
          "typeVal": "median",
          "val": 267
         },
         {
          "jour": "2019-03-21T00:00:00",
          "typeVal": "median",
          "val": 267
         },
         {
          "jour": "2019-03-22T00:00:00",
          "typeVal": "median",
          "val": 267
         },
         {
          "jour": "2019-03-22T00:00:00",
          "typeVal": "median",
          "val": 267
         },
         {
          "jour": "2019-03-23T00:00:00",
          "typeVal": "median",
          "val": 267
         },
         {
          "jour": "2019-03-23T00:00:00",
          "typeVal": "median",
          "val": 267
         },
         {
          "jour": "2019-03-24T00:00:00",
          "typeVal": "median",
          "val": 267
         },
         {
          "jour": "2019-03-24T00:00:00",
          "typeVal": "median",
          "val": 267
         },
         {
          "jour": "2019-03-25T00:00:00",
          "typeVal": "median",
          "val": 267
         },
         {
          "jour": "2019-03-25T00:00:00",
          "typeVal": "median",
          "val": 267
         },
         {
          "jour": "2019-03-26T00:00:00",
          "typeVal": "median",
          "val": 267
         },
         {
          "jour": "2019-03-26T00:00:00",
          "typeVal": "median",
          "val": 267
         },
         {
          "jour": "2019-03-27T00:00:00",
          "typeVal": "median",
          "val": 267
         },
         {
          "jour": "2019-03-27T00:00:00",
          "typeVal": "median",
          "val": 267
         },
         {
          "jour": "2019-03-28T00:00:00",
          "typeVal": "median",
          "val": 267
         },
         {
          "jour": "2019-03-28T00:00:00",
          "typeVal": "median",
          "val": 267
         },
         {
          "jour": "2019-03-29T00:00:00",
          "typeVal": "median",
          "val": 267
         },
         {
          "jour": "2019-03-29T00:00:00",
          "typeVal": "median",
          "val": 267
         },
         {
          "jour": "2019-03-30T00:00:00",
          "typeVal": "median",
          "val": 267
         },
         {
          "jour": "2019-03-30T00:00:00",
          "typeVal": "median",
          "val": 267
         },
         {
          "jour": "2019-03-31T00:00:00",
          "typeVal": "median",
          "val": 267
         },
         {
          "jour": "2019-03-31T00:00:00",
          "typeVal": "median",
          "val": 267
         }
        ],
        "data-54957472090a9279092e54c25f2e90a2": [
         {
          "jour": "2019-01-01T00:00:00",
          "plageMaxi": 422.7056369114895,
          "plageMini": 79.15953162783634
         },
         {
          "jour": "2019-01-01T00:00:00",
          "plageMaxi": 422.7056369114895,
          "plageMini": 79.15953162783634
         },
         {
          "jour": "2019-01-02T00:00:00",
          "plageMaxi": 422.7056369114895,
          "plageMini": 79.15953162783634
         },
         {
          "jour": "2019-01-02T00:00:00",
          "plageMaxi": 422.7056369114895,
          "plageMini": 79.15953162783634
         },
         {
          "jour": "2019-01-03T00:00:00",
          "plageMaxi": 422.7056369114895,
          "plageMini": 79.15953162783634
         },
         {
          "jour": "2019-01-03T00:00:00",
          "plageMaxi": 422.7056369114895,
          "plageMini": 79.15953162783634
         },
         {
          "jour": "2019-01-04T00:00:00",
          "plageMaxi": 422.7056369114895,
          "plageMini": 79.15953162783634
         },
         {
          "jour": "2019-01-04T00:00:00",
          "plageMaxi": 422.7056369114895,
          "plageMini": 79.15953162783634
         },
         {
          "jour": "2019-01-05T00:00:00",
          "plageMaxi": 422.7056369114895,
          "plageMini": 79.15953162783634
         },
         {
          "jour": "2019-01-05T00:00:00",
          "plageMaxi": 422.7056369114895,
          "plageMini": 79.15953162783634
         },
         {
          "jour": "2019-01-06T00:00:00",
          "plageMaxi": 422.7056369114895,
          "plageMini": 79.15953162783634
         },
         {
          "jour": "2019-01-06T00:00:00",
          "plageMaxi": 422.7056369114895,
          "plageMini": 79.15953162783634
         },
         {
          "jour": "2019-01-07T00:00:00",
          "plageMaxi": 422.7056369114895,
          "plageMini": 79.15953162783634
         },
         {
          "jour": "2019-01-07T00:00:00",
          "plageMaxi": 422.7056369114895,
          "plageMini": 79.15953162783634
         },
         {
          "jour": "2019-01-08T00:00:00",
          "plageMaxi": 422.7056369114895,
          "plageMini": 79.15953162783634
         },
         {
          "jour": "2019-01-08T00:00:00",
          "plageMaxi": 422.7056369114895,
          "plageMini": 79.15953162783634
         },
         {
          "jour": "2019-01-09T00:00:00",
          "plageMaxi": 422.7056369114895,
          "plageMini": 79.15953162783634
         },
         {
          "jour": "2019-01-09T00:00:00",
          "plageMaxi": 422.7056369114895,
          "plageMini": 79.15953162783634
         },
         {
          "jour": "2019-01-10T00:00:00",
          "plageMaxi": 422.7056369114895,
          "plageMini": 79.15953162783634
         },
         {
          "jour": "2019-01-10T00:00:00",
          "plageMaxi": 422.7056369114895,
          "plageMini": 79.15953162783634
         },
         {
          "jour": "2019-01-11T00:00:00",
          "plageMaxi": 422.7056369114895,
          "plageMini": 79.15953162783634
         },
         {
          "jour": "2019-01-11T00:00:00",
          "plageMaxi": 422.7056369114895,
          "plageMini": 79.15953162783634
         },
         {
          "jour": "2019-01-12T00:00:00",
          "plageMaxi": 422.7056369114895,
          "plageMini": 79.15953162783634
         },
         {
          "jour": "2019-01-12T00:00:00",
          "plageMaxi": 422.7056369114895,
          "plageMini": 79.15953162783634
         },
         {
          "jour": "2019-01-13T00:00:00",
          "plageMaxi": 422.7056369114895,
          "plageMini": 79.15953162783634
         },
         {
          "jour": "2019-01-13T00:00:00",
          "plageMaxi": 422.7056369114895,
          "plageMini": 79.15953162783634
         },
         {
          "jour": "2019-01-14T00:00:00",
          "plageMaxi": 422.7056369114895,
          "plageMini": 79.15953162783634
         },
         {
          "jour": "2019-01-14T00:00:00",
          "plageMaxi": 422.7056369114895,
          "plageMini": 79.15953162783634
         },
         {
          "jour": "2019-01-15T00:00:00",
          "plageMaxi": 422.7056369114895,
          "plageMini": 79.15953162783634
         },
         {
          "jour": "2019-01-15T00:00:00",
          "plageMaxi": 422.7056369114895,
          "plageMini": 79.15953162783634
         },
         {
          "jour": "2019-01-16T00:00:00",
          "plageMaxi": 422.7056369114895,
          "plageMini": 79.15953162783634
         },
         {
          "jour": "2019-01-16T00:00:00",
          "plageMaxi": 422.7056369114895,
          "plageMini": 79.15953162783634
         },
         {
          "jour": "2019-01-17T00:00:00",
          "plageMaxi": 422.7056369114895,
          "plageMini": 79.15953162783634
         },
         {
          "jour": "2019-01-17T00:00:00",
          "plageMaxi": 422.7056369114895,
          "plageMini": 79.15953162783634
         },
         {
          "jour": "2019-01-18T00:00:00",
          "plageMaxi": 422.7056369114895,
          "plageMini": 79.15953162783634
         },
         {
          "jour": "2019-01-18T00:00:00",
          "plageMaxi": 422.7056369114895,
          "plageMini": 79.15953162783634
         },
         {
          "jour": "2019-01-19T00:00:00",
          "plageMaxi": 422.7056369114895,
          "plageMini": 79.15953162783634
         },
         {
          "jour": "2019-01-19T00:00:00",
          "plageMaxi": 422.7056369114895,
          "plageMini": 79.15953162783634
         },
         {
          "jour": "2019-01-20T00:00:00",
          "plageMaxi": 422.7056369114895,
          "plageMini": 79.15953162783634
         },
         {
          "jour": "2019-01-20T00:00:00",
          "plageMaxi": 422.7056369114895,
          "plageMini": 79.15953162783634
         },
         {
          "jour": "2019-01-21T00:00:00",
          "plageMaxi": 422.7056369114895,
          "plageMini": 79.15953162783634
         },
         {
          "jour": "2019-01-21T00:00:00",
          "plageMaxi": 422.7056369114895,
          "plageMini": 79.15953162783634
         },
         {
          "jour": "2019-01-22T00:00:00",
          "plageMaxi": 422.7056369114895,
          "plageMini": 79.15953162783634
         },
         {
          "jour": "2019-01-22T00:00:00",
          "plageMaxi": 422.7056369114895,
          "plageMini": 79.15953162783634
         },
         {
          "jour": "2019-01-23T00:00:00",
          "plageMaxi": 422.7056369114895,
          "plageMini": 79.15953162783634
         },
         {
          "jour": "2019-01-23T00:00:00",
          "plageMaxi": 422.7056369114895,
          "plageMini": 79.15953162783634
         },
         {
          "jour": "2019-01-24T00:00:00",
          "plageMaxi": 422.7056369114895,
          "plageMini": 79.15953162783634
         },
         {
          "jour": "2019-01-24T00:00:00",
          "plageMaxi": 422.7056369114895,
          "plageMini": 79.15953162783634
         },
         {
          "jour": "2019-01-25T00:00:00",
          "plageMaxi": 422.7056369114895,
          "plageMini": 79.15953162783634
         },
         {
          "jour": "2019-01-25T00:00:00",
          "plageMaxi": 422.7056369114895,
          "plageMini": 79.15953162783634
         },
         {
          "jour": "2019-01-26T00:00:00",
          "plageMaxi": 422.7056369114895,
          "plageMini": 79.15953162783634
         },
         {
          "jour": "2019-01-26T00:00:00",
          "plageMaxi": 422.7056369114895,
          "plageMini": 79.15953162783634
         },
         {
          "jour": "2019-01-27T00:00:00",
          "plageMaxi": 422.7056369114895,
          "plageMini": 79.15953162783634
         },
         {
          "jour": "2019-01-27T00:00:00",
          "plageMaxi": 422.7056369114895,
          "plageMini": 79.15953162783634
         },
         {
          "jour": "2019-01-28T00:00:00",
          "plageMaxi": 422.7056369114895,
          "plageMini": 79.15953162783634
         },
         {
          "jour": "2019-01-28T00:00:00",
          "plageMaxi": 422.7056369114895,
          "plageMini": 79.15953162783634
         },
         {
          "jour": "2019-01-29T00:00:00",
          "plageMaxi": 422.7056369114895,
          "plageMini": 79.15953162783634
         },
         {
          "jour": "2019-01-29T00:00:00",
          "plageMaxi": 422.7056369114895,
          "plageMini": 79.15953162783634
         },
         {
          "jour": "2019-01-30T00:00:00",
          "plageMaxi": 422.7056369114895,
          "plageMini": 79.15953162783634
         },
         {
          "jour": "2019-01-30T00:00:00",
          "plageMaxi": 422.7056369114895,
          "plageMini": 79.15953162783634
         },
         {
          "jour": "2019-01-31T00:00:00",
          "plageMaxi": 422.7056369114895,
          "plageMini": 79.15953162783634
         },
         {
          "jour": "2019-01-31T00:00:00",
          "plageMaxi": 422.7056369114895,
          "plageMini": 79.15953162783634
         },
         {
          "jour": "2019-02-01T00:00:00",
          "plageMaxi": 422.7056369114895,
          "plageMini": 79.15953162783634
         },
         {
          "jour": "2019-02-01T00:00:00",
          "plageMaxi": 422.7056369114895,
          "plageMini": 79.15953162783634
         },
         {
          "jour": "2019-02-02T00:00:00",
          "plageMaxi": 422.7056369114895,
          "plageMini": 79.15953162783634
         },
         {
          "jour": "2019-02-02T00:00:00",
          "plageMaxi": 422.7056369114895,
          "plageMini": 79.15953162783634
         },
         {
          "jour": "2019-02-03T00:00:00",
          "plageMaxi": 422.7056369114895,
          "plageMini": 79.15953162783634
         },
         {
          "jour": "2019-02-03T00:00:00",
          "plageMaxi": 422.7056369114895,
          "plageMini": 79.15953162783634
         },
         {
          "jour": "2019-02-04T00:00:00",
          "plageMaxi": 422.7056369114895,
          "plageMini": 79.15953162783634
         },
         {
          "jour": "2019-02-04T00:00:00",
          "plageMaxi": 422.7056369114895,
          "plageMini": 79.15953162783634
         },
         {
          "jour": "2019-02-05T00:00:00",
          "plageMaxi": 422.7056369114895,
          "plageMini": 79.15953162783634
         },
         {
          "jour": "2019-02-05T00:00:00",
          "plageMaxi": 422.7056369114895,
          "plageMini": 79.15953162783634
         },
         {
          "jour": "2019-02-06T00:00:00",
          "plageMaxi": 422.7056369114895,
          "plageMini": 79.15953162783634
         },
         {
          "jour": "2019-02-06T00:00:00",
          "plageMaxi": 422.7056369114895,
          "plageMini": 79.15953162783634
         },
         {
          "jour": "2019-02-07T00:00:00",
          "plageMaxi": 422.7056369114895,
          "plageMini": 79.15953162783634
         },
         {
          "jour": "2019-02-07T00:00:00",
          "plageMaxi": 422.7056369114895,
          "plageMini": 79.15953162783634
         },
         {
          "jour": "2019-02-08T00:00:00",
          "plageMaxi": 422.7056369114895,
          "plageMini": 79.15953162783634
         },
         {
          "jour": "2019-02-08T00:00:00",
          "plageMaxi": 422.7056369114895,
          "plageMini": 79.15953162783634
         },
         {
          "jour": "2019-02-09T00:00:00",
          "plageMaxi": 422.7056369114895,
          "plageMini": 79.15953162783634
         },
         {
          "jour": "2019-02-09T00:00:00",
          "plageMaxi": 422.7056369114895,
          "plageMini": 79.15953162783634
         },
         {
          "jour": "2019-02-10T00:00:00",
          "plageMaxi": 422.7056369114895,
          "plageMini": 79.15953162783634
         },
         {
          "jour": "2019-02-10T00:00:00",
          "plageMaxi": 422.7056369114895,
          "plageMini": 79.15953162783634
         },
         {
          "jour": "2019-02-11T00:00:00",
          "plageMaxi": 422.7056369114895,
          "plageMini": 79.15953162783634
         },
         {
          "jour": "2019-02-11T00:00:00",
          "plageMaxi": 422.7056369114895,
          "plageMini": 79.15953162783634
         },
         {
          "jour": "2019-02-12T00:00:00",
          "plageMaxi": 422.7056369114895,
          "plageMini": 79.15953162783634
         },
         {
          "jour": "2019-02-12T00:00:00",
          "plageMaxi": 422.7056369114895,
          "plageMini": 79.15953162783634
         },
         {
          "jour": "2019-02-13T00:00:00",
          "plageMaxi": 422.7056369114895,
          "plageMini": 79.15953162783634
         },
         {
          "jour": "2019-02-13T00:00:00",
          "plageMaxi": 422.7056369114895,
          "plageMini": 79.15953162783634
         },
         {
          "jour": "2019-02-14T00:00:00",
          "plageMaxi": 422.7056369114895,
          "plageMini": 79.15953162783634
         },
         {
          "jour": "2019-02-14T00:00:00",
          "plageMaxi": 422.7056369114895,
          "plageMini": 79.15953162783634
         },
         {
          "jour": "2019-02-15T00:00:00",
          "plageMaxi": 422.7056369114895,
          "plageMini": 79.15953162783634
         },
         {
          "jour": "2019-02-15T00:00:00",
          "plageMaxi": 422.7056369114895,
          "plageMini": 79.15953162783634
         },
         {
          "jour": "2019-02-16T00:00:00",
          "plageMaxi": 422.7056369114895,
          "plageMini": 79.15953162783634
         },
         {
          "jour": "2019-02-16T00:00:00",
          "plageMaxi": 422.7056369114895,
          "plageMini": 79.15953162783634
         },
         {
          "jour": "2019-02-17T00:00:00",
          "plageMaxi": 422.7056369114895,
          "plageMini": 79.15953162783634
         },
         {
          "jour": "2019-02-17T00:00:00",
          "plageMaxi": 422.7056369114895,
          "plageMini": 79.15953162783634
         },
         {
          "jour": "2019-02-18T00:00:00",
          "plageMaxi": 422.7056369114895,
          "plageMini": 79.15953162783634
         },
         {
          "jour": "2019-02-18T00:00:00",
          "plageMaxi": 422.7056369114895,
          "plageMini": 79.15953162783634
         },
         {
          "jour": "2019-02-19T00:00:00",
          "plageMaxi": 422.7056369114895,
          "plageMini": 79.15953162783634
         },
         {
          "jour": "2019-02-19T00:00:00",
          "plageMaxi": 422.7056369114895,
          "plageMini": 79.15953162783634
         },
         {
          "jour": "2019-02-20T00:00:00",
          "plageMaxi": 422.7056369114895,
          "plageMini": 79.15953162783634
         },
         {
          "jour": "2019-02-20T00:00:00",
          "plageMaxi": 422.7056369114895,
          "plageMini": 79.15953162783634
         },
         {
          "jour": "2019-02-21T00:00:00",
          "plageMaxi": 422.7056369114895,
          "plageMini": 79.15953162783634
         },
         {
          "jour": "2019-02-21T00:00:00",
          "plageMaxi": 422.7056369114895,
          "plageMini": 79.15953162783634
         },
         {
          "jour": "2019-02-22T00:00:00",
          "plageMaxi": 422.7056369114895,
          "plageMini": 79.15953162783634
         },
         {
          "jour": "2019-02-22T00:00:00",
          "plageMaxi": 422.7056369114895,
          "plageMini": 79.15953162783634
         },
         {
          "jour": "2019-02-23T00:00:00",
          "plageMaxi": 422.7056369114895,
          "plageMini": 79.15953162783634
         },
         {
          "jour": "2019-02-23T00:00:00",
          "plageMaxi": 422.7056369114895,
          "plageMini": 79.15953162783634
         },
         {
          "jour": "2019-02-24T00:00:00",
          "plageMaxi": 422.7056369114895,
          "plageMini": 79.15953162783634
         },
         {
          "jour": "2019-02-24T00:00:00",
          "plageMaxi": 422.7056369114895,
          "plageMini": 79.15953162783634
         },
         {
          "jour": "2019-02-25T00:00:00",
          "plageMaxi": 422.7056369114895,
          "plageMini": 79.15953162783634
         },
         {
          "jour": "2019-02-25T00:00:00",
          "plageMaxi": 422.7056369114895,
          "plageMini": 79.15953162783634
         },
         {
          "jour": "2019-02-26T00:00:00",
          "plageMaxi": 422.7056369114895,
          "plageMini": 79.15953162783634
         },
         {
          "jour": "2019-02-26T00:00:00",
          "plageMaxi": 422.7056369114895,
          "plageMini": 79.15953162783634
         },
         {
          "jour": "2019-02-27T00:00:00",
          "plageMaxi": 422.7056369114895,
          "plageMini": 79.15953162783634
         },
         {
          "jour": "2019-02-27T00:00:00",
          "plageMaxi": 422.7056369114895,
          "plageMini": 79.15953162783634
         },
         {
          "jour": "2019-02-28T00:00:00",
          "plageMaxi": 422.7056369114895,
          "plageMini": 79.15953162783634
         },
         {
          "jour": "2019-02-28T00:00:00",
          "plageMaxi": 422.7056369114895,
          "plageMini": 79.15953162783634
         },
         {
          "jour": "2019-03-01T00:00:00",
          "plageMaxi": 422.7056369114895,
          "plageMini": 79.15953162783634
         },
         {
          "jour": "2019-03-01T00:00:00",
          "plageMaxi": 422.7056369114895,
          "plageMini": 79.15953162783634
         },
         {
          "jour": "2019-03-02T00:00:00",
          "plageMaxi": 422.7056369114895,
          "plageMini": 79.15953162783634
         },
         {
          "jour": "2019-03-02T00:00:00",
          "plageMaxi": 422.7056369114895,
          "plageMini": 79.15953162783634
         },
         {
          "jour": "2019-03-03T00:00:00",
          "plageMaxi": 422.7056369114895,
          "plageMini": 79.15953162783634
         },
         {
          "jour": "2019-03-03T00:00:00",
          "plageMaxi": 422.7056369114895,
          "plageMini": 79.15953162783634
         },
         {
          "jour": "2019-03-04T00:00:00",
          "plageMaxi": 422.7056369114895,
          "plageMini": 79.15953162783634
         },
         {
          "jour": "2019-03-04T00:00:00",
          "plageMaxi": 422.7056369114895,
          "plageMini": 79.15953162783634
         },
         {
          "jour": "2019-03-05T00:00:00",
          "plageMaxi": 422.7056369114895,
          "plageMini": 79.15953162783634
         },
         {
          "jour": "2019-03-05T00:00:00",
          "plageMaxi": 422.7056369114895,
          "plageMini": 79.15953162783634
         },
         {
          "jour": "2019-03-06T00:00:00",
          "plageMaxi": 422.7056369114895,
          "plageMini": 79.15953162783634
         },
         {
          "jour": "2019-03-06T00:00:00",
          "plageMaxi": 422.7056369114895,
          "plageMini": 79.15953162783634
         },
         {
          "jour": "2019-03-07T00:00:00",
          "plageMaxi": 422.7056369114895,
          "plageMini": 79.15953162783634
         },
         {
          "jour": "2019-03-07T00:00:00",
          "plageMaxi": 422.7056369114895,
          "plageMini": 79.15953162783634
         },
         {
          "jour": "2019-03-08T00:00:00",
          "plageMaxi": 422.7056369114895,
          "plageMini": 79.15953162783634
         },
         {
          "jour": "2019-03-08T00:00:00",
          "plageMaxi": 422.7056369114895,
          "plageMini": 79.15953162783634
         },
         {
          "jour": "2019-03-09T00:00:00",
          "plageMaxi": 422.7056369114895,
          "plageMini": 79.15953162783634
         },
         {
          "jour": "2019-03-09T00:00:00",
          "plageMaxi": 422.7056369114895,
          "plageMini": 79.15953162783634
         },
         {
          "jour": "2019-03-10T00:00:00",
          "plageMaxi": 422.7056369114895,
          "plageMini": 79.15953162783634
         },
         {
          "jour": "2019-03-10T00:00:00",
          "plageMaxi": 422.7056369114895,
          "plageMini": 79.15953162783634
         },
         {
          "jour": "2019-03-11T00:00:00",
          "plageMaxi": 422.7056369114895,
          "plageMini": 79.15953162783634
         },
         {
          "jour": "2019-03-11T00:00:00",
          "plageMaxi": 422.7056369114895,
          "plageMini": 79.15953162783634
         },
         {
          "jour": "2019-03-12T00:00:00",
          "plageMaxi": 422.7056369114895,
          "plageMini": 79.15953162783634
         },
         {
          "jour": "2019-03-12T00:00:00",
          "plageMaxi": 422.7056369114895,
          "plageMini": 79.15953162783634
         },
         {
          "jour": "2019-03-13T00:00:00",
          "plageMaxi": 422.7056369114895,
          "plageMini": 79.15953162783634
         },
         {
          "jour": "2019-03-13T00:00:00",
          "plageMaxi": 422.7056369114895,
          "plageMini": 79.15953162783634
         },
         {
          "jour": "2019-03-14T00:00:00",
          "plageMaxi": 422.7056369114895,
          "plageMini": 79.15953162783634
         },
         {
          "jour": "2019-03-14T00:00:00",
          "plageMaxi": 422.7056369114895,
          "plageMini": 79.15953162783634
         },
         {
          "jour": "2019-03-15T00:00:00",
          "plageMaxi": 422.7056369114895,
          "plageMini": 79.15953162783634
         },
         {
          "jour": "2019-03-15T00:00:00",
          "plageMaxi": 422.7056369114895,
          "plageMini": 79.15953162783634
         },
         {
          "jour": "2019-03-16T00:00:00",
          "plageMaxi": 422.7056369114895,
          "plageMini": 79.15953162783634
         },
         {
          "jour": "2019-03-16T00:00:00",
          "plageMaxi": 422.7056369114895,
          "plageMini": 79.15953162783634
         },
         {
          "jour": "2019-03-17T00:00:00",
          "plageMaxi": 422.7056369114895,
          "plageMini": 79.15953162783634
         },
         {
          "jour": "2019-03-17T00:00:00",
          "plageMaxi": 422.7056369114895,
          "plageMini": 79.15953162783634
         },
         {
          "jour": "2019-03-18T00:00:00",
          "plageMaxi": 422.7056369114895,
          "plageMini": 79.15953162783634
         },
         {
          "jour": "2019-03-18T00:00:00",
          "plageMaxi": 422.7056369114895,
          "plageMini": 79.15953162783634
         },
         {
          "jour": "2019-03-19T00:00:00",
          "plageMaxi": 422.7056369114895,
          "plageMini": 79.15953162783634
         },
         {
          "jour": "2019-03-19T00:00:00",
          "plageMaxi": 422.7056369114895,
          "plageMini": 79.15953162783634
         },
         {
          "jour": "2019-03-20T00:00:00",
          "plageMaxi": 422.7056369114895,
          "plageMini": 79.15953162783634
         },
         {
          "jour": "2019-03-20T00:00:00",
          "plageMaxi": 422.7056369114895,
          "plageMini": 79.15953162783634
         },
         {
          "jour": "2019-03-21T00:00:00",
          "plageMaxi": 422.7056369114895,
          "plageMini": 79.15953162783634
         },
         {
          "jour": "2019-03-21T00:00:00",
          "plageMaxi": 422.7056369114895,
          "plageMini": 79.15953162783634
         },
         {
          "jour": "2019-03-22T00:00:00",
          "plageMaxi": 422.7056369114895,
          "plageMini": 79.15953162783634
         },
         {
          "jour": "2019-03-22T00:00:00",
          "plageMaxi": 422.7056369114895,
          "plageMini": 79.15953162783634
         },
         {
          "jour": "2019-03-23T00:00:00",
          "plageMaxi": 422.7056369114895,
          "plageMini": 79.15953162783634
         },
         {
          "jour": "2019-03-23T00:00:00",
          "plageMaxi": 422.7056369114895,
          "plageMini": 79.15953162783634
         },
         {
          "jour": "2019-03-24T00:00:00",
          "plageMaxi": 422.7056369114895,
          "plageMini": 79.15953162783634
         },
         {
          "jour": "2019-03-24T00:00:00",
          "plageMaxi": 422.7056369114895,
          "plageMini": 79.15953162783634
         },
         {
          "jour": "2019-03-25T00:00:00",
          "plageMaxi": 422.7056369114895,
          "plageMini": 79.15953162783634
         },
         {
          "jour": "2019-03-25T00:00:00",
          "plageMaxi": 422.7056369114895,
          "plageMini": 79.15953162783634
         },
         {
          "jour": "2019-03-26T00:00:00",
          "plageMaxi": 422.7056369114895,
          "plageMini": 79.15953162783634
         },
         {
          "jour": "2019-03-26T00:00:00",
          "plageMaxi": 422.7056369114895,
          "plageMini": 79.15953162783634
         },
         {
          "jour": "2019-03-27T00:00:00",
          "plageMaxi": 422.7056369114895,
          "plageMini": 79.15953162783634
         },
         {
          "jour": "2019-03-27T00:00:00",
          "plageMaxi": 422.7056369114895,
          "plageMini": 79.15953162783634
         },
         {
          "jour": "2019-03-28T00:00:00",
          "plageMaxi": 422.7056369114895,
          "plageMini": 79.15953162783634
         },
         {
          "jour": "2019-03-28T00:00:00",
          "plageMaxi": 422.7056369114895,
          "plageMini": 79.15953162783634
         },
         {
          "jour": "2019-03-29T00:00:00",
          "plageMaxi": 422.7056369114895,
          "plageMini": 79.15953162783634
         },
         {
          "jour": "2019-03-29T00:00:00",
          "plageMaxi": 422.7056369114895,
          "plageMini": 79.15953162783634
         },
         {
          "jour": "2019-03-30T00:00:00",
          "plageMaxi": 422.7056369114895,
          "plageMini": 79.15953162783634
         },
         {
          "jour": "2019-03-30T00:00:00",
          "plageMaxi": 422.7056369114895,
          "plageMini": 79.15953162783634
         },
         {
          "jour": "2019-03-31T00:00:00",
          "plageMaxi": 422.7056369114895,
          "plageMini": 79.15953162783634
         },
         {
          "jour": "2019-03-31T00:00:00",
          "plageMaxi": 422.7056369114895,
          "plageMini": 79.15953162783634
         }
        ]
       },
       "layer": [
        {
         "data": {
          "name": "data-54957472090a9279092e54c25f2e90a2"
         },
         "encoding": {
          "x": {
           "field": "jour",
           "type": "temporal"
          },
          "y": {
           "axis": {
            "title": "Nb de vehicule"
           },
           "field": "plageMini",
           "type": "quantitative"
          },
          "y2": {
           "field": "plageMaxi"
          }
         },
         "mark": {
          "color": "yellow",
          "opacity": 0.3,
          "type": "area"
         }
        },
        {
         "data": {
          "name": "data-171b509c25be84cb64872bbb172bd3ba"
         },
         "encoding": {
          "tooltip": {
           "field": "jour",
           "type": "temporal"
          },
          "x": {
           "field": "jour",
           "type": "temporal"
          },
          "y": {
           "axis": {
            "title": "Nb de vehicule"
           },
           "field": "h8_9",
           "type": "quantitative"
          }
         },
         "mark": "point",
         "selection": {
          "selector051": {
           "bind": "scales",
           "encodings": [
            "x",
            "y"
           ],
           "type": "interval"
          }
         },
         "title": "h8_9"
        },
        {
         "data": {
          "name": "data-40133e53997f9c5e5cce2e9f00f9cf7c"
         },
         "encoding": {
          "color": {
           "field": "typeVal",
           "type": "nominal"
          },
          "x": {
           "field": "jour",
           "type": "temporal"
          },
          "y": {
           "field": "val",
           "type": "quantitative"
          }
         },
         "mark": "line"
        }
       ]
      },
      "image/png": "[encoded data removed]",
      "text/plain": [
       "<VegaLite 3 object>\n",
       "\n",
       "If you see this message, it means the renderer has not been properly enabled\n",
       "for the frontend that you are using. For more information, see\n",
       "https://altair-viz.github.io/user_guide/troubleshooting.html\n"
      ]
     },
     "execution_count": 82,
     "metadata": {},
     "output_type": "execute_result"
    }
   ],
   "source": [
    "graphTrafHoraire(df_horaire,statsHoraires(df_horaire,'h8_9'),'h8_9')"
   ]
  },
  {
   "cell_type": "code",
   "execution_count": 81,
   "metadata": {},
   "outputs": [],
   "source": [
    "alt.VConcatChart(vconcat=[alt.HConcatChart(hconcat=([graphTrafHoraire(df_horaire,statsHoraires(df_horaire,attributHeure),attributHeure) \n",
    "                           for attributHeure in [f'h{i+j}_{i+j+1}' for i in range(4)]])) for j in range(0,21,4)])"
   ]
  },
  {
   "cell_type": "markdown",
   "metadata": {},
   "source": [
    "> ## **Visu de la répartition horaires des données en MJA et MJO**\n",
    "exemple DIRA"
   ]
  },
  {
   "cell_type": "code",
   "execution_count": 3,
   "metadata": {},
   "outputs": [],
   "source": [
    "with ct.ConnexionBdd('local_otv_boulot') as c:\n",
    "    rqt=\"SELECT * FROM comptage.indic_horaire_id_comptag_annee('33-N230-37+346', '2019')\"\n",
    "    df=pd.read_sql(rqt,c.sqlAlchemyConn)"
   ]
  },
  {
   "cell_type": "code",
   "execution_count": 15,
   "metadata": {},
   "outputs": [
    {
     "data": {
      "text/html": [
       "\n",
       "<div id=\"altair-viz-892bbbee7258484e90c5242fd314584e\"></div>\n",
       "<script type=\"text/javascript\">\n",
       "  (function(spec, embedOpt){\n",
       "    let outputDiv = document.currentScript.previousElementSibling;\n",
       "    if (outputDiv.id !== \"altair-viz-892bbbee7258484e90c5242fd314584e\") {\n",
       "      outputDiv = document.getElementById(\"altair-viz-892bbbee7258484e90c5242fd314584e\");\n",
       "    }\n",
       "    const paths = {\n",
       "      \"vega\": \"https://cdn.jsdelivr.net/npm//vega@5?noext\",\n",
       "      \"vega-lib\": \"https://cdn.jsdelivr.net/npm//vega-lib?noext\",\n",
       "      \"vega-lite\": \"https://cdn.jsdelivr.net/npm//vega-lite@4.8.1?noext\",\n",
       "      \"vega-embed\": \"https://cdn.jsdelivr.net/npm//vega-embed@6?noext\",\n",
       "    };\n",
       "\n",
       "    function loadScript(lib) {\n",
       "      return new Promise(function(resolve, reject) {\n",
       "        var s = document.createElement('script');\n",
       "        s.src = paths[lib];\n",
       "        s.async = true;\n",
       "        s.onload = () => resolve(paths[lib]);\n",
       "        s.onerror = () => reject(`Error loading script: ${paths[lib]}`);\n",
       "        document.getElementsByTagName(\"head\")[0].appendChild(s);\n",
       "      });\n",
       "    }\n",
       "\n",
       "    function showError(err) {\n",
       "      outputDiv.innerHTML = `<div class=\"error\" style=\"color:red;\">${err}</div>`;\n",
       "      throw err;\n",
       "    }\n",
       "\n",
       "    function displayChart(vegaEmbed) {\n",
       "      vegaEmbed(outputDiv, spec, embedOpt)\n",
       "        .catch(err => showError(`Javascript Error: ${err.message}<br>This usually means there's a typo in your chart specification. See the javascript console for the full traceback.`));\n",
       "    }\n",
       "\n",
       "    if(typeof define === \"function\" && define.amd) {\n",
       "      requirejs.config({paths});\n",
       "      require([\"vega-embed\"], displayChart, err => showError(`Error loading script: ${err.message}`));\n",
       "    } else if (typeof vegaEmbed === \"function\") {\n",
       "      displayChart(vegaEmbed);\n",
       "    } else {\n",
       "      loadScript(\"vega\")\n",
       "        .then(() => loadScript(\"vega-lite\"))\n",
       "        .then(() => loadScript(\"vega-embed\"))\n",
       "        .catch(showError)\n",
       "        .then(() => displayChart(vegaEmbed));\n",
       "    }\n",
       "  })({\"config\": {\"view\": {\"continuousWidth\": 400, \"continuousHeight\": 300}}, \"data\": {\"name\": \"data-c10d0724e871d751b573ff9e7302572d\"}, \"mark\": \"line\", \"encoding\": {\"color\": {\"type\": \"nominal\", \"field\": \"type_jour\"}, \"x\": {\"type\": \"temporal\", \"field\": \"heure\"}, \"y\": {\"type\": \"quantitative\", \"field\": \"nb_veh\"}}, \"title\": \"33-N230-37+346\", \"$schema\": \"https://vega.github.io/schema/vega-lite/v4.8.1.json\", \"datasets\": {\"data-c10d0724e871d751b573ff9e7302572d\": [{\"id_comptag\": \"33-N230-37+346\", \"heure\": \"2019-01-01T00:00:00\", \"nb_veh\": 1438, \"type_jour\": \"tmja\"}, {\"id_comptag\": \"33-N230-37+346\", \"heure\": \"2019-01-01T01:00:00\", \"nb_veh\": 1085, \"type_jour\": \"tmja\"}, {\"id_comptag\": \"33-N230-37+346\", \"heure\": \"2019-01-01T02:00:00\", \"nb_veh\": 898, \"type_jour\": \"tmja\"}, {\"id_comptag\": \"33-N230-37+346\", \"heure\": \"2019-01-01T03:00:00\", \"nb_veh\": 865, \"type_jour\": \"tmja\"}, {\"id_comptag\": \"33-N230-37+346\", \"heure\": \"2019-01-01T04:00:00\", \"nb_veh\": 1115, \"type_jour\": \"tmja\"}, {\"id_comptag\": \"33-N230-37+346\", \"heure\": \"2019-01-01T05:00:00\", \"nb_veh\": 1849, \"type_jour\": \"tmja\"}, {\"id_comptag\": \"33-N230-37+346\", \"heure\": \"2019-01-01T06:00:00\", \"nb_veh\": 4224, \"type_jour\": \"tmja\"}, {\"id_comptag\": \"33-N230-37+346\", \"heure\": \"2019-01-01T07:00:00\", \"nb_veh\": 5475, \"type_jour\": \"tmja\"}, {\"id_comptag\": \"33-N230-37+346\", \"heure\": \"2019-01-01T08:00:00\", \"nb_veh\": 5476, \"type_jour\": \"tmja\"}, {\"id_comptag\": \"33-N230-37+346\", \"heure\": \"2019-01-01T09:00:00\", \"nb_veh\": 6010, \"type_jour\": \"tmja\"}, {\"id_comptag\": \"33-N230-37+346\", \"heure\": \"2019-01-01T10:00:00\", \"nb_veh\": 7039, \"type_jour\": \"tmja\"}, {\"id_comptag\": \"33-N230-37+346\", \"heure\": \"2019-01-01T11:00:00\", \"nb_veh\": 7603, \"type_jour\": \"tmja\"}, {\"id_comptag\": \"33-N230-37+346\", \"heure\": \"2019-01-01T12:00:00\", \"nb_veh\": 7375, \"type_jour\": \"tmja\"}, {\"id_comptag\": \"33-N230-37+346\", \"heure\": \"2019-01-01T13:00:00\", \"nb_veh\": 7004, \"type_jour\": \"tmja\"}, {\"id_comptag\": \"33-N230-37+346\", \"heure\": \"2019-01-01T14:00:00\", \"nb_veh\": 7574, \"type_jour\": \"tmja\"}, {\"id_comptag\": \"33-N230-37+346\", \"heure\": \"2019-01-01T15:00:00\", \"nb_veh\": 8020, \"type_jour\": \"tmja\"}, {\"id_comptag\": \"33-N230-37+346\", \"heure\": \"2019-01-01T16:00:00\", \"nb_veh\": 8254, \"type_jour\": \"tmja\"}, {\"id_comptag\": \"33-N230-37+346\", \"heure\": \"2019-01-01T17:00:00\", \"nb_veh\": 7955, \"type_jour\": \"tmja\"}, {\"id_comptag\": \"33-N230-37+346\", \"heure\": \"2019-01-01T18:00:00\", \"nb_veh\": 7754, \"type_jour\": \"tmja\"}, {\"id_comptag\": \"33-N230-37+346\", \"heure\": \"2019-01-01T19:00:00\", \"nb_veh\": 6640, \"type_jour\": \"tmja\"}, {\"id_comptag\": \"33-N230-37+346\", \"heure\": \"2019-01-01T20:00:00\", \"nb_veh\": 4521, \"type_jour\": \"tmja\"}, {\"id_comptag\": \"33-N230-37+346\", \"heure\": \"2019-01-01T21:00:00\", \"nb_veh\": 2929, \"type_jour\": \"tmja\"}, {\"id_comptag\": \"33-N230-37+346\", \"heure\": \"2019-01-01T22:00:00\", \"nb_veh\": 2341, \"type_jour\": \"tmja\"}, {\"id_comptag\": \"33-N230-37+346\", \"heure\": \"2019-01-01T23:00:00\", \"nb_veh\": 1927, \"type_jour\": \"tmja\"}, {\"id_comptag\": \"33-N230-37+346\", \"heure\": \"2019-01-01T00:00:00\", \"nb_veh\": 1181, \"type_jour\": \"tmjo\"}, {\"id_comptag\": \"33-N230-37+346\", \"heure\": \"2019-01-01T01:00:00\", \"nb_veh\": 880, \"type_jour\": \"tmjo\"}, {\"id_comptag\": \"33-N230-37+346\", \"heure\": \"2019-01-01T02:00:00\", \"nb_veh\": 785, \"type_jour\": \"tmjo\"}, {\"id_comptag\": \"33-N230-37+346\", \"heure\": \"2019-01-01T03:00:00\", \"nb_veh\": 830, \"type_jour\": \"tmjo\"}, {\"id_comptag\": \"33-N230-37+346\", \"heure\": \"2019-01-01T04:00:00\", \"nb_veh\": 1176, \"type_jour\": \"tmjo\"}, {\"id_comptag\": \"33-N230-37+346\", \"heure\": \"2019-01-01T05:00:00\", \"nb_veh\": 2115, \"type_jour\": \"tmjo\"}, {\"id_comptag\": \"33-N230-37+346\", \"heure\": \"2019-01-01T06:00:00\", \"nb_veh\": 5206, \"type_jour\": \"tmjo\"}, {\"id_comptag\": \"33-N230-37+346\", \"heure\": \"2019-01-01T07:00:00\", \"nb_veh\": 6663, \"type_jour\": \"tmjo\"}, {\"id_comptag\": \"33-N230-37+346\", \"heure\": \"2019-01-01T08:00:00\", \"nb_veh\": 6218, \"type_jour\": \"tmjo\"}, {\"id_comptag\": \"33-N230-37+346\", \"heure\": \"2019-01-01T09:00:00\", \"nb_veh\": 6327, \"type_jour\": \"tmjo\"}, {\"id_comptag\": \"33-N230-37+346\", \"heure\": \"2019-01-01T10:00:00\", \"nb_veh\": 7193, \"type_jour\": \"tmjo\"}, {\"id_comptag\": \"33-N230-37+346\", \"heure\": \"2019-01-01T11:00:00\", \"nb_veh\": 7651, \"type_jour\": \"tmjo\"}, {\"id_comptag\": \"33-N230-37+346\", \"heure\": \"2019-01-01T12:00:00\", \"nb_veh\": 7535, \"type_jour\": \"tmjo\"}, {\"id_comptag\": \"33-N230-37+346\", \"heure\": \"2019-01-01T13:00:00\", \"nb_veh\": 7348, \"type_jour\": \"tmjo\"}, {\"id_comptag\": \"33-N230-37+346\", \"heure\": \"2019-01-01T14:00:00\", \"nb_veh\": 7913, \"type_jour\": \"tmjo\"}, {\"id_comptag\": \"33-N230-37+346\", \"heure\": \"2019-01-01T15:00:00\", \"nb_veh\": 8384, \"type_jour\": \"tmjo\"}, {\"id_comptag\": \"33-N230-37+346\", \"heure\": \"2019-01-01T16:00:00\", \"nb_veh\": 8632, \"type_jour\": \"tmjo\"}, {\"id_comptag\": \"33-N230-37+346\", \"heure\": \"2019-01-01T17:00:00\", \"nb_veh\": 8074, \"type_jour\": \"tmjo\"}, {\"id_comptag\": \"33-N230-37+346\", \"heure\": \"2019-01-01T18:00:00\", \"nb_veh\": 7804, \"type_jour\": \"tmjo\"}, {\"id_comptag\": \"33-N230-37+346\", \"heure\": \"2019-01-01T19:00:00\", \"nb_veh\": 6676, \"type_jour\": \"tmjo\"}, {\"id_comptag\": \"33-N230-37+346\", \"heure\": \"2019-01-01T20:00:00\", \"nb_veh\": 4548, \"type_jour\": \"tmjo\"}, {\"id_comptag\": \"33-N230-37+346\", \"heure\": \"2019-01-01T21:00:00\", \"nb_veh\": 2906, \"type_jour\": \"tmjo\"}, {\"id_comptag\": \"33-N230-37+346\", \"heure\": \"2019-01-01T22:00:00\", \"nb_veh\": 2324, \"type_jour\": \"tmjo\"}, {\"id_comptag\": \"33-N230-37+346\", \"heure\": \"2019-01-01T23:00:00\", \"nb_veh\": 1888, \"type_jour\": \"tmjo\"}]}}, {\"mode\": \"vega-lite\"});\n",
       "</script>"
      ],
      "text/plain": [
       "alt.Chart(...)"
      ]
     },
     "execution_count": 15,
     "metadata": {},
     "output_type": "execute_result"
    }
   ],
   "source": [
    "vi.GraphJourneeType(df,'33-N230-37+346')"
   ]
  },
  {
   "cell_type": "code",
   "execution_count": 13,
   "metadata": {},
   "outputs": [],
   "source": [
    "dfTMJA,dfTMJO=dh.calculJourneeType(df)\n",
    "dfVisu=vi.prepGraphJourneeType(dfTMJA,dfTMJO)"
   ]
  },
  {
   "cell_type": "code",
   "execution_count": 18,
   "metadata": {},
   "outputs": [
    {
     "data": {
      "text/html": [
       "<div>\n",
       "<style scoped>\n",
       "    .dataframe tbody tr th:only-of-type {\n",
       "        vertical-align: middle;\n",
       "    }\n",
       "\n",
       "    .dataframe tbody tr th {\n",
       "        vertical-align: top;\n",
       "    }\n",
       "\n",
       "    .dataframe thead th {\n",
       "        text-align: right;\n",
       "    }\n",
       "</style>\n",
       "<table border=\"1\" class=\"dataframe\">\n",
       "  <thead>\n",
       "    <tr style=\"text-align: right;\">\n",
       "      <th></th>\n",
       "      <th>id_comptag</th>\n",
       "      <th>heure</th>\n",
       "      <th>nb_veh</th>\n",
       "      <th>type_jour</th>\n",
       "    </tr>\n",
       "  </thead>\n",
       "  <tbody>\n",
       "    <tr>\n",
       "      <th>0</th>\n",
       "      <td>33-N230-37+346</td>\n",
       "      <td>2019-01-01 00:00:00</td>\n",
       "      <td>1438</td>\n",
       "      <td>tmja</td>\n",
       "    </tr>\n",
       "    <tr>\n",
       "      <th>1</th>\n",
       "      <td>33-N230-37+346</td>\n",
       "      <td>2019-01-01 01:00:00</td>\n",
       "      <td>1085</td>\n",
       "      <td>tmja</td>\n",
       "    </tr>\n",
       "    <tr>\n",
       "      <th>2</th>\n",
       "      <td>33-N230-37+346</td>\n",
       "      <td>2019-01-01 02:00:00</td>\n",
       "      <td>898</td>\n",
       "      <td>tmja</td>\n",
       "    </tr>\n",
       "    <tr>\n",
       "      <th>3</th>\n",
       "      <td>33-N230-37+346</td>\n",
       "      <td>2019-01-01 03:00:00</td>\n",
       "      <td>865</td>\n",
       "      <td>tmja</td>\n",
       "    </tr>\n",
       "    <tr>\n",
       "      <th>4</th>\n",
       "      <td>33-N230-37+346</td>\n",
       "      <td>2019-01-01 04:00:00</td>\n",
       "      <td>1115</td>\n",
       "      <td>tmja</td>\n",
       "    </tr>\n",
       "    <tr>\n",
       "      <th>5</th>\n",
       "      <td>33-N230-37+346</td>\n",
       "      <td>2019-01-01 05:00:00</td>\n",
       "      <td>1849</td>\n",
       "      <td>tmja</td>\n",
       "    </tr>\n",
       "    <tr>\n",
       "      <th>6</th>\n",
       "      <td>33-N230-37+346</td>\n",
       "      <td>2019-01-01 06:00:00</td>\n",
       "      <td>4224</td>\n",
       "      <td>tmja</td>\n",
       "    </tr>\n",
       "    <tr>\n",
       "      <th>7</th>\n",
       "      <td>33-N230-37+346</td>\n",
       "      <td>2019-01-01 07:00:00</td>\n",
       "      <td>5475</td>\n",
       "      <td>tmja</td>\n",
       "    </tr>\n",
       "    <tr>\n",
       "      <th>8</th>\n",
       "      <td>33-N230-37+346</td>\n",
       "      <td>2019-01-01 08:00:00</td>\n",
       "      <td>5476</td>\n",
       "      <td>tmja</td>\n",
       "    </tr>\n",
       "    <tr>\n",
       "      <th>9</th>\n",
       "      <td>33-N230-37+346</td>\n",
       "      <td>2019-01-01 09:00:00</td>\n",
       "      <td>6010</td>\n",
       "      <td>tmja</td>\n",
       "    </tr>\n",
       "    <tr>\n",
       "      <th>10</th>\n",
       "      <td>33-N230-37+346</td>\n",
       "      <td>2019-01-01 10:00:00</td>\n",
       "      <td>7039</td>\n",
       "      <td>tmja</td>\n",
       "    </tr>\n",
       "    <tr>\n",
       "      <th>11</th>\n",
       "      <td>33-N230-37+346</td>\n",
       "      <td>2019-01-01 11:00:00</td>\n",
       "      <td>7603</td>\n",
       "      <td>tmja</td>\n",
       "    </tr>\n",
       "    <tr>\n",
       "      <th>12</th>\n",
       "      <td>33-N230-37+346</td>\n",
       "      <td>2019-01-01 12:00:00</td>\n",
       "      <td>7375</td>\n",
       "      <td>tmja</td>\n",
       "    </tr>\n",
       "    <tr>\n",
       "      <th>13</th>\n",
       "      <td>33-N230-37+346</td>\n",
       "      <td>2019-01-01 13:00:00</td>\n",
       "      <td>7004</td>\n",
       "      <td>tmja</td>\n",
       "    </tr>\n",
       "    <tr>\n",
       "      <th>14</th>\n",
       "      <td>33-N230-37+346</td>\n",
       "      <td>2019-01-01 14:00:00</td>\n",
       "      <td>7574</td>\n",
       "      <td>tmja</td>\n",
       "    </tr>\n",
       "    <tr>\n",
       "      <th>15</th>\n",
       "      <td>33-N230-37+346</td>\n",
       "      <td>2019-01-01 15:00:00</td>\n",
       "      <td>8020</td>\n",
       "      <td>tmja</td>\n",
       "    </tr>\n",
       "    <tr>\n",
       "      <th>16</th>\n",
       "      <td>33-N230-37+346</td>\n",
       "      <td>2019-01-01 16:00:00</td>\n",
       "      <td>8254</td>\n",
       "      <td>tmja</td>\n",
       "    </tr>\n",
       "    <tr>\n",
       "      <th>17</th>\n",
       "      <td>33-N230-37+346</td>\n",
       "      <td>2019-01-01 17:00:00</td>\n",
       "      <td>7955</td>\n",
       "      <td>tmja</td>\n",
       "    </tr>\n",
       "    <tr>\n",
       "      <th>18</th>\n",
       "      <td>33-N230-37+346</td>\n",
       "      <td>2019-01-01 18:00:00</td>\n",
       "      <td>7754</td>\n",
       "      <td>tmja</td>\n",
       "    </tr>\n",
       "    <tr>\n",
       "      <th>19</th>\n",
       "      <td>33-N230-37+346</td>\n",
       "      <td>2019-01-01 19:00:00</td>\n",
       "      <td>6640</td>\n",
       "      <td>tmja</td>\n",
       "    </tr>\n",
       "    <tr>\n",
       "      <th>20</th>\n",
       "      <td>33-N230-37+346</td>\n",
       "      <td>2019-01-01 20:00:00</td>\n",
       "      <td>4521</td>\n",
       "      <td>tmja</td>\n",
       "    </tr>\n",
       "    <tr>\n",
       "      <th>21</th>\n",
       "      <td>33-N230-37+346</td>\n",
       "      <td>2019-01-01 21:00:00</td>\n",
       "      <td>2929</td>\n",
       "      <td>tmja</td>\n",
       "    </tr>\n",
       "    <tr>\n",
       "      <th>22</th>\n",
       "      <td>33-N230-37+346</td>\n",
       "      <td>2019-01-01 22:00:00</td>\n",
       "      <td>2341</td>\n",
       "      <td>tmja</td>\n",
       "    </tr>\n",
       "    <tr>\n",
       "      <th>23</th>\n",
       "      <td>33-N230-37+346</td>\n",
       "      <td>2019-01-01 23:00:00</td>\n",
       "      <td>1927</td>\n",
       "      <td>tmja</td>\n",
       "    </tr>\n",
       "    <tr>\n",
       "      <th>0</th>\n",
       "      <td>33-N230-37+346</td>\n",
       "      <td>2019-01-01 00:00:00</td>\n",
       "      <td>1181</td>\n",
       "      <td>tmjo</td>\n",
       "    </tr>\n",
       "    <tr>\n",
       "      <th>1</th>\n",
       "      <td>33-N230-37+346</td>\n",
       "      <td>2019-01-01 01:00:00</td>\n",
       "      <td>880</td>\n",
       "      <td>tmjo</td>\n",
       "    </tr>\n",
       "    <tr>\n",
       "      <th>2</th>\n",
       "      <td>33-N230-37+346</td>\n",
       "      <td>2019-01-01 02:00:00</td>\n",
       "      <td>785</td>\n",
       "      <td>tmjo</td>\n",
       "    </tr>\n",
       "    <tr>\n",
       "      <th>3</th>\n",
       "      <td>33-N230-37+346</td>\n",
       "      <td>2019-01-01 03:00:00</td>\n",
       "      <td>830</td>\n",
       "      <td>tmjo</td>\n",
       "    </tr>\n",
       "    <tr>\n",
       "      <th>4</th>\n",
       "      <td>33-N230-37+346</td>\n",
       "      <td>2019-01-01 04:00:00</td>\n",
       "      <td>1176</td>\n",
       "      <td>tmjo</td>\n",
       "    </tr>\n",
       "    <tr>\n",
       "      <th>5</th>\n",
       "      <td>33-N230-37+346</td>\n",
       "      <td>2019-01-01 05:00:00</td>\n",
       "      <td>2115</td>\n",
       "      <td>tmjo</td>\n",
       "    </tr>\n",
       "    <tr>\n",
       "      <th>6</th>\n",
       "      <td>33-N230-37+346</td>\n",
       "      <td>2019-01-01 06:00:00</td>\n",
       "      <td>5206</td>\n",
       "      <td>tmjo</td>\n",
       "    </tr>\n",
       "    <tr>\n",
       "      <th>7</th>\n",
       "      <td>33-N230-37+346</td>\n",
       "      <td>2019-01-01 07:00:00</td>\n",
       "      <td>6663</td>\n",
       "      <td>tmjo</td>\n",
       "    </tr>\n",
       "    <tr>\n",
       "      <th>8</th>\n",
       "      <td>33-N230-37+346</td>\n",
       "      <td>2019-01-01 08:00:00</td>\n",
       "      <td>6218</td>\n",
       "      <td>tmjo</td>\n",
       "    </tr>\n",
       "    <tr>\n",
       "      <th>9</th>\n",
       "      <td>33-N230-37+346</td>\n",
       "      <td>2019-01-01 09:00:00</td>\n",
       "      <td>6327</td>\n",
       "      <td>tmjo</td>\n",
       "    </tr>\n",
       "    <tr>\n",
       "      <th>10</th>\n",
       "      <td>33-N230-37+346</td>\n",
       "      <td>2019-01-01 10:00:00</td>\n",
       "      <td>7193</td>\n",
       "      <td>tmjo</td>\n",
       "    </tr>\n",
       "    <tr>\n",
       "      <th>11</th>\n",
       "      <td>33-N230-37+346</td>\n",
       "      <td>2019-01-01 11:00:00</td>\n",
       "      <td>7651</td>\n",
       "      <td>tmjo</td>\n",
       "    </tr>\n",
       "    <tr>\n",
       "      <th>12</th>\n",
       "      <td>33-N230-37+346</td>\n",
       "      <td>2019-01-01 12:00:00</td>\n",
       "      <td>7535</td>\n",
       "      <td>tmjo</td>\n",
       "    </tr>\n",
       "    <tr>\n",
       "      <th>13</th>\n",
       "      <td>33-N230-37+346</td>\n",
       "      <td>2019-01-01 13:00:00</td>\n",
       "      <td>7348</td>\n",
       "      <td>tmjo</td>\n",
       "    </tr>\n",
       "    <tr>\n",
       "      <th>14</th>\n",
       "      <td>33-N230-37+346</td>\n",
       "      <td>2019-01-01 14:00:00</td>\n",
       "      <td>7913</td>\n",
       "      <td>tmjo</td>\n",
       "    </tr>\n",
       "    <tr>\n",
       "      <th>15</th>\n",
       "      <td>33-N230-37+346</td>\n",
       "      <td>2019-01-01 15:00:00</td>\n",
       "      <td>8384</td>\n",
       "      <td>tmjo</td>\n",
       "    </tr>\n",
       "    <tr>\n",
       "      <th>16</th>\n",
       "      <td>33-N230-37+346</td>\n",
       "      <td>2019-01-01 16:00:00</td>\n",
       "      <td>8632</td>\n",
       "      <td>tmjo</td>\n",
       "    </tr>\n",
       "    <tr>\n",
       "      <th>17</th>\n",
       "      <td>33-N230-37+346</td>\n",
       "      <td>2019-01-01 17:00:00</td>\n",
       "      <td>8074</td>\n",
       "      <td>tmjo</td>\n",
       "    </tr>\n",
       "    <tr>\n",
       "      <th>18</th>\n",
       "      <td>33-N230-37+346</td>\n",
       "      <td>2019-01-01 18:00:00</td>\n",
       "      <td>7804</td>\n",
       "      <td>tmjo</td>\n",
       "    </tr>\n",
       "    <tr>\n",
       "      <th>19</th>\n",
       "      <td>33-N230-37+346</td>\n",
       "      <td>2019-01-01 19:00:00</td>\n",
       "      <td>6676</td>\n",
       "      <td>tmjo</td>\n",
       "    </tr>\n",
       "    <tr>\n",
       "      <th>20</th>\n",
       "      <td>33-N230-37+346</td>\n",
       "      <td>2019-01-01 20:00:00</td>\n",
       "      <td>4548</td>\n",
       "      <td>tmjo</td>\n",
       "    </tr>\n",
       "    <tr>\n",
       "      <th>21</th>\n",
       "      <td>33-N230-37+346</td>\n",
       "      <td>2019-01-01 21:00:00</td>\n",
       "      <td>2906</td>\n",
       "      <td>tmjo</td>\n",
       "    </tr>\n",
       "    <tr>\n",
       "      <th>22</th>\n",
       "      <td>33-N230-37+346</td>\n",
       "      <td>2019-01-01 22:00:00</td>\n",
       "      <td>2324</td>\n",
       "      <td>tmjo</td>\n",
       "    </tr>\n",
       "    <tr>\n",
       "      <th>23</th>\n",
       "      <td>33-N230-37+346</td>\n",
       "      <td>2019-01-01 23:00:00</td>\n",
       "      <td>1888</td>\n",
       "      <td>tmjo</td>\n",
       "    </tr>\n",
       "  </tbody>\n",
       "</table>\n",
       "</div>"
      ],
      "text/plain": [
       "        id_comptag               heure  nb_veh type_jour\n",
       "0   33-N230-37+346 2019-01-01 00:00:00    1438      tmja\n",
       "1   33-N230-37+346 2019-01-01 01:00:00    1085      tmja\n",
       "2   33-N230-37+346 2019-01-01 02:00:00     898      tmja\n",
       "3   33-N230-37+346 2019-01-01 03:00:00     865      tmja\n",
       "4   33-N230-37+346 2019-01-01 04:00:00    1115      tmja\n",
       "5   33-N230-37+346 2019-01-01 05:00:00    1849      tmja\n",
       "6   33-N230-37+346 2019-01-01 06:00:00    4224      tmja\n",
       "7   33-N230-37+346 2019-01-01 07:00:00    5475      tmja\n",
       "8   33-N230-37+346 2019-01-01 08:00:00    5476      tmja\n",
       "9   33-N230-37+346 2019-01-01 09:00:00    6010      tmja\n",
       "10  33-N230-37+346 2019-01-01 10:00:00    7039      tmja\n",
       "11  33-N230-37+346 2019-01-01 11:00:00    7603      tmja\n",
       "12  33-N230-37+346 2019-01-01 12:00:00    7375      tmja\n",
       "13  33-N230-37+346 2019-01-01 13:00:00    7004      tmja\n",
       "14  33-N230-37+346 2019-01-01 14:00:00    7574      tmja\n",
       "15  33-N230-37+346 2019-01-01 15:00:00    8020      tmja\n",
       "16  33-N230-37+346 2019-01-01 16:00:00    8254      tmja\n",
       "17  33-N230-37+346 2019-01-01 17:00:00    7955      tmja\n",
       "18  33-N230-37+346 2019-01-01 18:00:00    7754      tmja\n",
       "19  33-N230-37+346 2019-01-01 19:00:00    6640      tmja\n",
       "20  33-N230-37+346 2019-01-01 20:00:00    4521      tmja\n",
       "21  33-N230-37+346 2019-01-01 21:00:00    2929      tmja\n",
       "22  33-N230-37+346 2019-01-01 22:00:00    2341      tmja\n",
       "23  33-N230-37+346 2019-01-01 23:00:00    1927      tmja\n",
       "0   33-N230-37+346 2019-01-01 00:00:00    1181      tmjo\n",
       "1   33-N230-37+346 2019-01-01 01:00:00     880      tmjo\n",
       "2   33-N230-37+346 2019-01-01 02:00:00     785      tmjo\n",
       "3   33-N230-37+346 2019-01-01 03:00:00     830      tmjo\n",
       "4   33-N230-37+346 2019-01-01 04:00:00    1176      tmjo\n",
       "5   33-N230-37+346 2019-01-01 05:00:00    2115      tmjo\n",
       "6   33-N230-37+346 2019-01-01 06:00:00    5206      tmjo\n",
       "7   33-N230-37+346 2019-01-01 07:00:00    6663      tmjo\n",
       "8   33-N230-37+346 2019-01-01 08:00:00    6218      tmjo\n",
       "9   33-N230-37+346 2019-01-01 09:00:00    6327      tmjo\n",
       "10  33-N230-37+346 2019-01-01 10:00:00    7193      tmjo\n",
       "11  33-N230-37+346 2019-01-01 11:00:00    7651      tmjo\n",
       "12  33-N230-37+346 2019-01-01 12:00:00    7535      tmjo\n",
       "13  33-N230-37+346 2019-01-01 13:00:00    7348      tmjo\n",
       "14  33-N230-37+346 2019-01-01 14:00:00    7913      tmjo\n",
       "15  33-N230-37+346 2019-01-01 15:00:00    8384      tmjo\n",
       "16  33-N230-37+346 2019-01-01 16:00:00    8632      tmjo\n",
       "17  33-N230-37+346 2019-01-01 17:00:00    8074      tmjo\n",
       "18  33-N230-37+346 2019-01-01 18:00:00    7804      tmjo\n",
       "19  33-N230-37+346 2019-01-01 19:00:00    6676      tmjo\n",
       "20  33-N230-37+346 2019-01-01 20:00:00    4548      tmjo\n",
       "21  33-N230-37+346 2019-01-01 21:00:00    2906      tmjo\n",
       "22  33-N230-37+346 2019-01-01 22:00:00    2324      tmjo\n",
       "23  33-N230-37+346 2019-01-01 23:00:00    1888      tmjo"
      ]
     },
     "execution_count": 18,
     "metadata": {},
     "output_type": "execute_result"
    }
   ],
   "source": [
    "dfVisu#.iloc[6:19].nb_veh.mean()"
   ]
  },
  {
   "cell_type": "markdown",
   "metadata": {},
   "source": [
    ">## **Exemple de Graph sur une df horaire de la DIRCO**\n",
    "pour comparer 2 sens de circu"
   ]
  },
  {
   "cell_type": "code",
   "execution_count": 10,
   "metadata": {},
   "outputs": [],
   "source": [
    "fichierMja=r'Q:\\DAIT\\TI\\DREAL33\\2020\\OTV\\Doc_travail\\Donnees_source\\DIRCO\\TMJA DIRCO-NA 2019_unfused.csv'\n",
    "fichierMjM=r'Q:\\DAIT\\TI\\DREAL33\\2020\\OTV\\Doc_travail\\Donnees_source\\DIRCO\\TMJM DIRCO-NA 2019.ods'\n",
    "dossierHoraire=r'Q:\\DAIT\\TI\\DREAL33\\2020\\OTV\\Doc_travail\\Donnees_source\\DIRCO\\données dirco'\n",
    "dirco=it.Comptage_Dirco(fichierMja,fichierMjM,dossierHoraire,'2019')\n",
    "\n",
    "dfFichierTmja=dirco.miseEnFormeFichierTmjaPourHoraire()\n",
    "dfSc=dirco.miseEnFormeHoraire(dirco.tousFichierHoraires(dfFichierTmja))\n",
    "dfScParSens,dicoCptok,dicoCptAssym=dirco.horaireParSens(dfSc)"
   ]
  },
  {
   "cell_type": "code",
   "execution_count": 11,
   "metadata": {},
   "outputs": [
    {
     "data": {
      "application/vnd.vegalite.v3+json": {
       "$schema": "https://vega.github.io/schema/vega-lite/v3.4.0.json",
       "config": {
        "mark": {
         "tooltip": null
        },
        "view": {
         "height": 300,
         "width": 400
        }
       },
       "data": {
        "name": "data-f61544e13012dd850557d6ef4fc29341"
       },
       "datasets": {
        "data-f61544e13012dd850557d6ef4fc29341": [
         {
          "id_comptag": "19-A20-229+500",
          "jour": "2019-09-01T00:00:00",
          "nb_veh": 15498,
          "sens": "sens1",
          "type_veh": "TV"
         },
         {
          "id_comptag": "19-A20-229+500",
          "jour": "2019-09-02T00:00:00",
          "nb_veh": 13710,
          "sens": "sens1",
          "type_veh": "TV"
         },
         {
          "id_comptag": "19-A20-229+500",
          "jour": "2019-09-03T00:00:00",
          "nb_veh": 12276,
          "sens": "sens1",
          "type_veh": "TV"
         },
         {
          "id_comptag": "19-A20-229+500",
          "jour": "2019-09-04T00:00:00",
          "nb_veh": 12035,
          "sens": "sens1",
          "type_veh": "TV"
         },
         {
          "id_comptag": "19-A20-229+500",
          "jour": "2019-09-05T00:00:00",
          "nb_veh": 13070,
          "sens": "sens1",
          "type_veh": "TV"
         },
         {
          "id_comptag": "19-A20-229+500",
          "jour": "2019-09-06T00:00:00",
          "nb_veh": 16392,
          "sens": "sens1",
          "type_veh": "TV"
         },
         {
          "id_comptag": "19-A20-229+500",
          "jour": "2019-09-07T00:00:00",
          "nb_veh": 14643,
          "sens": "sens1",
          "type_veh": "TV"
         },
         {
          "id_comptag": "19-A20-229+500",
          "jour": "2019-09-08T00:00:00",
          "nb_veh": 13198,
          "sens": "sens1",
          "type_veh": "TV"
         },
         {
          "id_comptag": "19-A20-229+500",
          "jour": "2019-09-09T00:00:00",
          "nb_veh": 12401,
          "sens": "sens1",
          "type_veh": "TV"
         },
         {
          "id_comptag": "19-A20-229+500",
          "jour": "2019-09-10T00:00:00",
          "nb_veh": 11748,
          "sens": "sens1",
          "type_veh": "TV"
         },
         {
          "id_comptag": "19-A20-229+500",
          "jour": "2019-09-11T00:00:00",
          "nb_veh": 11925,
          "sens": "sens1",
          "type_veh": "TV"
         },
         {
          "id_comptag": "19-A20-229+500",
          "jour": "2019-09-12T00:00:00",
          "nb_veh": 12364,
          "sens": "sens1",
          "type_veh": "TV"
         },
         {
          "id_comptag": "19-A20-229+500",
          "jour": "2019-09-13T00:00:00",
          "nb_veh": 16498,
          "sens": "sens1",
          "type_veh": "TV"
         },
         {
          "id_comptag": "19-A20-229+500",
          "jour": "2019-09-14T00:00:00",
          "nb_veh": 12547,
          "sens": "sens1",
          "type_veh": "TV"
         },
         {
          "id_comptag": "19-A20-229+500",
          "jour": "2019-09-15T00:00:00",
          "nb_veh": 12367,
          "sens": "sens1",
          "type_veh": "TV"
         },
         {
          "id_comptag": "19-A20-229+500",
          "jour": "2019-09-16T00:00:00",
          "nb_veh": 12510,
          "sens": "sens1",
          "type_veh": "TV"
         },
         {
          "id_comptag": "19-A20-229+500",
          "jour": "2019-09-17T00:00:00",
          "nb_veh": 11690,
          "sens": "sens1",
          "type_veh": "TV"
         },
         {
          "id_comptag": "19-A20-229+500",
          "jour": "2019-09-18T00:00:00",
          "nb_veh": 11692,
          "sens": "sens1",
          "type_veh": "TV"
         },
         {
          "id_comptag": "19-A20-229+500",
          "jour": "2019-09-19T00:00:00",
          "nb_veh": 12692,
          "sens": "sens1",
          "type_veh": "TV"
         },
         {
          "id_comptag": "19-A20-229+500",
          "jour": "2019-09-20T00:00:00",
          "nb_veh": 16183,
          "sens": "sens1",
          "type_veh": "TV"
         },
         {
          "id_comptag": "19-A20-229+500",
          "jour": "2019-09-21T00:00:00",
          "nb_veh": 11335,
          "sens": "sens1",
          "type_veh": "TV"
         },
         {
          "id_comptag": "19-A20-229+500",
          "jour": "2019-09-22T00:00:00",
          "nb_veh": 11202,
          "sens": "sens1",
          "type_veh": "TV"
         },
         {
          "id_comptag": "19-A20-229+500",
          "jour": "2019-09-23T00:00:00",
          "nb_veh": 12131,
          "sens": "sens1",
          "type_veh": "TV"
         },
         {
          "id_comptag": "19-A20-229+500",
          "jour": "2019-09-24T00:00:00",
          "nb_veh": 11088,
          "sens": "sens1",
          "type_veh": "TV"
         },
         {
          "id_comptag": "19-A20-229+500",
          "jour": "2019-09-25T00:00:00",
          "nb_veh": 11123,
          "sens": "sens1",
          "type_veh": "TV"
         },
         {
          "id_comptag": "19-A20-229+500",
          "jour": "2019-09-26T00:00:00",
          "nb_veh": 12435,
          "sens": "sens1",
          "type_veh": "TV"
         },
         {
          "id_comptag": "19-A20-229+500",
          "jour": "2019-09-27T00:00:00",
          "nb_veh": 16053,
          "sens": "sens1",
          "type_veh": "TV"
         },
         {
          "id_comptag": "19-A20-229+500",
          "jour": "2019-09-28T00:00:00",
          "nb_veh": 10731,
          "sens": "sens1",
          "type_veh": "TV"
         },
         {
          "id_comptag": "19-A20-229+500",
          "jour": "2019-09-29T00:00:00",
          "nb_veh": 11154,
          "sens": "sens1",
          "type_veh": "TV"
         },
         {
          "id_comptag": "19-A20-229+500",
          "jour": "2019-09-30T00:00:00",
          "nb_veh": 11323,
          "sens": "sens1",
          "type_veh": "TV"
         },
         {
          "id_comptag": "19-A20-229+500",
          "jour": "2019-09-01T00:00:00",
          "nb_veh": 18652,
          "sens": "sens2",
          "type_veh": "TV"
         },
         {
          "id_comptag": "19-A20-229+500",
          "jour": "2019-09-02T00:00:00",
          "nb_veh": 14276,
          "sens": "sens2",
          "type_veh": "TV"
         },
         {
          "id_comptag": "19-A20-229+500",
          "jour": "2019-09-03T00:00:00",
          "nb_veh": 12268,
          "sens": "sens2",
          "type_veh": "TV"
         },
         {
          "id_comptag": "19-A20-229+500",
          "jour": "2019-09-04T00:00:00",
          "nb_veh": 12023,
          "sens": "sens2",
          "type_veh": "TV"
         },
         {
          "id_comptag": "19-A20-229+500",
          "jour": "2019-09-05T00:00:00",
          "nb_veh": 13072,
          "sens": "sens2",
          "type_veh": "TV"
         },
         {
          "id_comptag": "19-A20-229+500",
          "jour": "2019-09-06T00:00:00",
          "nb_veh": 15656,
          "sens": "sens2",
          "type_veh": "TV"
         },
         {
          "id_comptag": "19-A20-229+500",
          "jour": "2019-09-07T00:00:00",
          "nb_veh": 11737,
          "sens": "sens2",
          "type_veh": "TV"
         },
         {
          "id_comptag": "19-A20-229+500",
          "jour": "2019-09-08T00:00:00",
          "nb_veh": 15391,
          "sens": "sens2",
          "type_veh": "TV"
         },
         {
          "id_comptag": "19-A20-229+500",
          "jour": "2019-09-09T00:00:00",
          "nb_veh": 13477,
          "sens": "sens2",
          "type_veh": "TV"
         },
         {
          "id_comptag": "19-A20-229+500",
          "jour": "2019-09-10T00:00:00",
          "nb_veh": 12111,
          "sens": "sens2",
          "type_veh": "TV"
         },
         {
          "id_comptag": "19-A20-229+500",
          "jour": "2019-09-11T00:00:00",
          "nb_veh": 12023,
          "sens": "sens2",
          "type_veh": "TV"
         },
         {
          "id_comptag": "19-A20-229+500",
          "jour": "2019-09-12T00:00:00",
          "nb_veh": 12436,
          "sens": "sens2",
          "type_veh": "TV"
         },
         {
          "id_comptag": "19-A20-229+500",
          "jour": "2019-09-13T00:00:00",
          "nb_veh": 15832,
          "sens": "sens2",
          "type_veh": "TV"
         },
         {
          "id_comptag": "19-A20-229+500",
          "jour": "2019-09-14T00:00:00",
          "nb_veh": 14646,
          "sens": "sens2",
          "type_veh": "TV"
         },
         {
          "id_comptag": "19-A20-229+500",
          "jour": "2019-09-15T00:00:00",
          "nb_veh": 16211,
          "sens": "sens2",
          "type_veh": "TV"
         },
         {
          "id_comptag": "19-A20-229+500",
          "jour": "2019-09-16T00:00:00",
          "nb_veh": 13784,
          "sens": "sens2",
          "type_veh": "TV"
         },
         {
          "id_comptag": "19-A20-229+500",
          "jour": "2019-09-17T00:00:00",
          "nb_veh": 11944,
          "sens": "sens2",
          "type_veh": "TV"
         },
         {
          "id_comptag": "19-A20-229+500",
          "jour": "2019-09-18T00:00:00",
          "nb_veh": 12052,
          "sens": "sens2",
          "type_veh": "TV"
         },
         {
          "id_comptag": "19-A20-229+500",
          "jour": "2019-09-19T00:00:00",
          "nb_veh": 12860,
          "sens": "sens2",
          "type_veh": "TV"
         },
         {
          "id_comptag": "19-A20-229+500",
          "jour": "2019-09-20T00:00:00",
          "nb_veh": 15602,
          "sens": "sens2",
          "type_veh": "TV"
         },
         {
          "id_comptag": "19-A20-229+500",
          "jour": "2019-09-21T00:00:00",
          "nb_veh": 13139,
          "sens": "sens2",
          "type_veh": "TV"
         },
         {
          "id_comptag": "19-A20-229+500",
          "jour": "2019-09-22T00:00:00",
          "nb_veh": 14939,
          "sens": "sens2",
          "type_veh": "TV"
         },
         {
          "id_comptag": "19-A20-229+500",
          "jour": "2019-09-23T00:00:00",
          "nb_veh": 13498,
          "sens": "sens2",
          "type_veh": "TV"
         },
         {
          "id_comptag": "19-A20-229+500",
          "jour": "2019-09-24T00:00:00",
          "nb_veh": 11666,
          "sens": "sens2",
          "type_veh": "TV"
         },
         {
          "id_comptag": "19-A20-229+500",
          "jour": "2019-09-25T00:00:00",
          "nb_veh": 11434,
          "sens": "sens2",
          "type_veh": "TV"
         },
         {
          "id_comptag": "19-A20-229+500",
          "jour": "2019-09-26T00:00:00",
          "nb_veh": 12260,
          "sens": "sens2",
          "type_veh": "TV"
         },
         {
          "id_comptag": "19-A20-229+500",
          "jour": "2019-09-27T00:00:00",
          "nb_veh": 15152,
          "sens": "sens2",
          "type_veh": "TV"
         },
         {
          "id_comptag": "19-A20-229+500",
          "jour": "2019-09-28T00:00:00",
          "nb_veh": 11366,
          "sens": "sens2",
          "type_veh": "TV"
         },
         {
          "id_comptag": "19-A20-229+500",
          "jour": "2019-09-29T00:00:00",
          "nb_veh": 14769,
          "sens": "sens2",
          "type_veh": "TV"
         },
         {
          "id_comptag": "19-A20-229+500",
          "jour": "2019-09-30T00:00:00",
          "nb_veh": 12955,
          "sens": "sens2",
          "type_veh": "TV"
         }
        ]
       },
       "encoding": {
        "color": {
         "field": "sens",
         "type": "nominal"
        },
        "x": {
         "field": "jour",
         "type": "temporal"
        },
        "y": {
         "field": "nb_veh",
         "type": "quantitative"
        }
       },
       "mark": "line"
      },
      "image/png": "[encoded data removed]",
      "text/plain": [
       "<VegaLite 3 object>\n",
       "\n",
       "If you see this message, it means the renderer has not been properly enabled\n",
       "for the frontend that you are using. For more information, see\n",
       "https://altair-viz.github.io/user_guide/troubleshooting.html\n"
      ]
     },
     "execution_count": 11,
     "metadata": {},
     "output_type": "execute_result"
    }
   ],
   "source": [
    "dh.graph2SensParJour(dicoCptok['19-A20-229+500'])"
   ]
  },
  {
   "cell_type": "markdown",
   "metadata": {},
   "source": [
    "# ***ANALYSE GENERALE OTV***"
   ]
  },
  {
   "cell_type": "code",
   "execution_count": 99,
   "metadata": {},
   "outputs": [
    {
     "data": {
      "text/html": [
       "\n",
       "<div id=\"altair-viz-174450ae27874d7b9553265289a20b8a\"></div>\n",
       "<script type=\"text/javascript\">\n",
       "  (function(spec, embedOpt){\n",
       "    let outputDiv = document.currentScript.previousElementSibling;\n",
       "    if (outputDiv.id !== \"altair-viz-174450ae27874d7b9553265289a20b8a\") {\n",
       "      outputDiv = document.getElementById(\"altair-viz-174450ae27874d7b9553265289a20b8a\");\n",
       "    }\n",
       "    const paths = {\n",
       "      \"vega\": \"https://cdn.jsdelivr.net/npm//vega@5?noext\",\n",
       "      \"vega-lib\": \"https://cdn.jsdelivr.net/npm//vega-lib?noext\",\n",
       "      \"vega-lite\": \"https://cdn.jsdelivr.net/npm//vega-lite@4.8.1?noext\",\n",
       "      \"vega-embed\": \"https://cdn.jsdelivr.net/npm//vega-embed@6?noext\",\n",
       "    };\n",
       "\n",
       "    function loadScript(lib) {\n",
       "      return new Promise(function(resolve, reject) {\n",
       "        var s = document.createElement('script');\n",
       "        s.src = paths[lib];\n",
       "        s.async = true;\n",
       "        s.onload = () => resolve(paths[lib]);\n",
       "        s.onerror = () => reject(`Error loading script: ${paths[lib]}`);\n",
       "        document.getElementsByTagName(\"head\")[0].appendChild(s);\n",
       "      });\n",
       "    }\n",
       "\n",
       "    function showError(err) {\n",
       "      outputDiv.innerHTML = `<div class=\"error\" style=\"color:red;\">${err}</div>`;\n",
       "      throw err;\n",
       "    }\n",
       "\n",
       "    function displayChart(vegaEmbed) {\n",
       "      vegaEmbed(outputDiv, spec, embedOpt)\n",
       "        .catch(err => showError(`Javascript Error: ${err.message}<br>This usually means there's a typo in your chart specification. See the javascript console for the full traceback.`));\n",
       "    }\n",
       "\n",
       "    if(typeof define === \"function\" && define.amd) {\n",
       "      requirejs.config({paths});\n",
       "      require([\"vega-embed\"], displayChart, err => showError(`Error loading script: ${err.message}`));\n",
       "    } else if (typeof vegaEmbed === \"function\") {\n",
       "      displayChart(vegaEmbed);\n",
       "    } else {\n",
       "      loadScript(\"vega\")\n",
       "        .then(() => loadScript(\"vega-lite\"))\n",
       "        .then(() => loadScript(\"vega-embed\"))\n",
       "        .catch(showError)\n",
       "        .then(() => displayChart(vegaEmbed));\n",
       "    }\n",
       "  })({\"config\": {\"view\": {\"continuousWidth\": 400, \"continuousHeight\": 300}}, \"hconcat\": [{\"layer\": [{\"data\": {\"name\": \"data-1d2bb0f6ecd10ba9213aef27682f9a44\"}, \"mark\": \"bar\", \"encoding\": {\"color\": {\"type\": \"nominal\", \"field\": \"txt_qualite\", \"scale\": {\"domain\": [\"bonne\", \"moyenne\", \"faible\"], \"range\": [\"green\", \"blue\", \"red\"]}}, \"x\": {\"type\": \"ordinal\", \"field\": \"annee\"}, \"y\": {\"type\": \"quantitative\", \"axis\": {\"title\": \"TMJA\"}, \"field\": \"valeur\"}}, \"title\": \"40-D934-24+160 : permanent\", \"width\": 500}, {\"data\": {\"name\": \"data-f39c1984ee12621826c4876bf68b34c4\"}, \"mark\": {\"type\": \"line\", \"color\": \"red\"}, \"encoding\": {\"x\": {\"type\": \"ordinal\", \"field\": \"annee\"}, \"y\": {\"type\": \"quantitative\", \"axis\": {\"title\": \"% PL\"}, \"field\": \"valeur\", \"scale\": {\"domain\": [0, 40.0]}}}, \"title\": \"40-D934-24+160 : permanent\", \"width\": 450}], \"resolve\": {\"scale\": {\"y\": \"independent\"}}}, {\"layer\": [{\"mark\": \"bar\", \"encoding\": {\"x\": {\"type\": \"ordinal\", \"field\": \"annee\"}, \"y\": {\"type\": \"quantitative\", \"axis\": {\"title\": \"TMJA\"}, \"field\": \"valeur\"}}, \"title\": \"40-D934-24+160 : permanent\", \"width\": 500}, {\"mark\": {\"type\": \"line\", \"color\": \"black\"}, \"encoding\": {\"x\": {\"type\": \"ordinal\", \"field\": \"annee\"}, \"y\": {\"type\": \"quantitative\", \"axis\": {\"title\": \"TMJA\"}, \"field\": \"valeur\"}}, \"title\": \"40-D934-24+160 : permanent\", \"transform\": [{\"on\": \"annee\", \"regression\": \"valeur\"}], \"width\": 500}], \"data\": {\"name\": \"data-1d2bb0f6ecd10ba9213aef27682f9a44\"}}], \"$schema\": \"https://vega.github.io/schema/vega-lite/v4.8.1.json\", \"datasets\": {\"data-1d2bb0f6ecd10ba9213aef27682f9a44\": [{\"id_comptag_uniq\": 40147, \"id_comptag\": \"40-D934-24+160\", \"annee\": \"2010\", \"type_poste\": \"permanent\", \"indicateur\": \"tmja\", \"valeur\": 6420.0, \"txt_qualite\": \"moyenne\"}, {\"id_comptag_uniq\": 40148, \"id_comptag\": \"40-D934-24+160\", \"annee\": \"2011\", \"type_poste\": \"permanent\", \"indicateur\": \"tmja\", \"valeur\": 4260.0, \"txt_qualite\": \"moyenne\"}, {\"id_comptag_uniq\": 40149, \"id_comptag\": \"40-D934-24+160\", \"annee\": \"2012\", \"type_poste\": \"permanent\", \"indicateur\": \"tmja\", \"valeur\": 3496.0, \"txt_qualite\": \"moyenne\"}, {\"id_comptag_uniq\": 40150, \"id_comptag\": \"40-D934-24+160\", \"annee\": \"2013\", \"type_poste\": \"permanent\", \"indicateur\": \"tmja\", \"valeur\": 3422.0, \"txt_qualite\": \"moyenne\"}, {\"id_comptag_uniq\": 40151, \"id_comptag\": \"40-D934-24+160\", \"annee\": \"2014\", \"type_poste\": \"permanent\", \"indicateur\": \"tmja\", \"valeur\": 3138.0, \"txt_qualite\": \"moyenne\"}, {\"id_comptag_uniq\": 40152, \"id_comptag\": \"40-D934-24+160\", \"annee\": \"2015\", \"type_poste\": \"permanent\", \"indicateur\": \"tmja\", \"valeur\": 3087.0, \"txt_qualite\": \"moyenne\"}, {\"id_comptag_uniq\": 40153, \"id_comptag\": \"40-D934-24+160\", \"annee\": \"2016\", \"type_poste\": \"permanent\", \"indicateur\": \"tmja\", \"valeur\": 3054.0, \"txt_qualite\": \"moyenne\"}, {\"id_comptag_uniq\": 40154, \"id_comptag\": \"40-D934-24+160\", \"annee\": \"2017\", \"type_poste\": \"permanent\", \"indicateur\": \"tmja\", \"valeur\": 3059.0, \"txt_qualite\": \"moyenne\"}, {\"id_comptag_uniq\": 40155, \"id_comptag\": \"40-D934-24+160\", \"annee\": \"2018\", \"type_poste\": \"permanent\", \"indicateur\": \"tmja\", \"valeur\": 2928.0, \"txt_qualite\": \"bonne\"}, {\"id_comptag_uniq\": 40156, \"id_comptag\": \"40-D934-24+160\", \"annee\": \"2019\", \"type_poste\": \"permanent\", \"indicateur\": \"tmja\", \"valeur\": 2917.0, \"txt_qualite\": \"bonne\"}], \"data-f39c1984ee12621826c4876bf68b34c4\": [{\"id_comptag_uniq\": 40147, \"id_comptag\": \"40-D934-24+160\", \"annee\": \"2010\", \"type_poste\": \"permanent\", \"indicateur\": \"pc_pl\", \"valeur\": 16.0, \"txt_qualite\": \"moyenne\"}, {\"id_comptag_uniq\": 40148, \"id_comptag\": \"40-D934-24+160\", \"annee\": \"2011\", \"type_poste\": \"permanent\", \"indicateur\": \"pc_pl\", \"valeur\": 20.0, \"txt_qualite\": \"moyenne\"}, {\"id_comptag_uniq\": 40149, \"id_comptag\": \"40-D934-24+160\", \"annee\": \"2012\", \"type_poste\": \"permanent\", \"indicateur\": \"pc_pl\", \"valeur\": 19.0, \"txt_qualite\": \"moyenne\"}, {\"id_comptag_uniq\": 40150, \"id_comptag\": \"40-D934-24+160\", \"annee\": \"2013\", \"type_poste\": \"permanent\", \"indicateur\": \"pc_pl\", \"valeur\": 18.0, \"txt_qualite\": \"moyenne\"}, {\"id_comptag_uniq\": 40151, \"id_comptag\": \"40-D934-24+160\", \"annee\": \"2014\", \"type_poste\": \"permanent\", \"indicateur\": \"pc_pl\", \"valeur\": 9.5, \"txt_qualite\": \"moyenne\"}, {\"id_comptag_uniq\": 40153, \"id_comptag\": \"40-D934-24+160\", \"annee\": \"2016\", \"type_poste\": \"permanent\", \"indicateur\": \"pc_pl\", \"valeur\": 9.9, \"txt_qualite\": \"moyenne\"}, {\"id_comptag_uniq\": 40154, \"id_comptag\": \"40-D934-24+160\", \"annee\": \"2017\", \"type_poste\": \"permanent\", \"indicateur\": \"pc_pl\", \"valeur\": 10.65, \"txt_qualite\": \"moyenne\"}, {\"id_comptag_uniq\": 40155, \"id_comptag\": \"40-D934-24+160\", \"annee\": \"2018\", \"type_poste\": \"permanent\", \"indicateur\": \"pc_pl\", \"valeur\": 10.6729545624673, \"txt_qualite\": \"bonne\"}, {\"id_comptag_uniq\": 40156, \"id_comptag\": \"40-D934-24+160\", \"annee\": \"2019\", \"type_poste\": \"permanent\", \"indicateur\": \"pc_pl\", \"valeur\": 10.9, \"txt_qualite\": \"bonne\"}]}}, {\"mode\": \"vega-lite\"});\n",
       "</script>"
      ],
      "text/plain": [
       "alt.HConcatChart(...)"
      ]
     },
     "execution_count": 99,
     "metadata": {},
     "output_type": "execute_result"
    }
   ],
   "source": [
    "#Pour info, obtenir un graph des trafic pour un point de comptage donnée\n",
    "cpt1=vi.IdComptage('40-D934-24+160', qualite=True)#16-D1000-11+194\n",
    "cpt1.graphTrafic()\n",
    "cpt1.regressionTmja()\n",
    "cpt1.chartTrafic|cpt1.chartRegressTmja"
   ]
  },
  {
   "cell_type": "markdown",
   "metadata": {},
   "source": [
    "> ## Analyse de la période de comptage"
   ]
  },
  {
   "cell_type": "code",
   "execution_count": 10,
   "metadata": {},
   "outputs": [],
   "source": [
    "otv=vi.Otv()\n",
    "chart, chart1, chart2=otv.graphQualiteComptages('periode_comptage')"
   ]
  },
  {
   "cell_type": "code",
   "execution_count": 11,
   "metadata": {},
   "outputs": [
    {
     "data": {
      "text/html": [
       "\n",
       "<div id=\"altair-viz-781bcc7b0b2844e695465b50a6d2ac21\"></div>\n",
       "<script type=\"text/javascript\">\n",
       "  (function(spec, embedOpt){\n",
       "    let outputDiv = document.currentScript.previousElementSibling;\n",
       "    if (outputDiv.id !== \"altair-viz-781bcc7b0b2844e695465b50a6d2ac21\") {\n",
       "      outputDiv = document.getElementById(\"altair-viz-781bcc7b0b2844e695465b50a6d2ac21\");\n",
       "    }\n",
       "    const paths = {\n",
       "      \"vega\": \"https://cdn.jsdelivr.net/npm//vega@5?noext\",\n",
       "      \"vega-lib\": \"https://cdn.jsdelivr.net/npm//vega-lib?noext\",\n",
       "      \"vega-lite\": \"https://cdn.jsdelivr.net/npm//vega-lite@4.8.1?noext\",\n",
       "      \"vega-embed\": \"https://cdn.jsdelivr.net/npm//vega-embed@6?noext\",\n",
       "    };\n",
       "\n",
       "    function loadScript(lib) {\n",
       "      return new Promise(function(resolve, reject) {\n",
       "        var s = document.createElement('script');\n",
       "        s.src = paths[lib];\n",
       "        s.async = true;\n",
       "        s.onload = () => resolve(paths[lib]);\n",
       "        s.onerror = () => reject(`Error loading script: ${paths[lib]}`);\n",
       "        document.getElementsByTagName(\"head\")[0].appendChild(s);\n",
       "      });\n",
       "    }\n",
       "\n",
       "    function showError(err) {\n",
       "      outputDiv.innerHTML = `<div class=\"error\" style=\"color:red;\">${err}</div>`;\n",
       "      throw err;\n",
       "    }\n",
       "\n",
       "    function displayChart(vegaEmbed) {\n",
       "      vegaEmbed(outputDiv, spec, embedOpt)\n",
       "        .catch(err => showError(`Javascript Error: ${err.message}<br>This usually means there's a typo in your chart specification. See the javascript console for the full traceback.`));\n",
       "    }\n",
       "\n",
       "    if(typeof define === \"function\" && define.amd) {\n",
       "      requirejs.config({paths});\n",
       "      require([\"vega-embed\"], displayChart, err => showError(`Error loading script: ${err.message}`));\n",
       "    } else if (typeof vegaEmbed === \"function\") {\n",
       "      displayChart(vegaEmbed);\n",
       "    } else {\n",
       "      loadScript(\"vega\")\n",
       "        .then(() => loadScript(\"vega-lite\"))\n",
       "        .then(() => loadScript(\"vega-embed\"))\n",
       "        .catch(showError)\n",
       "        .then(() => displayChart(vegaEmbed));\n",
       "    }\n",
       "  })({\"config\": {\"view\": {\"continuousWidth\": 400, \"continuousHeight\": 300}}, \"hconcat\": [{\"mark\": {\"type\": \"bar\", \"width\": 40}, \"encoding\": {\"color\": {\"type\": \"nominal\", \"field\": \"txt_qualite\", \"legend\": {\"title\": \"qualit\\u00e9\"}, \"sort\": [\"faible\", \"moyenne\", \"bonne\"]}, \"order\": {\"type\": \"quantitative\", \"field\": \"note_represent_typoste_periode\", \"sort\": \"ascending\"}, \"x\": {\"type\": \"nominal\", \"axis\": {\"labelAngle\": 315, \"title\": \"type de poste\"}, \"field\": \"type_poste\", \"sort\": [\"ponctuel\", \"tournant\", \"permanent\"]}, \"y\": {\"type\": \"quantitative\", \"axis\": {\"format\": \"%\", \"title\": \"Nb de comptage\"}, \"field\": \"id_comptag\", \"stack\": \"normalize\"}}, \"width\": 300}, {\"mark\": {\"type\": \"bar\", \"width\": 40}, \"encoding\": {\"color\": {\"type\": \"nominal\", \"field\": \"type_poste\", \"legend\": {\"title\": \"type de poste\"}, \"sort\": [\"ponctuel\", \"tournant\", \"permanent\"]}, \"order\": {\"type\": \"quantitative\", \"field\": \"note_represent_typoste_periode\", \"sort\": \"ascending\"}, \"x\": {\"type\": \"nominal\", \"axis\": {\"labelAngle\": 315, \"title\": \"qualit\\u00e9\"}, \"field\": \"txt_qualite\", \"sort\": [\"NC\", \"faible\", \"moyenne\", \"bonne\"]}, \"y\": {\"type\": \"quantitative\", \"axis\": {\"title\": \"Nb de comptage\"}, \"field\": \"id_comptag\"}}, \"width\": 300}], \"data\": {\"name\": \"data-fcc37181e074d9a1f0c63285333f9885\"}, \"resolve\": {\"legend\": {\"color\": \"independent\"}, \"scale\": {\"color\": \"independent\"}}, \"title\": {\"text\": [\"Repr\\u00e9sentativit\\u00e9 des comptages selon la ou les p\\u00e9riode(s)\", \"de mesure et le type de poste\"], \"anchor\": \"middle\"}, \"$schema\": \"https://vega.github.io/schema/vega-lite/v4.8.1.json\", \"datasets\": {\"data-fcc37181e074d9a1f0c63285333f9885\": [{\"txt_qualite\": \"bonne\", \"note_represent_typoste_periode\": 3, \"type_poste\": \"permanent\", \"id_comptag\": 8051}, {\"txt_qualite\": \"bonne\", \"note_represent_typoste_periode\": 3, \"type_poste\": \"ponctuel\", \"id_comptag\": 2751}, {\"txt_qualite\": \"bonne\", \"note_represent_typoste_periode\": 3, \"type_poste\": \"tournant\", \"id_comptag\": 154}, {\"txt_qualite\": \"faible\", \"note_represent_typoste_periode\": 1, \"type_poste\": \"ponctuel\", \"id_comptag\": 5108}, {\"txt_qualite\": \"faible\", \"note_represent_typoste_periode\": 1, \"type_poste\": \"tournant\", \"id_comptag\": 729}, {\"txt_qualite\": \"moyenne\", \"note_represent_typoste_periode\": 2, \"type_poste\": \"tournant\", \"id_comptag\": 9808}]}}, {\"mode\": \"vega-lite\"});\n",
       "</script>"
      ],
      "text/plain": [
       "alt.HConcatChart(...)"
      ]
     },
     "execution_count": 11,
     "metadata": {},
     "output_type": "execute_result"
    }
   ],
   "source": [
    "chart"
   ]
  },
  {
   "cell_type": "markdown",
   "metadata": {},
   "source": [
    "> ## Analyse de l'exhaustivite des données"
   ]
  },
  {
   "cell_type": "code",
   "execution_count": 143,
   "metadata": {},
   "outputs": [],
   "source": [
    "otv=vi.Otv()\n",
    "chart, chart1, chart2=otv.graphQualiteComptages('exhaust_comptage')"
   ]
  },
  {
   "cell_type": "code",
   "execution_count": 146,
   "metadata": {},
   "outputs": [
    {
     "data": {
      "text/html": [
       "\n",
       "<div id=\"altair-viz-8c31ee78519942eb9b6f7688e54afceb\"></div>\n",
       "<script type=\"text/javascript\">\n",
       "  (function(spec, embedOpt){\n",
       "    let outputDiv = document.currentScript.previousElementSibling;\n",
       "    if (outputDiv.id !== \"altair-viz-8c31ee78519942eb9b6f7688e54afceb\") {\n",
       "      outputDiv = document.getElementById(\"altair-viz-8c31ee78519942eb9b6f7688e54afceb\");\n",
       "    }\n",
       "    const paths = {\n",
       "      \"vega\": \"https://cdn.jsdelivr.net/npm//vega@5?noext\",\n",
       "      \"vega-lib\": \"https://cdn.jsdelivr.net/npm//vega-lib?noext\",\n",
       "      \"vega-lite\": \"https://cdn.jsdelivr.net/npm//vega-lite@4.8.1?noext\",\n",
       "      \"vega-embed\": \"https://cdn.jsdelivr.net/npm//vega-embed@6?noext\",\n",
       "    };\n",
       "\n",
       "    function loadScript(lib) {\n",
       "      return new Promise(function(resolve, reject) {\n",
       "        var s = document.createElement('script');\n",
       "        s.src = paths[lib];\n",
       "        s.async = true;\n",
       "        s.onload = () => resolve(paths[lib]);\n",
       "        s.onerror = () => reject(`Error loading script: ${paths[lib]}`);\n",
       "        document.getElementsByTagName(\"head\")[0].appendChild(s);\n",
       "      });\n",
       "    }\n",
       "\n",
       "    function showError(err) {\n",
       "      outputDiv.innerHTML = `<div class=\"error\" style=\"color:red;\">${err}</div>`;\n",
       "      throw err;\n",
       "    }\n",
       "\n",
       "    function displayChart(vegaEmbed) {\n",
       "      vegaEmbed(outputDiv, spec, embedOpt)\n",
       "        .catch(err => showError(`Javascript Error: ${err.message}<br>This usually means there's a typo in your chart specification. See the javascript console for the full traceback.`));\n",
       "    }\n",
       "\n",
       "    if(typeof define === \"function\" && define.amd) {\n",
       "      requirejs.config({paths});\n",
       "      require([\"vega-embed\"], displayChart, err => showError(`Error loading script: ${err.message}`));\n",
       "    } else if (typeof vegaEmbed === \"function\") {\n",
       "      displayChart(vegaEmbed);\n",
       "    } else {\n",
       "      loadScript(\"vega\")\n",
       "        .then(() => loadScript(\"vega-lite\"))\n",
       "        .then(() => loadScript(\"vega-embed\"))\n",
       "        .catch(showError)\n",
       "        .then(() => displayChart(vegaEmbed));\n",
       "    }\n",
       "  })({\"config\": {\"view\": {\"continuousWidth\": 400, \"continuousHeight\": 300}}, \"hconcat\": [{\"mark\": {\"type\": \"bar\", \"width\": 40}, \"encoding\": {\"color\": {\"type\": \"nominal\", \"field\": \"txt_qualite\", \"legend\": {\"title\": \"qualit\\u00e9\"}, \"sort\": [\"faible\", \"moyenne\", \"bonne\"]}, \"order\": {\"type\": \"quantitative\", \"field\": \"note_exhaust\", \"sort\": \"ascending\"}, \"x\": {\"type\": \"nominal\", \"axis\": {\"labelAngle\": 315, \"title\": \"type de poste\"}, \"field\": \"type_poste\", \"sort\": [\"ponctuel\", \"tournant\", \"permanent\"]}, \"y\": {\"type\": \"quantitative\", \"axis\": {\"format\": \"%\", \"title\": \"Nb de comptage\"}, \"field\": \"id_comptag\", \"stack\": \"normalize\"}}, \"title\": [\"R\\u00e9partition des comptages selon l'exhaustivit\\u00e9 globale\", \"et le type de poste\"], \"width\": 300}, {\"mark\": {\"type\": \"bar\", \"width\": 40}, \"encoding\": {\"color\": {\"type\": \"nominal\", \"field\": \"type_poste\", \"legend\": {\"title\": \"type de poste\"}, \"sort\": [\"ponctuel\", \"tournant\", \"permanent\"]}, \"order\": {\"type\": \"quantitative\", \"field\": \"note_exhaust\", \"sort\": \"ascending\"}, \"x\": {\"type\": \"nominal\", \"axis\": {\"labelAngle\": 315, \"title\": \"qualit\\u00e9\"}, \"field\": \"txt_qualite\", \"sort\": [\"NC\", \"faible\", \"moyenne\", \"bonne\"]}, \"y\": {\"type\": \"quantitative\", \"axis\": {\"title\": \"Nb de comptage\"}, \"field\": \"id_comptag\"}}, \"title\": [\"R\\u00e9partition des comptages selon l'exhaustivit\\u00e9 globale\", \"et le type de poste\"], \"width\": 300}], \"data\": {\"name\": \"data-881b7733019447f262df69058330b692\"}, \"resolve\": {\"legend\": {\"color\": \"independent\"}, \"scale\": {\"color\": \"independent\"}}, \"title\": {\"text\": [\"R\\u00e9partition des comptages selon l'exhaustivit\\u00e9 globale\", \"et le type de poste\"], \"anchor\": \"middle\"}, \"$schema\": \"https://vega.github.io/schema/vega-lite/v4.8.1.json\", \"datasets\": {\"data-881b7733019447f262df69058330b692\": [{\"txt_qualite\": \"bonne\", \"note_exhaust\": 3, \"type_poste\": \"permanent\", \"id_comptag\": 822}, {\"txt_qualite\": \"faible\", \"note_exhaust\": 1, \"type_poste\": \"permanent\", \"id_comptag\": 1709}, {\"txt_qualite\": \"faible\", \"note_exhaust\": 1, \"type_poste\": \"ponctuel\", \"id_comptag\": 3916}, {\"txt_qualite\": \"faible\", \"note_exhaust\": 1, \"type_poste\": \"tournant\", \"id_comptag\": 2523}, {\"txt_qualite\": \"moyenne\", \"note_exhaust\": 2, \"type_poste\": \"permanent\", \"id_comptag\": 5520}, {\"txt_qualite\": \"moyenne\", \"note_exhaust\": 2, \"type_poste\": \"ponctuel\", \"id_comptag\": 3943}, {\"txt_qualite\": \"moyenne\", \"note_exhaust\": 2, \"type_poste\": \"tournant\", \"id_comptag\": 8168}]}}, {\"mode\": \"vega-lite\"});\n",
       "</script>"
      ],
      "text/plain": [
       "alt.HConcatChart(...)"
      ]
     },
     "execution_count": 146,
     "metadata": {},
     "output_type": "execute_result"
    }
   ],
   "source": [
    "chart"
   ]
  },
  {
   "cell_type": "markdown",
   "metadata": {},
   "source": [
    "> ## Analyse de la cohérence des comptage par fonction affine"
   ]
  },
  {
   "cell_type": "code",
   "execution_count": 154,
   "metadata": {},
   "outputs": [],
   "source": [
    "otv=vi.Otv()\n",
    "chart, chart1, chart2=otv.graphQualiteComptages('coherence_affine_comptage')"
   ]
  },
  {
   "cell_type": "code",
   "execution_count": 155,
   "metadata": {},
   "outputs": [
    {
     "data": {
      "text/html": [
       "\n",
       "<div id=\"altair-viz-70b42840108e4b869bd6a626b807c3cc\"></div>\n",
       "<script type=\"text/javascript\">\n",
       "  (function(spec, embedOpt){\n",
       "    let outputDiv = document.currentScript.previousElementSibling;\n",
       "    if (outputDiv.id !== \"altair-viz-70b42840108e4b869bd6a626b807c3cc\") {\n",
       "      outputDiv = document.getElementById(\"altair-viz-70b42840108e4b869bd6a626b807c3cc\");\n",
       "    }\n",
       "    const paths = {\n",
       "      \"vega\": \"https://cdn.jsdelivr.net/npm//vega@5?noext\",\n",
       "      \"vega-lib\": \"https://cdn.jsdelivr.net/npm//vega-lib?noext\",\n",
       "      \"vega-lite\": \"https://cdn.jsdelivr.net/npm//vega-lite@4.8.1?noext\",\n",
       "      \"vega-embed\": \"https://cdn.jsdelivr.net/npm//vega-embed@6?noext\",\n",
       "    };\n",
       "\n",
       "    function loadScript(lib) {\n",
       "      return new Promise(function(resolve, reject) {\n",
       "        var s = document.createElement('script');\n",
       "        s.src = paths[lib];\n",
       "        s.async = true;\n",
       "        s.onload = () => resolve(paths[lib]);\n",
       "        s.onerror = () => reject(`Error loading script: ${paths[lib]}`);\n",
       "        document.getElementsByTagName(\"head\")[0].appendChild(s);\n",
       "      });\n",
       "    }\n",
       "\n",
       "    function showError(err) {\n",
       "      outputDiv.innerHTML = `<div class=\"error\" style=\"color:red;\">${err}</div>`;\n",
       "      throw err;\n",
       "    }\n",
       "\n",
       "    function displayChart(vegaEmbed) {\n",
       "      vegaEmbed(outputDiv, spec, embedOpt)\n",
       "        .catch(err => showError(`Javascript Error: ${err.message}<br>This usually means there's a typo in your chart specification. See the javascript console for the full traceback.`));\n",
       "    }\n",
       "\n",
       "    if(typeof define === \"function\" && define.amd) {\n",
       "      requirejs.config({paths});\n",
       "      require([\"vega-embed\"], displayChart, err => showError(`Error loading script: ${err.message}`));\n",
       "    } else if (typeof vegaEmbed === \"function\") {\n",
       "      displayChart(vegaEmbed);\n",
       "    } else {\n",
       "      loadScript(\"vega\")\n",
       "        .then(() => loadScript(\"vega-lite\"))\n",
       "        .then(() => loadScript(\"vega-embed\"))\n",
       "        .catch(showError)\n",
       "        .then(() => displayChart(vegaEmbed));\n",
       "    }\n",
       "  })({\"config\": {\"view\": {\"continuousWidth\": 400, \"continuousHeight\": 300}}, \"hconcat\": [{\"mark\": {\"type\": \"bar\", \"width\": 40}, \"encoding\": {\"color\": {\"type\": \"nominal\", \"field\": \"txt_qualite\", \"legend\": {\"title\": \"qualit\\u00e9\"}, \"sort\": [\"faible\", \"moyenne\", \"bonne\"]}, \"order\": {\"type\": \"quantitative\", \"field\": \"note_coherence_fonction_affine_cptage\", \"sort\": \"ascending\"}, \"x\": {\"type\": \"nominal\", \"axis\": {\"labelAngle\": 315, \"title\": \"type de poste\"}, \"field\": \"type_poste\", \"sort\": [\"ponctuel\", \"tournant\", \"permanent\"]}, \"y\": {\"type\": \"quantitative\", \"axis\": {\"format\": \"%\", \"title\": \"Nb de comptage\"}, \"field\": \"id_comptag\", \"stack\": \"normalize\"}}, \"width\": 300}, {\"mark\": {\"type\": \"bar\", \"width\": 40}, \"encoding\": {\"color\": {\"type\": \"nominal\", \"field\": \"type_poste\", \"legend\": {\"title\": \"type de poste\"}, \"sort\": [\"ponctuel\", \"tournant\", \"permanent\"]}, \"order\": {\"type\": \"quantitative\", \"field\": \"note_coherence_fonction_affine_cptage\", \"sort\": \"ascending\"}, \"x\": {\"type\": \"nominal\", \"axis\": {\"labelAngle\": 315, \"title\": \"qualit\\u00e9\"}, \"field\": \"txt_qualite\", \"sort\": [\"NC\", \"faible\", \"moyenne\", \"bonne\"]}, \"y\": {\"type\": \"quantitative\", \"axis\": {\"title\": \"Nb de comptage\"}, \"field\": \"id_comptag\"}}, \"width\": 300}], \"data\": {\"name\": \"data-8896a8bd07b82b7b065b79b4301bc7f1\"}, \"resolve\": {\"legend\": {\"color\": \"independent\"}, \"scale\": {\"color\": \"independent\"}}, \"title\": {\"text\": [\"Coh\\u00e9rence des comptages selon une fonction affine\", \"et le type de poste\"], \"anchor\": \"middle\"}, \"$schema\": \"https://vega.github.io/schema/vega-lite/v4.8.1.json\", \"datasets\": {\"data-8896a8bd07b82b7b065b79b4301bc7f1\": [{\"txt_qualite\": \"NC\", \"note_coherence_fonction_affine_cptage\": 0, \"type_poste\": \"permanent\", \"id_comptag\": 1477}, {\"txt_qualite\": \"NC\", \"note_coherence_fonction_affine_cptage\": 0, \"type_poste\": \"ponctuel\", \"id_comptag\": 6522}, {\"txt_qualite\": \"NC\", \"note_coherence_fonction_affine_cptage\": 0, \"type_poste\": \"tournant\", \"id_comptag\": 4090}, {\"txt_qualite\": \"bonne\", \"note_coherence_fonction_affine_cptage\": 3, \"type_poste\": \"permanent\", \"id_comptag\": 4608}, {\"txt_qualite\": \"bonne\", \"note_coherence_fonction_affine_cptage\": 3, \"type_poste\": \"ponctuel\", \"id_comptag\": 573}, {\"txt_qualite\": \"bonne\", \"note_coherence_fonction_affine_cptage\": 3, \"type_poste\": \"tournant\", \"id_comptag\": 2926}, {\"txt_qualite\": \"faible\", \"note_coherence_fonction_affine_cptage\": 1, \"type_poste\": \"permanent\", \"id_comptag\": 372}, {\"txt_qualite\": \"faible\", \"note_coherence_fonction_affine_cptage\": 1, \"type_poste\": \"ponctuel\", \"id_comptag\": 326}, {\"txt_qualite\": \"faible\", \"note_coherence_fonction_affine_cptage\": 1, \"type_poste\": \"tournant\", \"id_comptag\": 1501}, {\"txt_qualite\": \"moyenne\", \"note_coherence_fonction_affine_cptage\": 2, \"type_poste\": \"permanent\", \"id_comptag\": 1594}, {\"txt_qualite\": \"moyenne\", \"note_coherence_fonction_affine_cptage\": 2, \"type_poste\": \"ponctuel\", \"id_comptag\": 438}, {\"txt_qualite\": \"moyenne\", \"note_coherence_fonction_affine_cptage\": 2, \"type_poste\": \"tournant\", \"id_comptag\": 2174}]}}, {\"mode\": \"vega-lite\"});\n",
       "</script>"
      ],
      "text/plain": [
       "alt.HConcatChart(...)"
      ]
     },
     "execution_count": 155,
     "metadata": {},
     "output_type": "execute_result"
    }
   ],
   "source": [
    "chart"
   ]
  },
  {
   "cell_type": "markdown",
   "metadata": {},
   "source": [
    "> ## Analyse de la cohérence des comptage par comparaison evolution"
   ]
  },
  {
   "cell_type": "code",
   "execution_count": 156,
   "metadata": {},
   "outputs": [],
   "source": [
    "otv=vi.Otv()\n",
    "chart, chart1, chart2=otv.graphQualiteComptages('coherence_evol_comptage')"
   ]
  },
  {
   "cell_type": "code",
   "execution_count": 157,
   "metadata": {},
   "outputs": [
    {
     "data": {
      "text/html": [
       "\n",
       "<div id=\"altair-viz-8a668d5d86a24fd089e601f44eedf653\"></div>\n",
       "<script type=\"text/javascript\">\n",
       "  (function(spec, embedOpt){\n",
       "    let outputDiv = document.currentScript.previousElementSibling;\n",
       "    if (outputDiv.id !== \"altair-viz-8a668d5d86a24fd089e601f44eedf653\") {\n",
       "      outputDiv = document.getElementById(\"altair-viz-8a668d5d86a24fd089e601f44eedf653\");\n",
       "    }\n",
       "    const paths = {\n",
       "      \"vega\": \"https://cdn.jsdelivr.net/npm//vega@5?noext\",\n",
       "      \"vega-lib\": \"https://cdn.jsdelivr.net/npm//vega-lib?noext\",\n",
       "      \"vega-lite\": \"https://cdn.jsdelivr.net/npm//vega-lite@4.8.1?noext\",\n",
       "      \"vega-embed\": \"https://cdn.jsdelivr.net/npm//vega-embed@6?noext\",\n",
       "    };\n",
       "\n",
       "    function loadScript(lib) {\n",
       "      return new Promise(function(resolve, reject) {\n",
       "        var s = document.createElement('script');\n",
       "        s.src = paths[lib];\n",
       "        s.async = true;\n",
       "        s.onload = () => resolve(paths[lib]);\n",
       "        s.onerror = () => reject(`Error loading script: ${paths[lib]}`);\n",
       "        document.getElementsByTagName(\"head\")[0].appendChild(s);\n",
       "      });\n",
       "    }\n",
       "\n",
       "    function showError(err) {\n",
       "      outputDiv.innerHTML = `<div class=\"error\" style=\"color:red;\">${err}</div>`;\n",
       "      throw err;\n",
       "    }\n",
       "\n",
       "    function displayChart(vegaEmbed) {\n",
       "      vegaEmbed(outputDiv, spec, embedOpt)\n",
       "        .catch(err => showError(`Javascript Error: ${err.message}<br>This usually means there's a typo in your chart specification. See the javascript console for the full traceback.`));\n",
       "    }\n",
       "\n",
       "    if(typeof define === \"function\" && define.amd) {\n",
       "      requirejs.config({paths});\n",
       "      require([\"vega-embed\"], displayChart, err => showError(`Error loading script: ${err.message}`));\n",
       "    } else if (typeof vegaEmbed === \"function\") {\n",
       "      displayChart(vegaEmbed);\n",
       "    } else {\n",
       "      loadScript(\"vega\")\n",
       "        .then(() => loadScript(\"vega-lite\"))\n",
       "        .then(() => loadScript(\"vega-embed\"))\n",
       "        .catch(showError)\n",
       "        .then(() => displayChart(vegaEmbed));\n",
       "    }\n",
       "  })({\"config\": {\"view\": {\"continuousWidth\": 400, \"continuousHeight\": 300}}, \"hconcat\": [{\"mark\": {\"type\": \"bar\", \"width\": 40}, \"encoding\": {\"color\": {\"type\": \"nominal\", \"field\": \"txt_qualite\", \"legend\": {\"title\": \"qualit\\u00e9\"}, \"sort\": [\"faible\", \"moyenne\", \"bonne\"]}, \"order\": {\"type\": \"quantitative\", \"field\": \"note_coherence_evolutions_cptage\", \"sort\": \"ascending\"}, \"x\": {\"type\": \"nominal\", \"axis\": {\"labelAngle\": 315, \"title\": \"type de poste\"}, \"field\": \"type_poste\", \"sort\": [\"ponctuel\", \"tournant\", \"permanent\"]}, \"y\": {\"type\": \"quantitative\", \"axis\": {\"format\": \"%\", \"title\": \"Nb de comptage\"}, \"field\": \"id_comptag\", \"stack\": \"normalize\"}}, \"width\": 300}, {\"mark\": {\"type\": \"bar\", \"width\": 40}, \"encoding\": {\"color\": {\"type\": \"nominal\", \"field\": \"type_poste\", \"legend\": {\"title\": \"type de poste\"}, \"sort\": [\"ponctuel\", \"tournant\", \"permanent\"]}, \"order\": {\"type\": \"quantitative\", \"field\": \"note_coherence_evolutions_cptage\", \"sort\": \"ascending\"}, \"x\": {\"type\": \"nominal\", \"axis\": {\"labelAngle\": 315, \"title\": \"qualit\\u00e9\"}, \"field\": \"txt_qualite\", \"sort\": [\"NC\", \"faible\", \"moyenne\", \"bonne\"]}, \"y\": {\"type\": \"quantitative\", \"axis\": {\"title\": \"Nb de comptage\"}, \"field\": \"id_comptag\"}}, \"width\": 300}], \"data\": {\"name\": \"data-b8aeedadd76c12d8c60fd64a38f64739\"}, \"resolve\": {\"legend\": {\"color\": \"independent\"}, \"scale\": {\"color\": \"independent\"}}, \"title\": {\"text\": [\"Coh\\u00e9rence des comptages selon l'\\u00e9volution annuelle\", \"et le type de poste\"], \"anchor\": \"middle\"}, \"$schema\": \"https://vega.github.io/schema/vega-lite/v4.8.1.json\", \"datasets\": {\"data-b8aeedadd76c12d8c60fd64a38f64739\": [{\"txt_qualite\": \"NC\", \"note_coherence_evolutions_cptage\": 0, \"type_poste\": \"permanent\", \"id_comptag\": 2618}, {\"txt_qualite\": \"NC\", \"note_coherence_evolutions_cptage\": 0, \"type_poste\": \"ponctuel\", \"id_comptag\": 6910}, {\"txt_qualite\": \"NC\", \"note_coherence_evolutions_cptage\": 0, \"type_poste\": \"tournant\", \"id_comptag\": 5637}, {\"txt_qualite\": \"bonne\", \"note_coherence_evolutions_cptage\": 3, \"type_poste\": \"permanent\", \"id_comptag\": 3722}, {\"txt_qualite\": \"bonne\", \"note_coherence_evolutions_cptage\": 3, \"type_poste\": \"ponctuel\", \"id_comptag\": 474}, {\"txt_qualite\": \"bonne\", \"note_coherence_evolutions_cptage\": 3, \"type_poste\": \"tournant\", \"id_comptag\": 1975}, {\"txt_qualite\": \"faible\", \"note_coherence_evolutions_cptage\": 1, \"type_poste\": \"permanent\", \"id_comptag\": 480}, {\"txt_qualite\": \"faible\", \"note_coherence_evolutions_cptage\": 1, \"type_poste\": \"ponctuel\", \"id_comptag\": 177}, {\"txt_qualite\": \"faible\", \"note_coherence_evolutions_cptage\": 1, \"type_poste\": \"tournant\", \"id_comptag\": 1327}, {\"txt_qualite\": \"moyenne\", \"note_coherence_evolutions_cptage\": 2, \"type_poste\": \"permanent\", \"id_comptag\": 1231}, {\"txt_qualite\": \"moyenne\", \"note_coherence_evolutions_cptage\": 2, \"type_poste\": \"ponctuel\", \"id_comptag\": 298}, {\"txt_qualite\": \"moyenne\", \"note_coherence_evolutions_cptage\": 2, \"type_poste\": \"tournant\", \"id_comptag\": 1752}]}}, {\"mode\": \"vega-lite\"});\n",
       "</script>"
      ],
      "text/plain": [
       "alt.HConcatChart(...)"
      ]
     },
     "execution_count": 157,
     "metadata": {},
     "output_type": "execute_result"
    }
   ],
   "source": [
    "chart"
   ]
  },
  {
   "cell_type": "markdown",
   "metadata": {},
   "source": [
    "> ## Analyse de la cohérence des comptage par comparaison evolution & par fonction affine"
   ]
  },
  {
   "cell_type": "code",
   "execution_count": 168,
   "metadata": {},
   "outputs": [],
   "source": [
    "otv=vi.Otv()\n",
    "tableauCoherence=otv.tableauEcartCoherencesComptages()\n",
    "chart, chart1, chart2=otv.graphQualiteComptages('coherence_comptage')"
   ]
  },
  {
   "cell_type": "code",
   "execution_count": 170,
   "metadata": {},
   "outputs": [
    {
     "data": {
      "text/html": [
       "<div>\n",
       "<style scoped>\n",
       "    .dataframe tbody tr th:only-of-type {\n",
       "        vertical-align: middle;\n",
       "    }\n",
       "\n",
       "    .dataframe tbody tr th {\n",
       "        vertical-align: top;\n",
       "    }\n",
       "\n",
       "    .dataframe thead th {\n",
       "        text-align: right;\n",
       "    }\n",
       "</style>\n",
       "<table border=\"1\" class=\"dataframe\">\n",
       "  <thead>\n",
       "    <tr style=\"text-align: right;\">\n",
       "      <th>txt_evolution</th>\n",
       "      <th>NC</th>\n",
       "      <th>faible</th>\n",
       "      <th>moyenne</th>\n",
       "      <th>bonne</th>\n",
       "    </tr>\n",
       "    <tr>\n",
       "      <th>txt_fonction_affine</th>\n",
       "      <th></th>\n",
       "      <th></th>\n",
       "      <th></th>\n",
       "      <th></th>\n",
       "    </tr>\n",
       "  </thead>\n",
       "  <tbody>\n",
       "    <tr>\n",
       "      <th>NC</th>\n",
       "      <td>12089.0</td>\n",
       "      <td>0.0</td>\n",
       "      <td>0.0</td>\n",
       "      <td>0.0</td>\n",
       "    </tr>\n",
       "    <tr>\n",
       "      <th>faible</th>\n",
       "      <td>478.0</td>\n",
       "      <td>1077.0</td>\n",
       "      <td>427.0</td>\n",
       "      <td>217.0</td>\n",
       "    </tr>\n",
       "    <tr>\n",
       "      <th>moyenne</th>\n",
       "      <td>2598.0</td>\n",
       "      <td>500.0</td>\n",
       "      <td>696.0</td>\n",
       "      <td>412.0</td>\n",
       "    </tr>\n",
       "    <tr>\n",
       "      <th>bonne</th>\n",
       "      <td>0.0</td>\n",
       "      <td>407.0</td>\n",
       "      <td>2158.0</td>\n",
       "      <td>5542.0</td>\n",
       "    </tr>\n",
       "  </tbody>\n",
       "</table>\n",
       "</div>"
      ],
      "text/plain": [
       "txt_evolution             NC  faible  moyenne   bonne\n",
       "txt_fonction_affine                                  \n",
       "NC                   12089.0     0.0      0.0     0.0\n",
       "faible                 478.0  1077.0    427.0   217.0\n",
       "moyenne               2598.0   500.0    696.0   412.0\n",
       "bonne                    0.0   407.0   2158.0  5542.0"
      ]
     },
     "execution_count": 170,
     "metadata": {},
     "output_type": "execute_result"
    }
   ],
   "source": [
    "tableauCoherence"
   ]
  },
  {
   "cell_type": "code",
   "execution_count": 171,
   "metadata": {},
   "outputs": [],
   "source": [
    "chart"
   ]
  },
  {
   "cell_type": "markdown",
   "metadata": {},
   "source": [
    "> ## ***Qualite finale des comptages***"
   ]
  },
  {
   "cell_type": "code",
   "execution_count": 33,
   "metadata": {},
   "outputs": [],
   "source": [
    "otv=vi.Otv()\n",
    "chart, chart1, chart2=otv.graphQualiteComptages('qualite_comptage')"
   ]
  },
  {
   "cell_type": "code",
   "execution_count": 34,
   "metadata": {},
   "outputs": [
    {
     "data": {
      "text/html": [
       "\n",
       "<div id=\"altair-viz-7f89c387574c474b9d90bd1fbdb47fda\"></div>\n",
       "<script type=\"text/javascript\">\n",
       "  (function(spec, embedOpt){\n",
       "    let outputDiv = document.currentScript.previousElementSibling;\n",
       "    if (outputDiv.id !== \"altair-viz-7f89c387574c474b9d90bd1fbdb47fda\") {\n",
       "      outputDiv = document.getElementById(\"altair-viz-7f89c387574c474b9d90bd1fbdb47fda\");\n",
       "    }\n",
       "    const paths = {\n",
       "      \"vega\": \"https://cdn.jsdelivr.net/npm//vega@5?noext\",\n",
       "      \"vega-lib\": \"https://cdn.jsdelivr.net/npm//vega-lib?noext\",\n",
       "      \"vega-lite\": \"https://cdn.jsdelivr.net/npm//vega-lite@4.8.1?noext\",\n",
       "      \"vega-embed\": \"https://cdn.jsdelivr.net/npm//vega-embed@6?noext\",\n",
       "    };\n",
       "\n",
       "    function loadScript(lib) {\n",
       "      return new Promise(function(resolve, reject) {\n",
       "        var s = document.createElement('script');\n",
       "        s.src = paths[lib];\n",
       "        s.async = true;\n",
       "        s.onload = () => resolve(paths[lib]);\n",
       "        s.onerror = () => reject(`Error loading script: ${paths[lib]}`);\n",
       "        document.getElementsByTagName(\"head\")[0].appendChild(s);\n",
       "      });\n",
       "    }\n",
       "\n",
       "    function showError(err) {\n",
       "      outputDiv.innerHTML = `<div class=\"error\" style=\"color:red;\">${err}</div>`;\n",
       "      throw err;\n",
       "    }\n",
       "\n",
       "    function displayChart(vegaEmbed) {\n",
       "      vegaEmbed(outputDiv, spec, embedOpt)\n",
       "        .catch(err => showError(`Javascript Error: ${err.message}<br>This usually means there's a typo in your chart specification. See the javascript console for the full traceback.`));\n",
       "    }\n",
       "\n",
       "    if(typeof define === \"function\" && define.amd) {\n",
       "      requirejs.config({paths});\n",
       "      require([\"vega-embed\"], displayChart, err => showError(`Error loading script: ${err.message}`));\n",
       "    } else if (typeof vegaEmbed === \"function\") {\n",
       "      displayChart(vegaEmbed);\n",
       "    } else {\n",
       "      loadScript(\"vega\")\n",
       "        .then(() => loadScript(\"vega-lite\"))\n",
       "        .then(() => loadScript(\"vega-embed\"))\n",
       "        .catch(showError)\n",
       "        .then(() => displayChart(vegaEmbed));\n",
       "    }\n",
       "  })({\"config\": {\"view\": {\"continuousWidth\": 400, \"continuousHeight\": 300}}, \"hconcat\": [{\"mark\": {\"type\": \"bar\", \"width\": 40}, \"encoding\": {\"color\": {\"type\": \"nominal\", \"field\": \"txt_qualite\", \"legend\": {\"title\": \"qualit\\u00e9\"}, \"sort\": [\"faible\", \"moyenne\", \"bonne\"]}, \"order\": {\"type\": \"quantitative\", \"field\": \"note_comptag_final\", \"sort\": \"ascending\"}, \"x\": {\"type\": \"nominal\", \"axis\": {\"labelAngle\": 315, \"title\": \"type de poste\"}, \"field\": \"type_poste\", \"sort\": [\"ponctuel\", \"tournant\", \"permanent\"]}, \"y\": {\"type\": \"quantitative\", \"axis\": {\"format\": \"%\", \"title\": \"Nb de comptage\"}, \"field\": \"id_comptag\", \"stack\": \"normalize\"}}, \"width\": 300}, {\"mark\": {\"type\": \"bar\", \"width\": 40}, \"encoding\": {\"color\": {\"type\": \"nominal\", \"field\": \"type_poste\", \"legend\": {\"title\": \"type de poste\"}, \"sort\": [\"ponctuel\", \"tournant\", \"permanent\"]}, \"order\": {\"type\": \"quantitative\", \"field\": \"note_comptag_final\", \"sort\": \"ascending\"}, \"x\": {\"type\": \"nominal\", \"axis\": {\"labelAngle\": 315, \"title\": \"qualit\\u00e9\"}, \"field\": \"txt_qualite\", \"sort\": [\"NC\", \"faible\", \"moyenne\", \"bonne\"]}, \"y\": {\"type\": \"quantitative\", \"axis\": {\"title\": \"Nb de comptage\"}, \"field\": \"id_comptag\"}}, \"width\": 300}], \"data\": {\"name\": \"data-101ba3c47540af89f017e4cc4d0ebc4d\"}, \"resolve\": {\"legend\": {\"color\": \"independent\"}, \"scale\": {\"color\": \"independent\"}}, \"title\": {\"text\": [\"R\\u00e9partition des comptages selon la qualit\\u00e9 globale\", \"et le type de poste\"], \"anchor\": \"middle\"}, \"$schema\": \"https://vega.github.io/schema/vega-lite/v4.8.1.json\", \"datasets\": {\"data-101ba3c47540af89f017e4cc4d0ebc4d\": [{\"txt_qualite\": \"bonne\", \"note_comptag_final\": 3, \"type_poste\": \"permanent\", \"id_comptag\": 3910}, {\"txt_qualite\": \"bonne\", \"note_comptag_final\": 3, \"type_poste\": \"tournant\", \"id_comptag\": 44}, {\"txt_qualite\": \"faible\", \"note_comptag_final\": 1, \"type_poste\": \"permanent\", \"id_comptag\": 530}, {\"txt_qualite\": \"faible\", \"note_comptag_final\": 1, \"type_poste\": \"ponctuel\", \"id_comptag\": 5619}, {\"txt_qualite\": \"faible\", \"note_comptag_final\": 1, \"type_poste\": \"tournant\", \"id_comptag\": 1471}, {\"txt_qualite\": \"moyenne\", \"note_comptag_final\": 2, \"type_poste\": \"permanent\", \"id_comptag\": 3611}, {\"txt_qualite\": \"moyenne\", \"note_comptag_final\": 2, \"type_poste\": \"ponctuel\", \"id_comptag\": 2240}, {\"txt_qualite\": \"moyenne\", \"note_comptag_final\": 2, \"type_poste\": \"tournant\", \"id_comptag\": 9176}]}}, {\"mode\": \"vega-lite\"});\n",
       "</script>"
      ],
      "text/plain": [
       "alt.HConcatChart(...)"
      ]
     },
     "execution_count": 34,
     "metadata": {},
     "output_type": "execute_result"
    }
   ],
   "source": [
    "chart"
   ]
  },
  {
   "cell_type": "markdown",
   "metadata": {},
   "source": [
    "> ## ***Analyse du nombre d'année distincte de comptage en fonction du type de poste***"
   ]
  },
  {
   "cell_type": "code",
   "execution_count": 27,
   "metadata": {},
   "outputs": [],
   "source": [
    "otv=vi.Otv()\n",
    "chart, chart1, chart2=otv.graphQualiteComptages('densite_compteur')"
   ]
  },
  {
   "cell_type": "code",
   "execution_count": 28,
   "metadata": {},
   "outputs": [
    {
     "data": {
      "text/html": [
       "\n",
       "<div id=\"altair-viz-8629dc79cc0a4fe7b80891ed58e9f5e4\"></div>\n",
       "<script type=\"text/javascript\">\n",
       "  (function(spec, embedOpt){\n",
       "    let outputDiv = document.currentScript.previousElementSibling;\n",
       "    if (outputDiv.id !== \"altair-viz-8629dc79cc0a4fe7b80891ed58e9f5e4\") {\n",
       "      outputDiv = document.getElementById(\"altair-viz-8629dc79cc0a4fe7b80891ed58e9f5e4\");\n",
       "    }\n",
       "    const paths = {\n",
       "      \"vega\": \"https://cdn.jsdelivr.net/npm//vega@5?noext\",\n",
       "      \"vega-lib\": \"https://cdn.jsdelivr.net/npm//vega-lib?noext\",\n",
       "      \"vega-lite\": \"https://cdn.jsdelivr.net/npm//vega-lite@4.8.1?noext\",\n",
       "      \"vega-embed\": \"https://cdn.jsdelivr.net/npm//vega-embed@6?noext\",\n",
       "    };\n",
       "\n",
       "    function loadScript(lib) {\n",
       "      return new Promise(function(resolve, reject) {\n",
       "        var s = document.createElement('script');\n",
       "        s.src = paths[lib];\n",
       "        s.async = true;\n",
       "        s.onload = () => resolve(paths[lib]);\n",
       "        s.onerror = () => reject(`Error loading script: ${paths[lib]}`);\n",
       "        document.getElementsByTagName(\"head\")[0].appendChild(s);\n",
       "      });\n",
       "    }\n",
       "\n",
       "    function showError(err) {\n",
       "      outputDiv.innerHTML = `<div class=\"error\" style=\"color:red;\">${err}</div>`;\n",
       "      throw err;\n",
       "    }\n",
       "\n",
       "    function displayChart(vegaEmbed) {\n",
       "      vegaEmbed(outputDiv, spec, embedOpt)\n",
       "        .catch(err => showError(`Javascript Error: ${err.message}<br>This usually means there's a typo in your chart specification. See the javascript console for the full traceback.`));\n",
       "    }\n",
       "\n",
       "    if(typeof define === \"function\" && define.amd) {\n",
       "      requirejs.config({paths});\n",
       "      require([\"vega-embed\"], displayChart, err => showError(`Error loading script: ${err.message}`));\n",
       "    } else if (typeof vegaEmbed === \"function\") {\n",
       "      displayChart(vegaEmbed);\n",
       "    } else {\n",
       "      loadScript(\"vega\")\n",
       "        .then(() => loadScript(\"vega-lite\"))\n",
       "        .then(() => loadScript(\"vega-embed\"))\n",
       "        .catch(showError)\n",
       "        .then(() => displayChart(vegaEmbed));\n",
       "    }\n",
       "  })({\"config\": {\"view\": {\"continuousWidth\": 400, \"continuousHeight\": 300}}, \"hconcat\": [{\"mark\": {\"type\": \"bar\", \"width\": 40}, \"encoding\": {\"color\": {\"type\": \"nominal\", \"field\": \"txt_qualite\", \"legend\": {\"title\": \"qualit\\u00e9\"}, \"sort\": [\"faible\", \"moyenne\", \"bonne\"]}, \"order\": {\"type\": \"quantitative\", \"field\": \"note_densite_cptg_cpteur\", \"sort\": \"ascending\"}, \"x\": {\"type\": \"nominal\", \"axis\": {\"labelAngle\": 315, \"title\": \"type de poste\"}, \"field\": \"type_poste\", \"sort\": [\"ponctuel\", \"tournant\", \"permanent\"]}, \"y\": {\"type\": \"quantitative\", \"axis\": {\"format\": \"%\", \"title\": \"Nb de comptage\"}, \"field\": \"id_comptag\", \"stack\": \"normalize\"}}, \"width\": 300}, {\"mark\": {\"type\": \"bar\", \"width\": 40}, \"encoding\": {\"color\": {\"type\": \"nominal\", \"field\": \"type_poste\", \"legend\": {\"title\": \"type de poste\"}, \"sort\": [\"ponctuel\", \"tournant\", \"permanent\"]}, \"order\": {\"type\": \"quantitative\", \"field\": \"note_densite_cptg_cpteur\", \"sort\": \"ascending\"}, \"x\": {\"type\": \"nominal\", \"axis\": {\"labelAngle\": 315, \"title\": \"qualit\\u00e9\"}, \"field\": \"txt_qualite\", \"sort\": [\"NC\", \"faible\", \"moyenne\", \"bonne\"]}, \"y\": {\"type\": \"quantitative\", \"axis\": {\"title\": \"Nb de comptage\"}, \"field\": \"id_comptag\"}}, \"width\": 300}], \"data\": {\"name\": \"data-1787605aaf71da570514af1820f55c7a\"}, \"resolve\": {\"legend\": {\"color\": \"independent\"}, \"scale\": {\"color\": \"independent\"}}, \"title\": {\"text\": [\"Densit\\u00e9 de comptage en fonction\", \"du type de poste\"], \"anchor\": \"middle\"}, \"$schema\": \"https://vega.github.io/schema/vega-lite/v4.8.1.json\", \"datasets\": {\"data-1787605aaf71da570514af1820f55c7a\": [{\"txt_qualite\": \"bonne\", \"note_densite_cptg_cpteur\": 3, \"type_poste\": \"permanent\", \"id_comptag\": 645}, {\"txt_qualite\": \"bonne\", \"note_densite_cptg_cpteur\": 3, \"type_poste\": \"ponctuel\", \"id_comptag\": 118}, {\"txt_qualite\": \"bonne\", \"note_densite_cptg_cpteur\": 3, \"type_poste\": \"tournant\", \"id_comptag\": 717}, {\"txt_qualite\": \"faible\", \"note_densite_cptg_cpteur\": 1, \"type_poste\": \"permanent\", \"id_comptag\": 331}, {\"txt_qualite\": \"faible\", \"note_densite_cptg_cpteur\": 1, \"type_poste\": \"ponctuel\", \"id_comptag\": 5734}, {\"txt_qualite\": \"faible\", \"note_densite_cptg_cpteur\": 1, \"type_poste\": \"tournant\", \"id_comptag\": 2368}, {\"txt_qualite\": \"moyenne\", \"note_densite_cptg_cpteur\": 2, \"type_poste\": \"permanent\", \"id_comptag\": 436}, {\"txt_qualite\": \"moyenne\", \"note_densite_cptg_cpteur\": 2, \"type_poste\": \"ponctuel\", \"id_comptag\": 35}, {\"txt_qualite\": \"moyenne\", \"note_densite_cptg_cpteur\": 2, \"type_poste\": \"tournant\", \"id_comptag\": 299}]}}, {\"mode\": \"vega-lite\"});\n",
       "</script>"
      ],
      "text/plain": [
       "alt.HConcatChart(...)"
      ]
     },
     "execution_count": 28,
     "metadata": {},
     "output_type": "execute_result"
    }
   ],
   "source": [
    "chart"
   ]
  },
  {
   "cell_type": "markdown",
   "metadata": {},
   "source": [
    "> ## ***Analyse de la fiabilite de la goelocalisation d'un compteur***"
   ]
  },
  {
   "cell_type": "code",
   "execution_count": 18,
   "metadata": {},
   "outputs": [],
   "source": [
    "otv=vi.Otv()\n",
    "chart, chart1, chart2=otv.graphQualiteComptages('fiabilite_geo_compteur')"
   ]
  },
  {
   "cell_type": "code",
   "execution_count": 19,
   "metadata": {},
   "outputs": [
    {
     "data": {
      "text/html": [
       "\n",
       "<div id=\"altair-viz-6c59272fcffc441a8f79ed4b8a3bcce8\"></div>\n",
       "<script type=\"text/javascript\">\n",
       "  (function(spec, embedOpt){\n",
       "    let outputDiv = document.currentScript.previousElementSibling;\n",
       "    if (outputDiv.id !== \"altair-viz-6c59272fcffc441a8f79ed4b8a3bcce8\") {\n",
       "      outputDiv = document.getElementById(\"altair-viz-6c59272fcffc441a8f79ed4b8a3bcce8\");\n",
       "    }\n",
       "    const paths = {\n",
       "      \"vega\": \"https://cdn.jsdelivr.net/npm//vega@5?noext\",\n",
       "      \"vega-lib\": \"https://cdn.jsdelivr.net/npm//vega-lib?noext\",\n",
       "      \"vega-lite\": \"https://cdn.jsdelivr.net/npm//vega-lite@4.8.1?noext\",\n",
       "      \"vega-embed\": \"https://cdn.jsdelivr.net/npm//vega-embed@6?noext\",\n",
       "    };\n",
       "\n",
       "    function loadScript(lib) {\n",
       "      return new Promise(function(resolve, reject) {\n",
       "        var s = document.createElement('script');\n",
       "        s.src = paths[lib];\n",
       "        s.async = true;\n",
       "        s.onload = () => resolve(paths[lib]);\n",
       "        s.onerror = () => reject(`Error loading script: ${paths[lib]}`);\n",
       "        document.getElementsByTagName(\"head\")[0].appendChild(s);\n",
       "      });\n",
       "    }\n",
       "\n",
       "    function showError(err) {\n",
       "      outputDiv.innerHTML = `<div class=\"error\" style=\"color:red;\">${err}</div>`;\n",
       "      throw err;\n",
       "    }\n",
       "\n",
       "    function displayChart(vegaEmbed) {\n",
       "      vegaEmbed(outputDiv, spec, embedOpt)\n",
       "        .catch(err => showError(`Javascript Error: ${err.message}<br>This usually means there's a typo in your chart specification. See the javascript console for the full traceback.`));\n",
       "    }\n",
       "\n",
       "    if(typeof define === \"function\" && define.amd) {\n",
       "      requirejs.config({paths});\n",
       "      require([\"vega-embed\"], displayChart, err => showError(`Error loading script: ${err.message}`));\n",
       "    } else if (typeof vegaEmbed === \"function\") {\n",
       "      displayChart(vegaEmbed);\n",
       "    } else {\n",
       "      loadScript(\"vega\")\n",
       "        .then(() => loadScript(\"vega-lite\"))\n",
       "        .then(() => loadScript(\"vega-embed\"))\n",
       "        .catch(showError)\n",
       "        .then(() => displayChart(vegaEmbed));\n",
       "    }\n",
       "  })({\"config\": {\"view\": {\"continuousWidth\": 400, \"continuousHeight\": 300}}, \"hconcat\": [{\"mark\": {\"type\": \"bar\", \"width\": 40}, \"encoding\": {\"color\": {\"type\": \"nominal\", \"field\": \"txt_qualite\", \"legend\": {\"title\": \"qualit\\u00e9\"}, \"sort\": [\"faible\", \"moyenne\", \"bonne\"]}, \"order\": {\"type\": \"quantitative\", \"field\": \"note_src_geo\", \"sort\": \"ascending\"}, \"x\": {\"type\": \"nominal\", \"axis\": {\"labelAngle\": 315, \"title\": \"type de poste\"}, \"field\": \"type_poste\", \"sort\": [\"ponctuel\", \"tournant\", \"permanent\"]}, \"y\": {\"type\": \"quantitative\", \"axis\": {\"format\": \"%\", \"title\": \"Nb de comptage\"}, \"field\": \"id_comptag\", \"stack\": \"normalize\"}}, \"width\": 300}, {\"mark\": {\"type\": \"bar\", \"width\": 40}, \"encoding\": {\"color\": {\"type\": \"nominal\", \"field\": \"type_poste\", \"legend\": {\"title\": \"type de poste\"}, \"sort\": [\"ponctuel\", \"tournant\", \"permanent\"]}, \"order\": {\"type\": \"quantitative\", \"field\": \"note_src_geo\", \"sort\": \"ascending\"}, \"x\": {\"type\": \"nominal\", \"axis\": {\"labelAngle\": 315, \"title\": \"qualit\\u00e9\"}, \"field\": \"txt_qualite\", \"sort\": [\"NC\", \"faible\", \"moyenne\", \"bonne\"]}, \"y\": {\"type\": \"quantitative\", \"axis\": {\"title\": \"Nb de comptage\"}, \"field\": \"id_comptag\"}}, \"width\": 300}], \"data\": {\"name\": \"data-704eafb2a7af11f98e1706bb81d3180f\"}, \"resolve\": {\"legend\": {\"color\": \"independent\"}, \"scale\": {\"color\": \"independent\"}}, \"title\": {\"text\": [\"fiabilit\\u00e9 de la g\\u00e9olocalisation du compteur\", \"selon le type de poste\"], \"anchor\": \"middle\"}, \"$schema\": \"https://vega.github.io/schema/vega-lite/v4.8.1.json\", \"datasets\": {\"data-704eafb2a7af11f98e1706bb81d3180f\": [{\"txt_qualite\": \"NC\", \"note_src_geo\": 0, \"type_poste\": \"permanent\", \"id_comptag\": 1}, {\"txt_qualite\": \"NC\", \"note_src_geo\": 0, \"type_poste\": \"ponctuel\", \"id_comptag\": 98}, {\"txt_qualite\": \"NC\", \"note_src_geo\": 0, \"type_poste\": \"tournant\", \"id_comptag\": 5}, {\"txt_qualite\": \"bonne\", \"note_src_geo\": 3, \"type_poste\": \"permanent\", \"id_comptag\": 974}, {\"txt_qualite\": \"bonne\", \"note_src_geo\": 3, \"type_poste\": \"ponctuel\", \"id_comptag\": 4112}, {\"txt_qualite\": \"bonne\", \"note_src_geo\": 3, \"type_poste\": \"tournant\", \"id_comptag\": 3104}, {\"txt_qualite\": \"faible\", \"note_src_geo\": 1, \"type_poste\": \"permanent\", \"id_comptag\": 31}, {\"txt_qualite\": \"faible\", \"note_src_geo\": 1, \"type_poste\": \"ponctuel\", \"id_comptag\": 400}, {\"txt_qualite\": \"faible\", \"note_src_geo\": 1, \"type_poste\": \"tournant\", \"id_comptag\": 29}, {\"txt_qualite\": \"moyenne\", \"note_src_geo\": 2, \"type_poste\": \"permanent\", \"id_comptag\": 423}, {\"txt_qualite\": \"moyenne\", \"note_src_geo\": 2, \"type_poste\": \"ponctuel\", \"id_comptag\": 1282}, {\"txt_qualite\": \"moyenne\", \"note_src_geo\": 2, \"type_poste\": \"tournant\", \"id_comptag\": 248}]}}, {\"mode\": \"vega-lite\"});\n",
       "</script>"
      ],
      "text/plain": [
       "alt.HConcatChart(...)"
      ]
     },
     "execution_count": 19,
     "metadata": {},
     "output_type": "execute_result"
    }
   ],
   "source": [
    "chart"
   ]
  },
  {
   "cell_type": "markdown",
   "metadata": {},
   "source": [
    "> ## ***Cohérence de l'ensemble des comptages d'un compteur***\n",
    "cf [chap 2](#2) pour rappell"
   ]
  },
  {
   "cell_type": "code",
   "execution_count": 25,
   "metadata": {},
   "outputs": [],
   "source": [
    "otv=vi.Otv()\n",
    "chart, chart1, chart2=otv.graphQualiteComptages('coherence_compteur')"
   ]
  },
  {
   "cell_type": "code",
   "execution_count": 26,
   "metadata": {},
   "outputs": [
    {
     "data": {
      "text/html": [
       "\n",
       "<div id=\"altair-viz-bad65625a5c04323ae90078fd5b3b935\"></div>\n",
       "<script type=\"text/javascript\">\n",
       "  (function(spec, embedOpt){\n",
       "    let outputDiv = document.currentScript.previousElementSibling;\n",
       "    if (outputDiv.id !== \"altair-viz-bad65625a5c04323ae90078fd5b3b935\") {\n",
       "      outputDiv = document.getElementById(\"altair-viz-bad65625a5c04323ae90078fd5b3b935\");\n",
       "    }\n",
       "    const paths = {\n",
       "      \"vega\": \"https://cdn.jsdelivr.net/npm//vega@5?noext\",\n",
       "      \"vega-lib\": \"https://cdn.jsdelivr.net/npm//vega-lib?noext\",\n",
       "      \"vega-lite\": \"https://cdn.jsdelivr.net/npm//vega-lite@4.8.1?noext\",\n",
       "      \"vega-embed\": \"https://cdn.jsdelivr.net/npm//vega-embed@6?noext\",\n",
       "    };\n",
       "\n",
       "    function loadScript(lib) {\n",
       "      return new Promise(function(resolve, reject) {\n",
       "        var s = document.createElement('script');\n",
       "        s.src = paths[lib];\n",
       "        s.async = true;\n",
       "        s.onload = () => resolve(paths[lib]);\n",
       "        s.onerror = () => reject(`Error loading script: ${paths[lib]}`);\n",
       "        document.getElementsByTagName(\"head\")[0].appendChild(s);\n",
       "      });\n",
       "    }\n",
       "\n",
       "    function showError(err) {\n",
       "      outputDiv.innerHTML = `<div class=\"error\" style=\"color:red;\">${err}</div>`;\n",
       "      throw err;\n",
       "    }\n",
       "\n",
       "    function displayChart(vegaEmbed) {\n",
       "      vegaEmbed(outputDiv, spec, embedOpt)\n",
       "        .catch(err => showError(`Javascript Error: ${err.message}<br>This usually means there's a typo in your chart specification. See the javascript console for the full traceback.`));\n",
       "    }\n",
       "\n",
       "    if(typeof define === \"function\" && define.amd) {\n",
       "      requirejs.config({paths});\n",
       "      require([\"vega-embed\"], displayChart, err => showError(`Error loading script: ${err.message}`));\n",
       "    } else if (typeof vegaEmbed === \"function\") {\n",
       "      displayChart(vegaEmbed);\n",
       "    } else {\n",
       "      loadScript(\"vega\")\n",
       "        .then(() => loadScript(\"vega-lite\"))\n",
       "        .then(() => loadScript(\"vega-embed\"))\n",
       "        .catch(showError)\n",
       "        .then(() => displayChart(vegaEmbed));\n",
       "    }\n",
       "  })({\"config\": {\"view\": {\"continuousWidth\": 400, \"continuousHeight\": 300}}, \"hconcat\": [{\"mark\": {\"type\": \"bar\", \"width\": 40}, \"encoding\": {\"color\": {\"type\": \"nominal\", \"field\": \"txt_qualite\", \"legend\": {\"title\": \"qualit\\u00e9\"}, \"sort\": [\"faible\", \"moyenne\", \"bonne\"]}, \"order\": {\"type\": \"quantitative\", \"field\": \"note_coherence_cpteur\", \"sort\": \"ascending\"}, \"x\": {\"type\": \"nominal\", \"axis\": {\"labelAngle\": 315, \"title\": \"type de poste\"}, \"field\": \"type_poste\", \"sort\": [\"ponctuel\", \"tournant\", \"permanent\"]}, \"y\": {\"type\": \"quantitative\", \"axis\": {\"format\": \"%\", \"title\": \"Nb de comptage\"}, \"field\": \"id_comptag\", \"stack\": \"normalize\"}}, \"width\": 300}, {\"mark\": {\"type\": \"bar\", \"width\": 40}, \"encoding\": {\"color\": {\"type\": \"nominal\", \"field\": \"type_poste\", \"legend\": {\"title\": \"type de poste\"}, \"sort\": [\"ponctuel\", \"tournant\", \"permanent\"]}, \"order\": {\"type\": \"quantitative\", \"field\": \"note_coherence_cpteur\", \"sort\": \"ascending\"}, \"x\": {\"type\": \"nominal\", \"axis\": {\"labelAngle\": 315, \"title\": \"qualit\\u00e9\"}, \"field\": \"txt_qualite\", \"sort\": [\"NC\", \"faible\", \"moyenne\", \"bonne\"]}, \"y\": {\"type\": \"quantitative\", \"axis\": {\"title\": \"Nb de comptage\"}, \"field\": \"id_comptag\"}}, \"width\": 300}], \"data\": {\"name\": \"data-69ba0e891149080acc72924e846d8fb7\"}, \"resolve\": {\"legend\": {\"color\": \"independent\"}, \"scale\": {\"color\": \"independent\"}}, \"title\": {\"text\": [\"coh\\u00e9rence de l'ensemble des comptages du compteur\", \"selon le type de poste\"], \"anchor\": \"middle\"}, \"$schema\": \"https://vega.github.io/schema/vega-lite/v4.8.1.json\", \"datasets\": {\"data-69ba0e891149080acc72924e846d8fb7\": [{\"txt_qualite\": \"NC\", \"note_coherence_cpteur\": 0, \"type_poste\": \"permanent\", \"id_comptag\": 331}, {\"txt_qualite\": \"NC\", \"note_coherence_cpteur\": 0, \"type_poste\": \"ponctuel\", \"id_comptag\": 5734}, {\"txt_qualite\": \"NC\", \"note_coherence_cpteur\": 0, \"type_poste\": \"tournant\", \"id_comptag\": 2368}, {\"txt_qualite\": \"bonne\", \"note_coherence_cpteur\": 3, \"type_poste\": \"permanent\", \"id_comptag\": 978}, {\"txt_qualite\": \"bonne\", \"note_coherence_cpteur\": 3, \"type_poste\": \"ponctuel\", \"id_comptag\": 117}, {\"txt_qualite\": \"bonne\", \"note_coherence_cpteur\": 3, \"type_poste\": \"tournant\", \"id_comptag\": 672}, {\"txt_qualite\": \"faible\", \"note_coherence_cpteur\": 1, \"type_poste\": \"permanent\", \"id_comptag\": 8}, {\"txt_qualite\": \"faible\", \"note_coherence_cpteur\": 1, \"type_poste\": \"ponctuel\", \"id_comptag\": 6}, {\"txt_qualite\": \"faible\", \"note_coherence_cpteur\": 1, \"type_poste\": \"tournant\", \"id_comptag\": 51}, {\"txt_qualite\": \"moyenne\", \"note_coherence_cpteur\": 2, \"type_poste\": \"permanent\", \"id_comptag\": 95}, {\"txt_qualite\": \"moyenne\", \"note_coherence_cpteur\": 2, \"type_poste\": \"ponctuel\", \"id_comptag\": 30}, {\"txt_qualite\": \"moyenne\", \"note_coherence_cpteur\": 2, \"type_poste\": \"tournant\", \"id_comptag\": 293}]}}, {\"mode\": \"vega-lite\"});\n",
       "</script>"
      ],
      "text/plain": [
       "alt.HConcatChart(...)"
      ]
     },
     "execution_count": 26,
     "metadata": {},
     "output_type": "execute_result"
    }
   ],
   "source": [
    "chart"
   ]
  },
  {
   "cell_type": "markdown",
   "metadata": {},
   "source": [
    "> ## ***Qualité finale des compteurs***"
   ]
  },
  {
   "cell_type": "code",
   "execution_count": 31,
   "metadata": {},
   "outputs": [],
   "source": [
    "otv=vi.Otv()\n",
    "chart, chart1, chart2=otv.graphQualiteComptages('qualite_compteur')"
   ]
  },
  {
   "cell_type": "code",
   "execution_count": 32,
   "metadata": {},
   "outputs": [
    {
     "data": {
      "text/html": [
       "\n",
       "<div id=\"altair-viz-66435db7477c4b0a835e6d73f77b79fb\"></div>\n",
       "<script type=\"text/javascript\">\n",
       "  (function(spec, embedOpt){\n",
       "    let outputDiv = document.currentScript.previousElementSibling;\n",
       "    if (outputDiv.id !== \"altair-viz-66435db7477c4b0a835e6d73f77b79fb\") {\n",
       "      outputDiv = document.getElementById(\"altair-viz-66435db7477c4b0a835e6d73f77b79fb\");\n",
       "    }\n",
       "    const paths = {\n",
       "      \"vega\": \"https://cdn.jsdelivr.net/npm//vega@5?noext\",\n",
       "      \"vega-lib\": \"https://cdn.jsdelivr.net/npm//vega-lib?noext\",\n",
       "      \"vega-lite\": \"https://cdn.jsdelivr.net/npm//vega-lite@4.8.1?noext\",\n",
       "      \"vega-embed\": \"https://cdn.jsdelivr.net/npm//vega-embed@6?noext\",\n",
       "    };\n",
       "\n",
       "    function loadScript(lib) {\n",
       "      return new Promise(function(resolve, reject) {\n",
       "        var s = document.createElement('script');\n",
       "        s.src = paths[lib];\n",
       "        s.async = true;\n",
       "        s.onload = () => resolve(paths[lib]);\n",
       "        s.onerror = () => reject(`Error loading script: ${paths[lib]}`);\n",
       "        document.getElementsByTagName(\"head\")[0].appendChild(s);\n",
       "      });\n",
       "    }\n",
       "\n",
       "    function showError(err) {\n",
       "      outputDiv.innerHTML = `<div class=\"error\" style=\"color:red;\">${err}</div>`;\n",
       "      throw err;\n",
       "    }\n",
       "\n",
       "    function displayChart(vegaEmbed) {\n",
       "      vegaEmbed(outputDiv, spec, embedOpt)\n",
       "        .catch(err => showError(`Javascript Error: ${err.message}<br>This usually means there's a typo in your chart specification. See the javascript console for the full traceback.`));\n",
       "    }\n",
       "\n",
       "    if(typeof define === \"function\" && define.amd) {\n",
       "      requirejs.config({paths});\n",
       "      require([\"vega-embed\"], displayChart, err => showError(`Error loading script: ${err.message}`));\n",
       "    } else if (typeof vegaEmbed === \"function\") {\n",
       "      displayChart(vegaEmbed);\n",
       "    } else {\n",
       "      loadScript(\"vega\")\n",
       "        .then(() => loadScript(\"vega-lite\"))\n",
       "        .then(() => loadScript(\"vega-embed\"))\n",
       "        .catch(showError)\n",
       "        .then(() => displayChart(vegaEmbed));\n",
       "    }\n",
       "  })({\"config\": {\"view\": {\"continuousWidth\": 400, \"continuousHeight\": 300}}, \"hconcat\": [{\"mark\": {\"type\": \"bar\", \"width\": 40}, \"encoding\": {\"color\": {\"type\": \"nominal\", \"field\": \"txt_qualite\", \"legend\": {\"title\": \"qualit\\u00e9\"}, \"sort\": [\"faible\", \"moyenne\", \"bonne\"]}, \"order\": {\"type\": \"quantitative\", \"field\": \"note_qualite_cpteur\", \"sort\": \"ascending\"}, \"x\": {\"type\": \"nominal\", \"axis\": {\"labelAngle\": 315, \"title\": \"type de poste\"}, \"field\": \"type_poste\", \"sort\": [\"ponctuel\", \"tournant\", \"permanent\"]}, \"y\": {\"type\": \"quantitative\", \"axis\": {\"format\": \"%\", \"title\": \"Nb de comptage\"}, \"field\": \"id_comptag\", \"stack\": \"normalize\"}}, \"width\": 300}, {\"mark\": {\"type\": \"bar\", \"width\": 40}, \"encoding\": {\"color\": {\"type\": \"nominal\", \"field\": \"type_poste\", \"legend\": {\"title\": \"type de poste\"}, \"sort\": [\"ponctuel\", \"tournant\", \"permanent\"]}, \"order\": {\"type\": \"quantitative\", \"field\": \"note_qualite_cpteur\", \"sort\": \"ascending\"}, \"x\": {\"type\": \"nominal\", \"axis\": {\"labelAngle\": 315, \"title\": \"qualit\\u00e9\"}, \"field\": \"txt_qualite\", \"sort\": [\"NC\", \"faible\", \"moyenne\", \"bonne\"]}, \"y\": {\"type\": \"quantitative\", \"axis\": {\"title\": \"Nb de comptage\"}, \"field\": \"id_comptag\"}}, \"width\": 300}], \"data\": {\"name\": \"data-65734fca36308fc10cfecf8950373806\"}, \"resolve\": {\"legend\": {\"color\": \"independent\"}, \"scale\": {\"color\": \"independent\"}}, \"title\": {\"text\": [\"R\\u00e9partition des compteurs selon la qualit\\u00e9 globale\", \"et le type de poste\"], \"anchor\": \"middle\"}, \"$schema\": \"https://vega.github.io/schema/vega-lite/v4.8.1.json\", \"datasets\": {\"data-65734fca36308fc10cfecf8950373806\": [{\"txt_qualite\": \"NC\", \"note_qualite_cpteur\": 0, \"type_poste\": \"permanent\", \"id_comptag\": 18}, {\"txt_qualite\": \"NC\", \"note_qualite_cpteur\": 0, \"type_poste\": \"ponctuel\", \"id_comptag\": 103}, {\"txt_qualite\": \"NC\", \"note_qualite_cpteur\": 0, \"type_poste\": \"tournant\", \"id_comptag\": 7}, {\"txt_qualite\": \"bonne\", \"note_qualite_cpteur\": 3, \"type_poste\": \"permanent\", \"id_comptag\": 968}, {\"txt_qualite\": \"bonne\", \"note_qualite_cpteur\": 3, \"type_poste\": \"ponctuel\", \"id_comptag\": 141}, {\"txt_qualite\": \"bonne\", \"note_qualite_cpteur\": 3, \"type_poste\": \"tournant\", \"id_comptag\": 840}, {\"txt_qualite\": \"faible\", \"note_qualite_cpteur\": 1, \"type_poste\": \"permanent\", \"id_comptag\": 330}, {\"txt_qualite\": \"faible\", \"note_qualite_cpteur\": 1, \"type_poste\": \"ponctuel\", \"id_comptag\": 5637}, {\"txt_qualite\": \"faible\", \"note_qualite_cpteur\": 1, \"type_poste\": \"tournant\", \"id_comptag\": 2363}, {\"txt_qualite\": \"moyenne\", \"note_qualite_cpteur\": 2, \"type_poste\": \"permanent\", \"id_comptag\": 113}, {\"txt_qualite\": \"moyenne\", \"note_qualite_cpteur\": 2, \"type_poste\": \"ponctuel\", \"id_comptag\": 11}, {\"txt_qualite\": \"moyenne\", \"note_qualite_cpteur\": 2, \"type_poste\": \"tournant\", \"id_comptag\": 176}]}}, {\"mode\": \"vega-lite\"});\n",
       "</script>"
      ],
      "text/plain": [
       "alt.HConcatChart(...)"
      ]
     },
     "execution_count": 32,
     "metadata": {},
     "output_type": "execute_result"
    }
   ],
   "source": [
    "chart"
   ]
  },
  {
   "cell_type": "markdown",
   "metadata": {
    "tags": []
   },
   "source": [
    "# **Graphs Valorisation** \n",
    "> production de graphs test en juillet 2022"
   ]
  },
  {
   "cell_type": "markdown",
   "metadata": {
    "tags": []
   },
   "source": [
    "## **Graphs bruit**"
   ]
  },
  {
   "cell_type": "code",
   "execution_count": 43,
   "metadata": {},
   "outputs": [],
   "source": [
    "# récupération des données depuis la basee de données de test\n",
    "with ct.ConnexionBdd('test_valorisation') as c:\n",
    "    dfGraphEmission = pd.read_sql('select * from donnees_produites.resultats_source_graphiques_2018', c.sqlAlchemyConn)\n",
    "# définition des variables\n",
    "id_comptag = '16-D10-40+170'\n",
    "annee = 2018\n",
    "titre = ['Emission de bruit pour le comptage', f'{id_comptag} ; annee {annee}']\n",
    "# création du graphique\n",
    "polluant1 = 'bruit'\n",
    "polluant2 = 'NOX'\n",
    "couleur1 = 'green'\n",
    "couleur2 = 'red'\n",
    "base = alt.Chart(dfGraphEmission.loc[dfGraphEmission.id_comptag == id_comptag], title=titre).encode(\n",
    "        x=alt.X('distance', title='distance (km)'))\n",
    "chartBruit = base.mark_line(color=couleur1).encode(\n",
    "                 y=alt.Y('emi', title='Niveau d\\'émission', axis=alt.Axis(labelColor=couleur1),\n",
    "                         scale=alt.Scale(zero=False)\n",
    "                         )).transform_filter(f\"datum.polluant == '{polluant1}'\") \n",
    "chartPolluant = base.mark_line(color=couleur2).encode(\n",
    "                 y=alt.Y('emi', title='Niveau d\\'émission')).transform_filter(f\"datum.polluant == '{polluant2}'\")"
   ]
  },
  {
   "cell_type": "code",
   "execution_count": 44,
   "metadata": {},
   "outputs": [
    {
     "data": {
      "text/html": [
       "\n",
       "<div id=\"altair-viz-7c9977ca659d4119b0262df2bc394224\"></div>\n",
       "<script type=\"text/javascript\">\n",
       "  var VEGA_DEBUG = (typeof VEGA_DEBUG == \"undefined\") ? {} : VEGA_DEBUG;\n",
       "  (function(spec, embedOpt){\n",
       "    let outputDiv = document.currentScript.previousElementSibling;\n",
       "    if (outputDiv.id !== \"altair-viz-7c9977ca659d4119b0262df2bc394224\") {\n",
       "      outputDiv = document.getElementById(\"altair-viz-7c9977ca659d4119b0262df2bc394224\");\n",
       "    }\n",
       "    const paths = {\n",
       "      \"vega\": \"https://cdn.jsdelivr.net/npm//vega@5?noext\",\n",
       "      \"vega-lib\": \"https://cdn.jsdelivr.net/npm//vega-lib?noext\",\n",
       "      \"vega-lite\": \"https://cdn.jsdelivr.net/npm//vega-lite@4.17.0?noext\",\n",
       "      \"vega-embed\": \"https://cdn.jsdelivr.net/npm//vega-embed@6?noext\",\n",
       "    };\n",
       "\n",
       "    function maybeLoadScript(lib, version) {\n",
       "      var key = `${lib.replace(\"-\", \"\")}_version`;\n",
       "      return (VEGA_DEBUG[key] == version) ?\n",
       "        Promise.resolve(paths[lib]) :\n",
       "        new Promise(function(resolve, reject) {\n",
       "          var s = document.createElement('script');\n",
       "          document.getElementsByTagName(\"head\")[0].appendChild(s);\n",
       "          s.async = true;\n",
       "          s.onload = () => {\n",
       "            VEGA_DEBUG[key] = version;\n",
       "            return resolve(paths[lib]);\n",
       "          };\n",
       "          s.onerror = () => reject(`Error loading script: ${paths[lib]}`);\n",
       "          s.src = paths[lib];\n",
       "        });\n",
       "    }\n",
       "\n",
       "    function showError(err) {\n",
       "      outputDiv.innerHTML = `<div class=\"error\" style=\"color:red;\">${err}</div>`;\n",
       "      throw err;\n",
       "    }\n",
       "\n",
       "    function displayChart(vegaEmbed) {\n",
       "      vegaEmbed(outputDiv, spec, embedOpt)\n",
       "        .catch(err => showError(`Javascript Error: ${err.message}<br>This usually means there's a typo in your chart specification. See the javascript console for the full traceback.`));\n",
       "    }\n",
       "\n",
       "    if(typeof define === \"function\" && define.amd) {\n",
       "      requirejs.config({paths});\n",
       "      require([\"vega-embed\"], displayChart, err => showError(`Error loading script: ${err.message}`));\n",
       "    } else {\n",
       "      maybeLoadScript(\"vega\", \"5\")\n",
       "        .then(() => maybeLoadScript(\"vega-lite\", \"4.17.0\"))\n",
       "        .then(() => maybeLoadScript(\"vega-embed\", \"6\"))\n",
       "        .catch(showError)\n",
       "        .then(() => displayChart(vegaEmbed));\n",
       "    }\n",
       "  })({\"config\": {\"view\": {\"continuousWidth\": 400, \"continuousHeight\": 300}}, \"layer\": [{\"mark\": {\"type\": \"line\", \"color\": \"green\"}, \"encoding\": {\"x\": {\"field\": \"distance\", \"title\": \"distance (km)\", \"type\": \"quantitative\"}, \"y\": {\"axis\": {\"labelColor\": \"green\"}, \"field\": \"emi\", \"title\": \"Niveau d'\\u00e9mission\", \"type\": \"quantitative\"}}, \"title\": [\"Emission de bruit pour le comptage\", \"16-D10-40+170 ; annee 2018\"], \"transform\": [{\"filter\": \"datum.polluant == 'bruit'\"}]}, {\"mark\": {\"type\": \"line\", \"color\": \"red\"}, \"encoding\": {\"x\": {\"field\": \"distance\", \"title\": \"distance (km)\", \"type\": \"quantitative\"}, \"y\": {\"field\": \"emi\", \"title\": \"Niveau d'\\u00e9mission\", \"type\": \"quantitative\"}}, \"title\": [\"Emission de bruit pour le comptage\", \"16-D10-40+170 ; annee 2018\"], \"transform\": [{\"filter\": \"datum.polluant == 'NOX'\"}]}], \"data\": {\"name\": \"data-f784c3781add48140730ea0a94178746\"}, \"resolve\": {\"scale\": {\"y\": \"independent\"}}, \"$schema\": \"https://vega.github.io/schema/vega-lite/v4.17.0.json\", \"datasets\": {\"data-f784c3781add48140730ea0a94178746\": [{\"id\": 88405, \"id_comptag\": \"16-D10-40+170\", \"annee\": \"2018\", \"id_ign\": \"TRONROUT0000000316342203\", \"seq\": -1, \"distance\": 0.0, \"polluant\": \"COVNM\", \"unite\": \"tonne\", \"emi\": null}, {\"id\": 88406, \"id_comptag\": \"16-D10-40+170\", \"annee\": \"2018\", \"id_ign\": \"TRONROUT0000000316342203\", \"seq\": -1, \"distance\": 0.0, \"polluant\": \"PM10\", \"unite\": \"tonne\", \"emi\": null}, {\"id\": 88407, \"id_comptag\": \"16-D10-40+170\", \"annee\": \"2018\", \"id_ign\": \"TRONROUT0000000316342203\", \"seq\": -1, \"distance\": 0.0, \"polluant\": \"bruit\", \"unite\": \"dB(A)\", \"emi\": null}, {\"id\": 88408, \"id_comptag\": \"16-D10-40+170\", \"annee\": \"2018\", \"id_ign\": \"TRONROUT0000000316342203\", \"seq\": -1, \"distance\": 0.0, \"polluant\": \"NOX\", \"unite\": \"tonne\", \"emi\": null}, {\"id\": 88409, \"id_comptag\": \"16-D10-40+170\", \"annee\": \"2018\", \"id_ign\": \"TRONROUT0000000316342203\", \"seq\": -1, \"distance\": 0.0, \"polluant\": \"PM2_5\", \"unite\": \"tonne\", \"emi\": null}, {\"id\": 88410, \"id_comptag\": \"16-D10-40+170\", \"annee\": \"2018\", \"id_ign\": \"TRONROUT0000000316342203\", \"seq\": 1, \"distance\": 0.0, \"polluant\": \"COVNM\", \"unite\": \"tonne\", \"emi\": 0.000254334188869908}, {\"id\": 88411, \"id_comptag\": \"16-D10-40+170\", \"annee\": \"2018\", \"id_ign\": \"TRONROUT0000000316342203\", \"seq\": 1, \"distance\": 0.0, \"polluant\": \"bruit\", \"unite\": \"dB(A)\", \"emi\": 68.88}, {\"id\": 88412, \"id_comptag\": \"16-D10-40+170\", \"annee\": \"2018\", \"id_ign\": \"TRONROUT0000000316342203\", \"seq\": 1, \"distance\": 0.0, \"polluant\": \"PM2_5\", \"unite\": \"tonne\", \"emi\": 0.000102830885377832}, {\"id\": 88413, \"id_comptag\": \"16-D10-40+170\", \"annee\": \"2018\", \"id_ign\": \"TRONROUT0000000316342203\", \"seq\": 1, \"distance\": 0.0, \"polluant\": \"NOX\", \"unite\": \"tonne\", \"emi\": 0.0018091653116788}, {\"id\": 88414, \"id_comptag\": \"16-D10-40+170\", \"annee\": \"2018\", \"id_ign\": \"TRONROUT0000000316342203\", \"seq\": 1, \"distance\": 0.0, \"polluant\": \"PM10\", \"unite\": \"tonne\", \"emi\": 0.000151292205898064}, {\"id\": 88415, \"id_comptag\": \"16-D10-40+170\", \"annee\": \"2018\", \"id_ign\": \"TRONROUT0000000316342203\", \"seq\": 2, \"distance\": 0.0, \"polluant\": \"NOX\", \"unite\": \"tonne\", \"emi\": 0.0018091653116788}, {\"id\": 88416, \"id_comptag\": \"16-D10-40+170\", \"annee\": \"2018\", \"id_ign\": \"TRONROUT0000000316342203\", \"seq\": 2, \"distance\": 0.0, \"polluant\": \"PM10\", \"unite\": \"tonne\", \"emi\": 0.000151292205898064}, {\"id\": 88417, \"id_comptag\": \"16-D10-40+170\", \"annee\": \"2018\", \"id_ign\": \"TRONROUT0000000316342203\", \"seq\": 2, \"distance\": 0.0, \"polluant\": \"COVNM\", \"unite\": \"tonne\", \"emi\": 0.000254334188869908}, {\"id\": 88418, \"id_comptag\": \"16-D10-40+170\", \"annee\": \"2018\", \"id_ign\": \"TRONROUT0000000316342203\", \"seq\": 2, \"distance\": 0.0, \"polluant\": \"PM2_5\", \"unite\": \"tonne\", \"emi\": 0.000102830885377832}, {\"id\": 88419, \"id_comptag\": \"16-D10-40+170\", \"annee\": \"2018\", \"id_ign\": \"TRONROUT0000000223484452\", \"seq\": 3, \"distance\": 0.0208050256912104, \"polluant\": \"bruit\", \"unite\": \"dB(A)\", \"emi\": 68.88}, {\"id\": 88420, \"id_comptag\": \"16-D10-40+170\", \"annee\": \"2018\", \"id_ign\": \"TRONROUT0000000223484452\", \"seq\": -1, \"distance\": 0.0208050256912104, \"polluant\": \"PM10\", \"unite\": \"tonne\", \"emi\": 0.000151292205898064}, {\"id\": 88421, \"id_comptag\": \"16-D10-40+170\", \"annee\": \"2018\", \"id_ign\": \"TRONROUT0000000223484452\", \"seq\": -1, \"distance\": 0.0208050256912104, \"polluant\": \"PM2_5\", \"unite\": \"tonne\", \"emi\": 0.000102830885377832}, {\"id\": 88422, \"id_comptag\": \"16-D10-40+170\", \"annee\": \"2018\", \"id_ign\": \"TRONROUT0000000223484452\", \"seq\": -1, \"distance\": 0.0208050256912104, \"polluant\": \"COVNM\", \"unite\": \"tonne\", \"emi\": 0.000254334188869908}, {\"id\": 88423, \"id_comptag\": \"16-D10-40+170\", \"annee\": \"2018\", \"id_ign\": \"TRONROUT0000000223484452\", \"seq\": -1, \"distance\": 0.0208050256912104, \"polluant\": \"NOX\", \"unite\": \"tonne\", \"emi\": 0.0018091653116788}, {\"id\": 88424, \"id_comptag\": \"16-D10-40+170\", \"annee\": \"2018\", \"id_ign\": \"TRONROUT0000000223484452\", \"seq\": 2, \"distance\": 0.0208050256912104, \"polluant\": \"COVNM\", \"unite\": \"tonne\", \"emi\": 0.000547304584260463}, {\"id\": 88425, \"id_comptag\": \"16-D10-40+170\", \"annee\": \"2018\", \"id_ign\": \"TRONROUT0000000223484452\", \"seq\": 2, \"distance\": 0.0208050256912104, \"polluant\": \"NOX\", \"unite\": \"tonne\", \"emi\": 0.00389316305906982}, {\"id\": 88426, \"id_comptag\": \"16-D10-40+170\", \"annee\": \"2018\", \"id_ign\": \"TRONROUT0000000223484452\", \"seq\": 2, \"distance\": 0.0208050256912104, \"polluant\": \"PM10\", \"unite\": \"tonne\", \"emi\": 0.000325567389185109}, {\"id\": 88427, \"id_comptag\": \"16-D10-40+170\", \"annee\": \"2018\", \"id_ign\": \"TRONROUT0000000223484452\", \"seq\": 2, \"distance\": 0.0208050256912104, \"polluant\": \"PM2_5\", \"unite\": \"tonne\", \"emi\": 0.000221282931802916}, {\"id\": 88428, \"id_comptag\": \"16-D10-40+170\", \"annee\": \"2018\", \"id_ign\": \"TRONROUT0000000223484452\", \"seq\": 3, \"distance\": 0.0208050256912104, \"polluant\": \"NOX\", \"unite\": \"tonne\", \"emi\": 0.00389316305906982}, {\"id\": 88429, \"id_comptag\": \"16-D10-40+170\", \"annee\": \"2018\", \"id_ign\": \"TRONROUT0000000223484452\", \"seq\": 3, \"distance\": 0.0208050256912104, \"polluant\": \"PM2_5\", \"unite\": \"tonne\", \"emi\": 0.000221282931802916}, {\"id\": 88430, \"id_comptag\": \"16-D10-40+170\", \"annee\": \"2018\", \"id_ign\": \"TRONROUT0000000223484452\", \"seq\": 3, \"distance\": 0.0208050256912104, \"polluant\": \"PM10\", \"unite\": \"tonne\", \"emi\": 0.000325567389185109}, {\"id\": 88431, \"id_comptag\": \"16-D10-40+170\", \"annee\": \"2018\", \"id_ign\": \"TRONROUT0000000223484452\", \"seq\": 3, \"distance\": 0.0208050256912104, \"polluant\": \"COVNM\", \"unite\": \"tonne\", \"emi\": 0.000547304584260463}, {\"id\": 88432, \"id_comptag\": \"16-D10-40+170\", \"annee\": \"2018\", \"id_ign\": \"TRONROUT0000000223484454\", \"seq\": -1, \"distance\": 0.0655755930579141, \"polluant\": \"bruit\", \"unite\": \"dB(A)\", \"emi\": 68.88}, {\"id\": 88433, \"id_comptag\": \"16-D10-40+170\", \"annee\": \"2018\", \"id_ign\": \"TRONROUT0000000223484454\", \"seq\": 3, \"distance\": 0.0655755930579141, \"polluant\": \"bruit\", \"unite\": \"dB(A)\", \"emi\": 72.61}, {\"id\": 88434, \"id_comptag\": \"16-D10-40+170\", \"annee\": \"2018\", \"id_ign\": \"TRONROUT0000000223484454\", \"seq\": 4, \"distance\": 0.0655755930579141, \"polluant\": \"bruit\", \"unite\": \"dB(A)\", \"emi\": 72.61}, {\"id\": 88435, \"id_comptag\": \"16-D10-40+170\", \"annee\": \"2018\", \"id_ign\": \"TRONROUT0000000223484454\", \"seq\": -1, \"distance\": 0.0655755930579141, \"polluant\": \"PM2_5\", \"unite\": \"tonne\", \"emi\": 0.000221282931802916}, {\"id\": 88436, \"id_comptag\": \"16-D10-40+170\", \"annee\": \"2018\", \"id_ign\": \"TRONROUT0000000223484454\", \"seq\": -1, \"distance\": 0.0655755930579141, \"polluant\": \"PM10\", \"unite\": \"tonne\", \"emi\": 0.000325567389185109}, {\"id\": 88437, \"id_comptag\": \"16-D10-40+170\", \"annee\": \"2018\", \"id_ign\": \"TRONROUT0000000223484454\", \"seq\": -1, \"distance\": 0.0655755930579141, \"polluant\": \"NOX\", \"unite\": \"tonne\", \"emi\": 0.00389316305906982}, {\"id\": 88438, \"id_comptag\": \"16-D10-40+170\", \"annee\": \"2018\", \"id_ign\": \"TRONROUT0000000223484454\", \"seq\": -1, \"distance\": 0.0655755930579141, \"polluant\": \"COVNM\", \"unite\": \"tonne\", \"emi\": 0.000547304584260463}, {\"id\": 88439, \"id_comptag\": \"16-D10-40+170\", \"annee\": \"2018\", \"id_ign\": \"TRONROUT0000000223484454\", \"seq\": 3, \"distance\": 0.0655755930579141, \"polluant\": \"PM2_5\", \"unite\": \"tonne\", \"emi\": 0.00264852643566197}, {\"id\": 88440, \"id_comptag\": \"16-D10-40+170\", \"annee\": \"2018\", \"id_ign\": \"TRONROUT0000000223484454\", \"seq\": 3, \"distance\": 0.0655755930579141, \"polluant\": \"PM10\", \"unite\": \"tonne\", \"emi\": 0.00377432562619965}, {\"id\": 88441, \"id_comptag\": \"16-D10-40+170\", \"annee\": \"2018\", \"id_ign\": \"TRONROUT0000000223484454\", \"seq\": 3, \"distance\": 0.0655755930579141, \"polluant\": \"NOX\", \"unite\": \"tonne\", \"emi\": 0.0490165613778242}, {\"id\": 88442, \"id_comptag\": \"16-D10-40+170\", \"annee\": \"2018\", \"id_ign\": \"TRONROUT0000000223484454\", \"seq\": 3, \"distance\": 0.0655755930579141, \"polluant\": \"COVNM\", \"unite\": \"tonne\", \"emi\": 0.00476755330543077}, {\"id\": 88443, \"id_comptag\": \"16-D10-40+170\", \"annee\": \"2018\", \"id_ign\": \"TRONROUT0000000223484454\", \"seq\": 4, \"distance\": 0.0655755930579141, \"polluant\": \"NOX\", \"unite\": \"tonne\", \"emi\": 0.0490165613778242}, {\"id\": 88444, \"id_comptag\": \"16-D10-40+170\", \"annee\": \"2018\", \"id_ign\": \"TRONROUT0000000223484454\", \"seq\": 4, \"distance\": 0.0655755930579141, \"polluant\": \"PM10\", \"unite\": \"tonne\", \"emi\": 0.00377432562619965}, {\"id\": 88445, \"id_comptag\": \"16-D10-40+170\", \"annee\": \"2018\", \"id_ign\": \"TRONROUT0000000223484454\", \"seq\": 4, \"distance\": 0.0655755930579141, \"polluant\": \"COVNM\", \"unite\": \"tonne\", \"emi\": 0.00476755330543077}, {\"id\": 88446, \"id_comptag\": \"16-D10-40+170\", \"annee\": \"2018\", \"id_ign\": \"TRONROUT0000000223484454\", \"seq\": 4, \"distance\": 0.0655755930579141, \"polluant\": \"PM2_5\", \"unite\": \"tonne\", \"emi\": 0.00264852643566197}, {\"id\": 88447, \"id_comptag\": \"16-D10-40+170\", \"annee\": \"2018\", \"id_ign\": \"TRONROUT0000000041491734\", \"seq\": -1, \"distance\": 0.380681856274276, \"polluant\": \"bruit\", \"unite\": \"dB(A)\", \"emi\": 72.61}, {\"id\": 88448, \"id_comptag\": \"16-D10-40+170\", \"annee\": \"2018\", \"id_ign\": \"TRONROUT0000000041491734\", \"seq\": 4, \"distance\": 0.380681856274276, \"polluant\": \"bruit\", \"unite\": \"dB(A)\", \"emi\": 68.88}, {\"id\": 88449, \"id_comptag\": \"16-D10-40+170\", \"annee\": \"2018\", \"id_ign\": \"TRONROUT0000000041491734\", \"seq\": -1, \"distance\": 0.380681856274276, \"polluant\": \"PM2_5\", \"unite\": \"tonne\", \"emi\": 0.00264852643566197}, {\"id\": 88450, \"id_comptag\": \"16-D10-40+170\", \"annee\": \"2018\", \"id_ign\": \"TRONROUT0000000041491734\", \"seq\": -1, \"distance\": 0.380681856274276, \"polluant\": \"PM10\", \"unite\": \"tonne\", \"emi\": 0.00377432562619965}, {\"id\": 88451, \"id_comptag\": \"16-D10-40+170\", \"annee\": \"2018\", \"id_ign\": \"TRONROUT0000000041491734\", \"seq\": -1, \"distance\": 0.380681856274276, \"polluant\": \"COVNM\", \"unite\": \"tonne\", \"emi\": 0.00476755330543077}, {\"id\": 88452, \"id_comptag\": \"16-D10-40+170\", \"annee\": \"2018\", \"id_ign\": \"TRONROUT0000000041491734\", \"seq\": -1, \"distance\": 0.380681856274276, \"polluant\": \"NOX\", \"unite\": \"tonne\", \"emi\": 0.0490165613778242}, {\"id\": 88453, \"id_comptag\": \"16-D10-40+170\", \"annee\": \"2018\", \"id_ign\": \"TRONROUT0000000041491734\", \"seq\": 4, \"distance\": 0.380681856274276, \"polluant\": \"COVNM\", \"unite\": \"tonne\", \"emi\": 0.00225105480575802}, {\"id\": 88454, \"id_comptag\": \"16-D10-40+170\", \"annee\": \"2018\", \"id_ign\": \"TRONROUT0000000041491734\", \"seq\": 4, \"distance\": 0.380681856274276, \"polluant\": \"PM10\", \"unite\": \"tonne\", \"emi\": 0.0017820910003616}, {\"id\": 88455, \"id_comptag\": \"16-D10-40+170\", \"annee\": \"2018\", \"id_ign\": \"TRONROUT0000000041491734\", \"seq\": 4, \"distance\": 0.380681856274276, \"polluant\": \"NOX\", \"unite\": \"tonne\", \"emi\": 0.0231437299139573}, {\"id\": 88456, \"id_comptag\": \"16-D10-40+170\", \"annee\": \"2018\", \"id_ign\": \"TRONROUT0000000041491734\", \"seq\": 4, \"distance\": 0.380681856274276, \"polluant\": \"PM2_5\", \"unite\": \"tonne\", \"emi\": 0.00125053204006816}, {\"id\": 88457, \"id_comptag\": \"16-D10-40+170\", \"annee\": \"2018\", \"id_ign\": \"TRONROUT0000000041491734\", \"seq\": 5, \"distance\": 0.380681856274276, \"polluant\": \"NOX\", \"unite\": \"tonne\", \"emi\": 0.0231437299139573}, {\"id\": 88458, \"id_comptag\": \"16-D10-40+170\", \"annee\": \"2018\", \"id_ign\": \"TRONROUT0000000041491734\", \"seq\": 5, \"distance\": 0.380681856274276, \"polluant\": \"PM2_5\", \"unite\": \"tonne\", \"emi\": 0.00125053204006816}, {\"id\": 88459, \"id_comptag\": \"16-D10-40+170\", \"annee\": \"2018\", \"id_ign\": \"TRONROUT0000000041491734\", \"seq\": 5, \"distance\": 0.380681856274276, \"polluant\": \"PM10\", \"unite\": \"tonne\", \"emi\": 0.0017820910003616}, {\"id\": 88460, \"id_comptag\": \"16-D10-40+170\", \"annee\": \"2018\", \"id_ign\": \"TRONROUT0000000041491734\", \"seq\": 5, \"distance\": 0.380681856274276, \"polluant\": \"COVNM\", \"unite\": \"tonne\", \"emi\": 0.00225105480575802}, {\"id\": 88461, \"id_comptag\": \"16-D10-40+170\", \"annee\": \"2018\", \"id_ign\": \"TRONROUT0000000041492765\", \"seq\": -1, \"distance\": 0.529462881402962, \"polluant\": \"PM2_5\", \"unite\": \"tonne\", \"emi\": 0.00125053204006816}, {\"id\": 88462, \"id_comptag\": \"16-D10-40+170\", \"annee\": \"2018\", \"id_ign\": \"TRONROUT0000000041492765\", \"seq\": -1, \"distance\": 0.529462881402962, \"polluant\": \"PM10\", \"unite\": \"tonne\", \"emi\": 0.0017820910003616}, {\"id\": 88463, \"id_comptag\": \"16-D10-40+170\", \"annee\": \"2018\", \"id_ign\": \"TRONROUT0000000041492765\", \"seq\": -1, \"distance\": 0.529462881402962, \"polluant\": \"COVNM\", \"unite\": \"tonne\", \"emi\": 0.00225105480575802}, {\"id\": 88464, \"id_comptag\": \"16-D10-40+170\", \"annee\": \"2018\", \"id_ign\": \"TRONROUT0000000041492765\", \"seq\": -1, \"distance\": 0.529462881402962, \"polluant\": \"NOX\", \"unite\": \"tonne\", \"emi\": 0.0231437299139573}, {\"id\": 88465, \"id_comptag\": \"16-D10-40+170\", \"annee\": \"2018\", \"id_ign\": \"TRONROUT0000000041492765\", \"seq\": 5, \"distance\": 0.529462881402962, \"polluant\": \"COVNM\", \"unite\": \"tonne\", \"emi\": 0.00697735921021834}, {\"id\": 88466, \"id_comptag\": \"16-D10-40+170\", \"annee\": \"2018\", \"id_ign\": \"TRONROUT0000000041492765\", \"seq\": 5, \"distance\": 0.529462881402962, \"polluant\": \"PM10\", \"unite\": \"tonne\", \"emi\": 0.00552834343848827}, {\"id\": 88467, \"id_comptag\": \"16-D10-40+170\", \"annee\": \"2018\", \"id_ign\": \"TRONROUT0000000041492765\", \"seq\": 5, \"distance\": 0.529462881402962, \"polluant\": \"PM2_5\", \"unite\": \"tonne\", \"emi\": 0.00388119859581299}, {\"id\": 88468, \"id_comptag\": \"16-D10-40+170\", \"annee\": \"2018\", \"id_ign\": \"TRONROUT0000000041492765\", \"seq\": 5, \"distance\": 0.529462881402962, \"polluant\": \"NOX\", \"unite\": \"tonne\", \"emi\": 0.0726349073432241}, {\"id\": 88469, \"id_comptag\": \"16-D10-40+170\", \"annee\": \"2018\", \"id_ign\": \"TRONROUT0000000041492765\", \"seq\": 6, \"distance\": 0.529462881402962, \"polluant\": \"PM10\", \"unite\": \"tonne\", \"emi\": 0.00552834343848827}, {\"id\": 88470, \"id_comptag\": \"16-D10-40+170\", \"annee\": \"2018\", \"id_ign\": \"TRONROUT0000000041492765\", \"seq\": 6, \"distance\": 0.529462881402962, \"polluant\": \"PM2_5\", \"unite\": \"tonne\", \"emi\": 0.00388119859581299}, {\"id\": 88471, \"id_comptag\": \"16-D10-40+170\", \"annee\": \"2018\", \"id_ign\": \"TRONROUT0000000041492765\", \"seq\": 6, \"distance\": 0.529462881402962, \"polluant\": \"NOX\", \"unite\": \"tonne\", \"emi\": 0.0726349073432241}, {\"id\": 88472, \"id_comptag\": \"16-D10-40+170\", \"annee\": \"2018\", \"id_ign\": \"TRONROUT0000000041492765\", \"seq\": 6, \"distance\": 0.529462881402962, \"polluant\": \"COVNM\", \"unite\": \"tonne\", \"emi\": 0.00697735921021834}, {\"id\": 88473, \"id_comptag\": \"16-D10-40+170\", \"annee\": \"2018\", \"id_ign\": \"TRONROUT0000000041492764\", \"seq\": 7, \"distance\": 0.990491509522354, \"polluant\": \"bruit\", \"unite\": \"dB(A)\", \"emi\": 68.88}, {\"id\": 88474, \"id_comptag\": \"16-D10-40+170\", \"annee\": \"2018\", \"id_ign\": \"TRONROUT0000000041492764\", \"seq\": -1, \"distance\": 0.990491509522354, \"polluant\": \"NOX\", \"unite\": \"tonne\", \"emi\": 0.0726349073432241}, {\"id\": 88475, \"id_comptag\": \"16-D10-40+170\", \"annee\": \"2018\", \"id_ign\": \"TRONROUT0000000041492764\", \"seq\": -1, \"distance\": 0.990491509522354, \"polluant\": \"PM2_5\", \"unite\": \"tonne\", \"emi\": 0.00388119859581299}, {\"id\": 88476, \"id_comptag\": \"16-D10-40+170\", \"annee\": \"2018\", \"id_ign\": \"TRONROUT0000000041492764\", \"seq\": -1, \"distance\": 0.990491509522354, \"polluant\": \"COVNM\", \"unite\": \"tonne\", \"emi\": 0.00697735921021834}, {\"id\": 88477, \"id_comptag\": \"16-D10-40+170\", \"annee\": \"2018\", \"id_ign\": \"TRONROUT0000000041492764\", \"seq\": -1, \"distance\": 0.990491509522354, \"polluant\": \"PM10\", \"unite\": \"tonne\", \"emi\": 0.00552834343848827}, {\"id\": 88478, \"id_comptag\": \"16-D10-40+170\", \"annee\": \"2018\", \"id_ign\": \"TRONROUT0000000041492764\", \"seq\": 6, \"distance\": 0.990491509522354, \"polluant\": \"PM2_5\", \"unite\": \"tonne\", \"emi\": 0.00209482468678338}, {\"id\": 88479, \"id_comptag\": \"16-D10-40+170\", \"annee\": \"2018\", \"id_ign\": \"TRONROUT0000000041492764\", \"seq\": 6, \"distance\": 0.990491509522354, \"polluant\": \"NOX\", \"unite\": \"tonne\", \"emi\": 0.0387691440239805}, {\"id\": 88480, \"id_comptag\": \"16-D10-40+170\", \"annee\": \"2018\", \"id_ign\": \"TRONROUT0000000041492764\", \"seq\": 6, \"distance\": 0.990491509522354, \"polluant\": \"PM10\", \"unite\": \"tonne\", \"emi\": 0.00298526395329183}, {\"id\": 88481, \"id_comptag\": \"16-D10-40+170\", \"annee\": \"2018\", \"id_ign\": \"TRONROUT0000000041492764\", \"seq\": 6, \"distance\": 0.990491509522354, \"polluant\": \"COVNM\", \"unite\": \"tonne\", \"emi\": 0.00377084714930396}, {\"id\": 88482, \"id_comptag\": \"16-D10-40+170\", \"annee\": \"2018\", \"id_ign\": \"TRONROUT0000000041492764\", \"seq\": 7, \"distance\": 0.990491509522354, \"polluant\": \"PM10\", \"unite\": \"tonne\", \"emi\": 0.00298526395329183}, {\"id\": 88483, \"id_comptag\": \"16-D10-40+170\", \"annee\": \"2018\", \"id_ign\": \"TRONROUT0000000041492764\", \"seq\": 7, \"distance\": 0.990491509522354, \"polluant\": \"NOX\", \"unite\": \"tonne\", \"emi\": 0.0387691440239805}, {\"id\": 88484, \"id_comptag\": \"16-D10-40+170\", \"annee\": \"2018\", \"id_ign\": \"TRONROUT0000000041492764\", \"seq\": 7, \"distance\": 0.990491509522354, \"polluant\": \"PM2_5\", \"unite\": \"tonne\", \"emi\": 0.00209482468678338}, {\"id\": 88485, \"id_comptag\": \"16-D10-40+170\", \"annee\": \"2018\", \"id_ign\": \"TRONROUT0000000041492764\", \"seq\": 7, \"distance\": 0.990491509522354, \"polluant\": \"COVNM\", \"unite\": \"tonne\", \"emi\": 0.00377084714930396}, {\"id\": 88486, \"id_comptag\": \"16-D10-40+170\", \"annee\": \"2018\", \"id_ign\": \"TRONROUT0000000041492768\", \"seq\": -1, \"distance\": 1.23972156071522, \"polluant\": \"bruit\", \"unite\": \"dB(A)\", \"emi\": 68.88}, {\"id\": 88487, \"id_comptag\": \"16-D10-40+170\", \"annee\": \"2018\", \"id_ign\": \"TRONROUT0000000041492768\", \"seq\": 7, \"distance\": 1.23972156071522, \"polluant\": \"bruit\", \"unite\": \"dB(A)\", \"emi\": 72.61}, {\"id\": 88488, \"id_comptag\": \"16-D10-40+170\", \"annee\": \"2018\", \"id_ign\": \"TRONROUT0000000041492768\", \"seq\": 8, \"distance\": 1.23972156071522, \"polluant\": \"bruit\", \"unite\": \"dB(A)\", \"emi\": 72.61}, {\"id\": 88489, \"id_comptag\": \"16-D10-40+170\", \"annee\": \"2018\", \"id_ign\": \"TRONROUT0000000041492768\", \"seq\": -1, \"distance\": 1.23972156071522, \"polluant\": \"COVNM\", \"unite\": \"tonne\", \"emi\": 0.00377084714930396}, {\"id\": 88490, \"id_comptag\": \"16-D10-40+170\", \"annee\": \"2018\", \"id_ign\": \"TRONROUT0000000041492768\", \"seq\": -1, \"distance\": 1.23972156071522, \"polluant\": \"PM10\", \"unite\": \"tonne\", \"emi\": 0.00298526395329183}, {\"id\": 88491, \"id_comptag\": \"16-D10-40+170\", \"annee\": \"2018\", \"id_ign\": \"TRONROUT0000000041492768\", \"seq\": -1, \"distance\": 1.23972156071522, \"polluant\": \"PM2_5\", \"unite\": \"tonne\", \"emi\": 0.00209482468678338}, {\"id\": 88492, \"id_comptag\": \"16-D10-40+170\", \"annee\": \"2018\", \"id_ign\": \"TRONROUT0000000041492768\", \"seq\": -1, \"distance\": 1.23972156071522, \"polluant\": \"NOX\", \"unite\": \"tonne\", \"emi\": 0.0387691440239805}, {\"id\": 88493, \"id_comptag\": \"16-D10-40+170\", \"annee\": \"2018\", \"id_ign\": \"TRONROUT0000000041492768\", \"seq\": 7, \"distance\": 1.23972156071522, \"polluant\": \"PM10\", \"unite\": \"tonne\", \"emi\": 0.00128966973292181}, {\"id\": 88494, \"id_comptag\": \"16-D10-40+170\", \"annee\": \"2018\", \"id_ign\": \"TRONROUT0000000041492768\", \"seq\": 7, \"distance\": 1.23972156071522, \"polluant\": \"NOX\", \"unite\": \"tonne\", \"emi\": 0.0167487339147617}, {\"id\": 88495, \"id_comptag\": \"16-D10-40+170\", \"annee\": \"2018\", \"id_ign\": \"TRONROUT0000000041492768\", \"seq\": 7, \"distance\": 1.23972156071522, \"polluant\": \"PM2_5\", \"unite\": \"tonne\", \"emi\": 0.00090498931973599}, {\"id\": 88496, \"id_comptag\": \"16-D10-40+170\", \"annee\": \"2018\", \"id_ign\": \"TRONROUT0000000041492768\", \"seq\": 7, \"distance\": 1.23972156071522, \"polluant\": \"COVNM\", \"unite\": \"tonne\", \"emi\": 0.00162905106952746}, {\"id\": 88497, \"id_comptag\": \"16-D10-40+170\", \"annee\": \"2018\", \"id_ign\": \"TRONROUT0000000041492768\", \"seq\": 8, \"distance\": 1.23972156071522, \"polluant\": \"NOX\", \"unite\": \"tonne\", \"emi\": 0.0167487339147617}, {\"id\": 88498, \"id_comptag\": \"16-D10-40+170\", \"annee\": \"2018\", \"id_ign\": \"TRONROUT0000000041492768\", \"seq\": 8, \"distance\": 1.23972156071522, \"polluant\": \"PM2_5\", \"unite\": \"tonne\", \"emi\": 0.00090498931973599}, {\"id\": 88499, \"id_comptag\": \"16-D10-40+170\", \"annee\": \"2018\", \"id_ign\": \"TRONROUT0000000041492768\", \"seq\": 8, \"distance\": 1.23972156071522, \"polluant\": \"COVNM\", \"unite\": \"tonne\", \"emi\": 0.00162905106952746}, {\"id\": 88500, \"id_comptag\": \"16-D10-40+170\", \"annee\": \"2018\", \"id_ign\": \"TRONROUT0000000041492768\", \"seq\": 8, \"distance\": 1.23972156071522, \"polluant\": \"PM10\", \"unite\": \"tonne\", \"emi\": 0.00128966973292181}, {\"id\": 88501, \"id_comptag\": \"16-D10-40+170\", \"annee\": \"2018\", \"id_ign\": \"TRONROUT0000000041492774\", \"seq\": -1, \"distance\": 1.34739192373407, \"polluant\": \"PM10\", \"unite\": \"tonne\", \"emi\": 0.00128966973292181}, {\"id\": 88502, \"id_comptag\": \"16-D10-40+170\", \"annee\": \"2018\", \"id_ign\": \"TRONROUT0000000041492774\", \"seq\": -1, \"distance\": 1.34739192373407, \"polluant\": \"NOX\", \"unite\": \"tonne\", \"emi\": 0.0167487339147617}, {\"id\": 88503, \"id_comptag\": \"16-D10-40+170\", \"annee\": \"2018\", \"id_ign\": \"TRONROUT0000000041492774\", \"seq\": -1, \"distance\": 1.34739192373407, \"polluant\": \"COVNM\", \"unite\": \"tonne\", \"emi\": 0.00162905106952746}, {\"id\": 88504, \"id_comptag\": \"16-D10-40+170\", \"annee\": \"2018\", \"id_ign\": \"TRONROUT0000000041492774\", \"seq\": -1, \"distance\": 1.34739192373407, \"polluant\": \"PM2_5\", \"unite\": \"tonne\", \"emi\": 0.00090498931973599}, {\"id\": 88505, \"id_comptag\": \"16-D10-40+170\", \"annee\": \"2018\", \"id_ign\": \"TRONROUT0000000041492774\", \"seq\": 8, \"distance\": 1.34739192373407, \"polluant\": \"NOX\", \"unite\": \"tonne\", \"emi\": 0.0225829835629517}, {\"id\": 88506, \"id_comptag\": \"16-D10-40+170\", \"annee\": \"2018\", \"id_ign\": \"TRONROUT0000000041492774\", \"seq\": 8, \"distance\": 1.34739192373407, \"polluant\": \"PM10\", \"unite\": \"tonne\", \"emi\": 0.00175661507651672}, {\"id\": 88507, \"id_comptag\": \"16-D10-40+170\", \"annee\": \"2018\", \"id_ign\": \"TRONROUT0000000041492774\", \"seq\": 8, \"distance\": 1.34739192373407, \"polluant\": \"PM2_5\", \"unite\": \"tonne\", \"emi\": 0.00123234332672894}, {\"id\": 88508, \"id_comptag\": \"16-D10-40+170\", \"annee\": \"2018\", \"id_ign\": \"TRONROUT0000000041492774\", \"seq\": 8, \"distance\": 1.34739192373407, \"polluant\": \"COVNM\", \"unite\": \"tonne\", \"emi\": 0.00222529683552106}, {\"id\": 88509, \"id_comptag\": \"16-D10-40+170\", \"annee\": \"2018\", \"id_ign\": \"TRONROUT0000000041492774\", \"seq\": 9, \"distance\": 1.34739192373407, \"polluant\": \"COVNM\", \"unite\": \"tonne\", \"emi\": 0.00222529683552106}, {\"id\": 88510, \"id_comptag\": \"16-D10-40+170\", \"annee\": \"2018\", \"id_ign\": \"TRONROUT0000000041492774\", \"seq\": 9, \"distance\": 1.34739192373407, \"polluant\": \"PM10\", \"unite\": \"tonne\", \"emi\": 0.00175661507651672}, {\"id\": 88511, \"id_comptag\": \"16-D10-40+170\", \"annee\": \"2018\", \"id_ign\": \"TRONROUT0000000041492774\", \"seq\": 9, \"distance\": 1.34739192373407, \"polluant\": \"NOX\", \"unite\": \"tonne\", \"emi\": 0.0225829835629517}, {\"id\": 88512, \"id_comptag\": \"16-D10-40+170\", \"annee\": \"2018\", \"id_ign\": \"TRONROUT0000000041492774\", \"seq\": 9, \"distance\": 1.34739192373407, \"polluant\": \"PM2_5\", \"unite\": \"tonne\", \"emi\": 0.00123234332672894}, {\"id\": 88513, \"id_comptag\": \"16-D10-40+170\", \"annee\": \"2018\", \"id_ign\": \"TRONROUT0000000041493658\", \"seq\": -1, \"distance\": 1.49413329055512, \"polluant\": \"bruit\", \"unite\": \"dB(A)\", \"emi\": null}, {\"id\": 88514, \"id_comptag\": \"16-D10-40+170\", \"annee\": \"2018\", \"id_ign\": \"TRONROUT0000000041493658\", \"seq\": 9, \"distance\": 1.49413329055512, \"polluant\": \"bruit\", \"unite\": \"dB(A)\", \"emi\": 72.61}, {\"id\": 88515, \"id_comptag\": \"16-D10-40+170\", \"annee\": \"2018\", \"id_ign\": \"TRONROUT0000000041493658\", \"seq\": 10, \"distance\": 1.49413329055512, \"polluant\": \"bruit\", \"unite\": \"dB(A)\", \"emi\": 72.61}, {\"id\": 88516, \"id_comptag\": \"16-D10-40+170\", \"annee\": \"2018\", \"id_ign\": \"TRONROUT0000000041493658\", \"seq\": -1, \"distance\": 1.49413329055512, \"polluant\": \"COVNM\", \"unite\": \"tonne\", \"emi\": 0.00222529683552106}, {\"id\": 88517, \"id_comptag\": \"16-D10-40+170\", \"annee\": \"2018\", \"id_ign\": \"TRONROUT0000000041493658\", \"seq\": -1, \"distance\": 1.49413329055512, \"polluant\": \"PM2_5\", \"unite\": \"tonne\", \"emi\": 0.00123234332672894}, {\"id\": 88518, \"id_comptag\": \"16-D10-40+170\", \"annee\": \"2018\", \"id_ign\": \"TRONROUT0000000041493658\", \"seq\": -1, \"distance\": 1.49413329055512, \"polluant\": \"NOX\", \"unite\": \"tonne\", \"emi\": 0.0225829835629517}, {\"id\": 88519, \"id_comptag\": \"16-D10-40+170\", \"annee\": \"2018\", \"id_ign\": \"TRONROUT0000000041493658\", \"seq\": -1, \"distance\": 1.49413329055512, \"polluant\": \"PM10\", \"unite\": \"tonne\", \"emi\": 0.00175661507651672}, {\"id\": 88520, \"id_comptag\": \"16-D10-40+170\", \"annee\": \"2018\", \"id_ign\": \"TRONROUT0000000041493658\", \"seq\": 9, \"distance\": 1.49413329055512, \"polluant\": \"COVNM\", \"unite\": \"tonne\", \"emi\": 0.00462721298316236}, {\"id\": 88521, \"id_comptag\": \"16-D10-40+170\", \"annee\": \"2018\", \"id_ign\": \"TRONROUT0000000041493658\", \"seq\": 9, \"distance\": 1.49413329055512, \"polluant\": \"PM2_5\", \"unite\": \"tonne\", \"emi\": 0.00256249636009501}, {\"id\": 88522, \"id_comptag\": \"16-D10-40+170\", \"annee\": \"2018\", \"id_ign\": \"TRONROUT0000000041493658\", \"seq\": 9, \"distance\": 1.49413329055512, \"polluant\": \"NOX\", \"unite\": \"tonne\", \"emi\": 0.0469583531837289}, {\"id\": 88523, \"id_comptag\": \"16-D10-40+170\", \"annee\": \"2018\", \"id_ign\": \"TRONROUT0000000041493658\", \"seq\": 9, \"distance\": 1.49413329055512, \"polluant\": \"PM10\", \"unite\": \"tonne\", \"emi\": 0.00365265071999873}, {\"id\": 88524, \"id_comptag\": \"16-D10-40+170\", \"annee\": \"2018\", \"id_ign\": \"TRONROUT0000000041493658\", \"seq\": 10, \"distance\": 1.49413329055512, \"polluant\": \"NOX\", \"unite\": \"tonne\", \"emi\": 0.0469583531837289}, {\"id\": 88525, \"id_comptag\": \"16-D10-40+170\", \"annee\": \"2018\", \"id_ign\": \"TRONROUT0000000041493658\", \"seq\": 10, \"distance\": 1.49413329055512, \"polluant\": \"PM2_5\", \"unite\": \"tonne\", \"emi\": 0.00256249636009501}, {\"id\": 88526, \"id_comptag\": \"16-D10-40+170\", \"annee\": \"2018\", \"id_ign\": \"TRONROUT0000000041493658\", \"seq\": 10, \"distance\": 1.49413329055512, \"polluant\": \"COVNM\", \"unite\": \"tonne\", \"emi\": 0.00462721298316236}, {\"id\": 88527, \"id_comptag\": \"16-D10-40+170\", \"annee\": \"2018\", \"id_ign\": \"TRONROUT0000000041493658\", \"seq\": 10, \"distance\": 1.49413329055512, \"polluant\": \"PM10\", \"unite\": \"tonne\", \"emi\": 0.00365265071999873}, {\"id\": 88528, \"id_comptag\": \"16-D10-40+170\", \"annee\": \"2018\", \"id_ign\": \"TRONROUT0000000041493659\", \"seq\": -1, \"distance\": 1.79926272177653, \"polluant\": \"bruit\", \"unite\": \"dB(A)\", \"emi\": 72.61}, {\"id\": 88529, \"id_comptag\": \"16-D10-40+170\", \"annee\": \"2018\", \"id_ign\": \"TRONROUT0000000041493659\", \"seq\": 10, \"distance\": 1.79926272177653, \"polluant\": \"bruit\", \"unite\": \"dB(A)\", \"emi\": 68.88}, {\"id\": 88530, \"id_comptag\": \"16-D10-40+170\", \"annee\": \"2018\", \"id_ign\": \"TRONROUT0000000041493659\", \"seq\": -1, \"distance\": 1.79926272177653, \"polluant\": \"NOX\", \"unite\": \"tonne\", \"emi\": 0.0469583531837289}, {\"id\": 88531, \"id_comptag\": \"16-D10-40+170\", \"annee\": \"2018\", \"id_ign\": \"TRONROUT0000000041493659\", \"seq\": -1, \"distance\": 1.79926272177653, \"polluant\": \"PM10\", \"unite\": \"tonne\", \"emi\": 0.00365265071999873}, {\"id\": 88532, \"id_comptag\": \"16-D10-40+170\", \"annee\": \"2018\", \"id_ign\": \"TRONROUT0000000041493659\", \"seq\": -1, \"distance\": 1.79926272177653, \"polluant\": \"PM2_5\", \"unite\": \"tonne\", \"emi\": 0.00256249636009501}, {\"id\": 88533, \"id_comptag\": \"16-D10-40+170\", \"annee\": \"2018\", \"id_ign\": \"TRONROUT0000000041493659\", \"seq\": -1, \"distance\": 1.79926272177653, \"polluant\": \"COVNM\", \"unite\": \"tonne\", \"emi\": 0.00462721298316236}, {\"id\": 88534, \"id_comptag\": \"16-D10-40+170\", \"annee\": \"2018\", \"id_ign\": \"TRONROUT0000000041493659\", \"seq\": 10, \"distance\": 1.79926272177653, \"polluant\": \"PM10\", \"unite\": \"tonne\", \"emi\": 0.00155971963240414}, {\"id\": 88535, \"id_comptag\": \"16-D10-40+170\", \"annee\": \"2018\", \"id_ign\": \"TRONROUT0000000041493659\", \"seq\": 10, \"distance\": 1.79926272177653, \"polluant\": \"PM2_5\", \"unite\": \"tonne\", \"emi\": 0.00106010860471953}, {\"id\": 88536, \"id_comptag\": \"16-D10-40+170\", \"annee\": \"2018\", \"id_ign\": \"TRONROUT0000000041493659\", \"seq\": 10, \"distance\": 1.79926272177653, \"polluant\": \"NOX\", \"unite\": \"tonne\", \"emi\": 0.018652419818267}, {\"id\": 88537, \"id_comptag\": \"16-D10-40+170\", \"annee\": \"2018\", \"id_ign\": \"TRONROUT0000000041493659\", \"seq\": 10, \"distance\": 1.79926272177653, \"polluant\": \"COVNM\", \"unite\": \"tonne\", \"emi\": 0.00262204947179388}, {\"id\": 88538, \"id_comptag\": \"16-D10-40+170\", \"annee\": \"2018\", \"id_ign\": \"TRONROUT0000000041493659\", \"seq\": 11, \"distance\": 1.79926272177653, \"polluant\": \"PM10\", \"unite\": \"tonne\", \"emi\": 0.00155971963240414}, {\"id\": 88539, \"id_comptag\": \"16-D10-40+170\", \"annee\": \"2018\", \"id_ign\": \"TRONROUT0000000041493659\", \"seq\": 11, \"distance\": 1.79926272177653, \"polluant\": \"PM2_5\", \"unite\": \"tonne\", \"emi\": 0.00106010860471953}, {\"id\": 88540, \"id_comptag\": \"16-D10-40+170\", \"annee\": \"2018\", \"id_ign\": \"TRONROUT0000000041493659\", \"seq\": 11, \"distance\": 1.79926272177653, \"polluant\": \"NOX\", \"unite\": \"tonne\", \"emi\": 0.018652419818267}, {\"id\": 88541, \"id_comptag\": \"16-D10-40+170\", \"annee\": \"2018\", \"id_ign\": \"TRONROUT0000000041493659\", \"seq\": 11, \"distance\": 1.79926272177653, \"polluant\": \"COVNM\", \"unite\": \"tonne\", \"emi\": 0.00262204947179388}, {\"id\": 88542, \"id_comptag\": \"16-D10-40+170\", \"annee\": \"2018\", \"id_ign\": \"TRONROUT0000000041493662\", \"seq\": 12, \"distance\": 1.90648442669116, \"polluant\": \"bruit\", \"unite\": \"dB(A)\", \"emi\": 68.88}, {\"id\": 88543, \"id_comptag\": \"16-D10-40+170\", \"annee\": \"2018\", \"id_ign\": \"TRONROUT0000000041493662\", \"seq\": -1, \"distance\": 1.90648442669116, \"polluant\": \"NOX\", \"unite\": \"tonne\", \"emi\": 0.018652419818267}, {\"id\": 88544, \"id_comptag\": \"16-D10-40+170\", \"annee\": \"2018\", \"id_ign\": \"TRONROUT0000000041493662\", \"seq\": -1, \"distance\": 1.90648442669116, \"polluant\": \"COVNM\", \"unite\": \"tonne\", \"emi\": 0.00262204947179388}, {\"id\": 88545, \"id_comptag\": \"16-D10-40+170\", \"annee\": \"2018\", \"id_ign\": \"TRONROUT0000000041493662\", \"seq\": -1, \"distance\": 1.90648442669116, \"polluant\": \"PM2_5\", \"unite\": \"tonne\", \"emi\": 0.00106010860471953}, {\"id\": 88546, \"id_comptag\": \"16-D10-40+170\", \"annee\": \"2018\", \"id_ign\": \"TRONROUT0000000041493662\", \"seq\": -1, \"distance\": 1.90648442669116, \"polluant\": \"PM10\", \"unite\": \"tonne\", \"emi\": 0.00155971963240414}, {\"id\": 88547, \"id_comptag\": \"16-D10-40+170\", \"annee\": \"2018\", \"id_ign\": \"TRONROUT0000000041493662\", \"seq\": 11, \"distance\": 1.90648442669116, \"polluant\": \"PM2_5\", \"unite\": \"tonne\", \"emi\": 0.00127416565723819}, {\"id\": 88548, \"id_comptag\": \"16-D10-40+170\", \"annee\": \"2018\", \"id_ign\": \"TRONROUT0000000041493662\", \"seq\": 11, \"distance\": 1.90648442669116, \"polluant\": \"NOX\", \"unite\": \"tonne\", \"emi\": 0.0225970051605646}, {\"id\": 88549, \"id_comptag\": \"16-D10-40+170\", \"annee\": \"2018\", \"id_ign\": \"TRONROUT0000000041493662\", \"seq\": 11, \"distance\": 1.90648442669116, \"polluant\": \"PM10\", \"unite\": \"tonne\", \"emi\": 0.00187349446486733}, {\"id\": 88550, \"id_comptag\": \"16-D10-40+170\", \"annee\": \"2018\", \"id_ign\": \"TRONROUT0000000041493662\", \"seq\": 11, \"distance\": 1.90648442669116, \"polluant\": \"COVNM\", \"unite\": \"tonne\", \"emi\": 0.00314360066485383}, {\"id\": 88551, \"id_comptag\": \"16-D10-40+170\", \"annee\": \"2018\", \"id_ign\": \"TRONROUT0000000041493662\", \"seq\": 12, \"distance\": 1.90648442669116, \"polluant\": \"NOX\", \"unite\": \"tonne\", \"emi\": 0.0225970051605646}, {\"id\": 88552, \"id_comptag\": \"16-D10-40+170\", \"annee\": \"2018\", \"id_ign\": \"TRONROUT0000000041493662\", \"seq\": 12, \"distance\": 1.90648442669116, \"polluant\": \"PM10\", \"unite\": \"tonne\", \"emi\": 0.00187349446486733}, {\"id\": 88553, \"id_comptag\": \"16-D10-40+170\", \"annee\": \"2018\", \"id_ign\": \"TRONROUT0000000041493662\", \"seq\": 12, \"distance\": 1.90648442669116, \"polluant\": \"COVNM\", \"unite\": \"tonne\", \"emi\": 0.00314360066485383}, {\"id\": 88554, \"id_comptag\": \"16-D10-40+170\", \"annee\": \"2018\", \"id_ign\": \"TRONROUT0000000041493662\", \"seq\": 12, \"distance\": 1.90648442669116, \"polluant\": \"PM2_5\", \"unite\": \"tonne\", \"emi\": 0.00127416565723819}, {\"id\": 88555, \"id_comptag\": \"16-D10-40+170\", \"annee\": \"2018\", \"id_ign\": \"TRONROUT0000000041493661\", \"seq\": -1, \"distance\": 2.03510660073776, \"polluant\": \"bruit\", \"unite\": \"dB(A)\", \"emi\": 68.88}, {\"id\": 88556, \"id_comptag\": \"16-D10-40+170\", \"annee\": \"2018\", \"id_ign\": \"TRONROUT0000000041493661\", \"seq\": 12, \"distance\": 2.03510660073776, \"polluant\": \"bruit\", \"unite\": \"dB(A)\", \"emi\": 72.61}, {\"id\": 88557, \"id_comptag\": \"16-D10-40+170\", \"annee\": \"2018\", \"id_ign\": \"TRONROUT0000000041493661\", \"seq\": -1, \"distance\": 2.03510660073776, \"polluant\": \"PM10\", \"unite\": \"tonne\", \"emi\": 0.00187349446486733}, {\"id\": 88558, \"id_comptag\": \"16-D10-40+170\", \"annee\": \"2018\", \"id_ign\": \"TRONROUT0000000041493661\", \"seq\": -1, \"distance\": 2.03510660073776, \"polluant\": \"PM2_5\", \"unite\": \"tonne\", \"emi\": 0.00127416565723819}, {\"id\": 88559, \"id_comptag\": \"16-D10-40+170\", \"annee\": \"2018\", \"id_ign\": \"TRONROUT0000000041493661\", \"seq\": -1, \"distance\": 2.03510660073776, \"polluant\": \"COVNM\", \"unite\": \"tonne\", \"emi\": 0.00314360066485383}, {\"id\": 88560, \"id_comptag\": \"16-D10-40+170\", \"annee\": \"2018\", \"id_ign\": \"TRONROUT0000000041493661\", \"seq\": -1, \"distance\": 2.03510660073776, \"polluant\": \"NOX\", \"unite\": \"tonne\", \"emi\": 0.0225970051605646}, {\"id\": 88561, \"id_comptag\": \"16-D10-40+170\", \"annee\": \"2018\", \"id_ign\": \"TRONROUT0000000041493661\", \"seq\": 12, \"distance\": 2.03510660073776, \"polluant\": \"NOX\", \"unite\": \"tonne\", \"emi\": 0.0459795841756661}, {\"id\": 88562, \"id_comptag\": \"16-D10-40+170\", \"annee\": \"2018\", \"id_ign\": \"TRONROUT0000000041493661\", \"seq\": 12, \"distance\": 2.03510660073776, \"polluant\": \"COVNM\", \"unite\": \"tonne\", \"emi\": 0.00441683051393087}, {\"id\": 88563, \"id_comptag\": \"16-D10-40+170\", \"annee\": \"2018\", \"id_ign\": \"TRONROUT0000000041493661\", \"seq\": 12, \"distance\": 2.03510660073776, \"polluant\": \"PM2_5\", \"unite\": \"tonne\", \"emi\": 0.00245688889909912}, {\"id\": 88564, \"id_comptag\": \"16-D10-40+170\", \"annee\": \"2018\", \"id_ign\": \"TRONROUT0000000041493661\", \"seq\": 12, \"distance\": 2.03510660073776, \"polluant\": \"PM10\", \"unite\": \"tonne\", \"emi\": 0.00349956985944549}, {\"id\": 88565, \"id_comptag\": \"16-D10-40+170\", \"annee\": \"2018\", \"id_ign\": \"TRONROUT0000000041493661\", \"seq\": 13, \"distance\": 2.03510660073776, \"polluant\": \"PM2_5\", \"unite\": \"tonne\", \"emi\": 0.00245688889909912}, {\"id\": 88566, \"id_comptag\": \"16-D10-40+170\", \"annee\": \"2018\", \"id_ign\": \"TRONROUT0000000041493661\", \"seq\": 13, \"distance\": 2.03510660073776, \"polluant\": \"NOX\", \"unite\": \"tonne\", \"emi\": 0.0459795841756661}, {\"id\": 88567, \"id_comptag\": \"16-D10-40+170\", \"annee\": \"2018\", \"id_ign\": \"TRONROUT0000000041493661\", \"seq\": 13, \"distance\": 2.03510660073776, \"polluant\": \"PM10\", \"unite\": \"tonne\", \"emi\": 0.00349956985944549}, {\"id\": 88568, \"id_comptag\": \"16-D10-40+170\", \"annee\": \"2018\", \"id_ign\": \"TRONROUT0000000041493661\", \"seq\": 13, \"distance\": 2.03510660073776, \"polluant\": \"COVNM\", \"unite\": \"tonne\", \"emi\": 0.00441683051393087}, {\"id\": 88569, \"id_comptag\": \"16-D10-40+170\", \"annee\": \"2018\", \"id_ign\": \"TRONROUT0000000041493654\", \"seq\": -1, \"distance\": 2.32694843532344, \"polluant\": \"NOX\", \"unite\": \"tonne\", \"emi\": 0.0459795841756661}, {\"id\": 88570, \"id_comptag\": \"16-D10-40+170\", \"annee\": \"2018\", \"id_ign\": \"TRONROUT0000000041493654\", \"seq\": -1, \"distance\": 2.32694843532344, \"polluant\": \"PM2_5\", \"unite\": \"tonne\", \"emi\": 0.00245688889909912}, {\"id\": 88571, \"id_comptag\": \"16-D10-40+170\", \"annee\": \"2018\", \"id_ign\": \"TRONROUT0000000041493654\", \"seq\": -1, \"distance\": 2.32694843532344, \"polluant\": \"COVNM\", \"unite\": \"tonne\", \"emi\": 0.00441683051393087}, {\"id\": 88572, \"id_comptag\": \"16-D10-40+170\", \"annee\": \"2018\", \"id_ign\": \"TRONROUT0000000041493654\", \"seq\": -1, \"distance\": 2.32694843532344, \"polluant\": \"PM10\", \"unite\": \"tonne\", \"emi\": 0.00349956985944549}, {\"id\": 88573, \"id_comptag\": \"16-D10-40+170\", \"annee\": \"2018\", \"id_ign\": \"TRONROUT0000000041493654\", \"seq\": 13, \"distance\": 2.32694843532344, \"polluant\": \"PM10\", \"unite\": \"tonne\", \"emi\": 0.00279066680802237}, {\"id\": 88574, \"id_comptag\": \"16-D10-40+170\", \"annee\": \"2018\", \"id_ign\": \"TRONROUT0000000041493654\", \"seq\": 13, \"distance\": 2.32694843532344, \"polluant\": \"NOX\", \"unite\": \"tonne\", \"emi\": 0.0366655630718096}, {\"id\": 88575, \"id_comptag\": \"16-D10-40+170\", \"annee\": \"2018\", \"id_ign\": \"TRONROUT0000000041493654\", \"seq\": 13, \"distance\": 2.32694843532344, \"polluant\": \"PM2_5\", \"unite\": \"tonne\", \"emi\": 0.00195920029520455}, {\"id\": 88576, \"id_comptag\": \"16-D10-40+170\", \"annee\": \"2018\", \"id_ign\": \"TRONROUT0000000041493654\", \"seq\": 13, \"distance\": 2.32694843532344, \"polluant\": \"COVNM\", \"unite\": \"tonne\", \"emi\": 0.00352211923377358}, {\"id\": 88577, \"id_comptag\": \"16-D10-40+170\", \"annee\": \"2018\", \"id_ign\": \"TRONROUT0000000041493654\", \"seq\": 14, \"distance\": 2.32694843532344, \"polluant\": \"PM10\", \"unite\": \"tonne\", \"emi\": 0.00279066680802237}, {\"id\": 88578, \"id_comptag\": \"16-D10-40+170\", \"annee\": \"2018\", \"id_ign\": \"TRONROUT0000000041493654\", \"seq\": 14, \"distance\": 2.32694843532344, \"polluant\": \"NOX\", \"unite\": \"tonne\", \"emi\": 0.0366655630718096}, {\"id\": 88579, \"id_comptag\": \"16-D10-40+170\", \"annee\": \"2018\", \"id_ign\": \"TRONROUT0000000041493654\", \"seq\": 14, \"distance\": 2.32694843532344, \"polluant\": \"PM2_5\", \"unite\": \"tonne\", \"emi\": 0.00195920029520455}, {\"id\": 88580, \"id_comptag\": \"16-D10-40+170\", \"annee\": \"2018\", \"id_ign\": \"TRONROUT0000000041493654\", \"seq\": 14, \"distance\": 2.32694843532344, \"polluant\": \"COVNM\", \"unite\": \"tonne\", \"emi\": 0.00352211923377358}, {\"id\": 88581, \"id_comptag\": \"16-D10-40+170\", \"annee\": \"2018\", \"id_ign\": \"TRONROUT0000000041494576\", \"seq\": -1, \"distance\": 2.55967227101783, \"polluant\": \"PM2_5\", \"unite\": \"tonne\", \"emi\": 0.00195920029520455}, {\"id\": 88582, \"id_comptag\": \"16-D10-40+170\", \"annee\": \"2018\", \"id_ign\": \"TRONROUT0000000041494576\", \"seq\": -1, \"distance\": 2.55967227101783, \"polluant\": \"PM10\", \"unite\": \"tonne\", \"emi\": 0.00279066680802237}, {\"id\": 88583, \"id_comptag\": \"16-D10-40+170\", \"annee\": \"2018\", \"id_ign\": \"TRONROUT0000000041494576\", \"seq\": -1, \"distance\": 2.55967227101783, \"polluant\": \"COVNM\", \"unite\": \"tonne\", \"emi\": 0.00352211923377358}, {\"id\": 88584, \"id_comptag\": \"16-D10-40+170\", \"annee\": \"2018\", \"id_ign\": \"TRONROUT0000000041494576\", \"seq\": -1, \"distance\": 2.55967227101783, \"polluant\": \"NOX\", \"unite\": \"tonne\", \"emi\": 0.0366655630718096}, {\"id\": 88585, \"id_comptag\": \"16-D10-40+170\", \"annee\": \"2018\", \"id_ign\": \"TRONROUT0000000041494576\", \"seq\": 14, \"distance\": 2.55967227101783, \"polluant\": \"PM10\", \"unite\": \"tonne\", \"emi\": 0.0101258789322033}, {\"id\": 88586, \"id_comptag\": \"16-D10-40+170\", \"annee\": \"2018\", \"id_ign\": \"TRONROUT0000000041494576\", \"seq\": 14, \"distance\": 2.55967227101783, \"polluant\": \"NOX\", \"unite\": \"tonne\", \"emi\": 0.131503165158677}, {\"id\": 88587, \"id_comptag\": \"16-D10-40+170\", \"annee\": \"2018\", \"id_ign\": \"TRONROUT0000000041494576\", \"seq\": 14, \"distance\": 2.55967227101783, \"polluant\": \"PM2_5\", \"unite\": \"tonne\", \"emi\": 0.00710554962457137}, {\"id\": 88588, \"id_comptag\": \"16-D10-40+170\", \"annee\": \"2018\", \"id_ign\": \"TRONROUT0000000041494576\", \"seq\": 14, \"distance\": 2.55967227101783, \"polluant\": \"COVNM\", \"unite\": \"tonne\", \"emi\": 0.0127905412396085}, {\"id\": 88589, \"id_comptag\": \"16-D10-40+170\", \"annee\": \"2018\", \"id_ign\": \"TRONROUT0000000041494576\", \"seq\": 15, \"distance\": 2.55967227101783, \"polluant\": \"COVNM\", \"unite\": \"tonne\", \"emi\": 0.0127905412396085}, {\"id\": 88590, \"id_comptag\": \"16-D10-40+170\", \"annee\": \"2018\", \"id_ign\": \"TRONROUT0000000041494576\", \"seq\": 15, \"distance\": 2.55967227101783, \"polluant\": \"PM10\", \"unite\": \"tonne\", \"emi\": 0.0101258789322033}, {\"id\": 88591, \"id_comptag\": \"16-D10-40+170\", \"annee\": \"2018\", \"id_ign\": \"TRONROUT0000000041494576\", \"seq\": 15, \"distance\": 2.55967227101783, \"polluant\": \"NOX\", \"unite\": \"tonne\", \"emi\": 0.131503165158677}, {\"id\": 88592, \"id_comptag\": \"16-D10-40+170\", \"annee\": \"2018\", \"id_ign\": \"TRONROUT0000000041494576\", \"seq\": 15, \"distance\": 2.55967227101783, \"polluant\": \"PM2_5\", \"unite\": \"tonne\", \"emi\": 0.00710554962457137}, {\"id\": 88593, \"id_comptag\": \"16-D10-40+170\", \"annee\": \"2018\", \"id_ign\": \"TRONROUT0000000041495279\", \"seq\": -1, \"distance\": 3.40504921728852, \"polluant\": \"PM2_5\", \"unite\": \"tonne\", \"emi\": 0.00710554962457137}, {\"id\": 88594, \"id_comptag\": \"16-D10-40+170\", \"annee\": \"2018\", \"id_ign\": \"TRONROUT0000000041495279\", \"seq\": -1, \"distance\": 3.40504921728852, \"polluant\": \"COVNM\", \"unite\": \"tonne\", \"emi\": 0.0127905412396085}, {\"id\": 88595, \"id_comptag\": \"16-D10-40+170\", \"annee\": \"2018\", \"id_ign\": \"TRONROUT0000000041495279\", \"seq\": -1, \"distance\": 3.40504921728852, \"polluant\": \"PM10\", \"unite\": \"tonne\", \"emi\": 0.0101258789322033}, {\"id\": 88596, \"id_comptag\": \"16-D10-40+170\", \"annee\": \"2018\", \"id_ign\": \"TRONROUT0000000041495279\", \"seq\": -1, \"distance\": 3.40504921728852, \"polluant\": \"NOX\", \"unite\": \"tonne\", \"emi\": 0.131503165158677}, {\"id\": 88597, \"id_comptag\": \"16-D10-40+170\", \"annee\": \"2018\", \"id_ign\": \"TRONROUT0000000041495279\", \"seq\": 15, \"distance\": 3.40504921728852, \"polluant\": \"COVNM\", \"unite\": \"tonne\", \"emi\": 0.0113930446032818}, {\"id\": 88598, \"id_comptag\": \"16-D10-40+170\", \"annee\": \"2018\", \"id_ign\": \"TRONROUT0000000041495279\", \"seq\": 15, \"distance\": 3.40504921728852, \"polluant\": \"PM2_5\", \"unite\": \"tonne\", \"emi\": 0.00630933467565552}, {\"id\": 88599, \"id_comptag\": \"16-D10-40+170\", \"annee\": \"2018\", \"id_ign\": \"TRONROUT0000000041495279\", \"seq\": 15, \"distance\": 3.40504921728852, \"polluant\": \"NOX\", \"unite\": \"tonne\", \"emi\": 0.115620053424308}, {\"id\": 88600, \"id_comptag\": \"16-D10-40+170\", \"annee\": \"2018\", \"id_ign\": \"TRONROUT0000000041495279\", \"seq\": 15, \"distance\": 3.40504921728852, \"polluant\": \"PM10\", \"unite\": \"tonne\", \"emi\": 0.00899349408047225}, {\"id\": 88601, \"id_comptag\": \"16-D10-40+170\", \"annee\": \"2018\", \"id_ign\": \"TRONROUT0000000041495279\", \"seq\": 16, \"distance\": 3.40504921728852, \"polluant\": \"PM10\", \"unite\": \"tonne\", \"emi\": 0.00899349408047225}, {\"id\": 88602, \"id_comptag\": \"16-D10-40+170\", \"annee\": \"2018\", \"id_ign\": \"TRONROUT0000000041495279\", \"seq\": 16, \"distance\": 3.40504921728852, \"polluant\": \"PM2_5\", \"unite\": \"tonne\", \"emi\": 0.00630933467565552}, {\"id\": 88603, \"id_comptag\": \"16-D10-40+170\", \"annee\": \"2018\", \"id_ign\": \"TRONROUT0000000041495279\", \"seq\": 16, \"distance\": 3.40504921728852, \"polluant\": \"COVNM\", \"unite\": \"tonne\", \"emi\": 0.0113930446032818}, {\"id\": 88604, \"id_comptag\": \"16-D10-40+170\", \"annee\": \"2018\", \"id_ign\": \"TRONROUT0000000041495279\", \"seq\": 16, \"distance\": 3.40504921728852, \"polluant\": \"NOX\", \"unite\": \"tonne\", \"emi\": 0.115620053424308}, {\"id\": 88605, \"id_comptag\": \"16-D10-40+170\", \"annee\": \"2018\", \"id_ign\": \"TRONROUT0000000041495280\", \"seq\": -1, \"distance\": 4.15633367995091, \"polluant\": \"PM2_5\", \"unite\": \"tonne\", \"emi\": 0.00630933467565552}, {\"id\": 88606, \"id_comptag\": \"16-D10-40+170\", \"annee\": \"2018\", \"id_ign\": \"TRONROUT0000000041495280\", \"seq\": -1, \"distance\": 4.15633367995091, \"polluant\": \"NOX\", \"unite\": \"tonne\", \"emi\": 0.115620053424308}, {\"id\": 88607, \"id_comptag\": \"16-D10-40+170\", \"annee\": \"2018\", \"id_ign\": \"TRONROUT0000000041495280\", \"seq\": -1, \"distance\": 4.15633367995091, \"polluant\": \"COVNM\", \"unite\": \"tonne\", \"emi\": 0.0113930446032818}, {\"id\": 88608, \"id_comptag\": \"16-D10-40+170\", \"annee\": \"2018\", \"id_ign\": \"TRONROUT0000000041495280\", \"seq\": -1, \"distance\": 4.15633367995091, \"polluant\": \"PM10\", \"unite\": \"tonne\", \"emi\": 0.00899349408047225}, {\"id\": 88609, \"id_comptag\": \"16-D10-40+170\", \"annee\": \"2018\", \"id_ign\": \"TRONROUT0000000041495280\", \"seq\": 16, \"distance\": 4.15633367995091, \"polluant\": \"NOX\", \"unite\": \"tonne\", \"emi\": 0.0148842846579229}, {\"id\": 88610, \"id_comptag\": \"16-D10-40+170\", \"annee\": \"2018\", \"id_ign\": \"TRONROUT0000000041495280\", \"seq\": 16, \"distance\": 4.15633367995091, \"polluant\": \"PM2_5\", \"unite\": \"tonne\", \"emi\": 0.000804246978660188}, {\"id\": 88611, \"id_comptag\": \"16-D10-40+170\", \"annee\": \"2018\", \"id_ign\": \"TRONROUT0000000041495280\", \"seq\": 16, \"distance\": 4.15633367995091, \"polluant\": \"COVNM\", \"unite\": \"tonne\", \"emi\": 0.00144770703054574}, {\"id\": 88612, \"id_comptag\": \"16-D10-40+170\", \"annee\": \"2018\", \"id_ign\": \"TRONROUT0000000041495280\", \"seq\": 16, \"distance\": 4.15633367995091, \"polluant\": \"PM10\", \"unite\": \"tonne\", \"emi\": 0.00114610522306986}, {\"id\": 88613, \"id_comptag\": \"16-D10-40+170\", \"annee\": \"2018\", \"id_ign\": \"TRONROUT0000000041495280\", \"seq\": 17, \"distance\": 4.15633367995091, \"polluant\": \"PM10\", \"unite\": \"tonne\", \"emi\": 0.00114610522306986}, {\"id\": 88614, \"id_comptag\": \"16-D10-40+170\", \"annee\": \"2018\", \"id_ign\": \"TRONROUT0000000041495280\", \"seq\": 17, \"distance\": 4.15633367995091, \"polluant\": \"NOX\", \"unite\": \"tonne\", \"emi\": 0.0148842846579229}, {\"id\": 88615, \"id_comptag\": \"16-D10-40+170\", \"annee\": \"2018\", \"id_ign\": \"TRONROUT0000000041495280\", \"seq\": 17, \"distance\": 4.15633367995091, \"polluant\": \"PM2_5\", \"unite\": \"tonne\", \"emi\": 0.000804246978660188}, {\"id\": 88616, \"id_comptag\": \"16-D10-40+170\", \"annee\": \"2018\", \"id_ign\": \"TRONROUT0000000041495280\", \"seq\": 17, \"distance\": 4.15633367995091, \"polluant\": \"COVNM\", \"unite\": \"tonne\", \"emi\": 0.00144770703054574}, {\"id\": 88617, \"id_comptag\": \"16-D10-40+170\", \"annee\": \"2018\", \"id_ign\": \"TRONROUT0000000041495282\", \"seq\": -1, \"distance\": 4.25201830546053, \"polluant\": \"COVNM\", \"unite\": \"tonne\", \"emi\": 0.00144770703054574}, {\"id\": 88618, \"id_comptag\": \"16-D10-40+170\", \"annee\": \"2018\", \"id_ign\": \"TRONROUT0000000041495282\", \"seq\": -1, \"distance\": 4.25201830546053, \"polluant\": \"PM2_5\", \"unite\": \"tonne\", \"emi\": 0.000804246978660188}, {\"id\": 88619, \"id_comptag\": \"16-D10-40+170\", \"annee\": \"2018\", \"id_ign\": \"TRONROUT0000000041495282\", \"seq\": -1, \"distance\": 4.25201830546053, \"polluant\": \"PM10\", \"unite\": \"tonne\", \"emi\": 0.00114610522306986}, {\"id\": 88620, \"id_comptag\": \"16-D10-40+170\", \"annee\": \"2018\", \"id_ign\": \"TRONROUT0000000041495282\", \"seq\": -1, \"distance\": 4.25201830546053, \"polluant\": \"NOX\", \"unite\": \"tonne\", \"emi\": 0.0148842846579229}, {\"id\": 88621, \"id_comptag\": \"16-D10-40+170\", \"annee\": \"2018\", \"id_ign\": \"TRONROUT0000000041495282\", \"seq\": 17, \"distance\": 4.25201830546053, \"polluant\": \"COVNM\", \"unite\": \"tonne\", \"emi\": 3.94283622843428e-05}, {\"id\": 88622, \"id_comptag\": \"16-D10-40+170\", \"annee\": \"2018\", \"id_ign\": \"TRONROUT0000000041495282\", \"seq\": 17, \"distance\": 4.25201830546053, \"polluant\": \"PM10\", \"unite\": \"tonne\", \"emi\": 3.11241424179809e-05}, {\"id\": 88623, \"id_comptag\": \"16-D10-40+170\", \"annee\": \"2018\", \"id_ign\": \"TRONROUT0000000041495282\", \"seq\": 17, \"distance\": 4.25201830546053, \"polluant\": \"PM2_5\", \"unite\": \"tonne\", \"emi\": 2.18349652816468e-05}, {\"id\": 88624, \"id_comptag\": \"16-D10-40+170\", \"annee\": \"2018\", \"id_ign\": \"TRONROUT0000000041495282\", \"seq\": 17, \"distance\": 4.25201830546053, \"polluant\": \"NOX\", \"unite\": \"tonne\", \"emi\": 0.000400130914297968}, {\"id\": 88625, \"id_comptag\": \"16-D10-40+170\", \"annee\": \"2018\", \"id_ign\": \"TRONROUT0000000041495282\", \"seq\": 18, \"distance\": 4.25201830546053, \"polluant\": \"PM2_5\", \"unite\": \"tonne\", \"emi\": 2.18349652816468e-05}, {\"id\": 88626, \"id_comptag\": \"16-D10-40+170\", \"annee\": \"2018\", \"id_ign\": \"TRONROUT0000000041495282\", \"seq\": 18, \"distance\": 4.25201830546053, \"polluant\": \"COVNM\", \"unite\": \"tonne\", \"emi\": 3.94283622843428e-05}, {\"id\": 88627, \"id_comptag\": \"16-D10-40+170\", \"annee\": \"2018\", \"id_ign\": \"TRONROUT0000000041495282\", \"seq\": 18, \"distance\": 4.25201830546053, \"polluant\": \"PM10\", \"unite\": \"tonne\", \"emi\": 3.11241424179809e-05}, {\"id\": 88628, \"id_comptag\": \"16-D10-40+170\", \"annee\": \"2018\", \"id_ign\": \"TRONROUT0000000041495282\", \"seq\": 18, \"distance\": 4.25201830546053, \"polluant\": \"NOX\", \"unite\": \"tonne\", \"emi\": 0.000400130914297968}, {\"id\": 88629, \"id_comptag\": \"16-D10-40+170\", \"annee\": \"2018\", \"id_ign\": \"TRONROUT0000000041495281\", \"seq\": 19, \"distance\": 4.25461830546088, \"polluant\": \"bruit\", \"unite\": \"dB(A)\", \"emi\": 72.61}, {\"id\": 88630, \"id_comptag\": \"16-D10-40+170\", \"annee\": \"2018\", \"id_ign\": \"TRONROUT0000000041495281\", \"seq\": -1, \"distance\": 4.25461830546088, \"polluant\": \"COVNM\", \"unite\": \"tonne\", \"emi\": 3.94283622843428e-05}, {\"id\": 88631, \"id_comptag\": \"16-D10-40+170\", \"annee\": \"2018\", \"id_ign\": \"TRONROUT0000000041495281\", \"seq\": -1, \"distance\": 4.25461830546088, \"polluant\": \"PM10\", \"unite\": \"tonne\", \"emi\": 3.11241424179809e-05}, {\"id\": 88632, \"id_comptag\": \"16-D10-40+170\", \"annee\": \"2018\", \"id_ign\": \"TRONROUT0000000041495281\", \"seq\": -1, \"distance\": 4.25461830546088, \"polluant\": \"NOX\", \"unite\": \"tonne\", \"emi\": 0.000400130914297968}, {\"id\": 88633, \"id_comptag\": \"16-D10-40+170\", \"annee\": \"2018\", \"id_ign\": \"TRONROUT0000000041495281\", \"seq\": -1, \"distance\": 4.25461830546088, \"polluant\": \"PM2_5\", \"unite\": \"tonne\", \"emi\": 2.18349652816468e-05}, {\"id\": 88634, \"id_comptag\": \"16-D10-40+170\", \"annee\": \"2018\", \"id_ign\": \"TRONROUT0000000041495281\", \"seq\": 18, \"distance\": 4.25461830546088, \"polluant\": \"PM10\", \"unite\": \"tonne\", \"emi\": 2.62540666873639e-05}, {\"id\": 88635, \"id_comptag\": \"16-D10-40+170\", \"annee\": \"2018\", \"id_ign\": \"TRONROUT0000000041495281\", \"seq\": 18, \"distance\": 4.25461830546088, \"polluant\": \"COVNM\", \"unite\": \"tonne\", \"emi\": 3.32589036152416e-05}, {\"id\": 88636, \"id_comptag\": \"16-D10-40+170\", \"annee\": \"2018\", \"id_ign\": \"TRONROUT0000000041495281\", \"seq\": 18, \"distance\": 4.25461830546088, \"polluant\": \"PM2_5\", \"unite\": \"tonne\", \"emi\": 1.84183913221478e-05}, {\"id\": 88637, \"id_comptag\": \"16-D10-40+170\", \"annee\": \"2018\", \"id_ign\": \"TRONROUT0000000041495281\", \"seq\": 18, \"distance\": 4.25461830546088, \"polluant\": \"NOX\", \"unite\": \"tonne\", \"emi\": 0.000337521386664321}, {\"id\": 88638, \"id_comptag\": \"16-D10-40+170\", \"annee\": \"2018\", \"id_ign\": \"TRONROUT0000000041495281\", \"seq\": 19, \"distance\": 4.25461830546088, \"polluant\": \"PM2_5\", \"unite\": \"tonne\", \"emi\": 1.84183913221478e-05}, {\"id\": 88639, \"id_comptag\": \"16-D10-40+170\", \"annee\": \"2018\", \"id_ign\": \"TRONROUT0000000041495281\", \"seq\": 19, \"distance\": 4.25461830546088, \"polluant\": \"PM10\", \"unite\": \"tonne\", \"emi\": 2.62540666873639e-05}, {\"id\": 88640, \"id_comptag\": \"16-D10-40+170\", \"annee\": \"2018\", \"id_ign\": \"TRONROUT0000000041495281\", \"seq\": 19, \"distance\": 4.25461830546088, \"polluant\": \"NOX\", \"unite\": \"tonne\", \"emi\": 0.000337521386664321}, {\"id\": 88641, \"id_comptag\": \"16-D10-40+170\", \"annee\": \"2018\", \"id_ign\": \"TRONROUT0000000041495281\", \"seq\": 19, \"distance\": 4.25461830546088, \"polluant\": \"COVNM\", \"unite\": \"tonne\", \"emi\": 3.32589036152416e-05}, {\"id\": 88642, \"id_comptag\": \"16-D10-40+170\", \"annee\": \"2018\", \"id_ign\": \"TRONROUT0000000041495283\", \"seq\": -1, \"distance\": 4.25681147668081, \"polluant\": \"PM2_5\", \"unite\": \"tonne\", \"emi\": 1.84183913221478e-05}, {\"id\": 88643, \"id_comptag\": \"16-D10-40+170\", \"annee\": \"2018\", \"id_ign\": \"TRONROUT0000000041495283\", \"seq\": -1, \"distance\": 4.25681147668081, \"polluant\": \"NOX\", \"unite\": \"tonne\", \"emi\": 0.000337521386664321}, {\"id\": 88644, \"id_comptag\": \"16-D10-40+170\", \"annee\": \"2018\", \"id_ign\": \"TRONROUT0000000041495283\", \"seq\": -1, \"distance\": 4.25681147668081, \"polluant\": \"PM10\", \"unite\": \"tonne\", \"emi\": 2.62540666873639e-05}, {\"id\": 88645, \"id_comptag\": \"16-D10-40+170\", \"annee\": \"2018\", \"id_ign\": \"TRONROUT0000000041495283\", \"seq\": -1, \"distance\": 4.25681147668081, \"polluant\": \"COVNM\", \"unite\": \"tonne\", \"emi\": 3.32589036152416e-05}, {\"id\": 88646, \"id_comptag\": \"16-D10-40+170\", \"annee\": \"2018\", \"id_ign\": \"TRONROUT0000000041495283\", \"seq\": 19, \"distance\": 4.25681147668081, \"polluant\": \"PM10\", \"unite\": \"tonne\", \"emi\": 0.00207944028967266}, {\"id\": 88647, \"id_comptag\": \"16-D10-40+170\", \"annee\": \"2018\", \"id_ign\": \"TRONROUT0000000041495283\", \"seq\": 19, \"distance\": 4.25681147668081, \"polluant\": \"COVNM\", \"unite\": \"tonne\", \"emi\": 0.00263425491339823}, {\"id\": 88648, \"id_comptag\": \"16-D10-40+170\", \"annee\": \"2018\", \"id_ign\": \"TRONROUT0000000041495283\", \"seq\": 19, \"distance\": 4.25681147668081, \"polluant\": \"NOX\", \"unite\": \"tonne\", \"emi\": 0.0267332135022639}, {\"id\": 88649, \"id_comptag\": \"16-D10-40+170\", \"annee\": \"2018\", \"id_ign\": \"TRONROUT0000000041495283\", \"seq\": 19, \"distance\": 4.25681147668081, \"polluant\": \"PM2_5\", \"unite\": \"tonne\", \"emi\": 0.00145881952088836}, {\"id\": 88650, \"id_comptag\": \"16-D10-40+170\", \"annee\": \"2018\", \"id_ign\": \"TRONROUT0000000041495283\", \"seq\": 20, \"distance\": 4.25681147668081, \"polluant\": \"NOX\", \"unite\": \"tonne\", \"emi\": 0.0267332135022639}, {\"id\": 88651, \"id_comptag\": \"16-D10-40+170\", \"annee\": \"2018\", \"id_ign\": \"TRONROUT0000000041495283\", \"seq\": 20, \"distance\": 4.25681147668081, \"polluant\": \"COVNM\", \"unite\": \"tonne\", \"emi\": 0.00263425491339823}, {\"id\": 88652, \"id_comptag\": \"16-D10-40+170\", \"annee\": \"2018\", \"id_ign\": \"TRONROUT0000000041495283\", \"seq\": 20, \"distance\": 4.25681147668081, \"polluant\": \"PM10\", \"unite\": \"tonne\", \"emi\": 0.00207944028967266}, {\"id\": 88653, \"id_comptag\": \"16-D10-40+170\", \"annee\": \"2018\", \"id_ign\": \"TRONROUT0000000041495283\", \"seq\": 20, \"distance\": 4.25681147668081, \"polluant\": \"PM2_5\", \"unite\": \"tonne\", \"emi\": 0.00145881952088836}, {\"id\": 88654, \"id_comptag\": \"16-D10-40+170\", \"annee\": \"2018\", \"id_ign\": \"TRONROUT0000000041495275\", \"seq\": -1, \"distance\": 4.43052051197749, \"polluant\": \"bruit\", \"unite\": \"dB(A)\", \"emi\": null}, {\"id\": 88655, \"id_comptag\": \"16-D10-40+170\", \"annee\": \"2018\", \"id_ign\": \"TRONROUT0000000041495275\", \"seq\": 20, \"distance\": 4.43052051197749, \"polluant\": \"bruit\", \"unite\": \"dB(A)\", \"emi\": 72.61}, {\"id\": 88656, \"id_comptag\": \"16-D10-40+170\", \"annee\": \"2018\", \"id_ign\": \"TRONROUT0000000041495275\", \"seq\": -1, \"distance\": 4.43052051197749, \"polluant\": \"COVNM\", \"unite\": \"tonne\", \"emi\": 0.00263425491339823}, {\"id\": 88657, \"id_comptag\": \"16-D10-40+170\", \"annee\": \"2018\", \"id_ign\": \"TRONROUT0000000041495275\", \"seq\": -1, \"distance\": 4.43052051197749, \"polluant\": \"PM10\", \"unite\": \"tonne\", \"emi\": 0.00207944028967266}, {\"id\": 88658, \"id_comptag\": \"16-D10-40+170\", \"annee\": \"2018\", \"id_ign\": \"TRONROUT0000000041495275\", \"seq\": -1, \"distance\": 4.43052051197749, \"polluant\": \"NOX\", \"unite\": \"tonne\", \"emi\": 0.0267332135022639}, {\"id\": 88659, \"id_comptag\": \"16-D10-40+170\", \"annee\": \"2018\", \"id_ign\": \"TRONROUT0000000041495275\", \"seq\": -1, \"distance\": 4.43052051197749, \"polluant\": \"PM2_5\", \"unite\": \"tonne\", \"emi\": 0.00145881952088836}, {\"id\": 88660, \"id_comptag\": \"16-D10-40+170\", \"annee\": \"2018\", \"id_ign\": \"TRONROUT0000000041495275\", \"seq\": 20, \"distance\": 4.43052051197749, \"polluant\": \"PM2_5\", \"unite\": \"tonne\", \"emi\": 9.53984535988841e-05}, {\"id\": 88661, \"id_comptag\": \"16-D10-40+170\", \"annee\": \"2018\", \"id_ign\": \"TRONROUT0000000041495275\", \"seq\": 20, \"distance\": 4.43052051197749, \"polluant\": \"NOX\", \"unite\": \"tonne\", \"emi\": 0.0017481992743638}, {\"id\": 88662, \"id_comptag\": \"16-D10-40+170\", \"annee\": \"2018\", \"id_ign\": \"TRONROUT0000000041495275\", \"seq\": 20, \"distance\": 4.43052051197749, \"polluant\": \"COVNM\", \"unite\": \"tonne\", \"emi\": 0.000172265205890869}, {\"id\": 88663, \"id_comptag\": \"16-D10-40+170\", \"annee\": \"2018\", \"id_ign\": \"TRONROUT0000000041495275\", \"seq\": 20, \"distance\": 4.43052051197749, \"polluant\": \"PM10\", \"unite\": \"tonne\", \"emi\": 0.000135983502513857}, {\"id\": 88664, \"id_comptag\": \"16-D10-40+170\", \"annee\": \"2018\", \"id_ign\": \"TRONROUT0000000041495275\", \"seq\": 21, \"distance\": 4.43052051197749, \"polluant\": \"PM2_5\", \"unite\": \"tonne\", \"emi\": 9.53984535988841e-05}, {\"id\": 88665, \"id_comptag\": \"16-D10-40+170\", \"annee\": \"2018\", \"id_ign\": \"TRONROUT0000000041495275\", \"seq\": 21, \"distance\": 4.43052051197749, \"polluant\": \"COVNM\", \"unite\": \"tonne\", \"emi\": 0.000172265205890869}, {\"id\": 88666, \"id_comptag\": \"16-D10-40+170\", \"annee\": \"2018\", \"id_ign\": \"TRONROUT0000000041495275\", \"seq\": 21, \"distance\": 4.43052051197749, \"polluant\": \"PM10\", \"unite\": \"tonne\", \"emi\": 0.000135983502513857}, {\"id\": 88667, \"id_comptag\": \"16-D10-40+170\", \"annee\": \"2018\", \"id_ign\": \"TRONROUT0000000041495275\", \"seq\": 21, \"distance\": 4.43052051197749, \"polluant\": \"NOX\", \"unite\": \"tonne\", \"emi\": 0.0017481992743638}, {\"id\": 88668, \"id_comptag\": \"16-D10-40+170\", \"annee\": \"2018\", \"id_ign\": \"TRONROUT0000000041496008\", \"seq\": -1, \"distance\": 4.44188008943459, \"polluant\": \"NOX\", \"unite\": \"tonne\", \"emi\": 0.0017481992743638}, {\"id\": 88669, \"id_comptag\": \"16-D10-40+170\", \"annee\": \"2018\", \"id_ign\": \"TRONROUT0000000041496008\", \"seq\": -1, \"distance\": 4.44188008943459, \"polluant\": \"PM10\", \"unite\": \"tonne\", \"emi\": 0.000135983502513857}, {\"id\": 88670, \"id_comptag\": \"16-D10-40+170\", \"annee\": \"2018\", \"id_ign\": \"TRONROUT0000000041496008\", \"seq\": -1, \"distance\": 4.44188008943459, \"polluant\": \"PM2_5\", \"unite\": \"tonne\", \"emi\": 9.53984535988841e-05}, {\"id\": 88671, \"id_comptag\": \"16-D10-40+170\", \"annee\": \"2018\", \"id_ign\": \"TRONROUT0000000041496008\", \"seq\": -1, \"distance\": 4.44188008943459, \"polluant\": \"COVNM\", \"unite\": \"tonne\", \"emi\": 0.000172265205890869}, {\"id\": 88672, \"id_comptag\": \"16-D10-40+170\", \"annee\": \"2018\", \"id_ign\": \"TRONROUT0000000041496008\", \"seq\": 21, \"distance\": 4.44188008943459, \"polluant\": \"PM10\", \"unite\": \"tonne\", \"emi\": 0.00334644091640854}, {\"id\": 88673, \"id_comptag\": \"16-D10-40+170\", \"annee\": \"2018\", \"id_ign\": \"TRONROUT0000000041496008\", \"seq\": 21, \"distance\": 4.44188008943459, \"polluant\": \"COVNM\", \"unite\": \"tonne\", \"emi\": 0.00422706915950881}, {\"id\": 88674, \"id_comptag\": \"16-D10-40+170\", \"annee\": \"2018\", \"id_ign\": \"TRONROUT0000000041496008\", \"seq\": 21, \"distance\": 4.44188008943459, \"polluant\": \"NOX\", \"unite\": \"tonne\", \"emi\": 0.0434596912989628}, {\"id\": 88675, \"id_comptag\": \"16-D10-40+170\", \"annee\": \"2018\", \"id_ign\": \"TRONROUT0000000041496008\", \"seq\": 21, \"distance\": 4.44188008943459, \"polluant\": \"PM2_5\", \"unite\": \"tonne\", \"emi\": 0.00234827042239414}, {\"id\": 88676, \"id_comptag\": \"16-D10-40+170\", \"annee\": \"2018\", \"id_ign\": \"TRONROUT0000000041496008\", \"seq\": 22, \"distance\": 4.44188008943459, \"polluant\": \"NOX\", \"unite\": \"tonne\", \"emi\": 0.0434596912989628}, {\"id\": 88677, \"id_comptag\": \"16-D10-40+170\", \"annee\": \"2018\", \"id_ign\": \"TRONROUT0000000041496008\", \"seq\": 22, \"distance\": 4.44188008943459, \"polluant\": \"PM2_5\", \"unite\": \"tonne\", \"emi\": 0.00234827042239414}, {\"id\": 88678, \"id_comptag\": \"16-D10-40+170\", \"annee\": \"2018\", \"id_ign\": \"TRONROUT0000000041496008\", \"seq\": 22, \"distance\": 4.44188008943459, \"polluant\": \"COVNM\", \"unite\": \"tonne\", \"emi\": 0.00422706915950881}, {\"id\": 88679, \"id_comptag\": \"16-D10-40+170\", \"annee\": \"2018\", \"id_ign\": \"TRONROUT0000000041496008\", \"seq\": 22, \"distance\": 4.44188008943459, \"polluant\": \"PM10\", \"unite\": \"tonne\", \"emi\": 0.00334644091640854}, {\"id\": 88680, \"id_comptag\": \"16-D10-40+170\", \"annee\": \"2018\", \"id_ign\": \"TRONROUT0000000041496009\", \"seq\": -1, \"distance\": 4.72126363941875, \"polluant\": \"PM10\", \"unite\": \"tonne\", \"emi\": 0.00334644091640854}, {\"id\": 88681, \"id_comptag\": \"16-D10-40+170\", \"annee\": \"2018\", \"id_ign\": \"TRONROUT0000000041496009\", \"seq\": -1, \"distance\": 4.72126363941875, \"polluant\": \"NOX\", \"unite\": \"tonne\", \"emi\": 0.0434596912989628}, {\"id\": 88682, \"id_comptag\": \"16-D10-40+170\", \"annee\": \"2018\", \"id_ign\": \"TRONROUT0000000041496009\", \"seq\": -1, \"distance\": 4.72126363941875, \"polluant\": \"COVNM\", \"unite\": \"tonne\", \"emi\": 0.00422706915950881}, {\"id\": 88683, \"id_comptag\": \"16-D10-40+170\", \"annee\": \"2018\", \"id_ign\": \"TRONROUT0000000041496009\", \"seq\": -1, \"distance\": 4.72126363941875, \"polluant\": \"PM2_5\", \"unite\": \"tonne\", \"emi\": 0.00234827042239414}, {\"id\": 88684, \"id_comptag\": \"16-D10-40+170\", \"annee\": \"2018\", \"id_ign\": \"TRONROUT0000000041496009\", \"seq\": 22, \"distance\": 4.72126363941875, \"polluant\": \"PM2_5\", \"unite\": \"tonne\", \"emi\": 0.000197332268305865}, {\"id\": 88685, \"id_comptag\": \"16-D10-40+170\", \"annee\": \"2018\", \"id_ign\": \"TRONROUT0000000041496009\", \"seq\": 22, \"distance\": 4.72126363941875, \"polluant\": \"COVNM\", \"unite\": \"tonne\", \"emi\": 0.000354750751796764}, {\"id\": 88686, \"id_comptag\": \"16-D10-40+170\", \"annee\": \"2018\", \"id_ign\": \"TRONROUT0000000041496009\", \"seq\": 22, \"distance\": 4.72126363941875, \"polluant\": \"NOX\", \"unite\": \"tonne\", \"emi\": 0.00369298572860645}, {\"id\": 88687, \"id_comptag\": \"16-D10-40+170\", \"annee\": \"2018\", \"id_ign\": \"TRONROUT0000000041496009\", \"seq\": 22, \"distance\": 4.72126363941875, \"polluant\": \"PM10\", \"unite\": \"tonne\", \"emi\": 0.000281078260686689}, {\"id\": 88688, \"id_comptag\": \"16-D10-40+170\", \"annee\": \"2018\", \"id_ign\": \"TRONROUT0000000041496009\", \"seq\": 23, \"distance\": 4.72126363941875, \"polluant\": \"PM10\", \"unite\": \"tonne\", \"emi\": 0.000281078260686689}, {\"id\": 88689, \"id_comptag\": \"16-D10-40+170\", \"annee\": \"2018\", \"id_ign\": \"TRONROUT0000000041496009\", \"seq\": 23, \"distance\": 4.72126363941875, \"polluant\": \"PM2_5\", \"unite\": \"tonne\", \"emi\": 0.000197332268305865}, {\"id\": 88690, \"id_comptag\": \"16-D10-40+170\", \"annee\": \"2018\", \"id_ign\": \"TRONROUT0000000041496009\", \"seq\": 23, \"distance\": 4.72126363941875, \"polluant\": \"NOX\", \"unite\": \"tonne\", \"emi\": 0.00369298572860645}, {\"id\": 88691, \"id_comptag\": \"16-D10-40+170\", \"annee\": \"2018\", \"id_ign\": \"TRONROUT0000000041496009\", \"seq\": 23, \"distance\": 4.72126363941875, \"polluant\": \"COVNM\", \"unite\": \"tonne\", \"emi\": 0.000354750751796764}, {\"id\": 88692, \"id_comptag\": \"16-D10-40+170\", \"annee\": \"2018\", \"id_ign\": \"TRONROUT0000000041496007\", \"seq\": -1, \"distance\": 4.74470377593711, \"polluant\": \"COVNM\", \"unite\": \"tonne\", \"emi\": 0.000354750751796764}, {\"id\": 88693, \"id_comptag\": \"16-D10-40+170\", \"annee\": \"2018\", \"id_ign\": \"TRONROUT0000000041496007\", \"seq\": -1, \"distance\": 4.74470377593711, \"polluant\": \"PM2_5\", \"unite\": \"tonne\", \"emi\": 0.000197332268305865}, {\"id\": 88694, \"id_comptag\": \"16-D10-40+170\", \"annee\": \"2018\", \"id_ign\": \"TRONROUT0000000041496007\", \"seq\": -1, \"distance\": 4.74470377593711, \"polluant\": \"PM10\", \"unite\": \"tonne\", \"emi\": 0.000281078260686689}, {\"id\": 88695, \"id_comptag\": \"16-D10-40+170\", \"annee\": \"2018\", \"id_ign\": \"TRONROUT0000000041496007\", \"seq\": -1, \"distance\": 4.74470377593711, \"polluant\": \"NOX\", \"unite\": \"tonne\", \"emi\": 0.00369298572860645}, {\"id\": 88696, \"id_comptag\": \"16-D10-40+170\", \"annee\": \"2018\", \"id_ign\": \"TRONROUT0000000041496007\", \"seq\": 23, \"distance\": 4.74470377593711, \"polluant\": \"PM2_5\", \"unite\": \"tonne\", \"emi\": 0.00461241061712362}, {\"id\": 88697, \"id_comptag\": \"16-D10-40+170\", \"annee\": \"2018\", \"id_ign\": \"TRONROUT0000000041496007\", \"seq\": 23, \"distance\": 4.74470377593711, \"polluant\": \"PM10\", \"unite\": \"tonne\", \"emi\": 0.00656987508917917}, {\"id\": 88698, \"id_comptag\": \"16-D10-40+170\", \"annee\": \"2018\", \"id_ign\": \"TRONROUT0000000041496007\", \"seq\": 23, \"distance\": 4.74470377593711, \"polluant\": \"NOX\", \"unite\": \"tonne\", \"emi\": 0.0863192154519215}, {\"id\": 88699, \"id_comptag\": \"16-D10-40+170\", \"annee\": \"2018\", \"id_ign\": \"TRONROUT0000000041496007\", \"seq\": 23, \"distance\": 4.74470377593711, \"polluant\": \"COVNM\", \"unite\": \"tonne\", \"emi\": 0.0082918832691052}, {\"id\": 88700, \"id_comptag\": \"16-D10-40+170\", \"annee\": \"2018\", \"id_ign\": \"TRONROUT0000000041496007\", \"seq\": 24, \"distance\": 4.74470377593711, \"polluant\": \"PM10\", \"unite\": \"tonne\", \"emi\": 0.00656987508917917}, {\"id\": 88701, \"id_comptag\": \"16-D10-40+170\", \"annee\": \"2018\", \"id_ign\": \"TRONROUT0000000041496007\", \"seq\": 24, \"distance\": 4.74470377593711, \"polluant\": \"NOX\", \"unite\": \"tonne\", \"emi\": 0.0863192154519215}, {\"id\": 88702, \"id_comptag\": \"16-D10-40+170\", \"annee\": \"2018\", \"id_ign\": \"TRONROUT0000000041496007\", \"seq\": 24, \"distance\": 4.74470377593711, \"polluant\": \"PM2_5\", \"unite\": \"tonne\", \"emi\": 0.00461241061712362}, {\"id\": 88703, \"id_comptag\": \"16-D10-40+170\", \"annee\": \"2018\", \"id_ign\": \"TRONROUT0000000041496007\", \"seq\": 24, \"distance\": 4.74470377593711, \"polluant\": \"COVNM\", \"unite\": \"tonne\", \"emi\": 0.0082918832691052}, {\"id\": 88704, \"id_comptag\": \"16-D10-40+170\", \"annee\": \"2018\", \"id_ign\": \"TRONROUT0000000041496013\", \"seq\": -1, \"distance\": 5.29258950933654, \"polluant\": \"NOX\", \"unite\": \"tonne\", \"emi\": 0.0863192154519215}, {\"id\": 88705, \"id_comptag\": \"16-D10-40+170\", \"annee\": \"2018\", \"id_ign\": \"TRONROUT0000000041496013\", \"seq\": -1, \"distance\": 5.29258950933654, \"polluant\": \"COVNM\", \"unite\": \"tonne\", \"emi\": 0.0082918832691052}, {\"id\": 88706, \"id_comptag\": \"16-D10-40+170\", \"annee\": \"2018\", \"id_ign\": \"TRONROUT0000000041496013\", \"seq\": -1, \"distance\": 5.29258950933654, \"polluant\": \"PM2_5\", \"unite\": \"tonne\", \"emi\": 0.00461241061712362}, {\"id\": 88707, \"id_comptag\": \"16-D10-40+170\", \"annee\": \"2018\", \"id_ign\": \"TRONROUT0000000041496013\", \"seq\": -1, \"distance\": 5.29258950933654, \"polluant\": \"PM10\", \"unite\": \"tonne\", \"emi\": 0.00656987508917917}, {\"id\": 88708, \"id_comptag\": \"16-D10-40+170\", \"annee\": \"2018\", \"id_ign\": \"TRONROUT0000000041496013\", \"seq\": 24, \"distance\": 5.29258950933654, \"polluant\": \"PM10\", \"unite\": \"tonne\", \"emi\": 0.00200892410185465}, {\"id\": 88709, \"id_comptag\": \"16-D10-40+170\", \"annee\": \"2018\", \"id_ign\": \"TRONROUT0000000041496013\", \"seq\": 24, \"distance\": 5.29258950933654, \"polluant\": \"NOX\", \"unite\": \"tonne\", \"emi\": 0.0260895750113374}, {\"id\": 88710, \"id_comptag\": \"16-D10-40+170\", \"annee\": \"2018\", \"id_ign\": \"TRONROUT0000000041496013\", \"seq\": 24, \"distance\": 5.29258950933654, \"polluant\": \"COVNM\", \"unite\": \"tonne\", \"emi\": 0.0025375798727256}, {\"id\": 88711, \"id_comptag\": \"16-D10-40+170\", \"annee\": \"2018\", \"id_ign\": \"TRONROUT0000000041496013\", \"seq\": 24, \"distance\": 5.29258950933654, \"polluant\": \"PM2_5\", \"unite\": \"tonne\", \"emi\": 0.00140970576414147}, {\"id\": 88712, \"id_comptag\": \"16-D10-40+170\", \"annee\": \"2018\", \"id_ign\": \"TRONROUT0000000041496013\", \"seq\": 25, \"distance\": 5.29258950933654, \"polluant\": \"PM2_5\", \"unite\": \"tonne\", \"emi\": 0.00140970576414147}, {\"id\": 88713, \"id_comptag\": \"16-D10-40+170\", \"annee\": \"2018\", \"id_ign\": \"TRONROUT0000000041496013\", \"seq\": 25, \"distance\": 5.29258950933654, \"polluant\": \"COVNM\", \"unite\": \"tonne\", \"emi\": 0.0025375798727256}, {\"id\": 88714, \"id_comptag\": \"16-D10-40+170\", \"annee\": \"2018\", \"id_ign\": \"TRONROUT0000000041496013\", \"seq\": 25, \"distance\": 5.29258950933654, \"polluant\": \"PM10\", \"unite\": \"tonne\", \"emi\": 0.00200892410185465}, {\"id\": 88715, \"id_comptag\": \"16-D10-40+170\", \"annee\": \"2018\", \"id_ign\": \"TRONROUT0000000041496013\", \"seq\": 25, \"distance\": 5.29258950933654, \"polluant\": \"NOX\", \"unite\": \"tonne\", \"emi\": 0.0260895750113374}, {\"id\": 88716, \"id_comptag\": \"16-D10-40+170\", \"annee\": \"2018\", \"id_ign\": \"TRONROUT0000000041496001\", \"seq\": -1, \"distance\": 5.46030809790413, \"polluant\": \"PM10\", \"unite\": \"tonne\", \"emi\": 0.00200892410185465}, {\"id\": 88717, \"id_comptag\": \"16-D10-40+170\", \"annee\": \"2018\", \"id_ign\": \"TRONROUT0000000041496001\", \"seq\": -1, \"distance\": 5.46030809790413, \"polluant\": \"COVNM\", \"unite\": \"tonne\", \"emi\": 0.0025375798727256}, {\"id\": 88718, \"id_comptag\": \"16-D10-40+170\", \"annee\": \"2018\", \"id_ign\": \"TRONROUT0000000041496001\", \"seq\": -1, \"distance\": 5.46030809790413, \"polluant\": \"NOX\", \"unite\": \"tonne\", \"emi\": 0.0260895750113374}, {\"id\": 88719, \"id_comptag\": \"16-D10-40+170\", \"annee\": \"2018\", \"id_ign\": \"TRONROUT0000000041496001\", \"seq\": -1, \"distance\": 5.46030809790413, \"polluant\": \"PM2_5\", \"unite\": \"tonne\", \"emi\": 0.00140970576414147}, {\"id\": 88720, \"id_comptag\": \"16-D10-40+170\", \"annee\": \"2018\", \"id_ign\": \"TRONROUT0000000041496001\", \"seq\": 25, \"distance\": 5.46030809790413, \"polluant\": \"COVNM\", \"unite\": \"tonne\", \"emi\": 0.00214499140437476}, {\"id\": 88721, \"id_comptag\": \"16-D10-40+170\", \"annee\": \"2018\", \"id_ign\": \"TRONROUT0000000041496001\", \"seq\": 25, \"distance\": 5.46030809790413, \"polluant\": \"NOX\", \"unite\": \"tonne\", \"emi\": 0.0217680198229938}, {\"id\": 88722, \"id_comptag\": \"16-D10-40+170\", \"annee\": \"2018\", \"id_ign\": \"TRONROUT0000000041496001\", \"seq\": 25, \"distance\": 5.46030809790413, \"polluant\": \"PM2_5\", \"unite\": \"tonne\", \"emi\": 0.00118787111942898}, {\"id\": 88723, \"id_comptag\": \"16-D10-40+170\", \"annee\": \"2018\", \"id_ign\": \"TRONROUT0000000041496001\", \"seq\": 25, \"distance\": 5.46030809790413, \"polluant\": \"PM10\", \"unite\": \"tonne\", \"emi\": 0.00169322320500276}, {\"id\": 88724, \"id_comptag\": \"16-D10-40+170\", \"annee\": \"2018\", \"id_ign\": \"TRONROUT0000000041496001\", \"seq\": 26, \"distance\": 5.46030809790413, \"polluant\": \"PM2_5\", \"unite\": \"tonne\", \"emi\": 0.00118787111942898}, {\"id\": 88725, \"id_comptag\": \"16-D10-40+170\", \"annee\": \"2018\", \"id_ign\": \"TRONROUT0000000041496001\", \"seq\": 26, \"distance\": 5.46030809790413, \"polluant\": \"NOX\", \"unite\": \"tonne\", \"emi\": 0.0217680198229938}, {\"id\": 88726, \"id_comptag\": \"16-D10-40+170\", \"annee\": \"2018\", \"id_ign\": \"TRONROUT0000000041496001\", \"seq\": 26, \"distance\": 5.46030809790413, \"polluant\": \"PM10\", \"unite\": \"tonne\", \"emi\": 0.00169322320500276}, {\"id\": 88727, \"id_comptag\": \"16-D10-40+170\", \"annee\": \"2018\", \"id_ign\": \"TRONROUT0000000041496001\", \"seq\": 26, \"distance\": 5.46030809790413, \"polluant\": \"COVNM\", \"unite\": \"tonne\", \"emi\": 0.00214499140437476}, {\"id\": 88728, \"id_comptag\": \"16-D10-40+170\", \"annee\": \"2018\", \"id_ign\": \"TRONROUT0000000342858643\", \"seq\": -1, \"distance\": 5.60175393356661, \"polluant\": \"PM10\", \"unite\": \"tonne\", \"emi\": 0.00169322320500276}, {\"id\": 88729, \"id_comptag\": \"16-D10-40+170\", \"annee\": \"2018\", \"id_ign\": \"TRONROUT0000000342858643\", \"seq\": -1, \"distance\": 5.60175393356661, \"polluant\": \"PM2_5\", \"unite\": \"tonne\", \"emi\": 0.00118787111942898}, {\"id\": 88730, \"id_comptag\": \"16-D10-40+170\", \"annee\": \"2018\", \"id_ign\": \"TRONROUT0000000342858643\", \"seq\": -1, \"distance\": 5.60175393356661, \"polluant\": \"COVNM\", \"unite\": \"tonne\", \"emi\": 0.00214499140437476}, {\"id\": 88731, \"id_comptag\": \"16-D10-40+170\", \"annee\": \"2018\", \"id_ign\": \"TRONROUT0000000342858643\", \"seq\": -1, \"distance\": 5.60175393356661, \"polluant\": \"NOX\", \"unite\": \"tonne\", \"emi\": 0.0217680198229938}, {\"id\": 88732, \"id_comptag\": \"16-D10-40+170\", \"annee\": \"2018\", \"id_ign\": \"TRONROUT0000000342858643\", \"seq\": 26, \"distance\": 5.60175393356661, \"polluant\": \"NOX\", \"unite\": \"tonne\", \"emi\": 0.0162921170720199}, {\"id\": 88733, \"id_comptag\": \"16-D10-40+170\", \"annee\": \"2018\", \"id_ign\": \"TRONROUT0000000342858643\", \"seq\": 26, \"distance\": 5.60175393356661, \"polluant\": \"COVNM\", \"unite\": \"tonne\", \"emi\": 0.00160540331011807}, {\"id\": 88734, \"id_comptag\": \"16-D10-40+170\", \"annee\": \"2018\", \"id_ign\": \"TRONROUT0000000342858643\", \"seq\": 26, \"distance\": 5.60175393356661, \"polluant\": \"PM2_5\", \"unite\": \"tonne\", \"emi\": 0.00088905355202615}, {\"id\": 88735, \"id_comptag\": \"16-D10-40+170\", \"annee\": \"2018\", \"id_ign\": \"TRONROUT0000000342858643\", \"seq\": 26, \"distance\": 5.60175393356661, \"polluant\": \"PM10\", \"unite\": \"tonne\", \"emi\": 0.00126728066720272}, {\"id\": 88736, \"id_comptag\": \"16-D10-40+170\", \"annee\": \"2018\", \"id_ign\": \"TRONROUT0000000342858643\", \"seq\": 27, \"distance\": 5.60175393356661, \"polluant\": \"PM2_5\", \"unite\": \"tonne\", \"emi\": 0.00088905355202615}, {\"id\": 88737, \"id_comptag\": \"16-D10-40+170\", \"annee\": \"2018\", \"id_ign\": \"TRONROUT0000000342858643\", \"seq\": 27, \"distance\": 5.60175393356661, \"polluant\": \"NOX\", \"unite\": \"tonne\", \"emi\": 0.0162921170720199}, {\"id\": 88738, \"id_comptag\": \"16-D10-40+170\", \"annee\": \"2018\", \"id_ign\": \"TRONROUT0000000342858643\", \"seq\": 27, \"distance\": 5.60175393356661, \"polluant\": \"PM10\", \"unite\": \"tonne\", \"emi\": 0.00126728066720272}, {\"id\": 88739, \"id_comptag\": \"16-D10-40+170\", \"annee\": \"2018\", \"id_ign\": \"TRONROUT0000000342858643\", \"seq\": 27, \"distance\": 5.60175393356661, \"polluant\": \"COVNM\", \"unite\": \"tonne\", \"emi\": 0.00160540331011807}, {\"id\": 88740, \"id_comptag\": \"16-D10-40+170\", \"annee\": \"2018\", \"id_ign\": \"TRONROUT0000000041496777\", \"seq\": -1, \"distance\": 5.70761804673361, \"polluant\": \"COVNM\", \"unite\": \"tonne\", \"emi\": 0.00160540331011807}, {\"id\": 88741, \"id_comptag\": \"16-D10-40+170\", \"annee\": \"2018\", \"id_ign\": \"TRONROUT0000000041496777\", \"seq\": -1, \"distance\": 5.70761804673361, \"polluant\": \"PM2_5\", \"unite\": \"tonne\", \"emi\": 0.00088905355202615}, {\"id\": 88742, \"id_comptag\": \"16-D10-40+170\", \"annee\": \"2018\", \"id_ign\": \"TRONROUT0000000041496777\", \"seq\": -1, \"distance\": 5.70761804673361, \"polluant\": \"PM10\", \"unite\": \"tonne\", \"emi\": 0.00126728066720272}, {\"id\": 88743, \"id_comptag\": \"16-D10-40+170\", \"annee\": \"2018\", \"id_ign\": \"TRONROUT0000000041496777\", \"seq\": -1, \"distance\": 5.70761804673361, \"polluant\": \"NOX\", \"unite\": \"tonne\", \"emi\": 0.0162921170720199}, {\"id\": 88744, \"id_comptag\": \"16-D10-40+170\", \"annee\": \"2018\", \"id_ign\": \"TRONROUT0000000041496777\", \"seq\": 27, \"distance\": 5.70761804673361, \"polluant\": \"COVNM\", \"unite\": \"tonne\", \"emi\": 0.00156231493288944}, {\"id\": 88745, \"id_comptag\": \"16-D10-40+170\", \"annee\": \"2018\", \"id_ign\": \"TRONROUT0000000041496777\", \"seq\": 27, \"distance\": 5.70761804673361, \"polluant\": \"PM2_5\", \"unite\": \"tonne\", \"emi\": 0.000867915288094141}, {\"id\": 88746, \"id_comptag\": \"16-D10-40+170\", \"annee\": \"2018\", \"id_ign\": \"TRONROUT0000000041496777\", \"seq\": 27, \"distance\": 5.70761804673361, \"polluant\": \"PM10\", \"unite\": \"tonne\", \"emi\": 0.00123683678181049}, {\"id\": 88747, \"id_comptag\": \"16-D10-40+170\", \"annee\": \"2018\", \"id_ign\": \"TRONROUT0000000041496777\", \"seq\": 27, \"distance\": 5.70761804673361, \"polluant\": \"NOX\", \"unite\": \"tonne\", \"emi\": 0.0160626008548733}, {\"id\": 88748, \"id_comptag\": \"16-D10-40+170\", \"annee\": \"2018\", \"id_ign\": \"TRONROUT0000000041496777\", \"seq\": 28, \"distance\": 5.70761804673361, \"polluant\": \"PM10\", \"unite\": \"tonne\", \"emi\": 0.00123683678181049}, {\"id\": 88749, \"id_comptag\": \"16-D10-40+170\", \"annee\": \"2018\", \"id_ign\": \"TRONROUT0000000041496777\", \"seq\": 28, \"distance\": 5.70761804673361, \"polluant\": \"NOX\", \"unite\": \"tonne\", \"emi\": 0.0160626008548733}, {\"id\": 88750, \"id_comptag\": \"16-D10-40+170\", \"annee\": \"2018\", \"id_ign\": \"TRONROUT0000000041496777\", \"seq\": 28, \"distance\": 5.70761804673361, \"polluant\": \"COVNM\", \"unite\": \"tonne\", \"emi\": 0.00156231493288944}, {\"id\": 88751, \"id_comptag\": \"16-D10-40+170\", \"annee\": \"2018\", \"id_ign\": \"TRONROUT0000000041496777\", \"seq\": 28, \"distance\": 5.70761804673361, \"polluant\": \"PM2_5\", \"unite\": \"tonne\", \"emi\": 0.000867915288094141}, {\"id\": 88752, \"id_comptag\": \"16-D10-40+170\", \"annee\": \"2018\", \"id_ign\": \"TRONROUT0000000041496778\", \"seq\": -1, \"distance\": 5.81087755720602, \"polluant\": \"PM2_5\", \"unite\": \"tonne\", \"emi\": 0.000867915288094141}, {\"id\": 88753, \"id_comptag\": \"16-D10-40+170\", \"annee\": \"2018\", \"id_ign\": \"TRONROUT0000000041496778\", \"seq\": -1, \"distance\": 5.81087755720602, \"polluant\": \"NOX\", \"unite\": \"tonne\", \"emi\": 0.0160626008548733}, {\"id\": 88754, \"id_comptag\": \"16-D10-40+170\", \"annee\": \"2018\", \"id_ign\": \"TRONROUT0000000041496778\", \"seq\": -1, \"distance\": 5.81087755720602, \"polluant\": \"PM10\", \"unite\": \"tonne\", \"emi\": 0.00123683678181049}, {\"id\": 88755, \"id_comptag\": \"16-D10-40+170\", \"annee\": \"2018\", \"id_ign\": \"TRONROUT0000000041496778\", \"seq\": -1, \"distance\": 5.81087755720602, \"polluant\": \"COVNM\", \"unite\": \"tonne\", \"emi\": 0.00156231493288944}, {\"id\": 88756, \"id_comptag\": \"16-D10-40+170\", \"annee\": \"2018\", \"id_ign\": \"TRONROUT0000000041496778\", \"seq\": 28, \"distance\": 5.81087755720602, \"polluant\": \"COVNM\", \"unite\": \"tonne\", \"emi\": 0.00391422361467572}, {\"id\": 88757, \"id_comptag\": \"16-D10-40+170\", \"annee\": \"2018\", \"id_ign\": \"TRONROUT0000000041496778\", \"seq\": 28, \"distance\": 5.81087755720602, \"polluant\": \"NOX\", \"unite\": \"tonne\", \"emi\": 0.040243237938573}, {\"id\": 88758, \"id_comptag\": \"16-D10-40+170\", \"annee\": \"2018\", \"id_ign\": \"TRONROUT0000000041496778\", \"seq\": 28, \"distance\": 5.81087755720602, \"polluant\": \"PM2_5\", \"unite\": \"tonne\", \"emi\": 0.00217447484158214}, {\"id\": 88759, \"id_comptag\": \"16-D10-40+170\", \"annee\": \"2018\", \"id_ign\": \"TRONROUT0000000041496778\", \"seq\": 28, \"distance\": 5.81087755720602, \"polluant\": \"PM10\", \"unite\": \"tonne\", \"emi\": 0.00309877070041727}, {\"id\": 88760, \"id_comptag\": \"16-D10-40+170\", \"annee\": \"2018\", \"id_ign\": \"TRONROUT0000000041496778\", \"seq\": 29, \"distance\": 5.81087755720602, \"polluant\": \"NOX\", \"unite\": \"tonne\", \"emi\": 0.040243237938573}, {\"id\": 88761, \"id_comptag\": \"16-D10-40+170\", \"annee\": \"2018\", \"id_ign\": \"TRONROUT0000000041496778\", \"seq\": 29, \"distance\": 5.81087755720602, \"polluant\": \"PM2_5\", \"unite\": \"tonne\", \"emi\": 0.00217447484158214}, {\"id\": 88762, \"id_comptag\": \"16-D10-40+170\", \"annee\": \"2018\", \"id_ign\": \"TRONROUT0000000041496778\", \"seq\": 29, \"distance\": 5.81087755720602, \"polluant\": \"COVNM\", \"unite\": \"tonne\", \"emi\": 0.00391422361467572}, {\"id\": 88763, \"id_comptag\": \"16-D10-40+170\", \"annee\": \"2018\", \"id_ign\": \"TRONROUT0000000041496778\", \"seq\": 29, \"distance\": 5.81087755720602, \"polluant\": \"PM10\", \"unite\": \"tonne\", \"emi\": 0.00309877070041727}, {\"id\": 88764, \"id_comptag\": \"16-D10-40+170\", \"annee\": \"2018\", \"id_ign\": \"TRONROUT0000000041496783\", \"seq\": -1, \"distance\": 6.06958392032287, \"polluant\": \"PM2_5\", \"unite\": \"tonne\", \"emi\": 0.00217447484158214}, {\"id\": 88765, \"id_comptag\": \"16-D10-40+170\", \"annee\": \"2018\", \"id_ign\": \"TRONROUT0000000041496783\", \"seq\": -1, \"distance\": 6.06958392032287, \"polluant\": \"COVNM\", \"unite\": \"tonne\", \"emi\": 0.00391422361467572}, {\"id\": 88766, \"id_comptag\": \"16-D10-40+170\", \"annee\": \"2018\", \"id_ign\": \"TRONROUT0000000041496783\", \"seq\": -1, \"distance\": 6.06958392032287, \"polluant\": \"NOX\", \"unite\": \"tonne\", \"emi\": 0.040243237938573}, {\"id\": 88767, \"id_comptag\": \"16-D10-40+170\", \"annee\": \"2018\", \"id_ign\": \"TRONROUT0000000041496783\", \"seq\": -1, \"distance\": 6.06958392032287, \"polluant\": \"PM10\", \"unite\": \"tonne\", \"emi\": 0.00309877070041727}, {\"id\": 88768, \"id_comptag\": \"16-D10-40+170\", \"annee\": \"2018\", \"id_ign\": \"TRONROUT0000000041496783\", \"seq\": 29, \"distance\": 6.06958392032287, \"polluant\": \"PM10\", \"unite\": \"tonne\", \"emi\": 0.00779131158145194}, {\"id\": 88769, \"id_comptag\": \"16-D10-40+170\", \"annee\": \"2018\", \"id_ign\": \"TRONROUT0000000041496783\", \"seq\": 29, \"distance\": 6.06958392032287, \"polluant\": \"COVNM\", \"unite\": \"tonne\", \"emi\": 0.00987010827730338}, {\"id\": 88770, \"id_comptag\": \"16-D10-40+170\", \"annee\": \"2018\", \"id_ign\": \"TRONROUT0000000041496783\", \"seq\": 29, \"distance\": 6.06958392032287, \"polluant\": \"NOX\", \"unite\": \"tonne\", \"emi\": 0.10016483618407}, {\"id\": 88771, \"id_comptag\": \"16-D10-40+170\", \"annee\": \"2018\", \"id_ign\": \"TRONROUT0000000041496783\", \"seq\": 29, \"distance\": 6.06958392032287, \"polluant\": \"PM2_5\", \"unite\": \"tonne\", \"emi\": 0.00546595037366276}, {\"id\": 88772, \"id_comptag\": \"16-D10-40+170\", \"annee\": \"2018\", \"id_ign\": \"TRONROUT0000000041496783\", \"seq\": 30, \"distance\": 6.06958392032287, \"polluant\": \"PM2_5\", \"unite\": \"tonne\", \"emi\": 0.00546595037366276}, {\"id\": 88773, \"id_comptag\": \"16-D10-40+170\", \"annee\": \"2018\", \"id_ign\": \"TRONROUT0000000041496783\", \"seq\": 30, \"distance\": 6.06958392032287, \"polluant\": \"PM10\", \"unite\": \"tonne\", \"emi\": 0.00779131158145194}, {\"id\": 88774, \"id_comptag\": \"16-D10-40+170\", \"annee\": \"2018\", \"id_ign\": \"TRONROUT0000000041496783\", \"seq\": 30, \"distance\": 6.06958392032287, \"polluant\": \"COVNM\", \"unite\": \"tonne\", \"emi\": 0.00987010827730338}, {\"id\": 88775, \"id_comptag\": \"16-D10-40+170\", \"annee\": \"2018\", \"id_ign\": \"TRONROUT0000000041496783\", \"seq\": 30, \"distance\": 6.06958392032287, \"polluant\": \"NOX\", \"unite\": \"tonne\", \"emi\": 0.10016483618407}, {\"id\": 88776, \"id_comptag\": \"16-D10-40+170\", \"annee\": \"2018\", \"id_ign\": \"TRONROUT0000000041496770\", \"seq\": -1, \"distance\": 6.72044233892306, \"polluant\": \"PM2_5\", \"unite\": \"tonne\", \"emi\": 0.00546595037366276}, {\"id\": 88777, \"id_comptag\": \"16-D10-40+170\", \"annee\": \"2018\", \"id_ign\": \"TRONROUT0000000041496770\", \"seq\": -1, \"distance\": 6.72044233892306, \"polluant\": \"NOX\", \"unite\": \"tonne\", \"emi\": 0.10016483618407}, {\"id\": 88778, \"id_comptag\": \"16-D10-40+170\", \"annee\": \"2018\", \"id_ign\": \"TRONROUT0000000041496770\", \"seq\": -1, \"distance\": 6.72044233892306, \"polluant\": \"PM10\", \"unite\": \"tonne\", \"emi\": 0.00779131158145194}, {\"id\": 88779, \"id_comptag\": \"16-D10-40+170\", \"annee\": \"2018\", \"id_ign\": \"TRONROUT0000000041496770\", \"seq\": -1, \"distance\": 6.72044233892306, \"polluant\": \"COVNM\", \"unite\": \"tonne\", \"emi\": 0.00987010827730338}, {\"id\": 88780, \"id_comptag\": \"16-D10-40+170\", \"annee\": \"2018\", \"id_ign\": \"TRONROUT0000000041496770\", \"seq\": 30, \"distance\": 6.72044233892306, \"polluant\": \"COVNM\", \"unite\": \"tonne\", \"emi\": 0.000965931786492984}, {\"id\": 88781, \"id_comptag\": \"16-D10-40+170\", \"annee\": \"2018\", \"id_ign\": \"TRONROUT0000000041496770\", \"seq\": 30, \"distance\": 6.72044233892306, \"polluant\": \"NOX\", \"unite\": \"tonne\", \"emi\": 0.00980256714929264}, {\"id\": 88782, \"id_comptag\": \"16-D10-40+170\", \"annee\": \"2018\", \"id_ign\": \"TRONROUT0000000041496770\", \"seq\": 30, \"distance\": 6.72044233892306, \"polluant\": \"PM10\", \"unite\": \"tonne\", \"emi\": 0.000762491687381113}, {\"id\": 88783, \"id_comptag\": \"16-D10-40+170\", \"annee\": \"2018\", \"id_ign\": \"TRONROUT0000000041496770\", \"seq\": 30, \"distance\": 6.72044233892306, \"polluant\": \"PM2_5\", \"unite\": \"tonne\", \"emi\": 0.00053492171118882}, {\"id\": 88784, \"id_comptag\": \"16-D10-40+170\", \"annee\": \"2018\", \"id_ign\": \"TRONROUT0000000041496770\", \"seq\": 31, \"distance\": 6.72044233892306, \"polluant\": \"PM2_5\", \"unite\": \"tonne\", \"emi\": 0.00053492171118882}, {\"id\": 88785, \"id_comptag\": \"16-D10-40+170\", \"annee\": \"2018\", \"id_ign\": \"TRONROUT0000000041496770\", \"seq\": 31, \"distance\": 6.72044233892306, \"polluant\": \"NOX\", \"unite\": \"tonne\", \"emi\": 0.00980256714929264}, {\"id\": 88786, \"id_comptag\": \"16-D10-40+170\", \"annee\": \"2018\", \"id_ign\": \"TRONROUT0000000041496770\", \"seq\": 31, \"distance\": 6.72044233892306, \"polluant\": \"COVNM\", \"unite\": \"tonne\", \"emi\": 0.000965931786492984}, {\"id\": 88787, \"id_comptag\": \"16-D10-40+170\", \"annee\": \"2018\", \"id_ign\": \"TRONROUT0000000041496770\", \"seq\": 31, \"distance\": 6.72044233892306, \"polluant\": \"PM10\", \"unite\": \"tonne\", \"emi\": 0.000762491687381113}, {\"id\": 88788, \"id_comptag\": \"16-D10-40+170\", \"annee\": \"2018\", \"id_ign\": \"TRONROUT0000000041497593\", \"seq\": -1, \"distance\": 6.78413817866154, \"polluant\": \"NOX\", \"unite\": \"tonne\", \"emi\": 0.00980256714929264}, {\"id\": 88789, \"id_comptag\": \"16-D10-40+170\", \"annee\": \"2018\", \"id_ign\": \"TRONROUT0000000041497593\", \"seq\": -1, \"distance\": 6.78413817866154, \"polluant\": \"PM2_5\", \"unite\": \"tonne\", \"emi\": 0.00053492171118882}, {\"id\": 88790, \"id_comptag\": \"16-D10-40+170\", \"annee\": \"2018\", \"id_ign\": \"TRONROUT0000000041497593\", \"seq\": -1, \"distance\": 6.78413817866154, \"polluant\": \"PM10\", \"unite\": \"tonne\", \"emi\": 0.000762491687381113}, {\"id\": 88791, \"id_comptag\": \"16-D10-40+170\", \"annee\": \"2018\", \"id_ign\": \"TRONROUT0000000041497593\", \"seq\": -1, \"distance\": 6.78413817866154, \"polluant\": \"COVNM\", \"unite\": \"tonne\", \"emi\": 0.000965931786492984}, {\"id\": 88792, \"id_comptag\": \"16-D10-40+170\", \"annee\": \"2018\", \"id_ign\": \"TRONROUT0000000041497593\", \"seq\": 31, \"distance\": 6.78413817866154, \"polluant\": \"PM2_5\", \"unite\": \"tonne\", \"emi\": 0.0038161239059787}, {\"id\": 88793, \"id_comptag\": \"16-D10-40+170\", \"annee\": \"2018\", \"id_ign\": \"TRONROUT0000000041497593\", \"seq\": 31, \"distance\": 6.78413817866154, \"polluant\": \"PM10\", \"unite\": \"tonne\", \"emi\": 0.00543822937054754}, {\"id\": 88794, \"id_comptag\": \"16-D10-40+170\", \"annee\": \"2018\", \"id_ign\": \"TRONROUT0000000041497593\", \"seq\": 31, \"distance\": 6.78413817866154, \"polluant\": \"NOX\", \"unite\": \"tonne\", \"emi\": 0.0706254123591691}, {\"id\": 88795, \"id_comptag\": \"16-D10-40+170\", \"annee\": \"2018\", \"id_ign\": \"TRONROUT0000000041497593\", \"seq\": 31, \"distance\": 6.78413817866154, \"polluant\": \"COVNM\", \"unite\": \"tonne\", \"emi\": 0.00686931944378908}, {\"id\": 88796, \"id_comptag\": \"16-D10-40+170\", \"annee\": \"2018\", \"id_ign\": \"TRONROUT0000000041497593\", \"seq\": 32, \"distance\": 6.78413817866154, \"polluant\": \"COVNM\", \"unite\": \"tonne\", \"emi\": 0.00686931944378908}, {\"id\": 88797, \"id_comptag\": \"16-D10-40+170\", \"annee\": \"2018\", \"id_ign\": \"TRONROUT0000000041497593\", \"seq\": 32, \"distance\": 6.78413817866154, \"polluant\": \"NOX\", \"unite\": \"tonne\", \"emi\": 0.0706254123591691}, {\"id\": 88798, \"id_comptag\": \"16-D10-40+170\", \"annee\": \"2018\", \"id_ign\": \"TRONROUT0000000041497593\", \"seq\": 32, \"distance\": 6.78413817866154, \"polluant\": \"PM2_5\", \"unite\": \"tonne\", \"emi\": 0.0038161239059787}, {\"id\": 88799, \"id_comptag\": \"16-D10-40+170\", \"annee\": \"2018\", \"id_ign\": \"TRONROUT0000000041497593\", \"seq\": 32, \"distance\": 6.78413817866154, \"polluant\": \"PM10\", \"unite\": \"tonne\", \"emi\": 0.00543822937054754}, {\"id\": 88800, \"id_comptag\": \"16-D10-40+170\", \"annee\": \"2018\", \"id_ign\": \"TRONROUT0000000041497595\", \"seq\": -1, \"distance\": 7.23815839450395, \"polluant\": \"NOX\", \"unite\": \"tonne\", \"emi\": 0.0706254123591691}, {\"id\": 88801, \"id_comptag\": \"16-D10-40+170\", \"annee\": \"2018\", \"id_ign\": \"TRONROUT0000000041497595\", \"seq\": -1, \"distance\": 7.23815839450395, \"polluant\": \"PM10\", \"unite\": \"tonne\", \"emi\": 0.00543822937054754}, {\"id\": 88802, \"id_comptag\": \"16-D10-40+170\", \"annee\": \"2018\", \"id_ign\": \"TRONROUT0000000041497595\", \"seq\": -1, \"distance\": 7.23815839450395, \"polluant\": \"COVNM\", \"unite\": \"tonne\", \"emi\": 0.00686931944378908}, {\"id\": 88803, \"id_comptag\": \"16-D10-40+170\", \"annee\": \"2018\", \"id_ign\": \"TRONROUT0000000041497595\", \"seq\": -1, \"distance\": 7.23815839450395, \"polluant\": \"PM2_5\", \"unite\": \"tonne\", \"emi\": 0.0038161239059787}, {\"id\": 88804, \"id_comptag\": \"16-D10-40+170\", \"annee\": \"2018\", \"id_ign\": \"TRONROUT0000000041497595\", \"seq\": 32, \"distance\": 7.23815839450395, \"polluant\": \"NOX\", \"unite\": \"tonne\", \"emi\": 0.00108331978538615}, {\"id\": 88805, \"id_comptag\": \"16-D10-40+170\", \"annee\": \"2018\", \"id_ign\": \"TRONROUT0000000041497595\", \"seq\": 32, \"distance\": 7.23815839450395, \"polluant\": \"PM2_5\", \"unite\": \"tonne\", \"emi\": 5.85353400813819e-05}, {\"id\": 88806, \"id_comptag\": \"16-D10-40+170\", \"annee\": \"2018\", \"id_ign\": \"TRONROUT0000000041497595\", \"seq\": 32, \"distance\": 7.23815839450395, \"polluant\": \"PM10\", \"unite\": \"tonne\", \"emi\": 8.34167373723993e-05}, {\"id\": 88807, \"id_comptag\": \"16-D10-40+170\", \"annee\": \"2018\", \"id_ign\": \"TRONROUT0000000041497595\", \"seq\": 32, \"distance\": 7.23815839450395, \"polluant\": \"COVNM\", \"unite\": \"tonne\", \"emi\": 0.000105368158811583}, {\"id\": 88808, \"id_comptag\": \"16-D10-40+170\", \"annee\": \"2018\", \"id_ign\": \"TRONROUT0000000041497595\", \"seq\": 33, \"distance\": 7.23815839450395, \"polluant\": \"NOX\", \"unite\": \"tonne\", \"emi\": 0.00108331978538615}, {\"id\": 88809, \"id_comptag\": \"16-D10-40+170\", \"annee\": \"2018\", \"id_ign\": \"TRONROUT0000000041497595\", \"seq\": 33, \"distance\": 7.23815839450395, \"polluant\": \"COVNM\", \"unite\": \"tonne\", \"emi\": 0.000105368158811583}, {\"id\": 88810, \"id_comptag\": \"16-D10-40+170\", \"annee\": \"2018\", \"id_ign\": \"TRONROUT0000000041497595\", \"seq\": 33, \"distance\": 7.23815839450395, \"polluant\": \"PM10\", \"unite\": \"tonne\", \"emi\": 8.34167373723993e-05}, {\"id\": 88811, \"id_comptag\": \"16-D10-40+170\", \"annee\": \"2018\", \"id_ign\": \"TRONROUT0000000041497595\", \"seq\": 33, \"distance\": 7.23815839450395, \"polluant\": \"PM2_5\", \"unite\": \"tonne\", \"emi\": 5.85353400813819e-05}, {\"id\": 88812, \"id_comptag\": \"16-D10-40+170\", \"annee\": \"2018\", \"id_ign\": \"TRONROUT0000000041497594\", \"seq\": -1, \"distance\": 7.24512258864254, \"polluant\": \"COVNM\", \"unite\": \"tonne\", \"emi\": 0.000105368158811583}, {\"id\": 88813, \"id_comptag\": \"16-D10-40+170\", \"annee\": \"2018\", \"id_ign\": \"TRONROUT0000000041497594\", \"seq\": -1, \"distance\": 7.24512258864254, \"polluant\": \"NOX\", \"unite\": \"tonne\", \"emi\": 0.00108331978538615}, {\"id\": 88814, \"id_comptag\": \"16-D10-40+170\", \"annee\": \"2018\", \"id_ign\": \"TRONROUT0000000041497594\", \"seq\": -1, \"distance\": 7.24512258864254, \"polluant\": \"PM10\", \"unite\": \"tonne\", \"emi\": 8.34167373723993e-05}, {\"id\": 88815, \"id_comptag\": \"16-D10-40+170\", \"annee\": \"2018\", \"id_ign\": \"TRONROUT0000000041497594\", \"seq\": -1, \"distance\": 7.24512258864254, \"polluant\": \"PM2_5\", \"unite\": \"tonne\", \"emi\": 5.85353400813819e-05}, {\"id\": 88816, \"id_comptag\": \"16-D10-40+170\", \"annee\": \"2018\", \"id_ign\": \"TRONROUT0000000041497594\", \"seq\": 33, \"distance\": 7.24512258864254, \"polluant\": \"PM2_5\", \"unite\": \"tonne\", \"emi\": 0.00249008334533268}, {\"id\": 88817, \"id_comptag\": \"16-D10-40+170\", \"annee\": \"2018\", \"id_ign\": \"TRONROUT0000000041497594\", \"seq\": 33, \"distance\": 7.24512258864254, \"polluant\": \"COVNM\", \"unite\": \"tonne\", \"emi\": 0.00448234343595357}, {\"id\": 88818, \"id_comptag\": \"16-D10-40+170\", \"annee\": \"2018\", \"id_ign\": \"TRONROUT0000000041497594\", \"seq\": 33, \"distance\": 7.24512258864254, \"polluant\": \"PM10\", \"unite\": \"tonne\", \"emi\": 0.00354853372619369}, {\"id\": 88819, \"id_comptag\": \"16-D10-40+170\", \"annee\": \"2018\", \"id_ign\": \"TRONROUT0000000041497594\", \"seq\": 33, \"distance\": 7.24512258864254, \"polluant\": \"NOX\", \"unite\": \"tonne\", \"emi\": 0.046084238197113}, {\"id\": 88820, \"id_comptag\": \"16-D10-40+170\", \"annee\": \"2018\", \"id_ign\": \"TRONROUT0000000041497594\", \"seq\": 34, \"distance\": 7.24512258864254, \"polluant\": \"PM10\", \"unite\": \"tonne\", \"emi\": 0.00354853372619369}, {\"id\": 88821, \"id_comptag\": \"16-D10-40+170\", \"annee\": \"2018\", \"id_ign\": \"TRONROUT0000000041497594\", \"seq\": 34, \"distance\": 7.24512258864254, \"polluant\": \"PM2_5\", \"unite\": \"tonne\", \"emi\": 0.00249008334533268}, {\"id\": 88822, \"id_comptag\": \"16-D10-40+170\", \"annee\": \"2018\", \"id_ign\": \"TRONROUT0000000041497594\", \"seq\": 34, \"distance\": 7.24512258864254, \"polluant\": \"COVNM\", \"unite\": \"tonne\", \"emi\": 0.00448234343595357}, {\"id\": 88823, \"id_comptag\": \"16-D10-40+170\", \"annee\": \"2018\", \"id_ign\": \"TRONROUT0000000041497594\", \"seq\": 34, \"distance\": 7.24512258864254, \"polluant\": \"NOX\", \"unite\": \"tonne\", \"emi\": 0.046084238197113}, {\"id\": 88824, \"id_comptag\": \"16-D10-40+170\", \"annee\": \"2018\", \"id_ign\": \"TRONROUT0000000041497602\", \"seq\": -1, \"distance\": 7.54137821497121, \"polluant\": \"PM2_5\", \"unite\": \"tonne\", \"emi\": 0.00249008334533268}, {\"id\": 88825, \"id_comptag\": \"16-D10-40+170\", \"annee\": \"2018\", \"id_ign\": \"TRONROUT0000000041497602\", \"seq\": -1, \"distance\": 7.54137821497121, \"polluant\": \"COVNM\", \"unite\": \"tonne\", \"emi\": 0.00448234343595357}, {\"id\": 88826, \"id_comptag\": \"16-D10-40+170\", \"annee\": \"2018\", \"id_ign\": \"TRONROUT0000000041497602\", \"seq\": -1, \"distance\": 7.54137821497121, \"polluant\": \"PM10\", \"unite\": \"tonne\", \"emi\": 0.00354853372619369}, {\"id\": 88827, \"id_comptag\": \"16-D10-40+170\", \"annee\": \"2018\", \"id_ign\": \"TRONROUT0000000041497602\", \"seq\": -1, \"distance\": 7.54137821497121, \"polluant\": \"NOX\", \"unite\": \"tonne\", \"emi\": 0.046084238197113}, {\"id\": 88828, \"id_comptag\": \"16-D10-40+170\", \"annee\": \"2018\", \"id_ign\": \"TRONROUT0000000041497602\", \"seq\": 34, \"distance\": 7.54137821497121, \"polluant\": \"PM10\", \"unite\": \"tonne\", \"emi\": 0.00398697194051332}, {\"id\": 88829, \"id_comptag\": \"16-D10-40+170\", \"annee\": \"2018\", \"id_ign\": \"TRONROUT0000000041497602\", \"seq\": 34, \"distance\": 7.54137821497121, \"polluant\": \"COVNM\", \"unite\": \"tonne\", \"emi\": 0.00503198393868775}, {\"id\": 88830, \"id_comptag\": \"16-D10-40+170\", \"annee\": \"2018\", \"id_ign\": \"TRONROUT0000000041497602\", \"seq\": 34, \"distance\": 7.54137821497121, \"polluant\": \"PM2_5\", \"unite\": \"tonne\", \"emi\": 0.00279907174169656}, {\"id\": 88831, \"id_comptag\": \"16-D10-40+170\", \"annee\": \"2018\", \"id_ign\": \"TRONROUT0000000041497602\", \"seq\": 34, \"distance\": 7.54137821497121, \"polluant\": \"NOX\", \"unite\": \"tonne\", \"emi\": 0.0523833840464891}, {\"id\": 88832, \"id_comptag\": \"16-D10-40+170\", \"annee\": \"2018\", \"id_ign\": \"TRONROUT0000000041497602\", \"seq\": 35, \"distance\": 7.54137821497121, \"polluant\": \"PM10\", \"unite\": \"tonne\", \"emi\": 0.00398697194051332}, {\"id\": 88833, \"id_comptag\": \"16-D10-40+170\", \"annee\": \"2018\", \"id_ign\": \"TRONROUT0000000041497602\", \"seq\": 35, \"distance\": 7.54137821497121, \"polluant\": \"PM2_5\", \"unite\": \"tonne\", \"emi\": 0.00279907174169656}, {\"id\": 88834, \"id_comptag\": \"16-D10-40+170\", \"annee\": \"2018\", \"id_ign\": \"TRONROUT0000000041497602\", \"seq\": 35, \"distance\": 7.54137821497121, \"polluant\": \"COVNM\", \"unite\": \"tonne\", \"emi\": 0.00503198393868775}, {\"id\": 88835, \"id_comptag\": \"16-D10-40+170\", \"annee\": \"2018\", \"id_ign\": \"TRONROUT0000000041497602\", \"seq\": 35, \"distance\": 7.54137821497121, \"polluant\": \"NOX\", \"unite\": \"tonne\", \"emi\": 0.0523833840464891}, {\"id\": 88836, \"id_comptag\": \"16-D10-40+170\", \"annee\": \"2018\", \"id_ign\": \"TRONROUT0000000041498417\", \"seq\": -1, \"distance\": 7.87386627844579, \"polluant\": \"PM10\", \"unite\": \"tonne\", \"emi\": 0.00398697194051332}, {\"id\": 88837, \"id_comptag\": \"16-D10-40+170\", \"annee\": \"2018\", \"id_ign\": \"TRONROUT0000000041498417\", \"seq\": -1, \"distance\": 7.87386627844579, \"polluant\": \"NOX\", \"unite\": \"tonne\", \"emi\": 0.0523833840464891}, {\"id\": 88838, \"id_comptag\": \"16-D10-40+170\", \"annee\": \"2018\", \"id_ign\": \"TRONROUT0000000041498417\", \"seq\": -1, \"distance\": 7.87386627844579, \"polluant\": \"PM2_5\", \"unite\": \"tonne\", \"emi\": 0.00279907174169656}, {\"id\": 88839, \"id_comptag\": \"16-D10-40+170\", \"annee\": \"2018\", \"id_ign\": \"TRONROUT0000000041498417\", \"seq\": -1, \"distance\": 7.87386627844579, \"polluant\": \"COVNM\", \"unite\": \"tonne\", \"emi\": 0.00503198393868775}, {\"id\": 88840, \"id_comptag\": \"16-D10-40+170\", \"annee\": \"2018\", \"id_ign\": \"TRONROUT0000000041498417\", \"seq\": 35, \"distance\": 7.87386627844579, \"polluant\": \"PM10\", \"unite\": \"tonne\", \"emi\": 0.0047892472217209}, {\"id\": 88841, \"id_comptag\": \"16-D10-40+170\", \"annee\": \"2018\", \"id_ign\": \"TRONROUT0000000041498417\", \"seq\": 35, \"distance\": 7.87386627844579, \"polluant\": \"NOX\", \"unite\": \"tonne\", \"emi\": 0.062197185311069}, {\"id\": 88842, \"id_comptag\": \"16-D10-40+170\", \"annee\": \"2018\", \"id_ign\": \"TRONROUT0000000041498417\", \"seq\": 35, \"distance\": 7.87386627844579, \"polluant\": \"PM2_5\", \"unite\": \"tonne\", \"emi\": 0.00336071900781395}, {\"id\": 88843, \"id_comptag\": \"16-D10-40+170\", \"annee\": \"2018\", \"id_ign\": \"TRONROUT0000000041498417\", \"seq\": 35, \"distance\": 7.87386627844579, \"polluant\": \"COVNM\", \"unite\": \"tonne\", \"emi\": 0.00604955525404178}, {\"id\": 88844, \"id_comptag\": \"16-D10-40+170\", \"annee\": \"2018\", \"id_ign\": \"TRONROUT0000000041498417\", \"seq\": 36, \"distance\": 7.87386627844579, \"polluant\": \"PM2_5\", \"unite\": \"tonne\", \"emi\": 0.00336071900781395}, {\"id\": 88845, \"id_comptag\": \"16-D10-40+170\", \"annee\": \"2018\", \"id_ign\": \"TRONROUT0000000041498417\", \"seq\": 36, \"distance\": 7.87386627844579, \"polluant\": \"PM10\", \"unite\": \"tonne\", \"emi\": 0.0047892472217209}, {\"id\": 88846, \"id_comptag\": \"16-D10-40+170\", \"annee\": \"2018\", \"id_ign\": \"TRONROUT0000000041498417\", \"seq\": 36, \"distance\": 7.87386627844579, \"polluant\": \"NOX\", \"unite\": \"tonne\", \"emi\": 0.062197185311069}, {\"id\": 88847, \"id_comptag\": \"16-D10-40+170\", \"annee\": \"2018\", \"id_ign\": \"TRONROUT0000000041498417\", \"seq\": 36, \"distance\": 7.87386627844579, \"polluant\": \"COVNM\", \"unite\": \"tonne\", \"emi\": 0.00604955525404178}, {\"id\": 88848, \"id_comptag\": \"16-D10-40+170\", \"annee\": \"2018\", \"id_ign\": \"TRONROUT0000000041498419\", \"seq\": -1, \"distance\": 8.27370506956126, \"polluant\": \"NOX\", \"unite\": \"tonne\", \"emi\": 0.062197185311069}, {\"id\": 88849, \"id_comptag\": \"16-D10-40+170\", \"annee\": \"2018\", \"id_ign\": \"TRONROUT0000000041498419\", \"seq\": -1, \"distance\": 8.27370506956126, \"polluant\": \"PM10\", \"unite\": \"tonne\", \"emi\": 0.0047892472217209}, {\"id\": 88850, \"id_comptag\": \"16-D10-40+170\", \"annee\": \"2018\", \"id_ign\": \"TRONROUT0000000041498419\", \"seq\": -1, \"distance\": 8.27370506956126, \"polluant\": \"COVNM\", \"unite\": \"tonne\", \"emi\": 0.00604955525404178}, {\"id\": 88851, \"id_comptag\": \"16-D10-40+170\", \"annee\": \"2018\", \"id_ign\": \"TRONROUT0000000041498419\", \"seq\": -1, \"distance\": 8.27370506956126, \"polluant\": \"PM2_5\", \"unite\": \"tonne\", \"emi\": 0.00336071900781395}, {\"id\": 88852, \"id_comptag\": \"16-D10-40+170\", \"annee\": \"2018\", \"id_ign\": \"TRONROUT0000000041498419\", \"seq\": 36, \"distance\": 8.27370506956126, \"polluant\": \"COVNM\", \"unite\": \"tonne\", \"emi\": 0.00198786928580941}, {\"id\": 88853, \"id_comptag\": \"16-D10-40+170\", \"annee\": \"2018\", \"id_ign\": \"TRONROUT0000000041498419\", \"seq\": 36, \"distance\": 8.27370506956126, \"polluant\": \"NOX\", \"unite\": \"tonne\", \"emi\": 0.020437845288059}, {\"id\": 88854, \"id_comptag\": \"16-D10-40+170\", \"annee\": \"2018\", \"id_ign\": \"TRONROUT0000000041498419\", \"seq\": 36, \"distance\": 8.27370506956126, \"polluant\": \"PM10\", \"unite\": \"tonne\", \"emi\": 0.00157373510190627}, {\"id\": 88855, \"id_comptag\": \"16-D10-40+170\", \"annee\": \"2018\", \"id_ign\": \"TRONROUT0000000041498419\", \"seq\": 36, \"distance\": 8.27370506956126, \"polluant\": \"PM2_5\", \"unite\": \"tonne\", \"emi\": 0.001104324171501}, {\"id\": 88856, \"id_comptag\": \"16-D10-40+170\", \"annee\": \"2018\", \"id_ign\": \"TRONROUT0000000041498419\", \"seq\": 37, \"distance\": 8.27370506956126, \"polluant\": \"PM2_5\", \"unite\": \"tonne\", \"emi\": 0.001104324171501}, {\"id\": 88857, \"id_comptag\": \"16-D10-40+170\", \"annee\": \"2018\", \"id_ign\": \"TRONROUT0000000041498419\", \"seq\": 37, \"distance\": 8.27370506956126, \"polluant\": \"NOX\", \"unite\": \"tonne\", \"emi\": 0.020437845288059}, {\"id\": 88858, \"id_comptag\": \"16-D10-40+170\", \"annee\": \"2018\", \"id_ign\": \"TRONROUT0000000041498419\", \"seq\": 37, \"distance\": 8.27370506956126, \"polluant\": \"PM10\", \"unite\": \"tonne\", \"emi\": 0.00157373510190627}, {\"id\": 88859, \"id_comptag\": \"16-D10-40+170\", \"annee\": \"2018\", \"id_ign\": \"TRONROUT0000000041498419\", \"seq\": 37, \"distance\": 8.27370506956126, \"polluant\": \"COVNM\", \"unite\": \"tonne\", \"emi\": 0.00198786928580941}, {\"id\": 88860, \"id_comptag\": \"16-D10-40+170\", \"annee\": \"2018\", \"id_ign\": \"TRONROUT0000000041498423\", \"seq\": -1, \"distance\": 8.40509113328927, \"polluant\": \"PM2_5\", \"unite\": \"tonne\", \"emi\": 0.001104324171501}, {\"id\": 88861, \"id_comptag\": \"16-D10-40+170\", \"annee\": \"2018\", \"id_ign\": \"TRONROUT0000000041498423\", \"seq\": -1, \"distance\": 8.40509113328927, \"polluant\": \"PM10\", \"unite\": \"tonne\", \"emi\": 0.00157373510190627}, {\"id\": 88862, \"id_comptag\": \"16-D10-40+170\", \"annee\": \"2018\", \"id_ign\": \"TRONROUT0000000041498423\", \"seq\": -1, \"distance\": 8.40509113328927, \"polluant\": \"COVNM\", \"unite\": \"tonne\", \"emi\": 0.00198786928580941}, {\"id\": 88863, \"id_comptag\": \"16-D10-40+170\", \"annee\": \"2018\", \"id_ign\": \"TRONROUT0000000041498423\", \"seq\": -1, \"distance\": 8.40509113328927, \"polluant\": \"NOX\", \"unite\": \"tonne\", \"emi\": 0.020437845288059}, {\"id\": 88864, \"id_comptag\": \"16-D10-40+170\", \"annee\": \"2018\", \"id_ign\": \"TRONROUT0000000041498423\", \"seq\": 37, \"distance\": 8.40509113328927, \"polluant\": \"NOX\", \"unite\": \"tonne\", \"emi\": 0.0361912281014709}, {\"id\": 88865, \"id_comptag\": \"16-D10-40+170\", \"annee\": \"2018\", \"id_ign\": \"TRONROUT0000000041498423\", \"seq\": 37, \"distance\": 8.40509113328927, \"polluant\": \"PM10\", \"unite\": \"tonne\", \"emi\": 0.00278676177657818}, {\"id\": 88866, \"id_comptag\": \"16-D10-40+170\", \"annee\": \"2018\", \"id_ign\": \"TRONROUT0000000041498423\", \"seq\": 37, \"distance\": 8.40509113328927, \"polluant\": \"COVNM\", \"unite\": \"tonne\", \"emi\": 0.00352010839423812}, {\"id\": 88867, \"id_comptag\": \"16-D10-40+170\", \"annee\": \"2018\", \"id_ign\": \"TRONROUT0000000041498423\", \"seq\": 37, \"distance\": 8.40509113328927, \"polluant\": \"PM2_5\", \"unite\": \"tonne\", \"emi\": 0.00195553138921702}, {\"id\": 88868, \"id_comptag\": \"16-D10-40+170\", \"annee\": \"2018\", \"id_ign\": \"TRONROUT0000000041498423\", \"seq\": 38, \"distance\": 8.40509113328927, \"polluant\": \"NOX\", \"unite\": \"tonne\", \"emi\": 0.0361912281014709}, {\"id\": 88869, \"id_comptag\": \"16-D10-40+170\", \"annee\": \"2018\", \"id_ign\": \"TRONROUT0000000041498423\", \"seq\": 38, \"distance\": 8.40509113328927, \"polluant\": \"PM10\", \"unite\": \"tonne\", \"emi\": 0.00278676177657818}, {\"id\": 88870, \"id_comptag\": \"16-D10-40+170\", \"annee\": \"2018\", \"id_ign\": \"TRONROUT0000000041498423\", \"seq\": 38, \"distance\": 8.40509113328927, \"polluant\": \"COVNM\", \"unite\": \"tonne\", \"emi\": 0.00352010839423812}, {\"id\": 88871, \"id_comptag\": \"16-D10-40+170\", \"annee\": \"2018\", \"id_ign\": \"TRONROUT0000000041498423\", \"seq\": 38, \"distance\": 8.40509113328927, \"polluant\": \"PM2_5\", \"unite\": \"tonne\", \"emi\": 0.00195553138921702}, {\"id\": 88872, \"id_comptag\": \"16-D10-40+170\", \"annee\": \"2018\", \"id_ign\": \"TRONROUT0000000041498422\", \"seq\": -1, \"distance\": 8.63774887850239, \"polluant\": \"PM10\", \"unite\": \"tonne\", \"emi\": 0.00278676177657818}, {\"id\": 88873, \"id_comptag\": \"16-D10-40+170\", \"annee\": \"2018\", \"id_ign\": \"TRONROUT0000000041498422\", \"seq\": -1, \"distance\": 8.63774887850239, \"polluant\": \"PM2_5\", \"unite\": \"tonne\", \"emi\": 0.00195553138921702}, {\"id\": 88874, \"id_comptag\": \"16-D10-40+170\", \"annee\": \"2018\", \"id_ign\": \"TRONROUT0000000041498422\", \"seq\": -1, \"distance\": 8.63774887850239, \"polluant\": \"COVNM\", \"unite\": \"tonne\", \"emi\": 0.00352010839423812}, {\"id\": 88875, \"id_comptag\": \"16-D10-40+170\", \"annee\": \"2018\", \"id_ign\": \"TRONROUT0000000041498422\", \"seq\": -1, \"distance\": 8.63774887850239, \"polluant\": \"NOX\", \"unite\": \"tonne\", \"emi\": 0.0361912281014709}, {\"id\": 88876, \"id_comptag\": \"16-D10-40+170\", \"annee\": \"2018\", \"id_ign\": \"TRONROUT0000000041498422\", \"seq\": 38, \"distance\": 8.63774887850239, \"polluant\": \"COVNM\", \"unite\": \"tonne\", \"emi\": 0.000823009334330314}, {\"id\": 88877, \"id_comptag\": \"16-D10-40+170\", \"annee\": \"2018\", \"id_ign\": \"TRONROUT0000000041498422\", \"seq\": 38, \"distance\": 8.63774887850239, \"polluant\": \"PM10\", \"unite\": \"tonne\", \"emi\": 0.000652091732155096}, {\"id\": 88878, \"id_comptag\": \"16-D10-40+170\", \"annee\": \"2018\", \"id_ign\": \"TRONROUT0000000041498422\", \"seq\": 38, \"distance\": 8.63774887850239, \"polluant\": \"PM2_5\", \"unite\": \"tonne\", \"emi\": 0.000457803959421467}, {\"id\": 88879, \"id_comptag\": \"16-D10-40+170\", \"annee\": \"2018\", \"id_ign\": \"TRONROUT0000000041498422\", \"seq\": 38, \"distance\": 8.63774887850239, \"polluant\": \"NOX\", \"unite\": \"tonne\", \"emi\": 0.00856759770288797}, {\"id\": 88880, \"id_comptag\": \"16-D10-40+170\", \"annee\": \"2018\", \"id_ign\": \"TRONROUT0000000041498422\", \"seq\": 39, \"distance\": 8.63774887850239, \"polluant\": \"NOX\", \"unite\": \"tonne\", \"emi\": 0.00856759770288797}, {\"id\": 88881, \"id_comptag\": \"16-D10-40+170\", \"annee\": \"2018\", \"id_ign\": \"TRONROUT0000000041498422\", \"seq\": 39, \"distance\": 8.63774887850239, \"polluant\": \"PM2_5\", \"unite\": \"tonne\", \"emi\": 0.000457803959421467}, {\"id\": 88882, \"id_comptag\": \"16-D10-40+170\", \"annee\": \"2018\", \"id_ign\": \"TRONROUT0000000041498422\", \"seq\": 39, \"distance\": 8.63774887850239, \"polluant\": \"COVNM\", \"unite\": \"tonne\", \"emi\": 0.000823009334330314}, {\"id\": 88883, \"id_comptag\": \"16-D10-40+170\", \"annee\": \"2018\", \"id_ign\": \"TRONROUT0000000041498422\", \"seq\": 39, \"distance\": 8.63774887850239, \"polluant\": \"PM10\", \"unite\": \"tonne\", \"emi\": 0.000652091732155096}, {\"id\": 88884, \"id_comptag\": \"16-D10-40+170\", \"annee\": \"2018\", \"id_ign\": \"TRONROUT0000000041498418\", \"seq\": -1, \"distance\": 8.69212917524562, \"polluant\": \"NOX\", \"unite\": \"tonne\", \"emi\": 0.00856759770288797}, {\"id\": 88885, \"id_comptag\": \"16-D10-40+170\", \"annee\": \"2018\", \"id_ign\": \"TRONROUT0000000041498418\", \"seq\": -1, \"distance\": 8.69212917524562, \"polluant\": \"COVNM\", \"unite\": \"tonne\", \"emi\": 0.000823009334330314}, {\"id\": 88886, \"id_comptag\": \"16-D10-40+170\", \"annee\": \"2018\", \"id_ign\": \"TRONROUT0000000041498418\", \"seq\": -1, \"distance\": 8.69212917524562, \"polluant\": \"PM2_5\", \"unite\": \"tonne\", \"emi\": 0.000457803959421467}, {\"id\": 88887, \"id_comptag\": \"16-D10-40+170\", \"annee\": \"2018\", \"id_ign\": \"TRONROUT0000000041498418\", \"seq\": -1, \"distance\": 8.69212917524562, \"polluant\": \"PM10\", \"unite\": \"tonne\", \"emi\": 0.000652091732155096}, {\"id\": 88888, \"id_comptag\": \"16-D10-40+170\", \"annee\": \"2018\", \"id_ign\": \"TRONROUT0000000041498418\", \"seq\": 39, \"distance\": 8.69212917524562, \"polluant\": \"PM10\", \"unite\": \"tonne\", \"emi\": 0.00141029994443989}, {\"id\": 88889, \"id_comptag\": \"16-D10-40+170\", \"annee\": \"2018\", \"id_ign\": \"TRONROUT0000000041498418\", \"seq\": 39, \"distance\": 8.69212917524562, \"polluant\": \"PM2_5\", \"unite\": \"tonne\", \"emi\": 0.000989638164532888}, {\"id\": 88890, \"id_comptag\": \"16-D10-40+170\", \"annee\": \"2018\", \"id_ign\": \"TRONROUT0000000041498418\", \"seq\": 39, \"distance\": 8.69212917524562, \"polluant\": \"COVNM\", \"unite\": \"tonne\", \"emi\": 0.00178142556516336}, {\"id\": 88891, \"id_comptag\": \"16-D10-40+170\", \"annee\": \"2018\", \"id_ign\": \"TRONROUT0000000041498418\", \"seq\": 39, \"distance\": 8.69212917524562, \"polluant\": \"NOX\", \"unite\": \"tonne\", \"emi\": 0.0183153391185765}, {\"id\": 88892, \"id_comptag\": \"16-D10-40+170\", \"annee\": \"2018\", \"id_ign\": \"TRONROUT0000000041498418\", \"seq\": 40, \"distance\": 8.69212917524562, \"polluant\": \"PM10\", \"unite\": \"tonne\", \"emi\": 0.00141029994443989}, {\"id\": 88893, \"id_comptag\": \"16-D10-40+170\", \"annee\": \"2018\", \"id_ign\": \"TRONROUT0000000041498418\", \"seq\": 40, \"distance\": 8.69212917524562, \"polluant\": \"NOX\", \"unite\": \"tonne\", \"emi\": 0.0183153391185765}, {\"id\": 88894, \"id_comptag\": \"16-D10-40+170\", \"annee\": \"2018\", \"id_ign\": \"TRONROUT0000000041498418\", \"seq\": 40, \"distance\": 8.69212917524562, \"polluant\": \"COVNM\", \"unite\": \"tonne\", \"emi\": 0.00178142556516336}, {\"id\": 88895, \"id_comptag\": \"16-D10-40+170\", \"annee\": \"2018\", \"id_ign\": \"TRONROUT0000000041498418\", \"seq\": 40, \"distance\": 8.69212917524562, \"polluant\": \"PM2_5\", \"unite\": \"tonne\", \"emi\": 0.000989638164532888}, {\"id\": 88896, \"id_comptag\": \"16-D10-40+170\", \"annee\": \"2018\", \"id_ign\": \"TRONROUT0000000331916959\", \"seq\": -1, \"distance\": 8.80987056523644, \"polluant\": \"COVNM\", \"unite\": \"tonne\", \"emi\": 0.00178142556516336}, {\"id\": 88897, \"id_comptag\": \"16-D10-40+170\", \"annee\": \"2018\", \"id_ign\": \"TRONROUT0000000331916959\", \"seq\": -1, \"distance\": 8.80987056523644, \"polluant\": \"NOX\", \"unite\": \"tonne\", \"emi\": 0.0183153391185765}, {\"id\": 88898, \"id_comptag\": \"16-D10-40+170\", \"annee\": \"2018\", \"id_ign\": \"TRONROUT0000000331916959\", \"seq\": -1, \"distance\": 8.80987056523644, \"polluant\": \"PM10\", \"unite\": \"tonne\", \"emi\": 0.00141029994443989}, {\"id\": 88899, \"id_comptag\": \"16-D10-40+170\", \"annee\": \"2018\", \"id_ign\": \"TRONROUT0000000331916959\", \"seq\": -1, \"distance\": 8.80987056523644, \"polluant\": \"PM2_5\", \"unite\": \"tonne\", \"emi\": 0.000989638164532888}, {\"id\": 88900, \"id_comptag\": \"16-D10-40+170\", \"annee\": \"2018\", \"id_ign\": \"TRONROUT0000000331916959\", \"seq\": 40, \"distance\": 8.80987056523644, \"polluant\": \"NOX\", \"unite\": \"tonne\", \"emi\": 0.00195065799819949}, {\"id\": 88901, \"id_comptag\": \"16-D10-40+170\", \"annee\": \"2018\", \"id_ign\": \"TRONROUT0000000331916959\", \"seq\": 40, \"distance\": 8.80987056523644, \"polluant\": \"PM2_5\", \"unite\": \"tonne\", \"emi\": 0.000105400483631317}, {\"id\": 88902, \"id_comptag\": \"16-D10-40+170\", \"annee\": \"2018\", \"id_ign\": \"TRONROUT0000000331916959\", \"seq\": 40, \"distance\": 8.80987056523644, \"polluant\": \"PM10\", \"unite\": \"tonne\", \"emi\": 0.000150202671578805}, {\"id\": 88903, \"id_comptag\": \"16-D10-40+170\", \"annee\": \"2018\", \"id_ign\": \"TRONROUT0000000331916959\", \"seq\": 40, \"distance\": 8.80987056523644, \"polluant\": \"COVNM\", \"unite\": \"tonne\", \"emi\": 0.000189729057397493}, {\"id\": 88904, \"id_comptag\": \"16-D10-40+170\", \"annee\": \"2018\", \"id_ign\": \"TRONROUT0000000331916959\", \"seq\": 41, \"distance\": 8.80987056523644, \"polluant\": \"PM2_5\", \"unite\": \"tonne\", \"emi\": 0.000105400483631317}, {\"id\": 88905, \"id_comptag\": \"16-D10-40+170\", \"annee\": \"2018\", \"id_ign\": \"TRONROUT0000000331916959\", \"seq\": 41, \"distance\": 8.80987056523644, \"polluant\": \"PM10\", \"unite\": \"tonne\", \"emi\": 0.000150202671578805}, {\"id\": 88906, \"id_comptag\": \"16-D10-40+170\", \"annee\": \"2018\", \"id_ign\": \"TRONROUT0000000331916959\", \"seq\": 41, \"distance\": 8.80987056523644, \"polluant\": \"COVNM\", \"unite\": \"tonne\", \"emi\": 0.000189729057397493}, {\"id\": 88907, \"id_comptag\": \"16-D10-40+170\", \"annee\": \"2018\", \"id_ign\": \"TRONROUT0000000331916959\", \"seq\": 41, \"distance\": 8.80987056523644, \"polluant\": \"NOX\", \"unite\": \"tonne\", \"emi\": 0.00195065799819949}, {\"id\": 88908, \"id_comptag\": \"16-D10-40+170\", \"annee\": \"2018\", \"id_ign\": \"TRONROUT0000000041498424\", \"seq\": -1, \"distance\": 8.82241050144061, \"polluant\": \"PM2_5\", \"unite\": \"tonne\", \"emi\": 0.000105400483631317}, {\"id\": 88909, \"id_comptag\": \"16-D10-40+170\", \"annee\": \"2018\", \"id_ign\": \"TRONROUT0000000041498424\", \"seq\": -1, \"distance\": 8.82241050144061, \"polluant\": \"PM10\", \"unite\": \"tonne\", \"emi\": 0.000150202671578805}, {\"id\": 88910, \"id_comptag\": \"16-D10-40+170\", \"annee\": \"2018\", \"id_ign\": \"TRONROUT0000000041498424\", \"seq\": -1, \"distance\": 8.82241050144061, \"polluant\": \"NOX\", \"unite\": \"tonne\", \"emi\": 0.00195065799819949}, {\"id\": 88911, \"id_comptag\": \"16-D10-40+170\", \"annee\": \"2018\", \"id_ign\": \"TRONROUT0000000041498424\", \"seq\": -1, \"distance\": 8.82241050144061, \"polluant\": \"COVNM\", \"unite\": \"tonne\", \"emi\": 0.000189729057397493}, {\"id\": 88912, \"id_comptag\": \"16-D10-40+170\", \"annee\": \"2018\", \"id_ign\": \"TRONROUT0000000041498424\", \"seq\": 41, \"distance\": 8.82241050144061, \"polluant\": \"COVNM\", \"unite\": \"tonne\", \"emi\": 0.00093428961407675}, {\"id\": 88913, \"id_comptag\": \"16-D10-40+170\", \"annee\": \"2018\", \"id_ign\": \"TRONROUT0000000041498424\", \"seq\": 41, \"distance\": 8.82241050144061, \"polluant\": \"PM2_5\", \"unite\": \"tonne\", \"emi\": 0.000519027388456879}, {\"id\": 88914, \"id_comptag\": \"16-D10-40+170\", \"annee\": \"2018\", \"id_ign\": \"TRONROUT0000000041498424\", \"seq\": 41, \"distance\": 8.82241050144061, \"polluant\": \"PM10\", \"unite\": \"tonne\", \"emi\": 0.000739648412254814}, {\"id\": 88915, \"id_comptag\": \"16-D10-40+170\", \"annee\": \"2018\", \"id_ign\": \"TRONROUT0000000041498424\", \"seq\": 41, \"distance\": 8.82241050144061, \"polluant\": \"NOX\", \"unite\": \"tonne\", \"emi\": 0.00960569526530313}, {\"id\": 88916, \"id_comptag\": \"16-D10-40+170\", \"annee\": \"2018\", \"id_ign\": \"TRONROUT0000000041498424\", \"seq\": 42, \"distance\": 8.82241050144061, \"polluant\": \"PM10\", \"unite\": \"tonne\", \"emi\": 0.000739648412254814}, {\"id\": 88917, \"id_comptag\": \"16-D10-40+170\", \"annee\": \"2018\", \"id_ign\": \"TRONROUT0000000041498424\", \"seq\": 42, \"distance\": 8.82241050144061, \"polluant\": \"COVNM\", \"unite\": \"tonne\", \"emi\": 0.00093428961407675}, {\"id\": 88918, \"id_comptag\": \"16-D10-40+170\", \"annee\": \"2018\", \"id_ign\": \"TRONROUT0000000041498424\", \"seq\": 42, \"distance\": 8.82241050144061, \"polluant\": \"NOX\", \"unite\": \"tonne\", \"emi\": 0.00960569526530313}, {\"id\": 88919, \"id_comptag\": \"16-D10-40+170\", \"annee\": \"2018\", \"id_ign\": \"TRONROUT0000000041498424\", \"seq\": 42, \"distance\": 8.82241050144061, \"polluant\": \"PM2_5\", \"unite\": \"tonne\", \"emi\": 0.000519027388456879}, {\"id\": 88920, \"id_comptag\": \"16-D10-40+170\", \"annee\": \"2018\", \"id_ign\": \"TRONROUT0000000041498420\", \"seq\": -1, \"distance\": 8.88416135983546, \"polluant\": \"NOX\", \"unite\": \"tonne\", \"emi\": 0.00960569526530313}, {\"id\": 88921, \"id_comptag\": \"16-D10-40+170\", \"annee\": \"2018\", \"id_ign\": \"TRONROUT0000000041498420\", \"seq\": -1, \"distance\": 8.88416135983546, \"polluant\": \"PM2_5\", \"unite\": \"tonne\", \"emi\": 0.000519027388456879}, {\"id\": 88922, \"id_comptag\": \"16-D10-40+170\", \"annee\": \"2018\", \"id_ign\": \"TRONROUT0000000041498420\", \"seq\": -1, \"distance\": 8.88416135983546, \"polluant\": \"COVNM\", \"unite\": \"tonne\", \"emi\": 0.00093428961407675}, {\"id\": 88923, \"id_comptag\": \"16-D10-40+170\", \"annee\": \"2018\", \"id_ign\": \"TRONROUT0000000041498420\", \"seq\": -1, \"distance\": 8.88416135983546, \"polluant\": \"PM10\", \"unite\": \"tonne\", \"emi\": 0.000739648412254814}, {\"id\": 88924, \"id_comptag\": \"16-D10-40+170\", \"annee\": \"2018\", \"id_ign\": \"TRONROUT0000000041498420\", \"seq\": 42, \"distance\": 8.88416135983546, \"polluant\": \"NOX\", \"unite\": \"tonne\", \"emi\": 0.0157129766308897}, {\"id\": 88925, \"id_comptag\": \"16-D10-40+170\", \"annee\": \"2018\", \"id_ign\": \"TRONROUT0000000041498420\", \"seq\": 42, \"distance\": 8.88416135983546, \"polluant\": \"COVNM\", \"unite\": \"tonne\", \"emi\": 0.00150939935391425}, {\"id\": 88926, \"id_comptag\": \"16-D10-40+170\", \"annee\": \"2018\", \"id_ign\": \"TRONROUT0000000041498420\", \"seq\": 42, \"distance\": 8.88416135983546, \"polluant\": \"PM2_5\", \"unite\": \"tonne\", \"emi\": 0.000839612592161456}, {\"id\": 88927, \"id_comptag\": \"16-D10-40+170\", \"annee\": \"2018\", \"id_ign\": \"TRONROUT0000000041498420\", \"seq\": 42, \"distance\": 8.88416135983546, \"polluant\": \"PM10\", \"unite\": \"tonne\", \"emi\": 0.00119593642277293}, {\"id\": 88928, \"id_comptag\": \"16-D10-40+170\", \"annee\": \"2018\", \"id_ign\": \"TRONROUT0000000041498420\", \"seq\": 43, \"distance\": 8.88416135983546, \"polluant\": \"COVNM\", \"unite\": \"tonne\", \"emi\": 0.00150939935391425}, {\"id\": 88929, \"id_comptag\": \"16-D10-40+170\", \"annee\": \"2018\", \"id_ign\": \"TRONROUT0000000041498420\", \"seq\": 43, \"distance\": 8.88416135983546, \"polluant\": \"PM2_5\", \"unite\": \"tonne\", \"emi\": 0.000839612592161456}, {\"id\": 88930, \"id_comptag\": \"16-D10-40+170\", \"annee\": \"2018\", \"id_ign\": \"TRONROUT0000000041498420\", \"seq\": 43, \"distance\": 8.88416135983546, \"polluant\": \"NOX\", \"unite\": \"tonne\", \"emi\": 0.0157129766308897}, {\"id\": 88931, \"id_comptag\": \"16-D10-40+170\", \"annee\": \"2018\", \"id_ign\": \"TRONROUT0000000041498420\", \"seq\": 43, \"distance\": 8.88416135983546, \"polluant\": \"PM10\", \"unite\": \"tonne\", \"emi\": 0.00119593642277293}, {\"id\": 88932, \"id_comptag\": \"16-D10-40+170\", \"annee\": \"2018\", \"id_ign\": \"TRONROUT0000000041498431\", \"seq\": -1, \"distance\": 8.9838948395738, \"polluant\": \"COVNM\", \"unite\": \"tonne\", \"emi\": 0.00150939935391425}, {\"id\": 88933, \"id_comptag\": \"16-D10-40+170\", \"annee\": \"2018\", \"id_ign\": \"TRONROUT0000000041498431\", \"seq\": -1, \"distance\": 8.9838948395738, \"polluant\": \"PM10\", \"unite\": \"tonne\", \"emi\": 0.00119593642277293}, {\"id\": 88934, \"id_comptag\": \"16-D10-40+170\", \"annee\": \"2018\", \"id_ign\": \"TRONROUT0000000041498431\", \"seq\": -1, \"distance\": 8.9838948395738, \"polluant\": \"PM2_5\", \"unite\": \"tonne\", \"emi\": 0.000839612592161456}, {\"id\": 88935, \"id_comptag\": \"16-D10-40+170\", \"annee\": \"2018\", \"id_ign\": \"TRONROUT0000000041498431\", \"seq\": -1, \"distance\": 8.9838948395738, \"polluant\": \"NOX\", \"unite\": \"tonne\", \"emi\": 0.0157129766308897}, {\"id\": 88936, \"id_comptag\": \"16-D10-40+170\", \"annee\": \"2018\", \"id_ign\": \"TRONROUT0000000041498431\", \"seq\": 43, \"distance\": 8.9838948395738, \"polluant\": \"NOX\", \"unite\": \"tonne\", \"emi\": 0.039345995511274}, {\"id\": 88937, \"id_comptag\": \"16-D10-40+170\", \"annee\": \"2018\", \"id_ign\": \"TRONROUT0000000041498431\", \"seq\": 43, \"distance\": 8.9838948395738, \"polluant\": \"PM10\", \"unite\": \"tonne\", \"emi\": 0.00299467823491113}, {\"id\": 88938, \"id_comptag\": \"16-D10-40+170\", \"annee\": \"2018\", \"id_ign\": \"TRONROUT0000000041498431\", \"seq\": 43, \"distance\": 8.9838948395738, \"polluant\": \"PM2_5\", \"unite\": \"tonne\", \"emi\": 0.00210242744315232}, {\"id\": 88939, \"id_comptag\": \"16-D10-40+170\", \"annee\": \"2018\", \"id_ign\": \"TRONROUT0000000041498431\", \"seq\": 43, \"distance\": 8.9838948395738, \"polluant\": \"COVNM\", \"unite\": \"tonne\", \"emi\": 0.0037796034194488}, {\"id\": 88940, \"id_comptag\": \"16-D10-40+170\", \"annee\": \"2018\", \"id_ign\": \"TRONROUT0000000041498431\", \"seq\": 44, \"distance\": 8.9838948395738, \"polluant\": \"COVNM\", \"unite\": \"tonne\", \"emi\": 0.0037796034194488}, {\"id\": 88941, \"id_comptag\": \"16-D10-40+170\", \"annee\": \"2018\", \"id_ign\": \"TRONROUT0000000041498431\", \"seq\": 44, \"distance\": 8.9838948395738, \"polluant\": \"NOX\", \"unite\": \"tonne\", \"emi\": 0.039345995511274}, {\"id\": 88942, \"id_comptag\": \"16-D10-40+170\", \"annee\": \"2018\", \"id_ign\": \"TRONROUT0000000041498431\", \"seq\": 44, \"distance\": 8.9838948395738, \"polluant\": \"PM2_5\", \"unite\": \"tonne\", \"emi\": 0.00210242744315232}, {\"id\": 88943, \"id_comptag\": \"16-D10-40+170\", \"annee\": \"2018\", \"id_ign\": \"TRONROUT0000000041498431\", \"seq\": 44, \"distance\": 8.9838948395738, \"polluant\": \"PM10\", \"unite\": \"tonne\", \"emi\": 0.00299467823491113}, {\"id\": 88944, \"id_comptag\": \"16-D10-40+170\", \"annee\": \"2018\", \"id_ign\": \"TRONROUT0000000041499462\", \"seq\": -1, \"distance\": 9.23363192875102, \"polluant\": \"PM2_5\", \"unite\": \"tonne\", \"emi\": 0.00210242744315232}, {\"id\": 88945, \"id_comptag\": \"16-D10-40+170\", \"annee\": \"2018\", \"id_ign\": \"TRONROUT0000000041499462\", \"seq\": -1, \"distance\": 9.23363192875102, \"polluant\": \"NOX\", \"unite\": \"tonne\", \"emi\": 0.039345995511274}, {\"id\": 88946, \"id_comptag\": \"16-D10-40+170\", \"annee\": \"2018\", \"id_ign\": \"TRONROUT0000000041499462\", \"seq\": -1, \"distance\": 9.23363192875102, \"polluant\": \"PM10\", \"unite\": \"tonne\", \"emi\": 0.00299467823491113}, {\"id\": 88947, \"id_comptag\": \"16-D10-40+170\", \"annee\": \"2018\", \"id_ign\": \"TRONROUT0000000041499462\", \"seq\": -1, \"distance\": 9.23363192875102, \"polluant\": \"COVNM\", \"unite\": \"tonne\", \"emi\": 0.0037796034194488}, {\"id\": 88948, \"id_comptag\": \"16-D10-40+170\", \"annee\": \"2018\", \"id_ign\": \"TRONROUT0000000041499462\", \"seq\": 44, \"distance\": 9.23363192875102, \"polluant\": \"PM2_5\", \"unite\": \"tonne\", \"emi\": 0.0028064445509652}, {\"id\": 88949, \"id_comptag\": \"16-D10-40+170\", \"annee\": \"2018\", \"id_ign\": \"TRONROUT0000000041499462\", \"seq\": 44, \"distance\": 9.23363192875102, \"polluant\": \"COVNM\", \"unite\": \"tonne\", \"emi\": 0.00505181817908423}, {\"id\": 88950, \"id_comptag\": \"16-D10-40+170\", \"annee\": \"2018\", \"id_ign\": \"TRONROUT0000000041499462\", \"seq\": 44, \"distance\": 9.23363192875102, \"polluant\": \"NOX\", \"unite\": \"tonne\", \"emi\": 0.0519391687897061}, {\"id\": 88951, \"id_comptag\": \"16-D10-40+170\", \"annee\": \"2018\", \"id_ign\": \"TRONROUT0000000041499462\", \"seq\": 44, \"distance\": 9.23363192875102, \"polluant\": \"PM10\", \"unite\": \"tonne\", \"emi\": 0.00399936940201574}, {\"id\": 88952, \"id_comptag\": \"16-D10-40+170\", \"annee\": \"2018\", \"id_ign\": \"TRONROUT0000000041499462\", \"seq\": 45, \"distance\": 9.23363192875102, \"polluant\": \"COVNM\", \"unite\": \"tonne\", \"emi\": 0.00505181817908423}, {\"id\": 88953, \"id_comptag\": \"16-D10-40+170\", \"annee\": \"2018\", \"id_ign\": \"TRONROUT0000000041499462\", \"seq\": 45, \"distance\": 9.23363192875102, \"polluant\": \"NOX\", \"unite\": \"tonne\", \"emi\": 0.0519391687897061}, {\"id\": 88954, \"id_comptag\": \"16-D10-40+170\", \"annee\": \"2018\", \"id_ign\": \"TRONROUT0000000041499462\", \"seq\": 45, \"distance\": 9.23363192875102, \"polluant\": \"PM10\", \"unite\": \"tonne\", \"emi\": 0.00399936940201574}, {\"id\": 88955, \"id_comptag\": \"16-D10-40+170\", \"annee\": \"2018\", \"id_ign\": \"TRONROUT0000000041499462\", \"seq\": 45, \"distance\": 9.23363192875102, \"polluant\": \"PM2_5\", \"unite\": \"tonne\", \"emi\": 0.0028064445509652}, {\"id\": 88956, \"id_comptag\": \"16-D10-40+170\", \"annee\": \"2018\", \"id_ign\": \"TRONROUT0000000041499466\", \"seq\": -1, \"distance\": 9.56752637038137, \"polluant\": \"NOX\", \"unite\": \"tonne\", \"emi\": 0.0519391687897061}, {\"id\": 88957, \"id_comptag\": \"16-D10-40+170\", \"annee\": \"2018\", \"id_ign\": \"TRONROUT0000000041499466\", \"seq\": -1, \"distance\": 9.56752637038137, \"polluant\": \"PM10\", \"unite\": \"tonne\", \"emi\": 0.00399936940201574}, {\"id\": 88958, \"id_comptag\": \"16-D10-40+170\", \"annee\": \"2018\", \"id_ign\": \"TRONROUT0000000041499466\", \"seq\": -1, \"distance\": 9.56752637038137, \"polluant\": \"PM2_5\", \"unite\": \"tonne\", \"emi\": 0.0028064445509652}, {\"id\": 88959, \"id_comptag\": \"16-D10-40+170\", \"annee\": \"2018\", \"id_ign\": \"TRONROUT0000000041499466\", \"seq\": -1, \"distance\": 9.56752637038137, \"polluant\": \"COVNM\", \"unite\": \"tonne\", \"emi\": 0.00505181817908423}, {\"id\": 88960, \"id_comptag\": \"16-D10-40+170\", \"annee\": \"2018\", \"id_ign\": \"TRONROUT0000000041499466\", \"seq\": 45, \"distance\": 9.56752637038137, \"polluant\": \"COVNM\", \"unite\": \"tonne\", \"emi\": 0.00017980381220847}, {\"id\": 88961, \"id_comptag\": \"16-D10-40+170\", \"annee\": \"2018\", \"id_ign\": \"TRONROUT0000000041499466\", \"seq\": 45, \"distance\": 9.56752637038137, \"polluant\": \"NOX\", \"unite\": \"tonne\", \"emi\": 0.00182470332534722}, {\"id\": 88962, \"id_comptag\": \"16-D10-40+170\", \"annee\": \"2018\", \"id_ign\": \"TRONROUT0000000041499466\", \"seq\": 45, \"distance\": 9.56752637038137, \"polluant\": \"PM2_5\", \"unite\": \"tonne\", \"emi\": 9.957324549183e-05}, {\"id\": 88963, \"id_comptag\": \"16-D10-40+170\", \"annee\": \"2018\", \"id_ign\": \"TRONROUT0000000041499466\", \"seq\": 45, \"distance\": 9.56752637038137, \"polluant\": \"PM10\", \"unite\": \"tonne\", \"emi\": 0.000141934362328171}, {\"id\": 88964, \"id_comptag\": \"16-D10-40+170\", \"annee\": \"2018\", \"id_ign\": \"TRONROUT0000000041499466\", \"seq\": 46, \"distance\": 9.56752637038137, \"polluant\": \"NOX\", \"unite\": \"tonne\", \"emi\": 0.00182470332534722}, {\"id\": 88965, \"id_comptag\": \"16-D10-40+170\", \"annee\": \"2018\", \"id_ign\": \"TRONROUT0000000041499466\", \"seq\": 46, \"distance\": 9.56752637038137, \"polluant\": \"PM2_5\", \"unite\": \"tonne\", \"emi\": 9.957324549183e-05}, {\"id\": 88966, \"id_comptag\": \"16-D10-40+170\", \"annee\": \"2018\", \"id_ign\": \"TRONROUT0000000041499466\", \"seq\": 46, \"distance\": 9.56752637038137, \"polluant\": \"COVNM\", \"unite\": \"tonne\", \"emi\": 0.00017980381220847}, {\"id\": 88967, \"id_comptag\": \"16-D10-40+170\", \"annee\": \"2018\", \"id_ign\": \"TRONROUT0000000041499466\", \"seq\": 46, \"distance\": 9.56752637038137, \"polluant\": \"PM10\", \"unite\": \"tonne\", \"emi\": 0.000141934362328171}, {\"id\": 88968, \"id_comptag\": \"16-D10-40+170\", \"annee\": \"2018\", \"id_ign\": \"TRONROUT0000000041499469\", \"seq\": -1, \"distance\": 9.57938306147172, \"polluant\": \"PM2_5\", \"unite\": \"tonne\", \"emi\": 9.957324549183e-05}, {\"id\": 88969, \"id_comptag\": \"16-D10-40+170\", \"annee\": \"2018\", \"id_ign\": \"TRONROUT0000000041499469\", \"seq\": -1, \"distance\": 9.57938306147172, \"polluant\": \"NOX\", \"unite\": \"tonne\", \"emi\": 0.00182470332534722}, {\"id\": 88970, \"id_comptag\": \"16-D10-40+170\", \"annee\": \"2018\", \"id_ign\": \"TRONROUT0000000041499469\", \"seq\": -1, \"distance\": 9.57938306147172, \"polluant\": \"PM10\", \"unite\": \"tonne\", \"emi\": 0.000141934362328171}, {\"id\": 88971, \"id_comptag\": \"16-D10-40+170\", \"annee\": \"2018\", \"id_ign\": \"TRONROUT0000000041499469\", \"seq\": -1, \"distance\": 9.57938306147172, \"polluant\": \"COVNM\", \"unite\": \"tonne\", \"emi\": 0.00017980381220847}, {\"id\": 88972, \"id_comptag\": \"16-D10-40+170\", \"annee\": \"2018\", \"id_ign\": \"TRONROUT0000000041499469\", \"seq\": 46, \"distance\": 9.57938306147172, \"polluant\": \"NOX\", \"unite\": \"tonne\", \"emi\": 0.0225277364199551}, {\"id\": 88973, \"id_comptag\": \"16-D10-40+170\", \"annee\": \"2018\", \"id_ign\": \"TRONROUT0000000041499469\", \"seq\": 46, \"distance\": 9.57938306147172, \"polluant\": \"COVNM\", \"unite\": \"tonne\", \"emi\": 0.00212037958997718}, {\"id\": 88974, \"id_comptag\": \"16-D10-40+170\", \"annee\": \"2018\", \"id_ign\": \"TRONROUT0000000041499469\", \"seq\": 46, \"distance\": 9.57938306147172, \"polluant\": \"PM10\", \"unite\": \"tonne\", \"emi\": 0.00167628617600167}, {\"id\": 88975, \"id_comptag\": \"16-D10-40+170\", \"annee\": \"2018\", \"id_ign\": \"TRONROUT0000000041499469\", \"seq\": 46, \"distance\": 9.57938306147172, \"polluant\": \"PM2_5\", \"unite\": \"tonne\", \"emi\": 0.00117806306776511}, {\"id\": 88976, \"id_comptag\": \"16-D10-40+170\", \"annee\": \"2018\", \"id_ign\": \"TRONROUT0000000041499469\", \"seq\": 47, \"distance\": 9.57938306147172, \"polluant\": \"PM10\", \"unite\": \"tonne\", \"emi\": 0.00167628617600167}, {\"id\": 88977, \"id_comptag\": \"16-D10-40+170\", \"annee\": \"2018\", \"id_ign\": \"TRONROUT0000000041499469\", \"seq\": 47, \"distance\": 9.57938306147172, \"polluant\": \"COVNM\", \"unite\": \"tonne\", \"emi\": 0.00212037958997718}, {\"id\": 88978, \"id_comptag\": \"16-D10-40+170\", \"annee\": \"2018\", \"id_ign\": \"TRONROUT0000000041499469\", \"seq\": 47, \"distance\": 9.57938306147172, \"polluant\": \"NOX\", \"unite\": \"tonne\", \"emi\": 0.0225277364199551}, {\"id\": 88979, \"id_comptag\": \"16-D10-40+170\", \"annee\": \"2018\", \"id_ign\": \"TRONROUT0000000041499469\", \"seq\": 47, \"distance\": 9.57938306147172, \"polluant\": \"PM2_5\", \"unite\": \"tonne\", \"emi\": 0.00117806306776511}, {\"id\": 88980, \"id_comptag\": \"16-D10-40+170\", \"annee\": \"2018\", \"id_ign\": \"TRONROUT0000000041499476\", \"seq\": -1, \"distance\": 9.71883352759746, \"polluant\": \"PM10\", \"unite\": \"tonne\", \"emi\": 0.00167628617600167}, {\"id\": 88981, \"id_comptag\": \"16-D10-40+170\", \"annee\": \"2018\", \"id_ign\": \"TRONROUT0000000041499476\", \"seq\": -1, \"distance\": 9.71883352759746, \"polluant\": \"COVNM\", \"unite\": \"tonne\", \"emi\": 0.00212037958997718}, {\"id\": 88982, \"id_comptag\": \"16-D10-40+170\", \"annee\": \"2018\", \"id_ign\": \"TRONROUT0000000041499476\", \"seq\": -1, \"distance\": 9.71883352759746, \"polluant\": \"NOX\", \"unite\": \"tonne\", \"emi\": 0.0225277364199551}, {\"id\": 88983, \"id_comptag\": \"16-D10-40+170\", \"annee\": \"2018\", \"id_ign\": \"TRONROUT0000000041499476\", \"seq\": -1, \"distance\": 9.71883352759746, \"polluant\": \"PM2_5\", \"unite\": \"tonne\", \"emi\": 0.00117806306776511}, {\"id\": 88984, \"id_comptag\": \"16-D10-40+170\", \"annee\": \"2018\", \"id_ign\": \"TRONROUT0000000041499476\", \"seq\": 47, \"distance\": 9.71883352759746, \"polluant\": \"PM10\", \"unite\": \"tonne\", \"emi\": 0.00174282304971163}, {\"id\": 88985, \"id_comptag\": \"16-D10-40+170\", \"annee\": \"2018\", \"id_ign\": \"TRONROUT0000000041499476\", \"seq\": 47, \"distance\": 9.71883352759746, \"polluant\": \"NOX\", \"unite\": \"tonne\", \"emi\": 0.0234219304869378}, {\"id\": 88986, \"id_comptag\": \"16-D10-40+170\", \"annee\": \"2018\", \"id_ign\": \"TRONROUT0000000041499476\", \"seq\": 47, \"distance\": 9.71883352759746, \"polluant\": \"PM2_5\", \"unite\": \"tonne\", \"emi\": 0.00122482395781148}, {\"id\": 88987, \"id_comptag\": \"16-D10-40+170\", \"annee\": \"2018\", \"id_ign\": \"TRONROUT0000000041499476\", \"seq\": 47, \"distance\": 9.71883352759746, \"polluant\": \"COVNM\", \"unite\": \"tonne\", \"emi\": 0.00220454387589405}, {\"id\": 88988, \"id_comptag\": \"16-D10-40+170\", \"annee\": \"2018\", \"id_ign\": \"TRONROUT0000000041499476\", \"seq\": 48, \"distance\": 9.71883352759746, \"polluant\": \"NOX\", \"unite\": \"tonne\", \"emi\": 0.0234219304869378}, {\"id\": 88989, \"id_comptag\": \"16-D10-40+170\", \"annee\": \"2018\", \"id_ign\": \"TRONROUT0000000041499476\", \"seq\": 48, \"distance\": 9.71883352759746, \"polluant\": \"PM10\", \"unite\": \"tonne\", \"emi\": 0.00174282304971163}, {\"id\": 88990, \"id_comptag\": \"16-D10-40+170\", \"annee\": \"2018\", \"id_ign\": \"TRONROUT0000000041499476\", \"seq\": 48, \"distance\": 9.71883352759746, \"polluant\": \"COVNM\", \"unite\": \"tonne\", \"emi\": 0.00220454387589405}, {\"id\": 88991, \"id_comptag\": \"16-D10-40+170\", \"annee\": \"2018\", \"id_ign\": \"TRONROUT0000000041499476\", \"seq\": 48, \"distance\": 9.71883352759746, \"polluant\": \"PM2_5\", \"unite\": \"tonne\", \"emi\": 0.00122482395781148}, {\"id\": 88992, \"id_comptag\": \"16-D10-40+170\", \"annee\": \"2018\", \"id_ign\": \"TRONROUT0000000041499475\", \"seq\": 49, \"distance\": 9.86381920494563, \"polluant\": \"bruit\", \"unite\": \"dB(A)\", \"emi\": 72.61}, {\"id\": 88993, \"id_comptag\": \"16-D10-40+170\", \"annee\": \"2018\", \"id_ign\": \"TRONROUT0000000041499475\", \"seq\": -1, \"distance\": 9.86381920494563, \"polluant\": \"PM10\", \"unite\": \"tonne\", \"emi\": 0.00174282304971163}, {\"id\": 88994, \"id_comptag\": \"16-D10-40+170\", \"annee\": \"2018\", \"id_ign\": \"TRONROUT0000000041499475\", \"seq\": -1, \"distance\": 9.86381920494563, \"polluant\": \"PM2_5\", \"unite\": \"tonne\", \"emi\": 0.00122482395781148}, {\"id\": 88995, \"id_comptag\": \"16-D10-40+170\", \"annee\": \"2018\", \"id_ign\": \"TRONROUT0000000041499475\", \"seq\": -1, \"distance\": 9.86381920494563, \"polluant\": \"NOX\", \"unite\": \"tonne\", \"emi\": 0.0234219304869378}, {\"id\": 88996, \"id_comptag\": \"16-D10-40+170\", \"annee\": \"2018\", \"id_ign\": \"TRONROUT0000000041499475\", \"seq\": -1, \"distance\": 9.86381920494563, \"polluant\": \"COVNM\", \"unite\": \"tonne\", \"emi\": 0.00220454387589405}, {\"id\": 88997, \"id_comptag\": \"16-D10-40+170\", \"annee\": \"2018\", \"id_ign\": \"TRONROUT0000000041499475\", \"seq\": 48, \"distance\": 9.86381920494563, \"polluant\": \"PM10\", \"unite\": \"tonne\", \"emi\": 0.00068355538312993}, {\"id\": 88998, \"id_comptag\": \"16-D10-40+170\", \"annee\": \"2018\", \"id_ign\": \"TRONROUT0000000041499475\", \"seq\": 48, \"distance\": 9.86381920494563, \"polluant\": \"PM2_5\", \"unite\": \"tonne\", \"emi\": 0.000479893158354461}, {\"id\": 88999, \"id_comptag\": \"16-D10-40+170\", \"annee\": \"2018\", \"id_ign\": \"TRONROUT0000000041499475\", \"seq\": 48, \"distance\": 9.86381920494563, \"polluant\": \"NOX\", \"unite\": \"tonne\", \"emi\": 0.00898098724691051}, {\"id\": 89000, \"id_comptag\": \"16-D10-40+170\", \"annee\": \"2018\", \"id_ign\": \"TRONROUT0000000041499475\", \"seq\": 48, \"distance\": 9.86381920494563, \"polluant\": \"COVNM\", \"unite\": \"tonne\", \"emi\": 0.000862719818557464}, {\"id\": 89001, \"id_comptag\": \"16-D10-40+170\", \"annee\": \"2018\", \"id_ign\": \"TRONROUT0000000041499475\", \"seq\": 49, \"distance\": 9.86381920494563, \"polluant\": \"PM2_5\", \"unite\": \"tonne\", \"emi\": 0.000479893158354461}, {\"id\": 89002, \"id_comptag\": \"16-D10-40+170\", \"annee\": \"2018\", \"id_ign\": \"TRONROUT0000000041499475\", \"seq\": 49, \"distance\": 9.86381920494563, \"polluant\": \"NOX\", \"unite\": \"tonne\", \"emi\": 0.00898098724691051}, {\"id\": 89003, \"id_comptag\": \"16-D10-40+170\", \"annee\": \"2018\", \"id_ign\": \"TRONROUT0000000041499475\", \"seq\": 49, \"distance\": 9.86381920494563, \"polluant\": \"COVNM\", \"unite\": \"tonne\", \"emi\": 0.000862719818557464}, {\"id\": 89004, \"id_comptag\": \"16-D10-40+170\", \"annee\": \"2018\", \"id_ign\": \"TRONROUT0000000041499475\", \"seq\": 49, \"distance\": 9.86381920494563, \"polluant\": \"PM10\", \"unite\": \"tonne\", \"emi\": 0.00068355538312993}, {\"id\": 89005, \"id_comptag\": \"16-D10-40+170\", \"annee\": \"2018\", \"id_ign\": \"TRONROUT0000000041499461\", \"seq\": -1, \"distance\": 9.92082336976181, \"polluant\": \"bruit\", \"unite\": \"dB(A)\", \"emi\": 72.61}, {\"id\": 89006, \"id_comptag\": \"16-D10-40+170\", \"annee\": \"2018\", \"id_ign\": \"TRONROUT0000000041499461\", \"seq\": 49, \"distance\": 9.92082336976181, \"polluant\": \"bruit\", \"unite\": \"dB(A)\", \"emi\": 68.88}, {\"id\": 89007, \"id_comptag\": \"16-D10-40+170\", \"annee\": \"2018\", \"id_ign\": \"TRONROUT0000000041499461\", \"seq\": 50, \"distance\": 9.92082336976181, \"polluant\": \"bruit\", \"unite\": \"dB(A)\", \"emi\": 68.88}, {\"id\": 89008, \"id_comptag\": \"16-D10-40+170\", \"annee\": \"2018\", \"id_ign\": \"TRONROUT0000000041499461\", \"seq\": -1, \"distance\": 9.92082336976181, \"polluant\": \"COVNM\", \"unite\": \"tonne\", \"emi\": 0.000862719818557464}, {\"id\": 89009, \"id_comptag\": \"16-D10-40+170\", \"annee\": \"2018\", \"id_ign\": \"TRONROUT0000000041499461\", \"seq\": -1, \"distance\": 9.92082336976181, \"polluant\": \"NOX\", \"unite\": \"tonne\", \"emi\": 0.00898098724691051}, {\"id\": 89010, \"id_comptag\": \"16-D10-40+170\", \"annee\": \"2018\", \"id_ign\": \"TRONROUT0000000041499461\", \"seq\": -1, \"distance\": 9.92082336976181, \"polluant\": \"PM2_5\", \"unite\": \"tonne\", \"emi\": 0.000479893158354461}, {\"id\": 89011, \"id_comptag\": \"16-D10-40+170\", \"annee\": \"2018\", \"id_ign\": \"TRONROUT0000000041499461\", \"seq\": -1, \"distance\": 9.92082336976181, \"polluant\": \"PM10\", \"unite\": \"tonne\", \"emi\": 0.00068355538312993}, {\"id\": 89012, \"id_comptag\": \"16-D10-40+170\", \"annee\": \"2018\", \"id_ign\": \"TRONROUT0000000041499461\", \"seq\": 49, \"distance\": 9.92082336976181, \"polluant\": \"PM2_5\", \"unite\": \"tonne\", \"emi\": 0.00213978120657528}, {\"id\": 89013, \"id_comptag\": \"16-D10-40+170\", \"annee\": \"2018\", \"id_ign\": \"TRONROUT0000000041499461\", \"seq\": 49, \"distance\": 9.92082336976181, \"polluant\": \"COVNM\", \"unite\": \"tonne\", \"emi\": 0.00527923318716033}, {\"id\": 89014, \"id_comptag\": \"16-D10-40+170\", \"annee\": \"2018\", \"id_ign\": \"TRONROUT0000000041499461\", \"seq\": 49, \"distance\": 9.92082336976181, \"polluant\": \"PM10\", \"unite\": \"tonne\", \"emi\": 0.00314626926551712}, {\"id\": 89015, \"id_comptag\": \"16-D10-40+170\", \"annee\": \"2018\", \"id_ign\": \"TRONROUT0000000041499461\", \"seq\": 49, \"distance\": 9.92082336976181, \"polluant\": \"NOX\", \"unite\": \"tonne\", \"emi\": 0.0379484776510672}, {\"id\": 89016, \"id_comptag\": \"16-D10-40+170\", \"annee\": \"2018\", \"id_ign\": \"TRONROUT0000000041499461\", \"seq\": 50, \"distance\": 9.92082336976181, \"polluant\": \"NOX\", \"unite\": \"tonne\", \"emi\": 0.0379484776510672}, {\"id\": 89017, \"id_comptag\": \"16-D10-40+170\", \"annee\": \"2018\", \"id_ign\": \"TRONROUT0000000041499461\", \"seq\": 50, \"distance\": 9.92082336976181, \"polluant\": \"COVNM\", \"unite\": \"tonne\", \"emi\": 0.00527923318716033}, {\"id\": 89018, \"id_comptag\": \"16-D10-40+170\", \"annee\": \"2018\", \"id_ign\": \"TRONROUT0000000041499461\", \"seq\": 50, \"distance\": 9.92082336976181, \"polluant\": \"PM2_5\", \"unite\": \"tonne\", \"emi\": 0.00213978120657528}, {\"id\": 89019, \"id_comptag\": \"16-D10-40+170\", \"annee\": \"2018\", \"id_ign\": \"TRONROUT0000000041499461\", \"seq\": 50, \"distance\": 9.92082336976181, \"polluant\": \"PM10\", \"unite\": \"tonne\", \"emi\": 0.00314626926551712}, {\"id\": 89020, \"id_comptag\": \"16-D10-40+170\", \"annee\": \"2018\", \"id_ign\": \"TRONROUT0000000041499460\", \"seq\": -1, \"distance\": 10.2908757416699, \"polluant\": \"bruit\", \"unite\": \"dB(A)\", \"emi\": null}, {\"id\": 89021, \"id_comptag\": \"16-D10-40+170\", \"annee\": \"2018\", \"id_ign\": \"TRONROUT0000000041499460\", \"seq\": 51, \"distance\": 10.2908757416699, \"polluant\": \"bruit\", \"unite\": \"dB(A)\", \"emi\": 68.88}, {\"id\": 89022, \"id_comptag\": \"16-D10-40+170\", \"annee\": \"2018\", \"id_ign\": \"TRONROUT0000000041499460\", \"seq\": -1, \"distance\": 10.2908757416699, \"polluant\": \"PM10\", \"unite\": \"tonne\", \"emi\": 0.00314626926551712}, {\"id\": 89023, \"id_comptag\": \"16-D10-40+170\", \"annee\": \"2018\", \"id_ign\": \"TRONROUT0000000041499460\", \"seq\": -1, \"distance\": 10.2908757416699, \"polluant\": \"NOX\", \"unite\": \"tonne\", \"emi\": 0.0379484776510672}, {\"id\": 89024, \"id_comptag\": \"16-D10-40+170\", \"annee\": \"2018\", \"id_ign\": \"TRONROUT0000000041499460\", \"seq\": -1, \"distance\": 10.2908757416699, \"polluant\": \"PM2_5\", \"unite\": \"tonne\", \"emi\": 0.00213978120657528}, {\"id\": 89025, \"id_comptag\": \"16-D10-40+170\", \"annee\": \"2018\", \"id_ign\": \"TRONROUT0000000041499460\", \"seq\": -1, \"distance\": 10.2908757416699, \"polluant\": \"COVNM\", \"unite\": \"tonne\", \"emi\": 0.00527923318716033}, {\"id\": 89026, \"id_comptag\": \"16-D10-40+170\", \"annee\": \"2018\", \"id_ign\": \"TRONROUT0000000041499460\", \"seq\": 51, \"distance\": 10.2908757416699, \"polluant\": \"NOX\", \"unite\": \"tonne\", \"emi\": 0.0244472684289022}, {\"id\": 89027, \"id_comptag\": \"16-D10-40+170\", \"annee\": \"2018\", \"id_ign\": \"TRONROUT0000000041499460\", \"seq\": 51, \"distance\": 10.2908757416699, \"polluant\": \"PM10\", \"unite\": \"tonne\", \"emi\": 0.00203587206737863}, {\"id\": 89028, \"id_comptag\": \"16-D10-40+170\", \"annee\": \"2018\", \"id_ign\": \"TRONROUT0000000041499460\", \"seq\": 51, \"distance\": 10.2908757416699, \"polluant\": \"PM2_5\", \"unite\": \"tonne\", \"emi\": 0.00138660701201388}, {\"id\": 89029, \"id_comptag\": \"16-D10-40+170\", \"annee\": \"2018\", \"id_ign\": \"TRONROUT0000000041499460\", \"seq\": 51, \"distance\": 10.2908757416699, \"polluant\": \"COVNM\", \"unite\": \"tonne\", \"emi\": 0.00247866665766853}, {\"id\": 89030, \"id_comptag\": \"16-D10-40+170\", \"annee\": \"2018\", \"id_ign\": \"TRONROUT0000000041499460\", \"seq\": 52, \"distance\": 10.2908757416699, \"polluant\": \"COVNM\", \"unite\": \"tonne\", \"emi\": 0.00247866665766853}, {\"id\": 89031, \"id_comptag\": \"16-D10-40+170\", \"annee\": \"2018\", \"id_ign\": \"TRONROUT0000000041499460\", \"seq\": 52, \"distance\": 10.2908757416699, \"polluant\": \"NOX\", \"unite\": \"tonne\", \"emi\": 0.0244472684289022}, {\"id\": 89032, \"id_comptag\": \"16-D10-40+170\", \"annee\": \"2018\", \"id_ign\": \"TRONROUT0000000041499460\", \"seq\": 52, \"distance\": 10.2908757416699, \"polluant\": \"PM10\", \"unite\": \"tonne\", \"emi\": 0.00203587206737863}, {\"id\": 89033, \"id_comptag\": \"16-D10-40+170\", \"annee\": \"2018\", \"id_ign\": \"TRONROUT0000000041499460\", \"seq\": 52, \"distance\": 10.2908757416699, \"polluant\": \"PM2_5\", \"unite\": \"tonne\", \"emi\": 0.00138660701201388}, {\"id\": 89034, \"id_comptag\": \"16-D10-40+170\", \"annee\": \"2018\", \"id_ign\": \"TRONROUT0000000041499435\", \"seq\": -1, \"distance\": 10.4342582749149, \"polluant\": \"PM10\", \"unite\": \"tonne\", \"emi\": 0.00203587206737863}, {\"id\": 89035, \"id_comptag\": \"16-D10-40+170\", \"annee\": \"2018\", \"id_ign\": \"TRONROUT0000000041499435\", \"seq\": -1, \"distance\": 10.4342582749149, \"polluant\": \"COVNM\", \"unite\": \"tonne\", \"emi\": 0.00247866665766853}, {\"id\": 89036, \"id_comptag\": \"16-D10-40+170\", \"annee\": \"2018\", \"id_ign\": \"TRONROUT0000000041499435\", \"seq\": -1, \"distance\": 10.4342582749149, \"polluant\": \"PM2_5\", \"unite\": \"tonne\", \"emi\": 0.00138660701201388}, {\"id\": 89037, \"id_comptag\": \"16-D10-40+170\", \"annee\": \"2018\", \"id_ign\": \"TRONROUT0000000041499435\", \"seq\": -1, \"distance\": 10.4342582749149, \"polluant\": \"NOX\", \"unite\": \"tonne\", \"emi\": 0.0244472684289022}, {\"id\": 89038, \"id_comptag\": \"16-D10-40+170\", \"annee\": \"2018\", \"id_ign\": \"TRONROUT0000000041499435\", \"seq\": 52, \"distance\": 10.4342582749149, \"polluant\": \"PM2_5\", \"unite\": \"tonne\", \"emi\": 0.000175219278631371}, {\"id\": 89039, \"id_comptag\": \"16-D10-40+170\", \"annee\": \"2018\", \"id_ign\": \"TRONROUT0000000041499435\", \"seq\": 52, \"distance\": 10.4342582749149, \"polluant\": \"COVNM\", \"unite\": \"tonne\", \"emi\": 0.000313217934109195}, {\"id\": 89040, \"id_comptag\": \"16-D10-40+170\", \"annee\": \"2018\", \"id_ign\": \"TRONROUT0000000041499435\", \"seq\": 52, \"distance\": 10.4342582749149, \"polluant\": \"PM10\", \"unite\": \"tonne\", \"emi\": 0.000257263977421939}, {\"id\": 89041, \"id_comptag\": \"16-D10-40+170\", \"annee\": \"2018\", \"id_ign\": \"TRONROUT0000000041499435\", \"seq\": 52, \"distance\": 10.4342582749149, \"polluant\": \"NOX\", \"unite\": \"tonne\", \"emi\": 0.0030892911268336}, {\"id\": 89042, \"id_comptag\": \"16-D10-40+170\", \"annee\": \"2018\", \"id_ign\": \"TRONROUT0000000041499435\", \"seq\": 53, \"distance\": 10.4342582749149, \"polluant\": \"NOX\", \"unite\": \"tonne\", \"emi\": 0.0030892911268336}, {\"id\": 89043, \"id_comptag\": \"16-D10-40+170\", \"annee\": \"2018\", \"id_ign\": \"TRONROUT0000000041499435\", \"seq\": 53, \"distance\": 10.4342582749149, \"polluant\": \"PM2_5\", \"unite\": \"tonne\", \"emi\": 0.000175219278631371}, {\"id\": 89044, \"id_comptag\": \"16-D10-40+170\", \"annee\": \"2018\", \"id_ign\": \"TRONROUT0000000041499435\", \"seq\": 53, \"distance\": 10.4342582749149, \"polluant\": \"COVNM\", \"unite\": \"tonne\", \"emi\": 0.000313217934109195}, {\"id\": 89045, \"id_comptag\": \"16-D10-40+170\", \"annee\": \"2018\", \"id_ign\": \"TRONROUT0000000041499435\", \"seq\": 53, \"distance\": 10.4342582749149, \"polluant\": \"PM10\", \"unite\": \"tonne\", \"emi\": 0.000257263977421939}, {\"id\": 89046, \"id_comptag\": \"16-D10-40+170\", \"annee\": \"2018\", \"id_ign\": \"TRONROUT0000000041499408\", \"seq\": -1, \"distance\": 10.452376879412, \"polluant\": \"COVNM\", \"unite\": \"tonne\", \"emi\": 0.000313217934109195}, {\"id\": 89047, \"id_comptag\": \"16-D10-40+170\", \"annee\": \"2018\", \"id_ign\": \"TRONROUT0000000041499408\", \"seq\": -1, \"distance\": 10.452376879412, \"polluant\": \"PM10\", \"unite\": \"tonne\", \"emi\": 0.000257263977421939}, {\"id\": 89048, \"id_comptag\": \"16-D10-40+170\", \"annee\": \"2018\", \"id_ign\": \"TRONROUT0000000041499408\", \"seq\": -1, \"distance\": 10.452376879412, \"polluant\": \"PM2_5\", \"unite\": \"tonne\", \"emi\": 0.000175219278631371}, {\"id\": 89049, \"id_comptag\": \"16-D10-40+170\", \"annee\": \"2018\", \"id_ign\": \"TRONROUT0000000041499408\", \"seq\": -1, \"distance\": 10.452376879412, \"polluant\": \"NOX\", \"unite\": \"tonne\", \"emi\": 0.0030892911268336}, {\"id\": 89050, \"id_comptag\": \"16-D10-40+170\", \"annee\": \"2018\", \"id_ign\": \"TRONROUT0000000041499408\", \"seq\": 53, \"distance\": 10.452376879412, \"polluant\": \"NOX\", \"unite\": \"tonne\", \"emi\": 0.0100835891631272}, {\"id\": 89051, \"id_comptag\": \"16-D10-40+170\", \"annee\": \"2018\", \"id_ign\": \"TRONROUT0000000041499408\", \"seq\": 53, \"distance\": 10.452376879412, \"polluant\": \"PM2_5\", \"unite\": \"tonne\", \"emi\": 0.000569678050089529}, {\"id\": 89052, \"id_comptag\": \"16-D10-40+170\", \"annee\": \"2018\", \"id_ign\": \"TRONROUT0000000041499408\", \"seq\": 53, \"distance\": 10.452376879412, \"polluant\": \"PM10\", \"unite\": \"tonne\", \"emi\": 0.000836171692373523}, {\"id\": 89053, \"id_comptag\": \"16-D10-40+170\", \"annee\": \"2018\", \"id_ign\": \"TRONROUT0000000041499408\", \"seq\": 53, \"distance\": 10.452376879412, \"polluant\": \"COVNM\", \"unite\": \"tonne\", \"emi\": 0.00101467764999093}, {\"id\": 89054, \"id_comptag\": \"16-D10-40+170\", \"annee\": \"2018\", \"id_ign\": \"TRONROUT0000000041499408\", \"seq\": 54, \"distance\": 10.452376879412, \"polluant\": \"NOX\", \"unite\": \"tonne\", \"emi\": 0.0100835891631272}, {\"id\": 89055, \"id_comptag\": \"16-D10-40+170\", \"annee\": \"2018\", \"id_ign\": \"TRONROUT0000000041499408\", \"seq\": 54, \"distance\": 10.452376879412, \"polluant\": \"PM2_5\", \"unite\": \"tonne\", \"emi\": 0.000569678050089529}, {\"id\": 89056, \"id_comptag\": \"16-D10-40+170\", \"annee\": \"2018\", \"id_ign\": \"TRONROUT0000000041499408\", \"seq\": 54, \"distance\": 10.452376879412, \"polluant\": \"PM10\", \"unite\": \"tonne\", \"emi\": 0.000836171692373523}, {\"id\": 89057, \"id_comptag\": \"16-D10-40+170\", \"annee\": \"2018\", \"id_ign\": \"TRONROUT0000000041499408\", \"seq\": 54, \"distance\": 10.452376879412, \"polluant\": \"COVNM\", \"unite\": \"tonne\", \"emi\": 0.00101467764999093}, {\"id\": 89058, \"id_comptag\": \"16-D10-40+170\", \"annee\": \"2018\", \"id_ign\": \"TRONROUT0000000041499409\", \"seq\": -1, \"distance\": 10.5112288585978, \"polluant\": \"COVNM\", \"unite\": \"tonne\", \"emi\": 0.00101467764999093}, {\"id\": 89059, \"id_comptag\": \"16-D10-40+170\", \"annee\": \"2018\", \"id_ign\": \"TRONROUT0000000041499409\", \"seq\": -1, \"distance\": 10.5112288585978, \"polluant\": \"PM2_5\", \"unite\": \"tonne\", \"emi\": 0.000569678050089529}, {\"id\": 89060, \"id_comptag\": \"16-D10-40+170\", \"annee\": \"2018\", \"id_ign\": \"TRONROUT0000000041499409\", \"seq\": -1, \"distance\": 10.5112288585978, \"polluant\": \"PM10\", \"unite\": \"tonne\", \"emi\": 0.000836171692373523}, {\"id\": 89061, \"id_comptag\": \"16-D10-40+170\", \"annee\": \"2018\", \"id_ign\": \"TRONROUT0000000041499409\", \"seq\": -1, \"distance\": 10.5112288585978, \"polluant\": \"NOX\", \"unite\": \"tonne\", \"emi\": 0.0100835891631272}, {\"id\": 89062, \"id_comptag\": \"16-D10-40+170\", \"annee\": \"2018\", \"id_ign\": \"TRONROUT0000000041499409\", \"seq\": 54, \"distance\": 10.5112288585978, \"polluant\": \"PM2_5\", \"unite\": \"tonne\", \"emi\": 8.52780947245098e-05}, {\"id\": 89063, \"id_comptag\": \"16-D10-40+170\", \"annee\": \"2018\", \"id_ign\": \"TRONROUT0000000041499409\", \"seq\": 54, \"distance\": 10.5112288585978, \"polluant\": \"PM10\", \"unite\": \"tonne\", \"emi\": 0.000125170925537638}, {\"id\": 89064, \"id_comptag\": \"16-D10-40+170\", \"annee\": \"2018\", \"id_ign\": \"TRONROUT0000000041499409\", \"seq\": 54, \"distance\": 10.5112288585978, \"polluant\": \"COVNM\", \"unite\": \"tonne\", \"emi\": 0.000151892418423302}, {\"id\": 89065, \"id_comptag\": \"16-D10-40+170\", \"annee\": \"2018\", \"id_ign\": \"TRONROUT0000000041499409\", \"seq\": 54, \"distance\": 10.5112288585978, \"polluant\": \"NOX\", \"unite\": \"tonne\", \"emi\": 0.00150946534043406}, {\"id\": 89066, \"id_comptag\": \"16-D10-40+170\", \"annee\": \"2018\", \"id_ign\": \"TRONROUT0000000041499409\", \"seq\": 55, \"distance\": 10.5112288585978, \"polluant\": \"NOX\", \"unite\": \"tonne\", \"emi\": 0.00150946534043406}, {\"id\": 89067, \"id_comptag\": \"16-D10-40+170\", \"annee\": \"2018\", \"id_ign\": \"TRONROUT0000000041499409\", \"seq\": 55, \"distance\": 10.5112288585978, \"polluant\": \"COVNM\", \"unite\": \"tonne\", \"emi\": 0.000151892418423302}, {\"id\": 89068, \"id_comptag\": \"16-D10-40+170\", \"annee\": \"2018\", \"id_ign\": \"TRONROUT0000000041499409\", \"seq\": 55, \"distance\": 10.5112288585978, \"polluant\": \"PM2_5\", \"unite\": \"tonne\", \"emi\": 8.52780947245098e-05}, {\"id\": 89069, \"id_comptag\": \"16-D10-40+170\", \"annee\": \"2018\", \"id_ign\": \"TRONROUT0000000041499409\", \"seq\": 55, \"distance\": 10.5112288585978, \"polluant\": \"PM10\", \"unite\": \"tonne\", \"emi\": 0.000125170925537638}, {\"id\": 89070, \"id_comptag\": \"16-D10-40+170\", \"annee\": \"2018\", \"id_ign\": \"TRONROUT0000000041499434\", \"seq\": -1, \"distance\": 10.5200387199834, \"polluant\": \"PM2_5\", \"unite\": \"tonne\", \"emi\": 8.52780947245098e-05}, {\"id\": 89071, \"id_comptag\": \"16-D10-40+170\", \"annee\": \"2018\", \"id_ign\": \"TRONROUT0000000041499434\", \"seq\": -1, \"distance\": 10.5200387199834, \"polluant\": \"NOX\", \"unite\": \"tonne\", \"emi\": 0.00150946534043406}, {\"id\": 89072, \"id_comptag\": \"16-D10-40+170\", \"annee\": \"2018\", \"id_ign\": \"TRONROUT0000000041499434\", \"seq\": -1, \"distance\": 10.5200387199834, \"polluant\": \"PM10\", \"unite\": \"tonne\", \"emi\": 0.000125170925537638}, {\"id\": 89073, \"id_comptag\": \"16-D10-40+170\", \"annee\": \"2018\", \"id_ign\": \"TRONROUT0000000041499434\", \"seq\": -1, \"distance\": 10.5200387199834, \"polluant\": \"COVNM\", \"unite\": \"tonne\", \"emi\": 0.000151892418423302}, {\"id\": 89074, \"id_comptag\": \"16-D10-40+170\", \"annee\": \"2018\", \"id_ign\": \"TRONROUT0000000041499434\", \"seq\": 55, \"distance\": 10.5200387199834, \"polluant\": \"NOX\", \"unite\": \"tonne\", \"emi\": 0.000625542212571121}, {\"id\": 89075, \"id_comptag\": \"16-D10-40+170\", \"annee\": \"2018\", \"id_ign\": \"TRONROUT0000000041499434\", \"seq\": 55, \"distance\": 10.5200387199834, \"polluant\": \"COVNM\", \"unite\": \"tonne\", \"emi\": 6.34226531186277e-05}, {\"id\": 89076, \"id_comptag\": \"16-D10-40+170\", \"annee\": \"2018\", \"id_ign\": \"TRONROUT0000000041499434\", \"seq\": 55, \"distance\": 10.5200387199834, \"polluant\": \"PM10\", \"unite\": \"tonne\", \"emi\": 5.20926876245273e-05}, {\"id\": 89077, \"id_comptag\": \"16-D10-40+170\", \"annee\": \"2018\", \"id_ign\": \"TRONROUT0000000041499434\", \"seq\": 55, \"distance\": 10.5200387199834, \"polluant\": \"PM2_5\", \"unite\": \"tonne\", \"emi\": 3.54796782628015e-05}, {\"id\": 89078, \"id_comptag\": \"16-D10-40+170\", \"annee\": \"2018\", \"id_ign\": \"TRONROUT0000000041499434\", \"seq\": 56, \"distance\": 10.5200387199834, \"polluant\": \"COVNM\", \"unite\": \"tonne\", \"emi\": 6.34226531186277e-05}, {\"id\": 89079, \"id_comptag\": \"16-D10-40+170\", \"annee\": \"2018\", \"id_ign\": \"TRONROUT0000000041499434\", \"seq\": 56, \"distance\": 10.5200387199834, \"polluant\": \"PM10\", \"unite\": \"tonne\", \"emi\": 5.20926876245273e-05}, {\"id\": 89080, \"id_comptag\": \"16-D10-40+170\", \"annee\": \"2018\", \"id_ign\": \"TRONROUT0000000041499434\", \"seq\": 56, \"distance\": 10.5200387199834, \"polluant\": \"PM2_5\", \"unite\": \"tonne\", \"emi\": 3.54796782628015e-05}, {\"id\": 89081, \"id_comptag\": \"16-D10-40+170\", \"annee\": \"2018\", \"id_ign\": \"TRONROUT0000000041499434\", \"seq\": 56, \"distance\": 10.5200387199834, \"polluant\": \"NOX\", \"unite\": \"tonne\", \"emi\": 0.000625542212571121}, {\"id\": 89082, \"id_comptag\": \"16-D10-40+170\", \"annee\": \"2018\", \"id_ign\": \"TRONROUT0000002005189874\", \"seq\": 57, \"distance\": 10.523707507249, \"polluant\": \"bruit\", \"unite\": \"dB(A)\", \"emi\": 68.88}, {\"id\": 89083, \"id_comptag\": \"16-D10-40+170\", \"annee\": \"2018\", \"id_ign\": \"TRONROUT0000002005189874\", \"seq\": -1, \"distance\": 10.523707507249, \"polluant\": \"PM10\", \"unite\": \"tonne\", \"emi\": 5.20926876245273e-05}, {\"id\": 89084, \"id_comptag\": \"16-D10-40+170\", \"annee\": \"2018\", \"id_ign\": \"TRONROUT0000002005189874\", \"seq\": -1, \"distance\": 10.523707507249, \"polluant\": \"COVNM\", \"unite\": \"tonne\", \"emi\": 6.34226531186277e-05}, {\"id\": 89085, \"id_comptag\": \"16-D10-40+170\", \"annee\": \"2018\", \"id_ign\": \"TRONROUT0000002005189874\", \"seq\": -1, \"distance\": 10.523707507249, \"polluant\": \"NOX\", \"unite\": \"tonne\", \"emi\": 0.000625542212571121}, {\"id\": 89086, \"id_comptag\": \"16-D10-40+170\", \"annee\": \"2018\", \"id_ign\": \"TRONROUT0000002005189874\", \"seq\": -1, \"distance\": 10.523707507249, \"polluant\": \"PM2_5\", \"unite\": \"tonne\", \"emi\": 3.54796782628015e-05}, {\"id\": 89087, \"id_comptag\": \"16-D10-40+170\", \"annee\": \"2018\", \"id_ign\": \"TRONROUT0000002005189874\", \"seq\": 56, \"distance\": 10.523707507249, \"polluant\": \"COVNM\", \"unite\": \"tonne\", \"emi\": 0.000899647821993351}, {\"id\": 89088, \"id_comptag\": \"16-D10-40+170\", \"annee\": \"2018\", \"id_ign\": \"TRONROUT0000002005189874\", \"seq\": 56, \"distance\": 10.523707507249, \"polluant\": \"NOX\", \"unite\": \"tonne\", \"emi\": 0.00887329150440763}, {\"id\": 89089, \"id_comptag\": \"16-D10-40+170\", \"annee\": \"2018\", \"id_ign\": \"TRONROUT0000002005189874\", \"seq\": 56, \"distance\": 10.523707507249, \"polluant\": \"PM2_5\", \"unite\": \"tonne\", \"emi\": 0.00050327783062704}, {\"id\": 89090, \"id_comptag\": \"16-D10-40+170\", \"annee\": \"2018\", \"id_ign\": \"TRONROUT0000002005189874\", \"seq\": 56, \"distance\": 10.523707507249, \"polluant\": \"PM10\", \"unite\": \"tonne\", \"emi\": 0.000738932710297189}, {\"id\": 89091, \"id_comptag\": \"16-D10-40+170\", \"annee\": \"2018\", \"id_ign\": \"TRONROUT0000002005189874\", \"seq\": 57, \"distance\": 10.523707507249, \"polluant\": \"NOX\", \"unite\": \"tonne\", \"emi\": 0.00887329150440763}, {\"id\": 89092, \"id_comptag\": \"16-D10-40+170\", \"annee\": \"2018\", \"id_ign\": \"TRONROUT0000002005189874\", \"seq\": 57, \"distance\": 10.523707507249, \"polluant\": \"PM10\", \"unite\": \"tonne\", \"emi\": 0.000738932710297189}, {\"id\": 89093, \"id_comptag\": \"16-D10-40+170\", \"annee\": \"2018\", \"id_ign\": \"TRONROUT0000002005189874\", \"seq\": 57, \"distance\": 10.523707507249, \"polluant\": \"PM2_5\", \"unite\": \"tonne\", \"emi\": 0.00050327783062704}, {\"id\": 89094, \"id_comptag\": \"16-D10-40+170\", \"annee\": \"2018\", \"id_ign\": \"TRONROUT0000002005189874\", \"seq\": 57, \"distance\": 10.523707507249, \"polluant\": \"COVNM\", \"unite\": \"tonne\", \"emi\": 0.000899647821993351}, {\"id\": 89095, \"id_comptag\": \"16-D10-40+170\", \"annee\": \"2018\", \"id_ign\": \"TRONROUT0000000041499443\", \"seq\": -1, \"distance\": 10.5965125386605, \"polluant\": \"bruit\", \"unite\": \"dB(A)\", \"emi\": null}, {\"id\": 89096, \"id_comptag\": \"16-D10-40+170\", \"annee\": \"2018\", \"id_ign\": \"TRONROUT0000000041499443\", \"seq\": 58, \"distance\": 10.5965125386605, \"polluant\": \"bruit\", \"unite\": \"dB(A)\", \"emi\": 68.88}, {\"id\": 89097, \"id_comptag\": \"16-D10-40+170\", \"annee\": \"2018\", \"id_ign\": \"TRONROUT0000000041499443\", \"seq\": -1, \"distance\": 10.5965125386605, \"polluant\": \"PM10\", \"unite\": \"tonne\", \"emi\": 0.000738932710297189}, {\"id\": 89098, \"id_comptag\": \"16-D10-40+170\", \"annee\": \"2018\", \"id_ign\": \"TRONROUT0000000041499443\", \"seq\": -1, \"distance\": 10.5965125386605, \"polluant\": \"COVNM\", \"unite\": \"tonne\", \"emi\": 0.000899647821993351}, {\"id\": 89099, \"id_comptag\": \"16-D10-40+170\", \"annee\": \"2018\", \"id_ign\": \"TRONROUT0000000041499443\", \"seq\": -1, \"distance\": 10.5965125386605, \"polluant\": \"NOX\", \"unite\": \"tonne\", \"emi\": 0.00887329150440763}, {\"id\": 89100, \"id_comptag\": \"16-D10-40+170\", \"annee\": \"2018\", \"id_ign\": \"TRONROUT0000000041499443\", \"seq\": -1, \"distance\": 10.5965125386605, \"polluant\": \"PM2_5\", \"unite\": \"tonne\", \"emi\": 0.00050327783062704}, {\"id\": 89101, \"id_comptag\": \"16-D10-40+170\", \"annee\": \"2018\", \"id_ign\": \"TRONROUT0000000041499443\", \"seq\": 58, \"distance\": 10.5965125386605, \"polluant\": \"COVNM\", \"unite\": \"tonne\", \"emi\": 0.0021305606568842}, {\"id\": 89102, \"id_comptag\": \"16-D10-40+170\", \"annee\": \"2018\", \"id_ign\": \"TRONROUT0000000041499443\", \"seq\": 58, \"distance\": 10.5965125386605, \"polluant\": \"PM2_5\", \"unite\": \"tonne\", \"emi\": 0.00119617657945074}, {\"id\": 89103, \"id_comptag\": \"16-D10-40+170\", \"annee\": \"2018\", \"id_ign\": \"TRONROUT0000000041499443\", \"seq\": 58, \"distance\": 10.5965125386605, \"polluant\": \"PM10\", \"unite\": \"tonne\", \"emi\": 0.00175574430971968}, {\"id\": 89104, \"id_comptag\": \"16-D10-40+170\", \"annee\": \"2018\", \"id_ign\": \"TRONROUT0000000041499443\", \"seq\": 58, \"distance\": 10.5965125386605, \"polluant\": \"NOX\", \"unite\": \"tonne\", \"emi\": 0.0211729295026207}, {\"id\": 89105, \"id_comptag\": \"16-D10-40+170\", \"annee\": \"2018\", \"id_ign\": \"TRONROUT0000000041499443\", \"seq\": 59, \"distance\": 10.5965125386605, \"polluant\": \"PM10\", \"unite\": \"tonne\", \"emi\": 0.00175574430971968}, {\"id\": 89106, \"id_comptag\": \"16-D10-40+170\", \"annee\": \"2018\", \"id_ign\": \"TRONROUT0000000041499443\", \"seq\": 59, \"distance\": 10.5965125386605, \"polluant\": \"PM2_5\", \"unite\": \"tonne\", \"emi\": 0.00119617657945074}, {\"id\": 89107, \"id_comptag\": \"16-D10-40+170\", \"annee\": \"2018\", \"id_ign\": \"TRONROUT0000000041499443\", \"seq\": 59, \"distance\": 10.5965125386605, \"polluant\": \"COVNM\", \"unite\": \"tonne\", \"emi\": 0.0021305606568842}, {\"id\": 89108, \"id_comptag\": \"16-D10-40+170\", \"annee\": \"2018\", \"id_ign\": \"TRONROUT0000000041499443\", \"seq\": 59, \"distance\": 10.5965125386605, \"polluant\": \"NOX\", \"unite\": \"tonne\", \"emi\": 0.0211729295026207}, {\"id\": 89109, \"id_comptag\": \"16-D10-40+170\", \"annee\": \"2018\", \"id_ign\": \"TRONROUT0000000041500426\", \"seq\": -1, \"distance\": 10.7200864751064, \"polluant\": \"NOX\", \"unite\": \"tonne\", \"emi\": 0.0211729295026207}, {\"id\": 89110, \"id_comptag\": \"16-D10-40+170\", \"annee\": \"2018\", \"id_ign\": \"TRONROUT0000000041500426\", \"seq\": -1, \"distance\": 10.7200864751064, \"polluant\": \"PM2_5\", \"unite\": \"tonne\", \"emi\": 0.00119617657945074}, {\"id\": 89111, \"id_comptag\": \"16-D10-40+170\", \"annee\": \"2018\", \"id_ign\": \"TRONROUT0000000041500426\", \"seq\": -1, \"distance\": 10.7200864751064, \"polluant\": \"PM10\", \"unite\": \"tonne\", \"emi\": 0.00175574430971968}, {\"id\": 89112, \"id_comptag\": \"16-D10-40+170\", \"annee\": \"2018\", \"id_ign\": \"TRONROUT0000000041500426\", \"seq\": -1, \"distance\": 10.7200864751064, \"polluant\": \"COVNM\", \"unite\": \"tonne\", \"emi\": 0.0021305606568842}, {\"id\": 89113, \"id_comptag\": \"16-D10-40+170\", \"annee\": \"2018\", \"id_ign\": \"TRONROUT0000000041500426\", \"seq\": 59, \"distance\": 10.7200864751064, \"polluant\": \"NOX\", \"unite\": \"tonne\", \"emi\": 0.0177914089183972}, {\"id\": 89114, \"id_comptag\": \"16-D10-40+170\", \"annee\": \"2018\", \"id_ign\": \"TRONROUT0000000041500426\", \"seq\": 59, \"distance\": 10.7200864751064, \"polluant\": \"PM10\", \"unite\": \"tonne\", \"emi\": 0.00147533504829861}, {\"id\": 89115, \"id_comptag\": \"16-D10-40+170\", \"annee\": \"2018\", \"id_ign\": \"TRONROUT0000000041500426\", \"seq\": 59, \"distance\": 10.7200864751064, \"polluant\": \"COVNM\", \"unite\": \"tonne\", \"emi\": 0.00179028961804194}, {\"id\": 89116, \"id_comptag\": \"16-D10-40+170\", \"annee\": \"2018\", \"id_ign\": \"TRONROUT0000000041500426\", \"seq\": 59, \"distance\": 10.7200864751064, \"polluant\": \"PM2_5\", \"unite\": \"tonne\", \"emi\": 0.00100513566915639}, {\"id\": 89117, \"id_comptag\": \"16-D10-40+170\", \"annee\": \"2018\", \"id_ign\": \"TRONROUT0000000041500426\", \"seq\": 60, \"distance\": 10.7200864751064, \"polluant\": \"PM2_5\", \"unite\": \"tonne\", \"emi\": 0.00100513566915639}, {\"id\": 89118, \"id_comptag\": \"16-D10-40+170\", \"annee\": \"2018\", \"id_ign\": \"TRONROUT0000000041500426\", \"seq\": 60, \"distance\": 10.7200864751064, \"polluant\": \"NOX\", \"unite\": \"tonne\", \"emi\": 0.0177914089183972}, {\"id\": 89119, \"id_comptag\": \"16-D10-40+170\", \"annee\": \"2018\", \"id_ign\": \"TRONROUT0000000041500426\", \"seq\": 60, \"distance\": 10.7200864751064, \"polluant\": \"PM10\", \"unite\": \"tonne\", \"emi\": 0.00147533504829861}, {\"id\": 89120, \"id_comptag\": \"16-D10-40+170\", \"annee\": \"2018\", \"id_ign\": \"TRONROUT0000000041500426\", \"seq\": 60, \"distance\": 10.7200864751064, \"polluant\": \"COVNM\", \"unite\": \"tonne\", \"emi\": 0.00179028961804194}, {\"id\": 89121, \"id_comptag\": \"16-D10-40+170\", \"annee\": \"2018\", \"id_ign\": \"TRONROUT0000000041500425\", \"seq\": 61, \"distance\": 10.8239244647757, \"polluant\": \"bruit\", \"unite\": \"dB(A)\", \"emi\": 68.88}, {\"id\": 89122, \"id_comptag\": \"16-D10-40+170\", \"annee\": \"2018\", \"id_ign\": \"TRONROUT0000000041500425\", \"seq\": -1, \"distance\": 10.8239244647757, \"polluant\": \"PM10\", \"unite\": \"tonne\", \"emi\": 0.00147533504829861}, {\"id\": 89123, \"id_comptag\": \"16-D10-40+170\", \"annee\": \"2018\", \"id_ign\": \"TRONROUT0000000041500425\", \"seq\": -1, \"distance\": 10.8239244647757, \"polluant\": \"PM2_5\", \"unite\": \"tonne\", \"emi\": 0.00100513566915639}, {\"id\": 89124, \"id_comptag\": \"16-D10-40+170\", \"annee\": \"2018\", \"id_ign\": \"TRONROUT0000000041500425\", \"seq\": -1, \"distance\": 10.8239244647757, \"polluant\": \"NOX\", \"unite\": \"tonne\", \"emi\": 0.0177914089183972}, {\"id\": 89125, \"id_comptag\": \"16-D10-40+170\", \"annee\": \"2018\", \"id_ign\": \"TRONROUT0000000041500425\", \"seq\": -1, \"distance\": 10.8239244647757, \"polluant\": \"COVNM\", \"unite\": \"tonne\", \"emi\": 0.00179028961804194}, {\"id\": 89126, \"id_comptag\": \"16-D10-40+170\", \"annee\": \"2018\", \"id_ign\": \"TRONROUT0000000041500425\", \"seq\": 60, \"distance\": 10.8239244647757, \"polluant\": \"PM10\", \"unite\": \"tonne\", \"emi\": 0.00231404035865431}, {\"id\": 89127, \"id_comptag\": \"16-D10-40+170\", \"annee\": \"2018\", \"id_ign\": \"TRONROUT0000000041500425\", \"seq\": 60, \"distance\": 10.8239244647757, \"polluant\": \"NOX\", \"unite\": \"tonne\", \"emi\": 0.0279055515707917}, {\"id\": 89128, \"id_comptag\": \"16-D10-40+170\", \"annee\": \"2018\", \"id_ign\": \"TRONROUT0000000041500425\", \"seq\": 60, \"distance\": 10.8239244647757, \"polluant\": \"PM2_5\", \"unite\": \"tonne\", \"emi\": 0.00157653985583356}, {\"id\": 89129, \"id_comptag\": \"16-D10-40+170\", \"annee\": \"2018\", \"id_ign\": \"TRONROUT0000000041500425\", \"seq\": 60, \"distance\": 10.8239244647757, \"polluant\": \"COVNM\", \"unite\": \"tonne\", \"emi\": 0.00280804176285681}, {\"id\": 89130, \"id_comptag\": \"16-D10-40+170\", \"annee\": \"2018\", \"id_ign\": \"TRONROUT0000000041500425\", \"seq\": 61, \"distance\": 10.8239244647757, \"polluant\": \"PM10\", \"unite\": \"tonne\", \"emi\": 0.00231404035865431}, {\"id\": 89131, \"id_comptag\": \"16-D10-40+170\", \"annee\": \"2018\", \"id_ign\": \"TRONROUT0000000041500425\", \"seq\": 61, \"distance\": 10.8239244647757, \"polluant\": \"PM2_5\", \"unite\": \"tonne\", \"emi\": 0.00157653985583356}, {\"id\": 89132, \"id_comptag\": \"16-D10-40+170\", \"annee\": \"2018\", \"id_ign\": \"TRONROUT0000000041500425\", \"seq\": 61, \"distance\": 10.8239244647757, \"polluant\": \"NOX\", \"unite\": \"tonne\", \"emi\": 0.0279055515707917}, {\"id\": 89133, \"id_comptag\": \"16-D10-40+170\", \"annee\": \"2018\", \"id_ign\": \"TRONROUT0000000041500425\", \"seq\": 61, \"distance\": 10.8239244647757, \"polluant\": \"COVNM\", \"unite\": \"tonne\", \"emi\": 0.00280804176285681}, {\"id\": 89134, \"id_comptag\": \"16-D10-40+170\", \"annee\": \"2018\", \"id_ign\": \"TRONROUT0000000041500427\", \"seq\": -1, \"distance\": 10.9867927563774, \"polluant\": \"bruit\", \"unite\": \"dB(A)\", \"emi\": 68.88}, {\"id\": 89135, \"id_comptag\": \"16-D10-40+170\", \"annee\": \"2018\", \"id_ign\": \"TRONROUT0000000041500427\", \"seq\": 61, \"distance\": 10.9867927563774, \"polluant\": \"bruit\", \"unite\": \"dB(A)\", \"emi\": 72.61}, {\"id\": 89136, \"id_comptag\": \"16-D10-40+170\", \"annee\": \"2018\", \"id_ign\": \"TRONROUT0000000041500427\", \"seq\": -1, \"distance\": 10.9867927563774, \"polluant\": \"COVNM\", \"unite\": \"tonne\", \"emi\": 0.00280804176285681}, {\"id\": 89137, \"id_comptag\": \"16-D10-40+170\", \"annee\": \"2018\", \"id_ign\": \"TRONROUT0000000041500427\", \"seq\": -1, \"distance\": 10.9867927563774, \"polluant\": \"PM2_5\", \"unite\": \"tonne\", \"emi\": 0.00157653985583356}, {\"id\": 89138, \"id_comptag\": \"16-D10-40+170\", \"annee\": \"2018\", \"id_ign\": \"TRONROUT0000000041500427\", \"seq\": -1, \"distance\": 10.9867927563774, \"polluant\": \"NOX\", \"unite\": \"tonne\", \"emi\": 0.0279055515707917}, {\"id\": 89139, \"id_comptag\": \"16-D10-40+170\", \"annee\": \"2018\", \"id_ign\": \"TRONROUT0000000041500427\", \"seq\": -1, \"distance\": 10.9867927563774, \"polluant\": \"PM10\", \"unite\": \"tonne\", \"emi\": 0.00231404035865431}, {\"id\": 89140, \"id_comptag\": \"16-D10-40+170\", \"annee\": \"2018\", \"id_ign\": \"TRONROUT0000000041500427\", \"seq\": 61, \"distance\": 10.9867927563774, \"polluant\": \"NOX\", \"unite\": \"tonne\", \"emi\": 0.0486208742239118}, {\"id\": 89141, \"id_comptag\": \"16-D10-40+170\", \"annee\": \"2018\", \"id_ign\": \"TRONROUT0000000041500427\", \"seq\": 61, \"distance\": 10.9867927563774, \"polluant\": \"PM10\", \"unite\": \"tonne\", \"emi\": 0.00378196974979259}, {\"id\": 89142, \"id_comptag\": \"16-D10-40+170\", \"annee\": \"2018\", \"id_ign\": \"TRONROUT0000000041500427\", \"seq\": 61, \"distance\": 10.9867927563774, \"polluant\": \"PM2_5\", \"unite\": \"tonne\", \"emi\": 0.00265321939072134}, {\"id\": 89143, \"id_comptag\": \"16-D10-40+170\", \"annee\": \"2018\", \"id_ign\": \"TRONROUT0000000041500427\", \"seq\": 61, \"distance\": 10.9867927563774, \"polluant\": \"COVNM\", \"unite\": \"tonne\", \"emi\": 0.00479103557105882}, {\"id\": 89144, \"id_comptag\": \"16-D10-40+170\", \"annee\": \"2018\", \"id_ign\": \"TRONROUT0000000041500427\", \"seq\": 62, \"distance\": 10.9867927563774, \"polluant\": \"PM2_5\", \"unite\": \"tonne\", \"emi\": 0.00265321939072134}, {\"id\": 89145, \"id_comptag\": \"16-D10-40+170\", \"annee\": \"2018\", \"id_ign\": \"TRONROUT0000000041500427\", \"seq\": 62, \"distance\": 10.9867927563774, \"polluant\": \"PM10\", \"unite\": \"tonne\", \"emi\": 0.00378196974979259}, {\"id\": 89146, \"id_comptag\": \"16-D10-40+170\", \"annee\": \"2018\", \"id_ign\": \"TRONROUT0000000041500427\", \"seq\": 62, \"distance\": 10.9867927563774, \"polluant\": \"COVNM\", \"unite\": \"tonne\", \"emi\": 0.00479103557105882}, {\"id\": 89147, \"id_comptag\": \"16-D10-40+170\", \"annee\": \"2018\", \"id_ign\": \"TRONROUT0000000041500427\", \"seq\": 62, \"distance\": 10.9867927563774, \"polluant\": \"NOX\", \"unite\": \"tonne\", \"emi\": 0.0486208742239118}, {\"id\": 89148, \"id_comptag\": \"16-D10-40+170\", \"annee\": \"2018\", \"id_ign\": \"TRONROUT0000000041500436\", \"seq\": -1, \"distance\": 11.3027250387423, \"polluant\": \"PM2_5\", \"unite\": \"tonne\", \"emi\": 0.00265321939072134}, {\"id\": 89149, \"id_comptag\": \"16-D10-40+170\", \"annee\": \"2018\", \"id_ign\": \"TRONROUT0000000041500436\", \"seq\": -1, \"distance\": 11.3027250387423, \"polluant\": \"PM10\", \"unite\": \"tonne\", \"emi\": 0.00378196974979259}, {\"id\": 89150, \"id_comptag\": \"16-D10-40+170\", \"annee\": \"2018\", \"id_ign\": \"TRONROUT0000000041500436\", \"seq\": -1, \"distance\": 11.3027250387423, \"polluant\": \"NOX\", \"unite\": \"tonne\", \"emi\": 0.0486208742239118}, {\"id\": 89151, \"id_comptag\": \"16-D10-40+170\", \"annee\": \"2018\", \"id_ign\": \"TRONROUT0000000041500436\", \"seq\": -1, \"distance\": 11.3027250387423, \"polluant\": \"COVNM\", \"unite\": \"tonne\", \"emi\": 0.00479103557105882}, {\"id\": 89152, \"id_comptag\": \"16-D10-40+170\", \"annee\": \"2018\", \"id_ign\": \"TRONROUT0000000041500436\", \"seq\": 62, \"distance\": 11.3027250387423, \"polluant\": \"PM10\", \"unite\": \"tonne\", \"emi\": 0.00196353677245878}, {\"id\": 89153, \"id_comptag\": \"16-D10-40+170\", \"annee\": \"2018\", \"id_ign\": \"TRONROUT0000000041500436\", \"seq\": 62, \"distance\": 11.3027250387423, \"polluant\": \"NOX\", \"unite\": \"tonne\", \"emi\": 0.0252431618346444}, {\"id\": 89154, \"id_comptag\": \"16-D10-40+170\", \"annee\": \"2018\", \"id_ign\": \"TRONROUT0000000041500436\", \"seq\": 62, \"distance\": 11.3027250387423, \"polluant\": \"COVNM\", \"unite\": \"tonne\", \"emi\": 0.00248742722557419}, {\"id\": 89155, \"id_comptag\": \"16-D10-40+170\", \"annee\": \"2018\", \"id_ign\": \"TRONROUT0000000041500436\", \"seq\": 62, \"distance\": 11.3027250387423, \"polluant\": \"PM2_5\", \"unite\": \"tonne\", \"emi\": 0.00137750806689233}, {\"id\": 89156, \"id_comptag\": \"16-D10-40+170\", \"annee\": \"2018\", \"id_ign\": \"TRONROUT0000000041500436\", \"seq\": 63, \"distance\": 11.3027250387423, \"polluant\": \"NOX\", \"unite\": \"tonne\", \"emi\": 0.0252431618346444}, {\"id\": 89157, \"id_comptag\": \"16-D10-40+170\", \"annee\": \"2018\", \"id_ign\": \"TRONROUT0000000041500436\", \"seq\": 63, \"distance\": 11.3027250387423, \"polluant\": \"COVNM\", \"unite\": \"tonne\", \"emi\": 0.00248742722557419}, {\"id\": 89158, \"id_comptag\": \"16-D10-40+170\", \"annee\": \"2018\", \"id_ign\": \"TRONROUT0000000041500436\", \"seq\": 63, \"distance\": 11.3027250387423, \"polluant\": \"PM10\", \"unite\": \"tonne\", \"emi\": 0.00196353677245878}, {\"id\": 89159, \"id_comptag\": \"16-D10-40+170\", \"annee\": \"2018\", \"id_ign\": \"TRONROUT0000000041500436\", \"seq\": 63, \"distance\": 11.3027250387423, \"polluant\": \"PM2_5\", \"unite\": \"tonne\", \"emi\": 0.00137750806689233}, {\"id\": 89160, \"id_comptag\": \"16-D10-40+170\", \"annee\": \"2018\", \"id_ign\": \"TRONROUT0000000041501344\", \"seq\": 64, \"distance\": 11.4667519070334, \"polluant\": \"bruit\", \"unite\": \"dB(A)\", \"emi\": 72.61}, {\"id\": 89161, \"id_comptag\": \"16-D10-40+170\", \"annee\": \"2018\", \"id_ign\": \"TRONROUT0000000041501344\", \"seq\": -1, \"distance\": 11.4667519070334, \"polluant\": \"NOX\", \"unite\": \"tonne\", \"emi\": 0.0252431618346444}, {\"id\": 89162, \"id_comptag\": \"16-D10-40+170\", \"annee\": \"2018\", \"id_ign\": \"TRONROUT0000000041501344\", \"seq\": -1, \"distance\": 11.4667519070334, \"polluant\": \"PM10\", \"unite\": \"tonne\", \"emi\": 0.00196353677245878}, {\"id\": 89163, \"id_comptag\": \"16-D10-40+170\", \"annee\": \"2018\", \"id_ign\": \"TRONROUT0000000041501344\", \"seq\": -1, \"distance\": 11.4667519070334, \"polluant\": \"COVNM\", \"unite\": \"tonne\", \"emi\": 0.00248742722557419}, {\"id\": 89164, \"id_comptag\": \"16-D10-40+170\", \"annee\": \"2018\", \"id_ign\": \"TRONROUT0000000041501344\", \"seq\": -1, \"distance\": 11.4667519070334, \"polluant\": \"PM2_5\", \"unite\": \"tonne\", \"emi\": 0.00137750806689233}, {\"id\": 89165, \"id_comptag\": \"16-D10-40+170\", \"annee\": \"2018\", \"id_ign\": \"TRONROUT0000000041501344\", \"seq\": 63, \"distance\": 11.4667519070334, \"polluant\": \"PM2_5\", \"unite\": \"tonne\", \"emi\": 0.0082251525779792}, {\"id\": 89166, \"id_comptag\": \"16-D10-40+170\", \"annee\": \"2018\", \"id_ign\": \"TRONROUT0000000041501344\", \"seq\": 63, \"distance\": 11.4667519070334, \"polluant\": \"COVNM\", \"unite\": \"tonne\", \"emi\": 0.0148059135196119}, {\"id\": 89167, \"id_comptag\": \"16-D10-40+170\", \"annee\": \"2018\", \"id_ign\": \"TRONROUT0000000041501344\", \"seq\": 63, \"distance\": 11.4667519070334, \"polluant\": \"PM10\", \"unite\": \"tonne\", \"emi\": 0.0117213873104913}, {\"id\": 89168, \"id_comptag\": \"16-D10-40+170\", \"annee\": \"2018\", \"id_ign\": \"TRONROUT0000000041501344\", \"seq\": 63, \"distance\": 11.4667519070334, \"polluant\": \"NOX\", \"unite\": \"tonne\", \"emi\": 0.152223776493935}, {\"id\": 89169, \"id_comptag\": \"16-D10-40+170\", \"annee\": \"2018\", \"id_ign\": \"TRONROUT0000000041501344\", \"seq\": 64, \"distance\": 11.4667519070334, \"polluant\": \"PM2_5\", \"unite\": \"tonne\", \"emi\": 0.0082251525779792}, {\"id\": 89170, \"id_comptag\": \"16-D10-40+170\", \"annee\": \"2018\", \"id_ign\": \"TRONROUT0000000041501344\", \"seq\": 64, \"distance\": 11.4667519070334, \"polluant\": \"COVNM\", \"unite\": \"tonne\", \"emi\": 0.0148059135196119}, {\"id\": 89171, \"id_comptag\": \"16-D10-40+170\", \"annee\": \"2018\", \"id_ign\": \"TRONROUT0000000041501344\", \"seq\": 64, \"distance\": 11.4667519070334, \"polluant\": \"NOX\", \"unite\": \"tonne\", \"emi\": 0.152223776493935}, {\"id\": 89172, \"id_comptag\": \"16-D10-40+170\", \"annee\": \"2018\", \"id_ign\": \"TRONROUT0000000041501344\", \"seq\": 64, \"distance\": 11.4667519070334, \"polluant\": \"PM10\", \"unite\": \"tonne\", \"emi\": 0.0117213873104913}, {\"id\": 89173, \"id_comptag\": \"16-D10-40+170\", \"annee\": \"2018\", \"id_ign\": \"TRONROUT0000000041501332\", \"seq\": -1, \"distance\": 12.4453326975943, \"polluant\": \"bruit\", \"unite\": \"dB(A)\", \"emi\": 72.61}, {\"id\": 89174, \"id_comptag\": \"16-D10-40+170\", \"annee\": \"2018\", \"id_ign\": \"TRONROUT0000000041501332\", \"seq\": 64, \"distance\": 12.4453326975943, \"polluant\": \"bruit\", \"unite\": \"dB(A)\", \"emi\": 68.88}, {\"id\": 89175, \"id_comptag\": \"16-D10-40+170\", \"annee\": \"2018\", \"id_ign\": \"TRONROUT0000000041501332\", \"seq\": 65, \"distance\": 12.4453326975943, \"polluant\": \"bruit\", \"unite\": \"dB(A)\", \"emi\": 68.88}, {\"id\": 89176, \"id_comptag\": \"16-D10-40+170\", \"annee\": \"2018\", \"id_ign\": \"TRONROUT0000000041501332\", \"seq\": -1, \"distance\": 12.4453326975943, \"polluant\": \"PM10\", \"unite\": \"tonne\", \"emi\": 0.0117213873104913}, {\"id\": 89177, \"id_comptag\": \"16-D10-40+170\", \"annee\": \"2018\", \"id_ign\": \"TRONROUT0000000041501332\", \"seq\": -1, \"distance\": 12.4453326975943, \"polluant\": \"COVNM\", \"unite\": \"tonne\", \"emi\": 0.0148059135196119}, {\"id\": 89178, \"id_comptag\": \"16-D10-40+170\", \"annee\": \"2018\", \"id_ign\": \"TRONROUT0000000041501332\", \"seq\": -1, \"distance\": 12.4453326975943, \"polluant\": \"NOX\", \"unite\": \"tonne\", \"emi\": 0.152223776493935}, {\"id\": 89179, \"id_comptag\": \"16-D10-40+170\", \"annee\": \"2018\", \"id_ign\": \"TRONROUT0000000041501332\", \"seq\": -1, \"distance\": 12.4453326975943, \"polluant\": \"PM2_5\", \"unite\": \"tonne\", \"emi\": 0.0082251525779792}, {\"id\": 89180, \"id_comptag\": \"16-D10-40+170\", \"annee\": \"2018\", \"id_ign\": \"TRONROUT0000000041501332\", \"seq\": 64, \"distance\": 12.4453326975943, \"polluant\": \"COVNM\", \"unite\": \"tonne\", \"emi\": 0.00263998022528748}, {\"id\": 89181, \"id_comptag\": \"16-D10-40+170\", \"annee\": \"2018\", \"id_ign\": \"TRONROUT0000000041501332\", \"seq\": 64, \"distance\": 12.4453326975943, \"polluant\": \"PM10\", \"unite\": \"tonne\", \"emi\": 0.00157038569669798}, {\"id\": 89182, \"id_comptag\": \"16-D10-40+170\", \"annee\": \"2018\", \"id_ign\": \"TRONROUT0000000041501332\", \"seq\": 64, \"distance\": 12.4453326975943, \"polluant\": \"NOX\", \"unite\": \"tonne\", \"emi\": 0.0187799734534743}, {\"id\": 89183, \"id_comptag\": \"16-D10-40+170\", \"annee\": \"2018\", \"id_ign\": \"TRONROUT0000000041501332\", \"seq\": 64, \"distance\": 12.4453326975943, \"polluant\": \"PM2_5\", \"unite\": \"tonne\", \"emi\": 0.00106735810411768}, {\"id\": 89184, \"id_comptag\": \"16-D10-40+170\", \"annee\": \"2018\", \"id_ign\": \"TRONROUT0000000041501332\", \"seq\": 65, \"distance\": 12.4453326975943, \"polluant\": \"COVNM\", \"unite\": \"tonne\", \"emi\": 0.00263998022528748}, {\"id\": 89185, \"id_comptag\": \"16-D10-40+170\", \"annee\": \"2018\", \"id_ign\": \"TRONROUT0000000041501332\", \"seq\": 65, \"distance\": 12.4453326975943, \"polluant\": \"PM10\", \"unite\": \"tonne\", \"emi\": 0.00157038569669798}, {\"id\": 89186, \"id_comptag\": \"16-D10-40+170\", \"annee\": \"2018\", \"id_ign\": \"TRONROUT0000000041501332\", \"seq\": 65, \"distance\": 12.4453326975943, \"polluant\": \"PM2_5\", \"unite\": \"tonne\", \"emi\": 0.00106735810411768}, {\"id\": 89187, \"id_comptag\": \"16-D10-40+170\", \"annee\": \"2018\", \"id_ign\": \"TRONROUT0000000041501332\", \"seq\": 65, \"distance\": 12.4453326975943, \"polluant\": \"NOX\", \"unite\": \"tonne\", \"emi\": 0.0187799734534743}, {\"id\": 89188, \"id_comptag\": \"16-D10-40+170\", \"annee\": \"2018\", \"id_ign\": \"TRONROUT0000000041501339\", \"seq\": -1, \"distance\": 12.5532876327475, \"polluant\": \"bruit\", \"unite\": \"dB(A)\", \"emi\": 68.88}, {\"id\": 89189, \"id_comptag\": \"16-D10-40+170\", \"annee\": \"2018\", \"id_ign\": \"TRONROUT0000000041501339\", \"seq\": 65, \"distance\": 12.5532876327475, \"polluant\": \"bruit\", \"unite\": \"dB(A)\", \"emi\": 72.61}, {\"id\": 89190, \"id_comptag\": \"16-D10-40+170\", \"annee\": \"2018\", \"id_ign\": \"TRONROUT0000000041501339\", \"seq\": -1, \"distance\": 12.5532876327475, \"polluant\": \"PM10\", \"unite\": \"tonne\", \"emi\": 0.00157038569669798}, {\"id\": 89191, \"id_comptag\": \"16-D10-40+170\", \"annee\": \"2018\", \"id_ign\": \"TRONROUT0000000041501339\", \"seq\": -1, \"distance\": 12.5532876327475, \"polluant\": \"NOX\", \"unite\": \"tonne\", \"emi\": 0.0187799734534743}, {\"id\": 89192, \"id_comptag\": \"16-D10-40+170\", \"annee\": \"2018\", \"id_ign\": \"TRONROUT0000000041501339\", \"seq\": -1, \"distance\": 12.5532876327475, \"polluant\": \"PM2_5\", \"unite\": \"tonne\", \"emi\": 0.00106735810411768}, {\"id\": 89193, \"id_comptag\": \"16-D10-40+170\", \"annee\": \"2018\", \"id_ign\": \"TRONROUT0000000041501339\", \"seq\": -1, \"distance\": 12.5532876327475, \"polluant\": \"COVNM\", \"unite\": \"tonne\", \"emi\": 0.00263998022528748}, {\"id\": 89194, \"id_comptag\": \"16-D10-40+170\", \"annee\": \"2018\", \"id_ign\": \"TRONROUT0000000041501339\", \"seq\": 65, \"distance\": 12.5532876327475, \"polluant\": \"NOX\", \"unite\": \"tonne\", \"emi\": 0.0326254894855414}, {\"id\": 89195, \"id_comptag\": \"16-D10-40+170\", \"annee\": \"2018\", \"id_ign\": \"TRONROUT0000000041501339\", \"seq\": 65, \"distance\": 12.5532876327475, \"polluant\": \"COVNM\", \"unite\": \"tonne\", \"emi\": 0.00317328992213762}, {\"id\": 89196, \"id_comptag\": \"16-D10-40+170\", \"annee\": \"2018\", \"id_ign\": \"TRONROUT0000000041501339\", \"seq\": 65, \"distance\": 12.5532876327475, \"polluant\": \"PM10\", \"unite\": \"tonne\", \"emi\": 0.00251219623676613}, {\"id\": 89197, \"id_comptag\": \"16-D10-40+170\", \"annee\": \"2018\", \"id_ign\": \"TRONROUT0000000041501339\", \"seq\": 65, \"distance\": 12.5532876327475, \"polluant\": \"PM2_5\", \"unite\": \"tonne\", \"emi\": 0.0017628627743349}, {\"id\": 89198, \"id_comptag\": \"16-D10-40+170\", \"annee\": \"2018\", \"id_ign\": \"TRONROUT0000000041501339\", \"seq\": 66, \"distance\": 12.5532876327475, \"polluant\": \"PM2_5\", \"unite\": \"tonne\", \"emi\": 0.0017628627743349}, {\"id\": 89199, \"id_comptag\": \"16-D10-40+170\", \"annee\": \"2018\", \"id_ign\": \"TRONROUT0000000041501339\", \"seq\": 66, \"distance\": 12.5532876327475, \"polluant\": \"NOX\", \"unite\": \"tonne\", \"emi\": 0.0326254894855414}, {\"id\": 89200, \"id_comptag\": \"16-D10-40+170\", \"annee\": \"2018\", \"id_ign\": \"TRONROUT0000000041501339\", \"seq\": 66, \"distance\": 12.5532876327475, \"polluant\": \"PM10\", \"unite\": \"tonne\", \"emi\": 0.00251219623676613}, {\"id\": 89201, \"id_comptag\": \"16-D10-40+170\", \"annee\": \"2018\", \"id_ign\": \"TRONROUT0000000041501339\", \"seq\": 66, \"distance\": 12.5532876327475, \"polluant\": \"COVNM\", \"unite\": \"tonne\", \"emi\": 0.00317328992213762}, {\"id\": 89202, \"id_comptag\": \"16-D10-40+170\", \"annee\": \"2018\", \"id_ign\": \"TRONROUT0000000041501337\", \"seq\": -1, \"distance\": 12.7630227873242, \"polluant\": \"PM2_5\", \"unite\": \"tonne\", \"emi\": 0.0017628627743349}, {\"id\": 89203, \"id_comptag\": \"16-D10-40+170\", \"annee\": \"2018\", \"id_ign\": \"TRONROUT0000000041501337\", \"seq\": -1, \"distance\": 12.7630227873242, \"polluant\": \"NOX\", \"unite\": \"tonne\", \"emi\": 0.0326254894855414}, {\"id\": 89204, \"id_comptag\": \"16-D10-40+170\", \"annee\": \"2018\", \"id_ign\": \"TRONROUT0000000041501337\", \"seq\": -1, \"distance\": 12.7630227873242, \"polluant\": \"PM10\", \"unite\": \"tonne\", \"emi\": 0.00251219623676613}, {\"id\": 89205, \"id_comptag\": \"16-D10-40+170\", \"annee\": \"2018\", \"id_ign\": \"TRONROUT0000000041501337\", \"seq\": -1, \"distance\": 12.7630227873242, \"polluant\": \"COVNM\", \"unite\": \"tonne\", \"emi\": 0.00317328992213762}, {\"id\": 89206, \"id_comptag\": \"16-D10-40+170\", \"annee\": \"2018\", \"id_ign\": \"TRONROUT0000000041501337\", \"seq\": 66, \"distance\": 12.7630227873242, \"polluant\": \"NOX\", \"unite\": \"tonne\", \"emi\": 0.0244223056436819}, {\"id\": 89207, \"id_comptag\": \"16-D10-40+170\", \"annee\": \"2018\", \"id_ign\": \"TRONROUT0000000041501337\", \"seq\": 66, \"distance\": 12.7630227873242, \"polluant\": \"PM2_5\", \"unite\": \"tonne\", \"emi\": 0.00131961770264797}, {\"id\": 89208, \"id_comptag\": \"16-D10-40+170\", \"annee\": \"2018\", \"id_ign\": \"TRONROUT0000000041501337\", \"seq\": 66, \"distance\": 12.7630227873242, \"polluant\": \"COVNM\", \"unite\": \"tonne\", \"emi\": 0.00237541436455093}, {\"id\": 89209, \"id_comptag\": \"16-D10-40+170\", \"annee\": \"2018\", \"id_ign\": \"TRONROUT0000000041501337\", \"seq\": 66, \"distance\": 12.7630227873242, \"polluant\": \"PM10\", \"unite\": \"tonne\", \"emi\": 0.00188054264621531}, {\"id\": 89210, \"id_comptag\": \"16-D10-40+170\", \"annee\": \"2018\", \"id_ign\": \"TRONROUT0000000041501337\", \"seq\": 67, \"distance\": 12.7630227873242, \"polluant\": \"COVNM\", \"unite\": \"tonne\", \"emi\": 0.00237541436455093}, {\"id\": 89211, \"id_comptag\": \"16-D10-40+170\", \"annee\": \"2018\", \"id_ign\": \"TRONROUT0000000041501337\", \"seq\": 67, \"distance\": 12.7630227873242, \"polluant\": \"NOX\", \"unite\": \"tonne\", \"emi\": 0.0244223056436819}, {\"id\": 89212, \"id_comptag\": \"16-D10-40+170\", \"annee\": \"2018\", \"id_ign\": \"TRONROUT0000000041501337\", \"seq\": 67, \"distance\": 12.7630227873242, \"polluant\": \"PM2_5\", \"unite\": \"tonne\", \"emi\": 0.00131961770264797}, {\"id\": 89213, \"id_comptag\": \"16-D10-40+170\", \"annee\": \"2018\", \"id_ign\": \"TRONROUT0000000041501337\", \"seq\": 67, \"distance\": 12.7630227873242, \"polluant\": \"PM10\", \"unite\": \"tonne\", \"emi\": 0.00188054264621531}, {\"id\": 89214, \"id_comptag\": \"16-D10-40+170\", \"annee\": \"2018\", \"id_ign\": \"TRONROUT0000000041502083\", \"seq\": -1, \"distance\": 12.9200232225687, \"polluant\": \"COVNM\", \"unite\": \"tonne\", \"emi\": 0.00237541436455093}, {\"id\": 89215, \"id_comptag\": \"16-D10-40+170\", \"annee\": \"2018\", \"id_ign\": \"TRONROUT0000000041502083\", \"seq\": -1, \"distance\": 12.9200232225687, \"polluant\": \"PM10\", \"unite\": \"tonne\", \"emi\": 0.00188054264621531}, {\"id\": 89216, \"id_comptag\": \"16-D10-40+170\", \"annee\": \"2018\", \"id_ign\": \"TRONROUT0000000041502083\", \"seq\": -1, \"distance\": 12.9200232225687, \"polluant\": \"NOX\", \"unite\": \"tonne\", \"emi\": 0.0244223056436819}, {\"id\": 89217, \"id_comptag\": \"16-D10-40+170\", \"annee\": \"2018\", \"id_ign\": \"TRONROUT0000000041502083\", \"seq\": -1, \"distance\": 12.9200232225687, \"polluant\": \"PM2_5\", \"unite\": \"tonne\", \"emi\": 0.00131961770264797}, {\"id\": 89218, \"id_comptag\": \"16-D10-40+170\", \"annee\": \"2018\", \"id_ign\": \"TRONROUT0000000041502083\", \"seq\": 67, \"distance\": 12.9200232225687, \"polluant\": \"PM2_5\", \"unite\": \"tonne\", \"emi\": 0.00214172679566558}, {\"id\": 89219, \"id_comptag\": \"16-D10-40+170\", \"annee\": \"2018\", \"id_ign\": \"TRONROUT0000000041502083\", \"seq\": 67, \"distance\": 12.9200232225687, \"polluant\": \"COVNM\", \"unite\": \"tonne\", \"emi\": 0.00385025316654235}, {\"id\": 89220, \"id_comptag\": \"16-D10-40+170\", \"annee\": \"2018\", \"id_ign\": \"TRONROUT0000000041502083\", \"seq\": 67, \"distance\": 12.9200232225687, \"polluant\": \"NOX\", \"unite\": \"tonne\", \"emi\": 0.0400814654332534}, {\"id\": 89221, \"id_comptag\": \"16-D10-40+170\", \"annee\": \"2018\", \"id_ign\": \"TRONROUT0000000041502083\", \"seq\": 67, \"distance\": 12.9200232225687, \"polluant\": \"PM10\", \"unite\": \"tonne\", \"emi\": 0.0030506558697165}, {\"id\": 89222, \"id_comptag\": \"16-D10-40+170\", \"annee\": \"2018\", \"id_ign\": \"TRONROUT0000000041502083\", \"seq\": 68, \"distance\": 12.9200232225687, \"polluant\": \"PM2_5\", \"unite\": \"tonne\", \"emi\": 0.00214172679566558}, {\"id\": 89223, \"id_comptag\": \"16-D10-40+170\", \"annee\": \"2018\", \"id_ign\": \"TRONROUT0000000041502083\", \"seq\": 68, \"distance\": 12.9200232225687, \"polluant\": \"COVNM\", \"unite\": \"tonne\", \"emi\": 0.00385025316654235}, {\"id\": 89224, \"id_comptag\": \"16-D10-40+170\", \"annee\": \"2018\", \"id_ign\": \"TRONROUT0000000041502083\", \"seq\": 68, \"distance\": 12.9200232225687, \"polluant\": \"PM10\", \"unite\": \"tonne\", \"emi\": 0.0030506558697165}, {\"id\": 89225, \"id_comptag\": \"16-D10-40+170\", \"annee\": \"2018\", \"id_ign\": \"TRONROUT0000000041502083\", \"seq\": 68, \"distance\": 12.9200232225687, \"polluant\": \"NOX\", \"unite\": \"tonne\", \"emi\": 0.0400814654332534}, {\"id\": 89226, \"id_comptag\": \"16-D10-40+170\", \"annee\": \"2018\", \"id_ign\": \"TRONROUT0000000041502084\", \"seq\": -1, \"distance\": 13.1744284899203, \"polluant\": \"PM10\", \"unite\": \"tonne\", \"emi\": 0.0030506558697165}, {\"id\": 89227, \"id_comptag\": \"16-D10-40+170\", \"annee\": \"2018\", \"id_ign\": \"TRONROUT0000000041502084\", \"seq\": -1, \"distance\": 13.1744284899203, \"polluant\": \"NOX\", \"unite\": \"tonne\", \"emi\": 0.0400814654332534}, {\"id\": 89228, \"id_comptag\": \"16-D10-40+170\", \"annee\": \"2018\", \"id_ign\": \"TRONROUT0000000041502084\", \"seq\": -1, \"distance\": 13.1744284899203, \"polluant\": \"COVNM\", \"unite\": \"tonne\", \"emi\": 0.00385025316654235}, {\"id\": 89229, \"id_comptag\": \"16-D10-40+170\", \"annee\": \"2018\", \"id_ign\": \"TRONROUT0000000041502084\", \"seq\": -1, \"distance\": 13.1744284899203, \"polluant\": \"PM2_5\", \"unite\": \"tonne\", \"emi\": 0.00214172679566558}, {\"id\": 89230, \"id_comptag\": \"16-D10-40+170\", \"annee\": \"2018\", \"id_ign\": \"TRONROUT0000000041502084\", \"seq\": 68, \"distance\": 13.1744284899203, \"polluant\": \"PM2_5\", \"unite\": \"tonne\", \"emi\": 0.000742838583409881}, {\"id\": 89231, \"id_comptag\": \"16-D10-40+170\", \"annee\": \"2018\", \"id_ign\": \"TRONROUT0000000041502084\", \"seq\": 68, \"distance\": 13.1744284899203, \"polluant\": \"PM10\", \"unite\": \"tonne\", \"emi\": 0.00105809241837822}, {\"id\": 89232, \"id_comptag\": \"16-D10-40+170\", \"annee\": \"2018\", \"id_ign\": \"TRONROUT0000000041502084\", \"seq\": 68, \"distance\": 13.1744284899203, \"polluant\": \"COVNM\", \"unite\": \"tonne\", \"emi\": 0.00133542551449233}, {\"id\": 89233, \"id_comptag\": \"16-D10-40+170\", \"annee\": \"2018\", \"id_ign\": \"TRONROUT0000000041502084\", \"seq\": 68, \"distance\": 13.1744284899203, \"polluant\": \"NOX\", \"unite\": \"tonne\", \"emi\": 0.0139018940528207}, {\"id\": 89234, \"id_comptag\": \"16-D10-40+170\", \"annee\": \"2018\", \"id_ign\": \"TRONROUT0000000041502084\", \"seq\": 69, \"distance\": 13.1744284899203, \"polluant\": \"NOX\", \"unite\": \"tonne\", \"emi\": 0.0139018940528207}, {\"id\": 89235, \"id_comptag\": \"16-D10-40+170\", \"annee\": \"2018\", \"id_ign\": \"TRONROUT0000000041502084\", \"seq\": 69, \"distance\": 13.1744284899203, \"polluant\": \"PM2_5\", \"unite\": \"tonne\", \"emi\": 0.000742838583409881}, {\"id\": 89236, \"id_comptag\": \"16-D10-40+170\", \"annee\": \"2018\", \"id_ign\": \"TRONROUT0000000041502084\", \"seq\": 69, \"distance\": 13.1744284899203, \"polluant\": \"COVNM\", \"unite\": \"tonne\", \"emi\": 0.00133542551449233}, {\"id\": 89237, \"id_comptag\": \"16-D10-40+170\", \"annee\": \"2018\", \"id_ign\": \"TRONROUT0000000041502084\", \"seq\": 69, \"distance\": 13.1744284899203, \"polluant\": \"PM10\", \"unite\": \"tonne\", \"emi\": 0.00105809241837822}, {\"id\": 89238, \"id_comptag\": \"16-D10-40+170\", \"annee\": \"2018\", \"id_ign\": \"TRONROUT0000000041502093\", \"seq\": -1, \"distance\": 13.262666657736, \"polluant\": \"PM10\", \"unite\": \"tonne\", \"emi\": 0.00105809241837822}, {\"id\": 89239, \"id_comptag\": \"16-D10-40+170\", \"annee\": \"2018\", \"id_ign\": \"TRONROUT0000000041502093\", \"seq\": -1, \"distance\": 13.262666657736, \"polluant\": \"COVNM\", \"unite\": \"tonne\", \"emi\": 0.00133542551449233}, {\"id\": 89240, \"id_comptag\": \"16-D10-40+170\", \"annee\": \"2018\", \"id_ign\": \"TRONROUT0000000041502093\", \"seq\": -1, \"distance\": 13.262666657736, \"polluant\": \"NOX\", \"unite\": \"tonne\", \"emi\": 0.0139018940528207}, {\"id\": 89241, \"id_comptag\": \"16-D10-40+170\", \"annee\": \"2018\", \"id_ign\": \"TRONROUT0000000041502093\", \"seq\": -1, \"distance\": 13.262666657736, \"polluant\": \"PM2_5\", \"unite\": \"tonne\", \"emi\": 0.000742838583409881}, {\"id\": 89242, \"id_comptag\": \"16-D10-40+170\", \"annee\": \"2018\", \"id_ign\": \"TRONROUT0000000041502093\", \"seq\": 69, \"distance\": 13.262666657736, \"polluant\": \"PM10\", \"unite\": \"tonne\", \"emi\": 0.00645969629621226}, {\"id\": 89243, \"id_comptag\": \"16-D10-40+170\", \"annee\": \"2018\", \"id_ign\": \"TRONROUT0000000041502093\", \"seq\": 69, \"distance\": 13.262666657736, \"polluant\": \"COVNM\", \"unite\": \"tonne\", \"emi\": 0.00815282587796586}, {\"id\": 89244, \"id_comptag\": \"16-D10-40+170\", \"annee\": \"2018\", \"id_ign\": \"TRONROUT0000000041502093\", \"seq\": 69, \"distance\": 13.262666657736, \"polluant\": \"NOX\", \"unite\": \"tonne\", \"emi\": 0.0848716160928396}, {\"id\": 89245, \"id_comptag\": \"16-D10-40+170\", \"annee\": \"2018\", \"id_ign\": \"TRONROUT0000000041502093\", \"seq\": 69, \"distance\": 13.262666657736, \"polluant\": \"PM2_5\", \"unite\": \"tonne\", \"emi\": 0.00453505909558563}, {\"id\": 89246, \"id_comptag\": \"16-D10-40+170\", \"annee\": \"2018\", \"id_ign\": \"TRONROUT0000000041502093\", \"seq\": 70, \"distance\": 13.262666657736, \"polluant\": \"PM10\", \"unite\": \"tonne\", \"emi\": 0.00645969629621226}, {\"id\": 89247, \"id_comptag\": \"16-D10-40+170\", \"annee\": \"2018\", \"id_ign\": \"TRONROUT0000000041502093\", \"seq\": 70, \"distance\": 13.262666657736, \"polluant\": \"PM2_5\", \"unite\": \"tonne\", \"emi\": 0.00453505909558563}, {\"id\": 89248, \"id_comptag\": \"16-D10-40+170\", \"annee\": \"2018\", \"id_ign\": \"TRONROUT0000000041502093\", \"seq\": 70, \"distance\": 13.262666657736, \"polluant\": \"COVNM\", \"unite\": \"tonne\", \"emi\": 0.00815282587796586}, {\"id\": 89249, \"id_comptag\": \"16-D10-40+170\", \"annee\": \"2018\", \"id_ign\": \"TRONROUT0000000041502093\", \"seq\": 70, \"distance\": 13.262666657736, \"polluant\": \"NOX\", \"unite\": \"tonne\", \"emi\": 0.0848716160928396}, {\"id\": 89250, \"id_comptag\": \"16-D10-40+170\", \"annee\": \"2018\", \"id_ign\": \"TRONROUT0000000041502817\", \"seq\": -1, \"distance\": 13.801364181623, \"polluant\": \"PM10\", \"unite\": \"tonne\", \"emi\": 0.00645969629621226}, {\"id\": 89251, \"id_comptag\": \"16-D10-40+170\", \"annee\": \"2018\", \"id_ign\": \"TRONROUT0000000041502817\", \"seq\": -1, \"distance\": 13.801364181623, \"polluant\": \"COVNM\", \"unite\": \"tonne\", \"emi\": 0.00815282587796586}, {\"id\": 89252, \"id_comptag\": \"16-D10-40+170\", \"annee\": \"2018\", \"id_ign\": \"TRONROUT0000000041502817\", \"seq\": -1, \"distance\": 13.801364181623, \"polluant\": \"NOX\", \"unite\": \"tonne\", \"emi\": 0.0848716160928396}, {\"id\": 89253, \"id_comptag\": \"16-D10-40+170\", \"annee\": \"2018\", \"id_ign\": \"TRONROUT0000000041502817\", \"seq\": -1, \"distance\": 13.801364181623, \"polluant\": \"PM2_5\", \"unite\": \"tonne\", \"emi\": 0.00453505909558563}, {\"id\": 89254, \"id_comptag\": \"16-D10-40+170\", \"annee\": \"2018\", \"id_ign\": \"TRONROUT0000000041502817\", \"seq\": 70, \"distance\": 13.801364181623, \"polluant\": \"NOX\", \"unite\": \"tonne\", \"emi\": 0.0273332150170345}, {\"id\": 89255, \"id_comptag\": \"16-D10-40+170\", \"annee\": \"2018\", \"id_ign\": \"TRONROUT0000000041502817\", \"seq\": 70, \"distance\": 13.801364181623, \"polluant\": \"PM2_5\", \"unite\": \"tonne\", \"emi\": 0.00149156133556903}, {\"id\": 89256, \"id_comptag\": \"16-D10-40+170\", \"annee\": \"2018\", \"id_ign\": \"TRONROUT0000000041502817\", \"seq\": 70, \"distance\": 13.801364181623, \"polluant\": \"PM10\", \"unite\": \"tonne\", \"emi\": 0.0021261113463929}, {\"id\": 89257, \"id_comptag\": \"16-D10-40+170\", \"annee\": \"2018\", \"id_ign\": \"TRONROUT0000000041502817\", \"seq\": 70, \"distance\": 13.801364181623, \"polluant\": \"COVNM\", \"unite\": \"tonne\", \"emi\": 0.00269337825590984}, {\"id\": 89258, \"id_comptag\": \"16-D10-40+170\", \"annee\": \"2018\", \"id_ign\": \"TRONROUT0000000041502817\", \"seq\": 71, \"distance\": 13.801364181623, \"polluant\": \"PM2_5\", \"unite\": \"tonne\", \"emi\": 0.00149156133556903}, {\"id\": 89259, \"id_comptag\": \"16-D10-40+170\", \"annee\": \"2018\", \"id_ign\": \"TRONROUT0000000041502817\", \"seq\": 71, \"distance\": 13.801364181623, \"polluant\": \"NOX\", \"unite\": \"tonne\", \"emi\": 0.0273332150170345}, {\"id\": 89260, \"id_comptag\": \"16-D10-40+170\", \"annee\": \"2018\", \"id_ign\": \"TRONROUT0000000041502817\", \"seq\": 71, \"distance\": 13.801364181623, \"polluant\": \"PM10\", \"unite\": \"tonne\", \"emi\": 0.0021261113463929}, {\"id\": 89261, \"id_comptag\": \"16-D10-40+170\", \"annee\": \"2018\", \"id_ign\": \"TRONROUT0000000041502817\", \"seq\": 71, \"distance\": 13.801364181623, \"polluant\": \"COVNM\", \"unite\": \"tonne\", \"emi\": 0.00269337825590984}, {\"id\": 89262, \"id_comptag\": \"16-D10-40+170\", \"annee\": \"2018\", \"id_ign\": \"TRONROUT0000000041502814\", \"seq\": -1, \"distance\": 13.9789719507662, \"polluant\": \"PM10\", \"unite\": \"tonne\", \"emi\": 0.0021261113463929}, {\"id\": 89263, \"id_comptag\": \"16-D10-40+170\", \"annee\": \"2018\", \"id_ign\": \"TRONROUT0000000041502814\", \"seq\": -1, \"distance\": 13.9789719507662, \"polluant\": \"NOX\", \"unite\": \"tonne\", \"emi\": 0.0273332150170345}, {\"id\": 89264, \"id_comptag\": \"16-D10-40+170\", \"annee\": \"2018\", \"id_ign\": \"TRONROUT0000000041502814\", \"seq\": -1, \"distance\": 13.9789719507662, \"polluant\": \"COVNM\", \"unite\": \"tonne\", \"emi\": 0.00269337825590984}, {\"id\": 89265, \"id_comptag\": \"16-D10-40+170\", \"annee\": \"2018\", \"id_ign\": \"TRONROUT0000000041502814\", \"seq\": -1, \"distance\": 13.9789719507662, \"polluant\": \"PM2_5\", \"unite\": \"tonne\", \"emi\": 0.00149156133556903}, {\"id\": 89266, \"id_comptag\": \"16-D10-40+170\", \"annee\": \"2018\", \"id_ign\": \"TRONROUT0000000041502814\", \"seq\": 71, \"distance\": 13.9789719507662, \"polluant\": \"PM10\", \"unite\": \"tonne\", \"emi\": 0.00229275764470376}, {\"id\": 89267, \"id_comptag\": \"16-D10-40+170\", \"annee\": \"2018\", \"id_ign\": \"TRONROUT0000000041502814\", \"seq\": 71, \"distance\": 13.9789719507662, \"polluant\": \"NOX\", \"unite\": \"tonne\", \"emi\": 0.0297756756958077}, {\"id\": 89268, \"id_comptag\": \"16-D10-40+170\", \"annee\": \"2018\", \"id_ign\": \"TRONROUT0000000041502814\", \"seq\": 71, \"distance\": 13.9789719507662, \"polluant\": \"COVNM\", \"unite\": \"tonne\", \"emi\": 0.00289610525697151}, {\"id\": 89269, \"id_comptag\": \"16-D10-40+170\", \"annee\": \"2018\", \"id_ign\": \"TRONROUT0000000041502814\", \"seq\": 71, \"distance\": 13.9789719507662, \"polluant\": \"PM2_5\", \"unite\": \"tonne\", \"emi\": 0.00160887793846189}, {\"id\": 89270, \"id_comptag\": \"16-D10-40+170\", \"annee\": \"2018\", \"id_ign\": \"TRONROUT0000000041502814\", \"seq\": 72, \"distance\": 13.9789719507662, \"polluant\": \"PM10\", \"unite\": \"tonne\", \"emi\": 0.00229275764470376}, {\"id\": 89271, \"id_comptag\": \"16-D10-40+170\", \"annee\": \"2018\", \"id_ign\": \"TRONROUT0000000041502814\", \"seq\": 72, \"distance\": 13.9789719507662, \"polluant\": \"NOX\", \"unite\": \"tonne\", \"emi\": 0.0297756756958077}, {\"id\": 89272, \"id_comptag\": \"16-D10-40+170\", \"annee\": \"2018\", \"id_ign\": \"TRONROUT0000000041502814\", \"seq\": 72, \"distance\": 13.9789719507662, \"polluant\": \"COVNM\", \"unite\": \"tonne\", \"emi\": 0.00289610525697151}, {\"id\": 89273, \"id_comptag\": \"16-D10-40+170\", \"annee\": \"2018\", \"id_ign\": \"TRONROUT0000000041502814\", \"seq\": 72, \"distance\": 13.9789719507662, \"polluant\": \"PM2_5\", \"unite\": \"tonne\", \"emi\": 0.00160887793846189}, {\"id\": 89274, \"id_comptag\": \"16-D10-40+170\", \"annee\": \"2018\", \"id_ign\": \"TRONROUT0000000041502815\", \"seq\": -1, \"distance\": 14.1703868856273, \"polluant\": \"COVNM\", \"unite\": \"tonne\", \"emi\": 0.00289610525697151}, {\"id\": 89275, \"id_comptag\": \"16-D10-40+170\", \"annee\": \"2018\", \"id_ign\": \"TRONROUT0000000041502815\", \"seq\": -1, \"distance\": 14.1703868856273, \"polluant\": \"PM2_5\", \"unite\": \"tonne\", \"emi\": 0.00160887793846189}, {\"id\": 89276, \"id_comptag\": \"16-D10-40+170\", \"annee\": \"2018\", \"id_ign\": \"TRONROUT0000000041502815\", \"seq\": -1, \"distance\": 14.1703868856273, \"polluant\": \"PM10\", \"unite\": \"tonne\", \"emi\": 0.00229275764470376}, {\"id\": 89277, \"id_comptag\": \"16-D10-40+170\", \"annee\": \"2018\", \"id_ign\": \"TRONROUT0000000041502815\", \"seq\": -1, \"distance\": 14.1703868856273, \"polluant\": \"NOX\", \"unite\": \"tonne\", \"emi\": 0.0297756756958077}, {\"id\": 89278, \"id_comptag\": \"16-D10-40+170\", \"annee\": \"2018\", \"id_ign\": \"TRONROUT0000000041502815\", \"seq\": 72, \"distance\": 14.1703868856273, \"polluant\": \"PM10\", \"unite\": \"tonne\", \"emi\": 0.00133728980153639}, {\"id\": 89279, \"id_comptag\": \"16-D10-40+170\", \"annee\": \"2018\", \"id_ign\": \"TRONROUT0000000041502815\", \"seq\": 72, \"distance\": 14.1703868856273, \"polluant\": \"PM2_5\", \"unite\": \"tonne\", \"emi\": 0.000938168062461327}, {\"id\": 89280, \"id_comptag\": \"16-D10-40+170\", \"annee\": \"2018\", \"id_ign\": \"TRONROUT0000000041502815\", \"seq\": 72, \"distance\": 14.1703868856273, \"polluant\": \"NOX\", \"unite\": \"tonne\", \"emi\": 0.0171921521172894}, {\"id\": 89281, \"id_comptag\": \"16-D10-40+170\", \"annee\": \"2018\", \"id_ign\": \"TRONROUT0000000041502815\", \"seq\": 72, \"distance\": 14.1703868856273, \"polluant\": \"COVNM\", \"unite\": \"tonne\", \"emi\": 0.00169409155330405}, {\"id\": 89282, \"id_comptag\": \"16-D10-40+170\", \"annee\": \"2018\", \"id_ign\": \"TRONROUT0000000041502815\", \"seq\": 73, \"distance\": 14.1703868856273, \"polluant\": \"COVNM\", \"unite\": \"tonne\", \"emi\": 0.00169409155330405}, {\"id\": 89283, \"id_comptag\": \"16-D10-40+170\", \"annee\": \"2018\", \"id_ign\": \"TRONROUT0000000041502815\", \"seq\": 73, \"distance\": 14.1703868856273, \"polluant\": \"PM10\", \"unite\": \"tonne\", \"emi\": 0.00133728980153639}, {\"id\": 89284, \"id_comptag\": \"16-D10-40+170\", \"annee\": \"2018\", \"id_ign\": \"TRONROUT0000000041502815\", \"seq\": 73, \"distance\": 14.1703868856273, \"polluant\": \"NOX\", \"unite\": \"tonne\", \"emi\": 0.0171921521172894}, {\"id\": 89285, \"id_comptag\": \"16-D10-40+170\", \"annee\": \"2018\", \"id_ign\": \"TRONROUT0000000041502815\", \"seq\": 73, \"distance\": 14.1703868856273, \"polluant\": \"PM2_5\", \"unite\": \"tonne\", \"emi\": 0.000938168062461327}, {\"id\": 89286, \"id_comptag\": \"16-D10-40+170\", \"annee\": \"2018\", \"id_ign\": \"TRONROUT0000000041502818\", \"seq\": -1, \"distance\": 14.2820993125196, \"polluant\": \"COVNM\", \"unite\": \"tonne\", \"emi\": 0.00169409155330405}, {\"id\": 89287, \"id_comptag\": \"16-D10-40+170\", \"annee\": \"2018\", \"id_ign\": \"TRONROUT0000000041502818\", \"seq\": -1, \"distance\": 14.2820993125196, \"polluant\": \"NOX\", \"unite\": \"tonne\", \"emi\": 0.0171921521172894}, {\"id\": 89288, \"id_comptag\": \"16-D10-40+170\", \"annee\": \"2018\", \"id_ign\": \"TRONROUT0000000041502818\", \"seq\": -1, \"distance\": 14.2820993125196, \"polluant\": \"PM2_5\", \"unite\": \"tonne\", \"emi\": 0.000938168062461327}, {\"id\": 89289, \"id_comptag\": \"16-D10-40+170\", \"annee\": \"2018\", \"id_ign\": \"TRONROUT0000000041502818\", \"seq\": -1, \"distance\": 14.2820993125196, \"polluant\": \"PM10\", \"unite\": \"tonne\", \"emi\": 0.00133728980153639}, {\"id\": 89290, \"id_comptag\": \"16-D10-40+170\", \"annee\": \"2018\", \"id_ign\": \"TRONROUT0000000041502818\", \"seq\": 73, \"distance\": 14.2820993125196, \"polluant\": \"PM2_5\", \"unite\": \"tonne\", \"emi\": 0.00180055044359378}, {\"id\": 89291, \"id_comptag\": \"16-D10-40+170\", \"annee\": \"2018\", \"id_ign\": \"TRONROUT0000000041502818\", \"seq\": 73, \"distance\": 14.2820993125196, \"polluant\": \"PM10\", \"unite\": \"tonne\", \"emi\": 0.00256655266973453}, {\"id\": 89292, \"id_comptag\": \"16-D10-40+170\", \"annee\": \"2018\", \"id_ign\": \"TRONROUT0000000041502818\", \"seq\": 73, \"distance\": 14.2820993125196, \"polluant\": \"COVNM\", \"unite\": \"tonne\", \"emi\": 0.00325133355082189}, {\"id\": 89293, \"id_comptag\": \"16-D10-40+170\", \"annee\": \"2018\", \"id_ign\": \"TRONROUT0000000041502818\", \"seq\": 73, \"distance\": 14.2820993125196, \"polluant\": \"NOX\", \"unite\": \"tonne\", \"emi\": 0.0329955136608513}, {\"id\": 89294, \"id_comptag\": \"16-D10-40+170\", \"annee\": \"2018\", \"id_ign\": \"TRONROUT0000000041502818\", \"seq\": 74, \"distance\": 14.2820993125196, \"polluant\": \"COVNM\", \"unite\": \"tonne\", \"emi\": 0.00325133355082189}, {\"id\": 89295, \"id_comptag\": \"16-D10-40+170\", \"annee\": \"2018\", \"id_ign\": \"TRONROUT0000000041502818\", \"seq\": 74, \"distance\": 14.2820993125196, \"polluant\": \"PM2_5\", \"unite\": \"tonne\", \"emi\": 0.00180055044359378}, {\"id\": 89296, \"id_comptag\": \"16-D10-40+170\", \"annee\": \"2018\", \"id_ign\": \"TRONROUT0000000041502818\", \"seq\": 74, \"distance\": 14.2820993125196, \"polluant\": \"PM10\", \"unite\": \"tonne\", \"emi\": 0.00256655266973453}, {\"id\": 89297, \"id_comptag\": \"16-D10-40+170\", \"annee\": \"2018\", \"id_ign\": \"TRONROUT0000000041502818\", \"seq\": 74, \"distance\": 14.2820993125196, \"polluant\": \"NOX\", \"unite\": \"tonne\", \"emi\": 0.0329955136608513}, {\"id\": 89298, \"id_comptag\": \"16-D10-40+170\", \"annee\": \"2018\", \"id_ign\": \"TRONROUT0000000041502813\", \"seq\": -1, \"distance\": 14.496499981061, \"polluant\": \"PM2_5\", \"unite\": \"tonne\", \"emi\": 0.00180055044359378}, {\"id\": 89299, \"id_comptag\": \"16-D10-40+170\", \"annee\": \"2018\", \"id_ign\": \"TRONROUT0000000041502813\", \"seq\": -1, \"distance\": 14.496499981061, \"polluant\": \"COVNM\", \"unite\": \"tonne\", \"emi\": 0.00325133355082189}, {\"id\": 89300, \"id_comptag\": \"16-D10-40+170\", \"annee\": \"2018\", \"id_ign\": \"TRONROUT0000000041502813\", \"seq\": -1, \"distance\": 14.496499981061, \"polluant\": \"NOX\", \"unite\": \"tonne\", \"emi\": 0.0329955136608513}, {\"id\": 89301, \"id_comptag\": \"16-D10-40+170\", \"annee\": \"2018\", \"id_ign\": \"TRONROUT0000000041502813\", \"seq\": -1, \"distance\": 14.496499981061, \"polluant\": \"PM10\", \"unite\": \"tonne\", \"emi\": 0.00256655266973453}, {\"id\": 89302, \"id_comptag\": \"16-D10-40+170\", \"annee\": \"2018\", \"id_ign\": \"TRONROUT0000000041502813\", \"seq\": 74, \"distance\": 14.496499981061, \"polluant\": \"NOX\", \"unite\": \"tonne\", \"emi\": 0.0387304582065303}, {\"id\": 89303, \"id_comptag\": \"16-D10-40+170\", \"annee\": \"2018\", \"id_ign\": \"TRONROUT0000000041502813\", \"seq\": 74, \"distance\": 14.496499981061, \"polluant\": \"PM10\", \"unite\": \"tonne\", \"emi\": 0.00301264474715401}, {\"id\": 89304, \"id_comptag\": \"16-D10-40+170\", \"annee\": \"2018\", \"id_ign\": \"TRONROUT0000000041502813\", \"seq\": 74, \"distance\": 14.496499981061, \"polluant\": \"COVNM\", \"unite\": \"tonne\", \"emi\": 0.00381644727522475}, {\"id\": 89305, \"id_comptag\": \"16-D10-40+170\", \"annee\": \"2018\", \"id_ign\": \"TRONROUT0000000041502813\", \"seq\": 74, \"distance\": 14.496499981061, \"polluant\": \"PM2_5\", \"unite\": \"tonne\", \"emi\": 0.0021135038060371}, {\"id\": 89306, \"id_comptag\": \"16-D10-40+170\", \"annee\": \"2018\", \"id_ign\": \"TRONROUT0000000041502813\", \"seq\": 75, \"distance\": 14.496499981061, \"polluant\": \"PM2_5\", \"unite\": \"tonne\", \"emi\": 0.0021135038060371}, {\"id\": 89307, \"id_comptag\": \"16-D10-40+170\", \"annee\": \"2018\", \"id_ign\": \"TRONROUT0000000041502813\", \"seq\": 75, \"distance\": 14.496499981061, \"polluant\": \"PM10\", \"unite\": \"tonne\", \"emi\": 0.00301264474715401}, {\"id\": 89308, \"id_comptag\": \"16-D10-40+170\", \"annee\": \"2018\", \"id_ign\": \"TRONROUT0000000041502813\", \"seq\": 75, \"distance\": 14.496499981061, \"polluant\": \"COVNM\", \"unite\": \"tonne\", \"emi\": 0.00381644727522475}, {\"id\": 89309, \"id_comptag\": \"16-D10-40+170\", \"annee\": \"2018\", \"id_ign\": \"TRONROUT0000000041502813\", \"seq\": 75, \"distance\": 14.496499981061, \"polluant\": \"NOX\", \"unite\": \"tonne\", \"emi\": 0.0387304582065303}, {\"id\": 89310, \"id_comptag\": \"16-D10-40+170\", \"annee\": \"2018\", \"id_ign\": \"TRONROUT0000000041502795\", \"seq\": -1, \"distance\": 14.7481655928695, \"polluant\": \"COVNM\", \"unite\": \"tonne\", \"emi\": 0.00381644727522475}, {\"id\": 89311, \"id_comptag\": \"16-D10-40+170\", \"annee\": \"2018\", \"id_ign\": \"TRONROUT0000000041502795\", \"seq\": -1, \"distance\": 14.7481655928695, \"polluant\": \"NOX\", \"unite\": \"tonne\", \"emi\": 0.0387304582065303}, {\"id\": 89312, \"id_comptag\": \"16-D10-40+170\", \"annee\": \"2018\", \"id_ign\": \"TRONROUT0000000041502795\", \"seq\": -1, \"distance\": 14.7481655928695, \"polluant\": \"PM2_5\", \"unite\": \"tonne\", \"emi\": 0.0021135038060371}, {\"id\": 89313, \"id_comptag\": \"16-D10-40+170\", \"annee\": \"2018\", \"id_ign\": \"TRONROUT0000000041502795\", \"seq\": -1, \"distance\": 14.7481655928695, \"polluant\": \"PM10\", \"unite\": \"tonne\", \"emi\": 0.00301264474715401}, {\"id\": 89314, \"id_comptag\": \"16-D10-40+170\", \"annee\": \"2018\", \"id_ign\": \"TRONROUT0000000041502795\", \"seq\": 75, \"distance\": 14.7481655928695, \"polluant\": \"PM2_5\", \"unite\": \"tonne\", \"emi\": 0.000318855426657163}, {\"id\": 89315, \"id_comptag\": \"16-D10-40+170\", \"annee\": \"2018\", \"id_ign\": \"TRONROUT0000000041502795\", \"seq\": 75, \"distance\": 14.7481655928695, \"polluant\": \"COVNM\", \"unite\": \"tonne\", \"emi\": 0.000573964534710771}, {\"id\": 89316, \"id_comptag\": \"16-D10-40+170\", \"annee\": \"2018\", \"id_ign\": \"TRONROUT0000000041502795\", \"seq\": 75, \"distance\": 14.7481655928695, \"polluant\": \"PM10\", \"unite\": \"tonne\", \"emi\": 0.00045439010601537}, {\"id\": 89317, \"id_comptag\": \"16-D10-40+170\", \"annee\": \"2018\", \"id_ign\": \"TRONROUT0000000041502795\", \"seq\": 75, \"distance\": 14.7481655928695, \"polluant\": \"NOX\", \"unite\": \"tonne\", \"emi\": 0.00590109140726276}, {\"id\": 89318, \"id_comptag\": \"16-D10-40+170\", \"annee\": \"2018\", \"id_ign\": \"TRONROUT0000000041502795\", \"seq\": 76, \"distance\": 14.7481655928695, \"polluant\": \"COVNM\", \"unite\": \"tonne\", \"emi\": 0.000573964534710771}, {\"id\": 89319, \"id_comptag\": \"16-D10-40+170\", \"annee\": \"2018\", \"id_ign\": \"TRONROUT0000000041502795\", \"seq\": 76, \"distance\": 14.7481655928695, \"polluant\": \"PM2_5\", \"unite\": \"tonne\", \"emi\": 0.000318855426657163}, {\"id\": 89320, \"id_comptag\": \"16-D10-40+170\", \"annee\": \"2018\", \"id_ign\": \"TRONROUT0000000041502795\", \"seq\": 76, \"distance\": 14.7481655928695, \"polluant\": \"NOX\", \"unite\": \"tonne\", \"emi\": 0.00590109140726276}, {\"id\": 89321, \"id_comptag\": \"16-D10-40+170\", \"annee\": \"2018\", \"id_ign\": \"TRONROUT0000000041502795\", \"seq\": 76, \"distance\": 14.7481655928695, \"polluant\": \"PM10\", \"unite\": \"tonne\", \"emi\": 0.00045439010601537}, {\"id\": 89322, \"id_comptag\": \"16-D10-40+170\", \"annee\": \"2018\", \"id_ign\": \"TRONROUT0000000041502796\", \"seq\": -1, \"distance\": 14.7861011560745, \"polluant\": \"PM10\", \"unite\": \"tonne\", \"emi\": 0.00045439010601537}, {\"id\": 89323, \"id_comptag\": \"16-D10-40+170\", \"annee\": \"2018\", \"id_ign\": \"TRONROUT0000000041502796\", \"seq\": -1, \"distance\": 14.7861011560745, \"polluant\": \"NOX\", \"unite\": \"tonne\", \"emi\": 0.00590109140726276}, {\"id\": 89324, \"id_comptag\": \"16-D10-40+170\", \"annee\": \"2018\", \"id_ign\": \"TRONROUT0000000041502796\", \"seq\": -1, \"distance\": 14.7861011560745, \"polluant\": \"COVNM\", \"unite\": \"tonne\", \"emi\": 0.000573964534710771}, {\"id\": 89325, \"id_comptag\": \"16-D10-40+170\", \"annee\": \"2018\", \"id_ign\": \"TRONROUT0000000041502796\", \"seq\": -1, \"distance\": 14.7861011560745, \"polluant\": \"PM2_5\", \"unite\": \"tonne\", \"emi\": 0.000318855426657163}, {\"id\": 89326, \"id_comptag\": \"16-D10-40+170\", \"annee\": \"2018\", \"id_ign\": \"TRONROUT0000000041502796\", \"seq\": 76, \"distance\": 14.7861011560745, \"polluant\": \"COVNM\", \"unite\": \"tonne\", \"emi\": 0.000923688023450586}, {\"id\": 89327, \"id_comptag\": \"16-D10-40+170\", \"annee\": \"2018\", \"id_ign\": \"TRONROUT0000000041502796\", \"seq\": 76, \"distance\": 14.7861011560745, \"polluant\": \"PM2_5\", \"unite\": \"tonne\", \"emi\": 0.000513137870032097}, {\"id\": 89328, \"id_comptag\": \"16-D10-40+170\", \"annee\": \"2018\", \"id_ign\": \"TRONROUT0000000041502796\", \"seq\": 76, \"distance\": 14.7861011560745, \"polluant\": \"PM10\", \"unite\": \"tonne\", \"emi\": 0.000731255458340018}, {\"id\": 89329, \"id_comptag\": \"16-D10-40+170\", \"annee\": \"2018\", \"id_ign\": \"TRONROUT0000000041502796\", \"seq\": 76, \"distance\": 14.7861011560745, \"polluant\": \"NOX\", \"unite\": \"tonne\", \"emi\": 0.00949669731932567}, {\"id\": 89330, \"id_comptag\": \"16-D10-40+170\", \"annee\": \"2018\", \"id_ign\": \"TRONROUT0000000041502796\", \"seq\": 77, \"distance\": 14.7861011560745, \"polluant\": \"COVNM\", \"unite\": \"tonne\", \"emi\": 0.000923688023450586}, {\"id\": 89331, \"id_comptag\": \"16-D10-40+170\", \"annee\": \"2018\", \"id_ign\": \"TRONROUT0000000041502796\", \"seq\": 77, \"distance\": 14.7861011560745, \"polluant\": \"PM10\", \"unite\": \"tonne\", \"emi\": 0.000731255458340018}, {\"id\": 89332, \"id_comptag\": \"16-D10-40+170\", \"annee\": \"2018\", \"id_ign\": \"TRONROUT0000000041502796\", \"seq\": 77, \"distance\": 14.7861011560745, \"polluant\": \"PM2_5\", \"unite\": \"tonne\", \"emi\": 0.000513137870032097}, {\"id\": 89333, \"id_comptag\": \"16-D10-40+170\", \"annee\": \"2018\", \"id_ign\": \"TRONROUT0000000041502796\", \"seq\": 77, \"distance\": 14.7861011560745, \"polluant\": \"NOX\", \"unite\": \"tonne\", \"emi\": 0.00949669731932567}, {\"id\": 89334, \"id_comptag\": \"16-D10-40+170\", \"annee\": \"2018\", \"id_ign\": \"TRONROUT0000000041502792\", \"seq\": -1, \"distance\": 14.847151313839, \"polluant\": \"NOX\", \"unite\": \"tonne\", \"emi\": 0.00949669731932567}, {\"id\": 89335, \"id_comptag\": \"16-D10-40+170\", \"annee\": \"2018\", \"id_ign\": \"TRONROUT0000000041502792\", \"seq\": -1, \"distance\": 14.847151313839, \"polluant\": \"PM2_5\", \"unite\": \"tonne\", \"emi\": 0.000513137870032097}, {\"id\": 89336, \"id_comptag\": \"16-D10-40+170\", \"annee\": \"2018\", \"id_ign\": \"TRONROUT0000000041502792\", \"seq\": -1, \"distance\": 14.847151313839, \"polluant\": \"PM10\", \"unite\": \"tonne\", \"emi\": 0.000731255458340018}, {\"id\": 89337, \"id_comptag\": \"16-D10-40+170\", \"annee\": \"2018\", \"id_ign\": \"TRONROUT0000000041502792\", \"seq\": -1, \"distance\": 14.847151313839, \"polluant\": \"COVNM\", \"unite\": \"tonne\", \"emi\": 0.000923688023450586}, {\"id\": 89338, \"id_comptag\": \"16-D10-40+170\", \"annee\": \"2018\", \"id_ign\": \"TRONROUT0000000041502792\", \"seq\": 77, \"distance\": 14.847151313839, \"polluant\": \"PM10\", \"unite\": \"tonne\", \"emi\": 0.00243353410000819}, {\"id\": 89339, \"id_comptag\": \"16-D10-40+170\", \"annee\": \"2018\", \"id_ign\": \"TRONROUT0000000041502792\", \"seq\": 77, \"distance\": 14.847151313839, \"polluant\": \"PM2_5\", \"unite\": \"tonne\", \"emi\": 0.00170723202174672}, {\"id\": 89340, \"id_comptag\": \"16-D10-40+170\", \"annee\": \"2018\", \"id_ign\": \"TRONROUT0000000041502792\", \"seq\": 77, \"distance\": 14.847151313839, \"polluant\": \"NOX\", \"unite\": \"tonne\", \"emi\": 0.0312854314613668}, {\"id\": 89341, \"id_comptag\": \"16-D10-40+170\", \"annee\": \"2018\", \"id_ign\": \"TRONROUT0000000041502792\", \"seq\": 77, \"distance\": 14.847151313839, \"polluant\": \"COVNM\", \"unite\": \"tonne\", \"emi\": 0.00308282435023794}, {\"id\": 89342, \"id_comptag\": \"16-D10-40+170\", \"annee\": \"2018\", \"id_ign\": \"TRONROUT0000000041502792\", \"seq\": 78, \"distance\": 14.847151313839, \"polluant\": \"COVNM\", \"unite\": \"tonne\", \"emi\": 0.00308282435023794}, {\"id\": 89343, \"id_comptag\": \"16-D10-40+170\", \"annee\": \"2018\", \"id_ign\": \"TRONROUT0000000041502792\", \"seq\": 78, \"distance\": 14.847151313839, \"polluant\": \"PM10\", \"unite\": \"tonne\", \"emi\": 0.00243353410000819}, {\"id\": 89344, \"id_comptag\": \"16-D10-40+170\", \"annee\": \"2018\", \"id_ign\": \"TRONROUT0000000041502792\", \"seq\": 78, \"distance\": 14.847151313839, \"polluant\": \"PM2_5\", \"unite\": \"tonne\", \"emi\": 0.00170723202174672}, {\"id\": 89345, \"id_comptag\": \"16-D10-40+170\", \"annee\": \"2018\", \"id_ign\": \"TRONROUT0000000041502792\", \"seq\": 78, \"distance\": 14.847151313839, \"polluant\": \"NOX\", \"unite\": \"tonne\", \"emi\": 0.0312854314613668}, {\"id\": 89346, \"id_comptag\": \"16-D10-40+170\", \"annee\": \"2018\", \"id_ign\": \"TRONROUT0000000041502797\", \"seq\": -1, \"distance\": 15.0504400848479, \"polluant\": \"NOX\", \"unite\": \"tonne\", \"emi\": 0.0312854314613668}, {\"id\": 89347, \"id_comptag\": \"16-D10-40+170\", \"annee\": \"2018\", \"id_ign\": \"TRONROUT0000000041502797\", \"seq\": -1, \"distance\": 15.0504400848479, \"polluant\": \"PM2_5\", \"unite\": \"tonne\", \"emi\": 0.00170723202174672}, {\"id\": 89348, \"id_comptag\": \"16-D10-40+170\", \"annee\": \"2018\", \"id_ign\": \"TRONROUT0000000041502797\", \"seq\": -1, \"distance\": 15.0504400848479, \"polluant\": \"COVNM\", \"unite\": \"tonne\", \"emi\": 0.00308282435023794}, {\"id\": 89349, \"id_comptag\": \"16-D10-40+170\", \"annee\": \"2018\", \"id_ign\": \"TRONROUT0000000041502797\", \"seq\": -1, \"distance\": 15.0504400848479, \"polluant\": \"PM10\", \"unite\": \"tonne\", \"emi\": 0.00243353410000819}, {\"id\": 89350, \"id_comptag\": \"16-D10-40+170\", \"annee\": \"2018\", \"id_ign\": \"TRONROUT0000000041502797\", \"seq\": 78, \"distance\": 15.0504400848479, \"polluant\": \"PM10\", \"unite\": \"tonne\", \"emi\": 0.00371468139986669}, {\"id\": 89351, \"id_comptag\": \"16-D10-40+170\", \"annee\": \"2018\", \"id_ign\": \"TRONROUT0000000041502797\", \"seq\": 78, \"distance\": 15.0504400848479, \"polluant\": \"COVNM\", \"unite\": \"tonne\", \"emi\": 0.00470579404366943}, {\"id\": 89352, \"id_comptag\": \"16-D10-40+170\", \"annee\": \"2018\", \"id_ign\": \"TRONROUT0000000041502797\", \"seq\": 78, \"distance\": 15.0504400848479, \"polluant\": \"NOX\", \"unite\": \"tonne\", \"emi\": 0.0477558174902716}, {\"id\": 89353, \"id_comptag\": \"16-D10-40+170\", \"annee\": \"2018\", \"id_ign\": \"TRONROUT0000000041502797\", \"seq\": 78, \"distance\": 15.0504400848479, \"polluant\": \"PM2_5\", \"unite\": \"tonne\", \"emi\": 0.00260601363112932}, {\"id\": 89354, \"id_comptag\": \"16-D10-40+170\", \"annee\": \"2018\", \"id_ign\": \"TRONROUT0000000041502797\", \"seq\": 79, \"distance\": 15.0504400848479, \"polluant\": \"PM2_5\", \"unite\": \"tonne\", \"emi\": 0.00260601363112932}, {\"id\": 89355, \"id_comptag\": \"16-D10-40+170\", \"annee\": \"2018\", \"id_ign\": \"TRONROUT0000000041502797\", \"seq\": 79, \"distance\": 15.0504400848479, \"polluant\": \"PM10\", \"unite\": \"tonne\", \"emi\": 0.00371468139986669}, {\"id\": 89356, \"id_comptag\": \"16-D10-40+170\", \"annee\": \"2018\", \"id_ign\": \"TRONROUT0000000041502797\", \"seq\": 79, \"distance\": 15.0504400848479, \"polluant\": \"COVNM\", \"unite\": \"tonne\", \"emi\": 0.00470579404366943}, {\"id\": 89357, \"id_comptag\": \"16-D10-40+170\", \"annee\": \"2018\", \"id_ign\": \"TRONROUT0000000041502797\", \"seq\": 79, \"distance\": 15.0504400848479, \"polluant\": \"NOX\", \"unite\": \"tonne\", \"emi\": 0.0477558174902716}, {\"id\": 89358, \"id_comptag\": \"16-D10-40+170\", \"annee\": \"2018\", \"id_ign\": \"TRONROUT0000000041502803\", \"seq\": -1, \"distance\": 15.360751338126, \"polluant\": \"PM10\", \"unite\": \"tonne\", \"emi\": 0.00371468139986669}, {\"id\": 89359, \"id_comptag\": \"16-D10-40+170\", \"annee\": \"2018\", \"id_ign\": \"TRONROUT0000000041502803\", \"seq\": -1, \"distance\": 15.360751338126, \"polluant\": \"NOX\", \"unite\": \"tonne\", \"emi\": 0.0477558174902716}, {\"id\": 89360, \"id_comptag\": \"16-D10-40+170\", \"annee\": \"2018\", \"id_ign\": \"TRONROUT0000000041502803\", \"seq\": -1, \"distance\": 15.360751338126, \"polluant\": \"COVNM\", \"unite\": \"tonne\", \"emi\": 0.00470579404366943}, {\"id\": 89361, \"id_comptag\": \"16-D10-40+170\", \"annee\": \"2018\", \"id_ign\": \"TRONROUT0000000041502803\", \"seq\": -1, \"distance\": 15.360751338126, \"polluant\": \"PM2_5\", \"unite\": \"tonne\", \"emi\": 0.00260601363112932}, {\"id\": 89362, \"id_comptag\": \"16-D10-40+170\", \"annee\": \"2018\", \"id_ign\": \"TRONROUT0000000041502803\", \"seq\": 79, \"distance\": 15.360751338126, \"polluant\": \"NOX\", \"unite\": \"tonne\", \"emi\": 0.0917390891079281}, {\"id\": 89363, \"id_comptag\": \"16-D10-40+170\", \"annee\": \"2018\", \"id_ign\": \"TRONROUT0000000041502803\", \"seq\": 79, \"distance\": 15.360751338126, \"polluant\": \"PM2_5\", \"unite\": \"tonne\", \"emi\": 0.00490201800828854}, {\"id\": 89364, \"id_comptag\": \"16-D10-40+170\", \"annee\": \"2018\", \"id_ign\": \"TRONROUT0000000041502803\", \"seq\": 79, \"distance\": 15.360751338126, \"polluant\": \"PM10\", \"unite\": \"tonne\", \"emi\": 0.00698238918274075}, {\"id\": 89365, \"id_comptag\": \"16-D10-40+170\", \"annee\": \"2018\", \"id_ign\": \"TRONROUT0000000041502803\", \"seq\": 79, \"distance\": 15.360751338126, \"polluant\": \"COVNM\", \"unite\": \"tonne\", \"emi\": 0.00881252006421064}, {\"id\": 89366, \"id_comptag\": \"16-D10-40+170\", \"annee\": \"2018\", \"id_ign\": \"TRONROUT0000000041502803\", \"seq\": 80, \"distance\": 15.360751338126, \"polluant\": \"COVNM\", \"unite\": \"tonne\", \"emi\": 0.00881252006421064}, {\"id\": 89367, \"id_comptag\": \"16-D10-40+170\", \"annee\": \"2018\", \"id_ign\": \"TRONROUT0000000041502803\", \"seq\": 80, \"distance\": 15.360751338126, \"polluant\": \"NOX\", \"unite\": \"tonne\", \"emi\": 0.0917390891079281}, {\"id\": 89368, \"id_comptag\": \"16-D10-40+170\", \"annee\": \"2018\", \"id_ign\": \"TRONROUT0000000041502803\", \"seq\": 80, \"distance\": 15.360751338126, \"polluant\": \"PM2_5\", \"unite\": \"tonne\", \"emi\": 0.00490201800828854}, {\"id\": 89369, \"id_comptag\": \"16-D10-40+170\", \"annee\": \"2018\", \"id_ign\": \"TRONROUT0000000041502803\", \"seq\": 80, \"distance\": 15.360751338126, \"polluant\": \"PM10\", \"unite\": \"tonne\", \"emi\": 0.00698238918274075}, {\"id\": 89370, \"id_comptag\": \"16-D10-40+170\", \"annee\": \"2018\", \"id_ign\": \"TRONROUT0000000041503418\", \"seq\": 81, \"distance\": 15.9430381192807, \"polluant\": \"bruit\", \"unite\": \"dB(A)\", \"emi\": 72.61}, {\"id\": 89371, \"id_comptag\": \"16-D10-40+170\", \"annee\": \"2018\", \"id_ign\": \"TRONROUT0000000041503418\", \"seq\": -1, \"distance\": 15.9430381192807, \"polluant\": \"PM10\", \"unite\": \"tonne\", \"emi\": 0.00698238918274075}, {\"id\": 89372, \"id_comptag\": \"16-D10-40+170\", \"annee\": \"2018\", \"id_ign\": \"TRONROUT0000000041503418\", \"seq\": -1, \"distance\": 15.9430381192807, \"polluant\": \"PM2_5\", \"unite\": \"tonne\", \"emi\": 0.00490201800828854}, {\"id\": 89373, \"id_comptag\": \"16-D10-40+170\", \"annee\": \"2018\", \"id_ign\": \"TRONROUT0000000041503418\", \"seq\": -1, \"distance\": 15.9430381192807, \"polluant\": \"NOX\", \"unite\": \"tonne\", \"emi\": 0.0917390891079281}, {\"id\": 89374, \"id_comptag\": \"16-D10-40+170\", \"annee\": \"2018\", \"id_ign\": \"TRONROUT0000000041503418\", \"seq\": -1, \"distance\": 15.9430381192807, \"polluant\": \"COVNM\", \"unite\": \"tonne\", \"emi\": 0.00881252006421064}, {\"id\": 89375, \"id_comptag\": \"16-D10-40+170\", \"annee\": \"2018\", \"id_ign\": \"TRONROUT0000000041503418\", \"seq\": 80, \"distance\": 15.9430381192807, \"polluant\": \"PM2_5\", \"unite\": \"tonne\", \"emi\": 0.00292389653753626}, {\"id\": 89376, \"id_comptag\": \"16-D10-40+170\", \"annee\": \"2018\", \"id_ign\": \"TRONROUT0000000041503418\", \"seq\": 80, \"distance\": 15.9430381192807, \"polluant\": \"PM10\", \"unite\": \"tonne\", \"emi\": 0.00416046261023133}, {\"id\": 89377, \"id_comptag\": \"16-D10-40+170\", \"annee\": \"2018\", \"id_ign\": \"TRONROUT0000000041503418\", \"seq\": 80, \"distance\": 15.9430381192807, \"polluant\": \"NOX\", \"unite\": \"tonne\", \"emi\": 0.0559127709875457}, {\"id\": 89378, \"id_comptag\": \"16-D10-40+170\", \"annee\": \"2018\", \"id_ign\": \"TRONROUT0000000041503418\", \"seq\": 80, \"distance\": 15.9430381192807, \"polluant\": \"COVNM\", \"unite\": \"tonne\", \"emi\": 0.00526268135470737}, {\"id\": 89379, \"id_comptag\": \"16-D10-40+170\", \"annee\": \"2018\", \"id_ign\": \"TRONROUT0000000041503418\", \"seq\": 81, \"distance\": 15.9430381192807, \"polluant\": \"COVNM\", \"unite\": \"tonne\", \"emi\": 0.00526268135470737}, {\"id\": 89380, \"id_comptag\": \"16-D10-40+170\", \"annee\": \"2018\", \"id_ign\": \"TRONROUT0000000041503418\", \"seq\": 81, \"distance\": 15.9430381192807, \"polluant\": \"NOX\", \"unite\": \"tonne\", \"emi\": 0.0559127709875457}, {\"id\": 89381, \"id_comptag\": \"16-D10-40+170\", \"annee\": \"2018\", \"id_ign\": \"TRONROUT0000000041503418\", \"seq\": 81, \"distance\": 15.9430381192807, \"polluant\": \"PM10\", \"unite\": \"tonne\", \"emi\": 0.00416046261023133}, {\"id\": 89382, \"id_comptag\": \"16-D10-40+170\", \"annee\": \"2018\", \"id_ign\": \"TRONROUT0000000041503418\", \"seq\": 81, \"distance\": 15.9430381192807, \"polluant\": \"PM2_5\", \"unite\": \"tonne\", \"emi\": 0.00292389653753626}, {\"id\": 89383, \"id_comptag\": \"16-D10-40+170\", \"annee\": \"2018\", \"id_ign\": \"TRONROUT0000000041503427\", \"seq\": -1, \"distance\": 16.2891475477312, \"polluant\": \"COVNM\", \"unite\": \"tonne\", \"emi\": 0.00526268135470737}, {\"id\": 89384, \"id_comptag\": \"16-D10-40+170\", \"annee\": \"2018\", \"id_ign\": \"TRONROUT0000000041503427\", \"seq\": -1, \"distance\": 16.2891475477312, \"polluant\": \"NOX\", \"unite\": \"tonne\", \"emi\": 0.0559127709875457}, {\"id\": 89385, \"id_comptag\": \"16-D10-40+170\", \"annee\": \"2018\", \"id_ign\": \"TRONROUT0000000041503427\", \"seq\": -1, \"distance\": 16.2891475477312, \"polluant\": \"PM10\", \"unite\": \"tonne\", \"emi\": 0.00416046261023133}, {\"id\": 89386, \"id_comptag\": \"16-D10-40+170\", \"annee\": \"2018\", \"id_ign\": \"TRONROUT0000000041503427\", \"seq\": -1, \"distance\": 16.2891475477312, \"polluant\": \"PM2_5\", \"unite\": \"tonne\", \"emi\": 0.00292389653753626}, {\"id\": 89387, \"id_comptag\": \"16-D10-40+170\", \"annee\": \"2018\", \"id_ign\": \"TRONROUT0000000041503427\", \"seq\": 81, \"distance\": 16.2891475477312, \"polluant\": \"PM10\", \"unite\": \"tonne\", \"emi\": 2.47207467620368e-05}, {\"id\": 89388, \"id_comptag\": \"16-D10-40+170\", \"annee\": \"2018\", \"id_ign\": \"TRONROUT0000000041503427\", \"seq\": 81, \"distance\": 16.2891475477312, \"polluant\": \"PM2_5\", \"unite\": \"tonne\", \"emi\": 1.73553124345151e-05}, {\"id\": 89389, \"id_comptag\": \"16-D10-40+170\", \"annee\": \"2018\", \"id_ign\": \"TRONROUT0000000041503427\", \"seq\": 81, \"distance\": 16.2891475477312, \"polluant\": \"COVNM\", \"unite\": \"tonne\", \"emi\": 3.1200219744441e-05}, {\"id\": 89390, \"id_comptag\": \"16-D10-40+170\", \"annee\": \"2018\", \"id_ign\": \"TRONROUT0000000041503427\", \"seq\": 81, \"distance\": 16.2891475477312, \"polluant\": \"NOX\", \"unite\": \"tonne\", \"emi\": 0.000324796961421566}, {\"id\": 89391, \"id_comptag\": \"16-D10-40+170\", \"annee\": \"2018\", \"id_ign\": \"TRONROUT0000000041503427\", \"seq\": 82, \"distance\": 16.2891475477312, \"polluant\": \"COVNM\", \"unite\": \"tonne\", \"emi\": 3.1200219744441e-05}, {\"id\": 89392, \"id_comptag\": \"16-D10-40+170\", \"annee\": \"2018\", \"id_ign\": \"TRONROUT0000000041503427\", \"seq\": 82, \"distance\": 16.2891475477312, \"polluant\": \"PM10\", \"unite\": \"tonne\", \"emi\": 2.47207467620368e-05}, {\"id\": 89393, \"id_comptag\": \"16-D10-40+170\", \"annee\": \"2018\", \"id_ign\": \"TRONROUT0000000041503427\", \"seq\": 82, \"distance\": 16.2891475477312, \"polluant\": \"NOX\", \"unite\": \"tonne\", \"emi\": 0.000324796961421566}, {\"id\": 89394, \"id_comptag\": \"16-D10-40+170\", \"annee\": \"2018\", \"id_ign\": \"TRONROUT0000000041503427\", \"seq\": 82, \"distance\": 16.2891475477312, \"polluant\": \"PM2_5\", \"unite\": \"tonne\", \"emi\": 1.73553124345151e-05}, {\"id\": 89395, \"id_comptag\": \"16-D10-40+170\", \"annee\": \"2018\", \"id_ign\": \"TRONROUT0000000041503425\", \"seq\": -1, \"distance\": 16.291209100544, \"polluant\": \"bruit\", \"unite\": \"dB(A)\", \"emi\": null}, {\"id\": 89396, \"id_comptag\": \"16-D10-40+170\", \"annee\": \"2018\", \"id_ign\": \"TRONROUT0000000041503425\", \"seq\": 82, \"distance\": 16.291209100544, \"polluant\": \"bruit\", \"unite\": \"dB(A)\", \"emi\": 72.61}, {\"id\": 89397, \"id_comptag\": \"16-D10-40+170\", \"annee\": \"2018\", \"id_ign\": \"TRONROUT0000000041503425\", \"seq\": -1, \"distance\": 16.291209100544, \"polluant\": \"COVNM\", \"unite\": \"tonne\", \"emi\": 3.1200219744441e-05}, {\"id\": 89398, \"id_comptag\": \"16-D10-40+170\", \"annee\": \"2018\", \"id_ign\": \"TRONROUT0000000041503425\", \"seq\": -1, \"distance\": 16.291209100544, \"polluant\": \"PM10\", \"unite\": \"tonne\", \"emi\": 2.47207467620368e-05}, {\"id\": 89399, \"id_comptag\": \"16-D10-40+170\", \"annee\": \"2018\", \"id_ign\": \"TRONROUT0000000041503425\", \"seq\": -1, \"distance\": 16.291209100544, \"polluant\": \"PM2_5\", \"unite\": \"tonne\", \"emi\": 1.73553124345151e-05}, {\"id\": 89400, \"id_comptag\": \"16-D10-40+170\", \"annee\": \"2018\", \"id_ign\": \"TRONROUT0000000041503425\", \"seq\": -1, \"distance\": 16.291209100544, \"polluant\": \"NOX\", \"unite\": \"tonne\", \"emi\": 0.000324796961421566}, {\"id\": 89401, \"id_comptag\": \"16-D10-40+170\", \"annee\": \"2018\", \"id_ign\": \"TRONROUT0000000041503425\", \"seq\": 82, \"distance\": 16.291209100544, \"polluant\": \"NOX\", \"unite\": \"tonne\", \"emi\": 0.00619501568011818}, {\"id\": 89402, \"id_comptag\": \"16-D10-40+170\", \"annee\": \"2018\", \"id_ign\": \"TRONROUT0000000041503425\", \"seq\": 82, \"distance\": 16.291209100544, \"polluant\": \"PM10\", \"unite\": \"tonne\", \"emi\": 0.000471511227028613}, {\"id\": 89403, \"id_comptag\": \"16-D10-40+170\", \"annee\": \"2018\", \"id_ign\": \"TRONROUT0000000041503425\", \"seq\": 82, \"distance\": 16.291209100544, \"polluant\": \"COVNM\", \"unite\": \"tonne\", \"emi\": 0.000595097471644973}, {\"id\": 89404, \"id_comptag\": \"16-D10-40+170\", \"annee\": \"2018\", \"id_ign\": \"TRONROUT0000000041503425\", \"seq\": 82, \"distance\": 16.291209100544, \"polluant\": \"PM2_5\", \"unite\": \"tonne\", \"emi\": 0.000331026596414556}, {\"id\": 89405, \"id_comptag\": \"16-D10-40+170\", \"annee\": \"2018\", \"id_ign\": \"TRONROUT0000000041503425\", \"seq\": 83, \"distance\": 16.291209100544, \"polluant\": \"PM10\", \"unite\": \"tonne\", \"emi\": 0.000471511227028613}, {\"id\": 89406, \"id_comptag\": \"16-D10-40+170\", \"annee\": \"2018\", \"id_ign\": \"TRONROUT0000000041503425\", \"seq\": 83, \"distance\": 16.291209100544, \"polluant\": \"NOX\", \"unite\": \"tonne\", \"emi\": 0.00619501568011818}, {\"id\": 89407, \"id_comptag\": \"16-D10-40+170\", \"annee\": \"2018\", \"id_ign\": \"TRONROUT0000000041503425\", \"seq\": 83, \"distance\": 16.291209100544, \"polluant\": \"PM2_5\", \"unite\": \"tonne\", \"emi\": 0.000331026596414556}, {\"id\": 89408, \"id_comptag\": \"16-D10-40+170\", \"annee\": \"2018\", \"id_ign\": \"TRONROUT0000000041503425\", \"seq\": 83, \"distance\": 16.291209100544, \"polluant\": \"COVNM\", \"unite\": \"tonne\", \"emi\": 0.000595097471644973}, {\"id\": 89409, \"id_comptag\": \"16-D10-40+170\", \"annee\": \"2018\", \"id_ign\": \"TRONROUT0000000041503424\", \"seq\": -1, \"distance\": 16.3305301334282, \"polluant\": \"PM2_5\", \"unite\": \"tonne\", \"emi\": 0.000331026596414556}, {\"id\": 89410, \"id_comptag\": \"16-D10-40+170\", \"annee\": \"2018\", \"id_ign\": \"TRONROUT0000000041503424\", \"seq\": -1, \"distance\": 16.3305301334282, \"polluant\": \"PM10\", \"unite\": \"tonne\", \"emi\": 0.000471511227028613}, {\"id\": 89411, \"id_comptag\": \"16-D10-40+170\", \"annee\": \"2018\", \"id_ign\": \"TRONROUT0000000041503424\", \"seq\": -1, \"distance\": 16.3305301334282, \"polluant\": \"COVNM\", \"unite\": \"tonne\", \"emi\": 0.000595097471644973}, {\"id\": 89412, \"id_comptag\": \"16-D10-40+170\", \"annee\": \"2018\", \"id_ign\": \"TRONROUT0000000041503424\", \"seq\": -1, \"distance\": 16.3305301334282, \"polluant\": \"NOX\", \"unite\": \"tonne\", \"emi\": 0.00619501568011818}, {\"id\": 89413, \"id_comptag\": \"16-D10-40+170\", \"annee\": \"2018\", \"id_ign\": \"TRONROUT0000000041503424\", \"seq\": 83, \"distance\": 16.3305301334282, \"polluant\": \"PM2_5\", \"unite\": \"tonne\", \"emi\": 0.000435822349053775}, {\"id\": 89414, \"id_comptag\": \"16-D10-40+170\", \"annee\": \"2018\", \"id_ign\": \"TRONROUT0000000041503424\", \"seq\": 83, \"distance\": 16.3305301334282, \"polluant\": \"PM10\", \"unite\": \"tonne\", \"emi\": 0.000620139107066107}, {\"id\": 89415, \"id_comptag\": \"16-D10-40+170\", \"annee\": \"2018\", \"id_ign\": \"TRONROUT0000000041503424\", \"seq\": 83, \"distance\": 16.3305301334282, \"polluant\": \"COVNM\", \"unite\": \"tonne\", \"emi\": 0.000784430680390182}, {\"id\": 89416, \"id_comptag\": \"16-D10-40+170\", \"annee\": \"2018\", \"id_ign\": \"TRONROUT0000000041503424\", \"seq\": 83, \"distance\": 16.3305301334282, \"polluant\": \"NOX\", \"unite\": \"tonne\", \"emi\": 0.00833409625856013}, {\"id\": 89417, \"id_comptag\": \"16-D10-40+170\", \"annee\": \"2018\", \"id_ign\": \"TRONROUT0000000041503424\", \"seq\": 84, \"distance\": 16.3305301334282, \"polluant\": \"COVNM\", \"unite\": \"tonne\", \"emi\": 0.000784430680390182}, {\"id\": 89418, \"id_comptag\": \"16-D10-40+170\", \"annee\": \"2018\", \"id_ign\": \"TRONROUT0000000041503424\", \"seq\": 84, \"distance\": 16.3305301334282, \"polluant\": \"PM2_5\", \"unite\": \"tonne\", \"emi\": 0.000435822349053775}, {\"id\": 89419, \"id_comptag\": \"16-D10-40+170\", \"annee\": \"2018\", \"id_ign\": \"TRONROUT0000000041503424\", \"seq\": 84, \"distance\": 16.3305301334282, \"polluant\": \"PM10\", \"unite\": \"tonne\", \"emi\": 0.000620139107066107}, {\"id\": 89420, \"id_comptag\": \"16-D10-40+170\", \"annee\": \"2018\", \"id_ign\": \"TRONROUT0000000041503424\", \"seq\": 84, \"distance\": 16.3305301334282, \"polluant\": \"NOX\", \"unite\": \"tonne\", \"emi\": 0.00833409625856013}, {\"id\": 89421, \"id_comptag\": \"16-D10-40+170\", \"annee\": \"2018\", \"id_ign\": \"TRONROUT0000000041503426\", \"seq\": -1, \"distance\": 16.382119586817, \"polluant\": \"COVNM\", \"unite\": \"tonne\", \"emi\": 0.000784430680390182}, {\"id\": 89422, \"id_comptag\": \"16-D10-40+170\", \"annee\": \"2018\", \"id_ign\": \"TRONROUT0000000041503426\", \"seq\": -1, \"distance\": 16.382119586817, \"polluant\": \"NOX\", \"unite\": \"tonne\", \"emi\": 0.00833409625856013}, {\"id\": 89423, \"id_comptag\": \"16-D10-40+170\", \"annee\": \"2018\", \"id_ign\": \"TRONROUT0000000041503426\", \"seq\": -1, \"distance\": 16.382119586817, \"polluant\": \"PM10\", \"unite\": \"tonne\", \"emi\": 0.000620139107066107}, {\"id\": 89424, \"id_comptag\": \"16-D10-40+170\", \"annee\": \"2018\", \"id_ign\": \"TRONROUT0000000041503426\", \"seq\": -1, \"distance\": 16.382119586817, \"polluant\": \"PM2_5\", \"unite\": \"tonne\", \"emi\": 0.000435822349053775}, {\"id\": 89425, \"id_comptag\": \"16-D10-40+170\", \"annee\": \"2018\", \"id_ign\": \"TRONROUT0000000041503426\", \"seq\": 84, \"distance\": 16.382119586817, \"polluant\": \"PM10\", \"unite\": \"tonne\", \"emi\": 0.00111180000519693}, {\"id\": 89426, \"id_comptag\": \"16-D10-40+170\", \"annee\": \"2018\", \"id_ign\": \"TRONROUT0000000041503426\", \"seq\": 84, \"distance\": 16.382119586817, \"polluant\": \"NOX\", \"unite\": \"tonne\", \"emi\": 0.0149415641716515}, {\"id\": 89427, \"id_comptag\": \"16-D10-40+170\", \"annee\": \"2018\", \"id_ign\": \"TRONROUT0000000041503426\", \"seq\": 84, \"distance\": 16.382119586817, \"polluant\": \"PM2_5\", \"unite\": \"tonne\", \"emi\": 0.000781352577868104}, {\"id\": 89428, \"id_comptag\": \"16-D10-40+170\", \"annee\": \"2018\", \"id_ign\": \"TRONROUT0000000041503426\", \"seq\": 84, \"distance\": 16.382119586817, \"polluant\": \"COVNM\", \"unite\": \"tonne\", \"emi\": 0.00140634580950798}, {\"id\": 89429, \"id_comptag\": \"16-D10-40+170\", \"annee\": \"2018\", \"id_ign\": \"TRONROUT0000000041503426\", \"seq\": 85, \"distance\": 16.382119586817, \"polluant\": \"COVNM\", \"unite\": \"tonne\", \"emi\": 0.00140634580950798}, {\"id\": 89430, \"id_comptag\": \"16-D10-40+170\", \"annee\": \"2018\", \"id_ign\": \"TRONROUT0000000041503426\", \"seq\": 85, \"distance\": 16.382119586817, \"polluant\": \"PM2_5\", \"unite\": \"tonne\", \"emi\": 0.000781352577868104}, {\"id\": 89431, \"id_comptag\": \"16-D10-40+170\", \"annee\": \"2018\", \"id_ign\": \"TRONROUT0000000041503426\", \"seq\": 85, \"distance\": 16.382119586817, \"polluant\": \"PM10\", \"unite\": \"tonne\", \"emi\": 0.00111180000519693}, {\"id\": 89432, \"id_comptag\": \"16-D10-40+170\", \"annee\": \"2018\", \"id_ign\": \"TRONROUT0000000041503426\", \"seq\": 85, \"distance\": 16.382119586817, \"polluant\": \"NOX\", \"unite\": \"tonne\", \"emi\": 0.0149415641716515}, {\"id\": 89433, \"id_comptag\": \"16-D10-40+170\", \"annee\": \"2018\", \"id_ign\": \"TRONROUT0000000041503428\", \"seq\": -1, \"distance\": 16.4746103745972, \"polluant\": \"COVNM\", \"unite\": \"tonne\", \"emi\": 0.00140634580950798}, {\"id\": 89434, \"id_comptag\": \"16-D10-40+170\", \"annee\": \"2018\", \"id_ign\": \"TRONROUT0000000041503428\", \"seq\": -1, \"distance\": 16.4746103745972, \"polluant\": \"NOX\", \"unite\": \"tonne\", \"emi\": 0.0149415641716515}, {\"id\": 89435, \"id_comptag\": \"16-D10-40+170\", \"annee\": \"2018\", \"id_ign\": \"TRONROUT0000000041503428\", \"seq\": -1, \"distance\": 16.4746103745972, \"polluant\": \"PM2_5\", \"unite\": \"tonne\", \"emi\": 0.000781352577868104}, {\"id\": 89436, \"id_comptag\": \"16-D10-40+170\", \"annee\": \"2018\", \"id_ign\": \"TRONROUT0000000041503428\", \"seq\": -1, \"distance\": 16.4746103745972, \"polluant\": \"PM10\", \"unite\": \"tonne\", \"emi\": 0.00111180000519693}, {\"id\": 89437, \"id_comptag\": \"16-D10-40+170\", \"annee\": \"2018\", \"id_ign\": \"TRONROUT0000000041503428\", \"seq\": 85, \"distance\": 16.4746103745972, \"polluant\": \"PM2_5\", \"unite\": \"tonne\", \"emi\": 0.000281772484042902}, {\"id\": 89438, \"id_comptag\": \"16-D10-40+170\", \"annee\": \"2018\", \"id_ign\": \"TRONROUT0000000041503428\", \"seq\": 85, \"distance\": 16.4746103745972, \"polluant\": \"COVNM\", \"unite\": \"tonne\", \"emi\": 0.000507158437039522}, {\"id\": 89439, \"id_comptag\": \"16-D10-40+170\", \"annee\": \"2018\", \"id_ign\": \"TRONROUT0000000041503428\", \"seq\": 85, \"distance\": 16.4746103745972, \"polluant\": \"NOX\", \"unite\": \"tonne\", \"emi\": 0.00538824823950779}, {\"id\": 89440, \"id_comptag\": \"16-D10-40+170\", \"annee\": \"2018\", \"id_ign\": \"TRONROUT0000000041503428\", \"seq\": 85, \"distance\": 16.4746103745972, \"polluant\": \"PM10\", \"unite\": \"tonne\", \"emi\": 0.000400938907858999}, {\"id\": 89441, \"id_comptag\": \"16-D10-40+170\", \"annee\": \"2018\", \"id_ign\": \"TRONROUT0000000041503428\", \"seq\": 86, \"distance\": 16.4746103745972, \"polluant\": \"NOX\", \"unite\": \"tonne\", \"emi\": 0.00538824823950779}, {\"id\": 89442, \"id_comptag\": \"16-D10-40+170\", \"annee\": \"2018\", \"id_ign\": \"TRONROUT0000000041503428\", \"seq\": 86, \"distance\": 16.4746103745972, \"polluant\": \"COVNM\", \"unite\": \"tonne\", \"emi\": 0.000507158437039522}, {\"id\": 89443, \"id_comptag\": \"16-D10-40+170\", \"annee\": \"2018\", \"id_ign\": \"TRONROUT0000000041503428\", \"seq\": 86, \"distance\": 16.4746103745972, \"polluant\": \"PM10\", \"unite\": \"tonne\", \"emi\": 0.000400938907858999}, {\"id\": 89444, \"id_comptag\": \"16-D10-40+170\", \"annee\": \"2018\", \"id_ign\": \"TRONROUT0000000041503428\", \"seq\": 86, \"distance\": 16.4746103745972, \"polluant\": \"PM2_5\", \"unite\": \"tonne\", \"emi\": 0.000281772484042902}, {\"id\": 89445, \"id_comptag\": \"16-D10-40+170\", \"annee\": \"2018\", \"id_ign\": \"TRONROUT0000000041503420\", \"seq\": -1, \"distance\": 16.5079645347575, \"polluant\": \"PM2_5\", \"unite\": \"tonne\", \"emi\": 0.000281772484042902}, {\"id\": 89446, \"id_comptag\": \"16-D10-40+170\", \"annee\": \"2018\", \"id_ign\": \"TRONROUT0000000041503420\", \"seq\": -1, \"distance\": 16.5079645347575, \"polluant\": \"NOX\", \"unite\": \"tonne\", \"emi\": 0.00538824823950779}, {\"id\": 89447, \"id_comptag\": \"16-D10-40+170\", \"annee\": \"2018\", \"id_ign\": \"TRONROUT0000000041503420\", \"seq\": -1, \"distance\": 16.5079645347575, \"polluant\": \"COVNM\", \"unite\": \"tonne\", \"emi\": 0.000507158437039522}, {\"id\": 89448, \"id_comptag\": \"16-D10-40+170\", \"annee\": \"2018\", \"id_ign\": \"TRONROUT0000000041503420\", \"seq\": -1, \"distance\": 16.5079645347575, \"polluant\": \"PM10\", \"unite\": \"tonne\", \"emi\": 0.000400938907858999}, {\"id\": 89449, \"id_comptag\": \"16-D10-40+170\", \"annee\": \"2018\", \"id_ign\": \"TRONROUT0000000041503420\", \"seq\": 86, \"distance\": 16.5079645347575, \"polluant\": \"COVNM\", \"unite\": \"tonne\", \"emi\": 0.00246545631787156}, {\"id\": 89450, \"id_comptag\": \"16-D10-40+170\", \"annee\": \"2018\", \"id_ign\": \"TRONROUT0000000041503420\", \"seq\": 86, \"distance\": 16.5079645347575, \"polluant\": \"PM10\", \"unite\": \"tonne\", \"emi\": 0.00195344525731507}, {\"id\": 89451, \"id_comptag\": \"16-D10-40+170\", \"annee\": \"2018\", \"id_ign\": \"TRONROUT0000000041503420\", \"seq\": 86, \"distance\": 16.5079645347575, \"polluant\": \"PM2_5\", \"unite\": \"tonne\", \"emi\": 0.00137142510664316}, {\"id\": 89452, \"id_comptag\": \"16-D10-40+170\", \"annee\": \"2018\", \"id_ign\": \"TRONROUT0000000041503420\", \"seq\": 86, \"distance\": 16.5079645347575, \"polluant\": \"NOX\", \"unite\": \"tonne\", \"emi\": 0.0256656115604751}, {\"id\": 89453, \"id_comptag\": \"16-D10-40+170\", \"annee\": \"2018\", \"id_ign\": \"TRONROUT0000000041503420\", \"seq\": 87, \"distance\": 16.5079645347575, \"polluant\": \"PM2_5\", \"unite\": \"tonne\", \"emi\": 0.00137142510664316}, {\"id\": 89454, \"id_comptag\": \"16-D10-40+170\", \"annee\": \"2018\", \"id_ign\": \"TRONROUT0000000041503420\", \"seq\": 87, \"distance\": 16.5079645347575, \"polluant\": \"NOX\", \"unite\": \"tonne\", \"emi\": 0.0256656115604751}, {\"id\": 89455, \"id_comptag\": \"16-D10-40+170\", \"annee\": \"2018\", \"id_ign\": \"TRONROUT0000000041503420\", \"seq\": 87, \"distance\": 16.5079645347575, \"polluant\": \"COVNM\", \"unite\": \"tonne\", \"emi\": 0.00246545631787156}, {\"id\": 89456, \"id_comptag\": \"16-D10-40+170\", \"annee\": \"2018\", \"id_ign\": \"TRONROUT0000000041503420\", \"seq\": 87, \"distance\": 16.5079645347575, \"polluant\": \"PM10\", \"unite\": \"tonne\", \"emi\": 0.00195344525731507}, {\"id\": 89457, \"id_comptag\": \"16-D10-40+170\", \"annee\": \"2018\", \"id_ign\": \"TRONROUT0000000041503423\", \"seq\": 88, \"distance\": 16.6708694260883, \"polluant\": \"bruit\", \"unite\": \"dB(A)\", \"emi\": 72.61}, {\"id\": 89458, \"id_comptag\": \"16-D10-40+170\", \"annee\": \"2018\", \"id_ign\": \"TRONROUT0000000041503423\", \"seq\": -1, \"distance\": 16.6708694260883, \"polluant\": \"PM2_5\", \"unite\": \"tonne\", \"emi\": 0.00137142510664316}, {\"id\": 89459, \"id_comptag\": \"16-D10-40+170\", \"annee\": \"2018\", \"id_ign\": \"TRONROUT0000000041503423\", \"seq\": -1, \"distance\": 16.6708694260883, \"polluant\": \"PM10\", \"unite\": \"tonne\", \"emi\": 0.00195344525731507}, {\"id\": 89460, \"id_comptag\": \"16-D10-40+170\", \"annee\": \"2018\", \"id_ign\": \"TRONROUT0000000041503423\", \"seq\": -1, \"distance\": 16.6708694260883, \"polluant\": \"NOX\", \"unite\": \"tonne\", \"emi\": 0.0256656115604751}, {\"id\": 89461, \"id_comptag\": \"16-D10-40+170\", \"annee\": \"2018\", \"id_ign\": \"TRONROUT0000000041503423\", \"seq\": -1, \"distance\": 16.6708694260883, \"polluant\": \"COVNM\", \"unite\": \"tonne\", \"emi\": 0.00246545631787156}, {\"id\": 89462, \"id_comptag\": \"16-D10-40+170\", \"annee\": \"2018\", \"id_ign\": \"TRONROUT0000000041503423\", \"seq\": 87, \"distance\": 16.6708694260883, \"polluant\": \"NOX\", \"unite\": \"tonne\", \"emi\": 0.00184036212578413}, {\"id\": 89463, \"id_comptag\": \"16-D10-40+170\", \"annee\": \"2018\", \"id_ign\": \"TRONROUT0000000041503423\", \"seq\": 87, \"distance\": 16.6708694260883, \"polluant\": \"COVNM\", \"unite\": \"tonne\", \"emi\": 0.000179001225082697}, {\"id\": 89464, \"id_comptag\": \"16-D10-40+170\", \"annee\": \"2018\", \"id_ign\": \"TRONROUT0000000041503423\", \"seq\": 87, \"distance\": 16.6708694260883, \"polluant\": \"PM2_5\", \"unite\": \"tonne\", \"emi\": 9.94408339613867e-05}, {\"id\": 89465, \"id_comptag\": \"16-D10-40+170\", \"annee\": \"2018\", \"id_ign\": \"TRONROUT0000000041503423\", \"seq\": 87, \"distance\": 16.6708694260883, \"polluant\": \"PM10\", \"unite\": \"tonne\", \"emi\": 0.000141709775993728}, {\"id\": 89466, \"id_comptag\": \"16-D10-40+170\", \"annee\": \"2018\", \"id_ign\": \"TRONROUT0000000041503423\", \"seq\": 88, \"distance\": 16.6708694260883, \"polluant\": \"PM2_5\", \"unite\": \"tonne\", \"emi\": 9.94408339613867e-05}, {\"id\": 89467, \"id_comptag\": \"16-D10-40+170\", \"annee\": \"2018\", \"id_ign\": \"TRONROUT0000000041503423\", \"seq\": 88, \"distance\": 16.6708694260883, \"polluant\": \"NOX\", \"unite\": \"tonne\", \"emi\": 0.00184036212578413}, {\"id\": 89468, \"id_comptag\": \"16-D10-40+170\", \"annee\": \"2018\", \"id_ign\": \"TRONROUT0000000041503423\", \"seq\": 88, \"distance\": 16.6708694260883, \"polluant\": \"PM10\", \"unite\": \"tonne\", \"emi\": 0.000141709775993728}, {\"id\": 89469, \"id_comptag\": \"16-D10-40+170\", \"annee\": \"2018\", \"id_ign\": \"TRONROUT0000000041503423\", \"seq\": 88, \"distance\": 16.6708694260883, \"polluant\": \"COVNM\", \"unite\": \"tonne\", \"emi\": 0.000179001225082697}, {\"id\": 89470, \"id_comptag\": \"16-D10-40+170\", \"annee\": \"2018\", \"id_ign\": \"TRONROUT0000000041503422\", \"seq\": -1, \"distance\": 16.6827003178546, \"polluant\": \"COVNM\", \"unite\": \"tonne\", \"emi\": 0.000179001225082697}, {\"id\": 89471, \"id_comptag\": \"16-D10-40+170\", \"annee\": \"2018\", \"id_ign\": \"TRONROUT0000000041503422\", \"seq\": -1, \"distance\": 16.6827003178546, \"polluant\": \"PM2_5\", \"unite\": \"tonne\", \"emi\": 9.94408339613867e-05}, {\"id\": 89472, \"id_comptag\": \"16-D10-40+170\", \"annee\": \"2018\", \"id_ign\": \"TRONROUT0000000041503422\", \"seq\": -1, \"distance\": 16.6827003178546, \"polluant\": \"PM10\", \"unite\": \"tonne\", \"emi\": 0.000141709775993728}, {\"id\": 89473, \"id_comptag\": \"16-D10-40+170\", \"annee\": \"2018\", \"id_ign\": \"TRONROUT0000000041503422\", \"seq\": -1, \"distance\": 16.6827003178546, \"polluant\": \"NOX\", \"unite\": \"tonne\", \"emi\": 0.00184036212578413}, {\"id\": 89474, \"id_comptag\": \"16-D10-40+170\", \"annee\": \"2018\", \"id_ign\": \"TRONROUT0000000041503422\", \"seq\": 88, \"distance\": 16.6827003178546, \"polluant\": \"COVNM\", \"unite\": \"tonne\", \"emi\": 0.00010649188711927}, {\"id\": 89475, \"id_comptag\": \"16-D10-40+170\", \"annee\": \"2018\", \"id_ign\": \"TRONROUT0000000041503422\", \"seq\": 88, \"distance\": 16.6827003178546, \"polluant\": \"NOX\", \"unite\": \"tonne\", \"emi\": 0.00109487315333758}, {\"id\": 89476, \"id_comptag\": \"16-D10-40+170\", \"annee\": \"2018\", \"id_ign\": \"TRONROUT0000000041503422\", \"seq\": 88, \"distance\": 16.6827003178546, \"polluant\": \"PM2_5\", \"unite\": \"tonne\", \"emi\": 5.91596066472156e-05}, {\"id\": 89477, \"id_comptag\": \"16-D10-40+170\", \"annee\": \"2018\", \"id_ign\": \"TRONROUT0000000041503422\", \"seq\": 88, \"distance\": 16.6827003178546, \"polluant\": \"PM10\", \"unite\": \"tonne\", \"emi\": 8.43063585841342e-05}, {\"id\": 89478, \"id_comptag\": \"16-D10-40+170\", \"annee\": \"2018\", \"id_ign\": \"TRONROUT0000000041503422\", \"seq\": 89, \"distance\": 16.6827003178546, \"polluant\": \"PM10\", \"unite\": \"tonne\", \"emi\": 8.43063585841342e-05}, {\"id\": 89479, \"id_comptag\": \"16-D10-40+170\", \"annee\": \"2018\", \"id_ign\": \"TRONROUT0000000041503422\", \"seq\": 89, \"distance\": 16.6827003178546, \"polluant\": \"NOX\", \"unite\": \"tonne\", \"emi\": 0.00109487315333758}, {\"id\": 89480, \"id_comptag\": \"16-D10-40+170\", \"annee\": \"2018\", \"id_ign\": \"TRONROUT0000000041503422\", \"seq\": 89, \"distance\": 16.6827003178546, \"polluant\": \"COVNM\", \"unite\": \"tonne\", \"emi\": 0.00010649188711927}, {\"id\": 89481, \"id_comptag\": \"16-D10-40+170\", \"annee\": \"2018\", \"id_ign\": \"TRONROUT0000000041503422\", \"seq\": 89, \"distance\": 16.6827003178546, \"polluant\": \"PM2_5\", \"unite\": \"tonne\", \"emi\": 5.91596066472156e-05}, {\"id\": 89482, \"id_comptag\": \"16-D10-40+170\", \"annee\": \"2018\", \"id_ign\": \"TRONROUT0000000041503419\", \"seq\": -1, \"distance\": 16.6897387835966, \"polluant\": \"bruit\", \"unite\": \"dB(A)\", \"emi\": null}, {\"id\": 89483, \"id_comptag\": \"16-D10-40+170\", \"annee\": \"2018\", \"id_ign\": \"TRONROUT0000000041503419\", \"seq\": 89, \"distance\": 16.6897387835966, \"polluant\": \"bruit\", \"unite\": \"dB(A)\", \"emi\": 72.61}, {\"id\": 89484, \"id_comptag\": \"16-D10-40+170\", \"annee\": \"2018\", \"id_ign\": \"TRONROUT0000000041503419\", \"seq\": -1, \"distance\": 16.6897387835966, \"polluant\": \"PM2_5\", \"unite\": \"tonne\", \"emi\": 5.91596066472156e-05}, {\"id\": 89485, \"id_comptag\": \"16-D10-40+170\", \"annee\": \"2018\", \"id_ign\": \"TRONROUT0000000041503419\", \"seq\": -1, \"distance\": 16.6897387835966, \"polluant\": \"COVNM\", \"unite\": \"tonne\", \"emi\": 0.00010649188711927}, {\"id\": 89486, \"id_comptag\": \"16-D10-40+170\", \"annee\": \"2018\", \"id_ign\": \"TRONROUT0000000041503419\", \"seq\": -1, \"distance\": 16.6897387835966, \"polluant\": \"PM10\", \"unite\": \"tonne\", \"emi\": 8.43063585841342e-05}, {\"id\": 89487, \"id_comptag\": \"16-D10-40+170\", \"annee\": \"2018\", \"id_ign\": \"TRONROUT0000000041503419\", \"seq\": -1, \"distance\": 16.6897387835966, \"polluant\": \"NOX\", \"unite\": \"tonne\", \"emi\": 0.00109487315333758}, {\"id\": 89488, \"id_comptag\": \"16-D10-40+170\", \"annee\": \"2018\", \"id_ign\": \"TRONROUT0000000041503419\", \"seq\": 89, \"distance\": 16.6897387835966, \"polluant\": \"PM2_5\", \"unite\": \"tonne\", \"emi\": 0.000362115367231224}, {\"id\": 89489, \"id_comptag\": \"16-D10-40+170\", \"annee\": \"2018\", \"id_ign\": \"TRONROUT0000000041503419\", \"seq\": 89, \"distance\": 16.6897387835966, \"polluant\": \"COVNM\", \"unite\": \"tonne\", \"emi\": 0.000651835787910119}, {\"id\": 89490, \"id_comptag\": \"16-D10-40+170\", \"annee\": \"2018\", \"id_ign\": \"TRONROUT0000000041503419\", \"seq\": 89, \"distance\": 16.6897387835966, \"polluant\": \"NOX\", \"unite\": \"tonne\", \"emi\": 0.00670170774387846}, {\"id\": 89491, \"id_comptag\": \"16-D10-40+170\", \"annee\": \"2018\", \"id_ign\": \"TRONROUT0000000041503419\", \"seq\": 89, \"distance\": 16.6897387835966, \"polluant\": \"PM10\", \"unite\": \"tonne\", \"emi\": 0.000516038387149382}, {\"id\": 89492, \"id_comptag\": \"16-D10-40+170\", \"annee\": \"2018\", \"id_ign\": \"TRONROUT0000000041503419\", \"seq\": 90, \"distance\": 16.6897387835966, \"polluant\": \"NOX\", \"unite\": \"tonne\", \"emi\": 0.00670170774387846}, {\"id\": 89493, \"id_comptag\": \"16-D10-40+170\", \"annee\": \"2018\", \"id_ign\": \"TRONROUT0000000041503419\", \"seq\": 90, \"distance\": 16.6897387835966, \"polluant\": \"PM10\", \"unite\": \"tonne\", \"emi\": 0.000516038387149382}, {\"id\": 89494, \"id_comptag\": \"16-D10-40+170\", \"annee\": \"2018\", \"id_ign\": \"TRONROUT0000000041503419\", \"seq\": 90, \"distance\": 16.6897387835966, \"polluant\": \"PM2_5\", \"unite\": \"tonne\", \"emi\": 0.000362115367231224}, {\"id\": 89495, \"id_comptag\": \"16-D10-40+170\", \"annee\": \"2018\", \"id_ign\": \"TRONROUT0000000041503419\", \"seq\": 90, \"distance\": 16.6897387835966, \"polluant\": \"COVNM\", \"unite\": \"tonne\", \"emi\": 0.000651835787910119}, {\"id\": 89496, \"id_comptag\": \"16-D10-40+170\", \"annee\": \"2018\", \"id_ign\": \"TRONROUT0000000041503421\", \"seq\": -1, \"distance\": 16.7328211627962, \"polluant\": \"NOX\", \"unite\": \"tonne\", \"emi\": 0.00670170774387846}, {\"id\": 89497, \"id_comptag\": \"16-D10-40+170\", \"annee\": \"2018\", \"id_ign\": \"TRONROUT0000000041503421\", \"seq\": -1, \"distance\": 16.7328211627962, \"polluant\": \"COVNM\", \"unite\": \"tonne\", \"emi\": 0.000651835787910119}, {\"id\": 89498, \"id_comptag\": \"16-D10-40+170\", \"annee\": \"2018\", \"id_ign\": \"TRONROUT0000000041503421\", \"seq\": -1, \"distance\": 16.7328211627962, \"polluant\": \"PM10\", \"unite\": \"tonne\", \"emi\": 0.000516038387149382}, {\"id\": 89499, \"id_comptag\": \"16-D10-40+170\", \"annee\": \"2018\", \"id_ign\": \"TRONROUT0000000041503421\", \"seq\": -1, \"distance\": 16.7328211627962, \"polluant\": \"PM2_5\", \"unite\": \"tonne\", \"emi\": 0.000362115367231224}, {\"id\": 89500, \"id_comptag\": \"16-D10-40+170\", \"annee\": \"2018\", \"id_ign\": \"TRONROUT0000000041503421\", \"seq\": 90, \"distance\": 16.7328211627962, \"polluant\": \"NOX\", \"unite\": \"tonne\", \"emi\": 0.00790084489015421}, {\"id\": 89501, \"id_comptag\": \"16-D10-40+170\", \"annee\": \"2018\", \"id_ign\": \"TRONROUT0000000041503421\", \"seq\": 90, \"distance\": 16.7328211627962, \"polluant\": \"COVNM\", \"unite\": \"tonne\", \"emi\": 0.000758960600064243}, {\"id\": 89502, \"id_comptag\": \"16-D10-40+170\", \"annee\": \"2018\", \"id_ign\": \"TRONROUT0000000041503421\", \"seq\": 90, \"distance\": 16.7328211627962, \"polluant\": \"PM10\", \"unite\": \"tonne\", \"emi\": 0.000601344251746639}, {\"id\": 89503, \"id_comptag\": \"16-D10-40+170\", \"annee\": \"2018\", \"id_ign\": \"TRONROUT0000000041503421\", \"seq\": 90, \"distance\": 16.7328211627962, \"polluant\": \"PM2_5\", \"unite\": \"tonne\", \"emi\": 0.00042217646053435}, {\"id\": 89504, \"id_comptag\": \"16-D10-40+170\", \"annee\": \"2018\", \"id_ign\": \"TRONROUT0000000041503421\", \"seq\": 91, \"distance\": 16.7328211627962, \"polluant\": \"PM2_5\", \"unite\": \"tonne\", \"emi\": 0.00042217646053435}, {\"id\": 89505, \"id_comptag\": \"16-D10-40+170\", \"annee\": \"2018\", \"id_ign\": \"TRONROUT0000000041503421\", \"seq\": 91, \"distance\": 16.7328211627962, \"polluant\": \"COVNM\", \"unite\": \"tonne\", \"emi\": 0.000758960600064243}, {\"id\": 89506, \"id_comptag\": \"16-D10-40+170\", \"annee\": \"2018\", \"id_ign\": \"TRONROUT0000000041503421\", \"seq\": 91, \"distance\": 16.7328211627962, \"polluant\": \"NOX\", \"unite\": \"tonne\", \"emi\": 0.00790084489015421}, {\"id\": 89507, \"id_comptag\": \"16-D10-40+170\", \"annee\": \"2018\", \"id_ign\": \"TRONROUT0000000041503421\", \"seq\": 91, \"distance\": 16.7328211627962, \"polluant\": \"PM10\", \"unite\": \"tonne\", \"emi\": 0.000601344251746639}, {\"id\": 89508, \"id_comptag\": \"16-D10-40+170\", \"annee\": \"2018\", \"id_ign\": \"TRONROUT0000000041504024\", \"seq\": -1, \"distance\": 16.7829694429266, \"polluant\": \"NOX\", \"unite\": \"tonne\", \"emi\": 0.00790084489015421}, {\"id\": 89509, \"id_comptag\": \"16-D10-40+170\", \"annee\": \"2018\", \"id_ign\": \"TRONROUT0000000041504024\", \"seq\": -1, \"distance\": 16.7829694429266, \"polluant\": \"COVNM\", \"unite\": \"tonne\", \"emi\": 0.000758960600064243}, {\"id\": 89510, \"id_comptag\": \"16-D10-40+170\", \"annee\": \"2018\", \"id_ign\": \"TRONROUT0000000041504024\", \"seq\": -1, \"distance\": 16.7829694429266, \"polluant\": \"PM10\", \"unite\": \"tonne\", \"emi\": 0.000601344251746639}, {\"id\": 89511, \"id_comptag\": \"16-D10-40+170\", \"annee\": \"2018\", \"id_ign\": \"TRONROUT0000000041504024\", \"seq\": -1, \"distance\": 16.7829694429266, \"polluant\": \"PM2_5\", \"unite\": \"tonne\", \"emi\": 0.00042217646053435}, {\"id\": 89512, \"id_comptag\": \"16-D10-40+170\", \"annee\": \"2018\", \"id_ign\": \"TRONROUT0000000041504024\", \"seq\": 91, \"distance\": 16.7829694429266, \"polluant\": \"PM10\", \"unite\": \"tonne\", \"emi\": 0.00824369985608487}, {\"id\": 89513, \"id_comptag\": \"16-D10-40+170\", \"annee\": \"2018\", \"id_ign\": \"TRONROUT0000000041504024\", \"seq\": 91, \"distance\": 16.7829694429266, \"polluant\": \"NOX\", \"unite\": \"tonne\", \"emi\": 0.110787704475418}, {\"id\": 89514, \"id_comptag\": \"16-D10-40+170\", \"annee\": \"2018\", \"id_ign\": \"TRONROUT0000000041504024\", \"seq\": 91, \"distance\": 16.7829694429266, \"polluant\": \"PM2_5\", \"unite\": \"tonne\", \"emi\": 0.00579352051053633}, {\"id\": 89515, \"id_comptag\": \"16-D10-40+170\", \"annee\": \"2018\", \"id_ign\": \"TRONROUT0000000041504024\", \"seq\": 91, \"distance\": 16.7829694429266, \"polluant\": \"COVNM\", \"unite\": \"tonne\", \"emi\": 0.0104276782634058}, {\"id\": 89516, \"id_comptag\": \"16-D10-40+170\", \"annee\": \"2018\", \"id_ign\": \"TRONROUT0000000041504024\", \"seq\": 92, \"distance\": 16.7829694429266, \"polluant\": \"COVNM\", \"unite\": \"tonne\", \"emi\": 0.0104276782634058}, {\"id\": 89517, \"id_comptag\": \"16-D10-40+170\", \"annee\": \"2018\", \"id_ign\": \"TRONROUT0000000041504024\", \"seq\": 92, \"distance\": 16.7829694429266, \"polluant\": \"PM10\", \"unite\": \"tonne\", \"emi\": 0.00824369985608487}, {\"id\": 89518, \"id_comptag\": \"16-D10-40+170\", \"annee\": \"2018\", \"id_ign\": \"TRONROUT0000000041504024\", \"seq\": 92, \"distance\": 16.7829694429266, \"polluant\": \"NOX\", \"unite\": \"tonne\", \"emi\": 0.110787704475418}, {\"id\": 89519, \"id_comptag\": \"16-D10-40+170\", \"annee\": \"2018\", \"id_ign\": \"TRONROUT0000000041504024\", \"seq\": 92, \"distance\": 16.7829694429266, \"polluant\": \"PM2_5\", \"unite\": \"tonne\", \"emi\": 0.00579352051053633}, {\"id\": 89520, \"id_comptag\": \"16-D10-40+170\", \"annee\": \"2018\", \"id_ign\": \"TRONROUT0000000041504028\", \"seq\": -1, \"distance\": 17.4687639116692, \"polluant\": \"NOX\", \"unite\": \"tonne\", \"emi\": 0.110787704475418}, {\"id\": 89521, \"id_comptag\": \"16-D10-40+170\", \"annee\": \"2018\", \"id_ign\": \"TRONROUT0000000041504028\", \"seq\": -1, \"distance\": 17.4687639116692, \"polluant\": \"PM10\", \"unite\": \"tonne\", \"emi\": 0.00824369985608487}, {\"id\": 89522, \"id_comptag\": \"16-D10-40+170\", \"annee\": \"2018\", \"id_ign\": \"TRONROUT0000000041504028\", \"seq\": -1, \"distance\": 17.4687639116692, \"polluant\": \"PM2_5\", \"unite\": \"tonne\", \"emi\": 0.00579352051053633}, {\"id\": 89523, \"id_comptag\": \"16-D10-40+170\", \"annee\": \"2018\", \"id_ign\": \"TRONROUT0000000041504028\", \"seq\": -1, \"distance\": 17.4687639116692, \"polluant\": \"COVNM\", \"unite\": \"tonne\", \"emi\": 0.0104276782634058}, {\"id\": 89524, \"id_comptag\": \"16-D10-40+170\", \"annee\": \"2018\", \"id_ign\": \"TRONROUT0000000041504028\", \"seq\": 92, \"distance\": 17.4687639116692, \"polluant\": \"NOX\", \"unite\": \"tonne\", \"emi\": 0.00228386218199108}, {\"id\": 89525, \"id_comptag\": \"16-D10-40+170\", \"annee\": \"2018\", \"id_ign\": \"TRONROUT0000000041504028\", \"seq\": 92, \"distance\": 17.4687639116692, \"polluant\": \"PM2_5\", \"unite\": \"tonne\", \"emi\": 0.000123404604370078}, {\"id\": 89526, \"id_comptag\": \"16-D10-40+170\", \"annee\": \"2018\", \"id_ign\": \"TRONROUT0000000041504028\", \"seq\": 92, \"distance\": 17.4687639116692, \"polluant\": \"PM10\", \"unite\": \"tonne\", \"emi\": 0.000175859736339992}, {\"id\": 89527, \"id_comptag\": \"16-D10-40+170\", \"annee\": \"2018\", \"id_ign\": \"TRONROUT0000000041504028\", \"seq\": 92, \"distance\": 17.4687639116692, \"polluant\": \"COVNM\", \"unite\": \"tonne\", \"emi\": 0.000222137873176596}, {\"id\": 89528, \"id_comptag\": \"16-D10-40+170\", \"annee\": \"2018\", \"id_ign\": \"TRONROUT0000000041504028\", \"seq\": 93, \"distance\": 17.4687639116692, \"polluant\": \"COVNM\", \"unite\": \"tonne\", \"emi\": 0.000222137873176596}, {\"id\": 89529, \"id_comptag\": \"16-D10-40+170\", \"annee\": \"2018\", \"id_ign\": \"TRONROUT0000000041504028\", \"seq\": 93, \"distance\": 17.4687639116692, \"polluant\": \"NOX\", \"unite\": \"tonne\", \"emi\": 0.00228386218199108}, {\"id\": 89530, \"id_comptag\": \"16-D10-40+170\", \"annee\": \"2018\", \"id_ign\": \"TRONROUT0000000041504028\", \"seq\": 93, \"distance\": 17.4687639116692, \"polluant\": \"PM10\", \"unite\": \"tonne\", \"emi\": 0.000175859736339992}, {\"id\": 89531, \"id_comptag\": \"16-D10-40+170\", \"annee\": \"2018\", \"id_ign\": \"TRONROUT0000000041504028\", \"seq\": 93, \"distance\": 17.4687639116692, \"polluant\": \"PM2_5\", \"unite\": \"tonne\", \"emi\": 0.000123404604370078}, {\"id\": 89532, \"id_comptag\": \"16-D10-40+170\", \"annee\": \"2018\", \"id_ign\": \"TRONROUT0000000041504029\", \"seq\": -1, \"distance\": 17.4834458733907, \"polluant\": \"COVNM\", \"unite\": \"tonne\", \"emi\": 0.000222137873176596}, {\"id\": 89533, \"id_comptag\": \"16-D10-40+170\", \"annee\": \"2018\", \"id_ign\": \"TRONROUT0000000041504029\", \"seq\": -1, \"distance\": 17.4834458733907, \"polluant\": \"PM10\", \"unite\": \"tonne\", \"emi\": 0.000175859736339992}, {\"id\": 89534, \"id_comptag\": \"16-D10-40+170\", \"annee\": \"2018\", \"id_ign\": \"TRONROUT0000000041504029\", \"seq\": -1, \"distance\": 17.4834458733907, \"polluant\": \"PM2_5\", \"unite\": \"tonne\", \"emi\": 0.000123404604370078}, {\"id\": 89535, \"id_comptag\": \"16-D10-40+170\", \"annee\": \"2018\", \"id_ign\": \"TRONROUT0000000041504029\", \"seq\": -1, \"distance\": 17.4834458733907, \"polluant\": \"NOX\", \"unite\": \"tonne\", \"emi\": 0.00228386218199108}, {\"id\": 89536, \"id_comptag\": \"16-D10-40+170\", \"annee\": \"2018\", \"id_ign\": \"TRONROUT0000000041504029\", \"seq\": 93, \"distance\": 17.4834458733907, \"polluant\": \"PM2_5\", \"unite\": \"tonne\", \"emi\": 0.000321192349473022}, {\"id\": 89537, \"id_comptag\": \"16-D10-40+170\", \"annee\": \"2018\", \"id_ign\": \"TRONROUT0000000041504029\", \"seq\": 93, \"distance\": 17.4834458733907, \"polluant\": \"NOX\", \"unite\": \"tonne\", \"emi\": 0.00594434108719665}, {\"id\": 89538, \"id_comptag\": \"16-D10-40+170\", \"annee\": \"2018\", \"id_ign\": \"TRONROUT0000000041504029\", \"seq\": 93, \"distance\": 17.4834458733907, \"polluant\": \"COVNM\", \"unite\": \"tonne\", \"emi\": 0.000578171177297105}, {\"id\": 89539, \"id_comptag\": \"16-D10-40+170\", \"annee\": \"2018\", \"id_ign\": \"TRONROUT0000000041504029\", \"seq\": 93, \"distance\": 17.4834458733907, \"polluant\": \"PM10\", \"unite\": \"tonne\", \"emi\": 0.000457720375840728}, {\"id\": 89540, \"id_comptag\": \"16-D10-40+170\", \"annee\": \"2018\", \"id_ign\": \"TRONROUT0000000041504029\", \"seq\": 94, \"distance\": 17.4834458733907, \"polluant\": \"COVNM\", \"unite\": \"tonne\", \"emi\": 0.000578171177297105}, {\"id\": 89541, \"id_comptag\": \"16-D10-40+170\", \"annee\": \"2018\", \"id_ign\": \"TRONROUT0000000041504029\", \"seq\": 94, \"distance\": 17.4834458733907, \"polluant\": \"PM2_5\", \"unite\": \"tonne\", \"emi\": 0.000321192349473022}, {\"id\": 89542, \"id_comptag\": \"16-D10-40+170\", \"annee\": \"2018\", \"id_ign\": \"TRONROUT0000000041504029\", \"seq\": 94, \"distance\": 17.4834458733907, \"polluant\": \"NOX\", \"unite\": \"tonne\", \"emi\": 0.00594434108719665}, {\"id\": 89543, \"id_comptag\": \"16-D10-40+170\", \"annee\": \"2018\", \"id_ign\": \"TRONROUT0000000041504029\", \"seq\": 94, \"distance\": 17.4834458733907, \"polluant\": \"PM10\", \"unite\": \"tonne\", \"emi\": 0.000457720375840728}, {\"id\": 89544, \"id_comptag\": \"16-D10-40+170\", \"annee\": \"2018\", \"id_ign\": \"TRONROUT0000000041504025\", \"seq\": -1, \"distance\": 17.5216594700735, \"polluant\": \"COVNM\", \"unite\": \"tonne\", \"emi\": 0.000578171177297105}, {\"id\": 89545, \"id_comptag\": \"16-D10-40+170\", \"annee\": \"2018\", \"id_ign\": \"TRONROUT0000000041504025\", \"seq\": -1, \"distance\": 17.5216594700735, \"polluant\": \"PM2_5\", \"unite\": \"tonne\", \"emi\": 0.000321192349473022}, {\"id\": 89546, \"id_comptag\": \"16-D10-40+170\", \"annee\": \"2018\", \"id_ign\": \"TRONROUT0000000041504025\", \"seq\": -1, \"distance\": 17.5216594700735, \"polluant\": \"PM10\", \"unite\": \"tonne\", \"emi\": 0.000457720375840728}, {\"id\": 89547, \"id_comptag\": \"16-D10-40+170\", \"annee\": \"2018\", \"id_ign\": \"TRONROUT0000000041504025\", \"seq\": -1, \"distance\": 17.5216594700735, \"polluant\": \"NOX\", \"unite\": \"tonne\", \"emi\": 0.00594434108719665}, {\"id\": 89548, \"id_comptag\": \"16-D10-40+170\", \"annee\": \"2018\", \"id_ign\": \"TRONROUT0000000041504025\", \"seq\": 94, \"distance\": 17.5216594700735, \"polluant\": \"COVNM\", \"unite\": \"tonne\", \"emi\": 0.0029009295758066}, {\"id\": 89549, \"id_comptag\": \"16-D10-40+170\", \"annee\": \"2018\", \"id_ign\": \"TRONROUT0000000041504025\", \"seq\": 94, \"distance\": 17.5216594700735, \"polluant\": \"PM10\", \"unite\": \"tonne\", \"emi\": 0.00229657690985754}, {\"id\": 89550, \"id_comptag\": \"16-D10-40+170\", \"annee\": \"2018\", \"id_ign\": \"TRONROUT0000000041504025\", \"seq\": 94, \"distance\": 17.5216594700735, \"polluant\": \"NOX\", \"unite\": \"tonne\", \"emi\": 0.0298252758796205}, {\"id\": 89551, \"id_comptag\": \"16-D10-40+170\", \"annee\": \"2018\", \"id_ign\": \"TRONROUT0000000041504025\", \"seq\": 94, \"distance\": 17.5216594700735, \"polluant\": \"PM2_5\", \"unite\": \"tonne\", \"emi\": 0.00161155799994211}, {\"id\": 89552, \"id_comptag\": \"16-D10-40+170\", \"annee\": \"2018\", \"id_ign\": \"TRONROUT0000000041504025\", \"seq\": 95, \"distance\": 17.5216594700735, \"polluant\": \"PM2_5\", \"unite\": \"tonne\", \"emi\": 0.00161155799994211}, {\"id\": 89553, \"id_comptag\": \"16-D10-40+170\", \"annee\": \"2018\", \"id_ign\": \"TRONROUT0000000041504025\", \"seq\": 95, \"distance\": 17.5216594700735, \"polluant\": \"PM10\", \"unite\": \"tonne\", \"emi\": 0.00229657690985754}, {\"id\": 89554, \"id_comptag\": \"16-D10-40+170\", \"annee\": \"2018\", \"id_ign\": \"TRONROUT0000000041504025\", \"seq\": 95, \"distance\": 17.5216594700735, \"polluant\": \"COVNM\", \"unite\": \"tonne\", \"emi\": 0.0029009295758066}, {\"id\": 89555, \"id_comptag\": \"16-D10-40+170\", \"annee\": \"2018\", \"id_ign\": \"TRONROUT0000000041504025\", \"seq\": 95, \"distance\": 17.5216594700735, \"polluant\": \"NOX\", \"unite\": \"tonne\", \"emi\": 0.0298252758796205}, {\"id\": 89556, \"id_comptag\": \"16-D10-40+170\", \"annee\": \"2018\", \"id_ign\": \"TRONROUT0000000041504735\", \"seq\": -1, \"distance\": 17.7133932630539, \"polluant\": \"COVNM\", \"unite\": \"tonne\", \"emi\": 0.0029009295758066}, {\"id\": 89557, \"id_comptag\": \"16-D10-40+170\", \"annee\": \"2018\", \"id_ign\": \"TRONROUT0000000041504735\", \"seq\": -1, \"distance\": 17.7133932630539, \"polluant\": \"PM10\", \"unite\": \"tonne\", \"emi\": 0.00229657690985754}, {\"id\": 89558, \"id_comptag\": \"16-D10-40+170\", \"annee\": \"2018\", \"id_ign\": \"TRONROUT0000000041504735\", \"seq\": -1, \"distance\": 17.7133932630539, \"polluant\": \"PM2_5\", \"unite\": \"tonne\", \"emi\": 0.00161155799994211}, {\"id\": 89559, \"id_comptag\": \"16-D10-40+170\", \"annee\": \"2018\", \"id_ign\": \"TRONROUT0000000041504735\", \"seq\": -1, \"distance\": 17.7133932630539, \"polluant\": \"NOX\", \"unite\": \"tonne\", \"emi\": 0.0298252758796205}, {\"id\": 89560, \"id_comptag\": \"16-D10-40+170\", \"annee\": \"2018\", \"id_ign\": \"TRONROUT0000000041504735\", \"seq\": 95, \"distance\": 17.7133932630539, \"polluant\": \"NOX\", \"unite\": \"tonne\", \"emi\": 0.0371386237521717}, {\"id\": 89561, \"id_comptag\": \"16-D10-40+170\", \"annee\": \"2018\", \"id_ign\": \"TRONROUT0000000041504735\", \"seq\": 95, \"distance\": 17.7133932630539, \"polluant\": \"COVNM\", \"unite\": \"tonne\", \"emi\": 0.00356756176844248}, {\"id\": 89562, \"id_comptag\": \"16-D10-40+170\", \"annee\": \"2018\", \"id_ign\": \"TRONROUT0000000041504735\", \"seq\": 95, \"distance\": 17.7133932630539, \"polluant\": \"PM2_5\", \"unite\": \"tonne\", \"emi\": 0.00198447798213929}, {\"id\": 89563, \"id_comptag\": \"16-D10-40+170\", \"annee\": \"2018\", \"id_ign\": \"TRONROUT0000000041504735\", \"seq\": 95, \"distance\": 17.7133932630539, \"polluant\": \"PM10\", \"unite\": \"tonne\", \"emi\": 0.00282667211186242}, {\"id\": 89564, \"id_comptag\": \"16-D10-40+170\", \"annee\": \"2018\", \"id_ign\": \"TRONROUT0000000041504735\", \"seq\": 96, \"distance\": 17.7133932630539, \"polluant\": \"PM10\", \"unite\": \"tonne\", \"emi\": 0.00282667211186242}, {\"id\": 89565, \"id_comptag\": \"16-D10-40+170\", \"annee\": \"2018\", \"id_ign\": \"TRONROUT0000000041504735\", \"seq\": 96, \"distance\": 17.7133932630539, \"polluant\": \"PM2_5\", \"unite\": \"tonne\", \"emi\": 0.00198447798213929}, {\"id\": 89566, \"id_comptag\": \"16-D10-40+170\", \"annee\": \"2018\", \"id_ign\": \"TRONROUT0000000041504735\", \"seq\": 96, \"distance\": 17.7133932630539, \"polluant\": \"COVNM\", \"unite\": \"tonne\", \"emi\": 0.00356756176844248}, {\"id\": 89567, \"id_comptag\": \"16-D10-40+170\", \"annee\": \"2018\", \"id_ign\": \"TRONROUT0000000041504735\", \"seq\": 96, \"distance\": 17.7133932630539, \"polluant\": \"NOX\", \"unite\": \"tonne\", \"emi\": 0.0371386237521717}, {\"id\": 89568, \"id_comptag\": \"16-D10-40+170\", \"annee\": \"2018\", \"id_ign\": \"TRONROUT0000000342858420\", \"seq\": -1, \"distance\": 17.9491197117406, \"polluant\": \"PM10\", \"unite\": \"tonne\", \"emi\": 0.00282667211186242}, {\"id\": 89569, \"id_comptag\": \"16-D10-40+170\", \"annee\": \"2018\", \"id_ign\": \"TRONROUT0000000342858420\", \"seq\": -1, \"distance\": 17.9491197117406, \"polluant\": \"NOX\", \"unite\": \"tonne\", \"emi\": 0.0371386237521717}, {\"id\": 89570, \"id_comptag\": \"16-D10-40+170\", \"annee\": \"2018\", \"id_ign\": \"TRONROUT0000000342858420\", \"seq\": -1, \"distance\": 17.9491197117406, \"polluant\": \"COVNM\", \"unite\": \"tonne\", \"emi\": 0.00356756176844248}, {\"id\": 89571, \"id_comptag\": \"16-D10-40+170\", \"annee\": \"2018\", \"id_ign\": \"TRONROUT0000000342858420\", \"seq\": -1, \"distance\": 17.9491197117406, \"polluant\": \"PM2_5\", \"unite\": \"tonne\", \"emi\": 0.00198447798213929}, {\"id\": 89572, \"id_comptag\": \"16-D10-40+170\", \"annee\": \"2018\", \"id_ign\": \"TRONROUT0000000342858420\", \"seq\": 96, \"distance\": 17.9491197117406, \"polluant\": \"COVNM\", \"unite\": \"tonne\", \"emi\": 0.00974030845666174}, {\"id\": 89573, \"id_comptag\": \"16-D10-40+170\", \"annee\": \"2018\", \"id_ign\": \"TRONROUT0000000342858420\", \"seq\": 96, \"distance\": 17.9491197117406, \"polluant\": \"PM2_5\", \"unite\": \"tonne\", \"emi\": 0.00539406875309645}, {\"id\": 89574, \"id_comptag\": \"16-D10-40+170\", \"annee\": \"2018\", \"id_ign\": \"TRONROUT0000000342858420\", \"seq\": 96, \"distance\": 17.9491197117406, \"polluant\": \"NOX\", \"unite\": \"tonne\", \"emi\": 0.0988475884491902}, {\"id\": 89575, \"id_comptag\": \"16-D10-40+170\", \"annee\": \"2018\", \"id_ign\": \"TRONROUT0000000342858420\", \"seq\": 96, \"distance\": 17.9491197117406, \"polluant\": \"PM10\", \"unite\": \"tonne\", \"emi\": 0.0076888496005473}, {\"id\": 89576, \"id_comptag\": \"16-D10-40+170\", \"annee\": \"2018\", \"id_ign\": \"TRONROUT0000000342858420\", \"seq\": 97, \"distance\": 17.9491197117406, \"polluant\": \"PM2_5\", \"unite\": \"tonne\", \"emi\": 0.00539406875309645}, {\"id\": 89577, \"id_comptag\": \"16-D10-40+170\", \"annee\": \"2018\", \"id_ign\": \"TRONROUT0000000342858420\", \"seq\": 97, \"distance\": 17.9491197117406, \"polluant\": \"COVNM\", \"unite\": \"tonne\", \"emi\": 0.00974030845666174}, {\"id\": 89578, \"id_comptag\": \"16-D10-40+170\", \"annee\": \"2018\", \"id_ign\": \"TRONROUT0000000342858420\", \"seq\": 97, \"distance\": 17.9491197117406, \"polluant\": \"NOX\", \"unite\": \"tonne\", \"emi\": 0.0988475884491902}, {\"id\": 89579, \"id_comptag\": \"16-D10-40+170\", \"annee\": \"2018\", \"id_ign\": \"TRONROUT0000000342858420\", \"seq\": 97, \"distance\": 17.9491197117406, \"polluant\": \"PM10\", \"unite\": \"tonne\", \"emi\": 0.0076888496005473}, {\"id\": 89580, \"id_comptag\": \"16-D10-40+170\", \"annee\": \"2018\", \"id_ign\": \"TRONROUT0000000041504736\", \"seq\": 98, \"distance\": 18.5914188214027, \"polluant\": \"bruit\", \"unite\": \"dB(A)\", \"emi\": 72.61}, {\"id\": 89581, \"id_comptag\": \"16-D10-40+170\", \"annee\": \"2018\", \"id_ign\": \"TRONROUT0000000041504736\", \"seq\": -1, \"distance\": 18.5914188214027, \"polluant\": \"PM10\", \"unite\": \"tonne\", \"emi\": 0.0076888496005473}, {\"id\": 89582, \"id_comptag\": \"16-D10-40+170\", \"annee\": \"2018\", \"id_ign\": \"TRONROUT0000000041504736\", \"seq\": -1, \"distance\": 18.5914188214027, \"polluant\": \"PM2_5\", \"unite\": \"tonne\", \"emi\": 0.00539406875309645}, {\"id\": 89583, \"id_comptag\": \"16-D10-40+170\", \"annee\": \"2018\", \"id_ign\": \"TRONROUT0000000041504736\", \"seq\": -1, \"distance\": 18.5914188214027, \"polluant\": \"NOX\", \"unite\": \"tonne\", \"emi\": 0.0988475884491902}, {\"id\": 89584, \"id_comptag\": \"16-D10-40+170\", \"annee\": \"2018\", \"id_ign\": \"TRONROUT0000000041504736\", \"seq\": -1, \"distance\": 18.5914188214027, \"polluant\": \"COVNM\", \"unite\": \"tonne\", \"emi\": 0.00974030845666174}, {\"id\": 89585, \"id_comptag\": \"16-D10-40+170\", \"annee\": \"2018\", \"id_ign\": \"TRONROUT0000000041504736\", \"seq\": 97, \"distance\": 18.5914188214027, \"polluant\": \"PM2_5\", \"unite\": \"tonne\", \"emi\": 0.000119581296854985}, {\"id\": 89586, \"id_comptag\": \"16-D10-40+170\", \"annee\": \"2018\", \"id_ign\": \"TRONROUT0000000041504736\", \"seq\": 97, \"distance\": 18.5914188214027, \"polluant\": \"COVNM\", \"unite\": \"tonne\", \"emi\": 0.000215255622678424}, {\"id\": 89587, \"id_comptag\": \"16-D10-40+170\", \"annee\": \"2018\", \"id_ign\": \"TRONROUT0000000041504736\", \"seq\": 97, \"distance\": 18.5914188214027, \"polluant\": \"PM10\", \"unite\": \"tonne\", \"emi\": 0.000170411269850569}, {\"id\": 89588, \"id_comptag\": \"16-D10-40+170\", \"annee\": \"2018\", \"id_ign\": \"TRONROUT0000000041504736\", \"seq\": 97, \"distance\": 18.5914188214027, \"polluant\": \"NOX\", \"unite\": \"tonne\", \"emi\": 0.00221310382181146}, {\"id\": 89589, \"id_comptag\": \"16-D10-40+170\", \"annee\": \"2018\", \"id_ign\": \"TRONROUT0000000041504736\", \"seq\": 98, \"distance\": 18.5914188214027, \"polluant\": \"PM10\", \"unite\": \"tonne\", \"emi\": 0.000170411269850569}, {\"id\": 89590, \"id_comptag\": \"16-D10-40+170\", \"annee\": \"2018\", \"id_ign\": \"TRONROUT0000000041504736\", \"seq\": 98, \"distance\": 18.5914188214027, \"polluant\": \"NOX\", \"unite\": \"tonne\", \"emi\": 0.00221310382181146}, {\"id\": 89591, \"id_comptag\": \"16-D10-40+170\", \"annee\": \"2018\", \"id_ign\": \"TRONROUT0000000041504736\", \"seq\": 98, \"distance\": 18.5914188214027, \"polluant\": \"PM2_5\", \"unite\": \"tonne\", \"emi\": 0.000119581296854985}, {\"id\": 89592, \"id_comptag\": \"16-D10-40+170\", \"annee\": \"2018\", \"id_ign\": \"TRONROUT0000000041504736\", \"seq\": 98, \"distance\": 18.5914188214027, \"polluant\": \"COVNM\", \"unite\": \"tonne\", \"emi\": 0.000215255622678424}, {\"id\": 89593, \"id_comptag\": \"16-D10-40+170\", \"annee\": \"2018\", \"id_ign\": \"TRONROUT0000000041504720\", \"seq\": -1, \"distance\": 18.6056459082444, \"polluant\": \"NOX\", \"unite\": \"tonne\", \"emi\": 0.00221310382181146}, {\"id\": 89594, \"id_comptag\": \"16-D10-40+170\", \"annee\": \"2018\", \"id_ign\": \"TRONROUT0000000041504720\", \"seq\": -1, \"distance\": 18.6056459082444, \"polluant\": \"PM10\", \"unite\": \"tonne\", \"emi\": 0.000170411269850569}, {\"id\": 89595, \"id_comptag\": \"16-D10-40+170\", \"annee\": \"2018\", \"id_ign\": \"TRONROUT0000000041504720\", \"seq\": -1, \"distance\": 18.6056459082444, \"polluant\": \"COVNM\", \"unite\": \"tonne\", \"emi\": 0.000215255622678424}, {\"id\": 89596, \"id_comptag\": \"16-D10-40+170\", \"annee\": \"2018\", \"id_ign\": \"TRONROUT0000000041504720\", \"seq\": -1, \"distance\": 18.6056459082444, \"polluant\": \"PM2_5\", \"unite\": \"tonne\", \"emi\": 0.000119581296854985}, {\"id\": 89597, \"id_comptag\": \"16-D10-40+170\", \"annee\": \"2018\", \"id_ign\": \"TRONROUT0000000041504720\", \"seq\": 98, \"distance\": 18.6056459082444, \"polluant\": \"COVNM\", \"unite\": \"tonne\", \"emi\": 0.000429310515941504}, {\"id\": 89598, \"id_comptag\": \"16-D10-40+170\", \"annee\": \"2018\", \"id_ign\": \"TRONROUT0000000041504720\", \"seq\": 98, \"distance\": 18.6056459082444, \"polluant\": \"NOX\", \"unite\": \"tonne\", \"emi\": 0.00441386260554683}, {\"id\": 89599, \"id_comptag\": \"16-D10-40+170\", \"annee\": \"2018\", \"id_ign\": \"TRONROUT0000000041504720\", \"seq\": 98, \"distance\": 18.6056459082444, \"polluant\": \"PM2_5\", \"unite\": \"tonne\", \"emi\": 0.000238495550596894}, {\"id\": 89600, \"id_comptag\": \"16-D10-40+170\", \"annee\": \"2018\", \"id_ign\": \"TRONROUT0000000041504720\", \"seq\": 98, \"distance\": 18.6056459082444, \"polluant\": \"PM10\", \"unite\": \"tonne\", \"emi\": 0.000339871959075789}, {\"id\": 89601, \"id_comptag\": \"16-D10-40+170\", \"annee\": \"2018\", \"id_ign\": \"TRONROUT0000000041504720\", \"seq\": 99, \"distance\": 18.6056459082444, \"polluant\": \"NOX\", \"unite\": \"tonne\", \"emi\": 0.00441386260554683}, {\"id\": 89602, \"id_comptag\": \"16-D10-40+170\", \"annee\": \"2018\", \"id_ign\": \"TRONROUT0000000041504720\", \"seq\": 99, \"distance\": 18.6056459082444, \"polluant\": \"COVNM\", \"unite\": \"tonne\", \"emi\": 0.000429310515941504}, {\"id\": 89603, \"id_comptag\": \"16-D10-40+170\", \"annee\": \"2018\", \"id_ign\": \"TRONROUT0000000041504720\", \"seq\": 99, \"distance\": 18.6056459082444, \"polluant\": \"PM10\", \"unite\": \"tonne\", \"emi\": 0.000339871959075789}, {\"id\": 89604, \"id_comptag\": \"16-D10-40+170\", \"annee\": \"2018\", \"id_ign\": \"TRONROUT0000000041504720\", \"seq\": 99, \"distance\": 18.6056459082444, \"polluant\": \"PM2_5\", \"unite\": \"tonne\", \"emi\": 0.000238495550596894}, {\"id\": 89605, \"id_comptag\": \"16-D10-40+170\", \"annee\": \"2018\", \"id_ign\": \"TRONROUT0000000041504718\", \"seq\": -1, \"distance\": 18.6340207210197, \"polluant\": \"PM2_5\", \"unite\": \"tonne\", \"emi\": 0.000238495550596894}, {\"id\": 89606, \"id_comptag\": \"16-D10-40+170\", \"annee\": \"2018\", \"id_ign\": \"TRONROUT0000000041504718\", \"seq\": -1, \"distance\": 18.6340207210197, \"polluant\": \"PM10\", \"unite\": \"tonne\", \"emi\": 0.000339871959075789}, {\"id\": 89607, \"id_comptag\": \"16-D10-40+170\", \"annee\": \"2018\", \"id_ign\": \"TRONROUT0000000041504718\", \"seq\": -1, \"distance\": 18.6340207210197, \"polluant\": \"COVNM\", \"unite\": \"tonne\", \"emi\": 0.000429310515941504}, {\"id\": 89608, \"id_comptag\": \"16-D10-40+170\", \"annee\": \"2018\", \"id_ign\": \"TRONROUT0000000041504718\", \"seq\": -1, \"distance\": 18.6340207210197, \"polluant\": \"NOX\", \"unite\": \"tonne\", \"emi\": 0.00441386260554683}, {\"id\": 89609, \"id_comptag\": \"16-D10-40+170\", \"annee\": \"2018\", \"id_ign\": \"TRONROUT0000000041504718\", \"seq\": 99, \"distance\": 18.6340207210197, \"polluant\": \"PM2_5\", \"unite\": \"tonne\", \"emi\": 0.00374170777315355}, {\"id\": 89610, \"id_comptag\": \"16-D10-40+170\", \"annee\": \"2018\", \"id_ign\": \"TRONROUT0000000041504718\", \"seq\": 99, \"distance\": 18.6340207210197, \"polluant\": \"PM10\", \"unite\": \"tonne\", \"emi\": 0.00533218145146968}, {\"id\": 89611, \"id_comptag\": \"16-D10-40+170\", \"annee\": \"2018\", \"id_ign\": \"TRONROUT0000000041504718\", \"seq\": 99, \"distance\": 18.6340207210197, \"polluant\": \"NOX\", \"unite\": \"tonne\", \"emi\": 0.069248185047782}, {\"id\": 89612, \"id_comptag\": \"16-D10-40+170\", \"annee\": \"2018\", \"id_ign\": \"TRONROUT0000000041504718\", \"seq\": 99, \"distance\": 18.6340207210197, \"polluant\": \"COVNM\", \"unite\": \"tonne\", \"emi\": 0.00673536462451643}, {\"id\": 89613, \"id_comptag\": \"16-D10-40+170\", \"annee\": \"2018\", \"id_ign\": \"TRONROUT0000000041504718\", \"seq\": 100, \"distance\": 18.6340207210197, \"polluant\": \"PM10\", \"unite\": \"tonne\", \"emi\": 0.00533218145146968}, {\"id\": 89614, \"id_comptag\": \"16-D10-40+170\", \"annee\": \"2018\", \"id_ign\": \"TRONROUT0000000041504718\", \"seq\": 100, \"distance\": 18.6340207210197, \"polluant\": \"NOX\", \"unite\": \"tonne\", \"emi\": 0.069248185047782}, {\"id\": 89615, \"id_comptag\": \"16-D10-40+170\", \"annee\": \"2018\", \"id_ign\": \"TRONROUT0000000041504718\", \"seq\": 100, \"distance\": 18.6340207210197, \"polluant\": \"COVNM\", \"unite\": \"tonne\", \"emi\": 0.00673536462451643}, {\"id\": 89616, \"id_comptag\": \"16-D10-40+170\", \"annee\": \"2018\", \"id_ign\": \"TRONROUT0000000041504718\", \"seq\": 100, \"distance\": 18.6340207210197, \"polluant\": \"PM2_5\", \"unite\": \"tonne\", \"emi\": 0.00374170777315355}, {\"id\": 89617, \"id_comptag\": \"16-D10-40+170\", \"annee\": \"2018\", \"id_ign\": \"TRONROUT0000000041504719\", \"seq\": -1, \"distance\": 19.0791873384151, \"polluant\": \"PM10\", \"unite\": \"tonne\", \"emi\": 0.00533218145146968}, {\"id\": 89618, \"id_comptag\": \"16-D10-40+170\", \"annee\": \"2018\", \"id_ign\": \"TRONROUT0000000041504719\", \"seq\": -1, \"distance\": 19.0791873384151, \"polluant\": \"PM2_5\", \"unite\": \"tonne\", \"emi\": 0.00374170777315355}, {\"id\": 89619, \"id_comptag\": \"16-D10-40+170\", \"annee\": \"2018\", \"id_ign\": \"TRONROUT0000000041504719\", \"seq\": -1, \"distance\": 19.0791873384151, \"polluant\": \"COVNM\", \"unite\": \"tonne\", \"emi\": 0.00673536462451643}, {\"id\": 89620, \"id_comptag\": \"16-D10-40+170\", \"annee\": \"2018\", \"id_ign\": \"TRONROUT0000000041504719\", \"seq\": -1, \"distance\": 19.0791873384151, \"polluant\": \"NOX\", \"unite\": \"tonne\", \"emi\": 0.069248185047782}, {\"id\": 89621, \"id_comptag\": \"16-D10-40+170\", \"annee\": \"2018\", \"id_ign\": \"TRONROUT0000000041504719\", \"seq\": 100, \"distance\": 19.0791873384151, \"polluant\": \"COVNM\", \"unite\": \"tonne\", \"emi\": 0.000124489538329014}, {\"id\": 89622, \"id_comptag\": \"16-D10-40+170\", \"annee\": \"2018\", \"id_ign\": \"TRONROUT0000000041504719\", \"seq\": 100, \"distance\": 19.0791873384151, \"polluant\": \"PM2_5\", \"unite\": \"tonne\", \"emi\": 6.91578703172897e-05}, {\"id\": 89623, \"id_comptag\": \"16-D10-40+170\", \"annee\": \"2018\", \"id_ign\": \"TRONROUT0000000041504719\", \"seq\": 100, \"distance\": 19.0791873384151, \"polluant\": \"PM10\", \"unite\": \"tonne\", \"emi\": 9.8554546663114e-05}, {\"id\": 89624, \"id_comptag\": \"16-D10-40+170\", \"annee\": \"2018\", \"id_ign\": \"TRONROUT0000000041504719\", \"seq\": 100, \"distance\": 19.0791873384151, \"polluant\": \"NOX\", \"unite\": \"tonne\", \"emi\": 0.00127991208602748}, {\"id\": 89625, \"id_comptag\": \"16-D10-40+170\", \"annee\": \"2018\", \"id_ign\": \"TRONROUT0000000041504719\", \"seq\": 101, \"distance\": 19.0791873384151, \"polluant\": \"COVNM\", \"unite\": \"tonne\", \"emi\": 0.000124489538329014}, {\"id\": 89626, \"id_comptag\": \"16-D10-40+170\", \"annee\": \"2018\", \"id_ign\": \"TRONROUT0000000041504719\", \"seq\": 101, \"distance\": 19.0791873384151, \"polluant\": \"PM10\", \"unite\": \"tonne\", \"emi\": 9.8554546663114e-05}, {\"id\": 89627, \"id_comptag\": \"16-D10-40+170\", \"annee\": \"2018\", \"id_ign\": \"TRONROUT0000000041504719\", \"seq\": 101, \"distance\": 19.0791873384151, \"polluant\": \"NOX\", \"unite\": \"tonne\", \"emi\": 0.00127991208602748}, {\"id\": 89628, \"id_comptag\": \"16-D10-40+170\", \"annee\": \"2018\", \"id_ign\": \"TRONROUT0000000041504719\", \"seq\": 101, \"distance\": 19.0791873384151, \"polluant\": \"PM2_5\", \"unite\": \"tonne\", \"emi\": 6.91578703172897e-05}, {\"id\": 89629, \"id_comptag\": \"16-D10-40+170\", \"annee\": \"2018\", \"id_ign\": \"TRONROUT0000000041504717\", \"seq\": -1, \"distance\": 19.0874153393874, \"polluant\": \"bruit\", \"unite\": \"dB(A)\", \"emi\": null}, {\"id\": 89630, \"id_comptag\": \"16-D10-40+170\", \"annee\": \"2018\", \"id_ign\": \"TRONROUT0000000041504717\", \"seq\": 101, \"distance\": 19.0874153393874, \"polluant\": \"bruit\", \"unite\": \"dB(A)\", \"emi\": 68.88}, {\"id\": 89631, \"id_comptag\": \"16-D10-40+170\", \"annee\": \"2018\", \"id_ign\": \"TRONROUT0000000041504717\", \"seq\": -1, \"distance\": 19.0874153393874, \"polluant\": \"COVNM\", \"unite\": \"tonne\", \"emi\": 0.000124489538329014}, {\"id\": 89632, \"id_comptag\": \"16-D10-40+170\", \"annee\": \"2018\", \"id_ign\": \"TRONROUT0000000041504717\", \"seq\": -1, \"distance\": 19.0874153393874, \"polluant\": \"PM2_5\", \"unite\": \"tonne\", \"emi\": 6.91578703172897e-05}, {\"id\": 89633, \"id_comptag\": \"16-D10-40+170\", \"annee\": \"2018\", \"id_ign\": \"TRONROUT0000000041504717\", \"seq\": -1, \"distance\": 19.0874153393874, \"polluant\": \"PM10\", \"unite\": \"tonne\", \"emi\": 9.8554546663114e-05}, {\"id\": 89634, \"id_comptag\": \"16-D10-40+170\", \"annee\": \"2018\", \"id_ign\": \"TRONROUT0000000041504717\", \"seq\": -1, \"distance\": 19.0874153393874, \"polluant\": \"NOX\", \"unite\": \"tonne\", \"emi\": 0.00127991208602748}, {\"id\": 89635, \"id_comptag\": \"16-D10-40+170\", \"annee\": \"2018\", \"id_ign\": \"TRONROUT0000000041504717\", \"seq\": 101, \"distance\": 19.0874153393874, \"polluant\": \"NOX\", \"unite\": \"tonne\", \"emi\": 0.0631804788770101}, {\"id\": 89636, \"id_comptag\": \"16-D10-40+170\", \"annee\": \"2018\", \"id_ign\": \"TRONROUT0000000041504717\", \"seq\": 101, \"distance\": 19.0874153393874, \"polluant\": \"COVNM\", \"unite\": \"tonne\", \"emi\": 0.00635763901078496}, {\"id\": 89637, \"id_comptag\": \"16-D10-40+170\", \"annee\": \"2018\", \"id_ign\": \"TRONROUT0000000041504717\", \"seq\": 101, \"distance\": 19.0874153393874, \"polluant\": \"PM2_5\", \"unite\": \"tonne\", \"emi\": 0.0035694167451796}, {\"id\": 89638, \"id_comptag\": \"16-D10-40+170\", \"annee\": \"2018\", \"id_ign\": \"TRONROUT0000000041504717\", \"seq\": 101, \"distance\": 19.0874153393874, \"polluant\": \"PM10\", \"unite\": \"tonne\", \"emi\": 0.00523917893647853}, {\"id\": 89639, \"id_comptag\": \"16-D10-40+170\", \"annee\": \"2018\", \"id_ign\": \"TRONROUT0000000041504717\", \"seq\": 102, \"distance\": 19.0874153393874, \"polluant\": \"COVNM\", \"unite\": \"tonne\", \"emi\": 0.00635763901078496}, {\"id\": 89640, \"id_comptag\": \"16-D10-40+170\", \"annee\": \"2018\", \"id_ign\": \"TRONROUT0000000041504717\", \"seq\": 102, \"distance\": 19.0874153393874, \"polluant\": \"NOX\", \"unite\": \"tonne\", \"emi\": 0.0631804788770101}, {\"id\": 89641, \"id_comptag\": \"16-D10-40+170\", \"annee\": \"2018\", \"id_ign\": \"TRONROUT0000000041504717\", \"seq\": 102, \"distance\": 19.0874153393874, \"polluant\": \"PM2_5\", \"unite\": \"tonne\", \"emi\": 0.0035694167451796}, {\"id\": 89642, \"id_comptag\": \"16-D10-40+170\", \"annee\": \"2018\", \"id_ign\": \"TRONROUT0000000041504717\", \"seq\": 102, \"distance\": 19.0874153393874, \"polluant\": \"PM10\", \"unite\": \"tonne\", \"emi\": 0.00523917893647853}, {\"id\": 89643, \"id_comptag\": \"16-D10-40+170\", \"annee\": \"2018\", \"id_ign\": \"TRONROUT0000000041504729\", \"seq\": 103, \"distance\": 19.4561626343896, \"polluant\": \"bruit\", \"unite\": \"dB(A)\", \"emi\": 68.88}, {\"id\": 89644, \"id_comptag\": \"16-D10-40+170\", \"annee\": \"2018\", \"id_ign\": \"TRONROUT0000000041504729\", \"seq\": -1, \"distance\": 19.4561626343896, \"polluant\": \"NOX\", \"unite\": \"tonne\", \"emi\": 0.0631804788770101}, {\"id\": 89645, \"id_comptag\": \"16-D10-40+170\", \"annee\": \"2018\", \"id_ign\": \"TRONROUT0000000041504729\", \"seq\": -1, \"distance\": 19.4561626343896, \"polluant\": \"PM10\", \"unite\": \"tonne\", \"emi\": 0.00523917893647853}, {\"id\": 89646, \"id_comptag\": \"16-D10-40+170\", \"annee\": \"2018\", \"id_ign\": \"TRONROUT0000000041504729\", \"seq\": -1, \"distance\": 19.4561626343896, \"polluant\": \"COVNM\", \"unite\": \"tonne\", \"emi\": 0.00635763901078496}, {\"id\": 89647, \"id_comptag\": \"16-D10-40+170\", \"annee\": \"2018\", \"id_ign\": \"TRONROUT0000000041504729\", \"seq\": -1, \"distance\": 19.4561626343896, \"polluant\": \"PM2_5\", \"unite\": \"tonne\", \"emi\": 0.0035694167451796}, {\"id\": 89648, \"id_comptag\": \"16-D10-40+170\", \"annee\": \"2018\", \"id_ign\": \"TRONROUT0000000041504729\", \"seq\": 102, \"distance\": 19.4561626343896, \"polluant\": \"NOX\", \"unite\": \"tonne\", \"emi\": 0.00576701383671656}, {\"id\": 89649, \"id_comptag\": \"16-D10-40+170\", \"annee\": \"2018\", \"id_ign\": \"TRONROUT0000000041504729\", \"seq\": 102, \"distance\": 19.4561626343896, \"polluant\": \"PM10\", \"unite\": \"tonne\", \"emi\": 0.000480254160766562}, {\"id\": 89650, \"id_comptag\": \"16-D10-40+170\", \"annee\": \"2018\", \"id_ign\": \"TRONROUT0000000041504729\", \"seq\": 102, \"distance\": 19.4561626343896, \"polluant\": \"PM2_5\", \"unite\": \"tonne\", \"emi\": 0.000327095104617843}, {\"id\": 89651, \"id_comptag\": \"16-D10-40+170\", \"annee\": \"2018\", \"id_ign\": \"TRONROUT0000000041504729\", \"seq\": 102, \"distance\": 19.4561626343896, \"polluant\": \"COVNM\", \"unite\": \"tonne\", \"emi\": 0.000584707651611624}, {\"id\": 89652, \"id_comptag\": \"16-D10-40+170\", \"annee\": \"2018\", \"id_ign\": \"TRONROUT0000000041504729\", \"seq\": 103, \"distance\": 19.4561626343896, \"polluant\": \"PM2_5\", \"unite\": \"tonne\", \"emi\": 0.000327095104617843}, {\"id\": 89653, \"id_comptag\": \"16-D10-40+170\", \"annee\": \"2018\", \"id_ign\": \"TRONROUT0000000041504729\", \"seq\": 103, \"distance\": 19.4561626343896, \"polluant\": \"COVNM\", \"unite\": \"tonne\", \"emi\": 0.000584707651611624}, {\"id\": 89654, \"id_comptag\": \"16-D10-40+170\", \"annee\": \"2018\", \"id_ign\": \"TRONROUT0000000041504729\", \"seq\": 103, \"distance\": 19.4561626343896, \"polluant\": \"PM10\", \"unite\": \"tonne\", \"emi\": 0.000480254160766562}, {\"id\": 89655, \"id_comptag\": \"16-D10-40+170\", \"annee\": \"2018\", \"id_ign\": \"TRONROUT0000000041504729\", \"seq\": 103, \"distance\": 19.4561626343896, \"polluant\": \"NOX\", \"unite\": \"tonne\", \"emi\": 0.00576701383671656}, {\"id\": 89656, \"id_comptag\": \"16-D10-40+170\", \"annee\": \"2018\", \"id_ign\": \"TRONROUT0000000041504730\", \"seq\": -1, \"distance\": 19.4899860063369, \"polluant\": \"NOX\", \"unite\": \"tonne\", \"emi\": 0.00576701383671656}, {\"id\": 89657, \"id_comptag\": \"16-D10-40+170\", \"annee\": \"2018\", \"id_ign\": \"TRONROUT0000000041504730\", \"seq\": -1, \"distance\": 19.4899860063369, \"polluant\": \"COVNM\", \"unite\": \"tonne\", \"emi\": 0.000584707651611624}, {\"id\": 89658, \"id_comptag\": \"16-D10-40+170\", \"annee\": \"2018\", \"id_ign\": \"TRONROUT0000000041504730\", \"seq\": -1, \"distance\": 19.4899860063369, \"polluant\": \"PM2_5\", \"unite\": \"tonne\", \"emi\": 0.000327095104617843}, {\"id\": 89659, \"id_comptag\": \"16-D10-40+170\", \"annee\": \"2018\", \"id_ign\": \"TRONROUT0000000041504730\", \"seq\": -1, \"distance\": 19.4899860063369, \"polluant\": \"PM10\", \"unite\": \"tonne\", \"emi\": 0.000480254160766562}, {\"id\": 89660, \"id_comptag\": \"16-D10-40+170\", \"annee\": \"2018\", \"id_ign\": \"TRONROUT0000000041504730\", \"seq\": 103, \"distance\": 19.4899860063369, \"polluant\": \"COVNM\", \"unite\": \"tonne\", \"emi\": 0.000661248678933066}, {\"id\": 89661, \"id_comptag\": \"16-D10-40+170\", \"annee\": \"2018\", \"id_ign\": \"TRONROUT0000000041504730\", \"seq\": 103, \"distance\": 19.4899860063369, \"polluant\": \"NOX\", \"unite\": \"tonne\", \"emi\": 0.00652194352238526}, {\"id\": 89662, \"id_comptag\": \"16-D10-40+170\", \"annee\": \"2018\", \"id_ign\": \"TRONROUT0000000041504730\", \"seq\": 103, \"distance\": 19.4899860063369, \"polluant\": \"PM10\", \"unite\": \"tonne\", \"emi\": 0.000543121726701693}, {\"id\": 89663, \"id_comptag\": \"16-D10-40+170\", \"annee\": \"2018\", \"id_ign\": \"TRONROUT0000000041504730\", \"seq\": 103, \"distance\": 19.4899860063369, \"polluant\": \"PM2_5\", \"unite\": \"tonne\", \"emi\": 0.000369913417787265}, {\"id\": 89664, \"id_comptag\": \"16-D10-40+170\", \"annee\": \"2018\", \"id_ign\": \"TRONROUT0000000041504730\", \"seq\": 104, \"distance\": 19.4899860063369, \"polluant\": \"NOX\", \"unite\": \"tonne\", \"emi\": 0.00652194352238526}, {\"id\": 89665, \"id_comptag\": \"16-D10-40+170\", \"annee\": \"2018\", \"id_ign\": \"TRONROUT0000000041504730\", \"seq\": 104, \"distance\": 19.4899860063369, \"polluant\": \"COVNM\", \"unite\": \"tonne\", \"emi\": 0.000661248678933066}, {\"id\": 89666, \"id_comptag\": \"16-D10-40+170\", \"annee\": \"2018\", \"id_ign\": \"TRONROUT0000000041504730\", \"seq\": 104, \"distance\": 19.4899860063369, \"polluant\": \"PM2_5\", \"unite\": \"tonne\", \"emi\": 0.000369913417787265}, {\"id\": 89667, \"id_comptag\": \"16-D10-40+170\", \"annee\": \"2018\", \"id_ign\": \"TRONROUT0000000041504730\", \"seq\": 104, \"distance\": 19.4899860063369, \"polluant\": \"PM10\", \"unite\": \"tonne\", \"emi\": 0.000543121726701693}, {\"id\": 89668, \"id_comptag\": \"16-D10-40+170\", \"annee\": \"2018\", \"id_ign\": \"TRONROUT0000000041504728\", \"seq\": -1, \"distance\": 19.5282370193955, \"polluant\": \"bruit\", \"unite\": \"dB(A)\", \"emi\": null}, {\"id\": 89669, \"id_comptag\": \"16-D10-40+170\", \"annee\": \"2018\", \"id_ign\": \"TRONROUT0000000041504728\", \"seq\": 104, \"distance\": 19.5282370193955, \"polluant\": \"bruit\", \"unite\": \"dB(A)\", \"emi\": 68.88}, {\"id\": 89670, \"id_comptag\": \"16-D10-40+170\", \"annee\": \"2018\", \"id_ign\": \"TRONROUT0000000041504728\", \"seq\": 105, \"distance\": 19.5282370193955, \"polluant\": \"bruit\", \"unite\": \"dB(A)\", \"emi\": 68.88}, {\"id\": 89671, \"id_comptag\": \"16-D10-40+170\", \"annee\": \"2018\", \"id_ign\": \"TRONROUT0000000041504728\", \"seq\": -1, \"distance\": 19.5282370193955, \"polluant\": \"PM10\", \"unite\": \"tonne\", \"emi\": 0.000543121726701693}, {\"id\": 89672, \"id_comptag\": \"16-D10-40+170\", \"annee\": \"2018\", \"id_ign\": \"TRONROUT0000000041504728\", \"seq\": -1, \"distance\": 19.5282370193955, \"polluant\": \"NOX\", \"unite\": \"tonne\", \"emi\": 0.00652194352238526}, {\"id\": 89673, \"id_comptag\": \"16-D10-40+170\", \"annee\": \"2018\", \"id_ign\": \"TRONROUT0000000041504728\", \"seq\": -1, \"distance\": 19.5282370193955, \"polluant\": \"COVNM\", \"unite\": \"tonne\", \"emi\": 0.000661248678933066}, {\"id\": 89674, \"id_comptag\": \"16-D10-40+170\", \"annee\": \"2018\", \"id_ign\": \"TRONROUT0000000041504728\", \"seq\": -1, \"distance\": 19.5282370193955, \"polluant\": \"PM2_5\", \"unite\": \"tonne\", \"emi\": 0.000369913417787265}, {\"id\": 89675, \"id_comptag\": \"16-D10-40+170\", \"annee\": \"2018\", \"id_ign\": \"TRONROUT0000000041504728\", \"seq\": 104, \"distance\": 19.5282370193955, \"polluant\": \"NOX\", \"unite\": \"tonne\", \"emi\": 0.00796159869893345}, {\"id\": 89676, \"id_comptag\": \"16-D10-40+170\", \"annee\": \"2018\", \"id_ign\": \"TRONROUT0000000041504728\", \"seq\": 104, \"distance\": 19.5282370193955, \"polluant\": \"PM10\", \"unite\": \"tonne\", \"emi\": 0.000660207724688917}, {\"id\": 89677, \"id_comptag\": \"16-D10-40+170\", \"annee\": \"2018\", \"id_ign\": \"TRONROUT0000000041504728\", \"seq\": 104, \"distance\": 19.5282370193955, \"polluant\": \"PM2_5\", \"unite\": \"tonne\", \"emi\": 0.000449795003448667}, {\"id\": 89678, \"id_comptag\": \"16-D10-40+170\", \"annee\": \"2018\", \"id_ign\": \"TRONROUT0000000041504728\", \"seq\": 104, \"distance\": 19.5282370193955, \"polluant\": \"COVNM\", \"unite\": \"tonne\", \"emi\": 0.000801148889280934}, {\"id\": 89679, \"id_comptag\": \"16-D10-40+170\", \"annee\": \"2018\", \"id_ign\": \"TRONROUT0000000041504728\", \"seq\": 105, \"distance\": 19.5282370193955, \"polluant\": \"COVNM\", \"unite\": \"tonne\", \"emi\": 0.000801148889280934}, {\"id\": 89680, \"id_comptag\": \"16-D10-40+170\", \"annee\": \"2018\", \"id_ign\": \"TRONROUT0000000041504728\", \"seq\": 105, \"distance\": 19.5282370193955, \"polluant\": \"NOX\", \"unite\": \"tonne\", \"emi\": 0.00796159869893345}, {\"id\": 89681, \"id_comptag\": \"16-D10-40+170\", \"annee\": \"2018\", \"id_ign\": \"TRONROUT0000000041504728\", \"seq\": 105, \"distance\": 19.5282370193955, \"polluant\": \"PM2_5\", \"unite\": \"tonne\", \"emi\": 0.000449795003448667}, {\"id\": 89682, \"id_comptag\": \"16-D10-40+170\", \"annee\": \"2018\", \"id_ign\": \"TRONROUT0000000041504728\", \"seq\": 105, \"distance\": 19.5282370193955, \"polluant\": \"PM10\", \"unite\": \"tonne\", \"emi\": 0.000660207724688917}, {\"id\": 89683, \"id_comptag\": \"16-D10-40+170\", \"annee\": \"2018\", \"id_ign\": \"TRONROUT0000000041504706\", \"seq\": -1, \"distance\": 19.5747041883108, \"polluant\": \"COVNM\", \"unite\": \"tonne\", \"emi\": 0.000801148889280934}, {\"id\": 89684, \"id_comptag\": \"16-D10-40+170\", \"annee\": \"2018\", \"id_ign\": \"TRONROUT0000000041504706\", \"seq\": -1, \"distance\": 19.5747041883108, \"polluant\": \"PM10\", \"unite\": \"tonne\", \"emi\": 0.000660207724688917}, {\"id\": 89685, \"id_comptag\": \"16-D10-40+170\", \"annee\": \"2018\", \"id_ign\": \"TRONROUT0000000041504706\", \"seq\": -1, \"distance\": 19.5747041883108, \"polluant\": \"PM2_5\", \"unite\": \"tonne\", \"emi\": 0.000449795003448667}, {\"id\": 89686, \"id_comptag\": \"16-D10-40+170\", \"annee\": \"2018\", \"id_ign\": \"TRONROUT0000000041504706\", \"seq\": -1, \"distance\": 19.5747041883108, \"polluant\": \"NOX\", \"unite\": \"tonne\", \"emi\": 0.00796159869893345}, {\"id\": 89687, \"id_comptag\": \"16-D10-40+170\", \"annee\": \"2018\", \"id_ign\": \"TRONROUT0000000041504706\", \"seq\": 105, \"distance\": 19.5747041883108, \"polluant\": \"NOX\", \"unite\": \"tonne\", \"emi\": 0.00253502306717411}, {\"id\": 89688, \"id_comptag\": \"16-D10-40+170\", \"annee\": \"2018\", \"id_ign\": \"TRONROUT0000000041504706\", \"seq\": 105, \"distance\": 19.5747041883108, \"polluant\": \"PM2_5\", \"unite\": \"tonne\", \"emi\": 0.000143782147718595}, {\"id\": 89689, \"id_comptag\": \"16-D10-40+170\", \"annee\": \"2018\", \"id_ign\": \"TRONROUT0000000041504706\", \"seq\": 105, \"distance\": 19.5747041883108, \"polluant\": \"COVNM\", \"unite\": \"tonne\", \"emi\": 0.000257021645232012}, {\"id\": 89690, \"id_comptag\": \"16-D10-40+170\", \"annee\": \"2018\", \"id_ign\": \"TRONROUT0000000041504706\", \"seq\": 105, \"distance\": 19.5747041883108, \"polluant\": \"PM10\", \"unite\": \"tonne\", \"emi\": 0.000211106720066885}, {\"id\": 89691, \"id_comptag\": \"16-D10-40+170\", \"annee\": \"2018\", \"id_ign\": \"TRONROUT0000000041504706\", \"seq\": 106, \"distance\": 19.5747041883108, \"polluant\": \"PM10\", \"unite\": \"tonne\", \"emi\": 0.000211106720066885}, {\"id\": 89692, \"id_comptag\": \"16-D10-40+170\", \"annee\": \"2018\", \"id_ign\": \"TRONROUT0000000041504706\", \"seq\": 106, \"distance\": 19.5747041883108, \"polluant\": \"NOX\", \"unite\": \"tonne\", \"emi\": 0.00253502306717411}, {\"id\": 89693, \"id_comptag\": \"16-D10-40+170\", \"annee\": \"2018\", \"id_ign\": \"TRONROUT0000000041504706\", \"seq\": 106, \"distance\": 19.5747041883108, \"polluant\": \"PM2_5\", \"unite\": \"tonne\", \"emi\": 0.000143782147718595}, {\"id\": 89694, \"id_comptag\": \"16-D10-40+170\", \"annee\": \"2018\", \"id_ign\": \"TRONROUT0000000041504706\", \"seq\": 106, \"distance\": 19.5747041883108, \"polluant\": \"COVNM\", \"unite\": \"tonne\", \"emi\": 0.000257021645232012}, {\"id\": 89695, \"id_comptag\": \"16-D10-40+170\", \"annee\": \"2018\", \"id_ign\": \"TRONROUT0000000041504708\", \"seq\": -1, \"distance\": 19.5895720264197, \"polluant\": \"PM2_5\", \"unite\": \"tonne\", \"emi\": 0.000143782147718595}, {\"id\": 89696, \"id_comptag\": \"16-D10-40+170\", \"annee\": \"2018\", \"id_ign\": \"TRONROUT0000000041504708\", \"seq\": -1, \"distance\": 19.5895720264197, \"polluant\": \"PM10\", \"unite\": \"tonne\", \"emi\": 0.000211106720066885}, {\"id\": 89697, \"id_comptag\": \"16-D10-40+170\", \"annee\": \"2018\", \"id_ign\": \"TRONROUT0000000041504708\", \"seq\": -1, \"distance\": 19.5895720264197, \"polluant\": \"COVNM\", \"unite\": \"tonne\", \"emi\": 0.000257021645232012}, {\"id\": 89698, \"id_comptag\": \"16-D10-40+170\", \"annee\": \"2018\", \"id_ign\": \"TRONROUT0000000041504708\", \"seq\": -1, \"distance\": 19.5895720264197, \"polluant\": \"NOX\", \"unite\": \"tonne\", \"emi\": 0.00253502306717411}, {\"id\": 89699, \"id_comptag\": \"16-D10-40+170\", \"annee\": \"2018\", \"id_ign\": \"TRONROUT0000000041504708\", \"seq\": 106, \"distance\": 19.5895720264197, \"polluant\": \"COVNM\", \"unite\": \"tonne\", \"emi\": 0.000271944040402251}, {\"id\": 89700, \"id_comptag\": \"16-D10-40+170\", \"annee\": \"2018\", \"id_ign\": \"TRONROUT0000000041504708\", \"seq\": 106, \"distance\": 19.5895720264197, \"polluant\": \"PM10\", \"unite\": \"tonne\", \"emi\": 0.000223363344979107}, {\"id\": 89701, \"id_comptag\": \"16-D10-40+170\", \"annee\": \"2018\", \"id_ign\": \"TRONROUT0000000041504708\", \"seq\": 106, \"distance\": 19.5895720264197, \"polluant\": \"NOX\", \"unite\": \"tonne\", \"emi\": 0.00268220372948717}, {\"id\": 89702, \"id_comptag\": \"16-D10-40+170\", \"annee\": \"2018\", \"id_ign\": \"TRONROUT0000000041504708\", \"seq\": 106, \"distance\": 19.5895720264197, \"polluant\": \"PM2_5\", \"unite\": \"tonne\", \"emi\": 0.000152129981710341}, {\"id\": 89703, \"id_comptag\": \"16-D10-40+170\", \"annee\": \"2018\", \"id_ign\": \"TRONROUT0000000041504708\", \"seq\": 107, \"distance\": 19.5895720264197, \"polluant\": \"PM2_5\", \"unite\": \"tonne\", \"emi\": 0.000152129981710341}, {\"id\": 89704, \"id_comptag\": \"16-D10-40+170\", \"annee\": \"2018\", \"id_ign\": \"TRONROUT0000000041504708\", \"seq\": 107, \"distance\": 19.5895720264197, \"polluant\": \"NOX\", \"unite\": \"tonne\", \"emi\": 0.00268220372948717}, {\"id\": 89705, \"id_comptag\": \"16-D10-40+170\", \"annee\": \"2018\", \"id_ign\": \"TRONROUT0000000041504708\", \"seq\": 107, \"distance\": 19.5895720264197, \"polluant\": \"COVNM\", \"unite\": \"tonne\", \"emi\": 0.000271944040402251}, {\"id\": 89706, \"id_comptag\": \"16-D10-40+170\", \"annee\": \"2018\", \"id_ign\": \"TRONROUT0000000041504708\", \"seq\": 107, \"distance\": 19.5895720264197, \"polluant\": \"PM10\", \"unite\": \"tonne\", \"emi\": 0.000223363344979107}, {\"id\": 89707, \"id_comptag\": \"16-D10-40+170\", \"annee\": \"2018\", \"id_ign\": \"TRONROUT0000000041504704\", \"seq\": -1, \"distance\": 19.6053030749224, \"polluant\": \"bruit\", \"unite\": \"dB(A)\", \"emi\": null}, {\"id\": 89708, \"id_comptag\": \"16-D10-40+170\", \"annee\": \"2018\", \"id_ign\": \"TRONROUT0000000041504704\", \"seq\": 107, \"distance\": 19.6053030749224, \"polluant\": \"bruit\", \"unite\": \"dB(A)\", \"emi\": 68.88}, {\"id\": 89709, \"id_comptag\": \"16-D10-40+170\", \"annee\": \"2018\", \"id_ign\": \"TRONROUT0000000041504704\", \"seq\": 108, \"distance\": 19.6053030749224, \"polluant\": \"bruit\", \"unite\": \"dB(A)\", \"emi\": 68.88}, {\"id\": 89710, \"id_comptag\": \"16-D10-40+170\", \"annee\": \"2018\", \"id_ign\": \"TRONROUT0000000041504704\", \"seq\": -1, \"distance\": 19.6053030749224, \"polluant\": \"PM10\", \"unite\": \"tonne\", \"emi\": 0.000223363344979107}, {\"id\": 89711, \"id_comptag\": \"16-D10-40+170\", \"annee\": \"2018\", \"id_ign\": \"TRONROUT0000000041504704\", \"seq\": -1, \"distance\": 19.6053030749224, \"polluant\": \"COVNM\", \"unite\": \"tonne\", \"emi\": 0.000271944040402251}, {\"id\": 89712, \"id_comptag\": \"16-D10-40+170\", \"annee\": \"2018\", \"id_ign\": \"TRONROUT0000000041504704\", \"seq\": -1, \"distance\": 19.6053030749224, \"polluant\": \"NOX\", \"unite\": \"tonne\", \"emi\": 0.00268220372948717}, {\"id\": 89713, \"id_comptag\": \"16-D10-40+170\", \"annee\": \"2018\", \"id_ign\": \"TRONROUT0000000041504704\", \"seq\": -1, \"distance\": 19.6053030749224, \"polluant\": \"PM2_5\", \"unite\": \"tonne\", \"emi\": 0.000152129981710341}, {\"id\": 89714, \"id_comptag\": \"16-D10-40+170\", \"annee\": \"2018\", \"id_ign\": \"TRONROUT0000000041504704\", \"seq\": 107, \"distance\": 19.6053030749224, \"polluant\": \"PM10\", \"unite\": \"tonne\", \"emi\": 0.000236261383902207}, {\"id\": 89715, \"id_comptag\": \"16-D10-40+170\", \"annee\": \"2018\", \"id_ign\": \"TRONROUT0000000041504704\", \"seq\": 107, \"distance\": 19.6053030749224, \"polluant\": \"COVNM\", \"unite\": \"tonne\", \"emi\": 0.000287647354741232}, {\"id\": 89716, \"id_comptag\": \"16-D10-40+170\", \"annee\": \"2018\", \"id_ign\": \"TRONROUT0000000041504704\", \"seq\": 107, \"distance\": 19.6053030749224, \"polluant\": \"NOX\", \"unite\": \"tonne\", \"emi\": 0.00283708665401467}, {\"id\": 89717, \"id_comptag\": \"16-D10-40+170\", \"annee\": \"2018\", \"id_ign\": \"TRONROUT0000000041504704\", \"seq\": 107, \"distance\": 19.6053030749224, \"polluant\": \"PM2_5\", \"unite\": \"tonne\", \"emi\": 0.000160914674765748}, {\"id\": 89718, \"id_comptag\": \"16-D10-40+170\", \"annee\": \"2018\", \"id_ign\": \"TRONROUT0000000041504704\", \"seq\": 108, \"distance\": 19.6053030749224, \"polluant\": \"NOX\", \"unite\": \"tonne\", \"emi\": 0.00283708665401467}, {\"id\": 89719, \"id_comptag\": \"16-D10-40+170\", \"annee\": \"2018\", \"id_ign\": \"TRONROUT0000000041504704\", \"seq\": 108, \"distance\": 19.6053030749224, \"polluant\": \"PM2_5\", \"unite\": \"tonne\", \"emi\": 0.000160914674765748}, {\"id\": 89720, \"id_comptag\": \"16-D10-40+170\", \"annee\": \"2018\", \"id_ign\": \"TRONROUT0000000041504704\", \"seq\": 108, \"distance\": 19.6053030749224, \"polluant\": \"COVNM\", \"unite\": \"tonne\", \"emi\": 0.000287647354741232}, {\"id\": 89721, \"id_comptag\": \"16-D10-40+170\", \"annee\": \"2018\", \"id_ign\": \"TRONROUT0000000041504704\", \"seq\": 108, \"distance\": 19.6053030749224, \"polluant\": \"PM10\", \"unite\": \"tonne\", \"emi\": 0.000236261383902207}, {\"id\": 89722, \"id_comptag\": \"16-D10-40+170\", \"annee\": \"2018\", \"id_ign\": \"TRONROUT0000000041504705\", \"seq\": -1, \"distance\": 19.6219425073674, \"polluant\": \"PM10\", \"unite\": \"tonne\", \"emi\": 0.000236261383902207}, {\"id\": 89723, \"id_comptag\": \"16-D10-40+170\", \"annee\": \"2018\", \"id_ign\": \"TRONROUT0000000041504705\", \"seq\": -1, \"distance\": 19.6219425073674, \"polluant\": \"PM2_5\", \"unite\": \"tonne\", \"emi\": 0.000160914674765748}, {\"id\": 89724, \"id_comptag\": \"16-D10-40+170\", \"annee\": \"2018\", \"id_ign\": \"TRONROUT0000000041504705\", \"seq\": -1, \"distance\": 19.6219425073674, \"polluant\": \"NOX\", \"unite\": \"tonne\", \"emi\": 0.00283708665401467}, {\"id\": 89725, \"id_comptag\": \"16-D10-40+170\", \"annee\": \"2018\", \"id_ign\": \"TRONROUT0000000041504705\", \"seq\": -1, \"distance\": 19.6219425073674, \"polluant\": \"COVNM\", \"unite\": \"tonne\", \"emi\": 0.000287647354741232}, {\"id\": 89726, \"id_comptag\": \"16-D10-40+170\", \"annee\": \"2018\", \"id_ign\": \"TRONROUT0000000041504705\", \"seq\": 108, \"distance\": 19.6219425073674, \"polluant\": \"NOX\", \"unite\": \"tonne\", \"emi\": 0.00720538012914574}, {\"id\": 89727, \"id_comptag\": \"16-D10-40+170\", \"annee\": \"2018\", \"id_ign\": \"TRONROUT0000000041504705\", \"seq\": 108, \"distance\": 19.6219425073674, \"polluant\": \"PM2_5\", \"unite\": \"tonne\", \"emi\": 0.000407072009353125}, {\"id\": 89728, \"id_comptag\": \"16-D10-40+170\", \"annee\": \"2018\", \"id_ign\": \"TRONROUT0000000041504705\", \"seq\": 108, \"distance\": 19.6219425073674, \"polluant\": \"PM10\", \"unite\": \"tonne\", \"emi\": 0.00059749904516279}, {\"id\": 89729, \"id_comptag\": \"16-D10-40+170\", \"annee\": \"2018\", \"id_ign\": \"TRONROUT0000000041504705\", \"seq\": 108, \"distance\": 19.6219425073674, \"polluant\": \"COVNM\", \"unite\": \"tonne\", \"emi\": 0.000725053158994981}, {\"id\": 89730, \"id_comptag\": \"16-D10-40+170\", \"annee\": \"2018\", \"id_ign\": \"TRONROUT0000000041504705\", \"seq\": 109, \"distance\": 19.6219425073674, \"polluant\": \"COVNM\", \"unite\": \"tonne\", \"emi\": 0.000725053158994981}, {\"id\": 89731, \"id_comptag\": \"16-D10-40+170\", \"annee\": \"2018\", \"id_ign\": \"TRONROUT0000000041504705\", \"seq\": 109, \"distance\": 19.6219425073674, \"polluant\": \"PM10\", \"unite\": \"tonne\", \"emi\": 0.00059749904516279}, {\"id\": 89732, \"id_comptag\": \"16-D10-40+170\", \"annee\": \"2018\", \"id_ign\": \"TRONROUT0000000041504705\", \"seq\": 109, \"distance\": 19.6219425073674, \"polluant\": \"NOX\", \"unite\": \"tonne\", \"emi\": 0.00720538012914574}, {\"id\": 89733, \"id_comptag\": \"16-D10-40+170\", \"annee\": \"2018\", \"id_ign\": \"TRONROUT0000000041504705\", \"seq\": 109, \"distance\": 19.6219425073674, \"polluant\": \"PM2_5\", \"unite\": \"tonne\", \"emi\": 0.000407072009353125}, {\"id\": 89734, \"id_comptag\": \"16-D10-40+170\", \"annee\": \"2018\", \"id_ign\": \"TRONROUT0000000041504707\", \"seq\": -1, \"distance\": 19.663996073268, \"polluant\": \"bruit\", \"unite\": \"dB(A)\", \"emi\": null}, {\"id\": 89735, \"id_comptag\": \"16-D10-40+170\", \"annee\": \"2018\", \"id_ign\": \"TRONROUT0000000041504707\", \"seq\": 109, \"distance\": 19.663996073268, \"polluant\": \"bruit\", \"unite\": \"dB(A)\", \"emi\": 68.88}, {\"id\": 89736, \"id_comptag\": \"16-D10-40+170\", \"annee\": \"2018\", \"id_ign\": \"TRONROUT0000000041504707\", \"seq\": 110, \"distance\": 19.663996073268, \"polluant\": \"bruit\", \"unite\": \"dB(A)\", \"emi\": 68.88}, {\"id\": 89737, \"id_comptag\": \"16-D10-40+170\", \"annee\": \"2018\", \"id_ign\": \"TRONROUT0000000041504707\", \"seq\": -1, \"distance\": 19.663996073268, \"polluant\": \"COVNM\", \"unite\": \"tonne\", \"emi\": 0.000725053158994981}, {\"id\": 89738, \"id_comptag\": \"16-D10-40+170\", \"annee\": \"2018\", \"id_ign\": \"TRONROUT0000000041504707\", \"seq\": -1, \"distance\": 19.663996073268, \"polluant\": \"PM10\", \"unite\": \"tonne\", \"emi\": 0.00059749904516279}, {\"id\": 89739, \"id_comptag\": \"16-D10-40+170\", \"annee\": \"2018\", \"id_ign\": \"TRONROUT0000000041504707\", \"seq\": -1, \"distance\": 19.663996073268, \"polluant\": \"PM2_5\", \"unite\": \"tonne\", \"emi\": 0.000407072009353125}, {\"id\": 89740, \"id_comptag\": \"16-D10-40+170\", \"annee\": \"2018\", \"id_ign\": \"TRONROUT0000000041504707\", \"seq\": -1, \"distance\": 19.663996073268, \"polluant\": \"NOX\", \"unite\": \"tonne\", \"emi\": 0.00720538012914574}, {\"id\": 89741, \"id_comptag\": \"16-D10-40+170\", \"annee\": \"2018\", \"id_ign\": \"TRONROUT0000000041504707\", \"seq\": 109, \"distance\": 19.663996073268, \"polluant\": \"PM2_5\", \"unite\": \"tonne\", \"emi\": 0.00043506686555716}, {\"id\": 89742, \"id_comptag\": \"16-D10-40+170\", \"annee\": \"2018\", \"id_ign\": \"TRONROUT0000000041504707\", \"seq\": 109, \"distance\": 19.663996073268, \"polluant\": \"COVNM\", \"unite\": \"tonne\", \"emi\": 0.000774915980461387}, {\"id\": 89743, \"id_comptag\": \"16-D10-40+170\", \"annee\": \"2018\", \"id_ign\": \"TRONROUT0000000041504707\", \"seq\": 109, \"distance\": 19.663996073268, \"polluant\": \"PM10\", \"unite\": \"tonne\", \"emi\": 0.000638589809123598}, {\"id\": 89744, \"id_comptag\": \"16-D10-40+170\", \"annee\": \"2018\", \"id_ign\": \"TRONROUT0000000041504707\", \"seq\": 109, \"distance\": 19.663996073268, \"polluant\": \"NOX\", \"unite\": \"tonne\", \"emi\": 0.00770090322082526}, {\"id\": 89745, \"id_comptag\": \"16-D10-40+170\", \"annee\": \"2018\", \"id_ign\": \"TRONROUT0000000041504707\", \"seq\": 110, \"distance\": 19.663996073268, \"polluant\": \"PM10\", \"unite\": \"tonne\", \"emi\": 0.000638589809123598}, {\"id\": 89746, \"id_comptag\": \"16-D10-40+170\", \"annee\": \"2018\", \"id_ign\": \"TRONROUT0000000041504707\", \"seq\": 110, \"distance\": 19.663996073268, \"polluant\": \"COVNM\", \"unite\": \"tonne\", \"emi\": 0.000774915980461387}, {\"id\": 89747, \"id_comptag\": \"16-D10-40+170\", \"annee\": \"2018\", \"id_ign\": \"TRONROUT0000000041504707\", \"seq\": 110, \"distance\": 19.663996073268, \"polluant\": \"NOX\", \"unite\": \"tonne\", \"emi\": 0.00770090322082526}, {\"id\": 89748, \"id_comptag\": \"16-D10-40+170\", \"annee\": \"2018\", \"id_ign\": \"TRONROUT0000000041504707\", \"seq\": 110, \"distance\": 19.663996073268, \"polluant\": \"PM2_5\", \"unite\": \"tonne\", \"emi\": 0.00043506686555716}, {\"id\": 89749, \"id_comptag\": \"16-D10-40+170\", \"annee\": \"2018\", \"id_ign\": \"TRONROUT0000000041505349\", \"seq\": -1, \"distance\": 19.7089417160081, \"polluant\": \"NOX\", \"unite\": \"tonne\", \"emi\": 0.00770090322082526}, {\"id\": 89750, \"id_comptag\": \"16-D10-40+170\", \"annee\": \"2018\", \"id_ign\": \"TRONROUT0000000041505349\", \"seq\": -1, \"distance\": 19.7089417160081, \"polluant\": \"PM2_5\", \"unite\": \"tonne\", \"emi\": 0.00043506686555716}, {\"id\": 89751, \"id_comptag\": \"16-D10-40+170\", \"annee\": \"2018\", \"id_ign\": \"TRONROUT0000000041505349\", \"seq\": -1, \"distance\": 19.7089417160081, \"polluant\": \"COVNM\", \"unite\": \"tonne\", \"emi\": 0.000774915980461387}, {\"id\": 89752, \"id_comptag\": \"16-D10-40+170\", \"annee\": \"2018\", \"id_ign\": \"TRONROUT0000000041505349\", \"seq\": -1, \"distance\": 19.7089417160081, \"polluant\": \"PM10\", \"unite\": \"tonne\", \"emi\": 0.000638589809123598}, {\"id\": 89753, \"id_comptag\": \"16-D10-40+170\", \"annee\": \"2018\", \"id_ign\": \"TRONROUT0000000041505349\", \"seq\": 110, \"distance\": 19.7089417160081, \"polluant\": \"COVNM\", \"unite\": \"tonne\", \"emi\": 0.0020529595954551}, {\"id\": 89754, \"id_comptag\": \"16-D10-40+170\", \"annee\": \"2018\", \"id_ign\": \"TRONROUT0000000041505349\", \"seq\": 110, \"distance\": 19.7089417160081, \"polluant\": \"PM2_5\", \"unite\": \"tonne\", \"emi\": 0.00115260843605051}, {\"id\": 89755, \"id_comptag\": \"16-D10-40+170\", \"annee\": \"2018\", \"id_ign\": \"TRONROUT0000000041505349\", \"seq\": 110, \"distance\": 19.7089417160081, \"polluant\": \"NOX\", \"unite\": \"tonne\", \"emi\": 0.0204017513633558}, {\"id\": 89756, \"id_comptag\": \"16-D10-40+170\", \"annee\": \"2018\", \"id_ign\": \"TRONROUT0000000041505349\", \"seq\": 110, \"distance\": 19.7089417160081, \"polluant\": \"PM10\", \"unite\": \"tonne\", \"emi\": 0.00169179512263969}, {\"id\": 89757, \"id_comptag\": \"16-D10-40+170\", \"annee\": \"2018\", \"id_ign\": \"TRONROUT0000000041505349\", \"seq\": 111, \"distance\": 19.7089417160081, \"polluant\": \"NOX\", \"unite\": \"tonne\", \"emi\": 0.0204017513633558}, {\"id\": 89758, \"id_comptag\": \"16-D10-40+170\", \"annee\": \"2018\", \"id_ign\": \"TRONROUT0000000041505349\", \"seq\": 111, \"distance\": 19.7089417160081, \"polluant\": \"COVNM\", \"unite\": \"tonne\", \"emi\": 0.0020529595954551}, {\"id\": 89759, \"id_comptag\": \"16-D10-40+170\", \"annee\": \"2018\", \"id_ign\": \"TRONROUT0000000041505349\", \"seq\": 111, \"distance\": 19.7089417160081, \"polluant\": \"PM10\", \"unite\": \"tonne\", \"emi\": 0.00169179512263969}, {\"id\": 89760, \"id_comptag\": \"16-D10-40+170\", \"annee\": \"2018\", \"id_ign\": \"TRONROUT0000000041505349\", \"seq\": 111, \"distance\": 19.7089417160081, \"polluant\": \"PM2_5\", \"unite\": \"tonne\", \"emi\": 0.00115260843605051}, {\"id\": 89761, \"id_comptag\": \"16-D10-40+170\", \"annee\": \"2018\", \"id_ign\": \"TRONROUT0000000041505341\", \"seq\": -1, \"distance\": 19.8280147392308, \"polluant\": \"bruit\", \"unite\": \"dB(A)\", \"emi\": null}, {\"id\": 89762, \"id_comptag\": \"16-D10-40+170\", \"annee\": \"2018\", \"id_ign\": \"TRONROUT0000000041505341\", \"seq\": 111, \"distance\": 19.8280147392308, \"polluant\": \"bruit\", \"unite\": \"dB(A)\", \"emi\": 68.88}, {\"id\": 89763, \"id_comptag\": \"16-D10-40+170\", \"annee\": \"2018\", \"id_ign\": \"TRONROUT0000000041505341\", \"seq\": -1, \"distance\": 19.8280147392308, \"polluant\": \"NOX\", \"unite\": \"tonne\", \"emi\": 0.0204017513633558}, {\"id\": 89764, \"id_comptag\": \"16-D10-40+170\", \"annee\": \"2018\", \"id_ign\": \"TRONROUT0000000041505341\", \"seq\": -1, \"distance\": 19.8280147392308, \"polluant\": \"COVNM\", \"unite\": \"tonne\", \"emi\": 0.0020529595954551}, {\"id\": 89765, \"id_comptag\": \"16-D10-40+170\", \"annee\": \"2018\", \"id_ign\": \"TRONROUT0000000041505341\", \"seq\": -1, \"distance\": 19.8280147392308, \"polluant\": \"PM10\", \"unite\": \"tonne\", \"emi\": 0.00169179512263969}, {\"id\": 89766, \"id_comptag\": \"16-D10-40+170\", \"annee\": \"2018\", \"id_ign\": \"TRONROUT0000000041505341\", \"seq\": -1, \"distance\": 19.8280147392308, \"polluant\": \"PM2_5\", \"unite\": \"tonne\", \"emi\": 0.00115260843605051}, {\"id\": 89767, \"id_comptag\": \"16-D10-40+170\", \"annee\": \"2018\", \"id_ign\": \"TRONROUT0000000041505341\", \"seq\": 111, \"distance\": 19.8280147392308, \"polluant\": \"PM2_5\", \"unite\": \"tonne\", \"emi\": 0.000918496315061532}, {\"id\": 89768, \"id_comptag\": \"16-D10-40+170\", \"annee\": \"2018\", \"id_ign\": \"TRONROUT0000000041505341\", \"seq\": 111, \"distance\": 19.8280147392308, \"polluant\": \"NOX\", \"unite\": \"tonne\", \"emi\": 0.0161940086633876}, {\"id\": 89769, \"id_comptag\": \"16-D10-40+170\", \"annee\": \"2018\", \"id_ign\": \"TRONROUT0000000041505341\", \"seq\": 111, \"distance\": 19.8280147392308, \"polluant\": \"COVNM\", \"unite\": \"tonne\", \"emi\": 0.00164188279130932}, {\"id\": 89770, \"id_comptag\": \"16-D10-40+170\", \"annee\": \"2018\", \"id_ign\": \"TRONROUT0000000041505341\", \"seq\": 111, \"distance\": 19.8280147392308, \"polluant\": \"PM10\", \"unite\": \"tonne\", \"emi\": 0.00134857315419753}, {\"id\": 89771, \"id_comptag\": \"16-D10-40+170\", \"annee\": \"2018\", \"id_ign\": \"TRONROUT0000000041505341\", \"seq\": 112, \"distance\": 19.8280147392308, \"polluant\": \"PM10\", \"unite\": \"tonne\", \"emi\": 0.00134857315419753}, {\"id\": 89772, \"id_comptag\": \"16-D10-40+170\", \"annee\": \"2018\", \"id_ign\": \"TRONROUT0000000041505341\", \"seq\": 112, \"distance\": 19.8280147392308, \"polluant\": \"PM2_5\", \"unite\": \"tonne\", \"emi\": 0.000918496315061532}, {\"id\": 89773, \"id_comptag\": \"16-D10-40+170\", \"annee\": \"2018\", \"id_ign\": \"TRONROUT0000000041505341\", \"seq\": 112, \"distance\": 19.8280147392308, \"polluant\": \"COVNM\", \"unite\": \"tonne\", \"emi\": 0.00164188279130932}, {\"id\": 89774, \"id_comptag\": \"16-D10-40+170\", \"annee\": \"2018\", \"id_ign\": \"TRONROUT0000000041505341\", \"seq\": 112, \"distance\": 19.8280147392308, \"polluant\": \"NOX\", \"unite\": \"tonne\", \"emi\": 0.0161940086633876}, {\"id\": 89775, \"id_comptag\": \"16-D10-40+170\", \"annee\": \"2018\", \"id_ign\": \"TRONROUT0000000041505352\", \"seq\": 113, \"distance\": 19.9229921389473, \"polluant\": \"bruit\", \"unite\": \"dB(A)\", \"emi\": 68.88}, {\"id\": 89776, \"id_comptag\": \"16-D10-40+170\", \"annee\": \"2018\", \"id_ign\": \"TRONROUT0000000041505352\", \"seq\": -1, \"distance\": 19.9229921389473, \"polluant\": \"PM10\", \"unite\": \"tonne\", \"emi\": 0.00134857315419753}, {\"id\": 89777, \"id_comptag\": \"16-D10-40+170\", \"annee\": \"2018\", \"id_ign\": \"TRONROUT0000000041505352\", \"seq\": -1, \"distance\": 19.9229921389473, \"polluant\": \"NOX\", \"unite\": \"tonne\", \"emi\": 0.0161940086633876}, {\"id\": 89778, \"id_comptag\": \"16-D10-40+170\", \"annee\": \"2018\", \"id_ign\": \"TRONROUT0000000041505352\", \"seq\": -1, \"distance\": 19.9229921389473, \"polluant\": \"COVNM\", \"unite\": \"tonne\", \"emi\": 0.00164188279130932}, {\"id\": 89779, \"id_comptag\": \"16-D10-40+170\", \"annee\": \"2018\", \"id_ign\": \"TRONROUT0000000041505352\", \"seq\": -1, \"distance\": 19.9229921389473, \"polluant\": \"PM2_5\", \"unite\": \"tonne\", \"emi\": 0.000918496315061532}, {\"id\": 89780, \"id_comptag\": \"16-D10-40+170\", \"annee\": \"2018\", \"id_ign\": \"TRONROUT0000000041505352\", \"seq\": 112, \"distance\": 19.9229921389473, \"polluant\": \"PM2_5\", \"unite\": \"tonne\", \"emi\": 0.000504090957847437}, {\"id\": 89781, \"id_comptag\": \"16-D10-40+170\", \"annee\": \"2018\", \"id_ign\": \"TRONROUT0000000041505352\", \"seq\": 112, \"distance\": 19.9229921389473, \"polluant\": \"PM10\", \"unite\": \"tonne\", \"emi\": 0.000739903159806209}, {\"id\": 89782, \"id_comptag\": \"16-D10-40+170\", \"annee\": \"2018\", \"id_ign\": \"TRONROUT0000000041505352\", \"seq\": 112, \"distance\": 19.9229921389473, \"polluant\": \"COVNM\", \"unite\": \"tonne\", \"emi\": 0.000897857708244032}, {\"id\": 89783, \"id_comptag\": \"16-D10-40+170\", \"annee\": \"2018\", \"id_ign\": \"TRONROUT0000000041505352\", \"seq\": 112, \"distance\": 19.9229921389473, \"polluant\": \"NOX\", \"unite\": \"tonne\", \"emi\": 0.00892266451021239}, {\"id\": 89784, \"id_comptag\": \"16-D10-40+170\", \"annee\": \"2018\", \"id_ign\": \"TRONROUT0000000041505352\", \"seq\": 113, \"distance\": 19.9229921389473, \"polluant\": \"NOX\", \"unite\": \"tonne\", \"emi\": 0.00892266451021239}, {\"id\": 89785, \"id_comptag\": \"16-D10-40+170\", \"annee\": \"2018\", \"id_ign\": \"TRONROUT0000000041505352\", \"seq\": 113, \"distance\": 19.9229921389473, \"polluant\": \"PM10\", \"unite\": \"tonne\", \"emi\": 0.000739903159806209}, {\"id\": 89786, \"id_comptag\": \"16-D10-40+170\", \"annee\": \"2018\", \"id_ign\": \"TRONROUT0000000041505352\", \"seq\": 113, \"distance\": 19.9229921389473, \"polluant\": \"COVNM\", \"unite\": \"tonne\", \"emi\": 0.000897857708244032}, {\"id\": 89787, \"id_comptag\": \"16-D10-40+170\", \"annee\": \"2018\", \"id_ign\": \"TRONROUT0000000041505352\", \"seq\": 113, \"distance\": 19.9229921389473, \"polluant\": \"PM2_5\", \"unite\": \"tonne\", \"emi\": 0.000504090957847437}, {\"id\": 89788, \"id_comptag\": \"16-D10-40+170\", \"annee\": \"2018\", \"id_ign\": \"TRONROUT0000000041505351\", \"seq\": -1, \"distance\": 19.975068483743, \"polluant\": \"NOX\", \"unite\": \"tonne\", \"emi\": 0.00892266451021239}, {\"id\": 89789, \"id_comptag\": \"16-D10-40+170\", \"annee\": \"2018\", \"id_ign\": \"TRONROUT0000000041505351\", \"seq\": -1, \"distance\": 19.975068483743, \"polluant\": \"PM2_5\", \"unite\": \"tonne\", \"emi\": 0.000504090957847437}, {\"id\": 89790, \"id_comptag\": \"16-D10-40+170\", \"annee\": \"2018\", \"id_ign\": \"TRONROUT0000000041505351\", \"seq\": -1, \"distance\": 19.975068483743, \"polluant\": \"PM10\", \"unite\": \"tonne\", \"emi\": 0.000739903159806209}, {\"id\": 89791, \"id_comptag\": \"16-D10-40+170\", \"annee\": \"2018\", \"id_ign\": \"TRONROUT0000000041505351\", \"seq\": -1, \"distance\": 19.975068483743, \"polluant\": \"COVNM\", \"unite\": \"tonne\", \"emi\": 0.000897857708244032}, {\"id\": 89792, \"id_comptag\": \"16-D10-40+170\", \"annee\": \"2018\", \"id_ign\": \"TRONROUT0000000041505351\", \"seq\": 113, \"distance\": 19.975068483743, \"polluant\": \"PM10\", \"unite\": \"tonne\", \"emi\": 0.000640604320663167}, {\"id\": 89793, \"id_comptag\": \"16-D10-40+170\", \"annee\": \"2018\", \"id_ign\": \"TRONROUT0000000041505351\", \"seq\": 113, \"distance\": 19.975068483743, \"polluant\": \"COVNM\", \"unite\": \"tonne\", \"emi\": 0.000779933373922994}, {\"id\": 89794, \"id_comptag\": \"16-D10-40+170\", \"annee\": \"2018\", \"id_ign\": \"TRONROUT0000000041505351\", \"seq\": 113, \"distance\": 19.975068483743, \"polluant\": \"NOX\", \"unite\": \"tonne\", \"emi\": 0.00769253924885958}, {\"id\": 89795, \"id_comptag\": \"16-D10-40+170\", \"annee\": \"2018\", \"id_ign\": \"TRONROUT0000000041505351\", \"seq\": 113, \"distance\": 19.975068483743, \"polluant\": \"PM2_5\", \"unite\": \"tonne\", \"emi\": 0.000436307593778061}, {\"id\": 89796, \"id_comptag\": \"16-D10-40+170\", \"annee\": \"2018\", \"id_ign\": \"TRONROUT0000000041505351\", \"seq\": 114, \"distance\": 19.975068483743, \"polluant\": \"PM2_5\", \"unite\": \"tonne\", \"emi\": 0.000436307593778061}, {\"id\": 89797, \"id_comptag\": \"16-D10-40+170\", \"annee\": \"2018\", \"id_ign\": \"TRONROUT0000000041505351\", \"seq\": 114, \"distance\": 19.975068483743, \"polluant\": \"NOX\", \"unite\": \"tonne\", \"emi\": 0.00769253924885958}, {\"id\": 89798, \"id_comptag\": \"16-D10-40+170\", \"annee\": \"2018\", \"id_ign\": \"TRONROUT0000000041505351\", \"seq\": 114, \"distance\": 19.975068483743, \"polluant\": \"PM10\", \"unite\": \"tonne\", \"emi\": 0.000640604320663167}, {\"id\": 89799, \"id_comptag\": \"16-D10-40+170\", \"annee\": \"2018\", \"id_ign\": \"TRONROUT0000000041505351\", \"seq\": 114, \"distance\": 19.975068483743, \"polluant\": \"COVNM\", \"unite\": \"tonne\", \"emi\": 0.000779933373922994}, {\"id\": 89800, \"id_comptag\": \"16-D10-40+170\", \"annee\": \"2018\", \"id_ign\": \"TRONROUT0000000041505342\", \"seq\": -1, \"distance\": 20.0201850074068, \"polluant\": \"bruit\", \"unite\": \"dB(A)\", \"emi\": null}, {\"id\": 89801, \"id_comptag\": \"16-D10-40+170\", \"annee\": \"2018\", \"id_ign\": \"TRONROUT0000000041505342\", \"seq\": 114, \"distance\": 20.0201850074068, \"polluant\": \"bruit\", \"unite\": \"dB(A)\", \"emi\": 68.88}, {\"id\": 89802, \"id_comptag\": \"16-D10-40+170\", \"annee\": \"2018\", \"id_ign\": \"TRONROUT0000000041505342\", \"seq\": -1, \"distance\": 20.0201850074068, \"polluant\": \"COVNM\", \"unite\": \"tonne\", \"emi\": 0.000779933373922994}, {\"id\": 89803, \"id_comptag\": \"16-D10-40+170\", \"annee\": \"2018\", \"id_ign\": \"TRONROUT0000000041505342\", \"seq\": -1, \"distance\": 20.0201850074068, \"polluant\": \"NOX\", \"unite\": \"tonne\", \"emi\": 0.00769253924885958}, {\"id\": 89804, \"id_comptag\": \"16-D10-40+170\", \"annee\": \"2018\", \"id_ign\": \"TRONROUT0000000041505342\", \"seq\": -1, \"distance\": 20.0201850074068, \"polluant\": \"PM2_5\", \"unite\": \"tonne\", \"emi\": 0.000436307593778061}, {\"id\": 89805, \"id_comptag\": \"16-D10-40+170\", \"annee\": \"2018\", \"id_ign\": \"TRONROUT0000000041505342\", \"seq\": -1, \"distance\": 20.0201850074068, \"polluant\": \"PM10\", \"unite\": \"tonne\", \"emi\": 0.000640604320663167}, {\"id\": 89806, \"id_comptag\": \"16-D10-40+170\", \"annee\": \"2018\", \"id_ign\": \"TRONROUT0000000041505342\", \"seq\": 114, \"distance\": 20.0201850074068, \"polluant\": \"COVNM\", \"unite\": \"tonne\", \"emi\": 0.00220371502174355}, {\"id\": 89807, \"id_comptag\": \"16-D10-40+170\", \"annee\": \"2018\", \"id_ign\": \"TRONROUT0000000041505342\", \"seq\": 114, \"distance\": 20.0201850074068, \"polluant\": \"PM2_5\", \"unite\": \"tonne\", \"emi\": 0.00123724818079032}, {\"id\": 89808, \"id_comptag\": \"16-D10-40+170\", \"annee\": \"2018\", \"id_ign\": \"TRONROUT0000000041505342\", \"seq\": 114, \"distance\": 20.0201850074068, \"polluant\": \"NOX\", \"unite\": \"tonne\", \"emi\": 0.0218999175867061}, {\"id\": 89809, \"id_comptag\": \"16-D10-40+170\", \"annee\": \"2018\", \"id_ign\": \"TRONROUT0000000041505342\", \"seq\": 114, \"distance\": 20.0201850074068, \"polluant\": \"PM10\", \"unite\": \"tonne\", \"emi\": 0.00181602908003023}, {\"id\": 89810, \"id_comptag\": \"16-D10-40+170\", \"annee\": \"2018\", \"id_ign\": \"TRONROUT0000000041505342\", \"seq\": 115, \"distance\": 20.0201850074068, \"polluant\": \"PM10\", \"unite\": \"tonne\", \"emi\": 0.00181602908003023}, {\"id\": 89811, \"id_comptag\": \"16-D10-40+170\", \"annee\": \"2018\", \"id_ign\": \"TRONROUT0000000041505342\", \"seq\": 115, \"distance\": 20.0201850074068, \"polluant\": \"PM2_5\", \"unite\": \"tonne\", \"emi\": 0.00123724818079032}, {\"id\": 89812, \"id_comptag\": \"16-D10-40+170\", \"annee\": \"2018\", \"id_ign\": \"TRONROUT0000000041505342\", \"seq\": 115, \"distance\": 20.0201850074068, \"polluant\": \"NOX\", \"unite\": \"tonne\", \"emi\": 0.0218999175867061}, {\"id\": 89813, \"id_comptag\": \"16-D10-40+170\", \"annee\": \"2018\", \"id_ign\": \"TRONROUT0000000041505342\", \"seq\": 115, \"distance\": 20.0201850074068, \"polluant\": \"COVNM\", \"unite\": \"tonne\", \"emi\": 0.00220371502174355}, {\"id\": 89814, \"id_comptag\": \"16-D10-40+170\", \"annee\": \"2018\", \"id_ign\": \"TRONROUT0000000328783738\", \"seq\": -1, \"distance\": 20.1480019457145, \"polluant\": \"NOX\", \"unite\": \"tonne\", \"emi\": 0.0218999175867061}, {\"id\": 89815, \"id_comptag\": \"16-D10-40+170\", \"annee\": \"2018\", \"id_ign\": \"TRONROUT0000000328783738\", \"seq\": -1, \"distance\": 20.1480019457145, \"polluant\": \"COVNM\", \"unite\": \"tonne\", \"emi\": 0.00220371502174355}, {\"id\": 89816, \"id_comptag\": \"16-D10-40+170\", \"annee\": \"2018\", \"id_ign\": \"TRONROUT0000000328783738\", \"seq\": -1, \"distance\": 20.1480019457145, \"polluant\": \"PM2_5\", \"unite\": \"tonne\", \"emi\": 0.00123724818079032}, {\"id\": 89817, \"id_comptag\": \"16-D10-40+170\", \"annee\": \"2018\", \"id_ign\": \"TRONROUT0000000328783738\", \"seq\": -1, \"distance\": 20.1480019457145, \"polluant\": \"PM10\", \"unite\": \"tonne\", \"emi\": 0.00181602908003023}, {\"id\": 89818, \"id_comptag\": \"16-D10-40+170\", \"annee\": \"2018\", \"id_ign\": \"TRONROUT0000000328783738\", \"seq\": 115, \"distance\": 20.1480019457145, \"polluant\": \"NOX\", \"unite\": \"tonne\", \"emi\": 0.0188019812222968}, {\"id\": 89819, \"id_comptag\": \"16-D10-40+170\", \"annee\": \"2018\", \"id_ign\": \"TRONROUT0000000328783738\", \"seq\": 115, \"distance\": 20.1480019457145, \"polluant\": \"PM10\", \"unite\": \"tonne\", \"emi\": 0.00154385176206851}, {\"id\": 89820, \"id_comptag\": \"16-D10-40+170\", \"annee\": \"2018\", \"id_ign\": \"TRONROUT0000000328783738\", \"seq\": 115, \"distance\": 20.1480019457145, \"polluant\": \"COVNM\", \"unite\": \"tonne\", \"emi\": 0.0018707374130347}, {\"id\": 89821, \"id_comptag\": \"16-D10-40+170\", \"annee\": \"2018\", \"id_ign\": \"TRONROUT0000000328783738\", \"seq\": 115, \"distance\": 20.1480019457145, \"polluant\": \"PM2_5\", \"unite\": \"tonne\", \"emi\": 0.00105244111458881}, {\"id\": 89822, \"id_comptag\": \"16-D10-40+170\", \"annee\": \"2018\", \"id_ign\": \"TRONROUT0000000328783738\", \"seq\": 116, \"distance\": 20.1480019457145, \"polluant\": \"NOX\", \"unite\": \"tonne\", \"emi\": 0.0188019812222968}, {\"id\": 89823, \"id_comptag\": \"16-D10-40+170\", \"annee\": \"2018\", \"id_ign\": \"TRONROUT0000000328783738\", \"seq\": 116, \"distance\": 20.1480019457145, \"polluant\": \"PM10\", \"unite\": \"tonne\", \"emi\": 0.00154385176206851}, {\"id\": 89824, \"id_comptag\": \"16-D10-40+170\", \"annee\": \"2018\", \"id_ign\": \"TRONROUT0000000328783738\", \"seq\": 116, \"distance\": 20.1480019457145, \"polluant\": \"PM2_5\", \"unite\": \"tonne\", \"emi\": 0.00105244111458881}, {\"id\": 89825, \"id_comptag\": \"16-D10-40+170\", \"annee\": \"2018\", \"id_ign\": \"TRONROUT0000000328783738\", \"seq\": 116, \"distance\": 20.1480019457145, \"polluant\": \"COVNM\", \"unite\": \"tonne\", \"emi\": 0.0018707374130347}, {\"id\": 89826, \"id_comptag\": \"16-D10-40+170\", \"annee\": \"2018\", \"id_ign\": \"TRONROUT0000000041505350\", \"seq\": -1, \"distance\": 20.256524193935, \"polluant\": \"PM10\", \"unite\": \"tonne\", \"emi\": 0.00154385176206851}, {\"id\": 89827, \"id_comptag\": \"16-D10-40+170\", \"annee\": \"2018\", \"id_ign\": \"TRONROUT0000000041505350\", \"seq\": -1, \"distance\": 20.256524193935, \"polluant\": \"NOX\", \"unite\": \"tonne\", \"emi\": 0.0188019812222968}, {\"id\": 89828, \"id_comptag\": \"16-D10-40+170\", \"annee\": \"2018\", \"id_ign\": \"TRONROUT0000000041505350\", \"seq\": -1, \"distance\": 20.256524193935, \"polluant\": \"COVNM\", \"unite\": \"tonne\", \"emi\": 0.0018707374130347}, {\"id\": 89829, \"id_comptag\": \"16-D10-40+170\", \"annee\": \"2018\", \"id_ign\": \"TRONROUT0000000041505350\", \"seq\": -1, \"distance\": 20.256524193935, \"polluant\": \"PM2_5\", \"unite\": \"tonne\", \"emi\": 0.00105244111458881}, {\"id\": 89830, \"id_comptag\": \"16-D10-40+170\", \"annee\": \"2018\", \"id_ign\": \"TRONROUT0000000041505350\", \"seq\": 116, \"distance\": 20.256524193935, \"polluant\": \"PM10\", \"unite\": \"tonne\", \"emi\": 0.000917105021969853}, {\"id\": 89831, \"id_comptag\": \"16-D10-40+170\", \"annee\": \"2018\", \"id_ign\": \"TRONROUT0000000041505350\", \"seq\": 116, \"distance\": 20.256524193935, \"polluant\": \"PM2_5\", \"unite\": \"tonne\", \"emi\": 0.000625188930201263}, {\"id\": 89832, \"id_comptag\": \"16-D10-40+170\", \"annee\": \"2018\", \"id_ign\": \"TRONROUT0000000041505350\", \"seq\": 116, \"distance\": 20.256524193935, \"polluant\": \"COVNM\", \"unite\": \"tonne\", \"emi\": 0.00111128718341605}, {\"id\": 89833, \"id_comptag\": \"16-D10-40+170\", \"annee\": \"2018\", \"id_ign\": \"TRONROUT0000000041505350\", \"seq\": 116, \"distance\": 20.256524193935, \"polluant\": \"NOX\", \"unite\": \"tonne\", \"emi\": 0.0111690719443478}, {\"id\": 89834, \"id_comptag\": \"16-D10-40+170\", \"annee\": \"2018\", \"id_ign\": \"TRONROUT0000000041505350\", \"seq\": 117, \"distance\": 20.256524193935, \"polluant\": \"PM2_5\", \"unite\": \"tonne\", \"emi\": 0.000625188930201263}, {\"id\": 89835, \"id_comptag\": \"16-D10-40+170\", \"annee\": \"2018\", \"id_ign\": \"TRONROUT0000000041505350\", \"seq\": 117, \"distance\": 20.256524193935, \"polluant\": \"NOX\", \"unite\": \"tonne\", \"emi\": 0.0111690719443478}, {\"id\": 89836, \"id_comptag\": \"16-D10-40+170\", \"annee\": \"2018\", \"id_ign\": \"TRONROUT0000000041505350\", \"seq\": 117, \"distance\": 20.256524193935, \"polluant\": \"PM10\", \"unite\": \"tonne\", \"emi\": 0.000917105021969853}, {\"id\": 89837, \"id_comptag\": \"16-D10-40+170\", \"annee\": \"2018\", \"id_ign\": \"TRONROUT0000000041505350\", \"seq\": 117, \"distance\": 20.256524193935, \"polluant\": \"COVNM\", \"unite\": \"tonne\", \"emi\": 0.00111128718341605}, {\"id\": 89838, \"id_comptag\": \"16-D10-40+170\", \"annee\": \"2018\", \"id_ign\": \"TRONROUT0000000041505343\", \"seq\": -1, \"distance\": 20.3209904213824, \"polluant\": \"COVNM\", \"unite\": \"tonne\", \"emi\": 0.00111128718341605}, {\"id\": 89839, \"id_comptag\": \"16-D10-40+170\", \"annee\": \"2018\", \"id_ign\": \"TRONROUT0000000041505343\", \"seq\": -1, \"distance\": 20.3209904213824, \"polluant\": \"PM10\", \"unite\": \"tonne\", \"emi\": 0.000917105021969853}, {\"id\": 89840, \"id_comptag\": \"16-D10-40+170\", \"annee\": \"2018\", \"id_ign\": \"TRONROUT0000000041505343\", \"seq\": -1, \"distance\": 20.3209904213824, \"polluant\": \"NOX\", \"unite\": \"tonne\", \"emi\": 0.0111690719443478}, {\"id\": 89841, \"id_comptag\": \"16-D10-40+170\", \"annee\": \"2018\", \"id_ign\": \"TRONROUT0000000041505343\", \"seq\": -1, \"distance\": 20.3209904213824, \"polluant\": \"PM2_5\", \"unite\": \"tonne\", \"emi\": 0.000625188930201263}, {\"id\": 89842, \"id_comptag\": \"16-D10-40+170\", \"annee\": \"2018\", \"id_ign\": \"TRONROUT0000000041505343\", \"seq\": 117, \"distance\": 20.3209904213824, \"polluant\": \"PM2_5\", \"unite\": \"tonne\", \"emi\": 0.000265825841063974}, {\"id\": 89843, \"id_comptag\": \"16-D10-40+170\", \"annee\": \"2018\", \"id_ign\": \"TRONROUT0000000041505343\", \"seq\": 117, \"distance\": 20.3209904213824, \"polluant\": \"NOX\", \"unite\": \"tonne\", \"emi\": 0.00470525162380859}, {\"id\": 89844, \"id_comptag\": \"16-D10-40+170\", \"annee\": \"2018\", \"id_ign\": \"TRONROUT0000000041505343\", \"seq\": 117, \"distance\": 20.3209904213824, \"polluant\": \"PM10\", \"unite\": \"tonne\", \"emi\": 0.000390178353131468}, {\"id\": 89845, \"id_comptag\": \"16-D10-40+170\", \"annee\": \"2018\", \"id_ign\": \"TRONROUT0000000041505343\", \"seq\": 117, \"distance\": 20.3209904213824, \"polluant\": \"COVNM\", \"unite\": \"tonne\", \"emi\": 0.00047347363949737}, {\"id\": 89846, \"id_comptag\": \"16-D10-40+170\", \"annee\": \"2018\", \"id_ign\": \"TRONROUT0000000041505343\", \"seq\": 118, \"distance\": 20.3209904213824, \"polluant\": \"PM2_5\", \"unite\": \"tonne\", \"emi\": 0.000265825841063974}, {\"id\": 89847, \"id_comptag\": \"16-D10-40+170\", \"annee\": \"2018\", \"id_ign\": \"TRONROUT0000000041505343\", \"seq\": 118, \"distance\": 20.3209904213824, \"polluant\": \"COVNM\", \"unite\": \"tonne\", \"emi\": 0.00047347363949737}, {\"id\": 89848, \"id_comptag\": \"16-D10-40+170\", \"annee\": \"2018\", \"id_ign\": \"TRONROUT0000000041505343\", \"seq\": 118, \"distance\": 20.3209904213824, \"polluant\": \"NOX\", \"unite\": \"tonne\", \"emi\": 0.00470525162380859}, {\"id\": 89849, \"id_comptag\": \"16-D10-40+170\", \"annee\": \"2018\", \"id_ign\": \"TRONROUT0000000041505343\", \"seq\": 118, \"distance\": 20.3209904213824, \"polluant\": \"PM10\", \"unite\": \"tonne\", \"emi\": 0.000390178353131468}, {\"id\": 89850, \"id_comptag\": \"16-D10-40+170\", \"annee\": \"2018\", \"id_ign\": \"TRONROUT0000000041505354\", \"seq\": -1, \"distance\": 20.3484522076718, \"polluant\": \"COVNM\", \"unite\": \"tonne\", \"emi\": 0.00047347363949737}, {\"id\": 89851, \"id_comptag\": \"16-D10-40+170\", \"annee\": \"2018\", \"id_ign\": \"TRONROUT0000000041505354\", \"seq\": -1, \"distance\": 20.3484522076718, \"polluant\": \"NOX\", \"unite\": \"tonne\", \"emi\": 0.00470525162380859}, {\"id\": 89852, \"id_comptag\": \"16-D10-40+170\", \"annee\": \"2018\", \"id_ign\": \"TRONROUT0000000041505354\", \"seq\": -1, \"distance\": 20.3484522076718, \"polluant\": \"PM2_5\", \"unite\": \"tonne\", \"emi\": 0.000265825841063974}, {\"id\": 89853, \"id_comptag\": \"16-D10-40+170\", \"annee\": \"2018\", \"id_ign\": \"TRONROUT0000000041505354\", \"seq\": -1, \"distance\": 20.3484522076718, \"polluant\": \"PM10\", \"unite\": \"tonne\", \"emi\": 0.000390178353131468}, {\"id\": 89854, \"id_comptag\": \"16-D10-40+170\", \"annee\": \"2018\", \"id_ign\": \"TRONROUT0000000041505354\", \"seq\": 118, \"distance\": 20.3484522076718, \"polluant\": \"COVNM\", \"unite\": \"tonne\", \"emi\": 0.000734961857328891}, {\"id\": 89855, \"id_comptag\": \"16-D10-40+170\", \"annee\": \"2018\", \"id_ign\": \"TRONROUT0000000041505354\", \"seq\": 118, \"distance\": 20.3484522076718, \"polluant\": \"PM2_5\", \"unite\": \"tonne\", \"emi\": 0.000412635123851446}, {\"id\": 89856, \"id_comptag\": \"16-D10-40+170\", \"annee\": \"2018\", \"id_ign\": \"TRONROUT0000000041505354\", \"seq\": 118, \"distance\": 20.3484522076718, \"polluant\": \"PM10\", \"unite\": \"tonne\", \"emi\": 0.000605664567538451}, {\"id\": 89857, \"id_comptag\": \"16-D10-40+170\", \"annee\": \"2018\", \"id_ign\": \"TRONROUT0000000041505354\", \"seq\": 118, \"distance\": 20.3484522076718, \"polluant\": \"NOX\", \"unite\": \"tonne\", \"emi\": 0.00730385006503269}, {\"id\": 89858, \"id_comptag\": \"16-D10-40+170\", \"annee\": \"2018\", \"id_ign\": \"TRONROUT0000000041505354\", \"seq\": 119, \"distance\": 20.3484522076718, \"polluant\": \"PM10\", \"unite\": \"tonne\", \"emi\": 0.000605664567538451}, {\"id\": 89859, \"id_comptag\": \"16-D10-40+170\", \"annee\": \"2018\", \"id_ign\": \"TRONROUT0000000041505354\", \"seq\": 119, \"distance\": 20.3484522076718, \"polluant\": \"PM2_5\", \"unite\": \"tonne\", \"emi\": 0.000412635123851446}, {\"id\": 89860, \"id_comptag\": \"16-D10-40+170\", \"annee\": \"2018\", \"id_ign\": \"TRONROUT0000000041505354\", \"seq\": 119, \"distance\": 20.3484522076718, \"polluant\": \"COVNM\", \"unite\": \"tonne\", \"emi\": 0.000734961857328891}, {\"id\": 89861, \"id_comptag\": \"16-D10-40+170\", \"annee\": \"2018\", \"id_ign\": \"TRONROUT0000000041505354\", \"seq\": 119, \"distance\": 20.3484522076718, \"polluant\": \"NOX\", \"unite\": \"tonne\", \"emi\": 0.00730385006503269}, {\"id\": 89862, \"id_comptag\": \"16-D10-40+170\", \"annee\": \"2018\", \"id_ign\": \"TRONROUT0000000041505361\", \"seq\": 120, \"distance\": 20.3910804846721, \"polluant\": \"bruit\", \"unite\": \"dB(A)\", \"emi\": 68.88}, {\"id\": 89863, \"id_comptag\": \"16-D10-40+170\", \"annee\": \"2018\", \"id_ign\": \"TRONROUT0000000041505361\", \"seq\": -1, \"distance\": 20.3910804846721, \"polluant\": \"NOX\", \"unite\": \"tonne\", \"emi\": 0.00730385006503269}, {\"id\": 89864, \"id_comptag\": \"16-D10-40+170\", \"annee\": \"2018\", \"id_ign\": \"TRONROUT0000000041505361\", \"seq\": -1, \"distance\": 20.3910804846721, \"polluant\": \"PM2_5\", \"unite\": \"tonne\", \"emi\": 0.000412635123851446}, {\"id\": 89865, \"id_comptag\": \"16-D10-40+170\", \"annee\": \"2018\", \"id_ign\": \"TRONROUT0000000041505361\", \"seq\": -1, \"distance\": 20.3910804846721, \"polluant\": \"COVNM\", \"unite\": \"tonne\", \"emi\": 0.000734961857328891}, {\"id\": 89866, \"id_comptag\": \"16-D10-40+170\", \"annee\": \"2018\", \"id_ign\": \"TRONROUT0000000041505361\", \"seq\": -1, \"distance\": 20.3910804846721, \"polluant\": \"PM10\", \"unite\": \"tonne\", \"emi\": 0.000605664567538451}, {\"id\": 89867, \"id_comptag\": \"16-D10-40+170\", \"annee\": \"2018\", \"id_ign\": \"TRONROUT0000000041505361\", \"seq\": 119, \"distance\": 20.3910804846721, \"polluant\": \"PM10\", \"unite\": \"tonne\", \"emi\": 0.00513896368838229}, {\"id\": 89868, \"id_comptag\": \"16-D10-40+170\", \"annee\": \"2018\", \"id_ign\": \"TRONROUT0000000041505361\", \"seq\": 119, \"distance\": 20.3910804846721, \"polluant\": \"COVNM\", \"unite\": \"tonne\", \"emi\": 0.00623602980856129}, {\"id\": 89869, \"id_comptag\": \"16-D10-40+170\", \"annee\": \"2018\", \"id_ign\": \"TRONROUT0000000041505361\", \"seq\": 119, \"distance\": 20.3910804846721, \"polluant\": \"NOX\", \"unite\": \"tonne\", \"emi\": 0.0619719598624343}, {\"id\": 89870, \"id_comptag\": \"16-D10-40+170\", \"annee\": \"2018\", \"id_ign\": \"TRONROUT0000000041505361\", \"seq\": 119, \"distance\": 20.3910804846721, \"polluant\": \"PM2_5\", \"unite\": \"tonne\", \"emi\": 0.00350114078266447}, {\"id\": 89871, \"id_comptag\": \"16-D10-40+170\", \"annee\": \"2018\", \"id_ign\": \"TRONROUT0000000041505361\", \"seq\": 120, \"distance\": 20.3910804846721, \"polluant\": \"PM10\", \"unite\": \"tonne\", \"emi\": 0.00513896368838229}, {\"id\": 89872, \"id_comptag\": \"16-D10-40+170\", \"annee\": \"2018\", \"id_ign\": \"TRONROUT0000000041505361\", \"seq\": 120, \"distance\": 20.3910804846721, \"polluant\": \"PM2_5\", \"unite\": \"tonne\", \"emi\": 0.00350114078266447}, {\"id\": 89873, \"id_comptag\": \"16-D10-40+170\", \"annee\": \"2018\", \"id_ign\": \"TRONROUT0000000041505361\", \"seq\": 120, \"distance\": 20.3910804846721, \"polluant\": \"NOX\", \"unite\": \"tonne\", \"emi\": 0.0619719598624343}, {\"id\": 89874, \"id_comptag\": \"16-D10-40+170\", \"annee\": \"2018\", \"id_ign\": \"TRONROUT0000000041505361\", \"seq\": 120, \"distance\": 20.3910804846721, \"polluant\": \"COVNM\", \"unite\": \"tonne\", \"emi\": 0.00623602980856129}, {\"id\": 89875, \"id_comptag\": \"16-D10-40+170\", \"annee\": \"2018\", \"id_ign\": \"TRONROUT0000000041505362\", \"seq\": -1, \"distance\": 20.7527743649883, \"polluant\": \"bruit\", \"unite\": \"dB(A)\", \"emi\": 68.88}, {\"id\": 89876, \"id_comptag\": \"16-D10-40+170\", \"annee\": \"2018\", \"id_ign\": \"TRONROUT0000000041505362\", \"seq\": 120, \"distance\": 20.7527743649883, \"polluant\": \"bruit\", \"unite\": \"dB(A)\", \"emi\": 72.61}, {\"id\": 89877, \"id_comptag\": \"16-D10-40+170\", \"annee\": \"2018\", \"id_ign\": \"TRONROUT0000000041505362\", \"seq\": -1, \"distance\": 20.7527743649883, \"polluant\": \"COVNM\", \"unite\": \"tonne\", \"emi\": 0.00623602980856129}, {\"id\": 89878, \"id_comptag\": \"16-D10-40+170\", \"annee\": \"2018\", \"id_ign\": \"TRONROUT0000000041505362\", \"seq\": -1, \"distance\": 20.7527743649883, \"polluant\": \"PM10\", \"unite\": \"tonne\", \"emi\": 0.00513896368838229}, {\"id\": 89879, \"id_comptag\": \"16-D10-40+170\", \"annee\": \"2018\", \"id_ign\": \"TRONROUT0000000041505362\", \"seq\": -1, \"distance\": 20.7527743649883, \"polluant\": \"NOX\", \"unite\": \"tonne\", \"emi\": 0.0619719598624343}, {\"id\": 89880, \"id_comptag\": \"16-D10-40+170\", \"annee\": \"2018\", \"id_ign\": \"TRONROUT0000000041505362\", \"seq\": -1, \"distance\": 20.7527743649883, \"polluant\": \"PM2_5\", \"unite\": \"tonne\", \"emi\": 0.00350114078266447}, {\"id\": 89881, \"id_comptag\": \"16-D10-40+170\", \"annee\": \"2018\", \"id_ign\": \"TRONROUT0000000041505362\", \"seq\": 120, \"distance\": 20.7527743649883, \"polluant\": \"NOX\", \"unite\": \"tonne\", \"emi\": 0.00347479088810739}, {\"id\": 89882, \"id_comptag\": \"16-D10-40+170\", \"annee\": \"2018\", \"id_ign\": \"TRONROUT0000000041505362\", \"seq\": 120, \"distance\": 20.7527743649883, \"polluant\": \"PM10\", \"unite\": \"tonne\", \"emi\": 0.000270286255346969}, {\"id\": 89883, \"id_comptag\": \"16-D10-40+170\", \"annee\": \"2018\", \"id_ign\": \"TRONROUT0000000041505362\", \"seq\": 120, \"distance\": 20.7527743649883, \"polluant\": \"PM2_5\", \"unite\": \"tonne\", \"emi\": 0.000189617786808413}, {\"id\": 89884, \"id_comptag\": \"16-D10-40+170\", \"annee\": \"2018\", \"id_ign\": \"TRONROUT0000000041505362\", \"seq\": 120, \"distance\": 20.7527743649883, \"polluant\": \"COVNM\", \"unite\": \"tonne\", \"emi\": 0.000342401221957588}, {\"id\": 89885, \"id_comptag\": \"16-D10-40+170\", \"annee\": \"2018\", \"id_ign\": \"TRONROUT0000000041505362\", \"seq\": 121, \"distance\": 20.7527743649883, \"polluant\": \"PM10\", \"unite\": \"tonne\", \"emi\": 0.000270286255346969}, {\"id\": 89886, \"id_comptag\": \"16-D10-40+170\", \"annee\": \"2018\", \"id_ign\": \"TRONROUT0000000041505362\", \"seq\": 121, \"distance\": 20.7527743649883, \"polluant\": \"NOX\", \"unite\": \"tonne\", \"emi\": 0.00347479088810739}, {\"id\": 89887, \"id_comptag\": \"16-D10-40+170\", \"annee\": \"2018\", \"id_ign\": \"TRONROUT0000000041505362\", \"seq\": 121, \"distance\": 20.7527743649883, \"polluant\": \"COVNM\", \"unite\": \"tonne\", \"emi\": 0.000342401221957588}, {\"id\": 89888, \"id_comptag\": \"16-D10-40+170\", \"annee\": \"2018\", \"id_ign\": \"TRONROUT0000000041505362\", \"seq\": 121, \"distance\": 20.7527743649883, \"polluant\": \"PM2_5\", \"unite\": \"tonne\", \"emi\": 0.000189617786808413}, {\"id\": 89889, \"id_comptag\": \"16-D10-40+170\", \"annee\": \"2018\", \"id_ign\": \"TRONROUT0000000041505358\", \"seq\": -1, \"distance\": 20.7753531160606, \"polluant\": \"PM2_5\", \"unite\": \"tonne\", \"emi\": 0.000189617786808413}, {\"id\": 89890, \"id_comptag\": \"16-D10-40+170\", \"annee\": \"2018\", \"id_ign\": \"TRONROUT0000000041505358\", \"seq\": -1, \"distance\": 20.7753531160606, \"polluant\": \"NOX\", \"unite\": \"tonne\", \"emi\": 0.00347479088810739}, {\"id\": 89891, \"id_comptag\": \"16-D10-40+170\", \"annee\": \"2018\", \"id_ign\": \"TRONROUT0000000041505358\", \"seq\": -1, \"distance\": 20.7753531160606, \"polluant\": \"PM10\", \"unite\": \"tonne\", \"emi\": 0.000270286255346969}, {\"id\": 89892, \"id_comptag\": \"16-D10-40+170\", \"annee\": \"2018\", \"id_ign\": \"TRONROUT0000000041505358\", \"seq\": -1, \"distance\": 20.7753531160606, \"polluant\": \"COVNM\", \"unite\": \"tonne\", \"emi\": 0.000342401221957588}, {\"id\": 89893, \"id_comptag\": \"16-D10-40+170\", \"annee\": \"2018\", \"id_ign\": \"TRONROUT0000000041505358\", \"seq\": 121, \"distance\": 20.7753531160606, \"polluant\": \"PM2_5\", \"unite\": \"tonne\", \"emi\": 0.000105200745138041}, {\"id\": 89894, \"id_comptag\": \"16-D10-40+170\", \"annee\": \"2018\", \"id_ign\": \"TRONROUT0000000041505358\", \"seq\": 121, \"distance\": 20.7753531160606, \"polluant\": \"COVNM\", \"unite\": \"tonne\", \"emi\": 0.000189122862407144}, {\"id\": 89895, \"id_comptag\": \"16-D10-40+170\", \"annee\": \"2018\", \"id_ign\": \"TRONROUT0000000041505358\", \"seq\": 121, \"distance\": 20.7753531160606, \"polluant\": \"PM10\", \"unite\": \"tonne\", \"emi\": 0.000149846969885894}, {\"id\": 89896, \"id_comptag\": \"16-D10-40+170\", \"annee\": \"2018\", \"id_ign\": \"TRONROUT0000000041505358\", \"seq\": 121, \"distance\": 20.7753531160606, \"polluant\": \"NOX\", \"unite\": \"tonne\", \"emi\": 0.00196878520562773}, {\"id\": 89897, \"id_comptag\": \"16-D10-40+170\", \"annee\": \"2018\", \"id_ign\": \"TRONROUT0000000041505358\", \"seq\": 122, \"distance\": 20.7753531160606, \"polluant\": \"PM10\", \"unite\": \"tonne\", \"emi\": 0.000149846969885894}, {\"id\": 89898, \"id_comptag\": \"16-D10-40+170\", \"annee\": \"2018\", \"id_ign\": \"TRONROUT0000000041505358\", \"seq\": 122, \"distance\": 20.7753531160606, \"polluant\": \"COVNM\", \"unite\": \"tonne\", \"emi\": 0.000189122862407144}, {\"id\": 89899, \"id_comptag\": \"16-D10-40+170\", \"annee\": \"2018\", \"id_ign\": \"TRONROUT0000000041505358\", \"seq\": 122, \"distance\": 20.7753531160606, \"polluant\": \"NOX\", \"unite\": \"tonne\", \"emi\": 0.00196878520562773}, {\"id\": 89900, \"id_comptag\": \"16-D10-40+170\", \"annee\": \"2018\", \"id_ign\": \"TRONROUT0000000041505358\", \"seq\": 122, \"distance\": 20.7753531160606, \"polluant\": \"PM2_5\", \"unite\": \"tonne\", \"emi\": 0.000105200745138041}, {\"id\": 89901, \"id_comptag\": \"16-D10-40+170\", \"annee\": \"2018\", \"id_ign\": \"TRONROUT0000000041505923\", \"seq\": -1, \"distance\": 20.7878493988482, \"polluant\": \"PM10\", \"unite\": \"tonne\", \"emi\": 0.000149846969885894}, {\"id\": 89902, \"id_comptag\": \"16-D10-40+170\", \"annee\": \"2018\", \"id_ign\": \"TRONROUT0000000041505923\", \"seq\": -1, \"distance\": 20.7878493988482, \"polluant\": \"PM2_5\", \"unite\": \"tonne\", \"emi\": 0.000105200745138041}, {\"id\": 89903, \"id_comptag\": \"16-D10-40+170\", \"annee\": \"2018\", \"id_ign\": \"TRONROUT0000000041505923\", \"seq\": -1, \"distance\": 20.7878493988482, \"polluant\": \"COVNM\", \"unite\": \"tonne\", \"emi\": 0.000189122862407144}, {\"id\": 89904, \"id_comptag\": \"16-D10-40+170\", \"annee\": \"2018\", \"id_ign\": \"TRONROUT0000000041505923\", \"seq\": -1, \"distance\": 20.7878493988482, \"polluant\": \"NOX\", \"unite\": \"tonne\", \"emi\": 0.00196878520562773}, {\"id\": 89905, \"id_comptag\": \"16-D10-40+170\", \"annee\": \"2018\", \"id_ign\": \"TRONROUT0000000041505923\", \"seq\": 122, \"distance\": 20.7878493988482, \"polluant\": \"COVNM\", \"unite\": \"tonne\", \"emi\": 0.000905663223505651}, {\"id\": 89906, \"id_comptag\": \"16-D10-40+170\", \"annee\": \"2018\", \"id_ign\": \"TRONROUT0000000041505923\", \"seq\": 122, \"distance\": 20.7878493988482, \"polluant\": \"PM2_5\", \"unite\": \"tonne\", \"emi\": 0.000503124524382181}, {\"id\": 89907, \"id_comptag\": \"16-D10-40+170\", \"annee\": \"2018\", \"id_ign\": \"TRONROUT0000000041505923\", \"seq\": 122, \"distance\": 20.7878493988482, \"polluant\": \"NOX\", \"unite\": \"tonne\", \"emi\": 0.00931137926282541}, {\"id\": 89908, \"id_comptag\": \"16-D10-40+170\", \"annee\": \"2018\", \"id_ign\": \"TRONROUT0000000041505923\", \"seq\": 122, \"distance\": 20.7878493988482, \"polluant\": \"PM10\", \"unite\": \"tonne\", \"emi\": 0.000716985777440636}, {\"id\": 89909, \"id_comptag\": \"16-D10-40+170\", \"annee\": \"2018\", \"id_ign\": \"TRONROUT0000000041505923\", \"seq\": 123, \"distance\": 20.7878493988482, \"polluant\": \"PM10\", \"unite\": \"tonne\", \"emi\": 0.000716985777440636}, {\"id\": 89910, \"id_comptag\": \"16-D10-40+170\", \"annee\": \"2018\", \"id_ign\": \"TRONROUT0000000041505923\", \"seq\": 123, \"distance\": 20.7878493988482, \"polluant\": \"NOX\", \"unite\": \"tonne\", \"emi\": 0.00931137926282541}, {\"id\": 89911, \"id_comptag\": \"16-D10-40+170\", \"annee\": \"2018\", \"id_ign\": \"TRONROUT0000000041505923\", \"seq\": 123, \"distance\": 20.7878493988482, \"polluant\": \"COVNM\", \"unite\": \"tonne\", \"emi\": 0.000905663223505651}, {\"id\": 89912, \"id_comptag\": \"16-D10-40+170\", \"annee\": \"2018\", \"id_ign\": \"TRONROUT0000000041505923\", \"seq\": 123, \"distance\": 20.7878493988482, \"polluant\": \"PM2_5\", \"unite\": \"tonne\", \"emi\": 0.000503124524382181}, {\"id\": 89913, \"id_comptag\": \"16-D10-40+170\", \"annee\": \"2018\", \"id_ign\": \"TRONROUT0000000041505924\", \"seq\": -1, \"distance\": 20.8477082270162, \"polluant\": \"PM2_5\", \"unite\": \"tonne\", \"emi\": 0.000503124524382181}, {\"id\": 89914, \"id_comptag\": \"16-D10-40+170\", \"annee\": \"2018\", \"id_ign\": \"TRONROUT0000000041505924\", \"seq\": -1, \"distance\": 20.8477082270162, \"polluant\": \"NOX\", \"unite\": \"tonne\", \"emi\": 0.00931137926282541}, {\"id\": 89915, \"id_comptag\": \"16-D10-40+170\", \"annee\": \"2018\", \"id_ign\": \"TRONROUT0000000041505924\", \"seq\": -1, \"distance\": 20.8477082270162, \"polluant\": \"COVNM\", \"unite\": \"tonne\", \"emi\": 0.000905663223505651}, {\"id\": 89916, \"id_comptag\": \"16-D10-40+170\", \"annee\": \"2018\", \"id_ign\": \"TRONROUT0000000041505924\", \"seq\": -1, \"distance\": 20.8477082270162, \"polluant\": \"PM10\", \"unite\": \"tonne\", \"emi\": 0.000716985777440636}, {\"id\": 89917, \"id_comptag\": \"16-D10-40+170\", \"annee\": \"2018\", \"id_ign\": \"TRONROUT0000000041505924\", \"seq\": 123, \"distance\": 20.8477082270162, \"polluant\": \"PM2_5\", \"unite\": \"tonne\", \"emi\": 0.00191769806450549}, {\"id\": 89918, \"id_comptag\": \"16-D10-40+170\", \"annee\": \"2018\", \"id_ign\": \"TRONROUT0000000041505924\", \"seq\": 123, \"distance\": 20.8477082270162, \"polluant\": \"COVNM\", \"unite\": \"tonne\", \"emi\": 0.00345200547109744}, {\"id\": 89919, \"id_comptag\": \"16-D10-40+170\", \"annee\": \"2018\", \"id_ign\": \"TRONROUT0000000041505924\", \"seq\": 123, \"distance\": 20.8477082270162, \"polluant\": \"PM10\", \"unite\": \"tonne\", \"emi\": 0.00273284678254211}, {\"id\": 89920, \"id_comptag\": \"16-D10-40+170\", \"annee\": \"2018\", \"id_ign\": \"TRONROUT0000000041505924\", \"seq\": 123, \"distance\": 20.8477082270162, \"polluant\": \"NOX\", \"unite\": \"tonne\", \"emi\": 0.0354910427237151}, {\"id\": 89921, \"id_comptag\": \"16-D10-40+170\", \"annee\": \"2018\", \"id_ign\": \"TRONROUT0000000041505924\", \"seq\": 124, \"distance\": 20.8477082270162, \"polluant\": \"PM2_5\", \"unite\": \"tonne\", \"emi\": 0.00191769806450549}, {\"id\": 89922, \"id_comptag\": \"16-D10-40+170\", \"annee\": \"2018\", \"id_ign\": \"TRONROUT0000000041505924\", \"seq\": 124, \"distance\": 20.8477082270162, \"polluant\": \"PM10\", \"unite\": \"tonne\", \"emi\": 0.00273284678254211}, {\"id\": 89923, \"id_comptag\": \"16-D10-40+170\", \"annee\": \"2018\", \"id_ign\": \"TRONROUT0000000041505924\", \"seq\": 124, \"distance\": 20.8477082270162, \"polluant\": \"COVNM\", \"unite\": \"tonne\", \"emi\": 0.00345200547109744}, {\"id\": 89924, \"id_comptag\": \"16-D10-40+170\", \"annee\": \"2018\", \"id_ign\": \"TRONROUT0000000041505924\", \"seq\": 124, \"distance\": 20.8477082270162, \"polluant\": \"NOX\", \"unite\": \"tonne\", \"emi\": 0.0354910427237151}, {\"id\": 89925, \"id_comptag\": \"16-D10-40+170\", \"annee\": \"2018\", \"id_ign\": \"TRONROUT0000000041505901\", \"seq\": -1, \"distance\": 21.0758647834119, \"polluant\": \"PM10\", \"unite\": \"tonne\", \"emi\": 0.00273284678254211}, {\"id\": 89926, \"id_comptag\": \"16-D10-40+170\", \"annee\": \"2018\", \"id_ign\": \"TRONROUT0000000041505901\", \"seq\": -1, \"distance\": 21.0758647834119, \"polluant\": \"PM2_5\", \"unite\": \"tonne\", \"emi\": 0.00191769806450549}, {\"id\": 89927, \"id_comptag\": \"16-D10-40+170\", \"annee\": \"2018\", \"id_ign\": \"TRONROUT0000000041505901\", \"seq\": -1, \"distance\": 21.0758647834119, \"polluant\": \"COVNM\", \"unite\": \"tonne\", \"emi\": 0.00345200547109744}, {\"id\": 89928, \"id_comptag\": \"16-D10-40+170\", \"annee\": \"2018\", \"id_ign\": \"TRONROUT0000000041505901\", \"seq\": -1, \"distance\": 21.0758647834119, \"polluant\": \"NOX\", \"unite\": \"tonne\", \"emi\": 0.0354910427237151}, {\"id\": 89929, \"id_comptag\": \"16-D10-40+170\", \"annee\": \"2018\", \"id_ign\": \"TRONROUT0000000041505901\", \"seq\": 124, \"distance\": 21.0758647834119, \"polluant\": \"COVNM\", \"unite\": \"tonne\", \"emi\": 0.0022789553061451}, {\"id\": 89930, \"id_comptag\": \"16-D10-40+170\", \"annee\": \"2018\", \"id_ign\": \"TRONROUT0000000041505901\", \"seq\": 124, \"distance\": 21.0758647834119, \"polluant\": \"PM10\", \"unite\": \"tonne\", \"emi\": 0.00179897224746868}, {\"id\": 89931, \"id_comptag\": \"16-D10-40+170\", \"annee\": \"2018\", \"id_ign\": \"TRONROUT0000000041505901\", \"seq\": 124, \"distance\": 21.0758647834119, \"polluant\": \"PM2_5\", \"unite\": \"tonne\", \"emi\": 0.0012620587593582}, {\"id\": 89932, \"id_comptag\": \"16-D10-40+170\", \"annee\": \"2018\", \"id_ign\": \"TRONROUT0000000041505901\", \"seq\": 124, \"distance\": 21.0758647834119, \"polluant\": \"NOX\", \"unite\": \"tonne\", \"emi\": 0.0231275259092908}, {\"id\": 89933, \"id_comptag\": \"16-D10-40+170\", \"annee\": \"2018\", \"id_ign\": \"TRONROUT0000000041505901\", \"seq\": 125, \"distance\": 21.0758647834119, \"polluant\": \"NOX\", \"unite\": \"tonne\", \"emi\": 0.0231275259092908}, {\"id\": 89934, \"id_comptag\": \"16-D10-40+170\", \"annee\": \"2018\", \"id_ign\": \"TRONROUT0000000041505901\", \"seq\": 125, \"distance\": 21.0758647834119, \"polluant\": \"PM10\", \"unite\": \"tonne\", \"emi\": 0.00179897224746868}, {\"id\": 89935, \"id_comptag\": \"16-D10-40+170\", \"annee\": \"2018\", \"id_ign\": \"TRONROUT0000000041505901\", \"seq\": 125, \"distance\": 21.0758647834119, \"polluant\": \"PM2_5\", \"unite\": \"tonne\", \"emi\": 0.0012620587593582}, {\"id\": 89936, \"id_comptag\": \"16-D10-40+170\", \"annee\": \"2018\", \"id_ign\": \"TRONROUT0000000041505901\", \"seq\": 125, \"distance\": 21.0758647834119, \"polluant\": \"COVNM\", \"unite\": \"tonne\", \"emi\": 0.0022789553061451}, {\"id\": 89937, \"id_comptag\": \"16-D10-40+170\", \"annee\": \"2018\", \"id_ign\": \"TRONROUT0000000041505902\", \"seq\": -1, \"distance\": 21.2261445174275, \"polluant\": \"NOX\", \"unite\": \"tonne\", \"emi\": 0.0231275259092908}, {\"id\": 89938, \"id_comptag\": \"16-D10-40+170\", \"annee\": \"2018\", \"id_ign\": \"TRONROUT0000000041505902\", \"seq\": -1, \"distance\": 21.2261445174275, \"polluant\": \"PM10\", \"unite\": \"tonne\", \"emi\": 0.00179897224746868}, {\"id\": 89939, \"id_comptag\": \"16-D10-40+170\", \"annee\": \"2018\", \"id_ign\": \"TRONROUT0000000041505902\", \"seq\": -1, \"distance\": 21.2261445174275, \"polluant\": \"PM2_5\", \"unite\": \"tonne\", \"emi\": 0.0012620587593582}, {\"id\": 89940, \"id_comptag\": \"16-D10-40+170\", \"annee\": \"2018\", \"id_ign\": \"TRONROUT0000000041505902\", \"seq\": -1, \"distance\": 21.2261445174275, \"polluant\": \"COVNM\", \"unite\": \"tonne\", \"emi\": 0.0022789553061451}, {\"id\": 89941, \"id_comptag\": \"16-D10-40+170\", \"annee\": \"2018\", \"id_ign\": \"TRONROUT0000000041505902\", \"seq\": 125, \"distance\": 21.2261445174275, \"polluant\": \"COVNM\", \"unite\": \"tonne\", \"emi\": 0.00263424245725791}, {\"id\": 89942, \"id_comptag\": \"16-D10-40+170\", \"annee\": \"2018\", \"id_ign\": \"TRONROUT0000000041505902\", \"seq\": 125, \"distance\": 21.2261445174275, \"polluant\": \"PM2_5\", \"unite\": \"tonne\", \"emi\": 0.00146340488276099}, {\"id\": 89943, \"id_comptag\": \"16-D10-40+170\", \"annee\": \"2018\", \"id_ign\": \"TRONROUT0000000041505902\", \"seq\": 125, \"distance\": 21.2261445174275, \"polluant\": \"PM10\", \"unite\": \"tonne\", \"emi\": 0.00208544890326156}, {\"id\": 89944, \"id_comptag\": \"16-D10-40+170\", \"annee\": \"2018\", \"id_ign\": \"TRONROUT0000000041505902\", \"seq\": 125, \"distance\": 21.2261445174275, \"polluant\": \"NOX\", \"unite\": \"tonne\", \"emi\": 0.0270833903300397}, {\"id\": 89945, \"id_comptag\": \"16-D10-40+170\", \"annee\": \"2018\", \"id_ign\": \"TRONROUT0000000041505902\", \"seq\": 126, \"distance\": 21.2261445174275, \"polluant\": \"COVNM\", \"unite\": \"tonne\", \"emi\": 0.00263424245725791}, {\"id\": 89946, \"id_comptag\": \"16-D10-40+170\", \"annee\": \"2018\", \"id_ign\": \"TRONROUT0000000041505902\", \"seq\": 126, \"distance\": 21.2261445174275, \"polluant\": \"NOX\", \"unite\": \"tonne\", \"emi\": 0.0270833903300397}, {\"id\": 89947, \"id_comptag\": \"16-D10-40+170\", \"annee\": \"2018\", \"id_ign\": \"TRONROUT0000000041505902\", \"seq\": 126, \"distance\": 21.2261445174275, \"polluant\": \"PM2_5\", \"unite\": \"tonne\", \"emi\": 0.00146340488276099}, {\"id\": 89948, \"id_comptag\": \"16-D10-40+170\", \"annee\": \"2018\", \"id_ign\": \"TRONROUT0000000041505902\", \"seq\": 126, \"distance\": 21.2261445174275, \"polluant\": \"PM10\", \"unite\": \"tonne\", \"emi\": 0.00208544890326156}, {\"id\": 89949, \"id_comptag\": \"16-D10-40+170\", \"annee\": \"2018\", \"id_ign\": \"TRONROUT0000000041505909\", \"seq\": -1, \"distance\": 21.4002519146467, \"polluant\": \"PM10\", \"unite\": \"tonne\", \"emi\": 0.00208544890326156}, {\"id\": 89950, \"id_comptag\": \"16-D10-40+170\", \"annee\": \"2018\", \"id_ign\": \"TRONROUT0000000041505909\", \"seq\": -1, \"distance\": 21.4002519146467, \"polluant\": \"COVNM\", \"unite\": \"tonne\", \"emi\": 0.00263424245725791}, {\"id\": 89951, \"id_comptag\": \"16-D10-40+170\", \"annee\": \"2018\", \"id_ign\": \"TRONROUT0000000041505909\", \"seq\": -1, \"distance\": 21.4002519146467, \"polluant\": \"NOX\", \"unite\": \"tonne\", \"emi\": 0.0270833903300397}, {\"id\": 89952, \"id_comptag\": \"16-D10-40+170\", \"annee\": \"2018\", \"id_ign\": \"TRONROUT0000000041505909\", \"seq\": -1, \"distance\": 21.4002519146467, \"polluant\": \"PM2_5\", \"unite\": \"tonne\", \"emi\": 0.00146340488276099}, {\"id\": 89953, \"id_comptag\": \"16-D10-40+170\", \"annee\": \"2018\", \"id_ign\": \"TRONROUT0000000041505909\", \"seq\": 126, \"distance\": 21.4002519146467, \"polluant\": \"PM10\", \"unite\": \"tonne\", \"emi\": 0.00187419169288854}, {\"id\": 89954, \"id_comptag\": \"16-D10-40+170\", \"annee\": \"2018\", \"id_ign\": \"TRONROUT0000000041505909\", \"seq\": 126, \"distance\": 21.4002519146467, \"polluant\": \"NOX\", \"unite\": \"tonne\", \"emi\": 0.024339826831735}, {\"id\": 89955, \"id_comptag\": \"16-D10-40+170\", \"annee\": \"2018\", \"id_ign\": \"TRONROUT0000000041505909\", \"seq\": 126, \"distance\": 21.4002519146467, \"polluant\": \"COVNM\", \"unite\": \"tonne\", \"emi\": 0.00236739213448273}, {\"id\": 89956, \"id_comptag\": \"16-D10-40+170\", \"annee\": \"2018\", \"id_ign\": \"TRONROUT0000000041505909\", \"seq\": 126, \"distance\": 21.4002519146467, \"polluant\": \"PM2_5\", \"unite\": \"tonne\", \"emi\": 0.00131516110047755}, {\"id\": 89957, \"id_comptag\": \"16-D10-40+170\", \"annee\": \"2018\", \"id_ign\": \"TRONROUT0000000041505909\", \"seq\": 127, \"distance\": 21.4002519146467, \"polluant\": \"PM10\", \"unite\": \"tonne\", \"emi\": 0.00187419169288854}, {\"id\": 89958, \"id_comptag\": \"16-D10-40+170\", \"annee\": \"2018\", \"id_ign\": \"TRONROUT0000000041505909\", \"seq\": 127, \"distance\": 21.4002519146467, \"polluant\": \"NOX\", \"unite\": \"tonne\", \"emi\": 0.024339826831735}, {\"id\": 89959, \"id_comptag\": \"16-D10-40+170\", \"annee\": \"2018\", \"id_ign\": \"TRONROUT0000000041505909\", \"seq\": 127, \"distance\": 21.4002519146467, \"polluant\": \"COVNM\", \"unite\": \"tonne\", \"emi\": 0.00236739213448273}, {\"id\": 89960, \"id_comptag\": \"16-D10-40+170\", \"annee\": \"2018\", \"id_ign\": \"TRONROUT0000000041505909\", \"seq\": 127, \"distance\": 21.4002519146467, \"polluant\": \"PM2_5\", \"unite\": \"tonne\", \"emi\": 0.00131516110047755}, {\"id\": 89961, \"id_comptag\": \"16-D10-40+170\", \"annee\": \"2018\", \"id_ign\": \"TRONROUT0000000041506579\", \"seq\": -1, \"distance\": 21.5567221292985, \"polluant\": \"PM10\", \"unite\": \"tonne\", \"emi\": 0.00187419169288854}, {\"id\": 89962, \"id_comptag\": \"16-D10-40+170\", \"annee\": \"2018\", \"id_ign\": \"TRONROUT0000000041506579\", \"seq\": -1, \"distance\": 21.5567221292985, \"polluant\": \"NOX\", \"unite\": \"tonne\", \"emi\": 0.024339826831735}, {\"id\": 89963, \"id_comptag\": \"16-D10-40+170\", \"annee\": \"2018\", \"id_ign\": \"TRONROUT0000000041506579\", \"seq\": -1, \"distance\": 21.5567221292985, \"polluant\": \"PM2_5\", \"unite\": \"tonne\", \"emi\": 0.00131516110047755}, {\"id\": 89964, \"id_comptag\": \"16-D10-40+170\", \"annee\": \"2018\", \"id_ign\": \"TRONROUT0000000041506579\", \"seq\": -1, \"distance\": 21.5567221292985, \"polluant\": \"COVNM\", \"unite\": \"tonne\", \"emi\": 0.00236739213448273}, {\"id\": 89965, \"id_comptag\": \"16-D10-40+170\", \"annee\": \"2018\", \"id_ign\": \"TRONROUT0000000041506579\", \"seq\": 127, \"distance\": 21.5567221292985, \"polluant\": \"COVNM\", \"unite\": \"tonne\", \"emi\": 0.00321874634579403}, {\"id\": 89966, \"id_comptag\": \"16-D10-40+170\", \"annee\": \"2018\", \"id_ign\": \"TRONROUT0000000041506579\", \"seq\": 127, \"distance\": 21.5567221292985, \"polluant\": \"NOX\", \"unite\": \"tonne\", \"emi\": 0.032664808874074}, {\"id\": 89967, \"id_comptag\": \"16-D10-40+170\", \"annee\": \"2018\", \"id_ign\": \"TRONROUT0000000041506579\", \"seq\": 127, \"distance\": 21.5567221292985, \"polluant\": \"PM10\", \"unite\": \"tonne\", \"emi\": 0.00254082883157516}, {\"id\": 89968, \"id_comptag\": \"16-D10-40+170\", \"annee\": \"2018\", \"id_ign\": \"TRONROUT0000000041506579\", \"seq\": 127, \"distance\": 21.5567221292985, \"polluant\": \"PM2_5\", \"unite\": \"tonne\", \"emi\": 0.00178250403108295}, {\"id\": 89969, \"id_comptag\": \"16-D10-40+170\", \"annee\": \"2018\", \"id_ign\": \"TRONROUT0000000041506579\", \"seq\": 128, \"distance\": 21.5567221292985, \"polluant\": \"NOX\", \"unite\": \"tonne\", \"emi\": 0.032664808874074}, {\"id\": 89970, \"id_comptag\": \"16-D10-40+170\", \"annee\": \"2018\", \"id_ign\": \"TRONROUT0000000041506579\", \"seq\": 128, \"distance\": 21.5567221292985, \"polluant\": \"COVNM\", \"unite\": \"tonne\", \"emi\": 0.00321874634579403}, {\"id\": 89971, \"id_comptag\": \"16-D10-40+170\", \"annee\": \"2018\", \"id_ign\": \"TRONROUT0000000041506579\", \"seq\": 128, \"distance\": 21.5567221292985, \"polluant\": \"PM10\", \"unite\": \"tonne\", \"emi\": 0.00254082883157516}, {\"id\": 89972, \"id_comptag\": \"16-D10-40+170\", \"annee\": \"2018\", \"id_ign\": \"TRONROUT0000000041506579\", \"seq\": 128, \"distance\": 21.5567221292985, \"polluant\": \"PM2_5\", \"unite\": \"tonne\", \"emi\": 0.00178250403108295}, {\"id\": 89973, \"id_comptag\": \"16-D10-40+170\", \"annee\": \"2018\", \"id_ign\": \"TRONROUT0000000041506585\", \"seq\": -1, \"distance\": 21.7689739200226, \"polluant\": \"PM10\", \"unite\": \"tonne\", \"emi\": 0.00254082883157516}, {\"id\": 89974, \"id_comptag\": \"16-D10-40+170\", \"annee\": \"2018\", \"id_ign\": \"TRONROUT0000000041506585\", \"seq\": -1, \"distance\": 21.7689739200226, \"polluant\": \"COVNM\", \"unite\": \"tonne\", \"emi\": 0.00321874634579403}, {\"id\": 89975, \"id_comptag\": \"16-D10-40+170\", \"annee\": \"2018\", \"id_ign\": \"TRONROUT0000000041506585\", \"seq\": -1, \"distance\": 21.7689739200226, \"polluant\": \"NOX\", \"unite\": \"tonne\", \"emi\": 0.032664808874074}, {\"id\": 89976, \"id_comptag\": \"16-D10-40+170\", \"annee\": \"2018\", \"id_ign\": \"TRONROUT0000000041506585\", \"seq\": -1, \"distance\": 21.7689739200226, \"polluant\": \"PM2_5\", \"unite\": \"tonne\", \"emi\": 0.00178250403108295}, {\"id\": 89977, \"id_comptag\": \"16-D10-40+170\", \"annee\": \"2018\", \"id_ign\": \"TRONROUT0000000041506585\", \"seq\": 128, \"distance\": 21.7689739200226, \"polluant\": \"PM2_5\", \"unite\": \"tonne\", \"emi\": 0.00122161181595045}, {\"id\": 89978, \"id_comptag\": \"16-D10-40+170\", \"annee\": \"2018\", \"id_ign\": \"TRONROUT0000000041506585\", \"seq\": 128, \"distance\": 21.7689739200226, \"polluant\": \"PM10\", \"unite\": \"tonne\", \"emi\": 0.00174087776513269}, {\"id\": 89979, \"id_comptag\": \"16-D10-40+170\", \"annee\": \"2018\", \"id_ign\": \"TRONROUT0000000041506585\", \"seq\": 128, \"distance\": 21.7689739200226, \"polluant\": \"COVNM\", \"unite\": \"tonne\", \"emi\": 0.00219899615600106}, {\"id\": 89980, \"id_comptag\": \"16-D10-40+170\", \"annee\": \"2018\", \"id_ign\": \"TRONROUT0000000041506585\", \"seq\": 128, \"distance\": 21.7689739200226, \"polluant\": \"NOX\", \"unite\": \"tonne\", \"emi\": 0.0226085002400379}, {\"id\": 89981, \"id_comptag\": \"16-D10-40+170\", \"annee\": \"2018\", \"id_ign\": \"TRONROUT0000000041506585\", \"seq\": 129, \"distance\": 21.7689739200226, \"polluant\": \"COVNM\", \"unite\": \"tonne\", \"emi\": 0.00219899615600106}, {\"id\": 89982, \"id_comptag\": \"16-D10-40+170\", \"annee\": \"2018\", \"id_ign\": \"TRONROUT0000000041506585\", \"seq\": 129, \"distance\": 21.7689739200226, \"polluant\": \"PM10\", \"unite\": \"tonne\", \"emi\": 0.00174087776513269}, {\"id\": 89983, \"id_comptag\": \"16-D10-40+170\", \"annee\": \"2018\", \"id_ign\": \"TRONROUT0000000041506585\", \"seq\": 129, \"distance\": 21.7689739200226, \"polluant\": \"NOX\", \"unite\": \"tonne\", \"emi\": 0.0226085002400379}, {\"id\": 89984, \"id_comptag\": \"16-D10-40+170\", \"annee\": \"2018\", \"id_ign\": \"TRONROUT0000000041506585\", \"seq\": 129, \"distance\": 21.7689739200226, \"polluant\": \"PM2_5\", \"unite\": \"tonne\", \"emi\": 0.00122161181595045}, {\"id\": 89985, \"id_comptag\": \"16-D10-40+170\", \"annee\": \"2018\", \"id_ign\": \"TRONROUT0000000041506580\", \"seq\": -1, \"distance\": 21.9143141851761, \"polluant\": \"PM10\", \"unite\": \"tonne\", \"emi\": 0.00174087776513269}, {\"id\": 89986, \"id_comptag\": \"16-D10-40+170\", \"annee\": \"2018\", \"id_ign\": \"TRONROUT0000000041506580\", \"seq\": -1, \"distance\": 21.9143141851761, \"polluant\": \"NOX\", \"unite\": \"tonne\", \"emi\": 0.0226085002400379}, {\"id\": 89987, \"id_comptag\": \"16-D10-40+170\", \"annee\": \"2018\", \"id_ign\": \"TRONROUT0000000041506580\", \"seq\": -1, \"distance\": 21.9143141851761, \"polluant\": \"PM2_5\", \"unite\": \"tonne\", \"emi\": 0.00122161181595045}, {\"id\": 89988, \"id_comptag\": \"16-D10-40+170\", \"annee\": \"2018\", \"id_ign\": \"TRONROUT0000000041506580\", \"seq\": -1, \"distance\": 21.9143141851761, \"polluant\": \"COVNM\", \"unite\": \"tonne\", \"emi\": 0.00219899615600106}, {\"id\": 89989, \"id_comptag\": \"16-D10-40+170\", \"annee\": \"2018\", \"id_ign\": \"TRONROUT0000000041506580\", \"seq\": 129, \"distance\": 21.9143141851761, \"polluant\": \"NOX\", \"unite\": \"tonne\", \"emi\": 0.0271448523825815}, {\"id\": 89990, \"id_comptag\": \"16-D10-40+170\", \"annee\": \"2018\", \"id_ign\": \"TRONROUT0000000041506580\", \"seq\": 129, \"distance\": 21.9143141851761, \"polluant\": \"COVNM\", \"unite\": \"tonne\", \"emi\": 0.00260755320973492}, {\"id\": 89991, \"id_comptag\": \"16-D10-40+170\", \"annee\": \"2018\", \"id_ign\": \"TRONROUT0000000041506580\", \"seq\": 129, \"distance\": 21.9143141851761, \"polluant\": \"PM10\", \"unite\": \"tonne\", \"emi\": 0.00206603232587418}, {\"id\": 89992, \"id_comptag\": \"16-D10-40+170\", \"annee\": \"2018\", \"id_ign\": \"TRONROUT0000000041506580\", \"seq\": 129, \"distance\": 21.9143141851761, \"polluant\": \"PM2_5\", \"unite\": \"tonne\", \"emi\": 0.00145046736898817}, {\"id\": 89993, \"id_comptag\": \"16-D10-40+170\", \"annee\": \"2018\", \"id_ign\": \"TRONROUT0000000041506580\", \"seq\": 130, \"distance\": 21.9143141851761, \"polluant\": \"PM10\", \"unite\": \"tonne\", \"emi\": 0.00206603232587418}, {\"id\": 89994, \"id_comptag\": \"16-D10-40+170\", \"annee\": \"2018\", \"id_ign\": \"TRONROUT0000000041506580\", \"seq\": 130, \"distance\": 21.9143141851761, \"polluant\": \"PM2_5\", \"unite\": \"tonne\", \"emi\": 0.00145046736898817}, {\"id\": 89995, \"id_comptag\": \"16-D10-40+170\", \"annee\": \"2018\", \"id_ign\": \"TRONROUT0000000041506580\", \"seq\": 130, \"distance\": 21.9143141851761, \"polluant\": \"NOX\", \"unite\": \"tonne\", \"emi\": 0.0271448523825815}, {\"id\": 89996, \"id_comptag\": \"16-D10-40+170\", \"annee\": \"2018\", \"id_ign\": \"TRONROUT0000000041506580\", \"seq\": 130, \"distance\": 21.9143141851761, \"polluant\": \"COVNM\", \"unite\": \"tonne\", \"emi\": 0.00260755320973492}, {\"id\": 89997, \"id_comptag\": \"16-D10-40+170\", \"annee\": \"2018\", \"id_ign\": \"TRONROUT0000000041506586\", \"seq\": -1, \"distance\": 22.0866081208634, \"polluant\": \"NOX\", \"unite\": \"tonne\", \"emi\": 0.0271448523825815}, {\"id\": 89998, \"id_comptag\": \"16-D10-40+170\", \"annee\": \"2018\", \"id_ign\": \"TRONROUT0000000041506586\", \"seq\": -1, \"distance\": 22.0866081208634, \"polluant\": \"PM10\", \"unite\": \"tonne\", \"emi\": 0.00206603232587418}, {\"id\": 89999, \"id_comptag\": \"16-D10-40+170\", \"annee\": \"2018\", \"id_ign\": \"TRONROUT0000000041506586\", \"seq\": -1, \"distance\": 22.0866081208634, \"polluant\": \"PM2_5\", \"unite\": \"tonne\", \"emi\": 0.00145046736898817}, {\"id\": 90000, \"id_comptag\": \"16-D10-40+170\", \"annee\": \"2018\", \"id_ign\": \"TRONROUT0000000041506586\", \"seq\": -1, \"distance\": 22.0866081208634, \"polluant\": \"COVNM\", \"unite\": \"tonne\", \"emi\": 0.00260755320973492}, {\"id\": 90001, \"id_comptag\": \"16-D10-40+170\", \"annee\": \"2018\", \"id_ign\": \"TRONROUT0000000041506586\", \"seq\": 130, \"distance\": 22.0866081208634, \"polluant\": \"PM10\", \"unite\": \"tonne\", \"emi\": 0.000589773534749137}, {\"id\": 90002, \"id_comptag\": \"16-D10-40+170\", \"annee\": \"2018\", \"id_ign\": \"TRONROUT0000000041506586\", \"seq\": 130, \"distance\": 22.0866081208634, \"polluant\": \"NOX\", \"unite\": \"tonne\", \"emi\": 0.00765929427614208}, {\"id\": 90003, \"id_comptag\": \"16-D10-40+170\", \"annee\": \"2018\", \"id_ign\": \"TRONROUT0000000041506586\", \"seq\": 130, \"distance\": 22.0866081208634, \"polluant\": \"PM2_5\", \"unite\": \"tonne\", \"emi\": 0.000413856925060728}, {\"id\": 90004, \"id_comptag\": \"16-D10-40+170\", \"annee\": \"2018\", \"id_ign\": \"TRONROUT0000000041506586\", \"seq\": 130, \"distance\": 22.0866081208634, \"polluant\": \"COVNM\", \"unite\": \"tonne\", \"emi\": 0.000744974610969113}, {\"id\": 90005, \"id_comptag\": \"16-D10-40+170\", \"annee\": \"2018\", \"id_ign\": \"TRONROUT0000000041506586\", \"seq\": 131, \"distance\": 22.0866081208634, \"polluant\": \"NOX\", \"unite\": \"tonne\", \"emi\": 0.00765929427614208}, {\"id\": 90006, \"id_comptag\": \"16-D10-40+170\", \"annee\": \"2018\", \"id_ign\": \"TRONROUT0000000041506586\", \"seq\": 131, \"distance\": 22.0866081208634, \"polluant\": \"PM2_5\", \"unite\": \"tonne\", \"emi\": 0.000413856925060728}, {\"id\": 90007, \"id_comptag\": \"16-D10-40+170\", \"annee\": \"2018\", \"id_ign\": \"TRONROUT0000000041506586\", \"seq\": 131, \"distance\": 22.0866081208634, \"polluant\": \"PM10\", \"unite\": \"tonne\", \"emi\": 0.000589773534749137}, {\"id\": 90008, \"id_comptag\": \"16-D10-40+170\", \"annee\": \"2018\", \"id_ign\": \"TRONROUT0000000041506586\", \"seq\": 131, \"distance\": 22.0866081208634, \"polluant\": \"COVNM\", \"unite\": \"tonne\", \"emi\": 0.000744974610969113}, {\"id\": 90009, \"id_comptag\": \"16-D10-40+170\", \"annee\": \"2018\", \"id_ign\": \"TRONROUT0000000041506589\", \"seq\": -1, \"distance\": 22.1358464095231, \"polluant\": \"COVNM\", \"unite\": \"tonne\", \"emi\": 0.000744974610969113}, {\"id\": 90010, \"id_comptag\": \"16-D10-40+170\", \"annee\": \"2018\", \"id_ign\": \"TRONROUT0000000041506589\", \"seq\": -1, \"distance\": 22.1358464095231, \"polluant\": \"PM2_5\", \"unite\": \"tonne\", \"emi\": 0.000413856925060728}, {\"id\": 90011, \"id_comptag\": \"16-D10-40+170\", \"annee\": \"2018\", \"id_ign\": \"TRONROUT0000000041506589\", \"seq\": -1, \"distance\": 22.1358464095231, \"polluant\": \"PM10\", \"unite\": \"tonne\", \"emi\": 0.000589773534749137}, {\"id\": 90012, \"id_comptag\": \"16-D10-40+170\", \"annee\": \"2018\", \"id_ign\": \"TRONROUT0000000041506589\", \"seq\": -1, \"distance\": 22.1358464095231, \"polluant\": \"NOX\", \"unite\": \"tonne\", \"emi\": 0.00765929427614208}, {\"id\": 90013, \"id_comptag\": \"16-D10-40+170\", \"annee\": \"2018\", \"id_ign\": \"TRONROUT0000000041506589\", \"seq\": 131, \"distance\": 22.1358464095231, \"polluant\": \"PM10\", \"unite\": \"tonne\", \"emi\": 0.000220722301422201}, {\"id\": 90014, \"id_comptag\": \"16-D10-40+170\", \"annee\": \"2018\", \"id_ign\": \"TRONROUT0000000041506589\", \"seq\": 131, \"distance\": 22.1358464095231, \"polluant\": \"COVNM\", \"unite\": \"tonne\", \"emi\": 0.000279197591490464}, {\"id\": 90015, \"id_comptag\": \"16-D10-40+170\", \"annee\": \"2018\", \"id_ign\": \"TRONROUT0000000041506589\", \"seq\": 131, \"distance\": 22.1358464095231, \"polluant\": \"PM2_5\", \"unite\": \"tonne\", \"emi\": 0.000155119570429098}, {\"id\": 90016, \"id_comptag\": \"16-D10-40+170\", \"annee\": \"2018\", \"id_ign\": \"TRONROUT0000000041506589\", \"seq\": 131, \"distance\": 22.1358464095231, \"polluant\": \"NOX\", \"unite\": \"tonne\", \"emi\": 0.00296630366558621}, {\"id\": 90017, \"id_comptag\": \"16-D10-40+170\", \"annee\": \"2018\", \"id_ign\": \"TRONROUT0000000041506589\", \"seq\": 132, \"distance\": 22.1358464095231, \"polluant\": \"NOX\", \"unite\": \"tonne\", \"emi\": 0.00296630366558621}, {\"id\": 90018, \"id_comptag\": \"16-D10-40+170\", \"annee\": \"2018\", \"id_ign\": \"TRONROUT0000000041506589\", \"seq\": 132, \"distance\": 22.1358464095231, \"polluant\": \"COVNM\", \"unite\": \"tonne\", \"emi\": 0.000279197591490464}, {\"id\": 90019, \"id_comptag\": \"16-D10-40+170\", \"annee\": \"2018\", \"id_ign\": \"TRONROUT0000000041506589\", \"seq\": 132, \"distance\": 22.1358464095231, \"polluant\": \"PM10\", \"unite\": \"tonne\", \"emi\": 0.000220722301422201}, {\"id\": 90020, \"id_comptag\": \"16-D10-40+170\", \"annee\": \"2018\", \"id_ign\": \"TRONROUT0000000041506589\", \"seq\": 132, \"distance\": 22.1358464095231, \"polluant\": \"PM2_5\", \"unite\": \"tonne\", \"emi\": 0.000155119570429098}, {\"id\": 90021, \"id_comptag\": \"16-D10-40+170\", \"annee\": \"2018\", \"id_ign\": \"TRONROUT0000000041506587\", \"seq\": 133, \"distance\": 22.1542083266339, \"polluant\": \"bruit\", \"unite\": \"dB(A)\", \"emi\": 72.61}, {\"id\": 90022, \"id_comptag\": \"16-D10-40+170\", \"annee\": \"2018\", \"id_ign\": \"TRONROUT0000000041506587\", \"seq\": -1, \"distance\": 22.1542083266339, \"polluant\": \"NOX\", \"unite\": \"tonne\", \"emi\": 0.00296630366558621}, {\"id\": 90023, \"id_comptag\": \"16-D10-40+170\", \"annee\": \"2018\", \"id_ign\": \"TRONROUT0000000041506587\", \"seq\": -1, \"distance\": 22.1542083266339, \"polluant\": \"PM2_5\", \"unite\": \"tonne\", \"emi\": 0.000155119570429098}, {\"id\": 90024, \"id_comptag\": \"16-D10-40+170\", \"annee\": \"2018\", \"id_ign\": \"TRONROUT0000000041506587\", \"seq\": -1, \"distance\": 22.1542083266339, \"polluant\": \"PM10\", \"unite\": \"tonne\", \"emi\": 0.000220722301422201}, {\"id\": 90025, \"id_comptag\": \"16-D10-40+170\", \"annee\": \"2018\", \"id_ign\": \"TRONROUT0000000041506587\", \"seq\": -1, \"distance\": 22.1542083266339, \"polluant\": \"COVNM\", \"unite\": \"tonne\", \"emi\": 0.000279197591490464}, {\"id\": 90026, \"id_comptag\": \"16-D10-40+170\", \"annee\": \"2018\", \"id_ign\": \"TRONROUT0000000041506587\", \"seq\": 132, \"distance\": 22.1542083266339, \"polluant\": \"COVNM\", \"unite\": \"tonne\", \"emi\": 0.000541498191545978}, {\"id\": 90027, \"id_comptag\": \"16-D10-40+170\", \"annee\": \"2018\", \"id_ign\": \"TRONROUT0000000041506587\", \"seq\": 132, \"distance\": 22.1542083266339, \"polluant\": \"PM10\", \"unite\": \"tonne\", \"emi\": 0.000429043121329106}, {\"id\": 90028, \"id_comptag\": \"16-D10-40+170\", \"annee\": \"2018\", \"id_ign\": \"TRONROUT0000000041506587\", \"seq\": 132, \"distance\": 22.1542083266339, \"polluant\": \"PM2_5\", \"unite\": \"tonne\", \"emi\": 0.000301211670109465}, {\"id\": 90029, \"id_comptag\": \"16-D10-40+170\", \"annee\": \"2018\", \"id_ign\": \"TRONROUT0000000041506587\", \"seq\": 132, \"distance\": 22.1542083266339, \"polluant\": \"NOX\", \"unite\": \"tonne\", \"emi\": 0.00563704258078964}, {\"id\": 90030, \"id_comptag\": \"16-D10-40+170\", \"annee\": \"2018\", \"id_ign\": \"TRONROUT0000000041506587\", \"seq\": 133, \"distance\": 22.1542083266339, \"polluant\": \"PM2_5\", \"unite\": \"tonne\", \"emi\": 0.000301211670109465}, {\"id\": 90031, \"id_comptag\": \"16-D10-40+170\", \"annee\": \"2018\", \"id_ign\": \"TRONROUT0000000041506587\", \"seq\": 133, \"distance\": 22.1542083266339, \"polluant\": \"COVNM\", \"unite\": \"tonne\", \"emi\": 0.000541498191545978}, {\"id\": 90032, \"id_comptag\": \"16-D10-40+170\", \"annee\": \"2018\", \"id_ign\": \"TRONROUT0000000041506587\", \"seq\": 133, \"distance\": 22.1542083266339, \"polluant\": \"NOX\", \"unite\": \"tonne\", \"emi\": 0.00563704258078964}, {\"id\": 90033, \"id_comptag\": \"16-D10-40+170\", \"annee\": \"2018\", \"id_ign\": \"TRONROUT0000000041506587\", \"seq\": 133, \"distance\": 22.1542083266339, \"polluant\": \"PM10\", \"unite\": \"tonne\", \"emi\": 0.000429043121329106}, {\"id\": 90034, \"id_comptag\": \"16-D10-40+170\", \"annee\": \"2018\", \"id_ign\": \"TRONROUT0000000041507320\", \"seq\": -1, \"distance\": 22.1899877900177, \"polluant\": \"bruit\", \"unite\": \"dB(A)\", \"emi\": 72.61}, {\"id\": 90035, \"id_comptag\": \"16-D10-40+170\", \"annee\": \"2018\", \"id_ign\": \"TRONROUT0000000041507320\", \"seq\": 133, \"distance\": 22.1899877900177, \"polluant\": \"bruit\", \"unite\": \"dB(A)\", \"emi\": 68.88}, {\"id\": 90036, \"id_comptag\": \"16-D10-40+170\", \"annee\": \"2018\", \"id_ign\": \"TRONROUT0000000041507320\", \"seq\": -1, \"distance\": 22.1899877900177, \"polluant\": \"PM10\", \"unite\": \"tonne\", \"emi\": 0.000429043121329106}, {\"id\": 90037, \"id_comptag\": \"16-D10-40+170\", \"annee\": \"2018\", \"id_ign\": \"TRONROUT0000000041507320\", \"seq\": -1, \"distance\": 22.1899877900177, \"polluant\": \"NOX\", \"unite\": \"tonne\", \"emi\": 0.00563704258078964}, {\"id\": 90038, \"id_comptag\": \"16-D10-40+170\", \"annee\": \"2018\", \"id_ign\": \"TRONROUT0000000041507320\", \"seq\": -1, \"distance\": 22.1899877900177, \"polluant\": \"COVNM\", \"unite\": \"tonne\", \"emi\": 0.000541498191545978}, {\"id\": 90039, \"id_comptag\": \"16-D10-40+170\", \"annee\": \"2018\", \"id_ign\": \"TRONROUT0000000041507320\", \"seq\": -1, \"distance\": 22.1899877900177, \"polluant\": \"PM2_5\", \"unite\": \"tonne\", \"emi\": 0.000301211670109465}, {\"id\": 90040, \"id_comptag\": \"16-D10-40+170\", \"annee\": \"2018\", \"id_ign\": \"TRONROUT0000000041507320\", \"seq\": 133, \"distance\": 22.1899877900177, \"polluant\": \"COVNM\", \"unite\": \"tonne\", \"emi\": 0.00983415476382353}, {\"id\": 90041, \"id_comptag\": \"16-D10-40+170\", \"annee\": \"2018\", \"id_ign\": \"TRONROUT0000000041507320\", \"seq\": 133, \"distance\": 22.1899877900177, \"polluant\": \"PM2_5\", \"unite\": \"tonne\", \"emi\": 0.00553250751739002}, {\"id\": 90042, \"id_comptag\": \"16-D10-40+170\", \"annee\": \"2018\", \"id_ign\": \"TRONROUT0000000041507320\", \"seq\": 133, \"distance\": 22.1899877900177, \"polluant\": \"NOX\", \"unite\": \"tonne\", \"emi\": 0.0988388813514046}, {\"id\": 90043, \"id_comptag\": \"16-D10-40+170\", \"annee\": \"2018\", \"id_ign\": \"TRONROUT0000000041507320\", \"seq\": 133, \"distance\": 22.1899877900177, \"polluant\": \"PM10\", \"unite\": \"tonne\", \"emi\": 0.0081157713823419}, {\"id\": 90044, \"id_comptag\": \"16-D10-40+170\", \"annee\": \"2018\", \"id_ign\": \"TRONROUT0000000041507320\", \"seq\": 134, \"distance\": 22.1899877900177, \"polluant\": \"NOX\", \"unite\": \"tonne\", \"emi\": 0.0988388813514046}, {\"id\": 90045, \"id_comptag\": \"16-D10-40+170\", \"annee\": \"2018\", \"id_ign\": \"TRONROUT0000000041507320\", \"seq\": 134, \"distance\": 22.1899877900177, \"polluant\": \"PM10\", \"unite\": \"tonne\", \"emi\": 0.0081157713823419}, {\"id\": 90046, \"id_comptag\": \"16-D10-40+170\", \"annee\": \"2018\", \"id_ign\": \"TRONROUT0000000041507320\", \"seq\": 134, \"distance\": 22.1899877900177, \"polluant\": \"PM2_5\", \"unite\": \"tonne\", \"emi\": 0.00553250751739002}, {\"id\": 90047, \"id_comptag\": \"16-D10-40+170\", \"annee\": \"2018\", \"id_ign\": \"TRONROUT0000000041507320\", \"seq\": 134, \"distance\": 22.1899877900177, \"polluant\": \"COVNM\", \"unite\": \"tonne\", \"emi\": 0.00983415476382353}, {\"id\": 90048, \"id_comptag\": \"16-D10-40+170\", \"annee\": \"2018\", \"id_ign\": \"TRONROUT0000000041507330\", \"seq\": -1, \"distance\": 22.7604711603095, \"polluant\": \"PM2_5\", \"unite\": \"tonne\", \"emi\": 0.00553250751739002}, {\"id\": 90049, \"id_comptag\": \"16-D10-40+170\", \"annee\": \"2018\", \"id_ign\": \"TRONROUT0000000041507330\", \"seq\": -1, \"distance\": 22.7604711603095, \"polluant\": \"NOX\", \"unite\": \"tonne\", \"emi\": 0.0988388813514046}, {\"id\": 90050, \"id_comptag\": \"16-D10-40+170\", \"annee\": \"2018\", \"id_ign\": \"TRONROUT0000000041507330\", \"seq\": -1, \"distance\": 22.7604711603095, \"polluant\": \"COVNM\", \"unite\": \"tonne\", \"emi\": 0.00983415476382353}, {\"id\": 90051, \"id_comptag\": \"16-D10-40+170\", \"annee\": \"2018\", \"id_ign\": \"TRONROUT0000000041507330\", \"seq\": -1, \"distance\": 22.7604711603095, \"polluant\": \"PM10\", \"unite\": \"tonne\", \"emi\": 0.0081157713823419}, {\"id\": 90052, \"id_comptag\": \"16-D10-40+170\", \"annee\": \"2018\", \"id_ign\": \"TRONROUT0000000041507330\", \"seq\": 134, \"distance\": 22.7604711603095, \"polluant\": \"PM10\", \"unite\": \"tonne\", \"emi\": 0.000404979192155639}, {\"id\": 90053, \"id_comptag\": \"16-D10-40+170\", \"annee\": \"2018\", \"id_ign\": \"TRONROUT0000000041507330\", \"seq\": 134, \"distance\": 22.7604711603095, \"polluant\": \"PM2_5\", \"unite\": \"tonne\", \"emi\": 0.000275909551373569}, {\"id\": 90054, \"id_comptag\": \"16-D10-40+170\", \"annee\": \"2018\", \"id_ign\": \"TRONROUT0000000041507330\", \"seq\": 134, \"distance\": 22.7604711603095, \"polluant\": \"NOX\", \"unite\": \"tonne\", \"emi\": 0.00488373838836966}, {\"id\": 90055, \"id_comptag\": \"16-D10-40+170\", \"annee\": \"2018\", \"id_ign\": \"TRONROUT0000000041507330\", \"seq\": 134, \"distance\": 22.7604711603095, \"polluant\": \"COVNM\", \"unite\": \"tonne\", \"emi\": 0.000491434162074152}, {\"id\": 90056, \"id_comptag\": \"16-D10-40+170\", \"annee\": \"2018\", \"id_ign\": \"TRONROUT0000000041507330\", \"seq\": 135, \"distance\": 22.7604711603095, \"polluant\": \"COVNM\", \"unite\": \"tonne\", \"emi\": 0.000491434162074152}, {\"id\": 90057, \"id_comptag\": \"16-D10-40+170\", \"annee\": \"2018\", \"id_ign\": \"TRONROUT0000000041507330\", \"seq\": 135, \"distance\": 22.7604711603095, \"polluant\": \"PM2_5\", \"unite\": \"tonne\", \"emi\": 0.000275909551373569}, {\"id\": 90058, \"id_comptag\": \"16-D10-40+170\", \"annee\": \"2018\", \"id_ign\": \"TRONROUT0000000041507330\", \"seq\": 135, \"distance\": 22.7604711603095, \"polluant\": \"PM10\", \"unite\": \"tonne\", \"emi\": 0.000404979192155639}, {\"id\": 90059, \"id_comptag\": \"16-D10-40+170\", \"annee\": \"2018\", \"id_ign\": \"TRONROUT0000000041507330\", \"seq\": 135, \"distance\": 22.7604711603095, \"polluant\": \"NOX\", \"unite\": \"tonne\", \"emi\": 0.00488373838836966}, {\"id\": 90060, \"id_comptag\": \"16-D10-40+170\", \"annee\": \"2018\", \"id_ign\": \"TRONROUT0000000041507331\", \"seq\": -1, \"distance\": 22.7889746688649, \"polluant\": \"COVNM\", \"unite\": \"tonne\", \"emi\": 0.000491434162074152}, {\"id\": 90061, \"id_comptag\": \"16-D10-40+170\", \"annee\": \"2018\", \"id_ign\": \"TRONROUT0000000041507331\", \"seq\": -1, \"distance\": 22.7889746688649, \"polluant\": \"PM2_5\", \"unite\": \"tonne\", \"emi\": 0.000275909551373569}, {\"id\": 90062, \"id_comptag\": \"16-D10-40+170\", \"annee\": \"2018\", \"id_ign\": \"TRONROUT0000000041507331\", \"seq\": -1, \"distance\": 22.7889746688649, \"polluant\": \"NOX\", \"unite\": \"tonne\", \"emi\": 0.00488373838836966}, {\"id\": 90063, \"id_comptag\": \"16-D10-40+170\", \"annee\": \"2018\", \"id_ign\": \"TRONROUT0000000041507331\", \"seq\": -1, \"distance\": 22.7889746688649, \"polluant\": \"PM10\", \"unite\": \"tonne\", \"emi\": 0.000404979192155639}, {\"id\": 90064, \"id_comptag\": \"16-D10-40+170\", \"annee\": \"2018\", \"id_ign\": \"TRONROUT0000000041507331\", \"seq\": 135, \"distance\": 22.7889746688649, \"polluant\": \"NOX\", \"unite\": \"tonne\", \"emi\": 0.0204664310628331}, {\"id\": 90065, \"id_comptag\": \"16-D10-40+170\", \"annee\": \"2018\", \"id_ign\": \"TRONROUT0000000041507331\", \"seq\": 135, \"distance\": 22.7889746688649, \"polluant\": \"PM2_5\", \"unite\": \"tonne\", \"emi\": 0.00115626255210805}, {\"id\": 90066, \"id_comptag\": \"16-D10-40+170\", \"annee\": \"2018\", \"id_ign\": \"TRONROUT0000000041507331\", \"seq\": 135, \"distance\": 22.7889746688649, \"polluant\": \"COVNM\", \"unite\": \"tonne\", \"emi\": 0.00205946809599057}, {\"id\": 90067, \"id_comptag\": \"16-D10-40+170\", \"annee\": \"2018\", \"id_ign\": \"TRONROUT0000000041507331\", \"seq\": 135, \"distance\": 22.7889746688649, \"polluant\": \"PM10\", \"unite\": \"tonne\", \"emi\": 0.00169715862296673}, {\"id\": 90068, \"id_comptag\": \"16-D10-40+170\", \"annee\": \"2018\", \"id_ign\": \"TRONROUT0000000041507331\", \"seq\": 136, \"distance\": 22.7889746688649, \"polluant\": \"PM2_5\", \"unite\": \"tonne\", \"emi\": 0.00115626255210805}, {\"id\": 90069, \"id_comptag\": \"16-D10-40+170\", \"annee\": \"2018\", \"id_ign\": \"TRONROUT0000000041507331\", \"seq\": 136, \"distance\": 22.7889746688649, \"polluant\": \"NOX\", \"unite\": \"tonne\", \"emi\": 0.0204664310628331}, {\"id\": 90070, \"id_comptag\": \"16-D10-40+170\", \"annee\": \"2018\", \"id_ign\": \"TRONROUT0000000041507331\", \"seq\": 136, \"distance\": 22.7889746688649, \"polluant\": \"PM10\", \"unite\": \"tonne\", \"emi\": 0.00169715862296673}, {\"id\": 90071, \"id_comptag\": \"16-D10-40+170\", \"annee\": \"2018\", \"id_ign\": \"TRONROUT0000000041507331\", \"seq\": 136, \"distance\": 22.7889746688649, \"polluant\": \"COVNM\", \"unite\": \"tonne\", \"emi\": 0.00205946809599057}, {\"id\": 90072, \"id_comptag\": \"16-D10-40+170\", \"annee\": \"2018\", \"id_ign\": \"TRONROUT0000000041507321\", \"seq\": -1, \"distance\": 22.9084251894515, \"polluant\": \"PM10\", \"unite\": \"tonne\", \"emi\": 0.00169715862296673}, {\"id\": 90073, \"id_comptag\": \"16-D10-40+170\", \"annee\": \"2018\", \"id_ign\": \"TRONROUT0000000041507321\", \"seq\": -1, \"distance\": 22.9084251894515, \"polluant\": \"NOX\", \"unite\": \"tonne\", \"emi\": 0.0204664310628331}, {\"id\": 90074, \"id_comptag\": \"16-D10-40+170\", \"annee\": \"2018\", \"id_ign\": \"TRONROUT0000000041507321\", \"seq\": -1, \"distance\": 22.9084251894515, \"polluant\": \"PM2_5\", \"unite\": \"tonne\", \"emi\": 0.00115626255210805}, {\"id\": 90075, \"id_comptag\": \"16-D10-40+170\", \"annee\": \"2018\", \"id_ign\": \"TRONROUT0000000041507321\", \"seq\": -1, \"distance\": 22.9084251894515, \"polluant\": \"COVNM\", \"unite\": \"tonne\", \"emi\": 0.00205946809599057}, {\"id\": 90076, \"id_comptag\": \"16-D10-40+170\", \"annee\": \"2018\", \"id_ign\": \"TRONROUT0000000041507321\", \"seq\": 136, \"distance\": 22.9084251894515, \"polluant\": \"NOX\", \"unite\": \"tonne\", \"emi\": 0.0114321917452119}, {\"id\": 90077, \"id_comptag\": \"16-D10-40+170\", \"annee\": \"2018\", \"id_ign\": \"TRONROUT0000000041507321\", \"seq\": 136, \"distance\": 22.9084251894515, \"polluant\": \"COVNM\", \"unite\": \"tonne\", \"emi\": 0.00113746676788468}, {\"id\": 90078, \"id_comptag\": \"16-D10-40+170\", \"annee\": \"2018\", \"id_ign\": \"TRONROUT0000000041507321\", \"seq\": 136, \"distance\": 22.9084251894515, \"polluant\": \"PM10\", \"unite\": \"tonne\", \"emi\": 0.000938710083872448}, {\"id\": 90079, \"id_comptag\": \"16-D10-40+170\", \"annee\": \"2018\", \"id_ign\": \"TRONROUT0000000041507321\", \"seq\": 136, \"distance\": 22.9084251894515, \"polluant\": \"PM2_5\", \"unite\": \"tonne\", \"emi\": 0.000639917064072782}, {\"id\": 90080, \"id_comptag\": \"16-D10-40+170\", \"annee\": \"2018\", \"id_ign\": \"TRONROUT0000000041507321\", \"seq\": 137, \"distance\": 22.9084251894515, \"polluant\": \"PM10\", \"unite\": \"tonne\", \"emi\": 0.000938710083872448}, {\"id\": 90081, \"id_comptag\": \"16-D10-40+170\", \"annee\": \"2018\", \"id_ign\": \"TRONROUT0000000041507321\", \"seq\": 137, \"distance\": 22.9084251894515, \"polluant\": \"PM2_5\", \"unite\": \"tonne\", \"emi\": 0.000639917064072782}, {\"id\": 90082, \"id_comptag\": \"16-D10-40+170\", \"annee\": \"2018\", \"id_ign\": \"TRONROUT0000000041507321\", \"seq\": 137, \"distance\": 22.9084251894515, \"polluant\": \"COVNM\", \"unite\": \"tonne\", \"emi\": 0.00113746676788468}, {\"id\": 90083, \"id_comptag\": \"16-D10-40+170\", \"annee\": \"2018\", \"id_ign\": \"TRONROUT0000000041507321\", \"seq\": 137, \"distance\": 22.9084251894515, \"polluant\": \"NOX\", \"unite\": \"tonne\", \"emi\": 0.0114321917452119}, {\"id\": 90084, \"id_comptag\": \"16-D10-40+170\", \"annee\": \"2018\", \"id_ign\": \"TRONROUT0000000041507245\", \"seq\": -1, \"distance\": 22.974410105382, \"polluant\": \"NOX\", \"unite\": \"tonne\", \"emi\": 0.0114321917452119}, {\"id\": 90085, \"id_comptag\": \"16-D10-40+170\", \"annee\": \"2018\", \"id_ign\": \"TRONROUT0000000041507245\", \"seq\": -1, \"distance\": 22.974410105382, \"polluant\": \"PM10\", \"unite\": \"tonne\", \"emi\": 0.000938710083872448}, {\"id\": 90086, \"id_comptag\": \"16-D10-40+170\", \"annee\": \"2018\", \"id_ign\": \"TRONROUT0000000041507245\", \"seq\": -1, \"distance\": 22.974410105382, \"polluant\": \"COVNM\", \"unite\": \"tonne\", \"emi\": 0.00113746676788468}, {\"id\": 90087, \"id_comptag\": \"16-D10-40+170\", \"annee\": \"2018\", \"id_ign\": \"TRONROUT0000000041507245\", \"seq\": -1, \"distance\": 22.974410105382, \"polluant\": \"PM2_5\", \"unite\": \"tonne\", \"emi\": 0.000639917064072782}, {\"id\": 90088, \"id_comptag\": \"16-D10-40+170\", \"annee\": \"2018\", \"id_ign\": \"TRONROUT0000000041507245\", \"seq\": 137, \"distance\": 22.974410105382, \"polluant\": \"PM2_5\", \"unite\": \"tonne\", \"emi\": 0.000470771089095614}, {\"id\": 90089, \"id_comptag\": \"16-D10-40+170\", \"annee\": \"2018\", \"id_ign\": \"TRONROUT0000000041507245\", \"seq\": 137, \"distance\": 22.974410105382, \"polluant\": \"PM10\", \"unite\": \"tonne\", \"emi\": 0.000690585692022435}, {\"id\": 90090, \"id_comptag\": \"16-D10-40+170\", \"annee\": \"2018\", \"id_ign\": \"TRONROUT0000000041507245\", \"seq\": 137, \"distance\": 22.974410105382, \"polluant\": \"NOX\", \"unite\": \"tonne\", \"emi\": 0.0084103795019774}, {\"id\": 90091, \"id_comptag\": \"16-D10-40+170\", \"annee\": \"2018\", \"id_ign\": \"TRONROUT0000000041507245\", \"seq\": 137, \"distance\": 22.974410105382, \"polluant\": \"COVNM\", \"unite\": \"tonne\", \"emi\": 0.000836806047519672}, {\"id\": 90092, \"id_comptag\": \"16-D10-40+170\", \"annee\": \"2018\", \"id_ign\": \"TRONROUT0000000041507245\", \"seq\": 138, \"distance\": 22.974410105382, \"polluant\": \"PM2_5\", \"unite\": \"tonne\", \"emi\": 0.000470771089095614}, {\"id\": 90093, \"id_comptag\": \"16-D10-40+170\", \"annee\": \"2018\", \"id_ign\": \"TRONROUT0000000041507245\", \"seq\": 138, \"distance\": 22.974410105382, \"polluant\": \"PM10\", \"unite\": \"tonne\", \"emi\": 0.000690585692022435}, {\"id\": 90094, \"id_comptag\": \"16-D10-40+170\", \"annee\": \"2018\", \"id_ign\": \"TRONROUT0000000041507245\", \"seq\": 138, \"distance\": 22.974410105382, \"polluant\": \"NOX\", \"unite\": \"tonne\", \"emi\": 0.0084103795019774}, {\"id\": 90095, \"id_comptag\": \"16-D10-40+170\", \"annee\": \"2018\", \"id_ign\": \"TRONROUT0000000041507245\", \"seq\": 138, \"distance\": 22.974410105382, \"polluant\": \"COVNM\", \"unite\": \"tonne\", \"emi\": 0.000836806047519672}, {\"id\": 90096, \"id_comptag\": \"16-D10-40+170\", \"annee\": \"2018\", \"id_ign\": \"TRONROUT0000000041507335\", \"seq\": -1, \"distance\": 23.0229535690283, \"polluant\": \"PM10\", \"unite\": \"tonne\", \"emi\": 0.000690585692022435}, {\"id\": 90097, \"id_comptag\": \"16-D10-40+170\", \"annee\": \"2018\", \"id_ign\": \"TRONROUT0000000041507335\", \"seq\": -1, \"distance\": 23.0229535690283, \"polluant\": \"COVNM\", \"unite\": \"tonne\", \"emi\": 0.000836806047519672}, {\"id\": 90098, \"id_comptag\": \"16-D10-40+170\", \"annee\": \"2018\", \"id_ign\": \"TRONROUT0000000041507335\", \"seq\": -1, \"distance\": 23.0229535690283, \"polluant\": \"NOX\", \"unite\": \"tonne\", \"emi\": 0.0084103795019774}, {\"id\": 90099, \"id_comptag\": \"16-D10-40+170\", \"annee\": \"2018\", \"id_ign\": \"TRONROUT0000000041507335\", \"seq\": -1, \"distance\": 23.0229535690283, \"polluant\": \"PM2_5\", \"unite\": \"tonne\", \"emi\": 0.000470771089095614}, {\"id\": 90100, \"id_comptag\": \"16-D10-40+170\", \"annee\": \"2018\", \"id_ign\": \"TRONROUT0000000041507335\", \"seq\": 138, \"distance\": 23.0229535690283, \"polluant\": \"COVNM\", \"unite\": \"tonne\", \"emi\": 0.00273693015248111}, {\"id\": 90101, \"id_comptag\": \"16-D10-40+170\", \"annee\": \"2018\", \"id_ign\": \"TRONROUT0000000041507335\", \"seq\": 138, \"distance\": 23.0229535690283, \"polluant\": \"PM2_5\", \"unite\": \"tonne\", \"emi\": 0.00153017867292163}, {\"id\": 90102, \"id_comptag\": \"16-D10-40+170\", \"annee\": \"2018\", \"id_ign\": \"TRONROUT0000000041507335\", \"seq\": 138, \"distance\": 23.0229535690283, \"polluant\": \"NOX\", \"unite\": \"tonne\", \"emi\": 0.0276938751432075}, {\"id\": 90103, \"id_comptag\": \"16-D10-40+170\", \"annee\": \"2018\", \"id_ign\": \"TRONROUT0000000041507335\", \"seq\": 138, \"distance\": 23.0229535690283, \"polluant\": \"PM10\", \"unite\": \"tonne\", \"emi\": 0.00223948352832996}, {\"id\": 90104, \"id_comptag\": \"16-D10-40+170\", \"annee\": \"2018\", \"id_ign\": \"TRONROUT0000000041507335\", \"seq\": 139, \"distance\": 23.0229535690283, \"polluant\": \"NOX\", \"unite\": \"tonne\", \"emi\": 0.0276938751432075}, {\"id\": 90105, \"id_comptag\": \"16-D10-40+170\", \"annee\": \"2018\", \"id_ign\": \"TRONROUT0000000041507335\", \"seq\": 139, \"distance\": 23.0229535690283, \"polluant\": \"PM10\", \"unite\": \"tonne\", \"emi\": 0.00223948352832996}, {\"id\": 90106, \"id_comptag\": \"16-D10-40+170\", \"annee\": \"2018\", \"id_ign\": \"TRONROUT0000000041507335\", \"seq\": 139, \"distance\": 23.0229535690283, \"polluant\": \"PM2_5\", \"unite\": \"tonne\", \"emi\": 0.00153017867292163}, {\"id\": 90107, \"id_comptag\": \"16-D10-40+170\", \"annee\": \"2018\", \"id_ign\": \"TRONROUT0000000041507335\", \"seq\": 139, \"distance\": 23.0229535690283, \"polluant\": \"COVNM\", \"unite\": \"tonne\", \"emi\": 0.00273693015248111}, {\"id\": 90108, \"id_comptag\": \"16-D10-40+170\", \"annee\": \"2018\", \"id_ign\": \"TRONROUT0000000041507338\", \"seq\": 140, \"distance\": 23.1795858565268, \"polluant\": \"bruit\", \"unite\": \"dB(A)\", \"emi\": 68.88}, {\"id\": 90109, \"id_comptag\": \"16-D10-40+170\", \"annee\": \"2018\", \"id_ign\": \"TRONROUT0000000041507338\", \"seq\": -1, \"distance\": 23.1795858565268, \"polluant\": \"PM10\", \"unite\": \"tonne\", \"emi\": 0.00223948352832996}, {\"id\": 90110, \"id_comptag\": \"16-D10-40+170\", \"annee\": \"2018\", \"id_ign\": \"TRONROUT0000000041507338\", \"seq\": -1, \"distance\": 23.1795858565268, \"polluant\": \"COVNM\", \"unite\": \"tonne\", \"emi\": 0.00273693015248111}, {\"id\": 90111, \"id_comptag\": \"16-D10-40+170\", \"annee\": \"2018\", \"id_ign\": \"TRONROUT0000000041507338\", \"seq\": -1, \"distance\": 23.1795858565268, \"polluant\": \"PM2_5\", \"unite\": \"tonne\", \"emi\": 0.00153017867292163}, {\"id\": 90112, \"id_comptag\": \"16-D10-40+170\", \"annee\": \"2018\", \"id_ign\": \"TRONROUT0000000041507338\", \"seq\": -1, \"distance\": 23.1795858565268, \"polluant\": \"NOX\", \"unite\": \"tonne\", \"emi\": 0.0276938751432075}, {\"id\": 90113, \"id_comptag\": \"16-D10-40+170\", \"annee\": \"2018\", \"id_ign\": \"TRONROUT0000000041507338\", \"seq\": 139, \"distance\": 23.1795858565268, \"polluant\": \"COVNM\", \"unite\": \"tonne\", \"emi\": 0.00010681788448272}, {\"id\": 90114, \"id_comptag\": \"16-D10-40+170\", \"annee\": \"2018\", \"id_ign\": \"TRONROUT0000000041507338\", \"seq\": 139, \"distance\": 23.1795858565268, \"polluant\": \"PM10\", \"unite\": \"tonne\", \"emi\": 8.74033605180774e-05}, {\"id\": 90115, \"id_comptag\": \"16-D10-40+170\", \"annee\": \"2018\", \"id_ign\": \"TRONROUT0000000041507338\", \"seq\": 139, \"distance\": 23.1795858565268, \"polluant\": \"PM2_5\", \"unite\": \"tonne\", \"emi\": 5.97203580712102e-05}, {\"id\": 90116, \"id_comptag\": \"16-D10-40+170\", \"annee\": \"2018\", \"id_ign\": \"TRONROUT0000000041507338\", \"seq\": 139, \"distance\": 23.1795858565268, \"polluant\": \"NOX\", \"unite\": \"tonne\", \"emi\": 0.00108084641957132}, {\"id\": 90117, \"id_comptag\": \"16-D10-40+170\", \"annee\": \"2018\", \"id_ign\": \"TRONROUT0000000041507338\", \"seq\": 140, \"distance\": 23.1795858565268, \"polluant\": \"COVNM\", \"unite\": \"tonne\", \"emi\": 0.00010681788448272}, {\"id\": 90118, \"id_comptag\": \"16-D10-40+170\", \"annee\": \"2018\", \"id_ign\": \"TRONROUT0000000041507338\", \"seq\": 140, \"distance\": 23.1795858565268, \"polluant\": \"NOX\", \"unite\": \"tonne\", \"emi\": 0.00108084641957132}, {\"id\": 90119, \"id_comptag\": \"16-D10-40+170\", \"annee\": \"2018\", \"id_ign\": \"TRONROUT0000000041507338\", \"seq\": 140, \"distance\": 23.1795858565268, \"polluant\": \"PM2_5\", \"unite\": \"tonne\", \"emi\": 5.97203580712102e-05}, {\"id\": 90120, \"id_comptag\": \"16-D10-40+170\", \"annee\": \"2018\", \"id_ign\": \"TRONROUT0000000041507338\", \"seq\": 140, \"distance\": 23.1795858565268, \"polluant\": \"PM10\", \"unite\": \"tonne\", \"emi\": 8.74033605180774e-05}, {\"id\": 90121, \"id_comptag\": \"16-D10-40+170\", \"annee\": \"2018\", \"id_ign\": \"TRONROUT0000000316342170\", \"seq\": -1, \"distance\": 23.1923697892445, \"polluant\": \"bruit\", \"unite\": \"dB(A)\", \"emi\": null}, {\"id\": 90122, \"id_comptag\": \"16-D10-40+170\", \"annee\": \"2018\", \"id_ign\": \"TRONROUT0000000316342170\", \"seq\": 141, \"distance\": 23.1923697892445, \"polluant\": \"bruit\", \"unite\": \"dB(A)\", \"emi\": 68.88}, {\"id\": 90123, \"id_comptag\": \"16-D10-40+170\", \"annee\": \"2018\", \"id_ign\": \"TRONROUT0000000316342170\", \"seq\": -1, \"distance\": 23.1923697892445, \"polluant\": \"PM10\", \"unite\": \"tonne\", \"emi\": 8.74033605180774e-05}, {\"id\": 90124, \"id_comptag\": \"16-D10-40+170\", \"annee\": \"2018\", \"id_ign\": \"TRONROUT0000000316342170\", \"seq\": -1, \"distance\": 23.1923697892445, \"polluant\": \"NOX\", \"unite\": \"tonne\", \"emi\": 0.00108084641957132}, {\"id\": 90125, \"id_comptag\": \"16-D10-40+170\", \"annee\": \"2018\", \"id_ign\": \"TRONROUT0000000316342170\", \"seq\": -1, \"distance\": 23.1923697892445, \"polluant\": \"COVNM\", \"unite\": \"tonne\", \"emi\": 0.00010681788448272}, {\"id\": 90126, \"id_comptag\": \"16-D10-40+170\", \"annee\": \"2018\", \"id_ign\": \"TRONROUT0000000316342170\", \"seq\": -1, \"distance\": 23.1923697892445, \"polluant\": \"PM2_5\", \"unite\": \"tonne\", \"emi\": 5.97203580712102e-05}, {\"id\": 90127, \"id_comptag\": \"16-D10-40+170\", \"annee\": \"2018\", \"id_ign\": \"TRONROUT0000000316342170\", \"seq\": 141, \"distance\": 23.1923697892445, \"polluant\": \"PM10\", \"unite\": \"tonne\", \"emi\": 0.00141603103293127}, {\"id\": 90128, \"id_comptag\": \"16-D10-40+170\", \"annee\": \"2018\", \"id_ign\": \"TRONROUT0000000316342170\", \"seq\": 141, \"distance\": 23.1923697892445, \"polluant\": \"PM2_5\", \"unite\": \"tonne\", \"emi\": 0.000966159283592158}, {\"id\": 90129, \"id_comptag\": \"16-D10-40+170\", \"annee\": \"2018\", \"id_ign\": \"TRONROUT0000000316342170\", \"seq\": 141, \"distance\": 23.1923697892445, \"polluant\": \"COVNM\", \"unite\": \"tonne\", \"emi\": 0.00173168068962144}, {\"id\": 90130, \"id_comptag\": \"16-D10-40+170\", \"annee\": \"2018\", \"id_ign\": \"TRONROUT0000000316342170\", \"seq\": 141, \"distance\": 23.1923697892445, \"polluant\": \"NOX\", \"unite\": \"tonne\", \"emi\": 0.0170461606373992}, {\"id\": 90131, \"id_comptag\": \"16-D10-40+170\", \"annee\": \"2018\", \"id_ign\": \"TRONROUT0000000316342170\", \"seq\": 142, \"distance\": 23.1923697892445, \"polluant\": \"PM10\", \"unite\": \"tonne\", \"emi\": 0.00141603103293127}, {\"id\": 90132, \"id_comptag\": \"16-D10-40+170\", \"annee\": \"2018\", \"id_ign\": \"TRONROUT0000000316342170\", \"seq\": 142, \"distance\": 23.1923697892445, \"polluant\": \"NOX\", \"unite\": \"tonne\", \"emi\": 0.0170461606373992}, {\"id\": 90133, \"id_comptag\": \"16-D10-40+170\", \"annee\": \"2018\", \"id_ign\": \"TRONROUT0000000316342170\", \"seq\": 142, \"distance\": 23.1923697892445, \"polluant\": \"COVNM\", \"unite\": \"tonne\", \"emi\": 0.00173168068962144}, {\"id\": 90134, \"id_comptag\": \"16-D10-40+170\", \"annee\": \"2018\", \"id_ign\": \"TRONROUT0000000316342170\", \"seq\": 142, \"distance\": 23.1923697892445, \"polluant\": \"PM2_5\", \"unite\": \"tonne\", \"emi\": 0.000966159283592158}, {\"id\": 90135, \"id_comptag\": \"16-D10-40+170\", \"annee\": \"2018\", \"id_ign\": \"TRONROUT0000000041507283\", \"seq\": -1, \"distance\": 23.2917127454398, \"polluant\": \"NOX\", \"unite\": \"tonne\", \"emi\": 0.0170461606373992}, {\"id\": 90136, \"id_comptag\": \"16-D10-40+170\", \"annee\": \"2018\", \"id_ign\": \"TRONROUT0000000041507283\", \"seq\": -1, \"distance\": 23.2917127454398, \"polluant\": \"PM2_5\", \"unite\": \"tonne\", \"emi\": 0.000966159283592158}, {\"id\": 90137, \"id_comptag\": \"16-D10-40+170\", \"annee\": \"2018\", \"id_ign\": \"TRONROUT0000000041507283\", \"seq\": -1, \"distance\": 23.2917127454398, \"polluant\": \"PM10\", \"unite\": \"tonne\", \"emi\": 0.00141603103293127}, {\"id\": 90138, \"id_comptag\": \"16-D10-40+170\", \"annee\": \"2018\", \"id_ign\": \"TRONROUT0000000041507283\", \"seq\": -1, \"distance\": 23.2917127454398, \"polluant\": \"COVNM\", \"unite\": \"tonne\", \"emi\": 0.00173168068962144}, {\"id\": 90139, \"id_comptag\": \"16-D10-40+170\", \"annee\": \"2018\", \"id_ign\": \"TRONROUT0000000041507283\", \"seq\": 142, \"distance\": 23.2917127454398, \"polluant\": \"NOX\", \"unite\": \"tonne\", \"emi\": 0.00826504857312011}, {\"id\": 90140, \"id_comptag\": \"16-D10-40+170\", \"annee\": \"2018\", \"id_ign\": \"TRONROUT0000000041507283\", \"seq\": 142, \"distance\": 23.2917127454398, \"polluant\": \"PM2_5\", \"unite\": \"tonne\", \"emi\": 0.000468454661323577}, {\"id\": 90141, \"id_comptag\": \"16-D10-40+170\", \"annee\": \"2018\", \"id_ign\": \"TRONROUT0000000041507283\", \"seq\": 142, \"distance\": 23.2917127454398, \"polluant\": \"COVNM\", \"unite\": \"tonne\", \"emi\": 0.000839627486640828}, {\"id\": 90142, \"id_comptag\": \"16-D10-40+170\", \"annee\": \"2018\", \"id_ign\": \"TRONROUT0000000041507283\", \"seq\": 142, \"distance\": 23.2917127454398, \"polluant\": \"PM10\", \"unite\": \"tonne\", \"emi\": 0.000686580721440862}, {\"id\": 90143, \"id_comptag\": \"16-D10-40+170\", \"annee\": \"2018\", \"id_ign\": \"TRONROUT0000000041507283\", \"seq\": 143, \"distance\": 23.2917127454398, \"polluant\": \"PM2_5\", \"unite\": \"tonne\", \"emi\": 0.000468454661323577}, {\"id\": 90144, \"id_comptag\": \"16-D10-40+170\", \"annee\": \"2018\", \"id_ign\": \"TRONROUT0000000041507283\", \"seq\": 143, \"distance\": 23.2917127454398, \"polluant\": \"NOX\", \"unite\": \"tonne\", \"emi\": 0.00826504857312011}, {\"id\": 90145, \"id_comptag\": \"16-D10-40+170\", \"annee\": \"2018\", \"id_ign\": \"TRONROUT0000000041507283\", \"seq\": 143, \"distance\": 23.2917127454398, \"polluant\": \"PM10\", \"unite\": \"tonne\", \"emi\": 0.000686580721440862}, {\"id\": 90146, \"id_comptag\": \"16-D10-40+170\", \"annee\": \"2018\", \"id_ign\": \"TRONROUT0000000041507283\", \"seq\": 143, \"distance\": 23.2917127454398, \"polluant\": \"COVNM\", \"unite\": \"tonne\", \"emi\": 0.000839627486640828}, {\"id\": 90147, \"id_comptag\": \"16-D10-40+170\", \"annee\": \"2018\", \"id_ign\": \"TRONROUT0000000222533568\", \"seq\": -1, \"distance\": 23.339880445828, \"polluant\": \"PM10\", \"unite\": \"tonne\", \"emi\": 0.000686580721440862}, {\"id\": 90148, \"id_comptag\": \"16-D10-40+170\", \"annee\": \"2018\", \"id_ign\": \"TRONROUT0000000222533568\", \"seq\": -1, \"distance\": 23.339880445828, \"polluant\": \"NOX\", \"unite\": \"tonne\", \"emi\": 0.00826504857312011}, {\"id\": 90149, \"id_comptag\": \"16-D10-40+170\", \"annee\": \"2018\", \"id_ign\": \"TRONROUT0000000222533568\", \"seq\": -1, \"distance\": 23.339880445828, \"polluant\": \"COVNM\", \"unite\": \"tonne\", \"emi\": 0.000839627486640828}, {\"id\": 90150, \"id_comptag\": \"16-D10-40+170\", \"annee\": \"2018\", \"id_ign\": \"TRONROUT0000000222533568\", \"seq\": -1, \"distance\": 23.339880445828, \"polluant\": \"PM2_5\", \"unite\": \"tonne\", \"emi\": 0.000468454661323577}, {\"id\": 90151, \"id_comptag\": \"16-D10-40+170\", \"annee\": \"2018\", \"id_ign\": \"TRONROUT0000000222533568\", \"seq\": 143, \"distance\": 23.339880445828, \"polluant\": \"NOX\", \"unite\": \"tonne\", \"emi\": 0.00612483881294137}, {\"id\": 90152, \"id_comptag\": \"16-D10-40+170\", \"annee\": \"2018\", \"id_ign\": \"TRONROUT0000000222533568\", \"seq\": 143, \"distance\": 23.339880445828, \"polluant\": \"PM2_5\", \"unite\": \"tonne\", \"emi\": 0.000347149719253834}, {\"id\": 90153, \"id_comptag\": \"16-D10-40+170\", \"annee\": \"2018\", \"id_ign\": \"TRONROUT0000000222533568\", \"seq\": 143, \"distance\": 23.339880445828, \"polluant\": \"COVNM\", \"unite\": \"tonne\", \"emi\": 0.00062220844476523}, {\"id\": 90154, \"id_comptag\": \"16-D10-40+170\", \"annee\": \"2018\", \"id_ign\": \"TRONROUT0000000222533568\", \"seq\": 143, \"distance\": 23.339880445828, \"polluant\": \"PM10\", \"unite\": \"tonne\", \"emi\": 0.000508792684482771}, {\"id\": 90155, \"id_comptag\": \"16-D10-40+170\", \"annee\": \"2018\", \"id_ign\": \"TRONROUT0000000222533568\", \"seq\": 144, \"distance\": 23.339880445828, \"polluant\": \"PM2_5\", \"unite\": \"tonne\", \"emi\": 0.000347149719253834}, {\"id\": 90156, \"id_comptag\": \"16-D10-40+170\", \"annee\": \"2018\", \"id_ign\": \"TRONROUT0000000222533568\", \"seq\": 144, \"distance\": 23.339880445828, \"polluant\": \"COVNM\", \"unite\": \"tonne\", \"emi\": 0.00062220844476523}, {\"id\": 90157, \"id_comptag\": \"16-D10-40+170\", \"annee\": \"2018\", \"id_ign\": \"TRONROUT0000000222533568\", \"seq\": 144, \"distance\": 23.339880445828, \"polluant\": \"NOX\", \"unite\": \"tonne\", \"emi\": 0.00612483881294137}, {\"id\": 90158, \"id_comptag\": \"16-D10-40+170\", \"annee\": \"2018\", \"id_ign\": \"TRONROUT0000000222533568\", \"seq\": 144, \"distance\": 23.339880445828, \"polluant\": \"PM10\", \"unite\": \"tonne\", \"emi\": 0.000508792684482771}, {\"id\": 90159, \"id_comptag\": \"16-D10-40+170\", \"annee\": \"2018\", \"id_ign\": \"TRONROUT0000000041507284\", \"seq\": -1, \"distance\": 23.375575263379, \"polluant\": \"PM2_5\", \"unite\": \"tonne\", \"emi\": 0.000347149719253834}, {\"id\": 90160, \"id_comptag\": \"16-D10-40+170\", \"annee\": \"2018\", \"id_ign\": \"TRONROUT0000000041507284\", \"seq\": -1, \"distance\": 23.375575263379, \"polluant\": \"PM10\", \"unite\": \"tonne\", \"emi\": 0.000508792684482771}, {\"id\": 90161, \"id_comptag\": \"16-D10-40+170\", \"annee\": \"2018\", \"id_ign\": \"TRONROUT0000000041507284\", \"seq\": -1, \"distance\": 23.375575263379, \"polluant\": \"COVNM\", \"unite\": \"tonne\", \"emi\": 0.00062220844476523}, {\"id\": 90162, \"id_comptag\": \"16-D10-40+170\", \"annee\": \"2018\", \"id_ign\": \"TRONROUT0000000041507284\", \"seq\": -1, \"distance\": 23.375575263379, \"polluant\": \"NOX\", \"unite\": \"tonne\", \"emi\": 0.00612483881294137}, {\"id\": 90163, \"id_comptag\": \"16-D10-40+170\", \"annee\": \"2018\", \"id_ign\": \"TRONROUT0000000041507284\", \"seq\": 144, \"distance\": 23.375575263379, \"polluant\": \"PM2_5\", \"unite\": \"tonne\", \"emi\": 0.000713804351442509}, {\"id\": 90164, \"id_comptag\": \"16-D10-40+170\", \"annee\": \"2018\", \"id_ign\": \"TRONROUT0000000041507284\", \"seq\": 144, \"distance\": 23.375575263379, \"polluant\": \"PM10\", \"unite\": \"tonne\", \"emi\": 0.00104648575169322}, {\"id\": 90165, \"id_comptag\": \"16-D10-40+170\", \"annee\": \"2018\", \"id_ign\": \"TRONROUT0000000041507284\", \"seq\": 144, \"distance\": 23.375575263379, \"polluant\": \"COVNM\", \"unite\": \"tonne\", \"emi\": 0.00128395524451989}, {\"id\": 90166, \"id_comptag\": \"16-D10-40+170\", \"annee\": \"2018\", \"id_ign\": \"TRONROUT0000000041507284\", \"seq\": 144, \"distance\": 23.375575263379, \"polluant\": \"NOX\", \"unite\": \"tonne\", \"emi\": 0.0125443887653926}, {\"id\": 90167, \"id_comptag\": \"16-D10-40+170\", \"annee\": \"2018\", \"id_ign\": \"TRONROUT0000000041507284\", \"seq\": 145, \"distance\": 23.375575263379, \"polluant\": \"NOX\", \"unite\": \"tonne\", \"emi\": 0.0125443887653926}, {\"id\": 90168, \"id_comptag\": \"16-D10-40+170\", \"annee\": \"2018\", \"id_ign\": \"TRONROUT0000000041507284\", \"seq\": 145, \"distance\": 23.375575263379, \"polluant\": \"COVNM\", \"unite\": \"tonne\", \"emi\": 0.00128395524451989}, {\"id\": 90169, \"id_comptag\": \"16-D10-40+170\", \"annee\": \"2018\", \"id_ign\": \"TRONROUT0000000041507284\", \"seq\": 145, \"distance\": 23.375575263379, \"polluant\": \"PM10\", \"unite\": \"tonne\", \"emi\": 0.00104648575169322}, {\"id\": 90170, \"id_comptag\": \"16-D10-40+170\", \"annee\": \"2018\", \"id_ign\": \"TRONROUT0000000041507284\", \"seq\": 145, \"distance\": 23.375575263379, \"polluant\": \"PM2_5\", \"unite\": \"tonne\", \"emi\": 0.000713804351442509}, {\"id\": 90171, \"id_comptag\": \"16-D10-40+170\", \"annee\": \"2018\", \"id_ign\": \"TRONROUT0000000041507276\", \"seq\": 146, \"distance\": 23.4490396536651, \"polluant\": \"bruit\", \"unite\": \"dB(A)\", \"emi\": 68.88}, {\"id\": 90172, \"id_comptag\": \"16-D10-40+170\", \"annee\": \"2018\", \"id_ign\": \"TRONROUT0000000041507276\", \"seq\": -1, \"distance\": 23.4490396536651, \"polluant\": \"COVNM\", \"unite\": \"tonne\", \"emi\": 0.00128395524451989}, {\"id\": 90173, \"id_comptag\": \"16-D10-40+170\", \"annee\": \"2018\", \"id_ign\": \"TRONROUT0000000041507276\", \"seq\": -1, \"distance\": 23.4490396536651, \"polluant\": \"PM2_5\", \"unite\": \"tonne\", \"emi\": 0.000713804351442509}, {\"id\": 90174, \"id_comptag\": \"16-D10-40+170\", \"annee\": \"2018\", \"id_ign\": \"TRONROUT0000000041507276\", \"seq\": -1, \"distance\": 23.4490396536651, \"polluant\": \"NOX\", \"unite\": \"tonne\", \"emi\": 0.0125443887653926}, {\"id\": 90175, \"id_comptag\": \"16-D10-40+170\", \"annee\": \"2018\", \"id_ign\": \"TRONROUT0000000041507276\", \"seq\": -1, \"distance\": 23.4490396536651, \"polluant\": \"PM10\", \"unite\": \"tonne\", \"emi\": 0.00104648575169322}, {\"id\": 90176, \"id_comptag\": \"16-D10-40+170\", \"annee\": \"2018\", \"id_ign\": \"TRONROUT0000000041507276\", \"seq\": 145, \"distance\": 23.4490396536651, \"polluant\": \"NOX\", \"unite\": \"tonne\", \"emi\": 0.00541738509860878}, {\"id\": 90177, \"id_comptag\": \"16-D10-40+170\", \"annee\": \"2018\", \"id_ign\": \"TRONROUT0000000041507276\", \"seq\": 145, \"distance\": 23.4490396536651, \"polluant\": \"PM2_5\", \"unite\": \"tonne\", \"emi\": 0.000307051952469062}, {\"id\": 90178, \"id_comptag\": \"16-D10-40+170\", \"annee\": \"2018\", \"id_ign\": \"TRONROUT0000000041507276\", \"seq\": 145, \"distance\": 23.4490396536651, \"polluant\": \"COVNM\", \"unite\": \"tonne\", \"emi\": 0.000550339830948293}, {\"id\": 90179, \"id_comptag\": \"16-D10-40+170\", \"annee\": \"2018\", \"id_ign\": \"TRONROUT0000000041507276\", \"seq\": 145, \"distance\": 23.4490396536651, \"polluant\": \"PM10\", \"unite\": \"tonne\", \"emi\": 0.000450024235964249}, {\"id\": 90180, \"id_comptag\": \"16-D10-40+170\", \"annee\": \"2018\", \"id_ign\": \"TRONROUT0000000041507276\", \"seq\": 146, \"distance\": 23.4490396536651, \"polluant\": \"COVNM\", \"unite\": \"tonne\", \"emi\": 0.000550339830948293}, {\"id\": 90181, \"id_comptag\": \"16-D10-40+170\", \"annee\": \"2018\", \"id_ign\": \"TRONROUT0000000041507276\", \"seq\": 146, \"distance\": 23.4490396536651, \"polluant\": \"NOX\", \"unite\": \"tonne\", \"emi\": 0.00541738509860878}, {\"id\": 90182, \"id_comptag\": \"16-D10-40+170\", \"annee\": \"2018\", \"id_ign\": \"TRONROUT0000000041507276\", \"seq\": 146, \"distance\": 23.4490396536651, \"polluant\": \"PM2_5\", \"unite\": \"tonne\", \"emi\": 0.000307051952469062}, {\"id\": 90183, \"id_comptag\": \"16-D10-40+170\", \"annee\": \"2018\", \"id_ign\": \"TRONROUT0000000041507276\", \"seq\": 146, \"distance\": 23.4490396536651, \"polluant\": \"PM10\", \"unite\": \"tonne\", \"emi\": 0.000450024235964249}]}}, {\"mode\": \"vega-lite\"});\n",
       "</script>"
      ],
      "text/plain": [
       "alt.LayerChart(...)"
      ]
     },
     "execution_count": 44,
     "metadata": {},
     "output_type": "execute_result"
    }
   ],
   "source": [
    "(chartBruit + chartPolluant).resolve_scale(y='independent')"
   ]
  },
  {
   "cell_type": "markdown",
   "metadata": {
    "tags": []
   },
   "source": [
    "## **Graphs profil public**"
   ]
  },
  {
   "cell_type": "code",
   "execution_count": 139,
   "metadata": {},
   "outputs": [
    {
     "data": {
      "text/html": [
       "\n",
       "<div id=\"altair-viz-a836991b6ad8442f92ab08d71aa173e0\"></div>\n",
       "<script type=\"text/javascript\">\n",
       "  var VEGA_DEBUG = (typeof VEGA_DEBUG == \"undefined\") ? {} : VEGA_DEBUG;\n",
       "  (function(spec, embedOpt){\n",
       "    let outputDiv = document.currentScript.previousElementSibling;\n",
       "    if (outputDiv.id !== \"altair-viz-a836991b6ad8442f92ab08d71aa173e0\") {\n",
       "      outputDiv = document.getElementById(\"altair-viz-a836991b6ad8442f92ab08d71aa173e0\");\n",
       "    }\n",
       "    const paths = {\n",
       "      \"vega\": \"https://cdn.jsdelivr.net/npm//vega@5?noext\",\n",
       "      \"vega-lib\": \"https://cdn.jsdelivr.net/npm//vega-lib?noext\",\n",
       "      \"vega-lite\": \"https://cdn.jsdelivr.net/npm//vega-lite@4.17.0?noext\",\n",
       "      \"vega-embed\": \"https://cdn.jsdelivr.net/npm//vega-embed@6?noext\",\n",
       "    };\n",
       "\n",
       "    function maybeLoadScript(lib, version) {\n",
       "      var key = `${lib.replace(\"-\", \"\")}_version`;\n",
       "      return (VEGA_DEBUG[key] == version) ?\n",
       "        Promise.resolve(paths[lib]) :\n",
       "        new Promise(function(resolve, reject) {\n",
       "          var s = document.createElement('script');\n",
       "          document.getElementsByTagName(\"head\")[0].appendChild(s);\n",
       "          s.async = true;\n",
       "          s.onload = () => {\n",
       "            VEGA_DEBUG[key] = version;\n",
       "            return resolve(paths[lib]);\n",
       "          };\n",
       "          s.onerror = () => reject(`Error loading script: ${paths[lib]}`);\n",
       "          s.src = paths[lib];\n",
       "        });\n",
       "    }\n",
       "\n",
       "    function showError(err) {\n",
       "      outputDiv.innerHTML = `<div class=\"error\" style=\"color:red;\">${err}</div>`;\n",
       "      throw err;\n",
       "    }\n",
       "\n",
       "    function displayChart(vegaEmbed) {\n",
       "      vegaEmbed(outputDiv, spec, embedOpt)\n",
       "        .catch(err => showError(`Javascript Error: ${err.message}<br>This usually means there's a typo in your chart specification. See the javascript console for the full traceback.`));\n",
       "    }\n",
       "\n",
       "    if(typeof define === \"function\" && define.amd) {\n",
       "      requirejs.config({paths});\n",
       "      require([\"vega-embed\"], displayChart, err => showError(`Error loading script: ${err.message}`));\n",
       "    } else {\n",
       "      maybeLoadScript(\"vega\", \"5\")\n",
       "        .then(() => maybeLoadScript(\"vega-lite\", \"4.17.0\"))\n",
       "        .then(() => maybeLoadScript(\"vega-embed\", \"6\"))\n",
       "        .catch(showError)\n",
       "        .then(() => displayChart(vegaEmbed));\n",
       "    }\n",
       "  })({\"config\": {\"view\": {\"continuousWidth\": 400, \"continuousHeight\": 300}}, \"layer\": [{\"mark\": {\"type\": \"line\", \"point\": true}, \"encoding\": {\"x\": {\"field\": \"annee\", \"type\": \"ordinal\"}, \"y\": {\"field\": \"valeur\", \"title\": \"tmja\", \"type\": \"quantitative\"}}, \"title\": {\"text\": [\"compteur 16-D1000-11+194\"], \"fontSize\": 14}, \"transform\": [{\"filter\": \"(datum.indicateur === 'tmja')\"}]}, {\"mark\": {\"type\": \"line\", \"color\": \"green\", \"point\": true}, \"encoding\": {\"x\": {\"field\": \"annee\", \"type\": \"ordinal\"}, \"y\": {\"axis\": {\"labelColor\": \"green\", \"tickColor\": \"green\", \"title\": \"pc_pl\", \"titleColor\": \"green\"}, \"field\": \"valeur\", \"scale\": {\"domain\": [3.9000000000000004, 7.9]}, \"type\": \"quantitative\"}}, \"title\": {\"text\": [\"compteur 16-D1000-11+194\"], \"fontSize\": 14}, \"transform\": [{\"filter\": \"(datum.indicateur === 'pc_pl')\"}]}, {\"mark\": {\"type\": \"circle\", \"color\": \"green\"}, \"encoding\": {\"x\": {\"field\": \"annee\", \"type\": \"ordinal\"}, \"y\": {\"axis\": {\"labelColor\": \"green\", \"tickColor\": \"green\", \"title\": \"pc_pl\", \"titleColor\": \"green\"}, \"field\": \"valeur\", \"scale\": {\"domain\": [3.9000000000000004, 7.9]}, \"type\": \"quantitative\"}}, \"title\": {\"text\": [\"compteur 16-D1000-11+194\"], \"fontSize\": 14}, \"transform\": [{\"filter\": \"(datum.indicateur === 'pc_pl')\"}]}], \"data\": {\"name\": \"data-e897af01513e627eecf9292574acba08\"}, \"height\": 200, \"resolve\": {\"scale\": {\"y\": \"independent\"}}, \"width\": 300, \"$schema\": \"https://vega.github.io/schema/vega-lite/v4.17.0.json\", \"datasets\": {\"data-e897af01513e627eecf9292574acba08\": [{\"annee\": \"2010\", \"valeur\": 6.0, \"indicateur\": \"pc_pl\"}, {\"annee\": \"2010\", \"valeur\": 8369.0, \"indicateur\": \"tmja\"}, {\"annee\": \"2011\", \"valeur\": 6.23, \"indicateur\": \"pc_pl\"}, {\"annee\": \"2011\", \"valeur\": 9021.0, \"indicateur\": \"tmja\"}, {\"annee\": \"2012\", \"valeur\": 6.06, \"indicateur\": \"pc_pl\"}, {\"annee\": \"2012\", \"valeur\": 9738.0, \"indicateur\": \"tmja\"}, {\"annee\": \"2013\", \"valeur\": 5.93, \"indicateur\": \"pc_pl\"}, {\"annee\": \"2013\", \"valeur\": 10348.0, \"indicateur\": \"tmja\"}, {\"annee\": \"2014\", \"valeur\": 6.02, \"indicateur\": \"pc_pl\"}, {\"annee\": \"2014\", \"valeur\": 10667.0, \"indicateur\": \"tmja\"}, {\"annee\": \"2015\", \"valeur\": 6.11, \"indicateur\": \"pc_pl\"}, {\"annee\": \"2015\", \"valeur\": 11100.0, \"indicateur\": \"tmja\"}, {\"annee\": \"2016\", \"valeur\": 5.96, \"indicateur\": \"pc_pl\"}, {\"annee\": \"2016\", \"valeur\": 11595.0, \"indicateur\": \"tmja\"}, {\"annee\": \"2017\", \"valeur\": 6.12, \"indicateur\": \"pc_pl\"}, {\"annee\": \"2017\", \"valeur\": 11783.0, \"indicateur\": \"tmja\"}, {\"annee\": \"2018\", \"valeur\": 5.9, \"indicateur\": \"pc_pl\"}, {\"annee\": \"2018\", \"valeur\": 11868.0, \"indicateur\": \"tmja\"}, {\"annee\": \"2019\", \"valeur\": 6.14, \"indicateur\": \"pc_pl\"}, {\"annee\": \"2019\", \"valeur\": 12437.0, \"indicateur\": \"tmja\"}]}}, {\"mode\": \"vega-lite\"});\n",
       "</script>"
      ],
      "text/plain": [
       "alt.LayerChart(...)"
      ]
     },
     "execution_count": 139,
     "metadata": {},
     "output_type": "execute_result"
    }
   ],
   "source": [
    "# params\n",
    "largeur=300\n",
    "hauteur=200\n",
    "id_comptag = '16-D1000-11+194'\n",
    "indic = ['tmja', 'pc_pl']\n",
    "rqtAgrege = f\"\"\"\n",
    "      SELECT c.annee, ia.valeur, ia.indicateur FROM valorisation.comptage c JOIN valorisation.indic_agrege ia ON ia.id_comptag_uniq = c.id\n",
    "      WHERE ia.indicateur = any(ARRAY{indic}) AND c.id_comptag = '{id_comptag}'\n",
    "      \"\"\"\n",
    "id_comptag_trou = '79-D748-28+500'\n",
    "indicTrou = ['tmja']\n",
    "rqtAgregeTrou =  f\"\"\"\n",
    "      SELECT c.annee, ia.valeur, ia.indicateur FROM valorisation.comptage c JOIN valorisation.indic_agrege ia ON ia.id_comptag_uniq = c.id\n",
    "      WHERE ia.indicateur = any(ARRAY{indicTrou}) AND c.id_comptag = '{id_comptag_trou}'\n",
    "      \"\"\"\n",
    "# import donnees\n",
    "with ct.ConnexionBdd('local_otv_boulot') as c:\n",
    "    dfGraphAgrege = pd.read_sql(rqtAgrege, c.sqlAlchemyConn)\n",
    "    dfGraphAgregeTrou = pd.read_sql(rqtAgregeTrou, c.sqlAlchemyConn)\n",
    "    \n",
    "titreAgrege = alt.TitleParams([f'compteur {id_comptag}'], fontSize = 14)\n",
    "titreAgregeTrou = alt.TitleParams([f'compteur {id_comptag_trou}'], fontSize = 14)\n",
    "\n",
    "couleurY2 = 'green'\n",
    "yMinPcPl = dfGraphAgrege.loc[dfGraphAgrege.indicateur == 'pc_pl'].valeur.min() - 2\n",
    "yMaxPcPl = dfGraphAgrege.loc[dfGraphAgrege.indicateur == 'pc_pl'].valeur.min() + 2\n",
    "\n",
    "# creation Chart\n",
    "chartAgrege = (alt.Chart(dfGraphAgrege, title=titreAgrege).mark_line(point=True).encode(\n",
    "    x=alt.X('annee:O'),\n",
    "    y=alt.Y('valeur', title='tmja')).transform_filter(\n",
    "    (datum.indicateur == 'tmja')) + (alt.Chart(dfGraphAgrege, title=titreAgrege).mark_line(color=couleurY2, point=True).encode(\n",
    "        x='annee:O',\n",
    "        y=alt.Y('valeur',\n",
    "                scale=alt.Scale(domain=[yMinPcPl, yMaxPcPl]),\n",
    "                axis=alt.Axis(title = 'pc_pl', labelColor=couleurY2, titleColor=couleurY2, tickColor=couleurY2))).transform_filter(\n",
    "        (datum.indicateur == 'pc_pl'))) + \n",
    "                  (alt.Chart(dfGraphAgrege, title=titreAgrege).mark_circle(color=couleurY2).encode(\n",
    "                      x='annee:O',\n",
    "                      y=alt.Y('valeur',\n",
    "                              scale=alt.Scale(domain=[yMinPcPl, yMaxPcPl]),\n",
    "                              axis=alt.Axis(title = 'pc_pl', labelColor=couleurY2, titleColor=couleurY2, tickColor=couleurY2))).transform_filter(\n",
    "                      (datum.indicateur == 'pc_pl')))).resolve_scale(y='independent').properties(width=largeur, height=hauteur)\n",
    "chartAgrege"
   ]
  },
  {
   "cell_type": "code",
   "execution_count": 137,
   "metadata": {},
   "outputs": [
    {
     "data": {
      "text/html": [
       "\n",
       "<div id=\"altair-viz-6330c3e029aa4405bfd64b32f6168064\"></div>\n",
       "<script type=\"text/javascript\">\n",
       "  var VEGA_DEBUG = (typeof VEGA_DEBUG == \"undefined\") ? {} : VEGA_DEBUG;\n",
       "  (function(spec, embedOpt){\n",
       "    let outputDiv = document.currentScript.previousElementSibling;\n",
       "    if (outputDiv.id !== \"altair-viz-6330c3e029aa4405bfd64b32f6168064\") {\n",
       "      outputDiv = document.getElementById(\"altair-viz-6330c3e029aa4405bfd64b32f6168064\");\n",
       "    }\n",
       "    const paths = {\n",
       "      \"vega\": \"https://cdn.jsdelivr.net/npm//vega@5?noext\",\n",
       "      \"vega-lib\": \"https://cdn.jsdelivr.net/npm//vega-lib?noext\",\n",
       "      \"vega-lite\": \"https://cdn.jsdelivr.net/npm//vega-lite@4.17.0?noext\",\n",
       "      \"vega-embed\": \"https://cdn.jsdelivr.net/npm//vega-embed@6?noext\",\n",
       "    };\n",
       "\n",
       "    function maybeLoadScript(lib, version) {\n",
       "      var key = `${lib.replace(\"-\", \"\")}_version`;\n",
       "      return (VEGA_DEBUG[key] == version) ?\n",
       "        Promise.resolve(paths[lib]) :\n",
       "        new Promise(function(resolve, reject) {\n",
       "          var s = document.createElement('script');\n",
       "          document.getElementsByTagName(\"head\")[0].appendChild(s);\n",
       "          s.async = true;\n",
       "          s.onload = () => {\n",
       "            VEGA_DEBUG[key] = version;\n",
       "            return resolve(paths[lib]);\n",
       "          };\n",
       "          s.onerror = () => reject(`Error loading script: ${paths[lib]}`);\n",
       "          s.src = paths[lib];\n",
       "        });\n",
       "    }\n",
       "\n",
       "    function showError(err) {\n",
       "      outputDiv.innerHTML = `<div class=\"error\" style=\"color:red;\">${err}</div>`;\n",
       "      throw err;\n",
       "    }\n",
       "\n",
       "    function displayChart(vegaEmbed) {\n",
       "      vegaEmbed(outputDiv, spec, embedOpt)\n",
       "        .catch(err => showError(`Javascript Error: ${err.message}<br>This usually means there's a typo in your chart specification. See the javascript console for the full traceback.`));\n",
       "    }\n",
       "\n",
       "    if(typeof define === \"function\" && define.amd) {\n",
       "      requirejs.config({paths});\n",
       "      require([\"vega-embed\"], displayChart, err => showError(`Error loading script: ${err.message}`));\n",
       "    } else {\n",
       "      maybeLoadScript(\"vega\", \"5\")\n",
       "        .then(() => maybeLoadScript(\"vega-lite\", \"4.17.0\"))\n",
       "        .then(() => maybeLoadScript(\"vega-embed\", \"6\"))\n",
       "        .catch(showError)\n",
       "        .then(() => displayChart(vegaEmbed));\n",
       "    }\n",
       "  })({\"config\": {\"view\": {\"continuousWidth\": 400, \"continuousHeight\": 300}}, \"hconcat\": [{\"data\": {\"name\": \"data-bcfbd9f8032c780d169ec379feb72152\"}, \"mark\": \"bar\", \"encoding\": {\"x\": {\"field\": \"annee\", \"type\": \"ordinal\"}, \"y\": {\"field\": \"valeur\", \"title\": \"tmja\", \"type\": \"quantitative\"}}, \"height\": 200, \"title\": \"79-D748-28+500\", \"transform\": [{\"filter\": \"(datum.indicateur === 'tmja')\"}], \"width\": 300}, {\"data\": {\"name\": \"data-c123f9a488e3cb9e5f1726d9b5946c11\"}, \"mark\": \"bar\", \"encoding\": {\"x\": {\"axis\": {\"labelOffset\": 40}, \"field\": \"annee\", \"scale\": {\"domain\": [2012, 2013, 2014, 2015, 2016]}, \"timeUnit\": \"year\", \"title\": \"Annee\", \"type\": \"temporal\"}, \"y\": {\"field\": \"valeur\", \"title\": \"tmja\", \"type\": \"quantitative\"}}, \"height\": 200, \"title\": \"79-D748-28+500\", \"transform\": [{\"filter\": \"(datum.indicateur === 'tmja')\"}], \"width\": 300}], \"$schema\": \"https://vega.github.io/schema/vega-lite/v4.17.0.json\", \"datasets\": {\"data-bcfbd9f8032c780d169ec379feb72152\": [{\"annee\": \"2012\", \"valeur\": 3252.0, \"indicateur\": \"tmja\"}, {\"annee\": \"2014\", \"valeur\": 3873.0, \"indicateur\": \"tmja\"}, {\"annee\": \"2016\", \"valeur\": 4407.0, \"indicateur\": \"tmja\"}], \"data-c123f9a488e3cb9e5f1726d9b5946c11\": [{\"annee\": \"2012-01-01T00:00:00\", \"valeur\": 3252.0, \"indicateur\": \"tmja\"}, {\"annee\": \"2014-01-01T00:00:00\", \"valeur\": 3873.0, \"indicateur\": \"tmja\"}, {\"annee\": \"2016-01-01T00:00:00\", \"valeur\": 4407.0, \"indicateur\": \"tmja\"}]}}, {\"mode\": \"vega-lite\"});\n",
       "</script>"
      ],
      "text/plain": [
       "alt.HConcatChart(...)"
      ]
     },
     "execution_count": 137,
     "metadata": {},
     "output_type": "execute_result"
    }
   ],
   "source": [
    "# cas de données à trou\n",
    "dfIndicComplete = dfGraphAgregeTrou.copy()\n",
    "dfIndicComplete.annee = dfIndicComplete.annee.apply(lambda x: datetime.strptime(x, '%Y'))\n",
    "domainDate = [e for e in range(dfIndicComplete.annee.min().year, dfIndicComplete.annee.max().year + 1)]\n",
    "(alt.Chart(dfGraphAgregeTrou, title=id_comptag_trou).mark_bar().encode(\n",
    "    x=alt.X('annee:O'),\n",
    "    y=alt.Y('valeur', title='tmja')).transform_filter(\n",
    "    (datum.indicateur == 'tmja')).properties(width=largeur, height=hauteur) | \n",
    " alt.Chart(dfIndicComplete, title=id_comptag_trou).mark_bar().encode(\n",
    "    x=alt.X('year(annee):T', title='Annee', scale=alt.Scale(domain=domainDate), axis=alt.Axis(labelOffset=40)),\n",
    "    y=alt.Y('valeur', title='tmja')).transform_filter(\n",
    "    (datum.indicateur == 'tmja')).properties(width=largeur, height=hauteur))"
   ]
  },
  {
   "cell_type": "code",
   "execution_count": 142,
   "metadata": {},
   "outputs": [
    {
     "data": {
      "text/html": [
       "\n",
       "<div id=\"altair-viz-370fcd90685d4d47a7a9ff01bd6f660f\"></div>\n",
       "<script type=\"text/javascript\">\n",
       "  var VEGA_DEBUG = (typeof VEGA_DEBUG == \"undefined\") ? {} : VEGA_DEBUG;\n",
       "  (function(spec, embedOpt){\n",
       "    let outputDiv = document.currentScript.previousElementSibling;\n",
       "    if (outputDiv.id !== \"altair-viz-370fcd90685d4d47a7a9ff01bd6f660f\") {\n",
       "      outputDiv = document.getElementById(\"altair-viz-370fcd90685d4d47a7a9ff01bd6f660f\");\n",
       "    }\n",
       "    const paths = {\n",
       "      \"vega\": \"https://cdn.jsdelivr.net/npm//vega@5?noext\",\n",
       "      \"vega-lib\": \"https://cdn.jsdelivr.net/npm//vega-lib?noext\",\n",
       "      \"vega-lite\": \"https://cdn.jsdelivr.net/npm//vega-lite@4.17.0?noext\",\n",
       "      \"vega-embed\": \"https://cdn.jsdelivr.net/npm//vega-embed@6?noext\",\n",
       "    };\n",
       "\n",
       "    function maybeLoadScript(lib, version) {\n",
       "      var key = `${lib.replace(\"-\", \"\")}_version`;\n",
       "      return (VEGA_DEBUG[key] == version) ?\n",
       "        Promise.resolve(paths[lib]) :\n",
       "        new Promise(function(resolve, reject) {\n",
       "          var s = document.createElement('script');\n",
       "          document.getElementsByTagName(\"head\")[0].appendChild(s);\n",
       "          s.async = true;\n",
       "          s.onload = () => {\n",
       "            VEGA_DEBUG[key] = version;\n",
       "            return resolve(paths[lib]);\n",
       "          };\n",
       "          s.onerror = () => reject(`Error loading script: ${paths[lib]}`);\n",
       "          s.src = paths[lib];\n",
       "        });\n",
       "    }\n",
       "\n",
       "    function showError(err) {\n",
       "      outputDiv.innerHTML = `<div class=\"error\" style=\"color:red;\">${err}</div>`;\n",
       "      throw err;\n",
       "    }\n",
       "\n",
       "    function displayChart(vegaEmbed) {\n",
       "      vegaEmbed(outputDiv, spec, embedOpt)\n",
       "        .catch(err => showError(`Javascript Error: ${err.message}<br>This usually means there's a typo in your chart specification. See the javascript console for the full traceback.`));\n",
       "    }\n",
       "\n",
       "    if(typeof define === \"function\" && define.amd) {\n",
       "      requirejs.config({paths});\n",
       "      require([\"vega-embed\"], displayChart, err => showError(`Error loading script: ${err.message}`));\n",
       "    } else {\n",
       "      maybeLoadScript(\"vega\", \"5\")\n",
       "        .then(() => maybeLoadScript(\"vega-lite\", \"4.17.0\"))\n",
       "        .then(() => maybeLoadScript(\"vega-embed\", \"6\"))\n",
       "        .catch(showError)\n",
       "        .then(() => displayChart(vegaEmbed));\n",
       "    }\n",
       "  })({\"config\": {\"view\": {\"continuousWidth\": 400, \"continuousHeight\": 300}}, \"data\": {\"name\": \"data-e897af01513e627eecf9292574acba08\"}, \"mark\": \"bar\", \"encoding\": {\"x\": {\"field\": \"annee\", \"type\": \"ordinal\"}, \"y\": {\"field\": \"valeur\", \"title\": \"tmja\", \"type\": \"quantitative\"}}, \"height\": 200, \"title\": {\"text\": [\"compteur 16-D1000-11+194\"], \"fontSize\": 14}, \"transform\": [{\"filter\": \"(datum.indicateur === 'tmja')\"}], \"width\": 300, \"$schema\": \"https://vega.github.io/schema/vega-lite/v4.17.0.json\", \"datasets\": {\"data-e897af01513e627eecf9292574acba08\": [{\"annee\": \"2010\", \"valeur\": 6.0, \"indicateur\": \"pc_pl\"}, {\"annee\": \"2010\", \"valeur\": 8369.0, \"indicateur\": \"tmja\"}, {\"annee\": \"2011\", \"valeur\": 6.23, \"indicateur\": \"pc_pl\"}, {\"annee\": \"2011\", \"valeur\": 9021.0, \"indicateur\": \"tmja\"}, {\"annee\": \"2012\", \"valeur\": 6.06, \"indicateur\": \"pc_pl\"}, {\"annee\": \"2012\", \"valeur\": 9738.0, \"indicateur\": \"tmja\"}, {\"annee\": \"2013\", \"valeur\": 5.93, \"indicateur\": \"pc_pl\"}, {\"annee\": \"2013\", \"valeur\": 10348.0, \"indicateur\": \"tmja\"}, {\"annee\": \"2014\", \"valeur\": 6.02, \"indicateur\": \"pc_pl\"}, {\"annee\": \"2014\", \"valeur\": 10667.0, \"indicateur\": \"tmja\"}, {\"annee\": \"2015\", \"valeur\": 6.11, \"indicateur\": \"pc_pl\"}, {\"annee\": \"2015\", \"valeur\": 11100.0, \"indicateur\": \"tmja\"}, {\"annee\": \"2016\", \"valeur\": 5.96, \"indicateur\": \"pc_pl\"}, {\"annee\": \"2016\", \"valeur\": 11595.0, \"indicateur\": \"tmja\"}, {\"annee\": \"2017\", \"valeur\": 6.12, \"indicateur\": \"pc_pl\"}, {\"annee\": \"2017\", \"valeur\": 11783.0, \"indicateur\": \"tmja\"}, {\"annee\": \"2018\", \"valeur\": 5.9, \"indicateur\": \"pc_pl\"}, {\"annee\": \"2018\", \"valeur\": 11868.0, \"indicateur\": \"tmja\"}, {\"annee\": \"2019\", \"valeur\": 6.14, \"indicateur\": \"pc_pl\"}, {\"annee\": \"2019\", \"valeur\": 12437.0, \"indicateur\": \"tmja\"}]}}, {\"mode\": \"vega-lite\"});\n",
       "</script>"
      ],
      "text/plain": [
       "alt.Chart(...)"
      ]
     },
     "execution_count": 142,
     "metadata": {},
     "output_type": "execute_result"
    }
   ],
   "source": [
    "# cas simple avec 1 seul indic\n",
    "alt.Chart(dfGraphAgrege, title=titreAgrege).mark_bar().encode(\n",
    "    x=alt.X('annee:O'),\n",
    "    y=alt.Y('valeur', title='tmja')).transform_filter(\n",
    "    (datum.indicateur == 'tmja')).properties(width=largeur, height=hauteur)"
   ]
  },
  {
   "cell_type": "code",
   "execution_count": 49,
   "metadata": {},
   "outputs": [],
   "source": [
    "# export donnees source\n",
    "dfGraphAgrege.to_json(r'C:\\Users\\martin.schoreisz\\Box\\Cerema\\3C-Prod_Mob\\C4-ITS_Trafics_Regulation-Productions\\C41-Connaissance_trafics_routiers\\2022-QAE-Evol_OTR\\4-Travaux_en_cours\\Expression_Besoin\\Projet_Valorisation\\exemples_graphs\\chartAgrege_data.json')"
   ]
  },
  {
   "cell_type": "markdown",
   "metadata": {
    "tags": []
   },
   "source": [
    "## **Graphs mensuels profil gestionnaire**"
   ]
  },
  {
   "cell_type": "code",
   "execution_count": 143,
   "metadata": {},
   "outputs": [
    {
     "data": {
      "text/html": [
       "\n",
       "<div id=\"altair-viz-36d3d614f05e4132a1fcaaac0f1a9932\"></div>\n",
       "<script type=\"text/javascript\">\n",
       "  var VEGA_DEBUG = (typeof VEGA_DEBUG == \"undefined\") ? {} : VEGA_DEBUG;\n",
       "  (function(spec, embedOpt){\n",
       "    let outputDiv = document.currentScript.previousElementSibling;\n",
       "    if (outputDiv.id !== \"altair-viz-36d3d614f05e4132a1fcaaac0f1a9932\") {\n",
       "      outputDiv = document.getElementById(\"altair-viz-36d3d614f05e4132a1fcaaac0f1a9932\");\n",
       "    }\n",
       "    const paths = {\n",
       "      \"vega\": \"https://cdn.jsdelivr.net/npm//vega@5?noext\",\n",
       "      \"vega-lib\": \"https://cdn.jsdelivr.net/npm//vega-lib?noext\",\n",
       "      \"vega-lite\": \"https://cdn.jsdelivr.net/npm//vega-lite@4.17.0?noext\",\n",
       "      \"vega-embed\": \"https://cdn.jsdelivr.net/npm//vega-embed@6?noext\",\n",
       "    };\n",
       "\n",
       "    function maybeLoadScript(lib, version) {\n",
       "      var key = `${lib.replace(\"-\", \"\")}_version`;\n",
       "      return (VEGA_DEBUG[key] == version) ?\n",
       "        Promise.resolve(paths[lib]) :\n",
       "        new Promise(function(resolve, reject) {\n",
       "          var s = document.createElement('script');\n",
       "          document.getElementsByTagName(\"head\")[0].appendChild(s);\n",
       "          s.async = true;\n",
       "          s.onload = () => {\n",
       "            VEGA_DEBUG[key] = version;\n",
       "            return resolve(paths[lib]);\n",
       "          };\n",
       "          s.onerror = () => reject(`Error loading script: ${paths[lib]}`);\n",
       "          s.src = paths[lib];\n",
       "        });\n",
       "    }\n",
       "\n",
       "    function showError(err) {\n",
       "      outputDiv.innerHTML = `<div class=\"error\" style=\"color:red;\">${err}</div>`;\n",
       "      throw err;\n",
       "    }\n",
       "\n",
       "    function displayChart(vegaEmbed) {\n",
       "      vegaEmbed(outputDiv, spec, embedOpt)\n",
       "        .catch(err => showError(`Javascript Error: ${err.message}<br>This usually means there's a typo in your chart specification. See the javascript console for the full traceback.`));\n",
       "    }\n",
       "\n",
       "    if(typeof define === \"function\" && define.amd) {\n",
       "      requirejs.config({paths});\n",
       "      require([\"vega-embed\"], displayChart, err => showError(`Error loading script: ${err.message}`));\n",
       "    } else {\n",
       "      maybeLoadScript(\"vega\", \"5\")\n",
       "        .then(() => maybeLoadScript(\"vega-lite\", \"4.17.0\"))\n",
       "        .then(() => maybeLoadScript(\"vega-embed\", \"6\"))\n",
       "        .catch(showError)\n",
       "        .then(() => displayChart(vegaEmbed));\n",
       "    }\n",
       "  })({\"config\": {\"view\": {\"continuousWidth\": 400, \"continuousHeight\": 300}}, \"layer\": [{\"mark\": {\"type\": \"line\", \"point\": true}, \"encoding\": {\"x\": {\"field\": \"mois\", \"sort\": [\"janv\", \"fevr\", \"mars\", \"avri\", \"mai\", \"juin\", \"juil\", \"aout\", \"sept\", \"octo\", \"nove\", \"dece\"], \"type\": \"ordinal\"}, \"y\": {\"field\": \"valeur\", \"title\": \"tmja\", \"type\": \"quantitative\"}}, \"title\": [\"compteur 33-A630-14+23 ; \", \"annee 2019\"], \"transform\": [{\"filter\": \"(datum.indicateur === 'tmja')\"}]}, {\"mark\": {\"type\": \"line\", \"color\": \"green\"}, \"encoding\": {\"x\": {\"field\": \"mois\", \"sort\": [\"janv\", \"fevr\", \"mars\", \"avri\", \"mai\", \"juin\", \"juil\", \"aout\", \"sept\", \"octo\", \"nove\", \"dece\"], \"type\": \"ordinal\"}, \"y\": {\"axis\": {\"labelColor\": \"green\", \"tickColor\": \"green\", \"title\": \"pc_pl\", \"titleColor\": \"green\"}, \"field\": \"valeur\", \"scale\": {\"domain\": [3.9000000000000004, 7.9]}, \"type\": \"quantitative\"}}, \"title\": [\"compteur 33-A630-14+23 ; \", \"annee 2019\"], \"transform\": [{\"filter\": \"(datum.indicateur === 'pc_pl')\"}]}, {\"mark\": {\"type\": \"circle\", \"color\": \"green\"}, \"encoding\": {\"x\": {\"field\": \"mois\", \"sort\": [\"janv\", \"fevr\", \"mars\", \"avri\", \"mai\", \"juin\", \"juil\", \"aout\", \"sept\", \"octo\", \"nove\", \"dece\"], \"type\": \"ordinal\"}, \"y\": {\"axis\": {\"labelColor\": \"green\", \"tickColor\": \"green\", \"title\": \"pc_pl\", \"titleColor\": \"green\"}, \"field\": \"valeur\", \"scale\": {\"domain\": [3.9000000000000004, 7.9]}, \"type\": \"quantitative\"}}, \"title\": [\"compteur 33-A630-14+23 ; \", \"annee 2019\"], \"transform\": [{\"filter\": \"(datum.indicateur === 'pc_pl')\"}]}], \"data\": {\"name\": \"data-2a26aa232111837a8670d5a4d8cb6a12\"}, \"height\": 200, \"resolve\": {\"scale\": {\"y\": \"independent\"}}, \"width\": 300, \"$schema\": \"https://vega.github.io/schema/vega-lite/v4.17.0.json\", \"datasets\": {\"data-2a26aa232111837a8670d5a4d8cb6a12\": [{\"mois\": \"mai\", \"indicateur\": \"tmja\", \"valeur\": 78382.0}, {\"mois\": \"avri\", \"indicateur\": \"tmja\", \"valeur\": 80287.0}, {\"mois\": \"janv\", \"indicateur\": \"pc_pl\", \"valeur\": 5.1}, {\"mois\": \"mars\", \"indicateur\": \"tmja\", \"valeur\": 76977.0}, {\"mois\": \"juil\", \"indicateur\": \"tmja\", \"valeur\": 83563.0}, {\"mois\": \"juin\", \"indicateur\": \"tmja\", \"valeur\": 81394.0}, {\"mois\": \"octo\", \"indicateur\": \"pc_pl\", \"valeur\": 5.8}, {\"mois\": \"dece\", \"indicateur\": \"pc_pl\", \"valeur\": 4.9}, {\"mois\": \"fevr\", \"indicateur\": \"pc_pl\", \"valeur\": 5.3}, {\"mois\": \"fevr\", \"indicateur\": \"tmja\", \"valeur\": 76501.0}, {\"mois\": \"avri\", \"indicateur\": \"pc_pl\", \"valeur\": 6.0}, {\"mois\": \"dece\", \"indicateur\": \"tmja\", \"valeur\": 74505.0}, {\"mois\": \"juil\", \"indicateur\": \"pc_pl\", \"valeur\": 6.0}, {\"mois\": \"nove\", \"indicateur\": \"tmja\", \"valeur\": 76865.0}, {\"mois\": \"aout\", \"indicateur\": \"tmja\", \"valeur\": 77686.0}, {\"mois\": \"octo\", \"indicateur\": \"tmja\", \"valeur\": 80445.0}, {\"mois\": \"nove\", \"indicateur\": \"pc_pl\", \"valeur\": 5.2}, {\"mois\": \"mai\", \"indicateur\": \"pc_pl\", \"valeur\": 5.4}, {\"mois\": \"aout\", \"indicateur\": \"pc_pl\", \"valeur\": 5.2}, {\"mois\": \"janv\", \"indicateur\": \"tmja\", \"valeur\": 73279.0}, {\"mois\": \"juin\", \"indicateur\": \"pc_pl\", \"valeur\": 5.5}, {\"mois\": \"sept\", \"indicateur\": \"tmja\", \"valeur\": 80663.0}, {\"mois\": \"sept\", \"indicateur\": \"pc_pl\", \"valeur\": 5.7}, {\"mois\": \"mars\", \"indicateur\": \"pc_pl\", \"valeur\": 5.5}]}}, {\"mode\": \"vega-lite\"});\n",
       "</script>"
      ],
      "text/plain": [
       "alt.LayerChart(...)"
      ]
     },
     "execution_count": 143,
     "metadata": {},
     "output_type": "execute_result"
    }
   ],
   "source": [
    "# params\n",
    "id_comptag = '33-A630-14+23'\n",
    "annee = '2019'\n",
    "indic = ['tmja', 'pc_pl']\n",
    "rqtMensuel = f\"\"\"\n",
    "      SELECT im.mois, im.indicateur, im.valeur  FROM valorisation.comptage c JOIN valorisation.indic_mensuel im ON im.id_comptag_uniq = c.id\n",
    "      WHERE im.indicateur = any(array{indic}) AND c.id_comptag = '{id_comptag}' AND c.annee = '{annee}'\n",
    "      \"\"\"\n",
    "titreMensuel = [f'compteur {id_comptag} ; ', f'annee {annee}']\n",
    "couleurY2 = 'green'\n",
    "yMinPcPl = dfGraphAgrege.loc[dfGraphAgrege.indicateur == 'pc_pl'].valeur.min() - 2\n",
    "yMaxPcPl = dfGraphAgrege.loc[dfGraphAgrege.indicateur == 'pc_pl'].valeur.min() + 2\n",
    "listMois = ['janv', 'fevr', 'mars', 'avri', 'mai', 'juin', 'juil', 'aout', 'sept', 'octo', 'nove', 'dece']\n",
    "\n",
    "# import donnees\n",
    "with ct.ConnexionBdd('local_otv_boulot') as c:\n",
    "    dfGraphMensuel = pd.read_sql(rqtMensuel, c.sqlAlchemyConn)\n",
    "\n",
    "# creation Chart\n",
    "chartMensuel = (alt.Chart(dfGraphMensuel, title=titreMensuel).mark_line(point=True).encode(\n",
    "    x=alt.X('mois:O', sort=listMois),\n",
    "    y=alt.Y('valeur', title='tmja')).transform_filter(\n",
    "    (datum.indicateur == 'tmja')) + (\n",
    "    alt.Chart(dfGraphMensuel, title=titreMensuel).mark_line(color=couleurY2).encode(\n",
    "        x=alt.X('mois:O', sort=listMois),\n",
    "        y=alt.Y('valeur', \n",
    "        scale=alt.Scale(domain=[yMinPcPl, yMaxPcPl]),\n",
    "        axis=alt.Axis(title = 'pc_pl', labelColor=couleurY2, titleColor=couleurY2, tickColor=couleurY2))).transform_filter(\n",
    "        (datum.indicateur == 'pc_pl'))) + (\n",
    "    alt.Chart(dfGraphMensuel, title=titreMensuel).mark_circle(color=couleurY2).encode(\n",
    "        x=alt.X('mois:O', sort=listMois),\n",
    "        y=alt.Y('valeur', \n",
    "        scale=alt.Scale(domain=[yMinPcPl, yMaxPcPl]),\n",
    "        axis=alt.Axis(title = 'pc_pl', labelColor=couleurY2, titleColor=couleurY2, tickColor=couleurY2))).transform_filter(\n",
    "        (datum.indicateur == 'pc_pl')))).resolve_scale(y='independent')\n",
    "chartMensuel.properties(width=largeur, height=hauteur)"
   ]
  },
  {
   "cell_type": "code",
   "execution_count": 144,
   "metadata": {},
   "outputs": [
    {
     "data": {
      "text/html": [
       "\n",
       "<div id=\"altair-viz-017bef064beb4dd58e5283367d302ff0\"></div>\n",
       "<script type=\"text/javascript\">\n",
       "  var VEGA_DEBUG = (typeof VEGA_DEBUG == \"undefined\") ? {} : VEGA_DEBUG;\n",
       "  (function(spec, embedOpt){\n",
       "    let outputDiv = document.currentScript.previousElementSibling;\n",
       "    if (outputDiv.id !== \"altair-viz-017bef064beb4dd58e5283367d302ff0\") {\n",
       "      outputDiv = document.getElementById(\"altair-viz-017bef064beb4dd58e5283367d302ff0\");\n",
       "    }\n",
       "    const paths = {\n",
       "      \"vega\": \"https://cdn.jsdelivr.net/npm//vega@5?noext\",\n",
       "      \"vega-lib\": \"https://cdn.jsdelivr.net/npm//vega-lib?noext\",\n",
       "      \"vega-lite\": \"https://cdn.jsdelivr.net/npm//vega-lite@4.17.0?noext\",\n",
       "      \"vega-embed\": \"https://cdn.jsdelivr.net/npm//vega-embed@6?noext\",\n",
       "    };\n",
       "\n",
       "    function maybeLoadScript(lib, version) {\n",
       "      var key = `${lib.replace(\"-\", \"\")}_version`;\n",
       "      return (VEGA_DEBUG[key] == version) ?\n",
       "        Promise.resolve(paths[lib]) :\n",
       "        new Promise(function(resolve, reject) {\n",
       "          var s = document.createElement('script');\n",
       "          document.getElementsByTagName(\"head\")[0].appendChild(s);\n",
       "          s.async = true;\n",
       "          s.onload = () => {\n",
       "            VEGA_DEBUG[key] = version;\n",
       "            return resolve(paths[lib]);\n",
       "          };\n",
       "          s.onerror = () => reject(`Error loading script: ${paths[lib]}`);\n",
       "          s.src = paths[lib];\n",
       "        });\n",
       "    }\n",
       "\n",
       "    function showError(err) {\n",
       "      outputDiv.innerHTML = `<div class=\"error\" style=\"color:red;\">${err}</div>`;\n",
       "      throw err;\n",
       "    }\n",
       "\n",
       "    function displayChart(vegaEmbed) {\n",
       "      vegaEmbed(outputDiv, spec, embedOpt)\n",
       "        .catch(err => showError(`Javascript Error: ${err.message}<br>This usually means there's a typo in your chart specification. See the javascript console for the full traceback.`));\n",
       "    }\n",
       "\n",
       "    if(typeof define === \"function\" && define.amd) {\n",
       "      requirejs.config({paths});\n",
       "      require([\"vega-embed\"], displayChart, err => showError(`Error loading script: ${err.message}`));\n",
       "    } else {\n",
       "      maybeLoadScript(\"vega\", \"5\")\n",
       "        .then(() => maybeLoadScript(\"vega-lite\", \"4.17.0\"))\n",
       "        .then(() => maybeLoadScript(\"vega-embed\", \"6\"))\n",
       "        .catch(showError)\n",
       "        .then(() => displayChart(vegaEmbed));\n",
       "    }\n",
       "  })({\"config\": {\"view\": {\"continuousWidth\": 400, \"continuousHeight\": 300}}, \"data\": {\"name\": \"data-2a26aa232111837a8670d5a4d8cb6a12\"}, \"mark\": \"bar\", \"encoding\": {\"x\": {\"field\": \"mois\", \"sort\": [\"janv\", \"fevr\", \"mars\", \"avri\", \"mai\", \"juin\", \"juil\", \"aout\", \"sept\", \"octo\", \"nove\", \"dece\"], \"type\": \"ordinal\"}, \"y\": {\"field\": \"valeur\", \"title\": \"tmja\", \"type\": \"quantitative\"}}, \"height\": 200, \"title\": [\"compteur 33-A630-14+23 ; \", \"annee 2019\"], \"transform\": [{\"filter\": \"(datum.indicateur === 'tmja')\"}], \"width\": 300, \"$schema\": \"https://vega.github.io/schema/vega-lite/v4.17.0.json\", \"datasets\": {\"data-2a26aa232111837a8670d5a4d8cb6a12\": [{\"mois\": \"mai\", \"indicateur\": \"tmja\", \"valeur\": 78382.0}, {\"mois\": \"avri\", \"indicateur\": \"tmja\", \"valeur\": 80287.0}, {\"mois\": \"janv\", \"indicateur\": \"pc_pl\", \"valeur\": 5.1}, {\"mois\": \"mars\", \"indicateur\": \"tmja\", \"valeur\": 76977.0}, {\"mois\": \"juil\", \"indicateur\": \"tmja\", \"valeur\": 83563.0}, {\"mois\": \"juin\", \"indicateur\": \"tmja\", \"valeur\": 81394.0}, {\"mois\": \"octo\", \"indicateur\": \"pc_pl\", \"valeur\": 5.8}, {\"mois\": \"dece\", \"indicateur\": \"pc_pl\", \"valeur\": 4.9}, {\"mois\": \"fevr\", \"indicateur\": \"pc_pl\", \"valeur\": 5.3}, {\"mois\": \"fevr\", \"indicateur\": \"tmja\", \"valeur\": 76501.0}, {\"mois\": \"avri\", \"indicateur\": \"pc_pl\", \"valeur\": 6.0}, {\"mois\": \"dece\", \"indicateur\": \"tmja\", \"valeur\": 74505.0}, {\"mois\": \"juil\", \"indicateur\": \"pc_pl\", \"valeur\": 6.0}, {\"mois\": \"nove\", \"indicateur\": \"tmja\", \"valeur\": 76865.0}, {\"mois\": \"aout\", \"indicateur\": \"tmja\", \"valeur\": 77686.0}, {\"mois\": \"octo\", \"indicateur\": \"tmja\", \"valeur\": 80445.0}, {\"mois\": \"nove\", \"indicateur\": \"pc_pl\", \"valeur\": 5.2}, {\"mois\": \"mai\", \"indicateur\": \"pc_pl\", \"valeur\": 5.4}, {\"mois\": \"aout\", \"indicateur\": \"pc_pl\", \"valeur\": 5.2}, {\"mois\": \"janv\", \"indicateur\": \"tmja\", \"valeur\": 73279.0}, {\"mois\": \"juin\", \"indicateur\": \"pc_pl\", \"valeur\": 5.5}, {\"mois\": \"sept\", \"indicateur\": \"tmja\", \"valeur\": 80663.0}, {\"mois\": \"sept\", \"indicateur\": \"pc_pl\", \"valeur\": 5.7}, {\"mois\": \"mars\", \"indicateur\": \"pc_pl\", \"valeur\": 5.5}]}}, {\"mode\": \"vega-lite\"});\n",
       "</script>"
      ],
      "text/plain": [
       "alt.Chart(...)"
      ]
     },
     "execution_count": 144,
     "metadata": {},
     "output_type": "execute_result"
    }
   ],
   "source": [
    "alt.Chart(dfGraphMensuel, title=titreMensuel).mark_bar().encode(\n",
    "    x=alt.X('mois:O', sort=listMois),\n",
    "    y=alt.Y('valeur', title='tmja')).transform_filter(\n",
    "    (datum.indicateur == 'tmja')).properties(width=largeur, height=hauteur)"
   ]
  },
  {
   "cell_type": "code",
   "execution_count": 52,
   "metadata": {},
   "outputs": [],
   "source": [
    "# export donnees source\n",
    "dfGraphMensuel.to_json(r'C:\\Users\\martin.schoreisz\\Box\\Cerema\\3C-Prod_Mob\\C4-ITS_Trafics_Regulation-Productions\\C41-Connaissance_trafics_routiers\\2022-QAE-Evol_OTR\\4-Travaux_en_cours\\Expression_Besoin\\Projet_Valorisation\\exemples_graphs\\chartMensuel_data.json')"
   ]
  },
  {
   "cell_type": "markdown",
   "metadata": {
    "tags": []
   },
   "source": [
    "## **Graphs horaire profil gestionnaire**"
   ]
  },
  {
   "cell_type": "code",
   "execution_count": 145,
   "metadata": {},
   "outputs": [
    {
     "data": {
      "text/html": [
       "\n",
       "<div id=\"altair-viz-8edfdd2b1fcb4eb380723ff119309a5d\"></div>\n",
       "<script type=\"text/javascript\">\n",
       "  var VEGA_DEBUG = (typeof VEGA_DEBUG == \"undefined\") ? {} : VEGA_DEBUG;\n",
       "  (function(spec, embedOpt){\n",
       "    let outputDiv = document.currentScript.previousElementSibling;\n",
       "    if (outputDiv.id !== \"altair-viz-8edfdd2b1fcb4eb380723ff119309a5d\") {\n",
       "      outputDiv = document.getElementById(\"altair-viz-8edfdd2b1fcb4eb380723ff119309a5d\");\n",
       "    }\n",
       "    const paths = {\n",
       "      \"vega\": \"https://cdn.jsdelivr.net/npm//vega@5?noext\",\n",
       "      \"vega-lib\": \"https://cdn.jsdelivr.net/npm//vega-lib?noext\",\n",
       "      \"vega-lite\": \"https://cdn.jsdelivr.net/npm//vega-lite@4.17.0?noext\",\n",
       "      \"vega-embed\": \"https://cdn.jsdelivr.net/npm//vega-embed@6?noext\",\n",
       "    };\n",
       "\n",
       "    function maybeLoadScript(lib, version) {\n",
       "      var key = `${lib.replace(\"-\", \"\")}_version`;\n",
       "      return (VEGA_DEBUG[key] == version) ?\n",
       "        Promise.resolve(paths[lib]) :\n",
       "        new Promise(function(resolve, reject) {\n",
       "          var s = document.createElement('script');\n",
       "          document.getElementsByTagName(\"head\")[0].appendChild(s);\n",
       "          s.async = true;\n",
       "          s.onload = () => {\n",
       "            VEGA_DEBUG[key] = version;\n",
       "            return resolve(paths[lib]);\n",
       "          };\n",
       "          s.onerror = () => reject(`Error loading script: ${paths[lib]}`);\n",
       "          s.src = paths[lib];\n",
       "        });\n",
       "    }\n",
       "\n",
       "    function showError(err) {\n",
       "      outputDiv.innerHTML = `<div class=\"error\" style=\"color:red;\">${err}</div>`;\n",
       "      throw err;\n",
       "    }\n",
       "\n",
       "    function displayChart(vegaEmbed) {\n",
       "      vegaEmbed(outputDiv, spec, embedOpt)\n",
       "        .catch(err => showError(`Javascript Error: ${err.message}<br>This usually means there's a typo in your chart specification. See the javascript console for the full traceback.`));\n",
       "    }\n",
       "\n",
       "    if(typeof define === \"function\" && define.amd) {\n",
       "      requirejs.config({paths});\n",
       "      require([\"vega-embed\"], displayChart, err => showError(`Error loading script: ${err.message}`));\n",
       "    } else {\n",
       "      maybeLoadScript(\"vega\", \"5\")\n",
       "        .then(() => maybeLoadScript(\"vega-lite\", \"4.17.0\"))\n",
       "        .then(() => maybeLoadScript(\"vega-embed\", \"6\"))\n",
       "        .catch(showError)\n",
       "        .then(() => displayChart(vegaEmbed));\n",
       "    }\n",
       "  })({\"config\": {\"view\": {\"continuousWidth\": 400, \"continuousHeight\": 300}}, \"data\": {\"name\": \"data-3150c2ca1f180ebcd603b32604344ecf\"}, \"mark\": {\"type\": \"line\", \"point\": true}, \"encoding\": {\"color\": {\"field\": \"indicateur\", \"type\": \"nominal\"}, \"x\": {\"field\": \"heure\", \"sort\": [\"h0_1\", \"h1_2\", \"h2_3\", \"h3_4\", \"h4_5\", \"h5_6\", \"h6_7\", \"h7_8\", \"h8_9\", \"h9_10\", \"h10_11\", \"h11_12\", \"h12_13\", \"h13_14\", \"h14_15\", \"h15_16\", \"h16_17\", \"h17_18\", \"h18_19\", \"h19_20\", \"h20_21\", \"h21_22\", \"h22_23\", \"h23_24\"], \"type\": \"nominal\"}, \"y\": {\"field\": \"nb_veh\", \"title\": \"MJA_VL ; MJO_VL\", \"type\": \"quantitative\"}}, \"height\": 200, \"title\": [\"compteur 33-A630-23+0 ; \", \"annee 2019\"], \"width\": 300, \"$schema\": \"https://vega.github.io/schema/vega-lite/v4.17.0.json\", \"datasets\": {\"data-3150c2ca1f180ebcd603b32604344ecf\": [{\"indicateur\": \"MJA_VL\", \"heure\": \"h0_1\", \"nb_veh\": 888.0}, {\"indicateur\": \"MJO_VL\", \"heure\": \"h0_1\", \"nb_veh\": 632.0}, {\"indicateur\": \"MJA_VL\", \"heure\": \"h1_2\", \"nb_veh\": 532.0}, {\"indicateur\": \"MJO_VL\", \"heure\": \"h1_2\", \"nb_veh\": 314.0}, {\"indicateur\": \"MJA_VL\", \"heure\": \"h2_3\", \"nb_veh\": 328.0}, {\"indicateur\": \"MJO_VL\", \"heure\": \"h2_3\", \"nb_veh\": 192.0}, {\"indicateur\": \"MJA_VL\", \"heure\": \"h3_4\", \"nb_veh\": 285.0}, {\"indicateur\": \"MJO_VL\", \"heure\": \"h3_4\", \"nb_veh\": 233.0}, {\"indicateur\": \"MJA_VL\", \"heure\": \"h4_5\", \"nb_veh\": 511.0}, {\"indicateur\": \"MJO_VL\", \"heure\": \"h4_5\", \"nb_veh\": 532.0}, {\"indicateur\": \"MJA_VL\", \"heure\": \"h5_6\", \"nb_veh\": 1037.0}, {\"indicateur\": \"MJO_VL\", \"heure\": \"h5_6\", \"nb_veh\": 1236.0}, {\"indicateur\": \"MJA_VL\", \"heure\": \"h6_7\", \"nb_veh\": 2574.0}, {\"indicateur\": \"MJO_VL\", \"heure\": \"h6_7\", \"nb_veh\": 3345.0}, {\"indicateur\": \"MJA_VL\", \"heure\": \"h7_8\", \"nb_veh\": 5584.0}, {\"indicateur\": \"MJO_VL\", \"heure\": \"h7_8\", \"nb_veh\": 7503.0}, {\"indicateur\": \"MJA_VL\", \"heure\": \"h8_9\", \"nb_veh\": 5860.0}, {\"indicateur\": \"MJO_VL\", \"heure\": \"h8_9\", \"nb_veh\": 7530.0}, {\"indicateur\": \"MJA_VL\", \"heure\": \"h9_10\", \"nb_veh\": 4906.0}, {\"indicateur\": \"MJO_VL\", \"heure\": \"h9_10\", \"nb_veh\": 5711.0}, {\"indicateur\": \"MJA_VL\", \"heure\": \"h10_11\", \"nb_veh\": 4642.0}, {\"indicateur\": \"MJO_VL\", \"heure\": \"h10_11\", \"nb_veh\": 4956.0}, {\"indicateur\": \"MJA_VL\", \"heure\": \"h11_12\", \"nb_veh\": 4961.0}, {\"indicateur\": \"MJO_VL\", \"heure\": \"h11_12\", \"nb_veh\": 5077.0}, {\"indicateur\": \"MJA_VL\", \"heure\": \"h12_13\", \"nb_veh\": 5084.0}, {\"indicateur\": \"MJO_VL\", \"heure\": \"h12_13\", \"nb_veh\": 5324.0}, {\"indicateur\": \"MJA_VL\", \"heure\": \"h13_14\", \"nb_veh\": 4852.0}, {\"indicateur\": \"MJO_VL\", \"heure\": \"h13_14\", \"nb_veh\": 5280.0}, {\"indicateur\": \"MJA_VL\", \"heure\": \"h14_15\", \"nb_veh\": 5201.0}, {\"indicateur\": \"MJO_VL\", \"heure\": \"h14_15\", \"nb_veh\": 5603.0}, {\"indicateur\": \"MJA_VL\", \"heure\": \"h15_16\", \"nb_veh\": 5567.0}, {\"indicateur\": \"MJO_VL\", \"heure\": \"h15_16\", \"nb_veh\": 5957.0}, {\"indicateur\": \"MJA_VL\", \"heure\": \"h16_17\", \"nb_veh\": 6225.0}, {\"indicateur\": \"MJO_VL\", \"heure\": \"h16_17\", \"nb_veh\": 6799.0}, {\"indicateur\": \"MJA_VL\", \"heure\": \"h17_18\", \"nb_veh\": 6294.0}, {\"indicateur\": \"MJO_VL\", \"heure\": \"h17_18\", \"nb_veh\": 6652.0}, {\"indicateur\": \"MJA_VL\", \"heure\": \"h18_19\", \"nb_veh\": 6168.0}, {\"indicateur\": \"MJO_VL\", \"heure\": \"h18_19\", \"nb_veh\": 6421.0}, {\"indicateur\": \"MJA_VL\", \"heure\": \"h19_20\", \"nb_veh\": 5284.0}, {\"indicateur\": \"MJO_VL\", \"heure\": \"h19_20\", \"nb_veh\": 5471.0}, {\"indicateur\": \"MJA_VL\", \"heure\": \"h20_21\", \"nb_veh\": 3380.0}, {\"indicateur\": \"MJO_VL\", \"heure\": \"h20_21\", \"nb_veh\": 3466.0}, {\"indicateur\": \"MJA_VL\", \"heure\": \"h21_22\", \"nb_veh\": 2147.0}, {\"indicateur\": \"MJO_VL\", \"heure\": \"h21_22\", \"nb_veh\": 2170.0}, {\"indicateur\": \"MJA_VL\", \"heure\": \"h22_23\", \"nb_veh\": 1777.0}, {\"indicateur\": \"MJO_VL\", \"heure\": \"h22_23\", \"nb_veh\": 1806.0}, {\"indicateur\": \"MJA_VL\", \"heure\": \"h23_24\", \"nb_veh\": 1379.0}, {\"indicateur\": \"MJO_VL\", \"heure\": \"h23_24\", \"nb_veh\": 1364.0}]}}, {\"mode\": \"vega-lite\"});\n",
       "</script>"
      ],
      "text/plain": [
       "alt.Chart(...)"
      ]
     },
     "execution_count": 145,
     "metadata": {},
     "output_type": "execute_result"
    }
   ],
   "source": [
    "# params\n",
    "id_comptag = '33-A630-23+0'\n",
    "annee = '2019'\n",
    "indic = ['MJA_VL', 'MJO_VL']\n",
    "rqtHoraire = f\"\"\"\n",
    "      SELECT ih.indicateur, ih.h0_1, ih.h1_2, ih.h2_3, ih.h3_4, ih.h4_5, ih.h5_6, ih.h6_7, ih.h7_8, ih.h8_9, ih.h9_10, ih.h10_11, \n",
    "       ih.h11_12, ih.h12_13, ih.h13_14, ih.h14_15, ih.h15_16, ih.h16_17, ih.h17_18, ih.h18_19, ih.h19_20, ih.h20_21, ih.h21_22, \n",
    "       ih.h22_23, ih.h23_24  FROM valorisation.comptage c JOIN valorisation.indic_horaire ih ON ih.id_comptag_uniq = c.id\n",
    "      WHERE ih.indicateur =ANY(ARRAY{indic}) AND c.id_comptag = '{id_comptag}' AND c.annee = '{2019}' \n",
    "      \"\"\"\n",
    "titreHoraire = [f'compteur {id_comptag} ; ', f'annee {annee}']\n",
    "couleurY2 = 'green'\n",
    "yMinPcPl = dfGraphAgrege.loc[dfGraphAgrege.indicateur == 'pc_pl'].valeur.min() - 2\n",
    "yMaxPcPl = dfGraphAgrege.loc[dfGraphAgrege.indicateur == 'pc_pl'].valeur.min() + 2\n",
    "listHeure = ['h0_1', 'h1_2', 'h2_3', 'h3_4', 'h4_5', 'h5_6', 'h6_7', 'h7_8', 'h8_9', 'h9_10', 'h10_11',\n",
    "             'h11_12', 'h12_13', 'h13_14', 'h14_15', 'h15_16', 'h16_17', 'h17_18', 'h18_19', 'h19_20', 'h20_21', 'h21_22',\n",
    "             'h22_23', 'h23_24']\n",
    "\n",
    "# import donnees\n",
    "with ct.ConnexionBdd('local_otv_boulot') as c:\n",
    "    dfGraphHoraire = pd.read_sql(rqtHoraire, c.sqlAlchemyConn)\n",
    "    dfGraphHoraire = dfGraphHoraire.melt(id_vars='indicateur', value_vars=listHeure, var_name='heure', value_name='nb_veh')\n",
    "\n",
    "# creation Chart\n",
    "chartHoraire = alt.Chart(dfGraphHoraire, title=titreHoraire).mark_line(point=True).encode(\n",
    "    x=alt.X('heure:N', sort=listHeure),\n",
    "    y=alt.Y('nb_veh:Q', title='MJA_VL ; MJO_VL'),\n",
    "    color='indicateur:N')\n",
    "chartHoraire.properties(width=largeur, height=hauteur)"
   ]
  },
  {
   "cell_type": "code",
   "execution_count": 54,
   "metadata": {},
   "outputs": [],
   "source": [
    "# export donnees source\n",
    "dfGraphHoraire.to_json(r'C:\\Users\\martin.schoreisz\\Box\\Cerema\\3C-Prod_Mob\\C4-ITS_Trafics_Regulation-Productions\\C41-Connaissance_trafics_routiers\\2022-QAE-Evol_OTR\\4-Travaux_en_cours\\Expression_Besoin\\Projet_Valorisation\\exemples_graphs\\chartHoraire_data.json')"
   ]
  },
  {
   "cell_type": "code",
   "execution_count": 146,
   "metadata": {},
   "outputs": [
    {
     "data": {
      "text/html": [
       "\n",
       "<div id=\"altair-viz-98a1509e4cb84e5eaac42b315e32cf2f\"></div>\n",
       "<script type=\"text/javascript\">\n",
       "  var VEGA_DEBUG = (typeof VEGA_DEBUG == \"undefined\") ? {} : VEGA_DEBUG;\n",
       "  (function(spec, embedOpt){\n",
       "    let outputDiv = document.currentScript.previousElementSibling;\n",
       "    if (outputDiv.id !== \"altair-viz-98a1509e4cb84e5eaac42b315e32cf2f\") {\n",
       "      outputDiv = document.getElementById(\"altair-viz-98a1509e4cb84e5eaac42b315e32cf2f\");\n",
       "    }\n",
       "    const paths = {\n",
       "      \"vega\": \"https://cdn.jsdelivr.net/npm//vega@5?noext\",\n",
       "      \"vega-lib\": \"https://cdn.jsdelivr.net/npm//vega-lib?noext\",\n",
       "      \"vega-lite\": \"https://cdn.jsdelivr.net/npm//vega-lite@4.17.0?noext\",\n",
       "      \"vega-embed\": \"https://cdn.jsdelivr.net/npm//vega-embed@6?noext\",\n",
       "    };\n",
       "\n",
       "    function maybeLoadScript(lib, version) {\n",
       "      var key = `${lib.replace(\"-\", \"\")}_version`;\n",
       "      return (VEGA_DEBUG[key] == version) ?\n",
       "        Promise.resolve(paths[lib]) :\n",
       "        new Promise(function(resolve, reject) {\n",
       "          var s = document.createElement('script');\n",
       "          document.getElementsByTagName(\"head\")[0].appendChild(s);\n",
       "          s.async = true;\n",
       "          s.onload = () => {\n",
       "            VEGA_DEBUG[key] = version;\n",
       "            return resolve(paths[lib]);\n",
       "          };\n",
       "          s.onerror = () => reject(`Error loading script: ${paths[lib]}`);\n",
       "          s.src = paths[lib];\n",
       "        });\n",
       "    }\n",
       "\n",
       "    function showError(err) {\n",
       "      outputDiv.innerHTML = `<div class=\"error\" style=\"color:red;\">${err}</div>`;\n",
       "      throw err;\n",
       "    }\n",
       "\n",
       "    function displayChart(vegaEmbed) {\n",
       "      vegaEmbed(outputDiv, spec, embedOpt)\n",
       "        .catch(err => showError(`Javascript Error: ${err.message}<br>This usually means there's a typo in your chart specification. See the javascript console for the full traceback.`));\n",
       "    }\n",
       "\n",
       "    if(typeof define === \"function\" && define.amd) {\n",
       "      requirejs.config({paths});\n",
       "      require([\"vega-embed\"], displayChart, err => showError(`Error loading script: ${err.message}`));\n",
       "    } else {\n",
       "      maybeLoadScript(\"vega\", \"5\")\n",
       "        .then(() => maybeLoadScript(\"vega-lite\", \"4.17.0\"))\n",
       "        .then(() => maybeLoadScript(\"vega-embed\", \"6\"))\n",
       "        .catch(showError)\n",
       "        .then(() => displayChart(vegaEmbed));\n",
       "    }\n",
       "  })({\"config\": {\"view\": {\"continuousWidth\": 400, \"continuousHeight\": 300}}, \"data\": {\"name\": \"data-3150c2ca1f180ebcd603b32604344ecf\"}, \"mark\": \"bar\", \"encoding\": {\"x\": {\"field\": \"heure\", \"sort\": [\"h0_1\", \"h1_2\", \"h2_3\", \"h3_4\", \"h4_5\", \"h5_6\", \"h6_7\", \"h7_8\", \"h8_9\", \"h9_10\", \"h10_11\", \"h11_12\", \"h12_13\", \"h13_14\", \"h14_15\", \"h15_16\", \"h16_17\", \"h17_18\", \"h18_19\", \"h19_20\", \"h20_21\", \"h21_22\", \"h22_23\", \"h23_24\"], \"type\": \"nominal\"}, \"y\": {\"field\": \"nb_veh\", \"title\": \"MJA_VL ; MJO_VL\", \"type\": \"quantitative\"}}, \"height\": 200, \"title\": [\"compteur 33-A630-23+0 ; \", \"annee 2019\"], \"transform\": [{\"filter\": \"(datum.indicateur === 'MJA_VL')\"}], \"width\": 300, \"$schema\": \"https://vega.github.io/schema/vega-lite/v4.17.0.json\", \"datasets\": {\"data-3150c2ca1f180ebcd603b32604344ecf\": [{\"indicateur\": \"MJA_VL\", \"heure\": \"h0_1\", \"nb_veh\": 888.0}, {\"indicateur\": \"MJO_VL\", \"heure\": \"h0_1\", \"nb_veh\": 632.0}, {\"indicateur\": \"MJA_VL\", \"heure\": \"h1_2\", \"nb_veh\": 532.0}, {\"indicateur\": \"MJO_VL\", \"heure\": \"h1_2\", \"nb_veh\": 314.0}, {\"indicateur\": \"MJA_VL\", \"heure\": \"h2_3\", \"nb_veh\": 328.0}, {\"indicateur\": \"MJO_VL\", \"heure\": \"h2_3\", \"nb_veh\": 192.0}, {\"indicateur\": \"MJA_VL\", \"heure\": \"h3_4\", \"nb_veh\": 285.0}, {\"indicateur\": \"MJO_VL\", \"heure\": \"h3_4\", \"nb_veh\": 233.0}, {\"indicateur\": \"MJA_VL\", \"heure\": \"h4_5\", \"nb_veh\": 511.0}, {\"indicateur\": \"MJO_VL\", \"heure\": \"h4_5\", \"nb_veh\": 532.0}, {\"indicateur\": \"MJA_VL\", \"heure\": \"h5_6\", \"nb_veh\": 1037.0}, {\"indicateur\": \"MJO_VL\", \"heure\": \"h5_6\", \"nb_veh\": 1236.0}, {\"indicateur\": \"MJA_VL\", \"heure\": \"h6_7\", \"nb_veh\": 2574.0}, {\"indicateur\": \"MJO_VL\", \"heure\": \"h6_7\", \"nb_veh\": 3345.0}, {\"indicateur\": \"MJA_VL\", \"heure\": \"h7_8\", \"nb_veh\": 5584.0}, {\"indicateur\": \"MJO_VL\", \"heure\": \"h7_8\", \"nb_veh\": 7503.0}, {\"indicateur\": \"MJA_VL\", \"heure\": \"h8_9\", \"nb_veh\": 5860.0}, {\"indicateur\": \"MJO_VL\", \"heure\": \"h8_9\", \"nb_veh\": 7530.0}, {\"indicateur\": \"MJA_VL\", \"heure\": \"h9_10\", \"nb_veh\": 4906.0}, {\"indicateur\": \"MJO_VL\", \"heure\": \"h9_10\", \"nb_veh\": 5711.0}, {\"indicateur\": \"MJA_VL\", \"heure\": \"h10_11\", \"nb_veh\": 4642.0}, {\"indicateur\": \"MJO_VL\", \"heure\": \"h10_11\", \"nb_veh\": 4956.0}, {\"indicateur\": \"MJA_VL\", \"heure\": \"h11_12\", \"nb_veh\": 4961.0}, {\"indicateur\": \"MJO_VL\", \"heure\": \"h11_12\", \"nb_veh\": 5077.0}, {\"indicateur\": \"MJA_VL\", \"heure\": \"h12_13\", \"nb_veh\": 5084.0}, {\"indicateur\": \"MJO_VL\", \"heure\": \"h12_13\", \"nb_veh\": 5324.0}, {\"indicateur\": \"MJA_VL\", \"heure\": \"h13_14\", \"nb_veh\": 4852.0}, {\"indicateur\": \"MJO_VL\", \"heure\": \"h13_14\", \"nb_veh\": 5280.0}, {\"indicateur\": \"MJA_VL\", \"heure\": \"h14_15\", \"nb_veh\": 5201.0}, {\"indicateur\": \"MJO_VL\", \"heure\": \"h14_15\", \"nb_veh\": 5603.0}, {\"indicateur\": \"MJA_VL\", \"heure\": \"h15_16\", \"nb_veh\": 5567.0}, {\"indicateur\": \"MJO_VL\", \"heure\": \"h15_16\", \"nb_veh\": 5957.0}, {\"indicateur\": \"MJA_VL\", \"heure\": \"h16_17\", \"nb_veh\": 6225.0}, {\"indicateur\": \"MJO_VL\", \"heure\": \"h16_17\", \"nb_veh\": 6799.0}, {\"indicateur\": \"MJA_VL\", \"heure\": \"h17_18\", \"nb_veh\": 6294.0}, {\"indicateur\": \"MJO_VL\", \"heure\": \"h17_18\", \"nb_veh\": 6652.0}, {\"indicateur\": \"MJA_VL\", \"heure\": \"h18_19\", \"nb_veh\": 6168.0}, {\"indicateur\": \"MJO_VL\", \"heure\": \"h18_19\", \"nb_veh\": 6421.0}, {\"indicateur\": \"MJA_VL\", \"heure\": \"h19_20\", \"nb_veh\": 5284.0}, {\"indicateur\": \"MJO_VL\", \"heure\": \"h19_20\", \"nb_veh\": 5471.0}, {\"indicateur\": \"MJA_VL\", \"heure\": \"h20_21\", \"nb_veh\": 3380.0}, {\"indicateur\": \"MJO_VL\", \"heure\": \"h20_21\", \"nb_veh\": 3466.0}, {\"indicateur\": \"MJA_VL\", \"heure\": \"h21_22\", \"nb_veh\": 2147.0}, {\"indicateur\": \"MJO_VL\", \"heure\": \"h21_22\", \"nb_veh\": 2170.0}, {\"indicateur\": \"MJA_VL\", \"heure\": \"h22_23\", \"nb_veh\": 1777.0}, {\"indicateur\": \"MJO_VL\", \"heure\": \"h22_23\", \"nb_veh\": 1806.0}, {\"indicateur\": \"MJA_VL\", \"heure\": \"h23_24\", \"nb_veh\": 1379.0}, {\"indicateur\": \"MJO_VL\", \"heure\": \"h23_24\", \"nb_veh\": 1364.0}]}}, {\"mode\": \"vega-lite\"});\n",
       "</script>"
      ],
      "text/plain": [
       "alt.Chart(...)"
      ]
     },
     "execution_count": 146,
     "metadata": {},
     "output_type": "execute_result"
    }
   ],
   "source": [
    "alt.Chart(dfGraphHoraire, title=titreHoraire).mark_bar().encode(\n",
    "    x=alt.X('heure:N', sort=listHeure),\n",
    "    y=alt.Y('nb_veh:Q', title='MJA_VL ; MJO_VL')).transform_filter(\n",
    "    (datum.indicateur == 'MJA_VL')).properties(width=largeur, height=hauteur)"
   ]
  },
  {
   "cell_type": "code",
   "execution_count": null,
   "metadata": {},
   "outputs": [],
   "source": []
  }
 ],
 "metadata": {
  "kernelspec": {
   "display_name": "Python 3 (ipykernel)",
   "language": "python",
   "name": "python3"
  },
  "language_info": {
   "codemirror_mode": {
    "name": "ipython",
    "version": 3
   },
   "file_extension": ".py",
   "mimetype": "text/x-python",
   "name": "python",
   "nbconvert_exporter": "python",
   "pygments_lexer": "ipython3",
   "version": "3.9.6"
  },
  "toc-autonumbering": true
 },
 "nbformat": 4,
 "nbformat_minor": 4
}
