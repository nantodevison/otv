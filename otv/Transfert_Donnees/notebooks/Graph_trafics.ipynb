{
 "cells": [
  {
   "cell_type": "code",
   "execution_count": 108,
   "metadata": {},
   "outputs": [
    {
     "name": "stdout",
     "output_type": "stream",
     "text": [
      "The autoreload extension is already loaded. To reload it, use:\n",
      "  %reload_ext autoreload\n"
     ]
    }
   ],
   "source": [
    "%load_ext autoreload\n",
    "%autoreload 2\n",
    "import sys\n",
    "sys.path.append(r'C:\\Users\\martin.schoreisz\\git\\otv\\otv\\Transfert_Donnees')\n",
    "sys.path.append(r'C:\\Users\\\\martin.schoreisz\\git\\Outils\\Outils\\Martin_Perso')\n",
    "import pandas as pd\n",
    "import geopandas as gp\n",
    "import numpy as np\n",
    "from shapely import wkt\n",
    "import altair as alt\n",
    "from altair import datum\n",
    "from datetime import datetime\n",
    "import csv, re, os, statistics, filecmp, unidecode\n",
    "from math import sqrt, pi, exp\n",
    "import Connexion_Transfert as ct\n",
    "import Import_trafics as it\n",
    "import Donnees_horaires as dh\n",
    "import Visualisation as vi\n",
    "import Outils\n",
    "\n",
    "import Donnees_horaires as dh\n",
    "\n",
    "import sqlalchemy"
   ]
  },
  {
   "cell_type": "markdown",
   "metadata": {
    "tags": []
   },
   "source": [
    "# **EXEMPLE DE GRAPH HORAIRE** \n",
    "> vérifier la structure attributaire car changement de structure bdd"
   ]
  },
  {
   "cell_type": "markdown",
   "metadata": {},
   "source": [
    "> ## **Visu de la répartition des données**\n",
    "exemple horaire DIRA"
   ]
  },
  {
   "cell_type": "code",
   "execution_count": 3,
   "metadata": {},
   "outputs": [],
   "source": [
    "#donnees\n",
    "dira=it.Comptage_Dira(r'Q:\\DAIT\\TI\\DREAL33\\2020\\OTV\\Doc_travail\\Donnees_source\\DIRA\\0_tmja_dira_par_section_20200106.ods',\n",
    "                      r'Q:\\DAIT\\TI\\DREAL33\\2020\\OTV\\Doc_travail\\Donnees_source\\DIRA\\0_Annee_Complete_2019',\n",
    "                     '2019')\n",
    "df_horaire=dira.miseEnFormeFeuille(pd.read_excel(os.path.join(dira.dossierAnneeComplete,'Ruffec_Trimestre_1_2019.xls'),sheet_name=None),\n",
    "                                 'S_MBC16.G_1','gti_otv_pg11', 'na_2010_2019_p')"
   ]
  },
  {
   "cell_type": "code",
   "execution_count": 14,
   "metadata": {},
   "outputs": [],
   "source": [
    "#stats\n",
    "ecartType,moyenne,median,plageMin,plageMax=dh.statsHoraires(df_horaire,'h10_11')"
   ]
  },
  {
   "cell_type": "code",
   "execution_count": 78,
   "metadata": {
    "jupyter": {
     "source_hidden": true
    }
   },
   "outputs": [],
   "source": [
    "def graphTrafHoraire(df_horaire, stats, attributHeure):\n",
    "    ecartType,moyenne,median,plageMin,plageMax=stats\n",
    "    chartTraf=alt.Chart(df_horaire.loc[(df_horaire['type_veh']=='VL')&(~df_horaire[attributHeure].isna())][['jour',attributHeure]].\n",
    "                        sort_values(attributHeure),title=attributHeure).mark_point().encode(\n",
    "                x='jour',\n",
    "                y=alt.Y(attributHeure+':Q',axis=alt.Axis(title='Nb de vehicule')),\n",
    "                tooltip='jour').interactive()\n",
    "\n",
    "    chartStat=alt.Chart(pd.concat([df_horaire[['jour']].assign(val=v, typeVal=t) \n",
    "                                   for v,t in ((moyenne,'moyenne'),(median,'median'))])).mark_line().encode(\n",
    "        x='jour',y='val',color='typeVal')\n",
    "\n",
    "    intervalleConf=alt.Chart(df_horaire[['jour']].assign(plageMini=plageMin, plageMaxi=plageMax)).mark_area(opacity=0.3, color='yellow').encode(\n",
    "            x='jour', \n",
    "            y=alt.Y('plageMini',axis=alt.Axis(title='Nb de vehicule')),\n",
    "            y2='plageMaxi')\n",
    "\n",
    "    return intervalleConf+chartTraf+chartStat"
   ]
  },
  {
   "cell_type": "code",
   "execution_count": 82,
   "metadata": {},
   "outputs": [
    {
     "data": {
      "application/vnd.vegalite.v3+json": {
       "$schema": "https://vega.github.io/schema/vega-lite/v3.4.0.json",
       "config": {
        "mark": {
         "tooltip": null
        },
        "view": {
         "height": 300,
         "width": 400
        }
       },
       "datasets": {
        "data-171b509c25be84cb64872bbb172bd3ba": [
         {
          "h8_9": 7,
          "jour": "2019-01-08T00:00:00"
         },
         {
          "h8_9": 53,
          "jour": "2019-01-01T00:00:00"
         },
         {
          "h8_9": 65,
          "jour": "2019-01-27T00:00:00"
         },
         {
          "h8_9": 83,
          "jour": "2019-01-13T00:00:00"
         },
         {
          "h8_9": 85,
          "jour": "2019-01-20T00:00:00"
         },
         {
          "h8_9": 90,
          "jour": "2019-02-10T00:00:00"
         },
         {
          "h8_9": 101,
          "jour": "2019-03-17T00:00:00"
         },
         {
          "h8_9": 102,
          "jour": "2019-02-03T00:00:00"
         },
         {
          "h8_9": 103,
          "jour": "2019-03-31T00:00:00"
         },
         {
          "h8_9": 122,
          "jour": "2019-03-03T00:00:00"
         },
         {
          "h8_9": 129,
          "jour": "2019-01-12T00:00:00"
         },
         {
          "h8_9": 131,
          "jour": "2019-01-06T00:00:00"
         },
         {
          "h8_9": 136,
          "jour": "2019-03-24T00:00:00"
         },
         {
          "h8_9": 137,
          "jour": "2019-03-10T00:00:00"
         },
         {
          "h8_9": 142,
          "jour": "2019-02-17T00:00:00"
         },
         {
          "h8_9": 156,
          "jour": "2019-01-26T00:00:00"
         },
         {
          "h8_9": 173,
          "jour": "2019-02-02T00:00:00"
         },
         {
          "h8_9": 173,
          "jour": "2019-01-19T00:00:00"
         },
         {
          "h8_9": 178,
          "jour": "2019-02-24T00:00:00"
         },
         {
          "h8_9": 216,
          "jour": "2019-01-05T00:00:00"
         },
         {
          "h8_9": 220,
          "jour": "2019-02-27T00:00:00"
         },
         {
          "h8_9": 220,
          "jour": "2019-01-09T00:00:00"
         },
         {
          "h8_9": 222,
          "jour": "2019-01-23T00:00:00"
         },
         {
          "h8_9": 226,
          "jour": "2019-01-25T00:00:00"
         },
         {
          "h8_9": 233,
          "jour": "2019-03-02T00:00:00"
         },
         {
          "h8_9": 234,
          "jour": "2019-03-09T00:00:00"
         },
         {
          "h8_9": 236,
          "jour": "2019-03-23T00:00:00"
         },
         {
          "h8_9": 236,
          "jour": "2019-01-11T00:00:00"
         },
         {
          "h8_9": 237,
          "jour": "2019-02-13T00:00:00"
         },
         {
          "h8_9": 237,
          "jour": "2019-02-16T00:00:00"
         },
         {
          "h8_9": 238,
          "jour": "2019-02-23T00:00:00"
         },
         {
          "h8_9": 238,
          "jour": "2019-02-20T00:00:00"
         },
         {
          "h8_9": 241,
          "jour": "2019-02-08T00:00:00"
         },
         {
          "h8_9": 243,
          "jour": "2019-01-03T00:00:00"
         },
         {
          "h8_9": 245,
          "jour": "2019-02-28T00:00:00"
         },
         {
          "h8_9": 247,
          "jour": "2019-01-04T00:00:00"
         },
         {
          "h8_9": 250,
          "jour": "2019-02-01T00:00:00"
         },
         {
          "h8_9": 250,
          "jour": "2019-01-30T00:00:00"
         },
         {
          "h8_9": 254,
          "jour": "2019-01-10T00:00:00"
         },
         {
          "h8_9": 256,
          "jour": "2019-02-22T00:00:00"
         },
         {
          "h8_9": 261,
          "jour": "2019-03-30T00:00:00"
         },
         {
          "h8_9": 262,
          "jour": "2019-01-24T00:00:00"
         },
         {
          "h8_9": 262,
          "jour": "2019-03-06T00:00:00"
         },
         {
          "h8_9": 266,
          "jour": "2019-03-08T00:00:00"
         },
         {
          "h8_9": 267,
          "jour": "2019-03-20T00:00:00"
         },
         {
          "h8_9": 271,
          "jour": "2019-01-18T00:00:00"
         },
         {
          "h8_9": 271,
          "jour": "2019-02-19T00:00:00"
         },
         {
          "h8_9": 271,
          "jour": "2019-03-27T00:00:00"
         },
         {
          "h8_9": 272,
          "jour": "2019-02-06T00:00:00"
         },
         {
          "h8_9": 272,
          "jour": "2019-01-16T00:00:00"
         },
         {
          "h8_9": 278,
          "jour": "2019-03-01T00:00:00"
         },
         {
          "h8_9": 279,
          "jour": "2019-02-12T00:00:00"
         },
         {
          "h8_9": 280,
          "jour": "2019-01-22T00:00:00"
         },
         {
          "h8_9": 281,
          "jour": "2019-01-29T00:00:00"
         },
         {
          "h8_9": 282,
          "jour": "2019-01-02T00:00:00"
         },
         {
          "h8_9": 287,
          "jour": "2019-02-14T00:00:00"
         },
         {
          "h8_9": 289,
          "jour": "2019-02-15T00:00:00"
         },
         {
          "h8_9": 289,
          "jour": "2019-03-29T00:00:00"
         },
         {
          "h8_9": 289,
          "jour": "2019-01-15T00:00:00"
         },
         {
          "h8_9": 291,
          "jour": "2019-01-17T00:00:00"
         },
         {
          "h8_9": 293,
          "jour": "2019-03-15T00:00:00"
         },
         {
          "h8_9": 295,
          "jour": "2019-02-21T00:00:00"
         },
         {
          "h8_9": 297,
          "jour": "2019-02-05T00:00:00"
         },
         {
          "h8_9": 297,
          "jour": "2019-01-31T00:00:00"
         },
         {
          "h8_9": 302,
          "jour": "2019-03-16T00:00:00"
         },
         {
          "h8_9": 303,
          "jour": "2019-03-14T00:00:00"
         },
         {
          "h8_9": 303,
          "jour": "2019-03-22T00:00:00"
         },
         {
          "h8_9": 305,
          "jour": "2019-03-26T00:00:00"
         },
         {
          "h8_9": 306,
          "jour": "2019-02-09T00:00:00"
         },
         {
          "h8_9": 307,
          "jour": "2019-02-26T00:00:00"
         },
         {
          "h8_9": 308,
          "jour": "2019-02-07T00:00:00"
         },
         {
          "h8_9": 310,
          "jour": "2019-03-13T00:00:00"
         },
         {
          "h8_9": 313,
          "jour": "2019-03-07T00:00:00"
         },
         {
          "h8_9": 314,
          "jour": "2019-02-25T00:00:00"
         },
         {
          "h8_9": 317,
          "jour": "2019-01-07T00:00:00"
         },
         {
          "h8_9": 321,
          "jour": "2019-03-28T00:00:00"
         },
         {
          "h8_9": 329,
          "jour": "2019-03-12T00:00:00"
         },
         {
          "h8_9": 329,
          "jour": "2019-03-21T00:00:00"
         },
         {
          "h8_9": 335,
          "jour": "2019-02-18T00:00:00"
         },
         {
          "h8_9": 343,
          "jour": "2019-02-11T00:00:00"
         },
         {
          "h8_9": 348,
          "jour": "2019-01-28T00:00:00"
         },
         {
          "h8_9": 350,
          "jour": "2019-03-05T00:00:00"
         },
         {
          "h8_9": 367,
          "jour": "2019-02-04T00:00:00"
         },
         {
          "h8_9": 382,
          "jour": "2019-01-14T00:00:00"
         },
         {
          "h8_9": 388,
          "jour": "2019-03-04T00:00:00"
         },
         {
          "h8_9": 391,
          "jour": "2019-01-21T00:00:00"
         },
         {
          "h8_9": 399,
          "jour": "2019-03-11T00:00:00"
         },
         {
          "h8_9": 404,
          "jour": "2019-03-25T00:00:00"
         },
         {
          "h8_9": 412,
          "jour": "2019-03-18T00:00:00"
         }
        ],
        "data-40133e53997f9c5e5cce2e9f00f9cf7c": [
         {
          "jour": "2019-01-01T00:00:00",
          "typeVal": "moyenne",
          "val": 250.93258426966293
         },
         {
          "jour": "2019-01-01T00:00:00",
          "typeVal": "moyenne",
          "val": 250.93258426966293
         },
         {
          "jour": "2019-01-02T00:00:00",
          "typeVal": "moyenne",
          "val": 250.93258426966293
         },
         {
          "jour": "2019-01-02T00:00:00",
          "typeVal": "moyenne",
          "val": 250.93258426966293
         },
         {
          "jour": "2019-01-03T00:00:00",
          "typeVal": "moyenne",
          "val": 250.93258426966293
         },
         {
          "jour": "2019-01-03T00:00:00",
          "typeVal": "moyenne",
          "val": 250.93258426966293
         },
         {
          "jour": "2019-01-04T00:00:00",
          "typeVal": "moyenne",
          "val": 250.93258426966293
         },
         {
          "jour": "2019-01-04T00:00:00",
          "typeVal": "moyenne",
          "val": 250.93258426966293
         },
         {
          "jour": "2019-01-05T00:00:00",
          "typeVal": "moyenne",
          "val": 250.93258426966293
         },
         {
          "jour": "2019-01-05T00:00:00",
          "typeVal": "moyenne",
          "val": 250.93258426966293
         },
         {
          "jour": "2019-01-06T00:00:00",
          "typeVal": "moyenne",
          "val": 250.93258426966293
         },
         {
          "jour": "2019-01-06T00:00:00",
          "typeVal": "moyenne",
          "val": 250.93258426966293
         },
         {
          "jour": "2019-01-07T00:00:00",
          "typeVal": "moyenne",
          "val": 250.93258426966293
         },
         {
          "jour": "2019-01-07T00:00:00",
          "typeVal": "moyenne",
          "val": 250.93258426966293
         },
         {
          "jour": "2019-01-08T00:00:00",
          "typeVal": "moyenne",
          "val": 250.93258426966293
         },
         {
          "jour": "2019-01-08T00:00:00",
          "typeVal": "moyenne",
          "val": 250.93258426966293
         },
         {
          "jour": "2019-01-09T00:00:00",
          "typeVal": "moyenne",
          "val": 250.93258426966293
         },
         {
          "jour": "2019-01-09T00:00:00",
          "typeVal": "moyenne",
          "val": 250.93258426966293
         },
         {
          "jour": "2019-01-10T00:00:00",
          "typeVal": "moyenne",
          "val": 250.93258426966293
         },
         {
          "jour": "2019-01-10T00:00:00",
          "typeVal": "moyenne",
          "val": 250.93258426966293
         },
         {
          "jour": "2019-01-11T00:00:00",
          "typeVal": "moyenne",
          "val": 250.93258426966293
         },
         {
          "jour": "2019-01-11T00:00:00",
          "typeVal": "moyenne",
          "val": 250.93258426966293
         },
         {
          "jour": "2019-01-12T00:00:00",
          "typeVal": "moyenne",
          "val": 250.93258426966293
         },
         {
          "jour": "2019-01-12T00:00:00",
          "typeVal": "moyenne",
          "val": 250.93258426966293
         },
         {
          "jour": "2019-01-13T00:00:00",
          "typeVal": "moyenne",
          "val": 250.93258426966293
         },
         {
          "jour": "2019-01-13T00:00:00",
          "typeVal": "moyenne",
          "val": 250.93258426966293
         },
         {
          "jour": "2019-01-14T00:00:00",
          "typeVal": "moyenne",
          "val": 250.93258426966293
         },
         {
          "jour": "2019-01-14T00:00:00",
          "typeVal": "moyenne",
          "val": 250.93258426966293
         },
         {
          "jour": "2019-01-15T00:00:00",
          "typeVal": "moyenne",
          "val": 250.93258426966293
         },
         {
          "jour": "2019-01-15T00:00:00",
          "typeVal": "moyenne",
          "val": 250.93258426966293
         },
         {
          "jour": "2019-01-16T00:00:00",
          "typeVal": "moyenne",
          "val": 250.93258426966293
         },
         {
          "jour": "2019-01-16T00:00:00",
          "typeVal": "moyenne",
          "val": 250.93258426966293
         },
         {
          "jour": "2019-01-17T00:00:00",
          "typeVal": "moyenne",
          "val": 250.93258426966293
         },
         {
          "jour": "2019-01-17T00:00:00",
          "typeVal": "moyenne",
          "val": 250.93258426966293
         },
         {
          "jour": "2019-01-18T00:00:00",
          "typeVal": "moyenne",
          "val": 250.93258426966293
         },
         {
          "jour": "2019-01-18T00:00:00",
          "typeVal": "moyenne",
          "val": 250.93258426966293
         },
         {
          "jour": "2019-01-19T00:00:00",
          "typeVal": "moyenne",
          "val": 250.93258426966293
         },
         {
          "jour": "2019-01-19T00:00:00",
          "typeVal": "moyenne",
          "val": 250.93258426966293
         },
         {
          "jour": "2019-01-20T00:00:00",
          "typeVal": "moyenne",
          "val": 250.93258426966293
         },
         {
          "jour": "2019-01-20T00:00:00",
          "typeVal": "moyenne",
          "val": 250.93258426966293
         },
         {
          "jour": "2019-01-21T00:00:00",
          "typeVal": "moyenne",
          "val": 250.93258426966293
         },
         {
          "jour": "2019-01-21T00:00:00",
          "typeVal": "moyenne",
          "val": 250.93258426966293
         },
         {
          "jour": "2019-01-22T00:00:00",
          "typeVal": "moyenne",
          "val": 250.93258426966293
         },
         {
          "jour": "2019-01-22T00:00:00",
          "typeVal": "moyenne",
          "val": 250.93258426966293
         },
         {
          "jour": "2019-01-23T00:00:00",
          "typeVal": "moyenne",
          "val": 250.93258426966293
         },
         {
          "jour": "2019-01-23T00:00:00",
          "typeVal": "moyenne",
          "val": 250.93258426966293
         },
         {
          "jour": "2019-01-24T00:00:00",
          "typeVal": "moyenne",
          "val": 250.93258426966293
         },
         {
          "jour": "2019-01-24T00:00:00",
          "typeVal": "moyenne",
          "val": 250.93258426966293
         },
         {
          "jour": "2019-01-25T00:00:00",
          "typeVal": "moyenne",
          "val": 250.93258426966293
         },
         {
          "jour": "2019-01-25T00:00:00",
          "typeVal": "moyenne",
          "val": 250.93258426966293
         },
         {
          "jour": "2019-01-26T00:00:00",
          "typeVal": "moyenne",
          "val": 250.93258426966293
         },
         {
          "jour": "2019-01-26T00:00:00",
          "typeVal": "moyenne",
          "val": 250.93258426966293
         },
         {
          "jour": "2019-01-27T00:00:00",
          "typeVal": "moyenne",
          "val": 250.93258426966293
         },
         {
          "jour": "2019-01-27T00:00:00",
          "typeVal": "moyenne",
          "val": 250.93258426966293
         },
         {
          "jour": "2019-01-28T00:00:00",
          "typeVal": "moyenne",
          "val": 250.93258426966293
         },
         {
          "jour": "2019-01-28T00:00:00",
          "typeVal": "moyenne",
          "val": 250.93258426966293
         },
         {
          "jour": "2019-01-29T00:00:00",
          "typeVal": "moyenne",
          "val": 250.93258426966293
         },
         {
          "jour": "2019-01-29T00:00:00",
          "typeVal": "moyenne",
          "val": 250.93258426966293
         },
         {
          "jour": "2019-01-30T00:00:00",
          "typeVal": "moyenne",
          "val": 250.93258426966293
         },
         {
          "jour": "2019-01-30T00:00:00",
          "typeVal": "moyenne",
          "val": 250.93258426966293
         },
         {
          "jour": "2019-01-31T00:00:00",
          "typeVal": "moyenne",
          "val": 250.93258426966293
         },
         {
          "jour": "2019-01-31T00:00:00",
          "typeVal": "moyenne",
          "val": 250.93258426966293
         },
         {
          "jour": "2019-02-01T00:00:00",
          "typeVal": "moyenne",
          "val": 250.93258426966293
         },
         {
          "jour": "2019-02-01T00:00:00",
          "typeVal": "moyenne",
          "val": 250.93258426966293
         },
         {
          "jour": "2019-02-02T00:00:00",
          "typeVal": "moyenne",
          "val": 250.93258426966293
         },
         {
          "jour": "2019-02-02T00:00:00",
          "typeVal": "moyenne",
          "val": 250.93258426966293
         },
         {
          "jour": "2019-02-03T00:00:00",
          "typeVal": "moyenne",
          "val": 250.93258426966293
         },
         {
          "jour": "2019-02-03T00:00:00",
          "typeVal": "moyenne",
          "val": 250.93258426966293
         },
         {
          "jour": "2019-02-04T00:00:00",
          "typeVal": "moyenne",
          "val": 250.93258426966293
         },
         {
          "jour": "2019-02-04T00:00:00",
          "typeVal": "moyenne",
          "val": 250.93258426966293
         },
         {
          "jour": "2019-02-05T00:00:00",
          "typeVal": "moyenne",
          "val": 250.93258426966293
         },
         {
          "jour": "2019-02-05T00:00:00",
          "typeVal": "moyenne",
          "val": 250.93258426966293
         },
         {
          "jour": "2019-02-06T00:00:00",
          "typeVal": "moyenne",
          "val": 250.93258426966293
         },
         {
          "jour": "2019-02-06T00:00:00",
          "typeVal": "moyenne",
          "val": 250.93258426966293
         },
         {
          "jour": "2019-02-07T00:00:00",
          "typeVal": "moyenne",
          "val": 250.93258426966293
         },
         {
          "jour": "2019-02-07T00:00:00",
          "typeVal": "moyenne",
          "val": 250.93258426966293
         },
         {
          "jour": "2019-02-08T00:00:00",
          "typeVal": "moyenne",
          "val": 250.93258426966293
         },
         {
          "jour": "2019-02-08T00:00:00",
          "typeVal": "moyenne",
          "val": 250.93258426966293
         },
         {
          "jour": "2019-02-09T00:00:00",
          "typeVal": "moyenne",
          "val": 250.93258426966293
         },
         {
          "jour": "2019-02-09T00:00:00",
          "typeVal": "moyenne",
          "val": 250.93258426966293
         },
         {
          "jour": "2019-02-10T00:00:00",
          "typeVal": "moyenne",
          "val": 250.93258426966293
         },
         {
          "jour": "2019-02-10T00:00:00",
          "typeVal": "moyenne",
          "val": 250.93258426966293
         },
         {
          "jour": "2019-02-11T00:00:00",
          "typeVal": "moyenne",
          "val": 250.93258426966293
         },
         {
          "jour": "2019-02-11T00:00:00",
          "typeVal": "moyenne",
          "val": 250.93258426966293
         },
         {
          "jour": "2019-02-12T00:00:00",
          "typeVal": "moyenne",
          "val": 250.93258426966293
         },
         {
          "jour": "2019-02-12T00:00:00",
          "typeVal": "moyenne",
          "val": 250.93258426966293
         },
         {
          "jour": "2019-02-13T00:00:00",
          "typeVal": "moyenne",
          "val": 250.93258426966293
         },
         {
          "jour": "2019-02-13T00:00:00",
          "typeVal": "moyenne",
          "val": 250.93258426966293
         },
         {
          "jour": "2019-02-14T00:00:00",
          "typeVal": "moyenne",
          "val": 250.93258426966293
         },
         {
          "jour": "2019-02-14T00:00:00",
          "typeVal": "moyenne",
          "val": 250.93258426966293
         },
         {
          "jour": "2019-02-15T00:00:00",
          "typeVal": "moyenne",
          "val": 250.93258426966293
         },
         {
          "jour": "2019-02-15T00:00:00",
          "typeVal": "moyenne",
          "val": 250.93258426966293
         },
         {
          "jour": "2019-02-16T00:00:00",
          "typeVal": "moyenne",
          "val": 250.93258426966293
         },
         {
          "jour": "2019-02-16T00:00:00",
          "typeVal": "moyenne",
          "val": 250.93258426966293
         },
         {
          "jour": "2019-02-17T00:00:00",
          "typeVal": "moyenne",
          "val": 250.93258426966293
         },
         {
          "jour": "2019-02-17T00:00:00",
          "typeVal": "moyenne",
          "val": 250.93258426966293
         },
         {
          "jour": "2019-02-18T00:00:00",
          "typeVal": "moyenne",
          "val": 250.93258426966293
         },
         {
          "jour": "2019-02-18T00:00:00",
          "typeVal": "moyenne",
          "val": 250.93258426966293
         },
         {
          "jour": "2019-02-19T00:00:00",
          "typeVal": "moyenne",
          "val": 250.93258426966293
         },
         {
          "jour": "2019-02-19T00:00:00",
          "typeVal": "moyenne",
          "val": 250.93258426966293
         },
         {
          "jour": "2019-02-20T00:00:00",
          "typeVal": "moyenne",
          "val": 250.93258426966293
         },
         {
          "jour": "2019-02-20T00:00:00",
          "typeVal": "moyenne",
          "val": 250.93258426966293
         },
         {
          "jour": "2019-02-21T00:00:00",
          "typeVal": "moyenne",
          "val": 250.93258426966293
         },
         {
          "jour": "2019-02-21T00:00:00",
          "typeVal": "moyenne",
          "val": 250.93258426966293
         },
         {
          "jour": "2019-02-22T00:00:00",
          "typeVal": "moyenne",
          "val": 250.93258426966293
         },
         {
          "jour": "2019-02-22T00:00:00",
          "typeVal": "moyenne",
          "val": 250.93258426966293
         },
         {
          "jour": "2019-02-23T00:00:00",
          "typeVal": "moyenne",
          "val": 250.93258426966293
         },
         {
          "jour": "2019-02-23T00:00:00",
          "typeVal": "moyenne",
          "val": 250.93258426966293
         },
         {
          "jour": "2019-02-24T00:00:00",
          "typeVal": "moyenne",
          "val": 250.93258426966293
         },
         {
          "jour": "2019-02-24T00:00:00",
          "typeVal": "moyenne",
          "val": 250.93258426966293
         },
         {
          "jour": "2019-02-25T00:00:00",
          "typeVal": "moyenne",
          "val": 250.93258426966293
         },
         {
          "jour": "2019-02-25T00:00:00",
          "typeVal": "moyenne",
          "val": 250.93258426966293
         },
         {
          "jour": "2019-02-26T00:00:00",
          "typeVal": "moyenne",
          "val": 250.93258426966293
         },
         {
          "jour": "2019-02-26T00:00:00",
          "typeVal": "moyenne",
          "val": 250.93258426966293
         },
         {
          "jour": "2019-02-27T00:00:00",
          "typeVal": "moyenne",
          "val": 250.93258426966293
         },
         {
          "jour": "2019-02-27T00:00:00",
          "typeVal": "moyenne",
          "val": 250.93258426966293
         },
         {
          "jour": "2019-02-28T00:00:00",
          "typeVal": "moyenne",
          "val": 250.93258426966293
         },
         {
          "jour": "2019-02-28T00:00:00",
          "typeVal": "moyenne",
          "val": 250.93258426966293
         },
         {
          "jour": "2019-03-01T00:00:00",
          "typeVal": "moyenne",
          "val": 250.93258426966293
         },
         {
          "jour": "2019-03-01T00:00:00",
          "typeVal": "moyenne",
          "val": 250.93258426966293
         },
         {
          "jour": "2019-03-02T00:00:00",
          "typeVal": "moyenne",
          "val": 250.93258426966293
         },
         {
          "jour": "2019-03-02T00:00:00",
          "typeVal": "moyenne",
          "val": 250.93258426966293
         },
         {
          "jour": "2019-03-03T00:00:00",
          "typeVal": "moyenne",
          "val": 250.93258426966293
         },
         {
          "jour": "2019-03-03T00:00:00",
          "typeVal": "moyenne",
          "val": 250.93258426966293
         },
         {
          "jour": "2019-03-04T00:00:00",
          "typeVal": "moyenne",
          "val": 250.93258426966293
         },
         {
          "jour": "2019-03-04T00:00:00",
          "typeVal": "moyenne",
          "val": 250.93258426966293
         },
         {
          "jour": "2019-03-05T00:00:00",
          "typeVal": "moyenne",
          "val": 250.93258426966293
         },
         {
          "jour": "2019-03-05T00:00:00",
          "typeVal": "moyenne",
          "val": 250.93258426966293
         },
         {
          "jour": "2019-03-06T00:00:00",
          "typeVal": "moyenne",
          "val": 250.93258426966293
         },
         {
          "jour": "2019-03-06T00:00:00",
          "typeVal": "moyenne",
          "val": 250.93258426966293
         },
         {
          "jour": "2019-03-07T00:00:00",
          "typeVal": "moyenne",
          "val": 250.93258426966293
         },
         {
          "jour": "2019-03-07T00:00:00",
          "typeVal": "moyenne",
          "val": 250.93258426966293
         },
         {
          "jour": "2019-03-08T00:00:00",
          "typeVal": "moyenne",
          "val": 250.93258426966293
         },
         {
          "jour": "2019-03-08T00:00:00",
          "typeVal": "moyenne",
          "val": 250.93258426966293
         },
         {
          "jour": "2019-03-09T00:00:00",
          "typeVal": "moyenne",
          "val": 250.93258426966293
         },
         {
          "jour": "2019-03-09T00:00:00",
          "typeVal": "moyenne",
          "val": 250.93258426966293
         },
         {
          "jour": "2019-03-10T00:00:00",
          "typeVal": "moyenne",
          "val": 250.93258426966293
         },
         {
          "jour": "2019-03-10T00:00:00",
          "typeVal": "moyenne",
          "val": 250.93258426966293
         },
         {
          "jour": "2019-03-11T00:00:00",
          "typeVal": "moyenne",
          "val": 250.93258426966293
         },
         {
          "jour": "2019-03-11T00:00:00",
          "typeVal": "moyenne",
          "val": 250.93258426966293
         },
         {
          "jour": "2019-03-12T00:00:00",
          "typeVal": "moyenne",
          "val": 250.93258426966293
         },
         {
          "jour": "2019-03-12T00:00:00",
          "typeVal": "moyenne",
          "val": 250.93258426966293
         },
         {
          "jour": "2019-03-13T00:00:00",
          "typeVal": "moyenne",
          "val": 250.93258426966293
         },
         {
          "jour": "2019-03-13T00:00:00",
          "typeVal": "moyenne",
          "val": 250.93258426966293
         },
         {
          "jour": "2019-03-14T00:00:00",
          "typeVal": "moyenne",
          "val": 250.93258426966293
         },
         {
          "jour": "2019-03-14T00:00:00",
          "typeVal": "moyenne",
          "val": 250.93258426966293
         },
         {
          "jour": "2019-03-15T00:00:00",
          "typeVal": "moyenne",
          "val": 250.93258426966293
         },
         {
          "jour": "2019-03-15T00:00:00",
          "typeVal": "moyenne",
          "val": 250.93258426966293
         },
         {
          "jour": "2019-03-16T00:00:00",
          "typeVal": "moyenne",
          "val": 250.93258426966293
         },
         {
          "jour": "2019-03-16T00:00:00",
          "typeVal": "moyenne",
          "val": 250.93258426966293
         },
         {
          "jour": "2019-03-17T00:00:00",
          "typeVal": "moyenne",
          "val": 250.93258426966293
         },
         {
          "jour": "2019-03-17T00:00:00",
          "typeVal": "moyenne",
          "val": 250.93258426966293
         },
         {
          "jour": "2019-03-18T00:00:00",
          "typeVal": "moyenne",
          "val": 250.93258426966293
         },
         {
          "jour": "2019-03-18T00:00:00",
          "typeVal": "moyenne",
          "val": 250.93258426966293
         },
         {
          "jour": "2019-03-19T00:00:00",
          "typeVal": "moyenne",
          "val": 250.93258426966293
         },
         {
          "jour": "2019-03-19T00:00:00",
          "typeVal": "moyenne",
          "val": 250.93258426966293
         },
         {
          "jour": "2019-03-20T00:00:00",
          "typeVal": "moyenne",
          "val": 250.93258426966293
         },
         {
          "jour": "2019-03-20T00:00:00",
          "typeVal": "moyenne",
          "val": 250.93258426966293
         },
         {
          "jour": "2019-03-21T00:00:00",
          "typeVal": "moyenne",
          "val": 250.93258426966293
         },
         {
          "jour": "2019-03-21T00:00:00",
          "typeVal": "moyenne",
          "val": 250.93258426966293
         },
         {
          "jour": "2019-03-22T00:00:00",
          "typeVal": "moyenne",
          "val": 250.93258426966293
         },
         {
          "jour": "2019-03-22T00:00:00",
          "typeVal": "moyenne",
          "val": 250.93258426966293
         },
         {
          "jour": "2019-03-23T00:00:00",
          "typeVal": "moyenne",
          "val": 250.93258426966293
         },
         {
          "jour": "2019-03-23T00:00:00",
          "typeVal": "moyenne",
          "val": 250.93258426966293
         },
         {
          "jour": "2019-03-24T00:00:00",
          "typeVal": "moyenne",
          "val": 250.93258426966293
         },
         {
          "jour": "2019-03-24T00:00:00",
          "typeVal": "moyenne",
          "val": 250.93258426966293
         },
         {
          "jour": "2019-03-25T00:00:00",
          "typeVal": "moyenne",
          "val": 250.93258426966293
         },
         {
          "jour": "2019-03-25T00:00:00",
          "typeVal": "moyenne",
          "val": 250.93258426966293
         },
         {
          "jour": "2019-03-26T00:00:00",
          "typeVal": "moyenne",
          "val": 250.93258426966293
         },
         {
          "jour": "2019-03-26T00:00:00",
          "typeVal": "moyenne",
          "val": 250.93258426966293
         },
         {
          "jour": "2019-03-27T00:00:00",
          "typeVal": "moyenne",
          "val": 250.93258426966293
         },
         {
          "jour": "2019-03-27T00:00:00",
          "typeVal": "moyenne",
          "val": 250.93258426966293
         },
         {
          "jour": "2019-03-28T00:00:00",
          "typeVal": "moyenne",
          "val": 250.93258426966293
         },
         {
          "jour": "2019-03-28T00:00:00",
          "typeVal": "moyenne",
          "val": 250.93258426966293
         },
         {
          "jour": "2019-03-29T00:00:00",
          "typeVal": "moyenne",
          "val": 250.93258426966293
         },
         {
          "jour": "2019-03-29T00:00:00",
          "typeVal": "moyenne",
          "val": 250.93258426966293
         },
         {
          "jour": "2019-03-30T00:00:00",
          "typeVal": "moyenne",
          "val": 250.93258426966293
         },
         {
          "jour": "2019-03-30T00:00:00",
          "typeVal": "moyenne",
          "val": 250.93258426966293
         },
         {
          "jour": "2019-03-31T00:00:00",
          "typeVal": "moyenne",
          "val": 250.93258426966293
         },
         {
          "jour": "2019-03-31T00:00:00",
          "typeVal": "moyenne",
          "val": 250.93258426966293
         },
         {
          "jour": "2019-01-01T00:00:00",
          "typeVal": "median",
          "val": 267
         },
         {
          "jour": "2019-01-01T00:00:00",
          "typeVal": "median",
          "val": 267
         },
         {
          "jour": "2019-01-02T00:00:00",
          "typeVal": "median",
          "val": 267
         },
         {
          "jour": "2019-01-02T00:00:00",
          "typeVal": "median",
          "val": 267
         },
         {
          "jour": "2019-01-03T00:00:00",
          "typeVal": "median",
          "val": 267
         },
         {
          "jour": "2019-01-03T00:00:00",
          "typeVal": "median",
          "val": 267
         },
         {
          "jour": "2019-01-04T00:00:00",
          "typeVal": "median",
          "val": 267
         },
         {
          "jour": "2019-01-04T00:00:00",
          "typeVal": "median",
          "val": 267
         },
         {
          "jour": "2019-01-05T00:00:00",
          "typeVal": "median",
          "val": 267
         },
         {
          "jour": "2019-01-05T00:00:00",
          "typeVal": "median",
          "val": 267
         },
         {
          "jour": "2019-01-06T00:00:00",
          "typeVal": "median",
          "val": 267
         },
         {
          "jour": "2019-01-06T00:00:00",
          "typeVal": "median",
          "val": 267
         },
         {
          "jour": "2019-01-07T00:00:00",
          "typeVal": "median",
          "val": 267
         },
         {
          "jour": "2019-01-07T00:00:00",
          "typeVal": "median",
          "val": 267
         },
         {
          "jour": "2019-01-08T00:00:00",
          "typeVal": "median",
          "val": 267
         },
         {
          "jour": "2019-01-08T00:00:00",
          "typeVal": "median",
          "val": 267
         },
         {
          "jour": "2019-01-09T00:00:00",
          "typeVal": "median",
          "val": 267
         },
         {
          "jour": "2019-01-09T00:00:00",
          "typeVal": "median",
          "val": 267
         },
         {
          "jour": "2019-01-10T00:00:00",
          "typeVal": "median",
          "val": 267
         },
         {
          "jour": "2019-01-10T00:00:00",
          "typeVal": "median",
          "val": 267
         },
         {
          "jour": "2019-01-11T00:00:00",
          "typeVal": "median",
          "val": 267
         },
         {
          "jour": "2019-01-11T00:00:00",
          "typeVal": "median",
          "val": 267
         },
         {
          "jour": "2019-01-12T00:00:00",
          "typeVal": "median",
          "val": 267
         },
         {
          "jour": "2019-01-12T00:00:00",
          "typeVal": "median",
          "val": 267
         },
         {
          "jour": "2019-01-13T00:00:00",
          "typeVal": "median",
          "val": 267
         },
         {
          "jour": "2019-01-13T00:00:00",
          "typeVal": "median",
          "val": 267
         },
         {
          "jour": "2019-01-14T00:00:00",
          "typeVal": "median",
          "val": 267
         },
         {
          "jour": "2019-01-14T00:00:00",
          "typeVal": "median",
          "val": 267
         },
         {
          "jour": "2019-01-15T00:00:00",
          "typeVal": "median",
          "val": 267
         },
         {
          "jour": "2019-01-15T00:00:00",
          "typeVal": "median",
          "val": 267
         },
         {
          "jour": "2019-01-16T00:00:00",
          "typeVal": "median",
          "val": 267
         },
         {
          "jour": "2019-01-16T00:00:00",
          "typeVal": "median",
          "val": 267
         },
         {
          "jour": "2019-01-17T00:00:00",
          "typeVal": "median",
          "val": 267
         },
         {
          "jour": "2019-01-17T00:00:00",
          "typeVal": "median",
          "val": 267
         },
         {
          "jour": "2019-01-18T00:00:00",
          "typeVal": "median",
          "val": 267
         },
         {
          "jour": "2019-01-18T00:00:00",
          "typeVal": "median",
          "val": 267
         },
         {
          "jour": "2019-01-19T00:00:00",
          "typeVal": "median",
          "val": 267
         },
         {
          "jour": "2019-01-19T00:00:00",
          "typeVal": "median",
          "val": 267
         },
         {
          "jour": "2019-01-20T00:00:00",
          "typeVal": "median",
          "val": 267
         },
         {
          "jour": "2019-01-20T00:00:00",
          "typeVal": "median",
          "val": 267
         },
         {
          "jour": "2019-01-21T00:00:00",
          "typeVal": "median",
          "val": 267
         },
         {
          "jour": "2019-01-21T00:00:00",
          "typeVal": "median",
          "val": 267
         },
         {
          "jour": "2019-01-22T00:00:00",
          "typeVal": "median",
          "val": 267
         },
         {
          "jour": "2019-01-22T00:00:00",
          "typeVal": "median",
          "val": 267
         },
         {
          "jour": "2019-01-23T00:00:00",
          "typeVal": "median",
          "val": 267
         },
         {
          "jour": "2019-01-23T00:00:00",
          "typeVal": "median",
          "val": 267
         },
         {
          "jour": "2019-01-24T00:00:00",
          "typeVal": "median",
          "val": 267
         },
         {
          "jour": "2019-01-24T00:00:00",
          "typeVal": "median",
          "val": 267
         },
         {
          "jour": "2019-01-25T00:00:00",
          "typeVal": "median",
          "val": 267
         },
         {
          "jour": "2019-01-25T00:00:00",
          "typeVal": "median",
          "val": 267
         },
         {
          "jour": "2019-01-26T00:00:00",
          "typeVal": "median",
          "val": 267
         },
         {
          "jour": "2019-01-26T00:00:00",
          "typeVal": "median",
          "val": 267
         },
         {
          "jour": "2019-01-27T00:00:00",
          "typeVal": "median",
          "val": 267
         },
         {
          "jour": "2019-01-27T00:00:00",
          "typeVal": "median",
          "val": 267
         },
         {
          "jour": "2019-01-28T00:00:00",
          "typeVal": "median",
          "val": 267
         },
         {
          "jour": "2019-01-28T00:00:00",
          "typeVal": "median",
          "val": 267
         },
         {
          "jour": "2019-01-29T00:00:00",
          "typeVal": "median",
          "val": 267
         },
         {
          "jour": "2019-01-29T00:00:00",
          "typeVal": "median",
          "val": 267
         },
         {
          "jour": "2019-01-30T00:00:00",
          "typeVal": "median",
          "val": 267
         },
         {
          "jour": "2019-01-30T00:00:00",
          "typeVal": "median",
          "val": 267
         },
         {
          "jour": "2019-01-31T00:00:00",
          "typeVal": "median",
          "val": 267
         },
         {
          "jour": "2019-01-31T00:00:00",
          "typeVal": "median",
          "val": 267
         },
         {
          "jour": "2019-02-01T00:00:00",
          "typeVal": "median",
          "val": 267
         },
         {
          "jour": "2019-02-01T00:00:00",
          "typeVal": "median",
          "val": 267
         },
         {
          "jour": "2019-02-02T00:00:00",
          "typeVal": "median",
          "val": 267
         },
         {
          "jour": "2019-02-02T00:00:00",
          "typeVal": "median",
          "val": 267
         },
         {
          "jour": "2019-02-03T00:00:00",
          "typeVal": "median",
          "val": 267
         },
         {
          "jour": "2019-02-03T00:00:00",
          "typeVal": "median",
          "val": 267
         },
         {
          "jour": "2019-02-04T00:00:00",
          "typeVal": "median",
          "val": 267
         },
         {
          "jour": "2019-02-04T00:00:00",
          "typeVal": "median",
          "val": 267
         },
         {
          "jour": "2019-02-05T00:00:00",
          "typeVal": "median",
          "val": 267
         },
         {
          "jour": "2019-02-05T00:00:00",
          "typeVal": "median",
          "val": 267
         },
         {
          "jour": "2019-02-06T00:00:00",
          "typeVal": "median",
          "val": 267
         },
         {
          "jour": "2019-02-06T00:00:00",
          "typeVal": "median",
          "val": 267
         },
         {
          "jour": "2019-02-07T00:00:00",
          "typeVal": "median",
          "val": 267
         },
         {
          "jour": "2019-02-07T00:00:00",
          "typeVal": "median",
          "val": 267
         },
         {
          "jour": "2019-02-08T00:00:00",
          "typeVal": "median",
          "val": 267
         },
         {
          "jour": "2019-02-08T00:00:00",
          "typeVal": "median",
          "val": 267
         },
         {
          "jour": "2019-02-09T00:00:00",
          "typeVal": "median",
          "val": 267
         },
         {
          "jour": "2019-02-09T00:00:00",
          "typeVal": "median",
          "val": 267
         },
         {
          "jour": "2019-02-10T00:00:00",
          "typeVal": "median",
          "val": 267
         },
         {
          "jour": "2019-02-10T00:00:00",
          "typeVal": "median",
          "val": 267
         },
         {
          "jour": "2019-02-11T00:00:00",
          "typeVal": "median",
          "val": 267
         },
         {
          "jour": "2019-02-11T00:00:00",
          "typeVal": "median",
          "val": 267
         },
         {
          "jour": "2019-02-12T00:00:00",
          "typeVal": "median",
          "val": 267
         },
         {
          "jour": "2019-02-12T00:00:00",
          "typeVal": "median",
          "val": 267
         },
         {
          "jour": "2019-02-13T00:00:00",
          "typeVal": "median",
          "val": 267
         },
         {
          "jour": "2019-02-13T00:00:00",
          "typeVal": "median",
          "val": 267
         },
         {
          "jour": "2019-02-14T00:00:00",
          "typeVal": "median",
          "val": 267
         },
         {
          "jour": "2019-02-14T00:00:00",
          "typeVal": "median",
          "val": 267
         },
         {
          "jour": "2019-02-15T00:00:00",
          "typeVal": "median",
          "val": 267
         },
         {
          "jour": "2019-02-15T00:00:00",
          "typeVal": "median",
          "val": 267
         },
         {
          "jour": "2019-02-16T00:00:00",
          "typeVal": "median",
          "val": 267
         },
         {
          "jour": "2019-02-16T00:00:00",
          "typeVal": "median",
          "val": 267
         },
         {
          "jour": "2019-02-17T00:00:00",
          "typeVal": "median",
          "val": 267
         },
         {
          "jour": "2019-02-17T00:00:00",
          "typeVal": "median",
          "val": 267
         },
         {
          "jour": "2019-02-18T00:00:00",
          "typeVal": "median",
          "val": 267
         },
         {
          "jour": "2019-02-18T00:00:00",
          "typeVal": "median",
          "val": 267
         },
         {
          "jour": "2019-02-19T00:00:00",
          "typeVal": "median",
          "val": 267
         },
         {
          "jour": "2019-02-19T00:00:00",
          "typeVal": "median",
          "val": 267
         },
         {
          "jour": "2019-02-20T00:00:00",
          "typeVal": "median",
          "val": 267
         },
         {
          "jour": "2019-02-20T00:00:00",
          "typeVal": "median",
          "val": 267
         },
         {
          "jour": "2019-02-21T00:00:00",
          "typeVal": "median",
          "val": 267
         },
         {
          "jour": "2019-02-21T00:00:00",
          "typeVal": "median",
          "val": 267
         },
         {
          "jour": "2019-02-22T00:00:00",
          "typeVal": "median",
          "val": 267
         },
         {
          "jour": "2019-02-22T00:00:00",
          "typeVal": "median",
          "val": 267
         },
         {
          "jour": "2019-02-23T00:00:00",
          "typeVal": "median",
          "val": 267
         },
         {
          "jour": "2019-02-23T00:00:00",
          "typeVal": "median",
          "val": 267
         },
         {
          "jour": "2019-02-24T00:00:00",
          "typeVal": "median",
          "val": 267
         },
         {
          "jour": "2019-02-24T00:00:00",
          "typeVal": "median",
          "val": 267
         },
         {
          "jour": "2019-02-25T00:00:00",
          "typeVal": "median",
          "val": 267
         },
         {
          "jour": "2019-02-25T00:00:00",
          "typeVal": "median",
          "val": 267
         },
         {
          "jour": "2019-02-26T00:00:00",
          "typeVal": "median",
          "val": 267
         },
         {
          "jour": "2019-02-26T00:00:00",
          "typeVal": "median",
          "val": 267
         },
         {
          "jour": "2019-02-27T00:00:00",
          "typeVal": "median",
          "val": 267
         },
         {
          "jour": "2019-02-27T00:00:00",
          "typeVal": "median",
          "val": 267
         },
         {
          "jour": "2019-02-28T00:00:00",
          "typeVal": "median",
          "val": 267
         },
         {
          "jour": "2019-02-28T00:00:00",
          "typeVal": "median",
          "val": 267
         },
         {
          "jour": "2019-03-01T00:00:00",
          "typeVal": "median",
          "val": 267
         },
         {
          "jour": "2019-03-01T00:00:00",
          "typeVal": "median",
          "val": 267
         },
         {
          "jour": "2019-03-02T00:00:00",
          "typeVal": "median",
          "val": 267
         },
         {
          "jour": "2019-03-02T00:00:00",
          "typeVal": "median",
          "val": 267
         },
         {
          "jour": "2019-03-03T00:00:00",
          "typeVal": "median",
          "val": 267
         },
         {
          "jour": "2019-03-03T00:00:00",
          "typeVal": "median",
          "val": 267
         },
         {
          "jour": "2019-03-04T00:00:00",
          "typeVal": "median",
          "val": 267
         },
         {
          "jour": "2019-03-04T00:00:00",
          "typeVal": "median",
          "val": 267
         },
         {
          "jour": "2019-03-05T00:00:00",
          "typeVal": "median",
          "val": 267
         },
         {
          "jour": "2019-03-05T00:00:00",
          "typeVal": "median",
          "val": 267
         },
         {
          "jour": "2019-03-06T00:00:00",
          "typeVal": "median",
          "val": 267
         },
         {
          "jour": "2019-03-06T00:00:00",
          "typeVal": "median",
          "val": 267
         },
         {
          "jour": "2019-03-07T00:00:00",
          "typeVal": "median",
          "val": 267
         },
         {
          "jour": "2019-03-07T00:00:00",
          "typeVal": "median",
          "val": 267
         },
         {
          "jour": "2019-03-08T00:00:00",
          "typeVal": "median",
          "val": 267
         },
         {
          "jour": "2019-03-08T00:00:00",
          "typeVal": "median",
          "val": 267
         },
         {
          "jour": "2019-03-09T00:00:00",
          "typeVal": "median",
          "val": 267
         },
         {
          "jour": "2019-03-09T00:00:00",
          "typeVal": "median",
          "val": 267
         },
         {
          "jour": "2019-03-10T00:00:00",
          "typeVal": "median",
          "val": 267
         },
         {
          "jour": "2019-03-10T00:00:00",
          "typeVal": "median",
          "val": 267
         },
         {
          "jour": "2019-03-11T00:00:00",
          "typeVal": "median",
          "val": 267
         },
         {
          "jour": "2019-03-11T00:00:00",
          "typeVal": "median",
          "val": 267
         },
         {
          "jour": "2019-03-12T00:00:00",
          "typeVal": "median",
          "val": 267
         },
         {
          "jour": "2019-03-12T00:00:00",
          "typeVal": "median",
          "val": 267
         },
         {
          "jour": "2019-03-13T00:00:00",
          "typeVal": "median",
          "val": 267
         },
         {
          "jour": "2019-03-13T00:00:00",
          "typeVal": "median",
          "val": 267
         },
         {
          "jour": "2019-03-14T00:00:00",
          "typeVal": "median",
          "val": 267
         },
         {
          "jour": "2019-03-14T00:00:00",
          "typeVal": "median",
          "val": 267
         },
         {
          "jour": "2019-03-15T00:00:00",
          "typeVal": "median",
          "val": 267
         },
         {
          "jour": "2019-03-15T00:00:00",
          "typeVal": "median",
          "val": 267
         },
         {
          "jour": "2019-03-16T00:00:00",
          "typeVal": "median",
          "val": 267
         },
         {
          "jour": "2019-03-16T00:00:00",
          "typeVal": "median",
          "val": 267
         },
         {
          "jour": "2019-03-17T00:00:00",
          "typeVal": "median",
          "val": 267
         },
         {
          "jour": "2019-03-17T00:00:00",
          "typeVal": "median",
          "val": 267
         },
         {
          "jour": "2019-03-18T00:00:00",
          "typeVal": "median",
          "val": 267
         },
         {
          "jour": "2019-03-18T00:00:00",
          "typeVal": "median",
          "val": 267
         },
         {
          "jour": "2019-03-19T00:00:00",
          "typeVal": "median",
          "val": 267
         },
         {
          "jour": "2019-03-19T00:00:00",
          "typeVal": "median",
          "val": 267
         },
         {
          "jour": "2019-03-20T00:00:00",
          "typeVal": "median",
          "val": 267
         },
         {
          "jour": "2019-03-20T00:00:00",
          "typeVal": "median",
          "val": 267
         },
         {
          "jour": "2019-03-21T00:00:00",
          "typeVal": "median",
          "val": 267
         },
         {
          "jour": "2019-03-21T00:00:00",
          "typeVal": "median",
          "val": 267
         },
         {
          "jour": "2019-03-22T00:00:00",
          "typeVal": "median",
          "val": 267
         },
         {
          "jour": "2019-03-22T00:00:00",
          "typeVal": "median",
          "val": 267
         },
         {
          "jour": "2019-03-23T00:00:00",
          "typeVal": "median",
          "val": 267
         },
         {
          "jour": "2019-03-23T00:00:00",
          "typeVal": "median",
          "val": 267
         },
         {
          "jour": "2019-03-24T00:00:00",
          "typeVal": "median",
          "val": 267
         },
         {
          "jour": "2019-03-24T00:00:00",
          "typeVal": "median",
          "val": 267
         },
         {
          "jour": "2019-03-25T00:00:00",
          "typeVal": "median",
          "val": 267
         },
         {
          "jour": "2019-03-25T00:00:00",
          "typeVal": "median",
          "val": 267
         },
         {
          "jour": "2019-03-26T00:00:00",
          "typeVal": "median",
          "val": 267
         },
         {
          "jour": "2019-03-26T00:00:00",
          "typeVal": "median",
          "val": 267
         },
         {
          "jour": "2019-03-27T00:00:00",
          "typeVal": "median",
          "val": 267
         },
         {
          "jour": "2019-03-27T00:00:00",
          "typeVal": "median",
          "val": 267
         },
         {
          "jour": "2019-03-28T00:00:00",
          "typeVal": "median",
          "val": 267
         },
         {
          "jour": "2019-03-28T00:00:00",
          "typeVal": "median",
          "val": 267
         },
         {
          "jour": "2019-03-29T00:00:00",
          "typeVal": "median",
          "val": 267
         },
         {
          "jour": "2019-03-29T00:00:00",
          "typeVal": "median",
          "val": 267
         },
         {
          "jour": "2019-03-30T00:00:00",
          "typeVal": "median",
          "val": 267
         },
         {
          "jour": "2019-03-30T00:00:00",
          "typeVal": "median",
          "val": 267
         },
         {
          "jour": "2019-03-31T00:00:00",
          "typeVal": "median",
          "val": 267
         },
         {
          "jour": "2019-03-31T00:00:00",
          "typeVal": "median",
          "val": 267
         }
        ],
        "data-54957472090a9279092e54c25f2e90a2": [
         {
          "jour": "2019-01-01T00:00:00",
          "plageMaxi": 422.7056369114895,
          "plageMini": 79.15953162783634
         },
         {
          "jour": "2019-01-01T00:00:00",
          "plageMaxi": 422.7056369114895,
          "plageMini": 79.15953162783634
         },
         {
          "jour": "2019-01-02T00:00:00",
          "plageMaxi": 422.7056369114895,
          "plageMini": 79.15953162783634
         },
         {
          "jour": "2019-01-02T00:00:00",
          "plageMaxi": 422.7056369114895,
          "plageMini": 79.15953162783634
         },
         {
          "jour": "2019-01-03T00:00:00",
          "plageMaxi": 422.7056369114895,
          "plageMini": 79.15953162783634
         },
         {
          "jour": "2019-01-03T00:00:00",
          "plageMaxi": 422.7056369114895,
          "plageMini": 79.15953162783634
         },
         {
          "jour": "2019-01-04T00:00:00",
          "plageMaxi": 422.7056369114895,
          "plageMini": 79.15953162783634
         },
         {
          "jour": "2019-01-04T00:00:00",
          "plageMaxi": 422.7056369114895,
          "plageMini": 79.15953162783634
         },
         {
          "jour": "2019-01-05T00:00:00",
          "plageMaxi": 422.7056369114895,
          "plageMini": 79.15953162783634
         },
         {
          "jour": "2019-01-05T00:00:00",
          "plageMaxi": 422.7056369114895,
          "plageMini": 79.15953162783634
         },
         {
          "jour": "2019-01-06T00:00:00",
          "plageMaxi": 422.7056369114895,
          "plageMini": 79.15953162783634
         },
         {
          "jour": "2019-01-06T00:00:00",
          "plageMaxi": 422.7056369114895,
          "plageMini": 79.15953162783634
         },
         {
          "jour": "2019-01-07T00:00:00",
          "plageMaxi": 422.7056369114895,
          "plageMini": 79.15953162783634
         },
         {
          "jour": "2019-01-07T00:00:00",
          "plageMaxi": 422.7056369114895,
          "plageMini": 79.15953162783634
         },
         {
          "jour": "2019-01-08T00:00:00",
          "plageMaxi": 422.7056369114895,
          "plageMini": 79.15953162783634
         },
         {
          "jour": "2019-01-08T00:00:00",
          "plageMaxi": 422.7056369114895,
          "plageMini": 79.15953162783634
         },
         {
          "jour": "2019-01-09T00:00:00",
          "plageMaxi": 422.7056369114895,
          "plageMini": 79.15953162783634
         },
         {
          "jour": "2019-01-09T00:00:00",
          "plageMaxi": 422.7056369114895,
          "plageMini": 79.15953162783634
         },
         {
          "jour": "2019-01-10T00:00:00",
          "plageMaxi": 422.7056369114895,
          "plageMini": 79.15953162783634
         },
         {
          "jour": "2019-01-10T00:00:00",
          "plageMaxi": 422.7056369114895,
          "plageMini": 79.15953162783634
         },
         {
          "jour": "2019-01-11T00:00:00",
          "plageMaxi": 422.7056369114895,
          "plageMini": 79.15953162783634
         },
         {
          "jour": "2019-01-11T00:00:00",
          "plageMaxi": 422.7056369114895,
          "plageMini": 79.15953162783634
         },
         {
          "jour": "2019-01-12T00:00:00",
          "plageMaxi": 422.7056369114895,
          "plageMini": 79.15953162783634
         },
         {
          "jour": "2019-01-12T00:00:00",
          "plageMaxi": 422.7056369114895,
          "plageMini": 79.15953162783634
         },
         {
          "jour": "2019-01-13T00:00:00",
          "plageMaxi": 422.7056369114895,
          "plageMini": 79.15953162783634
         },
         {
          "jour": "2019-01-13T00:00:00",
          "plageMaxi": 422.7056369114895,
          "plageMini": 79.15953162783634
         },
         {
          "jour": "2019-01-14T00:00:00",
          "plageMaxi": 422.7056369114895,
          "plageMini": 79.15953162783634
         },
         {
          "jour": "2019-01-14T00:00:00",
          "plageMaxi": 422.7056369114895,
          "plageMini": 79.15953162783634
         },
         {
          "jour": "2019-01-15T00:00:00",
          "plageMaxi": 422.7056369114895,
          "plageMini": 79.15953162783634
         },
         {
          "jour": "2019-01-15T00:00:00",
          "plageMaxi": 422.7056369114895,
          "plageMini": 79.15953162783634
         },
         {
          "jour": "2019-01-16T00:00:00",
          "plageMaxi": 422.7056369114895,
          "plageMini": 79.15953162783634
         },
         {
          "jour": "2019-01-16T00:00:00",
          "plageMaxi": 422.7056369114895,
          "plageMini": 79.15953162783634
         },
         {
          "jour": "2019-01-17T00:00:00",
          "plageMaxi": 422.7056369114895,
          "plageMini": 79.15953162783634
         },
         {
          "jour": "2019-01-17T00:00:00",
          "plageMaxi": 422.7056369114895,
          "plageMini": 79.15953162783634
         },
         {
          "jour": "2019-01-18T00:00:00",
          "plageMaxi": 422.7056369114895,
          "plageMini": 79.15953162783634
         },
         {
          "jour": "2019-01-18T00:00:00",
          "plageMaxi": 422.7056369114895,
          "plageMini": 79.15953162783634
         },
         {
          "jour": "2019-01-19T00:00:00",
          "plageMaxi": 422.7056369114895,
          "plageMini": 79.15953162783634
         },
         {
          "jour": "2019-01-19T00:00:00",
          "plageMaxi": 422.7056369114895,
          "plageMini": 79.15953162783634
         },
         {
          "jour": "2019-01-20T00:00:00",
          "plageMaxi": 422.7056369114895,
          "plageMini": 79.15953162783634
         },
         {
          "jour": "2019-01-20T00:00:00",
          "plageMaxi": 422.7056369114895,
          "plageMini": 79.15953162783634
         },
         {
          "jour": "2019-01-21T00:00:00",
          "plageMaxi": 422.7056369114895,
          "plageMini": 79.15953162783634
         },
         {
          "jour": "2019-01-21T00:00:00",
          "plageMaxi": 422.7056369114895,
          "plageMini": 79.15953162783634
         },
         {
          "jour": "2019-01-22T00:00:00",
          "plageMaxi": 422.7056369114895,
          "plageMini": 79.15953162783634
         },
         {
          "jour": "2019-01-22T00:00:00",
          "plageMaxi": 422.7056369114895,
          "plageMini": 79.15953162783634
         },
         {
          "jour": "2019-01-23T00:00:00",
          "plageMaxi": 422.7056369114895,
          "plageMini": 79.15953162783634
         },
         {
          "jour": "2019-01-23T00:00:00",
          "plageMaxi": 422.7056369114895,
          "plageMini": 79.15953162783634
         },
         {
          "jour": "2019-01-24T00:00:00",
          "plageMaxi": 422.7056369114895,
          "plageMini": 79.15953162783634
         },
         {
          "jour": "2019-01-24T00:00:00",
          "plageMaxi": 422.7056369114895,
          "plageMini": 79.15953162783634
         },
         {
          "jour": "2019-01-25T00:00:00",
          "plageMaxi": 422.7056369114895,
          "plageMini": 79.15953162783634
         },
         {
          "jour": "2019-01-25T00:00:00",
          "plageMaxi": 422.7056369114895,
          "plageMini": 79.15953162783634
         },
         {
          "jour": "2019-01-26T00:00:00",
          "plageMaxi": 422.7056369114895,
          "plageMini": 79.15953162783634
         },
         {
          "jour": "2019-01-26T00:00:00",
          "plageMaxi": 422.7056369114895,
          "plageMini": 79.15953162783634
         },
         {
          "jour": "2019-01-27T00:00:00",
          "plageMaxi": 422.7056369114895,
          "plageMini": 79.15953162783634
         },
         {
          "jour": "2019-01-27T00:00:00",
          "plageMaxi": 422.7056369114895,
          "plageMini": 79.15953162783634
         },
         {
          "jour": "2019-01-28T00:00:00",
          "plageMaxi": 422.7056369114895,
          "plageMini": 79.15953162783634
         },
         {
          "jour": "2019-01-28T00:00:00",
          "plageMaxi": 422.7056369114895,
          "plageMini": 79.15953162783634
         },
         {
          "jour": "2019-01-29T00:00:00",
          "plageMaxi": 422.7056369114895,
          "plageMini": 79.15953162783634
         },
         {
          "jour": "2019-01-29T00:00:00",
          "plageMaxi": 422.7056369114895,
          "plageMini": 79.15953162783634
         },
         {
          "jour": "2019-01-30T00:00:00",
          "plageMaxi": 422.7056369114895,
          "plageMini": 79.15953162783634
         },
         {
          "jour": "2019-01-30T00:00:00",
          "plageMaxi": 422.7056369114895,
          "plageMini": 79.15953162783634
         },
         {
          "jour": "2019-01-31T00:00:00",
          "plageMaxi": 422.7056369114895,
          "plageMini": 79.15953162783634
         },
         {
          "jour": "2019-01-31T00:00:00",
          "plageMaxi": 422.7056369114895,
          "plageMini": 79.15953162783634
         },
         {
          "jour": "2019-02-01T00:00:00",
          "plageMaxi": 422.7056369114895,
          "plageMini": 79.15953162783634
         },
         {
          "jour": "2019-02-01T00:00:00",
          "plageMaxi": 422.7056369114895,
          "plageMini": 79.15953162783634
         },
         {
          "jour": "2019-02-02T00:00:00",
          "plageMaxi": 422.7056369114895,
          "plageMini": 79.15953162783634
         },
         {
          "jour": "2019-02-02T00:00:00",
          "plageMaxi": 422.7056369114895,
          "plageMini": 79.15953162783634
         },
         {
          "jour": "2019-02-03T00:00:00",
          "plageMaxi": 422.7056369114895,
          "plageMini": 79.15953162783634
         },
         {
          "jour": "2019-02-03T00:00:00",
          "plageMaxi": 422.7056369114895,
          "plageMini": 79.15953162783634
         },
         {
          "jour": "2019-02-04T00:00:00",
          "plageMaxi": 422.7056369114895,
          "plageMini": 79.15953162783634
         },
         {
          "jour": "2019-02-04T00:00:00",
          "plageMaxi": 422.7056369114895,
          "plageMini": 79.15953162783634
         },
         {
          "jour": "2019-02-05T00:00:00",
          "plageMaxi": 422.7056369114895,
          "plageMini": 79.15953162783634
         },
         {
          "jour": "2019-02-05T00:00:00",
          "plageMaxi": 422.7056369114895,
          "plageMini": 79.15953162783634
         },
         {
          "jour": "2019-02-06T00:00:00",
          "plageMaxi": 422.7056369114895,
          "plageMini": 79.15953162783634
         },
         {
          "jour": "2019-02-06T00:00:00",
          "plageMaxi": 422.7056369114895,
          "plageMini": 79.15953162783634
         },
         {
          "jour": "2019-02-07T00:00:00",
          "plageMaxi": 422.7056369114895,
          "plageMini": 79.15953162783634
         },
         {
          "jour": "2019-02-07T00:00:00",
          "plageMaxi": 422.7056369114895,
          "plageMini": 79.15953162783634
         },
         {
          "jour": "2019-02-08T00:00:00",
          "plageMaxi": 422.7056369114895,
          "plageMini": 79.15953162783634
         },
         {
          "jour": "2019-02-08T00:00:00",
          "plageMaxi": 422.7056369114895,
          "plageMini": 79.15953162783634
         },
         {
          "jour": "2019-02-09T00:00:00",
          "plageMaxi": 422.7056369114895,
          "plageMini": 79.15953162783634
         },
         {
          "jour": "2019-02-09T00:00:00",
          "plageMaxi": 422.7056369114895,
          "plageMini": 79.15953162783634
         },
         {
          "jour": "2019-02-10T00:00:00",
          "plageMaxi": 422.7056369114895,
          "plageMini": 79.15953162783634
         },
         {
          "jour": "2019-02-10T00:00:00",
          "plageMaxi": 422.7056369114895,
          "plageMini": 79.15953162783634
         },
         {
          "jour": "2019-02-11T00:00:00",
          "plageMaxi": 422.7056369114895,
          "plageMini": 79.15953162783634
         },
         {
          "jour": "2019-02-11T00:00:00",
          "plageMaxi": 422.7056369114895,
          "plageMini": 79.15953162783634
         },
         {
          "jour": "2019-02-12T00:00:00",
          "plageMaxi": 422.7056369114895,
          "plageMini": 79.15953162783634
         },
         {
          "jour": "2019-02-12T00:00:00",
          "plageMaxi": 422.7056369114895,
          "plageMini": 79.15953162783634
         },
         {
          "jour": "2019-02-13T00:00:00",
          "plageMaxi": 422.7056369114895,
          "plageMini": 79.15953162783634
         },
         {
          "jour": "2019-02-13T00:00:00",
          "plageMaxi": 422.7056369114895,
          "plageMini": 79.15953162783634
         },
         {
          "jour": "2019-02-14T00:00:00",
          "plageMaxi": 422.7056369114895,
          "plageMini": 79.15953162783634
         },
         {
          "jour": "2019-02-14T00:00:00",
          "plageMaxi": 422.7056369114895,
          "plageMini": 79.15953162783634
         },
         {
          "jour": "2019-02-15T00:00:00",
          "plageMaxi": 422.7056369114895,
          "plageMini": 79.15953162783634
         },
         {
          "jour": "2019-02-15T00:00:00",
          "plageMaxi": 422.7056369114895,
          "plageMini": 79.15953162783634
         },
         {
          "jour": "2019-02-16T00:00:00",
          "plageMaxi": 422.7056369114895,
          "plageMini": 79.15953162783634
         },
         {
          "jour": "2019-02-16T00:00:00",
          "plageMaxi": 422.7056369114895,
          "plageMini": 79.15953162783634
         },
         {
          "jour": "2019-02-17T00:00:00",
          "plageMaxi": 422.7056369114895,
          "plageMini": 79.15953162783634
         },
         {
          "jour": "2019-02-17T00:00:00",
          "plageMaxi": 422.7056369114895,
          "plageMini": 79.15953162783634
         },
         {
          "jour": "2019-02-18T00:00:00",
          "plageMaxi": 422.7056369114895,
          "plageMini": 79.15953162783634
         },
         {
          "jour": "2019-02-18T00:00:00",
          "plageMaxi": 422.7056369114895,
          "plageMini": 79.15953162783634
         },
         {
          "jour": "2019-02-19T00:00:00",
          "plageMaxi": 422.7056369114895,
          "plageMini": 79.15953162783634
         },
         {
          "jour": "2019-02-19T00:00:00",
          "plageMaxi": 422.7056369114895,
          "plageMini": 79.15953162783634
         },
         {
          "jour": "2019-02-20T00:00:00",
          "plageMaxi": 422.7056369114895,
          "plageMini": 79.15953162783634
         },
         {
          "jour": "2019-02-20T00:00:00",
          "plageMaxi": 422.7056369114895,
          "plageMini": 79.15953162783634
         },
         {
          "jour": "2019-02-21T00:00:00",
          "plageMaxi": 422.7056369114895,
          "plageMini": 79.15953162783634
         },
         {
          "jour": "2019-02-21T00:00:00",
          "plageMaxi": 422.7056369114895,
          "plageMini": 79.15953162783634
         },
         {
          "jour": "2019-02-22T00:00:00",
          "plageMaxi": 422.7056369114895,
          "plageMini": 79.15953162783634
         },
         {
          "jour": "2019-02-22T00:00:00",
          "plageMaxi": 422.7056369114895,
          "plageMini": 79.15953162783634
         },
         {
          "jour": "2019-02-23T00:00:00",
          "plageMaxi": 422.7056369114895,
          "plageMini": 79.15953162783634
         },
         {
          "jour": "2019-02-23T00:00:00",
          "plageMaxi": 422.7056369114895,
          "plageMini": 79.15953162783634
         },
         {
          "jour": "2019-02-24T00:00:00",
          "plageMaxi": 422.7056369114895,
          "plageMini": 79.15953162783634
         },
         {
          "jour": "2019-02-24T00:00:00",
          "plageMaxi": 422.7056369114895,
          "plageMini": 79.15953162783634
         },
         {
          "jour": "2019-02-25T00:00:00",
          "plageMaxi": 422.7056369114895,
          "plageMini": 79.15953162783634
         },
         {
          "jour": "2019-02-25T00:00:00",
          "plageMaxi": 422.7056369114895,
          "plageMini": 79.15953162783634
         },
         {
          "jour": "2019-02-26T00:00:00",
          "plageMaxi": 422.7056369114895,
          "plageMini": 79.15953162783634
         },
         {
          "jour": "2019-02-26T00:00:00",
          "plageMaxi": 422.7056369114895,
          "plageMini": 79.15953162783634
         },
         {
          "jour": "2019-02-27T00:00:00",
          "plageMaxi": 422.7056369114895,
          "plageMini": 79.15953162783634
         },
         {
          "jour": "2019-02-27T00:00:00",
          "plageMaxi": 422.7056369114895,
          "plageMini": 79.15953162783634
         },
         {
          "jour": "2019-02-28T00:00:00",
          "plageMaxi": 422.7056369114895,
          "plageMini": 79.15953162783634
         },
         {
          "jour": "2019-02-28T00:00:00",
          "plageMaxi": 422.7056369114895,
          "plageMini": 79.15953162783634
         },
         {
          "jour": "2019-03-01T00:00:00",
          "plageMaxi": 422.7056369114895,
          "plageMini": 79.15953162783634
         },
         {
          "jour": "2019-03-01T00:00:00",
          "plageMaxi": 422.7056369114895,
          "plageMini": 79.15953162783634
         },
         {
          "jour": "2019-03-02T00:00:00",
          "plageMaxi": 422.7056369114895,
          "plageMini": 79.15953162783634
         },
         {
          "jour": "2019-03-02T00:00:00",
          "plageMaxi": 422.7056369114895,
          "plageMini": 79.15953162783634
         },
         {
          "jour": "2019-03-03T00:00:00",
          "plageMaxi": 422.7056369114895,
          "plageMini": 79.15953162783634
         },
         {
          "jour": "2019-03-03T00:00:00",
          "plageMaxi": 422.7056369114895,
          "plageMini": 79.15953162783634
         },
         {
          "jour": "2019-03-04T00:00:00",
          "plageMaxi": 422.7056369114895,
          "plageMini": 79.15953162783634
         },
         {
          "jour": "2019-03-04T00:00:00",
          "plageMaxi": 422.7056369114895,
          "plageMini": 79.15953162783634
         },
         {
          "jour": "2019-03-05T00:00:00",
          "plageMaxi": 422.7056369114895,
          "plageMini": 79.15953162783634
         },
         {
          "jour": "2019-03-05T00:00:00",
          "plageMaxi": 422.7056369114895,
          "plageMini": 79.15953162783634
         },
         {
          "jour": "2019-03-06T00:00:00",
          "plageMaxi": 422.7056369114895,
          "plageMini": 79.15953162783634
         },
         {
          "jour": "2019-03-06T00:00:00",
          "plageMaxi": 422.7056369114895,
          "plageMini": 79.15953162783634
         },
         {
          "jour": "2019-03-07T00:00:00",
          "plageMaxi": 422.7056369114895,
          "plageMini": 79.15953162783634
         },
         {
          "jour": "2019-03-07T00:00:00",
          "plageMaxi": 422.7056369114895,
          "plageMini": 79.15953162783634
         },
         {
          "jour": "2019-03-08T00:00:00",
          "plageMaxi": 422.7056369114895,
          "plageMini": 79.15953162783634
         },
         {
          "jour": "2019-03-08T00:00:00",
          "plageMaxi": 422.7056369114895,
          "plageMini": 79.15953162783634
         },
         {
          "jour": "2019-03-09T00:00:00",
          "plageMaxi": 422.7056369114895,
          "plageMini": 79.15953162783634
         },
         {
          "jour": "2019-03-09T00:00:00",
          "plageMaxi": 422.7056369114895,
          "plageMini": 79.15953162783634
         },
         {
          "jour": "2019-03-10T00:00:00",
          "plageMaxi": 422.7056369114895,
          "plageMini": 79.15953162783634
         },
         {
          "jour": "2019-03-10T00:00:00",
          "plageMaxi": 422.7056369114895,
          "plageMini": 79.15953162783634
         },
         {
          "jour": "2019-03-11T00:00:00",
          "plageMaxi": 422.7056369114895,
          "plageMini": 79.15953162783634
         },
         {
          "jour": "2019-03-11T00:00:00",
          "plageMaxi": 422.7056369114895,
          "plageMini": 79.15953162783634
         },
         {
          "jour": "2019-03-12T00:00:00",
          "plageMaxi": 422.7056369114895,
          "plageMini": 79.15953162783634
         },
         {
          "jour": "2019-03-12T00:00:00",
          "plageMaxi": 422.7056369114895,
          "plageMini": 79.15953162783634
         },
         {
          "jour": "2019-03-13T00:00:00",
          "plageMaxi": 422.7056369114895,
          "plageMini": 79.15953162783634
         },
         {
          "jour": "2019-03-13T00:00:00",
          "plageMaxi": 422.7056369114895,
          "plageMini": 79.15953162783634
         },
         {
          "jour": "2019-03-14T00:00:00",
          "plageMaxi": 422.7056369114895,
          "plageMini": 79.15953162783634
         },
         {
          "jour": "2019-03-14T00:00:00",
          "plageMaxi": 422.7056369114895,
          "plageMini": 79.15953162783634
         },
         {
          "jour": "2019-03-15T00:00:00",
          "plageMaxi": 422.7056369114895,
          "plageMini": 79.15953162783634
         },
         {
          "jour": "2019-03-15T00:00:00",
          "plageMaxi": 422.7056369114895,
          "plageMini": 79.15953162783634
         },
         {
          "jour": "2019-03-16T00:00:00",
          "plageMaxi": 422.7056369114895,
          "plageMini": 79.15953162783634
         },
         {
          "jour": "2019-03-16T00:00:00",
          "plageMaxi": 422.7056369114895,
          "plageMini": 79.15953162783634
         },
         {
          "jour": "2019-03-17T00:00:00",
          "plageMaxi": 422.7056369114895,
          "plageMini": 79.15953162783634
         },
         {
          "jour": "2019-03-17T00:00:00",
          "plageMaxi": 422.7056369114895,
          "plageMini": 79.15953162783634
         },
         {
          "jour": "2019-03-18T00:00:00",
          "plageMaxi": 422.7056369114895,
          "plageMini": 79.15953162783634
         },
         {
          "jour": "2019-03-18T00:00:00",
          "plageMaxi": 422.7056369114895,
          "plageMini": 79.15953162783634
         },
         {
          "jour": "2019-03-19T00:00:00",
          "plageMaxi": 422.7056369114895,
          "plageMini": 79.15953162783634
         },
         {
          "jour": "2019-03-19T00:00:00",
          "plageMaxi": 422.7056369114895,
          "plageMini": 79.15953162783634
         },
         {
          "jour": "2019-03-20T00:00:00",
          "plageMaxi": 422.7056369114895,
          "plageMini": 79.15953162783634
         },
         {
          "jour": "2019-03-20T00:00:00",
          "plageMaxi": 422.7056369114895,
          "plageMini": 79.15953162783634
         },
         {
          "jour": "2019-03-21T00:00:00",
          "plageMaxi": 422.7056369114895,
          "plageMini": 79.15953162783634
         },
         {
          "jour": "2019-03-21T00:00:00",
          "plageMaxi": 422.7056369114895,
          "plageMini": 79.15953162783634
         },
         {
          "jour": "2019-03-22T00:00:00",
          "plageMaxi": 422.7056369114895,
          "plageMini": 79.15953162783634
         },
         {
          "jour": "2019-03-22T00:00:00",
          "plageMaxi": 422.7056369114895,
          "plageMini": 79.15953162783634
         },
         {
          "jour": "2019-03-23T00:00:00",
          "plageMaxi": 422.7056369114895,
          "plageMini": 79.15953162783634
         },
         {
          "jour": "2019-03-23T00:00:00",
          "plageMaxi": 422.7056369114895,
          "plageMini": 79.15953162783634
         },
         {
          "jour": "2019-03-24T00:00:00",
          "plageMaxi": 422.7056369114895,
          "plageMini": 79.15953162783634
         },
         {
          "jour": "2019-03-24T00:00:00",
          "plageMaxi": 422.7056369114895,
          "plageMini": 79.15953162783634
         },
         {
          "jour": "2019-03-25T00:00:00",
          "plageMaxi": 422.7056369114895,
          "plageMini": 79.15953162783634
         },
         {
          "jour": "2019-03-25T00:00:00",
          "plageMaxi": 422.7056369114895,
          "plageMini": 79.15953162783634
         },
         {
          "jour": "2019-03-26T00:00:00",
          "plageMaxi": 422.7056369114895,
          "plageMini": 79.15953162783634
         },
         {
          "jour": "2019-03-26T00:00:00",
          "plageMaxi": 422.7056369114895,
          "plageMini": 79.15953162783634
         },
         {
          "jour": "2019-03-27T00:00:00",
          "plageMaxi": 422.7056369114895,
          "plageMini": 79.15953162783634
         },
         {
          "jour": "2019-03-27T00:00:00",
          "plageMaxi": 422.7056369114895,
          "plageMini": 79.15953162783634
         },
         {
          "jour": "2019-03-28T00:00:00",
          "plageMaxi": 422.7056369114895,
          "plageMini": 79.15953162783634
         },
         {
          "jour": "2019-03-28T00:00:00",
          "plageMaxi": 422.7056369114895,
          "plageMini": 79.15953162783634
         },
         {
          "jour": "2019-03-29T00:00:00",
          "plageMaxi": 422.7056369114895,
          "plageMini": 79.15953162783634
         },
         {
          "jour": "2019-03-29T00:00:00",
          "plageMaxi": 422.7056369114895,
          "plageMini": 79.15953162783634
         },
         {
          "jour": "2019-03-30T00:00:00",
          "plageMaxi": 422.7056369114895,
          "plageMini": 79.15953162783634
         },
         {
          "jour": "2019-03-30T00:00:00",
          "plageMaxi": 422.7056369114895,
          "plageMini": 79.15953162783634
         },
         {
          "jour": "2019-03-31T00:00:00",
          "plageMaxi": 422.7056369114895,
          "plageMini": 79.15953162783634
         },
         {
          "jour": "2019-03-31T00:00:00",
          "plageMaxi": 422.7056369114895,
          "plageMini": 79.15953162783634
         }
        ]
       },
       "layer": [
        {
         "data": {
          "name": "data-54957472090a9279092e54c25f2e90a2"
         },
         "encoding": {
          "x": {
           "field": "jour",
           "type": "temporal"
          },
          "y": {
           "axis": {
            "title": "Nb de vehicule"
           },
           "field": "plageMini",
           "type": "quantitative"
          },
          "y2": {
           "field": "plageMaxi"
          }
         },
         "mark": {
          "color": "yellow",
          "opacity": 0.3,
          "type": "area"
         }
        },
        {
         "data": {
          "name": "data-171b509c25be84cb64872bbb172bd3ba"
         },
         "encoding": {
          "tooltip": {
           "field": "jour",
           "type": "temporal"
          },
          "x": {
           "field": "jour",
           "type": "temporal"
          },
          "y": {
           "axis": {
            "title": "Nb de vehicule"
           },
           "field": "h8_9",
           "type": "quantitative"
          }
         },
         "mark": "point",
         "selection": {
          "selector051": {
           "bind": "scales",
           "encodings": [
            "x",
            "y"
           ],
           "type": "interval"
          }
         },
         "title": "h8_9"
        },
        {
         "data": {
          "name": "data-40133e53997f9c5e5cce2e9f00f9cf7c"
         },
         "encoding": {
          "color": {
           "field": "typeVal",
           "type": "nominal"
          },
          "x": {
           "field": "jour",
           "type": "temporal"
          },
          "y": {
           "field": "val",
           "type": "quantitative"
          }
         },
         "mark": "line"
        }
       ]
      },
      "image/png": "[encoded data removed]",
      "text/plain": [
       "<VegaLite 3 object>\n",
       "\n",
       "If you see this message, it means the renderer has not been properly enabled\n",
       "for the frontend that you are using. For more information, see\n",
       "https://altair-viz.github.io/user_guide/troubleshooting.html\n"
      ]
     },
     "execution_count": 82,
     "metadata": {},
     "output_type": "execute_result"
    }
   ],
   "source": [
    "graphTrafHoraire(df_horaire,statsHoraires(df_horaire,'h8_9'),'h8_9')"
   ]
  },
  {
   "cell_type": "code",
   "execution_count": 81,
   "metadata": {},
   "outputs": [],
   "source": [
    "alt.VConcatChart(vconcat=[alt.HConcatChart(hconcat=([graphTrafHoraire(df_horaire,statsHoraires(df_horaire,attributHeure),attributHeure) \n",
    "                           for attributHeure in [f'h{i+j}_{i+j+1}' for i in range(4)]])) for j in range(0,21,4)])"
   ]
  },
  {
   "cell_type": "markdown",
   "metadata": {},
   "source": [
    "> ## **Visu de la répartition horaires des données en MJA et MJO**\n",
    "exemple DIRA"
   ]
  },
  {
   "cell_type": "code",
   "execution_count": 3,
   "metadata": {},
   "outputs": [],
   "source": [
    "with ct.ConnexionBdd('local_otv_boulot') as c:\n",
    "    rqt=\"SELECT * FROM comptage.indic_horaire_id_comptag_annee('33-N230-37+346', '2019')\"\n",
    "    df=pd.read_sql(rqt,c.sqlAlchemyConn)"
   ]
  },
  {
   "cell_type": "code",
   "execution_count": 15,
   "metadata": {},
   "outputs": [
    {
     "data": {
      "text/html": [
       "\n",
       "<div id=\"altair-viz-892bbbee7258484e90c5242fd314584e\"></div>\n",
       "<script type=\"text/javascript\">\n",
       "  (function(spec, embedOpt){\n",
       "    let outputDiv = document.currentScript.previousElementSibling;\n",
       "    if (outputDiv.id !== \"altair-viz-892bbbee7258484e90c5242fd314584e\") {\n",
       "      outputDiv = document.getElementById(\"altair-viz-892bbbee7258484e90c5242fd314584e\");\n",
       "    }\n",
       "    const paths = {\n",
       "      \"vega\": \"https://cdn.jsdelivr.net/npm//vega@5?noext\",\n",
       "      \"vega-lib\": \"https://cdn.jsdelivr.net/npm//vega-lib?noext\",\n",
       "      \"vega-lite\": \"https://cdn.jsdelivr.net/npm//vega-lite@4.8.1?noext\",\n",
       "      \"vega-embed\": \"https://cdn.jsdelivr.net/npm//vega-embed@6?noext\",\n",
       "    };\n",
       "\n",
       "    function loadScript(lib) {\n",
       "      return new Promise(function(resolve, reject) {\n",
       "        var s = document.createElement('script');\n",
       "        s.src = paths[lib];\n",
       "        s.async = true;\n",
       "        s.onload = () => resolve(paths[lib]);\n",
       "        s.onerror = () => reject(`Error loading script: ${paths[lib]}`);\n",
       "        document.getElementsByTagName(\"head\")[0].appendChild(s);\n",
       "      });\n",
       "    }\n",
       "\n",
       "    function showError(err) {\n",
       "      outputDiv.innerHTML = `<div class=\"error\" style=\"color:red;\">${err}</div>`;\n",
       "      throw err;\n",
       "    }\n",
       "\n",
       "    function displayChart(vegaEmbed) {\n",
       "      vegaEmbed(outputDiv, spec, embedOpt)\n",
       "        .catch(err => showError(`Javascript Error: ${err.message}<br>This usually means there's a typo in your chart specification. See the javascript console for the full traceback.`));\n",
       "    }\n",
       "\n",
       "    if(typeof define === \"function\" && define.amd) {\n",
       "      requirejs.config({paths});\n",
       "      require([\"vega-embed\"], displayChart, err => showError(`Error loading script: ${err.message}`));\n",
       "    } else if (typeof vegaEmbed === \"function\") {\n",
       "      displayChart(vegaEmbed);\n",
       "    } else {\n",
       "      loadScript(\"vega\")\n",
       "        .then(() => loadScript(\"vega-lite\"))\n",
       "        .then(() => loadScript(\"vega-embed\"))\n",
       "        .catch(showError)\n",
       "        .then(() => displayChart(vegaEmbed));\n",
       "    }\n",
       "  })({\"config\": {\"view\": {\"continuousWidth\": 400, \"continuousHeight\": 300}}, \"data\": {\"name\": \"data-c10d0724e871d751b573ff9e7302572d\"}, \"mark\": \"line\", \"encoding\": {\"color\": {\"type\": \"nominal\", \"field\": \"type_jour\"}, \"x\": {\"type\": \"temporal\", \"field\": \"heure\"}, \"y\": {\"type\": \"quantitative\", \"field\": \"nb_veh\"}}, \"title\": \"33-N230-37+346\", \"$schema\": \"https://vega.github.io/schema/vega-lite/v4.8.1.json\", \"datasets\": {\"data-c10d0724e871d751b573ff9e7302572d\": [{\"id_comptag\": \"33-N230-37+346\", \"heure\": \"2019-01-01T00:00:00\", \"nb_veh\": 1438, \"type_jour\": \"tmja\"}, {\"id_comptag\": \"33-N230-37+346\", \"heure\": \"2019-01-01T01:00:00\", \"nb_veh\": 1085, \"type_jour\": \"tmja\"}, {\"id_comptag\": \"33-N230-37+346\", \"heure\": \"2019-01-01T02:00:00\", \"nb_veh\": 898, \"type_jour\": \"tmja\"}, {\"id_comptag\": \"33-N230-37+346\", \"heure\": \"2019-01-01T03:00:00\", \"nb_veh\": 865, \"type_jour\": \"tmja\"}, {\"id_comptag\": \"33-N230-37+346\", \"heure\": \"2019-01-01T04:00:00\", \"nb_veh\": 1115, \"type_jour\": \"tmja\"}, {\"id_comptag\": \"33-N230-37+346\", \"heure\": \"2019-01-01T05:00:00\", \"nb_veh\": 1849, \"type_jour\": \"tmja\"}, {\"id_comptag\": \"33-N230-37+346\", \"heure\": \"2019-01-01T06:00:00\", \"nb_veh\": 4224, \"type_jour\": \"tmja\"}, {\"id_comptag\": \"33-N230-37+346\", \"heure\": \"2019-01-01T07:00:00\", \"nb_veh\": 5475, \"type_jour\": \"tmja\"}, {\"id_comptag\": \"33-N230-37+346\", \"heure\": \"2019-01-01T08:00:00\", \"nb_veh\": 5476, \"type_jour\": \"tmja\"}, {\"id_comptag\": \"33-N230-37+346\", \"heure\": \"2019-01-01T09:00:00\", \"nb_veh\": 6010, \"type_jour\": \"tmja\"}, {\"id_comptag\": \"33-N230-37+346\", \"heure\": \"2019-01-01T10:00:00\", \"nb_veh\": 7039, \"type_jour\": \"tmja\"}, {\"id_comptag\": \"33-N230-37+346\", \"heure\": \"2019-01-01T11:00:00\", \"nb_veh\": 7603, \"type_jour\": \"tmja\"}, {\"id_comptag\": \"33-N230-37+346\", \"heure\": \"2019-01-01T12:00:00\", \"nb_veh\": 7375, \"type_jour\": \"tmja\"}, {\"id_comptag\": \"33-N230-37+346\", \"heure\": \"2019-01-01T13:00:00\", \"nb_veh\": 7004, \"type_jour\": \"tmja\"}, {\"id_comptag\": \"33-N230-37+346\", \"heure\": \"2019-01-01T14:00:00\", \"nb_veh\": 7574, \"type_jour\": \"tmja\"}, {\"id_comptag\": \"33-N230-37+346\", \"heure\": \"2019-01-01T15:00:00\", \"nb_veh\": 8020, \"type_jour\": \"tmja\"}, {\"id_comptag\": \"33-N230-37+346\", \"heure\": \"2019-01-01T16:00:00\", \"nb_veh\": 8254, \"type_jour\": \"tmja\"}, {\"id_comptag\": \"33-N230-37+346\", \"heure\": \"2019-01-01T17:00:00\", \"nb_veh\": 7955, \"type_jour\": \"tmja\"}, {\"id_comptag\": \"33-N230-37+346\", \"heure\": \"2019-01-01T18:00:00\", \"nb_veh\": 7754, \"type_jour\": \"tmja\"}, {\"id_comptag\": \"33-N230-37+346\", \"heure\": \"2019-01-01T19:00:00\", \"nb_veh\": 6640, \"type_jour\": \"tmja\"}, {\"id_comptag\": \"33-N230-37+346\", \"heure\": \"2019-01-01T20:00:00\", \"nb_veh\": 4521, \"type_jour\": \"tmja\"}, {\"id_comptag\": \"33-N230-37+346\", \"heure\": \"2019-01-01T21:00:00\", \"nb_veh\": 2929, \"type_jour\": \"tmja\"}, {\"id_comptag\": \"33-N230-37+346\", \"heure\": \"2019-01-01T22:00:00\", \"nb_veh\": 2341, \"type_jour\": \"tmja\"}, {\"id_comptag\": \"33-N230-37+346\", \"heure\": \"2019-01-01T23:00:00\", \"nb_veh\": 1927, \"type_jour\": \"tmja\"}, {\"id_comptag\": \"33-N230-37+346\", \"heure\": \"2019-01-01T00:00:00\", \"nb_veh\": 1181, \"type_jour\": \"tmjo\"}, {\"id_comptag\": \"33-N230-37+346\", \"heure\": \"2019-01-01T01:00:00\", \"nb_veh\": 880, \"type_jour\": \"tmjo\"}, {\"id_comptag\": \"33-N230-37+346\", \"heure\": \"2019-01-01T02:00:00\", \"nb_veh\": 785, \"type_jour\": \"tmjo\"}, {\"id_comptag\": \"33-N230-37+346\", \"heure\": \"2019-01-01T03:00:00\", \"nb_veh\": 830, \"type_jour\": \"tmjo\"}, {\"id_comptag\": \"33-N230-37+346\", \"heure\": \"2019-01-01T04:00:00\", \"nb_veh\": 1176, \"type_jour\": \"tmjo\"}, {\"id_comptag\": \"33-N230-37+346\", \"heure\": \"2019-01-01T05:00:00\", \"nb_veh\": 2115, \"type_jour\": \"tmjo\"}, {\"id_comptag\": \"33-N230-37+346\", \"heure\": \"2019-01-01T06:00:00\", \"nb_veh\": 5206, \"type_jour\": \"tmjo\"}, {\"id_comptag\": \"33-N230-37+346\", \"heure\": \"2019-01-01T07:00:00\", \"nb_veh\": 6663, \"type_jour\": \"tmjo\"}, {\"id_comptag\": \"33-N230-37+346\", \"heure\": \"2019-01-01T08:00:00\", \"nb_veh\": 6218, \"type_jour\": \"tmjo\"}, {\"id_comptag\": \"33-N230-37+346\", \"heure\": \"2019-01-01T09:00:00\", \"nb_veh\": 6327, \"type_jour\": \"tmjo\"}, {\"id_comptag\": \"33-N230-37+346\", \"heure\": \"2019-01-01T10:00:00\", \"nb_veh\": 7193, \"type_jour\": \"tmjo\"}, {\"id_comptag\": \"33-N230-37+346\", \"heure\": \"2019-01-01T11:00:00\", \"nb_veh\": 7651, \"type_jour\": \"tmjo\"}, {\"id_comptag\": \"33-N230-37+346\", \"heure\": \"2019-01-01T12:00:00\", \"nb_veh\": 7535, \"type_jour\": \"tmjo\"}, {\"id_comptag\": \"33-N230-37+346\", \"heure\": \"2019-01-01T13:00:00\", \"nb_veh\": 7348, \"type_jour\": \"tmjo\"}, {\"id_comptag\": \"33-N230-37+346\", \"heure\": \"2019-01-01T14:00:00\", \"nb_veh\": 7913, \"type_jour\": \"tmjo\"}, {\"id_comptag\": \"33-N230-37+346\", \"heure\": \"2019-01-01T15:00:00\", \"nb_veh\": 8384, \"type_jour\": \"tmjo\"}, {\"id_comptag\": \"33-N230-37+346\", \"heure\": \"2019-01-01T16:00:00\", \"nb_veh\": 8632, \"type_jour\": \"tmjo\"}, {\"id_comptag\": \"33-N230-37+346\", \"heure\": \"2019-01-01T17:00:00\", \"nb_veh\": 8074, \"type_jour\": \"tmjo\"}, {\"id_comptag\": \"33-N230-37+346\", \"heure\": \"2019-01-01T18:00:00\", \"nb_veh\": 7804, \"type_jour\": \"tmjo\"}, {\"id_comptag\": \"33-N230-37+346\", \"heure\": \"2019-01-01T19:00:00\", \"nb_veh\": 6676, \"type_jour\": \"tmjo\"}, {\"id_comptag\": \"33-N230-37+346\", \"heure\": \"2019-01-01T20:00:00\", \"nb_veh\": 4548, \"type_jour\": \"tmjo\"}, {\"id_comptag\": \"33-N230-37+346\", \"heure\": \"2019-01-01T21:00:00\", \"nb_veh\": 2906, \"type_jour\": \"tmjo\"}, {\"id_comptag\": \"33-N230-37+346\", \"heure\": \"2019-01-01T22:00:00\", \"nb_veh\": 2324, \"type_jour\": \"tmjo\"}, {\"id_comptag\": \"33-N230-37+346\", \"heure\": \"2019-01-01T23:00:00\", \"nb_veh\": 1888, \"type_jour\": \"tmjo\"}]}}, {\"mode\": \"vega-lite\"});\n",
       "</script>"
      ],
      "text/plain": [
       "alt.Chart(...)"
      ]
     },
     "execution_count": 15,
     "metadata": {},
     "output_type": "execute_result"
    }
   ],
   "source": [
    "vi.GraphJourneeType(df,'33-N230-37+346')"
   ]
  },
  {
   "cell_type": "code",
   "execution_count": 13,
   "metadata": {},
   "outputs": [],
   "source": [
    "dfTMJA,dfTMJO=dh.calculJourneeType(df)\n",
    "dfVisu=vi.prepGraphJourneeType(dfTMJA,dfTMJO)"
   ]
  },
  {
   "cell_type": "code",
   "execution_count": 18,
   "metadata": {},
   "outputs": [
    {
     "data": {
      "text/html": [
       "<div>\n",
       "<style scoped>\n",
       "    .dataframe tbody tr th:only-of-type {\n",
       "        vertical-align: middle;\n",
       "    }\n",
       "\n",
       "    .dataframe tbody tr th {\n",
       "        vertical-align: top;\n",
       "    }\n",
       "\n",
       "    .dataframe thead th {\n",
       "        text-align: right;\n",
       "    }\n",
       "</style>\n",
       "<table border=\"1\" class=\"dataframe\">\n",
       "  <thead>\n",
       "    <tr style=\"text-align: right;\">\n",
       "      <th></th>\n",
       "      <th>id_comptag</th>\n",
       "      <th>heure</th>\n",
       "      <th>nb_veh</th>\n",
       "      <th>type_jour</th>\n",
       "    </tr>\n",
       "  </thead>\n",
       "  <tbody>\n",
       "    <tr>\n",
       "      <th>0</th>\n",
       "      <td>33-N230-37+346</td>\n",
       "      <td>2019-01-01 00:00:00</td>\n",
       "      <td>1438</td>\n",
       "      <td>tmja</td>\n",
       "    </tr>\n",
       "    <tr>\n",
       "      <th>1</th>\n",
       "      <td>33-N230-37+346</td>\n",
       "      <td>2019-01-01 01:00:00</td>\n",
       "      <td>1085</td>\n",
       "      <td>tmja</td>\n",
       "    </tr>\n",
       "    <tr>\n",
       "      <th>2</th>\n",
       "      <td>33-N230-37+346</td>\n",
       "      <td>2019-01-01 02:00:00</td>\n",
       "      <td>898</td>\n",
       "      <td>tmja</td>\n",
       "    </tr>\n",
       "    <tr>\n",
       "      <th>3</th>\n",
       "      <td>33-N230-37+346</td>\n",
       "      <td>2019-01-01 03:00:00</td>\n",
       "      <td>865</td>\n",
       "      <td>tmja</td>\n",
       "    </tr>\n",
       "    <tr>\n",
       "      <th>4</th>\n",
       "      <td>33-N230-37+346</td>\n",
       "      <td>2019-01-01 04:00:00</td>\n",
       "      <td>1115</td>\n",
       "      <td>tmja</td>\n",
       "    </tr>\n",
       "    <tr>\n",
       "      <th>5</th>\n",
       "      <td>33-N230-37+346</td>\n",
       "      <td>2019-01-01 05:00:00</td>\n",
       "      <td>1849</td>\n",
       "      <td>tmja</td>\n",
       "    </tr>\n",
       "    <tr>\n",
       "      <th>6</th>\n",
       "      <td>33-N230-37+346</td>\n",
       "      <td>2019-01-01 06:00:00</td>\n",
       "      <td>4224</td>\n",
       "      <td>tmja</td>\n",
       "    </tr>\n",
       "    <tr>\n",
       "      <th>7</th>\n",
       "      <td>33-N230-37+346</td>\n",
       "      <td>2019-01-01 07:00:00</td>\n",
       "      <td>5475</td>\n",
       "      <td>tmja</td>\n",
       "    </tr>\n",
       "    <tr>\n",
       "      <th>8</th>\n",
       "      <td>33-N230-37+346</td>\n",
       "      <td>2019-01-01 08:00:00</td>\n",
       "      <td>5476</td>\n",
       "      <td>tmja</td>\n",
       "    </tr>\n",
       "    <tr>\n",
       "      <th>9</th>\n",
       "      <td>33-N230-37+346</td>\n",
       "      <td>2019-01-01 09:00:00</td>\n",
       "      <td>6010</td>\n",
       "      <td>tmja</td>\n",
       "    </tr>\n",
       "    <tr>\n",
       "      <th>10</th>\n",
       "      <td>33-N230-37+346</td>\n",
       "      <td>2019-01-01 10:00:00</td>\n",
       "      <td>7039</td>\n",
       "      <td>tmja</td>\n",
       "    </tr>\n",
       "    <tr>\n",
       "      <th>11</th>\n",
       "      <td>33-N230-37+346</td>\n",
       "      <td>2019-01-01 11:00:00</td>\n",
       "      <td>7603</td>\n",
       "      <td>tmja</td>\n",
       "    </tr>\n",
       "    <tr>\n",
       "      <th>12</th>\n",
       "      <td>33-N230-37+346</td>\n",
       "      <td>2019-01-01 12:00:00</td>\n",
       "      <td>7375</td>\n",
       "      <td>tmja</td>\n",
       "    </tr>\n",
       "    <tr>\n",
       "      <th>13</th>\n",
       "      <td>33-N230-37+346</td>\n",
       "      <td>2019-01-01 13:00:00</td>\n",
       "      <td>7004</td>\n",
       "      <td>tmja</td>\n",
       "    </tr>\n",
       "    <tr>\n",
       "      <th>14</th>\n",
       "      <td>33-N230-37+346</td>\n",
       "      <td>2019-01-01 14:00:00</td>\n",
       "      <td>7574</td>\n",
       "      <td>tmja</td>\n",
       "    </tr>\n",
       "    <tr>\n",
       "      <th>15</th>\n",
       "      <td>33-N230-37+346</td>\n",
       "      <td>2019-01-01 15:00:00</td>\n",
       "      <td>8020</td>\n",
       "      <td>tmja</td>\n",
       "    </tr>\n",
       "    <tr>\n",
       "      <th>16</th>\n",
       "      <td>33-N230-37+346</td>\n",
       "      <td>2019-01-01 16:00:00</td>\n",
       "      <td>8254</td>\n",
       "      <td>tmja</td>\n",
       "    </tr>\n",
       "    <tr>\n",
       "      <th>17</th>\n",
       "      <td>33-N230-37+346</td>\n",
       "      <td>2019-01-01 17:00:00</td>\n",
       "      <td>7955</td>\n",
       "      <td>tmja</td>\n",
       "    </tr>\n",
       "    <tr>\n",
       "      <th>18</th>\n",
       "      <td>33-N230-37+346</td>\n",
       "      <td>2019-01-01 18:00:00</td>\n",
       "      <td>7754</td>\n",
       "      <td>tmja</td>\n",
       "    </tr>\n",
       "    <tr>\n",
       "      <th>19</th>\n",
       "      <td>33-N230-37+346</td>\n",
       "      <td>2019-01-01 19:00:00</td>\n",
       "      <td>6640</td>\n",
       "      <td>tmja</td>\n",
       "    </tr>\n",
       "    <tr>\n",
       "      <th>20</th>\n",
       "      <td>33-N230-37+346</td>\n",
       "      <td>2019-01-01 20:00:00</td>\n",
       "      <td>4521</td>\n",
       "      <td>tmja</td>\n",
       "    </tr>\n",
       "    <tr>\n",
       "      <th>21</th>\n",
       "      <td>33-N230-37+346</td>\n",
       "      <td>2019-01-01 21:00:00</td>\n",
       "      <td>2929</td>\n",
       "      <td>tmja</td>\n",
       "    </tr>\n",
       "    <tr>\n",
       "      <th>22</th>\n",
       "      <td>33-N230-37+346</td>\n",
       "      <td>2019-01-01 22:00:00</td>\n",
       "      <td>2341</td>\n",
       "      <td>tmja</td>\n",
       "    </tr>\n",
       "    <tr>\n",
       "      <th>23</th>\n",
       "      <td>33-N230-37+346</td>\n",
       "      <td>2019-01-01 23:00:00</td>\n",
       "      <td>1927</td>\n",
       "      <td>tmja</td>\n",
       "    </tr>\n",
       "    <tr>\n",
       "      <th>0</th>\n",
       "      <td>33-N230-37+346</td>\n",
       "      <td>2019-01-01 00:00:00</td>\n",
       "      <td>1181</td>\n",
       "      <td>tmjo</td>\n",
       "    </tr>\n",
       "    <tr>\n",
       "      <th>1</th>\n",
       "      <td>33-N230-37+346</td>\n",
       "      <td>2019-01-01 01:00:00</td>\n",
       "      <td>880</td>\n",
       "      <td>tmjo</td>\n",
       "    </tr>\n",
       "    <tr>\n",
       "      <th>2</th>\n",
       "      <td>33-N230-37+346</td>\n",
       "      <td>2019-01-01 02:00:00</td>\n",
       "      <td>785</td>\n",
       "      <td>tmjo</td>\n",
       "    </tr>\n",
       "    <tr>\n",
       "      <th>3</th>\n",
       "      <td>33-N230-37+346</td>\n",
       "      <td>2019-01-01 03:00:00</td>\n",
       "      <td>830</td>\n",
       "      <td>tmjo</td>\n",
       "    </tr>\n",
       "    <tr>\n",
       "      <th>4</th>\n",
       "      <td>33-N230-37+346</td>\n",
       "      <td>2019-01-01 04:00:00</td>\n",
       "      <td>1176</td>\n",
       "      <td>tmjo</td>\n",
       "    </tr>\n",
       "    <tr>\n",
       "      <th>5</th>\n",
       "      <td>33-N230-37+346</td>\n",
       "      <td>2019-01-01 05:00:00</td>\n",
       "      <td>2115</td>\n",
       "      <td>tmjo</td>\n",
       "    </tr>\n",
       "    <tr>\n",
       "      <th>6</th>\n",
       "      <td>33-N230-37+346</td>\n",
       "      <td>2019-01-01 06:00:00</td>\n",
       "      <td>5206</td>\n",
       "      <td>tmjo</td>\n",
       "    </tr>\n",
       "    <tr>\n",
       "      <th>7</th>\n",
       "      <td>33-N230-37+346</td>\n",
       "      <td>2019-01-01 07:00:00</td>\n",
       "      <td>6663</td>\n",
       "      <td>tmjo</td>\n",
       "    </tr>\n",
       "    <tr>\n",
       "      <th>8</th>\n",
       "      <td>33-N230-37+346</td>\n",
       "      <td>2019-01-01 08:00:00</td>\n",
       "      <td>6218</td>\n",
       "      <td>tmjo</td>\n",
       "    </tr>\n",
       "    <tr>\n",
       "      <th>9</th>\n",
       "      <td>33-N230-37+346</td>\n",
       "      <td>2019-01-01 09:00:00</td>\n",
       "      <td>6327</td>\n",
       "      <td>tmjo</td>\n",
       "    </tr>\n",
       "    <tr>\n",
       "      <th>10</th>\n",
       "      <td>33-N230-37+346</td>\n",
       "      <td>2019-01-01 10:00:00</td>\n",
       "      <td>7193</td>\n",
       "      <td>tmjo</td>\n",
       "    </tr>\n",
       "    <tr>\n",
       "      <th>11</th>\n",
       "      <td>33-N230-37+346</td>\n",
       "      <td>2019-01-01 11:00:00</td>\n",
       "      <td>7651</td>\n",
       "      <td>tmjo</td>\n",
       "    </tr>\n",
       "    <tr>\n",
       "      <th>12</th>\n",
       "      <td>33-N230-37+346</td>\n",
       "      <td>2019-01-01 12:00:00</td>\n",
       "      <td>7535</td>\n",
       "      <td>tmjo</td>\n",
       "    </tr>\n",
       "    <tr>\n",
       "      <th>13</th>\n",
       "      <td>33-N230-37+346</td>\n",
       "      <td>2019-01-01 13:00:00</td>\n",
       "      <td>7348</td>\n",
       "      <td>tmjo</td>\n",
       "    </tr>\n",
       "    <tr>\n",
       "      <th>14</th>\n",
       "      <td>33-N230-37+346</td>\n",
       "      <td>2019-01-01 14:00:00</td>\n",
       "      <td>7913</td>\n",
       "      <td>tmjo</td>\n",
       "    </tr>\n",
       "    <tr>\n",
       "      <th>15</th>\n",
       "      <td>33-N230-37+346</td>\n",
       "      <td>2019-01-01 15:00:00</td>\n",
       "      <td>8384</td>\n",
       "      <td>tmjo</td>\n",
       "    </tr>\n",
       "    <tr>\n",
       "      <th>16</th>\n",
       "      <td>33-N230-37+346</td>\n",
       "      <td>2019-01-01 16:00:00</td>\n",
       "      <td>8632</td>\n",
       "      <td>tmjo</td>\n",
       "    </tr>\n",
       "    <tr>\n",
       "      <th>17</th>\n",
       "      <td>33-N230-37+346</td>\n",
       "      <td>2019-01-01 17:00:00</td>\n",
       "      <td>8074</td>\n",
       "      <td>tmjo</td>\n",
       "    </tr>\n",
       "    <tr>\n",
       "      <th>18</th>\n",
       "      <td>33-N230-37+346</td>\n",
       "      <td>2019-01-01 18:00:00</td>\n",
       "      <td>7804</td>\n",
       "      <td>tmjo</td>\n",
       "    </tr>\n",
       "    <tr>\n",
       "      <th>19</th>\n",
       "      <td>33-N230-37+346</td>\n",
       "      <td>2019-01-01 19:00:00</td>\n",
       "      <td>6676</td>\n",
       "      <td>tmjo</td>\n",
       "    </tr>\n",
       "    <tr>\n",
       "      <th>20</th>\n",
       "      <td>33-N230-37+346</td>\n",
       "      <td>2019-01-01 20:00:00</td>\n",
       "      <td>4548</td>\n",
       "      <td>tmjo</td>\n",
       "    </tr>\n",
       "    <tr>\n",
       "      <th>21</th>\n",
       "      <td>33-N230-37+346</td>\n",
       "      <td>2019-01-01 21:00:00</td>\n",
       "      <td>2906</td>\n",
       "      <td>tmjo</td>\n",
       "    </tr>\n",
       "    <tr>\n",
       "      <th>22</th>\n",
       "      <td>33-N230-37+346</td>\n",
       "      <td>2019-01-01 22:00:00</td>\n",
       "      <td>2324</td>\n",
       "      <td>tmjo</td>\n",
       "    </tr>\n",
       "    <tr>\n",
       "      <th>23</th>\n",
       "      <td>33-N230-37+346</td>\n",
       "      <td>2019-01-01 23:00:00</td>\n",
       "      <td>1888</td>\n",
       "      <td>tmjo</td>\n",
       "    </tr>\n",
       "  </tbody>\n",
       "</table>\n",
       "</div>"
      ],
      "text/plain": [
       "        id_comptag               heure  nb_veh type_jour\n",
       "0   33-N230-37+346 2019-01-01 00:00:00    1438      tmja\n",
       "1   33-N230-37+346 2019-01-01 01:00:00    1085      tmja\n",
       "2   33-N230-37+346 2019-01-01 02:00:00     898      tmja\n",
       "3   33-N230-37+346 2019-01-01 03:00:00     865      tmja\n",
       "4   33-N230-37+346 2019-01-01 04:00:00    1115      tmja\n",
       "5   33-N230-37+346 2019-01-01 05:00:00    1849      tmja\n",
       "6   33-N230-37+346 2019-01-01 06:00:00    4224      tmja\n",
       "7   33-N230-37+346 2019-01-01 07:00:00    5475      tmja\n",
       "8   33-N230-37+346 2019-01-01 08:00:00    5476      tmja\n",
       "9   33-N230-37+346 2019-01-01 09:00:00    6010      tmja\n",
       "10  33-N230-37+346 2019-01-01 10:00:00    7039      tmja\n",
       "11  33-N230-37+346 2019-01-01 11:00:00    7603      tmja\n",
       "12  33-N230-37+346 2019-01-01 12:00:00    7375      tmja\n",
       "13  33-N230-37+346 2019-01-01 13:00:00    7004      tmja\n",
       "14  33-N230-37+346 2019-01-01 14:00:00    7574      tmja\n",
       "15  33-N230-37+346 2019-01-01 15:00:00    8020      tmja\n",
       "16  33-N230-37+346 2019-01-01 16:00:00    8254      tmja\n",
       "17  33-N230-37+346 2019-01-01 17:00:00    7955      tmja\n",
       "18  33-N230-37+346 2019-01-01 18:00:00    7754      tmja\n",
       "19  33-N230-37+346 2019-01-01 19:00:00    6640      tmja\n",
       "20  33-N230-37+346 2019-01-01 20:00:00    4521      tmja\n",
       "21  33-N230-37+346 2019-01-01 21:00:00    2929      tmja\n",
       "22  33-N230-37+346 2019-01-01 22:00:00    2341      tmja\n",
       "23  33-N230-37+346 2019-01-01 23:00:00    1927      tmja\n",
       "0   33-N230-37+346 2019-01-01 00:00:00    1181      tmjo\n",
       "1   33-N230-37+346 2019-01-01 01:00:00     880      tmjo\n",
       "2   33-N230-37+346 2019-01-01 02:00:00     785      tmjo\n",
       "3   33-N230-37+346 2019-01-01 03:00:00     830      tmjo\n",
       "4   33-N230-37+346 2019-01-01 04:00:00    1176      tmjo\n",
       "5   33-N230-37+346 2019-01-01 05:00:00    2115      tmjo\n",
       "6   33-N230-37+346 2019-01-01 06:00:00    5206      tmjo\n",
       "7   33-N230-37+346 2019-01-01 07:00:00    6663      tmjo\n",
       "8   33-N230-37+346 2019-01-01 08:00:00    6218      tmjo\n",
       "9   33-N230-37+346 2019-01-01 09:00:00    6327      tmjo\n",
       "10  33-N230-37+346 2019-01-01 10:00:00    7193      tmjo\n",
       "11  33-N230-37+346 2019-01-01 11:00:00    7651      tmjo\n",
       "12  33-N230-37+346 2019-01-01 12:00:00    7535      tmjo\n",
       "13  33-N230-37+346 2019-01-01 13:00:00    7348      tmjo\n",
       "14  33-N230-37+346 2019-01-01 14:00:00    7913      tmjo\n",
       "15  33-N230-37+346 2019-01-01 15:00:00    8384      tmjo\n",
       "16  33-N230-37+346 2019-01-01 16:00:00    8632      tmjo\n",
       "17  33-N230-37+346 2019-01-01 17:00:00    8074      tmjo\n",
       "18  33-N230-37+346 2019-01-01 18:00:00    7804      tmjo\n",
       "19  33-N230-37+346 2019-01-01 19:00:00    6676      tmjo\n",
       "20  33-N230-37+346 2019-01-01 20:00:00    4548      tmjo\n",
       "21  33-N230-37+346 2019-01-01 21:00:00    2906      tmjo\n",
       "22  33-N230-37+346 2019-01-01 22:00:00    2324      tmjo\n",
       "23  33-N230-37+346 2019-01-01 23:00:00    1888      tmjo"
      ]
     },
     "execution_count": 18,
     "metadata": {},
     "output_type": "execute_result"
    }
   ],
   "source": [
    "dfVisu#.iloc[6:19].nb_veh.mean()"
   ]
  },
  {
   "cell_type": "markdown",
   "metadata": {},
   "source": [
    ">## **Exemple de Graph sur une df horaire de la DIRCO**\n",
    "pour comparer 2 sens de circu"
   ]
  },
  {
   "cell_type": "code",
   "execution_count": 10,
   "metadata": {},
   "outputs": [],
   "source": [
    "fichierMja=r'Q:\\DAIT\\TI\\DREAL33\\2020\\OTV\\Doc_travail\\Donnees_source\\DIRCO\\TMJA DIRCO-NA 2019_unfused.csv'\n",
    "fichierMjM=r'Q:\\DAIT\\TI\\DREAL33\\2020\\OTV\\Doc_travail\\Donnees_source\\DIRCO\\TMJM DIRCO-NA 2019.ods'\n",
    "dossierHoraire=r'Q:\\DAIT\\TI\\DREAL33\\2020\\OTV\\Doc_travail\\Donnees_source\\DIRCO\\données dirco'\n",
    "dirco=it.Comptage_Dirco(fichierMja,fichierMjM,dossierHoraire,'2019')\n",
    "\n",
    "dfFichierTmja=dirco.miseEnFormeFichierTmjaPourHoraire()\n",
    "dfSc=dirco.miseEnFormeHoraire(dirco.tousFichierHoraires(dfFichierTmja))\n",
    "dfScParSens,dicoCptok,dicoCptAssym=dirco.horaireParSens(dfSc)"
   ]
  },
  {
   "cell_type": "code",
   "execution_count": 11,
   "metadata": {},
   "outputs": [
    {
     "data": {
      "application/vnd.vegalite.v3+json": {
       "$schema": "https://vega.github.io/schema/vega-lite/v3.4.0.json",
       "config": {
        "mark": {
         "tooltip": null
        },
        "view": {
         "height": 300,
         "width": 400
        }
       },
       "data": {
        "name": "data-f61544e13012dd850557d6ef4fc29341"
       },
       "datasets": {
        "data-f61544e13012dd850557d6ef4fc29341": [
         {
          "id_comptag": "19-A20-229+500",
          "jour": "2019-09-01T00:00:00",
          "nb_veh": 15498,
          "sens": "sens1",
          "type_veh": "TV"
         },
         {
          "id_comptag": "19-A20-229+500",
          "jour": "2019-09-02T00:00:00",
          "nb_veh": 13710,
          "sens": "sens1",
          "type_veh": "TV"
         },
         {
          "id_comptag": "19-A20-229+500",
          "jour": "2019-09-03T00:00:00",
          "nb_veh": 12276,
          "sens": "sens1",
          "type_veh": "TV"
         },
         {
          "id_comptag": "19-A20-229+500",
          "jour": "2019-09-04T00:00:00",
          "nb_veh": 12035,
          "sens": "sens1",
          "type_veh": "TV"
         },
         {
          "id_comptag": "19-A20-229+500",
          "jour": "2019-09-05T00:00:00",
          "nb_veh": 13070,
          "sens": "sens1",
          "type_veh": "TV"
         },
         {
          "id_comptag": "19-A20-229+500",
          "jour": "2019-09-06T00:00:00",
          "nb_veh": 16392,
          "sens": "sens1",
          "type_veh": "TV"
         },
         {
          "id_comptag": "19-A20-229+500",
          "jour": "2019-09-07T00:00:00",
          "nb_veh": 14643,
          "sens": "sens1",
          "type_veh": "TV"
         },
         {
          "id_comptag": "19-A20-229+500",
          "jour": "2019-09-08T00:00:00",
          "nb_veh": 13198,
          "sens": "sens1",
          "type_veh": "TV"
         },
         {
          "id_comptag": "19-A20-229+500",
          "jour": "2019-09-09T00:00:00",
          "nb_veh": 12401,
          "sens": "sens1",
          "type_veh": "TV"
         },
         {
          "id_comptag": "19-A20-229+500",
          "jour": "2019-09-10T00:00:00",
          "nb_veh": 11748,
          "sens": "sens1",
          "type_veh": "TV"
         },
         {
          "id_comptag": "19-A20-229+500",
          "jour": "2019-09-11T00:00:00",
          "nb_veh": 11925,
          "sens": "sens1",
          "type_veh": "TV"
         },
         {
          "id_comptag": "19-A20-229+500",
          "jour": "2019-09-12T00:00:00",
          "nb_veh": 12364,
          "sens": "sens1",
          "type_veh": "TV"
         },
         {
          "id_comptag": "19-A20-229+500",
          "jour": "2019-09-13T00:00:00",
          "nb_veh": 16498,
          "sens": "sens1",
          "type_veh": "TV"
         },
         {
          "id_comptag": "19-A20-229+500",
          "jour": "2019-09-14T00:00:00",
          "nb_veh": 12547,
          "sens": "sens1",
          "type_veh": "TV"
         },
         {
          "id_comptag": "19-A20-229+500",
          "jour": "2019-09-15T00:00:00",
          "nb_veh": 12367,
          "sens": "sens1",
          "type_veh": "TV"
         },
         {
          "id_comptag": "19-A20-229+500",
          "jour": "2019-09-16T00:00:00",
          "nb_veh": 12510,
          "sens": "sens1",
          "type_veh": "TV"
         },
         {
          "id_comptag": "19-A20-229+500",
          "jour": "2019-09-17T00:00:00",
          "nb_veh": 11690,
          "sens": "sens1",
          "type_veh": "TV"
         },
         {
          "id_comptag": "19-A20-229+500",
          "jour": "2019-09-18T00:00:00",
          "nb_veh": 11692,
          "sens": "sens1",
          "type_veh": "TV"
         },
         {
          "id_comptag": "19-A20-229+500",
          "jour": "2019-09-19T00:00:00",
          "nb_veh": 12692,
          "sens": "sens1",
          "type_veh": "TV"
         },
         {
          "id_comptag": "19-A20-229+500",
          "jour": "2019-09-20T00:00:00",
          "nb_veh": 16183,
          "sens": "sens1",
          "type_veh": "TV"
         },
         {
          "id_comptag": "19-A20-229+500",
          "jour": "2019-09-21T00:00:00",
          "nb_veh": 11335,
          "sens": "sens1",
          "type_veh": "TV"
         },
         {
          "id_comptag": "19-A20-229+500",
          "jour": "2019-09-22T00:00:00",
          "nb_veh": 11202,
          "sens": "sens1",
          "type_veh": "TV"
         },
         {
          "id_comptag": "19-A20-229+500",
          "jour": "2019-09-23T00:00:00",
          "nb_veh": 12131,
          "sens": "sens1",
          "type_veh": "TV"
         },
         {
          "id_comptag": "19-A20-229+500",
          "jour": "2019-09-24T00:00:00",
          "nb_veh": 11088,
          "sens": "sens1",
          "type_veh": "TV"
         },
         {
          "id_comptag": "19-A20-229+500",
          "jour": "2019-09-25T00:00:00",
          "nb_veh": 11123,
          "sens": "sens1",
          "type_veh": "TV"
         },
         {
          "id_comptag": "19-A20-229+500",
          "jour": "2019-09-26T00:00:00",
          "nb_veh": 12435,
          "sens": "sens1",
          "type_veh": "TV"
         },
         {
          "id_comptag": "19-A20-229+500",
          "jour": "2019-09-27T00:00:00",
          "nb_veh": 16053,
          "sens": "sens1",
          "type_veh": "TV"
         },
         {
          "id_comptag": "19-A20-229+500",
          "jour": "2019-09-28T00:00:00",
          "nb_veh": 10731,
          "sens": "sens1",
          "type_veh": "TV"
         },
         {
          "id_comptag": "19-A20-229+500",
          "jour": "2019-09-29T00:00:00",
          "nb_veh": 11154,
          "sens": "sens1",
          "type_veh": "TV"
         },
         {
          "id_comptag": "19-A20-229+500",
          "jour": "2019-09-30T00:00:00",
          "nb_veh": 11323,
          "sens": "sens1",
          "type_veh": "TV"
         },
         {
          "id_comptag": "19-A20-229+500",
          "jour": "2019-09-01T00:00:00",
          "nb_veh": 18652,
          "sens": "sens2",
          "type_veh": "TV"
         },
         {
          "id_comptag": "19-A20-229+500",
          "jour": "2019-09-02T00:00:00",
          "nb_veh": 14276,
          "sens": "sens2",
          "type_veh": "TV"
         },
         {
          "id_comptag": "19-A20-229+500",
          "jour": "2019-09-03T00:00:00",
          "nb_veh": 12268,
          "sens": "sens2",
          "type_veh": "TV"
         },
         {
          "id_comptag": "19-A20-229+500",
          "jour": "2019-09-04T00:00:00",
          "nb_veh": 12023,
          "sens": "sens2",
          "type_veh": "TV"
         },
         {
          "id_comptag": "19-A20-229+500",
          "jour": "2019-09-05T00:00:00",
          "nb_veh": 13072,
          "sens": "sens2",
          "type_veh": "TV"
         },
         {
          "id_comptag": "19-A20-229+500",
          "jour": "2019-09-06T00:00:00",
          "nb_veh": 15656,
          "sens": "sens2",
          "type_veh": "TV"
         },
         {
          "id_comptag": "19-A20-229+500",
          "jour": "2019-09-07T00:00:00",
          "nb_veh": 11737,
          "sens": "sens2",
          "type_veh": "TV"
         },
         {
          "id_comptag": "19-A20-229+500",
          "jour": "2019-09-08T00:00:00",
          "nb_veh": 15391,
          "sens": "sens2",
          "type_veh": "TV"
         },
         {
          "id_comptag": "19-A20-229+500",
          "jour": "2019-09-09T00:00:00",
          "nb_veh": 13477,
          "sens": "sens2",
          "type_veh": "TV"
         },
         {
          "id_comptag": "19-A20-229+500",
          "jour": "2019-09-10T00:00:00",
          "nb_veh": 12111,
          "sens": "sens2",
          "type_veh": "TV"
         },
         {
          "id_comptag": "19-A20-229+500",
          "jour": "2019-09-11T00:00:00",
          "nb_veh": 12023,
          "sens": "sens2",
          "type_veh": "TV"
         },
         {
          "id_comptag": "19-A20-229+500",
          "jour": "2019-09-12T00:00:00",
          "nb_veh": 12436,
          "sens": "sens2",
          "type_veh": "TV"
         },
         {
          "id_comptag": "19-A20-229+500",
          "jour": "2019-09-13T00:00:00",
          "nb_veh": 15832,
          "sens": "sens2",
          "type_veh": "TV"
         },
         {
          "id_comptag": "19-A20-229+500",
          "jour": "2019-09-14T00:00:00",
          "nb_veh": 14646,
          "sens": "sens2",
          "type_veh": "TV"
         },
         {
          "id_comptag": "19-A20-229+500",
          "jour": "2019-09-15T00:00:00",
          "nb_veh": 16211,
          "sens": "sens2",
          "type_veh": "TV"
         },
         {
          "id_comptag": "19-A20-229+500",
          "jour": "2019-09-16T00:00:00",
          "nb_veh": 13784,
          "sens": "sens2",
          "type_veh": "TV"
         },
         {
          "id_comptag": "19-A20-229+500",
          "jour": "2019-09-17T00:00:00",
          "nb_veh": 11944,
          "sens": "sens2",
          "type_veh": "TV"
         },
         {
          "id_comptag": "19-A20-229+500",
          "jour": "2019-09-18T00:00:00",
          "nb_veh": 12052,
          "sens": "sens2",
          "type_veh": "TV"
         },
         {
          "id_comptag": "19-A20-229+500",
          "jour": "2019-09-19T00:00:00",
          "nb_veh": 12860,
          "sens": "sens2",
          "type_veh": "TV"
         },
         {
          "id_comptag": "19-A20-229+500",
          "jour": "2019-09-20T00:00:00",
          "nb_veh": 15602,
          "sens": "sens2",
          "type_veh": "TV"
         },
         {
          "id_comptag": "19-A20-229+500",
          "jour": "2019-09-21T00:00:00",
          "nb_veh": 13139,
          "sens": "sens2",
          "type_veh": "TV"
         },
         {
          "id_comptag": "19-A20-229+500",
          "jour": "2019-09-22T00:00:00",
          "nb_veh": 14939,
          "sens": "sens2",
          "type_veh": "TV"
         },
         {
          "id_comptag": "19-A20-229+500",
          "jour": "2019-09-23T00:00:00",
          "nb_veh": 13498,
          "sens": "sens2",
          "type_veh": "TV"
         },
         {
          "id_comptag": "19-A20-229+500",
          "jour": "2019-09-24T00:00:00",
          "nb_veh": 11666,
          "sens": "sens2",
          "type_veh": "TV"
         },
         {
          "id_comptag": "19-A20-229+500",
          "jour": "2019-09-25T00:00:00",
          "nb_veh": 11434,
          "sens": "sens2",
          "type_veh": "TV"
         },
         {
          "id_comptag": "19-A20-229+500",
          "jour": "2019-09-26T00:00:00",
          "nb_veh": 12260,
          "sens": "sens2",
          "type_veh": "TV"
         },
         {
          "id_comptag": "19-A20-229+500",
          "jour": "2019-09-27T00:00:00",
          "nb_veh": 15152,
          "sens": "sens2",
          "type_veh": "TV"
         },
         {
          "id_comptag": "19-A20-229+500",
          "jour": "2019-09-28T00:00:00",
          "nb_veh": 11366,
          "sens": "sens2",
          "type_veh": "TV"
         },
         {
          "id_comptag": "19-A20-229+500",
          "jour": "2019-09-29T00:00:00",
          "nb_veh": 14769,
          "sens": "sens2",
          "type_veh": "TV"
         },
         {
          "id_comptag": "19-A20-229+500",
          "jour": "2019-09-30T00:00:00",
          "nb_veh": 12955,
          "sens": "sens2",
          "type_veh": "TV"
         }
        ]
       },
       "encoding": {
        "color": {
         "field": "sens",
         "type": "nominal"
        },
        "x": {
         "field": "jour",
         "type": "temporal"
        },
        "y": {
         "field": "nb_veh",
         "type": "quantitative"
        }
       },
       "mark": "line"
      },
      "image/png": "[encoded data removed]",
      "text/plain": [
       "<VegaLite 3 object>\n",
       "\n",
       "If you see this message, it means the renderer has not been properly enabled\n",
       "for the frontend that you are using. For more information, see\n",
       "https://altair-viz.github.io/user_guide/troubleshooting.html\n"
      ]
     },
     "execution_count": 11,
     "metadata": {},
     "output_type": "execute_result"
    }
   ],
   "source": [
    "dh.graph2SensParJour(dicoCptok['19-A20-229+500'])"
   ]
  },
  {
   "cell_type": "markdown",
   "metadata": {},
   "source": [
    "# ***ANALYSE GENERALE OTV***"
   ]
  },
  {
   "cell_type": "code",
   "execution_count": 99,
   "metadata": {},
   "outputs": [
    {
     "data": {
      "text/html": [
       "\n",
       "<div id=\"altair-viz-174450ae27874d7b9553265289a20b8a\"></div>\n",
       "<script type=\"text/javascript\">\n",
       "  (function(spec, embedOpt){\n",
       "    let outputDiv = document.currentScript.previousElementSibling;\n",
       "    if (outputDiv.id !== \"altair-viz-174450ae27874d7b9553265289a20b8a\") {\n",
       "      outputDiv = document.getElementById(\"altair-viz-174450ae27874d7b9553265289a20b8a\");\n",
       "    }\n",
       "    const paths = {\n",
       "      \"vega\": \"https://cdn.jsdelivr.net/npm//vega@5?noext\",\n",
       "      \"vega-lib\": \"https://cdn.jsdelivr.net/npm//vega-lib?noext\",\n",
       "      \"vega-lite\": \"https://cdn.jsdelivr.net/npm//vega-lite@4.8.1?noext\",\n",
       "      \"vega-embed\": \"https://cdn.jsdelivr.net/npm//vega-embed@6?noext\",\n",
       "    };\n",
       "\n",
       "    function loadScript(lib) {\n",
       "      return new Promise(function(resolve, reject) {\n",
       "        var s = document.createElement('script');\n",
       "        s.src = paths[lib];\n",
       "        s.async = true;\n",
       "        s.onload = () => resolve(paths[lib]);\n",
       "        s.onerror = () => reject(`Error loading script: ${paths[lib]}`);\n",
       "        document.getElementsByTagName(\"head\")[0].appendChild(s);\n",
       "      });\n",
       "    }\n",
       "\n",
       "    function showError(err) {\n",
       "      outputDiv.innerHTML = `<div class=\"error\" style=\"color:red;\">${err}</div>`;\n",
       "      throw err;\n",
       "    }\n",
       "\n",
       "    function displayChart(vegaEmbed) {\n",
       "      vegaEmbed(outputDiv, spec, embedOpt)\n",
       "        .catch(err => showError(`Javascript Error: ${err.message}<br>This usually means there's a typo in your chart specification. See the javascript console for the full traceback.`));\n",
       "    }\n",
       "\n",
       "    if(typeof define === \"function\" && define.amd) {\n",
       "      requirejs.config({paths});\n",
       "      require([\"vega-embed\"], displayChart, err => showError(`Error loading script: ${err.message}`));\n",
       "    } else if (typeof vegaEmbed === \"function\") {\n",
       "      displayChart(vegaEmbed);\n",
       "    } else {\n",
       "      loadScript(\"vega\")\n",
       "        .then(() => loadScript(\"vega-lite\"))\n",
       "        .then(() => loadScript(\"vega-embed\"))\n",
       "        .catch(showError)\n",
       "        .then(() => displayChart(vegaEmbed));\n",
       "    }\n",
       "  })({\"config\": {\"view\": {\"continuousWidth\": 400, \"continuousHeight\": 300}}, \"hconcat\": [{\"layer\": [{\"data\": {\"name\": \"data-1d2bb0f6ecd10ba9213aef27682f9a44\"}, \"mark\": \"bar\", \"encoding\": {\"color\": {\"type\": \"nominal\", \"field\": \"txt_qualite\", \"scale\": {\"domain\": [\"bonne\", \"moyenne\", \"faible\"], \"range\": [\"green\", \"blue\", \"red\"]}}, \"x\": {\"type\": \"ordinal\", \"field\": \"annee\"}, \"y\": {\"type\": \"quantitative\", \"axis\": {\"title\": \"TMJA\"}, \"field\": \"valeur\"}}, \"title\": \"40-D934-24+160 : permanent\", \"width\": 500}, {\"data\": {\"name\": \"data-f39c1984ee12621826c4876bf68b34c4\"}, \"mark\": {\"type\": \"line\", \"color\": \"red\"}, \"encoding\": {\"x\": {\"type\": \"ordinal\", \"field\": \"annee\"}, \"y\": {\"type\": \"quantitative\", \"axis\": {\"title\": \"% PL\"}, \"field\": \"valeur\", \"scale\": {\"domain\": [0, 40.0]}}}, \"title\": \"40-D934-24+160 : permanent\", \"width\": 450}], \"resolve\": {\"scale\": {\"y\": \"independent\"}}}, {\"layer\": [{\"mark\": \"bar\", \"encoding\": {\"x\": {\"type\": \"ordinal\", \"field\": \"annee\"}, \"y\": {\"type\": \"quantitative\", \"axis\": {\"title\": \"TMJA\"}, \"field\": \"valeur\"}}, \"title\": \"40-D934-24+160 : permanent\", \"width\": 500}, {\"mark\": {\"type\": \"line\", \"color\": \"black\"}, \"encoding\": {\"x\": {\"type\": \"ordinal\", \"field\": \"annee\"}, \"y\": {\"type\": \"quantitative\", \"axis\": {\"title\": \"TMJA\"}, \"field\": \"valeur\"}}, \"title\": \"40-D934-24+160 : permanent\", \"transform\": [{\"on\": \"annee\", \"regression\": \"valeur\"}], \"width\": 500}], \"data\": {\"name\": \"data-1d2bb0f6ecd10ba9213aef27682f9a44\"}}], \"$schema\": \"https://vega.github.io/schema/vega-lite/v4.8.1.json\", \"datasets\": {\"data-1d2bb0f6ecd10ba9213aef27682f9a44\": [{\"id_comptag_uniq\": 40147, \"id_comptag\": \"40-D934-24+160\", \"annee\": \"2010\", \"type_poste\": \"permanent\", \"indicateur\": \"tmja\", \"valeur\": 6420.0, \"txt_qualite\": \"moyenne\"}, {\"id_comptag_uniq\": 40148, \"id_comptag\": \"40-D934-24+160\", \"annee\": \"2011\", \"type_poste\": \"permanent\", \"indicateur\": \"tmja\", \"valeur\": 4260.0, \"txt_qualite\": \"moyenne\"}, {\"id_comptag_uniq\": 40149, \"id_comptag\": \"40-D934-24+160\", \"annee\": \"2012\", \"type_poste\": \"permanent\", \"indicateur\": \"tmja\", \"valeur\": 3496.0, \"txt_qualite\": \"moyenne\"}, {\"id_comptag_uniq\": 40150, \"id_comptag\": \"40-D934-24+160\", \"annee\": \"2013\", \"type_poste\": \"permanent\", \"indicateur\": \"tmja\", \"valeur\": 3422.0, \"txt_qualite\": \"moyenne\"}, {\"id_comptag_uniq\": 40151, \"id_comptag\": \"40-D934-24+160\", \"annee\": \"2014\", \"type_poste\": \"permanent\", \"indicateur\": \"tmja\", \"valeur\": 3138.0, \"txt_qualite\": \"moyenne\"}, {\"id_comptag_uniq\": 40152, \"id_comptag\": \"40-D934-24+160\", \"annee\": \"2015\", \"type_poste\": \"permanent\", \"indicateur\": \"tmja\", \"valeur\": 3087.0, \"txt_qualite\": \"moyenne\"}, {\"id_comptag_uniq\": 40153, \"id_comptag\": \"40-D934-24+160\", \"annee\": \"2016\", \"type_poste\": \"permanent\", \"indicateur\": \"tmja\", \"valeur\": 3054.0, \"txt_qualite\": \"moyenne\"}, {\"id_comptag_uniq\": 40154, \"id_comptag\": \"40-D934-24+160\", \"annee\": \"2017\", \"type_poste\": \"permanent\", \"indicateur\": \"tmja\", \"valeur\": 3059.0, \"txt_qualite\": \"moyenne\"}, {\"id_comptag_uniq\": 40155, \"id_comptag\": \"40-D934-24+160\", \"annee\": \"2018\", \"type_poste\": \"permanent\", \"indicateur\": \"tmja\", \"valeur\": 2928.0, \"txt_qualite\": \"bonne\"}, {\"id_comptag_uniq\": 40156, \"id_comptag\": \"40-D934-24+160\", \"annee\": \"2019\", \"type_poste\": \"permanent\", \"indicateur\": \"tmja\", \"valeur\": 2917.0, \"txt_qualite\": \"bonne\"}], \"data-f39c1984ee12621826c4876bf68b34c4\": [{\"id_comptag_uniq\": 40147, \"id_comptag\": \"40-D934-24+160\", \"annee\": \"2010\", \"type_poste\": \"permanent\", \"indicateur\": \"pc_pl\", \"valeur\": 16.0, \"txt_qualite\": \"moyenne\"}, {\"id_comptag_uniq\": 40148, \"id_comptag\": \"40-D934-24+160\", \"annee\": \"2011\", \"type_poste\": \"permanent\", \"indicateur\": \"pc_pl\", \"valeur\": 20.0, \"txt_qualite\": \"moyenne\"}, {\"id_comptag_uniq\": 40149, \"id_comptag\": \"40-D934-24+160\", \"annee\": \"2012\", \"type_poste\": \"permanent\", \"indicateur\": \"pc_pl\", \"valeur\": 19.0, \"txt_qualite\": \"moyenne\"}, {\"id_comptag_uniq\": 40150, \"id_comptag\": \"40-D934-24+160\", \"annee\": \"2013\", \"type_poste\": \"permanent\", \"indicateur\": \"pc_pl\", \"valeur\": 18.0, \"txt_qualite\": \"moyenne\"}, {\"id_comptag_uniq\": 40151, \"id_comptag\": \"40-D934-24+160\", \"annee\": \"2014\", \"type_poste\": \"permanent\", \"indicateur\": \"pc_pl\", \"valeur\": 9.5, \"txt_qualite\": \"moyenne\"}, {\"id_comptag_uniq\": 40153, \"id_comptag\": \"40-D934-24+160\", \"annee\": \"2016\", \"type_poste\": \"permanent\", \"indicateur\": \"pc_pl\", \"valeur\": 9.9, \"txt_qualite\": \"moyenne\"}, {\"id_comptag_uniq\": 40154, \"id_comptag\": \"40-D934-24+160\", \"annee\": \"2017\", \"type_poste\": \"permanent\", \"indicateur\": \"pc_pl\", \"valeur\": 10.65, \"txt_qualite\": \"moyenne\"}, {\"id_comptag_uniq\": 40155, \"id_comptag\": \"40-D934-24+160\", \"annee\": \"2018\", \"type_poste\": \"permanent\", \"indicateur\": \"pc_pl\", \"valeur\": 10.6729545624673, \"txt_qualite\": \"bonne\"}, {\"id_comptag_uniq\": 40156, \"id_comptag\": \"40-D934-24+160\", \"annee\": \"2019\", \"type_poste\": \"permanent\", \"indicateur\": \"pc_pl\", \"valeur\": 10.9, \"txt_qualite\": \"bonne\"}]}}, {\"mode\": \"vega-lite\"});\n",
       "</script>"
      ],
      "text/plain": [
       "alt.HConcatChart(...)"
      ]
     },
     "execution_count": 99,
     "metadata": {},
     "output_type": "execute_result"
    }
   ],
   "source": [
    "#Pour info, obtenir un graph des trafic pour un point de comptage donnée\n",
    "cpt1=vi.IdComptage('40-D934-24+160', qualite=True)#16-D1000-11+194\n",
    "cpt1.graphTrafic()\n",
    "cpt1.regressionTmja()\n",
    "cpt1.chartTrafic|cpt1.chartRegressTmja"
   ]
  },
  {
   "cell_type": "markdown",
   "metadata": {},
   "source": [
    "> ## Analyse de la période de comptage"
   ]
  },
  {
   "cell_type": "code",
   "execution_count": 10,
   "metadata": {},
   "outputs": [],
   "source": [
    "otv=vi.Otv()\n",
    "chart, chart1, chart2=otv.graphQualiteComptages('periode_comptage')"
   ]
  },
  {
   "cell_type": "code",
   "execution_count": 11,
   "metadata": {},
   "outputs": [
    {
     "data": {
      "text/html": [
       "\n",
       "<div id=\"altair-viz-781bcc7b0b2844e695465b50a6d2ac21\"></div>\n",
       "<script type=\"text/javascript\">\n",
       "  (function(spec, embedOpt){\n",
       "    let outputDiv = document.currentScript.previousElementSibling;\n",
       "    if (outputDiv.id !== \"altair-viz-781bcc7b0b2844e695465b50a6d2ac21\") {\n",
       "      outputDiv = document.getElementById(\"altair-viz-781bcc7b0b2844e695465b50a6d2ac21\");\n",
       "    }\n",
       "    const paths = {\n",
       "      \"vega\": \"https://cdn.jsdelivr.net/npm//vega@5?noext\",\n",
       "      \"vega-lib\": \"https://cdn.jsdelivr.net/npm//vega-lib?noext\",\n",
       "      \"vega-lite\": \"https://cdn.jsdelivr.net/npm//vega-lite@4.8.1?noext\",\n",
       "      \"vega-embed\": \"https://cdn.jsdelivr.net/npm//vega-embed@6?noext\",\n",
       "    };\n",
       "\n",
       "    function loadScript(lib) {\n",
       "      return new Promise(function(resolve, reject) {\n",
       "        var s = document.createElement('script');\n",
       "        s.src = paths[lib];\n",
       "        s.async = true;\n",
       "        s.onload = () => resolve(paths[lib]);\n",
       "        s.onerror = () => reject(`Error loading script: ${paths[lib]}`);\n",
       "        document.getElementsByTagName(\"head\")[0].appendChild(s);\n",
       "      });\n",
       "    }\n",
       "\n",
       "    function showError(err) {\n",
       "      outputDiv.innerHTML = `<div class=\"error\" style=\"color:red;\">${err}</div>`;\n",
       "      throw err;\n",
       "    }\n",
       "\n",
       "    function displayChart(vegaEmbed) {\n",
       "      vegaEmbed(outputDiv, spec, embedOpt)\n",
       "        .catch(err => showError(`Javascript Error: ${err.message}<br>This usually means there's a typo in your chart specification. See the javascript console for the full traceback.`));\n",
       "    }\n",
       "\n",
       "    if(typeof define === \"function\" && define.amd) {\n",
       "      requirejs.config({paths});\n",
       "      require([\"vega-embed\"], displayChart, err => showError(`Error loading script: ${err.message}`));\n",
       "    } else if (typeof vegaEmbed === \"function\") {\n",
       "      displayChart(vegaEmbed);\n",
       "    } else {\n",
       "      loadScript(\"vega\")\n",
       "        .then(() => loadScript(\"vega-lite\"))\n",
       "        .then(() => loadScript(\"vega-embed\"))\n",
       "        .catch(showError)\n",
       "        .then(() => displayChart(vegaEmbed));\n",
       "    }\n",
       "  })({\"config\": {\"view\": {\"continuousWidth\": 400, \"continuousHeight\": 300}}, \"hconcat\": [{\"mark\": {\"type\": \"bar\", \"width\": 40}, \"encoding\": {\"color\": {\"type\": \"nominal\", \"field\": \"txt_qualite\", \"legend\": {\"title\": \"qualit\\u00e9\"}, \"sort\": [\"faible\", \"moyenne\", \"bonne\"]}, \"order\": {\"type\": \"quantitative\", \"field\": \"note_represent_typoste_periode\", \"sort\": \"ascending\"}, \"x\": {\"type\": \"nominal\", \"axis\": {\"labelAngle\": 315, \"title\": \"type de poste\"}, \"field\": \"type_poste\", \"sort\": [\"ponctuel\", \"tournant\", \"permanent\"]}, \"y\": {\"type\": \"quantitative\", \"axis\": {\"format\": \"%\", \"title\": \"Nb de comptage\"}, \"field\": \"id_comptag\", \"stack\": \"normalize\"}}, \"width\": 300}, {\"mark\": {\"type\": \"bar\", \"width\": 40}, \"encoding\": {\"color\": {\"type\": \"nominal\", \"field\": \"type_poste\", \"legend\": {\"title\": \"type de poste\"}, \"sort\": [\"ponctuel\", \"tournant\", \"permanent\"]}, \"order\": {\"type\": \"quantitative\", \"field\": \"note_represent_typoste_periode\", \"sort\": \"ascending\"}, \"x\": {\"type\": \"nominal\", \"axis\": {\"labelAngle\": 315, \"title\": \"qualit\\u00e9\"}, \"field\": \"txt_qualite\", \"sort\": [\"NC\", \"faible\", \"moyenne\", \"bonne\"]}, \"y\": {\"type\": \"quantitative\", \"axis\": {\"title\": \"Nb de comptage\"}, \"field\": \"id_comptag\"}}, \"width\": 300}], \"data\": {\"name\": \"data-fcc37181e074d9a1f0c63285333f9885\"}, \"resolve\": {\"legend\": {\"color\": \"independent\"}, \"scale\": {\"color\": \"independent\"}}, \"title\": {\"text\": [\"Repr\\u00e9sentativit\\u00e9 des comptages selon la ou les p\\u00e9riode(s)\", \"de mesure et le type de poste\"], \"anchor\": \"middle\"}, \"$schema\": \"https://vega.github.io/schema/vega-lite/v4.8.1.json\", \"datasets\": {\"data-fcc37181e074d9a1f0c63285333f9885\": [{\"txt_qualite\": \"bonne\", \"note_represent_typoste_periode\": 3, \"type_poste\": \"permanent\", \"id_comptag\": 8051}, {\"txt_qualite\": \"bonne\", \"note_represent_typoste_periode\": 3, \"type_poste\": \"ponctuel\", \"id_comptag\": 2751}, {\"txt_qualite\": \"bonne\", \"note_represent_typoste_periode\": 3, \"type_poste\": \"tournant\", \"id_comptag\": 154}, {\"txt_qualite\": \"faible\", \"note_represent_typoste_periode\": 1, \"type_poste\": \"ponctuel\", \"id_comptag\": 5108}, {\"txt_qualite\": \"faible\", \"note_represent_typoste_periode\": 1, \"type_poste\": \"tournant\", \"id_comptag\": 729}, {\"txt_qualite\": \"moyenne\", \"note_represent_typoste_periode\": 2, \"type_poste\": \"tournant\", \"id_comptag\": 9808}]}}, {\"mode\": \"vega-lite\"});\n",
       "</script>"
      ],
      "text/plain": [
       "alt.HConcatChart(...)"
      ]
     },
     "execution_count": 11,
     "metadata": {},
     "output_type": "execute_result"
    }
   ],
   "source": [
    "chart"
   ]
  },
  {
   "cell_type": "markdown",
   "metadata": {},
   "source": [
    "> ## Analyse de l'exhaustivite des données"
   ]
  },
  {
   "cell_type": "code",
   "execution_count": 143,
   "metadata": {},
   "outputs": [],
   "source": [
    "otv=vi.Otv()\n",
    "chart, chart1, chart2=otv.graphQualiteComptages('exhaust_comptage')"
   ]
  },
  {
   "cell_type": "code",
   "execution_count": 146,
   "metadata": {},
   "outputs": [
    {
     "data": {
      "text/html": [
       "\n",
       "<div id=\"altair-viz-8c31ee78519942eb9b6f7688e54afceb\"></div>\n",
       "<script type=\"text/javascript\">\n",
       "  (function(spec, embedOpt){\n",
       "    let outputDiv = document.currentScript.previousElementSibling;\n",
       "    if (outputDiv.id !== \"altair-viz-8c31ee78519942eb9b6f7688e54afceb\") {\n",
       "      outputDiv = document.getElementById(\"altair-viz-8c31ee78519942eb9b6f7688e54afceb\");\n",
       "    }\n",
       "    const paths = {\n",
       "      \"vega\": \"https://cdn.jsdelivr.net/npm//vega@5?noext\",\n",
       "      \"vega-lib\": \"https://cdn.jsdelivr.net/npm//vega-lib?noext\",\n",
       "      \"vega-lite\": \"https://cdn.jsdelivr.net/npm//vega-lite@4.8.1?noext\",\n",
       "      \"vega-embed\": \"https://cdn.jsdelivr.net/npm//vega-embed@6?noext\",\n",
       "    };\n",
       "\n",
       "    function loadScript(lib) {\n",
       "      return new Promise(function(resolve, reject) {\n",
       "        var s = document.createElement('script');\n",
       "        s.src = paths[lib];\n",
       "        s.async = true;\n",
       "        s.onload = () => resolve(paths[lib]);\n",
       "        s.onerror = () => reject(`Error loading script: ${paths[lib]}`);\n",
       "        document.getElementsByTagName(\"head\")[0].appendChild(s);\n",
       "      });\n",
       "    }\n",
       "\n",
       "    function showError(err) {\n",
       "      outputDiv.innerHTML = `<div class=\"error\" style=\"color:red;\">${err}</div>`;\n",
       "      throw err;\n",
       "    }\n",
       "\n",
       "    function displayChart(vegaEmbed) {\n",
       "      vegaEmbed(outputDiv, spec, embedOpt)\n",
       "        .catch(err => showError(`Javascript Error: ${err.message}<br>This usually means there's a typo in your chart specification. See the javascript console for the full traceback.`));\n",
       "    }\n",
       "\n",
       "    if(typeof define === \"function\" && define.amd) {\n",
       "      requirejs.config({paths});\n",
       "      require([\"vega-embed\"], displayChart, err => showError(`Error loading script: ${err.message}`));\n",
       "    } else if (typeof vegaEmbed === \"function\") {\n",
       "      displayChart(vegaEmbed);\n",
       "    } else {\n",
       "      loadScript(\"vega\")\n",
       "        .then(() => loadScript(\"vega-lite\"))\n",
       "        .then(() => loadScript(\"vega-embed\"))\n",
       "        .catch(showError)\n",
       "        .then(() => displayChart(vegaEmbed));\n",
       "    }\n",
       "  })({\"config\": {\"view\": {\"continuousWidth\": 400, \"continuousHeight\": 300}}, \"hconcat\": [{\"mark\": {\"type\": \"bar\", \"width\": 40}, \"encoding\": {\"color\": {\"type\": \"nominal\", \"field\": \"txt_qualite\", \"legend\": {\"title\": \"qualit\\u00e9\"}, \"sort\": [\"faible\", \"moyenne\", \"bonne\"]}, \"order\": {\"type\": \"quantitative\", \"field\": \"note_exhaust\", \"sort\": \"ascending\"}, \"x\": {\"type\": \"nominal\", \"axis\": {\"labelAngle\": 315, \"title\": \"type de poste\"}, \"field\": \"type_poste\", \"sort\": [\"ponctuel\", \"tournant\", \"permanent\"]}, \"y\": {\"type\": \"quantitative\", \"axis\": {\"format\": \"%\", \"title\": \"Nb de comptage\"}, \"field\": \"id_comptag\", \"stack\": \"normalize\"}}, \"title\": [\"R\\u00e9partition des comptages selon l'exhaustivit\\u00e9 globale\", \"et le type de poste\"], \"width\": 300}, {\"mark\": {\"type\": \"bar\", \"width\": 40}, \"encoding\": {\"color\": {\"type\": \"nominal\", \"field\": \"type_poste\", \"legend\": {\"title\": \"type de poste\"}, \"sort\": [\"ponctuel\", \"tournant\", \"permanent\"]}, \"order\": {\"type\": \"quantitative\", \"field\": \"note_exhaust\", \"sort\": \"ascending\"}, \"x\": {\"type\": \"nominal\", \"axis\": {\"labelAngle\": 315, \"title\": \"qualit\\u00e9\"}, \"field\": \"txt_qualite\", \"sort\": [\"NC\", \"faible\", \"moyenne\", \"bonne\"]}, \"y\": {\"type\": \"quantitative\", \"axis\": {\"title\": \"Nb de comptage\"}, \"field\": \"id_comptag\"}}, \"title\": [\"R\\u00e9partition des comptages selon l'exhaustivit\\u00e9 globale\", \"et le type de poste\"], \"width\": 300}], \"data\": {\"name\": \"data-881b7733019447f262df69058330b692\"}, \"resolve\": {\"legend\": {\"color\": \"independent\"}, \"scale\": {\"color\": \"independent\"}}, \"title\": {\"text\": [\"R\\u00e9partition des comptages selon l'exhaustivit\\u00e9 globale\", \"et le type de poste\"], \"anchor\": \"middle\"}, \"$schema\": \"https://vega.github.io/schema/vega-lite/v4.8.1.json\", \"datasets\": {\"data-881b7733019447f262df69058330b692\": [{\"txt_qualite\": \"bonne\", \"note_exhaust\": 3, \"type_poste\": \"permanent\", \"id_comptag\": 822}, {\"txt_qualite\": \"faible\", \"note_exhaust\": 1, \"type_poste\": \"permanent\", \"id_comptag\": 1709}, {\"txt_qualite\": \"faible\", \"note_exhaust\": 1, \"type_poste\": \"ponctuel\", \"id_comptag\": 3916}, {\"txt_qualite\": \"faible\", \"note_exhaust\": 1, \"type_poste\": \"tournant\", \"id_comptag\": 2523}, {\"txt_qualite\": \"moyenne\", \"note_exhaust\": 2, \"type_poste\": \"permanent\", \"id_comptag\": 5520}, {\"txt_qualite\": \"moyenne\", \"note_exhaust\": 2, \"type_poste\": \"ponctuel\", \"id_comptag\": 3943}, {\"txt_qualite\": \"moyenne\", \"note_exhaust\": 2, \"type_poste\": \"tournant\", \"id_comptag\": 8168}]}}, {\"mode\": \"vega-lite\"});\n",
       "</script>"
      ],
      "text/plain": [
       "alt.HConcatChart(...)"
      ]
     },
     "execution_count": 146,
     "metadata": {},
     "output_type": "execute_result"
    }
   ],
   "source": [
    "chart"
   ]
  },
  {
   "cell_type": "markdown",
   "metadata": {},
   "source": [
    "> ## Analyse de la cohérence des comptage par fonction affine"
   ]
  },
  {
   "cell_type": "code",
   "execution_count": 154,
   "metadata": {},
   "outputs": [],
   "source": [
    "otv=vi.Otv()\n",
    "chart, chart1, chart2=otv.graphQualiteComptages('coherence_affine_comptage')"
   ]
  },
  {
   "cell_type": "code",
   "execution_count": 155,
   "metadata": {},
   "outputs": [
    {
     "data": {
      "text/html": [
       "\n",
       "<div id=\"altair-viz-70b42840108e4b869bd6a626b807c3cc\"></div>\n",
       "<script type=\"text/javascript\">\n",
       "  (function(spec, embedOpt){\n",
       "    let outputDiv = document.currentScript.previousElementSibling;\n",
       "    if (outputDiv.id !== \"altair-viz-70b42840108e4b869bd6a626b807c3cc\") {\n",
       "      outputDiv = document.getElementById(\"altair-viz-70b42840108e4b869bd6a626b807c3cc\");\n",
       "    }\n",
       "    const paths = {\n",
       "      \"vega\": \"https://cdn.jsdelivr.net/npm//vega@5?noext\",\n",
       "      \"vega-lib\": \"https://cdn.jsdelivr.net/npm//vega-lib?noext\",\n",
       "      \"vega-lite\": \"https://cdn.jsdelivr.net/npm//vega-lite@4.8.1?noext\",\n",
       "      \"vega-embed\": \"https://cdn.jsdelivr.net/npm//vega-embed@6?noext\",\n",
       "    };\n",
       "\n",
       "    function loadScript(lib) {\n",
       "      return new Promise(function(resolve, reject) {\n",
       "        var s = document.createElement('script');\n",
       "        s.src = paths[lib];\n",
       "        s.async = true;\n",
       "        s.onload = () => resolve(paths[lib]);\n",
       "        s.onerror = () => reject(`Error loading script: ${paths[lib]}`);\n",
       "        document.getElementsByTagName(\"head\")[0].appendChild(s);\n",
       "      });\n",
       "    }\n",
       "\n",
       "    function showError(err) {\n",
       "      outputDiv.innerHTML = `<div class=\"error\" style=\"color:red;\">${err}</div>`;\n",
       "      throw err;\n",
       "    }\n",
       "\n",
       "    function displayChart(vegaEmbed) {\n",
       "      vegaEmbed(outputDiv, spec, embedOpt)\n",
       "        .catch(err => showError(`Javascript Error: ${err.message}<br>This usually means there's a typo in your chart specification. See the javascript console for the full traceback.`));\n",
       "    }\n",
       "\n",
       "    if(typeof define === \"function\" && define.amd) {\n",
       "      requirejs.config({paths});\n",
       "      require([\"vega-embed\"], displayChart, err => showError(`Error loading script: ${err.message}`));\n",
       "    } else if (typeof vegaEmbed === \"function\") {\n",
       "      displayChart(vegaEmbed);\n",
       "    } else {\n",
       "      loadScript(\"vega\")\n",
       "        .then(() => loadScript(\"vega-lite\"))\n",
       "        .then(() => loadScript(\"vega-embed\"))\n",
       "        .catch(showError)\n",
       "        .then(() => displayChart(vegaEmbed));\n",
       "    }\n",
       "  })({\"config\": {\"view\": {\"continuousWidth\": 400, \"continuousHeight\": 300}}, \"hconcat\": [{\"mark\": {\"type\": \"bar\", \"width\": 40}, \"encoding\": {\"color\": {\"type\": \"nominal\", \"field\": \"txt_qualite\", \"legend\": {\"title\": \"qualit\\u00e9\"}, \"sort\": [\"faible\", \"moyenne\", \"bonne\"]}, \"order\": {\"type\": \"quantitative\", \"field\": \"note_coherence_fonction_affine_cptage\", \"sort\": \"ascending\"}, \"x\": {\"type\": \"nominal\", \"axis\": {\"labelAngle\": 315, \"title\": \"type de poste\"}, \"field\": \"type_poste\", \"sort\": [\"ponctuel\", \"tournant\", \"permanent\"]}, \"y\": {\"type\": \"quantitative\", \"axis\": {\"format\": \"%\", \"title\": \"Nb de comptage\"}, \"field\": \"id_comptag\", \"stack\": \"normalize\"}}, \"width\": 300}, {\"mark\": {\"type\": \"bar\", \"width\": 40}, \"encoding\": {\"color\": {\"type\": \"nominal\", \"field\": \"type_poste\", \"legend\": {\"title\": \"type de poste\"}, \"sort\": [\"ponctuel\", \"tournant\", \"permanent\"]}, \"order\": {\"type\": \"quantitative\", \"field\": \"note_coherence_fonction_affine_cptage\", \"sort\": \"ascending\"}, \"x\": {\"type\": \"nominal\", \"axis\": {\"labelAngle\": 315, \"title\": \"qualit\\u00e9\"}, \"field\": \"txt_qualite\", \"sort\": [\"NC\", \"faible\", \"moyenne\", \"bonne\"]}, \"y\": {\"type\": \"quantitative\", \"axis\": {\"title\": \"Nb de comptage\"}, \"field\": \"id_comptag\"}}, \"width\": 300}], \"data\": {\"name\": \"data-8896a8bd07b82b7b065b79b4301bc7f1\"}, \"resolve\": {\"legend\": {\"color\": \"independent\"}, \"scale\": {\"color\": \"independent\"}}, \"title\": {\"text\": [\"Coh\\u00e9rence des comptages selon une fonction affine\", \"et le type de poste\"], \"anchor\": \"middle\"}, \"$schema\": \"https://vega.github.io/schema/vega-lite/v4.8.1.json\", \"datasets\": {\"data-8896a8bd07b82b7b065b79b4301bc7f1\": [{\"txt_qualite\": \"NC\", \"note_coherence_fonction_affine_cptage\": 0, \"type_poste\": \"permanent\", \"id_comptag\": 1477}, {\"txt_qualite\": \"NC\", \"note_coherence_fonction_affine_cptage\": 0, \"type_poste\": \"ponctuel\", \"id_comptag\": 6522}, {\"txt_qualite\": \"NC\", \"note_coherence_fonction_affine_cptage\": 0, \"type_poste\": \"tournant\", \"id_comptag\": 4090}, {\"txt_qualite\": \"bonne\", \"note_coherence_fonction_affine_cptage\": 3, \"type_poste\": \"permanent\", \"id_comptag\": 4608}, {\"txt_qualite\": \"bonne\", \"note_coherence_fonction_affine_cptage\": 3, \"type_poste\": \"ponctuel\", \"id_comptag\": 573}, {\"txt_qualite\": \"bonne\", \"note_coherence_fonction_affine_cptage\": 3, \"type_poste\": \"tournant\", \"id_comptag\": 2926}, {\"txt_qualite\": \"faible\", \"note_coherence_fonction_affine_cptage\": 1, \"type_poste\": \"permanent\", \"id_comptag\": 372}, {\"txt_qualite\": \"faible\", \"note_coherence_fonction_affine_cptage\": 1, \"type_poste\": \"ponctuel\", \"id_comptag\": 326}, {\"txt_qualite\": \"faible\", \"note_coherence_fonction_affine_cptage\": 1, \"type_poste\": \"tournant\", \"id_comptag\": 1501}, {\"txt_qualite\": \"moyenne\", \"note_coherence_fonction_affine_cptage\": 2, \"type_poste\": \"permanent\", \"id_comptag\": 1594}, {\"txt_qualite\": \"moyenne\", \"note_coherence_fonction_affine_cptage\": 2, \"type_poste\": \"ponctuel\", \"id_comptag\": 438}, {\"txt_qualite\": \"moyenne\", \"note_coherence_fonction_affine_cptage\": 2, \"type_poste\": \"tournant\", \"id_comptag\": 2174}]}}, {\"mode\": \"vega-lite\"});\n",
       "</script>"
      ],
      "text/plain": [
       "alt.HConcatChart(...)"
      ]
     },
     "execution_count": 155,
     "metadata": {},
     "output_type": "execute_result"
    }
   ],
   "source": [
    "chart"
   ]
  },
  {
   "cell_type": "markdown",
   "metadata": {},
   "source": [
    "> ## Analyse de la cohérence des comptage par comparaison evolution"
   ]
  },
  {
   "cell_type": "code",
   "execution_count": 156,
   "metadata": {},
   "outputs": [],
   "source": [
    "otv=vi.Otv()\n",
    "chart, chart1, chart2=otv.graphQualiteComptages('coherence_evol_comptage')"
   ]
  },
  {
   "cell_type": "code",
   "execution_count": 157,
   "metadata": {},
   "outputs": [
    {
     "data": {
      "text/html": [
       "\n",
       "<div id=\"altair-viz-8a668d5d86a24fd089e601f44eedf653\"></div>\n",
       "<script type=\"text/javascript\">\n",
       "  (function(spec, embedOpt){\n",
       "    let outputDiv = document.currentScript.previousElementSibling;\n",
       "    if (outputDiv.id !== \"altair-viz-8a668d5d86a24fd089e601f44eedf653\") {\n",
       "      outputDiv = document.getElementById(\"altair-viz-8a668d5d86a24fd089e601f44eedf653\");\n",
       "    }\n",
       "    const paths = {\n",
       "      \"vega\": \"https://cdn.jsdelivr.net/npm//vega@5?noext\",\n",
       "      \"vega-lib\": \"https://cdn.jsdelivr.net/npm//vega-lib?noext\",\n",
       "      \"vega-lite\": \"https://cdn.jsdelivr.net/npm//vega-lite@4.8.1?noext\",\n",
       "      \"vega-embed\": \"https://cdn.jsdelivr.net/npm//vega-embed@6?noext\",\n",
       "    };\n",
       "\n",
       "    function loadScript(lib) {\n",
       "      return new Promise(function(resolve, reject) {\n",
       "        var s = document.createElement('script');\n",
       "        s.src = paths[lib];\n",
       "        s.async = true;\n",
       "        s.onload = () => resolve(paths[lib]);\n",
       "        s.onerror = () => reject(`Error loading script: ${paths[lib]}`);\n",
       "        document.getElementsByTagName(\"head\")[0].appendChild(s);\n",
       "      });\n",
       "    }\n",
       "\n",
       "    function showError(err) {\n",
       "      outputDiv.innerHTML = `<div class=\"error\" style=\"color:red;\">${err}</div>`;\n",
       "      throw err;\n",
       "    }\n",
       "\n",
       "    function displayChart(vegaEmbed) {\n",
       "      vegaEmbed(outputDiv, spec, embedOpt)\n",
       "        .catch(err => showError(`Javascript Error: ${err.message}<br>This usually means there's a typo in your chart specification. See the javascript console for the full traceback.`));\n",
       "    }\n",
       "\n",
       "    if(typeof define === \"function\" && define.amd) {\n",
       "      requirejs.config({paths});\n",
       "      require([\"vega-embed\"], displayChart, err => showError(`Error loading script: ${err.message}`));\n",
       "    } else if (typeof vegaEmbed === \"function\") {\n",
       "      displayChart(vegaEmbed);\n",
       "    } else {\n",
       "      loadScript(\"vega\")\n",
       "        .then(() => loadScript(\"vega-lite\"))\n",
       "        .then(() => loadScript(\"vega-embed\"))\n",
       "        .catch(showError)\n",
       "        .then(() => displayChart(vegaEmbed));\n",
       "    }\n",
       "  })({\"config\": {\"view\": {\"continuousWidth\": 400, \"continuousHeight\": 300}}, \"hconcat\": [{\"mark\": {\"type\": \"bar\", \"width\": 40}, \"encoding\": {\"color\": {\"type\": \"nominal\", \"field\": \"txt_qualite\", \"legend\": {\"title\": \"qualit\\u00e9\"}, \"sort\": [\"faible\", \"moyenne\", \"bonne\"]}, \"order\": {\"type\": \"quantitative\", \"field\": \"note_coherence_evolutions_cptage\", \"sort\": \"ascending\"}, \"x\": {\"type\": \"nominal\", \"axis\": {\"labelAngle\": 315, \"title\": \"type de poste\"}, \"field\": \"type_poste\", \"sort\": [\"ponctuel\", \"tournant\", \"permanent\"]}, \"y\": {\"type\": \"quantitative\", \"axis\": {\"format\": \"%\", \"title\": \"Nb de comptage\"}, \"field\": \"id_comptag\", \"stack\": \"normalize\"}}, \"width\": 300}, {\"mark\": {\"type\": \"bar\", \"width\": 40}, \"encoding\": {\"color\": {\"type\": \"nominal\", \"field\": \"type_poste\", \"legend\": {\"title\": \"type de poste\"}, \"sort\": [\"ponctuel\", \"tournant\", \"permanent\"]}, \"order\": {\"type\": \"quantitative\", \"field\": \"note_coherence_evolutions_cptage\", \"sort\": \"ascending\"}, \"x\": {\"type\": \"nominal\", \"axis\": {\"labelAngle\": 315, \"title\": \"qualit\\u00e9\"}, \"field\": \"txt_qualite\", \"sort\": [\"NC\", \"faible\", \"moyenne\", \"bonne\"]}, \"y\": {\"type\": \"quantitative\", \"axis\": {\"title\": \"Nb de comptage\"}, \"field\": \"id_comptag\"}}, \"width\": 300}], \"data\": {\"name\": \"data-b8aeedadd76c12d8c60fd64a38f64739\"}, \"resolve\": {\"legend\": {\"color\": \"independent\"}, \"scale\": {\"color\": \"independent\"}}, \"title\": {\"text\": [\"Coh\\u00e9rence des comptages selon l'\\u00e9volution annuelle\", \"et le type de poste\"], \"anchor\": \"middle\"}, \"$schema\": \"https://vega.github.io/schema/vega-lite/v4.8.1.json\", \"datasets\": {\"data-b8aeedadd76c12d8c60fd64a38f64739\": [{\"txt_qualite\": \"NC\", \"note_coherence_evolutions_cptage\": 0, \"type_poste\": \"permanent\", \"id_comptag\": 2618}, {\"txt_qualite\": \"NC\", \"note_coherence_evolutions_cptage\": 0, \"type_poste\": \"ponctuel\", \"id_comptag\": 6910}, {\"txt_qualite\": \"NC\", \"note_coherence_evolutions_cptage\": 0, \"type_poste\": \"tournant\", \"id_comptag\": 5637}, {\"txt_qualite\": \"bonne\", \"note_coherence_evolutions_cptage\": 3, \"type_poste\": \"permanent\", \"id_comptag\": 3722}, {\"txt_qualite\": \"bonne\", \"note_coherence_evolutions_cptage\": 3, \"type_poste\": \"ponctuel\", \"id_comptag\": 474}, {\"txt_qualite\": \"bonne\", \"note_coherence_evolutions_cptage\": 3, \"type_poste\": \"tournant\", \"id_comptag\": 1975}, {\"txt_qualite\": \"faible\", \"note_coherence_evolutions_cptage\": 1, \"type_poste\": \"permanent\", \"id_comptag\": 480}, {\"txt_qualite\": \"faible\", \"note_coherence_evolutions_cptage\": 1, \"type_poste\": \"ponctuel\", \"id_comptag\": 177}, {\"txt_qualite\": \"faible\", \"note_coherence_evolutions_cptage\": 1, \"type_poste\": \"tournant\", \"id_comptag\": 1327}, {\"txt_qualite\": \"moyenne\", \"note_coherence_evolutions_cptage\": 2, \"type_poste\": \"permanent\", \"id_comptag\": 1231}, {\"txt_qualite\": \"moyenne\", \"note_coherence_evolutions_cptage\": 2, \"type_poste\": \"ponctuel\", \"id_comptag\": 298}, {\"txt_qualite\": \"moyenne\", \"note_coherence_evolutions_cptage\": 2, \"type_poste\": \"tournant\", \"id_comptag\": 1752}]}}, {\"mode\": \"vega-lite\"});\n",
       "</script>"
      ],
      "text/plain": [
       "alt.HConcatChart(...)"
      ]
     },
     "execution_count": 157,
     "metadata": {},
     "output_type": "execute_result"
    }
   ],
   "source": [
    "chart"
   ]
  },
  {
   "cell_type": "markdown",
   "metadata": {},
   "source": [
    "> ## Analyse de la cohérence des comptage par comparaison evolution & par fonction affine"
   ]
  },
  {
   "cell_type": "code",
   "execution_count": 168,
   "metadata": {},
   "outputs": [],
   "source": [
    "otv=vi.Otv()\n",
    "tableauCoherence=otv.tableauEcartCoherencesComptages()\n",
    "chart, chart1, chart2=otv.graphQualiteComptages('coherence_comptage')"
   ]
  },
  {
   "cell_type": "code",
   "execution_count": 170,
   "metadata": {},
   "outputs": [
    {
     "data": {
      "text/html": [
       "<div>\n",
       "<style scoped>\n",
       "    .dataframe tbody tr th:only-of-type {\n",
       "        vertical-align: middle;\n",
       "    }\n",
       "\n",
       "    .dataframe tbody tr th {\n",
       "        vertical-align: top;\n",
       "    }\n",
       "\n",
       "    .dataframe thead th {\n",
       "        text-align: right;\n",
       "    }\n",
       "</style>\n",
       "<table border=\"1\" class=\"dataframe\">\n",
       "  <thead>\n",
       "    <tr style=\"text-align: right;\">\n",
       "      <th>txt_evolution</th>\n",
       "      <th>NC</th>\n",
       "      <th>faible</th>\n",
       "      <th>moyenne</th>\n",
       "      <th>bonne</th>\n",
       "    </tr>\n",
       "    <tr>\n",
       "      <th>txt_fonction_affine</th>\n",
       "      <th></th>\n",
       "      <th></th>\n",
       "      <th></th>\n",
       "      <th></th>\n",
       "    </tr>\n",
       "  </thead>\n",
       "  <tbody>\n",
       "    <tr>\n",
       "      <th>NC</th>\n",
       "      <td>12089.0</td>\n",
       "      <td>0.0</td>\n",
       "      <td>0.0</td>\n",
       "      <td>0.0</td>\n",
       "    </tr>\n",
       "    <tr>\n",
       "      <th>faible</th>\n",
       "      <td>478.0</td>\n",
       "      <td>1077.0</td>\n",
       "      <td>427.0</td>\n",
       "      <td>217.0</td>\n",
       "    </tr>\n",
       "    <tr>\n",
       "      <th>moyenne</th>\n",
       "      <td>2598.0</td>\n",
       "      <td>500.0</td>\n",
       "      <td>696.0</td>\n",
       "      <td>412.0</td>\n",
       "    </tr>\n",
       "    <tr>\n",
       "      <th>bonne</th>\n",
       "      <td>0.0</td>\n",
       "      <td>407.0</td>\n",
       "      <td>2158.0</td>\n",
       "      <td>5542.0</td>\n",
       "    </tr>\n",
       "  </tbody>\n",
       "</table>\n",
       "</div>"
      ],
      "text/plain": [
       "txt_evolution             NC  faible  moyenne   bonne\n",
       "txt_fonction_affine                                  \n",
       "NC                   12089.0     0.0      0.0     0.0\n",
       "faible                 478.0  1077.0    427.0   217.0\n",
       "moyenne               2598.0   500.0    696.0   412.0\n",
       "bonne                    0.0   407.0   2158.0  5542.0"
      ]
     },
     "execution_count": 170,
     "metadata": {},
     "output_type": "execute_result"
    }
   ],
   "source": [
    "tableauCoherence"
   ]
  },
  {
   "cell_type": "code",
   "execution_count": 171,
   "metadata": {},
   "outputs": [],
   "source": [
    "chart"
   ]
  },
  {
   "cell_type": "markdown",
   "metadata": {},
   "source": [
    "> ## ***Qualite finale des comptages***"
   ]
  },
  {
   "cell_type": "code",
   "execution_count": 33,
   "metadata": {},
   "outputs": [],
   "source": [
    "otv=vi.Otv()\n",
    "chart, chart1, chart2=otv.graphQualiteComptages('qualite_comptage')"
   ]
  },
  {
   "cell_type": "code",
   "execution_count": 34,
   "metadata": {},
   "outputs": [
    {
     "data": {
      "text/html": [
       "\n",
       "<div id=\"altair-viz-7f89c387574c474b9d90bd1fbdb47fda\"></div>\n",
       "<script type=\"text/javascript\">\n",
       "  (function(spec, embedOpt){\n",
       "    let outputDiv = document.currentScript.previousElementSibling;\n",
       "    if (outputDiv.id !== \"altair-viz-7f89c387574c474b9d90bd1fbdb47fda\") {\n",
       "      outputDiv = document.getElementById(\"altair-viz-7f89c387574c474b9d90bd1fbdb47fda\");\n",
       "    }\n",
       "    const paths = {\n",
       "      \"vega\": \"https://cdn.jsdelivr.net/npm//vega@5?noext\",\n",
       "      \"vega-lib\": \"https://cdn.jsdelivr.net/npm//vega-lib?noext\",\n",
       "      \"vega-lite\": \"https://cdn.jsdelivr.net/npm//vega-lite@4.8.1?noext\",\n",
       "      \"vega-embed\": \"https://cdn.jsdelivr.net/npm//vega-embed@6?noext\",\n",
       "    };\n",
       "\n",
       "    function loadScript(lib) {\n",
       "      return new Promise(function(resolve, reject) {\n",
       "        var s = document.createElement('script');\n",
       "        s.src = paths[lib];\n",
       "        s.async = true;\n",
       "        s.onload = () => resolve(paths[lib]);\n",
       "        s.onerror = () => reject(`Error loading script: ${paths[lib]}`);\n",
       "        document.getElementsByTagName(\"head\")[0].appendChild(s);\n",
       "      });\n",
       "    }\n",
       "\n",
       "    function showError(err) {\n",
       "      outputDiv.innerHTML = `<div class=\"error\" style=\"color:red;\">${err}</div>`;\n",
       "      throw err;\n",
       "    }\n",
       "\n",
       "    function displayChart(vegaEmbed) {\n",
       "      vegaEmbed(outputDiv, spec, embedOpt)\n",
       "        .catch(err => showError(`Javascript Error: ${err.message}<br>This usually means there's a typo in your chart specification. See the javascript console for the full traceback.`));\n",
       "    }\n",
       "\n",
       "    if(typeof define === \"function\" && define.amd) {\n",
       "      requirejs.config({paths});\n",
       "      require([\"vega-embed\"], displayChart, err => showError(`Error loading script: ${err.message}`));\n",
       "    } else if (typeof vegaEmbed === \"function\") {\n",
       "      displayChart(vegaEmbed);\n",
       "    } else {\n",
       "      loadScript(\"vega\")\n",
       "        .then(() => loadScript(\"vega-lite\"))\n",
       "        .then(() => loadScript(\"vega-embed\"))\n",
       "        .catch(showError)\n",
       "        .then(() => displayChart(vegaEmbed));\n",
       "    }\n",
       "  })({\"config\": {\"view\": {\"continuousWidth\": 400, \"continuousHeight\": 300}}, \"hconcat\": [{\"mark\": {\"type\": \"bar\", \"width\": 40}, \"encoding\": {\"color\": {\"type\": \"nominal\", \"field\": \"txt_qualite\", \"legend\": {\"title\": \"qualit\\u00e9\"}, \"sort\": [\"faible\", \"moyenne\", \"bonne\"]}, \"order\": {\"type\": \"quantitative\", \"field\": \"note_comptag_final\", \"sort\": \"ascending\"}, \"x\": {\"type\": \"nominal\", \"axis\": {\"labelAngle\": 315, \"title\": \"type de poste\"}, \"field\": \"type_poste\", \"sort\": [\"ponctuel\", \"tournant\", \"permanent\"]}, \"y\": {\"type\": \"quantitative\", \"axis\": {\"format\": \"%\", \"title\": \"Nb de comptage\"}, \"field\": \"id_comptag\", \"stack\": \"normalize\"}}, \"width\": 300}, {\"mark\": {\"type\": \"bar\", \"width\": 40}, \"encoding\": {\"color\": {\"type\": \"nominal\", \"field\": \"type_poste\", \"legend\": {\"title\": \"type de poste\"}, \"sort\": [\"ponctuel\", \"tournant\", \"permanent\"]}, \"order\": {\"type\": \"quantitative\", \"field\": \"note_comptag_final\", \"sort\": \"ascending\"}, \"x\": {\"type\": \"nominal\", \"axis\": {\"labelAngle\": 315, \"title\": \"qualit\\u00e9\"}, \"field\": \"txt_qualite\", \"sort\": [\"NC\", \"faible\", \"moyenne\", \"bonne\"]}, \"y\": {\"type\": \"quantitative\", \"axis\": {\"title\": \"Nb de comptage\"}, \"field\": \"id_comptag\"}}, \"width\": 300}], \"data\": {\"name\": \"data-101ba3c47540af89f017e4cc4d0ebc4d\"}, \"resolve\": {\"legend\": {\"color\": \"independent\"}, \"scale\": {\"color\": \"independent\"}}, \"title\": {\"text\": [\"R\\u00e9partition des comptages selon la qualit\\u00e9 globale\", \"et le type de poste\"], \"anchor\": \"middle\"}, \"$schema\": \"https://vega.github.io/schema/vega-lite/v4.8.1.json\", \"datasets\": {\"data-101ba3c47540af89f017e4cc4d0ebc4d\": [{\"txt_qualite\": \"bonne\", \"note_comptag_final\": 3, \"type_poste\": \"permanent\", \"id_comptag\": 3910}, {\"txt_qualite\": \"bonne\", \"note_comptag_final\": 3, \"type_poste\": \"tournant\", \"id_comptag\": 44}, {\"txt_qualite\": \"faible\", \"note_comptag_final\": 1, \"type_poste\": \"permanent\", \"id_comptag\": 530}, {\"txt_qualite\": \"faible\", \"note_comptag_final\": 1, \"type_poste\": \"ponctuel\", \"id_comptag\": 5619}, {\"txt_qualite\": \"faible\", \"note_comptag_final\": 1, \"type_poste\": \"tournant\", \"id_comptag\": 1471}, {\"txt_qualite\": \"moyenne\", \"note_comptag_final\": 2, \"type_poste\": \"permanent\", \"id_comptag\": 3611}, {\"txt_qualite\": \"moyenne\", \"note_comptag_final\": 2, \"type_poste\": \"ponctuel\", \"id_comptag\": 2240}, {\"txt_qualite\": \"moyenne\", \"note_comptag_final\": 2, \"type_poste\": \"tournant\", \"id_comptag\": 9176}]}}, {\"mode\": \"vega-lite\"});\n",
       "</script>"
      ],
      "text/plain": [
       "alt.HConcatChart(...)"
      ]
     },
     "execution_count": 34,
     "metadata": {},
     "output_type": "execute_result"
    }
   ],
   "source": [
    "chart"
   ]
  },
  {
   "cell_type": "markdown",
   "metadata": {},
   "source": [
    "> ## ***Analyse du nombre d'année distincte de comptage en fonction du type de poste***"
   ]
  },
  {
   "cell_type": "code",
   "execution_count": 27,
   "metadata": {},
   "outputs": [],
   "source": [
    "otv=vi.Otv()\n",
    "chart, chart1, chart2=otv.graphQualiteComptages('densite_compteur')"
   ]
  },
  {
   "cell_type": "code",
   "execution_count": 28,
   "metadata": {},
   "outputs": [
    {
     "data": {
      "text/html": [
       "\n",
       "<div id=\"altair-viz-8629dc79cc0a4fe7b80891ed58e9f5e4\"></div>\n",
       "<script type=\"text/javascript\">\n",
       "  (function(spec, embedOpt){\n",
       "    let outputDiv = document.currentScript.previousElementSibling;\n",
       "    if (outputDiv.id !== \"altair-viz-8629dc79cc0a4fe7b80891ed58e9f5e4\") {\n",
       "      outputDiv = document.getElementById(\"altair-viz-8629dc79cc0a4fe7b80891ed58e9f5e4\");\n",
       "    }\n",
       "    const paths = {\n",
       "      \"vega\": \"https://cdn.jsdelivr.net/npm//vega@5?noext\",\n",
       "      \"vega-lib\": \"https://cdn.jsdelivr.net/npm//vega-lib?noext\",\n",
       "      \"vega-lite\": \"https://cdn.jsdelivr.net/npm//vega-lite@4.8.1?noext\",\n",
       "      \"vega-embed\": \"https://cdn.jsdelivr.net/npm//vega-embed@6?noext\",\n",
       "    };\n",
       "\n",
       "    function loadScript(lib) {\n",
       "      return new Promise(function(resolve, reject) {\n",
       "        var s = document.createElement('script');\n",
       "        s.src = paths[lib];\n",
       "        s.async = true;\n",
       "        s.onload = () => resolve(paths[lib]);\n",
       "        s.onerror = () => reject(`Error loading script: ${paths[lib]}`);\n",
       "        document.getElementsByTagName(\"head\")[0].appendChild(s);\n",
       "      });\n",
       "    }\n",
       "\n",
       "    function showError(err) {\n",
       "      outputDiv.innerHTML = `<div class=\"error\" style=\"color:red;\">${err}</div>`;\n",
       "      throw err;\n",
       "    }\n",
       "\n",
       "    function displayChart(vegaEmbed) {\n",
       "      vegaEmbed(outputDiv, spec, embedOpt)\n",
       "        .catch(err => showError(`Javascript Error: ${err.message}<br>This usually means there's a typo in your chart specification. See the javascript console for the full traceback.`));\n",
       "    }\n",
       "\n",
       "    if(typeof define === \"function\" && define.amd) {\n",
       "      requirejs.config({paths});\n",
       "      require([\"vega-embed\"], displayChart, err => showError(`Error loading script: ${err.message}`));\n",
       "    } else if (typeof vegaEmbed === \"function\") {\n",
       "      displayChart(vegaEmbed);\n",
       "    } else {\n",
       "      loadScript(\"vega\")\n",
       "        .then(() => loadScript(\"vega-lite\"))\n",
       "        .then(() => loadScript(\"vega-embed\"))\n",
       "        .catch(showError)\n",
       "        .then(() => displayChart(vegaEmbed));\n",
       "    }\n",
       "  })({\"config\": {\"view\": {\"continuousWidth\": 400, \"continuousHeight\": 300}}, \"hconcat\": [{\"mark\": {\"type\": \"bar\", \"width\": 40}, \"encoding\": {\"color\": {\"type\": \"nominal\", \"field\": \"txt_qualite\", \"legend\": {\"title\": \"qualit\\u00e9\"}, \"sort\": [\"faible\", \"moyenne\", \"bonne\"]}, \"order\": {\"type\": \"quantitative\", \"field\": \"note_densite_cptg_cpteur\", \"sort\": \"ascending\"}, \"x\": {\"type\": \"nominal\", \"axis\": {\"labelAngle\": 315, \"title\": \"type de poste\"}, \"field\": \"type_poste\", \"sort\": [\"ponctuel\", \"tournant\", \"permanent\"]}, \"y\": {\"type\": \"quantitative\", \"axis\": {\"format\": \"%\", \"title\": \"Nb de comptage\"}, \"field\": \"id_comptag\", \"stack\": \"normalize\"}}, \"width\": 300}, {\"mark\": {\"type\": \"bar\", \"width\": 40}, \"encoding\": {\"color\": {\"type\": \"nominal\", \"field\": \"type_poste\", \"legend\": {\"title\": \"type de poste\"}, \"sort\": [\"ponctuel\", \"tournant\", \"permanent\"]}, \"order\": {\"type\": \"quantitative\", \"field\": \"note_densite_cptg_cpteur\", \"sort\": \"ascending\"}, \"x\": {\"type\": \"nominal\", \"axis\": {\"labelAngle\": 315, \"title\": \"qualit\\u00e9\"}, \"field\": \"txt_qualite\", \"sort\": [\"NC\", \"faible\", \"moyenne\", \"bonne\"]}, \"y\": {\"type\": \"quantitative\", \"axis\": {\"title\": \"Nb de comptage\"}, \"field\": \"id_comptag\"}}, \"width\": 300}], \"data\": {\"name\": \"data-1787605aaf71da570514af1820f55c7a\"}, \"resolve\": {\"legend\": {\"color\": \"independent\"}, \"scale\": {\"color\": \"independent\"}}, \"title\": {\"text\": [\"Densit\\u00e9 de comptage en fonction\", \"du type de poste\"], \"anchor\": \"middle\"}, \"$schema\": \"https://vega.github.io/schema/vega-lite/v4.8.1.json\", \"datasets\": {\"data-1787605aaf71da570514af1820f55c7a\": [{\"txt_qualite\": \"bonne\", \"note_densite_cptg_cpteur\": 3, \"type_poste\": \"permanent\", \"id_comptag\": 645}, {\"txt_qualite\": \"bonne\", \"note_densite_cptg_cpteur\": 3, \"type_poste\": \"ponctuel\", \"id_comptag\": 118}, {\"txt_qualite\": \"bonne\", \"note_densite_cptg_cpteur\": 3, \"type_poste\": \"tournant\", \"id_comptag\": 717}, {\"txt_qualite\": \"faible\", \"note_densite_cptg_cpteur\": 1, \"type_poste\": \"permanent\", \"id_comptag\": 331}, {\"txt_qualite\": \"faible\", \"note_densite_cptg_cpteur\": 1, \"type_poste\": \"ponctuel\", \"id_comptag\": 5734}, {\"txt_qualite\": \"faible\", \"note_densite_cptg_cpteur\": 1, \"type_poste\": \"tournant\", \"id_comptag\": 2368}, {\"txt_qualite\": \"moyenne\", \"note_densite_cptg_cpteur\": 2, \"type_poste\": \"permanent\", \"id_comptag\": 436}, {\"txt_qualite\": \"moyenne\", \"note_densite_cptg_cpteur\": 2, \"type_poste\": \"ponctuel\", \"id_comptag\": 35}, {\"txt_qualite\": \"moyenne\", \"note_densite_cptg_cpteur\": 2, \"type_poste\": \"tournant\", \"id_comptag\": 299}]}}, {\"mode\": \"vega-lite\"});\n",
       "</script>"
      ],
      "text/plain": [
       "alt.HConcatChart(...)"
      ]
     },
     "execution_count": 28,
     "metadata": {},
     "output_type": "execute_result"
    }
   ],
   "source": [
    "chart"
   ]
  },
  {
   "cell_type": "markdown",
   "metadata": {},
   "source": [
    "> ## ***Analyse de la fiabilite de la goelocalisation d'un compteur***"
   ]
  },
  {
   "cell_type": "code",
   "execution_count": 18,
   "metadata": {},
   "outputs": [],
   "source": [
    "otv=vi.Otv()\n",
    "chart, chart1, chart2=otv.graphQualiteComptages('fiabilite_geo_compteur')"
   ]
  },
  {
   "cell_type": "code",
   "execution_count": 19,
   "metadata": {},
   "outputs": [
    {
     "data": {
      "text/html": [
       "\n",
       "<div id=\"altair-viz-6c59272fcffc441a8f79ed4b8a3bcce8\"></div>\n",
       "<script type=\"text/javascript\">\n",
       "  (function(spec, embedOpt){\n",
       "    let outputDiv = document.currentScript.previousElementSibling;\n",
       "    if (outputDiv.id !== \"altair-viz-6c59272fcffc441a8f79ed4b8a3bcce8\") {\n",
       "      outputDiv = document.getElementById(\"altair-viz-6c59272fcffc441a8f79ed4b8a3bcce8\");\n",
       "    }\n",
       "    const paths = {\n",
       "      \"vega\": \"https://cdn.jsdelivr.net/npm//vega@5?noext\",\n",
       "      \"vega-lib\": \"https://cdn.jsdelivr.net/npm//vega-lib?noext\",\n",
       "      \"vega-lite\": \"https://cdn.jsdelivr.net/npm//vega-lite@4.8.1?noext\",\n",
       "      \"vega-embed\": \"https://cdn.jsdelivr.net/npm//vega-embed@6?noext\",\n",
       "    };\n",
       "\n",
       "    function loadScript(lib) {\n",
       "      return new Promise(function(resolve, reject) {\n",
       "        var s = document.createElement('script');\n",
       "        s.src = paths[lib];\n",
       "        s.async = true;\n",
       "        s.onload = () => resolve(paths[lib]);\n",
       "        s.onerror = () => reject(`Error loading script: ${paths[lib]}`);\n",
       "        document.getElementsByTagName(\"head\")[0].appendChild(s);\n",
       "      });\n",
       "    }\n",
       "\n",
       "    function showError(err) {\n",
       "      outputDiv.innerHTML = `<div class=\"error\" style=\"color:red;\">${err}</div>`;\n",
       "      throw err;\n",
       "    }\n",
       "\n",
       "    function displayChart(vegaEmbed) {\n",
       "      vegaEmbed(outputDiv, spec, embedOpt)\n",
       "        .catch(err => showError(`Javascript Error: ${err.message}<br>This usually means there's a typo in your chart specification. See the javascript console for the full traceback.`));\n",
       "    }\n",
       "\n",
       "    if(typeof define === \"function\" && define.amd) {\n",
       "      requirejs.config({paths});\n",
       "      require([\"vega-embed\"], displayChart, err => showError(`Error loading script: ${err.message}`));\n",
       "    } else if (typeof vegaEmbed === \"function\") {\n",
       "      displayChart(vegaEmbed);\n",
       "    } else {\n",
       "      loadScript(\"vega\")\n",
       "        .then(() => loadScript(\"vega-lite\"))\n",
       "        .then(() => loadScript(\"vega-embed\"))\n",
       "        .catch(showError)\n",
       "        .then(() => displayChart(vegaEmbed));\n",
       "    }\n",
       "  })({\"config\": {\"view\": {\"continuousWidth\": 400, \"continuousHeight\": 300}}, \"hconcat\": [{\"mark\": {\"type\": \"bar\", \"width\": 40}, \"encoding\": {\"color\": {\"type\": \"nominal\", \"field\": \"txt_qualite\", \"legend\": {\"title\": \"qualit\\u00e9\"}, \"sort\": [\"faible\", \"moyenne\", \"bonne\"]}, \"order\": {\"type\": \"quantitative\", \"field\": \"note_src_geo\", \"sort\": \"ascending\"}, \"x\": {\"type\": \"nominal\", \"axis\": {\"labelAngle\": 315, \"title\": \"type de poste\"}, \"field\": \"type_poste\", \"sort\": [\"ponctuel\", \"tournant\", \"permanent\"]}, \"y\": {\"type\": \"quantitative\", \"axis\": {\"format\": \"%\", \"title\": \"Nb de comptage\"}, \"field\": \"id_comptag\", \"stack\": \"normalize\"}}, \"width\": 300}, {\"mark\": {\"type\": \"bar\", \"width\": 40}, \"encoding\": {\"color\": {\"type\": \"nominal\", \"field\": \"type_poste\", \"legend\": {\"title\": \"type de poste\"}, \"sort\": [\"ponctuel\", \"tournant\", \"permanent\"]}, \"order\": {\"type\": \"quantitative\", \"field\": \"note_src_geo\", \"sort\": \"ascending\"}, \"x\": {\"type\": \"nominal\", \"axis\": {\"labelAngle\": 315, \"title\": \"qualit\\u00e9\"}, \"field\": \"txt_qualite\", \"sort\": [\"NC\", \"faible\", \"moyenne\", \"bonne\"]}, \"y\": {\"type\": \"quantitative\", \"axis\": {\"title\": \"Nb de comptage\"}, \"field\": \"id_comptag\"}}, \"width\": 300}], \"data\": {\"name\": \"data-704eafb2a7af11f98e1706bb81d3180f\"}, \"resolve\": {\"legend\": {\"color\": \"independent\"}, \"scale\": {\"color\": \"independent\"}}, \"title\": {\"text\": [\"fiabilit\\u00e9 de la g\\u00e9olocalisation du compteur\", \"selon le type de poste\"], \"anchor\": \"middle\"}, \"$schema\": \"https://vega.github.io/schema/vega-lite/v4.8.1.json\", \"datasets\": {\"data-704eafb2a7af11f98e1706bb81d3180f\": [{\"txt_qualite\": \"NC\", \"note_src_geo\": 0, \"type_poste\": \"permanent\", \"id_comptag\": 1}, {\"txt_qualite\": \"NC\", \"note_src_geo\": 0, \"type_poste\": \"ponctuel\", \"id_comptag\": 98}, {\"txt_qualite\": \"NC\", \"note_src_geo\": 0, \"type_poste\": \"tournant\", \"id_comptag\": 5}, {\"txt_qualite\": \"bonne\", \"note_src_geo\": 3, \"type_poste\": \"permanent\", \"id_comptag\": 974}, {\"txt_qualite\": \"bonne\", \"note_src_geo\": 3, \"type_poste\": \"ponctuel\", \"id_comptag\": 4112}, {\"txt_qualite\": \"bonne\", \"note_src_geo\": 3, \"type_poste\": \"tournant\", \"id_comptag\": 3104}, {\"txt_qualite\": \"faible\", \"note_src_geo\": 1, \"type_poste\": \"permanent\", \"id_comptag\": 31}, {\"txt_qualite\": \"faible\", \"note_src_geo\": 1, \"type_poste\": \"ponctuel\", \"id_comptag\": 400}, {\"txt_qualite\": \"faible\", \"note_src_geo\": 1, \"type_poste\": \"tournant\", \"id_comptag\": 29}, {\"txt_qualite\": \"moyenne\", \"note_src_geo\": 2, \"type_poste\": \"permanent\", \"id_comptag\": 423}, {\"txt_qualite\": \"moyenne\", \"note_src_geo\": 2, \"type_poste\": \"ponctuel\", \"id_comptag\": 1282}, {\"txt_qualite\": \"moyenne\", \"note_src_geo\": 2, \"type_poste\": \"tournant\", \"id_comptag\": 248}]}}, {\"mode\": \"vega-lite\"});\n",
       "</script>"
      ],
      "text/plain": [
       "alt.HConcatChart(...)"
      ]
     },
     "execution_count": 19,
     "metadata": {},
     "output_type": "execute_result"
    }
   ],
   "source": [
    "chart"
   ]
  },
  {
   "cell_type": "markdown",
   "metadata": {},
   "source": [
    "> ## ***Cohérence de l'ensemble des comptages d'un compteur***\n",
    "cf [chap 2](#2) pour rappell"
   ]
  },
  {
   "cell_type": "code",
   "execution_count": 25,
   "metadata": {},
   "outputs": [],
   "source": [
    "otv=vi.Otv()\n",
    "chart, chart1, chart2=otv.graphQualiteComptages('coherence_compteur')"
   ]
  },
  {
   "cell_type": "code",
   "execution_count": 26,
   "metadata": {},
   "outputs": [
    {
     "data": {
      "text/html": [
       "\n",
       "<div id=\"altair-viz-bad65625a5c04323ae90078fd5b3b935\"></div>\n",
       "<script type=\"text/javascript\">\n",
       "  (function(spec, embedOpt){\n",
       "    let outputDiv = document.currentScript.previousElementSibling;\n",
       "    if (outputDiv.id !== \"altair-viz-bad65625a5c04323ae90078fd5b3b935\") {\n",
       "      outputDiv = document.getElementById(\"altair-viz-bad65625a5c04323ae90078fd5b3b935\");\n",
       "    }\n",
       "    const paths = {\n",
       "      \"vega\": \"https://cdn.jsdelivr.net/npm//vega@5?noext\",\n",
       "      \"vega-lib\": \"https://cdn.jsdelivr.net/npm//vega-lib?noext\",\n",
       "      \"vega-lite\": \"https://cdn.jsdelivr.net/npm//vega-lite@4.8.1?noext\",\n",
       "      \"vega-embed\": \"https://cdn.jsdelivr.net/npm//vega-embed@6?noext\",\n",
       "    };\n",
       "\n",
       "    function loadScript(lib) {\n",
       "      return new Promise(function(resolve, reject) {\n",
       "        var s = document.createElement('script');\n",
       "        s.src = paths[lib];\n",
       "        s.async = true;\n",
       "        s.onload = () => resolve(paths[lib]);\n",
       "        s.onerror = () => reject(`Error loading script: ${paths[lib]}`);\n",
       "        document.getElementsByTagName(\"head\")[0].appendChild(s);\n",
       "      });\n",
       "    }\n",
       "\n",
       "    function showError(err) {\n",
       "      outputDiv.innerHTML = `<div class=\"error\" style=\"color:red;\">${err}</div>`;\n",
       "      throw err;\n",
       "    }\n",
       "\n",
       "    function displayChart(vegaEmbed) {\n",
       "      vegaEmbed(outputDiv, spec, embedOpt)\n",
       "        .catch(err => showError(`Javascript Error: ${err.message}<br>This usually means there's a typo in your chart specification. See the javascript console for the full traceback.`));\n",
       "    }\n",
       "\n",
       "    if(typeof define === \"function\" && define.amd) {\n",
       "      requirejs.config({paths});\n",
       "      require([\"vega-embed\"], displayChart, err => showError(`Error loading script: ${err.message}`));\n",
       "    } else if (typeof vegaEmbed === \"function\") {\n",
       "      displayChart(vegaEmbed);\n",
       "    } else {\n",
       "      loadScript(\"vega\")\n",
       "        .then(() => loadScript(\"vega-lite\"))\n",
       "        .then(() => loadScript(\"vega-embed\"))\n",
       "        .catch(showError)\n",
       "        .then(() => displayChart(vegaEmbed));\n",
       "    }\n",
       "  })({\"config\": {\"view\": {\"continuousWidth\": 400, \"continuousHeight\": 300}}, \"hconcat\": [{\"mark\": {\"type\": \"bar\", \"width\": 40}, \"encoding\": {\"color\": {\"type\": \"nominal\", \"field\": \"txt_qualite\", \"legend\": {\"title\": \"qualit\\u00e9\"}, \"sort\": [\"faible\", \"moyenne\", \"bonne\"]}, \"order\": {\"type\": \"quantitative\", \"field\": \"note_coherence_cpteur\", \"sort\": \"ascending\"}, \"x\": {\"type\": \"nominal\", \"axis\": {\"labelAngle\": 315, \"title\": \"type de poste\"}, \"field\": \"type_poste\", \"sort\": [\"ponctuel\", \"tournant\", \"permanent\"]}, \"y\": {\"type\": \"quantitative\", \"axis\": {\"format\": \"%\", \"title\": \"Nb de comptage\"}, \"field\": \"id_comptag\", \"stack\": \"normalize\"}}, \"width\": 300}, {\"mark\": {\"type\": \"bar\", \"width\": 40}, \"encoding\": {\"color\": {\"type\": \"nominal\", \"field\": \"type_poste\", \"legend\": {\"title\": \"type de poste\"}, \"sort\": [\"ponctuel\", \"tournant\", \"permanent\"]}, \"order\": {\"type\": \"quantitative\", \"field\": \"note_coherence_cpteur\", \"sort\": \"ascending\"}, \"x\": {\"type\": \"nominal\", \"axis\": {\"labelAngle\": 315, \"title\": \"qualit\\u00e9\"}, \"field\": \"txt_qualite\", \"sort\": [\"NC\", \"faible\", \"moyenne\", \"bonne\"]}, \"y\": {\"type\": \"quantitative\", \"axis\": {\"title\": \"Nb de comptage\"}, \"field\": \"id_comptag\"}}, \"width\": 300}], \"data\": {\"name\": \"data-69ba0e891149080acc72924e846d8fb7\"}, \"resolve\": {\"legend\": {\"color\": \"independent\"}, \"scale\": {\"color\": \"independent\"}}, \"title\": {\"text\": [\"coh\\u00e9rence de l'ensemble des comptages du compteur\", \"selon le type de poste\"], \"anchor\": \"middle\"}, \"$schema\": \"https://vega.github.io/schema/vega-lite/v4.8.1.json\", \"datasets\": {\"data-69ba0e891149080acc72924e846d8fb7\": [{\"txt_qualite\": \"NC\", \"note_coherence_cpteur\": 0, \"type_poste\": \"permanent\", \"id_comptag\": 331}, {\"txt_qualite\": \"NC\", \"note_coherence_cpteur\": 0, \"type_poste\": \"ponctuel\", \"id_comptag\": 5734}, {\"txt_qualite\": \"NC\", \"note_coherence_cpteur\": 0, \"type_poste\": \"tournant\", \"id_comptag\": 2368}, {\"txt_qualite\": \"bonne\", \"note_coherence_cpteur\": 3, \"type_poste\": \"permanent\", \"id_comptag\": 978}, {\"txt_qualite\": \"bonne\", \"note_coherence_cpteur\": 3, \"type_poste\": \"ponctuel\", \"id_comptag\": 117}, {\"txt_qualite\": \"bonne\", \"note_coherence_cpteur\": 3, \"type_poste\": \"tournant\", \"id_comptag\": 672}, {\"txt_qualite\": \"faible\", \"note_coherence_cpteur\": 1, \"type_poste\": \"permanent\", \"id_comptag\": 8}, {\"txt_qualite\": \"faible\", \"note_coherence_cpteur\": 1, \"type_poste\": \"ponctuel\", \"id_comptag\": 6}, {\"txt_qualite\": \"faible\", \"note_coherence_cpteur\": 1, \"type_poste\": \"tournant\", \"id_comptag\": 51}, {\"txt_qualite\": \"moyenne\", \"note_coherence_cpteur\": 2, \"type_poste\": \"permanent\", \"id_comptag\": 95}, {\"txt_qualite\": \"moyenne\", \"note_coherence_cpteur\": 2, \"type_poste\": \"ponctuel\", \"id_comptag\": 30}, {\"txt_qualite\": \"moyenne\", \"note_coherence_cpteur\": 2, \"type_poste\": \"tournant\", \"id_comptag\": 293}]}}, {\"mode\": \"vega-lite\"});\n",
       "</script>"
      ],
      "text/plain": [
       "alt.HConcatChart(...)"
      ]
     },
     "execution_count": 26,
     "metadata": {},
     "output_type": "execute_result"
    }
   ],
   "source": [
    "chart"
   ]
  },
  {
   "cell_type": "markdown",
   "metadata": {},
   "source": [
    "> ## ***Qualité finale des compteurs***"
   ]
  },
  {
   "cell_type": "code",
   "execution_count": 31,
   "metadata": {},
   "outputs": [],
   "source": [
    "otv=vi.Otv()\n",
    "chart, chart1, chart2=otv.graphQualiteComptages('qualite_compteur')"
   ]
  },
  {
   "cell_type": "code",
   "execution_count": 32,
   "metadata": {},
   "outputs": [
    {
     "data": {
      "text/html": [
       "\n",
       "<div id=\"altair-viz-66435db7477c4b0a835e6d73f77b79fb\"></div>\n",
       "<script type=\"text/javascript\">\n",
       "  (function(spec, embedOpt){\n",
       "    let outputDiv = document.currentScript.previousElementSibling;\n",
       "    if (outputDiv.id !== \"altair-viz-66435db7477c4b0a835e6d73f77b79fb\") {\n",
       "      outputDiv = document.getElementById(\"altair-viz-66435db7477c4b0a835e6d73f77b79fb\");\n",
       "    }\n",
       "    const paths = {\n",
       "      \"vega\": \"https://cdn.jsdelivr.net/npm//vega@5?noext\",\n",
       "      \"vega-lib\": \"https://cdn.jsdelivr.net/npm//vega-lib?noext\",\n",
       "      \"vega-lite\": \"https://cdn.jsdelivr.net/npm//vega-lite@4.8.1?noext\",\n",
       "      \"vega-embed\": \"https://cdn.jsdelivr.net/npm//vega-embed@6?noext\",\n",
       "    };\n",
       "\n",
       "    function loadScript(lib) {\n",
       "      return new Promise(function(resolve, reject) {\n",
       "        var s = document.createElement('script');\n",
       "        s.src = paths[lib];\n",
       "        s.async = true;\n",
       "        s.onload = () => resolve(paths[lib]);\n",
       "        s.onerror = () => reject(`Error loading script: ${paths[lib]}`);\n",
       "        document.getElementsByTagName(\"head\")[0].appendChild(s);\n",
       "      });\n",
       "    }\n",
       "\n",
       "    function showError(err) {\n",
       "      outputDiv.innerHTML = `<div class=\"error\" style=\"color:red;\">${err}</div>`;\n",
       "      throw err;\n",
       "    }\n",
       "\n",
       "    function displayChart(vegaEmbed) {\n",
       "      vegaEmbed(outputDiv, spec, embedOpt)\n",
       "        .catch(err => showError(`Javascript Error: ${err.message}<br>This usually means there's a typo in your chart specification. See the javascript console for the full traceback.`));\n",
       "    }\n",
       "\n",
       "    if(typeof define === \"function\" && define.amd) {\n",
       "      requirejs.config({paths});\n",
       "      require([\"vega-embed\"], displayChart, err => showError(`Error loading script: ${err.message}`));\n",
       "    } else if (typeof vegaEmbed === \"function\") {\n",
       "      displayChart(vegaEmbed);\n",
       "    } else {\n",
       "      loadScript(\"vega\")\n",
       "        .then(() => loadScript(\"vega-lite\"))\n",
       "        .then(() => loadScript(\"vega-embed\"))\n",
       "        .catch(showError)\n",
       "        .then(() => displayChart(vegaEmbed));\n",
       "    }\n",
       "  })({\"config\": {\"view\": {\"continuousWidth\": 400, \"continuousHeight\": 300}}, \"hconcat\": [{\"mark\": {\"type\": \"bar\", \"width\": 40}, \"encoding\": {\"color\": {\"type\": \"nominal\", \"field\": \"txt_qualite\", \"legend\": {\"title\": \"qualit\\u00e9\"}, \"sort\": [\"faible\", \"moyenne\", \"bonne\"]}, \"order\": {\"type\": \"quantitative\", \"field\": \"note_qualite_cpteur\", \"sort\": \"ascending\"}, \"x\": {\"type\": \"nominal\", \"axis\": {\"labelAngle\": 315, \"title\": \"type de poste\"}, \"field\": \"type_poste\", \"sort\": [\"ponctuel\", \"tournant\", \"permanent\"]}, \"y\": {\"type\": \"quantitative\", \"axis\": {\"format\": \"%\", \"title\": \"Nb de comptage\"}, \"field\": \"id_comptag\", \"stack\": \"normalize\"}}, \"width\": 300}, {\"mark\": {\"type\": \"bar\", \"width\": 40}, \"encoding\": {\"color\": {\"type\": \"nominal\", \"field\": \"type_poste\", \"legend\": {\"title\": \"type de poste\"}, \"sort\": [\"ponctuel\", \"tournant\", \"permanent\"]}, \"order\": {\"type\": \"quantitative\", \"field\": \"note_qualite_cpteur\", \"sort\": \"ascending\"}, \"x\": {\"type\": \"nominal\", \"axis\": {\"labelAngle\": 315, \"title\": \"qualit\\u00e9\"}, \"field\": \"txt_qualite\", \"sort\": [\"NC\", \"faible\", \"moyenne\", \"bonne\"]}, \"y\": {\"type\": \"quantitative\", \"axis\": {\"title\": \"Nb de comptage\"}, \"field\": \"id_comptag\"}}, \"width\": 300}], \"data\": {\"name\": \"data-65734fca36308fc10cfecf8950373806\"}, \"resolve\": {\"legend\": {\"color\": \"independent\"}, \"scale\": {\"color\": \"independent\"}}, \"title\": {\"text\": [\"R\\u00e9partition des compteurs selon la qualit\\u00e9 globale\", \"et le type de poste\"], \"anchor\": \"middle\"}, \"$schema\": \"https://vega.github.io/schema/vega-lite/v4.8.1.json\", \"datasets\": {\"data-65734fca36308fc10cfecf8950373806\": [{\"txt_qualite\": \"NC\", \"note_qualite_cpteur\": 0, \"type_poste\": \"permanent\", \"id_comptag\": 18}, {\"txt_qualite\": \"NC\", \"note_qualite_cpteur\": 0, \"type_poste\": \"ponctuel\", \"id_comptag\": 103}, {\"txt_qualite\": \"NC\", \"note_qualite_cpteur\": 0, \"type_poste\": \"tournant\", \"id_comptag\": 7}, {\"txt_qualite\": \"bonne\", \"note_qualite_cpteur\": 3, \"type_poste\": \"permanent\", \"id_comptag\": 968}, {\"txt_qualite\": \"bonne\", \"note_qualite_cpteur\": 3, \"type_poste\": \"ponctuel\", \"id_comptag\": 141}, {\"txt_qualite\": \"bonne\", \"note_qualite_cpteur\": 3, \"type_poste\": \"tournant\", \"id_comptag\": 840}, {\"txt_qualite\": \"faible\", \"note_qualite_cpteur\": 1, \"type_poste\": \"permanent\", \"id_comptag\": 330}, {\"txt_qualite\": \"faible\", \"note_qualite_cpteur\": 1, \"type_poste\": \"ponctuel\", \"id_comptag\": 5637}, {\"txt_qualite\": \"faible\", \"note_qualite_cpteur\": 1, \"type_poste\": \"tournant\", \"id_comptag\": 2363}, {\"txt_qualite\": \"moyenne\", \"note_qualite_cpteur\": 2, \"type_poste\": \"permanent\", \"id_comptag\": 113}, {\"txt_qualite\": \"moyenne\", \"note_qualite_cpteur\": 2, \"type_poste\": \"ponctuel\", \"id_comptag\": 11}, {\"txt_qualite\": \"moyenne\", \"note_qualite_cpteur\": 2, \"type_poste\": \"tournant\", \"id_comptag\": 176}]}}, {\"mode\": \"vega-lite\"});\n",
       "</script>"
      ],
      "text/plain": [
       "alt.HConcatChart(...)"
      ]
     },
     "execution_count": 32,
     "metadata": {},
     "output_type": "execute_result"
    }
   ],
   "source": [
    "chart"
   ]
  },
  {
   "cell_type": "markdown",
   "metadata": {
    "tags": []
   },
   "source": [
    "# **Graphs Valorisation** \n",
    "> production de graphs test en juillet 2022"
   ]
  },
  {
   "cell_type": "markdown",
   "metadata": {
    "tags": []
   },
   "source": [
    "## **Graphs bruit**"
   ]
  },
  {
   "cell_type": "code",
   "execution_count": 1,
   "metadata": {},
   "outputs": [
    {
     "ename": "NameError",
     "evalue": "name 'ct' is not defined",
     "output_type": "error",
     "traceback": [
      "\u001b[1;31m---------------------------------------------------------------------------\u001b[0m",
      "\u001b[1;31mNameError\u001b[0m                                 Traceback (most recent call last)",
      "\u001b[1;32mC:\\Users\\MARTIN~1.SCH\\AppData\\Local\\Temp/ipykernel_20416/1580656281.py\u001b[0m in \u001b[0;36m<module>\u001b[1;34m\u001b[0m\n\u001b[0;32m      1\u001b[0m \u001b[1;31m# récupération des données depuis la basee de données de test\u001b[0m\u001b[1;33m\u001b[0m\u001b[1;33m\u001b[0m\u001b[1;33m\u001b[0m\u001b[0m\n\u001b[1;32m----> 2\u001b[1;33m \u001b[1;32mwith\u001b[0m \u001b[0mct\u001b[0m\u001b[1;33m.\u001b[0m\u001b[0mConnexionBdd\u001b[0m\u001b[1;33m(\u001b[0m\u001b[1;34m'test_valorisation'\u001b[0m\u001b[1;33m)\u001b[0m \u001b[1;32mas\u001b[0m \u001b[0mc\u001b[0m\u001b[1;33m:\u001b[0m\u001b[1;33m\u001b[0m\u001b[1;33m\u001b[0m\u001b[0m\n\u001b[0m\u001b[0;32m      3\u001b[0m     \u001b[0mdfGraphEmission\u001b[0m \u001b[1;33m=\u001b[0m \u001b[0mpd\u001b[0m\u001b[1;33m.\u001b[0m\u001b[0mread_sql\u001b[0m\u001b[1;33m(\u001b[0m\u001b[1;34m'select * from donnees_produites.resultats_source_graphiques'\u001b[0m\u001b[1;33m,\u001b[0m \u001b[0mc\u001b[0m\u001b[1;33m.\u001b[0m\u001b[0msqlAlchemyConn\u001b[0m\u001b[1;33m)\u001b[0m\u001b[1;33m\u001b[0m\u001b[1;33m\u001b[0m\u001b[0m\n\u001b[0;32m      4\u001b[0m \u001b[1;31m# définition des variables\u001b[0m\u001b[1;33m\u001b[0m\u001b[1;33m\u001b[0m\u001b[1;33m\u001b[0m\u001b[0m\n\u001b[0;32m      5\u001b[0m \u001b[0mid_comptag\u001b[0m \u001b[1;33m=\u001b[0m \u001b[1;34m'16-D10-40+170'\u001b[0m\u001b[1;33m\u001b[0m\u001b[1;33m\u001b[0m\u001b[0m\n",
      "\u001b[1;31mNameError\u001b[0m: name 'ct' is not defined"
     ]
    }
   ],
   "source": [
    "# récupération des données depuis la basee de données de test\n",
    "with ct.ConnexionBdd('test_valorisation') as c:\n",
    "    dfGraphEmission = pd.read_sql('select * from donnees_produites.resultats_source_graphiques', c.sqlAlchemyConn)\n",
    "# définition des variables\n",
    "id_comptag = '16-D10-40+170'\n",
    "annee = 2019\n",
    "titre = ['Emission de bruit pour le comptage', f'{id_comptag} ; annee {annee}']\n",
    "# création du graphique\n",
    "chart = alt.Chart(dfGraphEmission.loc[dfGraphEmission.id_comptag == id_comptag], title=titre).mark_line().encode(\n",
    "    x=alt.X('distance', title='distance (km)'),\n",
    "    y=alt.Y('emission_bruit_6_22', title='Niveau d\\'emission de bruit (dB(A))',\n",
    "            scale=alt.Scale(domainMin=dfGraphEmission.loc[dfGraphEmission.id_comptag == id_comptag].emission_bruit_6_22.min()-3,\n",
    "                            domainMax=dfGraphEmission.loc[dfGraphEmission.id_comptag == id_comptag].emission_bruit_6_22.max()+3)))"
   ]
  },
  {
   "cell_type": "code",
   "execution_count": 22,
   "metadata": {},
   "outputs": [
    {
     "data": {
      "text/html": [
       "\n",
       "<div id=\"altair-viz-4e0a9375aaa947bd855d4e9db73e85f8\"></div>\n",
       "<script type=\"text/javascript\">\n",
       "  var VEGA_DEBUG = (typeof VEGA_DEBUG == \"undefined\") ? {} : VEGA_DEBUG;\n",
       "  (function(spec, embedOpt){\n",
       "    let outputDiv = document.currentScript.previousElementSibling;\n",
       "    if (outputDiv.id !== \"altair-viz-4e0a9375aaa947bd855d4e9db73e85f8\") {\n",
       "      outputDiv = document.getElementById(\"altair-viz-4e0a9375aaa947bd855d4e9db73e85f8\");\n",
       "    }\n",
       "    const paths = {\n",
       "      \"vega\": \"https://cdn.jsdelivr.net/npm//vega@5?noext\",\n",
       "      \"vega-lib\": \"https://cdn.jsdelivr.net/npm//vega-lib?noext\",\n",
       "      \"vega-lite\": \"https://cdn.jsdelivr.net/npm//vega-lite@4.17.0?noext\",\n",
       "      \"vega-embed\": \"https://cdn.jsdelivr.net/npm//vega-embed@6?noext\",\n",
       "    };\n",
       "\n",
       "    function maybeLoadScript(lib, version) {\n",
       "      var key = `${lib.replace(\"-\", \"\")}_version`;\n",
       "      return (VEGA_DEBUG[key] == version) ?\n",
       "        Promise.resolve(paths[lib]) :\n",
       "        new Promise(function(resolve, reject) {\n",
       "          var s = document.createElement('script');\n",
       "          document.getElementsByTagName(\"head\")[0].appendChild(s);\n",
       "          s.async = true;\n",
       "          s.onload = () => {\n",
       "            VEGA_DEBUG[key] = version;\n",
       "            return resolve(paths[lib]);\n",
       "          };\n",
       "          s.onerror = () => reject(`Error loading script: ${paths[lib]}`);\n",
       "          s.src = paths[lib];\n",
       "        });\n",
       "    }\n",
       "\n",
       "    function showError(err) {\n",
       "      outputDiv.innerHTML = `<div class=\"error\" style=\"color:red;\">${err}</div>`;\n",
       "      throw err;\n",
       "    }\n",
       "\n",
       "    function displayChart(vegaEmbed) {\n",
       "      vegaEmbed(outputDiv, spec, embedOpt)\n",
       "        .catch(err => showError(`Javascript Error: ${err.message}<br>This usually means there's a typo in your chart specification. See the javascript console for the full traceback.`));\n",
       "    }\n",
       "\n",
       "    if(typeof define === \"function\" && define.amd) {\n",
       "      requirejs.config({paths});\n",
       "      require([\"vega-embed\"], displayChart, err => showError(`Error loading script: ${err.message}`));\n",
       "    } else {\n",
       "      maybeLoadScript(\"vega\", \"5\")\n",
       "        .then(() => maybeLoadScript(\"vega-lite\", \"4.17.0\"))\n",
       "        .then(() => maybeLoadScript(\"vega-embed\", \"6\"))\n",
       "        .catch(showError)\n",
       "        .then(() => displayChart(vegaEmbed));\n",
       "    }\n",
       "  })({\"config\": {\"view\": {\"continuousWidth\": 400, \"continuousHeight\": 300}}, \"data\": {\"name\": \"data-78894c46ee145f04e8bab4fdf0ccd40e\"}, \"mark\": \"line\", \"encoding\": {\"x\": {\"field\": \"distance\", \"title\": \"distance (km)\", \"type\": \"quantitative\"}, \"y\": {\"field\": \"emission_bruit_6_22\", \"scale\": {\"domainMax\": 75.61, \"domainMin\": 65.88}, \"title\": \"Niveau d'emission de bruit (dB(A))\", \"type\": \"quantitative\"}}, \"title\": [\"Emission de bruit pour le comptage\", \"16-D10-40+170 ; annee 2019\"], \"$schema\": \"https://vega.github.io/schema/vega-lite/v4.17.0.json\", \"datasets\": {\"data-78894c46ee145f04e8bab4fdf0ccd40e\": [{\"id\": 2920, \"id_comptag\": \"16-D10-40+170\", \"id_ign\": \"TRONROUT0000000316342203\", \"seq\": -1, \"distance\": 0.0, \"emission_bruit_6_22\": null}, {\"id\": 2921, \"id_comptag\": \"16-D10-40+170\", \"id_ign\": \"TRONROUT0000000316342203\", \"seq\": 1, \"distance\": 0.0, \"emission_bruit_6_22\": 68.88}, {\"id\": 2922, \"id_comptag\": \"16-D10-40+170\", \"id_ign\": \"TRONROUT0000000223484452\", \"seq\": 3, \"distance\": 0.0208050256912104, \"emission_bruit_6_22\": 68.88}, {\"id\": 2923, \"id_comptag\": \"16-D10-40+170\", \"id_ign\": \"TRONROUT0000000223484454\", \"seq\": -1, \"distance\": 0.0655755930579141, \"emission_bruit_6_22\": 68.88}, {\"id\": 2924, \"id_comptag\": \"16-D10-40+170\", \"id_ign\": \"TRONROUT0000000223484454\", \"seq\": 3, \"distance\": 0.0655755930579141, \"emission_bruit_6_22\": 72.61}, {\"id\": 2925, \"id_comptag\": \"16-D10-40+170\", \"id_ign\": \"TRONROUT0000000223484454\", \"seq\": 4, \"distance\": 0.0655755930579141, \"emission_bruit_6_22\": 72.61}, {\"id\": 2926, \"id_comptag\": \"16-D10-40+170\", \"id_ign\": \"TRONROUT0000000041491734\", \"seq\": -1, \"distance\": 0.380681856274276, \"emission_bruit_6_22\": 72.61}, {\"id\": 2927, \"id_comptag\": \"16-D10-40+170\", \"id_ign\": \"TRONROUT0000000041491734\", \"seq\": 4, \"distance\": 0.380681856274276, \"emission_bruit_6_22\": 68.88}, {\"id\": 2928, \"id_comptag\": \"16-D10-40+170\", \"id_ign\": \"TRONROUT0000000041492764\", \"seq\": 7, \"distance\": 0.990491509522354, \"emission_bruit_6_22\": 68.88}, {\"id\": 2929, \"id_comptag\": \"16-D10-40+170\", \"id_ign\": \"TRONROUT0000000041492768\", \"seq\": -1, \"distance\": 1.23972156071522, \"emission_bruit_6_22\": 68.88}, {\"id\": 2930, \"id_comptag\": \"16-D10-40+170\", \"id_ign\": \"TRONROUT0000000041492768\", \"seq\": 7, \"distance\": 1.23972156071522, \"emission_bruit_6_22\": 72.61}, {\"id\": 2931, \"id_comptag\": \"16-D10-40+170\", \"id_ign\": \"TRONROUT0000000041493658\", \"seq\": 10, \"distance\": 1.49413329055512, \"emission_bruit_6_22\": 72.61}, {\"id\": 2932, \"id_comptag\": \"16-D10-40+170\", \"id_ign\": \"TRONROUT0000000041493659\", \"seq\": -1, \"distance\": 1.79926272177653, \"emission_bruit_6_22\": 72.61}, {\"id\": 2933, \"id_comptag\": \"16-D10-40+170\", \"id_ign\": \"TRONROUT0000000041493659\", \"seq\": 10, \"distance\": 1.79926272177653, \"emission_bruit_6_22\": 68.88}, {\"id\": 2934, \"id_comptag\": \"16-D10-40+170\", \"id_ign\": \"TRONROUT0000000041493662\", \"seq\": 12, \"distance\": 1.90648442669116, \"emission_bruit_6_22\": 68.88}, {\"id\": 2935, \"id_comptag\": \"16-D10-40+170\", \"id_ign\": \"TRONROUT0000000041493661\", \"seq\": -1, \"distance\": 2.03510660073776, \"emission_bruit_6_22\": 68.88}, {\"id\": 2936, \"id_comptag\": \"16-D10-40+170\", \"id_ign\": \"TRONROUT0000000041493661\", \"seq\": 12, \"distance\": 2.03510660073776, \"emission_bruit_6_22\": 72.61}, {\"id\": 2937, \"id_comptag\": \"16-D10-40+170\", \"id_ign\": \"TRONROUT0000000041499475\", \"seq\": 49, \"distance\": 9.86381920494563, \"emission_bruit_6_22\": 72.61}, {\"id\": 2938, \"id_comptag\": \"16-D10-40+170\", \"id_ign\": \"TRONROUT0000000041499461\", \"seq\": -1, \"distance\": 9.92082336976181, \"emission_bruit_6_22\": 72.61}, {\"id\": 2939, \"id_comptag\": \"16-D10-40+170\", \"id_ign\": \"TRONROUT0000000041499461\", \"seq\": 49, \"distance\": 9.92082336976181, \"emission_bruit_6_22\": 68.88}, {\"id\": 2940, \"id_comptag\": \"16-D10-40+170\", \"id_ign\": \"TRONROUT0000000041499461\", \"seq\": 50, \"distance\": 9.92082336976181, \"emission_bruit_6_22\": 68.88}, {\"id\": 2941, \"id_comptag\": \"16-D10-40+170\", \"id_ign\": \"TRONROUT0000000041499460\", \"seq\": -1, \"distance\": 10.2908757416699, \"emission_bruit_6_22\": null}, {\"id\": 2942, \"id_comptag\": \"16-D10-40+170\", \"id_ign\": \"TRONROUT0000000041499460\", \"seq\": 51, \"distance\": 10.2908757416699, \"emission_bruit_6_22\": 68.88}, {\"id\": 2943, \"id_comptag\": \"16-D10-40+170\", \"id_ign\": \"TRONROUT0000002005189874\", \"seq\": 57, \"distance\": 10.523707507249, \"emission_bruit_6_22\": 68.88}, {\"id\": 2944, \"id_comptag\": \"16-D10-40+170\", \"id_ign\": \"TRONROUT0000000041499443\", \"seq\": -1, \"distance\": 10.5951920885062, \"emission_bruit_6_22\": null}, {\"id\": 2945, \"id_comptag\": \"16-D10-40+170\", \"id_ign\": \"TRONROUT0000000041499443\", \"seq\": 58, \"distance\": 10.5951920885062, \"emission_bruit_6_22\": 68.88}, {\"id\": 2946, \"id_comptag\": \"16-D10-40+170\", \"id_ign\": \"TRONROUT0000000041500425\", \"seq\": 61, \"distance\": 10.8240320425044, \"emission_bruit_6_22\": 68.88}, {\"id\": 2947, \"id_comptag\": \"16-D10-40+170\", \"id_ign\": \"TRONROUT0000000041500427\", \"seq\": -1, \"distance\": 10.9869003341061, \"emission_bruit_6_22\": 68.88}, {\"id\": 2948, \"id_comptag\": \"16-D10-40+170\", \"id_ign\": \"TRONROUT0000000041500427\", \"seq\": 61, \"distance\": 10.9869003341061, \"emission_bruit_6_22\": 72.61}, {\"id\": 2949, \"id_comptag\": \"16-D10-40+170\", \"id_ign\": \"TRONROUT0000000041501344\", \"seq\": 64, \"distance\": 11.466859484762, \"emission_bruit_6_22\": 72.61}, {\"id\": 2950, \"id_comptag\": \"16-D10-40+170\", \"id_ign\": \"TRONROUT0000000041501332\", \"seq\": -1, \"distance\": 12.4454402753229, \"emission_bruit_6_22\": 72.61}, {\"id\": 2951, \"id_comptag\": \"16-D10-40+170\", \"id_ign\": \"TRONROUT0000000041501332\", \"seq\": 64, \"distance\": 12.4454402753229, \"emission_bruit_6_22\": 68.88}, {\"id\": 2952, \"id_comptag\": \"16-D10-40+170\", \"id_ign\": \"TRONROUT0000000041501332\", \"seq\": 65, \"distance\": 12.4454402753229, \"emission_bruit_6_22\": 68.88}, {\"id\": 2953, \"id_comptag\": \"16-D10-40+170\", \"id_ign\": \"TRONROUT0000000041501339\", \"seq\": -1, \"distance\": 12.5533952104762, \"emission_bruit_6_22\": 68.88}, {\"id\": 2954, \"id_comptag\": \"16-D10-40+170\", \"id_ign\": \"TRONROUT0000000041501339\", \"seq\": 65, \"distance\": 12.5533952104762, \"emission_bruit_6_22\": 72.61}, {\"id\": 2955, \"id_comptag\": \"16-D10-40+170\", \"id_ign\": \"TRONROUT0000000041504719\", \"seq\": 101, \"distance\": 19.0792949161437, \"emission_bruit_6_22\": 72.61}, {\"id\": 2956, \"id_comptag\": \"16-D10-40+170\", \"id_ign\": \"TRONROUT0000000041504717\", \"seq\": -1, \"distance\": 19.087522917116, \"emission_bruit_6_22\": 72.61}, {\"id\": 2957, \"id_comptag\": \"16-D10-40+170\", \"id_ign\": \"TRONROUT0000000041504717\", \"seq\": 101, \"distance\": 19.087522917116, \"emission_bruit_6_22\": 68.88}, {\"id\": 2958, \"id_comptag\": \"16-D10-40+170\", \"id_ign\": \"TRONROUT0000000041505361\", \"seq\": 120, \"distance\": 20.3911880624008, \"emission_bruit_6_22\": 68.88}, {\"id\": 2959, \"id_comptag\": \"16-D10-40+170\", \"id_ign\": \"TRONROUT0000000041505362\", \"seq\": -1, \"distance\": 20.752881942717, \"emission_bruit_6_22\": 68.88}, {\"id\": 2960, \"id_comptag\": \"16-D10-40+170\", \"id_ign\": \"TRONROUT0000000041505362\", \"seq\": 120, \"distance\": 20.752881942717, \"emission_bruit_6_22\": 72.61}, {\"id\": 2961, \"id_comptag\": \"16-D10-40+170\", \"id_ign\": \"TRONROUT0000000041506587\", \"seq\": 133, \"distance\": 22.1543159043625, \"emission_bruit_6_22\": 72.61}, {\"id\": 2962, \"id_comptag\": \"16-D10-40+170\", \"id_ign\": \"TRONROUT0000000041507320\", \"seq\": -1, \"distance\": 22.1900953677463, \"emission_bruit_6_22\": 72.61}, {\"id\": 2963, \"id_comptag\": \"16-D10-40+170\", \"id_ign\": \"TRONROUT0000000041507320\", \"seq\": 133, \"distance\": 22.1900953677463, \"emission_bruit_6_22\": 68.88}, {\"id\": 2964, \"id_comptag\": \"16-D10-40+170\", \"id_ign\": \"TRONROUT0000000041507338\", \"seq\": 140, \"distance\": 23.1796934342555, \"emission_bruit_6_22\": 68.88}, {\"id\": 2965, \"id_comptag\": \"16-D10-40+170\", \"id_ign\": \"TRONROUT0000000316342170\", \"seq\": -1, \"distance\": 23.1924773669731, \"emission_bruit_6_22\": null}, {\"id\": 2966, \"id_comptag\": \"16-D10-40+170\", \"id_ign\": \"TRONROUT0000000316342170\", \"seq\": 141, \"distance\": 23.1924773669731, \"emission_bruit_6_22\": 68.88}, {\"id\": 2967, \"id_comptag\": \"16-D10-40+170\", \"id_ign\": \"TRONROUT0000000041507276\", \"seq\": 146, \"distance\": 23.4491472313937, \"emission_bruit_6_22\": 68.88}]}}, {\"mode\": \"vega-lite\"});\n",
       "</script>"
      ],
      "text/plain": [
       "alt.Chart(...)"
      ]
     },
     "execution_count": 22,
     "metadata": {},
     "output_type": "execute_result"
    }
   ],
   "source": [
    "chart"
   ]
  },
  {
   "cell_type": "markdown",
   "metadata": {
    "tags": []
   },
   "source": [
    "## **Graphs profil public**"
   ]
  },
  {
   "cell_type": "code",
   "execution_count": 139,
   "metadata": {},
   "outputs": [
    {
     "data": {
      "text/html": [
       "\n",
       "<div id=\"altair-viz-a836991b6ad8442f92ab08d71aa173e0\"></div>\n",
       "<script type=\"text/javascript\">\n",
       "  var VEGA_DEBUG = (typeof VEGA_DEBUG == \"undefined\") ? {} : VEGA_DEBUG;\n",
       "  (function(spec, embedOpt){\n",
       "    let outputDiv = document.currentScript.previousElementSibling;\n",
       "    if (outputDiv.id !== \"altair-viz-a836991b6ad8442f92ab08d71aa173e0\") {\n",
       "      outputDiv = document.getElementById(\"altair-viz-a836991b6ad8442f92ab08d71aa173e0\");\n",
       "    }\n",
       "    const paths = {\n",
       "      \"vega\": \"https://cdn.jsdelivr.net/npm//vega@5?noext\",\n",
       "      \"vega-lib\": \"https://cdn.jsdelivr.net/npm//vega-lib?noext\",\n",
       "      \"vega-lite\": \"https://cdn.jsdelivr.net/npm//vega-lite@4.17.0?noext\",\n",
       "      \"vega-embed\": \"https://cdn.jsdelivr.net/npm//vega-embed@6?noext\",\n",
       "    };\n",
       "\n",
       "    function maybeLoadScript(lib, version) {\n",
       "      var key = `${lib.replace(\"-\", \"\")}_version`;\n",
       "      return (VEGA_DEBUG[key] == version) ?\n",
       "        Promise.resolve(paths[lib]) :\n",
       "        new Promise(function(resolve, reject) {\n",
       "          var s = document.createElement('script');\n",
       "          document.getElementsByTagName(\"head\")[0].appendChild(s);\n",
       "          s.async = true;\n",
       "          s.onload = () => {\n",
       "            VEGA_DEBUG[key] = version;\n",
       "            return resolve(paths[lib]);\n",
       "          };\n",
       "          s.onerror = () => reject(`Error loading script: ${paths[lib]}`);\n",
       "          s.src = paths[lib];\n",
       "        });\n",
       "    }\n",
       "\n",
       "    function showError(err) {\n",
       "      outputDiv.innerHTML = `<div class=\"error\" style=\"color:red;\">${err}</div>`;\n",
       "      throw err;\n",
       "    }\n",
       "\n",
       "    function displayChart(vegaEmbed) {\n",
       "      vegaEmbed(outputDiv, spec, embedOpt)\n",
       "        .catch(err => showError(`Javascript Error: ${err.message}<br>This usually means there's a typo in your chart specification. See the javascript console for the full traceback.`));\n",
       "    }\n",
       "\n",
       "    if(typeof define === \"function\" && define.amd) {\n",
       "      requirejs.config({paths});\n",
       "      require([\"vega-embed\"], displayChart, err => showError(`Error loading script: ${err.message}`));\n",
       "    } else {\n",
       "      maybeLoadScript(\"vega\", \"5\")\n",
       "        .then(() => maybeLoadScript(\"vega-lite\", \"4.17.0\"))\n",
       "        .then(() => maybeLoadScript(\"vega-embed\", \"6\"))\n",
       "        .catch(showError)\n",
       "        .then(() => displayChart(vegaEmbed));\n",
       "    }\n",
       "  })({\"config\": {\"view\": {\"continuousWidth\": 400, \"continuousHeight\": 300}}, \"layer\": [{\"mark\": {\"type\": \"line\", \"point\": true}, \"encoding\": {\"x\": {\"field\": \"annee\", \"type\": \"ordinal\"}, \"y\": {\"field\": \"valeur\", \"title\": \"tmja\", \"type\": \"quantitative\"}}, \"title\": {\"text\": [\"compteur 16-D1000-11+194\"], \"fontSize\": 14}, \"transform\": [{\"filter\": \"(datum.indicateur === 'tmja')\"}]}, {\"mark\": {\"type\": \"line\", \"color\": \"green\", \"point\": true}, \"encoding\": {\"x\": {\"field\": \"annee\", \"type\": \"ordinal\"}, \"y\": {\"axis\": {\"labelColor\": \"green\", \"tickColor\": \"green\", \"title\": \"pc_pl\", \"titleColor\": \"green\"}, \"field\": \"valeur\", \"scale\": {\"domain\": [3.9000000000000004, 7.9]}, \"type\": \"quantitative\"}}, \"title\": {\"text\": [\"compteur 16-D1000-11+194\"], \"fontSize\": 14}, \"transform\": [{\"filter\": \"(datum.indicateur === 'pc_pl')\"}]}, {\"mark\": {\"type\": \"circle\", \"color\": \"green\"}, \"encoding\": {\"x\": {\"field\": \"annee\", \"type\": \"ordinal\"}, \"y\": {\"axis\": {\"labelColor\": \"green\", \"tickColor\": \"green\", \"title\": \"pc_pl\", \"titleColor\": \"green\"}, \"field\": \"valeur\", \"scale\": {\"domain\": [3.9000000000000004, 7.9]}, \"type\": \"quantitative\"}}, \"title\": {\"text\": [\"compteur 16-D1000-11+194\"], \"fontSize\": 14}, \"transform\": [{\"filter\": \"(datum.indicateur === 'pc_pl')\"}]}], \"data\": {\"name\": \"data-e897af01513e627eecf9292574acba08\"}, \"height\": 200, \"resolve\": {\"scale\": {\"y\": \"independent\"}}, \"width\": 300, \"$schema\": \"https://vega.github.io/schema/vega-lite/v4.17.0.json\", \"datasets\": {\"data-e897af01513e627eecf9292574acba08\": [{\"annee\": \"2010\", \"valeur\": 6.0, \"indicateur\": \"pc_pl\"}, {\"annee\": \"2010\", \"valeur\": 8369.0, \"indicateur\": \"tmja\"}, {\"annee\": \"2011\", \"valeur\": 6.23, \"indicateur\": \"pc_pl\"}, {\"annee\": \"2011\", \"valeur\": 9021.0, \"indicateur\": \"tmja\"}, {\"annee\": \"2012\", \"valeur\": 6.06, \"indicateur\": \"pc_pl\"}, {\"annee\": \"2012\", \"valeur\": 9738.0, \"indicateur\": \"tmja\"}, {\"annee\": \"2013\", \"valeur\": 5.93, \"indicateur\": \"pc_pl\"}, {\"annee\": \"2013\", \"valeur\": 10348.0, \"indicateur\": \"tmja\"}, {\"annee\": \"2014\", \"valeur\": 6.02, \"indicateur\": \"pc_pl\"}, {\"annee\": \"2014\", \"valeur\": 10667.0, \"indicateur\": \"tmja\"}, {\"annee\": \"2015\", \"valeur\": 6.11, \"indicateur\": \"pc_pl\"}, {\"annee\": \"2015\", \"valeur\": 11100.0, \"indicateur\": \"tmja\"}, {\"annee\": \"2016\", \"valeur\": 5.96, \"indicateur\": \"pc_pl\"}, {\"annee\": \"2016\", \"valeur\": 11595.0, \"indicateur\": \"tmja\"}, {\"annee\": \"2017\", \"valeur\": 6.12, \"indicateur\": \"pc_pl\"}, {\"annee\": \"2017\", \"valeur\": 11783.0, \"indicateur\": \"tmja\"}, {\"annee\": \"2018\", \"valeur\": 5.9, \"indicateur\": \"pc_pl\"}, {\"annee\": \"2018\", \"valeur\": 11868.0, \"indicateur\": \"tmja\"}, {\"annee\": \"2019\", \"valeur\": 6.14, \"indicateur\": \"pc_pl\"}, {\"annee\": \"2019\", \"valeur\": 12437.0, \"indicateur\": \"tmja\"}]}}, {\"mode\": \"vega-lite\"});\n",
       "</script>"
      ],
      "text/plain": [
       "alt.LayerChart(...)"
      ]
     },
     "execution_count": 139,
     "metadata": {},
     "output_type": "execute_result"
    }
   ],
   "source": [
    "# params\n",
    "largeur=300\n",
    "hauteur=200\n",
    "id_comptag = '16-D1000-11+194'\n",
    "indic = ['tmja', 'pc_pl']\n",
    "rqtAgrege = f\"\"\"\n",
    "      SELECT c.annee, ia.valeur, ia.indicateur FROM valorisation.comptage c JOIN valorisation.indic_agrege ia ON ia.id_comptag_uniq = c.id\n",
    "      WHERE ia.indicateur = any(ARRAY{indic}) AND c.id_comptag = '{id_comptag}'\n",
    "      \"\"\"\n",
    "id_comptag_trou = '79-D748-28+500'\n",
    "indicTrou = ['tmja']\n",
    "rqtAgregeTrou =  f\"\"\"\n",
    "      SELECT c.annee, ia.valeur, ia.indicateur FROM valorisation.comptage c JOIN valorisation.indic_agrege ia ON ia.id_comptag_uniq = c.id\n",
    "      WHERE ia.indicateur = any(ARRAY{indicTrou}) AND c.id_comptag = '{id_comptag_trou}'\n",
    "      \"\"\"\n",
    "# import donnees\n",
    "with ct.ConnexionBdd('local_otv_boulot') as c:\n",
    "    dfGraphAgrege = pd.read_sql(rqtAgrege, c.sqlAlchemyConn)\n",
    "    dfGraphAgregeTrou = pd.read_sql(rqtAgregeTrou, c.sqlAlchemyConn)\n",
    "    \n",
    "titreAgrege = alt.TitleParams([f'compteur {id_comptag}'], fontSize = 14)\n",
    "titreAgregeTrou = alt.TitleParams([f'compteur {id_comptag_trou}'], fontSize = 14)\n",
    "\n",
    "couleurY2 = 'green'\n",
    "yMinPcPl = dfGraphAgrege.loc[dfGraphAgrege.indicateur == 'pc_pl'].valeur.min() - 2\n",
    "yMaxPcPl = dfGraphAgrege.loc[dfGraphAgrege.indicateur == 'pc_pl'].valeur.min() + 2\n",
    "\n",
    "# creation Chart\n",
    "chartAgrege = (alt.Chart(dfGraphAgrege, title=titreAgrege).mark_line(point=True).encode(\n",
    "    x=alt.X('annee:O'),\n",
    "    y=alt.Y('valeur', title='tmja')).transform_filter(\n",
    "    (datum.indicateur == 'tmja')) + (alt.Chart(dfGraphAgrege, title=titreAgrege).mark_line(color=couleurY2, point=True).encode(\n",
    "        x='annee:O',\n",
    "        y=alt.Y('valeur',\n",
    "                scale=alt.Scale(domain=[yMinPcPl, yMaxPcPl]),\n",
    "                axis=alt.Axis(title = 'pc_pl', labelColor=couleurY2, titleColor=couleurY2, tickColor=couleurY2))).transform_filter(\n",
    "        (datum.indicateur == 'pc_pl'))) + \n",
    "                  (alt.Chart(dfGraphAgrege, title=titreAgrege).mark_circle(color=couleurY2).encode(\n",
    "                      x='annee:O',\n",
    "                      y=alt.Y('valeur',\n",
    "                              scale=alt.Scale(domain=[yMinPcPl, yMaxPcPl]),\n",
    "                              axis=alt.Axis(title = 'pc_pl', labelColor=couleurY2, titleColor=couleurY2, tickColor=couleurY2))).transform_filter(\n",
    "                      (datum.indicateur == 'pc_pl')))).resolve_scale(y='independent').properties(width=largeur, height=hauteur)\n",
    "chartAgrege"
   ]
  },
  {
   "cell_type": "code",
   "execution_count": 137,
   "metadata": {},
   "outputs": [
    {
     "data": {
      "text/html": [
       "\n",
       "<div id=\"altair-viz-6330c3e029aa4405bfd64b32f6168064\"></div>\n",
       "<script type=\"text/javascript\">\n",
       "  var VEGA_DEBUG = (typeof VEGA_DEBUG == \"undefined\") ? {} : VEGA_DEBUG;\n",
       "  (function(spec, embedOpt){\n",
       "    let outputDiv = document.currentScript.previousElementSibling;\n",
       "    if (outputDiv.id !== \"altair-viz-6330c3e029aa4405bfd64b32f6168064\") {\n",
       "      outputDiv = document.getElementById(\"altair-viz-6330c3e029aa4405bfd64b32f6168064\");\n",
       "    }\n",
       "    const paths = {\n",
       "      \"vega\": \"https://cdn.jsdelivr.net/npm//vega@5?noext\",\n",
       "      \"vega-lib\": \"https://cdn.jsdelivr.net/npm//vega-lib?noext\",\n",
       "      \"vega-lite\": \"https://cdn.jsdelivr.net/npm//vega-lite@4.17.0?noext\",\n",
       "      \"vega-embed\": \"https://cdn.jsdelivr.net/npm//vega-embed@6?noext\",\n",
       "    };\n",
       "\n",
       "    function maybeLoadScript(lib, version) {\n",
       "      var key = `${lib.replace(\"-\", \"\")}_version`;\n",
       "      return (VEGA_DEBUG[key] == version) ?\n",
       "        Promise.resolve(paths[lib]) :\n",
       "        new Promise(function(resolve, reject) {\n",
       "          var s = document.createElement('script');\n",
       "          document.getElementsByTagName(\"head\")[0].appendChild(s);\n",
       "          s.async = true;\n",
       "          s.onload = () => {\n",
       "            VEGA_DEBUG[key] = version;\n",
       "            return resolve(paths[lib]);\n",
       "          };\n",
       "          s.onerror = () => reject(`Error loading script: ${paths[lib]}`);\n",
       "          s.src = paths[lib];\n",
       "        });\n",
       "    }\n",
       "\n",
       "    function showError(err) {\n",
       "      outputDiv.innerHTML = `<div class=\"error\" style=\"color:red;\">${err}</div>`;\n",
       "      throw err;\n",
       "    }\n",
       "\n",
       "    function displayChart(vegaEmbed) {\n",
       "      vegaEmbed(outputDiv, spec, embedOpt)\n",
       "        .catch(err => showError(`Javascript Error: ${err.message}<br>This usually means there's a typo in your chart specification. See the javascript console for the full traceback.`));\n",
       "    }\n",
       "\n",
       "    if(typeof define === \"function\" && define.amd) {\n",
       "      requirejs.config({paths});\n",
       "      require([\"vega-embed\"], displayChart, err => showError(`Error loading script: ${err.message}`));\n",
       "    } else {\n",
       "      maybeLoadScript(\"vega\", \"5\")\n",
       "        .then(() => maybeLoadScript(\"vega-lite\", \"4.17.0\"))\n",
       "        .then(() => maybeLoadScript(\"vega-embed\", \"6\"))\n",
       "        .catch(showError)\n",
       "        .then(() => displayChart(vegaEmbed));\n",
       "    }\n",
       "  })({\"config\": {\"view\": {\"continuousWidth\": 400, \"continuousHeight\": 300}}, \"hconcat\": [{\"data\": {\"name\": \"data-bcfbd9f8032c780d169ec379feb72152\"}, \"mark\": \"bar\", \"encoding\": {\"x\": {\"field\": \"annee\", \"type\": \"ordinal\"}, \"y\": {\"field\": \"valeur\", \"title\": \"tmja\", \"type\": \"quantitative\"}}, \"height\": 200, \"title\": \"79-D748-28+500\", \"transform\": [{\"filter\": \"(datum.indicateur === 'tmja')\"}], \"width\": 300}, {\"data\": {\"name\": \"data-c123f9a488e3cb9e5f1726d9b5946c11\"}, \"mark\": \"bar\", \"encoding\": {\"x\": {\"axis\": {\"labelOffset\": 40}, \"field\": \"annee\", \"scale\": {\"domain\": [2012, 2013, 2014, 2015, 2016]}, \"timeUnit\": \"year\", \"title\": \"Annee\", \"type\": \"temporal\"}, \"y\": {\"field\": \"valeur\", \"title\": \"tmja\", \"type\": \"quantitative\"}}, \"height\": 200, \"title\": \"79-D748-28+500\", \"transform\": [{\"filter\": \"(datum.indicateur === 'tmja')\"}], \"width\": 300}], \"$schema\": \"https://vega.github.io/schema/vega-lite/v4.17.0.json\", \"datasets\": {\"data-bcfbd9f8032c780d169ec379feb72152\": [{\"annee\": \"2012\", \"valeur\": 3252.0, \"indicateur\": \"tmja\"}, {\"annee\": \"2014\", \"valeur\": 3873.0, \"indicateur\": \"tmja\"}, {\"annee\": \"2016\", \"valeur\": 4407.0, \"indicateur\": \"tmja\"}], \"data-c123f9a488e3cb9e5f1726d9b5946c11\": [{\"annee\": \"2012-01-01T00:00:00\", \"valeur\": 3252.0, \"indicateur\": \"tmja\"}, {\"annee\": \"2014-01-01T00:00:00\", \"valeur\": 3873.0, \"indicateur\": \"tmja\"}, {\"annee\": \"2016-01-01T00:00:00\", \"valeur\": 4407.0, \"indicateur\": \"tmja\"}]}}, {\"mode\": \"vega-lite\"});\n",
       "</script>"
      ],
      "text/plain": [
       "alt.HConcatChart(...)"
      ]
     },
     "execution_count": 137,
     "metadata": {},
     "output_type": "execute_result"
    }
   ],
   "source": [
    "# cas de données à trou\n",
    "dfIndicComplete = dfGraphAgregeTrou.copy()\n",
    "dfIndicComplete.annee = dfIndicComplete.annee.apply(lambda x: datetime.strptime(x, '%Y'))\n",
    "domainDate = [e for e in range(dfIndicComplete.annee.min().year, dfIndicComplete.annee.max().year + 1)]\n",
    "(alt.Chart(dfGraphAgregeTrou, title=id_comptag_trou).mark_bar().encode(\n",
    "    x=alt.X('annee:O'),\n",
    "    y=alt.Y('valeur', title='tmja')).transform_filter(\n",
    "    (datum.indicateur == 'tmja')).properties(width=largeur, height=hauteur) | \n",
    " alt.Chart(dfIndicComplete, title=id_comptag_trou).mark_bar().encode(\n",
    "    x=alt.X('year(annee):T', title='Annee', scale=alt.Scale(domain=domainDate), axis=alt.Axis(labelOffset=40)),\n",
    "    y=alt.Y('valeur', title='tmja')).transform_filter(\n",
    "    (datum.indicateur == 'tmja')).properties(width=largeur, height=hauteur))"
   ]
  },
  {
   "cell_type": "code",
   "execution_count": 142,
   "metadata": {},
   "outputs": [
    {
     "data": {
      "text/html": [
       "\n",
       "<div id=\"altair-viz-370fcd90685d4d47a7a9ff01bd6f660f\"></div>\n",
       "<script type=\"text/javascript\">\n",
       "  var VEGA_DEBUG = (typeof VEGA_DEBUG == \"undefined\") ? {} : VEGA_DEBUG;\n",
       "  (function(spec, embedOpt){\n",
       "    let outputDiv = document.currentScript.previousElementSibling;\n",
       "    if (outputDiv.id !== \"altair-viz-370fcd90685d4d47a7a9ff01bd6f660f\") {\n",
       "      outputDiv = document.getElementById(\"altair-viz-370fcd90685d4d47a7a9ff01bd6f660f\");\n",
       "    }\n",
       "    const paths = {\n",
       "      \"vega\": \"https://cdn.jsdelivr.net/npm//vega@5?noext\",\n",
       "      \"vega-lib\": \"https://cdn.jsdelivr.net/npm//vega-lib?noext\",\n",
       "      \"vega-lite\": \"https://cdn.jsdelivr.net/npm//vega-lite@4.17.0?noext\",\n",
       "      \"vega-embed\": \"https://cdn.jsdelivr.net/npm//vega-embed@6?noext\",\n",
       "    };\n",
       "\n",
       "    function maybeLoadScript(lib, version) {\n",
       "      var key = `${lib.replace(\"-\", \"\")}_version`;\n",
       "      return (VEGA_DEBUG[key] == version) ?\n",
       "        Promise.resolve(paths[lib]) :\n",
       "        new Promise(function(resolve, reject) {\n",
       "          var s = document.createElement('script');\n",
       "          document.getElementsByTagName(\"head\")[0].appendChild(s);\n",
       "          s.async = true;\n",
       "          s.onload = () => {\n",
       "            VEGA_DEBUG[key] = version;\n",
       "            return resolve(paths[lib]);\n",
       "          };\n",
       "          s.onerror = () => reject(`Error loading script: ${paths[lib]}`);\n",
       "          s.src = paths[lib];\n",
       "        });\n",
       "    }\n",
       "\n",
       "    function showError(err) {\n",
       "      outputDiv.innerHTML = `<div class=\"error\" style=\"color:red;\">${err}</div>`;\n",
       "      throw err;\n",
       "    }\n",
       "\n",
       "    function displayChart(vegaEmbed) {\n",
       "      vegaEmbed(outputDiv, spec, embedOpt)\n",
       "        .catch(err => showError(`Javascript Error: ${err.message}<br>This usually means there's a typo in your chart specification. See the javascript console for the full traceback.`));\n",
       "    }\n",
       "\n",
       "    if(typeof define === \"function\" && define.amd) {\n",
       "      requirejs.config({paths});\n",
       "      require([\"vega-embed\"], displayChart, err => showError(`Error loading script: ${err.message}`));\n",
       "    } else {\n",
       "      maybeLoadScript(\"vega\", \"5\")\n",
       "        .then(() => maybeLoadScript(\"vega-lite\", \"4.17.0\"))\n",
       "        .then(() => maybeLoadScript(\"vega-embed\", \"6\"))\n",
       "        .catch(showError)\n",
       "        .then(() => displayChart(vegaEmbed));\n",
       "    }\n",
       "  })({\"config\": {\"view\": {\"continuousWidth\": 400, \"continuousHeight\": 300}}, \"data\": {\"name\": \"data-e897af01513e627eecf9292574acba08\"}, \"mark\": \"bar\", \"encoding\": {\"x\": {\"field\": \"annee\", \"type\": \"ordinal\"}, \"y\": {\"field\": \"valeur\", \"title\": \"tmja\", \"type\": \"quantitative\"}}, \"height\": 200, \"title\": {\"text\": [\"compteur 16-D1000-11+194\"], \"fontSize\": 14}, \"transform\": [{\"filter\": \"(datum.indicateur === 'tmja')\"}], \"width\": 300, \"$schema\": \"https://vega.github.io/schema/vega-lite/v4.17.0.json\", \"datasets\": {\"data-e897af01513e627eecf9292574acba08\": [{\"annee\": \"2010\", \"valeur\": 6.0, \"indicateur\": \"pc_pl\"}, {\"annee\": \"2010\", \"valeur\": 8369.0, \"indicateur\": \"tmja\"}, {\"annee\": \"2011\", \"valeur\": 6.23, \"indicateur\": \"pc_pl\"}, {\"annee\": \"2011\", \"valeur\": 9021.0, \"indicateur\": \"tmja\"}, {\"annee\": \"2012\", \"valeur\": 6.06, \"indicateur\": \"pc_pl\"}, {\"annee\": \"2012\", \"valeur\": 9738.0, \"indicateur\": \"tmja\"}, {\"annee\": \"2013\", \"valeur\": 5.93, \"indicateur\": \"pc_pl\"}, {\"annee\": \"2013\", \"valeur\": 10348.0, \"indicateur\": \"tmja\"}, {\"annee\": \"2014\", \"valeur\": 6.02, \"indicateur\": \"pc_pl\"}, {\"annee\": \"2014\", \"valeur\": 10667.0, \"indicateur\": \"tmja\"}, {\"annee\": \"2015\", \"valeur\": 6.11, \"indicateur\": \"pc_pl\"}, {\"annee\": \"2015\", \"valeur\": 11100.0, \"indicateur\": \"tmja\"}, {\"annee\": \"2016\", \"valeur\": 5.96, \"indicateur\": \"pc_pl\"}, {\"annee\": \"2016\", \"valeur\": 11595.0, \"indicateur\": \"tmja\"}, {\"annee\": \"2017\", \"valeur\": 6.12, \"indicateur\": \"pc_pl\"}, {\"annee\": \"2017\", \"valeur\": 11783.0, \"indicateur\": \"tmja\"}, {\"annee\": \"2018\", \"valeur\": 5.9, \"indicateur\": \"pc_pl\"}, {\"annee\": \"2018\", \"valeur\": 11868.0, \"indicateur\": \"tmja\"}, {\"annee\": \"2019\", \"valeur\": 6.14, \"indicateur\": \"pc_pl\"}, {\"annee\": \"2019\", \"valeur\": 12437.0, \"indicateur\": \"tmja\"}]}}, {\"mode\": \"vega-lite\"});\n",
       "</script>"
      ],
      "text/plain": [
       "alt.Chart(...)"
      ]
     },
     "execution_count": 142,
     "metadata": {},
     "output_type": "execute_result"
    }
   ],
   "source": [
    "# cas simple avec 1 seul indic\n",
    "alt.Chart(dfGraphAgrege, title=titreAgrege).mark_bar().encode(\n",
    "    x=alt.X('annee:O'),\n",
    "    y=alt.Y('valeur', title='tmja')).transform_filter(\n",
    "    (datum.indicateur == 'tmja')).properties(width=largeur, height=hauteur)"
   ]
  },
  {
   "cell_type": "code",
   "execution_count": 49,
   "metadata": {},
   "outputs": [],
   "source": [
    "# export donnees source\n",
    "dfGraphAgrege.to_json(r'C:\\Users\\martin.schoreisz\\Box\\Cerema\\3C-Prod_Mob\\C4-ITS_Trafics_Regulation-Productions\\C41-Connaissance_trafics_routiers\\2022-QAE-Evol_OTR\\4-Travaux_en_cours\\Expression_Besoin\\Projet_Valorisation\\exemples_graphs\\chartAgrege_data.json')"
   ]
  },
  {
   "cell_type": "markdown",
   "metadata": {
    "tags": []
   },
   "source": [
    "## **Graphs mensuels profil gestionnaire**"
   ]
  },
  {
   "cell_type": "code",
   "execution_count": 143,
   "metadata": {},
   "outputs": [
    {
     "data": {
      "text/html": [
       "\n",
       "<div id=\"altair-viz-36d3d614f05e4132a1fcaaac0f1a9932\"></div>\n",
       "<script type=\"text/javascript\">\n",
       "  var VEGA_DEBUG = (typeof VEGA_DEBUG == \"undefined\") ? {} : VEGA_DEBUG;\n",
       "  (function(spec, embedOpt){\n",
       "    let outputDiv = document.currentScript.previousElementSibling;\n",
       "    if (outputDiv.id !== \"altair-viz-36d3d614f05e4132a1fcaaac0f1a9932\") {\n",
       "      outputDiv = document.getElementById(\"altair-viz-36d3d614f05e4132a1fcaaac0f1a9932\");\n",
       "    }\n",
       "    const paths = {\n",
       "      \"vega\": \"https://cdn.jsdelivr.net/npm//vega@5?noext\",\n",
       "      \"vega-lib\": \"https://cdn.jsdelivr.net/npm//vega-lib?noext\",\n",
       "      \"vega-lite\": \"https://cdn.jsdelivr.net/npm//vega-lite@4.17.0?noext\",\n",
       "      \"vega-embed\": \"https://cdn.jsdelivr.net/npm//vega-embed@6?noext\",\n",
       "    };\n",
       "\n",
       "    function maybeLoadScript(lib, version) {\n",
       "      var key = `${lib.replace(\"-\", \"\")}_version`;\n",
       "      return (VEGA_DEBUG[key] == version) ?\n",
       "        Promise.resolve(paths[lib]) :\n",
       "        new Promise(function(resolve, reject) {\n",
       "          var s = document.createElement('script');\n",
       "          document.getElementsByTagName(\"head\")[0].appendChild(s);\n",
       "          s.async = true;\n",
       "          s.onload = () => {\n",
       "            VEGA_DEBUG[key] = version;\n",
       "            return resolve(paths[lib]);\n",
       "          };\n",
       "          s.onerror = () => reject(`Error loading script: ${paths[lib]}`);\n",
       "          s.src = paths[lib];\n",
       "        });\n",
       "    }\n",
       "\n",
       "    function showError(err) {\n",
       "      outputDiv.innerHTML = `<div class=\"error\" style=\"color:red;\">${err}</div>`;\n",
       "      throw err;\n",
       "    }\n",
       "\n",
       "    function displayChart(vegaEmbed) {\n",
       "      vegaEmbed(outputDiv, spec, embedOpt)\n",
       "        .catch(err => showError(`Javascript Error: ${err.message}<br>This usually means there's a typo in your chart specification. See the javascript console for the full traceback.`));\n",
       "    }\n",
       "\n",
       "    if(typeof define === \"function\" && define.amd) {\n",
       "      requirejs.config({paths});\n",
       "      require([\"vega-embed\"], displayChart, err => showError(`Error loading script: ${err.message}`));\n",
       "    } else {\n",
       "      maybeLoadScript(\"vega\", \"5\")\n",
       "        .then(() => maybeLoadScript(\"vega-lite\", \"4.17.0\"))\n",
       "        .then(() => maybeLoadScript(\"vega-embed\", \"6\"))\n",
       "        .catch(showError)\n",
       "        .then(() => displayChart(vegaEmbed));\n",
       "    }\n",
       "  })({\"config\": {\"view\": {\"continuousWidth\": 400, \"continuousHeight\": 300}}, \"layer\": [{\"mark\": {\"type\": \"line\", \"point\": true}, \"encoding\": {\"x\": {\"field\": \"mois\", \"sort\": [\"janv\", \"fevr\", \"mars\", \"avri\", \"mai\", \"juin\", \"juil\", \"aout\", \"sept\", \"octo\", \"nove\", \"dece\"], \"type\": \"ordinal\"}, \"y\": {\"field\": \"valeur\", \"title\": \"tmja\", \"type\": \"quantitative\"}}, \"title\": [\"compteur 33-A630-14+23 ; \", \"annee 2019\"], \"transform\": [{\"filter\": \"(datum.indicateur === 'tmja')\"}]}, {\"mark\": {\"type\": \"line\", \"color\": \"green\"}, \"encoding\": {\"x\": {\"field\": \"mois\", \"sort\": [\"janv\", \"fevr\", \"mars\", \"avri\", \"mai\", \"juin\", \"juil\", \"aout\", \"sept\", \"octo\", \"nove\", \"dece\"], \"type\": \"ordinal\"}, \"y\": {\"axis\": {\"labelColor\": \"green\", \"tickColor\": \"green\", \"title\": \"pc_pl\", \"titleColor\": \"green\"}, \"field\": \"valeur\", \"scale\": {\"domain\": [3.9000000000000004, 7.9]}, \"type\": \"quantitative\"}}, \"title\": [\"compteur 33-A630-14+23 ; \", \"annee 2019\"], \"transform\": [{\"filter\": \"(datum.indicateur === 'pc_pl')\"}]}, {\"mark\": {\"type\": \"circle\", \"color\": \"green\"}, \"encoding\": {\"x\": {\"field\": \"mois\", \"sort\": [\"janv\", \"fevr\", \"mars\", \"avri\", \"mai\", \"juin\", \"juil\", \"aout\", \"sept\", \"octo\", \"nove\", \"dece\"], \"type\": \"ordinal\"}, \"y\": {\"axis\": {\"labelColor\": \"green\", \"tickColor\": \"green\", \"title\": \"pc_pl\", \"titleColor\": \"green\"}, \"field\": \"valeur\", \"scale\": {\"domain\": [3.9000000000000004, 7.9]}, \"type\": \"quantitative\"}}, \"title\": [\"compteur 33-A630-14+23 ; \", \"annee 2019\"], \"transform\": [{\"filter\": \"(datum.indicateur === 'pc_pl')\"}]}], \"data\": {\"name\": \"data-2a26aa232111837a8670d5a4d8cb6a12\"}, \"height\": 200, \"resolve\": {\"scale\": {\"y\": \"independent\"}}, \"width\": 300, \"$schema\": \"https://vega.github.io/schema/vega-lite/v4.17.0.json\", \"datasets\": {\"data-2a26aa232111837a8670d5a4d8cb6a12\": [{\"mois\": \"mai\", \"indicateur\": \"tmja\", \"valeur\": 78382.0}, {\"mois\": \"avri\", \"indicateur\": \"tmja\", \"valeur\": 80287.0}, {\"mois\": \"janv\", \"indicateur\": \"pc_pl\", \"valeur\": 5.1}, {\"mois\": \"mars\", \"indicateur\": \"tmja\", \"valeur\": 76977.0}, {\"mois\": \"juil\", \"indicateur\": \"tmja\", \"valeur\": 83563.0}, {\"mois\": \"juin\", \"indicateur\": \"tmja\", \"valeur\": 81394.0}, {\"mois\": \"octo\", \"indicateur\": \"pc_pl\", \"valeur\": 5.8}, {\"mois\": \"dece\", \"indicateur\": \"pc_pl\", \"valeur\": 4.9}, {\"mois\": \"fevr\", \"indicateur\": \"pc_pl\", \"valeur\": 5.3}, {\"mois\": \"fevr\", \"indicateur\": \"tmja\", \"valeur\": 76501.0}, {\"mois\": \"avri\", \"indicateur\": \"pc_pl\", \"valeur\": 6.0}, {\"mois\": \"dece\", \"indicateur\": \"tmja\", \"valeur\": 74505.0}, {\"mois\": \"juil\", \"indicateur\": \"pc_pl\", \"valeur\": 6.0}, {\"mois\": \"nove\", \"indicateur\": \"tmja\", \"valeur\": 76865.0}, {\"mois\": \"aout\", \"indicateur\": \"tmja\", \"valeur\": 77686.0}, {\"mois\": \"octo\", \"indicateur\": \"tmja\", \"valeur\": 80445.0}, {\"mois\": \"nove\", \"indicateur\": \"pc_pl\", \"valeur\": 5.2}, {\"mois\": \"mai\", \"indicateur\": \"pc_pl\", \"valeur\": 5.4}, {\"mois\": \"aout\", \"indicateur\": \"pc_pl\", \"valeur\": 5.2}, {\"mois\": \"janv\", \"indicateur\": \"tmja\", \"valeur\": 73279.0}, {\"mois\": \"juin\", \"indicateur\": \"pc_pl\", \"valeur\": 5.5}, {\"mois\": \"sept\", \"indicateur\": \"tmja\", \"valeur\": 80663.0}, {\"mois\": \"sept\", \"indicateur\": \"pc_pl\", \"valeur\": 5.7}, {\"mois\": \"mars\", \"indicateur\": \"pc_pl\", \"valeur\": 5.5}]}}, {\"mode\": \"vega-lite\"});\n",
       "</script>"
      ],
      "text/plain": [
       "alt.LayerChart(...)"
      ]
     },
     "execution_count": 143,
     "metadata": {},
     "output_type": "execute_result"
    }
   ],
   "source": [
    "# params\n",
    "id_comptag = '33-A630-14+23'\n",
    "annee = '2019'\n",
    "indic = ['tmja', 'pc_pl']\n",
    "rqtMensuel = f\"\"\"\n",
    "      SELECT im.mois, im.indicateur, im.valeur  FROM valorisation.comptage c JOIN valorisation.indic_mensuel im ON im.id_comptag_uniq = c.id\n",
    "      WHERE im.indicateur = any(array{indic}) AND c.id_comptag = '{id_comptag}' AND c.annee = '{annee}'\n",
    "      \"\"\"\n",
    "titreMensuel = [f'compteur {id_comptag} ; ', f'annee {annee}']\n",
    "couleurY2 = 'green'\n",
    "yMinPcPl = dfGraphAgrege.loc[dfGraphAgrege.indicateur == 'pc_pl'].valeur.min() - 2\n",
    "yMaxPcPl = dfGraphAgrege.loc[dfGraphAgrege.indicateur == 'pc_pl'].valeur.min() + 2\n",
    "listMois = ['janv', 'fevr', 'mars', 'avri', 'mai', 'juin', 'juil', 'aout', 'sept', 'octo', 'nove', 'dece']\n",
    "\n",
    "# import donnees\n",
    "with ct.ConnexionBdd('local_otv_boulot') as c:\n",
    "    dfGraphMensuel = pd.read_sql(rqtMensuel, c.sqlAlchemyConn)\n",
    "\n",
    "# creation Chart\n",
    "chartMensuel = (alt.Chart(dfGraphMensuel, title=titreMensuel).mark_line(point=True).encode(\n",
    "    x=alt.X('mois:O', sort=listMois),\n",
    "    y=alt.Y('valeur', title='tmja')).transform_filter(\n",
    "    (datum.indicateur == 'tmja')) + (\n",
    "    alt.Chart(dfGraphMensuel, title=titreMensuel).mark_line(color=couleurY2).encode(\n",
    "        x=alt.X('mois:O', sort=listMois),\n",
    "        y=alt.Y('valeur', \n",
    "        scale=alt.Scale(domain=[yMinPcPl, yMaxPcPl]),\n",
    "        axis=alt.Axis(title = 'pc_pl', labelColor=couleurY2, titleColor=couleurY2, tickColor=couleurY2))).transform_filter(\n",
    "        (datum.indicateur == 'pc_pl'))) + (\n",
    "    alt.Chart(dfGraphMensuel, title=titreMensuel).mark_circle(color=couleurY2).encode(\n",
    "        x=alt.X('mois:O', sort=listMois),\n",
    "        y=alt.Y('valeur', \n",
    "        scale=alt.Scale(domain=[yMinPcPl, yMaxPcPl]),\n",
    "        axis=alt.Axis(title = 'pc_pl', labelColor=couleurY2, titleColor=couleurY2, tickColor=couleurY2))).transform_filter(\n",
    "        (datum.indicateur == 'pc_pl')))).resolve_scale(y='independent')\n",
    "chartMensuel.properties(width=largeur, height=hauteur)"
   ]
  },
  {
   "cell_type": "code",
   "execution_count": 144,
   "metadata": {},
   "outputs": [
    {
     "data": {
      "text/html": [
       "\n",
       "<div id=\"altair-viz-017bef064beb4dd58e5283367d302ff0\"></div>\n",
       "<script type=\"text/javascript\">\n",
       "  var VEGA_DEBUG = (typeof VEGA_DEBUG == \"undefined\") ? {} : VEGA_DEBUG;\n",
       "  (function(spec, embedOpt){\n",
       "    let outputDiv = document.currentScript.previousElementSibling;\n",
       "    if (outputDiv.id !== \"altair-viz-017bef064beb4dd58e5283367d302ff0\") {\n",
       "      outputDiv = document.getElementById(\"altair-viz-017bef064beb4dd58e5283367d302ff0\");\n",
       "    }\n",
       "    const paths = {\n",
       "      \"vega\": \"https://cdn.jsdelivr.net/npm//vega@5?noext\",\n",
       "      \"vega-lib\": \"https://cdn.jsdelivr.net/npm//vega-lib?noext\",\n",
       "      \"vega-lite\": \"https://cdn.jsdelivr.net/npm//vega-lite@4.17.0?noext\",\n",
       "      \"vega-embed\": \"https://cdn.jsdelivr.net/npm//vega-embed@6?noext\",\n",
       "    };\n",
       "\n",
       "    function maybeLoadScript(lib, version) {\n",
       "      var key = `${lib.replace(\"-\", \"\")}_version`;\n",
       "      return (VEGA_DEBUG[key] == version) ?\n",
       "        Promise.resolve(paths[lib]) :\n",
       "        new Promise(function(resolve, reject) {\n",
       "          var s = document.createElement('script');\n",
       "          document.getElementsByTagName(\"head\")[0].appendChild(s);\n",
       "          s.async = true;\n",
       "          s.onload = () => {\n",
       "            VEGA_DEBUG[key] = version;\n",
       "            return resolve(paths[lib]);\n",
       "          };\n",
       "          s.onerror = () => reject(`Error loading script: ${paths[lib]}`);\n",
       "          s.src = paths[lib];\n",
       "        });\n",
       "    }\n",
       "\n",
       "    function showError(err) {\n",
       "      outputDiv.innerHTML = `<div class=\"error\" style=\"color:red;\">${err}</div>`;\n",
       "      throw err;\n",
       "    }\n",
       "\n",
       "    function displayChart(vegaEmbed) {\n",
       "      vegaEmbed(outputDiv, spec, embedOpt)\n",
       "        .catch(err => showError(`Javascript Error: ${err.message}<br>This usually means there's a typo in your chart specification. See the javascript console for the full traceback.`));\n",
       "    }\n",
       "\n",
       "    if(typeof define === \"function\" && define.amd) {\n",
       "      requirejs.config({paths});\n",
       "      require([\"vega-embed\"], displayChart, err => showError(`Error loading script: ${err.message}`));\n",
       "    } else {\n",
       "      maybeLoadScript(\"vega\", \"5\")\n",
       "        .then(() => maybeLoadScript(\"vega-lite\", \"4.17.0\"))\n",
       "        .then(() => maybeLoadScript(\"vega-embed\", \"6\"))\n",
       "        .catch(showError)\n",
       "        .then(() => displayChart(vegaEmbed));\n",
       "    }\n",
       "  })({\"config\": {\"view\": {\"continuousWidth\": 400, \"continuousHeight\": 300}}, \"data\": {\"name\": \"data-2a26aa232111837a8670d5a4d8cb6a12\"}, \"mark\": \"bar\", \"encoding\": {\"x\": {\"field\": \"mois\", \"sort\": [\"janv\", \"fevr\", \"mars\", \"avri\", \"mai\", \"juin\", \"juil\", \"aout\", \"sept\", \"octo\", \"nove\", \"dece\"], \"type\": \"ordinal\"}, \"y\": {\"field\": \"valeur\", \"title\": \"tmja\", \"type\": \"quantitative\"}}, \"height\": 200, \"title\": [\"compteur 33-A630-14+23 ; \", \"annee 2019\"], \"transform\": [{\"filter\": \"(datum.indicateur === 'tmja')\"}], \"width\": 300, \"$schema\": \"https://vega.github.io/schema/vega-lite/v4.17.0.json\", \"datasets\": {\"data-2a26aa232111837a8670d5a4d8cb6a12\": [{\"mois\": \"mai\", \"indicateur\": \"tmja\", \"valeur\": 78382.0}, {\"mois\": \"avri\", \"indicateur\": \"tmja\", \"valeur\": 80287.0}, {\"mois\": \"janv\", \"indicateur\": \"pc_pl\", \"valeur\": 5.1}, {\"mois\": \"mars\", \"indicateur\": \"tmja\", \"valeur\": 76977.0}, {\"mois\": \"juil\", \"indicateur\": \"tmja\", \"valeur\": 83563.0}, {\"mois\": \"juin\", \"indicateur\": \"tmja\", \"valeur\": 81394.0}, {\"mois\": \"octo\", \"indicateur\": \"pc_pl\", \"valeur\": 5.8}, {\"mois\": \"dece\", \"indicateur\": \"pc_pl\", \"valeur\": 4.9}, {\"mois\": \"fevr\", \"indicateur\": \"pc_pl\", \"valeur\": 5.3}, {\"mois\": \"fevr\", \"indicateur\": \"tmja\", \"valeur\": 76501.0}, {\"mois\": \"avri\", \"indicateur\": \"pc_pl\", \"valeur\": 6.0}, {\"mois\": \"dece\", \"indicateur\": \"tmja\", \"valeur\": 74505.0}, {\"mois\": \"juil\", \"indicateur\": \"pc_pl\", \"valeur\": 6.0}, {\"mois\": \"nove\", \"indicateur\": \"tmja\", \"valeur\": 76865.0}, {\"mois\": \"aout\", \"indicateur\": \"tmja\", \"valeur\": 77686.0}, {\"mois\": \"octo\", \"indicateur\": \"tmja\", \"valeur\": 80445.0}, {\"mois\": \"nove\", \"indicateur\": \"pc_pl\", \"valeur\": 5.2}, {\"mois\": \"mai\", \"indicateur\": \"pc_pl\", \"valeur\": 5.4}, {\"mois\": \"aout\", \"indicateur\": \"pc_pl\", \"valeur\": 5.2}, {\"mois\": \"janv\", \"indicateur\": \"tmja\", \"valeur\": 73279.0}, {\"mois\": \"juin\", \"indicateur\": \"pc_pl\", \"valeur\": 5.5}, {\"mois\": \"sept\", \"indicateur\": \"tmja\", \"valeur\": 80663.0}, {\"mois\": \"sept\", \"indicateur\": \"pc_pl\", \"valeur\": 5.7}, {\"mois\": \"mars\", \"indicateur\": \"pc_pl\", \"valeur\": 5.5}]}}, {\"mode\": \"vega-lite\"});\n",
       "</script>"
      ],
      "text/plain": [
       "alt.Chart(...)"
      ]
     },
     "execution_count": 144,
     "metadata": {},
     "output_type": "execute_result"
    }
   ],
   "source": [
    "alt.Chart(dfGraphMensuel, title=titreMensuel).mark_bar().encode(\n",
    "    x=alt.X('mois:O', sort=listMois),\n",
    "    y=alt.Y('valeur', title='tmja')).transform_filter(\n",
    "    (datum.indicateur == 'tmja')).properties(width=largeur, height=hauteur)"
   ]
  },
  {
   "cell_type": "code",
   "execution_count": 52,
   "metadata": {},
   "outputs": [],
   "source": [
    "# export donnees source\n",
    "dfGraphMensuel.to_json(r'C:\\Users\\martin.schoreisz\\Box\\Cerema\\3C-Prod_Mob\\C4-ITS_Trafics_Regulation-Productions\\C41-Connaissance_trafics_routiers\\2022-QAE-Evol_OTR\\4-Travaux_en_cours\\Expression_Besoin\\Projet_Valorisation\\exemples_graphs\\chartMensuel_data.json')"
   ]
  },
  {
   "cell_type": "markdown",
   "metadata": {
    "tags": []
   },
   "source": [
    "## **Graphs horaire profil gestionnaire**"
   ]
  },
  {
   "cell_type": "code",
   "execution_count": 145,
   "metadata": {},
   "outputs": [
    {
     "data": {
      "text/html": [
       "\n",
       "<div id=\"altair-viz-8edfdd2b1fcb4eb380723ff119309a5d\"></div>\n",
       "<script type=\"text/javascript\">\n",
       "  var VEGA_DEBUG = (typeof VEGA_DEBUG == \"undefined\") ? {} : VEGA_DEBUG;\n",
       "  (function(spec, embedOpt){\n",
       "    let outputDiv = document.currentScript.previousElementSibling;\n",
       "    if (outputDiv.id !== \"altair-viz-8edfdd2b1fcb4eb380723ff119309a5d\") {\n",
       "      outputDiv = document.getElementById(\"altair-viz-8edfdd2b1fcb4eb380723ff119309a5d\");\n",
       "    }\n",
       "    const paths = {\n",
       "      \"vega\": \"https://cdn.jsdelivr.net/npm//vega@5?noext\",\n",
       "      \"vega-lib\": \"https://cdn.jsdelivr.net/npm//vega-lib?noext\",\n",
       "      \"vega-lite\": \"https://cdn.jsdelivr.net/npm//vega-lite@4.17.0?noext\",\n",
       "      \"vega-embed\": \"https://cdn.jsdelivr.net/npm//vega-embed@6?noext\",\n",
       "    };\n",
       "\n",
       "    function maybeLoadScript(lib, version) {\n",
       "      var key = `${lib.replace(\"-\", \"\")}_version`;\n",
       "      return (VEGA_DEBUG[key] == version) ?\n",
       "        Promise.resolve(paths[lib]) :\n",
       "        new Promise(function(resolve, reject) {\n",
       "          var s = document.createElement('script');\n",
       "          document.getElementsByTagName(\"head\")[0].appendChild(s);\n",
       "          s.async = true;\n",
       "          s.onload = () => {\n",
       "            VEGA_DEBUG[key] = version;\n",
       "            return resolve(paths[lib]);\n",
       "          };\n",
       "          s.onerror = () => reject(`Error loading script: ${paths[lib]}`);\n",
       "          s.src = paths[lib];\n",
       "        });\n",
       "    }\n",
       "\n",
       "    function showError(err) {\n",
       "      outputDiv.innerHTML = `<div class=\"error\" style=\"color:red;\">${err}</div>`;\n",
       "      throw err;\n",
       "    }\n",
       "\n",
       "    function displayChart(vegaEmbed) {\n",
       "      vegaEmbed(outputDiv, spec, embedOpt)\n",
       "        .catch(err => showError(`Javascript Error: ${err.message}<br>This usually means there's a typo in your chart specification. See the javascript console for the full traceback.`));\n",
       "    }\n",
       "\n",
       "    if(typeof define === \"function\" && define.amd) {\n",
       "      requirejs.config({paths});\n",
       "      require([\"vega-embed\"], displayChart, err => showError(`Error loading script: ${err.message}`));\n",
       "    } else {\n",
       "      maybeLoadScript(\"vega\", \"5\")\n",
       "        .then(() => maybeLoadScript(\"vega-lite\", \"4.17.0\"))\n",
       "        .then(() => maybeLoadScript(\"vega-embed\", \"6\"))\n",
       "        .catch(showError)\n",
       "        .then(() => displayChart(vegaEmbed));\n",
       "    }\n",
       "  })({\"config\": {\"view\": {\"continuousWidth\": 400, \"continuousHeight\": 300}}, \"data\": {\"name\": \"data-3150c2ca1f180ebcd603b32604344ecf\"}, \"mark\": {\"type\": \"line\", \"point\": true}, \"encoding\": {\"color\": {\"field\": \"indicateur\", \"type\": \"nominal\"}, \"x\": {\"field\": \"heure\", \"sort\": [\"h0_1\", \"h1_2\", \"h2_3\", \"h3_4\", \"h4_5\", \"h5_6\", \"h6_7\", \"h7_8\", \"h8_9\", \"h9_10\", \"h10_11\", \"h11_12\", \"h12_13\", \"h13_14\", \"h14_15\", \"h15_16\", \"h16_17\", \"h17_18\", \"h18_19\", \"h19_20\", \"h20_21\", \"h21_22\", \"h22_23\", \"h23_24\"], \"type\": \"nominal\"}, \"y\": {\"field\": \"nb_veh\", \"title\": \"MJA_VL ; MJO_VL\", \"type\": \"quantitative\"}}, \"height\": 200, \"title\": [\"compteur 33-A630-23+0 ; \", \"annee 2019\"], \"width\": 300, \"$schema\": \"https://vega.github.io/schema/vega-lite/v4.17.0.json\", \"datasets\": {\"data-3150c2ca1f180ebcd603b32604344ecf\": [{\"indicateur\": \"MJA_VL\", \"heure\": \"h0_1\", \"nb_veh\": 888.0}, {\"indicateur\": \"MJO_VL\", \"heure\": \"h0_1\", \"nb_veh\": 632.0}, {\"indicateur\": \"MJA_VL\", \"heure\": \"h1_2\", \"nb_veh\": 532.0}, {\"indicateur\": \"MJO_VL\", \"heure\": \"h1_2\", \"nb_veh\": 314.0}, {\"indicateur\": \"MJA_VL\", \"heure\": \"h2_3\", \"nb_veh\": 328.0}, {\"indicateur\": \"MJO_VL\", \"heure\": \"h2_3\", \"nb_veh\": 192.0}, {\"indicateur\": \"MJA_VL\", \"heure\": \"h3_4\", \"nb_veh\": 285.0}, {\"indicateur\": \"MJO_VL\", \"heure\": \"h3_4\", \"nb_veh\": 233.0}, {\"indicateur\": \"MJA_VL\", \"heure\": \"h4_5\", \"nb_veh\": 511.0}, {\"indicateur\": \"MJO_VL\", \"heure\": \"h4_5\", \"nb_veh\": 532.0}, {\"indicateur\": \"MJA_VL\", \"heure\": \"h5_6\", \"nb_veh\": 1037.0}, {\"indicateur\": \"MJO_VL\", \"heure\": \"h5_6\", \"nb_veh\": 1236.0}, {\"indicateur\": \"MJA_VL\", \"heure\": \"h6_7\", \"nb_veh\": 2574.0}, {\"indicateur\": \"MJO_VL\", \"heure\": \"h6_7\", \"nb_veh\": 3345.0}, {\"indicateur\": \"MJA_VL\", \"heure\": \"h7_8\", \"nb_veh\": 5584.0}, {\"indicateur\": \"MJO_VL\", \"heure\": \"h7_8\", \"nb_veh\": 7503.0}, {\"indicateur\": \"MJA_VL\", \"heure\": \"h8_9\", \"nb_veh\": 5860.0}, {\"indicateur\": \"MJO_VL\", \"heure\": \"h8_9\", \"nb_veh\": 7530.0}, {\"indicateur\": \"MJA_VL\", \"heure\": \"h9_10\", \"nb_veh\": 4906.0}, {\"indicateur\": \"MJO_VL\", \"heure\": \"h9_10\", \"nb_veh\": 5711.0}, {\"indicateur\": \"MJA_VL\", \"heure\": \"h10_11\", \"nb_veh\": 4642.0}, {\"indicateur\": \"MJO_VL\", \"heure\": \"h10_11\", \"nb_veh\": 4956.0}, {\"indicateur\": \"MJA_VL\", \"heure\": \"h11_12\", \"nb_veh\": 4961.0}, {\"indicateur\": \"MJO_VL\", \"heure\": \"h11_12\", \"nb_veh\": 5077.0}, {\"indicateur\": \"MJA_VL\", \"heure\": \"h12_13\", \"nb_veh\": 5084.0}, {\"indicateur\": \"MJO_VL\", \"heure\": \"h12_13\", \"nb_veh\": 5324.0}, {\"indicateur\": \"MJA_VL\", \"heure\": \"h13_14\", \"nb_veh\": 4852.0}, {\"indicateur\": \"MJO_VL\", \"heure\": \"h13_14\", \"nb_veh\": 5280.0}, {\"indicateur\": \"MJA_VL\", \"heure\": \"h14_15\", \"nb_veh\": 5201.0}, {\"indicateur\": \"MJO_VL\", \"heure\": \"h14_15\", \"nb_veh\": 5603.0}, {\"indicateur\": \"MJA_VL\", \"heure\": \"h15_16\", \"nb_veh\": 5567.0}, {\"indicateur\": \"MJO_VL\", \"heure\": \"h15_16\", \"nb_veh\": 5957.0}, {\"indicateur\": \"MJA_VL\", \"heure\": \"h16_17\", \"nb_veh\": 6225.0}, {\"indicateur\": \"MJO_VL\", \"heure\": \"h16_17\", \"nb_veh\": 6799.0}, {\"indicateur\": \"MJA_VL\", \"heure\": \"h17_18\", \"nb_veh\": 6294.0}, {\"indicateur\": \"MJO_VL\", \"heure\": \"h17_18\", \"nb_veh\": 6652.0}, {\"indicateur\": \"MJA_VL\", \"heure\": \"h18_19\", \"nb_veh\": 6168.0}, {\"indicateur\": \"MJO_VL\", \"heure\": \"h18_19\", \"nb_veh\": 6421.0}, {\"indicateur\": \"MJA_VL\", \"heure\": \"h19_20\", \"nb_veh\": 5284.0}, {\"indicateur\": \"MJO_VL\", \"heure\": \"h19_20\", \"nb_veh\": 5471.0}, {\"indicateur\": \"MJA_VL\", \"heure\": \"h20_21\", \"nb_veh\": 3380.0}, {\"indicateur\": \"MJO_VL\", \"heure\": \"h20_21\", \"nb_veh\": 3466.0}, {\"indicateur\": \"MJA_VL\", \"heure\": \"h21_22\", \"nb_veh\": 2147.0}, {\"indicateur\": \"MJO_VL\", \"heure\": \"h21_22\", \"nb_veh\": 2170.0}, {\"indicateur\": \"MJA_VL\", \"heure\": \"h22_23\", \"nb_veh\": 1777.0}, {\"indicateur\": \"MJO_VL\", \"heure\": \"h22_23\", \"nb_veh\": 1806.0}, {\"indicateur\": \"MJA_VL\", \"heure\": \"h23_24\", \"nb_veh\": 1379.0}, {\"indicateur\": \"MJO_VL\", \"heure\": \"h23_24\", \"nb_veh\": 1364.0}]}}, {\"mode\": \"vega-lite\"});\n",
       "</script>"
      ],
      "text/plain": [
       "alt.Chart(...)"
      ]
     },
     "execution_count": 145,
     "metadata": {},
     "output_type": "execute_result"
    }
   ],
   "source": [
    "# params\n",
    "id_comptag = '33-A630-23+0'\n",
    "annee = '2019'\n",
    "indic = ['MJA_VL', 'MJO_VL']\n",
    "rqtHoraire = f\"\"\"\n",
    "      SELECT ih.indicateur, ih.h0_1, ih.h1_2, ih.h2_3, ih.h3_4, ih.h4_5, ih.h5_6, ih.h6_7, ih.h7_8, ih.h8_9, ih.h9_10, ih.h10_11, \n",
    "       ih.h11_12, ih.h12_13, ih.h13_14, ih.h14_15, ih.h15_16, ih.h16_17, ih.h17_18, ih.h18_19, ih.h19_20, ih.h20_21, ih.h21_22, \n",
    "       ih.h22_23, ih.h23_24  FROM valorisation.comptage c JOIN valorisation.indic_horaire ih ON ih.id_comptag_uniq = c.id\n",
    "      WHERE ih.indicateur =ANY(ARRAY{indic}) AND c.id_comptag = '{id_comptag}' AND c.annee = '{2019}' \n",
    "      \"\"\"\n",
    "titreHoraire = [f'compteur {id_comptag} ; ', f'annee {annee}']\n",
    "couleurY2 = 'green'\n",
    "yMinPcPl = dfGraphAgrege.loc[dfGraphAgrege.indicateur == 'pc_pl'].valeur.min() - 2\n",
    "yMaxPcPl = dfGraphAgrege.loc[dfGraphAgrege.indicateur == 'pc_pl'].valeur.min() + 2\n",
    "listHeure = ['h0_1', 'h1_2', 'h2_3', 'h3_4', 'h4_5', 'h5_6', 'h6_7', 'h7_8', 'h8_9', 'h9_10', 'h10_11',\n",
    "             'h11_12', 'h12_13', 'h13_14', 'h14_15', 'h15_16', 'h16_17', 'h17_18', 'h18_19', 'h19_20', 'h20_21', 'h21_22',\n",
    "             'h22_23', 'h23_24']\n",
    "\n",
    "# import donnees\n",
    "with ct.ConnexionBdd('local_otv_boulot') as c:\n",
    "    dfGraphHoraire = pd.read_sql(rqtHoraire, c.sqlAlchemyConn)\n",
    "    dfGraphHoraire = dfGraphHoraire.melt(id_vars='indicateur', value_vars=listHeure, var_name='heure', value_name='nb_veh')\n",
    "\n",
    "# creation Chart\n",
    "chartHoraire = alt.Chart(dfGraphHoraire, title=titreHoraire).mark_line(point=True).encode(\n",
    "    x=alt.X('heure:N', sort=listHeure),\n",
    "    y=alt.Y('nb_veh:Q', title='MJA_VL ; MJO_VL'),\n",
    "    color='indicateur:N')\n",
    "chartHoraire.properties(width=largeur, height=hauteur)"
   ]
  },
  {
   "cell_type": "code",
   "execution_count": 54,
   "metadata": {},
   "outputs": [],
   "source": [
    "# export donnees source\n",
    "dfGraphHoraire.to_json(r'C:\\Users\\martin.schoreisz\\Box\\Cerema\\3C-Prod_Mob\\C4-ITS_Trafics_Regulation-Productions\\C41-Connaissance_trafics_routiers\\2022-QAE-Evol_OTR\\4-Travaux_en_cours\\Expression_Besoin\\Projet_Valorisation\\exemples_graphs\\chartHoraire_data.json')"
   ]
  },
  {
   "cell_type": "code",
   "execution_count": 146,
   "metadata": {},
   "outputs": [
    {
     "data": {
      "text/html": [
       "\n",
       "<div id=\"altair-viz-98a1509e4cb84e5eaac42b315e32cf2f\"></div>\n",
       "<script type=\"text/javascript\">\n",
       "  var VEGA_DEBUG = (typeof VEGA_DEBUG == \"undefined\") ? {} : VEGA_DEBUG;\n",
       "  (function(spec, embedOpt){\n",
       "    let outputDiv = document.currentScript.previousElementSibling;\n",
       "    if (outputDiv.id !== \"altair-viz-98a1509e4cb84e5eaac42b315e32cf2f\") {\n",
       "      outputDiv = document.getElementById(\"altair-viz-98a1509e4cb84e5eaac42b315e32cf2f\");\n",
       "    }\n",
       "    const paths = {\n",
       "      \"vega\": \"https://cdn.jsdelivr.net/npm//vega@5?noext\",\n",
       "      \"vega-lib\": \"https://cdn.jsdelivr.net/npm//vega-lib?noext\",\n",
       "      \"vega-lite\": \"https://cdn.jsdelivr.net/npm//vega-lite@4.17.0?noext\",\n",
       "      \"vega-embed\": \"https://cdn.jsdelivr.net/npm//vega-embed@6?noext\",\n",
       "    };\n",
       "\n",
       "    function maybeLoadScript(lib, version) {\n",
       "      var key = `${lib.replace(\"-\", \"\")}_version`;\n",
       "      return (VEGA_DEBUG[key] == version) ?\n",
       "        Promise.resolve(paths[lib]) :\n",
       "        new Promise(function(resolve, reject) {\n",
       "          var s = document.createElement('script');\n",
       "          document.getElementsByTagName(\"head\")[0].appendChild(s);\n",
       "          s.async = true;\n",
       "          s.onload = () => {\n",
       "            VEGA_DEBUG[key] = version;\n",
       "            return resolve(paths[lib]);\n",
       "          };\n",
       "          s.onerror = () => reject(`Error loading script: ${paths[lib]}`);\n",
       "          s.src = paths[lib];\n",
       "        });\n",
       "    }\n",
       "\n",
       "    function showError(err) {\n",
       "      outputDiv.innerHTML = `<div class=\"error\" style=\"color:red;\">${err}</div>`;\n",
       "      throw err;\n",
       "    }\n",
       "\n",
       "    function displayChart(vegaEmbed) {\n",
       "      vegaEmbed(outputDiv, spec, embedOpt)\n",
       "        .catch(err => showError(`Javascript Error: ${err.message}<br>This usually means there's a typo in your chart specification. See the javascript console for the full traceback.`));\n",
       "    }\n",
       "\n",
       "    if(typeof define === \"function\" && define.amd) {\n",
       "      requirejs.config({paths});\n",
       "      require([\"vega-embed\"], displayChart, err => showError(`Error loading script: ${err.message}`));\n",
       "    } else {\n",
       "      maybeLoadScript(\"vega\", \"5\")\n",
       "        .then(() => maybeLoadScript(\"vega-lite\", \"4.17.0\"))\n",
       "        .then(() => maybeLoadScript(\"vega-embed\", \"6\"))\n",
       "        .catch(showError)\n",
       "        .then(() => displayChart(vegaEmbed));\n",
       "    }\n",
       "  })({\"config\": {\"view\": {\"continuousWidth\": 400, \"continuousHeight\": 300}}, \"data\": {\"name\": \"data-3150c2ca1f180ebcd603b32604344ecf\"}, \"mark\": \"bar\", \"encoding\": {\"x\": {\"field\": \"heure\", \"sort\": [\"h0_1\", \"h1_2\", \"h2_3\", \"h3_4\", \"h4_5\", \"h5_6\", \"h6_7\", \"h7_8\", \"h8_9\", \"h9_10\", \"h10_11\", \"h11_12\", \"h12_13\", \"h13_14\", \"h14_15\", \"h15_16\", \"h16_17\", \"h17_18\", \"h18_19\", \"h19_20\", \"h20_21\", \"h21_22\", \"h22_23\", \"h23_24\"], \"type\": \"nominal\"}, \"y\": {\"field\": \"nb_veh\", \"title\": \"MJA_VL ; MJO_VL\", \"type\": \"quantitative\"}}, \"height\": 200, \"title\": [\"compteur 33-A630-23+0 ; \", \"annee 2019\"], \"transform\": [{\"filter\": \"(datum.indicateur === 'MJA_VL')\"}], \"width\": 300, \"$schema\": \"https://vega.github.io/schema/vega-lite/v4.17.0.json\", \"datasets\": {\"data-3150c2ca1f180ebcd603b32604344ecf\": [{\"indicateur\": \"MJA_VL\", \"heure\": \"h0_1\", \"nb_veh\": 888.0}, {\"indicateur\": \"MJO_VL\", \"heure\": \"h0_1\", \"nb_veh\": 632.0}, {\"indicateur\": \"MJA_VL\", \"heure\": \"h1_2\", \"nb_veh\": 532.0}, {\"indicateur\": \"MJO_VL\", \"heure\": \"h1_2\", \"nb_veh\": 314.0}, {\"indicateur\": \"MJA_VL\", \"heure\": \"h2_3\", \"nb_veh\": 328.0}, {\"indicateur\": \"MJO_VL\", \"heure\": \"h2_3\", \"nb_veh\": 192.0}, {\"indicateur\": \"MJA_VL\", \"heure\": \"h3_4\", \"nb_veh\": 285.0}, {\"indicateur\": \"MJO_VL\", \"heure\": \"h3_4\", \"nb_veh\": 233.0}, {\"indicateur\": \"MJA_VL\", \"heure\": \"h4_5\", \"nb_veh\": 511.0}, {\"indicateur\": \"MJO_VL\", \"heure\": \"h4_5\", \"nb_veh\": 532.0}, {\"indicateur\": \"MJA_VL\", \"heure\": \"h5_6\", \"nb_veh\": 1037.0}, {\"indicateur\": \"MJO_VL\", \"heure\": \"h5_6\", \"nb_veh\": 1236.0}, {\"indicateur\": \"MJA_VL\", \"heure\": \"h6_7\", \"nb_veh\": 2574.0}, {\"indicateur\": \"MJO_VL\", \"heure\": \"h6_7\", \"nb_veh\": 3345.0}, {\"indicateur\": \"MJA_VL\", \"heure\": \"h7_8\", \"nb_veh\": 5584.0}, {\"indicateur\": \"MJO_VL\", \"heure\": \"h7_8\", \"nb_veh\": 7503.0}, {\"indicateur\": \"MJA_VL\", \"heure\": \"h8_9\", \"nb_veh\": 5860.0}, {\"indicateur\": \"MJO_VL\", \"heure\": \"h8_9\", \"nb_veh\": 7530.0}, {\"indicateur\": \"MJA_VL\", \"heure\": \"h9_10\", \"nb_veh\": 4906.0}, {\"indicateur\": \"MJO_VL\", \"heure\": \"h9_10\", \"nb_veh\": 5711.0}, {\"indicateur\": \"MJA_VL\", \"heure\": \"h10_11\", \"nb_veh\": 4642.0}, {\"indicateur\": \"MJO_VL\", \"heure\": \"h10_11\", \"nb_veh\": 4956.0}, {\"indicateur\": \"MJA_VL\", \"heure\": \"h11_12\", \"nb_veh\": 4961.0}, {\"indicateur\": \"MJO_VL\", \"heure\": \"h11_12\", \"nb_veh\": 5077.0}, {\"indicateur\": \"MJA_VL\", \"heure\": \"h12_13\", \"nb_veh\": 5084.0}, {\"indicateur\": \"MJO_VL\", \"heure\": \"h12_13\", \"nb_veh\": 5324.0}, {\"indicateur\": \"MJA_VL\", \"heure\": \"h13_14\", \"nb_veh\": 4852.0}, {\"indicateur\": \"MJO_VL\", \"heure\": \"h13_14\", \"nb_veh\": 5280.0}, {\"indicateur\": \"MJA_VL\", \"heure\": \"h14_15\", \"nb_veh\": 5201.0}, {\"indicateur\": \"MJO_VL\", \"heure\": \"h14_15\", \"nb_veh\": 5603.0}, {\"indicateur\": \"MJA_VL\", \"heure\": \"h15_16\", \"nb_veh\": 5567.0}, {\"indicateur\": \"MJO_VL\", \"heure\": \"h15_16\", \"nb_veh\": 5957.0}, {\"indicateur\": \"MJA_VL\", \"heure\": \"h16_17\", \"nb_veh\": 6225.0}, {\"indicateur\": \"MJO_VL\", \"heure\": \"h16_17\", \"nb_veh\": 6799.0}, {\"indicateur\": \"MJA_VL\", \"heure\": \"h17_18\", \"nb_veh\": 6294.0}, {\"indicateur\": \"MJO_VL\", \"heure\": \"h17_18\", \"nb_veh\": 6652.0}, {\"indicateur\": \"MJA_VL\", \"heure\": \"h18_19\", \"nb_veh\": 6168.0}, {\"indicateur\": \"MJO_VL\", \"heure\": \"h18_19\", \"nb_veh\": 6421.0}, {\"indicateur\": \"MJA_VL\", \"heure\": \"h19_20\", \"nb_veh\": 5284.0}, {\"indicateur\": \"MJO_VL\", \"heure\": \"h19_20\", \"nb_veh\": 5471.0}, {\"indicateur\": \"MJA_VL\", \"heure\": \"h20_21\", \"nb_veh\": 3380.0}, {\"indicateur\": \"MJO_VL\", \"heure\": \"h20_21\", \"nb_veh\": 3466.0}, {\"indicateur\": \"MJA_VL\", \"heure\": \"h21_22\", \"nb_veh\": 2147.0}, {\"indicateur\": \"MJO_VL\", \"heure\": \"h21_22\", \"nb_veh\": 2170.0}, {\"indicateur\": \"MJA_VL\", \"heure\": \"h22_23\", \"nb_veh\": 1777.0}, {\"indicateur\": \"MJO_VL\", \"heure\": \"h22_23\", \"nb_veh\": 1806.0}, {\"indicateur\": \"MJA_VL\", \"heure\": \"h23_24\", \"nb_veh\": 1379.0}, {\"indicateur\": \"MJO_VL\", \"heure\": \"h23_24\", \"nb_veh\": 1364.0}]}}, {\"mode\": \"vega-lite\"});\n",
       "</script>"
      ],
      "text/plain": [
       "alt.Chart(...)"
      ]
     },
     "execution_count": 146,
     "metadata": {},
     "output_type": "execute_result"
    }
   ],
   "source": [
    "alt.Chart(dfGraphHoraire, title=titreHoraire).mark_bar().encode(\n",
    "    x=alt.X('heure:N', sort=listHeure),\n",
    "    y=alt.Y('nb_veh:Q', title='MJA_VL ; MJO_VL')).transform_filter(\n",
    "    (datum.indicateur == 'MJA_VL')).properties(width=largeur, height=hauteur)"
   ]
  },
  {
   "cell_type": "code",
   "execution_count": null,
   "metadata": {},
   "outputs": [],
   "source": []
  }
 ],
 "metadata": {
  "kernelspec": {
   "display_name": "Python 3 (ipykernel)",
   "language": "python",
   "name": "python3"
  },
  "language_info": {
   "codemirror_mode": {
    "name": "ipython",
    "version": 3
   },
   "file_extension": ".py",
   "mimetype": "text/x-python",
   "name": "python",
   "nbconvert_exporter": "python",
   "pygments_lexer": "ipython3",
   "version": "3.9.6"
  },
  "toc-autonumbering": true
 },
 "nbformat": 4,
 "nbformat_minor": 4
}
