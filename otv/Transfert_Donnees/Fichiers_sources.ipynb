{
 "cells": [
  {
   "cell_type": "markdown",
   "metadata": {},
   "source": [
    "# ***EXEMPLE DE TRAITEMENTS DES FICHIERS SOURCES***\n",
    "> exemples pour les FIM, donnees individuelles mixtra, données individuelles viking, ..."
   ]
  },
  {
   "cell_type": "code",
   "execution_count": 120,
   "metadata": {},
   "outputs": [
    {
     "name": "stdout",
     "output_type": "stream",
     "text": [
      "The autoreload extension is already loaded. To reload it, use:\n",
      "  %reload_ext autoreload\n"
     ]
    }
   ],
   "source": [
    "%load_ext autoreload\n",
    "%autoreload 2\n",
    "import sys\n",
    "sys.path.append(r'C:\\Users\\martin.schoreisz\\git\\otv\\otv\\Transfert_Donnees')\n",
    "sys.path.append(r'C:\\Users\\martin.schoreisz\\git\\Outils\\Outils\\Martin_Perso')\n",
    "import pandas as pd\n",
    "import geopandas as gp\n",
    "import numpy as np\n",
    "import altair as alt\n",
    "from datetime import datetime\n",
    "import locale\n",
    "\n",
    "import Donnees_individuelles as di"
   ]
  },
  {
   "cell_type": "code",
   "execution_count": 3,
   "metadata": {},
   "outputs": [
    {
     "data": {
      "text/plain": [
       "'fr_FR'"
      ]
     },
     "execution_count": 3,
     "metadata": {},
     "output_type": "execute_result"
    }
   ],
   "source": [
    "locale.setlocale(locale.LC_TIME, 'fr_FR')"
   ]
  },
  {
   "cell_type": "markdown",
   "metadata": {},
   "source": [
    "# 1. Données individuelles mixtra\n",
    "ces données sont des fichiers excels, sans aucune référence interne au compteur. A chaque véhicule correspond une ligne avec les atributs descroiptifs"
   ]
  },
  {
   "cell_type": "code",
   "execution_count": 443,
   "metadata": {},
   "outputs": [],
   "source": [
    "mixtra=di.Mixtra([r'P:\\DAIT\\TI\\Donnees\\1-ROUTIER\\1 - Aquitaine\\64 - Pyrénées-Atlantiques\\2020\\Biriatou\\7_Juillet\\Tubes\\Individuelle\\P4_TUBES_23_07_20\\V0_02_B.XLS'],\n",
    "                 [r'P:\\DAIT\\TI\\Donnees\\1-ROUTIER\\1 - Aquitaine\\64 - Pyrénées-Atlantiques\\2020\\Biriatou\\7_Juillet\\Tubes\\Individuelle\\P4_TUBES_23_07_20\\V1_02_B.XLS'])"
   ]
  },
  {
   "cell_type": "code",
   "execution_count": null,
   "metadata": {},
   "outputs": [],
   "source": [
    "#calculer la df qui va contenir toute les données horaires\n",
    "dfValide=di.NettoyageTemps(mixtra.NettoyageDonnees())\n",
    "dfHeureTypeSens=di.GroupeCompletude(dfValide)"
   ]
  },
  {
   "cell_type": "code",
   "execution_count": 548,
   "metadata": {},
   "outputs": [],
   "source": [
    "#creer le dico qui va contenir tout les résultats et données intermeédiaires \n",
    "dicoHoraire,dicoJournalier=di.IndicsGraphs(dfHeureTypeSens,['vl','pl','2r'],['mja','mjo', 'samedi', 'dimanche'],['sens1','sens2','2sens'])"
   ]
  },
  {
   "cell_type": "code",
   "execution_count": 521,
   "metadata": {},
   "outputs": [],
   "source": [
    "#exemple d'appel de résultats\n",
    "dicoHoraire['mjo']['nbJour']\n",
    "dicoHoraire['mja']['nbJour']\n",
    "dicoHoraire['mjo']['2sens']['graph']\n",
    "dicoHoraire['samedi']['sens1']['donnees']\n",
    "dicoJournalier['mja']['type_veh']['graph']\n",
    "dicoJournalier['mjo']['sens']['graph']"
   ]
  },
  {
   "cell_type": "markdown",
   "metadata": {},
   "source": [
    "# 2. Données individuelles viking\n",
    "ces données sont des fichiers excels, sans aucune référence interne au compteur. A chaque véhicule correspond une ligne avec les atributs descroiptifs"
   ]
  },
  {
   "cell_type": "code",
   "execution_count": 569,
   "metadata": {},
   "outputs": [],
   "source": [
    "vik=di.Viking(r'Q:\\DAIT\\TI\\CA_Angouleme\\2020\\C20SA00-09-10-11_Comptage_linearisation_Angouleme\\Doc_travail\\Donnees_produites\\Donnees\\Comptages\\DonneesBrutes\\P9\\P9_sens1.VIK',\n",
    "             r'Q:\\DAIT\\TI\\CA_Angouleme\\2020\\C20SA00-09-10-11_Comptage_linearisation_Angouleme\\Doc_travail\\Donnees_produites\\Donnees\\Comptages\\DonneesBrutes\\P9\\P9_sens2.VIK')"
   ]
  },
  {
   "cell_type": "code",
   "execution_count": 570,
   "metadata": {},
   "outputs": [],
   "source": [
    "dfValide=di.NettoyageTemps(vik.fichier2sens)\n",
    "dfHeureTypeSens=di.GroupeCompletude(dfValide)"
   ]
  },
  {
   "cell_type": "code",
   "execution_count": 716,
   "metadata": {},
   "outputs": [],
   "source": [
    "#creer le dico qui va contenir tout les résultats et données intermeédiaires \n",
    "dicoHoraire,dicoJournalier=di.IndicsGraphs(dfHeureTypeSens,['vl','pl','2r'],['mja','mjo', 'samedi', 'dimanche','hpm'],['sens1','sens2','2sens'])"
   ]
  },
  {
   "cell_type": "code",
   "execution_count": 699,
   "metadata": {},
   "outputs": [
    {
     "data": {
      "text/html": [
       "\n",
       "<div id=\"altair-viz-3cdb498b35c34f68b640f5463d2db260\"></div>\n",
       "<script type=\"text/javascript\">\n",
       "  (function(spec, embedOpt){\n",
       "    let outputDiv = document.currentScript.previousElementSibling;\n",
       "    if (outputDiv.id !== \"altair-viz-3cdb498b35c34f68b640f5463d2db260\") {\n",
       "      outputDiv = document.getElementById(\"altair-viz-3cdb498b35c34f68b640f5463d2db260\");\n",
       "    }\n",
       "    const paths = {\n",
       "      \"vega\": \"https://cdn.jsdelivr.net/npm//vega@5?noext\",\n",
       "      \"vega-lib\": \"https://cdn.jsdelivr.net/npm//vega-lib?noext\",\n",
       "      \"vega-lite\": \"https://cdn.jsdelivr.net/npm//vega-lite@4.8.1?noext\",\n",
       "      \"vega-embed\": \"https://cdn.jsdelivr.net/npm//vega-embed@6?noext\",\n",
       "    };\n",
       "\n",
       "    function loadScript(lib) {\n",
       "      return new Promise(function(resolve, reject) {\n",
       "        var s = document.createElement('script');\n",
       "        s.src = paths[lib];\n",
       "        s.async = true;\n",
       "        s.onload = () => resolve(paths[lib]);\n",
       "        s.onerror = () => reject(`Error loading script: ${paths[lib]}`);\n",
       "        document.getElementsByTagName(\"head\")[0].appendChild(s);\n",
       "      });\n",
       "    }\n",
       "\n",
       "    function showError(err) {\n",
       "      outputDiv.innerHTML = `<div class=\"error\" style=\"color:red;\">${err}</div>`;\n",
       "      throw err;\n",
       "    }\n",
       "\n",
       "    function displayChart(vegaEmbed) {\n",
       "      vegaEmbed(outputDiv, spec, embedOpt)\n",
       "        .catch(err => showError(`Javascript Error: ${err.message}<br>This usually means there's a typo in your chart specification. See the javascript console for the full traceback.`));\n",
       "    }\n",
       "\n",
       "    if(typeof define === \"function\" && define.amd) {\n",
       "      requirejs.config({paths});\n",
       "      require([\"vega-embed\"], displayChart, err => showError(`Error loading script: ${err.message}`));\n",
       "    } else if (typeof vegaEmbed === \"function\") {\n",
       "      displayChart(vegaEmbed);\n",
       "    } else {\n",
       "      loadScript(\"vega\")\n",
       "        .then(() => loadScript(\"vega-lite\"))\n",
       "        .then(() => loadScript(\"vega-embed\"))\n",
       "        .catch(showError)\n",
       "        .then(() => displayChart(vegaEmbed));\n",
       "    }\n",
       "  })({\"config\": {\"view\": {\"continuousWidth\": 400, \"continuousHeight\": 300, \"stroke\": \"transparent\"}}, \"data\": {\"name\": \"data-ab9f3ef52383f3c0ee6892b619454235\"}, \"mark\": \"bar\", \"encoding\": {\"color\": {\"type\": \"nominal\", \"field\": \"type_veh\"}, \"column\": {\"type\": \"ordinal\", \"field\": \"jour\", \"sort\": [\"lundi\", \"mardi\", \"mercredi\", \"jeudi\", \"vendredi\", \"samedi\", \"dimanche\"]}, \"x\": {\"type\": \"nominal\", \"axis\": {\"title\": \"\"}, \"field\": \"type_veh\", \"sort\": [\"tv\", \"vl\", \"pl\", \"2r\"]}, \"y\": {\"type\": \"quantitative\", \"axis\": {\"grid\": false, \"title\": \"Nombre de v\\u00e9hicules\"}, \"field\": \"nbVeh\"}}, \"$schema\": \"https://vega.github.io/schema/vega-lite/v4.8.1.json\", \"datasets\": {\"data-ab9f3ef52383f3c0ee6892b619454235\": [{\"jour\": \"lundi\", \"type_veh\": \"2r\", \"sens\": \"sens1\", \"nbVeh\": 97.0, \"nbOcc\": 1}, {\"jour\": \"lundi\", \"type_veh\": \"2r\", \"sens\": \"sens2\", \"nbVeh\": 33.0, \"nbOcc\": 1}, {\"jour\": \"lundi\", \"type_veh\": \"pl\", \"sens\": \"sens1\", \"nbVeh\": 22.0, \"nbOcc\": 1}, {\"jour\": \"lundi\", \"type_veh\": \"pl\", \"sens\": \"sens2\", \"nbVeh\": 43.0, \"nbOcc\": 1}, {\"jour\": \"lundi\", \"type_veh\": \"vl\", \"sens\": \"sens1\", \"nbVeh\": 5391.0, \"nbOcc\": 1}, {\"jour\": \"lundi\", \"type_veh\": \"vl\", \"sens\": \"sens2\", \"nbVeh\": 5253.0, \"nbOcc\": 1}, {\"jour\": \"mardi\", \"type_veh\": \"vl\", \"sens\": \"sens2\", \"nbVeh\": 5490.0, \"nbOcc\": 2}, {\"jour\": \"mardi\", \"type_veh\": \"vl\", \"sens\": \"sens1\", \"nbVeh\": 5540.5, \"nbOcc\": 2}, {\"jour\": \"mardi\", \"type_veh\": \"2r\", \"sens\": \"sens2\", \"nbVeh\": 48.0, \"nbOcc\": 2}, {\"jour\": \"mardi\", \"type_veh\": \"pl\", \"sens\": \"sens1\", \"nbVeh\": 38.5, \"nbOcc\": 2}, {\"jour\": \"mardi\", \"type_veh\": \"2r\", \"sens\": \"sens1\", \"nbVeh\": 132.0, \"nbOcc\": 2}, {\"jour\": \"mardi\", \"type_veh\": \"pl\", \"sens\": \"sens2\", \"nbVeh\": 65.0, \"nbOcc\": 2}, {\"jour\": \"mercredi\", \"type_veh\": \"vl\", \"sens\": \"sens2\", \"nbVeh\": 5387.0, \"nbOcc\": 1}, {\"jour\": \"mercredi\", \"type_veh\": \"vl\", \"sens\": \"sens1\", \"nbVeh\": 5338.0, \"nbOcc\": 1}, {\"jour\": \"mercredi\", \"type_veh\": \"pl\", \"sens\": \"sens2\", \"nbVeh\": 75.0, \"nbOcc\": 1}, {\"jour\": \"mercredi\", \"type_veh\": \"pl\", \"sens\": \"sens1\", \"nbVeh\": 31.0, \"nbOcc\": 1}, {\"jour\": \"mercredi\", \"type_veh\": \"2r\", \"sens\": \"sens2\", \"nbVeh\": 66.0, \"nbOcc\": 1}, {\"jour\": \"mercredi\", \"type_veh\": \"2r\", \"sens\": \"sens1\", \"nbVeh\": 122.0, \"nbOcc\": 1}, {\"jour\": \"jeudi\", \"type_veh\": \"vl\", \"sens\": \"sens2\", \"nbVeh\": 5501.0, \"nbOcc\": 1}, {\"jour\": \"jeudi\", \"type_veh\": \"vl\", \"sens\": \"sens1\", \"nbVeh\": 5775.0, \"nbOcc\": 1}, {\"jour\": \"jeudi\", \"type_veh\": \"pl\", \"sens\": \"sens1\", \"nbVeh\": 31.0, \"nbOcc\": 1}, {\"jour\": \"jeudi\", \"type_veh\": \"2r\", \"sens\": \"sens2\", \"nbVeh\": 37.0, \"nbOcc\": 1}, {\"jour\": \"jeudi\", \"type_veh\": \"2r\", \"sens\": \"sens1\", \"nbVeh\": 102.0, \"nbOcc\": 1}, {\"jour\": \"jeudi\", \"type_veh\": \"pl\", \"sens\": \"sens2\", \"nbVeh\": 65.0, \"nbOcc\": 1}, {\"jour\": \"vendredi\", \"type_veh\": \"vl\", \"sens\": \"sens1\", \"nbVeh\": 5883.0, \"nbOcc\": 1}, {\"jour\": \"vendredi\", \"type_veh\": \"2r\", \"sens\": \"sens1\", \"nbVeh\": 95.0, \"nbOcc\": 1}, {\"jour\": \"vendredi\", \"type_veh\": \"2r\", \"sens\": \"sens2\", \"nbVeh\": 36.0, \"nbOcc\": 1}, {\"jour\": \"vendredi\", \"type_veh\": \"pl\", \"sens\": \"sens1\", \"nbVeh\": 18.0, \"nbOcc\": 1}, {\"jour\": \"vendredi\", \"type_veh\": \"pl\", \"sens\": \"sens2\", \"nbVeh\": 45.0, \"nbOcc\": 1}, {\"jour\": \"vendredi\", \"type_veh\": \"vl\", \"sens\": \"sens2\", \"nbVeh\": 5875.0, \"nbOcc\": 1}]}}, {\"mode\": \"vega-lite\"});\n",
       "</script>"
      ],
      "text/plain": [
       "alt.Chart(...)"
      ]
     },
     "execution_count": 699,
     "metadata": {},
     "output_type": "execute_result"
    }
   ],
   "source": [
    "#exemple d'appel de résultats\n",
    "dicoHoraire['mjo']['nbJour']\n",
    "dicoHoraire['mja']['nbJour']\n",
    "dicoHoraire['mjo']['2sens']['graph']\n",
    "dicoHoraire['samedi']['sens1']['donnees']\n",
    "dicoJournalier['mja']['sens2']['graph']\n",
    "dicoJournalier['mjo']['2sens']['graph']"
   ]
  },
  {
   "cell_type": "code",
   "execution_count": 565,
   "metadata": {},
   "outputs": [],
   "source": [
    "dicoJournalier['mja']['type_veh']['donnees'].to_csv(\n",
    "r'Q:\\DAIT\\TI\\CA_Angouleme\\2020\\C20SA00-09-10-11_Comptage_linearisation_Angouleme\\Doc_travail\\Donnees_produites\\Donnees\\Comptages\\extractionMartin\\P9\\TMJA_jour.csv')"
   ]
  },
  {
   "cell_type": "code",
   "execution_count": 709,
   "metadata": {},
   "outputs": [
    {
     "data": {
      "text/html": [
       "\n",
       "<div id=\"altair-viz-83888a8fb86d498a98c730ec913b8745\"></div>\n",
       "<script type=\"text/javascript\">\n",
       "  (function(spec, embedOpt){\n",
       "    let outputDiv = document.currentScript.previousElementSibling;\n",
       "    if (outputDiv.id !== \"altair-viz-83888a8fb86d498a98c730ec913b8745\") {\n",
       "      outputDiv = document.getElementById(\"altair-viz-83888a8fb86d498a98c730ec913b8745\");\n",
       "    }\n",
       "    const paths = {\n",
       "      \"vega\": \"https://cdn.jsdelivr.net/npm//vega@5?noext\",\n",
       "      \"vega-lib\": \"https://cdn.jsdelivr.net/npm//vega-lib?noext\",\n",
       "      \"vega-lite\": \"https://cdn.jsdelivr.net/npm//vega-lite@4.8.1?noext\",\n",
       "      \"vega-embed\": \"https://cdn.jsdelivr.net/npm//vega-embed@6?noext\",\n",
       "    };\n",
       "\n",
       "    function loadScript(lib) {\n",
       "      return new Promise(function(resolve, reject) {\n",
       "        var s = document.createElement('script');\n",
       "        s.src = paths[lib];\n",
       "        s.async = true;\n",
       "        s.onload = () => resolve(paths[lib]);\n",
       "        s.onerror = () => reject(`Error loading script: ${paths[lib]}`);\n",
       "        document.getElementsByTagName(\"head\")[0].appendChild(s);\n",
       "      });\n",
       "    }\n",
       "\n",
       "    function showError(err) {\n",
       "      outputDiv.innerHTML = `<div class=\"error\" style=\"color:red;\">${err}</div>`;\n",
       "      throw err;\n",
       "    }\n",
       "\n",
       "    function displayChart(vegaEmbed) {\n",
       "      vegaEmbed(outputDiv, spec, embedOpt)\n",
       "        .catch(err => showError(`Javascript Error: ${err.message}<br>This usually means there's a typo in your chart specification. See the javascript console for the full traceback.`));\n",
       "    }\n",
       "\n",
       "    if(typeof define === \"function\" && define.amd) {\n",
       "      requirejs.config({paths});\n",
       "      require([\"vega-embed\"], displayChart, err => showError(`Error loading script: ${err.message}`));\n",
       "    } else if (typeof vegaEmbed === \"function\") {\n",
       "      displayChart(vegaEmbed);\n",
       "    } else {\n",
       "      loadScript(\"vega\")\n",
       "        .then(() => loadScript(\"vega-lite\"))\n",
       "        .then(() => loadScript(\"vega-embed\"))\n",
       "        .catch(showError)\n",
       "        .then(() => displayChart(vegaEmbed));\n",
       "    }\n",
       "  })({\"config\": {\"view\": {\"continuousWidth\": 400, \"continuousHeight\": 300, \"stroke\": \"transparent\"}}, \"data\": {\"name\": \"data-3e3d7bac90cde18e373cb7d3a924b549\"}, \"mark\": \"bar\", \"encoding\": {\"color\": {\"type\": \"nominal\", \"field\": \"sens\"}, \"column\": {\"type\": \"ordinal\", \"field\": \"jour\", \"sort\": [\"lundi\", \"mardi\", \"mercredi\", \"jeudi\", \"vendredi\", \"samedi\", \"dimanche\"]}, \"x\": {\"type\": \"nominal\", \"axis\": {\"title\": \"\"}, \"field\": \"sens\", \"sort\": [\"tv\", \"vl\", \"pl\", \"2r\"]}, \"y\": {\"type\": \"quantitative\", \"axis\": {\"grid\": false, \"title\": \"Nombre de v\\u00e9hicules\"}, \"field\": \"nbVeh\"}}, \"title\": \"Trafic moyen journalier par sens\", \"$schema\": \"https://vega.github.io/schema/vega-lite/v4.8.1.json\", \"datasets\": {\"data-3e3d7bac90cde18e373cb7d3a924b549\": [{\"jour\": \"lundi\", \"sens\": \"sens1\", \"nbVeh\": 11020.0, \"nbOcc\": 1}, {\"jour\": \"lundi\", \"sens\": \"sens2\", \"nbVeh\": 10658.0, \"nbOcc\": 1}, {\"jour\": \"mardi\", \"sens\": \"sens1\", \"nbVeh\": 11422.0, \"nbOcc\": 2}, {\"jour\": \"mardi\", \"sens\": \"sens2\", \"nbVeh\": 11206.0, \"nbOcc\": 2}, {\"jour\": \"mercredi\", \"sens\": \"sens1\", \"nbVeh\": 10982.0, \"nbOcc\": 1}, {\"jour\": \"mercredi\", \"sens\": \"sens2\", \"nbVeh\": 11056.0, \"nbOcc\": 1}, {\"jour\": \"jeudi\", \"sens\": \"sens1\", \"nbVeh\": 11816.0, \"nbOcc\": 1}, {\"jour\": \"jeudi\", \"sens\": \"sens2\", \"nbVeh\": 11206.0, \"nbOcc\": 1}, {\"jour\": \"vendredi\", \"sens\": \"sens1\", \"nbVeh\": 11992.0, \"nbOcc\": 1}, {\"jour\": \"vendredi\", \"sens\": \"sens2\", \"nbVeh\": 11912.0, \"nbOcc\": 1}, {\"jour\": \"samedi\", \"sens\": \"sens1\", \"nbVeh\": 10406.0, \"nbOcc\": 1}, {\"jour\": \"samedi\", \"sens\": \"sens2\", \"nbVeh\": 9506.0, \"nbOcc\": 1}, {\"jour\": \"dimanche\", \"sens\": \"sens1\", \"nbVeh\": 5654.0, \"nbOcc\": 1}, {\"jour\": \"dimanche\", \"sens\": \"sens2\", \"nbVeh\": 5268.0, \"nbOcc\": 1}]}}, {\"mode\": \"vega-lite\"});\n",
       "</script>"
      ],
      "text/plain": [
       "alt.Chart(...)"
      ]
     },
     "execution_count": 709,
     "metadata": {},
     "output_type": "execute_result"
    }
   ],
   "source": [
    "dicoJournalier['mja']['compSens']['graph']"
   ]
  },
  {
   "cell_type": "code",
   "execution_count": 719,
   "metadata": {},
   "outputs": [
    {
     "data": {
      "text/html": [
       "<div>\n",
       "<style scoped>\n",
       "    .dataframe tbody tr th:only-of-type {\n",
       "        vertical-align: middle;\n",
       "    }\n",
       "\n",
       "    .dataframe tbody tr th {\n",
       "        vertical-align: top;\n",
       "    }\n",
       "\n",
       "    .dataframe thead th {\n",
       "        text-align: right;\n",
       "    }\n",
       "</style>\n",
       "<table border=\"1\" class=\"dataframe\">\n",
       "  <thead>\n",
       "    <tr style=\"text-align: right;\">\n",
       "      <th></th>\n",
       "      <th>heure</th>\n",
       "      <th>type_veh</th>\n",
       "      <th>sens</th>\n",
       "      <th>nbVeh</th>\n",
       "    </tr>\n",
       "  </thead>\n",
       "  <tbody>\n",
       "    <tr>\n",
       "      <th>0</th>\n",
       "      <td>7</td>\n",
       "      <td>2r</td>\n",
       "      <td>sens1</td>\n",
       "      <td>4.0</td>\n",
       "    </tr>\n",
       "    <tr>\n",
       "      <th>1</th>\n",
       "      <td>7</td>\n",
       "      <td>2r</td>\n",
       "      <td>sens2</td>\n",
       "      <td>4.0</td>\n",
       "    </tr>\n",
       "    <tr>\n",
       "      <th>2</th>\n",
       "      <td>7</td>\n",
       "      <td>pl</td>\n",
       "      <td>sens1</td>\n",
       "      <td>4.0</td>\n",
       "    </tr>\n",
       "    <tr>\n",
       "      <th>3</th>\n",
       "      <td>7</td>\n",
       "      <td>pl</td>\n",
       "      <td>sens2</td>\n",
       "      <td>6.0</td>\n",
       "    </tr>\n",
       "    <tr>\n",
       "      <th>4</th>\n",
       "      <td>7</td>\n",
       "      <td>vl</td>\n",
       "      <td>sens1</td>\n",
       "      <td>290.0</td>\n",
       "    </tr>\n",
       "    <tr>\n",
       "      <th>5</th>\n",
       "      <td>7</td>\n",
       "      <td>vl</td>\n",
       "      <td>sens2</td>\n",
       "      <td>211.0</td>\n",
       "    </tr>\n",
       "    <tr>\n",
       "      <th>6</th>\n",
       "      <td>8</td>\n",
       "      <td>2r</td>\n",
       "      <td>sens1</td>\n",
       "      <td>7.0</td>\n",
       "    </tr>\n",
       "    <tr>\n",
       "      <th>7</th>\n",
       "      <td>8</td>\n",
       "      <td>2r</td>\n",
       "      <td>sens2</td>\n",
       "      <td>4.0</td>\n",
       "    </tr>\n",
       "    <tr>\n",
       "      <th>8</th>\n",
       "      <td>8</td>\n",
       "      <td>pl</td>\n",
       "      <td>sens1</td>\n",
       "      <td>3.0</td>\n",
       "    </tr>\n",
       "    <tr>\n",
       "      <th>9</th>\n",
       "      <td>8</td>\n",
       "      <td>pl</td>\n",
       "      <td>sens2</td>\n",
       "      <td>4.0</td>\n",
       "    </tr>\n",
       "    <tr>\n",
       "      <th>10</th>\n",
       "      <td>8</td>\n",
       "      <td>vl</td>\n",
       "      <td>sens1</td>\n",
       "      <td>394.0</td>\n",
       "    </tr>\n",
       "    <tr>\n",
       "      <th>11</th>\n",
       "      <td>8</td>\n",
       "      <td>vl</td>\n",
       "      <td>sens2</td>\n",
       "      <td>363.0</td>\n",
       "    </tr>\n",
       "    <tr>\n",
       "      <th>12</th>\n",
       "      <td>9</td>\n",
       "      <td>2r</td>\n",
       "      <td>sens1</td>\n",
       "      <td>8.0</td>\n",
       "    </tr>\n",
       "    <tr>\n",
       "      <th>13</th>\n",
       "      <td>9</td>\n",
       "      <td>2r</td>\n",
       "      <td>sens2</td>\n",
       "      <td>4.0</td>\n",
       "    </tr>\n",
       "    <tr>\n",
       "      <th>14</th>\n",
       "      <td>9</td>\n",
       "      <td>pl</td>\n",
       "      <td>sens1</td>\n",
       "      <td>5.0</td>\n",
       "    </tr>\n",
       "    <tr>\n",
       "      <th>15</th>\n",
       "      <td>9</td>\n",
       "      <td>pl</td>\n",
       "      <td>sens2</td>\n",
       "      <td>6.0</td>\n",
       "    </tr>\n",
       "    <tr>\n",
       "      <th>16</th>\n",
       "      <td>9</td>\n",
       "      <td>vl</td>\n",
       "      <td>sens1</td>\n",
       "      <td>328.0</td>\n",
       "    </tr>\n",
       "    <tr>\n",
       "      <th>17</th>\n",
       "      <td>9</td>\n",
       "      <td>vl</td>\n",
       "      <td>sens2</td>\n",
       "      <td>338.0</td>\n",
       "    </tr>\n",
       "  </tbody>\n",
       "</table>\n",
       "</div>"
      ],
      "text/plain": [
       "    heure type_veh   sens  nbVeh\n",
       "0       7       2r  sens1    4.0\n",
       "1       7       2r  sens2    4.0\n",
       "2       7       pl  sens1    4.0\n",
       "3       7       pl  sens2    6.0\n",
       "4       7       vl  sens1  290.0\n",
       "5       7       vl  sens2  211.0\n",
       "6       8       2r  sens1    7.0\n",
       "7       8       2r  sens2    4.0\n",
       "8       8       pl  sens1    3.0\n",
       "9       8       pl  sens2    4.0\n",
       "10      8       vl  sens1  394.0\n",
       "11      8       vl  sens2  363.0\n",
       "12      9       2r  sens1    8.0\n",
       "13      9       2r  sens2    4.0\n",
       "14      9       pl  sens1    5.0\n",
       "15      9       pl  sens2    6.0\n",
       "16      9       vl  sens1  328.0\n",
       "17      9       vl  sens2  338.0"
      ]
     },
     "execution_count": 719,
     "metadata": {},
     "output_type": "execute_result"
    }
   ],
   "source": [
    "dicoHoraire['hpm']['2sens']['donnees']"
   ]
  },
  {
   "cell_type": "code",
   "execution_count": 711,
   "metadata": {},
   "outputs": [
    {
     "data": {
      "text/html": [
       "\n",
       "<div id=\"altair-viz-4977f80322ef432f9187b70958b3694e\"></div>\n",
       "<script type=\"text/javascript\">\n",
       "  (function(spec, embedOpt){\n",
       "    let outputDiv = document.currentScript.previousElementSibling;\n",
       "    if (outputDiv.id !== \"altair-viz-4977f80322ef432f9187b70958b3694e\") {\n",
       "      outputDiv = document.getElementById(\"altair-viz-4977f80322ef432f9187b70958b3694e\");\n",
       "    }\n",
       "    const paths = {\n",
       "      \"vega\": \"https://cdn.jsdelivr.net/npm//vega@5?noext\",\n",
       "      \"vega-lib\": \"https://cdn.jsdelivr.net/npm//vega-lib?noext\",\n",
       "      \"vega-lite\": \"https://cdn.jsdelivr.net/npm//vega-lite@4.8.1?noext\",\n",
       "      \"vega-embed\": \"https://cdn.jsdelivr.net/npm//vega-embed@6?noext\",\n",
       "    };\n",
       "\n",
       "    function loadScript(lib) {\n",
       "      return new Promise(function(resolve, reject) {\n",
       "        var s = document.createElement('script');\n",
       "        s.src = paths[lib];\n",
       "        s.async = true;\n",
       "        s.onload = () => resolve(paths[lib]);\n",
       "        s.onerror = () => reject(`Error loading script: ${paths[lib]}`);\n",
       "        document.getElementsByTagName(\"head\")[0].appendChild(s);\n",
       "      });\n",
       "    }\n",
       "\n",
       "    function showError(err) {\n",
       "      outputDiv.innerHTML = `<div class=\"error\" style=\"color:red;\">${err}</div>`;\n",
       "      throw err;\n",
       "    }\n",
       "\n",
       "    function displayChart(vegaEmbed) {\n",
       "      vegaEmbed(outputDiv, spec, embedOpt)\n",
       "        .catch(err => showError(`Javascript Error: ${err.message}<br>This usually means there's a typo in your chart specification. See the javascript console for the full traceback.`));\n",
       "    }\n",
       "\n",
       "    if(typeof define === \"function\" && define.amd) {\n",
       "      requirejs.config({paths});\n",
       "      require([\"vega-embed\"], displayChart, err => showError(`Error loading script: ${err.message}`));\n",
       "    } else if (typeof vegaEmbed === \"function\") {\n",
       "      displayChart(vegaEmbed);\n",
       "    } else {\n",
       "      loadScript(\"vega\")\n",
       "        .then(() => loadScript(\"vega-lite\"))\n",
       "        .then(() => loadScript(\"vega-embed\"))\n",
       "        .catch(showError)\n",
       "        .then(() => displayChart(vegaEmbed));\n",
       "    }\n",
       "  })({\"config\": {\"view\": {\"continuousWidth\": 400, \"continuousHeight\": 300}}, \"data\": {\"name\": \"data-dded4a2fbb7b2fe0057de6c78016dfd9\"}, \"mark\": \"line\", \"encoding\": {\"color\": {\"type\": \"nominal\", \"field\": \"type_veh\"}, \"x\": {\"type\": \"ordinal\", \"field\": \"heure\"}, \"y\": {\"type\": \"quantitative\", \"field\": \"nbVeh\"}}, \"$schema\": \"https://vega.github.io/schema/vega-lite/v4.8.1.json\", \"datasets\": {\"data-dded4a2fbb7b2fe0057de6c78016dfd9\": [{\"heure\": 0, \"type_veh\": \"2r\", \"nbVeh\": 0.0}, {\"heure\": 0, \"type_veh\": \"pl\", \"nbVeh\": 0.0}, {\"heure\": 0, \"type_veh\": \"vl\", \"nbVeh\": 11.0}, {\"heure\": 1, \"type_veh\": \"2r\", \"nbVeh\": 1.0}, {\"heure\": 1, \"type_veh\": \"pl\", \"nbVeh\": 0.0}, {\"heure\": 1, \"type_veh\": \"vl\", \"nbVeh\": 6.0}, {\"heure\": 2, \"type_veh\": \"2r\", \"nbVeh\": 0.0}, {\"heure\": 2, \"type_veh\": \"pl\", \"nbVeh\": 0.0}, {\"heure\": 2, \"type_veh\": \"vl\", \"nbVeh\": 4.0}, {\"heure\": 3, \"type_veh\": \"2r\", \"nbVeh\": 0.0}, {\"heure\": 3, \"type_veh\": \"pl\", \"nbVeh\": 0.0}, {\"heure\": 3, \"type_veh\": \"vl\", \"nbVeh\": 7.0}, {\"heure\": 4, \"type_veh\": \"2r\", \"nbVeh\": 0.0}, {\"heure\": 4, \"type_veh\": \"pl\", \"nbVeh\": 0.0}, {\"heure\": 4, \"type_veh\": \"vl\", \"nbVeh\": 17.0}, {\"heure\": 5, \"type_veh\": \"2r\", \"nbVeh\": 0.0}, {\"heure\": 5, \"type_veh\": \"pl\", \"nbVeh\": 0.0}, {\"heure\": 5, \"type_veh\": \"vl\", \"nbVeh\": 24.0}, {\"heure\": 6, \"type_veh\": \"2r\", \"nbVeh\": 2.0}, {\"heure\": 6, \"type_veh\": \"pl\", \"nbVeh\": 1.0}, {\"heure\": 6, \"type_veh\": \"vl\", \"nbVeh\": 75.0}, {\"heure\": 7, \"type_veh\": \"2r\", \"nbVeh\": 4.0}, {\"heure\": 7, \"type_veh\": \"pl\", \"nbVeh\": 4.0}, {\"heure\": 7, \"type_veh\": \"vl\", \"nbVeh\": 290.0}, {\"heure\": 8, \"type_veh\": \"2r\", \"nbVeh\": 7.0}, {\"heure\": 8, \"type_veh\": \"pl\", \"nbVeh\": 3.0}, {\"heure\": 8, \"type_veh\": \"vl\", \"nbVeh\": 394.0}, {\"heure\": 9, \"type_veh\": \"2r\", \"nbVeh\": 8.0}, {\"heure\": 9, \"type_veh\": \"pl\", \"nbVeh\": 5.0}, {\"heure\": 9, \"type_veh\": \"vl\", \"nbVeh\": 328.0}, {\"heure\": 10, \"type_veh\": \"2r\", \"nbVeh\": 12.0}, {\"heure\": 10, \"type_veh\": \"pl\", \"nbVeh\": 2.0}, {\"heure\": 10, \"type_veh\": \"vl\", \"nbVeh\": 381.0}, {\"heure\": 11, \"type_veh\": \"2r\", \"nbVeh\": 10.0}, {\"heure\": 11, \"type_veh\": \"pl\", \"nbVeh\": 2.0}, {\"heure\": 11, \"type_veh\": \"vl\", \"nbVeh\": 380.0}, {\"heure\": 12, \"type_veh\": \"2r\", \"nbVeh\": 8.0}, {\"heure\": 12, \"type_veh\": \"pl\", \"nbVeh\": 1.0}, {\"heure\": 12, \"type_veh\": \"vl\", \"nbVeh\": 383.0}, {\"heure\": 13, \"type_veh\": \"2r\", \"nbVeh\": 5.0}, {\"heure\": 13, \"type_veh\": \"pl\", \"nbVeh\": 2.0}, {\"heure\": 13, \"type_veh\": \"vl\", \"nbVeh\": 346.0}, {\"heure\": 14, \"type_veh\": \"2r\", \"nbVeh\": 6.0}, {\"heure\": 14, \"type_veh\": \"pl\", \"nbVeh\": 1.0}, {\"heure\": 14, \"type_veh\": \"vl\", \"nbVeh\": 381.0}, {\"heure\": 15, \"type_veh\": \"2r\", \"nbVeh\": 8.0}, {\"heure\": 15, \"type_veh\": \"pl\", \"nbVeh\": 1.0}, {\"heure\": 15, \"type_veh\": \"vl\", \"nbVeh\": 427.0}, {\"heure\": 16, \"type_veh\": \"2r\", \"nbVeh\": 9.0}, {\"heure\": 16, \"type_veh\": \"pl\", \"nbVeh\": 1.0}, {\"heure\": 16, \"type_veh\": \"vl\", \"nbVeh\": 458.0}, {\"heure\": 17, \"type_veh\": \"2r\", \"nbVeh\": 12.0}, {\"heure\": 17, \"type_veh\": \"pl\", \"nbVeh\": 2.0}, {\"heure\": 17, \"type_veh\": \"vl\", \"nbVeh\": 470.0}, {\"heure\": 18, \"type_veh\": \"2r\", \"nbVeh\": 11.0}, {\"heure\": 18, \"type_veh\": \"pl\", \"nbVeh\": 2.0}, {\"heure\": 18, \"type_veh\": \"vl\", \"nbVeh\": 477.0}, {\"heure\": 19, \"type_veh\": \"2r\", \"nbVeh\": 5.0}, {\"heure\": 19, \"type_veh\": \"pl\", \"nbVeh\": 0.0}, {\"heure\": 19, \"type_veh\": \"vl\", \"nbVeh\": 356.0}, {\"heure\": 20, \"type_veh\": \"2r\", \"nbVeh\": 2.0}, {\"heure\": 20, \"type_veh\": \"pl\", \"nbVeh\": 0.0}, {\"heure\": 20, \"type_veh\": \"vl\", \"nbVeh\": 188.0}, {\"heure\": 21, \"type_veh\": \"2r\", \"nbVeh\": 1.0}, {\"heure\": 21, \"type_veh\": \"pl\", \"nbVeh\": 0.0}, {\"heure\": 21, \"type_veh\": \"vl\", \"nbVeh\": 94.0}, {\"heure\": 22, \"type_veh\": \"2r\", \"nbVeh\": 1.0}, {\"heure\": 22, \"type_veh\": \"pl\", \"nbVeh\": 0.0}, {\"heure\": 22, \"type_veh\": \"vl\", \"nbVeh\": 50.0}]}}, {\"mode\": \"vega-lite\"});\n",
       "</script>"
      ],
      "text/plain": [
       "alt.Chart(...)"
      ]
     },
     "execution_count": 711,
     "metadata": {},
     "output_type": "execute_result"
    }
   ],
   "source": [
    "dicoHoraire['mjo']['sens1']['graph']"
   ]
  },
  {
   "cell_type": "code",
   "execution_count": 732,
   "metadata": {},
   "outputs": [],
   "source": [
    "hpm=round(dfHeureTypeSens.loc[dfHeureTypeSens.heure.isin(range(7,10))].groupby(['sens','type_veh']).nbVeh.sum()/di.NombreDeJours(dfHeureTypeSens)['nbJoursOuvres'],0).reset_index()\n",
    "hps=round(dfHeureTypeSens.loc[dfHeureTypeSens.heure.isin(range(16,19))].groupby(['sens','type_veh']).nbVeh.sum()/di.NombreDeJours(dfHeureTypeSens)['nbJoursOuvres'],0).reset_index()\n",
    "nuit=round(dfHeureTypeSens.loc[dfHeureTypeSens.heure.isin([a for a in range(6)]+[22,23])].groupby(['sens','type_veh']).nbVeh.sum()/di.NombreDeJours(dfHeureTypeSens)['nbJoursOuvres'],0).reset_index()\n",
    "jour=round(dfHeureTypeSens.loc[dfHeureTypeSens.heure.isin(range(6,22))].groupby(['sens','type_veh']).nbVeh.sum()/di.NombreDeJours(dfHeureTypeSens)['nbJoursOuvres'],0).reset_index()"
   ]
  },
  {
   "cell_type": "code",
   "execution_count": 734,
   "metadata": {},
   "outputs": [
    {
     "data": {
      "text/html": [
       "<div>\n",
       "<style scoped>\n",
       "    .dataframe tbody tr th:only-of-type {\n",
       "        vertical-align: middle;\n",
       "    }\n",
       "\n",
       "    .dataframe tbody tr th {\n",
       "        vertical-align: top;\n",
       "    }\n",
       "\n",
       "    .dataframe thead th {\n",
       "        text-align: right;\n",
       "    }\n",
       "</style>\n",
       "<table border=\"1\" class=\"dataframe\">\n",
       "  <thead>\n",
       "    <tr style=\"text-align: right;\">\n",
       "      <th></th>\n",
       "      <th>sens</th>\n",
       "      <th>type_veh</th>\n",
       "      <th>nbVeh</th>\n",
       "    </tr>\n",
       "  </thead>\n",
       "  <tbody>\n",
       "    <tr>\n",
       "      <th>0</th>\n",
       "      <td>sens1</td>\n",
       "      <td>2r</td>\n",
       "      <td>135.0</td>\n",
       "    </tr>\n",
       "    <tr>\n",
       "      <th>1</th>\n",
       "      <td>sens1</td>\n",
       "      <td>pl</td>\n",
       "      <td>29.0</td>\n",
       "    </tr>\n",
       "    <tr>\n",
       "      <th>2</th>\n",
       "      <td>sens1</td>\n",
       "      <td>tv</td>\n",
       "      <td>6825.0</td>\n",
       "    </tr>\n",
       "    <tr>\n",
       "      <th>3</th>\n",
       "      <td>sens1</td>\n",
       "      <td>vl</td>\n",
       "      <td>6660.0</td>\n",
       "    </tr>\n",
       "    <tr>\n",
       "      <th>4</th>\n",
       "      <td>sens2</td>\n",
       "      <td>2r</td>\n",
       "      <td>50.0</td>\n",
       "    </tr>\n",
       "    <tr>\n",
       "      <th>5</th>\n",
       "      <td>sens2</td>\n",
       "      <td>pl</td>\n",
       "      <td>59.0</td>\n",
       "    </tr>\n",
       "    <tr>\n",
       "      <th>6</th>\n",
       "      <td>sens2</td>\n",
       "      <td>tv</td>\n",
       "      <td>6602.0</td>\n",
       "    </tr>\n",
       "    <tr>\n",
       "      <th>7</th>\n",
       "      <td>sens2</td>\n",
       "      <td>vl</td>\n",
       "      <td>6493.0</td>\n",
       "    </tr>\n",
       "  </tbody>\n",
       "</table>\n",
       "</div>"
      ],
      "text/plain": [
       "    sens type_veh   nbVeh\n",
       "0  sens1       2r   135.0\n",
       "1  sens1       pl    29.0\n",
       "2  sens1       tv  6825.0\n",
       "3  sens1       vl  6660.0\n",
       "4  sens2       2r    50.0\n",
       "5  sens2       pl    59.0\n",
       "6  sens2       tv  6602.0\n",
       "7  sens2       vl  6493.0"
      ]
     },
     "execution_count": 734,
     "metadata": {},
     "output_type": "execute_result"
    }
   ],
   "source": [
    "jour"
   ]
  },
  {
   "cell_type": "code",
   "execution_count": null,
   "metadata": {},
   "outputs": [],
   "source": []
  }
 ],
 "metadata": {
  "kernelspec": {
   "display_name": "Python 3",
   "language": "python",
   "name": "python3"
  },
  "language_info": {
   "codemirror_mode": {
    "name": "ipython",
    "version": 3
   },
   "file_extension": ".py",
   "mimetype": "text/x-python",
   "name": "python",
   "nbconvert_exporter": "python",
   "pygments_lexer": "ipython3",
   "version": "3.8.6"
  }
 },
 "nbformat": 4,
 "nbformat_minor": 4
}
