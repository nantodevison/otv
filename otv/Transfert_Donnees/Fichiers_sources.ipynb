{
 "cells": [
  {
   "cell_type": "markdown",
   "metadata": {},
   "source": [
    "# ***EXEMPLE DE TRAITEMENTS DES FICHIERS SOURCES***\n",
    "> exemples pour les FIM, donnees individuelles mixtra, données individuelles viking, ..."
   ]
  },
  {
   "cell_type": "code",
   "execution_count": 120,
   "metadata": {},
   "outputs": [
    {
     "name": "stdout",
     "output_type": "stream",
     "text": [
      "The autoreload extension is already loaded. To reload it, use:\n",
      "  %reload_ext autoreload\n"
     ]
    }
   ],
   "source": [
    "%load_ext autoreload\n",
    "%autoreload 2\n",
    "import sys\n",
    "sys.path.append(r'C:\\Users\\martin.schoreisz\\git\\otv\\otv\\Transfert_Donnees')\n",
    "sys.path.append(r'C:\\Users\\martin.schoreisz\\git\\Outils\\Outils\\Martin_Perso')\n",
    "import pandas as pd\n",
    "import geopandas as gp\n",
    "import numpy as np\n",
    "import altair as alt\n",
    "from datetime import datetime\n",
    "import locale\n",
    "\n",
    "import Donnees_individuelles as di"
   ]
  },
  {
   "cell_type": "code",
   "execution_count": 3,
   "metadata": {},
   "outputs": [
    {
     "data": {
      "text/plain": [
       "'fr_FR'"
      ]
     },
     "execution_count": 3,
     "metadata": {},
     "output_type": "execute_result"
    }
   ],
   "source": [
    "locale.setlocale(locale.LC_TIME, 'fr_FR')"
   ]
  },
  {
   "cell_type": "markdown",
   "metadata": {},
   "source": [
    "# 1. Données individuelles mixtra\n",
    "ces données sont des fichiers excels, sans aucune référence interne au compteur. A chaque véhicule correspond une ligne avec les atributs descroiptifs"
   ]
  },
  {
   "cell_type": "code",
   "execution_count": 443,
   "metadata": {},
   "outputs": [],
   "source": [
    "mixtra=di.Mixtra([r'P:\\DAIT\\TI\\Donnees\\1-ROUTIER\\1 - Aquitaine\\64 - Pyrénées-Atlantiques\\2020\\Biriatou\\7_Juillet\\Tubes\\Individuelle\\P4_TUBES_23_07_20\\V0_02_B.XLS'],\n",
    "                 [r'P:\\DAIT\\TI\\Donnees\\1-ROUTIER\\1 - Aquitaine\\64 - Pyrénées-Atlantiques\\2020\\Biriatou\\7_Juillet\\Tubes\\Individuelle\\P4_TUBES_23_07_20\\V1_02_B.XLS'])"
   ]
  },
  {
   "cell_type": "code",
   "execution_count": null,
   "metadata": {},
   "outputs": [],
   "source": [
    "#calculer la df qui va contenir toute les données horaires\n",
    "dfValide=di.NettoyageTemps(mixtra.NettoyageDonnees())\n",
    "dfHeureTypeSens=di.GroupeCompletude(dfValide)"
   ]
  },
  {
   "cell_type": "code",
   "execution_count": 548,
   "metadata": {},
   "outputs": [],
   "source": [
    "#creer le dico qui va contenir tout les résultats et données intermeédiaires \n",
    "dicoHoraire,dicoJournalier=di.IndicsGraphsHoraires(dfHeureTypeSens,['vl','pl','2r'],['mja','mjo', 'samedi', 'dimanche'],['sens1','sens2','2sens'])"
   ]
  },
  {
   "cell_type": "code",
   "execution_count": 521,
   "metadata": {},
   "outputs": [],
   "source": [
    "#exemple d'appel de résultats\n",
    "dicoHoraire['mjo']['nbJour']\n",
    "dicoHoraire['mja']['nbJour']\n",
    "dicoHoraire['mjo']['2sens']['graph']\n",
    "dicoHoraire['samedi']['sens1']['donnees']\n",
    "dicoJournalier['mja']['type_veh']['graph']\n",
    "dicoJournalier['mjo']['sens']['graph']"
   ]
  },
  {
   "cell_type": "markdown",
   "metadata": {},
   "source": [
    "# 2. Données individuelles viking\n",
    "ces données sont des fichiers excels, sans aucune référence interne au compteur. A chaque véhicule correspond une ligne avec les atributs descroiptifs"
   ]
  },
  {
   "cell_type": "code",
   "execution_count": 316,
   "metadata": {},
   "outputs": [],
   "source": [
    "fichier1Sens=pd.read_csv(r'P:\\DAIT\\TI\\Donnees\\1-ROUTIER\\1 - Aquitaine\\64 - Pyrénées-Atlantiques\\2020\\Biriatou\\7_Juillet\\Radars\\Brut\\rad_S1.VIK',delimiter=' ',\n",
    "                         skiprows=1, names=['sens', 'jour', 'heureMin','secCent', 'vts', 'ser', 'type_veh'],dtype={'heureMin':str,'secCent':str})"
   ]
  },
  {
   "cell_type": "code",
   "execution_count": 317,
   "metadata": {},
   "outputs": [],
   "source": [
    "with open(r'P:\\DAIT\\TI\\Donnees\\1-ROUTIER\\1 - Aquitaine\\64 - Pyrénées-Atlantiques\\2020\\Biriatou\\7_Juillet\\Radars\\Brut\\rad_S1.VIK') as f :\n",
    "    entete=[e.strip() for e in f.readlines()][0]"
   ]
  },
  {
   "cell_type": "code",
   "execution_count": 318,
   "metadata": {},
   "outputs": [],
   "source": [
    "anneeDeb,moisDeb,jourDeb=(entete.split('.')[i].strip() for i in range(5,8))\n",
    "date_debut=pd.to_datetime(f'20{annee}-{mois}-{jour}')"
   ]
  },
  {
   "cell_type": "code",
   "execution_count": 321,
   "metadata": {},
   "outputs": [],
   "source": [
    "def creer_date(jourDeb,moisDeb,anneeDeb, jourMesure,heureMin,secCent) : \n",
    "    \"\"\"\n",
    "    creer la date d'acquisition. Attention : si comptage sur un mois entier ça ne marche pas\n",
    "    \"\"\"\n",
    "    if jourMesure<int(jourDeb) : \n",
    "        moisDeb=str(int(moisDeb)+1)\n",
    "    return pd.to_datetime(f'20{anneeDeb}-{moisDeb}-{jourMesure} {str(heureMin)[:2]}:{str(heureMin)[2:]}:{str(secCent)[:2]}.{str(secCent)[2:]}')\n",
    "fichier1Sens['date_heure']=fichier1Sens.apply(lambda x : creer_date(jourDeb,moisDeb,anneeDeb, x['jour'],x['heureMin'],x['secCent']), axis=1)"
   ]
  },
  {
   "cell_type": "code",
   "execution_count": 322,
   "metadata": {},
   "outputs": [
    {
     "data": {
      "text/html": [
       "<div>\n",
       "<style scoped>\n",
       "    .dataframe tbody tr th:only-of-type {\n",
       "        vertical-align: middle;\n",
       "    }\n",
       "\n",
       "    .dataframe tbody tr th {\n",
       "        vertical-align: top;\n",
       "    }\n",
       "\n",
       "    .dataframe thead th {\n",
       "        text-align: right;\n",
       "    }\n",
       "</style>\n",
       "<table border=\"1\" class=\"dataframe\">\n",
       "  <thead>\n",
       "    <tr style=\"text-align: right;\">\n",
       "      <th></th>\n",
       "      <th>sens</th>\n",
       "      <th>jour</th>\n",
       "      <th>heureMin</th>\n",
       "      <th>secCent</th>\n",
       "      <th>vts</th>\n",
       "      <th>ser</th>\n",
       "      <th>type_veh</th>\n",
       "      <th>date_heure</th>\n",
       "    </tr>\n",
       "  </thead>\n",
       "  <tbody>\n",
       "    <tr>\n",
       "      <th>0</th>\n",
       "      <td>1</td>\n",
       "      <td>8</td>\n",
       "      <td>1240</td>\n",
       "      <td>5764</td>\n",
       "      <td>V=035</td>\n",
       "      <td>S=0743</td>\n",
       "      <td>VL</td>\n",
       "      <td>2020-07-08 12:40:57.640</td>\n",
       "    </tr>\n",
       "    <tr>\n",
       "      <th>1</th>\n",
       "      <td>1</td>\n",
       "      <td>8</td>\n",
       "      <td>1244</td>\n",
       "      <td>4147</td>\n",
       "      <td>V=037</td>\n",
       "      <td>S=0700</td>\n",
       "      <td>VL</td>\n",
       "      <td>2020-07-08 12:44:41.470</td>\n",
       "    </tr>\n",
       "    <tr>\n",
       "      <th>2</th>\n",
       "      <td>1</td>\n",
       "      <td>8</td>\n",
       "      <td>1246</td>\n",
       "      <td>2915</td>\n",
       "      <td>V=036</td>\n",
       "      <td>S=0619</td>\n",
       "      <td>VL</td>\n",
       "      <td>2020-07-08 12:46:29.150</td>\n",
       "    </tr>\n",
       "    <tr>\n",
       "      <th>3</th>\n",
       "      <td>1</td>\n",
       "      <td>8</td>\n",
       "      <td>1247</td>\n",
       "      <td>1528</td>\n",
       "      <td>V=040</td>\n",
       "      <td>S=0768</td>\n",
       "      <td>VL</td>\n",
       "      <td>2020-07-08 12:47:15.280</td>\n",
       "    </tr>\n",
       "    <tr>\n",
       "      <th>4</th>\n",
       "      <td>1</td>\n",
       "      <td>8</td>\n",
       "      <td>1247</td>\n",
       "      <td>2937</td>\n",
       "      <td>V=039</td>\n",
       "      <td>S=0735</td>\n",
       "      <td>VL</td>\n",
       "      <td>2020-07-08 12:47:29.370</td>\n",
       "    </tr>\n",
       "    <tr>\n",
       "      <th>...</th>\n",
       "      <td>...</td>\n",
       "      <td>...</td>\n",
       "      <td>...</td>\n",
       "      <td>...</td>\n",
       "      <td>...</td>\n",
       "      <td>...</td>\n",
       "      <td>...</td>\n",
       "      <td>...</td>\n",
       "    </tr>\n",
       "    <tr>\n",
       "      <th>7681</th>\n",
       "      <td>1</td>\n",
       "      <td>23</td>\n",
       "      <td>1415</td>\n",
       "      <td>0307</td>\n",
       "      <td>V=032</td>\n",
       "      <td>S=0582</td>\n",
       "      <td>VL</td>\n",
       "      <td>2020-07-23 14:15:03.070</td>\n",
       "    </tr>\n",
       "    <tr>\n",
       "      <th>7682</th>\n",
       "      <td>1</td>\n",
       "      <td>23</td>\n",
       "      <td>1415</td>\n",
       "      <td>1605</td>\n",
       "      <td>V=039</td>\n",
       "      <td>S=0600</td>\n",
       "      <td>VL</td>\n",
       "      <td>2020-07-23 14:15:16.050</td>\n",
       "    </tr>\n",
       "    <tr>\n",
       "      <th>7683</th>\n",
       "      <td>1</td>\n",
       "      <td>23</td>\n",
       "      <td>1415</td>\n",
       "      <td>1846</td>\n",
       "      <td>V=037</td>\n",
       "      <td>S=0531</td>\n",
       "      <td>VL</td>\n",
       "      <td>2020-07-23 14:15:18.460</td>\n",
       "    </tr>\n",
       "    <tr>\n",
       "      <th>7684</th>\n",
       "      <td>1</td>\n",
       "      <td>23</td>\n",
       "      <td>1416</td>\n",
       "      <td>4365</td>\n",
       "      <td>V=036</td>\n",
       "      <td>S=0707</td>\n",
       "      <td>VL</td>\n",
       "      <td>2020-07-23 14:16:43.650</td>\n",
       "    </tr>\n",
       "    <tr>\n",
       "      <th>7685</th>\n",
       "      <td>1</td>\n",
       "      <td>23</td>\n",
       "      <td>1417</td>\n",
       "      <td>5643</td>\n",
       "      <td>V=034</td>\n",
       "      <td>S=0618</td>\n",
       "      <td>VL</td>\n",
       "      <td>2020-07-23 14:17:56.430</td>\n",
       "    </tr>\n",
       "  </tbody>\n",
       "</table>\n",
       "<p>7686 rows × 8 columns</p>\n",
       "</div>"
      ],
      "text/plain": [
       "      sens  jour heureMin secCent    vts     ser type_veh  \\\n",
       "0        1     8     1240    5764  V=035  S=0743       VL   \n",
       "1        1     8     1244    4147  V=037  S=0700       VL   \n",
       "2        1     8     1246    2915  V=036  S=0619       VL   \n",
       "3        1     8     1247    1528  V=040  S=0768       VL   \n",
       "4        1     8     1247    2937  V=039  S=0735       VL   \n",
       "...    ...   ...      ...     ...    ...     ...      ...   \n",
       "7681     1    23     1415    0307  V=032  S=0582       VL   \n",
       "7682     1    23     1415    1605  V=039  S=0600       VL   \n",
       "7683     1    23     1415    1846  V=037  S=0531       VL   \n",
       "7684     1    23     1416    4365  V=036  S=0707       VL   \n",
       "7685     1    23     1417    5643  V=034  S=0618       VL   \n",
       "\n",
       "                  date_heure  \n",
       "0    2020-07-08 12:40:57.640  \n",
       "1    2020-07-08 12:44:41.470  \n",
       "2    2020-07-08 12:46:29.150  \n",
       "3    2020-07-08 12:47:15.280  \n",
       "4    2020-07-08 12:47:29.370  \n",
       "...                      ...  \n",
       "7681 2020-07-23 14:15:03.070  \n",
       "7682 2020-07-23 14:15:16.050  \n",
       "7683 2020-07-23 14:15:18.460  \n",
       "7684 2020-07-23 14:16:43.650  \n",
       "7685 2020-07-23 14:17:56.430  \n",
       "\n",
       "[7686 rows x 8 columns]"
      ]
     },
     "execution_count": 322,
     "metadata": {},
     "output_type": "execute_result"
    }
   ],
   "source": [
    "fichier1Sens"
   ]
  },
  {
   "cell_type": "code",
   "execution_count": 421,
   "metadata": {},
   "outputs": [],
   "source": [
    "vik=di.Viking(r'P:\\DAIT\\TI\\Donnees\\1-ROUTIER\\1 - Aquitaine\\64 - Pyrénées-Atlantiques\\2020\\Biriatou\\7_Juillet\\Radars\\Brut\\rad_S1.VIK',\n",
    "             r'P:\\DAIT\\TI\\Donnees\\1-ROUTIER\\1 - Aquitaine\\64 - Pyrénées-Atlantiques\\2020\\Biriatou\\7_Juillet\\Radars\\Brut\\rad_S2.VIK')"
   ]
  },
  {
   "cell_type": "code",
   "execution_count": 423,
   "metadata": {},
   "outputs": [],
   "source": [
    "dfValide, nbJours, nbJoursEffectifs, nbJoursOuvrés=di.NettoyageTemps(vik.fichier2sens)"
   ]
  },
  {
   "cell_type": "code",
   "execution_count": 430,
   "metadata": {},
   "outputs": [],
   "source": [
    "dfHeureTypeSens=di.GroupeCompletude(dfValide)"
   ]
  },
  {
   "cell_type": "code",
   "execution_count": 434,
   "metadata": {},
   "outputs": [],
   "source": [
    "(dfMoyenneJourType,dfMoyenneJourSens,dfMoyenneHeureTypeSensMja,dfMoyenneHeureTypeSensMjo,\n",
    "hpmJo,hpsJo,dfMoyenneHoraireNuit,dfMoyenneHoraireJour,tmja,tmjo)=di.Indicateurs(dfHeureTypeSens,nbJoursEffectifs,nbJoursOuvrés)\n",
    "graphJourType,graphJourSens=di.GraphsMoyennesJours(dfMoyenneJourType,dfMoyenneJourSens)\n",
    "(graphHeureType2SensMja,graphHeureType2SensMjo,graphHeureTypeSens1Mja,graphHeureTypeSens2Mja,\n",
    " graphHeureTypeSens1Mjo,graphHeureTypeSens2Mjo)=di.GraphsMoyenneshoraires(dfMoyenneHeureTypeSensMja,dfMoyenneHeureTypeSensMjo)"
   ]
  },
  {
   "cell_type": "code",
   "execution_count": 437,
   "metadata": {},
   "outputs": [
    {
     "data": {
      "text/html": [
       "\n",
       "<div id=\"altair-viz-ce87b1d475e5477b85c92fba32fd8e7c\"></div>\n",
       "<script type=\"text/javascript\">\n",
       "  (function(spec, embedOpt){\n",
       "    let outputDiv = document.currentScript.previousElementSibling;\n",
       "    if (outputDiv.id !== \"altair-viz-ce87b1d475e5477b85c92fba32fd8e7c\") {\n",
       "      outputDiv = document.getElementById(\"altair-viz-ce87b1d475e5477b85c92fba32fd8e7c\");\n",
       "    }\n",
       "    const paths = {\n",
       "      \"vega\": \"https://cdn.jsdelivr.net/npm//vega@5?noext\",\n",
       "      \"vega-lib\": \"https://cdn.jsdelivr.net/npm//vega-lib?noext\",\n",
       "      \"vega-lite\": \"https://cdn.jsdelivr.net/npm//vega-lite@4.8.1?noext\",\n",
       "      \"vega-embed\": \"https://cdn.jsdelivr.net/npm//vega-embed@6?noext\",\n",
       "    };\n",
       "\n",
       "    function loadScript(lib) {\n",
       "      return new Promise(function(resolve, reject) {\n",
       "        var s = document.createElement('script');\n",
       "        s.src = paths[lib];\n",
       "        s.async = true;\n",
       "        s.onload = () => resolve(paths[lib]);\n",
       "        s.onerror = () => reject(`Error loading script: ${paths[lib]}`);\n",
       "        document.getElementsByTagName(\"head\")[0].appendChild(s);\n",
       "      });\n",
       "    }\n",
       "\n",
       "    function showError(err) {\n",
       "      outputDiv.innerHTML = `<div class=\"error\" style=\"color:red;\">${err}</div>`;\n",
       "      throw err;\n",
       "    }\n",
       "\n",
       "    function displayChart(vegaEmbed) {\n",
       "      vegaEmbed(outputDiv, spec, embedOpt)\n",
       "        .catch(err => showError(`Javascript Error: ${err.message}<br>This usually means there's a typo in your chart specification. See the javascript console for the full traceback.`));\n",
       "    }\n",
       "\n",
       "    if(typeof define === \"function\" && define.amd) {\n",
       "      requirejs.config({paths});\n",
       "      require([\"vega-embed\"], displayChart, err => showError(`Error loading script: ${err.message}`));\n",
       "    } else if (typeof vegaEmbed === \"function\") {\n",
       "      displayChart(vegaEmbed);\n",
       "    } else {\n",
       "      loadScript(\"vega\")\n",
       "        .then(() => loadScript(\"vega-lite\"))\n",
       "        .then(() => loadScript(\"vega-embed\"))\n",
       "        .catch(showError)\n",
       "        .then(() => displayChart(vegaEmbed));\n",
       "    }\n",
       "  })({\"config\": {\"view\": {\"continuousWidth\": 400, \"continuousHeight\": 300}}, \"data\": {\"name\": \"data-4b9471cd7df24fa1d653ba9aed08d74c\"}, \"mark\": \"line\", \"encoding\": {\"color\": {\"type\": \"nominal\", \"field\": \"type_veh\"}, \"x\": {\"type\": \"ordinal\", \"field\": \"heure\"}, \"y\": {\"type\": \"quantitative\", \"field\": \"nbVeh\"}}, \"$schema\": \"https://vega.github.io/schema/vega-lite/v4.8.1.json\", \"datasets\": {\"data-4b9471cd7df24fa1d653ba9aed08d74c\": [{\"heure\": 0, \"type_veh\": \"2r\", \"nbVeh\": 0.0}, {\"heure\": 0, \"type_veh\": \"pl\", \"nbVeh\": 3.0}, {\"heure\": 0, \"type_veh\": \"vl\", \"nbVeh\": 25.0}, {\"heure\": 1, \"type_veh\": \"2r\", \"nbVeh\": 0.0}, {\"heure\": 1, \"type_veh\": \"pl\", \"nbVeh\": 2.0}, {\"heure\": 1, \"type_veh\": \"vl\", \"nbVeh\": 14.0}, {\"heure\": 2, \"type_veh\": \"2r\", \"nbVeh\": 0.0}, {\"heure\": 2, \"type_veh\": \"pl\", \"nbVeh\": 2.0}, {\"heure\": 2, \"type_veh\": \"vl\", \"nbVeh\": 9.0}, {\"heure\": 3, \"type_veh\": \"2r\", \"nbVeh\": 0.0}, {\"heure\": 3, \"type_veh\": \"pl\", \"nbVeh\": 3.0}, {\"heure\": 3, \"type_veh\": \"vl\", \"nbVeh\": 7.0}, {\"heure\": 4, \"type_veh\": \"2r\", \"nbVeh\": 0.0}, {\"heure\": 4, \"type_veh\": \"pl\", \"nbVeh\": 4.0}, {\"heure\": 4, \"type_veh\": \"vl\", \"nbVeh\": 14.0}, {\"heure\": 5, \"type_veh\": \"2r\", \"nbVeh\": 0.0}, {\"heure\": 5, \"type_veh\": \"pl\", \"nbVeh\": 6.0}, {\"heure\": 5, \"type_veh\": \"vl\", \"nbVeh\": 25.0}, {\"heure\": 6, \"type_veh\": \"2r\", \"nbVeh\": 0.0}, {\"heure\": 6, \"type_veh\": \"pl\", \"nbVeh\": 10.0}, {\"heure\": 6, \"type_veh\": \"vl\", \"nbVeh\": 44.0}, {\"heure\": 7, \"type_veh\": \"2r\", \"nbVeh\": 0.0}, {\"heure\": 7, \"type_veh\": \"pl\", \"nbVeh\": 29.0}, {\"heure\": 7, \"type_veh\": \"vl\", \"nbVeh\": 97.0}, {\"heure\": 8, \"type_veh\": \"2r\", \"nbVeh\": 0.0}, {\"heure\": 8, \"type_veh\": \"pl\", \"nbVeh\": 25.0}, {\"heure\": 8, \"type_veh\": \"vl\", \"nbVeh\": 126.0}, {\"heure\": 9, \"type_veh\": \"2r\", \"nbVeh\": 0.0}, {\"heure\": 9, \"type_veh\": \"pl\", \"nbVeh\": 23.0}, {\"heure\": 9, \"type_veh\": \"vl\", \"nbVeh\": 147.0}, {\"heure\": 10, \"type_veh\": \"2r\", \"nbVeh\": 0.0}, {\"heure\": 10, \"type_veh\": \"pl\", \"nbVeh\": 25.0}, {\"heure\": 10, \"type_veh\": \"vl\", \"nbVeh\": 192.0}, {\"heure\": 11, \"type_veh\": \"2r\", \"nbVeh\": 0.0}, {\"heure\": 11, \"type_veh\": \"pl\", \"nbVeh\": 32.0}, {\"heure\": 11, \"type_veh\": \"vl\", \"nbVeh\": 215.0}, {\"heure\": 12, \"type_veh\": \"2r\", \"nbVeh\": 0.0}, {\"heure\": 12, \"type_veh\": \"pl\", \"nbVeh\": 28.0}, {\"heure\": 12, \"type_veh\": \"vl\", \"nbVeh\": 217.0}, {\"heure\": 13, \"type_veh\": \"2r\", \"nbVeh\": 0.0}, {\"heure\": 13, \"type_veh\": \"pl\", \"nbVeh\": 20.0}, {\"heure\": 13, \"type_veh\": \"vl\", \"nbVeh\": 194.0}, {\"heure\": 14, \"type_veh\": \"2r\", \"nbVeh\": 0.0}, {\"heure\": 14, \"type_veh\": \"pl\", \"nbVeh\": 24.0}, {\"heure\": 14, \"type_veh\": \"vl\", \"nbVeh\": 200.0}, {\"heure\": 15, \"type_veh\": \"2r\", \"nbVeh\": 0.0}, {\"heure\": 15, \"type_veh\": \"pl\", \"nbVeh\": 26.0}, {\"heure\": 15, \"type_veh\": \"vl\", \"nbVeh\": 242.0}, {\"heure\": 16, \"type_veh\": \"2r\", \"nbVeh\": 0.0}, {\"heure\": 16, \"type_veh\": \"pl\", \"nbVeh\": 26.0}, {\"heure\": 16, \"type_veh\": \"vl\", \"nbVeh\": 272.0}, {\"heure\": 17, \"type_veh\": \"2r\", \"nbVeh\": 0.0}, {\"heure\": 17, \"type_veh\": \"pl\", \"nbVeh\": 19.0}, {\"heure\": 17, \"type_veh\": \"vl\", \"nbVeh\": 292.0}, {\"heure\": 18, \"type_veh\": \"2r\", \"nbVeh\": 0.0}, {\"heure\": 18, \"type_veh\": \"pl\", \"nbVeh\": 15.0}, {\"heure\": 18, \"type_veh\": \"vl\", \"nbVeh\": 276.0}, {\"heure\": 19, \"type_veh\": \"2r\", \"nbVeh\": 0.0}, {\"heure\": 19, \"type_veh\": \"pl\", \"nbVeh\": 12.0}, {\"heure\": 19, \"type_veh\": \"vl\", \"nbVeh\": 196.0}, {\"heure\": 20, \"type_veh\": \"2r\", \"nbVeh\": 0.0}, {\"heure\": 20, \"type_veh\": \"pl\", \"nbVeh\": 8.0}, {\"heure\": 20, \"type_veh\": \"vl\", \"nbVeh\": 110.0}, {\"heure\": 21, \"type_veh\": \"2r\", \"nbVeh\": 0.0}, {\"heure\": 21, \"type_veh\": \"pl\", \"nbVeh\": 5.0}, {\"heure\": 21, \"type_veh\": \"vl\", \"nbVeh\": 66.0}, {\"heure\": 22, \"type_veh\": \"2r\", \"nbVeh\": 0.0}, {\"heure\": 22, \"type_veh\": \"pl\", \"nbVeh\": 4.0}, {\"heure\": 22, \"type_veh\": \"vl\", \"nbVeh\": 56.0}, {\"heure\": 23, \"type_veh\": \"2r\", \"nbVeh\": 0.0}, {\"heure\": 23, \"type_veh\": \"pl\", \"nbVeh\": 2.0}, {\"heure\": 23, \"type_veh\": \"vl\", \"nbVeh\": 47.0}]}}, {\"mode\": \"vega-lite\"});\n",
       "</script>"
      ],
      "text/plain": [
       "alt.Chart(...)"
      ]
     },
     "execution_count": 437,
     "metadata": {},
     "output_type": "execute_result"
    }
   ],
   "source": [
    "graphHeureType2SensMja"
   ]
  },
  {
   "cell_type": "code",
   "execution_count": 438,
   "metadata": {},
   "outputs": [
    {
     "data": {
      "text/html": [
       "\n",
       "<div id=\"altair-viz-68cc9580f86f4ae4852e4c276b1e57d6\"></div>\n",
       "<script type=\"text/javascript\">\n",
       "  (function(spec, embedOpt){\n",
       "    let outputDiv = document.currentScript.previousElementSibling;\n",
       "    if (outputDiv.id !== \"altair-viz-68cc9580f86f4ae4852e4c276b1e57d6\") {\n",
       "      outputDiv = document.getElementById(\"altair-viz-68cc9580f86f4ae4852e4c276b1e57d6\");\n",
       "    }\n",
       "    const paths = {\n",
       "      \"vega\": \"https://cdn.jsdelivr.net/npm//vega@5?noext\",\n",
       "      \"vega-lib\": \"https://cdn.jsdelivr.net/npm//vega-lib?noext\",\n",
       "      \"vega-lite\": \"https://cdn.jsdelivr.net/npm//vega-lite@4.8.1?noext\",\n",
       "      \"vega-embed\": \"https://cdn.jsdelivr.net/npm//vega-embed@6?noext\",\n",
       "    };\n",
       "\n",
       "    function loadScript(lib) {\n",
       "      return new Promise(function(resolve, reject) {\n",
       "        var s = document.createElement('script');\n",
       "        s.src = paths[lib];\n",
       "        s.async = true;\n",
       "        s.onload = () => resolve(paths[lib]);\n",
       "        s.onerror = () => reject(`Error loading script: ${paths[lib]}`);\n",
       "        document.getElementsByTagName(\"head\")[0].appendChild(s);\n",
       "      });\n",
       "    }\n",
       "\n",
       "    function showError(err) {\n",
       "      outputDiv.innerHTML = `<div class=\"error\" style=\"color:red;\">${err}</div>`;\n",
       "      throw err;\n",
       "    }\n",
       "\n",
       "    function displayChart(vegaEmbed) {\n",
       "      vegaEmbed(outputDiv, spec, embedOpt)\n",
       "        .catch(err => showError(`Javascript Error: ${err.message}<br>This usually means there's a typo in your chart specification. See the javascript console for the full traceback.`));\n",
       "    }\n",
       "\n",
       "    if(typeof define === \"function\" && define.amd) {\n",
       "      requirejs.config({paths});\n",
       "      require([\"vega-embed\"], displayChart, err => showError(`Error loading script: ${err.message}`));\n",
       "    } else if (typeof vegaEmbed === \"function\") {\n",
       "      displayChart(vegaEmbed);\n",
       "    } else {\n",
       "      loadScript(\"vega\")\n",
       "        .then(() => loadScript(\"vega-lite\"))\n",
       "        .then(() => loadScript(\"vega-embed\"))\n",
       "        .catch(showError)\n",
       "        .then(() => displayChart(vegaEmbed));\n",
       "    }\n",
       "  })({\"config\": {\"view\": {\"continuousWidth\": 400, \"continuousHeight\": 300}}, \"data\": {\"name\": \"data-552b93a554dd954a87712299c4878f30\"}, \"mark\": \"line\", \"encoding\": {\"color\": {\"type\": \"nominal\", \"field\": \"type_veh\"}, \"x\": {\"type\": \"ordinal\", \"field\": \"heure\"}, \"y\": {\"type\": \"quantitative\", \"field\": \"nbVeh\"}}, \"$schema\": \"https://vega.github.io/schema/vega-lite/v4.8.1.json\", \"datasets\": {\"data-552b93a554dd954a87712299c4878f30\": [{\"heure\": 0, \"type_veh\": \"2r\", \"nbVeh\": 0.0}, {\"heure\": 0, \"type_veh\": \"pl\", \"nbVeh\": 3.0}, {\"heure\": 0, \"type_veh\": \"vl\", \"nbVeh\": 21.0}, {\"heure\": 1, \"type_veh\": \"2r\", \"nbVeh\": 0.0}, {\"heure\": 1, \"type_veh\": \"pl\", \"nbVeh\": 3.0}, {\"heure\": 1, \"type_veh\": \"vl\", \"nbVeh\": 10.0}, {\"heure\": 2, \"type_veh\": \"2r\", \"nbVeh\": 0.0}, {\"heure\": 2, \"type_veh\": \"pl\", \"nbVeh\": 2.0}, {\"heure\": 2, \"type_veh\": \"vl\", \"nbVeh\": 6.0}, {\"heure\": 3, \"type_veh\": \"2r\", \"nbVeh\": 0.0}, {\"heure\": 3, \"type_veh\": \"pl\", \"nbVeh\": 4.0}, {\"heure\": 3, \"type_veh\": \"vl\", \"nbVeh\": 6.0}, {\"heure\": 4, \"type_veh\": \"2r\", \"nbVeh\": 0.0}, {\"heure\": 4, \"type_veh\": \"pl\", \"nbVeh\": 5.0}, {\"heure\": 4, \"type_veh\": \"vl\", \"nbVeh\": 14.0}, {\"heure\": 5, \"type_veh\": \"2r\", \"nbVeh\": 0.0}, {\"heure\": 5, \"type_veh\": \"pl\", \"nbVeh\": 7.0}, {\"heure\": 5, \"type_veh\": \"vl\", \"nbVeh\": 26.0}, {\"heure\": 6, \"type_veh\": \"2r\", \"nbVeh\": 0.0}, {\"heure\": 6, \"type_veh\": \"pl\", \"nbVeh\": 12.0}, {\"heure\": 6, \"type_veh\": \"vl\", \"nbVeh\": 52.0}, {\"heure\": 7, \"type_veh\": \"2r\", \"nbVeh\": 0.0}, {\"heure\": 7, \"type_veh\": \"pl\", \"nbVeh\": 37.0}, {\"heure\": 7, \"type_veh\": \"vl\", \"nbVeh\": 121.0}, {\"heure\": 8, \"type_veh\": \"2r\", \"nbVeh\": 0.0}, {\"heure\": 8, \"type_veh\": \"pl\", \"nbVeh\": 32.0}, {\"heure\": 8, \"type_veh\": \"vl\", \"nbVeh\": 148.0}, {\"heure\": 9, \"type_veh\": \"2r\", \"nbVeh\": 0.0}, {\"heure\": 9, \"type_veh\": \"pl\", \"nbVeh\": 29.0}, {\"heure\": 9, \"type_veh\": \"vl\", \"nbVeh\": 150.0}, {\"heure\": 10, \"type_veh\": \"2r\", \"nbVeh\": 0.0}, {\"heure\": 10, \"type_veh\": \"pl\", \"nbVeh\": 32.0}, {\"heure\": 10, \"type_veh\": \"vl\", \"nbVeh\": 186.0}, {\"heure\": 11, \"type_veh\": \"2r\", \"nbVeh\": 0.0}, {\"heure\": 11, \"type_veh\": \"pl\", \"nbVeh\": 42.0}, {\"heure\": 11, \"type_veh\": \"vl\", \"nbVeh\": 205.0}, {\"heure\": 12, \"type_veh\": \"2r\", \"nbVeh\": 0.0}, {\"heure\": 12, \"type_veh\": \"pl\", \"nbVeh\": 36.0}, {\"heure\": 12, \"type_veh\": \"vl\", \"nbVeh\": 213.0}, {\"heure\": 13, \"type_veh\": \"2r\", \"nbVeh\": 0.0}, {\"heure\": 13, \"type_veh\": \"pl\", \"nbVeh\": 24.0}, {\"heure\": 13, \"type_veh\": \"vl\", \"nbVeh\": 200.0}, {\"heure\": 14, \"type_veh\": \"2r\", \"nbVeh\": 0.0}, {\"heure\": 14, \"type_veh\": \"pl\", \"nbVeh\": 31.0}, {\"heure\": 14, \"type_veh\": \"vl\", \"nbVeh\": 209.0}, {\"heure\": 15, \"type_veh\": \"2r\", \"nbVeh\": 0.0}, {\"heure\": 15, \"type_veh\": \"pl\", \"nbVeh\": 33.0}, {\"heure\": 15, \"type_veh\": \"vl\", \"nbVeh\": 259.0}, {\"heure\": 16, \"type_veh\": \"2r\", \"nbVeh\": 0.0}, {\"heure\": 16, \"type_veh\": \"pl\", \"nbVeh\": 33.0}, {\"heure\": 16, \"type_veh\": \"vl\", \"nbVeh\": 289.0}, {\"heure\": 17, \"type_veh\": \"2r\", \"nbVeh\": 0.0}, {\"heure\": 17, \"type_veh\": \"pl\", \"nbVeh\": 24.0}, {\"heure\": 17, \"type_veh\": \"vl\", \"nbVeh\": 313.0}, {\"heure\": 18, \"type_veh\": \"2r\", \"nbVeh\": 0.0}, {\"heure\": 18, \"type_veh\": \"pl\", \"nbVeh\": 18.0}, {\"heure\": 18, \"type_veh\": \"vl\", \"nbVeh\": 290.0}, {\"heure\": 19, \"type_veh\": \"2r\", \"nbVeh\": 0.0}, {\"heure\": 19, \"type_veh\": \"pl\", \"nbVeh\": 14.0}, {\"heure\": 19, \"type_veh\": \"vl\", \"nbVeh\": 196.0}, {\"heure\": 20, \"type_veh\": \"2r\", \"nbVeh\": 0.0}, {\"heure\": 20, \"type_veh\": \"pl\", \"nbVeh\": 9.0}, {\"heure\": 20, \"type_veh\": \"vl\", \"nbVeh\": 108.0}, {\"heure\": 21, \"type_veh\": \"2r\", \"nbVeh\": 0.0}, {\"heure\": 21, \"type_veh\": \"pl\", \"nbVeh\": 6.0}, {\"heure\": 21, \"type_veh\": \"vl\", \"nbVeh\": 65.0}, {\"heure\": 22, \"type_veh\": \"2r\", \"nbVeh\": 0.0}, {\"heure\": 22, \"type_veh\": \"pl\", \"nbVeh\": 4.0}, {\"heure\": 22, \"type_veh\": \"vl\", \"nbVeh\": 54.0}, {\"heure\": 23, \"type_veh\": \"2r\", \"nbVeh\": 0.0}, {\"heure\": 23, \"type_veh\": \"pl\", \"nbVeh\": 2.0}, {\"heure\": 23, \"type_veh\": \"vl\", \"nbVeh\": 40.0}]}}, {\"mode\": \"vega-lite\"});\n",
       "</script>"
      ],
      "text/plain": [
       "alt.Chart(...)"
      ]
     },
     "execution_count": 438,
     "metadata": {},
     "output_type": "execute_result"
    }
   ],
   "source": [
    "graphHeureType2SensMjo"
   ]
  },
  {
   "cell_type": "code",
   "execution_count": null,
   "metadata": {},
   "outputs": [],
   "source": []
  }
 ],
 "metadata": {
  "kernelspec": {
   "display_name": "Python 3",
   "language": "python",
   "name": "python3"
  },
  "language_info": {
   "codemirror_mode": {
    "name": "ipython",
    "version": 3
   },
   "file_extension": ".py",
   "mimetype": "text/x-python",
   "name": "python",
   "nbconvert_exporter": "python",
   "pygments_lexer": "ipython3",
   "version": "3.8.6"
  }
 },
 "nbformat": 4,
 "nbformat_minor": 4
}
