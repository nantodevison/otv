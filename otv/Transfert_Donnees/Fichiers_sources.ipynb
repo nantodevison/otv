{
 "cells": [
  {
   "cell_type": "markdown",
   "metadata": {},
   "source": [
    "# ***EXEMPLE DE TRAITEMENTS DES FICHIERS SOURCES***\n",
    "> exemples pour les FIM, donnees individuelles mixtra, données individuelles viking, ..."
   ]
  },
  {
   "cell_type": "code",
   "execution_count": 1,
   "metadata": {},
   "outputs": [],
   "source": [
    "%load_ext autoreload\n",
    "%autoreload 2\n",
    "import sys\n",
    "sys.path.append(r'C:\\Users\\martin.schoreisz\\git\\otv\\otv\\Transfert_Donnees')\n",
    "sys.path.append(r'C:\\Users\\martin.schoreisz\\git\\Outils\\Outils\\Martin_Perso')\n",
    "import pandas as pd\n",
    "import geopandas as gp\n",
    "import numpy as np\n",
    "import altair as alt\n",
    "import plotly.graph_objects as go\n",
    "import plotly.express as px\n",
    "from datetime import datetime\n",
    "import locale, os\n",
    "\n",
    "import Donnees_individuelles as di"
   ]
  },
  {
   "cell_type": "code",
   "execution_count": 4,
   "metadata": {},
   "outputs": [],
   "source": [
    "locale.setlocale(locale.LC_TIME, 'fr_FR')"
   ]
  },
  {
   "cell_type": "markdown",
   "metadata": {},
   "source": [
    "# 1. Données individuelles mixtra\n",
    "ces données sont des fichiers excels, sans aucune référence interne au compteur. A chaque véhicule correspond une ligne avec les atributs descroiptifs"
   ]
  },
  {
   "cell_type": "code",
   "execution_count": 417,
   "metadata": {},
   "outputs": [
    {
     "name": "stdout",
     "output_type": "stream",
     "text": [
      "Q:\\DAIT\\TI\\CA_Angouleme\\2020\\C20SA00-09-10-11_Comptage_linearisation_Angouleme\\Doc_travail\\Donnees_produites\\Donnees\\Comptages\\DonneesBrutes\\P11\\S1_P11_2.XLS\n"
     ]
    }
   ],
   "source": [
    "mixtra=di.Mixtra(r'Q:\\DAIT\\TI\\CA_Angouleme\\2020\\C20SA00-09-10-11_Comptage_linearisation_Angouleme\\Doc_travail\\Donnees_produites\\Donnees\\Comptages\\DonneesBrutes\\P11\\S1_P11_2.XLS')"
   ]
  },
  {
   "cell_type": "markdown",
   "metadata": {},
   "source": [
    "# 2. Données individuelles viking\n",
    "ces données sont des fichiers excels, sans aucune référence interne au compteur. A chaque véhicule correspond une ligne avec les atributs descroiptifs"
   ]
  },
  {
   "cell_type": "code",
   "execution_count": 146,
   "metadata": {},
   "outputs": [],
   "source": [
    "vik=di.Viking(r'Q:\\DAIT\\TI\\CA_Angouleme\\2020\\C20SA00-09-10-11_Comptage_linearisation_Angouleme\\Doc_travail\\Donnees_produites\\Donnees\\Comptages\\DonneesBrutes\\P9\\P9_sens1.VIK')"
   ]
  },
  {
   "cell_type": "code",
   "execution_count": 148,
   "metadata": {},
   "outputs": [
    {
     "data": {
      "text/plain": [
       "jour\n",
       "1     5908\n",
       "2     5996\n",
       "3     5203\n",
       "4     2827\n",
       "5     5510\n",
       "6     5822\n",
       "7     3398\n",
       "28    2167\n",
       "29    5600\n",
       "30    5491\n",
       "Name: nbVeh, dtype: int64"
      ]
     },
     "execution_count": 148,
     "metadata": {},
     "output_type": "execute_result"
    }
   ],
   "source": [
    "vik.dfFichier.groupby(['jour']).nbVeh.sum()"
   ]
  },
  {
   "cell_type": "markdown",
   "metadata": {},
   "source": [
    "# 3. Regroupemnt des deux sens et generalisation a un point de comptage\n",
    "Anlyser l'extension des fichiers sources et ouvrir avec la classe correspondante.<br> le fonctionnement sse base sur le principe que l'esemble des fichiers d'unpoints de comptage est regroupés dans un dossier"
   ]
  },
  {
   "cell_type": "code",
   "execution_count": 2,
   "metadata": {},
   "outputs": [
    {
     "name": "stdout",
     "output_type": "stream",
     "text": [
      "Wall time: 23.7 s\n"
     ]
    }
   ],
   "source": [
    "%%time\n",
    "dossier=r'C:\\Users\\martin.schoreisz\\Documents\\AffairesEnCours\\projet_plugin_comptage\\Re_ donnees_comptage\\DonneesBrutes\\P9'\n",
    "cpt=di.ComptageDonneesIndiv(dossier)"
   ]
  },
  {
   "cell_type": "code",
   "execution_count": 4,
   "metadata": {},
   "outputs": [],
   "source": [
    "cpt.dfHeureTypeSens\n",
    "cpt.dicoNbJours\n",
    "cpt.dfMoyenne"
   ]
  },
  {
   "cell_type": "code",
   "execution_count": 28,
   "metadata": {},
   "outputs": [],
   "source": [
    "#creer le dico qui va contenir tout les résultats et données intermeédiaires \n",
    "dicoHoraire,dicoJournalier=di.IndicsGraphs(cpt.dfMoyenne,['vl','pl','2r'],['mja','mjo', 'samedi', 'dimanche'],['sens1','sens2','2sens'])\n",
    "#récupérer les HPM,HPS,données horaires jour et nuit\n",
    "hpm,hps,nuit,jour,dfMoyenneHorairesSpeciales=di.IndicsPeriodes(cpt.dfMoyenne)\n",
    "#recuperer les jours les plus charges\n",
    "joursCharges=di.JoursCharges(cpt.dfHeureTypeSens)"
   ]
  },
  {
   "cell_type": "code",
   "execution_count": 16,
   "metadata": {},
   "outputs": [
    {
     "data": {
      "application/vnd.plotly.v1+json": {
       "config": {
        "plotlyServerURL": "https://plot.ly"
       },
       "data": [
        {
         "alignmentgroup": "True",
         "hovertemplate": "sens=sens1<br>jour=%{x}<br>nbVeh=%{y}<extra></extra>",
         "legendgroup": "sens1",
         "marker": {
          "color": "#636efa"
         },
         "name": "sens1",
         "offsetgroup": "sens1",
         "orientation": "v",
         "showlegend": true,
         "textposition": "auto",
         "type": "bar",
         "x": [
          "lundi",
          "mardi",
          "mercredi",
          "jeudi",
          "vendredi",
          "samedi",
          "dimanche"
         ],
         "xaxis": "x",
         "y": [
          5510,
          5711,
          5491,
          5908,
          5996,
          5203,
          2827
         ],
         "yaxis": "y"
        },
        {
         "alignmentgroup": "True",
         "hovertemplate": "sens=sens2<br>jour=%{x}<br>nbVeh=%{y}<extra></extra>",
         "legendgroup": "sens2",
         "marker": {
          "color": "#EF553B"
         },
         "name": "sens2",
         "offsetgroup": "sens2",
         "orientation": "v",
         "showlegend": true,
         "textposition": "auto",
         "type": "bar",
         "x": [
          "lundi",
          "mardi",
          "mercredi",
          "jeudi",
          "vendredi",
          "samedi",
          "dimanche"
         ],
         "xaxis": "x",
         "y": [
          5329,
          5603,
          5528,
          5603,
          5956,
          4753,
          2634
         ],
         "yaxis": "y"
        }
       ],
       "layout": {
        "autosize": true,
        "barmode": "group",
        "legend": {
         "title": {
          "text": "sens"
         },
         "tracegroupgap": 0
        },
        "template": {
         "data": {
          "bar": [
           {
            "error_x": {
             "color": "#2a3f5f"
            },
            "error_y": {
             "color": "#2a3f5f"
            },
            "marker": {
             "line": {
              "color": "#E5ECF6",
              "width": 0.5
             }
            },
            "type": "bar"
           }
          ],
          "barpolar": [
           {
            "marker": {
             "line": {
              "color": "#E5ECF6",
              "width": 0.5
             }
            },
            "type": "barpolar"
           }
          ],
          "carpet": [
           {
            "aaxis": {
             "endlinecolor": "#2a3f5f",
             "gridcolor": "white",
             "linecolor": "white",
             "minorgridcolor": "white",
             "startlinecolor": "#2a3f5f"
            },
            "baxis": {
             "endlinecolor": "#2a3f5f",
             "gridcolor": "white",
             "linecolor": "white",
             "minorgridcolor": "white",
             "startlinecolor": "#2a3f5f"
            },
            "type": "carpet"
           }
          ],
          "choropleth": [
           {
            "colorbar": {
             "outlinewidth": 0,
             "ticks": ""
            },
            "type": "choropleth"
           }
          ],
          "contour": [
           {
            "colorbar": {
             "outlinewidth": 0,
             "ticks": ""
            },
            "colorscale": [
             [
              0,
              "#0d0887"
             ],
             [
              0.1111111111111111,
              "#46039f"
             ],
             [
              0.2222222222222222,
              "#7201a8"
             ],
             [
              0.3333333333333333,
              "#9c179e"
             ],
             [
              0.4444444444444444,
              "#bd3786"
             ],
             [
              0.5555555555555556,
              "#d8576b"
             ],
             [
              0.6666666666666666,
              "#ed7953"
             ],
             [
              0.7777777777777778,
              "#fb9f3a"
             ],
             [
              0.8888888888888888,
              "#fdca26"
             ],
             [
              1,
              "#f0f921"
             ]
            ],
            "type": "contour"
           }
          ],
          "contourcarpet": [
           {
            "colorbar": {
             "outlinewidth": 0,
             "ticks": ""
            },
            "type": "contourcarpet"
           }
          ],
          "heatmap": [
           {
            "colorbar": {
             "outlinewidth": 0,
             "ticks": ""
            },
            "colorscale": [
             [
              0,
              "#0d0887"
             ],
             [
              0.1111111111111111,
              "#46039f"
             ],
             [
              0.2222222222222222,
              "#7201a8"
             ],
             [
              0.3333333333333333,
              "#9c179e"
             ],
             [
              0.4444444444444444,
              "#bd3786"
             ],
             [
              0.5555555555555556,
              "#d8576b"
             ],
             [
              0.6666666666666666,
              "#ed7953"
             ],
             [
              0.7777777777777778,
              "#fb9f3a"
             ],
             [
              0.8888888888888888,
              "#fdca26"
             ],
             [
              1,
              "#f0f921"
             ]
            ],
            "type": "heatmap"
           }
          ],
          "heatmapgl": [
           {
            "colorbar": {
             "outlinewidth": 0,
             "ticks": ""
            },
            "colorscale": [
             [
              0,
              "#0d0887"
             ],
             [
              0.1111111111111111,
              "#46039f"
             ],
             [
              0.2222222222222222,
              "#7201a8"
             ],
             [
              0.3333333333333333,
              "#9c179e"
             ],
             [
              0.4444444444444444,
              "#bd3786"
             ],
             [
              0.5555555555555556,
              "#d8576b"
             ],
             [
              0.6666666666666666,
              "#ed7953"
             ],
             [
              0.7777777777777778,
              "#fb9f3a"
             ],
             [
              0.8888888888888888,
              "#fdca26"
             ],
             [
              1,
              "#f0f921"
             ]
            ],
            "type": "heatmapgl"
           }
          ],
          "histogram": [
           {
            "marker": {
             "colorbar": {
              "outlinewidth": 0,
              "ticks": ""
             }
            },
            "type": "histogram"
           }
          ],
          "histogram2d": [
           {
            "colorbar": {
             "outlinewidth": 0,
             "ticks": ""
            },
            "colorscale": [
             [
              0,
              "#0d0887"
             ],
             [
              0.1111111111111111,
              "#46039f"
             ],
             [
              0.2222222222222222,
              "#7201a8"
             ],
             [
              0.3333333333333333,
              "#9c179e"
             ],
             [
              0.4444444444444444,
              "#bd3786"
             ],
             [
              0.5555555555555556,
              "#d8576b"
             ],
             [
              0.6666666666666666,
              "#ed7953"
             ],
             [
              0.7777777777777778,
              "#fb9f3a"
             ],
             [
              0.8888888888888888,
              "#fdca26"
             ],
             [
              1,
              "#f0f921"
             ]
            ],
            "type": "histogram2d"
           }
          ],
          "histogram2dcontour": [
           {
            "colorbar": {
             "outlinewidth": 0,
             "ticks": ""
            },
            "colorscale": [
             [
              0,
              "#0d0887"
             ],
             [
              0.1111111111111111,
              "#46039f"
             ],
             [
              0.2222222222222222,
              "#7201a8"
             ],
             [
              0.3333333333333333,
              "#9c179e"
             ],
             [
              0.4444444444444444,
              "#bd3786"
             ],
             [
              0.5555555555555556,
              "#d8576b"
             ],
             [
              0.6666666666666666,
              "#ed7953"
             ],
             [
              0.7777777777777778,
              "#fb9f3a"
             ],
             [
              0.8888888888888888,
              "#fdca26"
             ],
             [
              1,
              "#f0f921"
             ]
            ],
            "type": "histogram2dcontour"
           }
          ],
          "mesh3d": [
           {
            "colorbar": {
             "outlinewidth": 0,
             "ticks": ""
            },
            "type": "mesh3d"
           }
          ],
          "parcoords": [
           {
            "line": {
             "colorbar": {
              "outlinewidth": 0,
              "ticks": ""
             }
            },
            "type": "parcoords"
           }
          ],
          "pie": [
           {
            "automargin": true,
            "type": "pie"
           }
          ],
          "scatter": [
           {
            "marker": {
             "colorbar": {
              "outlinewidth": 0,
              "ticks": ""
             }
            },
            "type": "scatter"
           }
          ],
          "scatter3d": [
           {
            "line": {
             "colorbar": {
              "outlinewidth": 0,
              "ticks": ""
             }
            },
            "marker": {
             "colorbar": {
              "outlinewidth": 0,
              "ticks": ""
             }
            },
            "type": "scatter3d"
           }
          ],
          "scattercarpet": [
           {
            "marker": {
             "colorbar": {
              "outlinewidth": 0,
              "ticks": ""
             }
            },
            "type": "scattercarpet"
           }
          ],
          "scattergeo": [
           {
            "marker": {
             "colorbar": {
              "outlinewidth": 0,
              "ticks": ""
             }
            },
            "type": "scattergeo"
           }
          ],
          "scattergl": [
           {
            "marker": {
             "colorbar": {
              "outlinewidth": 0,
              "ticks": ""
             }
            },
            "type": "scattergl"
           }
          ],
          "scattermapbox": [
           {
            "marker": {
             "colorbar": {
              "outlinewidth": 0,
              "ticks": ""
             }
            },
            "type": "scattermapbox"
           }
          ],
          "scatterpolar": [
           {
            "marker": {
             "colorbar": {
              "outlinewidth": 0,
              "ticks": ""
             }
            },
            "type": "scatterpolar"
           }
          ],
          "scatterpolargl": [
           {
            "marker": {
             "colorbar": {
              "outlinewidth": 0,
              "ticks": ""
             }
            },
            "type": "scatterpolargl"
           }
          ],
          "scatterternary": [
           {
            "marker": {
             "colorbar": {
              "outlinewidth": 0,
              "ticks": ""
             }
            },
            "type": "scatterternary"
           }
          ],
          "surface": [
           {
            "colorbar": {
             "outlinewidth": 0,
             "ticks": ""
            },
            "colorscale": [
             [
              0,
              "#0d0887"
             ],
             [
              0.1111111111111111,
              "#46039f"
             ],
             [
              0.2222222222222222,
              "#7201a8"
             ],
             [
              0.3333333333333333,
              "#9c179e"
             ],
             [
              0.4444444444444444,
              "#bd3786"
             ],
             [
              0.5555555555555556,
              "#d8576b"
             ],
             [
              0.6666666666666666,
              "#ed7953"
             ],
             [
              0.7777777777777778,
              "#fb9f3a"
             ],
             [
              0.8888888888888888,
              "#fdca26"
             ],
             [
              1,
              "#f0f921"
             ]
            ],
            "type": "surface"
           }
          ],
          "table": [
           {
            "cells": {
             "fill": {
              "color": "#EBF0F8"
             },
             "line": {
              "color": "white"
             }
            },
            "header": {
             "fill": {
              "color": "#C8D4E3"
             },
             "line": {
              "color": "white"
             }
            },
            "type": "table"
           }
          ]
         },
         "layout": {
          "annotationdefaults": {
           "arrowcolor": "#2a3f5f",
           "arrowhead": 0,
           "arrowwidth": 1
          },
          "coloraxis": {
           "colorbar": {
            "outlinewidth": 0,
            "ticks": ""
           }
          },
          "colorscale": {
           "diverging": [
            [
             0,
             "#8e0152"
            ],
            [
             0.1,
             "#c51b7d"
            ],
            [
             0.2,
             "#de77ae"
            ],
            [
             0.3,
             "#f1b6da"
            ],
            [
             0.4,
             "#fde0ef"
            ],
            [
             0.5,
             "#f7f7f7"
            ],
            [
             0.6,
             "#e6f5d0"
            ],
            [
             0.7,
             "#b8e186"
            ],
            [
             0.8,
             "#7fbc41"
            ],
            [
             0.9,
             "#4d9221"
            ],
            [
             1,
             "#276419"
            ]
           ],
           "sequential": [
            [
             0,
             "#0d0887"
            ],
            [
             0.1111111111111111,
             "#46039f"
            ],
            [
             0.2222222222222222,
             "#7201a8"
            ],
            [
             0.3333333333333333,
             "#9c179e"
            ],
            [
             0.4444444444444444,
             "#bd3786"
            ],
            [
             0.5555555555555556,
             "#d8576b"
            ],
            [
             0.6666666666666666,
             "#ed7953"
            ],
            [
             0.7777777777777778,
             "#fb9f3a"
            ],
            [
             0.8888888888888888,
             "#fdca26"
            ],
            [
             1,
             "#f0f921"
            ]
           ],
           "sequentialminus": [
            [
             0,
             "#0d0887"
            ],
            [
             0.1111111111111111,
             "#46039f"
            ],
            [
             0.2222222222222222,
             "#7201a8"
            ],
            [
             0.3333333333333333,
             "#9c179e"
            ],
            [
             0.4444444444444444,
             "#bd3786"
            ],
            [
             0.5555555555555556,
             "#d8576b"
            ],
            [
             0.6666666666666666,
             "#ed7953"
            ],
            [
             0.7777777777777778,
             "#fb9f3a"
            ],
            [
             0.8888888888888888,
             "#fdca26"
            ],
            [
             1,
             "#f0f921"
            ]
           ]
          },
          "colorway": [
           "#636efa",
           "#EF553B",
           "#00cc96",
           "#ab63fa",
           "#FFA15A",
           "#19d3f3",
           "#FF6692",
           "#B6E880",
           "#FF97FF",
           "#FECB52"
          ],
          "font": {
           "color": "#2a3f5f"
          },
          "geo": {
           "bgcolor": "white",
           "lakecolor": "white",
           "landcolor": "#E5ECF6",
           "showlakes": true,
           "showland": true,
           "subunitcolor": "white"
          },
          "hoverlabel": {
           "align": "left"
          },
          "hovermode": "closest",
          "mapbox": {
           "style": "light"
          },
          "paper_bgcolor": "white",
          "plot_bgcolor": "#E5ECF6",
          "polar": {
           "angularaxis": {
            "gridcolor": "white",
            "linecolor": "white",
            "ticks": ""
           },
           "bgcolor": "#E5ECF6",
           "radialaxis": {
            "gridcolor": "white",
            "linecolor": "white",
            "ticks": ""
           }
          },
          "scene": {
           "xaxis": {
            "backgroundcolor": "#E5ECF6",
            "gridcolor": "white",
            "gridwidth": 2,
            "linecolor": "white",
            "showbackground": true,
            "ticks": "",
            "zerolinecolor": "white"
           },
           "yaxis": {
            "backgroundcolor": "#E5ECF6",
            "gridcolor": "white",
            "gridwidth": 2,
            "linecolor": "white",
            "showbackground": true,
            "ticks": "",
            "zerolinecolor": "white"
           },
           "zaxis": {
            "backgroundcolor": "#E5ECF6",
            "gridcolor": "white",
            "gridwidth": 2,
            "linecolor": "white",
            "showbackground": true,
            "ticks": "",
            "zerolinecolor": "white"
           }
          },
          "shapedefaults": {
           "line": {
            "color": "#2a3f5f"
           }
          },
          "ternary": {
           "aaxis": {
            "gridcolor": "white",
            "linecolor": "white",
            "ticks": ""
           },
           "baxis": {
            "gridcolor": "white",
            "linecolor": "white",
            "ticks": ""
           },
           "bgcolor": "#E5ECF6",
           "caxis": {
            "gridcolor": "white",
            "linecolor": "white",
            "ticks": ""
           }
          },
          "title": {
           "x": 0.05
          },
          "xaxis": {
           "automargin": true,
           "gridcolor": "white",
           "linecolor": "white",
           "ticks": "",
           "title": {
            "standoff": 15
           },
           "zerolinecolor": "white",
           "zerolinewidth": 2
          },
          "yaxis": {
           "automargin": true,
           "gridcolor": "white",
           "linecolor": "white",
           "ticks": "",
           "title": {
            "standoff": 15
           },
           "zerolinecolor": "white",
           "zerolinewidth": 2
          }
         }
        },
        "title": {
         "text": " Comparaison des sens ; mja"
        },
        "xaxis": {
         "anchor": "y",
         "autorange": true,
         "domain": [
          0,
          1
         ],
         "range": [
          -0.5,
          6.5
         ],
         "title": {
          "text": "jour"
         },
         "type": "category"
        },
        "yaxis": {
         "anchor": "x",
         "autorange": true,
         "domain": [
          0,
          1
         ],
         "range": [
          0,
          6311.578947368421
         ],
         "title": {
          "text": "nbVeh"
         },
         "type": "linear"
        }
       }
      },
      "image/png": "[encoded data removed]",
      "text/html": [
       "<div>                            <div id=\"38e3aac4-fd35-4420-85d3-5850e275e6e3\" class=\"plotly-graph-div\" style=\"height:525px; width:100%;\"></div>            <script type=\"text/javascript\">                require([\"plotly\"], function(Plotly) {                    window.PLOTLYENV=window.PLOTLYENV || {};                                    if (document.getElementById(\"38e3aac4-fd35-4420-85d3-5850e275e6e3\")) {                    Plotly.newPlot(                        \"38e3aac4-fd35-4420-85d3-5850e275e6e3\",                        [{\"alignmentgroup\": \"True\", \"hovertemplate\": \"sens=sens1<br>jour=%{x}<br>nbVeh=%{y}<extra></extra>\", \"legendgroup\": \"sens1\", \"marker\": {\"color\": \"#636efa\"}, \"name\": \"sens1\", \"offsetgroup\": \"sens1\", \"orientation\": \"v\", \"showlegend\": true, \"textposition\": \"auto\", \"type\": \"bar\", \"x\": [\"lundi\", \"mardi\", \"mercredi\", \"jeudi\", \"vendredi\", \"samedi\", \"dimanche\"], \"xaxis\": \"x\", \"y\": [5510.0, 5711.0, 5491.0, 5908.0, 5996.0, 5203.0, 2827.0], \"yaxis\": \"y\"}, {\"alignmentgroup\": \"True\", \"hovertemplate\": \"sens=sens2<br>jour=%{x}<br>nbVeh=%{y}<extra></extra>\", \"legendgroup\": \"sens2\", \"marker\": {\"color\": \"#EF553B\"}, \"name\": \"sens2\", \"offsetgroup\": \"sens2\", \"orientation\": \"v\", \"showlegend\": true, \"textposition\": \"auto\", \"type\": \"bar\", \"x\": [\"lundi\", \"mardi\", \"mercredi\", \"jeudi\", \"vendredi\", \"samedi\", \"dimanche\"], \"xaxis\": \"x\", \"y\": [5329.0, 5603.0, 5528.0, 5603.0, 5956.0, 4753.0, 2634.0], \"yaxis\": \"y\"}],                        {\"barmode\": \"group\", \"legend\": {\"title\": {\"text\": \"sens\"}, \"tracegroupgap\": 0}, \"template\": {\"data\": {\"bar\": [{\"error_x\": {\"color\": \"#2a3f5f\"}, \"error_y\": {\"color\": \"#2a3f5f\"}, \"marker\": {\"line\": {\"color\": \"#E5ECF6\", \"width\": 0.5}}, \"type\": \"bar\"}], \"barpolar\": [{\"marker\": {\"line\": {\"color\": \"#E5ECF6\", \"width\": 0.5}}, \"type\": \"barpolar\"}], \"carpet\": [{\"aaxis\": {\"endlinecolor\": \"#2a3f5f\", \"gridcolor\": \"white\", \"linecolor\": \"white\", \"minorgridcolor\": \"white\", \"startlinecolor\": \"#2a3f5f\"}, \"baxis\": {\"endlinecolor\": \"#2a3f5f\", \"gridcolor\": \"white\", \"linecolor\": \"white\", \"minorgridcolor\": \"white\", \"startlinecolor\": \"#2a3f5f\"}, \"type\": \"carpet\"}], \"choropleth\": [{\"colorbar\": {\"outlinewidth\": 0, \"ticks\": \"\"}, \"type\": \"choropleth\"}], \"contour\": [{\"colorbar\": {\"outlinewidth\": 0, \"ticks\": \"\"}, \"colorscale\": [[0.0, \"#0d0887\"], [0.1111111111111111, \"#46039f\"], [0.2222222222222222, \"#7201a8\"], [0.3333333333333333, \"#9c179e\"], [0.4444444444444444, \"#bd3786\"], [0.5555555555555556, \"#d8576b\"], [0.6666666666666666, \"#ed7953\"], [0.7777777777777778, \"#fb9f3a\"], [0.8888888888888888, \"#fdca26\"], [1.0, \"#f0f921\"]], \"type\": \"contour\"}], \"contourcarpet\": [{\"colorbar\": {\"outlinewidth\": 0, \"ticks\": \"\"}, \"type\": \"contourcarpet\"}], \"heatmap\": [{\"colorbar\": {\"outlinewidth\": 0, \"ticks\": \"\"}, \"colorscale\": [[0.0, \"#0d0887\"], [0.1111111111111111, \"#46039f\"], [0.2222222222222222, \"#7201a8\"], [0.3333333333333333, \"#9c179e\"], [0.4444444444444444, \"#bd3786\"], [0.5555555555555556, \"#d8576b\"], [0.6666666666666666, \"#ed7953\"], [0.7777777777777778, \"#fb9f3a\"], [0.8888888888888888, \"#fdca26\"], [1.0, \"#f0f921\"]], \"type\": \"heatmap\"}], \"heatmapgl\": [{\"colorbar\": {\"outlinewidth\": 0, \"ticks\": \"\"}, \"colorscale\": [[0.0, \"#0d0887\"], [0.1111111111111111, \"#46039f\"], [0.2222222222222222, \"#7201a8\"], [0.3333333333333333, \"#9c179e\"], [0.4444444444444444, \"#bd3786\"], [0.5555555555555556, \"#d8576b\"], [0.6666666666666666, \"#ed7953\"], [0.7777777777777778, \"#fb9f3a\"], [0.8888888888888888, \"#fdca26\"], [1.0, \"#f0f921\"]], \"type\": \"heatmapgl\"}], \"histogram\": [{\"marker\": {\"colorbar\": {\"outlinewidth\": 0, \"ticks\": \"\"}}, \"type\": \"histogram\"}], \"histogram2d\": [{\"colorbar\": {\"outlinewidth\": 0, \"ticks\": \"\"}, \"colorscale\": [[0.0, \"#0d0887\"], [0.1111111111111111, \"#46039f\"], [0.2222222222222222, \"#7201a8\"], [0.3333333333333333, \"#9c179e\"], [0.4444444444444444, \"#bd3786\"], [0.5555555555555556, \"#d8576b\"], [0.6666666666666666, \"#ed7953\"], [0.7777777777777778, \"#fb9f3a\"], [0.8888888888888888, \"#fdca26\"], [1.0, \"#f0f921\"]], \"type\": \"histogram2d\"}], \"histogram2dcontour\": [{\"colorbar\": {\"outlinewidth\": 0, \"ticks\": \"\"}, \"colorscale\": [[0.0, \"#0d0887\"], [0.1111111111111111, \"#46039f\"], [0.2222222222222222, \"#7201a8\"], [0.3333333333333333, \"#9c179e\"], [0.4444444444444444, \"#bd3786\"], [0.5555555555555556, \"#d8576b\"], [0.6666666666666666, \"#ed7953\"], [0.7777777777777778, \"#fb9f3a\"], [0.8888888888888888, \"#fdca26\"], [1.0, \"#f0f921\"]], \"type\": \"histogram2dcontour\"}], \"mesh3d\": [{\"colorbar\": {\"outlinewidth\": 0, \"ticks\": \"\"}, \"type\": \"mesh3d\"}], \"parcoords\": [{\"line\": {\"colorbar\": {\"outlinewidth\": 0, \"ticks\": \"\"}}, \"type\": \"parcoords\"}], \"pie\": [{\"automargin\": true, \"type\": \"pie\"}], \"scatter\": [{\"marker\": {\"colorbar\": {\"outlinewidth\": 0, \"ticks\": \"\"}}, \"type\": \"scatter\"}], \"scatter3d\": [{\"line\": {\"colorbar\": {\"outlinewidth\": 0, \"ticks\": \"\"}}, \"marker\": {\"colorbar\": {\"outlinewidth\": 0, \"ticks\": \"\"}}, \"type\": \"scatter3d\"}], \"scattercarpet\": [{\"marker\": {\"colorbar\": {\"outlinewidth\": 0, \"ticks\": \"\"}}, \"type\": \"scattercarpet\"}], \"scattergeo\": [{\"marker\": {\"colorbar\": {\"outlinewidth\": 0, \"ticks\": \"\"}}, \"type\": \"scattergeo\"}], \"scattergl\": [{\"marker\": {\"colorbar\": {\"outlinewidth\": 0, \"ticks\": \"\"}}, \"type\": \"scattergl\"}], \"scattermapbox\": [{\"marker\": {\"colorbar\": {\"outlinewidth\": 0, \"ticks\": \"\"}}, \"type\": \"scattermapbox\"}], \"scatterpolar\": [{\"marker\": {\"colorbar\": {\"outlinewidth\": 0, \"ticks\": \"\"}}, \"type\": \"scatterpolar\"}], \"scatterpolargl\": [{\"marker\": {\"colorbar\": {\"outlinewidth\": 0, \"ticks\": \"\"}}, \"type\": \"scatterpolargl\"}], \"scatterternary\": [{\"marker\": {\"colorbar\": {\"outlinewidth\": 0, \"ticks\": \"\"}}, \"type\": \"scatterternary\"}], \"surface\": [{\"colorbar\": {\"outlinewidth\": 0, \"ticks\": \"\"}, \"colorscale\": [[0.0, \"#0d0887\"], [0.1111111111111111, \"#46039f\"], [0.2222222222222222, \"#7201a8\"], [0.3333333333333333, \"#9c179e\"], [0.4444444444444444, \"#bd3786\"], [0.5555555555555556, \"#d8576b\"], [0.6666666666666666, \"#ed7953\"], [0.7777777777777778, \"#fb9f3a\"], [0.8888888888888888, \"#fdca26\"], [1.0, \"#f0f921\"]], \"type\": \"surface\"}], \"table\": [{\"cells\": {\"fill\": {\"color\": \"#EBF0F8\"}, \"line\": {\"color\": \"white\"}}, \"header\": {\"fill\": {\"color\": \"#C8D4E3\"}, \"line\": {\"color\": \"white\"}}, \"type\": \"table\"}]}, \"layout\": {\"annotationdefaults\": {\"arrowcolor\": \"#2a3f5f\", \"arrowhead\": 0, \"arrowwidth\": 1}, \"coloraxis\": {\"colorbar\": {\"outlinewidth\": 0, \"ticks\": \"\"}}, \"colorscale\": {\"diverging\": [[0, \"#8e0152\"], [0.1, \"#c51b7d\"], [0.2, \"#de77ae\"], [0.3, \"#f1b6da\"], [0.4, \"#fde0ef\"], [0.5, \"#f7f7f7\"], [0.6, \"#e6f5d0\"], [0.7, \"#b8e186\"], [0.8, \"#7fbc41\"], [0.9, \"#4d9221\"], [1, \"#276419\"]], \"sequential\": [[0.0, \"#0d0887\"], [0.1111111111111111, \"#46039f\"], [0.2222222222222222, \"#7201a8\"], [0.3333333333333333, \"#9c179e\"], [0.4444444444444444, \"#bd3786\"], [0.5555555555555556, \"#d8576b\"], [0.6666666666666666, \"#ed7953\"], [0.7777777777777778, \"#fb9f3a\"], [0.8888888888888888, \"#fdca26\"], [1.0, \"#f0f921\"]], \"sequentialminus\": [[0.0, \"#0d0887\"], [0.1111111111111111, \"#46039f\"], [0.2222222222222222, \"#7201a8\"], [0.3333333333333333, \"#9c179e\"], [0.4444444444444444, \"#bd3786\"], [0.5555555555555556, \"#d8576b\"], [0.6666666666666666, \"#ed7953\"], [0.7777777777777778, \"#fb9f3a\"], [0.8888888888888888, \"#fdca26\"], [1.0, \"#f0f921\"]]}, \"colorway\": [\"#636efa\", \"#EF553B\", \"#00cc96\", \"#ab63fa\", \"#FFA15A\", \"#19d3f3\", \"#FF6692\", \"#B6E880\", \"#FF97FF\", \"#FECB52\"], \"font\": {\"color\": \"#2a3f5f\"}, \"geo\": {\"bgcolor\": \"white\", \"lakecolor\": \"white\", \"landcolor\": \"#E5ECF6\", \"showlakes\": true, \"showland\": true, \"subunitcolor\": \"white\"}, \"hoverlabel\": {\"align\": \"left\"}, \"hovermode\": \"closest\", \"mapbox\": {\"style\": \"light\"}, \"paper_bgcolor\": \"white\", \"plot_bgcolor\": \"#E5ECF6\", \"polar\": {\"angularaxis\": {\"gridcolor\": \"white\", \"linecolor\": \"white\", \"ticks\": \"\"}, \"bgcolor\": \"#E5ECF6\", \"radialaxis\": {\"gridcolor\": \"white\", \"linecolor\": \"white\", \"ticks\": \"\"}}, \"scene\": {\"xaxis\": {\"backgroundcolor\": \"#E5ECF6\", \"gridcolor\": \"white\", \"gridwidth\": 2, \"linecolor\": \"white\", \"showbackground\": true, \"ticks\": \"\", \"zerolinecolor\": \"white\"}, \"yaxis\": {\"backgroundcolor\": \"#E5ECF6\", \"gridcolor\": \"white\", \"gridwidth\": 2, \"linecolor\": \"white\", \"showbackground\": true, \"ticks\": \"\", \"zerolinecolor\": \"white\"}, \"zaxis\": {\"backgroundcolor\": \"#E5ECF6\", \"gridcolor\": \"white\", \"gridwidth\": 2, \"linecolor\": \"white\", \"showbackground\": true, \"ticks\": \"\", \"zerolinecolor\": \"white\"}}, \"shapedefaults\": {\"line\": {\"color\": \"#2a3f5f\"}}, \"ternary\": {\"aaxis\": {\"gridcolor\": \"white\", \"linecolor\": \"white\", \"ticks\": \"\"}, \"baxis\": {\"gridcolor\": \"white\", \"linecolor\": \"white\", \"ticks\": \"\"}, \"bgcolor\": \"#E5ECF6\", \"caxis\": {\"gridcolor\": \"white\", \"linecolor\": \"white\", \"ticks\": \"\"}}, \"title\": {\"x\": 0.05}, \"xaxis\": {\"automargin\": true, \"gridcolor\": \"white\", \"linecolor\": \"white\", \"ticks\": \"\", \"title\": {\"standoff\": 15}, \"zerolinecolor\": \"white\", \"zerolinewidth\": 2}, \"yaxis\": {\"automargin\": true, \"gridcolor\": \"white\", \"linecolor\": \"white\", \"ticks\": \"\", \"title\": {\"standoff\": 15}, \"zerolinecolor\": \"white\", \"zerolinewidth\": 2}}}, \"title\": {\"text\": \" Comparaison des sens ; mja\"}, \"xaxis\": {\"anchor\": \"y\", \"domain\": [0.0, 1.0], \"title\": {\"text\": \"jour\"}}, \"yaxis\": {\"anchor\": \"x\", \"domain\": [0.0, 1.0], \"title\": {\"text\": \"nbVeh\"}}},                        {\"responsive\": true}                    ).then(function(){\n",
       "                            \n",
       "var gd = document.getElementById('38e3aac4-fd35-4420-85d3-5850e275e6e3');\n",
       "var x = new MutationObserver(function (mutations, observer) {{\n",
       "        var display = window.getComputedStyle(gd).display;\n",
       "        if (!display || display === 'none') {{\n",
       "            console.log([gd, 'removed!']);\n",
       "            Plotly.purge(gd);\n",
       "            observer.disconnect();\n",
       "        }}\n",
       "}});\n",
       "\n",
       "// Listen for the removal of the full notebook cells\n",
       "var notebookContainer = gd.closest('#notebook-container');\n",
       "if (notebookContainer) {{\n",
       "    x.observe(notebookContainer, {childList: true});\n",
       "}}\n",
       "\n",
       "// Listen for the clearing of the current output cell\n",
       "var outputEl = gd.closest('.output');\n",
       "if (outputEl) {{\n",
       "    x.observe(outputEl, {childList: true});\n",
       "}}\n",
       "\n",
       "                        })                };                });            </script>        </div>"
      ]
     },
     "metadata": {},
     "output_type": "display_data"
    }
   ],
   "source": [
    "#exemple d'appel de résultats du dico\n",
    "dicoHoraire['mjo']['nbJour']\n",
    "dicoHoraire['mja']['nbJour']\n",
    "dicoHoraire['mjo']['2sens']['graph']\n",
    "dicoHoraire['samedi']['sens1']['donnees']\n",
    "dicoJournalier['mja']['sens2']['graph']\n",
    "dicoJournalier['mjo']['2sens']['graph']\n",
    "dicoJournalier['mja']['compSens']['graph']"
   ]
  },
  {
   "cell_type": "code",
   "execution_count": 32,
   "metadata": {},
   "outputs": [
    {
     "data": {
      "application/vnd.plotly.v1+json": {
       "config": {
        "plotlyServerURL": "https://plot.ly"
       },
       "data": [
        {
         "alignmentgroup": "True",
         "hovertemplate": "type_veh=2r<br>jour=%{x}<br>nbVeh=%{y}<extra></extra>",
         "legendgroup": "2r",
         "marker": {
          "color": "#636efa"
         },
         "name": "2r",
         "offsetgroup": "2r",
         "orientation": "v",
         "showlegend": true,
         "textposition": "auto",
         "type": "bar",
         "x": [
          "jeudi",
          "lundi",
          "mardi",
          "mercredi",
          "vendredi"
         ],
         "xaxis": "x",
         "y": [
          139,
          130,
          180,
          188,
          131
         ],
         "yaxis": "y"
        },
        {
         "alignmentgroup": "True",
         "hovertemplate": "type_veh=pl<br>jour=%{x}<br>nbVeh=%{y}<extra></extra>",
         "legendgroup": "pl",
         "marker": {
          "color": "#EF553B"
         },
         "name": "pl",
         "offsetgroup": "pl",
         "orientation": "v",
         "showlegend": true,
         "textposition": "auto",
         "type": "bar",
         "x": [
          "jeudi",
          "lundi",
          "mardi",
          "mercredi",
          "vendredi"
         ],
         "xaxis": "x",
         "y": [
          96,
          65,
          103,
          106,
          63
         ],
         "yaxis": "y"
        },
        {
         "alignmentgroup": "True",
         "hovertemplate": "type_veh=vl<br>jour=%{x}<br>nbVeh=%{y}<extra></extra>",
         "legendgroup": "vl",
         "marker": {
          "color": "#00cc96"
         },
         "name": "vl",
         "offsetgroup": "vl",
         "orientation": "v",
         "showlegend": true,
         "textposition": "auto",
         "type": "bar",
         "x": [
          "jeudi",
          "lundi",
          "mardi",
          "mercredi",
          "vendredi"
         ],
         "xaxis": "x",
         "y": [
          11276,
          10644,
          11030,
          10725,
          11758
         ],
         "yaxis": "y"
        }
       ],
       "layout": {
        "autosize": true,
        "barmode": "group",
        "legend": {
         "title": {
          "text": "type_veh"
         },
         "tracegroupgap": 0
        },
        "margin": {
         "t": 60
        },
        "template": {
         "data": {
          "bar": [
           {
            "error_x": {
             "color": "#2a3f5f"
            },
            "error_y": {
             "color": "#2a3f5f"
            },
            "marker": {
             "line": {
              "color": "#E5ECF6",
              "width": 0.5
             }
            },
            "type": "bar"
           }
          ],
          "barpolar": [
           {
            "marker": {
             "line": {
              "color": "#E5ECF6",
              "width": 0.5
             }
            },
            "type": "barpolar"
           }
          ],
          "carpet": [
           {
            "aaxis": {
             "endlinecolor": "#2a3f5f",
             "gridcolor": "white",
             "linecolor": "white",
             "minorgridcolor": "white",
             "startlinecolor": "#2a3f5f"
            },
            "baxis": {
             "endlinecolor": "#2a3f5f",
             "gridcolor": "white",
             "linecolor": "white",
             "minorgridcolor": "white",
             "startlinecolor": "#2a3f5f"
            },
            "type": "carpet"
           }
          ],
          "choropleth": [
           {
            "colorbar": {
             "outlinewidth": 0,
             "ticks": ""
            },
            "type": "choropleth"
           }
          ],
          "contour": [
           {
            "colorbar": {
             "outlinewidth": 0,
             "ticks": ""
            },
            "colorscale": [
             [
              0,
              "#0d0887"
             ],
             [
              0.1111111111111111,
              "#46039f"
             ],
             [
              0.2222222222222222,
              "#7201a8"
             ],
             [
              0.3333333333333333,
              "#9c179e"
             ],
             [
              0.4444444444444444,
              "#bd3786"
             ],
             [
              0.5555555555555556,
              "#d8576b"
             ],
             [
              0.6666666666666666,
              "#ed7953"
             ],
             [
              0.7777777777777778,
              "#fb9f3a"
             ],
             [
              0.8888888888888888,
              "#fdca26"
             ],
             [
              1,
              "#f0f921"
             ]
            ],
            "type": "contour"
           }
          ],
          "contourcarpet": [
           {
            "colorbar": {
             "outlinewidth": 0,
             "ticks": ""
            },
            "type": "contourcarpet"
           }
          ],
          "heatmap": [
           {
            "colorbar": {
             "outlinewidth": 0,
             "ticks": ""
            },
            "colorscale": [
             [
              0,
              "#0d0887"
             ],
             [
              0.1111111111111111,
              "#46039f"
             ],
             [
              0.2222222222222222,
              "#7201a8"
             ],
             [
              0.3333333333333333,
              "#9c179e"
             ],
             [
              0.4444444444444444,
              "#bd3786"
             ],
             [
              0.5555555555555556,
              "#d8576b"
             ],
             [
              0.6666666666666666,
              "#ed7953"
             ],
             [
              0.7777777777777778,
              "#fb9f3a"
             ],
             [
              0.8888888888888888,
              "#fdca26"
             ],
             [
              1,
              "#f0f921"
             ]
            ],
            "type": "heatmap"
           }
          ],
          "heatmapgl": [
           {
            "colorbar": {
             "outlinewidth": 0,
             "ticks": ""
            },
            "colorscale": [
             [
              0,
              "#0d0887"
             ],
             [
              0.1111111111111111,
              "#46039f"
             ],
             [
              0.2222222222222222,
              "#7201a8"
             ],
             [
              0.3333333333333333,
              "#9c179e"
             ],
             [
              0.4444444444444444,
              "#bd3786"
             ],
             [
              0.5555555555555556,
              "#d8576b"
             ],
             [
              0.6666666666666666,
              "#ed7953"
             ],
             [
              0.7777777777777778,
              "#fb9f3a"
             ],
             [
              0.8888888888888888,
              "#fdca26"
             ],
             [
              1,
              "#f0f921"
             ]
            ],
            "type": "heatmapgl"
           }
          ],
          "histogram": [
           {
            "marker": {
             "colorbar": {
              "outlinewidth": 0,
              "ticks": ""
             }
            },
            "type": "histogram"
           }
          ],
          "histogram2d": [
           {
            "colorbar": {
             "outlinewidth": 0,
             "ticks": ""
            },
            "colorscale": [
             [
              0,
              "#0d0887"
             ],
             [
              0.1111111111111111,
              "#46039f"
             ],
             [
              0.2222222222222222,
              "#7201a8"
             ],
             [
              0.3333333333333333,
              "#9c179e"
             ],
             [
              0.4444444444444444,
              "#bd3786"
             ],
             [
              0.5555555555555556,
              "#d8576b"
             ],
             [
              0.6666666666666666,
              "#ed7953"
             ],
             [
              0.7777777777777778,
              "#fb9f3a"
             ],
             [
              0.8888888888888888,
              "#fdca26"
             ],
             [
              1,
              "#f0f921"
             ]
            ],
            "type": "histogram2d"
           }
          ],
          "histogram2dcontour": [
           {
            "colorbar": {
             "outlinewidth": 0,
             "ticks": ""
            },
            "colorscale": [
             [
              0,
              "#0d0887"
             ],
             [
              0.1111111111111111,
              "#46039f"
             ],
             [
              0.2222222222222222,
              "#7201a8"
             ],
             [
              0.3333333333333333,
              "#9c179e"
             ],
             [
              0.4444444444444444,
              "#bd3786"
             ],
             [
              0.5555555555555556,
              "#d8576b"
             ],
             [
              0.6666666666666666,
              "#ed7953"
             ],
             [
              0.7777777777777778,
              "#fb9f3a"
             ],
             [
              0.8888888888888888,
              "#fdca26"
             ],
             [
              1,
              "#f0f921"
             ]
            ],
            "type": "histogram2dcontour"
           }
          ],
          "mesh3d": [
           {
            "colorbar": {
             "outlinewidth": 0,
             "ticks": ""
            },
            "type": "mesh3d"
           }
          ],
          "parcoords": [
           {
            "line": {
             "colorbar": {
              "outlinewidth": 0,
              "ticks": ""
             }
            },
            "type": "parcoords"
           }
          ],
          "pie": [
           {
            "automargin": true,
            "type": "pie"
           }
          ],
          "scatter": [
           {
            "marker": {
             "colorbar": {
              "outlinewidth": 0,
              "ticks": ""
             }
            },
            "type": "scatter"
           }
          ],
          "scatter3d": [
           {
            "line": {
             "colorbar": {
              "outlinewidth": 0,
              "ticks": ""
             }
            },
            "marker": {
             "colorbar": {
              "outlinewidth": 0,
              "ticks": ""
             }
            },
            "type": "scatter3d"
           }
          ],
          "scattercarpet": [
           {
            "marker": {
             "colorbar": {
              "outlinewidth": 0,
              "ticks": ""
             }
            },
            "type": "scattercarpet"
           }
          ],
          "scattergeo": [
           {
            "marker": {
             "colorbar": {
              "outlinewidth": 0,
              "ticks": ""
             }
            },
            "type": "scattergeo"
           }
          ],
          "scattergl": [
           {
            "marker": {
             "colorbar": {
              "outlinewidth": 0,
              "ticks": ""
             }
            },
            "type": "scattergl"
           }
          ],
          "scattermapbox": [
           {
            "marker": {
             "colorbar": {
              "outlinewidth": 0,
              "ticks": ""
             }
            },
            "type": "scattermapbox"
           }
          ],
          "scatterpolar": [
           {
            "marker": {
             "colorbar": {
              "outlinewidth": 0,
              "ticks": ""
             }
            },
            "type": "scatterpolar"
           }
          ],
          "scatterpolargl": [
           {
            "marker": {
             "colorbar": {
              "outlinewidth": 0,
              "ticks": ""
             }
            },
            "type": "scatterpolargl"
           }
          ],
          "scatterternary": [
           {
            "marker": {
             "colorbar": {
              "outlinewidth": 0,
              "ticks": ""
             }
            },
            "type": "scatterternary"
           }
          ],
          "surface": [
           {
            "colorbar": {
             "outlinewidth": 0,
             "ticks": ""
            },
            "colorscale": [
             [
              0,
              "#0d0887"
             ],
             [
              0.1111111111111111,
              "#46039f"
             ],
             [
              0.2222222222222222,
              "#7201a8"
             ],
             [
              0.3333333333333333,
              "#9c179e"
             ],
             [
              0.4444444444444444,
              "#bd3786"
             ],
             [
              0.5555555555555556,
              "#d8576b"
             ],
             [
              0.6666666666666666,
              "#ed7953"
             ],
             [
              0.7777777777777778,
              "#fb9f3a"
             ],
             [
              0.8888888888888888,
              "#fdca26"
             ],
             [
              1,
              "#f0f921"
             ]
            ],
            "type": "surface"
           }
          ],
          "table": [
           {
            "cells": {
             "fill": {
              "color": "#EBF0F8"
             },
             "line": {
              "color": "white"
             }
            },
            "header": {
             "fill": {
              "color": "#C8D4E3"
             },
             "line": {
              "color": "white"
             }
            },
            "type": "table"
           }
          ]
         },
         "layout": {
          "annotationdefaults": {
           "arrowcolor": "#2a3f5f",
           "arrowhead": 0,
           "arrowwidth": 1
          },
          "coloraxis": {
           "colorbar": {
            "outlinewidth": 0,
            "ticks": ""
           }
          },
          "colorscale": {
           "diverging": [
            [
             0,
             "#8e0152"
            ],
            [
             0.1,
             "#c51b7d"
            ],
            [
             0.2,
             "#de77ae"
            ],
            [
             0.3,
             "#f1b6da"
            ],
            [
             0.4,
             "#fde0ef"
            ],
            [
             0.5,
             "#f7f7f7"
            ],
            [
             0.6,
             "#e6f5d0"
            ],
            [
             0.7,
             "#b8e186"
            ],
            [
             0.8,
             "#7fbc41"
            ],
            [
             0.9,
             "#4d9221"
            ],
            [
             1,
             "#276419"
            ]
           ],
           "sequential": [
            [
             0,
             "#0d0887"
            ],
            [
             0.1111111111111111,
             "#46039f"
            ],
            [
             0.2222222222222222,
             "#7201a8"
            ],
            [
             0.3333333333333333,
             "#9c179e"
            ],
            [
             0.4444444444444444,
             "#bd3786"
            ],
            [
             0.5555555555555556,
             "#d8576b"
            ],
            [
             0.6666666666666666,
             "#ed7953"
            ],
            [
             0.7777777777777778,
             "#fb9f3a"
            ],
            [
             0.8888888888888888,
             "#fdca26"
            ],
            [
             1,
             "#f0f921"
            ]
           ],
           "sequentialminus": [
            [
             0,
             "#0d0887"
            ],
            [
             0.1111111111111111,
             "#46039f"
            ],
            [
             0.2222222222222222,
             "#7201a8"
            ],
            [
             0.3333333333333333,
             "#9c179e"
            ],
            [
             0.4444444444444444,
             "#bd3786"
            ],
            [
             0.5555555555555556,
             "#d8576b"
            ],
            [
             0.6666666666666666,
             "#ed7953"
            ],
            [
             0.7777777777777778,
             "#fb9f3a"
            ],
            [
             0.8888888888888888,
             "#fdca26"
            ],
            [
             1,
             "#f0f921"
            ]
           ]
          },
          "colorway": [
           "#636efa",
           "#EF553B",
           "#00cc96",
           "#ab63fa",
           "#FFA15A",
           "#19d3f3",
           "#FF6692",
           "#B6E880",
           "#FF97FF",
           "#FECB52"
          ],
          "font": {
           "color": "#2a3f5f"
          },
          "geo": {
           "bgcolor": "white",
           "lakecolor": "white",
           "landcolor": "#E5ECF6",
           "showlakes": true,
           "showland": true,
           "subunitcolor": "white"
          },
          "hoverlabel": {
           "align": "left"
          },
          "hovermode": "closest",
          "mapbox": {
           "style": "light"
          },
          "paper_bgcolor": "white",
          "plot_bgcolor": "#E5ECF6",
          "polar": {
           "angularaxis": {
            "gridcolor": "white",
            "linecolor": "white",
            "ticks": ""
           },
           "bgcolor": "#E5ECF6",
           "radialaxis": {
            "gridcolor": "white",
            "linecolor": "white",
            "ticks": ""
           }
          },
          "scene": {
           "xaxis": {
            "backgroundcolor": "#E5ECF6",
            "gridcolor": "white",
            "gridwidth": 2,
            "linecolor": "white",
            "showbackground": true,
            "ticks": "",
            "zerolinecolor": "white"
           },
           "yaxis": {
            "backgroundcolor": "#E5ECF6",
            "gridcolor": "white",
            "gridwidth": 2,
            "linecolor": "white",
            "showbackground": true,
            "ticks": "",
            "zerolinecolor": "white"
           },
           "zaxis": {
            "backgroundcolor": "#E5ECF6",
            "gridcolor": "white",
            "gridwidth": 2,
            "linecolor": "white",
            "showbackground": true,
            "ticks": "",
            "zerolinecolor": "white"
           }
          },
          "shapedefaults": {
           "line": {
            "color": "#2a3f5f"
           }
          },
          "ternary": {
           "aaxis": {
            "gridcolor": "white",
            "linecolor": "white",
            "ticks": ""
           },
           "baxis": {
            "gridcolor": "white",
            "linecolor": "white",
            "ticks": ""
           },
           "bgcolor": "#E5ECF6",
           "caxis": {
            "gridcolor": "white",
            "linecolor": "white",
            "ticks": ""
           }
          },
          "title": {
           "x": 0.05
          },
          "xaxis": {
           "automargin": true,
           "gridcolor": "white",
           "linecolor": "white",
           "ticks": "",
           "title": {
            "standoff": 15
           },
           "zerolinecolor": "white",
           "zerolinewidth": 2
          },
          "yaxis": {
           "automargin": true,
           "gridcolor": "white",
           "linecolor": "white",
           "ticks": "",
           "title": {
            "standoff": 15
           },
           "zerolinecolor": "white",
           "zerolinewidth": 2
          }
         }
        },
        "xaxis": {
         "anchor": "y",
         "autorange": true,
         "domain": [
          0,
          1
         ],
         "range": [
          -0.5,
          4.5
         ],
         "title": {
          "text": "jour"
         },
         "type": "category"
        },
        "yaxis": {
         "anchor": "x",
         "autorange": true,
         "domain": [
          0,
          1
         ],
         "range": [
          0,
          12376.842105263158
         ],
         "title": {
          "text": "nbVeh"
         },
         "type": "linear"
        }
       }
      },
      "image/png": "[encoded data removed]",
      "text/html": [
       "<div>                            <div id=\"b65dc301-fc38-42d7-970e-e9992f5fb1ea\" class=\"plotly-graph-div\" style=\"height:525px; width:100%;\"></div>            <script type=\"text/javascript\">                require([\"plotly\"], function(Plotly) {                    window.PLOTLYENV=window.PLOTLYENV || {};                                    if (document.getElementById(\"b65dc301-fc38-42d7-970e-e9992f5fb1ea\")) {                    Plotly.newPlot(                        \"b65dc301-fc38-42d7-970e-e9992f5fb1ea\",                        [{\"alignmentgroup\": \"True\", \"hovertemplate\": \"type_veh=2r<br>jour=%{x}<br>nbVeh=%{y}<extra></extra>\", \"legendgroup\": \"2r\", \"marker\": {\"color\": \"#636efa\"}, \"name\": \"2r\", \"offsetgroup\": \"2r\", \"orientation\": \"v\", \"showlegend\": true, \"textposition\": \"auto\", \"type\": \"bar\", \"x\": [\"jeudi\", \"lundi\", \"mardi\", \"mercredi\", \"vendredi\"], \"xaxis\": \"x\", \"y\": [139.0, 130.0, 180.0, 188.0, 131.0], \"yaxis\": \"y\"}, {\"alignmentgroup\": \"True\", \"hovertemplate\": \"type_veh=pl<br>jour=%{x}<br>nbVeh=%{y}<extra></extra>\", \"legendgroup\": \"pl\", \"marker\": {\"color\": \"#EF553B\"}, \"name\": \"pl\", \"offsetgroup\": \"pl\", \"orientation\": \"v\", \"showlegend\": true, \"textposition\": \"auto\", \"type\": \"bar\", \"x\": [\"jeudi\", \"lundi\", \"mardi\", \"mercredi\", \"vendredi\"], \"xaxis\": \"x\", \"y\": [96.0, 65.0, 103.0, 106.0, 63.0], \"yaxis\": \"y\"}, {\"alignmentgroup\": \"True\", \"hovertemplate\": \"type_veh=vl<br>jour=%{x}<br>nbVeh=%{y}<extra></extra>\", \"legendgroup\": \"vl\", \"marker\": {\"color\": \"#00cc96\"}, \"name\": \"vl\", \"offsetgroup\": \"vl\", \"orientation\": \"v\", \"showlegend\": true, \"textposition\": \"auto\", \"type\": \"bar\", \"x\": [\"jeudi\", \"lundi\", \"mardi\", \"mercredi\", \"vendredi\"], \"xaxis\": \"x\", \"y\": [11276.0, 10644.0, 11030.0, 10725.0, 11758.0], \"yaxis\": \"y\"}],                        {\"barmode\": \"group\", \"legend\": {\"title\": {\"text\": \"type_veh\"}, \"tracegroupgap\": 0}, \"margin\": {\"t\": 60}, \"template\": {\"data\": {\"bar\": [{\"error_x\": {\"color\": \"#2a3f5f\"}, \"error_y\": {\"color\": \"#2a3f5f\"}, \"marker\": {\"line\": {\"color\": \"#E5ECF6\", \"width\": 0.5}}, \"type\": \"bar\"}], \"barpolar\": [{\"marker\": {\"line\": {\"color\": \"#E5ECF6\", \"width\": 0.5}}, \"type\": \"barpolar\"}], \"carpet\": [{\"aaxis\": {\"endlinecolor\": \"#2a3f5f\", \"gridcolor\": \"white\", \"linecolor\": \"white\", \"minorgridcolor\": \"white\", \"startlinecolor\": \"#2a3f5f\"}, \"baxis\": {\"endlinecolor\": \"#2a3f5f\", \"gridcolor\": \"white\", \"linecolor\": \"white\", \"minorgridcolor\": \"white\", \"startlinecolor\": \"#2a3f5f\"}, \"type\": \"carpet\"}], \"choropleth\": [{\"colorbar\": {\"outlinewidth\": 0, \"ticks\": \"\"}, \"type\": \"choropleth\"}], \"contour\": [{\"colorbar\": {\"outlinewidth\": 0, \"ticks\": \"\"}, \"colorscale\": [[0.0, \"#0d0887\"], [0.1111111111111111, \"#46039f\"], [0.2222222222222222, \"#7201a8\"], [0.3333333333333333, \"#9c179e\"], [0.4444444444444444, \"#bd3786\"], [0.5555555555555556, \"#d8576b\"], [0.6666666666666666, \"#ed7953\"], [0.7777777777777778, \"#fb9f3a\"], [0.8888888888888888, \"#fdca26\"], [1.0, \"#f0f921\"]], \"type\": \"contour\"}], \"contourcarpet\": [{\"colorbar\": {\"outlinewidth\": 0, \"ticks\": \"\"}, \"type\": \"contourcarpet\"}], \"heatmap\": [{\"colorbar\": {\"outlinewidth\": 0, \"ticks\": \"\"}, \"colorscale\": [[0.0, \"#0d0887\"], [0.1111111111111111, \"#46039f\"], [0.2222222222222222, \"#7201a8\"], [0.3333333333333333, \"#9c179e\"], [0.4444444444444444, \"#bd3786\"], [0.5555555555555556, \"#d8576b\"], [0.6666666666666666, \"#ed7953\"], [0.7777777777777778, \"#fb9f3a\"], [0.8888888888888888, \"#fdca26\"], [1.0, \"#f0f921\"]], \"type\": \"heatmap\"}], \"heatmapgl\": [{\"colorbar\": {\"outlinewidth\": 0, \"ticks\": \"\"}, \"colorscale\": [[0.0, \"#0d0887\"], [0.1111111111111111, \"#46039f\"], [0.2222222222222222, \"#7201a8\"], [0.3333333333333333, \"#9c179e\"], [0.4444444444444444, \"#bd3786\"], [0.5555555555555556, \"#d8576b\"], [0.6666666666666666, \"#ed7953\"], [0.7777777777777778, \"#fb9f3a\"], [0.8888888888888888, \"#fdca26\"], [1.0, \"#f0f921\"]], \"type\": \"heatmapgl\"}], \"histogram\": [{\"marker\": {\"colorbar\": {\"outlinewidth\": 0, \"ticks\": \"\"}}, \"type\": \"histogram\"}], \"histogram2d\": [{\"colorbar\": {\"outlinewidth\": 0, \"ticks\": \"\"}, \"colorscale\": [[0.0, \"#0d0887\"], [0.1111111111111111, \"#46039f\"], [0.2222222222222222, \"#7201a8\"], [0.3333333333333333, \"#9c179e\"], [0.4444444444444444, \"#bd3786\"], [0.5555555555555556, \"#d8576b\"], [0.6666666666666666, \"#ed7953\"], [0.7777777777777778, \"#fb9f3a\"], [0.8888888888888888, \"#fdca26\"], [1.0, \"#f0f921\"]], \"type\": \"histogram2d\"}], \"histogram2dcontour\": [{\"colorbar\": {\"outlinewidth\": 0, \"ticks\": \"\"}, \"colorscale\": [[0.0, \"#0d0887\"], [0.1111111111111111, \"#46039f\"], [0.2222222222222222, \"#7201a8\"], [0.3333333333333333, \"#9c179e\"], [0.4444444444444444, \"#bd3786\"], [0.5555555555555556, \"#d8576b\"], [0.6666666666666666, \"#ed7953\"], [0.7777777777777778, \"#fb9f3a\"], [0.8888888888888888, \"#fdca26\"], [1.0, \"#f0f921\"]], \"type\": \"histogram2dcontour\"}], \"mesh3d\": [{\"colorbar\": {\"outlinewidth\": 0, \"ticks\": \"\"}, \"type\": \"mesh3d\"}], \"parcoords\": [{\"line\": {\"colorbar\": {\"outlinewidth\": 0, \"ticks\": \"\"}}, \"type\": \"parcoords\"}], \"pie\": [{\"automargin\": true, \"type\": \"pie\"}], \"scatter\": [{\"marker\": {\"colorbar\": {\"outlinewidth\": 0, \"ticks\": \"\"}}, \"type\": \"scatter\"}], \"scatter3d\": [{\"line\": {\"colorbar\": {\"outlinewidth\": 0, \"ticks\": \"\"}}, \"marker\": {\"colorbar\": {\"outlinewidth\": 0, \"ticks\": \"\"}}, \"type\": \"scatter3d\"}], \"scattercarpet\": [{\"marker\": {\"colorbar\": {\"outlinewidth\": 0, \"ticks\": \"\"}}, \"type\": \"scattercarpet\"}], \"scattergeo\": [{\"marker\": {\"colorbar\": {\"outlinewidth\": 0, \"ticks\": \"\"}}, \"type\": \"scattergeo\"}], \"scattergl\": [{\"marker\": {\"colorbar\": {\"outlinewidth\": 0, \"ticks\": \"\"}}, \"type\": \"scattergl\"}], \"scattermapbox\": [{\"marker\": {\"colorbar\": {\"outlinewidth\": 0, \"ticks\": \"\"}}, \"type\": \"scattermapbox\"}], \"scatterpolar\": [{\"marker\": {\"colorbar\": {\"outlinewidth\": 0, \"ticks\": \"\"}}, \"type\": \"scatterpolar\"}], \"scatterpolargl\": [{\"marker\": {\"colorbar\": {\"outlinewidth\": 0, \"ticks\": \"\"}}, \"type\": \"scatterpolargl\"}], \"scatterternary\": [{\"marker\": {\"colorbar\": {\"outlinewidth\": 0, \"ticks\": \"\"}}, \"type\": \"scatterternary\"}], \"surface\": [{\"colorbar\": {\"outlinewidth\": 0, \"ticks\": \"\"}, \"colorscale\": [[0.0, \"#0d0887\"], [0.1111111111111111, \"#46039f\"], [0.2222222222222222, \"#7201a8\"], [0.3333333333333333, \"#9c179e\"], [0.4444444444444444, \"#bd3786\"], [0.5555555555555556, \"#d8576b\"], [0.6666666666666666, \"#ed7953\"], [0.7777777777777778, \"#fb9f3a\"], [0.8888888888888888, \"#fdca26\"], [1.0, \"#f0f921\"]], \"type\": \"surface\"}], \"table\": [{\"cells\": {\"fill\": {\"color\": \"#EBF0F8\"}, \"line\": {\"color\": \"white\"}}, \"header\": {\"fill\": {\"color\": \"#C8D4E3\"}, \"line\": {\"color\": \"white\"}}, \"type\": \"table\"}]}, \"layout\": {\"annotationdefaults\": {\"arrowcolor\": \"#2a3f5f\", \"arrowhead\": 0, \"arrowwidth\": 1}, \"coloraxis\": {\"colorbar\": {\"outlinewidth\": 0, \"ticks\": \"\"}}, \"colorscale\": {\"diverging\": [[0, \"#8e0152\"], [0.1, \"#c51b7d\"], [0.2, \"#de77ae\"], [0.3, \"#f1b6da\"], [0.4, \"#fde0ef\"], [0.5, \"#f7f7f7\"], [0.6, \"#e6f5d0\"], [0.7, \"#b8e186\"], [0.8, \"#7fbc41\"], [0.9, \"#4d9221\"], [1, \"#276419\"]], \"sequential\": [[0.0, \"#0d0887\"], [0.1111111111111111, \"#46039f\"], [0.2222222222222222, \"#7201a8\"], [0.3333333333333333, \"#9c179e\"], [0.4444444444444444, \"#bd3786\"], [0.5555555555555556, \"#d8576b\"], [0.6666666666666666, \"#ed7953\"], [0.7777777777777778, \"#fb9f3a\"], [0.8888888888888888, \"#fdca26\"], [1.0, \"#f0f921\"]], \"sequentialminus\": [[0.0, \"#0d0887\"], [0.1111111111111111, \"#46039f\"], [0.2222222222222222, \"#7201a8\"], [0.3333333333333333, \"#9c179e\"], [0.4444444444444444, \"#bd3786\"], [0.5555555555555556, \"#d8576b\"], [0.6666666666666666, \"#ed7953\"], [0.7777777777777778, \"#fb9f3a\"], [0.8888888888888888, \"#fdca26\"], [1.0, \"#f0f921\"]]}, \"colorway\": [\"#636efa\", \"#EF553B\", \"#00cc96\", \"#ab63fa\", \"#FFA15A\", \"#19d3f3\", \"#FF6692\", \"#B6E880\", \"#FF97FF\", \"#FECB52\"], \"font\": {\"color\": \"#2a3f5f\"}, \"geo\": {\"bgcolor\": \"white\", \"lakecolor\": \"white\", \"landcolor\": \"#E5ECF6\", \"showlakes\": true, \"showland\": true, \"subunitcolor\": \"white\"}, \"hoverlabel\": {\"align\": \"left\"}, \"hovermode\": \"closest\", \"mapbox\": {\"style\": \"light\"}, \"paper_bgcolor\": \"white\", \"plot_bgcolor\": \"#E5ECF6\", \"polar\": {\"angularaxis\": {\"gridcolor\": \"white\", \"linecolor\": \"white\", \"ticks\": \"\"}, \"bgcolor\": \"#E5ECF6\", \"radialaxis\": {\"gridcolor\": \"white\", \"linecolor\": \"white\", \"ticks\": \"\"}}, \"scene\": {\"xaxis\": {\"backgroundcolor\": \"#E5ECF6\", \"gridcolor\": \"white\", \"gridwidth\": 2, \"linecolor\": \"white\", \"showbackground\": true, \"ticks\": \"\", \"zerolinecolor\": \"white\"}, \"yaxis\": {\"backgroundcolor\": \"#E5ECF6\", \"gridcolor\": \"white\", \"gridwidth\": 2, \"linecolor\": \"white\", \"showbackground\": true, \"ticks\": \"\", \"zerolinecolor\": \"white\"}, \"zaxis\": {\"backgroundcolor\": \"#E5ECF6\", \"gridcolor\": \"white\", \"gridwidth\": 2, \"linecolor\": \"white\", \"showbackground\": true, \"ticks\": \"\", \"zerolinecolor\": \"white\"}}, \"shapedefaults\": {\"line\": {\"color\": \"#2a3f5f\"}}, \"ternary\": {\"aaxis\": {\"gridcolor\": \"white\", \"linecolor\": \"white\", \"ticks\": \"\"}, \"baxis\": {\"gridcolor\": \"white\", \"linecolor\": \"white\", \"ticks\": \"\"}, \"bgcolor\": \"#E5ECF6\", \"caxis\": {\"gridcolor\": \"white\", \"linecolor\": \"white\", \"ticks\": \"\"}}, \"title\": {\"x\": 0.05}, \"xaxis\": {\"automargin\": true, \"gridcolor\": \"white\", \"linecolor\": \"white\", \"ticks\": \"\", \"title\": {\"standoff\": 15}, \"zerolinecolor\": \"white\", \"zerolinewidth\": 2}, \"yaxis\": {\"automargin\": true, \"gridcolor\": \"white\", \"linecolor\": \"white\", \"ticks\": \"\", \"title\": {\"standoff\": 15}, \"zerolinecolor\": \"white\", \"zerolinewidth\": 2}}}, \"xaxis\": {\"anchor\": \"y\", \"domain\": [0.0, 1.0], \"title\": {\"text\": \"jour\"}}, \"yaxis\": {\"anchor\": \"x\", \"domain\": [0.0, 1.0], \"title\": {\"text\": \"nbVeh\"}}},                        {\"responsive\": true}                    ).then(function(){\n",
       "                            \n",
       "var gd = document.getElementById('b65dc301-fc38-42d7-970e-e9992f5fb1ea');\n",
       "var x = new MutationObserver(function (mutations, observer) {{\n",
       "        var display = window.getComputedStyle(gd).display;\n",
       "        if (!display || display === 'none') {{\n",
       "            console.log([gd, 'removed!']);\n",
       "            Plotly.purge(gd);\n",
       "            observer.disconnect();\n",
       "        }}\n",
       "}});\n",
       "\n",
       "// Listen for the removal of the full notebook cells\n",
       "var notebookContainer = gd.closest('#notebook-container');\n",
       "if (notebookContainer) {{\n",
       "    x.observe(notebookContainer, {childList: true});\n",
       "}}\n",
       "\n",
       "// Listen for the clearing of the current output cell\n",
       "var outputEl = gd.closest('.output');\n",
       "if (outputEl) {{\n",
       "    x.observe(outputEl, {childList: true});\n",
       "}}\n",
       "\n",
       "                        })                };                });            </script>        </div>"
      ]
     },
     "metadata": {},
     "output_type": "display_data"
    }
   ],
   "source": [
    "dicoJournalier['mjo']['2sens']['graph']"
   ]
  },
  {
   "cell_type": "code",
   "execution_count": 36,
   "metadata": {},
   "outputs": [
    {
     "data": {
      "application/vnd.plotly.v1+json": {
       "config": {
        "plotlyServerURL": "https://plot.ly"
       },
       "data": [
        {
         "hovertemplate": "type_veh=2r<br>date_heure=%{x}<br>nbVeh=%{y}<extra></extra>",
         "legendgroup": "2r",
         "line": {
          "color": "#636efa",
          "dash": "solid"
         },
         "mode": "lines",
         "name": "2r",
         "orientation": "v",
         "showlegend": true,
         "type": "scatter",
         "x": [
          "2020-09-29T00:00:00",
          "2020-09-29T01:00:00",
          "2020-09-29T02:00:00",
          "2020-09-29T03:00:00",
          "2020-09-29T04:00:00",
          "2020-09-29T05:00:00",
          "2020-09-29T06:00:00",
          "2020-09-29T07:00:00",
          "2020-09-29T08:00:00",
          "2020-09-29T09:00:00",
          "2020-09-29T10:00:00",
          "2020-09-29T11:00:00",
          "2020-09-29T12:00:00",
          "2020-09-29T13:00:00",
          "2020-09-29T14:00:00",
          "2020-09-29T15:00:00",
          "2020-09-29T16:00:00",
          "2020-09-29T17:00:00",
          "2020-09-29T18:00:00",
          "2020-09-29T19:00:00",
          "2020-09-29T20:00:00",
          "2020-09-29T21:00:00",
          "2020-09-29T22:00:00",
          "2020-09-29T23:00:00",
          "2020-09-30T00:00:00",
          "2020-09-30T01:00:00",
          "2020-09-30T02:00:00",
          "2020-09-30T03:00:00",
          "2020-09-30T04:00:00",
          "2020-09-30T05:00:00",
          "2020-09-30T06:00:00",
          "2020-09-30T07:00:00",
          "2020-09-30T08:00:00",
          "2020-09-30T09:00:00",
          "2020-09-30T10:00:00",
          "2020-09-30T11:00:00",
          "2020-09-30T12:00:00",
          "2020-09-30T13:00:00",
          "2020-09-30T14:00:00",
          "2020-09-30T15:00:00",
          "2020-09-30T16:00:00",
          "2020-09-30T17:00:00",
          "2020-09-30T18:00:00",
          "2020-09-30T19:00:00",
          "2020-09-30T20:00:00",
          "2020-09-30T21:00:00",
          "2020-09-30T22:00:00",
          "2020-09-30T23:00:00",
          "2020-10-01T00:00:00",
          "2020-10-01T01:00:00",
          "2020-10-01T02:00:00",
          "2020-10-01T03:00:00",
          "2020-10-01T04:00:00",
          "2020-10-01T05:00:00",
          "2020-10-01T06:00:00",
          "2020-10-01T07:00:00",
          "2020-10-01T08:00:00",
          "2020-10-01T09:00:00",
          "2020-10-01T10:00:00",
          "2020-10-01T11:00:00",
          "2020-10-01T12:00:00",
          "2020-10-01T13:00:00",
          "2020-10-01T14:00:00",
          "2020-10-01T15:00:00",
          "2020-10-01T16:00:00",
          "2020-10-01T17:00:00",
          "2020-10-01T18:00:00",
          "2020-10-01T19:00:00",
          "2020-10-01T20:00:00",
          "2020-10-01T21:00:00",
          "2020-10-01T22:00:00",
          "2020-10-01T23:00:00",
          "2020-10-02T00:00:00",
          "2020-10-02T01:00:00",
          "2020-10-02T02:00:00",
          "2020-10-02T03:00:00",
          "2020-10-02T04:00:00",
          "2020-10-02T05:00:00",
          "2020-10-02T06:00:00",
          "2020-10-02T07:00:00",
          "2020-10-02T08:00:00",
          "2020-10-02T09:00:00",
          "2020-10-02T10:00:00",
          "2020-10-02T11:00:00",
          "2020-10-02T12:00:00",
          "2020-10-02T13:00:00",
          "2020-10-02T14:00:00",
          "2020-10-02T15:00:00",
          "2020-10-02T16:00:00",
          "2020-10-02T17:00:00",
          "2020-10-02T18:00:00",
          "2020-10-02T19:00:00",
          "2020-10-02T20:00:00",
          "2020-10-02T21:00:00",
          "2020-10-02T22:00:00",
          "2020-10-02T23:00:00",
          "2020-10-03T00:00:00",
          "2020-10-03T01:00:00",
          "2020-10-03T02:00:00",
          "2020-10-03T03:00:00",
          "2020-10-03T04:00:00",
          "2020-10-03T05:00:00",
          "2020-10-03T06:00:00",
          "2020-10-03T07:00:00",
          "2020-10-03T08:00:00",
          "2020-10-03T09:00:00",
          "2020-10-03T10:00:00",
          "2020-10-03T11:00:00",
          "2020-10-03T12:00:00",
          "2020-10-03T13:00:00",
          "2020-10-03T14:00:00",
          "2020-10-03T15:00:00",
          "2020-10-03T16:00:00",
          "2020-10-03T17:00:00",
          "2020-10-03T18:00:00",
          "2020-10-03T19:00:00",
          "2020-10-03T20:00:00",
          "2020-10-03T21:00:00",
          "2020-10-03T22:00:00",
          "2020-10-03T23:00:00",
          "2020-10-04T00:00:00",
          "2020-10-04T01:00:00",
          "2020-10-04T02:00:00",
          "2020-10-04T03:00:00",
          "2020-10-04T04:00:00",
          "2020-10-04T05:00:00",
          "2020-10-04T06:00:00",
          "2020-10-04T07:00:00",
          "2020-10-04T08:00:00",
          "2020-10-04T09:00:00",
          "2020-10-04T10:00:00",
          "2020-10-04T11:00:00",
          "2020-10-04T12:00:00",
          "2020-10-04T13:00:00",
          "2020-10-04T14:00:00",
          "2020-10-04T15:00:00",
          "2020-10-04T16:00:00",
          "2020-10-04T17:00:00",
          "2020-10-04T18:00:00",
          "2020-10-04T19:00:00",
          "2020-10-04T20:00:00",
          "2020-10-04T21:00:00",
          "2020-10-04T22:00:00",
          "2020-10-04T23:00:00",
          "2020-10-05T00:00:00",
          "2020-10-05T01:00:00",
          "2020-10-05T02:00:00",
          "2020-10-05T03:00:00",
          "2020-10-05T04:00:00",
          "2020-10-05T05:00:00",
          "2020-10-05T06:00:00",
          "2020-10-05T07:00:00",
          "2020-10-05T08:00:00",
          "2020-10-05T09:00:00",
          "2020-10-05T10:00:00",
          "2020-10-05T11:00:00",
          "2020-10-05T12:00:00",
          "2020-10-05T13:00:00",
          "2020-10-05T14:00:00",
          "2020-10-05T15:00:00",
          "2020-10-05T16:00:00",
          "2020-10-05T17:00:00",
          "2020-10-05T18:00:00",
          "2020-10-05T19:00:00",
          "2020-10-05T20:00:00",
          "2020-10-05T21:00:00",
          "2020-10-05T22:00:00",
          "2020-10-05T23:00:00",
          "2020-10-06T00:00:00",
          "2020-10-06T01:00:00",
          "2020-10-06T02:00:00",
          "2020-10-06T03:00:00",
          "2020-10-06T04:00:00",
          "2020-10-06T05:00:00",
          "2020-10-06T06:00:00",
          "2020-10-06T07:00:00",
          "2020-10-06T08:00:00",
          "2020-10-06T09:00:00",
          "2020-10-06T10:00:00",
          "2020-10-06T11:00:00",
          "2020-10-06T12:00:00",
          "2020-10-06T13:00:00",
          "2020-10-06T14:00:00",
          "2020-10-06T15:00:00",
          "2020-10-06T16:00:00",
          "2020-10-06T17:00:00",
          "2020-10-06T18:00:00",
          "2020-10-06T19:00:00",
          "2020-10-06T20:00:00",
          "2020-10-06T21:00:00",
          "2020-10-06T22:00:00",
          "2020-10-06T23:00:00"
         ],
         "xaxis": "x",
         "y": [
          1,
          1,
          0,
          0,
          0,
          0,
          2,
          10,
          13,
          9,
          11,
          17,
          7,
          11,
          10,
          10,
          9,
          24,
          26,
          9,
          3,
          2,
          2,
          0,
          1,
          0,
          0,
          0,
          0,
          2,
          4,
          7,
          20,
          10,
          17,
          12,
          7,
          13,
          16,
          15,
          14,
          20,
          13,
          9,
          6,
          1,
          0,
          1,
          0,
          1,
          0,
          0,
          0,
          1,
          1,
          10,
          10,
          11,
          15,
          9,
          14,
          6,
          6,
          11,
          7,
          15,
          8,
          6,
          4,
          1,
          3,
          0,
          0,
          1,
          0,
          1,
          0,
          0,
          1,
          9,
          5,
          24,
          8,
          18,
          8,
          7,
          3,
          4,
          13,
          9,
          7,
          9,
          2,
          1,
          1,
          0,
          2,
          1,
          0,
          1,
          0,
          0,
          2,
          1,
          6,
          4,
          8,
          10,
          10,
          14,
          22,
          13,
          22,
          19,
          7,
          14,
          2,
          0,
          0,
          3,
          0,
          0,
          0,
          0,
          1,
          0,
          2,
          0,
          0,
          1,
          2,
          2,
          1,
          1,
          1,
          2,
          2,
          7,
          0,
          3,
          1,
          4,
          0,
          0,
          0,
          0,
          0,
          0,
          0,
          0,
          0,
          8,
          8,
          5,
          13,
          4,
          10,
          8,
          4,
          8,
          17,
          20,
          13,
          5,
          5,
          1,
          1,
          0,
          0,
          2,
          0,
          0,
          1,
          0,
          6,
          5,
          11,
          12,
          25,
          27,
          12,
          10,
          13,
          12,
          14,
          9,
          19,
          3,
          1,
          1,
          0,
          0
         ],
         "yaxis": "y"
        },
        {
         "hovertemplate": "type_veh=pl<br>date_heure=%{x}<br>nbVeh=%{y}<extra></extra>",
         "legendgroup": "pl",
         "line": {
          "color": "#EF553B",
          "dash": "solid"
         },
         "mode": "lines",
         "name": "pl",
         "orientation": "v",
         "showlegend": true,
         "type": "scatter",
         "x": [
          "2020-09-29T00:00:00",
          "2020-09-29T01:00:00",
          "2020-09-29T02:00:00",
          "2020-09-29T03:00:00",
          "2020-09-29T04:00:00",
          "2020-09-29T05:00:00",
          "2020-09-29T06:00:00",
          "2020-09-29T07:00:00",
          "2020-09-29T08:00:00",
          "2020-09-29T09:00:00",
          "2020-09-29T10:00:00",
          "2020-09-29T11:00:00",
          "2020-09-29T12:00:00",
          "2020-09-29T13:00:00",
          "2020-09-29T14:00:00",
          "2020-09-29T15:00:00",
          "2020-09-29T16:00:00",
          "2020-09-29T17:00:00",
          "2020-09-29T18:00:00",
          "2020-09-29T19:00:00",
          "2020-09-29T20:00:00",
          "2020-09-29T21:00:00",
          "2020-09-29T22:00:00",
          "2020-09-29T23:00:00",
          "2020-09-30T00:00:00",
          "2020-09-30T01:00:00",
          "2020-09-30T02:00:00",
          "2020-09-30T03:00:00",
          "2020-09-30T04:00:00",
          "2020-09-30T05:00:00",
          "2020-09-30T06:00:00",
          "2020-09-30T07:00:00",
          "2020-09-30T08:00:00",
          "2020-09-30T09:00:00",
          "2020-09-30T10:00:00",
          "2020-09-30T11:00:00",
          "2020-09-30T12:00:00",
          "2020-09-30T13:00:00",
          "2020-09-30T14:00:00",
          "2020-09-30T15:00:00",
          "2020-09-30T16:00:00",
          "2020-09-30T17:00:00",
          "2020-09-30T18:00:00",
          "2020-09-30T19:00:00",
          "2020-09-30T20:00:00",
          "2020-09-30T21:00:00",
          "2020-09-30T22:00:00",
          "2020-09-30T23:00:00",
          "2020-10-01T00:00:00",
          "2020-10-01T01:00:00",
          "2020-10-01T02:00:00",
          "2020-10-01T03:00:00",
          "2020-10-01T04:00:00",
          "2020-10-01T05:00:00",
          "2020-10-01T06:00:00",
          "2020-10-01T07:00:00",
          "2020-10-01T08:00:00",
          "2020-10-01T09:00:00",
          "2020-10-01T10:00:00",
          "2020-10-01T11:00:00",
          "2020-10-01T12:00:00",
          "2020-10-01T13:00:00",
          "2020-10-01T14:00:00",
          "2020-10-01T15:00:00",
          "2020-10-01T16:00:00",
          "2020-10-01T17:00:00",
          "2020-10-01T18:00:00",
          "2020-10-01T19:00:00",
          "2020-10-01T20:00:00",
          "2020-10-01T21:00:00",
          "2020-10-01T22:00:00",
          "2020-10-01T23:00:00",
          "2020-10-02T00:00:00",
          "2020-10-02T01:00:00",
          "2020-10-02T02:00:00",
          "2020-10-02T03:00:00",
          "2020-10-02T04:00:00",
          "2020-10-02T05:00:00",
          "2020-10-02T06:00:00",
          "2020-10-02T07:00:00",
          "2020-10-02T08:00:00",
          "2020-10-02T09:00:00",
          "2020-10-02T10:00:00",
          "2020-10-02T11:00:00",
          "2020-10-02T12:00:00",
          "2020-10-02T13:00:00",
          "2020-10-02T14:00:00",
          "2020-10-02T15:00:00",
          "2020-10-02T16:00:00",
          "2020-10-02T17:00:00",
          "2020-10-02T18:00:00",
          "2020-10-02T19:00:00",
          "2020-10-02T20:00:00",
          "2020-10-02T21:00:00",
          "2020-10-02T22:00:00",
          "2020-10-02T23:00:00",
          "2020-10-03T00:00:00",
          "2020-10-03T01:00:00",
          "2020-10-03T02:00:00",
          "2020-10-03T03:00:00",
          "2020-10-03T04:00:00",
          "2020-10-03T05:00:00",
          "2020-10-03T06:00:00",
          "2020-10-03T07:00:00",
          "2020-10-03T08:00:00",
          "2020-10-03T09:00:00",
          "2020-10-03T10:00:00",
          "2020-10-03T11:00:00",
          "2020-10-03T12:00:00",
          "2020-10-03T13:00:00",
          "2020-10-03T14:00:00",
          "2020-10-03T15:00:00",
          "2020-10-03T16:00:00",
          "2020-10-03T17:00:00",
          "2020-10-03T18:00:00",
          "2020-10-03T19:00:00",
          "2020-10-03T20:00:00",
          "2020-10-03T21:00:00",
          "2020-10-03T22:00:00",
          "2020-10-03T23:00:00",
          "2020-10-04T00:00:00",
          "2020-10-04T01:00:00",
          "2020-10-04T02:00:00",
          "2020-10-04T03:00:00",
          "2020-10-04T04:00:00",
          "2020-10-04T05:00:00",
          "2020-10-04T06:00:00",
          "2020-10-04T07:00:00",
          "2020-10-04T08:00:00",
          "2020-10-04T09:00:00",
          "2020-10-04T10:00:00",
          "2020-10-04T11:00:00",
          "2020-10-04T12:00:00",
          "2020-10-04T13:00:00",
          "2020-10-04T14:00:00",
          "2020-10-04T15:00:00",
          "2020-10-04T16:00:00",
          "2020-10-04T17:00:00",
          "2020-10-04T18:00:00",
          "2020-10-04T19:00:00",
          "2020-10-04T20:00:00",
          "2020-10-04T21:00:00",
          "2020-10-04T22:00:00",
          "2020-10-04T23:00:00",
          "2020-10-05T00:00:00",
          "2020-10-05T01:00:00",
          "2020-10-05T02:00:00",
          "2020-10-05T03:00:00",
          "2020-10-05T04:00:00",
          "2020-10-05T05:00:00",
          "2020-10-05T06:00:00",
          "2020-10-05T07:00:00",
          "2020-10-05T08:00:00",
          "2020-10-05T09:00:00",
          "2020-10-05T10:00:00",
          "2020-10-05T11:00:00",
          "2020-10-05T12:00:00",
          "2020-10-05T13:00:00",
          "2020-10-05T14:00:00",
          "2020-10-05T15:00:00",
          "2020-10-05T16:00:00",
          "2020-10-05T17:00:00",
          "2020-10-05T18:00:00",
          "2020-10-05T19:00:00",
          "2020-10-05T20:00:00",
          "2020-10-05T21:00:00",
          "2020-10-05T22:00:00",
          "2020-10-05T23:00:00",
          "2020-10-06T00:00:00",
          "2020-10-06T01:00:00",
          "2020-10-06T02:00:00",
          "2020-10-06T03:00:00",
          "2020-10-06T04:00:00",
          "2020-10-06T05:00:00",
          "2020-10-06T06:00:00",
          "2020-10-06T07:00:00",
          "2020-10-06T08:00:00",
          "2020-10-06T09:00:00",
          "2020-10-06T10:00:00",
          "2020-10-06T11:00:00",
          "2020-10-06T12:00:00",
          "2020-10-06T13:00:00",
          "2020-10-06T14:00:00",
          "2020-10-06T15:00:00",
          "2020-10-06T16:00:00",
          "2020-10-06T17:00:00",
          "2020-10-06T18:00:00",
          "2020-10-06T19:00:00",
          "2020-10-06T20:00:00",
          "2020-10-06T21:00:00",
          "2020-10-06T22:00:00",
          "2020-10-06T23:00:00"
         ],
         "xaxis": "x",
         "y": [
          4,
          0,
          1,
          2,
          3,
          0,
          4,
          11,
          7,
          12,
          5,
          11,
          5,
          10,
          5,
          7,
          8,
          7,
          9,
          1,
          1,
          3,
          0,
          0,
          0,
          0,
          0,
          0,
          1,
          2,
          6,
          8,
          12,
          17,
          6,
          11,
          9,
          9,
          3,
          4,
          8,
          2,
          3,
          3,
          1,
          1,
          0,
          0,
          2,
          0,
          2,
          0,
          1,
          1,
          1,
          13,
          7,
          9,
          6,
          7,
          8,
          6,
          6,
          4,
          11,
          2,
          5,
          0,
          3,
          1,
          0,
          1,
          0,
          0,
          0,
          0,
          0,
          1,
          2,
          9,
          8,
          3,
          6,
          7,
          4,
          6,
          2,
          5,
          3,
          2,
          2,
          1,
          2,
          0,
          0,
          0,
          1,
          0,
          0,
          0,
          1,
          0,
          0,
          1,
          1,
          0,
          1,
          2,
          1,
          2,
          0,
          0,
          1,
          0,
          2,
          2,
          0,
          0,
          0,
          0,
          0,
          0,
          1,
          0,
          0,
          0,
          0,
          0,
          0,
          0,
          0,
          0,
          0,
          3,
          1,
          0,
          1,
          0,
          2,
          2,
          1,
          0,
          0,
          0,
          0,
          0,
          0,
          0,
          1,
          1,
          0,
          11,
          4,
          8,
          10,
          4,
          3,
          3,
          4,
          2,
          5,
          3,
          3,
          1,
          2,
          0,
          0,
          0,
          1,
          2,
          0,
          0,
          1,
          1,
          0,
          6,
          9,
          14,
          13,
          4,
          2,
          3,
          7,
          7,
          7,
          2,
          6,
          2,
          4,
          0,
          0,
          0
         ],
         "yaxis": "y"
        },
        {
         "hovertemplate": "type_veh=vl<br>date_heure=%{x}<br>nbVeh=%{y}<extra></extra>",
         "legendgroup": "vl",
         "line": {
          "color": "#00cc96",
          "dash": "solid"
         },
         "mode": "lines",
         "name": "vl",
         "orientation": "v",
         "showlegend": true,
         "type": "scatter",
         "x": [
          "2020-09-29T00:00:00",
          "2020-09-29T01:00:00",
          "2020-09-29T02:00:00",
          "2020-09-29T03:00:00",
          "2020-09-29T04:00:00",
          "2020-09-29T05:00:00",
          "2020-09-29T06:00:00",
          "2020-09-29T07:00:00",
          "2020-09-29T08:00:00",
          "2020-09-29T09:00:00",
          "2020-09-29T10:00:00",
          "2020-09-29T11:00:00",
          "2020-09-29T12:00:00",
          "2020-09-29T13:00:00",
          "2020-09-29T14:00:00",
          "2020-09-29T15:00:00",
          "2020-09-29T16:00:00",
          "2020-09-29T17:00:00",
          "2020-09-29T18:00:00",
          "2020-09-29T19:00:00",
          "2020-09-29T20:00:00",
          "2020-09-29T21:00:00",
          "2020-09-29T22:00:00",
          "2020-09-29T23:00:00",
          "2020-09-30T00:00:00",
          "2020-09-30T01:00:00",
          "2020-09-30T02:00:00",
          "2020-09-30T03:00:00",
          "2020-09-30T04:00:00",
          "2020-09-30T05:00:00",
          "2020-09-30T06:00:00",
          "2020-09-30T07:00:00",
          "2020-09-30T08:00:00",
          "2020-09-30T09:00:00",
          "2020-09-30T10:00:00",
          "2020-09-30T11:00:00",
          "2020-09-30T12:00:00",
          "2020-09-30T13:00:00",
          "2020-09-30T14:00:00",
          "2020-09-30T15:00:00",
          "2020-09-30T16:00:00",
          "2020-09-30T17:00:00",
          "2020-09-30T18:00:00",
          "2020-09-30T19:00:00",
          "2020-09-30T20:00:00",
          "2020-09-30T21:00:00",
          "2020-09-30T22:00:00",
          "2020-09-30T23:00:00",
          "2020-10-01T00:00:00",
          "2020-10-01T01:00:00",
          "2020-10-01T02:00:00",
          "2020-10-01T03:00:00",
          "2020-10-01T04:00:00",
          "2020-10-01T05:00:00",
          "2020-10-01T06:00:00",
          "2020-10-01T07:00:00",
          "2020-10-01T08:00:00",
          "2020-10-01T09:00:00",
          "2020-10-01T10:00:00",
          "2020-10-01T11:00:00",
          "2020-10-01T12:00:00",
          "2020-10-01T13:00:00",
          "2020-10-01T14:00:00",
          "2020-10-01T15:00:00",
          "2020-10-01T16:00:00",
          "2020-10-01T17:00:00",
          "2020-10-01T18:00:00",
          "2020-10-01T19:00:00",
          "2020-10-01T20:00:00",
          "2020-10-01T21:00:00",
          "2020-10-01T22:00:00",
          "2020-10-01T23:00:00",
          "2020-10-02T00:00:00",
          "2020-10-02T01:00:00",
          "2020-10-02T02:00:00",
          "2020-10-02T03:00:00",
          "2020-10-02T04:00:00",
          "2020-10-02T05:00:00",
          "2020-10-02T06:00:00",
          "2020-10-02T07:00:00",
          "2020-10-02T08:00:00",
          "2020-10-02T09:00:00",
          "2020-10-02T10:00:00",
          "2020-10-02T11:00:00",
          "2020-10-02T12:00:00",
          "2020-10-02T13:00:00",
          "2020-10-02T14:00:00",
          "2020-10-02T15:00:00",
          "2020-10-02T16:00:00",
          "2020-10-02T17:00:00",
          "2020-10-02T18:00:00",
          "2020-10-02T19:00:00",
          "2020-10-02T20:00:00",
          "2020-10-02T21:00:00",
          "2020-10-02T22:00:00",
          "2020-10-02T23:00:00",
          "2020-10-03T00:00:00",
          "2020-10-03T01:00:00",
          "2020-10-03T02:00:00",
          "2020-10-03T03:00:00",
          "2020-10-03T04:00:00",
          "2020-10-03T05:00:00",
          "2020-10-03T06:00:00",
          "2020-10-03T07:00:00",
          "2020-10-03T08:00:00",
          "2020-10-03T09:00:00",
          "2020-10-03T10:00:00",
          "2020-10-03T11:00:00",
          "2020-10-03T12:00:00",
          "2020-10-03T13:00:00",
          "2020-10-03T14:00:00",
          "2020-10-03T15:00:00",
          "2020-10-03T16:00:00",
          "2020-10-03T17:00:00",
          "2020-10-03T18:00:00",
          "2020-10-03T19:00:00",
          "2020-10-03T20:00:00",
          "2020-10-03T21:00:00",
          "2020-10-03T22:00:00",
          "2020-10-03T23:00:00",
          "2020-10-04T00:00:00",
          "2020-10-04T01:00:00",
          "2020-10-04T02:00:00",
          "2020-10-04T03:00:00",
          "2020-10-04T04:00:00",
          "2020-10-04T05:00:00",
          "2020-10-04T06:00:00",
          "2020-10-04T07:00:00",
          "2020-10-04T08:00:00",
          "2020-10-04T09:00:00",
          "2020-10-04T10:00:00",
          "2020-10-04T11:00:00",
          "2020-10-04T12:00:00",
          "2020-10-04T13:00:00",
          "2020-10-04T14:00:00",
          "2020-10-04T15:00:00",
          "2020-10-04T16:00:00",
          "2020-10-04T17:00:00",
          "2020-10-04T18:00:00",
          "2020-10-04T19:00:00",
          "2020-10-04T20:00:00",
          "2020-10-04T21:00:00",
          "2020-10-04T22:00:00",
          "2020-10-04T23:00:00",
          "2020-10-05T00:00:00",
          "2020-10-05T01:00:00",
          "2020-10-05T02:00:00",
          "2020-10-05T03:00:00",
          "2020-10-05T04:00:00",
          "2020-10-05T05:00:00",
          "2020-10-05T06:00:00",
          "2020-10-05T07:00:00",
          "2020-10-05T08:00:00",
          "2020-10-05T09:00:00",
          "2020-10-05T10:00:00",
          "2020-10-05T11:00:00",
          "2020-10-05T12:00:00",
          "2020-10-05T13:00:00",
          "2020-10-05T14:00:00",
          "2020-10-05T15:00:00",
          "2020-10-05T16:00:00",
          "2020-10-05T17:00:00",
          "2020-10-05T18:00:00",
          "2020-10-05T19:00:00",
          "2020-10-05T20:00:00",
          "2020-10-05T21:00:00",
          "2020-10-05T22:00:00",
          "2020-10-05T23:00:00",
          "2020-10-06T00:00:00",
          "2020-10-06T01:00:00",
          "2020-10-06T02:00:00",
          "2020-10-06T03:00:00",
          "2020-10-06T04:00:00",
          "2020-10-06T05:00:00",
          "2020-10-06T06:00:00",
          "2020-10-06T07:00:00",
          "2020-10-06T08:00:00",
          "2020-10-06T09:00:00",
          "2020-10-06T10:00:00",
          "2020-10-06T11:00:00",
          "2020-10-06T12:00:00",
          "2020-10-06T13:00:00",
          "2020-10-06T14:00:00",
          "2020-10-06T15:00:00",
          "2020-10-06T16:00:00",
          "2020-10-06T17:00:00",
          "2020-10-06T18:00:00",
          "2020-10-06T19:00:00",
          "2020-10-06T20:00:00",
          "2020-10-06T21:00:00",
          "2020-10-06T22:00:00",
          "2020-10-06T23:00:00"
         ],
         "xaxis": "x",
         "y": [
          12,
          8,
          9,
          22,
          26,
          36,
          146,
          512,
          765,
          653,
          742,
          790,
          724,
          639,
          742,
          811,
          907,
          1083,
          942,
          608,
          314,
          163,
          101,
          60,
          21,
          12,
          15,
          15,
          27,
          37,
          117,
          488,
          677,
          605,
          730,
          771,
          801,
          674,
          814,
          835,
          908,
          1033,
          876,
          654,
          308,
          164,
          90,
          53,
          24,
          13,
          16,
          19,
          30,
          46,
          97,
          514,
          796,
          733,
          813,
          791,
          762,
          702,
          784,
          923,
          965,
          1051,
          856,
          677,
          323,
          177,
          99,
          65,
          41,
          19,
          12,
          15,
          28,
          30,
          136,
          494,
          735,
          664,
          746,
          803,
          842,
          683,
          820,
          975,
          1022,
          1021,
          1003,
          759,
          406,
          244,
          151,
          109,
          75,
          63,
          34,
          19,
          36,
          35,
          59,
          120,
          291,
          533,
          817,
          950,
          809,
          618,
          684,
          859,
          851,
          837,
          744,
          583,
          307,
          199,
          133,
          124,
          91,
          66,
          52,
          29,
          30,
          28,
          24,
          63,
          140,
          300,
          501,
          657,
          536,
          262,
          275,
          305,
          356,
          385,
          472,
          331,
          241,
          151,
          81,
          44,
          18,
          8,
          6,
          16,
          38,
          44,
          139,
          488,
          801,
          660,
          675,
          683,
          759,
          677,
          696,
          796,
          941,
          1076,
          941,
          580,
          322,
          158,
          86,
          36,
          16,
          17,
          10,
          21,
          31,
          42,
          131,
          506,
          769,
          685,
          830,
          768,
          789,
          677,
          792,
          864,
          935,
          1079,
          1000,
          636,
          321,
          173,
          102,
          52
         ],
         "yaxis": "y"
        }
       ],
       "layout": {
        "autosize": true,
        "legend": {
         "title": {
          "text": "type_veh"
         },
         "tracegroupgap": 0
        },
        "margin": {
         "t": 60
        },
        "template": {
         "data": {
          "bar": [
           {
            "error_x": {
             "color": "#2a3f5f"
            },
            "error_y": {
             "color": "#2a3f5f"
            },
            "marker": {
             "line": {
              "color": "#E5ECF6",
              "width": 0.5
             }
            },
            "type": "bar"
           }
          ],
          "barpolar": [
           {
            "marker": {
             "line": {
              "color": "#E5ECF6",
              "width": 0.5
             }
            },
            "type": "barpolar"
           }
          ],
          "carpet": [
           {
            "aaxis": {
             "endlinecolor": "#2a3f5f",
             "gridcolor": "white",
             "linecolor": "white",
             "minorgridcolor": "white",
             "startlinecolor": "#2a3f5f"
            },
            "baxis": {
             "endlinecolor": "#2a3f5f",
             "gridcolor": "white",
             "linecolor": "white",
             "minorgridcolor": "white",
             "startlinecolor": "#2a3f5f"
            },
            "type": "carpet"
           }
          ],
          "choropleth": [
           {
            "colorbar": {
             "outlinewidth": 0,
             "ticks": ""
            },
            "type": "choropleth"
           }
          ],
          "contour": [
           {
            "colorbar": {
             "outlinewidth": 0,
             "ticks": ""
            },
            "colorscale": [
             [
              0,
              "#0d0887"
             ],
             [
              0.1111111111111111,
              "#46039f"
             ],
             [
              0.2222222222222222,
              "#7201a8"
             ],
             [
              0.3333333333333333,
              "#9c179e"
             ],
             [
              0.4444444444444444,
              "#bd3786"
             ],
             [
              0.5555555555555556,
              "#d8576b"
             ],
             [
              0.6666666666666666,
              "#ed7953"
             ],
             [
              0.7777777777777778,
              "#fb9f3a"
             ],
             [
              0.8888888888888888,
              "#fdca26"
             ],
             [
              1,
              "#f0f921"
             ]
            ],
            "type": "contour"
           }
          ],
          "contourcarpet": [
           {
            "colorbar": {
             "outlinewidth": 0,
             "ticks": ""
            },
            "type": "contourcarpet"
           }
          ],
          "heatmap": [
           {
            "colorbar": {
             "outlinewidth": 0,
             "ticks": ""
            },
            "colorscale": [
             [
              0,
              "#0d0887"
             ],
             [
              0.1111111111111111,
              "#46039f"
             ],
             [
              0.2222222222222222,
              "#7201a8"
             ],
             [
              0.3333333333333333,
              "#9c179e"
             ],
             [
              0.4444444444444444,
              "#bd3786"
             ],
             [
              0.5555555555555556,
              "#d8576b"
             ],
             [
              0.6666666666666666,
              "#ed7953"
             ],
             [
              0.7777777777777778,
              "#fb9f3a"
             ],
             [
              0.8888888888888888,
              "#fdca26"
             ],
             [
              1,
              "#f0f921"
             ]
            ],
            "type": "heatmap"
           }
          ],
          "heatmapgl": [
           {
            "colorbar": {
             "outlinewidth": 0,
             "ticks": ""
            },
            "colorscale": [
             [
              0,
              "#0d0887"
             ],
             [
              0.1111111111111111,
              "#46039f"
             ],
             [
              0.2222222222222222,
              "#7201a8"
             ],
             [
              0.3333333333333333,
              "#9c179e"
             ],
             [
              0.4444444444444444,
              "#bd3786"
             ],
             [
              0.5555555555555556,
              "#d8576b"
             ],
             [
              0.6666666666666666,
              "#ed7953"
             ],
             [
              0.7777777777777778,
              "#fb9f3a"
             ],
             [
              0.8888888888888888,
              "#fdca26"
             ],
             [
              1,
              "#f0f921"
             ]
            ],
            "type": "heatmapgl"
           }
          ],
          "histogram": [
           {
            "marker": {
             "colorbar": {
              "outlinewidth": 0,
              "ticks": ""
             }
            },
            "type": "histogram"
           }
          ],
          "histogram2d": [
           {
            "colorbar": {
             "outlinewidth": 0,
             "ticks": ""
            },
            "colorscale": [
             [
              0,
              "#0d0887"
             ],
             [
              0.1111111111111111,
              "#46039f"
             ],
             [
              0.2222222222222222,
              "#7201a8"
             ],
             [
              0.3333333333333333,
              "#9c179e"
             ],
             [
              0.4444444444444444,
              "#bd3786"
             ],
             [
              0.5555555555555556,
              "#d8576b"
             ],
             [
              0.6666666666666666,
              "#ed7953"
             ],
             [
              0.7777777777777778,
              "#fb9f3a"
             ],
             [
              0.8888888888888888,
              "#fdca26"
             ],
             [
              1,
              "#f0f921"
             ]
            ],
            "type": "histogram2d"
           }
          ],
          "histogram2dcontour": [
           {
            "colorbar": {
             "outlinewidth": 0,
             "ticks": ""
            },
            "colorscale": [
             [
              0,
              "#0d0887"
             ],
             [
              0.1111111111111111,
              "#46039f"
             ],
             [
              0.2222222222222222,
              "#7201a8"
             ],
             [
              0.3333333333333333,
              "#9c179e"
             ],
             [
              0.4444444444444444,
              "#bd3786"
             ],
             [
              0.5555555555555556,
              "#d8576b"
             ],
             [
              0.6666666666666666,
              "#ed7953"
             ],
             [
              0.7777777777777778,
              "#fb9f3a"
             ],
             [
              0.8888888888888888,
              "#fdca26"
             ],
             [
              1,
              "#f0f921"
             ]
            ],
            "type": "histogram2dcontour"
           }
          ],
          "mesh3d": [
           {
            "colorbar": {
             "outlinewidth": 0,
             "ticks": ""
            },
            "type": "mesh3d"
           }
          ],
          "parcoords": [
           {
            "line": {
             "colorbar": {
              "outlinewidth": 0,
              "ticks": ""
             }
            },
            "type": "parcoords"
           }
          ],
          "pie": [
           {
            "automargin": true,
            "type": "pie"
           }
          ],
          "scatter": [
           {
            "marker": {
             "colorbar": {
              "outlinewidth": 0,
              "ticks": ""
             }
            },
            "type": "scatter"
           }
          ],
          "scatter3d": [
           {
            "line": {
             "colorbar": {
              "outlinewidth": 0,
              "ticks": ""
             }
            },
            "marker": {
             "colorbar": {
              "outlinewidth": 0,
              "ticks": ""
             }
            },
            "type": "scatter3d"
           }
          ],
          "scattercarpet": [
           {
            "marker": {
             "colorbar": {
              "outlinewidth": 0,
              "ticks": ""
             }
            },
            "type": "scattercarpet"
           }
          ],
          "scattergeo": [
           {
            "marker": {
             "colorbar": {
              "outlinewidth": 0,
              "ticks": ""
             }
            },
            "type": "scattergeo"
           }
          ],
          "scattergl": [
           {
            "marker": {
             "colorbar": {
              "outlinewidth": 0,
              "ticks": ""
             }
            },
            "type": "scattergl"
           }
          ],
          "scattermapbox": [
           {
            "marker": {
             "colorbar": {
              "outlinewidth": 0,
              "ticks": ""
             }
            },
            "type": "scattermapbox"
           }
          ],
          "scatterpolar": [
           {
            "marker": {
             "colorbar": {
              "outlinewidth": 0,
              "ticks": ""
             }
            },
            "type": "scatterpolar"
           }
          ],
          "scatterpolargl": [
           {
            "marker": {
             "colorbar": {
              "outlinewidth": 0,
              "ticks": ""
             }
            },
            "type": "scatterpolargl"
           }
          ],
          "scatterternary": [
           {
            "marker": {
             "colorbar": {
              "outlinewidth": 0,
              "ticks": ""
             }
            },
            "type": "scatterternary"
           }
          ],
          "surface": [
           {
            "colorbar": {
             "outlinewidth": 0,
             "ticks": ""
            },
            "colorscale": [
             [
              0,
              "#0d0887"
             ],
             [
              0.1111111111111111,
              "#46039f"
             ],
             [
              0.2222222222222222,
              "#7201a8"
             ],
             [
              0.3333333333333333,
              "#9c179e"
             ],
             [
              0.4444444444444444,
              "#bd3786"
             ],
             [
              0.5555555555555556,
              "#d8576b"
             ],
             [
              0.6666666666666666,
              "#ed7953"
             ],
             [
              0.7777777777777778,
              "#fb9f3a"
             ],
             [
              0.8888888888888888,
              "#fdca26"
             ],
             [
              1,
              "#f0f921"
             ]
            ],
            "type": "surface"
           }
          ],
          "table": [
           {
            "cells": {
             "fill": {
              "color": "#EBF0F8"
             },
             "line": {
              "color": "white"
             }
            },
            "header": {
             "fill": {
              "color": "#C8D4E3"
             },
             "line": {
              "color": "white"
             }
            },
            "type": "table"
           }
          ]
         },
         "layout": {
          "annotationdefaults": {
           "arrowcolor": "#2a3f5f",
           "arrowhead": 0,
           "arrowwidth": 1
          },
          "coloraxis": {
           "colorbar": {
            "outlinewidth": 0,
            "ticks": ""
           }
          },
          "colorscale": {
           "diverging": [
            [
             0,
             "#8e0152"
            ],
            [
             0.1,
             "#c51b7d"
            ],
            [
             0.2,
             "#de77ae"
            ],
            [
             0.3,
             "#f1b6da"
            ],
            [
             0.4,
             "#fde0ef"
            ],
            [
             0.5,
             "#f7f7f7"
            ],
            [
             0.6,
             "#e6f5d0"
            ],
            [
             0.7,
             "#b8e186"
            ],
            [
             0.8,
             "#7fbc41"
            ],
            [
             0.9,
             "#4d9221"
            ],
            [
             1,
             "#276419"
            ]
           ],
           "sequential": [
            [
             0,
             "#0d0887"
            ],
            [
             0.1111111111111111,
             "#46039f"
            ],
            [
             0.2222222222222222,
             "#7201a8"
            ],
            [
             0.3333333333333333,
             "#9c179e"
            ],
            [
             0.4444444444444444,
             "#bd3786"
            ],
            [
             0.5555555555555556,
             "#d8576b"
            ],
            [
             0.6666666666666666,
             "#ed7953"
            ],
            [
             0.7777777777777778,
             "#fb9f3a"
            ],
            [
             0.8888888888888888,
             "#fdca26"
            ],
            [
             1,
             "#f0f921"
            ]
           ],
           "sequentialminus": [
            [
             0,
             "#0d0887"
            ],
            [
             0.1111111111111111,
             "#46039f"
            ],
            [
             0.2222222222222222,
             "#7201a8"
            ],
            [
             0.3333333333333333,
             "#9c179e"
            ],
            [
             0.4444444444444444,
             "#bd3786"
            ],
            [
             0.5555555555555556,
             "#d8576b"
            ],
            [
             0.6666666666666666,
             "#ed7953"
            ],
            [
             0.7777777777777778,
             "#fb9f3a"
            ],
            [
             0.8888888888888888,
             "#fdca26"
            ],
            [
             1,
             "#f0f921"
            ]
           ]
          },
          "colorway": [
           "#636efa",
           "#EF553B",
           "#00cc96",
           "#ab63fa",
           "#FFA15A",
           "#19d3f3",
           "#FF6692",
           "#B6E880",
           "#FF97FF",
           "#FECB52"
          ],
          "font": {
           "color": "#2a3f5f"
          },
          "geo": {
           "bgcolor": "white",
           "lakecolor": "white",
           "landcolor": "#E5ECF6",
           "showlakes": true,
           "showland": true,
           "subunitcolor": "white"
          },
          "hoverlabel": {
           "align": "left"
          },
          "hovermode": "closest",
          "mapbox": {
           "style": "light"
          },
          "paper_bgcolor": "white",
          "plot_bgcolor": "#E5ECF6",
          "polar": {
           "angularaxis": {
            "gridcolor": "white",
            "linecolor": "white",
            "ticks": ""
           },
           "bgcolor": "#E5ECF6",
           "radialaxis": {
            "gridcolor": "white",
            "linecolor": "white",
            "ticks": ""
           }
          },
          "scene": {
           "xaxis": {
            "backgroundcolor": "#E5ECF6",
            "gridcolor": "white",
            "gridwidth": 2,
            "linecolor": "white",
            "showbackground": true,
            "ticks": "",
            "zerolinecolor": "white"
           },
           "yaxis": {
            "backgroundcolor": "#E5ECF6",
            "gridcolor": "white",
            "gridwidth": 2,
            "linecolor": "white",
            "showbackground": true,
            "ticks": "",
            "zerolinecolor": "white"
           },
           "zaxis": {
            "backgroundcolor": "#E5ECF6",
            "gridcolor": "white",
            "gridwidth": 2,
            "linecolor": "white",
            "showbackground": true,
            "ticks": "",
            "zerolinecolor": "white"
           }
          },
          "shapedefaults": {
           "line": {
            "color": "#2a3f5f"
           }
          },
          "ternary": {
           "aaxis": {
            "gridcolor": "white",
            "linecolor": "white",
            "ticks": ""
           },
           "baxis": {
            "gridcolor": "white",
            "linecolor": "white",
            "ticks": ""
           },
           "bgcolor": "#E5ECF6",
           "caxis": {
            "gridcolor": "white",
            "linecolor": "white",
            "ticks": ""
           }
          },
          "title": {
           "x": 0.05
          },
          "xaxis": {
           "automargin": true,
           "gridcolor": "white",
           "linecolor": "white",
           "ticks": "",
           "title": {
            "standoff": 15
           },
           "zerolinecolor": "white",
           "zerolinewidth": 2
          },
          "yaxis": {
           "automargin": true,
           "gridcolor": "white",
           "linecolor": "white",
           "ticks": "",
           "title": {
            "standoff": 15
           },
           "zerolinecolor": "white",
           "zerolinewidth": 2
          }
         }
        },
        "xaxis": {
         "anchor": "y",
         "autorange": true,
         "domain": [
          0,
          1
         ],
         "range": [
          "2020-09-29",
          "2020-10-06 23:00"
         ],
         "title": {
          "text": "date_heure"
         },
         "type": "date"
        },
        "yaxis": {
         "anchor": "x",
         "autorange": true,
         "domain": [
          0,
          1
         ],
         "range": [
          -60.16666666666667,
          1143.1666666666667
         ],
         "title": {
          "text": "nbVeh"
         },
         "type": "linear"
        }
       }
      },
      "image/png": "[encoded data removed]",
      "text/html": [
       "<div>                            <div id=\"a1c61d12-f2b9-4d43-8f36-6a165f895566\" class=\"plotly-graph-div\" style=\"height:525px; width:100%;\"></div>            <script type=\"text/javascript\">                require([\"plotly\"], function(Plotly) {                    window.PLOTLYENV=window.PLOTLYENV || {};                                    if (document.getElementById(\"a1c61d12-f2b9-4d43-8f36-6a165f895566\")) {                    Plotly.newPlot(                        \"a1c61d12-f2b9-4d43-8f36-6a165f895566\",                        [{\"hovertemplate\": \"type_veh=2r<br>date_heure=%{x}<br>nbVeh=%{y}<extra></extra>\", \"legendgroup\": \"2r\", \"line\": {\"color\": \"#636efa\", \"dash\": \"solid\"}, \"mode\": \"lines\", \"name\": \"2r\", \"orientation\": \"v\", \"showlegend\": true, \"type\": \"scatter\", \"x\": [\"2020-09-29T00:00:00\", \"2020-09-29T01:00:00\", \"2020-09-29T02:00:00\", \"2020-09-29T03:00:00\", \"2020-09-29T04:00:00\", \"2020-09-29T05:00:00\", \"2020-09-29T06:00:00\", \"2020-09-29T07:00:00\", \"2020-09-29T08:00:00\", \"2020-09-29T09:00:00\", \"2020-09-29T10:00:00\", \"2020-09-29T11:00:00\", \"2020-09-29T12:00:00\", \"2020-09-29T13:00:00\", \"2020-09-29T14:00:00\", \"2020-09-29T15:00:00\", \"2020-09-29T16:00:00\", \"2020-09-29T17:00:00\", \"2020-09-29T18:00:00\", \"2020-09-29T19:00:00\", \"2020-09-29T20:00:00\", \"2020-09-29T21:00:00\", \"2020-09-29T22:00:00\", \"2020-09-29T23:00:00\", \"2020-09-30T00:00:00\", \"2020-09-30T01:00:00\", \"2020-09-30T02:00:00\", \"2020-09-30T03:00:00\", \"2020-09-30T04:00:00\", \"2020-09-30T05:00:00\", \"2020-09-30T06:00:00\", \"2020-09-30T07:00:00\", \"2020-09-30T08:00:00\", \"2020-09-30T09:00:00\", \"2020-09-30T10:00:00\", \"2020-09-30T11:00:00\", \"2020-09-30T12:00:00\", \"2020-09-30T13:00:00\", \"2020-09-30T14:00:00\", \"2020-09-30T15:00:00\", \"2020-09-30T16:00:00\", \"2020-09-30T17:00:00\", \"2020-09-30T18:00:00\", \"2020-09-30T19:00:00\", \"2020-09-30T20:00:00\", \"2020-09-30T21:00:00\", \"2020-09-30T22:00:00\", \"2020-09-30T23:00:00\", \"2020-10-01T00:00:00\", \"2020-10-01T01:00:00\", \"2020-10-01T02:00:00\", \"2020-10-01T03:00:00\", \"2020-10-01T04:00:00\", \"2020-10-01T05:00:00\", \"2020-10-01T06:00:00\", \"2020-10-01T07:00:00\", \"2020-10-01T08:00:00\", \"2020-10-01T09:00:00\", \"2020-10-01T10:00:00\", \"2020-10-01T11:00:00\", \"2020-10-01T12:00:00\", \"2020-10-01T13:00:00\", \"2020-10-01T14:00:00\", \"2020-10-01T15:00:00\", \"2020-10-01T16:00:00\", \"2020-10-01T17:00:00\", \"2020-10-01T18:00:00\", \"2020-10-01T19:00:00\", \"2020-10-01T20:00:00\", \"2020-10-01T21:00:00\", \"2020-10-01T22:00:00\", \"2020-10-01T23:00:00\", \"2020-10-02T00:00:00\", \"2020-10-02T01:00:00\", \"2020-10-02T02:00:00\", \"2020-10-02T03:00:00\", \"2020-10-02T04:00:00\", \"2020-10-02T05:00:00\", \"2020-10-02T06:00:00\", \"2020-10-02T07:00:00\", \"2020-10-02T08:00:00\", \"2020-10-02T09:00:00\", \"2020-10-02T10:00:00\", \"2020-10-02T11:00:00\", \"2020-10-02T12:00:00\", \"2020-10-02T13:00:00\", \"2020-10-02T14:00:00\", \"2020-10-02T15:00:00\", \"2020-10-02T16:00:00\", \"2020-10-02T17:00:00\", \"2020-10-02T18:00:00\", \"2020-10-02T19:00:00\", \"2020-10-02T20:00:00\", \"2020-10-02T21:00:00\", \"2020-10-02T22:00:00\", \"2020-10-02T23:00:00\", \"2020-10-03T00:00:00\", \"2020-10-03T01:00:00\", \"2020-10-03T02:00:00\", \"2020-10-03T03:00:00\", \"2020-10-03T04:00:00\", \"2020-10-03T05:00:00\", \"2020-10-03T06:00:00\", \"2020-10-03T07:00:00\", \"2020-10-03T08:00:00\", \"2020-10-03T09:00:00\", \"2020-10-03T10:00:00\", \"2020-10-03T11:00:00\", \"2020-10-03T12:00:00\", \"2020-10-03T13:00:00\", \"2020-10-03T14:00:00\", \"2020-10-03T15:00:00\", \"2020-10-03T16:00:00\", \"2020-10-03T17:00:00\", \"2020-10-03T18:00:00\", \"2020-10-03T19:00:00\", \"2020-10-03T20:00:00\", \"2020-10-03T21:00:00\", \"2020-10-03T22:00:00\", \"2020-10-03T23:00:00\", \"2020-10-04T00:00:00\", \"2020-10-04T01:00:00\", \"2020-10-04T02:00:00\", \"2020-10-04T03:00:00\", \"2020-10-04T04:00:00\", \"2020-10-04T05:00:00\", \"2020-10-04T06:00:00\", \"2020-10-04T07:00:00\", \"2020-10-04T08:00:00\", \"2020-10-04T09:00:00\", \"2020-10-04T10:00:00\", \"2020-10-04T11:00:00\", \"2020-10-04T12:00:00\", \"2020-10-04T13:00:00\", \"2020-10-04T14:00:00\", \"2020-10-04T15:00:00\", \"2020-10-04T16:00:00\", \"2020-10-04T17:00:00\", \"2020-10-04T18:00:00\", \"2020-10-04T19:00:00\", \"2020-10-04T20:00:00\", \"2020-10-04T21:00:00\", \"2020-10-04T22:00:00\", \"2020-10-04T23:00:00\", \"2020-10-05T00:00:00\", \"2020-10-05T01:00:00\", \"2020-10-05T02:00:00\", \"2020-10-05T03:00:00\", \"2020-10-05T04:00:00\", \"2020-10-05T05:00:00\", \"2020-10-05T06:00:00\", \"2020-10-05T07:00:00\", \"2020-10-05T08:00:00\", \"2020-10-05T09:00:00\", \"2020-10-05T10:00:00\", \"2020-10-05T11:00:00\", \"2020-10-05T12:00:00\", \"2020-10-05T13:00:00\", \"2020-10-05T14:00:00\", \"2020-10-05T15:00:00\", \"2020-10-05T16:00:00\", \"2020-10-05T17:00:00\", \"2020-10-05T18:00:00\", \"2020-10-05T19:00:00\", \"2020-10-05T20:00:00\", \"2020-10-05T21:00:00\", \"2020-10-05T22:00:00\", \"2020-10-05T23:00:00\", \"2020-10-06T00:00:00\", \"2020-10-06T01:00:00\", \"2020-10-06T02:00:00\", \"2020-10-06T03:00:00\", \"2020-10-06T04:00:00\", \"2020-10-06T05:00:00\", \"2020-10-06T06:00:00\", \"2020-10-06T07:00:00\", \"2020-10-06T08:00:00\", \"2020-10-06T09:00:00\", \"2020-10-06T10:00:00\", \"2020-10-06T11:00:00\", \"2020-10-06T12:00:00\", \"2020-10-06T13:00:00\", \"2020-10-06T14:00:00\", \"2020-10-06T15:00:00\", \"2020-10-06T16:00:00\", \"2020-10-06T17:00:00\", \"2020-10-06T18:00:00\", \"2020-10-06T19:00:00\", \"2020-10-06T20:00:00\", \"2020-10-06T21:00:00\", \"2020-10-06T22:00:00\", \"2020-10-06T23:00:00\"], \"xaxis\": \"x\", \"y\": [1.0, 1.0, 0.0, 0.0, 0.0, 0.0, 2.0, 10.0, 13.0, 9.0, 11.0, 17.0, 7.0, 11.0, 10.0, 10.0, 9.0, 24.0, 26.0, 9.0, 3.0, 2.0, 2.0, 0.0, 1.0, 0.0, 0.0, 0.0, 0.0, 2.0, 4.0, 7.0, 20.0, 10.0, 17.0, 12.0, 7.0, 13.0, 16.0, 15.0, 14.0, 20.0, 13.0, 9.0, 6.0, 1.0, 0.0, 1.0, 0.0, 1.0, 0.0, 0.0, 0.0, 1.0, 1.0, 10.0, 10.0, 11.0, 15.0, 9.0, 14.0, 6.0, 6.0, 11.0, 7.0, 15.0, 8.0, 6.0, 4.0, 1.0, 3.0, 0.0, 0.0, 1.0, 0.0, 1.0, 0.0, 0.0, 1.0, 9.0, 5.0, 24.0, 8.0, 18.0, 8.0, 7.0, 3.0, 4.0, 13.0, 9.0, 7.0, 9.0, 2.0, 1.0, 1.0, 0.0, 2.0, 1.0, 0.0, 1.0, 0.0, 0.0, 2.0, 1.0, 6.0, 4.0, 8.0, 10.0, 10.0, 14.0, 22.0, 13.0, 22.0, 19.0, 7.0, 14.0, 2.0, 0.0, 0.0, 3.0, 0.0, 0.0, 0.0, 0.0, 1.0, 0.0, 2.0, 0.0, 0.0, 1.0, 2.0, 2.0, 1.0, 1.0, 1.0, 2.0, 2.0, 7.0, 0.0, 3.0, 1.0, 4.0, 0.0, 0.0, 0.0, 0.0, 0.0, 0.0, 0.0, 0.0, 0.0, 8.0, 8.0, 5.0, 13.0, 4.0, 10.0, 8.0, 4.0, 8.0, 17.0, 20.0, 13.0, 5.0, 5.0, 1.0, 1.0, 0.0, 0.0, 2.0, 0.0, 0.0, 1.0, 0.0, 6.0, 5.0, 11.0, 12.0, 25.0, 27.0, 12.0, 10.0, 13.0, 12.0, 14.0, 9.0, 19.0, 3.0, 1.0, 1.0, 0.0, 0.0], \"yaxis\": \"y\"}, {\"hovertemplate\": \"type_veh=pl<br>date_heure=%{x}<br>nbVeh=%{y}<extra></extra>\", \"legendgroup\": \"pl\", \"line\": {\"color\": \"#EF553B\", \"dash\": \"solid\"}, \"mode\": \"lines\", \"name\": \"pl\", \"orientation\": \"v\", \"showlegend\": true, \"type\": \"scatter\", \"x\": [\"2020-09-29T00:00:00\", \"2020-09-29T01:00:00\", \"2020-09-29T02:00:00\", \"2020-09-29T03:00:00\", \"2020-09-29T04:00:00\", \"2020-09-29T05:00:00\", \"2020-09-29T06:00:00\", \"2020-09-29T07:00:00\", \"2020-09-29T08:00:00\", \"2020-09-29T09:00:00\", \"2020-09-29T10:00:00\", \"2020-09-29T11:00:00\", \"2020-09-29T12:00:00\", \"2020-09-29T13:00:00\", \"2020-09-29T14:00:00\", \"2020-09-29T15:00:00\", \"2020-09-29T16:00:00\", \"2020-09-29T17:00:00\", \"2020-09-29T18:00:00\", \"2020-09-29T19:00:00\", \"2020-09-29T20:00:00\", \"2020-09-29T21:00:00\", \"2020-09-29T22:00:00\", \"2020-09-29T23:00:00\", \"2020-09-30T00:00:00\", \"2020-09-30T01:00:00\", \"2020-09-30T02:00:00\", \"2020-09-30T03:00:00\", \"2020-09-30T04:00:00\", \"2020-09-30T05:00:00\", \"2020-09-30T06:00:00\", \"2020-09-30T07:00:00\", \"2020-09-30T08:00:00\", \"2020-09-30T09:00:00\", \"2020-09-30T10:00:00\", \"2020-09-30T11:00:00\", \"2020-09-30T12:00:00\", \"2020-09-30T13:00:00\", \"2020-09-30T14:00:00\", \"2020-09-30T15:00:00\", \"2020-09-30T16:00:00\", \"2020-09-30T17:00:00\", \"2020-09-30T18:00:00\", \"2020-09-30T19:00:00\", \"2020-09-30T20:00:00\", \"2020-09-30T21:00:00\", \"2020-09-30T22:00:00\", \"2020-09-30T23:00:00\", \"2020-10-01T00:00:00\", \"2020-10-01T01:00:00\", \"2020-10-01T02:00:00\", \"2020-10-01T03:00:00\", \"2020-10-01T04:00:00\", \"2020-10-01T05:00:00\", \"2020-10-01T06:00:00\", \"2020-10-01T07:00:00\", \"2020-10-01T08:00:00\", \"2020-10-01T09:00:00\", \"2020-10-01T10:00:00\", \"2020-10-01T11:00:00\", \"2020-10-01T12:00:00\", \"2020-10-01T13:00:00\", \"2020-10-01T14:00:00\", \"2020-10-01T15:00:00\", \"2020-10-01T16:00:00\", \"2020-10-01T17:00:00\", \"2020-10-01T18:00:00\", \"2020-10-01T19:00:00\", \"2020-10-01T20:00:00\", \"2020-10-01T21:00:00\", \"2020-10-01T22:00:00\", \"2020-10-01T23:00:00\", \"2020-10-02T00:00:00\", \"2020-10-02T01:00:00\", \"2020-10-02T02:00:00\", \"2020-10-02T03:00:00\", \"2020-10-02T04:00:00\", \"2020-10-02T05:00:00\", \"2020-10-02T06:00:00\", \"2020-10-02T07:00:00\", \"2020-10-02T08:00:00\", \"2020-10-02T09:00:00\", \"2020-10-02T10:00:00\", \"2020-10-02T11:00:00\", \"2020-10-02T12:00:00\", \"2020-10-02T13:00:00\", \"2020-10-02T14:00:00\", \"2020-10-02T15:00:00\", \"2020-10-02T16:00:00\", \"2020-10-02T17:00:00\", \"2020-10-02T18:00:00\", \"2020-10-02T19:00:00\", \"2020-10-02T20:00:00\", \"2020-10-02T21:00:00\", \"2020-10-02T22:00:00\", \"2020-10-02T23:00:00\", \"2020-10-03T00:00:00\", \"2020-10-03T01:00:00\", \"2020-10-03T02:00:00\", \"2020-10-03T03:00:00\", \"2020-10-03T04:00:00\", \"2020-10-03T05:00:00\", \"2020-10-03T06:00:00\", \"2020-10-03T07:00:00\", \"2020-10-03T08:00:00\", \"2020-10-03T09:00:00\", \"2020-10-03T10:00:00\", \"2020-10-03T11:00:00\", \"2020-10-03T12:00:00\", \"2020-10-03T13:00:00\", \"2020-10-03T14:00:00\", \"2020-10-03T15:00:00\", \"2020-10-03T16:00:00\", \"2020-10-03T17:00:00\", \"2020-10-03T18:00:00\", \"2020-10-03T19:00:00\", \"2020-10-03T20:00:00\", \"2020-10-03T21:00:00\", \"2020-10-03T22:00:00\", \"2020-10-03T23:00:00\", \"2020-10-04T00:00:00\", \"2020-10-04T01:00:00\", \"2020-10-04T02:00:00\", \"2020-10-04T03:00:00\", \"2020-10-04T04:00:00\", \"2020-10-04T05:00:00\", \"2020-10-04T06:00:00\", \"2020-10-04T07:00:00\", \"2020-10-04T08:00:00\", \"2020-10-04T09:00:00\", \"2020-10-04T10:00:00\", \"2020-10-04T11:00:00\", \"2020-10-04T12:00:00\", \"2020-10-04T13:00:00\", \"2020-10-04T14:00:00\", \"2020-10-04T15:00:00\", \"2020-10-04T16:00:00\", \"2020-10-04T17:00:00\", \"2020-10-04T18:00:00\", \"2020-10-04T19:00:00\", \"2020-10-04T20:00:00\", \"2020-10-04T21:00:00\", \"2020-10-04T22:00:00\", \"2020-10-04T23:00:00\", \"2020-10-05T00:00:00\", \"2020-10-05T01:00:00\", \"2020-10-05T02:00:00\", \"2020-10-05T03:00:00\", \"2020-10-05T04:00:00\", \"2020-10-05T05:00:00\", \"2020-10-05T06:00:00\", \"2020-10-05T07:00:00\", \"2020-10-05T08:00:00\", \"2020-10-05T09:00:00\", \"2020-10-05T10:00:00\", \"2020-10-05T11:00:00\", \"2020-10-05T12:00:00\", \"2020-10-05T13:00:00\", \"2020-10-05T14:00:00\", \"2020-10-05T15:00:00\", \"2020-10-05T16:00:00\", \"2020-10-05T17:00:00\", \"2020-10-05T18:00:00\", \"2020-10-05T19:00:00\", \"2020-10-05T20:00:00\", \"2020-10-05T21:00:00\", \"2020-10-05T22:00:00\", \"2020-10-05T23:00:00\", \"2020-10-06T00:00:00\", \"2020-10-06T01:00:00\", \"2020-10-06T02:00:00\", \"2020-10-06T03:00:00\", \"2020-10-06T04:00:00\", \"2020-10-06T05:00:00\", \"2020-10-06T06:00:00\", \"2020-10-06T07:00:00\", \"2020-10-06T08:00:00\", \"2020-10-06T09:00:00\", \"2020-10-06T10:00:00\", \"2020-10-06T11:00:00\", \"2020-10-06T12:00:00\", \"2020-10-06T13:00:00\", \"2020-10-06T14:00:00\", \"2020-10-06T15:00:00\", \"2020-10-06T16:00:00\", \"2020-10-06T17:00:00\", \"2020-10-06T18:00:00\", \"2020-10-06T19:00:00\", \"2020-10-06T20:00:00\", \"2020-10-06T21:00:00\", \"2020-10-06T22:00:00\", \"2020-10-06T23:00:00\"], \"xaxis\": \"x\", \"y\": [4.0, 0.0, 1.0, 2.0, 3.0, 0.0, 4.0, 11.0, 7.0, 12.0, 5.0, 11.0, 5.0, 10.0, 5.0, 7.0, 8.0, 7.0, 9.0, 1.0, 1.0, 3.0, 0.0, 0.0, 0.0, 0.0, 0.0, 0.0, 1.0, 2.0, 6.0, 8.0, 12.0, 17.0, 6.0, 11.0, 9.0, 9.0, 3.0, 4.0, 8.0, 2.0, 3.0, 3.0, 1.0, 1.0, 0.0, 0.0, 2.0, 0.0, 2.0, 0.0, 1.0, 1.0, 1.0, 13.0, 7.0, 9.0, 6.0, 7.0, 8.0, 6.0, 6.0, 4.0, 11.0, 2.0, 5.0, 0.0, 3.0, 1.0, 0.0, 1.0, 0.0, 0.0, 0.0, 0.0, 0.0, 1.0, 2.0, 9.0, 8.0, 3.0, 6.0, 7.0, 4.0, 6.0, 2.0, 5.0, 3.0, 2.0, 2.0, 1.0, 2.0, 0.0, 0.0, 0.0, 1.0, 0.0, 0.0, 0.0, 1.0, 0.0, 0.0, 1.0, 1.0, 0.0, 1.0, 2.0, 1.0, 2.0, 0.0, 0.0, 1.0, 0.0, 2.0, 2.0, 0.0, 0.0, 0.0, 0.0, 0.0, 0.0, 1.0, 0.0, 0.0, 0.0, 0.0, 0.0, 0.0, 0.0, 0.0, 0.0, 0.0, 3.0, 1.0, 0.0, 1.0, 0.0, 2.0, 2.0, 1.0, 0.0, 0.0, 0.0, 0.0, 0.0, 0.0, 0.0, 1.0, 1.0, 0.0, 11.0, 4.0, 8.0, 10.0, 4.0, 3.0, 3.0, 4.0, 2.0, 5.0, 3.0, 3.0, 1.0, 2.0, 0.0, 0.0, 0.0, 1.0, 2.0, 0.0, 0.0, 1.0, 1.0, 0.0, 6.0, 9.0, 14.0, 13.0, 4.0, 2.0, 3.0, 7.0, 7.0, 7.0, 2.0, 6.0, 2.0, 4.0, 0.0, 0.0, 0.0], \"yaxis\": \"y\"}, {\"hovertemplate\": \"type_veh=vl<br>date_heure=%{x}<br>nbVeh=%{y}<extra></extra>\", \"legendgroup\": \"vl\", \"line\": {\"color\": \"#00cc96\", \"dash\": \"solid\"}, \"mode\": \"lines\", \"name\": \"vl\", \"orientation\": \"v\", \"showlegend\": true, \"type\": \"scatter\", \"x\": [\"2020-09-29T00:00:00\", \"2020-09-29T01:00:00\", \"2020-09-29T02:00:00\", \"2020-09-29T03:00:00\", \"2020-09-29T04:00:00\", \"2020-09-29T05:00:00\", \"2020-09-29T06:00:00\", \"2020-09-29T07:00:00\", \"2020-09-29T08:00:00\", \"2020-09-29T09:00:00\", \"2020-09-29T10:00:00\", \"2020-09-29T11:00:00\", \"2020-09-29T12:00:00\", \"2020-09-29T13:00:00\", \"2020-09-29T14:00:00\", \"2020-09-29T15:00:00\", \"2020-09-29T16:00:00\", \"2020-09-29T17:00:00\", \"2020-09-29T18:00:00\", \"2020-09-29T19:00:00\", \"2020-09-29T20:00:00\", \"2020-09-29T21:00:00\", \"2020-09-29T22:00:00\", \"2020-09-29T23:00:00\", \"2020-09-30T00:00:00\", \"2020-09-30T01:00:00\", \"2020-09-30T02:00:00\", \"2020-09-30T03:00:00\", \"2020-09-30T04:00:00\", \"2020-09-30T05:00:00\", \"2020-09-30T06:00:00\", \"2020-09-30T07:00:00\", \"2020-09-30T08:00:00\", \"2020-09-30T09:00:00\", \"2020-09-30T10:00:00\", \"2020-09-30T11:00:00\", \"2020-09-30T12:00:00\", \"2020-09-30T13:00:00\", \"2020-09-30T14:00:00\", \"2020-09-30T15:00:00\", \"2020-09-30T16:00:00\", \"2020-09-30T17:00:00\", \"2020-09-30T18:00:00\", \"2020-09-30T19:00:00\", \"2020-09-30T20:00:00\", \"2020-09-30T21:00:00\", \"2020-09-30T22:00:00\", \"2020-09-30T23:00:00\", \"2020-10-01T00:00:00\", \"2020-10-01T01:00:00\", \"2020-10-01T02:00:00\", \"2020-10-01T03:00:00\", \"2020-10-01T04:00:00\", \"2020-10-01T05:00:00\", \"2020-10-01T06:00:00\", \"2020-10-01T07:00:00\", \"2020-10-01T08:00:00\", \"2020-10-01T09:00:00\", \"2020-10-01T10:00:00\", \"2020-10-01T11:00:00\", \"2020-10-01T12:00:00\", \"2020-10-01T13:00:00\", \"2020-10-01T14:00:00\", \"2020-10-01T15:00:00\", \"2020-10-01T16:00:00\", \"2020-10-01T17:00:00\", \"2020-10-01T18:00:00\", \"2020-10-01T19:00:00\", \"2020-10-01T20:00:00\", \"2020-10-01T21:00:00\", \"2020-10-01T22:00:00\", \"2020-10-01T23:00:00\", \"2020-10-02T00:00:00\", \"2020-10-02T01:00:00\", \"2020-10-02T02:00:00\", \"2020-10-02T03:00:00\", \"2020-10-02T04:00:00\", \"2020-10-02T05:00:00\", \"2020-10-02T06:00:00\", \"2020-10-02T07:00:00\", \"2020-10-02T08:00:00\", \"2020-10-02T09:00:00\", \"2020-10-02T10:00:00\", \"2020-10-02T11:00:00\", \"2020-10-02T12:00:00\", \"2020-10-02T13:00:00\", \"2020-10-02T14:00:00\", \"2020-10-02T15:00:00\", \"2020-10-02T16:00:00\", \"2020-10-02T17:00:00\", \"2020-10-02T18:00:00\", \"2020-10-02T19:00:00\", \"2020-10-02T20:00:00\", \"2020-10-02T21:00:00\", \"2020-10-02T22:00:00\", \"2020-10-02T23:00:00\", \"2020-10-03T00:00:00\", \"2020-10-03T01:00:00\", \"2020-10-03T02:00:00\", \"2020-10-03T03:00:00\", \"2020-10-03T04:00:00\", \"2020-10-03T05:00:00\", \"2020-10-03T06:00:00\", \"2020-10-03T07:00:00\", \"2020-10-03T08:00:00\", \"2020-10-03T09:00:00\", \"2020-10-03T10:00:00\", \"2020-10-03T11:00:00\", \"2020-10-03T12:00:00\", \"2020-10-03T13:00:00\", \"2020-10-03T14:00:00\", \"2020-10-03T15:00:00\", \"2020-10-03T16:00:00\", \"2020-10-03T17:00:00\", \"2020-10-03T18:00:00\", \"2020-10-03T19:00:00\", \"2020-10-03T20:00:00\", \"2020-10-03T21:00:00\", \"2020-10-03T22:00:00\", \"2020-10-03T23:00:00\", \"2020-10-04T00:00:00\", \"2020-10-04T01:00:00\", \"2020-10-04T02:00:00\", \"2020-10-04T03:00:00\", \"2020-10-04T04:00:00\", \"2020-10-04T05:00:00\", \"2020-10-04T06:00:00\", \"2020-10-04T07:00:00\", \"2020-10-04T08:00:00\", \"2020-10-04T09:00:00\", \"2020-10-04T10:00:00\", \"2020-10-04T11:00:00\", \"2020-10-04T12:00:00\", \"2020-10-04T13:00:00\", \"2020-10-04T14:00:00\", \"2020-10-04T15:00:00\", \"2020-10-04T16:00:00\", \"2020-10-04T17:00:00\", \"2020-10-04T18:00:00\", \"2020-10-04T19:00:00\", \"2020-10-04T20:00:00\", \"2020-10-04T21:00:00\", \"2020-10-04T22:00:00\", \"2020-10-04T23:00:00\", \"2020-10-05T00:00:00\", \"2020-10-05T01:00:00\", \"2020-10-05T02:00:00\", \"2020-10-05T03:00:00\", \"2020-10-05T04:00:00\", \"2020-10-05T05:00:00\", \"2020-10-05T06:00:00\", \"2020-10-05T07:00:00\", \"2020-10-05T08:00:00\", \"2020-10-05T09:00:00\", \"2020-10-05T10:00:00\", \"2020-10-05T11:00:00\", \"2020-10-05T12:00:00\", \"2020-10-05T13:00:00\", \"2020-10-05T14:00:00\", \"2020-10-05T15:00:00\", \"2020-10-05T16:00:00\", \"2020-10-05T17:00:00\", \"2020-10-05T18:00:00\", \"2020-10-05T19:00:00\", \"2020-10-05T20:00:00\", \"2020-10-05T21:00:00\", \"2020-10-05T22:00:00\", \"2020-10-05T23:00:00\", \"2020-10-06T00:00:00\", \"2020-10-06T01:00:00\", \"2020-10-06T02:00:00\", \"2020-10-06T03:00:00\", \"2020-10-06T04:00:00\", \"2020-10-06T05:00:00\", \"2020-10-06T06:00:00\", \"2020-10-06T07:00:00\", \"2020-10-06T08:00:00\", \"2020-10-06T09:00:00\", \"2020-10-06T10:00:00\", \"2020-10-06T11:00:00\", \"2020-10-06T12:00:00\", \"2020-10-06T13:00:00\", \"2020-10-06T14:00:00\", \"2020-10-06T15:00:00\", \"2020-10-06T16:00:00\", \"2020-10-06T17:00:00\", \"2020-10-06T18:00:00\", \"2020-10-06T19:00:00\", \"2020-10-06T20:00:00\", \"2020-10-06T21:00:00\", \"2020-10-06T22:00:00\", \"2020-10-06T23:00:00\"], \"xaxis\": \"x\", \"y\": [12.0, 8.0, 9.0, 22.0, 26.0, 36.0, 146.0, 512.0, 765.0, 653.0, 742.0, 790.0, 724.0, 639.0, 742.0, 811.0, 907.0, 1083.0, 942.0, 608.0, 314.0, 163.0, 101.0, 60.0, 21.0, 12.0, 15.0, 15.0, 27.0, 37.0, 117.0, 488.0, 677.0, 605.0, 730.0, 771.0, 801.0, 674.0, 814.0, 835.0, 908.0, 1033.0, 876.0, 654.0, 308.0, 164.0, 90.0, 53.0, 24.0, 13.0, 16.0, 19.0, 30.0, 46.0, 97.0, 514.0, 796.0, 733.0, 813.0, 791.0, 762.0, 702.0, 784.0, 923.0, 965.0, 1051.0, 856.0, 677.0, 323.0, 177.0, 99.0, 65.0, 41.0, 19.0, 12.0, 15.0, 28.0, 30.0, 136.0, 494.0, 735.0, 664.0, 746.0, 803.0, 842.0, 683.0, 820.0, 975.0, 1022.0, 1021.0, 1003.0, 759.0, 406.0, 244.0, 151.0, 109.0, 75.0, 63.0, 34.0, 19.0, 36.0, 35.0, 59.0, 120.0, 291.0, 533.0, 817.0, 950.0, 809.0, 618.0, 684.0, 859.0, 851.0, 837.0, 744.0, 583.0, 307.0, 199.0, 133.0, 124.0, 91.0, 66.0, 52.0, 29.0, 30.0, 28.0, 24.0, 63.0, 140.0, 300.0, 501.0, 657.0, 536.0, 262.0, 275.0, 305.0, 356.0, 385.0, 472.0, 331.0, 241.0, 151.0, 81.0, 44.0, 18.0, 8.0, 6.0, 16.0, 38.0, 44.0, 139.0, 488.0, 801.0, 660.0, 675.0, 683.0, 759.0, 677.0, 696.0, 796.0, 941.0, 1076.0, 941.0, 580.0, 322.0, 158.0, 86.0, 36.0, 16.0, 17.0, 10.0, 21.0, 31.0, 42.0, 131.0, 506.0, 769.0, 685.0, 830.0, 768.0, 789.0, 677.0, 792.0, 864.0, 935.0, 1079.0, 1000.0, 636.0, 321.0, 173.0, 102.0, 52.0], \"yaxis\": \"y\"}],                        {\"legend\": {\"title\": {\"text\": \"type_veh\"}, \"tracegroupgap\": 0}, \"margin\": {\"t\": 60}, \"template\": {\"data\": {\"bar\": [{\"error_x\": {\"color\": \"#2a3f5f\"}, \"error_y\": {\"color\": \"#2a3f5f\"}, \"marker\": {\"line\": {\"color\": \"#E5ECF6\", \"width\": 0.5}}, \"type\": \"bar\"}], \"barpolar\": [{\"marker\": {\"line\": {\"color\": \"#E5ECF6\", \"width\": 0.5}}, \"type\": \"barpolar\"}], \"carpet\": [{\"aaxis\": {\"endlinecolor\": \"#2a3f5f\", \"gridcolor\": \"white\", \"linecolor\": \"white\", \"minorgridcolor\": \"white\", \"startlinecolor\": \"#2a3f5f\"}, \"baxis\": {\"endlinecolor\": \"#2a3f5f\", \"gridcolor\": \"white\", \"linecolor\": \"white\", \"minorgridcolor\": \"white\", \"startlinecolor\": \"#2a3f5f\"}, \"type\": \"carpet\"}], \"choropleth\": [{\"colorbar\": {\"outlinewidth\": 0, \"ticks\": \"\"}, \"type\": \"choropleth\"}], \"contour\": [{\"colorbar\": {\"outlinewidth\": 0, \"ticks\": \"\"}, \"colorscale\": [[0.0, \"#0d0887\"], [0.1111111111111111, \"#46039f\"], [0.2222222222222222, \"#7201a8\"], [0.3333333333333333, \"#9c179e\"], [0.4444444444444444, \"#bd3786\"], [0.5555555555555556, \"#d8576b\"], [0.6666666666666666, \"#ed7953\"], [0.7777777777777778, \"#fb9f3a\"], [0.8888888888888888, \"#fdca26\"], [1.0, \"#f0f921\"]], \"type\": \"contour\"}], \"contourcarpet\": [{\"colorbar\": {\"outlinewidth\": 0, \"ticks\": \"\"}, \"type\": \"contourcarpet\"}], \"heatmap\": [{\"colorbar\": {\"outlinewidth\": 0, \"ticks\": \"\"}, \"colorscale\": [[0.0, \"#0d0887\"], [0.1111111111111111, \"#46039f\"], [0.2222222222222222, \"#7201a8\"], [0.3333333333333333, \"#9c179e\"], [0.4444444444444444, \"#bd3786\"], [0.5555555555555556, \"#d8576b\"], [0.6666666666666666, \"#ed7953\"], [0.7777777777777778, \"#fb9f3a\"], [0.8888888888888888, \"#fdca26\"], [1.0, \"#f0f921\"]], \"type\": \"heatmap\"}], \"heatmapgl\": [{\"colorbar\": {\"outlinewidth\": 0, \"ticks\": \"\"}, \"colorscale\": [[0.0, \"#0d0887\"], [0.1111111111111111, \"#46039f\"], [0.2222222222222222, \"#7201a8\"], [0.3333333333333333, \"#9c179e\"], [0.4444444444444444, \"#bd3786\"], [0.5555555555555556, \"#d8576b\"], [0.6666666666666666, \"#ed7953\"], [0.7777777777777778, \"#fb9f3a\"], [0.8888888888888888, \"#fdca26\"], [1.0, \"#f0f921\"]], \"type\": \"heatmapgl\"}], \"histogram\": [{\"marker\": {\"colorbar\": {\"outlinewidth\": 0, \"ticks\": \"\"}}, \"type\": \"histogram\"}], \"histogram2d\": [{\"colorbar\": {\"outlinewidth\": 0, \"ticks\": \"\"}, \"colorscale\": [[0.0, \"#0d0887\"], [0.1111111111111111, \"#46039f\"], [0.2222222222222222, \"#7201a8\"], [0.3333333333333333, \"#9c179e\"], [0.4444444444444444, \"#bd3786\"], [0.5555555555555556, \"#d8576b\"], [0.6666666666666666, \"#ed7953\"], [0.7777777777777778, \"#fb9f3a\"], [0.8888888888888888, \"#fdca26\"], [1.0, \"#f0f921\"]], \"type\": \"histogram2d\"}], \"histogram2dcontour\": [{\"colorbar\": {\"outlinewidth\": 0, \"ticks\": \"\"}, \"colorscale\": [[0.0, \"#0d0887\"], [0.1111111111111111, \"#46039f\"], [0.2222222222222222, \"#7201a8\"], [0.3333333333333333, \"#9c179e\"], [0.4444444444444444, \"#bd3786\"], [0.5555555555555556, \"#d8576b\"], [0.6666666666666666, \"#ed7953\"], [0.7777777777777778, \"#fb9f3a\"], [0.8888888888888888, \"#fdca26\"], [1.0, \"#f0f921\"]], \"type\": \"histogram2dcontour\"}], \"mesh3d\": [{\"colorbar\": {\"outlinewidth\": 0, \"ticks\": \"\"}, \"type\": \"mesh3d\"}], \"parcoords\": [{\"line\": {\"colorbar\": {\"outlinewidth\": 0, \"ticks\": \"\"}}, \"type\": \"parcoords\"}], \"pie\": [{\"automargin\": true, \"type\": \"pie\"}], \"scatter\": [{\"marker\": {\"colorbar\": {\"outlinewidth\": 0, \"ticks\": \"\"}}, \"type\": \"scatter\"}], \"scatter3d\": [{\"line\": {\"colorbar\": {\"outlinewidth\": 0, \"ticks\": \"\"}}, \"marker\": {\"colorbar\": {\"outlinewidth\": 0, \"ticks\": \"\"}}, \"type\": \"scatter3d\"}], \"scattercarpet\": [{\"marker\": {\"colorbar\": {\"outlinewidth\": 0, \"ticks\": \"\"}}, \"type\": \"scattercarpet\"}], \"scattergeo\": [{\"marker\": {\"colorbar\": {\"outlinewidth\": 0, \"ticks\": \"\"}}, \"type\": \"scattergeo\"}], \"scattergl\": [{\"marker\": {\"colorbar\": {\"outlinewidth\": 0, \"ticks\": \"\"}}, \"type\": \"scattergl\"}], \"scattermapbox\": [{\"marker\": {\"colorbar\": {\"outlinewidth\": 0, \"ticks\": \"\"}}, \"type\": \"scattermapbox\"}], \"scatterpolar\": [{\"marker\": {\"colorbar\": {\"outlinewidth\": 0, \"ticks\": \"\"}}, \"type\": \"scatterpolar\"}], \"scatterpolargl\": [{\"marker\": {\"colorbar\": {\"outlinewidth\": 0, \"ticks\": \"\"}}, \"type\": \"scatterpolargl\"}], \"scatterternary\": [{\"marker\": {\"colorbar\": {\"outlinewidth\": 0, \"ticks\": \"\"}}, \"type\": \"scatterternary\"}], \"surface\": [{\"colorbar\": {\"outlinewidth\": 0, \"ticks\": \"\"}, \"colorscale\": [[0.0, \"#0d0887\"], [0.1111111111111111, \"#46039f\"], [0.2222222222222222, \"#7201a8\"], [0.3333333333333333, \"#9c179e\"], [0.4444444444444444, \"#bd3786\"], [0.5555555555555556, \"#d8576b\"], [0.6666666666666666, \"#ed7953\"], [0.7777777777777778, \"#fb9f3a\"], [0.8888888888888888, \"#fdca26\"], [1.0, \"#f0f921\"]], \"type\": \"surface\"}], \"table\": [{\"cells\": {\"fill\": {\"color\": \"#EBF0F8\"}, \"line\": {\"color\": \"white\"}}, \"header\": {\"fill\": {\"color\": \"#C8D4E3\"}, \"line\": {\"color\": \"white\"}}, \"type\": \"table\"}]}, \"layout\": {\"annotationdefaults\": {\"arrowcolor\": \"#2a3f5f\", \"arrowhead\": 0, \"arrowwidth\": 1}, \"coloraxis\": {\"colorbar\": {\"outlinewidth\": 0, \"ticks\": \"\"}}, \"colorscale\": {\"diverging\": [[0, \"#8e0152\"], [0.1, \"#c51b7d\"], [0.2, \"#de77ae\"], [0.3, \"#f1b6da\"], [0.4, \"#fde0ef\"], [0.5, \"#f7f7f7\"], [0.6, \"#e6f5d0\"], [0.7, \"#b8e186\"], [0.8, \"#7fbc41\"], [0.9, \"#4d9221\"], [1, \"#276419\"]], \"sequential\": [[0.0, \"#0d0887\"], [0.1111111111111111, \"#46039f\"], [0.2222222222222222, \"#7201a8\"], [0.3333333333333333, \"#9c179e\"], [0.4444444444444444, \"#bd3786\"], [0.5555555555555556, \"#d8576b\"], [0.6666666666666666, \"#ed7953\"], [0.7777777777777778, \"#fb9f3a\"], [0.8888888888888888, \"#fdca26\"], [1.0, \"#f0f921\"]], \"sequentialminus\": [[0.0, \"#0d0887\"], [0.1111111111111111, \"#46039f\"], [0.2222222222222222, \"#7201a8\"], [0.3333333333333333, \"#9c179e\"], [0.4444444444444444, \"#bd3786\"], [0.5555555555555556, \"#d8576b\"], [0.6666666666666666, \"#ed7953\"], [0.7777777777777778, \"#fb9f3a\"], [0.8888888888888888, \"#fdca26\"], [1.0, \"#f0f921\"]]}, \"colorway\": [\"#636efa\", \"#EF553B\", \"#00cc96\", \"#ab63fa\", \"#FFA15A\", \"#19d3f3\", \"#FF6692\", \"#B6E880\", \"#FF97FF\", \"#FECB52\"], \"font\": {\"color\": \"#2a3f5f\"}, \"geo\": {\"bgcolor\": \"white\", \"lakecolor\": \"white\", \"landcolor\": \"#E5ECF6\", \"showlakes\": true, \"showland\": true, \"subunitcolor\": \"white\"}, \"hoverlabel\": {\"align\": \"left\"}, \"hovermode\": \"closest\", \"mapbox\": {\"style\": \"light\"}, \"paper_bgcolor\": \"white\", \"plot_bgcolor\": \"#E5ECF6\", \"polar\": {\"angularaxis\": {\"gridcolor\": \"white\", \"linecolor\": \"white\", \"ticks\": \"\"}, \"bgcolor\": \"#E5ECF6\", \"radialaxis\": {\"gridcolor\": \"white\", \"linecolor\": \"white\", \"ticks\": \"\"}}, \"scene\": {\"xaxis\": {\"backgroundcolor\": \"#E5ECF6\", \"gridcolor\": \"white\", \"gridwidth\": 2, \"linecolor\": \"white\", \"showbackground\": true, \"ticks\": \"\", \"zerolinecolor\": \"white\"}, \"yaxis\": {\"backgroundcolor\": \"#E5ECF6\", \"gridcolor\": \"white\", \"gridwidth\": 2, \"linecolor\": \"white\", \"showbackground\": true, \"ticks\": \"\", \"zerolinecolor\": \"white\"}, \"zaxis\": {\"backgroundcolor\": \"#E5ECF6\", \"gridcolor\": \"white\", \"gridwidth\": 2, \"linecolor\": \"white\", \"showbackground\": true, \"ticks\": \"\", \"zerolinecolor\": \"white\"}}, \"shapedefaults\": {\"line\": {\"color\": \"#2a3f5f\"}}, \"ternary\": {\"aaxis\": {\"gridcolor\": \"white\", \"linecolor\": \"white\", \"ticks\": \"\"}, \"baxis\": {\"gridcolor\": \"white\", \"linecolor\": \"white\", \"ticks\": \"\"}, \"bgcolor\": \"#E5ECF6\", \"caxis\": {\"gridcolor\": \"white\", \"linecolor\": \"white\", \"ticks\": \"\"}}, \"title\": {\"x\": 0.05}, \"xaxis\": {\"automargin\": true, \"gridcolor\": \"white\", \"linecolor\": \"white\", \"ticks\": \"\", \"title\": {\"standoff\": 15}, \"zerolinecolor\": \"white\", \"zerolinewidth\": 2}, \"yaxis\": {\"automargin\": true, \"gridcolor\": \"white\", \"linecolor\": \"white\", \"ticks\": \"\", \"title\": {\"standoff\": 15}, \"zerolinecolor\": \"white\", \"zerolinewidth\": 2}}}, \"xaxis\": {\"anchor\": \"y\", \"domain\": [0.0, 1.0], \"title\": {\"text\": \"date_heure\"}}, \"yaxis\": {\"anchor\": \"x\", \"domain\": [0.0, 1.0], \"title\": {\"text\": \"nbVeh\"}}},                        {\"responsive\": true}                    ).then(function(){\n",
       "                            \n",
       "var gd = document.getElementById('a1c61d12-f2b9-4d43-8f36-6a165f895566');\n",
       "var x = new MutationObserver(function (mutations, observer) {{\n",
       "        var display = window.getComputedStyle(gd).display;\n",
       "        if (!display || display === 'none') {{\n",
       "            console.log([gd, 'removed!']);\n",
       "            Plotly.purge(gd);\n",
       "            observer.disconnect();\n",
       "        }}\n",
       "}});\n",
       "\n",
       "// Listen for the removal of the full notebook cells\n",
       "var notebookContainer = gd.closest('#notebook-container');\n",
       "if (notebookContainer) {{\n",
       "    x.observe(notebookContainer, {childList: true});\n",
       "}}\n",
       "\n",
       "// Listen for the clearing of the current output cell\n",
       "var outputEl = gd.closest('.output');\n",
       "if (outputEl) {{\n",
       "    x.observe(outputEl, {childList: true});\n",
       "}}\n",
       "\n",
       "                        })                };                });            </script>        </div>"
      ]
     },
     "metadata": {},
     "output_type": "display_data"
    }
   ],
   "source": [
    "px.line(cpt.dfHeureTypeSens.loc[cpt.dfHeureTypeSens.type_veh.isin(['vl','pl','2r'])].groupby(['date_heure','type_veh']).nbVeh.sum().reset_index(),x='date_heure',y='nbVeh', color='type_veh')"
   ]
  },
  {
   "cell_type": "markdown",
   "metadata": {},
   "source": [
    "# 4. Traiteement d'1 ensemble de points et export\n",
    "génarliser le 3 et exporter des données"
   ]
  },
  {
   "cell_type": "code",
   "execution_count": 176,
   "metadata": {},
   "outputs": [],
   "source": [
    "#dossier source et liste des dossier\n",
    "dossier_src=r'Q:\\DAIT\\TI\\CA_Angouleme\\2020\\C20SA00-09-10-11_Comptage_linearisation_Angouleme\\Doc_travail\\Donnees_produites\\Donnees\\Comptages\\DonneesBrutes'\n",
    "with os.scandir(dossier_src) as it:\n",
    "    listPoints=[(os.path.join(dossier_src,f.name),f.name) for f in it if f.is_dir()]"
   ]
  },
  {
   "cell_type": "code",
   "execution_count": 177,
   "metadata": {},
   "outputs": [
    {
     "name": "stdout",
     "output_type": "stream",
     "text": [
      "('Q:\\\\DAIT\\\\TI\\\\CA_Angouleme\\\\2020\\\\C20SA00-09-10-11_Comptage_linearisation_Angouleme\\\\Doc_travail\\\\Donnees_produites\\\\Donnees\\\\Comptages\\\\DonneesBrutes\\\\P5', 'P5')\n",
      "('Q:\\\\DAIT\\\\TI\\\\CA_Angouleme\\\\2020\\\\C20SA00-09-10-11_Comptage_linearisation_Angouleme\\\\Doc_travail\\\\Donnees_produites\\\\Donnees\\\\Comptages\\\\DonneesBrutes\\\\P10', 'P10')\n",
      "('Q:\\\\DAIT\\\\TI\\\\CA_Angouleme\\\\2020\\\\C20SA00-09-10-11_Comptage_linearisation_Angouleme\\\\Doc_travail\\\\Donnees_produites\\\\Donnees\\\\Comptages\\\\DonneesBrutes\\\\P16', 'P16')\n",
      "('Q:\\\\DAIT\\\\TI\\\\CA_Angouleme\\\\2020\\\\C20SA00-09-10-11_Comptage_linearisation_Angouleme\\\\Doc_travail\\\\Donnees_produites\\\\Donnees\\\\Comptages\\\\DonneesBrutes\\\\P12', 'P12')\n",
      "('Q:\\\\DAIT\\\\TI\\\\CA_Angouleme\\\\2020\\\\C20SA00-09-10-11_Comptage_linearisation_Angouleme\\\\Doc_travail\\\\Donnees_produites\\\\Donnees\\\\Comptages\\\\DonneesBrutes\\\\P14', 'P14')\n",
      "('Q:\\\\DAIT\\\\TI\\\\CA_Angouleme\\\\2020\\\\C20SA00-09-10-11_Comptage_linearisation_Angouleme\\\\Doc_travail\\\\Donnees_produites\\\\Donnees\\\\Comptages\\\\DonneesBrutes\\\\P2', 'P2')\n",
      "('Q:\\\\DAIT\\\\TI\\\\CA_Angouleme\\\\2020\\\\C20SA00-09-10-11_Comptage_linearisation_Angouleme\\\\Doc_travail\\\\Donnees_produites\\\\Donnees\\\\Comptages\\\\DonneesBrutes\\\\P3', 'P3')\n",
      "('Q:\\\\DAIT\\\\TI\\\\CA_Angouleme\\\\2020\\\\C20SA00-09-10-11_Comptage_linearisation_Angouleme\\\\Doc_travail\\\\Donnees_produites\\\\Donnees\\\\Comptages\\\\DonneesBrutes\\\\P8', 'P8')\n",
      "('Q:\\\\DAIT\\\\TI\\\\CA_Angouleme\\\\2020\\\\C20SA00-09-10-11_Comptage_linearisation_Angouleme\\\\Doc_travail\\\\Donnees_produites\\\\Donnees\\\\Comptages\\\\DonneesBrutes\\\\P19', 'P19')\n",
      "('Q:\\\\DAIT\\\\TI\\\\CA_Angouleme\\\\2020\\\\C20SA00-09-10-11_Comptage_linearisation_Angouleme\\\\Doc_travail\\\\Donnees_produites\\\\Donnees\\\\Comptages\\\\DonneesBrutes\\\\P18', 'P18')\n",
      "('Q:\\\\DAIT\\\\TI\\\\CA_Angouleme\\\\2020\\\\C20SA00-09-10-11_Comptage_linearisation_Angouleme\\\\Doc_travail\\\\Donnees_produites\\\\Donnees\\\\Comptages\\\\DonneesBrutes\\\\P15', 'P15')\n",
      "('Q:\\\\DAIT\\\\TI\\\\CA_Angouleme\\\\2020\\\\C20SA00-09-10-11_Comptage_linearisation_Angouleme\\\\Doc_travail\\\\Donnees_produites\\\\Donnees\\\\Comptages\\\\DonneesBrutes\\\\P1', 'P1')\n",
      "('Q:\\\\DAIT\\\\TI\\\\CA_Angouleme\\\\2020\\\\C20SA00-09-10-11_Comptage_linearisation_Angouleme\\\\Doc_travail\\\\Donnees_produites\\\\Donnees\\\\Comptages\\\\DonneesBrutes\\\\P7', 'P7')\n",
      "('Q:\\\\DAIT\\\\TI\\\\CA_Angouleme\\\\2020\\\\C20SA00-09-10-11_Comptage_linearisation_Angouleme\\\\Doc_travail\\\\Donnees_produites\\\\Donnees\\\\Comptages\\\\DonneesBrutes\\\\P17', 'P17')\n",
      "('Q:\\\\DAIT\\\\TI\\\\CA_Angouleme\\\\2020\\\\C20SA00-09-10-11_Comptage_linearisation_Angouleme\\\\Doc_travail\\\\Donnees_produites\\\\Donnees\\\\Comptages\\\\DonneesBrutes\\\\P11', 'P11')\n",
      "('Q:\\\\DAIT\\\\TI\\\\CA_Angouleme\\\\2020\\\\C20SA00-09-10-11_Comptage_linearisation_Angouleme\\\\Doc_travail\\\\Donnees_produites\\\\Donnees\\\\Comptages\\\\DonneesBrutes\\\\P9', 'P9')\n",
      "('Q:\\\\DAIT\\\\TI\\\\CA_Angouleme\\\\2020\\\\C20SA00-09-10-11_Comptage_linearisation_Angouleme\\\\Doc_travail\\\\Donnees_produites\\\\Donnees\\\\Comptages\\\\DonneesBrutes\\\\P6', 'P6')\n",
      "('Q:\\\\DAIT\\\\TI\\\\CA_Angouleme\\\\2020\\\\C20SA00-09-10-11_Comptage_linearisation_Angouleme\\\\Doc_travail\\\\Donnees_produites\\\\Donnees\\\\Comptages\\\\DonneesBrutes\\\\P13', 'P13')\n",
      "('Q:\\\\DAIT\\\\TI\\\\CA_Angouleme\\\\2020\\\\C20SA00-09-10-11_Comptage_linearisation_Angouleme\\\\Doc_travail\\\\Donnees_produites\\\\Donnees\\\\Comptages\\\\DonneesBrutes\\\\P4', 'P4')\n"
     ]
    }
   ],
   "source": [
    "for path in listPoints : \n",
    "    print(path)\n",
    "    if path[1] in('P5','P4','P16','P15') : \n",
    "        continue\n",
    "    cpt2sens=di.ComptageDonneesIndiv(path[0])\n",
    "    dfHeureTypeSens=di.GroupeCompletude(di.NettoyageTemps(cpt2sens.dfValide))\n",
    "    dicoHoraire,dicoJournalier=di.IndicsGraphs(dfHeureTypeSens,['vl','pl','2r'],['mja','mjo', 'samedi', 'dimanche'],['sens1','sens2','2sens'])\n",
    "    hpm,hps,nuit,jour,dfMoyenneHorairesSpeciales=di.IndicsPeriodes(dfHeureTypeSens)\n",
    "    joursCharges=di.JoursCharges(dfHeureTypeSens)\n",
    "    #creer le dossier pour les donnees s'il n'existe pas\n",
    "    chemin=os.path.join(r'Q:\\DAIT\\TI\\CA_Angouleme\\2020\\C20SA00-09-10-11_Comptage_linearisation_Angouleme\\Doc_travail\\Donnees_produites\\Donnees\\Comptages\\extractionMartin',path[1])\n",
    "    if not os.path.exists(chemin) : \n",
    "        os.makedirs(chemin)\n",
    "    dicoHoraire['mja'] ['2sens']['donnees'].sort_values(['sens','type_veh','heure']).to_csv(os.path.join(chemin,'mja_horaire.csv'))\n",
    "    dicoHoraire['mjo'] ['2sens']['donnees'].sort_values(['sens','type_veh','heure']).to_csv(os.path.join(chemin,'mjo_horaire.csv'))\n",
    "    joursCharges.to_csv(os.path.join(chemin,'jours_charges.csv'))\n",
    "    pd.concat([dicoHoraire['samedi']['2sens']['donnees'].assign(jour='samedi'),dicoHoraire['dimanche']['2sens']['donnees'].assign(jour='dimanche')], axis=0\n",
    "         ).groupby(['jour','heure','type_veh']).nbVeh.sum().reset_index().sort_values(['jour','type_veh', 'heure'], ascending=[False, True,True]).to_csv(\n",
    "        os.path.join(chemin,'week-end_horaire.csv'))\n",
    "    dicoJournalier['mja']['2sens']['donnees'].sort_values(['sens','type_veh']).drop('nbOcc', axis=1).to_csv(os.path.join(chemin,'TMJA.csv'))"
   ]
  },
  {
   "cell_type": "code",
   "execution_count": null,
   "metadata": {},
   "outputs": [],
   "source": []
  }
 ],
 "metadata": {
  "kernelspec": {
   "display_name": "Python 3",
   "language": "python",
   "name": "python3"
  },
  "language_info": {
   "codemirror_mode": {
    "name": "ipython",
    "version": 3
   },
   "file_extension": ".py",
   "mimetype": "text/x-python",
   "name": "python",
   "nbconvert_exporter": "python",
   "pygments_lexer": "ipython3",
   "version": "3.8.6"
  }
 },
 "nbformat": 4,
 "nbformat_minor": 4
}
