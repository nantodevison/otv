{
 "cells": [
  {
   "cell_type": "markdown",
   "metadata": {},
   "source": [
    "# ***EXEMPLE DE TRAITEMENTS DES FICHIERS SOURCES***\n",
    "> exemples pour les FIM, donnees individuelles mixtra, données individuelles viking, ..."
   ]
  },
  {
   "cell_type": "code",
   "execution_count": 1,
   "metadata": {},
   "outputs": [],
   "source": [
    "%load_ext autoreload\n",
    "%autoreload 2\n",
    "import sys\n",
    "sys.path.append(r'C:\\Users\\martin.schoreisz\\git\\otv\\otv\\Transfert_Donnees')\n",
    "sys.path.append(r'C:\\Users\\martin.schoreisz\\git\\Outils\\Outils\\Martin_Perso')\n",
    "import pandas as pd\n",
    "import geopandas as gp\n",
    "import numpy as np\n",
    "import altair as alt\n",
    "from datetime import datetime\n",
    "import locale, os\n",
    "\n",
    "import Donnees_individuelles as di"
   ]
  },
  {
   "cell_type": "code",
   "execution_count": 4,
   "metadata": {},
   "outputs": [],
   "source": [
    "locale.setlocale(locale.LC_TIME, 'fr_FR')"
   ]
  },
  {
   "cell_type": "markdown",
   "metadata": {},
   "source": [
    "# 1. Données individuelles mixtra\n",
    "ces données sont des fichiers excels, sans aucune référence interne au compteur. A chaque véhicule correspond une ligne avec les atributs descroiptifs"
   ]
  },
  {
   "cell_type": "code",
   "execution_count": 417,
   "metadata": {},
   "outputs": [
    {
     "name": "stdout",
     "output_type": "stream",
     "text": [
      "Q:\\DAIT\\TI\\CA_Angouleme\\2020\\C20SA00-09-10-11_Comptage_linearisation_Angouleme\\Doc_travail\\Donnees_produites\\Donnees\\Comptages\\DonneesBrutes\\P11\\S1_P11_2.XLS\n"
     ]
    }
   ],
   "source": [
    "mixtra=di.Mixtra(r'Q:\\DAIT\\TI\\CA_Angouleme\\2020\\C20SA00-09-10-11_Comptage_linearisation_Angouleme\\Doc_travail\\Donnees_produites\\Donnees\\Comptages\\DonneesBrutes\\P11\\S1_P11_2.XLS')"
   ]
  },
  {
   "cell_type": "markdown",
   "metadata": {},
   "source": [
    "# 2. Données individuelles viking\n",
    "ces données sont des fichiers excels, sans aucune référence interne au compteur. A chaque véhicule correspond une ligne avec les atributs descroiptifs"
   ]
  },
  {
   "cell_type": "code",
   "execution_count": 146,
   "metadata": {},
   "outputs": [],
   "source": [
    "vik=di.Viking(r'Q:\\DAIT\\TI\\CA_Angouleme\\2020\\C20SA00-09-10-11_Comptage_linearisation_Angouleme\\Doc_travail\\Donnees_produites\\Donnees\\Comptages\\DonneesBrutes\\P9\\P9_sens1.VIK')"
   ]
  },
  {
   "cell_type": "code",
   "execution_count": 148,
   "metadata": {},
   "outputs": [
    {
     "data": {
      "text/plain": [
       "jour\n",
       "1     5908\n",
       "2     5996\n",
       "3     5203\n",
       "4     2827\n",
       "5     5510\n",
       "6     5822\n",
       "7     3398\n",
       "28    2167\n",
       "29    5600\n",
       "30    5491\n",
       "Name: nbVeh, dtype: int64"
      ]
     },
     "execution_count": 148,
     "metadata": {},
     "output_type": "execute_result"
    }
   ],
   "source": [
    "vik.dfFichier.groupby(['jour']).nbVeh.sum()"
   ]
  },
  {
   "cell_type": "markdown",
   "metadata": {},
   "source": [
    "# 3. Regroupemnt des deux sens et generalisation a un point de comptage\n",
    "Anlyser l'extension des fichiers sources et ouvrir avec la classe correspondante.<br> le fonctionnement sse base sur le principe que l'esemble des fichiers d'unpoints de comptage est regroupés dans un dossier"
   ]
  },
  {
   "cell_type": "code",
   "execution_count": 158,
   "metadata": {},
   "outputs": [
    {
     "name": "stdout",
     "output_type": "stream",
     "text": [
      "Wall time: 12.8 s\n"
     ]
    }
   ],
   "source": [
    "%%time\n",
    "dossier=r'Q:\\DAIT\\TI\\CA_Angouleme\\2020\\C20SA00-09-10-11_Comptage_linearisation_Angouleme\\Doc_travail\\Donnees_produites\\Donnees\\Comptages\\DonneesBrutes\\P9'\n",
    "cpt2sens=di.ComptageDonneesIndiv(dossier)"
   ]
  },
  {
   "cell_type": "code",
   "execution_count": 159,
   "metadata": {},
   "outputs": [],
   "source": [
    "dfValide=di.NettoyageTemps(cpt2sens.dfValide)\n",
    "dfHeureTypeSens=di.GroupeCompletude(dfValide)\n",
    "dicoNbJours=di.NombreDeJours(dfHeureTypeSens)"
   ]
  },
  {
   "cell_type": "code",
   "execution_count": 160,
   "metadata": {},
   "outputs": [],
   "source": [
    "#creer le dico qui va contenir tout les résultats et données intermeédiaires \n",
    "dicoHoraire,dicoJournalier=di.IndicsGraphs(dfHeureTypeSens,['vl','pl','2r'],['mja','mjo', 'samedi', 'dimanche'],['sens1','sens2','2sens'])\n",
    "#récupérer les HPM,HPS,données horaires jour et nuit\n",
    "hpm,hps,nuit,jour,dfMoyenneHorairesSpeciales=di.IndicsPeriodes(dfHeureTypeSens)\n",
    "#recuperer les jours les plus charges\n",
    "joursCharges=di.JoursCharges(dfHeureTypeSens)"
   ]
  },
  {
   "cell_type": "code",
   "execution_count": 161,
   "metadata": {},
   "outputs": [
    {
     "data": {
      "text/html": [
       "\n",
       "<div id=\"altair-viz-bab8bf73e47942a9a34387fb5a64267f\"></div>\n",
       "<script type=\"text/javascript\">\n",
       "  (function(spec, embedOpt){\n",
       "    let outputDiv = document.currentScript.previousElementSibling;\n",
       "    if (outputDiv.id !== \"altair-viz-bab8bf73e47942a9a34387fb5a64267f\") {\n",
       "      outputDiv = document.getElementById(\"altair-viz-bab8bf73e47942a9a34387fb5a64267f\");\n",
       "    }\n",
       "    const paths = {\n",
       "      \"vega\": \"https://cdn.jsdelivr.net/npm//vega@5?noext\",\n",
       "      \"vega-lib\": \"https://cdn.jsdelivr.net/npm//vega-lib?noext\",\n",
       "      \"vega-lite\": \"https://cdn.jsdelivr.net/npm//vega-lite@4.8.1?noext\",\n",
       "      \"vega-embed\": \"https://cdn.jsdelivr.net/npm//vega-embed@6?noext\",\n",
       "    };\n",
       "\n",
       "    function loadScript(lib) {\n",
       "      return new Promise(function(resolve, reject) {\n",
       "        var s = document.createElement('script');\n",
       "        s.src = paths[lib];\n",
       "        s.async = true;\n",
       "        s.onload = () => resolve(paths[lib]);\n",
       "        s.onerror = () => reject(`Error loading script: ${paths[lib]}`);\n",
       "        document.getElementsByTagName(\"head\")[0].appendChild(s);\n",
       "      });\n",
       "    }\n",
       "\n",
       "    function showError(err) {\n",
       "      outputDiv.innerHTML = `<div class=\"error\" style=\"color:red;\">${err}</div>`;\n",
       "      throw err;\n",
       "    }\n",
       "\n",
       "    function displayChart(vegaEmbed) {\n",
       "      vegaEmbed(outputDiv, spec, embedOpt)\n",
       "        .catch(err => showError(`Javascript Error: ${err.message}<br>This usually means there's a typo in your chart specification. See the javascript console for the full traceback.`));\n",
       "    }\n",
       "\n",
       "    if(typeof define === \"function\" && define.amd) {\n",
       "      requirejs.config({paths});\n",
       "      require([\"vega-embed\"], displayChart, err => showError(`Error loading script: ${err.message}`));\n",
       "    } else if (typeof vegaEmbed === \"function\") {\n",
       "      displayChart(vegaEmbed);\n",
       "    } else {\n",
       "      loadScript(\"vega\")\n",
       "        .then(() => loadScript(\"vega-lite\"))\n",
       "        .then(() => loadScript(\"vega-embed\"))\n",
       "        .catch(showError)\n",
       "        .then(() => displayChart(vegaEmbed));\n",
       "    }\n",
       "  })({\"config\": {\"view\": {\"continuousWidth\": 400, \"continuousHeight\": 300, \"stroke\": \"transparent\"}}, \"data\": {\"name\": \"data-d50eabd43ab701a88ef178f61e76a617\"}, \"mark\": \"bar\", \"encoding\": {\"color\": {\"type\": \"nominal\", \"field\": \"sens\"}, \"column\": {\"type\": \"ordinal\", \"field\": \"jour\", \"sort\": [\"lundi\", \"mardi\", \"mercredi\", \"jeudi\", \"vendredi\", \"samedi\", \"dimanche\"]}, \"x\": {\"type\": \"nominal\", \"axis\": {\"title\": \"\"}, \"field\": \"sens\", \"sort\": [\"tv\", \"vl\", \"pl\", \"2r\"]}, \"y\": {\"type\": \"quantitative\", \"axis\": {\"grid\": false, \"title\": \"Nombre de v\\u00e9hicules\"}, \"field\": \"nbVeh\"}}, \"title\": \"Trafic moyen journalier par sens\", \"$schema\": \"https://vega.github.io/schema/vega-lite/v4.8.1.json\", \"datasets\": {\"data-d50eabd43ab701a88ef178f61e76a617\": [{\"jour\": \"lundi\", \"sens\": \"sens1\", \"nbVeh\": 5510.0, \"nbOcc\": 1}, {\"jour\": \"lundi\", \"sens\": \"sens2\", \"nbVeh\": 10658.0, \"nbOcc\": 1}, {\"jour\": \"mardi\", \"sens\": \"sens1\", \"nbVeh\": 5711.0, \"nbOcc\": 2}, {\"jour\": \"mardi\", \"sens\": \"sens2\", \"nbVeh\": 11206.0, \"nbOcc\": 2}, {\"jour\": \"mercredi\", \"sens\": \"sens1\", \"nbVeh\": 5491.0, \"nbOcc\": 1}, {\"jour\": \"mercredi\", \"sens\": \"sens2\", \"nbVeh\": 11056.0, \"nbOcc\": 1}, {\"jour\": \"jeudi\", \"sens\": \"sens1\", \"nbVeh\": 5908.0, \"nbOcc\": 1}, {\"jour\": \"jeudi\", \"sens\": \"sens2\", \"nbVeh\": 11206.0, \"nbOcc\": 1}, {\"jour\": \"vendredi\", \"sens\": \"sens1\", \"nbVeh\": 5996.0, \"nbOcc\": 1}, {\"jour\": \"vendredi\", \"sens\": \"sens2\", \"nbVeh\": 11912.0, \"nbOcc\": 1}]}}, {\"mode\": \"vega-lite\"});\n",
       "</script>"
      ],
      "text/plain": [
       "alt.Chart(...)"
      ]
     },
     "execution_count": 161,
     "metadata": {},
     "output_type": "execute_result"
    }
   ],
   "source": [
    "#exemple d'appel de résultats du dico\n",
    "dicoHoraire['mjo']['nbJour']\n",
    "dicoHoraire['mja']['nbJour']\n",
    "dicoHoraire['mjo']['2sens']['graph']\n",
    "dicoHoraire['samedi']['sens1']['donnees']\n",
    "dicoJournalier['mja']['sens2']['graph']\n",
    "dicoJournalier['mjo']['2sens']['graph']\n",
    "dicoJournalier['mjo']['compSens']['graph']"
   ]
  },
  {
   "cell_type": "code",
   "execution_count": 162,
   "metadata": {},
   "outputs": [
    {
     "data": {
      "text/html": [
       "\n",
       "<div id=\"altair-viz-a14e09a4577e48e9be1247684314cb18\"></div>\n",
       "<script type=\"text/javascript\">\n",
       "  (function(spec, embedOpt){\n",
       "    let outputDiv = document.currentScript.previousElementSibling;\n",
       "    if (outputDiv.id !== \"altair-viz-a14e09a4577e48e9be1247684314cb18\") {\n",
       "      outputDiv = document.getElementById(\"altair-viz-a14e09a4577e48e9be1247684314cb18\");\n",
       "    }\n",
       "    const paths = {\n",
       "      \"vega\": \"https://cdn.jsdelivr.net/npm//vega@5?noext\",\n",
       "      \"vega-lib\": \"https://cdn.jsdelivr.net/npm//vega-lib?noext\",\n",
       "      \"vega-lite\": \"https://cdn.jsdelivr.net/npm//vega-lite@4.8.1?noext\",\n",
       "      \"vega-embed\": \"https://cdn.jsdelivr.net/npm//vega-embed@6?noext\",\n",
       "    };\n",
       "\n",
       "    function loadScript(lib) {\n",
       "      return new Promise(function(resolve, reject) {\n",
       "        var s = document.createElement('script');\n",
       "        s.src = paths[lib];\n",
       "        s.async = true;\n",
       "        s.onload = () => resolve(paths[lib]);\n",
       "        s.onerror = () => reject(`Error loading script: ${paths[lib]}`);\n",
       "        document.getElementsByTagName(\"head\")[0].appendChild(s);\n",
       "      });\n",
       "    }\n",
       "\n",
       "    function showError(err) {\n",
       "      outputDiv.innerHTML = `<div class=\"error\" style=\"color:red;\">${err}</div>`;\n",
       "      throw err;\n",
       "    }\n",
       "\n",
       "    function displayChart(vegaEmbed) {\n",
       "      vegaEmbed(outputDiv, spec, embedOpt)\n",
       "        .catch(err => showError(`Javascript Error: ${err.message}<br>This usually means there's a typo in your chart specification. See the javascript console for the full traceback.`));\n",
       "    }\n",
       "\n",
       "    if(typeof define === \"function\" && define.amd) {\n",
       "      requirejs.config({paths});\n",
       "      require([\"vega-embed\"], displayChart, err => showError(`Error loading script: ${err.message}`));\n",
       "    } else if (typeof vegaEmbed === \"function\") {\n",
       "      displayChart(vegaEmbed);\n",
       "    } else {\n",
       "      loadScript(\"vega\")\n",
       "        .then(() => loadScript(\"vega-lite\"))\n",
       "        .then(() => loadScript(\"vega-embed\"))\n",
       "        .catch(showError)\n",
       "        .then(() => displayChart(vegaEmbed));\n",
       "    }\n",
       "  })({\"config\": {\"view\": {\"continuousWidth\": 400, \"continuousHeight\": 300}}, \"data\": {\"name\": \"data-a3d66f0b47b354b70f263f4685dd1bda\"}, \"mark\": \"line\", \"encoding\": {\"color\": {\"type\": \"nominal\", \"field\": \"type_veh\"}, \"x\": {\"type\": \"ordinal\", \"field\": \"heure\"}, \"y\": {\"type\": \"quantitative\", \"field\": \"nbVeh\"}}, \"$schema\": \"https://vega.github.io/schema/vega-lite/v4.8.1.json\", \"datasets\": {\"data-a3d66f0b47b354b70f263f4685dd1bda\": [{\"heure\": 0, \"type_veh\": \"2r\", \"nbVeh\": 0.0}, {\"heure\": 0, \"type_veh\": \"pl\", \"nbVeh\": 0.0}, {\"heure\": 0, \"type_veh\": \"vl\", \"nbVeh\": 19.0}, {\"heure\": 1, \"type_veh\": \"2r\", \"nbVeh\": 1.0}, {\"heure\": 1, \"type_veh\": \"pl\", \"nbVeh\": 0.0}, {\"heure\": 1, \"type_veh\": \"vl\", \"nbVeh\": 11.0}, {\"heure\": 2, \"type_veh\": \"2r\", \"nbVeh\": 0.0}, {\"heure\": 2, \"type_veh\": \"pl\", \"nbVeh\": 0.0}, {\"heure\": 2, \"type_veh\": \"vl\", \"nbVeh\": 10.0}, {\"heure\": 3, \"type_veh\": \"2r\", \"nbVeh\": 0.0}, {\"heure\": 3, \"type_veh\": \"pl\", \"nbVeh\": 0.0}, {\"heure\": 3, \"type_veh\": \"vl\", \"nbVeh\": 9.0}, {\"heure\": 4, \"type_veh\": \"2r\", \"nbVeh\": 0.0}, {\"heure\": 4, \"type_veh\": \"pl\", \"nbVeh\": 0.0}, {\"heure\": 4, \"type_veh\": \"vl\", \"nbVeh\": 18.0}, {\"heure\": 5, \"type_veh\": \"2r\", \"nbVeh\": 0.0}, {\"heure\": 5, \"type_veh\": \"pl\", \"nbVeh\": 0.0}, {\"heure\": 5, \"type_veh\": \"vl\", \"nbVeh\": 22.0}, {\"heure\": 6, \"type_veh\": \"2r\", \"nbVeh\": 2.0}, {\"heure\": 6, \"type_veh\": \"pl\", \"nbVeh\": 1.0}, {\"heure\": 6, \"type_veh\": \"vl\", \"nbVeh\": 59.0}, {\"heure\": 7, \"type_veh\": \"2r\", \"nbVeh\": 3.0}, {\"heure\": 7, \"type_veh\": \"pl\", \"nbVeh\": 3.0}, {\"heure\": 7, \"type_veh\": \"vl\", \"nbVeh\": 222.0}, {\"heure\": 8, \"type_veh\": \"2r\", \"nbVeh\": 5.0}, {\"heure\": 8, \"type_veh\": \"pl\", \"nbVeh\": 3.0}, {\"heure\": 8, \"type_veh\": \"vl\", \"nbVeh\": 310.0}, {\"heure\": 9, \"type_veh\": \"2r\", \"nbVeh\": 7.0}, {\"heure\": 9, \"type_veh\": \"pl\", \"nbVeh\": 3.0}, {\"heure\": 9, \"type_veh\": \"vl\", \"nbVeh\": 290.0}, {\"heure\": 10, \"type_veh\": \"2r\", \"nbVeh\": 9.0}, {\"heure\": 10, \"type_veh\": \"pl\", \"nbVeh\": 1.0}, {\"heure\": 10, \"type_veh\": \"vl\", \"nbVeh\": 358.0}, {\"heure\": 11, \"type_veh\": \"2r\", \"nbVeh\": 8.0}, {\"heure\": 11, \"type_veh\": \"pl\", \"nbVeh\": 1.0}, {\"heure\": 11, \"type_veh\": \"vl\", \"nbVeh\": 384.0}, {\"heure\": 12, \"type_veh\": \"2r\", \"nbVeh\": 7.0}, {\"heure\": 12, \"type_veh\": \"pl\", \"nbVeh\": 1.0}, {\"heure\": 12, \"type_veh\": \"vl\", \"nbVeh\": 381.0}, {\"heure\": 13, \"type_veh\": \"2r\", \"nbVeh\": 5.0}, {\"heure\": 13, \"type_veh\": \"pl\", \"nbVeh\": 1.0}, {\"heure\": 13, \"type_veh\": \"vl\", \"nbVeh\": 312.0}, {\"heure\": 14, \"type_veh\": \"2r\", \"nbVeh\": 7.0}, {\"heure\": 14, \"type_veh\": \"pl\", \"nbVeh\": 1.0}, {\"heure\": 14, \"type_veh\": \"vl\", \"nbVeh\": 341.0}, {\"heure\": 15, \"type_veh\": \"2r\", \"nbVeh\": 8.0}, {\"heure\": 15, \"type_veh\": \"pl\", \"nbVeh\": 0.0}, {\"heure\": 15, \"type_veh\": \"vl\", \"nbVeh\": 393.0}, {\"heure\": 16, \"type_veh\": \"2r\", \"nbVeh\": 9.0}, {\"heure\": 16, \"type_veh\": \"pl\", \"nbVeh\": 1.0}, {\"heure\": 16, \"type_veh\": \"vl\", \"nbVeh\": 419.0}, {\"heure\": 17, \"type_veh\": \"2r\", \"nbVeh\": 12.0}, {\"heure\": 17, \"type_veh\": \"pl\", \"nbVeh\": 1.0}, {\"heure\": 17, \"type_veh\": \"vl\", \"nbVeh\": 428.0}, {\"heure\": 18, \"type_veh\": \"2r\", \"nbVeh\": 8.0}, {\"heure\": 18, \"type_veh\": \"pl\", \"nbVeh\": 1.0}, {\"heure\": 18, \"type_veh\": \"vl\", \"nbVeh\": 429.0}, {\"heure\": 19, \"type_veh\": \"2r\", \"nbVeh\": 6.0}, {\"heure\": 19, \"type_veh\": \"pl\", \"nbVeh\": 1.0}, {\"heure\": 19, \"type_veh\": \"vl\", \"nbVeh\": 335.0}, {\"heure\": 20, \"type_veh\": \"2r\", \"nbVeh\": 2.0}, {\"heure\": 20, \"type_veh\": \"pl\", \"nbVeh\": 0.0}, {\"heure\": 20, \"type_veh\": \"vl\", \"nbVeh\": 177.0}, {\"heure\": 21, \"type_veh\": \"2r\", \"nbVeh\": 1.0}, {\"heure\": 21, \"type_veh\": \"pl\", \"nbVeh\": 0.0}, {\"heure\": 21, \"type_veh\": \"vl\", \"nbVeh\": 96.0}, {\"heure\": 22, \"type_veh\": \"2r\", \"nbVeh\": 1.0}, {\"heure\": 22, \"type_veh\": \"pl\", \"nbVeh\": 0.0}, {\"heure\": 22, \"type_veh\": \"vl\", \"nbVeh\": 52.0}, {\"heure\": 23, \"type_veh\": \"2r\", \"nbVeh\": 1.0}, {\"heure\": 23, \"type_veh\": \"pl\", \"nbVeh\": 0.0}, {\"heure\": 23, \"type_veh\": \"vl\", \"nbVeh\": 36.0}]}}, {\"mode\": \"vega-lite\"});\n",
       "</script>"
      ],
      "text/plain": [
       "alt.Chart(...)"
      ]
     },
     "execution_count": 162,
     "metadata": {},
     "output_type": "execute_result"
    }
   ],
   "source": [
    "dicoHoraire['mja'] ['sens1']['graph']"
   ]
  },
  {
   "cell_type": "code",
   "execution_count": 141,
   "metadata": {},
   "outputs": [
    {
     "data": {
      "text/html": [
       "\n",
       "<div id=\"altair-viz-524c765423e5431198c3c38db5b6bd98\"></div>\n",
       "<script type=\"text/javascript\">\n",
       "  (function(spec, embedOpt){\n",
       "    let outputDiv = document.currentScript.previousElementSibling;\n",
       "    if (outputDiv.id !== \"altair-viz-524c765423e5431198c3c38db5b6bd98\") {\n",
       "      outputDiv = document.getElementById(\"altair-viz-524c765423e5431198c3c38db5b6bd98\");\n",
       "    }\n",
       "    const paths = {\n",
       "      \"vega\": \"https://cdn.jsdelivr.net/npm//vega@5?noext\",\n",
       "      \"vega-lib\": \"https://cdn.jsdelivr.net/npm//vega-lib?noext\",\n",
       "      \"vega-lite\": \"https://cdn.jsdelivr.net/npm//vega-lite@4.8.1?noext\",\n",
       "      \"vega-embed\": \"https://cdn.jsdelivr.net/npm//vega-embed@6?noext\",\n",
       "    };\n",
       "\n",
       "    function loadScript(lib) {\n",
       "      return new Promise(function(resolve, reject) {\n",
       "        var s = document.createElement('script');\n",
       "        s.src = paths[lib];\n",
       "        s.async = true;\n",
       "        s.onload = () => resolve(paths[lib]);\n",
       "        s.onerror = () => reject(`Error loading script: ${paths[lib]}`);\n",
       "        document.getElementsByTagName(\"head\")[0].appendChild(s);\n",
       "      });\n",
       "    }\n",
       "\n",
       "    function showError(err) {\n",
       "      outputDiv.innerHTML = `<div class=\"error\" style=\"color:red;\">${err}</div>`;\n",
       "      throw err;\n",
       "    }\n",
       "\n",
       "    function displayChart(vegaEmbed) {\n",
       "      vegaEmbed(outputDiv, spec, embedOpt)\n",
       "        .catch(err => showError(`Javascript Error: ${err.message}<br>This usually means there's a typo in your chart specification. See the javascript console for the full traceback.`));\n",
       "    }\n",
       "\n",
       "    if(typeof define === \"function\" && define.amd) {\n",
       "      requirejs.config({paths});\n",
       "      require([\"vega-embed\"], displayChart, err => showError(`Error loading script: ${err.message}`));\n",
       "    } else if (typeof vegaEmbed === \"function\") {\n",
       "      displayChart(vegaEmbed);\n",
       "    } else {\n",
       "      loadScript(\"vega\")\n",
       "        .then(() => loadScript(\"vega-lite\"))\n",
       "        .then(() => loadScript(\"vega-embed\"))\n",
       "        .catch(showError)\n",
       "        .then(() => displayChart(vegaEmbed));\n",
       "    }\n",
       "  })({\"config\": {\"view\": {\"continuousWidth\": 400, \"continuousHeight\": 300}}, \"data\": {\"name\": \"data-e01cbad7508c8103835bb90b02f9aef7\"}, \"mark\": \"line\", \"encoding\": {\"color\": {\"type\": \"nominal\", \"field\": \"type_veh\"}, \"x\": {\"type\": \"ordinal\", \"field\": \"heure\"}, \"y\": {\"type\": \"quantitative\", \"field\": \"nbVeh\"}}, \"$schema\": \"https://vega.github.io/schema/vega-lite/v4.8.1.json\", \"datasets\": {\"data-e01cbad7508c8103835bb90b02f9aef7\": [{\"heure\": 0, \"type_veh\": \"2r\", \"nbVeh\": 0.0}, {\"heure\": 0, \"type_veh\": \"pl\", \"nbVeh\": 1.0}, {\"heure\": 0, \"type_veh\": \"vl\", \"nbVeh\": 43.0}, {\"heure\": 1, \"type_veh\": \"2r\", \"nbVeh\": 0.0}, {\"heure\": 1, \"type_veh\": \"pl\", \"nbVeh\": 0.0}, {\"heure\": 1, \"type_veh\": \"vl\", \"nbVeh\": 34.0}, {\"heure\": 2, \"type_veh\": \"2r\", \"nbVeh\": 0.0}, {\"heure\": 2, \"type_veh\": \"pl\", \"nbVeh\": 1.0}, {\"heure\": 2, \"type_veh\": \"vl\", \"nbVeh\": 22.0}, {\"heure\": 3, \"type_veh\": \"2r\", \"nbVeh\": 0.0}, {\"heure\": 3, \"type_veh\": \"pl\", \"nbVeh\": 0.0}, {\"heure\": 3, \"type_veh\": \"vl\", \"nbVeh\": 21.0}, {\"heure\": 4, \"type_veh\": \"2r\", \"nbVeh\": 0.0}, {\"heure\": 4, \"type_veh\": \"pl\", \"nbVeh\": 1.0}, {\"heure\": 4, \"type_veh\": \"vl\", \"nbVeh\": 26.0}, {\"heure\": 5, \"type_veh\": \"2r\", \"nbVeh\": 1.0}, {\"heure\": 5, \"type_veh\": \"pl\", \"nbVeh\": 1.0}, {\"heure\": 5, \"type_veh\": \"vl\", \"nbVeh\": 29.0}, {\"heure\": 6, \"type_veh\": \"2r\", \"nbVeh\": 1.0}, {\"heure\": 6, \"type_veh\": \"pl\", \"nbVeh\": 1.0}, {\"heure\": 6, \"type_veh\": \"vl\", \"nbVeh\": 84.0}, {\"heure\": 7, \"type_veh\": \"2r\", \"nbVeh\": 6.0}, {\"heure\": 7, \"type_veh\": \"pl\", \"nbVeh\": 8.0}, {\"heure\": 7, \"type_veh\": \"vl\", \"nbVeh\": 321.0}, {\"heure\": 8, \"type_veh\": \"2r\", \"nbVeh\": 7.0}, {\"heure\": 8, \"type_veh\": \"pl\", \"nbVeh\": 6.0}, {\"heure\": 8, \"type_veh\": \"vl\", \"nbVeh\": 582.0}, {\"heure\": 9, \"type_veh\": \"2r\", \"nbVeh\": 5.0}, {\"heure\": 9, \"type_veh\": \"pl\", \"nbVeh\": 7.0}, {\"heure\": 9, \"type_veh\": \"vl\", \"nbVeh\": 609.0}, {\"heure\": 10, \"type_veh\": \"2r\", \"nbVeh\": 6.0}, {\"heure\": 10, \"type_veh\": \"pl\", \"nbVeh\": 8.0}, {\"heure\": 10, \"type_veh\": \"vl\", \"nbVeh\": 731.0}, {\"heure\": 11, \"type_veh\": \"2r\", \"nbVeh\": 6.0}, {\"heure\": 11, \"type_veh\": \"pl\", \"nbVeh\": 8.0}, {\"heure\": 11, \"type_veh\": \"vl\", \"nbVeh\": 784.0}, {\"heure\": 12, \"type_veh\": \"2r\", \"nbVeh\": 4.0}, {\"heure\": 12, \"type_veh\": \"pl\", \"nbVeh\": 6.0}, {\"heure\": 12, \"type_veh\": \"vl\", \"nbVeh\": 743.0}, {\"heure\": 13, \"type_veh\": \"2r\", \"nbVeh\": 7.0}, {\"heure\": 13, \"type_veh\": \"pl\", \"nbVeh\": 7.0}, {\"heure\": 13, \"type_veh\": \"vl\", \"nbVeh\": 597.0}, {\"heure\": 14, \"type_veh\": \"2r\", \"nbVeh\": 5.0}, {\"heure\": 14, \"type_veh\": \"pl\", \"nbVeh\": 5.0}, {\"heure\": 14, \"type_veh\": \"vl\", \"nbVeh\": 700.0}, {\"heure\": 15, \"type_veh\": \"2r\", \"nbVeh\": 3.0}, {\"heure\": 15, \"type_veh\": \"pl\", \"nbVeh\": 5.0}, {\"heure\": 15, \"type_veh\": \"vl\", \"nbVeh\": 795.0}, {\"heure\": 16, \"type_veh\": \"2r\", \"nbVeh\": 6.0}, {\"heure\": 16, \"type_veh\": \"pl\", \"nbVeh\": 9.0}, {\"heure\": 16, \"type_veh\": \"vl\", \"nbVeh\": 866.0}, {\"heure\": 17, \"type_veh\": \"2r\", \"nbVeh\": 7.0}, {\"heure\": 17, \"type_veh\": \"pl\", \"nbVeh\": 2.0}, {\"heure\": 17, \"type_veh\": \"vl\", \"nbVeh\": 996.0}, {\"heure\": 18, \"type_veh\": \"2r\", \"nbVeh\": 4.0}, {\"heure\": 18, \"type_veh\": \"pl\", \"nbVeh\": 5.0}, {\"heure\": 18, \"type_veh\": \"vl\", \"nbVeh\": 818.0}, {\"heure\": 19, \"type_veh\": \"2r\", \"nbVeh\": 4.0}, {\"heure\": 19, \"type_veh\": \"pl\", \"nbVeh\": 2.0}, {\"heure\": 19, \"type_veh\": \"vl\", \"nbVeh\": 532.0}, {\"heure\": 20, \"type_veh\": \"2r\", \"nbVeh\": 3.0}, {\"heure\": 20, \"type_veh\": \"pl\", \"nbVeh\": 3.0}, {\"heure\": 20, \"type_veh\": \"vl\", \"nbVeh\": 281.0}, {\"heure\": 21, \"type_veh\": \"2r\", \"nbVeh\": 0.0}, {\"heure\": 21, \"type_veh\": \"pl\", \"nbVeh\": 1.0}, {\"heure\": 21, \"type_veh\": \"vl\", \"nbVeh\": 168.0}, {\"heure\": 22, \"type_veh\": \"2r\", \"nbVeh\": 0.0}, {\"heure\": 22, \"type_veh\": \"pl\", \"nbVeh\": 0.0}, {\"heure\": 22, \"type_veh\": \"vl\", \"nbVeh\": 107.0}, {\"heure\": 23, \"type_veh\": \"2r\", \"nbVeh\": 0.0}, {\"heure\": 23, \"type_veh\": \"pl\", \"nbVeh\": 0.0}, {\"heure\": 23, \"type_veh\": \"vl\", \"nbVeh\": 67.0}]}}, {\"mode\": \"vega-lite\"});\n",
       "</script>"
      ],
      "text/plain": [
       "alt.Chart(...)"
      ]
     },
     "execution_count": 141,
     "metadata": {},
     "output_type": "execute_result"
    }
   ],
   "source": [
    "dicoHoraire['mja']['sens2']['graph']"
   ]
  },
  {
   "cell_type": "code",
   "execution_count": 9,
   "metadata": {},
   "outputs": [
    {
     "data": {
      "text/html": [
       "\n",
       "<div id=\"altair-viz-84b5d089dd8847a99e258d9ba467e6f3\"></div>\n",
       "<script type=\"text/javascript\">\n",
       "  (function(spec, embedOpt){\n",
       "    let outputDiv = document.currentScript.previousElementSibling;\n",
       "    if (outputDiv.id !== \"altair-viz-84b5d089dd8847a99e258d9ba467e6f3\") {\n",
       "      outputDiv = document.getElementById(\"altair-viz-84b5d089dd8847a99e258d9ba467e6f3\");\n",
       "    }\n",
       "    const paths = {\n",
       "      \"vega\": \"https://cdn.jsdelivr.net/npm//vega@5?noext\",\n",
       "      \"vega-lib\": \"https://cdn.jsdelivr.net/npm//vega-lib?noext\",\n",
       "      \"vega-lite\": \"https://cdn.jsdelivr.net/npm//vega-lite@4.8.1?noext\",\n",
       "      \"vega-embed\": \"https://cdn.jsdelivr.net/npm//vega-embed@6?noext\",\n",
       "    };\n",
       "\n",
       "    function loadScript(lib) {\n",
       "      return new Promise(function(resolve, reject) {\n",
       "        var s = document.createElement('script');\n",
       "        s.src = paths[lib];\n",
       "        s.async = true;\n",
       "        s.onload = () => resolve(paths[lib]);\n",
       "        s.onerror = () => reject(`Error loading script: ${paths[lib]}`);\n",
       "        document.getElementsByTagName(\"head\")[0].appendChild(s);\n",
       "      });\n",
       "    }\n",
       "\n",
       "    function showError(err) {\n",
       "      outputDiv.innerHTML = `<div class=\"error\" style=\"color:red;\">${err}</div>`;\n",
       "      throw err;\n",
       "    }\n",
       "\n",
       "    function displayChart(vegaEmbed) {\n",
       "      vegaEmbed(outputDiv, spec, embedOpt)\n",
       "        .catch(err => showError(`Javascript Error: ${err.message}<br>This usually means there's a typo in your chart specification. See the javascript console for the full traceback.`));\n",
       "    }\n",
       "\n",
       "    if(typeof define === \"function\" && define.amd) {\n",
       "      requirejs.config({paths});\n",
       "      require([\"vega-embed\"], displayChart, err => showError(`Error loading script: ${err.message}`));\n",
       "    } else if (typeof vegaEmbed === \"function\") {\n",
       "      displayChart(vegaEmbed);\n",
       "    } else {\n",
       "      loadScript(\"vega\")\n",
       "        .then(() => loadScript(\"vega-lite\"))\n",
       "        .then(() => loadScript(\"vega-embed\"))\n",
       "        .catch(showError)\n",
       "        .then(() => displayChart(vegaEmbed));\n",
       "    }\n",
       "  })({\"config\": {\"view\": {\"continuousWidth\": 400, \"continuousHeight\": 300}}, \"data\": {\"name\": \"data-104f28411c76b6a81db1a6fa10a1a1e7\"}, \"mark\": \"line\", \"encoding\": {\"color\": {\"type\": \"nominal\", \"field\": \"type_veh\"}, \"x\": {\"type\": \"temporal\", \"field\": \"date_heure\"}, \"y\": {\"type\": \"quantitative\", \"field\": \"nbVeh\"}}, \"width\": 800, \"$schema\": \"https://vega.github.io/schema/vega-lite/v4.8.1.json\", \"datasets\": {\"data-104f28411c76b6a81db1a6fa10a1a1e7\": [{\"date_heure\": \"2020-09-29T00:00:00\", \"type_veh\": \"2r\", \"nbVeh\": 2.0}, {\"date_heure\": \"2020-09-29T00:00:00\", \"type_veh\": \"pl\", \"nbVeh\": 8.0}, {\"date_heure\": \"2020-09-29T00:00:00\", \"type_veh\": \"tv\", \"nbVeh\": 34.0}, {\"date_heure\": \"2020-09-29T00:00:00\", \"type_veh\": \"vl\", \"nbVeh\": 24.0}, {\"date_heure\": \"2020-09-29T01:00:00\", \"type_veh\": \"2r\", \"nbVeh\": 2.0}, {\"date_heure\": \"2020-09-29T01:00:00\", \"type_veh\": \"pl\", \"nbVeh\": 0.0}, {\"date_heure\": \"2020-09-29T01:00:00\", \"type_veh\": \"tv\", \"nbVeh\": 18.0}, {\"date_heure\": \"2020-09-29T01:00:00\", \"type_veh\": \"vl\", \"nbVeh\": 16.0}, {\"date_heure\": \"2020-09-29T02:00:00\", \"type_veh\": \"2r\", \"nbVeh\": 0.0}, {\"date_heure\": \"2020-09-29T02:00:00\", \"type_veh\": \"pl\", \"nbVeh\": 2.0}, {\"date_heure\": \"2020-09-29T02:00:00\", \"type_veh\": \"tv\", \"nbVeh\": 20.0}, {\"date_heure\": \"2020-09-29T02:00:00\", \"type_veh\": \"vl\", \"nbVeh\": 18.0}, {\"date_heure\": \"2020-09-29T03:00:00\", \"type_veh\": \"2r\", \"nbVeh\": 0.0}, {\"date_heure\": \"2020-09-29T03:00:00\", \"type_veh\": \"pl\", \"nbVeh\": 4.0}, {\"date_heure\": \"2020-09-29T03:00:00\", \"type_veh\": \"tv\", \"nbVeh\": 48.0}, {\"date_heure\": \"2020-09-29T03:00:00\", \"type_veh\": \"vl\", \"nbVeh\": 44.0}, {\"date_heure\": \"2020-09-29T04:00:00\", \"type_veh\": \"2r\", \"nbVeh\": 0.0}, {\"date_heure\": \"2020-09-29T04:00:00\", \"type_veh\": \"pl\", \"nbVeh\": 6.0}, {\"date_heure\": \"2020-09-29T04:00:00\", \"type_veh\": \"tv\", \"nbVeh\": 58.0}, {\"date_heure\": \"2020-09-29T04:00:00\", \"type_veh\": \"vl\", \"nbVeh\": 52.0}, {\"date_heure\": \"2020-09-29T05:00:00\", \"type_veh\": \"2r\", \"nbVeh\": 0.0}, {\"date_heure\": \"2020-09-29T05:00:00\", \"type_veh\": \"pl\", \"nbVeh\": 0.0}, {\"date_heure\": \"2020-09-29T05:00:00\", \"type_veh\": \"tv\", \"nbVeh\": 72.0}, {\"date_heure\": \"2020-09-29T05:00:00\", \"type_veh\": \"vl\", \"nbVeh\": 72.0}, {\"date_heure\": \"2020-09-29T06:00:00\", \"type_veh\": \"2r\", \"nbVeh\": 4.0}, {\"date_heure\": \"2020-09-29T06:00:00\", \"type_veh\": \"pl\", \"nbVeh\": 8.0}, {\"date_heure\": \"2020-09-29T06:00:00\", \"type_veh\": \"tv\", \"nbVeh\": 304.0}, {\"date_heure\": \"2020-09-29T06:00:00\", \"type_veh\": \"vl\", \"nbVeh\": 292.0}, {\"date_heure\": \"2020-09-29T07:00:00\", \"type_veh\": \"2r\", \"nbVeh\": 20.0}, {\"date_heure\": \"2020-09-29T07:00:00\", \"type_veh\": \"pl\", \"nbVeh\": 22.0}, {\"date_heure\": \"2020-09-29T07:00:00\", \"type_veh\": \"tv\", \"nbVeh\": 1066.0}, {\"date_heure\": \"2020-09-29T07:00:00\", \"type_veh\": \"vl\", \"nbVeh\": 1024.0}, {\"date_heure\": \"2020-09-29T08:00:00\", \"type_veh\": \"2r\", \"nbVeh\": 26.0}, {\"date_heure\": \"2020-09-29T08:00:00\", \"type_veh\": \"pl\", \"nbVeh\": 14.0}, {\"date_heure\": \"2020-09-29T08:00:00\", \"type_veh\": \"tv\", \"nbVeh\": 1570.0}, {\"date_heure\": \"2020-09-29T08:00:00\", \"type_veh\": \"vl\", \"nbVeh\": 1530.0}, {\"date_heure\": \"2020-09-29T09:00:00\", \"type_veh\": \"2r\", \"nbVeh\": 18.0}, {\"date_heure\": \"2020-09-29T09:00:00\", \"type_veh\": \"pl\", \"nbVeh\": 24.0}, {\"date_heure\": \"2020-09-29T09:00:00\", \"type_veh\": \"tv\", \"nbVeh\": 1348.0}, {\"date_heure\": \"2020-09-29T09:00:00\", \"type_veh\": \"vl\", \"nbVeh\": 1306.0}, {\"date_heure\": \"2020-09-29T10:00:00\", \"type_veh\": \"2r\", \"nbVeh\": 22.0}, {\"date_heure\": \"2020-09-29T10:00:00\", \"type_veh\": \"pl\", \"nbVeh\": 10.0}, {\"date_heure\": \"2020-09-29T10:00:00\", \"type_veh\": \"tv\", \"nbVeh\": 1516.0}, {\"date_heure\": \"2020-09-29T10:00:00\", \"type_veh\": \"vl\", \"nbVeh\": 1484.0}, {\"date_heure\": \"2020-09-29T11:00:00\", \"type_veh\": \"2r\", \"nbVeh\": 34.0}, {\"date_heure\": \"2020-09-29T11:00:00\", \"type_veh\": \"pl\", \"nbVeh\": 22.0}, {\"date_heure\": \"2020-09-29T11:00:00\", \"type_veh\": \"tv\", \"nbVeh\": 1636.0}, {\"date_heure\": \"2020-09-29T11:00:00\", \"type_veh\": \"vl\", \"nbVeh\": 1580.0}, {\"date_heure\": \"2020-09-29T12:00:00\", \"type_veh\": \"2r\", \"nbVeh\": 14.0}, {\"date_heure\": \"2020-09-29T12:00:00\", \"type_veh\": \"pl\", \"nbVeh\": 10.0}, {\"date_heure\": \"2020-09-29T12:00:00\", \"type_veh\": \"tv\", \"nbVeh\": 1472.0}, {\"date_heure\": \"2020-09-29T12:00:00\", \"type_veh\": \"vl\", \"nbVeh\": 1448.0}, {\"date_heure\": \"2020-09-29T13:00:00\", \"type_veh\": \"2r\", \"nbVeh\": 22.0}, {\"date_heure\": \"2020-09-29T13:00:00\", \"type_veh\": \"pl\", \"nbVeh\": 20.0}, {\"date_heure\": \"2020-09-29T13:00:00\", \"type_veh\": \"tv\", \"nbVeh\": 1320.0}, {\"date_heure\": \"2020-09-29T13:00:00\", \"type_veh\": \"vl\", \"nbVeh\": 1278.0}, {\"date_heure\": \"2020-09-29T14:00:00\", \"type_veh\": \"2r\", \"nbVeh\": 20.0}, {\"date_heure\": \"2020-09-29T14:00:00\", \"type_veh\": \"pl\", \"nbVeh\": 10.0}, {\"date_heure\": \"2020-09-29T14:00:00\", \"type_veh\": \"tv\", \"nbVeh\": 1514.0}, {\"date_heure\": \"2020-09-29T14:00:00\", \"type_veh\": \"vl\", \"nbVeh\": 1484.0}, {\"date_heure\": \"2020-09-29T15:00:00\", \"type_veh\": \"2r\", \"nbVeh\": 20.0}, {\"date_heure\": \"2020-09-29T15:00:00\", \"type_veh\": \"pl\", \"nbVeh\": 14.0}, {\"date_heure\": \"2020-09-29T15:00:00\", \"type_veh\": \"tv\", \"nbVeh\": 1656.0}, {\"date_heure\": \"2020-09-29T15:00:00\", \"type_veh\": \"vl\", \"nbVeh\": 1622.0}, {\"date_heure\": \"2020-09-29T16:00:00\", \"type_veh\": \"2r\", \"nbVeh\": 18.0}, {\"date_heure\": \"2020-09-29T16:00:00\", \"type_veh\": \"pl\", \"nbVeh\": 16.0}, {\"date_heure\": \"2020-09-29T16:00:00\", \"type_veh\": \"tv\", \"nbVeh\": 1848.0}, {\"date_heure\": \"2020-09-29T16:00:00\", \"type_veh\": \"vl\", \"nbVeh\": 1814.0}, {\"date_heure\": \"2020-09-29T17:00:00\", \"type_veh\": \"2r\", \"nbVeh\": 48.0}, {\"date_heure\": \"2020-09-29T17:00:00\", \"type_veh\": \"pl\", \"nbVeh\": 14.0}, {\"date_heure\": \"2020-09-29T17:00:00\", \"type_veh\": \"tv\", \"nbVeh\": 2228.0}, {\"date_heure\": \"2020-09-29T17:00:00\", \"type_veh\": \"vl\", \"nbVeh\": 2166.0}, {\"date_heure\": \"2020-09-29T18:00:00\", \"type_veh\": \"2r\", \"nbVeh\": 52.0}, {\"date_heure\": \"2020-09-29T18:00:00\", \"type_veh\": \"pl\", \"nbVeh\": 18.0}, {\"date_heure\": \"2020-09-29T18:00:00\", \"type_veh\": \"tv\", \"nbVeh\": 1954.0}, {\"date_heure\": \"2020-09-29T18:00:00\", \"type_veh\": \"vl\", \"nbVeh\": 1884.0}, {\"date_heure\": \"2020-09-29T19:00:00\", \"type_veh\": \"2r\", \"nbVeh\": 18.0}, {\"date_heure\": \"2020-09-29T19:00:00\", \"type_veh\": \"pl\", \"nbVeh\": 2.0}, {\"date_heure\": \"2020-09-29T19:00:00\", \"type_veh\": \"tv\", \"nbVeh\": 1236.0}, {\"date_heure\": \"2020-09-29T19:00:00\", \"type_veh\": \"vl\", \"nbVeh\": 1216.0}, {\"date_heure\": \"2020-09-29T20:00:00\", \"type_veh\": \"2r\", \"nbVeh\": 6.0}, {\"date_heure\": \"2020-09-29T20:00:00\", \"type_veh\": \"pl\", \"nbVeh\": 2.0}, {\"date_heure\": \"2020-09-29T20:00:00\", \"type_veh\": \"tv\", \"nbVeh\": 636.0}, {\"date_heure\": \"2020-09-29T20:00:00\", \"type_veh\": \"vl\", \"nbVeh\": 628.0}, {\"date_heure\": \"2020-09-29T21:00:00\", \"type_veh\": \"2r\", \"nbVeh\": 4.0}, {\"date_heure\": \"2020-09-29T21:00:00\", \"type_veh\": \"pl\", \"nbVeh\": 6.0}, {\"date_heure\": \"2020-09-29T21:00:00\", \"type_veh\": \"tv\", \"nbVeh\": 336.0}, {\"date_heure\": \"2020-09-29T21:00:00\", \"type_veh\": \"vl\", \"nbVeh\": 326.0}, {\"date_heure\": \"2020-09-29T22:00:00\", \"type_veh\": \"2r\", \"nbVeh\": 4.0}, {\"date_heure\": \"2020-09-29T22:00:00\", \"type_veh\": \"pl\", \"nbVeh\": 0.0}, {\"date_heure\": \"2020-09-29T22:00:00\", \"type_veh\": \"tv\", \"nbVeh\": 206.0}, {\"date_heure\": \"2020-09-29T22:00:00\", \"type_veh\": \"vl\", \"nbVeh\": 202.0}, {\"date_heure\": \"2020-09-29T23:00:00\", \"type_veh\": \"2r\", \"nbVeh\": 0.0}, {\"date_heure\": \"2020-09-29T23:00:00\", \"type_veh\": \"pl\", \"nbVeh\": 0.0}, {\"date_heure\": \"2020-09-29T23:00:00\", \"type_veh\": \"tv\", \"nbVeh\": 120.0}, {\"date_heure\": \"2020-09-29T23:00:00\", \"type_veh\": \"vl\", \"nbVeh\": 120.0}, {\"date_heure\": \"2020-09-30T00:00:00\", \"type_veh\": \"2r\", \"nbVeh\": 2.0}, {\"date_heure\": \"2020-09-30T00:00:00\", \"type_veh\": \"pl\", \"nbVeh\": 0.0}, {\"date_heure\": \"2020-09-30T00:00:00\", \"type_veh\": \"tv\", \"nbVeh\": 44.0}, {\"date_heure\": \"2020-09-30T00:00:00\", \"type_veh\": \"vl\", \"nbVeh\": 42.0}, {\"date_heure\": \"2020-09-30T01:00:00\", \"type_veh\": \"2r\", \"nbVeh\": 0.0}, {\"date_heure\": \"2020-09-30T01:00:00\", \"type_veh\": \"pl\", \"nbVeh\": 0.0}, {\"date_heure\": \"2020-09-30T01:00:00\", \"type_veh\": \"tv\", \"nbVeh\": 24.0}, {\"date_heure\": \"2020-09-30T01:00:00\", \"type_veh\": \"vl\", \"nbVeh\": 24.0}, {\"date_heure\": \"2020-09-30T02:00:00\", \"type_veh\": \"2r\", \"nbVeh\": 0.0}, {\"date_heure\": \"2020-09-30T02:00:00\", \"type_veh\": \"pl\", \"nbVeh\": 0.0}, {\"date_heure\": \"2020-09-30T02:00:00\", \"type_veh\": \"tv\", \"nbVeh\": 30.0}, {\"date_heure\": \"2020-09-30T02:00:00\", \"type_veh\": \"vl\", \"nbVeh\": 30.0}, {\"date_heure\": \"2020-09-30T03:00:00\", \"type_veh\": \"2r\", \"nbVeh\": 0.0}, {\"date_heure\": \"2020-09-30T03:00:00\", \"type_veh\": \"pl\", \"nbVeh\": 0.0}, {\"date_heure\": \"2020-09-30T03:00:00\", \"type_veh\": \"tv\", \"nbVeh\": 30.0}, {\"date_heure\": \"2020-09-30T03:00:00\", \"type_veh\": \"vl\", \"nbVeh\": 30.0}, {\"date_heure\": \"2020-09-30T04:00:00\", \"type_veh\": \"2r\", \"nbVeh\": 0.0}, {\"date_heure\": \"2020-09-30T04:00:00\", \"type_veh\": \"pl\", \"nbVeh\": 2.0}, {\"date_heure\": \"2020-09-30T04:00:00\", \"type_veh\": \"tv\", \"nbVeh\": 56.0}, {\"date_heure\": \"2020-09-30T04:00:00\", \"type_veh\": \"vl\", \"nbVeh\": 54.0}, {\"date_heure\": \"2020-09-30T05:00:00\", \"type_veh\": \"2r\", \"nbVeh\": 4.0}, {\"date_heure\": \"2020-09-30T05:00:00\", \"type_veh\": \"pl\", \"nbVeh\": 4.0}, {\"date_heure\": \"2020-09-30T05:00:00\", \"type_veh\": \"tv\", \"nbVeh\": 82.0}, {\"date_heure\": \"2020-09-30T05:00:00\", \"type_veh\": \"vl\", \"nbVeh\": 74.0}, {\"date_heure\": \"2020-09-30T06:00:00\", \"type_veh\": \"2r\", \"nbVeh\": 8.0}, {\"date_heure\": \"2020-09-30T06:00:00\", \"type_veh\": \"pl\", \"nbVeh\": 12.0}, {\"date_heure\": \"2020-09-30T06:00:00\", \"type_veh\": \"tv\", \"nbVeh\": 254.0}, {\"date_heure\": \"2020-09-30T06:00:00\", \"type_veh\": \"vl\", \"nbVeh\": 234.0}, {\"date_heure\": \"2020-09-30T07:00:00\", \"type_veh\": \"2r\", \"nbVeh\": 14.0}, {\"date_heure\": \"2020-09-30T07:00:00\", \"type_veh\": \"pl\", \"nbVeh\": 16.0}, {\"date_heure\": \"2020-09-30T07:00:00\", \"type_veh\": \"tv\", \"nbVeh\": 1006.0}, {\"date_heure\": \"2020-09-30T07:00:00\", \"type_veh\": \"vl\", \"nbVeh\": 976.0}, {\"date_heure\": \"2020-09-30T08:00:00\", \"type_veh\": \"2r\", \"nbVeh\": 40.0}, {\"date_heure\": \"2020-09-30T08:00:00\", \"type_veh\": \"pl\", \"nbVeh\": 24.0}, {\"date_heure\": \"2020-09-30T08:00:00\", \"type_veh\": \"tv\", \"nbVeh\": 1418.0}, {\"date_heure\": \"2020-09-30T08:00:00\", \"type_veh\": \"vl\", \"nbVeh\": 1354.0}, {\"date_heure\": \"2020-09-30T09:00:00\", \"type_veh\": \"2r\", \"nbVeh\": 20.0}, {\"date_heure\": \"2020-09-30T09:00:00\", \"type_veh\": \"pl\", \"nbVeh\": 34.0}, {\"date_heure\": \"2020-09-30T09:00:00\", \"type_veh\": \"tv\", \"nbVeh\": 1264.0}, {\"date_heure\": \"2020-09-30T09:00:00\", \"type_veh\": \"vl\", \"nbVeh\": 1210.0}, {\"date_heure\": \"2020-09-30T10:00:00\", \"type_veh\": \"2r\", \"nbVeh\": 34.0}, {\"date_heure\": \"2020-09-30T10:00:00\", \"type_veh\": \"pl\", \"nbVeh\": 12.0}, {\"date_heure\": \"2020-09-30T10:00:00\", \"type_veh\": \"tv\", \"nbVeh\": 1506.0}, {\"date_heure\": \"2020-09-30T10:00:00\", \"type_veh\": \"vl\", \"nbVeh\": 1460.0}, {\"date_heure\": \"2020-09-30T11:00:00\", \"type_veh\": \"2r\", \"nbVeh\": 24.0}, {\"date_heure\": \"2020-09-30T11:00:00\", \"type_veh\": \"pl\", \"nbVeh\": 22.0}, {\"date_heure\": \"2020-09-30T11:00:00\", \"type_veh\": \"tv\", \"nbVeh\": 1588.0}, {\"date_heure\": \"2020-09-30T11:00:00\", \"type_veh\": \"vl\", \"nbVeh\": 1542.0}, {\"date_heure\": \"2020-09-30T12:00:00\", \"type_veh\": \"2r\", \"nbVeh\": 14.0}, {\"date_heure\": \"2020-09-30T12:00:00\", \"type_veh\": \"pl\", \"nbVeh\": 18.0}, {\"date_heure\": \"2020-09-30T12:00:00\", \"type_veh\": \"tv\", \"nbVeh\": 1634.0}, {\"date_heure\": \"2020-09-30T12:00:00\", \"type_veh\": \"vl\", \"nbVeh\": 1602.0}, {\"date_heure\": \"2020-09-30T13:00:00\", \"type_veh\": \"2r\", \"nbVeh\": 26.0}, {\"date_heure\": \"2020-09-30T13:00:00\", \"type_veh\": \"pl\", \"nbVeh\": 18.0}, {\"date_heure\": \"2020-09-30T13:00:00\", \"type_veh\": \"tv\", \"nbVeh\": 1392.0}, {\"date_heure\": \"2020-09-30T13:00:00\", \"type_veh\": \"vl\", \"nbVeh\": 1348.0}, {\"date_heure\": \"2020-09-30T14:00:00\", \"type_veh\": \"2r\", \"nbVeh\": 32.0}, {\"date_heure\": \"2020-09-30T14:00:00\", \"type_veh\": \"pl\", \"nbVeh\": 6.0}, {\"date_heure\": \"2020-09-30T14:00:00\", \"type_veh\": \"tv\", \"nbVeh\": 1666.0}, {\"date_heure\": \"2020-09-30T14:00:00\", \"type_veh\": \"vl\", \"nbVeh\": 1628.0}, {\"date_heure\": \"2020-09-30T15:00:00\", \"type_veh\": \"2r\", \"nbVeh\": 30.0}, {\"date_heure\": \"2020-09-30T15:00:00\", \"type_veh\": \"pl\", \"nbVeh\": 8.0}, {\"date_heure\": \"2020-09-30T15:00:00\", \"type_veh\": \"tv\", \"nbVeh\": 1708.0}, {\"date_heure\": \"2020-09-30T15:00:00\", \"type_veh\": \"vl\", \"nbVeh\": 1670.0}, {\"date_heure\": \"2020-09-30T16:00:00\", \"type_veh\": \"2r\", \"nbVeh\": 28.0}, {\"date_heure\": \"2020-09-30T16:00:00\", \"type_veh\": \"pl\", \"nbVeh\": 16.0}, {\"date_heure\": \"2020-09-30T16:00:00\", \"type_veh\": \"tv\", \"nbVeh\": 1860.0}, {\"date_heure\": \"2020-09-30T16:00:00\", \"type_veh\": \"vl\", \"nbVeh\": 1816.0}, {\"date_heure\": \"2020-09-30T17:00:00\", \"type_veh\": \"2r\", \"nbVeh\": 40.0}, {\"date_heure\": \"2020-09-30T17:00:00\", \"type_veh\": \"pl\", \"nbVeh\": 4.0}, {\"date_heure\": \"2020-09-30T17:00:00\", \"type_veh\": \"tv\", \"nbVeh\": 2110.0}, {\"date_heure\": \"2020-09-30T17:00:00\", \"type_veh\": \"vl\", \"nbVeh\": 2066.0}, {\"date_heure\": \"2020-09-30T18:00:00\", \"type_veh\": \"2r\", \"nbVeh\": 26.0}, {\"date_heure\": \"2020-09-30T18:00:00\", \"type_veh\": \"pl\", \"nbVeh\": 6.0}, {\"date_heure\": \"2020-09-30T18:00:00\", \"type_veh\": \"tv\", \"nbVeh\": 1784.0}, {\"date_heure\": \"2020-09-30T18:00:00\", \"type_veh\": \"vl\", \"nbVeh\": 1752.0}, {\"date_heure\": \"2020-09-30T19:00:00\", \"type_veh\": \"2r\", \"nbVeh\": 18.0}, {\"date_heure\": \"2020-09-30T19:00:00\", \"type_veh\": \"pl\", \"nbVeh\": 6.0}, {\"date_heure\": \"2020-09-30T19:00:00\", \"type_veh\": \"tv\", \"nbVeh\": 1332.0}, {\"date_heure\": \"2020-09-30T19:00:00\", \"type_veh\": \"vl\", \"nbVeh\": 1308.0}, {\"date_heure\": \"2020-09-30T20:00:00\", \"type_veh\": \"2r\", \"nbVeh\": 12.0}, {\"date_heure\": \"2020-09-30T20:00:00\", \"type_veh\": \"pl\", \"nbVeh\": 2.0}, {\"date_heure\": \"2020-09-30T20:00:00\", \"type_veh\": \"tv\", \"nbVeh\": 630.0}, {\"date_heure\": \"2020-09-30T20:00:00\", \"type_veh\": \"vl\", \"nbVeh\": 616.0}, {\"date_heure\": \"2020-09-30T21:00:00\", \"type_veh\": \"2r\", \"nbVeh\": 2.0}, {\"date_heure\": \"2020-09-30T21:00:00\", \"type_veh\": \"pl\", \"nbVeh\": 2.0}, {\"date_heure\": \"2020-09-30T21:00:00\", \"type_veh\": \"tv\", \"nbVeh\": 332.0}, {\"date_heure\": \"2020-09-30T21:00:00\", \"type_veh\": \"vl\", \"nbVeh\": 328.0}, {\"date_heure\": \"2020-09-30T22:00:00\", \"type_veh\": \"2r\", \"nbVeh\": 0.0}, {\"date_heure\": \"2020-09-30T22:00:00\", \"type_veh\": \"pl\", \"nbVeh\": 0.0}, {\"date_heure\": \"2020-09-30T22:00:00\", \"type_veh\": \"tv\", \"nbVeh\": 180.0}, {\"date_heure\": \"2020-09-30T22:00:00\", \"type_veh\": \"vl\", \"nbVeh\": 180.0}, {\"date_heure\": \"2020-09-30T23:00:00\", \"type_veh\": \"2r\", \"nbVeh\": 2.0}, {\"date_heure\": \"2020-09-30T23:00:00\", \"type_veh\": \"pl\", \"nbVeh\": 0.0}, {\"date_heure\": \"2020-09-30T23:00:00\", \"type_veh\": \"tv\", \"nbVeh\": 108.0}, {\"date_heure\": \"2020-09-30T23:00:00\", \"type_veh\": \"vl\", \"nbVeh\": 106.0}, {\"date_heure\": \"2020-10-01T00:00:00\", \"type_veh\": \"2r\", \"nbVeh\": 0.0}, {\"date_heure\": \"2020-10-01T00:00:00\", \"type_veh\": \"pl\", \"nbVeh\": 4.0}, {\"date_heure\": \"2020-10-01T00:00:00\", \"type_veh\": \"tv\", \"nbVeh\": 52.0}, {\"date_heure\": \"2020-10-01T00:00:00\", \"type_veh\": \"vl\", \"nbVeh\": 48.0}, {\"date_heure\": \"2020-10-01T01:00:00\", \"type_veh\": \"2r\", \"nbVeh\": 2.0}, {\"date_heure\": \"2020-10-01T01:00:00\", \"type_veh\": \"pl\", \"nbVeh\": 0.0}, {\"date_heure\": \"2020-10-01T01:00:00\", \"type_veh\": \"tv\", \"nbVeh\": 28.0}, {\"date_heure\": \"2020-10-01T01:00:00\", \"type_veh\": \"vl\", \"nbVeh\": 26.0}, {\"date_heure\": \"2020-10-01T02:00:00\", \"type_veh\": \"2r\", \"nbVeh\": 0.0}, {\"date_heure\": \"2020-10-01T02:00:00\", \"type_veh\": \"pl\", \"nbVeh\": 4.0}, {\"date_heure\": \"2020-10-01T02:00:00\", \"type_veh\": \"tv\", \"nbVeh\": 36.0}, {\"date_heure\": \"2020-10-01T02:00:00\", \"type_veh\": \"vl\", \"nbVeh\": 32.0}, {\"date_heure\": \"2020-10-01T03:00:00\", \"type_veh\": \"2r\", \"nbVeh\": 0.0}, {\"date_heure\": \"2020-10-01T03:00:00\", \"type_veh\": \"pl\", \"nbVeh\": 0.0}, {\"date_heure\": \"2020-10-01T03:00:00\", \"type_veh\": \"tv\", \"nbVeh\": 38.0}, {\"date_heure\": \"2020-10-01T03:00:00\", \"type_veh\": \"vl\", \"nbVeh\": 38.0}, {\"date_heure\": \"2020-10-01T04:00:00\", \"type_veh\": \"2r\", \"nbVeh\": 0.0}, {\"date_heure\": \"2020-10-01T04:00:00\", \"type_veh\": \"pl\", \"nbVeh\": 2.0}, {\"date_heure\": \"2020-10-01T04:00:00\", \"type_veh\": \"tv\", \"nbVeh\": 62.0}, {\"date_heure\": \"2020-10-01T04:00:00\", \"type_veh\": \"vl\", \"nbVeh\": 60.0}, {\"date_heure\": \"2020-10-01T05:00:00\", \"type_veh\": \"2r\", \"nbVeh\": 2.0}, {\"date_heure\": \"2020-10-01T05:00:00\", \"type_veh\": \"pl\", \"nbVeh\": 2.0}, {\"date_heure\": \"2020-10-01T05:00:00\", \"type_veh\": \"tv\", \"nbVeh\": 96.0}, {\"date_heure\": \"2020-10-01T05:00:00\", \"type_veh\": \"vl\", \"nbVeh\": 92.0}, {\"date_heure\": \"2020-10-01T06:00:00\", \"type_veh\": \"2r\", \"nbVeh\": 2.0}, {\"date_heure\": \"2020-10-01T06:00:00\", \"type_veh\": \"pl\", \"nbVeh\": 2.0}, {\"date_heure\": \"2020-10-01T06:00:00\", \"type_veh\": \"tv\", \"nbVeh\": 198.0}, {\"date_heure\": \"2020-10-01T06:00:00\", \"type_veh\": \"vl\", \"nbVeh\": 194.0}, {\"date_heure\": \"2020-10-01T07:00:00\", \"type_veh\": \"2r\", \"nbVeh\": 20.0}, {\"date_heure\": \"2020-10-01T07:00:00\", \"type_veh\": \"pl\", \"nbVeh\": 26.0}, {\"date_heure\": \"2020-10-01T07:00:00\", \"type_veh\": \"tv\", \"nbVeh\": 1074.0}, {\"date_heure\": \"2020-10-01T07:00:00\", \"type_veh\": \"vl\", \"nbVeh\": 1028.0}, {\"date_heure\": \"2020-10-01T08:00:00\", \"type_veh\": \"2r\", \"nbVeh\": 20.0}, {\"date_heure\": \"2020-10-01T08:00:00\", \"type_veh\": \"pl\", \"nbVeh\": 14.0}, {\"date_heure\": \"2020-10-01T08:00:00\", \"type_veh\": \"tv\", \"nbVeh\": 1626.0}, {\"date_heure\": \"2020-10-01T08:00:00\", \"type_veh\": \"vl\", \"nbVeh\": 1592.0}, {\"date_heure\": \"2020-10-01T09:00:00\", \"type_veh\": \"2r\", \"nbVeh\": 22.0}, {\"date_heure\": \"2020-10-01T09:00:00\", \"type_veh\": \"pl\", \"nbVeh\": 18.0}, {\"date_heure\": \"2020-10-01T09:00:00\", \"type_veh\": \"tv\", \"nbVeh\": 1506.0}, {\"date_heure\": \"2020-10-01T09:00:00\", \"type_veh\": \"vl\", \"nbVeh\": 1466.0}, {\"date_heure\": \"2020-10-01T10:00:00\", \"type_veh\": \"2r\", \"nbVeh\": 30.0}, {\"date_heure\": \"2020-10-01T10:00:00\", \"type_veh\": \"pl\", \"nbVeh\": 12.0}, {\"date_heure\": \"2020-10-01T10:00:00\", \"type_veh\": \"tv\", \"nbVeh\": 1668.0}, {\"date_heure\": \"2020-10-01T10:00:00\", \"type_veh\": \"vl\", \"nbVeh\": 1626.0}, {\"date_heure\": \"2020-10-01T11:00:00\", \"type_veh\": \"2r\", \"nbVeh\": 18.0}, {\"date_heure\": \"2020-10-01T11:00:00\", \"type_veh\": \"pl\", \"nbVeh\": 14.0}, {\"date_heure\": \"2020-10-01T11:00:00\", \"type_veh\": \"tv\", \"nbVeh\": 1614.0}, {\"date_heure\": \"2020-10-01T11:00:00\", \"type_veh\": \"vl\", \"nbVeh\": 1582.0}, {\"date_heure\": \"2020-10-01T12:00:00\", \"type_veh\": \"2r\", \"nbVeh\": 28.0}, {\"date_heure\": \"2020-10-01T12:00:00\", \"type_veh\": \"pl\", \"nbVeh\": 16.0}, {\"date_heure\": \"2020-10-01T12:00:00\", \"type_veh\": \"tv\", \"nbVeh\": 1568.0}, {\"date_heure\": \"2020-10-01T12:00:00\", \"type_veh\": \"vl\", \"nbVeh\": 1524.0}, {\"date_heure\": \"2020-10-01T13:00:00\", \"type_veh\": \"2r\", \"nbVeh\": 12.0}, {\"date_heure\": \"2020-10-01T13:00:00\", \"type_veh\": \"pl\", \"nbVeh\": 12.0}, {\"date_heure\": \"2020-10-01T13:00:00\", \"type_veh\": \"tv\", \"nbVeh\": 1428.0}, {\"date_heure\": \"2020-10-01T13:00:00\", \"type_veh\": \"vl\", \"nbVeh\": 1404.0}, {\"date_heure\": \"2020-10-01T14:00:00\", \"type_veh\": \"2r\", \"nbVeh\": 12.0}, {\"date_heure\": \"2020-10-01T14:00:00\", \"type_veh\": \"pl\", \"nbVeh\": 12.0}, {\"date_heure\": \"2020-10-01T14:00:00\", \"type_veh\": \"tv\", \"nbVeh\": 1592.0}, {\"date_heure\": \"2020-10-01T14:00:00\", \"type_veh\": \"vl\", \"nbVeh\": 1568.0}, {\"date_heure\": \"2020-10-01T15:00:00\", \"type_veh\": \"2r\", \"nbVeh\": 22.0}, {\"date_heure\": \"2020-10-01T15:00:00\", \"type_veh\": \"pl\", \"nbVeh\": 8.0}, {\"date_heure\": \"2020-10-01T15:00:00\", \"type_veh\": \"tv\", \"nbVeh\": 1876.0}, {\"date_heure\": \"2020-10-01T15:00:00\", \"type_veh\": \"vl\", \"nbVeh\": 1846.0}, {\"date_heure\": \"2020-10-01T16:00:00\", \"type_veh\": \"2r\", \"nbVeh\": 14.0}, {\"date_heure\": \"2020-10-01T16:00:00\", \"type_veh\": \"pl\", \"nbVeh\": 22.0}, {\"date_heure\": \"2020-10-01T16:00:00\", \"type_veh\": \"tv\", \"nbVeh\": 1966.0}, {\"date_heure\": \"2020-10-01T16:00:00\", \"type_veh\": \"vl\", \"nbVeh\": 1930.0}, {\"date_heure\": \"2020-10-01T17:00:00\", \"type_veh\": \"2r\", \"nbVeh\": 30.0}, {\"date_heure\": \"2020-10-01T17:00:00\", \"type_veh\": \"pl\", \"nbVeh\": 4.0}, {\"date_heure\": \"2020-10-01T17:00:00\", \"type_veh\": \"tv\", \"nbVeh\": 2136.0}, {\"date_heure\": \"2020-10-01T17:00:00\", \"type_veh\": \"vl\", \"nbVeh\": 2102.0}, {\"date_heure\": \"2020-10-01T18:00:00\", \"type_veh\": \"2r\", \"nbVeh\": 16.0}, {\"date_heure\": \"2020-10-01T18:00:00\", \"type_veh\": \"pl\", \"nbVeh\": 10.0}, {\"date_heure\": \"2020-10-01T18:00:00\", \"type_veh\": \"tv\", \"nbVeh\": 1738.0}, {\"date_heure\": \"2020-10-01T18:00:00\", \"type_veh\": \"vl\", \"nbVeh\": 1712.0}, {\"date_heure\": \"2020-10-01T19:00:00\", \"type_veh\": \"2r\", \"nbVeh\": 12.0}, {\"date_heure\": \"2020-10-01T19:00:00\", \"type_veh\": \"pl\", \"nbVeh\": 0.0}, {\"date_heure\": \"2020-10-01T19:00:00\", \"type_veh\": \"tv\", \"nbVeh\": 1366.0}, {\"date_heure\": \"2020-10-01T19:00:00\", \"type_veh\": \"vl\", \"nbVeh\": 1354.0}, {\"date_heure\": \"2020-10-01T20:00:00\", \"type_veh\": \"2r\", \"nbVeh\": 8.0}, {\"date_heure\": \"2020-10-01T20:00:00\", \"type_veh\": \"pl\", \"nbVeh\": 6.0}, {\"date_heure\": \"2020-10-01T20:00:00\", \"type_veh\": \"tv\", \"nbVeh\": 660.0}, {\"date_heure\": \"2020-10-01T20:00:00\", \"type_veh\": \"vl\", \"nbVeh\": 646.0}, {\"date_heure\": \"2020-10-01T21:00:00\", \"type_veh\": \"2r\", \"nbVeh\": 2.0}, {\"date_heure\": \"2020-10-01T21:00:00\", \"type_veh\": \"pl\", \"nbVeh\": 2.0}, {\"date_heure\": \"2020-10-01T21:00:00\", \"type_veh\": \"tv\", \"nbVeh\": 358.0}, {\"date_heure\": \"2020-10-01T21:00:00\", \"type_veh\": \"vl\", \"nbVeh\": 354.0}, {\"date_heure\": \"2020-10-01T22:00:00\", \"type_veh\": \"2r\", \"nbVeh\": 6.0}, {\"date_heure\": \"2020-10-01T22:00:00\", \"type_veh\": \"pl\", \"nbVeh\": 0.0}, {\"date_heure\": \"2020-10-01T22:00:00\", \"type_veh\": \"tv\", \"nbVeh\": 204.0}, {\"date_heure\": \"2020-10-01T22:00:00\", \"type_veh\": \"vl\", \"nbVeh\": 198.0}, {\"date_heure\": \"2020-10-01T23:00:00\", \"type_veh\": \"2r\", \"nbVeh\": 0.0}, {\"date_heure\": \"2020-10-01T23:00:00\", \"type_veh\": \"pl\", \"nbVeh\": 2.0}, {\"date_heure\": \"2020-10-01T23:00:00\", \"type_veh\": \"tv\", \"nbVeh\": 132.0}, {\"date_heure\": \"2020-10-01T23:00:00\", \"type_veh\": \"vl\", \"nbVeh\": 130.0}, {\"date_heure\": \"2020-10-02T00:00:00\", \"type_veh\": \"2r\", \"nbVeh\": 0.0}, {\"date_heure\": \"2020-10-02T00:00:00\", \"type_veh\": \"pl\", \"nbVeh\": 0.0}, {\"date_heure\": \"2020-10-02T00:00:00\", \"type_veh\": \"tv\", \"nbVeh\": 82.0}, {\"date_heure\": \"2020-10-02T00:00:00\", \"type_veh\": \"vl\", \"nbVeh\": 82.0}, {\"date_heure\": \"2020-10-02T01:00:00\", \"type_veh\": \"2r\", \"nbVeh\": 2.0}, {\"date_heure\": \"2020-10-02T01:00:00\", \"type_veh\": \"pl\", \"nbVeh\": 0.0}, {\"date_heure\": \"2020-10-02T01:00:00\", \"type_veh\": \"tv\", \"nbVeh\": 40.0}, {\"date_heure\": \"2020-10-02T01:00:00\", \"type_veh\": \"vl\", \"nbVeh\": 38.0}, {\"date_heure\": \"2020-10-02T02:00:00\", \"type_veh\": \"2r\", \"nbVeh\": 0.0}, {\"date_heure\": \"2020-10-02T02:00:00\", \"type_veh\": \"pl\", \"nbVeh\": 0.0}, {\"date_heure\": \"2020-10-02T02:00:00\", \"type_veh\": \"tv\", \"nbVeh\": 24.0}, {\"date_heure\": \"2020-10-02T02:00:00\", \"type_veh\": \"vl\", \"nbVeh\": 24.0}, {\"date_heure\": \"2020-10-02T03:00:00\", \"type_veh\": \"2r\", \"nbVeh\": 2.0}, {\"date_heure\": \"2020-10-02T03:00:00\", \"type_veh\": \"pl\", \"nbVeh\": 0.0}, {\"date_heure\": \"2020-10-02T03:00:00\", \"type_veh\": \"tv\", \"nbVeh\": 32.0}, {\"date_heure\": \"2020-10-02T03:00:00\", \"type_veh\": \"vl\", \"nbVeh\": 30.0}, {\"date_heure\": \"2020-10-02T04:00:00\", \"type_veh\": \"2r\", \"nbVeh\": 0.0}, {\"date_heure\": \"2020-10-02T04:00:00\", \"type_veh\": \"pl\", \"nbVeh\": 0.0}, {\"date_heure\": \"2020-10-02T04:00:00\", \"type_veh\": \"tv\", \"nbVeh\": 56.0}, {\"date_heure\": \"2020-10-02T04:00:00\", \"type_veh\": \"vl\", \"nbVeh\": 56.0}, {\"date_heure\": \"2020-10-02T05:00:00\", \"type_veh\": \"2r\", \"nbVeh\": 0.0}, {\"date_heure\": \"2020-10-02T05:00:00\", \"type_veh\": \"pl\", \"nbVeh\": 2.0}, {\"date_heure\": \"2020-10-02T05:00:00\", \"type_veh\": \"tv\", \"nbVeh\": 62.0}, {\"date_heure\": \"2020-10-02T05:00:00\", \"type_veh\": \"vl\", \"nbVeh\": 60.0}, {\"date_heure\": \"2020-10-02T06:00:00\", \"type_veh\": \"2r\", \"nbVeh\": 2.0}, {\"date_heure\": \"2020-10-02T06:00:00\", \"type_veh\": \"pl\", \"nbVeh\": 4.0}, {\"date_heure\": \"2020-10-02T06:00:00\", \"type_veh\": \"tv\", \"nbVeh\": 278.0}, {\"date_heure\": \"2020-10-02T06:00:00\", \"type_veh\": \"vl\", \"nbVeh\": 272.0}, {\"date_heure\": \"2020-10-02T07:00:00\", \"type_veh\": \"2r\", \"nbVeh\": 18.0}, {\"date_heure\": \"2020-10-02T07:00:00\", \"type_veh\": \"pl\", \"nbVeh\": 18.0}, {\"date_heure\": \"2020-10-02T07:00:00\", \"type_veh\": \"tv\", \"nbVeh\": 1024.0}, {\"date_heure\": \"2020-10-02T07:00:00\", \"type_veh\": \"vl\", \"nbVeh\": 988.0}, {\"date_heure\": \"2020-10-02T08:00:00\", \"type_veh\": \"2r\", \"nbVeh\": 10.0}, {\"date_heure\": \"2020-10-02T08:00:00\", \"type_veh\": \"pl\", \"nbVeh\": 16.0}, {\"date_heure\": \"2020-10-02T08:00:00\", \"type_veh\": \"tv\", \"nbVeh\": 1496.0}, {\"date_heure\": \"2020-10-02T08:00:00\", \"type_veh\": \"vl\", \"nbVeh\": 1470.0}, {\"date_heure\": \"2020-10-02T09:00:00\", \"type_veh\": \"2r\", \"nbVeh\": 48.0}, {\"date_heure\": \"2020-10-02T09:00:00\", \"type_veh\": \"pl\", \"nbVeh\": 6.0}, {\"date_heure\": \"2020-10-02T09:00:00\", \"type_veh\": \"tv\", \"nbVeh\": 1382.0}, {\"date_heure\": \"2020-10-02T09:00:00\", \"type_veh\": \"vl\", \"nbVeh\": 1328.0}, {\"date_heure\": \"2020-10-02T10:00:00\", \"type_veh\": \"2r\", \"nbVeh\": 16.0}, {\"date_heure\": \"2020-10-02T10:00:00\", \"type_veh\": \"pl\", \"nbVeh\": 12.0}, {\"date_heure\": \"2020-10-02T10:00:00\", \"type_veh\": \"tv\", \"nbVeh\": 1520.0}, {\"date_heure\": \"2020-10-02T10:00:00\", \"type_veh\": \"vl\", \"nbVeh\": 1492.0}, {\"date_heure\": \"2020-10-02T11:00:00\", \"type_veh\": \"2r\", \"nbVeh\": 36.0}, {\"date_heure\": \"2020-10-02T11:00:00\", \"type_veh\": \"pl\", \"nbVeh\": 14.0}, {\"date_heure\": \"2020-10-02T11:00:00\", \"type_veh\": \"tv\", \"nbVeh\": 1656.0}, {\"date_heure\": \"2020-10-02T11:00:00\", \"type_veh\": \"vl\", \"nbVeh\": 1606.0}, {\"date_heure\": \"2020-10-02T12:00:00\", \"type_veh\": \"2r\", \"nbVeh\": 16.0}, {\"date_heure\": \"2020-10-02T12:00:00\", \"type_veh\": \"pl\", \"nbVeh\": 8.0}, {\"date_heure\": \"2020-10-02T12:00:00\", \"type_veh\": \"tv\", \"nbVeh\": 1708.0}, {\"date_heure\": \"2020-10-02T12:00:00\", \"type_veh\": \"vl\", \"nbVeh\": 1684.0}, {\"date_heure\": \"2020-10-02T13:00:00\", \"type_veh\": \"2r\", \"nbVeh\": 14.0}, {\"date_heure\": \"2020-10-02T13:00:00\", \"type_veh\": \"pl\", \"nbVeh\": 12.0}, {\"date_heure\": \"2020-10-02T13:00:00\", \"type_veh\": \"tv\", \"nbVeh\": 1392.0}, {\"date_heure\": \"2020-10-02T13:00:00\", \"type_veh\": \"vl\", \"nbVeh\": 1366.0}, {\"date_heure\": \"2020-10-02T14:00:00\", \"type_veh\": \"2r\", \"nbVeh\": 6.0}, {\"date_heure\": \"2020-10-02T14:00:00\", \"type_veh\": \"pl\", \"nbVeh\": 4.0}, {\"date_heure\": \"2020-10-02T14:00:00\", \"type_veh\": \"tv\", \"nbVeh\": 1650.0}, {\"date_heure\": \"2020-10-02T14:00:00\", \"type_veh\": \"vl\", \"nbVeh\": 1640.0}, {\"date_heure\": \"2020-10-02T15:00:00\", \"type_veh\": \"2r\", \"nbVeh\": 8.0}, {\"date_heure\": \"2020-10-02T15:00:00\", \"type_veh\": \"pl\", \"nbVeh\": 10.0}, {\"date_heure\": \"2020-10-02T15:00:00\", \"type_veh\": \"tv\", \"nbVeh\": 1968.0}, {\"date_heure\": \"2020-10-02T15:00:00\", \"type_veh\": \"vl\", \"nbVeh\": 1950.0}, {\"date_heure\": \"2020-10-02T16:00:00\", \"type_veh\": \"2r\", \"nbVeh\": 26.0}, {\"date_heure\": \"2020-10-02T16:00:00\", \"type_veh\": \"pl\", \"nbVeh\": 6.0}, {\"date_heure\": \"2020-10-02T16:00:00\", \"type_veh\": \"tv\", \"nbVeh\": 2076.0}, {\"date_heure\": \"2020-10-02T16:00:00\", \"type_veh\": \"vl\", \"nbVeh\": 2044.0}, {\"date_heure\": \"2020-10-02T17:00:00\", \"type_veh\": \"2r\", \"nbVeh\": 18.0}, {\"date_heure\": \"2020-10-02T17:00:00\", \"type_veh\": \"pl\", \"nbVeh\": 4.0}, {\"date_heure\": \"2020-10-02T17:00:00\", \"type_veh\": \"tv\", \"nbVeh\": 2064.0}, {\"date_heure\": \"2020-10-02T17:00:00\", \"type_veh\": \"vl\", \"nbVeh\": 2042.0}, {\"date_heure\": \"2020-10-02T18:00:00\", \"type_veh\": \"2r\", \"nbVeh\": 14.0}, {\"date_heure\": \"2020-10-02T18:00:00\", \"type_veh\": \"pl\", \"nbVeh\": 4.0}, {\"date_heure\": \"2020-10-02T18:00:00\", \"type_veh\": \"tv\", \"nbVeh\": 2024.0}, {\"date_heure\": \"2020-10-02T18:00:00\", \"type_veh\": \"vl\", \"nbVeh\": 2006.0}, {\"date_heure\": \"2020-10-02T19:00:00\", \"type_veh\": \"2r\", \"nbVeh\": 18.0}, {\"date_heure\": \"2020-10-02T19:00:00\", \"type_veh\": \"pl\", \"nbVeh\": 2.0}, {\"date_heure\": \"2020-10-02T19:00:00\", \"type_veh\": \"tv\", \"nbVeh\": 1538.0}, {\"date_heure\": \"2020-10-02T19:00:00\", \"type_veh\": \"vl\", \"nbVeh\": 1518.0}, {\"date_heure\": \"2020-10-02T20:00:00\", \"type_veh\": \"2r\", \"nbVeh\": 4.0}, {\"date_heure\": \"2020-10-02T20:00:00\", \"type_veh\": \"pl\", \"nbVeh\": 4.0}, {\"date_heure\": \"2020-10-02T20:00:00\", \"type_veh\": \"tv\", \"nbVeh\": 820.0}, {\"date_heure\": \"2020-10-02T20:00:00\", \"type_veh\": \"vl\", \"nbVeh\": 812.0}, {\"date_heure\": \"2020-10-02T21:00:00\", \"type_veh\": \"2r\", \"nbVeh\": 2.0}, {\"date_heure\": \"2020-10-02T21:00:00\", \"type_veh\": \"pl\", \"nbVeh\": 0.0}, {\"date_heure\": \"2020-10-02T21:00:00\", \"type_veh\": \"tv\", \"nbVeh\": 490.0}, {\"date_heure\": \"2020-10-02T21:00:00\", \"type_veh\": \"vl\", \"nbVeh\": 488.0}, {\"date_heure\": \"2020-10-02T22:00:00\", \"type_veh\": \"2r\", \"nbVeh\": 2.0}, {\"date_heure\": \"2020-10-02T22:00:00\", \"type_veh\": \"pl\", \"nbVeh\": 0.0}, {\"date_heure\": \"2020-10-02T22:00:00\", \"type_veh\": \"tv\", \"nbVeh\": 304.0}, {\"date_heure\": \"2020-10-02T22:00:00\", \"type_veh\": \"vl\", \"nbVeh\": 302.0}, {\"date_heure\": \"2020-10-02T23:00:00\", \"type_veh\": \"2r\", \"nbVeh\": 0.0}, {\"date_heure\": \"2020-10-02T23:00:00\", \"type_veh\": \"pl\", \"nbVeh\": 0.0}, {\"date_heure\": \"2020-10-02T23:00:00\", \"type_veh\": \"tv\", \"nbVeh\": 218.0}, {\"date_heure\": \"2020-10-02T23:00:00\", \"type_veh\": \"vl\", \"nbVeh\": 218.0}, {\"date_heure\": \"2020-10-03T00:00:00\", \"type_veh\": \"2r\", \"nbVeh\": 4.0}, {\"date_heure\": \"2020-10-03T00:00:00\", \"type_veh\": \"pl\", \"nbVeh\": 2.0}, {\"date_heure\": \"2020-10-03T00:00:00\", \"type_veh\": \"tv\", \"nbVeh\": 156.0}, {\"date_heure\": \"2020-10-03T00:00:00\", \"type_veh\": \"vl\", \"nbVeh\": 150.0}, {\"date_heure\": \"2020-10-03T01:00:00\", \"type_veh\": \"2r\", \"nbVeh\": 2.0}, {\"date_heure\": \"2020-10-03T01:00:00\", \"type_veh\": \"pl\", \"nbVeh\": 0.0}, {\"date_heure\": \"2020-10-03T01:00:00\", \"type_veh\": \"tv\", \"nbVeh\": 128.0}, {\"date_heure\": \"2020-10-03T01:00:00\", \"type_veh\": \"vl\", \"nbVeh\": 126.0}, {\"date_heure\": \"2020-10-03T02:00:00\", \"type_veh\": \"2r\", \"nbVeh\": 0.0}, {\"date_heure\": \"2020-10-03T02:00:00\", \"type_veh\": \"pl\", \"nbVeh\": 0.0}, {\"date_heure\": \"2020-10-03T02:00:00\", \"type_veh\": \"tv\", \"nbVeh\": 68.0}, {\"date_heure\": \"2020-10-03T02:00:00\", \"type_veh\": \"vl\", \"nbVeh\": 68.0}, {\"date_heure\": \"2020-10-03T03:00:00\", \"type_veh\": \"2r\", \"nbVeh\": 2.0}, {\"date_heure\": \"2020-10-03T03:00:00\", \"type_veh\": \"pl\", \"nbVeh\": 0.0}, {\"date_heure\": \"2020-10-03T03:00:00\", \"type_veh\": \"tv\", \"nbVeh\": 40.0}, {\"date_heure\": \"2020-10-03T03:00:00\", \"type_veh\": \"vl\", \"nbVeh\": 38.0}, {\"date_heure\": \"2020-10-03T04:00:00\", \"type_veh\": \"2r\", \"nbVeh\": 0.0}, {\"date_heure\": \"2020-10-03T04:00:00\", \"type_veh\": \"pl\", \"nbVeh\": 2.0}, {\"date_heure\": \"2020-10-03T04:00:00\", \"type_veh\": \"tv\", \"nbVeh\": 74.0}, {\"date_heure\": \"2020-10-03T04:00:00\", \"type_veh\": \"vl\", \"nbVeh\": 72.0}, {\"date_heure\": \"2020-10-03T05:00:00\", \"type_veh\": \"2r\", \"nbVeh\": 0.0}, {\"date_heure\": \"2020-10-03T05:00:00\", \"type_veh\": \"pl\", \"nbVeh\": 0.0}, {\"date_heure\": \"2020-10-03T05:00:00\", \"type_veh\": \"tv\", \"nbVeh\": 70.0}, {\"date_heure\": \"2020-10-03T05:00:00\", \"type_veh\": \"vl\", \"nbVeh\": 70.0}, {\"date_heure\": \"2020-10-03T06:00:00\", \"type_veh\": \"2r\", \"nbVeh\": 4.0}, {\"date_heure\": \"2020-10-03T06:00:00\", \"type_veh\": \"pl\", \"nbVeh\": 0.0}, {\"date_heure\": \"2020-10-03T06:00:00\", \"type_veh\": \"tv\", \"nbVeh\": 122.0}, {\"date_heure\": \"2020-10-03T06:00:00\", \"type_veh\": \"vl\", \"nbVeh\": 118.0}, {\"date_heure\": \"2020-10-03T07:00:00\", \"type_veh\": \"2r\", \"nbVeh\": 2.0}, {\"date_heure\": \"2020-10-03T07:00:00\", \"type_veh\": \"pl\", \"nbVeh\": 2.0}, {\"date_heure\": \"2020-10-03T07:00:00\", \"type_veh\": \"tv\", \"nbVeh\": 244.0}, {\"date_heure\": \"2020-10-03T07:00:00\", \"type_veh\": \"vl\", \"nbVeh\": 240.0}, {\"date_heure\": \"2020-10-03T08:00:00\", \"type_veh\": \"2r\", \"nbVeh\": 12.0}, {\"date_heure\": \"2020-10-03T08:00:00\", \"type_veh\": \"pl\", \"nbVeh\": 2.0}, {\"date_heure\": \"2020-10-03T08:00:00\", \"type_veh\": \"tv\", \"nbVeh\": 596.0}, {\"date_heure\": \"2020-10-03T08:00:00\", \"type_veh\": \"vl\", \"nbVeh\": 582.0}, {\"date_heure\": \"2020-10-03T09:00:00\", \"type_veh\": \"2r\", \"nbVeh\": 8.0}, {\"date_heure\": \"2020-10-03T09:00:00\", \"type_veh\": \"pl\", \"nbVeh\": 0.0}, {\"date_heure\": \"2020-10-03T09:00:00\", \"type_veh\": \"tv\", \"nbVeh\": 1074.0}, {\"date_heure\": \"2020-10-03T09:00:00\", \"type_veh\": \"vl\", \"nbVeh\": 1066.0}, {\"date_heure\": \"2020-10-03T10:00:00\", \"type_veh\": \"2r\", \"nbVeh\": 16.0}, {\"date_heure\": \"2020-10-03T10:00:00\", \"type_veh\": \"pl\", \"nbVeh\": 2.0}, {\"date_heure\": \"2020-10-03T10:00:00\", \"type_veh\": \"tv\", \"nbVeh\": 1652.0}, {\"date_heure\": \"2020-10-03T10:00:00\", \"type_veh\": \"vl\", \"nbVeh\": 1634.0}, {\"date_heure\": \"2020-10-03T11:00:00\", \"type_veh\": \"2r\", \"nbVeh\": 20.0}, {\"date_heure\": \"2020-10-03T11:00:00\", \"type_veh\": \"pl\", \"nbVeh\": 4.0}, {\"date_heure\": \"2020-10-03T11:00:00\", \"type_veh\": \"tv\", \"nbVeh\": 1924.0}, {\"date_heure\": \"2020-10-03T11:00:00\", \"type_veh\": \"vl\", \"nbVeh\": 1900.0}, {\"date_heure\": \"2020-10-03T12:00:00\", \"type_veh\": \"2r\", \"nbVeh\": 20.0}, {\"date_heure\": \"2020-10-03T12:00:00\", \"type_veh\": \"pl\", \"nbVeh\": 2.0}, {\"date_heure\": \"2020-10-03T12:00:00\", \"type_veh\": \"tv\", \"nbVeh\": 1640.0}, {\"date_heure\": \"2020-10-03T12:00:00\", \"type_veh\": \"vl\", \"nbVeh\": 1618.0}, {\"date_heure\": \"2020-10-03T13:00:00\", \"type_veh\": \"2r\", \"nbVeh\": 28.0}, {\"date_heure\": \"2020-10-03T13:00:00\", \"type_veh\": \"pl\", \"nbVeh\": 4.0}, {\"date_heure\": \"2020-10-03T13:00:00\", \"type_veh\": \"tv\", \"nbVeh\": 1268.0}, {\"date_heure\": \"2020-10-03T13:00:00\", \"type_veh\": \"vl\", \"nbVeh\": 1236.0}, {\"date_heure\": \"2020-10-03T14:00:00\", \"type_veh\": \"2r\", \"nbVeh\": 44.0}, {\"date_heure\": \"2020-10-03T14:00:00\", \"type_veh\": \"pl\", \"nbVeh\": 0.0}, {\"date_heure\": \"2020-10-03T14:00:00\", \"type_veh\": \"tv\", \"nbVeh\": 1412.0}, {\"date_heure\": \"2020-10-03T14:00:00\", \"type_veh\": \"vl\", \"nbVeh\": 1368.0}, {\"date_heure\": \"2020-10-03T15:00:00\", \"type_veh\": \"2r\", \"nbVeh\": 26.0}, {\"date_heure\": \"2020-10-03T15:00:00\", \"type_veh\": \"pl\", \"nbVeh\": 0.0}, {\"date_heure\": \"2020-10-03T15:00:00\", \"type_veh\": \"tv\", \"nbVeh\": 1744.0}, {\"date_heure\": \"2020-10-03T15:00:00\", \"type_veh\": \"vl\", \"nbVeh\": 1718.0}, {\"date_heure\": \"2020-10-03T16:00:00\", \"type_veh\": \"2r\", \"nbVeh\": 44.0}, {\"date_heure\": \"2020-10-03T16:00:00\", \"type_veh\": \"pl\", \"nbVeh\": 2.0}, {\"date_heure\": \"2020-10-03T16:00:00\", \"type_veh\": \"tv\", \"nbVeh\": 1748.0}, {\"date_heure\": \"2020-10-03T16:00:00\", \"type_veh\": \"vl\", \"nbVeh\": 1702.0}, {\"date_heure\": \"2020-10-03T17:00:00\", \"type_veh\": \"2r\", \"nbVeh\": 38.0}, {\"date_heure\": \"2020-10-03T17:00:00\", \"type_veh\": \"pl\", \"nbVeh\": 0.0}, {\"date_heure\": \"2020-10-03T17:00:00\", \"type_veh\": \"tv\", \"nbVeh\": 1712.0}, {\"date_heure\": \"2020-10-03T17:00:00\", \"type_veh\": \"vl\", \"nbVeh\": 1674.0}, {\"date_heure\": \"2020-10-03T18:00:00\", \"type_veh\": \"2r\", \"nbVeh\": 14.0}, {\"date_heure\": \"2020-10-03T18:00:00\", \"type_veh\": \"pl\", \"nbVeh\": 4.0}, {\"date_heure\": \"2020-10-03T18:00:00\", \"type_veh\": \"tv\", \"nbVeh\": 1506.0}, {\"date_heure\": \"2020-10-03T18:00:00\", \"type_veh\": \"vl\", \"nbVeh\": 1488.0}, {\"date_heure\": \"2020-10-03T19:00:00\", \"type_veh\": \"2r\", \"nbVeh\": 28.0}, {\"date_heure\": \"2020-10-03T19:00:00\", \"type_veh\": \"pl\", \"nbVeh\": 4.0}, {\"date_heure\": \"2020-10-03T19:00:00\", \"type_veh\": \"tv\", \"nbVeh\": 1198.0}, {\"date_heure\": \"2020-10-03T19:00:00\", \"type_veh\": \"vl\", \"nbVeh\": 1166.0}, {\"date_heure\": \"2020-10-03T20:00:00\", \"type_veh\": \"2r\", \"nbVeh\": 4.0}, {\"date_heure\": \"2020-10-03T20:00:00\", \"type_veh\": \"pl\", \"nbVeh\": 0.0}, {\"date_heure\": \"2020-10-03T20:00:00\", \"type_veh\": \"tv\", \"nbVeh\": 618.0}, {\"date_heure\": \"2020-10-03T20:00:00\", \"type_veh\": \"vl\", \"nbVeh\": 614.0}, {\"date_heure\": \"2020-10-03T21:00:00\", \"type_veh\": \"2r\", \"nbVeh\": 0.0}, {\"date_heure\": \"2020-10-03T21:00:00\", \"type_veh\": \"pl\", \"nbVeh\": 0.0}, {\"date_heure\": \"2020-10-03T21:00:00\", \"type_veh\": \"tv\", \"nbVeh\": 398.0}, {\"date_heure\": \"2020-10-03T21:00:00\", \"type_veh\": \"vl\", \"nbVeh\": 398.0}, {\"date_heure\": \"2020-10-03T22:00:00\", \"type_veh\": \"2r\", \"nbVeh\": 0.0}, {\"date_heure\": \"2020-10-03T22:00:00\", \"type_veh\": \"pl\", \"nbVeh\": 0.0}, {\"date_heure\": \"2020-10-03T22:00:00\", \"type_veh\": \"tv\", \"nbVeh\": 266.0}, {\"date_heure\": \"2020-10-03T22:00:00\", \"type_veh\": \"vl\", \"nbVeh\": 266.0}, {\"date_heure\": \"2020-10-03T23:00:00\", \"type_veh\": \"2r\", \"nbVeh\": 6.0}, {\"date_heure\": \"2020-10-03T23:00:00\", \"type_veh\": \"pl\", \"nbVeh\": 0.0}, {\"date_heure\": \"2020-10-03T23:00:00\", \"type_veh\": \"tv\", \"nbVeh\": 254.0}, {\"date_heure\": \"2020-10-03T23:00:00\", \"type_veh\": \"vl\", \"nbVeh\": 248.0}, {\"date_heure\": \"2020-10-04T00:00:00\", \"type_veh\": \"2r\", \"nbVeh\": 0.0}, {\"date_heure\": \"2020-10-04T00:00:00\", \"type_veh\": \"pl\", \"nbVeh\": 0.0}, {\"date_heure\": \"2020-10-04T00:00:00\", \"type_veh\": \"tv\", \"nbVeh\": 182.0}, {\"date_heure\": \"2020-10-04T00:00:00\", \"type_veh\": \"vl\", \"nbVeh\": 182.0}, {\"date_heure\": \"2020-10-04T01:00:00\", \"type_veh\": \"2r\", \"nbVeh\": 0.0}, {\"date_heure\": \"2020-10-04T01:00:00\", \"type_veh\": \"pl\", \"nbVeh\": 0.0}, {\"date_heure\": \"2020-10-04T01:00:00\", \"type_veh\": \"tv\", \"nbVeh\": 132.0}, {\"date_heure\": \"2020-10-04T01:00:00\", \"type_veh\": \"vl\", \"nbVeh\": 132.0}, {\"date_heure\": \"2020-10-04T02:00:00\", \"type_veh\": \"2r\", \"nbVeh\": 0.0}, {\"date_heure\": \"2020-10-04T02:00:00\", \"type_veh\": \"pl\", \"nbVeh\": 2.0}, {\"date_heure\": \"2020-10-04T02:00:00\", \"type_veh\": \"tv\", \"nbVeh\": 106.0}, {\"date_heure\": \"2020-10-04T02:00:00\", \"type_veh\": \"vl\", \"nbVeh\": 104.0}, {\"date_heure\": \"2020-10-04T03:00:00\", \"type_veh\": \"2r\", \"nbVeh\": 0.0}, {\"date_heure\": \"2020-10-04T03:00:00\", \"type_veh\": \"pl\", \"nbVeh\": 0.0}, {\"date_heure\": \"2020-10-04T03:00:00\", \"type_veh\": \"tv\", \"nbVeh\": 58.0}, {\"date_heure\": \"2020-10-04T03:00:00\", \"type_veh\": \"vl\", \"nbVeh\": 58.0}, {\"date_heure\": \"2020-10-04T04:00:00\", \"type_veh\": \"2r\", \"nbVeh\": 2.0}, {\"date_heure\": \"2020-10-04T04:00:00\", \"type_veh\": \"pl\", \"nbVeh\": 0.0}, {\"date_heure\": \"2020-10-04T04:00:00\", \"type_veh\": \"tv\", \"nbVeh\": 62.0}, {\"date_heure\": \"2020-10-04T04:00:00\", \"type_veh\": \"vl\", \"nbVeh\": 60.0}, {\"date_heure\": \"2020-10-04T05:00:00\", \"type_veh\": \"2r\", \"nbVeh\": 0.0}, {\"date_heure\": \"2020-10-04T05:00:00\", \"type_veh\": \"pl\", \"nbVeh\": 0.0}, {\"date_heure\": \"2020-10-04T05:00:00\", \"type_veh\": \"tv\", \"nbVeh\": 56.0}, {\"date_heure\": \"2020-10-04T05:00:00\", \"type_veh\": \"vl\", \"nbVeh\": 56.0}, {\"date_heure\": \"2020-10-04T06:00:00\", \"type_veh\": \"2r\", \"nbVeh\": 4.0}, {\"date_heure\": \"2020-10-04T06:00:00\", \"type_veh\": \"pl\", \"nbVeh\": 0.0}, {\"date_heure\": \"2020-10-04T06:00:00\", \"type_veh\": \"tv\", \"nbVeh\": 52.0}, {\"date_heure\": \"2020-10-04T06:00:00\", \"type_veh\": \"vl\", \"nbVeh\": 48.0}, {\"date_heure\": \"2020-10-04T07:00:00\", \"type_veh\": \"2r\", \"nbVeh\": 0.0}, {\"date_heure\": \"2020-10-04T07:00:00\", \"type_veh\": \"pl\", \"nbVeh\": 0.0}, {\"date_heure\": \"2020-10-04T07:00:00\", \"type_veh\": \"tv\", \"nbVeh\": 126.0}, {\"date_heure\": \"2020-10-04T07:00:00\", \"type_veh\": \"vl\", \"nbVeh\": 126.0}, {\"date_heure\": \"2020-10-04T08:00:00\", \"type_veh\": \"2r\", \"nbVeh\": 0.0}, {\"date_heure\": \"2020-10-04T08:00:00\", \"type_veh\": \"pl\", \"nbVeh\": 0.0}, {\"date_heure\": \"2020-10-04T08:00:00\", \"type_veh\": \"tv\", \"nbVeh\": 280.0}, {\"date_heure\": \"2020-10-04T08:00:00\", \"type_veh\": \"vl\", \"nbVeh\": 280.0}, {\"date_heure\": \"2020-10-04T09:00:00\", \"type_veh\": \"2r\", \"nbVeh\": 2.0}, {\"date_heure\": \"2020-10-04T09:00:00\", \"type_veh\": \"pl\", \"nbVeh\": 0.0}, {\"date_heure\": \"2020-10-04T09:00:00\", \"type_veh\": \"tv\", \"nbVeh\": 602.0}, {\"date_heure\": \"2020-10-04T09:00:00\", \"type_veh\": \"vl\", \"nbVeh\": 600.0}, {\"date_heure\": \"2020-10-04T10:00:00\", \"type_veh\": \"2r\", \"nbVeh\": 4.0}, {\"date_heure\": \"2020-10-04T10:00:00\", \"type_veh\": \"pl\", \"nbVeh\": 0.0}, {\"date_heure\": \"2020-10-04T10:00:00\", \"type_veh\": \"tv\", \"nbVeh\": 1006.0}, {\"date_heure\": \"2020-10-04T10:00:00\", \"type_veh\": \"vl\", \"nbVeh\": 1002.0}, {\"date_heure\": \"2020-10-04T11:00:00\", \"type_veh\": \"2r\", \"nbVeh\": 4.0}, {\"date_heure\": \"2020-10-04T11:00:00\", \"type_veh\": \"pl\", \"nbVeh\": 0.0}, {\"date_heure\": \"2020-10-04T11:00:00\", \"type_veh\": \"tv\", \"nbVeh\": 1318.0}, {\"date_heure\": \"2020-10-04T11:00:00\", \"type_veh\": \"vl\", \"nbVeh\": 1314.0}, {\"date_heure\": \"2020-10-04T12:00:00\", \"type_veh\": \"2r\", \"nbVeh\": 2.0}, {\"date_heure\": \"2020-10-04T12:00:00\", \"type_veh\": \"pl\", \"nbVeh\": 0.0}, {\"date_heure\": \"2020-10-04T12:00:00\", \"type_veh\": \"tv\", \"nbVeh\": 1074.0}, {\"date_heure\": \"2020-10-04T12:00:00\", \"type_veh\": \"vl\", \"nbVeh\": 1072.0}, {\"date_heure\": \"2020-10-04T13:00:00\", \"type_veh\": \"2r\", \"nbVeh\": 2.0}, {\"date_heure\": \"2020-10-04T13:00:00\", \"type_veh\": \"pl\", \"nbVeh\": 6.0}, {\"date_heure\": \"2020-10-04T13:00:00\", \"type_veh\": \"tv\", \"nbVeh\": 532.0}, {\"date_heure\": \"2020-10-04T13:00:00\", \"type_veh\": \"vl\", \"nbVeh\": 524.0}, {\"date_heure\": \"2020-10-04T14:00:00\", \"type_veh\": \"2r\", \"nbVeh\": 2.0}, {\"date_heure\": \"2020-10-04T14:00:00\", \"type_veh\": \"pl\", \"nbVeh\": 2.0}, {\"date_heure\": \"2020-10-04T14:00:00\", \"type_veh\": \"tv\", \"nbVeh\": 554.0}, {\"date_heure\": \"2020-10-04T14:00:00\", \"type_veh\": \"vl\", \"nbVeh\": 550.0}, {\"date_heure\": \"2020-10-04T15:00:00\", \"type_veh\": \"2r\", \"nbVeh\": 4.0}, {\"date_heure\": \"2020-10-04T15:00:00\", \"type_veh\": \"pl\", \"nbVeh\": 0.0}, {\"date_heure\": \"2020-10-04T15:00:00\", \"type_veh\": \"tv\", \"nbVeh\": 614.0}, {\"date_heure\": \"2020-10-04T15:00:00\", \"type_veh\": \"vl\", \"nbVeh\": 610.0}, {\"date_heure\": \"2020-10-04T16:00:00\", \"type_veh\": \"2r\", \"nbVeh\": 4.0}, {\"date_heure\": \"2020-10-04T16:00:00\", \"type_veh\": \"pl\", \"nbVeh\": 2.0}, {\"date_heure\": \"2020-10-04T16:00:00\", \"type_veh\": \"tv\", \"nbVeh\": 718.0}, {\"date_heure\": \"2020-10-04T16:00:00\", \"type_veh\": \"vl\", \"nbVeh\": 712.0}, {\"date_heure\": \"2020-10-04T17:00:00\", \"type_veh\": \"2r\", \"nbVeh\": 14.0}, {\"date_heure\": \"2020-10-04T17:00:00\", \"type_veh\": \"pl\", \"nbVeh\": 0.0}, {\"date_heure\": \"2020-10-04T17:00:00\", \"type_veh\": \"tv\", \"nbVeh\": 784.0}, {\"date_heure\": \"2020-10-04T17:00:00\", \"type_veh\": \"vl\", \"nbVeh\": 770.0}, {\"date_heure\": \"2020-10-04T18:00:00\", \"type_veh\": \"2r\", \"nbVeh\": 0.0}, {\"date_heure\": \"2020-10-04T18:00:00\", \"type_veh\": \"pl\", \"nbVeh\": 4.0}, {\"date_heure\": \"2020-10-04T18:00:00\", \"type_veh\": \"tv\", \"nbVeh\": 948.0}, {\"date_heure\": \"2020-10-04T18:00:00\", \"type_veh\": \"vl\", \"nbVeh\": 944.0}, {\"date_heure\": \"2020-10-04T19:00:00\", \"type_veh\": \"2r\", \"nbVeh\": 6.0}, {\"date_heure\": \"2020-10-04T19:00:00\", \"type_veh\": \"pl\", \"nbVeh\": 4.0}, {\"date_heure\": \"2020-10-04T19:00:00\", \"type_veh\": \"tv\", \"nbVeh\": 672.0}, {\"date_heure\": \"2020-10-04T19:00:00\", \"type_veh\": \"vl\", \"nbVeh\": 662.0}, {\"date_heure\": \"2020-10-04T20:00:00\", \"type_veh\": \"2r\", \"nbVeh\": 2.0}, {\"date_heure\": \"2020-10-04T20:00:00\", \"type_veh\": \"pl\", \"nbVeh\": 2.0}, {\"date_heure\": \"2020-10-04T20:00:00\", \"type_veh\": \"tv\", \"nbVeh\": 486.0}, {\"date_heure\": \"2020-10-04T20:00:00\", \"type_veh\": \"vl\", \"nbVeh\": 482.0}, {\"date_heure\": \"2020-10-04T21:00:00\", \"type_veh\": \"2r\", \"nbVeh\": 8.0}, {\"date_heure\": \"2020-10-04T21:00:00\", \"type_veh\": \"pl\", \"nbVeh\": 0.0}, {\"date_heure\": \"2020-10-04T21:00:00\", \"type_veh\": \"tv\", \"nbVeh\": 310.0}, {\"date_heure\": \"2020-10-04T21:00:00\", \"type_veh\": \"vl\", \"nbVeh\": 302.0}, {\"date_heure\": \"2020-10-04T22:00:00\", \"type_veh\": \"2r\", \"nbVeh\": 0.0}, {\"date_heure\": \"2020-10-04T22:00:00\", \"type_veh\": \"pl\", \"nbVeh\": 0.0}, {\"date_heure\": \"2020-10-04T22:00:00\", \"type_veh\": \"tv\", \"nbVeh\": 162.0}, {\"date_heure\": \"2020-10-04T22:00:00\", \"type_veh\": \"vl\", \"nbVeh\": 162.0}, {\"date_heure\": \"2020-10-04T23:00:00\", \"type_veh\": \"2r\", \"nbVeh\": 0.0}, {\"date_heure\": \"2020-10-04T23:00:00\", \"type_veh\": \"pl\", \"nbVeh\": 0.0}, {\"date_heure\": \"2020-10-04T23:00:00\", \"type_veh\": \"tv\", \"nbVeh\": 88.0}, {\"date_heure\": \"2020-10-04T23:00:00\", \"type_veh\": \"vl\", \"nbVeh\": 88.0}, {\"date_heure\": \"2020-10-05T00:00:00\", \"type_veh\": \"2r\", \"nbVeh\": 0.0}, {\"date_heure\": \"2020-10-05T00:00:00\", \"type_veh\": \"pl\", \"nbVeh\": 0.0}, {\"date_heure\": \"2020-10-05T00:00:00\", \"type_veh\": \"tv\", \"nbVeh\": 36.0}, {\"date_heure\": \"2020-10-05T00:00:00\", \"type_veh\": \"vl\", \"nbVeh\": 36.0}, {\"date_heure\": \"2020-10-05T01:00:00\", \"type_veh\": \"2r\", \"nbVeh\": 0.0}, {\"date_heure\": \"2020-10-05T01:00:00\", \"type_veh\": \"pl\", \"nbVeh\": 0.0}, {\"date_heure\": \"2020-10-05T01:00:00\", \"type_veh\": \"tv\", \"nbVeh\": 16.0}, {\"date_heure\": \"2020-10-05T01:00:00\", \"type_veh\": \"vl\", \"nbVeh\": 16.0}, {\"date_heure\": \"2020-10-05T02:00:00\", \"type_veh\": \"2r\", \"nbVeh\": 0.0}, {\"date_heure\": \"2020-10-05T02:00:00\", \"type_veh\": \"pl\", \"nbVeh\": 0.0}, {\"date_heure\": \"2020-10-05T02:00:00\", \"type_veh\": \"tv\", \"nbVeh\": 12.0}, {\"date_heure\": \"2020-10-05T02:00:00\", \"type_veh\": \"vl\", \"nbVeh\": 12.0}, {\"date_heure\": \"2020-10-05T03:00:00\", \"type_veh\": \"2r\", \"nbVeh\": 0.0}, {\"date_heure\": \"2020-10-05T03:00:00\", \"type_veh\": \"pl\", \"nbVeh\": 0.0}, {\"date_heure\": \"2020-10-05T03:00:00\", \"type_veh\": \"tv\", \"nbVeh\": 32.0}, {\"date_heure\": \"2020-10-05T03:00:00\", \"type_veh\": \"vl\", \"nbVeh\": 32.0}, {\"date_heure\": \"2020-10-05T04:00:00\", \"type_veh\": \"2r\", \"nbVeh\": 0.0}, {\"date_heure\": \"2020-10-05T04:00:00\", \"type_veh\": \"pl\", \"nbVeh\": 2.0}, {\"date_heure\": \"2020-10-05T04:00:00\", \"type_veh\": \"tv\", \"nbVeh\": 78.0}, {\"date_heure\": \"2020-10-05T04:00:00\", \"type_veh\": \"vl\", \"nbVeh\": 76.0}, {\"date_heure\": \"2020-10-05T05:00:00\", \"type_veh\": \"2r\", \"nbVeh\": 0.0}, {\"date_heure\": \"2020-10-05T05:00:00\", \"type_veh\": \"pl\", \"nbVeh\": 2.0}, {\"date_heure\": \"2020-10-05T05:00:00\", \"type_veh\": \"tv\", \"nbVeh\": 90.0}, {\"date_heure\": \"2020-10-05T05:00:00\", \"type_veh\": \"vl\", \"nbVeh\": 88.0}, {\"date_heure\": \"2020-10-05T06:00:00\", \"type_veh\": \"2r\", \"nbVeh\": 0.0}, {\"date_heure\": \"2020-10-05T06:00:00\", \"type_veh\": \"pl\", \"nbVeh\": 0.0}, {\"date_heure\": \"2020-10-05T06:00:00\", \"type_veh\": \"tv\", \"nbVeh\": 278.0}, {\"date_heure\": \"2020-10-05T06:00:00\", \"type_veh\": \"vl\", \"nbVeh\": 278.0}, {\"date_heure\": \"2020-10-05T07:00:00\", \"type_veh\": \"2r\", \"nbVeh\": 16.0}, {\"date_heure\": \"2020-10-05T07:00:00\", \"type_veh\": \"pl\", \"nbVeh\": 22.0}, {\"date_heure\": \"2020-10-05T07:00:00\", \"type_veh\": \"tv\", \"nbVeh\": 1014.0}, {\"date_heure\": \"2020-10-05T07:00:00\", \"type_veh\": \"vl\", \"nbVeh\": 976.0}, {\"date_heure\": \"2020-10-05T08:00:00\", \"type_veh\": \"2r\", \"nbVeh\": 16.0}, {\"date_heure\": \"2020-10-05T08:00:00\", \"type_veh\": \"pl\", \"nbVeh\": 8.0}, {\"date_heure\": \"2020-10-05T08:00:00\", \"type_veh\": \"tv\", \"nbVeh\": 1626.0}, {\"date_heure\": \"2020-10-05T08:00:00\", \"type_veh\": \"vl\", \"nbVeh\": 1602.0}, {\"date_heure\": \"2020-10-05T09:00:00\", \"type_veh\": \"2r\", \"nbVeh\": 10.0}, {\"date_heure\": \"2020-10-05T09:00:00\", \"type_veh\": \"pl\", \"nbVeh\": 16.0}, {\"date_heure\": \"2020-10-05T09:00:00\", \"type_veh\": \"tv\", \"nbVeh\": 1346.0}, {\"date_heure\": \"2020-10-05T09:00:00\", \"type_veh\": \"vl\", \"nbVeh\": 1320.0}, {\"date_heure\": \"2020-10-05T10:00:00\", \"type_veh\": \"2r\", \"nbVeh\": 26.0}, {\"date_heure\": \"2020-10-05T10:00:00\", \"type_veh\": \"pl\", \"nbVeh\": 20.0}, {\"date_heure\": \"2020-10-05T10:00:00\", \"type_veh\": \"tv\", \"nbVeh\": 1396.0}, {\"date_heure\": \"2020-10-05T10:00:00\", \"type_veh\": \"vl\", \"nbVeh\": 1350.0}, {\"date_heure\": \"2020-10-05T11:00:00\", \"type_veh\": \"2r\", \"nbVeh\": 8.0}, {\"date_heure\": \"2020-10-05T11:00:00\", \"type_veh\": \"pl\", \"nbVeh\": 8.0}, {\"date_heure\": \"2020-10-05T11:00:00\", \"type_veh\": \"tv\", \"nbVeh\": 1382.0}, {\"date_heure\": \"2020-10-05T11:00:00\", \"type_veh\": \"vl\", \"nbVeh\": 1366.0}, {\"date_heure\": \"2020-10-05T12:00:00\", \"type_veh\": \"2r\", \"nbVeh\": 20.0}, {\"date_heure\": \"2020-10-05T12:00:00\", \"type_veh\": \"pl\", \"nbVeh\": 6.0}, {\"date_heure\": \"2020-10-05T12:00:00\", \"type_veh\": \"tv\", \"nbVeh\": 1544.0}, {\"date_heure\": \"2020-10-05T12:00:00\", \"type_veh\": \"vl\", \"nbVeh\": 1518.0}, {\"date_heure\": \"2020-10-05T13:00:00\", \"type_veh\": \"2r\", \"nbVeh\": 16.0}, {\"date_heure\": \"2020-10-05T13:00:00\", \"type_veh\": \"pl\", \"nbVeh\": 6.0}, {\"date_heure\": \"2020-10-05T13:00:00\", \"type_veh\": \"tv\", \"nbVeh\": 1376.0}, {\"date_heure\": \"2020-10-05T13:00:00\", \"type_veh\": \"vl\", \"nbVeh\": 1354.0}, {\"date_heure\": \"2020-10-05T14:00:00\", \"type_veh\": \"2r\", \"nbVeh\": 8.0}, {\"date_heure\": \"2020-10-05T14:00:00\", \"type_veh\": \"pl\", \"nbVeh\": 8.0}, {\"date_heure\": \"2020-10-05T14:00:00\", \"type_veh\": \"tv\", \"nbVeh\": 1408.0}, {\"date_heure\": \"2020-10-05T14:00:00\", \"type_veh\": \"vl\", \"nbVeh\": 1392.0}, {\"date_heure\": \"2020-10-05T15:00:00\", \"type_veh\": \"2r\", \"nbVeh\": 16.0}, {\"date_heure\": \"2020-10-05T15:00:00\", \"type_veh\": \"pl\", \"nbVeh\": 4.0}, {\"date_heure\": \"2020-10-05T15:00:00\", \"type_veh\": \"tv\", \"nbVeh\": 1612.0}, {\"date_heure\": \"2020-10-05T15:00:00\", \"type_veh\": \"vl\", \"nbVeh\": 1592.0}, {\"date_heure\": \"2020-10-05T16:00:00\", \"type_veh\": \"2r\", \"nbVeh\": 34.0}, {\"date_heure\": \"2020-10-05T16:00:00\", \"type_veh\": \"pl\", \"nbVeh\": 10.0}, {\"date_heure\": \"2020-10-05T16:00:00\", \"type_veh\": \"tv\", \"nbVeh\": 1926.0}, {\"date_heure\": \"2020-10-05T16:00:00\", \"type_veh\": \"vl\", \"nbVeh\": 1882.0}, {\"date_heure\": \"2020-10-05T17:00:00\", \"type_veh\": \"2r\", \"nbVeh\": 40.0}, {\"date_heure\": \"2020-10-05T17:00:00\", \"type_veh\": \"pl\", \"nbVeh\": 6.0}, {\"date_heure\": \"2020-10-05T17:00:00\", \"type_veh\": \"tv\", \"nbVeh\": 2198.0}, {\"date_heure\": \"2020-10-05T17:00:00\", \"type_veh\": \"vl\", \"nbVeh\": 2152.0}, {\"date_heure\": \"2020-10-05T18:00:00\", \"type_veh\": \"2r\", \"nbVeh\": 26.0}, {\"date_heure\": \"2020-10-05T18:00:00\", \"type_veh\": \"pl\", \"nbVeh\": 6.0}, {\"date_heure\": \"2020-10-05T18:00:00\", \"type_veh\": \"tv\", \"nbVeh\": 1914.0}, {\"date_heure\": \"2020-10-05T18:00:00\", \"type_veh\": \"vl\", \"nbVeh\": 1882.0}, {\"date_heure\": \"2020-10-05T19:00:00\", \"type_veh\": \"2r\", \"nbVeh\": 10.0}, {\"date_heure\": \"2020-10-05T19:00:00\", \"type_veh\": \"pl\", \"nbVeh\": 2.0}, {\"date_heure\": \"2020-10-05T19:00:00\", \"type_veh\": \"tv\", \"nbVeh\": 1172.0}, {\"date_heure\": \"2020-10-05T19:00:00\", \"type_veh\": \"vl\", \"nbVeh\": 1160.0}, {\"date_heure\": \"2020-10-05T20:00:00\", \"type_veh\": \"2r\", \"nbVeh\": 10.0}, {\"date_heure\": \"2020-10-05T20:00:00\", \"type_veh\": \"pl\", \"nbVeh\": 4.0}, {\"date_heure\": \"2020-10-05T20:00:00\", \"type_veh\": \"tv\", \"nbVeh\": 658.0}, {\"date_heure\": \"2020-10-05T20:00:00\", \"type_veh\": \"vl\", \"nbVeh\": 644.0}, {\"date_heure\": \"2020-10-05T21:00:00\", \"type_veh\": \"2r\", \"nbVeh\": 2.0}, {\"date_heure\": \"2020-10-05T21:00:00\", \"type_veh\": \"pl\", \"nbVeh\": 0.0}, {\"date_heure\": \"2020-10-05T21:00:00\", \"type_veh\": \"tv\", \"nbVeh\": 318.0}, {\"date_heure\": \"2020-10-05T21:00:00\", \"type_veh\": \"vl\", \"nbVeh\": 316.0}, {\"date_heure\": \"2020-10-05T22:00:00\", \"type_veh\": \"2r\", \"nbVeh\": 2.0}, {\"date_heure\": \"2020-10-05T22:00:00\", \"type_veh\": \"pl\", \"nbVeh\": 0.0}, {\"date_heure\": \"2020-10-05T22:00:00\", \"type_veh\": \"tv\", \"nbVeh\": 174.0}, {\"date_heure\": \"2020-10-05T22:00:00\", \"type_veh\": \"vl\", \"nbVeh\": 172.0}, {\"date_heure\": \"2020-10-05T23:00:00\", \"type_veh\": \"2r\", \"nbVeh\": 0.0}, {\"date_heure\": \"2020-10-05T23:00:00\", \"type_veh\": \"pl\", \"nbVeh\": 0.0}, {\"date_heure\": \"2020-10-05T23:00:00\", \"type_veh\": \"tv\", \"nbVeh\": 72.0}, {\"date_heure\": \"2020-10-05T23:00:00\", \"type_veh\": \"vl\", \"nbVeh\": 72.0}, {\"date_heure\": \"2020-10-06T00:00:00\", \"type_veh\": \"2r\", \"nbVeh\": 0.0}, {\"date_heure\": \"2020-10-06T00:00:00\", \"type_veh\": \"pl\", \"nbVeh\": 2.0}, {\"date_heure\": \"2020-10-06T00:00:00\", \"type_veh\": \"tv\", \"nbVeh\": 34.0}, {\"date_heure\": \"2020-10-06T00:00:00\", \"type_veh\": \"vl\", \"nbVeh\": 32.0}, {\"date_heure\": \"2020-10-06T01:00:00\", \"type_veh\": \"2r\", \"nbVeh\": 4.0}, {\"date_heure\": \"2020-10-06T01:00:00\", \"type_veh\": \"pl\", \"nbVeh\": 4.0}, {\"date_heure\": \"2020-10-06T01:00:00\", \"type_veh\": \"tv\", \"nbVeh\": 42.0}, {\"date_heure\": \"2020-10-06T01:00:00\", \"type_veh\": \"vl\", \"nbVeh\": 34.0}, {\"date_heure\": \"2020-10-06T02:00:00\", \"type_veh\": \"2r\", \"nbVeh\": 0.0}, {\"date_heure\": \"2020-10-06T02:00:00\", \"type_veh\": \"pl\", \"nbVeh\": 0.0}, {\"date_heure\": \"2020-10-06T02:00:00\", \"type_veh\": \"tv\", \"nbVeh\": 20.0}, {\"date_heure\": \"2020-10-06T02:00:00\", \"type_veh\": \"vl\", \"nbVeh\": 20.0}, {\"date_heure\": \"2020-10-06T03:00:00\", \"type_veh\": \"2r\", \"nbVeh\": 0.0}, {\"date_heure\": \"2020-10-06T03:00:00\", \"type_veh\": \"pl\", \"nbVeh\": 0.0}, {\"date_heure\": \"2020-10-06T03:00:00\", \"type_veh\": \"tv\", \"nbVeh\": 42.0}, {\"date_heure\": \"2020-10-06T03:00:00\", \"type_veh\": \"vl\", \"nbVeh\": 42.0}, {\"date_heure\": \"2020-10-06T04:00:00\", \"type_veh\": \"2r\", \"nbVeh\": 2.0}, {\"date_heure\": \"2020-10-06T04:00:00\", \"type_veh\": \"pl\", \"nbVeh\": 2.0}, {\"date_heure\": \"2020-10-06T04:00:00\", \"type_veh\": \"tv\", \"nbVeh\": 66.0}, {\"date_heure\": \"2020-10-06T04:00:00\", \"type_veh\": \"vl\", \"nbVeh\": 62.0}, {\"date_heure\": \"2020-10-06T05:00:00\", \"type_veh\": \"2r\", \"nbVeh\": 0.0}, {\"date_heure\": \"2020-10-06T05:00:00\", \"type_veh\": \"pl\", \"nbVeh\": 2.0}, {\"date_heure\": \"2020-10-06T05:00:00\", \"type_veh\": \"tv\", \"nbVeh\": 86.0}, {\"date_heure\": \"2020-10-06T05:00:00\", \"type_veh\": \"vl\", \"nbVeh\": 84.0}, {\"date_heure\": \"2020-10-06T06:00:00\", \"type_veh\": \"2r\", \"nbVeh\": 12.0}, {\"date_heure\": \"2020-10-06T06:00:00\", \"type_veh\": \"pl\", \"nbVeh\": 0.0}, {\"date_heure\": \"2020-10-06T06:00:00\", \"type_veh\": \"tv\", \"nbVeh\": 274.0}, {\"date_heure\": \"2020-10-06T06:00:00\", \"type_veh\": \"vl\", \"nbVeh\": 262.0}, {\"date_heure\": \"2020-10-06T07:00:00\", \"type_veh\": \"2r\", \"nbVeh\": 10.0}, {\"date_heure\": \"2020-10-06T07:00:00\", \"type_veh\": \"pl\", \"nbVeh\": 12.0}, {\"date_heure\": \"2020-10-06T07:00:00\", \"type_veh\": \"tv\", \"nbVeh\": 1034.0}, {\"date_heure\": \"2020-10-06T07:00:00\", \"type_veh\": \"vl\", \"nbVeh\": 1012.0}, {\"date_heure\": \"2020-10-06T08:00:00\", \"type_veh\": \"2r\", \"nbVeh\": 22.0}, {\"date_heure\": \"2020-10-06T08:00:00\", \"type_veh\": \"pl\", \"nbVeh\": 18.0}, {\"date_heure\": \"2020-10-06T08:00:00\", \"type_veh\": \"tv\", \"nbVeh\": 1578.0}, {\"date_heure\": \"2020-10-06T08:00:00\", \"type_veh\": \"vl\", \"nbVeh\": 1538.0}, {\"date_heure\": \"2020-10-06T09:00:00\", \"type_veh\": \"2r\", \"nbVeh\": 24.0}, {\"date_heure\": \"2020-10-06T09:00:00\", \"type_veh\": \"pl\", \"nbVeh\": 28.0}, {\"date_heure\": \"2020-10-06T09:00:00\", \"type_veh\": \"tv\", \"nbVeh\": 1422.0}, {\"date_heure\": \"2020-10-06T09:00:00\", \"type_veh\": \"vl\", \"nbVeh\": 1370.0}, {\"date_heure\": \"2020-10-06T10:00:00\", \"type_veh\": \"2r\", \"nbVeh\": 50.0}, {\"date_heure\": \"2020-10-06T10:00:00\", \"type_veh\": \"pl\", \"nbVeh\": 26.0}, {\"date_heure\": \"2020-10-06T10:00:00\", \"type_veh\": \"tv\", \"nbVeh\": 1736.0}, {\"date_heure\": \"2020-10-06T10:00:00\", \"type_veh\": \"vl\", \"nbVeh\": 1660.0}, {\"date_heure\": \"2020-10-06T11:00:00\", \"type_veh\": \"2r\", \"nbVeh\": 54.0}, {\"date_heure\": \"2020-10-06T11:00:00\", \"type_veh\": \"pl\", \"nbVeh\": 8.0}, {\"date_heure\": \"2020-10-06T11:00:00\", \"type_veh\": \"tv\", \"nbVeh\": 1598.0}, {\"date_heure\": \"2020-10-06T11:00:00\", \"type_veh\": \"vl\", \"nbVeh\": 1536.0}, {\"date_heure\": \"2020-10-06T12:00:00\", \"type_veh\": \"2r\", \"nbVeh\": 24.0}, {\"date_heure\": \"2020-10-06T12:00:00\", \"type_veh\": \"pl\", \"nbVeh\": 4.0}, {\"date_heure\": \"2020-10-06T12:00:00\", \"type_veh\": \"tv\", \"nbVeh\": 1606.0}, {\"date_heure\": \"2020-10-06T12:00:00\", \"type_veh\": \"vl\", \"nbVeh\": 1578.0}, {\"date_heure\": \"2020-10-06T13:00:00\", \"type_veh\": \"2r\", \"nbVeh\": 20.0}, {\"date_heure\": \"2020-10-06T13:00:00\", \"type_veh\": \"pl\", \"nbVeh\": 6.0}, {\"date_heure\": \"2020-10-06T13:00:00\", \"type_veh\": \"tv\", \"nbVeh\": 1380.0}, {\"date_heure\": \"2020-10-06T13:00:00\", \"type_veh\": \"vl\", \"nbVeh\": 1354.0}, {\"date_heure\": \"2020-10-06T14:00:00\", \"type_veh\": \"2r\", \"nbVeh\": 26.0}, {\"date_heure\": \"2020-10-06T14:00:00\", \"type_veh\": \"pl\", \"nbVeh\": 14.0}, {\"date_heure\": \"2020-10-06T14:00:00\", \"type_veh\": \"tv\", \"nbVeh\": 1624.0}, {\"date_heure\": \"2020-10-06T14:00:00\", \"type_veh\": \"vl\", \"nbVeh\": 1584.0}, {\"date_heure\": \"2020-10-06T15:00:00\", \"type_veh\": \"2r\", \"nbVeh\": 24.0}, {\"date_heure\": \"2020-10-06T15:00:00\", \"type_veh\": \"pl\", \"nbVeh\": 14.0}, {\"date_heure\": \"2020-10-06T15:00:00\", \"type_veh\": \"tv\", \"nbVeh\": 1766.0}, {\"date_heure\": \"2020-10-06T15:00:00\", \"type_veh\": \"vl\", \"nbVeh\": 1728.0}, {\"date_heure\": \"2020-10-06T16:00:00\", \"type_veh\": \"2r\", \"nbVeh\": 28.0}, {\"date_heure\": \"2020-10-06T16:00:00\", \"type_veh\": \"pl\", \"nbVeh\": 14.0}, {\"date_heure\": \"2020-10-06T16:00:00\", \"type_veh\": \"tv\", \"nbVeh\": 1912.0}, {\"date_heure\": \"2020-10-06T16:00:00\", \"type_veh\": \"vl\", \"nbVeh\": 1870.0}, {\"date_heure\": \"2020-10-06T17:00:00\", \"type_veh\": \"2r\", \"nbVeh\": 18.0}, {\"date_heure\": \"2020-10-06T17:00:00\", \"type_veh\": \"pl\", \"nbVeh\": 4.0}, {\"date_heure\": \"2020-10-06T17:00:00\", \"type_veh\": \"tv\", \"nbVeh\": 2180.0}, {\"date_heure\": \"2020-10-06T17:00:00\", \"type_veh\": \"vl\", \"nbVeh\": 2158.0}, {\"date_heure\": \"2020-10-06T18:00:00\", \"type_veh\": \"2r\", \"nbVeh\": 38.0}, {\"date_heure\": \"2020-10-06T18:00:00\", \"type_veh\": \"pl\", \"nbVeh\": 12.0}, {\"date_heure\": \"2020-10-06T18:00:00\", \"type_veh\": \"tv\", \"nbVeh\": 2050.0}, {\"date_heure\": \"2020-10-06T18:00:00\", \"type_veh\": \"vl\", \"nbVeh\": 2000.0}, {\"date_heure\": \"2020-10-06T19:00:00\", \"type_veh\": \"2r\", \"nbVeh\": 6.0}, {\"date_heure\": \"2020-10-06T19:00:00\", \"type_veh\": \"pl\", \"nbVeh\": 4.0}, {\"date_heure\": \"2020-10-06T19:00:00\", \"type_veh\": \"tv\", \"nbVeh\": 1282.0}, {\"date_heure\": \"2020-10-06T19:00:00\", \"type_veh\": \"vl\", \"nbVeh\": 1272.0}, {\"date_heure\": \"2020-10-06T20:00:00\", \"type_veh\": \"2r\", \"nbVeh\": 2.0}, {\"date_heure\": \"2020-10-06T20:00:00\", \"type_veh\": \"pl\", \"nbVeh\": 8.0}, {\"date_heure\": \"2020-10-06T20:00:00\", \"type_veh\": \"tv\", \"nbVeh\": 652.0}, {\"date_heure\": \"2020-10-06T20:00:00\", \"type_veh\": \"vl\", \"nbVeh\": 642.0}, {\"date_heure\": \"2020-10-06T21:00:00\", \"type_veh\": \"2r\", \"nbVeh\": 2.0}, {\"date_heure\": \"2020-10-06T21:00:00\", \"type_veh\": \"pl\", \"nbVeh\": 0.0}, {\"date_heure\": \"2020-10-06T21:00:00\", \"type_veh\": \"tv\", \"nbVeh\": 348.0}, {\"date_heure\": \"2020-10-06T21:00:00\", \"type_veh\": \"vl\", \"nbVeh\": 346.0}, {\"date_heure\": \"2020-10-06T22:00:00\", \"type_veh\": \"2r\", \"nbVeh\": 0.0}, {\"date_heure\": \"2020-10-06T22:00:00\", \"type_veh\": \"pl\", \"nbVeh\": 0.0}, {\"date_heure\": \"2020-10-06T22:00:00\", \"type_veh\": \"tv\", \"nbVeh\": 204.0}, {\"date_heure\": \"2020-10-06T22:00:00\", \"type_veh\": \"vl\", \"nbVeh\": 204.0}, {\"date_heure\": \"2020-10-06T23:00:00\", \"type_veh\": \"2r\", \"nbVeh\": 0.0}, {\"date_heure\": \"2020-10-06T23:00:00\", \"type_veh\": \"pl\", \"nbVeh\": 0.0}, {\"date_heure\": \"2020-10-06T23:00:00\", \"type_veh\": \"tv\", \"nbVeh\": 104.0}, {\"date_heure\": \"2020-10-06T23:00:00\", \"type_veh\": \"vl\", \"nbVeh\": 104.0}]}}, {\"mode\": \"vega-lite\"});\n",
       "</script>"
      ],
      "text/plain": [
       "alt.Chart(...)"
      ]
     },
     "execution_count": 9,
     "metadata": {},
     "output_type": "execute_result"
    }
   ],
   "source": [
    "alt.Chart(dfHeureTypeSens.groupby(['date_heure','type_veh']).nbVeh.sum().reset_index(), width=800).mark_line().encode(x='date_heure:T',y='nbVeh:Q', color='type_veh:N')"
   ]
  },
  {
   "cell_type": "code",
   "execution_count": 130,
   "metadata": {},
   "outputs": [
    {
     "data": {
      "text/html": [
       "\n",
       "<div id=\"altair-viz-3dc4c15ffaac474c8f24f84cca2f3b52\"></div>\n",
       "<script type=\"text/javascript\">\n",
       "  (function(spec, embedOpt){\n",
       "    let outputDiv = document.currentScript.previousElementSibling;\n",
       "    if (outputDiv.id !== \"altair-viz-3dc4c15ffaac474c8f24f84cca2f3b52\") {\n",
       "      outputDiv = document.getElementById(\"altair-viz-3dc4c15ffaac474c8f24f84cca2f3b52\");\n",
       "    }\n",
       "    const paths = {\n",
       "      \"vega\": \"https://cdn.jsdelivr.net/npm//vega@5?noext\",\n",
       "      \"vega-lib\": \"https://cdn.jsdelivr.net/npm//vega-lib?noext\",\n",
       "      \"vega-lite\": \"https://cdn.jsdelivr.net/npm//vega-lite@4.8.1?noext\",\n",
       "      \"vega-embed\": \"https://cdn.jsdelivr.net/npm//vega-embed@6?noext\",\n",
       "    };\n",
       "\n",
       "    function loadScript(lib) {\n",
       "      return new Promise(function(resolve, reject) {\n",
       "        var s = document.createElement('script');\n",
       "        s.src = paths[lib];\n",
       "        s.async = true;\n",
       "        s.onload = () => resolve(paths[lib]);\n",
       "        s.onerror = () => reject(`Error loading script: ${paths[lib]}`);\n",
       "        document.getElementsByTagName(\"head\")[0].appendChild(s);\n",
       "      });\n",
       "    }\n",
       "\n",
       "    function showError(err) {\n",
       "      outputDiv.innerHTML = `<div class=\"error\" style=\"color:red;\">${err}</div>`;\n",
       "      throw err;\n",
       "    }\n",
       "\n",
       "    function displayChart(vegaEmbed) {\n",
       "      vegaEmbed(outputDiv, spec, embedOpt)\n",
       "        .catch(err => showError(`Javascript Error: ${err.message}<br>This usually means there's a typo in your chart specification. See the javascript console for the full traceback.`));\n",
       "    }\n",
       "\n",
       "    if(typeof define === \"function\" && define.amd) {\n",
       "      requirejs.config({paths});\n",
       "      require([\"vega-embed\"], displayChart, err => showError(`Error loading script: ${err.message}`));\n",
       "    } else if (typeof vegaEmbed === \"function\") {\n",
       "      displayChart(vegaEmbed);\n",
       "    } else {\n",
       "      loadScript(\"vega\")\n",
       "        .then(() => loadScript(\"vega-lite\"))\n",
       "        .then(() => loadScript(\"vega-embed\"))\n",
       "        .catch(showError)\n",
       "        .then(() => displayChart(vegaEmbed));\n",
       "    }\n",
       "  })({\"config\": {\"view\": {\"continuousWidth\": 400, \"continuousHeight\": 300}}, \"data\": {\"name\": \"data-9ead4bea73b249fb44ef87f5e8c38421\"}, \"mark\": \"line\", \"encoding\": {\"color\": {\"type\": \"nominal\", \"field\": \"type_veh\"}, \"x\": {\"type\": \"ordinal\", \"field\": \"heure\"}, \"y\": {\"type\": \"quantitative\", \"field\": \"nbVeh\"}}, \"$schema\": \"https://vega.github.io/schema/vega-lite/v4.8.1.json\", \"datasets\": {\"data-9ead4bea73b249fb44ef87f5e8c38421\": [{\"heure\": 0, \"type_veh\": \"2r\", \"nbVeh\": 0.0}, {\"heure\": 0, \"type_veh\": \"pl\", \"nbVeh\": 2.0}, {\"heure\": 0, \"type_veh\": \"vl\", \"nbVeh\": 47.0}, {\"heure\": 1, \"type_veh\": \"2r\", \"nbVeh\": 1.0}, {\"heure\": 1, \"type_veh\": \"pl\", \"nbVeh\": 0.0}, {\"heure\": 1, \"type_veh\": \"vl\", \"nbVeh\": 26.0}, {\"heure\": 2, \"type_veh\": \"2r\", \"nbVeh\": 0.0}, {\"heure\": 2, \"type_veh\": \"pl\", \"nbVeh\": 1.0}, {\"heure\": 2, \"type_veh\": \"vl\", \"nbVeh\": 23.0}, {\"heure\": 3, \"type_veh\": \"2r\", \"nbVeh\": 0.0}, {\"heure\": 3, \"type_veh\": \"pl\", \"nbVeh\": 0.0}, {\"heure\": 3, \"type_veh\": \"vl\", \"nbVeh\": 34.0}, {\"heure\": 4, \"type_veh\": \"2r\", \"nbVeh\": 0.0}, {\"heure\": 4, \"type_veh\": \"pl\", \"nbVeh\": 2.0}, {\"heure\": 4, \"type_veh\": \"vl\", \"nbVeh\": 60.0}, {\"heure\": 5, \"type_veh\": \"2r\", \"nbVeh\": 1.0}, {\"heure\": 5, \"type_veh\": \"pl\", \"nbVeh\": 2.0}, {\"heure\": 5, \"type_veh\": \"vl\", \"nbVeh\": 79.0}, {\"heure\": 6, \"type_veh\": \"2r\", \"nbVeh\": 4.0}, {\"heure\": 6, \"type_veh\": \"pl\", \"nbVeh\": 4.0}, {\"heure\": 6, \"type_veh\": \"vl\", \"nbVeh\": 251.0}, {\"heure\": 7, \"type_veh\": \"2r\", \"nbVeh\": 16.0}, {\"heure\": 7, \"type_veh\": \"pl\", \"nbVeh\": 20.0}, {\"heure\": 7, \"type_veh\": \"vl\", \"nbVeh\": 997.0}, {\"heure\": 8, \"type_veh\": \"2r\", \"nbVeh\": 22.0}, {\"heure\": 8, \"type_veh\": \"pl\", \"nbVeh\": 16.0}, {\"heure\": 8, \"type_veh\": \"vl\", \"nbVeh\": 1511.0}, {\"heure\": 9, \"type_veh\": \"2r\", \"nbVeh\": 24.0}, {\"heure\": 9, \"type_veh\": \"pl\", \"nbVeh\": 20.0}, {\"heure\": 9, \"type_veh\": \"vl\", \"nbVeh\": 1332.0}, {\"heure\": 10, \"type_veh\": \"2r\", \"nbVeh\": 28.0}, {\"heure\": 10, \"type_veh\": \"pl\", \"nbVeh\": 15.0}, {\"heure\": 10, \"type_veh\": \"vl\", \"nbVeh\": 1500.0}, {\"heure\": 11, \"type_veh\": \"2r\", \"nbVeh\": 26.0}, {\"heure\": 11, \"type_veh\": \"pl\", \"nbVeh\": 15.0}, {\"heure\": 11, \"type_veh\": \"vl\", \"nbVeh\": 1531.0}, {\"heure\": 12, \"type_veh\": \"2r\", \"nbVeh\": 20.0}, {\"heure\": 12, \"type_veh\": \"pl\", \"nbVeh\": 11.0}, {\"heure\": 12, \"type_veh\": \"vl\", \"nbVeh\": 1568.0}, {\"heure\": 13, \"type_veh\": \"2r\", \"nbVeh\": 18.0}, {\"heure\": 13, \"type_veh\": \"pl\", \"nbVeh\": 12.0}, {\"heure\": 13, \"type_veh\": \"vl\", \"nbVeh\": 1357.0}, {\"heure\": 14, \"type_veh\": \"2r\", \"nbVeh\": 16.0}, {\"heure\": 14, \"type_veh\": \"pl\", \"nbVeh\": 8.0}, {\"heure\": 14, \"type_veh\": \"vl\", \"nbVeh\": 1553.0}, {\"heure\": 15, \"type_veh\": \"2r\", \"nbVeh\": 20.0}, {\"heure\": 15, \"type_veh\": \"pl\", \"nbVeh\": 9.0}, {\"heure\": 15, \"type_veh\": \"vl\", \"nbVeh\": 1746.0}, {\"heure\": 16, \"type_veh\": \"2r\", \"nbVeh\": 25.0}, {\"heure\": 16, \"type_veh\": \"pl\", \"nbVeh\": 14.0}, {\"heure\": 16, \"type_veh\": \"vl\", \"nbVeh\": 1903.0}, {\"heure\": 17, \"type_veh\": \"2r\", \"nbVeh\": 32.0}, {\"heure\": 17, \"type_veh\": \"pl\", \"nbVeh\": 6.0}, {\"heure\": 17, \"type_veh\": \"vl\", \"nbVeh\": 2105.0}, {\"heure\": 18, \"type_veh\": \"2r\", \"nbVeh\": 25.0}, {\"heure\": 18, \"type_veh\": \"pl\", \"nbVeh\": 9.0}, {\"heure\": 18, \"type_veh\": \"vl\", \"nbVeh\": 1858.0}, {\"heure\": 19, \"type_veh\": \"2r\", \"nbVeh\": 14.0}, {\"heure\": 19, \"type_veh\": \"pl\", \"nbVeh\": 3.0}, {\"heure\": 19, \"type_veh\": \"vl\", \"nbVeh\": 1317.0}, {\"heure\": 20, \"type_veh\": \"2r\", \"nbVeh\": 7.0}, {\"heure\": 20, \"type_veh\": \"pl\", \"nbVeh\": 4.0}, {\"heure\": 20, \"type_veh\": \"vl\", \"nbVeh\": 671.0}, {\"heure\": 21, \"type_veh\": \"2r\", \"nbVeh\": 2.0}, {\"heure\": 21, \"type_veh\": \"pl\", \"nbVeh\": 1.0}, {\"heure\": 21, \"type_veh\": \"vl\", \"nbVeh\": 364.0}, {\"heure\": 22, \"type_veh\": \"2r\", \"nbVeh\": 2.0}, {\"heure\": 22, \"type_veh\": \"pl\", \"nbVeh\": 0.0}, {\"heure\": 22, \"type_veh\": \"vl\", \"nbVeh\": 211.0}, {\"heure\": 23, \"type_veh\": \"2r\", \"nbVeh\": 0.0}, {\"heure\": 23, \"type_veh\": \"pl\", \"nbVeh\": 0.0}, {\"heure\": 23, \"type_veh\": \"vl\", \"nbVeh\": 127.0}]}}, {\"mode\": \"vega-lite\"});\n",
       "</script>"
      ],
      "text/plain": [
       "alt.Chart(...)"
      ]
     },
     "execution_count": 130,
     "metadata": {},
     "output_type": "execute_result"
    }
   ],
   "source": [
    "dicoHoraire['mjo'] ['2sens']['graph']"
   ]
  },
  {
   "cell_type": "code",
   "execution_count": 131,
   "metadata": {},
   "outputs": [
    {
     "data": {
      "text/html": [
       "\n",
       "<div id=\"altair-viz-6cd710db73174e5c98aa8bcfbd0c30da\"></div>\n",
       "<script type=\"text/javascript\">\n",
       "  (function(spec, embedOpt){\n",
       "    let outputDiv = document.currentScript.previousElementSibling;\n",
       "    if (outputDiv.id !== \"altair-viz-6cd710db73174e5c98aa8bcfbd0c30da\") {\n",
       "      outputDiv = document.getElementById(\"altair-viz-6cd710db73174e5c98aa8bcfbd0c30da\");\n",
       "    }\n",
       "    const paths = {\n",
       "      \"vega\": \"https://cdn.jsdelivr.net/npm//vega@5?noext\",\n",
       "      \"vega-lib\": \"https://cdn.jsdelivr.net/npm//vega-lib?noext\",\n",
       "      \"vega-lite\": \"https://cdn.jsdelivr.net/npm//vega-lite@4.8.1?noext\",\n",
       "      \"vega-embed\": \"https://cdn.jsdelivr.net/npm//vega-embed@6?noext\",\n",
       "    };\n",
       "\n",
       "    function loadScript(lib) {\n",
       "      return new Promise(function(resolve, reject) {\n",
       "        var s = document.createElement('script');\n",
       "        s.src = paths[lib];\n",
       "        s.async = true;\n",
       "        s.onload = () => resolve(paths[lib]);\n",
       "        s.onerror = () => reject(`Error loading script: ${paths[lib]}`);\n",
       "        document.getElementsByTagName(\"head\")[0].appendChild(s);\n",
       "      });\n",
       "    }\n",
       "\n",
       "    function showError(err) {\n",
       "      outputDiv.innerHTML = `<div class=\"error\" style=\"color:red;\">${err}</div>`;\n",
       "      throw err;\n",
       "    }\n",
       "\n",
       "    function displayChart(vegaEmbed) {\n",
       "      vegaEmbed(outputDiv, spec, embedOpt)\n",
       "        .catch(err => showError(`Javascript Error: ${err.message}<br>This usually means there's a typo in your chart specification. See the javascript console for the full traceback.`));\n",
       "    }\n",
       "\n",
       "    if(typeof define === \"function\" && define.amd) {\n",
       "      requirejs.config({paths});\n",
       "      require([\"vega-embed\"], displayChart, err => showError(`Error loading script: ${err.message}`));\n",
       "    } else if (typeof vegaEmbed === \"function\") {\n",
       "      displayChart(vegaEmbed);\n",
       "    } else {\n",
       "      loadScript(\"vega\")\n",
       "        .then(() => loadScript(\"vega-lite\"))\n",
       "        .then(() => loadScript(\"vega-embed\"))\n",
       "        .catch(showError)\n",
       "        .then(() => displayChart(vegaEmbed));\n",
       "    }\n",
       "  })({\"config\": {\"view\": {\"continuousWidth\": 400, \"continuousHeight\": 300, \"stroke\": \"transparent\"}}, \"data\": {\"name\": \"data-5d4cd6476648b54ece04a51475955488\"}, \"mark\": \"bar\", \"encoding\": {\"color\": {\"type\": \"nominal\", \"field\": \"type_veh\"}, \"column\": {\"type\": \"ordinal\", \"field\": \"jour\", \"sort\": [\"lundi\", \"mardi\", \"mercredi\", \"jeudi\", \"vendredi\", \"samedi\", \"dimanche\"]}, \"x\": {\"type\": \"nominal\", \"axis\": {\"title\": \"\"}, \"field\": \"type_veh\", \"sort\": [\"tv\", \"vl\", \"pl\", \"2r\"]}, \"y\": {\"type\": \"quantitative\", \"axis\": {\"grid\": false, \"title\": \"Nombre de v\\u00e9hicules\"}, \"field\": \"nbVeh\"}}, \"$schema\": \"https://vega.github.io/schema/vega-lite/v4.8.1.json\", \"datasets\": {\"data-5d4cd6476648b54ece04a51475955488\": [{\"jour\": \"jeudi\", \"type_veh\": \"2r\", \"nbVeh\": 278.0}, {\"jour\": \"jeudi\", \"type_veh\": \"pl\", \"nbVeh\": 192.0}, {\"jour\": \"jeudi\", \"type_veh\": \"vl\", \"nbVeh\": 22552.0}, {\"jour\": \"lundi\", \"type_veh\": \"2r\", \"nbVeh\": 260.0}, {\"jour\": \"lundi\", \"type_veh\": \"pl\", \"nbVeh\": 130.0}, {\"jour\": \"lundi\", \"type_veh\": \"vl\", \"nbVeh\": 21288.0}, {\"jour\": \"mardi\", \"type_veh\": \"2r\", \"nbVeh\": 360.0}, {\"jour\": \"mardi\", \"type_veh\": \"pl\", \"nbVeh\": 207.0}, {\"jour\": \"mardi\", \"type_veh\": \"vl\", \"nbVeh\": 22061.0}, {\"jour\": \"mercredi\", \"type_veh\": \"2r\", \"nbVeh\": 376.0}, {\"jour\": \"mercredi\", \"type_veh\": \"pl\", \"nbVeh\": 212.0}, {\"jour\": \"mercredi\", \"type_veh\": \"vl\", \"nbVeh\": 21450.0}, {\"jour\": \"vendredi\", \"type_veh\": \"2r\", \"nbVeh\": 262.0}, {\"jour\": \"vendredi\", \"type_veh\": \"pl\", \"nbVeh\": 126.0}, {\"jour\": \"vendredi\", \"type_veh\": \"vl\", \"nbVeh\": 23516.0}]}}, {\"mode\": \"vega-lite\"});\n",
       "</script>"
      ],
      "text/plain": [
       "alt.Chart(...)"
      ]
     },
     "execution_count": 131,
     "metadata": {},
     "output_type": "execute_result"
    }
   ],
   "source": [
    "dicoJournalier['mjo'] ['2sens']['graph']"
   ]
  },
  {
   "cell_type": "markdown",
   "metadata": {},
   "source": [
    "# 4. Traiteement d'1 ensemble de points et export\n",
    "génarliser le 3 et exporter des données"
   ]
  },
  {
   "cell_type": "code",
   "execution_count": 142,
   "metadata": {},
   "outputs": [],
   "source": [
    "#dossier source et liste des dossier\n",
    "dossier_src=r'Q:\\DAIT\\TI\\CA_Angouleme\\2020\\C20SA00-09-10-11_Comptage_linearisation_Angouleme\\Doc_travail\\Donnees_produites\\Donnees\\Comptages\\DonneesBrutes'\n",
    "with os.scandir(dossier_src) as it:\n",
    "    listPoints=[(os.path.join(dossier_src,f.name),f.name) for f in it if f.is_dir()]"
   ]
  },
  {
   "cell_type": "code",
   "execution_count": 144,
   "metadata": {},
   "outputs": [
    {
     "name": "stdout",
     "output_type": "stream",
     "text": [
      "('Q:\\\\DAIT\\\\TI\\\\CA_Angouleme\\\\2020\\\\C20SA00-09-10-11_Comptage_linearisation_Angouleme\\\\Doc_travail\\\\Donnees_produites\\\\Donnees\\\\Comptages\\\\DonneesBrutes\\\\P5', 'P5')\n",
      "('Q:\\\\DAIT\\\\TI\\\\CA_Angouleme\\\\2020\\\\C20SA00-09-10-11_Comptage_linearisation_Angouleme\\\\Doc_travail\\\\Donnees_produites\\\\Donnees\\\\Comptages\\\\DonneesBrutes\\\\P10', 'P10')\n",
      "('Q:\\\\DAIT\\\\TI\\\\CA_Angouleme\\\\2020\\\\C20SA00-09-10-11_Comptage_linearisation_Angouleme\\\\Doc_travail\\\\Donnees_produites\\\\Donnees\\\\Comptages\\\\DonneesBrutes\\\\P16', 'P16')\n",
      "('Q:\\\\DAIT\\\\TI\\\\CA_Angouleme\\\\2020\\\\C20SA00-09-10-11_Comptage_linearisation_Angouleme\\\\Doc_travail\\\\Donnees_produites\\\\Donnees\\\\Comptages\\\\DonneesBrutes\\\\P12', 'P12')\n",
      "('Q:\\\\DAIT\\\\TI\\\\CA_Angouleme\\\\2020\\\\C20SA00-09-10-11_Comptage_linearisation_Angouleme\\\\Doc_travail\\\\Donnees_produites\\\\Donnees\\\\Comptages\\\\DonneesBrutes\\\\P14', 'P14')\n",
      "('Q:\\\\DAIT\\\\TI\\\\CA_Angouleme\\\\2020\\\\C20SA00-09-10-11_Comptage_linearisation_Angouleme\\\\Doc_travail\\\\Donnees_produites\\\\Donnees\\\\Comptages\\\\DonneesBrutes\\\\P2', 'P2')\n",
      "('Q:\\\\DAIT\\\\TI\\\\CA_Angouleme\\\\2020\\\\C20SA00-09-10-11_Comptage_linearisation_Angouleme\\\\Doc_travail\\\\Donnees_produites\\\\Donnees\\\\Comptages\\\\DonneesBrutes\\\\P3', 'P3')\n",
      "('Q:\\\\DAIT\\\\TI\\\\CA_Angouleme\\\\2020\\\\C20SA00-09-10-11_Comptage_linearisation_Angouleme\\\\Doc_travail\\\\Donnees_produites\\\\Donnees\\\\Comptages\\\\DonneesBrutes\\\\P8', 'P8')\n",
      "('Q:\\\\DAIT\\\\TI\\\\CA_Angouleme\\\\2020\\\\C20SA00-09-10-11_Comptage_linearisation_Angouleme\\\\Doc_travail\\\\Donnees_produites\\\\Donnees\\\\Comptages\\\\DonneesBrutes\\\\P19', 'P19')\n",
      "('Q:\\\\DAIT\\\\TI\\\\CA_Angouleme\\\\2020\\\\C20SA00-09-10-11_Comptage_linearisation_Angouleme\\\\Doc_travail\\\\Donnees_produites\\\\Donnees\\\\Comptages\\\\DonneesBrutes\\\\P18', 'P18')\n",
      "('Q:\\\\DAIT\\\\TI\\\\CA_Angouleme\\\\2020\\\\C20SA00-09-10-11_Comptage_linearisation_Angouleme\\\\Doc_travail\\\\Donnees_produites\\\\Donnees\\\\Comptages\\\\DonneesBrutes\\\\P15', 'P15')\n",
      "('Q:\\\\DAIT\\\\TI\\\\CA_Angouleme\\\\2020\\\\C20SA00-09-10-11_Comptage_linearisation_Angouleme\\\\Doc_travail\\\\Donnees_produites\\\\Donnees\\\\Comptages\\\\DonneesBrutes\\\\P1', 'P1')\n",
      "('Q:\\\\DAIT\\\\TI\\\\CA_Angouleme\\\\2020\\\\C20SA00-09-10-11_Comptage_linearisation_Angouleme\\\\Doc_travail\\\\Donnees_produites\\\\Donnees\\\\Comptages\\\\DonneesBrutes\\\\P7', 'P7')\n",
      "('Q:\\\\DAIT\\\\TI\\\\CA_Angouleme\\\\2020\\\\C20SA00-09-10-11_Comptage_linearisation_Angouleme\\\\Doc_travail\\\\Donnees_produites\\\\Donnees\\\\Comptages\\\\DonneesBrutes\\\\P17', 'P17')\n",
      "('Q:\\\\DAIT\\\\TI\\\\CA_Angouleme\\\\2020\\\\C20SA00-09-10-11_Comptage_linearisation_Angouleme\\\\Doc_travail\\\\Donnees_produites\\\\Donnees\\\\Comptages\\\\DonneesBrutes\\\\P11', 'P11')\n",
      "('Q:\\\\DAIT\\\\TI\\\\CA_Angouleme\\\\2020\\\\C20SA00-09-10-11_Comptage_linearisation_Angouleme\\\\Doc_travail\\\\Donnees_produites\\\\Donnees\\\\Comptages\\\\DonneesBrutes\\\\P9', 'P9')\n",
      "('Q:\\\\DAIT\\\\TI\\\\CA_Angouleme\\\\2020\\\\C20SA00-09-10-11_Comptage_linearisation_Angouleme\\\\Doc_travail\\\\Donnees_produites\\\\Donnees\\\\Comptages\\\\DonneesBrutes\\\\P6', 'P6')\n",
      "('Q:\\\\DAIT\\\\TI\\\\CA_Angouleme\\\\2020\\\\C20SA00-09-10-11_Comptage_linearisation_Angouleme\\\\Doc_travail\\\\Donnees_produites\\\\Donnees\\\\Comptages\\\\DonneesBrutes\\\\P13', 'P13')\n",
      "('Q:\\\\DAIT\\\\TI\\\\CA_Angouleme\\\\2020\\\\C20SA00-09-10-11_Comptage_linearisation_Angouleme\\\\Doc_travail\\\\Donnees_produites\\\\Donnees\\\\Comptages\\\\DonneesBrutes\\\\P4', 'P4')\n"
     ]
    }
   ],
   "source": [
    "for path in listPoints : \n",
    "    print(path)\n",
    "    if path[1] in('P5','P4','P16','P15') : \n",
    "        continue\n",
    "    cpt2sens=di.ComptageDonneesIndiv(path[0])\n",
    "    dfHeureTypeSens=di.GroupeCompletude(di.NettoyageTemps(cpt2sens.dfValide))\n",
    "    dicoHoraire,dicoJournalier=di.IndicsGraphs(dfHeureTypeSens,['vl','pl','2r'],['mja','mjo', 'samedi', 'dimanche'],['sens1','sens2','2sens'])\n",
    "    hpm,hps,nuit,jour,dfMoyenneHorairesSpeciales=di.IndicsPeriodes(dfHeureTypeSens)\n",
    "    joursCharges=di.JoursCharges(dfHeureTypeSens)\n",
    "    #creer le dossier pour les donnees s'il n'existe pas\n",
    "    chemin=os.path.join(r'Q:\\DAIT\\TI\\CA_Angouleme\\2020\\C20SA00-09-10-11_Comptage_linearisation_Angouleme\\Doc_travail\\Donnees_produites\\Donnees\\Comptages\\extractionMartin',path[1])\n",
    "    if not os.path.exists(chemin) : \n",
    "        os.makedirs(chemin)\n",
    "    dicoHoraire['mja'] ['2sens']['donnees'].sort_values(['sens','type_veh','heure']).to_csv(os.path.join(chemin,'mja_horaire.csv'))\n",
    "    dicoHoraire['mjo'] ['2sens']['donnees'].sort_values(['sens','type_veh','heure']).to_csv(os.path.join(chemin,'mjo_horaire.csv'))\n",
    "    joursCharges.to_csv(os.path.join(chemin,'jours_charges.csv'))\n",
    "    pd.concat([dicoHoraire['samedi']['2sens']['donnees'].assign(jour='samedi'),dicoHoraire['dimanche']['2sens']['donnees'].assign(jour='dimanche')], axis=0\n",
    "         ).groupby(['jour','heure','type_veh']).nbVeh.sum().reset_index().sort_values(['jour','type_veh', 'heure'], ascending=[False, True,True]).to_csv(\n",
    "        os.path.join(chemin,'week-end_horaire.csv'))\n",
    "    dicoJournalier['mja']['2sens']['donnees'].sort_values(['sens','type_veh']).drop('nbOcc', axis=1).to_csv(os.path.join(chemin,'TMJA.csv'))"
   ]
  },
  {
   "cell_type": "code",
   "execution_count": null,
   "metadata": {},
   "outputs": [],
   "source": []
  }
 ],
 "metadata": {
  "kernelspec": {
   "display_name": "Python 3",
   "language": "python",
   "name": "python3"
  },
  "language_info": {
   "codemirror_mode": {
    "name": "ipython",
    "version": 3
   },
   "file_extension": ".py",
   "mimetype": "text/x-python",
   "name": "python",
   "nbconvert_exporter": "python",
   "pygments_lexer": "ipython3",
   "version": "3.8.6"
  }
 },
 "nbformat": 4,
 "nbformat_minor": 4
}
