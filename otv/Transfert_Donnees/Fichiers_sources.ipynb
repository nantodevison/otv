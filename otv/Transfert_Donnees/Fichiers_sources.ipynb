{
 "cells": [
  {
   "cell_type": "markdown",
   "metadata": {},
   "source": [
    "# ***EXEMPLE DE TRAITEMENTS DES FICHIERS SOURCES***\n",
    "> exemples pour les FIM, donnees individuelles mixtra, données individuelles viking, ..."
   ]
  },
  {
   "cell_type": "code",
   "execution_count": 120,
   "metadata": {},
   "outputs": [
    {
     "name": "stdout",
     "output_type": "stream",
     "text": [
      "The autoreload extension is already loaded. To reload it, use:\n",
      "  %reload_ext autoreload\n"
     ]
    }
   ],
   "source": [
    "%load_ext autoreload\n",
    "%autoreload 2\n",
    "import sys\n",
    "sys.path.append(r'C:\\Users\\martin.schoreisz\\git\\otv\\otv\\Transfert_Donnees')\n",
    "sys.path.append(r'C:\\Users\\martin.schoreisz\\git\\Outils\\Outils\\Martin_Perso')\n",
    "import pandas as pd\n",
    "import geopandas as gp\n",
    "import numpy as np\n",
    "import altair as alt\n",
    "from datetime import datetime\n",
    "import locale\n",
    "\n",
    "import Donnees_individuelles as di"
   ]
  },
  {
   "cell_type": "code",
   "execution_count": 3,
   "metadata": {},
   "outputs": [
    {
     "data": {
      "text/plain": [
       "'fr_FR'"
      ]
     },
     "execution_count": 3,
     "metadata": {},
     "output_type": "execute_result"
    }
   ],
   "source": [
    "locale.setlocale(locale.LC_TIME, 'fr_FR')"
   ]
  },
  {
   "cell_type": "markdown",
   "metadata": {},
   "source": [
    "# 1. Données individuelles mixtra\n",
    "ces données sont des fichiers excels, sans aucune référence interne au compteur. A chaque véhicule correspond une ligne avec les atributs descroiptifs"
   ]
  },
  {
   "cell_type": "code",
   "execution_count": 443,
   "metadata": {},
   "outputs": [],
   "source": [
    "mixtra=di.Mixtra([r'P:\\DAIT\\TI\\Donnees\\1-ROUTIER\\1 - Aquitaine\\64 - Pyrénées-Atlantiques\\2020\\Biriatou\\7_Juillet\\Tubes\\Individuelle\\P4_TUBES_23_07_20\\V0_02_B.XLS'],\n",
    "                 [r'P:\\DAIT\\TI\\Donnees\\1-ROUTIER\\1 - Aquitaine\\64 - Pyrénées-Atlantiques\\2020\\Biriatou\\7_Juillet\\Tubes\\Individuelle\\P4_TUBES_23_07_20\\V1_02_B.XLS'])"
   ]
  },
  {
   "cell_type": "code",
   "execution_count": null,
   "metadata": {},
   "outputs": [],
   "source": [
    "#calculer la df qui va contenir toute les données horaires\n",
    "dfValide=di.NettoyageTemps(mixtra.NettoyageDonnees())\n",
    "dfHeureTypeSens=di.GroupeCompletude(dfValide)"
   ]
  },
  {
   "cell_type": "code",
   "execution_count": 548,
   "metadata": {},
   "outputs": [],
   "source": [
    "#creer le dico qui va contenir tout les résultats et données intermeédiaires \n",
    "dicoHoraire,dicoJournalier=di.IndicsGraphs(dfHeureTypeSens,['vl','pl','2r'],['mja','mjo', 'samedi', 'dimanche'],['sens1','sens2','2sens'])"
   ]
  },
  {
   "cell_type": "code",
   "execution_count": 521,
   "metadata": {},
   "outputs": [],
   "source": [
    "#exemple d'appel de résultats\n",
    "dicoHoraire['mjo']['nbJour']\n",
    "dicoHoraire['mja']['nbJour']\n",
    "dicoHoraire['mjo']['2sens']['graph']\n",
    "dicoHoraire['samedi']['sens1']['donnees']\n",
    "dicoJournalier['mja']['type_veh']['graph']\n",
    "dicoJournalier['mjo']['sens']['graph']"
   ]
  },
  {
   "cell_type": "markdown",
   "metadata": {},
   "source": [
    "# 2. Données individuelles viking\n",
    "ces données sont des fichiers excels, sans aucune référence interne au compteur. A chaque véhicule correspond une ligne avec les atributs descroiptifs"
   ]
  },
  {
   "cell_type": "code",
   "execution_count": 569,
   "metadata": {},
   "outputs": [],
   "source": [
    "vik=di.Viking(r'Q:\\DAIT\\TI\\CA_Angouleme\\2020\\C20SA00-09-10-11_Comptage_linearisation_Angouleme\\Doc_travail\\Donnees_produites\\Donnees\\Comptages\\DonneesBrutes\\P9\\P9_sens1.VIK',\n",
    "             r'Q:\\DAIT\\TI\\CA_Angouleme\\2020\\C20SA00-09-10-11_Comptage_linearisation_Angouleme\\Doc_travail\\Donnees_produites\\Donnees\\Comptages\\DonneesBrutes\\P9\\P9_sens2.VIK')"
   ]
  },
  {
   "cell_type": "code",
   "execution_count": 570,
   "metadata": {},
   "outputs": [],
   "source": [
    "dfValide=di.NettoyageTemps(vik.fichier2sens)\n",
    "dfHeureTypeSens=di.GroupeCompletude(dfValide)"
   ]
  },
  {
   "cell_type": "code",
   "execution_count": 800,
   "metadata": {},
   "outputs": [],
   "source": [
    "#creer le dico qui va contenir tout les résultats et données intermeédiaires \n",
    "dicoHoraire,dicoJournalier=di.IndicsGraphs(dfHeureTypeSens,['vl','pl','2r'],['mja','mjo', 'samedi', 'dimanche'],['sens1','sens2','2sens'])\n",
    "#récupérer les HPM,HPS,données horaires jour et nuit\n",
    "hpm,hps,nuit,jour=di.IndicsPeriodes(dfHeureTypeSens)\n",
    "#recuperer les jours les plus charges\n",
    "joursCharges=di.JoursCharges(dfHeureTypeSens)"
   ]
  },
  {
   "cell_type": "code",
   "execution_count": 699,
   "metadata": {},
   "outputs": [
    {
     "data": {
      "text/html": [
       "\n",
       "<div id=\"altair-viz-3cdb498b35c34f68b640f5463d2db260\"></div>\n",
       "<script type=\"text/javascript\">\n",
       "  (function(spec, embedOpt){\n",
       "    let outputDiv = document.currentScript.previousElementSibling;\n",
       "    if (outputDiv.id !== \"altair-viz-3cdb498b35c34f68b640f5463d2db260\") {\n",
       "      outputDiv = document.getElementById(\"altair-viz-3cdb498b35c34f68b640f5463d2db260\");\n",
       "    }\n",
       "    const paths = {\n",
       "      \"vega\": \"https://cdn.jsdelivr.net/npm//vega@5?noext\",\n",
       "      \"vega-lib\": \"https://cdn.jsdelivr.net/npm//vega-lib?noext\",\n",
       "      \"vega-lite\": \"https://cdn.jsdelivr.net/npm//vega-lite@4.8.1?noext\",\n",
       "      \"vega-embed\": \"https://cdn.jsdelivr.net/npm//vega-embed@6?noext\",\n",
       "    };\n",
       "\n",
       "    function loadScript(lib) {\n",
       "      return new Promise(function(resolve, reject) {\n",
       "        var s = document.createElement('script');\n",
       "        s.src = paths[lib];\n",
       "        s.async = true;\n",
       "        s.onload = () => resolve(paths[lib]);\n",
       "        s.onerror = () => reject(`Error loading script: ${paths[lib]}`);\n",
       "        document.getElementsByTagName(\"head\")[0].appendChild(s);\n",
       "      });\n",
       "    }\n",
       "\n",
       "    function showError(err) {\n",
       "      outputDiv.innerHTML = `<div class=\"error\" style=\"color:red;\">${err}</div>`;\n",
       "      throw err;\n",
       "    }\n",
       "\n",
       "    function displayChart(vegaEmbed) {\n",
       "      vegaEmbed(outputDiv, spec, embedOpt)\n",
       "        .catch(err => showError(`Javascript Error: ${err.message}<br>This usually means there's a typo in your chart specification. See the javascript console for the full traceback.`));\n",
       "    }\n",
       "\n",
       "    if(typeof define === \"function\" && define.amd) {\n",
       "      requirejs.config({paths});\n",
       "      require([\"vega-embed\"], displayChart, err => showError(`Error loading script: ${err.message}`));\n",
       "    } else if (typeof vegaEmbed === \"function\") {\n",
       "      displayChart(vegaEmbed);\n",
       "    } else {\n",
       "      loadScript(\"vega\")\n",
       "        .then(() => loadScript(\"vega-lite\"))\n",
       "        .then(() => loadScript(\"vega-embed\"))\n",
       "        .catch(showError)\n",
       "        .then(() => displayChart(vegaEmbed));\n",
       "    }\n",
       "  })({\"config\": {\"view\": {\"continuousWidth\": 400, \"continuousHeight\": 300, \"stroke\": \"transparent\"}}, \"data\": {\"name\": \"data-ab9f3ef52383f3c0ee6892b619454235\"}, \"mark\": \"bar\", \"encoding\": {\"color\": {\"type\": \"nominal\", \"field\": \"type_veh\"}, \"column\": {\"type\": \"ordinal\", \"field\": \"jour\", \"sort\": [\"lundi\", \"mardi\", \"mercredi\", \"jeudi\", \"vendredi\", \"samedi\", \"dimanche\"]}, \"x\": {\"type\": \"nominal\", \"axis\": {\"title\": \"\"}, \"field\": \"type_veh\", \"sort\": [\"tv\", \"vl\", \"pl\", \"2r\"]}, \"y\": {\"type\": \"quantitative\", \"axis\": {\"grid\": false, \"title\": \"Nombre de v\\u00e9hicules\"}, \"field\": \"nbVeh\"}}, \"$schema\": \"https://vega.github.io/schema/vega-lite/v4.8.1.json\", \"datasets\": {\"data-ab9f3ef52383f3c0ee6892b619454235\": [{\"jour\": \"lundi\", \"type_veh\": \"2r\", \"sens\": \"sens1\", \"nbVeh\": 97.0, \"nbOcc\": 1}, {\"jour\": \"lundi\", \"type_veh\": \"2r\", \"sens\": \"sens2\", \"nbVeh\": 33.0, \"nbOcc\": 1}, {\"jour\": \"lundi\", \"type_veh\": \"pl\", \"sens\": \"sens1\", \"nbVeh\": 22.0, \"nbOcc\": 1}, {\"jour\": \"lundi\", \"type_veh\": \"pl\", \"sens\": \"sens2\", \"nbVeh\": 43.0, \"nbOcc\": 1}, {\"jour\": \"lundi\", \"type_veh\": \"vl\", \"sens\": \"sens1\", \"nbVeh\": 5391.0, \"nbOcc\": 1}, {\"jour\": \"lundi\", \"type_veh\": \"vl\", \"sens\": \"sens2\", \"nbVeh\": 5253.0, \"nbOcc\": 1}, {\"jour\": \"mardi\", \"type_veh\": \"vl\", \"sens\": \"sens2\", \"nbVeh\": 5490.0, \"nbOcc\": 2}, {\"jour\": \"mardi\", \"type_veh\": \"vl\", \"sens\": \"sens1\", \"nbVeh\": 5540.5, \"nbOcc\": 2}, {\"jour\": \"mardi\", \"type_veh\": \"2r\", \"sens\": \"sens2\", \"nbVeh\": 48.0, \"nbOcc\": 2}, {\"jour\": \"mardi\", \"type_veh\": \"pl\", \"sens\": \"sens1\", \"nbVeh\": 38.5, \"nbOcc\": 2}, {\"jour\": \"mardi\", \"type_veh\": \"2r\", \"sens\": \"sens1\", \"nbVeh\": 132.0, \"nbOcc\": 2}, {\"jour\": \"mardi\", \"type_veh\": \"pl\", \"sens\": \"sens2\", \"nbVeh\": 65.0, \"nbOcc\": 2}, {\"jour\": \"mercredi\", \"type_veh\": \"vl\", \"sens\": \"sens2\", \"nbVeh\": 5387.0, \"nbOcc\": 1}, {\"jour\": \"mercredi\", \"type_veh\": \"vl\", \"sens\": \"sens1\", \"nbVeh\": 5338.0, \"nbOcc\": 1}, {\"jour\": \"mercredi\", \"type_veh\": \"pl\", \"sens\": \"sens2\", \"nbVeh\": 75.0, \"nbOcc\": 1}, {\"jour\": \"mercredi\", \"type_veh\": \"pl\", \"sens\": \"sens1\", \"nbVeh\": 31.0, \"nbOcc\": 1}, {\"jour\": \"mercredi\", \"type_veh\": \"2r\", \"sens\": \"sens2\", \"nbVeh\": 66.0, \"nbOcc\": 1}, {\"jour\": \"mercredi\", \"type_veh\": \"2r\", \"sens\": \"sens1\", \"nbVeh\": 122.0, \"nbOcc\": 1}, {\"jour\": \"jeudi\", \"type_veh\": \"vl\", \"sens\": \"sens2\", \"nbVeh\": 5501.0, \"nbOcc\": 1}, {\"jour\": \"jeudi\", \"type_veh\": \"vl\", \"sens\": \"sens1\", \"nbVeh\": 5775.0, \"nbOcc\": 1}, {\"jour\": \"jeudi\", \"type_veh\": \"pl\", \"sens\": \"sens1\", \"nbVeh\": 31.0, \"nbOcc\": 1}, {\"jour\": \"jeudi\", \"type_veh\": \"2r\", \"sens\": \"sens2\", \"nbVeh\": 37.0, \"nbOcc\": 1}, {\"jour\": \"jeudi\", \"type_veh\": \"2r\", \"sens\": \"sens1\", \"nbVeh\": 102.0, \"nbOcc\": 1}, {\"jour\": \"jeudi\", \"type_veh\": \"pl\", \"sens\": \"sens2\", \"nbVeh\": 65.0, \"nbOcc\": 1}, {\"jour\": \"vendredi\", \"type_veh\": \"vl\", \"sens\": \"sens1\", \"nbVeh\": 5883.0, \"nbOcc\": 1}, {\"jour\": \"vendredi\", \"type_veh\": \"2r\", \"sens\": \"sens1\", \"nbVeh\": 95.0, \"nbOcc\": 1}, {\"jour\": \"vendredi\", \"type_veh\": \"2r\", \"sens\": \"sens2\", \"nbVeh\": 36.0, \"nbOcc\": 1}, {\"jour\": \"vendredi\", \"type_veh\": \"pl\", \"sens\": \"sens1\", \"nbVeh\": 18.0, \"nbOcc\": 1}, {\"jour\": \"vendredi\", \"type_veh\": \"pl\", \"sens\": \"sens2\", \"nbVeh\": 45.0, \"nbOcc\": 1}, {\"jour\": \"vendredi\", \"type_veh\": \"vl\", \"sens\": \"sens2\", \"nbVeh\": 5875.0, \"nbOcc\": 1}]}}, {\"mode\": \"vega-lite\"});\n",
       "</script>"
      ],
      "text/plain": [
       "alt.Chart(...)"
      ]
     },
     "execution_count": 699,
     "metadata": {},
     "output_type": "execute_result"
    }
   ],
   "source": [
    "#exemple d'appel de résultats du dico\n",
    "dicoHoraire['mjo']['nbJour']\n",
    "dicoHoraire['mja']['nbJour']\n",
    "dicoHoraire['mjo']['2sens']['graph']\n",
    "dicoHoraire['samedi']['sens1']['donnees']\n",
    "dicoJournalier['mja']['sens2']['graph']\n",
    "dicoJournalier['mjo']['2sens']['graph']"
   ]
  },
  {
   "cell_type": "code",
   "execution_count": 759,
   "metadata": {},
   "outputs": [],
   "source": [
    "joursCharges.to_csv(r'Q:\\DAIT\\TI\\CA_Angouleme\\2020\\C20SA00-09-10-11_Comptage_linearisation_Angouleme\\Doc_travail\\Donnees_produites\\Donnees\\Comptages\\extractionMartin\\P9\\jours_charges.csv')"
   ]
  },
  {
   "cell_type": "code",
   "execution_count": 793,
   "metadata": {},
   "outputs": [],
   "source": [
    "dicoHoraire['mja'] ['2sens']['donnees'].sort_values(['sens','type_veh','heure']).to_csv(\n",
    "r'Q:\\DAIT\\TI\\CA_Angouleme\\2020\\C20SA00-09-10-11_Comptage_linearisation_Angouleme\\Doc_travail\\Donnees_produites\\Donnees\\Comptages\\extractionMartin\\P9\\mja_horaire.csv')"
   ]
  },
  {
   "cell_type": "code",
   "execution_count": 794,
   "metadata": {},
   "outputs": [],
   "source": [
    "dicoHoraire['mjo'] ['2sens']['donnees'].sort_values(['sens','type_veh','heure']).to_csv(\n",
    "r'Q:\\DAIT\\TI\\CA_Angouleme\\2020\\C20SA00-09-10-11_Comptage_linearisation_Angouleme\\Doc_travail\\Donnees_produites\\Donnees\\Comptages\\extractionMartin\\P9\\mjo_horaire.csv')"
   ]
  },
  {
   "cell_type": "code",
   "execution_count": 843,
   "metadata": {},
   "outputs": [
    {
     "data": {
      "text/html": [
       "\n",
       "<div id=\"altair-viz-e50da0b04c8f4a079350e29561fdfeed\"></div>\n",
       "<script type=\"text/javascript\">\n",
       "  (function(spec, embedOpt){\n",
       "    let outputDiv = document.currentScript.previousElementSibling;\n",
       "    if (outputDiv.id !== \"altair-viz-e50da0b04c8f4a079350e29561fdfeed\") {\n",
       "      outputDiv = document.getElementById(\"altair-viz-e50da0b04c8f4a079350e29561fdfeed\");\n",
       "    }\n",
       "    const paths = {\n",
       "      \"vega\": \"https://cdn.jsdelivr.net/npm//vega@5?noext\",\n",
       "      \"vega-lib\": \"https://cdn.jsdelivr.net/npm//vega-lib?noext\",\n",
       "      \"vega-lite\": \"https://cdn.jsdelivr.net/npm//vega-lite@4.8.1?noext\",\n",
       "      \"vega-embed\": \"https://cdn.jsdelivr.net/npm//vega-embed@6?noext\",\n",
       "    };\n",
       "\n",
       "    function loadScript(lib) {\n",
       "      return new Promise(function(resolve, reject) {\n",
       "        var s = document.createElement('script');\n",
       "        s.src = paths[lib];\n",
       "        s.async = true;\n",
       "        s.onload = () => resolve(paths[lib]);\n",
       "        s.onerror = () => reject(`Error loading script: ${paths[lib]}`);\n",
       "        document.getElementsByTagName(\"head\")[0].appendChild(s);\n",
       "      });\n",
       "    }\n",
       "\n",
       "    function showError(err) {\n",
       "      outputDiv.innerHTML = `<div class=\"error\" style=\"color:red;\">${err}</div>`;\n",
       "      throw err;\n",
       "    }\n",
       "\n",
       "    function displayChart(vegaEmbed) {\n",
       "      vegaEmbed(outputDiv, spec, embedOpt)\n",
       "        .catch(err => showError(`Javascript Error: ${err.message}<br>This usually means there's a typo in your chart specification. See the javascript console for the full traceback.`));\n",
       "    }\n",
       "\n",
       "    if(typeof define === \"function\" && define.amd) {\n",
       "      requirejs.config({paths});\n",
       "      require([\"vega-embed\"], displayChart, err => showError(`Error loading script: ${err.message}`));\n",
       "    } else if (typeof vegaEmbed === \"function\") {\n",
       "      displayChart(vegaEmbed);\n",
       "    } else {\n",
       "      loadScript(\"vega\")\n",
       "        .then(() => loadScript(\"vega-lite\"))\n",
       "        .then(() => loadScript(\"vega-embed\"))\n",
       "        .catch(showError)\n",
       "        .then(() => displayChart(vegaEmbed));\n",
       "    }\n",
       "  })({\"config\": {\"view\": {\"continuousWidth\": 400, \"continuousHeight\": 300}}, \"data\": {\"name\": \"data-80e1cfa7160317bce434a4eff0db0f5f\"}, \"mark\": \"line\", \"encoding\": {\"color\": {\"type\": \"nominal\", \"field\": \"type_veh\"}, \"x\": {\"type\": \"ordinal\", \"field\": \"heure\"}, \"y\": {\"type\": \"quantitative\", \"field\": \"nbVeh\"}}, \"$schema\": \"https://vega.github.io/schema/vega-lite/v4.8.1.json\", \"datasets\": {\"data-80e1cfa7160317bce434a4eff0db0f5f\": [{\"heure\": 0, \"type_veh\": \"2r\", \"nbVeh\": 2.0}, {\"heure\": 0, \"type_veh\": \"pl\", \"nbVeh\": 1.0}, {\"heure\": 0, \"type_veh\": \"vl\", \"nbVeh\": 75.0}, {\"heure\": 1, \"type_veh\": \"2r\", \"nbVeh\": 1.0}, {\"heure\": 1, \"type_veh\": \"pl\", \"nbVeh\": 0.0}, {\"heure\": 1, \"type_veh\": \"vl\", \"nbVeh\": 63.0}, {\"heure\": 2, \"type_veh\": \"2r\", \"nbVeh\": 0.0}, {\"heure\": 2, \"type_veh\": \"pl\", \"nbVeh\": 0.0}, {\"heure\": 2, \"type_veh\": \"vl\", \"nbVeh\": 34.0}, {\"heure\": 3, \"type_veh\": \"2r\", \"nbVeh\": 1.0}, {\"heure\": 3, \"type_veh\": \"pl\", \"nbVeh\": 0.0}, {\"heure\": 3, \"type_veh\": \"vl\", \"nbVeh\": 19.0}, {\"heure\": 4, \"type_veh\": \"2r\", \"nbVeh\": 0.0}, {\"heure\": 4, \"type_veh\": \"pl\", \"nbVeh\": 1.0}, {\"heure\": 4, \"type_veh\": \"vl\", \"nbVeh\": 36.0}, {\"heure\": 5, \"type_veh\": \"2r\", \"nbVeh\": 0.0}, {\"heure\": 5, \"type_veh\": \"pl\", \"nbVeh\": 0.0}, {\"heure\": 5, \"type_veh\": \"vl\", \"nbVeh\": 35.0}, {\"heure\": 6, \"type_veh\": \"2r\", \"nbVeh\": 2.0}, {\"heure\": 6, \"type_veh\": \"pl\", \"nbVeh\": 0.0}, {\"heure\": 6, \"type_veh\": \"vl\", \"nbVeh\": 59.0}, {\"heure\": 7, \"type_veh\": \"2r\", \"nbVeh\": 1.0}, {\"heure\": 7, \"type_veh\": \"pl\", \"nbVeh\": 1.0}, {\"heure\": 7, \"type_veh\": \"vl\", \"nbVeh\": 120.0}, {\"heure\": 8, \"type_veh\": \"2r\", \"nbVeh\": 6.0}, {\"heure\": 8, \"type_veh\": \"pl\", \"nbVeh\": 1.0}, {\"heure\": 8, \"type_veh\": \"vl\", \"nbVeh\": 291.0}, {\"heure\": 9, \"type_veh\": \"2r\", \"nbVeh\": 4.0}, {\"heure\": 9, \"type_veh\": \"pl\", \"nbVeh\": 0.0}, {\"heure\": 9, \"type_veh\": \"vl\", \"nbVeh\": 533.0}, {\"heure\": 10, \"type_veh\": \"2r\", \"nbVeh\": 8.0}, {\"heure\": 10, \"type_veh\": \"pl\", \"nbVeh\": 1.0}, {\"heure\": 10, \"type_veh\": \"vl\", \"nbVeh\": 817.0}, {\"heure\": 11, \"type_veh\": \"2r\", \"nbVeh\": 10.0}, {\"heure\": 11, \"type_veh\": \"pl\", \"nbVeh\": 2.0}, {\"heure\": 11, \"type_veh\": \"vl\", \"nbVeh\": 950.0}, {\"heure\": 12, \"type_veh\": \"2r\", \"nbVeh\": 10.0}, {\"heure\": 12, \"type_veh\": \"pl\", \"nbVeh\": 1.0}, {\"heure\": 12, \"type_veh\": \"vl\", \"nbVeh\": 809.0}, {\"heure\": 13, \"type_veh\": \"2r\", \"nbVeh\": 14.0}, {\"heure\": 13, \"type_veh\": \"pl\", \"nbVeh\": 2.0}, {\"heure\": 13, \"type_veh\": \"vl\", \"nbVeh\": 618.0}, {\"heure\": 14, \"type_veh\": \"2r\", \"nbVeh\": 22.0}, {\"heure\": 14, \"type_veh\": \"pl\", \"nbVeh\": 0.0}, {\"heure\": 14, \"type_veh\": \"vl\", \"nbVeh\": 684.0}, {\"heure\": 15, \"type_veh\": \"2r\", \"nbVeh\": 13.0}, {\"heure\": 15, \"type_veh\": \"pl\", \"nbVeh\": 0.0}, {\"heure\": 15, \"type_veh\": \"vl\", \"nbVeh\": 859.0}, {\"heure\": 16, \"type_veh\": \"2r\", \"nbVeh\": 22.0}, {\"heure\": 16, \"type_veh\": \"pl\", \"nbVeh\": 1.0}, {\"heure\": 16, \"type_veh\": \"vl\", \"nbVeh\": 851.0}, {\"heure\": 17, \"type_veh\": \"2r\", \"nbVeh\": 19.0}, {\"heure\": 17, \"type_veh\": \"pl\", \"nbVeh\": 0.0}, {\"heure\": 17, \"type_veh\": \"vl\", \"nbVeh\": 837.0}, {\"heure\": 18, \"type_veh\": \"2r\", \"nbVeh\": 7.0}, {\"heure\": 18, \"type_veh\": \"pl\", \"nbVeh\": 2.0}, {\"heure\": 18, \"type_veh\": \"vl\", \"nbVeh\": 744.0}, {\"heure\": 19, \"type_veh\": \"2r\", \"nbVeh\": 14.0}, {\"heure\": 19, \"type_veh\": \"pl\", \"nbVeh\": 2.0}, {\"heure\": 19, \"type_veh\": \"vl\", \"nbVeh\": 583.0}, {\"heure\": 20, \"type_veh\": \"2r\", \"nbVeh\": 2.0}, {\"heure\": 20, \"type_veh\": \"pl\", \"nbVeh\": 0.0}, {\"heure\": 20, \"type_veh\": \"vl\", \"nbVeh\": 307.0}, {\"heure\": 21, \"type_veh\": \"2r\", \"nbVeh\": 0.0}, {\"heure\": 21, \"type_veh\": \"pl\", \"nbVeh\": 0.0}, {\"heure\": 21, \"type_veh\": \"vl\", \"nbVeh\": 199.0}, {\"heure\": 22, \"type_veh\": \"2r\", \"nbVeh\": 0.0}, {\"heure\": 22, \"type_veh\": \"pl\", \"nbVeh\": 0.0}, {\"heure\": 22, \"type_veh\": \"vl\", \"nbVeh\": 133.0}, {\"heure\": 23, \"type_veh\": \"2r\", \"nbVeh\": 3.0}, {\"heure\": 23, \"type_veh\": \"pl\", \"nbVeh\": 0.0}, {\"heure\": 23, \"type_veh\": \"vl\", \"nbVeh\": 124.0}]}}, {\"mode\": \"vega-lite\"});\n",
       "</script>"
      ],
      "text/plain": [
       "alt.Chart(...)"
      ]
     },
     "execution_count": 843,
     "metadata": {},
     "output_type": "execute_result"
    }
   ],
   "source": [
    "dicoHoraire['samedi']['2sens']['graph']"
   ]
  },
  {
   "cell_type": "code",
   "execution_count": 791,
   "metadata": {},
   "outputs": [],
   "source": [
    "nuit.groupby('type_veh').sum().reset_index().to_csv(\n",
    "r'Q:\\DAIT\\TI\\CA_Angouleme\\2020\\C20SA00-09-10-11_Comptage_linearisation_Angouleme\\Doc_travail\\Donnees_produites\\Donnees\\Comptages\\extractionMartin\\P9\\nuit.csv')"
   ]
  },
  {
   "cell_type": "code",
   "execution_count": 802,
   "metadata": {},
   "outputs": [],
   "source": [
    "dicoJournalier['mja']['2sens']['donnees'].sort_values(['sens','type_veh'])[['jour','type_veh','sens','nbVeh']].to_csv(\n",
    "r'Q:\\DAIT\\TI\\CA_Angouleme\\2020\\C20SA00-09-10-11_Comptage_linearisation_Angouleme\\Doc_travail\\Donnees_produites\\Donnees\\Comptages\\extractionMartin\\P9\\TMJA.csv')"
   ]
  },
  {
   "cell_type": "code",
   "execution_count": 805,
   "metadata": {},
   "outputs": [
    {
     "data": {
      "text/plain": [
       "[7, 8, 9]"
      ]
     },
     "execution_count": 805,
     "metadata": {},
     "output_type": "execute_result"
    }
   ],
   "source": [
    "[a for a in range(7,10)]"
   ]
  },
  {
   "cell_type": "code",
   "execution_count": 808,
   "metadata": {},
   "outputs": [
    {
     "data": {
      "text/plain": [
       "sens   type_veh\n",
       "sens1  2r            6.944444\n",
       "       pl            4.277778\n",
       "       tv          387.666667\n",
       "       vl          376.444444\n",
       "sens2  2r            4.111111\n",
       "       pl            5.166667\n",
       "       tv          354.611111\n",
       "       vl          345.333333\n",
       "Name: nbVeh, dtype: float64"
      ]
     },
     "execution_count": 808,
     "metadata": {},
     "output_type": "execute_result"
    }
   ],
   "source": [
    "dfHeureTypeSens.loc[dfHeureTypeSens.heure.isin(range(7,10))].groupby(['sens','type_veh']).nbVeh.sum()/(dicoNbJours['nbJoursOuvres']*3)"
   ]
  },
  {
   "cell_type": "code",
   "execution_count": 809,
   "metadata": {},
   "outputs": [
    {
     "data": {
      "text/html": [
       "<div>\n",
       "<style scoped>\n",
       "    .dataframe tbody tr th:only-of-type {\n",
       "        vertical-align: middle;\n",
       "    }\n",
       "\n",
       "    .dataframe tbody tr th {\n",
       "        vertical-align: top;\n",
       "    }\n",
       "\n",
       "    .dataframe thead th {\n",
       "        text-align: right;\n",
       "    }\n",
       "</style>\n",
       "<table border=\"1\" class=\"dataframe\">\n",
       "  <thead>\n",
       "    <tr style=\"text-align: right;\">\n",
       "      <th></th>\n",
       "      <th>date_heure</th>\n",
       "      <th>sens</th>\n",
       "      <th>nbVeh</th>\n",
       "      <th>heure</th>\n",
       "      <th>jour</th>\n",
       "      <th>jourAnnee</th>\n",
       "      <th>date</th>\n",
       "      <th>type_veh</th>\n",
       "    </tr>\n",
       "  </thead>\n",
       "  <tbody>\n",
       "    <tr>\n",
       "      <th>26</th>\n",
       "      <td>2020-09-29 07:00:00</td>\n",
       "      <td>sens1</td>\n",
       "      <td>6.0</td>\n",
       "      <td>7</td>\n",
       "      <td>1</td>\n",
       "      <td>273</td>\n",
       "      <td>2020-09-29</td>\n",
       "      <td>2r</td>\n",
       "    </tr>\n",
       "    <tr>\n",
       "      <th>27</th>\n",
       "      <td>2020-09-29 07:00:00</td>\n",
       "      <td>sens2</td>\n",
       "      <td>4.0</td>\n",
       "      <td>7</td>\n",
       "      <td>1</td>\n",
       "      <td>273</td>\n",
       "      <td>2020-09-29</td>\n",
       "      <td>2r</td>\n",
       "    </tr>\n",
       "    <tr>\n",
       "      <th>28</th>\n",
       "      <td>2020-09-29 07:00:00</td>\n",
       "      <td>sens1</td>\n",
       "      <td>6.0</td>\n",
       "      <td>7</td>\n",
       "      <td>1</td>\n",
       "      <td>273</td>\n",
       "      <td>2020-09-29</td>\n",
       "      <td>pl</td>\n",
       "    </tr>\n",
       "    <tr>\n",
       "      <th>29</th>\n",
       "      <td>2020-09-29 07:00:00</td>\n",
       "      <td>sens2</td>\n",
       "      <td>5.0</td>\n",
       "      <td>7</td>\n",
       "      <td>1</td>\n",
       "      <td>273</td>\n",
       "      <td>2020-09-29</td>\n",
       "      <td>pl</td>\n",
       "    </tr>\n",
       "    <tr>\n",
       "      <th>14</th>\n",
       "      <td>2020-09-29 07:00:00</td>\n",
       "      <td>sens1</td>\n",
       "      <td>302.0</td>\n",
       "      <td>7</td>\n",
       "      <td>1</td>\n",
       "      <td>273</td>\n",
       "      <td>2020-09-29</td>\n",
       "      <td>tv</td>\n",
       "    </tr>\n",
       "    <tr>\n",
       "      <th>...</th>\n",
       "      <td>...</td>\n",
       "      <td>...</td>\n",
       "      <td>...</td>\n",
       "      <td>...</td>\n",
       "      <td>...</td>\n",
       "      <td>...</td>\n",
       "      <td>...</td>\n",
       "      <td>...</td>\n",
       "    </tr>\n",
       "    <tr>\n",
       "      <th>743</th>\n",
       "      <td>2020-10-06 09:00:00</td>\n",
       "      <td>sens2</td>\n",
       "      <td>9.0</td>\n",
       "      <td>9</td>\n",
       "      <td>1</td>\n",
       "      <td>280</td>\n",
       "      <td>2020-10-06</td>\n",
       "      <td>pl</td>\n",
       "    </tr>\n",
       "    <tr>\n",
       "      <th>354</th>\n",
       "      <td>2020-10-06 09:00:00</td>\n",
       "      <td>sens1</td>\n",
       "      <td>355.0</td>\n",
       "      <td>9</td>\n",
       "      <td>1</td>\n",
       "      <td>280</td>\n",
       "      <td>2020-10-06</td>\n",
       "      <td>tv</td>\n",
       "    </tr>\n",
       "    <tr>\n",
       "      <th>355</th>\n",
       "      <td>2020-10-06 09:00:00</td>\n",
       "      <td>sens2</td>\n",
       "      <td>356.0</td>\n",
       "      <td>9</td>\n",
       "      <td>1</td>\n",
       "      <td>280</td>\n",
       "      <td>2020-10-06</td>\n",
       "      <td>tv</td>\n",
       "    </tr>\n",
       "    <tr>\n",
       "      <th>744</th>\n",
       "      <td>2020-10-06 09:00:00</td>\n",
       "      <td>sens1</td>\n",
       "      <td>339.0</td>\n",
       "      <td>9</td>\n",
       "      <td>1</td>\n",
       "      <td>280</td>\n",
       "      <td>2020-10-06</td>\n",
       "      <td>vl</td>\n",
       "    </tr>\n",
       "    <tr>\n",
       "      <th>745</th>\n",
       "      <td>2020-10-06 09:00:00</td>\n",
       "      <td>sens2</td>\n",
       "      <td>346.0</td>\n",
       "      <td>9</td>\n",
       "      <td>1</td>\n",
       "      <td>280</td>\n",
       "      <td>2020-10-06</td>\n",
       "      <td>vl</td>\n",
       "    </tr>\n",
       "  </tbody>\n",
       "</table>\n",
       "<p>192 rows × 8 columns</p>\n",
       "</div>"
      ],
      "text/plain": [
       "             date_heure   sens  nbVeh  heure  jour  jourAnnee       date  \\\n",
       "26  2020-09-29 07:00:00  sens1    6.0      7     1        273 2020-09-29   \n",
       "27  2020-09-29 07:00:00  sens2    4.0      7     1        273 2020-09-29   \n",
       "28  2020-09-29 07:00:00  sens1    6.0      7     1        273 2020-09-29   \n",
       "29  2020-09-29 07:00:00  sens2    5.0      7     1        273 2020-09-29   \n",
       "14  2020-09-29 07:00:00  sens1  302.0      7     1        273 2020-09-29   \n",
       "..                  ...    ...    ...    ...   ...        ...        ...   \n",
       "743 2020-10-06 09:00:00  sens2    9.0      9     1        280 2020-10-06   \n",
       "354 2020-10-06 09:00:00  sens1  355.0      9     1        280 2020-10-06   \n",
       "355 2020-10-06 09:00:00  sens2  356.0      9     1        280 2020-10-06   \n",
       "744 2020-10-06 09:00:00  sens1  339.0      9     1        280 2020-10-06   \n",
       "745 2020-10-06 09:00:00  sens2  346.0      9     1        280 2020-10-06   \n",
       "\n",
       "    type_veh  \n",
       "26        2r  \n",
       "27        2r  \n",
       "28        pl  \n",
       "29        pl  \n",
       "14        tv  \n",
       "..       ...  \n",
       "743       pl  \n",
       "354       tv  \n",
       "355       tv  \n",
       "744       vl  \n",
       "745       vl  \n",
       "\n",
       "[192 rows x 8 columns]"
      ]
     },
     "execution_count": 809,
     "metadata": {},
     "output_type": "execute_result"
    }
   ],
   "source": [
    "dfHeureTypeSens.loc[dfHeureTypeSens.heure.isin(range(7,10))]"
   ]
  },
  {
   "cell_type": "code",
   "execution_count": 811,
   "metadata": {},
   "outputs": [],
   "source": [
    "dicoNbJours=di.NombreDeJours(dfHeureTypeSens)"
   ]
  },
  {
   "cell_type": "code",
   "execution_count": 812,
   "metadata": {},
   "outputs": [
    {
     "data": {
      "text/plain": [
       "6"
      ]
     },
     "execution_count": 812,
     "metadata": {},
     "output_type": "execute_result"
    }
   ],
   "source": [
    "dicoNbJours['nbJoursOuvres']"
   ]
  },
  {
   "cell_type": "code",
   "execution_count": 820,
   "metadata": {},
   "outputs": [
    {
     "data": {
      "text/plain": [
       "array(['29/09/2020', '30/09/2020', '01/10/2020', '02/10/2020',\n",
       "       '05/10/2020', '06/10/2020'], dtype=object)"
      ]
     },
     "execution_count": 820,
     "metadata": {},
     "output_type": "execute_result"
    }
   ],
   "source": [
    "dfHeureTypeSens.loc[dfHeureTypeSens.date_heure.dt.dayofweek.isin(range(5))].date_heure.dt.strftime('%x').unique()"
   ]
  },
  {
   "cell_type": "code",
   "execution_count": 821,
   "metadata": {},
   "outputs": [
    {
     "data": {
      "text/html": [
       "<div>\n",
       "<style scoped>\n",
       "    .dataframe tbody tr th:only-of-type {\n",
       "        vertical-align: middle;\n",
       "    }\n",
       "\n",
       "    .dataframe tbody tr th {\n",
       "        vertical-align: top;\n",
       "    }\n",
       "\n",
       "    .dataframe thead th {\n",
       "        text-align: right;\n",
       "    }\n",
       "</style>\n",
       "<table border=\"1\" class=\"dataframe\">\n",
       "  <thead>\n",
       "    <tr style=\"text-align: right;\">\n",
       "      <th></th>\n",
       "      <th>date_heure</th>\n",
       "      <th>sens</th>\n",
       "      <th>nbVeh</th>\n",
       "      <th>heure</th>\n",
       "      <th>jour</th>\n",
       "      <th>jourAnnee</th>\n",
       "      <th>date</th>\n",
       "      <th>type_veh</th>\n",
       "    </tr>\n",
       "  </thead>\n",
       "  <tbody>\n",
       "    <tr>\n",
       "      <th>0</th>\n",
       "      <td>2020-09-29 00:00:00</td>\n",
       "      <td>sens1</td>\n",
       "      <td>0.0</td>\n",
       "      <td>0</td>\n",
       "      <td>1</td>\n",
       "      <td>273</td>\n",
       "      <td>2020-09-29</td>\n",
       "      <td>2r</td>\n",
       "    </tr>\n",
       "    <tr>\n",
       "      <th>0</th>\n",
       "      <td>2020-09-29 00:00:00</td>\n",
       "      <td>sens2</td>\n",
       "      <td>1.0</td>\n",
       "      <td>0</td>\n",
       "      <td>1</td>\n",
       "      <td>273</td>\n",
       "      <td>2020-09-29</td>\n",
       "      <td>2r</td>\n",
       "    </tr>\n",
       "    <tr>\n",
       "      <th>1</th>\n",
       "      <td>2020-09-29 00:00:00</td>\n",
       "      <td>sens1</td>\n",
       "      <td>1.0</td>\n",
       "      <td>0</td>\n",
       "      <td>1</td>\n",
       "      <td>273</td>\n",
       "      <td>2020-09-29</td>\n",
       "      <td>pl</td>\n",
       "    </tr>\n",
       "    <tr>\n",
       "      <th>2</th>\n",
       "      <td>2020-09-29 00:00:00</td>\n",
       "      <td>sens2</td>\n",
       "      <td>3.0</td>\n",
       "      <td>0</td>\n",
       "      <td>1</td>\n",
       "      <td>273</td>\n",
       "      <td>2020-09-29</td>\n",
       "      <td>pl</td>\n",
       "    </tr>\n",
       "    <tr>\n",
       "      <th>0</th>\n",
       "      <td>2020-09-29 00:00:00</td>\n",
       "      <td>sens1</td>\n",
       "      <td>9.0</td>\n",
       "      <td>0</td>\n",
       "      <td>1</td>\n",
       "      <td>273</td>\n",
       "      <td>2020-09-29</td>\n",
       "      <td>tv</td>\n",
       "    </tr>\n",
       "    <tr>\n",
       "      <th>...</th>\n",
       "      <td>...</td>\n",
       "      <td>...</td>\n",
       "      <td>...</td>\n",
       "      <td>...</td>\n",
       "      <td>...</td>\n",
       "      <td>...</td>\n",
       "      <td>...</td>\n",
       "      <td>...</td>\n",
       "    </tr>\n",
       "    <tr>\n",
       "      <th>767</th>\n",
       "      <td>2020-10-06 23:00:00</td>\n",
       "      <td>sens2</td>\n",
       "      <td>0.0</td>\n",
       "      <td>23</td>\n",
       "      <td>1</td>\n",
       "      <td>280</td>\n",
       "      <td>2020-10-06</td>\n",
       "      <td>pl</td>\n",
       "    </tr>\n",
       "    <tr>\n",
       "      <th>382</th>\n",
       "      <td>2020-10-06 23:00:00</td>\n",
       "      <td>sens1</td>\n",
       "      <td>21.0</td>\n",
       "      <td>23</td>\n",
       "      <td>1</td>\n",
       "      <td>280</td>\n",
       "      <td>2020-10-06</td>\n",
       "      <td>tv</td>\n",
       "    </tr>\n",
       "    <tr>\n",
       "      <th>383</th>\n",
       "      <td>2020-10-06 23:00:00</td>\n",
       "      <td>sens2</td>\n",
       "      <td>31.0</td>\n",
       "      <td>23</td>\n",
       "      <td>1</td>\n",
       "      <td>280</td>\n",
       "      <td>2020-10-06</td>\n",
       "      <td>tv</td>\n",
       "    </tr>\n",
       "    <tr>\n",
       "      <th>813</th>\n",
       "      <td>2020-10-06 23:00:00</td>\n",
       "      <td>sens1</td>\n",
       "      <td>21.0</td>\n",
       "      <td>23</td>\n",
       "      <td>1</td>\n",
       "      <td>280</td>\n",
       "      <td>2020-10-06</td>\n",
       "      <td>vl</td>\n",
       "    </tr>\n",
       "    <tr>\n",
       "      <th>814</th>\n",
       "      <td>2020-10-06 23:00:00</td>\n",
       "      <td>sens2</td>\n",
       "      <td>31.0</td>\n",
       "      <td>23</td>\n",
       "      <td>1</td>\n",
       "      <td>280</td>\n",
       "      <td>2020-10-06</td>\n",
       "      <td>vl</td>\n",
       "    </tr>\n",
       "  </tbody>\n",
       "</table>\n",
       "<p>1536 rows × 8 columns</p>\n",
       "</div>"
      ],
      "text/plain": [
       "             date_heure   sens  nbVeh  heure  jour  jourAnnee       date  \\\n",
       "0   2020-09-29 00:00:00  sens1    0.0      0     1        273 2020-09-29   \n",
       "0   2020-09-29 00:00:00  sens2    1.0      0     1        273 2020-09-29   \n",
       "1   2020-09-29 00:00:00  sens1    1.0      0     1        273 2020-09-29   \n",
       "2   2020-09-29 00:00:00  sens2    3.0      0     1        273 2020-09-29   \n",
       "0   2020-09-29 00:00:00  sens1    9.0      0     1        273 2020-09-29   \n",
       "..                  ...    ...    ...    ...   ...        ...        ...   \n",
       "767 2020-10-06 23:00:00  sens2    0.0     23     1        280 2020-10-06   \n",
       "382 2020-10-06 23:00:00  sens1   21.0     23     1        280 2020-10-06   \n",
       "383 2020-10-06 23:00:00  sens2   31.0     23     1        280 2020-10-06   \n",
       "813 2020-10-06 23:00:00  sens1   21.0     23     1        280 2020-10-06   \n",
       "814 2020-10-06 23:00:00  sens2   31.0     23     1        280 2020-10-06   \n",
       "\n",
       "    type_veh  \n",
       "0         2r  \n",
       "0         2r  \n",
       "1         pl  \n",
       "2         pl  \n",
       "0         tv  \n",
       "..       ...  \n",
       "767       pl  \n",
       "382       tv  \n",
       "383       tv  \n",
       "813       vl  \n",
       "814       vl  \n",
       "\n",
       "[1536 rows x 8 columns]"
      ]
     },
     "execution_count": 821,
     "metadata": {},
     "output_type": "execute_result"
    }
   ],
   "source": [
    "dfHeureTypeSens"
   ]
  },
  {
   "cell_type": "code",
   "execution_count": 826,
   "metadata": {},
   "outputs": [],
   "source": [
    "test=dicoHoraire['mjo']['2sens']['donnees'].loc[(dicoHoraire['mjo']['2sens']['donnees'].type_veh=='vl') & \n",
    "                                               (dicoHoraire['mjo']['2sens']['donnees'].heure.isin(range(7,10)))]"
   ]
  },
  {
   "cell_type": "code",
   "execution_count": 834,
   "metadata": {},
   "outputs": [
    {
     "data": {
      "text/plain": [
       "641.3333333333334"
      ]
     },
     "execution_count": 834,
     "metadata": {},
     "output_type": "execute_result"
    }
   ],
   "source": [
    "test.nbVeh.sum()/3#.mean()"
   ]
  },
  {
   "cell_type": "code",
   "execution_count": 835,
   "metadata": {},
   "outputs": [],
   "source": [
    "hpm,hps,nuit,jour,dfMoyenneHorairesSpeciales=di.IndicsPeriodes(dfHeureTypeSens)"
   ]
  },
  {
   "cell_type": "code",
   "execution_count": 842,
   "metadata": {},
   "outputs": [],
   "source": [
    "dfMoyenneHorairesSpeciales.groupby(['type_veh','typeHeure']).sum().reset_index().sort_values(['typeHeure','type_veh']).to_csv(\n",
    "r'Q:\\DAIT\\TI\\CA_Angouleme\\2020\\C20SA00-09-10-11_Comptage_linearisation_Angouleme\\Doc_travail\\Donnees_produites\\Donnees\\Comptages\\extractionMartin\\P9\\Periodes_speciales.csv')"
   ]
  },
  {
   "cell_type": "code",
   "execution_count": 853,
   "metadata": {},
   "outputs": [],
   "source": [
    "pd.concat([dicoHoraire['samedi']['2sens']['donnees'].groupby(['type_veh','heure']).nbVeh.sum().reset_index().sort_values(['type_veh','heure']).assign(jour='samedi'),\n",
    "dicoHoraire['dimanche']['2sens']['donnees'].groupby(['type_veh','heure']).nbVeh.sum().reset_index().sort_values(['type_veh','heure']).assign(jour='dimanche')]).to_csv(\n",
    "    r'Q:\\DAIT\\TI\\CA_Angouleme\\2020\\C20SA00-09-10-11_Comptage_linearisation_Angouleme\\Doc_travail\\Donnees_produites\\Donnees\\Comptages\\extractionMartin\\P9\\week-end_horaire.csv')"
   ]
  },
  {
   "cell_type": "code",
   "execution_count": 852,
   "metadata": {},
   "outputs": [
    {
     "data": {
      "text/html": [
       "<div>\n",
       "<style scoped>\n",
       "    .dataframe tbody tr th:only-of-type {\n",
       "        vertical-align: middle;\n",
       "    }\n",
       "\n",
       "    .dataframe tbody tr th {\n",
       "        vertical-align: top;\n",
       "    }\n",
       "\n",
       "    .dataframe thead th {\n",
       "        text-align: right;\n",
       "    }\n",
       "</style>\n",
       "<table border=\"1\" class=\"dataframe\">\n",
       "  <thead>\n",
       "    <tr style=\"text-align: right;\">\n",
       "      <th></th>\n",
       "      <th>type_veh</th>\n",
       "      <th>heure</th>\n",
       "      <th>nbVeh</th>\n",
       "    </tr>\n",
       "  </thead>\n",
       "  <tbody>\n",
       "    <tr>\n",
       "      <th>0</th>\n",
       "      <td>2r</td>\n",
       "      <td>0</td>\n",
       "      <td>2.0</td>\n",
       "    </tr>\n",
       "    <tr>\n",
       "      <th>1</th>\n",
       "      <td>2r</td>\n",
       "      <td>1</td>\n",
       "      <td>1.0</td>\n",
       "    </tr>\n",
       "    <tr>\n",
       "      <th>2</th>\n",
       "      <td>2r</td>\n",
       "      <td>2</td>\n",
       "      <td>0.0</td>\n",
       "    </tr>\n",
       "    <tr>\n",
       "      <th>3</th>\n",
       "      <td>2r</td>\n",
       "      <td>3</td>\n",
       "      <td>1.0</td>\n",
       "    </tr>\n",
       "    <tr>\n",
       "      <th>4</th>\n",
       "      <td>2r</td>\n",
       "      <td>4</td>\n",
       "      <td>0.0</td>\n",
       "    </tr>\n",
       "    <tr>\n",
       "      <th>...</th>\n",
       "      <td>...</td>\n",
       "      <td>...</td>\n",
       "      <td>...</td>\n",
       "    </tr>\n",
       "    <tr>\n",
       "      <th>67</th>\n",
       "      <td>vl</td>\n",
       "      <td>19</td>\n",
       "      <td>583.0</td>\n",
       "    </tr>\n",
       "    <tr>\n",
       "      <th>68</th>\n",
       "      <td>vl</td>\n",
       "      <td>20</td>\n",
       "      <td>307.0</td>\n",
       "    </tr>\n",
       "    <tr>\n",
       "      <th>69</th>\n",
       "      <td>vl</td>\n",
       "      <td>21</td>\n",
       "      <td>199.0</td>\n",
       "    </tr>\n",
       "    <tr>\n",
       "      <th>70</th>\n",
       "      <td>vl</td>\n",
       "      <td>22</td>\n",
       "      <td>133.0</td>\n",
       "    </tr>\n",
       "    <tr>\n",
       "      <th>71</th>\n",
       "      <td>vl</td>\n",
       "      <td>23</td>\n",
       "      <td>124.0</td>\n",
       "    </tr>\n",
       "  </tbody>\n",
       "</table>\n",
       "<p>72 rows × 3 columns</p>\n",
       "</div>"
      ],
      "text/plain": [
       "   type_veh  heure  nbVeh\n",
       "0        2r      0    2.0\n",
       "1        2r      1    1.0\n",
       "2        2r      2    0.0\n",
       "3        2r      3    1.0\n",
       "4        2r      4    0.0\n",
       "..      ...    ...    ...\n",
       "67       vl     19  583.0\n",
       "68       vl     20  307.0\n",
       "69       vl     21  199.0\n",
       "70       vl     22  133.0\n",
       "71       vl     23  124.0\n",
       "\n",
       "[72 rows x 3 columns]"
      ]
     },
     "execution_count": 852,
     "metadata": {},
     "output_type": "execute_result"
    }
   ],
   "source": [
    "dicoHoraire['samedi']['2sens']['donnees'].groupby(['type_veh','heure']).nbVeh.sum().reset_index()"
   ]
  },
  {
   "cell_type": "code",
   "execution_count": 850,
   "metadata": {},
   "outputs": [
    {
     "data": {
      "text/html": [
       "<div>\n",
       "<style scoped>\n",
       "    .dataframe tbody tr th:only-of-type {\n",
       "        vertical-align: middle;\n",
       "    }\n",
       "\n",
       "    .dataframe tbody tr th {\n",
       "        vertical-align: top;\n",
       "    }\n",
       "\n",
       "    .dataframe thead th {\n",
       "        text-align: right;\n",
       "    }\n",
       "</style>\n",
       "<table border=\"1\" class=\"dataframe\">\n",
       "  <thead>\n",
       "    <tr style=\"text-align: right;\">\n",
       "      <th></th>\n",
       "      <th>heure</th>\n",
       "      <th>type_veh</th>\n",
       "      <th>sens</th>\n",
       "      <th>nbVeh</th>\n",
       "    </tr>\n",
       "  </thead>\n",
       "  <tbody>\n",
       "    <tr>\n",
       "      <th>0</th>\n",
       "      <td>0</td>\n",
       "      <td>2r</td>\n",
       "      <td>sens1</td>\n",
       "      <td>2.0</td>\n",
       "    </tr>\n",
       "    <tr>\n",
       "      <th>1</th>\n",
       "      <td>0</td>\n",
       "      <td>2r</td>\n",
       "      <td>sens2</td>\n",
       "      <td>0.0</td>\n",
       "    </tr>\n",
       "    <tr>\n",
       "      <th>2</th>\n",
       "      <td>0</td>\n",
       "      <td>pl</td>\n",
       "      <td>sens1</td>\n",
       "      <td>0.0</td>\n",
       "    </tr>\n",
       "    <tr>\n",
       "      <th>3</th>\n",
       "      <td>0</td>\n",
       "      <td>pl</td>\n",
       "      <td>sens2</td>\n",
       "      <td>1.0</td>\n",
       "    </tr>\n",
       "    <tr>\n",
       "      <th>4</th>\n",
       "      <td>0</td>\n",
       "      <td>vl</td>\n",
       "      <td>sens1</td>\n",
       "      <td>37.0</td>\n",
       "    </tr>\n",
       "    <tr>\n",
       "      <th>...</th>\n",
       "      <td>...</td>\n",
       "      <td>...</td>\n",
       "      <td>...</td>\n",
       "      <td>...</td>\n",
       "    </tr>\n",
       "    <tr>\n",
       "      <th>139</th>\n",
       "      <td>23</td>\n",
       "      <td>2r</td>\n",
       "      <td>sens2</td>\n",
       "      <td>0.0</td>\n",
       "    </tr>\n",
       "    <tr>\n",
       "      <th>140</th>\n",
       "      <td>23</td>\n",
       "      <td>pl</td>\n",
       "      <td>sens1</td>\n",
       "      <td>0.0</td>\n",
       "    </tr>\n",
       "    <tr>\n",
       "      <th>141</th>\n",
       "      <td>23</td>\n",
       "      <td>pl</td>\n",
       "      <td>sens2</td>\n",
       "      <td>0.0</td>\n",
       "    </tr>\n",
       "    <tr>\n",
       "      <th>142</th>\n",
       "      <td>23</td>\n",
       "      <td>vl</td>\n",
       "      <td>sens1</td>\n",
       "      <td>70.0</td>\n",
       "    </tr>\n",
       "    <tr>\n",
       "      <th>143</th>\n",
       "      <td>23</td>\n",
       "      <td>vl</td>\n",
       "      <td>sens2</td>\n",
       "      <td>54.0</td>\n",
       "    </tr>\n",
       "  </tbody>\n",
       "</table>\n",
       "<p>144 rows × 4 columns</p>\n",
       "</div>"
      ],
      "text/plain": [
       "     heure type_veh   sens  nbVeh\n",
       "0        0       2r  sens1    2.0\n",
       "1        0       2r  sens2    0.0\n",
       "2        0       pl  sens1    0.0\n",
       "3        0       pl  sens2    1.0\n",
       "4        0       vl  sens1   37.0\n",
       "..     ...      ...    ...    ...\n",
       "139     23       2r  sens2    0.0\n",
       "140     23       pl  sens1    0.0\n",
       "141     23       pl  sens2    0.0\n",
       "142     23       vl  sens1   70.0\n",
       "143     23       vl  sens2   54.0\n",
       "\n",
       "[144 rows x 4 columns]"
      ]
     },
     "execution_count": 850,
     "metadata": {},
     "output_type": "execute_result"
    }
   ],
   "source": [
    "dicoHoraire['samedi']['2sens']['donnees']"
   ]
  },
  {
   "cell_type": "code",
   "execution_count": null,
   "metadata": {},
   "outputs": [],
   "source": []
  }
 ],
 "metadata": {
  "kernelspec": {
   "display_name": "Python 3",
   "language": "python",
   "name": "python3"
  },
  "language_info": {
   "codemirror_mode": {
    "name": "ipython",
    "version": 3
   },
   "file_extension": ".py",
   "mimetype": "text/x-python",
   "name": "python",
   "nbconvert_exporter": "python",
   "pygments_lexer": "ipython3",
   "version": "3.8.6"
  }
 },
 "nbformat": 4,
 "nbformat_minor": 4
}
