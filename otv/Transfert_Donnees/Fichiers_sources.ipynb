{
 "cells": [
  {
   "cell_type": "markdown",
   "metadata": {},
   "source": [
    "# ***EXEMPLE DE TRAITEMENTS DES FICHIERS SOURCES***\n",
    "> exemples pour les FIM, donnees individuelles mixtra, données individuelles viking, ..."
   ]
  },
  {
   "cell_type": "code",
   "execution_count": 120,
   "metadata": {},
   "outputs": [
    {
     "name": "stdout",
     "output_type": "stream",
     "text": [
      "The autoreload extension is already loaded. To reload it, use:\n",
      "  %reload_ext autoreload\n"
     ]
    }
   ],
   "source": [
    "%load_ext autoreload\n",
    "%autoreload 2\n",
    "import sys\n",
    "sys.path.append(r'C:\\Users\\martin.schoreisz\\git\\otv\\otv\\Transfert_Donnees')\n",
    "sys.path.append(r'C:\\Users\\martin.schoreisz\\git\\Outils\\Outils\\Martin_Perso')\n",
    "import pandas as pd\n",
    "import geopandas as gp\n",
    "import numpy as np\n",
    "import altair as alt\n",
    "from datetime import datetime\n",
    "import locale\n",
    "\n",
    "import Donnees_individuelles as di"
   ]
  },
  {
   "cell_type": "code",
   "execution_count": 3,
   "metadata": {},
   "outputs": [
    {
     "data": {
      "text/plain": [
       "'fr_FR'"
      ]
     },
     "execution_count": 3,
     "metadata": {},
     "output_type": "execute_result"
    }
   ],
   "source": [
    "locale.setlocale(locale.LC_TIME, 'fr_FR')"
   ]
  },
  {
   "cell_type": "markdown",
   "metadata": {},
   "source": [
    "# 1. Données individuelles mixtra\n",
    "ces données sont des fichiers excels, sans aucune référence interne au compteur. A chaque véhicule correspond une ligne avec les atributs descroiptifs"
   ]
  },
  {
   "cell_type": "code",
   "execution_count": 443,
   "metadata": {},
   "outputs": [],
   "source": [
    "mixtra=di.Mixtra([r'P:\\DAIT\\TI\\Donnees\\1-ROUTIER\\1 - Aquitaine\\64 - Pyrénées-Atlantiques\\2020\\Biriatou\\7_Juillet\\Tubes\\Individuelle\\P4_TUBES_23_07_20\\V0_02_B.XLS'],\n",
    "                 [r'P:\\DAIT\\TI\\Donnees\\1-ROUTIER\\1 - Aquitaine\\64 - Pyrénées-Atlantiques\\2020\\Biriatou\\7_Juillet\\Tubes\\Individuelle\\P4_TUBES_23_07_20\\V1_02_B.XLS'])"
   ]
  },
  {
   "cell_type": "code",
   "execution_count": null,
   "metadata": {},
   "outputs": [],
   "source": [
    "#calculer la df qui va contenir toute les données horaires\n",
    "dfValide=di.NettoyageTemps(mixtra.NettoyageDonnees())\n",
    "dfHeureTypeSens=di.GroupeCompletude(dfValide)"
   ]
  },
  {
   "cell_type": "code",
   "execution_count": 548,
   "metadata": {},
   "outputs": [],
   "source": [
    "#creer le dico qui va contenir tout les résultats et données intermeédiaires \n",
    "dicoHoraire,dicoJournalier=di.IndicsGraphs(dfHeureTypeSens,['vl','pl','2r'],['mja','mjo', 'samedi', 'dimanche'],['sens1','sens2','2sens'])"
   ]
  },
  {
   "cell_type": "code",
   "execution_count": 521,
   "metadata": {},
   "outputs": [],
   "source": [
    "#exemple d'appel de résultats\n",
    "dicoHoraire['mjo']['nbJour']\n",
    "dicoHoraire['mja']['nbJour']\n",
    "dicoHoraire['mjo']['2sens']['graph']\n",
    "dicoHoraire['samedi']['sens1']['donnees']\n",
    "dicoJournalier['mja']['type_veh']['graph']\n",
    "dicoJournalier['mjo']['sens']['graph']"
   ]
  },
  {
   "cell_type": "markdown",
   "metadata": {},
   "source": [
    "# 2. Données individuelles viking\n",
    "ces données sont des fichiers excels, sans aucune référence interne au compteur. A chaque véhicule correspond une ligne avec les atributs descroiptifs"
   ]
  },
  {
   "cell_type": "code",
   "execution_count": 569,
   "metadata": {},
   "outputs": [],
   "source": [
    "vik=di.Viking(r'Q:\\DAIT\\TI\\CA_Angouleme\\2020\\C20SA00-09-10-11_Comptage_linearisation_Angouleme\\Doc_travail\\Donnees_produites\\Donnees\\Comptages\\DonneesBrutes\\P9\\P9_sens1.VIK',\n",
    "             r'Q:\\DAIT\\TI\\CA_Angouleme\\2020\\C20SA00-09-10-11_Comptage_linearisation_Angouleme\\Doc_travail\\Donnees_produites\\Donnees\\Comptages\\DonneesBrutes\\P9\\P9_sens2.VIK')"
   ]
  },
  {
   "cell_type": "code",
   "execution_count": 570,
   "metadata": {},
   "outputs": [],
   "source": [
    "dfValide=di.NettoyageTemps(vik.fichier2sens)\n",
    "dfHeureTypeSens=di.GroupeCompletude(dfValide)"
   ]
  },
  {
   "cell_type": "code",
   "execution_count": 773,
   "metadata": {},
   "outputs": [],
   "source": [
    "#creer le dico qui va contenir tout les résultats et données intermeédiaires \n",
    "dicoHoraire,dicoJournalier=di.IndicsGraphs(dfHeureTypeSens,['vl','pl','2r'],['mja','mjo', 'samedi', 'dimanche'],['sens1','sens2','2sens'])\n",
    "#récupérer les HPM,HPS,données horaires jour et nuit\n",
    "hpm,hps,nuit,jour=di.IndicsPeriodes(dfHeureTypeSens)\n",
    "#recuperer les jours les plus charges\n",
    "joursCharges=di.JoursCharges(dfHeureTypeSens)"
   ]
  },
  {
   "cell_type": "code",
   "execution_count": 699,
   "metadata": {},
   "outputs": [
    {
     "data": {
      "text/html": [
       "\n",
       "<div id=\"altair-viz-3cdb498b35c34f68b640f5463d2db260\"></div>\n",
       "<script type=\"text/javascript\">\n",
       "  (function(spec, embedOpt){\n",
       "    let outputDiv = document.currentScript.previousElementSibling;\n",
       "    if (outputDiv.id !== \"altair-viz-3cdb498b35c34f68b640f5463d2db260\") {\n",
       "      outputDiv = document.getElementById(\"altair-viz-3cdb498b35c34f68b640f5463d2db260\");\n",
       "    }\n",
       "    const paths = {\n",
       "      \"vega\": \"https://cdn.jsdelivr.net/npm//vega@5?noext\",\n",
       "      \"vega-lib\": \"https://cdn.jsdelivr.net/npm//vega-lib?noext\",\n",
       "      \"vega-lite\": \"https://cdn.jsdelivr.net/npm//vega-lite@4.8.1?noext\",\n",
       "      \"vega-embed\": \"https://cdn.jsdelivr.net/npm//vega-embed@6?noext\",\n",
       "    };\n",
       "\n",
       "    function loadScript(lib) {\n",
       "      return new Promise(function(resolve, reject) {\n",
       "        var s = document.createElement('script');\n",
       "        s.src = paths[lib];\n",
       "        s.async = true;\n",
       "        s.onload = () => resolve(paths[lib]);\n",
       "        s.onerror = () => reject(`Error loading script: ${paths[lib]}`);\n",
       "        document.getElementsByTagName(\"head\")[0].appendChild(s);\n",
       "      });\n",
       "    }\n",
       "\n",
       "    function showError(err) {\n",
       "      outputDiv.innerHTML = `<div class=\"error\" style=\"color:red;\">${err}</div>`;\n",
       "      throw err;\n",
       "    }\n",
       "\n",
       "    function displayChart(vegaEmbed) {\n",
       "      vegaEmbed(outputDiv, spec, embedOpt)\n",
       "        .catch(err => showError(`Javascript Error: ${err.message}<br>This usually means there's a typo in your chart specification. See the javascript console for the full traceback.`));\n",
       "    }\n",
       "\n",
       "    if(typeof define === \"function\" && define.amd) {\n",
       "      requirejs.config({paths});\n",
       "      require([\"vega-embed\"], displayChart, err => showError(`Error loading script: ${err.message}`));\n",
       "    } else if (typeof vegaEmbed === \"function\") {\n",
       "      displayChart(vegaEmbed);\n",
       "    } else {\n",
       "      loadScript(\"vega\")\n",
       "        .then(() => loadScript(\"vega-lite\"))\n",
       "        .then(() => loadScript(\"vega-embed\"))\n",
       "        .catch(showError)\n",
       "        .then(() => displayChart(vegaEmbed));\n",
       "    }\n",
       "  })({\"config\": {\"view\": {\"continuousWidth\": 400, \"continuousHeight\": 300, \"stroke\": \"transparent\"}}, \"data\": {\"name\": \"data-ab9f3ef52383f3c0ee6892b619454235\"}, \"mark\": \"bar\", \"encoding\": {\"color\": {\"type\": \"nominal\", \"field\": \"type_veh\"}, \"column\": {\"type\": \"ordinal\", \"field\": \"jour\", \"sort\": [\"lundi\", \"mardi\", \"mercredi\", \"jeudi\", \"vendredi\", \"samedi\", \"dimanche\"]}, \"x\": {\"type\": \"nominal\", \"axis\": {\"title\": \"\"}, \"field\": \"type_veh\", \"sort\": [\"tv\", \"vl\", \"pl\", \"2r\"]}, \"y\": {\"type\": \"quantitative\", \"axis\": {\"grid\": false, \"title\": \"Nombre de v\\u00e9hicules\"}, \"field\": \"nbVeh\"}}, \"$schema\": \"https://vega.github.io/schema/vega-lite/v4.8.1.json\", \"datasets\": {\"data-ab9f3ef52383f3c0ee6892b619454235\": [{\"jour\": \"lundi\", \"type_veh\": \"2r\", \"sens\": \"sens1\", \"nbVeh\": 97.0, \"nbOcc\": 1}, {\"jour\": \"lundi\", \"type_veh\": \"2r\", \"sens\": \"sens2\", \"nbVeh\": 33.0, \"nbOcc\": 1}, {\"jour\": \"lundi\", \"type_veh\": \"pl\", \"sens\": \"sens1\", \"nbVeh\": 22.0, \"nbOcc\": 1}, {\"jour\": \"lundi\", \"type_veh\": \"pl\", \"sens\": \"sens2\", \"nbVeh\": 43.0, \"nbOcc\": 1}, {\"jour\": \"lundi\", \"type_veh\": \"vl\", \"sens\": \"sens1\", \"nbVeh\": 5391.0, \"nbOcc\": 1}, {\"jour\": \"lundi\", \"type_veh\": \"vl\", \"sens\": \"sens2\", \"nbVeh\": 5253.0, \"nbOcc\": 1}, {\"jour\": \"mardi\", \"type_veh\": \"vl\", \"sens\": \"sens2\", \"nbVeh\": 5490.0, \"nbOcc\": 2}, {\"jour\": \"mardi\", \"type_veh\": \"vl\", \"sens\": \"sens1\", \"nbVeh\": 5540.5, \"nbOcc\": 2}, {\"jour\": \"mardi\", \"type_veh\": \"2r\", \"sens\": \"sens2\", \"nbVeh\": 48.0, \"nbOcc\": 2}, {\"jour\": \"mardi\", \"type_veh\": \"pl\", \"sens\": \"sens1\", \"nbVeh\": 38.5, \"nbOcc\": 2}, {\"jour\": \"mardi\", \"type_veh\": \"2r\", \"sens\": \"sens1\", \"nbVeh\": 132.0, \"nbOcc\": 2}, {\"jour\": \"mardi\", \"type_veh\": \"pl\", \"sens\": \"sens2\", \"nbVeh\": 65.0, \"nbOcc\": 2}, {\"jour\": \"mercredi\", \"type_veh\": \"vl\", \"sens\": \"sens2\", \"nbVeh\": 5387.0, \"nbOcc\": 1}, {\"jour\": \"mercredi\", \"type_veh\": \"vl\", \"sens\": \"sens1\", \"nbVeh\": 5338.0, \"nbOcc\": 1}, {\"jour\": \"mercredi\", \"type_veh\": \"pl\", \"sens\": \"sens2\", \"nbVeh\": 75.0, \"nbOcc\": 1}, {\"jour\": \"mercredi\", \"type_veh\": \"pl\", \"sens\": \"sens1\", \"nbVeh\": 31.0, \"nbOcc\": 1}, {\"jour\": \"mercredi\", \"type_veh\": \"2r\", \"sens\": \"sens2\", \"nbVeh\": 66.0, \"nbOcc\": 1}, {\"jour\": \"mercredi\", \"type_veh\": \"2r\", \"sens\": \"sens1\", \"nbVeh\": 122.0, \"nbOcc\": 1}, {\"jour\": \"jeudi\", \"type_veh\": \"vl\", \"sens\": \"sens2\", \"nbVeh\": 5501.0, \"nbOcc\": 1}, {\"jour\": \"jeudi\", \"type_veh\": \"vl\", \"sens\": \"sens1\", \"nbVeh\": 5775.0, \"nbOcc\": 1}, {\"jour\": \"jeudi\", \"type_veh\": \"pl\", \"sens\": \"sens1\", \"nbVeh\": 31.0, \"nbOcc\": 1}, {\"jour\": \"jeudi\", \"type_veh\": \"2r\", \"sens\": \"sens2\", \"nbVeh\": 37.0, \"nbOcc\": 1}, {\"jour\": \"jeudi\", \"type_veh\": \"2r\", \"sens\": \"sens1\", \"nbVeh\": 102.0, \"nbOcc\": 1}, {\"jour\": \"jeudi\", \"type_veh\": \"pl\", \"sens\": \"sens2\", \"nbVeh\": 65.0, \"nbOcc\": 1}, {\"jour\": \"vendredi\", \"type_veh\": \"vl\", \"sens\": \"sens1\", \"nbVeh\": 5883.0, \"nbOcc\": 1}, {\"jour\": \"vendredi\", \"type_veh\": \"2r\", \"sens\": \"sens1\", \"nbVeh\": 95.0, \"nbOcc\": 1}, {\"jour\": \"vendredi\", \"type_veh\": \"2r\", \"sens\": \"sens2\", \"nbVeh\": 36.0, \"nbOcc\": 1}, {\"jour\": \"vendredi\", \"type_veh\": \"pl\", \"sens\": \"sens1\", \"nbVeh\": 18.0, \"nbOcc\": 1}, {\"jour\": \"vendredi\", \"type_veh\": \"pl\", \"sens\": \"sens2\", \"nbVeh\": 45.0, \"nbOcc\": 1}, {\"jour\": \"vendredi\", \"type_veh\": \"vl\", \"sens\": \"sens2\", \"nbVeh\": 5875.0, \"nbOcc\": 1}]}}, {\"mode\": \"vega-lite\"});\n",
       "</script>"
      ],
      "text/plain": [
       "alt.Chart(...)"
      ]
     },
     "execution_count": 699,
     "metadata": {},
     "output_type": "execute_result"
    }
   ],
   "source": [
    "#exemple d'appel de résultats du dico\n",
    "dicoHoraire['mjo']['nbJour']\n",
    "dicoHoraire['mja']['nbJour']\n",
    "dicoHoraire['mjo']['2sens']['graph']\n",
    "dicoHoraire['samedi']['sens1']['donnees']\n",
    "dicoJournalier['mja']['sens2']['graph']\n",
    "dicoJournalier['mjo']['2sens']['graph']"
   ]
  },
  {
   "cell_type": "code",
   "execution_count": 759,
   "metadata": {},
   "outputs": [],
   "source": [
    "joursCharges.to_csv(r'Q:\\DAIT\\TI\\CA_Angouleme\\2020\\C20SA00-09-10-11_Comptage_linearisation_Angouleme\\Doc_travail\\Donnees_produites\\Donnees\\Comptages\\extractionMartin\\P9\\jours_charges.csv')"
   ]
  },
  {
   "cell_type": "code",
   "execution_count": 762,
   "metadata": {},
   "outputs": [],
   "source": [
    "dicoHoraire['mja'] ['2sens']['donnees'].to_csv(\n",
    "r'Q:\\DAIT\\TI\\CA_Angouleme\\2020\\C20SA00-09-10-11_Comptage_linearisation_Angouleme\\Doc_travail\\Donnees_produites\\Donnees\\Comptages\\extractionMartin\\P9\\mja_horaire.csv')"
   ]
  },
  {
   "cell_type": "code",
   "execution_count": 763,
   "metadata": {},
   "outputs": [],
   "source": [
    "dicoHoraire['mjo'] ['2sens']['donnees'].to_csv(\n",
    "r'Q:\\DAIT\\TI\\CA_Angouleme\\2020\\C20SA00-09-10-11_Comptage_linearisation_Angouleme\\Doc_travail\\Donnees_produites\\Donnees\\Comptages\\extractionMartin\\P9\\mjo_horaire.csv')"
   ]
  },
  {
   "cell_type": "code",
   "execution_count": 775,
   "metadata": {},
   "outputs": [
    {
     "data": {
      "text/html": [
       "\n",
       "<div id=\"altair-viz-315fafee6797416d9ffe701c2af30a3f\"></div>\n",
       "<script type=\"text/javascript\">\n",
       "  (function(spec, embedOpt){\n",
       "    let outputDiv = document.currentScript.previousElementSibling;\n",
       "    if (outputDiv.id !== \"altair-viz-315fafee6797416d9ffe701c2af30a3f\") {\n",
       "      outputDiv = document.getElementById(\"altair-viz-315fafee6797416d9ffe701c2af30a3f\");\n",
       "    }\n",
       "    const paths = {\n",
       "      \"vega\": \"https://cdn.jsdelivr.net/npm//vega@5?noext\",\n",
       "      \"vega-lib\": \"https://cdn.jsdelivr.net/npm//vega-lib?noext\",\n",
       "      \"vega-lite\": \"https://cdn.jsdelivr.net/npm//vega-lite@4.8.1?noext\",\n",
       "      \"vega-embed\": \"https://cdn.jsdelivr.net/npm//vega-embed@6?noext\",\n",
       "    };\n",
       "\n",
       "    function loadScript(lib) {\n",
       "      return new Promise(function(resolve, reject) {\n",
       "        var s = document.createElement('script');\n",
       "        s.src = paths[lib];\n",
       "        s.async = true;\n",
       "        s.onload = () => resolve(paths[lib]);\n",
       "        s.onerror = () => reject(`Error loading script: ${paths[lib]}`);\n",
       "        document.getElementsByTagName(\"head\")[0].appendChild(s);\n",
       "      });\n",
       "    }\n",
       "\n",
       "    function showError(err) {\n",
       "      outputDiv.innerHTML = `<div class=\"error\" style=\"color:red;\">${err}</div>`;\n",
       "      throw err;\n",
       "    }\n",
       "\n",
       "    function displayChart(vegaEmbed) {\n",
       "      vegaEmbed(outputDiv, spec, embedOpt)\n",
       "        .catch(err => showError(`Javascript Error: ${err.message}<br>This usually means there's a typo in your chart specification. See the javascript console for the full traceback.`));\n",
       "    }\n",
       "\n",
       "    if(typeof define === \"function\" && define.amd) {\n",
       "      requirejs.config({paths});\n",
       "      require([\"vega-embed\"], displayChart, err => showError(`Error loading script: ${err.message}`));\n",
       "    } else if (typeof vegaEmbed === \"function\") {\n",
       "      displayChart(vegaEmbed);\n",
       "    } else {\n",
       "      loadScript(\"vega\")\n",
       "        .then(() => loadScript(\"vega-lite\"))\n",
       "        .then(() => loadScript(\"vega-embed\"))\n",
       "        .catch(showError)\n",
       "        .then(() => displayChart(vegaEmbed));\n",
       "    }\n",
       "  })({\"config\": {\"view\": {\"continuousWidth\": 400, \"continuousHeight\": 300}}, \"data\": {\"name\": \"data-d6b3875a70fad24266cd2203c851e812\"}, \"mark\": \"line\", \"encoding\": {\"color\": {\"type\": \"nominal\", \"field\": \"type_veh\"}, \"x\": {\"type\": \"ordinal\", \"field\": \"heure\"}, \"y\": {\"type\": \"quantitative\", \"field\": \"nbVeh\"}}, \"$schema\": \"https://vega.github.io/schema/vega-lite/v4.8.1.json\", \"datasets\": {\"data-d6b3875a70fad24266cd2203c851e812\": [{\"heure\": 0, \"type_veh\": \"2r\", \"nbVeh\": 0.0}, {\"heure\": 0, \"type_veh\": \"pl\", \"nbVeh\": 1.0}, {\"heure\": 0, \"type_veh\": \"vl\", \"nbVeh\": 38.0}, {\"heure\": 1, \"type_veh\": \"2r\", \"nbVeh\": 1.0}, {\"heure\": 1, \"type_veh\": \"pl\", \"nbVeh\": 0.0}, {\"heure\": 1, \"type_veh\": \"vl\", \"nbVeh\": 26.0}, {\"heure\": 2, \"type_veh\": \"2r\", \"nbVeh\": 0.0}, {\"heure\": 2, \"type_veh\": \"pl\", \"nbVeh\": 0.0}, {\"heure\": 2, \"type_veh\": \"vl\", \"nbVeh\": 19.0}, {\"heure\": 3, \"type_veh\": \"2r\", \"nbVeh\": 0.0}, {\"heure\": 3, \"type_veh\": \"pl\", \"nbVeh\": 0.0}, {\"heure\": 3, \"type_veh\": \"vl\", \"nbVeh\": 20.0}, {\"heure\": 4, \"type_veh\": \"2r\", \"nbVeh\": 0.0}, {\"heure\": 4, \"type_veh\": \"pl\", \"nbVeh\": 0.0}, {\"heure\": 4, \"type_veh\": \"vl\", \"nbVeh\": 31.0}, {\"heure\": 5, \"type_veh\": \"2r\", \"nbVeh\": 0.0}, {\"heure\": 5, \"type_veh\": \"pl\", \"nbVeh\": 0.0}, {\"heure\": 5, \"type_veh\": \"vl\", \"nbVeh\": 38.0}, {\"heure\": 6, \"type_veh\": \"2r\", \"nbVeh\": 2.0}, {\"heure\": 6, \"type_veh\": \"pl\", \"nbVeh\": 2.0}, {\"heure\": 6, \"type_veh\": \"vl\", \"nbVeh\": 106.0}, {\"heure\": 7, \"type_veh\": \"2r\", \"nbVeh\": 6.0}, {\"heure\": 7, \"type_veh\": \"pl\", \"nbVeh\": 7.0}, {\"heure\": 7, \"type_veh\": \"vl\", \"nbVeh\": 398.0}, {\"heure\": 8, \"type_veh\": \"2r\", \"nbVeh\": 10.0}, {\"heure\": 8, \"type_veh\": \"pl\", \"nbVeh\": 6.0}, {\"heure\": 8, \"type_veh\": \"vl\", \"nbVeh\": 621.0}, {\"heure\": 9, \"type_veh\": \"2r\", \"nbVeh\": 10.0}, {\"heure\": 9, \"type_veh\": \"pl\", \"nbVeh\": 8.0}, {\"heure\": 9, \"type_veh\": \"vl\", \"nbVeh\": 605.0}, {\"heure\": 10, \"type_veh\": \"2r\", \"nbVeh\": 13.0}, {\"heure\": 10, \"type_veh\": \"pl\", \"nbVeh\": 6.0}, {\"heure\": 10, \"type_veh\": \"vl\", \"nbVeh\": 731.0}, {\"heure\": 11, \"type_veh\": \"2r\", \"nbVeh\": 13.0}, {\"heure\": 11, \"type_veh\": \"pl\", \"nbVeh\": 6.0}, {\"heure\": 11, \"type_veh\": \"vl\", \"nbVeh\": 777.0}, {\"heure\": 12, \"type_veh\": \"2r\", \"nbVeh\": 9.0}, {\"heure\": 12, \"type_veh\": \"pl\", \"nbVeh\": 4.0}, {\"heure\": 12, \"type_veh\": \"vl\", \"nbVeh\": 753.0}, {\"heure\": 13, \"type_veh\": \"2r\", \"nbVeh\": 9.0}, {\"heure\": 13, \"type_veh\": \"pl\", \"nbVeh\": 6.0}, {\"heure\": 13, \"type_veh\": \"vl\", \"nbVeh\": 616.0}, {\"heure\": 14, \"type_veh\": \"2r\", \"nbVeh\": 9.0}, {\"heure\": 14, \"type_veh\": \"pl\", \"nbVeh\": 4.0}, {\"heure\": 14, \"type_veh\": \"vl\", \"nbVeh\": 701.0}, {\"heure\": 15, \"type_veh\": \"2r\", \"nbVeh\": 10.0}, {\"heure\": 15, \"type_veh\": \"pl\", \"nbVeh\": 3.0}, {\"heure\": 15, \"type_veh\": \"vl\", \"nbVeh\": 796.0}, {\"heure\": 16, \"type_veh\": \"2r\", \"nbVeh\": 12.0}, {\"heure\": 16, \"type_veh\": \"pl\", \"nbVeh\": 5.0}, {\"heure\": 16, \"type_veh\": \"vl\", \"nbVeh\": 860.0}, {\"heure\": 17, \"type_veh\": \"2r\", \"nbVeh\": 16.0}, {\"heure\": 17, \"type_veh\": \"pl\", \"nbVeh\": 2.0}, {\"heure\": 17, \"type_veh\": \"vl\", \"nbVeh\": 946.0}, {\"heure\": 18, \"type_veh\": \"2r\", \"nbVeh\": 11.0}, {\"heure\": 18, \"type_veh\": \"pl\", \"nbVeh\": 4.0}, {\"heure\": 18, \"type_veh\": \"vl\", \"nbVeh\": 854.0}, {\"heure\": 19, \"type_veh\": \"2r\", \"nbVeh\": 7.0}, {\"heure\": 19, \"type_veh\": \"pl\", \"nbVeh\": 2.0}, {\"heure\": 19, \"type_veh\": \"vl\", \"nbVeh\": 603.0}, {\"heure\": 20, \"type_veh\": \"2r\", \"nbVeh\": 3.0}, {\"heure\": 20, \"type_veh\": \"pl\", \"nbVeh\": 1.0}, {\"heure\": 20, \"type_veh\": \"vl\", \"nbVeh\": 318.0}, {\"heure\": 21, \"type_veh\": \"2r\", \"nbVeh\": 1.0}, {\"heure\": 21, \"type_veh\": \"pl\", \"nbVeh\": 0.0}, {\"heure\": 21, \"type_veh\": \"vl\", \"nbVeh\": 178.0}, {\"heure\": 22, \"type_veh\": \"2r\", \"nbVeh\": 1.0}, {\"heure\": 22, \"type_veh\": \"pl\", \"nbVeh\": 0.0}, {\"heure\": 22, \"type_veh\": \"vl\", \"nbVeh\": 106.0}, {\"heure\": 23, \"type_veh\": \"2r\", \"nbVeh\": 0.0}, {\"heure\": 23, \"type_veh\": \"pl\", \"nbVeh\": 0.0}, {\"heure\": 23, \"type_veh\": \"vl\", \"nbVeh\": 68.0}]}}, {\"mode\": \"vega-lite\"});\n",
       "</script>"
      ],
      "text/plain": [
       "alt.Chart(...)"
      ]
     },
     "execution_count": 775,
     "metadata": {},
     "output_type": "execute_result"
    }
   ],
   "source": [
    "dicoHoraire['mja'] ['2sens']['graph']"
   ]
  },
  {
   "cell_type": "code",
   "execution_count": 791,
   "metadata": {},
   "outputs": [],
   "source": [
    "nuit.groupby('type_veh').sum().reset_index().to_csv(\n",
    "r'Q:\\DAIT\\TI\\CA_Angouleme\\2020\\C20SA00-09-10-11_Comptage_linearisation_Angouleme\\Doc_travail\\Donnees_produites\\Donnees\\Comptages\\extractionMartin\\P9\\nuit.csv')"
   ]
  }
 ],
 "metadata": {
  "kernelspec": {
   "display_name": "Python 3",
   "language": "python",
   "name": "python3"
  },
  "language_info": {
   "codemirror_mode": {
    "name": "ipython",
    "version": 3
   },
   "file_extension": ".py",
   "mimetype": "text/x-python",
   "name": "python",
   "nbconvert_exporter": "python",
   "pygments_lexer": "ipython3",
   "version": "3.8.6"
  }
 },
 "nbformat": 4,
 "nbformat_minor": 4
}
