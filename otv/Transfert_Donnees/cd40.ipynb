{
 "cells": [
  {
   "cell_type": "code",
   "execution_count": 5,
   "metadata": {},
   "outputs": [
    {
     "name": "stdout",
     "output_type": "stream",
     "text": [
      "The autoreload extension is already loaded. To reload it, use:\n",
      "  %reload_ext autoreload\n"
     ]
    }
   ],
   "source": [
    "%load_ext autoreload\n",
    "%autoreload 2\n",
    "import pandas as pd\n",
    "import sys, os\n",
    "sys.path.append(r'C:\\Users\\Martin\\git\\Outils\\Outils\\Martin_Perso')\n",
    "import Connexion_Transfert as ct"
   ]
  },
  {
   "cell_type": "code",
   "execution_count": 306,
   "metadata": {},
   "outputs": [],
   "source": [
    "df=pd.read_excel(r\"Q:\\DAIT\\TI\\DREAL33\\2019\\C19SA0035_OTR-NA\\Doc_travail\\Donnees_source\\CD40\\Trafics 2018 Landes\\comptage_B152\\ST_AVIT\\040.2020.00\\B152\\2018 TV.xls\",\n",
    "             headers=None, skiprows=1)"
   ]
  },
  {
   "cell_type": "code",
   "execution_count": 307,
   "metadata": {},
   "outputs": [],
   "source": [
    "df2=df.dropna(how='all').dropna(axis=1,how='all')\n",
    "section='040.'+df2.loc[0,'Unnamed: 125'].split(' ')[1]\n",
    "vma=int(df2.loc[4,'Unnamed: 0'].split(' : ')[1][:2])\n",
    "id_comptag='40-'+'D'+str(int(df2.loc[4,'Unnamed: 141'][4:]))+'-'+df2.loc[4,'Unnamed: 125'][3:].replace(' ','+')\n",
    "tmja=df2.loc[18,'Unnamed: 107']\n",
    "pc_pl=df2.loc[19,'Unnamed: 107']"
   ]
  },
  {
   "cell_type": "code",
   "execution_count": 311,
   "metadata": {},
   "outputs": [],
   "source": [
    "donnees=df2.loc[[7,18,19],['Unnamed: 13', 'Unnamed: 23', 'Unnamed: 30',\n",
    "                   'Unnamed: 37', 'Unnamed: 44', 'Unnamed: 51', 'Unnamed: 58',\n",
    "                   'Unnamed: 65', 'Unnamed: 72', 'Unnamed: 79', 'Unnamed: 86',\n",
    "                   'Unnamed: 93', 'Unnamed: 100', 'Unnamed: 107']].dropna(axis=1,how='all')\n",
    "    #renommer les colonnes\n",
    "donnees.columns=[element.replace('é','e').replace('.','').lower() for element in list(donnees.loc[7])]\n",
    "    #remplacer l'annee en string et ne conserver \n",
    "donnees=donnees.drop(7).replace(['D.Moy.Jour', '% PL'],['tmja','pc_pl'])\n",
    "    #inserer les valeusr qui vont bien\n",
    "donnees['annee']='2018'\n",
    "donnees['id_comptag']=id_comptag"
   ]
  },
  {
   "cell_type": "code",
   "execution_count": 312,
   "metadata": {},
   "outputs": [
    {
     "data": {
      "text/html": [
       "<div>\n",
       "<style scoped>\n",
       "    .dataframe tbody tr th:only-of-type {\n",
       "        vertical-align: middle;\n",
       "    }\n",
       "\n",
       "    .dataframe tbody tr th {\n",
       "        vertical-align: top;\n",
       "    }\n",
       "\n",
       "    .dataframe thead th {\n",
       "        text-align: right;\n",
       "    }\n",
       "</style>\n",
       "<table border=\"1\" class=\"dataframe\">\n",
       "  <thead>\n",
       "    <tr style=\"text-align: right;\">\n",
       "      <th></th>\n",
       "      <th>libelle</th>\n",
       "      <th>janv</th>\n",
       "      <th>fevr</th>\n",
       "      <th>mars</th>\n",
       "      <th>avr</th>\n",
       "      <th>mai</th>\n",
       "      <th>juin</th>\n",
       "      <th>juil</th>\n",
       "      <th>aout</th>\n",
       "      <th>sept</th>\n",
       "      <th>oct</th>\n",
       "      <th>nov</th>\n",
       "      <th>dec</th>\n",
       "      <th>annee</th>\n",
       "      <th>id_comptag</th>\n",
       "    </tr>\n",
       "  </thead>\n",
       "  <tbody>\n",
       "    <tr>\n",
       "      <th>18</th>\n",
       "      <td>tmja</td>\n",
       "      <td>12251.000000</td>\n",
       "      <td>12518.000000</td>\n",
       "      <td>13477.000000</td>\n",
       "      <td>14117.000000</td>\n",
       "      <td>14233.000000</td>\n",
       "      <td>13928.000000</td>\n",
       "      <td>15690.000000</td>\n",
       "      <td>15758.000000</td>\n",
       "      <td>14662.000000</td>\n",
       "      <td>14271.000000</td>\n",
       "      <td>13013.000000</td>\n",
       "      <td>12631.000000</td>\n",
       "      <td>2018</td>\n",
       "      <td>40-D932-34+900</td>\n",
       "    </tr>\n",
       "    <tr>\n",
       "      <th>19</th>\n",
       "      <td>pc_pl</td>\n",
       "      <td>12.499046</td>\n",
       "      <td>13.104558</td>\n",
       "      <td>12.881684</td>\n",
       "      <td>13.229676</td>\n",
       "      <td>13.499296</td>\n",
       "      <td>11.480232</td>\n",
       "      <td>11.930344</td>\n",
       "      <td>10.994518</td>\n",
       "      <td>12.385532</td>\n",
       "      <td>13.282294</td>\n",
       "      <td>13.273649</td>\n",
       "      <td>11.356085</td>\n",
       "      <td>2018</td>\n",
       "      <td>40-D932-34+900</td>\n",
       "    </tr>\n",
       "  </tbody>\n",
       "</table>\n",
       "</div>"
      ],
      "text/plain": [
       "   libelle          janv          fevr          mars           avr  \\\n",
       "18    tmja  12251.000000  12518.000000  13477.000000  14117.000000   \n",
       "19   pc_pl     12.499046     13.104558     12.881684     13.229676   \n",
       "\n",
       "             mai          juin          juil          aout          sept  \\\n",
       "18  14233.000000  13928.000000  15690.000000  15758.000000  14662.000000   \n",
       "19     13.499296     11.480232     11.930344     10.994518     12.385532   \n",
       "\n",
       "             oct           nov           dec annee      id_comptag  \n",
       "18  14271.000000  13013.000000  12631.000000  2018  40-D932-34+900  \n",
       "19     13.282294     13.273649     11.356085  2018  40-D932-34+900  "
      ]
     },
     "execution_count": 312,
     "metadata": {},
     "output_type": "execute_result"
    }
   ],
   "source": [
    "donnees"
   ]
  },
  {
   "cell_type": "code",
   "execution_count": 313,
   "metadata": {},
   "outputs": [],
   "source": [
    "cols=donnees.columns.tolist()\n",
    "cols_arrangees=cols[-1:]+cols[:1]+cols[-2:-1]+cols[1:-2]\n",
    "donnees=donnees[cols_arrangees]\n",
    "donnees.columns=['id_comptag','donnees_type','annee','janv','fevr','mars','avri','mai','juin','juil','aout','sept','octo','nove','dece']"
   ]
  },
  {
   "cell_type": "code",
   "execution_count": 7,
   "metadata": {},
   "outputs": [
    {
     "name": "stdout",
     "output_type": "stream",
     "text": [
      "('Pont',)\n",
      "('NC',)\n",
      "('Gué ou radier',)\n",
      "('Tunnel',)\n"
     ]
    }
   ],
   "source": [
    "with ct.ConnexionBdd('local_otv') as c : \n",
    "    c.curs.execute(\"select distinct franchisst from referentiel.troncon_route_bdt17_ed15_l\")\n",
    "    for record in c.curs : \n",
    "        print(record)"
   ]
  },
  {
   "cell_type": "code",
   "execution_count": null,
   "metadata": {},
   "outputs": [],
   "source": []
  }
 ],
 "metadata": {
  "kernelspec": {
   "display_name": "Python 3",
   "language": "python",
   "name": "python3"
  },
  "language_info": {
   "codemirror_mode": {
    "name": "ipython",
    "version": 3
   },
   "file_extension": ".py",
   "mimetype": "text/x-python",
   "name": "python",
   "nbconvert_exporter": "python",
   "pygments_lexer": "ipython3",
   "version": "3.7.2"
  }
 },
 "nbformat": 4,
 "nbformat_minor": 2
}
