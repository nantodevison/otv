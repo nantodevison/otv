{
 "cells": [
  {
   "cell_type": "code",
<<<<<<< HEAD
   "execution_count": 5,
=======
   "execution_count": 4,
>>>>>>> branch 'fonctions_dissociees' of https://github.com/nantodevison/otv
   "metadata": {},
   "outputs": [
    {
     "name": "stdout",
     "output_type": "stream",
     "text": [
      "The autoreload extension is already loaded. To reload it, use:\n",
      "  %reload_ext autoreload\n"
     ]
    }
   ],
   "source": [
    "%load_ext autoreload\n",
    "%autoreload 2\n",
    "import pandas as pd\n",
    "import sys, os\n",
<<<<<<< HEAD
    "sys.path.append(r'C:\\Users\\Martin\\git\\Outils\\Outils\\Martin_Perso')\n",
    "import Connexion_Transfert as ct"
=======
    "sys.path.append(r'C:\\Users\\martin.schoreisz\\git\\Outils\\Outils\\Martin_Perso')\n",
    "import Connexion_Transfert as ct\n",
    "import Outils as O"
>>>>>>> branch 'fonctions_dissociees' of https://github.com/nantodevison/otv
   ]
  },
  {
   "cell_type": "code",
   "execution_count": 6,
   "metadata": {},
   "outputs": [],
   "source": [
    "df=pd.read_excel(r\"Q:\\DAIT\\TI\\DREAL33\\2019\\C19SA0035_OTR-NA\\Doc_travail\\Donnees_source\\CD40\\Trafics 2018 Landes\\comptage_B152\\ST_AVIT\\040.2020.00\\B152\\2018 TV.xls\",\n",
    "             headers=None, skiprows=1)"
   ]
  },
  {
   "cell_type": "code",
   "execution_count": 12,
   "metadata": {},
   "outputs": [],
   "source": [
    "df2=df.dropna(how='all').dropna(axis=1,how='all')\n",
    "compteur='040.'+df2.loc[0,'Unnamed: 125'].split(' ')[1]\n",
    "vma=int(df2.loc[4,'Unnamed: 0'].split(' : ')[1][:2])\n",
    "voie=O.epurationNomRoute(df2.loc[4,'Unnamed: 141'].split(' ')[1])\n",
    "pr,absice=df2.loc[4,'Unnamed: 125'].split(' ')[1],df2.loc[4,'Unnamed: 125'].split(' ')[2]\n",
    "dep,gest, reseau,concession,type_poste,annee_cpt='40','CD40','D','N','permanent','2018'\n",
    "id_comptag=dep+'-'+voie+'-'+pr+'+'+absice\n",
    "tmja=df2.loc[18,'Unnamed: 107']\n",
    "pc_pl=df2.loc[19,'Unnamed: 107']"
   ]
  },
  {
   "cell_type": "code",
   "execution_count": 22,
   "metadata": {},
   "outputs": [],
   "source": [
    "donnees=df2.loc[[7,18,19],['Unnamed: 13', 'Unnamed: 23', 'Unnamed: 30',\n",
    "                   'Unnamed: 37', 'Unnamed: 44', 'Unnamed: 51', 'Unnamed: 58',\n",
    "                   'Unnamed: 65', 'Unnamed: 72', 'Unnamed: 79', 'Unnamed: 86',\n",
    "                   'Unnamed: 93', 'Unnamed: 100', 'Unnamed: 107']].dropna(axis=1,how='all')\n",
    "    #renommer les colonnes\n",
    "donnees.columns=[element.replace('é','e').replace('.','').lower() for element in list(donnees.loc[7])]\n",
    "    #remplacer l'annee en string et ne conserver \n",
    "donnees=donnees.drop(7).replace(['D.Moy.Jour', '% PL'],['tmja','pc_pl'])\n",
    "    #inserer les valeusr qui vont bien\n",
    "donnees['annee']='2018'\n",
    "donnees['id_comptag']=id_comptag"
   ]
  },
  {
   "cell_type": "code",
   "execution_count": 23,
   "metadata": {},
   "outputs": [],
   "source": [
    "cols=donnees.columns.tolist()\n",
    "cols_arrangees=cols[-1:]+cols[:1]+cols[-2:-1]+cols[1:-2]\n",
    "donnees=donnees[cols_arrangees]\n",
    "donnees.columns=['id_comptag','donnees_type','annee','janv','fevr','mars','avri','mai','juin','juil','aout','sept','octo','nove','dece']"
   ]
  },
  {
   "cell_type": "code",
<<<<<<< HEAD
   "execution_count": 7,
=======
   "execution_count": 24,
>>>>>>> branch 'fonctions_dissociees' of https://github.com/nantodevison/otv
   "metadata": {},
   "outputs": [
    {
     "name": "stdout",
     "output_type": "stream",
     "text": [
<<<<<<< HEAD
      "('Pont',)\n",
      "('NC',)\n",
      "('Gué ou radier',)\n",
      "('Tunnel',)\n"
=======
      "dedans\n"
>>>>>>> branch 'fonctions_dissociees' of https://github.com/nantodevison/otv
     ]
    }
   ],
   "source": [
    "with ct.ConnexionBdd('local_otv') as c : \n",
<<<<<<< HEAD
    "    c.curs.execute(\"select distinct franchisst from referentiel.troncon_route_bdt17_ed15_l\")\n",
    "    for record in c.curs : \n",
    "        print(record)"
=======
    "    donnees.to_sql('na_2010_2017_mensuel', c.sqlAlchemyConn,schema='comptage',if_exists='append',index=False)\n",
    "    c.curs.execute(\"select distinct id_comptag from comptage.na_2010_2017\")\n",
    "    if id_comptag in [record[0] for record in c.curs] : \n",
    "        print('dedans')\n",
    "        \"\"\"\n",
    "            c.curs.execute(\"update comptage.na_2010_2017 set tmja_2018=%s, pc_pl_2018=%s,id_cpt=%s  where id_comptag=%s\",(tmja, pc_pl,compteur,id_comptag))\n",
    "            c.connexionPsy.commit()\"\"\""
>>>>>>> branch 'fonctions_dissociees' of https://github.com/nantodevison/otv
   ]
  },
  {
   "cell_type": "code",
   "execution_count": null,
   "metadata": {},
   "outputs": [],
   "source": []
  }
 ],
 "metadata": {
  "kernelspec": {
   "display_name": "Python 3",
   "language": "python",
   "name": "python3"
  },
  "language_info": {
   "codemirror_mode": {
    "name": "ipython",
    "version": 3
   },
   "file_extension": ".py",
   "mimetype": "text/x-python",
   "name": "python",
   "nbconvert_exporter": "python",
   "pygments_lexer": "ipython3",
   "version": "3.7.2"
  }
 },
 "nbformat": 4,
 "nbformat_minor": 2
}
