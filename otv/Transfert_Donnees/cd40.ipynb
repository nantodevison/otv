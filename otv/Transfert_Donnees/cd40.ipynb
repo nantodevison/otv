{
 "cells": [
  {
   "cell_type": "markdown",
   "metadata": {},
   "source": [
    "# Import des données CD40 dans gti_otv"
   ]
  },
  {
   "cell_type": "code",
   "execution_count": 7,
   "metadata": {},
   "outputs": [],
   "source": [
    "%load_ext autoreload\n",
    "%autoreload 2\n",
    "import sys\n",
    "sys.path.append(r'C:\\Users\\martin.schoreisz\\git\\otv\\otv\\Transfert_Donnees')\n",
    "sys.path.append(r'C:\\Users\\martin.schoreisz\\git\\Outils\\Outils\\Martin_Perso')\n",
    "import cd40"
   ]
  },
  {
   "cell_type": "code",
   "execution_count": 20,
   "metadata": {},
   "outputs": [
    {
     "name": "stdout",
     "output_type": "stream",
     "text": [
      "update Q:\\DAIT\\TI\\DREAL33\\2019\\C19SA0035_OTR-NA\\Doc_travail\\Donnees_source\\CD40\\Trafics 2018 Landes\\comptage_B152\\ST_AVIT\\040.2020.00\\B1522018 TV.xls\n",
      "update Q:\\DAIT\\TI\\DREAL33\\2019\\C19SA0035_OTR-NA\\Doc_travail\\Donnees_source\\CD40\\Trafics 2018 Landes\\comptage_B152\\VIEUXBOUCAU\\040.2057.00\\B1522018 TV.xls\n",
      "update Q:\\DAIT\\TI\\DREAL33\\2019\\C19SA0035_OTR-NA\\Doc_travail\\Donnees_source\\CD40\\Trafics 2018 Landes\\comptage_B152\\LANGEOT\\040.2054.00\\B1522018 TV.xls\n",
      "update Q:\\DAIT\\TI\\DREAL33\\2019\\C19SA0035_OTR-NA\\Doc_travail\\Donnees_source\\CD40\\Trafics 2018 Landes\\comptage_B152\\DAX\\040.0947.00\\B1522018 TV.xls\n",
      "update Q:\\DAIT\\TI\\DREAL33\\2019\\C19SA0035_OTR-NA\\Doc_travail\\Donnees_source\\CD40\\Trafics 2018 Landes\\comptage_B152\\HAUTMAUCO\\040.2028.00\\B1522018 TV.xls\n",
      "update Q:\\DAIT\\TI\\DREAL33\\2019\\C19SA0035_OTR-NA\\Doc_travail\\Donnees_source\\CD40\\Trafics 2018 Landes\\comptage_B152\\SORE\\040.0734.00\\B1522018 TV.xls\n",
      "update Q:\\DAIT\\TI\\DREAL33\\2019\\C19SA0035_OTR-NA\\Doc_travail\\Donnees_source\\CD40\\Trafics 2018 Landes\\comptage_B152\\SANGUINET\\040.3700.00\\B1522018 TV.xls\n",
      "insert Q:\\DAIT\\TI\\DREAL33\\2019\\C19SA0035_OTR-NA\\Doc_travail\\Donnees_source\\CD40\\Trafics 2018 Landes\\comptage_B152\\MEES\\040.0035.00\\B1522018 TV.xls\n",
      "update Q:\\DAIT\\TI\\DREAL33\\2019\\C19SA0035_OTR-NA\\Doc_travail\\Donnees_source\\CD40\\Trafics 2018 Landes\\comptage_B152\\AUREILHAN\\040.2101.00\\B1522018 TV.xls\n",
      "update Q:\\DAIT\\TI\\DREAL33\\2019\\C19SA0035_OTR-NA\\Doc_travail\\Donnees_source\\CD40\\Trafics 2018 Landes\\comptage_B152\\CASTAIGNOS\\040.2093.00\\B1522018 TV.xls\n",
      "update Q:\\DAIT\\TI\\DREAL33\\2019\\C19SA0035_OTR-NA\\Doc_travail\\Donnees_source\\CD40\\Trafics 2018 Landes\\comptage_B152\\SOUSTRAS\\040.2028.16\\B1522018 TV.xls\n",
      "update Q:\\DAIT\\TI\\DREAL33\\2019\\C19SA0035_OTR-NA\\Doc_travail\\Donnees_source\\CD40\\Trafics 2018 Landes\\comptage_B152\\MAZEROLLES\\040.0523.00\\B1522018 TV.xls\n",
      "update Q:\\DAIT\\TI\\DREAL33\\2019\\C19SA0035_OTR-NA\\Doc_travail\\Donnees_source\\CD40\\Trafics 2018 Landes\\comptage_B152\\STPAULLESDAX\\040.0016.02\\B1522018 TV.xls\n",
      "update Q:\\DAIT\\TI\\DREAL33\\2019\\C19SA0035_OTR-NA\\Doc_travail\\Donnees_source\\CD40\\Trafics 2018 Landes\\comptage_B152\\GRENADE\\040.0025.00\\B1522018 TV.xls\n",
      "update Q:\\DAIT\\TI\\DREAL33\\2019\\C19SA0035_OTR-NA\\Doc_travail\\Donnees_source\\CD40\\Trafics 2018 Landes\\comptage_B152\\POURIN\\040.0044.00\\B1522018 TV.xls\n",
      "update Q:\\DAIT\\TI\\DREAL33\\2019\\C19SA0035_OTR-NA\\Doc_travail\\Donnees_source\\CD40\\Trafics 2018 Landes\\comptage_B152\\PILAT\\040.0597.00\\B1522018 TV.xls\n",
      "update Q:\\DAIT\\TI\\DREAL33\\2019\\C19SA0035_OTR-NA\\Doc_travail\\Donnees_source\\CD40\\Trafics 2018 Landes\\comptage_B152\\PEY\\040.0542.00\\B1522018 TV.xls\n",
      "update Q:\\DAIT\\TI\\DREAL33\\2019\\C19SA0035_OTR-NA\\Doc_travail\\Donnees_source\\CD40\\Trafics 2018 Landes\\comptage_B152\\CAPBRETON\\040.2558.00\\B1522018 TV.xls\n",
      "update Q:\\DAIT\\TI\\DREAL33\\2019\\C19SA0035_OTR-NA\\Doc_travail\\Donnees_source\\CD40\\Trafics 2018 Landes\\comptage_B152\\AIRE\\040.0022.00\\B1522018 TV.xls\n",
      "update Q:\\DAIT\\TI\\DREAL33\\2019\\C19SA0035_OTR-NA\\Doc_travail\\Donnees_source\\CD40\\Trafics 2018 Landes\\comptage_B152\\ONESSE\\040.0038.45\\B1522018 TV.xls\n",
      "insert Q:\\DAIT\\TI\\DREAL33\\2019\\C19SA0035_OTR-NA\\Doc_travail\\Donnees_source\\CD40\\Trafics 2018 Landes\\comptage_B152\\MONTALMA\\040.2023.00\\B1522018 TV.xls\n",
      "update Q:\\DAIT\\TI\\DREAL33\\2019\\C19SA0035_OTR-NA\\Doc_travail\\Donnees_source\\CD40\\Trafics 2018 Landes\\comptage_B152\\MARCADE\\040.0029.00\\B1522018 TV.xls\n",
      "update Q:\\DAIT\\TI\\DREAL33\\2019\\C19SA0035_OTR-NA\\Doc_travail\\Donnees_source\\CD40\\Trafics 2018 Landes\\comptage_B152\\MIMBASTE\\040.2044.00\\B1522018 TV.xls\n",
      "update Q:\\DAIT\\TI\\DREAL33\\2019\\C19SA0035_OTR-NA\\Doc_travail\\Donnees_source\\CD40\\Trafics 2018 Landes\\comptage_B152\\TARNOS\\040.0085.04\\B1522018 TV.xls\n",
      "update Q:\\DAIT\\TI\\DREAL33\\2019\\C19SA0035_OTR-NA\\Doc_travail\\Donnees_source\\CD40\\Trafics 2018 Landes\\comptage_B152\\PILLELARDIT\\040.2091.00\\B1522018 TV.xls\n",
      "update Q:\\DAIT\\TI\\DREAL33\\2019\\C19SA0035_OTR-NA\\Doc_travail\\Donnees_source\\CD40\\Trafics 2018 Landes\\comptage_B152\\PARENTIS\\040.2072.00\\B1522018 TV.xls\n",
      "insert Q:\\DAIT\\TI\\DREAL33\\2019\\C19SA0035_OTR-NA\\Doc_travail\\Donnees_source\\CD40\\Trafics 2018 Landes\\comptage_B152\\XAIMTRAILLES\\040.2028.13\\B1522018 TV.xls\n",
      "update Q:\\DAIT\\TI\\DREAL33\\2019\\C19SA0035_OTR-NA\\Doc_travail\\Donnees_source\\CD40\\Trafics 2018 Landes\\comptage_B152\\ST_GEOURS\\040.0810.90\\B1522018 TV.xls\n",
      "update Q:\\DAIT\\TI\\DREAL33\\2019\\C19SA0035_OTR-NA\\Doc_travail\\Donnees_source\\CD40\\Trafics 2018 Landes\\comptage_B152\\LIPOSTHEY\\040.0340.00\\B1522018 TV.xls\n",
      "update Q:\\DAIT\\TI\\DREAL33\\2019\\C19SA0035_OTR-NA\\Doc_travail\\Donnees_source\\CD40\\Trafics 2018 Landes\\comptage_B152\\TYROSSE\\040.0810.97\\B1522018 TV.xls\n",
      "update Q:\\DAIT\\TI\\DREAL33\\2019\\C19SA0035_OTR-NA\\Doc_travail\\Donnees_source\\CD40\\Trafics 2018 Landes\\comptage_B152\\SAINT MARTIN DE SEIGNANX\\040.0085.11\\B1522018 TV.xls\n",
      "update Q:\\DAIT\\TI\\DREAL33\\2019\\C19SA0035_OTR-NA\\Doc_travail\\Donnees_source\\CD40\\Trafics 2018 Landes\\comptage_B152\\UCHACQ\\040.0040.00\\B1522018 TV.xls\n",
      "update Q:\\DAIT\\TI\\DREAL33\\2019\\C19SA0035_OTR-NA\\Doc_travail\\Donnees_source\\CD40\\Trafics 2018 Landes\\comptage_B152\\LES_ARBOUTS\\040.2595.00\\B1522018 TV.xls\n",
      "update Q:\\DAIT\\TI\\DREAL33\\2019\\C19SA0035_OTR-NA\\Doc_travail\\Donnees_source\\CD40\\Trafics 2018 Landes\\comptage_B152\\LE_TREMA\\040.0023.00\\B1522018 TV.xls\n",
      "update Q:\\DAIT\\TI\\DREAL33\\2019\\C19SA0035_OTR-NA\\Doc_travail\\Donnees_source\\CD40\\Trafics 2018 Landes\\comptage_B152\\SAUGNACQ\\040.0036.00\\B1522018 TV.xls\n",
      "update Q:\\DAIT\\TI\\DREAL33\\2019\\C19SA0035_OTR-NA\\Doc_travail\\Donnees_source\\CD40\\Trafics 2018 Landes\\comptage_B152\\MIMIZAN\\040.0652.50\\B1522018 TV.xls\n",
      "update Q:\\DAIT\\TI\\DREAL33\\2019\\C19SA0035_OTR-NA\\Doc_travail\\Donnees_source\\CD40\\Trafics 2018 Landes\\comptage_B152\\HAGETMAU\\040.2092.00\\B1522018 TV.xls\n",
      "update Q:\\DAIT\\TI\\DREAL33\\2019\\C19SA0035_OTR-NA\\Doc_travail\\Donnees_source\\CD40\\Trafics 2018 Landes\\comptage_B152\\SOUSTONS\\040.0001.00\\B1522018 TV.xls\n",
      "update Q:\\DAIT\\TI\\DREAL33\\2019\\C19SA0035_OTR-NA\\Doc_travail\\Donnees_source\\CD40\\Trafics 2018 Landes\\comptage_B152\\MORCENX\\040.0038.39\\B1522018 TV.xls\n",
      "update Q:\\DAIT\\TI\\DREAL33\\2019\\C19SA0035_OTR-NA\\Doc_travail\\Donnees_source\\CD40\\Trafics 2018 Landes\\comptage_B152\\CASTETS\\040.2041.00\\B1522018 TV.xls\n",
      "update Q:\\DAIT\\TI\\DREAL33\\2019\\C19SA0035_OTR-NA\\Doc_travail\\Donnees_source\\CD40\\Trafics 2018 Landes\\comptage_B152\\BENESSE\\040.0810.99\\B1522018 TV.xls\n",
      "update Q:\\DAIT\\TI\\DREAL33\\2019\\C19SA0035_OTR-NA\\Doc_travail\\Donnees_source\\CD40\\Trafics 2018 Landes\\comptage_B152\\BIAUDOS\\040.0020.00\\B1522018 TV.xls\n",
      "update Q:\\DAIT\\TI\\DREAL33\\2019\\C19SA0035_OTR-NA\\Doc_travail\\Donnees_source\\CD40\\Trafics 2018 Landes\\comptage_B152\\RETJONS\\040.2018.00\\B1522018 TV.xls\n",
      "update Q:\\DAIT\\TI\\DREAL33\\2019\\C19SA0035_OTR-NA\\Doc_travail\\Donnees_source\\CD40\\Trafics 2018 Landes\\comptage_B152\\LUBBON\\040.2068.00\\B1522018 TV.xls\n",
      "update Q:\\DAIT\\TI\\DREAL33\\2019\\C19SA0035_OTR-NA\\Doc_travail\\Donnees_source\\CD40\\Trafics 2018 Landes\\comptage_B152\\CAMPET\\040.0038.06\\B1522018 TV.xls\n",
      "update Q:\\DAIT\\TI\\DREAL33\\2019\\C19SA0035_OTR-NA\\Doc_travail\\Donnees_source\\CD40\\Trafics 2018 Landes\\comptage_B152\\PONTONXM\\040.0032.00\\B1522018 TV.xls\n",
      "update Q:\\DAIT\\TI\\DREAL33\\2019\\C19SA0035_OTR-NA\\Doc_travail\\Donnees_source\\CD40\\Trafics 2018 Landes\\comptage_B152\\SABRES\\040.0834.34\\B1522018 TV.xls\n",
      "update Q:\\DAIT\\TI\\DREAL33\\2019\\C19SA0035_OTR-NA\\Doc_travail\\Donnees_source\\CD40\\Trafics 2018 Landes\\comptage_B152\\POUSTAGNAC\\040.0033.01\\B1522018 TV.xls\n"
     ]
    }
   ],
   "source": [
    "cd40.import_comptage_2018()"
   ]
  },
  {
   "cell_type": "code",
   "execution_count": null,
   "metadata": {},
   "outputs": [],
   "source": []
  }
 ],
 "metadata": {
  "kernelspec": {
   "display_name": "Python 3",
   "language": "python",
   "name": "python3"
  },
  "language_info": {
   "codemirror_mode": {
    "name": "ipython",
    "version": 3
   },
   "file_extension": ".py",
   "mimetype": "text/x-python",
   "name": "python",
   "nbconvert_exporter": "python",
   "pygments_lexer": "ipython3",
   "version": "3.7.0"
  }
 },
 "nbformat": 4,
 "nbformat_minor": 2
}
