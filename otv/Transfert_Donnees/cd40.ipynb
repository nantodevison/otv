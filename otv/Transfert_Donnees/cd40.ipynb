{
 "cells": [
  {
   "cell_type": "markdown",
   "metadata": {},
   "source": [
    "# Import des données CD40 dans gti_otv"
   ]
  },
  {
   "cell_type": "code",
   "execution_count": 4,
   "metadata": {},
   "outputs": [],
   "source": [
    "import sys\n",
    "sys.path.append(r'C:\\Users\\martin.schoreisz\\git\\otv\\otv\\Transfert_Donnees')\n",
    "sys.path.append(r'C:\\Users\\martin.schoreisz\\git\\Outils\\Outils\\Martin_Perso')\n",
    "import cd40"
   ]
  },
  {
   "cell_type": "code",
   "execution_count": 5,
   "metadata": {},
   "outputs": [
    {
     "name": "stdout",
     "output_type": "stream",
     "text": [
      "Q:\\DAIT\\TI\\DREAL33\\2019\\C19SA0035_OTR-NA\\Doc_travail\\Donnees_source\\CD40\\Trafics 2018 Landes\\comptage_B152\\ST_AVIT\\040.2020.00\\B152 2018 TV.xls\n"
     ]
    },
    {
     "ename": "ProgrammingError",
     "evalue": "ERREUR:  la colonne « tmja_2018 » de la relation « na_2010_2017_p » n'existe pas\nLINE 1: update comptage.na_2010_2017_p set tmja_2018=13890, pc_pl_20...\n                                           ^\n",
     "output_type": "error",
     "traceback": [
      "\u001b[1;31m---------------------------------------------------------------------------\u001b[0m",
      "\u001b[1;31mProgrammingError\u001b[0m                          Traceback (most recent call last)",
      "\u001b[1;32m<ipython-input-5-2098c2a8d036>\u001b[0m in \u001b[0;36m<module>\u001b[1;34m\u001b[0m\n\u001b[1;32m----> 1\u001b[1;33m \u001b[0mcd40\u001b[0m\u001b[1;33m.\u001b[0m\u001b[0mimport_comptage_2018\u001b[0m\u001b[1;33m(\u001b[0m\u001b[1;33m)\u001b[0m\u001b[1;33m\u001b[0m\u001b[0m\n\u001b[0m",
      "\u001b[1;32m~\\git\\otv\\otv\\Transfert_Donnees\\cd40.py\u001b[0m in \u001b[0;36mimport_comptage_2018\u001b[1;34m()\u001b[0m\n\u001b[0;32m     61\u001b[0m                     \u001b[0mc\u001b[0m\u001b[1;33m.\u001b[0m\u001b[0mcurs\u001b[0m\u001b[1;33m.\u001b[0m\u001b[0mexecute\u001b[0m\u001b[1;33m(\u001b[0m\u001b[1;34m\"select distinct id_comptag from comptage.na_2010_2017_p\"\u001b[0m\u001b[1;33m)\u001b[0m\u001b[1;33m\u001b[0m\u001b[0m\n\u001b[0;32m     62\u001b[0m                     \u001b[1;32mif\u001b[0m \u001b[0mid_comptag\u001b[0m \u001b[1;32min\u001b[0m \u001b[1;33m[\u001b[0m\u001b[0mrecord\u001b[0m\u001b[1;33m[\u001b[0m\u001b[1;36m0\u001b[0m\u001b[1;33m]\u001b[0m \u001b[1;32mfor\u001b[0m \u001b[0mrecord\u001b[0m \u001b[1;32min\u001b[0m \u001b[0mc\u001b[0m\u001b[1;33m.\u001b[0m\u001b[0mcurs\u001b[0m\u001b[1;33m]\u001b[0m \u001b[1;33m:\u001b[0m\u001b[1;33m\u001b[0m\u001b[0m\n\u001b[1;32m---> 63\u001b[1;33m                         \u001b[0mc\u001b[0m\u001b[1;33m.\u001b[0m\u001b[0mcurs\u001b[0m\u001b[1;33m.\u001b[0m\u001b[0mexecute\u001b[0m\u001b[1;33m(\u001b[0m\u001b[1;34m\"update comptage.na_2010_2017_p set tmja_2018=%s, pc_pl_2018=%s, id_cpt=%s, ann_cpt=%s where id_comptag=%s\"\u001b[0m\u001b[1;33m,\u001b[0m\u001b[1;33m(\u001b[0m\u001b[0mtmja\u001b[0m\u001b[1;33m,\u001b[0m \u001b[0mpc_pl\u001b[0m\u001b[1;33m,\u001b[0m\u001b[0mcompteur\u001b[0m\u001b[1;33m,\u001b[0m\u001b[0mannee_cpt\u001b[0m\u001b[1;33m,\u001b[0m\u001b[0mid_comptag\u001b[0m\u001b[1;33m)\u001b[0m\u001b[1;33m)\u001b[0m\u001b[1;33m\u001b[0m\u001b[0m\n\u001b[0m\u001b[0;32m     64\u001b[0m                     \u001b[1;32melse\u001b[0m \u001b[1;33m:\u001b[0m\u001b[1;33m\u001b[0m\u001b[0m\n\u001b[0;32m     65\u001b[0m                         \u001b[0mc\u001b[0m\u001b[1;33m.\u001b[0m\u001b[0mcurs\u001b[0m\u001b[1;33m.\u001b[0m\u001b[0mexecute\u001b[0m\u001b[1;33m(\u001b[0m\u001b[1;34m\"insert into comptage.na_2010_2017_p (id_comptag, dep, route, pr, abs, reseau, gestionnai, concession,type_poste, id_cpt, ann_cpt, tmja_2018, pc_pl_2018) values (%s,%s,%s,%s,%s,%s,%s,%s,%s,%s,%s,%s,%s)\"\u001b[0m\u001b[1;33m,\u001b[0m\u001b[1;33m(\u001b[0m\u001b[0mid_comptag\u001b[0m\u001b[1;33m,\u001b[0m\u001b[0mdep\u001b[0m\u001b[1;33m,\u001b[0m\u001b[0mvoie\u001b[0m\u001b[1;33m,\u001b[0m\u001b[0mpr\u001b[0m\u001b[1;33m,\u001b[0m\u001b[0mabsice\u001b[0m\u001b[1;33m,\u001b[0m\u001b[0mreseau\u001b[0m\u001b[1;33m,\u001b[0m\u001b[0mgest\u001b[0m\u001b[1;33m,\u001b[0m\u001b[0mconcession\u001b[0m\u001b[1;33m,\u001b[0m\u001b[0mtype_poste\u001b[0m\u001b[1;33m,\u001b[0m\u001b[0mcompteur\u001b[0m\u001b[1;33m,\u001b[0m\u001b[0mannee_cpt\u001b[0m\u001b[1;33m,\u001b[0m \u001b[0mtmja\u001b[0m\u001b[1;33m,\u001b[0m \u001b[0mpc_pl\u001b[0m\u001b[1;33m)\u001b[0m\u001b[1;33m)\u001b[0m\u001b[1;33m\u001b[0m\u001b[0m\n",
      "\u001b[1;31mProgrammingError\u001b[0m: ERREUR:  la colonne « tmja_2018 » de la relation « na_2010_2017_p » n'existe pas\nLINE 1: update comptage.na_2010_2017_p set tmja_2018=13890, pc_pl_20...\n                                           ^\n"
     ]
    }
   ],
   "source": [
    "cd40.import_comptage_2018()"
   ]
  },
  {
   "cell_type": "code",
   "execution_count": null,
   "metadata": {},
   "outputs": [],
   "source": []
  }
 ],
 "metadata": {
  "kernelspec": {
   "display_name": "Python 3",
   "language": "python",
   "name": "python3"
  },
  "language_info": {
   "codemirror_mode": {
    "name": "ipython",
    "version": 3
   },
   "file_extension": ".py",
   "mimetype": "text/x-python",
   "name": "python",
   "nbconvert_exporter": "python",
   "pygments_lexer": "ipython3",
   "version": "3.7.0"
  }
 },
 "nbformat": 4,
 "nbformat_minor": 2
}
